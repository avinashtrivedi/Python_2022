{
 "cells": [
  {
   "cell_type": "code",
   "execution_count": 2,
   "id": "de285dd3",
   "metadata": {},
   "outputs": [],
   "source": [
    "# https://stackoverflow.com/questions/47743246/getting-timestamp-of-each-frame-in-a-video"
   ]
  },
  {
   "cell_type": "code",
   "execution_count": 1,
   "id": "fdcfeda4",
   "metadata": {},
   "outputs": [],
   "source": [
    "# https://stackoverflow.com/questions/33311153/python-extracting-and-saving-video-frames"
   ]
  },
  {
   "cell_type": "code",
   "execution_count": null,
   "id": "dc7aa6c3",
   "metadata": {},
   "outputs": [],
   "source": []
  }
 ],
 "metadata": {
  "kernelspec": {
   "display_name": "Python 3 (ipykernel)",
   "language": "python",
   "name": "python3"
  },
  "language_info": {
   "codemirror_mode": {
    "name": "ipython",
    "version": 3
   },
   "file_extension": ".py",
   "mimetype": "text/x-python",
   "name": "python",
   "nbconvert_exporter": "python",
   "pygments_lexer": "ipython3",
   "version": "3.8.5"
  }
 },
 "nbformat": 4,
 "nbformat_minor": 5
}
