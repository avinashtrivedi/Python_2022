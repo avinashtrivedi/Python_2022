{
 "cells": [
  {
   "cell_type": "code",
   "execution_count": 18,
   "id": "5833f50f",
   "metadata": {},
   "outputs": [],
   "source": [
    "class Circle:\n",
    "    pi = 3.14\n",
    "\n",
    "    # Circle gets instantiated with a radius (default is 1)\n",
    "    def __init__(self, radius=1):\n",
    "        self.__newvar = 'Hello , i am private'\n",
    "        self.radius = radius \n",
    "        self.area = radius * radius * Circle.pi\n",
    "\n",
    "    # Method for resetting Radius\n",
    "    def setRadius(self, new_radius):\n",
    "        self.radius = new_radius\n",
    "        self.area = new_radius * new_radius * self.pi\n",
    "\n",
    "    # Method for getting Circumference\n",
    "    def getCircumference(self):\n",
    "        print(self.__newvar)\n",
    "        return self.radius * self.pi * 2\n",
    "\n",
    "\n",
    "# c = Circle()\n",
    "\n",
    "# print('Radius is: ',c.radius)\n",
    "# print('Area is: ',c.area)\n",
    "# print('Circumference is: ',c.getCircumference())"
   ]
  },
  {
   "cell_type": "code",
   "execution_count": 19,
   "id": "5dba42de",
   "metadata": {},
   "outputs": [],
   "source": [
    "obj = Circle()"
   ]
  },
  {
   "cell_type": "code",
   "execution_count": 20,
   "id": "de4a8525",
   "metadata": {},
   "outputs": [
    {
     "data": {
      "text/plain": [
       "3.14"
      ]
     },
     "execution_count": 20,
     "metadata": {},
     "output_type": "execute_result"
    }
   ],
   "source": [
    "obj.pi"
   ]
  },
  {
   "cell_type": "code",
   "execution_count": 21,
   "id": "de60c84c",
   "metadata": {},
   "outputs": [
    {
     "data": {
      "text/plain": [
       "1"
      ]
     },
     "execution_count": 21,
     "metadata": {},
     "output_type": "execute_result"
    }
   ],
   "source": [
    "obj.radius"
   ]
  },
  {
   "cell_type": "code",
   "execution_count": 22,
   "id": "2b0f1597",
   "metadata": {},
   "outputs": [
    {
     "name": "stdout",
     "output_type": "stream",
     "text": [
      "Hello , i am private\n"
     ]
    },
    {
     "data": {
      "text/plain": [
       "6.28"
      ]
     },
     "execution_count": 22,
     "metadata": {},
     "output_type": "execute_result"
    }
   ],
   "source": [
    "obj.getCircumference()"
   ]
  },
  {
   "cell_type": "code",
   "execution_count": null,
   "id": "25bd7516",
   "metadata": {},
   "outputs": [],
   "source": [
    "obj."
   ]
  },
  {
   "cell_type": "code",
   "execution_count": 17,
   "id": "1056c086",
   "metadata": {},
   "outputs": [],
   "source": [
    "obj.setRadius(10)"
   ]
  },
  {
   "cell_type": "code",
   "execution_count": 9,
   "id": "275f9014",
   "metadata": {},
   "outputs": [
    {
     "data": {
      "text/plain": [
       "10"
      ]
     },
     "execution_count": 9,
     "metadata": {},
     "output_type": "execute_result"
    }
   ],
   "source": [
    "obj.radius"
   ]
  },
  {
   "cell_type": "code",
   "execution_count": 10,
   "id": "f90e1e95",
   "metadata": {},
   "outputs": [
    {
     "data": {
      "text/plain": [
       "62.800000000000004"
      ]
     },
     "execution_count": 10,
     "metadata": {},
     "output_type": "execute_result"
    }
   ],
   "source": [
    "obj.getCircumference()"
   ]
  },
  {
   "cell_type": "code",
   "execution_count": null,
   "id": "ee5059e7",
   "metadata": {},
   "outputs": [],
   "source": []
  }
 ],
 "metadata": {
  "kernelspec": {
   "display_name": "Python 3 (ipykernel)",
   "language": "python",
   "name": "python3"
  },
  "language_info": {
   "codemirror_mode": {
    "name": "ipython",
    "version": 3
   },
   "file_extension": ".py",
   "mimetype": "text/x-python",
   "name": "python",
   "nbconvert_exporter": "python",
   "pygments_lexer": "ipython3",
   "version": "3.9.12"
  }
 },
 "nbformat": 4,
 "nbformat_minor": 5
}
