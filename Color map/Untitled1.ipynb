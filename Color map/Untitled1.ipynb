{
 "cells": [
  {
   "cell_type": "code",
   "execution_count": 14,
   "metadata": {},
   "outputs": [],
   "source": [
    "class Mascot:\n",
    "    \"\"\" \n",
    "    Creates a simple Mascot class with 1 class attribute (type)\n",
    "    and 3 instance attributes (color, nickname, event)\n",
    "    >>> mascot1 = Mascot(\"black and white\", \"Bing Dwen Dwen\", \"Olympic Games\")\n",
    "    >>> Mascot.brings\n",
    "    'Luck'\n",
    "    >>> mascot1.color\n",
    "    'black and white'\n",
    "    >>> mascot1.sing_song(\"Together for a shared future\")\n",
    "    \"Bing Dwen Dwen sings 'Together for a shared future' at Olympic Games\"\n",
    "    >>> mascot1.change_nickname(\"Puff Puff\")\n",
    "    >>> mascot1.nickname\n",
    "    'Puff Puff'\n",
    "    >>> mascot1.event\n",
    "    'Olympic Games'\n",
    "\n",
    "    >>> mascot2 = Mascot(\"brown\", \"Mishka\", \"Olympic Games\")\n",
    "    >>> Mascot.brings\n",
    "    'Luck'\n",
    "    >>> mascot2.color\n",
    "    'brown'\n",
    "    >>> mascot2.sing_song(\"Goodbye, Moscow!\")\n",
    "    \"Mishka sings 'Goodbye, Moscow!' at Olympic Games\"\n",
    "    >>> mascot2.change_nickname(\"The Olympic Mishka\")\n",
    "    >>> mascot2.nickname\n",
    "    'The Olympic Mishka'\n",
    "    \"\"\"\n",
    "    brings = 'Luck'\n",
    "    \n",
    "    # Initializer (Constructor) / Instance Attributes\n",
    "    def __init__(self, color, nickname, event):\n",
    "        self.color = color\n",
    "        self.nickname = nickname\n",
    "        self.event = event\n",
    "\n",
    "    def sing_song(self, song):\n",
    "        return self.nickname +' sings ' + \"'\"+song+\"'\" + ' at ' + self.event\n",
    "\n",
    "    def change_nickname (self, new_name):\n",
    "        self.nickname = new_name"
   ]
  },
  {
   "cell_type": "code",
   "execution_count": 15,
   "metadata": {},
   "outputs": [],
   "source": [
    "mascot1 = Mascot(\"black and white\", \"Bing Dwen Dwen\", \"Olympic Games\")"
   ]
  },
  {
   "cell_type": "code",
   "execution_count": 3,
   "metadata": {},
   "outputs": [
    {
     "data": {
      "text/plain": [
       "'Luck'"
      ]
     },
     "execution_count": 3,
     "metadata": {},
     "output_type": "execute_result"
    }
   ],
   "source": [
    "Mascot.brings"
   ]
  },
  {
   "cell_type": "code",
   "execution_count": 4,
   "metadata": {},
   "outputs": [
    {
     "data": {
      "text/plain": [
       "'black and white'"
      ]
     },
     "execution_count": 4,
     "metadata": {},
     "output_type": "execute_result"
    }
   ],
   "source": [
    "mascot1.color"
   ]
  },
  {
   "cell_type": "code",
   "execution_count": 16,
   "metadata": {},
   "outputs": [
    {
     "data": {
      "text/plain": [
       "\"Bing Dwen Dwen sings 'Together for a shared future' at Olympic Games\""
      ]
     },
     "execution_count": 16,
     "metadata": {},
     "output_type": "execute_result"
    }
   ],
   "source": [
    "mascot1.sing_song(\"Together for a shared future\")"
   ]
  },
  {
   "cell_type": "code",
   "execution_count": 9,
   "metadata": {},
   "outputs": [],
   "source": [
    "mascot1.change_nickname(\"Puff Puff\")"
   ]
  },
  {
   "cell_type": "code",
   "execution_count": 10,
   "metadata": {},
   "outputs": [
    {
     "data": {
      "text/plain": [
       "'Puff Puff'"
      ]
     },
     "execution_count": 10,
     "metadata": {},
     "output_type": "execute_result"
    }
   ],
   "source": [
    "mascot1.nickname"
   ]
  },
  {
   "cell_type": "code",
   "execution_count": null,
   "metadata": {},
   "outputs": [],
   "source": []
  },
  {
   "cell_type": "code",
   "execution_count": null,
   "metadata": {},
   "outputs": [],
   "source": []
  },
  {
   "cell_type": "code",
   "execution_count": null,
   "metadata": {},
   "outputs": [],
   "source": []
  },
  {
   "cell_type": "code",
   "execution_count": 101,
   "metadata": {},
   "outputs": [],
   "source": [
    "class Winter_Olympics:\n",
    "    \"\"\"\n",
    "    Creates a class with 1 class attribute and two class methods\n",
    "    \n",
    "    >>> Winter_Olympics = Winter_Olympics()\n",
    "    >>> Winter_Olympics.mascot\n",
    "    'Bing Dwen Dwen'\n",
    "    >>> Winter_Olympics.starts()\n",
    "    'Friday, February 4'\n",
    "    >>> Winter_Olympics.ends()\n",
    "    'Sunday, February 20'\n",
    "    \"\"\"\n",
    "    mascot = 'Bing Dwen Dwen'\n",
    "    \n",
    "    def starts():\n",
    "        return 'Friday, February 4'\n",
    "    \n",
    "    def ends():\n",
    "        return 'Sunday, February 20'\n",
    "        \n",
    "    # YOUR CODE GOES HERE #"
   ]
  },
  {
   "cell_type": "code",
   "execution_count": 102,
   "metadata": {},
   "outputs": [
    {
     "data": {
      "text/plain": [
       "'Friday, February 4'"
      ]
     },
     "execution_count": 102,
     "metadata": {},
     "output_type": "execute_result"
    }
   ],
   "source": [
    "Winter_Olympics.starts()"
   ]
  },
  {
   "cell_type": "code",
   "execution_count": 23,
   "metadata": {},
   "outputs": [],
   "source": [
    "Winter_Olympics = Winter_Olympics()"
   ]
  },
  {
   "cell_type": "code",
   "execution_count": 24,
   "metadata": {},
   "outputs": [
    {
     "data": {
      "text/plain": [
       "'Bing Dwen Dwen'"
      ]
     },
     "execution_count": 24,
     "metadata": {},
     "output_type": "execute_result"
    }
   ],
   "source": [
    "Winter_Olympics.mascot"
   ]
  },
  {
   "cell_type": "code",
   "execution_count": 25,
   "metadata": {},
   "outputs": [
    {
     "data": {
      "text/plain": [
       "'Friday, February 4'"
      ]
     },
     "execution_count": 25,
     "metadata": {},
     "output_type": "execute_result"
    }
   ],
   "source": [
    " Winter_Olympics.starts()"
   ]
  },
  {
   "cell_type": "code",
   "execution_count": 26,
   "metadata": {},
   "outputs": [
    {
     "data": {
      "text/plain": [
       "'Sunday, February 20'"
      ]
     },
     "execution_count": 26,
     "metadata": {},
     "output_type": "execute_result"
    }
   ],
   "source": [
    "Winter_Olympics.ends()"
   ]
  },
  {
   "cell_type": "code",
   "execution_count": null,
   "metadata": {},
   "outputs": [],
   "source": [
    "def max_rex(lst):\n",
    "    "
   ]
  },
  {
   "cell_type": "code",
   "execution_count": 29,
   "metadata": {},
   "outputs": [],
   "source": [
    "def maxtest(list):\n",
    "    if len(list) == 1:\n",
    "        return list[0]\n",
    "    else:\n",
    "        m = maxtest(list[1:])\n",
    "        return m if m > list[0] else list[0]"
   ]
  },
  {
   "cell_type": "code",
   "execution_count": 30,
   "metadata": {},
   "outputs": [
    {
     "data": {
      "text/plain": [
       "66"
      ]
     },
     "execution_count": 30,
     "metadata": {},
     "output_type": "execute_result"
    }
   ],
   "source": [
    "maxtest([4,6,1,2,66])"
   ]
  },
  {
   "cell_type": "code",
   "execution_count": 85,
   "metadata": {},
   "outputs": [],
   "source": [
    "def max_recursion(tup):\n",
    "    \"\"\"\n",
    "    Returns the largest element in the tuple.\n",
    "\n",
    "    >>> max_recursion((1,2,3,4))\n",
    "    4\n",
    "    >>> max_recursion((13,2,3,4))\n",
    "    13\n",
    "    >>> max_recursion((13,2,33,4))\n",
    "    33\n",
    "    \"\"\"\n",
    "    return tup[0] if len(tup) == 1 else max_recursion(tup[1:]) if max_recursion(tup[1:]) < tup[0] else tup[0]\n",
    "\n",
    "    if len(tup) == 1:\n",
    "        return tup[0]\n",
    "    else:\n",
    "        val = max_recursion(tup[1:])\n",
    "        return val if val < tup[0] else tup[0]"
   ]
  },
  {
   "cell_type": "code",
   "execution_count": null,
   "metadata": {},
   "outputs": [],
   "source": []
  },
  {
   "cell_type": "code",
   "execution_count": null,
   "metadata": {},
   "outputs": [],
   "source": []
  },
  {
   "cell_type": "code",
   "execution_count": 120,
   "metadata": {},
   "outputs": [],
   "source": [
    "def find_winner(record, find_max=True):\n",
    "    \"\"\"\n",
    "    \n",
    "    Returns the name of the country with either largest or\n",
    "    smallest score, depending on the optional parameter.\n",
    "\n",
    "    >>> find_winner([('Germany',23),('USA', 49), ('South Korea', 32)])\n",
    "    'USA'\n",
    "    >>> find_winner([('China', 12.88),('Japan', 15)], find_max=False)\n",
    "    'China'\n",
    "    >>> find_winner([('France', 10), ('UK', 10), ('Spain', 5)], find_max=True)\n",
    "    'France'\n",
    "    \"\"\"\n",
    "    \n",
    "#     if find_max:\n",
    "#         return record[0] if len(record) == 1 else max_or_min_recursion(tup[1:],find_max) if max_or_min_recursion(tup[1:],find_max) > tup[0] else tup[0]\n",
    "#     else:\n",
    "#         return tup[0] if len(tup) == 1 else max_or_min_recursion(tup[1:],find_max) if max_or_min_recursion(tup[1:],find_max) < tup[0] else tup[0]\n",
    "    \n",
    "    \n",
    "    \n",
    "    if find_max:\n",
    "        if len(record) == 1:\n",
    "            return record[0]\n",
    "        else:\n",
    "            val = find_winner(record[1:],find_max)\n",
    "            int_val = val[1]\n",
    "            state = val[0]\n",
    "            return val if int_val > record[0][1] else record[0]\n",
    "    else:\n",
    "        if len(record) == 1:\n",
    "            return record[0]\n",
    "        else:\n",
    "            val = find_winner(record[1:],find_max)\n",
    "            int_val = val[1]\n",
    "            state = val[0]\n",
    "            return val if int_val < record[0][1] else record[0]"
   ]
  },
  {
   "cell_type": "code",
   "execution_count": null,
   "metadata": {},
   "outputs": [],
   "source": []
  },
  {
   "cell_type": "code",
   "execution_count": null,
   "metadata": {},
   "outputs": [],
   "source": []
  },
  {
   "cell_type": "code",
   "execution_count": 124,
   "metadata": {},
   "outputs": [],
   "source": [
    "def find_winner(record, find_max=True):\n",
    "    \"\"\"\n",
    "    \n",
    "    Returns the name of the country with either largest or\n",
    "    smallest score, depending on the optional parameter.\n",
    "\n",
    "    >>> find_winner([('Germany',23),('USA', 49), ('South Korea', 32)])\n",
    "    'USA'\n",
    "    >>> find_winner([('China', 12.88),('Japan', 15)], find_max=False)\n",
    "    'China'\n",
    "    >>> find_winner([('France', 10), ('UK', 10), ('Spain', 5)], find_max=True)\n",
    "    'France'\n",
    "    \"\"\"\n",
    "    return find_winner_helper(record, find_max)[0]\n",
    "    \n",
    "    # somewhere here you may want to use a call to a helper recursive function:\n",
    "    # find_winner_helper(record, find_max)\n",
    "\n",
    "\n",
    "\n",
    "# Recursive function. Think, what does it return?\n",
    "def find_winner_helper(record, find_max):\n",
    "    # add your own doct tests to check correctness. \n",
    "    if find_max:\n",
    "        if len(record) == 1:\n",
    "            return record[0]\n",
    "        else:\n",
    "            val = find_winner_helper(record[1:],find_max)\n",
    "            int_val = val[1]\n",
    "            state = val[0]\n",
    "            return val if int_val > record[0][1] else record[0]\n",
    "    else:\n",
    "        if len(record) == 1:\n",
    "            return record[0]\n",
    "        else:\n",
    "            val = find_winner_helper(record[1:],find_max)\n",
    "            int_val = val[1]\n",
    "            state = val[0]\n",
    "            return val if int_val < record[0][1] else record[0]\n"
   ]
  },
  {
   "cell_type": "code",
   "execution_count": 125,
   "metadata": {},
   "outputs": [
    {
     "data": {
      "text/plain": [
       "'USA'"
      ]
     },
     "execution_count": 125,
     "metadata": {},
     "output_type": "execute_result"
    }
   ],
   "source": [
    "find_winner([('Germany',23),('USA', 49), ('South Korea', 32)])"
   ]
  },
  {
   "cell_type": "code",
   "execution_count": 126,
   "metadata": {},
   "outputs": [
    {
     "data": {
      "text/plain": [
       "'China'"
      ]
     },
     "execution_count": 126,
     "metadata": {},
     "output_type": "execute_result"
    }
   ],
   "source": [
    "find_winner([('China', 12.88),('Japan', 15)], find_max=False)"
   ]
  },
  {
   "cell_type": "code",
   "execution_count": 127,
   "metadata": {},
   "outputs": [
    {
     "data": {
      "text/plain": [
       "'France'"
      ]
     },
     "execution_count": 127,
     "metadata": {},
     "output_type": "execute_result"
    }
   ],
   "source": [
    "find_winner([('France', 10), ('UK', 10), ('Spain', 5)], find_max=True)"
   ]
  },
  {
   "cell_type": "code",
   "execution_count": null,
   "metadata": {},
   "outputs": [],
   "source": []
  },
  {
   "cell_type": "code",
   "execution_count": 121,
   "metadata": {},
   "outputs": [
    {
     "data": {
      "text/plain": [
       "('USA', 49)"
      ]
     },
     "execution_count": 121,
     "metadata": {},
     "output_type": "execute_result"
    }
   ],
   "source": [
    "find_winner([('Germany',23),('USA', 49), ('South Korea', 32)])"
   ]
  },
  {
   "cell_type": "code",
   "execution_count": 122,
   "metadata": {},
   "outputs": [
    {
     "data": {
      "text/plain": [
       "('France', 10)"
      ]
     },
     "execution_count": 122,
     "metadata": {},
     "output_type": "execute_result"
    }
   ],
   "source": [
    "find_winner([('France', 10), ('UK', 10), ('Spain', 5)], find_max=True)"
   ]
  },
  {
   "cell_type": "code",
   "execution_count": 123,
   "metadata": {},
   "outputs": [
    {
     "data": {
      "text/plain": [
       "('China', 12.88)"
      ]
     },
     "execution_count": 123,
     "metadata": {},
     "output_type": "execute_result"
    }
   ],
   "source": [
    "find_winner([('China', 12.88),('Japan', 15)], find_max=False)"
   ]
  },
  {
   "cell_type": "code",
   "execution_count": null,
   "metadata": {},
   "outputs": [],
   "source": []
  },
  {
   "cell_type": "code",
   "execution_count": null,
   "metadata": {},
   "outputs": [],
   "source": []
  },
  {
   "cell_type": "code",
   "execution_count": 86,
   "metadata": {},
   "outputs": [
    {
     "data": {
      "text/plain": [
       "1"
      ]
     },
     "execution_count": 86,
     "metadata": {},
     "output_type": "execute_result"
    }
   ],
   "source": [
    "max_recursion((1,2,3,4))"
   ]
  },
  {
   "cell_type": "code",
   "execution_count": 87,
   "metadata": {},
   "outputs": [
    {
     "data": {
      "text/plain": [
       "2"
      ]
     },
     "execution_count": 87,
     "metadata": {},
     "output_type": "execute_result"
    }
   ],
   "source": [
    " max_recursion((13,2,33,4))"
   ]
  },
  {
   "cell_type": "code",
   "execution_count": null,
   "metadata": {},
   "outputs": [],
   "source": []
  },
  {
   "cell_type": "code",
   "execution_count": null,
   "metadata": {},
   "outputs": [],
   "source": []
  },
  {
   "cell_type": "code",
   "execution_count": 88,
   "metadata": {},
   "outputs": [],
   "source": [
    "def max_or_min_recursion(tup, find_max = True):\n",
    "    \"\"\"\n",
    "    Returns the largest or smallest element in the tuple,\n",
    "    depending on the optinal parameter.\n",
    "\n",
    "    >>> max_or_min_recursion((1,2,3,4))\n",
    "    4\n",
    "    >>> max_or_min_recursion((13,2,3,4), False)\n",
    "    2\n",
    "    >>> max_or_min_recursion((13,2,33,-4), True)\n",
    "    33\n",
    "    \"\"\"\n",
    "    if find_max:\n",
    "        return tup[0] if len(tup) == 1 else max_or_min_recursion(tup[1:],find_max) if max_or_min_recursion(tup[1:],find_max) > tup[0] else tup[0]\n",
    "    else:\n",
    "        return tup[0] if len(tup) == 1 else max_or_min_recursion(tup[1:],find_max) if max_or_min_recursion(tup[1:],find_max) < tup[0] else tup[0]"
   ]
  },
  {
   "cell_type": "code",
   "execution_count": 89,
   "metadata": {},
   "outputs": [
    {
     "data": {
      "text/plain": [
       "2"
      ]
     },
     "execution_count": 89,
     "metadata": {},
     "output_type": "execute_result"
    }
   ],
   "source": [
    "max_or_min_recursion((13,2,3,4), False)"
   ]
  },
  {
   "cell_type": "code",
   "execution_count": 90,
   "metadata": {},
   "outputs": [
    {
     "data": {
      "text/plain": [
       "33"
      ]
     },
     "execution_count": 90,
     "metadata": {},
     "output_type": "execute_result"
    }
   ],
   "source": [
    "max_or_min_recursion((13,2,33,-4), True)"
   ]
  },
  {
   "cell_type": "code",
   "execution_count": 91,
   "metadata": {},
   "outputs": [
    {
     "data": {
      "text/plain": [
       "2"
      ]
     },
     "execution_count": 91,
     "metadata": {},
     "output_type": "execute_result"
    }
   ],
   "source": [
    "max_or_min_recursion((13,2,3,4), False)"
   ]
  },
  {
   "cell_type": "code",
   "execution_count": null,
   "metadata": {},
   "outputs": [],
   "source": []
  },
  {
   "cell_type": "code",
   "execution_count": 36,
   "metadata": {},
   "outputs": [
    {
     "data": {
      "text/plain": [
       "4"
      ]
     },
     "execution_count": 36,
     "metadata": {},
     "output_type": "execute_result"
    }
   ],
   "source": [
    "max_recursion((1,2,3,4))"
   ]
  },
  {
   "cell_type": "code",
   "execution_count": 37,
   "metadata": {},
   "outputs": [
    {
     "data": {
      "text/plain": [
       "33"
      ]
     },
     "execution_count": 37,
     "metadata": {},
     "output_type": "execute_result"
    }
   ],
   "source": [
    "max_recursion((13,2,33,4))"
   ]
  },
  {
   "cell_type": "code",
   "execution_count": null,
   "metadata": {},
   "outputs": [],
   "source": []
  },
  {
   "cell_type": "code",
   "execution_count": null,
   "metadata": {},
   "outputs": [],
   "source": []
  },
  {
   "cell_type": "code",
   "execution_count": 92,
   "metadata": {},
   "outputs": [],
   "source": [
    "class Phone:\n",
    "    \"\"\"\n",
    "    Creates a Phone class 3 instance attributes (brand, battery,\n",
    "    storage) passed to the constructor. Then add 5 more attributes\n",
    "    (charge, drain_rate,charge_rate, num_apps, apps), derived from the\n",
    "    three given instance attributes and 3 methods (use, recharge, install)\n",
    "\n",
    "    >>> my_phone = Phone('Apple', 4000, 64000)\n",
    "    >>> my_phone.brand\n",
    "    'Apple'\n",
    "    >>> my_phone.charge\n",
    "    2000\n",
    "    >>> my_phone.num_apps\n",
    "    0\n",
    "    >>> my_phone.use(10)\n",
    "    >>> my_phone.charge\n",
    "    1900\n",
    "    >>> my_phone.recharge(10)\n",
    "    >>> my_phone.charge\n",
    "    2100\n",
    "    >>> my_phone.install(1000, 'Robinhood')\n",
    "    'App installed'\n",
    "    >>> my_phone.apps\n",
    "    {'Robinhood'}\n",
    "    >>> my_phone.storage\n",
    "    63000\n",
    "    >>> my_phone.use(210)\n",
    "    'Out of charge'\n",
    "    >>> my_phone.recharge(400)\n",
    "    >>> my_phone.charge\n",
    "    4000\n",
    "    \"\"\"\n",
    "    # Initializer\n",
    "    def __init__(self, brand, battery, storage):\n",
    "        self.brand = brand\n",
    "        self.battery = battery\n",
    "        self.storage = storage\n",
    "        self.charge = battery//2\n",
    "        # Drain rate will differ based on brand\n",
    "        # Create if-else structure\n",
    "        self.drain_rate = 10 if brand=='Apple' else (12 if brand=='OnePlus' else (8 if brand=='Samsung' else 15))\n",
    "        self.charge_rate = 20\n",
    "        self.num_apps = 0\n",
    "        self.apps = set()\n",
    "\n",
    "    def use(self, minutes):\n",
    "        # TODO: Update charge\n",
    "        self.charge = self.charge - (self.drain_rate)*minutes\n",
    "        \n",
    "        if self.charge<=0: # Handles case when we run out of charge\n",
    "            return 'Out of charge'\n",
    "\n",
    "    def recharge(self, minutes):\n",
    "        # TODO: Update charge\n",
    "        self.charge = (self.charge + self.charge_rate*minutes)\n",
    "        if self.charge > self.battery:\n",
    "            self.charge = self.battery\n",
    "        \n",
    "\n",
    "    def install(self, app_size, app_name):\n",
    "        # Cannot install apps when we don't have charge\n",
    "        if self.charge<=0:\n",
    "            return 'Out of charge'\n",
    "        # Cannot install apps when we don't have sufficient storage\n",
    "        if self.storage<app_size:\n",
    "            return 'Not enough storage'\n",
    "        # Cannot install apps that are already installed\n",
    "        if app_name in self.apps:\n",
    "            return 'App already installed'\n",
    "\n",
    "        # Have dealt with all potential issues. Install app now\n",
    "        # TODO: Update storage\n",
    "        self.storage = self.storage - app_size\n",
    "        # TODO: Update num_apps\n",
    "        self.num_apps = self.num_apps + 1\n",
    "        # TODO: Update apps\n",
    "        self.apps.add(app_name)\n",
    "        return 'App installed'\n"
   ]
  },
  {
   "cell_type": "code",
   "execution_count": 93,
   "metadata": {},
   "outputs": [
    {
     "data": {
      "text/plain": [
       "'lll'"
      ]
     },
     "execution_count": 93,
     "metadata": {},
     "output_type": "execute_result"
    }
   ],
   "source": [
    "my_phone = Phone('lll', 4000, 64000)\n",
    "my_phone.brand"
   ]
  },
  {
   "cell_type": "code",
   "execution_count": 94,
   "metadata": {},
   "outputs": [
    {
     "data": {
      "text/plain": [
       "2000"
      ]
     },
     "execution_count": 94,
     "metadata": {},
     "output_type": "execute_result"
    }
   ],
   "source": [
    "my_phone.charge"
   ]
  },
  {
   "cell_type": "code",
   "execution_count": 96,
   "metadata": {},
   "outputs": [
    {
     "data": {
      "text/plain": [
       "15"
      ]
     },
     "execution_count": 96,
     "metadata": {},
     "output_type": "execute_result"
    }
   ],
   "source": [
    "my_phone.drain_rate"
   ]
  },
  {
   "cell_type": "code",
   "execution_count": 75,
   "metadata": {},
   "outputs": [],
   "source": [
    "my_phone.use(10)"
   ]
  },
  {
   "cell_type": "code",
   "execution_count": 78,
   "metadata": {},
   "outputs": [
    {
     "data": {
      "text/plain": [
       "2100"
      ]
     },
     "execution_count": 78,
     "metadata": {},
     "output_type": "execute_result"
    }
   ],
   "source": [
    "my_phone.charge"
   ]
  },
  {
   "cell_type": "code",
   "execution_count": null,
   "metadata": {},
   "outputs": [],
   "source": [
    "my_phone = Phone('Apple', 4000, 64000)\n",
    "my_phone.brand\n",
    "\n",
    "my_phone.charge\n",
    "\n",
    ">>> my_phone.num_apps\n",
    "0\n",
    ">>> my_phone.use(10)\n",
    ">>> my_phone.charge\n",
    "1900\n",
    ">>> my_phone.recharge(10)\n",
    ">>> my_phone.charge\n",
    "2100\n",
    ">>> my_phone.install(1000, 'Robinhood')\n",
    "'App installed'\n",
    ">>> my_phone.apps\n",
    "{'Robinhood'}\n",
    ">>> my_phone.storage\n",
    "63000\n",
    ">>> my_phone.use(210)\n",
    "'Out of charge'\n",
    ">>> my_phone.recharge(400)\n",
    ">>> my_phone.charge\n",
    "4000\n",
    "\"\"\""
   ]
  },
  {
   "cell_type": "code",
   "execution_count": 84,
   "metadata": {},
   "outputs": [
    {
     "data": {
      "text/plain": [
       "4000"
      ]
     },
     "execution_count": 84,
     "metadata": {},
     "output_type": "execute_result"
    }
   ],
   "source": [
    "my_phone.charge"
   ]
  },
  {
   "cell_type": "code",
   "execution_count": 81,
   "metadata": {},
   "outputs": [
    {
     "data": {
      "text/plain": [
       "63000"
      ]
     },
     "execution_count": 81,
     "metadata": {},
     "output_type": "execute_result"
    }
   ],
   "source": [
    "my_phone.storage"
   ]
  },
  {
   "cell_type": "code",
   "execution_count": null,
   "metadata": {},
   "outputs": [],
   "source": []
  }
 ],
 "metadata": {
  "kernelspec": {
   "display_name": "Python 3",
   "language": "python",
   "name": "python3"
  },
  "language_info": {
   "codemirror_mode": {
    "name": "ipython",
    "version": 3
   },
   "file_extension": ".py",
   "mimetype": "text/x-python",
   "name": "python",
   "nbconvert_exporter": "python",
   "pygments_lexer": "ipython3",
   "version": "3.8.5"
  }
 },
 "nbformat": 4,
 "nbformat_minor": 4
}
