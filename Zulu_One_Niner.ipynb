{
 "cells": [
  {
   "cell_type": "markdown",
   "metadata": {
    "id": "R6OmsErsrc7M"
   },
   "source": [
    "# Graded Notebook 3\n",
    "* **Possible 130 points out of 100.**\n",
    "\n",
    "* Your name here: \n",
    "* The shared link to this notebook here: "
   ]
  },
  {
   "cell_type": "markdown",
   "metadata": {
    "id": "dkOfTZt3rdMv"
   },
   "source": [
    "## **Task 1** (40 points possible)\n",
    "*  In this lab, you complete a partially prewritten Python program that uses a list.\n",
    "\n",
    "The program prompts the user to interactively enter eight batting averages, which the program stores in an array. It should then find the minimum and maximum batting averages stored in the array, as well as the average of the eight batting averages. The data file provided for this lab includes the input statement and some variable declarations. Comments are included in the file to help you write the remainder of the program.\n",
    "\n",
    "* Write the Python statements as indicated by the comments.\n",
    "* Execute the program by clicking the Run button at the bottom of the screen. Enter the following batting averages: .299, .157, .242, .203, .198, .333, .270, .190. The minimum batting average should be .157 and the maximum batting average should be .333. The average should be .2365.\n",
    "\n",
    "    * Comments and code organization are expected to adhere to the requirements discussed in the course. **10 pts**\n",
    "    *  While loop funtions as expected **10 pts**\n",
    "    *  Lists is accessed as expected **10**\n",
    "    *  Output meets expectations (average is calculated correctly)  **10 pts**\n"
   ]
  },
  {
   "cell_type": "code",
   "execution_count": 3,
   "metadata": {
    "colab": {
     "base_uri": "https://localhost:8080/",
     "height": 133
    },
    "id": "598HVzoiec3x",
    "outputId": "c1ca2bd1-dbba-4a1c-8439-d1cb08626ad5"
   },
   "outputs": [
    {
     "name": "stdout",
     "output_type": "stream",
     "text": [
      "Enter a batting average: .299\n",
      "Enter a batting average: .157\n",
      "Enter a batting average: .242\n",
      "Enter a batting average: .203\n",
      "Enter a batting average: .198\n",
      "Enter a batting average: .333\n",
      "Enter a batting average: .270\n",
      "Enter a batting average: .190\n",
      "0.299 0.157 0.242 0.203 0.198 0.333 0.27 0.19\n",
      "maximum batting average: 0.333\n",
      "minimum batting average: 0.157\n",
      "average batting average: 0.2365\n"
     ]
    }
   ],
   "source": [
    "# Declare a named constant for array size here.\n",
    "MAX_AVERAGES = 8\n",
    "\n",
    "# Declare array here.\n",
    "averages = []\n",
    "# Write a loop to get batting averages from user and assign to array.\n",
    "for i in range(MAX_AVERAGES):\n",
    "    averageString = input(\"Enter a batting average: \")\n",
    "    battingAverage = float(averageString)\n",
    "    # Assign value to array.\n",
    "    averages.append(battingAverage)\n",
    "\n",
    "# Assign the first element in the array to be the minimum and the maximum.\n",
    "minAverage = averages[0]\n",
    "maxAverage = averages[0]\n",
    "# Start out your total with the value of the first element in the array.\n",
    "total = averages[0]\n",
    "# Write a loop here to access array values starting with averages[1]\n",
    "for avg in averages[1:]:\n",
    "    # Within the loop test for minimum and maximum batting averages.\n",
    "    if minAverage>avg:\n",
    "        minAverage = avg\n",
    "    \n",
    "    if maxAverage<avg:\n",
    "        maxAverage = avg\n",
    "\n",
    "\n",
    "\n",
    "    # Also accumulate a total of all batting averages.\n",
    "    total = total + avg\n",
    "\n",
    "# Calculate the average of the 8 batting averages.\n",
    "total_avg = total/MAX_AVERAGES\n",
    "\n",
    "# Print the batting averages stored in the averages array.\n",
    "print('Batting averages are:',*averages)\n",
    "\n",
    "# Print the maximum batting average, minimum batting average, and average batting average.\n",
    "print('maximum batting average:',maxAverage)\n",
    "print('minimum batting average:',minAverage)\n",
    "print('average batting average:',total_avg)"
   ]
  },
  {
   "cell_type": "code",
   "execution_count": null,
   "metadata": {},
   "outputs": [],
   "source": [
    ".299, .157, .242, .203, .198, .333, .270, .190"
   ]
  },
  {
   "cell_type": "markdown",
   "metadata": {
    "id": "f2UkESAPru7Q"
   },
   "source": [
    "## **Task 2** (40 points possible)\n",
    "*  In this task, you use what you have learned about searching a list to find an exact match to complete a partially prewritten Python program.\n",
    "\n",
    "The program uses a list that contains valid names for 10 cities in Michigan. You ask the user to enter a city name; your program then searches the list for that city name. If it is not found, the program should print a message that informs the user the city name is not found in the list of valid cities in Michigan.\n",
    "\n",
    "The starter file provided for this lab includes input statements. You need to write code to examine all the items in the list and test for a match. You also need to determine if you should print the \"Not a city in Michigan.\" message.\n",
    "\n",
    "Comments in the code tell you where to write your statements.\n",
    "\n",
    "* Write a loop statement that examines the names of cities stored in the list.\n",
    "* Write code that tests for a match.\n",
    "* Write code that, when appropriate, prints the message \"Not a city in Michigan.\".\n",
    "* Execute the program using the following as input to test it:\n",
    "  * Chicago\n",
    "  * Brooklyn\n",
    "  * Watervliet\n",
    "  * Acme\n",
    "\n",
    "\n",
    "* Comments and code organization are expected to adhere to the requirements discussed in the course. **5 pts**\n",
    "* Program produces the correct output for invalid input **10 pts**\n",
    "* Program produces the correct output for valid input **10 pts**\n",
    "* ***(Bonus points)*** create a loop using a sentinel value to allow the user to repeat the task and test several words ratherthan just one and done. **15 pts**\n",
    "\n"
   ]
  },
  {
   "cell_type": "code",
   "execution_count": 16,
   "metadata": {
    "id": "oBmqAkNTrwcb"
   },
   "outputs": [
    {
     "name": "stdout",
     "output_type": "stream",
     "text": [
      "Enter name of city: ff\n",
      "Not a city in Michigan.\n",
      "Do you want to try for different city y/n? y\n",
      "Enter name of city: Albion\n",
      "City found\n",
      "Do you want to try for different city y/n? n\n",
      "Thank you\n"
     ]
    }
   ],
   "source": [
    "# Input:  Interactive\n",
    "# Output:  Error message or nothing\n",
    "\n",
    "# Initialized list of cities\n",
    "citiesInMichigan = [\"Acme\", \"Albion\", \"Detroit\", \"Watervliet\", \"Coloma\", \"Saginaw\", \"Richland\", \"Glenn\", \"Midland\", \"Brooklyn\"] \n",
    "\n",
    "while True:\n",
    "    # Get user input\n",
    "    inCity = input(\"Enter name of city: \")\n",
    "\n",
    "    # Write your test statement here to see if there is a match.\n",
    "    flag = False\n",
    "    for city in citiesInMichigan:\n",
    "        if city.lower() == inCity.lower():\n",
    "            flag = True\n",
    "            break\n",
    "\n",
    "    # If the city is found, print \"City found.\"\n",
    "    if flag:\n",
    "        print('City found')\n",
    "    # Otherwise, \"Not a city in Michigan\" message should be printed. \n",
    "    else:\n",
    "        print('Not a city in Michigan.')\n",
    "        \n",
    "    c = input('Do you want to try for different city y/n? ')\n",
    "    if c.lower() == 'n':\n",
    "        print('Thank you')\n",
    "        break"
   ]
  },
  {
   "cell_type": "markdown",
   "metadata": {
    "id": "ErpMPcgDrwnb"
   },
   "source": [
    "## **Task 3** (50 points possible)\n",
    "*  Create a dictionary to store 10 words (of your choice) that have one or more values associated with the word. Please have some with multiple values. \n",
    "Have the user to perform a search of the directory words to return the values associated with it.\n",
    "\n",
    "* Comments and code organization are expected to adhere to the requirements discussed in the course. **5 pts**\n",
    "* Dict setup as expected **10 pts**\n",
    "* Disct is accessed/searched as expected **10 pts**\n",
    "* Output meets expectations (values associated with the words are displayed) **10 pts**\n",
    "* ***(Bonus points)*** create a loop using a sentinel value to allow the user to repeat the task and test several words ratherthan just one and done. **15 pts**"
   ]
  },
  {
   "cell_type": "code",
   "execution_count": 9,
   "metadata": {
    "id": "XhEOQaFsr9Rh"
   },
   "outputs": [],
   "source": [
    "# Your code here\n",
    "my_dict = {'Acme':[10,20],'Albion':25,'Watervliet':[14,25,45],'Coloma':25,'Midland':89,\n",
    "           'Saginaw':10,'Richland':11,'Glenn':16,'Brooklyn':[100,105,10,25],'Detroit':800\n",
    "          }\n",
    "\n",
    "print('*****Check for Values associated with city in Michigan*****')\n",
    "while True:\n",
    "    city = input(\"Search for a city in Michigan: \")\n",
    "    if city.title() in my_dict:\n",
    "        print(my_dict[city.title()])\n",
    "        c = input('Do you want to try for different city y/n? ')\n",
    "        if c.lower() == 'n':\n",
    "            print('Thank you')\n",
    "            break \n",
    "    else:\n",
    "        c = input('Sorry, its not in the dictionary, Do you want to try different city y/n? ')\n",
    "        if c.lower() == 'n':\n",
    "            print('Thank you')\n",
    "            break "
   ]
  },
  {
   "cell_type": "code",
   "execution_count": null,
   "metadata": {},
   "outputs": [],
   "source": []
  }
 ],
 "metadata": {
  "colab": {
   "provenance": []
  },
  "kernelspec": {
   "display_name": "Python 3 (ipykernel)",
   "language": "python",
   "name": "python3"
  },
  "language_info": {
   "codemirror_mode": {
    "name": "ipython",
    "version": 3
   },
   "file_extension": ".py",
   "mimetype": "text/x-python",
   "name": "python",
   "nbconvert_exporter": "python",
   "pygments_lexer": "ipython3",
   "version": "3.9.12"
  }
 },
 "nbformat": 4,
 "nbformat_minor": 1
}
