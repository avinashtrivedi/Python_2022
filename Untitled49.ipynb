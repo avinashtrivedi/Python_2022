{
 "cells": [
  {
   "cell_type": "markdown",
   "id": "af6fc2eb",
   "metadata": {},
   "source": [
    "Suppose you are given a iterator I to a sequence of integers i0,i1,...,ij,.... \n",
    "Write an iterator (generator) expression for the sequence 0 · i0,1 · i1,...,j · ij,.... \n",
    "You are allowed to use a single-line expression only and it must run if substituted in place of\n",
    "#your expression here in the example below.\n",
    "Example:\n",
    "   I = iter([23, 10, 7, 18])\n",
    "   Y = #your expression here\n",
    "   assert tuple(Y) == (0, 10, 14, 54)"
   ]
  },
  {
   "cell_type": "code",
   "execution_count": 9,
   "id": "1423b015",
   "metadata": {},
   "outputs": [],
   "source": [
    "I = iter([23, 10, 7, 18])\n",
    "Y = iter([0,10,14,54])\n",
    "assert tuple(Y) == (0, 10, 14, 54)"
   ]
  },
  {
   "cell_type": "code",
   "execution_count": 6,
   "id": "ef4b2ffc",
   "metadata": {},
   "outputs": [
    {
     "data": {
      "text/plain": [
       "[7, 10, 18, 23]"
      ]
     },
     "execution_count": 6,
     "metadata": {},
     "output_type": "execute_result"
    }
   ],
   "source": [
    "sorted(list(iter([23, 10, 7, 18])))"
   ]
  },
  {
   "cell_type": "code",
   "execution_count": null,
   "id": "fd3c27eb",
   "metadata": {},
   "outputs": [],
   "source": []
  }
 ],
 "metadata": {
  "kernelspec": {
   "display_name": "Python 3 (ipykernel)",
   "language": "python",
   "name": "python3"
  },
  "language_info": {
   "codemirror_mode": {
    "name": "ipython",
    "version": 3
   },
   "file_extension": ".py",
   "mimetype": "text/x-python",
   "name": "python",
   "nbconvert_exporter": "python",
   "pygments_lexer": "ipython3",
   "version": "3.9.12"
  }
 },
 "nbformat": 4,
 "nbformat_minor": 5
}
