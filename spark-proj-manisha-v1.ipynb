{
 "cells": [
  {
   "cell_type": "code",
   "execution_count": 154,
   "metadata": {
    "execution": {
     "iopub.execute_input": "2022-12-18T03:25:55.358606Z",
     "iopub.status.busy": "2022-12-18T03:25:55.358071Z",
     "iopub.status.idle": "2022-12-18T03:26:06.493421Z",
     "shell.execute_reply": "2022-12-18T03:26:06.491559Z",
     "shell.execute_reply.started": "2022-12-18T03:25:55.358565Z"
    }
   },
   "outputs": [
    {
     "name": "stdout",
     "output_type": "stream",
     "text": [
      "Requirement already satisfied: pyspark in /opt/conda/lib/python3.7/site-packages (3.3.1)\n",
      "Requirement already satisfied: py4j==0.10.9.5 in /opt/conda/lib/python3.7/site-packages (from pyspark) (0.10.9.5)\n",
      "\u001b[33mWARNING: Running pip as the 'root' user can result in broken permissions and conflicting behaviour with the system package manager. It is recommended to use a virtual environment instead: https://pip.pypa.io/warnings/venv\u001b[0m\u001b[33m\n",
      "\u001b[0m"
     ]
    }
   ],
   "source": [
    "# import relevant libraries\n",
    "!pip install pyspark\n",
    "import re\n",
    "import pandas as pd\n",
    "import numpy as np\n",
    "import matplotlib.pyplot as plt\n",
    "import seaborn as sns\n",
    "import datetime\n",
    "from time import time\n",
    "from functools import reduce\n",
    "\n",
    "from pyspark.sql import SparkSession\n",
    "import pyspark.sql.functions as F\n",
    "from pyspark.sql.functions import avg, col, concat, desc, explode, lit, min, max, split, udf\n",
    "from pyspark.sql.types import IntegerType, DateType\n",
    "from pyspark.sql.window import Window\n",
    "\n",
    "from pyspark.ml import Pipeline\n",
    "from pyspark.ml.classification import LinearSVC\n",
    "from pyspark.ml.classification import LogisticRegression, RandomForestClassifier, GBTClassifier, DecisionTreeClassifier\n",
    "from pyspark.ml.evaluation import BinaryClassificationEvaluator, MulticlassClassificationEvaluator\n",
    "from pyspark.ml.feature import StandardScaler, VectorAssembler\n",
    "from pyspark.ml.regression import LinearRegression\n",
    "from pyspark.ml.tuning import CrossValidator, ParamGridBuilder\n",
    "from pyspark.ml.feature import MinMaxScaler\n",
    "from pyspark.mllib.evaluation import MulticlassMetrics\n",
    "\n",
    "%matplotlib inline"
   ]
  },
  {
   "cell_type": "code",
   "execution_count": 155,
   "metadata": {
    "execution": {
     "iopub.execute_input": "2022-12-18T03:26:06.497395Z",
     "iopub.status.busy": "2022-12-18T03:26:06.496894Z",
     "iopub.status.idle": "2022-12-18T03:26:06.507789Z",
     "shell.execute_reply": "2022-12-18T03:26:06.506722Z",
     "shell.execute_reply.started": "2022-12-18T03:26:06.497344Z"
    }
   },
   "outputs": [],
   "source": [
    "# create a Spark session\n",
    "spark = SparkSession.builder.appName('SparkifyProj').getOrCreate()"
   ]
  },
  {
   "cell_type": "code",
   "execution_count": 156,
   "metadata": {
    "execution": {
     "iopub.execute_input": "2022-12-18T03:26:06.510680Z",
     "iopub.status.busy": "2022-12-18T03:26:06.509414Z",
     "iopub.status.idle": "2022-12-18T03:26:07.397888Z",
     "shell.execute_reply": "2022-12-18T03:26:07.396888Z",
     "shell.execute_reply.started": "2022-12-18T03:26:06.510640Z"
    }
   },
   "outputs": [
    {
     "name": "stderr",
     "output_type": "stream",
     "text": [
      "                                                                                \r"
     ]
    }
   ],
   "source": [
    "# load gthe dataset\n",
    "data = spark.read.json(\"/kaggle/input/spect-v1/mini_sparkify_event_data.json\")"
   ]
  },
  {
   "cell_type": "code",
   "execution_count": 157,
   "metadata": {
    "execution": {
     "iopub.execute_input": "2022-12-18T03:26:07.400268Z",
     "iopub.status.busy": "2022-12-18T03:26:07.399922Z",
     "iopub.status.idle": "2022-12-18T03:26:07.409769Z",
     "shell.execute_reply": "2022-12-18T03:26:07.408462Z",
     "shell.execute_reply.started": "2022-12-18T03:26:07.400233Z"
    }
   },
   "outputs": [
    {
     "data": {
      "text/plain": [
       "['artist',\n",
       " 'auth',\n",
       " 'firstName',\n",
       " 'gender',\n",
       " 'itemInSession',\n",
       " 'lastName',\n",
       " 'length',\n",
       " 'level',\n",
       " 'location',\n",
       " 'method',\n",
       " 'page',\n",
       " 'registration',\n",
       " 'sessionId',\n",
       " 'song',\n",
       " 'status',\n",
       " 'ts',\n",
       " 'userAgent',\n",
       " 'userId']"
      ]
     },
     "execution_count": 157,
     "metadata": {},
     "output_type": "execute_result"
    }
   ],
   "source": [
    "data.columns # list the column name"
   ]
  },
  {
   "cell_type": "code",
   "execution_count": 158,
   "metadata": {
    "execution": {
     "iopub.execute_input": "2022-12-18T03:26:07.412729Z",
     "iopub.status.busy": "2022-12-18T03:26:07.411814Z",
     "iopub.status.idle": "2022-12-18T03:26:07.489403Z",
     "shell.execute_reply": "2022-12-18T03:26:07.488440Z",
     "shell.execute_reply.started": "2022-12-18T03:26:07.412693Z"
    }
   },
   "outputs": [
    {
     "name": "stdout",
     "output_type": "stream",
     "text": [
      "+----------------+---------+---------+------+-------------+--------+---------+-----+--------------------+------+--------+-------------+---------+--------------------+------+-------------+--------------------+------+\n",
      "|          artist|     auth|firstName|gender|itemInSession|lastName|   length|level|            location|method|    page| registration|sessionId|                song|status|           ts|           userAgent|userId|\n",
      "+----------------+---------+---------+------+-------------+--------+---------+-----+--------------------+------+--------+-------------+---------+--------------------+------+-------------+--------------------+------+\n",
      "|  Martha Tilston|Logged In|    Colin|     M|           50| Freeman|277.89016| paid|     Bakersfield, CA|   PUT|NextSong|1538173362000|       29|           Rockpools|   200|1538352117000|Mozilla/5.0 (Wind...|    30|\n",
      "|Five Iron Frenzy|Logged In|    Micah|     M|           79|    Long|236.09424| free|Boston-Cambridge-...|   PUT|NextSong|1538331630000|        8|              Canada|   200|1538352180000|\"Mozilla/5.0 (Win...|     9|\n",
      "|    Adam Lambert|Logged In|    Colin|     M|           51| Freeman| 282.8273| paid|     Bakersfield, CA|   PUT|NextSong|1538173362000|       29|   Time For Miracles|   200|1538352394000|Mozilla/5.0 (Wind...|    30|\n",
      "|          Enigma|Logged In|    Micah|     M|           80|    Long|262.71302| free|Boston-Cambridge-...|   PUT|NextSong|1538331630000|        8|Knocking On Forbi...|   200|1538352416000|\"Mozilla/5.0 (Win...|     9|\n",
      "|       Daft Punk|Logged In|    Colin|     M|           52| Freeman|223.60771| paid|     Bakersfield, CA|   PUT|NextSong|1538173362000|       29|Harder Better Fas...|   200|1538352676000|Mozilla/5.0 (Wind...|    30|\n",
      "+----------------+---------+---------+------+-------------+--------+---------+-----+--------------------+------+--------+-------------+---------+--------------------+------+-------------+--------------------+------+\n",
      "only showing top 5 rows\n",
      "\n"
     ]
    }
   ],
   "source": [
    "data.show(5) # display top 5 rows"
   ]
  },
  {
   "cell_type": "code",
   "execution_count": 159,
   "metadata": {
    "execution": {
     "iopub.execute_input": "2022-12-18T03:26:07.491147Z",
     "iopub.status.busy": "2022-12-18T03:26:07.490598Z",
     "iopub.status.idle": "2022-12-18T03:26:07.497820Z",
     "shell.execute_reply": "2022-12-18T03:26:07.496565Z",
     "shell.execute_reply.started": "2022-12-18T03:26:07.491115Z"
    }
   },
   "outputs": [
    {
     "name": "stdout",
     "output_type": "stream",
     "text": [
      "root\n",
      " |-- artist: string (nullable = true)\n",
      " |-- auth: string (nullable = true)\n",
      " |-- firstName: string (nullable = true)\n",
      " |-- gender: string (nullable = true)\n",
      " |-- itemInSession: long (nullable = true)\n",
      " |-- lastName: string (nullable = true)\n",
      " |-- length: double (nullable = true)\n",
      " |-- level: string (nullable = true)\n",
      " |-- location: string (nullable = true)\n",
      " |-- method: string (nullable = true)\n",
      " |-- page: string (nullable = true)\n",
      " |-- registration: long (nullable = true)\n",
      " |-- sessionId: long (nullable = true)\n",
      " |-- song: string (nullable = true)\n",
      " |-- status: long (nullable = true)\n",
      " |-- ts: long (nullable = true)\n",
      " |-- userAgent: string (nullable = true)\n",
      " |-- userId: string (nullable = true)\n",
      "\n"
     ]
    }
   ],
   "source": [
    "data.printSchema()"
   ]
  },
  {
   "cell_type": "code",
   "execution_count": 160,
   "metadata": {
    "execution": {
     "iopub.execute_input": "2022-12-18T03:26:07.500736Z",
     "iopub.status.busy": "2022-12-18T03:26:07.499870Z",
     "iopub.status.idle": "2022-12-18T03:26:08.237477Z",
     "shell.execute_reply": "2022-12-18T03:26:08.236546Z",
     "shell.execute_reply.started": "2022-12-18T03:26:07.500688Z"
    }
   },
   "outputs": [
    {
     "name": "stderr",
     "output_type": "stream",
     "text": [
      "                                                                                \r"
     ]
    },
    {
     "data": {
      "text/plain": [
       "286500"
      ]
     },
     "execution_count": 160,
     "metadata": {},
     "output_type": "execute_result"
    }
   ],
   "source": [
    "data.count() # rows\n"
   ]
  },
  {
   "cell_type": "code",
   "execution_count": 161,
   "metadata": {
    "execution": {
     "iopub.execute_input": "2022-12-18T03:26:08.238970Z",
     "iopub.status.busy": "2022-12-18T03:26:08.238556Z",
     "iopub.status.idle": "2022-12-18T03:26:08.248079Z",
     "shell.execute_reply": "2022-12-18T03:26:08.246749Z",
     "shell.execute_reply.started": "2022-12-18T03:26:08.238935Z"
    }
   },
   "outputs": [
    {
     "data": {
      "text/plain": [
       "18"
      ]
     },
     "execution_count": 161,
     "metadata": {},
     "output_type": "execute_result"
    }
   ],
   "source": [
    "len(data.columns) # no of columns"
   ]
  },
  {
   "cell_type": "code",
   "execution_count": 162,
   "metadata": {
    "execution": {
     "iopub.execute_input": "2022-12-18T03:26:08.251317Z",
     "iopub.status.busy": "2022-12-18T03:26:08.250155Z",
     "iopub.status.idle": "2022-12-18T03:26:15.264435Z",
     "shell.execute_reply": "2022-12-18T03:26:15.263552Z",
     "shell.execute_reply.started": "2022-12-18T03:26:08.251261Z"
    }
   },
   "outputs": [
    {
     "name": "stdout",
     "output_type": "stream",
     "text": [
      "Column Name          Number of NaN       \n",
      "--------------------------------------------\n",
      "artist               58392               \n",
      "auth                 0                   \n",
      "firstName            8346                \n",
      "gender               8346                \n",
      "itemInSession        0                   \n",
      "lastName             8346                \n",
      "length               58392               \n",
      "level                0                   \n",
      "location             8346                \n",
      "method               0                   \n",
      "page                 0                   \n",
      "registration         8346                \n",
      "sessionId            0                   \n",
      "song                 58392               \n",
      "status               0                   \n",
      "ts                   0                   \n",
      "userAgent            8346                \n",
      "userId               8346                \n"
     ]
    }
   ],
   "source": [
    "# column wise NaN Values\n",
    "print(f\"{'Column Name':<20} {'Number of NaN':<20}\")\n",
    "print('--------------------------------------------')\n",
    "for col in data.columns:\n",
    "    n = data[(data[col].isNull()) | (data[col]==\"\")].count()\n",
    "    \n",
    "    print(f\"{col:<20} {n:<20}\")"
   ]
  },
  {
   "cell_type": "code",
   "execution_count": 163,
   "metadata": {
    "execution": {
     "iopub.execute_input": "2022-12-18T03:26:15.272383Z",
     "iopub.status.busy": "2022-12-18T03:26:15.270203Z",
     "iopub.status.idle": "2022-12-18T03:26:15.287893Z",
     "shell.execute_reply": "2022-12-18T03:26:15.286610Z",
     "shell.execute_reply.started": "2022-12-18T03:26:15.272341Z"
    }
   },
   "outputs": [],
   "source": [
    "# drop rows where user id is NaN\n",
    "df_filtered = data.dropna(subset = ['userId'])\n",
    "\n",
    "# filter the data to consider rows where userid is not empty\n",
    "df_filtered = df_filtered.filter(df_filtered['userId'] != '')"
   ]
  },
  {
   "cell_type": "code",
   "execution_count": 164,
   "metadata": {
    "execution": {
     "iopub.execute_input": "2022-12-18T03:26:15.291012Z",
     "iopub.status.busy": "2022-12-18T03:26:15.290028Z",
     "iopub.status.idle": "2022-12-18T03:26:15.323713Z",
     "shell.execute_reply": "2022-12-18T03:26:15.322579Z",
     "shell.execute_reply.started": "2022-12-18T03:26:15.290965Z"
    }
   },
   "outputs": [],
   "source": [
    "# transform ts and registation time format\n",
    "get_date_fn = udf(lambda x: datetime.datetime.fromtimestamp(x / 1000.0).strftime(\"%Y-%m-%d %H:%M:%S\"))\n",
    "df_filtered = df_filtered.withColumn('event_time', get_date_fn('ts'))\n",
    "df_filtered = df_filtered.withColumn('registration_time', get_date_fn('registration'))"
   ]
  },
  {
   "cell_type": "code",
   "execution_count": 165,
   "metadata": {
    "execution": {
     "iopub.execute_input": "2022-12-18T03:26:15.325387Z",
     "iopub.status.busy": "2022-12-18T03:26:15.325044Z",
     "iopub.status.idle": "2022-12-18T03:26:15.350013Z",
     "shell.execute_reply": "2022-12-18T03:26:15.349086Z",
     "shell.execute_reply.started": "2022-12-18T03:26:15.325356Z"
    }
   },
   "outputs": [],
   "source": [
    "# get day number\n",
    "get_day_fn = udf(lambda x: datetime.datetime.fromtimestamp(x / 1000.0).day)\n",
    "df_filtered = df_filtered.withColumn('day_of_month', get_day_fn('ts'))"
   ]
  },
  {
   "cell_type": "code",
   "execution_count": 166,
   "metadata": {
    "execution": {
     "iopub.execute_input": "2022-12-18T03:26:15.352407Z",
     "iopub.status.busy": "2022-12-18T03:26:15.351553Z",
     "iopub.status.idle": "2022-12-18T03:26:15.379608Z",
     "shell.execute_reply": "2022-12-18T03:26:15.378339Z",
     "shell.execute_reply.started": "2022-12-18T03:26:15.352359Z"
    }
   },
   "outputs": [],
   "source": [
    "# extract Operating System\n",
    "dict_map = {'Compatible': 'Windows', 'Ipad': 'iPad', 'Iphone': 'iPhone', 'Macintosh': 'Mac',  \n",
    "       'Windows nt 5.1': 'Windows', 'Windows nt 6.0': 'Windows', 'Windows nt 6.1': 'Windows', \n",
    "       'Windows nt 6.2': 'Windows',  'Windows nt 6.3': 'Windows', 'X11': 'Linux'}\n",
    "\n",
    "get_operating_sys = udf(lambda x: dict_map[re.findall('\\(([^\\)]*)\\)', x)[0].split(';')[0].capitalize()])\n",
    "df_filtered = df_filtered.withColumn('operating_system', get_operating_sys(df_filtered.userAgent))"
   ]
  },
  {
   "cell_type": "code",
   "execution_count": 167,
   "metadata": {
    "execution": {
     "iopub.execute_input": "2022-12-18T03:26:15.382038Z",
     "iopub.status.busy": "2022-12-18T03:26:15.381456Z",
     "iopub.status.idle": "2022-12-18T03:26:16.860042Z",
     "shell.execute_reply": "2022-12-18T03:26:16.858751Z",
     "shell.execute_reply.started": "2022-12-18T03:26:15.381989Z"
    }
   },
   "outputs": [
    {
     "name": "stderr",
     "output_type": "stream",
     "text": [
      "[Stage 16103:>                                                      (0 + 4) / 4]\r"
     ]
    },
    {
     "name": "stdout",
     "output_type": "stream",
     "text": [
      "+--------------+\n",
      "|location_state|\n",
      "+--------------+\n",
      "|            AZ|\n",
      "|            SC|\n",
      "|            LA|\n",
      "|            NJ|\n",
      "|            VA|\n",
      "+--------------+\n",
      "only showing top 5 rows\n",
      "\n"
     ]
    },
    {
     "name": "stderr",
     "output_type": "stream",
     "text": [
      "                                                                                \r"
     ]
    }
   ],
   "source": [
    "# extract state from location\n",
    "get_location_fn = udf(lambda x:x[-2:len(x)])\n",
    "df_filtered = df_filtered.withColumn('location_state', get_location_fn(df_filtered.location))\n",
    "df_filtered.select('location_state').distinct().show(5)"
   ]
  },
  {
   "cell_type": "code",
   "execution_count": 168,
   "metadata": {
    "execution": {
     "iopub.execute_input": "2022-12-18T03:26:16.861728Z",
     "iopub.status.busy": "2022-12-18T03:26:16.861362Z",
     "iopub.status.idle": "2022-12-18T03:26:16.897971Z",
     "shell.execute_reply": "2022-12-18T03:26:16.897013Z",
     "shell.execute_reply.started": "2022-12-18T03:26:16.861694Z"
    }
   },
   "outputs": [],
   "source": [
    "# create feature \"downgrade\"\n",
    "downgrade_event_fn = udf(lambda x: 0 if x != 'Submit Downgrade' else 1, IntegerType())\n",
    "df_filtered = df_filtered.withColumn('downgrade_event', downgrade_event_fn('page'))\n",
    "df_filtered = df_filtered.withColumn('downgrade', max('downgrade_event').over(Window.partitionBy('userId')))"
   ]
  },
  {
   "cell_type": "code",
   "execution_count": 169,
   "metadata": {
    "execution": {
     "iopub.execute_input": "2022-12-18T03:26:16.899894Z",
     "iopub.status.busy": "2022-12-18T03:26:16.899108Z",
     "iopub.status.idle": "2022-12-18T03:26:16.946308Z",
     "shell.execute_reply": "2022-12-18T03:26:16.944987Z",
     "shell.execute_reply.started": "2022-12-18T03:26:16.899831Z"
    }
   },
   "outputs": [],
   "source": [
    "# create feature \"churn\"\n",
    "churn_event = udf(lambda x: 0 if x != 'Cancellation Confirmation' else 1, IntegerType())\n",
    "df_filtered = df_filtered.withColumn('churn_event', churn_event('page'))\n",
    "df_filtered = df_filtered.withColumn('churn', max('churn_event').over(Window.partitionBy('userId')))"
   ]
  },
  {
   "cell_type": "markdown",
   "metadata": {},
   "source": [
    "# EDA"
   ]
  },
  {
   "cell_type": "code",
   "execution_count": 202,
   "metadata": {
    "execution": {
     "iopub.execute_input": "2022-12-18T03:57:36.226103Z",
     "iopub.status.busy": "2022-12-18T03:57:36.225657Z",
     "iopub.status.idle": "2022-12-18T03:57:46.068130Z",
     "shell.execute_reply": "2022-12-18T03:57:46.066889Z",
     "shell.execute_reply.started": "2022-12-18T03:57:36.226064Z"
    }
   },
   "outputs": [
    {
     "name": "stderr",
     "output_type": "stream",
     "text": [
      "                                                                                \r"
     ]
    }
   ],
   "source": [
    "df_pd = df_filtered.toPandas()"
   ]
  },
  {
   "cell_type": "code",
   "execution_count": 206,
   "metadata": {
    "execution": {
     "iopub.execute_input": "2022-12-18T03:59:11.242158Z",
     "iopub.status.busy": "2022-12-18T03:59:11.241732Z",
     "iopub.status.idle": "2022-12-18T03:59:11.416315Z",
     "shell.execute_reply": "2022-12-18T03:59:11.415123Z",
     "shell.execute_reply.started": "2022-12-18T03:59:11.242124Z"
    }
   },
   "outputs": [
    {
     "name": "stderr",
     "output_type": "stream",
     "text": [
      "/opt/conda/lib/python3.7/site-packages/seaborn/_decorators.py:43: FutureWarning: Pass the following variable as a keyword arg: x. From version 0.12, the only valid positional argument will be `data`, and passing other arguments without an explicit keyword will result in an error or misinterpretation.\n",
      "  FutureWarning\n"
     ]
    },
    {
     "data": {
      "image/png": "[encoded data removed]",
      "text/plain": [
       "<Figure size 432x288 with 1 Axes>"
      ]
     },
     "metadata": {
      "needs_background": "light"
     },
     "output_type": "display_data"
    }
   ],
   "source": [
    "sns.countplot(df_pd['churn'])\n",
    "plt.show()"
   ]
  },
  {
   "cell_type": "code",
   "execution_count": 217,
   "metadata": {
    "execution": {
     "iopub.execute_input": "2022-12-18T04:17:24.903560Z",
     "iopub.status.busy": "2022-12-18T04:17:24.902626Z",
     "iopub.status.idle": "2022-12-18T04:17:24.931534Z",
     "shell.execute_reply": "2022-12-18T04:17:24.930303Z",
     "shell.execute_reply.started": "2022-12-18T04:17:24.903502Z"
    }
   },
   "outputs": [
    {
     "data": {
      "text/html": [
       "<div>\n",
       "<style scoped>\n",
       "    .dataframe tbody tr th:only-of-type {\n",
       "        vertical-align: middle;\n",
       "    }\n",
       "\n",
       "    .dataframe tbody tr th {\n",
       "        vertical-align: top;\n",
       "    }\n",
       "\n",
       "    .dataframe thead th {\n",
       "        text-align: right;\n",
       "    }\n",
       "</style>\n",
       "<table border=\"1\" class=\"dataframe\">\n",
       "  <thead>\n",
       "    <tr style=\"text-align: right;\">\n",
       "      <th></th>\n",
       "      <th>artist</th>\n",
       "      <th>auth</th>\n",
       "      <th>firstName</th>\n",
       "      <th>gender</th>\n",
       "      <th>itemInSession</th>\n",
       "      <th>lastName</th>\n",
       "      <th>length</th>\n",
       "      <th>level</th>\n",
       "      <th>location</th>\n",
       "      <th>method</th>\n",
       "      <th>...</th>\n",
       "      <th>userId</th>\n",
       "      <th>event_time</th>\n",
       "      <th>registration_time</th>\n",
       "      <th>day_of_month</th>\n",
       "      <th>operating_system</th>\n",
       "      <th>location_state</th>\n",
       "      <th>downgrade_event</th>\n",
       "      <th>downgrade</th>\n",
       "      <th>churn_event</th>\n",
       "      <th>churn</th>\n",
       "    </tr>\n",
       "  </thead>\n",
       "  <tbody>\n",
       "    <tr>\n",
       "      <th>0</th>\n",
       "      <td>OneRepublic</td>\n",
       "      <td>Logged In</td>\n",
       "      <td>Bryanna</td>\n",
       "      <td>F</td>\n",
       "      <td>0</td>\n",
       "      <td>Stone</td>\n",
       "      <td>224.67873</td>\n",
       "      <td>paid</td>\n",
       "      <td>Los Angeles-Long Beach-Anaheim, CA</td>\n",
       "      <td>PUT</td>\n",
       "      <td>...</td>\n",
       "      <td>100008</td>\n",
       "      <td>2018-10-09 16:14:24</td>\n",
       "      <td>2018-09-20 10:44:31</td>\n",
       "      <td>9</td>\n",
       "      <td>Mac</td>\n",
       "      <td>CA</td>\n",
       "      <td>0</td>\n",
       "      <td>1</td>\n",
       "      <td>0</td>\n",
       "      <td>0</td>\n",
       "    </tr>\n",
       "    <tr>\n",
       "      <th>1</th>\n",
       "      <td>Guns N' Roses</td>\n",
       "      <td>Logged In</td>\n",
       "      <td>Bryanna</td>\n",
       "      <td>F</td>\n",
       "      <td>1</td>\n",
       "      <td>Stone</td>\n",
       "      <td>182.36036</td>\n",
       "      <td>paid</td>\n",
       "      <td>Los Angeles-Long Beach-Anaheim, CA</td>\n",
       "      <td>PUT</td>\n",
       "      <td>...</td>\n",
       "      <td>100008</td>\n",
       "      <td>2018-10-09 16:18:08</td>\n",
       "      <td>2018-09-20 10:44:31</td>\n",
       "      <td>9</td>\n",
       "      <td>Mac</td>\n",
       "      <td>CA</td>\n",
       "      <td>0</td>\n",
       "      <td>1</td>\n",
       "      <td>0</td>\n",
       "      <td>0</td>\n",
       "    </tr>\n",
       "    <tr>\n",
       "      <th>2</th>\n",
       "      <td>The Almost</td>\n",
       "      <td>Logged In</td>\n",
       "      <td>Bryanna</td>\n",
       "      <td>F</td>\n",
       "      <td>2</td>\n",
       "      <td>Stone</td>\n",
       "      <td>239.17669</td>\n",
       "      <td>paid</td>\n",
       "      <td>Los Angeles-Long Beach-Anaheim, CA</td>\n",
       "      <td>PUT</td>\n",
       "      <td>...</td>\n",
       "      <td>100008</td>\n",
       "      <td>2018-10-09 16:21:10</td>\n",
       "      <td>2018-09-20 10:44:31</td>\n",
       "      <td>9</td>\n",
       "      <td>Mac</td>\n",
       "      <td>CA</td>\n",
       "      <td>0</td>\n",
       "      <td>1</td>\n",
       "      <td>0</td>\n",
       "      <td>0</td>\n",
       "    </tr>\n",
       "    <tr>\n",
       "      <th>3</th>\n",
       "      <td>Maroon 5</td>\n",
       "      <td>Logged In</td>\n",
       "      <td>Bryanna</td>\n",
       "      <td>F</td>\n",
       "      <td>3</td>\n",
       "      <td>Stone</td>\n",
       "      <td>231.23546</td>\n",
       "      <td>paid</td>\n",
       "      <td>Los Angeles-Long Beach-Anaheim, CA</td>\n",
       "      <td>PUT</td>\n",
       "      <td>...</td>\n",
       "      <td>100008</td>\n",
       "      <td>2018-10-09 16:25:09</td>\n",
       "      <td>2018-09-20 10:44:31</td>\n",
       "      <td>9</td>\n",
       "      <td>Mac</td>\n",
       "      <td>CA</td>\n",
       "      <td>0</td>\n",
       "      <td>1</td>\n",
       "      <td>0</td>\n",
       "      <td>0</td>\n",
       "    </tr>\n",
       "    <tr>\n",
       "      <th>4</th>\n",
       "      <td>LMFAO</td>\n",
       "      <td>Logged In</td>\n",
       "      <td>Bryanna</td>\n",
       "      <td>F</td>\n",
       "      <td>4</td>\n",
       "      <td>Stone</td>\n",
       "      <td>225.64526</td>\n",
       "      <td>paid</td>\n",
       "      <td>Los Angeles-Long Beach-Anaheim, CA</td>\n",
       "      <td>PUT</td>\n",
       "      <td>...</td>\n",
       "      <td>100008</td>\n",
       "      <td>2018-10-09 16:29:00</td>\n",
       "      <td>2018-09-20 10:44:31</td>\n",
       "      <td>9</td>\n",
       "      <td>Mac</td>\n",
       "      <td>CA</td>\n",
       "      <td>0</td>\n",
       "      <td>1</td>\n",
       "      <td>0</td>\n",
       "      <td>0</td>\n",
       "    </tr>\n",
       "  </tbody>\n",
       "</table>\n",
       "<p>5 rows × 27 columns</p>\n",
       "</div>"
      ],
      "text/plain": [
       "          artist       auth firstName gender  itemInSession lastName  \\\n",
       "0    OneRepublic  Logged In   Bryanna      F              0    Stone   \n",
       "1  Guns N' Roses  Logged In   Bryanna      F              1    Stone   \n",
       "2     The Almost  Logged In   Bryanna      F              2    Stone   \n",
       "3       Maroon 5  Logged In   Bryanna      F              3    Stone   \n",
       "4          LMFAO  Logged In   Bryanna      F              4    Stone   \n",
       "\n",
       "      length level                            location method  ...  userId  \\\n",
       "0  224.67873  paid  Los Angeles-Long Beach-Anaheim, CA    PUT  ...  100008   \n",
       "1  182.36036  paid  Los Angeles-Long Beach-Anaheim, CA    PUT  ...  100008   \n",
       "2  239.17669  paid  Los Angeles-Long Beach-Anaheim, CA    PUT  ...  100008   \n",
       "3  231.23546  paid  Los Angeles-Long Beach-Anaheim, CA    PUT  ...  100008   \n",
       "4  225.64526  paid  Los Angeles-Long Beach-Anaheim, CA    PUT  ...  100008   \n",
       "\n",
       "            event_time    registration_time day_of_month  operating_system  \\\n",
       "0  2018-10-09 16:14:24  2018-09-20 10:44:31            9               Mac   \n",
       "1  2018-10-09 16:18:08  2018-09-20 10:44:31            9               Mac   \n",
       "2  2018-10-09 16:21:10  2018-09-20 10:44:31            9               Mac   \n",
       "3  2018-10-09 16:25:09  2018-09-20 10:44:31            9               Mac   \n",
       "4  2018-10-09 16:29:00  2018-09-20 10:44:31            9               Mac   \n",
       "\n",
       "   location_state downgrade_event downgrade churn_event churn  \n",
       "0              CA               0         1           0     0  \n",
       "1              CA               0         1           0     0  \n",
       "2              CA               0         1           0     0  \n",
       "3              CA               0         1           0     0  \n",
       "4              CA               0         1           0     0  \n",
       "\n",
       "[5 rows x 27 columns]"
      ]
     },
     "execution_count": 217,
     "metadata": {},
     "output_type": "execute_result"
    }
   ],
   "source": [
    "df_pd.head()"
   ]
  },
  {
   "cell_type": "code",
   "execution_count": 232,
   "metadata": {
    "execution": {
     "iopub.execute_input": "2022-12-18T04:22:45.914094Z",
     "iopub.status.busy": "2022-12-18T04:22:45.913616Z",
     "iopub.status.idle": "2022-12-18T04:22:45.923505Z",
     "shell.execute_reply": "2022-12-18T04:22:45.922451Z",
     "shell.execute_reply.started": "2022-12-18T04:22:45.914048Z"
    }
   },
   "outputs": [],
   "source": [
    "def statPlot(colname):\n",
    "    \n",
    "    ############# crarte df ################\n",
    "    df1 = df_pd[[colname,'churn']]\n",
    "\n",
    "    df1  = df1.groupby([colname, \n",
    "                              'churn']).size().reset_index().pivot(columns='churn', \n",
    "                                                                        index=colname, \n",
    "                                                                    values=0)\n",
    "#     return df1\n",
    "    df1['percentage_of_churn']= df1[1]*100/(df1[0]+ df1[1])\n",
    "    # df_job['percentage_of_unsubscribers']= df_job['no']/(df_job['no']+ df_job['yes'])\n",
    "    df1.dropna(inplace=True)\n",
    "    df1= df1.sort_values('percentage_of_churn').reset_index()\n",
    "    df1[colname] = df1[colname].astype('str')\n",
    "    \n",
    "    ##### PLOT ####################\n",
    "    plt.figure(figsize=(15,5))\n",
    "    ax = sns.barplot(df1[colname],df1['percentage_of_churn'],\n",
    "                     palette=\"vlag\")\n",
    "    for bars in ax.containers:\n",
    "        ax.bar_label(bars, fmt=\"%.2f%%\")\n",
    "    plt.show()"
   ]
  },
  {
   "cell_type": "code",
   "execution_count": 233,
   "metadata": {
    "execution": {
     "iopub.execute_input": "2022-12-18T04:22:46.123468Z",
     "iopub.status.busy": "2022-12-18T04:22:46.122990Z",
     "iopub.status.idle": "2022-12-18T04:22:46.357166Z",
     "shell.execute_reply": "2022-12-18T04:22:46.355502Z",
     "shell.execute_reply.started": "2022-12-18T04:22:46.123428Z"
    }
   },
   "outputs": [
    {
     "name": "stderr",
     "output_type": "stream",
     "text": [
      "/opt/conda/lib/python3.7/site-packages/seaborn/_decorators.py:43: FutureWarning: Pass the following variables as keyword args: x, y. From version 0.12, the only valid positional argument will be `data`, and passing other arguments without an explicit keyword will result in an error or misinterpretation.\n",
      "  FutureWarning\n"
     ]
    },
    {
     "data": {
      "image/png": "[encoded data removed]",
      "text/plain": [
       "<Figure size 1080x360 with 1 Axes>"
      ]
     },
     "metadata": {
      "needs_background": "light"
     },
     "output_type": "display_data"
    }
   ],
   "source": [
    "statPlot('gender')"
   ]
  },
  {
   "cell_type": "code",
   "execution_count": 234,
   "metadata": {
    "execution": {
     "iopub.execute_input": "2022-12-18T04:23:36.181447Z",
     "iopub.status.busy": "2022-12-18T04:23:36.180967Z",
     "iopub.status.idle": "2022-12-18T04:23:36.474447Z",
     "shell.execute_reply": "2022-12-18T04:23:36.473167Z",
     "shell.execute_reply.started": "2022-12-18T04:23:36.181412Z"
    }
   },
   "outputs": [
    {
     "name": "stderr",
     "output_type": "stream",
     "text": [
      "/opt/conda/lib/python3.7/site-packages/seaborn/_decorators.py:43: FutureWarning: Pass the following variables as keyword args: x, y. From version 0.12, the only valid positional argument will be `data`, and passing other arguments without an explicit keyword will result in an error or misinterpretation.\n",
      "  FutureWarning\n"
     ]
    },
    {
     "data": {
      "image/png": "[encoded data removed]",
      "text/plain": [
       "<Figure size 1080x360 with 1 Axes>"
      ]
     },
     "metadata": {
      "needs_background": "light"
     },
     "output_type": "display_data"
    }
   ],
   "source": [
    "statPlot('level')"
   ]
  },
  {
   "cell_type": "code",
   "execution_count": 235,
   "metadata": {
    "execution": {
     "iopub.execute_input": "2022-12-18T04:24:09.073534Z",
     "iopub.status.busy": "2022-12-18T04:24:09.072914Z",
     "iopub.status.idle": "2022-12-18T04:24:09.400126Z",
     "shell.execute_reply": "2022-12-18T04:24:09.398998Z",
     "shell.execute_reply.started": "2022-12-18T04:24:09.073455Z"
    }
   },
   "outputs": [
    {
     "name": "stderr",
     "output_type": "stream",
     "text": [
      "/opt/conda/lib/python3.7/site-packages/seaborn/_decorators.py:43: FutureWarning: Pass the following variables as keyword args: x, y. From version 0.12, the only valid positional argument will be `data`, and passing other arguments without an explicit keyword will result in an error or misinterpretation.\n",
      "  FutureWarning\n"
     ]
    },
    {
     "data": {
      "image/png": "[encoded data removed]",
      "text/plain": [
       "<Figure size 1080x360 with 1 Axes>"
      ]
     },
     "metadata": {
      "needs_background": "light"
     },
     "output_type": "display_data"
    }
   ],
   "source": [
    "statPlot('operating_system')"
   ]
  },
  {
   "cell_type": "code",
   "execution_count": 236,
   "metadata": {
    "execution": {
     "iopub.execute_input": "2022-12-18T04:24:40.484108Z",
     "iopub.status.busy": "2022-12-18T04:24:40.483631Z",
     "iopub.status.idle": "2022-12-18T04:24:41.059172Z",
     "shell.execute_reply": "2022-12-18T04:24:41.057755Z",
     "shell.execute_reply.started": "2022-12-18T04:24:40.484068Z"
    }
   },
   "outputs": [
    {
     "name": "stderr",
     "output_type": "stream",
     "text": [
      "/opt/conda/lib/python3.7/site-packages/seaborn/_decorators.py:43: FutureWarning: Pass the following variables as keyword args: x, y. From version 0.12, the only valid positional argument will be `data`, and passing other arguments without an explicit keyword will result in an error or misinterpretation.\n",
      "  FutureWarning\n"
     ]
    },
    {
     "data": {
      "image/png": "[encoded data removed]",
      "text/plain": [
       "<Figure size 1080x360 with 1 Axes>"
      ]
     },
     "metadata": {
      "needs_background": "light"
     },
     "output_type": "display_data"
    }
   ],
   "source": [
    "statPlot('location_state')"
   ]
  },
  {
   "cell_type": "code",
   "execution_count": 172,
   "metadata": {
    "execution": {
     "iopub.execute_input": "2022-12-18T03:26:16.971793Z",
     "iopub.status.busy": "2022-12-18T03:26:16.971382Z",
     "iopub.status.idle": "2022-12-18T03:26:16.977605Z",
     "shell.execute_reply": "2022-12-18T03:26:16.976437Z",
     "shell.execute_reply.started": "2022-12-18T03:26:16.971751Z"
    }
   },
   "outputs": [],
   "source": [
    "model_features = [] # store model features"
   ]
  },
  {
   "cell_type": "code",
   "execution_count": 173,
   "metadata": {
    "execution": {
     "iopub.execute_input": "2022-12-18T03:26:16.979786Z",
     "iopub.status.busy": "2022-12-18T03:26:16.979420Z",
     "iopub.status.idle": "2022-12-18T03:26:18.146711Z",
     "shell.execute_reply": "2022-12-18T03:26:18.145719Z",
     "shell.execute_reply.started": "2022-12-18T03:26:16.979755Z"
    }
   },
   "outputs": [
    {
     "name": "stderr",
     "output_type": "stream",
     "text": [
      "[Stage 16106:>                                                      (0 + 4) / 4]\r"
     ]
    },
    {
     "name": "stdout",
     "output_type": "stream",
     "text": [
      "+------+------+\n",
      "|userId|gender|\n",
      "+------+------+\n",
      "|    10|     1|\n",
      "|   100|     1|\n",
      "|100001|     0|\n",
      "|100002|     0|\n",
      "|100003|     0|\n",
      "+------+------+\n",
      "only showing top 5 rows\n",
      "\n"
     ]
    },
    {
     "name": "stderr",
     "output_type": "stream",
     "text": [
      "                                                                                \r"
     ]
    }
   ],
   "source": [
    "# gender of the user\n",
    "temp = df_filtered.select(['userId', 'gender']).dropDuplicates(['userId'])\n",
    "temp = temp.replace(['F', 'M'], ['0', '1'], 'gender')\n",
    "df_gender = temp.withColumn('gender', temp.gender.cast('int'))\n",
    "model_features.append(df_gender)\n",
    "df_gender.show(5)"
   ]
  },
  {
   "cell_type": "code",
   "execution_count": 174,
   "metadata": {
    "execution": {
     "iopub.execute_input": "2022-12-18T03:26:18.148510Z",
     "iopub.status.busy": "2022-12-18T03:26:18.148144Z",
     "iopub.status.idle": "2022-12-18T03:26:19.373774Z",
     "shell.execute_reply": "2022-12-18T03:26:19.372661Z",
     "shell.execute_reply.started": "2022-12-18T03:26:18.148454Z"
    }
   },
   "outputs": [
    {
     "name": "stderr",
     "output_type": "stream",
     "text": [
      "[Stage 16109:>                                                      (0 + 4) / 4]\r"
     ]
    },
    {
     "name": "stdout",
     "output_type": "stream",
     "text": [
      "+------+-----+\n",
      "|userId|level|\n",
      "+------+-----+\n",
      "|    10|    0|\n",
      "|   100|    0|\n",
      "|100001|    1|\n",
      "|100002|    0|\n",
      "|100003|    1|\n",
      "+------+-----+\n",
      "only showing top 5 rows\n",
      "\n"
     ]
    },
    {
     "name": "stderr",
     "output_type": "stream",
     "text": [
      "                                                                                \r"
     ]
    }
   ],
   "source": [
    "# level of the user\n",
    "temp = df_filtered.select(['userId', 'level']).dropDuplicates(['userId'])\n",
    "temp = temp.replace(['paid', 'free'], ['0', '1'], 'level')\n",
    "df_payment = temp.withColumn('level', temp.level.cast('int'))\n",
    "model_features.append(df_payment)\n",
    "df_payment.show(5)"
   ]
  },
  {
   "cell_type": "code",
   "execution_count": 175,
   "metadata": {
    "execution": {
     "iopub.execute_input": "2022-12-18T03:26:19.375395Z",
     "iopub.status.busy": "2022-12-18T03:26:19.375042Z",
     "iopub.status.idle": "2022-12-18T03:26:21.112623Z",
     "shell.execute_reply": "2022-12-18T03:26:21.111282Z",
     "shell.execute_reply.started": "2022-12-18T03:26:19.375361Z"
    }
   },
   "outputs": [
    {
     "name": "stderr",
     "output_type": "stream",
     "text": [
      "[Stage 16112:>                                                      (0 + 4) / 4]\r"
     ]
    },
    {
     "name": "stdout",
     "output_type": "stream",
     "text": [
      "+------+---------+\n",
      "|userId|downgrade|\n",
      "+------+---------+\n",
      "|    10|        0|\n",
      "|   100|        1|\n",
      "|100001|        0|\n",
      "|100002|        0|\n",
      "|100003|        0|\n",
      "+------+---------+\n",
      "only showing top 5 rows\n",
      "\n"
     ]
    },
    {
     "name": "stderr",
     "output_type": "stream",
     "text": [
      "                                                                                \r"
     ]
    }
   ],
   "source": [
    "# did the user downgrade\n",
    "temp = df_filtered.select(['userId','downgrade']).dropDuplicates(['userId']) \n",
    "df_downgrade = temp.withColumn('downgrade', temp.downgrade.cast('int'))\n",
    "model_features.append(df_downgrade)\n",
    "df_downgrade.show(5)"
   ]
  },
  {
   "cell_type": "code",
   "execution_count": 176,
   "metadata": {
    "execution": {
     "iopub.execute_input": "2022-12-18T03:26:21.114455Z",
     "iopub.status.busy": "2022-12-18T03:26:21.113979Z",
     "iopub.status.idle": "2022-12-18T03:26:22.830823Z",
     "shell.execute_reply": "2022-12-18T03:26:22.829820Z",
     "shell.execute_reply.started": "2022-12-18T03:26:21.114404Z"
    }
   },
   "outputs": [
    {
     "name": "stderr",
     "output_type": "stream",
     "text": [
      "[Stage 16115:>                                                      (0 + 4) / 4]\r"
     ]
    },
    {
     "name": "stdout",
     "output_type": "stream",
     "text": [
      "+------+-----+\n",
      "|userId|churn|\n",
      "+------+-----+\n",
      "|    10|    0|\n",
      "|   100|    0|\n",
      "|100001|    1|\n",
      "|100002|    0|\n",
      "|100003|    1|\n",
      "+------+-----+\n",
      "only showing top 5 rows\n",
      "\n"
     ]
    },
    {
     "name": "stderr",
     "output_type": "stream",
     "text": [
      "                                                                                \r"
     ]
    }
   ],
   "source": [
    "# did the user churn\n",
    "temp = df_filtered.select(['userId','churn']).dropDuplicates(['userId'])\n",
    "df_churn = temp.withColumn('churn', temp.churn.cast('int'))\n",
    "df_churn.show(5) "
   ]
  },
  {
   "cell_type": "code",
   "execution_count": 177,
   "metadata": {
    "execution": {
     "iopub.execute_input": "2022-12-18T03:26:22.832924Z",
     "iopub.status.busy": "2022-12-18T03:26:22.832052Z",
     "iopub.status.idle": "2022-12-18T03:26:22.856468Z",
     "shell.execute_reply": "2022-12-18T03:26:22.855397Z",
     "shell.execute_reply.started": "2022-12-18T03:26:22.832878Z"
    }
   },
   "outputs": [],
   "source": [
    "# number of songs the user listened to in total\n",
    "num_songs = df_filtered.select('userID','song').groupBy('userID').count()\n",
    "model_features.append(num_songs)"
   ]
  },
  {
   "cell_type": "code",
   "execution_count": 178,
   "metadata": {
    "execution": {
     "iopub.execute_input": "2022-12-18T03:26:22.859045Z",
     "iopub.status.busy": "2022-12-18T03:26:22.858198Z",
     "iopub.status.idle": "2022-12-18T03:26:23.840900Z",
     "shell.execute_reply": "2022-12-18T03:26:23.839691Z",
     "shell.execute_reply.started": "2022-12-18T03:26:22.859008Z"
    }
   },
   "outputs": [
    {
     "name": "stdout",
     "output_type": "stream",
     "text": [
      "+------+-------------+\n",
      "|userID|num_thumbs_up|\n",
      "+------+-------------+\n",
      "|    51|          100|\n",
      "|   124|          171|\n",
      "|     7|            7|\n",
      "|    54|          163|\n",
      "|    15|           81|\n",
      "+------+-------------+\n",
      "only showing top 5 rows\n",
      "\n",
      "None\n",
      "+------+---------------+\n",
      "|userID|num_thumbs_down|\n",
      "+------+---------------+\n",
      "|    51|             21|\n",
      "|   124|             41|\n",
      "|     7|              1|\n",
      "|    15|             14|\n",
      "|    54|             29|\n",
      "+------+---------------+\n",
      "only showing top 5 rows\n",
      "\n",
      "None\n"
     ]
    }
   ],
   "source": [
    "# number of Thumbs-Up/Down\n",
    "num_thumbs_up = df_filtered.select('userID','page').where(df_filtered.page == 'Thumbs Up').groupBy('userID').count().withColumnRenamed('count', 'num_thumbs_up') \n",
    "print(num_thumbs_up.show(5))\n",
    "model_features.append(num_thumbs_up)\n",
    "num_thumbs_down = df_filtered.select('userID','page').where(df_filtered.page == 'Thumbs Down').groupBy('userID').count().withColumnRenamed('count', 'num_thumbs_down') \n",
    "model_features.append(num_thumbs_down)\n",
    "print(num_thumbs_down.show(5)) "
   ]
  },
  {
   "cell_type": "code",
   "execution_count": 179,
   "metadata": {
    "execution": {
     "iopub.execute_input": "2022-12-18T03:26:23.842249Z",
     "iopub.status.busy": "2022-12-18T03:26:23.841910Z",
     "iopub.status.idle": "2022-12-18T03:26:24.286978Z",
     "shell.execute_reply": "2022-12-18T03:26:24.285700Z",
     "shell.execute_reply.started": "2022-12-18T03:26:23.842217Z"
    }
   },
   "outputs": [
    {
     "name": "stdout",
     "output_type": "stream",
     "text": [
      "+------+------------+\n",
      "|userID|num_playlist|\n",
      "+------+------------+\n",
      "|    51|          52|\n",
      "|   124|         118|\n",
      "|    15|          59|\n",
      "|    54|          72|\n",
      "|   132|          38|\n",
      "+------+------------+\n",
      "only showing top 5 rows\n",
      "\n"
     ]
    }
   ],
   "source": [
    "# number of songs added to playlist\n",
    "num_playlist = df_filtered.select('userID','page').where(df_filtered.page == 'Add to Playlist').groupBy('userID').count().withColumnRenamed('count', 'num_playlist')\n",
    "model_features.append(num_playlist)\n",
    "num_playlist.show(5) "
   ]
  },
  {
   "cell_type": "code",
   "execution_count": 180,
   "metadata": {
    "execution": {
     "iopub.execute_input": "2022-12-18T03:26:24.288649Z",
     "iopub.status.busy": "2022-12-18T03:26:24.288213Z",
     "iopub.status.idle": "2022-12-18T03:26:24.730449Z",
     "shell.execute_reply": "2022-12-18T03:26:24.729465Z",
     "shell.execute_reply.started": "2022-12-18T03:26:24.288613Z"
    }
   },
   "outputs": [
    {
     "name": "stdout",
     "output_type": "stream",
     "text": [
      "+------+----------+\n",
      "|userID|num_friend|\n",
      "+------+----------+\n",
      "|    51|        28|\n",
      "|   124|        74|\n",
      "|     7|         1|\n",
      "|    54|        33|\n",
      "|    15|        31|\n",
      "+------+----------+\n",
      "only showing top 5 rows\n",
      "\n"
     ]
    }
   ],
   "source": [
    "# number of friends added\n",
    "num_friends = df_filtered.select('userID','page').where(df_filtered.page == 'Add Friend').groupBy('userID').count().withColumnRenamed('count', 'num_friend')\n",
    "model_features.append(num_friends)\n",
    "num_friends.show(5)"
   ]
  },
  {
   "cell_type": "code",
   "execution_count": 181,
   "metadata": {
    "execution": {
     "iopub.execute_input": "2022-12-18T03:26:24.737325Z",
     "iopub.status.busy": "2022-12-18T03:26:24.736388Z",
     "iopub.status.idle": "2022-12-18T03:26:25.752517Z",
     "shell.execute_reply": "2022-12-18T03:26:25.751624Z",
     "shell.execute_reply.started": "2022-12-18T03:26:24.737282Z"
    }
   },
   "outputs": [
    {
     "name": "stderr",
     "output_type": "stream",
     "text": [
      "[Stage 16130:=============>                                         (1 + 3) / 4]\r"
     ]
    },
    {
     "name": "stdout",
     "output_type": "stream",
     "text": [
      "+------+------------------+\n",
      "|userID|      sum_listened|\n",
      "+------+------------------+\n",
      "|   125|2089.1131000000005|\n",
      "|    51| 523275.8428000004|\n",
      "|   124|1012312.0927900008|\n",
      "|     7|        38034.0871|\n",
      "|    54| 711344.9195399994|\n",
      "+------+------------------+\n",
      "only showing top 5 rows\n",
      "\n"
     ]
    },
    {
     "name": "stderr",
     "output_type": "stream",
     "text": [
      "                                                                                \r"
     ]
    }
   ],
   "source": [
    "# total length of listening\n",
    "sum_listened = df_filtered.select('userID','length').groupBy('userID').sum().withColumnRenamed('sum(length)', 'sum_listened')\n",
    "model_features.append(sum_listened)\n",
    "sum_listened.show(5) "
   ]
  },
  {
   "cell_type": "code",
   "execution_count": 182,
   "metadata": {
    "execution": {
     "iopub.execute_input": "2022-12-18T03:26:25.753862Z",
     "iopub.status.busy": "2022-12-18T03:26:25.753465Z",
     "iopub.status.idle": "2022-12-18T03:26:26.978984Z",
     "shell.execute_reply": "2022-12-18T03:26:26.977893Z",
     "shell.execute_reply.started": "2022-12-18T03:26:25.753828Z"
    }
   },
   "outputs": [
    {
     "name": "stderr",
     "output_type": "stream",
     "text": [
      "[Stage 16133:>                                                      (0 + 4) / 4]\r"
     ]
    },
    {
     "name": "stdout",
     "output_type": "stream",
     "text": [
      "+------+------------------+\n",
      "|userId|   av_song_session|\n",
      "+------+------------------+\n",
      "|100010|39.285714285714285|\n",
      "|200002|              64.5|\n",
      "|   125|               8.0|\n",
      "|    51|             211.1|\n",
      "|   124|145.67857142857142|\n",
      "+------+------------------+\n",
      "only showing top 5 rows\n",
      "\n"
     ]
    },
    {
     "name": "stderr",
     "output_type": "stream",
     "text": [
      "                                                                                \r"
     ]
    }
   ],
   "source": [
    "# Number of songs listened per session\n",
    "av_song_session = df_filtered.where('page == \"NextSong\"').groupby(['userId', 'sessionId']).count().groupby(['userId']).agg({'count':'avg'}).withColumnRenamed('avg(count)', 'av_song_session')\n",
    "model_features.append(av_song_session)\n",
    "av_song_session.show(5)"
   ]
  },
  {
   "cell_type": "code",
   "execution_count": 183,
   "metadata": {
    "execution": {
     "iopub.execute_input": "2022-12-18T03:26:26.980298Z",
     "iopub.status.busy": "2022-12-18T03:26:26.979961Z",
     "iopub.status.idle": "2022-12-18T03:26:28.451643Z",
     "shell.execute_reply": "2022-12-18T03:26:28.450273Z",
     "shell.execute_reply.started": "2022-12-18T03:26:26.980268Z"
    }
   },
   "outputs": [
    {
     "name": "stderr",
     "output_type": "stream",
     "text": [
      "[Stage 16139:>                                                      (0 + 4) / 4]\r"
     ]
    },
    {
     "name": "stdout",
     "output_type": "stream",
     "text": [
      "+------+-----------+\n",
      "|userId|num_artists|\n",
      "+------+-----------+\n",
      "|100010|        252|\n",
      "|200002|        339|\n",
      "|   125|          8|\n",
      "|    51|       1385|\n",
      "|   124|       2232|\n",
      "+------+-----------+\n",
      "only showing top 5 rows\n",
      "\n"
     ]
    },
    {
     "name": "stderr",
     "output_type": "stream",
     "text": [
      "                                                                                \r"
     ]
    }
   ],
   "source": [
    "# number of artists listened to\n",
    "num_artists = df_filtered.filter(df_filtered.page==\"NextSong\").select(['userId', 'artist']).dropDuplicates().groupby('userId').count().withColumnRenamed('count', 'num_artists') \n",
    "model_features.append(num_artists)\n",
    "num_artists.show(5) "
   ]
  },
  {
   "cell_type": "code",
   "execution_count": 184,
   "metadata": {
    "execution": {
     "iopub.execute_input": "2022-12-18T03:26:28.454605Z",
     "iopub.status.busy": "2022-12-18T03:26:28.453087Z",
     "iopub.status.idle": "2022-12-18T03:26:29.606135Z",
     "shell.execute_reply": "2022-12-18T03:26:29.605225Z",
     "shell.execute_reply.started": "2022-12-18T03:26:28.454555Z"
    }
   },
   "outputs": [
    {
     "name": "stderr",
     "output_type": "stream",
     "text": [
      "[Stage 16145:>                                                      (0 + 4) / 4]\r"
     ]
    },
    {
     "name": "stdout",
     "output_type": "stream",
     "text": [
      "+------+------------------+\n",
      "|userId|       days_member|\n",
      "+------+------------------+\n",
      "|   125| 71.31688657407408|\n",
      "|    51|19.455844907407407|\n",
      "|   124|131.55591435185184|\n",
      "|     7| 72.77818287037037|\n",
      "|    54|110.75168981481481|\n",
      "+------+------------------+\n",
      "only showing top 5 rows\n",
      "\n"
     ]
    },
    {
     "name": "stderr",
     "output_type": "stream",
     "text": [
      "                                                                                \r"
     ]
    }
   ],
   "source": [
    "# time since registration in days\n",
    "days_member = df_filtered.select('userId','ts','registration').withColumn(\n",
    "    'days_member',((df_filtered.ts - df_filtered.registration)/1000/3600/24)).groupBy('userId').agg(\n",
    "    {'days_member':'max'}).withColumnRenamed('max(days_member)','days_member') \n",
    "\n",
    "model_features.append(days_member)\n",
    "days_member.show(5) "
   ]
  },
  {
   "cell_type": "code",
   "execution_count": 185,
   "metadata": {
    "execution": {
     "iopub.execute_input": "2022-12-18T03:26:29.607456Z",
     "iopub.status.busy": "2022-12-18T03:26:29.607126Z",
     "iopub.status.idle": "2022-12-18T03:26:30.731409Z",
     "shell.execute_reply": "2022-12-18T03:26:30.730540Z",
     "shell.execute_reply.started": "2022-12-18T03:26:29.607426Z"
    }
   },
   "outputs": [
    {
     "name": "stderr",
     "output_type": "stream",
     "text": [
      "[Stage 16148:>                                                      (0 + 4) / 4]\r"
     ]
    },
    {
     "name": "stdout",
     "output_type": "stream",
     "text": [
      "+------+------------+\n",
      "|userId|num_sessions|\n",
      "+------+------------+\n",
      "|100010|           7|\n",
      "|200002|           6|\n",
      "|   125|           1|\n",
      "|    51|          10|\n",
      "|   124|          29|\n",
      "+------+------------+\n",
      "only showing top 5 rows\n",
      "\n"
     ]
    },
    {
     "name": "stderr",
     "output_type": "stream",
     "text": [
      "                                                                                \r"
     ]
    }
   ],
   "source": [
    "# session count per user\n",
    "num_session = df_filtered.select('userId', 'sessionId').dropDuplicates().groupby('userId').count().withColumnRenamed('count', 'num_sessions') \n",
    "model_features.append(num_session)\n",
    "num_session.show(5) "
   ]
  },
  {
   "cell_type": "code",
   "execution_count": 186,
   "metadata": {
    "execution": {
     "iopub.execute_input": "2022-12-18T03:26:30.732807Z",
     "iopub.status.busy": "2022-12-18T03:26:30.732473Z",
     "iopub.status.idle": "2022-12-18T03:26:33.125361Z",
     "shell.execute_reply": "2022-12-18T03:26:33.124515Z",
     "shell.execute_reply.started": "2022-12-18T03:26:30.732776Z"
    }
   },
   "outputs": [
    {
     "name": "stderr",
     "output_type": "stream",
     "text": [
      "                                                                                \r"
     ]
    },
    {
     "name": "stdout",
     "output_type": "stream",
     "text": [
      "+------+---------+-------------------+\n",
      "|userId|sessionId|        dur_session|\n",
      "+------+---------+-------------------+\n",
      "|    92|      358|  4.288611111111111|\n",
      "|    42|      433| 1.2455555555555555|\n",
      "|   101|      635| 55.000277777777775|\n",
      "|   120|      627| 15.855555555555556|\n",
      "|   140|      798|0.16027777777777777|\n",
      "+------+---------+-------------------+\n",
      "only showing top 5 rows\n",
      "\n"
     ]
    }
   ],
   "source": [
    "# duration of the session\n",
    "sessionStart = df_filtered.groupBy('userId', 'sessionId').min('ts').withColumnRenamed('min(ts)', 'start')\n",
    "sessionEnd = df_filtered.groupBy('userId', 'sessionId').max('ts').withColumnRenamed('max(ts)', 'end')\n",
    "durSession = sessionStart.join(sessionEnd, ['userId', 'sessionId'])\n",
    "durSession = durSession.select('userId', 'sessionId', ((durSession.end-durSession.start)/(1000*60*60)).alias('dur_session'))\n",
    "model_features.append(durSession)\n",
    "durSession.show(5)"
   ]
  },
  {
   "cell_type": "code",
   "execution_count": 187,
   "metadata": {
    "execution": {
     "iopub.execute_input": "2022-12-18T03:26:33.126710Z",
     "iopub.status.busy": "2022-12-18T03:26:33.126330Z",
     "iopub.status.idle": "2022-12-18T03:26:33.599972Z",
     "shell.execute_reply": "2022-12-18T03:26:33.598913Z",
     "shell.execute_reply.started": "2022-12-18T03:26:33.126665Z"
    }
   },
   "outputs": [],
   "source": [
    "for i, feature_to_join in enumerate(model_features):\n",
    "    df_churn = df_churn.join(feature_to_join,'userID','outer')"
   ]
  },
  {
   "cell_type": "code",
   "execution_count": 188,
   "metadata": {
    "execution": {
     "iopub.execute_input": "2022-12-18T03:26:33.601284Z",
     "iopub.status.busy": "2022-12-18T03:26:33.600963Z",
     "iopub.status.idle": "2022-12-18T03:26:33.649174Z",
     "shell.execute_reply": "2022-12-18T03:26:33.647888Z",
     "shell.execute_reply.started": "2022-12-18T03:26:33.601256Z"
    }
   },
   "outputs": [],
   "source": [
    "df_churn = df_churn.drop('userID') \n",
    "df_final = df_churn.na.fill(0)"
   ]
  },
  {
   "cell_type": "code",
   "execution_count": 189,
   "metadata": {
    "execution": {
     "iopub.execute_input": "2022-12-18T03:26:33.651626Z",
     "iopub.status.busy": "2022-12-18T03:26:33.650498Z",
     "iopub.status.idle": "2022-12-18T03:26:40.191041Z",
     "shell.execute_reply": "2022-12-18T03:26:40.190063Z",
     "shell.execute_reply.started": "2022-12-18T03:26:33.651588Z"
    }
   },
   "outputs": [
    {
     "name": "stderr",
     "output_type": "stream",
     "text": [
      "                                                                                \r"
     ]
    },
    {
     "name": "stdout",
     "output_type": "stream",
     "text": [
      "(3176, 16)\n"
     ]
    }
   ],
   "source": [
    "print((df_final.count(), len(df_final.columns)))"
   ]
  },
  {
   "cell_type": "code",
   "execution_count": 190,
   "metadata": {
    "execution": {
     "iopub.execute_input": "2022-12-18T03:26:40.192405Z",
     "iopub.status.busy": "2022-12-18T03:26:40.192054Z",
     "iopub.status.idle": "2022-12-18T03:26:40.223010Z",
     "shell.execute_reply": "2022-12-18T03:26:40.222072Z",
     "shell.execute_reply.started": "2022-12-18T03:26:40.192374Z"
    }
   },
   "outputs": [],
   "source": [
    "# rename\n",
    "df_final = df_final.withColumnRenamed(\"churn\",\"label\")"
   ]
  },
  {
   "cell_type": "code",
   "execution_count": 191,
   "metadata": {
    "execution": {
     "iopub.execute_input": "2022-12-18T03:26:40.224389Z",
     "iopub.status.busy": "2022-12-18T03:26:40.224033Z",
     "iopub.status.idle": "2022-12-18T03:26:40.326952Z",
     "shell.execute_reply": "2022-12-18T03:26:40.325987Z",
     "shell.execute_reply.started": "2022-12-18T03:26:40.224356Z"
    }
   },
   "outputs": [
    {
     "data": {
      "text/plain": [
       "DataFrame[label: int, gender: int, level: int, downgrade: int, count: bigint, num_thumbs_up: bigint, num_thumbs_down: bigint, num_playlist: bigint, num_friend: bigint, sum_listened: double, av_song_session: double, num_artists: bigint, days_member: double, num_sessions: bigint, sessionId: bigint, dur_session: double, features: vector]"
      ]
     },
     "execution_count": 191,
     "metadata": {},
     "output_type": "execute_result"
    }
   ],
   "source": [
    "# vector assembler\n",
    "assembler = VectorAssembler(inputCols=df_final.columns[1:], outputCol=\"features\")\n",
    "data = assembler.transform(df_final)\n",
    "data"
   ]
  },
  {
   "cell_type": "code",
   "execution_count": 192,
   "metadata": {
    "execution": {
     "iopub.execute_input": "2022-12-18T03:26:40.329089Z",
     "iopub.status.busy": "2022-12-18T03:26:40.328449Z",
     "iopub.status.idle": "2022-12-18T03:26:56.858836Z",
     "shell.execute_reply": "2022-12-18T03:26:56.857545Z",
     "shell.execute_reply.started": "2022-12-18T03:26:40.329056Z"
    }
   },
   "outputs": [
    {
     "name": "stderr",
     "output_type": "stream",
     "text": [
      "                                                                                \r"
     ]
    }
   ],
   "source": [
    "# standard scaler\n",
    "scaler = StandardScaler(inputCol=\"features\", outputCol=\"scaled_features\", withStd=True)\n",
    "scalerModel = scaler.fit(data)\n",
    "data = scalerModel.transform(data)"
   ]
  },
  {
   "cell_type": "code",
   "execution_count": 193,
   "metadata": {
    "execution": {
     "iopub.execute_input": "2022-12-18T03:26:56.860638Z",
     "iopub.status.busy": "2022-12-18T03:26:56.860250Z",
     "iopub.status.idle": "2022-12-18T03:26:56.881799Z",
     "shell.execute_reply": "2022-12-18T03:26:56.880549Z",
     "shell.execute_reply.started": "2022-12-18T03:26:56.860603Z"
    }
   },
   "outputs": [],
   "source": [
    "# drop column \"features\" - as no longer needed\n",
    "data = data.drop(\"features\")"
   ]
  },
  {
   "cell_type": "code",
   "execution_count": 194,
   "metadata": {
    "execution": {
     "iopub.execute_input": "2022-12-18T03:26:56.885748Z",
     "iopub.status.busy": "2022-12-18T03:26:56.884923Z",
     "iopub.status.idle": "2022-12-18T03:26:56.925330Z",
     "shell.execute_reply": "2022-12-18T03:26:56.924373Z",
     "shell.execute_reply.started": "2022-12-18T03:26:56.885699Z"
    }
   },
   "outputs": [],
   "source": [
    "# split the data into train and test \n",
    "train, test = data.randomSplit([0.8, 0.2], seed=42)"
   ]
  },
  {
   "cell_type": "code",
   "execution_count": 195,
   "metadata": {
    "execution": {
     "iopub.execute_input": "2022-12-18T03:26:56.926755Z",
     "iopub.status.busy": "2022-12-18T03:26:56.926338Z",
     "iopub.status.idle": "2022-12-18T03:26:56.934023Z",
     "shell.execute_reply": "2022-12-18T03:26:56.932792Z",
     "shell.execute_reply.started": "2022-12-18T03:26:56.926712Z"
    }
   },
   "outputs": [],
   "source": [
    "from sklearn.metrics import classification_report,accuracy_score\n",
    "def get_report(model):\n",
    "    p_df = model.toPandas()\n",
    "    y_true = p_df['label']\n",
    "    y_pred = p_df['prediction']\n",
    "    print(classification_report(y_true,y_pred))\n",
    "    acc = accuracy_score(y_true,y_pred)\n",
    "    return acc"
   ]
  },
  {
   "cell_type": "markdown",
   "metadata": {},
   "source": [
    "# LogisticRegression"
   ]
  },
  {
   "cell_type": "code",
   "execution_count": 196,
   "metadata": {
    "execution": {
     "iopub.execute_input": "2022-12-18T03:26:56.936509Z",
     "iopub.status.busy": "2022-12-18T03:26:56.936029Z",
     "iopub.status.idle": "2022-12-18T03:28:33.257203Z",
     "shell.execute_reply": "2022-12-18T03:28:33.255909Z",
     "shell.execute_reply.started": "2022-12-18T03:26:56.936440Z"
    }
   },
   "outputs": [
    {
     "name": "stderr",
     "output_type": "stream",
     "text": [
      "                                                                                \r"
     ]
    },
    {
     "name": "stdout",
     "output_type": "stream",
     "text": [
      "              precision    recall  f1-score   support\n",
      "\n",
      "           0       0.87      0.96      0.92       477\n",
      "           1       0.69      0.37      0.48       107\n",
      "\n",
      "    accuracy                           0.85       584\n",
      "   macro avg       0.78      0.67      0.70       584\n",
      "weighted avg       0.84      0.85      0.84       584\n",
      "\n"
     ]
    }
   ],
   "source": [
    "lr =  LogisticRegression(featuresCol='scaled_features', labelCol='label')\n",
    "lr_clf = lr.fit(train)\n",
    "lr_acc = get_report(lr_clf.transform(test))"
   ]
  },
  {
   "cell_type": "markdown",
   "metadata": {},
   "source": [
    "# DecisionTreeClassifier"
   ]
  },
  {
   "cell_type": "code",
   "execution_count": 197,
   "metadata": {
    "execution": {
     "iopub.execute_input": "2022-12-18T03:28:33.259217Z",
     "iopub.status.busy": "2022-12-18T03:28:33.258829Z",
     "iopub.status.idle": "2022-12-18T03:29:45.648931Z",
     "shell.execute_reply": "2022-12-18T03:29:45.646556Z",
     "shell.execute_reply.started": "2022-12-18T03:28:33.259181Z"
    }
   },
   "outputs": [
    {
     "name": "stderr",
     "output_type": "stream",
     "text": [
      "                                                                                \r"
     ]
    },
    {
     "name": "stdout",
     "output_type": "stream",
     "text": [
      "              precision    recall  f1-score   support\n",
      "\n",
      "           0       0.95      0.99      0.97       477\n",
      "           1       0.92      0.79      0.85       107\n",
      "\n",
      "    accuracy                           0.95       584\n",
      "   macro avg       0.94      0.89      0.91       584\n",
      "weighted avg       0.95      0.95      0.95       584\n",
      "\n"
     ]
    }
   ],
   "source": [
    "dt = DecisionTreeClassifier(labelCol=\"label\", featuresCol=\"scaled_features\")\n",
    "dt_clf = dt.fit(train)\n",
    "dt_acc = get_report(dt_clf.transform(test))"
   ]
  },
  {
   "cell_type": "markdown",
   "metadata": {},
   "source": [
    "# RandomForestClassifier"
   ]
  },
  {
   "cell_type": "code",
   "execution_count": 198,
   "metadata": {
    "execution": {
     "iopub.execute_input": "2022-12-18T03:29:45.651300Z",
     "iopub.status.busy": "2022-12-18T03:29:45.650844Z",
     "iopub.status.idle": "2022-12-18T03:31:36.536649Z",
     "shell.execute_reply": "2022-12-18T03:31:36.535235Z",
     "shell.execute_reply.started": "2022-12-18T03:29:45.651252Z"
    }
   },
   "outputs": [
    {
     "name": "stderr",
     "output_type": "stream",
     "text": [
      "                                                                                \r"
     ]
    },
    {
     "name": "stdout",
     "output_type": "stream",
     "text": [
      "              precision    recall  f1-score   support\n",
      "\n",
      "           0       0.94      1.00      0.97       477\n",
      "           1       1.00      0.71      0.83       107\n",
      "\n",
      "    accuracy                           0.95       584\n",
      "   macro avg       0.97      0.86      0.90       584\n",
      "weighted avg       0.95      0.95      0.94       584\n",
      "\n"
     ]
    }
   ],
   "source": [
    "rf = RandomForestClassifier(labelCol=\"label\", featuresCol=\"scaled_features\")\n",
    "rf_clf = rf.fit(train)\n",
    "rf_acc = get_report(rf_clf.transform(test))"
   ]
  },
  {
   "cell_type": "markdown",
   "metadata": {},
   "source": [
    "# GBTClassifier"
   ]
  },
  {
   "cell_type": "code",
   "execution_count": 199,
   "metadata": {
    "execution": {
     "iopub.execute_input": "2022-12-18T03:31:36.538676Z",
     "iopub.status.busy": "2022-12-18T03:31:36.538295Z",
     "iopub.status.idle": "2022-12-18T03:32:40.258047Z",
     "shell.execute_reply": "2022-12-18T03:32:40.256643Z",
     "shell.execute_reply.started": "2022-12-18T03:31:36.538639Z"
    }
   },
   "outputs": [
    {
     "name": "stderr",
     "output_type": "stream",
     "text": [
      "                                                                                \r"
     ]
    },
    {
     "name": "stdout",
     "output_type": "stream",
     "text": [
      "              precision    recall  f1-score   support\n",
      "\n",
      "           0       0.99      1.00      0.99       477\n",
      "           1       0.99      0.94      0.97       107\n",
      "\n",
      "    accuracy                           0.99       584\n",
      "   macro avg       0.99      0.97      0.98       584\n",
      "weighted avg       0.99      0.99      0.99       584\n",
      "\n"
     ]
    }
   ],
   "source": [
    "gbt = GBTClassifier(labelCol=\"label\", featuresCol=\"scaled_features\")\n",
    "gbt_model = gbt.fit(train)\n",
    "results_gbt = gbt_model.transform(test)\n",
    "\n",
    "gbt_acc = get_report(results_gbt)"
   ]
  },
  {
   "cell_type": "markdown",
   "metadata": {},
   "source": [
    "# Comparison"
   ]
  },
  {
   "cell_type": "code",
   "execution_count": 200,
   "metadata": {
    "execution": {
     "iopub.execute_input": "2022-12-18T03:32:40.261938Z",
     "iopub.status.busy": "2022-12-18T03:32:40.260117Z",
     "iopub.status.idle": "2022-12-18T03:32:40.278267Z",
     "shell.execute_reply": "2022-12-18T03:32:40.277153Z",
     "shell.execute_reply.started": "2022-12-18T03:32:40.261889Z"
    }
   },
   "outputs": [
    {
     "data": {
      "text/html": [
       "<div>\n",
       "<style scoped>\n",
       "    .dataframe tbody tr th:only-of-type {\n",
       "        vertical-align: middle;\n",
       "    }\n",
       "\n",
       "    .dataframe tbody tr th {\n",
       "        vertical-align: top;\n",
       "    }\n",
       "\n",
       "    .dataframe thead th {\n",
       "        text-align: right;\n",
       "    }\n",
       "</style>\n",
       "<table border=\"1\" class=\"dataframe\">\n",
       "  <thead>\n",
       "    <tr style=\"text-align: right;\">\n",
       "      <th></th>\n",
       "      <th>Score</th>\n",
       "    </tr>\n",
       "    <tr>\n",
       "      <th>Model</th>\n",
       "      <th></th>\n",
       "    </tr>\n",
       "  </thead>\n",
       "  <tbody>\n",
       "    <tr>\n",
       "      <th>Gradient Boost Tree</th>\n",
       "      <td>0.988014</td>\n",
       "    </tr>\n",
       "    <tr>\n",
       "      <th>Decision Tree</th>\n",
       "      <td>0.948630</td>\n",
       "    </tr>\n",
       "    <tr>\n",
       "      <th>Random Forest</th>\n",
       "      <td>0.946918</td>\n",
       "    </tr>\n",
       "    <tr>\n",
       "      <th>Logistic Regression</th>\n",
       "      <td>0.854452</td>\n",
       "    </tr>\n",
       "  </tbody>\n",
       "</table>\n",
       "</div>"
      ],
      "text/plain": [
       "                        Score\n",
       "Model                        \n",
       "Gradient Boost Tree  0.988014\n",
       "Decision Tree        0.948630\n",
       "Random Forest        0.946918\n",
       "Logistic Regression  0.854452"
      ]
     },
     "execution_count": 200,
     "metadata": {},
     "output_type": "execute_result"
    }
   ],
   "source": [
    "results = pd.DataFrame({\n",
    "    'Model': ['Logistic Regression','Decision Tree','Random Forest', 'Gradient Boost Tree'],\n",
    "    'Score': [lr_acc,\n",
    "                dt_acc,\n",
    "                rf_acc,\n",
    "                gbt_acc]})\n",
    "\n",
    "result_df = results.sort_values(by='Score', ascending=False)\n",
    "result_df = result_df.set_index('Model')\n",
    "result_df"
   ]
  }
 ],
 "metadata": {
  "kernelspec": {
   "display_name": "Python 3 (ipykernel)",
   "language": "python",
   "name": "python3"
  },
  "language_info": {
   "codemirror_mode": {
    "name": "ipython",
    "version": 3
   },
   "file_extension": ".py",
   "mimetype": "text/x-python",
   "name": "python",
   "nbconvert_exporter": "python",
   "pygments_lexer": "ipython3",
   "version": "3.9.12"
  }
 },
 "nbformat": 4,
 "nbformat_minor": 4
}
