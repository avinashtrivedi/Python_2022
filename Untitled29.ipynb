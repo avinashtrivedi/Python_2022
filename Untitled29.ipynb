{
 "cells": [
  {
   "cell_type": "code",
   "execution_count": 7,
   "id": "0bfd588d",
   "metadata": {},
   "outputs": [],
   "source": [
    "import json\n",
    "import pandas as pd\n",
    "with open('sample.json', 'r') as fp:\n",
    "    data1 = json.load(fp)"
   ]
  },
  {
   "cell_type": "code",
   "execution_count": 8,
   "id": "dc762308",
   "metadata": {},
   "outputs": [],
   "source": [
    "data2 = data1"
   ]
  },
  {
   "cell_type": "code",
   "execution_count": 9,
   "id": "98b7569b",
   "metadata": {},
   "outputs": [],
   "source": [
    "data_all = []\n",
    "\n",
    "for data in [data1,data2]:\n",
    "    info = [(data[0]['tsfTenantID'], d['networkID'],d['cidrBlock']) for d in data[0]['cidrs']]\n",
    "    df = pd.DataFrame([],columns=['tsfTenantID','networkID','cidrBlock'])\n",
    "    for detail in info:\n",
    "        df.loc[len(df)] = detail\n",
    "    data_all.append(df)"
   ]
  },
  {
   "cell_type": "code",
   "execution_count": 12,
   "id": "34178d98",
   "metadata": {},
   "outputs": [],
   "source": [
    "df = pd.concat(data_all)\n",
    "df.to_csv('file.csv')"
   ]
  },
  {
   "cell_type": "code",
   "execution_count": 14,
   "id": "7fec5bc4",
   "metadata": {},
   "outputs": [],
   "source": [
    "import urllib"
   ]
  },
  {
   "cell_type": "code",
   "execution_count": 30,
   "id": "746e930e",
   "metadata": {},
   "outputs": [],
   "source": [
    "with urllib.request.urlopen(\"https://ip-ranges.amazonaws.com/ip-ranges.json\") as url:\n",
    "    aws_ip_ranges_resp = json.loads(url.read().decode())\n",
    "    data = aws_ip_ranges_resp"
   ]
  },
  {
   "cell_type": "code",
   "execution_count": 17,
   "id": "bf72110d",
   "metadata": {},
   "outputs": [
    {
     "data": {
      "text/plain": [
       "dict"
      ]
     },
     "execution_count": 17,
     "metadata": {},
     "output_type": "execute_result"
    }
   ],
   "source": [
    "type(x)"
   ]
  },
  {
   "cell_type": "code",
   "execution_count": null,
   "id": "dbbdd68b",
   "metadata": {},
   "outputs": [],
   "source": [
    "ip_prefix region service - \n",
    "ipv6_prefix"
   ]
  },
  {
   "cell_type": "code",
   "execution_count": 23,
   "id": "9d8adf3c",
   "metadata": {},
   "outputs": [
    {
     "data": {
      "text/plain": [
       "dict_keys(['syncToken', 'createDate', 'prefixes', 'ipv6_prefixes'])"
      ]
     },
     "execution_count": 23,
     "metadata": {},
     "output_type": "execute_result"
    }
   ],
   "source": [
    "data.keys()"
   ]
  },
  {
   "cell_type": "code",
   "execution_count": 31,
   "id": "bc5bb0c7",
   "metadata": {},
   "outputs": [],
   "source": [
    "data_ipv4 = [(d['ip_prefix'], d['region'],d['service']) for d in data['prefixes']]\n",
    "data_ipv6 = [(d['ipv6_prefix'], d['region'],d['service']) for d in data['ipv6_prefixes']]"
   ]
  },
  {
   "cell_type": "code",
   "execution_count": 34,
   "id": "9b7c395e",
   "metadata": {},
   "outputs": [],
   "source": [
    "df_ipv4 = pd.DataFrame([],columns=['iprange','region','service'])\n",
    "df_ipv6 = pd.DataFrame([],columns=['iprange','region','service'])\n",
    "\n",
    "for detail in data_ipv4:\n",
    "    df_ipv4.loc[len(df_ipv4)] = detail\n",
    "\n",
    "for detail in data_ipv6:\n",
    "    ipv6.loc[len(ipv6)] = detail\n",
    "    \n",
    "df_ipv4.to_csv('aws_ipv4_output.csv')\n",
    "df_ipv6.to_csv('aws_ipv6_output.csv')"
   ]
  }
 ],
 "metadata": {
  "kernelspec": {
   "display_name": "Python 3 (ipykernel)",
   "language": "python",
   "name": "python3"
  },
  "language_info": {
   "codemirror_mode": {
    "name": "ipython",
    "version": 3
   },
   "file_extension": ".py",
   "mimetype": "text/x-python",
   "name": "python",
   "nbconvert_exporter": "python",
   "pygments_lexer": "ipython3",
   "version": "3.8.5"
  }
 },
 "nbformat": 4,
 "nbformat_minor": 5
}
