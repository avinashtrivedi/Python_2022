{
 "cells": [
  {
   "cell_type": "code",
   "execution_count": 1,
   "metadata": {},
   "outputs": [],
   "source": [
    "# Importing the libraries\n",
    "import pandas as pd\n",
    "from sqlalchemy import create_engine"
   ]
  },
  {
   "cell_type": "code",
   "execution_count": 2,
   "metadata": {},
   "outputs": [],
   "source": [
    "# Engine for connecting to the database and interacting with it\n",
    "engine = create_engine('sqlite://', echo=False)"
   ]
  },
  {
   "cell_type": "markdown",
   "metadata": {},
   "source": [
    "# Question 1\n",
    "Read in Student_Grade_Prediction2.csv as Students_df and create a database called Students. Remember that you also need to create a cursor to execute the commands below."
   ]
  },
  {
   "cell_type": "code",
   "execution_count": 3,
   "metadata": {},
   "outputs": [],
   "source": [
    "# Read in Student_Grade_Prediction2.csv as Students_df\n",
    "Students_df = pd.read_csv('Student_Grade_Prediction2.csv')"
   ]
  },
  {
   "cell_type": "code",
   "execution_count": 4,
   "metadata": {},
   "outputs": [
    {
     "data": {
      "text/plain": [
       "395"
      ]
     },
     "execution_count": 4,
     "metadata": {},
     "output_type": "execute_result"
    }
   ],
   "source": [
    "# Create a table called Students in the database\n",
    "Students_df.to_sql('Students',engine,if_exists='replace')"
   ]
  },
  {
   "cell_type": "markdown",
   "metadata": {},
   "source": [
    "# Question 2\n",
    "Select all the students who scored less than or equal to 12 on the first exam (G1) ordered in descending order by the first exam scores."
   ]
  },
  {
   "cell_type": "code",
   "execution_count": 5,
   "metadata": {},
   "outputs": [],
   "source": [
    "ans2 = engine.execute(\"\"\"\n",
    "SELECT * FROM Students\n",
    "WHERE G1 <= 12\n",
    "ORDER BY G1 DESC\n",
    "\"\"\").fetchall()"
   ]
  },
  {
   "cell_type": "code",
   "execution_count": 6,
   "metadata": {},
   "outputs": [
    {
     "data": {
      "text/plain": [
       "[(6, 7, 'GP', 'M', 16, 'U', 'LE3', 'T', 2, 2, 'other', 'other', 'home', 'mother', 1, 2, 0, 'no', 'no', 'no', 'no', 'yes', 'yes', 'yes', 'no', 4, 4, 4, 1, 1, 3, 0, 12, 12, 11),\n",
       " (21, 22, 'GP', 'M', 15, 'U', 'GT3', 'T', 4, 4, 'health', 'health', 'other', 'father', 1, 1, 0, 'no', 'yes', 'yes', 'no', 'yes', 'yes', 'yes', 'no', 5, 4, 2, 1, 1, 5, 0, 12, 15, 15),\n",
       " (26, 27, 'GP', 'M', 15, 'U', 'GT3', 'T', 2, 2, 'other', 'other', 'home', 'mother', 1, 1, 0, 'no', 'yes', 'yes', 'no', 'yes', 'yes', 'yes', 'no', 4, 2, 2, 1, 2, 5, 2, 12, 12, 11),\n",
       " (34, 35, 'GP', 'M', 16, 'U', 'GT3', 'T', 3, 2, 'other', 'other', 'home', 'mother', 1, 1, 0, 'no', 'yes', 'yes', 'no', 'no', 'yes', 'yes', 'no', 5, 4, 3, 1, 1, 5, 0, 12, 14, 15),\n",
       " (38, 39, 'GP', 'F', 15, 'R', 'GT3', 'T', 3, 4, 'services', 'health', 'course', 'mother', 1, 3, 0, 'yes', 'yes', 'yes', 'yes', 'yes', 'yes', 'yes', 'no', 4, 3, 2, 1, 1, 5, 2, 12, 12, 11),\n",
       " (41, 42, 'GP', 'M', 15, 'U', 'LE3', 'T', 4, 4, 'teacher', 'other', 'home', 'other', 1, 1, 0, 'no', 'yes', 'no', 'no', 'no', 'yes', 'yes', 'yes', 5, 4, 3, 2, 4, 5, 8, 12, 12, 12),\n",
       " (50, 51, 'GP', 'F', 16, 'U', 'LE3', 'T', 2, 2, 'services', 'services', 'course', 'mother', 3, 2, 0, 'no', 'yes', 'yes', 'no', 'yes', 'yes', 'yes', 'no', 4, 3, 3, 2, 3, 4, 2, 12, 13, 13),\n",
       " (73, 74, 'GP', 'M', 16, 'U', 'GT3', 'T', 3, 1, 'other', 'other', 'reputation', 'mother', 1, 1, 0, 'no', 'no', 'no', 'yes', 'yes', 'yes', 'no', 'no', 5, 3, 2, 2, 2, 5, 2, 12, 12, 14),\n",
       " (130, 131, 'GP', 'F', 15, 'R', 'GT3', 'T', 3, 4, 'services', 'teacher', 'course', 'father', 2, 3, 2, 'no', 'yes', 'no', 'no', 'yes', 'yes', 'yes', 'yes', 4, 2, 2, 2, 2, 5, 0, 12, 0, 0),\n",
       " (133, 134, 'GP', 'F', 16, 'U', 'GT3', 'A', 3, 4, 'services', 'other', 'course', 'father', 1, 1, 0, 'no', 'no', 'no', 'no', 'yes', 'yes', 'yes', 'no', 3, 2, 1, 1, 4, 5, 16, 12, 11, 11),\n",
       " (151, 152, 'GP', 'M', 16, 'U', 'LE3', 'T', 2, 1, 'at_home', 'other', 'course', 'mother', 1, 1, 1, 'no', 'no', 'no', 'yes', 'yes', 'yes', 'no', 'yes', 4, 4, 4, 3, 5, 5, 6, 12, 13, 14),\n",
       " (165, 166, 'GP', 'M', 16, 'U', 'GT3', 'T', 3, 2, 'services', 'services', 'course', 'mother', 2, 1, 1, 'no', 'yes', 'no', 'yes', 'no', 'no', 'no', 'no', 4, 5, 2, 1, 1, 2, 16, 12, 11, 12),\n",
       " (181, 182, 'GP', 'M', 16, 'U', 'GT3', 'T', 3, 3, 'services', 'other', 'home', 'mother', 1, 2, 0, 'no', 'no', 'yes', 'yes', 'yes', 'yes', 'yes', 'yes', 4, 2, 3, 1, 2, 3, 2, 12, 13, 12),\n",
       " (184, 185, 'GP', 'F', 16, 'U', 'GT3', 'T', 3, 2, 'other', 'other', 'reputation', 'mother', 1, 2, 0, 'no', 'yes', 'yes', 'no', 'yes', 'yes', 'yes', 'no', 1, 2, 2, 1, 2, 1, 14, 12, 13, 12),\n",
       " (185, 186, 'GP', 'M', 17, 'U', 'GT3', 'T', 3, 3, 'services', 'services', 'other', 'mother', 1, 2, 0, 'no', 'yes', 'no', 'yes', 'yes', 'yes', 'yes', 'yes', 4, 3, 4, 2, 3, 4, 12, 12, 12, 11),\n",
       " (211, 212, 'GP', 'M', 17, 'U', 'LE3', 'T', 4, 4, 'services', 'other', 'home', 'mother', 1, 2, 0, 'no', 'yes', 'yes', 'no', 'yes', 'yes', 'yes', 'yes', 5, 3, 5, 4, 5, 3, 13, 12, 12, 13),\n",
       " (212, 213, 'GP', 'F', 16, 'U', 'GT3', 'A', 2, 2, 'other', 'other', 'reputation', 'mother', 1, 2, 0, 'yes', 'yes', 'yes', 'no', 'yes', 'yes', 'yes', 'no', 3, 3, 4, 1, 1, 4, 0, 12, 13, 14),\n",
       " (223, 224, 'GP', 'M', 18, 'U', 'GT3', 'T', 2, 2, 'other', 'other', 'home', 'mother', 2, 2, 0, 'no', 'yes', 'yes', 'no', 'yes', 'yes', 'yes', 'no', 3, 3, 3, 5, 5, 4, 0, 12, 13, 13),\n",
       " (227, 228, 'GP', 'M', 17, 'U', 'LE3', 'T', 2, 3, 'services', 'services', 'reputation', 'father', 1, 2, 0, 'no', 'yes', 'yes', 'no', 'no', 'yes', 'yes', 'no', 5, 3, 3, 1, 3, 3, 2, 12, 11, 12),\n",
       " (229, 230, 'GP', 'F', 17, 'U', 'GT3', 'A', 2, 1, 'other', 'other', 'course', 'mother', 2, 3, 0, 'no', 'no', 'no', 'yes', 'yes', 'yes', 'yes', 'yes', 3, 2, 3, 1, 2, 3, 10, 12, 10, 12),\n",
       " (240, 241, 'GP', 'M', 17, 'U', 'LE3', 'T', 4, 3, 'health', 'other', 'course', 'mother', 2, 2, 0, 'no', 'no', 'no', 'yes', 'yes', 'yes', 'yes', 'yes', 2, 5, 5, 1, 4, 5, 14, 12, 12, 12),\n",
       " (246, 247, 'GP', 'M', 17, 'U', 'GT3', 'T', 2, 3, 'other', 'other', 'course', 'father', 2, 1, 0, 'no', 'no', 'no', 'no', 'yes', 'yes', 'yes', 'no', 5, 2, 2, 1, 1, 2, 4, 12, 12, 13),\n",
       " (267, 268, 'GP', 'F', 18, 'R', 'GT3', 'T', 4, 4, 'teacher', 'other', 'reputation', 'mother', 2, 2, 0, 'no', 'no', 'yes', 'yes', 'yes', 'yes', 'yes', 'no', 4, 3, 4, 2, 2, 4, 8, 12, 10, 11),\n",
       " (275, 276, 'GP', 'F', 17, 'U', 'LE3', 'T', 2, 2, 'services', 'other', 'course', 'mother', 2, 2, 0, 'yes', 'yes', 'yes', 'no', 'yes', 'yes', 'yes', 'yes', 4, 4, 4, 2, 3, 5, 6, 12, 12, 12),\n",
       " (282, 283, 'GP', 'F', 18, 'R', 'LE3', 'T', 1, 1, 'at_home', 'other', 'reputation', 'mother', 2, 4, 0, 'no', 'yes', 'yes', 'yes', 'yes', 'yes', 'no', 'no', 5, 2, 2, 1, 1, 3, 1, 12, 12, 12),\n",
       " (285, 286, 'GP', 'M', 17, 'U', 'GT3', 'T', 1, 1, 'other', 'other', 'reputation', 'father', 1, 2, 0, 'no', 'no', 'yes', 'no', 'no', 'yes', 'yes', 'no', 4, 3, 3, 1, 2, 4, 2, 12, 10, 11),\n",
       " (290, 291, 'GP', 'M', 18, 'U', 'GT3', 'T', 4, 2, 'teacher', 'other', 'home', 'mother', 1, 2, 0, 'no', 'yes', 'yes', 'yes', 'yes', 'yes', 'yes', 'yes', 4, 3, 2, 1, 4, 5, 11, 12, 11, 11),\n",
       " (292, 293, 'GP', 'F', 18, 'U', 'LE3', 'T', 2, 1, 'services', 'at_home', 'reputation', 'mother', 1, 2, 1, 'no', 'no', 'no', 'no', 'yes', 'yes', 'yes', 'yes', 5, 4, 3, 1, 1, 5, 12, 12, 12, 13),\n",
       " (300, 301, 'GP', 'F', 18, 'U', 'LE3', 'A', 4, 4, 'health', 'other', 'home', 'mother', 1, 2, 0, 'no', 'yes', 'no', 'no', 'yes', 'yes', 'yes', 'yes', 4, 2, 4, 1, 1, 4, 14, 12, 10, 11),\n",
       " (309, 310, 'GP', 'F', 19, 'U', 'LE3', 'T', 1, 1, 'at_home', 'other', 'reputation', 'other', 1, 2, 1, 'yes', 'yes', 'no', 'yes', 'no', 'yes', 'yes', 'no', 4, 4, 3, 1, 3, 3, 18, 12, 10, 10),\n",
       " (323, 324, 'GP', 'F', 17, 'U', 'GT3', 'T', 3, 1, 'services', 'services', 'course', 'father', 1, 3, 0, 'no', 'yes', 'no', 'no', 'no', 'yes', 'yes', 'no', 3, 4, 3, 2, 3, 5, 1, 12, 14, 15),\n",
       " (331, 332, 'GP', 'F', 17, 'R', 'GT3', 'T', 2, 4, 'at_home', 'other', 'course', 'father', 1, 3, 0, 'no', 'yes', 'no', 'no', 'yes', 'yes', 'yes', 'yes', 4, 4, 3, 1, 1, 5, 7, 12, 14, 14),\n",
       " (356, 357, 'MS', 'F', 17, 'R', 'GT3', 'T', 4, 4, 'teacher', 'services', 'other', 'father', 2, 2, 0, 'no', 'yes', 'yes', 'yes', 'yes', 'yes', 'yes', 'no', 4, 3, 3, 1, 2, 5, 4, 12, 13, 13),\n",
       " (357, 358, 'MS', 'F', 17, 'U', 'LE3', 'A', 3, 2, 'services', 'other', 'reputation', 'mother', 2, 2, 0, 'no', 'no', 'no', 'no', 'yes', 'yes', 'no', 'yes', 1, 2, 3, 1, 2, 5, 2, 12, 12, 11),\n",
       " (364, 365, 'MS', 'F', 17, 'R', 'GT3', 'T', 1, 2, 'other', 'services', 'course', 'father', 2, 2, 0, 'no', 'no', 'no', 'no', 'no', 'yes', 'no', 'no', 3, 2, 2, 1, 2, 3, 0, 12, 11, 12),\n",
       " (28, 29, 'GP', 'M', 16, 'U', 'LE3', 'A', 3, 4, 'services', 'other', 'home', 'mother', 1, 2, 0, 'yes', 'yes', 'no', 'yes', 'yes', 'yes', 'yes', 'no', 5, 3, 3, 1, 1, 5, 4, 11, 11, 11),\n",
       " (46, 47, 'GP', 'F', 16, 'U', 'LE3', 'A', 3, 3, 'other', 'services', 'home', 'mother', 1, 2, 0, 'no', 'yes', 'no', 'no', 'yes', 'yes', 'yes', 'no', 2, 3, 5, 1, 4, 3, 12, 11, 12, 11),\n",
       " (51, 52, 'GP', 'F', 15, 'U', 'LE3', 'T', 4, 2, 'health', 'other', 'other', 'mother', 1, 2, 0, 'no', 'yes', 'yes', 'no', 'yes', 'yes', 'yes', 'no', 4, 3, 3, 1, 1, 5, 2, 11, 13, 13),\n",
       " (52, 53, 'GP', 'M', 15, 'U', 'LE3', 'A', 4, 2, 'health', 'health', 'other', 'father', 2, 1, 1, 'no', 'no', 'no', 'no', 'yes', 'yes', 'no', 'no', 5, 5, 5, 3, 4, 5, 6, 11, 11, 10),\n",
       " (74, 75, 'GP', 'F', 16, 'U', 'GT3', 'T', 3, 3, 'other', 'services', 'home', 'mother', 1, 2, 0, 'yes', 'yes', 'yes', 'yes', 'yes', 'yes', 'yes', 'no', 4, 3, 3, 2, 4, 5, 54, 11, 12, 11),\n",
       " (76, 77, 'GP', 'M', 15, 'U', 'GT3', 'T', 4, 0, 'teacher', 'other', 'course', 'mother', 2, 4, 0, 'no', 'no', 'no', 'yes', 'yes', 'yes', 'yes', 'no', 3, 4, 3, 1, 1, 1, 8, 11, 11, 10),\n",
       " (77, 78, 'GP', 'F', 16, 'U', 'GT3', 'T', 2, 2, 'other', 'other', 'reputation', 'mother', 1, 4, 0, 'no', 'no', 'yes', 'no', 'yes', 'yes', 'yes', 'yes', 5, 2, 3, 1, 3, 3, 0, 11, 11, 11),\n",
       " (81, 82, 'GP', 'M', 15, 'U', 'GT3', 'T', 2, 3, 'other', 'other', 'home', 'mother', 1, 3, 0, 'yes', 'no', 'yes', 'no', 'no', 'yes', 'yes', 'no', 5, 3, 2, 1, 2, 5, 4, 11, 10, 11),\n",
       " (88, 89, 'GP', 'M', 16, 'U', 'GT3', 'T', 2, 2, 'services', 'other', 'reputation', 'father', 2, 2, 1, 'no', 'no', 'yes', 'yes', 'no', 'yes', 'yes', 'no', 4, 4, 2, 1, 1, 3, 12, 11, 10, 10),\n",
       " (93, 94, 'GP', 'F', 16, 'U', 'GT3', 'T', 4, 2, 'teacher', 'services', 'home', 'mother', 2, 2, 0, 'no', 'yes', 'yes', 'yes', 'yes', 'yes', 'yes', 'no', 5, 3, 3, 1, 1, 1, 0, 11, 10, 10),\n",
       " (94, 95, 'GP', 'M', 15, 'U', 'LE3', 'T', 2, 2, 'services', 'health', 'reputation', 'mother', 1, 4, 0, 'no', 'yes', 'no', 'yes', 'yes', 'yes', 'yes', 'no', 4, 3, 4, 1, 1, 4, 6, 11, 13, 14),\n",
       " (96, 97, 'GP', 'M', 16, 'R', 'GT3', 'T', 4, 3, 'services', 'other', 'reputation', 'mother', 2, 1, 0, 'yes', 'yes', 'no', 'yes', 'no', 'yes', 'yes', 'no', 3, 3, 3, 1, 1, 4, 2, 11, 15, 15),\n",
       " (98, 99, 'GP', 'F', 16, 'U', 'GT3', 'T', 4, 4, 'other', 'other', 'reputation', 'mother', 1, 1, 0, 'no', 'no', 'no', 'yes', 'no', 'yes', 'yes', 'no', 5, 3, 4, 1, 2, 1, 6, 11, 14, 14),\n",
       " (116, 117, 'GP', 'M', 15, 'U', 'GT3', 'T', 4, 4, 'other', 'teacher', 'reputation', 'father', 2, 2, 0, 'no', 'yes', 'no', 'yes', 'yes', 'yes', 'no', 'no', 4, 4, 3, 1, 1, 2, 2, 11, 13, 14),\n",
       " (135, 136, 'GP', 'F', 15, 'U', 'GT3', 'T', 4, 4, 'services', 'at_home', 'course', 'mother', 1, 3, 0, 'no', 'yes', 'no', 'yes', 'yes', 'yes', 'yes', 'yes', 4, 3, 3, 1, 1, 5, 0, 11, 0, 0),\n",
       " (154, 155, 'GP', 'F', 17, 'U', 'GT3', 'T', 4, 4, 'other', 'teacher', 'course', 'mother', 1, 1, 0, 'yes', 'yes', 'no', 'no', 'yes', 'yes', 'no', 'yes', 4, 2, 1, 1, 1, 4, 0, 11, 11, 12),\n",
       " (155, 156, 'GP', 'M', 15, 'R', 'GT3', 'T', 2, 3, 'at_home', 'services', 'course', 'mother', 1, 2, 0, 'yes', 'no', 'yes', 'yes', 'yes', 'yes', 'no', 'no', 4, 4, 4, 1, 1, 1, 2, 11, 8, 8),\n",
       " (186, 187, 'GP', 'M', 16, 'U', 'GT3', 'T', 1, 2, 'services', 'services', 'other', 'mother', 1, 1, 0, 'no', 'yes', 'yes', 'yes', 'yes', 'yes', 'yes', 'yes', 3, 3, 3, 1, 2, 3, 2, 11, 12, 11),\n",
       " (190, 191, 'GP', 'F', 16, 'U', 'GT3', 'T', 2, 3, 'services', 'services', 'course', 'mother', 1, 2, 0, 'no', 'no', 'no', 'no', 'yes', 'yes', 'yes', 'no', 4, 3, 3, 1, 1, 2, 10, 11, 12, 13),\n",
       " (207, 208, 'GP', 'F', 16, 'U', 'GT3', 'T', 4, 3, 'teacher', 'other', 'other', 'mother', 1, 2, 0, 'no', 'no', 'yes', 'yes', 'yes', 'yes', 'yes', 'yes', 1, 3, 2, 1, 1, 1, 10, 11, 12, 13),\n",
       " (231, 232, 'GP', 'M', 17, 'R', 'GT3', 'T', 2, 2, 'other', 'other', 'course', 'father', 2, 2, 0, 'no', 'yes', 'yes', 'yes', 'yes', 'yes', 'yes', 'no', 4, 5, 2, 1, 1, 1, 4, 11, 11, 11),\n",
       " (232, 233, 'GP', 'M', 17, 'U', 'GT3', 'T', 4, 4, 'teacher', 'teacher', 'reputation', 'mother', 1, 2, 0, 'yes', 'yes', 'no', 'yes', 'yes', 'yes', 'yes', 'yes', 4, 5, 5, 1, 3, 2, 14, 11, 9, 9),\n",
       " (235, 236, 'GP', 'M', 16, 'U', 'GT3', 'T', 3, 2, 'at_home', 'other', 'reputation', 'mother', 2, 3, 0, 'no', 'no', 'no', 'yes', 'yes', 'yes', 'yes', 'yes', 5, 3, 3, 1, 3, 2, 10, 11, 9, 10),\n",
       " (257, 258, 'GP', 'M', 19, 'U', 'LE3', 'A', 4, 3, 'services', 'at_home', 'reputation', 'mother', 1, 2, 0, 'no', 'yes', 'no', 'no', 'yes', 'yes', 'yes', 'no', 4, 3, 1, 1, 1, 1, 12, 11, 11, 11),\n",
       " (272, 273, 'GP', 'F', 18, 'U', 'LE3', 'T', 1, 1, 'other', 'other', 'home', 'mother', 2, 2, 0, 'no', 'yes', 'yes', 'no', 'no', 'yes', 'no', 'no', 4, 4, 3, 1, 1, 3, 2, 11, 11, 11),\n",
       " (281, 282, 'GP', 'M', 17, 'U', 'LE3', 'A', 3, 2, 'teacher', 'services', 'home', 'mother', 1, 1, 1, 'no', 'no', 'no', 'no', 'yes', 'yes', 'yes', 'no', 4, 4, 4, 3, 4, 3, 19, 11, 9, 10),\n",
       " (301, 302, 'GP', 'M', 17, 'U', 'LE3', 'T', 4, 4, 'other', 'teacher', 'home', 'father', 2, 1, 0, 'no', 'no', 'yes', 'no', 'yes', 'yes', 'yes', 'no', 4, 1, 1, 2, 2, 5, 0, 11, 11, 10),\n",
       " (318, 319, 'GP', 'F', 17, 'R', 'GT3', 'T', 3, 4, 'at_home', 'services', 'course', 'father', 1, 3, 0, 'no', 'yes', 'yes', 'yes', 'no', 'yes', 'yes', 'no', 4, 3, 4, 2, 5, 5, 0, 11, 11, 10),\n",
       " (319, 320, 'GP', 'F', 18, 'U', 'GT3', 'T', 4, 4, 'teacher', 'other', 'course', 'mother', 1, 2, 0, 'no', 'yes', 'yes', 'no', 'yes', 'yes', 'yes', 'no', 4, 4, 4, 3, 3, 5, 2, 11, 11, 11),\n",
       " (321, 322, 'GP', 'F', 17, 'U', 'GT3', 'T', 2, 2, 'other', 'other', 'course', 'mother', 1, 2, 0, 'no', 'yes', 'no', 'no', 'yes', 'yes', 'no', 'yes', 4, 2, 2, 1, 1, 3, 12, 11, 9, 9),\n",
       " (322, 323, 'GP', 'F', 17, 'R', 'LE3', 'T', 2, 2, 'services', 'services', 'course', 'mother', 1, 3, 0, 'no', 'yes', 'yes', 'yes', 'yes', 'yes', 'yes', 'no', 3, 3, 2, 2, 2, 3, 3, 11, 11, 11),\n",
       " (327, 328, 'GP', 'M', 17, 'R', 'GT3', 'T', 2, 2, 'services', 'other', 'course', 'mother', 4, 1, 0, 'no', 'yes', 'no', 'no', 'yes', 'yes', 'yes', 'no', 4, 4, 5, 5, 5, 4, 8, 11, 10, 10),\n",
       " (340, 341, 'GP', 'F', 19, 'U', 'GT3', 'T', 2, 1, 'services', 'services', 'home', 'other', 1, 3, 1, 'no', 'no', 'yes', 'yes', 'yes', 'yes', 'yes', 'yes', 4, 3, 4, 1, 3, 3, 4, 11, 12, 11),\n",
       " (344, 345, 'GP', 'F', 18, 'U', 'GT3', 'T', 2, 3, 'at_home', 'other', 'course', 'mother', 1, 3, 0, 'no', 'yes', 'no', 'no', 'yes', 'yes', 'yes', 'no', 4, 3, 3, 1, 2, 3, 4, 11, 10, 10),\n",
       " (349, 350, 'MS', 'M', 18, 'R', 'GT3', 'T', 3, 2, 'other', 'other', 'course', 'mother', 2, 1, 1, 'no', 'yes', 'no', 'no', 'no', 'yes', 'yes', 'no', 2, 5, 5, 5, 5, 5, 10, 11, 13, 13),\n",
       " (362, 363, 'MS', 'F', 18, 'U', 'GT3', 'T', 3, 3, 'services', 'services', 'other', 'mother', 2, 2, 0, 'no', 'yes', 'no', 'no', 'yes', 'yes', 'yes', 'yes', 4, 3, 2, 1, 3, 3, 0, 11, 11, 10),\n",
       " (368, 369, 'MS', 'F', 18, 'U', 'GT3', 'T', 2, 3, 'at_home', 'services', 'course', 'father', 2, 1, 0, 'no', 'yes', 'yes', 'no', 'yes', 'yes', 'yes', 'yes', 5, 2, 3, 1, 2, 4, 0, 11, 10, 10),\n",
       " (382, 383, 'MS', 'M', 17, 'U', 'GT3', 'T', 2, 3, 'other', 'services', 'home', 'father', 2, 2, 0, 'no', 'no', 'no', 'yes', 'yes', 'yes', 'yes', 'no', 4, 4, 3, 1, 1, 3, 2, 11, 11, 10),\n",
       " (393, 394, 'MS', 'M', 18, 'R', 'LE3', 'T', 3, 2, 'services', 'other', 'course', 'mother', 3, 1, 0, 'no', 'no', 'no', 'no', 'no', 'yes', 'yes', 'no', 4, 4, 1, 3, 4, 5, 0, 11, 12, 10),\n",
       " (10, 11, 'GP', 'F', 15, 'U', 'GT3', 'T', 4, 4, 'teacher', 'health', 'reputation', 'mother', 1, 2, 0, 'no', 'yes', 'yes', 'no', 'yes', 'yes', 'yes', 'no', 3, 3, 3, 1, 2, 2, 0, 10, 8, 9),\n",
       " (11, 12, 'GP', 'F', 15, 'U', 'GT3', 'T', 2, 1, 'services', 'other', 'reputation', 'father', 3, 3, 0, 'no', 'yes', 'no', 'yes', 'yes', 'yes', 'yes', 'no', 5, 2, 2, 1, 1, 4, 4, 10, 12, 12),\n",
       " (13, 14, 'GP', 'M', 15, 'U', 'GT3', 'T', 4, 3, 'teacher', 'other', 'course', 'mother', 2, 2, 0, 'no', 'yes', 'yes', 'no', 'yes', 'yes', 'yes', 'no', 5, 4, 3, 1, 2, 3, 2, 10, 10, 11),\n",
       " (24, 25, 'GP', 'F', 15, 'R', 'GT3', 'T', 2, 4, 'services', 'health', 'course', 'mother', 1, 3, 0, 'yes', 'yes', 'yes', 'yes', 'yes', 'yes', 'yes', 'no', 4, 3, 2, 1, 1, 5, 2, 10, 9, 8),\n",
       " (29, 30, 'GP', 'M', 16, 'U', 'GT3', 'T', 4, 4, 'teacher', 'teacher', 'home', 'mother', 1, 2, 0, 'no', 'yes', 'yes', 'yes', 'yes', 'yes', 'yes', 'yes', 4, 4, 5, 5, 5, 5, 16, 10, 12, 11),\n",
       " (44, 45, 'GP', 'F', 16, 'U', 'LE3', 'T', 2, 2, 'other', 'at_home', 'course', 'father', 2, 2, 1, 'yes', 'no', 'no', 'yes', 'yes', 'yes', 'yes', 'no', 4, 3, 3, 2, 2, 5, 14, 10, 10, 9),\n",
       " (54, 55, 'GP', 'F', 15, 'U', 'LE3', 'A', 3, 3, 'other', 'other', 'other', 'mother', 1, 1, 0, 'no', 'no', 'yes', 'no', 'yes', 'yes', 'yes', 'no', 5, 3, 4, 4, 4, 1, 6, 10, 13, 13),\n",
       " (60, 61, 'GP', 'F', 16, 'R', 'GT3', 'T', 4, 4, 'health', 'teacher', 'other', 'mother', 1, 2, 0, 'no', 'yes', 'no', 'yes', 'yes', 'yes', 'no', 'no', 2, 4, 4, 2, 3, 4, 6, 10, 11, 11),\n",
       " (61, 62, 'GP', 'F', 16, 'U', 'GT3', 'T', 1, 1, 'services', 'services', 'course', 'father', 4, 1, 0, 'yes', 'yes', 'no', 'yes', 'no', 'yes', 'yes', 'yes', 5, 5, 5, 5, 5, 5, 6, 10, 8, 11),\n",
       " (63, 64, 'GP', 'F', 16, 'U', 'GT3', 'T', 4, 3, 'teacher', 'health', 'home', 'mother', 1, 3, 0, 'yes', 'yes', 'yes', 'yes', 'yes', 'yes', 'yes', 'no', 3, 4, 4, 2, 4, 4, 2, 10, 9, 9),\n",
       " (64, 65, 'GP', 'F', 15, 'U', 'LE3', 'T', 4, 3, 'services', 'services', 'reputation', 'father', 1, 2, 0, 'yes', 'no', 'no', 'yes', 'yes', 'yes', 'yes', 'yes', 4, 4, 4, 2, 4, 2, 0, 10, 10, 10),\n",
       " (71, 72, 'GP', 'M', 15, 'U', 'GT3', 'T', 4, 2, 'other', 'other', 'course', 'mother', 1, 4, 0, 'no', 'no', 'no', 'no', 'yes', 'yes', 'yes', 'no', 3, 3, 3, 1, 1, 3, 0, 10, 10, 10),\n",
       " (80, 81, 'GP', 'M', 15, 'U', 'GT3', 'T', 2, 3, 'other', 'services', 'course', 'father', 1, 1, 0, 'yes', 'yes', 'yes', 'yes', 'no', 'yes', 'yes', 'yes', 3, 2, 2, 1, 3, 3, 2, 10, 12, 12),\n",
       " (102, 103, 'GP', 'M', 15, 'U', 'GT3', 'T', 4, 4, 'services', 'other', 'course', 'mother', 1, 1, 0, 'no', 'yes', 'no', 'yes', 'no', 'yes', 'yes', 'no', 5, 3, 3, 1, 1, 5, 4, 10, 13, 14),\n",
       " (105, 106, 'GP', 'F', 15, 'U', 'GT3', 'A', 3, 3, 'other', 'health', 'reputation', 'father', 1, 4, 0, 'yes', 'no', 'no', 'no', 'yes', 'yes', 'no', 'no', 4, 3, 3, 1, 1, 4, 10, 10, 11, 11),\n",
       " (108, 109, 'GP', 'M', 15, 'R', 'GT3', 'T', 4, 4, 'other', 'other', 'home', 'father', 4, 4, 0, 'no', 'yes', 'yes', 'yes', 'yes', 'yes', 'yes', 'yes', 1, 3, 5, 3, 5, 1, 6, 10, 13, 13),\n",
       " (112, 113, 'GP', 'F', 16, 'U', 'GT3', 'T', 2, 2, 'at_home', 'other', 'home', 'mother', 1, 2, 1, 'yes', 'no', 'no', 'yes', 'yes', 'yes', 'yes', 'no', 3, 1, 2, 1, 1, 5, 6, 10, 13, 13),\n",
       " (132, 133, 'GP', 'F', 17, 'U', 'LE3', 'T', 2, 2, 'other', 'other', 'course', 'father', 1, 1, 0, 'no', 'yes', 'no', 'no', 'yes', 'yes', 'yes', 'yes', 3, 4, 4, 1, 3, 5, 12, 10, 13, 12),\n",
       " (136, 137, 'GP', 'M', 17, 'R', 'GT3', 'T', 3, 4, 'at_home', 'other', 'course', 'mother', 3, 2, 0, 'no', 'no', 'no', 'no', 'yes', 'yes', 'no', 'no', 5, 4, 5, 2, 4, 5, 0, 10, 0, 0),\n",
       " (147, 148, 'GP', 'F', 15, 'U', 'GT3', 'T', 1, 2, 'at_home', 'other', 'course', 'mother', 1, 2, 0, 'no', 'yes', 'yes', 'no', 'no', 'yes', 'yes', 'no', 4, 3, 2, 1, 1, 5, 2, 10, 11, 11),\n",
       " (152, 153, 'GP', 'F', 15, 'R', 'GT3', 'T', 3, 3, 'services', 'services', 'reputation', 'other', 2, 3, 2, 'no', 'yes', 'yes', 'yes', 'yes', 'yes', 'yes', 'yes', 4, 2, 1, 2, 3, 3, 8, 10, 10, 10),\n",
       " (159, 160, 'GP', 'M', 16, 'U', 'GT3', 'T', 3, 3, 'other', 'services', 'course', 'father', 1, 2, 1, 'no', 'yes', 'yes', 'no', 'yes', 'yes', 'yes', 'yes', 4, 5, 5, 4, 4, 5, 4, 10, 12, 12),\n",
       " (163, 164, 'GP', 'M', 17, 'U', 'GT3', 'T', 1, 3, 'at_home', 'services', 'course', 'father', 1, 1, 0, 'no', 'no', 'no', 'no', 'yes', 'no', 'yes', 'no', 5, 3, 3, 1, 4, 2, 2, 10, 10, 10),\n",
       " (166, 167, 'GP', 'M', 16, 'U', 'GT3', 'T', 2, 2, 'other', 'other', 'course', 'father', 1, 2, 0, 'no', 'no', 'no', 'no', 'yes', 'no', 'yes', 'no', 4, 3, 5, 2, 4, 4, 4, 10, 10, 10),\n",
       " (174, 175, 'GP', 'F', 16, 'U', 'LE3', 'T', 3, 3, 'other', 'other', 'reputation', 'mother', 2, 2, 0, 'no', 'yes', 'yes', 'yes', 'yes', 'yes', 'yes', 'no', 4, 4, 5, 1, 1, 4, 4, 10, 11, 9),\n",
       " (175, 176, 'GP', 'M', 17, 'U', 'LE3', 'T', 4, 3, 'teacher', 'other', 'course', 'mother', 2, 2, 0, 'no', 'no', 'yes', 'yes', 'yes', 'yes', 'yes', 'no', 4, 4, 4, 4, 4, 4, 4, 10, 9, 9),\n",
       " (178, 179, 'GP', 'M', 16, 'R', 'GT3', 'T', 4, 2, 'teacher', 'services', 'other', 'mother', 1, 1, 0, 'no', 'yes', 'no', 'yes', 'yes', 'yes', 'yes', 'yes', 4, 3, 3, 3, 4, 3, 10, 10, 8, 9),\n",
       " (179, 180, 'GP', 'M', 17, 'U', 'GT3', 'T', 4, 3, 'other', 'other', 'course', 'mother', 1, 2, 0, 'no', 'yes', 'no', 'yes', 'yes', 'yes', 'yes', 'yes', 5, 2, 3, 1, 1, 2, 4, 10, 10, 11),\n",
       " (204, 205, 'GP', 'F', 16, 'R', 'GT3', 'T', 2, 2, 'services', 'services', 'reputation', 'mother', 2, 4, 0, 'no', 'yes', 'yes', 'yes', 'no', 'yes', 'yes', 'no', 5, 3, 5, 1, 1, 5, 6, 10, 10, 11),\n",
       " (205, 206, 'GP', 'F', 17, 'U', 'GT3', 'T', 3, 4, 'at_home', 'services', 'home', 'mother', 1, 3, 1, 'no', 'yes', 'yes', 'no', 'yes', 'yes', 'yes', 'yes', 4, 4, 3, 3, 4, 5, 28, 10, 9, 9),\n",
       " (228, 229, 'GP', 'M', 18, 'U', 'LE3', 'T', 2, 1, 'at_home', 'other', 'course', 'mother', 4, 2, 0, 'yes', 'yes', 'yes', 'yes', 'yes', 'yes', 'yes', 'yes', 4, 3, 2, 4, 5, 3, 14, 10, 8, 9),\n",
       " (241, 242, 'GP', 'M', 17, 'R', 'LE3', 'A', 4, 4, 'teacher', 'other', 'course', 'mother', 2, 2, 0, 'no', 'yes', 'yes', 'no', 'yes', 'yes', 'yes', 'no', 3, 3, 3, 2, 3, 4, 2, 10, 11, 12),\n",
       " (259, 260, 'GP', 'F', 17, 'U', 'LE3', 'T', 2, 2, 'services', 'services', 'course', 'father', 1, 4, 0, 'no', 'no', 'yes', 'yes', 'yes', 'yes', 'yes', 'yes', 3, 4, 1, 1, 1, 2, 0, 10, 9, 0),\n",
       " (263, 264, 'GP', 'F', 17, 'U', 'GT3', 'T', 3, 3, 'other', 'other', 'home', 'mother', 1, 3, 0, 'no', 'no', 'no', 'yes', 'no', 'yes', 'no', 'no', 3, 2, 3, 1, 1, 4, 4, 10, 9, 9),\n",
       " (268, 269, 'GP', 'M', 18, 'U', 'GT3', 'T', 4, 2, 'health', 'other', 'reputation', 'father', 1, 2, 0, 'no', 'yes', 'yes', 'yes', 'yes', 'yes', 'yes', 'yes', 5, 4, 5, 1, 3, 5, 10, 10, 9, 10),\n",
       " (274, 275, 'GP', 'F', 17, 'U', 'GT3', 'T', 2, 4, 'at_home', 'health', 'reputation', 'mother', 2, 2, 0, 'no', 'yes', 'yes', 'no', 'yes', 'yes', 'yes', 'yes', 4, 3, 3, 1, 1, 1, 2, 10, 10, 10),\n",
       " (276, 277, 'GP', 'F', 18, 'R', 'GT3', 'A', 3, 2, 'other', 'services', 'home', 'mother', 2, 2, 0, 'no', 'no', 'no', 'no', 'no', 'no', 'yes', 'yes', 4, 1, 1, 1, 1, 5, 75, 10, 9, 9),\n",
       " (279, 280, 'GP', 'M', 18, 'U', 'LE3', 'T', 4, 3, 'teacher', 'services', 'course', 'mother', 2, 1, 0, 'no', 'no', 'yes', 'yes', 'yes', 'yes', 'yes', 'no', 4, 2, 3, 1, 2, 1, 8, 10, 11, 10),\n",
       " (284, 285, 'GP', 'F', 17, 'U', 'GT3', 'T', 2, 2, 'other', 'other', 'course', 'mother', 1, 2, 0, 'no', 'yes', 'no', 'no', 'no', 'yes', 'yes', 'no', 5, 4, 5, 1, 2, 5, 4, 10, 9, 11),\n",
       " (296, 297, 'GP', 'F', 19, 'U', 'GT3', 'T', 4, 4, 'health', 'other', 'reputation', 'other', 2, 2, 0, 'no', 'yes', 'yes', 'yes', 'yes', 'yes', 'yes', 'no', 2, 3, 4, 2, 3, 2, 0, 10, 9, 0),\n",
       " (297, 298, 'GP', 'F', 18, 'U', 'LE3', 'T', 4, 3, 'other', 'other', 'home', 'other', 2, 2, 0, 'no', 'yes', 'yes', 'no', 'yes', 'yes', 'yes', 'yes', 4, 4, 5, 1, 2, 2, 10, 10, 8, 8),\n",
       " (328, 329, 'GP', 'F', 17, 'U', 'GT3', 'T', 4, 4, 'teacher', 'services', 'course', 'mother', 1, 3, 0, 'no', 'yes', 'yes', 'yes', 'yes', 'yes', 'yes', 'no', 5, 4, 4, 1, 3, 4, 7, 10, 9, 9),\n",
       " (334, 335, 'GP', 'F', 18, 'R', 'GT3', 'T', 2, 2, 'at_home', 'other', 'course', 'mother', 2, 4, 0, 'no', 'no', 'no', 'yes', 'yes', 'yes', 'no', 'no', 4, 4, 4, 1, 1, 4, 0, 10, 9, 0),\n",
       " (341, 342, 'GP', 'M', 18, 'U', 'GT3', 'T', 4, 4, 'teacher', 'services', 'home', 'father', 1, 2, 1, 'no', 'yes', 'no', 'yes', 'yes', 'yes', 'yes', 'no', 4, 3, 3, 2, 2, 2, 0, 10, 10, 0),\n",
       " (347, 348, 'GP', 'M', 18, 'U', 'GT3', 'T', 4, 3, 'teacher', 'other', 'course', 'mother', 1, 3, 0, 'no', 'yes', 'yes', 'no', 'yes', 'yes', 'yes', 'yes', 5, 4, 5, 2, 3, 5, 0, 10, 10, 9),\n",
       " (355, 356, 'MS', 'F', 18, 'U', 'GT3', 'T', 3, 3, 'services', 'services', 'course', 'father', 1, 2, 0, 'no', 'yes', 'no', 'no', 'yes', 'yes', 'no', 'yes', 5, 3, 4, 1, 1, 5, 0, 10, 9, 9),\n",
       " (358, 359, 'MS', 'M', 18, 'U', 'LE3', 'T', 1, 1, 'other', 'services', 'home', 'father', 2, 1, 0, 'no', 'no', 'no', 'no', 'no', 'yes', 'yes', 'yes', 3, 3, 2, 1, 2, 3, 4, 10, 10, 10),\n",
       " (365, 366, 'MS', 'M', 18, 'R', 'GT3', 'T', 1, 3, 'at_home', 'other', 'course', 'mother', 2, 2, 0, 'no', 'yes', 'yes', 'no', 'yes', 'yes', 'no', 'no', 3, 3, 4, 2, 4, 3, 4, 10, 10, 10),\n",
       " (379, 380, 'MS', 'F', 17, 'R', 'GT3', 'T', 3, 1, 'at_home', 'other', 'reputation', 'mother', 1, 2, 0, 'no', 'yes', 'yes', 'yes', 'no', 'yes', 'yes', 'no', 4, 5, 4, 2, 3, 1, 17, 10, 10, 10),\n",
       " (385, 386, 'MS', 'F', 18, 'R', 'GT3', 'T', 2, 2, 'at_home', 'other', 'other', 'mother', 2, 3, 0, 'no', 'no', 'yes', 'no', 'yes', 'yes', 'no', 'no', 5, 3, 3, 1, 3, 4, 2, 10, 9, 10),\n",
       " (392, 393, 'MS', 'M', 21, 'R', 'GT3', 'T', 1, 1, 'other', 'other', 'course', 'other', 1, 1, 3, 'no', 'no', 'no', 'no', 'no', 'yes', 'no', 'no', 5, 5, 3, 3, 3, 3, 3, 10, 8, 7),\n",
       " (30, 31, 'GP', 'M', 15, 'U', 'GT3', 'T', 4, 4, 'health', 'services', 'home', 'mother', 1, 2, 0, 'no', 'yes', 'yes', 'no', 'no', 'yes', 'yes', 'no', 5, 4, 2, 3, 4, 5, 0, 9, 11, 12),\n",
       " (58, 59, 'GP', 'M', 15, 'U', 'LE3', 'T', 1, 2, 'other', 'at_home', 'home', 'father', 1, 2, 0, 'yes', 'yes', 'no', 'yes', 'yes', 'yes', 'yes', 'no', 4, 3, 2, 1, 1, 5, 2, 9, 10, 9),\n",
       " (75, 76, 'GP', 'M', 15, 'U', 'GT3', 'T', 4, 3, 'teacher', 'other', 'home', 'mother', 1, 2, 0, 'no', 'yes', 'yes', 'yes', 'yes', 'yes', 'yes', 'no', 4, 3, 3, 2, 3, 5, 6, 9, 9, 10),\n",
       " (84, 85, 'GP', 'F', 15, 'U', 'GT3', 'T', 1, 1, 'other', 'other', 'home', 'father', 1, 2, 0, 'no', 'yes', 'no', 'yes', 'no', 'yes', 'yes', 'no', 4, 3, 2, 2, 3, 4, 2, 9, 10, 10),\n",
       " (114, 115, 'GP', 'M', 15, 'R', 'GT3', 'T', 2, 1, 'health', 'services', 'reputation', 'mother', 1, 2, 0, 'no', 'no', 'no', 'yes', 'yes', 'yes', 'yes', 'yes', 5, 4, 2, 1, 1, 5, 8, 9, 9, 9),\n",
       " (118, 119, 'GP', 'M', 17, 'R', 'GT3', 'T', 1, 3, 'other', 'other', 'course', 'father', 3, 2, 1, 'no', 'yes', 'no', 'yes', 'yes', 'yes', 'yes', 'no', 5, 2, 4, 1, 4, 5, 20, 9, 7, 8),\n",
       " (134, 135, 'GP', 'M', 15, 'R', 'GT3', 'T', 3, 4, 'at_home', 'teacher', 'course', 'mother', 4, 2, 0, 'no', 'yes', 'no', 'no', 'yes', 'yes', 'no', 'yes', 5, 3, 3, 1, 1, 5, 0, 9, 0, 0),\n",
       " (141, 142, 'GP', 'M', 16, 'U', 'LE3', 'T', 2, 2, 'services', 'services', 'reputation', 'father', 2, 1, 2, 'no', 'yes', 'no', 'yes', 'yes', 'yes', 'yes', 'no', 2, 3, 3, 2, 2, 2, 8, 9, 9, 9),\n",
       " (142, 143, 'GP', 'F', 15, 'U', 'GT3', 'T', 4, 4, 'teacher', 'services', 'course', 'mother', 1, 3, 0, 'no', 'yes', 'yes', 'yes', 'yes', 'yes', 'yes', 'no', 4, 2, 2, 1, 1, 5, 2, 9, 11, 11),\n",
       " (157, 158, 'GP', 'F', 18, 'R', 'GT3', 'T', 1, 1, 'at_home', 'other', 'course', 'mother', 3, 1, 3, 'no', 'yes', 'no', 'yes', 'no', 'yes', 'no', 'no', 5, 2, 5, 1, 5, 4, 6, 9, 8, 10),\n",
       " (180, 181, 'GP', 'M', 16, 'U', 'GT3', 'T', 4, 3, 'teacher', 'other', 'home', 'mother', 1, 2, 0, 'no', 'yes', 'yes', 'yes', 'yes', 'yes', 'yes', 'no', 3, 4, 3, 2, 3, 3, 10, 9, 8, 8),\n",
       " (183, 184, 'GP', 'F', 17, 'U', 'LE3', 'T', 3, 3, 'other', 'other', 'reputation', 'mother', 1, 2, 0, 'no', 'yes', 'no', 'yes', 'yes', 'yes', 'yes', 'yes', 5, 3, 3, 2, 3, 1, 56, 9, 9, 8),\n",
       " (197, 198, 'GP', 'M', 16, 'R', 'LE3', 'T', 3, 3, 'teacher', 'other', 'home', 'father', 3, 1, 0, 'no', 'yes', 'yes', 'yes', 'yes', 'yes', 'yes', 'no', 3, 3, 4, 3, 5, 3, 8, 9, 9, 10),\n",
       " (199, 200, 'GP', 'F', 16, 'U', 'LE3', 'T', 4, 4, 'teacher', 'teacher', 'reputation', 'mother', 1, 2, 0, 'no', 'yes', 'yes', 'no', 'yes', 'yes', 'yes', 'no', 4, 5, 2, 1, 2, 3, 0, 9, 9, 10),\n",
       " (202, 203, 'GP', 'F', 17, 'U', 'GT3', 'T', 1, 1, 'other', 'other', 'course', 'mother', 1, 2, 0, 'no', 'yes', 'yes', 'no', 'no', 'yes', 'no', 'no', 4, 4, 4, 1, 3, 1, 4, 9, 9, 10),\n",
       " (208, 209, 'GP', 'F', 16, 'U', 'GT3', 'T', 1, 1, 'at_home', 'other', 'home', 'mother', 2, 1, 0, 'no', 'yes', 'yes', 'no', 'yes', 'yes', 'no', 'no', 4, 3, 2, 1, 4, 5, 6, 9, 9, 10),\n",
       " (219, 220, 'GP', 'F', 17, 'U', 'GT3', 'T', 2, 2, 'at_home', 'at_home', 'course', 'mother', 1, 3, 0, 'no', 'yes', 'yes', 'yes', 'yes', 'yes', 'yes', 'no', 4, 3, 3, 1, 1, 4, 4, 9, 10, 10),\n",
       " (225, 226, 'GP', 'F', 18, 'R', 'GT3', 'T', 3, 1, 'other', 'other', 'reputation', 'mother', 1, 2, 1, 'no', 'no', 'no', 'yes', 'yes', 'yes', 'yes', 'yes', 5, 3, 3, 1, 1, 4, 16, 9, 8, 7),\n",
       " (234, 235, 'GP', 'M', 16, 'U', 'LE3', 'T', 1, 1, 'other', 'other', 'home', 'mother', 2, 2, 0, 'no', 'yes', 'yes', 'no', 'yes', 'yes', 'yes', 'no', 3, 4, 2, 1, 1, 5, 18, 9, 7, 6),\n",
       " (264, 265, 'GP', 'F', 18, 'U', 'GT3', 'T', 2, 2, 'at_home', 'services', 'home', 'mother', 1, 3, 0, 'no', 'yes', 'yes', 'yes', 'yes', 'yes', 'yes', 'yes', 4, 3, 3, 1, 1, 3, 0, 9, 10, 0),\n",
       " (266, 267, 'GP', 'M', 17, 'U', 'GT3', 'T', 3, 1, 'services', 'other', 'other', 'mother', 1, 2, 0, 'no', 'no', 'yes', 'yes', 'yes', 'yes', 'yes', 'yes', 5, 4, 4, 3, 4, 5, 2, 9, 9, 10),\n",
       " (270, 271, 'GP', 'F', 19, 'U', 'GT3', 'T', 3, 3, 'other', 'services', 'home', 'other', 1, 2, 2, 'no', 'yes', 'yes', 'yes', 'yes', 'yes', 'yes', 'no', 4, 3, 5, 3, 3, 5, 15, 9, 9, 9),\n",
       " (277, 278, 'GP', 'M', 18, 'U', 'GT3', 'T', 4, 4, 'teacher', 'services', 'home', 'mother', 2, 1, 0, 'no', 'no', 'yes', 'yes', 'yes', 'yes', 'yes', 'no', 3, 2, 4, 1, 4, 3, 22, 9, 9, 9),\n",
       " (278, 279, 'GP', 'F', 18, 'U', 'GT3', 'T', 4, 4, 'health', 'health', 'reputation', 'father', 1, 2, 1, 'yes', 'yes', 'no', 'yes', 'yes', 'yes', 'yes', 'yes', 2, 4, 4, 1, 1, 4, 15, 9, 8, 8),\n",
       " (310, 311, 'GP', 'F', 19, 'U', 'LE3', 'T', 1, 2, 'services', 'services', 'home', 'other', 1, 2, 1, 'no', 'no', 'no', 'yes', 'no', 'yes', 'no', 'yes', 4, 2, 4, 2, 2, 3, 0, 9, 9, 0),\n",
       " (317, 318, 'GP', 'F', 18, 'U', 'GT3', 'T', 4, 3, 'other', 'other', 'course', 'mother', 1, 3, 0, 'no', 'yes', 'yes', 'yes', 'yes', 'yes', 'yes', 'yes', 4, 3, 4, 1, 1, 5, 9, 9, 10, 9),\n",
       " (325, 326, 'GP', 'M', 18, 'U', 'GT3', 'T', 4, 4, 'other', 'other', 'course', 'mother', 1, 3, 0, 'no', 'no', 'no', 'yes', 'yes', 'yes', 'yes', 'no', 4, 3, 3, 2, 2, 3, 3, 9, 12, 11),\n",
       " (330, 331, 'GP', 'M', 18, 'U', 'LE3', 'T', 2, 2, 'other', 'other', 'course', 'mother', 1, 4, 0, 'no', 'yes', 'no', 'yes', 'yes', 'yes', 'yes', 'no', 4, 5, 5, 2, 4, 5, 2, 9, 8, 8),\n",
       " (339, 340, 'GP', 'F', 17, 'R', 'GT3', 'A', 3, 2, 'other', 'other', 'home', 'mother', 1, 2, 0, 'no', 'yes', 'yes', 'no', 'yes', 'yes', 'yes', 'no', 4, 3, 3, 2, 3, 2, 4, 9, 10, 10),\n",
       " (343, 344, 'GP', 'F', 17, 'U', 'GT3', 'A', 2, 2, 'at_home', 'at_home', 'home', 'father', 1, 2, 1, 'no', 'yes', 'no', 'no', 'yes', 'yes', 'yes', 'yes', 3, 3, 1, 1, 2, 4, 0, 9, 8, 0),\n",
       " (390, 391, 'MS', 'M', 20, 'U', 'LE3', 'A', 2, 2, 'services', 'services', 'course', 'other', 1, 2, 2, 'no', 'yes', 'yes', 'no', 'yes', 'yes', 'no', 'no', 5, 5, 4, 4, 5, 4, 11, 9, 9, 9),\n",
       " (17, 18, 'GP', 'F', 16, 'U', 'GT3', 'T', 3, 3, 'other', 'other', 'reputation', 'mother', 3, 2, 0, 'yes', 'yes', 'no', 'yes', 'yes', 'yes', 'no', 'no', 5, 3, 2, 1, 1, 4, 4, 8, 10, 10),\n",
       " (19, 20, 'GP', 'M', 16, 'U', 'LE3', 'T', 4, 3, 'health', 'other', 'home', 'father', 1, 1, 0, 'no', 'no', 'yes', 'yes', 'yes', 'yes', 'yes', 'no', 3, 1, 3, 1, 3, 5, 4, 8, 10, 10),\n",
       " (33, 34, 'GP', 'M', 15, 'U', 'LE3', 'T', 3, 3, 'other', 'other', 'course', 'mother', 1, 2, 0, 'no', 'no', 'no', 'yes', 'no', 'yes', 'yes', 'no', 5, 3, 2, 1, 1, 2, 0, 8, 10, 12),\n",
       " (35, 36, 'GP', 'F', 15, 'U', 'GT3', 'T', 2, 3, 'other', 'other', 'other', 'father', 2, 1, 0, 'no', 'yes', 'no', 'yes', 'yes', 'yes', 'no', 'no', 3, 5, 1, 1, 1, 5, 0, 8, 7, 6),\n",
       " (43, 44, 'GP', 'M', 15, 'U', 'GT3', 'T', 2, 2, 'services', 'services', 'course', 'father', 1, 1, 0, 'yes', 'yes', 'no', 'no', 'yes', 'yes', 'yes', 'no', 5, 4, 1, 1, 1, 1, 0, 8, 8, 11),\n",
       " (45, 46, 'GP', 'F', 15, 'U', 'LE3', 'A', 4, 3, 'other', 'other', 'course', 'mother', 1, 2, 0, 'yes', 'yes', 'yes', 'yes', 'yes', 'yes', 'yes', 'yes', 5, 2, 2, 1, 1, 5, 8, 8, 8, 6),\n",
       " (53, 54, 'GP', 'F', 15, 'U', 'GT3', 'T', 4, 4, 'services', 'services', 'course', 'mother', 1, 1, 0, 'yes', 'yes', 'yes', 'no', 'yes', 'yes', 'yes', 'no', 3, 3, 4, 2, 3, 5, 0, 8, 10, 11),\n",
       " (55, 56, 'GP', 'F', 16, 'U', 'GT3', 'A', 2, 1, 'other', 'other', 'other', 'mother', 1, 2, 0, 'no', 'no', 'yes', 'yes', 'yes', 'yes', 'yes', 'yes', 5, 3, 4, 1, 1, 2, 8, 8, 9, 10),\n",
       " (62, 63, 'GP', 'F', 16, 'U', 'LE3', 'T', 1, 2, 'other', 'services', 'reputation', 'father', 1, 2, 0, 'yes', 'no', 'no', 'yes', 'yes', 'yes', 'yes', 'no', 4, 4, 3, 1, 1, 1, 4, 8, 10, 9),\n",
       " (68, 69, 'GP', 'F', 15, 'R', 'LE3', 'T', 2, 2, 'health', 'services', 'reputation', 'mother', 2, 2, 0, 'yes', 'yes', 'yes', 'no', 'yes', 'yes', 'yes', 'no', 4, 1, 3, 1, 3, 4, 2, 8, 9, 8),\n",
       " (72, 73, 'GP', 'F', 15, 'R', 'GT3', 'T', 1, 1, 'other', 'other', 'reputation', 'mother', 1, 2, 2, 'yes', 'yes', 'no', 'no', 'no', 'yes', 'yes', 'yes', 3, 3, 4, 2, 4, 5, 2, 8, 6, 5),\n",
       " (78, 79, 'GP', 'M', 17, 'U', 'GT3', 'T', 2, 1, 'other', 'other', 'home', 'mother', 2, 1, 3, 'yes', 'yes', 'no', 'yes', 'yes', 'no', 'yes', 'no', 4, 5, 1, 1, 1, 3, 2, 8, 8, 10),\n",
       " (86, 87, 'GP', 'F', 16, 'U', 'LE3', 'T', 2, 2, 'at_home', 'other', 'course', 'mother', 1, 2, 0, 'no', 'yes', 'no', 'no', 'yes', 'yes', 'no', 'no', 4, 3, 4, 1, 2, 2, 4, 8, 7, 6),\n",
       " (89, 90, 'GP', 'M', 16, 'U', 'LE3', 'A', 4, 4, 'teacher', 'health', 'reputation', 'mother', 1, 2, 0, 'no', 'yes', 'no', 'no', 'yes', 'yes', 'no', 'no', 4, 1, 3, 3, 5, 5, 18, 8, 6, 7),\n",
       " (97, 98, 'GP', 'F', 16, 'U', 'GT3', 'T', 2, 1, 'other', 'other', 'course', 'mother', 1, 2, 0, 'no', 'yes', 'yes', 'no', 'yes', 'yes', 'no', 'yes', 4, 3, 5, 1, 1, 5, 2, 8, 9, 10),\n",
       " (124, 125, 'GP', 'F', 16, 'U', 'GT3', 'T', 2, 2, 'other', 'other', 'home', 'mother', 1, 2, 0, 'no', 'no', 'yes', 'no', 'yes', 'yes', 'yes', 'yes', 5, 4, 4, 1, 1, 5, 0, 8, 7, 8),\n",
       " (131, 132, 'GP', 'F', 15, 'U', 'GT3', 'T', 1, 1, 'at_home', 'other', 'course', 'mother', 3, 1, 0, 'no', 'yes', 'no', 'yes', 'no', 'yes', 'yes', 'yes', 4, 3, 3, 1, 2, 4, 0, 8, 0, 0),\n",
       " (145, 146, 'GP', 'F', 15, 'U', 'GT3', 'T', 1, 1, 'other', 'services', 'course', 'father', 1, 2, 0, 'no', 'yes', 'yes', 'no', 'yes', 'yes', 'yes', 'no', 4, 4, 2, 1, 2, 5, 0, 8, 11, 11),\n",
       " (149, 150, 'GP', 'M', 15, 'U', 'LE3', 'A', 2, 1, 'services', 'other', 'course', 'mother', 4, 1, 3, 'no', 'no', 'no', 'no', 'yes', 'yes', 'yes', 'no', 4, 5, 5, 2, 5, 5, 0, 8, 9, 10),\n",
       " (173, 174, 'GP', 'F', 16, 'U', 'GT3', 'T', 1, 3, 'at_home', 'services', 'home', 'mother', 1, 2, 3, 'no', 'no', 'no', 'yes', 'no', 'yes', 'yes', 'yes', 4, 3, 5, 1, 1, 3, 0, 8, 7, 0),\n",
       " (188, 189, 'GP', 'F', 17, 'U', 'GT3', 'A', 3, 3, 'health', 'other', 'reputation', 'mother', 1, 2, 0, 'no', 'yes', 'no', 'no', 'no', 'yes', 'yes', 'yes', 3, 3, 3, 1, 3, 3, 6, 8, 7, 9),\n",
       " (189, 190, 'GP', 'M', 17, 'R', 'GT3', 'T', 1, 2, 'at_home', 'other', 'home', 'mother', 1, 2, 0, 'no', 'no', 'no', 'no', 'yes', 'yes', 'no', 'no', 3, 1, 3, 1, 5, 3, 4, 8, 9, 10),\n",
       " (191, 192, 'GP', 'F', 17, 'U', 'GT3', 'T', 1, 1, 'at_home', 'services', 'course', 'mother', 1, 2, 0, 'no', 'no', 'no', 'yes', 'yes', 'yes', 'yes', 'no', 5, 3, 3, 1, 1, 3, 0, 8, 8, 9),\n",
       " (193, 194, 'GP', 'M', 16, 'R', 'GT3', 'T', 3, 3, 'services', 'services', 'reputation', 'mother', 1, 1, 0, 'no', 'yes', 'no', 'yes', 'yes', 'yes', 'yes', 'no', 4, 3, 2, 3, 4, 5, 8, 8, 9, 10),\n",
       " (201, 202, 'GP', 'F', 16, 'U', 'GT3', 'T', 2, 3, 'other', 'other', 'reputation', 'mother', 1, 2, 0, 'yes', 'yes', 'yes', 'yes', 'yes', 'yes', 'no', 'no', 4, 4, 3, 1, 3, 4, 6, 8, 10, 10),\n",
       " (210, 211, 'GP', 'F', 19, 'U', 'GT3', 'T', 3, 3, 'other', 'other', 'reputation', 'other', 1, 4, 0, 'no', 'yes', 'yes', 'yes', 'yes', 'yes', 'yes', 'no', 4, 3, 3, 1, 2, 3, 10, 8, 8, 8),\n",
       " (214, 215, 'GP', 'F', 17, 'R', 'LE3', 'T', 4, 4, 'services', 'other', 'other', 'mother', 1, 1, 0, 'no', 'yes', 'yes', 'no', 'yes', 'yes', 'no', 'no', 5, 2, 1, 1, 2, 3, 12, 8, 10, 10),\n",
       " (253, 254, 'GP', 'M', 16, 'R', 'GT3', 'T', 2, 1, 'other', 'other', 'course', 'mother', 2, 1, 0, 'no', 'no', 'no', 'yes', 'no', 'yes', 'no', 'no', 3, 3, 2, 1, 3, 3, 0, 8, 9, 8),\n",
       " (254, 255, 'GP', 'M', 17, 'R', 'GT3', 'T', 2, 1, 'other', 'other', 'course', 'mother', 1, 1, 0, 'no', 'no', 'no', 'no', 'no', 'yes', 'yes', 'no', 4, 4, 2, 2, 4, 5, 0, 8, 12, 12),\n",
       " (261, 262, 'GP', 'M', 18, 'U', 'GT3', 'T', 4, 3, 'teacher', 'other', 'course', 'mother', 1, 2, 0, 'no', 'yes', 'yes', 'no', 'no', 'yes', 'yes', 'no', 4, 3, 2, 1, 1, 3, 2, 8, 8, 8),\n",
       " (280, 281, 'GP', 'M', 17, 'U', 'LE3', 'A', 4, 1, 'services', 'other', 'home', 'mother', 2, 1, 0, 'no', 'no', 'yes', 'yes', 'yes', 'yes', 'yes', 'yes', 4, 5, 4, 2, 4, 5, 30, 8, 8, 8),\n",
       " (283, 284, 'GP', 'F', 18, 'U', 'GT3', 'T', 1, 1, 'other', 'other', 'home', 'mother', 2, 2, 0, 'yes', 'no', 'no', 'yes', 'yes', 'yes', 'yes', 'no', 5, 4, 4, 1, 1, 4, 4, 8, 9, 10),\n",
       " (307, 308, 'GP', 'M', 19, 'U', 'GT3', 'T', 4, 4, 'teacher', 'services', 'reputation', 'other', 2, 1, 1, 'no', 'yes', 'yes', 'no', 'yes', 'yes', 'yes', 'yes', 4, 3, 4, 1, 1, 4, 38, 8, 9, 8),\n",
       " (316, 317, 'GP', 'F', 18, 'U', 'GT3', 'T', 2, 1, 'services', 'other', 'course', 'mother', 2, 2, 0, 'no', 'yes', 'yes', 'yes', 'yes', 'yes', 'yes', 'no', 5, 3, 3, 1, 2, 1, 0, 8, 8, 0),\n",
       " (333, 334, 'GP', 'F', 18, 'U', 'LE3', 'T', 2, 2, 'other', 'other', 'home', 'other', 1, 2, 0, 'no', 'no', 'no', 'yes', 'no', 'yes', 'yes', 'yes', 4, 3, 3, 1, 1, 2, 0, 8, 8, 0),\n",
       " (350, 351, 'MS', 'M', 19, 'R', 'GT3', 'T', 1, 1, 'other', 'services', 'home', 'other', 3, 2, 3, 'no', 'no', 'no', 'no', 'yes', 'yes', 'yes', 'no', 5, 4, 4, 3, 3, 2, 8, 8, 7, 8),\n",
       " (352, 353, 'MS', 'M', 18, 'U', 'LE3', 'T', 1, 3, 'at_home', 'services', 'course', 'mother', 1, 1, 1, 'no', 'no', 'no', 'no', 'yes', 'no', 'yes', 'yes', 4, 3, 3, 2, 3, 3, 7, 8, 7, 8),\n",
       " (353, 354, 'MS', 'M', 19, 'R', 'GT3', 'T', 1, 1, 'other', 'other', 'home', 'other', 3, 1, 1, 'no', 'yes', 'no', 'no', 'yes', 'yes', 'yes', 'no', 4, 4, 4, 3, 3, 5, 4, 8, 8, 8),\n",
       " (375, 376, 'MS', 'F', 18, 'R', 'GT3', 'T', 1, 1, 'other', 'other', 'home', 'mother', 4, 3, 0, 'no', 'no', 'no', 'no', 'yes', 'yes', 'yes', 'no', 4, 3, 2, 1, 2, 4, 2, 8, 8, 10),\n",
       " (377, 378, 'MS', 'F', 18, 'R', 'LE3', 'T', 4, 4, 'teacher', 'services', 'course', 'mother', 1, 2, 0, 'no', 'no', 'yes', 'yes', 'yes', 'yes', 'yes', 'no', 5, 4, 3, 3, 4, 2, 4, 8, 9, 10),\n",
       " (394, 395, 'MS', 'M', 19, 'U', 'LE3', 'T', 1, 1, 'other', 'at_home', 'course', 'father', 1, 1, 0, 'no', 'no', 'no', 'no', 'yes', 'yes', 'yes', 'no', 3, 2, 3, 3, 3, 5, 5, 8, 9, 9),\n",
       " (2, 3, 'GP', 'F', 15, 'U', 'LE3', 'T', 1, 1, 'at_home', 'other', 'other', 'mother', 1, 2, 3, 'yes', 'no', 'yes', 'no', 'yes', 'yes', 'yes', 'no', 4, 3, 2, 2, 3, 3, 10, 7, 8, 10),\n",
       " (40, 41, 'GP', 'F', 16, 'U', 'LE3', 'T', 2, 2, 'other', 'other', 'home', 'mother', 2, 2, 1, 'no', 'yes', 'no', 'yes', 'no', 'yes', 'yes', 'yes', 3, 3, 3, 1, 2, 3, 25, 7, 10, 11),\n",
       " (49, 50, 'GP', 'F', 15, 'U', 'GT3', 'T', 4, 4, 'services', 'teacher', 'other', 'father', 1, 2, 1, 'yes', 'yes', 'no', 'yes', 'no', 'yes', 'yes', 'no', 4, 4, 4, 1, 1, 3, 2, 7, 7, 7),\n",
       " (67, 68, 'GP', 'F', 16, 'U', 'GT3', 'T', 3, 1, 'services', 'other', 'course', 'mother', 1, 4, 0, 'yes', 'yes', 'yes', 'no', 'yes', 'yes', 'yes', 'no', 4, 3, 3, 1, 2, 5, 4, 7, 7, 6),\n",
       " (82, 83, 'GP', 'F', 15, 'U', 'LE3', 'T', 3, 2, 'services', 'other', 'reputation', 'mother', 1, 2, 0, 'no', 'yes', 'yes', 'no', 'yes', 'yes', 'yes', 'no', 4, 4, 4, 1, 1, 5, 10, 7, 6, 6),\n",
       " (85, 86, 'GP', 'F', 15, 'U', 'GT3', 'T', 4, 4, 'services', 'services', 'reputation', 'father', 2, 2, 2, 'no', 'no', 'yes', 'no', 'yes', 'yes', 'yes', 'yes', 4, 4, 4, 2, 3, 5, 6, 7, 9, 8),\n",
       " (90, 91, 'GP', 'F', 16, 'U', 'GT3', 'T', 3, 3, 'other', 'other', 'home', 'mother', 1, 3, 0, 'no', 'yes', 'yes', 'no', 'yes', 'yes', 'yes', 'yes', 4, 3, 3, 1, 3, 4, 0, 7, 7, 8),\n",
       " (92, 93, 'GP', 'F', 16, 'U', 'LE3', 'T', 3, 1, 'other', 'other', 'home', 'father', 1, 2, 0, 'yes', 'yes', 'no', 'no', 'yes', 'yes', 'no', 'no', 3, 3, 3, 2, 3, 2, 4, 7, 6, 6),\n",
       " (95, 96, 'GP', 'F', 15, 'R', 'GT3', 'T', 1, 1, 'at_home', 'other', 'home', 'mother', 2, 4, 1, 'yes', 'yes', 'yes', 'yes', 'yes', 'yes', 'yes', 'no', 3, 1, 2, 1, 1, 1, 2, 7, 10, 10),\n",
       " (99, 100, 'GP', 'F', 16, 'U', 'GT3', 'T', 4, 3, 'other', 'at_home', 'course', 'mother', 1, 3, 0, 'yes', 'yes', 'yes', 'no', 'yes', 'yes', 'yes', 'no', 5, 3, 5, 1, 1, 3, 0, 7, 9, 8),\n",
       " (100, 101, 'GP', 'M', 16, 'U', 'GT3', 'T', 4, 4, 'services', 'services', 'other', 'mother', 1, 1, 0, 'yes', 'yes', 'yes', 'yes', 'yes', 'yes', 'yes', 'no', 4, 5, 5, 5, 5, 4, 14, 7, 7, 5),\n",
       " (103, 104, 'GP', 'F', 15, 'U', 'GT3', 'T', 3, 2, 'services', 'other', 'home', 'mother', 2, 2, 0, 'yes', 'yes', 'yes', 'no', 'yes', 'yes', 'yes', 'no', 4, 3, 5, 1, 1, 2, 26, 7, 6, 6),\n",
       " (106, 107, 'GP', 'F', 15, 'U', 'GT3', 'T', 2, 2, 'other', 'other', 'course', 'mother', 1, 4, 0, 'yes', 'yes', 'yes', 'no', 'yes', 'yes', 'yes', 'no', 5, 1, 2, 1, 1, 3, 8, 7, 8, 8),\n",
       " (111, 112, 'GP', 'F', 16, 'R', 'GT3', 'T', 3, 3, 'services', 'other', 'reputation', 'father', 1, 3, 1, 'yes', 'yes', 'no', 'yes', 'yes', 'yes', 'yes', 'no', 4, 1, 2, 1, 1, 2, 0, 7, 10, 10),\n",
       " (126, 127, 'GP', 'F', 15, 'U', 'LE3', 'A', 3, 4, 'other', 'other', 'home', 'mother', 1, 2, 0, 'yes', 'no', 'no', 'yes', 'yes', 'yes', 'yes', 'yes', 5, 3, 2, 1, 1, 1, 0, 7, 10, 11),\n",
       " (127, 128, 'GP', 'F', 19, 'U', 'GT3', 'T', 0, 1, 'at_home', 'other', 'course', 'other', 1, 2, 3, 'no', 'yes', 'no', 'no', 'no', 'no', 'no', 'no', 3, 4, 2, 1, 1, 5, 2, 7, 8, 9),\n",
       " (128, 129, 'GP', 'M', 18, 'R', 'GT3', 'T', 2, 2, 'services', 'other', 'reputation', 'mother', 1, 1, 2, 'no', 'yes', 'no', 'yes', 'yes', 'yes', 'yes', 'no', 3, 3, 3, 1, 2, 4, 0, 7, 4, 0),\n",
       " (140, 141, 'GP', 'M', 15, 'U', 'GT3', 'T', 4, 3, 'teacher', 'services', 'course', 'father', 2, 4, 0, 'yes', 'yes', 'no', 'no', 'yes', 'yes', 'yes', 'no', 2, 2, 2, 1, 1, 3, 0, 7, 9, 0),\n",
       " (148, 149, 'GP', 'M', 16, 'U', 'GT3', 'T', 4, 4, 'teacher', 'teacher', 'course', 'mother', 1, 1, 0, 'no', 'yes', 'no', 'no', 'yes', 'no', 'yes', 'yes', 3, 3, 2, 2, 1, 5, 0, 7, 6, 0),\n",
       " (160, 161, 'GP', 'M', 17, 'R', 'LE3', 'T', 2, 1, 'at_home', 'other', 'course', 'mother', 2, 1, 2, 'no', 'no', 'no', 'yes', 'yes', 'no', 'yes', 'yes', 3, 3, 2, 2, 2, 5, 0, 7, 6, 0),\n",
       " (162, 163, 'GP', 'M', 16, 'U', 'LE3', 'T', 1, 2, 'other', 'other', 'course', 'mother', 2, 1, 1, 'no', 'no', 'no', 'yes', 'yes', 'yes', 'no', 'no', 4, 4, 4, 2, 4, 5, 0, 7, 0, 0),\n",
       " (192, 193, 'GP', 'M', 17, 'U', 'GT3', 'T', 1, 2, 'at_home', 'services', 'other', 'other', 2, 2, 0, 'no', 'no', 'yes', 'yes', 'no', 'yes', 'yes', 'no', 4, 4, 4, 4, 5, 5, 12, 7, 8, 8),\n",
       " (203, 204, 'GP', 'F', 17, 'R', 'GT3', 'T', 2, 2, 'other', 'other', 'reputation', 'mother', 1, 1, 0, 'no', 'yes', 'no', 'no', 'yes', 'yes', 'yes', 'no', 5, 3, 2, 1, 2, 3, 18, 7, 6, 6),\n",
       " (206, 207, 'GP', 'F', 16, 'U', 'GT3', 'A', 3, 1, 'services', 'other', 'course', 'mother', 1, 2, 3, 'no', 'yes', 'yes', 'no', 'yes', 'yes', 'yes', 'no', 2, 3, 3, 2, 2, 4, 5, 7, 7, 7),\n",
       " (209, 210, 'GP', 'F', 17, 'R', 'GT3', 'T', 4, 3, 'teacher', 'other', 'reputation', 'mother', 2, 3, 0, 'no', 'yes', 'yes', 'yes', 'yes', 'yes', 'yes', 'yes', 4, 4, 2, 1, 1, 4, 6, 7, 7, 7),\n",
       " (218, 219, 'GP', 'F', 17, 'U', 'GT3', 'T', 2, 3, 'at_home', 'other', 'home', 'father', 2, 1, 0, 'no', 'yes', 'yes', 'no', 'yes', 'yes', 'no', 'no', 3, 3, 3, 1, 4, 3, 3, 7, 7, 8),\n",
       " (239, 240, 'GP', 'M', 18, 'U', 'GT3', 'T', 2, 2, 'other', 'services', 'reputation', 'father', 1, 2, 1, 'no', 'no', 'no', 'no', 'yes', 'no', 'yes', 'no', 5, 5, 4, 3, 5, 2, 0, 7, 7, 0),\n",
       " (244, 245, 'GP', 'F', 18, 'U', 'GT3', 'T', 2, 1, 'other', 'other', 'course', 'other', 2, 3, 0, 'no', 'yes', 'yes', 'no', 'no', 'yes', 'yes', 'yes', 4, 4, 4, 1, 1, 3, 0, 7, 0, 0),\n",
       " (251, 252, 'GP', 'M', 16, 'U', 'GT3', 'T', 3, 3, 'at_home', 'other', 'reputation', 'other', 3, 2, 0, 'yes', 'yes', 'no', 'no', 'no', 'yes', 'yes', 'no', 5, 3, 3, 1, 3, 2, 6, 7, 10, 10),\n",
       " (255, 256, 'GP', 'M', 17, 'U', 'LE3', 'T', 1, 1, 'health', 'other', 'course', 'mother', 2, 1, 1, 'no', 'yes', 'no', 'yes', 'yes', 'yes', 'yes', 'no', 4, 4, 4, 1, 2, 5, 2, 7, 9, 8),\n",
       " (332, 333, 'GP', 'F', 18, 'U', 'GT3', 'T', 3, 3, 'services', 'services', 'home', 'mother', 1, 2, 0, 'no', 'no', 'no', 'yes', 'yes', 'yes', 'yes', 'no', 5, 3, 4, 1, 1, 4, 0, 7, 0, 0),\n",
       " (337, 338, 'GP', 'F', 17, 'U', 'GT3', 'T', 3, 2, 'other', 'other', 'home', 'mother', 1, 2, 0, 'no', 'yes', 'yes', 'no', 'yes', 'yes', 'yes', 'yes', 4, 3, 2, 2, 3, 2, 0, 7, 8, 0),\n",
       " (367, 368, 'MS', 'F', 17, 'R', 'GT3', 'T', 1, 1, 'other', 'services', 'reputation', 'mother', 3, 1, 1, 'no', 'yes', 'yes', 'no', 'yes', 'yes', 'yes', 'yes', 5, 2, 1, 1, 2, 1, 0, 7, 6, 0),\n",
       " (370, 371, 'MS', 'F', 19, 'U', 'LE3', 'T', 3, 2, 'services', 'services', 'home', 'other', 2, 2, 2, 'no', 'no', 'no', 'yes', 'yes', 'yes', 'no', 'yes', 3, 2, 2, 1, 1, 3, 4, 7, 7, 9),\n",
       " (381, 382, 'MS', 'M', 18, 'R', 'GT3', 'T', 2, 1, 'other', 'other', 'other', 'mother', 2, 1, 0, 'no', 'no', 'no', 'yes', 'no', 'yes', 'yes', 'yes', 4, 4, 3, 1, 3, 5, 5, 7, 6, 7),\n",
       " (387, 388, 'MS', 'F', 19, 'R', 'GT3', 'T', 2, 3, 'services', 'other', 'course', 'mother', 1, 3, 1, 'no', 'no', 'no', 'yes', 'no', 'yes', 'yes', 'no', 5, 4, 2, 1, 2, 5, 0, 7, 5, 0),\n",
       " (388, 389, 'MS', 'F', 18, 'U', 'LE3', 'T', 3, 1, 'teacher', 'services', 'course', 'mother', 1, 2, 0, 'no', 'yes', 'yes', 'no', 'yes', 'yes', 'yes', 'no', 4, 3, 4, 1, 1, 1, 0, 7, 9, 8),\n",
       " (4, 5, 'GP', 'F', 16, 'U', 'GT3', 'T', 3, 3, 'other', 'other', 'home', 'father', 1, 2, 0, 'no', 'yes', 'yes', 'no', 'yes', 'yes', 'no', 'no', 4, 3, 2, 1, 2, 5, 4, 6, 10, 10),\n",
       " (7, 8, 'GP', 'F', 17, 'U', 'GT3', 'A', 4, 4, 'other', 'teacher', 'home', 'mother', 2, 2, 0, 'yes', 'yes', 'no', 'no', 'yes', 'yes', 'no', 'no', 4, 1, 4, 1, 1, 1, 6, 6, 5, 6),\n",
       " (18, 19, 'GP', 'M', 17, 'U', 'GT3', 'T', 3, 2, 'services', 'services', 'course', 'mother', 1, 1, 3, 'no', 'yes', 'no', 'yes', 'yes', 'yes', 'yes', 'no', 5, 5, 5, 2, 4, 5, 16, 6, 5, 5),\n",
       " (25, 26, 'GP', 'F', 16, 'U', 'GT3', 'T', 2, 2, 'services', 'services', 'home', 'mother', 1, 1, 2, 'no', 'yes', 'yes', 'no', 'no', 'yes', 'yes', 'no', 1, 2, 2, 1, 3, 5, 14, 6, 9, 8),\n",
       " (146, 147, 'GP', 'F', 15, 'U', 'GT3', 'T', 3, 2, 'health', 'services', 'home', 'father', 1, 2, 3, 'no', 'yes', 'no', 'no', 'yes', 'yes', 'yes', 'no', 3, 3, 2, 1, 1, 3, 0, 6, 7, 0),\n",
       " (150, 151, 'GP', 'M', 18, 'U', 'LE3', 'T', 1, 1, 'other', 'other', 'course', 'mother', 1, 1, 3, 'no', 'no', 'no', 'no', 'yes', 'no', 'yes', 'yes', 2, 3, 5, 2, 5, 4, 0, 6, 5, 0),\n",
       " (168, 169, 'GP', 'F', 16, 'U', 'GT3', 'T', 2, 2, 'other', 'other', 'home', 'mother', 1, 2, 0, 'no', 'yes', 'yes', 'no', 'no', 'yes', 'yes', 'no', 5, 1, 5, 1, 1, 4, 0, 6, 7, 0),\n",
       " (170, 171, 'GP', 'M', 16, 'U', 'GT3', 'T', 3, 4, 'other', 'other', 'course', 'father', 3, 1, 2, 'no', 'yes', 'no', 'yes', 'no', 'yes', 'yes', 'no', 3, 4, 5, 2, 4, 2, 0, 6, 5, 0),\n",
       " (177, 178, 'GP', 'M', 17, 'U', 'GT3', 'T', 3, 3, 'other', 'other', 'reputation', 'father', 1, 2, 0, 'no', 'no', 'no', 'yes', 'no', 'yes', 'yes', 'no', 4, 3, 4, 1, 4, 4, 4, 6, 5, 6),\n",
       " (213, 214, 'GP', 'M', 18, 'U', 'GT3', 'T', 2, 2, 'services', 'other', 'home', 'mother', 1, 2, 1, 'no', 'yes', 'yes', 'yes', 'yes', 'yes', 'yes', 'no', 4, 4, 4, 2, 4, 5, 15, 6, 7, 8),\n",
       " (216, 217, 'GP', 'F', 17, 'U', 'GT3', 'T', 4, 3, 'other', 'other', 'reputation', 'mother', 1, 2, 2, 'no', 'no', 'yes', 'no', 'yes', 'yes', 'yes', 'yes', 3, 4, 5, 2, 4, 1, 22, 6, 6, 4),\n",
       " (217, 218, 'GP', 'M', 18, 'U', 'LE3', 'T', 3, 3, 'services', 'health', 'home', 'father', 1, 2, 1, 'no', 'yes', 'yes', 'no', 'yes', 'yes', 'yes', 'no', 3, 2, 4, 2, 4, 4, 13, 6, 6, 8),\n",
       " (220, 221, 'GP', 'F', 17, 'R', 'GT3', 'T', 2, 1, 'at_home', 'services', 'reputation', 'mother', 2, 2, 0, 'no', 'yes', 'no', 'yes', 'yes', 'yes', 'yes', 'no', 4, 2, 5, 1, 2, 5, 2, 6, 6, 6),\n",
       " (221, 222, 'GP', 'F', 17, 'U', 'GT3', 'T', 1, 1, 'at_home', 'other', 'reputation', 'mother', 1, 3, 1, 'no', 'yes', 'no', 'yes', 'yes', 'yes', 'no', 'yes', 4, 3, 4, 1, 1, 5, 0, 6, 5, 0),\n",
       " (242, 243, 'GP', 'M', 16, 'U', 'LE3', 'T', 4, 3, 'teacher', 'other', 'course', 'mother', 1, 1, 0, 'no', 'no', 'no', 'yes', 'no', 'yes', 'yes', 'no', 5, 4, 5, 1, 1, 3, 0, 6, 0, 0),\n",
       " (247, 248, 'GP', 'M', 22, 'U', 'GT3', 'T', 3, 1, 'services', 'services', 'other', 'mother', 1, 1, 3, 'no', 'no', 'no', 'no', 'no', 'no', 'yes', 'yes', 5, 4, 5, 5, 5, 1, 16, 6, 8, 8),\n",
       " (250, 251, 'GP', 'M', 18, 'U', 'GT3', 'T', 3, 2, 'services', 'other', 'course', 'mother', 2, 1, 1, 'no', 'no', 'no', 'no', 'yes', 'no', 'yes', 'no', 4, 4, 5, 2, 4, 5, 0, 6, 8, 8),\n",
       " (252, 253, 'GP', 'M', 18, 'U', 'GT3', 'T', 2, 1, 'services', 'services', 'other', 'mother', 1, 1, 1, 'no', 'no', 'no', 'no', 'no', 'no', 'yes', 'no', 3, 2, 5, 2, 5, 5, 4, 6, 9, 8),\n",
       " (269, 270, 'GP', 'F', 18, 'R', 'GT3', 'T', 2, 1, 'other', 'other', 'reputation', 'mother', 2, 2, 0, 'no', 'yes', 'no', 'no', 'yes', 'no', 'yes', 'yes', 4, 3, 5, 1, 2, 3, 0, 6, 0, 0),\n",
       " (373, 374, 'MS', 'F', 17, 'R', 'GT3', 'T', 1, 2, 'other', 'other', 'course', 'mother', 1, 1, 0, 'no', 'no', 'no', 'yes', 'yes', 'yes', 'yes', 'no', 3, 5, 5, 1, 3, 1, 14, 6, 5, 5),\n",
       " (383, 384, 'MS', 'M', 19, 'R', 'GT3', 'T', 1, 1, 'other', 'services', 'other', 'mother', 2, 1, 1, 'no', 'no', 'no', 'no', 'yes', 'yes', 'no', 'no', 4, 3, 2, 1, 3, 5, 0, 6, 5, 0),\n",
       " (384, 385, 'MS', 'M', 18, 'R', 'GT3', 'T', 4, 2, 'other', 'other', 'home', 'father', 2, 1, 1, 'no', 'no', 'yes', 'no', 'yes', 'yes', 'no', 'no', 5, 4, 3, 4, 3, 3, 14, 6, 5, 5),\n",
       " (386, 387, 'MS', 'F', 18, 'R', 'GT3', 'T', 4, 4, 'teacher', 'at_home', 'reputation', 'mother', 3, 1, 0, 'no', 'yes', 'yes', 'yes', 'yes', 'yes', 'yes', 'yes', 4, 4, 3, 2, 2, 5, 7, 6, 5, 6),\n",
       " (389, 390, 'MS', 'F', 18, 'U', 'GT3', 'T', 1, 1, 'other', 'other', 'course', 'mother', 2, 2, 1, 'no', 'no', 'no', 'yes', 'yes', 'yes', 'no', 'no', 1, 1, 1, 1, 1, 5, 0, 6, 5, 0),\n",
       " (0, 1, 'GP', 'F', 18, 'U', 'GT3', 'A', 4, 4, 'at_home', 'teacher', 'course', 'mother', 2, 2, 0, 'yes', 'no', 'no', 'no', 'yes', 'yes', 'no', 'no', 4, 3, 4, 1, 1, 3, 6, 5, 6, 6),\n",
       " (1, 2, 'GP', 'F', 17, 'U', 'GT3', 'T', 1, 1, 'at_home', 'other', 'course', 'father', 1, 2, 0, 'no', 'yes', 'no', 'no', 'no', 'yes', 'yes', 'no', 5, 3, 3, 1, 1, 3, 4, 5, 5, 6),\n",
       " (79, 80, 'GP', 'F', 16, 'U', 'GT3', 'T', 3, 4, 'at_home', 'other', 'course', 'mother', 1, 2, 0, 'no', 'yes', 'no', 'no', 'yes', 'yes', 'yes', 'no', 2, 4, 3, 1, 2, 3, 12, 5, 5, 5),\n",
       " (144, 145, 'GP', 'M', 17, 'U', 'GT3', 'T', 2, 1, 'other', 'other', 'home', 'mother', 1, 1, 3, 'no', 'yes', 'no', 'no', 'yes', 'yes', 'yes', 'no', 5, 4, 5, 1, 2, 5, 0, 5, 0, 0),\n",
       " (153, 154, 'GP', 'M', 19, 'U', 'GT3', 'T', 3, 2, 'services', 'at_home', 'home', 'mother', 1, 1, 3, 'no', 'yes', 'no', 'no', 'yes', 'no', 'yes', 'yes', 4, 5, 4, 1, 1, 4, 0, 5, 0, 0),\n",
       " (161, 162, 'GP', 'M', 15, 'R', 'GT3', 'T', 3, 2, 'other', 'other', 'course', 'mother', 2, 2, 2, 'yes', 'yes', 'no', 'no', 'yes', 'yes', 'yes', 'yes', 4, 4, 4, 1, 4, 3, 6, 5, 9, 7),\n",
       " (164, 165, 'GP', 'M', 17, 'R', 'LE3', 'T', 1, 1, 'other', 'services', 'course', 'mother', 4, 2, 3, 'no', 'no', 'no', 'yes', 'yes', 'no', 'no', 'yes', 5, 3, 5, 1, 5, 5, 0, 5, 8, 7),\n",
       " (137, 138, 'GP', 'F', 16, 'U', 'GT3', 'A', 3, 3, 'other', 'other', 'course', 'other', 2, 1, 2, 'no', 'yes', 'no', 'yes', 'no', 'yes', 'yes', 'yes', 4, 3, 2, 1, 1, 5, 0, 4, 0, 0),\n",
       " (248, 249, 'GP', 'M', 18, 'R', 'LE3', 'T', 3, 3, 'other', 'services', 'course', 'mother', 1, 2, 1, 'no', 'yes', 'no', 'no', 'yes', 'yes', 'yes', 'yes', 4, 3, 3, 1, 3, 5, 8, 3, 5, 5)]"
      ]
     },
     "execution_count": 6,
     "metadata": {},
     "output_type": "execute_result"
    }
   ],
   "source": [
    "ans2"
   ]
  },
  {
   "cell_type": "markdown",
   "metadata": {},
   "source": [
    "# Question 3 \n",
    "Select students whose mothers work as teachers and fathers who work in services."
   ]
  },
  {
   "cell_type": "code",
   "execution_count": 7,
   "metadata": {},
   "outputs": [],
   "source": [
    "ans3 = engine.execute(\"\"\"\n",
    "SELECT * FROM Students\n",
    "WHERE Mjob like 'teacher' \n",
    "AND Fjob like 'services'\n",
    "\"\"\").fetchall()"
   ]
  },
  {
   "cell_type": "code",
   "execution_count": 8,
   "metadata": {},
   "outputs": [
    {
     "data": {
      "text/plain": [
       "[(36, 37, 'GP', 'M', 15, 'U', 'LE3', 'T', 4, 3, 'teacher', 'services', 'home', 'mother', 1, 3, 0, 'no', 'yes', 'no', 'yes', 'yes', 'yes', 'yes', 'no', 5, 4, 3, 1, 1, 4, 2, 15, 16, 18),\n",
       " (65, 66, 'GP', 'F', 16, 'U', 'LE3', 'T', 4, 3, 'teacher', 'services', 'course', 'mother', 3, 2, 0, 'no', 'yes', 'no', 'yes', 'yes', 'yes', 'yes', 'no', 5, 4, 3, 1, 2, 1, 2, 16, 15, 15),\n",
       " (93, 94, 'GP', 'F', 16, 'U', 'GT3', 'T', 4, 2, 'teacher', 'services', 'home', 'mother', 2, 2, 0, 'no', 'yes', 'yes', 'yes', 'yes', 'yes', 'yes', 'no', 5, 3, 3, 1, 1, 1, 0, 11, 10, 10),\n",
       " (140, 141, 'GP', 'M', 15, 'U', 'GT3', 'T', 4, 3, 'teacher', 'services', 'course', 'father', 2, 4, 0, 'yes', 'yes', 'no', 'no', 'yes', 'yes', 'yes', 'no', 2, 2, 2, 1, 1, 3, 0, 7, 9, 0),\n",
       " (142, 143, 'GP', 'F', 15, 'U', 'GT3', 'T', 4, 4, 'teacher', 'services', 'course', 'mother', 1, 3, 0, 'no', 'yes', 'yes', 'yes', 'yes', 'yes', 'yes', 'no', 4, 2, 2, 1, 1, 5, 2, 9, 11, 11),\n",
       " (178, 179, 'GP', 'M', 16, 'R', 'GT3', 'T', 4, 2, 'teacher', 'services', 'other', 'mother', 1, 1, 0, 'no', 'yes', 'no', 'yes', 'yes', 'yes', 'yes', 'yes', 4, 3, 3, 3, 4, 3, 10, 10, 8, 9),\n",
       " (224, 225, 'GP', 'F', 16, 'U', 'GT3', 'T', 4, 4, 'teacher', 'services', 'home', 'mother', 1, 3, 0, 'no', 'yes', 'no', 'yes', 'no', 'yes', 'yes', 'no', 5, 3, 2, 1, 1, 5, 0, 13, 13, 14),\n",
       " (256, 257, 'GP', 'F', 17, 'U', 'LE3', 'T', 4, 2, 'teacher', 'services', 'reputation', 'mother', 1, 4, 0, 'no', 'yes', 'yes', 'yes', 'yes', 'yes', 'yes', 'no', 4, 2, 3, 1, 1, 4, 6, 14, 12, 13),\n",
       " (277, 278, 'GP', 'M', 18, 'U', 'GT3', 'T', 4, 4, 'teacher', 'services', 'home', 'mother', 2, 1, 0, 'no', 'no', 'yes', 'yes', 'yes', 'yes', 'yes', 'no', 3, 2, 4, 1, 4, 3, 22, 9, 9, 9),\n",
       " (279, 280, 'GP', 'M', 18, 'U', 'LE3', 'T', 4, 3, 'teacher', 'services', 'course', 'mother', 2, 1, 0, 'no', 'no', 'yes', 'yes', 'yes', 'yes', 'yes', 'no', 4, 2, 3, 1, 2, 1, 8, 10, 11, 10),\n",
       " (281, 282, 'GP', 'M', 17, 'U', 'LE3', 'A', 3, 2, 'teacher', 'services', 'home', 'mother', 1, 1, 1, 'no', 'no', 'no', 'no', 'yes', 'yes', 'yes', 'no', 4, 4, 4, 3, 4, 3, 19, 11, 9, 10),\n",
       " (307, 308, 'GP', 'M', 19, 'U', 'GT3', 'T', 4, 4, 'teacher', 'services', 'reputation', 'other', 2, 1, 1, 'no', 'yes', 'yes', 'no', 'yes', 'yes', 'yes', 'yes', 4, 3, 4, 1, 1, 4, 38, 8, 9, 8),\n",
       " (328, 329, 'GP', 'F', 17, 'U', 'GT3', 'T', 4, 4, 'teacher', 'services', 'course', 'mother', 1, 3, 0, 'no', 'yes', 'yes', 'yes', 'yes', 'yes', 'yes', 'no', 5, 4, 4, 1, 3, 4, 7, 10, 9, 9),\n",
       " (341, 342, 'GP', 'M', 18, 'U', 'GT3', 'T', 4, 4, 'teacher', 'services', 'home', 'father', 1, 2, 1, 'no', 'yes', 'no', 'yes', 'yes', 'yes', 'yes', 'no', 4, 3, 3, 2, 2, 2, 0, 10, 10, 0),\n",
       " (346, 347, 'GP', 'M', 18, 'R', 'GT3', 'T', 4, 3, 'teacher', 'services', 'course', 'mother', 1, 3, 0, 'no', 'no', 'no', 'no', 'yes', 'yes', 'yes', 'yes', 5, 3, 2, 1, 2, 4, 9, 16, 15, 16),\n",
       " (356, 357, 'MS', 'F', 17, 'R', 'GT3', 'T', 4, 4, 'teacher', 'services', 'other', 'father', 2, 2, 0, 'no', 'yes', 'yes', 'yes', 'yes', 'yes', 'yes', 'no', 4, 3, 3, 1, 2, 5, 4, 12, 13, 13),\n",
       " (366, 367, 'MS', 'M', 18, 'U', 'LE3', 'T', 4, 4, 'teacher', 'services', 'other', 'mother', 2, 3, 0, 'no', 'no', 'yes', 'no', 'yes', 'yes', 'yes', 'yes', 4, 2, 2, 2, 2, 5, 0, 13, 13, 13),\n",
       " (377, 378, 'MS', 'F', 18, 'R', 'LE3', 'T', 4, 4, 'teacher', 'services', 'course', 'mother', 1, 2, 0, 'no', 'no', 'yes', 'yes', 'yes', 'yes', 'yes', 'no', 5, 4, 3, 3, 4, 2, 4, 8, 9, 10),\n",
       " (388, 389, 'MS', 'F', 18, 'U', 'LE3', 'T', 3, 1, 'teacher', 'services', 'course', 'mother', 1, 2, 0, 'no', 'yes', 'yes', 'no', 'yes', 'yes', 'yes', 'no', 4, 3, 4, 1, 1, 1, 0, 7, 9, 8)]"
      ]
     },
     "execution_count": 8,
     "metadata": {},
     "output_type": "execute_result"
    }
   ],
   "source": [
    "ans3"
   ]
  },
  {
   "cell_type": "markdown",
   "metadata": {},
   "source": [
    "# Question 4\n",
    "Select all the students and create a count variable for students who are in extracurricular activities and have internet."
   ]
  },
  {
   "cell_type": "code",
   "execution_count": 9,
   "metadata": {},
   "outputs": [],
   "source": [
    "ans4 = engine.execute(\"\"\"\n",
    "SELECT * FROM Students\n",
    "WHERE activities like 'yes'\n",
    "AND internet like 'yes'\n",
    "\"\"\").fetchall()\n",
    "count4 = len(ans4)"
   ]
  },
  {
   "cell_type": "code",
   "execution_count": 10,
   "metadata": {},
   "outputs": [
    {
     "data": {
      "text/plain": [
       "[(3, 4, 'GP', 'F', 15, 'U', 'GT3', 'T', 4, 2, 'health', 'services', 'home', 'mother', 1, 3, 0, 'no', 'yes', 'yes', 'yes', 'yes', 'yes', 'yes', 'yes', 3, 2, 2, 1, 1, 5, 2, 15, 14, 15),\n",
       " (5, 6, 'GP', 'M', 16, 'U', 'LE3', 'T', 4, 3, 'services', 'other', 'reputation', 'mother', 1, 2, 0, 'no', 'yes', 'yes', 'yes', 'yes', 'yes', 'yes', 'no', 5, 4, 2, 1, 2, 5, 10, 15, 15, 15),\n",
       " (9, 10, 'GP', 'M', 15, 'U', 'GT3', 'T', 3, 4, 'other', 'other', 'home', 'mother', 1, 2, 0, 'no', 'yes', 'yes', 'yes', 'yes', 'yes', 'yes', 'no', 5, 5, 1, 1, 1, 5, 0, 14, 15, 15),\n",
       " (11, 12, 'GP', 'F', 15, 'U', 'GT3', 'T', 2, 1, 'services', 'other', 'reputation', 'father', 3, 3, 0, 'no', 'yes', 'no', 'yes', 'yes', 'yes', 'yes', 'no', 5, 2, 2, 1, 1, 4, 4, 10, 12, 12),\n",
       " (12, 13, 'GP', 'M', 15, 'U', 'LE3', 'T', 4, 4, 'health', 'services', 'course', 'father', 1, 1, 0, 'no', 'yes', 'yes', 'yes', 'yes', 'yes', 'yes', 'no', 4, 3, 3, 1, 3, 5, 2, 14, 14, 14),\n",
       " (16, 17, 'GP', 'F', 16, 'U', 'GT3', 'T', 4, 4, 'services', 'services', 'reputation', 'mother', 1, 3, 0, 'no', 'yes', 'yes', 'yes', 'yes', 'yes', 'yes', 'no', 3, 2, 3, 1, 2, 2, 6, 13, 14, 14),\n",
       " (18, 19, 'GP', 'M', 17, 'U', 'GT3', 'T', 3, 2, 'services', 'services', 'course', 'mother', 1, 1, 3, 'no', 'yes', 'no', 'yes', 'yes', 'yes', 'yes', 'no', 5, 5, 5, 2, 4, 5, 16, 6, 5, 5),\n",
       " (19, 20, 'GP', 'M', 16, 'U', 'LE3', 'T', 4, 3, 'health', 'other', 'home', 'father', 1, 1, 0, 'no', 'no', 'yes', 'yes', 'yes', 'yes', 'yes', 'no', 3, 1, 3, 1, 3, 5, 4, 8, 10, 10),\n",
       " (22, 23, 'GP', 'M', 16, 'U', 'LE3', 'T', 4, 2, 'teacher', 'other', 'course', 'mother', 1, 2, 0, 'no', 'no', 'no', 'yes', 'yes', 'yes', 'yes', 'no', 4, 5, 1, 1, 3, 5, 2, 15, 15, 16),\n",
       " (23, 24, 'GP', 'M', 16, 'U', 'LE3', 'T', 2, 2, 'other', 'other', 'reputation', 'mother', 2, 2, 0, 'no', 'yes', 'no', 'yes', 'yes', 'yes', 'yes', 'no', 5, 4, 4, 2, 4, 5, 0, 13, 13, 12),\n",
       " (24, 25, 'GP', 'F', 15, 'R', 'GT3', 'T', 2, 4, 'services', 'health', 'course', 'mother', 1, 3, 0, 'yes', 'yes', 'yes', 'yes', 'yes', 'yes', 'yes', 'no', 4, 3, 2, 1, 1, 5, 2, 10, 9, 8),\n",
       " (28, 29, 'GP', 'M', 16, 'U', 'LE3', 'A', 3, 4, 'services', 'other', 'home', 'mother', 1, 2, 0, 'yes', 'yes', 'no', 'yes', 'yes', 'yes', 'yes', 'no', 5, 3, 3, 1, 1, 5, 4, 11, 11, 11),\n",
       " (29, 30, 'GP', 'M', 16, 'U', 'GT3', 'T', 4, 4, 'teacher', 'teacher', 'home', 'mother', 1, 2, 0, 'no', 'yes', 'yes', 'yes', 'yes', 'yes', 'yes', 'yes', 4, 4, 5, 5, 5, 5, 16, 10, 12, 11),\n",
       " (31, 32, 'GP', 'M', 15, 'U', 'GT3', 'T', 4, 4, 'services', 'services', 'reputation', 'mother', 2, 2, 0, 'no', 'yes', 'no', 'yes', 'yes', 'yes', 'yes', 'no', 4, 3, 1, 1, 1, 5, 0, 17, 16, 17),\n",
       " (32, 33, 'GP', 'M', 15, 'R', 'GT3', 'T', 4, 3, 'teacher', 'at_home', 'course', 'mother', 1, 2, 0, 'no', 'yes', 'no', 'yes', 'yes', 'yes', 'yes', 'yes', 4, 5, 2, 1, 1, 5, 0, 17, 16, 16),\n",
       " (33, 34, 'GP', 'M', 15, 'U', 'LE3', 'T', 3, 3, 'other', 'other', 'course', 'mother', 1, 2, 0, 'no', 'no', 'no', 'yes', 'no', 'yes', 'yes', 'no', 5, 3, 2, 1, 1, 2, 0, 8, 10, 12),\n",
       " (36, 37, 'GP', 'M', 15, 'U', 'LE3', 'T', 4, 3, 'teacher', 'services', 'home', 'mother', 1, 3, 0, 'no', 'yes', 'no', 'yes', 'yes', 'yes', 'yes', 'no', 5, 4, 3, 1, 1, 4, 2, 15, 16, 18),\n",
       " (37, 38, 'GP', 'M', 16, 'R', 'GT3', 'A', 4, 4, 'other', 'teacher', 'reputation', 'mother', 2, 3, 0, 'no', 'yes', 'no', 'yes', 'yes', 'yes', 'yes', 'yes', 2, 4, 3, 1, 1, 5, 7, 15, 16, 15),\n",
       " (38, 39, 'GP', 'F', 15, 'R', 'GT3', 'T', 3, 4, 'services', 'health', 'course', 'mother', 1, 3, 0, 'yes', 'yes', 'yes', 'yes', 'yes', 'yes', 'yes', 'no', 4, 3, 2, 1, 1, 5, 2, 12, 12, 11),\n",
       " (40, 41, 'GP', 'F', 16, 'U', 'LE3', 'T', 2, 2, 'other', 'other', 'home', 'mother', 2, 2, 1, 'no', 'yes', 'no', 'yes', 'no', 'yes', 'yes', 'yes', 3, 3, 3, 1, 2, 3, 25, 7, 10, 11),\n",
       " (42, 43, 'GP', 'M', 15, 'U', 'GT3', 'T', 4, 4, 'services', 'teacher', 'course', 'father', 1, 2, 0, 'no', 'yes', 'no', 'yes', 'yes', 'yes', 'yes', 'no', 4, 3, 3, 1, 1, 5, 2, 19, 18, 18),\n",
       " (44, 45, 'GP', 'F', 16, 'U', 'LE3', 'T', 2, 2, 'other', 'at_home', 'course', 'father', 2, 2, 1, 'yes', 'no', 'no', 'yes', 'yes', 'yes', 'yes', 'no', 4, 3, 3, 2, 2, 5, 14, 10, 10, 9),\n",
       " (45, 46, 'GP', 'F', 15, 'U', 'LE3', 'A', 4, 3, 'other', 'other', 'course', 'mother', 1, 2, 0, 'yes', 'yes', 'yes', 'yes', 'yes', 'yes', 'yes', 'yes', 5, 2, 2, 1, 1, 5, 8, 8, 8, 6),\n",
       " (47, 48, 'GP', 'M', 16, 'U', 'GT3', 'T', 4, 3, 'health', 'services', 'reputation', 'mother', 1, 4, 0, 'no', 'no', 'no', 'yes', 'yes', 'yes', 'yes', 'no', 4, 2, 2, 1, 1, 2, 4, 19, 19, 20),\n",
       " (49, 50, 'GP', 'F', 15, 'U', 'GT3', 'T', 4, 4, 'services', 'teacher', 'other', 'father', 1, 2, 1, 'yes', 'yes', 'no', 'yes', 'no', 'yes', 'yes', 'no', 4, 4, 4, 1, 1, 3, 2, 7, 7, 7),\n",
       " (55, 56, 'GP', 'F', 16, 'U', 'GT3', 'A', 2, 1, 'other', 'other', 'other', 'mother', 1, 2, 0, 'no', 'no', 'yes', 'yes', 'yes', 'yes', 'yes', 'yes', 5, 3, 4, 1, 1, 2, 8, 8, 9, 10),\n",
       " (56, 57, 'GP', 'F', 15, 'U', 'GT3', 'A', 4, 3, 'services', 'services', 'reputation', 'mother', 1, 2, 0, 'no', 'yes', 'yes', 'yes', 'yes', 'yes', 'yes', 'no', 4, 3, 2, 1, 1, 1, 0, 14, 15, 15),\n",
       " (58, 59, 'GP', 'M', 15, 'U', 'LE3', 'T', 1, 2, 'other', 'at_home', 'home', 'father', 1, 2, 0, 'yes', 'yes', 'no', 'yes', 'yes', 'yes', 'yes', 'no', 4, 3, 2, 1, 1, 5, 2, 9, 10, 9),\n",
       " (61, 62, 'GP', 'F', 16, 'U', 'GT3', 'T', 1, 1, 'services', 'services', 'course', 'father', 4, 1, 0, 'yes', 'yes', 'no', 'yes', 'no', 'yes', 'yes', 'yes', 5, 5, 5, 5, 5, 5, 6, 10, 8, 11),\n",
       " (62, 63, 'GP', 'F', 16, 'U', 'LE3', 'T', 1, 2, 'other', 'services', 'reputation', 'father', 1, 2, 0, 'yes', 'no', 'no', 'yes', 'yes', 'yes', 'yes', 'no', 4, 4, 3, 1, 1, 1, 4, 8, 10, 9),\n",
       " (63, 64, 'GP', 'F', 16, 'U', 'GT3', 'T', 4, 3, 'teacher', 'health', 'home', 'mother', 1, 3, 0, 'yes', 'yes', 'yes', 'yes', 'yes', 'yes', 'yes', 'no', 3, 4, 4, 2, 4, 4, 2, 10, 9, 9),\n",
       " (64, 65, 'GP', 'F', 15, 'U', 'LE3', 'T', 4, 3, 'services', 'services', 'reputation', 'father', 1, 2, 0, 'yes', 'no', 'no', 'yes', 'yes', 'yes', 'yes', 'yes', 4, 4, 4, 2, 4, 2, 0, 10, 10, 10),\n",
       " (65, 66, 'GP', 'F', 16, 'U', 'LE3', 'T', 4, 3, 'teacher', 'services', 'course', 'mother', 3, 2, 0, 'no', 'yes', 'no', 'yes', 'yes', 'yes', 'yes', 'no', 5, 4, 3, 1, 2, 1, 2, 16, 15, 15),\n",
       " (66, 67, 'GP', 'M', 15, 'U', 'GT3', 'A', 4, 4, 'other', 'services', 'reputation', 'mother', 1, 4, 0, 'no', 'yes', 'no', 'yes', 'no', 'yes', 'yes', 'yes', 1, 3, 3, 5, 5, 3, 4, 13, 13, 12),\n",
       " (74, 75, 'GP', 'F', 16, 'U', 'GT3', 'T', 3, 3, 'other', 'services', 'home', 'mother', 1, 2, 0, 'yes', 'yes', 'yes', 'yes', 'yes', 'yes', 'yes', 'no', 4, 3, 3, 2, 4, 5, 54, 11, 12, 11),\n",
       " (75, 76, 'GP', 'M', 15, 'U', 'GT3', 'T', 4, 3, 'teacher', 'other', 'home', 'mother', 1, 2, 0, 'no', 'yes', 'yes', 'yes', 'yes', 'yes', 'yes', 'no', 4, 3, 3, 2, 3, 5, 6, 9, 9, 10),\n",
       " (76, 77, 'GP', 'M', 15, 'U', 'GT3', 'T', 4, 0, 'teacher', 'other', 'course', 'mother', 2, 4, 0, 'no', 'no', 'no', 'yes', 'yes', 'yes', 'yes', 'no', 3, 4, 3, 1, 1, 1, 8, 11, 11, 10),\n",
       " (78, 79, 'GP', 'M', 17, 'U', 'GT3', 'T', 2, 1, 'other', 'other', 'home', 'mother', 2, 1, 3, 'yes', 'yes', 'no', 'yes', 'yes', 'no', 'yes', 'no', 4, 5, 1, 1, 1, 3, 2, 8, 8, 10),\n",
       " (80, 81, 'GP', 'M', 15, 'U', 'GT3', 'T', 2, 3, 'other', 'services', 'course', 'father', 1, 1, 0, 'yes', 'yes', 'yes', 'yes', 'no', 'yes', 'yes', 'yes', 3, 2, 2, 1, 3, 3, 2, 10, 12, 12),\n",
       " (83, 84, 'GP', 'M', 15, 'U', 'LE3', 'T', 2, 2, 'services', 'services', 'home', 'mother', 2, 2, 0, 'no', 'no', 'yes', 'yes', 'yes', 'yes', 'yes', 'no', 5, 3, 3, 1, 3, 4, 4, 15, 15, 15),\n",
       " (84, 85, 'GP', 'F', 15, 'U', 'GT3', 'T', 1, 1, 'other', 'other', 'home', 'father', 1, 2, 0, 'no', 'yes', 'no', 'yes', 'no', 'yes', 'yes', 'no', 4, 3, 2, 2, 3, 4, 2, 9, 10, 10),\n",
       " (87, 88, 'GP', 'F', 15, 'U', 'GT3', 'T', 4, 2, 'other', 'other', 'reputation', 'mother', 1, 3, 0, 'no', 'yes', 'no', 'yes', 'yes', 'yes', 'yes', 'no', 5, 3, 3, 1, 3, 1, 4, 13, 14, 14),\n",
       " (88, 89, 'GP', 'M', 16, 'U', 'GT3', 'T', 2, 2, 'services', 'other', 'reputation', 'father', 2, 2, 1, 'no', 'no', 'yes', 'yes', 'no', 'yes', 'yes', 'no', 4, 4, 2, 1, 1, 3, 12, 11, 10, 10),\n",
       " (91, 92, 'GP', 'F', 15, 'U', 'GT3', 'T', 4, 3, 'services', 'other', 'reputation', 'mother', 1, 1, 0, 'no', 'no', 'yes', 'yes', 'yes', 'yes', 'yes', 'no', 4, 5, 5, 1, 3, 1, 4, 16, 17, 18),\n",
       " (93, 94, 'GP', 'F', 16, 'U', 'GT3', 'T', 4, 2, 'teacher', 'services', 'home', 'mother', 2, 2, 0, 'no', 'yes', 'yes', 'yes', 'yes', 'yes', 'yes', 'no', 5, 3, 3, 1, 1, 1, 0, 11, 10, 10),\n",
       " (94, 95, 'GP', 'M', 15, 'U', 'LE3', 'T', 2, 2, 'services', 'health', 'reputation', 'mother', 1, 4, 0, 'no', 'yes', 'no', 'yes', 'yes', 'yes', 'yes', 'no', 4, 3, 4, 1, 1, 4, 6, 11, 13, 14),\n",
       " (95, 96, 'GP', 'F', 15, 'R', 'GT3', 'T', 1, 1, 'at_home', 'other', 'home', 'mother', 2, 4, 1, 'yes', 'yes', 'yes', 'yes', 'yes', 'yes', 'yes', 'no', 3, 1, 2, 1, 1, 1, 2, 7, 10, 10),\n",
       " (96, 97, 'GP', 'M', 16, 'R', 'GT3', 'T', 4, 3, 'services', 'other', 'reputation', 'mother', 2, 1, 0, 'yes', 'yes', 'no', 'yes', 'no', 'yes', 'yes', 'no', 3, 3, 3, 1, 1, 4, 2, 11, 15, 15),\n",
       " (98, 99, 'GP', 'F', 16, 'U', 'GT3', 'T', 4, 4, 'other', 'other', 'reputation', 'mother', 1, 1, 0, 'no', 'no', 'no', 'yes', 'no', 'yes', 'yes', 'no', 5, 3, 4, 1, 2, 1, 6, 11, 14, 14),\n",
       " (100, 101, 'GP', 'M', 16, 'U', 'GT3', 'T', 4, 4, 'services', 'services', 'other', 'mother', 1, 1, 0, 'yes', 'yes', 'yes', 'yes', 'yes', 'yes', 'yes', 'no', 4, 5, 5, 5, 5, 4, 14, 7, 7, 5),\n",
       " (101, 102, 'GP', 'M', 16, 'U', 'GT3', 'T', 4, 4, 'services', 'teacher', 'other', 'father', 1, 3, 0, 'no', 'yes', 'no', 'yes', 'yes', 'yes', 'yes', 'yes', 4, 4, 3, 1, 1, 4, 0, 16, 17, 17),\n",
       " (102, 103, 'GP', 'M', 15, 'U', 'GT3', 'T', 4, 4, 'services', 'other', 'course', 'mother', 1, 1, 0, 'no', 'yes', 'no', 'yes', 'no', 'yes', 'yes', 'no', 5, 3, 3, 1, 1, 5, 4, 10, 13, 14),\n",
       " (104, 105, 'GP', 'M', 15, 'U', 'GT3', 'A', 3, 4, 'services', 'other', 'course', 'mother', 1, 2, 0, 'no', 'yes', 'yes', 'yes', 'yes', 'yes', 'yes', 'no', 5, 4, 4, 1, 1, 1, 0, 16, 18, 18),\n",
       " (107, 108, 'GP', 'M', 16, 'U', 'GT3', 'T', 3, 3, 'services', 'other', 'home', 'father', 1, 3, 0, 'no', 'yes', 'no', 'yes', 'yes', 'yes', 'yes', 'no', 5, 3, 3, 1, 1, 5, 2, 16, 18, 18),\n",
       " (108, 109, 'GP', 'M', 15, 'R', 'GT3', 'T', 4, 4, 'other', 'other', 'home', 'father', 4, 4, 0, 'no', 'yes', 'yes', 'yes', 'yes', 'yes', 'yes', 'yes', 1, 3, 5, 3, 5, 1, 6, 10, 13, 13),\n",
       " (109, 110, 'GP', 'F', 16, 'U', 'LE3', 'T', 4, 4, 'health', 'health', 'other', 'mother', 1, 3, 0, 'no', 'yes', 'yes', 'yes', 'yes', 'yes', 'yes', 'yes', 5, 4, 5, 1, 1, 4, 4, 14, 15, 16),\n",
       " (110, 111, 'GP', 'M', 15, 'U', 'LE3', 'A', 4, 4, 'teacher', 'teacher', 'course', 'mother', 1, 1, 0, 'no', 'no', 'no', 'yes', 'yes', 'yes', 'yes', 'no', 5, 5, 3, 1, 1, 4, 6, 18, 19, 19),\n",
       " (111, 112, 'GP', 'F', 16, 'R', 'GT3', 'T', 3, 3, 'services', 'other', 'reputation', 'father', 1, 3, 1, 'yes', 'yes', 'no', 'yes', 'yes', 'yes', 'yes', 'no', 4, 1, 2, 1, 1, 2, 0, 7, 10, 10),\n",
       " (112, 113, 'GP', 'F', 16, 'U', 'GT3', 'T', 2, 2, 'at_home', 'other', 'home', 'mother', 1, 2, 1, 'yes', 'no', 'no', 'yes', 'yes', 'yes', 'yes', 'no', 3, 1, 2, 1, 1, 5, 6, 10, 13, 13),\n",
       " (114, 115, 'GP', 'M', 15, 'R', 'GT3', 'T', 2, 1, 'health', 'services', 'reputation', 'mother', 1, 2, 0, 'no', 'no', 'no', 'yes', 'yes', 'yes', 'yes', 'yes', 5, 4, 2, 1, 1, 5, 8, 9, 9, 9),\n",
       " (115, 116, 'GP', 'M', 16, 'U', 'GT3', 'T', 4, 4, 'teacher', 'teacher', 'course', 'father', 1, 2, 0, 'no', 'yes', 'no', 'yes', 'yes', 'yes', 'yes', 'no', 5, 4, 4, 1, 2, 5, 2, 15, 15, 16),\n",
       " (117, 118, 'GP', 'M', 16, 'U', 'GT3', 'T', 3, 3, 'other', 'services', 'home', 'father', 2, 1, 0, 'no', 'no', 'no', 'yes', 'yes', 'yes', 'yes', 'no', 5, 4, 2, 1, 1, 5, 0, 13, 14, 13),\n",
       " (118, 119, 'GP', 'M', 17, 'R', 'GT3', 'T', 1, 3, 'other', 'other', 'course', 'father', 3, 2, 1, 'no', 'yes', 'no', 'yes', 'yes', 'yes', 'yes', 'no', 5, 2, 4, 1, 4, 5, 20, 9, 7, 8),\n",
       " (121, 122, 'GP', 'M', 15, 'U', 'GT3', 'T', 2, 2, 'services', 'services', 'home', 'father', 1, 4, 0, 'no', 'yes', 'yes', 'yes', 'yes', 'yes', 'yes', 'no', 5, 5, 4, 1, 2, 5, 6, 16, 14, 15),\n",
       " (122, 123, 'GP', 'F', 16, 'U', 'LE3', 'T', 2, 4, 'other', 'health', 'course', 'father', 2, 2, 0, 'no', 'yes', 'yes', 'yes', 'yes', 'yes', 'yes', 'yes', 4, 2, 2, 1, 2, 5, 2, 13, 13, 13),\n",
       " (123, 124, 'GP', 'M', 16, 'U', 'GT3', 'T', 4, 4, 'health', 'other', 'course', 'mother', 1, 1, 0, 'no', 'yes', 'no', 'yes', 'yes', 'yes', 'yes', 'no', 3, 4, 4, 1, 4, 5, 18, 14, 11, 13),\n",
       " (126, 127, 'GP', 'F', 15, 'U', 'LE3', 'A', 3, 4, 'other', 'other', 'home', 'mother', 1, 2, 0, 'yes', 'no', 'no', 'yes', 'yes', 'yes', 'yes', 'yes', 5, 3, 2, 1, 1, 1, 0, 7, 10, 11),\n",
       " (128, 129, 'GP', 'M', 18, 'R', 'GT3', 'T', 2, 2, 'services', 'other', 'reputation', 'mother', 1, 1, 2, 'no', 'yes', 'no', 'yes', 'yes', 'yes', 'yes', 'no', 3, 3, 3, 1, 2, 4, 0, 7, 4, 0),\n",
       " (129, 130, 'GP', 'M', 16, 'R', 'GT3', 'T', 4, 4, 'teacher', 'teacher', 'course', 'mother', 1, 1, 0, 'no', 'no', 'yes', 'yes', 'yes', 'yes', 'yes', 'no', 3, 5, 5, 2, 5, 4, 8, 18, 18, 18),\n",
       " (131, 132, 'GP', 'F', 15, 'U', 'GT3', 'T', 1, 1, 'at_home', 'other', 'course', 'mother', 3, 1, 0, 'no', 'yes', 'no', 'yes', 'no', 'yes', 'yes', 'yes', 4, 3, 3, 1, 2, 4, 0, 8, 0, 0),\n",
       " (135, 136, 'GP', 'F', 15, 'U', 'GT3', 'T', 4, 4, 'services', 'at_home', 'course', 'mother', 1, 3, 0, 'no', 'yes', 'no', 'yes', 'yes', 'yes', 'yes', 'yes', 4, 3, 3, 1, 1, 5, 0, 11, 0, 0),\n",
       " (137, 138, 'GP', 'F', 16, 'U', 'GT3', 'A', 3, 3, 'other', 'other', 'course', 'other', 2, 1, 2, 'no', 'yes', 'no', 'yes', 'no', 'yes', 'yes', 'yes', 4, 3, 2, 1, 1, 5, 0, 4, 0, 0),\n",
       " (139, 140, 'GP', 'F', 15, 'U', 'GT3', 'T', 4, 4, 'teacher', 'teacher', 'course', 'mother', 2, 1, 0, 'no', 'no', 'no', 'yes', 'yes', 'yes', 'yes', 'no', 4, 3, 2, 1, 1, 5, 0, 16, 16, 15),\n",
       " (141, 142, 'GP', 'M', 16, 'U', 'LE3', 'T', 2, 2, 'services', 'services', 'reputation', 'father', 2, 1, 2, 'no', 'yes', 'no', 'yes', 'yes', 'yes', 'yes', 'no', 2, 3, 3, 2, 2, 2, 8, 9, 9, 9),\n",
       " (142, 143, 'GP', 'F', 15, 'U', 'GT3', 'T', 4, 4, 'teacher', 'services', 'course', 'mother', 1, 3, 0, 'no', 'yes', 'yes', 'yes', 'yes', 'yes', 'yes', 'no', 4, 2, 2, 1, 1, 5, 2, 9, 11, 11),\n",
       " (152, 153, 'GP', 'F', 15, 'R', 'GT3', 'T', 3, 3, 'services', 'services', 'reputation', 'other', 2, 3, 2, 'no', 'yes', 'yes', 'yes', 'yes', 'yes', 'yes', 'yes', 4, 2, 1, 2, 3, 3, 8, 10, 10, 10),\n",
       " (160, 161, 'GP', 'M', 17, 'R', 'LE3', 'T', 2, 1, 'at_home', 'other', 'course', 'mother', 2, 1, 2, 'no', 'no', 'no', 'yes', 'yes', 'no', 'yes', 'yes', 3, 3, 2, 2, 2, 5, 0, 7, 6, 0),\n",
       " (170, 171, 'GP', 'M', 16, 'U', 'GT3', 'T', 3, 4, 'other', 'other', 'course', 'father', 3, 1, 2, 'no', 'yes', 'no', 'yes', 'no', 'yes', 'yes', 'no', 3, 4, 5, 2, 4, 2, 0, 6, 5, 0),\n",
       " (171, 172, 'GP', 'M', 16, 'U', 'GT3', 'T', 1, 0, 'other', 'other', 'reputation', 'mother', 2, 2, 0, 'no', 'yes', 'yes', 'yes', 'yes', 'yes', 'yes', 'yes', 4, 3, 2, 1, 1, 3, 2, 13, 15, 16),\n",
       " (172, 173, 'GP', 'M', 17, 'U', 'LE3', 'T', 4, 4, 'teacher', 'other', 'reputation', 'mother', 1, 2, 0, 'no', 'yes', 'yes', 'yes', 'yes', 'yes', 'yes', 'no', 4, 4, 4, 1, 3, 5, 0, 13, 11, 10),\n",
       " (173, 174, 'GP', 'F', 16, 'U', 'GT3', 'T', 1, 3, 'at_home', 'services', 'home', 'mother', 1, 2, 3, 'no', 'no', 'no', 'yes', 'no', 'yes', 'yes', 'yes', 4, 3, 5, 1, 1, 3, 0, 8, 7, 0),\n",
       " (174, 175, 'GP', 'F', 16, 'U', 'LE3', 'T', 3, 3, 'other', 'other', 'reputation', 'mother', 2, 2, 0, 'no', 'yes', 'yes', 'yes', 'yes', 'yes', 'yes', 'no', 4, 4, 5, 1, 1, 4, 4, 10, 11, 9),\n",
       " (175, 176, 'GP', 'M', 17, 'U', 'LE3', 'T', 4, 3, 'teacher', 'other', 'course', 'mother', 2, 2, 0, 'no', 'no', 'yes', 'yes', 'yes', 'yes', 'yes', 'no', 4, 4, 4, 4, 4, 4, 4, 10, 9, 9),\n",
       " (176, 177, 'GP', 'F', 16, 'U', 'GT3', 'T', 2, 2, 'services', 'other', 'reputation', 'mother', 2, 2, 0, 'no', 'no', 'yes', 'yes', 'no', 'yes', 'yes', 'no', 3, 4, 4, 1, 4, 5, 2, 13, 13, 11),\n",
       " (177, 178, 'GP', 'M', 17, 'U', 'GT3', 'T', 3, 3, 'other', 'other', 'reputation', 'father', 1, 2, 0, 'no', 'no', 'no', 'yes', 'no', 'yes', 'yes', 'no', 4, 3, 4, 1, 4, 4, 4, 6, 5, 6),\n",
       " (178, 179, 'GP', 'M', 16, 'R', 'GT3', 'T', 4, 2, 'teacher', 'services', 'other', 'mother', 1, 1, 0, 'no', 'yes', 'no', 'yes', 'yes', 'yes', 'yes', 'yes', 4, 3, 3, 3, 4, 3, 10, 10, 8, 9),\n",
       " (179, 180, 'GP', 'M', 17, 'U', 'GT3', 'T', 4, 3, 'other', 'other', 'course', 'mother', 1, 2, 0, 'no', 'yes', 'no', 'yes', 'yes', 'yes', 'yes', 'yes', 5, 2, 3, 1, 1, 2, 4, 10, 10, 11),\n",
       " (180, 181, 'GP', 'M', 16, 'U', 'GT3', 'T', 4, 3, 'teacher', 'other', 'home', 'mother', 1, 2, 0, 'no', 'yes', 'yes', 'yes', 'yes', 'yes', 'yes', 'no', 3, 4, 3, 2, 3, 3, 10, 9, 8, 8),\n",
       " (181, 182, 'GP', 'M', 16, 'U', 'GT3', 'T', 3, 3, 'services', 'other', 'home', 'mother', 1, 2, 0, 'no', 'no', 'yes', 'yes', 'yes', 'yes', 'yes', 'yes', 4, 2, 3, 1, 2, 3, 2, 12, 13, 12),\n",
       " (183, 184, 'GP', 'F', 17, 'U', 'LE3', 'T', 3, 3, 'other', 'other', 'reputation', 'mother', 1, 2, 0, 'no', 'yes', 'no', 'yes', 'yes', 'yes', 'yes', 'yes', 5, 3, 3, 2, 3, 1, 56, 9, 9, 8),\n",
       " (185, 186, 'GP', 'M', 17, 'U', 'GT3', 'T', 3, 3, 'services', 'services', 'other', 'mother', 1, 2, 0, 'no', 'yes', 'no', 'yes', 'yes', 'yes', 'yes', 'yes', 4, 3, 4, 2, 3, 4, 12, 12, 12, 11),\n",
       " (186, 187, 'GP', 'M', 16, 'U', 'GT3', 'T', 1, 2, 'services', 'services', 'other', 'mother', 1, 1, 0, 'no', 'yes', 'yes', 'yes', 'yes', 'yes', 'yes', 'yes', 3, 3, 3, 1, 2, 3, 2, 11, 12, 11),\n",
       " (187, 188, 'GP', 'M', 16, 'U', 'LE3', 'T', 2, 1, 'other', 'other', 'course', 'mother', 1, 2, 0, 'no', 'no', 'yes', 'yes', 'yes', 'yes', 'yes', 'yes', 4, 2, 3, 1, 2, 5, 0, 15, 15, 15),\n",
       " (191, 192, 'GP', 'F', 17, 'U', 'GT3', 'T', 1, 1, 'at_home', 'services', 'course', 'mother', 1, 2, 0, 'no', 'no', 'no', 'yes', 'yes', 'yes', 'yes', 'no', 5, 3, 3, 1, 1, 3, 0, 8, 8, 9),\n",
       " (192, 193, 'GP', 'M', 17, 'U', 'GT3', 'T', 1, 2, 'at_home', 'services', 'other', 'other', 2, 2, 0, 'no', 'no', 'yes', 'yes', 'no', 'yes', 'yes', 'no', 4, 4, 4, 4, 5, 5, 12, 7, 8, 8),\n",
       " (193, 194, 'GP', 'M', 16, 'R', 'GT3', 'T', 3, 3, 'services', 'services', 'reputation', 'mother', 1, 1, 0, 'no', 'yes', 'no', 'yes', 'yes', 'yes', 'yes', 'no', 4, 3, 2, 3, 4, 5, 8, 8, 9, 10),\n",
       " (195, 196, 'GP', 'F', 17, 'U', 'LE3', 'T', 2, 4, 'services', 'services', 'course', 'father', 1, 2, 0, 'no', 'no', 'no', 'yes', 'yes', 'yes', 'yes', 'yes', 4, 3, 2, 1, 1, 5, 0, 14, 15, 15),\n",
       " (197, 198, 'GP', 'M', 16, 'R', 'LE3', 'T', 3, 3, 'teacher', 'other', 'home', 'father', 3, 1, 0, 'no', 'yes', 'yes', 'yes', 'yes', 'yes', 'yes', 'no', 3, 3, 4, 3, 5, 3, 8, 9, 9, 10),\n",
       " (200, 201, 'GP', 'F', 16, 'U', 'GT3', 'T', 4, 3, 'health', 'other', 'home', 'mother', 1, 2, 0, 'no', 'yes', 'no', 'yes', 'yes', 'yes', 'yes', 'no', 4, 3, 5, 1, 5, 2, 2, 16, 16, 16),\n",
       " (204, 205, 'GP', 'F', 16, 'R', 'GT3', 'T', 2, 2, 'services', 'services', 'reputation', 'mother', 2, 4, 0, 'no', 'yes', 'yes', 'yes', 'no', 'yes', 'yes', 'no', 5, 3, 5, 1, 1, 5, 6, 10, 10, 11),\n",
       " (207, 208, 'GP', 'F', 16, 'U', 'GT3', 'T', 4, 3, 'teacher', 'other', 'other', 'mother', 1, 2, 0, 'no', 'no', 'yes', 'yes', 'yes', 'yes', 'yes', 'yes', 1, 3, 2, 1, 1, 1, 10, 11, 12, 13),\n",
       " (209, 210, 'GP', 'F', 17, 'R', 'GT3', 'T', 4, 3, 'teacher', 'other', 'reputation', 'mother', 2, 3, 0, 'no', 'yes', 'yes', 'yes', 'yes', 'yes', 'yes', 'yes', 4, 4, 2, 1, 1, 4, 6, 7, 7, 7),\n",
       " (210, 211, 'GP', 'F', 19, 'U', 'GT3', 'T', 3, 3, 'other', 'other', 'reputation', 'other', 1, 4, 0, 'no', 'yes', 'yes', 'yes', 'yes', 'yes', 'yes', 'no', 4, 3, 3, 1, 2, 3, 10, 8, 8, 8),\n",
       " (213, 214, 'GP', 'M', 18, 'U', 'GT3', 'T', 2, 2, 'services', 'other', 'home', 'mother', 1, 2, 1, 'no', 'yes', 'yes', 'yes', 'yes', 'yes', 'yes', 'no', 4, 4, 4, 2, 4, 5, 15, 6, 7, 8),\n",
       " (219, 220, 'GP', 'F', 17, 'U', 'GT3', 'T', 2, 2, 'at_home', 'at_home', 'course', 'mother', 1, 3, 0, 'no', 'yes', 'yes', 'yes', 'yes', 'yes', 'yes', 'no', 4, 3, 3, 1, 1, 4, 4, 9, 10, 10),\n",
       " (220, 221, 'GP', 'F', 17, 'R', 'GT3', 'T', 2, 1, 'at_home', 'services', 'reputation', 'mother', 2, 2, 0, 'no', 'yes', 'no', 'yes', 'yes', 'yes', 'yes', 'no', 4, 2, 5, 1, 2, 5, 2, 6, 6, 6),\n",
       " (224, 225, 'GP', 'F', 16, 'U', 'GT3', 'T', 4, 4, 'teacher', 'services', 'home', 'mother', 1, 3, 0, 'no', 'yes', 'no', 'yes', 'no', 'yes', 'yes', 'no', 5, 3, 2, 1, 1, 5, 0, 13, 13, 14),\n",
       " (225, 226, 'GP', 'F', 18, 'R', 'GT3', 'T', 3, 1, 'other', 'other', 'reputation', 'mother', 1, 2, 1, 'no', 'no', 'no', 'yes', 'yes', 'yes', 'yes', 'yes', 5, 3, 3, 1, 1, 4, 16, 9, 8, 7),\n",
       " (226, 227, 'GP', 'F', 17, 'U', 'GT3', 'T', 3, 2, 'other', 'other', 'course', 'mother', 1, 2, 0, 'no', 'no', 'no', 'yes', 'no', 'yes', 'yes', 'no', 5, 3, 4, 1, 3, 3, 10, 16, 15, 15),\n",
       " (228, 229, 'GP', 'M', 18, 'U', 'LE3', 'T', 2, 1, 'at_home', 'other', 'course', 'mother', 4, 2, 0, 'yes', 'yes', 'yes', 'yes', 'yes', 'yes', 'yes', 'yes', 4, 3, 2, 4, 5, 3, 14, 10, 8, 9),\n",
       " (229, 230, 'GP', 'F', 17, 'U', 'GT3', 'A', 2, 1, 'other', 'other', 'course', 'mother', 2, 3, 0, 'no', 'no', 'no', 'yes', 'yes', 'yes', 'yes', 'yes', 3, 2, 3, 1, 2, 3, 10, 12, 10, 12),\n",
       " (230, 231, 'GP', 'F', 17, 'U', 'LE3', 'T', 4, 3, 'health', 'other', 'reputation', 'father', 1, 2, 0, 'no', 'no', 'no', 'yes', 'yes', 'yes', 'yes', 'yes', 3, 2, 3, 1, 2, 3, 14, 13, 13, 14),\n",
       " (231, 232, 'GP', 'M', 17, 'R', 'GT3', 'T', 2, 2, 'other', 'other', 'course', 'father', 2, 2, 0, 'no', 'yes', 'yes', 'yes', 'yes', 'yes', 'yes', 'no', 4, 5, 2, 1, 1, 1, 4, 11, 11, 11),\n",
       " (232, 233, 'GP', 'M', 17, 'U', 'GT3', 'T', 4, 4, 'teacher', 'teacher', 'reputation', 'mother', 1, 2, 0, 'yes', 'yes', 'no', 'yes', 'yes', 'yes', 'yes', 'yes', 4, 5, 5, 1, 3, 2, 14, 11, 9, 9),\n",
       " (233, 234, 'GP', 'M', 16, 'U', 'GT3', 'T', 4, 4, 'health', 'other', 'reputation', 'father', 1, 2, 0, 'no', 'yes', 'yes', 'yes', 'yes', 'yes', 'yes', 'no', 4, 2, 4, 2, 4, 1, 2, 14, 13, 13),\n",
       " (235, 236, 'GP', 'M', 16, 'U', 'GT3', 'T', 3, 2, 'at_home', 'other', 'reputation', 'mother', 2, 3, 0, 'no', 'no', 'no', 'yes', 'yes', 'yes', 'yes', 'yes', 5, 3, 3, 1, 3, 2, 10, 11, 9, 10),\n",
       " (236, 237, 'GP', 'M', 17, 'U', 'LE3', 'T', 2, 2, 'other', 'other', 'home', 'father', 1, 2, 0, 'no', 'no', 'yes', 'yes', 'no', 'yes', 'yes', 'yes', 4, 4, 2, 5, 5, 4, 4, 14, 13, 13),\n",
       " (240, 241, 'GP', 'M', 17, 'U', 'LE3', 'T', 4, 3, 'health', 'other', 'course', 'mother', 2, 2, 0, 'no', 'no', 'no', 'yes', 'yes', 'yes', 'yes', 'yes', 2, 5, 5, 1, 4, 5, 14, 12, 12, 12),\n",
       " (242, 243, 'GP', 'M', 16, 'U', 'LE3', 'T', 4, 3, 'teacher', 'other', 'course', 'mother', 1, 1, 0, 'no', 'no', 'no', 'yes', 'no', 'yes', 'yes', 'no', 5, 4, 5, 1, 1, 3, 0, 6, 0, 0),\n",
       " (243, 244, 'GP', 'M', 16, 'U', 'GT3', 'T', 4, 4, 'services', 'services', 'course', 'mother', 1, 1, 0, 'no', 'no', 'no', 'yes', 'yes', 'yes', 'yes', 'no', 5, 3, 2, 1, 2, 5, 0, 13, 12, 12),\n",
       " (255, 256, 'GP', 'M', 17, 'U', 'LE3', 'T', 1, 1, 'health', 'other', 'course', 'mother', 2, 1, 1, 'no', 'yes', 'no', 'yes', 'yes', 'yes', 'yes', 'no', 4, 4, 4, 1, 2, 5, 2, 7, 9, 8),\n",
       " (256, 257, 'GP', 'F', 17, 'U', 'LE3', 'T', 4, 2, 'teacher', 'services', 'reputation', 'mother', 1, 4, 0, 'no', 'yes', 'yes', 'yes', 'yes', 'yes', 'yes', 'no', 4, 2, 3, 1, 1, 4, 6, 14, 12, 13),\n",
       " (258, 259, 'GP', 'M', 18, 'U', 'GT3', 'T', 2, 1, 'other', 'other', 'home', 'mother', 1, 2, 0, 'no', 'no', 'no', 'yes', 'yes', 'yes', 'yes', 'no', 5, 2, 4, 1, 2, 4, 8, 15, 14, 14),\n",
       " (259, 260, 'GP', 'F', 17, 'U', 'LE3', 'T', 2, 2, 'services', 'services', 'course', 'father', 1, 4, 0, 'no', 'no', 'yes', 'yes', 'yes', 'yes', 'yes', 'yes', 3, 4, 1, 1, 1, 2, 0, 10, 9, 0),\n",
       " (264, 265, 'GP', 'F', 18, 'U', 'GT3', 'T', 2, 2, 'at_home', 'services', 'home', 'mother', 1, 3, 0, 'no', 'yes', 'yes', 'yes', 'yes', 'yes', 'yes', 'yes', 4, 3, 3, 1, 1, 3, 0, 9, 10, 0),\n",
       " (265, 266, 'GP', 'M', 18, 'R', 'LE3', 'A', 3, 4, 'other', 'other', 'reputation', 'mother', 2, 2, 0, 'no', 'yes', 'yes', 'yes', 'yes', 'yes', 'yes', 'no', 4, 2, 5, 3, 4, 1, 13, 17, 17, 17),\n",
       " (266, 267, 'GP', 'M', 17, 'U', 'GT3', 'T', 3, 1, 'services', 'other', 'other', 'mother', 1, 2, 0, 'no', 'no', 'yes', 'yes', 'yes', 'yes', 'yes', 'yes', 5, 4, 4, 3, 4, 5, 2, 9, 9, 10),\n",
       " (267, 268, 'GP', 'F', 18, 'R', 'GT3', 'T', 4, 4, 'teacher', 'other', 'reputation', 'mother', 2, 2, 0, 'no', 'no', 'yes', 'yes', 'yes', 'yes', 'yes', 'no', 4, 3, 4, 2, 2, 4, 8, 12, 10, 11),\n",
       " (268, 269, 'GP', 'M', 18, 'U', 'GT3', 'T', 4, 2, 'health', 'other', 'reputation', 'father', 1, 2, 0, 'no', 'yes', 'yes', 'yes', 'yes', 'yes', 'yes', 'yes', 5, 4, 5, 1, 3, 5, 10, 10, 9, 10),\n",
       " (270, 271, 'GP', 'F', 19, 'U', 'GT3', 'T', 3, 3, 'other', 'services', 'home', 'other', 1, 2, 2, 'no', 'yes', 'yes', 'yes', 'yes', 'yes', 'yes', 'no', 4, 3, 5, 3, 3, 5, 15, 9, 9, 9),\n",
       " (271, 272, 'GP', 'F', 18, 'U', 'GT3', 'T', 2, 3, 'other', 'services', 'reputation', 'father', 1, 4, 0, 'no', 'yes', 'yes', 'yes', 'yes', 'yes', 'yes', 'yes', 4, 5, 5, 1, 3, 2, 4, 15, 14, 14),\n",
       " (277, 278, 'GP', 'M', 18, 'U', 'GT3', 'T', 4, 4, 'teacher', 'services', 'home', 'mother', 2, 1, 0, 'no', 'no', 'yes', 'yes', 'yes', 'yes', 'yes', 'no', 3, 2, 4, 1, 4, 3, 22, 9, 9, 9),\n",
       " (278, 279, 'GP', 'F', 18, 'U', 'GT3', 'T', 4, 4, 'health', 'health', 'reputation', 'father', 1, 2, 1, 'yes', 'yes', 'no', 'yes', 'yes', 'yes', 'yes', 'yes', 2, 4, 4, 1, 1, 4, 15, 9, 8, 8),\n",
       " (279, 280, 'GP', 'M', 18, 'U', 'LE3', 'T', 4, 3, 'teacher', 'services', 'course', 'mother', 2, 1, 0, 'no', 'no', 'yes', 'yes', 'yes', 'yes', 'yes', 'no', 4, 2, 3, 1, 2, 1, 8, 10, 11, 10),\n",
       " (280, 281, 'GP', 'M', 17, 'U', 'LE3', 'A', 4, 1, 'services', 'other', 'home', 'mother', 2, 1, 0, 'no', 'no', 'yes', 'yes', 'yes', 'yes', 'yes', 'yes', 4, 5, 4, 2, 4, 5, 30, 8, 8, 8),\n",
       " (283, 284, 'GP', 'F', 18, 'U', 'GT3', 'T', 1, 1, 'other', 'other', 'home', 'mother', 2, 2, 0, 'yes', 'no', 'no', 'yes', 'yes', 'yes', 'yes', 'no', 5, 4, 4, 1, 1, 4, 4, 8, 9, 10),\n",
       " (288, 289, 'GP', 'M', 18, 'U', 'GT3', 'T', 2, 1, 'services', 'services', 'reputation', 'mother', 1, 3, 0, 'no', 'no', 'yes', 'yes', 'yes', 'yes', 'yes', 'no', 4, 2, 4, 1, 3, 2, 6, 15, 14, 14),\n",
       " (289, 290, 'GP', 'M', 18, 'U', 'LE3', 'A', 4, 4, 'teacher', 'teacher', 'reputation', 'mother', 1, 2, 0, 'no', 'yes', 'yes', 'yes', 'yes', 'yes', 'yes', 'no', 5, 4, 3, 1, 1, 2, 9, 15, 13, 15),\n",
       " (290, 291, 'GP', 'M', 18, 'U', 'GT3', 'T', 4, 2, 'teacher', 'other', 'home', 'mother', 1, 2, 0, 'no', 'yes', 'yes', 'yes', 'yes', 'yes', 'yes', 'yes', 4, 3, 2, 1, 4, 5, 11, 12, 11, 11),\n",
       " (294, 295, 'GP', 'M', 18, 'R', 'LE3', 'T', 3, 2, 'services', 'other', 'reputation', 'mother', 2, 3, 0, 'no', 'yes', 'yes', 'yes', 'yes', 'yes', 'yes', 'no', 5, 4, 2, 1, 1, 4, 8, 14, 13, 14),\n",
       " (296, 297, 'GP', 'F', 19, 'U', 'GT3', 'T', 4, 4, 'health', 'other', 'reputation', 'other', 2, 2, 0, 'no', 'yes', 'yes', 'yes', 'yes', 'yes', 'yes', 'no', 2, 3, 4, 2, 3, 2, 0, 10, 9, 0),\n",
       " (303, 304, 'GP', 'F', 17, 'U', 'GT3', 'T', 3, 2, 'health', 'health', 'reputation', 'father', 1, 4, 0, 'no', 'yes', 'yes', 'yes', 'no', 'yes', 'yes', 'no', 5, 2, 2, 1, 2, 5, 0, 17, 17, 18),\n",
       " (304, 305, 'GP', 'M', 19, 'U', 'GT3', 'T', 3, 3, 'other', 'other', 'home', 'other', 1, 2, 1, 'no', 'yes', 'no', 'yes', 'yes', 'yes', 'yes', 'yes', 4, 4, 4, 1, 1, 3, 20, 15, 14, 13),\n",
       " (305, 306, 'GP', 'F', 18, 'U', 'GT3', 'T', 2, 4, 'services', 'at_home', 'reputation', 'other', 1, 2, 1, 'no', 'yes', 'yes', 'yes', 'yes', 'yes', 'yes', 'no', 4, 4, 3, 1, 1, 3, 8, 14, 12, 12),\n",
       " (309, 310, 'GP', 'F', 19, 'U', 'LE3', 'T', 1, 1, 'at_home', 'other', 'reputation', 'other', 1, 2, 1, 'yes', 'yes', 'no', 'yes', 'no', 'yes', 'yes', 'no', 4, 4, 3, 1, 3, 3, 18, 12, 10, 10),\n",
       " (316, 317, 'GP', 'F', 18, 'U', 'GT3', 'T', 2, 1, 'services', 'other', 'course', 'mother', 2, 2, 0, 'no', 'yes', 'yes', 'yes', 'yes', 'yes', 'yes', 'no', 5, 3, 3, 1, 2, 1, 0, 8, 8, 0),\n",
       " (317, 318, 'GP', 'F', 18, 'U', 'GT3', 'T', 4, 3, 'other', 'other', 'course', 'mother', 1, 3, 0, 'no', 'yes', 'yes', 'yes', 'yes', 'yes', 'yes', 'yes', 4, 3, 4, 1, 1, 5, 9, 9, 10, 9),\n",
       " (318, 319, 'GP', 'F', 17, 'R', 'GT3', 'T', 3, 4, 'at_home', 'services', 'course', 'father', 1, 3, 0, 'no', 'yes', 'yes', 'yes', 'no', 'yes', 'yes', 'no', 4, 3, 4, 2, 5, 5, 0, 11, 11, 10),\n",
       " (322, 323, 'GP', 'F', 17, 'R', 'LE3', 'T', 2, 2, 'services', 'services', 'course', 'mother', 1, 3, 0, 'no', 'yes', 'yes', 'yes', 'yes', 'yes', 'yes', 'no', 3, 3, 2, 2, 2, 3, 3, 11, 11, 11),\n",
       " (325, 326, 'GP', 'M', 18, 'U', 'GT3', 'T', 4, 4, 'other', 'other', 'course', 'mother', 1, 3, 0, 'no', 'no', 'no', 'yes', 'yes', 'yes', 'yes', 'no', 4, 3, 3, 2, 2, 3, 3, 9, 12, 11),\n",
       " (326, 327, 'GP', 'M', 17, 'U', 'GT3', 'T', 3, 3, 'other', 'services', 'reputation', 'mother', 1, 1, 0, 'no', 'no', 'no', 'yes', 'no', 'yes', 'yes', 'no', 4, 3, 5, 3, 5, 5, 3, 14, 15, 16),\n",
       " (328, 329, 'GP', 'F', 17, 'U', 'GT3', 'T', 4, 4, 'teacher', 'services', 'course', 'mother', 1, 3, 0, 'no', 'yes', 'yes', 'yes', 'yes', 'yes', 'yes', 'no', 5, 4, 4, 1, 3, 4, 7, 10, 9, 9),\n",
       " (330, 331, 'GP', 'M', 18, 'U', 'LE3', 'T', 2, 2, 'other', 'other', 'course', 'mother', 1, 4, 0, 'no', 'yes', 'no', 'yes', 'yes', 'yes', 'yes', 'no', 4, 5, 5, 2, 4, 5, 2, 9, 8, 8),\n",
       " (332, 333, 'GP', 'F', 18, 'U', 'GT3', 'T', 3, 3, 'services', 'services', 'home', 'mother', 1, 2, 0, 'no', 'no', 'no', 'yes', 'yes', 'yes', 'yes', 'no', 5, 3, 4, 1, 1, 4, 0, 7, 0, 0),\n",
       " (333, 334, 'GP', 'F', 18, 'U', 'LE3', 'T', 2, 2, 'other', 'other', 'home', 'other', 1, 2, 0, 'no', 'no', 'no', 'yes', 'no', 'yes', 'yes', 'yes', 4, 3, 3, 1, 1, 2, 0, 8, 8, 0),\n",
       " (340, 341, 'GP', 'F', 19, 'U', 'GT3', 'T', 2, 1, 'services', 'services', 'home', 'other', 1, 3, 1, 'no', 'no', 'yes', 'yes', 'yes', 'yes', 'yes', 'yes', 4, 3, 4, 1, 3, 3, 4, 11, 12, 11),\n",
       " (341, 342, 'GP', 'M', 18, 'U', 'GT3', 'T', 4, 4, 'teacher', 'services', 'home', 'father', 1, 2, 1, 'no', 'yes', 'no', 'yes', 'yes', 'yes', 'yes', 'no', 4, 3, 3, 2, 2, 2, 0, 10, 10, 0),\n",
       " (342, 343, 'GP', 'M', 18, 'U', 'LE3', 'T', 3, 4, 'services', 'other', 'home', 'mother', 1, 2, 0, 'no', 'no', 'no', 'yes', 'yes', 'yes', 'yes', 'yes', 4, 3, 3, 1, 3, 5, 11, 16, 15, 15),\n",
       " (348, 349, 'GP', 'F', 17, 'U', 'GT3', 'T', 4, 3, 'health', 'other', 'reputation', 'mother', 1, 3, 0, 'no', 'yes', 'yes', 'yes', 'yes', 'yes', 'yes', 'yes', 4, 4, 3, 1, 3, 4, 0, 13, 15, 15),\n",
       " (354, 355, 'MS', 'M', 17, 'R', 'GT3', 'T', 4, 3, 'services', 'other', 'home', 'mother', 2, 2, 0, 'no', 'yes', 'yes', 'yes', 'no', 'yes', 'yes', 'yes', 4, 5, 5, 1, 3, 2, 4, 13, 11, 11),\n",
       " (356, 357, 'MS', 'F', 17, 'R', 'GT3', 'T', 4, 4, 'teacher', 'services', 'other', 'father', 2, 2, 0, 'no', 'yes', 'yes', 'yes', 'yes', 'yes', 'yes', 'no', 4, 3, 3, 1, 2, 5, 4, 12, 13, 13),\n",
       " (363, 364, 'MS', 'F', 17, 'U', 'LE3', 'T', 4, 4, 'at_home', 'at_home', 'course', 'mother', 1, 2, 0, 'no', 'yes', 'yes', 'yes', 'yes', 'yes', 'yes', 'yes', 2, 3, 4, 1, 1, 1, 0, 16, 15, 15),\n",
       " (371, 372, 'MS', 'M', 18, 'R', 'LE3', 'T', 1, 2, 'at_home', 'services', 'other', 'father', 3, 1, 0, 'no', 'yes', 'yes', 'yes', 'yes', 'no', 'yes', 'yes', 4, 3, 3, 2, 3, 3, 3, 14, 12, 12),\n",
       " (373, 374, 'MS', 'F', 17, 'R', 'GT3', 'T', 1, 2, 'other', 'other', 'course', 'mother', 1, 1, 0, 'no', 'no', 'no', 'yes', 'yes', 'yes', 'yes', 'no', 3, 5, 5, 1, 3, 1, 14, 6, 5, 5),\n",
       " (377, 378, 'MS', 'F', 18, 'R', 'LE3', 'T', 4, 4, 'teacher', 'services', 'course', 'mother', 1, 2, 0, 'no', 'no', 'yes', 'yes', 'yes', 'yes', 'yes', 'no', 5, 4, 3, 3, 4, 2, 4, 8, 9, 10),\n",
       " (379, 380, 'MS', 'F', 17, 'R', 'GT3', 'T', 3, 1, 'at_home', 'other', 'reputation', 'mother', 1, 2, 0, 'no', 'yes', 'yes', 'yes', 'no', 'yes', 'yes', 'no', 4, 5, 4, 2, 3, 1, 17, 10, 10, 10),\n",
       " (380, 381, 'MS', 'M', 18, 'U', 'GT3', 'T', 4, 4, 'teacher', 'teacher', 'home', 'father', 1, 2, 0, 'no', 'no', 'yes', 'yes', 'no', 'yes', 'yes', 'no', 3, 2, 4, 1, 4, 2, 4, 15, 14, 14),\n",
       " (381, 382, 'MS', 'M', 18, 'R', 'GT3', 'T', 2, 1, 'other', 'other', 'other', 'mother', 2, 1, 0, 'no', 'no', 'no', 'yes', 'no', 'yes', 'yes', 'yes', 4, 4, 3, 1, 3, 5, 5, 7, 6, 7),\n",
       " (382, 383, 'MS', 'M', 17, 'U', 'GT3', 'T', 2, 3, 'other', 'services', 'home', 'father', 2, 2, 0, 'no', 'no', 'no', 'yes', 'yes', 'yes', 'yes', 'no', 4, 4, 3, 1, 1, 3, 2, 11, 11, 10),\n",
       " (386, 387, 'MS', 'F', 18, 'R', 'GT3', 'T', 4, 4, 'teacher', 'at_home', 'reputation', 'mother', 3, 1, 0, 'no', 'yes', 'yes', 'yes', 'yes', 'yes', 'yes', 'yes', 4, 4, 3, 2, 2, 5, 7, 6, 5, 6),\n",
       " (387, 388, 'MS', 'F', 19, 'R', 'GT3', 'T', 2, 3, 'services', 'other', 'course', 'mother', 1, 3, 1, 'no', 'no', 'no', 'yes', 'no', 'yes', 'yes', 'no', 5, 4, 2, 1, 2, 5, 0, 7, 5, 0)]"
      ]
     },
     "execution_count": 10,
     "metadata": {},
     "output_type": "execute_result"
    }
   ],
   "source": [
    "ans4"
   ]
  },
  {
   "cell_type": "code",
   "execution_count": 11,
   "metadata": {},
   "outputs": [
    {
     "data": {
      "text/plain": [
       "171"
      ]
     },
     "execution_count": 11,
     "metadata": {},
     "output_type": "execute_result"
    }
   ],
   "source": [
    "count4"
   ]
  },
  {
   "cell_type": "markdown",
   "metadata": {},
   "source": [
    "# Question 5\n",
    "Create a new table called Subjects, this table represents the subjects taken in school. Include the following variables (appears Variable_Name (Data Type)): Student_ID (INT), Algebra (INT), American_History (INT), English_Lit (INT), Biology (INT), and Music (INT)."
   ]
  },
  {
   "cell_type": "code",
   "execution_count": 12,
   "metadata": {},
   "outputs": [],
   "source": [
    "ans5 = engine.execute(\"\"\"\n",
    "CREATE TABLE Subjects(\n",
    "    Student_ID int,\n",
    "    Algebra int,\n",
    "    American_History int,\n",
    "    English_Lit int,\n",
    "    Biology int,\n",
    "    Music int\n",
    ")\n",
    "\"\"\")"
   ]
  },
  {
   "cell_type": "markdown",
   "metadata": {},
   "source": [
    "# Question 6\n",
    "Include the following row of data into your new database: ('1', '0', '0', '1', '1', '1')."
   ]
  },
  {
   "cell_type": "code",
   "execution_count": 13,
   "metadata": {},
   "outputs": [],
   "source": [
    "ans6 = engine.execute(\"\"\"\n",
    "INSERT INTO Subjects(Student_ID, Algebra, American_History, English_Lit, Biology, Music)\n",
    "VALUES(1, 0, 0, 1, 1, 1)\n",
    "\"\"\")"
   ]
  },
  {
   "cell_type": "markdown",
   "metadata": {},
   "source": [
    "# Question 7\n",
    "Include more_data into the new table, Subjects= [('2', '1', '1', '1', '0', '0'), ('3', '1', '0', '1', '1', '1'), ('4', '1', '1', '0', '0', '0'), ('5', '1', '1', '1', '1', '1')]"
   ]
  },
  {
   "cell_type": "code",
   "execution_count": 14,
   "metadata": {},
   "outputs": [],
   "source": [
    "ans7 = engine.execute(\"\"\"\n",
    "INSERT INTO Subjects(Student_ID, Algebra, American_History, English_Lit, Biology, Music)\n",
    "VALUES\n",
    "    (2, 1, 1, 1, 0, 0),\n",
    "    (3, 1, 0, 1, 1, 1),\n",
    "    (4, 1, 1, 0, 0, 0),\n",
    "    (5, 1, 1, 1, 1, 1)\n",
    "\"\"\")"
   ]
  },
  {
   "cell_type": "markdown",
   "metadata": {},
   "source": [
    "# Question 8\n",
    "Update Subjects table so Algebra is a 1 when Student_ID is 1."
   ]
  },
  {
   "cell_type": "code",
   "execution_count": 15,
   "metadata": {},
   "outputs": [],
   "source": [
    "ans8 = engine.execute(\"\"\"\n",
    "UPDATE Subjects\n",
    "SET Algebra = 1\n",
    "WHERE Student_ID = 1\n",
    "\"\"\")"
   ]
  },
  {
   "cell_type": "markdown",
   "metadata": {},
   "source": [
    "# Question 9\n",
    "Student 4 took the semester off. Delete Student 4 from the subjects database."
   ]
  },
  {
   "cell_type": "code",
   "execution_count": 16,
   "metadata": {},
   "outputs": [],
   "source": [
    "ans9 = engine.execute(\"\"\"\n",
    "DELETE FROM Subjects\n",
    "WHERE Student_ID = 4\n",
    "\"\"\")"
   ]
  },
  {
   "cell_type": "markdown",
   "metadata": {},
   "source": [
    "# Question 10\n",
    "Join the two tables, Students and Subjects using the primary key of ID for Students table and Student_ID for the Subjects table."
   ]
  },
  {
   "cell_type": "code",
   "execution_count": 17,
   "metadata": {},
   "outputs": [],
   "source": [
    "ans10 = engine.execute(\"\"\"\n",
    "SELECT * FROM Students\n",
    "INNER JOIN Subjects\n",
    "ON Students.ID = Subjects.Student_ID\n",
    "\"\"\").fetchall()"
   ]
  },
  {
   "cell_type": "code",
   "execution_count": 18,
   "metadata": {},
   "outputs": [
    {
     "data": {
      "text/plain": [
       "[(0, 1, 'GP', 'F', 18, 'U', 'GT3', 'A', 4, 4, 'at_home', 'teacher', 'course', 'mother', 2, 2, 0, 'yes', 'no', 'no', 'no', 'yes', 'yes', 'no', 'no', 4, 3, 4, 1, 1, 3, 6, 5, 6, 6, 1, 1, 0, 1, 1, 1),\n",
       " (1, 2, 'GP', 'F', 17, 'U', 'GT3', 'T', 1, 1, 'at_home', 'other', 'course', 'father', 1, 2, 0, 'no', 'yes', 'no', 'no', 'no', 'yes', 'yes', 'no', 5, 3, 3, 1, 1, 3, 4, 5, 5, 6, 2, 1, 1, 1, 0, 0),\n",
       " (2, 3, 'GP', 'F', 15, 'U', 'LE3', 'T', 1, 1, 'at_home', 'other', 'other', 'mother', 1, 2, 3, 'yes', 'no', 'yes', 'no', 'yes', 'yes', 'yes', 'no', 4, 3, 2, 2, 3, 3, 10, 7, 8, 10, 3, 1, 0, 1, 1, 1),\n",
       " (4, 5, 'GP', 'F', 16, 'U', 'GT3', 'T', 3, 3, 'other', 'other', 'home', 'father', 1, 2, 0, 'no', 'yes', 'yes', 'no', 'yes', 'yes', 'no', 'no', 4, 3, 2, 1, 2, 5, 4, 6, 10, 10, 5, 1, 1, 1, 1, 1)]"
      ]
     },
     "execution_count": 18,
     "metadata": {},
     "output_type": "execute_result"
    }
   ],
   "source": [
    "ans10"
   ]
  }
 ],
 "metadata": {
  "kernelspec": {
   "display_name": "Python 3 (ipykernel)",
   "language": "python",
   "name": "python3"
  },
  "language_info": {
   "codemirror_mode": {
    "name": "ipython",
    "version": 3
   },
   "file_extension": ".py",
   "mimetype": "text/x-python",
   "name": "python",
   "nbconvert_exporter": "python",
   "pygments_lexer": "ipython3",
   "version": "3.9.12"
  },
  "vscode": {
   "interpreter": {
    "hash": "81794d4967e6c3204c66dcd87b604927b115b27c00565d3d43f05ba2f3a2cb0d"
   }
  }
 },
 "nbformat": 4,
 "nbformat_minor": 2
}
