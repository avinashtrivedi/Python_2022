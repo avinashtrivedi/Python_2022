{
 "cells": [
  {
   "cell_type": "code",
   "execution_count": 11,
   "metadata": {},
   "outputs": [
    {
     "name": "stdout",
     "output_type": "stream",
     "text": [
      "              Candidate Applications\n",
      "0    Annita Goode-Grade         App1\n",
      "1            Jane Jones         App2\n",
      "2            David John         App3\n",
      "3        Prishna Vandhi         App4\n",
      "4        Danni Espinoza         App5\n",
      "5           Jack London         App6\n",
      "6     Precious Williams         App7\n",
      "7         Michael Tires         App8\n",
      "8            Luke Locke         App9\n",
      "9          Brandy Mason        App10\n",
      "10          Jaxon Lopez        App11\n",
      "11   Christopher Knight        App12\n",
      "12              Xiu Xia        App13\n",
      "13  Ferdinand Macapagal        App14\n",
      "14     Dashell Williams        App15\n",
      "\n",
      "Skills to look for in an applicant:\n",
      "Required skills: Programming proficiency/programming experience in a high-level language such as R or Python analytical thinking advanced math ability to troubleshoot complicated errors strong analytical thinking high level of quantitative ability working knowledge of fundamental computer concepts ability to communicate effectively\n",
      "\n"
     ]
    },
    {
     "ename": "IndexError",
     "evalue": "list index out of range",
     "output_type": "error",
     "traceback": [
      "\u001b[1;31m---------------------------------------------------------------------------\u001b[0m",
      "\u001b[1;31mIndexError\u001b[0m                                Traceback (most recent call last)",
      "\u001b[1;32m~\\AppData\\Local\\Temp/ipykernel_19600/2463419017.py\u001b[0m in \u001b[0;36m<module>\u001b[1;34m\u001b[0m\n\u001b[0;32m     37\u001b[0m \u001b[1;32mfor\u001b[0m \u001b[0mf\u001b[0m \u001b[1;32min\u001b[0m \u001b[0mapps_subset\u001b[0m\u001b[1;33m:\u001b[0m\u001b[1;33m\u001b[0m\u001b[1;33m\u001b[0m\u001b[0m\n\u001b[0;32m     38\u001b[0m     \u001b[0mApp\u001b[0m \u001b[1;33m=\u001b[0m \u001b[0mopen\u001b[0m\u001b[1;33m(\u001b[0m\u001b[1;34m\"{}.txt\"\u001b[0m\u001b[1;33m.\u001b[0m\u001b[0mformat\u001b[0m\u001b[1;33m(\u001b[0m\u001b[0mf\u001b[0m\u001b[1;33m)\u001b[0m\u001b[1;33m,\u001b[0m \u001b[1;34m\"r\"\u001b[0m\u001b[1;33m)\u001b[0m\u001b[1;33m\u001b[0m\u001b[1;33m\u001b[0m\u001b[0m\n\u001b[1;32m---> 39\u001b[1;33m     \u001b[0mskills_of_applicant\u001b[0m \u001b[1;33m=\u001b[0m \u001b[0mlines\u001b[0m\u001b[1;33m[\u001b[0m\u001b[1;36m1\u001b[0m\u001b[1;33m]\u001b[0m\u001b[1;33m.\u001b[0m\u001b[0msplit\u001b[0m\u001b[1;33m(\u001b[0m\u001b[1;34m' '\u001b[0m\u001b[1;33m)\u001b[0m\u001b[1;33m\u001b[0m\u001b[1;33m\u001b[0m\u001b[0m\n\u001b[0m\u001b[0;32m     40\u001b[0m     \u001b[0mlines\u001b[0m \u001b[1;33m=\u001b[0m \u001b[0mApp\u001b[0m\u001b[1;33m.\u001b[0m\u001b[0mreadlines\u001b[0m\u001b[1;33m(\u001b[0m\u001b[1;33m)\u001b[0m\u001b[1;33m\u001b[0m\u001b[1;33m\u001b[0m\u001b[0m\n\u001b[0;32m     41\u001b[0m \u001b[1;33m\u001b[0m\u001b[0m\n",
      "\u001b[1;31mIndexError\u001b[0m: list index out of range"
     ]
    }
   ],
   "source": [
    "import pandas as pd\n",
    "\n",
    "\n",
    "\n",
    "# Open csv, skip first 3 rows\n",
    "df = pd.read_csv(\"Candidates.csv\")\n",
    "print(df)\n",
    "\n",
    "\n",
    "\n",
    "#Code to get the required skills from Criteria text\n",
    "\n",
    "to_find = \"Required skills\" #define search term\n",
    "\n",
    "with open(\"AdmissionsCriteria.txt\") as a_file:\n",
    "    for line in a_file:\n",
    "        if to_find in line:\n",
    "                required_skills = line\n",
    "                print(\"\\nSkills to look for in an applicant:\", required_skills*1, sep=\"\\n\") # *1 to print once\n",
    "                \n",
    "                \n",
    "\n",
    "# Creating a container to hold list of recommendations\n",
    "#recommended_candidate = []\n",
    "\n",
    "\n",
    "#Subset 'Applications' & 'Candidate' columns\n",
    "apps_subset = df['Applications']\n",
    "Cands = df['Candidate']\n",
    "\n",
    "\n",
    "#Set count to zero to count recommendations\n",
    "count=0\n",
    "\n",
    "\n",
    "#Loop to traverse through csv column 'Applications' and return applicants\n",
    "for f in apps_subset:\n",
    "    App = open(\"{}.txt\".format(f), \"r\")\n",
    "    skills_of_applicant = lines[1].split(' ')\n",
    "    lines = App.readlines()\n",
    "    \n",
    "   \n",
    "\n",
    "    number_of_found_skills = 0\n",
    "    \n",
    "    for skill in skills_of_applicant:\n",
    "        if skill in required_skills:\n",
    "            number_of_found_skills += 1 #applicant has atleast 2 skills\n",
    "\n",
    "    if number_of_found_skills >= 2: #applicant has atleast 3 required skills\n",
    "        count += 1\n",
    "        print(\"\\nRecommended Candidate\", count,\":\")\n",
    "        print(lines[0], sep=\"\\n\")\n",
    "        \n",
    "       "
   ]
  },
  {
   "cell_type": "code",
   "execution_count": null,
   "metadata": {},
   "outputs": [],
   "source": []
  },
  {
   "cell_type": "code",
   "execution_count": null,
   "metadata": {},
   "outputs": [],
   "source": []
  }
 ],
 "metadata": {
  "kernelspec": {
   "display_name": "Python 3",
   "language": "python",
   "name": "python3"
  },
  "language_info": {
   "codemirror_mode": {
    "name": "ipython",
    "version": 3
   },
   "file_extension": ".py",
   "mimetype": "text/x-python",
   "name": "python",
   "nbconvert_exporter": "python",
   "pygments_lexer": "ipython3",
   "version": "3.8.5"
  }
 },
 "nbformat": 4,
 "nbformat_minor": 5
}
