{
 "cells": [
  {
   "cell_type": "code",
   "execution_count": 13,
   "id": "f3d09569",
   "metadata": {},
   "outputs": [
    {
     "name": "stderr",
     "output_type": "stream",
     "text": [
      "C:\\Users\\avitr\\AppData\\Local\\Temp\\ipykernel_15944\\2871467071.py:12: DeprecationWarning: executable_path has been deprecated, please pass in a Service object\n",
      "  browser = webdriver.Chrome(r'D:\\OneDrive - NITT\\Custom_Download\\chromedriver.exe')\n"
     ]
    },
    {
     "data": {
      "application/vnd.jupyter.widget-view+json": {
       "model_id": "f9a17feb2a1b4d83b84d8655c21adf1a",
       "version_major": 2,
       "version_minor": 0
      },
      "text/plain": [
       "  0%|          | 0/6 [00:00<?, ?it/s]"
      ]
     },
     "metadata": {},
     "output_type": "display_data"
    },
    {
     "ename": "FeatureNotFound",
     "evalue": "Couldn't find a tree builder with the features you requested: html5lib. Do you need to install a parser library?",
     "output_type": "error",
     "traceback": [
      "\u001b[1;31m---------------------------------------------------------------------------\u001b[0m",
      "\u001b[1;31mFeatureNotFound\u001b[0m                           Traceback (most recent call last)",
      "Input \u001b[1;32mIn [13]\u001b[0m, in \u001b[0;36m<cell line: 20>\u001b[1;34m()\u001b[0m\n\u001b[0;32m     21\u001b[0m     url2 \u001b[38;5;241m=\u001b[39m \u001b[38;5;124mf\u001b[39m\u001b[38;5;124m'\u001b[39m\u001b[38;5;124mhttps://www.foxnews.com/search-results/search?q=\u001b[39m\u001b[38;5;132;01m{\u001b[39;00mquery\u001b[38;5;132;01m}\u001b[39;00m\u001b[38;5;124m'\u001b[39m\n\u001b[0;32m     22\u001b[0m \u001b[38;5;66;03m#     browser.get(url2)\u001b[39;00m\n\u001b[0;32m     23\u001b[0m \u001b[38;5;66;03m#     time.sleep(10)\u001b[39;00m\n\u001b[0;32m     24\u001b[0m      \u001b[38;5;66;03m# wait = WebDriverWait(browser, 1)\u001b[39;00m\n\u001b[1;32m   (...)\u001b[0m\n\u001b[0;32m     27\u001b[0m \u001b[38;5;66;03m#     response = requests.get(url2)\u001b[39;00m\n\u001b[0;32m     28\u001b[0m \u001b[38;5;66;03m#     soup = BeautifulSoup(response.text)\u001b[39;00m\n\u001b[1;32m---> 30\u001b[0m     soup \u001b[38;5;241m=\u001b[39m \u001b[43mBeautifulSoup\u001b[49m\u001b[43m(\u001b[49m\u001b[43mbrowser\u001b[49m\u001b[38;5;241;43m.\u001b[39;49m\u001b[43mpage_source\u001b[49m\u001b[43m,\u001b[49m\u001b[43m \u001b[49m\u001b[38;5;124;43m'\u001b[39;49m\u001b[38;5;124;43mhtml5lib\u001b[39;49m\u001b[38;5;124;43m'\u001b[39;49m\u001b[43m)\u001b[49m\n\u001b[0;32m     32\u001b[0m     texts2 \u001b[38;5;241m=\u001b[39m [i\u001b[38;5;241m.\u001b[39mtext \u001b[38;5;28;01mfor\u001b[39;00m i \u001b[38;5;129;01min\u001b[39;00m soup\u001b[38;5;241m.\u001b[39mfind_all(\u001b[38;5;124m\"\u001b[39m\u001b[38;5;124mdiv\u001b[39m\u001b[38;5;124m\"\u001b[39m,{\u001b[38;5;124m\"\u001b[39m\u001b[38;5;124mclass\u001b[39m\u001b[38;5;124m\"\u001b[39m:\u001b[38;5;124m\"\u001b[39m\u001b[38;5;124mcontent\u001b[39m\u001b[38;5;124m\"\u001b[39m})][\u001b[38;5;241m1\u001b[39m:]\n\u001b[0;32m     37\u001b[0m     headlines2 \u001b[38;5;241m=\u001b[39m [i\u001b[38;5;241m.\u001b[39mtext \u001b[38;5;28;01mfor\u001b[39;00m i \u001b[38;5;129;01min\u001b[39;00m soup\u001b[38;5;241m.\u001b[39mfind_all(\u001b[38;5;124m\"\u001b[39m\u001b[38;5;124mh2\u001b[39m\u001b[38;5;124m\"\u001b[39m,{\u001b[38;5;124m\"\u001b[39m\u001b[38;5;124mclass\u001b[39m\u001b[38;5;124m\"\u001b[39m:\u001b[38;5;124m\"\u001b[39m\u001b[38;5;124mtitle\u001b[39m\u001b[38;5;124m\"\u001b[39m})][\u001b[38;5;241m2\u001b[39m:]\n",
      "File \u001b[1;32m~\\anaconda3\\lib\\site-packages\\bs4\\__init__.py:248\u001b[0m, in \u001b[0;36mBeautifulSoup.__init__\u001b[1;34m(self, markup, features, builder, parse_only, from_encoding, exclude_encodings, element_classes, **kwargs)\u001b[0m\n\u001b[0;32m    246\u001b[0m     builder_class \u001b[38;5;241m=\u001b[39m builder_registry\u001b[38;5;241m.\u001b[39mlookup(\u001b[38;5;241m*\u001b[39mfeatures)\n\u001b[0;32m    247\u001b[0m     \u001b[38;5;28;01mif\u001b[39;00m builder_class \u001b[38;5;129;01mis\u001b[39;00m \u001b[38;5;28;01mNone\u001b[39;00m:\n\u001b[1;32m--> 248\u001b[0m         \u001b[38;5;28;01mraise\u001b[39;00m FeatureNotFound(\n\u001b[0;32m    249\u001b[0m             \u001b[38;5;124m\"\u001b[39m\u001b[38;5;124mCouldn\u001b[39m\u001b[38;5;124m'\u001b[39m\u001b[38;5;124mt find a tree builder with the features you \u001b[39m\u001b[38;5;124m\"\u001b[39m\n\u001b[0;32m    250\u001b[0m             \u001b[38;5;124m\"\u001b[39m\u001b[38;5;124mrequested: \u001b[39m\u001b[38;5;132;01m%s\u001b[39;00m\u001b[38;5;124m. Do you need to install a parser library?\u001b[39m\u001b[38;5;124m\"\u001b[39m\n\u001b[0;32m    251\u001b[0m             \u001b[38;5;241m%\u001b[39m \u001b[38;5;124m\"\u001b[39m\u001b[38;5;124m,\u001b[39m\u001b[38;5;124m\"\u001b[39m\u001b[38;5;241m.\u001b[39mjoin(features))\n\u001b[0;32m    253\u001b[0m \u001b[38;5;66;03m# At this point either we have a TreeBuilder instance in\u001b[39;00m\n\u001b[0;32m    254\u001b[0m \u001b[38;5;66;03m# builder, or we have a builder_class that we can instantiate\u001b[39;00m\n\u001b[0;32m    255\u001b[0m \u001b[38;5;66;03m# with the remaining **kwargs.\u001b[39;00m\n\u001b[0;32m    256\u001b[0m \u001b[38;5;28;01mif\u001b[39;00m builder \u001b[38;5;129;01mis\u001b[39;00m \u001b[38;5;28;01mNone\u001b[39;00m:\n",
      "\u001b[1;31mFeatureNotFound\u001b[0m: Couldn't find a tree builder with the features you requested: html5lib. Do you need to install a parser library?"
     ]
    }
   ],
   "source": [
    "import os\n",
    "import requests\n",
    "from selenium import webdriver\n",
    "from selenium.webdriver.common.by import By\n",
    "from selenium.webdriver.support.ui import WebDriverWait\n",
    "from selenium.webdriver.support import expected_conditions as EC\n",
    "import time\n",
    "\n",
    "from bs4 import BeautifulSoup\n",
    "import pandas as pd\n",
    "from tqdm.auto import tqdm\n",
    "browser = webdriver.Chrome(r'D:\\OneDrive - NITT\\Custom_Download\\chromedriver.exe')\n",
    "\n",
    "# response = requests.get(sector_page_link)\n",
    "    \n",
    "# soup = BeautifulSoup(response.text)\n",
    "\n",
    "df2 = pd.DataFrame(columns=['Headline', 'Date', 'Query', 'News'])\n",
    "\n",
    "for query in tqdm(['covid', 'ukraine', 'roe v wade', 'climate change', 'Biden', 'Trump']):\n",
    "    url2 = f'https://www.foxnews.com/search-results/search?q={query}'\n",
    "#     browser.get(url2)\n",
    "#     time.sleep(10)\n",
    "     # wait = WebDriverWait(browser, 1)\n",
    "      # wait.until(EC.visibility_of_element_located((By.CSS_SELECTOR, 'container__description')))\n",
    "\n",
    "#     response = requests.get(url2)\n",
    "#     soup = BeautifulSoup(response.text)\n",
    "    \n",
    "    soup = BeautifulSoup(browser.page_source, 'html5lib')\n",
    "\n",
    "    texts2 = [i.text for i in soup.find_all(\"div\",{\"class\":\"content\"})][1:]\n",
    "\n",
    "        \n",
    "        \n",
    "        \n",
    "    headlines2 = [i.text for i in soup.find_all(\"h2\",{\"class\":\"title\"})][2:]\n",
    "    timestamps2 = [i.text for i in soup.find_all(\"span\",{\"class\":\"time\"})][1:]\n",
    "\n",
    "    temp_df2 = pd.DataFrame(columns=['Headline', 'Date', 'Query', 'News', 'Source'])\n",
    "    temp_df2['Headline'] = headlines2\n",
    "    temp_df2['Query'] = query\n",
    "    temp_df2['Date'] = timestamps2\n",
    "    temp_df2['News'] = texts2\n",
    "    temp_df2['Source'] = 'Fox'\n",
    "\n",
    "    print(type(temp_df2))\n",
    "    \n",
    "#     temp_df2.Headline = temp_df2.Headline.str.replace('\\n', '')\n",
    "#     temp_df2.Date = temp_df2.Date.str.replace('\\n', '')\n",
    "#     temp_df2.News = temp_df2.News.str.replace('\\n', '')\n",
    "\n",
    "    df2 = pd.concat([df2, temp_df2], ignore_index=True)\n",
    "    print(df2.shape)\n",
    "    \n",
    "\n",
    "# df2.to_excel('./fox.xlsx', index=False)\n"
   ]
  },
  {
   "cell_type": "code",
   "execution_count": null,
   "id": "2d9a1175",
   "metadata": {},
   "outputs": [],
   "source": []
  }
 ],
 "metadata": {
  "kernelspec": {
   "display_name": "Python 3 (ipykernel)",
   "language": "python",
   "name": "python3"
  },
  "language_info": {
   "codemirror_mode": {
    "name": "ipython",
    "version": 3
   },
   "file_extension": ".py",
   "mimetype": "text/x-python",
   "name": "python",
   "nbconvert_exporter": "python",
   "pygments_lexer": "ipython3",
   "version": "3.9.12"
  }
 },
 "nbformat": 4,
 "nbformat_minor": 5
}
