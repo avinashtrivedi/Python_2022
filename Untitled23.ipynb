{
 "cells": [
  {
   "cell_type": "code",
   "execution_count": 1,
   "metadata": {},
   "outputs": [],
   "source": [
    "import pandas as pd"
   ]
  },
  {
   "cell_type": "code",
   "execution_count": 2,
   "metadata": {},
   "outputs": [],
   "source": [
    "df = pd.read_csv('MPS Borough Level Crime (most recent 24 months).csv')"
   ]
  },
  {
   "cell_type": "code",
   "execution_count": 5,
   "metadata": {},
   "outputs": [
    {
     "data": {
      "text/plain": [
       "1550"
      ]
     },
     "execution_count": 5,
     "metadata": {},
     "output_type": "execute_result"
    }
   ],
   "source": [
    "df['202001'].max()"
   ]
  },
  {
   "cell_type": "code",
   "execution_count": 7,
   "metadata": {},
   "outputs": [
    {
     "data": {
      "text/html": [
       "<div>\n",
       "<style scoped>\n",
       "    .dataframe tbody tr th:only-of-type {\n",
       "        vertical-align: middle;\n",
       "    }\n",
       "\n",
       "    .dataframe tbody tr th {\n",
       "        vertical-align: top;\n",
       "    }\n",
       "\n",
       "    .dataframe thead th {\n",
       "        text-align: right;\n",
       "    }\n",
       "</style>\n",
       "<table border=\"1\" class=\"dataframe\">\n",
       "  <thead>\n",
       "    <tr style=\"text-align: right;\">\n",
       "      <th></th>\n",
       "      <th>MajorText</th>\n",
       "      <th>MinorText</th>\n",
       "      <th>LookUp_BoroughName</th>\n",
       "      <th>202001</th>\n",
       "      <th>202002</th>\n",
       "      <th>202003</th>\n",
       "      <th>202004</th>\n",
       "      <th>202005</th>\n",
       "      <th>202006</th>\n",
       "      <th>202007</th>\n",
       "      <th>...</th>\n",
       "      <th>202103</th>\n",
       "      <th>202104</th>\n",
       "      <th>202105</th>\n",
       "      <th>202106</th>\n",
       "      <th>202107</th>\n",
       "      <th>202108</th>\n",
       "      <th>202109</th>\n",
       "      <th>202110</th>\n",
       "      <th>202111</th>\n",
       "      <th>202112</th>\n",
       "    </tr>\n",
       "  </thead>\n",
       "  <tbody>\n",
       "    <tr>\n",
       "      <th>1545</th>\n",
       "      <td>Theft</td>\n",
       "      <td>Other Theft</td>\n",
       "      <td>Westminster</td>\n",
       "      <td>1550</td>\n",
       "      <td>1849</td>\n",
       "      <td>1044</td>\n",
       "      <td>131</td>\n",
       "      <td>183</td>\n",
       "      <td>302</td>\n",
       "      <td>732</td>\n",
       "      <td>...</td>\n",
       "      <td>233</td>\n",
       "      <td>463</td>\n",
       "      <td>633</td>\n",
       "      <td>876</td>\n",
       "      <td>1113</td>\n",
       "      <td>988</td>\n",
       "      <td>1041</td>\n",
       "      <td>1506</td>\n",
       "      <td>1422</td>\n",
       "      <td>1404</td>\n",
       "    </tr>\n",
       "  </tbody>\n",
       "</table>\n",
       "<p>1 rows × 27 columns</p>\n",
       "</div>"
      ],
      "text/plain": [
       "     MajorText    MinorText LookUp_BoroughName  202001  202002  202003  \\\n",
       "1545     Theft  Other Theft        Westminster    1550    1849    1044   \n",
       "\n",
       "      202004  202005  202006  202007  ...  202103  202104  202105  202106  \\\n",
       "1545     131     183     302     732  ...     233     463     633     876   \n",
       "\n",
       "      202107  202108  202109  202110  202111  202112  \n",
       "1545    1113     988    1041    1506    1422    1404  \n",
       "\n",
       "[1 rows x 27 columns]"
      ]
     },
     "execution_count": 7,
     "metadata": {},
     "output_type": "execute_result"
    }
   ],
   "source": [
    "df[df['202001']==1550]"
   ]
  },
  {
   "cell_type": "code",
   "execution_count": null,
   "metadata": {},
   "outputs": [],
   "source": []
  }
 ],
 "metadata": {
  "kernelspec": {
   "display_name": "Python 3",
   "language": "python",
   "name": "python3"
  },
  "language_info": {
   "codemirror_mode": {
    "name": "ipython",
    "version": 3
   },
   "file_extension": ".py",
   "mimetype": "text/x-python",
   "name": "python",
   "nbconvert_exporter": "python",
   "pygments_lexer": "ipython3",
   "version": "3.8.5"
  }
 },
 "nbformat": 4,
 "nbformat_minor": 4
}
