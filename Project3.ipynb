{
 "cells": [
  {
   "cell_type": "code",
   "execution_count": 1,
   "metadata": {
    "id": "WxBSchR-UG4a"
   },
   "outputs": [],
   "source": [
    "import pandas as pd\n",
    "import numpy as np\n",
    "import matplotlib.pyplot as plt \n",
    "import seaborn as sns\n",
    "import pickle\n",
    "import warnings\n",
    "warnings.filterwarnings('ignore')\n",
    "\n",
    "import pandas as pd\n",
    "import numpy as np\n",
    "import matplotlib.pyplot as plt\n",
    "%matplotlib inline\n"
   ]
  },
  {
   "cell_type": "code",
   "execution_count": null,
   "metadata": {},
   "outputs": [],
   "source": [
    "# !pip install --upgrade pandas==1.3.4"
   ]
  },
  {
   "cell_type": "code",
   "execution_count": 2,
   "metadata": {},
   "outputs": [],
   "source": [
    "df = pd.read_pickle(r\"D:\\OneDrive - NITT\\Custom_Download\\vectorized.pkl\")  "
   ]
  },
  {
   "cell_type": "code",
   "execution_count": 3,
   "metadata": {},
   "outputs": [
    {
     "data": {
      "text/html": [
       "<div>\n",
       "<style scoped>\n",
       "    .dataframe tbody tr th:only-of-type {\n",
       "        vertical-align: middle;\n",
       "    }\n",
       "\n",
       "    .dataframe tbody tr th {\n",
       "        vertical-align: top;\n",
       "    }\n",
       "\n",
       "    .dataframe thead th {\n",
       "        text-align: right;\n",
       "    }\n",
       "</style>\n",
       "<table border=\"1\" class=\"dataframe\">\n",
       "  <thead>\n",
       "    <tr style=\"text-align: right;\">\n",
       "      <th></th>\n",
       "      <th>type</th>\n",
       "      <th>posts</th>\n",
       "      <th>vectors</th>\n",
       "    </tr>\n",
       "  </thead>\n",
       "  <tbody>\n",
       "    <tr>\n",
       "      <th>0</th>\n",
       "      <td>INFJ</td>\n",
       "      <td>moment sportscenter top prankswhat lifechangin...</td>\n",
       "      <td>[[0.29492, 0.56874, -0.20245, 0.50244, -0.6829...</td>\n",
       "    </tr>\n",
       "    <tr>\n",
       "      <th>1</th>\n",
       "      <td>ENTP</td>\n",
       "      <td>lack post alarming.sex bore position . example...</td>\n",
       "      <td>[[-0.45433, 1.0234, 0.024278, -0.086367, -0.69...</td>\n",
       "    </tr>\n",
       "    <tr>\n",
       "      <th>2</th>\n",
       "      <td>INTP</td>\n",
       "      <td>good course blessing positive good friend amaz...</td>\n",
       "      <td>[[-0.37628, 0.37102, 0.32594, -0.085084, -0.55...</td>\n",
       "    </tr>\n",
       "    <tr>\n",
       "      <th>3</th>\n",
       "      <td>INTJ</td>\n",
       "      <td>dear conversation day . esoteric gabbing natur...</td>\n",
       "      <td>[[-0.91091, 0.50459, 0.058175, -0.78618, 0.088...</td>\n",
       "    </tr>\n",
       "    <tr>\n",
       "      <th>4</th>\n",
       "      <td>ENTJ</td>\n",
       "      <td>silly misconception . approach key unlocking e...</td>\n",
       "      <td>[[0.13739, 0.77891, 0.80054, 0.13819, -0.49792...</td>\n",
       "    </tr>\n",
       "    <tr>\n",
       "      <th>...</th>\n",
       "      <td>...</td>\n",
       "      <td>...</td>\n",
       "      <td>...</td>\n",
       "    </tr>\n",
       "    <tr>\n",
       "      <th>8670</th>\n",
       "      <td>ISFP</td>\n",
       "      <td>cat fi dom reason . website neo nazis perc.im ...</td>\n",
       "      <td>[[-0.11752, 0.97272, -0.29021, 0.25914, -0.426...</td>\n",
       "    </tr>\n",
       "    <tr>\n",
       "      <th>8671</th>\n",
       "      <td>ENFP</td>\n",
       "      <td>thread someplace hereooop movie watch thread t...</td>\n",
       "      <td>[[0.13482, 0.40224, -0.42266, -0.055631, -0.55...</td>\n",
       "    </tr>\n",
       "    <tr>\n",
       "      <th>8672</th>\n",
       "      <td>INTP</td>\n",
       "      <td>many question thing . purple pill . win lotter...</td>\n",
       "      <td>[[0.29492, 0.56874, -0.20245, 0.50244, -0.6829...</td>\n",
       "    </tr>\n",
       "    <tr>\n",
       "      <th>8673</th>\n",
       "      <td>INFP</td>\n",
       "      <td>conflict child . maternal instinct . none clos...</td>\n",
       "      <td>[[-0.11752, 0.97272, -0.29021, 0.25914, -0.426...</td>\n",
       "    </tr>\n",
       "    <tr>\n",
       "      <th>8674</th>\n",
       "      <td>INFP</td>\n",
       "      <td>personalitycafe change bit good . doctor world...</td>\n",
       "      <td>[[-0.6517, 0.80484, 0.048731, 0.37962, -1.1151...</td>\n",
       "    </tr>\n",
       "  </tbody>\n",
       "</table>\n",
       "<p>8675 rows × 3 columns</p>\n",
       "</div>"
      ],
      "text/plain": [
       "      type                                              posts  \\\n",
       "0     INFJ  moment sportscenter top prankswhat lifechangin...   \n",
       "1     ENTP  lack post alarming.sex bore position . example...   \n",
       "2     INTP  good course blessing positive good friend amaz...   \n",
       "3     INTJ  dear conversation day . esoteric gabbing natur...   \n",
       "4     ENTJ  silly misconception . approach key unlocking e...   \n",
       "...    ...                                                ...   \n",
       "8670  ISFP  cat fi dom reason . website neo nazis perc.im ...   \n",
       "8671  ENFP  thread someplace hereooop movie watch thread t...   \n",
       "8672  INTP  many question thing . purple pill . win lotter...   \n",
       "8673  INFP  conflict child . maternal instinct . none clos...   \n",
       "8674  INFP  personalitycafe change bit good . doctor world...   \n",
       "\n",
       "                                                vectors  \n",
       "0     [[0.29492, 0.56874, -0.20245, 0.50244, -0.6829...  \n",
       "1     [[-0.45433, 1.0234, 0.024278, -0.086367, -0.69...  \n",
       "2     [[-0.37628, 0.37102, 0.32594, -0.085084, -0.55...  \n",
       "3     [[-0.91091, 0.50459, 0.058175, -0.78618, 0.088...  \n",
       "4     [[0.13739, 0.77891, 0.80054, 0.13819, -0.49792...  \n",
       "...                                                 ...  \n",
       "8670  [[-0.11752, 0.97272, -0.29021, 0.25914, -0.426...  \n",
       "8671  [[0.13482, 0.40224, -0.42266, -0.055631, -0.55...  \n",
       "8672  [[0.29492, 0.56874, -0.20245, 0.50244, -0.6829...  \n",
       "8673  [[-0.11752, 0.97272, -0.29021, 0.25914, -0.426...  \n",
       "8674  [[-0.6517, 0.80484, 0.048731, 0.37962, -1.1151...  \n",
       "\n",
       "[8675 rows x 3 columns]"
      ]
     },
     "execution_count": 3,
     "metadata": {},
     "output_type": "execute_result"
    }
   ],
   "source": [
    "df"
   ]
  },
  {
   "cell_type": "code",
   "execution_count": null,
   "metadata": {},
   "outputs": [],
   "source": []
  },
  {
   "cell_type": "code",
   "execution_count": null,
   "metadata": {
    "id": "aurlqWI1VMP5"
   },
   "outputs": [],
   "source": [
    "from sklearn.ensemble import RandomForestClassifier\n",
    "from sklearn.model_selection import train_test_split, GridSearchCV\n",
    "from sklearn.metrics import accuracy_score, recall_score\n"
   ]
  },
  {
   "cell_type": "code",
   "execution_count": null,
   "metadata": {
    "colab": {
     "base_uri": "https://localhost:8080/",
     "height": 224
    },
    "id": "LESb2My_VUd4",
    "outputId": "4790f3c7-38c2-4512-da64-343d60471aef"
   },
   "outputs": [],
   "source": [
    "# MBTI = pd.read_csv('mbti_1.csv', engine = 'python', error_bad_lines=False)\n",
    "# MBTI.head()"
   ]
  },
  {
   "cell_type": "code",
   "execution_count": null,
   "metadata": {
    "id": "A-nKN1e5VBkZ"
   },
   "outputs": [],
   "source": [
    "mbti_types = ['INFP','INFJ','INTP','INTJ','ENTP','ENFP','ISTP','ISFP','ENTJ','ISTJ','ENFJ','ISFJ','ESTP','ESFP','ESFJ','ESTJ']\n",
    "Feature_Importance = pd.DataFrame()"
   ]
  },
  {
   "cell_type": "code",
   "execution_count": null,
   "metadata": {
    "id": "1s5hOMv6ZEc0"
   },
   "outputs": [],
   "source": [
    "# categorical_features = [\"type\", \"posts\"]\n",
    "\n",
    "# for i in range(len(categorical_features)):\n",
    "#     sns.countplot(data = MBTI, x = categorical_features[i], hue = 'type')\n",
    "#     plt.xticks(rotation=90)\n",
    "#     plt.show()"
   ]
  },
  {
   "cell_type": "code",
   "execution_count": null,
   "metadata": {
    "colab": {
     "base_uri": "https://localhost:8080/"
    },
    "id": "X-vgQ123YGpq",
    "outputId": "cbc49ad7-a12a-435d-a26c-840e8e11f1a4"
   },
   "outputs": [],
   "source": [
    "from sklearn.model_selection import train_test_split\n",
    "from sklearn.model_selection import StratifiedShuffleSplit \n",
    "\n",
    "sss = StratifiedShuffleSplit(n_splits=1, test_size=0.5, random_state=0)       \n",
    "   \n",
    "for train_index, test_index in sss.split(MBTI, MBTI[\"type\"]):\n",
    "    print(\"TRAIN:\", train_index, \"TEST:\", test_index)\n",
    "    X_train, X_test = MBTI.iloc[train_index], MBTI.iloc[test_index]\n",
    "    y_train, y_test = MBTI[\"type\"].iloc[train_index], MBTI[\"type\"].iloc[test_index]\n",
    "\n",
    "#Sort by index and drop new coloumn created by the preprocessing\n",
    "X_train = X_train.sort_index(ascending=True)\n",
    "X_test = X_test.sort_index(ascending=True)\n",
    "y_train = y_train.sort_index(ascending=True)\n",
    "y_test = y_test.sort_index(ascending=True)"
   ]
  },
  {
   "cell_type": "code",
   "execution_count": null,
   "metadata": {
    "colab": {
     "base_uri": "https://localhost:8080/",
     "height": 389
    },
    "id": "JyPxrDXYcprU",
    "outputId": "87361744-4e6d-4e21-8399-cc190ea4cf5e"
   },
   "outputs": [],
   "source": [
    "scaler = StandardScaler()\n",
    "X_train = scaler.fit_transform(X_train) \n",
    "X_test = scaler.transform(X_test)\n",
    "\n",
    "\n",
    "X_train = np.hstack([np.ones((X_train.shape[0], 1)), X_train])\n",
    "X_test = np.hstack([np.ones((X_test.shape[0], 1)), X_test])\n"
   ]
  },
  {
   "cell_type": "code",
   "execution_count": null,
   "metadata": {
    "colab": {
     "base_uri": "https://localhost:8080/",
     "height": 389
    },
    "id": "zrdhWTFbVG5c",
    "outputId": "533d2c45-3cf7-4933-f665-a988ce101511"
   },
   "outputs": [],
   "source": [
    "from sklearn.svm import LinearSVC\n",
    "from sklearn.pipeline import make_pipeline\n",
    "from sklearn.preprocessing import StandardScaler\n",
    "from sklearn.datasets import make_classification\n",
    "from sklearn.metrics import classification_report, confusion_matrix\n",
    "C = 100\n",
    "svc_model1=LinearSVC(loss='hinge', C = 0.1)\n",
    "svc_model1.fit(X_train, y_train)\n",
    "y_predict = svc_model1.predict(X_test)\n",
    "cm = np.array(confusion_matrix(y_test, y_predict, labels=[1,0]))\n",
    "print(\"Accuracy of test data\")\n",
    "confusion = pd.DataFrame(cm,index=['is_cancer','is_healthy'],columns=\n",
    "                        ['predicted_cancer','predicted_healthy'])\n",
    "confusion\n",
    "sns.heatmap(confusion,annot=True)\n",
    "print(classification_report(y_test,y_predict))"
   ]
  },
  {
   "cell_type": "code",
   "execution_count": null,
   "metadata": {
    "id": "-dU2NspvcgrU"
   },
   "outputs": [],
   "source": []
  }
 ],
 "metadata": {
  "accelerator": "GPU",
  "colab": {
   "provenance": []
  },
  "gpuClass": "standard",
  "kernelspec": {
   "display_name": "Python 3 (ipykernel)",
   "language": "python",
   "name": "python3"
  },
  "language_info": {
   "codemirror_mode": {
    "name": "ipython",
    "version": 3
   },
   "file_extension": ".py",
   "mimetype": "text/x-python",
   "name": "python",
   "nbconvert_exporter": "python",
   "pygments_lexer": "ipython3",
   "version": "3.9.12"
  }
 },
 "nbformat": 4,
 "nbformat_minor": 1
}
