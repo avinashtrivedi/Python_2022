{
 "cells": [
  {
   "cell_type": "code",
   "execution_count": null,
   "metadata": {},
   "outputs": [],
   "source": [
    "myset = set()\n",
    "mylist = [\"hi\", 1, 2, 4, 4, \"hi\"]\n",
    "\n",
    "myset_of_lst = set(mylist)\n",
    "\n",
    "print(myset_of_lst)"
   ]
  },
  {
   "cell_type": "code",
   "execution_count": null,
   "metadata": {},
   "outputs": [],
   "source": []
  },
  {
   "cell_type": "code",
   "execution_count": null,
   "metadata": {},
   "outputs": [],
   "source": [
    "myset = set()\n",
    "mylist = [\"hi\", 1, 2, 4, 4, \"hi\"]\n",
    "\n",
    "myset_of_lst = set(mylist)\n",
    "\n",
    "print(myset_of_lst)"
   ]
  },
  {
   "cell_type": "code",
   "execution_count": 22,
   "metadata": {},
   "outputs": [],
   "source": [
    "x = list(range(10000000000000000000000000000000000000000))\n",
    "y = set(x)"
   ]
  },
  {
   "cell_type": "code",
   "execution_count": 23,
   "metadata": {},
   "outputs": [
    {
     "data": {
      "text/plain": [
       "list"
      ]
     },
     "execution_count": 23,
     "metadata": {},
     "output_type": "execute_result"
    }
   ],
   "source": [
    "type(x)"
   ]
  },
  {
   "cell_type": "code",
   "execution_count": 24,
   "metadata": {},
   "outputs": [
    {
     "data": {
      "text/plain": [
       "set"
      ]
     },
     "execution_count": 24,
     "metadata": {},
     "output_type": "execute_result"
    }
   ],
   "source": [
    "type(y)"
   ]
  },
  {
   "cell_type": "code",
   "execution_count": 25,
   "metadata": {},
   "outputs": [
    {
     "name": "stdout",
     "output_type": "stream",
     "text": [
      "Wall time: 35.3 ms\n"
     ]
    }
   ],
   "source": [
    "%%time\n",
    "# list\n",
    "for i in x:\n",
    "    pass"
   ]
  },
  {
   "cell_type": "code",
   "execution_count": null,
   "metadata": {},
   "outputs": [],
   "source": []
  },
  {
   "cell_type": "code",
   "execution_count": 26,
   "metadata": {},
   "outputs": [
    {
     "name": "stdout",
     "output_type": "stream",
     "text": [
      "Wall time: 42.1 ms\n"
     ]
    }
   ],
   "source": [
    "%%time\n",
    "# set\n",
    "for i in y:\n",
    "    pass"
   ]
  },
  {
   "cell_type": "code",
   "execution_count": 6,
   "metadata": {},
   "outputs": [],
   "source": [
    "mylist = \"Thanks to PyTorch’s ability to calculate gradients automatically, we can use any standard Python function (or callable object) as a model! So let’s just write a plain matrix multiplication and broadcasted addition to create a simple linear model. We also need an activation function, so we’ll write log_softmax and use it. Remember: although PyTorch provides lots of pre-written loss functions, activation functions, and so forth, you can easily write your own using plain python. PyTorch will even create fast GPU or vectorized CPU code for your function automatically\""
   ]
  },
  {
   "cell_type": "code",
   "execution_count": 8,
   "metadata": {},
   "outputs": [],
   "source": [
    "mylist = mylist.split()"
   ]
  },
  {
   "cell_type": "code",
   "execution_count": 9,
   "metadata": {},
   "outputs": [
    {
     "data": {
      "text/plain": [
       "['Thanks',\n",
       " 'to',\n",
       " 'PyTorch’s',\n",
       " 'ability',\n",
       " 'to',\n",
       " 'calculate',\n",
       " 'gradients',\n",
       " 'automatically,',\n",
       " 'we',\n",
       " 'can',\n",
       " 'use',\n",
       " 'any',\n",
       " 'standard',\n",
       " 'Python',\n",
       " 'function',\n",
       " '(or',\n",
       " 'callable',\n",
       " 'object)',\n",
       " 'as',\n",
       " 'a',\n",
       " 'model!',\n",
       " 'So',\n",
       " 'let’s',\n",
       " 'just',\n",
       " 'write',\n",
       " 'a',\n",
       " 'plain',\n",
       " 'matrix',\n",
       " 'multiplication',\n",
       " 'and',\n",
       " 'broadcasted',\n",
       " 'addition',\n",
       " 'to',\n",
       " 'create',\n",
       " 'a',\n",
       " 'simple',\n",
       " 'linear',\n",
       " 'model.',\n",
       " 'We',\n",
       " 'also',\n",
       " 'need',\n",
       " 'an',\n",
       " 'activation',\n",
       " 'function,',\n",
       " 'so',\n",
       " 'we’ll',\n",
       " 'write',\n",
       " 'log_softmax',\n",
       " 'and',\n",
       " 'use',\n",
       " 'it.',\n",
       " 'Remember:',\n",
       " 'although',\n",
       " 'PyTorch',\n",
       " 'provides',\n",
       " 'lots',\n",
       " 'of',\n",
       " 'pre-written',\n",
       " 'loss',\n",
       " 'functions,',\n",
       " 'activation',\n",
       " 'functions,',\n",
       " 'and',\n",
       " 'so',\n",
       " 'forth,',\n",
       " 'you',\n",
       " 'can',\n",
       " 'easily',\n",
       " 'write',\n",
       " 'your',\n",
       " 'own',\n",
       " 'using',\n",
       " 'plain',\n",
       " 'python.',\n",
       " 'PyTorch',\n",
       " 'will',\n",
       " 'even',\n",
       " 'create',\n",
       " 'fast',\n",
       " 'GPU',\n",
       " 'or',\n",
       " 'vectorized',\n",
       " 'CPU',\n",
       " 'code',\n",
       " 'for',\n",
       " 'your',\n",
       " 'function',\n",
       " 'automatically']"
      ]
     },
     "execution_count": 9,
     "metadata": {},
     "output_type": "execute_result"
    }
   ],
   "source": [
    "set(mylist)"
   ]
  },
  {
   "cell_type": "code",
   "execution_count": null,
   "metadata": {},
   "outputs": [],
   "source": []
  }
 ],
 "metadata": {
  "kernelspec": {
   "display_name": "Python 3",
   "language": "python",
   "name": "python3"
  },
  "language_info": {
   "codemirror_mode": {
    "name": "ipython",
    "version": 3
   },
   "file_extension": ".py",
   "mimetype": "text/x-python",
   "name": "python",
   "nbconvert_exporter": "python",
   "pygments_lexer": "ipython3",
   "version": "3.8.5"
  }
 },
 "nbformat": 4,
 "nbformat_minor": 4
}
