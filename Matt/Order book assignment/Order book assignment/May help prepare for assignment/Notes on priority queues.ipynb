{
 "cells": [
  {
   "cell_type": "markdown",
   "metadata": {},
   "source": [
    "# The Order Book\n",
    "\n",
    "## When we implement an order book for some asset (coming as a homework assignment soon), we store customer's bids and asks. \n",
    "\n",
    "## These include for a bidder:\n",
    "## &nbsp;&nbsp;&nbsp;&nbsp; the identity of the bidder,\n",
    "## &nbsp;&nbsp;&nbsp;&nbsp; the price they are willing to pay,\n",
    "## &nbsp;&nbsp;&nbsp;&nbsp; the number of units they want to buy\n",
    "## &nbsp;&nbsp;&nbsp;&nbsp; the timestamp for which the order is received.\n",
    "\n",
    "## And for an asker:\n",
    "## &nbsp;&nbsp;&nbsp;&nbsp; the identity of the asker,\n",
    "## &nbsp;&nbsp;&nbsp;&nbsp; the price at whcih they are willing to sell,\n",
    "## &nbsp;&nbsp;&nbsp;&nbsp; the number of units they want to sell\n",
    "## &nbsp;&nbsp;&nbsp;&nbsp; the timestamp for which the order is received.\n",
    "\n",
    "\n",
    "## It is the job of the order book maintainer to match buyers and sellers.\n",
    "## How is this done? As soon as there is a list of bidder/asker pairs with bidders price at or above an  asker's price, a trade should take place. \n",
    "## But which trade happens first?\n",
    "\n",
    "## A rule is needed for deciding whose bid is accepted first, and whose ask is accepted first.\n",
    "\n",
    "## Here is a typical rule for bidders:\n",
    "\n",
    "## &nbsp;&nbsp;&nbsp;&nbsp; The highest priced bid gets highest priority.\n",
    "## &nbsp;&nbsp;&nbsp;&nbsp; In cases of ties, the bid with the earlies time stamp gets highest priority.\n",
    "\n",
    "## And for askers:\n",
    "## &nbsp;&nbsp;&nbsp;&nbsp; The lowest price asked gets highest priority.\n",
    "## &nbsp;&nbsp;&nbsp;&nbsp; In cases of ties, the ask with the earlies time stamp gets highest priority.\n",
    "\n",
    "\n"
   ]
  },
  {
   "cell_type": "markdown",
   "metadata": {},
   "source": [
    "# Priority Queues in Python\n",
    "\n",
    "## A priority queue is a collection that objects can be added to one at a time. \n",
    "\n",
    "## For some objects (like ints or floats) there is a natural ordering, so priority is determined using the usual ordering (lower numbers get first priority. \n",
    "\n",
    "## We can put things in the queue and get things out of the queue.\n",
    "\n",
    "## To illustrate, lets create a list of random numbers and put them into the queue.\n"
   ]
  },
  {
   "cell_type": "code",
   "execution_count": 1,
   "metadata": {},
   "outputs": [
    {
     "name": "stdout",
     "output_type": "stream",
     "text": [
      "[12  1  5  4  3  8  3  4  6 13 12  0 11  4  5]\n"
     ]
    }
   ],
   "source": [
    "import numpy as np\n",
    "import queue\n",
    "\n",
    "PQ=queue.PriorityQueue() # create a priorty queue\n",
    "\n",
    "L=np.random.choice(range(15),size=15)\n",
    "print(L)\n",
    "\n",
    "\n",
    "for x in L:\n",
    "    PQ.put(x)"
   ]
  },
  {
   "cell_type": "markdown",
   "metadata": {},
   "source": [
    "## Now we pop from the queue in order of priority. When we do a get, the element with the highest priority is removed from the queue."
   ]
  },
  {
   "cell_type": "code",
   "execution_count": 2,
   "metadata": {},
   "outputs": [
    {
     "name": "stdout",
     "output_type": "stream",
     "text": [
      "0\n",
      "1\n",
      "3\n",
      "3\n",
      "4\n",
      "4\n",
      "4\n",
      "5\n",
      "5\n",
      "6\n",
      "8\n",
      "11\n",
      "12\n",
      "12\n",
      "13\n"
     ]
    }
   ],
   "source": [
    "while not PQ.empty():\n",
    "    x=PQ.get()\n",
    "    print(x)"
   ]
  },
  {
   "cell_type": "markdown",
   "metadata": {},
   "source": [
    "## If we want to inspect a queue, we need to be careful because the get operation removes the element from the queue.\n",
    "\n",
    "## One way to inspect the queue is to remove elements one at a time, store them in a list, then move them back into the queue."
   ]
  },
  {
   "cell_type": "code",
   "execution_count": 6,
   "metadata": {},
   "outputs": [
    {
     "name": "stdout",
     "output_type": "stream",
     "text": [
      "[11 14  9 14  3 12 11  0  3 10  5 13  0  0  5]\n",
      "[0, 0, 0, 3, 3, 5, 5, 9, 10, 11, 11, 12, 13, 14, 14]\n",
      "[0, 0, 0, 3, 3, 5, 5, 9, 10, 11, 11, 12, 13, 14, 14]\n"
     ]
    }
   ],
   "source": [
    "import numpy as np\n",
    "import queue\n",
    "\n",
    "#\n",
    "# create the queue and load stuff into it\n",
    "#\n",
    "PQ=queue.PriorityQueue()\n",
    "L=np.random.choice(range(15),size=15)\n",
    "print(L)\n",
    "for x in L:\n",
    "    PQ.put(x)\n",
    "    \n",
    "#\n",
    "# remove one at a time and store in a list\n",
    "#\n",
    "PQ2=queue.PriorityQueue()\n",
    "L=[]\n",
    "while not PQ.empty():\n",
    "    x=PQ.get()\n",
    "    PQ2.put(x)\n",
    "    L.append(x)\n",
    "print(L)\n",
    "#\n",
    "# put the list elements back in the queue\n",
    "#\n",
    "while not PQ2.empty():\n",
    "    x=PQ2.get()\n",
    "    PQ.put(x)\n",
    "\n",
    "\n",
    "print(L)"
   ]
  },
  {
   "cell_type": "code",
   "execution_count": null,
   "metadata": {},
   "outputs": [],
   "source": [
    "## So here is a function to make a list (in priority order) from a priority queue and reload it."
   ]
  },
  {
   "cell_type": "code",
   "execution_count": 21,
   "metadata": {},
   "outputs": [
    {
     "name": "stdout",
     "output_type": "stream",
     "text": [
      "[13 13  0  0  9  8  2 12 13  0 13  3 10  6  2]\n",
      "[0, 0, 0, 2, 2, 3, 6, 8, 9, 10, 12, 13, 13, 13, 13]\n"
     ]
    }
   ],
   "source": [
    "def list_from_queue(PQ):\n",
    "    L=[]\n",
    "    while not PQ.empty():\n",
    "        L.append(PQ.get())\n",
    "    for x in L:\n",
    "        PQ.put(x)\n",
    "    return(L,PQ)\n",
    "#\n",
    "# Create and load a priority queue\n",
    "#\n",
    "PQ=queue.PriorityQueue()\n",
    "L=np.random.choice(range(15),size=15)\n",
    "print(L)\n",
    "for x in L:\n",
    "    PQ.put(x)\n",
    "#\n",
    "# Get list from queue\n",
    "#   \n",
    "L,PQ=list_from_queue(PQ)\n",
    "print(L)"
   ]
  },
  {
   "cell_type": "markdown",
   "metadata": {},
   "source": [
    "## How do we create an alternative ordering of elements for a queue?\n",
    "\n",
    "## The ordering is determined by calling the \\_\\_lt\\_\\_ (less than) method for a pair of objects O1 and O2 using a call like:\n",
    "## &nbsp;&nbsp;&nbsp;&nbsp;&nbsp; O1.\\_\\_lt\\_\\_(O2)\n",
    "\n",
    "## The O1 will receive higher priority than O2 if O1.\\_\\_lt\\_\\_(O2) yields True.\n",
    "\n",
    "## To add an object to the queue, we call the _put_ method for the queue.\n",
    "\n",
    "## To get the highest priority object from the queue and remove it we call the _get_ method for the queue.\n",
    "\n",
    "## To determine the number of objects in the queue, we can use the .qsize() method.\n",
    "\n",
    "## To see the highest priority object without removing it, we can use the .queue[0] attribute. \n",
    "\n",
    "## Important note: the objects are available as .queue[0],.queue[1],....,.queue[n-1] but these are **not** in order by priority.\n",
    "\n",
    "## In the following example, we consider a class of objects with a single slot for a numerical _value_."
   ]
  },
  {
   "cell_type": "code",
   "execution_count": 7,
   "metadata": {},
   "outputs": [
    {
     "name": "stdout",
     "output_type": "stream",
     "text": [
      "Adding to the queue:\n",
      "   value of thing added = 97.41633385074314\n",
      "   value of thing added = 95.62631794718456\n",
      "   value of thing added = 92.1731883728031\n",
      "   value of thing added = 114.90113299782055\n",
      "   value of thing added = 80.21795668158018\n",
      "Number of things in the queue = 5\n",
      "Printing queue contents without modifying it:\n",
      "   114.90113299782055\n",
      "   97.41633385074314\n",
      "   92.1731883728031\n",
      "   95.62631794718456\n",
      "   80.21795668158018\n",
      "Number of things in the queue = 5\n",
      "queue is non-empty\n",
      "   114.90113299782055\n",
      "Number of things in queue = 4\n",
      "   97.41633385074314\n",
      "Number of things in queue = 3\n",
      "   95.62631794718456\n",
      "Number of things in queue = 2\n",
      "   92.1731883728031\n",
      "Number of things in queue = 1\n",
      "   80.21795668158018\n",
      "Number of things in queue = 0\n",
      "queue is empty\n"
     ]
    }
   ],
   "source": [
    "import queue as Q\n",
    "import numpy as np\n",
    "\n",
    "#\n",
    "# Create a class of things to put in the queue.\n",
    "#\n",
    "class thing:\n",
    "    __slots__=(\"value\")\n",
    "    def __init__(self,value):\n",
    "        self.value=value\n",
    "    \n",
    "    def __lt__(self,other):\n",
    "        if self.value>=other.value:\n",
    "            return(True)\n",
    "        return(False)\n",
    "    def __str__(self):\n",
    "        return(\"   \"+str(self.value))\n",
    "    \n",
    "#\n",
    "# Create an instance of a priority queue\n",
    "#\n",
    "PQ=Q.PriorityQueue()\n",
    "#\n",
    "# Add some things to the queue \n",
    "#\n",
    "print(\"Adding to the queue:\")\n",
    "for i in range(5):\n",
    "    v=np.random.normal(100,10,1)[0]\n",
    "    t=thing(v)\n",
    "    PQ.put(t)\n",
    "    print(\"   value of thing added = \" + str(v))\n",
    "print(\"Number of things in the queue = \" + str(PQ.qsize()))\n",
    "#\n",
    "# Print the elements of the queue.\n",
    "# This doesn't modify contents of the queue.\n",
    "#\n",
    "n=PQ.qsize()\n",
    "print(\"Printing queue contents without modifying it:\")\n",
    "for i in range(n):\n",
    "    print(PQ.queue[i])\n",
    "print(\"Number of things in the queue = \" + str(PQ.qsize()))\n",
    "#\n",
    "# Is queue empty?\n",
    "#\n",
    "if PQ.empty():\n",
    "    print(\"queue is empty\")\n",
    "else:\n",
    "    print(\"queue is non-empty\")\n",
    "#\n",
    "# Get the elements one at a time.\n",
    "#\n",
    "while not PQ.empty():\n",
    "    v=PQ.get()\n",
    "    print(v)\n",
    "    print(\"Number of things in queue = \" + str(PQ.qsize()))\n",
    "#\n",
    "# Is queue empty?\n",
    "#\n",
    "if PQ.empty():\n",
    "    print(\"queue is empty\")\n",
    "else:\n",
    "    print(\"queue is non-empty\")"
   ]
  },
  {
   "cell_type": "markdown",
   "metadata": {},
   "source": [
    "## Here's a slightly more complicated example."
   ]
  },
  {
   "cell_type": "code",
   "execution_count": 54,
   "metadata": {},
   "outputs": [
    {
     "name": "stdout",
     "output_type": "stream",
     "text": [
      "Adding to the queue:\n",
      "   value of thing added = 9271.63047345888\n",
      "   value of thing added = 8452.646356395035\n",
      "   value of thing added = 8447.940528232997\n",
      "   value of thing added = 9190.41589953632\n",
      "   value of thing added = 10186.276453269636\n",
      "Number of things in the queue = 5\n",
      "Printing queue contents without modifying it:\n",
      "   94.3787390659608  94.36533909779365  88.5236239177818  8447.940528232997\n",
      "   121.35868688506741  99.4424481215632  91.19905416613238  9190.41589953632\n",
      "   78.23196973187652  87.24839356891786  95.9835940136614  8452.646356395035\n",
      "   107.33412758966547  94.33546319867074  97.14582443475346  9271.63047345888\n",
      "   95.34596773278612  97.86475453505378  103.1109773225091  10186.276453269636\n",
      "Number of things in the queue = 5\n",
      "queue is non-empty\n",
      "   94.3787390659608  94.36533909779365  88.5236239177818  8447.940528232997\n",
      "Number of things in queue = 4\n",
      "   78.23196973187652  87.24839356891786  95.9835940136614  8452.646356395035\n",
      "Number of things in queue = 3\n",
      "   121.35868688506741  99.4424481215632  91.19905416613238  9190.41589953632\n",
      "Number of things in queue = 2\n",
      "   107.33412758966547  94.33546319867074  97.14582443475346  9271.63047345888\n",
      "Number of things in queue = 1\n",
      "   95.34596773278612  97.86475453505378  103.1109773225091  10186.276453269636\n",
      "Number of things in queue = 0\n",
      "queue is empty\n"
     ]
    }
   ],
   "source": [
    "import queue as Q\n",
    "import numpy as np\n",
    "\n",
    "#\n",
    "# Create a class of things to put in the queue.\n",
    "#\n",
    "class thing:\n",
    "    __slots__=(\"v1\",\"v2\",\"v3\")\n",
    "    def __init__(self,v1,v2,v3):\n",
    "        self.v1=v1\n",
    "        self.v2=v2\n",
    "        self.v3=v3\n",
    "    def pcalc(self):\n",
    "        return(self.v1+self.v2*self.v3)\n",
    "    def __lt__(self,other):\n",
    "        scalc=self.pcalc()\n",
    "        ocalc=other.pcalc()\n",
    "        if scalc<=ocalc:\n",
    "            return(True)\n",
    "        return(False)\n",
    "    def __str__(self):\n",
    "        return(\"   \"+str(self.v1)+\"  \"+str(self.v2)+\"  \"+str(self.v3)+\"  \"+str(self.pcalc()))\n",
    "    \n",
    "#\n",
    "# Create an instance of a priority queue\n",
    "#\n",
    "PQ=Q.PriorityQueue()\n",
    "#\n",
    "# Add some things to the queue \n",
    "#\n",
    "print(\"Adding to the queue:\")\n",
    "for i in range(5):\n",
    "    v1=np.random.normal(100,10,1)[0]\n",
    "    v2=np.random.normal(100,10,1)[0]\n",
    "    v3=np.random.normal(100,10,1)[0]\n",
    "    t=thing(v1,v2,v3)\n",
    "    PQ.put(t)\n",
    "    print(\"   value of thing added = \" + str(t.pcalc()))\n",
    "print(\"Number of things in the queue = \" + str(PQ.qsize()))\n",
    "#\n",
    "# Print the elements of the queue.\n",
    "# This doesn't modify contents of the queue.\n",
    "#\n",
    "n=PQ.qsize()\n",
    "print(\"Printing queue contents without modifying it:\")\n",
    "for i in range(n):\n",
    "    print(PQ.queue[i])\n",
    "print(\"Number of things in the queue = \" + str(PQ.qsize()))\n",
    "#\n",
    "# Is queue empty?\n",
    "#\n",
    "if PQ.empty():\n",
    "    print(\"queue is empty\")\n",
    "else:\n",
    "    print(\"queue is non-empty\")\n",
    "#\n",
    "# Get the elements one at a time.\n",
    "#\n",
    "while PQ.qsize():\n",
    "    v=PQ.get()\n",
    "    print(v)\n",
    "    print(\"Number of things in queue = \" + str(PQ.qsize()))\n",
    "#\n",
    "# Is queue empty?\n",
    "#\n",
    "if PQ.empty():\n",
    "    print(\"queue is empty\")\n",
    "else:\n",
    "    print(\"queue is non-empty\")"
   ]
  },
  {
   "cell_type": "code",
   "execution_count": null,
   "metadata": {},
   "outputs": [],
   "source": []
  }
 ],
 "metadata": {
  "kernelspec": {
   "display_name": "Python 3",
   "language": "python",
   "name": "python3"
  },
  "language_info": {
   "codemirror_mode": {
    "name": "ipython",
    "version": 3
   },
   "file_extension": ".py",
   "mimetype": "text/x-python",
   "name": "python",
   "nbconvert_exporter": "python",
   "pygments_lexer": "ipython3",
   "version": "3.8.3"
  }
 },
 "nbformat": 4,
 "nbformat_minor": 4
}
