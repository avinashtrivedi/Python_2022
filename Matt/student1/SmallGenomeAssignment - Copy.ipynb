{
 "cells": [
  {
   "cell_type": "code",
   "execution_count": null,
   "metadata": {
    "deletable": false,
    "editable": false
   },
   "outputs": [],
   "source": [
    "# Initialize Otter\n",
    "import otter\n",
    "grader = otter.Notebook(\"SmallGenomeAssignment.ipynb\")"
   ]
  },
  {
   "cell_type": "markdown",
   "metadata": {},
   "source": [
    "One of the smallest genomes to be discovered is that of Candidatus Nasuia deltocephalinicola, which has only 112,031 base pairs.\n",
    "You can read about this here: \n",
    "\n",
    "https://www.ncbi.nlm.nih.gov/pmc/articles/PMC4722273/\n",
    "\n",
    "\n",
    "For our purposes, we have a string that consists of 112,031 characters all being A, C, G, or T.\n",
    "The full sequence is provided in the text file:\n",
    "\n",
    "CP013211FASTA.txt\n",
    "\n",
    "You can open up this file in a text editor to see its format.\n",
    "It has a header line which contains general information.\n",
    "The rest of the lines are 80 characters each except possibly for the last line."
   ]
  },
  {
   "cell_type": "markdown",
   "metadata": {},
   "source": [
    "## Some functions to keep in mind \n",
    "\n",
    "It will help to be aware of the following functions:\n",
    "\n",
    "- replace (for replacing every occurence of a character in string)\n",
    "\n",
    "**Example:**"
   ]
  },
  {
   "cell_type": "code",
   "execution_count": 1,
   "metadata": {},
   "outputs": [],
   "source": [
    "st=\"dog\"\n",
    "st.replace(\"o\",\"i\")"
   ]
  },
  {
   "cell_type": "markdown",
   "metadata": {},
   "source": [
    "- split creates a list of characters from a string by splitting it on a particular delimiting character\n",
    "\n",
    "**Example:**"
   ]
  },
  {
   "cell_type": "code",
   "execution_count": 2,
   "metadata": {},
   "outputs": [],
   "source": [
    "st=\"abacdaaxy\"\n",
    "st.split(\"a\")"
   ]
  },
  {
   "cell_type": "markdown",
   "metadata": {},
   "source": [
    "- join allows to take a (possibly blank) string st and a list of strings and join them all the strings in the list into a single string with the string st separating each string in the list\n",
    "\n",
    "**Example:**"
   ]
  },
  {
   "cell_type": "code",
   "execution_count": 3,
   "metadata": {},
   "outputs": [],
   "source": [
    "st=\"_\"\n",
    "L=[\"a\",\"dog\",\"ate\",\"my\",\"homework\"]\n",
    "st.join(L)"
   ]
  },
  {
   "cell_type": "markdown",
   "metadata": {},
   "source": [
    "**Remember: strings are immutable!**"
   ]
  },
  {
   "cell_type": "markdown",
   "metadata": {
    "deletable": false,
    "editable": false
   },
   "source": [
    "**Question 1:**\n",
    "\n",
    "The code provided below reads all of the lines of the file provided into a single string called **txt**.\n",
    "\n",
    "To complete this part of the assignment, do the following to the string so that the resulting string called **genome**) contains **only** the nucleotides.\n",
    "\n",
    "This means you need to\n",
    "\n",
    "- remove the first line\n",
    "- remove any newline characters\n",
    "- remove all blanks\n",
    "\n",
    "\n",
    "<!--\n",
    "BEGIN QUESTION\n",
    "name: q1\n",
    "manual: false\n",
    "-->"
   ]
  },
  {
   "cell_type": "code",
   "execution_count": 4,
   "metadata": {},
   "outputs": [],
   "source": [
    "filename=\"CP013211FASTA.txt\"\n",
    "with open(filename) as fin:\n",
    "    txt=fin.read()\n",
    "...\n",
    "genome= ...\n",
    "# Do not modify the following line\n",
    "print(len(genome))"
   ]
  },
  {
   "cell_type": "code",
   "execution_count": null,
   "metadata": {
    "deletable": false,
    "editable": false
   },
   "outputs": [],
   "source": [
    "grader.check(\"q1\")"
   ]
  },
  {
   "cell_type": "markdown",
   "metadata": {},
   "source": [
    "**Note: All tests from this point on are hidden tests.**"
   ]
  },
  {
   "cell_type": "markdown",
   "metadata": {
    "deletable": false,
    "editable": false
   },
   "source": [
    "**Question 2:**\n",
    "\n",
    "Count the number of A's, C's, G's and T's in the genome and put those counts in a list called **counts**.\n",
    "Your list should contain 4 numbers.\n",
    "\n",
    "<!--\n",
    "BEGIN QUESTION\n",
    "name: q2\n",
    "manual: false\n",
    "-->"
   ]
  },
  {
   "cell_type": "code",
   "execution_count": 6,
   "metadata": {},
   "outputs": [],
   "source": [
    "counts = ...\n",
    "# Do not modify the following line\n",
    "print(counts)"
   ]
  },
  {
   "cell_type": "code",
   "execution_count": null,
   "metadata": {
    "deletable": false,
    "editable": false
   },
   "outputs": [],
   "source": [
    "grader.check(\"q2\")"
   ]
  },
  {
   "cell_type": "markdown",
   "metadata": {
    "deletable": false,
    "editable": false
   },
   "source": [
    "**Question 3:**\n",
    "\n",
    "Compute the sum of the counts in Question 2 and assign the value to **sum_of_counts** to verify that the only characters in the string are A's, C's, G's and T's.\n",
    "\n",
    "<!--\n",
    "BEGIN QUESTION\n",
    "name: q3\n",
    "manual: false\n",
    "-->"
   ]
  },
  {
   "cell_type": "code",
   "execution_count": 8,
   "metadata": {},
   "outputs": [],
   "source": [
    "sum_of_counts = ...\n",
    "# Do not modify the following line\n",
    "print(sum_of_counts)"
   ]
  },
  {
   "cell_type": "code",
   "execution_count": null,
   "metadata": {
    "deletable": false,
    "editable": false
   },
   "outputs": [],
   "source": [
    "grader.check(\"q3\")"
   ]
  },
  {
   "cell_type": "markdown",
   "metadata": {
    "deletable": false,
    "editable": false
   },
   "source": [
    "**Question 4:**\n",
    "\n",
    "A *run* of length k for some character in a string occurs if that character appears k times in succession. For example, in the string\n",
    "\n",
    "AGGTAATTACGTATAAAAATCGAAACCTTGA\n",
    "\n",
    "there is a run of length 5 for the character A. There are shorter runs of the character A as well.\n",
    "\n",
    "Write a function called **length_of_longest_run_of_character** that takes a string s and a single character c as arguments and returns the length of the longest run for the character c.\n",
    "\n",
    "- You may assume the string is of length at least 1.\n",
    "- If the string does not contain any occurences of the character, the function should return 0.\n",
    "- Your code should run in time *linear* in the size of the input string, so you should **not** need any double loops in your code. Every use of s[i] should only appear once in your code for each i.\n",
    "\n",
    "<!--\n",
    "BEGIN QUESTION\n",
    "name: q4\n",
    "manual: false\n",
    "-->"
   ]
  },
  {
   "cell_type": "code",
   "execution_count": 10,
   "metadata": {},
   "outputs": [],
   "source": [
    "def length_of_longest_run_of_character(s,c):\n",
    "...\n",
    "# Do not modify the following lines.\n",
    "# Make sure your code gives the correct answers in the following examples.\n",
    "# The correct answers can be determined by inspection.\n",
    "#\n",
    "print(length_of_longest_run_of_character(\"GAAAA\",\"A\"))\n",
    "print(length_of_longest_run_of_character(\"AAAAG\",\"T\"))\n",
    "print(length_of_longest_run_of_character(\"AATAAAT\",\"A\"))\n",
    "print(length_of_longest_run_of_character(\"AATAAATTTTTAAAAA\",\"A\"))\n",
    "print(length_of_longest_run_of_character(\"A\",\"A\"))"
   ]
  },
  {
   "cell_type": "code",
   "execution_count": null,
   "metadata": {
    "deletable": false,
    "editable": false
   },
   "outputs": [],
   "source": [
    "grader.check(\"q4\")"
   ]
  },
  {
   "cell_type": "markdown",
   "metadata": {
    "deletable": false,
    "editable": false
   },
   "source": [
    "**Question 5:**\n",
    "\n",
    "Compute the length of the longest *contiguous* substring in genome consisting only of G's and C's and assign that number to **longest_run_of_GC**. \n",
    "\n",
    "Here, a contiguous substring consisting only of G's and C's is a string of the form genome[i:(i+n)] (with n nonnegative) all of whose characters are G's and C's.\n",
    "\n",
    "You should be able to answer by using the function in Question 3 and a single line of code.\n",
    "\n",
    "<!--\n",
    "BEGIN QUESTION\n",
    "name: q5\n",
    "manual: false\n",
    "-->"
   ]
  },
  {
   "cell_type": "code",
   "execution_count": 15,
   "metadata": {},
   "outputs": [],
   "source": [
    "longest_run_of_GC= ...\n",
    "# do not modify the following line\n",
    "print(longest_run_of_GC)"
   ]
  },
  {
   "cell_type": "code",
   "execution_count": null,
   "metadata": {
    "deletable": false,
    "editable": false
   },
   "outputs": [],
   "source": [
    "grader.check(\"q5\")"
   ]
  },
  {
   "cell_type": "markdown",
   "metadata": {
    "deletable": false,
    "editable": false
   },
   "source": [
    "**Question 6:**\n",
    "\n",
    "Compute the length of the longest *contiguous* substring in genome consisting only of A's and T's and assign that number to **longest_run_of_AT**. \n",
    "\n",
    "<!--\n",
    "BEGIN QUESTION\n",
    "name: q6\n",
    "manual: false\n",
    "-->"
   ]
  },
  {
   "cell_type": "code",
   "execution_count": 17,
   "metadata": {},
   "outputs": [],
   "source": [
    "longest_run_of_AT= ...\n",
    "# do not modify the following line\n",
    "print(longest_run_of_AT)"
   ]
  },
  {
   "cell_type": "code",
   "execution_count": null,
   "metadata": {
    "deletable": false,
    "editable": false
   },
   "outputs": [],
   "source": [
    "grader.check(\"q6\")"
   ]
  },
  {
   "cell_type": "markdown",
   "metadata": {
    "deletable": false,
    "editable": false
   },
   "source": [
    "**Question 7:**\n",
    "\n",
    "Write a function called **counts_for_1step_transitions** that takes as input a string **s** and two characters **c1** an **c2**, and which returns a 2-tuple (m,p), where\n",
    "\n",
    "- m is the number of times s[i]=c1 for i=0,...,n-2 \n",
    "- p is the number of times when s[i]=c1 and s[i+1]=c2 for i=0,...,n-2. \n",
    "\n",
    "Your output statement should look like this: \n",
    "\n",
    "    return(m,p)\n",
    "\n",
    "\n",
    "<!--\n",
    "BEGIN QUESTION\n",
    "name: q7\n",
    "manual: false\n",
    "-->"
   ]
  },
  {
   "cell_type": "code",
   "execution_count": 19,
   "metadata": {},
   "outputs": [],
   "source": [
    "def counts_for_1step_transitions(s,c1,c2):\n",
    "...\n",
    "    return(m,p)\n",
    "# Do not modify the following lines\n",
    "print(counts_for_1step_transitions(genome,\"A\",\"A\"))\n",
    "print(counts_for_1step_transitions(genome,\"A\",\"C\"))\n",
    "print(counts_for_1step_transitions(genome,\"A\",\"G\"))\n",
    "print(counts_for_1step_transitions(genome,\"A\",\"T\"))"
   ]
  },
  {
   "cell_type": "code",
   "execution_count": null,
   "metadata": {
    "deletable": false,
    "editable": false
   },
   "outputs": [],
   "source": [
    "grader.check(\"q7\")"
   ]
  },
  {
   "cell_type": "markdown",
   "metadata": {
    "deletable": false,
    "editable": false
   },
   "source": [
    "**Question 8:**\n",
    "\n",
    "The function **counts_for_1step_transitions** can be used to calculate a *Markov chain transition matrix*. Imagine that the process by which a nucleotide sequence is *generated* can be modeled as a Markov chain.  What this means is that the characters after the first one can be viewed as random, whose distribution conditioned on that first character is governed by the following assumption: Conditionally, given the first k characters $X_1,\\ldots,X_k$ are $x_1,x_2,\\ldots,x_k$ the distibution of the next character $X_{k+1}$ depends only on the most recent character $X_k.$ Then we can describe the next character using one of the terms in the $4 \\times 4$ matrix \n",
    "$$\n",
    "\\left[ \n",
    "\\begin{array}{cccc}\n",
    "P[A\\vert A] & P[C\\vert A] & P[G\\vert A] &P[T\\vert A]\\\\\n",
    "P[A\\vert C] & P[C\\vert C] & P[G\\vert C] &P[T\\vert C]\\\\\n",
    "P[A\\vert G] & P[C\\vert G] & P[G\\vert G] &P[T\\vert G]\\\\\n",
    "P[A\\vert T] & P[C\\vert T] & P[G\\vert T] &P[T\\vert T]\\\\\n",
    "\\end{array}\n",
    "\\right].\n",
    "$$\n",
    "For example, the entry $P[G\\vert C]$ in row 2 column 3 gives the probability that the next character is a G given that the most recent\n",
    "character is a C.\n",
    "\n",
    "Apology: when I write matrices in math exposition I number starting from 1, not 0.\n",
    "\n",
    "Assuming the Markov chain model correctly describes how the string was generated, we can estimate each probability in the transition matrix.\n",
    "For example, to estimate $P[G\\vert C]$  we use proportion of times when we see a C, the next character is a G. i.e. the by the ratio $p/m$ where\n",
    "- m is the number of times s[i]=C for i=0,...,n-2 \n",
    "- p is the number of times when s[i]=C and s[i+1]=G for i=0,...,n-2. \n",
    "\n",
    "Write a function called **compute_transition_matrix** that takes as input a string of A's, C's, G's and T's and outputs the estimated \n",
    "transition matrix as a numpy array.\n",
    "\n",
    "Your estimates should be rounded to 3 decimal places.\n",
    "\n",
    "\n",
    "<!--\n",
    "BEGIN QUESTION\n",
    "name: q8\n",
    "manual: false\n",
    "-->\n"
   ]
  },
  {
   "cell_type": "code",
   "execution_count": 21,
   "metadata": {},
   "outputs": [],
   "source": [
    "import numpy as np\n",
    "def compute_transition_matrix(s):\n",
    "...\n",
    "# Do not modify the following line\n",
    "print(compute_transition_matrix(genome))"
   ]
  },
  {
   "cell_type": "code",
   "execution_count": null,
   "metadata": {
    "deletable": false,
    "editable": false
   },
   "outputs": [],
   "source": [
    "grader.check(\"q8\")"
   ]
  },
  {
   "cell_type": "markdown",
   "metadata": {
    "deletable": false,
    "editable": false
   },
   "source": [
    "**Question 9:**\n",
    "\n",
    "A k-gram in a string is a contiguous sequence of length k. For example, in the string CAAAAAAGTCATGCATACAT the 2-gram CA appears 4 times, and the 3-gram CAT appears 3 times.\n",
    "k-grams are allowed to overlap, so in this sequence the 2-gram AA appears 5 times (starting in positions 1, 2, 3, 4, and 5).\n",
    "Write a function **count_kgrams** that counts takes as arguments a string **s** and a k-gram **kgram** (another string) and returns the number of occurences of that k-gram in the string.\n",
    "\n",
    "<!--\n",
    "BEGIN QUESTION\n",
    "name: q9\n",
    "manual: false\n",
    "-->\n"
   ]
  },
  {
   "cell_type": "code",
   "execution_count": 23,
   "metadata": {},
   "outputs": [],
   "source": [
    "def count_kgrams(s,kgram):\n",
    "...\n",
    "# Do not modify the following lines\n",
    "print(count_kgrams(\"AAA\",\"A\"))\n",
    "print(count_kgrams(\"ATAT\",\"ATATA\"))\n",
    "print(count_kgrams(\"CAAAAAAGTCATGCATACAT\",\"CA\"))\n",
    "print(count_kgrams(\"CAAAAAAGTCATGCATACAT\",\"CAT\"))\n",
    "print(count_kgrams(\"CAAAAAAGTCATGCATACAT\",\"AA\"))\n",
    "print(count_kgrams(genome,\"AA\"))\n",
    "print(count_kgrams(genome,\"GT\"))\n",
    "print(count_kgrams(genome,\"TG\"))\n",
    "print(count_kgrams(genome,\"AC\"))"
   ]
  },
  {
   "cell_type": "code",
   "execution_count": null,
   "metadata": {
    "deletable": false,
    "editable": false
   },
   "outputs": [],
   "source": [
    "grader.check(\"q9\")"
   ]
  },
  {
   "cell_type": "markdown",
   "metadata": {
    "deletable": false,
    "editable": false
   },
   "source": [
    "**Question 10:**\n",
    "\n",
    "Create a list called **freqs_of_3grams** that contains a list of 2-tuples with every 3-gram and its frequency, and sorted from most frequent to least frequent 3-gram.\n",
    "\n",
    "(Don't worry about how to handle ties in frequencies.)\n",
    "\n",
    "Your list should contain a 2-tuple for every one of the possible 3-grams based on characters A,C,G,T.\n",
    "Each 2-tuple in the list should have\n",
    "\n",
    "- 0-th entry is a 3-gram\n",
    "- 1-th entry is the frequency in the genome of that 3-gram\n",
    "\n",
    "Your list should have $4^3 = 64$ 2-tuples in it.\n",
    "\n",
    "\n",
    "<!--\n",
    "BEGIN QUESTION\n",
    "name: q10\n",
    "manual: false\n",
    "-->"
   ]
  },
  {
   "cell_type": "code",
   "execution_count": 28,
   "metadata": {},
   "outputs": [],
   "source": [
    "...\n",
    "freqs_of_3grams= ...\n",
    "# Do not modify the following line.\n",
    "print(freqs_of_3grams)"
   ]
  },
  {
   "cell_type": "code",
   "execution_count": null,
   "metadata": {
    "deletable": false,
    "editable": false
   },
   "outputs": [],
   "source": [
    "grader.check(\"q10\")"
   ]
  },
  {
   "cell_type": "markdown",
   "metadata": {},
   "source": [
    "**Final Instructions:**\n",
    "\n",
    "0) make sure you run every cell \n",
    "1) make sure you save your notebook before submitting it in Blackboard\n",
    "2) do **not** zip your notebook \n",
    "3) do **not** change the name of your notebook - we **will** be able to identify you without doing that"
   ]
  },
  {
   "cell_type": "markdown",
   "metadata": {
    "deletable": false,
    "editable": false
   },
   "source": [
    "---\n",
    "\n",
    "To double-check your work, the cell below will rerun all of the autograder tests."
   ]
  },
  {
   "cell_type": "code",
   "execution_count": null,
   "metadata": {
    "deletable": false,
    "editable": false
   },
   "outputs": [],
   "source": [
    "grader.check_all()"
   ]
  }
 ],
 "metadata": {
  "kernelspec": {
   "display_name": "Python 3",
   "language": "python",
   "name": "python3"
  },
  "language_info": {
   "codemirror_mode": {
    "name": "ipython",
    "version": 3
   },
   "file_extension": ".py",
   "mimetype": "text/x-python",
   "name": "python",
   "nbconvert_exporter": "python",
   "pygments_lexer": "ipython3",
   "version": "3.8.5"
  }
 },
 "nbformat": 4,
 "nbformat_minor": 5
}
