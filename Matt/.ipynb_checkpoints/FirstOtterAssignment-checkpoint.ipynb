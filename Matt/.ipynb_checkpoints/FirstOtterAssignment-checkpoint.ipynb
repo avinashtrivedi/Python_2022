{
 "cells": [
  {
   "cell_type": "code",
   "execution_count": null,
   "metadata": {
    "deletable": false,
    "editable": false
   },
   "outputs": [],
   "source": [
    "# Initialize Otter\n",
    "import otter\n",
    "grader = otter.Notebook(\"FirstOtterAssignment.ipynb\")"
   ]
  },
  {
   "cell_type": "markdown",
   "metadata": {},
   "source": [
    "**Agathie Christie** was an extremely prolific and popular writer of mystery books. She has been called the most popular writer of all time.\n",
    "\n",
    "https://en.wikipedia.org/wiki/Agatha_Christie\n",
    "\n",
    "She was born in 1890 and died in 1976. Analysis of her work in her later years has led some to conclude that her ability to write diminished in her later years. This exercise is meant to be an introductory/superficial exploration into addressing the question quantitatively. \n",
    "\n",
    "We'll focus on texts published in 1925, 1935,..., 1975. Interestingly, one can download many more of her books in epub form and convert those epub files to text files using a publicly available program called epub2txt which I found here:\n",
    "\n",
    "http://kevinboone.net/README_epub2txt.html\n",
    "\n",
    "and which I was able to compile on a linux machine to convert a larger collection of 99 books from an online site. \n",
    "\n",
    "Doing this conversion for the 99 books is nice little exercise in using Python as a **scripting language** interacting with files on an operating system, iterating over every file in a folder, run a command at the operating system level \n",
    "\n",
    "- to convert the file \n",
    "- to save the converted file another folder.\n"
   ]
  },
  {
   "cell_type": "markdown",
   "metadata": {},
   "source": [
    "## You will need to execute the following cell to use this notebook. \n",
    "## Each of the 6 Agatha Christie books will be read into a string and these 6 strings will be stored in a list."
   ]
  },
  {
   "cell_type": "code",
   "execution_count": 1,
   "metadata": {},
   "outputs": [],
   "source": [
    "import numpy as np\n",
    "import otter\n",
    "grader = otter.Notebook()\n",
    "\n",
    "filenames=[\"SecretOfChimneys_1925.txt\",\n",
    "            \"DeathInTheClouds_1935.txt\",\n",
    "            \"SparklingCyanide_1945.txt\",\n",
    "            \"HickoryDickoryDock_1955.txt\",\n",
    "            \"AtBertramsHotel_1965.txt\",\n",
    "            \"Curtain_1975.txt\"]\n",
    "books=[]\n",
    "for filename in filenames:\n",
    "    with open(filename) as fin:\n",
    "        text=fin.read()\n",
    "        books.append(text)"
   ]
  },
  {
   "cell_type": "markdown",
   "metadata": {},
   "source": [
    "## NON-HIDDEN TESTS\n",
    "\n",
    "In the next two questions, you answer questions in a cell by filling in the ... .\n",
    "\n",
    "Then when you execute a \"grader.check\"  cell you get a response\n",
    "\n",
    "- \"passed\" means you answered the question correctly. \n",
    "- otherwise you get feedback indicating an error on your part.\n",
    "\n",
    "The feedback is available whenever the tests are not **hidden**."
   ]
  },
  {
   "cell_type": "markdown",
   "metadata": {
    "deletable": false,
    "editable": false
   },
   "source": [
    "**Question 1:**\n",
    "\n",
    "Compute the length of the list called books and store this value in a variable called **number_of_books**.\n",
    "\n",
    "\n",
    "<!--\n",
    "BEGIN QUESTION\n",
    "name: q1\n",
    "manual: false\n",
    "-->"
   ]
  },
  {
   "cell_type": "code",
   "execution_count": 3,
   "metadata": {},
   "outputs": [
    {
     "name": "stdout",
     "output_type": "stream",
     "text": [
      "6\n"
     ]
    }
   ],
   "source": [
    "number_of_books= len(books)\n",
    "# do not modify the following line\n",
    "print(number_of_books)"
   ]
  },
  {
   "cell_type": "code",
   "execution_count": 4,
   "metadata": {
    "deletable": false,
    "editable": false
   },
   "outputs": [
    {
     "data": {
      "text/html": [
       "<p><strong><pre style='display: inline;'>q1</pre></strong> passed!</p>"
      ],
      "text/plain": [
       "q1 results: All test cases passed!"
      ]
     },
     "execution_count": 4,
     "metadata": {},
     "output_type": "execute_result"
    }
   ],
   "source": [
    "grader.check(\"q1\")"
   ]
  },
  {
   "cell_type": "markdown",
   "metadata": {
    "deletable": false,
    "editable": false
   },
   "source": [
    "**Question 2:**\n",
    "    \n",
    "Make a list of book titles ordered by year, with the underscore character and the year removed. \n",
    "For example, the first book title should be \"SecretOfChimneys\". Call your list **booktitles**.\n",
    "\n",
    "<!--\n",
    "BEGIN QUESTION\n",
    "name: q2\n",
    "manual: false\n",
    "-->"
   ]
  },
  {
   "cell_type": "code",
   "execution_count": 7,
   "metadata": {},
   "outputs": [
    {
     "name": "stdout",
     "output_type": "stream",
     "text": [
      "['SecretOfChimneys', 'DeathInTheClouds', 'SparklingCyanide', 'HickoryDickoryDock', 'AtBertramsHotel', 'Curtain']\n"
     ]
    }
   ],
   "source": [
    "booktitles=[\"SecretOfChimneys\",\n",
    "            \"DeathInTheClouds\",\n",
    "            \"SparklingCyanide\",\n",
    "            \"HickoryDickoryDock\",\n",
    "            \"AtBertramsHotel\",\n",
    "            \"Curtain\"         \n",
    "           ]\n",
    "# do not modify the following line\n",
    "print(booktitles)"
   ]
  },
  {
   "cell_type": "code",
   "execution_count": 8,
   "metadata": {
    "deletable": false,
    "editable": false
   },
   "outputs": [
    {
     "data": {
      "text/html": [
       "<p><strong><pre style='display: inline;'>q2</pre></strong> passed!</p>"
      ],
      "text/plain": [
       "q2 results: All test cases passed!"
      ]
     },
     "execution_count": 8,
     "metadata": {},
     "output_type": "execute_result"
    }
   ],
   "source": [
    "grader.check(\"q2\")"
   ]
  },
  {
   "cell_type": "markdown",
   "metadata": {},
   "source": [
    "# HIDDEN TESTS\n",
    "\n",
    "From this point on, the tests will be **hidden**.\n",
    "\n",
    "For a hidden test, when you execute the grade.check cell, and you see \"passed\" \n",
    "\n",
    "- it does not mean you got the answer correct\n",
    "- it just means that you have succesfully executed the cell\n",
    "\n",
    "The point is to get you to **check your work** kind of how the *real world* works."
   ]
  },
  {
   "cell_type": "markdown",
   "metadata": {
    "deletable": false,
    "editable": false
   },
   "source": [
    "**Question 3:**\n",
    "    \n",
    "Make a list years of the book titles in order, and call this list **bookyears**. \n",
    "Do not use strings in your list, use ints.\n",
    "\n",
    "<!--\n",
    "BEGIN QUESTION\n",
    "name: q3\n",
    "manual: false\n",
    "-->"
   ]
  },
  {
   "cell_type": "code",
   "execution_count": 9,
   "metadata": {},
   "outputs": [
    {
     "name": "stdout",
     "output_type": "stream",
     "text": [
      "[1925, 1935, 1945, 1955, 1965, 1975]\n"
     ]
    }
   ],
   "source": [
    "bookyears=[1925,\n",
    "          1935,\n",
    "          1945,\n",
    "          1955,\n",
    "          1965,\n",
    "          1975]\n",
    "# do not modify the following line\n",
    "print(bookyears)"
   ]
  },
  {
   "cell_type": "code",
   "execution_count": 10,
   "metadata": {
    "deletable": false,
    "editable": false
   },
   "outputs": [
    {
     "data": {
      "text/html": [
       "<p><strong><pre style='display: inline;'>q3</pre></strong> passed!</p>"
      ],
      "text/plain": [
       "q3 results: All test cases passed!"
      ]
     },
     "execution_count": 10,
     "metadata": {},
     "output_type": "execute_result"
    }
   ],
   "source": [
    "grader.check(\"q3\")"
   ]
  },
  {
   "cell_type": "markdown",
   "metadata": {
    "deletable": false,
    "editable": false
   },
   "source": [
    "**Question 4:**\n",
    "Make a *dictionary* call **yearoftitle** that has as keys the booktitles and as values the associated year.\n",
    "\n",
    "<!--\n",
    "BEGIN QUESTION\n",
    "name: q4\n",
    "manual: false\n",
    "-->"
   ]
  },
  {
   "cell_type": "code",
   "execution_count": 12,
   "metadata": {},
   "outputs": [
    {
     "name": "stdout",
     "output_type": "stream",
     "text": [
      "{'SecretOfChimneys': '1925', 'DeathInTheCloud': '1935', 'SparklingCyanide': '1945', 'HickoryDickoryDock': '1955', 'AtBertramsHotel': '1965', 'Curtain': '1975'}\n"
     ]
    }
   ],
   "source": [
    "yearoftitle={'SecretOfChimneys':'1925','DeathInTheCloud': '1935','SparklingCyanide':'1945','HickoryDickoryDock':'1955','AtBertramsHotel':'1965','Curtain':'1975'}\n",
    "# do not modify the following line\n",
    "print(yearoftitle)"
   ]
  },
  {
   "cell_type": "code",
   "execution_count": 13,
   "metadata": {
    "deletable": false,
    "editable": false
   },
   "outputs": [
    {
     "data": {
      "text/html": [
       "<p><strong><pre style='display: inline;'>q4</pre></strong> passed!</p>"
      ],
      "text/plain": [
       "q4 results: All test cases passed!"
      ]
     },
     "execution_count": 13,
     "metadata": {},
     "output_type": "execute_result"
    }
   ],
   "source": [
    "grader.check(\"q4\")"
   ]
  },
  {
   "cell_type": "markdown",
   "metadata": {
    "deletable": false,
    "editable": false
   },
   "source": [
    "**Question 5:**\n",
    "Compute the length of each string in the book list and store these lengths in a list called **booklengths**. The length of your list should be the number of books.\n",
    "\n",
    "<!--\n",
    "BEGIN QUESTION\n",
    "name: q5\n",
    "manual: false\n",
    "-->"
   ]
  },
  {
   "cell_type": "code",
   "execution_count": 10,
   "metadata": {},
   "outputs": [],
   "source": [
    "booklengths= ...\n",
    "print(booklengths)"
   ]
  },
  {
   "cell_type": "code",
   "execution_count": null,
   "metadata": {
    "deletable": false,
    "editable": false
   },
   "outputs": [],
   "source": [
    "grader.check(\"q5\")"
   ]
  },
  {
   "cell_type": "markdown",
   "metadata": {
    "deletable": false,
    "editable": false
   },
   "source": [
    "**Question 6:**\n",
    "\n",
    "Use the string count() method to count how many new line characters (\\n) there are in each book, and store\n",
    "these counts in a list called Store each new book in a list called **number_of_newlines** (ordered by year as in **books**).\n",
    "\n",
    "<!--\n",
    "BEGIN QUESTION\n",
    "name: q6\n",
    "manual: false\n",
    "-->"
   ]
  },
  {
   "cell_type": "code",
   "execution_count": 12,
   "metadata": {},
   "outputs": [],
   "source": [
    "number_of_newlines= ...\n",
    "# do not modify the following line\n",
    "print(number_of_newlines)"
   ]
  },
  {
   "cell_type": "code",
   "execution_count": null,
   "metadata": {
    "deletable": false,
    "editable": false
   },
   "outputs": [],
   "source": [
    "grader.check(\"q6\")"
   ]
  },
  {
   "cell_type": "markdown",
   "metadata": {
    "deletable": false,
    "editable": false
   },
   "source": [
    "**Question 7:**\n",
    "\n",
    "Use the string replace method to replace every newline character in each book by a space character.\n",
    "Then use the string split() each book on the *space* character to produce a list of strings for every book.\n",
    "Store this all as a list of lists (one list for every book) in a list called **list_of_lists** (using the \n",
    "same ordering as above). \n",
    "\n",
    "<!--\n",
    "BEGIN QUESTION\n",
    "name: q7\n",
    "manual: false\n",
    "-->"
   ]
  },
  {
   "cell_type": "code",
   "execution_count": 14,
   "metadata": {},
   "outputs": [],
   "source": [
    "list_of_lists= ..."
   ]
  },
  {
   "cell_type": "code",
   "execution_count": null,
   "metadata": {
    "deletable": false,
    "editable": false
   },
   "outputs": [],
   "source": [
    "grader.check(\"q7\")"
   ]
  },
  {
   "cell_type": "markdown",
   "metadata": {},
   "source": [
    "## Splitting a string on a character\n",
    "\n",
    "Note that when we split a string on a character that is repeated, we get what might be viewed as unexpected results.\n",
    "Consider the following example."
   ]
  },
  {
   "cell_type": "code",
   "execution_count": 16,
   "metadata": {},
   "outputs": [],
   "source": [
    "mystring=\" This is a  test.  How many strings do  we get   when we split me on  the space character?\"\n",
    "len(mystring.split(\" \"))"
   ]
  },
  {
   "cell_type": "markdown",
   "metadata": {},
   "source": [
    "Do you see why we get this number. Try printing the list to understand what's going on."
   ]
  },
  {
   "cell_type": "markdown",
   "metadata": {
    "deletable": false,
    "editable": false
   },
   "source": [
    "**Question 8:**\n",
    "\n",
    "Use the list count() method the number of occurences of the string ' ' in each list of strings in **list_of_lists** and \n",
    "put those numbers in a list called **number_of_empty_strings**. There should be one number for each book.\n",
    "\n",
    "<!--\n",
    "BEGIN QUESTION\n",
    "name: q8\n",
    "manual: false\n",
    "-->"
   ]
  },
  {
   "cell_type": "code",
   "execution_count": 17,
   "metadata": {},
   "outputs": [],
   "source": [
    "number_of_empty_strings= ...\n",
    "# do not modify the following line\n",
    "print(number_of_empty_strings)"
   ]
  },
  {
   "cell_type": "code",
   "execution_count": null,
   "metadata": {
    "deletable": false,
    "editable": false
   },
   "outputs": [],
   "source": [
    "grader.check(\"q8\")"
   ]
  },
  {
   "cell_type": "markdown",
   "metadata": {
    "deletable": false,
    "editable": false
   },
   "source": [
    "**Question 9:**\n",
    "\n",
    "For each list in list of lists, count the number strings that are not of the form \"\" and make a new list called **number_of_words** consisting of that count for each book. This list should have a single number for each book.\n",
    "\n",
    "<!--\n",
    "BEGIN QUESTION\n",
    "name: q9\n",
    "manual: false\n",
    "-->"
   ]
  },
  {
   "cell_type": "code",
   "execution_count": 19,
   "metadata": {},
   "outputs": [],
   "source": [
    "number_of_words= ...\n",
    "# do not modify the following line\n",
    "print(number_of_words)"
   ]
  },
  {
   "cell_type": "code",
   "execution_count": null,
   "metadata": {
    "deletable": false,
    "editable": false
   },
   "outputs": [],
   "source": [
    "grader.check(\"q9\")"
   ]
  },
  {
   "cell_type": "markdown",
   "metadata": {
    "deletable": false,
    "editable": false
   },
   "source": [
    "**Question 10:**\n",
    "\n",
    "We can refer to each entry in our list of lists that is not the empty string as a *word*.\n",
    "Calculate the sum of the lengths of all words in each list of lists and put these in a list called **sum_of_word_lengths** \n",
    "(one number for each book).\n",
    "<!--\n",
    "BEGIN QUESTION\n",
    "name: q10\n",
    "manual: false\n",
    "-->"
   ]
  },
  {
   "cell_type": "code",
   "execution_count": 21,
   "metadata": {},
   "outputs": [],
   "source": [
    "sum_of_word_lengths = ...\n",
    "# do not modify the following line\n",
    "print(sum_of_word_lengths)"
   ]
  },
  {
   "cell_type": "code",
   "execution_count": null,
   "metadata": {
    "deletable": false,
    "editable": false
   },
   "outputs": [],
   "source": [
    "grader.check(\"q10\")"
   ]
  },
  {
   "cell_type": "markdown",
   "metadata": {
    "deletable": false,
    "editable": false
   },
   "source": [
    "**Question 11:**\n",
    "\n",
    "Compute the average word length in each book using the quotient of the answers in Questions 9 and 10 and store these in a list called **average_word_length** (one for each book).\n",
    "\n",
    "Round your answers to 3 decimal places using the round() function.\n",
    "\n",
    "<!--\n",
    "BEGIN QUESTION\n",
    "name: q11\n",
    "manual: false\n",
    "-->"
   ]
  },
  {
   "cell_type": "code",
   "execution_count": 23,
   "metadata": {},
   "outputs": [],
   "source": [
    "average_word_length= ...\n",
    "# do not modify the following line\n",
    "print(average_word_length)"
   ]
  },
  {
   "cell_type": "code",
   "execution_count": null,
   "metadata": {
    "deletable": false,
    "editable": false
   },
   "outputs": [],
   "source": [
    "grader.check(\"q11\")"
   ]
  },
  {
   "cell_type": "markdown",
   "metadata": {},
   "source": [
    "**Final Instructions:**\n",
    "0) make sure you run every cell \n",
    "1) make sure you save your notebook before submitting it in Blackboard\n",
    "2) do **not** zip your notebook \n",
    "3) do **not** change the name of your notebook - we **will** be able to identify you without doing that"
   ]
  },
  {
   "cell_type": "markdown",
   "metadata": {},
   "source": []
  },
  {
   "cell_type": "code",
   "execution_count": null,
   "metadata": {},
   "outputs": [],
   "source": []
  },
  {
   "cell_type": "markdown",
   "metadata": {
    "deletable": false,
    "editable": false
   },
   "source": [
    "---\n",
    "\n",
    "To double-check your work, the cell below will rerun all of the autograder tests."
   ]
  },
  {
   "cell_type": "code",
   "execution_count": null,
   "metadata": {
    "deletable": false,
    "editable": false
   },
   "outputs": [],
   "source": [
    "grader.check_all()"
   ]
  }
 ],
 "metadata": {
  "kernelspec": {
   "display_name": "Python 3",
   "language": "python",
   "name": "python3"
  },
  "language_info": {
   "codemirror_mode": {
    "name": "ipython",
    "version": 3
   },
   "file_extension": ".py",
   "mimetype": "text/x-python",
   "name": "python",
   "nbconvert_exporter": "python",
   "pygments_lexer": "ipython3",
   "version": "3.9.6"
  }
 },
 "nbformat": 4,
 "nbformat_minor": 4
}
