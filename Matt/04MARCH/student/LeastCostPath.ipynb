{
 "cells": [
  {
   "cell_type": "code",
   "execution_count": 1,
   "metadata": {
    "deletable": false,
    "editable": false
   },
   "outputs": [],
   "source": [
    "# Initialize Otter\n",
    "import otter\n",
    "grader = otter.Notebook(\"LeastCostPath.ipynb\")"
   ]
  },
  {
   "cell_type": "markdown",
   "metadata": {},
   "source": [
    "You will need to execute the following cell to use this notebook. \n",
    "\n",
    "**Important Notes:**\n",
    "\n",
    "- when doing Otter assignments please do not include extraneous materials, including code, print statements. \n",
    "\n",
    "- if you do need to write extra code for testing purposes, please do it in another notebook and copy only the needed code to answer the problems into the notebook you hand in.\n",
    "\n",
    "- don't forget to execute your cells in order and save your work before turning yout work in.\n",
    "\n",
    "- this assignment assumes you are working in an environment in which the **sympy** package has been installed.\n",
    "\n",
    "- this assignment uses the json package **which does not require installation.**\n",
    "\n",
    "- before beginning this assignment, you should read the pdf entitled **Least Cost Path in a Rectangular Grid** and your answers below should make use of pseudo-code provided there.\n",
    "\n",
    "- all *tests* in this notebook are *hidden* unless indicated otherwise. So no feedback becomes available until the notebook is graded.\n"
   ]
  },
  {
   "cell_type": "code",
   "execution_count": 2,
   "metadata": {},
   "outputs": [],
   "source": [
    "import numpy as np\n",
    "import pandas as pd\n",
    "from sympy.utilities.iterables import multiset_permutations\n",
    "import otter\n",
    "grader = otter.Notebook()"
   ]
  },
  {
   "cell_type": "markdown",
   "metadata": {},
   "source": [
    "## Sympy \n",
    "We will use the sympy package to since it allows us to generate all possible permutations of the elements of a list. The list can consist of identical values, hence the term *multiset*. As you are all aware, the number of permutations of aaabb is Binomal(5,3) = 10."
   ]
  },
  {
   "cell_type": "code",
   "execution_count": 3,
   "metadata": {},
   "outputs": [
    {
     "name": "stdout",
     "output_type": "stream",
     "text": [
      "['a', 'a', 'a', 'b', 'b']\n",
      "['a', 'a', 'b', 'a', 'b']\n",
      "['a', 'a', 'b', 'b', 'a']\n",
      "['a', 'b', 'a', 'a', 'b']\n",
      "['a', 'b', 'a', 'b', 'a']\n",
      "['a', 'b', 'b', 'a', 'a']\n",
      "['b', 'a', 'a', 'a', 'b']\n",
      "['b', 'a', 'a', 'b', 'a']\n",
      "['b', 'a', 'b', 'a', 'a']\n",
      "['b', 'b', 'a', 'a', 'a']\n"
     ]
    }
   ],
   "source": [
    "perms=multiset_permutations([\"a\",\"a\",\"a\",\"b\",\"b\"])\n",
    "for p in perms:\n",
    "    print(p)"
   ]
  },
  {
   "cell_type": "markdown",
   "metadata": {},
   "source": [
    "## Saving and Loading Numpy Arrays\n",
    "\n",
    "H and V arrays for sample problems have been created using code in the ProblemFiles.ipynb file. You can see there that these arrays are created using a numpy random number generator. The numpy **save** command is used to save the files. Whatever file name is used as an argument, by default the suffix *\".npy\"*  is appended to the file name, and the file is saved in a format that can be rea using **in any platform** using the numpy **load** command.\n",
    "\n",
    "In the code below several numpy arrays are loaded. **You should not modify these arrays anywhere in the notebook.**"
   ]
  },
  {
   "cell_type": "code",
   "execution_count": 4,
   "metadata": {},
   "outputs": [
    {
     "name": "stdout",
     "output_type": "stream",
     "text": [
      "[[0.54340494 0.27836939 0.42451759]\n",
      " [0.84477613 0.00471886 0.12156912]\n",
      " [0.67074908 0.82585276 0.13670659]\n",
      " [0.57509333 0.89132195 0.20920212]\n",
      " [0.18532822 0.10837689 0.21969749]]\n",
      "\n",
      "\n",
      "[[0.97862378 0.81168315 0.17194101 0.81622475]\n",
      " [0.27407375 0.43170418 0.94002982 0.81764938]\n",
      " [0.33611195 0.17541045 0.37283205 0.00568851]\n",
      " [0.25242635 0.79566251 0.01525497 0.59884338]]\n"
     ]
    }
   ],
   "source": [
    "H1=np.load(\"H1.npy\")\n",
    "V1=np.load(\"V1.npy\")\n",
    "print(H1)\n",
    "print(\"\\n\")\n",
    "print(V1)\n",
    "H2=np.load(\"H2.npy\")\n",
    "V2=np.load(\"V2.npy\")\n",
    "H3=np.load(\"H3.npy\")\n",
    "V3=np.load(\"V3.npy\")\n",
    "H4=np.load(\"H4.npy\")\n",
    "V4=np.load(\"V4.npy\")\n",
    "H5=np.load(\"H5.npy\")\n",
    "V5=np.load(\"V5.npy\")"
   ]
  },
  {
   "cell_type": "markdown",
   "metadata": {
    "deletable": false,
    "editable": false
   },
   "source": [
    "Write a function called **GetIndicesOfPath** that takes as input a **path**, which is list of individual characters from among {\"H\",\"V\"} and outputs a list of 2-tuples giving the pairs of indices $(I,J)$ corresponding to positions in a matrix starting from $(0,0)$ and ending with $(m,n)$ where $m$ is the number of V's in the path, and $n$ is the number of H's in the path.\n",
    "\n",
    "So for example, the path ['H','H','V','V','H'] should give as output the *list*\n",
    "[(0,0),(0,1),(0,2),(1,2),(2,2),(2,3)]\n",
    "\n",
    "<!--\n",
    "BEGIN QUESTION\n",
    "name: q1\n",
    "manual: false\n",
    "points: 1\n",
    "-->"
   ]
  },
  {
   "cell_type": "code",
   "execution_count": 4,
   "metadata": {},
   "outputs": [],
   "source": [
    "def GetIndicesOfPath(path):\n",
    "    ...\n",
    "#\n",
    "# Do not modify the following lines\n",
    "#\n",
    "path=['H','H','V','V','H']\n",
    "print(GetIndicesOfPath(path))"
   ]
  },
  {
   "cell_type": "code",
   "execution_count": null,
   "metadata": {
    "deletable": false,
    "editable": false
   },
   "outputs": [],
   "source": [
    "grader.check(\"q1\")"
   ]
  },
  {
   "cell_type": "markdown",
   "metadata": {
    "deletable": false,
    "editable": false
   },
   "source": [
    "Write a function called **PathCost** that takes as inputs the following:\n",
    "\n",
    "- two positive integers **m** and **n**, giving grid dimenssions, \n",
    "- a numpy array **H** ($m \\times (n+1)$) giving, in position $(i,j)$ the cost of a horizontal move from $(i,j)$ to $(i,j+1),$ and\n",
    "- a numpy array **V** ($m+1 \\times n)$ giving, in postion $(i,j)$ the cost of a vertical move from $(i,j)$ to $(i+1,j)$\n",
    "- a **path**, which is a list of characters of size $m+n$ consisting of $m$ H's and $n$ V's. \n",
    "\n",
    "and as output the cost of moving from $(0,0)$ to $(m,n)$ defined by the horizontal and vertical moves in path.\n",
    "\n",
    "<!--\n",
    "BEGIN QUESTION\n",
    "name: q2\n",
    "manual: false\n",
    "points: 2\n",
    "-->"
   ]
  },
  {
   "cell_type": "code",
   "execution_count": 7,
   "metadata": {},
   "outputs": [],
   "source": [
    "def PathCost(m,n,H,V,path): \n",
    "    ...\n",
    "    return(cost) \n",
    "#\n",
    "# Do not modify the following lines\n",
    "#\n",
    "m=4\n",
    "n=3\n",
    "cost=PathCost(4,3,H1,V1,[\"V\" for i in range(m)]+[\"H\" for i in range(n)])\n",
    "print(cost)"
   ]
  },
  {
   "cell_type": "code",
   "execution_count": null,
   "metadata": {
    "deletable": false,
    "editable": false
   },
   "outputs": [],
   "source": [
    "grader.check(\"q2\")"
   ]
  },
  {
   "cell_type": "markdown",
   "metadata": {
    "deletable": false,
    "editable": false
   },
   "source": [
    "Write a function called **LeastCostPathBruteForce** that takes as input\n",
    "\n",
    "- two positive integers **m** and **n**, giving grid dimensions, \n",
    "- a numpy array **H** ($m \\times (n+1)$) giving, in position $(i,j)$ the cost of a horizontal move from $(i,j)$ to $(i,j+1),$ and\n",
    "- a numpy array **V** ($m+1 \\times n)$ giving, in postion $(i,j)$ the cost of a vertical move from $(i,j)$ to $(i+1,j)$\n",
    "\n",
    "and as output gives a 2-tuple containing (in the following order):\n",
    "\n",
    "- the **cost** (a number) of a least cost path from $(0,0)$ to $(m,n)$ **rounded to 3 decimal places,** and \n",
    "- an optimal path, which should be a list of 2-tuples [(0,0),....,(m,n)] giving nodes visited along an optimal path *in order*.\n",
    "\n",
    "Your function should solve the problem using the **brute-force** approach of iterating over all possible paths.\n",
    "\n",
    "It is always a good idea to test your code problems where a brute-force solution can be found. This code will not be useful practically for large values of $m$ and $n$ but you **can** use it for testing purposes. \n",
    "\n",
    "It would be wise to test your code on some small examples in a **different notebook**.\n",
    "\n",
    "<!--\n",
    "BEGIN QUESTION\n",
    "name: q3\n",
    "manual: false\n",
    "points: 4\n",
    "-->"
   ]
  },
  {
   "cell_type": "code",
   "execution_count": 10,
   "metadata": {},
   "outputs": [],
   "source": [
    "def LeastCostPathBruteForce(m,n,H,V):\n",
    "    ...\n",
    "    return((mincost,path))\n",
    "#\n",
    "# Do not modify the following lines.\n",
    "#\n",
    "mincost1=LeastCostPathBruteForce(4,3,H1,V1)\n",
    "mincost2=LeastCostPathBruteForce(5,8,H2,V2)\n",
    "print(mincost1[0])\n",
    "print(mincost1[1])\n",
    "print(mincost2[0])\n",
    "print(mincost2[1])"
   ]
  },
  {
   "cell_type": "code",
   "execution_count": null,
   "metadata": {
    "deletable": false,
    "editable": false
   },
   "outputs": [],
   "source": [
    "grader.check(\"q3\")"
   ]
  },
  {
   "cell_type": "markdown",
   "metadata": {
    "deletable": false,
    "editable": false
   },
   "source": [
    "Write code to compute the same output, but using dynamic programming as described in the *LeastCostPathInRectangularGrid.pdf* document. Call this function **LeastCostPathDynamicProgramming**.\n",
    "\n",
    "**Make sure** you round your least cost solution to 3 decimal places.\n",
    "\n",
    "Before doing the hidden tests, you should test your code in **a different notebook** on random cases when m and n are small enough so that the brute-force method can be applied and you should get the same answers using the two methods provided that there is no possibility of multiple optimal paths. (This will have a **very small probability** if you take V and H to be random with uniformly distributed entries.)\n",
    "\n",
    "<!--\n",
    "BEGIN QUESTION\n",
    "name: q4\n",
    "manual: false\n",
    "points: 5\n",
    "-->"
   ]
  },
  {
   "cell_type": "code",
   "execution_count": 15,
   "metadata": {},
   "outputs": [],
   "source": [
    "def LeastCostPathDynamicProgramming(m,n,H,V):\n",
    "    ...\n",
    "            \n",
    "#\n",
    "# Do not modify the following lines.\n",
    "#\n",
    "mincost11=LeastCostPathDynamicProgramming(4,3,H1,V1)\n",
    "mincost12=LeastCostPathBruteForce(4,3,H1,V1)\n",
    "print(mincost11)\n",
    "print(mincost12)\n",
    "mincost21=LeastCostPathDynamicProgramming(5,8,H2,V2)\n",
    "mincost22=LeastCostPathBruteForce(5,8,H2,V2)\n",
    "print(mincost21)\n",
    "print(mincost22)"
   ]
  },
  {
   "cell_type": "code",
   "execution_count": null,
   "metadata": {
    "deletable": false,
    "editable": false
   },
   "outputs": [],
   "source": [
    "grader.check(\"q4\")"
   ]
  },
  {
   "cell_type": "markdown",
   "metadata": {},
   "source": [
    "**Final Instructions:**\n",
    "1) save your notebook befor submitting it in Canvas\n",
    "2) do **not** zip your notebook \n",
    "3) do **not** change the name of your notebook\n"
   ]
  },
  {
   "cell_type": "code",
   "execution_count": null,
   "metadata": {},
   "outputs": [],
   "source": []
  },
  {
   "cell_type": "markdown",
   "metadata": {
    "deletable": false,
    "editable": false
   },
   "source": [
    "---\n",
    "\n",
    "To double-check your work, the cell below will rerun all of the autograder tests."
   ]
  },
  {
   "cell_type": "code",
   "execution_count": null,
   "metadata": {
    "deletable": false,
    "editable": false
   },
   "outputs": [],
   "source": [
    "grader.check_all()"
   ]
  }
 ],
 "metadata": {
  "kernelspec": {
   "display_name": "Python 3",
   "language": "python",
   "name": "python3"
  },
  "language_info": {
   "codemirror_mode": {
    "name": "ipython",
    "version": 3
   },
   "file_extension": ".py",
   "mimetype": "text/x-python",
   "name": "python",
   "nbconvert_exporter": "python",
   "pygments_lexer": "ipython3",
   "version": "3.8.5"
  }
 },
 "nbformat": 4,
 "nbformat_minor": 5
}
