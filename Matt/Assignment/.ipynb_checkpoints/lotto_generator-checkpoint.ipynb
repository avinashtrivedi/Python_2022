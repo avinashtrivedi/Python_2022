{
 "cells": [
  {
   "cell_type": "code",
   "execution_count": 11,
   "id": "2cbc143a",
   "metadata": {},
   "outputs": [],
   "source": [
    "# Define a lotto number generator (as a function)\n",
    "# Use random sampling to generate the result of 10 dice rolls (numbers between 1 and 6)\n",
    "# Change the outcome to 0 if the number is under 4 (exclusive), and 1 if over 4 (inclusive)\n",
    "# Use 'sum' to count all high numbers (face of 4 or above)"
   ]
  },
  {
   "cell_type": "code",
   "execution_count": 21,
   "id": "a12f8196",
   "metadata": {},
   "outputs": [],
   "source": [
    "import numpy as np\n",
    "def lotto_number_generator():\n",
    "    a = [1,2,3,4,5,6]\n",
    "    rolls = np.random.choice(a,10)\n",
    "    print(rolls)\n",
    "    no_high_numbers = sum([0 if roll<4 else 1 for roll in rolls])\n",
    "    return no_high_numbers"
   ]
  },
  {
   "cell_type": "code",
   "execution_count": 22,
   "id": "79935ce1",
   "metadata": {},
   "outputs": [
    {
     "name": "stdout",
     "output_type": "stream",
     "text": [
      "[2 3 1 3 3 4 3 2 3 6]\n"
     ]
    },
    {
     "data": {
      "text/plain": [
       "2"
      ]
     },
     "execution_count": 22,
     "metadata": {},
     "output_type": "execute_result"
    }
   ],
   "source": [
    "lotto_number_generator()"
   ]
  },
  {
   "cell_type": "code",
   "execution_count": 23,
   "id": "232c3301",
   "metadata": {},
   "outputs": [
    {
     "name": "stdout",
     "output_type": "stream",
     "text": [
      "[6 4 2 4 5 6 5 3 3 1]\n"
     ]
    },
    {
     "data": {
      "text/plain": [
       "6"
      ]
     },
     "execution_count": 23,
     "metadata": {},
     "output_type": "execute_result"
    }
   ],
   "source": [
    "lotto_number_generator()"
   ]
  },
  {
   "cell_type": "code",
   "execution_count": 24,
   "id": "ed8bd1da",
   "metadata": {},
   "outputs": [
    {
     "name": "stdout",
     "output_type": "stream",
     "text": [
      "[5 5 2 3 6 1 2 2 1 6]\n"
     ]
    },
    {
     "data": {
      "text/plain": [
       "4"
      ]
     },
     "execution_count": 24,
     "metadata": {},
     "output_type": "execute_result"
    }
   ],
   "source": [
    "lotto_number_generator()"
   ]
  },
  {
   "cell_type": "code",
   "execution_count": null,
   "id": "3655d285",
   "metadata": {},
   "outputs": [],
   "source": []
  }
 ],
 "metadata": {
  "kernelspec": {
   "display_name": "Python 3 (ipykernel)",
   "language": "python",
   "name": "python3"
  },
  "language_info": {
   "codemirror_mode": {
    "name": "ipython",
    "version": 3
   },
   "file_extension": ".py",
   "mimetype": "text/x-python",
   "name": "python",
   "nbconvert_exporter": "python",
   "pygments_lexer": "ipython3",
   "version": "3.8.5"
  }
 },
 "nbformat": 4,
 "nbformat_minor": 5
}
