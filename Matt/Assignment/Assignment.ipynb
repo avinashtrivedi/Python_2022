{
 "cells": [
  {
   "cell_type": "code",
   "execution_count": null,
   "id": "3015c1f2-fb08-4107-9ad9-7b4a47e25495",
   "metadata": {},
   "outputs": [],
   "source": [
    "import numpy as np\n",
    "from sympy.utilities.iterables import multiset_permutations\n",
    "import itertools\n",
    "import time\n",
    "import pandas as pd"
   ]
  },
  {
   "cell_type": "markdown",
   "id": "4393b6c6-24d6-4f6f-a525-780599358e12",
   "metadata": {},
   "source": [
    "## IMPORTANT = READ THESE INSTRUCTIONS CAREFULLY\n",
    "\n",
    "In the exercises below your goal is to fill in the cells with code as describe. Your functions should work on the samples provided **without modification.**\n",
    "\n",
    "- **we** should be able to run your entire notebook by selecting Run->Run All Cells and **all** of your code will run without error within at most a few minutes\n",
    "- there are many sample codes below that you can use to test the code you provide, and a rough idea of how quickly your code should run is provided for each as well\n",
    "- you should not use lists when you can use numpy arrays\n",
    "- you should not use recursion when you don't have to and when it is inefficient (both in memory and time to execution) to use recursion\n",
    "- you should test code you provide and make sure it runs without errors\n",
    "- once you have done your testing **you should be sure to remove**\n",
    "    - any functions that are not needed in the code you are asked to provide\n",
    "    - any variable assignments that are not needed in the code you are asked to provide\n",
    "- make sure your code runs on examples does not contain infinite loops\n",
    "- make sure the time it takes your code to run in examples is consistent with the complexity of the task being carried out\n",
    "- do not put lines of code that excecute at the OS level. For example you should not have lines that install packages included in your code. Do all of your package installation outside of the notebook.\n",
    "- when asked to write a function with some name, make sure you \n",
    "    - use the exact name asked for\n",
    "    - use the exact arguments asked for\n",
    "    - give the exact type of output asked for\n",
    "- functions you provide will be tested, so we'll be looking for functions with the exact name asked for. Make sure you only have one version in your notebook."
   ]
  },
  {
   "cell_type": "markdown",
   "id": "48e4576a-0997-40de-9807-3b0603778ff3",
   "metadata": {},
   "source": [
    "## Problem 1 (2 points)\n",
    "\n",
    "Write a function called **PathCost** that takes as inputs the following:\n",
    "\n",
    "- two positive integers **m** and **n**, giving grid dimenssions, \n",
    "- a numpy array **H** ($(m+1) \\times n$) giving, in position $(i,j)$ the cost of a horizontal move from $(i,j)$ to $(i,j+1),$ and\n",
    "- a numpy array **V** ($m \\times (n+1)$) giving, in postion $(i,j)$ the cost of a vertical move from $(i,j)$ to $(i+1,j)$\n",
    "- a numpy array **B** ($m \\times n$) giving in position $(i,j)$ the cost of a diagonal move from $(i,j)$ to $(i+1,j+1)$\n",
    "- a **path**, which is a list of characters of size $m+n$ consisting of V's, H's, and B's, where \n",
    "    - the number of B's is in $\\{ 0,1,\\ldots,\\min(m,n)\\},$\n",
    "    - the number of H's plus the number of B's equals $n$ and,\n",
    "    - the number of V's plus the number of B's equals $m.$ \n",
    "\n",
    "and as output the cost of moving from $(0,0)$ to $(m,n)$ defined by the horizontal and vertical moves in path. Round the cost to 3 decimal places."
   ]
  },
  {
   "cell_type": "code",
   "execution_count": null,
   "id": "392b4459-7026-4baf-a746-6b619ba39cb0",
   "metadata": {},
   "outputs": [],
   "source": [
    "def PathCost(m,n,H,V,B, path): \n",
    "    ..."
   ]
  },
  {
   "cell_type": "markdown",
   "id": "92d51234-4481-4307-929b-82667f7dfa78",
   "metadata": {},
   "source": [
    "## Sample code 1\n",
    "\n",
    "The following code should typically take less than 1 second to execute when m=1000 and n=2000."
   ]
  },
  {
   "cell_type": "code",
   "execution_count": null,
   "id": "c0a27de2-c66b-4b69-b86c-f4066c53ec3a",
   "metadata": {},
   "outputs": [],
   "source": [
    "start_time=time.time()\n",
    "m=1000\n",
    "n=1000\n",
    "H=np.random.normal(0,1,size=(m+1,n))\n",
    "V=np.random.normal(0,1,size=(m,n+1))\n",
    "B=np.random.normal(0,1,size=(m,n))\n",
    "nB=np.random.choice(range(min(m,n)))\n",
    "nV=m-nB\n",
    "nH=n-nB\n",
    "L=[\"H\" for i in range(nH)]+[\"V\" for i in range(nV)]+[\"B\" for i in range(nB)]\n",
    "path=list(np.random.permutation(L))\n",
    "cost=PathCost(m,n,H,V,B,path)\n",
    "print(cost)\n",
    "end_time=time.time()\n",
    "print(end_time-start_time)"
   ]
  },
  {
   "cell_type": "markdown",
   "id": "d8483b15-2292-48ec-a9af-f879d692ab61",
   "metadata": {},
   "source": [
    "## Combining iterators\n",
    "\n",
    "Suppose you have several iterators, say a list of them \n",
    "\n",
    "iter_list=[it1, it2, ..., itk].\n",
    "\n",
    "You want a single iterator iterates over it1, then it2, then it3, and so on.\n",
    "This can be done in various ways. One method, illustrated here uses itertools."
   ]
  },
  {
   "cell_type": "code",
   "execution_count": null,
   "id": "79f8f1c2-d9ff-4ae6-9a73-b3c7456a879d",
   "metadata": {},
   "outputs": [],
   "source": [
    "# create 3 generators\n",
    "it0=(1 for i in range(5))\n",
    "it1=(i for i in range(5))\n",
    "it2=(i**2 for i in range(5))\n",
    "# chain them\n",
    "IT=itertools.chain()\n",
    "IT=itertools.chain(IT,it0)\n",
    "IT=itertools.chain(IT,it1)\n",
    "IT=itertools.chain(IT,it2)"
   ]
  },
  {
   "cell_type": "code",
   "execution_count": null,
   "id": "a0f9dc85-c5e3-4e57-a677-a3c1fe37fa90",
   "metadata": {},
   "outputs": [],
   "source": [
    "L=[i for i in IT]\n",
    "print(L)"
   ]
  },
  {
   "cell_type": "markdown",
   "id": "e84c11ba-6559-455b-a275-d7e3620715c3",
   "metadata": {},
   "source": [
    "Another approach makes a generator out of a list of generators."
   ]
  },
  {
   "cell_type": "code",
   "execution_count": null,
   "id": "d6f11885-d30b-46f3-8a4a-53c4ae429ddc",
   "metadata": {},
   "outputs": [],
   "source": [
    "# create a list of 3 generators\n",
    "it0=(1 for i in range(5))\n",
    "it1=(i for i in range(5))\n",
    "it2=(i**2 for i in range(5))\n",
    "ITlist=[it0,it1,it2]\n",
    "# chain them\n",
    "IT=itertools.chain(*ITlist)"
   ]
  },
  {
   "cell_type": "code",
   "execution_count": null,
   "id": "95cb0cb2-2ed7-42f4-b9f8-cfe653d85ff5",
   "metadata": {},
   "outputs": [],
   "source": [
    "L=[i for i in IT]\n",
    "print(L)"
   ]
  },
  {
   "cell_type": "markdown",
   "id": "8dfc88a4-ae6e-446d-8016-dc6db21fa494",
   "metadata": {},
   "source": [
    "## Problem 2 (2 points)\n",
    "\n",
    "Write a function called **AllPaths** that takes as arguments values of $m$ and $n$ returns an interator over the set of possible paths from (0,0) to (m,n) in which horizontal, vertical or both (diagonal) moves are allowed."
   ]
  },
  {
   "cell_type": "code",
   "execution_count": null,
   "id": "b644e355-3a58-48dd-98a2-07a50177472c",
   "metadata": {},
   "outputs": [],
   "source": [
    "def AllPaths(m,n):\n",
    "    ..."
   ]
  },
  {
   "cell_type": "markdown",
   "id": "f472636a-58bf-435e-9b94-3cd4f6e8ca60",
   "metadata": {},
   "source": [
    "## Sample Code 2\n",
    "\n",
    "The following should typically run in less than a second."
   ]
  },
  {
   "cell_type": "code",
   "execution_count": null,
   "id": "dd4c5677-0a6e-4bc1-a042-16406d4c4e7a",
   "metadata": {},
   "outputs": [],
   "source": [
    "start_time=time.time()\n",
    "m=8\n",
    "n=6\n",
    "G=AllPaths(m,n)\n",
    "ListOfAllPaths=[]\n",
    "for g in G:\n",
    "    ListOfAllPaths.append(g)\n",
    "print(len(ListOfAllPaths))\n",
    "end_time=time.time()\n",
    "print(end_time-start_time)"
   ]
  },
  {
   "cell_type": "markdown",
   "id": "78c86b82-7df2-4913-abaf-a31f6aab9d42",
   "metadata": {},
   "source": [
    "## Problem 3 (2 points)\n",
    "\n",
    "Write a function called **LeastCostPathBruteForce** that takes as input\n",
    "\n",
    "- two positive integers **m** and **n**, giving grid dimensions, \n",
    "- a numpy array **H** ($m \\times (n+1)$) giving, in position $(i,j)$ the cost of a horizontal move from $(i,j)$ to $(i,j+1),$ and\n",
    "- a numpy array **V** ($m+1 \\times n)$ giving, in postion $(i,j)$ the cost of a vertical move from $(i,j)$ to $(i+1,j)$\n",
    "- a numpy array **B** ($m \\times n)$ giving, in postion $(i,j)$ the cost of a diagonal move from $(i,j)$ to $(i+1,j+1)$\n",
    "and as output gives a 2-tuple containing (in the following order):\n",
    "\n",
    "- the **cost** (a number) of a least cost path from $(0,0)$ to $(m,n)$ **rounded to 3 decimal places,** and \n",
    "- an optimal path, which should be a list of characters from \n",
    "the set $\\{H,V,B\\}.$\n",
    "\n",
    "Your function should solve the problem using the **brute-force** approach of iterating over all possible paths."
   ]
  },
  {
   "cell_type": "code",
   "execution_count": null,
   "id": "8ee44273-6bcd-4bc1-b400-23b159ab3fcd",
   "metadata": {},
   "outputs": [],
   "source": [
    "def LeastCostPathBruteForce(m,n,H,V,B):\n",
    "    ..."
   ]
  },
  {
   "cell_type": "markdown",
   "id": "6ced1e68-8700-4da4-bd30-a8b480adcb44",
   "metadata": {},
   "source": [
    "## Sample Code 3\n",
    "\n",
    "The following code should typically run in less than 1 second when m=8 and n=5."
   ]
  },
  {
   "cell_type": "code",
   "execution_count": null,
   "id": "c38b58a9-17d6-4e37-9e68-f610b8e77928",
   "metadata": {},
   "outputs": [],
   "source": [
    "start_time=time.time()\n",
    "m=8\n",
    "n=5\n",
    "H=np.random.normal(0,1,size=(m+1,n))\n",
    "V=np.random.normal(0,1,size=(m,n+1))\n",
    "B=np.random.normal(0,1,size=(m,n))\n",
    "nB=np.random.choice(range(min(m,n)))\n",
    "res=LeastCostPathBruteForce(m,n,H,V,B)\n",
    "print(res)\n",
    "end_time=time.time()\n",
    "print(end_time-start_time)"
   ]
  },
  {
   "cell_type": "markdown",
   "id": "64a28843-a60c-46aa-89dd-04d87987b5ae",
   "metadata": {},
   "source": [
    "## Problem 4 (2 points)\n",
    "\n",
    "Write code to take the same input as LeastCostPathBruteForce and compute the same output, but this time using dynamic programming as described in the *LeastCostPathRevisited.pdf* document. Call this function **LeastCostDynamicProgramming**."
   ]
  },
  {
   "cell_type": "code",
   "execution_count": null,
   "id": "f91f0a3d-9e3c-497c-ab43-96f14e93abfa",
   "metadata": {},
   "outputs": [],
   "source": [
    "def LeastCostPathDynamicProgramming(m,n,H,V,B):\n",
    "    ...\n"
   ]
  },
  {
   "cell_type": "markdown",
   "id": "155a2236-a617-4369-b033-4cb9d814e93d",
   "metadata": {},
   "source": [
    "## Sample Code 4\n",
    "\n",
    "The following code should typically run in less than 1 second when m=200 and n=100."
   ]
  },
  {
   "cell_type": "code",
   "execution_count": null,
   "id": "b41c788f-a864-49fa-b715-1a091f5d7a02",
   "metadata": {},
   "outputs": [],
   "source": [
    "start_time=time.time()\n",
    "m=200\n",
    "n=100\n",
    "H=np.random.normal(0,1,size=(m+1,n))\n",
    "V=np.random.normal(0,1,size=(m,n+1))\n",
    "B=np.random.normal(0,1,size=(m,n))\n",
    "nB=np.random.choice(range(min(m,n)))\n",
    "res=LeastCostPathDynamicProgramming(m,n,H,V,B)\n",
    "print(res)\n",
    "end_time=time.time()\n",
    "print(end_time-start_time)"
   ]
  },
  {
   "cell_type": "markdown",
   "id": "4b84975a-6a82-4efc-8188-d9372cd7995a",
   "metadata": {},
   "source": [
    "## Problem 5 (2 points)\n",
    "\n",
    "Write a program called **CheckExamples** that takes as inputs\n",
    "- **m** = number of rows\n",
    "- **n** = number of columns\n",
    "- **ntrials** the number of trials.\n",
    "\n",
    "The program should, for ntrials times, generate random examples of H,V,B matrices with entries uniformly distributed in $[0,1]$ and compute the solution to the shortest path problem using both methods.\n",
    "\n",
    "The program should returns a 3-tuple consisting of\n",
    "\n",
    "- A boolean value of True if the solutions agree in every trial, and False otherwise.\n",
    "\n",
    "- The average time (in seconds) it takes for the brute force method to arrive at a solution per trial \n",
    "\n",
    "- The average time (in seconds) it takes for the dynamic programming method to arrive at a solution per trial\n",
    "\n"
   ]
  },
  {
   "cell_type": "code",
   "execution_count": null,
   "id": "9fd439ed-25b1-4fc2-8761-c34e0fc8e506",
   "metadata": {},
   "outputs": [],
   "source": [
    "def CheckExamples(m,n,ntrials):\n",
    "    ..."
   ]
  },
  {
   "cell_type": "markdown",
   "id": "ddf7ab6a-0413-402c-8e36-6759132863f6",
   "metadata": {},
   "source": [
    "## Sample Code 5\n",
    "\n",
    "The following code should take under 1 second **per trial** to run when m=8 and n=5."
   ]
  },
  {
   "cell_type": "code",
   "execution_count": null,
   "id": "2aa66810-19b0-493c-8496-aac2dafaf534",
   "metadata": {},
   "outputs": [],
   "source": [
    "CheckExamples(8,5,10)"
   ]
  },
  {
   "cell_type": "markdown",
   "id": "e3783904-81b0-4b0f-bca8-9a69db88952f",
   "metadata": {},
   "source": [
    "# String Alignment\n",
    "\n",
    "Now we apply the algorithm developed above to string alignment.\n",
    "\n",
    "## Representation of Scoring Matrices\n",
    "\n",
    "Make sure you read the background material in the pdf file that has been provided.\n",
    "\n",
    "When aligning strings, we can use a score matrix to represent the score associated with each possible character pair to be matched. Consider matching DNA strands. The possible characters in our strings are A,C,G, and T. We might use for scoring a matrix like this:\n",
    "\n",
    "$$\n",
    "\\begin{array}{c|ccccc}\n",
    "   & A  & C  &  G & T  & \\_\\\\ \\hline\n",
    "A  & 10 & 2  &  2 & 7  & 3 \\\\\n",
    "C  & 2  & 10 &  7 & 2  & 3 \\\\\n",
    "G  & 2  & 7  & 10 & 2  & 3  \\\\\n",
    "T  & 7  & 2  & 2  & 10 & 3\\\\\n",
    "\\_ & 3  & 3  & 3  & 3  & 3\\\\\n",
    "\\end{array}\n",
    "$$\n",
    "\n",
    "A scoring matrix can be defined as a dictionary of dictionaries so we can refer to an entry using, for example\n",
    "\n",
    "S[\"A\"][\"C\"]\n",
    "\n",
    "as in the following:"
   ]
  },
  {
   "cell_type": "code",
   "execution_count": null,
   "id": "3b0bccc2-9c50-4059-82b9-f26ff263078d",
   "metadata": {},
   "outputs": [],
   "source": [
    "L=  [[(\"A\",10),(\"C\",2),(\"G\",2),(\"T\",7),(\"_\",3)],\n",
    "    [(\"A\",2),(\"C\",10),(\"G\",7),(\"T\",2),(\"_\",3)],\n",
    "    [(\"A\",2),(\"C\",7),(\"G\",10),(\"T\",2),(\"_\",3)],\n",
    "    [(\"A\",7),(\"C\",2),(\"G\",2),(\"T\",10),(\"_\",3)],\n",
    "    [(\"A\",3),(\"C\",3),(\"G\",3),(\"T\",3),(\"_\",3)]]\n",
    "S={\"A\":dict(L[0]),\"C\":dict(L[1]),\"G\":dict(L[2]),\"T\":dict(L[3]),\"_\":dict(L[4])}\n",
    "print(S)\n",
    "print(\"\\n\")\n",
    "nucleotides=[\"A\",\"C\",\"G\",\"T\",\"_\"]\n",
    "for c1 in nucleotides:\n",
    "    st=\"\"\n",
    "    for c2 in nucleotides:\n",
    "        st+=\"{:4d}\".format(S[c1][c2])\n",
    "    print(st)"
   ]
  },
  {
   "cell_type": "markdown",
   "id": "f0a90e02-a07b-4f0c-8e04-b56088dab12b",
   "metadata": {},
   "source": [
    "Another way to represent this matrix and refer to the entries in the same manner is by using a pandas data frame as shown here."
   ]
  },
  {
   "cell_type": "code",
   "execution_count": null,
   "id": "cfe894fd-7193-46e9-882b-921986868518",
   "metadata": {},
   "outputs": [],
   "source": [
    "import numpy as np\n",
    "import pandas as pd\n",
    "M=np.array([[10,2,2,7,3],\n",
    "            [2,10,7,2,3],\n",
    "            [2,7,10,2,3],\n",
    "            [7,2,2,10,3],\n",
    "            [3,3,3,3,3]])\n",
    "S=pd.DataFrame(M,index=nucleotides,columns=nucleotides)\n",
    "print(S)\n",
    "print(\"\\n\")\n",
    "print(S[\"A\"][\"C\"])\n",
    "print(S[\"_\"][\"G\"])"
   ]
  },
  {
   "cell_type": "markdown",
   "id": "32cc0d76-ba8c-45c0-8ee5-d11e1b68b37c",
   "metadata": {
    "tags": []
   },
   "source": [
    "## Problem 6 (2 points)\n",
    "\n",
    "Write a function **ComputeMatricesForStringAlignment** that takes  as input the following:\n",
    "- a string **string1** \n",
    "- another string **string2** \n",
    "- a single character **inchar** be used as the insertion character (we typically use _ for this but it should be a character that we can assume doesn't appear in any input strings\n",
    "- a dictionary of dictionaries **S** or a pandas data frame giving as S[c1][c2] the score associated with matching a character c1 from string 1 and c2 from string 2 the two strings are aligned. \n",
    "\n",
    "Assuming the length of string1 is m and the length of string 2 is n, the output of your program should three matrices: \n",
    "- **H** is an $(m+1)\\times n$ matrix giving the cost of matching a character (depending on position) in string 2 with the insertion character\n",
    "- **V** is an $m \\times (n+1)$ matrix giving the cost of matching a character in string 1 (depending on position) with the insertion character\n",
    "- **B** is an $m \\times n$ matrix giving the cost of matching a character in string 1 with a character in string 2 (depending on their positions).\n",
    "\n",
    "Note that we are **maximizing** the score so our H, V and B matrices should take values that ensure that we **maximize** the score by **minimizing** the cost. "
   ]
  },
  {
   "cell_type": "code",
   "execution_count": null,
   "id": "11ec8831-cadb-42c0-8c39-472b9b3cdd5f",
   "metadata": {},
   "outputs": [],
   "source": [
    "def ComputeMatricesForStringAlignment(string1,string2,inchar,S):\n",
    "    ..."
   ]
  },
  {
   "cell_type": "markdown",
   "id": "254312d9-36eb-4f22-a2e3-a386b3efd856",
   "metadata": {},
   "source": [
    "## Sample Code 6\n",
    "\n",
    "The following code should take less than 1 second to run when m=100 and n=50."
   ]
  },
  {
   "cell_type": "code",
   "execution_count": null,
   "id": "275167e4-cf31-4f43-8c29-c5bc32b788cc",
   "metadata": {},
   "outputs": [],
   "source": [
    "start_time=time.time()\n",
    "M=np.array([[10,2,2,7,3],\n",
    "            [2,10,7,2,3],\n",
    "            [2,7,10,2,3],\n",
    "            [7,2,2,10,3],\n",
    "            [3,3,3,3,3]])\n",
    "S=pd.DataFrame(M,index=nucleotides,columns=nucleotides)\n",
    "print(S)\n",
    "m=100\n",
    "n=50\n",
    "string1=\"\".join(np.random.choice([\"A\",\"C\",\"G\",\"T\"],size=m,replace=True))\n",
    "string2=\"\".join(np.random.choice([\"A\",\"C\",\"G\",\"T\"],size=n,replace=True))\n",
    "print(string1)\n",
    "print(string2)\n",
    "inchar=\"_\"\n",
    "H,B,V=ComputeMatricesForStringAlignment(string1,string2,inchar,S)\n",
    "end_time=time.time()\n",
    "print(end_time-start_time)"
   ]
  },
  {
   "cell_type": "markdown",
   "id": "7b2bb386-b53f-4f31-abf1-ed28487d49f3",
   "metadata": {},
   "source": [
    "## Problem 7 (3 points)\n",
    "\n",
    "Write a program called **FindOptimalAlignment** that takes as input the following:\n",
    "\n",
    "- a string **string1**\n",
    "- another string **string2**\n",
    "- a single character **inchar** be used as the insertion character (we typically use _ for this but it should be a character that we can assume doesn't appear in any input strings\n",
    "- a scoring matrix **S** represented as a dictionary of dictionaries or as a pandas data frame that takes two single character arguments **c1** and **c2** and outputs a number representing the score for matching c1 and c2 when c1 is a character from string 1 and c2 is a character from string 2. \n",
    "\n",
    "The ouput of your program should be a 3-tuple consisting of\n",
    "- the score of the alignment (the sum of the individual values s(c1,c2) over pairs of the alignment\n",
    "- the first string with insertions that make the strings optimally aligned\n",
    "- the second string with insertions that make the strings optimally aligned\n",
    "\n",
    "Your program should make use of \n",
    "\n",
    "- the **ComputeMatricesForStringAlignment** function you created in Problem 6, and\n",
    "- the **LeastCostPathDynamicProgramming** function you created in Problem 7.\n",
    "\n",
    "And should return a 3 tuple consisting of\n",
    "\n",
    "- the score of the alignment (the sum of the individual values S(c1,c2) over pairs of the alignment\n",
    "- the first string with insertions that make the strings optimally aligned\n",
    "- the second string with insertions that make the strings optimally aligned\n"
   ]
  },
  {
   "cell_type": "code",
   "execution_count": null,
   "id": "47ca7666-b707-4e62-8e9b-401703a76b65",
   "metadata": {},
   "outputs": [],
   "source": [
    "def FindOptimalAlignment(string1,string2,inchar,s):\n",
    "    ..."
   ]
  },
  {
   "cell_type": "markdown",
   "id": "03c9bf88-3aef-48dc-9fb1-b595441bdaf9",
   "metadata": {},
   "source": [
    "## Sample code 7\n",
    "\n",
    "This code for aligning a string of length 100 with another string that has 10 changes and 10 insertions should run in less than 1 second. In the output you can look at the alignment and see whether or not it seems to make sense."
   ]
  },
  {
   "cell_type": "code",
   "execution_count": null,
   "id": "10e96091-9e2e-4d25-95c0-230cb60c5613",
   "metadata": {},
   "outputs": [],
   "source": [
    "start_time=time.time()\n",
    "M=np.array([[10,2,2,7,3],\n",
    "            [2,10,7,2,3],\n",
    "            [2,7,10,2,3],\n",
    "            [7,2,2,10,3],\n",
    "            [3,3,3,3,3]])\n",
    "S=pd.DataFrame(M,index=nucleotides,columns=nucleotides)\n",
    "print(S)\n",
    "#\n",
    "# create random string\n",
    "#\n",
    "m=100\n",
    "nchanges=10\n",
    "ninsertions=10\n",
    "\n",
    "string1=\"\".join(np.random.choice([\"A\",\"C\",\"G\",\"T\"],size=m,replace=True))\n",
    "#\n",
    "# corrupt it by making some changes of individual characters\n",
    "#\n",
    "string2=string1\n",
    "I=np.random.choice(range(m),size=nchanges,replace=False)\n",
    "for i in I:\n",
    "    oldchar=string1[i]\n",
    "    newcharlist=list(set([\"A\",\"C\",\"G\",\"T\"]).difference(set(oldchar)))\n",
    "    newchar=np.random.choice(newcharlist)\n",
    "    string2=string2[0:(i-1)]+newchar+string2[i:]\n",
    "#\n",
    "# corrupt it by making some insertions\n",
    "#\n",
    "I=np.random.choice(range(m),size=ninsertions,replace=False)\n",
    "for i in I:\n",
    "    chartoinsert=np.random.choice([\"A\",\"C\",\"G\",\"T\"])\n",
    "    string2=string2[0:i]+chartoinsert+string2[i:]\n",
    "print(\"strings before alignment\")\n",
    "print(string1)\n",
    "print(string2)\n",
    "inchar=\"_\"\n",
    "score,s1,s2=FindOptimalAlignment(string1,string2,inchar,S)\n",
    "end_time=time.time()\n",
    "print(\"strings after alignment\")\n",
    "print(s1)\n",
    "print(s2)\n",
    "print(\"score = \"+str(score))\n",
    "print(end_time-start_time)"
   ]
  },
  {
   "cell_type": "code",
   "execution_count": null,
   "id": "aa6fdd9f-5ce4-4844-b7d6-ed905bf0c59c",
   "metadata": {},
   "outputs": [],
   "source": []
  }
 ],
 "metadata": {
  "kernelspec": {
   "display_name": "Python 3 (ipykernel)",
   "language": "python",
   "name": "python3"
  },
  "language_info": {
   "codemirror_mode": {
    "name": "ipython",
    "version": 3
   },
   "file_extension": ".py",
   "mimetype": "text/x-python",
   "name": "python",
   "nbconvert_exporter": "python",
   "pygments_lexer": "ipython3",
   "version": "3.9.11"
  }
 },
 "nbformat": 4,
 "nbformat_minor": 5
}
