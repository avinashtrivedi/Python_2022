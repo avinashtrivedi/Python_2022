{
 "cells": [
  {
   "cell_type": "code",
   "execution_count": 1,
   "metadata": {
    "deletable": false,
    "editable": false
   },
   "outputs": [],
   "source": [
    "# Initialize Otter\n",
    "import otter\n",
    "grader = otter.Notebook(\"Nim.ipynb\")"
   ]
  },
  {
   "cell_type": "markdown",
   "metadata": {},
   "source": [
    "# You will need to execute the following cell to use this notebook. \n",
    "\n",
    "# Note - all *tests* in this notebook are *hidden* unless indicated otherwise."
   ]
  },
  {
   "cell_type": "code",
   "execution_count": 2,
   "metadata": {},
   "outputs": [],
   "source": [
    "import numpy as np\n",
    "import otter\n",
    "grader = otter.Notebook()"
   ]
  },
  {
   "cell_type": "markdown",
   "metadata": {},
   "source": [
    "Nim (https://en.wikipedia.org/wiki/Nim) is a game involving two players. \n",
    "At the start of the game, a  finite number of piles of stones is laid down. \n",
    "Then the players take turns removing stones according to the following rules:\n",
    "\n",
    "- a player picks a pile of stones to remove from\n",
    "- the player removes any positive number of stones from that pile (including the possibility of removing the entire pile)\n",
    "\n",
    "The winner is the player who is able to remove stones for the last time. In other words, if a player empties the last empty pile they become the winner.\n",
    "\n",
    "In 1902, a mathematician named Charles Bouton\n",
    "\n",
    "(https://en.wikipedia.org/wiki/Charles_L._Bouton) \n",
    "\n",
    "published a paper with the winning strategy for the game. In particular, he found a simple algorithm to determine from the numbers of stones in the piles presented to the player who goes first whether, assuming both players play optimally, who should win the game, and he describes the winning strategy for the player who should win.\n",
    "\n",
    "In doing this, he launched a mathematical field called *combinatorial game theory.*\n",
    "\n",
    "In this assignment, we will go through the steps of writing some code that \n",
    "takes as input the numbers of stones in each pile on a given players turn, and tells whether the player should win or lose and code that describes what the winning player should do in order to play optimally.  "
   ]
  },
  {
   "cell_type": "markdown",
   "metadata": {},
   "source": [
    "**Some Numpy:**\n",
    "\n",
    "In an exercise below, we'll do a computation for $m$ trials. In each trial we will produce a list $L$ of $n$ values, so the results can be loaded into a list of lists.\n",
    "\n",
    "So we will produce a list of lists which we can call $L$ and the values form what we usually think of as an $m \\times n$ matrix:\n",
    "\n",
    "$$\n",
    "\\left[\\begin{array}{cccc}\n",
    "L[0][0] &  L[0][1] &   \\cdots & L[0][n-1]\\\\\n",
    "L[1][0] &  L[1][1] & \\cdots    & L[1][n-1]\\\\\n",
    "\\vdots & \\vdots & \\vdots & \\vdots \\\\\n",
    "\\vdots & \\vdots & \\vdots & \\vdots \\\\\n",
    "L[m-1][0] & L[m-1][1] &  \\cdots & L[m-1][n-1]\\\\\n",
    "\\end{array}\\right]\n",
    "$$\n",
    "\n",
    "Then we want to summarize the columns in this matrix by computing some *statistic* of interest (e.g. the mean, the median, the standard deviation, percentiles) for every column to give a one-dimensional array or list of values of size $n$\n",
    "\n",
    "To make things easier, we can convert our list of lists to a 2-d numpy array, then make use a function in numpy called *apply_along*. \n",
    "\n",
    "Here is a small example."
   ]
  },
  {
   "cell_type": "code",
   "execution_count": 3,
   "metadata": {},
   "outputs": [
    {
     "name": "stdout",
     "output_type": "stream",
     "text": [
      "[[1, 2, 3, 4], [5, 6, 7, 8], [9, 10, 11, 12]]\n",
      "\n",
      "\n",
      "[[ 1  2  3  4]\n",
      " [ 5  6  7  8]\n",
      " [ 9 10 11 12]]\n",
      "\n",
      "\n",
      "[5. 6. 7. 8.]\n",
      "\n",
      "\n",
      "[ 2.5  6.5 10.5]\n",
      "\n",
      "\n",
      "[2.5, 6.5, 10.5]\n"
     ]
    }
   ],
   "source": [
    "# start with a list\n",
    "mylist=[[1,2,3,4],[5,6,7,8],[9,10,11,12]]\n",
    "print(mylist)\n",
    "print(\"\\n\")\n",
    "\n",
    "# convert to a numpy array\n",
    "mynparray=np.array(mylist)\n",
    "print(mynparray)\n",
    "print(\"\\n\")\n",
    "\n",
    "# apply the mean function along axis=0 i.e. \n",
    "# sweep across horizontally and compute something along every column\n",
    "result=np.apply_along_axis(np.mean,axis=0,arr=mynparray)\n",
    "print(result)\n",
    "print(\"\\n\")\n",
    "\n",
    "# apply the mean function along axis=1 i.e. \n",
    "# sweep down vertically and compute something along every row\n",
    "result=np.apply_along_axis(np.mean,axis=1,arr=mynparray)\n",
    "print(result)\n",
    "print(\"\\n\")\n",
    "\n",
    "# we can also convert back to a list if desired\n",
    "resultlist=list(result)\n",
    "print(resultlist)"
   ]
  },
  {
   "cell_type": "markdown",
   "metadata": {},
   "source": [
    "Numpy supported statistics include mean(), median(), quantile() (e.g. 75th percentile), std() (standard deviation) and sum().\n",
    "\n",
    "Importantly, you can also use the *apply_along_axis* with a user-defined function."
   ]
  },
  {
   "cell_type": "markdown",
   "metadata": {
    "deletable": false,
    "editable": false
   },
   "source": [
    "Write a function called **binary_digits_of_integer** that takes as input a <u> nonnegative </u> integer $n$ and outputs a list of its binary digits.  The output list should be as short in length as possible. (If the input is the number 0, the output should be [0].) The digits should be ordered from highest powers of 2 to the lowest, so the last entry should be what is in the 1's place, the second to last entry, (if there is one) should be what is in the 2's place, the third to last (if there is one) shoud be what is in the 4ths place. \n",
    "\n",
    "For example, the decimal number 23 in binary is \n",
    "$$\n",
    "16+4+2+1 = 1\\times 2^4 + 0 \\times 2^3 + 1\\times 2^2 + 1 \\times 2^1 + 1\\times 2^0\n",
    "$$\n",
    "\n",
    "so its binary representation is 10111. Thus, the value of binary_digits_of_integer(23) should be the list [1,0,1,1,1].\n",
    "\n",
    "The decimal number 37 is $32+4+1$, and expressed in binary this is 100101.\n",
    "so binary_digits_of_integer(37) should be the list [1,0,0,1,0,1] and binary_digits_of_integer(1) should be [1].\n",
    "\n",
    "You can use any method you like to code this function, but here are a couple of tools you might want to make use of. \n",
    "\n",
    "1) In Python we use m%n to determine remainder when the integer $m$ is divided by the positive integer $n.$\n",
    "\n",
    "2) In Python, lists have a *reverse()* method that reverses the order of its elements.\n",
    "\n",
    "You should test your function on the examples below and make sure your function works properly.\n",
    "\n",
    "<!--\n",
    "BEGIN QUESTION\n",
    "name: q1\n",
    "manual: false\n",
    "points: 2\n",
    "-->"
   ]
  },
  {
   "cell_type": "code",
   "execution_count": 4,
   "metadata": {},
   "outputs": [
    {
     "name": "stdout",
     "output_type": "stream",
     "text": [
      "['0']\n",
      "['1']\n",
      "['1', '0']\n",
      "['1', '1', '1', '0', '1']\n",
      "['1', '1', '1', '1', '0', '1']\n"
     ]
    }
   ],
   "source": [
    "def binary_digits_of_integer(n):\n",
    "    binary = \"{0:b}\".format(int(n))\n",
    "    return list(binary)\n",
    "#\n",
    "# Do not modify the following lines.\n",
    "#\n",
    "print(binary_digits_of_integer(0))\n",
    "print(binary_digits_of_integer(1))\n",
    "print(binary_digits_of_integer(2))\n",
    "print(binary_digits_of_integer(29))\n",
    "print(binary_digits_of_integer(61))"
   ]
  },
  {
   "cell_type": "code",
   "execution_count": 5,
   "metadata": {
    "deletable": false,
    "editable": false
   },
   "outputs": [
    {
     "data": {
      "text/html": [
       "<p><strong><pre style='display: inline;'>q1</pre></strong> passed!</p>"
      ],
      "text/plain": [
       "q1 results: All test cases passed!"
      ]
     },
     "execution_count": 5,
     "metadata": {},
     "output_type": "execute_result"
    }
   ],
   "source": [
    "grader.check(\"q1\")"
   ]
  },
  {
   "cell_type": "markdown",
   "metadata": {
    "deletable": false,
    "editable": false
   },
   "source": [
    "Create a function that takes as input a *list* of integers, and which outputs a list of the binary digit lists obtained from your *binary_digits_of_integer* function. The order in which the binary digit lists appear should match the order of the list of input integers.\n",
    "\n",
    "Call this function, **binary_digits_for_list_of_integers**. For example, if the input to your function is [14,3,8,5] the output should be [[1,1,1,0],[1,1],[1,0,0,0],[1,0,1]].\n",
    "\n",
    "\n",
    "<!--\n",
    "BEGIN QUESTION\n",
    "name: q2\n",
    "manual: false\n",
    "points: 1\n",
    "-->"
   ]
  },
  {
   "cell_type": "code",
   "execution_count": 6,
   "metadata": {},
   "outputs": [
    {
     "name": "stdout",
     "output_type": "stream",
     "text": [
      "[['1', '0', '1'], ['1', '1', '0'], ['1', '1', '1'], ['1', '0', '0', '0'], ['1', '0', '0', '1']]\n",
      "[['1', '1', '1'], ['1', '1', '0'], ['1', '0', '1'], ['1', '0', '0'], ['1', '1'], ['1', '0'], ['1'], ['0']]\n"
     ]
    }
   ],
   "source": [
    "def binary_digits_for_list_of_integers(L): \n",
    "    return [binary_digits_of_integer(n) for n in L]\n",
    "#\n",
    "# Do not modify the following lines.\n",
    "#\n",
    "print(binary_digits_for_list_of_integers([5,6,7,8,9]))\n",
    "print(binary_digits_for_list_of_integers([7,6,5,4,3,2,1,0]))"
   ]
  },
  {
   "cell_type": "code",
   "execution_count": 7,
   "metadata": {
    "deletable": false,
    "editable": false
   },
   "outputs": [
    {
     "data": {
      "text/html": [
       "<p><strong><pre style='display: inline;'>q2</pre></strong> passed!</p>"
      ],
      "text/plain": [
       "q2 results: All test cases passed!"
      ]
     },
     "execution_count": 7,
     "metadata": {},
     "output_type": "execute_result"
    }
   ],
   "source": [
    "grader.check(\"q2\")"
   ]
  },
  {
   "cell_type": "markdown",
   "metadata": {
    "deletable": false,
    "editable": false
   },
   "source": [
    "Write another function that is like *binary_digits_for_list_of_integers* but for this one\n",
    "\n",
    "- make it so that all of the lists of binary digits for all of the numbers in the list **have the same length,**\n",
    "\n",
    "and \n",
    "\n",
    "- instead of outputting a list of lists, output a **2-d numpy array.**\n",
    "\n",
    "So you might have to *pad* some of the lists with *initial* zeros to make the lengths equal. Call this function **array_of_binary_digits_for_list_of_integers**. The resulting lengths of binary digits should be as small as possible (i.e. the maximum number of binary digits should be the number of binary digits for the largest integer in the input list).\n",
    "\n",
    "So for example, array_of_binary_digits_for_list_of_integers([14,3,8,5]) should give as output the numpy array\n",
    "\n",
    "[[1,1,1,0],[0,0,1,1],[1,0,0,0],[0,1,0,1]].\n",
    "\n",
    "\n",
    "<!--\n",
    "BEGIN QUESTION\n",
    "name: q3\n",
    "manual: false\n",
    "points: 2\n",
    "-->"
   ]
  },
  {
   "cell_type": "code",
   "execution_count": 8,
   "metadata": {},
   "outputs": [
    {
     "name": "stdout",
     "output_type": "stream",
     "text": [
      "[['0' '0' '0' '0']\n",
      " ['0' '1' '0' '0']\n",
      " ['1' '0' '0' '0']\n",
      " ['0' '1' '0' '1']\n",
      " ['0' '0' '0' '0']]\n",
      "[['1' '0' '0' '0' '0']\n",
      " ['0' '0' '0' '1' '0']\n",
      " ['0' '0' '0' '1' '1']\n",
      " ['0' '0' '1' '0' '1']]\n",
      "[['0' '0' '0' '0' '0' '0' '0' '1']\n",
      " ['0' '0' '0' '0' '0' '0' '1' '0']\n",
      " ['1' '0' '0' '0' '0' '0' '0' '1']]\n"
     ]
    }
   ],
   "source": [
    "import numpy as np\n",
    "def array_of_binary_digits_for_list_of_integers(L):\n",
    "    list_BinaryNums = binary_digits_for_list_of_integers(L)\n",
    "    max_length = max([len(i) for i in list_BinaryNums])\n",
    "    list_BinaryNums = [[0]*(max_length-len(i))+i if len(i)<max_length else i for i in list_BinaryNums]\n",
    "    return np.array(list_BinaryNums)\n",
    "    \n",
    "#\n",
    "# Do not modify the following lines\n",
    "#\n",
    "print(array_of_binary_digits_for_list_of_integers([0,4,8,5,0]))\n",
    "print(array_of_binary_digits_for_list_of_integers([16,2,3,5]))\n",
    "print(array_of_binary_digits_for_list_of_integers([1,2,129]))"
   ]
  },
  {
   "cell_type": "code",
   "execution_count": 9,
   "metadata": {
    "deletable": false,
    "editable": false
   },
   "outputs": [
    {
     "data": {
      "text/html": [
       "<p><strong><pre style='display: inline;'>q3</pre></strong> passed!</p>"
      ],
      "text/plain": [
       "q3 results: All test cases passed!"
      ]
     },
     "execution_count": 9,
     "metadata": {},
     "output_type": "execute_result"
    }
   ],
   "source": [
    "grader.check(\"q3\")"
   ]
  },
  {
   "cell_type": "markdown",
   "metadata": {
    "deletable": false,
    "editable": false
   },
   "source": [
    "The parity of a list (or 1-d array) of 0's and 1's is defined to be 0 if the number of 1's in the list is even, and 1 if the number of 1's in the list is odd.\n",
    "\n",
    "Write a function that determines the parity of a list or 1-d numpy array of 0's and 1's. Your function should work whether the input is a list or numpy array of ints, all of which are 0 or 1, and your function needn't work for lists of arrays of floats. \n",
    "\n",
    "Call your function **parity**.\n",
    "\n",
    "<!--\n",
    "BEGIN QUESTION\n",
    "name: q4\n",
    "manual: false\n",
    "points: 2\n",
    "-->"
   ]
  },
  {
   "cell_type": "code",
   "execution_count": 10,
   "metadata": {},
   "outputs": [
    {
     "name": "stdout",
     "output_type": "stream",
     "text": [
      "0\n",
      "1\n",
      "1\n",
      "0\n",
      "1\n",
      "0\n"
     ]
    }
   ],
   "source": [
    "def parity(L):\n",
    "    if isinstance(L,list) or isinstance(L,np.ndarray):\n",
    "        sm = sum(L)\n",
    "        if sm%2==0:\n",
    "            return 0\n",
    "        else:\n",
    "            return 1\n",
    "#\n",
    "# Do not modify the following lines.\n",
    "#\n",
    "print(parity([0]))\n",
    "print(parity([1]))\n",
    "print(parity([0,1,1,1,0]))\n",
    "print(parity([0,1,1,0]))\n",
    "print(parity(np.array([0,1,1,1,0])))\n",
    "print(parity(np.array([0,1,1,0])))"
   ]
  },
  {
   "cell_type": "code",
   "execution_count": 11,
   "metadata": {
    "deletable": false,
    "editable": false
   },
   "outputs": [
    {
     "data": {
      "text/html": [
       "<p><strong><pre style='display: inline;'>q4</pre></strong> passed!</p>"
      ],
      "text/plain": [
       "q4 results: All test cases passed!"
      ]
     },
     "execution_count": 11,
     "metadata": {},
     "output_type": "execute_result"
    }
   ],
   "source": [
    "grader.check(\"q4\")"
   ]
  },
  {
   "cell_type": "markdown",
   "metadata": {
    "deletable": false,
    "editable": false
   },
   "source": [
    "Here is how Charles Bouton would have us determine whether, if presented with some stone pile counts, a player should win or lose (assuming that the player with a winning position always plays optimally)  \n",
    "\n",
    "- put the stone pile counts into a list\n",
    "- express each number in the list in binary (with zero padding to make the binary expressions all of the same length\n",
    "- write those binary expressions as rows of a matrix (call this the binary counts matrix)\n",
    "- compute the parity of each *column* of the matrix\n",
    "\n",
    "If all parities of all columns are zero, the player should lose.\n",
    "If at least one column has parity 1, the player should win.\n",
    "\n",
    "Write a function that takes a list of stone pile counts and returns the string \"Win\" or \"Loss\" as output. Call this function *win_or_loss()*.\n",
    "\n",
    "<!--\n",
    "BEGIN QUESTION\n",
    "name: q5\n",
    "manual: false\n",
    "points: 3\n",
    "-->"
   ]
  },
  {
   "cell_type": "code",
   "execution_count": 12,
   "metadata": {},
   "outputs": [
    {
     "name": "stdout",
     "output_type": "stream",
     "text": [
      "Loss\n",
      "Loss\n",
      "Loss\n",
      "Win\n",
      "Win\n",
      "Win\n",
      "Loss\n"
     ]
    }
   ],
   "source": [
    "def win_or_loss(L):\n",
    "    t = array_of_binary_digits_for_list_of_integers(L)\n",
    "    t = t.astype(int)\n",
    "    if len(t)==1:\n",
    "        t = t[0]\n",
    "        result = np.apply_along_axis(parity,axis=0,arr=t)\n",
    "        if result==1:\n",
    "            return 'Win'\n",
    "        else:\n",
    "            return 'Loss'\n",
    "    else:\n",
    "        result = np.apply_along_axis(parity,axis=0,arr=t)\n",
    "        if 1 in result:\n",
    "            return 'Win'\n",
    "        else:\n",
    "            return 'Loss'\n",
    "    \n",
    "#\n",
    "# Do not modify the following lines.\n",
    "#\n",
    "print(win_or_loss([0]))\n",
    "print(win_or_loss([0,0,0]))\n",
    "print(win_or_loss([1,1]))\n",
    "print(win_or_loss([1]))\n",
    "print(win_or_loss([1,2]))\n",
    "print(win_or_loss([167]))\n",
    "print(win_or_loss([2,2]))"
   ]
  },
  {
   "cell_type": "code",
   "execution_count": 13,
   "metadata": {
    "deletable": false,
    "editable": false
   },
   "outputs": [
    {
     "data": {
      "text/html": [
       "<p><strong><pre style='display: inline;'>q5</pre></strong> passed!</p>"
      ],
      "text/plain": [
       "q5 results: All test cases passed!"
      ]
     },
     "execution_count": 13,
     "metadata": {},
     "output_type": "execute_result"
    }
   ],
   "source": [
    "grader.check(\"q5\")"
   ]
  },
  {
   "cell_type": "markdown",
   "metadata": {
    "deletable": false,
    "editable": false
   },
   "source": [
    "If a player is supposed to win the game, what should be their strategy?\n",
    " \n",
    "Since they are supposed to win, it is not the case that all of the columns in the binary counts matrix have zero parity, but it is not difficult to see that the player can remove stones from some pile and make that all columns in the matrix equal to zero by using **the following algorithm**:\n",
    "\n",
    "- pick the left-most column $j$ in the binary count matrix whose parity is non-zero.\n",
    "- find the first row $i$ in the binary count matrix whose entry in column $j$ is a 1\n",
    "- change that $i,j$ row/column entry to a zero, and change any other entries in  row $i$ to the right of column $j$ to make the parity of every column equal to zero.\n",
    "\n",
    "The row that was modified corresponds to one of the stone piles. The updated entries in that row tell us, in binary, how many stones are left in that pile after the player makes their move.\n",
    "\n",
    "So now the next player is presented with a losing position (all columns have parity zero). Either \n",
    "\n",
    "- all piles are now empty and the game is over, or \n",
    "- there is some non-empty pile of stones\n",
    "\n",
    "In the latter case, the player is required to pick a pile of stones and remove at least one stone from that pile. But that means that some entry in say row i, column j in the binary count matrix gets changed from a 1 to a 0, and no other entry in column $j$ changes, so the parity in column j changes to a 1 and once again, the opponent is presented with *winning* position. \n",
    "\n",
    "Write a function that takes as input a list of integers and returns a message that is either\n",
    "\n",
    "- \"this is a losing position\" if the position is a losing position\n",
    "\n",
    "or\n",
    "\n",
    "- outputs the list giving the number of stones remaining in each pile after the move by the player **following the algorithm outlined above.**\n",
    "\n",
    "Note that this is not asking for **any** move that preserves the player's winning position, but for a **specific** move.\n",
    "\n",
    "Here, in the latter case, your output list should have the same length as your input list with the ordering of the piles remaining the same. So only one number in your list should change.\n",
    "\n",
    "Call your function *winning_strategy()*.\n",
    "\n",
    "<!--\n",
    "BEGIN QUESTION\n",
    "name: q6\n",
    "manual: false\n",
    "points: 3\n",
    "-->"
   ]
  },
  {
   "cell_type": "code",
   "execution_count": 14,
   "metadata": {},
   "outputs": [
    {
     "name": "stdout",
     "output_type": "stream",
     "text": [
      "this is a losing position\n",
      "this is a losing position\n",
      "this is a losing position\n",
      "[1, 4, 1]\n"
     ]
    }
   ],
   "source": [
    "def winning_strategy(L):\n",
    "    #print(L)\n",
    "    g = array_of_binary_digits_for_list_of_integers(L)\n",
    "    g = g.astype(int)\n",
    "    x = np.apply_along_axis(parity,axis=0,arr=g)\n",
    "    i = x.argmax()\n",
    "    j = g[:,i].argmax()\n",
    "    g[j,i] = 0\n",
    "\n",
    "    for k in range(i+1,g.shape[1]):\n",
    "        p_col = parity(g[:,k])\n",
    "        if p_col:\n",
    "            g[:,k] = 0\n",
    "\n",
    "#     print(L,g)\n",
    "    if parity(g[:,i]):\n",
    "        lst = []\n",
    "        for indx in range(len(g)):\n",
    "            num = ''.join([str(i) for i in list(g[indx])])\n",
    "            lst.append(int(num, 2))\n",
    "        return lst\n",
    "    else:\n",
    "        return 'this is a losing position'\n",
    "#\n",
    "# Do not modify any of the following lines.\n",
    "#\n",
    "print(winning_strategy([3,4,5,6]))\n",
    "print(winning_strategy([1,4,0]))\n",
    "print(winning_strategy([1,0,0]))\n",
    "print(winning_strategy([5,4,1]))"
   ]
  },
  {
   "cell_type": "code",
   "execution_count": 15,
   "metadata": {
    "deletable": false,
    "editable": false
   },
   "outputs": [
    {
     "data": {
      "text/html": [
       "<p><strong><pre style='display: inline;'>q6</pre></strong> passed!</p>"
      ],
      "text/plain": [
       "q6 results: All test cases passed!"
      ]
     },
     "execution_count": 15,
     "metadata": {},
     "output_type": "execute_result"
    }
   ],
   "source": [
    "grader.check(\"q6\")"
   ]
  },
  {
   "cell_type": "markdown",
   "metadata": {},
   "source": [
    "**Final Instructions:**\n",
    "1) save your notebook befor submitting it in Blackboard\n",
    "2) do **not** zip your notebook \n",
    "3) do **not** change the name of your notebook\n"
   ]
  },
  {
   "cell_type": "markdown",
   "metadata": {},
   "source": []
  },
  {
   "cell_type": "markdown",
   "metadata": {
    "deletable": false,
    "editable": false
   },
   "source": [
    "---\n",
    "\n",
    "To double-check your work, the cell below will rerun all of the autograder tests."
   ]
  },
  {
   "cell_type": "code",
   "execution_count": 16,
   "metadata": {
    "deletable": false,
    "editable": false
   },
   "outputs": [
    {
     "data": {
      "text/plain": [
       "q1 results: All test cases passed!\n",
       "\n",
       "q2 results: All test cases passed!\n",
       "\n",
       "q3 results: All test cases passed!\n",
       "\n",
       "q4 results: All test cases passed!\n",
       "\n",
       "q5 results: All test cases passed!\n",
       "\n",
       "q6 results: All test cases passed!"
      ]
     },
     "execution_count": 16,
     "metadata": {},
     "output_type": "execute_result"
    }
   ],
   "source": [
    "grader.check_all()"
   ]
  }
 ],
 "metadata": {
  "kernelspec": {
   "display_name": "Python 3",
   "language": "python",
   "name": "python3"
  },
  "language_info": {
   "codemirror_mode": {
    "name": "ipython",
    "version": 3
   },
   "file_extension": ".py",
   "mimetype": "text/x-python",
   "name": "python",
   "nbconvert_exporter": "python",
   "pygments_lexer": "ipython3",
   "version": "3.8.5"
  }
 },
 "nbformat": 4,
 "nbformat_minor": 4
}
