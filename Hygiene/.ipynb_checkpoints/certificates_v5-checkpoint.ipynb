{
 "cells": [
  {
   "cell_type": "code",
   "execution_count": 1,
   "id": "9495da7e",
   "metadata": {},
   "outputs": [
    {
     "name": "stdout",
     "output_type": "stream",
     "text": [
      "Requirement already satisfied: googlemaps in c:\\users\\avitr\\anaconda3\\lib\\site-packages (4.6.0)"
     ]
    },
    {
     "name": "stderr",
     "output_type": "stream",
     "text": [
      "WARNING: Ignoring invalid distribution -rpcio (c:\\users\\avitr\\anaconda3\\lib\\site-packages)\n",
      "WARNING: Ignoring invalid distribution -rpcio (c:\\users\\avitr\\anaconda3\\lib\\site-packages)\n",
      "WARNING: Ignoring invalid distribution -rpcio (c:\\users\\avitr\\anaconda3\\lib\\site-packages)\n",
      "WARNING: Ignoring invalid distribution -rpcio (c:\\users\\avitr\\anaconda3\\lib\\site-packages)\n",
      "WARNING: Ignoring invalid distribution -rpcio (c:\\users\\avitr\\anaconda3\\lib\\site-packages)\n",
      "WARNING: Ignoring invalid distribution -rpcio (c:\\users\\avitr\\anaconda3\\lib\\site-packages)\n"
     ]
    },
    {
     "name": "stdout",
     "output_type": "stream",
     "text": [
      "\n",
      "Requirement already satisfied: requests<3.0,>=2.20.0 in c:\\users\\avitr\\anaconda3\\lib\\site-packages (from googlemaps) (2.27.1)\n",
      "Requirement already satisfied: urllib3<1.27,>=1.21.1 in c:\\users\\avitr\\anaconda3\\lib\\site-packages (from requests<3.0,>=2.20.0->googlemaps) (1.26.8)\n",
      "Requirement already satisfied: charset-normalizer~=2.0.0 in c:\\users\\avitr\\anaconda3\\lib\\site-packages (from requests<3.0,>=2.20.0->googlemaps) (2.0.12)\n",
      "Requirement already satisfied: idna<4,>=2.5 in c:\\users\\avitr\\anaconda3\\lib\\site-packages (from requests<3.0,>=2.20.0->googlemaps) (3.3)\n",
      "Requirement already satisfied: certifi>=2017.4.17 in c:\\users\\avitr\\anaconda3\\lib\\site-packages (from requests<3.0,>=2.20.0->googlemaps) (2021.10.8)\n"
     ]
    }
   ],
   "source": [
    "!pip install googlemaps"
   ]
  },
  {
   "cell_type": "code",
   "execution_count": 2,
   "id": "030adae9",
   "metadata": {},
   "outputs": [],
   "source": [
    "import pandas as pd"
   ]
  },
  {
   "cell_type": "code",
   "execution_count": 62,
   "id": "b46cc544",
   "metadata": {},
   "outputs": [],
   "source": [
    "supplier='Nestle'\n",
    "date='2022-05'"
   ]
  },
  {
   "cell_type": "code",
   "execution_count": 63,
   "id": "e5c64820",
   "metadata": {},
   "outputs": [],
   "source": [
    "import googlemaps\n",
    "gmaps = googlemaps.Client(key='--------')"
   ]
  },
  {
   "cell_type": "code",
   "execution_count": 64,
   "id": "990fb3ee",
   "metadata": {},
   "outputs": [],
   "source": [
    "def calculate_dist(a,b):\n",
    "    dist = gmaps.distance_matrix(a,b)['rows'][0]['elements'][0]\n",
    "    if dist['status']=='OK':\n",
    "        return dist['distance']['value']/1000\n",
    "    else:\n",
    "        return 0"
   ]
  },
  {
   "cell_type": "code",
   "execution_count": 65,
   "id": "88fb8675",
   "metadata": {},
   "outputs": [
    {
     "data": {
      "text/plain": [
       "409047"
      ]
     },
     "execution_count": 65,
     "metadata": {},
     "output_type": "execute_result"
    }
   ],
   "source": [
    "import warnings\n",
    "warnings.filterwarnings('ignore')\n",
    "\n",
    "df = pd.read_csv('monthly_volume_0611.csv')\n",
    "\n",
    "\n",
    "df.drop(df[df['distributor_name'] == \"TestWD\"].index, inplace = True)\n",
    "df.drop(df[df['customer_name'] == \"Bankers Hill Food\"].index, inplace = True)\n",
    "df.drop(df[df['customer_name'] == \"Shahi Feed\"].index, inplace = True)\n",
    "df.drop(df[df['customer_name'] == \"Alpha FMCG Pvt. Ltd.\"].index, inplace = True)\n",
    "\n",
    "\n",
    "import numpy as np\n",
    "df.customer_name=df['customer_name'].str.strip()\n",
    "df.distributor_name=df['distributor_name'].str.strip()\n",
    "df.loc[(df.distributor_name == \"Ghaziabad Warehouse\") & (df.customer_name == \"ITC Ltd.\") , 'customer_name'] = \"ITC DEL\"\n",
    "df.loc[(df.distributor_name == \"Hamidpur Warehouse\") & (df.customer_name == \"ITC Ltd.\") , 'customer_name'] = \"ITC DEL\"\n",
    "df.loc[(df.distributor_name == \"Hassangarh Warehouse\") & (df.customer_name == \"ITC Ltd.\") , 'customer_name'] = \"ITC DEL\"\n",
    "df.loc[(df.distributor_name == \"Hassangarh Warehouse\") & (df.customer_name == \"ITC Ltd. Haryana\") , 'customer_name'] = \"ITC DEL\"\n",
    "df.loc[(df.distributor_name == \"MJ Warehousing Pvt Ltd\") & (df.customer_name == \"ITC Ltd. Haryana\") , 'customer_name'] = \"ITC DEL\"\n",
    "df.loc[(df.distributor_name == \"MJ Warehousing Pvt Ltd\") & (df.customer_name == \"ITC Ltd.\") , 'customer_name'] = \"ITC DEL\"\n",
    "df.loc[(df.customer_name == \"ITC Ltd. FBD\") , 'customer_name'] = \"ITC DEL\"\n",
    "df.loc[(df.distributor_name == \"Sourcewell Agro Foods Pvt Ltd\") & (df.customer_name == \"ITC Ltd.\") , 'customer_name'] = \"ITC FBD Sourcewell\"\n",
    "df.loc[(df.distributor_name == \"01 Sourcewell Agro Foods Pvt Ltd\") & (df.customer_name == \"ITC Ltd.\") , 'customer_name'] = \"ITC FBD Sourcewell\"\n",
    "df.loc[(df.distributor_name == \"Ambarnath Warehouse\") & (df.customer_name == \"ITC Ltd. Mumbai\") , 'customer_name'] = \"ITC MUM WH Ambernath\"\n",
    "df.loc[(df.distributor_name == \"ITC Ray Road Warehouse\") & (df.customer_name == \"ITC Ltd. Mumbai\") , 'customer_name'] = \"ITC MUM WH Ray Road\"\n",
    "df.loc[(df.distributor_name == \"Narela Warehouse\") & (df.customer_name == \"ITC Ltd.\") , 'customer_name'] = \"ITC DEL\"\n",
    "df.loc[(df.distributor_name == \"Lucknow Warehouse\") & (df.customer_name == \"ITC Ltd. Lucknow\") , 'customer_name'] = \"ITC UP WH Lucknow\"\n",
    "df.loc[(df.distributor_name == \"Varanasi Warehouse\") & (df.customer_name == \"ITC Ltd. Lucknow\") , 'customer_name'] = \"ITC UP WH Varanasi\"\n",
    "df.loc[(df.distributor_name == \"Kanpur Warehouse\") & (df.customer_name == \"ITC Ltd. Lucknow\") , 'customer_name'] = \"ITC UP WH Kanpur\"\n",
    "df.loc[(df.distributor_name == \"Bengaluru Warehouse\") & (df.customer_name == \"Veeba Food Services Pvt Ltd. Bangalore\") , 'customer_name'] = \"Veeba Food Services Bangalore WH\"\n",
    "df.loc[(df.distributor_name == \"Keshwana Warehouse\") & (df.customer_name == \"Veeba Food Services Pvt Ltd. Rajasthan\") , 'customer_name'] = \"Veeba Food Services DEL WH Keshwana\"\n",
    "df.loc[(df.distributor_name == \"Neemrana Warehouse\") & (df.customer_name == \"Veeba Food Services Pvt Ltd. Rajasthan\") , 'customer_name'] = \"Veeba Food Services DEL WH Neemarana\"\n",
    "df.loc[(df.distributor_name == \"Tikri Warehouse\") & (df.customer_name == \"Veeba Food Services Pvt Ltd\") , 'customer_name'] = \"Veeba Food Services DEL WH Tikri\"\n",
    "df.loc[(df.customer_name == \"General Mills India Pvt Ltd. Mumbai\") , 'customer_name'] = \"General Mills India Maharashtra\"\n",
    "df.loc[(df.customer_name == \"General Mills India Pvt Ltd. Bangalore\") , 'customer_name'] = \"General Mills India Karnataka\"\n",
    "df.loc[(df.customer_name == \"General Mills India Pvt Ltd. Tamilnadu\") , 'customer_name'] = \"General Mills India Tamil Nadu\"\n",
    "df.loc[(df.customer_name == \"General Mills India Pvt Ltd.\") , 'customer_name'] = \"General Mills India Delhi\"\n",
    "df.loc[(df.customer_name == \"General Mills India Pvt Ltd. Punjab\") , 'customer_name'] = \"General Mills India Punjab\"\n",
    "df.loc[(df.customer_name == \"General Mills India Pvt Ltd. Lucknow\") , 'customer_name'] = \"General Mills India Uttar Pradesh\"\n",
    "df.loc[(df.customer_name == \"General Mills India Pvt Ltd. West Bengal\") , 'customer_name'] = \"General Mills India West Bengal\"\n",
    "df.loc[(df.customer_name == \"General Mills India Pvt Ltd. Telangana\") , 'customer_name'] = \"General Mills India Telangana\"\n",
    "df.loc[(df.customer_name == \"Unibic Foods India Pvt. Ltd. Mumbai\") & (df.distributor_name == \"Unibic Foods India Pvt. Ltd\") , 'customer_name'] = \"Unibic Foods India Mumbai\"\n",
    "df.loc[(df.customer_name == \"Unibic Foods India Pvt. Ltd. Mumbai\") & (df.city == \"Mumbai\") , 'customer_name'] = \"Unibic Foods India Mumbai\"\n",
    "df.loc[(df.customer_name == \"Unibic Foods India Pvt. Ltd. Mumbai\") , 'customer_name'] = \"Unibic Foods India Rest of Maharashtra\"\n",
    "df.loc[(df.customer_name == \"Unibic Foods India Pvt. Ltd.\") & (df.distributor_name == \"Unibic Foods India Pvt. Ltd\") , 'customer_name'] = \"Unibic Foods India Delhi\"\n",
    "df.loc[(df.customer_name == \"Unibic Foods India Pvt. Ltd. Madhya Pradesh\") & (df.distributor_name == \"Unibic Foods India Pvt. Ltd\") , 'customer_name'] = \"Unibic Foods India Madhya Pradesh\"\n",
    "df.loc[(df.customer_name == \"Unibic Foods India Pvt. Ltd. Gujrat\") & (df.distributor_name == \"Unibic Foods India Pvt. Ltd\") , 'customer_name'] = \"Unibic Foods India Gujarat\"\n",
    "df.loc[(df.customer_name == \"Unibic Foods India Pvt. Ltd. Punjab\") & (df.distributor_name == \"Unibic Foods India Pvt. Ltd\"), 'customer_name'] = \"Unibic Foods India Punjab\"\n",
    "df.loc[(df.customer_name == \"Unibic Foods India Pvt. Ltd. Bangalore\") & (df.distributor_name == \"Unibic Foods India Pvt. Ltd\"), 'customer_name'] = \"Unibic Foods India Karnataka\"\n",
    "df.loc[(df.customer_name == \"Unibic Foods India Pvt. Ltd. Andhra Pradesh\") & (df.distributor_name == \"Unibic Foods India Pvt. Ltd\"), 'customer_name'] = \"Unibic Foods India Andhara\"\n",
    "df.loc[(df.customer_name == \"Unibic Foods India Pvt. Ltd. Telangana\") & (df.distributor_name == \"Unibic Hyderabad CFA\"), 'customer_name'] = \"Unibic Foods India Telangana\"\n",
    "df.loc[(df.customer_name == \"Unibic Foods India Pvt. Ltd.\") , 'customer_name'] = \"Unibic Foods India Delhi\"\n",
    "df.loc[(df.customer_name == \"Unibic Foods India Pvt. Ltd. Madhya Pradesh\") , 'customer_name'] = \"Unibic Foods India Madhya Pradesh\"\n",
    "df.loc[(df.customer_name == \"Unibic Foods India Pvt. Ltd. Gujrat\")  , 'customer_name'] = \"Unibic Foods India Gujarat\"\n",
    "df.loc[(df.customer_name == \"Unibic Foods India Pvt. Ltd. Punjab\") , 'customer_name'] = \"Unibic Foods India Punjab\"\n",
    "df.loc[(df.customer_name == \"Unibic Foods India Pvt. Ltd. Bangalore\") , 'customer_name'] = \"Unibic Foods India Karnataka \"\n",
    "df.loc[(df.customer_name == \"Unibic Foods India Pvt. Ltd. Andhra Pradesh\") , 'customer_name'] = \"Unibic Foods India Andhara\"\n",
    "df.loc[(df.customer_name == \"Unibic Foods India Pvt. Ltd. Goa\") , 'customer_name'] = \"Unibic Foods India Goa\"\n",
    "df.loc[ (df.customer_name == \"ITC Ltd.\") , 'customer_name'] = \"ITC DEL Distributors\"\n",
    "df.loc[ (df.customer_name == \"ITC Ltd. Mumbai\") , 'customer_name'] = \"ITC MUM Distributors\"\n",
    "df.loc[ (df.customer_name == \"ITC Ltd. Lucknow\") , 'customer_name'] = \"ITC UP Distributors\"\n",
    "df.loc[ (df.customer_name == \"ITC Ltd. Haryana\") , 'customer_name'] = \"ITC Panchkula\"\n",
    "df.loc[ (df.customer_name == \"ITC Ltd. Panchkula\") , 'customer_name'] = \"ITC Panchkula\"\n",
    "df.loc[(df.customer_name == \"Veeba Food Services Pvt Ltd\") , 'customer_name'] = \"Veeba Food Services DEL Distributors\"\n",
    "df.loc[(df.customer_name == \"Veeba Food Services Pvt Ltd. Mumbai\") , 'customer_name'] = \"Veeba Food Services Maharashtra Distributors\"\n",
    "df.loc[(df.customer_name == \"Veeba Food Services Pvt Ltd. Lucknow\") , 'customer_name'] = \"Veeba Food Services Uttar Pradesh Distributors\"\n",
    "df.loc[(df.customer_name == \"Veeba Food Services Pvt Ltd. Bangalore\") , 'customer_name'] = \"Veeba Food Services Karnataka Distributors\"\n",
    "df.loc[(df.customer_name == \"Tata Consumer Products Ltd. Jharkhand\") , 'customer_name'] = \"Tata Consumer Products Jharkhand\"\n",
    "df.loc[(df.customer_name == \"Tata Consumer Products Ltd. Bihar\") , 'customer_name'] = \"Tata Consumer Products Bihar\"\n",
    "df.loc[(df.customer_name == \"Tata Consumer Products Ltd. Uttar Pradesh\") , 'customer_name'] = \"Tata Consumer Products Uttar Pradesh\"\n",
    "df.loc[(df.customer_name == \"Tata Consumer Products Ltd. Karnataka\") , 'customer_name'] = \"Tata Consumer Products Karnataka\"\n",
    "df.loc[(df.customer_name == \"Tata Consumer Products Ltd. Bangalore\") , 'customer_name'] = \"Tata Consumer Products Karnataka\"\n",
    "df.loc[(df.customer_name == \"Tata Consumer Products Ltd. Gujarat\") , 'customer_name'] = \"Tata Consumer Products Gujarat\"\n",
    "df.loc[(df.customer_name == \"Tata Consumer Products Ltd. Telangana\") , 'customer_name'] = \"Tata Consumer Products Telangana\"\n",
    "df.loc[(df.customer_name == \"Tata Consumer Products Ltd. West Bengal\") , 'customer_name'] = \"Tata Consumer Products West Bengal\"\n",
    "df.loc[(df.customer_name == \"Tata Consumer Products Ltd. Maharashtra\") , 'customer_name'] = \"Tata Consumer Products Maharashtra\"\n",
    "df.loc[(df.customer_name == \"Tata Consumer Products Ltd. Himachal Pradesh\") , 'customer_name'] = \"Tata Consumer Products Himachal\"\n",
    "df.loc[(df.customer_name == \"Tata Consumer Products Ltd. Delhi\") , 'customer_name'] = \"Tata Consumer Products Delhi\"\n",
    "df.loc[(df.customer_name == \"Vishv Foods and Beverages LLP\") , 'customer_name'] = \"Snaqary\"\n",
    "\n",
    "\n",
    "df.loc[df.ticket_id==\"ID-1648\",\"scheduled_date\"]=\"2020-09-18\"\n",
    "df['datef']=df['scheduled_date'].apply(str)\n",
    "df['datef']=df['scheduled_date'].str[:7]\n",
    "df['datef']=df['datef'].apply(str)\n",
    "df.fillna(0,inplace=True)\n",
    "len(df.index)\n",
    "\n"
   ]
  },
  {
   "cell_type": "code",
   "execution_count": 66,
   "id": "e9c95f3a",
   "metadata": {},
   "outputs": [],
   "source": [
    "#filter supplier\n",
    "df1=df[df['customer_name'].str.contains(supplier)]\n",
    "df1=df1[df1['datef'].str.contains(date,regex=False)]\n",
    "size1=len(df1.index)\n"
   ]
  },
  {
   "cell_type": "code",
   "execution_count": 126,
   "id": "b3cf63a9",
   "metadata": {},
   "outputs": [
    {
     "data": {
      "text/plain": [
       "array(['DB-Dairy Best Milk', 'DP-Dairy Milk Powder', 'KHY-Khoya'],\n",
       "      dtype=object)"
      ]
     },
     "execution_count": 126,
     "metadata": {},
     "output_type": "execute_result"
    }
   ],
   "source": [
    "df1['item_name'].unique()"
   ]
  },
  {
   "cell_type": "code",
   "execution_count": null,
   "id": "86c16448",
   "metadata": {},
   "outputs": [],
   "source": []
  },
  {
   "cell_type": "code",
   "execution_count": 67,
   "id": "eb4fecaf",
   "metadata": {},
   "outputs": [
    {
     "data": {
      "text/plain": [
       "27"
      ]
     },
     "execution_count": 67,
     "metadata": {},
     "output_type": "execute_result"
    }
   ],
   "source": [
    "size1"
   ]
  },
  {
   "cell_type": "code",
   "execution_count": 151,
   "id": "566e0d26",
   "metadata": {},
   "outputs": [
    {
     "data": {
      "text/plain": [
       "array(['DB-Dairy Best Milk', 'DP-Dairy Milk Powder', 'KHY-Khoya'],\n",
       "      dtype=object)"
      ]
     },
     "execution_count": 151,
     "metadata": {},
     "output_type": "execute_result"
    }
   ],
   "source": [
    "df1.item_name.unique()"
   ]
  },
  {
   "cell_type": "code",
   "execution_count": 144,
   "id": "d44d8dd7",
   "metadata": {},
   "outputs": [],
   "source": [
    "df_categories = pd.read_csv('categories.csv')['item_name']\n",
    "df_feedequ = pd.read_csv('feedequ.csv')['item_name']\n",
    "df_ops = pd.read_csv('ops.csv')['item_name']\n",
    "df_plastic = pd.read_csv('plastic.csv')['item_name']"
   ]
  },
  {
   "cell_type": "code",
   "execution_count": 155,
   "id": "f15b0007",
   "metadata": {},
   "outputs": [],
   "source": [
    "def item_check(x):\n",
    "    for i in df1.item_name.unique():\n",
    "        if i not in list(x):\n",
    "            print(i, ' not present')"
   ]
  },
  {
   "cell_type": "code",
   "execution_count": 156,
   "id": "0f652e74",
   "metadata": {},
   "outputs": [
    {
     "name": "stdout",
     "output_type": "stream",
     "text": [
      "KHY-Khoya  not present\n",
      "KHY-Khoya  not present\n",
      "KHY-Khoya  not present\n",
      "KHY-Khoya  not present\n"
     ]
    }
   ],
   "source": [
    "item_check(df_categories)\n",
    "item_check(df_feedequ)\n",
    "item_check(df_ops)\n",
    "item_check(df_plastic)"
   ]
  },
  {
   "cell_type": "code",
   "execution_count": null,
   "id": "545b5179",
   "metadata": {},
   "outputs": [],
   "source": []
  },
  {
   "cell_type": "code",
   "execution_count": 69,
   "id": "e69db8b2",
   "metadata": {},
   "outputs": [
    {
     "name": "stdout",
     "output_type": "stream",
     "text": [
      "46220.0\n"
     ]
    }
   ],
   "source": [
    "test=df1['item_weight'].sum()\n",
    "print(test)"
   ]
  },
  {
   "cell_type": "code",
   "execution_count": 70,
   "id": "3fef59bf",
   "metadata": {},
   "outputs": [],
   "source": [
    "cat = pd.read_csv('categories.csv')\n",
    "cat.drop(cat.columns[cat.columns.str.contains('unnamed',case = False)],axis = 1, inplace = True)\n"
   ]
  },
  {
   "cell_type": "code",
   "execution_count": 71,
   "id": "b36bb013",
   "metadata": {},
   "outputs": [],
   "source": [
    "newdf=df1.merge(cat, on='item_name', how='left')\n",
    "newdf=newdf.drop(['ticket_type', 'status','stockentry_date','created_by'], axis = 1)\n",
    "size2=len(newdf.index)"
   ]
  },
  {
   "cell_type": "code",
   "execution_count": 72,
   "id": "34ba5f59",
   "metadata": {},
   "outputs": [
    {
     "data": {
      "text/plain": [
       "27"
      ]
     },
     "execution_count": 72,
     "metadata": {},
     "output_type": "execute_result"
    }
   ],
   "source": [
    "size2"
   ]
  },
  {
   "cell_type": "code",
   "execution_count": 73,
   "id": "6afa8164",
   "metadata": {},
   "outputs": [
    {
     "name": "stdout",
     "output_type": "stream",
     "text": [
      "46220.0\n"
     ]
    }
   ],
   "source": [
    "test1=newdf['item_weight'].sum()\n",
    "print(test1)"
   ]
  },
  {
   "cell_type": "code",
   "execution_count": 74,
   "id": "c2234606",
   "metadata": {},
   "outputs": [
    {
     "name": "stdout",
     "output_type": "stream",
     "text": [
      "27\n"
     ]
    }
   ],
   "source": [
    "print(len(newdf.index))"
   ]
  },
  {
   "cell_type": "code",
   "execution_count": 75,
   "id": "4671efa6",
   "metadata": {},
   "outputs": [],
   "source": [
    "newdf.loc[ (newdf.type == \"F\") , 'food_wt'] = (newdf['item_weight']*(1-0.10))\n",
    "newdf.loc[ (newdf.type == \"NF\") , 'food_wt'] = 0"
   ]
  },
  {
   "cell_type": "code",
   "execution_count": 76,
   "id": "10f4a1ff",
   "metadata": {},
   "outputs": [
    {
     "name": "stdout",
     "output_type": "stream",
     "text": [
      "46220.0\n"
     ]
    }
   ],
   "source": [
    "test1=newdf['item_weight'].sum()\n",
    "print(test1)"
   ]
  },
  {
   "cell_type": "code",
   "execution_count": 77,
   "id": "264e7d4a",
   "metadata": {},
   "outputs": [],
   "source": [
    "newdf['plastic_wt']=newdf['item_weight']-newdf['food_wt']"
   ]
  },
  {
   "cell_type": "code",
   "execution_count": 78,
   "id": "e53bf1e0",
   "metadata": {},
   "outputs": [
    {
     "name": "stdout",
     "output_type": "stream",
     "text": [
      "46220.0\n"
     ]
    }
   ],
   "source": [
    "test1=newdf['item_weight'].sum()\n",
    "print(test1)"
   ]
  },
  {
   "cell_type": "code",
   "execution_count": 79,
   "id": "d030d192",
   "metadata": {},
   "outputs": [],
   "source": [
    "pl = pd.read_csv('plastic.csv')\n",
    "pl.drop(pl.columns[pl.columns.str.contains('unnamed',case = False)],axis = 1, inplace = True)\n",
    "newdf=newdf.merge(pl, on='item_name', how='left')\n",
    "size3=len(newdf.index)"
   ]
  },
  {
   "cell_type": "code",
   "execution_count": 80,
   "id": "2ef96b79",
   "metadata": {},
   "outputs": [
    {
     "data": {
      "text/plain": [
       "27"
      ]
     },
     "execution_count": 80,
     "metadata": {},
     "output_type": "execute_result"
    }
   ],
   "source": [
    "size3"
   ]
  },
  {
   "cell_type": "code",
   "execution_count": 81,
   "id": "5fe90d4d",
   "metadata": {},
   "outputs": [
    {
     "name": "stdout",
     "output_type": "stream",
     "text": [
      "46220.0\n"
     ]
    }
   ],
   "source": [
    "test1=newdf['item_weight'].sum()\n",
    "print(test1)"
   ]
  },
  {
   "cell_type": "code",
   "execution_count": 82,
   "id": "6d661f8e",
   "metadata": {},
   "outputs": [],
   "source": [
    "\n",
    "feed = pd.read_csv('feedequ.csv')\n",
    "feed.drop(feed.columns[feed.columns.str.contains('unnamed',case = False)],axis = 1, inplace = True)\n",
    "newdf=newdf.merge(feed, on='item_name', how='left')\n",
    "size4=len(newdf.index)"
   ]
  },
  {
   "cell_type": "code",
   "execution_count": 83,
   "id": "5d1f5716",
   "metadata": {},
   "outputs": [
    {
     "data": {
      "text/plain": [
       "27"
      ]
     },
     "execution_count": 83,
     "metadata": {},
     "output_type": "execute_result"
    }
   ],
   "source": [
    "size4"
   ]
  },
  {
   "cell_type": "code",
   "execution_count": 84,
   "id": "f7103e3d",
   "metadata": {},
   "outputs": [
    {
     "name": "stdout",
     "output_type": "stream",
     "text": [
      "46220.0\n"
     ]
    }
   ],
   "source": [
    "test1=newdf['item_weight'].sum()\n",
    "print(test1)"
   ]
  },
  {
   "cell_type": "code",
   "execution_count": 85,
   "id": "9420b250",
   "metadata": {},
   "outputs": [],
   "source": [
    "wl_ops = pd.read_csv('ops.csv')\n",
    "feed.drop(feed.columns[feed.columns.str.contains('unnamed',case = False)],axis = 1, inplace = True)\n",
    "newdf=newdf.merge(wl_ops, on='item_name', how='left')\n",
    "size5=len(newdf.index)"
   ]
  },
  {
   "cell_type": "code",
   "execution_count": 86,
   "id": "f39682ee",
   "metadata": {},
   "outputs": [
    {
     "data": {
      "text/plain": [
       "27"
      ]
     },
     "execution_count": 86,
     "metadata": {},
     "output_type": "execute_result"
    }
   ],
   "source": [
    "size5"
   ]
  },
  {
   "cell_type": "code",
   "execution_count": 87,
   "id": "e847178d",
   "metadata": {},
   "outputs": [
    {
     "name": "stdout",
     "output_type": "stream",
     "text": [
      "46220.0\n"
     ]
    }
   ],
   "source": [
    "test1=newdf['item_weight'].sum()\n",
    "print(test1)"
   ]
  },
  {
   "cell_type": "code",
   "execution_count": 88,
   "id": "6fbd9e29",
   "metadata": {},
   "outputs": [],
   "source": [
    "if size1!=size2 or size2!=size3 or size4!=size5:\n",
    "    raise SystemExit(0)"
   ]
  },
  {
   "cell_type": "code",
   "execution_count": 89,
   "id": "3595fc05",
   "metadata": {},
   "outputs": [],
   "source": [
    "newdf.loc[(newdf.type == \"F\") , 'A1-Food_E'] = newdf['food_wt']*newdf['landfil_factor']\n",
    "newdf.loc[(newdf.type == \"NF\") , 'A1-Food_E'] = newdf['item_weight']*newdf['landfil_factor']\n",
    "newdf['B1-plastic_emission_prevented']=newdf['plastic_wt']*newdf['plastic_landfil_factor']\n",
    "newdf['B2-plasticwte_emission_prevented']=newdf['plastic_wt']*newdf['wte_emissions']\n",
    "newdf['B3-Plastic_treatment']=newdf['plastic_wt']*newdf['plastic_treatment']\n",
    "newdf['C-Feed_E']=newdf['food_wt']*newdf['feed_equivalent']\n",
    "newdf['D-WLOps_emission']=newdf['food_wt']*newdf['wl_ops']\n",
    "newdf.replace(np.nan,0,inplace=True)\n",
    "\n",
    "newdf['Total_AtoD']=newdf['A1-Food_E']+newdf['B1-plastic_emission_prevented']-newdf['B2-plasticwte_emission_prevented']+newdf['B3-Plastic_treatment']+newdf['C-Feed_E']-newdf['D-WLOps_emission']"
   ]
  },
  {
   "cell_type": "code",
   "execution_count": 90,
   "id": "49fc16ba",
   "metadata": {},
   "outputs": [
    {
     "name": "stdout",
     "output_type": "stream",
     "text": [
      "46220.0\n"
     ]
    }
   ],
   "source": [
    "test1=newdf['item_weight'].sum()\n",
    "print(test1)"
   ]
  },
  {
   "cell_type": "code",
   "execution_count": 91,
   "id": "1625cce5",
   "metadata": {},
   "outputs": [],
   "source": [
    "Food_value=newdf['Total_AtoD'].sum()\n",
    "Food_wt=newdf['food_wt'].sum()\n",
    "Plastic_wt=newdf['plastic_wt'].sum()\n",
    "nf=newdf[newdf['type']=='NF']\n",
    "Total_Non_Food_wt=nf['item_weight'].sum()\n",
    "Total_Food_plastic_weight=Plastic_wt-Total_Non_Food_wt"
   ]
  },
  {
   "cell_type": "code",
   "execution_count": 92,
   "id": "fc8e879f",
   "metadata": {},
   "outputs": [
    {
     "data": {
      "text/plain": [
       "34974.0"
      ]
     },
     "execution_count": 92,
     "metadata": {},
     "output_type": "execute_result"
    }
   ],
   "source": [
    "Food_wt"
   ]
  },
  {
   "cell_type": "code",
   "execution_count": 93,
   "id": "bb24689e",
   "metadata": {},
   "outputs": [
    {
     "data": {
      "text/plain": [
       "154837.220766742"
      ]
     },
     "execution_count": 93,
     "metadata": {},
     "output_type": "execute_result"
    }
   ],
   "source": [
    "Food_value"
   ]
  },
  {
   "cell_type": "code",
   "execution_count": 94,
   "id": "074c968a",
   "metadata": {},
   "outputs": [],
   "source": [
    "#drop location distance\n",
    "newdf.loc[ (newdf.drop_location == \"Wastelink Rai Unit\") , 'drop_location_add'] = \"Rai Industrial haryana\"\n",
    "newdf.loc[ (newdf.drop_location == \"Wastelink Lucknow Unit\") , 'drop_location_add'] = \"Uttar Pradesh 226008\"\n",
    "newdf.loc[ (newdf.drop_location == \"Wastelink Bangalore Unit\") , 'drop_location_add'] = \"Hoskote karnataka\"\n",
    "newdf.loc[ (newdf.drop_location == \"Wastelink Mumbai Unit\") , 'drop_location_add'] = \"bhumi world mumbai\"\n"
   ]
  },
  {
   "cell_type": "code",
   "execution_count": 95,
   "id": "ad86c54e",
   "metadata": {},
   "outputs": [],
   "source": [
    "#dff = newdf.groupby([\"city\",\"drop_location_add\"]).item_weight.sum().reset_index()"
   ]
  },
  {
   "cell_type": "code",
   "execution_count": 96,
   "id": "38973360",
   "metadata": {},
   "outputs": [],
   "source": [
    "dff=newdf.groupby(['city','drop_location_add']).agg({'item_weight': 'sum','food_wt': 'sum'}).reset_index()"
   ]
  },
  {
   "cell_type": "code",
   "execution_count": 97,
   "id": "e41614ab",
   "metadata": {},
   "outputs": [],
   "source": [
    "dff.loc[(dff.item_weight<1000) , 'vehicle_type'] = \"Mini Truck\"\n",
    "dff.loc[(dff.item_weight>1000) & (dff.item_weight<3000) , 'vehicle_type'] = \"Light duty vehicles\"\n",
    "dff.loc[(dff.item_weight>3000) & (dff.item_weight<10000) , 'vehicle_type'] = \"Medium duty vehicles\"\n",
    "dff.loc[(dff.item_weight>10000) , 'vehicle_type'] = \"Heavy duty vehicles\""
   ]
  },
  {
   "cell_type": "code",
   "execution_count": 98,
   "id": "d12e12dc",
   "metadata": {},
   "outputs": [],
   "source": [
    "truck = pd.read_csv('truck.csv')\n",
    "truck.drop(truck.columns[truck.columns.str.contains('unnamed',case = False)],axis = 1, inplace = True)\n",
    "dff=dff.merge(truck, on='vehicle_type', how='left')"
   ]
  },
  {
   "cell_type": "code",
   "execution_count": 99,
   "id": "c7a95317",
   "metadata": {},
   "outputs": [
    {
     "data": {
      "text/html": [
       "<div>\n",
       "<style scoped>\n",
       "    .dataframe tbody tr th:only-of-type {\n",
       "        vertical-align: middle;\n",
       "    }\n",
       "\n",
       "    .dataframe tbody tr th {\n",
       "        vertical-align: top;\n",
       "    }\n",
       "\n",
       "    .dataframe thead th {\n",
       "        text-align: right;\n",
       "    }\n",
       "</style>\n",
       "<table border=\"1\" class=\"dataframe\">\n",
       "  <thead>\n",
       "    <tr style=\"text-align: right;\">\n",
       "      <th></th>\n",
       "      <th>city</th>\n",
       "      <th>drop_location_add</th>\n",
       "      <th>item_weight</th>\n",
       "      <th>food_wt</th>\n",
       "      <th>vehicle_type</th>\n",
       "      <th>truck_emission</th>\n",
       "    </tr>\n",
       "  </thead>\n",
       "  <tbody>\n",
       "    <tr>\n",
       "      <th>0</th>\n",
       "      <td>Panipat</td>\n",
       "      <td>Rai Industrial haryana</td>\n",
       "      <td>46220.0</td>\n",
       "      <td>34974.0</td>\n",
       "      <td>Heavy duty vehicles</td>\n",
       "      <td>0.7375</td>\n",
       "    </tr>\n",
       "  </tbody>\n",
       "</table>\n",
       "</div>"
      ],
      "text/plain": [
       "      city       drop_location_add  item_weight  food_wt         vehicle_type  \\\n",
       "0  Panipat  Rai Industrial haryana      46220.0  34974.0  Heavy duty vehicles   \n",
       "\n",
       "   truck_emission  \n",
       "0          0.7375  "
      ]
     },
     "execution_count": 99,
     "metadata": {},
     "output_type": "execute_result"
    }
   ],
   "source": [
    "dff"
   ]
  },
  {
   "cell_type": "code",
   "execution_count": 100,
   "id": "5f0beba9",
   "metadata": {},
   "outputs": [],
   "source": [
    "dff['in_distance']=dff.apply(lambda row: calculate_dist(row['city'],row['drop_location_add']), axis=1)"
   ]
  },
  {
   "cell_type": "code",
   "execution_count": 101,
   "id": "90bfd609",
   "metadata": {},
   "outputs": [],
   "source": [
    "dff['in_emission']=dff['truck_emission']*dff['in_distance']\n",
    "dff['ds_emission']=dff['truck_emission']*50"
   ]
  },
  {
   "cell_type": "code",
   "execution_count": 102,
   "id": "2e0d2a00",
   "metadata": {},
   "outputs": [
    {
     "data": {
      "text/html": [
       "<div>\n",
       "<style scoped>\n",
       "    .dataframe tbody tr th:only-of-type {\n",
       "        vertical-align: middle;\n",
       "    }\n",
       "\n",
       "    .dataframe tbody tr th {\n",
       "        vertical-align: top;\n",
       "    }\n",
       "\n",
       "    .dataframe thead th {\n",
       "        text-align: right;\n",
       "    }\n",
       "</style>\n",
       "<table border=\"1\" class=\"dataframe\">\n",
       "  <thead>\n",
       "    <tr style=\"text-align: right;\">\n",
       "      <th></th>\n",
       "      <th>city</th>\n",
       "      <th>drop_location_add</th>\n",
       "      <th>item_weight</th>\n",
       "      <th>food_wt</th>\n",
       "      <th>vehicle_type</th>\n",
       "      <th>truck_emission</th>\n",
       "      <th>in_distance</th>\n",
       "      <th>in_emission</th>\n",
       "      <th>ds_emission</th>\n",
       "    </tr>\n",
       "  </thead>\n",
       "  <tbody>\n",
       "    <tr>\n",
       "      <th>0</th>\n",
       "      <td>Panipat</td>\n",
       "      <td>Rai Industrial haryana</td>\n",
       "      <td>46220.0</td>\n",
       "      <td>34974.0</td>\n",
       "      <td>Heavy duty vehicles</td>\n",
       "      <td>0.7375</td>\n",
       "      <td>54.771</td>\n",
       "      <td>40.393613</td>\n",
       "      <td>36.875</td>\n",
       "    </tr>\n",
       "  </tbody>\n",
       "</table>\n",
       "</div>"
      ],
      "text/plain": [
       "      city       drop_location_add  item_weight  food_wt         vehicle_type  \\\n",
       "0  Panipat  Rai Industrial haryana      46220.0  34974.0  Heavy duty vehicles   \n",
       "\n",
       "   truck_emission  in_distance  in_emission  ds_emission  \n",
       "0          0.7375       54.771    40.393613       36.875  "
      ]
     },
     "execution_count": 102,
     "metadata": {},
     "output_type": "execute_result"
    }
   ],
   "source": [
    "dff"
   ]
  },
  {
   "cell_type": "code",
   "execution_count": 103,
   "id": "0b443e6b",
   "metadata": {},
   "outputs": [],
   "source": [
    "In_value=dff['in_emission'].sum()\n",
    "DS_value=dff['ds_emission'].sum()\n"
   ]
  },
  {
   "cell_type": "code",
   "execution_count": 104,
   "id": "60cb6482",
   "metadata": {},
   "outputs": [],
   "source": [
    "#customer location distance\n",
    "dff.loc[ (dff.drop_location_add == \"Rai Industrial haryana\") , 'fg_location_add'] = \"Ambala Haryana\"\n",
    "dff.loc[ (dff.drop_location_add == \"Uttar Pradesh 226008\") , 'fg_location_add'] = \"Ambala Haryana\"\n",
    "dff.loc[ (dff.drop_location_add == \"Hoskote karnataka\") , 'fg_location_add'] = \"Sangli Maharashtra\"\n",
    "dff.loc[ (dff.drop_location_add == \"bhumi world mumbai\") , 'fg_location_add'] = \"Sangli Maharashtra\""
   ]
  },
  {
   "cell_type": "code",
   "execution_count": 105,
   "id": "77c18759",
   "metadata": {},
   "outputs": [
    {
     "data": {
      "text/html": [
       "<div>\n",
       "<style scoped>\n",
       "    .dataframe tbody tr th:only-of-type {\n",
       "        vertical-align: middle;\n",
       "    }\n",
       "\n",
       "    .dataframe tbody tr th {\n",
       "        vertical-align: top;\n",
       "    }\n",
       "\n",
       "    .dataframe thead th {\n",
       "        text-align: right;\n",
       "    }\n",
       "</style>\n",
       "<table border=\"1\" class=\"dataframe\">\n",
       "  <thead>\n",
       "    <tr style=\"text-align: right;\">\n",
       "      <th></th>\n",
       "      <th>city</th>\n",
       "      <th>drop_location_add</th>\n",
       "      <th>item_weight</th>\n",
       "      <th>food_wt</th>\n",
       "      <th>vehicle_type</th>\n",
       "      <th>truck_emission</th>\n",
       "      <th>in_distance</th>\n",
       "      <th>in_emission</th>\n",
       "      <th>ds_emission</th>\n",
       "      <th>fg_location_add</th>\n",
       "    </tr>\n",
       "  </thead>\n",
       "  <tbody>\n",
       "    <tr>\n",
       "      <th>0</th>\n",
       "      <td>Panipat</td>\n",
       "      <td>Rai Industrial haryana</td>\n",
       "      <td>46220.0</td>\n",
       "      <td>34974.0</td>\n",
       "      <td>Heavy duty vehicles</td>\n",
       "      <td>0.7375</td>\n",
       "      <td>54.771</td>\n",
       "      <td>40.393613</td>\n",
       "      <td>36.875</td>\n",
       "      <td>Ambala Haryana</td>\n",
       "    </tr>\n",
       "  </tbody>\n",
       "</table>\n",
       "</div>"
      ],
      "text/plain": [
       "      city       drop_location_add  item_weight  food_wt         vehicle_type  \\\n",
       "0  Panipat  Rai Industrial haryana      46220.0  34974.0  Heavy duty vehicles   \n",
       "\n",
       "   truck_emission  in_distance  in_emission  ds_emission fg_location_add  \n",
       "0          0.7375       54.771    40.393613       36.875  Ambala Haryana  "
      ]
     },
     "execution_count": 105,
     "metadata": {},
     "output_type": "execute_result"
    }
   ],
   "source": [
    "dff"
   ]
  },
  {
   "cell_type": "code",
   "execution_count": 106,
   "id": "2e4282db",
   "metadata": {},
   "outputs": [],
   "source": [
    "dfout=dff.groupby([\"drop_location_add\",\"fg_location_add\"]).food_wt.sum().reset_index()"
   ]
  },
  {
   "cell_type": "code",
   "execution_count": 107,
   "id": "4b32c55a",
   "metadata": {},
   "outputs": [
    {
     "data": {
      "text/html": [
       "<div>\n",
       "<style scoped>\n",
       "    .dataframe tbody tr th:only-of-type {\n",
       "        vertical-align: middle;\n",
       "    }\n",
       "\n",
       "    .dataframe tbody tr th {\n",
       "        vertical-align: top;\n",
       "    }\n",
       "\n",
       "    .dataframe thead th {\n",
       "        text-align: right;\n",
       "    }\n",
       "</style>\n",
       "<table border=\"1\" class=\"dataframe\">\n",
       "  <thead>\n",
       "    <tr style=\"text-align: right;\">\n",
       "      <th></th>\n",
       "      <th>drop_location_add</th>\n",
       "      <th>fg_location_add</th>\n",
       "      <th>food_wt</th>\n",
       "    </tr>\n",
       "  </thead>\n",
       "  <tbody>\n",
       "    <tr>\n",
       "      <th>0</th>\n",
       "      <td>Rai Industrial haryana</td>\n",
       "      <td>Ambala Haryana</td>\n",
       "      <td>34974.0</td>\n",
       "    </tr>\n",
       "  </tbody>\n",
       "</table>\n",
       "</div>"
      ],
      "text/plain": [
       "        drop_location_add fg_location_add  food_wt\n",
       "0  Rai Industrial haryana  Ambala Haryana  34974.0"
      ]
     },
     "execution_count": 107,
     "metadata": {},
     "output_type": "execute_result"
    }
   ],
   "source": [
    "dfout"
   ]
  },
  {
   "cell_type": "code",
   "execution_count": 108,
   "id": "7912464e",
   "metadata": {},
   "outputs": [],
   "source": [
    "dfout.loc[(dfout.food_wt<1000) , 'vehicle_type'] = \"Mini Truck\"\n",
    "dfout.loc[(dfout.food_wt>1000) & (dfout.food_wt<3000) , 'vehicle_type'] = \"Light duty vehicles\"\n",
    "dfout.loc[(dfout.food_wt>3000) & (dfout.food_wt<10000) , 'vehicle_type'] = \"Medium duty vehicles\"\n",
    "dfout.loc[(dfout.food_wt>10000) , 'vehicle_type'] = \"Heavy duty vehicles\""
   ]
  },
  {
   "cell_type": "code",
   "execution_count": 109,
   "id": "10687123",
   "metadata": {},
   "outputs": [
    {
     "data": {
      "text/html": [
       "<div>\n",
       "<style scoped>\n",
       "    .dataframe tbody tr th:only-of-type {\n",
       "        vertical-align: middle;\n",
       "    }\n",
       "\n",
       "    .dataframe tbody tr th {\n",
       "        vertical-align: top;\n",
       "    }\n",
       "\n",
       "    .dataframe thead th {\n",
       "        text-align: right;\n",
       "    }\n",
       "</style>\n",
       "<table border=\"1\" class=\"dataframe\">\n",
       "  <thead>\n",
       "    <tr style=\"text-align: right;\">\n",
       "      <th></th>\n",
       "      <th>drop_location_add</th>\n",
       "      <th>fg_location_add</th>\n",
       "      <th>food_wt</th>\n",
       "      <th>vehicle_type</th>\n",
       "    </tr>\n",
       "  </thead>\n",
       "  <tbody>\n",
       "    <tr>\n",
       "      <th>0</th>\n",
       "      <td>Rai Industrial haryana</td>\n",
       "      <td>Ambala Haryana</td>\n",
       "      <td>34974.0</td>\n",
       "      <td>Heavy duty vehicles</td>\n",
       "    </tr>\n",
       "  </tbody>\n",
       "</table>\n",
       "</div>"
      ],
      "text/plain": [
       "        drop_location_add fg_location_add  food_wt         vehicle_type\n",
       "0  Rai Industrial haryana  Ambala Haryana  34974.0  Heavy duty vehicles"
      ]
     },
     "execution_count": 109,
     "metadata": {},
     "output_type": "execute_result"
    }
   ],
   "source": [
    "dfout"
   ]
  },
  {
   "cell_type": "code",
   "execution_count": 110,
   "id": "f77b9182",
   "metadata": {},
   "outputs": [],
   "source": [
    "truck = pd.read_csv('truck.csv')\n",
    "truck.drop(truck.columns[truck.columns.str.contains('unnamed',case = False)],axis = 1, inplace = True)\n",
    "dfout=dfout.merge(truck, on='vehicle_type', how='left')"
   ]
  },
  {
   "cell_type": "code",
   "execution_count": 111,
   "id": "0b9a394b",
   "metadata": {},
   "outputs": [],
   "source": [
    "dfout['out_distance']=dfout.apply(lambda row: calculate_dist(row['drop_location_add'],row['fg_location_add']), axis=1)\n",
    "dfout['out_emission']=dfout['truck_emission']*dfout['out_distance']"
   ]
  },
  {
   "cell_type": "code",
   "execution_count": 112,
   "id": "a052af7f",
   "metadata": {},
   "outputs": [
    {
     "data": {
      "text/html": [
       "<div>\n",
       "<style scoped>\n",
       "    .dataframe tbody tr th:only-of-type {\n",
       "        vertical-align: middle;\n",
       "    }\n",
       "\n",
       "    .dataframe tbody tr th {\n",
       "        vertical-align: top;\n",
       "    }\n",
       "\n",
       "    .dataframe thead th {\n",
       "        text-align: right;\n",
       "    }\n",
       "</style>\n",
       "<table border=\"1\" class=\"dataframe\">\n",
       "  <thead>\n",
       "    <tr style=\"text-align: right;\">\n",
       "      <th></th>\n",
       "      <th>drop_location_add</th>\n",
       "      <th>fg_location_add</th>\n",
       "      <th>food_wt</th>\n",
       "      <th>vehicle_type</th>\n",
       "      <th>truck_emission</th>\n",
       "      <th>out_distance</th>\n",
       "      <th>out_emission</th>\n",
       "    </tr>\n",
       "  </thead>\n",
       "  <tbody>\n",
       "    <tr>\n",
       "      <th>0</th>\n",
       "      <td>Rai Industrial haryana</td>\n",
       "      <td>Ambala Haryana</td>\n",
       "      <td>34974.0</td>\n",
       "      <td>Heavy duty vehicles</td>\n",
       "      <td>0.7375</td>\n",
       "      <td>168.937</td>\n",
       "      <td>124.591038</td>\n",
       "    </tr>\n",
       "  </tbody>\n",
       "</table>\n",
       "</div>"
      ],
      "text/plain": [
       "        drop_location_add fg_location_add  food_wt         vehicle_type  \\\n",
       "0  Rai Industrial haryana  Ambala Haryana  34974.0  Heavy duty vehicles   \n",
       "\n",
       "   truck_emission  out_distance  out_emission  \n",
       "0          0.7375       168.937    124.591038  "
      ]
     },
     "execution_count": 112,
     "metadata": {},
     "output_type": "execute_result"
    }
   ],
   "source": [
    "dfout"
   ]
  },
  {
   "cell_type": "code",
   "execution_count": 113,
   "id": "7a09ae9e",
   "metadata": {},
   "outputs": [
    {
     "data": {
      "text/plain": [
       "124.59103750000001"
      ]
     },
     "execution_count": 113,
     "metadata": {},
     "output_type": "execute_result"
    }
   ],
   "source": [
    "Out_value=dfout['out_emission'].sum()\n",
    "Out_value"
   ]
  },
  {
   "cell_type": "code",
   "execution_count": 114,
   "id": "52f6c1df",
   "metadata": {},
   "outputs": [],
   "source": [
    "Net_emission=Food_value-In_value-Out_value+DS_value"
   ]
  },
  {
   "cell_type": "code",
   "execution_count": 115,
   "id": "ab5357c0",
   "metadata": {},
   "outputs": [
    {
     "data": {
      "text/plain": [
       "154709.111116742"
      ]
     },
     "execution_count": 115,
     "metadata": {},
     "output_type": "execute_result"
    }
   ],
   "source": [
    "Net_emission"
   ]
  },
  {
   "cell_type": "code",
   "execution_count": 116,
   "id": "ef74489b",
   "metadata": {},
   "outputs": [
    {
     "data": {
      "text/plain": [
       "154837.220766742"
      ]
     },
     "execution_count": 116,
     "metadata": {},
     "output_type": "execute_result"
    }
   ],
   "source": [
    "Food_value"
   ]
  },
  {
   "cell_type": "code",
   "execution_count": 117,
   "id": "a1428378",
   "metadata": {},
   "outputs": [
    {
     "data": {
      "text/plain": [
       "40.3936125"
      ]
     },
     "execution_count": 117,
     "metadata": {},
     "output_type": "execute_result"
    }
   ],
   "source": [
    "In_value"
   ]
  },
  {
   "cell_type": "code",
   "execution_count": 118,
   "id": "a0c0b03c",
   "metadata": {},
   "outputs": [],
   "source": [
    "details = {'Total_foodwt':[Food_wt],'Total_plasticwt':[Plastic_wt],'Total_NonFood_wt':[Total_Non_Food_wt],'Total_Food_plastic_wt':[Total_Food_plastic_weight],'Net_GHG':[Net_emission],'Food Value':[Food_value], 'In Value': [In_value], 'Out Value':[Out_value], 'DS Value': [DS_value]}"
   ]
  },
  {
   "cell_type": "code",
   "execution_count": 119,
   "id": "af6519d4",
   "metadata": {},
   "outputs": [],
   "source": [
    "final = pd.DataFrame(details)"
   ]
  },
  {
   "cell_type": "code",
   "execution_count": 124,
   "id": "42f85a2e",
   "metadata": {},
   "outputs": [],
   "source": [
    "# Create a Pandas Excel writer using XlsxWriter as the engine.\n",
    "writer = pd.ExcelWriter(f'C:\\\\Users\\\\avitr\\\\Downloads\\\\{supplier}_{date}.xlsx', engine='xlsxwriter')\n",
    "\n",
    "# Write each dataframe to a different worksheet. you could write different string like above if you want\n",
    "final.to_excel(writer, sheet_name='Sheet1',startcol=1)\n",
    "dff.to_excel(writer, sheet_name='Sheet3',startcol=2)\n",
    "dfout.to_excel(writer, sheet_name='Sheet3',startcol=14)\n",
    "newdf.to_excel(writer, sheet_name='Sheet2')\n",
    "\n",
    "\n",
    "\n",
    "\n",
    "# Close the Pandas Excel writer and output the Excel file.\n",
    "writer.save()"
   ]
  },
  {
   "cell_type": "code",
   "execution_count": null,
   "id": "dae659a4",
   "metadata": {},
   "outputs": [],
   "source": []
  },
  {
   "cell_type": "code",
   "execution_count": null,
   "id": "073ac10c",
   "metadata": {},
   "outputs": [],
   "source": []
  }
 ],
 "metadata": {
  "kernelspec": {
   "display_name": "Python 3 (ipykernel)",
   "language": "python",
   "name": "python3"
  },
  "language_info": {
   "codemirror_mode": {
    "name": "ipython",
    "version": 3
   },
   "file_extension": ".py",
   "mimetype": "text/x-python",
   "name": "python",
   "nbconvert_exporter": "python",
   "pygments_lexer": "ipython3",
   "version": "3.8.5"
  }
 },
 "nbformat": 4,
 "nbformat_minor": 5
}
