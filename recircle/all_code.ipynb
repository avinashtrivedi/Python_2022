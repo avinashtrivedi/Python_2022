{
 "cells": [
  {
   "cell_type": "code",
   "execution_count": 101,
   "metadata": {},
   "outputs": [],
   "source": [
    "import numpy as np\n",
    "import pandas as pd\n",
    "from matplotlib import pyplot as plt"
   ]
  },
  {
   "cell_type": "code",
   "execution_count": 102,
   "metadata": {},
   "outputs": [],
   "source": [
    "def readData(fname='ZipDigits.train'):\n",
    "    '''\n",
    "     Input:\n",
    "     fname: name of file containing N examples, each \n",
    "    with d attributes\n",
    "     Output:\n",
    "     X: N x d+1 numpy array\n",
    "     y: N x 1 numpy array\n",
    "    '''\n",
    "    with open(fname) as f:\n",
    "        X = []\n",
    "        y = []\n",
    "        rlines = f.readlines()\n",
    "        for line in rlines:\n",
    "            row = line.rstrip().split(' ')\n",
    "            yval = int(float(row[0].replace(',','')))\n",
    "            y.append(yval)\n",
    "            xvals = [float(pixel.replace(',','')) for pixel in row[1:]]\n",
    "            X.append(xvals)\n",
    "        X = np.array(X)\n",
    "        y = np.array(y)\n",
    "        y = y.reshape((y.shape[0], 1))\n",
    "    print(f'X shape: {X.shape}')\n",
    "    print(f'y shape: {y.shape}')\n",
    "    return X, y"
   ]
  },
  {
   "cell_type": "code",
   "execution_count": 103,
   "metadata": {},
   "outputs": [
    {
     "name": "stdout",
     "output_type": "stream",
     "text": [
      "X shape: (7291, 256)\n",
      "y shape: (7291, 1)\n",
      "X shape: (2007, 256)\n",
      "y shape: (2007, 1)\n"
     ]
    }
   ],
   "source": [
    "Xdigitstrain, ydigitstrain = readData('ZipDigits.train.csv')\n",
    "Ndigitstrain, pixels = Xdigitstrain.shape\n",
    "assert(Ndigitstrain == ydigitstrain.shape[0])\n",
    "Xdigitstest, ydigitstest = readData('ZipDigits.test.csv')\n",
    "Ndigitstest, pixels = Xdigitstest.shape\n",
    "assert(Ndigitstest == ydigitstest.shape[0])"
   ]
  },
  {
   "cell_type": "code",
   "execution_count": 104,
   "metadata": {},
   "outputs": [],
   "source": [
    "def showKthImage(X, y, k):\n",
    "    image = X[k, :].reshape((16, 16))\n",
    "    plt.imshow(image, cmap='gray', vmin=-1, vmax=1)\n",
    "    plt.title(f'First digit is a {y[k, 0]}')\n",
    "    plt.xlim(0, 15)\n",
    "    plt.ylim(15, 0)\n",
    "    plt.xticks(range(16))\n",
    "    plt.yticks(range(16))\n",
    "    plt.tight_layout()\n",
    "    plt.show()"
   ]
  },
  {
   "cell_type": "code",
   "execution_count": 105,
   "metadata": {},
   "outputs": [
    {
     "data": {
      "image/png": "[encoded data removed]",
      "text/plain": [
       "<Figure size 432x288 with 1 Axes>"
      ]
     },
     "metadata": {
      "needs_background": "light"
     },
     "output_type": "display_data"
    }
   ],
   "source": [
    "showKthImage(Xdigitstrain, ydigitstrain, 0)"
   ]
  },
  {
   "cell_type": "code",
   "execution_count": 106,
   "metadata": {},
   "outputs": [
    {
     "data": {
      "text/plain": [
       "(7291, 1)"
      ]
     },
     "execution_count": 106,
     "metadata": {},
     "output_type": "execute_result"
    }
   ],
   "source": [
    "np.mean(Xdigitstrain,axis=1).reshape(-1,1).shape"
   ]
  },
  {
   "cell_type": "code",
   "execution_count": 107,
   "metadata": {},
   "outputs": [
    {
     "data": {
      "text/plain": [
       "array([[-1.   , -1.   , -1.   , -1.   , -1.   , -0.108,  1.   ,  0.616,\n",
       "        -0.867, -1.   , -1.   , -1.   , -1.   , -1.   , -1.   , -1.   ,\n",
       "        -1.   , -1.   , -1.   , -1.   , -1.   ,  0.02 ,  1.   ,  1.   ,\n",
       "         0.66 , -0.273, -1.   , -1.   , -1.   , -1.   , -1.   , -1.   ,\n",
       "        -1.   , -1.   , -1.   , -1.   , -1.   , -0.445,  1.   ,  1.   ,\n",
       "         1.   ,  0.936, -0.504, -1.   , -1.   , -1.   , -1.   , -1.   ,\n",
       "        -1.   , -1.   , -1.   , -1.   , -1.   ,  0.078,  1.   ,  1.   ,\n",
       "         1.   ,  1.   ,  0.094, -1.   , -1.   , -1.   , -1.   , -1.   ,\n",
       "        -1.   , -1.   , -1.   , -1.   , -1.   ,  0.009,  1.   ,  1.   ,\n",
       "         1.   ,  1.   ,  0.658, -1.   , -1.   , -1.   , -1.   , -1.   ,\n",
       "        -1.   , -1.   , -1.   , -1.   , -1.   , -0.061,  1.   ,  1.   ,\n",
       "         1.   ,  1.   ,  0.53 , -1.   , -1.   , -1.   , -1.   , -1.   ,\n",
       "        -1.   , -1.   , -1.   , -1.   , -1.   ,  0.166,  1.   ,  1.   ,\n",
       "         1.   ,  1.   , -0.092, -1.   , -1.   , -1.   , -1.   , -1.   ,\n",
       "        -1.   , -1.   , -1.   , -1.   , -1.   ,  0.689,  1.   ,  1.   ,\n",
       "         1.   ,  1.   , -0.022, -1.   , -1.   , -1.   , -1.   , -1.   ,\n",
       "        -1.   , -1.   , -1.   , -1.   , -1.   ,  0.619,  1.   ,  1.   ,\n",
       "         1.   ,  1.   ,  0.047, -1.   , -1.   , -1.   , -1.   , -1.   ,\n",
       "        -1.   , -1.   , -1.   , -1.   , -1.   ,  0.549,  1.   ,  1.   ,\n",
       "         1.   ,  1.   ,  0.117, -1.   , -1.   , -1.   , -1.   , -1.   ,\n",
       "        -1.   , -1.   , -1.   , -1.   , -1.   ,  0.48 ,  1.   ,  1.   ,\n",
       "         1.   ,  1.   , -0.11 , -1.   , -1.   , -1.   , -1.   , -1.   ,\n",
       "        -1.   , -1.   , -1.   , -1.   , -1.   ,  0.41 ,  1.   ,  1.   ,\n",
       "         1.   ,  1.   , -0.633, -1.   , -1.   , -1.   , -1.   , -1.   ,\n",
       "        -1.   , -1.   , -1.   , -1.   , -1.   ,  0.242,  1.   ,  1.   ,\n",
       "         1.   ,  0.548, -1.   , -1.   , -1.   , -1.   , -1.   , -1.   ,\n",
       "        -1.   , -1.   , -1.   , -1.   , -1.   , -0.618,  1.   ,  1.   ,\n",
       "         1.   ,  0.025, -1.   , -1.   , -1.   , -1.   , -1.   , -1.   ,\n",
       "        -1.   , -1.   , -1.   , -1.   , -1.   , -0.784,  0.8  ,  1.   ,\n",
       "         1.   , -0.202, -1.   , -1.   , -1.   , -1.   , -1.   , -1.   ,\n",
       "        -1.   , -1.   , -1.   , -1.   , -1.   , -1.   , -0.634,  0.803,\n",
       "         0.589, -0.907, -1.   , -1.   , -1.   , -1.   , -1.   , -1.   ]])"
      ]
     },
     "execution_count": 107,
     "metadata": {},
     "output_type": "execute_result"
    }
   ],
   "source": [
    "Xdigitstrain[7290:]"
   ]
  },
  {
   "cell_type": "code",
   "execution_count": 108,
   "metadata": {},
   "outputs": [
    {
     "data": {
      "text/plain": [
       "(16, 16)"
      ]
     },
     "execution_count": 108,
     "metadata": {},
     "output_type": "execute_result"
    }
   ],
   "source": [
    "Ximgs[0].shape"
   ]
  },
  {
   "cell_type": "code",
   "execution_count": 109,
   "metadata": {},
   "outputs": [
    {
     "data": {
      "text/plain": [
       "array([[1, 2, 3],\n",
       "       [4, 5, 6]])"
      ]
     },
     "execution_count": 109,
     "metadata": {},
     "output_type": "execute_result"
    }
   ],
   "source": [
    "c = np.array([[1,2,3],[4,5,6]])\n",
    "c"
   ]
  },
  {
   "cell_type": "code",
   "execution_count": 110,
   "metadata": {},
   "outputs": [
    {
     "data": {
      "text/plain": [
       "array([[3, 2, 1],\n",
       "       [6, 5, 4]])"
      ]
     },
     "execution_count": 110,
     "metadata": {},
     "output_type": "execute_result"
    }
   ],
   "source": [
    "np.flip(c,axis=1)"
   ]
  },
  {
   "cell_type": "code",
   "execution_count": 111,
   "metadata": {},
   "outputs": [
    {
     "data": {
      "text/plain": [
       "3.5"
      ]
     },
     "execution_count": 111,
     "metadata": {},
     "output_type": "execute_result"
    }
   ],
   "source": [
    "np.mean(c)"
   ]
  },
  {
   "cell_type": "code",
   "execution_count": 122,
   "metadata": {},
   "outputs": [],
   "source": [
    "N, d = Xdigitstrain.shape\n",
    "Ximgs = [Xdigitstrain[n, :].reshape((16, 16)) for n in range(N)]\n",
    "\n",
    "Ximgs_flipped = [np.flip(Ximgs[n], axis=1) for n in range(N)]"
   ]
  },
  {
   "cell_type": "code",
   "execution_count": 123,
   "metadata": {},
   "outputs": [],
   "source": [
    "symmetries = np.array([- abs(np.mean(Ximgs[n] - Ximgs_flipped[n])) for n in range(N)])"
   ]
  },
  {
   "cell_type": "code",
   "execution_count": 124,
   "metadata": {},
   "outputs": [
    {
     "data": {
      "text/plain": [
       "-2.0816681711721685e-17"
      ]
     },
     "execution_count": 124,
     "metadata": {},
     "output_type": "execute_result"
    }
   ],
   "source": [
    "- abs(np.mean(Ximgs[1] - Ximgs_flipped[1]))"
   ]
  },
  {
   "cell_type": "code",
   "execution_count": 125,
   "metadata": {},
   "outputs": [
    {
     "data": {
      "text/plain": [
       "(7291,)"
      ]
     },
     "execution_count": 125,
     "metadata": {},
     "output_type": "execute_result"
    }
   ],
   "source": [
    "symmetries.shape"
   ]
  },
  {
   "cell_type": "code",
   "execution_count": null,
   "metadata": {},
   "outputs": [],
   "source": []
  },
  {
   "cell_type": "code",
   "execution_count": 53,
   "metadata": {},
   "outputs": [
    {
     "data": {
      "image/png": "[encoded data removed]",
      "text/plain": [
       "<Figure size 432x288 with 1 Axes>"
      ]
     },
     "metadata": {
      "needs_background": "light"
     },
     "output_type": "display_data"
    }
   ],
   "source": [
    "showKthImage(Xdigitstrain, ydigitstrain, 7)"
   ]
  },
  {
   "cell_type": "code",
   "execution_count": 67,
   "metadata": {},
   "outputs": [
    {
     "name": "stdout",
     "output_type": "stream",
     "text": [
      "computing intensity feature\n",
      "Input shape 7291, 256\n",
      "Output shape (7291, 1)\n",
      "computing symmetry feature\n",
      "Input shape 7291, 256\n",
      "Output shape (7291, 1)\n"
     ]
    }
   ],
   "source": [
    "intensity = computeIntensity(Xdigitstrain)\n",
    "\n",
    "symmetry = computeSymmetry(Xdigitstrain)\n",
    "\n",
    "dummy = np.ones((N, 1))\n",
    "\n",
    "Xaug = np.concatenate((dummy, intensity, symmetry), axis=1)"
   ]
  },
  {
   "cell_type": "code",
   "execution_count": null,
   "metadata": {},
   "outputs": [],
   "source": []
  },
  {
   "cell_type": "code",
   "execution_count": 174,
   "metadata": {},
   "outputs": [],
   "source": [
    "def computeIntensity(X):\n",
    "\n",
    "    '''\n",
    "\n",
    "    Input:\n",
    "\n",
    "        X: a 2 dimensional N x 256 numpy array\n",
    "\n",
    "           each row contains the values of 256 pixels from a 16 x 16 grayscale image of a handwritten digit\n",
    "\n",
    "           each pixel has an intensity value between -1 and 1\n",
    "\n",
    "    Output:\n",
    "\n",
    "        intensities: a 2 dimensional N x 1 numpy array\n",
    "\n",
    "                     each row consists of a single value representing the \n",
    "\n",
    "                     average pixel intesity of the corresponding image\n",
    "\n",
    "                     See LFD Example 3.1\n",
    "\n",
    "    '''\n",
    "\n",
    "    print('computing intensity feature')\n",
    "\n",
    "    N, d = X.shape\n",
    "\n",
    "    print(f'Input shape {N}, {d}')\n",
    "\n",
    "    '''\n",
    "\n",
    "    TODO: Compute the intensity feature for N data points\n",
    "\n",
    "    '''\n",
    "    intensities = np.mean(X,axis=1).reshape(-1,1)\n",
    "\n",
    "    print(f'Output shape {intensities.shape}')\n",
    "\n",
    "    return intensities\n",
    "\n",
    "\n",
    "\n",
    "\n",
    "\n",
    "def computeSymmetry(X):\n",
    "\n",
    "    '''\n",
    "\n",
    "    Input:\n",
    "\n",
    "        X: a 2 dimensional N x 256 numpy array\n",
    "\n",
    "           each row contains the values of 256 pixels from a 16 x 16 grayscale image of a handwritten digit\n",
    "\n",
    "           each pixel has an intensity value between -1 and 1\n",
    "\n",
    "    Output:\n",
    "\n",
    "        symmetries: a 2 dimensional N x 1 numpy array\n",
    "\n",
    "                     each row consists of a single value representing the \n",
    "\n",
    "                     \"horizontal\" symmetry of the 16 x 16 image about the vertical axis\n",
    "\n",
    "                     See LFD Example 3.1\n",
    "\n",
    "    '''\n",
    "\n",
    "    print('computing symmetry feature')\n",
    "\n",
    "    N, d = X.shape\n",
    "\n",
    "    print(f'Input shape {N}, {d}')\n",
    "\n",
    "    Ximgs = [X[n, :].reshape((16, 16)) for n in range(N)]\n",
    "\n",
    "    Ximgs_flipped = [np.flip(Ximgs[n], axis=1) for n in range(N)]\n",
    "\n",
    "    '''\n",
    "\n",
    "    TODO: Compute the symmetry feature for N data points\n",
    "\n",
    "    '''\n",
    "    symmetries = np.array([-np.mean(abs(Ximgs[n] - Ximgs_flipped[n])) for n in range(N)])\n",
    "    print('-->',symmetries.shape)\n",
    "    symmetries = symmetries.reshape(N, 1)\n",
    "\n",
    "    print(f'Output shape {symmetries.shape}')\n",
    "\n",
    "    return symmetries\n",
    "\n",
    "\n",
    "\n",
    "\n",
    "\n",
    "def computeAugmentedXWithFeatures(X):\n",
    "\n",
    "    '''\n",
    "\n",
    "    Input:\n",
    "\n",
    "        X: a 2 dimensional N x 256 numpy array\n",
    "\n",
    "           each row contains the values of 256 pixels from a 16 x 16 grayscale image of a handwritten digit\n",
    "\n",
    "           each pixel has an intensity value between -1 and 1\n",
    "\n",
    "    Output:\n",
    "\n",
    "        Xaug: a 2 dimensional N x 3 numpy array\n",
    "\n",
    "              the augmented feature matrix\n",
    "\n",
    "              the i-th row corresponds to the i-th row of X (and image represented by it)\n",
    "\n",
    "              the 0-th column is the column of 1s\n",
    "\n",
    "              the 1-st column is the column of average intensities\n",
    "\n",
    "              the 2-nd column is the column of horizontal symmetries\n",
    "\n",
    "    '''\n",
    "\n",
    "    N, d = X.shape\n",
    "\n",
    "    intensity = computeIntensity(X)\n",
    "\n",
    "    symmetry = computeSymmetry(X)\n",
    "\n",
    "    dummy = np.ones((N, 1))\n",
    "\n",
    "    Xaug = np.concatenate((dummy, intensity, symmetry), axis=1)\n",
    "\n",
    "    # print(Xaug)\n",
    "\n",
    "    print (f'Shape of augmented feature matrix: {Xaug.shape}')\n",
    "\n",
    "    return Xaug"
   ]
  },
  {
   "cell_type": "code",
   "execution_count": 175,
   "metadata": {},
   "outputs": [
    {
     "data": {
      "text/plain": [
       "(10, 1)"
      ]
     },
     "execution_count": 175,
     "metadata": {},
     "output_type": "execute_result"
    }
   ],
   "source": [
    "np.ones((10, 1)).shape"
   ]
  },
  {
   "cell_type": "code",
   "execution_count": 176,
   "metadata": {},
   "outputs": [
    {
     "name": "stdout",
     "output_type": "stream",
     "text": [
      "Computing augmented training feature matrix\n",
      "computing intensity feature\n",
      "Input shape 7291, 256\n",
      "Output shape (7291, 1)\n",
      "computing symmetry feature\n",
      "Input shape 7291, 256\n",
      "--> (7291,)\n",
      "Output shape (7291, 1)\n",
      "Shape of augmented feature matrix: (7291, 3)\n",
      "Computing augmented test feature matrix\n",
      "computing intensity feature\n",
      "Input shape 2007, 256\n",
      "Output shape (2007, 1)\n",
      "computing symmetry feature\n",
      "Input shape 2007, 256\n",
      "--> (2007,)\n",
      "Output shape (2007, 1)\n",
      "Shape of augmented feature matrix: (2007, 3)\n"
     ]
    }
   ],
   "source": [
    "'''\n",
    "\n",
    "Compute the augmented matrix with features\n",
    "\n",
    "'''\n",
    "\n",
    "\n",
    "\n",
    "print('Computing augmented training feature matrix')\n",
    "\n",
    "\n",
    "\n",
    "Xaugtrain = computeAugmentedXWithFeatures(Xdigitstrain)\n",
    "\n",
    "\n",
    "\n",
    "Naugtrain, d = Xaugtrain.shape\n",
    "\n",
    "\n",
    "\n",
    "print('Computing augmented test feature matrix')\n",
    "\n",
    "\n",
    "\n",
    "Xaugtest = computeAugmentedXWithFeatures(Xdigitstest)\n",
    "\n",
    "\n",
    "\n",
    "Naugtest, d = Xaugtest.shape"
   ]
  },
  {
   "cell_type": "code",
   "execution_count": 177,
   "metadata": {},
   "outputs": [],
   "source": [
    "'''\n",
    "\n",
    "Create the dataset wih digits 1 and 5\n",
    "\n",
    "'''\n",
    "\n",
    "\n",
    "\n",
    "def indexDigits(y):\n",
    "\n",
    "    '''\n",
    "\n",
    "    Input:\n",
    "\n",
    "        y: N x 1 2 dimensional numpy array; labels for handwritten digits\n",
    "\n",
    "    Output:\n",
    "\n",
    "        digit_idxs: a dictionary; the keys are digits 0 -- 9\n",
    "\n",
    "                    for a digit k, digit_idxs[k] is a list identifying the rows labeled with digit k\n",
    "\n",
    "    '''\n",
    "\n",
    "    N = y.shape[0]\n",
    "\n",
    "    digit_idxs = {}\n",
    "\n",
    "    for n in range(N):\n",
    "\n",
    "        digit = ydigitstrain[n, 0]\n",
    "\n",
    "        if not digit in digit_idxs:\n",
    "\n",
    "            digit_idxs[digit] = []\n",
    "\n",
    "        digit_idxs[digit].append(n)\n",
    "\n",
    "    return digit_idxs"
   ]
  },
  {
   "cell_type": "code",
   "execution_count": 178,
   "metadata": {},
   "outputs": [
    {
     "name": "stdout",
     "output_type": "stream",
     "text": [
      "number of 1s: 1005\n",
      "number of 5s: 556\n",
      "number of 1s and 5s: 1561\n",
      "Xtrain shape: (1561, 3), ytrain shape: (1561, 1)\n",
      "number of 1s and 5s: 428\n",
      "Xtest shape: (428, 3), ytest shape: (428, 1)\n"
     ]
    }
   ],
   "source": [
    "'''\n",
    "\n",
    "Construct the training and test sets for the rest of the exercises on classifying 1s vs 5s\n",
    "\n",
    "'''\n",
    "\n",
    "digit_idxs_train = indexDigits(Xaugtrain)\n",
    "\n",
    "X1train = Xaugtrain[digit_idxs_train[1], :]\n",
    "\n",
    "N1train = X1train.shape[0]\n",
    "\n",
    "print(f'number of 1s: {N1train}')\n",
    "\n",
    "X5train = Xaugtrain[digit_idxs_train[5], :]\n",
    "\n",
    "N5train = X5train.shape[0]\n",
    "\n",
    "print(f'number of 5s: {N5train}')\n",
    "\n",
    "Xtrain = Xaugtrain[digit_idxs_train[1]+digit_idxs_train[5], :]\n",
    "\n",
    "ytrain = np.concatenate((np.ones((N1train, 1)), -1*np.ones((N5train, 1))), axis=0)\n",
    "\n",
    "Ntrain, d = Xtrain.shape\n",
    "\n",
    "print(f'number of 1s and 5s: {Ntrain}')\n",
    "\n",
    "print(f'Xtrain shape: {Xtrain.shape}, ytrain shape: {ytrain.shape}')\n",
    "\n",
    "\n",
    "\n",
    "\n",
    "\n",
    "digit_idxs_test = indexDigits(Xaugtest)\n",
    "\n",
    "Xtest = Xaugtest[digit_idxs_test[1]+digit_idxs_test[5], :]\n",
    "\n",
    "ytest = np.concatenate((np.ones((len(digit_idxs_test[1]), 1)), -1*np.ones((len(digit_idxs_test[5]), 1))), axis=0)\n",
    "\n",
    "Ntest, d = Xtest.shape\n",
    "\n",
    "print(f'number of 1s and 5s: {Ntest}')\n",
    "\n",
    "print(f'Xtest shape: {Xtest.shape}, ytest shape: {ytest.shape}')"
   ]
  },
  {
   "cell_type": "code",
   "execution_count": null,
   "metadata": {},
   "outputs": [],
   "source": []
  },
  {
   "cell_type": "code",
   "execution_count": 179,
   "metadata": {},
   "outputs": [
    {
     "data": {
      "text/plain": [
       "<matplotlib.legend.Legend at 0x1e774f4eb50>"
      ]
     },
     "execution_count": 179,
     "metadata": {},
     "output_type": "execute_result"
    },
    {
     "data": {
      "image/png": "[encoded data removed]",
      "text/plain": [
       "<Figure size 360x360 with 1 Axes>"
      ]
     },
     "metadata": {
      "needs_background": "light"
     },
     "output_type": "display_data"
    }
   ],
   "source": [
    "'''\n",
    "\n",
    "Plot the training data\n",
    "\n",
    "'''\n",
    "\n",
    "fig, axs = plt.subplots(figsize=(5,5))\n",
    "\n",
    "axs.scatter(X1train[:, 1], X1train[:, 2], marker='o', color='blue', label='1')\n",
    "\n",
    "axs.scatter(X5train[:, 1], X5train[:, 2], marker='x', color='red', label = '5')\n",
    "\n",
    "axs.set_xlabel('intensity')\n",
    "\n",
    "axs.set_ylabel('symmetry')\n",
    "\n",
    "# axs.set_xlim(-1, 0.2)\n",
    "\n",
    "# axs.set_ylim(1, 2)\n",
    "\n",
    "axs.set_title('1s and 5s')\n",
    "\n",
    "axs.legend()"
   ]
  },
  {
   "cell_type": "code",
   "execution_count": 204,
   "metadata": {},
   "outputs": [],
   "source": [
    "'''\n",
    "\n",
    "Functions to compute the misclassification error\n",
    "\n",
    "'''\n",
    "def error(w, x, y, R=None):\n",
    "\n",
    "    '''\n",
    "\n",
    "    point-wise error measure for classification\n",
    "\n",
    "    Input:\n",
    "\n",
    "        w: a d x 1 2 dimensional numpy array\n",
    "\n",
    "        x: a d x 1 2 dimensional numpy array\n",
    "\n",
    "        y: a scalar value\n",
    "\n",
    "        R: Risk weights; a dictionary \n",
    "\n",
    "           whose keys are tuples (y, yhat) with \n",
    "\n",
    "           value equal to the cost of predicting yhat when the label is y\n",
    "\n",
    "    Output:\n",
    "\n",
    "        error: misclassification error of hypothesis w on data point x with true label y\n",
    "\n",
    "    '''\n",
    "\n",
    "    '''\n",
    "\n",
    "    TODO: compute the error made by hypothesis with weights w on data point x with label y\n",
    "\n",
    "    '''\n",
    "\n",
    "    return error\n",
    "\n",
    "\n",
    "\n",
    "\n",
    "\n",
    "def E(w, X, y, R=None):\n",
    "\n",
    "    '''\n",
    "\n",
    "    point-wise error measure for classification\n",
    "\n",
    "    Input:\n",
    "\n",
    "        w: a d x 1 2 dimensional numpy array\n",
    "\n",
    "        X: an N x d 2 dimensional numpy array\n",
    "\n",
    "        y: an N x 1 2 dimensional numpy array\n",
    "\n",
    "        R: Risk weights; a dictionary \n",
    "\n",
    "           whose keys are tuples (y, yhat) with \n",
    "\n",
    "           value equal to the cost of predicting yhat when the label is y\n",
    "\n",
    "    Output:\n",
    "\n",
    "        error: an N x 1 2 dimensional numpy array\n",
    "\n",
    "               misclassification errors of hypothesis w on data points in X with true labels y\n",
    "\n",
    "    '''\n",
    "\n",
    "    # print(f'w shape {w.shape}, X shape {X.shape}, y shape {y.shape}')\n",
    "\n",
    "    N = X.shape[0]\n",
    "\n",
    "    '''\n",
    "\n",
    "    TODO: compute the errors made by hypothesis with weights w on data points in X with true labels y\n",
    "\n",
    "    '''\n",
    "    pred = np.matmul(X, w)\n",
    "    error = 1 / len(X) * np.sum(np.array(pred - y) ** 2)\n",
    "#     error = np.array(pred - y)\n",
    "#     print('error:->',error.shape)\n",
    "\n",
    "    return error"
   ]
  },
  {
   "cell_type": "code",
   "execution_count": 208,
   "metadata": {},
   "outputs": [],
   "source": [
    "def plotLinearSeparator(w, X, y, title=''):\n",
    "\n",
    "    '''\n",
    "\n",
    "    Plot data points a linear separator\n",
    "\n",
    "    Input:\n",
    "\n",
    "        w: a d x 1 2 dimensional numpy array\n",
    "\n",
    "        X: an N x d 2 dimensional numpy array\n",
    "\n",
    "        y: an N x 1 2 dimensional numpy array\n",
    "\n",
    "        title: a string\n",
    "\n",
    "    Output:\n",
    "\n",
    "        error: misclassification error of hypothesis w on data points in X with true labels y\n",
    "\n",
    "    '''\n",
    "\n",
    "    '''\n",
    "\n",
    "    Plot data points in X, y\n",
    "\n",
    "    '''    \n",
    "\n",
    "    plus1s = np.where(y == 1)[0]\n",
    "\n",
    "    minus1s = np.where(y == -1)[0]\n",
    "\n",
    "    Xplus1s = X[plus1s, :]\n",
    "\n",
    "    Xminus1s = X[minus1s, :]\n",
    "\n",
    "    fig, axs = plt.subplots(figsize=(5,5))\n",
    "\n",
    "    axs.scatter(Xplus1s[:, 1], Xplus1s[:, 2], marker='o', color='blue', label='1')\n",
    "\n",
    "    axs.scatter(Xminus1s[:, 1], Xminus1s[:, 2], marker='x', color='red', label = '5')\n",
    "\n",
    "    axs.set_xlabel('intensity')\n",
    "\n",
    "    axs.set_ylabel('symmetry')\n",
    "\n",
    "#     axs.set_xlim(-1, 0.2)\n",
    "\n",
    "#     axs.set_ylim(1, 2)\n",
    "\n",
    "    '''\n",
    "\n",
    "    Plot separator\n",
    "\n",
    "    '''\n",
    "\n",
    "    pltxs = np.linspace(-1, 0.21)\n",
    "\n",
    "    pltys = - (w[0] + w[1] * pltxs) / w[2]\n",
    "\n",
    "    axs.plot(pltxs, pltys, color='green', label='separator')\n",
    "\n",
    "    axs.set_title(title)\n",
    "\n",
    "    axs.legend()\n",
    "\n",
    "    plt.show()"
   ]
  },
  {
   "cell_type": "code",
   "execution_count": 209,
   "metadata": {},
   "outputs": [],
   "source": [
    "'''\n",
    "\n",
    "The Pocket algorithm (variant of the Perceptron Learning Algorithm)\n",
    "\n",
    "'''    \n",
    "\n",
    "def pocket(X, y, max_iters=1000, w_init=None):\n",
    "\n",
    "    '''\n",
    "\n",
    "    Implements the Pocket algorithm\n",
    "\n",
    "    Input:\n",
    "\n",
    "        X: A 2 dimensional N x d numpy array\n",
    "\n",
    "           The i-th row X[i, :] contains features for the i-th example in the training set\n",
    "\n",
    "           X[i, 0] = 1\n",
    "\n",
    "           X[i, 1], ... X[i, d] have values of features\n",
    "\n",
    "        y: A 2 dimensional N x d numpy array\n",
    "\n",
    "           y[i, 0] is the label associated with the i-th example\n",
    "\n",
    "        max_iters: an integer; maximum number of iterations of PLA\n",
    "\n",
    "        w_init: A 2 dimensional d x 1 numpy array\n",
    "\n",
    "                intended to set initial weights for PLA\n",
    "\n",
    "    Output:\n",
    "\n",
    "        w_best: a d x 1 2 dimensional numpy array\n",
    "\n",
    "                weights with lowest error on the input training set X, y\n",
    "\n",
    "    '''\n",
    "\n",
    "    Eins = []\n",
    "\n",
    "    ws = []\n",
    "\n",
    "\n",
    "\n",
    "    Ein_best = np.infty\n",
    "\n",
    "    w_best = 0\n",
    "\n",
    "\n",
    "\n",
    "    w = np.zeros((d, 1))\n",
    "\n",
    "    w = w + 0.0000001\n",
    "\n",
    "    if not isinstance(w_init, type(None)):\n",
    "\n",
    "        w = w_init\n",
    "\n",
    "\n",
    "\n",
    "    for i in range(max_iters):\n",
    "\n",
    "        Ein = E(w, X, y)\n",
    "\n",
    "        Eins.append(Ein)\n",
    "\n",
    "        ws.append(w)\n",
    "\n",
    "        if Ein < Ein_best:\n",
    "\n",
    "            Ein_best = Ein\n",
    "\n",
    "            w_best = w\n",
    "\n",
    "        '''\n",
    "\n",
    "        TODO: Complete this implementation of the Pocket algorithm\n",
    "\n",
    "        '''\n",
    "        w = w + 0.0000001\n",
    "\n",
    "\n",
    "\n",
    "    plt.scatter(range(max_iters), Eins)\n",
    "\n",
    "    plt.xlabel('iteration')\n",
    "\n",
    "    plt.ylabel('in sample error')\n",
    "\n",
    "    plt.title('PLA')\n",
    "\n",
    "    plt.tight_layout()\n",
    "\n",
    "    plt.show()\n",
    "\n",
    "    \n",
    "\n",
    "    print(f'Ein_best {Ein_best}, \\nw_best \\n{w_best}')\n",
    "\n",
    "    \n",
    "    return w_best"
   ]
  },
  {
   "cell_type": "code",
   "execution_count": 210,
   "metadata": {},
   "outputs": [
    {
     "data": {
      "image/png": "[encoded data removed]",
      "text/plain": [
       "<Figure size 432x288 with 1 Axes>"
      ]
     },
     "metadata": {
      "needs_background": "light"
     },
     "output_type": "display_data"
    },
    {
     "name": "stdout",
     "output_type": "stream",
     "text": [
      "Ein_best 0.999787298672369, \n",
      "w_best \n",
      "[[0.001]\n",
      " [0.001]\n",
      " [0.001]]\n"
     ]
    },
    {
     "data": {
      "image/png": "[encoded data removed]",
      "text/plain": [
       "<Figure size 360x360 with 1 Axes>"
      ]
     },
     "metadata": {
      "needs_background": "light"
     },
     "output_type": "display_data"
    }
   ],
   "source": [
    "'''\n",
    "\n",
    "Run the Pocket algorithm\n",
    "\n",
    "'''\n",
    "\n",
    "max_iters = 10000\n",
    "\n",
    "w = pocket(Xtrain, ytrain, max_iters=max_iters)\n",
    "\n",
    "Ein = np.round(E(w, Xtrain, ytrain),5)\n",
    "\n",
    "plotLinearSeparator(w, Xtrain, ytrain, title=f'Pocket (Perceptron) algorithm with {max_iters} iterations; \\nEin={Ein}')\n",
    "\n"
   ]
  },
  {
   "cell_type": "code",
   "execution_count": null,
   "metadata": {},
   "outputs": [],
   "source": []
  },
  {
   "cell_type": "code",
   "execution_count": null,
   "metadata": {},
   "outputs": [],
   "source": []
  },
  {
   "cell_type": "code",
   "execution_count": null,
   "metadata": {},
   "outputs": [],
   "source": []
  },
  {
   "cell_type": "code",
   "execution_count": null,
   "metadata": {},
   "outputs": [],
   "source": [
    "def linearRegression(X, y):\n",
    "\n",
    "    '''\n",
    "\n",
    "    Implements the one-step algorithm for Linear Regression (See LFD Section 3.2.1)\n",
    "\n",
    "    Input:\n",
    "\n",
    "        X: A 2 dimensional N x d numpy array\n",
    "\n",
    "           The i-th row X[i, :] contains features for the i-th example in the training set\n",
    "\n",
    "           X[i, 0] = 1\n",
    "\n",
    "           X[i, 1], ... X[i, d] have values of features\n",
    "\n",
    "        y: A 2 dimensional N x d numpy array\n",
    "\n",
    "           y[i, 0] is the label associated with the i-th example\n",
    "\n",
    "    Output:\n",
    "\n",
    "        w: a d x 1 2 dimensional numpy array\n",
    "\n",
    "           weights with lowest error on the input training set X, y\n",
    "\n",
    "    '''\n",
    "\n",
    "    '''\n",
    "\n",
    "    TODO: Implement the one-step optimal algorithm for linear regression\n",
    "\n",
    "    '''\n",
    "\n",
    "    print(f'Ein {Ein}, \\nw_lin \\n{w_lin}')\n",
    "\n",
    "    return w_lin\n",
    "\n"
   ]
  },
  {
   "cell_type": "code",
   "execution_count": null,
   "metadata": {},
   "outputs": [],
   "source": []
  },
  {
   "cell_type": "code",
   "execution_count": null,
   "metadata": {},
   "outputs": [],
   "source": []
  },
  {
   "cell_type": "code",
   "execution_count": 1,
   "metadata": {},
   "outputs": [
    {
     "data": {
      "image/png": "[encoded data removed]",
      "text/plain": [
       "<Figure size 432x288 with 1 Axes>"
      ]
     },
     "metadata": {
      "needs_background": "light"
     },
     "output_type": "display_data"
    },
    {
     "data": {
      "image/png": "[encoded data removed]",
      "text/plain": [
       "<Figure size 432x288 with 1 Axes>"
      ]
     },
     "metadata": {
      "needs_background": "light"
     },
     "output_type": "display_data"
    },
    {
     "name": "stdout",
     "output_type": "stream",
     "text": [
      "E_in of train data:  0.6021780909673285\n",
      "E_test of test data:  0.660377358490566\n",
      "Bounds of E_out: [0.660377358490566,0.619839774657368]\n"
     ]
    },
    {
     "data": {
      "image/png": "[encoded data removed]",
      "text/plain": [
       "<Figure size 432x288 with 1 Axes>"
      ]
     },
     "metadata": {
      "needs_background": "light"
     },
     "output_type": "display_data"
    },
    {
     "data": {
      "image/png": "[encoded data removed]",
      "text/plain": [
       "<Figure size 432x288 with 1 Axes>"
      ]
     },
     "metadata": {
      "needs_background": "light"
     },
     "output_type": "display_data"
    },
    {
     "name": "stdout",
     "output_type": "stream",
     "text": [
      "E_in of 3rd-order polynomial train data:  0.020499679692504803\n",
      "E_test of 3rd-order polynomial test data:  5.951523286654417\n",
      "Bounds of 3rd-order polynomial E_out: [5.951523286654417,0.07635082746647673]\n"
     ]
    },
    {
     "data": {
      "text/plain": [
       "'(e) Which model would you deliver to the USPS, the linear model with the 3-rd order polynomial\\ntransform or the one without? Explain?\\n\\nAnswer: We definitely want to use the 3rd order polynomial transform for the USPS because\\nthe 3rd order polynomial transform separates 1s and 5s better comparing to the linear model.\\nIn other words, we can visualize the overlapping points better.\\n'"
      ]
     },
     "execution_count": 1,
     "metadata": {},
     "output_type": "execute_result"
    }
   ],
   "source": [
    "import numpy as np\n",
    "import matplotlib.pyplot as plt\n",
    "\n",
    "\n",
    "\"\"\" We will use (i) Linear regression for classification followed\n",
    "by pocket algorithm.\n",
    "\n",
    "Prompt: Use your classification algorithm of choice to find the best\n",
    "separator using the training data only. For each example, use the two\n",
    "features you computed in HW2 to as the inputs; and the output is +1\n",
    "if the handwritten digit is 1 and -1 if the handwritten digit is 5.\n",
    "Once you have found a separator using your classification algorithm:\n",
    "\"\"\"\n",
    "def load_data(file_path):\n",
    "    trainingCSV = open(file_path, \"r\")\n",
    "    trainingCSVLines = trainingCSV.readlines()\n",
    "\n",
    "    onesAndFives = []\n",
    "    for line in trainingCSVLines:\n",
    "        if (int(line[0]) == 1 or int(line[0]) == 5):\n",
    "            onesAndFives.append([float(value.strip()) for value in line.split(\",\")[:-1]])\n",
    "\n",
    "    # print(onesAndFives)\n",
    "    label1 = onesAndFives[0][0]\n",
    "    img1 = onesAndFives[0][1:]\n",
    "    img1 = np.array(img1).reshape(16, 16)\n",
    "\n",
    "    label2 = onesAndFives[1][0]\n",
    "    img2 = onesAndFives[1][1:]\n",
    "    img2 = np.array(img2).reshape(16, 16)\n",
    "\n",
    "    point_matrix = []\n",
    "\n",
    "    for value in onesAndFives:\n",
    "        data = np.array(np.zeros(3))\n",
    "        data[0] = value[0]\n",
    "        data[1] = np.mean(value[1:257])\n",
    "        data[2] = np.mean(np.array(value[1:257] * np.array(value[1:257])))\n",
    "        point_matrix.append(data)\n",
    "    return np.array(point_matrix)\n",
    "\n",
    "trainingCSV = load_data(\"ZipDigits.train.csv\")\n",
    "testingCSV = load_data(\"ZipDigits.test.csv\")\n",
    "#print(trainingCSV)\n",
    "\n",
    "# Convert labels to -1 and 1\n",
    "trainingCSV[:, 0] = [1 if x == 1 else -1 for x in trainingCSV[:, 0]]\n",
    "testingCSV[:, 0] = [1 if x == 1 else -1 for x in testingCSV[:, 0]]\n",
    "\n",
    "\n",
    "# We will use same functions that were implemented in HW2:\n",
    "def PLA(x_array, yValues, weights=None, maxIterations = 10):\n",
    "    # initialize all weights to 0, weights is a matrix of dimension 3\n",
    "    if weights is None:\n",
    "        weights = np.zeros(x_array.shape[1])\n",
    "    # Run until the weights no longer updated (converge)\n",
    "    for _ in range(maxIterations):\n",
    "        errors = 0\n",
    "        for index in range(x_array.shape[0]):\n",
    "            outputFromWeights = np.dot(weights.T, x_array[index])\n",
    "            predictedYValue = 1 if outputFromWeights >= 0 else -1\n",
    "            if (predictedYValue != yValues[index]):\n",
    "                errors += 1\n",
    "                weights += yValues[index] * x_array[index]\n",
    "        if (errors == 0):\n",
    "            break\n",
    "    return weights / weights[-1]\n",
    "\n",
    "\n",
    "def linearRegression(xValues, yValues):\n",
    "    xPseudoInverse = np.matmul(np.linalg.pinv(np.matmul(xValues.T, xValues)), xValues.T)\n",
    "    weights = np.matmul(xPseudoInverse, yValues)\n",
    "    return weights\n",
    "\n",
    "\n",
    "def mean_square_error(predictions, true_values):  # E_in and E_out\n",
    "    return 1 / len(predictions) * np.sum((predictions - true_values) ** 2)\n",
    "\n",
    "\n",
    "#############################################################################################################################\n",
    "\n",
    "# Pocket Algorithm\n",
    "w_avg = linearRegression(trainingCSV[:, 1:], trainingCSV[:, 0])  # Initialize w_avg after running linear regression\n",
    "w_t = np.copy(w_avg)  # set for w_0\n",
    "for t in range(1):  # max iteration-random large number #trainingCSV.shape[0]\n",
    "\n",
    "    # run PLA for each w(t+1) update\n",
    "    w_t1 = PLA(trainingCSV[:, 1:], trainingCSV[:, 0], w_t)\n",
    "\n",
    "    # Get E_in for each w(t+1) vs w_avg\n",
    "    w_t1_predict = np.matmul(trainingCSV[:, 1:], w_t1)\n",
    "    w_t1_err = mean_square_error(w_t1_predict, trainingCSV[:, 0])  # mean square error between predictions and true values\n",
    "\n",
    "    w_avg_predict = np.matmul(trainingCSV[:, 1:], w_avg)\n",
    "    w_avg_err = mean_square_error(w_avg_predict, trainingCSV[:, 0])\n",
    "\n",
    "    # If E_in of w(t+1) lower than that of w_avg, replace w_avg\n",
    "    if w_t1_err < w_avg_err:\n",
    "        w_avg = np.copy(w_t1)\n",
    "    w_t = w_t1\n",
    "\n",
    "\"\"\"(a) Give separate plot of the training data (ZipDigits.train) and test data\n",
    "(ZipDigits.test) which display the data points using two features you computed in\n",
    "HW2, together with the separator\n",
    "\"\"\"\n",
    "train_predict = np.matmul(trainingCSV[:, 1:], w_avg)\n",
    "train_predict = [1 if v > 0 else -1 for v in train_predict]\n",
    "test_predict = np.matmul(testingCSV[:, 1:], w_avg)\n",
    "test_predict = [1 if v > 0 else -1 for v in test_predict]\n",
    "# Train_set plot\n",
    "for i in range(len(trainingCSV)):\n",
    "    items = trainingCSV[i]\n",
    "    if (train_predict[i] > 0):\n",
    "        plt.scatter(items[2], items[1], color='red', marker=\"x\", label='+1')\n",
    "    else:\n",
    "        plt.scatter(items[2], items[1], color='blue', marker=\"o\", label='-1')\n",
    "handles, labels = plt.gca().get_legend_handles_labels()\n",
    "by_label = dict(zip(labels, handles))\n",
    "plt.legend(by_label.values(), by_label.keys())\n",
    "pltxs = np.linspace(0.6, 1.0, len(train_predict))\n",
    "pltys = - ( w_avg[1] * pltxs) / w_avg[0]\n",
    "plt.plot(pltxs, pltys, '-', color='green', label='separator')\n",
    "plt.xlabel(\"Squared Mean\")\n",
    "plt.ylabel(\"Mean\")\n",
    "plt.show()\n",
    "\n",
    "\n",
    "# Test_set plot\n",
    "for i in range(len(testingCSV)):\n",
    "    items = testingCSV[i]\n",
    "    if (test_predict[i] > 0):\n",
    "        plt.scatter(items[2], items[1], color='red', marker=\"x\", label='+1')\n",
    "    else:\n",
    "        plt.scatter(items[2], items[1], color='blue', marker=\"o\", label='-1')\n",
    "handles, labels = plt.gca().get_legend_handles_labels()\n",
    "by_label = dict(zip(labels, handles))\n",
    "plt.legend(by_label.values(), by_label.keys())\n",
    "pltxs = np.linspace(0.6, 1.0, len(test_predict))\n",
    "pltys = - ( w_avg[1] * pltxs) / w_avg[0]\n",
    "plt.plot(pltxs, pltys, '-', color='green', label='separator')\n",
    "plt.xlabel(\"Squared Mean\")\n",
    "plt.ylabel(\"Mean\")\n",
    "plt.show()\n",
    "\n",
    "\n",
    "\n",
    "\"\"\" (b) Compute E_in on your training data (ZipDigits.train) and E_test, the error\n",
    "of your separator on the test data (ZipDigits.test).\n",
    "\"\"\"\n",
    "E_in = mean_square_error(train_predict, trainingCSV[:, 0])  # in-sample error (train-set error)\n",
    "E_test = mean_square_error(test_predict, testingCSV[:, 0])\n",
    "\n",
    "print(\"E_in of train data: \", E_in)\n",
    "print(\"E_test of test data: \", E_test)\n",
    "\n",
    "\"\"\"(c) Obtain a bound on the true out-of-sample error (E_out). You should get\n",
    "two bounds, one based on E_in and another based on E_test. Use a tolerance of\n",
    "theta = 0.05. Which is the better bound?\n",
    "\"\"\"\n",
    "E_out_lower = E_test\n",
    "theta = 0.05\n",
    "N = len(trainingCSV)\n",
    "M = len(testingCSV)\n",
    "error_bar = np.sqrt(0.05 / N * np.log(2 * M / theta))\n",
    "E_out_upper = E_in + error_bar\n",
    "print(\"Bounds of E_out: [{},{}]\".format(E_out_lower, E_out_upper))\n",
    "# the upper bound is better because we don't know the entire (infinite) data to interpolate, so we want to keep the bound higher\n",
    "\n",
    "\"\"\"(d) Repeat parts (a)-(c) using a 3-rd order polynomial transform\n",
    "\n",
    "Answer:     First we need to transform both train and test set\n",
    "            Original a, b\n",
    "            Each set has a 3-deg polynomial features of 1, a, b, a^2, b^2, a^3, b^3, a*b\n",
    "\"\"\"\n",
    "# a1 + a2*x + a3*y + a4*x^2 + a5*y^2 + a6*x^3 + a7*y^3 + a8*x*y\n",
    "transformed_train = np.zeros(\n",
    "    (trainingCSV.shape[0], 8))  # empty array to store new 3rd-deg trainset; each column is a new feature\n",
    "transformed_train[:, 0] = 1. #intercept a1\n",
    "transformed_train[:, 1] = trainingCSV[:, 1] #a2\n",
    "transformed_train[:, 2] = trainingCSV[:, 2] #a3\n",
    "transformed_train[:, 3] = trainingCSV[:, 1] ** 2\n",
    "transformed_train[:, 4] = trainingCSV[:, 2] ** 2\n",
    "transformed_train[:, 5] = trainingCSV[:, 1] ** 3\n",
    "transformed_train[:, 6] = trainingCSV[:, 2] ** 3\n",
    "transformed_train[:, 7] = trainingCSV[:, 1] * trainingCSV[:, 2] #a8\n",
    "\n",
    "transformed_test = np.zeros((testingCSV.shape[0], 8))\n",
    "transformed_test[:, 0] = 1.\n",
    "transformed_test[:, 1] = testingCSV[:, 1]\n",
    "transformed_test[:, 2] = testingCSV[:, 2]\n",
    "transformed_test[:, 3] = testingCSV[:, 1] ** 2\n",
    "transformed_test[:, 4] = testingCSV[:, 2] ** 2\n",
    "transformed_test[:, 5] = testingCSV[:, 1] ** 3\n",
    "transformed_test[:, 6] = testingCSV[:, 2] ** 3\n",
    "transformed_test[:, 7] = testingCSV[:, 1] * testingCSV[:, 2]\n",
    "\n",
    "# Run Pocket Algorithm for transformed train set: use transformed features, keep labels as the same\n",
    "w_avg = linearRegression(transformed_train[:, :], trainingCSV[:, 0])\n",
    "w_t = w_avg\n",
    "for t in range(1): #transformed_train.shape[0]\n",
    "    w_t1 = PLA(transformed_train[:, :], trainingCSV[:, 0], w_t)\n",
    "\n",
    "    w_t1_predict = np.matmul(transformed_train[:, :], w_t1)\n",
    "    w_t1_err = mean_square_error(w_t1_predict, trainingCSV[:, 0])\n",
    "\n",
    "    w_avg_predict = np.matmul(transformed_train[:, :], w_avg)\n",
    "    w_avg_err = mean_square_error(w_avg_predict, trainingCSV[:, 0])\n",
    "\n",
    "    if w_t1_err < w_avg_err:\n",
    "        w_avg = w_t1\n",
    "    w_t = w_t1\n",
    "\n",
    "\n",
    "# plot train and test set\n",
    "train_predict = np.matmul(transformed_train[:, :], w_avg)\n",
    "train_predict = [1 if v >0 else -1 for v in train_predict]\n",
    "test_predict = np.matmul(transformed_test[:, :], w_avg)\n",
    "\n",
    "# train plot\n",
    "for i in range(len(trainingCSV)):\n",
    "    items = trainingCSV[i]\n",
    "    if (train_predict[i] < 0):\n",
    "        plt.scatter(items[2], items[1], color='red', marker=\"x\", label='+1')\n",
    "    else:\n",
    "        plt.scatter(items[2], items[1], color='blue', marker=\"o\", label='-1')\n",
    "handles, labels = plt.gca().get_legend_handles_labels()\n",
    "by_label = dict(zip(labels, handles))\n",
    "plt.legend(by_label.values(), by_label.keys())\n",
    "plt.xlabel(\"Squared Mean\")\n",
    "plt.ylabel(\"Mean\")\n",
    "plt.show()\n",
    "\n",
    "\n",
    "# test plot\n",
    "for i in range(len(testingCSV)):\n",
    "    items = testingCSV[i]\n",
    "    if (test_predict[i] < 0):\n",
    "        plt.scatter(items[2], items[1], color='red', marker=\"x\", label='+1')\n",
    "    else:\n",
    "        plt.scatter(items[2], items[1], color='blue', marker=\"o\", label='-1')\n",
    "handles, labels = plt.gca().get_legend_handles_labels()\n",
    "by_label = dict(zip(labels, handles))\n",
    "plt.legend(by_label.values(), by_label.keys())\n",
    "plt.xlabel(\"Squared Mean\")\n",
    "plt.ylabel(\"Mean\")\n",
    "plt.show()\n",
    "\n",
    "# Report E_in and E_out\n",
    "E_in = mean_square_error(train_predict, trainingCSV[:, 0])\n",
    "E_test = mean_square_error(test_predict, testingCSV[:, 0])\n",
    "print(\"E_in of 3rd-order polynomial train data: \", E_in)\n",
    "print(\"E_test of 3rd-order polynomial test data: \", E_test)\n",
    "# Bounds for E_out\n",
    "E_out_lower = E_test\n",
    "theta = 0.05\n",
    "N = len(trainingCSV)\n",
    "M = len(testingCSV)\n",
    "error_bar = np.sqrt(0.5 / N * np.log(2 * M / theta))\n",
    "E_out_upper = E_in + error_bar\n",
    "print(\"Bounds of 3rd-order polynomial E_out: [{},{}]\".format(E_out_lower, E_out_upper))\n",
    "\n",
    "\"\"\"(e) Which model would you deliver to the USPS, the linear model with the 3-rd order polynomial\n",
    "transform or the one without? Explain?\n",
    "\n",
    "Answer: We definitely want to use the 3rd order polynomial transform for the USPS because\n",
    "the 3rd order polynomial transform separates 1s and 5s better comparing to the linear model.\n",
    "In other words, we can visualize the overlapping points better.\n",
    "\"\"\"\n"
   ]
  },
  {
   "cell_type": "code",
   "execution_count": null,
   "metadata": {},
   "outputs": [],
   "source": []
  }
 ],
 "metadata": {
  "kernelspec": {
   "display_name": "Python 3 (ipykernel)",
   "language": "python",
   "name": "python3"
  },
  "language_info": {
   "codemirror_mode": {
    "name": "ipython",
    "version": 3
   },
   "file_extension": ".py",
   "mimetype": "text/x-python",
   "name": "python",
   "nbconvert_exporter": "python",
   "pygments_lexer": "ipython3",
   "version": "3.8.5"
  }
 },
 "nbformat": 4,
 "nbformat_minor": 4
}
