{
 "cells": [
  {
   "cell_type": "code",
   "execution_count": 3,
   "id": "d96e5725",
   "metadata": {},
   "outputs": [],
   "source": [
    "import pandas as pd\n",
    "\n",
    "df = pd.read_csv(\"Book1 (3).csv\")\n",
    "\n",
    "df['imageID_13_char'] = df['imageID'].apply(lambda x: x[:13])\n",
    "\n",
    "df['total'] = df.apply(lambda x: x['include']+x['date']+x['State']+x['complete']+x['version'],axis=1)\n",
    "\n",
    "d = df.groupby(['total'])[['total','imageID_13_char']].indices\n",
    "\n",
    "dup_indx = []\n",
    "for indx in d.values():\n",
    "    if len(indx)>1 and len(indx) == len(df['imageID_13_char'].iloc[indx].unique()):\n",
    "        dup_indx = dup_indx + list(indx)\n",
    "    elif len(indx)==1:\n",
    "        dup_indx = dup_indx + list(indx)\n",
    "\n",
    "df = df[list(df)[:-1]].iloc[dup_indx]\n",
    "df.drop('imageID_13_char',axis=1,inplace=True)\n",
    "df.to_csv('dup_csv_1.csv',index=False)"
   ]
  },
  {
   "cell_type": "code",
   "execution_count": null,
   "id": "e150225a",
   "metadata": {},
   "outputs": [],
   "source": []
  }
 ],
 "metadata": {
  "kernelspec": {
   "display_name": "Python 3 (ipykernel)",
   "language": "python",
   "name": "python3"
  },
  "language_info": {
   "codemirror_mode": {
    "name": "ipython",
    "version": 3
   },
   "file_extension": ".py",
   "mimetype": "text/x-python",
   "name": "python",
   "nbconvert_exporter": "python",
   "pygments_lexer": "ipython3",
   "version": "3.9.12"
  }
 },
 "nbformat": 4,
 "nbformat_minor": 5
}
