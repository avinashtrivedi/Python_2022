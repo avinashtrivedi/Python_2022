{
 "cells": [
  {
   "cell_type": "code",
   "execution_count": null,
   "id": "63ee0fd4",
   "metadata": {},
   "outputs": [],
   "source": [
    "col = [f'Value{i}' for i in range(len(extracted_features_df['feature'][0]))]"
   ]
  },
  {
   "cell_type": "code",
   "execution_count": null,
   "id": "0082fa50",
   "metadata": {},
   "outputs": [],
   "source": [
    "df3 = extracted_features_df.feature.apply(pd.Series)\n",
    "df3.columns = col\n",
    "df3['genre'] = extracted_features_df['genre']"
   ]
  },
  {
   "cell_type": "code",
   "execution_count": null,
   "id": "84c582f1",
   "metadata": {},
   "outputs": [],
   "source": [
    "from pyspark.sql import SparkSession\n",
    "  \n",
    "spark = SparkSession.builder.appName(\"pandas to spark\").getOrCreate()"
   ]
  },
  {
   "cell_type": "code",
   "execution_count": null,
   "id": "62cb5093",
   "metadata": {},
   "outputs": [],
   "source": [
    "df_sp = spark.createDataFrame(df3)"
   ]
  },
  {
   "cell_type": "code",
   "execution_count": 2,
   "id": "6a7ae705",
   "metadata": {},
   "outputs": [],
   "source": [
    "import pandas as pd"
   ]
  },
  {
   "cell_type": "code",
   "execution_count": 3,
   "id": "0a6958cc",
   "metadata": {},
   "outputs": [],
   "source": [
    "df = pd.DataFrame([])"
   ]
  },
  {
   "cell_type": "code",
   "execution_count": 4,
   "id": "2b0ac3b0",
   "metadata": {},
   "outputs": [],
   "source": [
    "df['hh']  = list(range(205121001,205121112,2))"
   ]
  },
  {
   "cell_type": "code",
   "execution_count": 6,
   "id": "977ff638",
   "metadata": {},
   "outputs": [],
   "source": [
    "df.to_csv('marks.csv',index=False)"
   ]
  },
  {
   "cell_type": "code",
   "execution_count": 7,
   "id": "dbf4c6dc",
   "metadata": {},
   "outputs": [],
   "source": [
    "df = pd.read_csv(r\"D:\\OneDrive - NITT\\Custom_Download\\MCA-2nd Yr - Sheet1.csv\")"
   ]
  },
  {
   "cell_type": "code",
   "execution_count": 10,
   "id": "9b159042",
   "metadata": {},
   "outputs": [
    {
     "data": {
      "text/plain": [
       "7.991228070175438"
      ]
     },
     "execution_count": 10,
     "metadata": {},
     "output_type": "execute_result"
    }
   ],
   "source": [
    "df['CT2'].mean()"
   ]
  },
  {
   "cell_type": "code",
   "execution_count": 17,
   "id": "2809c78f",
   "metadata": {},
   "outputs": [],
   "source": [
    "import os\n",
    "import json"
   ]
  },
  {
   "cell_type": "code",
   "execution_count": 18,
   "id": "8f918873",
   "metadata": {},
   "outputs": [],
   "source": [
    "files = [file for file in os.listdir() if file.endswith('.ipynb')]"
   ]
  },
  {
   "cell_type": "code",
   "execution_count": 20,
   "id": "68623983",
   "metadata": {},
   "outputs": [],
   "source": [
    "with open('1.ipynb', 'r') as fp:\n",
    "    data = json.load(fp)"
   ]
  },
  {
   "cell_type": "code",
   "execution_count": 30,
   "id": "9bc513f6",
   "metadata": {},
   "outputs": [],
   "source": [
    "x = ' '.join(sum([i['source'] for i in data['cells']],[]))"
   ]
  },
  {
   "cell_type": "code",
   "execution_count": 31,
   "id": "4529951a",
   "metadata": {},
   "outputs": [
    {
     "data": {
      "text/plain": [
       "True"
      ]
     },
     "execution_count": 31,
     "metadata": {},
     "output_type": "execute_result"
    }
   ],
   "source": [
    "'boat_name' in x"
   ]
  },
  {
   "cell_type": "code",
   "execution_count": 48,
   "id": "0958ba86",
   "metadata": {},
   "outputs": [],
   "source": [
    "def scan_files(fname):\n",
    "    path = os.path.join(\"D:\\OneDrive - NITT\\Custom_Download\",fname)\n",
    "    with open(path, 'r') as fp:\n",
    "#         print(path)\n",
    "        data = json.load(fp)\n",
    "        \n",
    "    x = ' '.join(sum([i['source'] for i in data['cells']],[]))\n",
    "    \n",
    "    return 'groupby' in x"
   ]
  },
  {
   "cell_type": "code",
   "execution_count": 49,
   "id": "05cfa732",
   "metadata": {},
   "outputs": [],
   "source": [
    "from tqdm.notebook import tqdm"
   ]
  },
  {
   "cell_type": "code",
   "execution_count": 51,
   "id": "d3d38e4e",
   "metadata": {},
   "outputs": [
    {
     "data": {
      "application/vnd.jupyter.widget-view+json": {
       "model_id": "5ee9d4ed5d3f491cb9ae9a67ea5981a3",
       "version_major": 2,
       "version_minor": 0
      },
      "text/plain": [
       "  0%|          | 0/287 [00:00<?, ?it/s]"
      ]
     },
     "metadata": {},
     "output_type": "display_data"
    },
    {
     "name": "stdout",
     "output_type": "stream",
     "text": [
      "Error in file .~song_code.ipynb\n",
      "Error in file 200_Fake_News_v1.ipynb\n",
      "Error in file 2qstn.ipynb\n",
      "Error in file 9Qstn_pandas.ipynb\n",
      "Error in file A2.ipynb\n",
      "Error in file abc11.ipynb\n",
      "Error in file Adaptive_mov_average.ipynb\n",
      "Error in file animation.ipynb\n",
      "Error in file answer_dict.ipynb\n",
      "Error in file api_key_yaml.ipynb\n",
      "Error in file appointment.ipynb\n",
      "Error in file ass7.ipynb\n",
      "Error in file Assignment (1).ipynb\n",
      "Error in file Assignment (2).ipynb\n",
      "Error in file Assignment 2 - Car reviews .ipynb\n",
      "assignment1 (1)_v1.ipynb\n",
      "Assignment2-task1 (4).ipynb\n",
      "Assignment2-task1 (6).ipynb\n",
      "Assignment2-task1.ipynb\n",
      "Assignment2-task_v1.ipynb\n",
      "Error in file assignment_1_studentsU.ipynb\n",
      "Error in file association.ipynb\n",
      "Error in file atp.ipynb\n",
      "Error in file BDA 2022.ipynb\n",
      "Error in file BDA_2022.ipynb\n",
      "budget_oop_updated.ipynb\n",
      "Error in file calc.ipynb\n",
      "Error in file catering_order.ipynb\n",
      "Error in file Ccopy_of_Remote_I_O_Week11_INFO407.ipynb\n",
      "Error in file chen_chat.ipynb\n",
      "chen_chat_v3.ipynb\n",
      "Error in file chen_clusering-v1 (1).ipynb\n",
      "Error in file chg_16_jan.ipynb\n",
      "Error in file cipher_17-jan_2022.ipynb\n",
      "Error in file circle_data (1).ipynb\n",
      "Error in file circle_data (2).ipynb\n",
      "Error in file circle_data.ipynb\n",
      "Error in file classification_v1.ipynb\n",
      "Error in file Class_1_of_7 (1).ipynb\n",
      "Error in file Class_1_of_7.ipynb\n",
      "Error in file Class_1_of_7_v2.ipynb\n",
      "Error in file class_2__v1.ipynb\n",
      "Error in file Class_3_1_v3.ipynb\n",
      "Error in file clip_prefix_captioning_inference.ipynb\n",
      "code22.ipynb\n",
      "Error in file code_duplicate_imageid.ipynb\n",
      "Error in file code_duplicate_v3.ipynb\n",
      "Error in file code_duplicate_v4.ipynb\n",
      "Error in file code_namechk_v1.ipynb\n",
      "Error in file code_polics_death_v1.ipynb\n",
      "Error in file code_scrap.ipynb\n",
      "Error in file code_userid.ipynb\n",
      "Error in file Copy_of_500k_v2.ipynb\n",
      "Error in file Copy_of_Cliff_Note_Generator_3_Week10_INFO407.ipynb\n",
      "Error in file Copy_of_Cliff_Note_Generator_4_Week10_INFO407.ipynb\n",
      "Error in file Copy_of_Regular_Expressions_1_Week10_INFO407 (1).ipynb\n",
      "Error in file covid_tweets.ipynb\n",
      "Error in file Cristel Irwin.ipynb\n",
      "Error in file CRUD.ipynb\n",
      "Error in file cs50.harvard.ipynb\n",
      "Error in file CS6140_Assignment1_Summer2022-Copy1.ipynb\n",
      "Error in file cv2.ipynb\n",
      "Dash-Dashboard-Practice luis.ipynb\n",
      "Error in file DataCenter-Sensors.ipynb\n",
      "Error in file dataframe (1) (1).ipynb\n",
      "Error in file decisiontrees-from-scratch.ipynb\n",
      "Error in file df_html_v2.ipynb\n",
      "Error in file dict_csv.ipynb\n",
      "Error in file dict_v1.ipynb\n",
      "Error in file DL_MSDS458_Assignment_02_part01_v1 (1).ipynb\n",
      "Error in file Draaft.ipynb\n",
      "Error in file DSBA - Project_ET_EasyVisa_LowCode_v1.ipynb\n",
      "Error in file DSBA - Project_ET_EasyVisode.ipynb\n",
      "Error in file ecg_v1.ipynb\n",
      "Error in file EDA (1).ipynb\n",
      "edit - autoregressive_model.ipynb\n",
      "Error in file exercise.ipynb\n",
      "Error in file filer_lambda.ipynb\n",
      "Error in file Final Project.ipynb\n",
      "Final Project_v1.ipynb\n",
      "First analysis.ipynb\n",
      "Error in file First-Assignment (1) (1).ipynb\n",
      "Error in file food.ipynb\n",
      "Error in file for-loop.ipynb\n",
      "Error in file formative_exam_final.ipynb\n",
      "Error in file game_2.ipynb\n",
      "Error in file game_roll.ipynb\n",
      "Error in file gradio.ipynb\n",
      "groupby_transform_v1.ipynb\n",
      "Error in file Hands-on programming demo.ipynb\n",
      "Error in file hist_heatmap_v1.ipynb\n",
      "Error in file Homework_6_post.ipynb\n",
      "Error in file image_frame.ipynb\n",
      "Error in file IND_Python_3.ipynb\n",
      "Error in file INTROML_Homework2-2_v1.ipynb\n",
      "Error in file INTROML_Homework2.ipynb\n",
      "Error in file Lab-3-2.ipynb\n",
      "Error in file lambda.ipynb\n",
      "Error in file listcompre_set_lambda.ipynb\n",
      "Error in file Main.ipynb\n",
      "Error in file main_code_v1.ipynb\n",
      "ML_FINAL_PROJECT.ipynb\n",
      "Error in file ML_Models.ipynb\n",
      "Error in file MT_Project_LearnerNotebook_LowCode.ipynb\n",
      "Error in file MT_Project_LearnerNotebook_LowCode_v1.ipynb\n",
      "multindex_plot_v3.ipynb\n",
      "Error in file NLP with Hotel Review (Part 2).ipynb\n",
      "Error in file pdf.ipynb\n",
      "Error in file percentile.ipynb\n",
      "Error in file plotly_1.ipynb\n",
      "plot_v1.ipynb\n",
      "Error in file police_deaths_v2.ipynb\n",
      "Error in file Practicum2 (1).ipynb\n",
      "Error in file Practicum2_v1.ipynb\n",
      "Error in file Practicum2_v5.ipynb\n",
      "Error in file processing.ipynb\n",
      "Error in file Project 3 _Nov3_WV_v4 (1).ipynb\n",
      "Error in file Project 3 _Nov3_WV_v6 (1).ipynb\n",
      "Error in file Project3.ipynb\n",
      "Error in file PyCitySchools.ipynb\n",
      "Error in file PyCitySchools_starter.ipynb\n",
      "pymaceuticals_starter_HOMEWORK_v1.ipynb\n",
      "Error in file Python_17JAN_2022_v1.ipynb\n",
      "Error in file Python_18JAN_2022_v1.ipynb\n",
      "Error in file python_class_3_v2.ipynb\n",
      "Error in file python_function_4.ipynb\n",
      "Error in file Q1_q2-Copy1.ipynb\n",
      "Error in file Q1_q2.ipynb\n",
      "Error in file qstn1-3.ipynb\n",
      "Error in file r-paper.ipynb\n",
      "Error in file reconcile_v1-Copy1.ipynb\n",
      "Error in file reconcile_v1.ipynb\n",
      "Error in file reconciliation -Copy1.ipynb\n",
      "Error in file reconciliation .ipynb\n",
      "Error in file Regular_Expressions.ipynb\n",
      "Error in file ruDoc-Copy1.ipynb\n",
      "Error in file ruDoc.ipynb\n",
      "Error in file Sample-Copy1.ipynb\n",
      "Error in file sanky_v1.ipynb\n",
      "Error in file sanky_v2.ipynb\n",
      "Error in file scraper21.ipynb\n",
      "Error in file scrap_IND.ipynb\n",
      "Error in file scrap_ind_v1.ipynb\n",
      "Error in file Second-Assignment-amended (2)_v1.ipynb\n",
      "Error in file sensitive.ipynb\n",
      "Error in file sentence-tokenizer-nouns(1).ipynb\n",
      "Error in file sentence-tokenizer-nouns.ipynb\n",
      "Error in file set_operation.ipynb\n",
      "Error in file song_code.ipynb\n",
      "Error in file sort_position.ipynb\n",
      "Error in file sounding.ipynb\n",
      "Error in file stock_yf (1).ipynb\n",
      "Error in file student_info.ipynb\n",
      "Error in file summary-game.ipynb\n",
      "Error in file Team_XX_Assignment_v1-Copy1.ipynb\n",
      "Error in file Team_XX_Assignment_v1.ipynb\n",
      "Error in file Testing_Gradio.ipynb\n",
      "Error in file tfidf.ipynb\n",
      "Error in file topic modeling_v1 (2).ipynb\n",
      "Error in file Untitled1(1).ipynb\n",
      "Error in file Untitled2(1).ipynb\n",
      "Error in file Untitled33.ipynb\n",
      "Error in file Untitled34.ipynb\n",
      "Error in file Untitled36.ipynb\n",
      "Error in file Untitled46.ipynb\n",
      "Error in file Untitled47.ipynb\n",
      "Error in file Untitled48.ipynb\n",
      "Error in file Untitled49.ipynb\n",
      "Error in file Untitled50.ipynb\n",
      "Error in file Untitled51.ipynb\n",
      "Error in file Untitled52.ipynb\n",
      "Error in file Untitled53.ipynb\n",
      "Error in file Untitled54.ipynb\n",
      "Error in file Untitled56.ipynb\n",
      "Error in file Untitled57.ipynb\n",
      "Error in file Untitled59.ipynb\n",
      "Error in file Untitled60.ipynb\n",
      "Error in file Untitled61.ipynb\n",
      "Error in file Untitled62.ipynb\n",
      "Error in file Untitled63.ipynb\n",
      "Error in file Untitled64.ipynb\n",
      "Error in file Untitled65.ipynb\n",
      "Error in file Untitled9 (2).ipynb\n",
      "Error in file user_install.ipynb\n",
      "Error in file Utopia_Petrol_pump_v1.ipynb\n",
      "Error in file vote.ipynb\n",
      "Error in file votes_2.ipynb\n",
      "Error in file votes_2_formatted.ipynb\n",
      "Error in file vote_v1.ipynb\n",
      "Error in file xml_company.ipynb\n",
      "Error in file Zulu_One_Niner.ipynb\n"
     ]
    }
   ],
   "source": [
    "for file in tqdm(files):\n",
    "    try:\n",
    "        if scan_files(file):\n",
    "            print(file)\n",
    "    except:\n",
    "        pass\n",
    "        print(f'Error in file {file}')"
   ]
  },
  {
   "cell_type": "code",
   "execution_count": null,
   "id": "acf90815",
   "metadata": {},
   "outputs": [],
   "source": []
  }
 ],
 "metadata": {
  "kernelspec": {
   "display_name": "Python 3 (ipykernel)",
   "language": "python",
   "name": "python3"
  },
  "language_info": {
   "codemirror_mode": {
    "name": "ipython",
    "version": 3
   },
   "file_extension": ".py",
   "mimetype": "text/x-python",
   "name": "python",
   "nbconvert_exporter": "python",
   "pygments_lexer": "ipython3",
   "version": "3.9.12"
  }
 },
 "nbformat": 4,
 "nbformat_minor": 5
}
