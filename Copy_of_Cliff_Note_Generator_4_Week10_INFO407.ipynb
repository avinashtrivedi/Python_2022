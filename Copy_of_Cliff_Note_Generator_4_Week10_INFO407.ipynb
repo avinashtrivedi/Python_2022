{
 "cells": [
  {
   "cell_type": "markdown",
   "metadata": {
    "id": "jNxwHPHIFC_W"
   },
   "source": [
    "## **Programming with Python for Data Science**\n",
    "\n",
    "\n",
    "###**Lesson: Cliff Note Generator** "
   ]
  },
  {
   "cell_type": "markdown",
   "metadata": {
    "id": "ZItgK3xMHeHC"
   },
   "source": [
    "## **Notebook Preparation for Lesson in 1•2 steps:**\n",
    "Each lesson will start with a similar template:  \n",
    "1. **save** the notebook to your google drive (copy to drive)<br/> ![](https://drive.google.com/uc?export=view&id=1NXb8jeYRc1yNCTz_duZdEpkm8uwRjOW5)\n",
    " \n",
    "2. **update** the NET_ID to be your netID (no need to include @illinois.edu)"
   ]
  },
  {
   "cell_type": "code",
   "execution_count": 1,
   "metadata": {
    "id": "mFNjvEMpHeHC"
   },
   "outputs": [],
   "source": [
    "LESSON_ID = 'p4ds:ds:cng4'   # keep this as is\n",
    "NET_ID    = 'salonis3' # CHANGE_ME to your netID (keep the quotes)"
   ]
  },
  {
   "cell_type": "markdown",
   "metadata": {
    "id": "OIYJn7PvPSnj"
   },
   "source": [
    "#**Lesson Cliff Note Generator (part 4)**\n",
    "###**Computation Continued: Visualizing Data**\n",
    "Perhaps building data visualizations is one of the most rewarding parts of the data science pipeline. If built properly, a good visualization should easily convey something interesting about the data that might have been overlooked had it been buried inside a table or a spreadsheet.\n",
    "\n",
    "An easy way to visualize data in Python is to use the library matplotlib. It's an old library that's a bit clunky to use, but it is very popular and learning it will help you with other libraries that use matplotlib (as well as understand and debug the billions of matplotlib lines of code out there in the wild).\n",
    "\n",
    "There will be several tutorials and readings on using matplotlib, but for now we will do a gentle introduction to making a bar chart. When you have data to visualize, always choose the clearest way to convey what information you are seeking. For a table of word counts, it's not fancy, but a bar chart gets the job done.\n",
    "\n",
    "![](https://drive.google.com/uc?export=view&id=17MFlWvKUvV8FcegEoQbDJVXiI_jSHbWL)\n",
    "\n",
    "As you know, a bar chart just needs to display a value on the x axis (usually the label) and a value on the y axis (usually the height of the bar). Color could be used for another dimension, but for now we will focus on visualizing our table of words.\n",
    "\n",
    "###**Experiments In Order**\n",
    "There are a few experiments we want to try to demonstrate some of the issues with creating visualizations with matplotlib.\n",
    "\n",
    "**Step 0.**\n",
    "\n",
    "We first need to load the matplotlib module. The following is standard practice:\n",
    "```\n",
    "import matplotlib.pyplot as plt\n",
    "```\n",
    "\n",
    "The values defined in the next code cell is the same data from the previous lesson (the output of the build_table and top_n from the previous lesson is a dictionary and list respectively)\n",
    "\n",
    "The variable sorted contains the same data; it's an array of tuples. Each tuple has 2 elements, the first is the word and the second is the count. We will use this data for the visualizations."
   ]
  },
  {
   "cell_type": "code",
   "execution_count": 1,
   "metadata": {
    "id": "Re0SgC8UPSnm"
   },
   "outputs": [],
   "source": [
    "import matplotlib as mpl\n",
    "import matplotlib.pyplot as plt\n",
    "\n",
    "# some data to use\n",
    "data = {'you': 2, \"don't\": 1, 'know': 1, 'about': 2, 'me': 1, 'without': 2, 'have': 1, 'read': 1, 'a': 2, 'book': 4, 'by': 2, 'the': 6, 'name': 1, 'of': 2, 'adventures': 1, 'tom': 1, 'sawyer': 1, 'but': 3, 'that': 4, \"ain't\": 1, 'no': 1, 'matter': 1, 'was': 3, 'made': 1, 'mr': 1, 'mark': 1, 'twain': 1, 'and': 3, 'he': 3, 'told': 3, 'truth': 2, 'mainly': 2, 'there': 1, 'things': 1, 'which': 2, 'stretched': 1, 'is': 4, 'nothing': 1, 'i': 2, 'never': 1, 'seen': 1, 'anybody': 1, 'lied': 1, 'one': 1, 'time': 1, 'or': 3, 'another': 1, 'it': 1, 'aunt': 3, 'polly': 3, 'widow': 2, 'maybe': 1, 'mary': 2, \"tom's\": 1, 'she': 1, 'douglas': 1, 'all': 1, 'in': 1, 'mostly': 1, 'true': 1, 'with': 1, 'some': 1, 'stretchers': 1, 'as': 1, 'said': 1, 'before': 1}\n",
    "\n",
    "sorted = [('the', 6), ('book', 4), ('that', 4), ('is', 4), ('but', 3), ('was', 3), ('and', 3), ('he', 3), ('told', 3), ('or', 3), ('aunt', 3), ('polly', 3), ('you', 2), ('about', 2), ('without', 2), ('a', 2), ('by', 2), ('of', 2), ('truth', 2), ('mainly', 2), ('which', 2), ('i', 2), ('widow', 2), ('mary', 2), (\"don't\", 1), ('know', 1), ('me', 1), ('have', 1), ('read', 1), ('name', 1), ('adventures', 1), ('tom', 1), ('sawyer', 1), (\"ain't\", 1), ('no', 1), ('matter', 1), ('made', 1), ('mr', 1), ('mark', 1), ('twain', 1), ('there', 1), ('things', 1), ('stretched', 1), ('nothing', 1), ('never', 1), ('seen', 1), ('anybody', 1), ('lied', 1), ('one', 1), ('time', 1), ('another', 1), ('it', 1), ('maybe', 1), (\"tom's\", 1), ('she', 1), ('douglas', 1), ('all', 1), ('in', 1), ('mostly', 1), ('true', 1), ('with', 1), ('some', 1), ('stretchers', 1), ('as', 1), ('said', 1), ('before', 1)]"
   ]
  },
  {
   "cell_type": "markdown",
   "metadata": {
    "id": "g4EitB-b5Up4"
   },
   "source": [
    "**Step 1.**\n",
    "\n",
    "Run the following code as is (that is don't remove any other comments). The current code creates a file named simpleBar.png."
   ]
  },
  {
   "cell_type": "code",
   "execution_count": 2,
   "metadata": {
    "id": "KmgHl-G4PSn4"
   },
   "outputs": [
    {
     "name": "stdout",
     "output_type": "stream",
     "text": [
      "created simpleBar.png\n"
     ]
    },
    {
     "data": {
      "image/png": "[encoded data removed]",
      "text/plain": [
       "<Figure size 432x288 with 1 Axes>"
      ]
     },
     "metadata": {
      "needs_background": "light"
     },
     "output_type": "display_data"
    }
   ],
   "source": [
    "def simple_vis(filename):\n",
    "  # Make a fake dataset:\n",
    "  height = [ 3,  12,   5,  18,  45]\n",
    "  bars   = ('A', 'B', 'C', 'D', 'E')\n",
    "  x_pos = range(len(bars)) # simple \n",
    "  \n",
    "  # uncomment line per directions\n",
    "  #plt.figure(0) \n",
    "  \n",
    "  # Create bars\n",
    "  plt.bar(x_pos, height)\n",
    "   \n",
    "  # Create names on the x-axis\n",
    "  plt.xticks(x_pos, bars)\n",
    "   \n",
    "  # 'Show' the graphic  \n",
    "  # plt.show() # not needed in colab \n",
    "  plt.savefig(filename)\n",
    "  print(\"created\", filename)\n",
    "\n",
    "simple_vis('simpleBar.png')"
   ]
  },
  {
   "cell_type": "markdown",
   "metadata": {
    "id": "VNFnm5nv5fng"
   },
   "source": [
    "> ***Coder's Log:*** In colab/jupyter you don't need to 'show' the figure (e.g. plt.show() or fig.show(). It gets displayed automatically. However, if you are working in a non-interactive environment, you will need to call show.\n",
    "\n",
    "**Step 2.**\n",
    "\n",
    "Now run the next code block"
   ]
  },
  {
   "cell_type": "code",
   "execution_count": 3,
   "metadata": {
    "id": "lQxHUbDkPSn7"
   },
   "outputs": [
    {
     "name": "stdout",
     "output_type": "stream",
     "text": [
      "created top10A.png\n"
     ]
    },
    {
     "data": {
      "image/png": "[encoded data removed]",
      "text/plain": [
       "<Figure size 432x288 with 1 Axes>"
      ]
     },
     "metadata": {
      "needs_background": "light"
     },
     "output_type": "display_data"
    }
   ],
   "source": [
    "def visualize(tuples, filename):\n",
    "  labels = []\n",
    "  counts = []\n",
    "  for t in tuples:\n",
    "    labels.append(t[0])\n",
    "    counts.append(t[1])\n",
    "    \n",
    "  x_pos = range(len(labels))\n",
    "  \n",
    "  #plt.figure(1) # uncomment line per directions\n",
    "  \n",
    "  bars = plt.bar(x_pos, counts)\n",
    "  \n",
    "  plt.xlabel('word',  fontsize=12)\n",
    "  plt.ylabel('count', fontsize=12)\n",
    "  plt.xticks(x_pos, labels, fontsize=8, rotation=30)\n",
    "  plt.title('Word Usage')\n",
    "  plt.savefig(filename)\n",
    "  \n",
    "  print(\"created\", filename)\n",
    "  \n",
    "top_10 = sorted[0:10]\n",
    "visualize(top_10, 'top10A.png')"
   ]
  },
  {
   "cell_type": "markdown",
   "metadata": {
    "id": "HssaSSHE5vx9"
   },
   "source": [
    "The bar chart seems to clearly communicate what word is the most popular.\n",
    "\n",
    "**Step 3.**\n",
    "\n",
    "Now run the code as follows:"
   ]
  },
  {
   "cell_type": "code",
   "execution_count": 4,
   "metadata": {
    "id": "Q1Fo6FFOPSn_"
   },
   "outputs": [
    {
     "name": "stdout",
     "output_type": "stream",
     "text": [
      "created simpleBarB.png\n",
      "created top10B.png\n"
     ]
    },
    {
     "data": {
      "image/png": "[encoded data removed]",
      "text/plain": [
       "<Figure size 432x288 with 1 Axes>"
      ]
     },
     "metadata": {
      "needs_background": "light"
     },
     "output_type": "display_data"
    }
   ],
   "source": [
    "simple_vis('simpleBarB.png')\n",
    "top_10 = sorted[0:10]\n",
    "visualize(top_10, 'top10B.png')"
   ]
  },
  {
   "cell_type": "markdown",
   "metadata": {
    "id": "RYNU2RiX50Z0"
   },
   "source": [
    "We are running the same code but creating two visualizations. Do you see the problem?\n",
    "\n",
    "The colors and the Y axis are messed up. The issue is that matplotlib shares state when creating graphs (or figures). In other words when you create a graph, any subsequent graph is affected by properties you set creating the first graph. This can be a feature or a pain and it's one of those issues (of many) that you will run into when using libraries -- you really need to read the documentation and understand how the library works and how it is expected to be used.\n",
    "\n",
    "In our case, we can fix this by uncommenting the lines:\n",
    "```\n",
    "plt.figure(0) # inside of simple_vis\n",
    "plt.figure(1) # inside of visualize\n",
    "```\n",
    "\n",
    "We are essentially telling matplotlib to keep the two graphs separate (do not share state). Rerun the code such that both graphs are created and both graphs generate the correct image.\n",
    "\n",
    "1. Make the code changes above (and re-running the code)\n",
    "2. Run this code.\n"
   ]
  },
  {
   "cell_type": "code",
   "execution_count": 5,
   "metadata": {
    "id": "0u-NWzYRPSoB"
   },
   "outputs": [
    {
     "name": "stdout",
     "output_type": "stream",
     "text": [
      "created simpleBarC.png\n",
      "created top10C.png\n"
     ]
    },
    {
     "data": {
      "image/png": "[encoded data removed]",
      "text/plain": [
       "<Figure size 432x288 with 1 Axes>"
      ]
     },
     "metadata": {
      "needs_background": "light"
     },
     "output_type": "display_data"
    }
   ],
   "source": [
    "simple_vis('simpleBarC.png')\n",
    "top_10 = sorted[0:10]\n",
    "visualize(top_10, 'top10C.png')"
   ]
  },
  {
   "cell_type": "markdown",
   "metadata": {
    "id": "30DuYToOPSoG"
   },
   "source": [
    "#**A Better Approach to Matplotlib**\n",
    "The issue with the above solution is that you have to make sure each visualization built in a session does not share state. At one point it was assumed that you would build one visualization (called the active state) and rely on this state. However, as people started to build more complex sets of visualizations in a single session, this sharing of state became an issue.\n",
    "\n",
    "Take a look at the next code cell. It uses something called the 'object oriented interface' (abbreviated OO). The OO API (application programming interface -- the functions and methods we can call on a library) is a way of designing a solution using separate classes and types."
   ]
  },
  {
   "cell_type": "code",
   "execution_count": 6,
   "metadata": {
    "id": "cq8GyUwsPSoH"
   },
   "outputs": [
    {
     "data": {
      "image/png": "[encoded data removed]",
      "text/plain": [
       "<Figure size 432x288 with 1 Axes>"
      ]
     },
     "metadata": {
      "needs_background": "light"
     },
     "output_type": "display_data"
    }
   ],
   "source": [
    "def visualize_better(tuples, filename):\n",
    "  \n",
    "  labels = []\n",
    "  counts = []\n",
    "  for t in tuples:\n",
    "    labels.append(t[0])\n",
    "    counts.append(t[1])\n",
    "    \n",
    "  x_pos = range(len(labels))\n",
    "  \n",
    "  # use the object API\n",
    "  fig = plt.figure()\n",
    "  ax  = fig.add_subplot(111) \n",
    "  #ax = fig.add_subplot(1,1,1) # same as above\n",
    "  \n",
    "  # create the bars\n",
    "  bars = ax.bar(x_pos, counts)\n",
    "  \n",
    "  ax.set_xlabel('word',  fontsize=12)\n",
    "  ax.set_ylabel('count', fontsize=12)\n",
    "  \n",
    "  ax.set_xticks(x_pos)\n",
    "  ax.set_xticklabels(labels, fontsize=8, rotation=30)\n",
    "  ax.set_title('Word Usage')\n",
    "  \n",
    "  #fig.show()\n",
    "  fig.savefig(filename)\n",
    "  \n",
    "  # return the figure\n",
    "  # allows the caller to customize\n",
    "  # do NOT return plt\n",
    "  return fig\n",
    "  \n",
    "top_10 = sorted[0:10]\n",
    "fig = visualize_better(top_10, 'top10C.png')"
   ]
  },
  {
   "cell_type": "markdown",
   "metadata": {
    "id": "BpoQ-xEg6mr0"
   },
   "source": [
    "> ***Coder's Log:*** if you return a figure from a function (and the call to that function is the last line of code in a cell, it will get displayed (so you may see two graphs). Assigning it into a variable prevents this behavior.\n",
    "\n",
    "Using this API, building visualizations is not only easier but there is also a clear separation of state between visualizations. We will only use this API moving forward. However there are lots of matplotlib tutorials that only show the shared state way (do not use that code).\n",
    "\n",
    "###**Round One Wrap-up.**\n",
    "It's not a great visualization is it? But it is a start. We proved that we can take the text of a book (well a subsection of one) and process the words to make a bar chart of the top most frequently used words. A few weeks ago you didn't know any Python (and perhaps didn't know how to program). So you have actually accomplished a great deal.\n",
    "\n",
    "We certainly can make a lot of improvements to not only the final output, but to each step in the pipeline. We will be addressing some of the enhancements in the next set of lessons.\n",
    "\n",
    "###**The Mountain that is Matplotlib**\n",
    "Learning how to build visualizations using matplotlib will involve a lot more learning than just showing you some code that builds a bar graph. It's important to know how graphics are composed. For this lesson, we are just starting our journey and we will have a dedicated lesson that describes the library in more detail.\n",
    "\n",
    "###**Before you go, you should know:**\n",
    "\n",
    "* Which version of the matplotlib API we will ONLY use in this class"
   ]
  },
  {
   "cell_type": "markdown",
   "metadata": {
    "id": "T6D7qzraPSoI"
   },
   "source": [
    "#**Lesson Assignment**\n",
    "Take a look at the documentation for [pyplot.bar](https://matplotlib.org/stable/api/_as_gen/matplotlib.pyplot.bar.html). It returns a container of the bars created. Your task is to color the highest bar red. That is the bar that represents the word with the highest count should be colored red.\n",
    "\n",
    "###**Better Visualizations**\n",
    "Create a new function named visualize_high(tuples, filename)\n",
    "\n",
    "* It will generate a graph named using filename.\n",
    "* This plot will look very similar to top10A.png but the word with the highest count will be colored red.\n",
    "* For this assignment you must use the object oriented API for building your visualization -- You must (and should) look at the code and see the differences otherwise, this step will not make any sense.\n",
    "* Be sure to return the figure\n",
    "* More hints in the next section"
   ]
  },
  {
   "cell_type": "code",
   "execution_count": 19,
   "metadata": {
    "id": "JZsf7Ah5PSoJ"
   },
   "outputs": [],
   "source": [
    "# put your solution here\n",
    "def visualize(tuples, filename):\n",
    "    clr = ['r'] + ['b']*9\n",
    "    labels = []\n",
    "    counts = []\n",
    "    for t in tuples:\n",
    "        labels.append(t[0])\n",
    "        counts.append(t[1])\n",
    "\n",
    "    x_pos = range(len(labels))\n",
    "\n",
    "    #plt.figure(1) # uncomment line per directions\n",
    "\n",
    "    bars = plt.bar(x_pos, counts,color=clr)\n",
    "\n",
    "    plt.xlabel('word',  fontsize=12)\n",
    "    plt.ylabel('count', fontsize=12)\n",
    "    plt.xticks(x_pos, labels, fontsize=8, rotation=30)\n",
    "    plt.title('Word Usage')\n",
    "    plt.savefig(filename)\n",
    "    return plt.gcf()"
   ]
  },
  {
   "cell_type": "markdown",
   "metadata": {
    "id": "l5KmBRII7aVd"
   },
   "source": [
    "###**Testing**\n",
    "Be sure to test your code as well. Once your graph looks great (feel free to augment based on the documentation), you can submit your solution.\n",
    "\n",
    "**Hints:**\n",
    "\n",
    "* https://matplotlib.org/api/_as_gen/matplotlib.pyplot.bar.html\n",
    "* https://matplotlib.org/2.0.2/api/colors_api.html\n",
    "* You should not need to add a lot of code to do this\n",
    "* You can color the other bars any way you see fit, but the one bar needs to be 'red'"
   ]
  },
  {
   "cell_type": "markdown",
   "metadata": {
    "id": "llgqWbVMPSoL"
   },
   "source": [
    "##**Submission**\n",
    "\n",
    "After implementing all the functions and testing them please download the notebook as \"solution.py\" and submit to gradescope under \"Week10:DS:CNG_visualize\" assignment tab and Moodle.\n",
    "\n",
    "**NOTES**\n",
    "\n",
    "* Be sure to use the function names and parameter names as given. \n",
    "* DONOT use your own function or parameter names. \n",
    "* Your file MUST be named \"solution.py\". \n",
    "* Comment out any lines of code and/or function calls to those functions that produce errors. If your solution has errors, then you have to work on them but if there were any errors in the examples/exercies then comment them before submitting to Gradescope.\n",
    "* Grading cannot be performed if any of these are violated."
   ]
  },
  {
   "cell_type": "markdown",
   "metadata": {
    "id": "Lj1BU1yN7kEK"
   },
   "source": [
    "**Readings**\n",
    "* https://matplotlib.org/api/_as_gen/matplotlib.pyplot.bar.html\n",
    "* https://matplotlib.org/2.0.2/api/colors_api.html"
   ]
  }
 ],
 "metadata": {
  "colab": {
   "collapsed_sections": [],
   "name": "Copy of Cliff Note Generator_4_Week10_INFO407",
   "provenance": []
  },
  "kernelspec": {
   "display_name": "Python 3 (ipykernel)",
   "language": "python",
   "name": "python3"
  },
  "language": "python",
  "language_info": {
   "codemirror_mode": {
    "name": "ipython",
    "version": 3
   },
   "file_extension": ".py",
   "mimetype": "text/x-python",
   "name": "python",
   "nbconvert_exporter": "python",
   "pygments_lexer": "ipython3",
   "version": "3.8.5"
  },
  "story": {
   "auth_token": "OrasmFjRy-tu4aVGMJ7SaNAqRclr06_MtSw0Er3GuSA=",
   "authorship_tag": "AB",
   "chapters": 20,
   "name": "Cliff Note Generator",
   "parser": {},
   "root": "https://github.com/habermanUIUC/CodeStories-lessons/blob/main/lessons/p4ds/ds/cng4",
   "tag": "p4ds:ds:cng4"
  }
 },
 "nbformat": 4,
 "nbformat_minor": 1
}
