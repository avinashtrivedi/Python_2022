{
 "cells": [
  {
   "cell_type": "markdown",
   "metadata": {
    "id": "_bh6_01cbtRg"
   },
   "source": [
    "Zora Barnett & Carrington Body"
   ]
  },
  {
   "cell_type": "code",
   "execution_count": 1,
   "metadata": {
    "id": "OjlN3DrUbx-9"
   },
   "outputs": [],
   "source": [
    "#import packages\n",
    "import numpy as np\n",
    "import matplotlib.pyplot as plt\n",
    "import pandas as pd"
   ]
  },
  {
   "cell_type": "code",
   "execution_count": null,
   "metadata": {
    "colab": {
     "base_uri": "https://localhost:8080/"
    },
    "id": "JWtvpBR9eKSK",
    "outputId": "373b89ab-3d9c-469d-a993-09d6677675ef"
   },
   "outputs": [
    {
     "name": "stdout",
     "output_type": "stream",
     "text": [
      "Mounted at /content/drive\n"
     ]
    }
   ],
   "source": [
    "#import data \n",
    "from google.colab import drive\n",
    "drive.mount('/content/drive')"
   ]
  },
  {
   "cell_type": "code",
   "execution_count": 3,
   "metadata": {
    "colab": {
     "base_uri": "https://localhost:8080/",
     "height": 837
    },
    "id": "B7HxCndFiMkc",
    "outputId": "83f424c3-c95c-4048-efeb-c623602dbf96"
   },
   "outputs": [
    {
     "data": {
      "text/html": [
       "<div>\n",
       "<style scoped>\n",
       "    .dataframe tbody tr th:only-of-type {\n",
       "        vertical-align: middle;\n",
       "    }\n",
       "\n",
       "    .dataframe tbody tr th {\n",
       "        vertical-align: top;\n",
       "    }\n",
       "\n",
       "    .dataframe thead th {\n",
       "        text-align: right;\n",
       "    }\n",
       "</style>\n",
       "<table border=\"1\" class=\"dataframe\">\n",
       "  <thead>\n",
       "    <tr style=\"text-align: right;\">\n",
       "      <th></th>\n",
       "      <th>id</th>\n",
       "      <th>prices.amountMax</th>\n",
       "      <th>prices.amountMin</th>\n",
       "      <th>prices.availability</th>\n",
       "      <th>prices.condition</th>\n",
       "      <th>prices.currency</th>\n",
       "      <th>prices.dateSeen</th>\n",
       "      <th>prices.isSale</th>\n",
       "      <th>prices.merchant</th>\n",
       "      <th>prices.shipping</th>\n",
       "      <th>...</th>\n",
       "      <th>name</th>\n",
       "      <th>primaryCategories</th>\n",
       "      <th>sourceURLs</th>\n",
       "      <th>upc</th>\n",
       "      <th>weight</th>\n",
       "      <th>Unnamed: 26</th>\n",
       "      <th>Unnamed: 27</th>\n",
       "      <th>Unnamed: 28</th>\n",
       "      <th>Unnamed: 29</th>\n",
       "      <th>Unnamed: 30</th>\n",
       "    </tr>\n",
       "  </thead>\n",
       "  <tbody>\n",
       "    <tr>\n",
       "      <th>14587</th>\n",
       "      <td>AVpgibRDLJeJML43PTZX</td>\n",
       "      <td>65.99</td>\n",
       "      <td>65.99</td>\n",
       "      <td>NaN</td>\n",
       "      <td>NaN</td>\n",
       "      <td>USD</td>\n",
       "      <td>2015-09-05T00:00:00Z</td>\n",
       "      <td>True</td>\n",
       "      <td>NaN</td>\n",
       "      <td>USD 13.81 shipping</td>\n",
       "      <td>...</td>\n",
       "      <td>naxa - 2.1-Channel Soundbar with 50-Watt Digit...</td>\n",
       "      <td>Electronics</td>\n",
       "      <td>https://www.walmart.com/reviews/product/441840...</td>\n",
       "      <td>8.40005E+11</td>\n",
       "      <td>4.1 pounds</td>\n",
       "      <td>NaN</td>\n",
       "      <td>NaN</td>\n",
       "      <td>NaN</td>\n",
       "      <td>NaN</td>\n",
       "      <td>NaN</td>\n",
       "    </tr>\n",
       "    <tr>\n",
       "      <th>14588</th>\n",
       "      <td>AVpgibRDLJeJML43PTZX</td>\n",
       "      <td>58.99</td>\n",
       "      <td>58.99</td>\n",
       "      <td>Yes</td>\n",
       "      <td>New</td>\n",
       "      <td>USD</td>\n",
       "      <td>2017-10-10T19:00:00Z,2017-09-06T17:00:00Z,2017...</td>\n",
       "      <td>False</td>\n",
       "      <td>Bestbuy.com</td>\n",
       "      <td>NaN</td>\n",
       "      <td>...</td>\n",
       "      <td>naxa - 2.1-Channel Soundbar with 50-Watt Digit...</td>\n",
       "      <td>Electronics</td>\n",
       "      <td>https://www.walmart.com/reviews/product/441840...</td>\n",
       "      <td>8.40005E+11</td>\n",
       "      <td>4.1 pounds</td>\n",
       "      <td>NaN</td>\n",
       "      <td>NaN</td>\n",
       "      <td>NaN</td>\n",
       "      <td>NaN</td>\n",
       "      <td>NaN</td>\n",
       "    </tr>\n",
       "    <tr>\n",
       "      <th>14589</th>\n",
       "      <td>AVpgibRDLJeJML43PTZX</td>\n",
       "      <td>58.49</td>\n",
       "      <td>58.49</td>\n",
       "      <td>In Stock</td>\n",
       "      <td>New</td>\n",
       "      <td>USD</td>\n",
       "      <td>2018-03-05T11:00:00Z</td>\n",
       "      <td>False</td>\n",
       "      <td>Walmart.com</td>\n",
       "      <td>Standard</td>\n",
       "      <td>...</td>\n",
       "      <td>naxa - 2.1-Channel Soundbar with 50-Watt Digit...</td>\n",
       "      <td>Electronics</td>\n",
       "      <td>https://www.walmart.com/reviews/product/441840...</td>\n",
       "      <td>8.40005E+11</td>\n",
       "      <td>4.1 pounds</td>\n",
       "      <td>NaN</td>\n",
       "      <td>NaN</td>\n",
       "      <td>NaN</td>\n",
       "      <td>NaN</td>\n",
       "      <td>NaN</td>\n",
       "    </tr>\n",
       "    <tr>\n",
       "      <th>14590</th>\n",
       "      <td>AVpgibRDLJeJML43PTZX</td>\n",
       "      <td>77.98</td>\n",
       "      <td>77.98</td>\n",
       "      <td>NaN</td>\n",
       "      <td>NaN</td>\n",
       "      <td>USD</td>\n",
       "      <td>2016-03-22T00:00:00Z</td>\n",
       "      <td>True</td>\n",
       "      <td>NaN</td>\n",
       "      <td>NaN</td>\n",
       "      <td>...</td>\n",
       "      <td>naxa - 2.1-Channel Soundbar with 50-Watt Digit...</td>\n",
       "      <td>Electronics</td>\n",
       "      <td>https://www.walmart.com/reviews/product/441840...</td>\n",
       "      <td>8.40005E+11</td>\n",
       "      <td>4.1 pounds</td>\n",
       "      <td>NaN</td>\n",
       "      <td>NaN</td>\n",
       "      <td>NaN</td>\n",
       "      <td>NaN</td>\n",
       "      <td>NaN</td>\n",
       "    </tr>\n",
       "    <tr>\n",
       "      <th>14591</th>\n",
       "      <td>AVpgibRDLJeJML43PTZX</td>\n",
       "      <td>71.95</td>\n",
       "      <td>71.95</td>\n",
       "      <td>NaN</td>\n",
       "      <td>new</td>\n",
       "      <td>USD</td>\n",
       "      <td>2015-12-05T00:00:00Z</td>\n",
       "      <td>False</td>\n",
       "      <td>Beach Audio Inc - Walmart.com</td>\n",
       "      <td>NaN</td>\n",
       "      <td>...</td>\n",
       "      <td>naxa - 2.1-Channel Soundbar with 50-Watt Digit...</td>\n",
       "      <td>Electronics</td>\n",
       "      <td>https://www.walmart.com/reviews/product/441840...</td>\n",
       "      <td>8.40005E+11</td>\n",
       "      <td>4.1 pounds</td>\n",
       "      <td>NaN</td>\n",
       "      <td>NaN</td>\n",
       "      <td>NaN</td>\n",
       "      <td>NaN</td>\n",
       "      <td>NaN</td>\n",
       "    </tr>\n",
       "  </tbody>\n",
       "</table>\n",
       "<p>5 rows × 31 columns</p>\n",
       "</div>"
      ],
      "text/plain": [
       "                         id  prices.amountMax  prices.amountMin  \\\n",
       "14587  AVpgibRDLJeJML43PTZX             65.99             65.99   \n",
       "14588  AVpgibRDLJeJML43PTZX             58.99             58.99   \n",
       "14589  AVpgibRDLJeJML43PTZX             58.49             58.49   \n",
       "14590  AVpgibRDLJeJML43PTZX             77.98             77.98   \n",
       "14591  AVpgibRDLJeJML43PTZX             71.95             71.95   \n",
       "\n",
       "      prices.availability prices.condition prices.currency  \\\n",
       "14587                 NaN              NaN             USD   \n",
       "14588                 Yes              New             USD   \n",
       "14589            In Stock              New             USD   \n",
       "14590                 NaN              NaN             USD   \n",
       "14591                 NaN              new             USD   \n",
       "\n",
       "                                         prices.dateSeen  prices.isSale  \\\n",
       "14587                               2015-09-05T00:00:00Z           True   \n",
       "14588  2017-10-10T19:00:00Z,2017-09-06T17:00:00Z,2017...          False   \n",
       "14589                               2018-03-05T11:00:00Z          False   \n",
       "14590                               2016-03-22T00:00:00Z           True   \n",
       "14591                               2015-12-05T00:00:00Z          False   \n",
       "\n",
       "                     prices.merchant     prices.shipping  ...  \\\n",
       "14587                            NaN  USD 13.81 shipping  ...   \n",
       "14588                    Bestbuy.com                 NaN  ...   \n",
       "14589                    Walmart.com            Standard  ...   \n",
       "14590                            NaN                 NaN  ...   \n",
       "14591  Beach Audio Inc - Walmart.com                 NaN  ...   \n",
       "\n",
       "                                                    name primaryCategories  \\\n",
       "14587  naxa - 2.1-Channel Soundbar with 50-Watt Digit...       Electronics   \n",
       "14588  naxa - 2.1-Channel Soundbar with 50-Watt Digit...       Electronics   \n",
       "14589  naxa - 2.1-Channel Soundbar with 50-Watt Digit...       Electronics   \n",
       "14590  naxa - 2.1-Channel Soundbar with 50-Watt Digit...       Electronics   \n",
       "14591  naxa - 2.1-Channel Soundbar with 50-Watt Digit...       Electronics   \n",
       "\n",
       "                                              sourceURLs          upc  \\\n",
       "14587  https://www.walmart.com/reviews/product/441840...  8.40005E+11   \n",
       "14588  https://www.walmart.com/reviews/product/441840...  8.40005E+11   \n",
       "14589  https://www.walmart.com/reviews/product/441840...  8.40005E+11   \n",
       "14590  https://www.walmart.com/reviews/product/441840...  8.40005E+11   \n",
       "14591  https://www.walmart.com/reviews/product/441840...  8.40005E+11   \n",
       "\n",
       "           weight Unnamed: 26 Unnamed: 27 Unnamed: 28 Unnamed: 29 Unnamed: 30  \n",
       "14587  4.1 pounds         NaN         NaN         NaN         NaN         NaN  \n",
       "14588  4.1 pounds         NaN         NaN         NaN         NaN         NaN  \n",
       "14589  4.1 pounds         NaN         NaN         NaN         NaN         NaN  \n",
       "14590  4.1 pounds         NaN         NaN         NaN         NaN         NaN  \n",
       "14591  4.1 pounds         NaN         NaN         NaN         NaN         NaN  \n",
       "\n",
       "[5 rows x 31 columns]"
      ]
     },
     "execution_count": 3,
     "metadata": {},
     "output_type": "execute_result"
    }
   ],
   "source": [
    "# /content/drive/MyDrive/ML_FINAL/\n",
    "data = pd.read_csv('DatafinitiElectronicsProductsPricingData.csv') \n",
    "data.head()\n",
    "data.tail()"
   ]
  },
  {
   "cell_type": "markdown",
   "metadata": {
    "id": "Tr0eodRaq81s"
   },
   "source": [
    "How can we switch some of the quanitative data to qualative"
   ]
  },
  {
   "cell_type": "markdown",
   "metadata": {
    "id": "o0jvIn6Uu10S"
   },
   "source": [
    "KNN CLUSTERING METHOD #1"
   ]
  },
  {
   "cell_type": "code",
   "execution_count": 4,
   "metadata": {
    "colab": {
     "base_uri": "https://localhost:8080/"
    },
    "id": "cmrQzisFpsht",
    "outputId": "ca37499d-6e32-4a0c-989f-b6474ae58fbf"
   },
   "outputs": [
    {
     "name": "stdout",
     "output_type": "stream",
     "text": [
      "[[104.99 104.99]\n",
      " [ 69.    64.99]\n",
      " [ 69.    69.  ]\n",
      " ...\n",
      " [ 58.49  58.49]\n",
      " [ 77.98  77.98]\n",
      " [ 71.95  71.95]]\n"
     ]
    },
    {
     "name": "stderr",
     "output_type": "stream",
     "text": [
      "C:\\Users\\avitr\\AppData\\Local\\Temp\\ipykernel_10704\\2511202697.py:1: UserWarning: Pandas doesn't allow columns to be created via a new attribute name - see https://pandas.pydata.org/pandas-docs/stable/indexing.html#attribute-access\n",
      "  X = data.iloc[:,[1,2,]].valuesX = data.iloc[:,[1,2,]].values\n"
     ]
    }
   ],
   "source": [
    "X = data.iloc[:,[1,2,]].valuesX = data.iloc[:,[1,2,]].values\n",
    "print(X)"
   ]
  },
  {
   "cell_type": "code",
   "execution_count": 5,
   "metadata": {
    "colab": {
     "base_uri": "https://localhost:8080/",
     "height": 295
    },
    "id": "2x2aOOsbkr9f",
    "outputId": "1e9718a0-93f8-4a9c-df30-0dc4e62fac42"
   },
   "outputs": [
    {
     "data": {
      "image/png": "[encoded data removed]",
      "text/plain": [
       "<Figure size 432x288 with 1 Axes>"
      ]
     },
     "metadata": {
      "needs_background": "light"
     },
     "output_type": "display_data"
    }
   ],
   "source": [
    "from sklearn.cluster import KMeans\n",
    "wcss = []\n",
    "for i in range(1,11):\n",
    "  kmeans = KMeans(n_clusters = i, init = 'k-means++',random_state= 42 )\n",
    "  kmeans.fit(X)\n",
    "  wcss.append(kmeans.inertia_)\n",
    "plt.plot(range(1,11),wcss)\n",
    "plt.title('The Elbow Method')\n",
    "plt.xlabel('Number of clusters')\n",
    "plt.ylabel('WCSS')\n",
    "plt.show()"
   ]
  },
  {
   "cell_type": "code",
   "execution_count": 6,
   "metadata": {
    "id": "FbPOtOzwtlWw"
   },
   "outputs": [],
   "source": [
    "kmeans = KMeans(n_clusters= 3, init = 'k-means++',random_state=42)\n",
    "y_kmeans = kmeans.fit_predict(X)"
   ]
  },
  {
   "cell_type": "code",
   "execution_count": 7,
   "metadata": {
    "colab": {
     "base_uri": "https://localhost:8080/",
     "height": 283
    },
    "id": "bcY1DRigt5Xq",
    "outputId": "3249d34a-e169-41a8-88ce-f58584cb969a"
   },
   "outputs": [
    {
     "data": {
      "text/plain": [
       "<matplotlib.collections.PathCollection at 0x17bb16cf520>"
      ]
     },
     "execution_count": 7,
     "metadata": {},
     "output_type": "execute_result"
    },
    {
     "data": {
      "image/png": "[encoded data removed]",
      "text/plain": [
       "<Figure size 432x288 with 1 Axes>"
      ]
     },
     "metadata": {
      "needs_background": "light"
     },
     "output_type": "display_data"
    }
   ],
   "source": [
    "plt.scatter(X[y_kmeans == 0, 0], X[y_kmeans == 0, 1], s = 100, c = 'red', label = 'Cluster 1')\n",
    "plt.scatter(X[y_kmeans == 1, 0], X[y_kmeans == 1, 1], s = 100, c = 'blue', label = 'Cluster 2')\n",
    "plt.scatter(X[y_kmeans == 2, 0], X[y_kmeans == 2, 1], s = 100, c = 'green', label = 'Cluster 3')\n",
    "plt.scatter(kmeans.cluster_centers_[:, 0], kmeans.cluster_centers_[:, 1], s = 300, c = 'yellow', label = 'Centroids')\n",
    "\n"
   ]
  },
  {
   "cell_type": "markdown",
   "metadata": {
    "id": "PeYTpw62xNea"
   },
   "source": [
    "How can we improve this?"
   ]
  },
  {
   "cell_type": "markdown",
   "metadata": {
    "id": "dOGeu7ZtuvA_"
   },
   "source": [
    "KNN CLUSTERING #2\n"
   ]
  },
  {
   "cell_type": "code",
   "execution_count": 12,
   "metadata": {
    "id": "HpSL2dVouyaP"
   },
   "outputs": [],
   "source": [
    "#split data into groups\n",
    "data.loc[data['prices.condition'] == 'New','prices.condition'] = 0\n",
    "data.loc[data['prices.condition'] == 'Used','prices.condition'] = 1\n",
    "data.loc[data['prices.condition'] == 'Refurbished','prices.condition'] = 2\n",
    "#data.head()\n",
    "new_data = data[data['prices.condition'] == 0][['prices.amountMax','prices.amountMin']]\n",
    "used_data = data[data['prices.condition']==1][['prices.amountMax','prices.amountMin']]\n",
    "refub_data = data[data['prices.condition']==2][['prices.amountMax','prices.amountMin']]"
   ]
  },
  {
   "cell_type": "code",
   "execution_count": 14,
   "metadata": {},
   "outputs": [
    {
     "data": {
      "text/html": [
       "<div>\n",
       "<style scoped>\n",
       "    .dataframe tbody tr th:only-of-type {\n",
       "        vertical-align: middle;\n",
       "    }\n",
       "\n",
       "    .dataframe tbody tr th {\n",
       "        vertical-align: top;\n",
       "    }\n",
       "\n",
       "    .dataframe thead th {\n",
       "        text-align: right;\n",
       "    }\n",
       "</style>\n",
       "<table border=\"1\" class=\"dataframe\">\n",
       "  <thead>\n",
       "    <tr style=\"text-align: right;\">\n",
       "      <th></th>\n",
       "      <th>prices.amountMax</th>\n",
       "      <th>prices.amountMin</th>\n",
       "    </tr>\n",
       "  </thead>\n",
       "  <tbody>\n",
       "    <tr>\n",
       "      <th>0</th>\n",
       "      <td>104.99</td>\n",
       "      <td>104.99</td>\n",
       "    </tr>\n",
       "    <tr>\n",
       "      <th>1</th>\n",
       "      <td>69.00</td>\n",
       "      <td>64.99</td>\n",
       "    </tr>\n",
       "    <tr>\n",
       "      <th>2</th>\n",
       "      <td>69.00</td>\n",
       "      <td>69.00</td>\n",
       "    </tr>\n",
       "    <tr>\n",
       "      <th>3</th>\n",
       "      <td>69.99</td>\n",
       "      <td>69.99</td>\n",
       "    </tr>\n",
       "    <tr>\n",
       "      <th>4</th>\n",
       "      <td>66.99</td>\n",
       "      <td>66.99</td>\n",
       "    </tr>\n",
       "  </tbody>\n",
       "</table>\n",
       "</div>"
      ],
      "text/plain": [
       "   prices.amountMax  prices.amountMin\n",
       "0            104.99            104.99\n",
       "1             69.00             64.99\n",
       "2             69.00             69.00\n",
       "3             69.99             69.99\n",
       "4             66.99             66.99"
      ]
     },
     "execution_count": 14,
     "metadata": {},
     "output_type": "execute_result"
    }
   ],
   "source": [
    "new_data.head()"
   ]
  },
  {
   "cell_type": "code",
   "execution_count": 15,
   "metadata": {},
   "outputs": [
    {
     "data": {
      "text/html": [
       "<div>\n",
       "<style scoped>\n",
       "    .dataframe tbody tr th:only-of-type {\n",
       "        vertical-align: middle;\n",
       "    }\n",
       "\n",
       "    .dataframe tbody tr th {\n",
       "        vertical-align: top;\n",
       "    }\n",
       "\n",
       "    .dataframe thead th {\n",
       "        text-align: right;\n",
       "    }\n",
       "</style>\n",
       "<table border=\"1\" class=\"dataframe\">\n",
       "  <thead>\n",
       "    <tr style=\"text-align: right;\">\n",
       "      <th></th>\n",
       "      <th>prices.amountMax</th>\n",
       "      <th>prices.amountMin</th>\n",
       "    </tr>\n",
       "  </thead>\n",
       "  <tbody>\n",
       "    <tr>\n",
       "      <th>127</th>\n",
       "      <td>139.99</td>\n",
       "      <td>139.99</td>\n",
       "    </tr>\n",
       "    <tr>\n",
       "      <th>155</th>\n",
       "      <td>39.99</td>\n",
       "      <td>39.99</td>\n",
       "    </tr>\n",
       "    <tr>\n",
       "      <th>311</th>\n",
       "      <td>419.95</td>\n",
       "      <td>419.95</td>\n",
       "    </tr>\n",
       "    <tr>\n",
       "      <th>407</th>\n",
       "      <td>150.00</td>\n",
       "      <td>150.00</td>\n",
       "    </tr>\n",
       "    <tr>\n",
       "      <th>623</th>\n",
       "      <td>279.95</td>\n",
       "      <td>279.95</td>\n",
       "    </tr>\n",
       "  </tbody>\n",
       "</table>\n",
       "</div>"
      ],
      "text/plain": [
       "     prices.amountMax  prices.amountMin\n",
       "127            139.99            139.99\n",
       "155             39.99             39.99\n",
       "311            419.95            419.95\n",
       "407            150.00            150.00\n",
       "623            279.95            279.95"
      ]
     },
     "execution_count": 15,
     "metadata": {},
     "output_type": "execute_result"
    }
   ],
   "source": [
    "used_data.head()"
   ]
  },
  {
   "cell_type": "code",
   "execution_count": 17,
   "metadata": {},
   "outputs": [
    {
     "data": {
      "text/html": [
       "<div>\n",
       "<style scoped>\n",
       "    .dataframe tbody tr th:only-of-type {\n",
       "        vertical-align: middle;\n",
       "    }\n",
       "\n",
       "    .dataframe tbody tr th {\n",
       "        vertical-align: top;\n",
       "    }\n",
       "\n",
       "    .dataframe thead th {\n",
       "        text-align: right;\n",
       "    }\n",
       "</style>\n",
       "<table border=\"1\" class=\"dataframe\">\n",
       "  <thead>\n",
       "    <tr style=\"text-align: right;\">\n",
       "      <th></th>\n",
       "      <th>prices.amountMax</th>\n",
       "      <th>prices.amountMin</th>\n",
       "    </tr>\n",
       "  </thead>\n",
       "  <tbody>\n",
       "    <tr>\n",
       "      <th>198</th>\n",
       "      <td>299.99</td>\n",
       "      <td>299.99</td>\n",
       "    </tr>\n",
       "    <tr>\n",
       "      <th>199</th>\n",
       "      <td>649.99</td>\n",
       "      <td>649.99</td>\n",
       "    </tr>\n",
       "    <tr>\n",
       "      <th>200</th>\n",
       "      <td>249.99</td>\n",
       "      <td>249.99</td>\n",
       "    </tr>\n",
       "    <tr>\n",
       "      <th>737</th>\n",
       "      <td>219.99</td>\n",
       "      <td>219.99</td>\n",
       "    </tr>\n",
       "    <tr>\n",
       "      <th>1002</th>\n",
       "      <td>549.99</td>\n",
       "      <td>549.99</td>\n",
       "    </tr>\n",
       "  </tbody>\n",
       "</table>\n",
       "</div>"
      ],
      "text/plain": [
       "      prices.amountMax  prices.amountMin\n",
       "198             299.99            299.99\n",
       "199             649.99            649.99\n",
       "200             249.99            249.99\n",
       "737             219.99            219.99\n",
       "1002            549.99            549.99"
      ]
     },
     "execution_count": 17,
     "metadata": {},
     "output_type": "execute_result"
    }
   ],
   "source": [
    "refub_data.head()"
   ]
  },
  {
   "cell_type": "code",
   "execution_count": null,
   "metadata": {},
   "outputs": [],
   "source": []
  },
  {
   "cell_type": "code",
   "execution_count": 9,
   "metadata": {
    "colab": {
     "base_uri": "https://localhost:8080/"
    },
    "id": "sILK2F8bvFnx",
    "outputId": "7a3e3cbe-742d-4a70-ac2d-942862cb20b4"
   },
   "outputs": [
    {
     "name": "stdout",
     "output_type": "stream",
     "text": [
      "                         id  prices.amountMax  prices.amountMin  \\\n",
      "0      AVphzgbJLJeJML43fA0o            104.99            104.99   \n",
      "1      AVpgMuGwLJeJML43KY_c             69.00             64.99   \n",
      "2      AVpgMuGwLJeJML43KY_c             69.00             69.00   \n",
      "3      AVpgMuGwLJeJML43KY_c             69.99             69.99   \n",
      "4      AVpgMuGwLJeJML43KY_c             66.99             66.99   \n",
      "...                     ...               ...               ...   \n",
      "14583  AVpgibRDLJeJML43PTZX             81.52             81.52   \n",
      "14584  AVpgibRDLJeJML43PTZX             85.99             85.99   \n",
      "14586  AVpgibRDLJeJML43PTZX             58.99             58.99   \n",
      "14588  AVpgibRDLJeJML43PTZX             58.99             58.99   \n",
      "14589  AVpgibRDLJeJML43PTZX             58.49             58.49   \n",
      "\n",
      "      prices.availability prices.condition prices.currency  \\\n",
      "0                     Yes                0             USD   \n",
      "1                In Stock                0             USD   \n",
      "2                In Stock                0             USD   \n",
      "3                     Yes                0             USD   \n",
      "4                     Yes                0             USD   \n",
      "...                   ...              ...             ...   \n",
      "14583            In Stock                0             USD   \n",
      "14584                 NaN                0             USD   \n",
      "14586            In Stock                0             USD   \n",
      "14588                 Yes                0             USD   \n",
      "14589            In Stock                0             USD   \n",
      "\n",
      "                                         prices.dateSeen  prices.isSale  \\\n",
      "0      2017-03-30T06:00:00Z,2017-03-10T22:00:00Z,2017...          False   \n",
      "1                                   2017-12-14T06:00:00Z           True   \n",
      "2                                   2017-09-08T05:00:00Z          False   \n",
      "3                                   2017-10-10T05:00:00Z          False   \n",
      "4                                   2017-08-28T07:00:00Z          False   \n",
      "...                                                  ...            ...   \n",
      "14583                               2017-11-12T08:00:00Z          False   \n",
      "14584          2017-06-23T02:00:00Z,2016-02-13T00:00:00Z          False   \n",
      "14586                               2017-12-14T06:00:00Z          False   \n",
      "14588  2017-10-10T19:00:00Z,2017-09-06T17:00:00Z,2017...          False   \n",
      "14589                               2018-03-05T11:00:00Z          False   \n",
      "\n",
      "      prices.merchant prices.shipping  ...  \\\n",
      "0         Bestbuy.com             NaN  ...   \n",
      "1         Walmart.com       Expedited  ...   \n",
      "2         Walmart.com       Expedited  ...   \n",
      "3         Bestbuy.com             NaN  ...   \n",
      "4         Bestbuy.com             NaN  ...   \n",
      "...               ...             ...  ...   \n",
      "14583     Walmart.com        Standard  ...   \n",
      "14584           Kmart             NaN  ...   \n",
      "14586     Walmart.com        Standard  ...   \n",
      "14588     Bestbuy.com             NaN  ...   \n",
      "14589     Walmart.com        Standard  ...   \n",
      "\n",
      "                                                    name primaryCategories  \\\n",
      "0      Sanus VLF410B1 10-Inch Super Slim Full-Motion ...       Electronics   \n",
      "1      Boytone - 2500W 2.1-Ch. Home Theater System - ...       Electronics   \n",
      "2      Boytone - 2500W 2.1-Ch. Home Theater System - ...       Electronics   \n",
      "3      Boytone - 2500W 2.1-Ch. Home Theater System - ...       Electronics   \n",
      "4      Boytone - 2500W 2.1-Ch. Home Theater System - ...       Electronics   \n",
      "...                                                  ...               ...   \n",
      "14583  naxa - 2.1-Channel Soundbar with 50-Watt Digit...       Electronics   \n",
      "14584  naxa - 2.1-Channel Soundbar with 50-Watt Digit...       Electronics   \n",
      "14586  naxa - 2.1-Channel Soundbar with 50-Watt Digit...       Electronics   \n",
      "14588  naxa - 2.1-Channel Soundbar with 50-Watt Digit...       Electronics   \n",
      "14589  naxa - 2.1-Channel Soundbar with 50-Watt Digit...       Electronics   \n",
      "\n",
      "                                              sourceURLs          upc  \\\n",
      "0      https://www.amazon.com/Sanus-VLF410B1-10-Inch-...  7.93796E+11   \n",
      "1      http://reviews.bestbuy.com/3545/4784804/review...  6.42015E+11   \n",
      "2      http://reviews.bestbuy.com/3545/4784804/review...  6.42015E+11   \n",
      "3      http://reviews.bestbuy.com/3545/4784804/review...  6.42015E+11   \n",
      "4      http://reviews.bestbuy.com/3545/4784804/review...  6.42015E+11   \n",
      "...                                                  ...          ...   \n",
      "14583  https://www.walmart.com/reviews/product/441840...  8.40005E+11   \n",
      "14584  https://www.walmart.com/reviews/product/441840...  8.40005E+11   \n",
      "14586  https://www.walmart.com/reviews/product/441840...  8.40005E+11   \n",
      "14588  https://www.walmart.com/reviews/product/441840...  8.40005E+11   \n",
      "14589  https://www.walmart.com/reviews/product/441840...  8.40005E+11   \n",
      "\n",
      "            weight Unnamed: 26 Unnamed: 27 Unnamed: 28 Unnamed: 29 Unnamed: 30  \n",
      "0      32.8 pounds         NaN         NaN         NaN         NaN         NaN  \n",
      "1        14 pounds         NaN         NaN         NaN         NaN         NaN  \n",
      "2        14 pounds         NaN         NaN         NaN         NaN         NaN  \n",
      "3        14 pounds         NaN         NaN         NaN         NaN         NaN  \n",
      "4        14 pounds         NaN         NaN         NaN         NaN         NaN  \n",
      "...            ...         ...         ...         ...         ...         ...  \n",
      "14583   4.1 pounds         NaN         NaN         NaN         NaN         NaN  \n",
      "14584   4.1 pounds         NaN         NaN         NaN         NaN         NaN  \n",
      "14586   4.1 pounds         NaN         NaN         NaN         NaN         NaN  \n",
      "14588   4.1 pounds         NaN         NaN         NaN         NaN         NaN  \n",
      "14589   4.1 pounds         NaN         NaN         NaN         NaN         NaN  \n",
      "\n",
      "[10833 rows x 31 columns]\n"
     ]
    }
   ],
   "source": [
    "# 3 differnt feature data for the categories\n",
    "\n",
    "new_X = new_data.iloc[:,[1,2,]].values \n",
    "#used_X = used_data[used_data]\n",
    "refub_X = refub_data.iloc[:, [3, 4]].values\n",
    "\n",
    "print(new_data)"
   ]
  },
  {
   "cell_type": "code",
   "execution_count": null,
   "metadata": {
    "colab": {
     "base_uri": "https://localhost:8080/",
     "height": 387
    },
    "id": "Ph6kjeYh_NhQ",
    "outputId": "5ca1543f-fa6c-4c2c-b781-7dcc9dfdadd1"
   },
   "outputs": [
    {
     "ename": "ValueError",
     "evalue": "ignored",
     "output_type": "error",
     "traceback": [
      "\u001b[0;31m---------------------------------------------------------------------------\u001b[0m",
      "\u001b[0;31mValueError\u001b[0m                                Traceback (most recent call last)",
      "\u001b[0;32m<ipython-input-19-b96635c91b9b>\u001b[0m in \u001b[0;36m<module>\u001b[0;34m()\u001b[0m\n\u001b[1;32m      4\u001b[0m \u001b[0;32mfor\u001b[0m \u001b[0mi\u001b[0m \u001b[0;32min\u001b[0m \u001b[0mrange\u001b[0m\u001b[0;34m(\u001b[0m\u001b[0;36m1\u001b[0m\u001b[0;34m,\u001b[0m\u001b[0;36m11\u001b[0m\u001b[0;34m)\u001b[0m\u001b[0;34m:\u001b[0m\u001b[0;34m\u001b[0m\u001b[0;34m\u001b[0m\u001b[0m\n\u001b[1;32m      5\u001b[0m   \u001b[0mkmeans\u001b[0m \u001b[0;34m=\u001b[0m \u001b[0mKMeans\u001b[0m\u001b[0;34m(\u001b[0m\u001b[0mn_clusters\u001b[0m \u001b[0;34m=\u001b[0m \u001b[0mi\u001b[0m\u001b[0;34m,\u001b[0m \u001b[0minit\u001b[0m \u001b[0;34m=\u001b[0m \u001b[0;34m'k-means++'\u001b[0m\u001b[0;34m,\u001b[0m\u001b[0mrandom_state\u001b[0m\u001b[0;34m=\u001b[0m \u001b[0;36m42\u001b[0m \u001b[0;34m)\u001b[0m\u001b[0;34m\u001b[0m\u001b[0;34m\u001b[0m\u001b[0m\n\u001b[0;32m----> 6\u001b[0;31m   \u001b[0mkmeans\u001b[0m\u001b[0;34m.\u001b[0m\u001b[0mfit\u001b[0m\u001b[0;34m(\u001b[0m\u001b[0mnew_data\u001b[0m\u001b[0;34m)\u001b[0m\u001b[0;34m\u001b[0m\u001b[0;34m\u001b[0m\u001b[0m\n\u001b[0m\u001b[1;32m      7\u001b[0m   \u001b[0mwcss\u001b[0m\u001b[0;34m.\u001b[0m\u001b[0mappend\u001b[0m\u001b[0;34m(\u001b[0m\u001b[0mkmeans\u001b[0m\u001b[0;34m.\u001b[0m\u001b[0minertia_\u001b[0m\u001b[0;34m)\u001b[0m\u001b[0;34m\u001b[0m\u001b[0;34m\u001b[0m\u001b[0m\n\u001b[1;32m      8\u001b[0m \u001b[0mplt\u001b[0m\u001b[0;34m.\u001b[0m\u001b[0mplot\u001b[0m\u001b[0;34m(\u001b[0m\u001b[0mrange\u001b[0m\u001b[0;34m(\u001b[0m\u001b[0;36m1\u001b[0m\u001b[0;34m,\u001b[0m\u001b[0;36m11\u001b[0m\u001b[0;34m)\u001b[0m\u001b[0;34m,\u001b[0m\u001b[0mwcss\u001b[0m\u001b[0;34m)\u001b[0m\u001b[0;34m\u001b[0m\u001b[0;34m\u001b[0m\u001b[0m\n",
      "\u001b[0;32m/usr/local/lib/python3.7/dist-packages/sklearn/cluster/_kmeans.py\u001b[0m in \u001b[0;36mfit\u001b[0;34m(self, X, y, sample_weight)\u001b[0m\n\u001b[1;32m   1141\u001b[0m             \u001b[0morder\u001b[0m\u001b[0;34m=\u001b[0m\u001b[0;34m\"C\"\u001b[0m\u001b[0;34m,\u001b[0m\u001b[0;34m\u001b[0m\u001b[0;34m\u001b[0m\u001b[0m\n\u001b[1;32m   1142\u001b[0m             \u001b[0mcopy\u001b[0m\u001b[0;34m=\u001b[0m\u001b[0mself\u001b[0m\u001b[0;34m.\u001b[0m\u001b[0mcopy_x\u001b[0m\u001b[0;34m,\u001b[0m\u001b[0;34m\u001b[0m\u001b[0;34m\u001b[0m\u001b[0m\n\u001b[0;32m-> 1143\u001b[0;31m             \u001b[0maccept_large_sparse\u001b[0m\u001b[0;34m=\u001b[0m\u001b[0;32mFalse\u001b[0m\u001b[0;34m,\u001b[0m\u001b[0;34m\u001b[0m\u001b[0;34m\u001b[0m\u001b[0m\n\u001b[0m\u001b[1;32m   1144\u001b[0m         )\n\u001b[1;32m   1145\u001b[0m \u001b[0;34m\u001b[0m\u001b[0m\n",
      "\u001b[0;32m/usr/local/lib/python3.7/dist-packages/sklearn/base.py\u001b[0m in \u001b[0;36m_validate_data\u001b[0;34m(self, X, y, reset, validate_separately, **check_params)\u001b[0m\n\u001b[1;32m    564\u001b[0m             \u001b[0;32mraise\u001b[0m \u001b[0mValueError\u001b[0m\u001b[0;34m(\u001b[0m\u001b[0;34m\"Validation should be done on X, y or both.\"\u001b[0m\u001b[0;34m)\u001b[0m\u001b[0;34m\u001b[0m\u001b[0;34m\u001b[0m\u001b[0m\n\u001b[1;32m    565\u001b[0m         \u001b[0;32melif\u001b[0m \u001b[0;32mnot\u001b[0m \u001b[0mno_val_X\u001b[0m \u001b[0;32mand\u001b[0m \u001b[0mno_val_y\u001b[0m\u001b[0;34m:\u001b[0m\u001b[0;34m\u001b[0m\u001b[0;34m\u001b[0m\u001b[0m\n\u001b[0;32m--> 566\u001b[0;31m             \u001b[0mX\u001b[0m \u001b[0;34m=\u001b[0m \u001b[0mcheck_array\u001b[0m\u001b[0;34m(\u001b[0m\u001b[0mX\u001b[0m\u001b[0;34m,\u001b[0m \u001b[0;34m**\u001b[0m\u001b[0mcheck_params\u001b[0m\u001b[0;34m)\u001b[0m\u001b[0;34m\u001b[0m\u001b[0;34m\u001b[0m\u001b[0m\n\u001b[0m\u001b[1;32m    567\u001b[0m             \u001b[0mout\u001b[0m \u001b[0;34m=\u001b[0m \u001b[0mX\u001b[0m\u001b[0;34m\u001b[0m\u001b[0;34m\u001b[0m\u001b[0m\n\u001b[1;32m    568\u001b[0m         \u001b[0;32melif\u001b[0m \u001b[0mno_val_X\u001b[0m \u001b[0;32mand\u001b[0m \u001b[0;32mnot\u001b[0m \u001b[0mno_val_y\u001b[0m\u001b[0;34m:\u001b[0m\u001b[0;34m\u001b[0m\u001b[0;34m\u001b[0m\u001b[0m\n",
      "\u001b[0;32m/usr/local/lib/python3.7/dist-packages/sklearn/utils/validation.py\u001b[0m in \u001b[0;36mcheck_array\u001b[0;34m(array, accept_sparse, accept_large_sparse, dtype, order, copy, force_all_finite, ensure_2d, allow_nd, ensure_min_samples, ensure_min_features, estimator)\u001b[0m\n\u001b[1;32m    744\u001b[0m                     \u001b[0marray\u001b[0m \u001b[0;34m=\u001b[0m \u001b[0marray\u001b[0m\u001b[0;34m.\u001b[0m\u001b[0mastype\u001b[0m\u001b[0;34m(\u001b[0m\u001b[0mdtype\u001b[0m\u001b[0;34m,\u001b[0m \u001b[0mcasting\u001b[0m\u001b[0;34m=\u001b[0m\u001b[0;34m\"unsafe\"\u001b[0m\u001b[0;34m,\u001b[0m \u001b[0mcopy\u001b[0m\u001b[0;34m=\u001b[0m\u001b[0;32mFalse\u001b[0m\u001b[0;34m)\u001b[0m\u001b[0;34m\u001b[0m\u001b[0;34m\u001b[0m\u001b[0m\n\u001b[1;32m    745\u001b[0m                 \u001b[0;32melse\u001b[0m\u001b[0;34m:\u001b[0m\u001b[0;34m\u001b[0m\u001b[0;34m\u001b[0m\u001b[0m\n\u001b[0;32m--> 746\u001b[0;31m                     \u001b[0marray\u001b[0m \u001b[0;34m=\u001b[0m \u001b[0mnp\u001b[0m\u001b[0;34m.\u001b[0m\u001b[0masarray\u001b[0m\u001b[0;34m(\u001b[0m\u001b[0marray\u001b[0m\u001b[0;34m,\u001b[0m \u001b[0morder\u001b[0m\u001b[0;34m=\u001b[0m\u001b[0morder\u001b[0m\u001b[0;34m,\u001b[0m \u001b[0mdtype\u001b[0m\u001b[0;34m=\u001b[0m\u001b[0mdtype\u001b[0m\u001b[0;34m)\u001b[0m\u001b[0;34m\u001b[0m\u001b[0;34m\u001b[0m\u001b[0m\n\u001b[0m\u001b[1;32m    747\u001b[0m             \u001b[0;32mexcept\u001b[0m \u001b[0mComplexWarning\u001b[0m \u001b[0;32mas\u001b[0m \u001b[0mcomplex_warning\u001b[0m\u001b[0;34m:\u001b[0m\u001b[0;34m\u001b[0m\u001b[0;34m\u001b[0m\u001b[0m\n\u001b[1;32m    748\u001b[0m                 raise ValueError(\n",
      "\u001b[0;32m/usr/local/lib/python3.7/dist-packages/pandas/core/generic.py\u001b[0m in \u001b[0;36m__array__\u001b[0;34m(self, dtype)\u001b[0m\n\u001b[1;32m   1991\u001b[0m \u001b[0;34m\u001b[0m\u001b[0m\n\u001b[1;32m   1992\u001b[0m     \u001b[0;32mdef\u001b[0m \u001b[0m__array__\u001b[0m\u001b[0;34m(\u001b[0m\u001b[0mself\u001b[0m\u001b[0;34m,\u001b[0m \u001b[0mdtype\u001b[0m\u001b[0;34m:\u001b[0m \u001b[0mNpDtype\u001b[0m \u001b[0;34m|\u001b[0m \u001b[0;32mNone\u001b[0m \u001b[0;34m=\u001b[0m \u001b[0;32mNone\u001b[0m\u001b[0;34m)\u001b[0m \u001b[0;34m->\u001b[0m \u001b[0mnp\u001b[0m\u001b[0;34m.\u001b[0m\u001b[0mndarray\u001b[0m\u001b[0;34m:\u001b[0m\u001b[0;34m\u001b[0m\u001b[0;34m\u001b[0m\u001b[0m\n\u001b[0;32m-> 1993\u001b[0;31m         \u001b[0;32mreturn\u001b[0m \u001b[0mnp\u001b[0m\u001b[0;34m.\u001b[0m\u001b[0masarray\u001b[0m\u001b[0;34m(\u001b[0m\u001b[0mself\u001b[0m\u001b[0;34m.\u001b[0m\u001b[0m_values\u001b[0m\u001b[0;34m,\u001b[0m \u001b[0mdtype\u001b[0m\u001b[0;34m=\u001b[0m\u001b[0mdtype\u001b[0m\u001b[0;34m)\u001b[0m\u001b[0;34m\u001b[0m\u001b[0;34m\u001b[0m\u001b[0m\n\u001b[0m\u001b[1;32m   1994\u001b[0m \u001b[0;34m\u001b[0m\u001b[0m\n\u001b[1;32m   1995\u001b[0m     def __array_wrap__(\n",
      "\u001b[0;31mValueError\u001b[0m: could not convert string to float: 'AVphzgbJLJeJML43fA0o'"
     ]
    }
   ],
   "source": [
    "# new data elbow\n"
   ]
  },
  {
   "cell_type": "markdown",
   "metadata": {
    "id": "999xNM5ju_pg"
   },
   "source": [
    "Hierarachical Cluster Method\n"
   ]
  },
  {
   "cell_type": "code",
   "execution_count": null,
   "metadata": {
    "colab": {
     "base_uri": "https://localhost:8080/"
    },
    "id": "JODcfqiK1-mr",
    "outputId": "5b37b8e3-bcf5-41e0-ca3f-f840c18a0dbb"
   },
   "outputs": [
    {
     "name": "stdout",
     "output_type": "stream",
     "text": [
      "new data                          id  prices.amountMax  prices.amountMin  \\\n",
      "0      AVphzgbJLJeJML43fA0o            104.99            104.99   \n",
      "1      AVpgMuGwLJeJML43KY_c             69.00             64.99   \n",
      "2      AVpgMuGwLJeJML43KY_c             69.00             69.00   \n",
      "3      AVpgMuGwLJeJML43KY_c             69.99             69.99   \n",
      "4      AVpgMuGwLJeJML43KY_c             66.99             66.99   \n",
      "...                     ...               ...               ...   \n",
      "14583  AVpgibRDLJeJML43PTZX             81.52             81.52   \n",
      "14584  AVpgibRDLJeJML43PTZX             85.99             85.99   \n",
      "14586  AVpgibRDLJeJML43PTZX             58.99             58.99   \n",
      "14588  AVpgibRDLJeJML43PTZX             58.99             58.99   \n",
      "14589  AVpgibRDLJeJML43PTZX             58.49             58.49   \n",
      "\n",
      "      prices.availability prices.condition prices.currency  \\\n",
      "0                     Yes                0             USD   \n",
      "1                In Stock                0             USD   \n",
      "2                In Stock                0             USD   \n",
      "3                     Yes                0             USD   \n",
      "4                     Yes                0             USD   \n",
      "...                   ...              ...             ...   \n",
      "14583            In Stock                0             USD   \n",
      "14584                 NaN                0             USD   \n",
      "14586            In Stock                0             USD   \n",
      "14588                 Yes                0             USD   \n",
      "14589            In Stock                0             USD   \n",
      "\n",
      "                                         prices.dateSeen  prices.isSale  \\\n",
      "0      2017-03-30T06:00:00Z,2017-03-10T22:00:00Z,2017...          False   \n",
      "1                                   2017-12-14T06:00:00Z           True   \n",
      "2                                   2017-09-08T05:00:00Z          False   \n",
      "3                                   2017-10-10T05:00:00Z          False   \n",
      "4                                   2017-08-28T07:00:00Z          False   \n",
      "...                                                  ...            ...   \n",
      "14583                               2017-11-12T08:00:00Z          False   \n",
      "14584          2017-06-23T02:00:00Z,2016-02-13T00:00:00Z          False   \n",
      "14586                               2017-12-14T06:00:00Z          False   \n",
      "14588  2017-10-10T19:00:00Z,2017-09-06T17:00:00Z,2017...          False   \n",
      "14589                               2018-03-05T11:00:00Z          False   \n",
      "\n",
      "      prices.merchant prices.shipping  ...  \\\n",
      "0         Bestbuy.com             NaN  ...   \n",
      "1         Walmart.com       Expedited  ...   \n",
      "2         Walmart.com       Expedited  ...   \n",
      "3         Bestbuy.com             NaN  ...   \n",
      "4         Bestbuy.com             NaN  ...   \n",
      "...               ...             ...  ...   \n",
      "14583     Walmart.com        Standard  ...   \n",
      "14584           Kmart             NaN  ...   \n",
      "14586     Walmart.com        Standard  ...   \n",
      "14588     Bestbuy.com             NaN  ...   \n",
      "14589     Walmart.com        Standard  ...   \n",
      "\n",
      "                                                    name primaryCategories  \\\n",
      "0      Sanus VLF410B1 10-Inch Super Slim Full-Motion ...       Electronics   \n",
      "1      Boytone - 2500W 2.1-Ch. Home Theater System - ...       Electronics   \n",
      "2      Boytone - 2500W 2.1-Ch. Home Theater System - ...       Electronics   \n",
      "3      Boytone - 2500W 2.1-Ch. Home Theater System - ...       Electronics   \n",
      "4      Boytone - 2500W 2.1-Ch. Home Theater System - ...       Electronics   \n",
      "...                                                  ...               ...   \n",
      "14583  naxa - 2.1-Channel Soundbar with 50-Watt Digit...       Electronics   \n",
      "14584  naxa - 2.1-Channel Soundbar with 50-Watt Digit...       Electronics   \n",
      "14586  naxa - 2.1-Channel Soundbar with 50-Watt Digit...       Electronics   \n",
      "14588  naxa - 2.1-Channel Soundbar with 50-Watt Digit...       Electronics   \n",
      "14589  naxa - 2.1-Channel Soundbar with 50-Watt Digit...       Electronics   \n",
      "\n",
      "                                              sourceURLs          upc  \\\n",
      "0      https://www.amazon.com/Sanus-VLF410B1-10-Inch-...  7.93796E+11   \n",
      "1      http://reviews.bestbuy.com/3545/4784804/review...  6.42015E+11   \n",
      "2      http://reviews.bestbuy.com/3545/4784804/review...  6.42015E+11   \n",
      "3      http://reviews.bestbuy.com/3545/4784804/review...  6.42015E+11   \n",
      "4      http://reviews.bestbuy.com/3545/4784804/review...  6.42015E+11   \n",
      "...                                                  ...          ...   \n",
      "14583  https://www.walmart.com/reviews/product/441840...  8.40005E+11   \n",
      "14584  https://www.walmart.com/reviews/product/441840...  8.40005E+11   \n",
      "14586  https://www.walmart.com/reviews/product/441840...  8.40005E+11   \n",
      "14588  https://www.walmart.com/reviews/product/441840...  8.40005E+11   \n",
      "14589  https://www.walmart.com/reviews/product/441840...  8.40005E+11   \n",
      "\n",
      "            weight Unnamed: 26 Unnamed: 27 Unnamed: 28 Unnamed: 29 Unnamed: 30  \n",
      "0      32.8 pounds         NaN         NaN         NaN         NaN         NaN  \n",
      "1        14 pounds         NaN         NaN         NaN         NaN         NaN  \n",
      "2        14 pounds         NaN         NaN         NaN         NaN         NaN  \n",
      "3        14 pounds         NaN         NaN         NaN         NaN         NaN  \n",
      "4        14 pounds         NaN         NaN         NaN         NaN         NaN  \n",
      "...            ...         ...         ...         ...         ...         ...  \n",
      "14583   4.1 pounds         NaN         NaN         NaN         NaN         NaN  \n",
      "14584   4.1 pounds         NaN         NaN         NaN         NaN         NaN  \n",
      "14586   4.1 pounds         NaN         NaN         NaN         NaN         NaN  \n",
      "14588   4.1 pounds         NaN         NaN         NaN         NaN         NaN  \n",
      "14589   4.1 pounds         NaN         NaN         NaN         NaN         NaN  \n",
      "\n",
      "[10833 rows x 31 columns]\n",
      "used_data                          id  prices.amountMax  prices.amountMin  \\\n",
      "127    AVpe8D1nLJeJML43yvxK            139.99            139.99   \n",
      "155    AVpfSgKO1cnluZ0-h5Jx             39.99             39.99   \n",
      "311    AVphULZ-LJeJML43ZZgr            419.95            419.95   \n",
      "407    AVpfKRGKLJeJML433rPX            150.00            150.00   \n",
      "623    AVwjdOdov8e3D1O-nnK9            279.95            279.95   \n",
      "...                     ...               ...               ...   \n",
      "13804  AVpgSaldLJeJML43Lywk             49.95             49.95   \n",
      "14010  AVpfg618LJeJML43-j8w             29.95             29.95   \n",
      "14055  AVpe4HP5ilAPnD_xP1pH             82.00             82.00   \n",
      "14311  AVz64mF6-jtxr-f30Hhj            389.95            389.95   \n",
      "14435  AVpe_RLJ1cnluZ0-bbL3            100.00            100.00   \n",
      "\n",
      "      prices.availability prices.condition prices.currency  \\\n",
      "127                   yes                1             USD   \n",
      "155                   yes                1             USD   \n",
      "311              In Stock                1             USD   \n",
      "407              In Stock                1             USD   \n",
      "623              In Stock                1             USD   \n",
      "...                   ...              ...             ...   \n",
      "13804            In Stock                1             USD   \n",
      "14010            In Stock                1             USD   \n",
      "14055                 NaN                1             USD   \n",
      "14311            In Stock                1             USD   \n",
      "14435                 yes                1             USD   \n",
      "\n",
      "                                         prices.dateSeen  prices.isSale  \\\n",
      "127            2017-09-07T10:00:00Z,2017-08-29T11:00:00Z          False   \n",
      "155            2017-08-24T16:00:00Z,2017-08-28T10:00:00Z          False   \n",
      "311    2017-09-20T14:00:00Z,2017-08-22T04:00:00Z,2017...          False   \n",
      "407                                 2017-09-20T17:00:00Z          False   \n",
      "623            2017-08-22T11:00:00Z,2017-08-19T03:00:00Z          False   \n",
      "...                                                  ...            ...   \n",
      "13804  2017-09-20T17:00:00Z,2017-08-22T12:00:00Z,2017...          False   \n",
      "14010                               2017-08-22T04:00:00Z          False   \n",
      "14055                               2016-04-24T00:00:00Z          False   \n",
      "14311          2017-08-22T11:00:00Z,2017-08-19T07:00:00Z          False   \n",
      "14435                               2017-07-18T14:00:00Z          False   \n",
      "\n",
      "         prices.merchant                                   prices.shipping  \\\n",
      "127               kmaacp                                               NaN   \n",
      "155        goldstar_tech                                              FREE   \n",
      "311     bhphotovideo.com  Free Expedited Shipping for most orders over $49   \n",
      "407     bhphotovideo.com  Free Expedited Shipping for most orders over $49   \n",
      "623     bhphotovideo.com  Free Expedited Shipping for most orders over $49   \n",
      "...                  ...                                               ...   \n",
      "13804   bhphotovideo.com  Free Expedited Shipping for most orders over $49   \n",
      "14010   bhphotovideo.com  Free Expedited Shipping for most orders over $49   \n",
      "14055                NaN                                          USD 8.00   \n",
      "14311   bhphotovideo.com  Free Expedited Shipping for most orders over $49   \n",
      "14435  riversedgestore14                                              FREE   \n",
      "\n",
      "       ...                                               name  \\\n",
      "127    ...        Panamax - 11-Outlet Surge Protector - Black   \n",
      "155    ...               SlideLITE Camera Strap SLL-1 (Black)   \n",
      "311    ...  Chief PDRUB Wall Mount for Flat Panel Display ...   \n",
      "407    ...  Sony SRSHG1/BLK Hi-Res Wireless Speaker- Charc...   \n",
      "623    ...    UBD-M9500 HDR UHD Upscaling Blu-ray Disc Player   \n",
      "...    ...                                                ...   \n",
      "13804  ...  Flexson - Wall Mount for Sonos PLAY:1 Speakers...   \n",
      "14010  ...        CORSAIR M65 Pro RGB - FPS Gaming Mouse - 12   \n",
      "14055  ...    instax mini Rainbow Instant Film (10 Exposures)   \n",
      "14311  ...  Apple - Pre-owned 9.7-inch iPad Pro - 32GB - S...   \n",
      "14435  ...     Samsung 24 Class HD (720P) LED TV (UN24H4500)\"   \n",
      "\n",
      "      primaryCategories                                         sourceURLs  \\\n",
      "127         Electronics  http://reviews.bestbuy.com/3545/6581925/review...   \n",
      "155         Electronics  http://reviews.bestbuy.com/3545/5123402/review...   \n",
      "311         Electronics  https://www.bhphotovideo.com/c/product/408639-...   \n",
      "407         Electronics  http://reviews.bestbuy.com/3545/4836819/review...   \n",
      "623         Electronics  https://www.ebay.com/urw/product-reviews/87589...   \n",
      "...                 ...                                                ...   \n",
      "13804       Electronics  http://www.bestbuy.com/site/flexson-wall-mount...   \n",
      "14010       Electronics  https://reviews.bestbuy.com/3545/5092004/revie...   \n",
      "14055       Electronics  http://reviews.bestbuy.com/3545/1319376/review...   \n",
      "14311       Electronics  There are too many sourceURLs objects to show....   \n",
      "14435       Electronics  https://www.walmart.com/ip/Samsung-24-Class-HD...   \n",
      "\n",
      "                                   upc  \\\n",
      "127                        50616008945   \n",
      "155                         8.5511E+11   \n",
      "311                        8.41872E+11   \n",
      "407                        27242895300   \n",
      "623                        8.87276E+11   \n",
      "...                                ...   \n",
      "13804                      7.13541E+11   \n",
      "14010                      8.43591E+11   \n",
      "14055                      74101944662   \n",
      "14311                      7.62932E+11   \n",
      "14435  887,276,034,171,696,000,000,000   \n",
      "\n",
      "                                                  weight Unnamed: 26  \\\n",
      "127                                         11.79 pounds         NaN   \n",
      "155                                               5.0 oz         NaN   \n",
      "311                                          78.1 pounds         NaN   \n",
      "407                                           2.5 pounds         NaN   \n",
      "623                                               4.2 lb         NaN   \n",
      "...                                                  ...         ...   \n",
      "13804                                           5 pounds         NaN   \n",
      "14010  5.92 ounces                                   ...         NaN   \n",
      "14055                                               41 g         NaN   \n",
      "14311                                        15.3 ounces         NaN   \n",
      "14435                                        11.2 pounds         NaN   \n",
      "\n",
      "      Unnamed: 27 Unnamed: 28 Unnamed: 29 Unnamed: 30  \n",
      "127           NaN         NaN         NaN         NaN  \n",
      "155           NaN         NaN         NaN         NaN  \n",
      "311           NaN         NaN         NaN         NaN  \n",
      "407           NaN         NaN         NaN         NaN  \n",
      "623           NaN         NaN         NaN         NaN  \n",
      "...           ...         ...         ...         ...  \n",
      "13804         NaN         NaN         NaN         NaN  \n",
      "14010         NaN         NaN         NaN         NaN  \n",
      "14055         NaN         NaN         NaN         NaN  \n",
      "14311         NaN         NaN         NaN         NaN  \n",
      "14435         NaN         NaN         NaN         NaN  \n",
      "\n",
      "[449 rows x 31 columns]\n",
      "refub_data                          id  prices.amountMax  prices.amountMin  \\\n",
      "198    AVpjQLlKLJeJML43tRja            299.99            299.99   \n",
      "199    AVpjQLlKLJeJML43tRja            649.99            649.99   \n",
      "200    AVpjQLlKLJeJML43tRja            249.99            249.99   \n",
      "737    AVpfBVx6LJeJML430omC            219.99            219.99   \n",
      "1002   AVqVGZS6QMlgsOJE6eUd            549.99            549.99   \n",
      "1003   AVqVGZS6QMlgsOJE6eUd            279.99            279.99   \n",
      "1005   AVqVGZS6QMlgsOJE6eUd            219.99            219.99   \n",
      "1182   AVqVGaFnv8e3D1O-ldFx            745.99            745.99   \n",
      "2775   AVwvEaC8U2_QcyX9R3Eh            319.99            319.99   \n",
      "3586   AVphIUMBilAPnD_x1qCs            349.98            349.98   \n",
      "6559   AVpfSiz2LJeJML436Xzf            119.99            119.99   \n",
      "7271   AVs1TrdmU2_QcyX9PuRU            659.99            659.99   \n",
      "8441   AVpe3-Sr1cnluZ0-Yu4-            339.99            339.99   \n",
      "8450   AVpe3-Sr1cnluZ0-Yu4-            264.99            264.99   \n",
      "12547  AVpfTLmH1cnluZ0-iHRH            649.99            649.99   \n",
      "12627  AVpfTLmH1cnluZ0-iHRH            599.99            599.99   \n",
      "\n",
      "      prices.availability prices.condition prices.currency  \\\n",
      "198                   Yes                2             USD   \n",
      "199                   Yes                2             USD   \n",
      "200                   Yes                2             USD   \n",
      "737                   Yes                2             USD   \n",
      "1002                  Yes                2             USD   \n",
      "1003                  Yes                2             USD   \n",
      "1005                  Yes                2             USD   \n",
      "1182                  Yes                2             USD   \n",
      "2775                  Yes                2             USD   \n",
      "3586                  Yes                2             USD   \n",
      "6559                  Yes                2             USD   \n",
      "7271                  Yes                2             USD   \n",
      "8441                  Yes                2             USD   \n",
      "8450                  Yes                2             USD   \n",
      "12547                 Yes                2             USD   \n",
      "12627                 Yes                2             USD   \n",
      "\n",
      "                                         prices.dateSeen  prices.isSale  \\\n",
      "198    2017-04-04T04:00:00Z,2017-03-30T10:00:00Z,2017...          False   \n",
      "199                                 2017-03-10T22:00:00Z          False   \n",
      "200    2017-10-10T08:00:00Z,2017-09-06T18:00:00Z,2017...          False   \n",
      "737    2017-10-10T07:00:00Z,2017-08-28T11:00:00Z,2017...          False   \n",
      "1002                                2017-03-10T15:00:00Z          False   \n",
      "1003   2017-04-04T04:00:00Z,2017-03-30T10:00:00Z,2017...          False   \n",
      "1005   2017-10-10T01:00:00Z,2017-09-18T07:00:00Z,2017...          False   \n",
      "1182   2017-10-10T02:00:00Z,2017-09-12T03:00:00Z,2017...          False   \n",
      "2775   2017-10-10T08:00:00Z,2017-09-12T03:00:00Z,2017...          False   \n",
      "3586   2017-10-10T05:00:00Z,2017-08-28T07:00:00Z,2017...           True   \n",
      "6559           2017-03-04T10:00:00Z,2017-03-02T23:00:00Z           True   \n",
      "7271   2017-10-10T12:00:00Z,2017-09-12T04:00:00Z,2017...          False   \n",
      "8441   2017-08-01T04:00:00Z,2017-07-26T16:00:00Z,2017...           True   \n",
      "8450   2017-10-10T03:00:00Z,2017-08-12T06:00:00Z,2017...           True   \n",
      "12547  2017-07-31T23:00:00Z,2017-08-01T07:00:00Z,2017...          False   \n",
      "12627  2017-10-10T12:00:00Z,2017-09-12T04:00:00Z,2017...          False   \n",
      "\n",
      "      prices.merchant prices.shipping  ...  \\\n",
      "198       Bestbuy.com             NaN  ...   \n",
      "199       Bestbuy.com             NaN  ...   \n",
      "200       Bestbuy.com             NaN  ...   \n",
      "737       Bestbuy.com             NaN  ...   \n",
      "1002      Bestbuy.com             NaN  ...   \n",
      "1003      Bestbuy.com             NaN  ...   \n",
      "1005      Bestbuy.com             NaN  ...   \n",
      "1182      Bestbuy.com             NaN  ...   \n",
      "2775      Bestbuy.com             NaN  ...   \n",
      "3586      Bestbuy.com             NaN  ...   \n",
      "6559      Bestbuy.com             NaN  ...   \n",
      "7271      Bestbuy.com             NaN  ...   \n",
      "8441      Bestbuy.com             NaN  ...   \n",
      "8450      Bestbuy.com             NaN  ...   \n",
      "12547     Bestbuy.com             NaN  ...   \n",
      "12627     Bestbuy.com             NaN  ...   \n",
      "\n",
      "                                                    name primaryCategories  \\\n",
      "198              Apple - Pre-Owned iPad 3 - 64GB - Black       Electronics   \n",
      "199              Apple - Pre-Owned iPad 3 - 64GB - Black       Electronics   \n",
      "200              Apple - Pre-Owned iPad 3 - 64GB - Black       Electronics   \n",
      "737    Olympus - Refurbished 14.0-Megapixel Digital C...       Electronics   \n",
      "1002             Apple - Pre-Owned iPad 3 - 32GB - White       Electronics   \n",
      "1003             Apple - Pre-Owned iPad 3 - 32GB - White       Electronics   \n",
      "1005             Apple - Pre-Owned iPad 3 - 32GB - White       Electronics   \n",
      "1182   Acer - 2-in-1 15.6 Refurbished Touch-Screen La...       Electronics   \n",
      "2775   Apple - Pre-Owned iPad mini 4 - 16GB - Space gray       Electronics   \n",
      "3586   MartinLogan - Dynamo 500 10 360-Watt Powered S...       Electronics   \n",
      "6559   Beats Solo 2 Wireless On-Ear Headphone - White...       Electronics   \n",
      "7271   Details About Apple Macbook Pro 15.4 Laptop 50...       Electronics   \n",
      "8441           3TB AirPort Time Capsule (5th Generation)       Electronics   \n",
      "8450           3TB AirPort Time Capsule (5th Generation)       Electronics   \n",
      "12547  Apple - MacBook Pro 13.3 Pre-owned Laptop - In...       Electronics   \n",
      "12627  Apple - MacBook Pro 13.3 Pre-owned Laptop - In...       Electronics   \n",
      "\n",
      "                                              sourceURLs          upc  \\\n",
      "198    https://reviews.bestbuy.com/3545/5656310/revie...  7.62932E+11   \n",
      "199    https://reviews.bestbuy.com/3545/5656310/revie...  7.62932E+11   \n",
      "200    https://reviews.bestbuy.com/3545/5656310/revie...  7.62932E+11   \n",
      "737    http://reviews.bestbuy.com/3545/1233313/review...   1.8101E+11   \n",
      "1002   http://www.bestbuy.com/site/apple-refurbished-...  7.62932E+11   \n",
      "1003   http://www.bestbuy.com/site/apple-refurbished-...  7.62932E+11   \n",
      "1005   http://www.bestbuy.com/site/apple-refurbished-...  7.62932E+11   \n",
      "1182   https://www.walmart.com/ip/Acer-Aspire-R-15-R5...  8.41631E+11   \n",
      "2775   http://reviews.bestbuy.com/3545/5823055/review...  6.57597E+11   \n",
      "3586   https://reviews.bestbuy.com/3545/9392301/revie...  8.77929E+11   \n",
      "6559   http://reviews.bestbuy.com/3545/9931099/review...  8.48447E+11   \n",
      "7271   https://www.amazon.com/Apple-MacBook-MC371LL-1...  6.57597E+11   \n",
      "8441   http://www.frys.com/product/7721508,https://ww...   8.8591E+11   \n",
      "8450   http://www.frys.com/product/7721508,https://ww...   8.8591E+11   \n",
      "12547  There are too many sourceURLs objects to show....  8.85909E+11   \n",
      "12627  There are too many sourceURLs objects to show....  8.85909E+11   \n",
      "\n",
      "               weight Unnamed: 26 Unnamed: 27 Unnamed: 28 Unnamed: 29  \\\n",
      "198      16.48 ounces         NaN         NaN         NaN         NaN   \n",
      "199      16.48 ounces         NaN         NaN         NaN         NaN   \n",
      "200      16.48 ounces         NaN         NaN         NaN         NaN   \n",
      "737    0.91875 pounds         NaN         NaN         NaN         NaN   \n",
      "1002     16.48 ounces         NaN         NaN         NaN         NaN   \n",
      "1003     16.48 ounces         NaN         NaN         NaN         NaN   \n",
      "1005     16.48 ounces         NaN         NaN         NaN         NaN   \n",
      "1182      4.96 pounds         NaN         NaN         NaN         NaN   \n",
      "2775     16.48 ounces         NaN         NaN         NaN         NaN   \n",
      "3586          28.5 lb         NaN         NaN         NaN         NaN   \n",
      "6559       1.8 pounds         NaN         NaN         NaN         NaN   \n",
      "7271      5.51 pounds         NaN         NaN         NaN         NaN   \n",
      "8441         3.26 lbs         NaN         NaN         NaN         NaN   \n",
      "8450         3.26 lbs         NaN         NaN         NaN         NaN   \n",
      "12547      4.5 pounds         NaN         NaN         NaN         NaN   \n",
      "12627      4.5 pounds         NaN         NaN         NaN         NaN   \n",
      "\n",
      "      Unnamed: 30  \n",
      "198           NaN  \n",
      "199           NaN  \n",
      "200           NaN  \n",
      "737           NaN  \n",
      "1002          NaN  \n",
      "1003          NaN  \n",
      "1005          NaN  \n",
      "1182          NaN  \n",
      "2775          NaN  \n",
      "3586          NaN  \n",
      "6559          NaN  \n",
      "7271          NaN  \n",
      "8441          NaN  \n",
      "8450          NaN  \n",
      "12547         NaN  \n",
      "12627         NaN  \n",
      "\n",
      "[16 rows x 31 columns]\n"
     ]
    }
   ],
   "source": [
    "#split data into groups\n",
    "data.loc[data['prices.condition'] == 'New','prices.condition'] = 0\n",
    "data.loc[data['prices.condition'] == 'Used','prices.condition'] = 1\n",
    "data.loc[data['prices.condition'] == 'Refurbished','prices.condition'] = 2\n",
    "#data.head()\n",
    "new_data = data[data['prices.condition'] == 0]\n",
    "used_data = data[data['prices.condition']==1]\n",
    "refub_data = data[data['prices.condition']==2]\n",
    "\n",
    "print('new data',new_data)\n",
    "print('used_data',used_data)\n",
    "print('refub_data',refub_data)\n",
    "\n",
    "#products = data.groupby('prices.condition')['prices.condition']\n",
    "#print(products)"
   ]
  },
  {
   "cell_type": "code",
   "execution_count": null,
   "metadata": {
    "colab": {
     "base_uri": "https://localhost:8080/",
     "height": 271
    },
    "id": "o09pT5scF33p",
    "outputId": "840066e9-3266-4089-9f74-6c294be09dbe"
   },
   "outputs": [
    {
     "data": {
      "image/png": "[encoded data removed]",
      "text/plain": [
       "<Figure size 432x288 with 1 Axes>"
      ]
     },
     "metadata": {
      "needs_background": "light"
     },
     "output_type": "display_data"
    }
   ],
   "source": [
    "import scipy.cluster.hierarchy as sch\n",
    "dendrogram = sch.dendrogram(sch.linkage(X, method = 'ward'))\n"
   ]
  },
  {
   "cell_type": "code",
   "execution_count": null,
   "metadata": {
    "colab": {
     "base_uri": "https://localhost:8080/"
    },
    "id": "-F_yCBUhHyaT",
    "outputId": "c4d1fb61-993a-48dd-f070-5ba71aac62af"
   },
   "outputs": [
    {
     "data": {
      "text/plain": [
       "array([1, 1, 1, ..., 1, 1, 1])"
      ]
     },
     "execution_count": 12,
     "metadata": {},
     "output_type": "execute_result"
    }
   ],
   "source": [
    "from sklearn.cluster import AgglomerativeClustering\n",
    "hc = AgglomerativeClustering(n_clusters = 4, affinity = 'euclidean', linkage = 'ward')\n",
    "y_hc = hc.fit_predict(X)\n",
    "y_hc\n"
   ]
  }
 ],
 "metadata": {
  "colab": {
   "name": "ML_FINAL_PROJECT",
   "provenance": []
  },
  "kernelspec": {
   "display_name": "Python 3 (ipykernel)",
   "language": "python",
   "name": "python3"
  },
  "language_info": {
   "codemirror_mode": {
    "name": "ipython",
    "version": 3
   },
   "file_extension": ".py",
   "mimetype": "text/x-python",
   "name": "python",
   "nbconvert_exporter": "python",
   "pygments_lexer": "ipython3",
   "version": "3.8.5"
  }
 },
 "nbformat": 4,
 "nbformat_minor": 1
}
