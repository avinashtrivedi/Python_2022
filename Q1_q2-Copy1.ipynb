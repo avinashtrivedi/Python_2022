{
 "cells": [
  {
   "cell_type": "code",
   "execution_count": 1,
   "id": "c3f60a91",
   "metadata": {},
   "outputs": [
    {
     "name": "stdout",
     "output_type": "stream",
     "text": [
      "Financial Analysis\n",
      "------------------------------\n",
      "Total Months: 86\n",
      "Total: $22564198\n",
      "Average Change: $-8311.11\n",
      "Greatest Increase in Profits: Aug-16 ($1862002.0)\n",
      "Greatest Decrease in Profits: Feb-14 ($-1825558.0)\n"
     ]
    }
   ],
   "source": [
    "import pandas as pd\n",
    "\n",
    "# shift+tab\n",
    "# .tab\n",
    "df = pd.read_csv('budget_data.csv')\n",
    "\n",
    "month_total = len(df['Date'])\n",
    "\n",
    "total = sum(df['Profit/Losses'])\n",
    "\n",
    "df['Next'] = df['Profit/Losses'].shift(-1)\n",
    "df['Changes'] = df['Next'] - df['Profit/Losses']\n",
    "df['Date'] = df['Date'].shift(-1)\n",
    "df.dropna(inplace=True)\n",
    "change_avg = round(df['Changes'].mean(),2)\n",
    "\n",
    "x = df.loc[df['Changes'].argmax()]\n",
    "\n",
    "g_date = x['Date']\n",
    "\n",
    "g_change = x['Changes']\n",
    "\n",
    "y = df.loc[df['Changes'].argmin()]\n",
    "\n",
    "d_date = y['Date']\n",
    "\n",
    "d_change = y['Changes']\n",
    "\n",
    "print('Financial Analysis')\n",
    "print(30*'-')\n",
    "print('Total Months:',month_total)\n",
    "print(f'Total: ${total}')\n",
    "print(f'Average Change: ${change_avg}')\n",
    "print(f'Greatest Increase in Profits: {g_date} (${g_change})')\n",
    "print(f'Greatest Decrease in Profits: {d_date} (${d_change})')\n",
    "\n",
    "fp = open('Q1.txt','w')\n",
    "fp.write('Financial Analysis')\n",
    "fp.write('\\n')\n",
    "fp.write(30*'-')\n",
    "fp.write('\\n')\n",
    "fp.write(f'Total Months: {month_total}')\n",
    "fp.write('\\n')\n",
    "fp.write(f'Total: ${total}')\n",
    "fp.write('\\n')\n",
    "fp.write(f'Average Change: ${change_avg}')\n",
    "fp.write('\\n')\n",
    "fp.write(f'Greatest Increase in Profits: {g_date} (${g_change})')\n",
    "fp.write('\\n')\n",
    "fp.write(f'Greatest Decrease in Profits: {d_date} (${d_change})')\n",
    "fp.close()"
   ]
  },
  {
   "cell_type": "markdown",
   "id": "70affa82",
   "metadata": {},
   "source": [
    "# Q.2"
   ]
  },
  {
   "cell_type": "code",
   "execution_count": 2,
   "id": "45a0a1e7",
   "metadata": {},
   "outputs": [
    {
     "name": "stdout",
     "output_type": "stream",
     "text": [
      "Election Results\n",
      "------------------------------\n",
      "Total Votes: 369711\n",
      "------------------------------\n",
      "Charles Casper Stockham: 23.049% (85213)\n",
      "Diana DeGette: 73.812% (272892)\n",
      "Raymon Anthony Doane: 3.139% (11606)\n",
      "------------------------------\n",
      "Winner: Diana DeGette\n",
      "------------------------------\n"
     ]
    }
   ],
   "source": [
    "import pandas as pd\n",
    "df = pd.read_csv('election_data.csv')\n",
    "total = len(df)\n",
    "x = df['Candidate'].value_counts()\n",
    "\n",
    "winner = x.index[0]\n",
    "\n",
    "\n",
    "print(\"Election Results\")\n",
    "print(30*'-')\n",
    "print(f\"Total Votes: {total}\")\n",
    "print(30*'-')\n",
    "for name in sorted(x.index):\n",
    "    votes = x[name]\n",
    "    print(f\"{name}: {round(votes*100/len(df),3)}% ({votes})\")\n",
    "print(30*'-')\n",
    "print(f'Winner: {winner}')\n",
    "print(30*'-')\n",
    "\n",
    "fp = open('Q2.txt','w')\n",
    "\n",
    "fp.write(\"Election Results\")\n",
    "fp.write('\\n')\n",
    "fp.write(30*'-')\n",
    "fp.write('\\n')\n",
    "fp.write(f\"Total Votes: {total}\")\n",
    "fp.write('\\n')\n",
    "fp.write(30*'-')\n",
    "fp.write('\\n')\n",
    "for name in sorted(x.index):\n",
    "    votes = x[name]\n",
    "    fp.write(f\"{name}: {round(votes*100/len(df),3)}% ({votes})\")\n",
    "    fp.write('\\n')\n",
    "fp.write(30*'-')\n",
    "fp.write('\\n')\n",
    "fp.write(f'Winner: {winner}')\n",
    "fp.write('\\n')\n",
    "fp.write(30*'-')\n",
    "fp.close()"
   ]
  },
  {
   "cell_type": "code",
   "execution_count": null,
   "id": "aa094bf5",
   "metadata": {},
   "outputs": [],
   "source": []
  }
 ],
 "metadata": {
  "kernelspec": {
   "display_name": "Python 3 (ipykernel)",
   "language": "python",
   "name": "python3"
  },
  "language_info": {
   "codemirror_mode": {
    "name": "ipython",
    "version": 3
   },
   "file_extension": ".py",
   "mimetype": "text/x-python",
   "name": "python",
   "nbconvert_exporter": "python",
   "pygments_lexer": "ipython3",
   "version": "3.8.5"
  }
 },
 "nbformat": 4,
 "nbformat_minor": 5
}
