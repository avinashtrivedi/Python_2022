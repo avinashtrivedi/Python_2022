{
 "cells": [
  {
   "cell_type": "code",
   "execution_count": 14,
   "id": "3796ff20",
   "metadata": {},
   "outputs": [],
   "source": [
    "import json"
   ]
  },
  {
   "cell_type": "code",
   "execution_count": 15,
   "id": "44e492cc",
   "metadata": {},
   "outputs": [],
   "source": [
    "with open(r\"D:\\OneDrive - NITT\\Custom_Download\\data_data_response.json\",'r') as fp:\n",
    "    data = json.load(fp)"
   ]
  },
  {
   "cell_type": "code",
   "execution_count": 16,
   "id": "4ff97576",
   "metadata": {},
   "outputs": [],
   "source": [
    "for d in data:\n",
    "    try:\n",
    "        d['answers']['agent_star_rating']['selected_options'] = list(d['answers']['agent_star_rating']['selected_options'].values())\n",
    "        d['answers']['areas_of_improvement']['selected_options'] = list(d['answers']['areas_of_improvement']['selected_options'].values())\n",
    "    except:\n",
    "        pass"
   ]
  },
  {
   "cell_type": "code",
   "execution_count": 17,
   "id": "7d98dfee",
   "metadata": {},
   "outputs": [],
   "source": [
    "# import json\n",
    "\n",
    "# with open('data.json', 'w') as fp:\n",
    "#     json.dump(data, fp)"
   ]
  },
  {
   "cell_type": "code",
   "execution_count": 23,
   "id": "3b90a85c",
   "metadata": {},
   "outputs": [],
   "source": [
    "for d in data:\n",
    "    with open('data.json', 'a',encoding='utf8') as fp:\n",
    "        fp.write(str(d))\n",
    "        fp.write('\\n')"
   ]
  },
  {
   "cell_type": "code",
   "execution_count": null,
   "id": "7874ce9b",
   "metadata": {},
   "outputs": [],
   "source": []
  }
 ],
 "metadata": {
  "kernelspec": {
   "display_name": "Python 3 (ipykernel)",
   "language": "python",
   "name": "python3"
  },
  "language_info": {
   "codemirror_mode": {
    "name": "ipython",
    "version": 3
   },
   "file_extension": ".py",
   "mimetype": "text/x-python",
   "name": "python",
   "nbconvert_exporter": "python",
   "pygments_lexer": "ipython3",
   "version": "3.9.12"
  }
 },
 "nbformat": 4,
 "nbformat_minor": 5
}
