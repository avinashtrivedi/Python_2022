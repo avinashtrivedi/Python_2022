{
 "cells": [
  {
   "cell_type": "code",
   "execution_count": 4,
   "metadata": {},
   "outputs": [
    {
     "name": "stdout",
     "output_type": "stream",
     "text": [
      "whats your name: abc\n",
      "How old your are: 23\n",
      "Do you have any sibling yes/no: yes\n",
      "How many siblings do you have: 2\n",
      "\n",
      "\n",
      "Sibling 1 details:-\n",
      "-------------------------\n",
      "Name of Sibling: rr\n",
      "Age of Sibling: 33\n",
      "Boy or Girl: boy\n",
      "Favorite Game you want to play with him/her: chess\n",
      "-------------------------\n",
      "\n",
      "\n",
      "Sibling 2 details:-\n",
      "-------------------------\n",
      "Name of Sibling: ll\n",
      "Age of Sibling: 22\n",
      "Boy or Girl: girl\n",
      "Favorite Game you want to play with him/her: chess\n",
      "-------------------------\n",
      "\n",
      "\n",
      "Are you working? Yes/No: yes\n",
      "Whats your salary: 1000\n",
      "Do you like your Job yes/no: yes\n",
      "Congrats\n",
      "How many Programming language do you know: 2\n",
      "Name of Programming language 1: python\n",
      "Rate yourself between 1-10 in python: 3\n",
      "Name of Programming language 2: java\n",
      "Rate yourself between 1-10 in java: 10\n",
      "\n",
      "\n",
      "############Summary Report###################\n",
      "My Name is: abc\n",
      "My Age is: 23\n",
      "Do you have any sibling: yes \n",
      "\n",
      "Name       Age        boy/girl   game      \n",
      "---------------------------------------------\n",
      "rr         33         boy        chess     \n",
      "ll         22         girl       chess     \n",
      "\n",
      "Are you working? Yes/No: yes\n",
      "Whats your salary: 1000\n",
      "Do you like your Job yes/no: yes\n",
      "\n",
      "How many Programming language do you know: 2\n",
      "\n",
      "Programming     rating    \n",
      "--------------------\n",
      "python          3         \n",
      "java            10        \n"
     ]
    }
   ],
   "source": [
    "name = input(\"whats your name: \")\n",
    "age = int(input('How old your are: '))\n",
    "sib = input('Do you have any sibling yes/no: ')\n",
    "\n",
    "sib_details = []\n",
    "lang_list = []\n",
    "if sib.upper() == 'YES':\n",
    "    n = int(input(\"How many siblings do you have: \"))\n",
    "    print('\\n')\n",
    "    for i in range(n):\n",
    "        print(f'Sibling {i+1} details:-')\n",
    "        print('-'*25)\n",
    "        sb_name = input('Name of Sibling: ')\n",
    "        sb_age = input('Age of Sibling: ')\n",
    "        sb_mf  = input('Boy or Girl: ')\n",
    "        sb_game  = input('Favorite Game you want to play with him/her: ')\n",
    "        \n",
    "        sib_details.append((sb_name,sb_age,sb_mf,sb_game))\n",
    "        \n",
    "        print('-'*25)\n",
    "        print('\\n')\n",
    "    \n",
    "elif sib.upper()=='NO':\n",
    "    choice = input('Do you ever wish to had siblings: ')\n",
    "    bored = input('Do you feel bored without having siblings: ')\n",
    "    game = input('What game do you play: ')\n",
    "    friends = int(input('How many friends do you have'))\n",
    "    \n",
    "working = input('Are you working? Yes/No: ')\n",
    "\n",
    "if working.upper() == 'YES':\n",
    "    salary = int(input('Whats your salary: '))\n",
    "    satisfied = input('Do you like your Job yes/no: ')\n",
    "    if satisfied.upper() == 'YES':\n",
    "        print('Congrats')\n",
    "    else:\n",
    "        print('Try switching your job. Good Luck')\n",
    "\n",
    "n_language = int(input('How many Programming language do you know: '))\n",
    "\n",
    "for i in range(n_language):\n",
    "    lang = input(f'Name of Programming language {i+1}: ')\n",
    "    rate = int(input(f'Rate yourself between 1-10 in {lang}: '))\n",
    "    lang_list.append((lang,rate))\n",
    "\n",
    "# Summary report\n",
    "\n",
    "print('\\n')\n",
    "print('############Summary Report###################')\n",
    "print('My Name is:',name)\n",
    "print('My Age is:',age)\n",
    "print('Do you have any sibling:',sib,'\\n')\n",
    "\n",
    "print(\"{:<10} {:<10} {:<10} {:<10}\".format('Name','Age','boy/girl','game'))\n",
    "print('-'*45)\n",
    "for sib_name,sib_age,sib_g,sib_game in sib_details:\n",
    "    print(\"{:<10} {:<10} {:<10} {:<10}\".format(sib_name,sib_age,sib_g,sib_game))\n",
    "    \n",
    "print('\\nAre you working? Yes/No:',working)\n",
    "print('Whats your salary:',salary)\n",
    "print('Do you like your Job yes/no:',satisfied)    \n",
    "print('\\nHow many Programming language do you know:',n_language)\n",
    "\n",
    "print(\"\\n{:<15} {:<10}\".format('Programming','rating'))\n",
    "print('-'*20)\n",
    "for lang,rating in lang_list:\n",
    "    print(\"{:<15} {:<10}\".format(lang,rating))"
   ]
  },
  {
   "cell_type": "code",
   "execution_count": 7,
   "metadata": {},
   "outputs": [
    {
     "name": "stdout",
     "output_type": "stream",
     "text": [
      "Name****** Age******* boy/girl** game******\n"
     ]
    }
   ],
   "source": [
    "print(\"{:*<10} {:*<10} {:*<10} {:*<10}\".format('Name','Age','boy/girl','game'))"
   ]
  },
  {
   "cell_type": "code",
   "execution_count": 9,
   "metadata": {},
   "outputs": [
    {
     "name": "stdout",
     "output_type": "stream",
     "text": [
      "Name Age boy/girl game\n",
      "AVINAHS TRIVED 25 GRIL CHESS\n"
     ]
    }
   ],
   "source": [
    "print('Name','Age','boy/girl','game')\n",
    "print('AVINAHS TRIVED',25,'GRIL','CHESS')"
   ]
  },
  {
   "cell_type": "code",
   "execution_count": 11,
   "metadata": {},
   "outputs": [
    {
     "name": "stdout",
     "output_type": "stream",
     "text": [
      "Name       Age        boy/girl   game      \n",
      "avinash    25         girl       chess     \n"
     ]
    }
   ],
   "source": [
    "print(\"{:<10} {:<10} {:<10} {:<10}\".format('Name','Age','boy/girl','game'))\n",
    "print(\"{:<10} {:<10} {:<10} {:<10}\".format('avinash',25,'girl','chess'))"
   ]
  },
  {
   "cell_type": "code",
   "execution_count": null,
   "metadata": {},
   "outputs": [],
   "source": []
  }
 ],
 "metadata": {
  "kernelspec": {
   "display_name": "Python 3",
   "language": "python",
   "name": "python3"
  },
  "language_info": {
   "codemirror_mode": {
    "name": "ipython",
    "version": 3
   },
   "file_extension": ".py",
   "mimetype": "text/x-python",
   "name": "python",
   "nbconvert_exporter": "python",
   "pygments_lexer": "ipython3",
   "version": "3.8.5"
  }
 },
 "nbformat": 4,
 "nbformat_minor": 4
}
