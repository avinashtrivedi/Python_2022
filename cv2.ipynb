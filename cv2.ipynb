{
 "cells": [
  {
   "cell_type": "code",
   "execution_count": null,
   "id": "07f7f909",
   "metadata": {},
   "outputs": [],
   "source": [
    "# Look for the outer bounding boxes (no children):\n",
    "for _, c in enumerate(contours):\n",
    "    # Get the contour's bounding rectangle:\n",
    "    boundRect = cv2.boundingRect(c)\n",
    "\n",
    "    # Store in list:\n",
    "    objectData.append((objectCounter, boundRect))\n",
    "\n",
    "    # Get the dimensions of the bounding rect:\n",
    "    rectX = boundRect[0]\n",
    "    rectY = boundRect[1]\n",
    "    rectWidth = boundRect[2]\n",
    "    rectHeight = boundRect[3]\n",
    "\n",
    "    # Draw bounding rect:\n",
    "    color = (0, 0, 255)\n",
    "    cv2.rectangle(inputImageCopy, (int(rectX), int(rectY)),\n",
    "                  (int(rectX + rectWidth), int(rectY + rectHeight)), color, 2)\n",
    "\n",
    "    # Draw object counter:\n",
    "    font = cv2.FONT_HERSHEY_SIMPLEX\n",
    "    fontScale = 1\n",
    "    fontThickness = 2\n",
    "    color = (0, 255, 0)\n",
    "    cv2.putText(inputImageCopy, str(objectCounter), (int(rectX), int(rectY)), \n",
    "                font, fontScale, color, fontThickness)\n",
    "\n",
    "    # Increment object counter\n",
    "    objectCounter += 1\n",
    "\n",
    "    cv2.imshow(\"Rectangles\", inputImageCopy)\n",
    "    cv2.waitKey(0)"
   ]
  },
  {
   "cell_type": "code",
   "execution_count": null,
   "id": "e90cc9fa",
   "metadata": {},
   "outputs": [],
   "source": [
    "cv2.putText(img,'OpenCV',(10,500), font, 4, (255, 255, 255), 2, cv2.LINE_AA)"
   ]
  },
  {
   "cell_type": "code",
   "execution_count": null,
   "id": "e25d2016",
   "metadata": {},
   "outputs": [],
   "source": [
    "import cv2\n",
    "im = cv2.imread(path + 'pillar.png', 1)\n",
    "font = cv2.FONT_HERSHEY_SIMPLEX\n",
    "cv2.putText(im, 'Christmas', (10,450), font, 3, (0, 255, 0), 2, cv2.LINE_AA)\n",
    "cv2.imwrite(path + 'pillar_text.jpg', im)"
   ]
  },
  {
   "cell_type": "code",
   "execution_count": 1,
   "id": "6ad2a965",
   "metadata": {},
   "outputs": [],
   "source": [
    "# https://stackoverflow.com/questions/50189403/how-to-write-text-on-image-using-opencv-python-in-run-time-application\n",
    "# https://stackoverflow.com/questions/71491995/how-to-count-the-color-detected-objects-using-python-opencv"
   ]
  },
  {
   "cell_type": "code",
   "execution_count": null,
   "id": "96a6207d",
   "metadata": {},
   "outputs": [],
   "source": []
  }
 ],
 "metadata": {
  "kernelspec": {
   "display_name": "Python 3 (ipykernel)",
   "language": "python",
   "name": "python3"
  },
  "language_info": {
   "codemirror_mode": {
    "name": "ipython",
    "version": 3
   },
   "file_extension": ".py",
   "mimetype": "text/x-python",
   "name": "python",
   "nbconvert_exporter": "python",
   "pygments_lexer": "ipython3",
   "version": "3.9.12"
  }
 },
 "nbformat": 4,
 "nbformat_minor": 5
}
