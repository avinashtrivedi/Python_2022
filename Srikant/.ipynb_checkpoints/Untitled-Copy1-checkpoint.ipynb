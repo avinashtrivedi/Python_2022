{
 "cells": [
  {
   "cell_type": "raw",
   "id": "1884d5e7",
   "metadata": {},
   "source": [
    "tenant_id, userdefined_region - 0 - input\n",
    "\n",
    "iprange, region, service - 1 - aws\n",
    "tenant_id, userdefined_region, network_id, cidr - 2 - onecloud \n",
    "\n",
    "todo: \n",
    "\n",
    "for output_aws.csv: \n",
    "filter out the service EC2 form the aws list \n",
    "filter out based on the region (eu-west-1, us-west-2, us-east-1, us-east-2)\n",
    "\n",
    "-> csv 3 = latest shoter aws csv (iprange, region, service)\n",
    "-> csv 2 = onecloud_output.csv (tenant_id, userdefined_region, network_id, cidr)\n",
    "\n",
    "Now merge the csv 3 and csv 4 based on the primary key \n",
    "\n",
    "primary_key = (iprange <-> cidr & region <-> userdefined_region)\n",
    "\n",
    "Now see \n",
    "- which aws.ipranges are not present in onecloud -> This file is imp (future use) columns = (iprange, region, service)\n",
    "- which onecloud.cidr are not present in aws -> This file is imp (future use) columns = (tenant_id, userdefined_region, network_id, cidr)"
   ]
  },
  {
   "cell_type": "markdown",
   "id": "257c5099",
   "metadata": {},
   "source": [
    "- which aws.ipranges are not present in onecloud -> This file is imp (future use) \n",
    "columns = (iprange, region, service)\n",
    "- which onecloud.cidr are not present in aws -> This file is imp (future use) \n",
    "columns = (tenant_id, userdefined_region, network_id, cidr)"
   ]
  },
  {
   "cell_type": "code",
   "execution_count": 104,
   "id": "e8f08a4e",
   "metadata": {},
   "outputs": [],
   "source": [
    "import pandas as pd"
   ]
  },
  {
   "cell_type": "code",
   "execution_count": 105,
   "id": "24d62ed9",
   "metadata": {},
   "outputs": [],
   "source": [
    "Input = pd.read_csv('input.csv')\n",
    "Onecloud = pd.read_csv('onecloud_output.csv')\n",
    "Aws = pd.read_csv('aws_ipv4_output.csv')"
   ]
  },
  {
   "cell_type": "code",
   "execution_count": 106,
   "id": "7cd57ff4",
   "metadata": {},
   "outputs": [],
   "source": [
    "def userdefined_region(x):\n",
    "    region = Input[Input['tenantId']==x]['userdefined_region'].tolist()[0]\n",
    "    return region"
   ]
  },
  {
   "cell_type": "code",
   "execution_count": 107,
   "id": "65f9e3ea",
   "metadata": {},
   "outputs": [],
   "source": [
    "Onecloud['userdefined_region'] = Onecloud['tsfTenantID'].apply(lambda x: userdefined_region(x))"
   ]
  },
  {
   "cell_type": "code",
   "execution_count": 108,
   "id": "1184c836",
   "metadata": {},
   "outputs": [],
   "source": [
    "Aws = Aws[Aws['service']=='EC2']\n",
    "Aws = Aws[Aws['region'].isin(['eu-west-1', 'us-west-2', 'us-east-1', 'us-east-2'])]"
   ]
  },
  {
   "cell_type": "code",
   "execution_count": 109,
   "id": "3ddf24d0",
   "metadata": {},
   "outputs": [],
   "source": [
    "Aws = Aws[~Aws['iprange'].isin(Onecloud['cidrBlock'])]\n",
    "Onecloud = Onecloud[~Onecloud['cidrBlock'].isin(Aws['iprange'])]"
   ]
  },
  {
   "cell_type": "code",
   "execution_count": 110,
   "id": "077d57ea",
   "metadata": {},
   "outputs": [],
   "source": [
    "Aws.to_csv('aws_not_in_cloud.csv',index=False)\n",
    "Onecloud.to_csv('Onecloud_not_in_aws.csv',index=False)"
   ]
  },
  {
   "cell_type": "code",
   "execution_count": null,
   "id": "c13e2500",
   "metadata": {},
   "outputs": [],
   "source": []
  },
  {
   "cell_type": "code",
   "execution_count": 94,
   "id": "6c991bcb",
   "metadata": {},
   "outputs": [],
   "source": [
    "x = set(Onecloud['cidrBlock'])"
   ]
  },
  {
   "cell_type": "code",
   "execution_count": 95,
   "id": "d3cbc6d2",
   "metadata": {},
   "outputs": [],
   "source": [
    "y = set(Aws['iprange'])"
   ]
  },
  {
   "cell_type": "code",
   "execution_count": 99,
   "id": "67144203",
   "metadata": {},
   "outputs": [
    {
     "data": {
      "text/plain": [
       "{'3.5.0.0/18'}"
      ]
     },
     "execution_count": 99,
     "metadata": {},
     "output_type": "execute_result"
    }
   ],
   "source": [
    "x-y"
   ]
  },
  {
   "cell_type": "code",
   "execution_count": 101,
   "id": "0090c36c",
   "metadata": {},
   "outputs": [
    {
     "data": {
      "text/plain": [
       "125"
      ]
     },
     "execution_count": 101,
     "metadata": {},
     "output_type": "execute_result"
    }
   ],
   "source": [
    "len(y-x)"
   ]
  },
  {
   "cell_type": "code",
   "execution_count": null,
   "id": "5a9a10c9",
   "metadata": {},
   "outputs": [],
   "source": []
  }
 ],
 "metadata": {
  "kernelspec": {
   "display_name": "Python 3 (ipykernel)",
   "language": "python",
   "name": "python3"
  },
  "language_info": {
   "codemirror_mode": {
    "name": "ipython",
    "version": 3
   },
   "file_extension": ".py",
   "mimetype": "text/x-python",
   "name": "python",
   "nbconvert_exporter": "python",
   "pygments_lexer": "ipython3",
   "version": "3.8.5"
  }
 },
 "nbformat": 4,
 "nbformat_minor": 5
}
