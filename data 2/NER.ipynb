{
 "cells": [
  {
   "cell_type": "code",
   "execution_count": 1,
   "metadata": {},
   "outputs": [],
   "source": [
    "import nltk\n",
    "from nltk.corpus import stopwords\n",
    "from nltk.tokenize import word_tokenize\n",
    "from nltk.stem import WordNetLemmatizer\n",
    "import re\n",
    "import pandas as pd\n",
    "from nltk import everygrams, word_tokenize\n",
    "import numpy as np"
   ]
  },
  {
   "cell_type": "code",
   "execution_count": 2,
   "metadata": {},
   "outputs": [],
   "source": [
    "df = pd.read_csv('/home/srinivas/R/projects/ner/100 MCRs - 0407 - Sheet1 .csv')"
   ]
  },
  {
   "cell_type": "code",
   "execution_count": 3,
   "metadata": {},
   "outputs": [],
   "source": [
    "s = df['Summary'][4]\n",
    "s = [i.lower() for i in s.split('\\n') if i!='']"
   ]
  },
  {
   "cell_type": "code",
   "execution_count": 4,
   "metadata": {},
   "outputs": [
    {
     "data": {
      "text/plain": [
       "'Cluster: PSDR - Contracts and Disclosures - Form and Style - Plain Language\\n \\n MCR: 0001021\\n \\n Covered States: CT, KS, MA, ME, MN, MT, ND, NJ, NY, PA, PR, WA.\\n \\n When offering the consumer contracts, products, or services listed below, Wells Fargo must provide certain state-specific disclosures, notices, terms and conditions, and other information in plain language that is clear and readable. Wells Fargo must also comply with state-specific timing requirements for each disclosure, notice, term, and condition. Additionally, Wells Fargo must comply with state-specific formatting requirements.\\n \\n 1. Deposit / Money Movement - Checking Accounts\\n 2. Deposit / Money Movement - Savings Accounts\\n 3. Deposit / Money Movement - Wire Transfer\\n 4. Lending Product (loans, lines and leases) - Commercial Credit Cards\\n 5. Lending Product (loans, lines and leases) - Commercial Real Estate Loans\\n 6. Lending Product (loans, lines and leases) - Consumer Credit Cards\\n 7. Lending Product (loans, lines and leases) - Consumer Other Loans/Lines\\n 8. Lending Product (loans, lines and leases) - Consumer Real Estate\\n \\n Generally Applicable Supporting Citations: Conn. Gen. Stat. ¬ß 38a-297(a); Conn. Gen. Stat. ¬ß 42-152(a),(b); Conn. Gen. Stat. ¬ß 42-152(a),(c); Me. Stat. tit. 10, ¬ß 1124(1); Mont. Admin. R. 2.59.118(3); N.D. Admin. Code 13-05-01-04; N.Y. Comp. Codes R. & Regs. Tit. 3, ¬ß 34.6(a); Minn. Stat. ¬ß 325G.3; N.J. Stat. Ann. ¬ß 56:12-2; 73 Pa. Stat. ¬ß 2205(a)(b)(1)-(9); PR Reglamento 5782, Art. 5(A); Wash. Admin. Code ¬ß 208-620-613(3).\\n \\n Additional State-Specific Restrictive Requirements:\\n \\n 1. Consumer Lending:\\n \\n (a) When providing a consumer credit transaction, Wells Fargo must provide notice to the consumer that he or she should not sign the agreement before reading it, and that he or she is entitled to a copy of the agreement and to prepay the unpaid balance at any time without penalty. (KS) (Kan. Stat. Ann. ¬ß 16a-3-202). Wells Fargo does not have to comply with this requirement if it is offering an open line of credit. (KS) (Kan. Stat. Ann. ¬ß 16a-3-202). \\n \\n (b) Wells Fargo must provide its customers with certain clear and specific disclosures that must be made in a single, separate document, in plain language, and with captioned subdivisions for the information to be disclosed. (NY) N.Y. Comp. Codes R. & Regs. Tit. 3, ¬ß 90.3.\\n \\n (c) Wells Fargo must provide its customers with certain disclosure summaries on a one page notice separate from any other documents. (WA) Wash. Admin. Code ¬ß 208-620-511(1).\\n \\n (d) Wells Fargo must disclose interest rate, timing, and loan amount information when issuing loans and notes. In addition, if the contract provides for the possibility of an increase or decrease in the rate (or both), that fact must be clearly described in plain language, in at least 8-point bold face type on the face of the contract. (NJ) N.J. Stat. Ann. ¬ß 17:11C-32(b); (NJ) N.J. Stat. Ann. ¬ß 17:9A-53.4.\\n \\n (e) Wells Fargo must comply with the Truth in Lending Act (\"TILA\") (NJ) N.J. Stat. Ann. ¬ß 17:11C-32(d) (PA) 73 Pa. Stat. ¬ß 2205(2); PR Reglamento 5782, Art. 5(B).\\n \\n (f) When displaying promotional materials, Wells Fargo must not use techniques, signs, abbreviations, or acronyms that create a wrong image or impression in the public (PR) PR Reglamento 5782, Art. 5(E).\\n \\n 2. Deposit Money Movement\\n \\n (a) Wells Fargo must provide particular disclosures in the terms and conditions of electronic fund transfers, before a consumer contracts for an electronic fund transfer. (MA) Mass. Gen. Laws ch. 167B, ¬ß 8(a).\\n \\n (b) Wells Fargo must inform its customers of the time periods for the availability of funds and with the hours Wells Fargo will be open. (NY) N.Y. Comp. Codes R. & Regs. Tit. 3, ¬ß 34.6(a).\\n \\n (c) Wells Fargo must also convey disclosures when servicing trust accounts. (PR) PR Reglamento 5766 ¬ß 20. \\n \\n 3. Lending Products - Consumer Other Loans/Lines (Mortgage Loans for Residential Property)\\n \\n (a) If Wells Fargo does not offer interim financing, then it must disclose that to the customer in writing at the time the mortgage loan application is filed. (CT) Conn. Gen. Stat. ¬ß 49-6a(b).\\n \\n 4. Insurance Products\\n \\n (a) Wells Fargo must provide a readable policy when selling insurance and it must provide a certification that states that the policy meets the minimum reading ease score on the test used. (CT) Conn. Gen. Stat. ¬ß 38a-297(a)-(b).'"
      ]
     },
     "execution_count": 4,
     "metadata": {},
     "output_type": "execute_result"
    }
   ],
   "source": [
    "df['Summary'][4]"
   ]
  },
  {
   "cell_type": "code",
   "execution_count": 5,
   "metadata": {},
   "outputs": [
    {
     "name": "stderr",
     "output_type": "stream",
     "text": [
      "/home/srinivas/.local/lib/python3.6/site-packages/spacy/util.py:275: UserWarning: [W031] Model 'en_core_web_sm' (2.2.0) requires spaCy v2.2 and is incompatible with the current spaCy version (2.3.2). This may lead to unexpected results or runtime errors. To resolve this, download a newer compatible model or retrain your custom model with the current spaCy version. For more details and available updates, run: python -m spacy validate\n",
      "  warnings.warn(warn_msg)\n"
     ]
    }
   ],
   "source": [
    "import spacy\n",
    "\n",
    "import en_core_web_sm\n",
    "#loads the model as snlp\n",
    "snlp = spacy.load('en_core_web_sm')"
   ]
  },
  {
   "cell_type": "code",
   "execution_count": 6,
   "metadata": {},
   "outputs": [],
   "source": [
    "df['result_text_loc'] = df['Summary'].astype(str).apply(lambda x: list(snlp(x).ents))\n"
   ]
  },
  {
   "cell_type": "code",
   "execution_count": 7,
   "metadata": {},
   "outputs": [],
   "source": [
    "df[\"final\"] = df['result_text_loc'].astype(str)"
   ]
  },
  {
   "cell_type": "code",
   "execution_count": 8,
   "metadata": {},
   "outputs": [],
   "source": [
    "def ner(x):\n",
    "    \n",
    "    if x=='None':\n",
    "        return False\n",
    "#\\bNorth Carolina NC\\b|\\bNorth Dakota ND\\b|Ohio OH\\b|\\bOklahoma OK\\b|\\bOregon OR\\b\n",
    "    \n",
    "    pattern = r'\\bNorth Carolina (NC)\\b|\\bNorth Dakota (ND)\\b|Ohio (OH)\\b|\\bOklahoma (OK)\\b|\\bOregon (OR)\\b|'\n",
    "    found = re.findall(pattern, x, re.IGNORECASE)\n",
    "    \n",
    "    if found:\n",
    "        return True\n",
    "    else:\n",
    "        return False\n",
    "    \n",
    "df['result'] = df['final'].apply(lambda x:ner(x))"
   ]
  },
  {
   "cell_type": "code",
   "execution_count": 9,
   "metadata": {},
   "outputs": [
    {
     "data": {
      "text/plain": [
       "0      True\n",
       "1      True\n",
       "2      True\n",
       "3      True\n",
       "4      True\n",
       "       ... \n",
       "97     True\n",
       "98     True\n",
       "99     True\n",
       "100    True\n",
       "101    True\n",
       "Name: result, Length: 102, dtype: bool"
      ]
     },
     "execution_count": 9,
     "metadata": {},
     "output_type": "execute_result"
    }
   ],
   "source": [
    "df['result']"
   ]
  },
  {
   "cell_type": "code",
   "execution_count": null,
   "metadata": {},
   "outputs": [],
   "source": [
    "df.to_csv('/home/srinivas/R/projects/ner/final.csv')"
   ]
  }
 ],
 "metadata": {
  "kernelspec": {
   "display_name": "Python 3 (ipykernel)",
   "language": "python",
   "name": "python3"
  },
  "language_info": {
   "codemirror_mode": {
    "name": "ipython",
    "version": 3
   },
   "file_extension": ".py",
   "mimetype": "text/x-python",
   "name": "python",
   "nbconvert_exporter": "python",
   "pygments_lexer": "ipython3",
   "version": "3.8.5"
  }
 },
 "nbformat": 4,
 "nbformat_minor": 2
}
