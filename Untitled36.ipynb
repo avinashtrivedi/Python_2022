{
 "cells": [
  {
   "cell_type": "code",
   "execution_count": 1,
   "id": "500ef180",
   "metadata": {},
   "outputs": [],
   "source": [
    "# you can write to stdout for debugging purposes, e.g.\n",
    "# print(\"this is a debug message\")\n",
    "\n",
    "def isValidPos(grid, i, j,rows,cols):\n",
    "#     global rows,cols\n",
    "    # i should be in the range [0,rows-1]\n",
    "    # j should be in the range [0,cols-1]\n",
    "    # if they are not present in the given range that means the position is not valid\n",
    "    # and if the grid[i][j]='.' it should not be explored only grid[i][j]='#' should be explored\n",
    "    if i < 0 or j < 0 or i >= rows or j >= cols or grid[i][j] == '.':\n",
    "        return False\n",
    "    # if the above condition is false then the position is valid\n",
    "    return True\n",
    "\n",
    "# recursive method for processing neighbouring cells of a given cell\n",
    "\n",
    "\n",
    "def explore(grid, i, j,rows,cols):\n",
    "    # if grid[i][j]='#'\n",
    "   \n",
    "    if grid[i][j] == '#':\n",
    "        # make it as '.' so that it is not explored again\n",
    "        grid[i][j] = '.'\n",
    "\n",
    "        w, x, y, z = 0, 0, 0, 0\n",
    "\n",
    "        # explore top cell(i-1,j) of (i,j) if it is valid\n",
    "        if isValidPos(grid, i-1, j,rows,cols):\n",
    "            w = explore(grid, i-1, j,rows,cols)\n",
    "\n",
    "        # explore bottom cell(i+1,j) of (i,j) if it is valid\n",
    "        if isValidPos(grid, i+1, j,rows,cols):\n",
    "            x = explore(grid, i+1, j,rows,cols)\n",
    "\n",
    "        # explore left cell(i,j-1) of (i,j) if it is valid\n",
    "        if isValidPos(grid, i, j-1,rows,cols):\n",
    "            y = explore(grid, i, j-1,rows,cols)\n",
    "\n",
    "        # explore right cell(i,j+1) of (i,j) if it is valid\n",
    "        if isValidPos(grid, i, j+1,rows,cols):\n",
    "            z = explore(grid, i, j+1,rows,cols)\n",
    "\n",
    "        # consider the current cell by returning 1\n",
    "        # also considering the neighbouring cells by adding the values returned by them\n",
    "        return 1+w+x+y+z\n",
    "    # if grid[i][j]='.' then return 0 as it is not considered in our calculation\n",
    "    return 0\n",
    "\n",
    "# given method\n",
    "\n",
    "\n",
    "def solution(B):\n",
    "    # intialize an empty grid\n",
    "    grid = []\n",
    "    \n",
    "    # first form a list by appending each character of the string in B\n",
    "    # append the list as a row in grid\n",
    "    # repeat for every string in B\n",
    "    for x in B:\n",
    "        l = [y for y in x]\n",
    "        grid.append(l)\n",
    "    # variables to calculate the number of patrol boats, submarines and destroyers all are initialized to zero\n",
    "    patrolBoats, subMarines, destroyers = 0, 0, 0\n",
    "    # iterate through the grid\n",
    "    rows = len(B)\n",
    "    cols = len(B[0])\n",
    "    for i in range(rows):\n",
    "        for j in range(cols):\n",
    "            # if grid[i][j]='#'\n",
    "            if grid[i][j] == '#':\n",
    "                # explore it and get the number of connected cells to it having value '#'\n",
    "                val = explore(grid, i, j,rows,cols)\n",
    "\n",
    "                # if the number of connected cells is 1 then it is a patrol boat increment the count\n",
    "                if val == 1:\n",
    "                    patrolBoats += 1\n",
    "\n",
    "                # if the number of connected cells are 2 then it is a submarine increment the count\n",
    "                if val == 2:\n",
    "                    subMarines += 1\n",
    "\n",
    "                # if the number of connected cells are 3 then it is a destroyer increment the count\n",
    "                if val == 3:\n",
    "                    destroyers += 1\n",
    "    # return the list containing the counts\n",
    "    return [patrolBoats, subMarines, destroyers]"
   ]
  },
  {
   "cell_type": "code",
   "execution_count": 2,
   "id": "5ac2bf4e",
   "metadata": {},
   "outputs": [
    {
     "data": {
      "text/plain": [
       "[2, 1, 2]"
      ]
     },
     "execution_count": 2,
     "metadata": {},
     "output_type": "execute_result"
    }
   ],
   "source": [
    "B=['.##.#','#.#..','#...#','#.##.']\n",
    "solution(B)"
   ]
  },
  {
   "cell_type": "code",
   "execution_count": null,
   "id": "42184717",
   "metadata": {},
   "outputs": [],
   "source": []
  }
 ],
 "metadata": {
  "kernelspec": {
   "display_name": "Python 3 (ipykernel)",
   "language": "python",
   "name": "python3"
  },
  "language_info": {
   "codemirror_mode": {
    "name": "ipython",
    "version": 3
   },
   "file_extension": ".py",
   "mimetype": "text/x-python",
   "name": "python",
   "nbconvert_exporter": "python",
   "pygments_lexer": "ipython3",
   "version": "3.8.5"
  }
 },
 "nbformat": 4,
 "nbformat_minor": 5
}
