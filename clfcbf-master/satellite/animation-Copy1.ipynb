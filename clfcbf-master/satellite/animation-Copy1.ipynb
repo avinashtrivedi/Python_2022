{
 "cells": [
  {
   "cell_type": "code",
   "execution_count": 1,
   "metadata": {},
   "outputs": [],
   "source": [
    "import numpy as np\n",
    "import matplotlib.pyplot as plt\n",
    "import torch\n",
    "import torch.nn.functional as F\n",
    "import cvxpy as cp\n",
    "from celluloid import Camera\n",
    "import config\n",
    "import core\n",
    "import os\n",
    "from matplotlib.animation import FuncAnimation, PillowWriter\n",
    "import matplotlib.patches as patches\n",
    "\n",
    "\n",
    "# plt.ion()\n",
    "# plt.close()\n",
    "\n",
    "net = core.CLF_QP_Net(4, 256, 2)\n",
    "net.load_state_dict(torch.load('./logs/model.pth'))\n",
    "net.eval()\n",
    "\n",
    "nominal_controller = core.LQR()\n",
    "# camera = Camera(fig)\n",
    "ss = []\n",
    "for i in range(20):\n",
    "    rho_init = np.random.uniform(10, 12)\n",
    "    theta_init = np.random.uniform(np.pi/4, np.pi/3)\n",
    "    v_init = np.random.uniform(-1, 1, size=2)\n",
    "    s = np.array([[np.cos(theta_init) * rho_init, \n",
    "                  np.sin(theta_init) * rho_init,\n",
    "                  v_init[0], v_init[1]]], dtype=np.float32)\n",
    "\n",
    "    s = torch.from_numpy(s)\n",
    "\n",
    "    for j in range(config.NUM_STEPS_PER_EPOCH):\n",
    "\n",
    "        u_nominal = nominal_controller(np.squeeze(s.detach().numpy()))\n",
    "        \n",
    "        use_nominal = False\n",
    "        s_np = np.squeeze(s.numpy())\n",
    "        if s_np[1] < 0 and abs(s_np[0]) < abs(s_np[1]):\n",
    "            u = torch.from_numpy(np.expand_dims(u_nominal, 0).astype(np.float32))\n",
    "            use_nominal = True\n",
    "\n",
    "        else:\n",
    "            V, grad_V = net.compute_lyapunov(s)\n",
    "            grad_V_np = np.squeeze(grad_V.detach().numpy())\n",
    "            V_np = np.squeeze(V.detach().numpy())\n",
    "\n",
    "            s_np = s.numpy()\n",
    "            u = cp.Variable(2)\n",
    "            clf_cond = grad_V_np @ (core.A.dot(s_np[0]) + core.B @ u) + 0.005 * V_np\n",
    "            constraint = [clf_cond <= 0]\n",
    "\n",
    "            objective = cp.Minimize(cp.sum_squares(u-u_nominal))\n",
    "\n",
    "            cp.Problem(objective, constraint).solve()\n",
    "            u = u.value\n",
    "            u = torch.from_numpy(np.expand_dims(u, 0).astype(np.float32))\n",
    "\n",
    "        dsdt = core.dynamics_torch(s, u)\n",
    "\n",
    "        if use_nominal:\n",
    "            timestep = config.TIME_STEP * 0.7\n",
    "        else:\n",
    "            timestep = config.TIME_STEP * 1.0\n",
    "\n",
    "        s = torch.clip(s + dsdt * timestep, -7, 7)\n",
    "        ss.append(s)\n",
    "#         plt.clf()\n"
   ]
  },
  {
   "cell_type": "code",
   "execution_count": 10,
   "metadata": {},
   "outputs": [
    {
     "data": {
      "text/plain": [
       "1600"
      ]
     },
     "execution_count": 10,
     "metadata": {},
     "output_type": "execute_result"
    }
   ],
   "source": [
    "len(ss[::5])"
   ]
  },
  {
   "cell_type": "code",
   "execution_count": null,
   "metadata": {},
   "outputs": [],
   "source": [
    "\n",
    "fig, ax = plt.subplots(figsize=(7, 7))\n",
    "\n",
    "def animate(i):\n",
    "    ax.clear()\n",
    "    ax.set_xlim(-12, 12)\n",
    "    ax.set_ylim(-11, 12)\n",
    "    ax.add_patch(plt.Circle((0, 0), 4, color='g', alpha=0.3, fill=False, linewidth=2, linestyle='--'))\n",
    "    ax.plot([0, -2.8], [0, -2.8], color='g', alpha=0.3, linewidth=2, linestyle='--')\n",
    "    ax.plot([0, 2.8], [0, -2.8], color='g', alpha=0.3, linewidth=2, linestyle='--')\n",
    "\n",
    "    ax.add_patch(patches.Wedge((0, 0), 4, -135, -45, linewidth=2,\n",
    "                 edgecolor='g', facecolor='g', fill=True, alpha=0.3))\n",
    "    line = ax.plot(ss[i*5][0, 0].item(),ss[i*5][0, 1].item(),marker='o', color='blue')\n",
    "    return line\n",
    "\n",
    "        \n",
    "ani = FuncAnimation(fig, animate, interval=40, blit=True, repeat=True, frames=len(ss[::5]))    \n",
    "ani.save(\"TLI11.gif\", dpi=300, writer=PillowWriter(fps=25))"
   ]
  },
  {
   "cell_type": "code",
   "execution_count": null,
   "metadata": {},
   "outputs": [],
   "source": []
  }
 ],
 "metadata": {
  "kernelspec": {
   "display_name": "Python 3",
   "language": "python",
   "name": "python3"
  },
  "language_info": {
   "codemirror_mode": {
    "name": "ipython",
    "version": 3
   },
   "file_extension": ".py",
   "mimetype": "text/x-python",
   "name": "python",
   "nbconvert_exporter": "python",
   "pygments_lexer": "ipython3",
   "version": "3.8.5"
  }
 },
 "nbformat": 4,
 "nbformat_minor": 4
}
