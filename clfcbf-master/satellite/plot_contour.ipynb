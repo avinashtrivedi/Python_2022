{
 "cells": [
  {
   "cell_type": "code",
   "execution_count": 2,
   "metadata": {},
   "outputs": [],
   "source": [
    "import numpy as np\n",
    "import matplotlib.pyplot as plt\n",
    "import torch\n",
    "from tqdm import tqdm\n",
    "import matplotlib.patches as patches\n",
    "\n",
    "import core\n",
    "import os\n",
    "\n",
    "import seaborn as sns\n",
    "sns.set_theme(context=\"talk\", style=\"white\")\n",
    "unsafe_color = sns.color_palette(\"pastel\")[3]\n",
    "safe_color = sns.color_palette(\"pastel\")[2]"
   ]
  },
  {
   "cell_type": "code",
   "execution_count": null,
   "metadata": {},
   "outputs": [
    {
     "name": "stderr",
     "output_type": "stream",
     "text": [
      "100%|██████████████████████████████████████████████████████████████████████████████████| 30/30 [00:21<00:00,  1.38it/s]\n"
     ]
    }
   ],
   "source": [
    "net = core.CLF_QP_Net(4, 256, 2)\n",
    "net.load_state_dict(torch.load('./logs/model.pth'))\n",
    "net.eval()\n",
    "\n",
    "res = 50 # resultion\n",
    "num_iter = 30\n",
    "\n",
    "x, y = np.meshgrid(np.linspace(-12, 12, res), np.linspace(-12, 12, res))\n",
    "x = x.reshape(-1, 1)\n",
    "y = y.reshape(-1, 1)\n",
    "\n",
    "z = np.zeros(shape=(res, res))\n",
    "vdot = np.zeros(shape=(res, res))\n",
    "for j in tqdm(range(num_iter)):\n",
    "    vx = np.random.uniform(-5, 5, size=x.shape)\n",
    "    vy = np.random.uniform(-5, 5, size=y.shape)\n",
    "\n",
    "    s = np.concatenate([x, y, vx, vy], axis=1).astype(np.float32)\n",
    "    s = torch.from_numpy(s)\n",
    "    _, V, Vdot = net(s)\n",
    "    z = z + np.reshape(V.detach().numpy(), (res, res))\n",
    "    vdot = vdot + np.reshape(Vdot.detach().numpy(), (res, res))\n",
    "\n",
    "z = z / num_iter\n",
    "vdot = vdot / num_iter\n",
    "\n",
    "x = np.reshape(x, (res, res))\n",
    "y = np.reshape(y, (res, res))\n",
    "\n",
    "contours = plt.contourf(x, y, z, cmap=\"magma\", levels=20)\n",
    "plt.colorbar(contours, orientation=\"vertical\")\n",
    "plt.axis('off')\n",
    "\n",
    "plt.savefig('contour.png')\n",
    "plt.show()"
   ]
  },
  {
   "cell_type": "code",
   "execution_count": null,
   "metadata": {},
   "outputs": [],
   "source": [
    "fig, axs = plt.subplots(1, 2)\n",
    "fig.set_size_inches(17, 10.5)\n",
    "contours = axs[0].contourf(x, y, z, cmap=\"magma\", levels=20)\n",
    "plt.colorbar(contours, ax=axs[0], orientation=\"horizontal\")\n",
    "\n",
    "unsafe_sector = patches.Wedge((0, 0), 3.5, -45, -135, linewidth=2,\n",
    "                             edgecolor='r', facecolor=unsafe_color, fill=False)\n",
    "safe_sector = patches.Wedge((0, 0), 4.5, -45, -135, linewidth=2,\n",
    "                             edgecolor='g', facecolor=safe_color, fill=False)\n",
    "safe_circle = patches.Circle((0, 0), 8, linewidth=2,\n",
    "                             edgecolor='g', facecolor=safe_color, fill=False)\n",
    "unsafe_circle = patches.Circle((0, 0), 9, linewidth=2,\n",
    "                             edgecolor='r', facecolor=safe_color, fill=False)\n",
    "axs[0].add_patch(safe_sector)\n",
    "axs[0].add_patch(unsafe_sector)\n",
    "axs[0].add_patch(safe_circle)\n",
    "axs[0].add_patch(unsafe_circle)\n",
    "\n",
    "axs[0].plot([0], [0], color='r', linewidth=2, label='unsafe')\n",
    "axs[0].plot([0], [0], color='green', linewidth=2, label='safe')\n",
    "\n",
    "axs[0].set_xlabel('$p_x$')\n",
    "axs[0].set_ylabel('$p_y$')\n",
    "axs[0].set_title('$V$')\n",
    "axs[0].legend()\n",
    "\n",
    "contours = axs[1].contourf(x, y, np.maximum(0, vdot + 0.15*z), cmap=\"Greys\", levels=10)\n",
    "plt.colorbar(contours, ax=axs[1], orientation=\"horizontal\")\n",
    "\n",
    "unsafe_sector = patches.Wedge((0, 0), 3.5, -45, -135, linewidth=2,\n",
    "                             edgecolor='r', facecolor=unsafe_color, fill=False)\n",
    "safe_sector = patches.Wedge((0, 0), 4.5, -45, -135, linewidth=2,\n",
    "                             edgecolor='g', facecolor=safe_color, fill=False)\n",
    "safe_circle = patches.Circle((0, 0), 8, linewidth=2,\n",
    "                             edgecolor='g', facecolor=safe_color, fill=False)\n",
    "unsafe_circle = patches.Circle((0, 0), 9, linewidth=2,\n",
    "                             edgecolor='r', facecolor=safe_color, fill=False)\n",
    "\n",
    "axs[1].add_patch(safe_sector)\n",
    "axs[1].add_patch(unsafe_sector)\n",
    "axs[1].add_patch(safe_circle)\n",
    "axs[1].add_patch(unsafe_circle)\n",
    "\n",
    "axs[1].set_xlabel('$p_x$')\n",
    "axs[1].set_ylabel('$p_y$')\n",
    "axs[1].set_title('$max(dV/dt, 0)$')\n",
    "\n",
    "plt.savefig('contour.png')\n",
    "plt.show()"
   ]
  },
  {
   "cell_type": "code",
   "execution_count": null,
   "metadata": {},
   "outputs": [],
   "source": []
  },
  {
   "cell_type": "code",
   "execution_count": null,
   "metadata": {},
   "outputs": [],
   "source": []
  }
 ],
 "metadata": {
  "kernelspec": {
   "display_name": "Python 3",
   "language": "python",
   "name": "python3"
  },
  "language_info": {
   "codemirror_mode": {
    "name": "ipython",
    "version": 3
   },
   "file_extension": ".py",
   "mimetype": "text/x-python",
   "name": "python",
   "nbconvert_exporter": "python",
   "pygments_lexer": "ipython3",
   "version": "3.8.8"
  }
 },
 "nbformat": 4,
 "nbformat_minor": 4
}
