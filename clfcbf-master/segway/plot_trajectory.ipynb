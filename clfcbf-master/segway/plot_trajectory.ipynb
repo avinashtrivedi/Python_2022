{
 "cells": [
  {
   "cell_type": "code",
   "execution_count": 1,
   "metadata": {},
   "outputs": [],
   "source": [
    "import numpy as np\n",
    "import cv2\n",
    "import matplotlib.pyplot as plt\n",
    "import seaborn as sns\n",
    "sns.set_theme(context=\"talk\", style=\"white\")\n",
    "clf_color = sns.color_palette(\"pastel\")[1]\n",
    "mpc_color = sns.color_palette(\"pastel\")[0]"
   ]
  },
  {
   "cell_type": "code",
   "execution_count": 2,
   "metadata": {},
   "outputs": [],
   "source": [
    "def load_traj(path):\n",
    "    traj = np.load(open(path, 'rb'))\n",
    "    xs = smooth_traj(traj[:, 0])\n",
    "    ys = smooth_traj(traj[:, 1])\n",
    "    return xs, ys\n",
    "    \n",
    "def smooth_traj(xs, window_len=3):\n",
    "    xs_smooth = np.zeros_like(xs)\n",
    "    for i in range(xs.shape[0]):\n",
    "        left = max(0, i - window_len // 2)\n",
    "        right = min(xs.shape[0] - 1, left + window_len)\n",
    "        xs_smooth[i] = np.mean(xs[left:right])\n",
    "    return xs_smooth\n",
    "\n",
    "def make_transparant(img_path):\n",
    "    img = cv2.imread(img_path)[:, :, :3]\n",
    "    transparant = np.mean(img, axis=2, keepdims=True) == 255\n",
    "    alpha = 255 * (1 - transparant).astype(np.uint8)\n",
    "    img = np.concatenate([img, alpha], axis=2)\n",
    "    cv2.imwrite(img_path, img)"
   ]
  },
  {
   "cell_type": "markdown",
   "metadata": {},
   "source": [
    "# M $\\times$ 1.0"
   ]
  },
  {
   "cell_type": "code",
   "execution_count": 3,
   "metadata": {},
   "outputs": [
    {
     "data": {
      "image/png": "[encoded data removed]",
      "text/plain": [
       "<Figure size 360x216 with 1 Axes>"
      ]
     },
     "metadata": {},
     "output_type": "display_data"
    }
   ],
   "source": [
    "CLF_TRAJ = './logs/clf_traj_m1.0.npy'\n",
    "MPC_TRAJ = './logs/mpc_traj_m1.0.npy'\n",
    "\n",
    "xs_clf, ys_clf = load_traj(CLF_TRAJ)\n",
    "xs_mpc, ys_mpc = load_traj(MPC_TRAJ)\n",
    "\n",
    "fig = plt.figure(figsize=(5, 3))\n",
    "ax = fig.gca()\n",
    "ax.set_yticklabels([])\n",
    "ax.set_xticklabels([])\n",
    "\n",
    "ax.set_xlim(-1, 1)\n",
    "ax.set_ylim(0.6, 1.4)\n",
    "\n",
    "ax.plot(xs_mpc, ys_mpc, c=mpc_color, label='MPC', linewidth=3)\n",
    "ax.plot(xs_clf, ys_clf, c=clf_color, label='rCLBF', linewidth=3)\n",
    "plt.axis('off')\n",
    "plt.legend()\n",
    "fig.tight_layout()\n",
    "plt.savefig('./plots/m10.png', transparant=True)\n",
    "plt.show()"
   ]
  },
  {
   "cell_type": "markdown",
   "metadata": {},
   "source": [
    "# M $\\times$ 1.3"
   ]
  },
  {
   "cell_type": "code",
   "execution_count": 4,
   "metadata": {},
   "outputs": [
    {
     "data": {
      "image/png": "[encoded data removed]",
      "text/plain": [
       "<Figure size 360x216 with 1 Axes>"
      ]
     },
     "metadata": {},
     "output_type": "display_data"
    }
   ],
   "source": [
    "CLF_TRAJ = './logs/clf_traj_m1.3.npy'\n",
    "MPC_TRAJ = './logs/mpc_traj_m1.3.npy'\n",
    "\n",
    "xs_clf, ys_clf = load_traj(CLF_TRAJ)\n",
    "xs_mpc, ys_mpc = load_traj(MPC_TRAJ)\n",
    "\n",
    "fig = plt.figure(figsize=(5, 3))\n",
    "ax = fig.gca()\n",
    "ax.set_yticklabels([])\n",
    "ax.set_xticklabels([])\n",
    "\n",
    "ax.set_xlim(-1, 1)\n",
    "ax.set_ylim(0.6, 1.4)\n",
    "\n",
    "ax.plot(xs_mpc, ys_mpc, c=mpc_color, label='MPC', linewidth=3)\n",
    "ax.plot(xs_clf, ys_clf, c=clf_color, label='rCLBF', linewidth=3)\n",
    "plt.axis('off')\n",
    "plt.legend()\n",
    "fig.tight_layout()\n",
    "plt.savefig('./plots/m13.png', transparant=True)\n",
    "plt.show()"
   ]
  },
  {
   "cell_type": "markdown",
   "metadata": {},
   "source": [
    "# N $\\times$ 1.1"
   ]
  },
  {
   "cell_type": "code",
   "execution_count": 5,
   "metadata": {},
   "outputs": [
    {
     "data": {
      "image/png": "[encoded data removed]",
      "text/plain": [
       "<Figure size 360x216 with 1 Axes>"
      ]
     },
     "metadata": {},
     "output_type": "display_data"
    }
   ],
   "source": [
    "CLF_TRAJ = './logs/clf_traj_n1.1.npy'\n",
    "MPC_TRAJ = './logs/mpc_traj_n1.1.npy'\n",
    "\n",
    "xs_clf, ys_clf = load_traj(CLF_TRAJ)\n",
    "xs_mpc, ys_mpc = load_traj(MPC_TRAJ)\n",
    "\n",
    "fig = plt.figure(figsize=(5, 3))\n",
    "ax = fig.gca()\n",
    "ax.set_yticklabels([])\n",
    "ax.set_xticklabels([])\n",
    "\n",
    "ax.set_xlim(-1, 1)\n",
    "ax.set_ylim(0.6, 1.4)\n",
    "\n",
    "ax.plot(xs_mpc, ys_mpc, c=mpc_color, label='MPC', linewidth=3)\n",
    "ax.plot(xs_clf, ys_clf, c=clf_color, label='rCLBF', linewidth=3)\n",
    "plt.axis('off')\n",
    "plt.legend()\n",
    "fig.tight_layout()\n",
    "plt.savefig('./plots/n11.png', transparant=True)\n",
    "plt.show()"
   ]
  },
  {
   "cell_type": "markdown",
   "metadata": {},
   "source": [
    "# N $\\times$ 1.3"
   ]
  },
  {
   "cell_type": "code",
   "execution_count": 6,
   "metadata": {},
   "outputs": [
    {
     "data": {
      "image/png": "[encoded data removed]",
      "text/plain": [
       "<Figure size 360x216 with 1 Axes>"
      ]
     },
     "metadata": {},
     "output_type": "display_data"
    }
   ],
   "source": [
    "CLF_TRAJ = './logs/clf_traj_n1.3.npy'\n",
    "MPC_TRAJ = './logs/mpc_traj_n1.3.npy'\n",
    "\n",
    "xs_clf, ys_clf = load_traj(CLF_TRAJ)\n",
    "xs_mpc, ys_mpc = load_traj(MPC_TRAJ)\n",
    "\n",
    "fig = plt.figure(figsize=(5, 3))\n",
    "ax = fig.gca()\n",
    "ax.set_yticklabels([])\n",
    "ax.set_xticklabels([])\n",
    "\n",
    "ax.set_xlim(-1, 1)\n",
    "ax.set_ylim(0.6, 1.4)\n",
    "\n",
    "ax.plot(xs_mpc, ys_mpc, c=mpc_color, label='MPC', linewidth=3)\n",
    "ax.plot(xs_clf, ys_clf, c=clf_color, label='rCLBF', linewidth=3)\n",
    "plt.axis('off')\n",
    "plt.legend()\n",
    "fig.tight_layout()\n",
    "plt.savefig('./plots/n13.png', transparant=True)\n",
    "plt.show()"
   ]
  },
  {
   "cell_type": "code",
   "execution_count": null,
   "metadata": {},
   "outputs": [],
   "source": []
  }
 ],
 "metadata": {
  "kernelspec": {
   "display_name": "Python 3",
   "language": "python",
   "name": "python3"
  },
  "language_info": {
   "codemirror_mode": {
    "name": "ipython",
    "version": 3
   },
   "file_extension": ".py",
   "mimetype": "text/x-python",
   "name": "python",
   "nbconvert_exporter": "python",
   "pygments_lexer": "ipython3",
   "version": "3.6.8"
  }
 },
 "nbformat": 4,
 "nbformat_minor": 4
}
