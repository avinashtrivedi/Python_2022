{
 "cells": [
  {
   "cell_type": "code",
   "execution_count": 1,
   "metadata": {},
   "outputs": [
    {
     "name": "stdout",
     "output_type": "stream",
     "text": [
      "Enter the starting value in ounces: 50\n",
      "Enter the ending value in ounces: 3\n",
      "Enter the step value: 6\n",
      "Ounces  Kilograms      Grams     Pounds\n",
      " 50.00       1.42    1417.47       3.12\n",
      " 44.00       1.25    1247.38       2.75\n",
      " 38.00       1.08    1077.28       2.38\n",
      " 32.00       0.91     907.18       2.00\n",
      " 26.00       0.74     737.09       1.62\n",
      " 20.00       0.57     566.99       1.25\n",
      " 14.00       0.40     396.89       0.88\n",
      "  8.00       0.23     226.80       0.50\n"
     ]
    }
   ],
   "source": [
    "startOunce = int(input(\"Enter the starting value in ounces: \"))\n",
    "endOunce = int(input(\"Enter the ending value in ounces: \"))\n",
    "step = int(input(\"Enter the step value: \"))\n",
    "\n",
    "print(\"{:>6} {:>10} {:>10} {:>10}\".format('Ounces' ,'Kilograms' ,'Grams' ,'Pounds'))\n",
    "    \n",
    "while startOunce> endOunce:\n",
    "    kilograms = startOunce * 0.02835\n",
    "    grams = startOunce * 28.3495\n",
    "    pounds = startOunce * 0.0625\n",
    "    print(\"{:>6.2f} {:>10.2f} {:>10.2f} {:>10.2f}\".format(startOunce,kilograms,grams,pounds))\n",
    "    startOunce = startOunce - step"
   ]
  },
  {
   "cell_type": "code",
   "execution_count": 2,
   "metadata": {},
   "outputs": [
    {
     "name": "stdout",
     "output_type": "stream",
     "text": [
      "Do you want a problem to solve? y/n: y\n",
      "What is 68/8*10 4\n",
      "The answer is 80\n",
      "Do you want another problem to solve? y/n: 5\n",
      "Total wins: 0\n",
      "Total Problem: 1\n",
      "Percentage won: 0.0 %\n"
     ]
    }
   ],
   "source": [
    "from random import randint\n",
    "won = 0\n",
    "done = 0\n",
    "choose = input('Do you want a problem to solve? y/n: ')\n",
    "while choose == 'y':\n",
    "    done = done + 1\n",
    "    x = randint(50,75)\n",
    "    y = randint(4,8)\n",
    "    z = randint(6,10)\n",
    "    result = float(input('What is {}/{}*{} '.format(x,y,z)))\n",
    "    answer = int(x/y)*z\n",
    "    \n",
    "    if answer == result:\n",
    "        print('Correct!')\n",
    "        won = won + 1\n",
    "    else:\n",
    "        print('The answer is {}'.format(answer))\n",
    "        \n",
    "    choose = input('Do you want another problem to solve? y/n: ')\n",
    "    \n",
    "print('Total wins:',won)\n",
    "print('Total Problem:',done)\n",
    "print('Percentage won: {:.1f} %'.format((won/done)*100))"
   ]
  },
  {
   "cell_type": "code",
   "execution_count": null,
   "metadata": {},
   "outputs": [],
   "source": []
  }
 ],
 "metadata": {
  "kernelspec": {
   "display_name": "Python 3",
   "language": "python",
   "name": "python3"
  },
  "language_info": {
   "codemirror_mode": {
    "name": "ipython",
    "version": 3
   },
   "file_extension": ".py",
   "mimetype": "text/x-python",
   "name": "python",
   "nbconvert_exporter": "python",
   "pygments_lexer": "ipython3",
   "version": "3.8.5"
  }
 },
 "nbformat": 4,
 "nbformat_minor": 4
}
