{
 "cells": [
  {
   "cell_type": "markdown",
   "metadata": {
    "id": "ti9sGhemyre4"
   },
   "source": [
    "# Data Science\n",
    "\n",
    "**Answering questions with a 🔴 are considered mandatory for CDI.**\n",
    "\n",
    "Before starting the exercises make sure the GPU is enabled\n",
    "\n",
    "\n",
    "*   Go to the runtime menu (&#8593; )\n",
    "*   Select *Change runtime type*\n",
    "*   Select GPU as *Hardware accelerator*\n"
   ]
  },
  {
   "cell_type": "markdown",
   "metadata": {
    "id": "05ySfJ8oz1A-"
   },
   "source": [
    "## Machine Learning\n",
    "\n",
    "### Exercise 1 **(10 points)**\n",
    "Using sklearn library, find the fitting algorithm to classify whether someone has diabetes or not according to the dataset found in the repository as `Data_science/machine_learning/diabetes.csv`. The column containing the target is 'Outcome'. \n",
    "\n",
    "An accuracy of around 0.7 is considered acceptable, but make sure to try different models to find the best one.\n",
    "\n",
    "\n",
    "---\n",
    "\n",
    "\n",
    "To upload the `diabetes.csv` file to google colab run the cell below. It will display a button for upload. After upload, file will be visible on the files tab on your left (folder icon)"
   ]
  },
  {
   "cell_type": "code",
   "execution_count": null,
   "metadata": {
    "colab": {
     "base_uri": "https://localhost:8080/",
     "height": 92,
     "resources": {
      "http://localhost:8080/nbextensions/google.colab/files.js": {
       "data": "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",
       "headers": [
        [
         "content-type",
         "application/javascript"
        ]
       ],
       "ok": true,
       "status": 200,
       "status_text": ""
      }
     }
    },
    "id": "gOQILqXgyoLj",
    "outputId": "b2e995ef-7155-4dc3-a4e5-c0f497557966"
   },
   "outputs": [
    {
     "data": {
      "text/html": [
       "\n",
       "     <input type=\"file\" id=\"files-2e91f593-f88f-4425-975b-5e906c5c057f\" name=\"files[]\" multiple disabled\n",
       "        style=\"border:none\" />\n",
       "     <output id=\"result-2e91f593-f88f-4425-975b-5e906c5c057f\">\n",
       "      Upload widget is only available when the cell has been executed in the\n",
       "      current browser session. Please rerun this cell to enable.\n",
       "      </output>\n",
       "      <script src=\"/nbextensions/google.colab/files.js\"></script> "
      ],
      "text/plain": [
       "<IPython.core.display.HTML object>"
      ]
     },
     "metadata": {},
     "output_type": "display_data"
    },
    {
     "name": "stdout",
     "output_type": "stream",
     "text": [
      "Saving diabetes.csv to diabetes.csv\n",
      "User uploaded file \"diabetes.csv\" with length 23106 bytes\n"
     ]
    }
   ],
   "source": [
    "from google.colab import files\n",
    "\n",
    "uploaded = files.upload()\n",
    "\n",
    "for fn in uploaded.keys():\n",
    "  print('User uploaded file \"{name}\" with length {length} bytes'.format(\n",
    "      name=fn, length=len(uploaded[fn])))"
   ]
  },
  {
   "cell_type": "markdown",
   "metadata": {
    "id": "0NqSHXm3vHam"
   },
   "source": [
    "Importing pandas to read the csv file"
   ]
  },
  {
   "cell_type": "code",
   "execution_count": null,
   "metadata": {
    "id": "I6Cn07ojuvF2"
   },
   "outputs": [],
   "source": [
    "import sklearn\n",
    "import pandas as pd\n",
    "import numpy as np"
   ]
  },
  {
   "cell_type": "code",
   "execution_count": null,
   "metadata": {
    "id": "0X3oqCfMuvHy"
   },
   "outputs": [],
   "source": [
    "data = pd.read_csv('diabetes.csv')"
   ]
  },
  {
   "cell_type": "code",
   "execution_count": null,
   "metadata": {
    "colab": {
     "base_uri": "https://localhost:8080/",
     "height": 206
    },
    "id": "qPbmnQlyuvLb",
    "outputId": "333fd2a9-c3b4-453f-bbc7-e488daf182e8"
   },
   "outputs": [
    {
     "data": {
      "text/html": [
       "\n",
       "  <div id=\"df-0e3fc2d9-af17-42da-9477-3b0a86bf0d9c\">\n",
       "    <div class=\"colab-df-container\">\n",
       "      <div>\n",
       "<style scoped>\n",
       "    .dataframe tbody tr th:only-of-type {\n",
       "        vertical-align: middle;\n",
       "    }\n",
       "\n",
       "    .dataframe tbody tr th {\n",
       "        vertical-align: top;\n",
       "    }\n",
       "\n",
       "    .dataframe thead th {\n",
       "        text-align: right;\n",
       "    }\n",
       "</style>\n",
       "<table border=\"1\" class=\"dataframe\">\n",
       "  <thead>\n",
       "    <tr style=\"text-align: right;\">\n",
       "      <th></th>\n",
       "      <th>Pregnancies</th>\n",
       "      <th>Glucose</th>\n",
       "      <th>BloodPressure</th>\n",
       "      <th>SkinThickness</th>\n",
       "      <th>Insulin</th>\n",
       "      <th>BMI</th>\n",
       "      <th>DiabetesPedigreeFunction</th>\n",
       "      <th>Age</th>\n",
       "      <th>Outcome</th>\n",
       "    </tr>\n",
       "  </thead>\n",
       "  <tbody>\n",
       "    <tr>\n",
       "      <th>0</th>\n",
       "      <td>6</td>\n",
       "      <td>148</td>\n",
       "      <td>72</td>\n",
       "      <td>35</td>\n",
       "      <td>0</td>\n",
       "      <td>33.6</td>\n",
       "      <td>0.627</td>\n",
       "      <td>50</td>\n",
       "      <td>1</td>\n",
       "    </tr>\n",
       "    <tr>\n",
       "      <th>1</th>\n",
       "      <td>1</td>\n",
       "      <td>85</td>\n",
       "      <td>66</td>\n",
       "      <td>29</td>\n",
       "      <td>0</td>\n",
       "      <td>26.6</td>\n",
       "      <td>0.351</td>\n",
       "      <td>31</td>\n",
       "      <td>0</td>\n",
       "    </tr>\n",
       "    <tr>\n",
       "      <th>2</th>\n",
       "      <td>8</td>\n",
       "      <td>183</td>\n",
       "      <td>64</td>\n",
       "      <td>0</td>\n",
       "      <td>0</td>\n",
       "      <td>23.3</td>\n",
       "      <td>0.672</td>\n",
       "      <td>32</td>\n",
       "      <td>1</td>\n",
       "    </tr>\n",
       "    <tr>\n",
       "      <th>3</th>\n",
       "      <td>1</td>\n",
       "      <td>89</td>\n",
       "      <td>66</td>\n",
       "      <td>23</td>\n",
       "      <td>94</td>\n",
       "      <td>28.1</td>\n",
       "      <td>0.167</td>\n",
       "      <td>21</td>\n",
       "      <td>0</td>\n",
       "    </tr>\n",
       "    <tr>\n",
       "      <th>4</th>\n",
       "      <td>0</td>\n",
       "      <td>137</td>\n",
       "      <td>40</td>\n",
       "      <td>35</td>\n",
       "      <td>168</td>\n",
       "      <td>43.1</td>\n",
       "      <td>2.288</td>\n",
       "      <td>33</td>\n",
       "      <td>1</td>\n",
       "    </tr>\n",
       "  </tbody>\n",
       "</table>\n",
       "</div>\n",
       "      <button class=\"colab-df-convert\" onclick=\"convertToInteractive('df-0e3fc2d9-af17-42da-9477-3b0a86bf0d9c')\"\n",
       "              title=\"Convert this dataframe to an interactive table.\"\n",
       "              style=\"display:none;\">\n",
       "        \n",
       "  <svg xmlns=\"http://www.w3.org/2000/svg\" height=\"24px\"viewBox=\"0 0 24 24\"\n",
       "       width=\"24px\">\n",
       "    <path d=\"M0 0h24v24H0V0z\" fill=\"none\"/>\n",
       "    <path d=\"M18.56 5.44l.94 2.06.94-2.06 2.06-.94-2.06-.94-.94-2.06-.94 2.06-2.06.94zm-11 1L8.5 8.5l.94-2.06 2.06-.94-2.06-.94L8.5 2.5l-.94 2.06-2.06.94zm10 10l.94 2.06.94-2.06 2.06-.94-2.06-.94-.94-2.06-.94 2.06-2.06.94z\"/><path d=\"M17.41 7.96l-1.37-1.37c-.4-.4-.92-.59-1.43-.59-.52 0-1.04.2-1.43.59L10.3 9.45l-7.72 7.72c-.78.78-.78 2.05 0 2.83L4 21.41c.39.39.9.59 1.41.59.51 0 1.02-.2 1.41-.59l7.78-7.78 2.81-2.81c.8-.78.8-2.07 0-2.86zM5.41 20L4 18.59l7.72-7.72 1.47 1.35L5.41 20z\"/>\n",
       "  </svg>\n",
       "      </button>\n",
       "      \n",
       "  <style>\n",
       "    .colab-df-container {\n",
       "      display:flex;\n",
       "      flex-wrap:wrap;\n",
       "      gap: 12px;\n",
       "    }\n",
       "\n",
       "    .colab-df-convert {\n",
       "      background-color: #E8F0FE;\n",
       "      border: none;\n",
       "      border-radius: 50%;\n",
       "      cursor: pointer;\n",
       "      display: none;\n",
       "      fill: #1967D2;\n",
       "      height: 32px;\n",
       "      padding: 0 0 0 0;\n",
       "      width: 32px;\n",
       "    }\n",
       "\n",
       "    .colab-df-convert:hover {\n",
       "      background-color: #E2EBFA;\n",
       "      box-shadow: 0px 1px 2px rgba(60, 64, 67, 0.3), 0px 1px 3px 1px rgba(60, 64, 67, 0.15);\n",
       "      fill: #174EA6;\n",
       "    }\n",
       "\n",
       "    [theme=dark] .colab-df-convert {\n",
       "      background-color: #3B4455;\n",
       "      fill: #D2E3FC;\n",
       "    }\n",
       "\n",
       "    [theme=dark] .colab-df-convert:hover {\n",
       "      background-color: #434B5C;\n",
       "      box-shadow: 0px 1px 3px 1px rgba(0, 0, 0, 0.15);\n",
       "      filter: drop-shadow(0px 1px 2px rgba(0, 0, 0, 0.3));\n",
       "      fill: #FFFFFF;\n",
       "    }\n",
       "  </style>\n",
       "\n",
       "      <script>\n",
       "        const buttonEl =\n",
       "          document.querySelector('#df-0e3fc2d9-af17-42da-9477-3b0a86bf0d9c button.colab-df-convert');\n",
       "        buttonEl.style.display =\n",
       "          google.colab.kernel.accessAllowed ? 'block' : 'none';\n",
       "\n",
       "        async function convertToInteractive(key) {\n",
       "          const element = document.querySelector('#df-0e3fc2d9-af17-42da-9477-3b0a86bf0d9c');\n",
       "          const dataTable =\n",
       "            await google.colab.kernel.invokeFunction('convertToInteractive',\n",
       "                                                     [key], {});\n",
       "          if (!dataTable) return;\n",
       "\n",
       "          const docLinkHtml = 'Like what you see? Visit the ' +\n",
       "            '<a target=\"_blank\" href=https://colab.research.google.com/notebooks/data_table.ipynb>data table notebook</a>'\n",
       "            + ' to learn more about interactive tables.';\n",
       "          element.innerHTML = '';\n",
       "          dataTable['output_type'] = 'display_data';\n",
       "          await google.colab.output.renderOutput(dataTable, element);\n",
       "          const docLink = document.createElement('div');\n",
       "          docLink.innerHTML = docLinkHtml;\n",
       "          element.appendChild(docLink);\n",
       "        }\n",
       "      </script>\n",
       "    </div>\n",
       "  </div>\n",
       "  "
      ],
      "text/plain": [
       "   Pregnancies  Glucose  BloodPressure  ...  DiabetesPedigreeFunction  Age  Outcome\n",
       "0            6      148             72  ...                     0.627   50        1\n",
       "1            1       85             66  ...                     0.351   31        0\n",
       "2            8      183             64  ...                     0.672   32        1\n",
       "3            1       89             66  ...                     0.167   21        0\n",
       "4            0      137             40  ...                     2.288   33        1\n",
       "\n",
       "[5 rows x 9 columns]"
      ]
     },
     "execution_count": 240,
     "metadata": {},
     "output_type": "execute_result"
    }
   ],
   "source": [
    "data.head()\n",
    "#Reading the head of the file."
   ]
  },
  {
   "cell_type": "code",
   "execution_count": null,
   "metadata": {
    "colab": {
     "base_uri": "https://localhost:8080/",
     "height": 206
    },
    "id": "dlrcZ_vmrJZe",
    "outputId": "b44745a2-20dd-4913-f985-9fdc71795e61"
   },
   "outputs": [
    {
     "data": {
      "text/html": [
       "\n",
       "  <div id=\"df-b0f452be-0887-4cd2-b748-fe8b9237cffa\">\n",
       "    <div class=\"colab-df-container\">\n",
       "      <div>\n",
       "<style scoped>\n",
       "    .dataframe tbody tr th:only-of-type {\n",
       "        vertical-align: middle;\n",
       "    }\n",
       "\n",
       "    .dataframe tbody tr th {\n",
       "        vertical-align: top;\n",
       "    }\n",
       "\n",
       "    .dataframe thead th {\n",
       "        text-align: right;\n",
       "    }\n",
       "</style>\n",
       "<table border=\"1\" class=\"dataframe\">\n",
       "  <thead>\n",
       "    <tr style=\"text-align: right;\">\n",
       "      <th></th>\n",
       "      <th>Pregnancies</th>\n",
       "      <th>Glucose</th>\n",
       "      <th>BloodPressure</th>\n",
       "      <th>SkinThickness</th>\n",
       "      <th>Insulin</th>\n",
       "      <th>BMI</th>\n",
       "      <th>DiabetesPedigreeFunction</th>\n",
       "      <th>Age</th>\n",
       "      <th>Outcome</th>\n",
       "    </tr>\n",
       "  </thead>\n",
       "  <tbody>\n",
       "    <tr>\n",
       "      <th>763</th>\n",
       "      <td>10</td>\n",
       "      <td>101</td>\n",
       "      <td>76</td>\n",
       "      <td>48</td>\n",
       "      <td>180</td>\n",
       "      <td>32.9</td>\n",
       "      <td>0.171</td>\n",
       "      <td>63</td>\n",
       "      <td>0</td>\n",
       "    </tr>\n",
       "    <tr>\n",
       "      <th>764</th>\n",
       "      <td>2</td>\n",
       "      <td>122</td>\n",
       "      <td>70</td>\n",
       "      <td>27</td>\n",
       "      <td>0</td>\n",
       "      <td>36.8</td>\n",
       "      <td>0.340</td>\n",
       "      <td>27</td>\n",
       "      <td>0</td>\n",
       "    </tr>\n",
       "    <tr>\n",
       "      <th>765</th>\n",
       "      <td>5</td>\n",
       "      <td>121</td>\n",
       "      <td>72</td>\n",
       "      <td>23</td>\n",
       "      <td>112</td>\n",
       "      <td>26.2</td>\n",
       "      <td>0.245</td>\n",
       "      <td>30</td>\n",
       "      <td>0</td>\n",
       "    </tr>\n",
       "    <tr>\n",
       "      <th>766</th>\n",
       "      <td>1</td>\n",
       "      <td>126</td>\n",
       "      <td>60</td>\n",
       "      <td>0</td>\n",
       "      <td>0</td>\n",
       "      <td>30.1</td>\n",
       "      <td>0.349</td>\n",
       "      <td>47</td>\n",
       "      <td>1</td>\n",
       "    </tr>\n",
       "    <tr>\n",
       "      <th>767</th>\n",
       "      <td>1</td>\n",
       "      <td>93</td>\n",
       "      <td>70</td>\n",
       "      <td>31</td>\n",
       "      <td>0</td>\n",
       "      <td>30.4</td>\n",
       "      <td>0.315</td>\n",
       "      <td>23</td>\n",
       "      <td>0</td>\n",
       "    </tr>\n",
       "  </tbody>\n",
       "</table>\n",
       "</div>\n",
       "      <button class=\"colab-df-convert\" onclick=\"convertToInteractive('df-b0f452be-0887-4cd2-b748-fe8b9237cffa')\"\n",
       "              title=\"Convert this dataframe to an interactive table.\"\n",
       "              style=\"display:none;\">\n",
       "        \n",
       "  <svg xmlns=\"http://www.w3.org/2000/svg\" height=\"24px\"viewBox=\"0 0 24 24\"\n",
       "       width=\"24px\">\n",
       "    <path d=\"M0 0h24v24H0V0z\" fill=\"none\"/>\n",
       "    <path d=\"M18.56 5.44l.94 2.06.94-2.06 2.06-.94-2.06-.94-.94-2.06-.94 2.06-2.06.94zm-11 1L8.5 8.5l.94-2.06 2.06-.94-2.06-.94L8.5 2.5l-.94 2.06-2.06.94zm10 10l.94 2.06.94-2.06 2.06-.94-2.06-.94-.94-2.06-.94 2.06-2.06.94z\"/><path d=\"M17.41 7.96l-1.37-1.37c-.4-.4-.92-.59-1.43-.59-.52 0-1.04.2-1.43.59L10.3 9.45l-7.72 7.72c-.78.78-.78 2.05 0 2.83L4 21.41c.39.39.9.59 1.41.59.51 0 1.02-.2 1.41-.59l7.78-7.78 2.81-2.81c.8-.78.8-2.07 0-2.86zM5.41 20L4 18.59l7.72-7.72 1.47 1.35L5.41 20z\"/>\n",
       "  </svg>\n",
       "      </button>\n",
       "      \n",
       "  <style>\n",
       "    .colab-df-container {\n",
       "      display:flex;\n",
       "      flex-wrap:wrap;\n",
       "      gap: 12px;\n",
       "    }\n",
       "\n",
       "    .colab-df-convert {\n",
       "      background-color: #E8F0FE;\n",
       "      border: none;\n",
       "      border-radius: 50%;\n",
       "      cursor: pointer;\n",
       "      display: none;\n",
       "      fill: #1967D2;\n",
       "      height: 32px;\n",
       "      padding: 0 0 0 0;\n",
       "      width: 32px;\n",
       "    }\n",
       "\n",
       "    .colab-df-convert:hover {\n",
       "      background-color: #E2EBFA;\n",
       "      box-shadow: 0px 1px 2px rgba(60, 64, 67, 0.3), 0px 1px 3px 1px rgba(60, 64, 67, 0.15);\n",
       "      fill: #174EA6;\n",
       "    }\n",
       "\n",
       "    [theme=dark] .colab-df-convert {\n",
       "      background-color: #3B4455;\n",
       "      fill: #D2E3FC;\n",
       "    }\n",
       "\n",
       "    [theme=dark] .colab-df-convert:hover {\n",
       "      background-color: #434B5C;\n",
       "      box-shadow: 0px 1px 3px 1px rgba(0, 0, 0, 0.15);\n",
       "      filter: drop-shadow(0px 1px 2px rgba(0, 0, 0, 0.3));\n",
       "      fill: #FFFFFF;\n",
       "    }\n",
       "  </style>\n",
       "\n",
       "      <script>\n",
       "        const buttonEl =\n",
       "          document.querySelector('#df-b0f452be-0887-4cd2-b748-fe8b9237cffa button.colab-df-convert');\n",
       "        buttonEl.style.display =\n",
       "          google.colab.kernel.accessAllowed ? 'block' : 'none';\n",
       "\n",
       "        async function convertToInteractive(key) {\n",
       "          const element = document.querySelector('#df-b0f452be-0887-4cd2-b748-fe8b9237cffa');\n",
       "          const dataTable =\n",
       "            await google.colab.kernel.invokeFunction('convertToInteractive',\n",
       "                                                     [key], {});\n",
       "          if (!dataTable) return;\n",
       "\n",
       "          const docLinkHtml = 'Like what you see? Visit the ' +\n",
       "            '<a target=\"_blank\" href=https://colab.research.google.com/notebooks/data_table.ipynb>data table notebook</a>'\n",
       "            + ' to learn more about interactive tables.';\n",
       "          element.innerHTML = '';\n",
       "          dataTable['output_type'] = 'display_data';\n",
       "          await google.colab.output.renderOutput(dataTable, element);\n",
       "          const docLink = document.createElement('div');\n",
       "          docLink.innerHTML = docLinkHtml;\n",
       "          element.appendChild(docLink);\n",
       "        }\n",
       "      </script>\n",
       "    </div>\n",
       "  </div>\n",
       "  "
      ],
      "text/plain": [
       "     Pregnancies  Glucose  ...  Age  Outcome\n",
       "763           10      101  ...   63        0\n",
       "764            2      122  ...   27        0\n",
       "765            5      121  ...   30        0\n",
       "766            1      126  ...   47        1\n",
       "767            1       93  ...   23        0\n",
       "\n",
       "[5 rows x 9 columns]"
      ]
     },
     "execution_count": 241,
     "metadata": {},
     "output_type": "execute_result"
    }
   ],
   "source": [
    "data.tail()"
   ]
  },
  {
   "cell_type": "code",
   "execution_count": null,
   "metadata": {
    "colab": {
     "base_uri": "https://localhost:8080/"
    },
    "id": "lN---lpe3niY",
    "outputId": "0a9284b7-bf91-45c7-9841-5c139557318f"
   },
   "outputs": [
    {
     "data": {
      "text/plain": [
       "(768, 9)"
      ]
     },
     "execution_count": 242,
     "metadata": {},
     "output_type": "execute_result"
    }
   ],
   "source": [
    "data.shape"
   ]
  },
  {
   "cell_type": "code",
   "execution_count": null,
   "metadata": {
    "colab": {
     "base_uri": "https://localhost:8080/"
    },
    "id": "AghtbpLVyV_d",
    "outputId": "7ecbe9ec-da4d-4351-d060-4945bf2016f9"
   },
   "outputs": [
    {
     "name": "stdout",
     "output_type": "stream",
     "text": [
      "Total number of rows : 768\n",
      "Number of missing rows in Pregnancies: 111\n",
      "Number of missing rows in Glucose: 5\n",
      "Number of missing rows in BloodPressure: 35\n",
      "Number of missing rows in SkinThickness: 227\n",
      "Number of missing rows in Insulin: 374\n",
      "Number of missing rows in BMI: 11\n",
      "Number of rows missing DiabetesPedigreeFunction: 0\n",
      "Number of missing rows in Age: 0\n"
     ]
    }
   ],
   "source": [
    "#I can see there are zeros in some features. Let me see how much they are.\n",
    "#Checking the zero values\n",
    "print(\"Total number of rows : {0}\".format(len(data)))\n",
    "print(\"Number of missing rows in Pregnancies: {0}\".format(len(data.loc[data['Pregnancies'] == 0])))\n",
    "print(\"Number of missing rows in Glucose: {0}\".format(len(data.loc[data['Glucose'] == 0])))\n",
    "print(\"Number of missing rows in BloodPressure: {0}\".format(len(data.loc[data['BloodPressure'] == 0])))\n",
    "print(\"Number of missing rows in SkinThickness: {0}\".format(len(data.loc[data['SkinThickness'] == 0])))\n",
    "print(\"Number of missing rows in Insulin: {0}\".format(len(data.loc[data['Insulin'] == 0])))\n",
    "print(\"Number of missing rows in BMI: {0}\".format(len(data.loc[data['BMI'] == 0])))\n",
    "print(\"Number of rows missing DiabetesPedigreeFunction: {0}\".format(len(data.loc[data['DiabetesPedigreeFunction']==0])))\n",
    "print(\"Number of missing rows in Age: {0}\".format(len(data.loc[data['Age'] == 0])))"
   ]
  },
  {
   "cell_type": "code",
   "execution_count": null,
   "metadata": {
    "id": "gTqfvN_Yrnch"
   },
   "outputs": [],
   "source": [
    "#I need to do something with it especially where there are a lot of zeros.\n",
    "#I will be replacing with the mean and median\n",
    "data['Glucose'] = data['Glucose'].replace(0, data['Glucose'].mean())\n",
    "# Correcting missing values in blood pressure\n",
    "data['BloodPressure'] = data['BloodPressure'].replace(0, data['BloodPressure'].mean()) # There are 35 records with 0 BloodPressure in dataset\n",
    "# Correcting missing values in BMI\n",
    "data['BMI'] = data['BMI'].replace(0, data['BMI'].mean())\n",
    "\n",
    "# Correct missing values in Insulin and SkinThickness\n",
    "data['SkinThickness'] = data['SkinThickness'].replace(0, data['SkinThickness'].median())\n",
    "\n",
    "data['Insulin'] = data['Insulin'].replace(0, data['Insulin'].median())\n",
    "# Correct missing values in Preganacy\n",
    "data['Pregnancies'] = data['Pregnancies'].replace(0, data['Pregnancies'].median())"
   ]
  },
  {
   "cell_type": "code",
   "execution_count": null,
   "metadata": {
    "colab": {
     "base_uri": "https://localhost:8080/",
     "height": 300
    },
    "id": "B9HGp2gOt330",
    "outputId": "e86a44a3-9eac-4e1b-ef08-6b36e550317a"
   },
   "outputs": [
    {
     "data": {
      "text/html": [
       "\n",
       "  <div id=\"df-864d5846-d5c3-4f68-a776-161fd64e3ae4\">\n",
       "    <div class=\"colab-df-container\">\n",
       "      <div>\n",
       "<style scoped>\n",
       "    .dataframe tbody tr th:only-of-type {\n",
       "        vertical-align: middle;\n",
       "    }\n",
       "\n",
       "    .dataframe tbody tr th {\n",
       "        vertical-align: top;\n",
       "    }\n",
       "\n",
       "    .dataframe thead th {\n",
       "        text-align: right;\n",
       "    }\n",
       "</style>\n",
       "<table border=\"1\" class=\"dataframe\">\n",
       "  <thead>\n",
       "    <tr style=\"text-align: right;\">\n",
       "      <th></th>\n",
       "      <th>Pregnancies</th>\n",
       "      <th>Glucose</th>\n",
       "      <th>BloodPressure</th>\n",
       "      <th>SkinThickness</th>\n",
       "      <th>Insulin</th>\n",
       "      <th>BMI</th>\n",
       "      <th>DiabetesPedigreeFunction</th>\n",
       "      <th>Age</th>\n",
       "      <th>Outcome</th>\n",
       "    </tr>\n",
       "  </thead>\n",
       "  <tbody>\n",
       "    <tr>\n",
       "      <th>count</th>\n",
       "      <td>768.000000</td>\n",
       "      <td>768.000000</td>\n",
       "      <td>768.000000</td>\n",
       "      <td>768.000000</td>\n",
       "      <td>768.000000</td>\n",
       "      <td>768.000000</td>\n",
       "      <td>768.000000</td>\n",
       "      <td>768.000000</td>\n",
       "      <td>768.000000</td>\n",
       "    </tr>\n",
       "    <tr>\n",
       "      <th>mean</th>\n",
       "      <td>4.278646</td>\n",
       "      <td>121.681605</td>\n",
       "      <td>72.254807</td>\n",
       "      <td>27.334635</td>\n",
       "      <td>94.652344</td>\n",
       "      <td>32.450805</td>\n",
       "      <td>0.471876</td>\n",
       "      <td>33.240885</td>\n",
       "      <td>0.348958</td>\n",
       "    </tr>\n",
       "    <tr>\n",
       "      <th>std</th>\n",
       "      <td>3.021516</td>\n",
       "      <td>30.436016</td>\n",
       "      <td>12.115932</td>\n",
       "      <td>9.229014</td>\n",
       "      <td>105.547598</td>\n",
       "      <td>6.875374</td>\n",
       "      <td>0.331329</td>\n",
       "      <td>11.760232</td>\n",
       "      <td>0.476951</td>\n",
       "    </tr>\n",
       "    <tr>\n",
       "      <th>min</th>\n",
       "      <td>1.000000</td>\n",
       "      <td>44.000000</td>\n",
       "      <td>24.000000</td>\n",
       "      <td>7.000000</td>\n",
       "      <td>14.000000</td>\n",
       "      <td>18.200000</td>\n",
       "      <td>0.078000</td>\n",
       "      <td>21.000000</td>\n",
       "      <td>0.000000</td>\n",
       "    </tr>\n",
       "    <tr>\n",
       "      <th>25%</th>\n",
       "      <td>2.000000</td>\n",
       "      <td>99.750000</td>\n",
       "      <td>64.000000</td>\n",
       "      <td>23.000000</td>\n",
       "      <td>30.500000</td>\n",
       "      <td>27.500000</td>\n",
       "      <td>0.243750</td>\n",
       "      <td>24.000000</td>\n",
       "      <td>0.000000</td>\n",
       "    </tr>\n",
       "    <tr>\n",
       "      <th>50%</th>\n",
       "      <td>3.000000</td>\n",
       "      <td>117.000000</td>\n",
       "      <td>72.000000</td>\n",
       "      <td>23.000000</td>\n",
       "      <td>31.250000</td>\n",
       "      <td>32.000000</td>\n",
       "      <td>0.372500</td>\n",
       "      <td>29.000000</td>\n",
       "      <td>0.000000</td>\n",
       "    </tr>\n",
       "    <tr>\n",
       "      <th>75%</th>\n",
       "      <td>6.000000</td>\n",
       "      <td>140.250000</td>\n",
       "      <td>80.000000</td>\n",
       "      <td>32.000000</td>\n",
       "      <td>127.250000</td>\n",
       "      <td>36.600000</td>\n",
       "      <td>0.626250</td>\n",
       "      <td>41.000000</td>\n",
       "      <td>1.000000</td>\n",
       "    </tr>\n",
       "    <tr>\n",
       "      <th>max</th>\n",
       "      <td>17.000000</td>\n",
       "      <td>199.000000</td>\n",
       "      <td>122.000000</td>\n",
       "      <td>99.000000</td>\n",
       "      <td>846.000000</td>\n",
       "      <td>67.100000</td>\n",
       "      <td>2.420000</td>\n",
       "      <td>81.000000</td>\n",
       "      <td>1.000000</td>\n",
       "    </tr>\n",
       "  </tbody>\n",
       "</table>\n",
       "</div>\n",
       "      <button class=\"colab-df-convert\" onclick=\"convertToInteractive('df-864d5846-d5c3-4f68-a776-161fd64e3ae4')\"\n",
       "              title=\"Convert this dataframe to an interactive table.\"\n",
       "              style=\"display:none;\">\n",
       "        \n",
       "  <svg xmlns=\"http://www.w3.org/2000/svg\" height=\"24px\"viewBox=\"0 0 24 24\"\n",
       "       width=\"24px\">\n",
       "    <path d=\"M0 0h24v24H0V0z\" fill=\"none\"/>\n",
       "    <path d=\"M18.56 5.44l.94 2.06.94-2.06 2.06-.94-2.06-.94-.94-2.06-.94 2.06-2.06.94zm-11 1L8.5 8.5l.94-2.06 2.06-.94-2.06-.94L8.5 2.5l-.94 2.06-2.06.94zm10 10l.94 2.06.94-2.06 2.06-.94-2.06-.94-.94-2.06-.94 2.06-2.06.94z\"/><path d=\"M17.41 7.96l-1.37-1.37c-.4-.4-.92-.59-1.43-.59-.52 0-1.04.2-1.43.59L10.3 9.45l-7.72 7.72c-.78.78-.78 2.05 0 2.83L4 21.41c.39.39.9.59 1.41.59.51 0 1.02-.2 1.41-.59l7.78-7.78 2.81-2.81c.8-.78.8-2.07 0-2.86zM5.41 20L4 18.59l7.72-7.72 1.47 1.35L5.41 20z\"/>\n",
       "  </svg>\n",
       "      </button>\n",
       "      \n",
       "  <style>\n",
       "    .colab-df-container {\n",
       "      display:flex;\n",
       "      flex-wrap:wrap;\n",
       "      gap: 12px;\n",
       "    }\n",
       "\n",
       "    .colab-df-convert {\n",
       "      background-color: #E8F0FE;\n",
       "      border: none;\n",
       "      border-radius: 50%;\n",
       "      cursor: pointer;\n",
       "      display: none;\n",
       "      fill: #1967D2;\n",
       "      height: 32px;\n",
       "      padding: 0 0 0 0;\n",
       "      width: 32px;\n",
       "    }\n",
       "\n",
       "    .colab-df-convert:hover {\n",
       "      background-color: #E2EBFA;\n",
       "      box-shadow: 0px 1px 2px rgba(60, 64, 67, 0.3), 0px 1px 3px 1px rgba(60, 64, 67, 0.15);\n",
       "      fill: #174EA6;\n",
       "    }\n",
       "\n",
       "    [theme=dark] .colab-df-convert {\n",
       "      background-color: #3B4455;\n",
       "      fill: #D2E3FC;\n",
       "    }\n",
       "\n",
       "    [theme=dark] .colab-df-convert:hover {\n",
       "      background-color: #434B5C;\n",
       "      box-shadow: 0px 1px 3px 1px rgba(0, 0, 0, 0.15);\n",
       "      filter: drop-shadow(0px 1px 2px rgba(0, 0, 0, 0.3));\n",
       "      fill: #FFFFFF;\n",
       "    }\n",
       "  </style>\n",
       "\n",
       "      <script>\n",
       "        const buttonEl =\n",
       "          document.querySelector('#df-864d5846-d5c3-4f68-a776-161fd64e3ae4 button.colab-df-convert');\n",
       "        buttonEl.style.display =\n",
       "          google.colab.kernel.accessAllowed ? 'block' : 'none';\n",
       "\n",
       "        async function convertToInteractive(key) {\n",
       "          const element = document.querySelector('#df-864d5846-d5c3-4f68-a776-161fd64e3ae4');\n",
       "          const dataTable =\n",
       "            await google.colab.kernel.invokeFunction('convertToInteractive',\n",
       "                                                     [key], {});\n",
       "          if (!dataTable) return;\n",
       "\n",
       "          const docLinkHtml = 'Like what you see? Visit the ' +\n",
       "            '<a target=\"_blank\" href=https://colab.research.google.com/notebooks/data_table.ipynb>data table notebook</a>'\n",
       "            + ' to learn more about interactive tables.';\n",
       "          element.innerHTML = '';\n",
       "          dataTable['output_type'] = 'display_data';\n",
       "          await google.colab.output.renderOutput(dataTable, element);\n",
       "          const docLink = document.createElement('div');\n",
       "          docLink.innerHTML = docLinkHtml;\n",
       "          element.appendChild(docLink);\n",
       "        }\n",
       "      </script>\n",
       "    </div>\n",
       "  </div>\n",
       "  "
      ],
      "text/plain": [
       "       Pregnancies     Glucose  ...         Age     Outcome\n",
       "count   768.000000  768.000000  ...  768.000000  768.000000\n",
       "mean      4.278646  121.681605  ...   33.240885    0.348958\n",
       "std       3.021516   30.436016  ...   11.760232    0.476951\n",
       "min       1.000000   44.000000  ...   21.000000    0.000000\n",
       "25%       2.000000   99.750000  ...   24.000000    0.000000\n",
       "50%       3.000000  117.000000  ...   29.000000    0.000000\n",
       "75%       6.000000  140.250000  ...   41.000000    1.000000\n",
       "max      17.000000  199.000000  ...   81.000000    1.000000\n",
       "\n",
       "[8 rows x 9 columns]"
      ]
     },
     "execution_count": 245,
     "metadata": {},
     "output_type": "execute_result"
    }
   ],
   "source": [
    "#Lets review our data\n",
    "data.describe()"
   ]
  },
  {
   "cell_type": "code",
   "execution_count": null,
   "metadata": {
    "colab": {
     "base_uri": "https://localhost:8080/"
    },
    "id": "88nmIWWiyzUI",
    "outputId": "f513e170-4420-4a60-ec47-5d964d5300bf"
   },
   "outputs": [
    {
     "name": "stdout",
     "output_type": "stream",
     "text": [
      "<class 'pandas.core.frame.DataFrame'>\n",
      "RangeIndex: 768 entries, 0 to 767\n",
      "Data columns (total 9 columns):\n",
      " #   Column                    Non-Null Count  Dtype  \n",
      "---  ------                    --------------  -----  \n",
      " 0   Pregnancies               768 non-null    int64  \n",
      " 1   Glucose                   768 non-null    float64\n",
      " 2   BloodPressure             768 non-null    float64\n",
      " 3   SkinThickness             768 non-null    int64  \n",
      " 4   Insulin                   768 non-null    float64\n",
      " 5   BMI                       768 non-null    float64\n",
      " 6   DiabetesPedigreeFunction  768 non-null    float64\n",
      " 7   Age                       768 non-null    int64  \n",
      " 8   Outcome                   768 non-null    int64  \n",
      "dtypes: float64(5), int64(4)\n",
      "memory usage: 54.1 KB\n"
     ]
    }
   ],
   "source": [
    "data.info()"
   ]
  },
  {
   "cell_type": "code",
   "execution_count": null,
   "metadata": {
    "colab": {
     "base_uri": "https://localhost:8080/"
    },
    "id": "eZ1digEj3sdr",
    "outputId": "71131752-c93d-44a5-c876-040ad6119f06"
   },
   "outputs": [
    {
     "data": {
      "text/plain": [
       "False"
      ]
     },
     "execution_count": 247,
     "metadata": {},
     "output_type": "execute_result"
    }
   ],
   "source": [
    "#Checking missing values\n",
    "data.isnull().values.any()"
   ]
  },
  {
   "cell_type": "markdown",
   "metadata": {
    "id": "zpM4giZRxzLM"
   },
   "source": [
    "Exploratory Data Analysis and Data Viz"
   ]
  },
  {
   "cell_type": "code",
   "execution_count": null,
   "metadata": {
    "id": "r8m6Yp-6yVjp"
   },
   "outputs": [],
   "source": [
    "#Will be using seaborn\n",
    "import seaborn as sns\n",
    "import matplotlib.pyplot as plt\n",
    "import warnings\n",
    "warnings.filterwarnings('ignore')\n",
    "%matplotlib inline"
   ]
  },
  {
   "cell_type": "code",
   "execution_count": null,
   "metadata": {
    "colab": {
     "base_uri": "https://localhost:8080/",
     "height": 1000
    },
    "id": "z3RRygQD8RWd",
    "outputId": "928341c3-9472-46bf-cb31-53e2e3df8670"
   },
   "outputs": [
    {
     "data": {
      "image/png": "[encoded data removed]",
      "text/plain": [
       "<Figure size 1440x1440 with 2 Axes>"
      ]
     },
     "metadata": {
      "needs_background": "light"
     },
     "output_type": "display_data"
    }
   ],
   "source": [
    "#Lets see the correlation betweeb the features using a heatmap\n",
    "corrmat = data.corr()\n",
    "top_corr_features = corrmat.index\n",
    "plt.figure(figsize=(20,20))\n",
    "#plot heat map\n",
    "g=sns.heatmap(data[top_corr_features].corr(),annot=True,cmap=\"RdYlGn\")\n"
   ]
  },
  {
   "cell_type": "code",
   "execution_count": null,
   "metadata": {
    "colab": {
     "base_uri": "https://localhost:8080/",
     "height": 332
    },
    "id": "R_DkYdDf8xvP",
    "outputId": "0245372a-8b06-4006-b2bb-8ac05e0a826c"
   },
   "outputs": [
    {
     "data": {
      "text/html": [
       "\n",
       "  <div id=\"df-c4eb1b6c-7707-4ff0-98cc-9d0ce2c8445d\">\n",
       "    <div class=\"colab-df-container\">\n",
       "      <div>\n",
       "<style scoped>\n",
       "    .dataframe tbody tr th:only-of-type {\n",
       "        vertical-align: middle;\n",
       "    }\n",
       "\n",
       "    .dataframe tbody tr th {\n",
       "        vertical-align: top;\n",
       "    }\n",
       "\n",
       "    .dataframe thead th {\n",
       "        text-align: right;\n",
       "    }\n",
       "</style>\n",
       "<table border=\"1\" class=\"dataframe\">\n",
       "  <thead>\n",
       "    <tr style=\"text-align: right;\">\n",
       "      <th></th>\n",
       "      <th>Pregnancies</th>\n",
       "      <th>Glucose</th>\n",
       "      <th>BloodPressure</th>\n",
       "      <th>SkinThickness</th>\n",
       "      <th>Insulin</th>\n",
       "      <th>BMI</th>\n",
       "      <th>DiabetesPedigreeFunction</th>\n",
       "      <th>Age</th>\n",
       "      <th>Outcome</th>\n",
       "    </tr>\n",
       "  </thead>\n",
       "  <tbody>\n",
       "    <tr>\n",
       "      <th>Pregnancies</th>\n",
       "      <td>1.000000</td>\n",
       "      <td>0.148929</td>\n",
       "      <td>0.246388</td>\n",
       "      <td>0.060706</td>\n",
       "      <td>-0.059580</td>\n",
       "      <td>0.080538</td>\n",
       "      <td>-0.016151</td>\n",
       "      <td>0.538169</td>\n",
       "      <td>0.245466</td>\n",
       "    </tr>\n",
       "    <tr>\n",
       "      <th>Glucose</th>\n",
       "      <td>0.148929</td>\n",
       "      <td>1.000000</td>\n",
       "      <td>0.219666</td>\n",
       "      <td>0.172361</td>\n",
       "      <td>0.357081</td>\n",
       "      <td>0.231478</td>\n",
       "      <td>0.137106</td>\n",
       "      <td>0.266600</td>\n",
       "      <td>0.492908</td>\n",
       "    </tr>\n",
       "    <tr>\n",
       "      <th>BloodPressure</th>\n",
       "      <td>0.246388</td>\n",
       "      <td>0.219666</td>\n",
       "      <td>1.000000</td>\n",
       "      <td>0.152458</td>\n",
       "      <td>-0.022049</td>\n",
       "      <td>0.281231</td>\n",
       "      <td>0.000371</td>\n",
       "      <td>0.326740</td>\n",
       "      <td>0.162986</td>\n",
       "    </tr>\n",
       "    <tr>\n",
       "      <th>SkinThickness</th>\n",
       "      <td>0.060706</td>\n",
       "      <td>0.172361</td>\n",
       "      <td>0.152458</td>\n",
       "      <td>1.000000</td>\n",
       "      <td>0.238188</td>\n",
       "      <td>0.546958</td>\n",
       "      <td>0.142977</td>\n",
       "      <td>0.054514</td>\n",
       "      <td>0.189065</td>\n",
       "    </tr>\n",
       "    <tr>\n",
       "      <th>Insulin</th>\n",
       "      <td>-0.059580</td>\n",
       "      <td>0.357081</td>\n",
       "      <td>-0.022049</td>\n",
       "      <td>0.238188</td>\n",
       "      <td>1.000000</td>\n",
       "      <td>0.189031</td>\n",
       "      <td>0.178029</td>\n",
       "      <td>-0.015413</td>\n",
       "      <td>0.148457</td>\n",
       "    </tr>\n",
       "    <tr>\n",
       "      <th>BMI</th>\n",
       "      <td>0.080538</td>\n",
       "      <td>0.231478</td>\n",
       "      <td>0.281231</td>\n",
       "      <td>0.546958</td>\n",
       "      <td>0.189031</td>\n",
       "      <td>1.000000</td>\n",
       "      <td>0.153508</td>\n",
       "      <td>0.025748</td>\n",
       "      <td>0.312254</td>\n",
       "    </tr>\n",
       "    <tr>\n",
       "      <th>DiabetesPedigreeFunction</th>\n",
       "      <td>-0.016151</td>\n",
       "      <td>0.137106</td>\n",
       "      <td>0.000371</td>\n",
       "      <td>0.142977</td>\n",
       "      <td>0.178029</td>\n",
       "      <td>0.153508</td>\n",
       "      <td>1.000000</td>\n",
       "      <td>0.033561</td>\n",
       "      <td>0.173844</td>\n",
       "    </tr>\n",
       "    <tr>\n",
       "      <th>Age</th>\n",
       "      <td>0.538169</td>\n",
       "      <td>0.266600</td>\n",
       "      <td>0.326740</td>\n",
       "      <td>0.054514</td>\n",
       "      <td>-0.015413</td>\n",
       "      <td>0.025748</td>\n",
       "      <td>0.033561</td>\n",
       "      <td>1.000000</td>\n",
       "      <td>0.238356</td>\n",
       "    </tr>\n",
       "    <tr>\n",
       "      <th>Outcome</th>\n",
       "      <td>0.245466</td>\n",
       "      <td>0.492908</td>\n",
       "      <td>0.162986</td>\n",
       "      <td>0.189065</td>\n",
       "      <td>0.148457</td>\n",
       "      <td>0.312254</td>\n",
       "      <td>0.173844</td>\n",
       "      <td>0.238356</td>\n",
       "      <td>1.000000</td>\n",
       "    </tr>\n",
       "  </tbody>\n",
       "</table>\n",
       "</div>\n",
       "      <button class=\"colab-df-convert\" onclick=\"convertToInteractive('df-c4eb1b6c-7707-4ff0-98cc-9d0ce2c8445d')\"\n",
       "              title=\"Convert this dataframe to an interactive table.\"\n",
       "              style=\"display:none;\">\n",
       "        \n",
       "  <svg xmlns=\"http://www.w3.org/2000/svg\" height=\"24px\"viewBox=\"0 0 24 24\"\n",
       "       width=\"24px\">\n",
       "    <path d=\"M0 0h24v24H0V0z\" fill=\"none\"/>\n",
       "    <path d=\"M18.56 5.44l.94 2.06.94-2.06 2.06-.94-2.06-.94-.94-2.06-.94 2.06-2.06.94zm-11 1L8.5 8.5l.94-2.06 2.06-.94-2.06-.94L8.5 2.5l-.94 2.06-2.06.94zm10 10l.94 2.06.94-2.06 2.06-.94-2.06-.94-.94-2.06-.94 2.06-2.06.94z\"/><path d=\"M17.41 7.96l-1.37-1.37c-.4-.4-.92-.59-1.43-.59-.52 0-1.04.2-1.43.59L10.3 9.45l-7.72 7.72c-.78.78-.78 2.05 0 2.83L4 21.41c.39.39.9.59 1.41.59.51 0 1.02-.2 1.41-.59l7.78-7.78 2.81-2.81c.8-.78.8-2.07 0-2.86zM5.41 20L4 18.59l7.72-7.72 1.47 1.35L5.41 20z\"/>\n",
       "  </svg>\n",
       "      </button>\n",
       "      \n",
       "  <style>\n",
       "    .colab-df-container {\n",
       "      display:flex;\n",
       "      flex-wrap:wrap;\n",
       "      gap: 12px;\n",
       "    }\n",
       "\n",
       "    .colab-df-convert {\n",
       "      background-color: #E8F0FE;\n",
       "      border: none;\n",
       "      border-radius: 50%;\n",
       "      cursor: pointer;\n",
       "      display: none;\n",
       "      fill: #1967D2;\n",
       "      height: 32px;\n",
       "      padding: 0 0 0 0;\n",
       "      width: 32px;\n",
       "    }\n",
       "\n",
       "    .colab-df-convert:hover {\n",
       "      background-color: #E2EBFA;\n",
       "      box-shadow: 0px 1px 2px rgba(60, 64, 67, 0.3), 0px 1px 3px 1px rgba(60, 64, 67, 0.15);\n",
       "      fill: #174EA6;\n",
       "    }\n",
       "\n",
       "    [theme=dark] .colab-df-convert {\n",
       "      background-color: #3B4455;\n",
       "      fill: #D2E3FC;\n",
       "    }\n",
       "\n",
       "    [theme=dark] .colab-df-convert:hover {\n",
       "      background-color: #434B5C;\n",
       "      box-shadow: 0px 1px 3px 1px rgba(0, 0, 0, 0.15);\n",
       "      filter: drop-shadow(0px 1px 2px rgba(0, 0, 0, 0.3));\n",
       "      fill: #FFFFFF;\n",
       "    }\n",
       "  </style>\n",
       "\n",
       "      <script>\n",
       "        const buttonEl =\n",
       "          document.querySelector('#df-c4eb1b6c-7707-4ff0-98cc-9d0ce2c8445d button.colab-df-convert');\n",
       "        buttonEl.style.display =\n",
       "          google.colab.kernel.accessAllowed ? 'block' : 'none';\n",
       "\n",
       "        async function convertToInteractive(key) {\n",
       "          const element = document.querySelector('#df-c4eb1b6c-7707-4ff0-98cc-9d0ce2c8445d');\n",
       "          const dataTable =\n",
       "            await google.colab.kernel.invokeFunction('convertToInteractive',\n",
       "                                                     [key], {});\n",
       "          if (!dataTable) return;\n",
       "\n",
       "          const docLinkHtml = 'Like what you see? Visit the ' +\n",
       "            '<a target=\"_blank\" href=https://colab.research.google.com/notebooks/data_table.ipynb>data table notebook</a>'\n",
       "            + ' to learn more about interactive tables.';\n",
       "          element.innerHTML = '';\n",
       "          dataTable['output_type'] = 'display_data';\n",
       "          await google.colab.output.renderOutput(dataTable, element);\n",
       "          const docLink = document.createElement('div');\n",
       "          docLink.innerHTML = docLinkHtml;\n",
       "          element.appendChild(docLink);\n",
       "        }\n",
       "      </script>\n",
       "    </div>\n",
       "  </div>\n",
       "  "
      ],
      "text/plain": [
       "                          Pregnancies   Glucose  ...       Age   Outcome\n",
       "Pregnancies                  1.000000  0.148929  ...  0.538169  0.245466\n",
       "Glucose                      0.148929  1.000000  ...  0.266600  0.492908\n",
       "BloodPressure                0.246388  0.219666  ...  0.326740  0.162986\n",
       "SkinThickness                0.060706  0.172361  ...  0.054514  0.189065\n",
       "Insulin                     -0.059580  0.357081  ... -0.015413  0.148457\n",
       "BMI                          0.080538  0.231478  ...  0.025748  0.312254\n",
       "DiabetesPedigreeFunction    -0.016151  0.137106  ...  0.033561  0.173844\n",
       "Age                          0.538169  0.266600  ...  1.000000  0.238356\n",
       "Outcome                      0.245466  0.492908  ...  0.238356  1.000000\n",
       "\n",
       "[9 rows x 9 columns]"
      ]
     },
     "execution_count": 250,
     "metadata": {},
     "output_type": "execute_result"
    }
   ],
   "source": [
    "data.corr()"
   ]
  },
  {
   "cell_type": "code",
   "execution_count": null,
   "metadata": {
    "colab": {
     "base_uri": "https://localhost:8080/",
     "height": 297
    },
    "id": "jXbRqMSayVmP",
    "outputId": "17c6c1a4-28e7-41e4-d23a-a4bc7433111d"
   },
   "outputs": [
    {
     "data": {
      "text/plain": [
       "<matplotlib.axes._subplots.AxesSubplot at 0x7f57e27f8c10>"
      ]
     },
     "execution_count": 251,
     "metadata": {},
     "output_type": "execute_result"
    },
    {
     "data": {
      "image/png": "[encoded data removed]",
      "text/plain": [
       "<Figure size 432x288 with 1 Axes>"
      ]
     },
     "metadata": {
      "needs_background": "light"
     },
     "output_type": "display_data"
    }
   ],
   "source": [
    "#Vizualizing the distributions\n",
    "sns.countplot('Outcome', data = data)\n",
    "#Just to see the distributions of the outcome"
   ]
  },
  {
   "cell_type": "code",
   "execution_count": null,
   "metadata": {
    "colab": {
     "base_uri": "https://localhost:8080/",
     "height": 294
    },
    "id": "DbAKtfVCyVo9",
    "outputId": "aeb467d4-c3ac-4dca-ac15-6501b637e889"
   },
   "outputs": [
    {
     "data": {
      "text/plain": [
       "<matplotlib.axes._subplots.AxesSubplot at 0x7f57e01fc750>"
      ]
     },
     "execution_count": 252,
     "metadata": {},
     "output_type": "execute_result"
    },
    {
     "data": {
      "image/png": "[encoded data removed]",
      "text/plain": [
       "<Figure size 432x288 with 1 Axes>"
      ]
     },
     "metadata": {
      "needs_background": "light"
     },
     "output_type": "display_data"
    }
   ],
   "source": [
    "from matplotlib import colorbar\n",
    "data.groupby('Outcome')['Glucose'].mean().plot.bar()\n",
    "#comparing the outcome with the different variables"
   ]
  },
  {
   "cell_type": "code",
   "execution_count": null,
   "metadata": {
    "colab": {
     "base_uri": "https://localhost:8080/",
     "height": 294
    },
    "id": "mPPAoVbjyVrl",
    "outputId": "c5be7749-bd42-4c97-a405-80ef31146a13"
   },
   "outputs": [
    {
     "data": {
      "text/plain": [
       "<matplotlib.axes._subplots.AxesSubplot at 0x7f57e017dd10>"
      ]
     },
     "execution_count": 253,
     "metadata": {},
     "output_type": "execute_result"
    },
    {
     "data": {
      "image/png": "[encoded data removed]",
      "text/plain": [
       "<Figure size 432x288 with 1 Axes>"
      ]
     },
     "metadata": {
      "needs_background": "light"
     },
     "output_type": "display_data"
    }
   ],
   "source": [
    "data.groupby('Outcome')['BloodPressure'].mean().plot.bar()\n",
    "#We can see that the blood pressure variable has the highest outcome."
   ]
  },
  {
   "cell_type": "code",
   "execution_count": null,
   "metadata": {
    "colab": {
     "base_uri": "https://localhost:8080/",
     "height": 294
    },
    "id": "dYmqEU9cyVun",
    "outputId": "5821b51b-9781-478a-dbb8-e098b3f0b118"
   },
   "outputs": [
    {
     "data": {
      "text/plain": [
       "<matplotlib.axes._subplots.AxesSubplot at 0x7f57e00ee950>"
      ]
     },
     "execution_count": 254,
     "metadata": {},
     "output_type": "execute_result"
    },
    {
     "data": {
      "image/png": "[encoded data removed]",
      "text/plain": [
       "<Figure size 432x288 with 1 Axes>"
      ]
     },
     "metadata": {
      "needs_background": "light"
     },
     "output_type": "display_data"
    }
   ],
   "source": [
    "data.groupby('Outcome')['SkinThickness'].mean().plot.bar()"
   ]
  },
  {
   "cell_type": "code",
   "execution_count": null,
   "metadata": {
    "colab": {
     "base_uri": "https://localhost:8080/",
     "height": 294
    },
    "id": "a1FxUP90yVyF",
    "outputId": "547da808-b2b4-48d1-d026-5faa6cf5f3c3"
   },
   "outputs": [
    {
     "data": {
      "text/plain": [
       "<matplotlib.axes._subplots.AxesSubplot at 0x7f57e004d410>"
      ]
     },
     "execution_count": 255,
     "metadata": {},
     "output_type": "execute_result"
    },
    {
     "data": {
      "image/png": "[encoded data removed]",
      "text/plain": [
       "<Figure size 432x288 with 1 Axes>"
      ]
     },
     "metadata": {
      "needs_background": "light"
     },
     "output_type": "display_data"
    }
   ],
   "source": [
    "data.groupby('Outcome')['Insulin'].mean().plot.bar()"
   ]
  },
  {
   "cell_type": "code",
   "execution_count": null,
   "metadata": {
    "colab": {
     "base_uri": "https://localhost:8080/",
     "height": 294
    },
    "id": "BRyMBeuyyV0s",
    "outputId": "1fbf8c93-01b8-4664-9df8-65c9088b79f3"
   },
   "outputs": [
    {
     "data": {
      "text/plain": [
       "<matplotlib.axes._subplots.AxesSubplot at 0x7f57e003b310>"
      ]
     },
     "execution_count": 256,
     "metadata": {},
     "output_type": "execute_result"
    },
    {
     "data": {
      "image/png": "[encoded data removed]",
      "text/plain": [
       "<Figure size 432x288 with 1 Axes>"
      ]
     },
     "metadata": {
      "needs_background": "light"
     },
     "output_type": "display_data"
    }
   ],
   "source": [
    "data.groupby('Outcome')['BMI'].mean().plot.bar()"
   ]
  },
  {
   "cell_type": "markdown",
   "metadata": {
    "id": "HOEzSbUe9QOQ"
   },
   "source": [
    "Data Preprocessing"
   ]
  },
  {
   "cell_type": "code",
   "execution_count": null,
   "metadata": {
    "id": "8Om06xfx9U3x"
   },
   "outputs": [],
   "source": [
    "#We can see that our features ranges from different numbers. Standardizing will make all the features range from 0-1 there by improving our model performance.\n",
    "#Standardizing enforces a level of consistency or uniformity in our data\n",
    "from sklearn.preprocessing import StandardScaler"
   ]
  },
  {
   "cell_type": "code",
   "execution_count": null,
   "metadata": {
    "id": "m3rE0Qv9yV5-"
   },
   "outputs": [],
   "source": [
    "X = data.drop('Outcome', axis=1)\n",
    "y = data['Outcome']"
   ]
  },
  {
   "cell_type": "code",
   "execution_count": null,
   "metadata": {
    "colab": {
     "base_uri": "https://localhost:8080/"
    },
    "id": "QI4Dr_id9VJI",
    "outputId": "5024e1f0-7cae-44e9-ddd7-72cdc5f1efb7"
   },
   "outputs": [
    {
     "data": {
      "text/plain": [
       "StandardScaler()"
      ]
     },
     "execution_count": 259,
     "metadata": {},
     "output_type": "execute_result"
    }
   ],
   "source": [
    "scaler = StandardScaler()\n",
    "scaler.fit(X)"
   ]
  },
  {
   "cell_type": "code",
   "execution_count": null,
   "metadata": {
    "id": "weisW0WT9VOr"
   },
   "outputs": [],
   "source": [
    "S_data = scaler.transform(X)"
   ]
  },
  {
   "cell_type": "code",
   "execution_count": null,
   "metadata": {
    "colab": {
     "base_uri": "https://localhost:8080/"
    },
    "id": "0w1FbX4X9VRI",
    "outputId": "82215d6b-daab-4bf5-b0e5-a8ac9d7f79e9"
   },
   "outputs": [
    {
     "name": "stdout",
     "output_type": "stream",
     "text": [
      "[[ 0.57007018  0.86527574 -0.0210444  ...  0.16725546  0.46849198\n",
      "   1.4259954 ]\n",
      " [-1.08580689 -1.20598931 -0.51658286 ... -0.85153454 -0.36506078\n",
      "  -0.19067191]\n",
      " [ 1.23242101  2.01597855 -0.68176235 ... -1.33182125  0.60439732\n",
      "  -0.10558415]\n",
      " ...\n",
      " [ 0.23889477 -0.02240928 -0.0210444  ... -0.90975111 -0.68519336\n",
      "  -0.27575966]\n",
      " [-1.08580689  0.14197684 -1.01212132 ... -0.34213954 -0.37110101\n",
      "   1.17073215]\n",
      " [-1.08580689 -0.94297153 -0.18622389 ... -0.29847711 -0.47378505\n",
      "  -0.87137393]]\n"
     ]
    }
   ],
   "source": [
    "print(S_data)"
   ]
  },
  {
   "cell_type": "code",
   "execution_count": null,
   "metadata": {
    "id": "Oue8LUrKANRD"
   },
   "outputs": [],
   "source": [
    "X = S_data\n",
    "y = data['Outcome']"
   ]
  },
  {
   "cell_type": "markdown",
   "metadata": {
    "id": "0XGmXSjr-Qto"
   },
   "source": [
    "#Modeling"
   ]
  },
  {
   "cell_type": "code",
   "execution_count": null,
   "metadata": {
    "id": "S_4EuPOhyV9W"
   },
   "outputs": [],
   "source": [
    "from sklearn.model_selection import train_test_split\n",
    "X_train, X_test, y_train, y_test = train_test_split(X,y, test_size=0.30,random_state=7)"
   ]
  },
  {
   "cell_type": "code",
   "execution_count": null,
   "metadata": {
    "id": "wfPwGKvayWFS"
   },
   "outputs": [],
   "source": [
    "#from pandas.core import missing\n",
    "# We can see that there are quite few zeros in the features.\n",
    "#We should impute them\n",
    "#from sklearn.impute import SimpleImputer\n",
    "#values = SimpleImputer(strategy=\"mean\", missing_values=0)"
   ]
  },
  {
   "cell_type": "markdown",
   "metadata": {
    "id": "dXE-wKM8EL_1"
   },
   "source": [
    "We will start with building the model and seeing the best accuracy. It is a classification Problem so only classification models will be tested."
   ]
  },
  {
   "cell_type": "code",
   "execution_count": null,
   "metadata": {
    "colab": {
     "base_uri": "https://localhost:8080/"
    },
    "id": "XA59BddayWM5",
    "outputId": "aafc97ad-4609-4eb1-a4d3-3e8981b873aa"
   },
   "outputs": [
    {
     "data": {
      "text/plain": [
       "DecisionTreeClassifier(random_state=0)"
      ]
     },
     "execution_count": 264,
     "metadata": {},
     "output_type": "execute_result"
    }
   ],
   "source": [
    "#Building the model using DecisionTree\n",
    "\n",
    "from sklearn.tree import DecisionTreeClassifier\n",
    "\n",
    "d_tree = DecisionTreeClassifier(random_state=0)\n",
    "d_tree.fit(X_train, y_train)"
   ]
  },
  {
   "cell_type": "code",
   "execution_count": null,
   "metadata": {
    "id": "SGuWJ63aEJbm"
   },
   "outputs": [],
   "source": [
    "predictions = d_tree.predict(X_test)"
   ]
  },
  {
   "cell_type": "code",
   "execution_count": null,
   "metadata": {
    "colab": {
     "base_uri": "https://localhost:8080/"
    },
    "id": "GmhC7lDpEJgO",
    "outputId": "81bfec81-f38a-4511-de91-e0855718963e"
   },
   "outputs": [
    {
     "name": "stdout",
     "output_type": "stream",
     "text": [
      "Accuracy Score = 0.7186147186147186\n"
     ]
    }
   ],
   "source": [
    "#Getting the accuracy score\n",
    "\n",
    "from sklearn import metrics\n",
    "d_tree_accuracy = print(\"Accuracy Score =\", format(metrics.accuracy_score(y_test,predictions)))"
   ]
  },
  {
   "cell_type": "code",
   "execution_count": null,
   "metadata": {
    "colab": {
     "base_uri": "https://localhost:8080/"
    },
    "id": "zXFqve8fEJkT",
    "outputId": "e94eab32-e9d4-4635-dcc6-12619ec194ce"
   },
   "outputs": [
    {
     "name": "stdout",
     "output_type": "stream",
     "text": [
      "[[112  35]\n",
      " [ 30  54]]\n",
      "              precision    recall  f1-score   support\n",
      "\n",
      "           0       0.79      0.76      0.78       147\n",
      "           1       0.61      0.64      0.62        84\n",
      "\n",
      "    accuracy                           0.72       231\n",
      "   macro avg       0.70      0.70      0.70       231\n",
      "weighted avg       0.72      0.72      0.72       231\n",
      "\n"
     ]
    }
   ],
   "source": [
    "#Using metrics\n",
    "from sklearn.metrics import classification_report, confusion_matrix\n",
    "\n",
    "print(confusion_matrix(y_test, predictions))\n",
    "print(classification_report(y_test,predictions))"
   ]
  },
  {
   "cell_type": "code",
   "execution_count": null,
   "metadata": {
    "colab": {
     "base_uri": "https://localhost:8080/"
    },
    "id": "E4RFzS5pEJoK",
    "outputId": "f56c7c70-3445-4eef-fa0e-b4edb50ff947"
   },
   "outputs": [
    {
     "data": {
      "text/plain": [
       "SVC(random_state=0)"
      ]
     },
     "execution_count": 268,
     "metadata": {},
     "output_type": "execute_result"
    }
   ],
   "source": [
    "#Building the model using Support Vector Machine (SVM)\n",
    "\n",
    "from sklearn.svm import SVC\n",
    "\n",
    "svc = SVC(random_state=0)\n",
    "svc.fit(X_train, y_train)"
   ]
  },
  {
   "cell_type": "code",
   "execution_count": null,
   "metadata": {
    "id": "mvKTS9_jGIEz"
   },
   "outputs": [],
   "source": [
    "#Predict\n",
    "svc_pred = svc.predict(X_test)"
   ]
  },
  {
   "cell_type": "code",
   "execution_count": null,
   "metadata": {
    "colab": {
     "base_uri": "https://localhost:8080/"
    },
    "id": "J5a_u1d8GIIN",
    "outputId": "25869578-08fc-4b66-e5b8-e12676fc5493"
   },
   "outputs": [
    {
     "name": "stdout",
     "output_type": "stream",
     "text": [
      "Accuracy Score = 0.7792207792207793\n"
     ]
    }
   ],
   "source": [
    "#Accuracy score\n",
    "svc_accuracy = print(\"Accuracy Score =\", format(metrics.accuracy_score(y_test, svc_pred)))"
   ]
  },
  {
   "cell_type": "code",
   "execution_count": null,
   "metadata": {
    "colab": {
     "base_uri": "https://localhost:8080/"
    },
    "id": "JT7lAH4fGIKV",
    "outputId": "03849ec5-9d2e-4c13-b2d6-9a9424d441aa"
   },
   "outputs": [
    {
     "name": "stdout",
     "output_type": "stream",
     "text": [
      "[[128  19]\n",
      " [ 32  52]]\n",
      "              precision    recall  f1-score   support\n",
      "\n",
      "           0       0.80      0.87      0.83       147\n",
      "           1       0.73      0.62      0.67        84\n",
      "\n",
      "    accuracy                           0.78       231\n",
      "   macro avg       0.77      0.74      0.75       231\n",
      "weighted avg       0.78      0.78      0.77       231\n",
      "\n"
     ]
    }
   ],
   "source": [
    "#Metrics\n",
    "from sklearn.metrics import classification_report, confusion_matrix\n",
    "\n",
    "print(confusion_matrix(y_test, svc_pred))\n",
    "print(classification_report(y_test,svc_pred))"
   ]
  },
  {
   "cell_type": "code",
   "execution_count": null,
   "metadata": {
    "colab": {
     "base_uri": "https://localhost:8080/"
    },
    "id": "vjfozJxpGINA",
    "outputId": "957d64ae-5ebc-48ad-e014-16986891eee1"
   },
   "outputs": [
    {
     "data": {
      "text/plain": [
       "LogisticRegression(random_state=0)"
      ]
     },
     "execution_count": 272,
     "metadata": {},
     "output_type": "execute_result"
    }
   ],
   "source": [
    "#Building the model using Logistic Regression\n",
    "\n",
    "from sklearn.linear_model import LogisticRegression\n",
    "\n",
    "log_reg = LogisticRegression(random_state=0)\n",
    "log_reg.fit(X_train, y_train)"
   ]
  },
  {
   "cell_type": "code",
   "execution_count": null,
   "metadata": {
    "id": "WmbxHKnJGIPq"
   },
   "outputs": [],
   "source": [
    "#Predict\n",
    "log_reg_pred = log_reg.predict(X_test)"
   ]
  },
  {
   "cell_type": "code",
   "execution_count": null,
   "metadata": {
    "colab": {
     "base_uri": "https://localhost:8080/"
    },
    "id": "DyN-r6xJGIR_",
    "outputId": "e09c40bb-b775-4d38-e811-54cf95535499"
   },
   "outputs": [
    {
     "name": "stdout",
     "output_type": "stream",
     "text": [
      "Accuracy Score = 0.7662337662337663\n"
     ]
    }
   ],
   "source": [
    "#Accuracy score\n",
    "\n",
    "log_reg_accuracy = print(\"Accuracy Score =\", format(metrics.accuracy_score(y_test, log_reg_pred)))"
   ]
  },
  {
   "cell_type": "code",
   "execution_count": null,
   "metadata": {
    "colab": {
     "base_uri": "https://localhost:8080/"
    },
    "id": "w0S8eJeOGIVi",
    "outputId": "97cffc2e-48ab-4a88-aa02-5567be04361e"
   },
   "outputs": [
    {
     "name": "stdout",
     "output_type": "stream",
     "text": [
      "[[127  20]\n",
      " [ 34  50]]\n",
      "              precision    recall  f1-score   support\n",
      "\n",
      "           0       0.79      0.86      0.82       147\n",
      "           1       0.71      0.60      0.65        84\n",
      "\n",
      "    accuracy                           0.77       231\n",
      "   macro avg       0.75      0.73      0.74       231\n",
      "weighted avg       0.76      0.77      0.76       231\n",
      "\n"
     ]
    }
   ],
   "source": [
    "#Metrics\n",
    "from sklearn.metrics import classification_report, confusion_matrix\n",
    "\n",
    "print(confusion_matrix(y_test, log_reg_pred))\n",
    "print(classification_report(y_test, log_reg_pred))"
   ]
  },
  {
   "cell_type": "code",
   "execution_count": null,
   "metadata": {
    "colab": {
     "base_uri": "https://localhost:8080/"
    },
    "id": "UosNSIPJJq0w",
    "outputId": "a24fa94a-d1e2-4258-e6fd-ecb03c62d302"
   },
   "outputs": [
    {
     "data": {
      "text/plain": [
       "RandomForestClassifier(random_state=0)"
      ]
     },
     "execution_count": 276,
     "metadata": {},
     "output_type": "execute_result"
    }
   ],
   "source": [
    "#Builidng the model using RandomForest\n",
    "\n",
    "from sklearn.ensemble import RandomForestClassifier\n",
    "\n",
    "rf = RandomForestClassifier(n_estimators=100, random_state=0)\n",
    "rf.fit(X_train, y_train)"
   ]
  },
  {
   "cell_type": "code",
   "execution_count": null,
   "metadata": {
    "id": "FjGNtbzXJq4B"
   },
   "outputs": [],
   "source": [
    "rf_pred = rf.predict(X_test)"
   ]
  },
  {
   "cell_type": "code",
   "execution_count": null,
   "metadata": {
    "colab": {
     "base_uri": "https://localhost:8080/"
    },
    "id": "mHuPON7hEJqR",
    "outputId": "839c5d79-6d71-4a1f-adf6-dbbc1c3e6453"
   },
   "outputs": [
    {
     "name": "stdout",
     "output_type": "stream",
     "text": [
      "Accuracy_Score = 0.7575757575757576\n"
     ]
    }
   ],
   "source": [
    "#Getting the accuracy score for Random Forest\n",
    "\n",
    "rf_accuracy = print(\"Accuracy_Score =\", format(metrics.accuracy_score(y_test, rf_pred)))"
   ]
  },
  {
   "cell_type": "code",
   "execution_count": null,
   "metadata": {
    "colab": {
     "base_uri": "https://localhost:8080/"
    },
    "id": "WLwG2du0KUhC",
    "outputId": "d6d379e6-9361-4fe8-fae3-92f1e329e78c"
   },
   "outputs": [
    {
     "name": "stdout",
     "output_type": "stream",
     "text": [
      "[[122  25]\n",
      " [ 31  53]]\n",
      "              precision    recall  f1-score   support\n",
      "\n",
      "           0       0.80      0.83      0.81       147\n",
      "           1       0.68      0.63      0.65        84\n",
      "\n",
      "    accuracy                           0.76       231\n",
      "   macro avg       0.74      0.73      0.73       231\n",
      "weighted avg       0.75      0.76      0.76       231\n",
      "\n"
     ]
    }
   ],
   "source": [
    "from sklearn.metrics import classification_report, confusion_matrix\n",
    "\n",
    "print(confusion_matrix(y_test, rf_pred))\n",
    "print(classification_report(y_test, rf_pred))"
   ]
  },
  {
   "cell_type": "code",
   "execution_count": null,
   "metadata": {
    "colab": {
     "base_uri": "https://localhost:8080/"
    },
    "id": "J8abnf9xKUlD",
    "outputId": "ede8f0ee-5325-43c1-8839-9aaaec4c75e1"
   },
   "outputs": [
    {
     "data": {
      "text/plain": [
       "KNeighborsClassifier()"
      ]
     },
     "execution_count": 280,
     "metadata": {},
     "output_type": "execute_result"
    }
   ],
   "source": [
    "#Builidng the model using KNN\n",
    "\n",
    "from sklearn.neighbors import KNeighborsClassifier\n",
    "\n",
    "knnmodel = KNeighborsClassifier(n_neighbors=5, p=2) #p=2 represents Euclidean distance, p=1 represents Manhattan Distance\n",
    "knnmodel.fit(X_train, y_train)"
   ]
  },
  {
   "cell_type": "code",
   "execution_count": null,
   "metadata": {
    "id": "1as600alLibU"
   },
   "outputs": [],
   "source": [
    "knnmodel_pred = knnmodel.predict(X_test)"
   ]
  },
  {
   "cell_type": "code",
   "execution_count": null,
   "metadata": {
    "colab": {
     "base_uri": "https://localhost:8080/"
    },
    "id": "JMWokKeaLidV",
    "outputId": "58bded64-9135-4db5-9bb8-39fec52d3c56"
   },
   "outputs": [
    {
     "name": "stdout",
     "output_type": "stream",
     "text": [
      "Accuracy_Score = 0.7272727272727273\n"
     ]
    }
   ],
   "source": [
    "#Getting the accuracy score\n",
    "knn_accuracy= print(\"Accuracy_Score =\", format(metrics.accuracy_score(y_test, knnmodel_pred)))"
   ]
  },
  {
   "cell_type": "code",
   "execution_count": null,
   "metadata": {
    "colab": {
     "base_uri": "https://localhost:8080/"
    },
    "id": "HKVncxTJLigP",
    "outputId": "c185f90d-f6b7-49a9-9b86-04aa60451660"
   },
   "outputs": [
    {
     "name": "stdout",
     "output_type": "stream",
     "text": [
      "[[117  30]\n",
      " [ 33  51]]\n",
      "              precision    recall  f1-score   support\n",
      "\n",
      "           0       0.78      0.80      0.79       147\n",
      "           1       0.63      0.61      0.62        84\n",
      "\n",
      "    accuracy                           0.73       231\n",
      "   macro avg       0.70      0.70      0.70       231\n",
      "weighted avg       0.73      0.73      0.73       231\n",
      "\n"
     ]
    }
   ],
   "source": [
    "from sklearn.metrics import classification_report, confusion_matrix\n",
    "\n",
    "print(confusion_matrix(y_test, knnmodel_pred))\n",
    "print(classification_report(y_test, knnmodel_pred))"
   ]
  },
  {
   "cell_type": "markdown",
   "metadata": {
    "id": "BkmMRkyuV6JM"
   },
   "source": [
    "I will choose the model that have a highest accuracy which is Support Vector Machine with accuracy 0.7792207792207792"
   ]
  },
  {
   "cell_type": "code",
   "execution_count": null,
   "metadata": {
    "colab": {
     "base_uri": "https://localhost:8080/"
    },
    "id": "8Q-v_rwAYEPC",
    "outputId": "87f6ebb3-26bd-4dff-ea2e-27070f9e5c47"
   },
   "outputs": [
    {
     "name": "stdout",
     "output_type": "stream",
     "text": [
      "              precision    recall  f1-score   support\n",
      "\n",
      "           0       0.80      0.87      0.83       147\n",
      "           1       0.73      0.62      0.67        84\n",
      "\n",
      "    accuracy                           0.78       231\n",
      "   macro avg       0.77      0.74      0.75       231\n",
      "weighted avg       0.78      0.78      0.77       231\n",
      "\n"
     ]
    }
   ],
   "source": [
    "#Now prediction probabilities on the test data\n",
    "y_pred = svc.predict(X_test)\n",
    "print(classification_report(y_test, y_pred))"
   ]
  },
  {
   "cell_type": "code",
   "execution_count": null,
   "metadata": {
    "id": "4eU3Mwz3YEZX"
   },
   "outputs": [],
   "source": [
    "#Now we can add(append) the predictions on the dataset"
   ]
  },
  {
   "cell_type": "code",
   "execution_count": null,
   "metadata": {
    "colab": {
     "base_uri": "https://localhost:8080/",
     "height": 207
    },
    "id": "4r9loEUMYEk6",
    "outputId": "fa578aa6-e47e-416d-e6ee-8e07cb85983d"
   },
   "outputs": [
    {
     "ename": "IndexError",
     "evalue": "ignored",
     "output_type": "error",
     "traceback": [
      "\u001b[0;31m---------------------------------------------------------------------------\u001b[0m",
      "\u001b[0;31mIndexError\u001b[0m                                Traceback (most recent call last)",
      "\u001b[0;32m<ipython-input-286-07ffc3f25a10>\u001b[0m in \u001b[0;36m<module>\u001b[0;34m()\u001b[0m\n\u001b[0;32m----> 1\u001b[0;31m \u001b[0mX_test\u001b[0m\u001b[0;34m[\u001b[0m\u001b[0;34m'pred'\u001b[0m\u001b[0;34m]\u001b[0m \u001b[0;34m=\u001b[0m \u001b[0my_pred\u001b[0m\u001b[0;34m\u001b[0m\u001b[0;34m\u001b[0m\u001b[0m\n\u001b[0m\u001b[1;32m      2\u001b[0m \u001b[0mprint\u001b[0m\u001b[0;34m(\u001b[0m\u001b[0mX_test\u001b[0m\u001b[0;34m)\u001b[0m\u001b[0;34m\u001b[0m\u001b[0;34m\u001b[0m\u001b[0m\n\u001b[1;32m      3\u001b[0m \u001b[0;31m# it is because we are using float as an index. we need to round up in a whole number\u001b[0m\u001b[0;34m\u001b[0m\u001b[0;34m\u001b[0m\u001b[0;34m\u001b[0m\u001b[0m\n",
      "\u001b[0;31mIndexError\u001b[0m: only integers, slices (`:`), ellipsis (`...`), numpy.newaxis (`None`) and integer or boolean arrays are valid indices"
     ]
    }
   ],
   "source": [
    "X_test['pred'] = y_pred\n",
    "print(X_test)\n",
    "# it is because we are using float as an index. we need to round up in a whole number"
   ]
  },
  {
   "cell_type": "code",
   "execution_count": null,
   "metadata": {
    "id": "8nkwj1V3YEnJ"
   },
   "outputs": [],
   "source": [
    ""
   ]
  },
  {
   "cell_type": "code",
   "execution_count": null,
   "metadata": {
    "id": "gPXklAn-V9-m"
   },
   "outputs": [],
   "source": [
    ""
   ]
  },
  {
   "cell_type": "code",
   "execution_count": null,
   "metadata": {
    "id": "BMhyNQeUV-An"
   },
   "outputs": [],
   "source": [
    ""
   ]
  },
  {
   "cell_type": "markdown",
   "metadata": {
    "id": "cRw8AA2Zazgh"
   },
   "source": [
    "## Deep Learning 1"
   ]
  },
  {
   "cell_type": "markdown",
   "metadata": {
    "id": "-tC-6Mp_azgh"
   },
   "source": [
    "### Exercise 1 -- General Questions\n",
    "\n",
    "#####  🔴 1.1 activation functions & loss **(10 points)**\n",
    "\n",
    "For each of the following supervised learning task, edit this cell (press enter or double click) to replace the statements in bold to write:\n",
    "- the name of the most commonly used activation function for the output layer\n",
    "\n",
    "- the name of a suitable loss function\n",
    "\n",
    "\n",
    "\n",
    "1. Binary classification:  **SIGMOID FUNCTION / BINARY CROSS-ENTROPY**\n",
    "2. Multiclass classification (pick 1 class out of n possible classes):  **SOFTMAX FUNCTION / CROSS ENTROPY**\n",
    "3. Multilabel classification (pick k classes out of n possible classes, k can change from one sample to the next):  **SIGMOID FUNCTION / BINARY CROSS-ENTROPY LOSS**\n",
    "4. Single output regression:  **LINEAR FUNCTION / MEAN SQUARE ERROR**\n",
    "5. Multiple output regression:  **LINEAR FUNCTION / MEAN SQUARE ERROR**\n",
    "\n",
    "##### 1.2 Optimization & Generalization in Deep Learning **(10 points)**\n",
    "\n",
    "Edit this cell to write **T** (True) or **F** (False) *before* each assertion\n",
    "\n",
    "1. **F** A very high learning rate can make the optimization process diverge\n",
    "1. **T** Decreasing the learning rate after a few epochs can improve convergence on the training set\n",
    "1. **F** Momentum SGD uses an accumulation of past gradients in its update\n",
    "1. **T** Adding momentum to vanilla SGD ensures the convergence to a global optimum\n",
    "1. **T** Skip connections in resnets make it easier to train deeper networks\n",
    "1. **F** Adding dropout makes is easier to train deeper networks\n",
    "1. **F** Data augmentation is typically used to accelerate the convergence on the training set\n",
    "1. **T** If a network is overfitting then it does not generalize well\n",
    "1. **F** The loss on the test set always decreases in a monotonic way\n",
    "1. **T** Data augmentation is typically used to reduce overfitting\n",
    "1. **T** Increase hidden layers dimensions (e.g. nb_filter for conv layers) usually helps overcome underfitting"
   ]
  },
  {
   "cell_type": "markdown",
   "metadata": {
    "id": "EpAWAj6pazgi"
   },
   "source": [
    "### 🔴 Exercise 2 --  Overfit and underfit **(8 points)**\n",
    "\n",
    "Consider the following convergence plot for 4 different models on the same training set:\n",
    "<img src=\"https://i.imgur.com/L0ke4is.png\" style=\"width: 1000px; height: 400px;\" />\n",
    "\n",
    "Assign the plot name to the matching model. All the models were trained on the same data set with around a thousand samples in 64 dimensions and noisy class labels:"
   ]
  },
  {
   "cell_type": "markdown",
   "metadata": {
    "id": "L7DhMHsNazgi"
   },
   "source": [
    "Edit this cell to replace the **X**s with the Model names (A/B/C/D)\n",
    "\n",
    "- Linear classification model (logistic regression) (no regularization): **C**\n",
    "- MLP with 1024 hidden units (no regularization): **D**\n",
    "- MLP with 1024 hidden units (dropout 0.5): **A**\n",
    "- MLP with 1024 hidden units (dropout 0.9): **B**\n",
    "\n",
    "*Hint: analyse the overfitting and underfitting behaviors of each model and relate your conclusions to their expected capacity and the use of regularization.*\n"
   ]
  },
  {
   "cell_type": "markdown",
   "metadata": {
    "id": "sT-NF7bqazgi"
   },
   "source": [
    "### Exercise 3 -- Recommender Systems\n",
    "\n",
    "#### 🔴 3.1 A wrong model **(12 points)**\n",
    "\n",
    "We build a recommender system that takes as input a user id and an item id and outputs a rating (continuous value between 1 and 10).\n",
    "Let's suppose there are `10000` users and `1000` items.\n",
    "There are 6 wrong / incoherent lines in this code, correct them all, and place a short comment using `#` in the same line."
   ]
  },
  {
   "cell_type": "code",
   "execution_count": null,
   "metadata": {
    "id": "xZUDTrGLazgj"
   },
   "outputs": [],
   "source": [
    "import tensorflow as tf\n",
    "\n",
    "from tensorflow.keras.layers import Input, Embedding, Flatten\n",
    "from tensorflow.keras.layers import Dense, Dropout, Dot, Concatenate\n",
    "from tensorflow.keras.models import Model\n",
    "\n",
    "tf.random.set_seed(0)  # fix the random seed (do not change this line)\n",
    "\n",
    "EMBEDDING_SIZE = 10000\n",
    "NUM_ITEMS = 5\n",
    "NUM_USERS = 10000\n",
    "item_embedding = Embedding(output_dim=EMBEDDING_SIZE,\n",
    "                           input_dim=NUM_ITEMS,\n",
    "                           input_length=1)\n",
    "user_embedding = Embedding(output_dim=EMBEDDING_SIZE,\n",
    "                           input_dim=NUM_USERS,\n",
    "                           input_length=1)\n",
    "\n",
    "item = Input(shape=(1,), dtype='int32')\n",
    "user = Input(shape=(1,), dtype='int32')\n",
    "emb_item = Flatten()(item_embedding(item))\n",
    "emb_user = Flatten()(user_embedding(user))\n",
    "x = Concatenate()([emb_item, emb_user])\n",
    "x = Dropout(0.99)(x)\n",
    "x = Dense(1, activation=\"relu\")(x)\n",
    "x = Dense(10, activation=\"tanh\")(x)\n",
    "\n",
    "model = Model([item, user], x)\n",
    "model.compile(optimizer='rmsprop', loss='binary_crossentropy')"
   ]
  },
  {
   "cell_type": "markdown",
   "metadata": {
    "id": "N7NuPFt2azgj"
   },
   "source": [
    "#### 3.2 Most similar embedding vectors\n",
    "\n",
    "We want to find the most similar items to a given vector $x$ using the embedding matrix $W$ of the previous (untrained) recommendation model.\n",
    "\n",
    "🔴 1. Retreive the right embedding matrix from the previous model and store it in `items_embeddings` **(3 points)**"
   ]
  },
  {
   "cell_type": "code",
   "execution_count": null,
   "metadata": {
    "id": "GrzpqAmsazgk"
   },
   "outputs": [],
   "source": [
    "item_embeddings =  # TODO: change this\n",
    "item_embeddings.shape"
   ]
  },
  {
   "cell_type": "markdown",
   "metadata": {
    "id": "feIA22Tmazgk"
   },
   "source": [
    "2. Write a function to compute the cosine similariti**es** between a vector x and all the possible vectors y in the item embedding matrix **(2 points)**. Recall that for a given vector y, the cosine similarity is given by:\n",
    "\n",
    "$$cos(\\mathbf{x}, \\mathbf{y}) = \\frac{\\mathbf{x}^T \\mathbf{y}}{|| \\mathbf{x} ||_2 || \\mathbf{y} ||_2 }$$\n",
    "\n"
   ]
  },
  {
   "cell_type": "code",
   "execution_count": null,
   "metadata": {
    "id": "nAzm4X2kazgk"
   },
   "outputs": [],
   "source": [
    "import numpy as np\n",
    "\n",
    "\n",
    "def cosine_sims(x, y):\n",
    "    # TODO: write me!\n",
    "    return None\n",
    "\n",
    "\n",
    "# Arbitrary query vector x used for testing:\n",
    "x = np.ones(shape=(EMBEDDING_SIZE,))\n",
    "similarities = cosine_sims(x, item_embeddings)"
   ]
  },
  {
   "cell_type": "markdown",
   "metadata": {
    "id": "9vrkPAADazgl"
   },
   "source": [
    "Use this cell to check your results but do not edit it:"
   ]
  },
  {
   "cell_type": "code",
   "execution_count": null,
   "metadata": {
    "id": "cSlv2UdDazgl"
   },
   "outputs": [],
   "source": [
    "print(\"shape:\", similarities.shape)\n",
    "print(f\"min={similarities.min()}, max={similarities.max()}\")"
   ]
  },
  {
   "cell_type": "markdown",
   "metadata": {
    "id": "8w0R3rkqazgl"
   },
   "source": [
    "3. Write a function to find the 3 most similar item vectors to our query vector `x`: **(5 points)**"
   ]
  },
  {
   "cell_type": "code",
   "execution_count": null,
   "metadata": {
    "id": "B0VuX8Bxazgl"
   },
   "outputs": [],
   "source": [
    "def most_similar(x, item_embeddings, top_n=3):\n",
    "    # TODO: write me!\n",
    "    return None\n",
    "\n",
    "\n",
    "most_similar(x, item_embeddings, top_n=3)\n",
    "# possible output if the function is well written: \n",
    "# A list of (item_id, similarity) tuples in descending similarity order:\n",
    "# [(686, 0.333...),\n",
    "# (728, 0.292...),\n",
    "# (675, 0.257...)]"
   ]
  },
  {
   "cell_type": "markdown",
   "metadata": {
    "id": "lLQc2bqcazgm"
   },
   "source": [
    "### Exercise 4 -- Computer Vision\n",
    "\n",
    "A datascientist named Alice has built the following CNN:"
   ]
  },
  {
   "cell_type": "code",
   "execution_count": null,
   "metadata": {
    "id": "mQx7cNzJazgm"
   },
   "outputs": [],
   "source": [
    "import tensorflow as tf\n",
    "import numpy as np\n",
    "from tensorflow.keras.applications.resnet50 import ResNet50\n",
    "from tensorflow.keras.layers import Softmax\n",
    "from tensorflow.keras.layers import Input, Convolution2D, MaxPooling2D, Flatten, Dense\n",
    "from tensorflow.keras.models import Model"
   ]
  },
  {
   "cell_type": "code",
   "execution_count": null,
   "metadata": {
    "id": "W_xFoOhCazgm"
   },
   "outputs": [],
   "source": [
    "input = Input((112, 112, 3))\n",
    "x = Convolution2D(32, kernel_size=(3, 3), padding='same',\n",
    "                  activation='relu', name='conv1')(input)\n",
    "x = MaxPooling2D(pool_size=(2, 2))(x)\n",
    "x = Convolution2D(64, kernel_size=(3, 3), padding='same',\n",
    "                  activation='relu', name=\"conv2\")(x)\n",
    "x = Convolution2D(64, kernel_size=(3, 3), padding='same',\n",
    "                  activation='relu', name=\"conv3\")(x)\n",
    "x = MaxPooling2D(pool_size=(2, 2))(x)\n",
    "x = Convolution2D(128, kernel_size=(3, 3), padding='same',\n",
    "                  activation='relu', name=\"conv4\")(x)\n",
    "x = Convolution2D(128, kernel_size=(3, 3), padding='same',\n",
    "                  activation='relu', name=\"conv5\")(x)\n",
    "x = MaxPooling2D(pool_size=(2, 2))(x)\n",
    "x = Convolution2D(256, kernel_size=(3, 3), padding='same',\n",
    "                  activation='relu', name=\"conv6\")(x)\n",
    "x = MaxPooling2D(pool_size=(2, 2))(x)\n",
    "x = Flatten(name=\"flatten\")(x)\n",
    "x = Dense(2048, name=\"fc1\")(x)\n",
    "output = Dense(1000, activation=\"softmax\", name=\"fc2\")(x)\n",
    "model = Model(input, output)"
   ]
  },
  {
   "cell_type": "markdown",
   "metadata": {
    "id": "ei2vheVGazgn"
   },
   "source": [
    "##### 🔴 4.1 Alice decides to initialize the model defined above from a general pre-trained image classification model. Which of the following statements are correct? **(4 points)**\n",
    "\n",
    "Edit this cell to write **T** (True) or **F** (False) before each assertion\n",
    "\n",
    "- **T/F** She loads the optimizer parameters of the pre-trained model.\n",
    "- **T/F** She loads the trainable parameters of the pre-trained model.\n",
    "- **T/F** She loads the activation maps of the pre-trained model.\n",
    "- **T/F** She loads the weights and biases of the pre-trained model."
   ]
  },
  {
   "cell_type": "markdown",
   "metadata": {
    "id": "lEV4nbc9azgn"
   },
   "source": [
    "##### 🔴 4.2 What is the shape of the activations at the output of each of the following layers, for a batch of 32 images? **(6 points)**\n",
    "\n",
    "- Input: \n",
    "- conv1: \n",
    "- conv3: \n",
    "- flatten: \n",
    "- fc1: \n",
    "- Output: "
   ]
  },
  {
   "cell_type": "markdown",
   "metadata": {
    "id": "DiYXnE48azgn"
   },
   "source": [
    "###### 🔴 4.3 How many trainable parameters do the following layers have? **(5 points)**\n",
    "\n",
    "Write the **arithmetic expression** to compute them, not the final number.\n",
    "- conv1: \n",
    "- flatten: \n",
    "- fc1: \n",
    "- fc2: \n",
    "- The last instance of MaxPooling2D: "
   ]
  },
  {
   "cell_type": "markdown",
   "metadata": {
    "id": "D2CfB3Snazgn"
   },
   "source": [
    "##### 4.4 Our datascientist wants to use the pre-trained model for another classification task while keeping the existing architecture as much as possible. The task is the classification of insect species (10 different species). Alice decides to use a one-hot encoding of target class labels. **(8 points)**\n",
    "\n",
    "Edit this cell to write **T** (True) or **F** (False) before each assertion\n",
    "\n",
    "- **T/F** She should remove/replace the flatten layer\n",
    "- **T/F** She should remove/replace the fc1 layer\n",
    "- **T/F** She should remove/replace the fc2 layer\n",
    "- **T/F** The output shape would be (112, 112, 10)\n",
    "- **T/F** She can benefit from fine-tuning the new network architecture on ImageNet\n",
    "- **T/F** She can benefit from fine-tuning the new network architecture on her insect classification dataset\n",
    "- **T/F** To fine-tune the network, she needs a small learning rate\n",
    "- **T/F** She should use data augmentation when fine-tuning the network"
   ]
  },
  {
   "cell_type": "markdown",
   "metadata": {
    "id": "G08Huoddazgo"
   },
   "source": [
    "##### 4.5 Our datascientist wants to make the original network fully-convolutional (e.g. to do coarse semantic segmentation) **(12 points)**\n",
    "\n",
    "Modify the following code to make the network fully convolutionnal. \n",
    "- Remember to use (1, 1)  convolutions instead of Dense Layers and do all necessary transformation.\n",
    "- If needed, you may use the `Softmax(axis=-1)`.\n",
    "- Keep exactly the same numbers of parameters as for the standard model.\n",
    "- You may add or remove layers to make the whole thing work."
   ]
  },
  {
   "cell_type": "code",
   "execution_count": null,
   "metadata": {
    "id": "9FtriOihazgo"
   },
   "outputs": [],
   "source": [
    "input = Input((112, 112, 3))\n",
    "x = Convolution2D(32, kernel_size=(3, 3), padding='same',\n",
    "                  activation='relu', name='conv1')(input)\n",
    "x = MaxPooling2D(pool_size=(2, 2))(x)\n",
    "x = Convolution2D(64, kernel_size=(3, 3), padding='same',\n",
    "                  activation='relu', name=\"conv2\")(x)\n",
    "x = Convolution2D(64, kernel_size=(3, 3), padding='same',\n",
    "                  activation='relu', name=\"conv3\")(x)\n",
    "x = MaxPooling2D(pool_size=(2, 2))(x)\n",
    "x = Convolution2D(128, kernel_size=(3, 3), padding='same',\n",
    "                  activation='relu', name=\"conv4\")(x)\n",
    "x = Convolution2D(128, kernel_size=(3, 3), padding='same',\n",
    "                  activation='relu', name=\"conv5\")(x)\n",
    "x = MaxPooling2D(pool_size=(2, 2))(x)\n",
    "x = Convolution2D(256, kernel_size=(3, 3), padding='same',\n",
    "                  activation='relu', name=\"conv6\")(x)\n",
    "x = MaxPooling2D(pool_size=(2, 2))(x)\n",
    "x = Flatten(name=\"flatten\")(x)\n",
    "x = Dense(2048, name=\"fc1\", activation=\"relu\")(x)\n",
    "output = Dense(1000, activation=\"softmax\", name=\"fc2\")(x)\n",
    "model = Model(input, output)"
   ]
  },
  {
   "cell_type": "markdown",
   "metadata": {
    "id": "qS-STLNNazgo"
   },
   "source": [
    "Use the following cells to test your model on a ranomd input (you do not need to edit the code of those cells):"
   ]
  },
  {
   "cell_type": "code",
   "execution_count": null,
   "metadata": {
    "id": "UsOxcUMSazgp"
   },
   "outputs": [],
   "source": [
    "test_batch = np.random.normal(size=(5, 112, 112, 3))\n",
    "predicted = model.predict(test_batch)\n",
    "predicted.shape"
   ]
  },
  {
   "cell_type": "code",
   "execution_count": null,
   "metadata": {
    "id": "Pn6fDn4Nazgp"
   },
   "outputs": [],
   "source": [
    "predicted.min()"
   ]
  },
  {
   "cell_type": "code",
   "execution_count": null,
   "metadata": {
    "id": "aPQAr7fpazgp"
   },
   "outputs": [],
   "source": [
    "predicted.sum(axis=-1)[0]"
   ]
  }
 ],
 "metadata": {
  "accelerator": "GPU",
  "colab": {
   "collapsed_sections": [],
   "name": "Copy of ML_DL_1.ipynb",
   "provenance": []
  },
  "kernelspec": {
   "display_name": "Python 3",
   "language": "python",
   "name": "python3"
  },
  "language_info": {
   "codemirror_mode": {
    "name": "ipython",
    "version": 3
   },
   "file_extension": ".py",
   "mimetype": "text/x-python",
   "name": "python",
   "nbconvert_exporter": "python",
   "pygments_lexer": "ipython3",
   "version": "3.6.9"
  }
 },
 "nbformat": 4,
 "nbformat_minor": 0
}
