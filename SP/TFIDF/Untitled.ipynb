{
 "cells": [
  {
   "cell_type": "code",
   "execution_count": 7,
   "metadata": {},
   "outputs": [
    {
     "data": {
      "text/plain": [
       "['1-batch', '2-batch']"
      ]
     },
     "execution_count": 7,
     "metadata": {},
     "output_type": "execute_result"
    }
   ],
   "source": [
    "BATCH_VIP_DICTIONARY = {'fff-batch': '1-batch','fff1-batch': '2-batch'}\n",
    "\n",
    "def batch_reference(batch_dict):\n",
    "    return list(batch_dict.values())\n",
    "\n",
    "batch_reference(BATCH_VIP_DICTIONARY)"
   ]
  },
  {
   "cell_type": "code",
   "execution_count": 9,
   "metadata": {},
   "outputs": [],
   "source": [
    "d = {'key1':10,\n",
    "    'key2':20,\n",
    "    'key3':30}\n",
    "\n",
    "d['batch_ref'] = batch_reference(BATCH_VIP_DICTIONARY)"
   ]
  },
  {
   "cell_type": "code",
   "execution_count": 10,
   "metadata": {},
   "outputs": [
    {
     "data": {
      "text/plain": [
       "{'key1': 10, 'key2': 20, 'key3': 30}"
      ]
     },
     "execution_count": 10,
     "metadata": {},
     "output_type": "execute_result"
    }
   ],
   "source": [
    "d['batch_ref'] = batch_reference(BATCH_VIP_DICTIONARY)"
   ]
  },
  {
   "cell_type": "code",
   "execution_count": 11,
   "metadata": {},
   "outputs": [],
   "source": [
    "d['key4'] = 100"
   ]
  },
  {
   "cell_type": "code",
   "execution_count": 12,
   "metadata": {},
   "outputs": [
    {
     "data": {
      "text/plain": [
       "{'key1': 10, 'key2': 20, 'key3': 30, 'key4': 100}"
      ]
     },
     "execution_count": 12,
     "metadata": {},
     "output_type": "execute_result"
    }
   ],
   "source": [
    "d"
   ]
  },
  {
   "cell_type": "code",
   "execution_count": 14,
   "metadata": {},
   "outputs": [],
   "source": [
    "d['batch_ref'] = batch_reference(BATCH_VIP_DICTIONARY)"
   ]
  },
  {
   "cell_type": "code",
   "execution_count": 15,
   "metadata": {},
   "outputs": [
    {
     "data": {
      "text/plain": [
       "{'key1': 10,\n",
       " 'key2': 20,\n",
       " 'key3': 30,\n",
       " 'key4': 100,\n",
       " 'batch_ref': ['1-batch', '2-batch']}"
      ]
     },
     "execution_count": 15,
     "metadata": {},
     "output_type": "execute_result"
    }
   ],
   "source": [
    "d"
   ]
  },
  {
   "cell_type": "code",
   "execution_count": 17,
   "metadata": {},
   "outputs": [
    {
     "ename": "SyntaxError",
     "evalue": "invalid syntax (<ipython-input-17-592ede315853>, line 11)",
     "output_type": "error",
     "traceback": [
      "\u001b[1;36m  File \u001b[1;32m\"<ipython-input-17-592ede315853>\"\u001b[1;36m, line \u001b[1;32m11\u001b[0m\n\u001b[1;33m    key: \"value\"\u001b[0m\n\u001b[1;37m    ^\u001b[0m\n\u001b[1;31mSyntaxError\u001b[0m\u001b[1;31m:\u001b[0m invalid syntax\n"
     ]
    }
   ],
   "source": [
    "dd = {\n",
    "\n",
    "\n",
    "\n",
    "  # comments are useful\n",
    "  # specify rate in requests/second\n",
    "  \"rate\": 1000\n",
    "\n",
    " \n",
    "  # key names do not need to be placed in quotes\n",
    "  key: \"value\"\n",
    "\n",
    "  # you don't need quotes for strings\n",
    "  text: look ma, no quotes!\n",
    "\n",
    "  # note that for quoteless strings everything up\n",
    "  # to the next line is part of the string!\n",
    "\n",
    "  # commas are optional\n",
    "  commas:\n",
    "  {\n",
    "    one: 1\n",
    "    two: 2\n",
    "  }\n",
    "\n",
    "  # trailing commas are allowed\n",
    "  trailing:\n",
    "  {\n",
    "    one: 1,\n",
    "    two: 2,\n",
    "  }\n",
    "\n",
    "  # multiline string\n",
    "  haiku:\n",
    "    '''\n",
    "    JSON I love you.\n",
    "    But you strangle my expression.\n",
    "    This is so much better.\n",
    "    '''\n",
    "\n",
    "  # Obviously you can always use standard JSON syntax as well:\n",
    "  favNumbers: [ 1, 2, 3, 6, 42 ]\n",
    "}\n",
    "  "
   ]
  },
  {
   "cell_type": "code",
   "execution_count": null,
   "metadata": {},
   "outputs": [],
   "source": []
  }
 ],
 "metadata": {
  "kernelspec": {
   "display_name": "Python 3",
   "language": "python",
   "name": "python3"
  },
  "language_info": {
   "codemirror_mode": {
    "name": "ipython",
    "version": 3
   },
   "file_extension": ".py",
   "mimetype": "text/x-python",
   "name": "python",
   "nbconvert_exporter": "python",
   "pygments_lexer": "ipython3",
   "version": "3.8.5"
  }
 },
 "nbformat": 4,
 "nbformat_minor": 4
}
