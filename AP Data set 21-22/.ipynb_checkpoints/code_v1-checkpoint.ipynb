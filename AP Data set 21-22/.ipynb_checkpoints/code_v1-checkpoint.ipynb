{
 "cells": [
  {
   "cell_type": "code",
   "execution_count": 1,
   "id": "f20521dd",
   "metadata": {},
   "outputs": [],
   "source": [
    "# import the libraries\n",
    "import pandas as pd\n",
    "import matplotlib.pyplot as plt\n",
    "import numpy as np\n",
    "import seaborn as sns\n",
    "import warnings\n",
    "warnings.filterwarnings('ignore')\n",
    "from sklearn.pipeline import Pipeline\n",
    "from sklearn.preprocessing import StandardScaler,PolynomialFeatures\n",
    "from sklearn.linear_model import LinearRegression\n",
    "get_ipython().run_line_magic('matplotlib', 'inline')"
   ]
  },
  {
   "cell_type": "code",
   "execution_count": 2,
   "id": "90fa3b8e",
   "metadata": {},
   "outputs": [],
   "source": [
    "# laod the dataset\n",
    "df1 = pd.read_csv('airports.csv')\n",
    "df2 = pd.read_csv('airport-frequencies.csv')"
   ]
  },
  {
   "cell_type": "code",
   "execution_count": 3,
   "id": "52195fd4",
   "metadata": {},
   "outputs": [
    {
     "data": {
      "text/html": [
       "<div>\n",
       "<style scoped>\n",
       "    .dataframe tbody tr th:only-of-type {\n",
       "        vertical-align: middle;\n",
       "    }\n",
       "\n",
       "    .dataframe tbody tr th {\n",
       "        vertical-align: top;\n",
       "    }\n",
       "\n",
       "    .dataframe thead th {\n",
       "        text-align: right;\n",
       "    }\n",
       "</style>\n",
       "<table border=\"1\" class=\"dataframe\">\n",
       "  <thead>\n",
       "    <tr style=\"text-align: right;\">\n",
       "      <th></th>\n",
       "      <th>id</th>\n",
       "      <th>ident</th>\n",
       "      <th>type</th>\n",
       "      <th>name</th>\n",
       "      <th>latitude_deg</th>\n",
       "      <th>longitude_deg</th>\n",
       "      <th>elevation_ft</th>\n",
       "      <th>continent</th>\n",
       "      <th>iso_country</th>\n",
       "      <th>iso_region</th>\n",
       "      <th>municipality</th>\n",
       "      <th>scheduled_service</th>\n",
       "      <th>gps_code</th>\n",
       "      <th>iata_code</th>\n",
       "      <th>local_code</th>\n",
       "      <th>home_link</th>\n",
       "      <th>wikipedia_link</th>\n",
       "      <th>keywords</th>\n",
       "    </tr>\n",
       "  </thead>\n",
       "  <tbody>\n",
       "    <tr>\n",
       "      <th>0</th>\n",
       "      <td>6523</td>\n",
       "      <td>00A</td>\n",
       "      <td>heliport</td>\n",
       "      <td>Total Rf Heliport</td>\n",
       "      <td>40.070801</td>\n",
       "      <td>-74.933601</td>\n",
       "      <td>11.0</td>\n",
       "      <td>NaN</td>\n",
       "      <td>US</td>\n",
       "      <td>US-PA</td>\n",
       "      <td>Bensalem</td>\n",
       "      <td>no</td>\n",
       "      <td>00A</td>\n",
       "      <td>NaN</td>\n",
       "      <td>00A</td>\n",
       "      <td>NaN</td>\n",
       "      <td>NaN</td>\n",
       "      <td>NaN</td>\n",
       "    </tr>\n",
       "    <tr>\n",
       "      <th>1</th>\n",
       "      <td>323361</td>\n",
       "      <td>00AA</td>\n",
       "      <td>small_airport</td>\n",
       "      <td>Aero B Ranch Airport</td>\n",
       "      <td>38.704022</td>\n",
       "      <td>-101.473911</td>\n",
       "      <td>3435.0</td>\n",
       "      <td>NaN</td>\n",
       "      <td>US</td>\n",
       "      <td>US-KS</td>\n",
       "      <td>Leoti</td>\n",
       "      <td>no</td>\n",
       "      <td>00AA</td>\n",
       "      <td>NaN</td>\n",
       "      <td>00AA</td>\n",
       "      <td>NaN</td>\n",
       "      <td>NaN</td>\n",
       "      <td>NaN</td>\n",
       "    </tr>\n",
       "    <tr>\n",
       "      <th>2</th>\n",
       "      <td>6524</td>\n",
       "      <td>00AK</td>\n",
       "      <td>small_airport</td>\n",
       "      <td>Lowell Field</td>\n",
       "      <td>59.947733</td>\n",
       "      <td>-151.692524</td>\n",
       "      <td>450.0</td>\n",
       "      <td>NaN</td>\n",
       "      <td>US</td>\n",
       "      <td>US-AK</td>\n",
       "      <td>Anchor Point</td>\n",
       "      <td>no</td>\n",
       "      <td>00AK</td>\n",
       "      <td>NaN</td>\n",
       "      <td>00AK</td>\n",
       "      <td>NaN</td>\n",
       "      <td>NaN</td>\n",
       "      <td>NaN</td>\n",
       "    </tr>\n",
       "    <tr>\n",
       "      <th>3</th>\n",
       "      <td>6525</td>\n",
       "      <td>00AL</td>\n",
       "      <td>small_airport</td>\n",
       "      <td>Epps Airpark</td>\n",
       "      <td>34.864799</td>\n",
       "      <td>-86.770302</td>\n",
       "      <td>820.0</td>\n",
       "      <td>NaN</td>\n",
       "      <td>US</td>\n",
       "      <td>US-AL</td>\n",
       "      <td>Harvest</td>\n",
       "      <td>no</td>\n",
       "      <td>00AL</td>\n",
       "      <td>NaN</td>\n",
       "      <td>00AL</td>\n",
       "      <td>NaN</td>\n",
       "      <td>NaN</td>\n",
       "      <td>NaN</td>\n",
       "    </tr>\n",
       "    <tr>\n",
       "      <th>4</th>\n",
       "      <td>6526</td>\n",
       "      <td>00AR</td>\n",
       "      <td>closed</td>\n",
       "      <td>Newport Hospital &amp; Clinic Heliport</td>\n",
       "      <td>35.608700</td>\n",
       "      <td>-91.254898</td>\n",
       "      <td>237.0</td>\n",
       "      <td>NaN</td>\n",
       "      <td>US</td>\n",
       "      <td>US-AR</td>\n",
       "      <td>Newport</td>\n",
       "      <td>no</td>\n",
       "      <td>NaN</td>\n",
       "      <td>NaN</td>\n",
       "      <td>NaN</td>\n",
       "      <td>NaN</td>\n",
       "      <td>NaN</td>\n",
       "      <td>00AR</td>\n",
       "    </tr>\n",
       "  </tbody>\n",
       "</table>\n",
       "</div>"
      ],
      "text/plain": [
       "       id ident           type                                name  \\\n",
       "0    6523   00A       heliport                   Total Rf Heliport   \n",
       "1  323361  00AA  small_airport                Aero B Ranch Airport   \n",
       "2    6524  00AK  small_airport                        Lowell Field   \n",
       "3    6525  00AL  small_airport                        Epps Airpark   \n",
       "4    6526  00AR         closed  Newport Hospital & Clinic Heliport   \n",
       "\n",
       "   latitude_deg  longitude_deg  elevation_ft continent iso_country iso_region  \\\n",
       "0     40.070801     -74.933601          11.0       NaN          US      US-PA   \n",
       "1     38.704022    -101.473911        3435.0       NaN          US      US-KS   \n",
       "2     59.947733    -151.692524         450.0       NaN          US      US-AK   \n",
       "3     34.864799     -86.770302         820.0       NaN          US      US-AL   \n",
       "4     35.608700     -91.254898         237.0       NaN          US      US-AR   \n",
       "\n",
       "   municipality scheduled_service gps_code iata_code local_code home_link  \\\n",
       "0      Bensalem                no      00A       NaN        00A       NaN   \n",
       "1         Leoti                no     00AA       NaN       00AA       NaN   \n",
       "2  Anchor Point                no     00AK       NaN       00AK       NaN   \n",
       "3       Harvest                no     00AL       NaN       00AL       NaN   \n",
       "4       Newport                no      NaN       NaN        NaN       NaN   \n",
       "\n",
       "  wikipedia_link keywords  \n",
       "0            NaN      NaN  \n",
       "1            NaN      NaN  \n",
       "2            NaN      NaN  \n",
       "3            NaN      NaN  \n",
       "4            NaN     00AR  "
      ]
     },
     "execution_count": 3,
     "metadata": {},
     "output_type": "execute_result"
    }
   ],
   "source": [
    "# display the dataset\n",
    "df1.head()"
   ]
  },
  {
   "cell_type": "code",
   "execution_count": 4,
   "id": "aea7441a",
   "metadata": {},
   "outputs": [
    {
     "data": {
      "text/html": [
       "<div>\n",
       "<style scoped>\n",
       "    .dataframe tbody tr th:only-of-type {\n",
       "        vertical-align: middle;\n",
       "    }\n",
       "\n",
       "    .dataframe tbody tr th {\n",
       "        vertical-align: top;\n",
       "    }\n",
       "\n",
       "    .dataframe thead th {\n",
       "        text-align: right;\n",
       "    }\n",
       "</style>\n",
       "<table border=\"1\" class=\"dataframe\">\n",
       "  <thead>\n",
       "    <tr style=\"text-align: right;\">\n",
       "      <th></th>\n",
       "      <th>id</th>\n",
       "      <th>airport_ref</th>\n",
       "      <th>airport_ident</th>\n",
       "      <th>type</th>\n",
       "      <th>description</th>\n",
       "      <th>frequency_mhz</th>\n",
       "    </tr>\n",
       "  </thead>\n",
       "  <tbody>\n",
       "    <tr>\n",
       "      <th>0</th>\n",
       "      <td>70518</td>\n",
       "      <td>6528</td>\n",
       "      <td>00CA</td>\n",
       "      <td>CTAF</td>\n",
       "      <td>CTAF</td>\n",
       "      <td>122.9</td>\n",
       "    </tr>\n",
       "    <tr>\n",
       "      <th>1</th>\n",
       "      <td>307581</td>\n",
       "      <td>6589</td>\n",
       "      <td>01FL</td>\n",
       "      <td>ARCAL</td>\n",
       "      <td>NaN</td>\n",
       "      <td>122.9</td>\n",
       "    </tr>\n",
       "    <tr>\n",
       "      <th>2</th>\n",
       "      <td>75239</td>\n",
       "      <td>6589</td>\n",
       "      <td>01FL</td>\n",
       "      <td>CTAF</td>\n",
       "      <td>CEDAR KNOLL TRAFFIC</td>\n",
       "      <td>122.8</td>\n",
       "    </tr>\n",
       "    <tr>\n",
       "      <th>3</th>\n",
       "      <td>60191</td>\n",
       "      <td>6756</td>\n",
       "      <td>04CA</td>\n",
       "      <td>CTAF</td>\n",
       "      <td>CTAF</td>\n",
       "      <td>122.9</td>\n",
       "    </tr>\n",
       "    <tr>\n",
       "      <th>4</th>\n",
       "      <td>59287</td>\n",
       "      <td>6779</td>\n",
       "      <td>04MS</td>\n",
       "      <td>UNIC</td>\n",
       "      <td>UNICOM</td>\n",
       "      <td>122.8</td>\n",
       "    </tr>\n",
       "  </tbody>\n",
       "</table>\n",
       "</div>"
      ],
      "text/plain": [
       "       id  airport_ref airport_ident   type          description  \\\n",
       "0   70518         6528          00CA   CTAF                 CTAF   \n",
       "1  307581         6589          01FL  ARCAL                  NaN   \n",
       "2   75239         6589          01FL   CTAF  CEDAR KNOLL TRAFFIC   \n",
       "3   60191         6756          04CA   CTAF                 CTAF   \n",
       "4   59287         6779          04MS   UNIC               UNICOM   \n",
       "\n",
       "   frequency_mhz  \n",
       "0          122.9  \n",
       "1          122.9  \n",
       "2          122.8  \n",
       "3          122.9  \n",
       "4          122.8  "
      ]
     },
     "execution_count": 4,
     "metadata": {},
     "output_type": "execute_result"
    }
   ],
   "source": [
    "# display the dataset\n",
    "df2.head()"
   ]
  },
  {
   "cell_type": "code",
   "execution_count": 5,
   "id": "58ec5c42",
   "metadata": {},
   "outputs": [],
   "source": [
    "# get common airport identifier\n",
    "\n",
    "set1 = set(df1['ident'])\n",
    "set2 = set(df2['airport_ident'])\n",
    "\n",
    "airport = list(set1.intersection(set2))"
   ]
  },
  {
   "cell_type": "code",
   "execution_count": 6,
   "id": "8df0cb53",
   "metadata": {},
   "outputs": [],
   "source": [
    "# filter the closed airport\n",
    "df_airport = df1[df1['ident'].isin(airport)].query(\"type!='closed'\")\n",
    "\n",
    "# filter to get small,medium and large airport\n",
    "df_small = df_airport.query(\"type=='small_airport'\")[['ident','type']]\n",
    "df_medium = df_airport.query(\"type=='medium_airport'\")[['ident','type']]\n",
    "df_larger = df_airport.query(\"type=='large_airport'\")[['ident','type']]"
   ]
  },
  {
   "cell_type": "code",
   "execution_count": 7,
   "id": "214a95c2",
   "metadata": {},
   "outputs": [],
   "source": [
    "# rename column so as to merge\n",
    "df2 = df2[['airport_ident','frequency_mhz']]\n",
    "df2.columns = ['ident','frequency_mhz']"
   ]
  },
  {
   "cell_type": "code",
   "execution_count": 8,
   "id": "d3f10e16",
   "metadata": {},
   "outputs": [],
   "source": [
    "# join each category with frequency_mhz\n",
    "df_small = pd.merge(df_small,df2,on='ident')\n",
    "df_medium = pd.merge(df_medium,df2,on='ident')\n",
    "df_larger = pd.merge(df_larger,df2,on='ident')"
   ]
  },
  {
   "cell_type": "code",
   "execution_count": 9,
   "id": "cedb2ae4",
   "metadata": {},
   "outputs": [
    {
     "data": {
      "text/plain": [
       "124.5786737821568"
      ]
     },
     "execution_count": 9,
     "metadata": {},
     "output_type": "execute_result"
    }
   ],
   "source": [
    "# mean\n",
    "df_larger['frequency_mhz'].mean()"
   ]
  },
  {
   "cell_type": "code",
   "execution_count": 10,
   "id": "4f3bd9d4",
   "metadata": {},
   "outputs": [
    {
     "data": {
      "text/plain": [
       "121.8"
      ]
     },
     "execution_count": 10,
     "metadata": {},
     "output_type": "execute_result"
    }
   ],
   "source": [
    "# median\n",
    "df_larger['frequency_mhz'].median()"
   ]
  },
  {
   "cell_type": "code",
   "execution_count": 11,
   "id": "69574330",
   "metadata": {},
   "outputs": [
    {
     "data": {
      "text/plain": [
       "0    121.9\n",
       "Name: frequency_mhz, dtype: float64"
      ]
     },
     "execution_count": 11,
     "metadata": {},
     "output_type": "execute_result"
    }
   ],
   "source": [
    "# mode\n",
    "df_larger['frequency_mhz'].mode()"
   ]
  },
  {
   "cell_type": "code",
   "execution_count": 12,
   "id": "487bfced",
   "metadata": {},
   "outputs": [
    {
     "data": {
      "text/plain": [
       "130.5716346153849"
      ]
     },
     "execution_count": 12,
     "metadata": {},
     "output_type": "execute_result"
    }
   ],
   "source": [
    "# mean for frequency_mhz>100\n",
    "df_larger.query(\"frequency_mhz>100\")['frequency_mhz'].mean()"
   ]
  },
  {
   "cell_type": "code",
   "execution_count": 13,
   "id": "a32b9673",
   "metadata": {},
   "outputs": [
    {
     "data": {
      "text/plain": [
       "121.9"
      ]
     },
     "execution_count": 13,
     "metadata": {},
     "output_type": "execute_result"
    }
   ],
   "source": [
    "# median for frequency_mhz>100\n",
    "df_larger.query(\"frequency_mhz>100\")['frequency_mhz'].median()"
   ]
  },
  {
   "cell_type": "code",
   "execution_count": 14,
   "id": "115468b7",
   "metadata": {},
   "outputs": [
    {
     "data": {
      "text/plain": [
       "0    121.9\n",
       "Name: frequency_mhz, dtype: float64"
      ]
     },
     "execution_count": 14,
     "metadata": {},
     "output_type": "execute_result"
    }
   ],
   "source": [
    "# mode for frequency_mhz>100\n",
    "df_larger.query(\"frequency_mhz>100\")['frequency_mhz'].mode()"
   ]
  },
  {
   "cell_type": "markdown",
   "id": "d4a41af6",
   "metadata": {},
   "source": [
    "# suitable graph for small airports"
   ]
  },
  {
   "cell_type": "code",
   "execution_count": 15,
   "id": "a104f675",
   "metadata": {},
   "outputs": [
    {
     "data": {
      "image/png": "[encoded data removed]",
      "text/plain": [
       "<Figure size 432x288 with 1 Axes>"
      ]
     },
     "metadata": {
      "needs_background": "light"
     },
     "output_type": "display_data"
    }
   ],
   "source": [
    "# suitable graph for small airports\n",
    "future = df_small['frequency_mhz'].value_counts()\n",
    "plt.bar(future.index,future,color='g')\n",
    "# _ = plt.xticks(rotation=90)\n",
    "plt.xlim(0,150)\n",
    "plt.show()"
   ]
  },
  {
   "cell_type": "markdown",
   "id": "c2a87439",
   "metadata": {},
   "source": [
    "# Are some frequencies used more than others?\n",
    "- count plot for 50 most frequent frequency_mhz"
   ]
  },
  {
   "cell_type": "code",
   "execution_count": 16,
   "id": "a02096ff",
   "metadata": {},
   "outputs": [
    {
     "data": {
      "image/png": "[encoded data removed]",
      "text/plain": [
       "<Figure size 1440x360 with 1 Axes>"
      ]
     },
     "metadata": {
      "needs_background": "light"
     },
     "output_type": "display_data"
    }
   ],
   "source": [
    "plt.figure(figsize=(20,5))\n",
    "sns.countplot(df_small['frequency_mhz'][:50])#.value_counts()\n",
    "plt.title('small_airport')\n",
    "_ = plt.xticks(rotation=90)"
   ]
  },
  {
   "cell_type": "code",
   "execution_count": 17,
   "id": "f6b94a40",
   "metadata": {},
   "outputs": [
    {
     "data": {
      "image/png": "[encoded data removed]",
      "text/plain": [
       "<Figure size 1440x360 with 1 Axes>"
      ]
     },
     "metadata": {
      "needs_background": "light"
     },
     "output_type": "display_data"
    }
   ],
   "source": [
    "plt.figure(figsize=(20,5))\n",
    "sns.countplot(df_medium['frequency_mhz'][:50])#.value_counts()\n",
    "plt.title('medium_airport')\n",
    "_ = plt.xticks(rotation=90)"
   ]
  },
  {
   "cell_type": "code",
   "execution_count": 18,
   "id": "d6a63e2f",
   "metadata": {},
   "outputs": [
    {
     "data": {
      "image/png": "[encoded data removed]",
      "text/plain": [
       "<Figure size 1440x360 with 1 Axes>"
      ]
     },
     "metadata": {
      "needs_background": "light"
     },
     "output_type": "display_data"
    }
   ],
   "source": [
    "plt.figure(figsize=(20,5))\n",
    "sns.countplot(df_larger['frequency_mhz'][:50])#.value_counts()\n",
    "plt.title('large_airport')\n",
    "_ = plt.xticks(rotation=90)"
   ]
  },
  {
   "cell_type": "code",
   "execution_count": 19,
   "id": "21670753",
   "metadata": {},
   "outputs": [
    {
     "data": {
      "text/plain": [
       "122.800    1410\n",
       "122.900     809\n",
       "122.700     339\n",
       "123.000     323\n",
       "119.600     248\n",
       "           ... \n",
       "128.825       1\n",
       "32.900        1\n",
       "133.700       1\n",
       "121.675       1\n",
       "122.338       1\n",
       "Name: frequency_mhz, Length: 1080, dtype: int64"
      ]
     },
     "execution_count": 19,
     "metadata": {},
     "output_type": "execute_result"
    }
   ],
   "source": [
    "df_small['frequency_mhz'].value_counts()"
   ]
  },
  {
   "cell_type": "code",
   "execution_count": 20,
   "id": "b2da04a1",
   "metadata": {},
   "outputs": [
    {
     "data": {
      "text/plain": [
       "121.900    307\n",
       "118.100    287\n",
       "122.100    278\n",
       "122.950    259\n",
       "118.300    216\n",
       "          ... \n",
       "34.002       1\n",
       "46.900       1\n",
       "34.300       1\n",
       "126.120      1\n",
       "34.665       1\n",
       "Name: frequency_mhz, Length: 1568, dtype: int64"
      ]
     },
     "execution_count": 20,
     "metadata": {},
     "output_type": "execute_result"
    }
   ],
   "source": [
    "df_medium['frequency_mhz'].value_counts()"
   ]
  },
  {
   "cell_type": "code",
   "execution_count": 21,
   "id": "c6f4462a",
   "metadata": {},
   "outputs": [
    {
     "data": {
      "text/plain": [
       "121.900    189\n",
       "122.950    122\n",
       "118.100    115\n",
       "121.700     98\n",
       "118.300     84\n",
       "          ... \n",
       "35.357       1\n",
       "34.255       1\n",
       "120.525      1\n",
       "22.540       1\n",
       "124.220      1\n",
       "Name: frequency_mhz, Length: 815, dtype: int64"
      ]
     },
     "execution_count": 21,
     "metadata": {},
     "output_type": "execute_result"
    }
   ],
   "source": [
    "df_larger['frequency_mhz'].value_counts()"
   ]
  },
  {
   "cell_type": "code",
   "execution_count": 22,
   "id": "f0257963",
   "metadata": {},
   "outputs": [],
   "source": [
    "size = min(len(df_small),len(df_medium),len(df_larger))"
   ]
  },
  {
   "cell_type": "code",
   "execution_count": 23,
   "id": "3a3ddf44",
   "metadata": {},
   "outputs": [],
   "source": [
    "df_cor = pd.DataFrame([],columns=['small','medium','large'])\n",
    "df_cor['small'] = df_small['frequency_mhz'][:size]\n",
    "df_cor['medium'] = df_medium['frequency_mhz'][:size]\n",
    "df_cor['large'] = df_larger['frequency_mhz'][:size]"
   ]
  },
  {
   "cell_type": "markdown",
   "id": "c5b920f1",
   "metadata": {},
   "source": [
    "# correlation "
   ]
  },
  {
   "cell_type": "code",
   "execution_count": 24,
   "id": "8845f67b",
   "metadata": {},
   "outputs": [
    {
     "data": {
      "image/png": "[encoded data removed]",
      "text/plain": [
       "<Figure size 576x360 with 2 Axes>"
      ]
     },
     "metadata": {
      "needs_background": "light"
     },
     "output_type": "display_data"
    }
   ],
   "source": [
    "# correlation \n",
    "plt.figure(figsize=(8,5))\n",
    "x = sns.heatmap(df_cor.corr(),annot=True,annot_kws={\"size\": 16})\n",
    "x.set_yticklabels(x.get_ymajorticklabels(), fontsize = 16)\n",
    "x.set_xticklabels(x.get_xmajorticklabels(), fontsize = 16)\n",
    "plt.show()"
   ]
  },
  {
   "cell_type": "code",
   "execution_count": null,
   "id": "11041145",
   "metadata": {},
   "outputs": [],
   "source": []
  }
 ],
 "metadata": {
  "kernelspec": {
   "display_name": "Python 3 (ipykernel)",
   "language": "python",
   "name": "python3"
  },
  "language_info": {
   "codemirror_mode": {
    "name": "ipython",
    "version": 3
   },
   "file_extension": ".py",
   "mimetype": "text/x-python",
   "name": "python",
   "nbconvert_exporter": "python",
   "pygments_lexer": "ipython3",
   "version": "3.8.5"
  }
 },
 "nbformat": 4,
 "nbformat_minor": 5
}
