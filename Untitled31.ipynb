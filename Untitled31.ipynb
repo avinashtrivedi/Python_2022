{
 "cells": [
  {
   "cell_type": "code",
   "execution_count": 5,
   "id": "c950772b",
   "metadata": {},
   "outputs": [],
   "source": [
    "import urllib\n",
    "import json\n",
    "import pandas as pd\n",
    "with urllib.request.urlopen(\"https://ip-ranges.amazonaws.com/ip-ranges.json\") as url:\n",
    "    aws_ip_ranges_resp = json.loads(url.read().decode())\n",
    "\n",
    "data_ipv4 = [(d['ip_prefix'], d['region'],d['service']) for d in aws_ip_ranges_resp['prefixes']]\n",
    "data_ipv6 = [(d['ipv6_prefix'], d['region'],d['service']) for d in aws_ip_ranges_resp['ipv6_prefixes']]\n",
    "df_ipv4 = pd.DataFrame([],columns=['iprange','region','service'])\n",
    "df_ipv6 = pd.DataFrame([],columns=['iprange','region','service'])\n",
    "\n",
    "for detail in data_ipv4:\n",
    "    df_ipv4.loc[len(df_ipv4)] = detail\n",
    "\n",
    "for detail in data_ipv6:\n",
    "    df_ipv6.loc[len(df_ipv6)] = detail\n",
    "    \n",
    "df_ipv4.to_csv('aws_ipv4_output.csv',index=False)\n",
    "df_ipv6.to_csv('aws_ipv6_output.csv',index=False)"
   ]
  },
  {
   "cell_type": "code",
   "execution_count": null,
   "id": "bb754cbe",
   "metadata": {},
   "outputs": [],
   "source": []
  }
 ],
 "metadata": {
  "kernelspec": {
   "display_name": "Python 3 (ipykernel)",
   "language": "python",
   "name": "python3"
  },
  "language_info": {
   "codemirror_mode": {
    "name": "ipython",
    "version": 3
   },
   "file_extension": ".py",
   "mimetype": "text/x-python",
   "name": "python",
   "nbconvert_exporter": "python",
   "pygments_lexer": "ipython3",
   "version": "3.8.5"
  }
 },
 "nbformat": 4,
 "nbformat_minor": 5
}
