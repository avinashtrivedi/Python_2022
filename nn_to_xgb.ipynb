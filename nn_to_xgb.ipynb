{
 "cells": [
  {
   "cell_type": "code",
   "execution_count": 1,
   "metadata": {},
   "outputs": [],
   "source": [
    "import os\n",
    "import numpy as np\n",
    "import pandas as pd\n",
    "# import tensorflow as tf\n",
    "# from tensorflow import keras \n",
    "\n",
    "# from sklearn.model_selection import train_test_split\n",
    "# from sklearn.utils import resample\n",
    "\n",
    "# from tensorflow.keras.models import load_model, Sequential\n",
    "# from tensorflow.keras.layers import Dense, Dropout, Flatten\n",
    "# from tensorflow.keras import regularizers\n",
    "# from tensorflow.keras.callbacks import EarlyStopping\n",
    "\n",
    "# from dotenv import load_dotenv\n",
    "# load_dotenv()"
   ]
  },
  {
   "cell_type": "code",
   "execution_count": 3,
   "metadata": {},
   "outputs": [],
   "source": [
    "final_df = pd.read_csv(r'D:\\OneDrive - NITT\\Custom_Download\\training_data.csv')"
   ]
  },
  {
   "cell_type": "code",
   "execution_count": 5,
   "metadata": {},
   "outputs": [
    {
     "data": {
      "text/plain": [
       "0    210492\n",
       "1      5173\n",
       "Name: clicker, dtype: int64"
      ]
     },
     "execution_count": 5,
     "metadata": {},
     "output_type": "execute_result"
    }
   ],
   "source": [
    "final_df['clicker'].value_counts()"
   ]
  },
  {
   "cell_type": "code",
   "execution_count": null,
   "metadata": {},
   "outputs": [],
   "source": [
    "def new_balance(df_train,col):\n",
    "    df_no = df_train[df_train[col]==0]\n",
    "    df_yes = df_train[df_train[col]==1]\n",
    "    del df_train\n",
    "    if df_yes.shape[0] > df_no.shape[0]:\n",
    "        yes_downsampled = resample(df_yes, \n",
    "                                   replace = False, # sample without replacement\n",
    "                                   n_samples = len(df_no), # match minority n\n",
    "                                   random_state = 42)\n",
    "        resampled = pd.concat([yes_downsampled, df_no])\n",
    "    elif df_no.shape[0] > df_yes.shape[0]:\n",
    "        no_downsampled = resample(df_no, replace = False, n_samples = len(df_yes), random_state = 42)\n",
    "        resampled = pd.concat([no_downsampled, df_yes])\n",
    "    else:\n",
    "        resampled = pd.concat([df_yes, df_no])\n",
    "    return resampled"
   ]
  },
  {
   "cell_type": "code",
   "execution_count": null,
   "metadata": {},
   "outputs": [],
   "source": [
    "# this is a bunch of sql queries that get combined to make the dataframe that will get fed into the model\n",
    "final_df = pd.read_csv('D:\\OneDrive - NITT\\Custom_Download\\training_data.csv')\n",
    "\n",
    "# goal is to predict a clicker\n",
    "final_df = new_balance(final_df,'clicker')\n",
    "\n",
    "df_train, df_test = train_test_split(final_df, test_size=0.2, random_state = 42)\n",
    "df_train, df_val = train_test_split(df_train, test_size=0.1, random_state = 42)\n",
    "\n",
    "train_x = np.asarray(df_train.iloc[:,3:])\n",
    "train_y = np.asarray(df_train['clicker'])\n",
    "\n",
    "test_x = np.asarray(df_test.iloc[:,3:])\n",
    "test_y = np.asarray(df_test['clicker'])\n",
    "\n",
    "val_x = np.asarray(df_val.iloc[:,3:])\n",
    "val_y = np.asarray(df_val['clicker'])\n",
    "\n",
    "model = Sequential([ \n",
    "    Flatten(input_dim=train_x.shape[1]),\n",
    "    Dense(49, activation=\"relu\", name=\"layer2\",kernel_regularizer=regularizers.l1(1e-5)),\n",
    "    Dense(49, name=\"layer3\"),\n",
    "    Dense(10, name=\"layer4\"),\n",
    "    Dense(1,activation='sigmoid', name=\"layer5\")])\n",
    "\n",
    "model.compile(optimizer='adam', \n",
    "    loss='binary_crossentropy', \n",
    "    metrics=['mse'])\n",
    "\n",
    "es = EarlyStopping(monitor='val_loss', mode='min',patience=10, verbose=0)\n",
    "\n",
    "history=model.fit(train_x,train_y,validation_data=(test_x, test_y), epochs=400,batch_size=100,verbose=0,callbacks=[es])\n",
    "\n",
    "model.save_weights(f\"training_data.h5\")\n",
    "\n",
    "# sql query that results in scoring data        \n",
    "scoring_df = pd.read_csv('scoring_data.csv')\n",
    "\n",
    "X = scoring_df.iloc[:,1:].fillna(0)\n",
    "X = np.asarray(X)\n",
    "\n",
    "model2 = Sequential([\n",
    "                    Flatten(input_dim=X.shape[1]),\n",
    "                    Dense(49, activation=\"relu\", name=\"layer2\",kernel_regularizer=regularizers.l1(1e-5)),\n",
    "                    Dense(49, name=\"layer3\"),\n",
    "                    Dense(10, name=\"layer4\"),\n",
    "                    Dense(1,activation='sigmoid', name=\"layer5\")])\n",
    "\n",
    "\n",
    "model2.load_weights(f\"{list_code}_{from_email}_{network_code}{offer_id}.h5\",by_name=True) \n",
    "\n",
    "x_raw = model2.predict(X,batch_size=100)\n",
    "x_predict = model2.predict(X,batch_size=100)\n",
    "\n",
    "# result is taking the training data vs scoring data and predicting the users probability that they will click\n",
    "df = pd.concat([scoring_df['email'], pd.DataFrame((x_predict)), pd.DataFrame((x_raw[:, 0]).T)], axis=1)\n",
    "df.columns = ['email','pred_class', 'pred_prob']\n",
    "df = df.sort_values(by='pred_prob', ascending=False)"
   ]
  }
 ],
 "metadata": {
  "kernelspec": {
   "display_name": "Python 3 (ipykernel)",
   "language": "python",
   "name": "python3"
  },
  "language_info": {
   "codemirror_mode": {
    "name": "ipython",
    "version": 3
   },
   "file_extension": ".py",
   "mimetype": "text/x-python",
   "name": "python",
   "nbconvert_exporter": "python",
   "pygments_lexer": "ipython3",
   "version": "3.9.12"
  }
 },
 "nbformat": 4,
 "nbformat_minor": 2
}
