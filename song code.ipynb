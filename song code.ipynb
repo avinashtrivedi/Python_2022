{
 "cells": [
  {
   "cell_type": "code",
   "execution_count": null,
   "metadata": {},
   "outputs": [],
   "source": []
  },
  {
   "cell_type": "code",
   "execution_count": 18,
   "metadata": {},
   "outputs": [
    {
     "name": "stdout",
     "output_type": "stream",
     "text": [
      "1. View all\n",
      "2. Add song\n",
      "3. Remove song\n",
      "4. Updating Rating\n",
      "5. Exit\n",
      "Enter choice: 1\n",
      "PLAYLISTS\n",
      "------------ \n",
      "#  NAME               YEAR                      RATING                      \n",
      "1  Man On the Moon    1992                      ***                         \n",
      "2  Hey Ya!            2003                      *                           \n",
      "\n"
     ]
    }
   ],
   "source": [
    "\n",
    "from tabulate import tabulate\n",
    "class check():\n",
    "    def __init__(self):\n",
    "        self.n=[]\n",
    "    def add(self,a):\n",
    "        return self.n.append(a)\n",
    "    def remove(self,b):\n",
    "        self.n.remove(b)\n",
    "    def dis(self):\n",
    "        return (self.n)\n",
    " \n",
    "obj1=check()\n",
    "obj2=check()\n",
    "obj3=check()\n",
    "choice=1\n",
    "\n",
    "lst1=['Man On the Moon','Hey Ya!']\n",
    "lst2=['1992','2003']\n",
    "lst3=['***','*']\n",
    "lst4=['1','2']\n",
    "while choice!=5:\n",
    "    \n",
    "    print(\"1. View all\")\n",
    "    print(\"2. Add song\")\n",
    "    print(\"3. Remove song\")\n",
    "    print(\"4. Updating Rating\")\n",
    "    print(\"5. Exit\")\n",
    "    choice=int(input(\"Enter choice: \"))\n",
    "    \n",
    "    if choice==1:\n",
    "        \n",
    "        print(\"PLAYLISTS\\n------------ \")\n",
    "            #print(\"#     Name       Year     Rating\")\n",
    "        #print(\"Name{} \\nYear {} \\nRating {}\".format(obj1.dis(),obj2.dis(),obj3.dis()))\n",
    "        #print(\"Name{} \\nYear {} \\nRating {}\".format(lst1,lst2,lst3))\n",
    "        \n",
    "        for i in range(len(lst1)):\n",
    "            #print ('i' , end = \" \")\n",
    "            lst4.append(i)\n",
    "        \n",
    "        print (\"{:<2} {:<18} {:<25} {:<28}\".format('#','NAME','YEAR','RATING'))\n",
    "\n",
    "        for (s,v,i,p) in zip(lst4,lst1,lst2,lst3):\n",
    "            print (\"{:<2} {:<18} {:<25} {:<28}\".format(s,v,i,p))\n",
    "            \n",
    "        \n",
    "\n",
    "\n",
    "        #print(\"Year\",obj2.dis())\n",
    "        #print(\"Rating\",obj3.dis())\n",
    "        #print(\"Year\".format(*obj2.dis(),sep='\\n'))\n",
    "        break\n",
    "    elif choice==2:\n",
    "        a=str(input(\"Name: \"))\n",
    "        b=int(input(\"Year \"))\n",
    "        c=str(input(\"rating\"))\n",
    "        lst1.append(a)\n",
    "        lst2.append(b)\n",
    "        lst3.append(c)\n",
    "\n",
    "        print(\"song added\\n------------ \")\n",
    " \n",
    "    elif choice==3:\n",
    "        print(\"REMOVE SONG\")\n",
    "        n=int(input(\"Enter song #:\"))\n",
    "        del lst4[n]\n",
    "        del lst3[n]\n",
    "        del lst2[n]\n",
    "   \n",
    "    elif choice==4:\n",
    "        print(\"Updating Rating\\n------------ \")\n",
    "        rate=int(input(\"Enter song #:\"))\n",
    "        rating=str(input(\"Enter rating \"))\n",
    "        lst3.insert(rate,rating)\n",
    "\n",
    "\n",
    "\n",
    "    \n",
    "\n",
    "    elif choice==5:\n",
    "        print(\"Exiting!\")\n",
    "    else:\n",
    "        print(\"Invalid choice!!\")\n",
    " \n",
    "print()"
   ]
  },
  {
   "cell_type": "markdown",
   "metadata": {},
   "source": [
    "## "
   ]
  },
  {
   "cell_type": "code",
   "execution_count": null,
   "metadata": {},
   "outputs": [],
   "source": []
  },
  {
   "cell_type": "code",
   "execution_count": null,
   "metadata": {},
   "outputs": [],
   "source": []
  }
 ],
 "metadata": {
  "kernelspec": {
   "display_name": "Python 3 (ipykernel)",
   "language": "python",
   "name": "python3"
  },
  "language_info": {
   "codemirror_mode": {
    "name": "ipython",
    "version": 3
   },
   "file_extension": ".py",
   "mimetype": "text/x-python",
   "name": "python",
   "nbconvert_exporter": "python",
   "pygments_lexer": "ipython3",
   "version": "3.8.5"
  }
 },
 "nbformat": 4,
 "nbformat_minor": 2
}
