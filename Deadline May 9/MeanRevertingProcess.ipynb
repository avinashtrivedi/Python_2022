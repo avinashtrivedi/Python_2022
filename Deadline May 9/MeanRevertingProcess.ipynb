{
 "cells": [
  {
   "cell_type": "code",
   "execution_count": 1,
   "id": "4eda2d73",
   "metadata": {},
   "outputs": [],
   "source": [
    "import numpy as np"
   ]
  },
  {
   "cell_type": "markdown",
   "id": "9137db30",
   "metadata": {},
   "source": [
    "## IMPORTANT = READ THESE INSTRUCTIONS CAREFULLY\n",
    "\n",
    "In the exercises below your goal is to fill in the cells with code as described. Your functions should work on the samples provided **without modification.**\n",
    "\n",
    "\n",
    "- **we** should be able to run your entire notebook by selecting Run->Run All Cells and **all** of your code will run without error within at most a few minutes\n",
    "- if we have to modify your code so that it runs there will be a penalty - for example if you have indentations that cause code to fail there will be a penalty\n",
    "- you are asked to produce many functions below - it would be wise to test these to make sure they work as you intend and without generating errors\n",
    "- you should not use lists when you can use numpy arrays\n",
    "- you should not use recursion when you don't have to and when it is inefficient (both in memory and time to execution) to use recursion\n",
    "- once you have done your testing **you should be sure to remove**\n",
    "    - any functions that are not needed in the code you are asked to provide\n",
    "    - any variable assignments that are not needed in the code you are asked to provide\n",
    "- make sure your code runs on examples does not contain infinite loops\n",
    "- make sure the time it takes your code to run in examples is consistent with the complexity of the task being carried out\n",
    "- do not put lines of code that excecute at the OS level. For example you should not have lines that install packages included in your code. Do all of your package installation outside of the notebook.\n",
    "- when asked to write a function with some name, make sure you \n",
    "    - use the exact name asked for\n",
    "    - use the exact arguments asked for\n",
    "    - give the exact type of output asked for\n",
    "- this notebook (and not some supporting pdf file) is the ultimate authority as to what output is asked for in a function\n",
    "- functions you provide will be tested, so we'll be looking for functions with the exact name asked for. Make sure you only have **one version** in your notebook."
   ]
  },
  {
   "cell_type": "markdown",
   "id": "4f06a782",
   "metadata": {},
   "source": [
    "**Problem 1 - Generating Mean Reverting Process (MRP) Realizations**\n",
    "\n",
    "We want to generate (approximate) realizations for the process satisfying the SDE\n",
    "$$\n",
    "dX_t = \\theta(\\mu - X_t)dt + \\sigma dB_t\n",
    "$$\n",
    "starting at some value $X_0$ where $B_t$ is standard Brownian motion, for\n",
    "$t\\in [0,T].$\n",
    "\n",
    "Write a function called **MRPRealization** that takes as inputs the following:\n",
    "\n",
    "- **X0** = a starting value for the process\n",
    "- **theta**\n",
    "- **mu**\n",
    "- **sigma**\n",
    "- **T** a numpy 1-d array of increasing sequence of times with T[0]=0 at which to generate process values\n",
    "\n",
    "and output a $N \\times 2$ numpy array where $N$ is the length of T\n",
    "\n",
    "- **0th** column contains the times T\n",
    "- **1th** column contains the values of $X$ for the realization at those times.\n",
    "\n",
    "**Important:** You should try to make your code as efficient as possible. \n",
    "The same requirements/suggestions as in the last assignment apply should be considered\n",
    "for achieving this.\n",
    "\n",
    "Make your function self-contained. You should not use functions except those found in the numpy package.\n"
   ]
  },
  {
   "cell_type": "code",
   "execution_count": 43,
   "id": "84ff8cb6",
   "metadata": {},
   "outputs": [],
   "source": [
    "def MRPRealization(X0,theta,mu,sigma,T):\n",
    "    N=len(T)\n",
    "    Z=np.random.normal(0,1,N-1)\n",
    "    X=np.zeros(N)\n",
    "    X[0]=X0\n",
    "    dT=np.diff(T)\n",
    "    E=np.exp(-theta*dT)\n",
    "    for i in range(1,N): # to generate X[i]\n",
    "        CMEAN=X[i-1]*E[i-1]+mu*(1-E[i-1])\n",
    "        CSTD=sigma*np.sqrt(1-np.exp(-2*theta)*(E[i-1]**2))/(2.*theta)\n",
    "        X[i]=CMEAN+CSTD*Z[i-1]\n",
    "    M=np.array([T,X]).T\n",
    "    return(M)\n",
    "X0=1\n",
    "theta=.25\n",
    "mu=.75\n",
    "sigma=.1\n",
    "T=np.linspace(0,100,100)\n",
    "M=MRPRealization(X0,theta,mu,sigma,T)"
   ]
  },
  {
   "cell_type": "code",
   "execution_count": 107,
   "id": "efa1cd59",
   "metadata": {},
   "outputs": [
    {
     "data": {
      "text/plain": [
       "[<matplotlib.lines.Line2D at 0x2449364df70>]"
      ]
     },
     "execution_count": 107,
     "metadata": {},
     "output_type": "execute_result"
    },
    {
     "data": {
      "image/png": "[encoded data removed]",
      "text/plain": [
       "<Figure size 432x288 with 1 Axes>"
      ]
     },
     "metadata": {
      "needs_background": "light"
     },
     "output_type": "display_data"
    }
   ],
   "source": [
    "import matplotlib.pyplot as plt\n",
    "\n",
    "X0=.75\n",
    "theta=.10\n",
    "mu=.75\n",
    "sigma=.2\n",
    "T=np.linspace(0,100,1000)\n",
    "M=MRPRealization(X0,theta,mu,sigma,T)\n",
    "plt.plot(M[:,0],M[:,1])\n"
   ]
  },
  {
   "cell_type": "markdown",
   "id": "1617f76b",
   "metadata": {},
   "source": [
    "**Problem 2 - Maximum Likelihood Estimation**\n",
    "\n",
    "Write a function called **MRPMLE** that takes as input the following\n",
    "\n",
    "- M an $(N+1) \\times 2$ matrix with 0th column containing the times $t_0,\\ldots,t_N$ \n",
    "at which an MRP process is observed and whose 1th column contains the values of the process at those times\n",
    "(like the output of the *MRPRealization* function)\n",
    "\n",
    "- **maxtheta** - the maximum value of theta to use in a search for the theta parameter's MLE, so that the it is assumed that theta lies in the interval (0,maxtheta]\n",
    "\n",
    "- **Ntheta**  - number of values of theta to search among, so the algorithm tries maxtheta*i/Ntheta, for i=1,...,Ntheta.\n",
    "\n",
    "and outputs a 3-tuple containg the maximum likelihood estimators for the three parameters\n",
    "\n",
    "- **theta**\n",
    "- **mu**\n",
    "- **sigma**\n",
    "\n",
    "**in the order given here.**"
   ]
  },
  {
   "cell_type": "code",
   "execution_count": 169,
   "id": "ce51029c",
   "metadata": {},
   "outputs": [
    {
     "name": "stdout",
     "output_type": "stream",
     "text": [
      "(1000, 2)\n"
     ]
    },
    {
     "data": {
      "text/plain": [
       "(1.935, 1.2616092593323887, 0.21504282263341531)"
      ]
     },
     "execution_count": 169,
     "metadata": {},
     "output_type": "execute_result"
    }
   ],
   "source": [
    "def MRPMLE(M,maxtheta,Ntheta):\n",
    "    N=M.shape[0]\n",
    "    T=M[:,0]\n",
    "    X=M[:,1]\n",
    "    dT=np.diff(T)\n",
    "    \n",
    "    X0toNminus1=X[0:(N-1)]\n",
    "    X1toN=X[1:N]\n",
    "    \n",
    "    for i in range(Ntheta):\n",
    "        theta=(i+1)*maxtheta/Ntheta\n",
    "        W=np.exp(-theta*dT)\n",
    "        muhatnum=np.sum((X1toN-W*X0toNminus1)/(1+W))\n",
    "        muhatden=np.sum((1-W)/(1+W))\n",
    "        muhat=muhatnum/muhatden\n",
    "        Mhat=W*X0toNminus1+muhat*(1-W)\n",
    "        S=2*theta*np.sum(((X1toN-Mhat)**2)/(1-W**2))\n",
    "        sigmahat=np.sqrt(S/(N-1))\n",
    "        V=(sigmahat**2)*(1-W**2)/(2*theta)\n",
    "        loglike=-.5*np.sum(V)-.5*np.sum(((X1toN-Mhat)**2)/V)\n",
    "        if i==0:\n",
    "            maxloglike=loglike\n",
    "            thetaMLE=theta\n",
    "            muMLE=muhat\n",
    "            sigmaMLE=sigmahat\n",
    "        else:\n",
    "            if loglike>maxloglike:\n",
    "                maxloglike=loglike\n",
    "                thetaMLE=theta\n",
    "                muMLE=muhat\n",
    "                sigmaMLE=sigmahat\n",
    "    return((thetaMLE,muMLE,sigmaMLE))\n",
    "        \n",
    "        \n",
    "print(M.shape)\n",
    "X0=.75\n",
    "mu=1.25\n",
    "sigma=.25\n",
    "theta=2\n",
    "T=np.linspace(0,100,1000)\n",
    "M=MRPRealization(X0,theta,mu,sigma,T)\n",
    "MRPMLE(M,5,1000)"
   ]
  },
  {
   "cell_type": "markdown",
   "id": "b40a0bcd",
   "metadata": {},
   "source": [
    "**Problem 3 - Fitting MRP Model to Historical Spot Prices**\n",
    "\n",
    "You have been provided with a file of historical RBOB Gasoline prices drawn from this website:\n",
    "\n",
    "https://www.eia.gov/dnav/pet/hist/EER_EPMRR_PF4_Y05LA_DPGD.htm\n",
    "\n",
    "Write a function **FitMRPtoRBOBData** that reads the file in from disk (without changes to the file before reading it in) and fit a MRP process using day as the unit of time. \n",
    "\n",
    "Your file should take as input:\n",
    "\n",
    "- **fileid** = string with location where the datafile resides on disk as input\n",
    "- **maxtheta** = the largest value of theta to try\n",
    "- **Ntheta** the number of equispaced values of theta to try so that values tried are maxtheta*i/Ntheta, for i=1,...,Ntheta.\n",
    "\n",
    "The function should read in the file, make the necessary changes to produce 1-d numpy arrays of times (in days) and prices, fit the MRP parameters, and output a 3-tuple consisting of the MLE's\n",
    "\n",
    "- **thetahat**\n",
    "- **muhat**\n",
    "- **sigmahat**\n",
    "\n",
    "\n",
    "in exactly this order. \n"
   ]
  },
  {
   "cell_type": "code",
   "execution_count": 190,
   "id": "494fb134",
   "metadata": {},
   "outputs": [
    {
     "data": {
      "text/plain": [
       "(0.00684, 2.1395600232077627, 0.06640782608593111)"
      ]
     },
     "execution_count": 190,
     "metadata": {},
     "output_type": "execute_result"
    }
   ],
   "source": [
    "def FitMRPtoRBOBData(fileid,maxtheta,Ntheta):\n",
    "    df=pd.read_csv(fileid,skiprows=2)\n",
    "    df[\"Price\"]=df.iloc[:,1]\n",
    "    df.drop(columns=df.columns[1],inplace=True)\n",
    "    df.drop(index=4797,inplace=True)\n",
    "    df[\"Date\"]=pd.to_datetime(df.Date)\n",
    "    df[\"day\"]=(df[\"Date\"]-df[\"Date\"].iloc[0])\n",
    "    df[\"day\"]=df[\"day\"]/np.timedelta64(1,\"D\")\n",
    "    T=df[\"day\"].values\n",
    "    X=df[\"Price\"].values\n",
    "    M=np.array([T,X]).T\n",
    "    (theta,mu,sigma)=MRPMLE(M,.01,1000)\n",
    "    return (theta,mu,sigma)\n",
    "fileid=\"./RBOBGasolinePrices.csv\"\n",
    "maxtheta=1\n",
    "Ntheta=1000\n",
    "FitMRPtoRBOBData(fileid,maxtheta,Ntheta)"
   ]
  },
  {
   "cell_type": "markdown",
   "id": "18036d03",
   "metadata": {},
   "source": [
    "**Problem 4**\n",
    "\n",
    "Assign MLE estimators to the variables in the following cell.\n",
    "The right hand sides should be *literals*. Try to get 3 significant digits of accuracy for the theta MLE. "
   ]
  },
  {
   "cell_type": "code",
   "execution_count": null,
   "id": "6c0caef9",
   "metadata": {},
   "outputs": [],
   "source": [
    "thetahatRBOB=...\n",
    "muhatRBOB=...\n",
    "sigmahatRBOB=.."
   ]
  },
  {
   "cell_type": "code",
   "execution_count": 167,
   "id": "d437b614",
   "metadata": {},
   "outputs": [
    {
     "data": {
      "text/plain": [
       "[<matplotlib.lines.Line2D at 0x2449f55ca30>]"
      ]
     },
     "execution_count": 167,
     "metadata": {},
     "output_type": "execute_result"
    },
    {
     "data": {
      "image/png": "[encoded data removed]",
      "text/plain": [
       "<Figure size 432x288 with 1 Axes>"
      ]
     },
     "metadata": {
      "needs_background": "light"
     },
     "output_type": "display_data"
    }
   ],
   "source": [
    "import matplotlib.pyplot as plt\n",
    "plt.plot(M[:,0],M[:,1])\n"
   ]
  },
  {
   "cell_type": "code",
   "execution_count": 186,
   "id": "10342f5a",
   "metadata": {},
   "outputs": [
    {
     "data": {
      "text/plain": [
       "[<matplotlib.lines.Line2D at 0x2449f8713a0>]"
      ]
     },
     "execution_count": 186,
     "metadata": {},
     "output_type": "execute_result"
    },
    {
     "data": {
      "image/png": "[encoded data removed]",
      "text/plain": [
       "<Figure size 432x288 with 1 Axes>"
      ]
     },
     "metadata": {
      "needs_background": "light"
     },
     "output_type": "display_data"
    }
   ],
   "source": [
    "M=MRPRealization(X0,.001,mu,sigma,T)\n",
    "plt.plot(M[:,0],M[:,1])"
   ]
  },
  {
   "cell_type": "markdown",
   "id": "92f37187",
   "metadata": {},
   "source": [
    "**Problem 5.**\n",
    "\n",
    "Assuming that MRP model is valid for the RBOB data, use the parametric boostrap method to give 95% confidence intervals for the true parameters.\n",
    "Make your confidence intervals based on bootstrap samples size of 1,000.\n",
    "\n",
    "In the cell below, give the lower and upper confidence bounds for each parameter estimate. These should be **literals**."
   ]
  },
  {
   "cell_type": "code",
   "execution_count": null,
   "id": "3e8aab9a",
   "metadata": {},
   "outputs": [],
   "source": [
    "thetaRBOBlower=...\n",
    "thetaRBOBupper=...\n",
    "muRBOBlower=...\n",
    "muRBOBupper=...\n",
    "sigmaRBOBlower=...\n",
    "sigmaRBOBupper=...\n"
   ]
  }
 ],
 "metadata": {
  "kernelspec": {
   "display_name": "Python 3 (ipykernel)",
   "language": "python",
   "name": "python3"
  },
  "language_info": {
   "codemirror_mode": {
    "name": "ipython",
    "version": 3
   },
   "file_extension": ".py",
   "mimetype": "text/x-python",
   "name": "python",
   "nbconvert_exporter": "python",
   "pygments_lexer": "ipython3",
   "version": "3.8.5"
  }
 },
 "nbformat": 4,
 "nbformat_minor": 5
}
