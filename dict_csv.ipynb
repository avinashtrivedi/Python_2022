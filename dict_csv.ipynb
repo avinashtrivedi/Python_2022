{
 "cells": [
  {
   "cell_type": "code",
   "execution_count": 1,
   "id": "e9061e2e",
   "metadata": {},
   "outputs": [],
   "source": [
    "import pandas as pd"
   ]
  },
  {
   "cell_type": "code",
   "execution_count": 2,
   "id": "66c5f24c",
   "metadata": {},
   "outputs": [],
   "source": [
    "mydict = {'Amourous' :'Word',\n",
    "'Distrust' :'Word.1',\n",
    "'Pray':'Word.2',\n",
    "'Introvert' :'Word.3',\n",
    "'Computer' :'Word.4',\n",
    "'Condo' :'Word.5',\n",
    "'University' :'Word.6',\n",
    "'Male' :'Word.7'}"
   ]
  },
  {
   "cell_type": "code",
   "execution_count": 3,
   "id": "4faa23f8",
   "metadata": {},
   "outputs": [],
   "source": [
    "df = pd.read_csv(r\"D:\\OneDrive - NITT\\Custom_Download\\Book2.csv\")"
   ]
  },
  {
   "cell_type": "code",
   "execution_count": 4,
   "id": "9da077e4",
   "metadata": {},
   "outputs": [],
   "source": [
    "col = pd.read_excel(\"D:\\OneDrive - NITT\\Custom_Download\\headers.xlsx\")"
   ]
  },
  {
   "cell_type": "code",
   "execution_count": 5,
   "id": "7c7bc591",
   "metadata": {},
   "outputs": [],
   "source": [
    "col = list(map(lambda x:x.lower(),list(col)))"
   ]
  },
  {
   "cell_type": "code",
   "execution_count": 6,
   "id": "a73a2ecb",
   "metadata": {},
   "outputs": [],
   "source": [
    "def func(d):\n",
    "    a = d['entity_group'].lower()\n",
    "    a_val = d['score']\n",
    "    z[a] = a_val\n",
    "    for k,v in d['secondary'].items():\n",
    "        z[k.lower()] = v\n",
    "        \n",
    "    b = list(d['secondary'])[0].title()\n",
    "    z[mydict[b].lower()] = d['word']"
   ]
  },
  {
   "cell_type": "code",
   "execution_count": 7,
   "id": "06a99bfb",
   "metadata": {},
   "outputs": [],
   "source": [
    "data = []"
   ]
  },
  {
   "cell_type": "code",
   "execution_count": 8,
   "id": "ec4908c2",
   "metadata": {},
   "outputs": [],
   "source": [
    "for d in df['predictions']:\n",
    "    x = eval(d)\n",
    "    z = dict([(k,float('nan')) for k in list(col)])\n",
    "    for d in x:\n",
    "        func(d)\n",
    "    data.append(z)"
   ]
  },
  {
   "cell_type": "code",
   "execution_count": 19,
   "id": "89fa4688",
   "metadata": {},
   "outputs": [],
   "source": [
    "# pd.set_option('display.height', 500)\n",
    "pd.set_option('display.max_columns', 50)"
   ]
  },
  {
   "cell_type": "code",
   "execution_count": 20,
   "id": "32c3300a",
   "metadata": {},
   "outputs": [],
   "source": [
    "pd.DataFrame(data).to_csv('output.csv',index=False)"
   ]
  },
  {
   "cell_type": "code",
   "execution_count": 21,
   "id": "37a6cd70",
   "metadata": {},
   "outputs": [
    {
     "data": {
      "text/plain": [
       "'[{\\'end\\': 50, \\'entity_group\\': \\'Hope\\', \\'score\\': 0.57763785, \\'secondary\\': {\\'Pray\\': 0.2945953035, \\'Peace\\': 0.1444094625, \\'Calm\\': 0.1328567055}, \\'start\\': 47, \\'word\\': \\'won\\'}, {\\'end\\': 52, \\'entity_group\\': \\'Timid\\', \\'score\\': 0.4059966, \\'secondary\\': {\\'Introvert\\': 0.097439184, \\'Quiet\\': 0.113679048, \\'Alone\\': 0.194878368}, \\'start\\': 50, \\'word\\': \"\\' t\"}]'"
      ]
     },
     "execution_count": 21,
     "metadata": {},
     "output_type": "execute_result"
    }
   ],
   "source": [
    "df['predictions'][1]"
   ]
  },
  {
   "cell_type": "code",
   "execution_count": null,
   "id": "411d472c",
   "metadata": {},
   "outputs": [],
   "source": []
  }
 ],
 "metadata": {
  "kernelspec": {
   "display_name": "Python 3 (ipykernel)",
   "language": "python",
   "name": "python3"
  },
  "language_info": {
   "codemirror_mode": {
    "name": "ipython",
    "version": 3
   },
   "file_extension": ".py",
   "mimetype": "text/x-python",
   "name": "python",
   "nbconvert_exporter": "python",
   "pygments_lexer": "ipython3",
   "version": "3.9.12"
  }
 },
 "nbformat": 4,
 "nbformat_minor": 5
}
