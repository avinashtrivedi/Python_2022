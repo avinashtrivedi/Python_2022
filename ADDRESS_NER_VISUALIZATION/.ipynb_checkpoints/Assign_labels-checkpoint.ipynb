{
 "cells": [
  {
   "cell_type": "code",
   "execution_count": null,
   "id": "b76b22a7",
   "metadata": {},
   "outputs": [],
   "source": [
    "import pandas as pd\n",
    "import requests\n",
    "\n",
    "def get_url(record):\n",
    "    street=''\n",
    "    if record['Building_Number']:\n",
    "        street+=record['Building_Number'][:-2]+' '\n",
    "    if record['Building_Name']:\n",
    "        street+=record['Building_Name']+' '\n",
    "    if record['Street_Name']:\n",
    "        street+=record['Street_Name']+' '\n",
    "    street=street.strip()\n",
    "    city=record['City']\n",
    "    state=record['State']\n",
    "    country=record['Country']\n",
    "    postalcode=record['Zip_Code']\n",
    "    result=url\n",
    "    if street:\n",
    "        result=result+'street='+street+'&'\n",
    "    if city:\n",
    "        result=result+'city='+city+'&'\n",
    "    if state:\n",
    "        result=result+'state='+state+'&'\n",
    "    if country:\n",
    "        result=result+'country='+country+'&'\n",
    "    if postalcode:\n",
    "        result=result+'postalcode='+postalcode+'&'\n",
    "    query=requests.get(result[:-1])\n",
    "#     print(query.text!='[]')\n",
    "    return query.text!='[]'\n",
    "\n",
    "# Loading data\n",
    "train=pd.read_csv(\"us-train-dataset.csv\")\n",
    "test=pd.read_csv(\"us-test-dataset.csv\")\n",
    "\n",
    "train.fillna('', inplace=True)\n",
    "test.fillna('', inplace=True)\n",
    "\n",
    "train['Building_Number']=train['Building_Number'].astype('str')\n",
    "test['Building_Number']=test['Building_Number'].astype('str')\n",
    "train['Building_Name']=train['Building_Name'].astype('str')\n",
    "test['Building_Name']=test['Building_Name'].astype('str')\n",
    "\n",
    "url=\"https://nominatim.openstreetmap.org/search.php?format=jsonv2&\"\n",
    "\n",
    "train['label']=train.apply(get_url,axis=1).astype('int')\n",
    "test['label']=test.apply(get_url,axis=1).astype('int')\n",
    "\n",
    "# Writing data with labels to csv file\n",
    "train.to_csv(\"train.csv\",index=False)\n",
    "test.to_csv(\"test.csv\",index=False)"
   ]
  },
  {
   "cell_type": "code",
   "execution_count": null,
   "id": "2c7ed358",
   "metadata": {},
   "outputs": [],
   "source": []
  }
 ],
 "metadata": {
  "kernelspec": {
   "display_name": "Python 3 (ipykernel)",
   "language": "python",
   "name": "python3"
  },
  "language_info": {
   "codemirror_mode": {
    "name": "ipython",
    "version": 3
   },
   "file_extension": ".py",
   "mimetype": "text/x-python",
   "name": "python",
   "nbconvert_exporter": "python",
   "pygments_lexer": "ipython3",
   "version": "3.9.12"
  }
 },
 "nbformat": 4,
 "nbformat_minor": 5
}
