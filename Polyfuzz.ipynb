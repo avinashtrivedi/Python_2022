{
 "cells": [
  {
   "cell_type": "code",
   "execution_count": 1,
   "id": "2b606ae6",
   "metadata": {
    "scrolled": true
   },
   "outputs": [],
   "source": [
    "import numpy as np\n",
    "import pandas as pd"
   ]
  },
  {
   "cell_type": "code",
   "execution_count": 7,
   "id": "7d40fe92",
   "metadata": {},
   "outputs": [
    {
     "name": "stdout",
     "output_type": "stream",
     "text": [
      "Collecting bertopic[flair]\n",
      "  Downloading bertopic-0.10.0-py2.py3-none-any.whl (58 kB)\n",
      "     ---------------------------------------- 58.6/58.6 kB 3.2 MB/s eta 0:00:00\n",
      "Requirement already satisfied: plotly>=4.7.0 in c:\\users\\avitr\\anaconda3\\lib\\site-packages (from bertopic[flair]) (5.6.0)\n",
      "Requirement already satisfied: tqdm>=4.41.1 in c:\\users\\avitr\\anaconda3\\lib\\site-packages (from bertopic[flair]) (4.63.0)\n",
      "Collecting pyyaml<6.0\n",
      "  Downloading PyYAML-5.4.1-cp38-cp38-win_amd64.whl (213 kB)\n",
      "     ------------------------------------ 213.6/213.6 kB 723.7 kB/s eta 0:00:00\n",
      "Collecting hdbscan>=0.8.28\n",
      "  Downloading hdbscan-0.8.28.tar.gz (5.2 MB)\n",
      "     ---------------------------------------- 5.2/5.2 MB 777.6 kB/s eta 0:00:00\n",
      "  Installing build dependencies: started\n",
      "  Installing build dependencies: finished with status 'done'\n",
      "  Getting requirements to build wheel: started\n",
      "  Getting requirements to build wheel: finished with status 'done'\n",
      "  Preparing metadata (pyproject.toml): started\n",
      "  Preparing metadata (pyproject.toml): finished with status 'done'\n",
      "Requirement already satisfied: sentence-transformers>=0.4.1 in c:\\users\\avitr\\anaconda3\\lib\\site-packages (from bertopic[flair]) (2.2.0)\n",
      "Requirement already satisfied: scikit-learn>=0.22.2.post1 in c:\\users\\avitr\\anaconda3\\lib\\site-packages (from bertopic[flair]) (1.0.2)\n",
      "Collecting umap-learn>=0.5.0\n",
      "  Downloading umap-learn-0.5.3.tar.gz (88 kB)\n",
      "     ---------------------------------------- 88.2/88.2 kB 1.2 MB/s eta 0:00:00\n",
      "  Preparing metadata (setup.py): started\n",
      "  Preparing metadata (setup.py): finished with status 'done'\n",
      "Requirement already satisfied: pandas>=1.1.5 in c:\\users\\avitr\\anaconda3\\lib\\site-packages (from bertopic[flair]) (1.4.1)\n",
      "Requirement already satisfied: numpy>=1.20.0 in c:\\users\\avitr\\appdata\\roaming\\python\\python38\\site-packages (from bertopic[flair]) (1.21.6)\n",
      "Collecting bertopic[flair]\n",
      "  Downloading bertopic-0.9.4-py2.py3-none-any.whl (57 kB)\n",
      "     ---------------------------------------- 57.6/57.6 kB 1.5 MB/s eta 0:00:00\n",
      "  Downloading bertopic-0.9.3-py2.py3-none-any.whl (57 kB)\n",
      "     ---------------------------------------- 57.1/57.1 kB 1.5 MB/s eta 0:00:00\n",
      "Collecting plotly<4.14.3,>=4.7.0\n",
      "  Downloading plotly-4.14.2-py2.py3-none-any.whl (13.2 MB)\n",
      "     ---------------------------------------- 13.2/13.2 MB 1.1 MB/s eta 0:00:00\n",
      "Collecting bertopic[flair]\n",
      "  Downloading bertopic-0.9.2-py2.py3-none-any.whl (57 kB)\n",
      "     ---------------------------------------- 57.1/57.1 kB 1.5 MB/s eta 0:00:00\n",
      "  Downloading bertopic-0.9.1-py2.py3-none-any.whl (55 kB)\n",
      "     ---------------------------------------- 55.9/55.9 kB 2.9 MB/s eta 0:00:00\n",
      "  Downloading bertopic-0.9.0-py2.py3-none-any.whl (55 kB)\n",
      "     ---------------------------------------- 55.9/55.9 kB 1.5 MB/s eta 0:00:00\n",
      "  Downloading bertopic-0.8.1-py2.py3-none-any.whl (53 kB)\n",
      "     ---------------------------------------- 53.8/53.8 kB 1.4 MB/s eta 0:00:00\n",
      "  Downloading bertopic-0.8.0-py2.py3-none-any.whl (53 kB)\n",
      "     ---------------------------------------- 53.2/53.2 kB 1.4 MB/s eta 0:00:00\n",
      "  Downloading bertopic-0.7.0-py2.py3-none-any.whl (40 kB)\n",
      "     ---------------------------------------- 40.8/40.8 kB 1.9 MB/s eta 0:00:00\n",
      "  Downloading bertopic-0.6.0-py2.py3-none-any.whl (25 kB)\n",
      "Requirement already satisfied: torch>=1.4.0 in c:\\users\\avitr\\anaconda3\\lib\\site-packages (from bertopic[flair]) (1.8.1)\n",
      "Collecting flair==0.7\n",
      "  Downloading flair-0.7-py3-none-any.whl (448 kB)\n",
      "     ------------------------------------ 448.3/448.3 kB 757.9 kB/s eta 0:00:00\n",
      "Requirement already satisfied: ftfy in c:\\users\\avitr\\anaconda3\\lib\\site-packages (from flair==0.7->bertopic[flair]) (6.1.1)\n",
      "Requirement already satisfied: gensim<=3.8.3,>=3.4.0 in c:\\users\\avitr\\anaconda3\\lib\\site-packages (from flair==0.7->bertopic[flair]) (3.8.3)\n",
      "Collecting mpld3==0.3\n",
      "  Using cached mpld3-0.3-py3-none-any.whl\n",
      "Requirement already satisfied: regex in c:\\users\\avitr\\anaconda3\\lib\\site-packages (from flair==0.7->bertopic[flair]) (2021.8.3)\n",
      "Collecting gdown\n",
      "  Using cached gdown-4.4.0-py3-none-any.whl\n",
      "Collecting hyperopt>=0.1.1\n",
      "  Using cached hyperopt-0.2.7-py2.py3-none-any.whl (1.6 MB)\n",
      "Collecting transformers<=3.5.1,>=3.5.0\n",
      "  Downloading transformers-3.5.1-py3-none-any.whl (1.3 MB)\n",
      "     ---------------------------------------- 1.3/1.3 MB 764.8 kB/s eta 0:00:00\n",
      "Requirement already satisfied: sqlitedict>=1.6.0 in c:\\users\\avitr\\anaconda3\\lib\\site-packages (from flair==0.7->bertopic[flair]) (2.0.0)\n",
      "Requirement already satisfied: lxml in c:\\users\\avitr\\anaconda3\\lib\\site-packages (from flair==0.7->bertopic[flair]) (4.8.0)\n",
      "Requirement already satisfied: python-dateutil>=2.6.1 in c:\\users\\avitr\\anaconda3\\lib\\site-packages (from flair==0.7->bertopic[flair]) (2.8.2)\n",
      "Collecting bpemb>=0.3.2\n",
      "  Using cached bpemb-0.3.3-py3-none-any.whl (19 kB)\n",
      "Requirement already satisfied: tabulate in c:\\users\\avitr\\anaconda3\\lib\\site-packages (from flair==0.7->bertopic[flair]) (0.8.9)\n",
      "Collecting langdetect\n",
      "  Using cached langdetect-1.0.9-py3-none-any.whl\n",
      "Collecting janome\n",
      "  Using cached Janome-0.4.2-py2.py3-none-any.whl (19.7 MB)\n",
      "Collecting konoha<5.0.0,>=4.0.0\n",
      "  Using cached konoha-4.6.5-py3-none-any.whl (20 kB)\n",
      "Requirement already satisfied: matplotlib>=2.2.3 in c:\\users\\avitr\\anaconda3\\lib\\site-packages (from flair==0.7->bertopic[flair]) (3.5.1)\n",
      "Requirement already satisfied: deprecated>=1.2.4 in c:\\users\\avitr\\anaconda3\\lib\\site-packages (from flair==0.7->bertopic[flair]) (1.2.13)\n",
      "Collecting sentencepiece<=0.1.91\n",
      "  Downloading sentencepiece-0.1.91-cp38-cp38-win_amd64.whl (1.2 MB)\n",
      "     ---------------------------------------- 1.2/1.2 MB 826.8 kB/s eta 0:00:00\n",
      "Collecting segtok>=1.5.7\n",
      "  Using cached segtok-1.5.11-py3-none-any.whl (24 kB)\n",
      "Requirement already satisfied: cython>=0.27 in c:\\users\\avitr\\anaconda3\\lib\\site-packages (from hdbscan>=0.8.28->bertopic[flair]) (0.29.14)\n",
      "Requirement already satisfied: scipy>=1.0 in c:\\users\\avitr\\appdata\\roaming\\python\\python38\\site-packages (from hdbscan>=0.8.28->bertopic[flair]) (1.7.3)\n",
      "Requirement already satisfied: joblib>=1.0 in c:\\users\\avitr\\appdata\\roaming\\python\\python38\\site-packages (from hdbscan>=0.8.28->bertopic[flair]) (1.0.1)\n",
      "Requirement already satisfied: pytz>=2020.1 in c:\\users\\avitr\\anaconda3\\lib\\site-packages (from pandas>=1.1.5->bertopic[flair]) (2021.3)\n",
      "Requirement already satisfied: threadpoolctl>=2.0.0 in c:\\users\\avitr\\anaconda3\\lib\\site-packages (from scikit-learn>=0.22.2.post1->bertopic[flair]) (2.2.0)\n",
      "Collecting sentence-transformers>=0.4.1\n",
      "  Downloading sentence-transformers-2.1.0.tar.gz (78 kB)\n",
      "     ---------------------------------------- 78.5/78.5 kB 1.1 MB/s eta 0:00:00\n",
      "  Preparing metadata (setup.py): started\n",
      "  Preparing metadata (setup.py): finished with status 'done'\n",
      "  Downloading sentence-transformers-2.0.0.tar.gz (85 kB)\n",
      "     -------------------------------------- 85.5/85.5 kB 964.7 kB/s eta 0:00:00\n",
      "  Preparing metadata (setup.py): started\n",
      "  Preparing metadata (setup.py): finished with status 'done'\n",
      "  Downloading sentence-transformers-1.2.1.tar.gz (80 kB)\n",
      "     -------------------------------------- 80.8/80.8 kB 251.2 kB/s eta 0:00:00\n",
      "  Preparing metadata (setup.py): started\n",
      "  Preparing metadata (setup.py): finished with status 'done'\n",
      "Requirement already satisfied: torchvision in c:\\users\\avitr\\anaconda3\\lib\\site-packages (from sentence-transformers>=0.4.1->bertopic[flair]) (0.9.1)\n",
      "Requirement already satisfied: nltk in c:\\users\\avitr\\anaconda3\\lib\\site-packages (from sentence-transformers>=0.4.1->bertopic[flair]) (3.7)\n",
      "Requirement already satisfied: typing_extensions in c:\\users\\avitr\\anaconda3\\lib\\site-packages (from torch>=1.4.0->bertopic[flair]) (4.2.0)\n",
      "Requirement already satisfied: colorama in c:\\users\\avitr\\anaconda3\\lib\\site-packages (from tqdm>=4.41.1->bertopic[flair]) (0.4.4)\n",
      "Requirement already satisfied: numba>=0.49 in c:\\users\\avitr\\appdata\\roaming\\python\\python38\\site-packages (from umap-learn>=0.5.0->bertopic[flair]) (0.55.2)\n",
      "Collecting pynndescent>=0.5\n",
      "  Downloading pynndescent-0.5.7.tar.gz (1.1 MB)\n",
      "     ---------------------------------------- 1.1/1.1 MB 868.3 kB/s eta 0:00:00\n",
      "  Preparing metadata (setup.py): started\n",
      "  Preparing metadata (setup.py): finished with status 'done'\n",
      "Requirement already satisfied: requests in c:\\users\\avitr\\anaconda3\\lib\\site-packages (from bpemb>=0.3.2->flair==0.7->bertopic[flair]) (2.27.1)\n",
      "Requirement already satisfied: wrapt<2,>=1.10 in c:\\users\\avitr\\anaconda3\\lib\\site-packages (from deprecated>=1.2.4->flair==0.7->bertopic[flair]) (1.13.3)\n",
      "Requirement already satisfied: smart-open>=1.8.1 in c:\\users\\avitr\\anaconda3\\lib\\site-packages (from gensim<=3.8.3,>=3.4.0->flair==0.7->bertopic[flair]) (2.2.1)\n",
      "Requirement already satisfied: six>=1.5.0 in c:\\users\\avitr\\anaconda3\\lib\\site-packages (from gensim<=3.8.3,>=3.4.0->flair==0.7->bertopic[flair]) (1.16.0)\n",
      "Requirement already satisfied: future in c:\\users\\avitr\\anaconda3\\lib\\site-packages (from hyperopt>=0.1.1->flair==0.7->bertopic[flair]) (0.18.2)\n",
      "Requirement already satisfied: networkx>=2.2 in c:\\users\\avitr\\anaconda3\\lib\\site-packages (from hyperopt>=0.1.1->flair==0.7->bertopic[flair]) (2.7.1)\n",
      "Requirement already satisfied: py4j in c:\\users\\avitr\\anaconda3\\lib\\site-packages (from hyperopt>=0.1.1->flair==0.7->bertopic[flair]) (0.10.9.3)\n",
      "Requirement already satisfied: cloudpickle in c:\\users\\avitr\\anaconda3\\lib\\site-packages (from hyperopt>=0.1.1->flair==0.7->bertopic[flair]) (2.0.0)\n",
      "Collecting importlib-metadata<4.0.0,>=3.7.0\n",
      "  Using cached importlib_metadata-3.10.1-py3-none-any.whl (14 kB)\n",
      "Collecting overrides<4.0.0,>=3.0.0\n",
      "  Using cached overrides-3.1.0-py3-none-any.whl\n",
      "Requirement already satisfied: cycler>=0.10 in c:\\users\\avitr\\anaconda3\\lib\\site-packages (from matplotlib>=2.2.3->flair==0.7->bertopic[flair]) (0.11.0)\n",
      "Requirement already satisfied: packaging>=20.0 in c:\\users\\avitr\\anaconda3\\lib\\site-packages (from matplotlib>=2.2.3->flair==0.7->bertopic[flair]) (21.3)\n",
      "Requirement already satisfied: pillow>=6.2.0 in c:\\users\\avitr\\anaconda3\\lib\\site-packages (from matplotlib>=2.2.3->flair==0.7->bertopic[flair]) (9.0.1)\n",
      "Requirement already satisfied: kiwisolver>=1.0.1 in c:\\users\\avitr\\anaconda3\\lib\\site-packages (from matplotlib>=2.2.3->flair==0.7->bertopic[flair]) (1.3.2)\n",
      "Requirement already satisfied: fonttools>=4.22.0 in c:\\users\\avitr\\anaconda3\\lib\\site-packages (from matplotlib>=2.2.3->flair==0.7->bertopic[flair]) (4.29.1)\n",
      "Requirement already satisfied: pyparsing>=2.2.1 in c:\\users\\avitr\\anaconda3\\lib\\site-packages (from matplotlib>=2.2.3->flair==0.7->bertopic[flair]) (3.0.4)\n",
      "Requirement already satisfied: setuptools in c:\\users\\avitr\\anaconda3\\lib\\site-packages (from numba>=0.49->umap-learn>=0.5.0->bertopic[flair]) (60.10.0)\n",
      "Requirement already satisfied: llvmlite<0.39,>=0.38.0rc1 in c:\\users\\avitr\\appdata\\roaming\\python\\python38\\site-packages (from numba>=0.49->umap-learn>=0.5.0->bertopic[flair]) (0.38.1)\n",
      "Requirement already satisfied: protobuf in c:\\users\\avitr\\anaconda3\\lib\\site-packages (from transformers<=3.5.1,>=3.5.0->flair==0.7->bertopic[flair]) (3.19.1)\n",
      "Collecting tokenizers==0.9.3\n",
      "  Downloading tokenizers-0.9.3-cp38-cp38-win_amd64.whl (1.9 MB)\n",
      "     ---------------------------------------- 1.9/1.9 MB 578.7 kB/s eta 0:00:00\n",
      "Requirement already satisfied: filelock in c:\\users\\avitr\\anaconda3\\lib\\site-packages (from transformers<=3.5.1,>=3.5.0->flair==0.7->bertopic[flair]) (3.6.0)\n",
      "Requirement already satisfied: sacremoses in c:\\users\\avitr\\anaconda3\\lib\\site-packages (from transformers<=3.5.1,>=3.5.0->flair==0.7->bertopic[flair]) (0.0.47)\n",
      "Requirement already satisfied: wcwidth>=0.2.5 in c:\\users\\avitr\\anaconda3\\lib\\site-packages (from ftfy->flair==0.7->bertopic[flair]) (0.2.5)\n",
      "Requirement already satisfied: beautifulsoup4 in c:\\users\\avitr\\anaconda3\\lib\\site-packages (from gdown->flair==0.7->bertopic[flair]) (4.10.0)\n",
      "Requirement already satisfied: click in c:\\users\\avitr\\anaconda3\\lib\\site-packages (from nltk->sentence-transformers>=0.4.1->bertopic[flair]) (7.1.2)\n",
      "Requirement already satisfied: zipp>=0.5 in c:\\users\\avitr\\anaconda3\\lib\\site-packages (from importlib-metadata<4.0.0,>=3.7.0->konoha<5.0.0,>=4.0.0->flair==0.7->bertopic[flair]) (3.7.0)\n",
      "Requirement already satisfied: certifi>=2017.4.17 in c:\\users\\avitr\\anaconda3\\lib\\site-packages (from requests->bpemb>=0.3.2->flair==0.7->bertopic[flair]) (2021.10.8)\n",
      "Requirement already satisfied: charset-normalizer~=2.0.0 in c:\\users\\avitr\\anaconda3\\lib\\site-packages (from requests->bpemb>=0.3.2->flair==0.7->bertopic[flair]) (2.0.12)\n",
      "Requirement already satisfied: urllib3<1.27,>=1.21.1 in c:\\users\\avitr\\anaconda3\\lib\\site-packages (from requests->bpemb>=0.3.2->flair==0.7->bertopic[flair]) (1.26.8)\n",
      "Requirement already satisfied: idna<4,>=2.5 in c:\\users\\avitr\\anaconda3\\lib\\site-packages (from requests->bpemb>=0.3.2->flair==0.7->bertopic[flair]) (3.3)\n",
      "Requirement already satisfied: boto3 in c:\\users\\avitr\\anaconda3\\lib\\site-packages (from smart-open>=1.8.1->gensim<=3.8.3,>=3.4.0->flair==0.7->bertopic[flair]) (1.20.24)\n",
      "Requirement already satisfied: soupsieve>1.2 in c:\\users\\avitr\\anaconda3\\lib\\site-packages (from beautifulsoup4->gdown->flair==0.7->bertopic[flair]) (2.3.1)\n",
      "Requirement already satisfied: PySocks!=1.5.7,>=1.5.6 in c:\\users\\avitr\\anaconda3\\lib\\site-packages (from requests->bpemb>=0.3.2->flair==0.7->bertopic[flair]) (1.7.1)\n",
      "Requirement already satisfied: botocore<1.24.0,>=1.23.24 in c:\\users\\avitr\\anaconda3\\lib\\site-packages (from boto3->smart-open>=1.8.1->gensim<=3.8.3,>=3.4.0->flair==0.7->bertopic[flair]) (1.23.24)\n",
      "Requirement already satisfied: s3transfer<0.6.0,>=0.5.0 in c:\\users\\avitr\\anaconda3\\lib\\site-packages (from boto3->smart-open>=1.8.1->gensim<=3.8.3,>=3.4.0->flair==0.7->bertopic[flair]) (0.5.0)\n",
      "Requirement already satisfied: jmespath<1.0.0,>=0.7.1 in c:\\users\\avitr\\anaconda3\\lib\\site-packages (from boto3->smart-open>=1.8.1->gensim<=3.8.3,>=3.4.0->flair==0.7->bertopic[flair]) (0.10.0)\n",
      "Building wheels for collected packages: hdbscan, sentence-transformers, umap-learn, pynndescent\n",
      "  Building wheel for hdbscan (pyproject.toml): started\n",
      "  Building wheel for hdbscan (pyproject.toml): finished with status 'error'\n",
      "  Building wheel for sentence-transformers (setup.py): started\n",
      "  Building wheel for sentence-transformers (setup.py): finished with status 'done'\n",
      "  Created wheel for sentence-transformers: filename=sentence_transformers-1.2.1-py3-none-any.whl size=123299 sha256=0e1433750f6b866cb69c7b974438775929642d29330f9aba849b2b7bc1c68800\n",
      "  Stored in directory: c:\\users\\avitr\\appdata\\local\\pip\\cache\\wheels\\92\\e0\\93\\a0f6582848b87b07fa73c0f1fe2f43b6328fd3171fe852f381\n",
      "  Building wheel for umap-learn (setup.py): started\n",
      "  Building wheel for umap-learn (setup.py): finished with status 'done'\n",
      "  Created wheel for umap-learn: filename=umap_learn-0.5.3-py3-none-any.whl size=82829 sha256=f63422e1bf59c2e290ad493de5faa5d1ae71e831a8201dfd9bc8c6795a0585da\n",
      "  Stored in directory: c:\\users\\avitr\\appdata\\local\\pip\\cache\\wheels\\a9\\3a\\67\\06a8950e053725912e6a8c42c4a3a241410f6487b8402542ea\n",
      "  Building wheel for pynndescent (setup.py): started\n",
      "  Building wheel for pynndescent (setup.py): finished with status 'done'\n",
      "  Created wheel for pynndescent: filename=pynndescent-0.5.7-py3-none-any.whl size=54286 sha256=64f9de472c593aafb980952f485e67ed3197cafbb487cda817322eac049f4aa5\n",
      "  Stored in directory: c:\\users\\avitr\\appdata\\local\\pip\\cache\\wheels\\1b\\38\\fe\\99e22fbae88abd1c5e8d99253cba6d1c590cc7a94408bff3bf\n",
      "Successfully built sentence-transformers umap-learn pynndescent\n",
      "Failed to build hdbscan\n"
     ]
    },
    {
     "name": "stderr",
     "output_type": "stream",
     "text": [
      "WARNING: Ignoring invalid distribution -rpcio (c:\\users\\avitr\\anaconda3\\lib\\site-packages)\n",
      "WARNING: Ignoring invalid distribution -rpcio (c:\\users\\avitr\\anaconda3\\lib\\site-packages)\n",
      "  error: subprocess-exited-with-error\n",
      "  \n",
      "  Building wheel for hdbscan (pyproject.toml) did not run successfully.\n",
      "  exit code: 1\n",
      "  \n",
      "  [40 lines of output]\n",
      "  running bdist_wheel\n",
      "  running build\n",
      "  running build_py\n",
      "  creating build\n",
      "  creating build\\lib.win-amd64-cpython-38\n",
      "  creating build\\lib.win-amd64-cpython-38\\hdbscan\n",
      "  copying hdbscan\\flat.py -> build\\lib.win-amd64-cpython-38\\hdbscan\n",
      "  copying hdbscan\\hdbscan_.py -> build\\lib.win-amd64-cpython-38\\hdbscan\n",
      "  copying hdbscan\\plots.py -> build\\lib.win-amd64-cpython-38\\hdbscan\n",
      "  copying hdbscan\\prediction.py -> build\\lib.win-amd64-cpython-38\\hdbscan\n",
      "  copying hdbscan\\robust_single_linkage_.py -> build\\lib.win-amd64-cpython-38\\hdbscan\n",
      "  copying hdbscan\\validity.py -> build\\lib.win-amd64-cpython-38\\hdbscan\n",
      "  copying hdbscan\\__init__.py -> build\\lib.win-amd64-cpython-38\\hdbscan\n",
      "  creating build\\lib.win-amd64-cpython-38\\hdbscan\\tests\n",
      "  copying hdbscan\\tests\\test_flat.py -> build\\lib.win-amd64-cpython-38\\hdbscan\\tests\n",
      "  copying hdbscan\\tests\\test_hdbscan.py -> build\\lib.win-amd64-cpython-38\\hdbscan\\tests\n",
      "  copying hdbscan\\tests\\test_prediction_utils.py -> build\\lib.win-amd64-cpython-38\\hdbscan\\tests\n",
      "  copying hdbscan\\tests\\test_rsl.py -> build\\lib.win-amd64-cpython-38\\hdbscan\\tests\n",
      "  copying hdbscan\\tests\\__init__.py -> build\\lib.win-amd64-cpython-38\\hdbscan\\tests\n",
      "  running build_ext\n",
      "  cythoning hdbscan/_hdbscan_tree.pyx to hdbscan\\_hdbscan_tree.c\n",
      "  cythoning hdbscan/_hdbscan_linkage.pyx to hdbscan\\_hdbscan_linkage.c\n",
      "  cythoning hdbscan/_hdbscan_boruvka.pyx to hdbscan\\_hdbscan_boruvka.c\n",
      "  cythoning hdbscan/_hdbscan_reachability.pyx to hdbscan\\_hdbscan_reachability.c\n",
      "  cythoning hdbscan/_prediction_utils.pyx to hdbscan\\_prediction_utils.c\n",
      "  cythoning hdbscan/dist_metrics.pyx to hdbscan\\dist_metrics.c\n",
      "  building 'hdbscan._hdbscan_tree' extension\n",
      "  C:\\Users\\avitr\\AppData\\Local\\Temp\\pip-build-env-hea5ssiv\\overlay\\Lib\\site-packages\\Cython\\Compiler\\Main.py:369: FutureWarning: Cython directive 'language_level' not set, using 2 for now (Py2). This will change in a later release! File: C:\\Users\\avitr\\AppData\\Local\\Temp\\pip-install-ubwvkfa9\\hdbscan_f5f8b3e037e6421981651b9702a40d0a\\hdbscan\\_hdbscan_tree.pyx\n",
      "    tree = Parsing.p_module(s, pxd, full_module_name)\n",
      "  C:\\Users\\avitr\\AppData\\Local\\Temp\\pip-build-env-hea5ssiv\\overlay\\Lib\\site-packages\\Cython\\Compiler\\Main.py:369: FutureWarning: Cython directive 'language_level' not set, using 2 for now (Py2). This will change in a later release! File: C:\\Users\\avitr\\AppData\\Local\\Temp\\pip-install-ubwvkfa9\\hdbscan_f5f8b3e037e6421981651b9702a40d0a\\hdbscan\\_hdbscan_linkage.pyx\n",
      "    tree = Parsing.p_module(s, pxd, full_module_name)\n",
      "  C:\\Users\\avitr\\AppData\\Local\\Temp\\pip-build-env-hea5ssiv\\overlay\\Lib\\site-packages\\Cython\\Compiler\\Main.py:369: FutureWarning: Cython directive 'language_level' not set, using 2 for now (Py2). This will change in a later release! File: C:\\Users\\avitr\\AppData\\Local\\Temp\\pip-install-ubwvkfa9\\hdbscan_f5f8b3e037e6421981651b9702a40d0a\\hdbscan\\_hdbscan_boruvka.pyx\n",
      "    tree = Parsing.p_module(s, pxd, full_module_name)\n",
      "  C:\\Users\\avitr\\AppData\\Local\\Temp\\pip-build-env-hea5ssiv\\overlay\\Lib\\site-packages\\Cython\\Compiler\\Main.py:369: FutureWarning: Cython directive 'language_level' not set, using 2 for now (Py2). This will change in a later release! File: C:\\Users\\avitr\\AppData\\Local\\Temp\\pip-install-ubwvkfa9\\hdbscan_f5f8b3e037e6421981651b9702a40d0a\\hdbscan\\_hdbscan_reachability.pyx\n",
      "    tree = Parsing.p_module(s, pxd, full_module_name)\n",
      "  C:\\Users\\avitr\\AppData\\Local\\Temp\\pip-build-env-hea5ssiv\\overlay\\Lib\\site-packages\\Cython\\Compiler\\Main.py:369: FutureWarning: Cython directive 'language_level' not set, using 2 for now (Py2). This will change in a later release! File: C:\\Users\\avitr\\AppData\\Local\\Temp\\pip-install-ubwvkfa9\\hdbscan_f5f8b3e037e6421981651b9702a40d0a\\hdbscan\\_prediction_utils.pyx\n",
      "    tree = Parsing.p_module(s, pxd, full_module_name)\n",
      "  C:\\Users\\avitr\\AppData\\Local\\Temp\\pip-build-env-hea5ssiv\\overlay\\Lib\\site-packages\\Cython\\Compiler\\Main.py:369: FutureWarning: Cython directive 'language_level' not set, using 2 for now (Py2). This will change in a later release! File: C:\\Users\\avitr\\AppData\\Local\\Temp\\pip-install-ubwvkfa9\\hdbscan_f5f8b3e037e6421981651b9702a40d0a\\hdbscan\\dist_metrics.pxd\n",
      "    tree = Parsing.p_module(s, pxd, full_module_name)\n",
      "  error: Microsoft Visual C++ 14.0 or greater is required. Get it with \"Microsoft C++ Build Tools\": https://visualstudio.microsoft.com/visual-cpp-build-tools/\n",
      "  [end of output]\n",
      "  \n",
      "  note: This error originates from a subprocess, and is likely not a problem with pip.\n",
      "  ERROR: Failed building wheel for hdbscan\n",
      "ERROR: Could not build wheels for hdbscan, which is required to install pyproject.toml-based projects\n",
      "WARNING: Ignoring invalid distribution -rpcio (c:\\users\\avitr\\anaconda3\\lib\\site-packages)\n",
      "WARNING: Ignoring invalid distribution -rpcio (c:\\users\\avitr\\anaconda3\\lib\\site-packages)\n",
      "WARNING: Ignoring invalid distribution -rpcio (c:\\users\\avitr\\anaconda3\\lib\\site-packages)\n"
     ]
    }
   ],
   "source": [
    "# pip install bertopic[flair]"
   ]
  },
  {
   "cell_type": "code",
   "execution_count": 5,
   "id": "2741e1b3",
   "metadata": {},
   "outputs": [
    {
     "ename": "ModuleNotFoundError",
     "evalue": "No module named 'flair'",
     "output_type": "error",
     "traceback": [
      "\u001b[1;31m---------------------------------------------------------------------------\u001b[0m",
      "\u001b[1;31mModuleNotFoundError\u001b[0m                       Traceback (most recent call last)",
      "Input \u001b[1;32mIn [5]\u001b[0m, in \u001b[0;36m<cell line: 4>\u001b[1;34m()\u001b[0m\n\u001b[0;32m      2\u001b[0m \u001b[38;5;28;01mfrom\u001b[39;00m \u001b[38;5;21;01mpolyfuzz\u001b[39;00m\u001b[38;5;21;01m.\u001b[39;00m\u001b[38;5;21;01mmodels\u001b[39;00m \u001b[38;5;28;01mimport\u001b[39;00m RapidFuzz, EditDistance, TFIDF, Embeddings\n\u001b[0;32m      3\u001b[0m \u001b[38;5;28;01mfrom\u001b[39;00m \u001b[38;5;21;01mjellyfish\u001b[39;00m \u001b[38;5;28;01mimport\u001b[39;00m jaro_winkler_similarity\n\u001b[1;32m----> 4\u001b[0m \u001b[38;5;28;01mfrom\u001b[39;00m \u001b[38;5;21;01mflair\u001b[39;00m\u001b[38;5;21;01m.\u001b[39;00m\u001b[38;5;21;01membeddings\u001b[39;00m \u001b[38;5;28;01mimport\u001b[39;00m TransformerWordEmbeddings, WordEmbeddings\n",
      "\u001b[1;31mModuleNotFoundError\u001b[0m: No module named 'flair'"
     ]
    }
   ],
   "source": [
    "from polyfuzz import PolyFuzz\n",
    "from polyfuzz.models import RapidFuzz, EditDistance, TFIDF, Embeddings\n",
    "from jellyfish import jaro_winkler_similarity\n",
    "from flair.embeddings import TransformerWordEmbeddings, WordEmbeddings"
   ]
  },
  {
   "cell_type": "code",
   "execution_count": null,
   "id": "26dbc380",
   "metadata": {},
   "outputs": [],
   "source": [
    "Netflix = pd.read_csv('netflix_titles.csv')"
   ]
  },
  {
   "cell_type": "code",
   "execution_count": null,
   "id": "845c61c6",
   "metadata": {},
   "outputs": [],
   "source": [
    "Netflix.head()"
   ]
  },
  {
   "cell_type": "code",
   "execution_count": null,
   "id": "ee0ab670",
   "metadata": {},
   "outputs": [],
   "source": [
    "IMBD = pd.read_csv('NetflixOriginals.csv', encoding_errors= 'replace')"
   ]
  },
  {
   "cell_type": "code",
   "execution_count": null,
   "id": "72567902",
   "metadata": {},
   "outputs": [],
   "source": [
    "IMBD.head()"
   ]
  },
  {
   "cell_type": "code",
   "execution_count": null,
   "id": "a5f4aff0",
   "metadata": {},
   "outputs": [],
   "source": [
    "#EditDistance"
   ]
  },
  {
   "cell_type": "code",
   "execution_count": null,
   "id": "fda84a06",
   "metadata": {},
   "outputs": [],
   "source": [
    "model = PolyFuzz(\"EditDistance\")\n",
    "model.match(Netflix['title'], IMBD['Title'])"
   ]
  },
  {
   "cell_type": "code",
   "execution_count": null,
   "id": "ddf389b5",
   "metadata": {},
   "outputs": [],
   "source": [
    "model.get_matches()"
   ]
  },
  {
   "cell_type": "code",
   "execution_count": null,
   "id": "8a891b72",
   "metadata": {},
   "outputs": [],
   "source": [
    "jellyfish_matcher = EditDistance(scorer=jaro_winkler_similarity)\n",
    "model = PolyFuzz(jellyfish_matcher)"
   ]
  },
  {
   "cell_type": "code",
   "execution_count": null,
   "id": "ab8069ea",
   "metadata": {},
   "outputs": [],
   "source": [
    "model.match(Netflix['title'], IMBD['Title'])"
   ]
  },
  {
   "cell_type": "code",
   "execution_count": null,
   "id": "9cffac2c",
   "metadata": {},
   "outputs": [],
   "source": [
    "model.get_matches()"
   ]
  },
  {
   "cell_type": "code",
   "execution_count": null,
   "id": "6e1fb382",
   "metadata": {},
   "outputs": [],
   "source": [
    "#RapidFuzz"
   ]
  },
  {
   "cell_type": "code",
   "execution_count": null,
   "id": "cf4ebc8e",
   "metadata": {},
   "outputs": [],
   "source": [
    "matcher = RapidFuzz(n_jobs=1, score_cutoff=0.8)\n",
    "model = PolyFuzz(matcher)\n",
    "model.match(Netflix['title'], IMBD['Title'])"
   ]
  },
  {
   "cell_type": "code",
   "execution_count": null,
   "id": "9e63e6f4",
   "metadata": {},
   "outputs": [],
   "source": [
    "model.get_matches()"
   ]
  },
  {
   "cell_type": "code",
   "execution_count": null,
   "id": "86b55dae",
   "metadata": {},
   "outputs": [],
   "source": [
    "#embeddings"
   ]
  },
  {
   "cell_type": "code",
   "execution_count": null,
   "id": "207e8cb4",
   "metadata": {},
   "outputs": [],
   "source": [
    "embeddings = TransformerWordEmbeddings('bert-base-multilingual-cased')\n",
    "bert = Embeddings(embeddings, min_similarity=0, model_id=\"BERT\")"
   ]
  },
  {
   "cell_type": "code",
   "execution_count": null,
   "id": "edf84f11",
   "metadata": {},
   "outputs": [],
   "source": [
    "models = PolyFuzz(bert)\n",
    "model.match(Netflix['title'], IMBD['Title'])"
   ]
  },
  {
   "cell_type": "code",
   "execution_count": null,
   "id": "6e1a67be",
   "metadata": {},
   "outputs": [],
   "source": [
    "model.get_matches()"
   ]
  },
  {
   "cell_type": "code",
   "execution_count": null,
   "id": "efc39bc1",
   "metadata": {},
   "outputs": [],
   "source": [
    "#multimodels"
   ]
  },
  {
   "cell_type": "code",
   "execution_count": null,
   "id": "bb719a4c",
   "metadata": {},
   "outputs": [],
   "source": [
    "fasttext_embeddings = WordEmbeddings('en-crawl')\n",
    "fasttext = Embeddings(fasttext_embeddings, min_similarity=0, model_id=\"FastText\")\n",
    "tfidf = TFIDF(min_similarity=0, model_id=\"TF-IDF\")\n",
    "rapidfuzz = RapidFuzz(n_jobs=-1, score_cutoff=0, model_id=\"RapidFuzz\")\n",
    "\n",
    "matchers = [tfidf, fasttext, rapidfuzz]\n",
    "\n",
    "model = PolyFuzz(matchers)\n"
   ]
  },
  {
   "cell_type": "code",
   "execution_count": null,
   "id": "d53ead3c",
   "metadata": {},
   "outputs": [],
   "source": [
    "model.match(Netflix['title'], IMBD['Title'])"
   ]
  },
  {
   "cell_type": "code",
   "execution_count": null,
   "id": "97e86ad5",
   "metadata": {},
   "outputs": [],
   "source": []
  },
  {
   "cell_type": "code",
   "execution_count": null,
   "id": "7793dd0f",
   "metadata": {},
   "outputs": [],
   "source": []
  }
 ],
 "metadata": {
  "kernelspec": {
   "display_name": "Python 3 (ipykernel)",
   "language": "python",
   "name": "python3"
  },
  "language_info": {
   "codemirror_mode": {
    "name": "ipython",
    "version": 3
   },
   "file_extension": ".py",
   "mimetype": "text/x-python",
   "name": "python",
   "nbconvert_exporter": "python",
   "pygments_lexer": "ipython3",
   "version": "3.8.5"
  }
 },
 "nbformat": 4,
 "nbformat_minor": 5
}
