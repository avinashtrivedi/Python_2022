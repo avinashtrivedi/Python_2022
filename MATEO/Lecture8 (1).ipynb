{
 "cells": [
  {
   "cell_type": "markdown",
   "metadata": {},
   "source": [
    "# DSCI 614 Text Mining\n",
    "## Topic Model\n",
    "\n"
   ]
  },
  {
   "cell_type": "markdown",
   "metadata": {},
   "source": [
    "**Objectives**\n",
    "\n",
    "\n",
    "After you complete this module, students will be able to:\n",
    "\n",
    "+ Clean and preprocess the texts.\n",
    "+ Perform Latent Dirichlet Allocation (LDA) algorithm based on CountVectorizer.\n",
    "+ Perform Latent Dirichlet Allocation (LDA) algorithm based on TfidfVectorizer.\n",
    "+ Find the top words for each topic and visualize them.\n",
    "+ Visualize the topic Model using pyLDAvis.\n",
    "\n",
    "\n",
    "We covered the text classification that is supervised learning in the previous week. We will cover the topic model this week. It is an **unsupervised machine learning method without a label for text data**. First, we will load and clean the texts. Secondly,  I will show you how to build LDA models using sklearn. Second, we will visualie the top words for each topic. Finally, we will cover how to plot the topic models using dimensiona reduction techinques such as PCA and t-SNE.\n",
    "\n",
    "Withou a label, it is very hard for us to check the models.\n",
    "\n",
    "\n",
    "**Readings**\n",
    "\n",
    "+ Latent Dirichlet allocation (https://en.wikipedia.org/wiki/Latent_Dirichlet_allocation)\n",
    "+ Latent Dirichlet Allocation with online variational Bayes algorithm (https://scikit-learn.org/stable/modules/generated/sklearn.decomposition.LatentDirichletAllocation.html)\n",
    "+ PyLDAvis: Python library for interactive topic model visualization (https://github.com/bmabey/pyLDAvis)\n",
    "\n",
    "\n",
    "\n",
    "\n",
    "\n"
   ]
  },
  {
   "cell_type": "markdown",
   "metadata": {},
   "source": [
    "\n",
    "\n",
    "# The Twitter US Airline \n",
    "\n",
    "You have given a Twitter US Airline sentiment dataset containing in Tweets.csv (https://www.kaggle.com/crowdflower/twitter-airline-sentiment/), which is a comma-separated file. It has the following columns:\n",
    "\n",
    "+ tweet_id\n",
    "+ airline_sentiment\n",
    "+ airline_sentiment_confidence\n",
    "+ negativereason\n",
    "+ negativereason_confidence\n",
    "+ airline\n",
    "+ airline_sentiment_gold\n",
    "+ name\n",
    "+ negativereason_gold\n",
    "+ retweet_count\n",
    "+ text\n",
    "+ tweet_coord\n",
    "+ tweet_created\n",
    "+ tweet_location\n",
    "+ user_timezone\n",
    "\n",
    "This project aims to **build topic models on the text data without the label**.\n",
    " \n",
    " \n",
    "Let's load the dataset into memory using the pandas library. \n"
   ]
  },
  {
   "cell_type": "markdown",
   "metadata": {},
   "source": [
    "## Clean and Preprocess the Data"
   ]
  },
  {
   "cell_type": "code",
   "execution_count": 1,
   "metadata": {},
   "outputs": [
    {
     "data": {
      "text/html": [
       "<div>\n",
       "<style scoped>\n",
       "    .dataframe tbody tr th:only-of-type {\n",
       "        vertical-align: middle;\n",
       "    }\n",
       "\n",
       "    .dataframe tbody tr th {\n",
       "        vertical-align: top;\n",
       "    }\n",
       "\n",
       "    .dataframe thead th {\n",
       "        text-align: right;\n",
       "    }\n",
       "</style>\n",
       "<table border=\"1\" class=\"dataframe\">\n",
       "  <thead>\n",
       "    <tr style=\"text-align: right;\">\n",
       "      <th></th>\n",
       "      <th>tweet_id</th>\n",
       "      <th>airline_sentiment</th>\n",
       "      <th>airline_sentiment_confidence</th>\n",
       "      <th>negativereason</th>\n",
       "      <th>negativereason_confidence</th>\n",
       "      <th>airline</th>\n",
       "      <th>airline_sentiment_gold</th>\n",
       "      <th>name</th>\n",
       "      <th>negativereason_gold</th>\n",
       "      <th>retweet_count</th>\n",
       "      <th>text</th>\n",
       "      <th>tweet_coord</th>\n",
       "      <th>tweet_created</th>\n",
       "      <th>tweet_location</th>\n",
       "      <th>user_timezone</th>\n",
       "    </tr>\n",
       "  </thead>\n",
       "  <tbody>\n",
       "    <tr>\n",
       "      <th>0</th>\n",
       "      <td>570306133677760513</td>\n",
       "      <td>neutral</td>\n",
       "      <td>1.0000</td>\n",
       "      <td>NaN</td>\n",
       "      <td>NaN</td>\n",
       "      <td>Virgin America</td>\n",
       "      <td>NaN</td>\n",
       "      <td>cairdin</td>\n",
       "      <td>NaN</td>\n",
       "      <td>0</td>\n",
       "      <td>@VirginAmerica What @dhepburn said.</td>\n",
       "      <td>NaN</td>\n",
       "      <td>2015-02-24 11:35:52 -0800</td>\n",
       "      <td>NaN</td>\n",
       "      <td>Eastern Time (US &amp; Canada)</td>\n",
       "    </tr>\n",
       "    <tr>\n",
       "      <th>1</th>\n",
       "      <td>570301130888122368</td>\n",
       "      <td>positive</td>\n",
       "      <td>0.3486</td>\n",
       "      <td>NaN</td>\n",
       "      <td>0.0000</td>\n",
       "      <td>Virgin America</td>\n",
       "      <td>NaN</td>\n",
       "      <td>jnardino</td>\n",
       "      <td>NaN</td>\n",
       "      <td>0</td>\n",
       "      <td>@VirginAmerica plus you've added commercials t...</td>\n",
       "      <td>NaN</td>\n",
       "      <td>2015-02-24 11:15:59 -0800</td>\n",
       "      <td>NaN</td>\n",
       "      <td>Pacific Time (US &amp; Canada)</td>\n",
       "    </tr>\n",
       "    <tr>\n",
       "      <th>2</th>\n",
       "      <td>570301083672813571</td>\n",
       "      <td>neutral</td>\n",
       "      <td>0.6837</td>\n",
       "      <td>NaN</td>\n",
       "      <td>NaN</td>\n",
       "      <td>Virgin America</td>\n",
       "      <td>NaN</td>\n",
       "      <td>yvonnalynn</td>\n",
       "      <td>NaN</td>\n",
       "      <td>0</td>\n",
       "      <td>@VirginAmerica I didn't today... Must mean I n...</td>\n",
       "      <td>NaN</td>\n",
       "      <td>2015-02-24 11:15:48 -0800</td>\n",
       "      <td>Lets Play</td>\n",
       "      <td>Central Time (US &amp; Canada)</td>\n",
       "    </tr>\n",
       "    <tr>\n",
       "      <th>3</th>\n",
       "      <td>570301031407624196</td>\n",
       "      <td>negative</td>\n",
       "      <td>1.0000</td>\n",
       "      <td>Bad Flight</td>\n",
       "      <td>0.7033</td>\n",
       "      <td>Virgin America</td>\n",
       "      <td>NaN</td>\n",
       "      <td>jnardino</td>\n",
       "      <td>NaN</td>\n",
       "      <td>0</td>\n",
       "      <td>@VirginAmerica it's really aggressive to blast...</td>\n",
       "      <td>NaN</td>\n",
       "      <td>2015-02-24 11:15:36 -0800</td>\n",
       "      <td>NaN</td>\n",
       "      <td>Pacific Time (US &amp; Canada)</td>\n",
       "    </tr>\n",
       "    <tr>\n",
       "      <th>4</th>\n",
       "      <td>570300817074462722</td>\n",
       "      <td>negative</td>\n",
       "      <td>1.0000</td>\n",
       "      <td>Can't Tell</td>\n",
       "      <td>1.0000</td>\n",
       "      <td>Virgin America</td>\n",
       "      <td>NaN</td>\n",
       "      <td>jnardino</td>\n",
       "      <td>NaN</td>\n",
       "      <td>0</td>\n",
       "      <td>@VirginAmerica and it's a really big bad thing...</td>\n",
       "      <td>NaN</td>\n",
       "      <td>2015-02-24 11:14:45 -0800</td>\n",
       "      <td>NaN</td>\n",
       "      <td>Pacific Time (US &amp; Canada)</td>\n",
       "    </tr>\n",
       "  </tbody>\n",
       "</table>\n",
       "</div>"
      ],
      "text/plain": [
       "             tweet_id airline_sentiment  airline_sentiment_confidence  \\\n",
       "0  570306133677760513           neutral                        1.0000   \n",
       "1  570301130888122368          positive                        0.3486   \n",
       "2  570301083672813571           neutral                        0.6837   \n",
       "3  570301031407624196          negative                        1.0000   \n",
       "4  570300817074462722          negative                        1.0000   \n",
       "\n",
       "  negativereason  negativereason_confidence         airline  \\\n",
       "0            NaN                        NaN  Virgin America   \n",
       "1            NaN                     0.0000  Virgin America   \n",
       "2            NaN                        NaN  Virgin America   \n",
       "3     Bad Flight                     0.7033  Virgin America   \n",
       "4     Can't Tell                     1.0000  Virgin America   \n",
       "\n",
       "  airline_sentiment_gold        name negativereason_gold  retweet_count  \\\n",
       "0                    NaN     cairdin                 NaN              0   \n",
       "1                    NaN    jnardino                 NaN              0   \n",
       "2                    NaN  yvonnalynn                 NaN              0   \n",
       "3                    NaN    jnardino                 NaN              0   \n",
       "4                    NaN    jnardino                 NaN              0   \n",
       "\n",
       "                                                text tweet_coord  \\\n",
       "0                @VirginAmerica What @dhepburn said.         NaN   \n",
       "1  @VirginAmerica plus you've added commercials t...         NaN   \n",
       "2  @VirginAmerica I didn't today... Must mean I n...         NaN   \n",
       "3  @VirginAmerica it's really aggressive to blast...         NaN   \n",
       "4  @VirginAmerica and it's a really big bad thing...         NaN   \n",
       "\n",
       "               tweet_created tweet_location               user_timezone  \n",
       "0  2015-02-24 11:35:52 -0800            NaN  Eastern Time (US & Canada)  \n",
       "1  2015-02-24 11:15:59 -0800            NaN  Pacific Time (US & Canada)  \n",
       "2  2015-02-24 11:15:48 -0800      Lets Play  Central Time (US & Canada)  \n",
       "3  2015-02-24 11:15:36 -0800            NaN  Pacific Time (US & Canada)  \n",
       "4  2015-02-24 11:14:45 -0800            NaN  Pacific Time (US & Canada)  "
      ]
     },
     "execution_count": 1,
     "metadata": {},
     "output_type": "execute_result"
    }
   ],
   "source": [
    "\n",
    "import pandas as pd\n",
    "import warnings\n",
    "warnings.filterwarnings(\"ignore\")\n",
    "\n",
    "twitter_airline=pd.read_csv('Tweets.csv')\n",
    "twitter_airline.head(5)"
   ]
  },
  {
   "cell_type": "markdown",
   "metadata": {},
   "source": [
    "Let's select all the text features (without the label) from the dataset."
   ]
  },
  {
   "cell_type": "code",
   "execution_count": 2,
   "metadata": {},
   "outputs": [],
   "source": [
    "#twitter_airline = twitter_airline[[\"airline\", \"airline_sentiment\", \"negativereason\", \"airline_sentiment_gold\", \"negativereason_gold\", \"text\" ]]\n",
    "twitter_airline = twitter_airline[[\"airline\", \"negativereason\", \"airline_sentiment_gold\", \"negativereason_gold\", \"text\" ]]"
   ]
  },
  {
   "cell_type": "markdown",
   "metadata": {},
   "source": [
    "Let's check the missing values in this dataset."
   ]
  },
  {
   "cell_type": "code",
   "execution_count": 3,
   "metadata": {},
   "outputs": [
    {
     "name": "stdout",
     "output_type": "stream",
     "text": [
      "<class 'pandas.core.frame.DataFrame'>\n",
      "RangeIndex: 14640 entries, 0 to 14639\n",
      "Data columns (total 5 columns):\n",
      " #   Column                  Non-Null Count  Dtype \n",
      "---  ------                  --------------  ----- \n",
      " 0   airline                 14640 non-null  object\n",
      " 1   negativereason          9178 non-null   object\n",
      " 2   airline_sentiment_gold  40 non-null     object\n",
      " 3   negativereason_gold     32 non-null     object\n",
      " 4   text                    14640 non-null  object\n",
      "dtypes: object(5)\n",
      "memory usage: 572.0+ KB\n"
     ]
    }
   ],
   "source": [
    "twitter_airline.info()"
   ]
  },
  {
   "cell_type": "code",
   "execution_count": 4,
   "metadata": {},
   "outputs": [
    {
     "data": {
      "text/plain": [
       "airline                    0.000000\n",
       "negativereason            37.308743\n",
       "airline_sentiment_gold    99.726776\n",
       "negativereason_gold       99.781421\n",
       "text                       0.000000\n",
       "dtype: float64"
      ]
     },
     "execution_count": 4,
     "metadata": {},
     "output_type": "execute_result"
    }
   ],
   "source": [
    "percent_missing = twitter_airline.isnull().sum() * 100 / len(twitter_airline)\n",
    "percent_missing"
   ]
  },
  {
   "cell_type": "markdown",
   "metadata": {},
   "source": [
    "Let's concatenate all the texts into the feature of text_review."
   ]
  },
  {
   "cell_type": "code",
   "execution_count": 5,
   "metadata": {},
   "outputs": [],
   "source": [
    "text_cols = [\"negativereason\", \"airline_sentiment_gold\", \"negativereason_gold\", \"text\" ]\n",
    "twitter_airline['text_review'] = twitter_airline[text_cols].apply(lambda row: ' '.join(row.values.astype(str)), axis=1)"
   ]
  },
  {
   "cell_type": "markdown",
   "metadata": {},
   "source": [
    "We select the columns to perform our analysis."
   ]
  },
  {
   "cell_type": "code",
   "execution_count": 6,
   "metadata": {},
   "outputs": [],
   "source": [
    "twitter_airline = twitter_airline[['airline', 'text_review']]"
   ]
  },
  {
   "cell_type": "markdown",
   "metadata": {},
   "source": [
    "Next, we want to clean the text_review column using regular expression and Spacy library. \n",
    "We first remove nan, @airline, punctuation, URL, or any non-alphanumeric characters and separate word using a single space. Then we remove stop words and obtain the lemma of the tokens/words. "
   ]
  },
  {
   "cell_type": "code",
   "execution_count": 7,
   "metadata": {},
   "outputs": [],
   "source": [
    "import re\n",
    "import string\n",
    "import spacy\n",
    "\n",
    "\n",
    "# Load the small model\n",
    "nlp = spacy.load(\"en_core_web_sm\")\n",
    "\n",
    "stop_words = spacy.lang.en.stop_words.STOP_WORDS\n",
    "\n",
    "# Creating our tokenzer function from a given sentence/review\n",
    "def clean_text(sentence):\n",
    "    # Remove nan, @airline, punctuation, URL, or any non alpanumeric characters and seperate word using a single space.\n",
    "    sentence = ' '.join(re.sub(\"(nan)|(@[A-Za-z0-9]+)|([^0-9A-Za-z \\t])|(\\w+:\\/\\/\\S+)\",\" \", sentence).split())\n",
    "    # Removing stop words and obtain the lemma\n",
    "    text = [ word.lemma_ for word in nlp(sentence) if word not in stop_words]\n",
    "    return ' '.join(text).strip().lower()\n",
    "\n",
    "# Apply clean_text function to the column.\n",
    "twitter_airline['text_review_cleaned'] = twitter_airline['text_review'].apply(clean_text)"
   ]
  },
  {
   "cell_type": "markdown",
   "metadata": {},
   "source": [
    "Let's look at the cleaned dataset."
   ]
  },
  {
   "cell_type": "code",
   "execution_count": 8,
   "metadata": {},
   "outputs": [
    {
     "name": "stdout",
     "output_type": "stream",
     "text": [
      "<class 'pandas.core.frame.DataFrame'>\n",
      "RangeIndex: 14640 entries, 0 to 14639\n",
      "Data columns (total 3 columns):\n",
      " #   Column               Non-Null Count  Dtype \n",
      "---  ------               --------------  ----- \n",
      " 0   airline              14640 non-null  object\n",
      " 1   text_review          14640 non-null  object\n",
      " 2   text_review_cleaned  14640 non-null  object\n",
      "dtypes: object(3)\n",
      "memory usage: 343.2+ KB\n"
     ]
    }
   ],
   "source": [
    "twitter_airline.info()"
   ]
  },
  {
   "cell_type": "code",
   "execution_count": 9,
   "metadata": {},
   "outputs": [
    {
     "data": {
      "text/plain": [
       "airline                0.0\n",
       "text_review            0.0\n",
       "text_review_cleaned    0.0\n",
       "dtype: float64"
      ]
     },
     "execution_count": 9,
     "metadata": {},
     "output_type": "execute_result"
    }
   ],
   "source": [
    "percent_missing = twitter_airline.isnull().sum() * 100 / len(twitter_airline)\n",
    "percent_missing"
   ]
  },
  {
   "cell_type": "code",
   "execution_count": 10,
   "metadata": {},
   "outputs": [
    {
     "data": {
      "text/html": [
       "<div>\n",
       "<style scoped>\n",
       "    .dataframe tbody tr th:only-of-type {\n",
       "        vertical-align: middle;\n",
       "    }\n",
       "\n",
       "    .dataframe tbody tr th {\n",
       "        vertical-align: top;\n",
       "    }\n",
       "\n",
       "    .dataframe thead th {\n",
       "        text-align: right;\n",
       "    }\n",
       "</style>\n",
       "<table border=\"1\" class=\"dataframe\">\n",
       "  <thead>\n",
       "    <tr style=\"text-align: right;\">\n",
       "      <th></th>\n",
       "      <th>airline</th>\n",
       "      <th>text_review</th>\n",
       "      <th>text_review_cleaned</th>\n",
       "    </tr>\n",
       "  </thead>\n",
       "  <tbody>\n",
       "    <tr>\n",
       "      <th>0</th>\n",
       "      <td>Virgin America</td>\n",
       "      <td>nan nan nan @VirginAmerica What @dhepburn said.</td>\n",
       "      <td>what say</td>\n",
       "    </tr>\n",
       "    <tr>\n",
       "      <th>1</th>\n",
       "      <td>Virgin America</td>\n",
       "      <td>nan nan nan @VirginAmerica plus you've added c...</td>\n",
       "      <td>plus you ve add commercial to the experience t...</td>\n",
       "    </tr>\n",
       "    <tr>\n",
       "      <th>2</th>\n",
       "      <td>Virgin America</td>\n",
       "      <td>nan nan nan @VirginAmerica I didn't today... M...</td>\n",
       "      <td>i didn t today must mean i need to take anothe...</td>\n",
       "    </tr>\n",
       "    <tr>\n",
       "      <th>3</th>\n",
       "      <td>Virgin America</td>\n",
       "      <td>Bad Flight nan nan @VirginAmerica it's really ...</td>\n",
       "      <td>bad flight it s really aggressive to blast obn...</td>\n",
       "    </tr>\n",
       "    <tr>\n",
       "      <th>4</th>\n",
       "      <td>Virgin America</td>\n",
       "      <td>Can't Tell nan nan @VirginAmerica and it's a r...</td>\n",
       "      <td>can t tell and it s a really big bad thing abo...</td>\n",
       "    </tr>\n",
       "  </tbody>\n",
       "</table>\n",
       "</div>"
      ],
      "text/plain": [
       "          airline                                        text_review  \\\n",
       "0  Virgin America    nan nan nan @VirginAmerica What @dhepburn said.   \n",
       "1  Virgin America  nan nan nan @VirginAmerica plus you've added c...   \n",
       "2  Virgin America  nan nan nan @VirginAmerica I didn't today... M...   \n",
       "3  Virgin America  Bad Flight nan nan @VirginAmerica it's really ...   \n",
       "4  Virgin America  Can't Tell nan nan @VirginAmerica and it's a r...   \n",
       "\n",
       "                                 text_review_cleaned  \n",
       "0                                           what say  \n",
       "1  plus you ve add commercial to the experience t...  \n",
       "2  i didn t today must mean i need to take anothe...  \n",
       "3  bad flight it s really aggressive to blast obn...  \n",
       "4  can t tell and it s a really big bad thing abo...  "
      ]
     },
     "execution_count": 10,
     "metadata": {},
     "output_type": "execute_result"
    }
   ],
   "source": [
    "twitter_airline.head(5)"
   ]
  },
  {
   "cell_type": "markdown",
   "metadata": {},
   "source": [
    "## Latent Dirichlet Allocation (LDA) Algorithm based on CountVectorizer\n",
    "\n",
    "The Latent Dirichlet Allocation (LDA) is a generative probabilistic model for a collection of text documents such as a corpus. It is used the Bayesian approach and EM algorithm to estate the parameters. Please read the paper: Latent Dirichlet Allocation (https://www.jmlr.org/papers/volume3/blei03a/blei03a.pdf) for detailed information.\n",
    "\n",
    "Let's develop our first Latent Dirichlet Allocation (LDA) Algorithm based on CountVectorizer. To perform LDA, we first need to construct a document word matrix using either CountVectorizer or TfidfVectorizer.\n",
    "\n",
    "When we create a document word matrix, there are many hyper parameters to set. Please see the help document (https://scikit-learn.org/stable/modules/generated/sklearn.feature_extraction.text.CountVectorizer.html) for detailed information. For illustration purposes, we set the following hyperparameters:\n",
    "\n",
    "+ **max_df**: When building the vocabulary ignore terms that have a document frequency strictly higher than the given threshold (corpus-specific stop words). If float, the parameter represents a proportion of documents, integer absolute counts. This parameter is ignored if vocabulary is not None.\n",
    "+ **min_df**: When building the vocabulary ignore terms that have a document frequency strictly lower than the given threshold. This value is also called cut-off in the literature. If float, the parameter represents a proportion of documents, integer absolute counts. This parameter is ignored if vocabulary is not None.\n",
    "+ **stop_words** : {‘english’}, list, default=None\n",
    "If ‘english’, a built-in stop word list for English is used. There are several known issues with ‘english’ and you should consider an alternative (see Using stop words). If a list, that list is assumed to contain stop words, all of which will be removed from the resulting tokens. Only applies if analyzer == 'word'. If None, no stop words will be used. max_df can be set to a value in the range [0.7, 1.0) to automatically detect and filter stop words based on intra corpus document frequency of terms."
   ]
  },
  {
   "cell_type": "code",
   "execution_count": 11,
   "metadata": {},
   "outputs": [],
   "source": [
    "from sklearn.feature_extraction.text import CountVectorizer\n",
    "tf_vectorizer = CountVectorizer(max_df=0.90, min_df=5, stop_words='english')\n",
    "# Create document word matrix by converting the cleaned text to a numerical matrxi\n",
    "# then the engine can work on the numerical matrix\n",
    "document_word_matrix_tf = tf_vectorizer.fit_transform(twitter_airline['text_review_cleaned'])"
   ]
  },
  {
   "cell_type": "markdown",
   "metadata": {},
   "source": [
    "After we generate the document word matrix, we can perform LDA analysis on it. Latent Dirichlet Allocation algorithm has several parameters to specify. Please see the official help document (https://scikit-learn.org/stable/modules/generated/sklearn.decomposition.LatentDirichletAllocation.html) for detailed information."
   ]
  },
  {
   "cell_type": "code",
   "execution_count": 12,
   "metadata": {},
   "outputs": [
    {
     "data": {
      "text/html": [
       "<style>#sk-container-id-1 {color: black;background-color: white;}#sk-container-id-1 pre{padding: 0;}#sk-container-id-1 div.sk-toggleable {background-color: white;}#sk-container-id-1 label.sk-toggleable__label {cursor: pointer;display: block;width: 100%;margin-bottom: 0;padding: 0.3em;box-sizing: border-box;text-align: center;}#sk-container-id-1 label.sk-toggleable__label-arrow:before {content: \"▸\";float: left;margin-right: 0.25em;color: #696969;}#sk-container-id-1 label.sk-toggleable__label-arrow:hover:before {color: black;}#sk-container-id-1 div.sk-estimator:hover label.sk-toggleable__label-arrow:before {color: black;}#sk-container-id-1 div.sk-toggleable__content {max-height: 0;max-width: 0;overflow: hidden;text-align: left;background-color: #f0f8ff;}#sk-container-id-1 div.sk-toggleable__content pre {margin: 0.2em;color: black;border-radius: 0.25em;background-color: #f0f8ff;}#sk-container-id-1 input.sk-toggleable__control:checked~div.sk-toggleable__content {max-height: 200px;max-width: 100%;overflow: auto;}#sk-container-id-1 input.sk-toggleable__control:checked~label.sk-toggleable__label-arrow:before {content: \"▾\";}#sk-container-id-1 div.sk-estimator input.sk-toggleable__control:checked~label.sk-toggleable__label {background-color: #d4ebff;}#sk-container-id-1 div.sk-label input.sk-toggleable__control:checked~label.sk-toggleable__label {background-color: #d4ebff;}#sk-container-id-1 input.sk-hidden--visually {border: 0;clip: rect(1px 1px 1px 1px);clip: rect(1px, 1px, 1px, 1px);height: 1px;margin: -1px;overflow: hidden;padding: 0;position: absolute;width: 1px;}#sk-container-id-1 div.sk-estimator {font-family: monospace;background-color: #f0f8ff;border: 1px dotted black;border-radius: 0.25em;box-sizing: border-box;margin-bottom: 0.5em;}#sk-container-id-1 div.sk-estimator:hover {background-color: #d4ebff;}#sk-container-id-1 div.sk-parallel-item::after {content: \"\";width: 100%;border-bottom: 1px solid gray;flex-grow: 1;}#sk-container-id-1 div.sk-label:hover label.sk-toggleable__label {background-color: #d4ebff;}#sk-container-id-1 div.sk-serial::before {content: \"\";position: absolute;border-left: 1px solid gray;box-sizing: border-box;top: 0;bottom: 0;left: 50%;z-index: 0;}#sk-container-id-1 div.sk-serial {display: flex;flex-direction: column;align-items: center;background-color: white;padding-right: 0.2em;padding-left: 0.2em;position: relative;}#sk-container-id-1 div.sk-item {position: relative;z-index: 1;}#sk-container-id-1 div.sk-parallel {display: flex;align-items: stretch;justify-content: center;background-color: white;position: relative;}#sk-container-id-1 div.sk-item::before, #sk-container-id-1 div.sk-parallel-item::before {content: \"\";position: absolute;border-left: 1px solid gray;box-sizing: border-box;top: 0;bottom: 0;left: 50%;z-index: -1;}#sk-container-id-1 div.sk-parallel-item {display: flex;flex-direction: column;z-index: 1;position: relative;background-color: white;}#sk-container-id-1 div.sk-parallel-item:first-child::after {align-self: flex-end;width: 50%;}#sk-container-id-1 div.sk-parallel-item:last-child::after {align-self: flex-start;width: 50%;}#sk-container-id-1 div.sk-parallel-item:only-child::after {width: 0;}#sk-container-id-1 div.sk-dashed-wrapped {border: 1px dashed gray;margin: 0 0.4em 0.5em 0.4em;box-sizing: border-box;padding-bottom: 0.4em;background-color: white;}#sk-container-id-1 div.sk-label label {font-family: monospace;font-weight: bold;display: inline-block;line-height: 1.2em;}#sk-container-id-1 div.sk-label-container {text-align: center;}#sk-container-id-1 div.sk-container {/* jupyter's `normalize.less` sets `[hidden] { display: none; }` but bootstrap.min.css set `[hidden] { display: none !important; }` so we also need the `!important` here to be able to override the default hidden behavior on the sphinx rendered scikit-learn.org. See: https://github.com/scikit-learn/scikit-learn/issues/21755 */display: inline-block !important;position: relative;}#sk-container-id-1 div.sk-text-repr-fallback {display: none;}</style><div id=\"sk-container-id-1\" class=\"sk-top-container\"><div class=\"sk-text-repr-fallback\"><pre>LatentDirichletAllocation(n_components=4, random_state=101)</pre><b>In a Jupyter environment, please rerun this cell to show the HTML representation or trust the notebook. <br />On GitHub, the HTML representation is unable to render, please try loading this page with nbviewer.org.</b></div><div class=\"sk-container\" hidden><div class=\"sk-item\"><div class=\"sk-estimator sk-toggleable\"><input class=\"sk-toggleable__control sk-hidden--visually\" id=\"sk-estimator-id-1\" type=\"checkbox\" checked><label for=\"sk-estimator-id-1\" class=\"sk-toggleable__label sk-toggleable__label-arrow\">LatentDirichletAllocation</label><div class=\"sk-toggleable__content\"><pre>LatentDirichletAllocation(n_components=4, random_state=101)</pre></div></div></div></div></div>"
      ],
      "text/plain": [
       "LatentDirichletAllocation(n_components=4, random_state=101)"
      ]
     },
     "execution_count": 12,
     "metadata": {},
     "output_type": "execute_result"
    }
   ],
   "source": [
    "from sklearn.decomposition import LatentDirichletAllocation\n",
    "\n",
    "# Specify the number of topics using n_components and fix the seed\n",
    "# You, the data scientist should justify the n_components; in theory, we can put any number here, such as 99, 101\n",
    "# in practice, it must make sense; for example, we choose 4, whih means, we have outstanding, very good, neural, negative reviews.\n",
    "\n",
    "# there is no closed form solution, we have to use numerical algorithm based on probablity distribution\n",
    "# if we have \"enought time\", everyone has the \"same results\"\n",
    "# in practice, it doesn't work due to the limits of resource such as hardware and time\n",
    "# we need to fix the seeds, then everyone can produce the \"same results\"\n",
    "lda = LatentDirichletAllocation(n_components= 4 ,random_state= 101)\n",
    "# then we fit this LDA model on the word matrix\n",
    "lda.fit(document_word_matrix_tf)"
   ]
  },
  {
   "cell_type": "markdown",
   "metadata": {},
   "source": [
    "## Top Words for Each Topic\n",
    "\n",
    "LDA algorithm has one crucial attribute of **components_**. It is a **two-dimensional vector**. I summarize it as follows:\n",
    "\n",
    "+ The row denotes the topics. We specified four topics. Therefore it has four rows.\n",
    "+ The column represents the document words generated from either CountVectorizer or TfidfVectorizer.\n",
    "\n",
    "It can also be viewed as **a distribution over the words for each topic after normalization**. Therefore the **top words have the largest values/probabilities**."
   ]
  },
  {
   "cell_type": "markdown",
   "metadata": {},
   "source": [
    "Let's look at how many words/tokens in the matrix since we set max_df =0.90, min_df =5 and stop_word =\"english\". The engine already helped us remove the following words from the document and corpus\n",
    "+ stop words\n",
    "+ words appear in at least 90% of the documents/reviews\n",
    "+ rare words that only appear less than 5 times in all doucments\n",
    "\n"
   ]
  },
  {
   "cell_type": "code",
   "execution_count": 13,
   "metadata": {},
   "outputs": [
    {
     "data": {
      "text/plain": [
       "2323"
      ]
     },
     "execution_count": 13,
     "metadata": {},
     "output_type": "execute_result"
    }
   ],
   "source": [
    "len(tf_vectorizer.get_feature_names())"
   ]
  },
  {
   "cell_type": "markdown",
   "metadata": {},
   "source": [
    "LAD componets_ attribute/data memeber is a 2D array with 4 rows(specified by us) and 2330 words left(see above)"
   ]
  },
  {
   "cell_type": "code",
   "execution_count": 14,
   "metadata": {},
   "outputs": [
    {
     "data": {
      "text/plain": [
       "(4, 2323)"
      ]
     },
     "execution_count": 14,
     "metadata": {},
     "output_type": "execute_result"
    }
   ],
   "source": [
    "lda.components_.shape"
   ]
  },
  {
   "cell_type": "markdown",
   "metadata": {},
   "source": [
    "Let's print our the top 15 words for each topic."
   ]
  },
  {
   "cell_type": "code",
   "execution_count": 15,
   "metadata": {},
   "outputs": [
    {
     "name": "stdout",
     "output_type": "stream",
     "text": [
      "THE TOP 15 WORDS FOR TOPIC #0\n",
      "['follow', 'don', 'guy', 'experience', 'look', 'send', 'good', 'dm', 'like', 'just', 'airline', 'fly', 'bad', 'tell', 'thank']\n",
      "######################################################################################################################################################\n",
      "THE TOP 15 WORDS FOR TOPIC #1\n",
      "['ve', 'need', 'say', 'reservation', 'time', 'agent', 'wait', 'try', 'hour', 'help', 'phone', 'hold', 'issue', 'customer', 'service']\n",
      "######################################################################################################################################################\n",
      "THE TOP 15 WORDS FOR TOPIC #2\n",
      "['airport', 'just', 'need', 'ticket', 'fly', 'baggage', 'tell', 'love', 'check', 'great', 'lose', 'thank', 'lost', 'bag', 'luggage']\n",
      "######################################################################################################################################################\n",
      "THE TOP 15 WORDS FOR TOPIC #3\n",
      "['miss', 'complaints', 'wait', 'time', 'bad', 'gate', 'attendant', 'problem', 'booking', 'plane', 'hour', 'delay', 'cancel', 'late', 'flight']\n",
      "######################################################################################################################################################\n"
     ]
    }
   ],
   "source": [
    "#\"Check\" the models by looking at the original words to make sure it makes sense to human/data scientists\n",
    "n_top_words = 15 \n",
    "# Loop over each topic:lda.components_ = 4 (specified)\n",
    "# in the loop the index denote the topic number 0, 1,2, 3\n",
    "# topics is a row vector with 2330 words and corresponding probablities\n",
    "for index,topic in enumerate(lda.components_):\n",
    "    print(f'THE TOP {n_top_words} WORDS FOR TOPIC #{index}')\n",
    "    # Get the top word for a given topics using list comprehension\n",
    "    # We rank the values using argsort and take out the corresponding indices\n",
    "    # Finally obtain the corresponding feature names (word) using the indices\n",
    "    # argsort sorted the values from smallest to largest; therefore the top values in the end\n",
    "    # argsort returns the corresponding indices\n",
    "    # https://numpy.org/doc/stable/reference/generated/numpy.argsort.html\n",
    "    # after we have the corresponding index, then we can get the feature names(words)\n",
    "    print([tf_vectorizer.get_feature_names()[j] for j in topic.argsort()[-n_top_words:]])\n",
    "    #Seperate each topic using #\n",
    "    print('#'*150)"
   ]
  },
  {
   "cell_type": "markdown",
   "metadata": {},
   "source": [
    "# stop here 10/11"
   ]
  },
  {
   "cell_type": "markdown",
   "metadata": {},
   "source": [
    "Next, we want to visualize the top 15 words for each topic. The following function is taken from Scikit learn official help document(https://scikit-learn.org/stable/auto_examples/applications/plot_topics_extraction_with_nmf_lda.html#sphx-glr-auto-examples-applications-plot-topics-extraction-with-nmf-lda-py). "
   ]
  },
  {
   "cell_type": "code",
   "execution_count": 16,
   "metadata": {},
   "outputs": [],
   "source": [
    "#Check our models by visulize the top words/tokens\n",
    "import matplotlib.pyplot as plt\n",
    "#define the function to plot;\n",
    "# model results,feature_names(tokens/words);n_top_words(specified); title (of the graph)\n",
    "def plot_top_words(model, feature_names, n_top_words, title):\n",
    "    # We specify 4 topics BEFORE, then we setup the number of subplot =2*2 \n",
    "    # the numbers(rows and columns) in the subplots must be adjusted according the given numbers 4;\n",
    "    # if we specify 6 topics; plt.subplots(3, 2 or plt.subplots(2, 3; plt.subplots(6, 1, etc.\n",
    "    fig, axes = plt.subplots(2, 2, figsize=(30, 15), sharex=True)\n",
    "    # Flatten the axes (2 dimensions (2,2), it needs nested loops for rows and columns) to 1 D vector, \n",
    "    #then we can loop it easily using one loop instead of using a nested loop for rows and columns\n",
    "    axes = axes.flatten()\n",
    "    \n",
    "    # Loop over all the topics that is = 4 in our example\n",
    "    # get the corresponding topic index and topic\n",
    "    for topic_idx, topic in enumerate(model.components_):\n",
    "        # Rank the values and take out the corresponding  top indices that is in the end of the vector\n",
    "        # since it ranks from the smallest to the largest \n",
    "        top_features_ind = topic.argsort()[:-n_top_words - 1:-1]\n",
    "        # Take out the top features using the indices\n",
    "        top_features = [feature_names[i] for i in top_features_ind]\n",
    "        # Get the weights using fancy indexing\n",
    "        weights = topic[top_features_ind]\n",
    "        # Take out the axes of the subplots from the flattened 1D vector\n",
    "        # it happens to be the index of the topics\n",
    "        ax = axes[topic_idx]\n",
    "        #Horizontal bar plot of feature names and corresponding values\n",
    "        ax.barh(top_features, weights, height=0.7)\n",
    "        ax.set_title(f'Topic {topic_idx +1}',\n",
    "                     fontdict={'fontsize': 30})\n",
    "        # https://matplotlib.org/3.1.1/api/_as_gen/matplotlib.axes.Axes.invert_yaxis.html\n",
    "        # You may comment out the following code to see the differences; then choose the format you like\n",
    "        ax.invert_yaxis()\n",
    "        ax.tick_params(axis='both', which='major', labelsize=20)\n",
    "        # Remove the top, right and left axis in matplotlib\n",
    "        # You may comment out the folowing loop to see the differences\n",
    "        for i in 'top right left'.split():\n",
    "            ax.spines[i].set_visible(False)\n",
    "        #set the tile for all the graphs\n",
    "        fig.suptitle(title, fontsize=40)\n",
    "\n",
    "    plt.subplots_adjust(top=0.90, bottom=0.05, wspace=0.90, hspace=0.3)\n",
    "    plt.show()"
   ]
  },
  {
   "cell_type": "code",
   "execution_count": 17,
   "metadata": {},
   "outputs": [
    {
     "data": {
      "image/png": "[encoded data removed]",
      "text/plain": [
       "<Figure size 2160x1080 with 4 Axes>"
      ]
     },
     "metadata": {
      "needs_background": "light"
     },
     "output_type": "display_data"
    }
   ],
   "source": [
    "tf_feature_names = tf_vectorizer.get_feature_names()\n",
    "plot_top_words(lda, tf_feature_names, n_top_words, 'Topics in LDA model')"
   ]
  },
  {
   "cell_type": "markdown",
   "metadata": {},
   "source": [
    "## Assign topics ID to Each Document\n",
    "\n",
    "Let us transform the data of document_word_matrix according to the fitted model. The result is a 2-dimensional vector. **The row denotes the document/review, and the column is the topic ID**. The corresponding values are the probabilities belonging to each topic for a given document/review."
   ]
  },
  {
   "cell_type": "code",
   "execution_count": 18,
   "metadata": {},
   "outputs": [
    {
     "data": {
      "text/plain": [
       "(14640, 4)"
      ]
     },
     "execution_count": 18,
     "metadata": {},
     "output_type": "execute_result"
    }
   ],
   "source": [
    "# we predict the topic ID using transform method on the nuemrical matrix obtained from tf-idf\n",
    "topics = lda.transform(document_word_matrix_tf)\n",
    "# there are 14640 rows/tweets, 4 columns ( 4 topics), each number dentoes the probablity belong\n",
    "# to that topics\n",
    "topics.shape"
   ]
  },
  {
   "cell_type": "markdown",
   "metadata": {},
   "source": [
    "Let's look at the probabilities of each topic for the first document/review. It is easy for us to see that.\n",
    "\n",
    "+ The sum of these probabilities is 1.\n",
    "+ The largest number is the 4th number. Therefore, it is assigned to the 4th topic."
   ]
  },
  {
   "cell_type": "code",
   "execution_count": 19,
   "metadata": {},
   "outputs": [
    {
     "data": {
      "text/plain": [
       "array([0.1297348 , 0.61126405, 0.12930114, 0.12970002])"
      ]
     },
     "execution_count": 19,
     "metadata": {},
     "output_type": "execute_result"
    }
   ],
   "source": [
    "topics[0]"
   ]
  },
  {
   "cell_type": "markdown",
   "metadata": {},
   "source": [
    "Finally, we assign the topic ID to each document/review by taking out the index of the largest probability."
   ]
  },
  {
   "cell_type": "code",
   "execution_count": 20,
   "metadata": {},
   "outputs": [],
   "source": [
    "# Create a new column and save the predicted topic ID\n",
    "# https://numpy.org/doc/stable/reference/generated/numpy.argmax.html\n",
    "# Returns the indices of the maximum values along an axis.\n",
    "# array([0.12969949, 0.13391997, 0.13491871, 0.60146184])\n",
    "# the returned value for the vector above is 3 since 0.60146184 is the largest value and the corresponding index is 3\n",
    "twitter_airline['Topic'] = topics.argmax(axis=1)"
   ]
  },
  {
   "cell_type": "markdown",
   "metadata": {},
   "source": [
    "Let's check the distribution of the topics"
   ]
  },
  {
   "cell_type": "code",
   "execution_count": 21,
   "metadata": {},
   "outputs": [
    {
     "data": {
      "text/plain": [
       "3    5133\n",
       "1    3362\n",
       "0    3307\n",
       "2    2838\n",
       "Name: Topic, dtype: int64"
      ]
     },
     "execution_count": 21,
     "metadata": {},
     "output_type": "execute_result"
    }
   ],
   "source": [
    "twitter_airline['Topic'].value_counts()"
   ]
  },
  {
   "cell_type": "markdown",
   "metadata": {},
   "source": [
    "## Topic Modeling Visualization using pyLDAvis\n",
    "\n",
    "According to the official GitHub of the pyLDAvis:\n",
    "\n",
    "pyLDAvis is a  Python library for interactive topic model visualization. It is designed to help users interpret the topics in a topic model that has been fit to a corpus of text data. The package extracts information from a fitted LDA topic model to inform an interactive web-based visualization. The visualization is intended to be used within an IPython notebook but can also be saved to a stand-alone HTML file for easy sharing.\n",
    "\n",
    "https://github.com/bmabey/pyLDAvis\n",
    "\n",
    "To use pyLDAvis, we need to install it in the Anaconda Prompt using the following command:\n",
    "\n",
    "<center>  pip install pyldavis </center>"
   ]
  },
  {
   "cell_type": "markdown",
   "metadata": {},
   "source": [
    "### Latent Dirichlet Allocation (LDA) Algorithm using TfidfVectorizer\n",
    "We are using the TfidfVectorizer to create the Latent Dirichlet Allocation (LDA) model in this section. It is very similar to the Latent Dirichlet Allocation (LDA) Algorithm based on CountVectorizer before.\n"
   ]
  },
  {
   "cell_type": "code",
   "execution_count": 22,
   "metadata": {},
   "outputs": [],
   "source": [
    "\n",
    "# convert reviews/texts to numerical vectors\n",
    "from sklearn.feature_extraction.text import TfidfVectorizer\n",
    "from sklearn.decomposition import LatentDirichletAllocation\n",
    "\n",
    "\n",
    "# Generate the document word matrix using tfidf\n",
    "tfidf_vectorizer = TfidfVectorizer(stop_words = 'english', # Remove the stop words\n",
    "                                lowercase = True, # Convert the tokes to lower cases\n",
    "                                # Specif the token using regular expression to consider tokens of 2 for more alphanumeric characters\n",
    "                                token_pattern = r'\\b[a-zA-Z0-9]{2,}\\b', \n",
    "                                max_df = 0.9, \n",
    "                                min_df = 5)\n",
    "# We build the model on the text reviews only (there is no label inputs at all)\n",
    "document_word_matrix_tf_idf = tfidf_vectorizer.fit_transform(twitter_airline['text_review_cleaned'])\n"
   ]
  },
  {
   "cell_type": "code",
   "execution_count": 23,
   "metadata": {},
   "outputs": [
    {
     "data": {
      "text/html": [
       "<style>#sk-container-id-2 {color: black;background-color: white;}#sk-container-id-2 pre{padding: 0;}#sk-container-id-2 div.sk-toggleable {background-color: white;}#sk-container-id-2 label.sk-toggleable__label {cursor: pointer;display: block;width: 100%;margin-bottom: 0;padding: 0.3em;box-sizing: border-box;text-align: center;}#sk-container-id-2 label.sk-toggleable__label-arrow:before {content: \"▸\";float: left;margin-right: 0.25em;color: #696969;}#sk-container-id-2 label.sk-toggleable__label-arrow:hover:before {color: black;}#sk-container-id-2 div.sk-estimator:hover label.sk-toggleable__label-arrow:before {color: black;}#sk-container-id-2 div.sk-toggleable__content {max-height: 0;max-width: 0;overflow: hidden;text-align: left;background-color: #f0f8ff;}#sk-container-id-2 div.sk-toggleable__content pre {margin: 0.2em;color: black;border-radius: 0.25em;background-color: #f0f8ff;}#sk-container-id-2 input.sk-toggleable__control:checked~div.sk-toggleable__content {max-height: 200px;max-width: 100%;overflow: auto;}#sk-container-id-2 input.sk-toggleable__control:checked~label.sk-toggleable__label-arrow:before {content: \"▾\";}#sk-container-id-2 div.sk-estimator input.sk-toggleable__control:checked~label.sk-toggleable__label {background-color: #d4ebff;}#sk-container-id-2 div.sk-label input.sk-toggleable__control:checked~label.sk-toggleable__label {background-color: #d4ebff;}#sk-container-id-2 input.sk-hidden--visually {border: 0;clip: rect(1px 1px 1px 1px);clip: rect(1px, 1px, 1px, 1px);height: 1px;margin: -1px;overflow: hidden;padding: 0;position: absolute;width: 1px;}#sk-container-id-2 div.sk-estimator {font-family: monospace;background-color: #f0f8ff;border: 1px dotted black;border-radius: 0.25em;box-sizing: border-box;margin-bottom: 0.5em;}#sk-container-id-2 div.sk-estimator:hover {background-color: #d4ebff;}#sk-container-id-2 div.sk-parallel-item::after {content: \"\";width: 100%;border-bottom: 1px solid gray;flex-grow: 1;}#sk-container-id-2 div.sk-label:hover label.sk-toggleable__label {background-color: #d4ebff;}#sk-container-id-2 div.sk-serial::before {content: \"\";position: absolute;border-left: 1px solid gray;box-sizing: border-box;top: 0;bottom: 0;left: 50%;z-index: 0;}#sk-container-id-2 div.sk-serial {display: flex;flex-direction: column;align-items: center;background-color: white;padding-right: 0.2em;padding-left: 0.2em;position: relative;}#sk-container-id-2 div.sk-item {position: relative;z-index: 1;}#sk-container-id-2 div.sk-parallel {display: flex;align-items: stretch;justify-content: center;background-color: white;position: relative;}#sk-container-id-2 div.sk-item::before, #sk-container-id-2 div.sk-parallel-item::before {content: \"\";position: absolute;border-left: 1px solid gray;box-sizing: border-box;top: 0;bottom: 0;left: 50%;z-index: -1;}#sk-container-id-2 div.sk-parallel-item {display: flex;flex-direction: column;z-index: 1;position: relative;background-color: white;}#sk-container-id-2 div.sk-parallel-item:first-child::after {align-self: flex-end;width: 50%;}#sk-container-id-2 div.sk-parallel-item:last-child::after {align-self: flex-start;width: 50%;}#sk-container-id-2 div.sk-parallel-item:only-child::after {width: 0;}#sk-container-id-2 div.sk-dashed-wrapped {border: 1px dashed gray;margin: 0 0.4em 0.5em 0.4em;box-sizing: border-box;padding-bottom: 0.4em;background-color: white;}#sk-container-id-2 div.sk-label label {font-family: monospace;font-weight: bold;display: inline-block;line-height: 1.2em;}#sk-container-id-2 div.sk-label-container {text-align: center;}#sk-container-id-2 div.sk-container {/* jupyter's `normalize.less` sets `[hidden] { display: none; }` but bootstrap.min.css set `[hidden] { display: none !important; }` so we also need the `!important` here to be able to override the default hidden behavior on the sphinx rendered scikit-learn.org. See: https://github.com/scikit-learn/scikit-learn/issues/21755 */display: inline-block !important;position: relative;}#sk-container-id-2 div.sk-text-repr-fallback {display: none;}</style><div id=\"sk-container-id-2\" class=\"sk-top-container\"><div class=\"sk-text-repr-fallback\"><pre>LatentDirichletAllocation(n_components=4, random_state=101)</pre><b>In a Jupyter environment, please rerun this cell to show the HTML representation or trust the notebook. <br />On GitHub, the HTML representation is unable to render, please try loading this page with nbviewer.org.</b></div><div class=\"sk-container\" hidden><div class=\"sk-item\"><div class=\"sk-estimator sk-toggleable\"><input class=\"sk-toggleable__control sk-hidden--visually\" id=\"sk-estimator-id-2\" type=\"checkbox\" checked><label for=\"sk-estimator-id-2\" class=\"sk-toggleable__label sk-toggleable__label-arrow\">LatentDirichletAllocation</label><div class=\"sk-toggleable__content\"><pre>LatentDirichletAllocation(n_components=4, random_state=101)</pre></div></div></div></div></div>"
      ],
      "text/plain": [
       "LatentDirichletAllocation(n_components=4, random_state=101)"
      ]
     },
     "execution_count": 23,
     "metadata": {},
     "output_type": "execute_result"
    }
   ],
   "source": [
    "\n",
    "# Build the LDA model and specify the number of topics; which should justify this number\n",
    "lda_tf_idf = LatentDirichletAllocation(n_components= 4, random_state= 101)\n",
    "#lda algorithm fits on the numerical matrix transformed from text reviews using tf-idf or tf method\n",
    "lda_tf_idf.fit(document_word_matrix_tf_idf)\n"
   ]
  },
  {
   "cell_type": "markdown",
   "metadata": {},
   "source": [
    "### Visualize Topic Modeling using pyLDAvis\n",
    "\n",
    "PyLDAvis is a port of the fabulous R package of LDAvis by Carson Sievert and Kenny Shirley. LDAvis is summarized in the paper LDAvis: A method for visualizing and interpreting topics. (https://nlp.stanford.edu/events/illvi2014/papers/sievert-illvi2014.pdf).\n",
    "\n",
    "We are using pyLDAvis.sklearn.prepare function to plot it. This funciton has four important parameters as follows:\n",
    "\n",
    "+ **lda_model** : sklearn.decomposition.LatentDirichletAllocation.\n",
    "        Latent Dirichlet Allocation model from sklearn fitted with `dtm`\n",
    "+ **dtm** : array-like or sparse matrix, shape=(n_samples, n_features)\n",
    "        Document-term matrix used to fit on LatentDirichletAllocation model (`lda_model`)\n",
    "+ **vectorizer** : sklearn.feature_extraction.text.(**CountVectorizer, TfIdfVectorizer**).\n",
    "        vectorizer used to convert raw documents to document-term matrix (`dtm`)\n",
    "+ **mds** :function or a string representation of function. A function that takes topic_term_dists as an input and outputs a n_topics by 2 distance matrix. The output approximates the distance between topics. See js_PCoA() for details on the default function. A string representation currently accepts: see https://scikit-learn.org/stable/modules/generated/sklearn.manifold.MDS.html\n",
    "    + **pcoa** (or upper case variant): Principal Coordinates Analysis \n",
    "    + **mmds** (or upper case variant), if sklearn package is installed \n",
    "    + **tsne** (or upper case variant), if sklearn package is installed"
   ]
  },
  {
   "cell_type": "code",
   "execution_count": 24,
   "metadata": {},
   "outputs": [
    {
     "data": {
      "text/html": [
       "\n",
       "<link rel=\"stylesheet\" type=\"text/css\" href=\"https://cdn.jsdelivr.net/gh/bmabey/pyLDAvis@3.3.1/pyLDAvis/js/ldavis.v1.0.0.css\">\n",
       "\n",
       "\n",
       "<div id=\"ldavis_el2022829073145222569148481086\"></div>\n",
       "<script type=\"text/javascript\">\n",
       "\n",
       "var ldavis_el2022829073145222569148481086_data = {\"mdsDat\": {\"x\": [-0.20977800738802227, 0.1267679755984486, 0.025096591817060875, 0.05791343997251275], \"y\": [-0.017193299278875647, -0.10104235691942919, -0.07175355123130892, 0.1899892074296137], \"topics\": [1, 2, 3, 4], \"cluster\": [1, 1, 1, 1], \"Freq\": [33.512348861316376, 24.772503528049654, 24.70735934785015, 17.00778826278383]}, \"tinfo\": {\"Term\": [\"thank\", \"cancel\", \"late\", \"customer\", \"service\", \"luggage\", \"issue\", \"delay\", \"great\", \"lost\", \"dm\", \"flight\", \"attendant\", \"love\", \"follow\", \"complaints\", \"fleek\", \"send\", \"fleet\", \"response\", \"booking\", \"bag\", \"problem\", \"appreciate\", \"flightled\", \"sit\", \"flightle\", \"care\", \"flighted\", \"reservation\", \"cancel\", \"luggage\", \"lost\", \"flightled\", \"flightle\", \"flighted\", \"connection\", \"arrive\", \"dfw\", \"hotel\", \"late\", \"phl\", \"rebook\", \"tarmac\", \"strand\", \"delay\", \"depart\", \"runway\", \"departure\", \"car\", \"cancelled\", \"deliver\", \"okay\", \"hrs\", \"charlotte\", \"load\", \"chicago\", \"mechanical\", \"ce\", \"mainte\", \"sit\", \"fll\", \"clt\", \"pm\", \"flt\", \"dca\", \"bag\", \"tomorrow\", \"miss\", \"flight\", \"plane\", \"lose\", \"leave\", \"gate\", \"land\", \"hour\", \"baggage\", \"wait\", \"home\", \"airport\", \"min\", \"time\", \"day\", \"amp\", \"tell\", \"bad\", \"just\", \"help\", \"make\", \"follow\", \"dm\", \"response\", \"appreciate\", \"respond\", \"reply\", \"american\", \"complaint\", \"idea\", \"forward\", \"blue\", \"future\", \"fuck\", \"busy\", \"sound\", \"relation\", \"automate\", \"feedback\", \"submit\", \"expire\", \"mobile\", \"care\", \"apply\", \"medium\", \"safe\", \"yr\", \"social\", \"receipt\", \"mention\", \"absolute\", \"request\", \"twitter\", \"send\", \"thank\", \"company\", \"message\", \"wifi\", \"customer\", \"service\", \"issue\", \"quick\", \"disconnect\", \"suck\", \"email\", \"horrible\", \"experience\", \"tell\", \"look\", \"good\", \"like\", \"bad\", \"airline\", \"hold\", \"guy\", \"just\", \"fly\", \"help\", \"ve\", \"week\", \"hour\", \"time\", \"really\", \"flight\", \"work\", \"need\", \"fleek\", \"fleet\", \"confirmation\", \"lol\", \"wow\", \"high\", \"correct\", \"carry\", \"tsa\", \"save\", \"pre\", \"sell\", \"sense\", \"gold\", \"train\", \"rude\", \"overhead\", \"volume\", \"mail\", \"advisory\", \"welcome\", \"enter\", \"especially\", \"mind\", \"representative\", \"angry\", \"rule\", \"die\", \"internet\", \"forever\", \"complaints\", \"probably\", \"attendant\", \"online\", \"reservation\", \"rt\", \"person\", \"guess\", \"booking\", \"rep\", \"problem\", \"explain\", \"desk\", \"member\", \"phone\", \"number\", \"yes\", \"change\", \"point\", \"customer\", \"issue\", \"service\", \"agent\", \"book\", \"check\", \"ticket\", \"help\", \"say\", \"seat\", \"flight\", \"try\", \"tell\", \"don\", \"make\", \"need\", \"hold\", \"just\", \"swa\", \"destinationdragon\", \"companion\", \"luv\", \"austin\", \"atlanta\", \"life\", \"set\", \"supervisor\", \"record\", \"news\", \"cross\", \"enjoy\", \"excited\", \"definitely\", \"drink\", \"wonderful\", \"000\", \"excellent\", \"dividend\", \"lady\", \"lounge\", \"son\", \"favorite\", \"airway\", \"fair\", \"unbelievable\", \"unhelpful\", \"lovely\", \"snack\", \"destinationdragons\", \"true\", \"birthday\", \"great\", \"man\", \"love\", \"friend\", \"question\", \"cool\", \"club\", \"southwest\", \"got\", \"pass\", \"bring\", \"mile\", \"real\", \"thank\", \"fly\", \"year\", \"guy\", \"new\", \"travel\", \"good\", \"tell\", \"flight\", \"work\", \"use\", \"finally\", \"ticket\", \"service\", \"nice\", \"jetblue\", \"time\", \"day\", \"customer\", \"just\", \"bad\", \"airline\"], \"Freq\": [528.0, 336.0, 360.0, 593.0, 599.0, 219.0, 503.0, 207.0, 127.0, 156.0, 116.0, 938.0, 149.0, 101.0, 90.0, 116.0, 79.0, 107.0, 78.0, 73.0, 152.0, 162.0, 157.0, 59.0, 71.0, 81.0, 65.0, 54.0, 59.0, 73.0, 335.39180015082167, 217.99777588301842, 155.4786022092105, 71.00376185882544, 64.89195865208482, 58.92762299576303, 55.573089551492274, 46.04545615614737, 48.23105186968578, 44.08369317825399, 352.5069745039184, 35.08925162779376, 38.91771320648265, 26.395778030632627, 28.81591745474565, 201.21265355827708, 24.079846481283703, 21.522718076306198, 29.921931486269067, 20.62965896674422, 20.65385285863429, 19.548744775098662, 19.385872240105712, 55.98126178846501, 21.4122830566379, 17.832625175175803, 28.97075900579304, 22.39725835834492, 16.799976618933986, 16.799976618931172, 77.1917288861721, 19.34492875843668, 30.08305801744653, 29.30809246497985, 40.83126535989518, 33.755980639309044, 135.82303565380127, 76.76271335578936, 84.99730000224929, 635.8425503189096, 132.20371574020223, 73.50693356006353, 75.98841929584049, 96.95555825117766, 40.52544175384754, 147.88698964578194, 52.473358090119824, 105.39204359917294, 61.28704320447582, 67.89393934960137, 54.86535648911341, 89.8070392203622, 67.00011780822598, 65.17953334661625, 75.72474154192778, 63.7361847093504, 60.2236554085652, 60.28949156379551, 56.832950705927026, 90.07113204414651, 115.0965690871606, 72.77379479250591, 58.99147012912867, 35.68610883084997, 35.86973369149352, 27.18234438734812, 24.496742586714728, 24.666599142804674, 20.071957231721736, 18.363270434340976, 15.46883609032129, 13.782352098988863, 19.40665073225004, 13.071978373817396, 12.455261919703231, 15.178718950588316, 12.244280661995466, 13.241437876590782, 12.545412275289626, 12.138297141736066, 51.509457674063974, 11.963726913871998, 11.104652088580531, 11.004000348705373, 11.58337012373348, 10.801298639173158, 10.393354728912756, 10.37342671140841, 9.907403026763903, 27.22330630743472, 27.521878689018717, 96.76286150415004, 412.758997937494, 27.259156658402045, 29.054208748443788, 34.74792424477525, 352.0232234558987, 346.97422003514237, 282.89856840908504, 21.54988306445978, 18.201029909621578, 34.23671294437106, 56.737391217638404, 24.087029361819763, 46.69604117023988, 159.28706496220585, 53.27061817762111, 75.98646073861252, 66.01398290967145, 94.65082701006448, 69.53641458279431, 78.84162510653692, 63.44649359816251, 87.3386047693421, 63.20719895495719, 66.4689760611531, 50.43753174266853, 36.89867527575857, 60.84276363334143, 53.19292718457315, 41.10660994399191, 66.32431648480588, 41.72132229290353, 43.82584314608975, 79.2468738200974, 78.01328317078398, 29.085620403620304, 25.85859835500417, 20.0045076226139, 19.269871555842652, 17.794854448137755, 20.939727860859776, 15.184743793757635, 14.33650984595352, 13.262744617210377, 14.842413037718625, 12.72174904158514, 12.567301513564805, 12.167454967131556, 39.9419426404435, 11.188195676937735, 11.211359564884804, 10.939679483820123, 10.62539966672239, 10.012006422000924, 9.971966356319474, 9.459067860885977, 12.117990995378147, 9.218237916659694, 9.130561630989483, 9.497731059044368, 8.677650186849668, 8.50849481258546, 8.55517334912045, 103.7604197946982, 14.740589358637122, 127.0686832299718, 51.517341226470116, 60.646239924295244, 34.776970689385195, 32.0440415302282, 22.012949389950986, 108.44134145959939, 32.042062691420625, 106.94521863855309, 16.915915710186887, 22.41669131959007, 24.34383898799081, 74.45633033203612, 52.85406315043721, 55.127573296075795, 66.1319093327695, 31.394478789607337, 200.6525447269522, 176.25401989429642, 197.67894516735026, 57.094331355341815, 52.11100212113243, 57.4691411387159, 51.45771683798808, 79.87508196805025, 56.09024811833713, 54.17538045867287, 163.04229728175304, 57.569020428944576, 84.3702632521396, 48.3720568673631, 52.15671471526174, 49.10925916750503, 46.45544343973926, 48.39204941318589, 21.81644734722546, 19.851013197142457, 19.817529698344842, 18.5868906732651, 18.65290965737972, 18.77784445902733, 25.68007034751629, 18.912509103396637, 18.74604126237145, 17.74801866586967, 16.99392682365153, 16.367927702430286, 15.881918668533197, 14.27867631391753, 13.836103028532182, 16.798198047976896, 13.589120117650987, 13.498942188005376, 13.749277305464545, 13.087475901048604, 14.13432846731545, 15.094839124441563, 11.673060156355161, 11.267940775886977, 11.649568193114938, 10.984990770210482, 10.83830381133555, 10.877698569103831, 10.644898790815343, 10.70213909751999, 22.955265406426527, 13.753222193860095, 14.118492055374617, 109.5330761040913, 14.902789133538286, 84.93965151750015, 32.11799453059469, 30.6549534990391, 25.798137662741777, 17.86801061138716, 29.078993818065737, 34.52812618545705, 32.292567271701905, 21.829930355523157, 28.906964758441358, 19.31647735107731, 83.76853690008848, 49.544936684112834, 25.290328425593472, 37.600855324059275, 30.320059334762515, 32.3937856066986, 38.064789318653645, 53.44811474803074, 73.21224786713165, 32.23985103408195, 27.7650923640562, 23.83621796087469, 28.727608876013374, 37.45904921748935, 22.70660208830053, 22.591917597586065, 27.474970706742635, 25.86727985266525, 29.39467372293651, 25.416355196373164, 25.078594651192322, 24.141630674300682], \"Total\": [528.0, 336.0, 360.0, 593.0, 599.0, 219.0, 503.0, 207.0, 127.0, 156.0, 116.0, 938.0, 149.0, 101.0, 90.0, 116.0, 79.0, 107.0, 78.0, 73.0, 152.0, 162.0, 157.0, 59.0, 71.0, 81.0, 65.0, 54.0, 59.0, 73.0, 336.23273961887486, 219.31612730960939, 156.66750069178516, 71.75435658212876, 65.64159673122897, 59.680342246887854, 56.326659059881436, 46.8008142195635, 49.02354378168498, 44.906446703853646, 360.71710935132046, 35.96166268905586, 39.89904155573844, 27.152898276940288, 29.65566618840381, 207.24144517769528, 24.828675495285303, 22.274157716314722, 30.986828537168684, 21.389322563344134, 21.41912972805925, 20.301847781410483, 20.15871726228457, 58.23719359024828, 22.276183708427848, 18.58678144332311, 30.207992131962047, 23.359944224599975, 17.549554240504143, 17.549554240504353, 81.61503081313097, 20.237953461214307, 31.77772662590122, 30.969024307456646, 43.67046671789507, 35.86400850079965, 162.78825946194132, 89.20497823553302, 101.20995382283776, 938.4214119526001, 170.2130516344371, 90.28522938514118, 94.79375416534492, 129.53248322128945, 46.30299907765552, 240.05796074639863, 64.25208939001192, 171.42426896963784, 83.8464945892027, 102.12324246122176, 78.00543995732622, 212.30801311226833, 137.64478530556505, 142.60638006170657, 372.83018450430393, 222.8708558898873, 221.37066478746635, 225.73441705827656, 165.75792416494292, 90.81028066199103, 116.11261050485967, 73.52661174501904, 59.73649184364949, 36.42526710461776, 36.62066893061242, 27.926142071546476, 25.238152784139793, 25.44627088288357, 20.871575430908692, 19.111501839245093, 16.229889546584364, 14.532727070701156, 20.496585775648846, 13.814043964109892, 13.190220322622949, 16.08214388856777, 12.98233962293272, 14.045838391289815, 13.316511538562308, 12.886772689036713, 54.69058246216177, 12.74016911140926, 11.838562288939912, 11.746148318402554, 12.370585344121524, 11.538129626674586, 11.136608364559905, 11.119236576847676, 10.645892199417158, 29.26598605093131, 29.69256284782339, 107.49413768352048, 528.949552923295, 31.068458345799016, 33.386224348327005, 41.79699367289538, 593.7303196175052, 599.5022613360267, 503.88335256515074, 25.09510072708625, 20.74579034871403, 44.57334259907106, 83.07684636621383, 30.01405870245824, 72.21579572400022, 372.83018450430393, 88.07586692980823, 144.62856087232862, 120.33629039717016, 222.8708558898873, 140.40411707578684, 174.284350530506, 128.76312541103826, 221.37066478746635, 187.65279043172978, 225.73441705827656, 126.62729171157387, 60.60437789359014, 240.05796074639863, 212.30801311226833, 89.93301119780604, 938.4214119526001, 113.53569679725372, 168.20637645069155, 79.96960399221219, 78.7371436033562, 29.835521609177867, 26.776567597861924, 20.784789394982223, 20.033770375400305, 18.53304751140247, 21.813975324185964, 15.914984917194042, 15.082951598377223, 13.996854265561941, 15.6938912060822, 13.463470193985279, 13.322286646060506, 12.901086782584102, 42.41510938523387, 11.915425799734985, 11.943720509588516, 11.688405227979757, 11.362413806315587, 10.757025294315044, 10.724539319892708, 10.193467886412364, 13.07411137924333, 9.961319403985149, 9.86702281757775, 10.277306996496959, 9.424818575543043, 9.243588790768024, 9.303727895764984, 116.61744569366178, 16.192789522102334, 149.85578153355564, 60.74134950783256, 73.97110359476643, 41.23344749731567, 38.030083495473335, 25.455726262294803, 152.2698308198698, 39.598010592237294, 157.113730375205, 19.481561025336866, 27.554926251009668, 30.614427650938772, 124.75319348092314, 82.29654025001123, 90.2328869350747, 119.72091506937736, 44.82633435247361, 593.7303196175052, 503.88335256515074, 599.5022613360267, 105.90754409774569, 97.1783725659884, 119.17540313948581, 105.68533263405392, 225.73441705827656, 126.74796114448587, 119.59725416072034, 938.4214119526001, 147.50654151405297, 372.83018450430393, 121.14824749299011, 165.75792416494292, 168.20637645069155, 174.284350530506, 221.37066478746635, 22.57125469433706, 20.550428864359123, 20.521398124884314, 19.289921648190187, 19.360106081545965, 19.494361198111484, 26.668058159965746, 19.656713277176234, 19.49253173798063, 18.454824775136505, 17.698008906579123, 17.078122738529796, 16.587913066208458, 14.98190950729971, 14.53914783447158, 17.670184842724403, 14.295084593486685, 14.209350791137421, 14.479173676667658, 13.794337813824274, 14.959575750438658, 15.984765786466529, 12.37995445939223, 11.966526108624912, 12.388603999623225, 11.70464894458302, 11.551043492452443, 11.599650333694798, 11.351525475659932, 11.412579907414989, 24.536650452180403, 14.669388803502509, 15.095875687407824, 127.4008569482011, 16.114169268243344, 101.21817099613594, 38.33914837464328, 37.05568875608136, 31.786008685196734, 20.385725743256376, 38.50315888965048, 48.50063751303812, 45.959165013268866, 28.964658270907446, 49.01862313108579, 25.763600658123732, 528.949552923295, 187.65279043172978, 48.93819155560308, 128.76312541103826, 78.18853133618325, 93.34145066516646, 144.62856087232862, 372.83018450430393, 938.4214119526001, 113.53569679725372, 80.97388633890994, 49.30204093463513, 105.68533263405392, 599.5022613360267, 50.024144428917495, 52.29844147812051, 212.30801311226833, 137.64478530556505, 593.7303196175052, 221.37066478746635, 222.8708558898873, 140.40411707578684], \"Category\": [\"Default\", \"Default\", \"Default\", \"Default\", \"Default\", \"Default\", \"Default\", \"Default\", \"Default\", \"Default\", \"Default\", \"Default\", \"Default\", \"Default\", \"Default\", \"Default\", \"Default\", \"Default\", \"Default\", \"Default\", \"Default\", \"Default\", \"Default\", \"Default\", \"Default\", \"Default\", \"Default\", \"Default\", \"Default\", \"Default\", \"Topic1\", \"Topic1\", \"Topic1\", \"Topic1\", \"Topic1\", \"Topic1\", \"Topic1\", \"Topic1\", \"Topic1\", \"Topic1\", \"Topic1\", \"Topic1\", \"Topic1\", \"Topic1\", \"Topic1\", \"Topic1\", \"Topic1\", \"Topic1\", \"Topic1\", \"Topic1\", \"Topic1\", \"Topic1\", \"Topic1\", \"Topic1\", \"Topic1\", \"Topic1\", \"Topic1\", \"Topic1\", \"Topic1\", \"Topic1\", \"Topic1\", \"Topic1\", \"Topic1\", \"Topic1\", \"Topic1\", \"Topic1\", \"Topic1\", \"Topic1\", \"Topic1\", \"Topic1\", \"Topic1\", \"Topic1\", \"Topic1\", \"Topic1\", \"Topic1\", \"Topic1\", \"Topic1\", \"Topic1\", \"Topic1\", \"Topic1\", \"Topic1\", \"Topic1\", \"Topic1\", \"Topic1\", \"Topic1\", \"Topic1\", \"Topic1\", \"Topic1\", \"Topic1\", \"Topic2\", \"Topic2\", \"Topic2\", \"Topic2\", \"Topic2\", \"Topic2\", \"Topic2\", \"Topic2\", \"Topic2\", \"Topic2\", \"Topic2\", \"Topic2\", \"Topic2\", \"Topic2\", \"Topic2\", \"Topic2\", \"Topic2\", \"Topic2\", \"Topic2\", \"Topic2\", \"Topic2\", \"Topic2\", \"Topic2\", \"Topic2\", \"Topic2\", \"Topic2\", \"Topic2\", \"Topic2\", \"Topic2\", \"Topic2\", \"Topic2\", \"Topic2\", \"Topic2\", \"Topic2\", \"Topic2\", \"Topic2\", \"Topic2\", \"Topic2\", \"Topic2\", \"Topic2\", \"Topic2\", \"Topic2\", \"Topic2\", \"Topic2\", \"Topic2\", \"Topic2\", \"Topic2\", \"Topic2\", \"Topic2\", \"Topic2\", \"Topic2\", \"Topic2\", \"Topic2\", \"Topic2\", \"Topic2\", \"Topic2\", \"Topic2\", \"Topic2\", \"Topic2\", \"Topic2\", \"Topic2\", \"Topic2\", \"Topic2\", \"Topic2\", \"Topic2\", \"Topic3\", \"Topic3\", \"Topic3\", \"Topic3\", \"Topic3\", \"Topic3\", \"Topic3\", \"Topic3\", \"Topic3\", \"Topic3\", \"Topic3\", \"Topic3\", \"Topic3\", \"Topic3\", \"Topic3\", \"Topic3\", \"Topic3\", \"Topic3\", \"Topic3\", \"Topic3\", \"Topic3\", \"Topic3\", \"Topic3\", \"Topic3\", \"Topic3\", \"Topic3\", \"Topic3\", \"Topic3\", \"Topic3\", \"Topic3\", \"Topic3\", \"Topic3\", \"Topic3\", \"Topic3\", \"Topic3\", \"Topic3\", \"Topic3\", \"Topic3\", \"Topic3\", \"Topic3\", \"Topic3\", \"Topic3\", \"Topic3\", \"Topic3\", \"Topic3\", \"Topic3\", \"Topic3\", \"Topic3\", \"Topic3\", \"Topic3\", \"Topic3\", \"Topic3\", \"Topic3\", \"Topic3\", \"Topic3\", \"Topic3\", \"Topic3\", \"Topic3\", \"Topic3\", \"Topic3\", \"Topic3\", \"Topic3\", \"Topic3\", \"Topic3\", \"Topic3\", \"Topic3\", \"Topic3\", \"Topic4\", \"Topic4\", \"Topic4\", \"Topic4\", \"Topic4\", \"Topic4\", \"Topic4\", \"Topic4\", \"Topic4\", \"Topic4\", \"Topic4\", \"Topic4\", \"Topic4\", \"Topic4\", \"Topic4\", \"Topic4\", \"Topic4\", \"Topic4\", \"Topic4\", \"Topic4\", \"Topic4\", \"Topic4\", \"Topic4\", \"Topic4\", \"Topic4\", \"Topic4\", \"Topic4\", \"Topic4\", \"Topic4\", \"Topic4\", \"Topic4\", \"Topic4\", \"Topic4\", \"Topic4\", \"Topic4\", \"Topic4\", \"Topic4\", \"Topic4\", \"Topic4\", \"Topic4\", \"Topic4\", \"Topic4\", \"Topic4\", \"Topic4\", \"Topic4\", \"Topic4\", \"Topic4\", \"Topic4\", \"Topic4\", \"Topic4\", \"Topic4\", \"Topic4\", \"Topic4\", \"Topic4\", \"Topic4\", \"Topic4\", \"Topic4\", \"Topic4\", \"Topic4\", \"Topic4\", \"Topic4\", \"Topic4\", \"Topic4\", \"Topic4\", \"Topic4\", \"Topic4\", \"Topic4\", \"Topic4\"], \"logprob\": [30.0, 29.0, 28.0, 27.0, 26.0, 25.0, 24.0, 23.0, 22.0, 21.0, 20.0, 19.0, 18.0, 17.0, 16.0, 15.0, 14.0, 13.0, 12.0, 11.0, 10.0, 9.0, 8.0, 7.0, 6.0, 5.0, 4.0, 3.0, 2.0, 1.0, -3.6327, -4.0635, -4.4015, -5.1853, -5.2753, -5.3717, -5.4303, -5.6184, -5.572, -5.6619, -3.5829, -5.8901, -5.7866, -6.1748, -6.0871, -4.1437, -6.2666, -6.3789, -6.0494, -6.4213, -6.4201, -6.4751, -6.4835, -5.423, -6.3841, -6.567, -6.0817, -6.3391, -6.6266, -6.6266, -5.1017, -6.4856, -6.0441, -6.0702, -5.7386, -5.9289, -4.5367, -5.1073, -5.0054, -2.9931, -4.5637, -5.1506, -5.1174, -4.8738, -5.7461, -4.4516, -5.4877, -4.7903, -5.3324, -5.2301, -5.4431, -4.9504, -5.2433, -5.2709, -5.1209, -5.2933, -5.35, -5.3489, -5.4079, -4.6452, -4.4001, -4.8585, -5.0684, -5.5711, -5.5659, -5.8433, -5.9473, -5.9404, -6.1465, -6.2355, -6.407, -6.5224, -6.1802, -6.5754, -6.6237, -6.4259, -6.6408, -6.5625, -6.6165, -6.6495, -5.2041, -6.664, -6.7385, -6.7476, -6.6963, -6.7662, -6.8047, -6.8066, -6.8526, -5.8418, -5.8309, -4.5736, -3.123, -5.8404, -5.7767, -5.5977, -3.2821, -3.2966, -3.5008, -6.0755, -6.2444, -5.6125, -5.1074, -5.9642, -5.3022, -4.0751, -5.1705, -4.8153, -4.956, -4.5956, -4.904, -4.7784, -4.9956, -4.676, -4.9994, -4.9491, -5.2251, -5.5377, -5.0375, -5.1719, -5.4297, -4.9513, -5.4148, -5.3656, -4.7706, -4.7863, -5.773, -5.8906, -6.1472, -6.1847, -6.2643, -6.1016, -6.4229, -6.4804, -6.5582, -6.4457, -6.5999, -6.6121, -6.6444, -5.4558, -6.7283, -6.7263, -6.7508, -6.78, -6.8394, -6.8434, -6.8962, -6.6485, -6.922, -6.9316, -6.8922, -6.9825, -7.0021, -6.9967, -4.5011, -6.4526, -4.2985, -5.2013, -5.0381, -5.5942, -5.6761, -6.0516, -4.457, -5.6762, -4.4709, -6.315, -6.0334, -5.9509, -4.833, -5.1757, -5.1336, -4.9516, -5.6966, -3.8416, -3.9713, -3.8566, -5.0985, -5.1898, -5.092, -5.2024, -4.7627, -5.1162, -5.151, -4.0492, -5.0902, -4.708, -5.2643, -5.189, -5.2492, -5.3047, -5.2639, -5.6871, -5.7815, -5.7832, -5.8473, -5.8438, -5.8371, -5.5241, -5.83, -5.8388, -5.8935, -5.9369, -5.9745, -6.0046, -6.111, -6.1425, -5.9485, -6.1605, -6.1672, -6.1488, -6.1981, -6.1212, -6.0554, -6.3125, -6.3478, -6.3145, -6.3732, -6.3867, -6.3831, -6.4047, -6.3993, -5.6362, -6.1485, -6.1223, -4.0735, -6.0682, -4.3278, -5.3004, -5.347, -5.5195, -5.8868, -5.3998, -5.228, -5.2949, -5.6865, -5.4057, -5.8088, -4.3417, -4.8669, -5.5394, -5.1427, -5.358, -5.2918, -5.1305, -4.7911, -4.4764, -5.2966, -5.446, -5.5986, -5.4119, -5.1465, -5.6471, -5.6522, -5.4565, -5.5168, -5.389, -5.5344, -5.5478, -5.5858], \"loglift\": [30.0, 29.0, 28.0, 27.0, 26.0, 25.0, 24.0, 23.0, 22.0, 21.0, 20.0, 19.0, 18.0, 17.0, 16.0, 15.0, 14.0, 13.0, 12.0, 11.0, 10.0, 9.0, 8.0, 7.0, 6.0, 5.0, 4.0, 3.0, 2.0, 1.0, 1.0908, 1.0872, 1.0856, 1.0827, 1.0818, 1.0806, 1.0798, 1.077, 1.077, 1.0748, 1.0702, 1.0687, 1.0684, 1.065, 1.0645, 1.0637, 1.0626, 1.0589, 1.0583, 1.0571, 1.0569, 1.0555, 1.0542, 1.0537, 1.0537, 1.0518, 1.0514, 1.0512, 1.0496, 1.0496, 1.0375, 1.0481, 1.0385, 1.0381, 1.026, 1.0327, 0.9122, 0.943, 0.9187, 0.704, 0.8405, 0.8877, 0.8721, 0.8036, 0.96, 0.6088, 0.8907, 0.6068, 0.7798, 0.685, 0.7414, 0.2329, 0.3733, 0.3103, -0.5008, -0.1586, -0.2085, -0.2269, 0.0228, 1.3873, 1.3866, 1.3851, 1.3829, 1.3749, 1.3747, 1.3684, 1.3656, 1.3643, 1.3564, 1.3555, 1.3474, 1.3424, 1.3408, 1.3402, 1.3381, 1.3376, 1.3369, 1.3365, 1.3358, 1.3356, 1.3355, 1.3326, 1.3314, 1.3302, 1.3297, 1.3294, 1.3264, 1.326, 1.3235, 1.3231, 1.3195, 1.2903, 1.1474, 1.2646, 1.2565, 1.2107, 0.8727, 0.8486, 0.8182, 1.2431, 1.2646, 1.1316, 1.0141, 1.1754, 0.9594, 0.545, 0.8926, 0.7518, 0.795, 0.539, 0.6928, 0.6022, 0.6877, 0.4654, 0.3073, 0.1728, 0.4749, 0.8992, 0.0228, 0.0113, 0.6125, -1.2542, 0.3943, 0.0505, 1.389, 1.3888, 1.3726, 1.3632, 1.3598, 1.3592, 1.3574, 1.3572, 1.3511, 1.3473, 1.3442, 1.3423, 1.3414, 1.3397, 1.3395, 1.338, 1.3351, 1.3348, 1.3319, 1.331, 1.3263, 1.3253, 1.3233, 1.3221, 1.3205, 1.3205, 1.3192, 1.3155, 1.3152, 1.3142, 1.2813, 1.3041, 1.2331, 1.2334, 1.1995, 1.2278, 1.2268, 1.2528, 1.0586, 1.1863, 1.0134, 1.2569, 1.1917, 1.1689, 0.8819, 0.9553, 0.9053, 0.8046, 1.0419, 0.3132, 0.3477, 0.2886, 0.7802, 0.7749, 0.6687, 0.6784, 0.3592, 0.5828, 0.6062, -0.3521, 0.4572, -0.0878, 0.48, 0.2418, 0.1669, 0.0759, -0.1224, 1.7375, 1.7369, 1.7366, 1.7344, 1.7343, 1.7341, 1.7337, 1.7329, 1.7325, 1.7324, 1.7309, 1.729, 1.728, 1.7234, 1.7219, 1.7209, 1.7209, 1.7202, 1.7198, 1.7189, 1.7148, 1.7142, 1.7127, 1.7113, 1.71, 1.708, 1.7078, 1.7072, 1.7072, 1.7072, 1.7049, 1.707, 1.7046, 1.6204, 1.6933, 1.5962, 1.5944, 1.5819, 1.5628, 1.6397, 1.4908, 1.4317, 1.4186, 1.4887, 1.2434, 1.4835, -0.0713, 0.4398, 1.1114, 0.5406, 0.8242, 0.7132, 0.4366, -0.1709, -0.7793, 0.5126, 0.7012, 1.0447, 0.4689, -1.0014, 0.9816, 0.9321, -0.2733, 0.0998, -1.2341, -0.3929, -0.4131, 0.0109]}, \"token.table\": {\"Topic\": [4, 2, 3, 1, 2, 3, 4, 1, 2, 3, 4, 1, 2, 3, 4, 4, 2, 1, 2, 3, 4, 3, 2, 2, 1, 4, 1, 3, 4, 4, 2, 1, 2, 3, 4, 1, 3, 4, 1, 3, 4, 2, 4, 2, 1, 2, 3, 4, 1, 3, 4, 1, 3, 4, 1, 2, 1, 1, 1, 2, 3, 4, 3, 1, 1, 2, 3, 4, 1, 1, 2, 3, 4, 1, 2, 1, 3, 3, 4, 4, 2, 4, 2, 3, 4, 3, 1, 1, 4, 3, 4, 1, 2, 3, 4, 1, 2, 3, 4, 1, 4, 4, 1, 2, 4, 1, 1, 1, 4, 1, 3, 4, 4, 3, 4, 1, 3, 2, 4, 4, 2, 3, 1, 2, 3, 4, 4, 1, 2, 3, 4, 4, 3, 3, 4, 4, 1, 2, 3, 4, 2, 2, 3, 4, 4, 2, 1, 2, 3, 4, 3, 3, 1, 2, 3, 4, 1, 1, 1, 1, 1, 3, 4, 1, 2, 3, 4, 2, 3, 2, 1, 2, 4, 2, 2, 1, 2, 3, 4, 3, 1, 2, 3, 4, 1, 4, 2, 4, 1, 3, 1, 2, 3, 4, 1, 2, 3, 4, 3, 1, 2, 3, 4, 1, 2, 3, 4, 1, 2, 4, 1, 1, 2, 3, 4, 1, 2, 3, 2, 3, 1, 2, 3, 4, 1, 2, 3, 4, 1, 2, 3, 4, 4, 1, 3, 1, 2, 3, 4, 1, 2, 3, 4, 3, 4, 1, 2, 3, 4, 1, 3, 1, 2, 3, 4, 1, 2, 3, 4, 1, 4, 4, 2, 3, 4, 4, 1, 4, 4, 3, 1, 1, 2, 3, 4, 3, 4, 1, 2, 2, 3, 4, 2, 2, 3, 2, 3, 4, 1, 2, 3, 3, 1, 2, 3, 4, 2, 1, 2, 3, 4, 1, 2, 3, 4, 4, 1, 2, 3, 4, 1, 2, 3, 4, 1, 1, 2, 3, 4, 3, 1, 2, 3, 4, 1, 3, 4, 1, 1, 2, 3, 4, 1, 2, 3, 4, 1, 2, 1, 3, 4, 3, 1, 3, 1, 2, 3, 4, 2, 3, 4, 2, 4, 3, 4, 1, 2, 3, 4, 1, 2, 4, 2, 1, 2, 3, 4, 2, 3, 1, 2, 4, 1, 2, 3, 4, 2, 2, 3, 4, 3, 4, 3, 1, 2, 3, 1, 2, 3, 4, 1, 2, 3, 4, 3, 1, 2, 3, 4, 3, 1, 2, 3, 4, 4, 1, 4, 4, 2, 4, 2, 2, 3, 4, 1, 2, 1, 2, 3, 4, 4, 1, 1, 2, 3, 4, 1, 2, 3, 4, 1, 2, 3, 4, 1, 2, 3, 4, 1, 3, 4, 3, 1, 2, 3, 4, 4, 1, 2, 3, 4, 3, 2, 3, 4, 4, 1, 2, 3, 4, 1, 2, 3, 4, 3, 1, 2, 3, 4, 1, 2, 3, 3, 2, 3, 4, 4, 1, 2, 3, 4, 3, 1, 2, 4, 1, 2, 3, 4, 2], \"Freq\": [0.9148904964826605, 0.9393294439471668, 0.968104153528175, 0.23605494974868502, 0.10386417788942141, 0.5382052854270019, 0.1133063758793688, 0.17093515845440177, 0.49856087882533845, 0.15669056191653494, 0.17093515845440177, 0.6658621324701961, 0.04896045091692618, 0.08812881165046713, 0.19584180366770473, 0.9686321396958815, 0.9668360180516983, 0.4558000839224314, 0.15427079763528445, 0.3085415952705689, 0.08414770780106426, 0.9121292376021286, 0.9419027247647432, 0.9876709893581107, 0.9828888827487804, 0.974640810586839, 0.013346165089747711, 0.8474814831989796, 0.14013473344235097, 0.981399581178472, 0.9327114658303095, 0.28716181729754814, 0.426255822551048, 0.1749892324156934, 0.11217258488185475, 0.8354410843233802, 0.12285898298873237, 0.04300064404605633, 0.8093122028197184, 0.07781848104035753, 0.10894587345650054, 0.06624325880174986, 0.9274056232244979, 0.9418412091004462, 0.22638782086066558, 0.10290355493666617, 0.5350984856706641, 0.13377462141766602, 0.14448036017078966, 0.7092672226566038, 0.13791307107211742, 0.13809933342171216, 0.10357450006628412, 0.7595463338194168, 0.04878861342790364, 0.9269836551301691, 0.9963336716695935, 0.9804319907773756, 0.9817982751818735, 0.950803550793717, 0.03656936733821989, 0.018284683669109944, 0.962685603513841, 0.968685572694731, 0.25058278232015874, 0.12529139116007937, 0.5512821211043493, 0.07517483469604763, 0.9427108464747925, 0.3188577424447549, 0.1006919186667647, 0.4782866136671323, 0.09230092544453432, 0.9600108432667422, 0.0331038221816118, 0.9440574636811105, 0.03146858212270368, 0.09810786357025345, 0.8829707721322809, 0.9745924657905221, 0.8690485926106746, 0.0965609547345194, 0.9509412279603174, 0.8918048185791507, 0.102900555989902, 0.9719957431908666, 0.9942006313647298, 0.18876229662626054, 0.8179699520471291, 0.971238000060459, 0.9368711213149058, 0.020211196234227482, 0.5928617562040062, 0.33853753692331034, 0.048843724232716414, 0.48676017657525567, 0.2252173951318347, 0.10171108167244149, 0.18889200882024845, 0.9480256508204294, 0.05576621475414291, 0.9629175079165722, 0.9698832191970883, 0.02412644823873354, 0.004825289647746708, 0.985132004502227, 0.9666242568822223, 0.9681532901637551, 0.03227177633879184, 0.10887345415740585, 0.7984053304876428, 0.0725823027716039, 0.9732156993904035, 0.040755359088189516, 0.9373732590283589, 0.9791213832634561, 0.9549255434321646, 0.8676459029730706, 0.09640510033034118, 0.9424156618066717, 0.9904178323093243, 0.00861232897660282, 0.29715658909620657, 0.29715658909620657, 0.39620878546160876, 0.00825434969711685, 0.9620725618498356, 0.04814819260672783, 0.6861117446458715, 0.1925927704269113, 0.07222228891009173, 0.9645577437100207, 0.9324409843368492, 0.8829183650047864, 0.9669060066984473, 0.9344603231770097, 0.09693170212723444, 0.6508271428542884, 0.11077908814541079, 0.15232124619993984, 0.9762316476319083, 0.10266117778749287, 0.8726200111936895, 0.939797515677808, 0.9192308528096316, 0.9243326202006408, 0.24339763167025183, 0.1622650877801679, 0.10141567986260493, 0.48679526334050366, 0.9878753433328668, 0.9906379178920991, 0.6777338964129737, 0.07033087604285576, 0.17369595143917407, 0.0777902113807344, 0.9886002287977272, 0.9902257598355505, 0.9894869577533548, 0.9388301063352664, 0.9388495951933398, 0.0228987706144717, 0.0457975412289434, 0.2824365141496897, 0.3357264224798198, 0.11723779832628628, 0.26644954165065066, 0.9910772144289807, 0.9673541725244093, 0.9582410329400446, 0.026082999815963032, 0.13041499907981516, 0.834655994110817, 0.9633429384512996, 0.92422070753752, 0.7488469115062674, 0.007720071252641931, 0.20844192382133214, 0.03860035626320966, 0.9758084588162041, 0.08988542734291463, 0.5254840367739625, 0.11754248190996529, 0.26274201838698125, 0.26803771386521036, 0.7216399988678741, 0.1334370930245147, 0.8634164842762716, 0.11785167585038109, 0.8642456229027946, 0.10096058136598765, 0.4892705096967094, 0.11649297849921651, 0.2951155455313485, 0.2657990783235777, 0.29237898615593544, 0.3543987710981036, 0.08416970813579959, 0.9483986111436276, 0.2754119911161977, 0.453282235378742, 0.2639364914863561, 0.005737749814920785, 0.7275199792056095, 0.05963278518078766, 0.05963278518078766, 0.15504524147004792, 0.1332708794786354, 0.7996252768718124, 0.0666354397393177, 0.9798147755971113, 0.6165177757064668, 0.2541052994465843, 0.11663849810662885, 0.012496981939995948, 0.9615847974064654, 0.017171157096544026, 0.017171157096544026, 0.9824622285545284, 0.9736478118746145, 0.04167631237089691, 0.5616379238554202, 0.34928718939418363, 0.045645484977649, 0.09560514345521734, 0.19121028691043468, 0.286815430365652, 0.43978365989399976, 0.27103862229263675, 0.3930060023243233, 0.21683089783410942, 0.11293275928859865, 0.9358554168616365, 0.8854718013241049, 0.10798436601513474, 0.9786062009501069, 0.013861277633854205, 0.0027722555267708413, 0.008316766580312523, 0.8017405858558599, 0.031647654704836575, 0.0843937458795642, 0.0843937458795642, 0.03749804331464997, 0.9749491261808991, 0.22437121761761517, 0.5484629763986149, 0.14958081174507679, 0.07479040587253839, 0.9684301746855747, 0.970998239597971, 0.2611385025404266, 0.6017539406366352, 0.12489232730194315, 0.011353847936540287, 0.8196246551507201, 0.05538004426694055, 0.1107600885338811, 0.02215201770677622, 0.9893564352247779, 0.006382944743385664, 0.9383934804161923, 0.14819473472379416, 0.009879648981586277, 0.8397701634348335, 0.9690327545479525, 0.9939989487970877, 0.004559628205491229, 0.9849703045207865, 0.9411035796113699, 0.9686855726947193, 0.343874962763652, 0.21718418700862233, 0.3137104923457878, 0.12669077575502968, 0.062057186030106355, 0.9308577904515953, 0.9417830705619648, 0.9291668812079207, 0.09799301277833972, 0.7839441022267177, 0.09799301277833972, 0.8993423182326982, 0.8686217314493425, 0.11980989399301276, 0.24480491767199486, 0.1632032784479966, 0.5916118843739876, 0.7050790307712947, 0.14101580615425896, 0.15383542489555524, 0.9178444065461606, 0.8398383438528946, 0.009880451104151701, 0.10868496214566871, 0.039521804416606805, 0.9311873724760331, 0.332924358645916, 0.2615834246503626, 0.29130881381517654, 0.11295647882629294, 0.34531918605696116, 0.23021279070464076, 0.051158397934364615, 0.3836879845077346, 0.9605600319073383, 0.15992277511847727, 0.01999034688980966, 0.35982624401657387, 0.45977797846562213, 0.048604716405431805, 0.15796532831765336, 0.6440124923719714, 0.15796532831765336, 0.942520288011954, 0.11524274743183562, 0.016463249633119372, 0.8560889809222074, 0.016463249633119372, 0.9231730518807524, 0.021758445779232284, 0.08703378311692914, 0.19582601201309055, 0.6962702649354331, 0.052589945016504026, 0.8414391202640644, 0.10517989003300805, 0.9732586700072541, 0.056110788066282384, 0.2645222865981884, 0.5931711881292709, 0.08817409553272947, 0.7754986984399619, 0.07637487181605684, 0.09399984223514689, 0.052874911257270125, 0.9364195562666613, 0.032290329526436595, 0.11154157644666053, 0.6915577739692953, 0.17846652231465684, 0.9287801211151697, 0.0617558820631276, 0.9263382309469139, 0.197309298977044, 0.019094448288101033, 0.6810353222756035, 0.10820187363257251, 0.02698640974082248, 0.1349320487041124, 0.8365787019654969, 0.8766651403098147, 0.11954524640588382, 0.23288670243024012, 0.7374745576957604, 0.21126836238375074, 0.45589488724914634, 0.21126836238375074, 0.1223132624326978, 0.9774670889153442, 0.8979394509214367, 0.9753546955509828, 0.9097649399698376, 0.05050758788352048, 0.10101517576704096, 0.8081214061363277, 0.02525379394176024, 0.9830514037908908, 0.9034947716262807, 0.03416935955138193, 0.922572707887312, 0.03416935955138193, 0.04055637747997928, 0.12166913243993785, 0.8246463420929121, 0.013518792493326428, 0.9883249420410195, 0.9928378075295342, 0.8488254590470158, 0.14551293583663127, 0.943060163695472, 0.047153008184773595, 0.8757157884908633, 0.9876916685332656, 0.9364771925079839, 0.9282002868394978, 0.2840282374164736, 0.19724183153921776, 0.44182170264784776, 0.07889673261568711, 0.3595400270830182, 0.08361395978674842, 0.45151538284844145, 0.1003367517440981, 0.9557859044025181, 0.04651416447212015, 0.902374790759131, 0.03721133157769612, 0.00930283289442403, 0.965575725477349, 0.028356857173673512, 0.5788134964273358, 0.3302739835521974, 0.06171786561328941, 0.9665908909635084, 0.9434536657383892, 0.04901058003835788, 0.9638486730641047, 0.9533607574116256, 0.969308896842995, 0.9410712774459926, 0.20777516003110003, 0.025971895003887503, 0.7531849551127376, 0.9778906943368484, 0.9255410490883644, 0.06730480204243247, 0.7627877564809012, 0.1570445380990091, 0.9747322849283376, 0.974691052753909, 0.9575405076400484, 0.20384615612881704, 0.42646761611160405, 0.22530364624763988, 0.14215587203720134, 0.032139170750873546, 0.7807927953006338, 0.02835809183900607, 0.158805314298434, 0.12300666209769907, 0.11354461116710685, 0.4825645974602041, 0.2743994769871749, 0.42391240293133947, 0.24963730394845549, 0.1978257880346251, 0.12717372087940185, 0.863180525605785, 0.07847095687325317, 0.056050683480895126, 0.9301541957069439, 0.19284037125766798, 0.24640714105146463, 0.22498043313394597, 0.34282732668029864, 0.9543683235566922, 0.23049825215216516, 0.2576156935818317, 0.3932029007301641, 0.1220284864334992, 0.9425079620273141, 0.9429970778710514, 0.06735693413364653, 0.9522949166616419, 0.9483044474234773, 0.1358462647323157, 0.33344083161568394, 0.18524490645315775, 0.34579049204589446, 0.3079904771937514, 0.39485958614583516, 0.2369157516875011, 0.05528034206041692, 0.9209860521408811, 0.6125153727130509, 0.21583875038459888, 0.15750395298335593, 0.011666959480248588, 0.2970082463614197, 0.6105169508540295, 0.09900274878713991, 0.9296250335383033, 0.8373808000142576, 0.14355099428815846, 0.023925165714693074, 0.97935761823885, 0.21138726124927898, 0.36992770718623824, 0.13211703828079938, 0.28184968166570534, 0.9622421290844696, 0.04086787714105904, 0.42911270998111994, 0.510848464263238, 0.19948380918978625, 0.0775770369071391, 0.6095338614132358, 0.11082433843877015, 0.9700430227177871], \"Term\": [\"000\", \"absolute\", \"advisory\", \"agent\", \"agent\", \"agent\", \"agent\", \"airline\", \"airline\", \"airline\", \"airline\", \"airport\", \"airport\", \"airport\", \"airport\", \"airway\", \"american\", \"amp\", \"amp\", \"amp\", \"amp\", \"angry\", \"apply\", \"appreciate\", \"arrive\", \"atlanta\", \"attendant\", \"attendant\", \"attendant\", \"austin\", \"automate\", \"bad\", \"bad\", \"bad\", \"bad\", \"bag\", \"bag\", \"bag\", \"baggage\", \"baggage\", \"baggage\", \"birthday\", \"birthday\", \"blue\", \"book\", \"book\", \"book\", \"book\", \"booking\", \"booking\", \"booking\", \"bring\", \"bring\", \"bring\", \"busy\", \"busy\", \"cancel\", \"cancelled\", \"car\", \"care\", \"care\", \"care\", \"carry\", \"ce\", \"change\", \"change\", \"change\", \"change\", \"charlotte\", \"check\", \"check\", \"check\", \"check\", \"chicago\", \"chicago\", \"clt\", \"clt\", \"club\", \"club\", \"companion\", \"company\", \"company\", \"complaint\", \"complaints\", \"complaints\", \"confirmation\", \"connection\", \"cool\", \"cool\", \"correct\", \"cross\", \"customer\", \"customer\", \"customer\", \"customer\", \"day\", \"day\", \"day\", \"day\", \"dca\", \"dca\", \"definitely\", \"delay\", \"delay\", \"delay\", \"deliver\", \"depart\", \"departure\", \"departure\", \"desk\", \"desk\", \"desk\", \"destinationdragon\", \"destinationdragons\", \"destinationdragons\", \"dfw\", \"die\", \"disconnect\", \"disconnect\", \"dividend\", \"dm\", \"dm\", \"don\", \"don\", \"don\", \"don\", \"drink\", \"email\", \"email\", \"email\", \"email\", \"enjoy\", \"enter\", \"especially\", \"excellent\", \"excited\", \"experience\", \"experience\", \"experience\", \"experience\", \"expire\", \"explain\", \"explain\", \"fair\", \"favorite\", \"feedback\", \"finally\", \"finally\", \"finally\", \"finally\", \"fleek\", \"fleet\", \"flight\", \"flight\", \"flight\", \"flight\", \"flighted\", \"flightle\", \"flightled\", \"fll\", \"flt\", \"flt\", \"flt\", \"fly\", \"fly\", \"fly\", \"fly\", \"follow\", \"forever\", \"forward\", \"friend\", \"friend\", \"friend\", \"fuck\", \"future\", \"gate\", \"gate\", \"gate\", \"gate\", \"gold\", \"good\", \"good\", \"good\", \"good\", \"got\", \"got\", \"great\", \"great\", \"guess\", \"guess\", \"guy\", \"guy\", \"guy\", \"guy\", \"help\", \"help\", \"help\", \"help\", \"high\", \"hold\", \"hold\", \"hold\", \"hold\", \"home\", \"home\", \"home\", \"home\", \"horrible\", \"horrible\", \"horrible\", \"hotel\", \"hour\", \"hour\", \"hour\", \"hour\", \"hrs\", \"hrs\", \"hrs\", \"idea\", \"internet\", \"issue\", \"issue\", \"issue\", \"issue\", \"jetblue\", \"jetblue\", \"jetblue\", \"jetblue\", \"just\", \"just\", \"just\", \"just\", \"lady\", \"land\", \"land\", \"late\", \"late\", \"late\", \"late\", \"leave\", \"leave\", \"leave\", \"leave\", \"life\", \"life\", \"like\", \"like\", \"like\", \"like\", \"load\", \"lol\", \"look\", \"look\", \"look\", \"look\", \"lose\", \"lose\", \"lose\", \"lose\", \"lost\", \"lost\", \"lounge\", \"love\", \"love\", \"love\", \"lovely\", \"luggage\", \"luggage\", \"luv\", \"mail\", \"mainte\", \"make\", \"make\", \"make\", \"make\", \"man\", \"man\", \"mechanical\", \"medium\", \"member\", \"member\", \"member\", \"mention\", \"message\", \"message\", \"mile\", \"mile\", \"mile\", \"min\", \"min\", \"min\", \"mind\", \"miss\", \"miss\", \"miss\", \"miss\", \"mobile\", \"need\", \"need\", \"need\", \"need\", \"new\", \"new\", \"new\", \"new\", \"news\", \"nice\", \"nice\", \"nice\", \"nice\", \"number\", \"number\", \"number\", \"number\", \"okay\", \"online\", \"online\", \"online\", \"online\", \"overhead\", \"pass\", \"pass\", \"pass\", \"pass\", \"person\", \"person\", \"person\", \"phl\", \"phone\", \"phone\", \"phone\", \"phone\", \"plane\", \"plane\", \"plane\", \"plane\", \"pm\", \"pm\", \"point\", \"point\", \"point\", \"pre\", \"probably\", \"probably\", \"problem\", \"problem\", \"problem\", \"problem\", \"question\", \"question\", \"question\", \"quick\", \"quick\", \"real\", \"real\", \"really\", \"really\", \"really\", \"really\", \"rebook\", \"receipt\", \"record\", \"relation\", \"rep\", \"rep\", \"rep\", \"rep\", \"reply\", \"representative\", \"request\", \"request\", \"request\", \"reservation\", \"reservation\", \"reservation\", \"reservation\", \"respond\", \"response\", \"rt\", \"rt\", \"rude\", \"rude\", \"rule\", \"runway\", \"safe\", \"save\", \"say\", \"say\", \"say\", \"say\", \"seat\", \"seat\", \"seat\", \"seat\", \"sell\", \"send\", \"send\", \"send\", \"send\", \"sense\", \"service\", \"service\", \"service\", \"service\", \"set\", \"sit\", \"sit\", \"snack\", \"social\", \"son\", \"sound\", \"southwest\", \"southwest\", \"southwest\", \"strand\", \"submit\", \"suck\", \"suck\", \"suck\", \"supervisor\", \"swa\", \"tarmac\", \"tell\", \"tell\", \"tell\", \"tell\", \"thank\", \"thank\", \"thank\", \"thank\", \"ticket\", \"ticket\", \"ticket\", \"ticket\", \"time\", \"time\", \"time\", \"time\", \"tomorrow\", \"tomorrow\", \"tomorrow\", \"train\", \"travel\", \"travel\", \"travel\", \"travel\", \"true\", \"try\", \"try\", \"try\", \"try\", \"tsa\", \"twitter\", \"twitter\", \"unbelievable\", \"unhelpful\", \"use\", \"use\", \"use\", \"use\", \"ve\", \"ve\", \"ve\", \"ve\", \"volume\", \"wait\", \"wait\", \"wait\", \"wait\", \"week\", \"week\", \"week\", \"welcome\", \"wifi\", \"wifi\", \"wifi\", \"wonderful\", \"work\", \"work\", \"work\", \"work\", \"wow\", \"year\", \"year\", \"year\", \"yes\", \"yes\", \"yes\", \"yes\", \"yr\"]}, \"R\": 30, \"lambda.step\": 0.01, \"plot.opts\": {\"xlab\": \"PC1\", \"ylab\": \"PC2\"}, \"topic.order\": [4, 1, 2, 3]};\n",
       "\n",
       "function LDAvis_load_lib(url, callback){\n",
       "  var s = document.createElement('script');\n",
       "  s.src = url;\n",
       "  s.async = true;\n",
       "  s.onreadystatechange = s.onload = callback;\n",
       "  s.onerror = function(){console.warn(\"failed to load library \" + url);};\n",
       "  document.getElementsByTagName(\"head\")[0].appendChild(s);\n",
       "}\n",
       "\n",
       "if(typeof(LDAvis) !== \"undefined\"){\n",
       "   // already loaded: just create the visualization\n",
       "   !function(LDAvis){\n",
       "       new LDAvis(\"#\" + \"ldavis_el2022829073145222569148481086\", ldavis_el2022829073145222569148481086_data);\n",
       "   }(LDAvis);\n",
       "}else if(typeof define === \"function\" && define.amd){\n",
       "   // require.js is available: use it to load d3/LDAvis\n",
       "   require.config({paths: {d3: \"https://d3js.org/d3.v5\"}});\n",
       "   require([\"d3\"], function(d3){\n",
       "      window.d3 = d3;\n",
       "      LDAvis_load_lib(\"https://cdn.jsdelivr.net/gh/bmabey/pyLDAvis@3.3.1/pyLDAvis/js/ldavis.v3.0.0.js\", function(){\n",
       "        new LDAvis(\"#\" + \"ldavis_el2022829073145222569148481086\", ldavis_el2022829073145222569148481086_data);\n",
       "      });\n",
       "    });\n",
       "}else{\n",
       "    // require.js not available: dynamically load d3 & LDAvis\n",
       "    LDAvis_load_lib(\"https://d3js.org/d3.v5.js\", function(){\n",
       "         LDAvis_load_lib(\"https://cdn.jsdelivr.net/gh/bmabey/pyLDAvis@3.3.1/pyLDAvis/js/ldavis.v3.0.0.js\", function(){\n",
       "                 new LDAvis(\"#\" + \"ldavis_el2022829073145222569148481086\", ldavis_el2022829073145222569148481086_data);\n",
       "            })\n",
       "         });\n",
       "}\n",
       "</script>"
      ],
      "text/plain": [
       "PreparedData(topic_coordinates=              x         y  topics  cluster       Freq\n",
       "topic                                                \n",
       "3     -0.209778 -0.017193       1        1  33.512349\n",
       "0      0.126768 -0.101042       2        1  24.772504\n",
       "1      0.025097 -0.071754       3        1  24.707359\n",
       "2      0.057913  0.189989       4        1  17.007788, topic_info=          Term        Freq       Total Category  logprob  loglift\n",
       "2070     thank  528.000000  528.000000  Default  30.0000  30.0000\n",
       "415     cancel  336.000000  336.000000  Default  29.0000  29.0000\n",
       "1241      late  360.000000  360.000000  Default  28.0000  28.0000\n",
       "614   customer  593.000000  593.000000  Default  27.0000  27.0000\n",
       "1882   service  599.000000  599.000000  Default  26.0000  26.0000\n",
       "...        ...         ...         ...      ...      ...      ...\n",
       "638        day   25.867280  137.644785   Topic4  -5.5168   0.0998\n",
       "614   customer   29.394674  593.730320   Topic4  -5.3890  -1.2341\n",
       "1209      just   25.416355  221.370665   Topic4  -5.5344  -0.3929\n",
       "292        bad   25.078595  222.870856   Topic4  -5.5478  -0.4131\n",
       "180    airline   24.141631  140.404117   Topic4  -5.5858   0.0109\n",
       "\n",
       "[289 rows x 6 columns], token_table=      Topic      Freq      Term\n",
       "term                           \n",
       "1         4  0.914890       000\n",
       "131       2  0.939329  absolute\n",
       "163       3  0.968104  advisory\n",
       "169       1  0.236055     agent\n",
       "169       2  0.103864     agent\n",
       "...     ...       ...       ...\n",
       "2311      1  0.199484       yes\n",
       "2311      2  0.077577       yes\n",
       "2311      3  0.609534       yes\n",
       "2311      4  0.110824       yes\n",
       "2316      2  0.970043        yr\n",
       "\n",
       "[490 rows x 3 columns], R=30, lambda_step=0.01, plot_opts={'xlab': 'PC1', 'ylab': 'PC2'}, topic_order=[4, 1, 2, 3])"
      ]
     },
     "execution_count": 24,
     "metadata": {},
     "output_type": "execute_result"
    }
   ],
   "source": [
    "import pyLDAvis\n",
    "import pyLDAvis.sklearn\n",
    "# Enable automatic D3 display of prepared model data in the IPython notebook.\n",
    "pyLDAvis.enable_notebook()\n",
    "\n",
    "# Visualize topic model with default mds='pcoa'\n",
    "# the first argument is easy to set; but for the 2nd and 3rd make sure that we don't mess them up\n",
    "# the 2nd is the numberical matrix; the 3rd is the TfidfVectorizer object\n",
    "pyLDAvis.sklearn.prepare(lda_model = lda_tf_idf, dtm = document_word_matrix_tf_idf, vectorizer = tfidf_vectorizer)"
   ]
  },
  {
   "cell_type": "markdown",
   "metadata": {},
   "source": [
    "\n",
    "\n",
    "**The left panel**, labeled Intertopic Distance Map:\n",
    "+ Circles represent different topics and the distance between them. Similar topics appear closer and dissimilar topics farther. \n",
    "+ The relative size of a topic's circle in the plot corresponds to the relative frequency of the topic in the corpus. \n",
    "+ An individual topic may be selected for closer scrutiny by clicking on its circle or entering its number in the \"selected topic\" box in the upper-left.\n",
    "\n",
    "**The right panel**, including the bar chart of the top 30 terms. \n",
    "+ When no topic is selected in the plot on the left, the bar chart shows the top-30 most \"salient\" terms in the corpus. \n",
    "+ A term's saliency is a measure of both how frequent the term is in the corpus and how \"distinctive\" it is in distinguishing between different topics. Global view before we select any topic( in other words, it consider all the topics0\n",
    "$$ \\text{saliency(term w)}= \\text{freqency(w)}*\\sum_tp(t|w)*log(p(t|w)/p(t))$$\n",
    "+ Selecting each topic on the left, modifies the bar chart to show the \"relevant\" terms for the selected topic. It is used to rank\n",
    "terms within topics.\n",
    "Relevance is defined as in footer 2. It is the local view for a given topic\n",
    "\n",
    "$$ \\text{relevance(term w| topic t)}= \\lambda*p(w|t)+(1-\\lambda)*p(w|t)/p(w)$$\n",
    "\n",
    "Where $ \\lambda$ determines the weight given to the probability of term w under topic t relative to its lift\n",
    "(measuring both on the log scale). Setting $\\lambda =1$\n",
    "results in the familiar ranking of terms in decreasing order of their topic-specific probability, and\n",
    "setting $\\lambda =0$  ranks terms solely by their lift.\n",
    "\n",
    "It can be tuned by the parameter $\\lambda$.\n",
    "+ Smaller $\\lambda$, gives higher weight to the term's distinctiveness \n",
    "+ While larger $\\lambda$, corresponds to the probability of the term occurrence per topic.\n",
    "\n",
    "Therefore, to get a better sense of terms per topic, we'll use $\\lambda =0$. "
   ]
  },
  {
   "cell_type": "markdown",
   "metadata": {},
   "source": [
    "### Use Different Multidimensional Scaling (MDS) Functions\n",
    "\n",
    "With sklearn installed, other MDS functions, such as MMDS and TSNE can be used for plotting if the default PCoA is not satisfactory.\n",
    "\n",
    "\n",
    "+ **Metric Multidimensional Scaling (MMDS)**\n",
    "\n",
    "    https://scikit-learn.org/stable/modules/manifold.html#multidimensional-scaling\n",
    "\n",
    "+ **t-distributed Stochastic Neighbor Embedding (TSNE)**\n",
    "\n",
    "    https://scikit-learn.org/stable/modules/manifold.html#t-distributed-stochastic-neighbor-embedding-t-sne"
   ]
  },
  {
   "cell_type": "code",
   "execution_count": 25,
   "metadata": {},
   "outputs": [
    {
     "data": {
      "text/html": [
       "\n",
       "<link rel=\"stylesheet\" type=\"text/css\" href=\"https://cdn.jsdelivr.net/gh/bmabey/pyLDAvis@3.3.1/pyLDAvis/js/ldavis.v1.0.0.css\">\n",
       "\n",
       "\n",
       "<div id=\"ldavis_el20228290731452236866024965\"></div>\n",
       "<script type=\"text/javascript\">\n",
       "\n",
       "var ldavis_el20228290731452236866024965_data = {\"mdsDat\": {\"x\": [0.1840322012311181, 0.06024496828770531, -0.13693775130407432, -0.1073394182147491], \"y\": [0.09830907394650776, -0.18049315173792785, -0.084235123276203, 0.1664192010676231], \"topics\": [1, 2, 3, 4], \"cluster\": [1, 1, 1, 1], \"Freq\": [33.512348861316376, 24.772503528049654, 24.70735934785015, 17.00778826278383]}, \"tinfo\": {\"Term\": [\"thank\", \"cancel\", \"late\", \"customer\", \"service\", \"luggage\", \"issue\", \"delay\", \"great\", \"lost\", \"dm\", \"flight\", \"attendant\", \"love\", \"follow\", \"complaints\", \"fleek\", \"send\", \"fleet\", \"response\", \"booking\", \"bag\", \"problem\", \"appreciate\", \"flightled\", \"sit\", \"flightle\", \"care\", \"flighted\", \"reservation\", \"cancel\", \"luggage\", \"lost\", \"flightled\", \"flightle\", \"flighted\", \"connection\", \"arrive\", \"dfw\", \"hotel\", \"late\", \"phl\", \"rebook\", \"tarmac\", \"strand\", \"delay\", \"depart\", \"runway\", \"departure\", \"car\", \"cancelled\", \"deliver\", \"okay\", \"hrs\", \"charlotte\", \"load\", \"chicago\", \"mechanical\", \"ce\", \"mainte\", \"sit\", \"fll\", \"clt\", \"pm\", \"flt\", \"dca\", \"bag\", \"tomorrow\", \"miss\", \"flight\", \"plane\", \"lose\", \"leave\", \"gate\", \"land\", \"hour\", \"baggage\", \"wait\", \"home\", \"airport\", \"min\", \"time\", \"day\", \"amp\", \"tell\", \"bad\", \"just\", \"help\", \"make\", \"follow\", \"dm\", \"response\", \"appreciate\", \"respond\", \"reply\", \"american\", \"complaint\", \"idea\", \"forward\", \"blue\", \"future\", \"fuck\", \"busy\", \"sound\", \"relation\", \"automate\", \"feedback\", \"submit\", \"expire\", \"mobile\", \"care\", \"apply\", \"medium\", \"safe\", \"yr\", \"social\", \"receipt\", \"mention\", \"absolute\", \"request\", \"twitter\", \"send\", \"thank\", \"company\", \"message\", \"wifi\", \"customer\", \"service\", \"issue\", \"quick\", \"disconnect\", \"suck\", \"email\", \"horrible\", \"experience\", \"tell\", \"look\", \"good\", \"like\", \"bad\", \"airline\", \"hold\", \"guy\", \"just\", \"fly\", \"help\", \"ve\", \"week\", \"hour\", \"time\", \"really\", \"flight\", \"work\", \"need\", \"fleek\", \"fleet\", \"confirmation\", \"lol\", \"wow\", \"high\", \"correct\", \"carry\", \"tsa\", \"save\", \"pre\", \"sell\", \"sense\", \"gold\", \"train\", \"rude\", \"overhead\", \"volume\", \"mail\", \"advisory\", \"welcome\", \"enter\", \"especially\", \"mind\", \"representative\", \"angry\", \"rule\", \"die\", \"internet\", \"forever\", \"complaints\", \"probably\", \"attendant\", \"online\", \"reservation\", \"rt\", \"person\", \"guess\", \"booking\", \"rep\", \"problem\", \"explain\", \"desk\", \"member\", \"phone\", \"number\", \"yes\", \"change\", \"point\", \"customer\", \"issue\", \"service\", \"agent\", \"book\", \"check\", \"ticket\", \"help\", \"say\", \"seat\", \"flight\", \"try\", \"tell\", \"don\", \"make\", \"need\", \"hold\", \"just\", \"swa\", \"destinationdragon\", \"companion\", \"luv\", \"austin\", \"atlanta\", \"life\", \"set\", \"supervisor\", \"record\", \"news\", \"cross\", \"enjoy\", \"excited\", \"definitely\", \"drink\", \"wonderful\", \"000\", \"excellent\", \"dividend\", \"lady\", \"lounge\", \"son\", \"favorite\", \"airway\", \"fair\", \"unbelievable\", \"unhelpful\", \"lovely\", \"snack\", \"destinationdragons\", \"true\", \"birthday\", \"great\", \"man\", \"love\", \"friend\", \"question\", \"cool\", \"club\", \"southwest\", \"got\", \"pass\", \"bring\", \"mile\", \"real\", \"thank\", \"fly\", \"year\", \"guy\", \"new\", \"travel\", \"good\", \"tell\", \"flight\", \"work\", \"use\", \"finally\", \"ticket\", \"service\", \"nice\", \"jetblue\", \"time\", \"day\", \"customer\", \"just\", \"bad\", \"airline\"], \"Freq\": [528.0, 336.0, 360.0, 593.0, 599.0, 219.0, 503.0, 207.0, 127.0, 156.0, 116.0, 938.0, 149.0, 101.0, 90.0, 116.0, 79.0, 107.0, 78.0, 73.0, 152.0, 162.0, 157.0, 59.0, 71.0, 81.0, 65.0, 54.0, 59.0, 73.0, 335.39180015082167, 217.99777588301842, 155.4786022092105, 71.00376185882544, 64.89195865208482, 58.92762299576303, 55.573089551492274, 46.04545615614737, 48.23105186968578, 44.08369317825399, 352.5069745039184, 35.08925162779376, 38.91771320648265, 26.395778030632627, 28.81591745474565, 201.21265355827708, 24.079846481283703, 21.522718076306198, 29.921931486269067, 20.62965896674422, 20.65385285863429, 19.548744775098662, 19.385872240105712, 55.98126178846501, 21.4122830566379, 17.832625175175803, 28.97075900579304, 22.39725835834492, 16.799976618933986, 16.799976618931172, 77.1917288861721, 19.34492875843668, 30.08305801744653, 29.30809246497985, 40.83126535989518, 33.755980639309044, 135.82303565380127, 76.76271335578936, 84.99730000224929, 635.8425503189096, 132.20371574020223, 73.50693356006353, 75.98841929584049, 96.95555825117766, 40.52544175384754, 147.88698964578194, 52.473358090119824, 105.39204359917294, 61.28704320447582, 67.89393934960137, 54.86535648911341, 89.8070392203622, 67.00011780822598, 65.17953334661625, 75.72474154192778, 63.7361847093504, 60.2236554085652, 60.28949156379551, 56.832950705927026, 90.07113204414651, 115.0965690871606, 72.77379479250591, 58.99147012912867, 35.68610883084997, 35.86973369149352, 27.18234438734812, 24.496742586714728, 24.666599142804674, 20.071957231721736, 18.363270434340976, 15.46883609032129, 13.782352098988863, 19.40665073225004, 13.071978373817396, 12.455261919703231, 15.178718950588316, 12.244280661995466, 13.241437876590782, 12.545412275289626, 12.138297141736066, 51.509457674063974, 11.963726913871998, 11.104652088580531, 11.004000348705373, 11.58337012373348, 10.801298639173158, 10.393354728912756, 10.37342671140841, 9.907403026763903, 27.22330630743472, 27.521878689018717, 96.76286150415004, 412.758997937494, 27.259156658402045, 29.054208748443788, 34.74792424477525, 352.0232234558987, 346.97422003514237, 282.89856840908504, 21.54988306445978, 18.201029909621578, 34.23671294437106, 56.737391217638404, 24.087029361819763, 46.69604117023988, 159.28706496220585, 53.27061817762111, 75.98646073861252, 66.01398290967145, 94.65082701006448, 69.53641458279431, 78.84162510653692, 63.44649359816251, 87.3386047693421, 63.20719895495719, 66.4689760611531, 50.43753174266853, 36.89867527575857, 60.84276363334143, 53.19292718457315, 41.10660994399191, 66.32431648480588, 41.72132229290353, 43.82584314608975, 79.2468738200974, 78.01328317078398, 29.085620403620304, 25.85859835500417, 20.0045076226139, 19.269871555842652, 17.794854448137755, 20.939727860859776, 15.184743793757635, 14.33650984595352, 13.262744617210377, 14.842413037718625, 12.72174904158514, 12.567301513564805, 12.167454967131556, 39.9419426404435, 11.188195676937735, 11.211359564884804, 10.939679483820123, 10.62539966672239, 10.012006422000924, 9.971966356319474, 9.459067860885977, 12.117990995378147, 9.218237916659694, 9.130561630989483, 9.497731059044368, 8.677650186849668, 8.50849481258546, 8.55517334912045, 103.7604197946982, 14.740589358637122, 127.0686832299718, 51.517341226470116, 60.646239924295244, 34.776970689385195, 32.0440415302282, 22.012949389950986, 108.44134145959939, 32.042062691420625, 106.94521863855309, 16.915915710186887, 22.41669131959007, 24.34383898799081, 74.45633033203612, 52.85406315043721, 55.127573296075795, 66.1319093327695, 31.394478789607337, 200.6525447269522, 176.25401989429642, 197.67894516735026, 57.094331355341815, 52.11100212113243, 57.4691411387159, 51.45771683798808, 79.87508196805025, 56.09024811833713, 54.17538045867287, 163.04229728175304, 57.569020428944576, 84.3702632521396, 48.3720568673631, 52.15671471526174, 49.10925916750503, 46.45544343973926, 48.39204941318589, 21.81644734722546, 19.851013197142457, 19.817529698344842, 18.5868906732651, 18.65290965737972, 18.77784445902733, 25.68007034751629, 18.912509103396637, 18.74604126237145, 17.74801866586967, 16.99392682365153, 16.367927702430286, 15.881918668533197, 14.27867631391753, 13.836103028532182, 16.798198047976896, 13.589120117650987, 13.498942188005376, 13.749277305464545, 13.087475901048604, 14.13432846731545, 15.094839124441563, 11.673060156355161, 11.267940775886977, 11.649568193114938, 10.984990770210482, 10.83830381133555, 10.877698569103831, 10.644898790815343, 10.70213909751999, 22.955265406426527, 13.753222193860095, 14.118492055374617, 109.5330761040913, 14.902789133538286, 84.93965151750015, 32.11799453059469, 30.6549534990391, 25.798137662741777, 17.86801061138716, 29.078993818065737, 34.52812618545705, 32.292567271701905, 21.829930355523157, 28.906964758441358, 19.31647735107731, 83.76853690008848, 49.544936684112834, 25.290328425593472, 37.600855324059275, 30.320059334762515, 32.3937856066986, 38.064789318653645, 53.44811474803074, 73.21224786713165, 32.23985103408195, 27.7650923640562, 23.83621796087469, 28.727608876013374, 37.45904921748935, 22.70660208830053, 22.591917597586065, 27.474970706742635, 25.86727985266525, 29.39467372293651, 25.416355196373164, 25.078594651192322, 24.141630674300682], \"Total\": [528.0, 336.0, 360.0, 593.0, 599.0, 219.0, 503.0, 207.0, 127.0, 156.0, 116.0, 938.0, 149.0, 101.0, 90.0, 116.0, 79.0, 107.0, 78.0, 73.0, 152.0, 162.0, 157.0, 59.0, 71.0, 81.0, 65.0, 54.0, 59.0, 73.0, 336.23273961887486, 219.31612730960939, 156.66750069178516, 71.75435658212876, 65.64159673122897, 59.680342246887854, 56.326659059881436, 46.8008142195635, 49.02354378168498, 44.906446703853646, 360.71710935132046, 35.96166268905586, 39.89904155573844, 27.152898276940288, 29.65566618840381, 207.24144517769528, 24.828675495285303, 22.274157716314722, 30.986828537168684, 21.389322563344134, 21.41912972805925, 20.301847781410483, 20.15871726228457, 58.23719359024828, 22.276183708427848, 18.58678144332311, 30.207992131962047, 23.359944224599975, 17.549554240504143, 17.549554240504353, 81.61503081313097, 20.237953461214307, 31.77772662590122, 30.969024307456646, 43.67046671789507, 35.86400850079965, 162.78825946194132, 89.20497823553302, 101.20995382283776, 938.4214119526001, 170.2130516344371, 90.28522938514118, 94.79375416534492, 129.53248322128945, 46.30299907765552, 240.05796074639863, 64.25208939001192, 171.42426896963784, 83.8464945892027, 102.12324246122176, 78.00543995732622, 212.30801311226833, 137.64478530556505, 142.60638006170657, 372.83018450430393, 222.8708558898873, 221.37066478746635, 225.73441705827656, 165.75792416494292, 90.81028066199103, 116.11261050485967, 73.52661174501904, 59.73649184364949, 36.42526710461776, 36.62066893061242, 27.926142071546476, 25.238152784139793, 25.44627088288357, 20.871575430908692, 19.111501839245093, 16.229889546584364, 14.532727070701156, 20.496585775648846, 13.814043964109892, 13.190220322622949, 16.08214388856777, 12.98233962293272, 14.045838391289815, 13.316511538562308, 12.886772689036713, 54.69058246216177, 12.74016911140926, 11.838562288939912, 11.746148318402554, 12.370585344121524, 11.538129626674586, 11.136608364559905, 11.119236576847676, 10.645892199417158, 29.26598605093131, 29.69256284782339, 107.49413768352048, 528.949552923295, 31.068458345799016, 33.386224348327005, 41.79699367289538, 593.7303196175052, 599.5022613360267, 503.88335256515074, 25.09510072708625, 20.74579034871403, 44.57334259907106, 83.07684636621383, 30.01405870245824, 72.21579572400022, 372.83018450430393, 88.07586692980823, 144.62856087232862, 120.33629039717016, 222.8708558898873, 140.40411707578684, 174.284350530506, 128.76312541103826, 221.37066478746635, 187.65279043172978, 225.73441705827656, 126.62729171157387, 60.60437789359014, 240.05796074639863, 212.30801311226833, 89.93301119780604, 938.4214119526001, 113.53569679725372, 168.20637645069155, 79.96960399221219, 78.7371436033562, 29.835521609177867, 26.776567597861924, 20.784789394982223, 20.033770375400305, 18.53304751140247, 21.813975324185964, 15.914984917194042, 15.082951598377223, 13.996854265561941, 15.6938912060822, 13.463470193985279, 13.322286646060506, 12.901086782584102, 42.41510938523387, 11.915425799734985, 11.943720509588516, 11.688405227979757, 11.362413806315587, 10.757025294315044, 10.724539319892708, 10.193467886412364, 13.07411137924333, 9.961319403985149, 9.86702281757775, 10.277306996496959, 9.424818575543043, 9.243588790768024, 9.303727895764984, 116.61744569366178, 16.192789522102334, 149.85578153355564, 60.74134950783256, 73.97110359476643, 41.23344749731567, 38.030083495473335, 25.455726262294803, 152.2698308198698, 39.598010592237294, 157.113730375205, 19.481561025336866, 27.554926251009668, 30.614427650938772, 124.75319348092314, 82.29654025001123, 90.2328869350747, 119.72091506937736, 44.82633435247361, 593.7303196175052, 503.88335256515074, 599.5022613360267, 105.90754409774569, 97.1783725659884, 119.17540313948581, 105.68533263405392, 225.73441705827656, 126.74796114448587, 119.59725416072034, 938.4214119526001, 147.50654151405297, 372.83018450430393, 121.14824749299011, 165.75792416494292, 168.20637645069155, 174.284350530506, 221.37066478746635, 22.57125469433706, 20.550428864359123, 20.521398124884314, 19.289921648190187, 19.360106081545965, 19.494361198111484, 26.668058159965746, 19.656713277176234, 19.49253173798063, 18.454824775136505, 17.698008906579123, 17.078122738529796, 16.587913066208458, 14.98190950729971, 14.53914783447158, 17.670184842724403, 14.295084593486685, 14.209350791137421, 14.479173676667658, 13.794337813824274, 14.959575750438658, 15.984765786466529, 12.37995445939223, 11.966526108624912, 12.388603999623225, 11.70464894458302, 11.551043492452443, 11.599650333694798, 11.351525475659932, 11.412579907414989, 24.536650452180403, 14.669388803502509, 15.095875687407824, 127.4008569482011, 16.114169268243344, 101.21817099613594, 38.33914837464328, 37.05568875608136, 31.786008685196734, 20.385725743256376, 38.50315888965048, 48.50063751303812, 45.959165013268866, 28.964658270907446, 49.01862313108579, 25.763600658123732, 528.949552923295, 187.65279043172978, 48.93819155560308, 128.76312541103826, 78.18853133618325, 93.34145066516646, 144.62856087232862, 372.83018450430393, 938.4214119526001, 113.53569679725372, 80.97388633890994, 49.30204093463513, 105.68533263405392, 599.5022613360267, 50.024144428917495, 52.29844147812051, 212.30801311226833, 137.64478530556505, 593.7303196175052, 221.37066478746635, 222.8708558898873, 140.40411707578684], \"Category\": [\"Default\", \"Default\", \"Default\", \"Default\", \"Default\", \"Default\", \"Default\", \"Default\", \"Default\", \"Default\", \"Default\", \"Default\", \"Default\", \"Default\", \"Default\", \"Default\", \"Default\", \"Default\", \"Default\", \"Default\", \"Default\", \"Default\", \"Default\", \"Default\", \"Default\", \"Default\", \"Default\", \"Default\", \"Default\", \"Default\", \"Topic1\", \"Topic1\", \"Topic1\", \"Topic1\", \"Topic1\", \"Topic1\", \"Topic1\", \"Topic1\", \"Topic1\", \"Topic1\", \"Topic1\", \"Topic1\", \"Topic1\", \"Topic1\", \"Topic1\", \"Topic1\", \"Topic1\", \"Topic1\", \"Topic1\", \"Topic1\", \"Topic1\", \"Topic1\", \"Topic1\", \"Topic1\", \"Topic1\", \"Topic1\", \"Topic1\", \"Topic1\", \"Topic1\", \"Topic1\", \"Topic1\", \"Topic1\", \"Topic1\", \"Topic1\", \"Topic1\", \"Topic1\", \"Topic1\", \"Topic1\", \"Topic1\", \"Topic1\", \"Topic1\", \"Topic1\", \"Topic1\", \"Topic1\", \"Topic1\", \"Topic1\", \"Topic1\", \"Topic1\", \"Topic1\", \"Topic1\", \"Topic1\", \"Topic1\", \"Topic1\", \"Topic1\", \"Topic1\", \"Topic1\", \"Topic1\", \"Topic1\", \"Topic1\", \"Topic2\", \"Topic2\", \"Topic2\", \"Topic2\", \"Topic2\", \"Topic2\", \"Topic2\", \"Topic2\", \"Topic2\", \"Topic2\", \"Topic2\", \"Topic2\", \"Topic2\", \"Topic2\", \"Topic2\", \"Topic2\", \"Topic2\", \"Topic2\", \"Topic2\", \"Topic2\", \"Topic2\", \"Topic2\", \"Topic2\", \"Topic2\", \"Topic2\", \"Topic2\", \"Topic2\", \"Topic2\", \"Topic2\", \"Topic2\", \"Topic2\", \"Topic2\", \"Topic2\", \"Topic2\", \"Topic2\", \"Topic2\", \"Topic2\", \"Topic2\", \"Topic2\", \"Topic2\", \"Topic2\", \"Topic2\", \"Topic2\", \"Topic2\", \"Topic2\", \"Topic2\", \"Topic2\", \"Topic2\", \"Topic2\", \"Topic2\", \"Topic2\", \"Topic2\", \"Topic2\", \"Topic2\", \"Topic2\", \"Topic2\", \"Topic2\", \"Topic2\", \"Topic2\", \"Topic2\", \"Topic2\", \"Topic2\", \"Topic2\", \"Topic2\", \"Topic2\", \"Topic3\", \"Topic3\", \"Topic3\", \"Topic3\", \"Topic3\", \"Topic3\", \"Topic3\", \"Topic3\", \"Topic3\", \"Topic3\", \"Topic3\", \"Topic3\", \"Topic3\", \"Topic3\", \"Topic3\", \"Topic3\", \"Topic3\", \"Topic3\", \"Topic3\", \"Topic3\", \"Topic3\", \"Topic3\", \"Topic3\", \"Topic3\", \"Topic3\", \"Topic3\", \"Topic3\", \"Topic3\", \"Topic3\", \"Topic3\", \"Topic3\", \"Topic3\", \"Topic3\", \"Topic3\", \"Topic3\", \"Topic3\", \"Topic3\", \"Topic3\", \"Topic3\", \"Topic3\", \"Topic3\", \"Topic3\", \"Topic3\", \"Topic3\", \"Topic3\", \"Topic3\", \"Topic3\", \"Topic3\", \"Topic3\", \"Topic3\", \"Topic3\", \"Topic3\", \"Topic3\", \"Topic3\", \"Topic3\", \"Topic3\", \"Topic3\", \"Topic3\", \"Topic3\", \"Topic3\", \"Topic3\", \"Topic3\", \"Topic3\", \"Topic3\", \"Topic3\", \"Topic3\", \"Topic3\", \"Topic4\", \"Topic4\", \"Topic4\", \"Topic4\", \"Topic4\", \"Topic4\", \"Topic4\", \"Topic4\", \"Topic4\", \"Topic4\", \"Topic4\", \"Topic4\", \"Topic4\", \"Topic4\", \"Topic4\", \"Topic4\", \"Topic4\", \"Topic4\", \"Topic4\", \"Topic4\", \"Topic4\", \"Topic4\", \"Topic4\", \"Topic4\", \"Topic4\", \"Topic4\", \"Topic4\", \"Topic4\", \"Topic4\", \"Topic4\", \"Topic4\", \"Topic4\", \"Topic4\", \"Topic4\", \"Topic4\", \"Topic4\", \"Topic4\", \"Topic4\", \"Topic4\", \"Topic4\", \"Topic4\", \"Topic4\", \"Topic4\", \"Topic4\", \"Topic4\", \"Topic4\", \"Topic4\", \"Topic4\", \"Topic4\", \"Topic4\", \"Topic4\", \"Topic4\", \"Topic4\", \"Topic4\", \"Topic4\", \"Topic4\", \"Topic4\", \"Topic4\", \"Topic4\", \"Topic4\", \"Topic4\", \"Topic4\", \"Topic4\", \"Topic4\", \"Topic4\", \"Topic4\", \"Topic4\", \"Topic4\"], \"logprob\": [30.0, 29.0, 28.0, 27.0, 26.0, 25.0, 24.0, 23.0, 22.0, 21.0, 20.0, 19.0, 18.0, 17.0, 16.0, 15.0, 14.0, 13.0, 12.0, 11.0, 10.0, 9.0, 8.0, 7.0, 6.0, 5.0, 4.0, 3.0, 2.0, 1.0, -3.6327, -4.0635, -4.4015, -5.1853, -5.2753, -5.3717, -5.4303, -5.6184, -5.572, -5.6619, -3.5829, -5.8901, -5.7866, -6.1748, -6.0871, -4.1437, -6.2666, -6.3789, -6.0494, -6.4213, -6.4201, -6.4751, -6.4835, -5.423, -6.3841, -6.567, -6.0817, -6.3391, -6.6266, -6.6266, -5.1017, -6.4856, -6.0441, -6.0702, -5.7386, -5.9289, -4.5367, -5.1073, -5.0054, -2.9931, -4.5637, -5.1506, -5.1174, -4.8738, -5.7461, -4.4516, -5.4877, -4.7903, -5.3324, -5.2301, -5.4431, -4.9504, -5.2433, -5.2709, -5.1209, -5.2933, -5.35, -5.3489, -5.4079, -4.6452, -4.4001, -4.8585, -5.0684, -5.5711, -5.5659, -5.8433, -5.9473, -5.9404, -6.1465, -6.2355, -6.407, -6.5224, -6.1802, -6.5754, -6.6237, -6.4259, -6.6408, -6.5625, -6.6165, -6.6495, -5.2041, -6.664, -6.7385, -6.7476, -6.6963, -6.7662, -6.8047, -6.8066, -6.8526, -5.8418, -5.8309, -4.5736, -3.123, -5.8404, -5.7767, -5.5977, -3.2821, -3.2966, -3.5008, -6.0755, -6.2444, -5.6125, -5.1074, -5.9642, -5.3022, -4.0751, -5.1705, -4.8153, -4.956, -4.5956, -4.904, -4.7784, -4.9956, -4.676, -4.9994, -4.9491, -5.2251, -5.5377, -5.0375, -5.1719, -5.4297, -4.9513, -5.4148, -5.3656, -4.7706, -4.7863, -5.773, -5.8906, -6.1472, -6.1847, -6.2643, -6.1016, -6.4229, -6.4804, -6.5582, -6.4457, -6.5999, -6.6121, -6.6444, -5.4558, -6.7283, -6.7263, -6.7508, -6.78, -6.8394, -6.8434, -6.8962, -6.6485, -6.922, -6.9316, -6.8922, -6.9825, -7.0021, -6.9967, -4.5011, -6.4526, -4.2985, -5.2013, -5.0381, -5.5942, -5.6761, -6.0516, -4.457, -5.6762, -4.4709, -6.315, -6.0334, -5.9509, -4.833, -5.1757, -5.1336, -4.9516, -5.6966, -3.8416, -3.9713, -3.8566, -5.0985, -5.1898, -5.092, -5.2024, -4.7627, -5.1162, -5.151, -4.0492, -5.0902, -4.708, -5.2643, -5.189, -5.2492, -5.3047, -5.2639, -5.6871, -5.7815, -5.7832, -5.8473, -5.8438, -5.8371, -5.5241, -5.83, -5.8388, -5.8935, -5.9369, -5.9745, -6.0046, -6.111, -6.1425, -5.9485, -6.1605, -6.1672, -6.1488, -6.1981, -6.1212, -6.0554, -6.3125, -6.3478, -6.3145, -6.3732, -6.3867, -6.3831, -6.4047, -6.3993, -5.6362, -6.1485, -6.1223, -4.0735, -6.0682, -4.3278, -5.3004, -5.347, -5.5195, -5.8868, -5.3998, -5.228, -5.2949, -5.6865, -5.4057, -5.8088, -4.3417, -4.8669, -5.5394, -5.1427, -5.358, -5.2918, -5.1305, -4.7911, -4.4764, -5.2966, -5.446, -5.5986, -5.4119, -5.1465, -5.6471, -5.6522, -5.4565, -5.5168, -5.389, -5.5344, -5.5478, -5.5858], \"loglift\": [30.0, 29.0, 28.0, 27.0, 26.0, 25.0, 24.0, 23.0, 22.0, 21.0, 20.0, 19.0, 18.0, 17.0, 16.0, 15.0, 14.0, 13.0, 12.0, 11.0, 10.0, 9.0, 8.0, 7.0, 6.0, 5.0, 4.0, 3.0, 2.0, 1.0, 1.0908, 1.0872, 1.0856, 1.0827, 1.0818, 1.0806, 1.0798, 1.077, 1.077, 1.0748, 1.0702, 1.0687, 1.0684, 1.065, 1.0645, 1.0637, 1.0626, 1.0589, 1.0583, 1.0571, 1.0569, 1.0555, 1.0542, 1.0537, 1.0537, 1.0518, 1.0514, 1.0512, 1.0496, 1.0496, 1.0375, 1.0481, 1.0385, 1.0381, 1.026, 1.0327, 0.9122, 0.943, 0.9187, 0.704, 0.8405, 0.8877, 0.8721, 0.8036, 0.96, 0.6088, 0.8907, 0.6068, 0.7798, 0.685, 0.7414, 0.2329, 0.3733, 0.3103, -0.5008, -0.1586, -0.2085, -0.2269, 0.0228, 1.3873, 1.3866, 1.3851, 1.3829, 1.3749, 1.3747, 1.3684, 1.3656, 1.3643, 1.3564, 1.3555, 1.3474, 1.3424, 1.3408, 1.3402, 1.3381, 1.3376, 1.3369, 1.3365, 1.3358, 1.3356, 1.3355, 1.3326, 1.3314, 1.3302, 1.3297, 1.3294, 1.3264, 1.326, 1.3235, 1.3231, 1.3195, 1.2903, 1.1474, 1.2646, 1.2565, 1.2107, 0.8727, 0.8486, 0.8182, 1.2431, 1.2646, 1.1316, 1.0141, 1.1754, 0.9594, 0.545, 0.8926, 0.7518, 0.795, 0.539, 0.6928, 0.6022, 0.6877, 0.4654, 0.3073, 0.1728, 0.4749, 0.8992, 0.0228, 0.0113, 0.6125, -1.2542, 0.3943, 0.0505, 1.389, 1.3888, 1.3726, 1.3632, 1.3598, 1.3592, 1.3574, 1.3572, 1.3511, 1.3473, 1.3442, 1.3423, 1.3414, 1.3397, 1.3395, 1.338, 1.3351, 1.3348, 1.3319, 1.331, 1.3263, 1.3253, 1.3233, 1.3221, 1.3205, 1.3205, 1.3192, 1.3155, 1.3152, 1.3142, 1.2813, 1.3041, 1.2331, 1.2334, 1.1995, 1.2278, 1.2268, 1.2528, 1.0586, 1.1863, 1.0134, 1.2569, 1.1917, 1.1689, 0.8819, 0.9553, 0.9053, 0.8046, 1.0419, 0.3132, 0.3477, 0.2886, 0.7802, 0.7749, 0.6687, 0.6784, 0.3592, 0.5828, 0.6062, -0.3521, 0.4572, -0.0878, 0.48, 0.2418, 0.1669, 0.0759, -0.1224, 1.7375, 1.7369, 1.7366, 1.7344, 1.7343, 1.7341, 1.7337, 1.7329, 1.7325, 1.7324, 1.7309, 1.729, 1.728, 1.7234, 1.7219, 1.7209, 1.7209, 1.7202, 1.7198, 1.7189, 1.7148, 1.7142, 1.7127, 1.7113, 1.71, 1.708, 1.7078, 1.7072, 1.7072, 1.7072, 1.7049, 1.707, 1.7046, 1.6204, 1.6933, 1.5962, 1.5944, 1.5819, 1.5628, 1.6397, 1.4908, 1.4317, 1.4186, 1.4887, 1.2434, 1.4835, -0.0713, 0.4398, 1.1114, 0.5406, 0.8242, 0.7132, 0.4366, -0.1709, -0.7793, 0.5126, 0.7012, 1.0447, 0.4689, -1.0014, 0.9816, 0.9321, -0.2733, 0.0998, -1.2341, -0.3929, -0.4131, 0.0109]}, \"token.table\": {\"Topic\": [4, 2, 3, 1, 2, 3, 4, 1, 2, 3, 4, 1, 2, 3, 4, 4, 2, 1, 2, 3, 4, 3, 2, 2, 1, 4, 1, 3, 4, 4, 2, 1, 2, 3, 4, 1, 3, 4, 1, 3, 4, 2, 4, 2, 1, 2, 3, 4, 1, 3, 4, 1, 3, 4, 1, 2, 1, 1, 1, 2, 3, 4, 3, 1, 1, 2, 3, 4, 1, 1, 2, 3, 4, 1, 2, 1, 3, 3, 4, 4, 2, 4, 2, 3, 4, 3, 1, 1, 4, 3, 4, 1, 2, 3, 4, 1, 2, 3, 4, 1, 4, 4, 1, 2, 4, 1, 1, 1, 4, 1, 3, 4, 4, 3, 4, 1, 3, 2, 4, 4, 2, 3, 1, 2, 3, 4, 4, 1, 2, 3, 4, 4, 3, 3, 4, 4, 1, 2, 3, 4, 2, 2, 3, 4, 4, 2, 1, 2, 3, 4, 3, 3, 1, 2, 3, 4, 1, 1, 1, 1, 1, 3, 4, 1, 2, 3, 4, 2, 3, 2, 1, 2, 4, 2, 2, 1, 2, 3, 4, 3, 1, 2, 3, 4, 1, 4, 2, 4, 1, 3, 1, 2, 3, 4, 1, 2, 3, 4, 3, 1, 2, 3, 4, 1, 2, 3, 4, 1, 2, 4, 1, 1, 2, 3, 4, 1, 2, 3, 2, 3, 1, 2, 3, 4, 1, 2, 3, 4, 1, 2, 3, 4, 4, 1, 3, 1, 2, 3, 4, 1, 2, 3, 4, 3, 4, 1, 2, 3, 4, 1, 3, 1, 2, 3, 4, 1, 2, 3, 4, 1, 4, 4, 2, 3, 4, 4, 1, 4, 4, 3, 1, 1, 2, 3, 4, 3, 4, 1, 2, 2, 3, 4, 2, 2, 3, 2, 3, 4, 1, 2, 3, 3, 1, 2, 3, 4, 2, 1, 2, 3, 4, 1, 2, 3, 4, 4, 1, 2, 3, 4, 1, 2, 3, 4, 1, 1, 2, 3, 4, 3, 1, 2, 3, 4, 1, 3, 4, 1, 1, 2, 3, 4, 1, 2, 3, 4, 1, 2, 1, 3, 4, 3, 1, 3, 1, 2, 3, 4, 2, 3, 4, 2, 4, 3, 4, 1, 2, 3, 4, 1, 2, 4, 2, 1, 2, 3, 4, 2, 3, 1, 2, 4, 1, 2, 3, 4, 2, 2, 3, 4, 3, 4, 3, 1, 2, 3, 1, 2, 3, 4, 1, 2, 3, 4, 3, 1, 2, 3, 4, 3, 1, 2, 3, 4, 4, 1, 4, 4, 2, 4, 2, 2, 3, 4, 1, 2, 1, 2, 3, 4, 4, 1, 1, 2, 3, 4, 1, 2, 3, 4, 1, 2, 3, 4, 1, 2, 3, 4, 1, 3, 4, 3, 1, 2, 3, 4, 4, 1, 2, 3, 4, 3, 2, 3, 4, 4, 1, 2, 3, 4, 1, 2, 3, 4, 3, 1, 2, 3, 4, 1, 2, 3, 3, 2, 3, 4, 4, 1, 2, 3, 4, 3, 1, 2, 4, 1, 2, 3, 4, 2], \"Freq\": [0.9148904964826605, 0.9393294439471668, 0.968104153528175, 0.23605494974868502, 0.10386417788942141, 0.5382052854270019, 0.1133063758793688, 0.17093515845440177, 0.49856087882533845, 0.15669056191653494, 0.17093515845440177, 0.6658621324701961, 0.04896045091692618, 0.08812881165046713, 0.19584180366770473, 0.9686321396958815, 0.9668360180516983, 0.4558000839224314, 0.15427079763528445, 0.3085415952705689, 0.08414770780106426, 0.9121292376021286, 0.9419027247647432, 0.9876709893581107, 0.9828888827487804, 0.974640810586839, 0.013346165089747711, 0.8474814831989796, 0.14013473344235097, 0.981399581178472, 0.9327114658303095, 0.28716181729754814, 0.426255822551048, 0.1749892324156934, 0.11217258488185475, 0.8354410843233802, 0.12285898298873237, 0.04300064404605633, 0.8093122028197184, 0.07781848104035753, 0.10894587345650054, 0.06624325880174986, 0.9274056232244979, 0.9418412091004462, 0.22638782086066558, 0.10290355493666617, 0.5350984856706641, 0.13377462141766602, 0.14448036017078966, 0.7092672226566038, 0.13791307107211742, 0.13809933342171216, 0.10357450006628412, 0.7595463338194168, 0.04878861342790364, 0.9269836551301691, 0.9963336716695935, 0.9804319907773756, 0.9817982751818735, 0.950803550793717, 0.03656936733821989, 0.018284683669109944, 0.962685603513841, 0.968685572694731, 0.25058278232015874, 0.12529139116007937, 0.5512821211043493, 0.07517483469604763, 0.9427108464747925, 0.3188577424447549, 0.1006919186667647, 0.4782866136671323, 0.09230092544453432, 0.9600108432667422, 0.0331038221816118, 0.9440574636811105, 0.03146858212270368, 0.09810786357025345, 0.8829707721322809, 0.9745924657905221, 0.8690485926106746, 0.0965609547345194, 0.9509412279603174, 0.8918048185791507, 0.102900555989902, 0.9719957431908666, 0.9942006313647298, 0.18876229662626054, 0.8179699520471291, 0.971238000060459, 0.9368711213149058, 0.020211196234227482, 0.5928617562040062, 0.33853753692331034, 0.048843724232716414, 0.48676017657525567, 0.2252173951318347, 0.10171108167244149, 0.18889200882024845, 0.9480256508204294, 0.05576621475414291, 0.9629175079165722, 0.9698832191970883, 0.02412644823873354, 0.004825289647746708, 0.985132004502227, 0.9666242568822223, 0.9681532901637551, 0.03227177633879184, 0.10887345415740585, 0.7984053304876428, 0.0725823027716039, 0.9732156993904035, 0.040755359088189516, 0.9373732590283589, 0.9791213832634561, 0.9549255434321646, 0.8676459029730706, 0.09640510033034118, 0.9424156618066717, 0.9904178323093243, 0.00861232897660282, 0.29715658909620657, 0.29715658909620657, 0.39620878546160876, 0.00825434969711685, 0.9620725618498356, 0.04814819260672783, 0.6861117446458715, 0.1925927704269113, 0.07222228891009173, 0.9645577437100207, 0.9324409843368492, 0.8829183650047864, 0.9669060066984473, 0.9344603231770097, 0.09693170212723444, 0.6508271428542884, 0.11077908814541079, 0.15232124619993984, 0.9762316476319083, 0.10266117778749287, 0.8726200111936895, 0.939797515677808, 0.9192308528096316, 0.9243326202006408, 0.24339763167025183, 0.1622650877801679, 0.10141567986260493, 0.48679526334050366, 0.9878753433328668, 0.9906379178920991, 0.6777338964129737, 0.07033087604285576, 0.17369595143917407, 0.0777902113807344, 0.9886002287977272, 0.9902257598355505, 0.9894869577533548, 0.9388301063352664, 0.9388495951933398, 0.0228987706144717, 0.0457975412289434, 0.2824365141496897, 0.3357264224798198, 0.11723779832628628, 0.26644954165065066, 0.9910772144289807, 0.9673541725244093, 0.9582410329400446, 0.026082999815963032, 0.13041499907981516, 0.834655994110817, 0.9633429384512996, 0.92422070753752, 0.7488469115062674, 0.007720071252641931, 0.20844192382133214, 0.03860035626320966, 0.9758084588162041, 0.08988542734291463, 0.5254840367739625, 0.11754248190996529, 0.26274201838698125, 0.26803771386521036, 0.7216399988678741, 0.1334370930245147, 0.8634164842762716, 0.11785167585038109, 0.8642456229027946, 0.10096058136598765, 0.4892705096967094, 0.11649297849921651, 0.2951155455313485, 0.2657990783235777, 0.29237898615593544, 0.3543987710981036, 0.08416970813579959, 0.9483986111436276, 0.2754119911161977, 0.453282235378742, 0.2639364914863561, 0.005737749814920785, 0.7275199792056095, 0.05963278518078766, 0.05963278518078766, 0.15504524147004792, 0.1332708794786354, 0.7996252768718124, 0.0666354397393177, 0.9798147755971113, 0.6165177757064668, 0.2541052994465843, 0.11663849810662885, 0.012496981939995948, 0.9615847974064654, 0.017171157096544026, 0.017171157096544026, 0.9824622285545284, 0.9736478118746145, 0.04167631237089691, 0.5616379238554202, 0.34928718939418363, 0.045645484977649, 0.09560514345521734, 0.19121028691043468, 0.286815430365652, 0.43978365989399976, 0.27103862229263675, 0.3930060023243233, 0.21683089783410942, 0.11293275928859865, 0.9358554168616365, 0.8854718013241049, 0.10798436601513474, 0.9786062009501069, 0.013861277633854205, 0.0027722555267708413, 0.008316766580312523, 0.8017405858558599, 0.031647654704836575, 0.0843937458795642, 0.0843937458795642, 0.03749804331464997, 0.9749491261808991, 0.22437121761761517, 0.5484629763986149, 0.14958081174507679, 0.07479040587253839, 0.9684301746855747, 0.970998239597971, 0.2611385025404266, 0.6017539406366352, 0.12489232730194315, 0.011353847936540287, 0.8196246551507201, 0.05538004426694055, 0.1107600885338811, 0.02215201770677622, 0.9893564352247779, 0.006382944743385664, 0.9383934804161923, 0.14819473472379416, 0.009879648981586277, 0.8397701634348335, 0.9690327545479525, 0.9939989487970877, 0.004559628205491229, 0.9849703045207865, 0.9411035796113699, 0.9686855726947193, 0.343874962763652, 0.21718418700862233, 0.3137104923457878, 0.12669077575502968, 0.062057186030106355, 0.9308577904515953, 0.9417830705619648, 0.9291668812079207, 0.09799301277833972, 0.7839441022267177, 0.09799301277833972, 0.8993423182326982, 0.8686217314493425, 0.11980989399301276, 0.24480491767199486, 0.1632032784479966, 0.5916118843739876, 0.7050790307712947, 0.14101580615425896, 0.15383542489555524, 0.9178444065461606, 0.8398383438528946, 0.009880451104151701, 0.10868496214566871, 0.039521804416606805, 0.9311873724760331, 0.332924358645916, 0.2615834246503626, 0.29130881381517654, 0.11295647882629294, 0.34531918605696116, 0.23021279070464076, 0.051158397934364615, 0.3836879845077346, 0.9605600319073383, 0.15992277511847727, 0.01999034688980966, 0.35982624401657387, 0.45977797846562213, 0.048604716405431805, 0.15796532831765336, 0.6440124923719714, 0.15796532831765336, 0.942520288011954, 0.11524274743183562, 0.016463249633119372, 0.8560889809222074, 0.016463249633119372, 0.9231730518807524, 0.021758445779232284, 0.08703378311692914, 0.19582601201309055, 0.6962702649354331, 0.052589945016504026, 0.8414391202640644, 0.10517989003300805, 0.9732586700072541, 0.056110788066282384, 0.2645222865981884, 0.5931711881292709, 0.08817409553272947, 0.7754986984399619, 0.07637487181605684, 0.09399984223514689, 0.052874911257270125, 0.9364195562666613, 0.032290329526436595, 0.11154157644666053, 0.6915577739692953, 0.17846652231465684, 0.9287801211151697, 0.0617558820631276, 0.9263382309469139, 0.197309298977044, 0.019094448288101033, 0.6810353222756035, 0.10820187363257251, 0.02698640974082248, 0.1349320487041124, 0.8365787019654969, 0.8766651403098147, 0.11954524640588382, 0.23288670243024012, 0.7374745576957604, 0.21126836238375074, 0.45589488724914634, 0.21126836238375074, 0.1223132624326978, 0.9774670889153442, 0.8979394509214367, 0.9753546955509828, 0.9097649399698376, 0.05050758788352048, 0.10101517576704096, 0.8081214061363277, 0.02525379394176024, 0.9830514037908908, 0.9034947716262807, 0.03416935955138193, 0.922572707887312, 0.03416935955138193, 0.04055637747997928, 0.12166913243993785, 0.8246463420929121, 0.013518792493326428, 0.9883249420410195, 0.9928378075295342, 0.8488254590470158, 0.14551293583663127, 0.943060163695472, 0.047153008184773595, 0.8757157884908633, 0.9876916685332656, 0.9364771925079839, 0.9282002868394978, 0.2840282374164736, 0.19724183153921776, 0.44182170264784776, 0.07889673261568711, 0.3595400270830182, 0.08361395978674842, 0.45151538284844145, 0.1003367517440981, 0.9557859044025181, 0.04651416447212015, 0.902374790759131, 0.03721133157769612, 0.00930283289442403, 0.965575725477349, 0.028356857173673512, 0.5788134964273358, 0.3302739835521974, 0.06171786561328941, 0.9665908909635084, 0.9434536657383892, 0.04901058003835788, 0.9638486730641047, 0.9533607574116256, 0.969308896842995, 0.9410712774459926, 0.20777516003110003, 0.025971895003887503, 0.7531849551127376, 0.9778906943368484, 0.9255410490883644, 0.06730480204243247, 0.7627877564809012, 0.1570445380990091, 0.9747322849283376, 0.974691052753909, 0.9575405076400484, 0.20384615612881704, 0.42646761611160405, 0.22530364624763988, 0.14215587203720134, 0.032139170750873546, 0.7807927953006338, 0.02835809183900607, 0.158805314298434, 0.12300666209769907, 0.11354461116710685, 0.4825645974602041, 0.2743994769871749, 0.42391240293133947, 0.24963730394845549, 0.1978257880346251, 0.12717372087940185, 0.863180525605785, 0.07847095687325317, 0.056050683480895126, 0.9301541957069439, 0.19284037125766798, 0.24640714105146463, 0.22498043313394597, 0.34282732668029864, 0.9543683235566922, 0.23049825215216516, 0.2576156935818317, 0.3932029007301641, 0.1220284864334992, 0.9425079620273141, 0.9429970778710514, 0.06735693413364653, 0.9522949166616419, 0.9483044474234773, 0.1358462647323157, 0.33344083161568394, 0.18524490645315775, 0.34579049204589446, 0.3079904771937514, 0.39485958614583516, 0.2369157516875011, 0.05528034206041692, 0.9209860521408811, 0.6125153727130509, 0.21583875038459888, 0.15750395298335593, 0.011666959480248588, 0.2970082463614197, 0.6105169508540295, 0.09900274878713991, 0.9296250335383033, 0.8373808000142576, 0.14355099428815846, 0.023925165714693074, 0.97935761823885, 0.21138726124927898, 0.36992770718623824, 0.13211703828079938, 0.28184968166570534, 0.9622421290844696, 0.04086787714105904, 0.42911270998111994, 0.510848464263238, 0.19948380918978625, 0.0775770369071391, 0.6095338614132358, 0.11082433843877015, 0.9700430227177871], \"Term\": [\"000\", \"absolute\", \"advisory\", \"agent\", \"agent\", \"agent\", \"agent\", \"airline\", \"airline\", \"airline\", \"airline\", \"airport\", \"airport\", \"airport\", \"airport\", \"airway\", \"american\", \"amp\", \"amp\", \"amp\", \"amp\", \"angry\", \"apply\", \"appreciate\", \"arrive\", \"atlanta\", \"attendant\", \"attendant\", \"attendant\", \"austin\", \"automate\", \"bad\", \"bad\", \"bad\", \"bad\", \"bag\", \"bag\", \"bag\", \"baggage\", \"baggage\", \"baggage\", \"birthday\", \"birthday\", \"blue\", \"book\", \"book\", \"book\", \"book\", \"booking\", \"booking\", \"booking\", \"bring\", \"bring\", \"bring\", \"busy\", \"busy\", \"cancel\", \"cancelled\", \"car\", \"care\", \"care\", \"care\", \"carry\", \"ce\", \"change\", \"change\", \"change\", \"change\", \"charlotte\", \"check\", \"check\", \"check\", \"check\", \"chicago\", \"chicago\", \"clt\", \"clt\", \"club\", \"club\", \"companion\", \"company\", \"company\", \"complaint\", \"complaints\", \"complaints\", \"confirmation\", \"connection\", \"cool\", \"cool\", \"correct\", \"cross\", \"customer\", \"customer\", \"customer\", \"customer\", \"day\", \"day\", \"day\", \"day\", \"dca\", \"dca\", \"definitely\", \"delay\", \"delay\", \"delay\", \"deliver\", \"depart\", \"departure\", \"departure\", \"desk\", \"desk\", \"desk\", \"destinationdragon\", \"destinationdragons\", \"destinationdragons\", \"dfw\", \"die\", \"disconnect\", \"disconnect\", \"dividend\", \"dm\", \"dm\", \"don\", \"don\", \"don\", \"don\", \"drink\", \"email\", \"email\", \"email\", \"email\", \"enjoy\", \"enter\", \"especially\", \"excellent\", \"excited\", \"experience\", \"experience\", \"experience\", \"experience\", \"expire\", \"explain\", \"explain\", \"fair\", \"favorite\", \"feedback\", \"finally\", \"finally\", \"finally\", \"finally\", \"fleek\", \"fleet\", \"flight\", \"flight\", \"flight\", \"flight\", \"flighted\", \"flightle\", \"flightled\", \"fll\", \"flt\", \"flt\", \"flt\", \"fly\", \"fly\", \"fly\", \"fly\", \"follow\", \"forever\", \"forward\", \"friend\", \"friend\", \"friend\", \"fuck\", \"future\", \"gate\", \"gate\", \"gate\", \"gate\", \"gold\", \"good\", \"good\", \"good\", \"good\", \"got\", \"got\", \"great\", \"great\", \"guess\", \"guess\", \"guy\", \"guy\", \"guy\", \"guy\", \"help\", \"help\", \"help\", \"help\", \"high\", \"hold\", \"hold\", \"hold\", \"hold\", \"home\", \"home\", \"home\", \"home\", \"horrible\", \"horrible\", \"horrible\", \"hotel\", \"hour\", \"hour\", \"hour\", \"hour\", \"hrs\", \"hrs\", \"hrs\", \"idea\", \"internet\", \"issue\", \"issue\", \"issue\", \"issue\", \"jetblue\", \"jetblue\", \"jetblue\", \"jetblue\", \"just\", \"just\", \"just\", \"just\", \"lady\", \"land\", \"land\", \"late\", \"late\", \"late\", \"late\", \"leave\", \"leave\", \"leave\", \"leave\", \"life\", \"life\", \"like\", \"like\", \"like\", \"like\", \"load\", \"lol\", \"look\", \"look\", \"look\", \"look\", \"lose\", \"lose\", \"lose\", \"lose\", \"lost\", \"lost\", \"lounge\", \"love\", \"love\", \"love\", \"lovely\", \"luggage\", \"luggage\", \"luv\", \"mail\", \"mainte\", \"make\", \"make\", \"make\", \"make\", \"man\", \"man\", \"mechanical\", \"medium\", \"member\", \"member\", \"member\", \"mention\", \"message\", \"message\", \"mile\", \"mile\", \"mile\", \"min\", \"min\", \"min\", \"mind\", \"miss\", \"miss\", \"miss\", \"miss\", \"mobile\", \"need\", \"need\", \"need\", \"need\", \"new\", \"new\", \"new\", \"new\", \"news\", \"nice\", \"nice\", \"nice\", \"nice\", \"number\", \"number\", \"number\", \"number\", \"okay\", \"online\", \"online\", \"online\", \"online\", \"overhead\", \"pass\", \"pass\", \"pass\", \"pass\", \"person\", \"person\", \"person\", \"phl\", \"phone\", \"phone\", \"phone\", \"phone\", \"plane\", \"plane\", \"plane\", \"plane\", \"pm\", \"pm\", \"point\", \"point\", \"point\", \"pre\", \"probably\", \"probably\", \"problem\", \"problem\", \"problem\", \"problem\", \"question\", \"question\", \"question\", \"quick\", \"quick\", \"real\", \"real\", \"really\", \"really\", \"really\", \"really\", \"rebook\", \"receipt\", \"record\", \"relation\", \"rep\", \"rep\", \"rep\", \"rep\", \"reply\", \"representative\", \"request\", \"request\", \"request\", \"reservation\", \"reservation\", \"reservation\", \"reservation\", \"respond\", \"response\", \"rt\", \"rt\", \"rude\", \"rude\", \"rule\", \"runway\", \"safe\", \"save\", \"say\", \"say\", \"say\", \"say\", \"seat\", \"seat\", \"seat\", \"seat\", \"sell\", \"send\", \"send\", \"send\", \"send\", \"sense\", \"service\", \"service\", \"service\", \"service\", \"set\", \"sit\", \"sit\", \"snack\", \"social\", \"son\", \"sound\", \"southwest\", \"southwest\", \"southwest\", \"strand\", \"submit\", \"suck\", \"suck\", \"suck\", \"supervisor\", \"swa\", \"tarmac\", \"tell\", \"tell\", \"tell\", \"tell\", \"thank\", \"thank\", \"thank\", \"thank\", \"ticket\", \"ticket\", \"ticket\", \"ticket\", \"time\", \"time\", \"time\", \"time\", \"tomorrow\", \"tomorrow\", \"tomorrow\", \"train\", \"travel\", \"travel\", \"travel\", \"travel\", \"true\", \"try\", \"try\", \"try\", \"try\", \"tsa\", \"twitter\", \"twitter\", \"unbelievable\", \"unhelpful\", \"use\", \"use\", \"use\", \"use\", \"ve\", \"ve\", \"ve\", \"ve\", \"volume\", \"wait\", \"wait\", \"wait\", \"wait\", \"week\", \"week\", \"week\", \"welcome\", \"wifi\", \"wifi\", \"wifi\", \"wonderful\", \"work\", \"work\", \"work\", \"work\", \"wow\", \"year\", \"year\", \"year\", \"yes\", \"yes\", \"yes\", \"yes\", \"yr\"]}, \"R\": 30, \"lambda.step\": 0.01, \"plot.opts\": {\"xlab\": \"PC1\", \"ylab\": \"PC2\"}, \"topic.order\": [4, 1, 2, 3]};\n",
       "\n",
       "function LDAvis_load_lib(url, callback){\n",
       "  var s = document.createElement('script');\n",
       "  s.src = url;\n",
       "  s.async = true;\n",
       "  s.onreadystatechange = s.onload = callback;\n",
       "  s.onerror = function(){console.warn(\"failed to load library \" + url);};\n",
       "  document.getElementsByTagName(\"head\")[0].appendChild(s);\n",
       "}\n",
       "\n",
       "if(typeof(LDAvis) !== \"undefined\"){\n",
       "   // already loaded: just create the visualization\n",
       "   !function(LDAvis){\n",
       "       new LDAvis(\"#\" + \"ldavis_el20228290731452236866024965\", ldavis_el20228290731452236866024965_data);\n",
       "   }(LDAvis);\n",
       "}else if(typeof define === \"function\" && define.amd){\n",
       "   // require.js is available: use it to load d3/LDAvis\n",
       "   require.config({paths: {d3: \"https://d3js.org/d3.v5\"}});\n",
       "   require([\"d3\"], function(d3){\n",
       "      window.d3 = d3;\n",
       "      LDAvis_load_lib(\"https://cdn.jsdelivr.net/gh/bmabey/pyLDAvis@3.3.1/pyLDAvis/js/ldavis.v3.0.0.js\", function(){\n",
       "        new LDAvis(\"#\" + \"ldavis_el20228290731452236866024965\", ldavis_el20228290731452236866024965_data);\n",
       "      });\n",
       "    });\n",
       "}else{\n",
       "    // require.js not available: dynamically load d3 & LDAvis\n",
       "    LDAvis_load_lib(\"https://d3js.org/d3.v5.js\", function(){\n",
       "         LDAvis_load_lib(\"https://cdn.jsdelivr.net/gh/bmabey/pyLDAvis@3.3.1/pyLDAvis/js/ldavis.v3.0.0.js\", function(){\n",
       "                 new LDAvis(\"#\" + \"ldavis_el20228290731452236866024965\", ldavis_el20228290731452236866024965_data);\n",
       "            })\n",
       "         });\n",
       "}\n",
       "</script>"
      ],
      "text/plain": [
       "PreparedData(topic_coordinates=              x         y  topics  cluster       Freq\n",
       "topic                                                \n",
       "3      0.184032  0.098309       1        1  33.512349\n",
       "0      0.060245 -0.180493       2        1  24.772504\n",
       "1     -0.136938 -0.084235       3        1  24.707359\n",
       "2     -0.107339  0.166419       4        1  17.007788, topic_info=          Term        Freq       Total Category  logprob  loglift\n",
       "2070     thank  528.000000  528.000000  Default  30.0000  30.0000\n",
       "415     cancel  336.000000  336.000000  Default  29.0000  29.0000\n",
       "1241      late  360.000000  360.000000  Default  28.0000  28.0000\n",
       "614   customer  593.000000  593.000000  Default  27.0000  27.0000\n",
       "1882   service  599.000000  599.000000  Default  26.0000  26.0000\n",
       "...        ...         ...         ...      ...      ...      ...\n",
       "638        day   25.867280  137.644785   Topic4  -5.5168   0.0998\n",
       "614   customer   29.394674  593.730320   Topic4  -5.3890  -1.2341\n",
       "1209      just   25.416355  221.370665   Topic4  -5.5344  -0.3929\n",
       "292        bad   25.078595  222.870856   Topic4  -5.5478  -0.4131\n",
       "180    airline   24.141631  140.404117   Topic4  -5.5858   0.0109\n",
       "\n",
       "[289 rows x 6 columns], token_table=      Topic      Freq      Term\n",
       "term                           \n",
       "1         4  0.914890       000\n",
       "131       2  0.939329  absolute\n",
       "163       3  0.968104  advisory\n",
       "169       1  0.236055     agent\n",
       "169       2  0.103864     agent\n",
       "...     ...       ...       ...\n",
       "2311      1  0.199484       yes\n",
       "2311      2  0.077577       yes\n",
       "2311      3  0.609534       yes\n",
       "2311      4  0.110824       yes\n",
       "2316      2  0.970043        yr\n",
       "\n",
       "[490 rows x 3 columns], R=30, lambda_step=0.01, plot_opts={'xlab': 'PC1', 'ylab': 'PC2'}, topic_order=[4, 1, 2, 3])"
      ]
     },
     "execution_count": 25,
     "metadata": {},
     "output_type": "execute_result"
    }
   ],
   "source": [
    "pyLDAvis.sklearn.prepare(lda_model = lda_tf_idf, dtm = document_word_matrix_tf_idf, vectorizer = tfidf_vectorizer, mds='mmds')"
   ]
  },
  {
   "cell_type": "code",
   "execution_count": 26,
   "metadata": {},
   "outputs": [
    {
     "data": {
      "text/html": [
       "\n",
       "<link rel=\"stylesheet\" type=\"text/css\" href=\"https://cdn.jsdelivr.net/gh/bmabey/pyLDAvis@3.3.1/pyLDAvis/js/ldavis.v1.0.0.css\">\n",
       "\n",
       "\n",
       "<div id=\"ldavis_el2022829073145230405021837870\"></div>\n",
       "<script type=\"text/javascript\">\n",
       "\n",
       "var ldavis_el2022829073145230405021837870_data = {\"mdsDat\": {\"x\": [269.5624084472656, 1.782994270324707, 220.81143188476562, 50.533992767333984], \"y\": [-124.80339813232422, -295.0796813964844, -343.8321228027344, -76.05093383789062], \"topics\": [1, 2, 3, 4], \"cluster\": [1, 1, 1, 1], \"Freq\": [33.512348861316376, 24.772503528049654, 24.70735934785015, 17.00778826278383]}, \"tinfo\": {\"Term\": [\"thank\", \"cancel\", \"late\", \"customer\", \"service\", \"luggage\", \"issue\", \"delay\", \"great\", \"lost\", \"dm\", \"flight\", \"attendant\", \"love\", \"follow\", \"complaints\", \"fleek\", \"send\", \"fleet\", \"response\", \"booking\", \"bag\", \"problem\", \"appreciate\", \"flightled\", \"sit\", \"flightle\", \"care\", \"flighted\", \"reservation\", \"cancel\", \"luggage\", \"lost\", \"flightled\", \"flightle\", \"flighted\", \"connection\", \"arrive\", \"dfw\", \"hotel\", \"late\", \"phl\", \"rebook\", \"tarmac\", \"strand\", \"delay\", \"depart\", \"runway\", \"departure\", \"car\", \"cancelled\", \"deliver\", \"okay\", \"hrs\", \"charlotte\", \"load\", \"chicago\", \"mechanical\", \"ce\", \"mainte\", \"sit\", \"fll\", \"clt\", \"pm\", \"flt\", \"dca\", \"bag\", \"tomorrow\", \"miss\", \"flight\", \"plane\", \"lose\", \"leave\", \"gate\", \"land\", \"hour\", \"baggage\", \"wait\", \"home\", \"airport\", \"min\", \"time\", \"day\", \"amp\", \"tell\", \"bad\", \"just\", \"help\", \"make\", \"follow\", \"dm\", \"response\", \"appreciate\", \"respond\", \"reply\", \"american\", \"complaint\", \"idea\", \"forward\", \"blue\", \"future\", \"fuck\", \"busy\", \"sound\", \"relation\", \"automate\", \"feedback\", \"submit\", \"expire\", \"mobile\", \"care\", \"apply\", \"medium\", \"safe\", \"yr\", \"social\", \"receipt\", \"mention\", \"absolute\", \"request\", \"twitter\", \"send\", \"thank\", \"company\", \"message\", \"wifi\", \"customer\", \"service\", \"issue\", \"quick\", \"disconnect\", \"suck\", \"email\", \"horrible\", \"experience\", \"tell\", \"look\", \"good\", \"like\", \"bad\", \"airline\", \"hold\", \"guy\", \"just\", \"fly\", \"help\", \"ve\", \"week\", \"hour\", \"time\", \"really\", \"flight\", \"work\", \"need\", \"fleek\", \"fleet\", \"confirmation\", \"lol\", \"wow\", \"high\", \"correct\", \"carry\", \"tsa\", \"save\", \"pre\", \"sell\", \"sense\", \"gold\", \"train\", \"rude\", \"overhead\", \"volume\", \"mail\", \"advisory\", \"welcome\", \"enter\", \"especially\", \"mind\", \"representative\", \"angry\", \"rule\", \"die\", \"internet\", \"forever\", \"complaints\", \"probably\", \"attendant\", \"online\", \"reservation\", \"rt\", \"person\", \"guess\", \"booking\", \"rep\", \"problem\", \"explain\", \"desk\", \"member\", \"phone\", \"number\", \"yes\", \"change\", \"point\", \"customer\", \"issue\", \"service\", \"agent\", \"book\", \"check\", \"ticket\", \"help\", \"say\", \"seat\", \"flight\", \"try\", \"tell\", \"don\", \"make\", \"need\", \"hold\", \"just\", \"swa\", \"destinationdragon\", \"companion\", \"luv\", \"austin\", \"atlanta\", \"life\", \"set\", \"supervisor\", \"record\", \"news\", \"cross\", \"enjoy\", \"excited\", \"definitely\", \"drink\", \"wonderful\", \"000\", \"excellent\", \"dividend\", \"lady\", \"lounge\", \"son\", \"favorite\", \"airway\", \"fair\", \"unbelievable\", \"unhelpful\", \"lovely\", \"snack\", \"destinationdragons\", \"true\", \"birthday\", \"great\", \"man\", \"love\", \"friend\", \"question\", \"cool\", \"club\", \"southwest\", \"got\", \"pass\", \"bring\", \"mile\", \"real\", \"thank\", \"fly\", \"year\", \"guy\", \"new\", \"travel\", \"good\", \"tell\", \"flight\", \"work\", \"use\", \"finally\", \"ticket\", \"service\", \"nice\", \"jetblue\", \"time\", \"day\", \"customer\", \"just\", \"bad\", \"airline\"], \"Freq\": [528.0, 336.0, 360.0, 593.0, 599.0, 219.0, 503.0, 207.0, 127.0, 156.0, 116.0, 938.0, 149.0, 101.0, 90.0, 116.0, 79.0, 107.0, 78.0, 73.0, 152.0, 162.0, 157.0, 59.0, 71.0, 81.0, 65.0, 54.0, 59.0, 73.0, 335.39180015082167, 217.99777588301842, 155.4786022092105, 71.00376185882544, 64.89195865208482, 58.92762299576303, 55.573089551492274, 46.04545615614737, 48.23105186968578, 44.08369317825399, 352.5069745039184, 35.08925162779376, 38.91771320648265, 26.395778030632627, 28.81591745474565, 201.21265355827708, 24.079846481283703, 21.522718076306198, 29.921931486269067, 20.62965896674422, 20.65385285863429, 19.548744775098662, 19.385872240105712, 55.98126178846501, 21.4122830566379, 17.832625175175803, 28.97075900579304, 22.39725835834492, 16.799976618933986, 16.799976618931172, 77.1917288861721, 19.34492875843668, 30.08305801744653, 29.30809246497985, 40.83126535989518, 33.755980639309044, 135.82303565380127, 76.76271335578936, 84.99730000224929, 635.8425503189096, 132.20371574020223, 73.50693356006353, 75.98841929584049, 96.95555825117766, 40.52544175384754, 147.88698964578194, 52.473358090119824, 105.39204359917294, 61.28704320447582, 67.89393934960137, 54.86535648911341, 89.8070392203622, 67.00011780822598, 65.17953334661625, 75.72474154192778, 63.7361847093504, 60.2236554085652, 60.28949156379551, 56.832950705927026, 90.07113204414651, 115.0965690871606, 72.77379479250591, 58.99147012912867, 35.68610883084997, 35.86973369149352, 27.18234438734812, 24.496742586714728, 24.666599142804674, 20.071957231721736, 18.363270434340976, 15.46883609032129, 13.782352098988863, 19.40665073225004, 13.071978373817396, 12.455261919703231, 15.178718950588316, 12.244280661995466, 13.241437876590782, 12.545412275289626, 12.138297141736066, 51.509457674063974, 11.963726913871998, 11.104652088580531, 11.004000348705373, 11.58337012373348, 10.801298639173158, 10.393354728912756, 10.37342671140841, 9.907403026763903, 27.22330630743472, 27.521878689018717, 96.76286150415004, 412.758997937494, 27.259156658402045, 29.054208748443788, 34.74792424477525, 352.0232234558987, 346.97422003514237, 282.89856840908504, 21.54988306445978, 18.201029909621578, 34.23671294437106, 56.737391217638404, 24.087029361819763, 46.69604117023988, 159.28706496220585, 53.27061817762111, 75.98646073861252, 66.01398290967145, 94.65082701006448, 69.53641458279431, 78.84162510653692, 63.44649359816251, 87.3386047693421, 63.20719895495719, 66.4689760611531, 50.43753174266853, 36.89867527575857, 60.84276363334143, 53.19292718457315, 41.10660994399191, 66.32431648480588, 41.72132229290353, 43.82584314608975, 79.2468738200974, 78.01328317078398, 29.085620403620304, 25.85859835500417, 20.0045076226139, 19.269871555842652, 17.794854448137755, 20.939727860859776, 15.184743793757635, 14.33650984595352, 13.262744617210377, 14.842413037718625, 12.72174904158514, 12.567301513564805, 12.167454967131556, 39.9419426404435, 11.188195676937735, 11.211359564884804, 10.939679483820123, 10.62539966672239, 10.012006422000924, 9.971966356319474, 9.459067860885977, 12.117990995378147, 9.218237916659694, 9.130561630989483, 9.497731059044368, 8.677650186849668, 8.50849481258546, 8.55517334912045, 103.7604197946982, 14.740589358637122, 127.0686832299718, 51.517341226470116, 60.646239924295244, 34.776970689385195, 32.0440415302282, 22.012949389950986, 108.44134145959939, 32.042062691420625, 106.94521863855309, 16.915915710186887, 22.41669131959007, 24.34383898799081, 74.45633033203612, 52.85406315043721, 55.127573296075795, 66.1319093327695, 31.394478789607337, 200.6525447269522, 176.25401989429642, 197.67894516735026, 57.094331355341815, 52.11100212113243, 57.4691411387159, 51.45771683798808, 79.87508196805025, 56.09024811833713, 54.17538045867287, 163.04229728175304, 57.569020428944576, 84.3702632521396, 48.3720568673631, 52.15671471526174, 49.10925916750503, 46.45544343973926, 48.39204941318589, 21.81644734722546, 19.851013197142457, 19.817529698344842, 18.5868906732651, 18.65290965737972, 18.77784445902733, 25.68007034751629, 18.912509103396637, 18.74604126237145, 17.74801866586967, 16.99392682365153, 16.367927702430286, 15.881918668533197, 14.27867631391753, 13.836103028532182, 16.798198047976896, 13.589120117650987, 13.498942188005376, 13.749277305464545, 13.087475901048604, 14.13432846731545, 15.094839124441563, 11.673060156355161, 11.267940775886977, 11.649568193114938, 10.984990770210482, 10.83830381133555, 10.877698569103831, 10.644898790815343, 10.70213909751999, 22.955265406426527, 13.753222193860095, 14.118492055374617, 109.5330761040913, 14.902789133538286, 84.93965151750015, 32.11799453059469, 30.6549534990391, 25.798137662741777, 17.86801061138716, 29.078993818065737, 34.52812618545705, 32.292567271701905, 21.829930355523157, 28.906964758441358, 19.31647735107731, 83.76853690008848, 49.544936684112834, 25.290328425593472, 37.600855324059275, 30.320059334762515, 32.3937856066986, 38.064789318653645, 53.44811474803074, 73.21224786713165, 32.23985103408195, 27.7650923640562, 23.83621796087469, 28.727608876013374, 37.45904921748935, 22.70660208830053, 22.591917597586065, 27.474970706742635, 25.86727985266525, 29.39467372293651, 25.416355196373164, 25.078594651192322, 24.141630674300682], \"Total\": [528.0, 336.0, 360.0, 593.0, 599.0, 219.0, 503.0, 207.0, 127.0, 156.0, 116.0, 938.0, 149.0, 101.0, 90.0, 116.0, 79.0, 107.0, 78.0, 73.0, 152.0, 162.0, 157.0, 59.0, 71.0, 81.0, 65.0, 54.0, 59.0, 73.0, 336.23273961887486, 219.31612730960939, 156.66750069178516, 71.75435658212876, 65.64159673122897, 59.680342246887854, 56.326659059881436, 46.8008142195635, 49.02354378168498, 44.906446703853646, 360.71710935132046, 35.96166268905586, 39.89904155573844, 27.152898276940288, 29.65566618840381, 207.24144517769528, 24.828675495285303, 22.274157716314722, 30.986828537168684, 21.389322563344134, 21.41912972805925, 20.301847781410483, 20.15871726228457, 58.23719359024828, 22.276183708427848, 18.58678144332311, 30.207992131962047, 23.359944224599975, 17.549554240504143, 17.549554240504353, 81.61503081313097, 20.237953461214307, 31.77772662590122, 30.969024307456646, 43.67046671789507, 35.86400850079965, 162.78825946194132, 89.20497823553302, 101.20995382283776, 938.4214119526001, 170.2130516344371, 90.28522938514118, 94.79375416534492, 129.53248322128945, 46.30299907765552, 240.05796074639863, 64.25208939001192, 171.42426896963784, 83.8464945892027, 102.12324246122176, 78.00543995732622, 212.30801311226833, 137.64478530556505, 142.60638006170657, 372.83018450430393, 222.8708558898873, 221.37066478746635, 225.73441705827656, 165.75792416494292, 90.81028066199103, 116.11261050485967, 73.52661174501904, 59.73649184364949, 36.42526710461776, 36.62066893061242, 27.926142071546476, 25.238152784139793, 25.44627088288357, 20.871575430908692, 19.111501839245093, 16.229889546584364, 14.532727070701156, 20.496585775648846, 13.814043964109892, 13.190220322622949, 16.08214388856777, 12.98233962293272, 14.045838391289815, 13.316511538562308, 12.886772689036713, 54.69058246216177, 12.74016911140926, 11.838562288939912, 11.746148318402554, 12.370585344121524, 11.538129626674586, 11.136608364559905, 11.119236576847676, 10.645892199417158, 29.26598605093131, 29.69256284782339, 107.49413768352048, 528.949552923295, 31.068458345799016, 33.386224348327005, 41.79699367289538, 593.7303196175052, 599.5022613360267, 503.88335256515074, 25.09510072708625, 20.74579034871403, 44.57334259907106, 83.07684636621383, 30.01405870245824, 72.21579572400022, 372.83018450430393, 88.07586692980823, 144.62856087232862, 120.33629039717016, 222.8708558898873, 140.40411707578684, 174.284350530506, 128.76312541103826, 221.37066478746635, 187.65279043172978, 225.73441705827656, 126.62729171157387, 60.60437789359014, 240.05796074639863, 212.30801311226833, 89.93301119780604, 938.4214119526001, 113.53569679725372, 168.20637645069155, 79.96960399221219, 78.7371436033562, 29.835521609177867, 26.776567597861924, 20.784789394982223, 20.033770375400305, 18.53304751140247, 21.813975324185964, 15.914984917194042, 15.082951598377223, 13.996854265561941, 15.6938912060822, 13.463470193985279, 13.322286646060506, 12.901086782584102, 42.41510938523387, 11.915425799734985, 11.943720509588516, 11.688405227979757, 11.362413806315587, 10.757025294315044, 10.724539319892708, 10.193467886412364, 13.07411137924333, 9.961319403985149, 9.86702281757775, 10.277306996496959, 9.424818575543043, 9.243588790768024, 9.303727895764984, 116.61744569366178, 16.192789522102334, 149.85578153355564, 60.74134950783256, 73.97110359476643, 41.23344749731567, 38.030083495473335, 25.455726262294803, 152.2698308198698, 39.598010592237294, 157.113730375205, 19.481561025336866, 27.554926251009668, 30.614427650938772, 124.75319348092314, 82.29654025001123, 90.2328869350747, 119.72091506937736, 44.82633435247361, 593.7303196175052, 503.88335256515074, 599.5022613360267, 105.90754409774569, 97.1783725659884, 119.17540313948581, 105.68533263405392, 225.73441705827656, 126.74796114448587, 119.59725416072034, 938.4214119526001, 147.50654151405297, 372.83018450430393, 121.14824749299011, 165.75792416494292, 168.20637645069155, 174.284350530506, 221.37066478746635, 22.57125469433706, 20.550428864359123, 20.521398124884314, 19.289921648190187, 19.360106081545965, 19.494361198111484, 26.668058159965746, 19.656713277176234, 19.49253173798063, 18.454824775136505, 17.698008906579123, 17.078122738529796, 16.587913066208458, 14.98190950729971, 14.53914783447158, 17.670184842724403, 14.295084593486685, 14.209350791137421, 14.479173676667658, 13.794337813824274, 14.959575750438658, 15.984765786466529, 12.37995445939223, 11.966526108624912, 12.388603999623225, 11.70464894458302, 11.551043492452443, 11.599650333694798, 11.351525475659932, 11.412579907414989, 24.536650452180403, 14.669388803502509, 15.095875687407824, 127.4008569482011, 16.114169268243344, 101.21817099613594, 38.33914837464328, 37.05568875608136, 31.786008685196734, 20.385725743256376, 38.50315888965048, 48.50063751303812, 45.959165013268866, 28.964658270907446, 49.01862313108579, 25.763600658123732, 528.949552923295, 187.65279043172978, 48.93819155560308, 128.76312541103826, 78.18853133618325, 93.34145066516646, 144.62856087232862, 372.83018450430393, 938.4214119526001, 113.53569679725372, 80.97388633890994, 49.30204093463513, 105.68533263405392, 599.5022613360267, 50.024144428917495, 52.29844147812051, 212.30801311226833, 137.64478530556505, 593.7303196175052, 221.37066478746635, 222.8708558898873, 140.40411707578684], \"Category\": [\"Default\", \"Default\", \"Default\", \"Default\", \"Default\", \"Default\", \"Default\", \"Default\", \"Default\", \"Default\", \"Default\", \"Default\", \"Default\", \"Default\", \"Default\", \"Default\", \"Default\", \"Default\", \"Default\", \"Default\", \"Default\", \"Default\", \"Default\", \"Default\", \"Default\", \"Default\", \"Default\", \"Default\", \"Default\", \"Default\", \"Topic1\", \"Topic1\", \"Topic1\", \"Topic1\", \"Topic1\", \"Topic1\", \"Topic1\", \"Topic1\", \"Topic1\", \"Topic1\", \"Topic1\", \"Topic1\", \"Topic1\", \"Topic1\", \"Topic1\", \"Topic1\", \"Topic1\", \"Topic1\", \"Topic1\", \"Topic1\", \"Topic1\", \"Topic1\", \"Topic1\", \"Topic1\", \"Topic1\", \"Topic1\", \"Topic1\", \"Topic1\", \"Topic1\", \"Topic1\", \"Topic1\", \"Topic1\", \"Topic1\", \"Topic1\", \"Topic1\", \"Topic1\", \"Topic1\", \"Topic1\", \"Topic1\", \"Topic1\", \"Topic1\", \"Topic1\", \"Topic1\", \"Topic1\", \"Topic1\", \"Topic1\", \"Topic1\", \"Topic1\", \"Topic1\", \"Topic1\", \"Topic1\", \"Topic1\", \"Topic1\", \"Topic1\", \"Topic1\", \"Topic1\", \"Topic1\", \"Topic1\", \"Topic1\", \"Topic2\", \"Topic2\", \"Topic2\", \"Topic2\", \"Topic2\", \"Topic2\", \"Topic2\", \"Topic2\", \"Topic2\", \"Topic2\", \"Topic2\", \"Topic2\", \"Topic2\", \"Topic2\", \"Topic2\", \"Topic2\", \"Topic2\", \"Topic2\", \"Topic2\", \"Topic2\", \"Topic2\", \"Topic2\", \"Topic2\", \"Topic2\", \"Topic2\", \"Topic2\", \"Topic2\", \"Topic2\", \"Topic2\", \"Topic2\", \"Topic2\", \"Topic2\", \"Topic2\", \"Topic2\", \"Topic2\", \"Topic2\", \"Topic2\", \"Topic2\", \"Topic2\", \"Topic2\", \"Topic2\", \"Topic2\", \"Topic2\", \"Topic2\", \"Topic2\", \"Topic2\", \"Topic2\", \"Topic2\", \"Topic2\", \"Topic2\", \"Topic2\", \"Topic2\", \"Topic2\", \"Topic2\", \"Topic2\", \"Topic2\", \"Topic2\", \"Topic2\", \"Topic2\", \"Topic2\", \"Topic2\", \"Topic2\", \"Topic2\", \"Topic2\", \"Topic2\", \"Topic3\", \"Topic3\", \"Topic3\", \"Topic3\", \"Topic3\", \"Topic3\", \"Topic3\", \"Topic3\", \"Topic3\", \"Topic3\", \"Topic3\", \"Topic3\", \"Topic3\", \"Topic3\", \"Topic3\", \"Topic3\", \"Topic3\", \"Topic3\", \"Topic3\", \"Topic3\", \"Topic3\", \"Topic3\", \"Topic3\", \"Topic3\", \"Topic3\", \"Topic3\", \"Topic3\", \"Topic3\", \"Topic3\", \"Topic3\", \"Topic3\", \"Topic3\", \"Topic3\", \"Topic3\", \"Topic3\", \"Topic3\", \"Topic3\", \"Topic3\", \"Topic3\", \"Topic3\", \"Topic3\", \"Topic3\", \"Topic3\", \"Topic3\", \"Topic3\", \"Topic3\", \"Topic3\", \"Topic3\", \"Topic3\", \"Topic3\", \"Topic3\", \"Topic3\", \"Topic3\", \"Topic3\", \"Topic3\", \"Topic3\", \"Topic3\", \"Topic3\", \"Topic3\", \"Topic3\", \"Topic3\", \"Topic3\", \"Topic3\", \"Topic3\", \"Topic3\", \"Topic3\", \"Topic3\", \"Topic4\", \"Topic4\", \"Topic4\", \"Topic4\", \"Topic4\", \"Topic4\", \"Topic4\", \"Topic4\", \"Topic4\", \"Topic4\", \"Topic4\", \"Topic4\", \"Topic4\", \"Topic4\", \"Topic4\", \"Topic4\", \"Topic4\", \"Topic4\", \"Topic4\", \"Topic4\", \"Topic4\", \"Topic4\", \"Topic4\", \"Topic4\", \"Topic4\", \"Topic4\", \"Topic4\", \"Topic4\", \"Topic4\", \"Topic4\", \"Topic4\", \"Topic4\", \"Topic4\", \"Topic4\", \"Topic4\", \"Topic4\", \"Topic4\", \"Topic4\", \"Topic4\", \"Topic4\", \"Topic4\", \"Topic4\", \"Topic4\", \"Topic4\", \"Topic4\", \"Topic4\", \"Topic4\", \"Topic4\", \"Topic4\", \"Topic4\", \"Topic4\", \"Topic4\", \"Topic4\", \"Topic4\", \"Topic4\", \"Topic4\", \"Topic4\", \"Topic4\", \"Topic4\", \"Topic4\", \"Topic4\", \"Topic4\", \"Topic4\", \"Topic4\", \"Topic4\", \"Topic4\", \"Topic4\", \"Topic4\"], \"logprob\": [30.0, 29.0, 28.0, 27.0, 26.0, 25.0, 24.0, 23.0, 22.0, 21.0, 20.0, 19.0, 18.0, 17.0, 16.0, 15.0, 14.0, 13.0, 12.0, 11.0, 10.0, 9.0, 8.0, 7.0, 6.0, 5.0, 4.0, 3.0, 2.0, 1.0, -3.6327, -4.0635, -4.4015, -5.1853, -5.2753, -5.3717, -5.4303, -5.6184, -5.572, -5.6619, -3.5829, -5.8901, -5.7866, -6.1748, -6.0871, -4.1437, -6.2666, -6.3789, -6.0494, -6.4213, -6.4201, -6.4751, -6.4835, -5.423, -6.3841, -6.567, -6.0817, -6.3391, -6.6266, -6.6266, -5.1017, -6.4856, -6.0441, -6.0702, -5.7386, -5.9289, -4.5367, -5.1073, -5.0054, -2.9931, -4.5637, -5.1506, -5.1174, -4.8738, -5.7461, -4.4516, -5.4877, -4.7903, -5.3324, -5.2301, -5.4431, -4.9504, -5.2433, -5.2709, -5.1209, -5.2933, -5.35, -5.3489, -5.4079, -4.6452, -4.4001, -4.8585, -5.0684, -5.5711, -5.5659, -5.8433, -5.9473, -5.9404, -6.1465, -6.2355, -6.407, -6.5224, -6.1802, -6.5754, -6.6237, -6.4259, -6.6408, -6.5625, -6.6165, -6.6495, -5.2041, -6.664, -6.7385, -6.7476, -6.6963, -6.7662, -6.8047, -6.8066, -6.8526, -5.8418, -5.8309, -4.5736, -3.123, -5.8404, -5.7767, -5.5977, -3.2821, -3.2966, -3.5008, -6.0755, -6.2444, -5.6125, -5.1074, -5.9642, -5.3022, -4.0751, -5.1705, -4.8153, -4.956, -4.5956, -4.904, -4.7784, -4.9956, -4.676, -4.9994, -4.9491, -5.2251, -5.5377, -5.0375, -5.1719, -5.4297, -4.9513, -5.4148, -5.3656, -4.7706, -4.7863, -5.773, -5.8906, -6.1472, -6.1847, -6.2643, -6.1016, -6.4229, -6.4804, -6.5582, -6.4457, -6.5999, -6.6121, -6.6444, -5.4558, -6.7283, -6.7263, -6.7508, -6.78, -6.8394, -6.8434, -6.8962, -6.6485, -6.922, -6.9316, -6.8922, -6.9825, -7.0021, -6.9967, -4.5011, -6.4526, -4.2985, -5.2013, -5.0381, -5.5942, -5.6761, -6.0516, -4.457, -5.6762, -4.4709, -6.315, -6.0334, -5.9509, -4.833, -5.1757, -5.1336, -4.9516, -5.6966, -3.8416, -3.9713, -3.8566, -5.0985, -5.1898, -5.092, -5.2024, -4.7627, -5.1162, -5.151, -4.0492, -5.0902, -4.708, -5.2643, -5.189, -5.2492, -5.3047, -5.2639, -5.6871, -5.7815, -5.7832, -5.8473, -5.8438, -5.8371, -5.5241, -5.83, -5.8388, -5.8935, -5.9369, -5.9745, -6.0046, -6.111, -6.1425, -5.9485, -6.1605, -6.1672, -6.1488, -6.1981, -6.1212, -6.0554, -6.3125, -6.3478, -6.3145, -6.3732, -6.3867, -6.3831, -6.4047, -6.3993, -5.6362, -6.1485, -6.1223, -4.0735, -6.0682, -4.3278, -5.3004, -5.347, -5.5195, -5.8868, -5.3998, -5.228, -5.2949, -5.6865, -5.4057, -5.8088, -4.3417, -4.8669, -5.5394, -5.1427, -5.358, -5.2918, -5.1305, -4.7911, -4.4764, -5.2966, -5.446, -5.5986, -5.4119, -5.1465, -5.6471, -5.6522, -5.4565, -5.5168, -5.389, -5.5344, -5.5478, -5.5858], \"loglift\": [30.0, 29.0, 28.0, 27.0, 26.0, 25.0, 24.0, 23.0, 22.0, 21.0, 20.0, 19.0, 18.0, 17.0, 16.0, 15.0, 14.0, 13.0, 12.0, 11.0, 10.0, 9.0, 8.0, 7.0, 6.0, 5.0, 4.0, 3.0, 2.0, 1.0, 1.0908, 1.0872, 1.0856, 1.0827, 1.0818, 1.0806, 1.0798, 1.077, 1.077, 1.0748, 1.0702, 1.0687, 1.0684, 1.065, 1.0645, 1.0637, 1.0626, 1.0589, 1.0583, 1.0571, 1.0569, 1.0555, 1.0542, 1.0537, 1.0537, 1.0518, 1.0514, 1.0512, 1.0496, 1.0496, 1.0375, 1.0481, 1.0385, 1.0381, 1.026, 1.0327, 0.9122, 0.943, 0.9187, 0.704, 0.8405, 0.8877, 0.8721, 0.8036, 0.96, 0.6088, 0.8907, 0.6068, 0.7798, 0.685, 0.7414, 0.2329, 0.3733, 0.3103, -0.5008, -0.1586, -0.2085, -0.2269, 0.0228, 1.3873, 1.3866, 1.3851, 1.3829, 1.3749, 1.3747, 1.3684, 1.3656, 1.3643, 1.3564, 1.3555, 1.3474, 1.3424, 1.3408, 1.3402, 1.3381, 1.3376, 1.3369, 1.3365, 1.3358, 1.3356, 1.3355, 1.3326, 1.3314, 1.3302, 1.3297, 1.3294, 1.3264, 1.326, 1.3235, 1.3231, 1.3195, 1.2903, 1.1474, 1.2646, 1.2565, 1.2107, 0.8727, 0.8486, 0.8182, 1.2431, 1.2646, 1.1316, 1.0141, 1.1754, 0.9594, 0.545, 0.8926, 0.7518, 0.795, 0.539, 0.6928, 0.6022, 0.6877, 0.4654, 0.3073, 0.1728, 0.4749, 0.8992, 0.0228, 0.0113, 0.6125, -1.2542, 0.3943, 0.0505, 1.389, 1.3888, 1.3726, 1.3632, 1.3598, 1.3592, 1.3574, 1.3572, 1.3511, 1.3473, 1.3442, 1.3423, 1.3414, 1.3397, 1.3395, 1.338, 1.3351, 1.3348, 1.3319, 1.331, 1.3263, 1.3253, 1.3233, 1.3221, 1.3205, 1.3205, 1.3192, 1.3155, 1.3152, 1.3142, 1.2813, 1.3041, 1.2331, 1.2334, 1.1995, 1.2278, 1.2268, 1.2528, 1.0586, 1.1863, 1.0134, 1.2569, 1.1917, 1.1689, 0.8819, 0.9553, 0.9053, 0.8046, 1.0419, 0.3132, 0.3477, 0.2886, 0.7802, 0.7749, 0.6687, 0.6784, 0.3592, 0.5828, 0.6062, -0.3521, 0.4572, -0.0878, 0.48, 0.2418, 0.1669, 0.0759, -0.1224, 1.7375, 1.7369, 1.7366, 1.7344, 1.7343, 1.7341, 1.7337, 1.7329, 1.7325, 1.7324, 1.7309, 1.729, 1.728, 1.7234, 1.7219, 1.7209, 1.7209, 1.7202, 1.7198, 1.7189, 1.7148, 1.7142, 1.7127, 1.7113, 1.71, 1.708, 1.7078, 1.7072, 1.7072, 1.7072, 1.7049, 1.707, 1.7046, 1.6204, 1.6933, 1.5962, 1.5944, 1.5819, 1.5628, 1.6397, 1.4908, 1.4317, 1.4186, 1.4887, 1.2434, 1.4835, -0.0713, 0.4398, 1.1114, 0.5406, 0.8242, 0.7132, 0.4366, -0.1709, -0.7793, 0.5126, 0.7012, 1.0447, 0.4689, -1.0014, 0.9816, 0.9321, -0.2733, 0.0998, -1.2341, -0.3929, -0.4131, 0.0109]}, \"token.table\": {\"Topic\": [4, 2, 3, 1, 2, 3, 4, 1, 2, 3, 4, 1, 2, 3, 4, 4, 2, 1, 2, 3, 4, 3, 2, 2, 1, 4, 1, 3, 4, 4, 2, 1, 2, 3, 4, 1, 3, 4, 1, 3, 4, 2, 4, 2, 1, 2, 3, 4, 1, 3, 4, 1, 3, 4, 1, 2, 1, 1, 1, 2, 3, 4, 3, 1, 1, 2, 3, 4, 1, 1, 2, 3, 4, 1, 2, 1, 3, 3, 4, 4, 2, 4, 2, 3, 4, 3, 1, 1, 4, 3, 4, 1, 2, 3, 4, 1, 2, 3, 4, 1, 4, 4, 1, 2, 4, 1, 1, 1, 4, 1, 3, 4, 4, 3, 4, 1, 3, 2, 4, 4, 2, 3, 1, 2, 3, 4, 4, 1, 2, 3, 4, 4, 3, 3, 4, 4, 1, 2, 3, 4, 2, 2, 3, 4, 4, 2, 1, 2, 3, 4, 3, 3, 1, 2, 3, 4, 1, 1, 1, 1, 1, 3, 4, 1, 2, 3, 4, 2, 3, 2, 1, 2, 4, 2, 2, 1, 2, 3, 4, 3, 1, 2, 3, 4, 1, 4, 2, 4, 1, 3, 1, 2, 3, 4, 1, 2, 3, 4, 3, 1, 2, 3, 4, 1, 2, 3, 4, 1, 2, 4, 1, 1, 2, 3, 4, 1, 2, 3, 2, 3, 1, 2, 3, 4, 1, 2, 3, 4, 1, 2, 3, 4, 4, 1, 3, 1, 2, 3, 4, 1, 2, 3, 4, 3, 4, 1, 2, 3, 4, 1, 3, 1, 2, 3, 4, 1, 2, 3, 4, 1, 4, 4, 2, 3, 4, 4, 1, 4, 4, 3, 1, 1, 2, 3, 4, 3, 4, 1, 2, 2, 3, 4, 2, 2, 3, 2, 3, 4, 1, 2, 3, 3, 1, 2, 3, 4, 2, 1, 2, 3, 4, 1, 2, 3, 4, 4, 1, 2, 3, 4, 1, 2, 3, 4, 1, 1, 2, 3, 4, 3, 1, 2, 3, 4, 1, 3, 4, 1, 1, 2, 3, 4, 1, 2, 3, 4, 1, 2, 1, 3, 4, 3, 1, 3, 1, 2, 3, 4, 2, 3, 4, 2, 4, 3, 4, 1, 2, 3, 4, 1, 2, 4, 2, 1, 2, 3, 4, 2, 3, 1, 2, 4, 1, 2, 3, 4, 2, 2, 3, 4, 3, 4, 3, 1, 2, 3, 1, 2, 3, 4, 1, 2, 3, 4, 3, 1, 2, 3, 4, 3, 1, 2, 3, 4, 4, 1, 4, 4, 2, 4, 2, 2, 3, 4, 1, 2, 1, 2, 3, 4, 4, 1, 1, 2, 3, 4, 1, 2, 3, 4, 1, 2, 3, 4, 1, 2, 3, 4, 1, 3, 4, 3, 1, 2, 3, 4, 4, 1, 2, 3, 4, 3, 2, 3, 4, 4, 1, 2, 3, 4, 1, 2, 3, 4, 3, 1, 2, 3, 4, 1, 2, 3, 3, 2, 3, 4, 4, 1, 2, 3, 4, 3, 1, 2, 4, 1, 2, 3, 4, 2], \"Freq\": [0.9148904964826605, 0.9393294439471668, 0.968104153528175, 0.23605494974868502, 0.10386417788942141, 0.5382052854270019, 0.1133063758793688, 0.17093515845440177, 0.49856087882533845, 0.15669056191653494, 0.17093515845440177, 0.6658621324701961, 0.04896045091692618, 0.08812881165046713, 0.19584180366770473, 0.9686321396958815, 0.9668360180516983, 0.4558000839224314, 0.15427079763528445, 0.3085415952705689, 0.08414770780106426, 0.9121292376021286, 0.9419027247647432, 0.9876709893581107, 0.9828888827487804, 0.974640810586839, 0.013346165089747711, 0.8474814831989796, 0.14013473344235097, 0.981399581178472, 0.9327114658303095, 0.28716181729754814, 0.426255822551048, 0.1749892324156934, 0.11217258488185475, 0.8354410843233802, 0.12285898298873237, 0.04300064404605633, 0.8093122028197184, 0.07781848104035753, 0.10894587345650054, 0.06624325880174986, 0.9274056232244979, 0.9418412091004462, 0.22638782086066558, 0.10290355493666617, 0.5350984856706641, 0.13377462141766602, 0.14448036017078966, 0.7092672226566038, 0.13791307107211742, 0.13809933342171216, 0.10357450006628412, 0.7595463338194168, 0.04878861342790364, 0.9269836551301691, 0.9963336716695935, 0.9804319907773756, 0.9817982751818735, 0.950803550793717, 0.03656936733821989, 0.018284683669109944, 0.962685603513841, 0.968685572694731, 0.25058278232015874, 0.12529139116007937, 0.5512821211043493, 0.07517483469604763, 0.9427108464747925, 0.3188577424447549, 0.1006919186667647, 0.4782866136671323, 0.09230092544453432, 0.9600108432667422, 0.0331038221816118, 0.9440574636811105, 0.03146858212270368, 0.09810786357025345, 0.8829707721322809, 0.9745924657905221, 0.8690485926106746, 0.0965609547345194, 0.9509412279603174, 0.8918048185791507, 0.102900555989902, 0.9719957431908666, 0.9942006313647298, 0.18876229662626054, 0.8179699520471291, 0.971238000060459, 0.9368711213149058, 0.020211196234227482, 0.5928617562040062, 0.33853753692331034, 0.048843724232716414, 0.48676017657525567, 0.2252173951318347, 0.10171108167244149, 0.18889200882024845, 0.9480256508204294, 0.05576621475414291, 0.9629175079165722, 0.9698832191970883, 0.02412644823873354, 0.004825289647746708, 0.985132004502227, 0.9666242568822223, 0.9681532901637551, 0.03227177633879184, 0.10887345415740585, 0.7984053304876428, 0.0725823027716039, 0.9732156993904035, 0.040755359088189516, 0.9373732590283589, 0.9791213832634561, 0.9549255434321646, 0.8676459029730706, 0.09640510033034118, 0.9424156618066717, 0.9904178323093243, 0.00861232897660282, 0.29715658909620657, 0.29715658909620657, 0.39620878546160876, 0.00825434969711685, 0.9620725618498356, 0.04814819260672783, 0.6861117446458715, 0.1925927704269113, 0.07222228891009173, 0.9645577437100207, 0.9324409843368492, 0.8829183650047864, 0.9669060066984473, 0.9344603231770097, 0.09693170212723444, 0.6508271428542884, 0.11077908814541079, 0.15232124619993984, 0.9762316476319083, 0.10266117778749287, 0.8726200111936895, 0.939797515677808, 0.9192308528096316, 0.9243326202006408, 0.24339763167025183, 0.1622650877801679, 0.10141567986260493, 0.48679526334050366, 0.9878753433328668, 0.9906379178920991, 0.6777338964129737, 0.07033087604285576, 0.17369595143917407, 0.0777902113807344, 0.9886002287977272, 0.9902257598355505, 0.9894869577533548, 0.9388301063352664, 0.9388495951933398, 0.0228987706144717, 0.0457975412289434, 0.2824365141496897, 0.3357264224798198, 0.11723779832628628, 0.26644954165065066, 0.9910772144289807, 0.9673541725244093, 0.9582410329400446, 0.026082999815963032, 0.13041499907981516, 0.834655994110817, 0.9633429384512996, 0.92422070753752, 0.7488469115062674, 0.007720071252641931, 0.20844192382133214, 0.03860035626320966, 0.9758084588162041, 0.08988542734291463, 0.5254840367739625, 0.11754248190996529, 0.26274201838698125, 0.26803771386521036, 0.7216399988678741, 0.1334370930245147, 0.8634164842762716, 0.11785167585038109, 0.8642456229027946, 0.10096058136598765, 0.4892705096967094, 0.11649297849921651, 0.2951155455313485, 0.2657990783235777, 0.29237898615593544, 0.3543987710981036, 0.08416970813579959, 0.9483986111436276, 0.2754119911161977, 0.453282235378742, 0.2639364914863561, 0.005737749814920785, 0.7275199792056095, 0.05963278518078766, 0.05963278518078766, 0.15504524147004792, 0.1332708794786354, 0.7996252768718124, 0.0666354397393177, 0.9798147755971113, 0.6165177757064668, 0.2541052994465843, 0.11663849810662885, 0.012496981939995948, 0.9615847974064654, 0.017171157096544026, 0.017171157096544026, 0.9824622285545284, 0.9736478118746145, 0.04167631237089691, 0.5616379238554202, 0.34928718939418363, 0.045645484977649, 0.09560514345521734, 0.19121028691043468, 0.286815430365652, 0.43978365989399976, 0.27103862229263675, 0.3930060023243233, 0.21683089783410942, 0.11293275928859865, 0.9358554168616365, 0.8854718013241049, 0.10798436601513474, 0.9786062009501069, 0.013861277633854205, 0.0027722555267708413, 0.008316766580312523, 0.8017405858558599, 0.031647654704836575, 0.0843937458795642, 0.0843937458795642, 0.03749804331464997, 0.9749491261808991, 0.22437121761761517, 0.5484629763986149, 0.14958081174507679, 0.07479040587253839, 0.9684301746855747, 0.970998239597971, 0.2611385025404266, 0.6017539406366352, 0.12489232730194315, 0.011353847936540287, 0.8196246551507201, 0.05538004426694055, 0.1107600885338811, 0.02215201770677622, 0.9893564352247779, 0.006382944743385664, 0.9383934804161923, 0.14819473472379416, 0.009879648981586277, 0.8397701634348335, 0.9690327545479525, 0.9939989487970877, 0.004559628205491229, 0.9849703045207865, 0.9411035796113699, 0.9686855726947193, 0.343874962763652, 0.21718418700862233, 0.3137104923457878, 0.12669077575502968, 0.062057186030106355, 0.9308577904515953, 0.9417830705619648, 0.9291668812079207, 0.09799301277833972, 0.7839441022267177, 0.09799301277833972, 0.8993423182326982, 0.8686217314493425, 0.11980989399301276, 0.24480491767199486, 0.1632032784479966, 0.5916118843739876, 0.7050790307712947, 0.14101580615425896, 0.15383542489555524, 0.9178444065461606, 0.8398383438528946, 0.009880451104151701, 0.10868496214566871, 0.039521804416606805, 0.9311873724760331, 0.332924358645916, 0.2615834246503626, 0.29130881381517654, 0.11295647882629294, 0.34531918605696116, 0.23021279070464076, 0.051158397934364615, 0.3836879845077346, 0.9605600319073383, 0.15992277511847727, 0.01999034688980966, 0.35982624401657387, 0.45977797846562213, 0.048604716405431805, 0.15796532831765336, 0.6440124923719714, 0.15796532831765336, 0.942520288011954, 0.11524274743183562, 0.016463249633119372, 0.8560889809222074, 0.016463249633119372, 0.9231730518807524, 0.021758445779232284, 0.08703378311692914, 0.19582601201309055, 0.6962702649354331, 0.052589945016504026, 0.8414391202640644, 0.10517989003300805, 0.9732586700072541, 0.056110788066282384, 0.2645222865981884, 0.5931711881292709, 0.08817409553272947, 0.7754986984399619, 0.07637487181605684, 0.09399984223514689, 0.052874911257270125, 0.9364195562666613, 0.032290329526436595, 0.11154157644666053, 0.6915577739692953, 0.17846652231465684, 0.9287801211151697, 0.0617558820631276, 0.9263382309469139, 0.197309298977044, 0.019094448288101033, 0.6810353222756035, 0.10820187363257251, 0.02698640974082248, 0.1349320487041124, 0.8365787019654969, 0.8766651403098147, 0.11954524640588382, 0.23288670243024012, 0.7374745576957604, 0.21126836238375074, 0.45589488724914634, 0.21126836238375074, 0.1223132624326978, 0.9774670889153442, 0.8979394509214367, 0.9753546955509828, 0.9097649399698376, 0.05050758788352048, 0.10101517576704096, 0.8081214061363277, 0.02525379394176024, 0.9830514037908908, 0.9034947716262807, 0.03416935955138193, 0.922572707887312, 0.03416935955138193, 0.04055637747997928, 0.12166913243993785, 0.8246463420929121, 0.013518792493326428, 0.9883249420410195, 0.9928378075295342, 0.8488254590470158, 0.14551293583663127, 0.943060163695472, 0.047153008184773595, 0.8757157884908633, 0.9876916685332656, 0.9364771925079839, 0.9282002868394978, 0.2840282374164736, 0.19724183153921776, 0.44182170264784776, 0.07889673261568711, 0.3595400270830182, 0.08361395978674842, 0.45151538284844145, 0.1003367517440981, 0.9557859044025181, 0.04651416447212015, 0.902374790759131, 0.03721133157769612, 0.00930283289442403, 0.965575725477349, 0.028356857173673512, 0.5788134964273358, 0.3302739835521974, 0.06171786561328941, 0.9665908909635084, 0.9434536657383892, 0.04901058003835788, 0.9638486730641047, 0.9533607574116256, 0.969308896842995, 0.9410712774459926, 0.20777516003110003, 0.025971895003887503, 0.7531849551127376, 0.9778906943368484, 0.9255410490883644, 0.06730480204243247, 0.7627877564809012, 0.1570445380990091, 0.9747322849283376, 0.974691052753909, 0.9575405076400484, 0.20384615612881704, 0.42646761611160405, 0.22530364624763988, 0.14215587203720134, 0.032139170750873546, 0.7807927953006338, 0.02835809183900607, 0.158805314298434, 0.12300666209769907, 0.11354461116710685, 0.4825645974602041, 0.2743994769871749, 0.42391240293133947, 0.24963730394845549, 0.1978257880346251, 0.12717372087940185, 0.863180525605785, 0.07847095687325317, 0.056050683480895126, 0.9301541957069439, 0.19284037125766798, 0.24640714105146463, 0.22498043313394597, 0.34282732668029864, 0.9543683235566922, 0.23049825215216516, 0.2576156935818317, 0.3932029007301641, 0.1220284864334992, 0.9425079620273141, 0.9429970778710514, 0.06735693413364653, 0.9522949166616419, 0.9483044474234773, 0.1358462647323157, 0.33344083161568394, 0.18524490645315775, 0.34579049204589446, 0.3079904771937514, 0.39485958614583516, 0.2369157516875011, 0.05528034206041692, 0.9209860521408811, 0.6125153727130509, 0.21583875038459888, 0.15750395298335593, 0.011666959480248588, 0.2970082463614197, 0.6105169508540295, 0.09900274878713991, 0.9296250335383033, 0.8373808000142576, 0.14355099428815846, 0.023925165714693074, 0.97935761823885, 0.21138726124927898, 0.36992770718623824, 0.13211703828079938, 0.28184968166570534, 0.9622421290844696, 0.04086787714105904, 0.42911270998111994, 0.510848464263238, 0.19948380918978625, 0.0775770369071391, 0.6095338614132358, 0.11082433843877015, 0.9700430227177871], \"Term\": [\"000\", \"absolute\", \"advisory\", \"agent\", \"agent\", \"agent\", \"agent\", \"airline\", \"airline\", \"airline\", \"airline\", \"airport\", \"airport\", \"airport\", \"airport\", \"airway\", \"american\", \"amp\", \"amp\", \"amp\", \"amp\", \"angry\", \"apply\", \"appreciate\", \"arrive\", \"atlanta\", \"attendant\", \"attendant\", \"attendant\", \"austin\", \"automate\", \"bad\", \"bad\", \"bad\", \"bad\", \"bag\", \"bag\", \"bag\", \"baggage\", \"baggage\", \"baggage\", \"birthday\", \"birthday\", \"blue\", \"book\", \"book\", \"book\", \"book\", \"booking\", \"booking\", \"booking\", \"bring\", \"bring\", \"bring\", \"busy\", \"busy\", \"cancel\", \"cancelled\", \"car\", \"care\", \"care\", \"care\", \"carry\", \"ce\", \"change\", \"change\", \"change\", \"change\", \"charlotte\", \"check\", \"check\", \"check\", \"check\", \"chicago\", \"chicago\", \"clt\", \"clt\", \"club\", \"club\", \"companion\", \"company\", \"company\", \"complaint\", \"complaints\", \"complaints\", \"confirmation\", \"connection\", \"cool\", \"cool\", \"correct\", \"cross\", \"customer\", \"customer\", \"customer\", \"customer\", \"day\", \"day\", \"day\", \"day\", \"dca\", \"dca\", \"definitely\", \"delay\", \"delay\", \"delay\", \"deliver\", \"depart\", \"departure\", \"departure\", \"desk\", \"desk\", \"desk\", \"destinationdragon\", \"destinationdragons\", \"destinationdragons\", \"dfw\", \"die\", \"disconnect\", \"disconnect\", \"dividend\", \"dm\", \"dm\", \"don\", \"don\", \"don\", \"don\", \"drink\", \"email\", \"email\", \"email\", \"email\", \"enjoy\", \"enter\", \"especially\", \"excellent\", \"excited\", \"experience\", \"experience\", \"experience\", \"experience\", \"expire\", \"explain\", \"explain\", \"fair\", \"favorite\", \"feedback\", \"finally\", \"finally\", \"finally\", \"finally\", \"fleek\", \"fleet\", \"flight\", \"flight\", \"flight\", \"flight\", \"flighted\", \"flightle\", \"flightled\", \"fll\", \"flt\", \"flt\", \"flt\", \"fly\", \"fly\", \"fly\", \"fly\", \"follow\", \"forever\", \"forward\", \"friend\", \"friend\", \"friend\", \"fuck\", \"future\", \"gate\", \"gate\", \"gate\", \"gate\", \"gold\", \"good\", \"good\", \"good\", \"good\", \"got\", \"got\", \"great\", \"great\", \"guess\", \"guess\", \"guy\", \"guy\", \"guy\", \"guy\", \"help\", \"help\", \"help\", \"help\", \"high\", \"hold\", \"hold\", \"hold\", \"hold\", \"home\", \"home\", \"home\", \"home\", \"horrible\", \"horrible\", \"horrible\", \"hotel\", \"hour\", \"hour\", \"hour\", \"hour\", \"hrs\", \"hrs\", \"hrs\", \"idea\", \"internet\", \"issue\", \"issue\", \"issue\", \"issue\", \"jetblue\", \"jetblue\", \"jetblue\", \"jetblue\", \"just\", \"just\", \"just\", \"just\", \"lady\", \"land\", \"land\", \"late\", \"late\", \"late\", \"late\", \"leave\", \"leave\", \"leave\", \"leave\", \"life\", \"life\", \"like\", \"like\", \"like\", \"like\", \"load\", \"lol\", \"look\", \"look\", \"look\", \"look\", \"lose\", \"lose\", \"lose\", \"lose\", \"lost\", \"lost\", \"lounge\", \"love\", \"love\", \"love\", \"lovely\", \"luggage\", \"luggage\", \"luv\", \"mail\", \"mainte\", \"make\", \"make\", \"make\", \"make\", \"man\", \"man\", \"mechanical\", \"medium\", \"member\", \"member\", \"member\", \"mention\", \"message\", \"message\", \"mile\", \"mile\", \"mile\", \"min\", \"min\", \"min\", \"mind\", \"miss\", \"miss\", \"miss\", \"miss\", \"mobile\", \"need\", \"need\", \"need\", \"need\", \"new\", \"new\", \"new\", \"new\", \"news\", \"nice\", \"nice\", \"nice\", \"nice\", \"number\", \"number\", \"number\", \"number\", \"okay\", \"online\", \"online\", \"online\", \"online\", \"overhead\", \"pass\", \"pass\", \"pass\", \"pass\", \"person\", \"person\", \"person\", \"phl\", \"phone\", \"phone\", \"phone\", \"phone\", \"plane\", \"plane\", \"plane\", \"plane\", \"pm\", \"pm\", \"point\", \"point\", \"point\", \"pre\", \"probably\", \"probably\", \"problem\", \"problem\", \"problem\", \"problem\", \"question\", \"question\", \"question\", \"quick\", \"quick\", \"real\", \"real\", \"really\", \"really\", \"really\", \"really\", \"rebook\", \"receipt\", \"record\", \"relation\", \"rep\", \"rep\", \"rep\", \"rep\", \"reply\", \"representative\", \"request\", \"request\", \"request\", \"reservation\", \"reservation\", \"reservation\", \"reservation\", \"respond\", \"response\", \"rt\", \"rt\", \"rude\", \"rude\", \"rule\", \"runway\", \"safe\", \"save\", \"say\", \"say\", \"say\", \"say\", \"seat\", \"seat\", \"seat\", \"seat\", \"sell\", \"send\", \"send\", \"send\", \"send\", \"sense\", \"service\", \"service\", \"service\", \"service\", \"set\", \"sit\", \"sit\", \"snack\", \"social\", \"son\", \"sound\", \"southwest\", \"southwest\", \"southwest\", \"strand\", \"submit\", \"suck\", \"suck\", \"suck\", \"supervisor\", \"swa\", \"tarmac\", \"tell\", \"tell\", \"tell\", \"tell\", \"thank\", \"thank\", \"thank\", \"thank\", \"ticket\", \"ticket\", \"ticket\", \"ticket\", \"time\", \"time\", \"time\", \"time\", \"tomorrow\", \"tomorrow\", \"tomorrow\", \"train\", \"travel\", \"travel\", \"travel\", \"travel\", \"true\", \"try\", \"try\", \"try\", \"try\", \"tsa\", \"twitter\", \"twitter\", \"unbelievable\", \"unhelpful\", \"use\", \"use\", \"use\", \"use\", \"ve\", \"ve\", \"ve\", \"ve\", \"volume\", \"wait\", \"wait\", \"wait\", \"wait\", \"week\", \"week\", \"week\", \"welcome\", \"wifi\", \"wifi\", \"wifi\", \"wonderful\", \"work\", \"work\", \"work\", \"work\", \"wow\", \"year\", \"year\", \"year\", \"yes\", \"yes\", \"yes\", \"yes\", \"yr\"]}, \"R\": 30, \"lambda.step\": 0.01, \"plot.opts\": {\"xlab\": \"PC1\", \"ylab\": \"PC2\"}, \"topic.order\": [4, 1, 2, 3]};\n",
       "\n",
       "function LDAvis_load_lib(url, callback){\n",
       "  var s = document.createElement('script');\n",
       "  s.src = url;\n",
       "  s.async = true;\n",
       "  s.onreadystatechange = s.onload = callback;\n",
       "  s.onerror = function(){console.warn(\"failed to load library \" + url);};\n",
       "  document.getElementsByTagName(\"head\")[0].appendChild(s);\n",
       "}\n",
       "\n",
       "if(typeof(LDAvis) !== \"undefined\"){\n",
       "   // already loaded: just create the visualization\n",
       "   !function(LDAvis){\n",
       "       new LDAvis(\"#\" + \"ldavis_el2022829073145230405021837870\", ldavis_el2022829073145230405021837870_data);\n",
       "   }(LDAvis);\n",
       "}else if(typeof define === \"function\" && define.amd){\n",
       "   // require.js is available: use it to load d3/LDAvis\n",
       "   require.config({paths: {d3: \"https://d3js.org/d3.v5\"}});\n",
       "   require([\"d3\"], function(d3){\n",
       "      window.d3 = d3;\n",
       "      LDAvis_load_lib(\"https://cdn.jsdelivr.net/gh/bmabey/pyLDAvis@3.3.1/pyLDAvis/js/ldavis.v3.0.0.js\", function(){\n",
       "        new LDAvis(\"#\" + \"ldavis_el2022829073145230405021837870\", ldavis_el2022829073145230405021837870_data);\n",
       "      });\n",
       "    });\n",
       "}else{\n",
       "    // require.js not available: dynamically load d3 & LDAvis\n",
       "    LDAvis_load_lib(\"https://d3js.org/d3.v5.js\", function(){\n",
       "         LDAvis_load_lib(\"https://cdn.jsdelivr.net/gh/bmabey/pyLDAvis@3.3.1/pyLDAvis/js/ldavis.v3.0.0.js\", function(){\n",
       "                 new LDAvis(\"#\" + \"ldavis_el2022829073145230405021837870\", ldavis_el2022829073145230405021837870_data);\n",
       "            })\n",
       "         });\n",
       "}\n",
       "</script>"
      ],
      "text/plain": [
       "PreparedData(topic_coordinates=                x           y  topics  cluster       Freq\n",
       "topic                                                    \n",
       "3      269.562408 -124.803398       1        1  33.512349\n",
       "0        1.782994 -295.079681       2        1  24.772504\n",
       "1      220.811432 -343.832123       3        1  24.707359\n",
       "2       50.533993  -76.050934       4        1  17.007788, topic_info=          Term        Freq       Total Category  logprob  loglift\n",
       "2070     thank  528.000000  528.000000  Default  30.0000  30.0000\n",
       "415     cancel  336.000000  336.000000  Default  29.0000  29.0000\n",
       "1241      late  360.000000  360.000000  Default  28.0000  28.0000\n",
       "614   customer  593.000000  593.000000  Default  27.0000  27.0000\n",
       "1882   service  599.000000  599.000000  Default  26.0000  26.0000\n",
       "...        ...         ...         ...      ...      ...      ...\n",
       "638        day   25.867280  137.644785   Topic4  -5.5168   0.0998\n",
       "614   customer   29.394674  593.730320   Topic4  -5.3890  -1.2341\n",
       "1209      just   25.416355  221.370665   Topic4  -5.5344  -0.3929\n",
       "292        bad   25.078595  222.870856   Topic4  -5.5478  -0.4131\n",
       "180    airline   24.141631  140.404117   Topic4  -5.5858   0.0109\n",
       "\n",
       "[289 rows x 6 columns], token_table=      Topic      Freq      Term\n",
       "term                           \n",
       "1         4  0.914890       000\n",
       "131       2  0.939329  absolute\n",
       "163       3  0.968104  advisory\n",
       "169       1  0.236055     agent\n",
       "169       2  0.103864     agent\n",
       "...     ...       ...       ...\n",
       "2311      1  0.199484       yes\n",
       "2311      2  0.077577       yes\n",
       "2311      3  0.609534       yes\n",
       "2311      4  0.110824       yes\n",
       "2316      2  0.970043        yr\n",
       "\n",
       "[490 rows x 3 columns], R=30, lambda_step=0.01, plot_opts={'xlab': 'PC1', 'ylab': 'PC2'}, topic_order=[4, 1, 2, 3])"
      ]
     },
     "execution_count": 26,
     "metadata": {},
     "output_type": "execute_result"
    }
   ],
   "source": [
    "pyLDAvis.sklearn.prepare(lda_model = lda_tf_idf, dtm = document_word_matrix_tf_idf, vectorizer = tfidf_vectorizer, mds='tsne')"
   ]
  },
  {
   "cell_type": "markdown",
   "metadata": {},
   "source": [
    "# Summary\n",
    "\n",
    "+ We create a topic model using LDA and CountVectorizer.\n",
    "+ We create a topic model using LDA and TfidfVectorizer.\n",
    "+ We visualize the top words in each topic.\n",
    "+ We visualize topic modeling using pyLDAvis.\n",
    "\n",
    "\n",
    "\n",
    "\n",
    "\n"
   ]
  },
  {
   "cell_type": "markdown",
   "metadata": {},
   "source": [
    "# Weekly Assignments:\n",
    "\n",
    "# Week 8: Project 8 \n",
    "\n",
    "**Assignment Development Feedback** \n",
    "Remember, the weekly assignments in this course are intentionally complex. All of the skills and knowledge needed to complete the assignments has been woven into the course modules, but I am not teaching directly to the assignments. Instead, I am asking you to pull together the pieces of the puzzle which will help you solve the problem. It is important you DO NOT PROCRASTINATE. I am here to support you, but timely feedback requires you to work proactively. \n",
    "\n",
    "At any time during week 8, you may submit the Jupyter Notebook, draft files, etc., along with specific questions related to the development of this assignment. The goal is not for me to \"pre-grade\" your work, but offer guidance and point you in the right direction. I encourage you to make use of this opportunity to refine and develop your work. Refer to my Instructor Introduction and the Course Syllabus for the best ways to contact me, in order to get feedback, and expected response times. \n",
    "\n",
    "**For the purposes of this assignment, use Jupyter Notebook**.\n",
    "\n",
    "Your submission should have one file. This file should be the JupyterNotebook and it should be saved like \"Project6_LastName_FirstName.ipynb\" (notice the .ipynb as the file extension of the JupyterNotebook script). You need to add the narrative and run the cells and get the corresponding output for each cell.\n",
    "\n",
    "Assignment:\n",
    "\n",
    "<font color='red'> **For each question make sure that your work is not repeating something in the course modules or the textbook. Each response must be original and your own submission. You are strictly prohibited from having another person(s) write, review or edit your solution.  Failure to follow this may result in a failing grade.** </font>\n",
    "\n"
   ]
  },
  {
   "cell_type": "markdown",
   "metadata": {},
   "source": [
    "You are a data scientist working for a Consulting Firm. You are given a dataset containing in sentiment140.csv. The data set has six columns **without header**:\n",
    "\n",
    "0. - the polarity of the tweet (0 = negative, 2 = neutral, 4 = positive)\n",
    "1. - the id of the tweet (2087)\n",
    "2. - the date of the tweet (Sat May 16 23:58:44 UTC 2009)\n",
    "3. - the query (lyx). If there is no query, then this value is NO_QUERY.\n",
    "4. - the user that tweeted (robotickilldozr)\n",
    "5. - the text of the tweet (\"Lyx is cool\")\n",
    "\n",
    "Data source: http://help.sentiment140.com/for-students\n",
    "\n",
    "Our goal is to **build topic model on the text of the tweet**.\n"
   ]
  },
  {
   "cell_type": "markdown",
   "metadata": {},
   "source": [
    "\n",
    "Q1. Load the dataset of sentiment140.csv into memory.\n",
    "\n",
    "Q2. Clean and preprocess the texts.\n",
    "\n",
    "Q3  Generate the first topic model by setting 5 topics using LDA method and **CountVectorizer**.\n",
    "\n",
    "Q4. Plot the top 20 words for each topic for the model above.\n",
    "\n",
    "\n",
    "Q5  Generate the second topic model by setting 5 topics using LDA method and **TfidfVectorizer**.\n",
    "\n",
    "Q6. Plot the top 20 words for each topic for the second model above.\n",
    "\n",
    "\n",
    "Q7. Visualize the first topic model using dimension reduction method of Principal Coordinate Analysis(aka Classical Multidimensional Scaling.\n",
    "\n",
    "Q8. Visualize the first topic model using dimension reduction method of t-distributed Stochastic Neighbor Embedding.\n",
    "\n",
    "\n",
    "\n",
    "\n",
    "\n"
   ]
  },
  {
   "cell_type": "markdown",
   "metadata": {},
   "source": [
    "# **Grading policies on project:**\n",
    "\n",
    "This is the rubric the instructor use to grade the projects. This allowed for fine but clear distinctions in evaluating the students’ projects.\n",
    "\n",
    "+ **Python Codes and Style in the Code Cells**\n",
    "\n",
    "    + 15 pts: Python codes are easier to read, share, and verify. There are comments in the codes. There are no bugs in the script.\n",
    "    + 12 pts: Pyton codes are easier to read, share, and verify. There are few comments. There are less than 3 bugs in the script.\n",
    "    + 9 pts: Python codes could be read. There is no comment. There are less than 4 bugs in the script.\n",
    "    + 6 pts: Python codes are hard to read. There is no comment. There are more than 5 bugs in the script\n",
    "    + 3 pts: Python codes are hard to read. There is no comments. There are more than 5 bugs in the script.\n",
    "+ **Interpretation and Use of Model in the Markdown Cells**\n",
    "    + 10 pts: The data and model is accurately interpreted to justify the answer, and sufficient data and model is used to defend the main argument.\n",
    "    + 8 pts: The data and model is accurately interpreted to justify the answer, and model is used to defend the main argument, but it might not be sufficient.\n",
    "    + 6 pts: Data and model is used to defend the main argument, but it is not accurately interpreted the idea and model, and it might not be sufficient.\n",
    "    + 4 pts: Data and model is used to defend the main argument, but it is insufficient\n",
    "    + 2 pts: Data and model is provided, but it is not used to defend the main argument.\n"
   ]
  },
  {
   "cell_type": "markdown",
   "metadata": {},
   "source": [
    "\n",
    "\n",
    "# Final Project\n",
    "\n",
    "**Assignment Development Feedback** \n",
    "Remember, the final assignments in this course are intentionally complex. All of the skills and knowledge needed to complete the assignments has been woven into the course modules, but I am not teaching directly to the assignments. Instead, I am asking you to pull together the pieces of the puzzle which will help you solve the problem. It is important you DO NOT PROCRASTINATE. I am here to support you, but timely feedback requires you to work proactively. \n",
    "\n",
    "At any time during week 8, you may submit the Jupyter Notebook, draft files, etc., along with specific questions related to the development of this assignment. The goal is not for me to \"pre-grade\" your work, but offer guidance and point you in the right direction. I encourage you to make use of this opportunity to refine and develop your work. Refer to my Instructor Introduction and the Course Syllabus for the best ways to contact me, in order to get feedback, and expected response times. \n",
    "\n",
    "**For the purposes of this assignment, use Jupyter Notebook**.\n",
    "\n",
    "Your submission should have one file. This file should be the JupyterNotebook and it should be saved like \"Final_LastName_FirstName.ipynb\" (notice the .ipynb as the file extension of the JupyterNotebook script). You need to add the narrative and run the cells and get the corresponding output for each cell.\n",
    "\n",
    "Assignment:\n",
    "\n",
    "<font color='red'> **For each question make sure that your work is not repeating something in the course modules or the textbook. Each response must be original and your own submission. You are strictly prohibited from having another person(s) write, review or edit your solution.  Failure to follow this may result in a failing grade.** </font>\n"
   ]
  },
  {
   "cell_type": "code",
   "execution_count": null,
   "metadata": {},
   "outputs": [],
   "source": []
  }
 ],
 "metadata": {
  "kernelspec": {
   "display_name": "Python 3 (ipykernel)",
   "language": "python",
   "name": "python3"
  },
  "language_info": {
   "codemirror_mode": {
    "name": "ipython",
    "version": 3
   },
   "file_extension": ".py",
   "mimetype": "text/x-python",
   "name": "python",
   "nbconvert_exporter": "python",
   "pygments_lexer": "ipython3",
   "version": "3.9.7"
  }
 },
 "nbformat": 4,
 "nbformat_minor": 4
}
