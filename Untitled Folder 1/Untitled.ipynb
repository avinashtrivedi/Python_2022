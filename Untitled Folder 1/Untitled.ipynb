{
 "cells": [
  {
   "cell_type": "code",
   "execution_count": 9,
   "id": "5947ac3f",
   "metadata": {},
   "outputs": [],
   "source": [
    "def repeated(num):\n",
    "    num = str(num)\n",
    "    \n",
    "    if '-' in num:\n",
    "        num = num[1:]\n",
    "        \n",
    "    for i in range(len(num)):\n",
    "        if num[i] == '0':\n",
    "            continue\n",
    "        else:\n",
    "            break\n",
    "    num = num[i:]\n",
    "\n",
    "    lst = []\n",
    "    for i in ('0','1','2','3','4','5','6','7','8','9'):\n",
    "        lst.append(num.count(i))\n",
    "    return lst"
   ]
  },
  {
   "cell_type": "code",
   "execution_count": 8,
   "id": "daebd7e9",
   "metadata": {},
   "outputs": [
    {
     "data": {
      "text/plain": [
       "[0, 0, 0, 3, 1, 2, 1, 0, 0, 0]"
      ]
     },
     "execution_count": 8,
     "metadata": {},
     "output_type": "execute_result"
    }
   ],
   "source": [
    "repeated(3456353)"
   ]
  },
  {
   "cell_type": "code",
   "execution_count": null,
   "id": "9ea6fd99",
   "metadata": {},
   "outputs": [],
   "source": []
  }
 ],
 "metadata": {
  "kernelspec": {
   "display_name": "Python 3 (ipykernel)",
   "language": "python",
   "name": "python3"
  },
  "language_info": {
   "codemirror_mode": {
    "name": "ipython",
    "version": 3
   },
   "file_extension": ".py",
   "mimetype": "text/x-python",
   "name": "python",
   "nbconvert_exporter": "python",
   "pygments_lexer": "ipython3",
   "version": "3.8.5"
  }
 },
 "nbformat": 4,
 "nbformat_minor": 5
}
