{
 "cells": [
  {
   "cell_type": "code",
   "execution_count": 2,
   "id": "60a91899",
   "metadata": {},
   "outputs": [],
   "source": [
    "import pandas as pd\n",
    "\n",
    "df_full = pd.read_csv(\"input.csv\")\n",
    "\n",
    "for col in df_full:\n",
    "    if isinstance(df_full[col][0],str):\n",
    "        df_full[col] = df_full[col].apply(lambda x: x.strip())\n",
    "        \n",
    "df = df_full.copy()\n",
    "\n",
    "df['imageID_13_char'] = df['Image_ID'].apply(lambda x: x[:13])\n",
    "\n",
    "df['total'] = df.apply(lambda x: x['include']+x['date']+x['State']+x['complete']+x['version'],axis=1)\n",
    "\n",
    "d = df.groupby(['total'])[['total','imageID_13_char']].indices\n",
    "\n",
    "dup_indx = []\n",
    "for indx in d.values():\n",
    "    if len(indx)>1:\n",
    "        dup_indx = dup_indx + list(indx)\n",
    "\n",
    "df = df[list(df)[:-1]].iloc[dup_indx]\n",
    "df.reset_index(inplace=True,drop=True)\n",
    "df_file1 = df[['include','date','State','complete','version','imageID_13_char']]\n",
    "df_file1 = df_file1.drop_duplicates(keep=False)\n",
    "\n",
    "df_file1 = df.iloc[df_file1.index]\n",
    "df_file1 = df_file1.drop('imageID_13_char',axis=True)\n",
    "\n",
    "dup_indx = list(set(df.index) - set(df_file1.index))\n",
    "\n",
    "df_file2 = df.iloc[dup_indx]\n",
    "df_file2 = df_file2.drop('imageID_13_char',axis=True)\n",
    "\n",
    "df_file1.reset_index(inplace=True,drop=True)\n",
    "df_file2.reset_index(inplace=True,drop=True)\n",
    "\n",
    "# New code Here\n",
    "df = df_file1.copy()\n",
    "\n",
    "df['conf_level'] = df['conf_level'].replace(['high','moderate','low'],[3,2,1])\n",
    "\n",
    "df['total'] = df.apply(lambda x: x['include']+str(x['date'])+x['State']+x['complete']+x['version'],axis=1)\n",
    "\n",
    "d = df.groupby(['total'])[['total']].indices\n",
    "\n",
    "indx_drop = []\n",
    "\n",
    "for indx in d.values():\n",
    "    if len(indx)>1:\n",
    "        x = set(df['Quantity'].iloc[indx])\n",
    "        if len(x)==1:\n",
    "            indx = df['conf_level'].iloc[indx].idxmax()\n",
    "        else:\n",
    "            indx = df['Quantity'].iloc[indx].idxmax()\n",
    "        indx_drop.append(indx)\n",
    "    \n",
    "df_result1 = pd.concat([df_file2,df_file1.iloc[indx_drop]]).reset_index(drop=True)\n",
    "df_result2 = df_file1.drop(indx_drop)\n",
    "\n",
    "df_result1.to_csv('Result1.csv',index=False) \n",
    "df_result2.to_csv('Result2.csv',index=False)"
   ]
  },
  {
   "cell_type": "code",
   "execution_count": null,
   "id": "6c0082fe",
   "metadata": {},
   "outputs": [],
   "source": [
    "df_result1"
   ]
  },
  {
   "cell_type": "code",
   "execution_count": null,
   "id": "82dd5576",
   "metadata": {},
   "outputs": [],
   "source": [
    "df_result2"
   ]
  },
  {
   "cell_type": "code",
   "execution_count": null,
   "id": "cf8b55db",
   "metadata": {},
   "outputs": [],
   "source": []
  },
  {
   "cell_type": "code",
   "execution_count": null,
   "id": "4963befb",
   "metadata": {},
   "outputs": [],
   "source": []
  },
  {
   "cell_type": "code",
   "execution_count": null,
   "id": "2f387949",
   "metadata": {},
   "outputs": [],
   "source": [
    "import pandas as pd\n",
    "df_file1 = pd.read_excel('input.xlsx',sheet_name='file1')\n",
    "df_file2 = pd.read_excel('input.xlsx',sheet_name='file2')\n",
    "\n",
    "df = df_file1.copy()\n",
    "\n",
    "for col in df:\n",
    "    if isinstance(df[col][0],str):\n",
    "        df[col] = df[col].apply(lambda x: x.strip())\n",
    "\n",
    "df['conf_level'] = df['conf_level'].replace(['high','moderate','low'],[3,2,1])\n",
    "\n",
    "df['total'] = df.apply(lambda x: x['include']+str(x['date'])+x['State']+x['complete']+x['version'],axis=1)\n",
    "\n",
    "d = df.groupby(['total'])[['total']].indices\n",
    "\n",
    "indx_drop = []\n",
    "\n",
    "for indx in d.values():\n",
    "    if len(indx)>1:\n",
    "        x = set(df['Quantity'].iloc[indx])\n",
    "        if len(x)==1:\n",
    "            indx = df['conf_level'].iloc[indx].idxmax()\n",
    "        else:\n",
    "            indx = df['Quantity'].iloc[indx].idxmax()\n",
    "        indx_drop.append(indx)\n",
    "    \n",
    "df_result1 = pd.concat([df_file2,df_file1.iloc[indx_drop]]).reset_index(drop=True)\n",
    "df_result2 = df_file1.drop(indx_drop)\n",
    "writer = pd.ExcelWriter('result.xlsx', engine='xlsxwriter')\n",
    "df_result1.to_excel(writer, sheet_name='result1',index=False)\n",
    "df_result2.to_excel(writer, sheet_name='result2',index=False)\n",
    "writer.save()"
   ]
  },
  {
   "cell_type": "code",
   "execution_count": null,
   "id": "d3b3eb1b",
   "metadata": {},
   "outputs": [],
   "source": []
  },
  {
   "cell_type": "code",
   "execution_count": null,
   "id": "931d232f",
   "metadata": {},
   "outputs": [],
   "source": []
  },
  {
   "cell_type": "code",
   "execution_count": null,
   "id": "c48dc43c",
   "metadata": {},
   "outputs": [],
   "source": []
  },
  {
   "cell_type": "code",
   "execution_count": null,
   "id": "a3e9f371",
   "metadata": {},
   "outputs": [],
   "source": [
    "writer = pd.ExcelWriter(f'{companies[0].split()[0]+month+str(year)}.xlsx', engine='xlsxwriter')\n",
    "\n",
    "# Write each dataframe to a different worksheet. you could write different string like above if you want\n",
    "df2.to_excel(writer, sheet_name='processed',startcol=1,index=False)\n",
    "df_custom.to_excel(writer, sheet_name='raw',startcol=2,index=False)\n",
    "writer.save()"
   ]
  },
  {
   "cell_type": "code",
   "execution_count": null,
   "id": "58f59526",
   "metadata": {},
   "outputs": [],
   "source": [
    "df_file1 = pd.read_excel('input.xlsx',sheet_name='file1')"
   ]
  },
  {
   "cell_type": "code",
   "execution_count": null,
   "id": "38afe219",
   "metadata": {},
   "outputs": [],
   "source": []
  }
 ],
 "metadata": {
  "kernelspec": {
   "display_name": "Python 3 (ipykernel)",
   "language": "python",
   "name": "python3"
  },
  "language_info": {
   "codemirror_mode": {
    "name": "ipython",
    "version": 3
   },
   "file_extension": ".py",
   "mimetype": "text/x-python",
   "name": "python",
   "nbconvert_exporter": "python",
   "pygments_lexer": "ipython3",
   "version": "3.9.12"
  }
 },
 "nbformat": 4,
 "nbformat_minor": 5
}
