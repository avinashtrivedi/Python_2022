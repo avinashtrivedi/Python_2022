{
 "cells": [
  {
   "cell_type": "code",
   "execution_count": 47,
   "id": "81464bb4",
   "metadata": {},
   "outputs": [
    {
     "data": {
      "text/plain": [
       "'CXCIX'"
      ]
     },
     "execution_count": 47,
     "metadata": {},
     "output_type": "execute_result"
    }
   ],
   "source": [
    "\n",
    "\n",
    "num = 199\n",
    "\n",
    "c = [\"\", \"C\"]\n",
    "x = [\"\", \"X\", \"XX\", \"XXX\", \"XL\", \"L\",\"LX\", \"LXX\", \"LXXX\", \"XC\"]\n",
    "i = [\"\", \"I\", \"II\", \"III\", \"IV\", \"V\",\"VI\", \"VII\", \"VIII\", \"IX\"]\n",
    "\n",
    "\n",
    "# hundreds = c[(num % 1000) // 100]\n",
    "# tens = x[(num % 100) // 10]\n",
    "# ones = i[num % 10]\n",
    "\n",
    "\n",
    "hundreds = c[(num % 1000) // 100]\n",
    "tens = x[(num % 100) // 10]\n",
    "ones = i[num % 10]\n",
    "\n",
    "\n",
    "ans = ( hundreds +tens + ones)\n",
    "\n",
    "ans\n"
   ]
  },
  {
   "cell_type": "code",
   "execution_count": 41,
   "id": "190cd088",
   "metadata": {},
   "outputs": [
    {
     "data": {
      "text/plain": [
       "{'': None,\n",
       " 'I': None,\n",
       " 'II': None,\n",
       " 'III': None,\n",
       " 'IV': None,\n",
       " 'V': None,\n",
       " 'VI': None,\n",
       " 'VII': None,\n",
       " 'VIII': None,\n",
       " 'IX': None}"
      ]
     },
     "execution_count": 41,
     "metadata": {},
     "output_type": "execute_result"
    }
   ],
   "source": [
    "dict.fromkeys(i)"
   ]
  },
  {
   "cell_type": "code",
   "execution_count": 32,
   "id": "ffdd8ccb",
   "metadata": {},
   "outputs": [
    {
     "data": {
      "text/plain": [
       "0"
      ]
     },
     "execution_count": 32,
     "metadata": {},
     "output_type": "execute_result"
    }
   ],
   "source": [
    "(num % 1000) // 100"
   ]
  },
  {
   "cell_type": "code",
   "execution_count": 33,
   "id": "95656be1",
   "metadata": {},
   "outputs": [
    {
     "data": {
      "text/plain": [
       "''"
      ]
     },
     "execution_count": 33,
     "metadata": {},
     "output_type": "execute_result"
    }
   ],
   "source": [
    "hundreds"
   ]
  },
  {
   "cell_type": "code",
   "execution_count": 37,
   "id": "4c397160",
   "metadata": {},
   "outputs": [
    {
     "data": {
      "text/plain": [
       "0"
      ]
     },
     "execution_count": 37,
     "metadata": {},
     "output_type": "execute_result"
    }
   ],
   "source": [
    "(num % 1000)//100"
   ]
  },
  {
   "cell_type": "code",
   "execution_count": 39,
   "id": "0115b631",
   "metadata": {},
   "outputs": [
    {
     "data": {
      "text/plain": [
       "9"
      ]
     },
     "execution_count": 39,
     "metadata": {},
     "output_type": "execute_result"
    }
   ],
   "source": [
    "(num % 100)//10"
   ]
  },
  {
   "cell_type": "code",
   "execution_count": 40,
   "id": "0f3111ca",
   "metadata": {},
   "outputs": [
    {
     "data": {
      "text/plain": [
       "9"
      ]
     },
     "execution_count": 40,
     "metadata": {},
     "output_type": "execute_result"
    }
   ],
   "source": [
    "num % 10"
   ]
  },
  {
   "cell_type": "code",
   "execution_count": null,
   "id": "0d299a3d",
   "metadata": {},
   "outputs": [],
   "source": []
  }
 ],
 "metadata": {
  "kernelspec": {
   "display_name": "Python 3 (ipykernel)",
   "language": "python",
   "name": "python3"
  },
  "language_info": {
   "codemirror_mode": {
    "name": "ipython",
    "version": 3
   },
   "file_extension": ".py",
   "mimetype": "text/x-python",
   "name": "python",
   "nbconvert_exporter": "python",
   "pygments_lexer": "ipython3",
   "version": "3.9.12"
  }
 },
 "nbformat": 4,
 "nbformat_minor": 5
}
