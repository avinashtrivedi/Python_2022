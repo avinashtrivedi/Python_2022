{
 "cells": [
  {
   "cell_type": "code",
   "execution_count": 117,
   "metadata": {},
   "outputs": [],
   "source": [
    "with open('sample1.csv') as fp:\n",
    "    data = fp.readlines()"
   ]
  },
  {
   "cell_type": "code",
   "execution_count": 118,
   "metadata": {},
   "outputs": [],
   "source": [
    "data = [line.strip().split(',') for line in data]"
   ]
  },
  {
   "cell_type": "code",
   "execution_count": 119,
   "metadata": {},
   "outputs": [
    {
     "data": {
      "text/plain": [
       "[['1', '2', '3', '4', '5'],\n",
       " ['2', '3', '4', '5', ''],\n",
       " ['1', '3', '2', '4', '5'],\n",
       " ['2', '4', '3', '1', '5'],\n",
       " ['2', '1', '3', '4', '5'],\n",
       " ['1', '3', '2', '4', '5'],\n",
       " ['5', '', '', '', ''],\n",
       " ['5', '1', '2', '4', '3'],\n",
       " ['4', '1', '2', '5', '3'],\n",
       " ['1', '2', '3', '4', ''],\n",
       " ['2', '3', '4', '5', '1'],\n",
       " ['1', '4', '2', '', ''],\n",
       " ['3', '4', '2', '', ''],\n",
       " ['4', '3', '', '', '']]"
      ]
     },
     "execution_count": 119,
     "metadata": {},
     "output_type": "execute_result"
    }
   ],
   "source": [
    "data"
   ]
  },
  {
   "cell_type": "code",
   "execution_count": 120,
   "metadata": {},
   "outputs": [],
   "source": [
    "first = [int(line[0]) for line in data]"
   ]
  },
  {
   "cell_type": "code",
   "execution_count": 121,
   "metadata": {},
   "outputs": [],
   "source": [
    "status = {}\n",
    "for i in set(first):\n",
    "    status[i] = first.count(i)*100/len(data)"
   ]
  },
  {
   "cell_type": "code",
   "execution_count": 122,
   "metadata": {},
   "outputs": [],
   "source": [
    "status = sorted(status.items(),key=lambda x:x[1])"
   ]
  },
  {
   "cell_type": "code",
   "execution_count": 123,
   "metadata": {},
   "outputs": [
    {
     "data": {
      "text/plain": [
       "7.142857142857143"
      ]
     },
     "execution_count": 123,
     "metadata": {},
     "output_type": "execute_result"
    }
   ],
   "source": [
    "status[0][1]"
   ]
  },
  {
   "cell_type": "code",
   "execution_count": 124,
   "metadata": {},
   "outputs": [
    {
     "data": {
      "text/plain": [
       "3"
      ]
     },
     "execution_count": 124,
     "metadata": {},
     "output_type": "execute_result"
    }
   ],
   "source": [
    "mimm = status[0][1]\n",
    "# status = status[::-1]\n",
    "max([i[0] for i in status if i[1]==mimm])"
   ]
  },
  {
   "cell_type": "code",
   "execution_count": 125,
   "metadata": {},
   "outputs": [
    {
     "data": {
      "text/plain": [
       "[(3, 7.142857142857143),\n",
       " (4, 14.285714285714286),\n",
       " (5, 14.285714285714286),\n",
       " (2, 28.571428571428573),\n",
       " (1, 35.714285714285715)]"
      ]
     },
     "execution_count": 125,
     "metadata": {},
     "output_type": "execute_result"
    }
   ],
   "source": [
    "status"
   ]
  },
  {
   "cell_type": "code",
   "execution_count": 126,
   "metadata": {},
   "outputs": [],
   "source": [
    "for line in data:\n",
    "        if '3' in line:\n",
    "            line.remove('3')\n",
    "        else:\n",
    "            line.remove('')"
   ]
  },
  {
   "cell_type": "code",
   "execution_count": 127,
   "metadata": {},
   "outputs": [
    {
     "data": {
      "text/plain": [
       "[['1', '2', '4', '5'],\n",
       " ['2', '4', '5', ''],\n",
       " ['1', '2', '4', '5'],\n",
       " ['2', '4', '1', '5'],\n",
       " ['2', '1', '4', '5'],\n",
       " ['1', '2', '4', '5'],\n",
       " ['5', '', '', ''],\n",
       " ['5', '1', '2', '4'],\n",
       " ['4', '1', '2', '5'],\n",
       " ['1', '2', '4', ''],\n",
       " ['2', '4', '5', '1'],\n",
       " ['1', '4', '2', ''],\n",
       " ['4', '2', '', ''],\n",
       " ['4', '', '', '']]"
      ]
     },
     "execution_count": 127,
     "metadata": {},
     "output_type": "execute_result"
    }
   ],
   "source": [
    "data"
   ]
  },
  {
   "cell_type": "code",
   "execution_count": 128,
   "metadata": {},
   "outputs": [],
   "source": [
    "first = [int(line[0]) for line in data]"
   ]
  },
  {
   "cell_type": "code",
   "execution_count": 129,
   "metadata": {},
   "outputs": [
    {
     "data": {
      "text/plain": [
       "{1, 2, 4, 5}"
      ]
     },
     "execution_count": 129,
     "metadata": {},
     "output_type": "execute_result"
    }
   ],
   "source": [
    "set(first)"
   ]
  },
  {
   "cell_type": "code",
   "execution_count": 130,
   "metadata": {},
   "outputs": [],
   "source": [
    "status = {}\n",
    "for i in set(first):\n",
    "    status[i] = first.count(i)*100/len(data)"
   ]
  },
  {
   "cell_type": "code",
   "execution_count": 131,
   "metadata": {},
   "outputs": [
    {
     "data": {
      "text/plain": [
       "{1: 35.714285714285715,\n",
       " 2: 28.571428571428573,\n",
       " 4: 21.428571428571427,\n",
       " 5: 14.285714285714286}"
      ]
     },
     "execution_count": 131,
     "metadata": {},
     "output_type": "execute_result"
    }
   ],
   "source": [
    "status"
   ]
  },
  {
   "cell_type": "code",
   "execution_count": 132,
   "metadata": {},
   "outputs": [
    {
     "data": {
      "text/plain": [
       "5"
      ]
     },
     "execution_count": 132,
     "metadata": {},
     "output_type": "execute_result"
    }
   ],
   "source": [
    "status = sorted(status.items(),key=lambda x:x[1])\n",
    "mimm = status[0][1]\n",
    "# status = status[::-1]\n",
    "max([i[0] for i in status if i[1]==mimm])"
   ]
  },
  {
   "cell_type": "code",
   "execution_count": 133,
   "metadata": {},
   "outputs": [],
   "source": [
    "for line in data:\n",
    "        if '5' in line:\n",
    "            line.remove('5')\n",
    "        else:\n",
    "            line.remove('')"
   ]
  },
  {
   "cell_type": "code",
   "execution_count": 134,
   "metadata": {},
   "outputs": [
    {
     "data": {
      "text/plain": [
       "[['1', '2', '4'],\n",
       " ['2', '4', ''],\n",
       " ['1', '2', '4'],\n",
       " ['2', '4', '1'],\n",
       " ['2', '1', '4'],\n",
       " ['1', '2', '4'],\n",
       " ['', '', ''],\n",
       " ['1', '2', '4'],\n",
       " ['4', '1', '2'],\n",
       " ['1', '2', '4'],\n",
       " ['2', '4', '1'],\n",
       " ['1', '4', '2'],\n",
       " ['4', '2', ''],\n",
       " ['4', '', '']]"
      ]
     },
     "execution_count": 134,
     "metadata": {},
     "output_type": "execute_result"
    }
   ],
   "source": [
    "data"
   ]
  },
  {
   "cell_type": "code",
   "execution_count": 136,
   "metadata": {},
   "outputs": [],
   "source": [
    "first = [int(line[0]) for line in data if line[0]!='']"
   ]
  },
  {
   "cell_type": "code",
   "execution_count": 137,
   "metadata": {},
   "outputs": [
    {
     "data": {
      "text/plain": [
       "[1, 2, 1, 2, 2, 1, 1, 4, 1, 2, 1, 4, 4]"
      ]
     },
     "execution_count": 137,
     "metadata": {},
     "output_type": "execute_result"
    }
   ],
   "source": [
    "first"
   ]
  },
  {
   "cell_type": "code",
   "execution_count": 138,
   "metadata": {},
   "outputs": [
    {
     "data": {
      "text/plain": [
       "{1, 2, 4}"
      ]
     },
     "execution_count": 138,
     "metadata": {},
     "output_type": "execute_result"
    }
   ],
   "source": [
    "set(first)"
   ]
  },
  {
   "cell_type": "code",
   "execution_count": 139,
   "metadata": {},
   "outputs": [],
   "source": [
    "status = {}\n",
    "for i in set(first):\n",
    "    status[i] = first.count(i)*100/len(data)"
   ]
  },
  {
   "cell_type": "code",
   "execution_count": 141,
   "metadata": {},
   "outputs": [
    {
     "data": {
      "text/plain": [
       "{1: 42.857142857142854, 2: 28.571428571428573, 4: 21.428571428571427}"
      ]
     },
     "execution_count": 141,
     "metadata": {},
     "output_type": "execute_result"
    }
   ],
   "source": [
    "status"
   ]
  },
  {
   "cell_type": "code",
   "execution_count": 142,
   "metadata": {},
   "outputs": [
    {
     "data": {
      "text/plain": [
       "4"
      ]
     },
     "execution_count": 142,
     "metadata": {},
     "output_type": "execute_result"
    }
   ],
   "source": [
    "status = sorted(status.items(),key=lambda x:x[1])\n",
    "mimm = status[0][1]\n",
    "# status = status[::-1]\n",
    "max([i[0] for i in status if i[1]==mimm])"
   ]
  },
  {
   "cell_type": "code",
   "execution_count": 143,
   "metadata": {},
   "outputs": [],
   "source": [
    "for line in data:\n",
    "        if '4' in line:\n",
    "            line.remove('4')\n",
    "        else:\n",
    "            line.remove('')"
   ]
  },
  {
   "cell_type": "code",
   "execution_count": 144,
   "metadata": {},
   "outputs": [
    {
     "data": {
      "text/plain": [
       "[['1', '2'],\n",
       " ['2', ''],\n",
       " ['1', '2'],\n",
       " ['2', '1'],\n",
       " ['2', '1'],\n",
       " ['1', '2'],\n",
       " ['', ''],\n",
       " ['1', '2'],\n",
       " ['1', '2'],\n",
       " ['1', '2'],\n",
       " ['2', '1'],\n",
       " ['1', '2'],\n",
       " ['2', ''],\n",
       " ['', '']]"
      ]
     },
     "execution_count": 144,
     "metadata": {},
     "output_type": "execute_result"
    }
   ],
   "source": [
    "data"
   ]
  },
  {
   "cell_type": "code",
   "execution_count": 145,
   "metadata": {},
   "outputs": [],
   "source": [
    "first = [int(line[0]) for line in data if line[0]!='']"
   ]
  },
  {
   "cell_type": "code",
   "execution_count": 146,
   "metadata": {},
   "outputs": [
    {
     "data": {
      "text/plain": [
       "[1, 2, 1, 2, 2, 1, 1, 1, 1, 2, 1, 2]"
      ]
     },
     "execution_count": 146,
     "metadata": {},
     "output_type": "execute_result"
    }
   ],
   "source": [
    "first"
   ]
  },
  {
   "cell_type": "code",
   "execution_count": 147,
   "metadata": {},
   "outputs": [],
   "source": [
    "status = {}\n",
    "for i in set(first):\n",
    "    status[i] = first.count(i)*100/len(data)"
   ]
  },
  {
   "cell_type": "code",
   "execution_count": 148,
   "metadata": {},
   "outputs": [
    {
     "data": {
      "text/plain": [
       "2"
      ]
     },
     "execution_count": 148,
     "metadata": {},
     "output_type": "execute_result"
    }
   ],
   "source": [
    "status = sorted(status.items(),key=lambda x:x[1])\n",
    "mimm = status[0][1]\n",
    "# status = status[::-1]\n",
    "max([i[0] for i in status if i[1]==mimm])"
   ]
  },
  {
   "cell_type": "code",
   "execution_count": 150,
   "metadata": {},
   "outputs": [],
   "source": [
    "for line in data:\n",
    "        if '2' in line:\n",
    "            line.remove('2')\n",
    "        else:\n",
    "            line.remove('')"
   ]
  },
  {
   "cell_type": "code",
   "execution_count": 151,
   "metadata": {},
   "outputs": [],
   "source": [
    "first = [int(line[0]) for line in data if line[0]!='']"
   ]
  },
  {
   "cell_type": "code",
   "execution_count": 152,
   "metadata": {},
   "outputs": [],
   "source": [
    "status = {}\n",
    "for i in set(first):\n",
    "    status[i] = first.count(i)*100/len(data)"
   ]
  },
  {
   "cell_type": "code",
   "execution_count": 153,
   "metadata": {},
   "outputs": [
    {
     "data": {
      "text/plain": [
       "1"
      ]
     },
     "execution_count": 153,
     "metadata": {},
     "output_type": "execute_result"
    }
   ],
   "source": [
    "status = sorted(status.items(),key=lambda x:x[1])\n",
    "mimm = status[0][1]\n",
    "# status = status[::-1]\n",
    "max([i[0] for i in status if i[1]==mimm])"
   ]
  },
  {
   "cell_type": "code",
   "execution_count": null,
   "metadata": {},
   "outputs": [],
   "source": []
  },
  {
   "cell_type": "code",
   "execution_count": 154,
   "metadata": {},
   "outputs": [
    {
     "data": {
      "text/plain": [
       "[(1, 71.42857142857143)]"
      ]
     },
     "execution_count": 154,
     "metadata": {},
     "output_type": "execute_result"
    }
   ],
   "source": [
    "status"
   ]
  },
  {
   "cell_type": "markdown",
   "metadata": {},
   "source": [
    "# CODE"
   ]
  },
  {
   "cell_type": "code",
   "execution_count": 156,
   "metadata": {},
   "outputs": [
    {
     "data": {
      "text/plain": [
       "[['1'],\n",
       " [''],\n",
       " ['1'],\n",
       " ['1'],\n",
       " ['1'],\n",
       " ['1'],\n",
       " [''],\n",
       " ['1'],\n",
       " ['1'],\n",
       " ['1'],\n",
       " ['1'],\n",
       " ['1'],\n",
       " [''],\n",
       " ['']]"
      ]
     },
     "execution_count": 156,
     "metadata": {},
     "output_type": "execute_result"
    }
   ],
   "source": [
    "data"
   ]
  },
  {
   "cell_type": "code",
   "execution_count": 158,
   "metadata": {},
   "outputs": [
    {
     "data": {
      "text/plain": [
       "[['1'],\n",
       " [''],\n",
       " ['1'],\n",
       " ['1'],\n",
       " ['1'],\n",
       " ['1'],\n",
       " [''],\n",
       " ['1'],\n",
       " ['1'],\n",
       " ['1'],\n",
       " ['1'],\n",
       " ['1'],\n",
       " [''],\n",
       " ['']]"
      ]
     },
     "execution_count": 158,
     "metadata": {},
     "output_type": "execute_result"
    }
   ],
   "source": [
    "data"
   ]
  },
  {
   "cell_type": "code",
   "execution_count": 164,
   "metadata": {},
   "outputs": [
    {
     "ename": "ValueError",
     "evalue": "list.remove(x): x not in list",
     "output_type": "error",
     "traceback": [
      "\u001b[1;31m---------------------------------------------------------------------------\u001b[0m",
      "\u001b[1;31mValueError\u001b[0m                                Traceback (most recent call last)",
      "\u001b[1;32m<ipython-input-164-77900119c056>\u001b[0m in \u001b[0;36m<module>\u001b[1;34m\u001b[0m\n\u001b[0;32m      3\u001b[0m         \u001b[0mline\u001b[0m\u001b[1;33m.\u001b[0m\u001b[0mremove\u001b[0m\u001b[1;33m(\u001b[0m\u001b[1;34m'1'\u001b[0m\u001b[1;33m)\u001b[0m\u001b[1;33m\u001b[0m\u001b[1;33m\u001b[0m\u001b[0m\n\u001b[0;32m      4\u001b[0m     \u001b[1;32melse\u001b[0m\u001b[1;33m:\u001b[0m\u001b[1;33m\u001b[0m\u001b[1;33m\u001b[0m\u001b[0m\n\u001b[1;32m----> 5\u001b[1;33m         \u001b[0mline\u001b[0m\u001b[1;33m.\u001b[0m\u001b[0mremove\u001b[0m\u001b[1;33m(\u001b[0m\u001b[1;34m''\u001b[0m\u001b[1;33m)\u001b[0m\u001b[1;33m\u001b[0m\u001b[1;33m\u001b[0m\u001b[0m\n\u001b[0m",
      "\u001b[1;31mValueError\u001b[0m: list.remove(x): x not in list"
     ]
    }
   ],
   "source": [
    "for line in data:\n",
    "    if '3' in line:\n",
    "        line.remove('3')\n",
    "    else:\n",
    "        line.remove('')"
   ]
  },
  {
   "cell_type": "code",
   "execution_count": 163,
   "metadata": {},
   "outputs": [
    {
     "data": {
      "text/plain": [
       "[[], [], [], [], [], [], [], [], [], [], [], [], [], []]"
      ]
     },
     "execution_count": 163,
     "metadata": {},
     "output_type": "execute_result"
    }
   ],
   "source": [
    "data"
   ]
  },
  {
   "cell_type": "code",
   "execution_count": 162,
   "metadata": {},
   "outputs": [
    {
     "data": {
      "text/plain": [
       "14"
      ]
     },
     "execution_count": 162,
     "metadata": {},
     "output_type": "execute_result"
    }
   ],
   "source": [
    "len(data)"
   ]
  },
  {
   "cell_type": "code",
   "execution_count": null,
   "metadata": {},
   "outputs": [],
   "source": []
  }
 ],
 "metadata": {
  "kernelspec": {
   "display_name": "Python 3",
   "language": "python",
   "name": "python3"
  },
  "language_info": {
   "codemirror_mode": {
    "name": "ipython",
    "version": 3
   },
   "file_extension": ".py",
   "mimetype": "text/x-python",
   "name": "python",
   "nbconvert_exporter": "python",
   "pygments_lexer": "ipython3",
   "version": "3.8.5"
  }
 },
 "nbformat": 4,
 "nbformat_minor": 4
}
