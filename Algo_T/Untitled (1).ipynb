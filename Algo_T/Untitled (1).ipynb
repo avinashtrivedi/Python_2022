{
 "cells": [
  {
   "cell_type": "code",
   "execution_count": 1,
   "metadata": {},
   "outputs": [],
   "source": [
    "import warnings\n",
    "warnings.filterwarnings('ignore')"
   ]
  },
  {
   "cell_type": "code",
   "execution_count": 2,
   "metadata": {},
   "outputs": [
    {
     "name": "stderr",
     "output_type": "stream",
     "text": [
      "DEBUG:urllib3.connectionpool:Starting new HTTPS connection (1): ant.aliceblueonline.com:443\n",
      "DEBUG:urllib3.connectionpool:https://ant.aliceblueonline.com:443 \"GET /oauth2/auth?response_type=code&state=test_state&client_id=9YlXzzVHTr&redirect_uri=https://ant.aliceblueonline.com/plugin/callback HTTP/1.1\" 302 None\n",
      "DEBUG:urllib3.connectionpool:https://ant.aliceblueonline.com:443 \"GET /oauth/login?login_challenge=c588437a96eb4185a46a5c89fca38544 HTTP/1.1\" 200 None\n",
      "DEBUG:urllib3.connectionpool:https://ant.aliceblueonline.com:443 \"POST /oauth/login?login_challenge=c588437a96eb4185a46a5c89fca38544 HTTP/1.1\" 302 None\n",
      "DEBUG:urllib3.connectionpool:https://ant.aliceblueonline.com:443 \"GET /oauth/twofa?login_challenge=c588437a96eb4185a46a5c89fca38544&login_id=AB052474&question_ids=1&questions=Year+Of+Birth HTTP/1.1\" 200 None\n",
      "DEBUG:urllib3.connectionpool:https://ant.aliceblueonline.com:443 \"POST /oauth/twofa?login_challenge=c588437a96eb4185a46a5c89fca38544&login_id=AB052474&question_ids=1&questions=Year+Of+Birth HTTP/1.1\" 302 None\n",
      "DEBUG:urllib3.connectionpool:https://ant.aliceblueonline.com:443 \"GET /oauth2/auth?client_id=9YlXzzVHTr&login_verifier=0a78597e911c4e31931c80ef1898d482&redirect_uri=https%3A%2F%2Fant.aliceblueonline.com%2Fplugin%2Fcallback&response_type=code&state=test_state HTTP/1.1\" 302 None\n",
      "DEBUG:urllib3.connectionpool:https://ant.aliceblueonline.com:443 \"GET /oauth/consent?consent_challenge=39a5d0468cd64d36a5a2f6a8fc55737d HTTP/1.1\" 302 None\n",
      "DEBUG:urllib3.connectionpool:https://ant.aliceblueonline.com:443 \"GET /oauth2/auth?client_id=9YlXzzVHTr&consent_verifier=4c6d39019b604852b6239b60c3fc4c3e&redirect_uri=https%3A%2F%2Fant.aliceblueonline.com%2Fplugin%2Fcallback&response_type=code&state=test_state HTTP/1.1\" 302 0\n",
      "DEBUG:urllib3.connectionpool:https://ant.aliceblueonline.com:443 \"GET /plugin/callback?code=knZNC-OdE0ZErkR5MzPzuXlwGYVpoiXNMaITrQzeBwQ.CtxrADDzd2XRz3YmwolPHCaBCUSebux_VP6ZEMogqas&scope=&state=test_state HTTP/1.1\" 301 None\n",
      "DEBUG:urllib3.connectionpool:Starting new HTTP connection (1): ant.aliceblueonline.com:80\n",
      "DEBUG:urllib3.connectionpool:http://ant.aliceblueonline.com:80 \"GET /plugin/callback/?code=knZNC-OdE0ZErkR5MzPzuXlwGYVpoiXNMaITrQzeBwQ.CtxrADDzd2XRz3YmwolPHCaBCUSebux_VP6ZEMogqas&scope=&state=test_state HTTP/1.1\" 301 None\n",
      "DEBUG:urllib3.connectionpool:https://ant.aliceblueonline.com:443 \"GET /plugin/callback/?code=knZNC-OdE0ZErkR5MzPzuXlwGYVpoiXNMaITrQzeBwQ.CtxrADDzd2XRz3YmwolPHCaBCUSebux_VP6ZEMogqas&scope=&state=test_state HTTP/1.1\" 200 None\n",
      "DEBUG:urllib3.connectionpool:https://ant.aliceblueonline.com:443 \"POST /oauth2/token?client_id=9YlXzzVHTr&client_secret=wu56caphNY6VZNLxyjrXHDPta9lI6AYGUaqSoHKJsPeZHmQGqrM9lr7u8FTEzABJ&grant_type=authorization_code&code=knZNC-OdE0ZErkR5MzPzuXlwGYVpoiXNMaITrQzeBwQ.CtxrADDzd2XRz3YmwolPHCaBCUSebux_VP6ZEMogqas&redirect_uri=https://ant.aliceblueonline.com/plugin/callback&authorization_response=https://ant.aliceblueonline.com/plugin/callback/?code=knZNC-OdE0ZErkR5MzPzuXlwGYVpoiXNMaITrQzeBwQ.CtxrADDzd2XRz3YmwolPHCaBCUSebux_VP6ZEMogqas&scope=&state=test_state HTTP/1.1\" 200 None\n",
      "INFO:alice_blue.alice_blue:access_token - 5aBHbu3bvN4_1cT5SImy9BsLcdSir3S5DmHrsLRi8SM.1mXVoqCEkeh5IT_5Q4t7714qX2T-Sa1Q_F_8MaW7V7I\n"
     ]
    }
   ],
   "source": [
    "import logging\n",
    "logging.basicConfig(level=logging.DEBUG)\n",
    " \n",
    "from alice_blue import *\n",
    " \n",
    "#Fill These Details Yourself.\n",
    "##Ask AliceBlue Support to give you Client ID, Client Secret and Redirect URL.\n",
    "###If You're Unofficed Client (Signed up from https://www.unofficed.com/aliceblue/), Ask me.\n",
    " \n",
    "#Declaring User Details\n",
    "username = 'AB052474'\n",
    "password = '@1godis@Great'\n",
    "twoFA='1983'\n",
    " \n",
    "#Declaring OAuth App Details\n",
    "client_id = '9YlXzzVHTr'\n",
    "client_secret = 'wu56caphNY6VZNLxyjrXHDPta9lI6AYGUaqSoHKJsPeZHmQGqrM9lr7u8FTEzABJ'\n",
    "redirect_url= 'https://ant.aliceblueonline.com/plugin/callback'\n",
    " \n",
    "#Getting the Access Token\n",
    "access_token = AliceBlue.login_and_get_access_token(username=username, password=password, twoFA=twoFA, api_secret=client_secret, redirect_url=redirect_url, app_id=client_id)\n"
   ]
  },
  {
   "cell_type": "code",
   "execution_count": 3,
   "metadata": {},
   "outputs": [
    {
     "name": "stderr",
     "output_type": "stream",
     "text": [
      "DEBUG:urllib3.connectionpool:Starting new HTTPS connection (1): ant.aliceblueonline.com:443\n",
      "DEBUG:urllib3.connectionpool:https://ant.aliceblueonline.com:443 \"GET /api/v2/profile HTTP/1.1\" 200 None\n",
      "INFO:alice_blue.alice_blue:Downloading master contracts for exchange: NSE\n",
      "DEBUG:urllib3.connectionpool:Starting new HTTPS connection (1): ant.aliceblueonline.com:443\n",
      "DEBUG:urllib3.connectionpool:https://ant.aliceblueonline.com:443 \"GET /api/v2/contracts.json?exchanges=NSE HTTP/1.1\" 200 None\n",
      "INFO:alice_blue.alice_blue:Downloading master contracts for exchange: BSE\n",
      "DEBUG:urllib3.connectionpool:Starting new HTTPS connection (1): ant.aliceblueonline.com:443\n",
      "DEBUG:urllib3.connectionpool:https://ant.aliceblueonline.com:443 \"GET /api/v2/contracts.json?exchanges=BSE HTTP/1.1\" 200 None\n",
      "INFO:alice_blue.alice_blue:Downloading master contracts for exchange: MCX\n",
      "DEBUG:urllib3.connectionpool:Starting new HTTPS connection (1): ant.aliceblueonline.com:443\n",
      "DEBUG:urllib3.connectionpool:https://ant.aliceblueonline.com:443 \"GET /api/v2/contracts.json?exchanges=MCX HTTP/1.1\" 200 None\n",
      "INFO:alice_blue.alice_blue:Downloading master contracts for exchange: NFO\n",
      "DEBUG:urllib3.connectionpool:Starting new HTTPS connection (1): ant.aliceblueonline.com:443\n",
      "DEBUG:urllib3.connectionpool:https://ant.aliceblueonline.com:443 \"GET /api/v2/contracts.json?exchanges=NFO HTTP/1.1\" 200 None\n",
      "DEBUG:urllib3.connectionpool:Starting new HTTPS connection (1): ant.aliceblueonline.com:443\n",
      "DEBUG:urllib3.connectionpool:https://ant.aliceblueonline.com:443 \"GET /api/v2/cashposition HTTP/1.1\" 200 None\n",
      "DEBUG:urllib3.connectionpool:Starting new HTTPS connection (1): ant.aliceblueonline.com:443\n"
     ]
    },
    {
     "name": "stdout",
     "output_type": "stream",
     "text": [
      "{'status': 'success', 'message': '', 'data': {'cash_positions': [{'utilized': {'var_margin': '0.00', 'unrealised_m2m': '-0.00', 'span_margin': '0.00', 'realised_m2m': '-0.00', 'premium_present': '0', 'pay_out': '0.00', 'multiplier': '10.00', 'exposure_margin': '0.00', 'elm': '0.00', 'debits': '0.00'}, 'segment': 'ALL', 'net': '0.00', 'category': 'ABFS-COMMON', 'available': {'pay_in': '0', 'notionalCash': '0.000000', 'direct_collateral_value': '0.00', 'credits': '0.00', 'collateral_value': '0.00', 'cashmarginavailable': '0.00', 'adhoc_margin': '0.000000'}}, {'utilized': {'var_margin': '0.00', 'unrealised_m2m': '-0.00', 'span_margin': '0.00', 'realised_m2m': '-0.00', 'premium_present': '0', 'pay_out': '0.00', 'multiplier': '1.00', 'exposure_margin': '0.00', 'elm': '0.00', 'debits': '0.00'}, 'segment': 'COM', 'net': '0.00', 'category': 'NO_VAL', 'available': {'pay_in': '0', 'notionalCash': '0.000000', 'direct_collateral_value': '0.00', 'credits': '0.00', 'collateral_value': '0.00', 'cashmarginavailable': '0.00', 'adhoc_margin': '0.000000'}}]}}\n"
     ]
    },
    {
     "name": "stderr",
     "output_type": "stream",
     "text": [
      "DEBUG:urllib3.connectionpool:https://ant.aliceblueonline.com:443 \"GET /api/v2/profile HTTP/1.1\" 200 None\n",
      "DEBUG:urllib3.connectionpool:Starting new HTTPS connection (1): ant.aliceblueonline.com:443\n"
     ]
    },
    {
     "name": "stdout",
     "output_type": "stream",
     "text": [
      "{'status': 'success', 'message': '', 'data': {'phone': '9433035329', 'pan_number': 'AMXPG7111R', 'name': 'NABARUN GHOSH', 'login_id': 'AB052474', 'exchanges': ['MCX', 'BSE', 'NSE', 'CDS', 'NFO'], 'email_address': 'ILOVEKOLKATA@PROTONMAIL.COM', 'dp_ids': [], 'broker_name': 'ALICEBLUE', 'banks': [{'branch_name': '', 'bank_name': 'AXIS BANK LTD', 'account_id': 'AB052474'}, {'branch_name': '', 'bank_name': '', 'account_id': 'AB052474'}, {'branch_name': '', 'bank_name': '', 'account_id': 'AB052474'}, {'branch_name': '', 'bank_name': '', 'account_id': 'AB052474'}, {'branch_name': '', 'bank_name': '', 'account_id': 'AB052474'}, {'branch_name': '', 'bank_name': '', 'account_id': 'AB052474'}], 'backoffice_enabled': True}}\n"
     ]
    },
    {
     "name": "stderr",
     "output_type": "stream",
     "text": [
      "DEBUG:urllib3.connectionpool:https://ant.aliceblueonline.com:443 \"GET /api/v2/positions?type=daywise HTTP/1.1\" 200 None\n",
      "DEBUG:urllib3.connectionpool:Starting new HTTPS connection (1): ant.aliceblueonline.com:443\n"
     ]
    },
    {
     "name": "stdout",
     "output_type": "stream",
     "text": [
      "{'status': 'success', 'message': 'No Positions', 'data': {'positions': []}}\n"
     ]
    },
    {
     "name": "stderr",
     "output_type": "stream",
     "text": [
      "DEBUG:urllib3.connectionpool:https://ant.aliceblueonline.com:443 \"GET /api/v2/positions?type=netwise HTTP/1.1\" 200 None\n",
      "DEBUG:urllib3.connectionpool:Starting new HTTPS connection (1): ant.aliceblueonline.com:443\n"
     ]
    },
    {
     "name": "stdout",
     "output_type": "stream",
     "text": [
      "{'status': 'success', 'message': 'No Positions', 'data': {'positions': []}}\n"
     ]
    },
    {
     "name": "stderr",
     "output_type": "stream",
     "text": [
      "DEBUG:urllib3.connectionpool:https://ant.aliceblueonline.com:443 \"GET /api/v2/holdings HTTP/1.1\" 200 None\n"
     ]
    },
    {
     "name": "stdout",
     "output_type": "stream",
     "text": [
      "{'status': 'success', 'message': 'No Holdings', 'data': {'holdings': []}}\n"
     ]
    }
   ],
   "source": [
    " \n",
    "#Getting the Alice Object\n",
    "alice = AliceBlue(username=username, password=password, access_token=access_token, master_contracts_to_download=['NSE', 'BSE', 'MCX', 'NFO'])\n",
    " \n",
    "print(alice.get_balance()) # get balance / margin limits\n",
    "print(alice.get_profile()) # get profile\n",
    "print(alice.get_daywise_positions()) # get daywise positions\n",
    "print(alice.get_netwise_positions()) # get netwise positions\n",
    "print(alice.get_holding_positions()) # get holding positions"
   ]
  },
  {
   "cell_type": "code",
   "execution_count": 4,
   "metadata": {},
   "outputs": [
    {
     "name": "stderr",
     "output_type": "stream",
     "text": [
      "DEBUG:urllib3.connectionpool:Starting new HTTPS connection (1): ant.aliceblueonline.com:443\n",
      "DEBUG:urllib3.connectionpool:https://ant.aliceblueonline.com:443 \"GET /api/v2/cashposition HTTP/1.1\" 200 None\n"
     ]
    },
    {
     "name": "stdout",
     "output_type": "stream",
     "text": [
      "{'status': 'success', 'message': '', 'data': {'cash_positions': [{'utilized': {'var_margin': '0.00', 'unrealised_m2m': '-0.00', 'span_margin': '0.00', 'realised_m2m': '-0.00', 'premium_present': '0', 'pay_out': '0.00', 'multiplier': '10.00', 'exposure_margin': '0.00', 'elm': '0.00', 'debits': '0.00'}, 'segment': 'ALL', 'net': '0.00', 'category': 'ABFS-COMMON', 'available': {'pay_in': '0', 'notionalCash': '0.000000', 'direct_collateral_value': '0.00', 'credits': '0.00', 'collateral_value': '0.00', 'cashmarginavailable': '0.00', 'adhoc_margin': '0.000000'}}, {'utilized': {'var_margin': '0.00', 'unrealised_m2m': '-0.00', 'span_margin': '0.00', 'realised_m2m': '-0.00', 'premium_present': '0', 'pay_out': '0.00', 'multiplier': '1.00', 'exposure_margin': '0.00', 'elm': '0.00', 'debits': '0.00'}, 'segment': 'COM', 'net': '0.00', 'category': 'NO_VAL', 'available': {'pay_in': '0', 'notionalCash': '0.000000', 'direct_collateral_value': '0.00', 'credits': '0.00', 'collateral_value': '0.00', 'cashmarginavailable': '0.00', 'adhoc_margin': '0.000000'}}]}}\n"
     ]
    }
   ],
   "source": [
    " print(alice.get_balance())"
   ]
  },
  {
   "cell_type": "code",
   "execution_count": 5,
   "metadata": {},
   "outputs": [],
   "source": [
    "# alice.subscribe(alice.get_instrument_by_symbol('NSE', 'TATASTEEL'), LiveFeedType.MARKET_DATA)\n",
    "# alice.subscribe(alice.get_instrument_by_symbol('NSE', 'SBIN'), LiveFeedType.COMPACT)"
   ]
  },
  {
   "cell_type": "code",
   "execution_count": 6,
   "metadata": {},
   "outputs": [],
   "source": [
    "# alice.subscribe(alice.get_instrument_by_symbol('NSE', 'TATASTEEL'), LiveFeedType.MARKET_DATA)"
   ]
  },
  {
   "cell_type": "code",
   "execution_count": null,
   "metadata": {},
   "outputs": [],
   "source": []
  },
  {
   "cell_type": "code",
   "execution_count": null,
   "metadata": {},
   "outputs": [],
   "source": []
  },
  {
   "cell_type": "code",
   "execution_count": 7,
   "metadata": {},
   "outputs": [],
   "source": [
    "import time"
   ]
  },
  {
   "cell_type": "code",
   "execution_count": 8,
   "metadata": {},
   "outputs": [],
   "source": [
    "socket_opened = False\n",
    "lst = []\n",
    "def event_handler_quote_update(message):\n",
    "        lst.append(message)\n",
    "\n",
    "def open_callback():\n",
    "    global socket_opened\n",
    "    socket_opened = True\n",
    "\n",
    "alice.start_websocket(subscribe_callback=event_handler_quote_update,\n",
    "                      socket_open_callback=open_callback,\n",
    "                      run_in_background=True)\n",
    "\n",
    "while(socket_opened==False):\n",
    "    pass\n",
    "alice.subscribe(alice.get_instrument_by_symbol('NSE', 'ONGC'), LiveFeedType.MARKET_DATA)\n",
    "time.sleep(10)"
   ]
  },
  {
   "cell_type": "code",
   "execution_count": 9,
   "metadata": {},
   "outputs": [
    {
     "data": {
      "text/plain": [
       "[{'exchange': 'NSE',\n",
       "  'token': 2475,\n",
       "  'ltp': 165.25,\n",
       "  'ltt': 1646389664,\n",
       "  'ltq': 100,\n",
       "  'volume': 32658756,\n",
       "  'best_bid_price': 165.25,\n",
       "  'best_bid_quantity': 760,\n",
       "  'best_ask_price': 0.0,\n",
       "  'best_ask_quantity': 0,\n",
       "  'total_buy_quantity': 760,\n",
       "  'total_sell_quantity': 0,\n",
       "  'atp': 166.41,\n",
       "  'exchange_time_stamp': 1646389774,\n",
       "  'open': 170.1,\n",
       "  'high': 171.0,\n",
       "  'low': 163.85,\n",
       "  'close': 170.3,\n",
       "  'yearly_high': 176.35,\n",
       "  'yearly_low': 97.45,\n",
       "  'instrument': Instrument(exchange='NSE', token=2475, symbol='ONGC', name='OIL AND NATURAL GAS CORP.', expiry=None, lot_size=None)}]"
      ]
     },
     "execution_count": 9,
     "metadata": {},
     "output_type": "execute_result"
    }
   ],
   "source": [
    "lst"
   ]
  },
  {
   "cell_type": "code",
   "execution_count": 10,
   "metadata": {},
   "outputs": [],
   "source": [
    "import requests\n",
    "import pandas as pd\n",
    "import pytz"
   ]
  },
  {
   "cell_type": "code",
   "execution_count": 11,
   "metadata": {},
   "outputs": [],
   "source": [
    "def historical_data(exchange, token, starttime, endtime, interval=1):\n",
    "    PARAMS = {\n",
    "        'candletype': 1,\n",
    "        'data_duration': interval,\n",
    "        'starttime': starttime,\n",
    "        'endtime': endtime,\n",
    "        'exchange': exchange,\n",
    "        'type': 'historical',\n",
    "        'token': token\n",
    "    }\n",
    "    \n",
    "    HEADERS = {\n",
    "    'X-Authorization-Token': access_token\n",
    "}\n",
    "    try:\n",
    "        r = requests.get(\n",
    "            \"https://ant.aliceblueonline.com/api/v1/charts\", params=PARAMS,headers=HEADERS)\n",
    "        data = r.json()\n",
    "        return data\n",
    "#         return format_intraday(data)\n",
    "    except Exception as e:\n",
    "        print(\n",
    "            \"{} Error occurred in getting intraday data for ticker :: {}\".format(e,token))"
   ]
  },
  {
   "cell_type": "code",
   "execution_count": 12,
   "metadata": {},
   "outputs": [],
   "source": [
    "import datetime as dt\n",
    "tday = dt.date.today()\n",
    "startTime = int(dt.datetime(tday.year, tday.month, tday.day,\n",
    "                            hour=9, minute=0, second=0).timestamp())\n",
    "endTime = int(dt.datetime(tday.year, tday.month, tday.day,\n",
    "                          hour=23, minute=59, second=0).timestamp())"
   ]
  },
  {
   "cell_type": "code",
   "execution_count": 13,
   "metadata": {},
   "outputs": [],
   "source": [
    "from datetime import datetime,timedelta"
   ]
  },
  {
   "cell_type": "code",
   "execution_count": 14,
   "metadata": {},
   "outputs": [],
   "source": [
    "starttime = datetime.now() - timedelta(days=10)\n",
    "endTime = datetime.now()"
   ]
  },
  {
   "cell_type": "code",
   "execution_count": 15,
   "metadata": {},
   "outputs": [
    {
     "data": {
      "text/plain": [
       "datetime.datetime(2022, 3, 4, 16, 34, 3, 413656)"
      ]
     },
     "execution_count": 15,
     "metadata": {},
     "output_type": "execute_result"
    }
   ],
   "source": [
    "datetime.now()"
   ]
  },
  {
   "cell_type": "code",
   "execution_count": null,
   "metadata": {},
   "outputs": [],
   "source": []
  },
  {
   "cell_type": "code",
   "execution_count": 16,
   "metadata": {},
   "outputs": [
    {
     "name": "stderr",
     "output_type": "stream",
     "text": [
      "DEBUG:urllib3.connectionpool:Starting new HTTPS connection (1): ant.aliceblueonline.com:443\n",
      "DEBUG:urllib3.connectionpool:https://ant.aliceblueonline.com:443 \"GET /api/v1/charts?candletype=1&data_duration=1_MIN&starttime=2022-02-22+16%3A34%3A03.400296&endtime=2022-03-04+16%3A34%3A03.400296&exchange=BSE&type=historical&token=11287 HTTP/1.1\" 401 61\n"
     ]
    },
    {
     "data": {
      "text/plain": [
       "{'status': 'error', 'message': 'Request Unauthorised', 'data': {}}"
      ]
     },
     "execution_count": 16,
     "metadata": {},
     "output_type": "execute_result"
    }
   ],
   "source": [
    "historical_data('BSE', token=11287, starttime= starttime, endtime=endTime, interval='1_MIN')"
   ]
  },
  {
   "cell_type": "code",
   "execution_count": 17,
   "metadata": {},
   "outputs": [
    {
     "name": "stderr",
     "output_type": "stream",
     "text": [
      "DEBUG:urllib3.connectionpool:Starting new HTTPS connection (1): ant.aliceblueonline.com:443\n",
      "DEBUG:urllib3.connectionpool:https://ant.aliceblueonline.com:443 \"GET /api/v1/charts?candletype=1&data_duration=15&starttime=1646364600&endtime=2022-03-04+16%3A34%3A03.400296&exchange=BSE&type=historical&token=2885 HTTP/1.1\" 401 61\n",
      "DEBUG:urllib3.connectionpool:Starting new HTTPS connection (1): ant.aliceblueonline.com:443\n",
      "DEBUG:urllib3.connectionpool:https://ant.aliceblueonline.com:443 \"GET /api/v1/charts?candletype=1&data_duration=15&starttime=1646364600&endtime=2022-03-04+16%3A34%3A03.400296&exchange=BSE&type=historical&token=11287 HTTP/1.1\" 401 61\n",
      "DEBUG:urllib3.connectionpool:Starting new HTTPS connection (1): ant.aliceblueonline.com:443\n",
      "DEBUG:urllib3.connectionpool:https://ant.aliceblueonline.com:443 \"GET /api/v1/charts?candletype=1&data_duration=15&starttime=1646364600&endtime=2022-03-04+16%3A34%3A03.400296&exchange=BSE&type=historical&token=694 HTTP/1.1\" 401 61\n",
      "DEBUG:urllib3.connectionpool:Starting new HTTPS connection (1): ant.aliceblueonline.com:443\n",
      "DEBUG:urllib3.connectionpool:https://ant.aliceblueonline.com:443 \"GET /api/v1/charts?candletype=1&data_duration=15&starttime=1646364600&endtime=2022-03-04+16%3A34%3A03.400296&exchange=BSE&type=historical&token=3045 HTTP/1.1\" 401 61\n"
     ]
    }
   ],
   "source": [
    "lst = []\n",
    "for token in [2885, 11287, 694, 3045]:\n",
    "    stock = historical_data('BSE', token=token, starttime=startTime, endtime=endTime, interval=15)\n",
    "    lst.append(stock)"
   ]
  },
  {
   "cell_type": "code",
   "execution_count": 18,
   "metadata": {},
   "outputs": [],
   "source": [
    "def format_intraday(data):\n",
    "    records = data['data']\n",
    "    df = pd.DataFrame(records, columns=[\n",
    "                      'datetime', 'open', 'high', 'low', 'close', 'volume'])  # , index=0)\n",
    "    df['datetime'] = df['datetime'].apply(\n",
    "        pd.Timestamp, unit='s', tzinfo=pytz.timezone(\"Asia/Kolkata\"))\n",
    "    df[['open', 'high', 'low', 'close']] = df[['open', 'high', 'low', 'close']].astype(float).div(100)\n",
    "    df.set_index('datetime', inplace=True)\n",
    "    if(df.empty):\n",
    "        print(\"Pandas DataFrame is empty.\")\n",
    "    return df"
   ]
  },
  {
   "cell_type": "code",
   "execution_count": null,
   "metadata": {},
   "outputs": [],
   "source": []
  },
  {
   "cell_type": "code",
   "execution_count": 19,
   "metadata": {},
   "outputs": [
    {
     "data": {
      "text/plain": [
       "4"
      ]
     },
     "execution_count": 19,
     "metadata": {},
     "output_type": "execute_result"
    }
   ],
   "source": [
    "len(lst)"
   ]
  },
  {
   "cell_type": "code",
   "execution_count": 20,
   "metadata": {},
   "outputs": [
    {
     "data": {
      "text/plain": [
       "{'status': 'error', 'message': 'Request Unauthorised', 'data': {}}"
      ]
     },
     "execution_count": 20,
     "metadata": {},
     "output_type": "execute_result"
    }
   ],
   "source": [
    "lst[0]"
   ]
  },
  {
   "cell_type": "code",
   "execution_count": null,
   "metadata": {},
   "outputs": [],
   "source": [
    "# https://www.profitaddaweb.com/2020/01/alice-blue-utilize-free-of-cost-api-to.html"
   ]
  },
  {
   "cell_type": "code",
   "execution_count": 22,
   "metadata": {},
   "outputs": [
    {
     "ename": "WebSocketConnectionClosedException",
     "evalue": "socket is already closed.",
     "output_type": "error",
     "traceback": [
      "\u001b[1;31m---------------------------------------------------------------------------\u001b[0m",
      "\u001b[1;31mWebSocketConnectionClosedException\u001b[0m        Traceback (most recent call last)",
      "\u001b[1;32m<ipython-input-22-efe248a8bc84>\u001b[0m in \u001b[0;36m<module>\u001b[1;34m\u001b[0m\n\u001b[0;32m      8\u001b[0m \u001b[1;33m\u001b[0m\u001b[0m\n\u001b[0;32m      9\u001b[0m \u001b[1;31m# while True:\u001b[0m\u001b[1;33m\u001b[0m\u001b[1;33m\u001b[0m\u001b[1;33m\u001b[0m\u001b[0m\n\u001b[1;32m---> 10\u001b[1;33m \u001b[0malice\u001b[0m\u001b[1;33m.\u001b[0m\u001b[0msubscribe\u001b[0m\u001b[1;33m(\u001b[0m\u001b[1;33m[\u001b[0m\u001b[0malice\u001b[0m\u001b[1;33m.\u001b[0m\u001b[0mget_instrument_by_symbol\u001b[0m\u001b[1;33m(\u001b[0m\u001b[1;34m'NSE'\u001b[0m\u001b[1;33m,\u001b[0m\u001b[1;34m'TATAMOTORS'\u001b[0m\u001b[1;33m)\u001b[0m\u001b[1;33m]\u001b[0m\u001b[1;33m,\u001b[0m\u001b[0mLiveFeedType\u001b[0m\u001b[1;33m.\u001b[0m\u001b[0mCOMPACT\u001b[0m\u001b[1;33m)\u001b[0m\u001b[1;33m\u001b[0m\u001b[1;33m\u001b[0m\u001b[0m\n\u001b[0m\u001b[0;32m     11\u001b[0m \u001b[1;31m# alice.unsubscribe(alice.get_instrument_by_symbol('NSE', 'TATASTEEL'), LiveFeedType.MARKET_DATA)\u001b[0m\u001b[1;33m\u001b[0m\u001b[1;33m\u001b[0m\u001b[1;33m\u001b[0m\u001b[0m\n\u001b[0;32m     12\u001b[0m \u001b[0malice\u001b[0m\u001b[1;33m.\u001b[0m\u001b[0munsubscribe\u001b[0m\u001b[1;33m(\u001b[0m\u001b[0malice\u001b[0m\u001b[1;33m.\u001b[0m\u001b[0mget_instrument_by_symbol\u001b[0m\u001b[1;33m(\u001b[0m\u001b[1;34m'NSE'\u001b[0m\u001b[1;33m,\u001b[0m \u001b[1;34m'TATAMOTORS'\u001b[0m\u001b[1;33m)\u001b[0m\u001b[1;33m,\u001b[0m \u001b[0mLiveFeedType\u001b[0m\u001b[1;33m.\u001b[0m\u001b[0mCOMPACT\u001b[0m\u001b[1;33m)\u001b[0m\u001b[1;33m\u001b[0m\u001b[1;33m\u001b[0m\u001b[0m\n",
      "\u001b[1;32m~\\anaconda3\\lib\\site-packages\\alice_blue\\alice_blue.py\u001b[0m in \u001b[0;36msubscribe\u001b[1;34m(self, instrument, live_feed_type)\u001b[0m\n\u001b[0;32m    758\u001b[0m             \u001b[0mmode\u001b[0m \u001b[1;33m=\u001b[0m \u001b[1;34m'full_snapquote'\u001b[0m\u001b[1;33m\u001b[0m\u001b[1;33m\u001b[0m\u001b[0m\n\u001b[0;32m    759\u001b[0m         \u001b[0mdata\u001b[0m \u001b[1;33m=\u001b[0m \u001b[0mjson\u001b[0m\u001b[1;33m.\u001b[0m\u001b[0mdumps\u001b[0m\u001b[1;33m(\u001b[0m\u001b[1;33m{\u001b[0m\u001b[1;34m'a'\u001b[0m \u001b[1;33m:\u001b[0m \u001b[1;34m'subscribe'\u001b[0m\u001b[1;33m,\u001b[0m \u001b[1;34m'v'\u001b[0m \u001b[1;33m:\u001b[0m \u001b[0marr\u001b[0m\u001b[1;33m,\u001b[0m \u001b[1;34m'm'\u001b[0m \u001b[1;33m:\u001b[0m \u001b[0mmode\u001b[0m\u001b[1;33m}\u001b[0m\u001b[1;33m)\u001b[0m\u001b[1;33m\u001b[0m\u001b[1;33m\u001b[0m\u001b[0m\n\u001b[1;32m--> 760\u001b[1;33m         \u001b[0mself\u001b[0m\u001b[1;33m.\u001b[0m\u001b[0m__ws_send\u001b[0m\u001b[1;33m(\u001b[0m\u001b[0mdata\u001b[0m\u001b[1;33m)\u001b[0m\u001b[1;33m\u001b[0m\u001b[1;33m\u001b[0m\u001b[0m\n\u001b[0m\u001b[0;32m    761\u001b[0m \u001b[1;33m\u001b[0m\u001b[0m\n\u001b[0;32m    762\u001b[0m     \u001b[1;32mdef\u001b[0m \u001b[0munsubscribe\u001b[0m\u001b[1;33m(\u001b[0m\u001b[0mself\u001b[0m\u001b[1;33m,\u001b[0m \u001b[0minstrument\u001b[0m\u001b[1;33m,\u001b[0m \u001b[0mlive_feed_type\u001b[0m\u001b[1;33m)\u001b[0m\u001b[1;33m:\u001b[0m\u001b[1;33m\u001b[0m\u001b[1;33m\u001b[0m\u001b[0m\n",
      "\u001b[1;32m~\\anaconda3\\lib\\site-packages\\alice_blue\\alice_blue.py\u001b[0m in \u001b[0;36m__ws_send\u001b[1;34m(self, *args, **kwargs)\u001b[0m\n\u001b[0;32m    400\u001b[0m             \u001b[0msleep\u001b[0m\u001b[1;33m(\u001b[0m\u001b[1;36m0.05\u001b[0m\u001b[1;33m)\u001b[0m  \u001b[1;31m# sleep for 50ms if websocket is not connected, wait for reconnection\u001b[0m\u001b[1;33m\u001b[0m\u001b[1;33m\u001b[0m\u001b[0m\n\u001b[0;32m    401\u001b[0m         \u001b[1;32mwith\u001b[0m \u001b[0mself\u001b[0m\u001b[1;33m.\u001b[0m\u001b[0m__ws_mutex\u001b[0m\u001b[1;33m:\u001b[0m\u001b[1;33m\u001b[0m\u001b[1;33m\u001b[0m\u001b[0m\n\u001b[1;32m--> 402\u001b[1;33m             \u001b[0mself\u001b[0m\u001b[1;33m.\u001b[0m\u001b[0m__websocket\u001b[0m\u001b[1;33m.\u001b[0m\u001b[0msend\u001b[0m\u001b[1;33m(\u001b[0m\u001b[1;33m*\u001b[0m\u001b[0margs\u001b[0m\u001b[1;33m,\u001b[0m \u001b[1;33m**\u001b[0m\u001b[0mkwargs\u001b[0m\u001b[1;33m)\u001b[0m\u001b[1;33m\u001b[0m\u001b[1;33m\u001b[0m\u001b[0m\n\u001b[0m\u001b[0;32m    403\u001b[0m \u001b[1;33m\u001b[0m\u001b[0m\n\u001b[0;32m    404\u001b[0m     def start_websocket(self, subscribe_callback = None, \n",
      "\u001b[1;32m~\\anaconda3\\lib\\site-packages\\websocket\\_app.py\u001b[0m in \u001b[0;36msend\u001b[1;34m(self, data, opcode)\u001b[0m\n\u001b[0;32m    189\u001b[0m         \"\"\"\n\u001b[0;32m    190\u001b[0m \u001b[1;33m\u001b[0m\u001b[0m\n\u001b[1;32m--> 191\u001b[1;33m         \u001b[1;32mif\u001b[0m \u001b[1;32mnot\u001b[0m \u001b[0mself\u001b[0m\u001b[1;33m.\u001b[0m\u001b[0msock\u001b[0m \u001b[1;32mor\u001b[0m \u001b[0mself\u001b[0m\u001b[1;33m.\u001b[0m\u001b[0msock\u001b[0m\u001b[1;33m.\u001b[0m\u001b[0msend\u001b[0m\u001b[1;33m(\u001b[0m\u001b[0mdata\u001b[0m\u001b[1;33m,\u001b[0m \u001b[0mopcode\u001b[0m\u001b[1;33m)\u001b[0m \u001b[1;33m==\u001b[0m \u001b[1;36m0\u001b[0m\u001b[1;33m:\u001b[0m\u001b[1;33m\u001b[0m\u001b[1;33m\u001b[0m\u001b[0m\n\u001b[0m\u001b[0;32m    192\u001b[0m             raise WebSocketConnectionClosedException(\n\u001b[0;32m    193\u001b[0m                 \"Connection is already closed.\")\n",
      "\u001b[1;32m~\\anaconda3\\lib\\site-packages\\websocket\\_core.py\u001b[0m in \u001b[0;36msend\u001b[1;34m(self, payload, opcode)\u001b[0m\n\u001b[0;32m    280\u001b[0m \u001b[1;33m\u001b[0m\u001b[0m\n\u001b[0;32m    281\u001b[0m         \u001b[0mframe\u001b[0m \u001b[1;33m=\u001b[0m \u001b[0mABNF\u001b[0m\u001b[1;33m.\u001b[0m\u001b[0mcreate_frame\u001b[0m\u001b[1;33m(\u001b[0m\u001b[0mpayload\u001b[0m\u001b[1;33m,\u001b[0m \u001b[0mopcode\u001b[0m\u001b[1;33m)\u001b[0m\u001b[1;33m\u001b[0m\u001b[1;33m\u001b[0m\u001b[0m\n\u001b[1;32m--> 282\u001b[1;33m         \u001b[1;32mreturn\u001b[0m \u001b[0mself\u001b[0m\u001b[1;33m.\u001b[0m\u001b[0msend_frame\u001b[0m\u001b[1;33m(\u001b[0m\u001b[0mframe\u001b[0m\u001b[1;33m)\u001b[0m\u001b[1;33m\u001b[0m\u001b[1;33m\u001b[0m\u001b[0m\n\u001b[0m\u001b[0;32m    283\u001b[0m \u001b[1;33m\u001b[0m\u001b[0m\n\u001b[0;32m    284\u001b[0m     \u001b[1;32mdef\u001b[0m \u001b[0msend_frame\u001b[0m\u001b[1;33m(\u001b[0m\u001b[0mself\u001b[0m\u001b[1;33m,\u001b[0m \u001b[0mframe\u001b[0m\u001b[1;33m)\u001b[0m\u001b[1;33m:\u001b[0m\u001b[1;33m\u001b[0m\u001b[1;33m\u001b[0m\u001b[0m\n",
      "\u001b[1;32m~\\anaconda3\\lib\\site-packages\\websocket\\_core.py\u001b[0m in \u001b[0;36msend_frame\u001b[1;34m(self, frame)\u001b[0m\n\u001b[0;32m    308\u001b[0m         \u001b[1;32mwith\u001b[0m \u001b[0mself\u001b[0m\u001b[1;33m.\u001b[0m\u001b[0mlock\u001b[0m\u001b[1;33m:\u001b[0m\u001b[1;33m\u001b[0m\u001b[1;33m\u001b[0m\u001b[0m\n\u001b[0;32m    309\u001b[0m             \u001b[1;32mwhile\u001b[0m \u001b[0mdata\u001b[0m\u001b[1;33m:\u001b[0m\u001b[1;33m\u001b[0m\u001b[1;33m\u001b[0m\u001b[0m\n\u001b[1;32m--> 310\u001b[1;33m                 \u001b[0ml\u001b[0m \u001b[1;33m=\u001b[0m \u001b[0mself\u001b[0m\u001b[1;33m.\u001b[0m\u001b[0m_send\u001b[0m\u001b[1;33m(\u001b[0m\u001b[0mdata\u001b[0m\u001b[1;33m)\u001b[0m\u001b[1;33m\u001b[0m\u001b[1;33m\u001b[0m\u001b[0m\n\u001b[0m\u001b[0;32m    311\u001b[0m                 \u001b[0mdata\u001b[0m \u001b[1;33m=\u001b[0m \u001b[0mdata\u001b[0m\u001b[1;33m[\u001b[0m\u001b[0ml\u001b[0m\u001b[1;33m:\u001b[0m\u001b[1;33m]\u001b[0m\u001b[1;33m\u001b[0m\u001b[1;33m\u001b[0m\u001b[0m\n\u001b[0;32m    312\u001b[0m \u001b[1;33m\u001b[0m\u001b[0m\n",
      "\u001b[1;32m~\\anaconda3\\lib\\site-packages\\websocket\\_core.py\u001b[0m in \u001b[0;36m_send\u001b[1;34m(self, data)\u001b[0m\n\u001b[0;32m    512\u001b[0m \u001b[1;33m\u001b[0m\u001b[0m\n\u001b[0;32m    513\u001b[0m     \u001b[1;32mdef\u001b[0m \u001b[0m_send\u001b[0m\u001b[1;33m(\u001b[0m\u001b[0mself\u001b[0m\u001b[1;33m,\u001b[0m \u001b[0mdata\u001b[0m\u001b[1;33m)\u001b[0m\u001b[1;33m:\u001b[0m\u001b[1;33m\u001b[0m\u001b[1;33m\u001b[0m\u001b[0m\n\u001b[1;32m--> 514\u001b[1;33m         \u001b[1;32mreturn\u001b[0m \u001b[0msend\u001b[0m\u001b[1;33m(\u001b[0m\u001b[0mself\u001b[0m\u001b[1;33m.\u001b[0m\u001b[0msock\u001b[0m\u001b[1;33m,\u001b[0m \u001b[0mdata\u001b[0m\u001b[1;33m)\u001b[0m\u001b[1;33m\u001b[0m\u001b[1;33m\u001b[0m\u001b[0m\n\u001b[0m\u001b[0;32m    515\u001b[0m \u001b[1;33m\u001b[0m\u001b[0m\n\u001b[0;32m    516\u001b[0m     \u001b[1;32mdef\u001b[0m \u001b[0m_recv\u001b[0m\u001b[1;33m(\u001b[0m\u001b[0mself\u001b[0m\u001b[1;33m,\u001b[0m \u001b[0mbufsize\u001b[0m\u001b[1;33m)\u001b[0m\u001b[1;33m:\u001b[0m\u001b[1;33m\u001b[0m\u001b[1;33m\u001b[0m\u001b[0m\n",
      "\u001b[1;32m~\\anaconda3\\lib\\site-packages\\websocket\\_socket.py\u001b[0m in \u001b[0;36msend\u001b[1;34m(sock, data)\u001b[0m\n\u001b[0;32m    146\u001b[0m \u001b[1;33m\u001b[0m\u001b[0m\n\u001b[0;32m    147\u001b[0m     \u001b[1;32mif\u001b[0m \u001b[1;32mnot\u001b[0m \u001b[0msock\u001b[0m\u001b[1;33m:\u001b[0m\u001b[1;33m\u001b[0m\u001b[1;33m\u001b[0m\u001b[0m\n\u001b[1;32m--> 148\u001b[1;33m         \u001b[1;32mraise\u001b[0m \u001b[0mWebSocketConnectionClosedException\u001b[0m\u001b[1;33m(\u001b[0m\u001b[1;34m\"socket is already closed.\"\u001b[0m\u001b[1;33m)\u001b[0m\u001b[1;33m\u001b[0m\u001b[1;33m\u001b[0m\u001b[0m\n\u001b[0m\u001b[0;32m    149\u001b[0m \u001b[1;33m\u001b[0m\u001b[0m\n\u001b[0;32m    150\u001b[0m     \u001b[1;32mdef\u001b[0m \u001b[0m_send\u001b[0m\u001b[1;33m(\u001b[0m\u001b[1;33m)\u001b[0m\u001b[1;33m:\u001b[0m\u001b[1;33m\u001b[0m\u001b[1;33m\u001b[0m\u001b[0m\n",
      "\u001b[1;31mWebSocketConnectionClosedException\u001b[0m: socket is already closed."
     ]
    },
    {
     "name": "stdout",
     "output_type": "stream",
     "text": [
      "{'exchange': 'NSE', 'token': 2475, 'ltp': 165.25, 'ltt': 1646389664, 'ltq': 100, 'volume': 32658756, 'best_bid_price': 165.25, 'best_bid_quantity': 760, 'best_ask_price': 0.0, 'best_ask_quantity': 0, 'total_buy_quantity': 760, 'total_sell_quantity': 0, 'atp': 166.41, 'exchange_time_stamp': 1646389774, 'open': 170.1, 'high': 171.0, 'low': 163.85, 'close': 170.3, 'yearly_high': 176.35, 'yearly_low': 97.45, 'instrument': Instrument(exchange='NSE', token=2475, symbol='ONGC', name='OIL AND NATURAL GAS CORP.', expiry=None, lot_size=None)}\n",
      "{'exchange': 'NSE', 'token': 3456, 'ltp': 417.25, 'change': 0, 'exchange_time_stamp': 1646389780, 'volume': 39340, 'instrument': Instrument(exchange='NSE', token=3456, symbol='TATAMOTORS', name='TATA MOTORS LIMITED', expiry=None, lot_size=None)}\n"
     ]
    }
   ],
   "source": [
    "def event_handler_quote_update(ticks):\n",
    "    print(ticks)\n",
    "\n",
    "def open_callback():\n",
    "    global socket_opened\n",
    "    socket_opened=True\n",
    "alice.start_websocket(event_handler_quote_update,open_callback,run_in_background=True)\n",
    "\n",
    "# while True:\n",
    "alice.subscribe([alice.get_instrument_by_symbol('NSE','TATAMOTORS')],LiveFeedType.COMPACT)\n",
    "# alice.unsubscribe(alice.get_instrument_by_symbol('NSE', 'TATASTEEL'), LiveFeedType.MARKET_DATA)\n",
    "alice.unsubscribe(alice.get_instrument_by_symbol('NSE', 'TATAMOTORS'), LiveFeedType.COMPACT)"
   ]
  },
  {
   "cell_type": "code",
   "execution_count": null,
   "metadata": {},
   "outputs": [],
   "source": []
  }
 ],
 "metadata": {
  "kernelspec": {
   "display_name": "Python 3",
   "language": "python",
   "name": "python3"
  },
  "language_info": {
   "codemirror_mode": {
    "name": "ipython",
    "version": 3
   },
   "file_extension": ".py",
   "mimetype": "text/x-python",
   "name": "python",
   "nbconvert_exporter": "python",
   "pygments_lexer": "ipython3",
   "version": "3.8.5"
  }
 },
 "nbformat": 4,
 "nbformat_minor": 4
}
