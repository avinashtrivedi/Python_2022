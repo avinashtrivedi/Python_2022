{
 "cells": [
  {
   "cell_type": "code",
   "execution_count": 1,
   "metadata": {},
   "outputs": [
    {
     "ename": "NameError",
     "evalue": "name 'Instrument' is not defined",
     "output_type": "error",
     "traceback": [
      "\u001b[1;31m---------------------------------------------------------------------------\u001b[0m",
      "\u001b[1;31mNameError\u001b[0m                                 Traceback (most recent call last)",
      "\u001b[1;32m<ipython-input-1-40d1554892c1>\u001b[0m in \u001b[0;36m<module>\u001b[1;34m\u001b[0m\n\u001b[0;32m     19\u001b[0m  \u001b[1;34m'yearly_high'\u001b[0m\u001b[1;33m:\u001b[0m \u001b[1;36m176.35\u001b[0m\u001b[1;33m,\u001b[0m\u001b[1;33m\u001b[0m\u001b[1;33m\u001b[0m\u001b[0m\n\u001b[0;32m     20\u001b[0m  \u001b[1;34m'yearly_low'\u001b[0m\u001b[1;33m:\u001b[0m \u001b[1;36m97.45\u001b[0m\u001b[1;33m,\u001b[0m\u001b[1;33m\u001b[0m\u001b[1;33m\u001b[0m\u001b[0m\n\u001b[1;32m---> 21\u001b[1;33m  'instrument': Instrument(exchange='NSE', token=2475, symbol='ONGC', name='OIL AND NATURAL GAS CORP.', expiry=None, lot_size=None)}\n\u001b[0m",
      "\u001b[1;31mNameError\u001b[0m: name 'Instrument' is not defined"
     ]
    }
   ],
   "source": [
    "d = {'exchange': 'NSE',\n",
    " 'token': 2475,\n",
    " 'ltp': 165.25,\n",
    " 'ltt': 1646389664,\n",
    " 'ltq': 100,\n",
    " 'volume': 32658756,\n",
    " 'best_bid_price': 165.25,\n",
    " 'best_bid_quantity': 760,\n",
    " 'best_ask_price': 0.0,\n",
    " 'best_ask_quantity': 0,\n",
    " 'total_buy_quantity': 760,\n",
    " 'total_sell_quantity': 0,\n",
    " 'atp': 166.41,\n",
    " 'exchange_time_stamp': 1646389774,\n",
    " 'open': 170.1,\n",
    " 'high': 171.0,\n",
    " 'low': 163.85,\n",
    " 'close': 170.3,\n",
    " 'yearly_high': 176.35,\n",
    " 'yearly_low': 97.45,\n",
    " 'instrument': Instrument(exchange='NSE', token=2475, symbol='ONGC', name='OIL AND NATURAL GAS CORP.', expiry=None, lot_size=None)}"
   ]
  },
  {
   "cell_type": "code",
   "execution_count": null,
   "metadata": {},
   "outputs": [],
   "source": [
    "\n"
   ]
  }
 ],
 "metadata": {
  "kernelspec": {
   "display_name": "Python 3",
   "language": "python",
   "name": "python3"
  },
  "language_info": {
   "codemirror_mode": {
    "name": "ipython",
    "version": 3
   },
   "file_extension": ".py",
   "mimetype": "text/x-python",
   "name": "python",
   "nbconvert_exporter": "python",
   "pygments_lexer": "ipython3",
   "version": "3.8.5"
  }
 },
 "nbformat": 4,
 "nbformat_minor": 4
}
