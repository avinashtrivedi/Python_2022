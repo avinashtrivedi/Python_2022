{
 "cells": [
  {
   "cell_type": "code",
   "execution_count": 1,
   "metadata": {
    "id": "Gg_9DpxDI6Bz"
   },
   "outputs": [],
   "source": [
    "from sklearn.model_selection import train_test_split\n",
    "import matplotlib.pyplot as plt\n",
    "import numpy as np\n",
    "import pandas as pd"
   ]
  },
  {
   "cell_type": "code",
   "execution_count": 2,
   "metadata": {},
   "outputs": [],
   "source": [
    "X = [5, 1, 9, 6, 5, 6, 1, 9, 10, 11, 8, 7, 13, 8, 19]\n",
    "Y = [14, 16, 17, 10, 9, 17, 15, 3, 3, 1, 4, 5, 1, 3, 15]"
   ]
  },
  {
   "cell_type": "code",
   "execution_count": 3,
   "metadata": {},
   "outputs": [
    {
     "data": {
      "text/plain": [
       "<matplotlib.collections.PathCollection at 0x18e60b94d60>"
      ]
     },
     "execution_count": 3,
     "metadata": {},
     "output_type": "execute_result"
    },
    {
     "data": {
      "image/png": "[encoded data removed]",
      "text/plain": [
       "<Figure size 432x288 with 1 Axes>"
      ]
     },
     "metadata": {
      "needs_background": "light"
     },
     "output_type": "display_data"
    }
   ],
   "source": [
    "plt.scatter(X,Y)"
   ]
  },
  {
   "cell_type": "markdown",
   "metadata": {},
   "source": [
    "# Q5"
   ]
  },
  {
   "cell_type": "markdown",
   "metadata": {
    "id": "xp-RGFjtUyTx"
   },
   "source": [
    "<b> 6.a) [5]  If we want to predict the class based on the 4 nearest points. What method should we implement?(why?) (Classification/Regression/Clustering)? What is the name of the method? </b> "
   ]
  },
  {
   "cell_type": "code",
   "execution_count": null,
   "metadata": {
    "id": "TmTyzhVgUmr_"
   },
   "outputs": [],
   "source": [
    "## Type your answer here.\n",
    "# k-nearest neighbors"
   ]
  },
  {
   "cell_type": "markdown",
   "metadata": {
    "id": "20WfsvGLVkxq"
   },
   "source": [
    "<b> 6.b) [5]  Implement the model from above. You can use the python packages. Please divide the dataset into training and test set (80-20 split). </b> "
   ]
  },
  {
   "cell_type": "code",
   "execution_count": null,
   "metadata": {
    "id": "6Pk2IfDXXlwY"
   },
   "outputs": [],
   "source": [
    "\n",
    "### CODE HERE ###\n",
    "\n",
    "\n"
   ]
  },
  {
   "cell_type": "markdown",
   "metadata": {
    "id": "CgsCJgMFXjuv"
   },
   "source": [
    "<b>  6.c) [5] Report the performance of the model using one suitable measurement (accuracy, MSE, ..). Now, if we predicted the classes using 6 nearest points, how would the model performance change compared to part a </b> "
   ]
  },
  {
   "cell_type": "code",
   "execution_count": null,
   "metadata": {
    "id": "FAdHxckVXkTQ"
   },
   "outputs": [],
   "source": [
    "### CODE HERE ###\n",
    "\n",
    "\n",
    "\n",
    "\n"
   ]
  },
  {
   "cell_type": "markdown",
   "metadata": {},
   "source": [
    "# Q 6"
   ]
  },
  {
   "cell_type": "markdown",
   "metadata": {},
   "source": [
    "**[15] Load `breast cancer` dataset using the below code**"
   ]
  },
  {
   "cell_type": "code",
   "execution_count": 4,
   "metadata": {},
   "outputs": [],
   "source": [
    "from sklearn.datasets import load_breast_cancer\n",
    "X, Y = load_breast_cancer(return_X_y=True)"
   ]
  },
  {
   "cell_type": "markdown",
   "metadata": {},
   "source": [
    "**For this question, you need to apply 5-fold cross-validation on the breast cancer dataset.**\n",
    "    \n",
    "**You CANNOT use any package that provides you a fast CV; \n",
    "instead, you have to implement it by yourself from scratch. \n",
    "You need to take all the steps related to CV implementation. \n",
    "What we expect to see at the end includes:**\n",
    "\n",
    "* implementing the 5-fold CV correctly\n",
    "\n",
    "* applying a decision tree classifier on each fold\n",
    "\n",
    "* printing the ``accuracy`` of the model on each of the three folds. \n",
    "\n",
    "* reporting the ``mean`` and ``variance`` of the ``accuracy`` for these folds.\n",
    "\n",
    "**Hints**: Using the below code, you can implement Decision Tree on any given dataset:\n",
    "```python\n",
    "from sklearn import tree\n",
    "clf = tree.DecisionTreeClassifier()\n",
    "clf = clf.fit(X, Y)\n",
    "```\n",
    "and if you use ``predict`` method, then you can see the predicted values given the trained model. \n",
    "```python\n",
    "clf.predict(X_test)\n",
    "```\n",
    "<a href=\"https://scikit-learn.org/stable/modules/tree.html\">[Source for help on DT]</a> No need to manually create your DT. Simply use the above package for Decision Tree.\n",
    "\n",
    "For `accuracy` caluclation, you can use scikit-learn as well:\n",
    "\n",
    "```python\n",
    "from sklearn.metrics import accuracy_score\n",
    "accuracy_score(y_true, y_pred)\n",
    "```"
   ]
  },
  {
   "cell_type": "code",
   "execution_count": 5,
   "metadata": {},
   "outputs": [
    {
     "name": "stdout",
     "output_type": "stream",
     "text": [
      "Accuracy of model on fold-1 0.9534883720930233\n",
      "Accuracy of model on fold-2 0.9186046511627907\n",
      "Accuracy of model on fold-3 0.8953488372093024\n",
      "Accuracy of model on fold-4 0.9651162790697675\n",
      "Accuracy of model on fold-5 0.963855421686747\n",
      "----------------------------------------\n",
      "Mean: 0.9392827122443261\n",
      "variance: 0.0007661519163375733\n"
     ]
    }
   ],
   "source": [
    "### CODE HERE ###\n",
    "from sklearn.metrics import accuracy_score\n",
    "from sklearn import tree\n",
    "\n",
    "class0_indx = np.where(Y==0)\n",
    "class1_indx = np.where(Y==1)\n",
    "\n",
    "n_fold = 5\n",
    "n = int(np.ceil(len(class0_indx[0])/n_fold))\n",
    "\n",
    "folds_indx = []\n",
    "start = 0\n",
    "end = len(class0_indx[0])\n",
    "i = n\n",
    "while start<end:\n",
    "    arr1 = class0_indx[0][start:i]\n",
    "    arr2 = class1_indx[0][start:i]\n",
    "    indx = np.concatenate([arr1,arr2])\n",
    "    folds_indx.append(indx)\n",
    "    \n",
    "    start = i\n",
    "    i = i + n\n",
    "    \n",
    "#folds                                                              \n",
    "# fold1 = folds_indx[0]                                          \n",
    "# fold2 = folds_indx[1]\n",
    "# fold3 = folds_indx[2]\n",
    "# fold4 = folds_indx[3]\n",
    "# fold5 = folds_indx[4]\n",
    "\n",
    "# train1 = np.concatenate([fold2,fold3,fold4,fold5])\n",
    "# test1 = fold1\n",
    "\n",
    "# train2 = np.concatenate([fold1,fold3,fold4,fold5])\n",
    "# test2 = fold2\n",
    "\n",
    "# train3 = np.concatenate([fold1,fold2,fold4,fold5])\n",
    "# test3 = fold3\n",
    "\n",
    "# train4 = np.concatenate([fold1,fold2,fold3,fold5])\n",
    "# test4 = fold4\n",
    "\n",
    "# train5 = np.concatenate([fold1,fold2,fold3,fold4])\n",
    "# test5 = fold5\n",
    "\n",
    "\n",
    "# CV_Folds = [(train1,test1),(train2,test2),\n",
    "#             (train3,test3),(train4,test4),\n",
    "#             (train5,test5)]\n",
    "\n",
    "CV_Folds = []\n",
    "for i in range(n_fold):\n",
    "    train = np.concatenate(folds_indx[:i] + folds_indx[i+1:])\n",
    "    test = folds_indx[i]\n",
    "    CV_Folds.append((train,test))\n",
    "\n",
    "stored_accuracy = []\n",
    "for i,(train_index, test_index) in enumerate(CV_Folds):\n",
    "    X_train, X_test = X[train_index], X[test_index]\n",
    "    y_train, y_test = Y[train_index], Y[test_index]\n",
    "    \n",
    "    clf = tree.DecisionTreeClassifier()\n",
    "    clf = clf.fit(X_train, y_train)\n",
    "    y_pred = clf.predict(X_test)\n",
    "    accuracy = accuracy_score(y_test, y_pred)\n",
    "    stored_accuracy.append(accuracy)\n",
    "    print(f'Accuracy of model on fold-{i+1}',accuracy)\n",
    "    \n",
    "print('----------------------------------------')\n",
    "print('Mean:',np.array(stored_accuracy).mean())\n",
    "print('variance:',np.array(stored_accuracy).var())"
   ]
  },
  {
   "cell_type": "code",
   "execution_count": null,
   "metadata": {},
   "outputs": [],
   "source": []
  }
 ],
 "metadata": {
  "colab": {
   "collapsed_sections": [],
   "name": "Final Makeup Question.ipynb",
   "provenance": []
  },
  "kernelspec": {
   "display_name": "Python 3 (ipykernel)",
   "language": "python",
   "name": "python3"
  },
  "language_info": {
   "codemirror_mode": {
    "name": "ipython",
    "version": 3
   },
   "file_extension": ".py",
   "mimetype": "text/x-python",
   "name": "python",
   "nbconvert_exporter": "python",
   "pygments_lexer": "ipython3",
   "version": "3.9.12"
  },
  "toc": {
   "base_numbering": 1,
   "nav_menu": {},
   "number_sections": true,
   "sideBar": true,
   "skip_h1_title": false,
   "title_cell": "Table of Contents",
   "title_sidebar": "Contents",
   "toc_cell": false,
   "toc_position": {},
   "toc_section_display": true,
   "toc_window_display": false
  },
  "vscode": {
   "interpreter": {
    "hash": "2d56e52c9a077852e7d27fd3e3e7bca86e70570831dffccc41f16a8b5d6b8c77"
   }
  }
 },
 "nbformat": 4,
 "nbformat_minor": 1
}
