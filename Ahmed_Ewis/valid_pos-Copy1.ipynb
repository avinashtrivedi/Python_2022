{
 "cells": [
  {
   "cell_type": "code",
   "execution_count": 1,
   "id": "9c0db237",
   "metadata": {},
   "outputs": [],
   "source": [
    "def is_outside_list(letter_list, index):\n",
    "    \"\"\" \n",
    "    Indicates if the input index (integer) is located outside the list.\n",
    "    \n",
    "        Parameters:\n",
    "            letter_list: a list\n",
    "            index: an integer\n",
    "        Returns:\n",
    "            Boolean variable indicating if the input index corresponds to a position inside or outside of the given list of letters.\n",
    "            It will return True if the index is out of the list and False if it is inside the list. \n",
    "        \n",
    "        >>> is_outside_list(['A','B','C'], 3)\n",
    "        True\n",
    "        >>> is_outside_list(['A','B','C'], 1)\n",
    "        False\n",
    "    \"\"\"\n",
    "    \"\"\" Boolean comparison with letter_list and index will yield TypeError.\n",
    "        We will store the value of the list into x. \n",
    "    \"\"\"\n",
    "    x = len(letter_list)\n",
    "    if x > index:\n",
    "#         print(\"Index is located outside of list\")\n",
    "        return False\n",
    "    else:\n",
    "        return True"
   ]
  },
  {
   "cell_type": "code",
   "execution_count": 2,
   "id": "07c691aa",
   "metadata": {},
   "outputs": [],
   "source": [
    "def valid_word_pos_direction(letter_list,word,index,direction):\n",
    "        if not is_outside_list(letter_list,index):\n",
    "            if direction == 1:\n",
    "                myword = letter_list[index:index+len(word)]\n",
    "                mystr  =''\n",
    "                for i in myword:\n",
    "                    mystr = mystr + i\n",
    "                    \n",
    "            else:\n",
    "                myword = letter_list[index:index-len(word):-1]\n",
    "                mystr  =''\n",
    "                for i in myword:\n",
    "                    mystr = mystr + i\n",
    "                    \n",
    "            return mystr == word"
   ]
  },
  {
   "cell_type": "code",
   "execution_count": null,
   "id": "6c9a79d9",
   "metadata": {},
   "outputs": [],
   "source": []
  }
 ],
 "metadata": {
  "kernelspec": {
   "display_name": "Python 3 (ipykernel)",
   "language": "python",
   "name": "python3"
  },
  "language_info": {
   "codemirror_mode": {
    "name": "ipython",
    "version": 3
   },
   "file_extension": ".py",
   "mimetype": "text/x-python",
   "name": "python",
   "nbconvert_exporter": "python",
   "pygments_lexer": "ipython3",
   "version": "3.8.5"
  }
 },
 "nbformat": 4,
 "nbformat_minor": 5
}
