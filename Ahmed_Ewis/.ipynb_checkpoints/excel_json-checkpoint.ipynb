{
 "cells": [
  {
   "cell_type": "code",
   "execution_count": 27,
   "id": "039c761a",
   "metadata": {},
   "outputs": [],
   "source": [
    "import pandas as pd"
   ]
  },
  {
   "cell_type": "code",
   "execution_count": 28,
   "id": "ea57601a",
   "metadata": {},
   "outputs": [],
   "source": [
    "df = pd.read_excel('df_apes_clip_with_json.xlsx')"
   ]
  },
  {
   "cell_type": "code",
   "execution_count": 29,
   "id": "f45e421a",
   "metadata": {},
   "outputs": [],
   "source": [
    "df = df[['image','desc']] # new excel file"
   ]
  },
  {
   "cell_type": "code",
   "execution_count": 30,
   "id": "d4da6e2f",
   "metadata": {},
   "outputs": [],
   "source": [
    "df.columns = ['image_id','caption']\n",
    "# df = df[:110]"
   ]
  },
  {
   "cell_type": "code",
   "execution_count": 32,
   "id": "4935f6ee",
   "metadata": {},
   "outputs": [],
   "source": [
    "# df['image'] = df['image'].apply(lambda x: f'image/{x:05}.png')\n",
    "df['image_id'] = df['image_id'].apply(lambda x: f'{x:05}')"
   ]
  },
  {
   "cell_type": "code",
   "execution_count": 33,
   "id": "71d64312",
   "metadata": {},
   "outputs": [],
   "source": [
    "data = df.to_dict(orient='records')"
   ]
  },
  {
   "cell_type": "code",
   "execution_count": 34,
   "id": "2f441118",
   "metadata": {},
   "outputs": [],
   "source": [
    "import json\n",
    "\n",
    "with open('train_caption.json', 'w') as fp:\n",
    "    json.dump(data, fp)"
   ]
  },
  {
   "cell_type": "code",
   "execution_count": null,
   "id": "5263cc1d",
   "metadata": {},
   "outputs": [],
   "source": []
  }
 ],
 "metadata": {
  "kernelspec": {
   "display_name": "Python 3 (ipykernel)",
   "language": "python",
   "name": "python3"
  },
  "language_info": {
   "codemirror_mode": {
    "name": "ipython",
    "version": 3
   },
   "file_extension": ".py",
   "mimetype": "text/x-python",
   "name": "python",
   "nbconvert_exporter": "python",
   "pygments_lexer": "ipython3",
   "version": "3.8.5"
  }
 },
 "nbformat": 4,
 "nbformat_minor": 5
}
