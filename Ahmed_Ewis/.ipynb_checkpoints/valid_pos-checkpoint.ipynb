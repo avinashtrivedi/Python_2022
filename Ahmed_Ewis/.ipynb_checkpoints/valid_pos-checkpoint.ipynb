{
 "cells": [
  {
   "cell_type": "code",
   "execution_count": 1,
   "id": "6d72c51a",
   "metadata": {},
   "outputs": [],
   "source": [
    "def is_outside_list(letter_list, index):\n",
    "    \"\"\" \n",
    "    Indicates if the input index (integer) is located outside the list.\n",
    "    \n",
    "        Parameters:\n",
    "            letter_list: a list\n",
    "            index: an integer\n",
    "        Returns:\n",
    "            Boolean variable indicating if the input index corresponds to a position inside or outside of the given list of letters.\n",
    "            It will return True if the index is out of the list and False if it is inside the list. \n",
    "        \n",
    "        >>> is_outside_list(['A','B','C'], 3)\n",
    "        True\n",
    "        >>> is_outside_list(['A','B','C'], 1)\n",
    "        False\n",
    "    \"\"\"\n",
    "    \"\"\" Boolean comparison with letter_list and index will yield TypeError.\n",
    "        We will store the value of the list into x. \n",
    "    \"\"\"\n",
    "    x = len(letter_list)\n",
    "    if x > index:\n",
    "        return False\n",
    "    else:\n",
    "        return True"
   ]
  },
  {
   "cell_type": "code",
   "execution_count": 34,
   "id": "21af244d",
   "metadata": {},
   "outputs": [],
   "source": [
    "letter_list = ['A','B','C','D','C','M']\n",
    "word = 'ABC'\n",
    "index = 0\n",
    "direction = 1"
   ]
  },
  {
   "cell_type": "code",
   "execution_count": 35,
   "id": "d5381070",
   "metadata": {},
   "outputs": [],
   "source": [
    "def cross_word_position_direction(letter_list,word,index,direction):\n",
    "    \n",
    "        if index<len(letter_list):\n",
    "            if direction == 1:\n",
    "                for i in range(index,index+len(word)):\n",
    "                    letter_list[i] = '*' \n",
    "            else:\n",
    "                for i in range(index,index-len(word),-1):\n",
    "                    letter_list[i] = '*'\n",
    "                    \n",
    "            return letter_list"
   ]
  },
  {
   "cell_type": "code",
   "execution_count": 36,
   "id": "ff4f1820",
   "metadata": {},
   "outputs": [
    {
     "data": {
      "text/plain": [
       "['*', '*', '*', 'D', 'C', 'M']"
      ]
     },
     "execution_count": 36,
     "metadata": {},
     "output_type": "execute_result"
    }
   ],
   "source": [
    "valid_word_pos_direction(letter_list,word,index,direction)"
   ]
  },
  {
   "cell_type": "code",
   "execution_count": 39,
   "id": "e6477fac",
   "metadata": {},
   "outputs": [],
   "source": [
    "letter_list = ['*','*','*','D','C','M']\n",
    "word = 'CM'\n",
    "index = 4\n",
    "direction = 1"
   ]
  },
  {
   "cell_type": "code",
   "execution_count": 40,
   "id": "5e41fa71",
   "metadata": {},
   "outputs": [
    {
     "data": {
      "text/plain": [
       "['*', '*', '*', 'D', '*', '*']"
      ]
     },
     "execution_count": 40,
     "metadata": {},
     "output_type": "execute_result"
    }
   ],
   "source": [
    "valid_word_pos_direction(letter_list,word,index,direction)"
   ]
  },
  {
   "cell_type": "code",
   "execution_count": 41,
   "id": "e9911cc2",
   "metadata": {},
   "outputs": [],
   "source": [
    "letter_list = ['A','B','C','D','C','M']\n",
    "word = 'MCD'\n",
    "index = 5\n",
    "direction = -1"
   ]
  },
  {
   "cell_type": "code",
   "execution_count": 42,
   "id": "7251cf7c",
   "metadata": {},
   "outputs": [
    {
     "data": {
      "text/plain": [
       "['A', 'B', 'C', '*', '*', '*']"
      ]
     },
     "execution_count": 42,
     "metadata": {},
     "output_type": "execute_result"
    }
   ],
   "source": [
    "valid_word_pos_direction(letter_list,word,index,direction)"
   ]
  },
  {
   "cell_type": "markdown",
   "id": "6cb66df0",
   "metadata": {},
   "source": [
    "# Slicing"
   ]
  },
  {
   "cell_type": "code",
   "execution_count": 9,
   "id": "71aabe48",
   "metadata": {},
   "outputs": [],
   "source": [
    "s= 'Hello World'"
   ]
  },
  {
   "cell_type": "code",
   "execution_count": 48,
   "id": "51ecb268",
   "metadata": {},
   "outputs": [],
   "source": [
    "# s[start:end]"
   ]
  },
  {
   "cell_type": "code",
   "execution_count": 54,
   "id": "a5462ae3",
   "metadata": {},
   "outputs": [],
   "source": [
    "# s[start:end:step]"
   ]
  },
  {
   "cell_type": "code",
   "execution_count": 49,
   "id": "411cecf8",
   "metadata": {},
   "outputs": [
    {
     "data": {
      "text/plain": [
       "'Hello World'"
      ]
     },
     "execution_count": 49,
     "metadata": {},
     "output_type": "execute_result"
    }
   ],
   "source": [
    "s[:]"
   ]
  },
  {
   "cell_type": "code",
   "execution_count": 50,
   "id": "4d85564f",
   "metadata": {},
   "outputs": [
    {
     "data": {
      "text/plain": [
       "'ello World'"
      ]
     },
     "execution_count": 50,
     "metadata": {},
     "output_type": "execute_result"
    }
   ],
   "source": [
    "s[1:]"
   ]
  },
  {
   "cell_type": "code",
   "execution_count": 51,
   "id": "1cd27aa6",
   "metadata": {},
   "outputs": [
    {
     "data": {
      "text/plain": [
       "'llo World'"
      ]
     },
     "execution_count": 51,
     "metadata": {},
     "output_type": "execute_result"
    }
   ],
   "source": [
    "s[2:]"
   ]
  },
  {
   "cell_type": "code",
   "execution_count": 52,
   "id": "9b03d710",
   "metadata": {},
   "outputs": [
    {
     "data": {
      "text/plain": [
       "'llo'"
      ]
     },
     "execution_count": 52,
     "metadata": {},
     "output_type": "execute_result"
    }
   ],
   "source": [
    "s[2:5]"
   ]
  },
  {
   "cell_type": "code",
   "execution_count": 53,
   "id": "7cb9c478",
   "metadata": {},
   "outputs": [
    {
     "data": {
      "text/plain": [
       "'Hello World'"
      ]
     },
     "execution_count": 53,
     "metadata": {},
     "output_type": "execute_result"
    }
   ],
   "source": [
    "s"
   ]
  },
  {
   "cell_type": "code",
   "execution_count": 55,
   "id": "ae9de12c",
   "metadata": {},
   "outputs": [
    {
     "data": {
      "text/plain": [
       "'Hello World'"
      ]
     },
     "execution_count": 55,
     "metadata": {},
     "output_type": "execute_result"
    }
   ],
   "source": [
    "s"
   ]
  },
  {
   "cell_type": "code",
   "execution_count": 56,
   "id": "e6a96d06",
   "metadata": {},
   "outputs": [
    {
     "data": {
      "text/plain": [
       "'Hello World'"
      ]
     },
     "execution_count": 56,
     "metadata": {},
     "output_type": "execute_result"
    }
   ],
   "source": [
    "s[::]"
   ]
  },
  {
   "cell_type": "code",
   "execution_count": 57,
   "id": "5e5b4979",
   "metadata": {},
   "outputs": [
    {
     "data": {
      "text/plain": [
       "'dlroW olleH'"
      ]
     },
     "execution_count": 57,
     "metadata": {},
     "output_type": "execute_result"
    }
   ],
   "source": [
    "s[::-1]"
   ]
  },
  {
   "cell_type": "code",
   "execution_count": 58,
   "id": "7d8e6895",
   "metadata": {},
   "outputs": [
    {
     "data": {
      "text/plain": [
       "'Hello World'"
      ]
     },
     "execution_count": 58,
     "metadata": {},
     "output_type": "execute_result"
    }
   ],
   "source": [
    "s[::1]"
   ]
  },
  {
   "cell_type": "code",
   "execution_count": 59,
   "id": "fc64d32c",
   "metadata": {},
   "outputs": [
    {
     "data": {
      "text/plain": [
       "'HloWrd'"
      ]
     },
     "execution_count": 59,
     "metadata": {},
     "output_type": "execute_result"
    }
   ],
   "source": [
    "s[::2]"
   ]
  },
  {
   "cell_type": "code",
   "execution_count": 60,
   "id": "aee5a879",
   "metadata": {},
   "outputs": [
    {
     "data": {
      "text/plain": [
       "'Hello World'"
      ]
     },
     "execution_count": 60,
     "metadata": {},
     "output_type": "execute_result"
    }
   ],
   "source": [
    "s"
   ]
  },
  {
   "cell_type": "code",
   "execution_count": 61,
   "id": "62ce804c",
   "metadata": {},
   "outputs": [
    {
     "data": {
      "text/plain": [
       "'drWolH'"
      ]
     },
     "execution_count": 61,
     "metadata": {},
     "output_type": "execute_result"
    }
   ],
   "source": [
    "s[::-2]"
   ]
  },
  {
   "cell_type": "code",
   "execution_count": 62,
   "id": "068c8294",
   "metadata": {},
   "outputs": [
    {
     "data": {
      "text/plain": [
       "'Hello World'"
      ]
     },
     "execution_count": 62,
     "metadata": {},
     "output_type": "execute_result"
    }
   ],
   "source": [
    "s"
   ]
  },
  {
   "cell_type": "code",
   "execution_count": null,
   "id": "973ab2d3",
   "metadata": {},
   "outputs": [],
   "source": []
  }
 ],
 "metadata": {
  "kernelspec": {
   "display_name": "Python 3 (ipykernel)",
   "language": "python",
   "name": "python3"
  },
  "language_info": {
   "codemirror_mode": {
    "name": "ipython",
    "version": 3
   },
   "file_extension": ".py",
   "mimetype": "text/x-python",
   "name": "python",
   "nbconvert_exporter": "python",
   "pygments_lexer": "ipython3",
   "version": "3.8.5"
  }
 },
 "nbformat": 4,
 "nbformat_minor": 5
}
