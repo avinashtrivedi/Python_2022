{
 "cells": [
  {
   "cell_type": "code",
   "execution_count": 1,
   "id": "d6e5f95b",
   "metadata": {},
   "outputs": [
    {
     "name": "stdout",
     "output_type": "stream",
     "text": [
      "Enter the worker's first name: Lac\n",
      "Enter the worker's last name: Key\n",
      "Enter the office number: 42\n",
      "Enter the floor number: 13\n",
      "Enter the building: The Working Building\n",
      "Enter the city: Toady Town\n",
      "Enter the phone number: 110-101-0101\n",
      "Enter the email address: lackey@iworkallday.nopay\n",
      "\n",
      "The worker's information is ['Lac', 'Key', '42', '13', 'The Working Building', 'Toady Town', '110-101-0101', 'lackey@iworkallday.nopay']\n",
      "\n",
      "The worker's first name is Lac\n",
      "The worker's last name is Key\n",
      "The office number is 42\n",
      "The floor number is 13\n",
      "The building is The Working The Working Building\n",
      "The city is Toady Toady Town\n",
      "The phone number is 110-101-0101\n",
      "The email is lackey@iworkallday.nopay\n"
     ]
    }
   ],
   "source": [
    "fname = input(\"Enter the worker's first name: \")\n",
    "lname = input(\"Enter the worker's last name: \")\n",
    "onum = input(\"Enter the office number: \")\n",
    "fno = input(\"Enter the floor number: \")\n",
    "building = input(\"Enter the building: \")\n",
    "city = input(\"Enter the city: \")\n",
    "phone = input(\"Enter the phone number: \")\n",
    "email = input(\"Enter the email address: \")\n",
    "mylist = [fname,lname,onum,fno,building,city,phone,email]\n",
    "\n",
    "print(\"\\nThe worker's information is\",mylist)\n",
    "\n",
    "print(\"\\nThe worker's first name is\",fname)\n",
    "print(\"The worker's last name is\",lname)\n",
    "print(\"The office number is\",onum)\n",
    "print(\"The floor number is\",fno)\n",
    "print(\"The building is The Working\",building)\n",
    "print(\"The city is Toady\",city)\n",
    "print(\"The phone number is\",phone)\n",
    "print(\"The email is\",email)"
   ]
  },
  {
   "cell_type": "code",
   "execution_count": 2,
   "id": "7e2279c6",
   "metadata": {},
   "outputs": [
    {
     "name": "stdout",
     "output_type": "stream",
     "text": [
      "How many orders are there? 8\n",
      "\n",
      "\n",
      "Enter the total for order 1: 35\n",
      "Enter the total for order 2: 45\n",
      "Enter the total for order 3: 15\n",
      "Enter the total for order 4: 75\n",
      "Enter the total for order 5: 40\n",
      "Enter the total for order 6: 125\n",
      "Enter the total for order 7: 25\n",
      "Enter the total for order 8: 5.95\n",
      "\n",
      "Orders up to $40.00: [35.0, 15.0, 40.0, 25.0, 5.95]\n",
      "Number of orders: 5\n",
      "Maximum amount: 40.0\n",
      "Total delivery amount: $37.50\n",
      "\n",
      "Orders over $40.00: [45.0, 75.0, 125.0]\n",
      "Number of orders: 3\n",
      "Maximum amount: 125.0\n",
      "Total delivery amount: $13.50\n",
      "\n",
      "Total value of all deliveries: $51.00\n"
     ]
    }
   ],
   "source": [
    "n = int(input(\"How many orders are there? \"))\n",
    "print(\"\\n\")\n",
    "small = []\n",
    "large = []\n",
    "for i in range(n):\n",
    "    order = float(input(f\"Enter the total for order {i+1}: \"))\n",
    "    if order <= 40:\n",
    "        small.append(order)\n",
    "    else:\n",
    "        large.append(order)\n",
    "        \n",
    "print(\"\\nOrders up to $40.00:\",small)\n",
    "print(\"Number of orders:\",len(small))\n",
    "print(\"Maximum amount:\",max(small))\n",
    "\n",
    "delivery_amount_small = len(small) * 7.5\n",
    "\n",
    "print(\"Total delivery amount: ${:.2f}\".format(delivery_amount_small))\n",
    "\n",
    "print(\"\\nOrders over $40.00:\",large)\n",
    "print(\"Number of orders:\",len(large))\n",
    "print(\"Maximum amount:\",max(large))\n",
    "\n",
    "delivery_amount_large = len(large) * 4.5\n",
    "\n",
    "print(\"Total delivery amount: ${:.2f}\".format(delivery_amount_large))\n",
    "\n",
    "print(\"\\nTotal value of all deliveries: ${:.2f}\".format(delivery_amount_small+delivery_amount_large))"
   ]
  },
  {
   "cell_type": "code",
   "execution_count": 29,
   "id": "ec527ca5",
   "metadata": {},
   "outputs": [
    {
     "name": "stdout",
     "output_type": "stream",
     "text": [
      "\n",
      "We want to invite you to become a beta user.\n",
      "You'll get early access to new and premium features (persistent links, hosting, and more).\n",
      "If you're interested please email: beta@gradio.app\n",
      "\n",
      "Running on local URL:  http://127.0.0.1:7876/\n",
      "\n",
      "To create a public link, set `share=True` in `launch()`.\n"
     ]
    },
    {
     "data": {
      "text/html": [
       "\n",
       "        <iframe\n",
       "            width=\"900\"\n",
       "            height=\"500\"\n",
       "            src=\"http://127.0.0.1:7876/\"\n",
       "            frameborder=\"0\"\n",
       "            allowfullscreen\n",
       "            \n",
       "        ></iframe>\n",
       "        "
      ],
      "text/plain": [
       "<IPython.lib.display.IFrame at 0x1ac9af24bb0>"
      ]
     },
     "metadata": {},
     "output_type": "display_data"
    },
    {
     "data": {
      "text/plain": [
       "(<fastapi.applications.FastAPI at 0x1ac944d4f10>,\n",
       " 'http://127.0.0.1:7876/',\n",
       " None)"
      ]
     },
     "execution_count": 29,
     "metadata": {},
     "output_type": "execute_result"
    }
   ],
   "source": [
    "import gradio as gr\n",
    "\n",
    "\n",
    "def calculator(*argv):\n",
    "    return 'Hello'\n",
    "\n",
    "\n",
    "iface = gr.Interface(\n",
    "    calculator,\n",
    "    [gr.inputs.Number(default=0), \n",
    "    gr.inputs.Dropdown(['M','F'],default='M'), \n",
    "    gr.inputs.Dropdown(['ATA', 'NAP', 'ASY','TA'],default='TA'),\n",
    "    gr.inputs.Number(default=0), \n",
    "    gr.inputs.Number(default=0), \n",
    "    gr.inputs.Number(default=0), \n",
    "    gr.inputs.Dropdown(['Normal', 'ST' ,'LVH'],default='ST'),\n",
    "    gr.inputs.Number(default=0), \n",
    "    gr.inputs.Dropdown(['Y','N'],default='Y'),\n",
    "    gr.inputs.Number(default=0),\n",
    "    gr.inputs.Dropdown(['Up', 'Flat', 'Down'],default='Up')\n",
    "    ],\n",
    "    gr.outputs.Textbox(), live=True,layout='vertical'\n",
    ")\n",
    "\n",
    "iface.launch()"
   ]
  },
  {
   "cell_type": "code",
   "execution_count": 14,
   "id": "c528e6fa",
   "metadata": {},
   "outputs": [
    {
     "name": "stdout",
     "output_type": "stream",
     "text": [
      "Running on local URL:  http://127.0.0.1:7867/\n",
      "\n",
      "To create a public link, set `share=True` in `launch()`.\n"
     ]
    },
    {
     "data": {
      "text/html": [
       "\n",
       "        <iframe\n",
       "            width=\"900\"\n",
       "            height=\"500\"\n",
       "            src=\"http://127.0.0.1:7867/\"\n",
       "            frameborder=\"0\"\n",
       "            allowfullscreen\n",
       "            \n",
       "        ></iframe>\n",
       "        "
      ],
      "text/plain": [
       "<IPython.lib.display.IFrame at 0x1ac97ead910>"
      ]
     },
     "metadata": {},
     "output_type": "display_data"
    },
    {
     "data": {
      "text/plain": [
       "(<fastapi.applications.FastAPI at 0x1ac944d4f10>,\n",
       " 'http://127.0.0.1:7867/',\n",
       " None)"
      ]
     },
     "execution_count": 14,
     "metadata": {},
     "output_type": "execute_result"
    },
    {
     "name": "stderr",
     "output_type": "stream",
     "text": [
      "Traceback (most recent call last):\n",
      "  File \"C:\\Users\\avitr\\anaconda3\\lib\\site-packages\\gradio\\routes.py\", line 215, in predict\n",
      "    prediction, durations = await run_in_threadpool(\n",
      "  File \"C:\\Users\\avitr\\anaconda3\\lib\\site-packages\\starlette\\concurrency.py\", line 39, in run_in_threadpool\n",
      "    return await anyio.to_thread.run_sync(func, *args)\n",
      "  File \"C:\\Users\\avitr\\anaconda3\\lib\\site-packages\\anyio\\to_thread.py\", line 28, in run_sync\n",
      "    return await get_asynclib().run_sync_in_worker_thread(func, *args, cancellable=cancellable,\n",
      "  File \"C:\\Users\\avitr\\anaconda3\\lib\\site-packages\\anyio\\_backends\\_asyncio.py\", line 818, in run_sync_in_worker_thread\n",
      "    return await future\n",
      "  File \"C:\\Users\\avitr\\anaconda3\\lib\\site-packages\\anyio\\_backends\\_asyncio.py\", line 754, in run\n",
      "    result = context.run(func, *args)\n",
      "  File \"C:\\Users\\avitr\\anaconda3\\lib\\site-packages\\gradio\\interface.py\", line 553, in process\n",
      "    processed_input = [\n",
      "  File \"C:\\Users\\avitr\\anaconda3\\lib\\site-packages\\gradio\\interface.py\", line 554, in <listcomp>\n",
      "    input_component.preprocess(raw_input[i])\n",
      "  File \"C:\\Users\\avitr\\anaconda3\\lib\\site-packages\\gradio\\inputs.py\", line 295, in preprocess\n",
      "    return float(x)\n",
      "TypeError: float() argument must be a string or a number, not 'NoneType'\n"
     ]
    }
   ],
   "source": [
    "import gradio as gr\n",
    "\n",
    "\n",
    "def calculator(num1):\n",
    "    return 'Hello','world'\n",
    "\n",
    "\n",
    "iface = gr.Interface(\n",
    "    calculator,\n",
    "    [\"number\"],\n",
    "    [\"number\",\n",
    "    \"number\"], live=True,\n",
    ")\n",
    "\n",
    "iface.launch()"
   ]
  },
  {
   "cell_type": "code",
   "execution_count": null,
   "id": "eef9408e",
   "metadata": {},
   "outputs": [],
   "source": []
  }
 ],
 "metadata": {
  "kernelspec": {
   "display_name": "Python 3 (ipykernel)",
   "language": "python",
   "name": "python3"
  },
  "language_info": {
   "codemirror_mode": {
    "name": "ipython",
    "version": 3
   },
   "file_extension": ".py",
   "mimetype": "text/x-python",
   "name": "python",
   "nbconvert_exporter": "python",
   "pygments_lexer": "ipython3",
   "version": "3.8.5"
  }
 },
 "nbformat": 4,
 "nbformat_minor": 5
}
