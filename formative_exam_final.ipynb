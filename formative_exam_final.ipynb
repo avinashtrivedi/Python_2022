{
 "cells": [
  {
   "cell_type": "markdown",
   "metadata": {},
   "source": [
    "# Formative exam"
   ]
  },
  {
   "cell_type": "markdown",
   "metadata": {},
   "source": [
    "Complete all questions, code should be entered in the box below the question, text boxes have been indicated to ensure they render properly. Code should be fully commented, and comments will be taken into account when awarding marks. Only the libraries math, numpy, random and matplotlib should be used. If your code does not execute, partial credit will be given for elements of the code which are correct, and for evidence of effective debugging. If answering a question requires information from the previous part of the question, then you may substitute dummy values (e.g. create a new string, list or values) to demonstrate that you know how to solve that part of the question."
   ]
  },
  {
   "cell_type": "markdown",
   "metadata": {},
   "source": [
    "1a. Discuss the differences between for loops and while loops, and for which types of problems you might use each of them. 15"
   ]
  },
  {
   "cell_type": "markdown",
   "metadata": {},
   "source": [
    "Write your answer here: \n",
    "The for statement iterates through a collection or iterable object or generator function whereas the while statement simply loops until a condition is False. For loops can be used to specify a range of values within data for the program to read whereas you can not do that in while loops (e.g can specify range that i will loop for). While loops will loop wihin a particular dataset indefinitely until the condition is not met anymore (e.g until a particular sequence is encountered). For loops are traditionally used for example in instances where we would want to find a particular element within a DNA sequence - for example a start or stop codon. A while loop could be used to loop over a dataset that is changing or being altered over a period of time. "
   ]
  },
  {
   "cell_type": "markdown",
   "metadata": {},
   "source": [
    "1b. The following code was written to allow a user manually enter a DNA sequence. It contains a bug. Identify the bug and correct the program. 15"
   ]
  },
  {
   "cell_type": "code",
   "execution_count": 1,
   "metadata": {},
   "outputs": [
    {
     "name": "stdout",
     "output_type": "stream",
     "text": [
      "Start the sequence:G\n",
      "Provide another letterA\n",
      "Provide another letterA\n",
      "Provide another letterA\n",
      "Provide another letterG\n",
      "Provide another letterT\n",
      "Provide another letterS\n",
      "Letter was unexpected, terminating process. Input sequence was  GAAAGT\n"
     ]
    }
   ],
   "source": [
    "#program to allow a user to manually enter a DNA sequence\n",
    "#set up DNA sequence\n",
    "DNAseq = \"\"\n",
    "\n",
    "#while the inputted text is equal to an expected letter, append it\n",
    "#create variable named text before while loop and append with initial base entered\n",
    "text = input(\"Start the sequence:\")\n",
    "# DNAseq = DNAseq + text\n",
    "\n",
    "#while input base is valid, append DNAseq \n",
    "while text == \"G\" or text ==\"A\" or text==\"C\" or text==\"T\":\n",
    "    DNAseq = DNAseq + text\n",
    "    text = input(\"Provide another letter: \")\n",
    "    \n",
    "\n",
    "#otherwise, say that letter was unexpected and terminate input process\n",
    "print(\"Letter was unexpected, terminating process. Input sequence was \", DNAseq)"
   ]
  },
  {
   "cell_type": "markdown",
   "metadata": {},
   "source": [
    "1c. When data is read in from a file, it is often read in line by line. What is the last character of each line? 5"
   ]
  },
  {
   "cell_type": "markdown",
   "metadata": {},
   "source": [
    "Write your answer here: A whitespace is always at the end of each line."
   ]
  },
  {
   "cell_type": "markdown",
   "metadata": {},
   "source": [
    "1d. A DNA sequence is provided in the file DNAsequence_formative.txt. Read in the file and determine the number of bases in the DNA sequence. 10"
   ]
  },
  {
   "cell_type": "code",
   "execution_count": 2,
   "metadata": {},
   "outputs": [
    {
     "name": "stdout",
     "output_type": "stream",
     "text": [
      "116\n"
     ]
    }
   ],
   "source": [
    "#open DNAsequence_formative in read mode and store in filecontents\n",
    "filecontents = open('DNAsequence_formative.txt', 'r')\n",
    "\n",
    "#set variable dnaseq that contains filecontents\n",
    "dnaseq = filecontents.read()\n",
    "\n",
    "#close DNA sequence file\n",
    "filecontents.close()\n",
    "\n",
    "#determine length of dnaseq\n",
    "dnaseqlength = len(dnaseq)-1\n",
    "\n",
    "#print length of DNA sequence\n",
    "print(dnaseqlength)"
   ]
  },
  {
   "cell_type": "markdown",
   "metadata": {},
   "source": [
    "2 a. The sequence in DNAsequence.txt comes from yeast which reproduces asexually, meaning that changes in DNA occur only through mutation. For each reproduction cycle, each base has a 1 in 10,000 chance of being mutated to a different base. Simulate the random mutation process for 1000 reproduction cycles. When the base has been mutated, replace the letter by \"M\". 25"
   ]
  },
  {
   "cell_type": "code",
   "execution_count": 5,
   "metadata": {},
   "outputs": [
    {
     "ename": "SyntaxError",
     "evalue": "invalid syntax (<ipython-input-5-0977e056d344>, line 5)",
     "output_type": "error",
     "traceback": [
      "\u001b[1;36m  File \u001b[1;32m\"<ipython-input-5-0977e056d344>\"\u001b[1;36m, line \u001b[1;32m5\u001b[0m\n\u001b[1;33m    def mutate (dnaseq, {dnaseq[i]:'M'}, 0.1):\u001b[0m\n\u001b[1;37m                        ^\u001b[0m\n\u001b[1;31mSyntaxError\u001b[0m\u001b[1;31m:\u001b[0m invalid syntax\n"
     ]
    }
   ],
   "source": [
    "#import random library\n",
    "import random \n",
    "\n",
    "#define mutation function with mutation frequency and substitution\n",
    "def mutate (dnaseq, {dnaseq[i]:'M'}, 0.1):\n",
    "    dna_list = list(dnaseq)\n",
    "    \n",
    "#for every element within dnaseq, change base with a frequency of 0.1 to 'M'\n",
    "    for i in range (dnaseqlength):\n",
    "        r = random.random()\n",
    "        if r < 0.1:\n",
    "            mutation_site = random.randint(0, len(dna_list) - 1)\n",
    "            print(mutation_site)\n",
    "            dna_list[mutation_site] = 'M'\n",
    "            \n",
    "#print mutated DNA sequence\n",
    "        return ''.join(dna_list)\n",
    "\n",
    "\n",
    "\n",
    "        \n",
    "    \n",
    "    \n",
    "    \n",
    "    "
   ]
  },
  {
   "cell_type": "markdown",
   "metadata": {},
   "source": [
    "2 b. The sequence in DNAsubsequence_formative.txt is a part of the sequence which is crucial for reproduction. Check that this sequence is present in DNAsequence.txt 5"
   ]
  },
  {
   "cell_type": "code",
   "execution_count": 13,
   "metadata": {},
   "outputs": [
    {
     "name": "stdout",
     "output_type": "stream",
     "text": [
      "AATAGAAGCTCGCGCATAAAAGAGCTCCGCT\n",
      "\n",
      "The DNA sequence crucial for reproduction is present in the main DNA sequence\n"
     ]
    }
   ],
   "source": [
    "#open DNAsubsequence.txt file\n",
    "filecontents2 = open('DNAsubsequence.txt','r')\n",
    "\n",
    "#set contents in variable called dnaseq2\n",
    "dnaseq2 = filecontents2.read()\n",
    "\n",
    "#close DNA sequence file\n",
    "filecontents2.close()\n",
    "\n",
    "DNA_sequence = str(dnaseq2)\n",
    "print(DNA_sequence)\n",
    "\n",
    "#check if dnaseq is part of dnaseq2\n",
    "if 'AATAGAAGCTCGCGCATAAAAGAGCTCCGCT' in dnaseq:\n",
    "\n",
    "#print message to confirm that one DNA sequence is a part of the other\n",
    "    print('The DNA sequence crucial for reproduction is present in the main DNA sequence')\n",
    "    \n",
    "#print message that DNA sequence is not a part of the main DNA sequence\n",
    "else:\n",
    "    print('The DNA sequence for reproduction is not part of the main DNA sequence')"
   ]
  },
  {
   "cell_type": "markdown",
   "metadata": {},
   "source": [
    "2 c. Use your mutation simulation, and check whether after 1000 reproduction cycles the sequence in DNAsubsequence_formative.txt is still present within DNAsequence, or whether it has been mutated. 10"
   ]
  },
  {
   "cell_type": "code",
   "execution_count": null,
   "metadata": {},
   "outputs": [],
   "source": []
  },
  {
   "cell_type": "markdown",
   "metadata": {},
   "source": [
    "2 d. Using a for loop, repeat this simulation 100 times, recording whether DNAsubsequence has been mutated each time. Use this to calculate the probability of DNAsubsequence being mutated. 15"
   ]
  },
  {
   "cell_type": "code",
   "execution_count": null,
   "metadata": {},
   "outputs": [],
   "source": []
  }
 ],
 "metadata": {
  "kernelspec": {
   "display_name": "Python 3",
   "language": "python",
   "name": "python3"
  },
  "language_info": {
   "codemirror_mode": {
    "name": "ipython",
    "version": 3
   },
   "file_extension": ".py",
   "mimetype": "text/x-python",
   "name": "python",
   "nbconvert_exporter": "python",
   "pygments_lexer": "ipython3",
   "version": "3.8.5"
  }
 },
 "nbformat": 4,
 "nbformat_minor": 4
}
