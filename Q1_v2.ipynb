{
 "cells": [
  {
   "cell_type": "code",
   "execution_count": 22,
   "id": "caca752b",
   "metadata": {},
   "outputs": [],
   "source": [
    "import numpy as np\n",
    "import pandas as pd\n",
    "import tensorflow as tf\n",
    "\n",
    "from tensorflow.keras import layers"
   ]
  },
  {
   "cell_type": "code",
   "execution_count": 21,
   "id": "64810579",
   "metadata": {},
   "outputs": [
    {
     "name": "stdout",
     "output_type": "stream",
     "text": [
      "2.9.1\n"
     ]
    }
   ],
   "source": [
    "print(tf. __version__)"
   ]
  },
  {
   "cell_type": "code",
   "execution_count": 2,
   "id": "f3231111",
   "metadata": {},
   "outputs": [],
   "source": [
    "names=[\"First Term Gpa\", \"Second Term Gpa\", \"First Language\", \" Funding\", \"School\",\n",
    "       \"FastTrack\", \"Coop\", \" Residency\", \" Gender\", \" Previous Education\", \"Age Group\", \n",
    "       \"High School Average Mark\", \"Math Score\", \"English Grade\", \"FirstYearPersistence\",]\n",
    "\n",
    "student_data = pd.read_csv(r'D:\\OneDrive - NITT\\Custom_Download\\Student data.csv',na_values='?')\n",
    "student_data.columns = names\n",
    "student_data.dropna(inplace=True)"
   ]
  },
  {
   "cell_type": "code",
   "execution_count": 3,
   "id": "b11178fb",
   "metadata": {},
   "outputs": [],
   "source": [
    "student_data['First Term Gpa'] = student_data['First Term Gpa'].astype('float')"
   ]
  },
  {
   "cell_type": "code",
   "execution_count": 4,
   "id": "51f39245",
   "metadata": {},
   "outputs": [
    {
     "data": {
      "text/html": [
       "<div>\n",
       "<style scoped>\n",
       "    .dataframe tbody tr th:only-of-type {\n",
       "        vertical-align: middle;\n",
       "    }\n",
       "\n",
       "    .dataframe tbody tr th {\n",
       "        vertical-align: top;\n",
       "    }\n",
       "\n",
       "    .dataframe thead th {\n",
       "        text-align: right;\n",
       "    }\n",
       "</style>\n",
       "<table border=\"1\" class=\"dataframe\">\n",
       "  <thead>\n",
       "    <tr style=\"text-align: right;\">\n",
       "      <th></th>\n",
       "      <th>First Term Gpa</th>\n",
       "      <th>Second Term Gpa</th>\n",
       "      <th>First Language</th>\n",
       "      <th>Funding</th>\n",
       "      <th>School</th>\n",
       "      <th>FastTrack</th>\n",
       "      <th>Coop</th>\n",
       "      <th>Residency</th>\n",
       "      <th>Gender</th>\n",
       "      <th>Previous Education</th>\n",
       "      <th>Age Group</th>\n",
       "      <th>High School Average Mark</th>\n",
       "      <th>Math Score</th>\n",
       "      <th>English Grade</th>\n",
       "      <th>FirstYearPersistence</th>\n",
       "    </tr>\n",
       "  </thead>\n",
       "  <tbody>\n",
       "    <tr>\n",
       "      <th>23</th>\n",
       "      <td>0.000000</td>\n",
       "      <td>0.000000</td>\n",
       "      <td>1.0</td>\n",
       "      <td>2.0</td>\n",
       "      <td>6.0</td>\n",
       "      <td>2.0</td>\n",
       "      <td>1.0</td>\n",
       "      <td>1.0</td>\n",
       "      <td>2.0</td>\n",
       "      <td>1.0</td>\n",
       "      <td>1.0</td>\n",
       "      <td>59.0</td>\n",
       "      <td>16.0</td>\n",
       "      <td>7.0</td>\n",
       "      <td>1.0</td>\n",
       "    </tr>\n",
       "    <tr>\n",
       "      <th>25</th>\n",
       "      <td>4.250000</td>\n",
       "      <td>3.923077</td>\n",
       "      <td>1.0</td>\n",
       "      <td>1.0</td>\n",
       "      <td>6.0</td>\n",
       "      <td>2.0</td>\n",
       "      <td>1.0</td>\n",
       "      <td>1.0</td>\n",
       "      <td>1.0</td>\n",
       "      <td>2.0</td>\n",
       "      <td>3.0</td>\n",
       "      <td>92.0</td>\n",
       "      <td>41.0</td>\n",
       "      <td>9.0</td>\n",
       "      <td>1.0</td>\n",
       "    </tr>\n",
       "    <tr>\n",
       "      <th>28</th>\n",
       "      <td>4.357143</td>\n",
       "      <td>4.326087</td>\n",
       "      <td>1.0</td>\n",
       "      <td>2.0</td>\n",
       "      <td>6.0</td>\n",
       "      <td>2.0</td>\n",
       "      <td>1.0</td>\n",
       "      <td>1.0</td>\n",
       "      <td>2.0</td>\n",
       "      <td>2.0</td>\n",
       "      <td>3.0</td>\n",
       "      <td>101.0</td>\n",
       "      <td>45.0</td>\n",
       "      <td>9.0</td>\n",
       "      <td>1.0</td>\n",
       "    </tr>\n",
       "    <tr>\n",
       "      <th>29</th>\n",
       "      <td>2.210526</td>\n",
       "      <td>1.375000</td>\n",
       "      <td>1.0</td>\n",
       "      <td>2.0</td>\n",
       "      <td>6.0</td>\n",
       "      <td>2.0</td>\n",
       "      <td>1.0</td>\n",
       "      <td>1.0</td>\n",
       "      <td>2.0</td>\n",
       "      <td>1.0</td>\n",
       "      <td>1.0</td>\n",
       "      <td>68.0</td>\n",
       "      <td>20.0</td>\n",
       "      <td>7.0</td>\n",
       "      <td>0.0</td>\n",
       "    </tr>\n",
       "    <tr>\n",
       "      <th>30</th>\n",
       "      <td>2.045455</td>\n",
       "      <td>2.961538</td>\n",
       "      <td>1.0</td>\n",
       "      <td>2.0</td>\n",
       "      <td>6.0</td>\n",
       "      <td>2.0</td>\n",
       "      <td>1.0</td>\n",
       "      <td>1.0</td>\n",
       "      <td>2.0</td>\n",
       "      <td>1.0</td>\n",
       "      <td>1.0</td>\n",
       "      <td>79.0</td>\n",
       "      <td>34.0</td>\n",
       "      <td>9.0</td>\n",
       "      <td>1.0</td>\n",
       "    </tr>\n",
       "    <tr>\n",
       "      <th>...</th>\n",
       "      <td>...</td>\n",
       "      <td>...</td>\n",
       "      <td>...</td>\n",
       "      <td>...</td>\n",
       "      <td>...</td>\n",
       "      <td>...</td>\n",
       "      <td>...</td>\n",
       "      <td>...</td>\n",
       "      <td>...</td>\n",
       "      <td>...</td>\n",
       "      <td>...</td>\n",
       "      <td>...</td>\n",
       "      <td>...</td>\n",
       "      <td>...</td>\n",
       "      <td>...</td>\n",
       "    </tr>\n",
       "    <tr>\n",
       "      <th>1445</th>\n",
       "      <td>4.000000</td>\n",
       "      <td>4.333333</td>\n",
       "      <td>1.0</td>\n",
       "      <td>8.0</td>\n",
       "      <td>6.0</td>\n",
       "      <td>2.0</td>\n",
       "      <td>2.0</td>\n",
       "      <td>1.0</td>\n",
       "      <td>2.0</td>\n",
       "      <td>1.0</td>\n",
       "      <td>5.0</td>\n",
       "      <td>74.0</td>\n",
       "      <td>16.0</td>\n",
       "      <td>9.0</td>\n",
       "      <td>1.0</td>\n",
       "    </tr>\n",
       "    <tr>\n",
       "      <th>1449</th>\n",
       "      <td>1.315789</td>\n",
       "      <td>0.000000</td>\n",
       "      <td>1.0</td>\n",
       "      <td>2.0</td>\n",
       "      <td>6.0</td>\n",
       "      <td>2.0</td>\n",
       "      <td>1.0</td>\n",
       "      <td>1.0</td>\n",
       "      <td>2.0</td>\n",
       "      <td>1.0</td>\n",
       "      <td>3.0</td>\n",
       "      <td>64.0</td>\n",
       "      <td>28.0</td>\n",
       "      <td>9.0</td>\n",
       "      <td>0.0</td>\n",
       "    </tr>\n",
       "    <tr>\n",
       "      <th>1452</th>\n",
       "      <td>1.869565</td>\n",
       "      <td>2.375000</td>\n",
       "      <td>1.0</td>\n",
       "      <td>2.0</td>\n",
       "      <td>6.0</td>\n",
       "      <td>2.0</td>\n",
       "      <td>1.0</td>\n",
       "      <td>1.0</td>\n",
       "      <td>1.0</td>\n",
       "      <td>1.0</td>\n",
       "      <td>1.0</td>\n",
       "      <td>73.0</td>\n",
       "      <td>23.0</td>\n",
       "      <td>7.0</td>\n",
       "      <td>1.0</td>\n",
       "    </tr>\n",
       "    <tr>\n",
       "      <th>1457</th>\n",
       "      <td>2.020833</td>\n",
       "      <td>2.450000</td>\n",
       "      <td>1.0</td>\n",
       "      <td>2.0</td>\n",
       "      <td>6.0</td>\n",
       "      <td>2.0</td>\n",
       "      <td>1.0</td>\n",
       "      <td>1.0</td>\n",
       "      <td>2.0</td>\n",
       "      <td>1.0</td>\n",
       "      <td>1.0</td>\n",
       "      <td>78.0</td>\n",
       "      <td>18.0</td>\n",
       "      <td>9.0</td>\n",
       "      <td>1.0</td>\n",
       "    </tr>\n",
       "    <tr>\n",
       "      <th>1459</th>\n",
       "      <td>2.133333</td>\n",
       "      <td>3.205882</td>\n",
       "      <td>1.0</td>\n",
       "      <td>2.0</td>\n",
       "      <td>6.0</td>\n",
       "      <td>2.0</td>\n",
       "      <td>2.0</td>\n",
       "      <td>1.0</td>\n",
       "      <td>1.0</td>\n",
       "      <td>1.0</td>\n",
       "      <td>1.0</td>\n",
       "      <td>81.0</td>\n",
       "      <td>27.0</td>\n",
       "      <td>9.0</td>\n",
       "      <td>1.0</td>\n",
       "    </tr>\n",
       "  </tbody>\n",
       "</table>\n",
       "<p>494 rows × 15 columns</p>\n",
       "</div>"
      ],
      "text/plain": [
       "      First Term Gpa  Second Term Gpa  First Language   Funding  School  \\\n",
       "23          0.000000         0.000000             1.0       2.0     6.0   \n",
       "25          4.250000         3.923077             1.0       1.0     6.0   \n",
       "28          4.357143         4.326087             1.0       2.0     6.0   \n",
       "29          2.210526         1.375000             1.0       2.0     6.0   \n",
       "30          2.045455         2.961538             1.0       2.0     6.0   \n",
       "...              ...              ...             ...       ...     ...   \n",
       "1445        4.000000         4.333333             1.0       8.0     6.0   \n",
       "1449        1.315789         0.000000             1.0       2.0     6.0   \n",
       "1452        1.869565         2.375000             1.0       2.0     6.0   \n",
       "1457        2.020833         2.450000             1.0       2.0     6.0   \n",
       "1459        2.133333         3.205882             1.0       2.0     6.0   \n",
       "\n",
       "      FastTrack  Coop   Residency   Gender   Previous Education  Age Group  \\\n",
       "23          2.0   1.0         1.0      2.0                  1.0        1.0   \n",
       "25          2.0   1.0         1.0      1.0                  2.0        3.0   \n",
       "28          2.0   1.0         1.0      2.0                  2.0        3.0   \n",
       "29          2.0   1.0         1.0      2.0                  1.0        1.0   \n",
       "30          2.0   1.0         1.0      2.0                  1.0        1.0   \n",
       "...         ...   ...         ...      ...                  ...        ...   \n",
       "1445        2.0   2.0         1.0      2.0                  1.0        5.0   \n",
       "1449        2.0   1.0         1.0      2.0                  1.0        3.0   \n",
       "1452        2.0   1.0         1.0      1.0                  1.0        1.0   \n",
       "1457        2.0   1.0         1.0      2.0                  1.0        1.0   \n",
       "1459        2.0   2.0         1.0      1.0                  1.0        1.0   \n",
       "\n",
       "      High School Average Mark  Math Score  English Grade  \\\n",
       "23                        59.0        16.0            7.0   \n",
       "25                        92.0        41.0            9.0   \n",
       "28                       101.0        45.0            9.0   \n",
       "29                        68.0        20.0            7.0   \n",
       "30                        79.0        34.0            9.0   \n",
       "...                        ...         ...            ...   \n",
       "1445                      74.0        16.0            9.0   \n",
       "1449                      64.0        28.0            9.0   \n",
       "1452                      73.0        23.0            7.0   \n",
       "1457                      78.0        18.0            9.0   \n",
       "1459                      81.0        27.0            9.0   \n",
       "\n",
       "      FirstYearPersistence  \n",
       "23                     1.0  \n",
       "25                     1.0  \n",
       "28                     1.0  \n",
       "29                     0.0  \n",
       "30                     1.0  \n",
       "...                    ...  \n",
       "1445                   1.0  \n",
       "1449                   0.0  \n",
       "1452                   1.0  \n",
       "1457                   1.0  \n",
       "1459                   1.0  \n",
       "\n",
       "[494 rows x 15 columns]"
      ]
     },
     "execution_count": 4,
     "metadata": {},
     "output_type": "execute_result"
    }
   ],
   "source": [
    "student_data"
   ]
  },
  {
   "cell_type": "code",
   "execution_count": 5,
   "id": "39a1e004",
   "metadata": {},
   "outputs": [
    {
     "data": {
      "text/plain": [
       "First Term Gpa              float64\n",
       "Second Term Gpa             float64\n",
       "First Language              float64\n",
       " Funding                    float64\n",
       "School                      float64\n",
       "FastTrack                   float64\n",
       "Coop                        float64\n",
       " Residency                  float64\n",
       " Gender                     float64\n",
       " Previous Education         float64\n",
       "Age Group                   float64\n",
       "High School Average Mark    float64\n",
       "Math Score                  float64\n",
       "English Grade               float64\n",
       "FirstYearPersistence        float64\n",
       "dtype: object"
      ]
     },
     "execution_count": 5,
     "metadata": {},
     "output_type": "execute_result"
    }
   ],
   "source": [
    "student_data.dtypes"
   ]
  },
  {
   "cell_type": "code",
   "execution_count": 6,
   "id": "6a953105",
   "metadata": {},
   "outputs": [],
   "source": [
    "student_data['target'] = student_data['FirstYearPersistence']\n",
    "student_data.drop('FirstYearPersistence',axis=1,inplace=True)"
   ]
  },
  {
   "cell_type": "code",
   "execution_count": 7,
   "id": "3ee9e10f",
   "metadata": {},
   "outputs": [],
   "source": [
    "def get_normalization_layer(name, dataset):\n",
    "    # Create a Normalization layer for the feature.\n",
    "    normalizer = layers.Normalization(axis=None)\n",
    "\n",
    "    # Prepare a Dataset that only yields the feature.\n",
    "    feature_ds = dataset.map(lambda x, y: x[name])\n",
    "\n",
    "    # Learn the statistics of the data.\n",
    "    normalizer.adapt(feature_ds)\n",
    "\n",
    "    return normalizer"
   ]
  },
  {
   "cell_type": "code",
   "execution_count": 8,
   "id": "8605fd12",
   "metadata": {},
   "outputs": [],
   "source": [
    "def df_to_dataset(dataframe, shuffle=True, batch_size=32):\n",
    "    df = dataframe.copy()\n",
    "    labels = df.pop('target')\n",
    "    df = {key: value[:,tf.newaxis] for key, value in dataframe.items()}\n",
    "    ds = tf.data.Dataset.from_tensor_slices((dict(df), labels))\n",
    "    if shuffle:\n",
    "        ds = ds.shuffle(buffer_size=len(dataframe))\n",
    "    ds = ds.batch(batch_size)\n",
    "    ds = ds.prefetch(batch_size)\n",
    "    return ds"
   ]
  },
  {
   "cell_type": "code",
   "execution_count": 9,
   "id": "f253a8bf",
   "metadata": {},
   "outputs": [
    {
     "name": "stderr",
     "output_type": "stream",
     "text": [
      "C:\\Users\\avitr\\AppData\\Local\\Temp\\ipykernel_33672\\3859046669.py:4: FutureWarning: Support for multi-dimensional indexing (e.g. `obj[:, None]`) is deprecated and will be removed in a future version.  Convert to a numpy array before indexing instead.\n",
      "  df = {key: value[:,tf.newaxis] for key, value in dataframe.items()}\n"
     ]
    }
   ],
   "source": [
    "train_ds = df_to_dataset(student_data)"
   ]
  },
  {
   "cell_type": "markdown",
   "id": "a3aacd8e",
   "metadata": {},
   "source": [
    "# Example of encoding i.e normalization"
   ]
  },
  {
   "cell_type": "code",
   "execution_count": 10,
   "id": "fd767390",
   "metadata": {},
   "outputs": [
    {
     "data": {
      "text/plain": [
       "<tf.Tensor: shape=(1, 494), dtype=float32, numpy=\n",
       "array([[-1.7061528 ,  1.2842478 ,  2.0998116 , -0.890589  ,  0.10621118,\n",
       "         1.827957  ,  0.01559298, -0.43749803,  0.28744757,  1.5561024 ,\n",
       "         0.19682938,  1.7373388 ,  0.28744757, -0.890589  ,  0.6499204 ,\n",
       "         0.468684  , -1.6155347 ,  1.5561024 , -0.16564342,  0.8311568 ,\n",
       "         0.3780658 ,  0.28744757,  0.01559298, -0.3468798 ,  0.19682938,\n",
       "         0.921775  ,  1.1030114 , -0.43749803, -5.5121174 , -0.25626162,\n",
       "        -2.702953  , -1.34368   , -0.25626162, -0.5281162 ,  0.8311568 ,\n",
       "         0.10621118,  0.7405386 ,  0.3780658 , -0.3468798 ,  0.19682938,\n",
       "        -0.07502522, -0.98120725,  0.55930215,  0.28744757, -1.1624436 ,\n",
       "        -0.5281162 ,  1.374866  , -2.3404803 ,  0.6499204 ,  1.6467205 ,\n",
       "         1.2842478 , -0.43749803,  0.01559298, -2.702953  ,  0.3780658 ,\n",
       "         0.10621118,  0.6499204 ,  0.01559298,  0.7405386 ,  1.7373388 ,\n",
       "         1.1030114 ,  1.1030114 ,  1.0123932 ,  0.468684  , -0.98120725,\n",
       "         1.7373388 , -1.6155347 , -1.5249164 ,  0.28744757, -1.34368   ,\n",
       "        -0.5281162 , -0.3468798 ,  0.6499204 , -2.1592438 , -0.890589  ,\n",
       "         0.19682938,  1.4654841 ,  0.28744757,  0.6499204 , -0.5281162 ,\n",
       "        -0.6187344 , -0.43749803,  0.3780658 ,  1.2842478 ,  0.921775  ,\n",
       "         1.2842478 , -1.34368   ,  1.0123932 ,  0.55930215, -1.34368   ,\n",
       "         0.468684  , -1.1624436 ,  0.28744757,  0.10621118,  0.468684  ,\n",
       "        -0.43749803,  1.1936296 , -0.43749803, -0.43749803, -0.5281162 ,\n",
       "        -0.25626162,  1.1936296 ,  0.7405386 , -0.7999708 ,  1.1936296 ,\n",
       "         0.468684  ,  0.01559298,  1.374866  , -0.16564342,  0.3780658 ,\n",
       "        -0.98120725, -0.3468798 , -0.25626162, -0.07502522,  0.3780658 ,\n",
       "        -0.16564342,  0.01559298, -0.98120725, -0.890589  , -0.25626162,\n",
       "        -0.43749803,  0.7405386 ,  0.921775  , -0.7999708 , -0.98120725,\n",
       "        -0.43749803,  0.01559298, -0.98120725,  0.921775  ,  0.3780658 ,\n",
       "        -2.5217166 , -0.16564342,  0.468684  ,  1.7373388 , -0.07502522,\n",
       "         0.55930215, -0.7999708 ,  0.01559298,  0.7405386 , -0.5281162 ,\n",
       "        -0.3468798 , -0.890589  ,  0.01559298,  0.8311568 , -0.43749803,\n",
       "        -0.6187344 , -0.25626162, -1.5249164 ,  0.10621118,  1.2842478 ,\n",
       "        -0.43749803, -1.8873892 ,  1.6467205 , -1.4342983 ,  1.5561024 ,\n",
       "         0.8311568 ,  0.19682938, -0.6187344 ,  0.19682938,  1.2842478 ,\n",
       "         1.1936296 , -0.890589  , -1.1624436 , -1.9780074 ,  1.2842478 ,\n",
       "        -0.25626162,  0.28744757, -0.6187344 ,  0.28744757,  0.6499204 ,\n",
       "         1.0123932 , -0.7999708 ,  0.55930215,  0.01559298,  0.3780658 ,\n",
       "         0.19682938,  0.6499204 , -1.8873892 , -0.43749803, -0.07502522,\n",
       "        -2.249862  ,  0.468684  , -0.3468798 ,  0.19682938, -0.25626162,\n",
       "        -1.1624436 ,  0.28744757,  0.10621118, -0.16564342, -0.16564342,\n",
       "         0.6499204 ,  2.0091934 ,  0.10621118,  0.468684  ,  1.374866  ,\n",
       "         0.468684  ,  0.7405386 , -2.3404803 , -1.5249164 ,  1.827957  ,\n",
       "        -1.0718254 , -0.98120725, -0.7999708 , -0.6187344 , -2.1592438 ,\n",
       "         0.3780658 ,  0.19682938, -0.3468798 , -1.0718254 ,  0.7405386 ,\n",
       "        -1.6155347 , -0.25626162,  0.3780658 , -0.07502522,  2.6435208 ,\n",
       "        -0.7093526 ,  0.8311568 ,  0.468684  , -1.0718254 , -0.43749803,\n",
       "         0.55930215, -0.16564342,  1.0123932 ,  0.7405386 ,  0.7405386 ,\n",
       "        -1.4342983 , -0.6187344 ,  1.2842478 , -2.9748077 ,  0.8311568 ,\n",
       "        -1.8873892 , -1.796771  ,  0.921775  , -0.3468798 ,  0.8311568 ,\n",
       "        -0.5281162 ,  0.01559298, -0.16564342, -1.1624436 ,  0.01559298,\n",
       "         0.8311568 ,  1.4654841 , -0.07502522,  0.468684  , -0.43749803,\n",
       "        -0.7093526 , -0.07502522,  0.01559298, -0.07502522,  1.2842478 ,\n",
       "         1.5561024 ,  0.10621118, -0.43749803, -1.34368   ,  1.827957  ,\n",
       "         1.1936296 ,  0.6499204 , -0.43749803,  0.3780658 , -4.787172  ,\n",
       "         0.8311568 ,  0.10621118, -0.5281162 ,  0.55930215, -0.16564342,\n",
       "         0.6499204 , -0.43749803, -0.5281162 , -0.7999708 ,  0.19682938,\n",
       "         0.6499204 ,  1.1936296 , -0.25626162, -0.43749803, -1.1624436 ,\n",
       "         0.28744757,  0.55930215, -0.7093526 , -0.3468798 ,  0.6499204 ,\n",
       "        -0.43749803,  0.10621118,  0.28744757,  0.921775  ,  2.0091934 ,\n",
       "        -0.3468798 ,  1.2842478 ,  1.9185752 , -0.43749803,  0.921775  ,\n",
       "        -1.4342983 ,  0.28744757, -0.6187344 ,  1.7373388 , -0.7999708 ,\n",
       "        -2.0686257 , -1.1624436 ,  1.2842478 , -0.3468798 , -0.3468798 ,\n",
       "         0.55930215, -0.7093526 , -0.25626162, -0.6187344 ,  1.0123932 ,\n",
       "         0.921775  ,  0.55930215,  0.921775  ,  0.8311568 ,  0.6499204 ,\n",
       "        -0.6187344 , -0.07502522,  0.01559298, -0.5281162 ,  0.3780658 ,\n",
       "         0.8311568 ,  1.2842478 , -2.4310985 , -0.3468798 ,  0.6499204 ,\n",
       "        -0.890589  ,  1.1030114 ,  1.374866  ,  0.8311568 , -1.8873892 ,\n",
       "         0.28744757,  1.827957  , -0.7999708 ,  1.4654841 , -1.34368   ,\n",
       "         0.6499204 , -0.890589  , -0.3468798 ,  0.7405386 ,  0.921775  ,\n",
       "         1.2842478 , -0.16564342, -0.7999708 ,  0.01559298, -0.16564342,\n",
       "        -0.25626162,  1.0123932 ,  1.5561024 , -0.07502522,  0.19682938,\n",
       "         0.10621118,  0.01559298,  1.4654841 , -0.16564342,  0.19682938,\n",
       "        -1.6155347 ,  1.2842478 ,  1.0123932 ,  0.19682938,  0.01559298,\n",
       "         0.8311568 ,  0.01559298,  0.6499204 , -0.07502522,  0.3780658 ,\n",
       "        -0.7999708 , -0.6187344 , -0.07502522,  1.5561024 ,  0.28744757,\n",
       "        -0.6187344 ,  0.10621118,  0.28744757,  0.468684  ,  0.10621118,\n",
       "         0.01559298,  0.55930215,  0.28744757,  1.0123932 ,  0.01559298,\n",
       "         0.921775  ,  0.01559298, -0.7999708 , -0.890589  , -0.3468798 ,\n",
       "        -0.43749803, -0.3468798 , -0.3468798 , -0.6187344 , -0.6187344 ,\n",
       "        -2.3404803 ,  0.10621118,  1.6467205 ,  1.2842478 , -0.5281162 ,\n",
       "         0.28744757,  0.19682938, -0.07502522,  0.921775  ,  1.6467205 ,\n",
       "        -0.890589  ,  0.01559298,  0.28744757,  0.55930215, -0.890589  ,\n",
       "        -0.5281162 ,  1.374866  ,  0.468684  ,  0.55930215,  0.19682938,\n",
       "         0.19682938,  0.01559298,  0.8311568 ,  1.1936296 ,  0.55930215,\n",
       "        -0.3468798 , -1.34368   ,  1.1030114 ,  0.7405386 ,  1.2842478 ,\n",
       "         0.921775  ,  0.921775  , -1.2530618 , -0.5281162 , -0.98120725,\n",
       "         0.7405386 , -1.34368   , -1.5249164 , -1.34368   , -1.4342983 ,\n",
       "        -0.16564342, -1.4342983 , -0.98120725, -0.16564342,  0.01559298,\n",
       "         1.1030114 ,  1.0123932 ,  0.921775  ,  0.01559298,  0.6499204 ,\n",
       "        -0.43749803,  0.7405386 ,  0.55930215, -0.6187344 , -0.98120725,\n",
       "        -0.25626162,  0.468684  , -0.25626162, -0.07502522,  0.55930215,\n",
       "        -1.34368   , -0.6187344 , -0.6187344 ,  0.10621118, -0.890589  ,\n",
       "        -0.3468798 , -0.7093526 ,  0.10621118,  1.2842478 , -1.4342983 ,\n",
       "        -1.2530618 ,  1.7373388 ,  1.6467205 ,  1.2842478 , -0.890589  ,\n",
       "         1.1030114 , -0.07502522, -0.98120725, -2.1592438 ,  1.1030114 ,\n",
       "        -0.43749803, -0.5281162 , -0.25626162, -0.16564342, -0.25626162,\n",
       "         1.1936296 , -0.7999708 ,  0.01559298,  0.921775  , -0.07502522,\n",
       "        -0.5281162 , -1.7061528 , -0.5281162 ,  1.1936296 , -0.25626162,\n",
       "         1.0123932 , -0.07502522, -1.9780074 ,  0.01559298, -1.5249164 ,\n",
       "        -0.5281162 ,  0.468684  , -0.5281162 , -0.07502522, -0.3468798 ,\n",
       "        -1.2530618 , -0.43749803,  0.01559298,  0.28744757]],\n",
       "      dtype=float32)>"
      ]
     },
     "execution_count": 10,
     "metadata": {},
     "output_type": "execute_result"
    }
   ],
   "source": [
    "Average_Mark = student_data['High School Average Mark']\n",
    "layer = get_normalization_layer('High School Average Mark', train_ds)\n",
    "layer(Average_Mark)"
   ]
  },
  {
   "cell_type": "code",
   "execution_count": 11,
   "id": "4f39b287",
   "metadata": {},
   "outputs": [
    {
     "data": {
      "text/plain": [
       "['First Term Gpa',\n",
       " 'Second Term Gpa',\n",
       " 'First Language',\n",
       " ' Funding',\n",
       " 'School',\n",
       " 'FastTrack',\n",
       " 'Coop',\n",
       " ' Residency',\n",
       " ' Gender',\n",
       " ' Previous Education',\n",
       " 'Age Group',\n",
       " 'High School Average Mark',\n",
       " 'Math Score',\n",
       " 'English Grade']"
      ]
     },
     "execution_count": 11,
     "metadata": {},
     "output_type": "execute_result"
    }
   ],
   "source": [
    "list(student_data)[:-1]"
   ]
  },
  {
   "cell_type": "markdown",
   "id": "3d406ef0",
   "metadata": {},
   "source": [
    "# Apply normalization on all features except target"
   ]
  },
  {
   "cell_type": "code",
   "execution_count": 12,
   "id": "de13425b",
   "metadata": {},
   "outputs": [
    {
     "data": {
      "application/vnd.jupyter.widget-view+json": {
       "model_id": "74c97c7d0e5848c2bb9da9de377f93ff",
       "version_major": 2,
       "version_minor": 0
      },
      "text/plain": [
       "  0%|          | 0/14 [00:00<?, ?it/s]"
      ]
     },
     "metadata": {},
     "output_type": "display_data"
    }
   ],
   "source": [
    "from tqdm.notebook import tqdm\n",
    "all_inputs = []\n",
    "encoded_features = []\n",
    "\n",
    "# Numerical features.\n",
    "for header in tqdm(list(student_data)[:-1]):\n",
    "    numeric_col = tf.keras.Input(shape=(1,), name=header)\n",
    "    normalization_layer = get_normalization_layer(header, train_ds)\n",
    "    encoded_numeric_col = normalization_layer(numeric_col)\n",
    "    all_inputs.append(numeric_col)\n",
    "    encoded_features.append(encoded_numeric_col)"
   ]
  },
  {
   "cell_type": "markdown",
   "id": "809607e4",
   "metadata": {},
   "source": [
    "# There is no feature with type as string, therefore Converting categorical features to numerical is not needed"
   ]
  },
  {
   "cell_type": "code",
   "execution_count": 13,
   "id": "735e1eb6",
   "metadata": {},
   "outputs": [
    {
     "data": {
      "text/plain": [
       "First Term Gpa              float64\n",
       "Second Term Gpa             float64\n",
       "First Language              float64\n",
       " Funding                    float64\n",
       "School                      float64\n",
       "FastTrack                   float64\n",
       "Coop                        float64\n",
       " Residency                  float64\n",
       " Gender                     float64\n",
       " Previous Education         float64\n",
       "Age Group                   float64\n",
       "High School Average Mark    float64\n",
       "Math Score                  float64\n",
       "English Grade               float64\n",
       "target                      float64\n",
       "dtype: object"
      ]
     },
     "execution_count": 13,
     "metadata": {},
     "output_type": "execute_result"
    }
   ],
   "source": [
    "student_data.dtypes"
   ]
  },
  {
   "cell_type": "code",
   "execution_count": 14,
   "id": "a30eedcd",
   "metadata": {},
   "outputs": [],
   "source": [
    "all_features = tf.keras.layers.concatenate(encoded_features)"
   ]
  },
  {
   "cell_type": "code",
   "execution_count": 15,
   "id": "7d38f1b8",
   "metadata": {},
   "outputs": [
    {
     "data": {
      "text/plain": [
       "<KerasTensor: shape=(None, 14) dtype=float32 (created by layer 'concatenate')>"
      ]
     },
     "execution_count": 15,
     "metadata": {},
     "output_type": "execute_result"
    }
   ],
   "source": [
    "all_features # encoded features"
   ]
  },
  {
   "cell_type": "code",
   "execution_count": 16,
   "id": "96fb36b7",
   "metadata": {},
   "outputs": [],
   "source": [
    "# https://www.tensorflow.org/tutorials/structured_data/preprocessing_layers"
   ]
  },
  {
   "cell_type": "code",
   "execution_count": 18,
   "id": "8a8d2943",
   "metadata": {},
   "outputs": [
    {
     "name": "stdout",
     "output_type": "stream",
     "text": [
      "Python 3.9.12\n"
     ]
    }
   ],
   "source": [
    "!python -V"
   ]
  },
  {
   "cell_type": "code",
   "execution_count": 19,
   "id": "8f033f8f",
   "metadata": {},
   "outputs": [
    {
     "name": "stdout",
     "output_type": "stream",
     "text": [
      "pip 21.2.4 from C:\\Users\\avitr\\anaconda3\\lib\\site-packages\\pip (python 3.9)\n",
      "\n"
     ]
    }
   ],
   "source": [
    "!pip --version"
   ]
  },
  {
   "cell_type": "code",
   "execution_count": null,
   "id": "76b317ba",
   "metadata": {},
   "outputs": [],
   "source": []
  }
 ],
 "metadata": {
  "kernelspec": {
   "display_name": "Python 3 (ipykernel)",
   "language": "python",
   "name": "python3"
  },
  "language_info": {
   "codemirror_mode": {
    "name": "ipython",
    "version": 3
   },
   "file_extension": ".py",
   "mimetype": "text/x-python",
   "name": "python",
   "nbconvert_exporter": "python",
   "pygments_lexer": "ipython3",
   "version": "3.9.12"
  }
 },
 "nbformat": 4,
 "nbformat_minor": 5
}
