{
 "cells": [
  {
   "cell_type": "code",
   "execution_count": 1,
   "id": "2cecf9c8",
   "metadata": {},
   "outputs": [],
   "source": [
    "from flask import Flask, jsonify, render_template, request\n",
    "from flask_cors import CORS, cross_origin\n",
    "import pandas as pd\n",
    "from ast import literal_eval\n",
    "import numpy as np\n",
    "from tqdm.notebook import tqdm\n",
    "from collections import Counter\n",
    "from sklearn.feature_extraction.text import CountVectorizer\n",
    "from sklearn.metrics.pairwise import cosine_similarity\n",
    "import boto3\n",
    "from botocore.config import Config\n",
    "import seaborn as sns"
   ]
  },
  {
   "cell_type": "code",
   "execution_count": 2,
   "id": "27918cb7",
   "metadata": {},
   "outputs": [],
   "source": [
    "import pandas as pd\n",
    "import numpy as np\n",
    "import matplotlib.pyplot as plt\n",
    "import seaborn as sns\n",
    "%matplotlib inline\n",
    "import warnings\n",
    "warnings.filterwarnings(\"ignore\")\n",
    "#Importing the relevant datasets from the mounted Google Drive (change the code below if the data is hosted elsewhere)\n",
    "metadata = pd.read_csv(\"D:\\OneDrive - NITT\\Custom_Download\\movies_metadata.csv\")\n",
    "credits = pd.read_csv(\"D:\\OneDrive - NITT\\Custom_Download\\credits.csv\")"
   ]
  },
  {
   "cell_type": "code",
   "execution_count": 3,
   "id": "ea6523ef",
   "metadata": {},
   "outputs": [
    {
     "data": {
      "text/plain": [
       "['adult',\n",
       " 'belongs_to_collection',\n",
       " 'budget',\n",
       " 'genres',\n",
       " 'homepage',\n",
       " 'id',\n",
       " 'imdb_id',\n",
       " 'original_language',\n",
       " 'original_title',\n",
       " 'overview',\n",
       " 'popularity',\n",
       " 'poster_path',\n",
       " 'production_companies',\n",
       " 'production_countries',\n",
       " 'release_date',\n",
       " 'revenue',\n",
       " 'runtime',\n",
       " 'spoken_languages',\n",
       " 'status',\n",
       " 'tagline',\n",
       " 'title',\n",
       " 'video',\n",
       " 'vote_average',\n",
       " 'vote_count']"
      ]
     },
     "execution_count": 3,
     "metadata": {},
     "output_type": "execute_result"
    }
   ],
   "source": [
    "list(metadata)"
   ]
  },
  {
   "cell_type": "code",
   "execution_count": 4,
   "id": "91021b11",
   "metadata": {},
   "outputs": [],
   "source": [
    "row = []\n",
    "for i,j in enumerate(metadata['id']):\n",
    "    try:\n",
    "        c = int(j)\n",
    "    except:\n",
    "        row.append(i)"
   ]
  },
  {
   "cell_type": "code",
   "execution_count": 5,
   "id": "59cdaaf4",
   "metadata": {},
   "outputs": [],
   "source": [
    "metadata.drop(row,inplace=True)\n",
    "metadata.reset_index(drop=True,inplace=True)"
   ]
  },
  {
   "cell_type": "code",
   "execution_count": 6,
   "id": "00d5afd6",
   "metadata": {},
   "outputs": [],
   "source": [
    "credits['id'] = credits['id'].astype('int')\n",
    "metadata['id'] = metadata['id'].astype('int')"
   ]
  },
  {
   "cell_type": "code",
   "execution_count": 7,
   "id": "73e05cf7",
   "metadata": {},
   "outputs": [],
   "source": [
    "metadata = metadata.merge(credits, on='id')"
   ]
  },
  {
   "cell_type": "code",
   "execution_count": 8,
   "id": "f980913b",
   "metadata": {},
   "outputs": [
    {
     "data": {
      "text/html": [
       "<div>\n",
       "<style scoped>\n",
       "    .dataframe tbody tr th:only-of-type {\n",
       "        vertical-align: middle;\n",
       "    }\n",
       "\n",
       "    .dataframe tbody tr th {\n",
       "        vertical-align: top;\n",
       "    }\n",
       "\n",
       "    .dataframe thead th {\n",
       "        text-align: right;\n",
       "    }\n",
       "</style>\n",
       "<table border=\"1\" class=\"dataframe\">\n",
       "  <thead>\n",
       "    <tr style=\"text-align: right;\">\n",
       "      <th></th>\n",
       "      <th>title</th>\n",
       "      <th>cast</th>\n",
       "      <th>crew</th>\n",
       "      <th>genres</th>\n",
       "    </tr>\n",
       "  </thead>\n",
       "  <tbody>\n",
       "    <tr>\n",
       "      <th>0</th>\n",
       "      <td>Toy Story</td>\n",
       "      <td>[{'cast_id': 14, 'character': 'Woody (voice)',...</td>\n",
       "      <td>[{'credit_id': '52fe4284c3a36847f8024f49', 'de...</td>\n",
       "      <td>[{'id': 16, 'name': 'Animation'}, {'id': 35, '...</td>\n",
       "    </tr>\n",
       "    <tr>\n",
       "      <th>1</th>\n",
       "      <td>Jumanji</td>\n",
       "      <td>[{'cast_id': 1, 'character': 'Alan Parrish', '...</td>\n",
       "      <td>[{'credit_id': '52fe44bfc3a36847f80a7cd1', 'de...</td>\n",
       "      <td>[{'id': 12, 'name': 'Adventure'}, {'id': 14, '...</td>\n",
       "    </tr>\n",
       "    <tr>\n",
       "      <th>2</th>\n",
       "      <td>Grumpier Old Men</td>\n",
       "      <td>[{'cast_id': 2, 'character': 'Max Goldman', 'c...</td>\n",
       "      <td>[{'credit_id': '52fe466a9251416c75077a89', 'de...</td>\n",
       "      <td>[{'id': 10749, 'name': 'Romance'}, {'id': 35, ...</td>\n",
       "    </tr>\n",
       "    <tr>\n",
       "      <th>3</th>\n",
       "      <td>Waiting to Exhale</td>\n",
       "      <td>[{'cast_id': 1, 'character': \"Savannah 'Vannah...</td>\n",
       "      <td>[{'credit_id': '52fe44779251416c91011acb', 'de...</td>\n",
       "      <td>[{'id': 35, 'name': 'Comedy'}, {'id': 18, 'nam...</td>\n",
       "    </tr>\n",
       "    <tr>\n",
       "      <th>4</th>\n",
       "      <td>Father of the Bride Part II</td>\n",
       "      <td>[{'cast_id': 1, 'character': 'George Banks', '...</td>\n",
       "      <td>[{'credit_id': '52fe44959251416c75039ed7', 'de...</td>\n",
       "      <td>[{'id': 35, 'name': 'Comedy'}]</td>\n",
       "    </tr>\n",
       "  </tbody>\n",
       "</table>\n",
       "</div>"
      ],
      "text/plain": [
       "                         title  \\\n",
       "0                    Toy Story   \n",
       "1                      Jumanji   \n",
       "2             Grumpier Old Men   \n",
       "3            Waiting to Exhale   \n",
       "4  Father of the Bride Part II   \n",
       "\n",
       "                                                cast  \\\n",
       "0  [{'cast_id': 14, 'character': 'Woody (voice)',...   \n",
       "1  [{'cast_id': 1, 'character': 'Alan Parrish', '...   \n",
       "2  [{'cast_id': 2, 'character': 'Max Goldman', 'c...   \n",
       "3  [{'cast_id': 1, 'character': \"Savannah 'Vannah...   \n",
       "4  [{'cast_id': 1, 'character': 'George Banks', '...   \n",
       "\n",
       "                                                crew  \\\n",
       "0  [{'credit_id': '52fe4284c3a36847f8024f49', 'de...   \n",
       "1  [{'credit_id': '52fe44bfc3a36847f80a7cd1', 'de...   \n",
       "2  [{'credit_id': '52fe466a9251416c75077a89', 'de...   \n",
       "3  [{'credit_id': '52fe44779251416c91011acb', 'de...   \n",
       "4  [{'credit_id': '52fe44959251416c75039ed7', 'de...   \n",
       "\n",
       "                                              genres  \n",
       "0  [{'id': 16, 'name': 'Animation'}, {'id': 35, '...  \n",
       "1  [{'id': 12, 'name': 'Adventure'}, {'id': 14, '...  \n",
       "2  [{'id': 10749, 'name': 'Romance'}, {'id': 35, ...  \n",
       "3  [{'id': 35, 'name': 'Comedy'}, {'id': 18, 'nam...  \n",
       "4                     [{'id': 35, 'name': 'Comedy'}]  "
      ]
     },
     "execution_count": 8,
     "metadata": {},
     "output_type": "execute_result"
    }
   ],
   "source": [
    "#Print the important features of metadata\n",
    "metadata[['title', 'cast', 'crew', 'genres']].head()"
   ]
  },
  {
   "cell_type": "code",
   "execution_count": 9,
   "id": "48690bb9",
   "metadata": {},
   "outputs": [
    {
     "data": {
      "text/html": [
       "<div>\n",
       "<style scoped>\n",
       "    .dataframe tbody tr th:only-of-type {\n",
       "        vertical-align: middle;\n",
       "    }\n",
       "\n",
       "    .dataframe tbody tr th {\n",
       "        vertical-align: top;\n",
       "    }\n",
       "\n",
       "    .dataframe thead th {\n",
       "        text-align: right;\n",
       "    }\n",
       "</style>\n",
       "<table border=\"1\" class=\"dataframe\">\n",
       "  <thead>\n",
       "    <tr style=\"text-align: right;\">\n",
       "      <th></th>\n",
       "      <th>adult</th>\n",
       "      <th>belongs_to_collection</th>\n",
       "      <th>budget</th>\n",
       "      <th>genres</th>\n",
       "      <th>homepage</th>\n",
       "      <th>id</th>\n",
       "      <th>imdb_id</th>\n",
       "      <th>original_language</th>\n",
       "      <th>original_title</th>\n",
       "      <th>overview</th>\n",
       "      <th>...</th>\n",
       "      <th>runtime</th>\n",
       "      <th>spoken_languages</th>\n",
       "      <th>status</th>\n",
       "      <th>tagline</th>\n",
       "      <th>title</th>\n",
       "      <th>video</th>\n",
       "      <th>vote_average</th>\n",
       "      <th>vote_count</th>\n",
       "      <th>cast</th>\n",
       "      <th>crew</th>\n",
       "    </tr>\n",
       "  </thead>\n",
       "  <tbody>\n",
       "    <tr>\n",
       "      <th>0</th>\n",
       "      <td>False</td>\n",
       "      <td>{'id': 10194, 'name': 'Toy Story Collection', ...</td>\n",
       "      <td>30000000</td>\n",
       "      <td>[{'id': 16, 'name': 'Animation'}, {'id': 35, '...</td>\n",
       "      <td>http://toystory.disney.com/toy-story</td>\n",
       "      <td>862</td>\n",
       "      <td>tt0114709</td>\n",
       "      <td>en</td>\n",
       "      <td>Toy Story</td>\n",
       "      <td>Led by Woody, Andy's toys live happily in his ...</td>\n",
       "      <td>...</td>\n",
       "      <td>81.0</td>\n",
       "      <td>[{'iso_639_1': 'en', 'name': 'English'}]</td>\n",
       "      <td>Released</td>\n",
       "      <td>NaN</td>\n",
       "      <td>Toy Story</td>\n",
       "      <td>False</td>\n",
       "      <td>7.7</td>\n",
       "      <td>5415.0</td>\n",
       "      <td>[{'cast_id': 14, 'character': 'Woody (voice)',...</td>\n",
       "      <td>[{'credit_id': '52fe4284c3a36847f8024f49', 'de...</td>\n",
       "    </tr>\n",
       "    <tr>\n",
       "      <th>1</th>\n",
       "      <td>False</td>\n",
       "      <td>NaN</td>\n",
       "      <td>65000000</td>\n",
       "      <td>[{'id': 12, 'name': 'Adventure'}, {'id': 14, '...</td>\n",
       "      <td>NaN</td>\n",
       "      <td>8844</td>\n",
       "      <td>tt0113497</td>\n",
       "      <td>en</td>\n",
       "      <td>Jumanji</td>\n",
       "      <td>When siblings Judy and Peter discover an encha...</td>\n",
       "      <td>...</td>\n",
       "      <td>104.0</td>\n",
       "      <td>[{'iso_639_1': 'en', 'name': 'English'}, {'iso...</td>\n",
       "      <td>Released</td>\n",
       "      <td>Roll the dice and unleash the excitement!</td>\n",
       "      <td>Jumanji</td>\n",
       "      <td>False</td>\n",
       "      <td>6.9</td>\n",
       "      <td>2413.0</td>\n",
       "      <td>[{'cast_id': 1, 'character': 'Alan Parrish', '...</td>\n",
       "      <td>[{'credit_id': '52fe44bfc3a36847f80a7cd1', 'de...</td>\n",
       "    </tr>\n",
       "    <tr>\n",
       "      <th>2</th>\n",
       "      <td>False</td>\n",
       "      <td>{'id': 119050, 'name': 'Grumpy Old Men Collect...</td>\n",
       "      <td>0</td>\n",
       "      <td>[{'id': 10749, 'name': 'Romance'}, {'id': 35, ...</td>\n",
       "      <td>NaN</td>\n",
       "      <td>15602</td>\n",
       "      <td>tt0113228</td>\n",
       "      <td>en</td>\n",
       "      <td>Grumpier Old Men</td>\n",
       "      <td>A family wedding reignites the ancient feud be...</td>\n",
       "      <td>...</td>\n",
       "      <td>101.0</td>\n",
       "      <td>[{'iso_639_1': 'en', 'name': 'English'}]</td>\n",
       "      <td>Released</td>\n",
       "      <td>Still Yelling. Still Fighting. Still Ready for...</td>\n",
       "      <td>Grumpier Old Men</td>\n",
       "      <td>False</td>\n",
       "      <td>6.5</td>\n",
       "      <td>92.0</td>\n",
       "      <td>[{'cast_id': 2, 'character': 'Max Goldman', 'c...</td>\n",
       "      <td>[{'credit_id': '52fe466a9251416c75077a89', 'de...</td>\n",
       "    </tr>\n",
       "    <tr>\n",
       "      <th>3</th>\n",
       "      <td>False</td>\n",
       "      <td>NaN</td>\n",
       "      <td>16000000</td>\n",
       "      <td>[{'id': 35, 'name': 'Comedy'}, {'id': 18, 'nam...</td>\n",
       "      <td>NaN</td>\n",
       "      <td>31357</td>\n",
       "      <td>tt0114885</td>\n",
       "      <td>en</td>\n",
       "      <td>Waiting to Exhale</td>\n",
       "      <td>Cheated on, mistreated and stepped on, the wom...</td>\n",
       "      <td>...</td>\n",
       "      <td>127.0</td>\n",
       "      <td>[{'iso_639_1': 'en', 'name': 'English'}]</td>\n",
       "      <td>Released</td>\n",
       "      <td>Friends are the people who let you be yourself...</td>\n",
       "      <td>Waiting to Exhale</td>\n",
       "      <td>False</td>\n",
       "      <td>6.1</td>\n",
       "      <td>34.0</td>\n",
       "      <td>[{'cast_id': 1, 'character': \"Savannah 'Vannah...</td>\n",
       "      <td>[{'credit_id': '52fe44779251416c91011acb', 'de...</td>\n",
       "    </tr>\n",
       "    <tr>\n",
       "      <th>4</th>\n",
       "      <td>False</td>\n",
       "      <td>{'id': 96871, 'name': 'Father of the Bride Col...</td>\n",
       "      <td>0</td>\n",
       "      <td>[{'id': 35, 'name': 'Comedy'}]</td>\n",
       "      <td>NaN</td>\n",
       "      <td>11862</td>\n",
       "      <td>tt0113041</td>\n",
       "      <td>en</td>\n",
       "      <td>Father of the Bride Part II</td>\n",
       "      <td>Just when George Banks has recovered from his ...</td>\n",
       "      <td>...</td>\n",
       "      <td>106.0</td>\n",
       "      <td>[{'iso_639_1': 'en', 'name': 'English'}]</td>\n",
       "      <td>Released</td>\n",
       "      <td>Just When His World Is Back To Normal... He's ...</td>\n",
       "      <td>Father of the Bride Part II</td>\n",
       "      <td>False</td>\n",
       "      <td>5.7</td>\n",
       "      <td>173.0</td>\n",
       "      <td>[{'cast_id': 1, 'character': 'George Banks', '...</td>\n",
       "      <td>[{'credit_id': '52fe44959251416c75039ed7', 'de...</td>\n",
       "    </tr>\n",
       "    <tr>\n",
       "      <th>...</th>\n",
       "      <td>...</td>\n",
       "      <td>...</td>\n",
       "      <td>...</td>\n",
       "      <td>...</td>\n",
       "      <td>...</td>\n",
       "      <td>...</td>\n",
       "      <td>...</td>\n",
       "      <td>...</td>\n",
       "      <td>...</td>\n",
       "      <td>...</td>\n",
       "      <td>...</td>\n",
       "      <td>...</td>\n",
       "      <td>...</td>\n",
       "      <td>...</td>\n",
       "      <td>...</td>\n",
       "      <td>...</td>\n",
       "      <td>...</td>\n",
       "      <td>...</td>\n",
       "      <td>...</td>\n",
       "      <td>...</td>\n",
       "      <td>...</td>\n",
       "    </tr>\n",
       "    <tr>\n",
       "      <th>45533</th>\n",
       "      <td>False</td>\n",
       "      <td>NaN</td>\n",
       "      <td>0</td>\n",
       "      <td>[{'id': 18, 'name': 'Drama'}, {'id': 10751, 'n...</td>\n",
       "      <td>http://www.imdb.com/title/tt6209470/</td>\n",
       "      <td>439050</td>\n",
       "      <td>tt6209470</td>\n",
       "      <td>fa</td>\n",
       "      <td>رگ خواب</td>\n",
       "      <td>Rising and falling between a man and woman.</td>\n",
       "      <td>...</td>\n",
       "      <td>90.0</td>\n",
       "      <td>[{'iso_639_1': 'fa', 'name': 'فارسی'}]</td>\n",
       "      <td>Released</td>\n",
       "      <td>Rising and falling between a man and woman</td>\n",
       "      <td>Subdue</td>\n",
       "      <td>False</td>\n",
       "      <td>4.0</td>\n",
       "      <td>1.0</td>\n",
       "      <td>[{'cast_id': 0, 'character': '', 'credit_id': ...</td>\n",
       "      <td>[{'credit_id': '5894a97d925141426c00818c', 'de...</td>\n",
       "    </tr>\n",
       "    <tr>\n",
       "      <th>45534</th>\n",
       "      <td>False</td>\n",
       "      <td>NaN</td>\n",
       "      <td>0</td>\n",
       "      <td>[{'id': 18, 'name': 'Drama'}]</td>\n",
       "      <td>NaN</td>\n",
       "      <td>111109</td>\n",
       "      <td>tt2028550</td>\n",
       "      <td>tl</td>\n",
       "      <td>Siglo ng Pagluluwal</td>\n",
       "      <td>An artist struggles to finish his work while a...</td>\n",
       "      <td>...</td>\n",
       "      <td>360.0</td>\n",
       "      <td>[{'iso_639_1': 'tl', 'name': ''}]</td>\n",
       "      <td>Released</td>\n",
       "      <td>NaN</td>\n",
       "      <td>Century of Birthing</td>\n",
       "      <td>False</td>\n",
       "      <td>9.0</td>\n",
       "      <td>3.0</td>\n",
       "      <td>[{'cast_id': 1002, 'character': 'Sister Angela...</td>\n",
       "      <td>[{'credit_id': '52fe4af1c3a36847f81e9b15', 'de...</td>\n",
       "    </tr>\n",
       "    <tr>\n",
       "      <th>45535</th>\n",
       "      <td>False</td>\n",
       "      <td>NaN</td>\n",
       "      <td>0</td>\n",
       "      <td>[{'id': 28, 'name': 'Action'}, {'id': 18, 'nam...</td>\n",
       "      <td>NaN</td>\n",
       "      <td>67758</td>\n",
       "      <td>tt0303758</td>\n",
       "      <td>en</td>\n",
       "      <td>Betrayal</td>\n",
       "      <td>When one of her hits goes wrong, a professiona...</td>\n",
       "      <td>...</td>\n",
       "      <td>90.0</td>\n",
       "      <td>[{'iso_639_1': 'en', 'name': 'English'}]</td>\n",
       "      <td>Released</td>\n",
       "      <td>A deadly game of wits.</td>\n",
       "      <td>Betrayal</td>\n",
       "      <td>False</td>\n",
       "      <td>3.8</td>\n",
       "      <td>6.0</td>\n",
       "      <td>[{'cast_id': 6, 'character': 'Emily Shaw', 'cr...</td>\n",
       "      <td>[{'credit_id': '52fe4776c3a368484e0c8387', 'de...</td>\n",
       "    </tr>\n",
       "    <tr>\n",
       "      <th>45536</th>\n",
       "      <td>False</td>\n",
       "      <td>NaN</td>\n",
       "      <td>0</td>\n",
       "      <td>[]</td>\n",
       "      <td>NaN</td>\n",
       "      <td>227506</td>\n",
       "      <td>tt0008536</td>\n",
       "      <td>en</td>\n",
       "      <td>Satana likuyushchiy</td>\n",
       "      <td>In a small town live two brothers, one a minis...</td>\n",
       "      <td>...</td>\n",
       "      <td>87.0</td>\n",
       "      <td>[]</td>\n",
       "      <td>Released</td>\n",
       "      <td>NaN</td>\n",
       "      <td>Satan Triumphant</td>\n",
       "      <td>False</td>\n",
       "      <td>0.0</td>\n",
       "      <td>0.0</td>\n",
       "      <td>[{'cast_id': 2, 'character': '', 'credit_id': ...</td>\n",
       "      <td>[{'credit_id': '533bccebc3a36844cf0011a7', 'de...</td>\n",
       "    </tr>\n",
       "    <tr>\n",
       "      <th>45537</th>\n",
       "      <td>False</td>\n",
       "      <td>NaN</td>\n",
       "      <td>0</td>\n",
       "      <td>[]</td>\n",
       "      <td>NaN</td>\n",
       "      <td>461257</td>\n",
       "      <td>tt6980792</td>\n",
       "      <td>en</td>\n",
       "      <td>Queerama</td>\n",
       "      <td>50 years after decriminalisation of homosexual...</td>\n",
       "      <td>...</td>\n",
       "      <td>75.0</td>\n",
       "      <td>[{'iso_639_1': 'en', 'name': 'English'}]</td>\n",
       "      <td>Released</td>\n",
       "      <td>NaN</td>\n",
       "      <td>Queerama</td>\n",
       "      <td>False</td>\n",
       "      <td>0.0</td>\n",
       "      <td>0.0</td>\n",
       "      <td>[]</td>\n",
       "      <td>[{'credit_id': '593e676c92514105b702e68e', 'de...</td>\n",
       "    </tr>\n",
       "  </tbody>\n",
       "</table>\n",
       "<p>45538 rows × 26 columns</p>\n",
       "</div>"
      ],
      "text/plain": [
       "       adult                              belongs_to_collection    budget  \\\n",
       "0      False  {'id': 10194, 'name': 'Toy Story Collection', ...  30000000   \n",
       "1      False                                                NaN  65000000   \n",
       "2      False  {'id': 119050, 'name': 'Grumpy Old Men Collect...         0   \n",
       "3      False                                                NaN  16000000   \n",
       "4      False  {'id': 96871, 'name': 'Father of the Bride Col...         0   \n",
       "...      ...                                                ...       ...   \n",
       "45533  False                                                NaN         0   \n",
       "45534  False                                                NaN         0   \n",
       "45535  False                                                NaN         0   \n",
       "45536  False                                                NaN         0   \n",
       "45537  False                                                NaN         0   \n",
       "\n",
       "                                                  genres  \\\n",
       "0      [{'id': 16, 'name': 'Animation'}, {'id': 35, '...   \n",
       "1      [{'id': 12, 'name': 'Adventure'}, {'id': 14, '...   \n",
       "2      [{'id': 10749, 'name': 'Romance'}, {'id': 35, ...   \n",
       "3      [{'id': 35, 'name': 'Comedy'}, {'id': 18, 'nam...   \n",
       "4                         [{'id': 35, 'name': 'Comedy'}]   \n",
       "...                                                  ...   \n",
       "45533  [{'id': 18, 'name': 'Drama'}, {'id': 10751, 'n...   \n",
       "45534                      [{'id': 18, 'name': 'Drama'}]   \n",
       "45535  [{'id': 28, 'name': 'Action'}, {'id': 18, 'nam...   \n",
       "45536                                                 []   \n",
       "45537                                                 []   \n",
       "\n",
       "                                   homepage      id    imdb_id  \\\n",
       "0      http://toystory.disney.com/toy-story     862  tt0114709   \n",
       "1                                       NaN    8844  tt0113497   \n",
       "2                                       NaN   15602  tt0113228   \n",
       "3                                       NaN   31357  tt0114885   \n",
       "4                                       NaN   11862  tt0113041   \n",
       "...                                     ...     ...        ...   \n",
       "45533  http://www.imdb.com/title/tt6209470/  439050  tt6209470   \n",
       "45534                                   NaN  111109  tt2028550   \n",
       "45535                                   NaN   67758  tt0303758   \n",
       "45536                                   NaN  227506  tt0008536   \n",
       "45537                                   NaN  461257  tt6980792   \n",
       "\n",
       "      original_language               original_title  \\\n",
       "0                    en                    Toy Story   \n",
       "1                    en                      Jumanji   \n",
       "2                    en             Grumpier Old Men   \n",
       "3                    en            Waiting to Exhale   \n",
       "4                    en  Father of the Bride Part II   \n",
       "...                 ...                          ...   \n",
       "45533                fa                      رگ خواب   \n",
       "45534                tl          Siglo ng Pagluluwal   \n",
       "45535                en                     Betrayal   \n",
       "45536                en          Satana likuyushchiy   \n",
       "45537                en                     Queerama   \n",
       "\n",
       "                                                overview  ... runtime  \\\n",
       "0      Led by Woody, Andy's toys live happily in his ...  ...    81.0   \n",
       "1      When siblings Judy and Peter discover an encha...  ...   104.0   \n",
       "2      A family wedding reignites the ancient feud be...  ...   101.0   \n",
       "3      Cheated on, mistreated and stepped on, the wom...  ...   127.0   \n",
       "4      Just when George Banks has recovered from his ...  ...   106.0   \n",
       "...                                                  ...  ...     ...   \n",
       "45533        Rising and falling between a man and woman.  ...    90.0   \n",
       "45534  An artist struggles to finish his work while a...  ...   360.0   \n",
       "45535  When one of her hits goes wrong, a professiona...  ...    90.0   \n",
       "45536  In a small town live two brothers, one a minis...  ...    87.0   \n",
       "45537  50 years after decriminalisation of homosexual...  ...    75.0   \n",
       "\n",
       "                                        spoken_languages    status  \\\n",
       "0               [{'iso_639_1': 'en', 'name': 'English'}]  Released   \n",
       "1      [{'iso_639_1': 'en', 'name': 'English'}, {'iso...  Released   \n",
       "2               [{'iso_639_1': 'en', 'name': 'English'}]  Released   \n",
       "3               [{'iso_639_1': 'en', 'name': 'English'}]  Released   \n",
       "4               [{'iso_639_1': 'en', 'name': 'English'}]  Released   \n",
       "...                                                  ...       ...   \n",
       "45533             [{'iso_639_1': 'fa', 'name': 'فارسی'}]  Released   \n",
       "45534                  [{'iso_639_1': 'tl', 'name': ''}]  Released   \n",
       "45535           [{'iso_639_1': 'en', 'name': 'English'}]  Released   \n",
       "45536                                                 []  Released   \n",
       "45537           [{'iso_639_1': 'en', 'name': 'English'}]  Released   \n",
       "\n",
       "                                                 tagline  \\\n",
       "0                                                    NaN   \n",
       "1              Roll the dice and unleash the excitement!   \n",
       "2      Still Yelling. Still Fighting. Still Ready for...   \n",
       "3      Friends are the people who let you be yourself...   \n",
       "4      Just When His World Is Back To Normal... He's ...   \n",
       "...                                                  ...   \n",
       "45533         Rising and falling between a man and woman   \n",
       "45534                                                NaN   \n",
       "45535                             A deadly game of wits.   \n",
       "45536                                                NaN   \n",
       "45537                                                NaN   \n",
       "\n",
       "                             title  video  vote_average vote_count  \\\n",
       "0                        Toy Story  False           7.7     5415.0   \n",
       "1                          Jumanji  False           6.9     2413.0   \n",
       "2                 Grumpier Old Men  False           6.5       92.0   \n",
       "3                Waiting to Exhale  False           6.1       34.0   \n",
       "4      Father of the Bride Part II  False           5.7      173.0   \n",
       "...                            ...    ...           ...        ...   \n",
       "45533                       Subdue  False           4.0        1.0   \n",
       "45534          Century of Birthing  False           9.0        3.0   \n",
       "45535                     Betrayal  False           3.8        6.0   \n",
       "45536             Satan Triumphant  False           0.0        0.0   \n",
       "45537                     Queerama  False           0.0        0.0   \n",
       "\n",
       "                                                    cast  \\\n",
       "0      [{'cast_id': 14, 'character': 'Woody (voice)',...   \n",
       "1      [{'cast_id': 1, 'character': 'Alan Parrish', '...   \n",
       "2      [{'cast_id': 2, 'character': 'Max Goldman', 'c...   \n",
       "3      [{'cast_id': 1, 'character': \"Savannah 'Vannah...   \n",
       "4      [{'cast_id': 1, 'character': 'George Banks', '...   \n",
       "...                                                  ...   \n",
       "45533  [{'cast_id': 0, 'character': '', 'credit_id': ...   \n",
       "45534  [{'cast_id': 1002, 'character': 'Sister Angela...   \n",
       "45535  [{'cast_id': 6, 'character': 'Emily Shaw', 'cr...   \n",
       "45536  [{'cast_id': 2, 'character': '', 'credit_id': ...   \n",
       "45537                                                 []   \n",
       "\n",
       "                                                    crew  \n",
       "0      [{'credit_id': '52fe4284c3a36847f8024f49', 'de...  \n",
       "1      [{'credit_id': '52fe44bfc3a36847f80a7cd1', 'de...  \n",
       "2      [{'credit_id': '52fe466a9251416c75077a89', 'de...  \n",
       "3      [{'credit_id': '52fe44779251416c91011acb', 'de...  \n",
       "4      [{'credit_id': '52fe44959251416c75039ed7', 'de...  \n",
       "...                                                  ...  \n",
       "45533  [{'credit_id': '5894a97d925141426c00818c', 'de...  \n",
       "45534  [{'credit_id': '52fe4af1c3a36847f81e9b15', 'de...  \n",
       "45535  [{'credit_id': '52fe4776c3a368484e0c8387', 'de...  \n",
       "45536  [{'credit_id': '533bccebc3a36844cf0011a7', 'de...  \n",
       "45537  [{'credit_id': '593e676c92514105b702e68e', 'de...  \n",
       "\n",
       "[45538 rows x 26 columns]"
      ]
     },
     "execution_count": 9,
     "metadata": {},
     "output_type": "execute_result"
    }
   ],
   "source": [
    "metadata"
   ]
  },
  {
   "cell_type": "code",
   "execution_count": 10,
   "id": "a05c1246",
   "metadata": {},
   "outputs": [],
   "source": [
    "#raises an exception if the input isn't a valid Python datatype, so the code won't be executed if it's not.\n",
    "#Parse the stringified features into their corresponding python objects\n",
    "\n",
    "from ast import literal_eval\n",
    "\n",
    "features = ['cast', 'crew', 'genres']\n",
    "for feature in features:\n",
    "    metadata[feature] = metadata[feature].apply(literal_eval)"
   ]
  },
  {
   "cell_type": "code",
   "execution_count": 11,
   "id": "67414ce3",
   "metadata": {},
   "outputs": [],
   "source": [
    "def f(x):\n",
    "    d = []\n",
    "    for i in x:\n",
    "        d.append(i['name'])\n",
    "    return d"
   ]
  },
  {
   "cell_type": "code",
   "execution_count": 12,
   "id": "e79979b2",
   "metadata": {},
   "outputs": [],
   "source": [
    "metadata['genres'] = metadata['genres'].apply(lambda x:f(x))"
   ]
  },
  {
   "cell_type": "code",
   "execution_count": 13,
   "id": "20c7f812",
   "metadata": {},
   "outputs": [],
   "source": [
    "metadata['cast'] = metadata['cast'].apply(lambda x:f(x))"
   ]
  },
  {
   "cell_type": "code",
   "execution_count": 14,
   "id": "fde0f28b",
   "metadata": {
    "scrolled": false
   },
   "outputs": [],
   "source": [
    "#This function makes use of the property of the cosine similarity funciton that\n",
    "#the order and types of inputs don't matter, what matters is the similarity\n",
    "#between different soups of words\n",
    "def create_soup(x):\n",
    "    return ' '.join(x['cast']) + ' ' + ' '.join(x['genres'])\n",
    "\n",
    "metadata['soup'] = metadata.apply(create_soup, axis=1)"
   ]
  },
  {
   "cell_type": "code",
   "execution_count": 73,
   "id": "d92d1e5d",
   "metadata": {},
   "outputs": [],
   "source": [
    "#Getting the user's input for genre, actors and directors of their liking.\n",
    "def get_genres():\n",
    "    genres = input(\"What Movie Genre are you interested in (if multiple, please separate them with a comma)? [Type 'skip' to skip this question] \")\n",
    "    genres = \" \".join([\"\".join(n.split()) for n in genres.lower().split(',')])\n",
    "    return genres\n",
    "\n",
    "def get_actors():\n",
    "    actors = input(\"Who are some actors within the genre that you love (if multiple, please separate them with a comma)? [Type 'skip' to skip this question] \")\n",
    "    actors = \" \".join([\"\".join(n.split()) for n in actors.lower().split(',')])\n",
    "    return actors\n",
    "\n",
    "def get_language():\n",
    "    original_language = input(\"What is the spoken language (type 'en' for English and 'ar' for Arabic [Type 'skip' to skip this question] \")\n",
    "    original_language = \" \".join([\"\".join(n.split()) for n in original_language.lower().split(',')])\n",
    "    return original_language\n",
    "#def get_directors():\n",
    "#directors = input(\"Who are some directors within the genre that you love (if multiple, please separate them with a comma)? [Type 'skip' to skip this question] \")\n",
    " # directors = \" \".join([\"\".join(n.split()) for n in directors.lower().split(',')])\n",
    "# return directors\n",
    "\n",
    "def get_keywords():\n",
    "    keywords = input(\"What are some of the keywords that describe the movie you want to watch, like elements of the plot, whether or not it is about friendship, etc? (if multiple, please separate them with a comma)? [Type 'skip' to skip this question] \")\n",
    "    keywords = \" \".join([\"\".join(n.split()) for n in keywords.lower().split(',')])\n",
    "    return keywords\n",
    "\n",
    "def get_searchTerms():\n",
    "    searchTerms = [] \n",
    "    genres = get_genres()\n",
    "    if genres and genres != 'skip':\n",
    "        searchTerms.append(genres.title())\n",
    "    else:\n",
    "        searchTerms.append(None)\n",
    "\n",
    "    actors = get_actors()\n",
    "    if actors and actors != 'skip':\n",
    "        searchTerms.append(actors.title())\n",
    "    else:\n",
    "        searchTerms.append(None)\n",
    "    \n",
    "    original_language = get_language()\n",
    "    if original_language in ('en','ar'):\n",
    "        searchTerms.append(original_language)\n",
    "    else:\n",
    "        searchTerms.append('en')\n",
    "    \n",
    "    return searchTerms"
   ]
  },
  {
   "cell_type": "code",
   "execution_count": 16,
   "id": "0fe6caf7",
   "metadata": {},
   "outputs": [],
   "source": [
    "metadata = metadata.iloc[0:10000,:] # only using 10k movies"
   ]
  },
  {
   "cell_type": "code",
   "execution_count": 17,
   "id": "17eaefa4",
   "metadata": {},
   "outputs": [],
   "source": [
    "metadata = metadata[['title','genres','original_language','cast','soup','overview','release_date']]"
   ]
  },
  {
   "cell_type": "code",
   "execution_count": 18,
   "id": "17c79af4",
   "metadata": {},
   "outputs": [],
   "source": [
    "metadata.dropna(inplace=True)"
   ]
  },
  {
   "cell_type": "code",
   "execution_count": 19,
   "id": "6da162b0",
   "metadata": {},
   "outputs": [],
   "source": [
    "metadata['Year'] = metadata['release_date'].apply(lambda x:x.split('-')[0])"
   ]
  },
  {
   "cell_type": "code",
   "execution_count": 20,
   "id": "1e6374ba",
   "metadata": {},
   "outputs": [],
   "source": [
    "metadata.drop('release_date',axis=1,inplace=True)"
   ]
  },
  {
   "cell_type": "code",
   "execution_count": 21,
   "id": "d095c508",
   "metadata": {},
   "outputs": [
    {
     "data": {
      "text/plain": [
       "['title', 'genres', 'original_language', 'cast', 'soup', 'overview', 'Year']"
      ]
     },
     "execution_count": 21,
     "metadata": {},
     "output_type": "execute_result"
    }
   ],
   "source": [
    "list(metadata)"
   ]
  },
  {
   "cell_type": "markdown",
   "id": "42264b08",
   "metadata": {},
   "source": [
    "# Arabic Movies Data"
   ]
  },
  {
   "cell_type": "code",
   "execution_count": 22,
   "id": "35824a23",
   "metadata": {
    "scrolled": true
   },
   "outputs": [
    {
     "data": {
      "text/html": [
       "<div>\n",
       "<style scoped>\n",
       "    .dataframe tbody tr th:only-of-type {\n",
       "        vertical-align: middle;\n",
       "    }\n",
       "\n",
       "    .dataframe tbody tr th {\n",
       "        vertical-align: top;\n",
       "    }\n",
       "\n",
       "    .dataframe thead th {\n",
       "        text-align: right;\n",
       "    }\n",
       "</style>\n",
       "<table border=\"1\" class=\"dataframe\">\n",
       "  <thead>\n",
       "    <tr style=\"text-align: right;\">\n",
       "      <th></th>\n",
       "      <th>اسم الفيلم</th>\n",
       "      <th>تاريخ العرض</th>\n",
       "      <th>تصنيف الفيلم</th>\n",
       "      <th>مدة الفيلم (دقيقة)</th>\n",
       "      <th>ملخص</th>\n",
       "      <th>تمثيل</th>\n",
       "    </tr>\n",
       "  </thead>\n",
       "  <tbody>\n",
       "    <tr>\n",
       "      <th>0</th>\n",
       "      <td>قلب المرأة</td>\n",
       "      <td>1940</td>\n",
       "      <td>رومانسي</td>\n",
       "      <td>87</td>\n",
       "      <td>دار حدث فيلم خيري فتاه ثري مخطوب ابناء عموم تف...</td>\n",
       "      <td>سليمان نجيب,أمينة رزق,دولت أبيض,عقيلة راتب,سلو...</td>\n",
       "    </tr>\n",
       "    <tr>\n",
       "      <th>1</th>\n",
       "      <td>الورشة</td>\n",
       "      <td>1940</td>\n",
       "      <td>دراما</td>\n",
       "      <td>105</td>\n",
       "      <td>سافر سطا عبدالرحمن صاحب ورشه ميكانزم زميل رحله...</td>\n",
       "      <td>عزيزة أمير,محمود ذو الفقار,أنور وجدي,نجمة إبرا...</td>\n",
       "    </tr>\n",
       "    <tr>\n",
       "      <th>2</th>\n",
       "      <td>حياة الظلام</td>\n",
       "      <td>1940</td>\n",
       "      <td>دراما</td>\n",
       "      <td>94</td>\n",
       "      <td>عاءله متوسط حال مكون زوج زوج ٱبن حصل ٱبن اجازه...</td>\n",
       "      <td>ميمي شكيب,محسن سرحان,روحية خالد,فردوس محمد,علي...</td>\n",
       "    </tr>\n",
       "    <tr>\n",
       "      <th>3</th>\n",
       "      <td>الباشمقاول</td>\n",
       "      <td>1940</td>\n",
       "      <td>دراما</td>\n",
       "      <td>85</td>\n",
       "      <td>دار حدث فيلم محامي ممتاز هوه مغازله نساء رغم ز...</td>\n",
       "      <td>فوزي الجزايرلي,ميمي شكيب,إحسان الجزايرلي,زوزو ...</td>\n",
       "    </tr>\n",
       "    <tr>\n",
       "      <th>4</th>\n",
       "      <td>يوم سعيد</td>\n",
       "      <td>1940</td>\n",
       "      <td>رومانسي</td>\n",
       "      <td>125</td>\n",
       "      <td>محمد كمال شاب بسيط هوه موسيقي غناء عطف صاحب بي...</td>\n",
       "      <td>محمد عبدالوهاب,علوية جميل,فاطمة محجوب,فاتن حما...</td>\n",
       "    </tr>\n",
       "  </tbody>\n",
       "</table>\n",
       "</div>"
      ],
      "text/plain": [
       "    اسم الفيلم  تاريخ العرض تصنيف الفيلم مدة الفيلم (دقيقة)  \\\n",
       "0   قلب المرأة         1940      رومانسي                 87   \n",
       "1       الورشة         1940        دراما                105   \n",
       "2  حياة الظلام         1940        دراما                 94   \n",
       "3   الباشمقاول         1940        دراما                 85   \n",
       "4     يوم سعيد         1940      رومانسي                125   \n",
       "\n",
       "                                                ملخص  \\\n",
       "0  دار حدث فيلم خيري فتاه ثري مخطوب ابناء عموم تف...   \n",
       "1  سافر سطا عبدالرحمن صاحب ورشه ميكانزم زميل رحله...   \n",
       "2  عاءله متوسط حال مكون زوج زوج ٱبن حصل ٱبن اجازه...   \n",
       "3  دار حدث فيلم محامي ممتاز هوه مغازله نساء رغم ز...   \n",
       "4  محمد كمال شاب بسيط هوه موسيقي غناء عطف صاحب بي...   \n",
       "\n",
       "                                               تمثيل  \n",
       "0  سليمان نجيب,أمينة رزق,دولت أبيض,عقيلة راتب,سلو...  \n",
       "1  عزيزة أمير,محمود ذو الفقار,أنور وجدي,نجمة إبرا...  \n",
       "2  ميمي شكيب,محسن سرحان,روحية خالد,فردوس محمد,علي...  \n",
       "3  فوزي الجزايرلي,ميمي شكيب,إحسان الجزايرلي,زوزو ...  \n",
       "4  محمد عبدالوهاب,علوية جميل,فاطمة محجوب,فاتن حما...  "
      ]
     },
     "execution_count": 22,
     "metadata": {},
     "output_type": "execute_result"
    }
   ],
   "source": [
    "data = pd.read_csv('D:\\OneDrive - NITT\\Custom_Download\\Arabicdata0.csv') \n",
    "data_wiki = pd.read_csv(\"D:\\OneDrive - NITT\\Custom_Download\\EN&AR_data2.csv\")\n",
    "\n",
    "data.head()"
   ]
  },
  {
   "cell_type": "code",
   "execution_count": 23,
   "id": "52db586b",
   "metadata": {},
   "outputs": [
    {
     "data": {
      "text/html": [
       "<div>\n",
       "<style scoped>\n",
       "    .dataframe tbody tr th:only-of-type {\n",
       "        vertical-align: middle;\n",
       "    }\n",
       "\n",
       "    .dataframe tbody tr th {\n",
       "        vertical-align: top;\n",
       "    }\n",
       "\n",
       "    .dataframe thead th {\n",
       "        text-align: right;\n",
       "    }\n",
       "</style>\n",
       "<table border=\"1\" class=\"dataframe\">\n",
       "  <thead>\n",
       "    <tr style=\"text-align: right;\">\n",
       "      <th></th>\n",
       "      <th>Unnamed: 0</th>\n",
       "      <th>title/الفيلم</th>\n",
       "      <th>overview/ملخص</th>\n",
       "      <th>cast/تمثيل</th>\n",
       "      <th>genres/النوع</th>\n",
       "      <th>Year/السنة</th>\n",
       "      <th>original_language/اللغة</th>\n",
       "    </tr>\n",
       "  </thead>\n",
       "  <tbody>\n",
       "    <tr>\n",
       "      <th>0</th>\n",
       "      <td>0</td>\n",
       "      <td>55 إسعاف</td>\n",
       "      <td>مجدي الهواري</td>\n",
       "      <td>محمد سعد</td>\n",
       "      <td>دراما, اثارة</td>\n",
       "      <td>2001</td>\n",
       "      <td>ar</td>\n",
       "    </tr>\n",
       "    <tr>\n",
       "      <th>1</th>\n",
       "      <td>1</td>\n",
       "      <td>ابن عز</td>\n",
       "      <td>شريف عرفة</td>\n",
       "      <td>علاء ولي الدين</td>\n",
       "      <td>دراما, اثارة</td>\n",
       "      <td>2001</td>\n",
       "      <td>ar</td>\n",
       "    </tr>\n",
       "    <tr>\n",
       "      <th>2</th>\n",
       "      <td>2</td>\n",
       "      <td>إحنا أصحاب المطار</td>\n",
       "      <td>شريف يحيى</td>\n",
       "      <td>فاروق الفيشاوي</td>\n",
       "      <td>دراما, اثارة</td>\n",
       "      <td>2001</td>\n",
       "      <td>ar</td>\n",
       "    </tr>\n",
       "    <tr>\n",
       "      <th>3</th>\n",
       "      <td>3</td>\n",
       "      <td>اتفرج يا سلام</td>\n",
       "      <td>محمد كامل القليوبي</td>\n",
       "      <td>ماجد المصري</td>\n",
       "      <td>دراما, اثارة</td>\n",
       "      <td>2001</td>\n",
       "      <td>ar</td>\n",
       "    </tr>\n",
       "    <tr>\n",
       "      <th>4</th>\n",
       "      <td>4</td>\n",
       "      <td>أسرار البنات</td>\n",
       "      <td>مجدي أحمد علي</td>\n",
       "      <td>شريف رمزي</td>\n",
       "      <td>دراما, اثارة</td>\n",
       "      <td>2001</td>\n",
       "      <td>ar</td>\n",
       "    </tr>\n",
       "  </tbody>\n",
       "</table>\n",
       "</div>"
      ],
      "text/plain": [
       "   Unnamed: 0       title/الفيلم       overview/ملخص      cast/تمثيل  \\\n",
       "0           0           55 إسعاف        مجدي الهواري        محمد سعد   \n",
       "1           1             ابن عز           شريف عرفة  علاء ولي الدين   \n",
       "2           2  إحنا أصحاب المطار           شريف يحيى  فاروق الفيشاوي   \n",
       "3           3      اتفرج يا سلام  محمد كامل القليوبي     ماجد المصري   \n",
       "4           4       أسرار البنات       مجدي أحمد علي       شريف رمزي   \n",
       "\n",
       "   genres/النوع  Year/السنة original_language/اللغة  \n",
       "0  دراما, اثارة        2001                      ar  \n",
       "1  دراما, اثارة        2001                      ar  \n",
       "2  دراما, اثارة        2001                      ar  \n",
       "3  دراما, اثارة        2001                      ar  \n",
       "4  دراما, اثارة        2001                      ar  "
      ]
     },
     "execution_count": 23,
     "metadata": {},
     "output_type": "execute_result"
    }
   ],
   "source": [
    "data_wiki.head()"
   ]
  },
  {
   "cell_type": "code",
   "execution_count": 24,
   "id": "24a42fb2",
   "metadata": {},
   "outputs": [],
   "source": [
    "data_wiki.drop('Unnamed: 0',axis=1,inplace=True)"
   ]
  },
  {
   "cell_type": "code",
   "execution_count": 25,
   "id": "7c6f9fee",
   "metadata": {},
   "outputs": [],
   "source": [
    "data_wiki.columns= ['title', 'overview','cast','genres', 'Year','original_language']"
   ]
  },
  {
   "cell_type": "code",
   "execution_count": 26,
   "id": "0dca9ec2",
   "metadata": {},
   "outputs": [
    {
     "data": {
      "text/html": [
       "<div>\n",
       "<style scoped>\n",
       "    .dataframe tbody tr th:only-of-type {\n",
       "        vertical-align: middle;\n",
       "    }\n",
       "\n",
       "    .dataframe tbody tr th {\n",
       "        vertical-align: top;\n",
       "    }\n",
       "\n",
       "    .dataframe thead th {\n",
       "        text-align: right;\n",
       "    }\n",
       "</style>\n",
       "<table border=\"1\" class=\"dataframe\">\n",
       "  <thead>\n",
       "    <tr style=\"text-align: right;\">\n",
       "      <th></th>\n",
       "      <th>title</th>\n",
       "      <th>overview</th>\n",
       "      <th>cast</th>\n",
       "      <th>genres</th>\n",
       "      <th>Year</th>\n",
       "      <th>original_language</th>\n",
       "    </tr>\n",
       "  </thead>\n",
       "  <tbody>\n",
       "    <tr>\n",
       "      <th>0</th>\n",
       "      <td>55 إسعاف</td>\n",
       "      <td>مجدي الهواري</td>\n",
       "      <td>محمد سعد</td>\n",
       "      <td>دراما, اثارة</td>\n",
       "      <td>2001</td>\n",
       "      <td>ar</td>\n",
       "    </tr>\n",
       "    <tr>\n",
       "      <th>1</th>\n",
       "      <td>ابن عز</td>\n",
       "      <td>شريف عرفة</td>\n",
       "      <td>علاء ولي الدين</td>\n",
       "      <td>دراما, اثارة</td>\n",
       "      <td>2001</td>\n",
       "      <td>ar</td>\n",
       "    </tr>\n",
       "    <tr>\n",
       "      <th>2</th>\n",
       "      <td>إحنا أصحاب المطار</td>\n",
       "      <td>شريف يحيى</td>\n",
       "      <td>فاروق الفيشاوي</td>\n",
       "      <td>دراما, اثارة</td>\n",
       "      <td>2001</td>\n",
       "      <td>ar</td>\n",
       "    </tr>\n",
       "    <tr>\n",
       "      <th>3</th>\n",
       "      <td>اتفرج يا سلام</td>\n",
       "      <td>محمد كامل القليوبي</td>\n",
       "      <td>ماجد المصري</td>\n",
       "      <td>دراما, اثارة</td>\n",
       "      <td>2001</td>\n",
       "      <td>ar</td>\n",
       "    </tr>\n",
       "    <tr>\n",
       "      <th>4</th>\n",
       "      <td>أسرار البنات</td>\n",
       "      <td>مجدي أحمد علي</td>\n",
       "      <td>شريف رمزي</td>\n",
       "      <td>دراما, اثارة</td>\n",
       "      <td>2001</td>\n",
       "      <td>ar</td>\n",
       "    </tr>\n",
       "    <tr>\n",
       "      <th>...</th>\n",
       "      <td>...</td>\n",
       "      <td>...</td>\n",
       "      <td>...</td>\n",
       "      <td>...</td>\n",
       "      <td>...</td>\n",
       "      <td>...</td>\n",
       "    </tr>\n",
       "    <tr>\n",
       "      <th>299</th>\n",
       "      <td>محترم إلا ربع</td>\n",
       "      <td>محمد حمدي</td>\n",
       "      <td>محمد رجب</td>\n",
       "      <td>دراما, اثارة</td>\n",
       "      <td>2010</td>\n",
       "      <td>ar</td>\n",
       "    </tr>\n",
       "    <tr>\n",
       "      <th>300</th>\n",
       "      <td>نور عيني</td>\n",
       "      <td>وائل إحسان</td>\n",
       "      <td>تامر حسني</td>\n",
       "      <td>دراما, اثارة</td>\n",
       "      <td>2010</td>\n",
       "      <td>ar</td>\n",
       "    </tr>\n",
       "    <tr>\n",
       "      <th>301</th>\n",
       "      <td>هليوبوليس</td>\n",
       "      <td>أحمد عبد الله السيد</td>\n",
       "      <td>خالد أبو النجا</td>\n",
       "      <td>دراما, اثارة</td>\n",
       "      <td>2010</td>\n",
       "      <td>ar</td>\n",
       "    </tr>\n",
       "    <tr>\n",
       "      <th>302</th>\n",
       "      <td>ولاد البلد</td>\n",
       "      <td>إسماعيل فاروق</td>\n",
       "      <td>سعد الصغير</td>\n",
       "      <td>دراما, اثارة</td>\n",
       "      <td>2010</td>\n",
       "      <td>ar</td>\n",
       "    </tr>\n",
       "    <tr>\n",
       "      <th>303</th>\n",
       "      <td>ولد وبنت</td>\n",
       "      <td>كريم العدل</td>\n",
       "      <td>أحمد داود</td>\n",
       "      <td>دراما, اثارة</td>\n",
       "      <td>2010</td>\n",
       "      <td>ar</td>\n",
       "    </tr>\n",
       "  </tbody>\n",
       "</table>\n",
       "<p>304 rows × 6 columns</p>\n",
       "</div>"
      ],
      "text/plain": [
       "                 title             overview            cast        genres  \\\n",
       "0             55 إسعاف         مجدي الهواري        محمد سعد  دراما, اثارة   \n",
       "1               ابن عز            شريف عرفة  علاء ولي الدين  دراما, اثارة   \n",
       "2    إحنا أصحاب المطار            شريف يحيى  فاروق الفيشاوي  دراما, اثارة   \n",
       "3        اتفرج يا سلام   محمد كامل القليوبي     ماجد المصري  دراما, اثارة   \n",
       "4         أسرار البنات        مجدي أحمد علي       شريف رمزي  دراما, اثارة   \n",
       "..                 ...                  ...             ...           ...   \n",
       "299      محترم إلا ربع            محمد حمدي        محمد رجب  دراما, اثارة   \n",
       "300           نور عيني           وائل إحسان       تامر حسني  دراما, اثارة   \n",
       "301          هليوبوليس  أحمد عبد الله السيد  خالد أبو النجا  دراما, اثارة   \n",
       "302         ولاد البلد        إسماعيل فاروق      سعد الصغير  دراما, اثارة   \n",
       "303           ولد وبنت           كريم العدل       أحمد داود  دراما, اثارة   \n",
       "\n",
       "     Year original_language  \n",
       "0    2001                ar  \n",
       "1    2001                ar  \n",
       "2    2001                ar  \n",
       "3    2001                ar  \n",
       "4    2001                ar  \n",
       "..    ...               ...  \n",
       "299  2010                ar  \n",
       "300  2010                ar  \n",
       "301  2010                ar  \n",
       "302  2010                ar  \n",
       "303  2010                ar  \n",
       "\n",
       "[304 rows x 6 columns]"
      ]
     },
     "execution_count": 26,
     "metadata": {},
     "output_type": "execute_result"
    }
   ],
   "source": [
    "data_wiki"
   ]
  },
  {
   "cell_type": "code",
   "execution_count": 27,
   "id": "e74a1045",
   "metadata": {},
   "outputs": [],
   "source": [
    "moviesNames=data.get('اسم الفيلم')\n",
    "date=data.get('تاريخ العرض')\n",
    "categories=data.get('تصنيف الفيلم')\n",
    "synopses=data.get('ملخص')\n",
    "actors=data.get('تمثيل')"
   ]
  },
  {
   "cell_type": "code",
   "execution_count": 28,
   "id": "65ce19d8",
   "metadata": {},
   "outputs": [],
   "source": [
    "ae_data = pd.DataFrame()"
   ]
  },
  {
   "cell_type": "code",
   "execution_count": 29,
   "id": "c1301a4d",
   "metadata": {},
   "outputs": [],
   "source": [
    "ae_data['Year'] = date\n",
    "ae_data['original_language'] = 'ar'\n",
    "ae_data['genres'] = categories\n",
    "ae_data['overview'] = synopses\n",
    "ae_data['cast'] = actors\n",
    "ae_data['title'] = moviesNames"
   ]
  },
  {
   "cell_type": "code",
   "execution_count": 30,
   "id": "b7c71f3f",
   "metadata": {},
   "outputs": [],
   "source": [
    "ae_data.dropna(inplace=True)\n",
    "data_wiki.dropna(inplace=True)"
   ]
  },
  {
   "cell_type": "code",
   "execution_count": 31,
   "id": "661b7fe3",
   "metadata": {},
   "outputs": [],
   "source": [
    "ae_data['cast'] = ae_data['cast'].apply(lambda x:x.split(','))\n",
    "ae_data['genres'] = ae_data['genres'].apply(lambda x:x.split(','))\n",
    "\n",
    "data_wiki['cast'] = data_wiki['cast'].apply(lambda x:x.split(','))\n",
    "data_wiki['genres'] = data_wiki['genres'].apply(lambda x:x.split(','))"
   ]
  },
  {
   "cell_type": "code",
   "execution_count": 32,
   "id": "c640bee5",
   "metadata": {},
   "outputs": [
    {
     "data": {
      "text/html": [
       "<div>\n",
       "<style scoped>\n",
       "    .dataframe tbody tr th:only-of-type {\n",
       "        vertical-align: middle;\n",
       "    }\n",
       "\n",
       "    .dataframe tbody tr th {\n",
       "        vertical-align: top;\n",
       "    }\n",
       "\n",
       "    .dataframe thead th {\n",
       "        text-align: right;\n",
       "    }\n",
       "</style>\n",
       "<table border=\"1\" class=\"dataframe\">\n",
       "  <thead>\n",
       "    <tr style=\"text-align: right;\">\n",
       "      <th></th>\n",
       "      <th>title</th>\n",
       "      <th>overview</th>\n",
       "      <th>cast</th>\n",
       "      <th>genres</th>\n",
       "      <th>Year</th>\n",
       "      <th>original_language</th>\n",
       "    </tr>\n",
       "  </thead>\n",
       "  <tbody>\n",
       "    <tr>\n",
       "      <th>0</th>\n",
       "      <td>55 إسعاف</td>\n",
       "      <td>مجدي الهواري</td>\n",
       "      <td>[محمد سعد]</td>\n",
       "      <td>[دراما,  اثارة]</td>\n",
       "      <td>2001</td>\n",
       "      <td>ar</td>\n",
       "    </tr>\n",
       "    <tr>\n",
       "      <th>1</th>\n",
       "      <td>ابن عز</td>\n",
       "      <td>شريف عرفة</td>\n",
       "      <td>[علاء ولي الدين]</td>\n",
       "      <td>[دراما,  اثارة]</td>\n",
       "      <td>2001</td>\n",
       "      <td>ar</td>\n",
       "    </tr>\n",
       "    <tr>\n",
       "      <th>2</th>\n",
       "      <td>إحنا أصحاب المطار</td>\n",
       "      <td>شريف يحيى</td>\n",
       "      <td>[فاروق الفيشاوي]</td>\n",
       "      <td>[دراما,  اثارة]</td>\n",
       "      <td>2001</td>\n",
       "      <td>ar</td>\n",
       "    </tr>\n",
       "    <tr>\n",
       "      <th>3</th>\n",
       "      <td>اتفرج يا سلام</td>\n",
       "      <td>محمد كامل القليوبي</td>\n",
       "      <td>[ماجد المصري]</td>\n",
       "      <td>[دراما,  اثارة]</td>\n",
       "      <td>2001</td>\n",
       "      <td>ar</td>\n",
       "    </tr>\n",
       "    <tr>\n",
       "      <th>4</th>\n",
       "      <td>أسرار البنات</td>\n",
       "      <td>مجدي أحمد علي</td>\n",
       "      <td>[شريف رمزي]</td>\n",
       "      <td>[دراما,  اثارة]</td>\n",
       "      <td>2001</td>\n",
       "      <td>ar</td>\n",
       "    </tr>\n",
       "  </tbody>\n",
       "</table>\n",
       "</div>"
      ],
      "text/plain": [
       "               title            overview              cast           genres  \\\n",
       "0           55 إسعاف        مجدي الهواري        [محمد سعد]  [دراما,  اثارة]   \n",
       "1             ابن عز           شريف عرفة  [علاء ولي الدين]  [دراما,  اثارة]   \n",
       "2  إحنا أصحاب المطار           شريف يحيى  [فاروق الفيشاوي]  [دراما,  اثارة]   \n",
       "3      اتفرج يا سلام  محمد كامل القليوبي     [ماجد المصري]  [دراما,  اثارة]   \n",
       "4       أسرار البنات       مجدي أحمد علي       [شريف رمزي]  [دراما,  اثارة]   \n",
       "\n",
       "   Year original_language  \n",
       "0  2001                ar  \n",
       "1  2001                ar  \n",
       "2  2001                ar  \n",
       "3  2001                ar  \n",
       "4  2001                ar  "
      ]
     },
     "execution_count": 32,
     "metadata": {},
     "output_type": "execute_result"
    }
   ],
   "source": [
    "data_wiki.head()"
   ]
  },
  {
   "cell_type": "code",
   "execution_count": 33,
   "id": "9777a71f",
   "metadata": {},
   "outputs": [
    {
     "data": {
      "text/html": [
       "<div>\n",
       "<style scoped>\n",
       "    .dataframe tbody tr th:only-of-type {\n",
       "        vertical-align: middle;\n",
       "    }\n",
       "\n",
       "    .dataframe tbody tr th {\n",
       "        vertical-align: top;\n",
       "    }\n",
       "\n",
       "    .dataframe thead th {\n",
       "        text-align: right;\n",
       "    }\n",
       "</style>\n",
       "<table border=\"1\" class=\"dataframe\">\n",
       "  <thead>\n",
       "    <tr style=\"text-align: right;\">\n",
       "      <th></th>\n",
       "      <th>Year</th>\n",
       "      <th>original_language</th>\n",
       "      <th>genres</th>\n",
       "      <th>overview</th>\n",
       "      <th>cast</th>\n",
       "      <th>title</th>\n",
       "    </tr>\n",
       "  </thead>\n",
       "  <tbody>\n",
       "    <tr>\n",
       "      <th>0</th>\n",
       "      <td>1940</td>\n",
       "      <td>ar</td>\n",
       "      <td>[رومانسي]</td>\n",
       "      <td>دار حدث فيلم خيري فتاه ثري مخطوب ابناء عموم تف...</td>\n",
       "      <td>[سليمان نجيب, أمينة رزق, دولت أبيض, عقيلة راتب...</td>\n",
       "      <td>قلب المرأة</td>\n",
       "    </tr>\n",
       "    <tr>\n",
       "      <th>1</th>\n",
       "      <td>1940</td>\n",
       "      <td>ar</td>\n",
       "      <td>[دراما]</td>\n",
       "      <td>سافر سطا عبدالرحمن صاحب ورشه ميكانزم زميل رحله...</td>\n",
       "      <td>[عزيزة أمير, محمود ذو الفقار, أنور وجدي, نجمة ...</td>\n",
       "      <td>الورشة</td>\n",
       "    </tr>\n",
       "    <tr>\n",
       "      <th>2</th>\n",
       "      <td>1940</td>\n",
       "      <td>ar</td>\n",
       "      <td>[دراما]</td>\n",
       "      <td>عاءله متوسط حال مكون زوج زوج ٱبن حصل ٱبن اجازه...</td>\n",
       "      <td>[ميمي شكيب, محسن سرحان, روحية خالد, فردوس محمد...</td>\n",
       "      <td>حياة الظلام</td>\n",
       "    </tr>\n",
       "    <tr>\n",
       "      <th>3</th>\n",
       "      <td>1940</td>\n",
       "      <td>ar</td>\n",
       "      <td>[دراما]</td>\n",
       "      <td>دار حدث فيلم محامي ممتاز هوه مغازله نساء رغم ز...</td>\n",
       "      <td>[فوزي الجزايرلي, ميمي شكيب, إحسان الجزايرلي, ز...</td>\n",
       "      <td>الباشمقاول</td>\n",
       "    </tr>\n",
       "    <tr>\n",
       "      <th>4</th>\n",
       "      <td>1940</td>\n",
       "      <td>ar</td>\n",
       "      <td>[رومانسي]</td>\n",
       "      <td>محمد كمال شاب بسيط هوه موسيقي غناء عطف صاحب بي...</td>\n",
       "      <td>[محمد عبدالوهاب, علوية جميل, فاطمة محجوب, فاتن...</td>\n",
       "      <td>يوم سعيد</td>\n",
       "    </tr>\n",
       "  </tbody>\n",
       "</table>\n",
       "</div>"
      ],
      "text/plain": [
       "   Year original_language     genres  \\\n",
       "0  1940                ar  [رومانسي]   \n",
       "1  1940                ar    [دراما]   \n",
       "2  1940                ar    [دراما]   \n",
       "3  1940                ar    [دراما]   \n",
       "4  1940                ar  [رومانسي]   \n",
       "\n",
       "                                            overview  \\\n",
       "0  دار حدث فيلم خيري فتاه ثري مخطوب ابناء عموم تف...   \n",
       "1  سافر سطا عبدالرحمن صاحب ورشه ميكانزم زميل رحله...   \n",
       "2  عاءله متوسط حال مكون زوج زوج ٱبن حصل ٱبن اجازه...   \n",
       "3  دار حدث فيلم محامي ممتاز هوه مغازله نساء رغم ز...   \n",
       "4  محمد كمال شاب بسيط هوه موسيقي غناء عطف صاحب بي...   \n",
       "\n",
       "                                                cast        title  \n",
       "0  [سليمان نجيب, أمينة رزق, دولت أبيض, عقيلة راتب...   قلب المرأة  \n",
       "1  [عزيزة أمير, محمود ذو الفقار, أنور وجدي, نجمة ...       الورشة  \n",
       "2  [ميمي شكيب, محسن سرحان, روحية خالد, فردوس محمد...  حياة الظلام  \n",
       "3  [فوزي الجزايرلي, ميمي شكيب, إحسان الجزايرلي, ز...   الباشمقاول  \n",
       "4  [محمد عبدالوهاب, علوية جميل, فاطمة محجوب, فاتن...     يوم سعيد  "
      ]
     },
     "execution_count": 33,
     "metadata": {},
     "output_type": "execute_result"
    }
   ],
   "source": [
    "ae_data.head()"
   ]
  },
  {
   "cell_type": "code",
   "execution_count": 34,
   "id": "c44aa400",
   "metadata": {},
   "outputs": [],
   "source": [
    "def create_soup_ae(x):\n",
    "    return ' '.join(x['cast']) + ' ' + ' '.join(x['genres'])"
   ]
  },
  {
   "cell_type": "code",
   "execution_count": 35,
   "id": "4ef8e7ed",
   "metadata": {},
   "outputs": [],
   "source": [
    "ae_data['soup'] = ae_data.apply(create_soup_ae, axis=1)\n",
    "data_wiki['soup'] = data_wiki.apply(create_soup_ae, axis=1)"
   ]
  },
  {
   "cell_type": "code",
   "execution_count": 36,
   "id": "4d5d82bc",
   "metadata": {},
   "outputs": [
    {
     "data": {
      "text/plain": [
       "['Year', 'original_language', 'genres', 'overview', 'cast', 'title', 'soup']"
      ]
     },
     "execution_count": 36,
     "metadata": {},
     "output_type": "execute_result"
    }
   ],
   "source": [
    "list(ae_data)"
   ]
  },
  {
   "cell_type": "markdown",
   "id": "9e38d07a",
   "metadata": {},
   "source": [
    "# merge both arabic data"
   ]
  },
  {
   "cell_type": "code",
   "execution_count": 37,
   "id": "4121cfa4",
   "metadata": {},
   "outputs": [],
   "source": [
    "arabic_full = ae_data.append(data_wiki)"
   ]
  },
  {
   "cell_type": "code",
   "execution_count": 38,
   "id": "71b00570",
   "metadata": {},
   "outputs": [
    {
     "data": {
      "text/plain": [
       "(1474, 7)"
      ]
     },
     "execution_count": 38,
     "metadata": {},
     "output_type": "execute_result"
    }
   ],
   "source": [
    "arabic_full.shape"
   ]
  },
  {
   "cell_type": "code",
   "execution_count": 39,
   "id": "0e8837c5",
   "metadata": {},
   "outputs": [
    {
     "data": {
      "text/html": [
       "<div>\n",
       "<style scoped>\n",
       "    .dataframe tbody tr th:only-of-type {\n",
       "        vertical-align: middle;\n",
       "    }\n",
       "\n",
       "    .dataframe tbody tr th {\n",
       "        vertical-align: top;\n",
       "    }\n",
       "\n",
       "    .dataframe thead th {\n",
       "        text-align: right;\n",
       "    }\n",
       "</style>\n",
       "<table border=\"1\" class=\"dataframe\">\n",
       "  <thead>\n",
       "    <tr style=\"text-align: right;\">\n",
       "      <th></th>\n",
       "      <th>Year</th>\n",
       "      <th>original_language</th>\n",
       "      <th>genres</th>\n",
       "      <th>overview</th>\n",
       "      <th>cast</th>\n",
       "      <th>title</th>\n",
       "      <th>soup</th>\n",
       "    </tr>\n",
       "  </thead>\n",
       "  <tbody>\n",
       "    <tr>\n",
       "      <th>0</th>\n",
       "      <td>1940</td>\n",
       "      <td>ar</td>\n",
       "      <td>[رومانسي]</td>\n",
       "      <td>دار حدث فيلم خيري فتاه ثري مخطوب ابناء عموم تف...</td>\n",
       "      <td>[سليمان نجيب, أمينة رزق, دولت أبيض, عقيلة راتب...</td>\n",
       "      <td>قلب المرأة</td>\n",
       "      <td>سليمان نجيب أمينة رزق دولت أبيض عقيلة راتب سلو...</td>\n",
       "    </tr>\n",
       "    <tr>\n",
       "      <th>1</th>\n",
       "      <td>1940</td>\n",
       "      <td>ar</td>\n",
       "      <td>[دراما]</td>\n",
       "      <td>سافر سطا عبدالرحمن صاحب ورشه ميكانزم زميل رحله...</td>\n",
       "      <td>[عزيزة أمير, محمود ذو الفقار, أنور وجدي, نجمة ...</td>\n",
       "      <td>الورشة</td>\n",
       "      <td>عزيزة أمير محمود ذو الفقار أنور وجدي نجمة إبرا...</td>\n",
       "    </tr>\n",
       "    <tr>\n",
       "      <th>2</th>\n",
       "      <td>1940</td>\n",
       "      <td>ar</td>\n",
       "      <td>[دراما]</td>\n",
       "      <td>عاءله متوسط حال مكون زوج زوج ٱبن حصل ٱبن اجازه...</td>\n",
       "      <td>[ميمي شكيب, محسن سرحان, روحية خالد, فردوس محمد...</td>\n",
       "      <td>حياة الظلام</td>\n",
       "      <td>ميمي شكيب محسن سرحان روحية خالد فردوس محمد علي...</td>\n",
       "    </tr>\n",
       "    <tr>\n",
       "      <th>3</th>\n",
       "      <td>1940</td>\n",
       "      <td>ar</td>\n",
       "      <td>[دراما]</td>\n",
       "      <td>دار حدث فيلم محامي ممتاز هوه مغازله نساء رغم ز...</td>\n",
       "      <td>[فوزي الجزايرلي, ميمي شكيب, إحسان الجزايرلي, ز...</td>\n",
       "      <td>الباشمقاول</td>\n",
       "      <td>فوزي الجزايرلي ميمي شكيب إحسان الجزايرلي زوزو ...</td>\n",
       "    </tr>\n",
       "    <tr>\n",
       "      <th>4</th>\n",
       "      <td>1940</td>\n",
       "      <td>ar</td>\n",
       "      <td>[رومانسي]</td>\n",
       "      <td>محمد كمال شاب بسيط هوه موسيقي غناء عطف صاحب بي...</td>\n",
       "      <td>[محمد عبدالوهاب, علوية جميل, فاطمة محجوب, فاتن...</td>\n",
       "      <td>يوم سعيد</td>\n",
       "      <td>محمد عبدالوهاب علوية جميل فاطمة محجوب فاتن حما...</td>\n",
       "    </tr>\n",
       "  </tbody>\n",
       "</table>\n",
       "</div>"
      ],
      "text/plain": [
       "   Year original_language     genres  \\\n",
       "0  1940                ar  [رومانسي]   \n",
       "1  1940                ar    [دراما]   \n",
       "2  1940                ar    [دراما]   \n",
       "3  1940                ar    [دراما]   \n",
       "4  1940                ar  [رومانسي]   \n",
       "\n",
       "                                            overview  \\\n",
       "0  دار حدث فيلم خيري فتاه ثري مخطوب ابناء عموم تف...   \n",
       "1  سافر سطا عبدالرحمن صاحب ورشه ميكانزم زميل رحله...   \n",
       "2  عاءله متوسط حال مكون زوج زوج ٱبن حصل ٱبن اجازه...   \n",
       "3  دار حدث فيلم محامي ممتاز هوه مغازله نساء رغم ز...   \n",
       "4  محمد كمال شاب بسيط هوه موسيقي غناء عطف صاحب بي...   \n",
       "\n",
       "                                                cast        title  \\\n",
       "0  [سليمان نجيب, أمينة رزق, دولت أبيض, عقيلة راتب...   قلب المرأة   \n",
       "1  [عزيزة أمير, محمود ذو الفقار, أنور وجدي, نجمة ...       الورشة   \n",
       "2  [ميمي شكيب, محسن سرحان, روحية خالد, فردوس محمد...  حياة الظلام   \n",
       "3  [فوزي الجزايرلي, ميمي شكيب, إحسان الجزايرلي, ز...   الباشمقاول   \n",
       "4  [محمد عبدالوهاب, علوية جميل, فاطمة محجوب, فاتن...     يوم سعيد   \n",
       "\n",
       "                                                soup  \n",
       "0  سليمان نجيب أمينة رزق دولت أبيض عقيلة راتب سلو...  \n",
       "1  عزيزة أمير محمود ذو الفقار أنور وجدي نجمة إبرا...  \n",
       "2  ميمي شكيب محسن سرحان روحية خالد فردوس محمد علي...  \n",
       "3  فوزي الجزايرلي ميمي شكيب إحسان الجزايرلي زوزو ...  \n",
       "4  محمد عبدالوهاب علوية جميل فاطمة محجوب فاتن حما...  "
      ]
     },
     "execution_count": 39,
     "metadata": {},
     "output_type": "execute_result"
    }
   ],
   "source": [
    "arabic_full.head()"
   ]
  },
  {
   "cell_type": "markdown",
   "id": "9b970322",
   "metadata": {},
   "source": [
    "# merge arabic and english data"
   ]
  },
  {
   "cell_type": "code",
   "execution_count": 40,
   "id": "67217ed2",
   "metadata": {},
   "outputs": [],
   "source": [
    "data_full = metadata.append(arabic_full)"
   ]
  },
  {
   "cell_type": "code",
   "execution_count": 41,
   "id": "344904b3",
   "metadata": {},
   "outputs": [
    {
     "data": {
      "text/html": [
       "<div>\n",
       "<style scoped>\n",
       "    .dataframe tbody tr th:only-of-type {\n",
       "        vertical-align: middle;\n",
       "    }\n",
       "\n",
       "    .dataframe tbody tr th {\n",
       "        vertical-align: top;\n",
       "    }\n",
       "\n",
       "    .dataframe thead th {\n",
       "        text-align: right;\n",
       "    }\n",
       "</style>\n",
       "<table border=\"1\" class=\"dataframe\">\n",
       "  <thead>\n",
       "    <tr style=\"text-align: right;\">\n",
       "      <th></th>\n",
       "      <th>title</th>\n",
       "      <th>genres</th>\n",
       "      <th>original_language</th>\n",
       "      <th>cast</th>\n",
       "      <th>soup</th>\n",
       "      <th>overview</th>\n",
       "      <th>Year</th>\n",
       "    </tr>\n",
       "  </thead>\n",
       "  <tbody>\n",
       "    <tr>\n",
       "      <th>0</th>\n",
       "      <td>Toy Story</td>\n",
       "      <td>[Animation, Comedy, Family]</td>\n",
       "      <td>en</td>\n",
       "      <td>[Tom Hanks, Tim Allen, Don Rickles, Jim Varney...</td>\n",
       "      <td>Tom Hanks Tim Allen Don Rickles Jim Varney Wal...</td>\n",
       "      <td>Led by Woody, Andy's toys live happily in his ...</td>\n",
       "      <td>1995</td>\n",
       "    </tr>\n",
       "    <tr>\n",
       "      <th>1</th>\n",
       "      <td>Jumanji</td>\n",
       "      <td>[Adventure, Fantasy, Family]</td>\n",
       "      <td>en</td>\n",
       "      <td>[Robin Williams, Jonathan Hyde, Kirsten Dunst,...</td>\n",
       "      <td>Robin Williams Jonathan Hyde Kirsten Dunst Bra...</td>\n",
       "      <td>When siblings Judy and Peter discover an encha...</td>\n",
       "      <td>1995</td>\n",
       "    </tr>\n",
       "    <tr>\n",
       "      <th>2</th>\n",
       "      <td>Grumpier Old Men</td>\n",
       "      <td>[Romance, Comedy]</td>\n",
       "      <td>en</td>\n",
       "      <td>[Walter Matthau, Jack Lemmon, Ann-Margret, Sop...</td>\n",
       "      <td>Walter Matthau Jack Lemmon Ann-Margret Sophia ...</td>\n",
       "      <td>A family wedding reignites the ancient feud be...</td>\n",
       "      <td>1995</td>\n",
       "    </tr>\n",
       "    <tr>\n",
       "      <th>3</th>\n",
       "      <td>Waiting to Exhale</td>\n",
       "      <td>[Comedy, Drama, Romance]</td>\n",
       "      <td>en</td>\n",
       "      <td>[Whitney Houston, Angela Bassett, Loretta Devi...</td>\n",
       "      <td>Whitney Houston Angela Bassett Loretta Devine ...</td>\n",
       "      <td>Cheated on, mistreated and stepped on, the wom...</td>\n",
       "      <td>1995</td>\n",
       "    </tr>\n",
       "    <tr>\n",
       "      <th>4</th>\n",
       "      <td>Father of the Bride Part II</td>\n",
       "      <td>[Comedy]</td>\n",
       "      <td>en</td>\n",
       "      <td>[Steve Martin, Diane Keaton, Martin Short, Kim...</td>\n",
       "      <td>Steve Martin Diane Keaton Martin Short Kimberl...</td>\n",
       "      <td>Just when George Banks has recovered from his ...</td>\n",
       "      <td>1995</td>\n",
       "    </tr>\n",
       "    <tr>\n",
       "      <th>...</th>\n",
       "      <td>...</td>\n",
       "      <td>...</td>\n",
       "      <td>...</td>\n",
       "      <td>...</td>\n",
       "      <td>...</td>\n",
       "      <td>...</td>\n",
       "      <td>...</td>\n",
       "    </tr>\n",
       "    <tr>\n",
       "      <th>299</th>\n",
       "      <td>محترم إلا ربع</td>\n",
       "      <td>[دراما,  اثارة]</td>\n",
       "      <td>ar</td>\n",
       "      <td>[محمد رجب]</td>\n",
       "      <td>محمد رجب دراما  اثارة</td>\n",
       "      <td>محمد حمدي</td>\n",
       "      <td>2010</td>\n",
       "    </tr>\n",
       "    <tr>\n",
       "      <th>300</th>\n",
       "      <td>نور عيني</td>\n",
       "      <td>[دراما,  اثارة]</td>\n",
       "      <td>ar</td>\n",
       "      <td>[تامر حسني]</td>\n",
       "      <td>تامر حسني دراما  اثارة</td>\n",
       "      <td>وائل إحسان</td>\n",
       "      <td>2010</td>\n",
       "    </tr>\n",
       "    <tr>\n",
       "      <th>301</th>\n",
       "      <td>هليوبوليس</td>\n",
       "      <td>[دراما,  اثارة]</td>\n",
       "      <td>ar</td>\n",
       "      <td>[خالد أبو النجا]</td>\n",
       "      <td>خالد أبو النجا دراما  اثارة</td>\n",
       "      <td>أحمد عبد الله السيد</td>\n",
       "      <td>2010</td>\n",
       "    </tr>\n",
       "    <tr>\n",
       "      <th>302</th>\n",
       "      <td>ولاد البلد</td>\n",
       "      <td>[دراما,  اثارة]</td>\n",
       "      <td>ar</td>\n",
       "      <td>[سعد الصغير]</td>\n",
       "      <td>سعد الصغير دراما  اثارة</td>\n",
       "      <td>إسماعيل فاروق</td>\n",
       "      <td>2010</td>\n",
       "    </tr>\n",
       "    <tr>\n",
       "      <th>303</th>\n",
       "      <td>ولد وبنت</td>\n",
       "      <td>[دراما,  اثارة]</td>\n",
       "      <td>ar</td>\n",
       "      <td>[أحمد داود]</td>\n",
       "      <td>أحمد داود دراما  اثارة</td>\n",
       "      <td>كريم العدل</td>\n",
       "      <td>2010</td>\n",
       "    </tr>\n",
       "  </tbody>\n",
       "</table>\n",
       "<p>11440 rows × 7 columns</p>\n",
       "</div>"
      ],
      "text/plain": [
       "                           title                        genres  \\\n",
       "0                      Toy Story   [Animation, Comedy, Family]   \n",
       "1                        Jumanji  [Adventure, Fantasy, Family]   \n",
       "2               Grumpier Old Men             [Romance, Comedy]   \n",
       "3              Waiting to Exhale      [Comedy, Drama, Romance]   \n",
       "4    Father of the Bride Part II                      [Comedy]   \n",
       "..                           ...                           ...   \n",
       "299                محترم إلا ربع               [دراما,  اثارة]   \n",
       "300                     نور عيني               [دراما,  اثارة]   \n",
       "301                    هليوبوليس               [دراما,  اثارة]   \n",
       "302                   ولاد البلد               [دراما,  اثارة]   \n",
       "303                     ولد وبنت               [دراما,  اثارة]   \n",
       "\n",
       "    original_language                                               cast  \\\n",
       "0                  en  [Tom Hanks, Tim Allen, Don Rickles, Jim Varney...   \n",
       "1                  en  [Robin Williams, Jonathan Hyde, Kirsten Dunst,...   \n",
       "2                  en  [Walter Matthau, Jack Lemmon, Ann-Margret, Sop...   \n",
       "3                  en  [Whitney Houston, Angela Bassett, Loretta Devi...   \n",
       "4                  en  [Steve Martin, Diane Keaton, Martin Short, Kim...   \n",
       "..                ...                                                ...   \n",
       "299                ar                                         [محمد رجب]   \n",
       "300                ar                                        [تامر حسني]   \n",
       "301                ar                                   [خالد أبو النجا]   \n",
       "302                ar                                       [سعد الصغير]   \n",
       "303                ar                                        [أحمد داود]   \n",
       "\n",
       "                                                  soup  \\\n",
       "0    Tom Hanks Tim Allen Don Rickles Jim Varney Wal...   \n",
       "1    Robin Williams Jonathan Hyde Kirsten Dunst Bra...   \n",
       "2    Walter Matthau Jack Lemmon Ann-Margret Sophia ...   \n",
       "3    Whitney Houston Angela Bassett Loretta Devine ...   \n",
       "4    Steve Martin Diane Keaton Martin Short Kimberl...   \n",
       "..                                                 ...   \n",
       "299                              محمد رجب دراما  اثارة   \n",
       "300                             تامر حسني دراما  اثارة   \n",
       "301                        خالد أبو النجا دراما  اثارة   \n",
       "302                            سعد الصغير دراما  اثارة   \n",
       "303                             أحمد داود دراما  اثارة   \n",
       "\n",
       "                                              overview  Year  \n",
       "0    Led by Woody, Andy's toys live happily in his ...  1995  \n",
       "1    When siblings Judy and Peter discover an encha...  1995  \n",
       "2    A family wedding reignites the ancient feud be...  1995  \n",
       "3    Cheated on, mistreated and stepped on, the wom...  1995  \n",
       "4    Just when George Banks has recovered from his ...  1995  \n",
       "..                                                 ...   ...  \n",
       "299                                          محمد حمدي  2010  \n",
       "300                                         وائل إحسان  2010  \n",
       "301                                أحمد عبد الله السيد  2010  \n",
       "302                                      إسماعيل فاروق  2010  \n",
       "303                                         كريم العدل  2010  \n",
       "\n",
       "[11440 rows x 7 columns]"
      ]
     },
     "execution_count": 41,
     "metadata": {},
     "output_type": "execute_result"
    }
   ],
   "source": [
    "data_full"
   ]
  },
  {
   "cell_type": "markdown",
   "id": "72355ddd",
   "metadata": {},
   "source": [
    "# SAVE the data"
   ]
  },
  {
   "cell_type": "code",
   "execution_count": 42,
   "id": "250f71c2",
   "metadata": {},
   "outputs": [],
   "source": [
    "data_full.to_csv('full_data.csv',index=False)"
   ]
  },
  {
   "cell_type": "markdown",
   "id": "ea641def",
   "metadata": {},
   "source": [
    "# EDA"
   ]
  },
  {
   "cell_type": "code",
   "execution_count": 43,
   "id": "7ac0668b",
   "metadata": {},
   "outputs": [
    {
     "data": {
      "image/png": "[encoded data removed]",
      "text/plain": [
       "<Figure size 2160x504 with 1 Axes>"
      ]
     },
     "metadata": {
      "needs_background": "light"
     },
     "output_type": "display_data"
    }
   ],
   "source": [
    "plt.figure(figsize=(30,7))\n",
    "plt.title('Year wise movie distribution')\n",
    "sns.countplot(data_full['Year'])\n",
    "plt.xticks(rotation=90)\n",
    "plt.show()"
   ]
  },
  {
   "cell_type": "code",
   "execution_count": 44,
   "id": "509fd879",
   "metadata": {},
   "outputs": [
    {
     "data": {
      "image/png": "[encoded data removed]",
      "text/plain": [
       "<Figure size 720x216 with 1 Axes>"
      ]
     },
     "metadata": {
      "needs_background": "light"
     },
     "output_type": "display_data"
    }
   ],
   "source": [
    "plt.figure(figsize=(10,3))\n",
    "plt.title('Language wise movie distribution')\n",
    "sns.countplot(data_full['original_language'])\n",
    "plt.xticks(rotation=90)\n",
    "plt.show()"
   ]
  },
  {
   "cell_type": "markdown",
   "id": "03412f3d",
   "metadata": {},
   "source": [
    "# filter data so that it contains movie in english and arabic only"
   ]
  },
  {
   "cell_type": "code",
   "execution_count": 45,
   "id": "aa465b5d",
   "metadata": {},
   "outputs": [],
   "source": [
    "data_full = data_full[data_full['original_language'].isin(['en','ar'])]"
   ]
  },
  {
   "cell_type": "code",
   "execution_count": 46,
   "id": "f0ce79ac",
   "metadata": {},
   "outputs": [
    {
     "data": {
      "image/png": "[encoded data removed]",
      "text/plain": [
       "<Figure size 432x288 with 1 Axes>"
      ]
     },
     "metadata": {
      "needs_background": "light"
     },
     "output_type": "display_data"
    }
   ],
   "source": [
    "# plt.figure(figsize=(5))\n",
    "plt.title('Language wise movie distribution')\n",
    "sns.countplot(data_full['original_language'])\n",
    "plt.xticks(rotation=90)\n",
    "plt.show()"
   ]
  },
  {
   "cell_type": "code",
   "execution_count": 47,
   "id": "526b78a1",
   "metadata": {},
   "outputs": [
    {
     "data": {
      "application/vnd.jupyter.widget-view+json": {
       "model_id": "9a34462360d74da4bb0eea2a35679d5a",
       "version_major": 2,
       "version_minor": 0
      },
      "text/plain": [
       "  0%|          | 0/8357 [00:00<?, ?it/s]"
      ]
     },
     "metadata": {},
     "output_type": "display_data"
    }
   ],
   "source": [
    "category = []\n",
    "from tqdm.notebook import tqdm\n",
    "for cat in tqdm(data_full[data_full['original_language'].isin(['en'])]['genres']):\n",
    "    category = category + cat"
   ]
  },
  {
   "cell_type": "code",
   "execution_count": 48,
   "id": "ff2c95dc",
   "metadata": {},
   "outputs": [
    {
     "data": {
      "image/png": "[encoded data removed]",
      "text/plain": [
       "<Figure size 504x288 with 1 Axes>"
      ]
     },
     "metadata": {
      "needs_background": "light"
     },
     "output_type": "display_data"
    }
   ],
   "source": [
    "# Engligh movies\n",
    "plt.figure(figsize=(7,4))\n",
    "plt.title('genres wise movie distribution')\n",
    "sns.countplot(category)\n",
    "plt.xticks(rotation=90)\n",
    "plt.xlabel('genres')\n",
    "plt.show()"
   ]
  },
  {
   "cell_type": "code",
   "execution_count": 49,
   "id": "0b36d963",
   "metadata": {},
   "outputs": [
    {
     "data": {
      "application/vnd.jupyter.widget-view+json": {
       "model_id": "562f3042fe26456996739ed2995310b9",
       "version_major": 2,
       "version_minor": 0
      },
      "text/plain": [
       "  0%|          | 0/1476 [00:00<?, ?it/s]"
      ]
     },
     "metadata": {},
     "output_type": "display_data"
    }
   ],
   "source": [
    "category = []\n",
    "for cat in tqdm(data_full[data_full['original_language'].isin(['ar'])]['genres']):\n",
    "    category = category + cat\n",
    "    \n",
    "category = [i for i in category if len(i)<=40]"
   ]
  },
  {
   "cell_type": "code",
   "execution_count": 50,
   "id": "c4a18800",
   "metadata": {},
   "outputs": [
    {
     "data": {
      "image/png": "[encoded data removed]",
      "text/plain": [
       "<Figure size 504x288 with 1 Axes>"
      ]
     },
     "metadata": {
      "needs_background": "light"
     },
     "output_type": "display_data"
    }
   ],
   "source": [
    "# arabic movies\n",
    "plt.figure(figsize=(7,4))\n",
    "plt.title('genres wise movie distribution')\n",
    "sns.countplot(category)\n",
    "plt.xticks(rotation=90)\n",
    "plt.xlabel('genres')\n",
    "plt.show()"
   ]
  },
  {
   "cell_type": "code",
   "execution_count": 51,
   "id": "82ab66f9",
   "metadata": {},
   "outputs": [
    {
     "data": {
      "application/vnd.jupyter.widget-view+json": {
       "model_id": "3234a5b837ca457eb283ac0fd9e8dce6",
       "version_major": 2,
       "version_minor": 0
      },
      "text/plain": [
       "  0%|          | 0/8357 [00:00<?, ?it/s]"
      ]
     },
     "metadata": {},
     "output_type": "display_data"
    }
   ],
   "source": [
    "# Engligh movies\n",
    "category = []\n",
    "from tqdm.notebook import tqdm\n",
    "for cat in tqdm(data_full[data_full['original_language'].isin(['en'])]['cast']):\n",
    "    category = category + cat"
   ]
  },
  {
   "cell_type": "code",
   "execution_count": 52,
   "id": "ce4cae6e",
   "metadata": {},
   "outputs": [],
   "source": [
    "d = dict(sorted(Counter(category).items(),key=lambda x:x[1],reverse=True)[:50])"
   ]
  },
  {
   "cell_type": "code",
   "execution_count": 53,
   "id": "799a52eb",
   "metadata": {},
   "outputs": [
    {
     "data": {
      "image/png": "[encoded data removed]",
      "text/plain": [
       "<Figure size 2160x720 with 1 Axes>"
      ]
     },
     "metadata": {
      "needs_background": "light"
     },
     "output_type": "display_data"
    }
   ],
   "source": [
    "all_cast = []\n",
    "for i in d:\n",
    "    all_cast = all_cast + [i]*d[i]\n",
    "    \n",
    "plt.figure(figsize=(30,10))\n",
    "plt.title('top 50 Cast with number of movies')\n",
    "sns.countplot(all_cast)\n",
    "plt.xticks(rotation=90)\n",
    "plt.xlabel('Cast')\n",
    "plt.show()"
   ]
  },
  {
   "cell_type": "code",
   "execution_count": 54,
   "id": "56cd3bd5",
   "metadata": {},
   "outputs": [
    {
     "data": {
      "application/vnd.jupyter.widget-view+json": {
       "model_id": "70453d26d03f43e99d2ffdef3e577321",
       "version_major": 2,
       "version_minor": 0
      },
      "text/plain": [
       "  0%|          | 0/1476 [00:00<?, ?it/s]"
      ]
     },
     "metadata": {},
     "output_type": "display_data"
    },
    {
     "data": {
      "image/png": "[encoded data removed]",
      "text/plain": [
       "<Figure size 2160x720 with 1 Axes>"
      ]
     },
     "metadata": {
      "needs_background": "light"
     },
     "output_type": "display_data"
    }
   ],
   "source": [
    "# arabic movies\n",
    "category = []\n",
    "from tqdm.notebook import tqdm\n",
    "for cat in tqdm(data_full[data_full['original_language'].isin(['ar'])]['cast']):\n",
    "    category = category + cat\n",
    "    \n",
    "d = dict(sorted(Counter(category).items(),key=lambda x:x[1],reverse=True)[:50])\n",
    "all_cast = []\n",
    "for i in d:\n",
    "    all_cast = all_cast + [i]*d[i]\n",
    "    \n",
    "plt.figure(figsize=(30,10))\n",
    "plt.title('top 50 Cast with number of movies')\n",
    "sns.countplot(all_cast)\n",
    "plt.xticks(rotation=90)\n",
    "plt.xlabel('Cast')\n",
    "plt.show()"
   ]
  },
  {
   "cell_type": "code",
   "execution_count": 55,
   "id": "ea030a43",
   "metadata": {},
   "outputs": [
    {
     "name": "stdout",
     "output_type": "stream",
     "text": [
      "Requirement already satisfied: pyarabic in c:\\users\\avitr\\anaconda3\\lib\\site-packages (0.6.15)\n",
      "Requirement already satisfied: six>=1.14.0 in c:\\users\\avitr\\anaconda3\\lib\\site-packages (from pyarabic) (1.16.0)\n"
     ]
    },
    {
     "name": "stderr",
     "output_type": "stream",
     "text": [
      "WARNING: Ignoring invalid distribution -atplotlib (c:\\users\\avitr\\anaconda3\\lib\\site-packages)\n",
      "WARNING: Ignoring invalid distribution -atplotlib (c:\\users\\avitr\\anaconda3\\lib\\site-packages)\n",
      "WARNING: Ignoring invalid distribution -atplotlib (c:\\users\\avitr\\anaconda3\\lib\\site-packages)\n",
      "WARNING: Ignoring invalid distribution -atplotlib (c:\\users\\avitr\\anaconda3\\lib\\site-packages)\n",
      "WARNING: Ignoring invalid distribution -atplotlib (c:\\users\\avitr\\anaconda3\\lib\\site-packages)\n",
      "WARNING: Ignoring invalid distribution -atplotlib (c:\\users\\avitr\\anaconda3\\lib\\site-packages)\n"
     ]
    }
   ],
   "source": [
    "!pip install pyarabic"
   ]
  },
  {
   "cell_type": "code",
   "execution_count": 56,
   "id": "9d2a06f8",
   "metadata": {},
   "outputs": [],
   "source": [
    "import pyarabic.araby as araby\n",
    "from nltk.corpus import stopwords\n",
    "import re\n",
    "\n",
    "def normalizeArabic(text):\n",
    "    text = text.strip()\n",
    "    text = re.sub(\"[إأٱآا]\", \"ا\", text)\n",
    "    text = re.sub(\"ى\", \"ي\", text)\n",
    "    text = re.sub(\"ؤ\", \"ء\", text)\n",
    "    text = re.sub(\"ئ\", \"ء\", text)\n",
    "    text = re.sub(\"ة\", \"ه\", text)\n",
    "    noise = re.compile(\"\"\" ّ    | # Tashdid\n",
    "                             َ    | # Fatha\n",
    "                             ً    | # Tanwin Fath\n",
    "                             ُ    | # Damma\n",
    "                             ٌ    | # Tanwin Damm\n",
    "                             ِ    | # Kasra\n",
    "                             ٍ    | # Tanwin Kasr\n",
    "                             ْ    | # Sukun\n",
    "                             ـ     # Tatwil/Kashida\n",
    "                         \"\"\", re.VERBOSE)\n",
    "    text = re.sub(noise, '', text)\n",
    "    text = re.sub(r'(.)\\1+', r\"\\1\\1\", text) # Remove longation\n",
    "    return araby.strip_tashkeel(text)"
   ]
  },
  {
   "cell_type": "code",
   "execution_count": 57,
   "id": "466d6786",
   "metadata": {},
   "outputs": [],
   "source": [
    "# Arabic stop words with nltk\n",
    "stop_words = stopwords.words('arabic')\n",
    "stop_words_ae = [normalizeArabic(word) for word in stop_words]"
   ]
  },
  {
   "cell_type": "markdown",
   "id": "c5f01087",
   "metadata": {},
   "source": [
    "# recommendation"
   ]
  },
  {
   "cell_type": "code",
   "execution_count": 88,
   "id": "65f9de82",
   "metadata": {},
   "outputs": [],
   "source": [
    "from sklearn.feature_extraction.text import CountVectorizer\n",
    "from sklearn.metrics.pairwise import cosine_similarity\n",
    "\n",
    "def make_recommendation(metadata=data_full):\n",
    "\n",
    "    #grabbing the new wordsoup from the user\n",
    "    searchTerms = get_searchTerms()  \n",
    "#     print(searchTerms)\n",
    "    ################# filter dataframe for recommendation #################\n",
    "    \n",
    "    if searchTerms[2]:\n",
    "        metadata_copy = metadata[metadata['original_language']==searchTerms[2].lower()]\n",
    "\n",
    "    if searchTerms[0]:\n",
    "        \n",
    "        f_data = metadata_copy[metadata_copy['genres'].apply(lambda x: any(t.strip().title() in x for t in searchTerms[0].split(',')))]\n",
    "#         f_data = metadata_copy[metadata_copy['genres'].apply(lambda x: searchTerms[0] in x)]\n",
    "        if len(f_data):\n",
    "            metadata_copy = f_data\n",
    "            \n",
    "    if searchTerms[1]:\n",
    "        \n",
    "        f = lambda x: any(t.strip().title() in ' '.join(x).split() for t in searchTerms[1].split(','))\n",
    "        \n",
    "        f_data = metadata_copy[metadata_copy['cast'].apply(f)]\n",
    "        \n",
    "\n",
    "#         f_data = metadata_copy[metadata_copy['cast'].apply(lambda x: searchTerms[1] in ' '.join(x).split())]\n",
    "        if len(f_data):\n",
    "            metadata_copy = f_data\n",
    "    #######################################################################\n",
    "    \n",
    "    #Vectorizing the entire matrix as described above!\n",
    "    \n",
    "    if searchTerms[2].lower() == 'en':\n",
    "        count = CountVectorizer(stop_words='english')\n",
    "    else:\n",
    "        count = CountVectorizer(stop_words=stop_words_ae)\n",
    "        \n",
    "    count_matrix = count.fit_transform(metadata_copy['soup'])\n",
    "\n",
    "    #running pairwise cosine similarity \n",
    "    cosine_sim2 = cosine_similarity(count_matrix, count_matrix) #getting a similarity matrix\n",
    "\n",
    "    #sorting cosine similarities by highest to lowest\n",
    "    sim_scores = list(enumerate(cosine_sim2[-1,:]))\n",
    "    sim_scores = sorted(sim_scores, key=lambda x: x[1], reverse=True)\n",
    "#     print(sim_scores)\n",
    "    #matching the simix\n",
    "    # similarities to the movie titles and ids\n",
    "    ranked_titles = []\n",
    "    for i in range(1, 11):\n",
    "        try:\n",
    "            indx = sim_scores[i][0]\n",
    "            ranked_titles.append([metadata_copy['title'].iloc[indx]])\n",
    "        except:\n",
    "            pass\n",
    "    ranked_titles = pd.DataFrame(np.array(ranked_titles)[:,0],columns=['Title'])\n",
    "    return ranked_titles"
   ]
  },
  {
   "cell_type": "code",
   "execution_count": 78,
   "id": "e5e66d41",
   "metadata": {},
   "outputs": [
    {
     "name": "stdout",
     "output_type": "stream",
     "text": [
      "What Movie Genre are you interested in (if multiple, please separate them with a comma)? [Type 'skip' to skip this question] comedy,action\n",
      "Who are some actors within the genre that you love (if multiple, please separate them with a comma)? [Type 'skip' to skip this question] tom\n",
      "What is the spoken language (type 'en' for English and 'ar' for Arabic [Type 'skip' to skip this question] \n",
      "['Comedy Action', 'Tom', 'en']\n",
      "                               Title\n",
      "0                      The Big Sleep\n",
      "1                        San Antonio\n",
      "2       Mr. Smith Goes to Washington\n",
      "3                      South Pacific\n",
      "4                               Tess\n",
      "5                   The Great Escape\n",
      "6                         Humoresque\n",
      "7  At Play in the Fields of the Lord\n",
      "8                             Gandhi\n",
      "9                              Hoffa\n"
     ]
    }
   ],
   "source": [
    "#let's try our recommendation function now\n",
    "print(make_recommendation())"
   ]
  },
  {
   "cell_type": "code",
   "execution_count": 80,
   "id": "b4e027a9",
   "metadata": {},
   "outputs": [
    {
     "name": "stdout",
     "output_type": "stream",
     "text": [
      "What Movie Genre are you interested in (if multiple, please separate them with a comma)? [Type 'skip' to skip this question] دراما\n",
      "Who are some actors within the genre that you love (if multiple, please separate them with a comma)? [Type 'skip' to skip this question] \n",
      "What is the spoken language (type 'en' for English and 'ar' for Arabic [Type 'skip' to skip this question] ar\n",
      "['دراما', None, 'ar']\n",
      "                  Title\n",
      "0       علشان ربنا يحبك\n",
      "1              إوعى وشك\n",
      "2      حوش اللي وقع منك\n",
      "3              أفريكانو\n",
      "4          أيام السادات\n",
      "5  الرجل الأبيض المتوسط\n",
      "6        شباب على الهوا\n",
      "7                 مافيا\n",
      "8          معالي الوزير\n",
      "9             فيلم هندي\n"
     ]
    }
   ],
   "source": [
    "print(make_recommendation())"
   ]
  },
  {
   "cell_type": "code",
   "execution_count": 94,
   "id": "37ed0312",
   "metadata": {},
   "outputs": [
    {
     "name": "stdout",
     "output_type": "stream",
     "text": [
      "What Movie Genre are you interested in (if multiple, please separate them with a comma)? [Type 'skip' to skip this question] تامر حسني\n",
      "Who are some actors within the genre that you love (if multiple, please separate them with a comma)? [Type 'skip' to skip this question] skip\n",
      "What is the spoken language (type 'en' for English and 'ar' for Arabic [Type 'skip' to skip this question] ar\n",
      "                  Title\n",
      "0       علشان ربنا يحبك\n",
      "1              إوعى وشك\n",
      "2      حوش اللي وقع منك\n",
      "3              أفريكانو\n",
      "4          أيام السادات\n",
      "5  الرجل الأبيض المتوسط\n",
      "6        شباب على الهوا\n",
      "7                 مافيا\n",
      "8          معالي الوزير\n",
      "9             فيلم هندي\n"
     ]
    }
   ],
   "source": [
    "print(make_recommendation())"
   ]
  },
  {
   "cell_type": "code",
   "execution_count": null,
   "id": "70695d2f",
   "metadata": {},
   "outputs": [],
   "source": []
  }
 ],
 "metadata": {
  "kernelspec": {
   "display_name": "Python 3 (ipykernel)",
   "language": "python",
   "name": "python3"
  },
  "language_info": {
   "codemirror_mode": {
    "name": "ipython",
    "version": 3
   },
   "file_extension": ".py",
   "mimetype": "text/x-python",
   "name": "python",
   "nbconvert_exporter": "python",
   "pygments_lexer": "ipython3",
   "version": "3.9.12"
  }
 },
 "nbformat": 4,
 "nbformat_minor": 5
}
