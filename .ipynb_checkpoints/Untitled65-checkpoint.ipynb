{
 "cells": [
  {
   "cell_type": "code",
   "execution_count": null,
   "id": "7514ed99",
   "metadata": {},
   "outputs": [],
   "source": [
    "col = [f'Value{i}' for i in range(len(extracted_features_df['feature'][0]))]"
   ]
  },
  {
   "cell_type": "code",
   "execution_count": null,
   "id": "3b870c12",
   "metadata": {},
   "outputs": [],
   "source": [
    "df3 = extracted_features_df.feature.apply(pd.Series)\n",
    "df3.columns = col\n",
    "df3['genre'] = extracted_features_df['genre']"
   ]
  },
  {
   "cell_type": "code",
   "execution_count": null,
   "id": "044ccdd8",
   "metadata": {},
   "outputs": [],
   "source": [
    "from pyspark.sql import SparkSession\n",
    "  \n",
    "spark = SparkSession.builder.appName(\"pandas to spark\").getOrCreate()"
   ]
  },
  {
   "cell_type": "code",
   "execution_count": null,
   "id": "00302692",
   "metadata": {},
   "outputs": [],
   "source": [
    "df_sp = spark.createDataFrame(df3)"
   ]
  },
  {
   "cell_type": "code",
   "execution_count": 2,
   "id": "a469b453",
   "metadata": {},
   "outputs": [],
   "source": [
    "import pandas as pd"
   ]
  },
  {
   "cell_type": "code",
   "execution_count": 3,
   "id": "12c9c6fb",
   "metadata": {},
   "outputs": [],
   "source": [
    "df = pd.DataFrame([])"
   ]
  },
  {
   "cell_type": "code",
   "execution_count": 4,
   "id": "70ad0a37",
   "metadata": {},
   "outputs": [],
   "source": [
    "df['hh']  = list(range(205121001,205121112,2))"
   ]
  },
  {
   "cell_type": "code",
   "execution_count": 6,
   "id": "63087c0f",
   "metadata": {},
   "outputs": [],
   "source": [
    "df.to_csv('marks.csv',index=False)"
   ]
  },
  {
   "cell_type": "code",
   "execution_count": 7,
   "id": "558c9fb4",
   "metadata": {},
   "outputs": [],
   "source": [
    "df = pd.read_csv(r\"D:\\OneDrive - NITT\\Custom_Download\\MCA-2nd Yr - Sheet1.csv\")"
   ]
  },
  {
   "cell_type": "code",
   "execution_count": 10,
   "id": "172c605f",
   "metadata": {},
   "outputs": [
    {
     "data": {
      "text/plain": [
       "7.991228070175438"
      ]
     },
     "execution_count": 10,
     "metadata": {},
     "output_type": "execute_result"
    }
   ],
   "source": [
    "df['CT2'].mean()"
   ]
  },
  {
   "cell_type": "code",
   "execution_count": 17,
   "id": "03b9424e",
   "metadata": {},
   "outputs": [],
   "source": [
    "import os\n",
    "import json"
   ]
  },
  {
   "cell_type": "code",
   "execution_count": 18,
   "id": "6b9994ce",
   "metadata": {},
   "outputs": [],
   "source": [
    "files = [file for file in os.listdir() if file.endswith('.ipynb')]"
   ]
  },
  {
   "cell_type": "code",
   "execution_count": 20,
   "id": "238f578d",
   "metadata": {},
   "outputs": [],
   "source": [
    "with open('1.ipynb', 'r') as fp:\n",
    "    data = json.load(fp)"
   ]
  },
  {
   "cell_type": "code",
   "execution_count": 30,
   "id": "e8280a0e",
   "metadata": {},
   "outputs": [],
   "source": [
    "x = ' '.join(sum([i['source'] for i in data['cells']],[]))"
   ]
  },
  {
   "cell_type": "code",
   "execution_count": 31,
   "id": "fc2f98ad",
   "metadata": {},
   "outputs": [
    {
     "data": {
      "text/plain": [
       "True"
      ]
     },
     "execution_count": 31,
     "metadata": {},
     "output_type": "execute_result"
    }
   ],
   "source": [
    "'boat_name' in x"
   ]
  },
  {
   "cell_type": "code",
   "execution_count": 48,
   "id": "12c1ea8d",
   "metadata": {},
   "outputs": [],
   "source": [
    "def scan_files(fname):\n",
    "    path = os.path.join(\"D:\\OneDrive - NITT\\Custom_Download\",fname)\n",
    "    with open(path, 'r') as fp:\n",
    "#         print(path)\n",
    "        data = json.load(fp)\n",
    "        \n",
    "    x = ' '.join(sum([i['source'] for i in data['cells']],[]))\n",
    "    \n",
    "    return 'groupby' in x"
   ]
  },
  {
   "cell_type": "code",
   "execution_count": 49,
   "id": "948d707e",
   "metadata": {},
   "outputs": [],
   "source": [
    "from tqdm.notebook import tqdm"
   ]
  },
  {
   "cell_type": "code",
   "execution_count": 50,
   "id": "31cdd18a",
   "metadata": {},
   "outputs": [
    {
     "data": {
      "application/vnd.jupyter.widget-view+json": {
       "model_id": "7484b8939c3b4cabbf7e898f8b4ccc56",
       "version_major": 2,
       "version_minor": 0
      },
      "text/plain": [
       "  0%|          | 0/287 [00:00<?, ?it/s]"
      ]
     },
     "metadata": {},
     "output_type": "display_data"
    },
    {
     "name": "stdout",
     "output_type": "stream",
     "text": [
      "assignment1 (1)_v1.ipynb\n",
      "Assignment2-task1 (4).ipynb\n",
      "Assignment2-task1 (6).ipynb\n",
      "Assignment2-task1.ipynb\n",
      "Assignment2-task_v1.ipynb\n",
      "budget_oop_updated.ipynb\n",
      "chen_chat_v3.ipynb\n",
      "code22.ipynb\n",
      "Dash-Dashboard-Practice luis.ipynb\n",
      "edit - autoregressive_model.ipynb\n",
      "Final Project_v1.ipynb\n",
      "First analysis.ipynb\n",
      "groupby_transform_v1.ipynb\n",
      "ML_FINAL_PROJECT.ipynb\n",
      "multindex_plot_v3.ipynb\n",
      "plot_v1.ipynb\n",
      "pymaceuticals_starter_HOMEWORK_v1.ipynb\n"
     ]
    }
   ],
   "source": [
    "for file in tqdm(files):\n",
    "    try:\n",
    "        if scan_files(file):\n",
    "            print(file)\n",
    "    except:\n",
    "        pass\n",
    "#         print(f'Error in file {file}')"
   ]
  },
  {
   "cell_type": "code",
   "execution_count": null,
   "id": "258c95a6",
   "metadata": {},
   "outputs": [],
   "source": []
  }
 ],
 "metadata": {
  "kernelspec": {
   "display_name": "Python 3 (ipykernel)",
   "language": "python",
   "name": "python3"
  },
  "language_info": {
   "codemirror_mode": {
    "name": "ipython",
    "version": 3
   },
   "file_extension": ".py",
   "mimetype": "text/x-python",
   "name": "python",
   "nbconvert_exporter": "python",
   "pygments_lexer": "ipython3",
   "version": "3.9.12"
  }
 },
 "nbformat": 4,
 "nbformat_minor": 5
}
