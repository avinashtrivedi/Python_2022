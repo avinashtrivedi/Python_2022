{
 "cells": [
  {
   "cell_type": "code",
   "execution_count": 11,
   "id": "b0d88642",
   "metadata": {},
   "outputs": [],
   "source": [
    "x = [2,3,5]"
   ]
  },
  {
   "cell_type": "code",
   "execution_count": null,
   "id": "ec48c534",
   "metadata": {},
   "outputs": [],
   "source": [
    "# (2,3) -> 5\n",
    "# (2,5) - >3\n",
    "# (3,5) - >2"
   ]
  },
  {
   "cell_type": "code",
   "execution_count": null,
   "id": "e67e7633",
   "metadata": {},
   "outputs": [],
   "source": [
    "# 5 - > (2,3)\n",
    "# 2 - > (3,5)\n",
    "# 3 -> (2,5)\n"
   ]
  },
  {
   "cell_type": "code",
   "execution_count": 2,
   "id": "cb90a5e4",
   "metadata": {},
   "outputs": [],
   "source": [
    "d = {}"
   ]
  },
  {
   "cell_type": "code",
   "execution_count": 3,
   "id": "bff988af",
   "metadata": {},
   "outputs": [],
   "source": [
    "d[2] = (3,5)\n",
    "d[3] = (2,5)\n",
    "d[5] = (2,3)"
   ]
  },
  {
   "cell_type": "code",
   "execution_count": 4,
   "id": "bc18c69e",
   "metadata": {},
   "outputs": [
    {
     "data": {
      "text/plain": [
       "{2: (3, 5), 3: (2, 5), 5: (2, 3)}"
      ]
     },
     "execution_count": 4,
     "metadata": {},
     "output_type": "execute_result"
    }
   ],
   "source": [
    "d"
   ]
  },
  {
   "cell_type": "code",
   "execution_count": 5,
   "id": "42750629",
   "metadata": {},
   "outputs": [
    {
     "data": {
      "text/plain": [
       "[2, 3, 5]"
      ]
     },
     "execution_count": 5,
     "metadata": {},
     "output_type": "execute_result"
    }
   ],
   "source": [
    "x"
   ]
  },
  {
   "cell_type": "code",
   "execution_count": 7,
   "id": "4956d6f6",
   "metadata": {},
   "outputs": [],
   "source": [
    "x.remove(2)"
   ]
  },
  {
   "cell_type": "code",
   "execution_count": 12,
   "id": "79e3d85d",
   "metadata": {},
   "outputs": [
    {
     "data": {
      "text/plain": [
       "[2, 3, 5]"
      ]
     },
     "execution_count": 12,
     "metadata": {},
     "output_type": "execute_result"
    }
   ],
   "source": [
    "x"
   ]
  },
  {
   "cell_type": "code",
   "execution_count": 15,
   "id": "3a74fd3a",
   "metadata": {},
   "outputs": [
    {
     "data": {
      "text/plain": [
       "{3, 5}"
      ]
     },
     "execution_count": 15,
     "metadata": {},
     "output_type": "execute_result"
    }
   ],
   "source": [
    "set(x) - set([2])"
   ]
  },
  {
   "cell_type": "code",
   "execution_count": 16,
   "id": "4ce4750f",
   "metadata": {},
   "outputs": [
    {
     "data": {
      "text/plain": [
       "[2, 3, 5]"
      ]
     },
     "execution_count": 16,
     "metadata": {},
     "output_type": "execute_result"
    }
   ],
   "source": [
    "x"
   ]
  },
  {
   "cell_type": "code",
   "execution_count": 21,
   "id": "a01070ec",
   "metadata": {},
   "outputs": [
    {
     "data": {
      "text/plain": [
       "{2: [3, 5], 3: [2, 5], 5: [2, 3]}"
      ]
     },
     "execution_count": 21,
     "metadata": {},
     "output_type": "execute_result"
    }
   ],
   "source": [
    "{i:list((set(x) - set([i]))) for i in x}"
   ]
  },
  {
   "cell_type": "code",
   "execution_count": 19,
   "id": "c66e4265",
   "metadata": {},
   "outputs": [],
   "source": [
    "a = {}"
   ]
  },
  {
   "cell_type": "code",
   "execution_count": 20,
   "id": "76f623ae",
   "metadata": {},
   "outputs": [],
   "source": [
    "b = {1}"
   ]
  },
  {
   "cell_type": "code",
   "execution_count": 22,
   "id": "992dbf96",
   "metadata": {},
   "outputs": [],
   "source": [
    "y = [[1], [3], [2], [5], [1, 3], [3, 2], [3, 5], [2, 5], [3, 2, 5]]"
   ]
  },
  {
   "cell_type": "code",
   "execution_count": 23,
   "id": "af56ce5d",
   "metadata": {},
   "outputs": [
    {
     "data": {
      "text/plain": [
       "[[1], [3], [2], [5], [1, 3], [3, 2], [3, 5], [2, 5], [3, 2, 5]]"
      ]
     },
     "execution_count": 23,
     "metadata": {},
     "output_type": "execute_result"
    }
   ],
   "source": [
    "y"
   ]
  },
  {
   "cell_type": "code",
   "execution_count": 27,
   "id": "cb2bdaee",
   "metadata": {},
   "outputs": [
    {
     "data": {
      "text/plain": [
       "[1, 2, 3, 5]"
      ]
     },
     "execution_count": 27,
     "metadata": {},
     "output_type": "execute_result"
    }
   ],
   "source": [
    "list(set(sum(y,[])))"
   ]
  },
  {
   "cell_type": "code",
   "execution_count": 30,
   "id": "4a25731c",
   "metadata": {},
   "outputs": [
    {
     "data": {
      "text/plain": [
       "[[1], [3], [2], [5], [1, 3], [3, 2], [3, 5], [2, 5], [3, 2, 5]]"
      ]
     },
     "execution_count": 30,
     "metadata": {},
     "output_type": "execute_result"
    }
   ],
   "source": [
    "y"
   ]
  },
  {
   "cell_type": "code",
   "execution_count": null,
   "id": "d9fdf85d",
   "metadata": {},
   "outputs": [],
   "source": []
  },
  {
   "cell_type": "code",
   "execution_count": 31,
   "id": "f7782d2b",
   "metadata": {},
   "outputs": [],
   "source": [
    "def f(x):\n",
    "    return {i:list((set(x) - set([i]))) for i in x}"
   ]
  },
  {
   "cell_type": "code",
   "execution_count": 33,
   "id": "9abae127",
   "metadata": {},
   "outputs": [
    {
     "data": {
      "text/plain": [
       "{1: [2, 3], 2: [1, 3], 3: [1, 2]}"
      ]
     },
     "execution_count": 33,
     "metadata": {},
     "output_type": "execute_result"
    }
   ],
   "source": [
    "f(x)"
   ]
  },
  {
   "cell_type": "code",
   "execution_count": null,
   "id": "b81385c3",
   "metadata": {},
   "outputs": [],
   "source": []
  },
  {
   "cell_type": "code",
   "execution_count": 32,
   "id": "54b26137",
   "metadata": {},
   "outputs": [
    {
     "data": {
      "text/plain": [
       "{1: [2, 3], 2: [1, 3], 3: [1, 2]}"
      ]
     },
     "execution_count": 32,
     "metadata": {},
     "output_type": "execute_result"
    }
   ],
   "source": [
    "x = [1,2,3]\n",
    "{i:list((set(x) - set([i]))) for i in x}"
   ]
  },
  {
   "cell_type": "code",
   "execution_count": 34,
   "id": "1a0e04b4",
   "metadata": {},
   "outputs": [
    {
     "data": {
      "text/plain": [
       "[[1], [3], [2], [5], [1, 3], [3, 2], [3, 5], [2, 5], [3, 2, 5]]"
      ]
     },
     "execution_count": 34,
     "metadata": {},
     "output_type": "execute_result"
    }
   ],
   "source": [
    "y"
   ]
  },
  {
   "cell_type": "code",
   "execution_count": 36,
   "id": "98d4e43b",
   "metadata": {},
   "outputs": [
    {
     "data": {
      "text/plain": [
       "[1, 2, 4, 5]"
      ]
     },
     "execution_count": 36,
     "metadata": {},
     "output_type": "execute_result"
    }
   ],
   "source": [
    "[1,2] + [4,5]"
   ]
  },
  {
   "cell_type": "code",
   "execution_count": null,
   "id": "07b0ffc1",
   "metadata": {},
   "outputs": [],
   "source": [
    "def f(x):\n",
    "    return {i:list((set(x) - set([i]))) for i in x}"
   ]
  },
  {
   "cell_type": "code",
   "execution_count": 37,
   "id": "7eead748",
   "metadata": {},
   "outputs": [
    {
     "name": "stdout",
     "output_type": "stream",
     "text": [
      "{1: [3], 3: [1]}\n",
      "{1: [2], 2: [1]}\n",
      "{1: [5], 5: [1]}\n",
      "{1: [3], 3: [1]}\n",
      "{1: [2, 3], 3: [1, 2], 2: [1, 3]}\n",
      "{1: [3, 5], 3: [1, 5], 5: [1, 3]}\n",
      "{1: [2, 5], 2: [1, 5], 5: [1, 2]}\n",
      "{1: [2, 3, 5], 3: [1, 2, 5], 2: [1, 3, 5], 5: [1, 2, 3]}\n",
      "{3: [2], 2: [3]}\n",
      "{3: [5], 5: [3]}\n",
      "{3: [1], 1: [3]}\n",
      "{3: [2], 2: [3]}\n",
      "{3: [5], 5: [3]}\n",
      "{3: [2, 5], 2: [3, 5], 5: [2, 3]}\n",
      "{3: [2, 5], 2: [3, 5], 5: [2, 3]}\n",
      "{2: [5], 5: [2]}\n",
      "{2: [1, 3], 1: [2, 3], 3: [1, 2]}\n",
      "{2: [3], 3: [2]}\n",
      "{2: [3, 5], 3: [2, 5], 5: [2, 3]}\n",
      "{2: [5], 5: [2]}\n",
      "{2: [3, 5], 3: [2, 5], 5: [2, 3]}\n",
      "{5: [1, 3], 1: [3, 5], 3: [1, 5]}\n",
      "{5: [2, 3], 3: [2, 5], 2: [3, 5]}\n",
      "{5: [3], 3: [5]}\n",
      "{5: [2], 2: [5]}\n",
      "{5: [2, 3], 3: [2, 5], 2: [3, 5]}\n",
      "{1: [2, 3], 3: [1, 2], 2: [1, 3]}\n",
      "{1: [3, 5], 3: [1, 5], 5: [1, 3]}\n",
      "{1: [2, 3, 5], 3: [1, 2, 5], 2: [1, 3, 5], 5: [1, 2, 3]}\n",
      "{1: [2, 3, 5], 3: [1, 2, 5], 2: [1, 3, 5], 5: [1, 2, 3]}\n",
      "{3: [2, 5], 2: [3, 5], 5: [2, 3]}\n",
      "{3: [2, 5], 2: [3, 5], 5: [2, 3]}\n",
      "{3: [2, 5], 2: [3, 5], 5: [2, 3]}\n",
      "{3: [2, 5], 5: [2, 3], 2: [3, 5]}\n",
      "{3: [2, 5], 5: [2, 3], 2: [3, 5]}\n",
      "{2: [3, 5], 5: [2, 3], 3: [2, 5]}\n"
     ]
    }
   ],
   "source": [
    "for i in range(len(y)):\n",
    "    for j in range(i+1,len(y)):\n",
    "        x = y[i] + y[j]\n",
    "        print(f(x))"
   ]
  },
  {
   "cell_type": "code",
   "execution_count": null,
   "id": "7eb1417b",
   "metadata": {},
   "outputs": [],
   "source": [
    "y = [[1], [3], [2], [5], [1, 3], [3, 2], [3, 5], [2, 5], [3, 2, 5]]\n",
    "def f(x):\n",
    "    return {i:list((set(x) - set([i]))) for i in x}\n",
    "\n",
    "lst = []\n",
    "for i in range(len(y)):\n",
    "    for j in range(i+1,len(y)):\n",
    "        x = y[i] + y[j]\n",
    "        lst.append(f(x))"
   ]
  }
 ],
 "metadata": {
  "kernelspec": {
   "display_name": "Python 3 (ipykernel)",
   "language": "python",
   "name": "python3"
  },
  "language_info": {
   "codemirror_mode": {
    "name": "ipython",
    "version": 3
   },
   "file_extension": ".py",
   "mimetype": "text/x-python",
   "name": "python",
   "nbconvert_exporter": "python",
   "pygments_lexer": "ipython3",
   "version": "3.8.5"
  }
 },
 "nbformat": 4,
 "nbformat_minor": 5
}
