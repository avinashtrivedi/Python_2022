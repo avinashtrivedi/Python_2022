{
 "cells": [
  {
   "cell_type": "code",
   "execution_count": 24,
   "id": "abe2c111",
   "metadata": {},
   "outputs": [],
   "source": [
    "import numpy as np\n",
    "import os"
   ]
  },
  {
   "cell_type": "code",
   "execution_count": 2,
   "id": "4a0ac470",
   "metadata": {},
   "outputs": [],
   "source": [
    "import warnings\n",
    "warnings.filterwarnings('ignore')"
   ]
  },
  {
   "cell_type": "code",
   "execution_count": 3,
   "id": "f63b7f4b",
   "metadata": {},
   "outputs": [],
   "source": [
    "from model import load_df, preprocess_df, impute_missing"
   ]
  },
  {
   "cell_type": "code",
   "execution_count": 4,
   "id": "560fd35d",
   "metadata": {},
   "outputs": [],
   "source": [
    "all_data_df = load_df(model_t_plus=1)"
   ]
  },
  {
   "cell_type": "code",
   "execution_count": 5,
   "id": "6d6c3305",
   "metadata": {},
   "outputs": [],
   "source": [
    "all_data_df = impute_missing(all_data_df)"
   ]
  },
  {
   "cell_type": "code",
   "execution_count": 6,
   "id": "08845dae",
   "metadata": {},
   "outputs": [],
   "source": [
    "all_data_df, to_pred, gc_time = preprocess_df(all_data_df, months_to_predict=['6.0_2022.0'], model_t_plus=1) "
   ]
  },
  {
   "cell_type": "code",
   "execution_count": 7,
   "id": "e336ee61",
   "metadata": {},
   "outputs": [],
   "source": [
    "scope_gcs = [\"ESV - PLS\",\n",
    "\"ESV - BCM\",\n",
    "\"DDV - IT\",\n",
    "\"FS - Banking and Capital Markets\",\n",
    "\"DDV - Operations\",\n",
    "\"Finance - Enterprise Performance Management\"]"
   ]
  },
  {
   "cell_type": "markdown",
   "id": "ec958123",
   "metadata": {},
   "source": [
    "## Models"
   ]
  },
  {
   "cell_type": "code",
   "execution_count": 8,
   "id": "9c9669d5",
   "metadata": {},
   "outputs": [],
   "source": [
    "from xgboost import XGBRegressor\n",
    "\n",
    "from sklearn.ensemble import RandomForestRegressor\n",
    "\n",
    "#model = RandomForestRegressor(n_estimators=125, max_depth = 3)\n",
    "\n",
    "model_xgb = XGBRegressor(n_estimators = 50, max_depth = 4, tree_method=\"hist\", enable_categorical=True)\n",
    "#model_xgb = XGBRegressor(n_estimators = 50, max_depth = 4)\n",
    "\n",
    "from sklearn.model_selection import train_test_split\n",
    "\n",
    "from sklearn.preprocessing import StandardScaler"
   ]
  },
  {
   "cell_type": "code",
   "execution_count": 9,
   "id": "8a6e0e84",
   "metadata": {},
   "outputs": [],
   "source": [
    "keep_columns = [ 'Amount added in pipe', 'Entries added in pipe', 'Unique accounts added in pipe', 'Amount won', 'Projects won', 'Unique accounts won', 'EM% mean', 'business_days', 'Fracn of team as As','Fracn of teams as Ms','As underutilized by', 'Ds underutilized by','log of team size']\n"
   ]
  },
  {
   "cell_type": "code",
   "execution_count": 10,
   "id": "fafbe1f3",
   "metadata": {},
   "outputs": [
    {
     "data": {
      "text/plain": [
       "Index(['Amount added in pipe', 'Unique accounts added in pipe',\n",
       "       'Entries added in pipe', 'Amount won', 'Unique accounts won',\n",
       "       'Projects won', 'Senior Manager_Util', 'Manager_Util', 'Associate_Util',\n",
       "       'Senior Associate_Util', 'Director_Util', 'Num Ms above target',\n",
       "       'Num SAs above target', 'Num Ds Above Target', 'Num SMs above target',\n",
       "       'Num As Above Target', 'Num As Below Target', 'Num SAs below target',\n",
       "       'Num Ds Below Target', 'Num SMs below target', 'Num Ms below target',\n",
       "       'SAs overutilized by', 'SMs overutilized by', 'As overutilized by',\n",
       "       'Ds overutilized by', 'Ms overutilized by', 'SAs underutilized by',\n",
       "       'SMs underutilized by', 'Ds underutilized by', 'Ms underutilized by',\n",
       "       'As underutilized by', 'Fracn of team as As', 'Fracn of team as SAs',\n",
       "       'Fracn of teams as SMs', 'Fracn of teams as Ds', 'Fracn of teams as Ms',\n",
       "       'Revenue Sum', 'EM% mean', 'Revenue Sum + 1', 'EM% mean + 1',\n",
       "       'Growth Cell', 'business_days', 'log of team size'],\n",
       "      dtype='object')"
      ]
     },
     "execution_count": 10,
     "metadata": {},
     "output_type": "execute_result"
    }
   ],
   "source": [
    "all_data_df.columns"
   ]
  },
  {
   "cell_type": "code",
   "execution_count": 11,
   "id": "4c2a3588",
   "metadata": {},
   "outputs": [],
   "source": [
    "y_log = all_data_df['Revenue Sum + 1']"
   ]
  },
  {
   "cell_type": "code",
   "execution_count": 12,
   "id": "fa0f9347",
   "metadata": {},
   "outputs": [],
   "source": [
    "X = all_data_df[keep_columns]"
   ]
  },
  {
   "cell_type": "code",
   "execution_count": 13,
   "id": "bb565cfb",
   "metadata": {},
   "outputs": [],
   "source": [
    "X_train, X_test, y_train, y_test = train_test_split(X, y_log, test_size=0.30, random_state=42)"
   ]
  },
  {
   "cell_type": "code",
   "execution_count": 14,
   "id": "1a1da02e",
   "metadata": {},
   "outputs": [
    {
     "data": {
      "text/plain": [
       "XGBRegressor(base_score=0.5, booster='gbtree', callbacks=None,\n",
       "             colsample_bylevel=1, colsample_bynode=1, colsample_bytree=1,\n",
       "             early_stopping_rounds=None, enable_categorical=True,\n",
       "             eval_metric=None, gamma=0, gpu_id=-1, grow_policy='depthwise',\n",
       "             importance_type=None, interaction_constraints='',\n",
       "             learning_rate=0.300000012, max_bin=256, max_cat_to_onehot=4,\n",
       "             max_delta_step=0, max_depth=4, max_leaves=0, min_child_weight=1,\n",
       "             missing=nan, monotone_constraints='()', n_estimators=50, n_jobs=0,\n",
       "             num_parallel_tree=1, predictor='auto', random_state=0, reg_alpha=0,\n",
       "             reg_lambda=1, ...)"
      ]
     },
     "execution_count": 14,
     "metadata": {},
     "output_type": "execute_result"
    }
   ],
   "source": [
    "model_xgb.fit(X_train, y_train)"
   ]
  },
  {
   "cell_type": "code",
   "execution_count": 15,
   "id": "cd4f3a87",
   "metadata": {},
   "outputs": [
    {
     "data": {
      "text/plain": [
       "0.984259880857257"
      ]
     },
     "execution_count": 15,
     "metadata": {},
     "output_type": "execute_result"
    }
   ],
   "source": [
    "model_xgb.score(X_train, y_train)"
   ]
  },
  {
   "cell_type": "code",
   "execution_count": 16,
   "id": "86b92d83",
   "metadata": {},
   "outputs": [
    {
     "data": {
      "text/plain": [
       "0.8401189093160855"
      ]
     },
     "execution_count": 16,
     "metadata": {},
     "output_type": "execute_result"
    }
   ],
   "source": [
    "model_xgb.score(X_test, y_test)"
   ]
  },
  {
   "cell_type": "code",
   "execution_count": 17,
   "id": "f6ae6cff",
   "metadata": {},
   "outputs": [],
   "source": [
    "from sklearn.feature_selection import SequentialFeatureSelector"
   ]
  },
  {
   "cell_type": "code",
   "execution_count": 18,
   "id": "8eb80cc2",
   "metadata": {},
   "outputs": [],
   "source": [
    "c=['Entries added in pipe', 'Unique accounts added in pipe',\n",
    "       'Amount added in pipe', 'Projects won', 'Unique accounts won',\n",
    "       'Amount won', 'Senior Associate_Util', 'Manager_Util', 'Associate_Util',\n",
    "       'Senior Manager_Util', 'Director_Util', 'Num SMs above target',\n",
    "       'Num Ds Above Target', 'Num As Above Target', 'Num Ms above target',\n",
    "       'Num SAs above target', 'Num As Below Target', 'Num Ms below target',\n",
    "       'Num SAs below target', 'Num Ds Below Target', 'Num SMs below target',\n",
    "       'SAs overutilized by', 'As overutilized by', 'Ms overutilized by',\n",
    "       'SMs overutilized by', 'Ds overutilized by', 'Ds underutilized by',\n",
    "       'SAs underutilized by', 'As underutilized by', 'Ms underutilized by',\n",
    "       'SMs underutilized by', 'Fracn of team as SAs', 'Fracn of teams as Ms',\n",
    "       'Fracn of team as As', 'Fracn of teams as SMs', 'Fracn of teams as Ds',\n",
    "       'Revenue Sum', 'EM% mean', 'EM% mean + 1',\n",
    "       'business_days', 'log of team size']"
   ]
  },
  {
   "cell_type": "code",
   "execution_count": 19,
   "id": "439c1a8e",
   "metadata": {},
   "outputs": [],
   "source": [
    "from joblib import dump, load"
   ]
  },
  {
   "cell_type": "code",
   "execution_count": null,
   "id": "f8139763",
   "metadata": {},
   "outputs": [],
   "source": [
    "for i in range(1, len(all_data_df.columns)):\n",
    "    xgb = XGBRegressor(n_estimators = 50, max_depth = 4, tree_method=\"hist\", enable_categorical=True)\n",
    "    sfs = SequentialFeatureSelector(xgb,n_features_to_select=i)\n",
    "    sfs.fit(all_data_df[c], all_data_df['Revenue Sum + 1'])\n",
    "    dump(sfs, 'features_and_models/' + str(i) + '_sfs.joblib')"
   ]
  },
  {
   "cell_type": "code",
   "execution_count": 31,
   "id": "0ae0dd08",
   "metadata": {},
   "outputs": [],
   "source": [
    "stats = []"
   ]
  },
  {
   "cell_type": "code",
   "execution_count": 32,
   "id": "01deb4e4",
   "metadata": {},
   "outputs": [],
   "source": [
    "for i in range(1,41):\n",
    "    sfs = load('features_and_models/' + str(i) + '_sfs.joblib')\n",
    "    X = sfs.transform(all_data_df[c])\n",
    "    X_train, X_test, y_train, y_test = train_test_split(X, y_log, test_size=0.30, random_state=42)\n",
    "    xgb = XGBRegressor(n_estimators = 50, max_depth = 4, tree_method=\"hist\", enable_categorical=True)\n",
    "    xgb.fit(X_train, y_train)\n",
    "    dump(xgb, 'features_and_models/' + str(i) + '_xgb.joblib')\n",
    "    stats.append([sfs.get_feature_names_out(), xgb.score(X_train, y_train), xgb.score(X_test, y_test)])"
   ]
  },
  {
   "cell_type": "code",
   "execution_count": 34,
   "id": "085e777a",
   "metadata": {},
   "outputs": [],
   "source": [
    "stats.sort(key=lambda x: x[2], reverse=True)"
   ]
  },
  {
   "cell_type": "code",
   "execution_count": 55,
   "id": "a7f5cad6",
   "metadata": {},
   "outputs": [
    {
     "data": {
      "text/plain": [
       "[array(['Amount won', 'Associate_Util', 'Num SMs above target',\n",
       "        'Num Ds Above Target', 'Num As Above Target',\n",
       "        'Num Ms above target', 'Num SAs above target',\n",
       "        'Num As Below Target', 'Num SAs below target',\n",
       "        'Num Ds Below Target', 'As overutilized by',\n",
       "        'SMs underutilized by', 'Fracn of team as As', 'Revenue Sum',\n",
       "        'EM% mean + 1'], dtype=object),\n",
       " 0.9933924364031038,\n",
       " 0.9196920107164297]"
      ]
     },
     "execution_count": 55,
     "metadata": {},
     "output_type": "execute_result"
    }
   ],
   "source": [
    "stats[0]"
   ]
  },
  {
   "cell_type": "code",
   "execution_count": 42,
   "id": "c27ab574",
   "metadata": {},
   "outputs": [
    {
     "name": "stdout",
     "output_type": "stream",
     "text": [
      "-16.186520727649427\n",
      "-4.44402702403491\n",
      "0.9933924364031038\n",
      "0.9196920107164297\n"
     ]
    }
   ],
   "source": [
    "final_features = ['Amount won', 'Associate_Util', 'Num SMs above target',\n",
    "        'Num Ds Above Target', 'Num As Above Target',\n",
    "        'Num Ms above target', 'Num SAs above target',\n",
    "        'Num As Below Target', 'Num SAs below target',\n",
    "        'Num Ds Below Target', 'As overutilized by',\n",
    "        'SMs underutilized by', 'Fracn of team as As', 'Revenue Sum',\n",
    "        'EM% mean + 1'] + ['Growth Cell']\n",
    "X = all_data_df[final_features]\n",
    "X_train, X_test, y_train, y_test = train_test_split(X, y_log, test_size=0.30, random_state=42)\n",
    "model_with_growth_cell = XGBRegressor(n_estimators = 50, max_depth = 4, tree_method=\"hist\", enable_categorical=True)\n",
    "model_with_growth_cell.fit(X_train, y_train)\n",
    "print(model_with_growth_cell.score(X_train, y_train))\n",
    "print(model_with_growth_cell.score(X_test, y_test))\n",
    "print(stats[0][1])\n",
    "print(stats[0][2])"
   ]
  },
  {
   "cell_type": "code",
   "execution_count": 44,
   "id": "f6fb86c6",
   "metadata": {},
   "outputs": [
    {
     "name": "stdout",
     "output_type": "stream",
     "text": [
      "0.9933924364031038\n",
      "0.9196920107164297\n"
     ]
    }
   ],
   "source": [
    "final_features = list(stats[0][0])\n",
    "X = all_data_df[final_features]\n",
    "X_train, X_test, y_train, y_test = train_test_split(X, y_log, test_size=0.30, random_state=42)\n",
    "final_model = load('features_and_models/' + str(len(stats[0][0])) + '_xgb.joblib')\n",
    "print(final_model.score(X_train, y_train))\n",
    "print(final_model.score(X_test, y_test))"
   ]
  },
  {
   "cell_type": "code",
   "execution_count": 45,
   "id": "bd5d9e60",
   "metadata": {},
   "outputs": [],
   "source": [
    "keep_columns = final_features"
   ]
  },
  {
   "cell_type": "markdown",
   "id": "7e8e3a16",
   "metadata": {},
   "source": [
    "# Predict for Future"
   ]
  },
  {
   "cell_type": "code",
   "execution_count": 46,
   "id": "c0ae6d75",
   "metadata": {
    "scrolled": true
   },
   "outputs": [],
   "source": [
    "to_pred_gc_time = to_pred[['Growth Cell', 'Time']]"
   ]
  },
  {
   "cell_type": "code",
   "execution_count": 47,
   "id": "f7076b5f",
   "metadata": {},
   "outputs": [],
   "source": [
    "#X_copy = to_pred_copy.drop(['Identifier', 'Growth Cell', 'Time'], axis = 1)\n",
    "X_copy = to_pred[keep_columns]"
   ]
  },
  {
   "cell_type": "code",
   "execution_count": 49,
   "id": "783084e2",
   "metadata": {},
   "outputs": [],
   "source": [
    "# pred_rev = (np.exp(model_xgb.predict(X_copy)) - 1)\n",
    "pred_rev = (np.exp(final_model.predict(X_copy)) - 1)"
   ]
  },
  {
   "cell_type": "code",
   "execution_count": 50,
   "id": "c495b6c9",
   "metadata": {},
   "outputs": [],
   "source": [
    "to_pred_gc_time['Revenue Sum'] = pred_rev"
   ]
  },
  {
   "cell_type": "code",
   "execution_count": 51,
   "id": "6756604e",
   "metadata": {
    "scrolled": true
   },
   "outputs": [
    {
     "data": {
      "text/html": [
       "<div>\n",
       "<style scoped>\n",
       "    .dataframe tbody tr th:only-of-type {\n",
       "        vertical-align: middle;\n",
       "    }\n",
       "\n",
       "    .dataframe tbody tr th {\n",
       "        vertical-align: top;\n",
       "    }\n",
       "\n",
       "    .dataframe thead th {\n",
       "        text-align: right;\n",
       "    }\n",
       "</style>\n",
       "<table border=\"1\" class=\"dataframe\">\n",
       "  <thead>\n",
       "    <tr style=\"text-align: right;\">\n",
       "      <th></th>\n",
       "      <th>Growth Cell</th>\n",
       "      <th>Time</th>\n",
       "      <th>Revenue Sum</th>\n",
       "    </tr>\n",
       "  </thead>\n",
       "  <tbody>\n",
       "    <tr>\n",
       "      <th>130</th>\n",
       "      <td>DDV - IT</td>\n",
       "      <td>6.0_2022.0</td>\n",
       "      <td>8.051817e+05</td>\n",
       "    </tr>\n",
       "    <tr>\n",
       "      <th>142</th>\n",
       "      <td>DDV - Operations</td>\n",
       "      <td>6.0_2022.0</td>\n",
       "      <td>9.341862e+04</td>\n",
       "    </tr>\n",
       "    <tr>\n",
       "      <th>166</th>\n",
       "      <td>ESV - BCM</td>\n",
       "      <td>6.0_2022.0</td>\n",
       "      <td>1.558476e+05</td>\n",
       "    </tr>\n",
       "    <tr>\n",
       "      <th>238</th>\n",
       "      <td>ESV - PLS</td>\n",
       "      <td>6.0_2022.0</td>\n",
       "      <td>9.101329e+04</td>\n",
       "    </tr>\n",
       "    <tr>\n",
       "      <th>274</th>\n",
       "      <td>FS - Banking and Capital Markets</td>\n",
       "      <td>6.0_2022.0</td>\n",
       "      <td>1.112598e+06</td>\n",
       "    </tr>\n",
       "    <tr>\n",
       "      <th>310</th>\n",
       "      <td>Finance - Enterprise Performance Management</td>\n",
       "      <td>6.0_2022.0</td>\n",
       "      <td>2.957688e+05</td>\n",
       "    </tr>\n",
       "  </tbody>\n",
       "</table>\n",
       "</div>"
      ],
      "text/plain": [
       "                                     Growth Cell        Time   Revenue Sum\n",
       "130                                     DDV - IT  6.0_2022.0  8.051817e+05\n",
       "142                             DDV - Operations  6.0_2022.0  9.341862e+04\n",
       "166                                    ESV - BCM  6.0_2022.0  1.558476e+05\n",
       "238                                    ESV - PLS  6.0_2022.0  9.101329e+04\n",
       "274             FS - Banking and Capital Markets  6.0_2022.0  1.112598e+06\n",
       "310  Finance - Enterprise Performance Management  6.0_2022.0  2.957688e+05"
      ]
     },
     "execution_count": 51,
     "metadata": {},
     "output_type": "execute_result"
    }
   ],
   "source": [
    "to_pred_gc_time[to_pred_gc_time['Growth Cell'].apply(lambda x: x in scope_gcs)]"
   ]
  },
  {
   "cell_type": "code",
   "execution_count": null,
   "id": "e7e8bfc5",
   "metadata": {},
   "outputs": [],
   "source": []
  }
 ],
 "metadata": {
  "kernelspec": {
   "display_name": "Python 3.7.13 ('base')",
   "language": "python",
   "name": "python3"
  },
  "language_info": {
   "codemirror_mode": {
    "name": "ipython",
    "version": 3
   },
   "file_extension": ".py",
   "mimetype": "text/x-python",
   "name": "python",
   "nbconvert_exporter": "python",
   "pygments_lexer": "ipython3",
   "version": "3.7.13"
  },
  "vscode": {
   "interpreter": {
    "hash": "a38351ae415a46c9357d181cbc0605f144b2a6ed92a3304311c05688b4cb644f"
   }
  }
 },
 "nbformat": 4,
 "nbformat_minor": 5
}
