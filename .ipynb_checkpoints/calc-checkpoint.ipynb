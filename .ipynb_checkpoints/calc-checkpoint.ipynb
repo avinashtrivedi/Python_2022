{
 "cells": [
  {
   "cell_type": "code",
   "execution_count": 1,
   "metadata": {},
   "outputs": [],
   "source": [
    "import math\n",
    "import statistics"
   ]
  },
  {
   "cell_type": "code",
   "execution_count": 2,
   "metadata": {},
   "outputs": [],
   "source": [
    "def calculatemath():\n",
    "    number_1 = int(input('Please enter the first number: '))\n",
    "\n",
    "    operation = input('''\n",
    "    Please type in the math operation you would like to complete:\n",
    "    + for addition\n",
    "    - for subtraction\n",
    "    * for multiplication\n",
    "    / for division\n",
    "    ''')\n",
    "    number_2 = int(input('Please enter the second number: '))\n",
    "    \n",
    "    if operation == '+':\n",
    "        print('{} + {} = {}'.format(number_1, number_2,number_1 + number_2))\n",
    "        \n",
    "    elif operation == '-':\n",
    "        print('{} - {} = {}'.format(number_1, number_2,number_1 - number_2))\n",
    "       \n",
    "    elif operation == '*':\n",
    "        print('{} * {} = {}'.format(number_1, number_2,number_1 * number_2))\n",
    "        \n",
    "    elif operation == '/':\n",
    "        try:\n",
    "            print('{} / {} = {}'.format(number_1, number_2,number_1 / number_2))\n",
    "        except:\n",
    "            print('Its Divide by Zero.')\n",
    "\n",
    "    else:\n",
    "        print('Invalid')"
   ]
  },
  {
   "cell_type": "code",
   "execution_count": 3,
   "metadata": {},
   "outputs": [],
   "source": [
    "def calculatestat():\n",
    "    num_list = []\n",
    "    while True:\n",
    "        num = input('Please Enter a number or type M for the Mean and S for Standard Deviation: ')\n",
    "        if num=='M':\n",
    "            print('Mean:',round(statistics.mean(num_list),2))\n",
    "            break\n",
    "        elif num=='S':\n",
    "            print('Standard Deviation:',round(statistics.stdev(num_list),2))\n",
    "            break\n",
    "        else:\n",
    "            try:\n",
    "                num = float(num)\n",
    "                num_list.append(num)\n",
    "            except:\n",
    "                print('Wrong input')"
   ]
  },
  {
   "cell_type": "code",
   "execution_count": 4,
   "metadata": {},
   "outputs": [
    {
     "name": "stdout",
     "output_type": "stream",
     "text": [
      "Choose between mathematical or statistical mode\n",
      "\n",
      "    1: Mathematical\n",
      "    2: Statistical\n",
      "    \n",
      "Enter The preferred mode: 2\n",
      "Please Enter a number or type M for the Mean and S for Standard Deviation: 41\n",
      "Please Enter a number or type M for the Mean and S for Standard Deviation: 52\n",
      "Please Enter a number or type M for the Mean and S for Standard Deviation: 52\n",
      "Please Enter a number or type M for the Mean and S for Standard Deviation: 566\n",
      "Please Enter a number or type M for the Mean and S for Standard Deviation: 221\n",
      "Please Enter a number or type M for the Mean and S for Standard Deviation: M\n",
      "Mean: 186.4\n",
      "Press X to continue , Q to exit or C to switch the mode: Q\n"
     ]
    }
   ],
   "source": [
    "print(\"Choose between mathematical or statistical mode\")\n",
    "print('''\n",
    "    1: Mathematical\n",
    "    2: Statistical\n",
    "    ''')\n",
    "mode = input('Enter The preferred mode: ')\n",
    "    \n",
    "while True:\n",
    "    if mode=='1':\n",
    "        calculatemath()\n",
    "    elif mode=='2':\n",
    "        calculatestat()\n",
    "        \n",
    "    decide = input('Press X to continue , Q to exit or C to switch the mode: ')\n",
    "    \n",
    "    if decide == 'Q':\n",
    "        break\n",
    "    elif decide == 'C':\n",
    "        \n",
    "        if mode=='1':\n",
    "            mode = '2'\n",
    "        elif mode == '2':\n",
    "            mode = '1'\n",
    "    elif decide == 'X':\n",
    "        continue"
   ]
  },
  {
   "cell_type": "code",
   "execution_count": null,
   "metadata": {},
   "outputs": [],
   "source": []
  }
 ],
 "metadata": {
  "kernelspec": {
   "display_name": "Python 3",
   "language": "python",
   "name": "python3"
  },
  "language_info": {
   "codemirror_mode": {
    "name": "ipython",
    "version": 3
   },
   "file_extension": ".py",
   "mimetype": "text/x-python",
   "name": "python",
   "nbconvert_exporter": "python",
   "pygments_lexer": "ipython3",
   "version": "3.8.5"
  }
 },
 "nbformat": 4,
 "nbformat_minor": 4
}
