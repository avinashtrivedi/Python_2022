{
 "cells": [
  {
   "cell_type": "code",
   "execution_count": 4,
   "id": "c6554d48",
   "metadata": {},
   "outputs": [],
   "source": [
    "import xml.etree.ElementTree as ET\n",
    "import pandas as pd\n",
    "import warnings\n",
    "warnings.filterwarnings('ignore')"
   ]
  },
  {
   "cell_type": "code",
   "execution_count": 6,
   "id": "05a7b496",
   "metadata": {},
   "outputs": [],
   "source": [
    "tree = ET.parse('Q22020_35460_20220316.xml')\n",
    "# root = list(tree.getroot()) \n",
    "# x = root[0]"
   ]
  },
  {
   "cell_type": "code",
   "execution_count": 11,
   "id": "4b653d0d",
   "metadata": {},
   "outputs": [],
   "source": [
    "root = tree.getroot()"
   ]
  },
  {
   "cell_type": "code",
   "execution_count": 14,
   "id": "3a913a54",
   "metadata": {},
   "outputs": [],
   "source": [
    "header = list(root)[0]"
   ]
  },
  {
   "cell_type": "code",
   "execution_count": 16,
   "id": "f57d9ef4",
   "metadata": {},
   "outputs": [
    {
     "data": {
      "text/plain": [
       "[<Element 'RECDATE' at 0x0000025C5DBBAE50>,\n",
       " <Element 'SURVEY_COUNT' at 0x0000025C5DBBAD10>,\n",
       " <Element 'QUESTION_MAP' at 0x0000025C5DBBAF40>]"
      ]
     },
     "execution_count": 16,
     "metadata": {},
     "output_type": "execute_result"
    }
   ],
   "source": [
    "list(header)"
   ]
  },
  {
   "cell_type": "code",
   "execution_count": 20,
   "id": "c191ab6a",
   "metadata": {},
   "outputs": [],
   "source": [
    "st = list(list(header)[0])[0]"
   ]
  },
  {
   "cell_type": "code",
   "execution_count": 22,
   "id": "b4ebdfc2",
   "metadata": {},
   "outputs": [
    {
     "data": {
      "text/plain": [
       "'2020-04-01'"
      ]
     },
     "execution_count": 22,
     "metadata": {},
     "output_type": "execute_result"
    }
   ],
   "source": [
    "st.text"
   ]
  },
  {
   "cell_type": "code",
   "execution_count": 23,
   "id": "608d7931",
   "metadata": {},
   "outputs": [
    {
     "data": {
      "text/plain": [
       "'START'"
      ]
     },
     "execution_count": 23,
     "metadata": {},
     "output_type": "execute_result"
    }
   ],
   "source": [
    "st.tag"
   ]
  },
  {
   "cell_type": "code",
   "execution_count": 25,
   "id": "6c65aa95",
   "metadata": {},
   "outputs": [
    {
     "data": {
      "text/plain": [
       "'START'"
      ]
     },
     "execution_count": 25,
     "metadata": {},
     "output_type": "execute_result"
    }
   ],
   "source": [
    "st.tag"
   ]
  },
  {
   "cell_type": "code",
   "execution_count": 26,
   "id": "ecafe9e4",
   "metadata": {},
   "outputs": [
    {
     "data": {
      "text/plain": [
       "'2020-04-01'"
      ]
     },
     "execution_count": 26,
     "metadata": {},
     "output_type": "execute_result"
    }
   ],
   "source": [
    "st.text"
   ]
  },
  {
   "cell_type": "code",
   "execution_count": null,
   "id": "80e464e7",
   "metadata": {},
   "outputs": [],
   "source": []
  }
 ],
 "metadata": {
  "kernelspec": {
   "display_name": "Python 3 (ipykernel)",
   "language": "python",
   "name": "python3"
  },
  "language_info": {
   "codemirror_mode": {
    "name": "ipython",
    "version": 3
   },
   "file_extension": ".py",
   "mimetype": "text/x-python",
   "name": "python",
   "nbconvert_exporter": "python",
   "pygments_lexer": "ipython3",
   "version": "3.8.5"
  }
 },
 "nbformat": 4,
 "nbformat_minor": 5
}
