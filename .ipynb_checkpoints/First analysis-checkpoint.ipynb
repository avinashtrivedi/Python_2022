{
 "cells": [
  {
   "cell_type": "code",
   "execution_count": 35,
   "id": "befe7165",
   "metadata": {},
   "outputs": [],
   "source": [
    "import pandas as pd\n",
    "import numpy as np"
   ]
  },
  {
   "cell_type": "code",
   "execution_count": 36,
   "id": "02321305",
   "metadata": {},
   "outputs": [],
   "source": [
    "data = pd.read_csv('Utterances_Training_dataset-sample.csv')"
   ]
  },
  {
   "cell_type": "code",
   "execution_count": 37,
   "id": "5840d5f3",
   "metadata": {},
   "outputs": [
    {
     "data": {
      "text/html": [
       "<div>\n",
       "<style scoped>\n",
       "    .dataframe tbody tr th:only-of-type {\n",
       "        vertical-align: middle;\n",
       "    }\n",
       "\n",
       "    .dataframe tbody tr th {\n",
       "        vertical-align: top;\n",
       "    }\n",
       "\n",
       "    .dataframe thead th {\n",
       "        text-align: right;\n",
       "    }\n",
       "</style>\n",
       "<table border=\"1\" class=\"dataframe\">\n",
       "  <thead>\n",
       "    <tr style=\"text-align: right;\">\n",
       "      <th></th>\n",
       "      <th>utterance</th>\n",
       "      <th>intent</th>\n",
       "      <th>userID</th>\n",
       "      <th>time</th>\n",
       "      <th>channel</th>\n",
       "    </tr>\n",
       "  </thead>\n",
       "  <tbody>\n",
       "    <tr>\n",
       "      <th>0</th>\n",
       "      <td>i need a profile</td>\n",
       "      <td>create_account</td>\n",
       "      <td>u-10ca13ab-0648-5313-928c-c4c3b595b8a5</td>\n",
       "      <td>05-03-2022 (3:22 PM)</td>\n",
       "      <td>rtm</td>\n",
       "    </tr>\n",
       "    <tr>\n",
       "      <th>1</th>\n",
       "      <td>can u ask an agent to give me information abou...</td>\n",
       "      <td>check_invoices</td>\n",
       "      <td>u-18005eb4-ab01-5f0e-8cb5-329a0e80ad93</td>\n",
       "      <td>05-03-2022 (3:22 PM)</td>\n",
       "      <td>rtm</td>\n",
       "    </tr>\n",
       "    <tr>\n",
       "      <th>2</th>\n",
       "      <td>I have a problem when trying to pay with card,...</td>\n",
       "      <td>payment_issue</td>\n",
       "      <td>u-62cdfbe5-4e3e-56b1-a051-ddb16734e127</td>\n",
       "      <td>05-03-2022 (3:22 PM)</td>\n",
       "      <td>rtm</td>\n",
       "    </tr>\n",
       "    <tr>\n",
       "      <th>3</th>\n",
       "      <td>help me solve issues paying</td>\n",
       "      <td>payment_issue</td>\n",
       "      <td>u-725460ea-c6ae-5d50-9d8b-bfffc01aafa5</td>\n",
       "      <td>05-03-2022 (3:22 PM)</td>\n",
       "      <td>Webhook</td>\n",
       "    </tr>\n",
       "    <tr>\n",
       "      <th>4</th>\n",
       "      <td>how to contact a person</td>\n",
       "      <td>contact_human_agent</td>\n",
       "      <td>u-3a18de6a-a268-5d66-93d5-37c007067089</td>\n",
       "      <td>05-03-2022 (3:22 PM)</td>\n",
       "      <td>Webhook</td>\n",
       "    </tr>\n",
       "    <tr>\n",
       "      <th>...</th>\n",
       "      <td>...</td>\n",
       "      <td>...</td>\n",
       "      <td>...</td>\n",
       "      <td>...</td>\n",
       "      <td>...</td>\n",
       "    </tr>\n",
       "    <tr>\n",
       "      <th>177</th>\n",
       "      <td>how to check the delivery options</td>\n",
       "      <td>delivery_options</td>\n",
       "      <td>u-25d27d27-721c-52a0-b33b-766d025911ff</td>\n",
       "      <td>05-03-2022 (3:21 PM)</td>\n",
       "      <td>rtm</td>\n",
       "    </tr>\n",
       "    <tr>\n",
       "      <th>178</th>\n",
       "      <td>I don't awnt my account, cancel it</td>\n",
       "      <td>delete_account</td>\n",
       "      <td>u-a53f2745-6727-509b-8f60-f44c09c7d0df</td>\n",
       "      <td>05-03-2022 (3:21 PM)</td>\n",
       "      <td>Webhook</td>\n",
       "    </tr>\n",
       "    <tr>\n",
       "      <th>179</th>\n",
       "      <td>i want to inform of a problem making a payment</td>\n",
       "      <td>payment_issue</td>\n",
       "      <td>u-335b9095-bbc1-5748-ae22-fb6c478f2720</td>\n",
       "      <td>05-03-2022 (3:21 PM)</td>\n",
       "      <td>rtm</td>\n",
       "    </tr>\n",
       "    <tr>\n",
       "      <th>180</th>\n",
       "      <td>I want to lodge a consumer complaint</td>\n",
       "      <td>complaint</td>\n",
       "      <td>u-8a32d77f-4671-55ce-8af0-6e8c35b90ebf</td>\n",
       "      <td>05-03-2022 (3:21 PM)</td>\n",
       "      <td>rtm</td>\n",
       "    </tr>\n",
       "    <tr>\n",
       "      <th>181</th>\n",
       "      <td>I need an account , what can I do to create one?</td>\n",
       "      <td>create_account</td>\n",
       "      <td>u-3a5248bf-7da2-5c87-ac8e-61b2a299592b</td>\n",
       "      <td>05-03-2022 (3:21 PM)</td>\n",
       "      <td>rtm</td>\n",
       "    </tr>\n",
       "  </tbody>\n",
       "</table>\n",
       "<p>182 rows × 5 columns</p>\n",
       "</div>"
      ],
      "text/plain": [
       "                                             utterance               intent  \\\n",
       "0                                     i need a profile       create_account   \n",
       "1    can u ask an agent to give me information abou...       check_invoices   \n",
       "2    I have a problem when trying to pay with card,...        payment_issue   \n",
       "3                          help me solve issues paying        payment_issue   \n",
       "4                              how to contact a person  contact_human_agent   \n",
       "..                                                 ...                  ...   \n",
       "177                  how to check the delivery options     delivery_options   \n",
       "178                 I don't awnt my account, cancel it       delete_account   \n",
       "179     i want to inform of a problem making a payment        payment_issue   \n",
       "180               I want to lodge a consumer complaint            complaint   \n",
       "181   I need an account , what can I do to create one?       create_account   \n",
       "\n",
       "                                     userID                  time  channel  \n",
       "0    u-10ca13ab-0648-5313-928c-c4c3b595b8a5  05-03-2022 (3:22 PM)      rtm  \n",
       "1    u-18005eb4-ab01-5f0e-8cb5-329a0e80ad93  05-03-2022 (3:22 PM)      rtm  \n",
       "2    u-62cdfbe5-4e3e-56b1-a051-ddb16734e127  05-03-2022 (3:22 PM)      rtm  \n",
       "3    u-725460ea-c6ae-5d50-9d8b-bfffc01aafa5  05-03-2022 (3:22 PM)  Webhook  \n",
       "4    u-3a18de6a-a268-5d66-93d5-37c007067089  05-03-2022 (3:22 PM)  Webhook  \n",
       "..                                      ...                   ...      ...  \n",
       "177  u-25d27d27-721c-52a0-b33b-766d025911ff  05-03-2022 (3:21 PM)      rtm  \n",
       "178  u-a53f2745-6727-509b-8f60-f44c09c7d0df  05-03-2022 (3:21 PM)  Webhook  \n",
       "179  u-335b9095-bbc1-5748-ae22-fb6c478f2720  05-03-2022 (3:21 PM)      rtm  \n",
       "180  u-8a32d77f-4671-55ce-8af0-6e8c35b90ebf  05-03-2022 (3:21 PM)      rtm  \n",
       "181  u-3a5248bf-7da2-5c87-ac8e-61b2a299592b  05-03-2022 (3:21 PM)      rtm  \n",
       "\n",
       "[182 rows x 5 columns]"
      ]
     },
     "execution_count": 37,
     "metadata": {},
     "output_type": "execute_result"
    }
   ],
   "source": [
    "data"
   ]
  },
  {
   "cell_type": "code",
   "execution_count": 38,
   "id": "a4791636",
   "metadata": {},
   "outputs": [
    {
     "data": {
      "text/plain": [
       "payment_issue               41\n",
       "contact_customer_service    20\n",
       "create_account              16\n",
       "track_order                 15\n",
       "get_invoice                 14\n",
       "get_refund                  11\n",
       "delete_account              11\n",
       "check_invoices              10\n",
       "contact_human_agent          8\n",
       "check_refund_policy          5\n",
       "recover_password             4\n",
       "review                       4\n",
       "complaint                    4\n",
       "track_refund                 3\n",
       "delivery_options             3\n",
       "No Match                     3\n",
       "check_payment_methods        3\n",
       "check_cancellation_fee       2\n",
       "edit_account                 1\n",
       "delivery_period              1\n",
       "change_order                 1\n",
       "change_shipping_address      1\n",
       "switch_account               1\n",
       "Name: intent, dtype: int64"
      ]
     },
     "execution_count": 38,
     "metadata": {},
     "output_type": "execute_result"
    }
   ],
   "source": [
    "data['intent'].value_counts()"
   ]
  },
  {
   "cell_type": "code",
   "execution_count": 39,
   "id": "0e0ee77a",
   "metadata": {},
   "outputs": [
    {
     "data": {
      "text/plain": [
       "rtm        165\n",
       "Webhook     17\n",
       "Name: channel, dtype: int64"
      ]
     },
     "execution_count": 39,
     "metadata": {},
     "output_type": "execute_result"
    }
   ],
   "source": [
    "data['channel'].value_counts()"
   ]
  },
  {
   "cell_type": "code",
   "execution_count": 19,
   "id": "50ec4a2a",
   "metadata": {},
   "outputs": [],
   "source": [
    "# data.loc[data['intent'] == 'No Match', 'intent'] = np.NaN"
   ]
  },
  {
   "cell_type": "code",
   "execution_count": 40,
   "id": "fe3b9c43",
   "metadata": {},
   "outputs": [],
   "source": [
    "# data[data['intent'].isna()]"
   ]
  },
  {
   "cell_type": "markdown",
   "id": "268f983d",
   "metadata": {},
   "source": [
    "## Check and transform data types"
   ]
  },
  {
   "cell_type": "code",
   "execution_count": 41,
   "id": "5bbac414",
   "metadata": {},
   "outputs": [
    {
     "data": {
      "text/plain": [
       "utterance    object\n",
       "intent       object\n",
       "userID       object\n",
       "time         object\n",
       "channel      object\n",
       "dtype: object"
      ]
     },
     "execution_count": 41,
     "metadata": {},
     "output_type": "execute_result"
    }
   ],
   "source": [
    "data.dtypes"
   ]
  },
  {
   "cell_type": "code",
   "execution_count": 42,
   "id": "70da96f6",
   "metadata": {},
   "outputs": [],
   "source": [
    "data['intent'] = data['intent'].astype('category')"
   ]
  },
  {
   "cell_type": "code",
   "execution_count": 43,
   "id": "961ef8eb",
   "metadata": {},
   "outputs": [],
   "source": [
    "data['channel'] = data['channel'].astype('category')"
   ]
  },
  {
   "cell_type": "code",
   "execution_count": 44,
   "id": "9c6b6372",
   "metadata": {},
   "outputs": [],
   "source": [
    "data['time'] = pd.to_datetime(data['time'], format='%m-%d-%Y (%H:%M %p)')"
   ]
  },
  {
   "cell_type": "code",
   "execution_count": 45,
   "id": "071f60d3",
   "metadata": {},
   "outputs": [
    {
     "data": {
      "text/plain": [
       "utterance            object\n",
       "intent             category\n",
       "userID               object\n",
       "time         datetime64[ns]\n",
       "channel            category\n",
       "dtype: object"
      ]
     },
     "execution_count": 45,
     "metadata": {},
     "output_type": "execute_result"
    }
   ],
   "source": [
    "data.dtypes"
   ]
  },
  {
   "cell_type": "code",
   "execution_count": 46,
   "id": "e868963a",
   "metadata": {},
   "outputs": [
    {
     "data": {
      "text/plain": [
       "0           create_account\n",
       "1           check_invoices\n",
       "2            payment_issue\n",
       "3            payment_issue\n",
       "4      contact_human_agent\n",
       "              ...         \n",
       "177       delivery_options\n",
       "178         delete_account\n",
       "179          payment_issue\n",
       "180              complaint\n",
       "181         create_account\n",
       "Name: intent, Length: 182, dtype: category\n",
       "Categories (23, object): ['No Match', 'change_order', 'change_shipping_address', 'check_cancellation_fee', ..., 'review', 'switch_account', 'track_order', 'track_refund']"
      ]
     },
     "execution_count": 46,
     "metadata": {},
     "output_type": "execute_result"
    }
   ],
   "source": [
    "data['intent']  # gives additional functionality (work with cateogries), unique cats; save a lot of memory"
   ]
  },
  {
   "cell_type": "code",
   "execution_count": 47,
   "id": "54a85bf9",
   "metadata": {},
   "outputs": [
    {
     "data": {
      "text/plain": [
       "(Timestamp('2022-05-03 03:21:00'), Timestamp('2022-05-03 03:22:00'))"
      ]
     },
     "execution_count": 47,
     "metadata": {},
     "output_type": "execute_result"
    }
   ],
   "source": [
    "# the whole dataset is just one minute\n",
    "data['time'].min(), data['time'].max()"
   ]
  },
  {
   "cell_type": "code",
   "execution_count": 48,
   "id": "479f3603",
   "metadata": {},
   "outputs": [],
   "source": [
    "def has_worked(value):\n",
    "    if value == 'No Match':\n",
    "        return False\n",
    "    return True"
   ]
  },
  {
   "cell_type": "markdown",
   "id": "6d50529a",
   "metadata": {},
   "source": [
    "Plot time vs failure: it will show you when failure occurred and whether there is a pattern.\n",
    "\n",
    "https://www.dataquest.io/blog/tutorial-time-series-analysis-with-pandas/"
   ]
  },
  {
   "cell_type": "code",
   "execution_count": 50,
   "id": "f40fd8e5",
   "metadata": {},
   "outputs": [],
   "source": [
    "data['intent extracted'] = data['intent'].apply(has_worked)"
   ]
  },
  {
   "cell_type": "markdown",
   "id": "26b94d88",
   "metadata": {},
   "source": [
    "## Statistics"
   ]
  },
  {
   "cell_type": "code",
   "execution_count": 73,
   "id": "06e276a5",
   "metadata": {},
   "outputs": [
    {
     "data": {
      "text/plain": [
       "(179, 182)"
      ]
     },
     "execution_count": 73,
     "metadata": {},
     "output_type": "execute_result"
    }
   ],
   "source": [
    "# how many times the intent was extracted\n",
    "data['intent extracted'].sum(), len(data['intent extracted'])"
   ]
  },
  {
   "cell_type": "code",
   "execution_count": 72,
   "id": "24a725dd",
   "metadata": {},
   "outputs": [
    {
     "name": "stdout",
     "output_type": "stream",
     "text": [
      "How many times the intent was extracted: 98.35%\n"
     ]
    }
   ],
   "source": [
    "# percentage of times when the intent was extracted\n",
    "p = data['intent extracted'].mean()\n",
    "print(f\"How many times the intent was extracted: {p:.2%}\")"
   ]
  },
  {
   "cell_type": "markdown",
   "id": "e3c00c1d",
   "metadata": {},
   "source": [
    "### Distribution by channels and by intent failed\n",
    "\n",
    "For how many channels did the intent fail?"
   ]
  },
  {
   "cell_type": "code",
   "execution_count": 77,
   "id": "9429eeee",
   "metadata": {},
   "outputs": [
    {
     "data": {
      "text/html": [
       "<div>\n",
       "<style scoped>\n",
       "    .dataframe tbody tr th:only-of-type {\n",
       "        vertical-align: middle;\n",
       "    }\n",
       "\n",
       "    .dataframe tbody tr th {\n",
       "        vertical-align: top;\n",
       "    }\n",
       "\n",
       "    .dataframe thead th {\n",
       "        text-align: right;\n",
       "    }\n",
       "</style>\n",
       "<table border=\"1\" class=\"dataframe\">\n",
       "  <thead>\n",
       "    <tr style=\"text-align: right;\">\n",
       "      <th></th>\n",
       "      <th></th>\n",
       "      <th>0</th>\n",
       "    </tr>\n",
       "    <tr>\n",
       "      <th>intent extracted</th>\n",
       "      <th>channel</th>\n",
       "      <th></th>\n",
       "    </tr>\n",
       "  </thead>\n",
       "  <tbody>\n",
       "    <tr>\n",
       "      <th rowspan=\"2\" valign=\"top\">False</th>\n",
       "      <th>Webhook</th>\n",
       "      <td>0</td>\n",
       "    </tr>\n",
       "    <tr>\n",
       "      <th>rtm</th>\n",
       "      <td>3</td>\n",
       "    </tr>\n",
       "    <tr>\n",
       "      <th rowspan=\"2\" valign=\"top\">True</th>\n",
       "      <th>Webhook</th>\n",
       "      <td>17</td>\n",
       "    </tr>\n",
       "    <tr>\n",
       "      <th>rtm</th>\n",
       "      <td>162</td>\n",
       "    </tr>\n",
       "  </tbody>\n",
       "</table>\n",
       "</div>"
      ],
      "text/plain": [
       "                            0\n",
       "intent extracted channel     \n",
       "False            Webhook    0\n",
       "                 rtm        3\n",
       "True             Webhook   17\n",
       "                 rtm      162"
      ]
     },
     "execution_count": 77,
     "metadata": {},
     "output_type": "execute_result"
    }
   ],
   "source": [
    "data.groupby(['intent extracted', 'channel']).size().to_frame()"
   ]
  },
  {
   "cell_type": "code",
   "execution_count": 85,
   "id": "f20778c4",
   "metadata": {},
   "outputs": [],
   "source": [
    "# categorical plot - barplot from seaborn\n",
    "\n",
    "# sns.barplot(x, y )"
   ]
  },
  {
   "cell_type": "markdown",
   "id": "2c5b2d9a",
   "metadata": {},
   "source": [
    "## Work with text"
   ]
  },
  {
   "cell_type": "code",
   "execution_count": 87,
   "id": "ce8c9ce2",
   "metadata": {},
   "outputs": [],
   "source": [
    "data['text length'] = data['utterance'].str.split().apply(len)"
   ]
  },
  {
   "cell_type": "code",
   "execution_count": 90,
   "id": "98a40d5b",
   "metadata": {},
   "outputs": [
    {
     "data": {
      "text/plain": [
       "['i need a profile',\n",
       " 'can u ask an agent to give me information about my bill?',\n",
       " 'I have a problem when trying to pay with card, inform of it',\n",
       " 'help me solve issues paying',\n",
       " 'how to contact a person',\n",
       " 'can I check my shipments?',\n",
       " 'i want information about your reimbursement policy',\n",
       " 'could you ask an agent to check their money back policy, please?',\n",
       " 'can you see some bills?',\n",
       " 'I have an issue when trying to pay for my online order, can I notify it?']"
      ]
     },
     "execution_count": 90,
     "metadata": {},
     "output_type": "execute_result"
    }
   ],
   "source": [
    "data['utterance'].tolist()[:10]"
   ]
  },
  {
   "cell_type": "code",
   "execution_count": 91,
   "id": "7257aef7",
   "metadata": {},
   "outputs": [],
   "source": [
    "# Length of the text for failed intent vs length of the text for recognized intent\n",
    "# the hypothesis is that maybe? the texts with failed intent are much longer or much shorter  "
   ]
  },
  {
   "cell_type": "code",
   "execution_count": 94,
   "id": "edd10f10",
   "metadata": {},
   "outputs": [
    {
     "data": {
      "text/html": [
       "<div>\n",
       "<style scoped>\n",
       "    .dataframe tbody tr th:only-of-type {\n",
       "        vertical-align: middle;\n",
       "    }\n",
       "\n",
       "    .dataframe tbody tr th {\n",
       "        vertical-align: top;\n",
       "    }\n",
       "\n",
       "    .dataframe thead th {\n",
       "        text-align: right;\n",
       "    }\n",
       "</style>\n",
       "<table border=\"1\" class=\"dataframe\">\n",
       "  <thead>\n",
       "    <tr style=\"text-align: right;\">\n",
       "      <th></th>\n",
       "      <th>text length</th>\n",
       "    </tr>\n",
       "    <tr>\n",
       "      <th>intent extracted</th>\n",
       "      <th></th>\n",
       "    </tr>\n",
       "  </thead>\n",
       "  <tbody>\n",
       "    <tr>\n",
       "      <th>False</th>\n",
       "      <td>12.333333</td>\n",
       "    </tr>\n",
       "    <tr>\n",
       "      <th>True</th>\n",
       "      <td>10.620112</td>\n",
       "    </tr>\n",
       "  </tbody>\n",
       "</table>\n",
       "</div>"
      ],
      "text/plain": [
       "                  text length\n",
       "intent extracted             \n",
       "False               12.333333\n",
       "True                10.620112"
      ]
     },
     "execution_count": 94,
     "metadata": {},
     "output_type": "execute_result"
    }
   ],
   "source": [
    "data.groupby('intent extracted').agg({'text length': \"mean\"})"
   ]
  },
  {
   "cell_type": "code",
   "execution_count": null,
   "id": "3833e8f5",
   "metadata": {},
   "outputs": [],
   "source": [
    "# make graphs by group: make one graph for failed (text length)"
   ]
  },
  {
   "cell_type": "code",
   "execution_count": 100,
   "id": "c73cc5a4",
   "metadata": {},
   "outputs": [],
   "source": [
    "# how to extract group data\n",
    "\n",
    "failure = data.groupby('intent extracted').groups[False]\n",
    "success = data.groupby('intent extracted').groups[True]"
   ]
  },
  {
   "cell_type": "code",
   "execution_count": 101,
   "id": "9ae30cd5",
   "metadata": {},
   "outputs": [
    {
     "data": {
      "text/html": [
       "<div>\n",
       "<style scoped>\n",
       "    .dataframe tbody tr th:only-of-type {\n",
       "        vertical-align: middle;\n",
       "    }\n",
       "\n",
       "    .dataframe tbody tr th {\n",
       "        vertical-align: top;\n",
       "    }\n",
       "\n",
       "    .dataframe thead th {\n",
       "        text-align: right;\n",
       "    }\n",
       "</style>\n",
       "<table border=\"1\" class=\"dataframe\">\n",
       "  <thead>\n",
       "    <tr style=\"text-align: right;\">\n",
       "      <th></th>\n",
       "      <th>utterance</th>\n",
       "      <th>intent</th>\n",
       "      <th>userID</th>\n",
       "      <th>time</th>\n",
       "      <th>channel</th>\n",
       "      <th>intent extracted</th>\n",
       "      <th>text length</th>\n",
       "    </tr>\n",
       "  </thead>\n",
       "  <tbody>\n",
       "    <tr>\n",
       "      <th>39</th>\n",
       "      <td>tell me if there's a newsletter to keep me inf...</td>\n",
       "      <td>No Match</td>\n",
       "      <td>u-3b083f19-647e-50d2-b37b-3338197f4056</td>\n",
       "      <td>2022-05-03 03:22:00</td>\n",
       "      <td>rtm</td>\n",
       "      <td>False</td>\n",
       "      <td>10</td>\n",
       "    </tr>\n",
       "    <tr>\n",
       "      <th>42</th>\n",
       "      <td>can you tell me if there's a newsletter I can ...</td>\n",
       "      <td>No Match</td>\n",
       "      <td>u-d1213aad-3b9c-5dc1-820a-4607ac6090ac</td>\n",
       "      <td>2022-05-03 03:22:00</td>\n",
       "      <td>rtm</td>\n",
       "      <td>False</td>\n",
       "      <td>13</td>\n",
       "    </tr>\n",
       "    <tr>\n",
       "      <th>125</th>\n",
       "      <td>I wanna receive the newsletter, can you tell m...</td>\n",
       "      <td>No Match</td>\n",
       "      <td>u-1c35776b-4daa-5329-92a3-a901f719e06d</td>\n",
       "      <td>2022-05-03 03:21:00</td>\n",
       "      <td>rtm</td>\n",
       "      <td>False</td>\n",
       "      <td>14</td>\n",
       "    </tr>\n",
       "  </tbody>\n",
       "</table>\n",
       "</div>"
      ],
      "text/plain": [
       "                                             utterance    intent  \\\n",
       "39   tell me if there's a newsletter to keep me inf...  No Match   \n",
       "42   can you tell me if there's a newsletter I can ...  No Match   \n",
       "125  I wanna receive the newsletter, can you tell m...  No Match   \n",
       "\n",
       "                                     userID                time channel  \\\n",
       "39   u-3b083f19-647e-50d2-b37b-3338197f4056 2022-05-03 03:22:00     rtm   \n",
       "42   u-d1213aad-3b9c-5dc1-820a-4607ac6090ac 2022-05-03 03:22:00     rtm   \n",
       "125  u-1c35776b-4daa-5329-92a3-a901f719e06d 2022-05-03 03:21:00     rtm   \n",
       "\n",
       "    intent extracted  text length  \n",
       "39             False           10  \n",
       "42             False           13  \n",
       "125            False           14  "
      ]
     },
     "execution_count": 101,
     "metadata": {},
     "output_type": "execute_result"
    }
   ],
   "source": [
    "data.loc[failure]"
   ]
  },
  {
   "cell_type": "code",
   "execution_count": 103,
   "id": "853d7f2a",
   "metadata": {},
   "outputs": [
    {
     "data": {
      "text/plain": [
       "<AxesSubplot:>"
      ]
     },
     "execution_count": 103,
     "metadata": {},
     "output_type": "execute_result"
    },
    {
     "data": {
      "image/png": "[encoded data removed]",
      "text/plain": [
       "<Figure size 432x288 with 1 Axes>"
      ]
     },
     "metadata": {
      "needs_background": "light"
     },
     "output_type": "display_data"
    }
   ],
   "source": [
    "data.loc[success]['text length'].hist()"
   ]
  },
  {
   "cell_type": "code",
   "execution_count": 105,
   "id": "1eee9b31",
   "metadata": {},
   "outputs": [
    {
     "data": {
      "text/plain": [
       "<AxesSubplot:>"
      ]
     },
     "execution_count": 105,
     "metadata": {},
     "output_type": "execute_result"
    },
    {
     "data": {
      "image/png": "[encoded data removed]",
      "text/plain": [
       "<Figure size 432x288 with 1 Axes>"
      ]
     },
     "metadata": {
      "needs_background": "light"
     },
     "output_type": "display_data"
    }
   ],
   "source": [
    "data.loc[failure]['text length'].hist() # seaborn, two subplots"
   ]
  },
  {
   "cell_type": "markdown",
   "id": "45269ea8",
   "metadata": {},
   "source": [
    "### Removing functional words\n",
    "\n",
    "Most popular words for failed intent."
   ]
  },
  {
   "cell_type": "code",
   "execution_count": 5,
   "id": "b4c02b54",
   "metadata": {},
   "outputs": [
    {
     "ename": "ModuleNotFoundError",
     "evalue": "No module named 'selenium'",
     "output_type": "error",
     "traceback": [
      "\u001b[1;31m---------------------------------------------------------------------------\u001b[0m",
      "\u001b[1;31mModuleNotFoundError\u001b[0m                       Traceback (most recent call last)",
      "\u001b[1;32m<ipython-input-5-b0e9b81e9240>\u001b[0m in \u001b[0;36m<module>\u001b[1;34m\u001b[0m\n\u001b[1;32m----> 1\u001b[1;33m \u001b[1;32mimport\u001b[0m \u001b[0mselenium\u001b[0m \u001b[1;32mas\u001b[0m \u001b[0mse\u001b[0m\u001b[1;33m\u001b[0m\u001b[1;33m\u001b[0m\u001b[0m\n\u001b[0m",
      "\u001b[1;31mModuleNotFoundError\u001b[0m: No module named 'selenium'"
     ]
    }
   ],
   "source": [
    "import selenium as se"
   ]
  },
  {
   "cell_type": "markdown",
   "id": "e606b31c",
   "metadata": {},
   "source": [
    "https://spacy.io/usage/models"
   ]
  },
  {
   "cell_type": "code",
   "execution_count": 3,
   "id": "fae00b85",
   "metadata": {},
   "outputs": [
    {
     "ename": "OSError",
     "evalue": "[E050] Can't find model 'en_core_web_sm'. It doesn't seem to be a Python package or a valid path to a data directory.",
     "output_type": "error",
     "traceback": [
      "\u001b[1;31m---------------------------------------------------------------------------\u001b[0m",
      "\u001b[1;31mOSError\u001b[0m                                   Traceback (most recent call last)",
      "\u001b[1;32m<ipython-input-3-201d2e1a5463>\u001b[0m in \u001b[0;36m<module>\u001b[1;34m\u001b[0m\n\u001b[0;32m      5\u001b[0m \u001b[1;31m# en_core_web_lg - large\u001b[0m\u001b[1;33m\u001b[0m\u001b[1;33m\u001b[0m\u001b[1;33m\u001b[0m\u001b[0m\n\u001b[0;32m      6\u001b[0m \u001b[1;33m\u001b[0m\u001b[0m\n\u001b[1;32m----> 7\u001b[1;33m \u001b[0mnlp\u001b[0m \u001b[1;33m=\u001b[0m \u001b[0mspacy\u001b[0m\u001b[1;33m.\u001b[0m\u001b[0mload\u001b[0m\u001b[1;33m(\u001b[0m\u001b[1;34m'en_core_web_sm'\u001b[0m\u001b[1;33m)\u001b[0m\u001b[1;33m\u001b[0m\u001b[1;33m\u001b[0m\u001b[0m\n\u001b[0m",
      "\u001b[1;32m~\\anaconda3\\lib\\site-packages\\spacy\\__init__.py\u001b[0m in \u001b[0;36mload\u001b[1;34m(name, vocab, disable, exclude, config)\u001b[0m\n\u001b[0;32m     49\u001b[0m     \u001b[0mRETURNS\u001b[0m \u001b[1;33m(\u001b[0m\u001b[0mLanguage\u001b[0m\u001b[1;33m)\u001b[0m\u001b[1;33m:\u001b[0m \u001b[0mThe\u001b[0m \u001b[0mloaded\u001b[0m \u001b[0mnlp\u001b[0m \u001b[0mobject\u001b[0m\u001b[1;33m.\u001b[0m\u001b[1;33m\u001b[0m\u001b[1;33m\u001b[0m\u001b[0m\n\u001b[0;32m     50\u001b[0m     \"\"\"\n\u001b[1;32m---> 51\u001b[1;33m     return util.load_model(\n\u001b[0m\u001b[0;32m     52\u001b[0m         \u001b[0mname\u001b[0m\u001b[1;33m,\u001b[0m \u001b[0mvocab\u001b[0m\u001b[1;33m=\u001b[0m\u001b[0mvocab\u001b[0m\u001b[1;33m,\u001b[0m \u001b[0mdisable\u001b[0m\u001b[1;33m=\u001b[0m\u001b[0mdisable\u001b[0m\u001b[1;33m,\u001b[0m \u001b[0mexclude\u001b[0m\u001b[1;33m=\u001b[0m\u001b[0mexclude\u001b[0m\u001b[1;33m,\u001b[0m \u001b[0mconfig\u001b[0m\u001b[1;33m=\u001b[0m\u001b[0mconfig\u001b[0m\u001b[1;33m\u001b[0m\u001b[1;33m\u001b[0m\u001b[0m\n\u001b[0;32m     53\u001b[0m     )\n",
      "\u001b[1;32m~\\anaconda3\\lib\\site-packages\\spacy\\util.py\u001b[0m in \u001b[0;36mload_model\u001b[1;34m(name, vocab, disable, exclude, config)\u001b[0m\n\u001b[0;32m    425\u001b[0m     \u001b[1;32mif\u001b[0m \u001b[0mname\u001b[0m \u001b[1;32min\u001b[0m \u001b[0mOLD_MODEL_SHORTCUTS\u001b[0m\u001b[1;33m:\u001b[0m\u001b[1;33m\u001b[0m\u001b[1;33m\u001b[0m\u001b[0m\n\u001b[0;32m    426\u001b[0m         \u001b[1;32mraise\u001b[0m \u001b[0mIOError\u001b[0m\u001b[1;33m(\u001b[0m\u001b[0mErrors\u001b[0m\u001b[1;33m.\u001b[0m\u001b[0mE941\u001b[0m\u001b[1;33m.\u001b[0m\u001b[0mformat\u001b[0m\u001b[1;33m(\u001b[0m\u001b[0mname\u001b[0m\u001b[1;33m=\u001b[0m\u001b[0mname\u001b[0m\u001b[1;33m,\u001b[0m \u001b[0mfull\u001b[0m\u001b[1;33m=\u001b[0m\u001b[0mOLD_MODEL_SHORTCUTS\u001b[0m\u001b[1;33m[\u001b[0m\u001b[0mname\u001b[0m\u001b[1;33m]\u001b[0m\u001b[1;33m)\u001b[0m\u001b[1;33m)\u001b[0m  \u001b[1;31m# type: ignore[index]\u001b[0m\u001b[1;33m\u001b[0m\u001b[1;33m\u001b[0m\u001b[0m\n\u001b[1;32m--> 427\u001b[1;33m     \u001b[1;32mraise\u001b[0m \u001b[0mIOError\u001b[0m\u001b[1;33m(\u001b[0m\u001b[0mErrors\u001b[0m\u001b[1;33m.\u001b[0m\u001b[0mE050\u001b[0m\u001b[1;33m.\u001b[0m\u001b[0mformat\u001b[0m\u001b[1;33m(\u001b[0m\u001b[0mname\u001b[0m\u001b[1;33m=\u001b[0m\u001b[0mname\u001b[0m\u001b[1;33m)\u001b[0m\u001b[1;33m)\u001b[0m\u001b[1;33m\u001b[0m\u001b[1;33m\u001b[0m\u001b[0m\n\u001b[0m\u001b[0;32m    428\u001b[0m \u001b[1;33m\u001b[0m\u001b[0m\n\u001b[0;32m    429\u001b[0m \u001b[1;33m\u001b[0m\u001b[0m\n",
      "\u001b[1;31mOSError\u001b[0m: [E050] Can't find model 'en_core_web_sm'. It doesn't seem to be a Python package or a valid path to a data directory."
     ]
    }
   ],
   "source": [
    "import spacy\n",
    "\n",
    "# en_core_web_sm - small\n",
    "# en_core_web_md - medium\n",
    "# en_core_web_lg - large\n",
    "\n",
    "#nlp = spacy.load('en_core_web_sm')"
   ]
  },
  {
   "cell_type": "code",
   "execution_count": 115,
   "id": "0b91fc47",
   "metadata": {},
   "outputs": [],
   "source": [
    "# parse the text: tokenized, lemmatizes, exracts PoS and dependencies\n",
    "data['parsed text'] = data['utterance'].apply(nlp)"
   ]
  },
  {
   "cell_type": "code",
   "execution_count": 121,
   "id": "c0ba0e60",
   "metadata": {},
   "outputs": [
    {
     "name": "stdout",
     "output_type": "stream",
     "text": [
      "can \t can \t AUX \t aux\n",
      "u \t u \t VERB \t nsubj\n",
      "ask \t ask \t VERB \t ROOT\n",
      "an \t an \t DET \t det\n",
      "agent \t agent \t NOUN \t dobj\n",
      "to \t to \t PART \t aux\n",
      "give \t give \t VERB \t xcomp\n",
      "me \t I \t PRON \t dative\n",
      "information \t information \t NOUN \t dobj\n",
      "about \t about \t ADP \t prep\n",
      "my \t my \t PRON \t poss\n",
      "bill \t bill \t NOUN \t pobj\n",
      "? \t ? \t PUNCT \t punct\n"
     ]
    }
   ],
   "source": [
    "for token in data['parsed text'][1]:\n",
    "    print(token.text,'\\t', token.lemma_,'\\t', token.pos_,'\\t', token.dep_)"
   ]
  },
  {
   "cell_type": "code",
   "execution_count": 125,
   "id": "717691cb",
   "metadata": {},
   "outputs": [],
   "source": [
    "def remove_function_words(doc):\n",
    "    words = []\n",
    "    for token in doc:\n",
    "        if token.pos_ in ['VERB', 'NOUN', 'ADJ']:\n",
    "            words.append(token.lemma_)\n",
    "    return words"
   ]
  },
  {
   "cell_type": "code",
   "execution_count": 126,
   "id": "2e32a513",
   "metadata": {},
   "outputs": [],
   "source": [
    "data['lexical words'] = data['parsed text'].apply(remove_function_words)"
   ]
  },
  {
   "cell_type": "code",
   "execution_count": 127,
   "id": "97d32f5e",
   "metadata": {},
   "outputs": [
    {
     "data": {
      "text/plain": [
       "0                               [need, profile]\n",
       "1      [u, ask, agent, give, information, bill]\n",
       "2       [have, problem, try, pay, card, inform]\n",
       "3                     [help, solve, issue, pay]\n",
       "4                             [contact, person]\n",
       "                         ...                   \n",
       "177                   [check, delivery, option]\n",
       "178                     [awnt, account, cancel]\n",
       "179      [want, inform, problem, make, payment]\n",
       "180          [want, lodge, consumer, complaint]\n",
       "181                 [need, account, do, create]\n",
       "Name: lexical words, Length: 182, dtype: object"
      ]
     },
     "execution_count": 127,
     "metadata": {},
     "output_type": "execute_result"
    }
   ],
   "source": [
    "data['lexical words']"
   ]
  },
  {
   "cell_type": "code",
   "execution_count": 129,
   "id": "54cb46f6",
   "metadata": {},
   "outputs": [
    {
     "data": {
      "text/plain": [
       "39       [tell, be, newsletter, keep, inform]\n",
       "42          [tell, be, newsletter, subscribe]\n",
       "125    [wanna, receive, newsletter, tell, do]\n",
       "Name: lexical words, dtype: object"
      ]
     },
     "execution_count": 129,
     "metadata": {},
     "output_type": "execute_result"
    }
   ],
   "source": [
    "data.loc[failure, 'lexical words']"
   ]
  },
  {
   "cell_type": "code",
   "execution_count": 132,
   "id": "4cda13e5",
   "metadata": {},
   "outputs": [
    {
     "data": {
      "text/plain": [
       "tell          3\n",
       "newsletter    3\n",
       "be            2\n",
       "keep          1\n",
       "inform        1\n",
       "subscribe     1\n",
       "wanna         1\n",
       "receive       1\n",
       "do            1\n",
       "Name: lexical words, dtype: int64"
      ]
     },
     "execution_count": 132,
     "metadata": {},
     "output_type": "execute_result"
    }
   ],
   "source": [
    "data.loc[failure, 'lexical words'].explode().value_counts()"
   ]
  },
  {
   "cell_type": "code",
   "execution_count": 133,
   "id": "57c4a128",
   "metadata": {},
   "outputs": [
    {
     "data": {
      "text/plain": [
       "want     44\n",
       "do       30\n",
       "agent    26\n",
       "ask      25\n",
       "have     24\n",
       "         ..\n",
       "m         1\n",
       "close     1\n",
       "track     1\n",
       "free      1\n",
       "awnt      1\n",
       "Name: lexical words, Length: 143, dtype: int64"
      ]
     },
     "execution_count": 133,
     "metadata": {},
     "output_type": "execute_result"
    }
   ],
   "source": [
    "data.loc[success, 'lexical words'].explode().value_counts()"
   ]
  },
  {
   "cell_type": "markdown",
   "id": "7eb436fe",
   "metadata": {},
   "source": [
    "## LDA topic modeling"
   ]
  },
  {
   "cell_type": "code",
   "execution_count": 106,
   "id": "e3761b15",
   "metadata": {},
   "outputs": [],
   "source": [
    "# latent dirichlet allocation - a stattistical model to find the topics of the texts"
   ]
  },
  {
   "cell_type": "code",
   "execution_count": null,
   "id": "65ddac0a",
   "metadata": {},
   "outputs": [],
   "source": [
    "# for each utterance, we'll have topics - keywords\n",
    "\n",
    "# payment; credit card; newsletters"
   ]
  }
 ],
 "metadata": {
  "kernelspec": {
   "display_name": "Python 3",
   "language": "python",
   "name": "python3"
  },
  "language_info": {
   "codemirror_mode": {
    "name": "ipython",
    "version": 3
   },
   "file_extension": ".py",
   "mimetype": "text/x-python",
   "name": "python",
   "nbconvert_exporter": "python",
   "pygments_lexer": "ipython3",
   "version": "3.8.5"
  }
 },
 "nbformat": 4,
 "nbformat_minor": 5
}
