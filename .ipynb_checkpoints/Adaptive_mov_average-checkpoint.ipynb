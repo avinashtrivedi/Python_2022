{
 "cells": [
  {
   "cell_type": "code",
   "execution_count": 6,
   "id": "f527b840",
   "metadata": {},
   "outputs": [],
   "source": [
    "from ta.momentum import KAMAIndicator\n",
    "import pandas as pd"
   ]
  },
  {
   "cell_type": "code",
   "execution_count": 7,
   "id": "d9678b6e",
   "metadata": {},
   "outputs": [],
   "source": [
    "df = pd.read_csv('D:\\OneDrive - NITT\\Custom_Download\\CIPLA.csv')"
   ]
  },
  {
   "cell_type": "code",
   "execution_count": 9,
   "id": "18eb6686",
   "metadata": {},
   "outputs": [
    {
     "data": {
      "text/plain": [
       "Index(['Date', 'Symbol', 'Series', 'Prev Close', 'Open', 'High', 'Low', 'Last',\n",
       "       'Close', 'VWAP', 'Volume', 'Turnover', 'Trades', 'Deliverable Volume',\n",
       "       'Delivery', 'Action', 'Action_mean', 'Deliverble_mean', 'Activity',\n",
       "       'Rs', 'Rs_prev'],\n",
       "      dtype='object')"
      ]
     },
     "execution_count": 9,
     "metadata": {},
     "output_type": "execute_result"
    }
   ],
   "source": [
    "df.columns"
   ]
  },
  {
   "cell_type": "code",
   "execution_count": 29,
   "id": "7bd77341",
   "metadata": {},
   "outputs": [],
   "source": [
    "obj = KAMAIndicator(df['Close'],window=10,pow1=2,pow2=30)"
   ]
  },
  {
   "cell_type": "code",
   "execution_count": 30,
   "id": "89ff938e",
   "metadata": {},
   "outputs": [],
   "source": [
    "x = obj.kama()"
   ]
  },
  {
   "cell_type": "code",
   "execution_count": 31,
   "id": "92c8e04a",
   "metadata": {},
   "outputs": [
    {
     "data": {
      "text/plain": [
       "(28,)"
      ]
     },
     "execution_count": 31,
     "metadata": {},
     "output_type": "execute_result"
    }
   ],
   "source": [
    "x.shape"
   ]
  },
  {
   "cell_type": "code",
   "execution_count": 32,
   "id": "8ec88094",
   "metadata": {},
   "outputs": [
    {
     "data": {
      "text/plain": [
       "0             NaN\n",
       "1             NaN\n",
       "2             NaN\n",
       "3             NaN\n",
       "4             NaN\n",
       "5             NaN\n",
       "6             NaN\n",
       "7             NaN\n",
       "8             NaN\n",
       "9      967.450000\n",
       "10     967.631758\n",
       "11     969.888192\n",
       "12     972.775726\n",
       "13     975.061421\n",
       "14     988.351567\n",
       "15     994.080649\n",
       "16    1000.028087\n",
       "17    1008.069895\n",
       "18    1013.491696\n",
       "19    1015.497391\n",
       "20    1018.200312\n",
       "21    1018.512727\n",
       "22    1019.278670\n",
       "23    1019.642584\n",
       "24    1019.840280\n",
       "25    1020.121251\n",
       "26    1020.404224\n",
       "27    1020.547242\n",
       "Name: kama, dtype: float64"
      ]
     },
     "execution_count": 32,
     "metadata": {},
     "output_type": "execute_result"
    }
   ],
   "source": [
    "x"
   ]
  },
  {
   "cell_type": "code",
   "execution_count": 33,
   "id": "513c425c",
   "metadata": {},
   "outputs": [
    {
     "data": {
      "text/plain": [
       "(28, 21)"
      ]
     },
     "execution_count": 33,
     "metadata": {},
     "output_type": "execute_result"
    }
   ],
   "source": [
    "df.shape"
   ]
  },
  {
   "cell_type": "code",
   "execution_count": null,
   "id": "c006aa93",
   "metadata": {},
   "outputs": [],
   "source": []
  }
 ],
 "metadata": {
  "kernelspec": {
   "display_name": "Python 3 (ipykernel)",
   "language": "python",
   "name": "python3"
  },
  "language_info": {
   "codemirror_mode": {
    "name": "ipython",
    "version": 3
   },
   "file_extension": ".py",
   "mimetype": "text/x-python",
   "name": "python",
   "nbconvert_exporter": "python",
   "pygments_lexer": "ipython3",
   "version": "3.9.12"
  }
 },
 "nbformat": 4,
 "nbformat_minor": 5
}
