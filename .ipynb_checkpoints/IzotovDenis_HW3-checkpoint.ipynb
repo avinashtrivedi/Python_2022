{
 "cells": [
  {
   "cell_type": "markdown",
   "metadata": {},
   "source": [
    "# Homework 3\n",
    "PSY4219/6129 Fall 2022\n",
    "\n",
    "**Due September 21 in class**\n",
    "\n",
    "**16 points**\n",
    "\n",
    "This assignment can be done within this Jupyter notebook (.ipynb), please \n",
    "rename the notebook with your name before submitting it.\n",
    "\n",
    "**<u>Please do not</u>** turn in the `brain.mat` file with your homework \n",
    "(for Q1) – it is a large file.\n",
    "\n",
    "Please make sure you comment in your code and please use good programming style \n",
    "(especially points emphasized in class).\n",
    "\n",
    "*Unexcused late assignments will be penalized 10% for every 24 hours late, \n",
    "starting from the time class ends, for a maximum of two days, after which they \n",
    "will earn a 0.*"
   ]
  },
  {
   "cell_type": "markdown",
   "metadata": {},
   "source": [
    "***\n",
    "## Q1 \n",
    "For this question, I want you to manipulate some brain imaging data (stored in \n",
    "a numpy array).\n",
    "\n",
    "First, you need to load the data. I received these anatomical (structural MR) \n",
    "data from a colleague who processed them using Matlab, saving them as a `.mat` \n",
    "file. There is a module (part of scipy) that can load a .mat file (details are \n",
    "presented in the class slides).\n",
    "\n",
    "This file contains a 3D structural MR image of a human brain as a \n",
    "three-dimensional numpy array. The file is large."
   ]
  },
  {
   "cell_type": "code",
   "execution_count": null,
   "metadata": {},
   "outputs": [],
   "source": [
    "import scipy\n",
    "from scipy.io import loadmat\n",
    "\n",
    "brainfile = loadmat('brain.mat')\n",
    "brain = brainfile['data']"
   ]
  },
  {
   "cell_type": "markdown",
   "metadata": {},
   "source": [
    "### (a) (4 points)\n",
    "Your first part of this assignment is to write a snippet of code to display an \n",
    "axial slice, a coronal slice, and a sagittal slice from the middle point of the \n",
    "3D array (which will be roughly in the middle of the brain). \n",
    "\n",
    "I want you to write code that will figure out the middle slice (of the axial, \n",
    "coronal, and sagittal slice directions) for any sized `brain` array (in other \n",
    "words, your calculations of the middle point should take place in the code, not \n",
    "with pencil and paper and hard-coded into your code). In other words, you need \n",
    "to check the shape of the numpy array and use those dimensions in your code.\n",
    "\n",
    "Axial slice -- slicing from the top of the head to the bottom of the head\n",
    "\n",
    "Coronal slice -- slicing from the front of the head to the back of the head\n",
    "\n",
    "Sagittal slice -- slicing from the left of the head to the right of the head\n",
    "\n",
    "![slices](https://i.imgur.com/vRUYXZT.png)\n",
    "\n",
    "You can display each 2D slice using the `imshow()` function from matplotlib (as \n",
    "described in class). If `axialslice` is a slice from the middle of the brain \n",
    "(from the `brain` numpy array) in the axial direction, then displaying that slice \n",
    "requires the following (we will talk about other tools for displaying and \n",
    "manipulating images later in the course – this is the simplest):\n",
    "\n",
    "```python\n",
    "import matplotlib.pyplot as plt\n",
    "\n",
    "plt.imshow(axialslice)\n",
    "plt.title('axial')\n",
    "```\n",
    "\n",
    "Use `imshow()` to display an axial, coronal, and sagittal slice (from the \n",
    "middle of the `brain` numpy array). Remember that `imshow()` only takes a 2D array \n",
    "as input. Make sure you label (with a title) the slices as axial, coronal, and \n",
    "sagittal (if the figure on this page doesn’t make that clear, feel free to \n",
    "Google around for some other example images of axial, coronal, and sagittal \n",
    "human brain slices).\n",
    "\n",
    "You may recognize (even not being a neuroanatomy expert) that a couple of the \n",
    "slices are rotated (the bottom of the brain is not at the bottom of the image \n",
    "in coronal or sagittal images). Figure out how to rotate those numpy image \n",
    "slices by 90 degrees using `scipy.ndimage.rotate`.\n"
   ]
  },
  {
   "cell_type": "code",
   "execution_count": null,
   "metadata": {},
   "outputs": [],
   "source": [
    "import matplotlib.pyplot as plt\n",
    "s = brain.shape\n",
    "from scipy.ndimage import rotate"
   ]
  },
  {
   "cell_type": "code",
   "execution_count": null,
   "metadata": {},
   "outputs": [],
   "source": [
    "#### TODO: Get the middle axial slice of the brain and show it with a title ####\n",
    "print(s)\n",
    "print(type(s))\n",
    "\n",
    "plt.imshow(rotate(brain[:,:,150], 90))\n",
    "plt.title('axial')"
   ]
  },
  {
   "cell_type": "code",
   "execution_count": null,
   "metadata": {},
   "outputs": [],
   "source": [
    "#### TODO: Get the middle coronal slice of the brain and show it with a title ####\n",
    "\n",
    "print(s)\n",
    "print(type(s))\n",
    "\n",
    "plt.imshow(rotate(brain[150,:,:], 90))\n",
    "plt.title('coronal')"
   ]
  },
  {
   "cell_type": "code",
   "execution_count": null,
   "metadata": {},
   "outputs": [],
   "source": [
    "#### TODO: Get the middle sagittal slice of the brain and show it with a title ####\n",
    "print(s)\n",
    "print(type(s))\n",
    "\n",
    "plt.imshow(rotate(brain[:,90,:], 90))\n",
    "plt.title('sagittal')"
   ]
  },
  {
   "cell_type": "markdown",
   "metadata": {},
   "source": [
    "### (b) (4 points)\n",
    "In another code cell, I want you to write a bit of code that displays just a \n",
    "portion of the brain. \n",
    "\n",
    "Assume you have an `(x, y, z)` coordinate that specifies one particular \n",
    "location in the 3D `brain` array and a value `N` that specifies the size of the \n",
    "subregion to show (using `imshow`). \n",
    "\n",
    "For example, if `(x, y, z) = (100, 150, 50)` and `N = 49`, you would select a \n",
    "49x49 portion of the brain centered at `(100, 150)` at `z = 50` to display a \n",
    "49x49 axial slice, a 49x49 portion of the brain centered at `(150, 50)` at \n",
    "`x = 100` to display a 49x49 coronal slice, and a 49x49 portion of the brain \n",
    "centered at `(100, 50)` at `y = 150` to display a 49x49 sagittal slice.\n",
    "\n",
    "Pulling out a portion of the `brain` array should be done using numpy array \n",
    "slicing. Display a portion of an axial, coronal, and sagittal slice given the \n",
    "values of `x, y, z`, and `N`. (Yeah, if `N` is even, the center point won’t be \n",
    "centered, just do something sensible in that case.)\n",
    "\n",
    "Your code should check that the combination of `(x, y, z)` and `N` produces a \n",
    "valid slice (in other words, the slice shouldn’t try to index less than 0 and \n",
    "shouldn’t try to index past the end of the array). You can just print out an \n",
    "error message if an invalid slice would result based on the values of \n",
    "`x, y, z`, and `N`."
   ]
  },
  {
   "cell_type": "code",
   "execution_count": null,
   "metadata": {},
   "outputs": [],
   "source": [
    "#### TODO: Create slices of the brain from every direction given some coordinate and size ####\n",
    "# Note that the values of these variables could change!\n",
    "(x, y, z) = (100, 150, 50)\n",
    "N = 49\n",
    "\n",
    "left = N // 2\n",
    "right = N - left\n",
    "\n",
    "sx, ex = x - left, x + right\n",
    "sy, ey = y - left, y + right\n",
    "sz, ez = z - left, z + right\n",
    "X, Y, Z = brain.shape\n",
    "\n",
    "if sx < 0 or ex > X or sy < 0 or ey > Y or sz < 0 or ez > Z:\n",
    "    print('Invalid slice!')\n",
    "else:\n",
    "    brain_axial = brain[sx: ex, sy: ey, z]\n",
    "    brain_coronal = brain[x, sy: ey, sz: ez]\n",
    "    brain_sagittal = brain[sx: ex, y, sz: ez]"
   ]
  },
  {
   "cell_type": "code",
   "execution_count": null,
   "metadata": {},
   "outputs": [],
   "source": [
    "#### TODO: Display the axial slice ####\n",
    "plt.imshow(brain_axial)\n",
    "plt.title('axial')\n",
    "plt.show()"
   ]
  },
  {
   "cell_type": "code",
   "execution_count": null,
   "metadata": {},
   "outputs": [],
   "source": [
    "#### TODO: Display the coronal slice ####\n",
    "plt.imshow(brain_coronal)\n",
    "plt.title('coronal')\n",
    "plt.show()"
   ]
  },
  {
   "cell_type": "code",
   "execution_count": null,
   "metadata": {},
   "outputs": [],
   "source": [
    "#### TODO: Display the sagittal slice ####\n",
    "plt.imshow(brain_sagittal)\n",
    "plt.title('sagittal')\n",
    "plt.show()"
   ]
  },
  {
   "cell_type": "markdown",
   "metadata": {},
   "source": [
    "***\n",
    "## Q2\n",
    "Building off of Homework 1, I want you to now create a plot of the hemodynamic \n",
    "response function $HDR(t)$ using basic matplotlib. Part (a) asks you to \n",
    "calculate the values of $HDR(t)$ using a `for` loop and plot the function. Part \n",
    "(b) asks you to calculate the values of $HDR(t)$ using the numpy vectorization \n",
    "techniques discussed in class and plot the function.\n",
    "\n",
    "For both, make sure that you pick increments of $t$ to make a smooth plot and \n",
    "that you pick a range of $t$ to capture the full shape of the function.\n",
    "\n",
    "$$\n",
    "HDR(t) = w\\left(\\frac{\\beta_{1}^{\\alpha_{1}}t^{\\alpha_{1}}e^{-t\\beta_{1}}}{\\Gamma(\\alpha_{1})}\\right) - \n",
    "(1 - w)\\left(\\frac{\\beta_{2}^{\\alpha_{2}}t^{\\alpha_{2}}e^{-t\\beta_{2}}}{\\Gamma(\\alpha_{2})}\\right)\n",
    "$$\n",
    "\n",
    "For the parameters, assume the following:\n",
    "\n",
    "${\\alpha_{1}} = 6$\n",
    "\n",
    "${\\beta_{1}} = 1$\n",
    "\n",
    "${\\alpha_{2}} = 16$\n",
    "\n",
    "${\\beta_{2}} = 1$\n",
    "\n",
    "$w = 5/6$\n",
    "\n",
    "Make sure that there is a plot title and that the axes are appropriately labeled."
   ]
  },
  {
   "cell_type": "code",
   "execution_count": null,
   "metadata": {},
   "outputs": [],
   "source": [
    "#### For the parameters assume the following: ####\n",
    "alpha1 = 6.\n",
    "beta1 = 1.\n",
    "alpha2 = 16.\n",
    "beta2 = 1.\n",
    "w = 5/6"
   ]
  },
  {
   "cell_type": "markdown",
   "metadata": {},
   "source": [
    "### (a) (4 points)\n",
    "Calculate the values of $HDR(t)$ in a numpy array using a `for` loop and plot \n",
    "the function using the matplotlib techniques discussed in class."
   ]
  },
  {
   "cell_type": "code",
   "execution_count": null,
   "metadata": {},
   "outputs": [],
   "source": [
    "#### TODO: Calculate the values of the HDR function in a numpy array using a for loop and then plot the function ####\n",
    "from scipy.special import gamma\n",
    "from math import e\n",
    "import numpy as np\n",
    "\n",
    "ts = np.arange(0, 100, 0.1)\n",
    "hdr = np.zeros(len(ts))\n",
    "for i, t in enumerate(ts):\n",
    "    first_part = w * (((beta1 ** alpha1) * (t ** alpha1) * e**(-t * beta1)) / gamma(alpha1))\n",
    "    second_part = (1-w) * (((beta2 ** alpha2) * (t ** alpha2) * e**(-t * beta2)) / gamma(alpha2))\n",
    "    hdr[i] = first_part - second_part\n",
    "\n",
    "plt.plot(ts, hdr)\n",
    "plt.show()"
   ]
  },
  {
   "cell_type": "markdown",
   "metadata": {},
   "source": [
    "### (b) (4 points)\n",
    "Calculate the values of $HDR(t)$ using the numpy vectorization techniques (in a \n",
    "single line of code) and plot the function."
   ]
  },
  {
   "cell_type": "code",
   "execution_count": null,
   "metadata": {},
   "outputs": [],
   "source": [
    "#### TODO: Calculate the values of the HDR function using numpy vectoriation techniques and then plot the function ####\n",
    "hdr = w*(((beta1**alpha1)*(ts**alpha1)*e**(-ts*beta1))/gamma(alpha1))-(1-w)*(((beta2**alpha2)*(ts**alpha2)*e**(-ts*beta2))/gamma(alpha2))\n",
    "\n",
    "plt.plot(ts, hdr)\n",
    "plt.show()"
   ]
  }
 ],
 "metadata": {
  "kernelspec": {
   "display_name": "Python 3 (ipykernel)",
   "language": "python",
   "name": "python3"
  },
  "language_info": {
   "codemirror_mode": {
    "name": "ipython",
    "version": 3
   },
   "file_extension": ".py",
   "mimetype": "text/x-python",
   "name": "python",
   "nbconvert_exporter": "python",
   "pygments_lexer": "ipython3",
   "version": "3.9.12"
  },
  "vscode": {
   "interpreter": {
    "hash": "6a95088bfd0f1c24c044c7dee51d34b34b592915d7bc38bde1421207f927bc51"
   }
  }
 },
 "nbformat": 4,
 "nbformat_minor": 2
}
