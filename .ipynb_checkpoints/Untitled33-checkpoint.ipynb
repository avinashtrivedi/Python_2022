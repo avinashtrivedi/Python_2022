{
 "cells": [
  {
   "cell_type": "code",
   "execution_count": 8,
   "id": "714c6a31",
   "metadata": {},
   "outputs": [],
   "source": [
    "s = \"Python rocks?\""
   ]
  },
  {
   "cell_type": "code",
   "execution_count": 10,
   "id": "360ca9c2",
   "metadata": {},
   "outputs": [
    {
     "data": {
      "text/plain": [
       "2"
      ]
     },
     "execution_count": 10,
     "metadata": {},
     "output_type": "execute_result"
    }
   ],
   "source": [
    "s.count(\"o\")"
   ]
  },
  {
   "cell_type": "code",
   "execution_count": 11,
   "id": "fbe3d5a9",
   "metadata": {},
   "outputs": [
    {
     "data": {
      "text/plain": [
       "True"
      ]
     },
     "execution_count": 11,
     "metadata": {},
     "output_type": "execute_result"
    }
   ],
   "source": [
    "s[-2].islower()"
   ]
  },
  {
   "cell_type": "code",
   "execution_count": 12,
   "id": "300b243b",
   "metadata": {},
   "outputs": [
    {
     "data": {
      "text/plain": [
       "'thon rocks?'"
      ]
     },
     "execution_count": 12,
     "metadata": {},
     "output_type": "execute_result"
    }
   ],
   "source": [
    "s[2:20]"
   ]
  },
  {
   "cell_type": "code",
   "execution_count": 13,
   "id": "29789cca",
   "metadata": {},
   "outputs": [
    {
     "data": {
      "text/plain": [
       "False"
      ]
     },
     "execution_count": 13,
     "metadata": {},
     "output_type": "execute_result"
    }
   ],
   "source": [
    "\"Yt\" in s"
   ]
  },
  {
   "cell_type": "code",
   "execution_count": 14,
   "id": "3aa5daca",
   "metadata": {},
   "outputs": [
    {
     "data": {
      "text/plain": [
       "4"
      ]
     },
     "execution_count": 14,
     "metadata": {},
     "output_type": "execute_result"
    }
   ],
   "source": [
    "s.find(\"o\")"
   ]
  },
  {
   "cell_type": "code",
   "execution_count": 15,
   "id": "c0cc3f2b",
   "metadata": {},
   "outputs": [
    {
     "data": {
      "text/plain": [
       "'Python rofoobars?'"
      ]
     },
     "execution_count": 15,
     "metadata": {},
     "output_type": "execute_result"
    }
   ],
   "source": [
    "s.replace (\"ck\", \"foobar\") "
   ]
  },
  {
   "cell_type": "code",
   "execution_count": 16,
   "id": "142b5110",
   "metadata": {},
   "outputs": [],
   "source": [
    "names = [\"Julia\"]\n",
    "names.insert(1, \"Meaghan\")\n",
    "names.insert(0, \"Marwa\")\n",
    "names.append (\"Ben\")\n",
    "names.pop(3)\n",
    "names.append(\"Marwa\")"
   ]
  },
  {
   "cell_type": "code",
   "execution_count": 18,
   "id": "4f9d1397",
   "metadata": {},
   "outputs": [
    {
     "data": {
      "text/plain": [
       "['Marwa', 'Julia', 'Meaghan', 'Marwa']"
      ]
     },
     "execution_count": 18,
     "metadata": {},
     "output_type": "execute_result"
    }
   ],
   "source": [
    "names"
   ]
  },
  {
   "cell_type": "code",
   "execution_count": 41,
   "id": "decc9287",
   "metadata": {},
   "outputs": [],
   "source": [
    "foobar = [1,4,-5,7,9,8]\n",
    "foobar = [5]*len(foobar)"
   ]
  },
  {
   "cell_type": "code",
   "execution_count": 42,
   "id": "b669550f",
   "metadata": {},
   "outputs": [
    {
     "data": {
      "text/plain": [
       "[8, 1, 4, -5, 7, 9]"
      ]
     },
     "execution_count": 42,
     "metadata": {},
     "output_type": "execute_result"
    }
   ],
   "source": [
    "foobar = [1,4,-5,7,9,8]\n",
    "foobar[-1:] + foobar[:-1]"
   ]
  },
  {
   "cell_type": "code",
   "execution_count": 43,
   "id": "17a71108",
   "metadata": {},
   "outputs": [],
   "source": [
    "foobar = [1,4,-5,7,9,8]\n",
    "foobar[0],foobar[-1] = foobar[-1],foobar[0]"
   ]
  },
  {
   "cell_type": "code",
   "execution_count": null,
   "id": "a1dc86a4",
   "metadata": {},
   "outputs": [],
   "source": []
  },
  {
   "cell_type": "code",
   "execution_count": 45,
   "id": "ac19baf5",
   "metadata": {},
   "outputs": [],
   "source": [
    "foobar = [1,4,-5,7,9,8]\n",
    "foobar = [abs(i) for i in foobar]"
   ]
  },
  {
   "cell_type": "code",
   "execution_count": 47,
   "id": "99b73785",
   "metadata": {},
   "outputs": [
    {
     "data": {
      "text/plain": [
       "[4, 7, 8]"
      ]
     },
     "execution_count": 47,
     "metadata": {},
     "output_type": "execute_result"
    }
   ],
   "source": [
    "foobar = [1,4,-5,7,9,8]\n",
    "[foobar[i] for i in range(len(foobar)) if i%2!=0]"
   ]
  },
  {
   "cell_type": "code",
   "execution_count": 48,
   "id": "ddebd293",
   "metadata": {},
   "outputs": [],
   "source": [
    "x = [5, 3, 5, 7, 5, \"banana\"] "
   ]
  },
  {
   "cell_type": "code",
   "execution_count": 49,
   "id": "bbb8473e",
   "metadata": {},
   "outputs": [
    {
     "data": {
      "text/plain": [
       "[5, 3]"
      ]
     },
     "execution_count": 49,
     "metadata": {},
     "output_type": "execute_result"
    }
   ],
   "source": [
    "x[0:2] "
   ]
  },
  {
   "cell_type": "code",
   "execution_count": 50,
   "id": "5fabf21e",
   "metadata": {},
   "outputs": [
    {
     "data": {
      "text/plain": [
       "3"
      ]
     },
     "execution_count": 50,
     "metadata": {},
     "output_type": "execute_result"
    }
   ],
   "source": [
    "x.count(5) "
   ]
  },
  {
   "cell_type": "code",
   "execution_count": 51,
   "id": "44e739f7",
   "metadata": {},
   "outputs": [
    {
     "data": {
      "text/plain": [
       "2"
      ]
     },
     "execution_count": 51,
     "metadata": {},
     "output_type": "execute_result"
    }
   ],
   "source": [
    "x.index(5, 2) "
   ]
  },
  {
   "cell_type": "code",
   "execution_count": 52,
   "id": "56f276ef",
   "metadata": {},
   "outputs": [
    {
     "ename": "ValueError",
     "evalue": "'ba' is not in list",
     "output_type": "error",
     "traceback": [
      "\u001b[1;31m---------------------------------------------------------------------------\u001b[0m",
      "\u001b[1;31mValueError\u001b[0m                                Traceback (most recent call last)",
      "Input \u001b[1;32mIn [52]\u001b[0m, in \u001b[0;36m<cell line: 1>\u001b[1;34m()\u001b[0m\n\u001b[1;32m----> 1\u001b[0m \u001b[43mx\u001b[49m\u001b[38;5;241;43m.\u001b[39;49m\u001b[43mindex\u001b[49m\u001b[43m(\u001b[49m\u001b[38;5;124;43m\"\u001b[39;49m\u001b[38;5;124;43mba\u001b[39;49m\u001b[38;5;124;43m\"\u001b[39;49m\u001b[43m)\u001b[49m\n",
      "\u001b[1;31mValueError\u001b[0m: 'ba' is not in list"
     ]
    }
   ],
   "source": [
    "x.index(\"ba\") "
   ]
  },
  {
   "cell_type": "code",
   "execution_count": 54,
   "id": "12cf6f2b",
   "metadata": {},
   "outputs": [
    {
     "data": {
      "text/plain": [
       "['a', 'b', 'd']"
      ]
     },
     "execution_count": 54,
     "metadata": {},
     "output_type": "execute_result"
    }
   ],
   "source": [
    "y = [ 'a', 'b', 'c']\n",
    "y[-1] = 'd' \n",
    "y"
   ]
  },
  {
   "cell_type": "code",
   "execution_count": 55,
   "id": "bc793b84",
   "metadata": {},
   "outputs": [
    {
     "data": {
      "text/plain": [
       "['a', 'b', 'c', 'd']"
      ]
     },
     "execution_count": 55,
     "metadata": {},
     "output_type": "execute_result"
    }
   ],
   "source": [
    "y = [ 'a', 'b', 'c']\n",
    "y.append('d') \n",
    "y"
   ]
  },
  {
   "cell_type": "code",
   "execution_count": 56,
   "id": "74f91b19",
   "metadata": {},
   "outputs": [
    {
     "data": {
      "text/plain": [
       "['b', 'a']"
      ]
     },
     "execution_count": 56,
     "metadata": {},
     "output_type": "execute_result"
    }
   ],
   "source": [
    "y = [ 'a', 'b', 'a']\n",
    "y.remove('a') \n",
    "y"
   ]
  },
  {
   "cell_type": "code",
   "execution_count": 57,
   "id": "81091678",
   "metadata": {},
   "outputs": [
    {
     "data": {
      "text/plain": [
       "['a', 'b', 'a', 'c']"
      ]
     },
     "execution_count": 57,
     "metadata": {},
     "output_type": "execute_result"
    }
   ],
   "source": [
    "y = ['a', 'b', 'c']\n",
    "y.insert(2, 'a') \n",
    "y"
   ]
  },
  {
   "cell_type": "code",
   "execution_count": null,
   "id": "0f72286b",
   "metadata": {},
   "outputs": [],
   "source": [
    "The maximum number of iterations or invocations would thus be 7 for a data set of 1024 items, for example, \n",
    "because the logarithm to the base of two of 88 is 6.45"
   ]
  },
  {
   "cell_type": "code",
   "execution_count": 58,
   "id": "353fcd12",
   "metadata": {},
   "outputs": [],
   "source": [
    "import math"
   ]
  },
  {
   "cell_type": "code",
   "execution_count": 60,
   "id": "57b9bbbc",
   "metadata": {},
   "outputs": [
    {
     "data": {
      "text/plain": [
       "6.459431618637297"
      ]
     },
     "execution_count": 60,
     "metadata": {},
     "output_type": "execute_result"
    }
   ],
   "source": [
    "math.log2(88)"
   ]
  },
  {
   "cell_type": "code",
   "execution_count": 61,
   "id": "3089d4ee",
   "metadata": {},
   "outputs": [],
   "source": [
    "def sentence_type (a_string):\n",
    "    return 'bad ending' if a_string[-1] not in ('.','!','?') else 'good ending'"
   ]
  },
  {
   "cell_type": "code",
   "execution_count": 65,
   "id": "fd4e8314",
   "metadata": {},
   "outputs": [
    {
     "name": "stdout",
     "output_type": "stream",
     "text": [
      "bad ending\n",
      "good ending\n",
      "good ending\n"
     ]
    }
   ],
   "source": [
    "def main():\n",
    "    print(sentence_type('hi there'))\n",
    "    print(sentence_type('hi there!'))\n",
    "    print(sentence_type('hi there how are you.'))\n",
    "main()"
   ]
  },
  {
   "cell_type": "code",
   "execution_count": 66,
   "id": "73ee4541",
   "metadata": {},
   "outputs": [],
   "source": [
    "def vowel_count(text):\n",
    "    text = text.lower()\n",
    "    \n",
    "    lst = []\n",
    "    for i in ('a','e','i','o','u'):\n",
    "        lst.append(text.count(i))\n",
    "    return lst\n",
    "\n",
    "def main():\n",
    "    print(vowel_count (\"Hello There\"))\n",
    "    print(vowel_count (\"This is in python\"))\n",
    "    print(vowel_count (\"count the number of vowels\"))\n",
    "    \n",
    "main()"
   ]
  },
  {
   "cell_type": "code",
   "execution_count": 94,
   "id": "59aa100f",
   "metadata": {},
   "outputs": [
    {
     "name": "stdout",
     "output_type": "stream",
     "text": [
      "Dsrbl unfrnshd flt in qt rsdntl ar\n",
      "H Thr\n"
     ]
    }
   ],
   "source": [
    "def abbreviate(a_string):\n",
    "    t = ''\n",
    "    for i in range(len(a_string)):\n",
    "        if a_string[i] in 'aeiouAEIOU' and a_string[i-1]!=' ':\n",
    "            pass\n",
    "        else:\n",
    "            t = t + a_string[i]\n",
    "    return t\n",
    "\n",
    "def main():\n",
    "    print(abbreviate(\"Desirable unfurnished flat in quiet residential area\"))\n",
    "    print(abbreviate(\"Hi There\"))\n",
    "    \n",
    "main()"
   ]
  },
  {
   "cell_type": "code",
   "execution_count": 110,
   "id": "47d34b30",
   "metadata": {},
   "outputs": [
    {
     "name": "stdout",
     "output_type": "stream",
     "text": [
      "405 XLH\n",
      "353 POB\n",
      "319 AFK\n",
      "557 NUK\n",
      "783 BRQ\n",
      "214 HZV\n",
      "131 FVQ\n",
      "531 OTY\n",
      "969 VGC\n",
      "833 DVM\n",
      "264 JMU\n",
      "426 JCE\n",
      "187 EAX\n",
      "899 UHQ\n",
      "504 VUL\n",
      "577 WID\n",
      "514 CFU\n",
      "177 QHR\n",
      "163 XBP\n",
      "769 VQK\n"
     ]
    }
   ],
   "source": [
    "import random\n",
    "import string\n",
    "\n",
    "for i in range(20):\n",
    "    d = random.randint(100, 999)\n",
    "    s = ''.join(random.sample(string.ascii_uppercase,3))\n",
    "    \n",
    "    print(d,s)"
   ]
  },
  {
   "cell_type": "code",
   "execution_count": 124,
   "id": "654f5919",
   "metadata": {},
   "outputs": [],
   "source": [
    "def remove_lowest(lst):\n",
    "    if len(lst)>1:\n",
    "        minm = min(lst)\n",
    "        lst.remove(minm)\n",
    "        return lst\n",
    "    else:\n",
    "        return lst\n",
    "\n",
    "a = remove_lowest ( [23, 90, 47, 55, 88] )\n",
    "b = remove_lowest ( [85] )\n",
    "c = remove_lowest ( [] )\n",
    "d = remove_lowest ( [59, 92, 93, 47, 88, 47] )\n",
    "print (\"a =\", a)\n",
    "print (\"b =\", b)\n",
    "print (\"c =\", c)\n",
    "print (\"d =\", d)"
   ]
  },
  {
   "cell_type": "code",
   "execution_count": 139,
   "id": "7e7d0173",
   "metadata": {},
   "outputs": [],
   "source": [
    "def repeated(num):\n",
    "    num = str(num)\n",
    "    if '-' in num:\n",
    "        num = num[1:]\n",
    "    lst = []\n",
    "    for i in ('0','1','2','3','4','5','6','7','8','9'):\n",
    "        lst.append(num.count(i))\n",
    "    return lst"
   ]
  },
  {
   "cell_type": "code",
   "execution_count": 140,
   "id": "7ce6d1c4",
   "metadata": {},
   "outputs": [
    {
     "data": {
      "text/plain": [
       "[0, 0, 0, 3, 1, 2, 1, 0, 0, 0]"
      ]
     },
     "execution_count": 140,
     "metadata": {},
     "output_type": "execute_result"
    }
   ],
   "source": [
    "repeated(3456353)"
   ]
  },
  {
   "cell_type": "code",
   "execution_count": null,
   "id": "8df933eb",
   "metadata": {},
   "outputs": [],
   "source": [
    "import os\n",
    "from admissions import add_student, update_major, view_all\n",
    "\n",
    "if __name__ == \"__main__\":\n",
    "    while(True):\n",
    "        print('ADMISSIONS')\n",
    "        print('-------------')\n",
    "        print('1. Add Student')\n",
    "        print('2. Update Major')\n",
    "        print('3. View All')\n",
    "        print('4. Quit')\n",
    "        n = input('>Enter option: ')\n",
    "        if n == '1':\n",
    "            add_student()\n",
    "        elif n == '2':\n",
    "            update_major()\n",
    "        elif n == '3':\n",
    "            view_all()\n",
    "        elif n == '4':\n",
    "            print('Thanks for Using. GoodBye')\n",
    "            break\n",
    "        print()\n",
    "        input('Press any key to continue: ')"
   ]
  }
 ],
 "metadata": {
  "kernelspec": {
   "display_name": "Python 3 (ipykernel)",
   "language": "python",
   "name": "python3"
  },
  "language_info": {
   "codemirror_mode": {
    "name": "ipython",
    "version": 3
   },
   "file_extension": ".py",
   "mimetype": "text/x-python",
   "name": "python",
   "nbconvert_exporter": "python",
   "pygments_lexer": "ipython3",
   "version": "3.8.5"
  }
 },
 "nbformat": 4,
 "nbformat_minor": 5
}
