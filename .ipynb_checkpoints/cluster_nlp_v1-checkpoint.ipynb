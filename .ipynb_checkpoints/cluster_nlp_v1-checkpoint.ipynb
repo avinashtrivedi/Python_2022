{
 "cells": [
  {
   "cell_type": "code",
   "execution_count": 1,
   "id": "09656750",
   "metadata": {},
   "outputs": [
    {
     "name": "stderr",
     "output_type": "stream",
     "text": [
      "[nltk_data] Downloading package stopwords to\n",
      "[nltk_data]     C:\\Users\\avitr\\AppData\\Roaming\\nltk_data...\n",
      "[nltk_data]   Package stopwords is already up-to-date!\n"
     ]
    }
   ],
   "source": [
    "import pandas as pd\n",
    "import re\n",
    "import nltk\n",
    "nltk.download('stopwords')\n",
    "\n",
    "import re                                  \n",
    "import string  \n",
    "import matplotlib.pyplot as plt\n",
    "from nltk.corpus import stopwords \n",
    "from nltk.stem import PorterStemmer\n",
    "from nltk.tokenize import TweetTokenizer  \n",
    "\n",
    "stopwords_english = stopwords.words('english') \n",
    "\n",
    "# !pip install tweet-preprocessor\n",
    "import preprocessor as p"
   ]
  },
  {
   "cell_type": "code",
   "execution_count": 2,
   "id": "d4b3c430",
   "metadata": {},
   "outputs": [],
   "source": [
    "from gensim.parsing.preprocessing import preprocess_string\n",
    "import warnings\n",
    "warnings.filterwarnings('ignore')"
   ]
  },
  {
   "cell_type": "code",
   "execution_count": 3,
   "id": "db81a02a",
   "metadata": {},
   "outputs": [],
   "source": [
    "df = pd.read_csv('E:\\OneDrive - NITT\\Custom_Download\\data (2).csv',header=None,names=['tweets'])"
   ]
  },
  {
   "cell_type": "markdown",
   "id": "a5383ec5",
   "metadata": {},
   "source": [
    "# EDA"
   ]
  },
  {
   "cell_type": "code",
   "execution_count": null,
   "id": "406bc1a3",
   "metadata": {},
   "outputs": [],
   "source": [
    "df['tweets_processed'] = df['tweets'].apply(lambda x :p.clean(x))"
   ]
  },
  {
   "cell_type": "code",
   "execution_count": null,
   "id": "6bf625a4",
   "metadata": {},
   "outputs": [],
   "source": [
    "from gensim.parsing.preprocessing import remove_stopwords"
   ]
  },
  {
   "cell_type": "code",
   "execution_count": null,
   "id": "c3e1b6b1",
   "metadata": {},
   "outputs": [],
   "source": [
    "df['tweets_processed']  = df['tweets_processed'] .apply(lambda x : remove_stopwords(x))"
   ]
  },
  {
   "cell_type": "code",
   "execution_count": null,
   "id": "b04f6364",
   "metadata": {},
   "outputs": [],
   "source": [
    "df['tweets_processed'] = df['tweets_processed'].str.lower().str.replace('[^\\w\\s]',' ').str.replace('\\s\\s+', ' ')"
   ]
  },
  {
   "cell_type": "code",
   "execution_count": null,
   "id": "ccc7e92e",
   "metadata": {},
   "outputs": [],
   "source": [
    "df['tweets_processed']  = df['tweets_processed'] .apply(lambda x : preprocess_string(x))"
   ]
  },
  {
   "cell_type": "code",
   "execution_count": null,
   "id": "6722d72c",
   "metadata": {},
   "outputs": [],
   "source": [
    "df['Nwords'] = df['tweets_processed'].apply(lambda x: len(x))"
   ]
  },
  {
   "cell_type": "code",
   "execution_count": null,
   "id": "c1e9b007",
   "metadata": {},
   "outputs": [],
   "source": [
    "def clean(tweet):\n",
    "    tweet2 = re.sub(r'https?:\\/\\/.*[\\r\\n]*', '', tweet)\n",
    "    tweet2 = re.sub(r'#', '', tweet2)\n",
    "    tweet2 = re.sub(r'@', '', tweet2)\n",
    "    tweet2 = re.sub(r'[0-9]', '', tweet2)\n",
    "    return tweet2"
   ]
  },
  {
   "cell_type": "code",
   "execution_count": null,
   "id": "a4042df2",
   "metadata": {},
   "outputs": [],
   "source": [
    "df['tweets_without_@#'] = df['tweets'].apply(lambda x: clean(x))"
   ]
  },
  {
   "cell_type": "code",
   "execution_count": null,
   "id": "935ff98a",
   "metadata": {},
   "outputs": [],
   "source": [
    "df['Nchars'] = df['tweets_without_@#'].apply(lambda x: len(x))"
   ]
  },
  {
   "cell_type": "code",
   "execution_count": null,
   "id": "9143d3b0",
   "metadata": {},
   "outputs": [],
   "source": [
    "df"
   ]
  },
  {
   "cell_type": "code",
   "execution_count": null,
   "id": "6a0f4193",
   "metadata": {},
   "outputs": [],
   "source": [
    "plt.hist(df['Nchars'],color='r')\n",
    "plt.show()"
   ]
  },
  {
   "cell_type": "code",
   "execution_count": null,
   "id": "103083a9",
   "metadata": {},
   "outputs": [],
   "source": [
    "plt.hist(df['Nwords'],color='g')\n",
    "plt.show()"
   ]
  },
  {
   "cell_type": "code",
   "execution_count": null,
   "id": "d9c8cd24",
   "metadata": {},
   "outputs": [],
   "source": [
    "import seaborn as sns"
   ]
  },
  {
   "cell_type": "code",
   "execution_count": null,
   "id": "6c540016",
   "metadata": {},
   "outputs": [],
   "source": [
    "def remove_punc(x):\n",
    "    txt = [word for word in x.split() if word not in string.punctuation]\n",
    "    return ' '.join(txt)"
   ]
  },
  {
   "cell_type": "code",
   "execution_count": null,
   "id": "65f26384",
   "metadata": {},
   "outputs": [],
   "source": [
    "df['tweets_without_@#'] = df['tweets_without_@#'].apply(lambda x: remove_punc(x))"
   ]
  },
  {
   "cell_type": "code",
   "execution_count": null,
   "id": "e977a8b4",
   "metadata": {},
   "outputs": [],
   "source": [
    "def avg(x):\n",
    "    txt = [len(word) for word in x.split()]\n",
    "    \n",
    "    return sum(txt)/max(len(txt),1)"
   ]
  },
  {
   "cell_type": "code",
   "execution_count": null,
   "id": "67ce800b",
   "metadata": {},
   "outputs": [],
   "source": [
    "df = df[df['Nchars']!=0]"
   ]
  },
  {
   "cell_type": "code",
   "execution_count": null,
   "id": "176ac924",
   "metadata": {},
   "outputs": [],
   "source": [
    "df['avg_word_len'] = df['tweets_without_@#'].apply(lambda x: avg(x))"
   ]
  },
  {
   "cell_type": "code",
   "execution_count": null,
   "id": "7ea91195",
   "metadata": {},
   "outputs": [],
   "source": [
    "df"
   ]
  },
  {
   "cell_type": "code",
   "execution_count": null,
   "id": "b68b5611",
   "metadata": {},
   "outputs": [],
   "source": [
    "sns.distplot(df['avg_word_len'],color='red')\n",
    "plt.show()"
   ]
  },
  {
   "cell_type": "code",
   "execution_count": null,
   "id": "6a93de46",
   "metadata": {},
   "outputs": [],
   "source": [
    "df"
   ]
  },
  {
   "cell_type": "code",
   "execution_count": null,
   "id": "3ee1024e",
   "metadata": {},
   "outputs": [],
   "source": [
    "# x = [0]*len(string.punctuation)\n",
    "punc = []\n",
    "def f(x):\n",
    "    for i in x:\n",
    "        if i in string.punctuation:\n",
    "            punc.append(i)"
   ]
  },
  {
   "cell_type": "code",
   "execution_count": null,
   "id": "e9785061",
   "metadata": {},
   "outputs": [],
   "source": [
    "for i in df['tweets']:\n",
    "    f(i)"
   ]
  },
  {
   "cell_type": "code",
   "execution_count": null,
   "id": "d2f19f50",
   "metadata": {},
   "outputs": [],
   "source": [
    "from collections import Counter"
   ]
  },
  {
   "cell_type": "code",
   "execution_count": null,
   "id": "98bbc6d2",
   "metadata": {},
   "outputs": [],
   "source": [
    "sns.countplot(punc)"
   ]
  },
  {
   "cell_type": "code",
   "execution_count": null,
   "id": "c997cad5",
   "metadata": {},
   "outputs": [],
   "source": [
    "words = []\n",
    "for line in df['tweets_processed']:\n",
    "    for j in line:\n",
    "        words.append(j.lower())"
   ]
  },
  {
   "cell_type": "code",
   "execution_count": null,
   "id": "cd27c5be",
   "metadata": {},
   "outputs": [],
   "source": [
    "words = Counter(words)\n",
    "words = sorted(words.items(),key=lambda x: x[1],reverse=True)"
   ]
  },
  {
   "cell_type": "code",
   "execution_count": null,
   "id": "fbb6c7c2",
   "metadata": {},
   "outputs": [],
   "source": [
    "d = words[:50]\n",
    "x,y=zip(*d)"
   ]
  },
  {
   "cell_type": "code",
   "execution_count": null,
   "id": "7a861a91",
   "metadata": {},
   "outputs": [],
   "source": [
    "plt.figure(figsize=(10,5))\n",
    "plt.bar(x,y,color='green')\n",
    "plt.xticks(rotation=90)\n",
    "plt.show()"
   ]
  },
  {
   "cell_type": "markdown",
   "id": "94bb56ce",
   "metadata": {},
   "source": [
    "# Topic Modeling"
   ]
  },
  {
   "cell_type": "code",
   "execution_count": null,
   "id": "7f61cc22",
   "metadata": {},
   "outputs": [],
   "source": [
    "import gensim\n",
    "from gensim.corpora import Dictionary\n",
    "from gensim.models import LdaModel, CoherenceModel, LsiModel, HdpModel\n",
    "from gensim.models.wrappers import LdaMallet"
   ]
  },
  {
   "cell_type": "code",
   "execution_count": null,
   "id": "4cc04f99",
   "metadata": {},
   "outputs": [],
   "source": [
    "df = df[df['tweets_processed'].apply(lambda x: True if len(x)!=0 else False)]"
   ]
  },
  {
   "cell_type": "code",
   "execution_count": null,
   "id": "003f9e78",
   "metadata": {},
   "outputs": [],
   "source": [
    "df = df[df['tweets_processed'].apply(lambda x: False if len(x)<=2 else True)]"
   ]
  },
  {
   "cell_type": "code",
   "execution_count": null,
   "id": "7193c1f2",
   "metadata": {},
   "outputs": [],
   "source": [
    "texts = df['tweets_processed'].to_list()"
   ]
  },
  {
   "cell_type": "code",
   "execution_count": null,
   "id": "0f8e306d",
   "metadata": {},
   "outputs": [],
   "source": [
    "dictionary = Dictionary(texts)\n",
    "corpus = [dictionary.doc2bow(text) for text in texts]"
   ]
  },
  {
   "cell_type": "markdown",
   "id": "59d479a8",
   "metadata": {},
   "source": [
    "# LSI - Latent Semantic Indexing"
   ]
  },
  {
   "cell_type": "code",
   "execution_count": null,
   "id": "bcd6adf9",
   "metadata": {},
   "outputs": [],
   "source": [
    "corpus = corpus[:100]"
   ]
  },
  {
   "cell_type": "code",
   "execution_count": null,
   "id": "a2d7e208",
   "metadata": {},
   "outputs": [],
   "source": [
    "lsi_model = LsiModel(corpus=corpus, num_topics=10, id2word=dictionary)\n",
    "# lsi_model.show_topics(num_topics=10)\n",
    "for idx, topic in lsi_model.show_topics(formatted=False, num_words= 30):\n",
    "    print('Topic: {} \\nWords: {}'.format(idx, '|'.join([w[0] for w in topic])))"
   ]
  },
  {
   "cell_type": "markdown",
   "id": "ab420e2e",
   "metadata": {},
   "source": [
    "# LDA"
   ]
  },
  {
   "cell_type": "code",
   "execution_count": null,
   "id": "5f890f8a",
   "metadata": {},
   "outputs": [],
   "source": [
    "lda_model = LdaModel(corpus=corpus, num_topics=10, id2word=dictionary)\n",
    "for idx, topic in lda_model.show_topics(formatted=False, num_words= 30):\n",
    "    print('Topic: {} \\nWords: {}'.format(idx, '|'.join([w[0] for w in topic])))"
   ]
  },
  {
   "cell_type": "code",
   "execution_count": null,
   "id": "eed7f202",
   "metadata": {},
   "outputs": [],
   "source": [
    "!pip install pyLDAvis"
   ]
  },
  {
   "cell_type": "code",
   "execution_count": null,
   "id": "79ef65b0",
   "metadata": {},
   "outputs": [],
   "source": [
    "import pyLDAvis\n",
    "import pyLDAvis.gensim_models as gensimvis\n",
    "pyLDAvis.enable_notebook()"
   ]
  },
  {
   "cell_type": "code",
   "execution_count": null,
   "id": "9c8b137c",
   "metadata": {},
   "outputs": [],
   "source": [
    "pyLDAvis.enable_notebook()\n",
    "gensimvis.prepare(lda_model, corpus, dictionary)"
   ]
  },
  {
   "cell_type": "code",
   "execution_count": null,
   "id": "061b7a96",
   "metadata": {},
   "outputs": [],
   "source": [
    "df.shape"
   ]
  },
  {
   "cell_type": "code",
   "execution_count": null,
   "id": "6227d8ea",
   "metadata": {},
   "outputs": [],
   "source": []
  }
 ],
 "metadata": {
  "kernelspec": {
   "display_name": "Python 3 (ipykernel)",
   "language": "python",
   "name": "python3"
  },
  "language_info": {
   "codemirror_mode": {
    "name": "ipython",
    "version": 3
   },
   "file_extension": ".py",
   "mimetype": "text/x-python",
   "name": "python",
   "nbconvert_exporter": "python",
   "pygments_lexer": "ipython3",
   "version": "3.8.5"
  }
 },
 "nbformat": 4,
 "nbformat_minor": 5
}
