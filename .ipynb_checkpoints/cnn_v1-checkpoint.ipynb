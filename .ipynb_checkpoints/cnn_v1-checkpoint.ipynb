{
 "cells": [
  {
   "cell_type": "code",
   "execution_count": 1,
   "id": "ceb15799",
   "metadata": {},
   "outputs": [],
   "source": [
    "import os\n",
    "from tqdm.notebook import tqdm\n",
    "\n",
    "import numpy as np\n",
    "import pandas as pd\n",
    "from packaging import version\n",
    "\n",
    "from sklearn.metrics import confusion_matrix, classification_report\n",
    "from sklearn.metrics import accuracy_score\n",
    "from sklearn.metrics import mean_squared_error as MSE\n",
    "from sklearn.model_selection import train_test_split\n",
    "\n",
    "import matplotlib.pyplot as plt\n",
    "import seaborn as sns\n",
    "import time\n",
    "import tensorflow as tf\n",
    "from tensorflow import keras\n",
    "from sklearn.preprocessing import LabelBinarizer\n",
    "from tensorflow.keras import models, layers\n",
    "from tensorflow.keras.models import Sequential\n",
    "from tensorflow.keras.layers import Conv2D, MaxPool2D, BatchNormalization, Dropout, Flatten, Dense\n",
    "from tensorflow.keras.callbacks import ModelCheckpoint, EarlyStopping\n",
    "from tensorflow.keras.preprocessing import image\n",
    "from tensorflow.keras.utils import to_categorical\n",
    "from tensorflow.keras.applications.mobilenet_v2 import preprocess_input\n",
    "from tensorflow.keras.preprocessing.image import load_img , img_to_array"
   ]
  },
  {
   "cell_type": "code",
   "execution_count": 2,
   "id": "ceb7160c",
   "metadata": {},
   "outputs": [],
   "source": [
    "# change the path here\n",
    "directory = \"D:\\OneDrive - NITT\\Custom_Download\\dataset\""
   ]
  },
  {
   "cell_type": "code",
   "execution_count": 3,
   "id": "cfb5a33b",
   "metadata": {},
   "outputs": [
    {
     "data": {
      "application/vnd.jupyter.widget-view+json": {
       "model_id": "76168500506b4636bed9283c4aeaa2bb",
       "version_major": 2,
       "version_minor": 0
      },
      "text/plain": [
       "  0%|          | 0/2 [00:00<?, ?it/s]"
      ]
     },
     "metadata": {},
     "output_type": "display_data"
    },
    {
     "name": "stdout",
     "output_type": "stream",
     "text": [
      "D:\\OneDrive - NITT\\Custom_Download\\dataset\\without_mask\n"
     ]
    },
    {
     "data": {
      "application/vnd.jupyter.widget-view+json": {
       "model_id": "45572a8b4d4b4c84b2a864ea01a5de6b",
       "version_major": 2,
       "version_minor": 0
      },
      "text/plain": [
       "  0%|          | 0/5521 [00:00<?, ?it/s]"
      ]
     },
     "metadata": {},
     "output_type": "display_data"
    },
    {
     "name": "stdout",
     "output_type": "stream",
     "text": [
      "D:\\OneDrive - NITT\\Custom_Download\\dataset\\with_mask\n"
     ]
    },
    {
     "data": {
      "application/vnd.jupyter.widget-view+json": {
       "model_id": "b0e586b92b714f1389a268aea30be58b",
       "version_major": 2,
       "version_minor": 0
      },
      "text/plain": [
       "  0%|          | 0/5521 [00:00<?, ?it/s]"
      ]
     },
     "metadata": {},
     "output_type": "display_data"
    }
   ],
   "source": [
    "df = pd.DataFrame([],columns=['img_path','class'])\n",
    "for folder in tqdm(os.listdir(directory)):\n",
    "    path = os.path.join(directory,folder)\n",
    "    print(path)\n",
    "    for pic in tqdm(os.listdir(path)):\n",
    "        fig_path = os.path.join(path,pic)\n",
    "        df.loc[len(df)] = [fig_path,folder]"
   ]
  },
  {
   "cell_type": "code",
   "execution_count": 4,
   "id": "9d3fb945",
   "metadata": {},
   "outputs": [],
   "source": [
    "df['class'] = np.where(df['class']=='without_mask',0,1)"
   ]
  },
  {
   "cell_type": "code",
   "execution_count": 5,
   "id": "b6f344df",
   "metadata": {},
   "outputs": [
    {
     "data": {
      "text/html": [
       "<div>\n",
       "<style scoped>\n",
       "    .dataframe tbody tr th:only-of-type {\n",
       "        vertical-align: middle;\n",
       "    }\n",
       "\n",
       "    .dataframe tbody tr th {\n",
       "        vertical-align: top;\n",
       "    }\n",
       "\n",
       "    .dataframe thead th {\n",
       "        text-align: right;\n",
       "    }\n",
       "</style>\n",
       "<table border=\"1\" class=\"dataframe\">\n",
       "  <thead>\n",
       "    <tr style=\"text-align: right;\">\n",
       "      <th></th>\n",
       "      <th>img_path</th>\n",
       "      <th>class</th>\n",
       "    </tr>\n",
       "  </thead>\n",
       "  <tbody>\n",
       "    <tr>\n",
       "      <th>0</th>\n",
       "      <td>D:\\OneDrive - NITT\\Custom_Download\\dataset\\wit...</td>\n",
       "      <td>0</td>\n",
       "    </tr>\n",
       "    <tr>\n",
       "      <th>1</th>\n",
       "      <td>D:\\OneDrive - NITT\\Custom_Download\\dataset\\wit...</td>\n",
       "      <td>0</td>\n",
       "    </tr>\n",
       "    <tr>\n",
       "      <th>2</th>\n",
       "      <td>D:\\OneDrive - NITT\\Custom_Download\\dataset\\wit...</td>\n",
       "      <td>0</td>\n",
       "    </tr>\n",
       "    <tr>\n",
       "      <th>3</th>\n",
       "      <td>D:\\OneDrive - NITT\\Custom_Download\\dataset\\wit...</td>\n",
       "      <td>0</td>\n",
       "    </tr>\n",
       "    <tr>\n",
       "      <th>4</th>\n",
       "      <td>D:\\OneDrive - NITT\\Custom_Download\\dataset\\wit...</td>\n",
       "      <td>0</td>\n",
       "    </tr>\n",
       "    <tr>\n",
       "      <th>...</th>\n",
       "      <td>...</td>\n",
       "      <td>...</td>\n",
       "    </tr>\n",
       "    <tr>\n",
       "      <th>11037</th>\n",
       "      <td>D:\\OneDrive - NITT\\Custom_Download\\dataset\\wit...</td>\n",
       "      <td>1</td>\n",
       "    </tr>\n",
       "    <tr>\n",
       "      <th>11038</th>\n",
       "      <td>D:\\OneDrive - NITT\\Custom_Download\\dataset\\wit...</td>\n",
       "      <td>1</td>\n",
       "    </tr>\n",
       "    <tr>\n",
       "      <th>11039</th>\n",
       "      <td>D:\\OneDrive - NITT\\Custom_Download\\dataset\\wit...</td>\n",
       "      <td>1</td>\n",
       "    </tr>\n",
       "    <tr>\n",
       "      <th>11040</th>\n",
       "      <td>D:\\OneDrive - NITT\\Custom_Download\\dataset\\wit...</td>\n",
       "      <td>1</td>\n",
       "    </tr>\n",
       "    <tr>\n",
       "      <th>11041</th>\n",
       "      <td>D:\\OneDrive - NITT\\Custom_Download\\dataset\\wit...</td>\n",
       "      <td>1</td>\n",
       "    </tr>\n",
       "  </tbody>\n",
       "</table>\n",
       "<p>11042 rows × 2 columns</p>\n",
       "</div>"
      ],
      "text/plain": [
       "                                                img_path  class\n",
       "0      D:\\OneDrive - NITT\\Custom_Download\\dataset\\wit...      0\n",
       "1      D:\\OneDrive - NITT\\Custom_Download\\dataset\\wit...      0\n",
       "2      D:\\OneDrive - NITT\\Custom_Download\\dataset\\wit...      0\n",
       "3      D:\\OneDrive - NITT\\Custom_Download\\dataset\\wit...      0\n",
       "4      D:\\OneDrive - NITT\\Custom_Download\\dataset\\wit...      0\n",
       "...                                                  ...    ...\n",
       "11037  D:\\OneDrive - NITT\\Custom_Download\\dataset\\wit...      1\n",
       "11038  D:\\OneDrive - NITT\\Custom_Download\\dataset\\wit...      1\n",
       "11039  D:\\OneDrive - NITT\\Custom_Download\\dataset\\wit...      1\n",
       "11040  D:\\OneDrive - NITT\\Custom_Download\\dataset\\wit...      1\n",
       "11041  D:\\OneDrive - NITT\\Custom_Download\\dataset\\wit...      1\n",
       "\n",
       "[11042 rows x 2 columns]"
      ]
     },
     "execution_count": 5,
     "metadata": {},
     "output_type": "execute_result"
    }
   ],
   "source": [
    "df"
   ]
  },
  {
   "cell_type": "markdown",
   "id": "f5f7e325",
   "metadata": {},
   "source": [
    "# consider less image i.e 200 only"
   ]
  },
  {
   "cell_type": "code",
   "execution_count": 6,
   "id": "2fdd48a6",
   "metadata": {},
   "outputs": [],
   "source": [
    "df1 = df.iloc[:100]\n",
    "df2 = df.iloc[-100:]\n",
    "\n",
    "df_small = pd.concat([df1,df2])\n",
    "df_small.reset_index(drop=True,inplace=True)"
   ]
  },
  {
   "cell_type": "code",
   "execution_count": 7,
   "id": "6cdd512b",
   "metadata": {},
   "outputs": [
    {
     "data": {
      "text/html": [
       "<div>\n",
       "<style scoped>\n",
       "    .dataframe tbody tr th:only-of-type {\n",
       "        vertical-align: middle;\n",
       "    }\n",
       "\n",
       "    .dataframe tbody tr th {\n",
       "        vertical-align: top;\n",
       "    }\n",
       "\n",
       "    .dataframe thead th {\n",
       "        text-align: right;\n",
       "    }\n",
       "</style>\n",
       "<table border=\"1\" class=\"dataframe\">\n",
       "  <thead>\n",
       "    <tr style=\"text-align: right;\">\n",
       "      <th></th>\n",
       "      <th>img_path</th>\n",
       "      <th>class</th>\n",
       "    </tr>\n",
       "  </thead>\n",
       "  <tbody>\n",
       "    <tr>\n",
       "      <th>0</th>\n",
       "      <td>D:\\OneDrive - NITT\\Custom_Download\\dataset\\wit...</td>\n",
       "      <td>0</td>\n",
       "    </tr>\n",
       "    <tr>\n",
       "      <th>1</th>\n",
       "      <td>D:\\OneDrive - NITT\\Custom_Download\\dataset\\wit...</td>\n",
       "      <td>0</td>\n",
       "    </tr>\n",
       "    <tr>\n",
       "      <th>2</th>\n",
       "      <td>D:\\OneDrive - NITT\\Custom_Download\\dataset\\wit...</td>\n",
       "      <td>0</td>\n",
       "    </tr>\n",
       "    <tr>\n",
       "      <th>3</th>\n",
       "      <td>D:\\OneDrive - NITT\\Custom_Download\\dataset\\wit...</td>\n",
       "      <td>0</td>\n",
       "    </tr>\n",
       "    <tr>\n",
       "      <th>4</th>\n",
       "      <td>D:\\OneDrive - NITT\\Custom_Download\\dataset\\wit...</td>\n",
       "      <td>0</td>\n",
       "    </tr>\n",
       "    <tr>\n",
       "      <th>...</th>\n",
       "      <td>...</td>\n",
       "      <td>...</td>\n",
       "    </tr>\n",
       "    <tr>\n",
       "      <th>195</th>\n",
       "      <td>D:\\OneDrive - NITT\\Custom_Download\\dataset\\wit...</td>\n",
       "      <td>1</td>\n",
       "    </tr>\n",
       "    <tr>\n",
       "      <th>196</th>\n",
       "      <td>D:\\OneDrive - NITT\\Custom_Download\\dataset\\wit...</td>\n",
       "      <td>1</td>\n",
       "    </tr>\n",
       "    <tr>\n",
       "      <th>197</th>\n",
       "      <td>D:\\OneDrive - NITT\\Custom_Download\\dataset\\wit...</td>\n",
       "      <td>1</td>\n",
       "    </tr>\n",
       "    <tr>\n",
       "      <th>198</th>\n",
       "      <td>D:\\OneDrive - NITT\\Custom_Download\\dataset\\wit...</td>\n",
       "      <td>1</td>\n",
       "    </tr>\n",
       "    <tr>\n",
       "      <th>199</th>\n",
       "      <td>D:\\OneDrive - NITT\\Custom_Download\\dataset\\wit...</td>\n",
       "      <td>1</td>\n",
       "    </tr>\n",
       "  </tbody>\n",
       "</table>\n",
       "<p>200 rows × 2 columns</p>\n",
       "</div>"
      ],
      "text/plain": [
       "                                              img_path  class\n",
       "0    D:\\OneDrive - NITT\\Custom_Download\\dataset\\wit...      0\n",
       "1    D:\\OneDrive - NITT\\Custom_Download\\dataset\\wit...      0\n",
       "2    D:\\OneDrive - NITT\\Custom_Download\\dataset\\wit...      0\n",
       "3    D:\\OneDrive - NITT\\Custom_Download\\dataset\\wit...      0\n",
       "4    D:\\OneDrive - NITT\\Custom_Download\\dataset\\wit...      0\n",
       "..                                                 ...    ...\n",
       "195  D:\\OneDrive - NITT\\Custom_Download\\dataset\\wit...      1\n",
       "196  D:\\OneDrive - NITT\\Custom_Download\\dataset\\wit...      1\n",
       "197  D:\\OneDrive - NITT\\Custom_Download\\dataset\\wit...      1\n",
       "198  D:\\OneDrive - NITT\\Custom_Download\\dataset\\wit...      1\n",
       "199  D:\\OneDrive - NITT\\Custom_Download\\dataset\\wit...      1\n",
       "\n",
       "[200 rows x 2 columns]"
      ]
     },
     "execution_count": 7,
     "metadata": {},
     "output_type": "execute_result"
    }
   ],
   "source": [
    "df_small"
   ]
  },
  {
   "cell_type": "markdown",
   "id": "f374a397",
   "metadata": {},
   "source": [
    "# use df here instead of df_small for training on complete dataset"
   ]
  },
  {
   "cell_type": "code",
   "execution_count": 8,
   "id": "bd6ca034",
   "metadata": {},
   "outputs": [],
   "source": [
    "imgs = []\n",
    "labels = []\n",
    "\n",
    "for i in range(len(df_small)): # use df here for training on complete dataset\n",
    "\n",
    "    path = df_small['img_path'].iloc[i]\n",
    "    label = df_small['class'].iloc[i]\n",
    "    \n",
    "    img = load_img(path,target_size=(224,224)) \n",
    "    img = img_to_array(img) \n",
    "    img = preprocess_input(img)\n",
    "    \n",
    "    imgs.append(img)\n",
    "    labels.append(label)"
   ]
  },
  {
   "cell_type": "code",
   "execution_count": 9,
   "id": "258f8878",
   "metadata": {},
   "outputs": [],
   "source": [
    "def create_model():\n",
    "    model = Sequential()\n",
    "    model.add(Conv2D(64, (3,3), activation='relu', strides=(2,2), input_shape=(224,224,3)))\n",
    "    model.add(Conv2D(64, (3,3), activation='relu'))\n",
    "    model.add(Dropout(0.3))\n",
    "    model.add(Conv2D(128, (3,3), activation='relu'))\n",
    "    model.add(MaxPool2D((2, 2)))\n",
    "    model.add(Dropout(0.3))\n",
    "    model.add(Conv2D(128, (3,3), activation='relu'))\n",
    "    model.add(MaxPool2D((2, 2)))\n",
    "    model.add(Dropout(0.3))\n",
    "    model.add(Conv2D(256, (3,3), activation='relu'))\n",
    "    model.add(MaxPool2D((2, 2)))\n",
    "    model.add(Dropout(0.3))\n",
    "    model.add(Conv2D(256, (3,3), activation='relu'))\n",
    "    model.add(Dropout(0.4))\n",
    "    model.add(Flatten())\n",
    "    model.add(Dense(512, activation='relu'))\n",
    "    model.add(Dropout(0.4))\n",
    "    model.add(Dense(64,activation=\"relu\"))\n",
    "    model.add(Dense(2,activation=\"softmax\"))\n",
    "    model.compile(loss='binary_crossentropy', optimizer='adam', metrics=['accuracy'])\n",
    "    return model"
   ]
  },
  {
   "cell_type": "code",
   "execution_count": 10,
   "id": "dbf94f99",
   "metadata": {},
   "outputs": [
    {
     "name": "stdout",
     "output_type": "stream",
     "text": [
      "Model: \"sequential\"\n",
      "_________________________________________________________________\n",
      " Layer (type)                Output Shape              Param #   \n",
      "=================================================================\n",
      " conv2d (Conv2D)             (None, 111, 111, 64)      1792      \n",
      "                                                                 \n",
      " conv2d_1 (Conv2D)           (None, 109, 109, 64)      36928     \n",
      "                                                                 \n",
      " dropout (Dropout)           (None, 109, 109, 64)      0         \n",
      "                                                                 \n",
      " conv2d_2 (Conv2D)           (None, 107, 107, 128)     73856     \n",
      "                                                                 \n",
      " max_pooling2d (MaxPooling2D  (None, 53, 53, 128)      0         \n",
      " )                                                               \n",
      "                                                                 \n",
      " dropout_1 (Dropout)         (None, 53, 53, 128)       0         \n",
      "                                                                 \n",
      " conv2d_3 (Conv2D)           (None, 51, 51, 128)       147584    \n",
      "                                                                 \n",
      " max_pooling2d_1 (MaxPooling  (None, 25, 25, 128)      0         \n",
      " 2D)                                                             \n",
      "                                                                 \n",
      " dropout_2 (Dropout)         (None, 25, 25, 128)       0         \n",
      "                                                                 \n",
      " conv2d_4 (Conv2D)           (None, 23, 23, 256)       295168    \n",
      "                                                                 \n",
      " max_pooling2d_2 (MaxPooling  (None, 11, 11, 256)      0         \n",
      " 2D)                                                             \n",
      "                                                                 \n",
      " dropout_3 (Dropout)         (None, 11, 11, 256)       0         \n",
      "                                                                 \n",
      " conv2d_5 (Conv2D)           (None, 9, 9, 256)         590080    \n",
      "                                                                 \n",
      " dropout_4 (Dropout)         (None, 9, 9, 256)         0         \n",
      "                                                                 \n",
      " flatten (Flatten)           (None, 20736)             0         \n",
      "                                                                 \n",
      " dense (Dense)               (None, 512)               10617344  \n",
      "                                                                 \n",
      " dropout_5 (Dropout)         (None, 512)               0         \n",
      "                                                                 \n",
      " dense_1 (Dense)             (None, 64)                32832     \n",
      "                                                                 \n",
      " dense_2 (Dense)             (None, 2)                 130       \n",
      "                                                                 \n",
      "=================================================================\n",
      "Total params: 11,795,714\n",
      "Trainable params: 11,795,714\n",
      "Non-trainable params: 0\n",
      "_________________________________________________________________\n"
     ]
    }
   ],
   "source": [
    "model1 = create_model()\n",
    "model1.summary()"
   ]
  },
  {
   "cell_type": "code",
   "execution_count": 11,
   "id": "170f8d00",
   "metadata": {},
   "outputs": [],
   "source": [
    "# imgs = np.array(imgs)\n",
    "# labels = np.array(labels)\n",
    "\n",
    "imgs = np.array(imgs,dtype=\"float32\")\n",
    "labels = np.array(labels)\n",
    "\n",
    "lb = LabelBinarizer()\n",
    "labels = lb.fit_transform(labels)\n",
    "labels = to_categorical(labels)"
   ]
  },
  {
   "cell_type": "code",
   "execution_count": 12,
   "id": "546fdb5a",
   "metadata": {},
   "outputs": [],
   "source": [
    "x_train, x_test, y_train, y_test = train_test_split(imgs, labels, test_size=0.10,stratify=labels)\n",
    "partial_x_train, validation_x_train, partial_y_train, validation_y_train = train_test_split(x_train, y_train, test_size=0.20)"
   ]
  },
  {
   "cell_type": "code",
   "execution_count": 13,
   "id": "024981e3",
   "metadata": {},
   "outputs": [],
   "source": [
    "x_train_norm = partial_x_train/255\n",
    "x_valid_norm = validation_x_train/255\n",
    "x_test_norm = x_test/255"
   ]
  },
  {
   "cell_type": "code",
   "execution_count": 14,
   "id": "413a5d8a",
   "metadata": {},
   "outputs": [
    {
     "name": "stdout",
     "output_type": "stream",
     "text": [
      "Epoch 1/5\n",
      "2/2 [==============================] - 17s 6s/step - loss: 0.6932 - accuracy: 0.5208 - val_loss: 0.6932 - val_accuracy: 0.4722\n",
      "Epoch 2/5\n",
      "2/2 [==============================] - 13s 5s/step - loss: 0.6924 - accuracy: 0.5556 - val_loss: 0.6946 - val_accuracy: 0.4722\n",
      "Epoch 3/5\n",
      "2/2 [==============================] - 15s 6s/step - loss: 0.7047 - accuracy: 0.5278 - val_loss: 0.6925 - val_accuracy: 0.5278\n",
      "Epoch 4/5\n",
      "2/2 [==============================] - 14s 6s/step - loss: 0.7080 - accuracy: 0.5000 - val_loss: 0.6919 - val_accuracy: 0.5278\n",
      "Epoch 5/5\n",
      "2/2 [==============================] - 14s 5s/step - loss: 0.6949 - accuracy: 0.4931 - val_loss: 0.6925 - val_accuracy: 0.5278\n",
      "CPU times: total: 7min 23s\n",
      "Wall time: 1min 13s\n"
     ]
    }
   ],
   "source": [
    "%%time\n",
    "history3 = model1.fit(x_train_norm\n",
    "                    ,partial_y_train\n",
    "                    ,epochs= 5\n",
    "                    ,batch_size=100\n",
    "                    ,validation_data=(x_valid_norm, validation_y_train)\n",
    "                    ,callbacks=[\n",
    "                     tf.keras.callbacks.ModelCheckpoint(\"CNN_model1.h5\",save_best_only=True,save_weights_only=False) \n",
    "                     ,tf.keras.callbacks.EarlyStopping(monitor='val_accuracy', patience=3),\n",
    "                    ]                                                                                                           \n",
    "                   )"
   ]
  },
  {
   "cell_type": "code",
   "execution_count": 15,
   "id": "2f5a5820",
   "metadata": {},
   "outputs": [
    {
     "data": {
      "text/plain": [
       "dict_keys(['loss', 'accuracy', 'val_loss', 'val_accuracy'])"
      ]
     },
     "execution_count": 15,
     "metadata": {},
     "output_type": "execute_result"
    }
   ],
   "source": [
    "history_dict = history3.history\n",
    "history_dict.keys()"
   ]
  },
  {
   "cell_type": "code",
   "execution_count": 16,
   "id": "77fbbbf6",
   "metadata": {},
   "outputs": [
    {
     "data": {
      "text/plain": [
       "{'loss': [0.6931940317153931,\n",
       "  0.6924005150794983,\n",
       "  0.7047109603881836,\n",
       "  0.7080073952674866,\n",
       "  0.6949262619018555],\n",
       " 'accuracy': [0.5208333134651184,\n",
       "  0.5555555820465088,\n",
       "  0.5277777910232544,\n",
       "  0.5,\n",
       "  0.4930555522441864],\n",
       " 'val_loss': [0.6931924819946289,\n",
       "  0.6946156620979309,\n",
       "  0.6924903988838196,\n",
       "  0.6919300556182861,\n",
       "  0.6925203800201416],\n",
       " 'val_accuracy': [0.4722222089767456,\n",
       "  0.4722222089767456,\n",
       "  0.5277777910232544,\n",
       "  0.5277777910232544,\n",
       "  0.5277777910232544]}"
      ]
     },
     "execution_count": 16,
     "metadata": {},
     "output_type": "execute_result"
    }
   ],
   "source": [
    "history_dict"
   ]
  },
  {
   "cell_type": "code",
   "execution_count": 17,
   "id": "f466ca0b",
   "metadata": {},
   "outputs": [
    {
     "data": {
      "text/html": [
       "<div>\n",
       "<style scoped>\n",
       "    .dataframe tbody tr th:only-of-type {\n",
       "        vertical-align: middle;\n",
       "    }\n",
       "\n",
       "    .dataframe tbody tr th {\n",
       "        vertical-align: top;\n",
       "    }\n",
       "\n",
       "    .dataframe thead th {\n",
       "        text-align: right;\n",
       "    }\n",
       "</style>\n",
       "<table border=\"1\" class=\"dataframe\">\n",
       "  <thead>\n",
       "    <tr style=\"text-align: right;\">\n",
       "      <th></th>\n",
       "      <th>Training_loss</th>\n",
       "      <th>Train_acc</th>\n",
       "      <th>Validation_loss</th>\n",
       "      <th>Validation_acc</th>\n",
       "    </tr>\n",
       "  </thead>\n",
       "  <tbody>\n",
       "    <tr>\n",
       "      <th>0</th>\n",
       "      <td>0.693</td>\n",
       "      <td>0.521</td>\n",
       "      <td>0.693</td>\n",
       "      <td>0.472</td>\n",
       "    </tr>\n",
       "    <tr>\n",
       "      <th>1</th>\n",
       "      <td>0.692</td>\n",
       "      <td>0.556</td>\n",
       "      <td>0.695</td>\n",
       "      <td>0.472</td>\n",
       "    </tr>\n",
       "    <tr>\n",
       "      <th>2</th>\n",
       "      <td>0.705</td>\n",
       "      <td>0.528</td>\n",
       "      <td>0.692</td>\n",
       "      <td>0.528</td>\n",
       "    </tr>\n",
       "    <tr>\n",
       "      <th>3</th>\n",
       "      <td>0.708</td>\n",
       "      <td>0.500</td>\n",
       "      <td>0.692</td>\n",
       "      <td>0.528</td>\n",
       "    </tr>\n",
       "    <tr>\n",
       "      <th>4</th>\n",
       "      <td>0.695</td>\n",
       "      <td>0.493</td>\n",
       "      <td>0.693</td>\n",
       "      <td>0.528</td>\n",
       "    </tr>\n",
       "  </tbody>\n",
       "</table>\n",
       "</div>"
      ],
      "text/plain": [
       "   Training_loss  Train_acc  Validation_loss  Validation_acc\n",
       "0          0.693      0.521            0.693           0.472\n",
       "1          0.692      0.556            0.695           0.472\n",
       "2          0.705      0.528            0.692           0.528\n",
       "3          0.708      0.500            0.692           0.528\n",
       "4          0.695      0.493            0.693           0.528"
      ]
     },
     "execution_count": 17,
     "metadata": {},
     "output_type": "execute_result"
    }
   ],
   "source": [
    "history_df=pd.DataFrame(history_dict)\n",
    "history_df.columns = ['Training_loss','Train_acc','Validation_loss','Validation_acc']\n",
    "history_df.tail().round(3)"
   ]
  },
  {
   "cell_type": "code",
   "execution_count": 18,
   "id": "5dd5316c",
   "metadata": {},
   "outputs": [],
   "source": [
    "def plot_history(history):\n",
    "    losses = history.history['loss']\n",
    "    accs = history.history['accuracy']\n",
    "    val_losses = history.history['val_loss']\n",
    "    val_accs = history.history['val_accuracy']\n",
    "    epochs = len(losses)\n",
    "\n",
    "    plt.figure(figsize=(16, 4))\n",
    "    for i, metrics in enumerate(zip([losses, accs], [val_losses, val_accs], ['Loss', 'Accuracy'])):\n",
    "        plt.subplot(1, 2, i + 1)\n",
    "        plt.plot(range(epochs), metrics[0], label='Training {}'.format(metrics[2]))\n",
    "        plt.plot(range(epochs), metrics[1], label='Validation {}'.format(metrics[2]))\n",
    "        plt.legend()\n",
    "    plt.show()\n",
    "\n",
    "def print_validation_report(y_test, predictions):\n",
    "    print(\"Classification Report\")\n",
    "    print(classification_report(y_test, predictions))\n",
    "    print('Accuracy Score: {}'.format(accuracy_score(y_test, predictions)))\n",
    "    \n",
    "def plot_confusion_matrix(y_true, y_pred):\n",
    "    mtx = confusion_matrix(y_true, y_pred)\n",
    "    fig, ax = plt.subplots(figsize=(8,8))\n",
    "    sns.heatmap(mtx, annot=True, fmt='d', linewidths=.75,  cbar=False, ax=ax,cmap='Blues',linecolor='white')\n",
    "    plt.ylabel('true label')\n",
    "    plt.xlabel('predicted label')"
   ]
  },
  {
   "cell_type": "code",
   "execution_count": 19,
   "id": "f8b42e25",
   "metadata": {},
   "outputs": [
    {
     "data": {
      "image/png": "[encoded data removed]",
      "text/plain": [
       "<Figure size 1152x288 with 2 Axes>"
      ]
     },
     "metadata": {
      "needs_background": "light"
     },
     "output_type": "display_data"
    }
   ],
   "source": [
    "plot_history(history3)"
   ]
  },
  {
   "cell_type": "code",
   "execution_count": 33,
   "id": "8579db9d",
   "metadata": {},
   "outputs": [],
   "source": [
    "y_test1 = []\n",
    "for i in y_test:\n",
    "    y_test1.append(i.argmax())"
   ]
  },
  {
   "cell_type": "code",
   "execution_count": 34,
   "id": "fc5e8cf6",
   "metadata": {},
   "outputs": [
    {
     "name": "stdout",
     "output_type": "stream",
     "text": [
      "1/1 [==============================] - 0s 368ms/step\n",
      "Classification Report\n",
      "              precision    recall  f1-score   support\n",
      "\n",
      "           0       0.50      1.00      0.67        10\n",
      "           1       0.00      0.00      0.00        10\n",
      "\n",
      "    accuracy                           0.50        20\n",
      "   macro avg       0.25      0.50      0.33        20\n",
      "weighted avg       0.25      0.50      0.33        20\n",
      "\n",
      "Accuracy Score: 0.5\n"
     ]
    },
    {
     "name": "stderr",
     "output_type": "stream",
     "text": [
      "C:\\Users\\avitr\\anaconda3\\lib\\site-packages\\sklearn\\metrics\\_classification.py:1327: UndefinedMetricWarning: Precision and F-score are ill-defined and being set to 0.0 in labels with no predicted samples. Use `zero_division` parameter to control this behavior.\n",
      "  _warn_prf(average, modifier, msg_start, len(result))\n",
      "C:\\Users\\avitr\\anaconda3\\lib\\site-packages\\sklearn\\metrics\\_classification.py:1327: UndefinedMetricWarning: Precision and F-score are ill-defined and being set to 0.0 in labels with no predicted samples. Use `zero_division` parameter to control this behavior.\n",
      "  _warn_prf(average, modifier, msg_start, len(result))\n",
      "C:\\Users\\avitr\\anaconda3\\lib\\site-packages\\sklearn\\metrics\\_classification.py:1327: UndefinedMetricWarning: Precision and F-score are ill-defined and being set to 0.0 in labels with no predicted samples. Use `zero_division` parameter to control this behavior.\n",
      "  _warn_prf(average, modifier, msg_start, len(result))\n"
     ]
    },
    {
     "data": {
      "image/png": "[encoded data removed]",
      "text/plain": [
       "<Figure size 576x576 with 1 Axes>"
      ]
     },
     "metadata": {
      "needs_background": "light"
     },
     "output_type": "display_data"
    }
   ],
   "source": [
    "pred1= model1.predict(x_test_norm)\n",
    "pred1=np.argmax(pred1, axis=1)\n",
    "print_validation_report(y_test1, pred1)\n",
    "plot_confusion_matrix(y_test1,pred1)"
   ]
  },
  {
   "cell_type": "code",
   "execution_count": null,
   "id": "744ea8f4",
   "metadata": {},
   "outputs": [],
   "source": []
  }
 ],
 "metadata": {
  "kernelspec": {
   "display_name": "Python 3 (ipykernel)",
   "language": "python",
   "name": "python3"
  },
  "language_info": {
   "codemirror_mode": {
    "name": "ipython",
    "version": 3
   },
   "file_extension": ".py",
   "mimetype": "text/x-python",
   "name": "python",
   "nbconvert_exporter": "python",
   "pygments_lexer": "ipython3",
   "version": "3.9.12"
  }
 },
 "nbformat": 4,
 "nbformat_minor": 5
}
