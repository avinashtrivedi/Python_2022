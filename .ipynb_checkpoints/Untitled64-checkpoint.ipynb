{
 "cells": [
  {
   "cell_type": "code",
   "execution_count": 26,
   "id": "cc143b12",
   "metadata": {},
   "outputs": [
    {
     "name": "stdout",
     "output_type": "stream",
     "text": [
      "4.307268878672825 miles\n",
      "8.910957633856578 miles\n"
     ]
    }
   ],
   "source": [
    "class Building:\n",
    "    '''\n",
    "    Purpose: Represents a public building in St. Paul\n",
    "    Instance variables:\n",
    "        self.name: string - the building's name\n",
    "        self.lat: float - the latitude of the building's location\n",
    "        self.long: float - the longitude of the building's location\n",
    "        self.open: float - the building's opening time\n",
    "        self.close: float - the building's closing time\n",
    "        self.meeting: boolean - whether building has a meeting room\n",
    "        self.fields: int - # of softball fields attached to building\n",
    "    Methods:\n",
    "        __init__(self, line): Takes in a line from a CSV file \n",
    "            representing a building and splits it up to get the data \n",
    "            required for each instance variable\n",
    "        __str__(self): Returns the string representation of this        \n",
    "            object.  The name of the building is used for this.\n",
    "        distance(self, other): Takes in two Building objects \n",
    "            (self, other) and returns the approximate distance \n",
    "            between the two in miles\n",
    "    '''\n",
    "    def __init__(self, line):\n",
    "        data = line.split(',')\n",
    "        self.name = data[1]\n",
    "        self.lat = float(data[2])\n",
    "        self.long = float(data[3])\n",
    "        self.open = float(data[4])\n",
    "        self.close = float(data[5])\n",
    "        self.meeting = (data[6] == 'Yes')\n",
    "        self.fields = int(data[7])\n",
    "    def __str__(self):\n",
    "        return f'{self.name}'\n",
    "    def distance(self, other):\n",
    "        dx = 48.91 * (self.long - other.long)\n",
    "        dy = 69.17 * (self.lat - other.lat)\n",
    "        distance_between = (dx ** 2 + dy ** 2) ** (1/2)\n",
    "        return f'{distance_between} miles'\n",
    "\n",
    "\n",
    "\n",
    "\n",
    "if __name__ == '__main__':\n",
    "    with open(r'D:\\OneDrive - NITT\\Custom_Download\\buildings.csv') as fp:\n",
    "        lines = fp.readlines()\n",
    "        station19 = Building(lines[6])\n",
    "        rondo = Building(lines[11])\n",
    "        hazel = Building(lines[25])\n",
    "        print(station19.distance(rondo)) #Should be about 4.3 miles\n",
    "        print(hazel.distance(station19)) #Should be about 8.9 miles\n",
    "    \n"
   ]
  },
  {
   "cell_type": "code",
   "execution_count": 27,
   "id": "72d1e393",
   "metadata": {},
   "outputs": [],
   "source": [
    "class Firehouse(Building):\n",
    "  def is_open(self, time, day):\n",
    "    return False\n",
    "\n",
    "class Library(Building):\n",
    "  def __init__(self, line):\n",
    "    self.events = []\n",
    "  \n",
    "  def is_open(self, time, day):  \n",
    "    if (self.open <= time <= self.close) and day not in self.events:\n",
    "      return True\n",
    "    \n",
    "class Rec(Building):\n",
    "  def __init__(self, line):\n",
    "    self.teams = []\n",
    "    \n",
    "    \n",
    "  def is_open(self, time, day): \n",
    "    if (self.open <= time <= self.close) and day != 'Su':\n",
    "      return True"
   ]
  },
  {
   "cell_type": "code",
   "execution_count": 39,
   "id": "6284e08f",
   "metadata": {},
   "outputs": [],
   "source": [
    "class City:\n",
    "    def __init__(self,name,fname):\n",
    "        self.name = name\n",
    "        self.public = []\n",
    "        fp = open(fname)\n",
    "        data = fp.readlines()\n",
    "        fp.close()\n",
    "        data = data[1:]\n",
    "        for line in data:\n",
    "            if line.startswith('F'):\n",
    "                self.public.append(Firehouse(line))\n",
    "            elif line.startswith('L'):\n",
    "                self.public.append(Library(line))\n",
    "            else:\n",
    "                self.public.append(Rec(line))\n",
    "                \n",
    "    def distance(self, other):\n",
    "        dx = 48.91 * (self.long - other.long)\n",
    "        dy = 69.17 * (self.lat - other.lat)\n",
    "        distance_between = (dx ** 2 + dy ** 2) ** (1/2)\n",
    "        return f'{distance_between} miles'\n",
    "    \n",
    "    def fire(self, building):\n",
    "        for i in self.public:\n",
    "            try:\n",
    "                print(i.distance(building))\n",
    "            except:\n",
    "                pass"
   ]
  },
  {
   "cell_type": "code",
   "execution_count": 40,
   "id": "c0a7eb52",
   "metadata": {},
   "outputs": [],
   "source": [
    "stpaul = City('St. Paul', r'D:\\OneDrive - NITT\\Custom_Download\\buildings.csv')\n",
    "hamline = stpaul.public[37]\n",
    "closest = stpaul.fire(hamline)"
   ]
  },
  {
   "cell_type": "code",
   "execution_count": null,
   "id": "f0811c79",
   "metadata": {},
   "outputs": [],
   "source": [
    "station19 = Firehouse(lines[6])"
   ]
  },
  {
   "cell_type": "code",
   "execution_count": null,
   "id": "d3e10767",
   "metadata": {},
   "outputs": [],
   "source": [
    "station19.distance(rondo))"
   ]
  },
  {
   "cell_type": "code",
   "execution_count": 19,
   "id": "9bbba940",
   "metadata": {},
   "outputs": [
    {
     "ename": "TypeError",
     "evalue": "distance() takes 2 positional arguments but 3 were given",
     "output_type": "error",
     "traceback": [
      "\u001b[1;31m---------------------------------------------------------------------------\u001b[0m",
      "\u001b[1;31mTypeError\u001b[0m                                 Traceback (most recent call last)",
      "Input \u001b[1;32mIn [19]\u001b[0m, in \u001b[0;36m<cell line: 1>\u001b[1;34m()\u001b[0m\n\u001b[1;32m----> 1\u001b[0m \u001b[43mstpaul\u001b[49m\u001b[38;5;241;43m.\u001b[39;49m\u001b[43mdistance\u001b[49m\u001b[43m(\u001b[49m\u001b[43mhamline\u001b[49m\u001b[43m,\u001b[49m\u001b[43mstpaul\u001b[49m\u001b[38;5;241;43m.\u001b[39;49m\u001b[43mpublic\u001b[49m\u001b[43m[\u001b[49m\u001b[38;5;241;43m5\u001b[39;49m\u001b[43m]\u001b[49m\u001b[43m)\u001b[49m\n",
      "\u001b[1;31mTypeError\u001b[0m: distance() takes 2 positional arguments but 3 were given"
     ]
    }
   ],
   "source": [
    "# if __name__ == '__main__':\n",
    "#   with open('buildings.csv') as fp:\n",
    "#     lines = fp.readlines()\n",
    "#     station19 = Firehouse(lines[6])\n",
    "#     rondo = Library(lines[12])\n",
    "#     hazel = Rec(lines[25])\n",
    "#     print(station19.distance(rondo)) #Should be about 4.3 miles\n",
    "#     print(hazel.distance(station19)) #Should be about 8.9 miles\n",
    "#     print(rondo.is_open('14.25', 'Th'))"
   ]
  },
  {
   "cell_type": "markdown",
   "id": "6536d9a0",
   "metadata": {},
   "source": [
    "Add a method fire(self, building) to the City class.  Given a City object, this method takes in a Building object (or one of its derived classes) that is on fire, and returns the closest Firehouse object to that building.  \n",
    "\n",
    "Use the .distance method from the warm-up to accomplish this.  You can determine whether or not an object obj is a Firehouse with the line if isinstance(obj, Firehouse): \n",
    "\n",
    "As you loop through each Firehouse, print out the Firehouse along with the distance to that Firehouse.  Then return the closest Firehouse to the given Building at the end."
   ]
  }
 ],
 "metadata": {
  "kernelspec": {
   "display_name": "Python 3 (ipykernel)",
   "language": "python",
   "name": "python3"
  },
  "language_info": {
   "codemirror_mode": {
    "name": "ipython",
    "version": 3
   },
   "file_extension": ".py",
   "mimetype": "text/x-python",
   "name": "python",
   "nbconvert_exporter": "python",
   "pygments_lexer": "ipython3",
   "version": "3.9.12"
  }
 },
 "nbformat": 4,
 "nbformat_minor": 5
}
