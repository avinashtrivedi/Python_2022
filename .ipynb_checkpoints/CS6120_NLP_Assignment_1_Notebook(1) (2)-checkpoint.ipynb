{
 "cells": [
  {
   "cell_type": "markdown",
   "id": "bc97d6da",
   "metadata": {
    "id": "bc97d6da"
   },
   "source": [
    "## CS 6120: Natural Language Processing - Prof. Ahmad Uzair\n",
    "\n",
    "### Assignment 1: Naive Bayes\n",
    "### Total Points: 100 points\n",
    "\n",
    "You will be dealing with movie review data that includes both positive and negative reviews in this assignment. You will use Sentiment Analysis to assess if a given review is positive or negative using the provided dataset.\n",
    "\n",
    "Therefore, we will make use of Naive Bayes algorithm to perform sentiment analysis on the movie review dataset.\n",
    "\n",
    "## Importing the Libraries"
   ]
  },
  {
   "cell_type": "code",
   "execution_count": 1,
   "id": "a03450ac",
   "metadata": {
    "id": "a03450ac"
   },
   "outputs": [],
   "source": [
    "import numpy as np\n",
    "import math\n",
    "import pandas as pd\n",
    "import re\n",
    "import nltk\n",
    "from nltk.corpus import stopwords\n",
    "from nltk.stem import PorterStemmer\n",
    "from nltk.tokenize import word_tokenize\n",
    "import warnings\n",
    "import seaborn as sns\n",
    "import matplotlib.pyplot as plt\n",
    "warnings.filterwarnings(\"ignore\")"
   ]
  },
  {
   "cell_type": "markdown",
   "id": "fc584cc2",
   "metadata": {
    "id": "fc584cc2"
   },
   "source": [
    "## Reading the data\n",
    "\n",
    "When reading the data, ensure that the '.csv' file is in the same location where your jupyter notebook is used. This way the files are organized and easy to read using the pandas library. "
   ]
  },
  {
   "cell_type": "code",
   "execution_count": 2,
   "id": "3c9ffbf5",
   "metadata": {
    "id": "3c9ffbf5"
   },
   "outputs": [],
   "source": [
    "## Reading the data and removing columns that are not important. \n",
    "warnings.filterwarnings(\"ignore\")\n",
    "df = pd.read_csv(\"movie_reviews.csv\", sep = ',', encoding = 'latin-1', usecols = lambda col: col not in [\"Unnamed: 2\", \"Unnamed: 3\", \"Unnamed: 4\"])"
   ]
  },
  {
   "cell_type": "code",
   "execution_count": 3,
   "id": "f7fa8ac0",
   "metadata": {
    "colab": {
     "base_uri": "https://localhost:8080/",
     "height": 206
    },
    "id": "f7fa8ac0",
    "outputId": "69edaf28-1e2e-4ec7-9530-b30a2853ab9e"
   },
   "outputs": [
    {
     "data": {
      "text/html": [
       "<div>\n",
       "<style scoped>\n",
       "    .dataframe tbody tr th:only-of-type {\n",
       "        vertical-align: middle;\n",
       "    }\n",
       "\n",
       "    .dataframe tbody tr th {\n",
       "        vertical-align: top;\n",
       "    }\n",
       "\n",
       "    .dataframe thead th {\n",
       "        text-align: right;\n",
       "    }\n",
       "</style>\n",
       "<table border=\"1\" class=\"dataframe\">\n",
       "  <thead>\n",
       "    <tr style=\"text-align: right;\">\n",
       "      <th></th>\n",
       "      <th>review</th>\n",
       "      <th>sentiment</th>\n",
       "    </tr>\n",
       "  </thead>\n",
       "  <tbody>\n",
       "    <tr>\n",
       "      <th>0</th>\n",
       "      <td>One of the other reviewers has mentioned that ...</td>\n",
       "      <td>positive</td>\n",
       "    </tr>\n",
       "    <tr>\n",
       "      <th>1</th>\n",
       "      <td>A wonderful little production. &lt;br /&gt;&lt;br /&gt;The...</td>\n",
       "      <td>positive</td>\n",
       "    </tr>\n",
       "    <tr>\n",
       "      <th>2</th>\n",
       "      <td>I thought this was a wonderful way to spend ti...</td>\n",
       "      <td>positive</td>\n",
       "    </tr>\n",
       "    <tr>\n",
       "      <th>3</th>\n",
       "      <td>Petter Mattei's \"Love in the Time of Money\" is...</td>\n",
       "      <td>positive</td>\n",
       "    </tr>\n",
       "    <tr>\n",
       "      <th>4</th>\n",
       "      <td>Probably my all-time favorite movie, a story o...</td>\n",
       "      <td>positive</td>\n",
       "    </tr>\n",
       "  </tbody>\n",
       "</table>\n",
       "</div>"
      ],
      "text/plain": [
       "                                              review sentiment\n",
       "0  One of the other reviewers has mentioned that ...  positive\n",
       "1  A wonderful little production. <br /><br />The...  positive\n",
       "2  I thought this was a wonderful way to spend ti...  positive\n",
       "3  Petter Mattei's \"Love in the Time of Money\" is...  positive\n",
       "4  Probably my all-time favorite movie, a story o...  positive"
      ]
     },
     "execution_count": 3,
     "metadata": {},
     "output_type": "execute_result"
    }
   ],
   "source": [
    "# print head of data frame with help of head function\n",
    "df.head()"
   ]
  },
  {
   "cell_type": "markdown",
   "id": "1749da04",
   "metadata": {
    "id": "1749da04"
   },
   "source": [
    "## Count plot of the output categories: positive or negative\n",
    "\n",
    "Feel free to take a look at the output and whether the classes are balanced or imbalanced. "
   ]
  },
  {
   "cell_type": "code",
   "execution_count": 4,
   "id": "c152e8a4",
   "metadata": {
    "colab": {
     "base_uri": "https://localhost:8080/",
     "height": 515
    },
    "id": "c152e8a4",
    "outputId": "a2ba0476-3238-4511-fcf0-780508493f48"
   },
   "outputs": [
    {
     "data": {
      "text/plain": [
       "<AxesSubplot:>"
      ]
     },
     "execution_count": 4,
     "metadata": {},
     "output_type": "execute_result"
    },
    {
     "data": {
      "image/png": "[encoded data removed]",
      "text/plain": [
       "<Figure size 432x288 with 1 Axes>"
      ]
     },
     "metadata": {
      "needs_background": "light"
     },
     "output_type": "display_data"
    }
   ],
   "source": [
    "import numpy as np\n",
    "import math\n",
    "import pandas as pd\n",
    "import re\n",
    "import nltk\n",
    "from nltk.corpus import stopwords\n",
    "from nltk.stem import PorterStemmer\n",
    "from nltk.tokenize import word_tokenize\n",
    "import warnings\n",
    "import seaborn as sns\n",
    "import matplotlib.pyplot as plt\n",
    "warnings.filterwarnings(\"ignore\")\n",
    "\n",
    "df = pd.read_csv(\"movie_reviews.csv\", sep = ',', encoding = 'latin-1', usecols = lambda col: col not in [\"Unnamed: 2\", \"Unnamed: 3\", \"Unnamed: 4\"])\n",
    "\n",
    "#plt.figure(figsize = None)\n",
    "#sns.countplot(None)\n",
    "df['sentiment'].value_counts().plot(kind=\"bar\")\n",
    "#plt.title(\"Positive Vs. Negative reviews count\", fontsize = 15)\n",
    "#plt.show()\n"
   ]
  },
  {
   "cell_type": "markdown",
   "id": "9b8549f2",
   "metadata": {
    "id": "9b8549f2"
   },
   "source": [
    "## Upsampling the minority class: (5 points)\n",
    "\n",
    "It is known that Naive bayes is not robust to class imbalance. It could be seen above that the data is little imbalanced. Therefore, class balancing can be done before giving it to the Naive Bayes model for prediction. \n",
    "\n",
    "Feel free to use 'resample' library from sklearn. "
   ]
  },
  {
   "cell_type": "code",
   "execution_count": 5,
   "id": "yHJTAqrW7XMN",
   "metadata": {
    "id": "yHJTAqrW7XMN"
   },
   "outputs": [],
   "source": [
    "## hint: use resample from sklearn.utils\n",
    "from sklearn.utils import resample\n",
    "import pandas as pd\n",
    "\n",
    "negatives = resample(df[df['sentiment'] == 'negative'], n_samples=12474,random_state=0)\n",
    "positives = df[df['sentiment'] == 'positive']\n",
    "\n",
    "df_upsampled = pd.concat([negatives, positives])\n"
   ]
  },
  {
   "cell_type": "code",
   "execution_count": 6,
   "id": "6a9329bb",
   "metadata": {
    "id": "6a9329bb"
   },
   "outputs": [
    {
     "data": {
      "text/plain": [
       "(12474, 2)"
      ]
     },
     "execution_count": 6,
     "metadata": {},
     "output_type": "execute_result"
    }
   ],
   "source": [
    "## Just to ensure that upsampling was done successfully, take a look at the shape of the data in \n",
    "## this cell. \n",
    "\n",
    "# print the shape of data set with the help of shape function having \"negative\" as class label\n",
    "negatives.shape"
   ]
  },
  {
   "cell_type": "markdown",
   "id": "6f8bf6e7",
   "metadata": {
    "id": "6f8bf6e7"
   },
   "source": [
    "### Expected Output : \n",
    "(12474, 2)"
   ]
  },
  {
   "cell_type": "code",
   "execution_count": 7,
   "id": "bdea8155",
   "metadata": {
    "colab": {
     "base_uri": "https://localhost:8080/"
    },
    "id": "bdea8155",
    "outputId": "c665c4b9-826e-4f4e-e30e-06e0935a0622"
   },
   "outputs": [
    {
     "data": {
      "text/plain": [
       "(12474, 2)"
      ]
     },
     "execution_count": 7,
     "metadata": {},
     "output_type": "execute_result"
    }
   ],
   "source": [
    "## Ensure that the same number of data points are present for both 'positive' and 'negative' data\n",
    "\n",
    "# print the shape of data set with the help of shape function having \"positive\" as class label\n",
    "positives.shape"
   ]
  },
  {
   "cell_type": "markdown",
   "id": "626f01d5",
   "metadata": {
    "id": "626f01d5"
   },
   "source": [
    "### Expected Output : \n",
    "(12474, 2)"
   ]
  },
  {
   "cell_type": "code",
   "execution_count": 8,
   "id": "NoW5z6SzAeP8",
   "metadata": {
    "id": "NoW5z6SzAeP8"
   },
   "outputs": [],
   "source": [
    "## In this cell, we are going to be dividing the data into train and test points\n",
    "## Ensure that you store the upsampled data in a variable called 'df_upsampled' \n",
    "## so that the below operations are performed successfully\n",
    "import numpy as np\n",
    "import math\n",
    "import pandas as pd\n",
    "import re\n",
    "import nltk\n",
    "from nltk.corpus import stopwords\n",
    "from nltk.stem import PorterStemmer\n",
    "from nltk.tokenize import word_tokenize\n",
    "import warnings\n",
    "import seaborn as sns\n",
    "import matplotlib.pyplot as plt\n",
    "from bs4 import BeautifulSoup\n",
    "\n",
    "warnings.filterwarnings(\"ignore\")\n",
    "\n",
    "\n",
    "## Considering 10000 positive and 10000 negative data points\n",
    "negative_data_points_train = df_upsampled[df_upsampled['sentiment'] == 'negative'].iloc[:10000]\n",
    "positive_data_points_train = df_upsampled[df_upsampled['sentiment'] == 'positive'].iloc[:10000]\n",
    "\n",
    "## Considering the remaining data points for test\n",
    "negative_data_points_test = df_upsampled[df_upsampled['sentiment'] == 'negative'].iloc[10000:]\n",
    "positive_data_points_test = df_upsampled[df_upsampled['sentiment'] == 'positive'].iloc[10000:]\n",
    "\n",
    "## Concatenate the training positive and negative reviews\n",
    "X_train = pd.concat([negative_data_points_train['review'], positive_data_points_train['review']])\n",
    "## Concatenating the training positive and negative outputs\n",
    "y_train = pd.concat([negative_data_points_train['sentiment'], positive_data_points_train['sentiment']])\n",
    "\n",
    "## Concatenating the test positive and negative reviews\n",
    "X_test = pd.concat([negative_data_points_test['review'], positive_data_points_test['review']])\n",
    "## Concatenating the test positive and negative outputs\n",
    "y_test = pd.concat([negative_data_points_test['sentiment'], positive_data_points_test['sentiment']])\n"
   ]
  },
  {
   "cell_type": "code",
   "execution_count": 9,
   "id": "6428047d",
   "metadata": {
    "colab": {
     "base_uri": "https://localhost:8080/"
    },
    "id": "6428047d",
    "outputId": "10d10601-0ce0-4688-c4d3-75fa386583fd"
   },
   "outputs": [
    {
     "data": {
      "text/plain": [
       "negative    10000\n",
       "positive    10000\n",
       "Name: sentiment, dtype: int64"
      ]
     },
     "execution_count": 9,
     "metadata": {},
     "output_type": "execute_result"
    }
   ],
   "source": [
    "## Take a look at the total number of classes and their count using '.value_counts()' for y_train and y_test.\n",
    "## Ensure that there are equal number of positive and negative reviews. \n",
    "y_train.value_counts()\n"
   ]
  },
  {
   "cell_type": "markdown",
   "id": "7dfe6517",
   "metadata": {
    "id": "7dfe6517"
   },
   "source": [
    "### Expected Output:\n",
    "negative    10000<br>\n",
    "positive    10000<br>\n",
    "Name: sentiment, dtype: int64"
   ]
  },
  {
   "cell_type": "code",
   "execution_count": 10,
   "id": "2beae1d6",
   "metadata": {
    "colab": {
     "base_uri": "https://localhost:8080/"
    },
    "id": "2beae1d6",
    "outputId": "6896f930-6a1a-45db-b74c-d080c9aedd0c"
   },
   "outputs": [
    {
     "data": {
      "text/plain": [
       "negative    2474\n",
       "positive    2474\n",
       "Name: sentiment, dtype: int64"
      ]
     },
     "execution_count": 10,
     "metadata": {},
     "output_type": "execute_result"
    }
   ],
   "source": [
    "y_test.value_counts()"
   ]
  },
  {
   "cell_type": "markdown",
   "id": "9163f897",
   "metadata": {
    "id": "9163f897"
   },
   "source": [
    "### Expected Output : \n",
    "negative    2474<br>\n",
    "positive    2474<br>\n",
    "Name: sentiment, dtype: int64"
   ]
  },
  {
   "cell_type": "markdown",
   "id": "6501699b",
   "metadata": {
    "id": "6501699b"
   },
   "source": [
    "## Q1. Pre-process the reviews: (10 points)\n",
    "\n",
    "We know that a review contains links, punctuation, stopwords and many other words that don't give a lot of meaning for the Naive Bayes model for prediction. \n",
    "\n",
    "In the cell below, one must implement text-preprocessing and remove links, punctuations and stopwords. It is also important to lowercase the letters so that 'Admire' and 'admire' are not treated as different words. \n",
    "\n",
    "In addition to this, perform stemming operation so that similar words are reduced. To know more about stemming, feel free to take a look at this link.\n",
    "\n",
    "https://nlp.stanford.edu/IR-book/html/htmledition/stemming-and-lemmatization-1.html"
   ]
  },
  {
   "cell_type": "code",
   "execution_count": 11,
   "id": "CirLN9-ddQ1r",
   "metadata": {
    "id": "CirLN9-ddQ1r"
   },
   "outputs": [],
   "source": [
    "# TASK CELL\n",
    "import re\n",
    "\n",
    "ps = PorterStemmer()\n",
    "\n",
    "def clean_review(review):\n",
    "    '''\n",
    "    Input:\n",
    "        review: a string containing a review.\n",
    "    Output:\n",
    "        review_cleaned: a processed review. \n",
    "\n",
    "    '''\n",
    "    review = BeautifulSoup(review).get_text()\n",
    "    review = re.sub('[^a-zA-z0-9]+\\s*', ' ', review)\n",
    "    review_cleaned = [ps.stem(word) for word in review.lower().split() if word not in stopwords.words('english') ]\n",
    "\n",
    "    return \" \".join(review_cleaned)\n",
    "\n"
   ]
  },
  {
   "cell_type": "markdown",
   "id": "a7632fe5",
   "metadata": {
    "id": "a7632fe5"
   },
   "source": [
    "## Q2. Implement a find_occurrence function (5 points):\n",
    "\n",
    "In this function, we find the total occurrence of a word giving information such as label, word and frequency dictionary.\n",
    "\n",
    "Note that this function is used later in the code when we are going to be predicting the output using Naive Bayes. "
   ]
  },
  {
   "cell_type": "code",
   "execution_count": 12,
   "id": "eb282b81",
   "metadata": {
    "id": "eb282b81"
   },
   "outputs": [],
   "source": [
    "# TASK CELL\n",
    "def find_occurrence(frequency, word, label):\n",
    "    '''\n",
    "    Params:\n",
    "        frequency: a dictionary with the frequency of each pair (or tuple)\n",
    "        word: the word to look up\n",
    "        label: the label corresponding to the word\n",
    "    Return:\n",
    "        n: the number of times the word with its corresponding label appears.\n",
    "    '''\n",
    "  \n",
    "    return frequency.get( (word, label), 0)"
   ]
  },
  {
   "cell_type": "markdown",
   "id": "29a2249d",
   "metadata": {
    "id": "29a2249d"
   },
   "source": [
    "### Converting output to numerical format:\n",
    "\n",
    "We have outputs as 'positive' or 'negative'. In the cell below, we convert it to a numerical format. "
   ]
  },
  {
   "cell_type": "code",
   "execution_count": 14,
   "id": "bcdc2b2c",
   "metadata": {
    "id": "bcdc2b2c"
   },
   "outputs": [],
   "source": [
    "## With the use of mapping function, we replace\n",
    "## the label in the form of string to an integer. \n",
    "\n",
    "output_map = {'positive': 0, 'negative': 1}\n",
    "y_train = y_train.map(output_map)\n",
    "y_test = y_test.map(output_map)"
   ]
  },
  {
   "cell_type": "code",
   "execution_count": 15,
   "id": "3dde0bbd",
   "metadata": {
    "colab": {
     "base_uri": "https://localhost:8080/"
    },
    "id": "3dde0bbd",
    "outputId": "223dfbc1-8efe-4183-b6d7-c9cb025cb285"
   },
   "outputs": [
    {
     "data": {
      "text/plain": [
       "1    10000\n",
       "0    10000\n",
       "Name: sentiment, dtype: int64"
      ]
     },
     "execution_count": 15,
     "metadata": {},
     "output_type": "execute_result"
    }
   ],
   "source": [
    "## Ensuring that there are equal number of classes on the training data. \n",
    "y_train.value_counts()"
   ]
  },
  {
   "cell_type": "code",
   "execution_count": 16,
   "id": "f2959b85",
   "metadata": {
    "colab": {
     "base_uri": "https://localhost:8080/",
     "height": 178
    },
    "id": "f2959b85",
    "outputId": "e514214b-cd57-43fc-875d-1821ddab63f8"
   },
   "outputs": [
    {
     "data": {
      "text/plain": [
       "'There is an interesting discussion in this movie. Is being a moral person good enough, or do you need something more?<br /><br />The movie preaches that without the guidance of God, being a morally good person is not enough. There is a line early in the movie, \"You and I can look at a person who is morally good, but both know he is going to go to hell.\"<br /><br />While I am not a Christian, the discussions about this throughout the course of the movie were fascinating, but not in the way the movie intended. I left the movie with a stronger feeling that being morally good *is* enough. The arguments and discussions presented were heavily biased, so much so that they crush themselves in the weight of their own ignorance. Fanaticism can be a powerful thing, especially when inferenced in the minds of the ignorant and uneducated. As George Carlin\\'s character in Dogma said: \"hook em while they\\'re young\".<br /><br />The basic premise is a very interesting one also. A Bible Scholar from the 1890s is attempting to publish a book that says that morality without God is OK, as long as the morality is meaningful. Do you only tell a child not to steal? Or do you tell him not to steal because God tells you not to? (not bothering bringing up that telling the child not to steal because, well, how would he feel if it was his marbles that were stolen?)<br /><br />The author, Carlisle, wants the recommendation of his school to help sell the book (to spread the world). However, it needs unanimous consent, and one of the scholars opposes it. He brings up, in a very interesting discussion early in the film about the morality for morality\\'s sake vs God\\'s words argument. To prove his point, he produces a time machine (put in the movie solely to make the plot work, which I\\'m fine with), and sends Carlisle to the year 2002 to see where teaching morality without God will lead us.<br /><br />As should be obvious, he has his opinion, and is changed by what he sees, and has reversed himself by the time of his return (for he does return, that\\'s not really a spoiler, this is a bible movie after all).<br /><br />As for the movie as a movie itself, it\\'s pretty slow and pretty poorly acted. Something that was *not* needed in this movie, is that it produces two \"bad guys\" who want to try to figure out who Carlisle is, even tho he hasn\\'t hurt anyone, committed a crime, or anything. What\\'s wrong with the movie just showing Carlisle\\'s opinion, showing his view of this \"sinful world\", and returning him with a new viewpoint? <br /><br />Also, there a few points in the movie which affirm to me that I\\'m happy I\\'m not a Christian, or at least someone who says \"It\\'s God or nothing\". Three near the end of the movie rather disturbed me.. first, when the two \"bad guys\" corner Carlisle right before he jumps, Carlisle does his *only* truly despicable act.. he fakes like his time-jump is the coming of Jesus, and makes it so the \"bad guys\" (who are also Christians btw, oddly enough), think they just missed the rapture. <br /><br />Secondly, after Carlisle returns, he finds a boy in which he scolded at the beginning of the movie about not stealing (but not mentioning God, kid kept the marbles and ran away), and tells him this time that stealing is wrong because God commands it. Like the Carlin quote above, scaring kids into religion is a faux-pas in my book.<br /><br />And lastly, the epilogue. Another scare tactic. Carlisle asks the inventor how far into the future they could go, and he says he doesn\\'t know.. the epilogue shows him trying to warp a bible into the distant future (starts at 2100), and it fails.. he keeps decrementing the years by 10, and trying again, and by the fade-out, he\\'s at like 2030 or so. Throughout the movie, Carlise mentions that he felt the end of the world coming, because the world was rife with sin and the loss of the name of God.. scare tactics have been in use for thousands of years.. you would think in these enlightened times, the church would have enlightened as well.<br /><br />I\\'m glad I saw this movie. While I was fairly certain before that being morally good was enough, now I know it for a fact. Worth watching if you are not a Christian, to affirm how happy you are to not be as ignorant as the folks in this movie.'"
      ]
     },
     "execution_count": 16,
     "metadata": {},
     "output_type": "execute_result"
    }
   ],
   "source": [
    "## Choosing a random review and taking a look at it.\n",
    "X_train.iloc[0]"
   ]
  },
  {
   "cell_type": "markdown",
   "id": "ed5e43c9",
   "metadata": {
    "id": "ed5e43c9"
   },
   "source": [
    "From the above cell output, it could be seen that there are a lot of words that don't add a lot of meaning to the text. \n",
    "\n",
    "Therefore, those words would be removed. It also reduces the computation time. \n",
    "\n",
    "Therefore, it is a good practice we are following."
   ]
  },
  {
   "cell_type": "code",
   "execution_count": 17,
   "id": "ad3937ea",
   "metadata": {
    "colab": {
     "base_uri": "https://localhost:8080/"
    },
    "id": "ad3937ea",
    "outputId": "68985efe-32cd-4c11-ed5b-2e1e1b297e73"
   },
   "outputs": [
    {
     "name": "stdout",
     "output_type": "stream",
     "text": [
      "interest discuss movi moral person good enough need someth movi preach without guidanc god moral good person enough line earli movi look person moral good know go go hell christian discuss throughout cours movi fascin way movi intend left movi stronger feel moral good enough argument discuss present heavili bias much crush weight ignor fanatic power thing especi inferenc mind ignor uneduc georg carlin charact dogma said hook em young basic premis interest one also bibl scholar 1890 attempt publish book say moral without god ok long moral meaning tell child steal tell steal god tell bother bring tell child steal well would feel marbl stolen author carlisl want recommend school help sell book spread world howev need unanim consent one scholar oppos bring interest discuss earli film moral moral sake vs god word argument prove point produc time machin put movi sole make plot work fine send carlisl year 2002 see teach moral without god lead us obviou opinion chang see revers time return return realli spoiler bibl movi movi movi pretti slow pretti poorli act someth need movi produc two bad guy want tri figur carlisl even tho hurt anyon commit crime anyth wrong movi show carlisl opinion show view sin world return new viewpoint also point movi affirm happi christian least someon say god noth three near end movi rather disturb first two bad guy corner carlisl right jump carlisl truli despic act fake like time jump come jesu make bad guy also christian btw oddli enough think miss raptur secondli carlisl return find boy scold begin movi steal mention god kid kept marbl ran away tell time steal wrong god command like carlin quot scare kid religion faux pa book lastli epilogu anoth scare tactic carlisl ask inventor far futur could go say know epilogu show tri warp bibl distant futur start 2100 fail keep decrement year 10 tri fade like 2030 throughout movi carlis mention felt end world come world rife sin loss name god scare tactic use thousand year would think enlighten time church would enlighten well glad saw movi fairli certain moral good enough know fact worth watch christian affirm happi ignor folk movi\n"
     ]
    }
   ],
   "source": [
    "custom_review = X_train.iloc[0]\n",
    "\n",
    "# print cleaned review\n",
    "print(clean_review(custom_review))"
   ]
  },
  {
   "cell_type": "markdown",
   "id": "3e6cc440",
   "metadata": {
    "id": "3e6cc440"
   },
   "source": [
    "We now use this function to pre-process the review and remove words that don't add a lot of meaning in our model. "
   ]
  },
  {
   "cell_type": "markdown",
   "id": "5a762960",
   "metadata": {
    "id": "5a762960"
   },
   "source": [
    "## Q3. Implementing review counter function: (5 points)\n",
    "\n",
    "It is now time to implement the count function for the reviews. \n",
    "\n",
    "In this function, we count the occurrence of words and get the probabilities \n",
    "for the words based on the training data. \n",
    "\n",
    "In other words, we get the probability of occurrence of a word, given that the output is 'positive'.\n",
    "\n",
    "Similarly, we also compute the probability of occurence of a word, given that the output is 'negative'.\n",
    "\n"
   ]
  },
  {
   "cell_type": "code",
   "execution_count": 18,
   "id": "5de61f77",
   "metadata": {
    "id": "5de61f77"
   },
   "outputs": [],
   "source": [
    "# TASK CELL\n",
    "def review_counter(output_occurrence, reviews, positive_or_negative):\n",
    "    '''\n",
    "    Params:\n",
    "        output_occurrence: a dictionary that will be used to map each pair to its frequency\n",
    "        reviews: a list of reviews\n",
    "        positive_or_negative: a list corresponding to the sentiment of each review (either 0 or 1)\n",
    "    Return:\n",
    "        output: a dictionary mapping each pair to its frequency\n",
    "    '''\n",
    "    ## Steps :\n",
    "    # define the key, which is the word and label tuple\n",
    "    # if the key exists in the dictionary, increment the count\n",
    "    # else, if the key is new, add it to the dictionary and set the count to 1\n",
    "    \n",
    "    for label, review in zip(positive_or_negative, reviews):\n",
    "      split_review = clean_review(review).split()\n",
    "      for word in split_review:\n",
    "        # Your code here\n",
    "        result = find_occurrence(output_occurrence, word, label)\n",
    "        output_occurrence[ (word,label)] = result + 1\n",
    "   \n",
    "    return output_occurrence\n",
    "   \n"
   ]
  },
  {
   "cell_type": "markdown",
   "id": "18238223",
   "metadata": {
    "id": "18238223"
   },
   "source": [
    "### Test your function with example reviews:\n",
    "\n",
    "Feel free to run the cell below and understand whether the above function that you have defined is producing the optimum results. "
   ]
  },
  {
   "cell_type": "code",
   "execution_count": 19,
   "id": "07a4c58a",
   "metadata": {
    "colab": {
     "base_uri": "https://localhost:8080/"
    },
    "id": "07a4c58a",
    "outputId": "dd9e148a-34a9-4cfe-9077-c5de33493d7a"
   },
   "outputs": [
    {
     "data": {
      "text/plain": [
       "{('got', 1): 1,\n",
       " ('bore', 1): 2,\n",
       " ('throught', 1): 1,\n",
       " ('moview', 1): 1,\n",
       " ('movi', 0): 2,\n",
       " ('fantast', 0): 1,\n",
       " ('watch', 1): 1,\n",
       " ('complet', 1): 1,\n",
       " ('wast', 1): 1,\n",
       " ('time', 1): 1,\n",
       " ('money', 1): 1,\n",
       " ('enjoy', 0): 1,\n",
       " ('fullest', 0): 1}"
      ]
     },
     "execution_count": 19,
     "metadata": {},
     "output_type": "execute_result"
    }
   ],
   "source": [
    "# Testing your function\n",
    "\n",
    "result = {}\n",
    "reviews = ['got bored throught the moview', 'The movie was fantastic', 'Will not watch it again', 'Was bored, it was a complete waste of time and money', 'Enjoyed the movie to the fullest']\n",
    "ys = [1, 0, 1, 1, 0]\n",
    "review_counter(result,reviews, ys)"
   ]
  },
  {
   "cell_type": "markdown",
   "id": "927f89bb",
   "metadata": {
    "id": "927f89bb"
   },
   "source": [
    "### Expected Output:\n",
    " {('bored', 1): 2, <br>\n",
    " ('complete', 1): 1, <br>\n",
    " ('enjoyed', 0): 1, <br>\n",
    " ('fantastic', 0): 1, <br>\n",
    " ('fullest', 0): 1, <br>\n",
    " ('got', 1): 1, <br>\n",
    " ('money', 1): 1, <br>\n",
    " ('movie', 0): 2, <br>\n",
    " ('moview', 1): 1, <br>\n",
    " ('throught', 1): 1, <br>\n",
    " ('time', 1): 1, <br>\n",
    " ('waste', 1): 1, <br>\n",
    " ('watch', 1): 1}"
   ]
  },
  {
   "cell_type": "code",
   "execution_count": 28,
   "id": "9bc62e13",
   "metadata": {
    "id": "9bc62e13"
   },
   "outputs": [],
   "source": [
    "# Build the freqs dictionary for later uses\n",
    "\n",
    "freqs = review_counter({}, X_train, y_train)\n"
   ]
  },
  {
   "cell_type": "code",
   "execution_count": 22,
   "id": "0eddf420",
   "metadata": {
    "id": "0eddf420"
   },
   "outputs": [
    {
     "data": {
      "text/plain": [
       "{('interest', 1): 28,\n",
       " ('discuss', 1): 7,\n",
       " ('movi', 1): 238,\n",
       " ('moral', 1): 15,\n",
       " ('person', 1): 15,\n",
       " ('good', 1): 76,\n",
       " ('enough', 1): 23,\n",
       " ('need', 1): 13,\n",
       " ('someth', 1): 35,\n",
       " ('preach', 1): 1,\n",
       " ('without', 1): 24,\n",
       " ('guidanc', 1): 1,\n",
       " ('god', 1): 13,\n",
       " ('line', 1): 17,\n",
       " ('earli', 1): 8,\n",
       " ('look', 1): 49,\n",
       " ('know', 1): 35,\n",
       " ('go', 1): 35,\n",
       " ('hell', 1): 7,\n",
       " ('christian', 1): 6,\n",
       " ('throughout', 1): 7,\n",
       " ('cours', 1): 9,\n",
       " ('fascin', 1): 2,\n",
       " ('way', 1): 34,\n",
       " ('intend', 1): 6,\n",
       " ('left', 1): 12,\n",
       " ('stronger', 1): 1,\n",
       " ('feel', 1): 13,\n",
       " ('argument', 1): 2,\n",
       " ('present', 1): 7,\n",
       " ('heavili', 1): 3,\n",
       " ('bias', 1): 1,\n",
       " ('much', 1): 56,\n",
       " ('crush', 1): 1,\n",
       " ('weight', 1): 1,\n",
       " ('ignor', 1): 4,\n",
       " ('fanatic', 1): 1,\n",
       " ('power', 1): 6,\n",
       " ('thing', 1): 39,\n",
       " ('especi', 1): 8,\n",
       " ('inferenc', 1): 1,\n",
       " ('mind', 1): 9,\n",
       " ('uneduc', 1): 1,\n",
       " ('georg', 1): 2,\n",
       " ('carlin', 1): 2,\n",
       " ('charact', 1): 83,\n",
       " ('dogma', 1): 1,\n",
       " ('said', 1): 5,\n",
       " ('hook', 1): 2,\n",
       " ('em', 1): 1,\n",
       " ('young', 1): 10,\n",
       " ('basic', 1): 3,\n",
       " ('premis', 1): 2,\n",
       " ('one', 1): 112,\n",
       " ('also', 1): 30,\n",
       " ('bibl', 1): 4,\n",
       " ('scholar', 1): 3,\n",
       " ('1890', 1): 1,\n",
       " ('attempt', 1): 11,\n",
       " ('publish', 1): 2,\n",
       " ('book', 1): 17,\n",
       " ('say', 1): 38,\n",
       " ('ok', 1): 4,\n",
       " ('long', 1): 21,\n",
       " ('meaning', 1): 1,\n",
       " ('tell', 1): 11,\n",
       " ('child', 1): 8,\n",
       " ('steal', 1): 9,\n",
       " ('bother', 1): 8,\n",
       " ('bring', 1): 7,\n",
       " ('well', 1): 51,\n",
       " ('would', 1): 62,\n",
       " ('marbl', 1): 2,\n",
       " ('stolen', 1): 2,\n",
       " ('author', 1): 3,\n",
       " ('carlisl', 1): 8,\n",
       " ('want', 1): 41,\n",
       " ('recommend', 1): 7,\n",
       " ('school', 1): 9,\n",
       " ('help', 1): 10,\n",
       " ('sell', 1): 3,\n",
       " ('spread', 1): 2,\n",
       " ('world', 1): 16,\n",
       " ('howev', 1): 20,\n",
       " ('unanim', 1): 1,\n",
       " ('consent', 1): 1,\n",
       " ('oppos', 1): 2,\n",
       " ('film', 1): 186,\n",
       " ('sake', 1): 1,\n",
       " ('vs', 1): 1,\n",
       " ('word', 1): 5,\n",
       " ('prove', 1): 3,\n",
       " ('point', 1): 17,\n",
       " ('produc', 1): 8,\n",
       " ('time', 1): 50,\n",
       " ('machin', 1): 3,\n",
       " ('put', 1): 18,\n",
       " ('sole', 1): 2,\n",
       " ('make', 1): 57,\n",
       " ('plot', 1): 25,\n",
       " ('work', 1): 24,\n",
       " ('fine', 1): 5,\n",
       " ('send', 1): 4,\n",
       " ('year', 1): 24,\n",
       " ('2002', 1): 1,\n",
       " ('see', 1): 66,\n",
       " ('teach', 1): 3,\n",
       " ('lead', 1): 10,\n",
       " ('us', 1): 9,\n",
       " ('obviou', 1): 14,\n",
       " ('opinion', 1): 3,\n",
       " ('chang', 1): 10,\n",
       " ('revers', 1): 1,\n",
       " ('return', 1): 5,\n",
       " ('realli', 1): 44,\n",
       " ('spoiler', 1): 6,\n",
       " ('pretti', 1): 22,\n",
       " ('slow', 1): 3,\n",
       " ('poorli', 1): 6,\n",
       " ('act', 1): 42,\n",
       " ('two', 1): 36,\n",
       " ('bad', 1): 62,\n",
       " ('guy', 1): 27,\n",
       " ('tri', 1): 29,\n",
       " ('figur', 1): 6,\n",
       " ('even', 1): 73,\n",
       " ('tho', 1): 1,\n",
       " ('hurt', 1): 3,\n",
       " ('anyon', 1): 11,\n",
       " ('commit', 1): 3,\n",
       " ('crime', 1): 3,\n",
       " ('anyth', 1): 17,\n",
       " ('wrong', 1): 15,\n",
       " ('show', 1): 43,\n",
       " ('view', 1): 7,\n",
       " ('sin', 1): 3,\n",
       " ('new', 1): 15,\n",
       " ('viewpoint', 1): 2,\n",
       " ('affirm', 1): 2,\n",
       " ('happi', 1): 7,\n",
       " ('least', 1): 15,\n",
       " ('someon', 1): 14,\n",
       " ('noth', 1): 29,\n",
       " ('three', 1): 9,\n",
       " ('near', 1): 3,\n",
       " ('end', 1): 45,\n",
       " ('rather', 1): 12,\n",
       " ('disturb', 1): 2,\n",
       " ('first', 1): 45,\n",
       " ('corner', 1): 3,\n",
       " ('right', 1): 11,\n",
       " ('jump', 1): 5,\n",
       " ('truli', 1): 8,\n",
       " ('despic', 1): 1,\n",
       " ('fake', 1): 2,\n",
       " ('like', 1): 121,\n",
       " ('come', 1): 33,\n",
       " ('jesu', 1): 1,\n",
       " ('btw', 1): 1,\n",
       " ('oddli', 1): 3,\n",
       " ('think', 1): 45,\n",
       " ('miss', 1): 17,\n",
       " ('raptur', 1): 2,\n",
       " ('secondli', 1): 1,\n",
       " ('find', 1): 27,\n",
       " ('boy', 1): 9,\n",
       " ('scold', 1): 1,\n",
       " ('begin', 1): 15,\n",
       " ('mention', 1): 9,\n",
       " ('kid', 1): 22,\n",
       " ('kept', 1): 5,\n",
       " ('ran', 1): 3,\n",
       " ('away', 1): 13,\n",
       " ('command', 1): 2,\n",
       " ('quot', 1): 2,\n",
       " ('scare', 1): 9,\n",
       " ('religion', 1): 2,\n",
       " ('faux', 1): 1,\n",
       " ('pa', 1): 1,\n",
       " ('lastli', 1): 1,\n",
       " ('epilogu', 1): 2,\n",
       " ('anoth', 1): 12,\n",
       " ('tactic', 1): 2,\n",
       " ('ask', 1): 10,\n",
       " ('inventor', 1): 1,\n",
       " ('far', 1): 9,\n",
       " ('futur', 1): 4,\n",
       " ('could', 1): 42,\n",
       " ('warp', 1): 1,\n",
       " ('distant', 1): 1,\n",
       " ('start', 1): 18,\n",
       " ('2100', 1): 1,\n",
       " ('fail', 1): 9,\n",
       " ('keep', 1): 7,\n",
       " ('decrement', 1): 1,\n",
       " ('10', 1): 14,\n",
       " ('fade', 1): 1,\n",
       " ('2030', 1): 1,\n",
       " ('carlis', 1): 1,\n",
       " ('felt', 1): 10,\n",
       " ('rife', 1): 1,\n",
       " ('loss', 1): 3,\n",
       " ('name', 1): 14,\n",
       " ('use', 1): 26,\n",
       " ('thousand', 1): 3,\n",
       " ('enlighten', 1): 2,\n",
       " ('church', 1): 6,\n",
       " ('glad', 1): 2,\n",
       " ('saw', 1): 10,\n",
       " ('fairli', 1): 2,\n",
       " ('certain', 1): 2,\n",
       " ('fact', 1): 18,\n",
       " ('worth', 1): 5,\n",
       " ('watch', 1): 62,\n",
       " ('folk', 1): 2,\n",
       " ('disappoint', 1): 13,\n",
       " ('bit', 1): 14,\n",
       " ('predict', 1): 3,\n",
       " ('live', 1): 14,\n",
       " ('hype', 1): 2,\n",
       " ('plaster', 1): 1,\n",
       " ('box', 1): 5,\n",
       " ('develop', 1): 6,\n",
       " ('windego', 1): 1,\n",
       " ('myth', 1): 1,\n",
       " ('uniqu', 1): 2,\n",
       " ('hous', 1): 11,\n",
       " ('spooki', 1): 2,\n",
       " ('wait', 1): 9,\n",
       " ('big', 1): 10,\n",
       " ('ahhhhh', 1): 1,\n",
       " ('boo', 1): 1,\n",
       " ('never', 1): 28,\n",
       " ('came', 1): 4,\n",
       " ('furthermor', 1): 2,\n",
       " ('plagu', 1): 3,\n",
       " ('poor', 1): 7,\n",
       " ('special', 1): 7,\n",
       " ('effect', 1): 17,\n",
       " ('thu', 1): 2,\n",
       " ('atmospher', 1): 6,\n",
       " ('viewer', 1): 10,\n",
       " ('imagin', 1): 5,\n",
       " ('creat', 1): 6,\n",
       " ('horror', 1): 23,\n",
       " ('suspens', 1): 10,\n",
       " ('session', 1): 1,\n",
       " ('9', 1): 2,\n",
       " ('cube', 1): 2,\n",
       " ('low', 1): 9,\n",
       " ('budget', 1): 13,\n",
       " ('conceiv', 1): 3,\n",
       " ('brilliant', 1): 5,\n",
       " ('duck', 1): 2,\n",
       " ('banal', 1): 1,\n",
       " ('crap', 1): 8,\n",
       " ('speed', 1): 2,\n",
       " ('sens', 1): 9,\n",
       " ('common', 1): 4,\n",
       " ('decenc', 1): 1,\n",
       " ('mankind', 1): 1,\n",
       " ('whizz', 1): 1,\n",
       " ('past', 1): 13,\n",
       " ('stop', 1): 6,\n",
       " ('hit', 1): 12,\n",
       " ('bottom', 1): 4,\n",
       " ('barrel', 1): 2,\n",
       " ('hard', 1): 5,\n",
       " ('bounc', 1): 1,\n",
       " ('back', 1): 21,\n",
       " ('ludicr', 1): 3,\n",
       " ('comedi', 1): 14,\n",
       " ('behold', 1): 1,\n",
       " ('kor', 1): 1,\n",
       " ('beergut', 1): 1,\n",
       " ('conan', 1): 1,\n",
       " ('wannab', 1): 1,\n",
       " ('abund', 1): 2,\n",
       " ('neck', 1): 3,\n",
       " ('hair', 1): 7,\n",
       " ('strut', 1): 1,\n",
       " ('stuff', 1): 5,\n",
       " ('swing', 1): 1,\n",
       " ('sword', 1): 3,\n",
       " ('tomorrow', 1): 2,\n",
       " ('swung', 1): 1,\n",
       " ('amaz', 1): 4,\n",
       " ('beer', 1): 1,\n",
       " ('gut', 1): 2,\n",
       " ('fantast', 1): 1,\n",
       " ('romp', 1): 1,\n",
       " ('idioci', 1): 2,\n",
       " ('sheer', 1): 4,\n",
       " ('bloodi', 1): 2,\n",
       " ('minded', 1): 1,\n",
       " ('finish', 1): 7,\n",
       " ('dri', 1): 1,\n",
       " ('tear', 1): 3,\n",
       " ('joy', 1): 1,\n",
       " ('frustrat', 1): 4,\n",
       " ('inept', 1): 1,\n",
       " ('storytel', 1): 1,\n",
       " ('eye', 1): 8,\n",
       " ('stupid', 1): 12,\n",
       " ('f00l', 1): 1,\n",
       " ('gave', 1): 4,\n",
       " ('peopl', 1): 34,\n",
       " ('5', 1): 5,\n",
       " ('sequel', 1): 10,\n",
       " ('shall', 1): 1,\n",
       " ('wast', 1): 15,\n",
       " ('write', 1): 14,\n",
       " ('everi', 1): 19,\n",
       " ('aspect', 1): 3,\n",
       " ('indescrib', 1): 1,\n",
       " ('done', 1): 17,\n",
       " ('great', 1): 19,\n",
       " ('detail', 1): 4,\n",
       " ('alreadi', 1): 4,\n",
       " ('mani', 1): 26,\n",
       " ('uninspir', 1): 3,\n",
       " ('cockney', 1): 1,\n",
       " ('wide', 1): 1,\n",
       " ('gangster', 1): 1,\n",
       " ('number', 1): 8,\n",
       " ('bore', 1): 15,\n",
       " ('quickli', 1): 5,\n",
       " ('descend', 1): 1,\n",
       " ('utter', 1): 2,\n",
       " ('shambl', 1): 1,\n",
       " ('anybodi', 1): 1,\n",
       " ('pretend', 1): 3,\n",
       " ('hidden', 1): 2,\n",
       " ('masterpiec', 1): 6,\n",
       " ('insid', 1): 5,\n",
       " ('aw', 1): 10,\n",
       " ('mess', 1): 5,\n",
       " ('7', 1): 2,\n",
       " ('8', 1): 2,\n",
       " ('sinc', 1): 10,\n",
       " ('1', 1): 13,\n",
       " ('week', 1): 6,\n",
       " ('run', 1): 11,\n",
       " ('cinema', 1): 6,\n",
       " ('pull', 1): 3,\n",
       " ('yet', 1): 6,\n",
       " ('stick', 1): 7,\n",
       " ('easili', 1): 4,\n",
       " ('terribl', 1): 11,\n",
       " ('ever', 1): 29,\n",
       " ('seen', 1): 30,\n",
       " ('comment', 1): 11,\n",
       " ('inde', 1): 3,\n",
       " ('reason', 1): 15,\n",
       " ('went', 1): 5,\n",
       " ('amus', 1): 2,\n",
       " ('brother', 1): 6,\n",
       " ('eddi', 1): 2,\n",
       " ('appear', 1): 13,\n",
       " ('second', 1): 10,\n",
       " ('heavi', 1): 2,\n",
       " ('pub', 1): 1,\n",
       " ('scene', 1): 43,\n",
       " ('hand', 1): 5,\n",
       " ('thrust', 1): 2,\n",
       " ('zippo', 1): 1,\n",
       " ('lighter', 1): 1,\n",
       " ('toward', 1): 4,\n",
       " ('rhi', 1): 1,\n",
       " ('ifan', 1): 1,\n",
       " ('face', 1): 9,\n",
       " ('bar', 1): 4,\n",
       " ('russia', 1): 1,\n",
       " ('actual', 1): 29,\n",
       " ('former', 1): 5,\n",
       " ('butlin', 1): 1,\n",
       " ('holiday', 1): 1,\n",
       " ('camp', 1): 3,\n",
       " ('barri', 1): 3,\n",
       " ('island', 1): 4,\n",
       " ('absolut', 1): 9,\n",
       " ('experi', 1): 9,\n",
       " ('whatsoev', 1): 3,\n",
       " ('recent', 1): 6,\n",
       " ('join', 1): 2,\n",
       " ('extra', 1): 4,\n",
       " ('agenc', 1): 2,\n",
       " ('part', 1): 23,\n",
       " ('nobodi', 1): 5,\n",
       " ('requir', 1): 2,\n",
       " ('rememb', 1): 9,\n",
       " ('whole', 1): 16,\n",
       " ('coupl', 1): 10,\n",
       " ('day', 1): 9,\n",
       " ('releas', 1): 7,\n",
       " ('heard', 1): 5,\n",
       " ('unpopular', 1): 1,\n",
       " ('disappear', 1): 3,\n",
       " ('fast', 1): 8,\n",
       " ('rightli', 1): 1,\n",
       " ('case', 1): 12,\n",
       " ('rent', 1): 5,\n",
       " ('dvd', 1): 9,\n",
       " ('advis', 1): 2,\n",
       " ('instead', 1): 10,\n",
       " ('pound', 1): 2,\n",
       " ('coin', 1): 1,\n",
       " ('fire', 1): 5,\n",
       " ('red', 1): 3,\n",
       " ('hot', 1): 3,\n",
       " ('jam', 1): 2,\n",
       " ('socket', 1): 1,\n",
       " ('probabl', 1): 21,\n",
       " ('lot', 1): 24,\n",
       " ('less', 1): 11,\n",
       " ('pain', 1): 5,\n",
       " ('rare', 1): 3,\n",
       " ('neg', 1): 4,\n",
       " ('review', 1): 9,\n",
       " ('site', 1): 2,\n",
       " ('compli', 1): 1,\n",
       " ('night', 1): 13,\n",
       " ('listen', 1): 2,\n",
       " ('doubt', 1): 3,\n",
       " ('dullest', 1): 1,\n",
       " ('happen', 1): 12,\n",
       " ('care', 1): 21,\n",
       " ('buy', 1): 2,\n",
       " ('mysteri', 1): 5,\n",
       " ('type', 1): 8,\n",
       " ('action', 1): 21,\n",
       " ('thrill', 1): 3,\n",
       " ('highlight', 1): 1,\n",
       " ('includ', 1): 6,\n",
       " ('spoil', 1): 2,\n",
       " ('man', 1): 14,\n",
       " ('climb', 1): 1,\n",
       " ('window', 1): 4,\n",
       " ('dog', 1): 5,\n",
       " ('bark', 1): 1,\n",
       " ('outsid', 1): 1,\n",
       " ('hotel', 1): 2,\n",
       " ('room', 1): 3,\n",
       " ('car', 1): 7,\n",
       " ('rough', 1): 1,\n",
       " ('ground', 1): 2,\n",
       " ('truck', 1): 2,\n",
       " ('beep', 1): 1,\n",
       " ('horn', 1): 2,\n",
       " ('enjoy', 1): 12,\n",
       " ('hour', 1): 10,\n",
       " ('photo', 1): 4,\n",
       " ('hope', 1): 7,\n",
       " ('similar', 1): 2,\n",
       " ('eeri', 1): 2,\n",
       " ('role', 1): 15,\n",
       " ('william', 1): 5,\n",
       " ('ala', 1): 3,\n",
       " ('sore', 1): 1,\n",
       " ('let', 1): 10,\n",
       " ('sure', 1): 18,\n",
       " ('somewher', 1): 3,\n",
       " ('idea', 1): 9,\n",
       " ('sympathi', 1): 5,\n",
       " ('might', 1): 21,\n",
       " ('given', 1): 14,\n",
       " ('score', 1): 5,\n",
       " ('reserv', 1): 1,\n",
       " ('remak', 1): 7,\n",
       " ('screen', 1): 14,\n",
       " ('play', 1): 37,\n",
       " ('sequenc', 1): 5,\n",
       " ('imag', 1): 4,\n",
       " ('better', 1): 29,\n",
       " ('romanian', 1): 1,\n",
       " ('actor', 1): 32,\n",
       " ('job', 1): 13,\n",
       " ('grow', 1): 4,\n",
       " ('beast', 1): 12,\n",
       " ('war', 1): 7,\n",
       " ('transform', 1): 7,\n",
       " ('familiar', 1): 1,\n",
       " ('origin', 1): 25,\n",
       " ('awesom', 1): 3,\n",
       " ('older', 1): 2,\n",
       " ('cartoon', 1): 9,\n",
       " ('base', 1): 6,\n",
       " ('bw', 1): 2,\n",
       " ('optimu', 1): 6,\n",
       " ('prime', 1): 3,\n",
       " ('primal', 1): 2,\n",
       " ('mean', 1): 15,\n",
       " ('autobot', 1): 1,\n",
       " ('roll', 1): 4,\n",
       " ('sound', 1): 19,\n",
       " ('maxim', 1): 2,\n",
       " ('voic', 1): 10,\n",
       " ('still', 1): 15,\n",
       " ('strong', 1): 3,\n",
       " ('believ', 1): 14,\n",
       " ('real', 1): 15,\n",
       " ('besid', 1): 4,\n",
       " ('powermast', 1): 1,\n",
       " ('optim', 1): 1,\n",
       " ('web', 1): 1,\n",
       " ('megatron', 1): 1,\n",
       " ('seem', 1): 29,\n",
       " ('humor', 1): 4,\n",
       " ('version', 1): 14,\n",
       " ('evil', 1): 9,\n",
       " ('seri', 1): 12,\n",
       " ('cooler', 1): 1,\n",
       " ('robot', 1): 2,\n",
       " ('anim', 1): 5,\n",
       " ('vehicl', 1): 3,\n",
       " ('spaceship', 1): 1,\n",
       " ('gimm', 1): 1,\n",
       " ('cannot', 1): 5,\n",
       " ('stress', 1): 1,\n",
       " ('director', 1): 32,\n",
       " ('took', 1): 4,\n",
       " ('cheap', 1): 2,\n",
       " ('littl', 1): 30,\n",
       " ('unintellig', 1): 1,\n",
       " ('shot', 1): 11,\n",
       " ('distress', 1): 1,\n",
       " ('cloth', 1): 3,\n",
       " ('dirti', 1): 2,\n",
       " ('earth', 1): 2,\n",
       " ('get', 1): 61,\n",
       " ('clark', 1): 2,\n",
       " ('kent', 1): 2,\n",
       " ('crack', 1): 1,\n",
       " ('head', 1): 9,\n",
       " ('ban', 1): 1,\n",
       " ('motion', 1): 1,\n",
       " ('pictur', 1): 9,\n",
       " ('rest', 1): 7,\n",
       " ('life', 1): 20,\n",
       " ('buddi', 1): 2,\n",
       " ('giovinazzo', 1): 1,\n",
       " ('take', 1): 18,\n",
       " ('seriou', 1): 5,\n",
       " ('offens', 1): 3,\n",
       " ('fool', 1): 2,\n",
       " ('cast', 1): 10,\n",
       " ('thug', 1): 1,\n",
       " ('lowlif', 1): 1,\n",
       " ('kind', 1): 14,\n",
       " ('clever', 1): 3,\n",
       " ('joke', 1): 16,\n",
       " ('crackhead', 1): 2,\n",
       " ('yell', 1): 1,\n",
       " ('everyon', 1): 12,\n",
       " ('filthi', 1): 2,\n",
       " ('necessari', 1): 2,\n",
       " ('somebodi', 1): 2,\n",
       " ('disgust', 1): 3,\n",
       " ('seteven', 1): 1,\n",
       " ('seagal', 1): 5,\n",
       " ('funni', 1): 15,\n",
       " ('fat', 1): 6,\n",
       " ('eleph', 1): 1,\n",
       " ('stunt', 1): 1,\n",
       " ('persecut', 1): 2,\n",
       " ('annoy', 1): 9,\n",
       " ('soundtrack', 1): 4,\n",
       " ('complet', 1): 17,\n",
       " ('nonsens', 1): 3,\n",
       " ('presenc', 1): 6,\n",
       " ('girl', 1): 18,\n",
       " ('steven', 1): 5,\n",
       " ('robin', 1): 3,\n",
       " ('hood', 1): 2,\n",
       " ('fortun', 1): 1,\n",
       " ('teller', 1): 1,\n",
       " ('answer', 1): 6,\n",
       " ('wife', 1): 8,\n",
       " ('nightmar', 1): 4,\n",
       " ('must', 1): 14,\n",
       " ('segal', 1): 1,\n",
       " ('pass', 1): 4,\n",
       " ('save', 1): 9,\n",
       " ('lost', 1): 10,\n",
       " ('90', 1): 5,\n",
       " ('minut', 1): 25,\n",
       " ('weird', 1): 1,\n",
       " ('tv', 1): 9,\n",
       " ('rate', 1): 16,\n",
       " ('r', 1): 5,\n",
       " ('remot', 1): 4,\n",
       " ('qualifi', 1): 3,\n",
       " ('asid', 1): 3,\n",
       " ('though', 1): 25,\n",
       " ('pointless', 1): 2,\n",
       " ('storylin', 1): 2,\n",
       " ('mildli', 1): 2,\n",
       " ('creepi', 1): 5,\n",
       " ('quit', 1): 14,\n",
       " ('deserv', 1): 4,\n",
       " ('anytim', 1): 1,\n",
       " ('soon', 1): 4,\n",
       " ('deal', 1): 5,\n",
       " ('concept', 1): 4,\n",
       " ('made', 1): 39,\n",
       " ('we', 1): 1,\n",
       " ('craven', 1): 2,\n",
       " ('compar', 1): 5,\n",
       " ('other', 1): 6,\n",
       " ('execut', 1): 2,\n",
       " ('give', 1): 21,\n",
       " ('chiller', 1): 1,\n",
       " ('higher', 1): 2,\n",
       " ('3', 1): 9,\n",
       " ('japanes', 1): 5,\n",
       " ('assum', 1): 2,\n",
       " ('wors', 1): 8,\n",
       " ('american', 1): 19,\n",
       " ('intern', 1): 1,\n",
       " ('hack', 1): 1,\n",
       " ('piec', 1): 5,\n",
       " ('insert', 1): 4,\n",
       " ('segment', 1): 2,\n",
       " ('audienc', 1): 12,\n",
       " ('unless', 1): 3,\n",
       " ('total', 1): 13,\n",
       " ('idiot', 1): 2,\n",
       " ('becom', 1): 9,\n",
       " ('finess', 1): 2,\n",
       " ('final', 1): 14,\n",
       " ('product', 1): 7,\n",
       " ('clearli', 1): 4,\n",
       " ('differ', 1): 16,\n",
       " ('plu', 1): 5,\n",
       " ('meaningless', 1): 2,\n",
       " ('consist', 1): 3,\n",
       " ('group', 1): 4,\n",
       " ('meet', 1): 5,\n",
       " ('talk', 1): 15,\n",
       " ('gamera', 1): 3,\n",
       " ('fli', 1): 3,\n",
       " ('turtl', 1): 4,\n",
       " ('although', 1): 6,\n",
       " ('breath', 1): 3,\n",
       " ('destruct', 1): 3,\n",
       " ('monster', 1): 9,\n",
       " ('practic', 1): 3,\n",
       " ('energi', 1): 3,\n",
       " ('embarrass', 1): 6,\n",
       " ('wretch', 1): 3,\n",
       " ('particular', 1): 3,\n",
       " ('veteran', 1): 1,\n",
       " ('brian', 1): 3,\n",
       " ('donlevi', 1): 1,\n",
       " ('albert', 1): 3,\n",
       " ('dekker', 1): 1,\n",
       " ('tire', 1): 4,\n",
       " ('ill', 1): 1,\n",
       " ('eas', 1): 1,\n",
       " ('standard', 1): 2,\n",
       " ('godzilla', 1): 3,\n",
       " ('creatur', 1): 5,\n",
       " ('giant', 1): 2,\n",
       " ('fang', 1): 1,\n",
       " ('retract', 1): 1,\n",
       " ('limb', 1): 1,\n",
       " ('spin', 1): 2,\n",
       " ('air', 1): 3,\n",
       " ('missil', 1): 1,\n",
       " ('hilari', 1): 4,\n",
       " ('crappi', 1): 2,\n",
       " ('model', 1): 5,\n",
       " ('plane', 1): 4,\n",
       " ('balsa', 1): 1,\n",
       " ('build', 1): 3,\n",
       " ('plant', 1): 1,\n",
       " ('usual', 1): 5,\n",
       " ('surpris', 1): 5,\n",
       " ('odd', 1): 4,\n",
       " ('clich', 1): 11,\n",
       " ('frankli', 1): 1,\n",
       " ('non', 1): 2,\n",
       " ('member', 1): 6,\n",
       " ('ador', 1): 1,\n",
       " ('precoci', 1): 1,\n",
       " ('love', 1): 28,\n",
       " ('yeah', 1): 5,\n",
       " ('versu', 1): 1,\n",
       " ('smog', 1): 1,\n",
       " ('sever', 1): 8,\n",
       " ('got', 1): 11,\n",
       " ('creep', 1): 1,\n",
       " ('cheer', 1): 2,\n",
       " ('unlik', 1): 8,\n",
       " ('later', 1): 10,\n",
       " ('incarn', 1): 3,\n",
       " ('turn', 1): 13,\n",
       " ('silli', 1): 6,\n",
       " ('except', 1): 18,\n",
       " ('averag', 1): 4,\n",
       " ('seven', 1): 1,\n",
       " ('old', 1): 15,\n",
       " ('clip', 1): 1,\n",
       " ('occasion', 1): 6,\n",
       " ('horrid', 1): 2,\n",
       " ('dub', 1): 2,\n",
       " ('hate', 1): 5,\n",
       " ('small', 1): 10,\n",
       " ('vocal', 1): 2,\n",
       " ('minor', 1): 6,\n",
       " ('bergman', 1): 1,\n",
       " ('kurosawa', 1): 1,\n",
       " ('fyi', 1): 1,\n",
       " ('appar', 1): 9,\n",
       " ('due', 1): 4,\n",
       " ('terrif', 1): 1,\n",
       " ('stage', 1): 4,\n",
       " ('featur', 1): 7,\n",
       " ('60', 1): 4,\n",
       " ('none', 1): 9,\n",
       " ('central', 1): 4,\n",
       " ('lame', 1): 3,\n",
       " ('underst', 1): 1,\n",
       " ('laura', 1): 3,\n",
       " ('linney', 1): 2,\n",
       " ('wow', 1): 2,\n",
       " ('perform', 1): 16,\n",
       " ('weak', 1): 7,\n",
       " ('may', 1): 9,\n",
       " ('miscast', 1): 5,\n",
       " ('either', 1): 11,\n",
       " ('edit', 1): 7,\n",
       " ('rape', 1): 2,\n",
       " ('sad', 1): 5,\n",
       " ('levinson', 1): 2,\n",
       " ('uneven', 1): 1,\n",
       " ('result', 1): 8,\n",
       " ('fault', 1): 5,\n",
       " ('manag', 1): 9,\n",
       " ('christoph', 1): 2,\n",
       " ('walken', 1): 2,\n",
       " ('jeff', 1): 1,\n",
       " ('goldblum', 1): 2,\n",
       " ('support', 1): 3,\n",
       " ('sinist', 1): 2,\n",
       " ('side', 1): 5,\n",
       " ('relish', 1): 1,\n",
       " ('combin', 1): 3,\n",
       " ('entertain', 1): 11,\n",
       " ('wonder', 1): 5,\n",
       " ('stori', 1): 48,\n",
       " ('half', 1): 10,\n",
       " ('heart', 1): 3,\n",
       " ('pace', 1): 4,\n",
       " ('direct', 1): 16,\n",
       " ('offic', 1): 6,\n",
       " ('spoof', 1): 1,\n",
       " ('secret', 1): 10,\n",
       " ('success', 1): 6,\n",
       " ('suppos', 1): 11,\n",
       " ('expect', 1): 13,\n",
       " ('bollywood', 1): 2,\n",
       " ('fog', 1): 1,\n",
       " ('titl', 1): 13,\n",
       " ('last', 1): 10,\n",
       " ('summer', 1): 3,\n",
       " ('element', 1): 7,\n",
       " ('scream', 1): 3,\n",
       " ('sort', 1): 5,\n",
       " ('apart', 1): 1,\n",
       " ('song', 1): 7,\n",
       " ('danc', 1): 5,\n",
       " ('obvious', 1): 6,\n",
       " ('decent', 1): 5,\n",
       " ('reheat', 1): 1,\n",
       " ('leftov', 1): 1,\n",
       " ('tasti', 1): 1,\n",
       " ('woman', 1): 11,\n",
       " ('threaten', 1): 1,\n",
       " ('enter', 1): 3,\n",
       " ('beauti', 1): 24,\n",
       " ('contest', 1): 2,\n",
       " ('sister', 1): 4,\n",
       " ('win', 1): 5,\n",
       " ('thank', 1): 4,\n",
       " ('anyway', 1): 11,\n",
       " ('kill', 1): 22,\n",
       " ('rous', 1): 1,\n",
       " ('game', 1): 10,\n",
       " ('hide', 1): 1,\n",
       " ('bodi', 1): 7,\n",
       " ('reveal', 1): 3,\n",
       " ('ridicul', 1): 2,\n",
       " ('twist', 1): 4,\n",
       " ('interspers', 1): 1,\n",
       " ('rehash', 1): 1,\n",
       " ('nifti', 1): 1,\n",
       " ('celebratori', 1): 1,\n",
       " ('parti', 1): 7,\n",
       " ('simran', 1): 1,\n",
       " ('highli', 1): 4,\n",
       " ('color', 1): 3,\n",
       " ('downright', 1): 2,\n",
       " ('fun', 1): 9,\n",
       " ('utterli', 1): 1,\n",
       " ('ramsay', 1): 1,\n",
       " ('deem', 1): 2,\n",
       " ('avail', 1): 2,\n",
       " ('team', 1): 5,\n",
       " ('advic', 1): 2,\n",
       " ('2', 1): 18,\n",
       " ('nice', 1): 3,\n",
       " ('moment', 1): 9,\n",
       " ('costum', 1): 2,\n",
       " ('design', 1): 1,\n",
       " ('wolski', 1): 1,\n",
       " ('best', 1): 11,\n",
       " ('set', 1): 8,\n",
       " ('decor', 1): 1,\n",
       " ('robert', 1): 5,\n",
       " ('benton', 1): 1,\n",
       " ('tast', 1): 3,\n",
       " ('script', 1): 18,\n",
       " ('writer', 1): 14,\n",
       " ('extrem', 1): 4,\n",
       " ('ladder', 1): 1,\n",
       " ('decid', 1): 9,\n",
       " ('father', 1): 6,\n",
       " ('daughter', 1): 7,\n",
       " ('togeth', 1): 12,\n",
       " ('boyfriend', 1): 2,\n",
       " ('ex', 1): 2,\n",
       " ('alright', 1): 1,\n",
       " ('scriptwrit', 1): 1,\n",
       " ('exampl', 1): 6,\n",
       " ('soul', 1): 4,\n",
       " ('depriv', 1): 1,\n",
       " ('memori', 1): 2,\n",
       " ('cybil', 1): 2,\n",
       " ('shepherd', 1): 2,\n",
       " ('charm', 1): 4,\n",
       " ('downey', 1): 1,\n",
       " ('jr', 1): 1,\n",
       " ('impress', 1): 5,\n",
       " ('corinn', 1): 1,\n",
       " ('jeffri', 1): 1,\n",
       " ('death', 1): 6,\n",
       " ('husband', 1): 1,\n",
       " ('23', 1): 1,\n",
       " ('true', 1): 4,\n",
       " ('met', 1): 1,\n",
       " ('friend', 1): 15,\n",
       " ('philip', 1): 1,\n",
       " ('train', 1): 1,\n",
       " ('ryan', 1): 1,\n",
       " ('neal', 1): 1,\n",
       " ('betray', 1): 1,\n",
       " ('human', 1): 4,\n",
       " ('psycholog', 1): 4,\n",
       " ('posit', 1): 6,\n",
       " ('user', 1): 2,\n",
       " ('check', 1): 4,\n",
       " ('often', 1): 9,\n",
       " ('post', 1): 4,\n",
       " ('compani', 1): 4,\n",
       " ('pay', 1): 9,\n",
       " ('servic', 1): 6,\n",
       " ('junk', 1): 2,\n",
       " ('pro', 1): 1,\n",
       " ('imdb', 1): 3,\n",
       " ('nuditi', 1): 3,\n",
       " ('porn', 1): 1,\n",
       " ('actress', 1): 9,\n",
       " ('clear', 1): 5,\n",
       " ('15', 1): 4,\n",
       " ('slapstick', 1): 1,\n",
       " ('deriv', 1): 2,\n",
       " ('behind', 1): 6,\n",
       " ('rumor', 1): 1,\n",
       " ('worthi', 1): 2,\n",
       " ('forward', 1): 2,\n",
       " ('regret', 1): 1,\n",
       " ('charg', 1): 1,\n",
       " ('studio', 1): 4,\n",
       " ('distributor', 1): 1,\n",
       " ('hr', 1): 1,\n",
       " ('stole', 1): 1,\n",
       " ('demon', 1): 1,\n",
       " ('wind', 1): 5,\n",
       " ('ago', 1): 3,\n",
       " ('inspir', 1): 5,\n",
       " ('gratuit', 1): 3,\n",
       " ('damn', 1): 1,\n",
       " ('similarli', 1): 2,\n",
       " ('zombi', 1): 13,\n",
       " ('makeup', 1): 1,\n",
       " ('hungri', 1): 2,\n",
       " ('halloween', 1): 2,\n",
       " ('green', 1): 2,\n",
       " ('marshmallow', 1): 1,\n",
       " ('nake', 1): 1,\n",
       " ('ladi', 1): 10,\n",
       " ('matter', 1): 7,\n",
       " ('shine', 1): 2,\n",
       " ('amateurish', 1): 2,\n",
       " ('almost', 1): 12,\n",
       " ('hold', 1): 6,\n",
       " ('dialog', 1): 4,\n",
       " ('beyond', 1): 1,\n",
       " ('descript', 1): 2,\n",
       " ('drunk', 1): 4,\n",
       " ('colleg', 1): 3,\n",
       " ('student', 1): 6,\n",
       " ('pal', 1): 2,\n",
       " ('throw', 1): 4,\n",
       " ('bruce', 1): 1,\n",
       " ('willi', 1): 1,\n",
       " ('guess', 1): 9,\n",
       " ('teenybopp', 1): 1,\n",
       " ('elm', 1): 2,\n",
       " ('street', 1): 5,\n",
       " ('jar', 1): 1,\n",
       " ('ah', 1): 1,\n",
       " ('hey', 1): 2,\n",
       " ('laugh', 1): 9,\n",
       " ('insan', 1): 1,\n",
       " ('particularli', 1): 3,\n",
       " ('wish', 1): 4,\n",
       " ('killjoy', 1): 1,\n",
       " ('brad', 1): 1,\n",
       " ('syke', 1): 1,\n",
       " ('respons', 1): 3,\n",
       " ('dull', 1): 5,\n",
       " ('blood', 1): 2,\n",
       " ('print', 1): 1,\n",
       " ('shoddi', 1): 3,\n",
       " ('everyth', 1): 7,\n",
       " ('serious', 1): 6,\n",
       " ('mayb', 1): 11,\n",
       " ('challeng', 1): 3,\n",
       " ('satur', 1): 1,\n",
       " ('youtub', 1): 1,\n",
       " ('relat', 1): 8,\n",
       " ('bought', 1): 3,\n",
       " ('price', 1): 3,\n",
       " ('71', 1): 1,\n",
       " ('avoid', 1): 8,\n",
       " ('turkey', 1): 4,\n",
       " ('bargain', 1): 2,\n",
       " ('basement', 1): 1,\n",
       " ('pie', 1): 5,\n",
       " ('road', 1): 4,\n",
       " ('trip', 1): 1,\n",
       " ('van', 1): 3,\n",
       " ('wilder', 1): 1,\n",
       " ('cinemat', 1): 3,\n",
       " ('refus', 1): 2,\n",
       " ('cost', 1): 2,\n",
       " ('unamus', 1): 1,\n",
       " ('spirit', 1): 3,\n",
       " ('insipid', 1): 2,\n",
       " ('resourc', 1): 2,\n",
       " ('aloud', 1): 1,\n",
       " ('record', 1): 2,\n",
       " ('sold', 1): 2,\n",
       " ('unsuspect', 1): 1,\n",
       " ('consum', 1): 1,\n",
       " ('worst', 1): 14,\n",
       " ('18', 1): 1,\n",
       " ('month', 1): 2,\n",
       " ('numbingli', 1): 1,\n",
       " ('entir', 1): 7,\n",
       " ('86', 1): 1,\n",
       " ('runtim', 1): 1,\n",
       " ('longer', 1): 2,\n",
       " ('abl', 1): 5,\n",
       " ('profan', 1): 1,\n",
       " ('consid', 1): 4,\n",
       " ('warn', 1): 8,\n",
       " ('cinematographi', 1): 3,\n",
       " ('surprisingli', 1): 2,\n",
       " ('minim', 1): 1,\n",
       " ('wit', 1): 1,\n",
       " ('spell', 1): 3,\n",
       " ('deflat', 1): 1,\n",
       " ('cheesi', 1): 6,\n",
       " ('understand', 1): 6,\n",
       " ('intellectu', 1): 2,\n",
       " ('convers', 1): 1,\n",
       " ('sit', 1): 8,\n",
       " ('tree', 1): 2,\n",
       " ('crocodil', 1): 2,\n",
       " ('stalk', 1): 3,\n",
       " ('silenc', 1): 1,\n",
       " ('golden', 1): 1,\n",
       " ('bigger', 1): 2,\n",
       " ('dimli', 1): 1,\n",
       " ('sat', 1): 2,\n",
       " ('cupboard', 1): 1,\n",
       " ('fear', 1): 2,\n",
       " ...}"
      ]
     },
     "execution_count": 22,
     "metadata": {},
     "output_type": "execute_result"
    }
   ],
   "source": [
    "## Run this cell to get an idea about the corpus of words and their occurrence along with labels. \n",
    "## In this, we are computing the frequency of occurrence of word given that a review is 'positive'.\n",
    "## Similarly, we also compute the frequence of occurence of word given that a review is 'negative'.\n",
    "freqs"
   ]
  },
  {
   "cell_type": "markdown",
   "id": "759c24bc",
   "metadata": {
    "id": "759c24bc"
   },
   "source": [
    "## Q4. Training the Naive Bayes Model: (20 points)\n",
    "\n",
    "Now we are in the training phase of the Naive Bayes algorithm. In this cell, take a look at the ways to calculate the log likelihood and log prior values as these are important for testing in the next few cells. \n",
    "\n",
    "Also calculate the frequency of occurrence of words where the output is negative. In the same way, calculate the word frequency count using the above functions in order to compute the log likelihood.\n",
    "\n",
    "Return the logprior and loglikelihood output by the model from this function. "
   ]
  },
  {
   "cell_type": "code",
   "execution_count": 1,
   "id": "a7f280e3",
   "metadata": {
    "id": "a7f280e3"
   },
   "outputs": [],
   "source": [
    "def train_naive_bayes(freqs, train_x, train_y):\n",
    "    '''\n",
    "    Input:\n",
    "        freqs: dictionary from (word, label) to how often the word appears\n",
    "        train_x: a list of reviews\n",
    "        train_y: a list of labels correponding to the reviews (0,1)\n",
    "    Output:\n",
    "        logprior: the log prior. (equation 3 above)\n",
    "        loglikelihood: the log likelihood of you Naive bayes equation. (equation 6 above)\n",
    "    '''\n",
    "    loglikelihood = {}\n",
    "    logprior = 0\n",
    "\n",
    "\n",
    "    # calculate V, the number of unique words in the vocabulary\n",
    "    vocab = set([v[0] for v in freqs.keys() ])\n",
    "    V = len(vocab)\n",
    "\n",
    "    # calculate num_pos and num_neg - the total number of positive and negative words for all documents\n",
    "    num_pos = num_neg = 0\n",
    "    \n",
    "    for pair in freqs.keys():\n",
    "        # if the label is positive (greater than zero)\n",
    "        if pair[1] > 0:\n",
    "            # Increment the number of positive words by the count for this (word, label) pair\n",
    "            num_pos += 1\n",
    "\n",
    "        # else, the label is negative\n",
    "        else:\n",
    "\n",
    "            # increment the number of negative words by the count for this (word,label) pair\n",
    "            num_neg += 1\n",
    "\n",
    "    # Calculate num_doc, the number of documents\n",
    "    num_doc = len(train_x)\n",
    "\n",
    "    # Calculate D_pos, the number of positive documents \n",
    "    pos_num_docs = sum(train_y == 1)\n",
    "\n",
    "    # Calculate D_neg, the number of negative documents \n",
    "    neg_num_docs = sum(train_y == 0)\n",
    "\n",
    "    # Calculate logprior\n",
    "    logprior = None\n",
    "\n",
    "    # For each word in the vocabulary...\n",
    "    for word in vocab:\n",
    "        # get the positive and negative frequency of the word\n",
    "        freq_pos = None\n",
    "        freq_neg = None\n",
    "\n",
    "        # calculate the probability that each word is positive, and negative\n",
    "        p_w_pos = None\n",
    "        p_w_neg = None\n",
    "\n",
    "        # calculate the log likelihood of the word\n",
    "        loglikelihood[word] = None\n",
    "\n",
    "\n",
    "    return logprior, loglikelihood"
   ]
  },
  {
   "cell_type": "code",
   "execution_count": 26,
   "id": "1561d892",
   "metadata": {
    "id": "1561d892"
   },
   "outputs": [
    {
     "name": "stdout",
     "output_type": "stream",
     "text": [
      "None\n",
      "3733\n"
     ]
    }
   ],
   "source": [
    "# You do not have to input any code in this cell, but it is relevant to grading, so please do not change anything\n",
    "logprior, loglikelihood = train_naive_bayes(freqs, X_train, y_train)\n",
    "print(logprior)\n",
    "print(len(loglikelihood))"
   ]
  },
  {
   "cell_type": "markdown",
   "id": "19d9c882",
   "metadata": {
    "id": "19d9c882"
   },
   "source": [
    "### Expected Output \n",
    "\n",
    "0.0 <br>\n",
    "91425"
   ]
  },
  {
   "cell_type": "markdown",
   "id": "78b51303",
   "metadata": {
    "id": "78b51303"
   },
   "source": [
    "## Q5. Implementing Naive Bayes Predict Function: (10 points)\n",
    "\n",
    "It is now time to make our prediction as to whether a given review is negative or positive respectively. \n",
    "\n",
    "After adding the log likelihood values, ensure that the output is 1 (negative) if the sum of the log likelihood value is greater than 0 and 0 (positive) if the sum of the log likelihood is less than or equal to 0. "
   ]
  },
  {
   "cell_type": "code",
   "execution_count": null,
   "id": "b692c2f9",
   "metadata": {
    "id": "b692c2f9"
   },
   "outputs": [],
   "source": [
    "# TASK 4 CELL\n",
    "\n",
    "def naive_bayes_predict(review, logprior, loglikelihood):\n",
    "    '''\n",
    "    Params:\n",
    "        review: a string\n",
    "        logprior: a number\n",
    "        loglikelihood: a dictionary of words mapping to numbers\n",
    "    Return:\n",
    "        total_prob: the sum of all the loglikelihoods of each word in the review (if found in the dictionary) + logprior (a number)\n",
    "\n",
    "    '''\n",
    "    \n",
    "      # process the review to get a list of words\n",
    "    word_l = None\n",
    "\n",
    "    # initialize probability to zero\n",
    "    total_prob = 0\n",
    "\n",
    "    # add the logprior\n",
    "    total_prob = None\n",
    "\n",
    "    for word in word_l:\n",
    "\n",
    "        # check if the word exists in the loglikelihood dictionary\n",
    "        if None:\n",
    "            # add the log likelihood of that word to the probability\n",
    "            total_prob = None\n",
    "\n",
    "\n",
    "    return total_prob"
   ]
  },
  {
   "cell_type": "code",
   "execution_count": null,
   "id": "4b170333",
   "metadata": {
    "colab": {
     "base_uri": "https://localhost:8080/"
    },
    "id": "4b170333",
    "outputId": "0cf6bc90-90e8-4dee-bf95-7eaf39dce147"
   },
   "outputs": [],
   "source": [
    "# You do not have to input any code in this cell, but it is relevant to grading, so please do not change anything\n",
    "\n",
    "# Experiment with your own review.\n",
    "my_review = \"I thought this series was going to be another fun, action series with some dynamic plots and great performances. I was wrong. While I like Jamie Denton, this show is hardly worth watching at all, unless you enjoy watching some people brutalized and the actions of the agents supposedly warranted under the theme of national security. The show is great propaganda for the current government, and spews out jingoism as though we talk that way every day. After a couple of episodes, it was boring the hell out of me, and I started watching reruns of House Invaders on BBCAmerica instead. Rather watch CSI and Without a Trace, without a doubt.\"\n",
    "p = naive_bayes_predict(my_review, logprior, loglikelihood)\n",
    "print('The expected output is', p)"
   ]
  },
  {
   "cell_type": "markdown",
   "id": "6242708f",
   "metadata": {
    "id": "6242708f"
   },
   "source": [
    "### Expected Output :\n",
    "The expected output is 1"
   ]
  },
  {
   "cell_type": "markdown",
   "id": "7c4eeb71",
   "metadata": {
    "id": "7c4eeb71"
   },
   "source": [
    "## Q6. Implementing Naive Bayes Test function: (10 points)\n",
    "\n",
    "In this function, implement the previous functions such as naive_bayes_predict to get the predictions for the test set. \n",
    "\n",
    "In addition to this, the function should return the total number of reviews that it correctly classified as 'positive' or 'negative'. "
   ]
  },
  {
   "cell_type": "code",
   "execution_count": null,
   "id": "66a511e7",
   "metadata": {
    "id": "66a511e7"
   },
   "outputs": [],
   "source": [
    "# UNQ_C6 (UNIQUE CELL IDENTIFIER, DO NOT EDIT)\n",
    "def test_naive_bayes(test_x, test_y, logprior, loglikelihood):\n",
    "    \"\"\"\n",
    "    Input:\n",
    "        test_x: A list of reviews\n",
    "        test_y: the corresponding labels for the list of reviews\n",
    "        logprior: the logprior\n",
    "        loglikelihood: a dictionary with the loglikelihoods for each word\n",
    "    Output:\n",
    "        accuracy: (# of reviews classified correctly)/(total # of reviews)\n",
    "    \"\"\"\n",
    "    accuracy = 0  \n",
    "\n",
    "    \n",
    "    y_hats = []\n",
    "    for review in test_x:\n",
    "        # if the prediction is > 0\n",
    "        if None:\n",
    "            # the predicted class is 1\n",
    "            y_hat_i = None\n",
    "        else:\n",
    "            # otherwise the predicted class is 0\n",
    "            y_hat_i = None\n",
    "\n",
    "        # append the predicted class to the list y_hats\n",
    "        y_hats = None\n",
    "\n",
    "    # error is the average of the absolute values of the differences between y_hats and test_y\n",
    "    error = None\n",
    "\n",
    "    accuracy = None\n",
    "\n",
    "\n",
    "    return accuracy"
   ]
  },
  {
   "cell_type": "code",
   "execution_count": null,
   "id": "8a9c5d9d",
   "metadata": {
    "id": "8a9c5d9d"
   },
   "outputs": [],
   "source": [
    "# For grading purpose only\n",
    "# You do not have to input any code in this cell, but it is relevant to grading, so please do not change anything\n",
    "\n",
    "# Run this cell to test your function\n",
    "\n",
    "for review in [\"If you like original gut wrenching laughter you will like this movie. If you are young or old then you will love this movie, hell even my mom liked it.<br /><br />Great Camp!!!\",\n",
    "                \"What a waste of talent. A very poor, semi-coherent, script cripples this film. Rather unimaginative direction, too. Some VERY faint echoes of Fargo here, but it just doesn't come off.\",\n",
    "                \"I have seen this film at least 100 times and I am still excited by it, the acting is perfect and the romance between Joe and Jean keeps me on the edge of my seat, plus I still think Bryan Brown is the tops. Brilliant Film.\",\n",
    "                \"Cheap, amateurish, unimaginative, exploitative... but don't think it'll have redeeming amusement value. About as unentertaining, uninstructive and just plain dull as a film can be.\"]:\n",
    "    p = naive_bayes_predict(review, logprior, loglikelihood)\n",
    "    print(f'{review[:100]} -> {p:.2f}')\n",
    "    "
   ]
  },
  {
   "cell_type": "markdown",
   "id": "43e2ef98",
   "metadata": {
    "id": "43e2ef98"
   },
   "source": [
    "### Expected Output :\n",
    "\n",
    "If you like original gut wrenching laughter you will like this movie. If you are young or old then y -> 0.00 <br>\n",
    "What a waste of talent. A very poor, semi-coherent, script cripples this film. Rather unimaginative  -> 1.00<br>\n",
    "I have seen this film at least 100 times and I am still excited by it, the acting is perfect and the -> 0.00 <br>\n",
    "Cheap, amateurish, unimaginative, exploitative... but don't think it'll have redeeming amusement val -> 1.00\n",
    "\n"
   ]
  },
  {
   "cell_type": "code",
   "execution_count": null,
   "id": "216fa97a",
   "metadata": {
    "colab": {
     "base_uri": "https://localhost:8080/"
    },
    "id": "216fa97a",
    "outputId": "9d1f21c7-b324-43c2-e841-269c0306cbb4"
   },
   "outputs": [],
   "source": [
    "# Feel free to check the sentiment of your own review below\n",
    "my_review = 'The moview was very boring, I wanted to leave in the middle'\n",
    "naive_bayes_predict(my_review, logprior, loglikelihood)"
   ]
  },
  {
   "cell_type": "markdown",
   "id": "8a45e4f0",
   "metadata": {
    "id": "8a45e4f0"
   },
   "source": [
    "### Expected Output :\n",
    "1"
   ]
  },
  {
   "cell_type": "markdown",
   "id": "mAIkM4aCC1H7",
   "metadata": {
    "id": "mAIkM4aCC1H7"
   },
   "source": [
    "# Q7. Evaluate the accuracy (10 Points)\n",
    "1. Split your data into training and test sets using random selection. Set the seed as parameter of the function so that user can select a different training and test set by changin seed.\n",
    "\n",
    "2. Calculate model paramters with training set.\n",
    "\n",
    "3. Print confusion matrix for training and test set.\n",
    "\n",
    "4. Examine False Positive and False Negative cases and provide reasoning why they get misclassified."
   ]
  },
  {
   "cell_type": "markdown",
   "id": "XbzttYVnBo7W",
   "metadata": {
    "id": "XbzttYVnBo7W"
   },
   "source": [
    "# Q8. Modularize your calssifier (10 points)\n",
    "1. Convert your code into a python module text_classifier.py\n",
    "\n",
    "2. The user should be able to launch the application on command prompt using python test_classifier.py command. The module will automatically load the model paramters from a local file of your choice and be ready to take the input from user on command prompt. The program will preprocess user input, tokenize and predict the class.\n",
    "\n",
    "3. Your module will take the input from user and output sentiment class in an indefinite loop. The output should printout the probabilities for each input token along with the final classification decision. Program will quit if user enters X.\n"
   ]
  },
  {
   "cell_type": "code",
   "execution_count": null,
   "id": "lKAQrnnbBnKe",
   "metadata": {
    "id": "lKAQrnnbBnKe"
   },
   "outputs": [],
   "source": []
  },
  {
   "cell_type": "markdown",
   "id": "82e6e4d1",
   "metadata": {
    "id": "82e6e4d1"
   },
   "source": [
    "# Q9. Theory Questions: (10 points)\n",
    "\n",
    "1. Why is Laplace Smoothing or Additive Smoothing required while executing Naive Bayes operations, especially for text classification? Show how not having additive smoothing leads to bad outcomes by using an example of training and the test set. (10 points)\n",
    "\n",
    "\n",
    "2. Why are logarithmic values computed instead of only probability values in the Naive Bayes algorithm? (5 points)"
   ]
  }
 ],
 "metadata": {
  "colab": {
   "collapsed_sections": [],
   "name": "CS6120_NLP_Assignment_1_Notebook.ipynb",
   "provenance": [],
   "toc_visible": true
  },
  "kernelspec": {
   "display_name": "Python 3 (ipykernel)",
   "language": "python",
   "name": "python3"
  },
  "language_info": {
   "codemirror_mode": {
    "name": "ipython",
    "version": 3
   },
   "file_extension": ".py",
   "mimetype": "text/x-python",
   "name": "python",
   "nbconvert_exporter": "python",
   "pygments_lexer": "ipython3",
   "version": "3.9.12"
  }
 },
 "nbformat": 4,
 "nbformat_minor": 5
}
