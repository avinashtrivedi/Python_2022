{
 "cells": [
  {
   "cell_type": "code",
   "execution_count": 1,
   "metadata": {},
   "outputs": [],
   "source": [
    "my_list = [\n",
    "    \n",
    "    {'name':'get groceries',\n",
    "    'description': 'buy jam and peanut butter',\n",
    "    'deadline': '02/23/2022',\n",
    "    'priority':2,\n",
    "    'completed':False},\n",
    "    \n",
    "   {'name':'get some sleep',\n",
    "    'description': '8 hours of sleep is necessary',\n",
    "    'deadline': '02/03/2022',\n",
    "    'priority':3,\n",
    "    'completed':False},\n",
    "    \n",
    "    {'name':'compar. li essay',\n",
    "    'description': \"finish comparative lit essay that's overdue\",\n",
    "    'deadline': '02/15/2022',\n",
    "    'priority':4,\n",
    "    'completed':True}\n",
    "]"
   ]
  },
  {
   "cell_type": "code",
   "execution_count": 2,
   "metadata": {},
   "outputs": [
    {
     "data": {
      "text/plain": [
       "{'name': 'get groceries',\n",
       " 'description': 'buy jam and peanut butter',\n",
       " 'deadline': '02/23/2022',\n",
       " 'priority': 2,\n",
       " 'completed': False}"
      ]
     },
     "execution_count": 2,
     "metadata": {},
     "output_type": "execute_result"
    }
   ],
   "source": [
    "my_list[0]"
   ]
  },
  {
   "cell_type": "code",
   "execution_count": 4,
   "metadata": {},
   "outputs": [
    {
     "name": "stdout",
     "output_type": "stream",
     "text": [
      "GET GROCERIES\n",
      "Description buy jam and peanut butter\n",
      "Deadline 02/23/2022\n",
      "Priority 2\n",
      "Completed False\n",
      "GET SOME SLEEP\n",
      "Description 8 hours of sleep is necessary\n",
      "Deadline 02/03/2022\n",
      "Priority 3\n",
      "Completed False\n",
      "COMPAR. LI ESSAY\n",
      "Description finish comparative lit essay that's overdue\n",
      "Deadline 02/15/2022\n",
      "Priority 4\n",
      "Completed True\n"
     ]
    }
   ],
   "source": [
    "for i in my_list:\n",
    "    for k,v in i.items():\n",
    "        if k=='name':\n",
    "            print(v.upper())\n",
    "        else:\n",
    "            print(k.title(),v)\n",
    "            "
   ]
  },
  {
   "cell_type": "code",
   "execution_count": null,
   "metadata": {},
   "outputs": [],
   "source": []
  }
 ],
 "metadata": {
  "kernelspec": {
   "display_name": "Python 3",
   "language": "python",
   "name": "python3"
  },
  "language_info": {
   "codemirror_mode": {
    "name": "ipython",
    "version": 3
   },
   "file_extension": ".py",
   "mimetype": "text/x-python",
   "name": "python",
   "nbconvert_exporter": "python",
   "pygments_lexer": "ipython3",
   "version": "3.8.5"
  }
 },
 "nbformat": 4,
 "nbformat_minor": 4
}
