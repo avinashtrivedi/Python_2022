{
 "cells": [
  {
   "cell_type": "code",
   "execution_count": 1,
   "id": "923b0125",
   "metadata": {},
   "outputs": [],
   "source": [
    "def create_bins(lower_bound, width, quantity):\n",
    "    bins = []\n",
    "    low = lower_bound\n",
    "    high = lower_bound + quantity*width\n",
    "    while low <= high:\n",
    "        bins.append((low, low+width))\n",
    "        low = low + width        \n",
    "    return bins"
   ]
  },
  {
   "cell_type": "code",
   "execution_count": 2,
   "id": "298c4e68",
   "metadata": {},
   "outputs": [],
   "source": [
    "def find_bin(value, bins):\n",
    "    for i in range(0, len(bins)):\n",
    "        if bins[i][0] <= value < bins[i][1]:\n",
    "            return i\n",
    "    return -1"
   ]
  },
  {
   "cell_type": "code",
   "execution_count": 3,
   "id": "f3dbfedd",
   "metadata": {},
   "outputs": [],
   "source": [
    "import math\n",
    "\n",
    "def roundup(x):\n",
    "    return int(math.ceil(x / 10.0)) * 10\n",
    "\n",
    "def rounddown(x):\n",
    "    return int(math.floor(x / 10.0)) * 10"
   ]
  },
  {
   "cell_type": "code",
   "execution_count": 4,
   "id": "048da739",
   "metadata": {},
   "outputs": [],
   "source": [
    "def display_bins(bin_qty,data_list):\n",
    "    a = rounddown(min(data_list))\n",
    "    b = roundup(max(data_list))\n",
    "    \n",
    "    width = (b-a)/bin_qty\n",
    "\n",
    "    bins = create_bins(lower_bound=a,\n",
    "               width=width,\n",
    "               quantity=bin_qty)\n",
    "    \n",
    "    binned_weights = []\n",
    "\n",
    "    print(\"{:<7} {:<10} {:<7}\".format('value', 'bin_index', 'bins'))\n",
    "    for value in data_list:\n",
    "        bin_index = find_bin(value, bins)\n",
    "        print(\"{:<7} {:<10} {:<7}\".format(value, bin_index, str(bins[bin_index])))\n",
    "        binned_weights.append(bin_index)"
   ]
  },
  {
   "cell_type": "code",
   "execution_count": 5,
   "id": "48c98c13",
   "metadata": {},
   "outputs": [],
   "source": [
    "x = [73.4, 69.3, 64.9, 75.6, 74.9, 80.3, \n",
    "  78.6, 84.1, 88.9, 90.3, 83.4, 69.3, \n",
    "  52.4, 58.3, 67.4, 74.0, 89.3, 63.4]"
   ]
  },
  {
   "cell_type": "code",
   "execution_count": 6,
   "id": "b1346e13",
   "metadata": {},
   "outputs": [
    {
     "name": "stdout",
     "output_type": "stream",
     "text": [
      "value   bin_index  bins   \n",
      "73.4    2          (70.0, 80.0)\n",
      "69.3    1          (60.0, 70.0)\n",
      "64.9    1          (60.0, 70.0)\n",
      "75.6    2          (70.0, 80.0)\n",
      "74.9    2          (70.0, 80.0)\n",
      "80.3    3          (80.0, 90.0)\n",
      "78.6    2          (70.0, 80.0)\n",
      "84.1    3          (80.0, 90.0)\n",
      "88.9    3          (80.0, 90.0)\n",
      "90.3    4          (90.0, 100.0)\n",
      "83.4    3          (80.0, 90.0)\n",
      "69.3    1          (60.0, 70.0)\n",
      "52.4    0          (50, 60.0)\n",
      "58.3    0          (50, 60.0)\n",
      "67.4    1          (60.0, 70.0)\n",
      "74.0    2          (70.0, 80.0)\n",
      "89.3    3          (80.0, 90.0)\n",
      "63.4    1          (60.0, 70.0)\n"
     ]
    }
   ],
   "source": [
    "display_bins(5,x) # no_of_bin , data"
   ]
  },
  {
   "cell_type": "code",
   "execution_count": 7,
   "id": "7cdc454b",
   "metadata": {},
   "outputs": [
    {
     "name": "stdout",
     "output_type": "stream",
     "text": [
      "value   bin_index  bins   \n",
      "73.4    4          (70.0, 75.0)\n",
      "69.3    3          (65.0, 70.0)\n",
      "64.9    2          (60.0, 65.0)\n",
      "75.6    5          (75.0, 80.0)\n",
      "74.9    4          (70.0, 75.0)\n",
      "80.3    6          (80.0, 85.0)\n",
      "78.6    5          (75.0, 80.0)\n",
      "84.1    6          (80.0, 85.0)\n",
      "88.9    7          (85.0, 90.0)\n",
      "90.3    8          (90.0, 95.0)\n",
      "83.4    6          (80.0, 85.0)\n",
      "69.3    3          (65.0, 70.0)\n",
      "52.4    0          (50, 55.0)\n",
      "58.3    1          (55.0, 60.0)\n",
      "67.4    3          (65.0, 70.0)\n",
      "74.0    4          (70.0, 75.0)\n",
      "89.3    7          (85.0, 90.0)\n",
      "63.4    2          (60.0, 65.0)\n"
     ]
    }
   ],
   "source": [
    "display_bins(10,x)"
   ]
  },
  {
   "cell_type": "code",
   "execution_count": null,
   "id": "f6f4818c",
   "metadata": {},
   "outputs": [],
   "source": []
  }
 ],
 "metadata": {
  "kernelspec": {
   "display_name": "Python 3 (ipykernel)",
   "language": "python",
   "name": "python3"
  },
  "language_info": {
   "codemirror_mode": {
    "name": "ipython",
    "version": 3
   },
   "file_extension": ".py",
   "mimetype": "text/x-python",
   "name": "python",
   "nbconvert_exporter": "python",
   "pygments_lexer": "ipython3",
   "version": "3.8.5"
  }
 },
 "nbformat": 4,
 "nbformat_minor": 5
}
