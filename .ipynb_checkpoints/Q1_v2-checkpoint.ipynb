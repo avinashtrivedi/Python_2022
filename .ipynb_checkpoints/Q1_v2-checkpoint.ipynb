{
 "cells": [
  {
   "cell_type": "code",
   "execution_count": 1,
   "id": "ddc05b61",
   "metadata": {},
   "outputs": [],
   "source": [
    "import numpy as np\n",
    "import pandas as pd\n",
    "import tensorflow as tf\n",
    "\n",
    "from tensorflow.keras import layers"
   ]
  },
  {
   "cell_type": "code",
   "execution_count": 2,
   "id": "c03173e9",
   "metadata": {},
   "outputs": [],
   "source": [
    "names=[\"First Term Gpa\", \"Second Term Gpa\", \"First Language\", \" Funding\", \"School\",\n",
    "       \"FastTrack\", \"Coop\", \" Residency\", \" Gender\", \" Previous Education\", \"Age Group\", \n",
    "       \"High School Average Mark\", \"Math Score\", \"English Grade\", \"FirstYearPersistence\",]\n",
    "\n",
    "student_data = pd.read_csv(r'D:\\OneDrive - NITT\\Custom_Download\\Student data.csv',na_values='?')\n",
    "student_data.columns = names\n",
    "student_data.dropna(inplace=True)"
   ]
  },
  {
   "cell_type": "code",
   "execution_count": 3,
   "id": "6f544a01",
   "metadata": {},
   "outputs": [],
   "source": [
    "student_data['First Term Gpa'] = student_data['First Term Gpa'].astype('float')"
   ]
  },
  {
   "cell_type": "code",
   "execution_count": 4,
   "id": "b744d5c4",
   "metadata": {},
   "outputs": [
    {
     "data": {
      "text/html": [
       "<div>\n",
       "<style scoped>\n",
       "    .dataframe tbody tr th:only-of-type {\n",
       "        vertical-align: middle;\n",
       "    }\n",
       "\n",
       "    .dataframe tbody tr th {\n",
       "        vertical-align: top;\n",
       "    }\n",
       "\n",
       "    .dataframe thead th {\n",
       "        text-align: right;\n",
       "    }\n",
       "</style>\n",
       "<table border=\"1\" class=\"dataframe\">\n",
       "  <thead>\n",
       "    <tr style=\"text-align: right;\">\n",
       "      <th></th>\n",
       "      <th>First Term Gpa</th>\n",
       "      <th>Second Term Gpa</th>\n",
       "      <th>First Language</th>\n",
       "      <th>Funding</th>\n",
       "      <th>School</th>\n",
       "      <th>FastTrack</th>\n",
       "      <th>Coop</th>\n",
       "      <th>Residency</th>\n",
       "      <th>Gender</th>\n",
       "      <th>Previous Education</th>\n",
       "      <th>Age Group</th>\n",
       "      <th>High School Average Mark</th>\n",
       "      <th>Math Score</th>\n",
       "      <th>English Grade</th>\n",
       "      <th>FirstYearPersistence</th>\n",
       "    </tr>\n",
       "  </thead>\n",
       "  <tbody>\n",
       "    <tr>\n",
       "      <th>23</th>\n",
       "      <td>0.000000</td>\n",
       "      <td>0.000000</td>\n",
       "      <td>1.0</td>\n",
       "      <td>2.0</td>\n",
       "      <td>6.0</td>\n",
       "      <td>2.0</td>\n",
       "      <td>1.0</td>\n",
       "      <td>1.0</td>\n",
       "      <td>2.0</td>\n",
       "      <td>1.0</td>\n",
       "      <td>1.0</td>\n",
       "      <td>59.0</td>\n",
       "      <td>16.0</td>\n",
       "      <td>7.0</td>\n",
       "      <td>1.0</td>\n",
       "    </tr>\n",
       "    <tr>\n",
       "      <th>25</th>\n",
       "      <td>4.250000</td>\n",
       "      <td>3.923077</td>\n",
       "      <td>1.0</td>\n",
       "      <td>1.0</td>\n",
       "      <td>6.0</td>\n",
       "      <td>2.0</td>\n",
       "      <td>1.0</td>\n",
       "      <td>1.0</td>\n",
       "      <td>1.0</td>\n",
       "      <td>2.0</td>\n",
       "      <td>3.0</td>\n",
       "      <td>92.0</td>\n",
       "      <td>41.0</td>\n",
       "      <td>9.0</td>\n",
       "      <td>1.0</td>\n",
       "    </tr>\n",
       "    <tr>\n",
       "      <th>28</th>\n",
       "      <td>4.357143</td>\n",
       "      <td>4.326087</td>\n",
       "      <td>1.0</td>\n",
       "      <td>2.0</td>\n",
       "      <td>6.0</td>\n",
       "      <td>2.0</td>\n",
       "      <td>1.0</td>\n",
       "      <td>1.0</td>\n",
       "      <td>2.0</td>\n",
       "      <td>2.0</td>\n",
       "      <td>3.0</td>\n",
       "      <td>101.0</td>\n",
       "      <td>45.0</td>\n",
       "      <td>9.0</td>\n",
       "      <td>1.0</td>\n",
       "    </tr>\n",
       "    <tr>\n",
       "      <th>29</th>\n",
       "      <td>2.210526</td>\n",
       "      <td>1.375000</td>\n",
       "      <td>1.0</td>\n",
       "      <td>2.0</td>\n",
       "      <td>6.0</td>\n",
       "      <td>2.0</td>\n",
       "      <td>1.0</td>\n",
       "      <td>1.0</td>\n",
       "      <td>2.0</td>\n",
       "      <td>1.0</td>\n",
       "      <td>1.0</td>\n",
       "      <td>68.0</td>\n",
       "      <td>20.0</td>\n",
       "      <td>7.0</td>\n",
       "      <td>0.0</td>\n",
       "    </tr>\n",
       "    <tr>\n",
       "      <th>30</th>\n",
       "      <td>2.045455</td>\n",
       "      <td>2.961538</td>\n",
       "      <td>1.0</td>\n",
       "      <td>2.0</td>\n",
       "      <td>6.0</td>\n",
       "      <td>2.0</td>\n",
       "      <td>1.0</td>\n",
       "      <td>1.0</td>\n",
       "      <td>2.0</td>\n",
       "      <td>1.0</td>\n",
       "      <td>1.0</td>\n",
       "      <td>79.0</td>\n",
       "      <td>34.0</td>\n",
       "      <td>9.0</td>\n",
       "      <td>1.0</td>\n",
       "    </tr>\n",
       "    <tr>\n",
       "      <th>...</th>\n",
       "      <td>...</td>\n",
       "      <td>...</td>\n",
       "      <td>...</td>\n",
       "      <td>...</td>\n",
       "      <td>...</td>\n",
       "      <td>...</td>\n",
       "      <td>...</td>\n",
       "      <td>...</td>\n",
       "      <td>...</td>\n",
       "      <td>...</td>\n",
       "      <td>...</td>\n",
       "      <td>...</td>\n",
       "      <td>...</td>\n",
       "      <td>...</td>\n",
       "      <td>...</td>\n",
       "    </tr>\n",
       "    <tr>\n",
       "      <th>1445</th>\n",
       "      <td>4.000000</td>\n",
       "      <td>4.333333</td>\n",
       "      <td>1.0</td>\n",
       "      <td>8.0</td>\n",
       "      <td>6.0</td>\n",
       "      <td>2.0</td>\n",
       "      <td>2.0</td>\n",
       "      <td>1.0</td>\n",
       "      <td>2.0</td>\n",
       "      <td>1.0</td>\n",
       "      <td>5.0</td>\n",
       "      <td>74.0</td>\n",
       "      <td>16.0</td>\n",
       "      <td>9.0</td>\n",
       "      <td>1.0</td>\n",
       "    </tr>\n",
       "    <tr>\n",
       "      <th>1449</th>\n",
       "      <td>1.315789</td>\n",
       "      <td>0.000000</td>\n",
       "      <td>1.0</td>\n",
       "      <td>2.0</td>\n",
       "      <td>6.0</td>\n",
       "      <td>2.0</td>\n",
       "      <td>1.0</td>\n",
       "      <td>1.0</td>\n",
       "      <td>2.0</td>\n",
       "      <td>1.0</td>\n",
       "      <td>3.0</td>\n",
       "      <td>64.0</td>\n",
       "      <td>28.0</td>\n",
       "      <td>9.0</td>\n",
       "      <td>0.0</td>\n",
       "    </tr>\n",
       "    <tr>\n",
       "      <th>1452</th>\n",
       "      <td>1.869565</td>\n",
       "      <td>2.375000</td>\n",
       "      <td>1.0</td>\n",
       "      <td>2.0</td>\n",
       "      <td>6.0</td>\n",
       "      <td>2.0</td>\n",
       "      <td>1.0</td>\n",
       "      <td>1.0</td>\n",
       "      <td>1.0</td>\n",
       "      <td>1.0</td>\n",
       "      <td>1.0</td>\n",
       "      <td>73.0</td>\n",
       "      <td>23.0</td>\n",
       "      <td>7.0</td>\n",
       "      <td>1.0</td>\n",
       "    </tr>\n",
       "    <tr>\n",
       "      <th>1457</th>\n",
       "      <td>2.020833</td>\n",
       "      <td>2.450000</td>\n",
       "      <td>1.0</td>\n",
       "      <td>2.0</td>\n",
       "      <td>6.0</td>\n",
       "      <td>2.0</td>\n",
       "      <td>1.0</td>\n",
       "      <td>1.0</td>\n",
       "      <td>2.0</td>\n",
       "      <td>1.0</td>\n",
       "      <td>1.0</td>\n",
       "      <td>78.0</td>\n",
       "      <td>18.0</td>\n",
       "      <td>9.0</td>\n",
       "      <td>1.0</td>\n",
       "    </tr>\n",
       "    <tr>\n",
       "      <th>1459</th>\n",
       "      <td>2.133333</td>\n",
       "      <td>3.205882</td>\n",
       "      <td>1.0</td>\n",
       "      <td>2.0</td>\n",
       "      <td>6.0</td>\n",
       "      <td>2.0</td>\n",
       "      <td>2.0</td>\n",
       "      <td>1.0</td>\n",
       "      <td>1.0</td>\n",
       "      <td>1.0</td>\n",
       "      <td>1.0</td>\n",
       "      <td>81.0</td>\n",
       "      <td>27.0</td>\n",
       "      <td>9.0</td>\n",
       "      <td>1.0</td>\n",
       "    </tr>\n",
       "  </tbody>\n",
       "</table>\n",
       "<p>494 rows × 15 columns</p>\n",
       "</div>"
      ],
      "text/plain": [
       "      First Term Gpa  Second Term Gpa  First Language   Funding  School  \\\n",
       "23          0.000000         0.000000             1.0       2.0     6.0   \n",
       "25          4.250000         3.923077             1.0       1.0     6.0   \n",
       "28          4.357143         4.326087             1.0       2.0     6.0   \n",
       "29          2.210526         1.375000             1.0       2.0     6.0   \n",
       "30          2.045455         2.961538             1.0       2.0     6.0   \n",
       "...              ...              ...             ...       ...     ...   \n",
       "1445        4.000000         4.333333             1.0       8.0     6.0   \n",
       "1449        1.315789         0.000000             1.0       2.0     6.0   \n",
       "1452        1.869565         2.375000             1.0       2.0     6.0   \n",
       "1457        2.020833         2.450000             1.0       2.0     6.0   \n",
       "1459        2.133333         3.205882             1.0       2.0     6.0   \n",
       "\n",
       "      FastTrack  Coop   Residency   Gender   Previous Education  Age Group  \\\n",
       "23          2.0   1.0         1.0      2.0                  1.0        1.0   \n",
       "25          2.0   1.0         1.0      1.0                  2.0        3.0   \n",
       "28          2.0   1.0         1.0      2.0                  2.0        3.0   \n",
       "29          2.0   1.0         1.0      2.0                  1.0        1.0   \n",
       "30          2.0   1.0         1.0      2.0                  1.0        1.0   \n",
       "...         ...   ...         ...      ...                  ...        ...   \n",
       "1445        2.0   2.0         1.0      2.0                  1.0        5.0   \n",
       "1449        2.0   1.0         1.0      2.0                  1.0        3.0   \n",
       "1452        2.0   1.0         1.0      1.0                  1.0        1.0   \n",
       "1457        2.0   1.0         1.0      2.0                  1.0        1.0   \n",
       "1459        2.0   2.0         1.0      1.0                  1.0        1.0   \n",
       "\n",
       "      High School Average Mark  Math Score  English Grade  \\\n",
       "23                        59.0        16.0            7.0   \n",
       "25                        92.0        41.0            9.0   \n",
       "28                       101.0        45.0            9.0   \n",
       "29                        68.0        20.0            7.0   \n",
       "30                        79.0        34.0            9.0   \n",
       "...                        ...         ...            ...   \n",
       "1445                      74.0        16.0            9.0   \n",
       "1449                      64.0        28.0            9.0   \n",
       "1452                      73.0        23.0            7.0   \n",
       "1457                      78.0        18.0            9.0   \n",
       "1459                      81.0        27.0            9.0   \n",
       "\n",
       "      FirstYearPersistence  \n",
       "23                     1.0  \n",
       "25                     1.0  \n",
       "28                     1.0  \n",
       "29                     0.0  \n",
       "30                     1.0  \n",
       "...                    ...  \n",
       "1445                   1.0  \n",
       "1449                   0.0  \n",
       "1452                   1.0  \n",
       "1457                   1.0  \n",
       "1459                   1.0  \n",
       "\n",
       "[494 rows x 15 columns]"
      ]
     },
     "execution_count": 4,
     "metadata": {},
     "output_type": "execute_result"
    }
   ],
   "source": [
    "student_data"
   ]
  },
  {
   "cell_type": "code",
   "execution_count": 5,
   "id": "7582e9b0",
   "metadata": {},
   "outputs": [
    {
     "data": {
      "text/plain": [
       "First Term Gpa              float64\n",
       "Second Term Gpa             float64\n",
       "First Language              float64\n",
       " Funding                    float64\n",
       "School                      float64\n",
       "FastTrack                   float64\n",
       "Coop                        float64\n",
       " Residency                  float64\n",
       " Gender                     float64\n",
       " Previous Education         float64\n",
       "Age Group                   float64\n",
       "High School Average Mark    float64\n",
       "Math Score                  float64\n",
       "English Grade               float64\n",
       "FirstYearPersistence        float64\n",
       "dtype: object"
      ]
     },
     "execution_count": 5,
     "metadata": {},
     "output_type": "execute_result"
    }
   ],
   "source": [
    "student_data.dtypes"
   ]
  },
  {
   "cell_type": "code",
   "execution_count": 6,
   "id": "14d0d75e",
   "metadata": {},
   "outputs": [],
   "source": [
    "student_data['target'] = student_data['FirstYearPersistence']\n",
    "student_data.drop('FirstYearPersistence',axis=1,inplace=True)"
   ]
  },
  {
   "cell_type": "code",
   "execution_count": 7,
   "id": "c4cdc302",
   "metadata": {},
   "outputs": [],
   "source": [
    "def get_normalization_layer(name, dataset):\n",
    "    # Create a Normalization layer for the feature.\n",
    "    normalizer = layers.Normalization(axis=None)\n",
    "\n",
    "    # Prepare a Dataset that only yields the feature.\n",
    "    feature_ds = dataset.map(lambda x, y: x[name])\n",
    "\n",
    "    # Learn the statistics of the data.\n",
    "    normalizer.adapt(feature_ds)\n",
    "\n",
    "    return normalizer"
   ]
  },
  {
   "cell_type": "code",
   "execution_count": 8,
   "id": "d478aeea",
   "metadata": {},
   "outputs": [],
   "source": [
    "def df_to_dataset(dataframe, shuffle=True, batch_size=32):\n",
    "    df = dataframe.copy()\n",
    "    labels = df.pop('target')\n",
    "    df = {key: value[:,tf.newaxis] for key, value in dataframe.items()}\n",
    "    ds = tf.data.Dataset.from_tensor_slices((dict(df), labels))\n",
    "    if shuffle:\n",
    "        ds = ds.shuffle(buffer_size=len(dataframe))\n",
    "    ds = ds.batch(batch_size)\n",
    "    ds = ds.prefetch(batch_size)\n",
    "    return ds"
   ]
  },
  {
   "cell_type": "code",
   "execution_count": 9,
   "id": "d97f9b84",
   "metadata": {},
   "outputs": [
    {
     "name": "stderr",
     "output_type": "stream",
     "text": [
      "C:\\Users\\avitr\\AppData\\Local\\Temp\\ipykernel_39280\\3859046669.py:4: FutureWarning: Support for multi-dimensional indexing (e.g. `obj[:, None]`) is deprecated and will be removed in a future version.  Convert to a numpy array before indexing instead.\n",
      "  df = {key: value[:,tf.newaxis] for key, value in dataframe.items()}\n"
     ]
    }
   ],
   "source": [
    "train_ds = df_to_dataset(student_data)"
   ]
  },
  {
   "cell_type": "markdown",
   "id": "dcdb0510",
   "metadata": {},
   "source": [
    "# Example of encoding i.e normalization"
   ]
  },
  {
   "cell_type": "code",
   "execution_count": 10,
   "id": "1287d98b",
   "metadata": {},
   "outputs": [
    {
     "data": {
      "text/plain": [
       "<tf.Tensor: shape=(1, 494), dtype=float32, numpy=\n",
       "array([[-1.7061535 ,  1.284247  ,  2.0998108 , -0.8905897 ,  0.10621049,\n",
       "         1.8279563 ,  0.01559229, -0.43749872,  0.2874469 ,  1.5561017 ,\n",
       "         0.1968287 ,  1.7373381 ,  0.2874469 , -0.8905897 ,  0.6499197 ,\n",
       "         0.4686833 , -1.6155354 ,  1.5561017 , -0.16564411,  0.8311561 ,\n",
       "         0.37806508,  0.2874469 ,  0.01559229, -0.34688053,  0.1968287 ,\n",
       "         0.92177427,  1.1030107 , -0.43749872, -5.512118  , -0.2562623 ,\n",
       "        -2.7029538 , -1.3436807 , -0.2562623 , -0.52811694,  0.8311561 ,\n",
       "         0.10621049,  0.7405379 ,  0.37806508, -0.34688053,  0.1968287 ,\n",
       "        -0.07502592, -0.9812079 ,  0.5593015 ,  0.2874469 , -1.1624444 ,\n",
       "        -0.52811694,  1.3748653 , -2.3404808 ,  0.6499197 ,  1.6467199 ,\n",
       "         1.284247  , -0.43749872,  0.01559229, -2.7029538 ,  0.37806508,\n",
       "         0.10621049,  0.6499197 ,  0.01559229,  0.7405379 ,  1.7373381 ,\n",
       "         1.1030107 ,  1.1030107 ,  1.0123925 ,  0.4686833 , -0.9812079 ,\n",
       "         1.7373381 , -1.6155354 , -1.5249171 ,  0.2874469 , -1.3436807 ,\n",
       "        -0.52811694, -0.34688053,  0.6499197 , -2.1592445 , -0.8905897 ,\n",
       "         0.1968287 ,  1.4654835 ,  0.2874469 ,  0.6499197 , -0.52811694,\n",
       "        -0.61873513, -0.43749872,  0.37806508,  1.284247  ,  0.92177427,\n",
       "         1.284247  , -1.3436807 ,  1.0123925 ,  0.5593015 , -1.3436807 ,\n",
       "         0.4686833 , -1.1624444 ,  0.2874469 ,  0.10621049,  0.4686833 ,\n",
       "        -0.43749872,  1.1936289 , -0.43749872, -0.43749872, -0.52811694,\n",
       "        -0.2562623 ,  1.1936289 ,  0.7405379 , -0.7999715 ,  1.1936289 ,\n",
       "         0.4686833 ,  0.01559229,  1.3748653 , -0.16564411,  0.37806508,\n",
       "        -0.9812079 , -0.34688053, -0.2562623 , -0.07502592,  0.37806508,\n",
       "        -0.16564411,  0.01559229, -0.9812079 , -0.8905897 , -0.2562623 ,\n",
       "        -0.43749872,  0.7405379 ,  0.92177427, -0.7999715 , -0.9812079 ,\n",
       "        -0.43749872,  0.01559229, -0.9812079 ,  0.92177427,  0.37806508,\n",
       "        -2.5217173 , -0.16564411,  0.4686833 ,  1.7373381 , -0.07502592,\n",
       "         0.5593015 , -0.7999715 ,  0.01559229,  0.7405379 , -0.52811694,\n",
       "        -0.34688053, -0.8905897 ,  0.01559229,  0.8311561 , -0.43749872,\n",
       "        -0.61873513, -0.2562623 , -1.5249171 ,  0.10621049,  1.284247  ,\n",
       "        -0.43749872, -1.8873899 ,  1.6467199 , -1.4342989 ,  1.5561017 ,\n",
       "         0.8311561 ,  0.1968287 , -0.61873513,  0.1968287 ,  1.284247  ,\n",
       "         1.1936289 , -0.8905897 , -1.1624444 , -1.9780082 ,  1.284247  ,\n",
       "        -0.2562623 ,  0.2874469 , -0.61873513,  0.2874469 ,  0.6499197 ,\n",
       "         1.0123925 , -0.7999715 ,  0.5593015 ,  0.01559229,  0.37806508,\n",
       "         0.1968287 ,  0.6499197 , -1.8873899 , -0.43749872, -0.07502592,\n",
       "        -2.2498627 ,  0.4686833 , -0.34688053,  0.1968287 , -0.2562623 ,\n",
       "        -1.1624444 ,  0.2874469 ,  0.10621049, -0.16564411, -0.16564411,\n",
       "         0.6499197 ,  2.0091927 ,  0.10621049,  0.4686833 ,  1.3748653 ,\n",
       "         0.4686833 ,  0.7405379 , -2.3404808 , -1.5249171 ,  1.8279563 ,\n",
       "        -1.0718261 , -0.9812079 , -0.7999715 , -0.61873513, -2.1592445 ,\n",
       "         0.37806508,  0.1968287 , -0.34688053, -1.0718261 ,  0.7405379 ,\n",
       "        -1.6155354 , -0.2562623 ,  0.37806508, -0.07502592,  2.64352   ,\n",
       "        -0.7093533 ,  0.8311561 ,  0.4686833 , -1.0718261 , -0.43749872,\n",
       "         0.5593015 , -0.16564411,  1.0123925 ,  0.7405379 ,  0.7405379 ,\n",
       "        -1.4342989 , -0.61873513,  1.284247  , -2.9748082 ,  0.8311561 ,\n",
       "        -1.8873899 , -1.7967718 ,  0.92177427, -0.34688053,  0.8311561 ,\n",
       "        -0.52811694,  0.01559229, -0.16564411, -1.1624444 ,  0.01559229,\n",
       "         0.8311561 ,  1.4654835 , -0.07502592,  0.4686833 , -0.43749872,\n",
       "        -0.7093533 , -0.07502592,  0.01559229, -0.07502592,  1.284247  ,\n",
       "         1.5561017 ,  0.10621049, -0.43749872, -1.3436807 ,  1.8279563 ,\n",
       "         1.1936289 ,  0.6499197 , -0.43749872,  0.37806508, -4.7871723 ,\n",
       "         0.8311561 ,  0.10621049, -0.52811694,  0.5593015 , -0.16564411,\n",
       "         0.6499197 , -0.43749872, -0.52811694, -0.7999715 ,  0.1968287 ,\n",
       "         0.6499197 ,  1.1936289 , -0.2562623 , -0.43749872, -1.1624444 ,\n",
       "         0.2874469 ,  0.5593015 , -0.7093533 , -0.34688053,  0.6499197 ,\n",
       "        -0.43749872,  0.10621049,  0.2874469 ,  0.92177427,  2.0091927 ,\n",
       "        -0.34688053,  1.284247  ,  1.9185745 , -0.43749872,  0.92177427,\n",
       "        -1.4342989 ,  0.2874469 , -0.61873513,  1.7373381 , -0.7999715 ,\n",
       "        -2.0686264 , -1.1624444 ,  1.284247  , -0.34688053, -0.34688053,\n",
       "         0.5593015 , -0.7093533 , -0.2562623 , -0.61873513,  1.0123925 ,\n",
       "         0.92177427,  0.5593015 ,  0.92177427,  0.8311561 ,  0.6499197 ,\n",
       "        -0.61873513, -0.07502592,  0.01559229, -0.52811694,  0.37806508,\n",
       "         0.8311561 ,  1.284247  , -2.4310992 , -0.34688053,  0.6499197 ,\n",
       "        -0.8905897 ,  1.1030107 ,  1.3748653 ,  0.8311561 , -1.8873899 ,\n",
       "         0.2874469 ,  1.8279563 , -0.7999715 ,  1.4654835 , -1.3436807 ,\n",
       "         0.6499197 , -0.8905897 , -0.34688053,  0.7405379 ,  0.92177427,\n",
       "         1.284247  , -0.16564411, -0.7999715 ,  0.01559229, -0.16564411,\n",
       "        -0.2562623 ,  1.0123925 ,  1.5561017 , -0.07502592,  0.1968287 ,\n",
       "         0.10621049,  0.01559229,  1.4654835 , -0.16564411,  0.1968287 ,\n",
       "        -1.6155354 ,  1.284247  ,  1.0123925 ,  0.1968287 ,  0.01559229,\n",
       "         0.8311561 ,  0.01559229,  0.6499197 , -0.07502592,  0.37806508,\n",
       "        -0.7999715 , -0.61873513, -0.07502592,  1.5561017 ,  0.2874469 ,\n",
       "        -0.61873513,  0.10621049,  0.2874469 ,  0.4686833 ,  0.10621049,\n",
       "         0.01559229,  0.5593015 ,  0.2874469 ,  1.0123925 ,  0.01559229,\n",
       "         0.92177427,  0.01559229, -0.7999715 , -0.8905897 , -0.34688053,\n",
       "        -0.43749872, -0.34688053, -0.34688053, -0.61873513, -0.61873513,\n",
       "        -2.3404808 ,  0.10621049,  1.6467199 ,  1.284247  , -0.52811694,\n",
       "         0.2874469 ,  0.1968287 , -0.07502592,  0.92177427,  1.6467199 ,\n",
       "        -0.8905897 ,  0.01559229,  0.2874469 ,  0.5593015 , -0.8905897 ,\n",
       "        -0.52811694,  1.3748653 ,  0.4686833 ,  0.5593015 ,  0.1968287 ,\n",
       "         0.1968287 ,  0.01559229,  0.8311561 ,  1.1936289 ,  0.5593015 ,\n",
       "        -0.34688053, -1.3436807 ,  1.1030107 ,  0.7405379 ,  1.284247  ,\n",
       "         0.92177427,  0.92177427, -1.2530625 , -0.52811694, -0.9812079 ,\n",
       "         0.7405379 , -1.3436807 , -1.5249171 , -1.3436807 , -1.4342989 ,\n",
       "        -0.16564411, -1.4342989 , -0.9812079 , -0.16564411,  0.01559229,\n",
       "         1.1030107 ,  1.0123925 ,  0.92177427,  0.01559229,  0.6499197 ,\n",
       "        -0.43749872,  0.7405379 ,  0.5593015 , -0.61873513, -0.9812079 ,\n",
       "        -0.2562623 ,  0.4686833 , -0.2562623 , -0.07502592,  0.5593015 ,\n",
       "        -1.3436807 , -0.61873513, -0.61873513,  0.10621049, -0.8905897 ,\n",
       "        -0.34688053, -0.7093533 ,  0.10621049,  1.284247  , -1.4342989 ,\n",
       "        -1.2530625 ,  1.7373381 ,  1.6467199 ,  1.284247  , -0.8905897 ,\n",
       "         1.1030107 , -0.07502592, -0.9812079 , -2.1592445 ,  1.1030107 ,\n",
       "        -0.43749872, -0.52811694, -0.2562623 , -0.16564411, -0.2562623 ,\n",
       "         1.1936289 , -0.7999715 ,  0.01559229,  0.92177427, -0.07502592,\n",
       "        -0.52811694, -1.7061535 , -0.52811694,  1.1936289 , -0.2562623 ,\n",
       "         1.0123925 , -0.07502592, -1.9780082 ,  0.01559229, -1.5249171 ,\n",
       "        -0.52811694,  0.4686833 , -0.52811694, -0.07502592, -0.34688053,\n",
       "        -1.2530625 , -0.43749872,  0.01559229,  0.2874469 ]],\n",
       "      dtype=float32)>"
      ]
     },
     "execution_count": 10,
     "metadata": {},
     "output_type": "execute_result"
    }
   ],
   "source": [
    "Average_Mark = student_data['High School Average Mark']\n",
    "layer = get_normalization_layer('High School Average Mark', train_ds)\n",
    "layer(Average_Mark)"
   ]
  },
  {
   "cell_type": "code",
   "execution_count": 11,
   "id": "be0de6fd",
   "metadata": {},
   "outputs": [
    {
     "data": {
      "text/plain": [
       "['First Term Gpa',\n",
       " 'Second Term Gpa',\n",
       " 'First Language',\n",
       " ' Funding',\n",
       " 'School',\n",
       " 'FastTrack',\n",
       " 'Coop',\n",
       " ' Residency',\n",
       " ' Gender',\n",
       " ' Previous Education',\n",
       " 'Age Group',\n",
       " 'High School Average Mark',\n",
       " 'Math Score',\n",
       " 'English Grade']"
      ]
     },
     "execution_count": 11,
     "metadata": {},
     "output_type": "execute_result"
    }
   ],
   "source": [
    "list(student_data)[:-1]"
   ]
  },
  {
   "cell_type": "markdown",
   "id": "5cfb13e0",
   "metadata": {},
   "source": [
    "# Apply normalization on all features except target"
   ]
  },
  {
   "cell_type": "code",
   "execution_count": 12,
   "id": "f8a7cca3",
   "metadata": {},
   "outputs": [
    {
     "data": {
      "application/vnd.jupyter.widget-view+json": {
       "model_id": "d90b5aa7a1ea441882850d1563fff76c",
       "version_major": 2,
       "version_minor": 0
      },
      "text/plain": [
       "  0%|          | 0/14 [00:00<?, ?it/s]"
      ]
     },
     "metadata": {},
     "output_type": "display_data"
    }
   ],
   "source": [
    "from tqdm.notebook import tqdm\n",
    "all_inputs = []\n",
    "encoded_features = []\n",
    "\n",
    "# Numerical features.\n",
    "for header in tqdm(list(student_data)[:-1]):\n",
    "    numeric_col = tf.keras.Input(shape=(1,), name=header)\n",
    "    normalization_layer = get_normalization_layer(header, train_ds)\n",
    "    encoded_numeric_col = normalization_layer(numeric_col)\n",
    "    all_inputs.append(numeric_col)\n",
    "    encoded_features.append(encoded_numeric_col)"
   ]
  },
  {
   "cell_type": "markdown",
   "id": "40f49fce",
   "metadata": {},
   "source": [
    "# There is no feature with type as string, therefore Converting categorical features to numerical is not needed"
   ]
  },
  {
   "cell_type": "code",
   "execution_count": 13,
   "id": "649f29a9",
   "metadata": {},
   "outputs": [
    {
     "data": {
      "text/plain": [
       "First Term Gpa              float64\n",
       "Second Term Gpa             float64\n",
       "First Language              float64\n",
       " Funding                    float64\n",
       "School                      float64\n",
       "FastTrack                   float64\n",
       "Coop                        float64\n",
       " Residency                  float64\n",
       " Gender                     float64\n",
       " Previous Education         float64\n",
       "Age Group                   float64\n",
       "High School Average Mark    float64\n",
       "Math Score                  float64\n",
       "English Grade               float64\n",
       "target                      float64\n",
       "dtype: object"
      ]
     },
     "execution_count": 13,
     "metadata": {},
     "output_type": "execute_result"
    }
   ],
   "source": [
    "student_data.dtypes"
   ]
  },
  {
   "cell_type": "code",
   "execution_count": 14,
   "id": "d50b70dc",
   "metadata": {},
   "outputs": [],
   "source": [
    "all_features = tf.keras.layers.concatenate(encoded_features)"
   ]
  },
  {
   "cell_type": "code",
   "execution_count": 15,
   "id": "22029141",
   "metadata": {},
   "outputs": [
    {
     "data": {
      "text/plain": [
       "<KerasTensor: shape=(None, 14) dtype=float32 (created by layer 'concatenate')>"
      ]
     },
     "execution_count": 15,
     "metadata": {},
     "output_type": "execute_result"
    }
   ],
   "source": [
    "all_features # encoded features"
   ]
  },
  {
   "cell_type": "code",
   "execution_count": 16,
   "id": "a76f7f52",
   "metadata": {},
   "outputs": [],
   "source": [
    "# https://www.tensorflow.org/tutorials/structured_data/preprocessing_layers"
   ]
  }
 ],
 "metadata": {
  "kernelspec": {
   "display_name": "Python 3 (ipykernel)",
   "language": "python",
   "name": "python3"
  },
  "language_info": {
   "codemirror_mode": {
    "name": "ipython",
    "version": 3
   },
   "file_extension": ".py",
   "mimetype": "text/x-python",
   "name": "python",
   "nbconvert_exporter": "python",
   "pygments_lexer": "ipython3",
   "version": "3.9.12"
  }
 },
 "nbformat": 4,
 "nbformat_minor": 5
}
