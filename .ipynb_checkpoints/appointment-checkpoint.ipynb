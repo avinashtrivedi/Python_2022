{
 "cells": [
  {
   "cell_type": "code",
   "execution_count": 51,
   "id": "4c11e1e9",
   "metadata": {},
   "outputs": [],
   "source": [
    "import json"
   ]
  },
  {
   "cell_type": "code",
   "execution_count": 52,
   "id": "fe74deb3",
   "metadata": {},
   "outputs": [],
   "source": [
    "reminder_file = open(\"planner_files.json\", \"r\")\n",
    "reminders = json.load(reminder_file)"
   ]
  },
  {
   "cell_type": "code",
   "execution_count": 48,
   "id": "bd98e27e",
   "metadata": {},
   "outputs": [],
   "source": [
    "del reminders['Appointments']\n",
    "reminders['Appointments'] = {}"
   ]
  },
  {
   "cell_type": "code",
   "execution_count": 49,
   "id": "ac38a884",
   "metadata": {},
   "outputs": [
    {
     "data": {
      "text/plain": [
       "{'Shopping List': {'eggs': [12, 'pasture raised only'],\n",
       "  'bread': [1, 'whole wheat or potato'],\n",
       "  'pickles': [2, 'not picky']},\n",
       " 'Jokes': {'What did the father buffalo say to his child when he went to college?': 'Bye son.',\n",
       "  'How many lawyers does it take to change a lightbulb?': 'Depends. Can you afford any?',\n",
       "  \"What's more amazing than a talking dog?\": 'A spelling bee.',\n",
       "  'Did you hear what happened to the dyslexic cultist?': 'He sold his soul to Santa.'},\n",
       " 'Appointments': {}}"
      ]
     },
     "execution_count": 49,
     "metadata": {},
     "output_type": "execute_result"
    }
   ],
   "source": [
    "reminders"
   ]
  },
  {
   "cell_type": "code",
   "execution_count": null,
   "id": "ec9afc71",
   "metadata": {},
   "outputs": [],
   "source": []
  },
  {
   "cell_type": "code",
   "execution_count": 11,
   "id": "eff6a219",
   "metadata": {},
   "outputs": [
    {
     "data": {
      "text/plain": [
       "{'Dinner with Lou': [2022, 6, 14],\n",
       " \"Cait's Birthday\": [2022, 12, 9],\n",
       " 'DeAnza Ride': [2021, 7, 1],\n",
       " 'Trip to Fort Myers': [2022, 5, 9]}"
      ]
     },
     "execution_count": 11,
     "metadata": {},
     "output_type": "execute_result"
    }
   ],
   "source": [
    "reminders['Appointments']"
   ]
  },
  {
   "cell_type": "code",
   "execution_count": 20,
   "id": "63112dee",
   "metadata": {},
   "outputs": [],
   "source": [
    "month = {\n",
    "    1: 'JAN',\n",
    "    2: 'FEB',\n",
    "    3: 'MAR',\n",
    "    4 : 'APR',\n",
    "    5: 'MAY',\n",
    "    6:'JUN',\n",
    "    7: 'JUL',\n",
    "    8:'AUG',\n",
    "    9: 'SEP',\n",
    "    10:'OCT',\n",
    "    11: 'NOV',\n",
    "    12: 'DEC'\n",
    "}"
   ]
  },
  {
   "cell_type": "code",
   "execution_count": 53,
   "id": "f9be7123",
   "metadata": {},
   "outputs": [
    {
     "name": "stdout",
     "output_type": "stream",
     "text": [
      "You have Dinner with Lou dated 14-JUN-2022\n",
      "You have Cait's Birthday dated 9-DEC-2022\n",
      "You have DeAnza Ride dated 1-JUL-2021\n",
      "You have Trip to Fort Myers dated 9-MAY-2022\n",
      "do you want to clear all appointments? y/n y\n"
     ]
    }
   ],
   "source": [
    "for key in reminders['Appointments']:\n",
    "    app_date = reminders['Appointments'][key]\n",
    "    year = app_date[0]\n",
    "    mnth = app_date[1]\n",
    "    dte = app_date[2]\n",
    "    print(\"You have {} dated {}-{}-{}\".format(key,dte,month[mnth],year))\n",
    "choice = input('do you want to clear all appointments? y/n ')\n",
    "if choice=='y':\n",
    "    del reminders['Appointments']\n",
    "    reminders['Appointments'] = {}"
   ]
  },
  {
   "cell_type": "code",
   "execution_count": 54,
   "id": "a6a696b5",
   "metadata": {},
   "outputs": [
    {
     "data": {
      "text/plain": [
       "{'Shopping List': {'eggs': [12, 'pasture raised only'],\n",
       "  'bread': [1, 'whole wheat or potato'],\n",
       "  'pickles': [2, 'not picky']},\n",
       " 'Jokes': {'What did the father buffalo say to his child when he went to college?': 'Bye son.',\n",
       "  'How many lawyers does it take to change a lightbulb?': 'Depends. Can you afford any?',\n",
       "  \"What's more amazing than a talking dog?\": 'A spelling bee.',\n",
       "  'Did you hear what happened to the dyslexic cultist?': 'He sold his soul to Santa.'},\n",
       " 'Appointments': {}}"
      ]
     },
     "execution_count": 54,
     "metadata": {},
     "output_type": "execute_result"
    }
   ],
   "source": [
    "reminders"
   ]
  },
  {
   "cell_type": "code",
   "execution_count": 26,
   "id": "5ed6e787",
   "metadata": {},
   "outputs": [
    {
     "name": "stdout",
     "output_type": "stream",
     "text": [
      "You have Dinner with Lou dated 14-JUN-2022\n",
      "You have Cait's Birthday dated 9-DEC-2022\n",
      "You have DeAnza Ride dated 1-JUL-2021\n",
      "You have Trip to Fort Myers dated 9-MAY-2022\n"
     ]
    }
   ],
   "source": [
    "\n",
    "for key in reminders['Appointments']:\n",
    "    app_date = reminders['Appointments'][key]\n",
    "    year = app_date[0]\n",
    "    mnth = app_date[1]\n",
    "    dte = app_date[2]\n",
    "    print(\"You have {} dated {}-{}-{}\".format(key,dte,month[mnth],year))\n",
    "    choice = input('Do you want to reschedule or cancel this appointment r/c: ')\n",
    "    if choice == 'r':\n",
    "        ...\n",
    "    elif choice=='c':\n",
    "#         del reminders['Appointments'][key]\n",
    "        del app_date"
   ]
  },
  {
   "cell_type": "code",
   "execution_count": 29,
   "id": "def39715",
   "metadata": {},
   "outputs": [],
   "source": [
    "d = {\"Dinner with Lou\": [\n",
    "            2022,\n",
    "            6,\n",
    "            14\n",
    "        ],\n",
    "        \"Cait's Birthday\": [\n",
    "            2022,\n",
    "            12,\n",
    "            9\n",
    "        ],\n",
    "        \"DeAnza Ride\": [\n",
    "            2021,\n",
    "            7,\n",
    "            1\n",
    "        ]}"
   ]
  },
  {
   "cell_type": "code",
   "execution_count": 30,
   "id": "806f3413",
   "metadata": {},
   "outputs": [
    {
     "data": {
      "text/plain": [
       "{'Dinner with Lou': [2022, 6, 14],\n",
       " \"Cait's Birthday\": [2022, 12, 9],\n",
       " 'DeAnza Ride': [2021, 7, 1]}"
      ]
     },
     "execution_count": 30,
     "metadata": {},
     "output_type": "execute_result"
    }
   ],
   "source": [
    "d"
   ]
  },
  {
   "cell_type": "code",
   "execution_count": 31,
   "id": "710d8302",
   "metadata": {},
   "outputs": [],
   "source": [
    "del d['Dinner with Lou']"
   ]
  },
  {
   "cell_type": "code",
   "execution_count": 32,
   "id": "36f6a609",
   "metadata": {},
   "outputs": [
    {
     "data": {
      "text/plain": [
       "{\"Cait's Birthday\": [2022, 12, 9], 'DeAnza Ride': [2021, 7, 1]}"
      ]
     },
     "execution_count": 32,
     "metadata": {},
     "output_type": "execute_result"
    }
   ],
   "source": [
    "d"
   ]
  },
  {
   "cell_type": "code",
   "execution_count": null,
   "id": "3a967406",
   "metadata": {},
   "outputs": [],
   "source": []
  },
  {
   "cell_type": "code",
   "execution_count": 2,
   "id": "f6551218",
   "metadata": {},
   "outputs": [],
   "source": [
    "def appt_reminders():\n",
    "    reminder_file = open(\"planner_files.json\", \"r\")\n",
    "    reminders = json.load(reminder_file)\n",
    "    reminder_data = reminders[\"Appointments\"]\n",
    "    for r in reminder_data:\n",
    "        print(f\"You have %s on %d\" % r)\n",
    "        print(reminders[\"Appointments\"][\"Dinner with Lou\"])\n",
    "    reminder_file.close()"
   ]
  },
  {
   "cell_type": "code",
   "execution_count": 3,
   "id": "614f220c",
   "metadata": {},
   "outputs": [
    {
     "ename": "TypeError",
     "evalue": "not enough arguments for format string",
     "output_type": "error",
     "traceback": [
      "\u001b[1;31m---------------------------------------------------------------------------\u001b[0m",
      "\u001b[1;31mTypeError\u001b[0m                                 Traceback (most recent call last)",
      "Input \u001b[1;32mIn [3]\u001b[0m, in \u001b[0;36m<cell line: 1>\u001b[1;34m()\u001b[0m\n\u001b[1;32m----> 1\u001b[0m \u001b[43mappt_reminders\u001b[49m\u001b[43m(\u001b[49m\u001b[43m)\u001b[49m\n",
      "Input \u001b[1;32mIn [2]\u001b[0m, in \u001b[0;36mappt_reminders\u001b[1;34m()\u001b[0m\n\u001b[0;32m      4\u001b[0m reminder_data \u001b[38;5;241m=\u001b[39m reminders[\u001b[38;5;124m\"\u001b[39m\u001b[38;5;124mAppointments\u001b[39m\u001b[38;5;124m\"\u001b[39m]\n\u001b[0;32m      5\u001b[0m \u001b[38;5;28;01mfor\u001b[39;00m r \u001b[38;5;129;01min\u001b[39;00m reminder_data:\n\u001b[1;32m----> 6\u001b[0m     \u001b[38;5;28mprint\u001b[39m(\u001b[38;5;124;43mf\u001b[39;49m\u001b[38;5;124;43m\"\u001b[39;49m\u001b[38;5;124;43mYou have %s on %d\u001b[39;49m\u001b[38;5;124;43m\"\u001b[39;49m\u001b[43m \u001b[49m\u001b[38;5;241;43m%\u001b[39;49m\u001b[43m \u001b[49m\u001b[43mr\u001b[49m)\n\u001b[0;32m      7\u001b[0m     \u001b[38;5;28mprint\u001b[39m(reminders[\u001b[38;5;124m\"\u001b[39m\u001b[38;5;124mAppointments\u001b[39m\u001b[38;5;124m\"\u001b[39m][\u001b[38;5;124m\"\u001b[39m\u001b[38;5;124mDinner with Lou\u001b[39m\u001b[38;5;124m\"\u001b[39m])\n\u001b[0;32m      8\u001b[0m reminder_file\u001b[38;5;241m.\u001b[39mclose()\n",
      "\u001b[1;31mTypeError\u001b[0m: not enough arguments for format string"
     ]
    }
   ],
   "source": [
    "appt_reminders()"
   ]
  },
  {
   "cell_type": "code",
   "execution_count": null,
   "id": "80ceea4b",
   "metadata": {},
   "outputs": [],
   "source": []
  }
 ],
 "metadata": {
  "kernelspec": {
   "display_name": "Python 3 (ipykernel)",
   "language": "python",
   "name": "python3"
  },
  "language_info": {
   "codemirror_mode": {
    "name": "ipython",
    "version": 3
   },
   "file_extension": ".py",
   "mimetype": "text/x-python",
   "name": "python",
   "nbconvert_exporter": "python",
   "pygments_lexer": "ipython3",
   "version": "3.8.5"
  }
 },
 "nbformat": 4,
 "nbformat_minor": 5
}
