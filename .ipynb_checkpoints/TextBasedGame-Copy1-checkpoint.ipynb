{
 "cells": [
  {
   "cell_type": "code",
   "execution_count": 1,
   "id": "57c37c7a",
   "metadata": {},
   "outputs": [
    {
     "name": "stdout",
     "output_type": "stream",
     "text": [
      "Ghoul Text Adventure Game\n",
      "Collect 6 items to win the game, or be eaten by the Ghoul.\n",
      "Move commands: go South, go North, go East, go West\n",
      "Add to Inventory: get 'item name'\n",
      "You are in  Main Hall\n",
      "Inventory: []\n"
     ]
    },
    {
     "ename": "KeyError",
     "evalue": "'Item'",
     "output_type": "error",
     "traceback": [
      "\u001b[1;31m---------------------------------------------------------------------------\u001b[0m",
      "\u001b[1;31mKeyError\u001b[0m                                  Traceback (most recent call last)",
      "Input \u001b[1;32mIn [1]\u001b[0m, in \u001b[0;36m<cell line: 35>\u001b[1;34m()\u001b[0m\n\u001b[0;32m     35\u001b[0m \u001b[38;5;28mprint\u001b[39m(\u001b[38;5;124m'\u001b[39m\u001b[38;5;124mYou are in \u001b[39m\u001b[38;5;124m'\u001b[39m, state)  \u001b[38;5;66;03m# printing state\u001b[39;00m\n\u001b[0;32m     36\u001b[0m \u001b[38;5;28mprint\u001b[39m(\u001b[38;5;124m'\u001b[39m\u001b[38;5;124mInventory:\u001b[39m\u001b[38;5;124m'\u001b[39m,inventory) \u001b[38;5;66;03m#printing inventory\u001b[39;00m\n\u001b[1;32m---> 37\u001b[0m item\u001b[38;5;241m=\u001b[39m\u001b[43mget_item\u001b[49m\u001b[43m(\u001b[49m\u001b[43mstate\u001b[49m\u001b[43m)\u001b[49m \u001b[38;5;66;03m#calling get_item function\u001b[39;00m\n\u001b[0;32m     38\u001b[0m \u001b[38;5;28mprint\u001b[39m(\u001b[38;5;124m'\u001b[39m\u001b[38;5;124mYou see a\u001b[39m\u001b[38;5;124m'\u001b[39m,item) \u001b[38;5;66;03m#print\u001b[39;00m\n\u001b[0;32m     39\u001b[0m \u001b[38;5;28;01mif\u001b[39;00m item\u001b[38;5;241m==\u001b[39m\u001b[38;5;124m'\u001b[39m\u001b[38;5;124mRadiated Ghoul Monster\u001b[39m\u001b[38;5;124m'\u001b[39m: \u001b[38;5;66;03m#if\u001b[39;00m\n",
      "Input \u001b[1;32mIn [1]\u001b[0m, in \u001b[0;36mget_item\u001b[1;34m(state)\u001b[0m\n\u001b[0;32m     23\u001b[0m \u001b[38;5;28;01mdef\u001b[39;00m \u001b[38;5;21mget_item\u001b[39m(state):\n\u001b[1;32m---> 24\u001b[0m     \u001b[38;5;28;01mreturn\u001b[39;00m \u001b[43mrooms\u001b[49m\u001b[43m[\u001b[49m\u001b[43mstate\u001b[49m\u001b[43m]\u001b[49m\u001b[43m[\u001b[49m\u001b[38;5;124;43m'\u001b[39;49m\u001b[38;5;124;43mItem\u001b[39;49m\u001b[38;5;124;43m'\u001b[39;49m\u001b[43m]\u001b[49m\n",
      "\u001b[1;31mKeyError\u001b[0m: 'Item'"
     ]
    }
   ],
   "source": [
    "# declaration\n",
    "rooms = {\n",
    "        'Main Hall' : { 'South' : 'Kitchen', 'North': 'Bedroom-1', 'East' : 'Living Room', 'West' : 'Library' },\n",
    "        'Bedroom-1' : { 'South' : 'Main Hall', 'East' : 'Basement', 'Item' : 'Sword' },\n",
    "        'Basement' : {'West': 'Bedroom-1','item': 'Gun'},\n",
    "        'Library': {'East':'Main Hall','Item':'ammunition'},\n",
    "        'Kitchen':{'East':'Master Bedroom','North':'Main Hall','Item':'Knives'},\n",
    "        'Master Bedroom' : { 'West' : 'Kitchen', 'Item' : \"Chemical's for radiation cure\"},\n",
    "        'Living Room' : { 'West' : 'Main Hall','North': 'Garage', 'Item' : 'Radiation cure shot' },\n",
    "        'Garage':{'South':'Living Hall','Item':'Radiated Ghoul Monster'},\n",
    "        }\n",
    "\n",
    "state = 'Main Hall'\n",
    "# function\n",
    "def get_new_state(state, direction):\n",
    "    new_state = state  # declaraing\n",
    "    for i in rooms:  # loop\n",
    "        if i == state:  # if\n",
    "            if direction in rooms[i]:  # if\n",
    "                new_state=rooms[i][direction] #assigning new_state\n",
    "\n",
    "    return new_state  # return\n",
    "def get_item(state):\n",
    "    return rooms[state]['Item'] #returning Item value\n",
    "#function\n",
    "def show_instructions():\n",
    "    #print a main menu and the commands\n",
    "    print(\"Ghoul Text Adventure Game\")\n",
    "    print(\"Collect 6 items to win the game, or be eaten by the Ghoul.\")\n",
    "    print(\"Move commands: go South, go North, go East, go West\")\n",
    "    print(\"Add to Inventory: get 'item name'\")\n",
    "show_instructions() #calling function\n",
    "inventory=[]\n",
    "while (1):  # gameplay loop\n",
    "    print('You are in ', state)  # printing state\n",
    "    print('Inventory:',inventory) #printing inventory\n",
    "    item=get_item(state) #calling get_item function\n",
    "    print('You see a',item) #print\n",
    "    if item=='Radiated Ghoul Monster': #if\n",
    "        print('NOM NOM...GAME OVER!')\n",
    "        break\n",
    "    direction = input('Enter your move: ')  # asking user\n",
    "    if (direction == 'go East' or direction == 'go West' or direction == 'go North' or direction == 'go South'):  # if\n",
    "        direction=direction[3:]\n",
    "        new_state = get_new_state(state, direction)  # calling function\n",
    "        if new_state == state:  # if\n",
    "            print('The room has wall in that direction enter other direction!')  # print\n",
    "        else:\n",
    "            state = new_state  # changing state value to new_state\n",
    "    elif direction==str('get '+item): #if\n",
    "        if item in inventory: #if item already present in inventory\n",
    "            print('Item already taken go to another room!!')\n",
    "        else:\n",
    "            inventory.append(item) #appending\n",
    "    else:\n",
    "        print('Invalid direction!!')  # print\n",
    "    if len(inventory)==6:\n",
    "        print('Congratulations! You have collected all items and defeated the Ghoul!') #print\n",
    "        break"
   ]
  },
  {
   "cell_type": "code",
   "execution_count": null,
   "id": "d5472d1b",
   "metadata": {},
   "outputs": [],
   "source": []
  }
 ],
 "metadata": {
  "kernelspec": {
   "display_name": "Python 3 (ipykernel)",
   "language": "python",
   "name": "python3"
  },
  "language_info": {
   "codemirror_mode": {
    "name": "ipython",
    "version": 3
   },
   "file_extension": ".py",
   "mimetype": "text/x-python",
   "name": "python",
   "nbconvert_exporter": "python",
   "pygments_lexer": "ipython3",
   "version": "3.9.12"
  }
 },
 "nbformat": 4,
 "nbformat_minor": 5
}
