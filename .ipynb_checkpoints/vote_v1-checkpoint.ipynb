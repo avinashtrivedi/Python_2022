{
 "cells": [
  {
   "cell_type": "code",
   "execution_count": 46,
   "metadata": {},
   "outputs": [],
   "source": [
    "with open('sample4.csv') as fp:\n",
    "    data = fp.readlines()\n",
    "data = [line.strip().split(',') for line in data]"
   ]
  },
  {
   "cell_type": "code",
   "execution_count": 47,
   "metadata": {},
   "outputs": [
    {
     "name": "stdout",
     "output_type": "stream",
     "text": [
      "Success\n"
     ]
    }
   ],
   "source": [
    "mylst = []\n",
    "while True and data[0]!=[]:\n",
    "    first = [line[0] for line in data if line[0]!='']\n",
    "    status = {}\n",
    "    for i in set(first):\n",
    "        status[i] = first.count(i)*100/len(data)\n",
    "    status = sorted(status.items(),key=lambda x:x[1])\n",
    "    \n",
    "    mimm = status[0][1]\n",
    "    \n",
    "    mx = max([int(i[0]) for i in status if i[1]==mimm])\n",
    "    mylst.append(int(mx))\n",
    "\n",
    "    mx = str(mx)\n",
    "    try:\n",
    "        \n",
    "        for line in data:\n",
    "            if mx in line:\n",
    "                line.remove(mx)\n",
    "            else:\n",
    "                line.remove('')\n",
    "    except:\n",
    "        print('Success')\n",
    "        break"
   ]
  },
  {
   "cell_type": "code",
   "execution_count": 48,
   "metadata": {},
   "outputs": [
    {
     "data": {
      "text/plain": [
       "[1]"
      ]
     },
     "execution_count": 48,
     "metadata": {},
     "output_type": "execute_result"
    }
   ],
   "source": [
    "mylst"
   ]
  },
  {
   "cell_type": "code",
   "execution_count": 22,
   "metadata": {},
   "outputs": [
    {
     "data": {
      "text/plain": [
       "[['1', '2', '3', '4', '5'],\n",
       " ['2', '3', '4', '5', ''],\n",
       " ['1', '3', '2', '4', '5'],\n",
       " ['2', '4', '3', '1', '5'],\n",
       " ['2', '1', '3', '4', '5'],\n",
       " ['1', '3', '2', '4', '5'],\n",
       " ['5', '', '', '', ''],\n",
       " ['5', '1', '2', '4', '3'],\n",
       " ['4', '1', '2', '5', '3'],\n",
       " ['1', '2', '3', '4', ''],\n",
       " ['2', '3', '4', '5', '1'],\n",
       " ['1', '4', '2', '', ''],\n",
       " ['3', '4', '2', '', ''],\n",
       " ['4', '3', '', '', '']]"
      ]
     },
     "execution_count": 22,
     "metadata": {},
     "output_type": "execute_result"
    }
   ],
   "source": [
    "data"
   ]
  },
  {
   "cell_type": "code",
   "execution_count": 27,
   "metadata": {},
   "outputs": [],
   "source": []
  },
  {
   "cell_type": "code",
   "execution_count": 51,
   "metadata": {},
   "outputs": [
    {
     "name": "stdout",
     "output_type": "stream",
     "text": [
      "['1', '2', '1', '2', '2', '1', '5', '5', '4', '1', '2', '1', '3', '4']\n",
      "['1', '2', '1', '2', '2', '1', '5', '5', '4', '1', '2', '1', '4', '4']\n",
      "['1', '2', '1', '2', '2', '1', '1', '4', '1', '2', '1', '4', '4']\n",
      "['1', '2', '1', '2', '2', '1', '1', '1', '1', '2', '1', '2']\n",
      "['1', '1', '1', '1', '1', '1', '1', '1', '1', '1']\n"
     ]
    },
    {
     "ename": "IndexError",
     "evalue": "list index out of range",
     "output_type": "error",
     "traceback": [
      "\u001b[1;31m---------------------------------------------------------------------------\u001b[0m",
      "\u001b[1;31mIndexError\u001b[0m                                Traceback (most recent call last)",
      "Input \u001b[1;32mIn [51]\u001b[0m, in \u001b[0;36m<cell line: 6>\u001b[1;34m()\u001b[0m\n\u001b[0;32m      4\u001b[0m elimination_order \u001b[38;5;241m=\u001b[39m []\n\u001b[0;32m      5\u001b[0m \u001b[38;5;28;01mwhile\u001b[39;00m \u001b[38;5;28;01mTrue\u001b[39;00m:\n\u001b[1;32m----> 6\u001b[0m     first \u001b[38;5;241m=\u001b[39m [line[\u001b[38;5;241m0\u001b[39m] \u001b[38;5;28;01mfor\u001b[39;00m line \u001b[38;5;129;01min\u001b[39;00m data \u001b[38;5;28;01mif\u001b[39;00m line[\u001b[38;5;241m0\u001b[39m]\u001b[38;5;241m!=\u001b[39m\u001b[38;5;124m'\u001b[39m\u001b[38;5;124m'\u001b[39m]\n\u001b[0;32m      7\u001b[0m     \u001b[38;5;28mprint\u001b[39m(first)\n\u001b[0;32m      8\u001b[0m     status \u001b[38;5;241m=\u001b[39m {}\n",
      "Input \u001b[1;32mIn [51]\u001b[0m, in \u001b[0;36m<listcomp>\u001b[1;34m(.0)\u001b[0m\n\u001b[0;32m      4\u001b[0m elimination_order \u001b[38;5;241m=\u001b[39m []\n\u001b[0;32m      5\u001b[0m \u001b[38;5;28;01mwhile\u001b[39;00m \u001b[38;5;28;01mTrue\u001b[39;00m:\n\u001b[1;32m----> 6\u001b[0m     first \u001b[38;5;241m=\u001b[39m [line[\u001b[38;5;241m0\u001b[39m] \u001b[38;5;28;01mfor\u001b[39;00m line \u001b[38;5;129;01min\u001b[39;00m data \u001b[38;5;28;01mif\u001b[39;00m \u001b[43mline\u001b[49m\u001b[43m[\u001b[49m\u001b[38;5;241;43m0\u001b[39;49m\u001b[43m]\u001b[49m\u001b[38;5;241m!=\u001b[39m\u001b[38;5;124m'\u001b[39m\u001b[38;5;124m'\u001b[39m]\n\u001b[0;32m      7\u001b[0m     \u001b[38;5;28mprint\u001b[39m(first)\n\u001b[0;32m      8\u001b[0m     status \u001b[38;5;241m=\u001b[39m {}\n",
      "\u001b[1;31mIndexError\u001b[0m: list index out of range"
     ]
    }
   ],
   "source": [
    "with open('sample1.csv') as fp:\n",
    "    data = fp.readlines()\n",
    "data = [line.strip().split(',') for line in data]\n",
    "elimination_order = []\n",
    "while True:\n",
    "    first = [line[0] for line in data if line[0]!='']\n",
    "    print(first)\n",
    "    status = {}\n",
    "    for i in set(first):\n",
    "        status[i] = first.count(i)*100/len(data)\n",
    "    status = sorted(status.items(),key=lambda x:x[1])\n",
    "\n",
    "    HighestVote = status[-1][1]\n",
    "\n",
    "    if HighestVote>50:\n",
    "        elimination_order = elimination_order + sorted([int(i[0]) for i in status[:-1] if i[1]!=hvote])\n",
    "        elimination_order.append(status[-1][0])\n",
    "        break\n",
    "    else:\n",
    "        mimm = status[0][1]\n",
    "\n",
    "        mx = max([int(i[0]) for i in status if i[1]==mimm])\n",
    "        elimination_order.append(mx)\n",
    "\n",
    "        try:\n",
    "            for line in data:\n",
    "                if str(mx) in line:\n",
    "                    line.remove(str(mx))\n",
    "                else:\n",
    "                    line.remove('')\n",
    "        except:\n",
    "            print('Success')\n",
    "            break"
   ]
  },
  {
   "cell_type": "code",
   "execution_count": 49,
   "metadata": {},
   "outputs": [
    {
     "data": {
      "text/plain": [
       "[[], [], ['2'], ['2'], ['2']]"
      ]
     },
     "execution_count": 49,
     "metadata": {},
     "output_type": "execute_result"
    }
   ],
   "source": [
    "data"
   ]
  },
  {
   "cell_type": "code",
   "execution_count": null,
   "metadata": {},
   "outputs": [],
   "source": []
  }
 ],
 "metadata": {
  "kernelspec": {
   "display_name": "Python 3 (ipykernel)",
   "language": "python",
   "name": "python3"
  },
  "language_info": {
   "codemirror_mode": {
    "name": "ipython",
    "version": 3
   },
   "file_extension": ".py",
   "mimetype": "text/x-python",
   "name": "python",
   "nbconvert_exporter": "python",
   "pygments_lexer": "ipython3",
   "version": "3.8.5"
  }
 },
 "nbformat": 4,
 "nbformat_minor": 4
}
