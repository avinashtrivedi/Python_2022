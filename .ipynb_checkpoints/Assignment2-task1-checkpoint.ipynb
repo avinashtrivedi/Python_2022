{
 "cells": [
  {
   "cell_type": "code",
   "execution_count": 1,
   "metadata": {},
   "outputs": [],
   "source": [
    "import numpy as np\n",
    "import pandas as pd\n",
    "import matplotlib.pyplot as plt\n",
    "from sklearn.linear_model import LinearRegression\n",
    "from sklearn.linear_model import LogisticRegression\n"
   ]
  },
  {
   "cell_type": "code",
   "execution_count": 2,
   "metadata": {},
   "outputs": [],
   "source": [
    "df_transactions = pd.read_csv('transactions.csv')"
   ]
  },
  {
   "cell_type": "code",
   "execution_count": 3,
   "metadata": {},
   "outputs": [
    {
     "name": "stdout",
     "output_type": "stream",
     "text": [
      "<class 'pandas.core.frame.DataFrame'>\n",
      "RangeIndex: 27171 entries, 0 to 27170\n",
      "Data columns (total 13 columns):\n",
      " #   Column            Non-Null Count  Dtype  \n",
      "---  ------            --------------  -----  \n",
      " 0   id                27171 non-null  int64  \n",
      " 1   date              27171 non-null  object \n",
      " 2   days_after_open   27171 non-null  int64  \n",
      " 3   day_of_week       27171 non-null  object \n",
      " 4   hours_after_open  27171 non-null  int64  \n",
      " 5   drink_id          27171 non-null  int64  \n",
      " 6   name              27171 non-null  object \n",
      " 7   unit_price        27171 non-null  float64\n",
      " 8   quantity          27171 non-null  int64  \n",
      " 9   raining           27171 non-null  object \n",
      " 10  study_area_id     27171 non-null  int64  \n",
      " 11  study_area_name   27171 non-null  object \n",
      " 12  dist_to_cafe      27171 non-null  int64  \n",
      "dtypes: float64(1), int64(7), object(5)\n",
      "memory usage: 2.7+ MB\n"
     ]
    }
   ],
   "source": [
    "df_transactions.info()"
   ]
  },
  {
   "cell_type": "code",
   "execution_count": null,
   "metadata": {},
   "outputs": [],
   "source": []
  },
  {
   "cell_type": "markdown",
   "metadata": {},
   "source": [
    "## Seasonality\n",
    "### Monthly\n"
   ]
  },
  {
   "cell_type": "markdown",
   "metadata": {},
   "source": [
    "Calculate the revenue then find mean in each month"
   ]
  },
  {
   "cell_type": "code",
   "execution_count": 4,
   "metadata": {},
   "outputs": [],
   "source": [
    "df_transactions['revenue'] = df_transactions['unit_price'] * df_transactions['quantity']"
   ]
  },
  {
   "cell_type": "code",
   "execution_count": 5,
   "metadata": {},
   "outputs": [],
   "source": [
    "df_transactions['date'] = pd.to_datetime(df_transactions.date, format='%Y-%m-%d')"
   ]
  },
  {
   "cell_type": "code",
   "execution_count": 6,
   "metadata": {},
   "outputs": [],
   "source": [
    "df_transactions['month']= df_transactions['date'].dt.month"
   ]
  },
  {
   "cell_type": "code",
   "execution_count": 7,
   "metadata": {},
   "outputs": [
    {
     "data": {
      "text/html": [
       "<div>\n",
       "<style scoped>\n",
       "    .dataframe tbody tr th:only-of-type {\n",
       "        vertical-align: middle;\n",
       "    }\n",
       "\n",
       "    .dataframe tbody tr th {\n",
       "        vertical-align: top;\n",
       "    }\n",
       "\n",
       "    .dataframe thead th {\n",
       "        text-align: right;\n",
       "    }\n",
       "</style>\n",
       "<table border=\"1\" class=\"dataframe\">\n",
       "  <thead>\n",
       "    <tr style=\"text-align: right;\">\n",
       "      <th></th>\n",
       "      <th>id</th>\n",
       "      <th>date</th>\n",
       "      <th>days_after_open</th>\n",
       "      <th>day_of_week</th>\n",
       "      <th>hours_after_open</th>\n",
       "      <th>drink_id</th>\n",
       "      <th>name</th>\n",
       "      <th>unit_price</th>\n",
       "      <th>quantity</th>\n",
       "      <th>raining</th>\n",
       "      <th>study_area_id</th>\n",
       "      <th>study_area_name</th>\n",
       "      <th>dist_to_cafe</th>\n",
       "      <th>revenue</th>\n",
       "      <th>month</th>\n",
       "    </tr>\n",
       "  </thead>\n",
       "  <tbody>\n",
       "    <tr>\n",
       "      <th>0</th>\n",
       "      <td>0</td>\n",
       "      <td>2019-07-22</td>\n",
       "      <td>0</td>\n",
       "      <td>Mon</td>\n",
       "      <td>0</td>\n",
       "      <td>5</td>\n",
       "      <td>Flat White (L)</td>\n",
       "      <td>4.9</td>\n",
       "      <td>1</td>\n",
       "      <td>No</td>\n",
       "      <td>3</td>\n",
       "      <td>Abercrombie (H70)</td>\n",
       "      <td>700</td>\n",
       "      <td>4.9</td>\n",
       "      <td>7</td>\n",
       "    </tr>\n",
       "    <tr>\n",
       "      <th>1</th>\n",
       "      <td>1</td>\n",
       "      <td>2019-07-22</td>\n",
       "      <td>0</td>\n",
       "      <td>Mon</td>\n",
       "      <td>0</td>\n",
       "      <td>5</td>\n",
       "      <td>Flat White (L)</td>\n",
       "      <td>4.9</td>\n",
       "      <td>1</td>\n",
       "      <td>No</td>\n",
       "      <td>1</td>\n",
       "      <td>Law Library (F10)</td>\n",
       "      <td>84</td>\n",
       "      <td>4.9</td>\n",
       "      <td>7</td>\n",
       "    </tr>\n",
       "    <tr>\n",
       "      <th>2</th>\n",
       "      <td>2</td>\n",
       "      <td>2019-07-22</td>\n",
       "      <td>0</td>\n",
       "      <td>Mon</td>\n",
       "      <td>0</td>\n",
       "      <td>2</td>\n",
       "      <td>Macchiato</td>\n",
       "      <td>3.8</td>\n",
       "      <td>1</td>\n",
       "      <td>No</td>\n",
       "      <td>1</td>\n",
       "      <td>Law Library (F10)</td>\n",
       "      <td>84</td>\n",
       "      <td>3.8</td>\n",
       "      <td>7</td>\n",
       "    </tr>\n",
       "    <tr>\n",
       "      <th>3</th>\n",
       "      <td>3</td>\n",
       "      <td>2019-07-22</td>\n",
       "      <td>0</td>\n",
       "      <td>Mon</td>\n",
       "      <td>0</td>\n",
       "      <td>2</td>\n",
       "      <td>Macchiato</td>\n",
       "      <td>3.8</td>\n",
       "      <td>1</td>\n",
       "      <td>No</td>\n",
       "      <td>5</td>\n",
       "      <td>Carslaw (F07)</td>\n",
       "      <td>150</td>\n",
       "      <td>3.8</td>\n",
       "      <td>7</td>\n",
       "    </tr>\n",
       "    <tr>\n",
       "      <th>4</th>\n",
       "      <td>4</td>\n",
       "      <td>2019-07-22</td>\n",
       "      <td>0</td>\n",
       "      <td>Mon</td>\n",
       "      <td>0</td>\n",
       "      <td>5</td>\n",
       "      <td>Flat White (L)</td>\n",
       "      <td>4.9</td>\n",
       "      <td>1</td>\n",
       "      <td>No</td>\n",
       "      <td>5</td>\n",
       "      <td>Carslaw (F07)</td>\n",
       "      <td>150</td>\n",
       "      <td>4.9</td>\n",
       "      <td>7</td>\n",
       "    </tr>\n",
       "  </tbody>\n",
       "</table>\n",
       "</div>"
      ],
      "text/plain": [
       "   id       date  days_after_open day_of_week  hours_after_open  drink_id  \\\n",
       "0   0 2019-07-22                0         Mon                 0         5   \n",
       "1   1 2019-07-22                0         Mon                 0         5   \n",
       "2   2 2019-07-22                0         Mon                 0         2   \n",
       "3   3 2019-07-22                0         Mon                 0         2   \n",
       "4   4 2019-07-22                0         Mon                 0         5   \n",
       "\n",
       "             name  unit_price  quantity raining  study_area_id  \\\n",
       "0  Flat White (L)         4.9         1      No              3   \n",
       "1  Flat White (L)         4.9         1      No              1   \n",
       "2       Macchiato         3.8         1      No              1   \n",
       "3       Macchiato         3.8         1      No              5   \n",
       "4  Flat White (L)         4.9         1      No              5   \n",
       "\n",
       "     study_area_name  dist_to_cafe  revenue  month  \n",
       "0  Abercrombie (H70)           700      4.9      7  \n",
       "1  Law Library (F10)            84      4.9      7  \n",
       "2  Law Library (F10)            84      3.8      7  \n",
       "3      Carslaw (F07)           150      3.8      7  \n",
       "4      Carslaw (F07)           150      4.9      7  "
      ]
     },
     "execution_count": 7,
     "metadata": {},
     "output_type": "execute_result"
    }
   ],
   "source": [
    "df_transactions.head()"
   ]
  },
  {
   "cell_type": "code",
   "execution_count": 8,
   "metadata": {},
   "outputs": [],
   "source": [
    "Sum_rev_monthly=df_transactions.groupby([\"month\"]).sum()['revenue']"
   ]
  },
  {
   "cell_type": "code",
   "execution_count": 9,
   "metadata": {},
   "outputs": [
    {
     "name": "stdout",
     "output_type": "stream",
     "text": [
      "month\n",
      "7      2897.0\n",
      "8      8857.4\n",
      "9     11553.2\n",
      "10    25499.9\n",
      "11    50989.2\n",
      "12    44978.8\n",
      "Name: revenue, dtype: float64\n"
     ]
    }
   ],
   "source": [
    "print(Sum_rev_monthly)"
   ]
  },
  {
   "cell_type": "code",
   "execution_count": 10,
   "metadata": {},
   "outputs": [
    {
     "data": {
      "text/plain": [
       "Text(0.5, 1.0, 'Monthly revenue from July to December')"
      ]
     },
     "execution_count": 10,
     "metadata": {},
     "output_type": "execute_result"
    },
    {
     "data": {
      "image/png": "[encoded data removed]",
      "text/plain": [
       "<Figure size 432x288 with 1 Axes>"
      ]
     },
     "metadata": {
      "needs_background": "light"
     },
     "output_type": "display_data"
    }
   ],
   "source": [
    "month = ['July','August','September','October','November','December']\n",
    "\n",
    "plt.bar(month,Sum_rev_monthly)\n",
    "plt.xlabel(\"Month\")\n",
    "plt.ylabel(\"Sum of revenue\")\n",
    "plt.title(\"Monthly revenue from July to December\")"
   ]
  },
  {
   "cell_type": "markdown",
   "metadata": {},
   "source": [
    "July - semester break, less student on campus\n",
    "lower workload\n",
    "August- start of semester\n",
    "September \n",
    "October - mid-term+ assignment"
   ]
  },
  {
   "cell_type": "markdown",
   "metadata": {},
   "source": [
    "### Day"
   ]
  },
  {
   "cell_type": "code",
   "execution_count": 11,
   "metadata": {},
   "outputs": [
    {
     "data": {
      "text/html": [
       "<div>\n",
       "<style scoped>\n",
       "    .dataframe tbody tr th:only-of-type {\n",
       "        vertical-align: middle;\n",
       "    }\n",
       "\n",
       "    .dataframe tbody tr th {\n",
       "        vertical-align: top;\n",
       "    }\n",
       "\n",
       "    .dataframe thead th {\n",
       "        text-align: right;\n",
       "    }\n",
       "</style>\n",
       "<table border=\"1\" class=\"dataframe\">\n",
       "  <thead>\n",
       "    <tr style=\"text-align: right;\">\n",
       "      <th></th>\n",
       "      <th>revenue</th>\n",
       "    </tr>\n",
       "    <tr>\n",
       "      <th>day_of_week</th>\n",
       "      <th></th>\n",
       "    </tr>\n",
       "  </thead>\n",
       "  <tbody>\n",
       "    <tr>\n",
       "      <th>Fri</th>\n",
       "      <td>154.228030</td>\n",
       "    </tr>\n",
       "    <tr>\n",
       "      <th>Mon</th>\n",
       "      <td>145.654545</td>\n",
       "    </tr>\n",
       "    <tr>\n",
       "      <th>Sat</th>\n",
       "      <td>145.927273</td>\n",
       "    </tr>\n",
       "    <tr>\n",
       "      <th>Sun</th>\n",
       "      <td>149.926515</td>\n",
       "    </tr>\n",
       "    <tr>\n",
       "      <th>Thu</th>\n",
       "      <td>166.267424</td>\n",
       "    </tr>\n",
       "    <tr>\n",
       "      <th>Tue</th>\n",
       "      <td>157.486364</td>\n",
       "    </tr>\n",
       "    <tr>\n",
       "      <th>Wed</th>\n",
       "      <td>177.293939</td>\n",
       "    </tr>\n",
       "  </tbody>\n",
       "</table>\n",
       "</div>"
      ],
      "text/plain": [
       "                revenue\n",
       "day_of_week            \n",
       "Fri          154.228030\n",
       "Mon          145.654545\n",
       "Sat          145.927273\n",
       "Sun          149.926515\n",
       "Thu          166.267424\n",
       "Tue          157.486364\n",
       "Wed          177.293939"
      ]
     },
     "execution_count": 11,
     "metadata": {},
     "output_type": "execute_result"
    }
   ],
   "source": [
    "hours_open = 6\n",
    "\n",
    "total_rev_each_day = df_transactions.groupby([\"day_of_week\", 'date']).sum()['revenue']\n",
    "mean_daily_rev = total_rev_each_day.reset_index(level=0).groupby('day_of_week').mean()\n",
    "mean_daily_rev_ph = mean_daily_rev/hours_open\n",
    "\n",
    "mean_daily_rev_ph"
   ]
  },
  {
   "cell_type": "code",
   "execution_count": 12,
   "metadata": {},
   "outputs": [
    {
     "data": {
      "text/plain": [
       "Text(0.5, 1.0, 'Average daily revenue')"
      ]
     },
     "execution_count": 12,
     "metadata": {},
     "output_type": "execute_result"
    },
    {
     "data": {
      "image/png": "[encoded data removed]",
      "text/plain": [
       "<Figure size 432x288 with 1 Axes>"
      ]
     },
     "metadata": {
      "needs_background": "light"
     },
     "output_type": "display_data"
    }
   ],
   "source": [
    "days = [\"Mon\", \"Tue\", \"Wed\", \"Thu\", \"Fri\", \"Sat\", \"Sun\"]\n",
    "\n",
    "plt.bar(days, mean_daily_rev_ph.loc[days]['revenue'])\n",
    "plt.xlabel('Days')\n",
    "plt.ylabel('Revenue')\n",
    "plt.title('Average daily revenue')"
   ]
  },
  {
   "cell_type": "markdown",
   "metadata": {},
   "source": [
    "### Hourly"
   ]
  },
  {
   "cell_type": "code",
   "execution_count": 13,
   "metadata": {},
   "outputs": [],
   "source": [
    "Sum_rev_hourly=df_transactions.groupby([\"hours_after_open\"]).sum()['revenue']"
   ]
  },
  {
   "cell_type": "markdown",
   "metadata": {},
   "source": [
    "Not sure if can change limit"
   ]
  },
  {
   "cell_type": "code",
   "execution_count": 14,
   "metadata": {},
   "outputs": [
    {
     "data": {
      "text/plain": [
       "Text(0.5, 1.0, 'Hourly revenue from 7pm to 1am')"
      ]
     },
     "execution_count": 14,
     "metadata": {},
     "output_type": "execute_result"
    },
    {
     "data": {
      "image/png": "[encoded data removed]",
      "text/plain": [
       "<Figure size 432x288 with 1 Axes>"
      ]
     },
     "metadata": {
      "needs_background": "light"
     },
     "output_type": "display_data"
    }
   ],
   "source": [
    "Hour = ['7-8','8-9','9-10','10-11','11-12','12-1']\n",
    "\n",
    "plt.bar(Hour,Sum_rev_hourly)\n",
    "plt.ylim((20000,28000)) \n",
    "plt.xlabel(\"Hour\")\n",
    "plt.ylabel(\"Sum of revenue\")\n",
    "plt.title(\"Hourly revenue from 7pm to 1am\")"
   ]
  },
  {
   "cell_type": "code",
   "execution_count": null,
   "metadata": {},
   "outputs": [],
   "source": []
  },
  {
   "cell_type": "markdown",
   "metadata": {},
   "source": [
    "## Days Since Opened"
   ]
  },
  {
   "cell_type": "code",
   "execution_count": 15,
   "metadata": {},
   "outputs": [],
   "source": [
    "Transdays = df_transactions[\"days_after_open\"]"
   ]
  },
  {
   "cell_type": "code",
   "execution_count": 16,
   "metadata": {},
   "outputs": [
    {
     "data": {
      "image/png": "[encoded data removed]",
      "text/plain": [
       "<Figure size 720x432 with 1 Axes>"
      ]
     },
     "metadata": {
      "needs_background": "light"
     },
     "output_type": "display_data"
    }
   ],
   "source": [
    "Transdays.hist(grid=False,\n",
    "       figsize=(10, 6),\n",
    "       bins=30)\n",
    "\n",
    "plt.xlabel('Transaction number')\n",
    "plt.ylabel('Transaction value')\n",
    "plt.title('Transaction Hist')\n",
    "plt.show()"
   ]
  },
  {
   "cell_type": "code",
   "execution_count": 17,
   "metadata": {},
   "outputs": [
    {
     "data": {
      "text/plain": [
       "skew       -1.071551\n",
       "kurtosis    0.448996\n",
       "Name: days_after_open, dtype: float64"
      ]
     },
     "execution_count": 17,
     "metadata": {},
     "output_type": "execute_result"
    }
   ],
   "source": [
    "Transdays.agg(['skew', 'kurtosis']).transpose()"
   ]
  },
  {
   "cell_type": "code",
   "execution_count": 18,
   "metadata": {},
   "outputs": [],
   "source": [
    "x = df_transactions[\"days_after_open\"].to_numpy()\n",
    "y = df_transactions[\"revenue\"].to_numpy()"
   ]
  },
  {
   "cell_type": "code",
   "execution_count": 19,
   "metadata": {},
   "outputs": [
    {
     "data": {
      "text/plain": [
       "Index(['id', 'date', 'days_after_open', 'day_of_week', 'hours_after_open',\n",
       "       'drink_id', 'name', 'unit_price', 'quantity', 'raining',\n",
       "       'study_area_id', 'study_area_name', 'dist_to_cafe', 'revenue', 'month'],\n",
       "      dtype='object')"
      ]
     },
     "execution_count": 19,
     "metadata": {},
     "output_type": "execute_result"
    }
   ],
   "source": [
    "df_transactions.columns"
   ]
  },
  {
   "cell_type": "code",
   "execution_count": 20,
   "metadata": {},
   "outputs": [
    {
     "data": {
      "text/html": [
       "<div>\n",
       "<style scoped>\n",
       "    .dataframe tbody tr th:only-of-type {\n",
       "        vertical-align: middle;\n",
       "    }\n",
       "\n",
       "    .dataframe tbody tr th {\n",
       "        vertical-align: top;\n",
       "    }\n",
       "\n",
       "    .dataframe thead th {\n",
       "        text-align: right;\n",
       "    }\n",
       "</style>\n",
       "<table border=\"1\" class=\"dataframe\">\n",
       "  <thead>\n",
       "    <tr style=\"text-align: right;\">\n",
       "      <th></th>\n",
       "      <th>days_after_open</th>\n",
       "      <th>revenue</th>\n",
       "    </tr>\n",
       "  </thead>\n",
       "  <tbody>\n",
       "    <tr>\n",
       "      <th>0</th>\n",
       "      <td>0</td>\n",
       "      <td>4.9</td>\n",
       "    </tr>\n",
       "    <tr>\n",
       "      <th>1</th>\n",
       "      <td>0</td>\n",
       "      <td>4.9</td>\n",
       "    </tr>\n",
       "    <tr>\n",
       "      <th>2</th>\n",
       "      <td>0</td>\n",
       "      <td>3.8</td>\n",
       "    </tr>\n",
       "    <tr>\n",
       "      <th>3</th>\n",
       "      <td>0</td>\n",
       "      <td>3.8</td>\n",
       "    </tr>\n",
       "    <tr>\n",
       "      <th>4</th>\n",
       "      <td>0</td>\n",
       "      <td>4.9</td>\n",
       "    </tr>\n",
       "    <tr>\n",
       "      <th>...</th>\n",
       "      <td>...</td>\n",
       "      <td>...</td>\n",
       "    </tr>\n",
       "    <tr>\n",
       "      <th>27166</th>\n",
       "      <td>153</td>\n",
       "      <td>9.0</td>\n",
       "    </tr>\n",
       "    <tr>\n",
       "      <th>27167</th>\n",
       "      <td>153</td>\n",
       "      <td>4.0</td>\n",
       "    </tr>\n",
       "    <tr>\n",
       "      <th>27168</th>\n",
       "      <td>153</td>\n",
       "      <td>3.6</td>\n",
       "    </tr>\n",
       "    <tr>\n",
       "      <th>27169</th>\n",
       "      <td>153</td>\n",
       "      <td>4.9</td>\n",
       "    </tr>\n",
       "    <tr>\n",
       "      <th>27170</th>\n",
       "      <td>153</td>\n",
       "      <td>4.9</td>\n",
       "    </tr>\n",
       "  </tbody>\n",
       "</table>\n",
       "<p>27171 rows × 2 columns</p>\n",
       "</div>"
      ],
      "text/plain": [
       "       days_after_open  revenue\n",
       "0                    0      4.9\n",
       "1                    0      4.9\n",
       "2                    0      3.8\n",
       "3                    0      3.8\n",
       "4                    0      4.9\n",
       "...                ...      ...\n",
       "27166              153      9.0\n",
       "27167              153      4.0\n",
       "27168              153      3.6\n",
       "27169              153      4.9\n",
       "27170              153      4.9\n",
       "\n",
       "[27171 rows x 2 columns]"
      ]
     },
     "execution_count": 20,
     "metadata": {},
     "output_type": "execute_result"
    }
   ],
   "source": [
    "df_transactions[['days_after_open','revenue']]"
   ]
  },
  {
   "cell_type": "markdown",
   "metadata": {},
   "source": [
    "# Get X and Y"
   ]
  },
  {
   "cell_type": "code",
   "execution_count": 21,
   "metadata": {},
   "outputs": [],
   "source": [
    "# total_rev_each_hour = df_transactions.groupby([\"hours_after_open\", 'date']).sum()['revenue']\n",
    "# mean_hourly_rev = total_rev_each_hour.reset_index(level=0).groupby('hours_after_open').mean()\n",
    "\n",
    "# mean_hourly_rev"
   ]
  },
  {
   "cell_type": "code",
   "execution_count": 22,
   "metadata": {},
   "outputs": [],
   "source": [
    "x = df_transactions[['days_after_open']].values\n",
    "y = df_transactions[['revenue']].values"
   ]
  },
  {
   "cell_type": "markdown",
   "metadata": {},
   "source": [
    "# Split the data"
   ]
  },
  {
   "cell_type": "code",
   "execution_count": 23,
   "metadata": {},
   "outputs": [],
   "source": [
    "# from sklearn.model_selection import train_test_split\n",
    "# X_train, X_test, y_train, y_test = train_test_split(x, y, test_size = 0.3, random_state = 42)"
   ]
  },
  {
   "cell_type": "markdown",
   "metadata": {},
   "source": [
    "# Transform the data"
   ]
  },
  {
   "cell_type": "code",
   "execution_count": 24,
   "metadata": {},
   "outputs": [],
   "source": [
    "from sklearn.preprocessing import StandardScaler\n",
    "sc_X = StandardScaler()\n",
    "x = sc_X.fit_transform(x)"
   ]
  },
  {
   "cell_type": "code",
   "execution_count": 44,
   "metadata": {},
   "outputs": [],
   "source": [
    "corr = np.corrcoef(x[:,0],y[:,0])"
   ]
  },
  {
   "cell_type": "code",
   "execution_count": 47,
   "metadata": {},
   "outputs": [
    {
     "data": {
      "text/plain": [
       "array([[ 1.        , -0.00283532],\n",
       "       [-0.00283532,  1.        ]])"
      ]
     },
     "execution_count": 47,
     "metadata": {},
     "output_type": "execute_result"
    }
   ],
   "source": [
    "corr"
   ]
  },
  {
   "cell_type": "code",
   "execution_count": 42,
   "metadata": {},
   "outputs": [],
   "source": [
    "import seaborn as sns"
   ]
  },
  {
   "cell_type": "code",
   "execution_count": 46,
   "metadata": {},
   "outputs": [
    {
     "data": {
      "image/png": "[encoded data removed]",
      "text/plain": [
       "<Figure size 432x288 with 2 Axes>"
      ]
     },
     "metadata": {
      "needs_background": "light"
     },
     "output_type": "display_data"
    }
   ],
   "source": [
    "sns.heatmap(corr)\n",
    "plt.show()"
   ]
  },
  {
   "cell_type": "code",
   "execution_count": null,
   "metadata": {},
   "outputs": [],
   "source": []
  },
  {
   "cell_type": "markdown",
   "metadata": {},
   "source": [
    "# Build The Linear regression Model"
   ]
  },
  {
   "cell_type": "code",
   "execution_count": null,
   "metadata": {},
   "outputs": [],
   "source": [
    "linear_reg = LinearRegression()\n",
    "linear_reg.fit(X_train_t, y_train)\n",
    "# beta0 = log_reg.intercept_[0]\n",
    "# beta1 = log_reg.coef_[0][0]"
   ]
  },
  {
   "cell_type": "code",
   "execution_count": null,
   "metadata": {},
   "outputs": [],
   "source": [
    "pred = linear_reg.predict(X_test_t)"
   ]
  },
  {
   "cell_type": "code",
   "execution_count": null,
   "metadata": {},
   "outputs": [],
   "source": [
    "pred"
   ]
  },
  {
   "cell_type": "code",
   "execution_count": null,
   "metadata": {},
   "outputs": [],
   "source": [
    "X_test"
   ]
  },
  {
   "cell_type": "code",
   "execution_count": null,
   "metadata": {},
   "outputs": [],
   "source": [
    "plt.plot(x[:50],y[:50])"
   ]
  },
  {
   "cell_type": "code",
   "execution_count": null,
   "metadata": {},
   "outputs": [],
   "source": [
    "x"
   ]
  },
  {
   "cell_type": "code",
   "execution_count": 50,
   "metadata": {},
   "outputs": [
    {
     "data": {
      "text/html": [
       "<div>\n",
       "<style scoped>\n",
       "    .dataframe tbody tr th:only-of-type {\n",
       "        vertical-align: middle;\n",
       "    }\n",
       "\n",
       "    .dataframe tbody tr th {\n",
       "        vertical-align: top;\n",
       "    }\n",
       "\n",
       "    .dataframe thead th {\n",
       "        text-align: right;\n",
       "    }\n",
       "</style>\n",
       "<table border=\"1\" class=\"dataframe\">\n",
       "  <thead>\n",
       "    <tr style=\"text-align: right;\">\n",
       "      <th></th>\n",
       "      <th>id</th>\n",
       "      <th>date</th>\n",
       "      <th>days_after_open</th>\n",
       "      <th>day_of_week</th>\n",
       "      <th>hours_after_open</th>\n",
       "      <th>drink_id</th>\n",
       "      <th>name</th>\n",
       "      <th>unit_price</th>\n",
       "      <th>quantity</th>\n",
       "      <th>raining</th>\n",
       "      <th>study_area_id</th>\n",
       "      <th>study_area_name</th>\n",
       "      <th>dist_to_cafe</th>\n",
       "      <th>revenue</th>\n",
       "      <th>month</th>\n",
       "    </tr>\n",
       "  </thead>\n",
       "  <tbody>\n",
       "    <tr>\n",
       "      <th>0</th>\n",
       "      <td>0</td>\n",
       "      <td>2019-07-22</td>\n",
       "      <td>0</td>\n",
       "      <td>Mon</td>\n",
       "      <td>0</td>\n",
       "      <td>5</td>\n",
       "      <td>Flat White (L)</td>\n",
       "      <td>4.9</td>\n",
       "      <td>1</td>\n",
       "      <td>No</td>\n",
       "      <td>3</td>\n",
       "      <td>Abercrombie (H70)</td>\n",
       "      <td>700</td>\n",
       "      <td>4.9</td>\n",
       "      <td>7</td>\n",
       "    </tr>\n",
       "    <tr>\n",
       "      <th>1</th>\n",
       "      <td>1</td>\n",
       "      <td>2019-07-22</td>\n",
       "      <td>0</td>\n",
       "      <td>Mon</td>\n",
       "      <td>0</td>\n",
       "      <td>5</td>\n",
       "      <td>Flat White (L)</td>\n",
       "      <td>4.9</td>\n",
       "      <td>1</td>\n",
       "      <td>No</td>\n",
       "      <td>1</td>\n",
       "      <td>Law Library (F10)</td>\n",
       "      <td>84</td>\n",
       "      <td>4.9</td>\n",
       "      <td>7</td>\n",
       "    </tr>\n",
       "    <tr>\n",
       "      <th>2</th>\n",
       "      <td>2</td>\n",
       "      <td>2019-07-22</td>\n",
       "      <td>0</td>\n",
       "      <td>Mon</td>\n",
       "      <td>0</td>\n",
       "      <td>2</td>\n",
       "      <td>Macchiato</td>\n",
       "      <td>3.8</td>\n",
       "      <td>1</td>\n",
       "      <td>No</td>\n",
       "      <td>1</td>\n",
       "      <td>Law Library (F10)</td>\n",
       "      <td>84</td>\n",
       "      <td>3.8</td>\n",
       "      <td>7</td>\n",
       "    </tr>\n",
       "    <tr>\n",
       "      <th>3</th>\n",
       "      <td>3</td>\n",
       "      <td>2019-07-22</td>\n",
       "      <td>0</td>\n",
       "      <td>Mon</td>\n",
       "      <td>0</td>\n",
       "      <td>2</td>\n",
       "      <td>Macchiato</td>\n",
       "      <td>3.8</td>\n",
       "      <td>1</td>\n",
       "      <td>No</td>\n",
       "      <td>5</td>\n",
       "      <td>Carslaw (F07)</td>\n",
       "      <td>150</td>\n",
       "      <td>3.8</td>\n",
       "      <td>7</td>\n",
       "    </tr>\n",
       "    <tr>\n",
       "      <th>4</th>\n",
       "      <td>4</td>\n",
       "      <td>2019-07-22</td>\n",
       "      <td>0</td>\n",
       "      <td>Mon</td>\n",
       "      <td>0</td>\n",
       "      <td>5</td>\n",
       "      <td>Flat White (L)</td>\n",
       "      <td>4.9</td>\n",
       "      <td>1</td>\n",
       "      <td>No</td>\n",
       "      <td>5</td>\n",
       "      <td>Carslaw (F07)</td>\n",
       "      <td>150</td>\n",
       "      <td>4.9</td>\n",
       "      <td>7</td>\n",
       "    </tr>\n",
       "    <tr>\n",
       "      <th>...</th>\n",
       "      <td>...</td>\n",
       "      <td>...</td>\n",
       "      <td>...</td>\n",
       "      <td>...</td>\n",
       "      <td>...</td>\n",
       "      <td>...</td>\n",
       "      <td>...</td>\n",
       "      <td>...</td>\n",
       "      <td>...</td>\n",
       "      <td>...</td>\n",
       "      <td>...</td>\n",
       "      <td>...</td>\n",
       "      <td>...</td>\n",
       "      <td>...</td>\n",
       "      <td>...</td>\n",
       "    </tr>\n",
       "    <tr>\n",
       "      <th>27166</th>\n",
       "      <td>27709</td>\n",
       "      <td>2019-12-22</td>\n",
       "      <td>153</td>\n",
       "      <td>Sun</td>\n",
       "      <td>5</td>\n",
       "      <td>14</td>\n",
       "      <td>Mocha (S)</td>\n",
       "      <td>4.5</td>\n",
       "      <td>2</td>\n",
       "      <td>No</td>\n",
       "      <td>3</td>\n",
       "      <td>Abercrombie (H70)</td>\n",
       "      <td>700</td>\n",
       "      <td>9.0</td>\n",
       "      <td>12</td>\n",
       "    </tr>\n",
       "    <tr>\n",
       "      <th>27167</th>\n",
       "      <td>27710</td>\n",
       "      <td>2019-12-22</td>\n",
       "      <td>153</td>\n",
       "      <td>Sun</td>\n",
       "      <td>5</td>\n",
       "      <td>6</td>\n",
       "      <td>Flat White (S)</td>\n",
       "      <td>4.0</td>\n",
       "      <td>1</td>\n",
       "      <td>Yes</td>\n",
       "      <td>0</td>\n",
       "      <td>Fisher Library (F03)</td>\n",
       "      <td>70</td>\n",
       "      <td>4.0</td>\n",
       "      <td>12</td>\n",
       "    </tr>\n",
       "    <tr>\n",
       "      <th>27168</th>\n",
       "      <td>27711</td>\n",
       "      <td>2019-12-22</td>\n",
       "      <td>153</td>\n",
       "      <td>Sun</td>\n",
       "      <td>5</td>\n",
       "      <td>12</td>\n",
       "      <td>Chai Latte (S)</td>\n",
       "      <td>3.6</td>\n",
       "      <td>1</td>\n",
       "      <td>No</td>\n",
       "      <td>1</td>\n",
       "      <td>Law Library (F10)</td>\n",
       "      <td>84</td>\n",
       "      <td>3.6</td>\n",
       "      <td>12</td>\n",
       "    </tr>\n",
       "    <tr>\n",
       "      <th>27169</th>\n",
       "      <td>27712</td>\n",
       "      <td>2019-12-22</td>\n",
       "      <td>153</td>\n",
       "      <td>Sun</td>\n",
       "      <td>5</td>\n",
       "      <td>9</td>\n",
       "      <td>Cappuccino (L)</td>\n",
       "      <td>4.9</td>\n",
       "      <td>1</td>\n",
       "      <td>Yes</td>\n",
       "      <td>1</td>\n",
       "      <td>Law Library (F10)</td>\n",
       "      <td>84</td>\n",
       "      <td>4.9</td>\n",
       "      <td>12</td>\n",
       "    </tr>\n",
       "    <tr>\n",
       "      <th>27170</th>\n",
       "      <td>27713</td>\n",
       "      <td>2019-12-22</td>\n",
       "      <td>153</td>\n",
       "      <td>Sun</td>\n",
       "      <td>5</td>\n",
       "      <td>9</td>\n",
       "      <td>Cappuccino (L)</td>\n",
       "      <td>4.9</td>\n",
       "      <td>1</td>\n",
       "      <td>Yes</td>\n",
       "      <td>0</td>\n",
       "      <td>Fisher Library (F03)</td>\n",
       "      <td>70</td>\n",
       "      <td>4.9</td>\n",
       "      <td>12</td>\n",
       "    </tr>\n",
       "  </tbody>\n",
       "</table>\n",
       "<p>27171 rows × 15 columns</p>\n",
       "</div>"
      ],
      "text/plain": [
       "          id       date  days_after_open day_of_week  hours_after_open  \\\n",
       "0          0 2019-07-22                0         Mon                 0   \n",
       "1          1 2019-07-22                0         Mon                 0   \n",
       "2          2 2019-07-22                0         Mon                 0   \n",
       "3          3 2019-07-22                0         Mon                 0   \n",
       "4          4 2019-07-22                0         Mon                 0   \n",
       "...      ...        ...              ...         ...               ...   \n",
       "27166  27709 2019-12-22              153         Sun                 5   \n",
       "27167  27710 2019-12-22              153         Sun                 5   \n",
       "27168  27711 2019-12-22              153         Sun                 5   \n",
       "27169  27712 2019-12-22              153         Sun                 5   \n",
       "27170  27713 2019-12-22              153         Sun                 5   \n",
       "\n",
       "       drink_id            name  unit_price  quantity raining  study_area_id  \\\n",
       "0             5  Flat White (L)         4.9         1      No              3   \n",
       "1             5  Flat White (L)         4.9         1      No              1   \n",
       "2             2       Macchiato         3.8         1      No              1   \n",
       "3             2       Macchiato         3.8         1      No              5   \n",
       "4             5  Flat White (L)         4.9         1      No              5   \n",
       "...         ...             ...         ...       ...     ...            ...   \n",
       "27166        14       Mocha (S)         4.5         2      No              3   \n",
       "27167         6  Flat White (S)         4.0         1     Yes              0   \n",
       "27168        12  Chai Latte (S)         3.6         1      No              1   \n",
       "27169         9  Cappuccino (L)         4.9         1     Yes              1   \n",
       "27170         9  Cappuccino (L)         4.9         1     Yes              0   \n",
       "\n",
       "            study_area_name  dist_to_cafe  revenue  month  \n",
       "0         Abercrombie (H70)           700      4.9      7  \n",
       "1         Law Library (F10)            84      4.9      7  \n",
       "2         Law Library (F10)            84      3.8      7  \n",
       "3             Carslaw (F07)           150      3.8      7  \n",
       "4             Carslaw (F07)           150      4.9      7  \n",
       "...                     ...           ...      ...    ...  \n",
       "27166     Abercrombie (H70)           700      9.0     12  \n",
       "27167  Fisher Library (F03)            70      4.0     12  \n",
       "27168     Law Library (F10)            84      3.6     12  \n",
       "27169     Law Library (F10)            84      4.9     12  \n",
       "27170  Fisher Library (F03)            70      4.9     12  \n",
       "\n",
       "[27171 rows x 15 columns]"
      ]
     },
     "execution_count": 50,
     "metadata": {},
     "output_type": "execute_result"
    }
   ],
   "source": [
    "df_transactions"
   ]
  },
  {
   "cell_type": "code",
   "execution_count": null,
   "metadata": {},
   "outputs": [],
   "source": []
  },
  {
   "cell_type": "code",
   "execution_count": 54,
   "metadata": {},
   "outputs": [
    {
     "data": {
      "text/html": [
       "<div>\n",
       "<style scoped>\n",
       "    .dataframe tbody tr th:only-of-type {\n",
       "        vertical-align: middle;\n",
       "    }\n",
       "\n",
       "    .dataframe tbody tr th {\n",
       "        vertical-align: top;\n",
       "    }\n",
       "\n",
       "    .dataframe thead th {\n",
       "        text-align: right;\n",
       "    }\n",
       "</style>\n",
       "<table border=\"1\" class=\"dataframe\">\n",
       "  <thead>\n",
       "    <tr style=\"text-align: right;\">\n",
       "      <th></th>\n",
       "      <th>revenue</th>\n",
       "      <th>quantity</th>\n",
       "    </tr>\n",
       "    <tr>\n",
       "      <th>study_area_name</th>\n",
       "      <th></th>\n",
       "      <th></th>\n",
       "    </tr>\n",
       "  </thead>\n",
       "  <tbody>\n",
       "    <tr>\n",
       "      <th>Abercrombie (H70)</th>\n",
       "      <td>72.194079</td>\n",
       "      <td>17.144737</td>\n",
       "    </tr>\n",
       "    <tr>\n",
       "      <th>Brennan MacCallum (A18)</th>\n",
       "      <td>68.655195</td>\n",
       "      <td>16.357143</td>\n",
       "    </tr>\n",
       "    <tr>\n",
       "      <th>Carslaw (F07)</th>\n",
       "      <td>164.060390</td>\n",
       "      <td>38.870130</td>\n",
       "    </tr>\n",
       "    <tr>\n",
       "      <th>Fisher Library (F03)</th>\n",
       "      <td>261.519481</td>\n",
       "      <td>62.207792</td>\n",
       "    </tr>\n",
       "    <tr>\n",
       "      <th>Law Library (F10)</th>\n",
       "      <td>237.569481</td>\n",
       "      <td>56.551948</td>\n",
       "    </tr>\n",
       "    <tr>\n",
       "      <th>Peter Nicol Russell (PNR)</th>\n",
       "      <td>71.294118</td>\n",
       "      <td>16.980392</td>\n",
       "    </tr>\n",
       "    <tr>\n",
       "      <th>The Quarter (A16)</th>\n",
       "      <td>66.208442</td>\n",
       "      <td>15.831169</td>\n",
       "    </tr>\n",
       "  </tbody>\n",
       "</table>\n",
       "</div>"
      ],
      "text/plain": [
       "                              revenue   quantity\n",
       "study_area_name                                 \n",
       "Abercrombie (H70)           72.194079  17.144737\n",
       "Brennan MacCallum (A18)     68.655195  16.357143\n",
       "Carslaw (F07)              164.060390  38.870130\n",
       "Fisher Library (F03)       261.519481  62.207792\n",
       "Law Library (F10)          237.569481  56.551948\n",
       "Peter Nicol Russell (PNR)   71.294118  16.980392\n",
       "The Quarter (A16)           66.208442  15.831169"
      ]
     },
     "execution_count": 54,
     "metadata": {},
     "output_type": "execute_result"
    }
   ],
   "source": [
    "daily_location_rev = df_transactions.groupby([\"study_area_name\", 'date']).sum()[['revenue','quantity']]\n",
    "mean_daily_location_rev = daily_location_rev.reset_index(level=0).groupby('study_area_name').mean()\n",
    "\n",
    "mean_daily_location_rev"
   ]
  },
  {
   "cell_type": "code",
   "execution_count": 59,
   "metadata": {},
   "outputs": [
    {
     "data": {
      "image/png": "[encoded data removed]",
      "text/plain": [
       "<Figure size 432x288 with 1 Axes>"
      ]
     },
     "metadata": {
      "needs_background": "light"
     },
     "output_type": "display_data"
    }
   ],
   "source": [
    "plt.barh(mean_daily_location_rev.index, mean_daily_location_rev['revenue'],label='revenue')\n",
    "plt.barh(mean_daily_location_rev.index, mean_daily_location_rev['quantity'],label='quantity')\n",
    "plt.legend()\n",
    "plt.show()"
   ]
  },
  {
   "cell_type": "code",
   "execution_count": null,
   "metadata": {},
   "outputs": [],
   "source": []
  }
 ],
 "metadata": {
  "kernelspec": {
   "display_name": "Python 3 (ipykernel)",
   "language": "python",
   "name": "python3"
  },
  "language_info": {
   "codemirror_mode": {
    "name": "ipython",
    "version": 3
   },
   "file_extension": ".py",
   "mimetype": "text/x-python",
   "name": "python",
   "nbconvert_exporter": "python",
   "pygments_lexer": "ipython3",
   "version": "3.8.5"
  }
 },
 "nbformat": 4,
 "nbformat_minor": 2
}
