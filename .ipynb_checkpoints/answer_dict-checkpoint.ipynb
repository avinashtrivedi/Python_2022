{
 "cells": [
  {
   "cell_type": "code",
   "execution_count": 14,
   "id": "7889a0a5",
   "metadata": {},
   "outputs": [],
   "source": [
    "import json"
   ]
  },
  {
   "cell_type": "code",
   "execution_count": 15,
   "id": "6c078a5a",
   "metadata": {},
   "outputs": [],
   "source": [
    "with open(r\"D:\\OneDrive - NITT\\Custom_Download\\data_data_response.json\",'r') as fp:\n",
    "    data = json.load(fp)"
   ]
  },
  {
   "cell_type": "code",
   "execution_count": 16,
   "id": "1b3ae215",
   "metadata": {},
   "outputs": [],
   "source": [
    "for d in data:\n",
    "    try:\n",
    "        d['answers']['agent_star_rating']['selected_options'] = list(d['answers']['agent_star_rating']['selected_options'].values())\n",
    "        d['answers']['areas_of_improvement']['selected_options'] = list(d['answers']['areas_of_improvement']['selected_options'].values())\n",
    "    except:\n",
    "        pass"
   ]
  },
  {
   "cell_type": "code",
   "execution_count": 17,
   "id": "a6872dc7",
   "metadata": {},
   "outputs": [],
   "source": [
    "# import json\n",
    "\n",
    "# with open('data.json', 'w') as fp:\n",
    "#     json.dump(data, fp)"
   ]
  },
  {
   "cell_type": "code",
   "execution_count": 23,
   "id": "7cb1d4ec",
   "metadata": {},
   "outputs": [],
   "source": [
    "for d in data:\n",
    "    with open('data.json', 'a',encoding='utf8') as fp:\n",
    "        fp.write(str(d))\n",
    "        fp.write('\\n')"
   ]
  },
  {
   "cell_type": "code",
   "execution_count": null,
   "id": "af2ecbda",
   "metadata": {},
   "outputs": [],
   "source": []
  }
 ],
 "metadata": {
  "kernelspec": {
   "display_name": "Python 3 (ipykernel)",
   "language": "python",
   "name": "python3"
  },
  "language_info": {
   "codemirror_mode": {
    "name": "ipython",
    "version": 3
   },
   "file_extension": ".py",
   "mimetype": "text/x-python",
   "name": "python",
   "nbconvert_exporter": "python",
   "pygments_lexer": "ipython3",
   "version": "3.9.12"
  }
 },
 "nbformat": 4,
 "nbformat_minor": 5
}
