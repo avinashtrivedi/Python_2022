{
 "cells": [
  {
   "cell_type": "code",
   "execution_count": 26,
   "metadata": {},
   "outputs": [],
   "source": [
    "import pandas as pd\n",
    "import matplotlib.pyplot as plt\n",
    "from sklearn import metrics\n",
    "from sklearn.linear_model import LinearRegression\n",
    "from scipy import stats\n",
    "import seaborn as sns"
   ]
  },
  {
   "cell_type": "code",
   "execution_count": 7,
   "metadata": {},
   "outputs": [
    {
     "data": {
      "text/html": [
       "<div>\n",
       "<style scoped>\n",
       "    .dataframe tbody tr th:only-of-type {\n",
       "        vertical-align: middle;\n",
       "    }\n",
       "\n",
       "    .dataframe tbody tr th {\n",
       "        vertical-align: top;\n",
       "    }\n",
       "\n",
       "    .dataframe thead th {\n",
       "        text-align: right;\n",
       "    }\n",
       "</style>\n",
       "<table border=\"1\" class=\"dataframe\">\n",
       "  <thead>\n",
       "    <tr style=\"text-align: right;\">\n",
       "      <th></th>\n",
       "      <th>Unnamed: 0</th>\n",
       "      <th>score</th>\n",
       "      <th>GT</th>\n",
       "    </tr>\n",
       "  </thead>\n",
       "  <tbody>\n",
       "    <tr>\n",
       "      <th>0</th>\n",
       "      <td>0</td>\n",
       "      <td>2.123745</td>\n",
       "      <td>True</td>\n",
       "    </tr>\n",
       "    <tr>\n",
       "      <th>1</th>\n",
       "      <td>1</td>\n",
       "      <td>1.304473</td>\n",
       "      <td>True</td>\n",
       "    </tr>\n",
       "    <tr>\n",
       "      <th>2</th>\n",
       "      <td>2</td>\n",
       "      <td>2.451282</td>\n",
       "      <td>True</td>\n",
       "    </tr>\n",
       "    <tr>\n",
       "      <th>3</th>\n",
       "      <td>3</td>\n",
       "      <td>1.791950</td>\n",
       "      <td>True</td>\n",
       "    </tr>\n",
       "    <tr>\n",
       "      <th>4</th>\n",
       "      <td>4</td>\n",
       "      <td>1.667776</td>\n",
       "      <td>True</td>\n",
       "    </tr>\n",
       "  </tbody>\n",
       "</table>\n",
       "</div>"
      ],
      "text/plain": [
       "   Unnamed: 0     score    GT\n",
       "0           0  2.123745  True\n",
       "1           1  1.304473  True\n",
       "2           2  2.451282  True\n",
       "3           3  1.791950  True\n",
       "4           4  1.667776  True"
      ]
     },
     "execution_count": 7,
     "metadata": {},
     "output_type": "execute_result"
    }
   ],
   "source": [
    "tapData = pd.read_csv(\"tapData.csv\")\n",
    "tapData.head()"
   ]
  },
  {
   "cell_type": "code",
   "execution_count": 13,
   "metadata": {},
   "outputs": [],
   "source": [
    "y_hat = tapData['score']\n",
    "y_true = tapData['GT']\n",
    "fpr, tpr, _ = metrics.roc_curve(y_true,  y_hat)\n",
    "auc = metrics.roc_auc_score(y_true,  y_hat)"
   ]
  },
  {
   "cell_type": "code",
   "execution_count": 15,
   "metadata": {},
   "outputs": [
    {
     "data": {
      "image/png": "[encoded data removed]",
      "text/plain": [
       "<Figure size 432x288 with 1 Axes>"
      ]
     },
     "metadata": {
      "needs_background": "light"
     },
     "output_type": "display_data"
    }
   ],
   "source": [
    "plt.plot(fpr,tpr,label=\"AUC=\"+str(auc))\n",
    "plt.ylabel('True Positive Rate')\n",
    "plt.xlabel('False Positive Rate')\n",
    "plt.legend(loc=4)\n",
    "plt.show()"
   ]
  },
  {
   "cell_type": "code",
   "execution_count": 24,
   "metadata": {},
   "outputs": [
    {
     "data": {
      "text/html": [
       "<div>\n",
       "<style scoped>\n",
       "    .dataframe tbody tr th:only-of-type {\n",
       "        vertical-align: middle;\n",
       "    }\n",
       "\n",
       "    .dataframe tbody tr th {\n",
       "        vertical-align: top;\n",
       "    }\n",
       "\n",
       "    .dataframe thead th {\n",
       "        text-align: right;\n",
       "    }\n",
       "</style>\n",
       "<table border=\"1\" class=\"dataframe\">\n",
       "  <thead>\n",
       "    <tr style=\"text-align: right;\">\n",
       "      <th></th>\n",
       "      <th>score</th>\n",
       "      <th>gt_num</th>\n",
       "    </tr>\n",
       "  </thead>\n",
       "  <tbody>\n",
       "    <tr>\n",
       "      <th>0</th>\n",
       "      <td>2.257055</td>\n",
       "      <td>0.0</td>\n",
       "    </tr>\n",
       "    <tr>\n",
       "      <th>1</th>\n",
       "      <td>2.206630</td>\n",
       "      <td>0.0</td>\n",
       "    </tr>\n",
       "    <tr>\n",
       "      <th>2</th>\n",
       "      <td>1.232116</td>\n",
       "      <td>8.5</td>\n",
       "    </tr>\n",
       "    <tr>\n",
       "      <th>3</th>\n",
       "      <td>1.325555</td>\n",
       "      <td>8.5</td>\n",
       "    </tr>\n",
       "    <tr>\n",
       "      <th>4</th>\n",
       "      <td>1.756584</td>\n",
       "      <td>2.0</td>\n",
       "    </tr>\n",
       "  </tbody>\n",
       "</table>\n",
       "</div>"
      ],
      "text/plain": [
       "      score  gt_num\n",
       "0  2.257055     0.0\n",
       "1  2.206630     0.0\n",
       "2  1.232116     8.5\n",
       "3  1.325555     8.5\n",
       "4  1.756584     2.0"
      ]
     },
     "execution_count": 24,
     "metadata": {},
     "output_type": "execute_result"
    }
   ],
   "source": [
    "data_reg =pd.read_csv(\"data_regr.csv\")\n",
    "data_reg =data_reg.iloc[:,1:]\n",
    "data_reg.head()"
   ]
  },
  {
   "cell_type": "code",
   "execution_count": 25,
   "metadata": {},
   "outputs": [
    {
     "data": {
      "text/html": [
       "<style type=\"text/css\">\n",
       "#T_755af_row0_col0, #T_755af_row1_col1 {\n",
       "  background-color: #08306b;\n",
       "  color: #f1f1f1;\n",
       "}\n",
       "#T_755af_row0_col1, #T_755af_row1_col0 {\n",
       "  background-color: #f7fbff;\n",
       "  color: #000000;\n",
       "}\n",
       "</style>\n",
       "<table id=\"T_755af_\">\n",
       "  <thead>\n",
       "    <tr>\n",
       "      <th class=\"blank level0\" >&nbsp;</th>\n",
       "      <th class=\"col_heading level0 col0\" >score</th>\n",
       "      <th class=\"col_heading level0 col1\" >gt_num</th>\n",
       "    </tr>\n",
       "  </thead>\n",
       "  <tbody>\n",
       "    <tr>\n",
       "      <th id=\"T_755af_level0_row0\" class=\"row_heading level0 row0\" >score</th>\n",
       "      <td id=\"T_755af_row0_col0\" class=\"data row0 col0\" >1.000000</td>\n",
       "      <td id=\"T_755af_row0_col1\" class=\"data row0 col1\" >-0.673166</td>\n",
       "    </tr>\n",
       "    <tr>\n",
       "      <th id=\"T_755af_level0_row1\" class=\"row_heading level0 row1\" >gt_num</th>\n",
       "      <td id=\"T_755af_row1_col0\" class=\"data row1 col0\" >-0.673166</td>\n",
       "      <td id=\"T_755af_row1_col1\" class=\"data row1 col1\" >1.000000</td>\n",
       "    </tr>\n",
       "  </tbody>\n",
       "</table>\n"
      ],
      "text/plain": [
       "<pandas.io.formats.style.Styler at 0x7fd305cf4400>"
      ]
     },
     "execution_count": 25,
     "metadata": {},
     "output_type": "execute_result"
    }
   ],
   "source": [
    "data_reg.corr().style.background_gradient(cmap=\"Blues\")"
   ]
  },
  {
   "cell_type": "code",
   "execution_count": 28,
   "metadata": {},
   "outputs": [
    {
     "data": {
      "text/plain": [
       "<AxesSubplot:xlabel='gt_num', ylabel='score'>"
      ]
     },
     "execution_count": 28,
     "metadata": {},
     "output_type": "execute_result"
    },
    {
     "data": {
      "image/png": "[encoded data removed]",
      "text/plain": [
       "<Figure size 432x288 with 1 Axes>"
      ]
     },
     "metadata": {
      "needs_background": "light"
     },
     "output_type": "display_data"
    }
   ],
   "source": [
    "sns.scatterplot(x=\"gt_num\", y=\"score\", data=data_reg)"
   ]
  },
  {
   "cell_type": "code",
   "execution_count": 29,
   "metadata": {},
   "outputs": [
    {
     "data": {
      "text/html": [
       "<div>\n",
       "<style scoped>\n",
       "    .dataframe tbody tr th:only-of-type {\n",
       "        vertical-align: middle;\n",
       "    }\n",
       "\n",
       "    .dataframe tbody tr th {\n",
       "        vertical-align: top;\n",
       "    }\n",
       "\n",
       "    .dataframe thead th {\n",
       "        text-align: right;\n",
       "    }\n",
       "</style>\n",
       "<table border=\"1\" class=\"dataframe\">\n",
       "  <thead>\n",
       "    <tr style=\"text-align: right;\">\n",
       "      <th></th>\n",
       "      <th>Unnamed: 0</th>\n",
       "      <th>f0</th>\n",
       "      <th>f1</th>\n",
       "      <th>f2</th>\n",
       "      <th>f3</th>\n",
       "      <th>f4</th>\n",
       "      <th>f5</th>\n",
       "      <th>f6</th>\n",
       "      <th>f7</th>\n",
       "      <th>f8</th>\n",
       "      <th>...</th>\n",
       "      <th>f391</th>\n",
       "      <th>f392</th>\n",
       "      <th>f393</th>\n",
       "      <th>f394</th>\n",
       "      <th>f395</th>\n",
       "      <th>f396</th>\n",
       "      <th>f397</th>\n",
       "      <th>f398</th>\n",
       "      <th>f399</th>\n",
       "      <th>gt</th>\n",
       "    </tr>\n",
       "  </thead>\n",
       "  <tbody>\n",
       "    <tr>\n",
       "      <th>0</th>\n",
       "      <td>0</td>\n",
       "      <td>0.671170</td>\n",
       "      <td>0.452819</td>\n",
       "      <td>0.919803</td>\n",
       "      <td>0.908830</td>\n",
       "      <td>0.198022</td>\n",
       "      <td>0.678047</td>\n",
       "      <td>0.733592</td>\n",
       "      <td>0.978042</td>\n",
       "      <td>0.994526</td>\n",
       "      <td>...</td>\n",
       "      <td>0.441474</td>\n",
       "      <td>0.347478</td>\n",
       "      <td>0.733305</td>\n",
       "      <td>0.730547</td>\n",
       "      <td>0.303578</td>\n",
       "      <td>0.922968</td>\n",
       "      <td>0.677998</td>\n",
       "      <td>0.715835</td>\n",
       "      <td>0.251797</td>\n",
       "      <td>False</td>\n",
       "    </tr>\n",
       "    <tr>\n",
       "      <th>1</th>\n",
       "      <td>1</td>\n",
       "      <td>0.410096</td>\n",
       "      <td>0.453149</td>\n",
       "      <td>0.439432</td>\n",
       "      <td>0.799696</td>\n",
       "      <td>0.394161</td>\n",
       "      <td>0.298140</td>\n",
       "      <td>0.039998</td>\n",
       "      <td>0.291934</td>\n",
       "      <td>0.896195</td>\n",
       "      <td>...</td>\n",
       "      <td>0.352476</td>\n",
       "      <td>0.802844</td>\n",
       "      <td>0.800363</td>\n",
       "      <td>0.323041</td>\n",
       "      <td>0.334438</td>\n",
       "      <td>0.431929</td>\n",
       "      <td>0.128808</td>\n",
       "      <td>0.423228</td>\n",
       "      <td>0.399064</td>\n",
       "      <td>False</td>\n",
       "    </tr>\n",
       "    <tr>\n",
       "      <th>2</th>\n",
       "      <td>2</td>\n",
       "      <td>0.025484</td>\n",
       "      <td>0.109539</td>\n",
       "      <td>0.510222</td>\n",
       "      <td>0.560464</td>\n",
       "      <td>0.501316</td>\n",
       "      <td>0.692217</td>\n",
       "      <td>0.575355</td>\n",
       "      <td>0.325541</td>\n",
       "      <td>0.802631</td>\n",
       "      <td>...</td>\n",
       "      <td>0.697723</td>\n",
       "      <td>0.264586</td>\n",
       "      <td>0.858518</td>\n",
       "      <td>0.601840</td>\n",
       "      <td>0.278579</td>\n",
       "      <td>0.175399</td>\n",
       "      <td>0.526481</td>\n",
       "      <td>0.497829</td>\n",
       "      <td>0.581074</td>\n",
       "      <td>False</td>\n",
       "    </tr>\n",
       "    <tr>\n",
       "      <th>3</th>\n",
       "      <td>3</td>\n",
       "      <td>0.813368</td>\n",
       "      <td>0.093069</td>\n",
       "      <td>0.385199</td>\n",
       "      <td>0.888811</td>\n",
       "      <td>0.207472</td>\n",
       "      <td>0.608647</td>\n",
       "      <td>0.601538</td>\n",
       "      <td>0.459886</td>\n",
       "      <td>0.139492</td>\n",
       "      <td>...</td>\n",
       "      <td>0.955690</td>\n",
       "      <td>0.403357</td>\n",
       "      <td>0.178769</td>\n",
       "      <td>0.314319</td>\n",
       "      <td>0.264473</td>\n",
       "      <td>0.290115</td>\n",
       "      <td>0.716057</td>\n",
       "      <td>0.469169</td>\n",
       "      <td>0.913275</td>\n",
       "      <td>False</td>\n",
       "    </tr>\n",
       "    <tr>\n",
       "      <th>4</th>\n",
       "      <td>4</td>\n",
       "      <td>0.754069</td>\n",
       "      <td>0.079810</td>\n",
       "      <td>0.985906</td>\n",
       "      <td>0.092363</td>\n",
       "      <td>0.381751</td>\n",
       "      <td>0.974273</td>\n",
       "      <td>0.552110</td>\n",
       "      <td>0.157901</td>\n",
       "      <td>0.382308</td>\n",
       "      <td>...</td>\n",
       "      <td>0.297581</td>\n",
       "      <td>0.318369</td>\n",
       "      <td>0.905064</td>\n",
       "      <td>0.736329</td>\n",
       "      <td>0.974300</td>\n",
       "      <td>0.156218</td>\n",
       "      <td>0.825935</td>\n",
       "      <td>0.097015</td>\n",
       "      <td>0.318077</td>\n",
       "      <td>False</td>\n",
       "    </tr>\n",
       "  </tbody>\n",
       "</table>\n",
       "<p>5 rows × 402 columns</p>\n",
       "</div>"
      ],
      "text/plain": [
       "   Unnamed: 0        f0        f1        f2        f3        f4        f5  \\\n",
       "0           0  0.671170  0.452819  0.919803  0.908830  0.198022  0.678047   \n",
       "1           1  0.410096  0.453149  0.439432  0.799696  0.394161  0.298140   \n",
       "2           2  0.025484  0.109539  0.510222  0.560464  0.501316  0.692217   \n",
       "3           3  0.813368  0.093069  0.385199  0.888811  0.207472  0.608647   \n",
       "4           4  0.754069  0.079810  0.985906  0.092363  0.381751  0.974273   \n",
       "\n",
       "         f6        f7        f8  ...      f391      f392      f393      f394  \\\n",
       "0  0.733592  0.978042  0.994526  ...  0.441474  0.347478  0.733305  0.730547   \n",
       "1  0.039998  0.291934  0.896195  ...  0.352476  0.802844  0.800363  0.323041   \n",
       "2  0.575355  0.325541  0.802631  ...  0.697723  0.264586  0.858518  0.601840   \n",
       "3  0.601538  0.459886  0.139492  ...  0.955690  0.403357  0.178769  0.314319   \n",
       "4  0.552110  0.157901  0.382308  ...  0.297581  0.318369  0.905064  0.736329   \n",
       "\n",
       "       f395      f396      f397      f398      f399     gt  \n",
       "0  0.303578  0.922968  0.677998  0.715835  0.251797  False  \n",
       "1  0.334438  0.431929  0.128808  0.423228  0.399064  False  \n",
       "2  0.278579  0.175399  0.526481  0.497829  0.581074  False  \n",
       "3  0.264473  0.290115  0.716057  0.469169  0.913275  False  \n",
       "4  0.974300  0.156218  0.825935  0.097015  0.318077  False  \n",
       "\n",
       "[5 rows x 402 columns]"
      ]
     },
     "execution_count": 29,
     "metadata": {},
     "output_type": "execute_result"
    }
   ],
   "source": [
    "feat = pd.read_csv(\"featSelData.csv\")\n",
    "feat.head()"
   ]
  },
  {
   "cell_type": "code",
   "execution_count": null,
   "metadata": {},
   "outputs": [],
   "source": []
  }
 ],
 "metadata": {
  "interpreter": {
   "hash": "147e1409c78de57555a750b13a6bfdd91f010586e138430ed2d2b6adad9a4f1f"
  },
  "kernelspec": {
   "display_name": "Python 3.9.7 ('base')",
   "language": "python",
   "name": "python3"
  },
  "language_info": {
   "codemirror_mode": {
    "name": "ipython",
    "version": 3
   },
   "file_extension": ".py",
   "mimetype": "text/x-python",
   "name": "python",
   "nbconvert_exporter": "python",
   "pygments_lexer": "ipython3",
   "version": "3.9.7"
  }
 },
 "nbformat": 4,
 "nbformat_minor": 2
}
