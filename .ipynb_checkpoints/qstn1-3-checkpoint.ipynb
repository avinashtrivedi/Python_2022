{
 "cells": [
  {
   "cell_type": "code",
   "execution_count": 1,
   "metadata": {},
   "outputs": [
    {
     "name": "stdout",
     "output_type": "stream",
     "text": [
      "Length: 733\n",
      "row 128: USC00367732,\"SAFE HARBOR DAM, PA US\",2020-05-07,55\n",
      "row 128: 65.0\n",
      "Max: 97.0\n",
      "Min: 28.0\n"
     ]
    }
   ],
   "source": [
    "def mx(x):\n",
    "    x_max = float('-inf')\n",
    "    for i in x:\n",
    "        if i>x_max:\n",
    "            x_max = i\n",
    "    return x_max\n",
    "\n",
    "def mn(x):\n",
    "    x_min = float('inf')\n",
    "    for i in x:\n",
    "        if i<x_min:\n",
    "            x_min = i\n",
    "    return x_min\n",
    "\n",
    "def main():\n",
    "    f = open('2899269_temps.csv')\n",
    "    file = f.readlines()\n",
    "    f.close()\n",
    "    \n",
    "    tmax_list = []\n",
    "    for i in file[1:]:\n",
    "        tmax = float(i.split(',')[-1].strip())\n",
    "        tmax_list.append(tmax)\n",
    "\n",
    "    print('Length:',len(file))\n",
    "    print('row 128:',file[128].strip())\n",
    "    print('row 128:',tmax_list[128])\n",
    "    \n",
    "    print('Max:',mx(tmax_list))\n",
    "    print('Min:',mn(tmax_list))\n",
    "    \n",
    "if __name__ == \"__main__\":\n",
    "    main()\n"
   ]
  },
  {
   "cell_type": "code",
   "execution_count": null,
   "metadata": {},
   "outputs": [],
   "source": []
  }
 ],
 "metadata": {
  "kernelspec": {
   "display_name": "Python 3",
   "language": "python",
   "name": "python3"
  },
  "language_info": {
   "codemirror_mode": {
    "name": "ipython",
    "version": 3
   },
   "file_extension": ".py",
   "mimetype": "text/x-python",
   "name": "python",
   "nbconvert_exporter": "python",
   "pygments_lexer": "ipython3",
   "version": "3.8.5"
  }
 },
 "nbformat": 4,
 "nbformat_minor": 4
}
