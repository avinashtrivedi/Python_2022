{
 "cells": [
  {
   "cell_type": "code",
   "execution_count": 1,
   "id": "2fb1f212",
   "metadata": {},
   "outputs": [
    {
     "name": "stdout",
     "output_type": "stream",
     "text": [
      "Collecting Neo4j\n",
      "  Downloading neo4j-4.4.2.tar.gz (89 kB)\n",
      "Requirement already satisfied: pytz in c:\\users\\avitr\\anaconda3\\lib\\site-packages (from Neo4j) (2021.3)\n",
      "Building wheels for collected packages: Neo4j\n",
      "  Building wheel for Neo4j (setup.py): started\n",
      "  Building wheel for Neo4j (setup.py): finished with status 'done'\n",
      "  Created wheel for Neo4j: filename=neo4j-4.4.2-py3-none-any.whl size=115365 sha256=7901a3c69918148cb19be4cc95ceb63bef282ea8ada9b444292d98a4e51a787e\n",
      "  Stored in directory: c:\\users\\avitr\\appdata\\local\\pip\\cache\\wheels\\b2\\eb\\0e\\c044a97207dcce32f7dc75dcdd5e29f275b3cfcde84da8980a\n",
      "Successfully built Neo4j\n",
      "Installing collected packages: Neo4j\n",
      "Successfully installed Neo4j-4.4.2\n"
     ]
    },
    {
     "name": "stderr",
     "output_type": "stream",
     "text": [
      "WARNING: Ignoring invalid distribution -rpcio (c:\\users\\avitr\\anaconda3\\lib\\site-packages)\n",
      "WARNING: Ignoring invalid distribution -rpcio (c:\\users\\avitr\\anaconda3\\lib\\site-packages)\n",
      "WARNING: Ignoring invalid distribution -rpcio (c:\\users\\avitr\\anaconda3\\lib\\site-packages)\n",
      "WARNING: Ignoring invalid distribution -rpcio (c:\\users\\avitr\\anaconda3\\lib\\site-packages)\n",
      "WARNING: Ignoring invalid distribution -rpcio (c:\\users\\avitr\\anaconda3\\lib\\site-packages)\n",
      "WARNING: Ignoring invalid distribution -rpcio (c:\\users\\avitr\\anaconda3\\lib\\site-packages)\n"
     ]
    }
   ],
   "source": [
    "!pip install Neo4j"
   ]
  },
  {
   "cell_type": "code",
   "execution_count": null,
   "id": "3af54942",
   "metadata": {},
   "outputs": [],
   "source": []
  }
 ],
 "metadata": {
  "kernelspec": {
   "display_name": "Python 3 (ipykernel)",
   "language": "python",
   "name": "python3"
  },
  "language_info": {
   "codemirror_mode": {
    "name": "ipython",
    "version": 3
   },
   "file_extension": ".py",
   "mimetype": "text/x-python",
   "name": "python",
   "nbconvert_exporter": "python",
   "pygments_lexer": "ipython3",
   "version": "3.8.5"
  }
 },
 "nbformat": 4,
 "nbformat_minor": 5
}
