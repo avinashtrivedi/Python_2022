{
 "cells": [
  {
   "cell_type": "code",
   "execution_count": 1,
   "id": "42702fa2",
   "metadata": {},
   "outputs": [],
   "source": [
    "# project: p10\n",
    "# submitter: zavorka\n",
    "# partner: none\n",
    "# hours: 6"
   ]
  },
  {
   "cell_type": "code",
   "execution_count": 2,
   "id": "e56f9d3a",
   "metadata": {},
   "outputs": [],
   "source": [
    "import os\n",
    "import csv\n",
    "import json\n",
    "from collections import namedtuple\n",
    "\n",
    "def process_csv(filename):\n",
    "    example_file = open(filename, encoding=\"utf-8\")\n",
    "    example_reader = csv.reader(example_file)\n",
    "    example_data = list(example_reader)\n",
    "    example_file.close()\n",
    "    return example_data\n",
    "\n",
    "\n",
    "\n"
   ]
  },
  {
   "cell_type": "code",
   "execution_count": 3,
   "id": "69ac629a",
   "metadata": {},
   "outputs": [],
   "source": [
    "def list_files_in(pathname):\n",
    "    location_list = []\n",
    "    files = os.listdir(pathname)\n",
    "    data_files = sorted(files)\n",
    "    \n",
    "    for file in data_files:\n",
    "        if file[0] == \".\":\n",
    "            continue\n",
    "        else:\n",
    "            location_list.append(file)\n",
    "    return location_list"
   ]
  },
  {
   "cell_type": "code",
   "execution_count": null,
   "id": "9aa8f214",
   "metadata": {},
   "outputs": [],
   "source": []
  },
  {
   "cell_type": "code",
   "execution_count": 4,
   "id": "0fcfa445",
   "metadata": {},
   "outputs": [
    {
     "data": {
      "text/plain": [
       "['channel_ids1.json',\n",
       " 'channel_ids2.json',\n",
       " 'channel_ids3.json',\n",
       " 'channel_ids4.json',\n",
       " 'channel_ids5.json',\n",
       " 'comment_data1.csv',\n",
       " 'comment_data2.csv',\n",
       " 'comment_data3.csv',\n",
       " 'comment_data4.csv',\n",
       " 'comment_data5.csv',\n",
       " 'video_data.csv',\n",
       " 'video_ids.json']"
      ]
     },
     "execution_count": 4,
     "metadata": {},
     "output_type": "execute_result"
    }
   ],
   "source": [
    "#Q1: What are the names of the files present in the data directory?\n",
    "\n",
    "list_files_in(\"data\")"
   ]
  },
  {
   "cell_type": "code",
   "execution_count": 5,
   "id": "a380b3d8",
   "metadata": {},
   "outputs": [
    {
     "data": {
      "text/plain": [
       "['data\\\\channel_ids1.json',\n",
       " 'data\\\\channel_ids2.json',\n",
       " 'data\\\\channel_ids3.json',\n",
       " 'data\\\\channel_ids4.json',\n",
       " 'data\\\\channel_ids5.json',\n",
       " 'data\\\\comment_data1.csv',\n",
       " 'data\\\\comment_data2.csv',\n",
       " 'data\\\\comment_data3.csv',\n",
       " 'data\\\\comment_data4.csv',\n",
       " 'data\\\\comment_data5.csv',\n",
       " 'data\\\\video_data.csv',\n",
       " 'data\\\\video_ids.json']"
      ]
     },
     "execution_count": 5,
     "metadata": {},
     "output_type": "execute_result"
    }
   ],
   "source": [
    "#Q2: What are the paths of all the files in the data directory?\n",
    "def list_paths_in(pathname):\n",
    "    file_path_list = []\n",
    "    period_list = list_files_in(pathname)\n",
    "    \n",
    "    for file in period_list:\n",
    "        specific_file_path = os.path.join(pathname,file)\n",
    "        file_path_list.append(specific_file_path)\n",
    "    return file_path_list\n",
    "\n",
    "list_paths_in = list_paths_in(\"data\")\n",
    "list_paths_in\n"
   ]
  },
  {
   "cell_type": "code",
   "execution_count": 6,
   "id": "0bd25d66",
   "metadata": {},
   "outputs": [
    {
     "data": {
      "text/plain": [
       "['data\\\\comment_data1.csv',\n",
       " 'data\\\\comment_data2.csv',\n",
       " 'data\\\\comment_data3.csv',\n",
       " 'data\\\\comment_data4.csv',\n",
       " 'data\\\\comment_data5.csv']"
      ]
     },
     "execution_count": 6,
     "metadata": {},
     "output_type": "execute_result"
    }
   ],
   "source": [
    "#Q3: What are the paths of all the files whose name contains comment_data in our data directory?\n",
    "\n",
    "comment_paths = [file for file in list_paths_in if \"comment_data\" in file]\n",
    "\n",
    "sorted (comment_paths)"
   ]
  },
  {
   "cell_type": "code",
   "execution_count": 7,
   "id": "ba551e51",
   "metadata": {},
   "outputs": [
    {
     "data": {
      "text/plain": [
       "['data\\\\channel_ids1.json',\n",
       " 'data\\\\channel_ids2.json',\n",
       " 'data\\\\channel_ids3.json',\n",
       " 'data\\\\channel_ids4.json',\n",
       " 'data\\\\channel_ids5.json']"
      ]
     },
     "execution_count": 7,
     "metadata": {},
     "output_type": "execute_result"
    }
   ],
   "source": [
    "#Q4: What are the paths of all the files whose name contains channel_ids in our data directory?\n",
    "\n",
    "\n",
    "channel_paths = [file for file in list_paths_in if \"channel_ids\" in file]\n",
    "\n",
    "sorted(channel_paths)\n",
    "\n"
   ]
  },
  {
   "cell_type": "code",
   "execution_count": 8,
   "id": "925ff53f",
   "metadata": {},
   "outputs": [],
   "source": [
    "def read_json(path):\n",
    "    with open(path, encoding=\"utf-8\") as f:\n",
    "        return json.load(f)\n",
    "    \n",
    "\n",
    "\n",
    "\n",
    "\n",
    "\n",
    "def get_mapping(pathname):\n",
    "    \"\"\"\n",
    "    Given a path called pathname, load the json data at the path and return the loaded json data.\n",
    "    If a json.JSONDecodeError is thrown, an empty dictionary is returned.\n",
    "    \"\"\"\n",
    "    try:\n",
    "        return read_json(pathname)\n",
    "    \n",
    "    except json.JSONDecodeError as e:\n",
    "        return{}\n",
    "    \n",
    "    \n",
    "    \n",
    "    \n",
    "    \n",
    "    \n",
    "    # TODO: copy this over from your lab"
   ]
  },
  {
   "cell_type": "code",
   "execution_count": 9,
   "id": "59e431ec",
   "metadata": {},
   "outputs": [
    {
     "data": {
      "text/plain": [
       "'Al Jazeera English'"
      ]
     },
     "execution_count": 9,
     "metadata": {},
     "output_type": "execute_result"
    }
   ],
   "source": [
    "#Q5: What is the name of the channel with the ID UCNye-wNBqNL5ZzHSJj3l8Bg?\n",
    "\n",
    "get_mapping(os.path.join(\"data\",\"channel_ids1.json\"))[\"UCNye-wNBqNL5ZzHSJj3l8Bg\"]\n"
   ]
  },
  {
   "cell_type": "code",
   "execution_count": 10,
   "id": "54a13ca1",
   "metadata": {},
   "outputs": [
    {
     "data": {
      "text/plain": [
       "372"
      ]
     },
     "execution_count": 10,
     "metadata": {},
     "output_type": "execute_result"
    }
   ],
   "source": [
    "#Q6: How many channels do we have in the entire dataset?\n",
    "channel_dict = {}\n",
    "\n",
    "for channel_path in channel_paths:\n",
    "    for channel in get_mapping(channel_path):\n",
    "        channel_dict[channel] = get_mapping(channel_path)[channel]\n",
    "        \n",
    "len(channel_dict)\n",
    "\n",
    "\n",
    "\n",
    "\n"
   ]
  },
  {
   "cell_type": "code",
   "execution_count": 11,
   "id": "8e9467c4",
   "metadata": {},
   "outputs": [],
   "source": [
    "# You will need process_csv in order to complete get_comment_data.\n",
    "# If you already copy/pasted it from lab, please ignore this copy.\n",
    "\n",
    "\n",
    "def get_comment_data(comment_file):\n",
    "    csv_data = process_csv(comment_file)\n",
    "    header = csv_data[0]\n",
    "    comment_rows = csv_data[1:]\n",
    "    comment_id_idx = header.index(\"comment_id\")\n",
    "    video_id_idx = header.index(\"video_id\")\n",
    "    comment_len_idx = header.index(\"comment_length\")\n",
    "    author_idx = header.index(\"author_id\")\n",
    "    likes_idx = header.index(\"likes\")\n",
    "    publish_time_idx = header.index(\"published_at\")\n",
    "    \n",
    "    comment_dict = {}\n",
    "    \n",
    "    \n",
    "    Comment = namedtuple(\"Comment\", [\"video_id\",\"comment_length\",\"author_id\",\"likes\",\"published_at\"])\n",
    "    \n",
    "    for row in comment_rows:\n",
    "        try:\n",
    "            if len(row) != len(header):\n",
    "                continue\n",
    "            \n",
    "            if row[comment_id_idx] != \"\" and row[video_id_idx] != \"\" and row[comment_len_idx] != \"\" and row[author_idx] != \"\" and row[likes_idx] != \"\" and row[publish_time_idx] != \"\":\n",
    "                comment_dict[row[comment_id_idx]] = Comment(row[video_id_idx], int(row[comment_len_idx]), row[author_idx], int(row[likes_idx]),row[publish_time_idx])\n",
    "    \n",
    "   \n",
    "\n",
    "        except (ValueError, IndexError) as e:\n",
    "            \n",
    "            continue\n",
    "    return comment_dict \n",
    "   \n",
    "    # TODO: Get the indices for the other columns\n",
    "    # TODO: Iterate over comment_rows\n",
    "    # TODO:   Ignore rows with missing data. That is, ignore any row that has a cell with an empty string.\n",
    "    # TODO:   Create Comment object instance (custom type created with namedtuple)\n",
    "    # TODO:   Add each Comment to a dict with its comment ID as a key and Comment object reference as value\n",
    "    # TODO: return the dict of Comments"
   ]
  },
  {
   "cell_type": "code",
   "execution_count": 12,
   "id": "30aa1daa",
   "metadata": {},
   "outputs": [
    {
     "data": {
      "text/plain": [
       "Comment(video_id='udNXMAflbU8', comment_length=175, author_id='UCHkk7x38KWgqjQOHqsQwf0Q', likes=47, published_at='2021-10-10 17:48:38')"
      ]
     },
     "execution_count": 12,
     "metadata": {},
     "output_type": "execute_result"
    }
   ],
   "source": [
    "#Q7: What is the Comment object with comment ID UgygOezB4Mvd5o6FgAt4AaABAg?\n",
    "\n",
    "\n",
    "get_comment_data(os.path.join(\"data\",\"comment_data1.csv\"))[\"UgygOezB4Mvd5o6FgAt4AaABAg\"]\n"
   ]
  },
  {
   "cell_type": "code",
   "execution_count": 13,
   "id": "fd4416cb",
   "metadata": {},
   "outputs": [],
   "source": [
    "comments = {}\n",
    "for file in comment_paths:\n",
    "    comments.update(get_comment_data(file))"
   ]
  },
  {
   "cell_type": "code",
   "execution_count": 14,
   "id": "c2264afb",
   "metadata": {},
   "outputs": [
    {
     "data": {
      "text/plain": [
       "67"
      ]
     },
     "execution_count": 14,
     "metadata": {},
     "output_type": "execute_result"
    }
   ],
   "source": [
    "#Q8: What is the length of the comment with ID UgztIaGfqFoiGvbOdfp4AaABAg?\n",
    "\n",
    "get_comment_data((os.path.join(\"data\",\"comment_data1.csv\")))[\"UgztIaGfqFoiGvbOdfp4AaABAg\"][1]"
   ]
  },
  {
   "cell_type": "code",
   "execution_count": 40,
   "id": "ca2f1cb4",
   "metadata": {},
   "outputs": [
    {
     "name": "stdout",
     "output_type": "stream",
     "text": [
      "comment_length\n"
     ]
    }
   ],
   "source": [
    "#Q9: What percentage of comments are at most 140 characters long?\n",
    "\n",
    "\n",
    "\n",
    "\n",
    "\n",
    "#len(comments)\n",
    "\n",
    "\n"
   ]
  },
  {
   "cell_type": "code",
   "execution_count": 16,
   "id": "ab1a6945",
   "metadata": {},
   "outputs": [],
   "source": [
    "#Q10: What is the author ID of the comment that has the highest number of likes?"
   ]
  },
  {
   "cell_type": "code",
   "execution_count": 17,
   "id": "ab988bdb",
   "metadata": {},
   "outputs": [],
   "source": [
    "#Q11: What is the most popular hour for publishing comments?"
   ]
  },
  {
   "cell_type": "code",
   "execution_count": 18,
   "id": "46f5d729",
   "metadata": {},
   "outputs": [],
   "source": [
    "#Q12: How many comments does the video with ID A8rrr_w8rfk have?"
   ]
  },
  {
   "cell_type": "code",
   "execution_count": 33,
   "id": "ac9ec250",
   "metadata": {},
   "outputs": [
    {
     "ename": "NameError",
     "evalue": "name 'videos' is not defined",
     "output_type": "error",
     "traceback": [
      "\u001b[1;31m---------------------------------------------------------------------------\u001b[0m",
      "\u001b[1;31mNameError\u001b[0m                                 Traceback (most recent call last)",
      "\u001b[1;32m~\\AppData\\Local\\Temp/ipykernel_9460/3235452989.py\u001b[0m in \u001b[0;36m<module>\u001b[1;34m\u001b[0m\n\u001b[0;32m      1\u001b[0m \u001b[0msample\u001b[0m \u001b[1;33m=\u001b[0m \u001b[1;33m[\u001b[0m\u001b[1;34m'UgzgwN2JXxjTN4mR5954AaABAg.9TPxukUd20g9TQLnJi3RFU'\u001b[0m\u001b[1;33m,\u001b[0m \u001b[1;34m'UgzvogxMg82Kj0aW84x4AaABAg'\u001b[0m\u001b[1;33m]\u001b[0m\u001b[1;33m\u001b[0m\u001b[1;33m\u001b[0m\u001b[0m\n\u001b[0;32m      2\u001b[0m \u001b[1;32mfor\u001b[0m \u001b[0ms\u001b[0m \u001b[1;32min\u001b[0m \u001b[0msample\u001b[0m\u001b[1;33m:\u001b[0m\u001b[1;33m\u001b[0m\u001b[1;33m\u001b[0m\u001b[0m\n\u001b[1;32m----> 3\u001b[1;33m     \u001b[1;32massert\u001b[0m \u001b[0ms\u001b[0m \u001b[1;32min\u001b[0m \u001b[0mvideos\u001b[0m\u001b[1;33m[\u001b[0m\u001b[1;34m'fkMW60W180E'\u001b[0m\u001b[1;33m]\u001b[0m\u001b[1;33m[\u001b[0m\u001b[1;34m'comments'\u001b[0m\u001b[1;33m]\u001b[0m\u001b[1;33m\u001b[0m\u001b[1;33m\u001b[0m\u001b[0m\n\u001b[0m",
      "\u001b[1;31mNameError\u001b[0m: name 'videos' is not defined"
     ]
    }
   ],
   "source": [
    "sample = ['UgzgwN2JXxjTN4mR5954AaABAg.9TPxukUd20g9TQLnJi3RFU', 'UgzvogxMg82Kj0aW84x4AaABAg']\n",
    "for s in sample:\n",
    "    assert s in videos['fkMW60W180E']['comments']"
   ]
  },
  {
   "cell_type": "code",
   "execution_count": null,
   "id": "04c13d5d",
   "metadata": {},
   "outputs": [],
   "source": [
    "#Q13: What is the video with ID fkMW60W180E?"
   ]
  },
  {
   "cell_type": "code",
   "execution_count": null,
   "id": "223fc6dd",
   "metadata": {},
   "outputs": [],
   "source": [
    "#Q14: What is the title of the video with ID gF69voHU_ys?"
   ]
  },
  {
   "cell_type": "code",
   "execution_count": null,
   "id": "26dac590",
   "metadata": {},
   "outputs": [],
   "source": [
    "#Q15: Among the videos with more than 1 million views, what is the title of the video with the highest likes to views ratio?"
   ]
  },
  {
   "cell_type": "code",
   "execution_count": null,
   "id": "6ae517d9",
   "metadata": {},
   "outputs": [],
   "source": [
    "#Q16: What is the author ID of the most liked comment under the video titled 'Giving Away My Beard For Charity!'?"
   ]
  },
  {
   "cell_type": "code",
   "execution_count": null,
   "id": "18737142",
   "metadata": {},
   "outputs": [],
   "source": [
    "def bucketize(attribute, videos=videos):\n",
    "  #TODO: This is very similar to bucketize from the last project"
   ]
  },
  {
   "cell_type": "code",
   "execution_count": null,
   "id": "fbf92dd5",
   "metadata": {},
   "outputs": [],
   "source": [
    "category_dict = bucketize('category')\n",
    "assert category_dict['Pets & Animals'] == ['Hz_DslzN2IA', 'AwvyrO_yM4c']\n"
   ]
  },
  {
   "cell_type": "code",
   "execution_count": null,
   "id": "b9b191c3",
   "metadata": {},
   "outputs": [],
   "source": [
    "#Q17: Which video titles were produced by the \"Corridor Crew\" channel?"
   ]
  },
  {
   "cell_type": "code",
   "execution_count": null,
   "id": "dbe78614",
   "metadata": {},
   "outputs": [],
   "source": [
    "#Q18: What are the top 5 channels that have the most total comments on their videos?"
   ]
  },
  {
   "cell_type": "code",
   "execution_count": null,
   "id": "00ac7ed4",
   "metadata": {},
   "outputs": [],
   "source": [
    "#Q19: List all the unique video titles which have Minecraft tags."
   ]
  },
  {
   "cell_type": "code",
   "execution_count": null,
   "id": "ea58d6f0",
   "metadata": {},
   "outputs": [],
   "source": [
    "#Q20: List the titles of the 5 shortest videos."
   ]
  },
  {
   "cell_type": "code",
   "execution_count": null,
   "id": "f08a0627",
   "metadata": {},
   "outputs": [],
   "source": []
  }
 ],
 "metadata": {
  "kernelspec": {
   "display_name": "Python 3 (ipykernel)",
   "language": "python",
   "name": "python3"
  },
  "language_info": {
   "codemirror_mode": {
    "name": "ipython",
    "version": 3
   },
   "file_extension": ".py",
   "mimetype": "text/x-python",
   "name": "python",
   "nbconvert_exporter": "python",
   "pygments_lexer": "ipython3",
   "version": "3.9.7"
  }
 },
 "nbformat": 4,
 "nbformat_minor": 5
}
