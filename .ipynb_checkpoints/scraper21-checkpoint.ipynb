{
 "cells": [
  {
   "cell_type": "code",
   "execution_count": null,
   "metadata": {},
   "outputs": [],
   "source": [
    "from lxml import html\n",
    "import requests\n",
    "import json\n",
    "import argparse\n",
    "import time\n",
    "import numpy as np\n",
    "from collections import OrderedDict\n",
    "import random\n",
    "import warnings\n",
    "warnings.filterwarnings('ignore')\n",
    "\n",
    "h_agent = ['Mozilla/5.0 (Windows; U; Windows NT 5.1; en-US) AppleWebKit/525.19 (KHTML, like Gecko) Chrome/1.0.154.36 Safari/525.19',\n",
    "'Mozilla/5.0 (Windows; U; Windows NT 6.1; en-US) AppleWebKit/534.10 (KHTML, like Gecko) Chrome/7.0.540.0 Safari/534.10',\n",
    "'Mozilla/5.0 (Windows; U; Windows NT 5.2; en-US) AppleWebKit/534.4 (KHTML, like Gecko) Chrome/6.0.481.0 Safari/534.4',\n",
    "'Mozilla/5.0 (Macintosh; U; Intel Mac OS X; en-US) AppleWebKit/533.4 (KHTML, like Gecko) Chrome/5.0.375.86 Safari/533.4',\n",
    "'Mozilla/5.0 (Windows; U; Windows NT 5.1; en-US) AppleWebKit/532.2 (KHTML, like Gecko) Chrome/4.0.223.3 Safari/532.2',\n",
    "'Mozilla/5.0 (Windows; U; Windows NT 6.1; en-US) AppleWebKit/532.0 (KHTML, like Gecko) Chrome/4.0.201.1 Safari/532.0',\n",
    "'Mozilla/5.0 (Windows; U; Windows NT 5.2; en-US) AppleWebKit/532.0 (KHTML, like Gecko) Chrome/3.0.195.27 Safari/532.0',\n",
    "'Mozilla/5.0 (Windows; U; Windows NT 5.1; en-US) AppleWebKit/530.5 (KHTML, like Gecko) Chrome/2.0.173.1 Safari/530.5',\n",
    "'Mozilla/5.0 (Windows; U; Windows NT 5.2; en-US) AppleWebKit/534.10 (KHTML, like Gecko) Chrome/8.0.558.0 Safari/534.10',\n",
    "'Mozilla/5.0 (X11; U; Linux x86_64; en-US) AppleWebKit/540.0 (KHTML,like Gecko) Chrome/9.1.0.0 Safari/540.0',\n",
    "'Mozilla/5.0 (Windows NT 6.1; WOW64; rv:20.0) Gecko/20100101 Firefox/20.0']\n",
    "\n",
    "\n",
    "\n",
    "\n",
    "def parse(ticker):\n",
    "    \n",
    "    rand = random.randint(0,len(h_agent)-1)\n",
    "    delays = [7, 4, 6, 2, 10, 19]\n",
    "    delay = np.random.choice(delays)\n",
    "   \n",
    "    headers={'Accept': '*/*',\n",
    "        'Accept-Language': 'en-US,en;q=0.5',\n",
    "        'Host': 'stockanalysis.com',\n",
    "        'Referer': \"https://stockanalysis.com/stocks/aadi/financials/cash-flow-statement/\",\n",
    "        'User-Agent': h_agent[rand],\n",
    "        'X-Requested-With': 'XMLHttpRequest'\n",
    "        }\n",
    "    \n",
    "    \n",
    "    \n",
    "    print('Hreader:->',rand+1)\n",
    "    url = \"https://stockanalysis.com/stocks/{}/financials/cash-flow-statement\".format(ticker)\n",
    "#     headers={'User-Agent': h_agent[rand]}\n",
    "    response = requests.get(url, headers=headers)\n",
    "    \n",
    "    parser1\n",
    "    parser = html.fromstring(response.content)\n",
    "    fcfs = parser.xpath('//table[contains(@id,\"financial-table\")]//tr[td/span/text()[contains(., \"Free Cash Flow\")]]')[0].xpath('.//td/span/text()')[1:]\n",
    "    last_fcf = float(fcfs[0].replace(',', ''))\n",
    "#     time.sleep(delay)\n",
    "    url = \"https://finance.yahoo.com/quote/{}/analysis?p={}\".format(ticker, ticker)\n",
    "    response = requests.get(url, headers= {'User-Agent': 'Mozilla/5.0 (Windows NT 6.1; WOW64; rv:20.0) Gecko/20100101 Firefox/20.0'})\n",
    "    parser = html.fromstring(response.content)\n",
    "    ge = parser.xpath('//table//tbody//tr')\n",
    "\n",
    "    for row in ge:\n",
    "        label = row.xpath(\"td/span/text()\")[0]\n",
    "        if 'Next 5 Years' in label:\n",
    "            try:\n",
    "                ge = float(row.xpath(\"td/text()\")[0].replace('%', ''))\n",
    "            except:\n",
    "                ge = []\n",
    "            break\n",
    "\n",
    "#     time.sleep(delay)\n",
    "    url = \"https://stockanalysis.com/stocks/{}/\".format(ticker)\n",
    "    response = requests.get(url, headers=headers)\n",
    "    parser = html.fromstring(response.content)\n",
    "    shares = parser.xpath('//div[@class=\"order-1 flex flex-row gap-4\"]//table//tbody//tr[td/text()[contains(., \"Shares Out\")]]')\n",
    "\n",
    "    shares = shares[0].xpath('td/text()')[1]\n",
    "    factor = 1000 if 'B' in shares else 1 \n",
    "    shares = float(shares.replace('B', '').replace('M', '')) * factor\n",
    "\n",
    "#     time.sleep(delay)\n",
    "    url = \"https://stockanalysis.com/stocks/{}/financials/\".format(ticker)\n",
    "    response = requests.get(url, headers=headers)\n",
    "    parser = html.fromstring(response.content)\n",
    "    eps = parser.xpath('//table[contains(@id,\"financial-table\")]//tr[td/span/text()[contains(., \"EPS (Diluted)\")]]')[0].xpath('.//td/span/text()')[1:]\n",
    "    eps = float(eps[0].replace(\",\", \"\"))\n",
    "    market_price = float(parser.xpath('//div[@class=\"p\"]/text()')[0].replace('$', '').replace(',', ''))\n",
    "    return {'fcf': last_fcf, 'ge': ge, 'yr': 5, 'dr': 10, 'pr': 2.5, 'shares': shares, 'eps': eps, 'mp': market_price}\n",
    "\n",
    "def dcf(data):\n",
    "    forecast = [data['fcf']]\n",
    "\n",
    "    if data['ge'] == []:\n",
    "    \traise ValueError(\"No growth rate available from Yahoo Finance\")\n",
    "\n",
    "    for i in range(1, data['yr']):\n",
    "        forecast.append(round(forecast[-1] + (data['ge'] / 100) * forecast[-1], 2))\n",
    "\n",
    "    forecast.append(round(forecast[-1] * (1 + (data['pr'] / 100)) / (data['dr'] / 100 - data['pr'] / 100), 2)) #terminal value\n",
    "    discount_factors = [1 / (1 + (data['dr'] / 100))**(i + 1) for i in range(len(forecast) - 1)]\n",
    "\n",
    "    pvs = [round(f * d, 2) for f, d in zip(forecast[:-1], discount_factors)]\n",
    "    pvs.append(round(discount_factors[-1] * forecast[-1], 2)) # discounted terminal value\n",
    "    \n",
    "    print(\"Forecasted cash flows: {}\".format(\", \".join(map(str, forecast))))\n",
    "    print(\"PV of cash flows: {}\".format(\", \".join(map(str, pvs))))\n",
    "\n",
    "    dcf = sum(pvs)\n",
    "    print(\"Fair value: {}\\n\".format(dcf / data['shares']))\n",
    "\n",
    "def reverse_dcf(data):\n",
    "    pass\n",
    "\n",
    "def graham(data):\n",
    "    if data['eps'] > 0:\n",
    "        expected_value = data['eps'] * (8.5 + 2 * (data['ge']))\n",
    "        ge_priced_in = (data['mp'] / data['eps'] - 8.5) / 2\n",
    "\n",
    "        print(\"Expected value based on growth rate: {}\".format(expected_value))\n",
    "        print(\"Growth rate priced in for next 7-10 years: {}\\n\".format(ge_priced_in))\n",
    "    else:\n",
    "        print(\"Not applicable since EPS is negative.\")\n",
    "\n",
    "if __name__ == \"__main__\":\n",
    "    argparser = argparse.ArgumentParser()\n",
    "    argparser.add_argument('ticker', help='Ticker to analyse. Example: GOOG')\n",
    "    argparser.add_argument('--discount_rate', help='Discount rate in %. Default: 10', default=10)\n",
    "    argparser.add_argument('--growth_estimate', help='Estimated yoy growth rate. Default: Fetched from Yahoo Finance')\n",
    "    argparser.add_argument('--terminal_rate', help='Terminal growth rate. Default: 2.5')\n",
    "    argparser.add_argument('--period', help='Time period in years. Default: 5')\n",
    "    args = argparser.parse_args()\n",
    "    \n",
    "    ticker = args.ticker\n",
    "#     ticker = input('Enter Stock: ')\n",
    "    print(\"Fetching data for %s...\\n\" % (ticker))\n",
    "    data = parse(ticker)\n",
    "    print(\"=\" * 80)\n",
    "    print(\"DCF model (basic)\")\n",
    "    print(\"=\" * 80 + \"\\n\")\n",
    "\n",
    "    if args.period is not None:\n",
    "        data['yr'] = int(args.period)\n",
    "    if args.growth_estimate is not None:\n",
    "        data['ge'] = float(args.growth_estimate)\n",
    "    if args.discount_rate is not None:\n",
    "        data['dr'] = float(args.discount_rate)\n",
    "    if args.terminal_rate is not None:\n",
    "        data['pr'] = float(args.terminal_rate)\n",
    "\n",
    "    print(\"Market price: {}\".format(data['mp']))\n",
    "    print(\"EPS: {}\".format(data['eps']))\n",
    "    print(\"Growth estimate: {}\".format(data['ge']))\n",
    "    print(\"Term: {} years\".format(data['yr']))\n",
    "    print(\"Discount Rate: {}%\".format(data['dr']))\n",
    "    print(\"Perpetual Rate: {}%\\n\".format(data['pr']))\n",
    "\n",
    "    dcf(data)\n",
    "\n",
    "    print(\"=\" * 80)\n",
    "    print(\"Graham style valuation basic (Page 295, The Intelligent Investor)\")\n",
    "    print(\"=\" * 80 + \"\\n\")\n",
    "\n",
    "    graham(data)"
   ]
  },
  {
   "cell_type": "code",
   "execution_count": null,
   "metadata": {},
   "outputs": [],
   "source": [
    "import pandas as pd\n",
    "df = pd.read_html(\"https://en.wikipedia.org/wiki/List_of_S%26P_500_companies\")[0]\n",
    "script = list(df['Symbol'])"
   ]
  },
  {
   "cell_type": "code",
   "execution_count": null,
   "metadata": {},
   "outputs": [],
   "source": [
    "for i in script:\n",
    "    try:\n",
    "        %run stock_analysis_v1.py i\n",
    "    except:\n",
    "        print(i)"
   ]
  },
  {
   "cell_type": "code",
   "execution_count": null,
   "metadata": {},
   "outputs": [],
   "source": []
  },
  {
   "cell_type": "code",
   "execution_count": null,
   "metadata": {},
   "outputs": [],
   "source": []
  },
  {
   "cell_type": "code",
   "execution_count": null,
   "metadata": {},
   "outputs": [],
   "source": [
    "import requests\n",
    "from lxml.html import fromstring\n",
    "def get_proxies():\n",
    "    url = 'https://gimmeproxy.com/api/getProxy'\n",
    "    response = requests.get(url)\n",
    "    parser = fromstring(response.text)\n",
    "    proxies = set()\n",
    "    for i in parser.xpath('//tbody/tr')[:10]:\n",
    "        if i.xpath('.//td[7][contains(text(),\"yes\")]'):\n",
    "            #Grabbing IP and corresponding PORT\n",
    "            proxy = \":\".join([i.xpath('.//td[1]/text()')[0], i.xpath('.//td[2]/text()')[0]])\n",
    "            proxies.add(proxy)\n",
    "    return proxies"
   ]
  },
  {
   "cell_type": "code",
   "execution_count": null,
   "metadata": {},
   "outputs": [],
   "source": [
    "url = 'https://gimmeproxy.com/api/getProxy'\n",
    "response = requests.get(url)\n",
    "parser = fromstring(response.text)"
   ]
  },
  {
   "cell_type": "code",
   "execution_count": null,
   "metadata": {},
   "outputs": [],
   "source": [
    "parser"
   ]
  },
  {
   "cell_type": "code",
   "execution_count": null,
   "metadata": {},
   "outputs": [],
   "source": []
  },
  {
   "cell_type": "code",
   "execution_count": null,
   "metadata": {},
   "outputs": [],
   "source": [
    "from lxml import html\n",
    "# import requests\n",
    "import json\n",
    "import argparse\n",
    "from collections import OrderedDict\n",
    "from urllib.request import build_opener, HTTPCookieProcessor, Request\n",
    "import warnings\n",
    "from http.cookiejar import CookieJar\n",
    "warnings.filterwarnings('ignore')\n",
    "\n",
    "url = \"https://stockanalysis.com/stocks/AAPL/financials/cash-flow-statement\"\n",
    "headers={'User-Agent': 'Mozilla/5.0 (Windows NT 6.1; WOW64; rv:20.0) Gecko/20100101 Firefox/20.0'}"
   ]
  },
  {
   "cell_type": "code",
   "execution_count": null,
   "metadata": {},
   "outputs": [],
   "source": [
    "\n",
    "response = requests.get(url,headers=headers)\n",
    "parser = html.fromstring(response.content)\n",
    "# fcfs = parser.xpath('//table[contains(@id,\"financial-table\")]//tr[td/span/text()[contains(., \"Free Cash Flow\")]]')[0].xpath('.//td/span/text()')[1:]\n",
    "# last_fcf = float(fcfs[0].replace(',', ''))"
   ]
  },
  {
   "cell_type": "code",
   "execution_count": null,
   "metadata": {},
   "outputs": [],
   "source": [
    "response.status_code==200"
   ]
  },
  {
   "cell_type": "code",
   "execution_count": null,
   "metadata": {},
   "outputs": [],
   "source": []
  },
  {
   "cell_type": "code",
   "execution_count": null,
   "metadata": {},
   "outputs": [],
   "source": [
    "req = Request(url, None,headers)\n",
    "req.add_header('Cookie', (\".ROBLOSECURITY=26D59EEB62BB82BA679D88E391F5E43448FDC5EEE74BEBBFD9879204EABA2813E4C00248E65D7ADBFE0B91F1B\"\n",
    "    \"140E4DD61CBA1F0EE5991E5099BE044AD9AF0C019EFAFDCF6A41355002355A602F9B8ADEF4CD14E70825687F9748B082089DE69C833E4F5AE9B358F1988B3D3BB04CA5D0B\"\n",
    "    \"F96501E8B4AAACD68BBE3ACCAED5DA646BB4E7B3D8CC88D102DD53382C8FE8696C54445EB3716AF08DF9816E14EAC0DA451C04803BAB801BF61A20FD9BF6E3FE9BF06833D\"\n",
    "    \"68C08BB1DF4FDD3ED969687F42BAA5D57C66246549F4323F3FAE71D7E38574690F6AB41D56C224C949018C5C24901EB7D8A4B6D262A173B60B16B413F347B21AC8901F86D\"\n",
    "    \"818B039A88344A324670D726176F42485ADE295EE22ADEDA733452735B043B7A4FF8262D42DF60D63329C77E8AF9EF65AD25B01CEAD48FCBF59D8CB70AE32BDE1651FB372\"\n",
    "    \"656C600DBCBF53F0D49FB89275830B0A5513EC201C808699428C0F09BF8FE64A227D9A94B43943E2F81E252B45297D38AF6D8E8FDA180DCB491AA33FA7EE87BB1D1E00505\"\n",
    "    \"0573294010E9169AB9AF716F69483128B93F87878C24380A57F64A8EF4BC9242A6125413548F88D15F6E6779A9B996BCADFEA7EABFEE3ED17EFEC148C33630CBCDCD9E1DD\"\n",
    "    \"CB4B1C5DD42EF93C696C20D01A1E9D95AD40145ACE57C4664ACDF79EF78482DE6E40E7D3727C501A089993402F386A2D5997CDE530DBF93CDAD90E15F207D3B9DE168C3B6\"\n",
    "    \"69E1099B304192CD33D327150A57B9383BDBC99215448F21\"))\n",
    "\n",
    "cj = CookieJar()\n",
    "temp=build_opener(HTTPCookieProcessor(cj))"
   ]
  },
  {
   "cell_type": "code",
   "execution_count": null,
   "metadata": {},
   "outputs": [],
   "source": [
    "req"
   ]
  },
  {
   "cell_type": "code",
   "execution_count": null,
   "metadata": {},
   "outputs": [],
   "source": [
    "temp.open(req)"
   ]
  },
  {
   "cell_type": "code",
   "execution_count": null,
   "metadata": {},
   "outputs": [],
   "source": [
    "temp"
   ]
  },
  {
   "cell_type": "code",
   "execution_count": null,
   "metadata": {},
   "outputs": [],
   "source": [
    "req = Request(url, None,headers)\n",
    "cj = CookieJar()\n",
    "temp=build_opener(HTTPCookieProcessor(cj))\n",
    "res=temp.open(req)\n",
    "page=res.read()\n",
    "parser = html.fromstring(page)"
   ]
  },
  {
   "cell_type": "code",
   "execution_count": null,
   "metadata": {},
   "outputs": [],
   "source": [
    "res"
   ]
  },
  {
   "cell_type": "code",
   "execution_count": null,
   "metadata": {},
   "outputs": [],
   "source": [
    "temp"
   ]
  },
  {
   "cell_type": "code",
   "execution_count": null,
   "metadata": {},
   "outputs": [],
   "source": [
    "import os, http.cookiejar, urllib.request\n",
    "cj = http.cookiejar.MozillaCookieJar()\n",
    "cj.load(os.path.join(os.path.expanduser(\"~\"), \".netscape\", \"cookies.txt\"))\n",
    "opener = urllib.request.build_opener(urllib.request.HTTPCookieProcessor(cj))\n",
    "r = opener.open(url)"
   ]
  },
  {
   "cell_type": "code",
   "execution_count": null,
   "metadata": {},
   "outputs": [],
   "source": [
    "# import urllib2\n",
    "# handler = urllib2.HTTPHandler(debuglevel = 1)\n",
    "\n",
    "\n",
    "cj = CookieJar()\n",
    "temp=build_opener(HTTPCookieProcessor(cj))\n",
    "\n",
    "urllib2.install_opener(opener)\n",
    "\n",
    "resp = urllib2.urlopen(req)\n",
    "print(resp.read())"
   ]
  },
  {
   "cell_type": "code",
   "execution_count": null,
   "metadata": {},
   "outputs": [],
   "source": [
    "req"
   ]
  },
  {
   "cell_type": "code",
   "execution_count": null,
   "metadata": {},
   "outputs": [],
   "source": [
    "import fake-useragent"
   ]
  },
  {
   "cell_type": "code",
   "execution_count": null,
   "metadata": {},
   "outputs": [],
   "source": [
    "from fake_useragent import UserAgent\n",
    "ua = UserAgent()\n",
    "ua.chrome"
   ]
  },
  {
   "cell_type": "code",
   "execution_count": 4,
   "metadata": {},
   "outputs": [
    {
     "name": "stdout",
     "output_type": "stream",
     "text": [
      "Fetching data for MSFT...\n",
      "\n"
     ]
    },
    {
     "ename": "IndexError",
     "evalue": "list index out of range",
     "output_type": "error",
     "traceback": [
      "\u001b[1;31m---------------------------------------------------------------------------\u001b[0m",
      "\u001b[1;31mIndexError\u001b[0m                                Traceback (most recent call last)",
      "\u001b[1;32m~\\OneDrive\\Documents\\Python Scripts\\Code_2022\\stock_analysis_v1.py\u001b[0m in \u001b[0;36m<module>\u001b[1;34m\u001b[0m\n\u001b[0;32m    130\u001b[0m \u001b[1;31m#     ticker = input('Enter Stock: ')\u001b[0m\u001b[1;33m\u001b[0m\u001b[1;33m\u001b[0m\u001b[1;33m\u001b[0m\u001b[0m\n\u001b[0;32m    131\u001b[0m     \u001b[0mprint\u001b[0m\u001b[1;33m(\u001b[0m\u001b[1;34m\"Fetching data for %s...\\n\"\u001b[0m \u001b[1;33m%\u001b[0m \u001b[1;33m(\u001b[0m\u001b[0mticker\u001b[0m\u001b[1;33m)\u001b[0m\u001b[1;33m)\u001b[0m\u001b[1;33m\u001b[0m\u001b[1;33m\u001b[0m\u001b[0m\n\u001b[1;32m--> 132\u001b[1;33m     \u001b[0mdata\u001b[0m \u001b[1;33m=\u001b[0m \u001b[0mparse\u001b[0m\u001b[1;33m(\u001b[0m\u001b[0mticker\u001b[0m\u001b[1;33m)\u001b[0m\u001b[1;33m\u001b[0m\u001b[1;33m\u001b[0m\u001b[0m\n\u001b[0m\u001b[0;32m    133\u001b[0m     \u001b[0mprint\u001b[0m\u001b[1;33m(\u001b[0m\u001b[1;34m\"=\"\u001b[0m \u001b[1;33m*\u001b[0m \u001b[1;36m80\u001b[0m\u001b[1;33m)\u001b[0m\u001b[1;33m\u001b[0m\u001b[1;33m\u001b[0m\u001b[0m\n\u001b[0;32m    134\u001b[0m     \u001b[0mprint\u001b[0m\u001b[1;33m(\u001b[0m\u001b[1;34m\"DCF model (basic)\"\u001b[0m\u001b[1;33m)\u001b[0m\u001b[1;33m\u001b[0m\u001b[1;33m\u001b[0m\u001b[0m\n",
      "\u001b[1;32m~\\OneDrive\\Documents\\Python Scripts\\Code_2022\\stock_analysis_v1.py\u001b[0m in \u001b[0;36mparse\u001b[1;34m(ticker)\u001b[0m\n\u001b[0;32m     48\u001b[0m     \u001b[0mresponse\u001b[0m \u001b[1;33m=\u001b[0m \u001b[0mrequests\u001b[0m\u001b[1;33m.\u001b[0m\u001b[0mget\u001b[0m\u001b[1;33m(\u001b[0m\u001b[0murl\u001b[0m\u001b[1;33m,\u001b[0m \u001b[0mheaders\u001b[0m\u001b[1;33m=\u001b[0m\u001b[0mheaders\u001b[0m\u001b[1;33m)\u001b[0m\u001b[1;33m\u001b[0m\u001b[1;33m\u001b[0m\u001b[0m\n\u001b[0;32m     49\u001b[0m     \u001b[0mparser\u001b[0m \u001b[1;33m=\u001b[0m \u001b[0mhtml\u001b[0m\u001b[1;33m.\u001b[0m\u001b[0mfromstring\u001b[0m\u001b[1;33m(\u001b[0m\u001b[0mresponse\u001b[0m\u001b[1;33m.\u001b[0m\u001b[0mcontent\u001b[0m\u001b[1;33m)\u001b[0m\u001b[1;33m\u001b[0m\u001b[1;33m\u001b[0m\u001b[0m\n\u001b[1;32m---> 50\u001b[1;33m     \u001b[0mfcfs\u001b[0m \u001b[1;33m=\u001b[0m \u001b[0mparser\u001b[0m\u001b[1;33m.\u001b[0m\u001b[0mxpath\u001b[0m\u001b[1;33m(\u001b[0m\u001b[1;34m'//table[contains(@id,\"financial-table\")]//tr[td/span/text()[contains(., \"Free Cash Flow\")]]'\u001b[0m\u001b[1;33m)\u001b[0m\u001b[1;33m[\u001b[0m\u001b[1;36m0\u001b[0m\u001b[1;33m]\u001b[0m\u001b[1;33m.\u001b[0m\u001b[0mxpath\u001b[0m\u001b[1;33m(\u001b[0m\u001b[1;34m'.//td/span/text()'\u001b[0m\u001b[1;33m)\u001b[0m\u001b[1;33m[\u001b[0m\u001b[1;36m1\u001b[0m\u001b[1;33m:\u001b[0m\u001b[1;33m]\u001b[0m\u001b[1;33m\u001b[0m\u001b[1;33m\u001b[0m\u001b[0m\n\u001b[0m\u001b[0;32m     51\u001b[0m     \u001b[0mlast_fcf\u001b[0m \u001b[1;33m=\u001b[0m \u001b[0mfloat\u001b[0m\u001b[1;33m(\u001b[0m\u001b[0mfcfs\u001b[0m\u001b[1;33m[\u001b[0m\u001b[1;36m0\u001b[0m\u001b[1;33m]\u001b[0m\u001b[1;33m.\u001b[0m\u001b[0mreplace\u001b[0m\u001b[1;33m(\u001b[0m\u001b[1;34m','\u001b[0m\u001b[1;33m,\u001b[0m \u001b[1;34m''\u001b[0m\u001b[1;33m)\u001b[0m\u001b[1;33m)\u001b[0m\u001b[1;33m\u001b[0m\u001b[1;33m\u001b[0m\u001b[0m\n\u001b[0;32m     52\u001b[0m     \u001b[0mtime\u001b[0m\u001b[1;33m.\u001b[0m\u001b[0msleep\u001b[0m\u001b[1;33m(\u001b[0m\u001b[0mdelay\u001b[0m\u001b[1;33m)\u001b[0m\u001b[1;33m\u001b[0m\u001b[1;33m\u001b[0m\u001b[0m\n",
      "\u001b[1;31mIndexError\u001b[0m: list index out of range"
     ]
    }
   ],
   "source": [
    "%run stock_analysis_v1.py MSFT"
   ]
  },
  {
   "cell_type": "code",
   "execution_count": null,
   "metadata": {},
   "outputs": [],
   "source": []
  }
 ],
 "metadata": {
  "kernelspec": {
   "display_name": "Python 3",
   "language": "python",
   "name": "python3"
  },
  "language_info": {
   "codemirror_mode": {
    "name": "ipython",
    "version": 3
   },
   "file_extension": ".py",
   "mimetype": "text/x-python",
   "name": "python",
   "nbconvert_exporter": "python",
   "pygments_lexer": "ipython3",
   "version": "3.8.5"
  }
 },
 "nbformat": 4,
 "nbformat_minor": 4
}
