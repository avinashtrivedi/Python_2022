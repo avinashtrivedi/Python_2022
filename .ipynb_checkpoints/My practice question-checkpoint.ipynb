{
 "cells": [
  {
   "cell_type": "code",
   "execution_count": 73,
   "id": "44d9d8a3",
   "metadata": {},
   "outputs": [
    {
     "ename": "ModuleNotFoundError",
     "evalue": "No module named 'make_blobs'",
     "output_type": "error",
     "traceback": [
      "\u001b[1;31m---------------------------------------------------------------------------\u001b[0m",
      "\u001b[1;31mModuleNotFoundError\u001b[0m                       Traceback (most recent call last)",
      "Input \u001b[1;32mIn [73]\u001b[0m, in \u001b[0;36m<cell line: 8>\u001b[1;34m()\u001b[0m\n\u001b[0;32m      6\u001b[0m \u001b[38;5;28;01mimport\u001b[39;00m \u001b[38;5;21;01mseaborn\u001b[39;00m \u001b[38;5;28;01mas\u001b[39;00m \u001b[38;5;21;01msns\u001b[39;00m\n\u001b[0;32m      7\u001b[0m \u001b[38;5;28;01mfrom\u001b[39;00m \u001b[38;5;21;01mnumpy\u001b[39;00m \u001b[38;5;28;01mimport\u001b[39;00m linalg \u001b[38;5;28;01mas\u001b[39;00m la\n\u001b[1;32m----> 8\u001b[0m \u001b[38;5;28;01mimport\u001b[39;00m \u001b[38;5;21;01mmake_blobs\u001b[39;00m\n",
      "\u001b[1;31mModuleNotFoundError\u001b[0m: No module named 'make_blobs'"
     ]
    }
   ],
   "source": [
    "import numpy  as np \n",
    "import random\n",
    "import pandas as pd \n",
    "import math\n",
    "import matplotlib.pyplot as plt\n",
    "import seaborn as sns\n",
    "from numpy import linalg as la\n",
    "import make_blobs"
   ]
  },
  {
   "cell_type": "markdown",
   "id": "22b65e09",
   "metadata": {},
   "source": [
    "##  K-means Clustering\n",
    "Consider the following variant of $k$-means clustering algorithm:\\\n",
    "Input: $x^1,.....,x^n,\\ k$\\\n",
    "Step 1: Select $k$ cluster centers $c_1,....,c_k$ randomly\\\n",
    "Step 2: for each point $x$, determine its cluster: find the closest\n",
    "center using Chebyshev distance\\\n",
    "Step 3: update all cluster centers as the centroids:\n",
    "$c_i = \\frac{\\sum_{\\{x \\in \\ cluster \\ i\\}} x}{ SizeOf(cluster \\ i)}$\\\n",
    "Repeat step 2, 3 until cluster centers no longer change\\\n",
    "where Chebyshev distance between point $p (p_1,p_2...p_n)$ and\n",
    "$q (q_1,q_2,.... q_n)$ can be defined as follows :\n",
    "$d\\left( p,q\\right) =  \\max _{i} ( \\left| \\begin{matrix} p_{i} -q_{i}\\end{matrix} \\right|   )$"
   ]
  },
  {
   "cell_type": "code",
   "execution_count": 86,
   "id": "8b6ad920",
   "metadata": {},
   "outputs": [
    {
     "name": "stdout",
     "output_type": "stream",
     "text": [
      "[[0.417 0.72  0.   ]\n",
      " [0.302 0.147 0.092]\n",
      " [0.186 0.346 0.397]\n",
      " [0.539 0.419 0.685]\n",
      " [0.204 0.878 0.027]\n",
      " [0.67  0.417 0.559]\n",
      " [0.14  0.198 0.801]\n",
      " [0.968 0.313 0.692]\n",
      " [0.876 0.895 0.085]\n",
      " [0.039 0.17  0.878]\n",
      " [0.098 0.421 0.958]\n",
      " [0.533 0.692 0.316]\n",
      " [0.687 0.835 0.018]\n",
      " [0.75  0.989 0.748]\n",
      " [0.28  0.789 0.103]\n",
      " [0.448 0.909 0.294]\n",
      " [0.288 0.13  0.019]\n",
      " [0.679 0.212 0.266]\n",
      " [0.492 0.053 0.574]\n",
      " [0.147 0.589 0.7  ]\n",
      " [0.102 0.414 0.694]\n",
      " [0.414 0.05  0.536]\n",
      " [0.664 0.515 0.945]\n",
      " [0.587 0.903 0.137]\n",
      " [0.139 0.807 0.398]\n",
      " [0.165 0.928 0.348]\n",
      " [0.751 0.726 0.883]\n",
      " [0.624 0.751 0.349]\n",
      " [0.27  0.896 0.428]\n",
      " [0.965 0.663 0.622]]\n"
     ]
    }
   ],
   "source": [
    "np.random.seed(1)\n",
    "X3d = np.round(np.random.random([30,3]),3)\n",
    "print(X3d)"
   ]
  },
  {
   "cell_type": "code",
   "execution_count": 6,
   "id": "b2aabebf",
   "metadata": {},
   "outputs": [
    {
     "data": {
      "text/plain": [
       "array([0.417, 0.72 , 0.   ])"
      ]
     },
     "execution_count": 6,
     "metadata": {},
     "output_type": "execute_result"
    }
   ],
   "source": [
    "X3d[0]"
   ]
  },
  {
   "cell_type": "markdown",
   "id": "f52c4b0f",
   "metadata": {},
   "source": [
    "#### Define the initial cluster centers :"
   ]
  },
  {
   "cell_type": "code",
   "execution_count": 57,
   "id": "8fb80e8c",
   "metadata": {},
   "outputs": [],
   "source": [
    "centers = [X3d[7],X3d[28],X3d[19]] # 3 cluster"
   ]
  },
  {
   "cell_type": "code",
   "execution_count": 58,
   "id": "4cefc9b9",
   "metadata": {},
   "outputs": [
    {
     "data": {
      "text/plain": [
       "array([0.968, 0.313, 0.692])"
      ]
     },
     "execution_count": 58,
     "metadata": {},
     "output_type": "execute_result"
    }
   ],
   "source": [
    "X3d[7]"
   ]
  },
  {
   "cell_type": "code",
   "execution_count": 59,
   "id": "1e2642eb",
   "metadata": {},
   "outputs": [
    {
     "name": "stdout",
     "output_type": "stream",
     "text": [
      "[array([0.968, 0.313, 0.692]), array([0.27 , 0.896, 0.428]), array([0.147, 0.589, 0.7  ])]\n"
     ]
    }
   ],
   "source": [
    "print(centers)"
   ]
  },
  {
   "cell_type": "code",
   "execution_count": 23,
   "id": "ba074042",
   "metadata": {},
   "outputs": [],
   "source": [
    "x = np.array([2,1.4,1.2])"
   ]
  },
  {
   "cell_type": "code",
   "execution_count": 104,
   "id": "b27ec2e9",
   "metadata": {},
   "outputs": [],
   "source": [
    "def get_Chebyshev_distance(p,q):\n",
    "    return max(abs(p[0]-q[0]),abs(p[0]-q[0]),abs(p[0]-q[0]))"
   ]
  },
  {
   "cell_type": "markdown",
   "id": "08a68d6f",
   "metadata": {},
   "source": [
    "# PART1"
   ]
  },
  {
   "cell_type": "code",
   "execution_count": 66,
   "id": "1ce5fda7",
   "metadata": {},
   "outputs": [
    {
     "name": "stdout",
     "output_type": "stream",
     "text": [
      "Cluster center after Iteration 0\n",
      "------------------------------\n",
      "[array([0.968, 0.313, 0.692]), array([0.27 , 0.896, 0.428]), array([0.147, 0.589, 0.7  ])]\n",
      "------------------------------\n",
      "Cluster center after Iteration 1\n",
      "------------------------------\n",
      "[(0.57384, 0.5881400000000001, 0.47772), (0.33419354838709664, 0.5215161290322581, 0.37319354838709684), (0.13555555555555557, 0.527888888888889, 0.5778888888888889)]\n",
      "------------------------------\n",
      "Cluster center after Iteration 2\n",
      "------------------------------\n",
      "[(0.5688620689655174, 0.5782931034482758, 0.47086206896551724), (0.2633913043478261, 0.5231739130434784, 0.3541304347826087), (0.13555555555555557, 0.527888888888889, 0.5778888888888889)]\n",
      "------------------------------\n",
      "Cluster center after Iteration 3\n",
      "------------------------------\n",
      "[(0.5600645161290323, 0.5935322580645159, 0.44996774193548394), (0.2266, 0.48265000000000013, 0.37920000000000004), (0.127, 0.484125, 0.6467499999999999)]\n",
      "------------------------------\n",
      "Cluster center after Iteration 4\n",
      "------------------------------\n",
      "[(0.5555, 0.576546875, 0.45265625), (0.20473684210526316, 0.5210000000000001, 0.3636315789473684), (0.11857142857142858, 0.5038571428571428, 0.6824285714285713)]\n",
      "------------------------------\n",
      "Cluster center after Iteration 5\n",
      "------------------------------\n",
      "[(0.5555, 0.576546875, 0.45265625), (0.20274999999999999, 0.5413500000000002, 0.36285), (0.11083333333333334, 0.43316666666666664, 0.7381666666666665)]\n",
      "------------------------------\n",
      "Breaking after 6 iteration\n"
     ]
    }
   ],
   "source": [
    "centers = [X3d[7],X3d[28],X3d[19]] # 3 cluster\n",
    "for iteration in range(10):\n",
    "    cluster1 = []\n",
    "    cluster2 = []\n",
    "    cluster3 = []\n",
    "    print(f'Cluster center after Iteration {iteration}')\n",
    "    print('-'*30)\n",
    "    print(centers)\n",
    "    print('-'*30)\n",
    "    for data in X3d:\n",
    "        dist = []\n",
    "        for center in centers:\n",
    "            dist.append(get_Chebyshev_distance(data,center))\n",
    "            dist1 = np.array(dist)\n",
    "            cluster_no = dist1.argmin()\n",
    "\n",
    "            if cluster_no == 0:\n",
    "                cluster1.append(data)\n",
    "            elif cluster_no == 1:\n",
    "                cluster2.append(data)\n",
    "            else:\n",
    "                cluster3.append(data)\n",
    "                \n",
    "    centers1 = []\n",
    "    for cluster in [cluster1,cluster2,cluster3]:\n",
    "        updated_cent = (np.array([i[0] for i in cluster]).mean(),np.array([i[1] for i in cluster]).mean(),np.array([i[2] for i in cluster]).mean()) \n",
    "        centers1.append(updated_cent)\n",
    "    \n",
    "   \n",
    "    flag = []\n",
    "    for i in range(3):\n",
    "        if sorted(centers[i]) == sorted(centers1[i]):\n",
    "            flag.append(True)\n",
    "        else:\n",
    "            flag.append(False)\n",
    "            \n",
    "    if all(flag):\n",
    "        print(f'Breaking after {iteration+1} iteration')\n",
    "        break\n",
    "    else:\n",
    "        centers = centers1"
   ]
  },
  {
   "cell_type": "markdown",
   "id": "c1d223d0",
   "metadata": {},
   "source": [
    "# Part-2"
   ]
  },
  {
   "cell_type": "code",
   "execution_count": 68,
   "id": "8cde06d4",
   "metadata": {},
   "outputs": [
    {
     "name": "stdout",
     "output_type": "stream",
     "text": [
      "Cluster center after Iteration 1\n",
      "------------------------------\n",
      "[array([0.968, 0.313, 0.692]), array([0.27 , 0.896, 0.428]), array([0.147, 0.589, 0.7  ])]\n",
      "------------------------------\n",
      "Cluster center after Iteration 2\n",
      "------------------------------\n",
      "[(0.57384, 0.5881400000000001, 0.47772), (0.33419354838709664, 0.5215161290322581, 0.37319354838709684), (0.13555555555555557, 0.527888888888889, 0.5778888888888889)]\n",
      "------------------------------\n",
      "Cluster center after Iteration 3\n",
      "------------------------------\n",
      "[(0.5688620689655174, 0.5782931034482758, 0.47086206896551724), (0.2633913043478261, 0.5231739130434784, 0.3541304347826087), (0.13555555555555557, 0.527888888888889, 0.5778888888888889)]\n",
      "------------------------------\n",
      "Cluster center after Iteration 4\n",
      "------------------------------\n",
      "[(0.5600645161290323, 0.5935322580645159, 0.44996774193548394), (0.2266, 0.48265000000000013, 0.37920000000000004), (0.127, 0.484125, 0.6467499999999999)]\n",
      "------------------------------\n",
      "Cluster center after Iteration 5\n",
      "------------------------------\n",
      "[(0.5555, 0.576546875, 0.45265625), (0.20473684210526316, 0.5210000000000001, 0.3636315789473684), (0.11857142857142858, 0.5038571428571428, 0.6824285714285713)]\n",
      "------------------------------\n",
      "Cluster center after Iteration 6\n",
      "------------------------------\n",
      "[(0.5555, 0.576546875, 0.45265625), (0.20274999999999999, 0.5413500000000002, 0.36285), (0.11083333333333334, 0.43316666666666664, 0.7381666666666665)]\n",
      "------------------------------\n",
      "Cluster center after Iteration 7\n",
      "------------------------------\n",
      "[(0.5555, 0.576546875, 0.45265625), (0.20274999999999999, 0.5413500000000002, 0.36285), (0.11083333333333334, 0.43316666666666664, 0.7381666666666665)]\n",
      "------------------------------\n",
      "Cluster center after Iteration 8\n",
      "------------------------------\n",
      "[(0.5555, 0.576546875, 0.45265625), (0.20274999999999999, 0.5413500000000002, 0.36285), (0.11083333333333334, 0.43316666666666664, 0.7381666666666665)]\n",
      "------------------------------\n",
      "Cluster center after Iteration 9\n",
      "------------------------------\n",
      "[(0.5555, 0.576546875, 0.45265625), (0.20274999999999999, 0.5413500000000002, 0.36285), (0.11083333333333334, 0.43316666666666664, 0.7381666666666665)]\n",
      "------------------------------\n",
      "Cluster center after Iteration 10\n",
      "------------------------------\n",
      "[(0.5555, 0.576546875, 0.45265625), (0.20274999999999999, 0.5413500000000002, 0.36285), (0.11083333333333334, 0.43316666666666664, 0.7381666666666665)]\n",
      "------------------------------\n"
     ]
    }
   ],
   "source": [
    "centers = [X3d[7],X3d[28],X3d[19]] # 3 cluster\n",
    "for iteration in range(10):\n",
    "    cluster1 = []\n",
    "    cluster2 = []\n",
    "    cluster3 = []\n",
    "    print(f'Cluster center after Iteration {iteration+1}')\n",
    "    print('-'*30)\n",
    "    print(centers)\n",
    "    print('-'*30)\n",
    "    for data in X3d:\n",
    "        dist = []\n",
    "        for center in centers:\n",
    "            dist.append(get_Chebyshev_distance(data,center))\n",
    "            dist1 = np.array(dist)\n",
    "            cluster_no = dist1.argmin()\n",
    "\n",
    "            if cluster_no == 0:\n",
    "                cluster1.append(data)\n",
    "            elif cluster_no == 1:\n",
    "                cluster2.append(data)\n",
    "            else:\n",
    "                cluster3.append(data)\n",
    "                \n",
    "    centers = []\n",
    "    for cluster in [cluster1,cluster2,cluster3]:\n",
    "        updated_cent = (np.array([i[0] for i in cluster]).mean(),np.array([i[1] for i in cluster]).mean(),np.array([i[2] for i in cluster]).mean()) \n",
    "        centers.append(updated_cent)"
   ]
  },
  {
   "cell_type": "markdown",
   "id": "6b8c8a95",
   "metadata": {},
   "source": [
    "# Part-3"
   ]
  },
  {
   "cell_type": "code",
   "execution_count": 103,
   "id": "69a268e7",
   "metadata": {},
   "outputs": [
    {
     "data": {
      "image/png": "[encoded data removed]",
      "text/plain": [
       "<Figure size 432x432 with 1 Axes>"
      ]
     },
     "metadata": {
      "needs_background": "light"
     },
     "output_type": "display_data"
    }
   ],
   "source": [
    "import matplotlib.pyplot as plt\n",
    "from mpl_toolkits.mplot3d import Axes3D\n",
    "import numpy as np\n",
    "\n",
    "x = X3d[:,0]\n",
    "y = X3d[:,1]\n",
    "z = X3d[:,2]\n",
    "\n",
    "fig = plt.figure(figsize=(6, 6))\n",
    "ax = fig.add_subplot(111, projection='3d')\n",
    "ax.scatter(x, y, z)\n",
    "ax.scatter(centers[0][0], centers[0][1], centers[0][2],color='red',label='centroid1',s=100)\n",
    "ax.scatter(centers[1][0], centers[1][1], centers[1][2],color='green',label='centroid2',s=100)\n",
    "ax.scatter(centers[2][0], centers[2][1], centers[2][2],color='yellow',label='centroid3',s=100)\n",
    "plt.legend()\n",
    "plt.show()"
   ]
  },
  {
   "cell_type": "code",
   "execution_count": 17,
   "id": "1280aa48",
   "metadata": {},
   "outputs": [],
   "source": []
  },
  {
   "cell_type": "code",
   "execution_count": 13,
   "id": "98d41286",
   "metadata": {},
   "outputs": [
    {
     "data": {
      "text/plain": [
       "0.11499999999999999"
      ]
     },
     "execution_count": 13,
     "metadata": {},
     "output_type": "execute_result"
    }
   ],
   "source": [
    "get_Chebyshev_distance(X3d[0],X3d[1])"
   ]
  },
  {
   "cell_type": "code",
   "execution_count": null,
   "id": "47933623",
   "metadata": {},
   "outputs": [],
   "source": []
  },
  {
   "cell_type": "code",
   "execution_count": 5,
   "id": "51238251",
   "metadata": {},
   "outputs": [],
   "source": [
    "def Chebyshev_distance(datapoints, centers):\n",
    "    pass"
   ]
  },
  {
   "cell_type": "code",
   "execution_count": 6,
   "id": "08de6c90",
   "metadata": {},
   "outputs": [],
   "source": [
    "def update_cluster(clusters):\n",
    "    pass"
   ]
  },
  {
   "cell_type": "markdown",
   "id": "20643adb",
   "metadata": {},
   "source": [
    "Report the 3 cluster center values after 10 iterations"
   ]
  },
  {
   "cell_type": "code",
   "execution_count": null,
   "id": "8098288b",
   "metadata": {},
   "outputs": [],
   "source": [
    "X, y_true = make_blobs(n_samples=300, centers=3, cluster_std=0.60, random_state=0)"
   ]
  },
  {
   "cell_type": "markdown",
   "id": "388a76b1",
   "metadata": {},
   "source": [
    "Plot the data points and cluster centers"
   ]
  },
  {
   "cell_type": "code",
   "execution_count": null,
   "id": "e5efc52d",
   "metadata": {},
   "outputs": [],
   "source": [
    "X, y_true = make_blobs(n_samples=300, centers=4, cluster_std=0.60, random_state=0)"
   ]
  },
  {
   "cell_type": "code",
   "execution_count": null,
   "id": "f795ee06",
   "metadata": {},
   "outputs": [],
   "source": [
    "plt.scatter(X[:, 0], X[:, 1], s=50)"
   ]
  },
  {
   "cell_type": "markdown",
   "id": "d6045867",
   "metadata": {},
   "source": [
    "##  Parametric Classification\n"
   ]
  },
  {
   "cell_type": "code",
   "execution_count": 7,
   "id": "dd74cbff",
   "metadata": {},
   "outputs": [],
   "source": [
    "expo_dict = {0.1077:0,  0.2727:0  ,  0.4899:0 ,  0.386:0 , \n",
    "             0.0387:0,  0.0001:0 ,  0.4755:0 ,  0.1968:0 , \n",
    "              0.2202:0 ,  0.0629:0 ,  0.0719:0 ,  0.0466:0 , \n",
    "              0.5517:0 ,  0.2386:0 ,  0.0935:0 ,  0.0112:0 ,\n",
    "              0.1646:0 ,  0.124:0 ,  0.0586:0 ,  0.151:0 , \n",
    "              0.1238:0 ,  0.8702:0 ,  0.2902:0 ,  0.0186:0 ,\n",
    "              0.2464:0 ,  0.2152:1 ,  0.6798:1 ,  0.9737:1 , \n",
    "              0.4371:1 ,  0.1774:1 ,  0.3256:1 ,  0.1446:1 , \n",
    "              0.259:1 ,  0.3758:1 ,  0.0705:1 ,  0.2922:1 , \n",
    "              0.7107:1 ,  0.9259:1 ,  0.1786:1 ,  0.8671:1 , \n",
    "              0.7042:1 ,  0.3865:1 ,  0.2623:1 ,  0.3469:1 , \n",
    "              1.0398:1 ,  0.0368:1 ,  0.1405:1 ,  0.0416:1 , \n",
    "              0.3891:1 ,  0.3493:1 }  "
   ]
  },
  {
   "cell_type": "code",
   "execution_count": 8,
   "id": "60e9be89",
   "metadata": {},
   "outputs": [],
   "source": [
    "X  = [val for val in expo_dict.keys()]\n",
    "r1 = [1 if expo_dict[val] == 0 else 0 for val in expo_dict.keys()]\n",
    "r2 = [1 if expo_dict[val] == 1 else 0 for val in expo_dict.keys()]"
   ]
  },
  {
   "cell_type": "code",
   "execution_count": 9,
   "id": "ab6cb5df",
   "metadata": {},
   "outputs": [
    {
     "name": "stdout",
     "output_type": "stream",
     "text": [
      "dict_items([(0.1077, 0), (0.2727, 0), (0.4899, 0), (0.386, 0), (0.0387, 0), (0.0001, 0), (0.4755, 0), (0.1968, 0), (0.2202, 0), (0.0629, 0), (0.0719, 0), (0.0466, 0), (0.5517, 0), (0.2386, 0), (0.0935, 0), (0.0112, 0), (0.1646, 0), (0.124, 0), (0.0586, 0), (0.151, 0), (0.1238, 0), (0.8702, 0), (0.2902, 0), (0.0186, 0), (0.2464, 0), (0.2152, 1), (0.6798, 1), (0.9737, 1), (0.4371, 1), (0.1774, 1), (0.3256, 1), (0.1446, 1), (0.259, 1), (0.3758, 1), (0.0705, 1), (0.2922, 1), (0.7107, 1), (0.9259, 1), (0.1786, 1), (0.8671, 1), (0.7042, 1), (0.3865, 1), (0.2623, 1), (0.3469, 1), (1.0398, 1), (0.0368, 1), (0.1405, 1), (0.0416, 1), (0.3891, 1), (0.3493, 1)])\n"
     ]
    }
   ],
   "source": [
    "print(expo_dict.items())"
   ]
  },
  {
   "cell_type": "code",
   "execution_count": 10,
   "id": "2e267d10",
   "metadata": {},
   "outputs": [],
   "source": [
    "def lambda_estimate():\n",
    "    pass\n",
    "   "
   ]
  },
  {
   "cell_type": "code",
   "execution_count": 11,
   "id": "2a6b8490",
   "metadata": {},
   "outputs": [],
   "source": [
    "def discriminant():\n",
    "    pass\n",
    "    "
   ]
  },
  {
   "cell_type": "markdown",
   "id": "8ecefb91",
   "metadata": {},
   "source": [
    "#### Number of correctly classified instances"
   ]
  },
  {
   "cell_type": "code",
   "execution_count": 12,
   "id": "e4564bdf",
   "metadata": {},
   "outputs": [],
   "source": [
    "num_of_correct_classification  = 0"
   ]
  },
  {
   "cell_type": "code",
   "execution_count": 13,
   "id": "b4bfface",
   "metadata": {},
   "outputs": [
    {
     "name": "stdout",
     "output_type": "stream",
     "text": [
      "number of correctly classified instance : 0\n"
     ]
    }
   ],
   "source": [
    "print('number of correctly classified instance :', num_of_correct_classification)"
   ]
  },
  {
   "cell_type": "code",
   "execution_count": null,
   "id": "dbe7710a",
   "metadata": {},
   "outputs": [],
   "source": []
  },
  {
   "cell_type": "markdown",
   "id": "2ca2fe0d",
   "metadata": {},
   "source": [
    "1.\tConsider the following variant of k-means clustering algorithm: Input: x1, . . . , xn, k\n",
    "Step 1: Select k cluster centers c1, . . . , ck randomly.\n",
    "Step 2: For each point x, determine its cluster: find the closest center using Chebyshev distance. Step 3: Update all cluster centers as the centroids: ci = ∑{x∈cluster i} x .\n",
    "SizeO f (cluster i)\n",
    "Repeat Step 2, 3 until cluster centers no longer change\n",
    "where Chebyshev distance between point p = [p1, p2, . . . , pn] and q = [q1, q2, . . . , qn] can be defined as d(p, q) = maxi{|pi − qi|}. Given a data set (provided as X 3d – in the jupyter notebook– and initial cluster centres) with 3D data points, implement above k-means clustering algorithm, assuming k = 3.\n",
    "1.\t(Python) Print the cluster centres after each iteration.\n",
    "2.\t(Python) Report the cluster centres after 10 iterations.\n",
    "3.\t(Python) Plot the data points and cluster center.\n",
    "4.\t(Written) Should we remove the outliers before doing k-means clustering? Why?\n",
    "5.\t(Written) How is the effect of initialization of centroids in k-means algorithm?\n",
    "\n",
    "Beware! You cannot use any package to calculate k-means or Chebyshev distance. You are required to write your own function."
   ]
  },
  {
   "cell_type": "markdown",
   "id": "0851d1bb",
   "metadata": {},
   "source": [
    "- #4, Its not important, because anyway those outliers will become part of a separate cluster\n",
    "- #5, initialization of centroids is necessary to find the distances, whether we can take random centroids or we can take data points from within the datasset as centroids"
   ]
  },
  {
   "cell_type": "code",
   "execution_count": null,
   "id": "ff4b87d7",
   "metadata": {},
   "outputs": [],
   "source": []
  }
 ],
 "metadata": {
  "kernelspec": {
   "display_name": "Python 3 (ipykernel)",
   "language": "python",
   "name": "python3"
  },
  "language_info": {
   "codemirror_mode": {
    "name": "ipython",
    "version": 3
   },
   "file_extension": ".py",
   "mimetype": "text/x-python",
   "name": "python",
   "nbconvert_exporter": "python",
   "pygments_lexer": "ipython3",
   "version": "3.9.12"
  },
  "toc": {
   "base_numbering": 1,
   "nav_menu": {},
   "number_sections": true,
   "sideBar": true,
   "skip_h1_title": false,
   "title_cell": "Table of Contents",
   "title_sidebar": "Contents",
   "toc_cell": false,
   "toc_position": {},
   "toc_section_display": true,
   "toc_window_display": false
  }
 },
 "nbformat": 4,
 "nbformat_minor": 5
}
