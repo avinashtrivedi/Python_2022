{
 "cells": [
  {
   "cell_type": "code",
   "execution_count": 1,
   "metadata": {},
   "outputs": [
    {
     "name": "stdout",
     "output_type": "stream",
     "text": [
      "Enter pad: ABCDE\n",
      "Enter cipher: *$^@#\n",
      "Enter the message: EVERYBODY DANCE NOW\n",
      "Encrypted message: #V#RY$O@Y @*N^# NOW\n"
     ]
    }
   ],
   "source": [
    "# get the inputs\n",
    "pad = input(\"Enter pad: \")\n",
    "cipher = input(\"Enter cipher: \")\n",
    "message = input(\"Enter the message: \")\n",
    "\n",
    "# check if length is different for pad and cipher\n",
    "if len(pad)!= len(cipher):\n",
    "    print(\"pad and cipher are not congruent\")\n",
    "    \n",
    "# check if duplicate characters are there in pad or cipher\n",
    "elif len(set(pad))!=len(pad) or len(set(cipher))!=len(cipher):\n",
    "    print(\"Non-unique charachers detected in either pad and/or cipher\")\n",
    "    \n",
    "# encrypt the message\n",
    "else:   \n",
    "    # initially encrypted message is empty\n",
    "    encryped_message = ''\n",
    "\n",
    "    # iterate through the message and replace every character \n",
    "    # that are found in pad with corresponding characters in cipher.\n",
    "    for i in message:\n",
    "        if i in pad:\n",
    "            encryped_message = encryped_message + cipher[pad.index(i)]\n",
    "        else:\n",
    "            encryped_message = encryped_message + i\n",
    "    # print the encrypted message\n",
    "    print(\"Encrypted message:\",encryped_message)"
   ]
  },
  {
   "cell_type": "code",
   "execution_count": null,
   "metadata": {},
   "outputs": [],
   "source": []
  }
 ],
 "metadata": {
  "kernelspec": {
   "display_name": "Python 3",
   "language": "python",
   "name": "python3"
  },
  "language_info": {
   "codemirror_mode": {
    "name": "ipython",
    "version": 3
   },
   "file_extension": ".py",
   "mimetype": "text/x-python",
   "name": "python",
   "nbconvert_exporter": "python",
   "pygments_lexer": "ipython3",
   "version": "3.8.5"
  }
 },
 "nbformat": 4,
 "nbformat_minor": 4
}
