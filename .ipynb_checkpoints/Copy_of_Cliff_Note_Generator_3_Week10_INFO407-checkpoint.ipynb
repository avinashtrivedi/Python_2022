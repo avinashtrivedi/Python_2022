{
 "cells": [
  {
   "cell_type": "markdown",
   "metadata": {
    "id": "jNxwHPHIFC_W"
   },
   "source": [
    "## **Programming with Python for Data Science**\n",
    "\n",
    "\n",
    "###**Lesson: Cliff Note Generator** "
   ]
  },
  {
   "cell_type": "markdown",
   "metadata": {
    "id": "ZItgK3xMHeHC"
   },
   "source": [
    "## **Notebook Preparation for Lesson in 1•2 steps:**\n",
    "Each lesson will start with a similar template:  \n",
    "1. **save** the notebook to your google drive (copy to drive)<br/> ![](https://drive.google.com/uc?export=view&id=1NXb8jeYRc1yNCTz_duZdEpkm8uwRjOW5)\n",
    " \n",
    "2. **update** the NET_ID to be your netID (no need to include @illinois.edu)"
   ]
  },
  {
   "cell_type": "code",
   "execution_count": 2,
   "metadata": {
    "id": "mFNjvEMpHeHC"
   },
   "outputs": [],
   "source": [
    "LESSON_ID = 'p4ds:ds:cng3'   # keep this as is\n",
    "NET_ID    = 'salonis3' # CHANGE_ME to your netID (keep the quotes)"
   ]
  },
  {
   "cell_type": "markdown",
   "metadata": {
    "id": "rhVoRAvWPR0h"
   },
   "source": [
    "#**Lesson Cliff Note Generator**\n",
    "###**Computing**\n",
    "The computation stage within the data science pipeline is where you can finally do something useful to the data that you have been carefully preparing. Although it can involve visualizations, this stage is also about building models and doing analysis including pattern discovery, machine learning, etc. This stage usually requires the most creativity and hence is the most fun.\n",
    "\n",
    "Unfortunately for this example, the end goal is not too exciting -- it's only to build a 'table'. As we saw earlier, our goal is to produce the following table (words and numbers made up):\n",
    "```\n",
    "word,  count \n",
    "the,   400 \n",
    "Tom,   305 \n",
    "Polly, 206\n",
    "```\n",
    "However, once this table is built, we can easily use it for other analyses including visualizations (coming soon).\n",
    "\n",
    "###**Collections Module**\n",
    "Python has a set of useful containers to manage data in the collections module. Specifically, the Counter type is a great way to keep track of the counts of unique items. For example, here is a simple example:\n",
    "\n",
    "```\n",
    "1. import collections\n",
    "2. words = ['apple', 'pear', 'apple']\n",
    "3. counter = collections.Counter()\n",
    "4. for w in words:\n",
    "5.    counter[w] += 1\n",
    "6. print(counter.most_common())\n",
    "```\n",
    "\n",
    "The lines 3 to 5 can be replaced with a single line of code using collections ```counter = collections.Counter(words)```\n",
    "\n",
    "```\n",
    "1. import collections\n",
    "2. words = ['apple', 'pear', 'apple']\n",
    "3. counter = collections.Counter(words)\n",
    "4. print(counter.most_common())\n",
    "```"
   ]
  },
  {
   "cell_type": "code",
   "execution_count": null,
   "metadata": {
    "id": "Qcnm1UzrPR0s"
   },
   "outputs": [],
   "source": [
    "# type&run the above example/exercise in this cell"
   ]
  },
  {
   "cell_type": "markdown",
   "metadata": {
    "id": "nECRTbDhz-jp"
   },
   "source": [
    "Read (type, and run) that code carefully and make sure you understand the power and usage of collections.Counter(). It's a common pattern. \n",
    "\n",
    "See the [documentation](https://docs.python.org/3.7/library/collections.html#collections.Counter) for more details.\n",
    "\n",
    "###**Before you go, you should know:**\n",
    "\n",
    "* what the collections.Counter type is and why it's useful"
   ]
  },
  {
   "cell_type": "markdown",
   "metadata": {
    "id": "FIR9GT51PR0w"
   },
   "source": [
    "#**Lesson Assignment**\n",
    "There's not much content to this lesson other than to create the table of words and counts (which will be a list of tuples). The words are already parsed out for you (same as the previous lesson).\n",
    "\n",
    "###**Build the following three functions:**\n",
    "```\n",
    "def clean(words):\n",
    "  normalizes the words so that letter case is ignored\n",
    "  returns an array of 'cleaned' words\n",
    "```\n",
    "```\n",
    "def build_table(words):\n",
    "  builds a dictionary of counts\n",
    "  returns a Python dictionary or collections.Counter type\n",
    "```\n",
    "```\n",
    "def top_n(table, n):\n",
    "  returns the n most frequent words(keys) in table\n",
    "  the return type is an array of tuples\n",
    "  the tuple's first value is the word; the second value is the count\n",
    "```\n",
    "###**Notes:**\n",
    "the function top_n does not have to worry about the order of items for those words that have the same count. This feature is called stable sorting -- where the items after the sort will always be in the same order (more discussion in the extra credit). You can use collections.Counter to help you with this lesson, but it will NOT return a stable order.\n",
    "\n",
    "Be sure to test your pipeline on multiple texts. Each 'run' should not affect others:\n",
    "```\n",
    "v1 = list(pipeline(['a','b','c'], 5))\n",
    "v2 = list(pipeline(['a','b','c'], 5))\n",
    "print(v1 == v2)\n",
    "```"
   ]
  },
  {
   "cell_type": "code",
   "execution_count": 27,
   "metadata": {
    "id": "PXRlPRY6PR0z"
   },
   "outputs": [],
   "source": [
    "data = ['YOU', \"don't\", 'know', 'about', 'me', 'without', 'you', 'have', 'read', 'a', 'book', 'by', 'the', 'name', 'of', 'The', 'Adventures', 'of', 'Tom', 'Sawyer', 'but', 'that', \"ain't\", 'no', 'matter', 'That', 'book', 'was', 'made', 'by', 'Mr', 'Mark', 'Twain', 'and', 'he', 'told', 'the', 'truth', 'mainly', 'There', 'was', 'things', 'which', 'he', 'stretched', 'but', 'mainly', 'he', 'told', 'the', 'truth', 'That', 'is', 'nothing', 'I', 'never', 'seen', 'anybody', 'but', 'lied', 'one', 'time', 'or', 'another', 'without', 'it', 'was', 'Aunt', 'Polly', 'or', 'the', 'widow', 'or', 'maybe', 'Mary', 'Aunt', 'Polly', \"Tom's\", 'Aunt', 'Polly', 'she', 'is', 'and', 'Mary', 'and', 'the', 'Widow', 'Douglas', 'is', 'all', 'told', 'about', 'in', 'that', 'book', 'which', 'is', 'mostly', 'a', 'true', 'book', 'with', 'some', 'stretchers', 'as', 'I', 'said', 'before']\n",
    "import collections\n",
    "\n",
    "def clean(words):\n",
    "    normalize_words = [word.lower() for word in words]\n",
    "    return normalize_words\n",
    "  \n",
    "def build_table(words):\n",
    "    counter = collections.Counter(words)\n",
    "    return counter\n",
    "\n",
    "def top_n(table, n):\n",
    "    return table.most_common(n)\n",
    "\n",
    "def pipeline(tokens, n):\n",
    "    return top_n(build_table(clean(tokens)), n)"
   ]
  },
  {
   "cell_type": "markdown",
   "metadata": {
    "id": "AEBDTbFB1ThR"
   },
   "source": [
    "###**Extra Credit:**\n",
    "Solve the entire solution **without** using the collections module. Use a regular Python dictionary for all parts of the pipeline. You must create new functions but do not change the previous functions. Both versions of these functions will be evaluated separately.\n"
   ]
  },
  {
   "cell_type": "code",
   "execution_count": 28,
   "metadata": {
    "id": "Ttvp2K7TpgCj"
   },
   "outputs": [],
   "source": [
    "def clean2(words):\n",
    "    normalize_words = [word.lower() for word in words]\n",
    "    return normalize_words\n",
    "  \n",
    "def build_table2(words):\n",
    "    mydict = {}\n",
    "    for word in words:\n",
    "        if word not in mydict:\n",
    "            mydict[word] = 1\n",
    "        else:\n",
    "            mydict[word] = mydict[word] + 1\n",
    "    return mydict\n",
    "\n",
    "def top_n2(table, n):\n",
    "    return sorted(table.items(),key=lambda x:x[1],reverse=True)[:n]\n",
    "\n",
    "def pipeline2(tokens, n):\n",
    "    return top_n2(build_table2(clean2(tokens)), n)"
   ]
  },
  {
   "cell_type": "markdown",
   "metadata": {
    "id": "ZKlLzju9pgdV"
   },
   "source": [
    "You will change your implementation of your previous top_n so the top_n2 will do the following:\n",
    "\n",
    "* sorts the table (a dictionary) in reverse order.\n",
    "* the sorting criteria is the count (the 2nd value in the tuple)\n",
    "* returns a subset of the sorted data (use array slicing)\n",
    "* you must comment out any code that imports collections or the Counter\n",
    "* you should comment out any code that uses the collections module outside of any function\n",
    "\n",
    "The following is what you want to print out the top 20 words:\n",
    "```\n",
    "print(top_n2(build_table2(clean2(tokens)), 20))\n",
    "```\n",
    "```\n",
    "[\n",
    "('the', 6), ('book', 4), ('is', 4), \n",
    "('that', 4), ('and', 3), ('aunt', 3), \n",
    "('but', 3), ('he', 3), ('or', 3), \n",
    "('polly', 3), ('told', 3), ('was', 3), \n",
    "('a', 2), ('about', 2), ('by', 2), \n",
    "('i', 2), ('mainly', 2), ('mary', 2), \n",
    "('of', 2), ('truth', 2)]\n",
    "]\n",
    "```\n",
    "\n",
    "It's important to NOTE that the sort from this **must be stable**. A stable sort is one in which items are always returned in the same order. You wouldn't want one run of a sort to return a different order than another run.\n",
    "\n",
    "* the words with the highest counts come first\n",
    "* if there is a tie (e.g. 'book' has 4 and 'is' has 4) the two are returned in alphabetical order.\n",
    "* the collections.Counter type does not do this (your function is actually going to be better!)\n",
    "\n",
    "###**Extra Credit Hints:**\n",
    "* your helper function that you will pass to sort will accept a tuple. You will need to use both parts of the tuple to determine the sort order\n",
    "* the [following](https://www.peterbe.com/plog/in-python-you-sort-with-a-tuple) shows a good example of tuple sorting\n"
   ]
  },
  {
   "cell_type": "markdown",
   "metadata": {
    "id": "iK3nW5e5PR1B"
   },
   "source": [
    "##**Submission**\n",
    "\n",
    "After implementing all the functions and testing them please download the notebook as \"solution.py\" and submit to gradescope under \"Week10: DS: CNG_computing\" assignment tab and Moodle.\n",
    "\n",
    "**NOTES**\n",
    "\n",
    "* Be sure to use the function names and parameter names as given. \n",
    "* DONOT use your own function or parameter names. \n",
    "* Your file MUST be named \"solution.py\". \n",
    "* Comment out any lines of code and/or function calls to those functions that produce errors. If your solution has errors, then you have to work on them but if there were any errors in the examples/exercies then comment them before submitting to Gradescope.\n",
    "* Grading cannot be performed if any of these are violated."
   ]
  }
 ],
 "metadata": {
  "colab": {
   "collapsed_sections": [],
   "name": "Copy of Cliff Note Generator_3_Week10_INFO407",
   "provenance": []
  },
  "kernelspec": {
   "display_name": "Python 3 (ipykernel)",
   "language": "python",
   "name": "python3"
  },
  "language": "python",
  "language_info": {
   "codemirror_mode": {
    "name": "ipython",
    "version": 3
   },
   "file_extension": ".py",
   "mimetype": "text/x-python",
   "name": "python",
   "nbconvert_exporter": "python",
   "pygments_lexer": "ipython3",
   "version": "3.8.5"
  },
  "story": {
   "auth_token": "OrasmFjRy-tu4aVGMJ7SaPq5XGUkB6fxyD7DH3XLfqo=",
   "authorship_tag": "AB",
   "chapters": 10,
   "name": "Cliff Note Generator",
   "parser": {},
   "root": "https://github.com/habermanUIUC/CodeStories-lessons/blob/main/lessons/p4ds/ds/cng3",
   "tag": "p4ds:ds:cng3"
  }
 },
 "nbformat": 4,
 "nbformat_minor": 1
}
