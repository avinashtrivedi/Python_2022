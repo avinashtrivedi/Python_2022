{
 "cells": [
  {
   "cell_type": "code",
   "execution_count": 1,
   "id": "69cf95cd",
   "metadata": {},
   "outputs": [
    {
     "name": "stdout",
     "output_type": "stream",
     "text": [
      "Overwriting add_data_to_json.py\n"
     ]
    }
   ],
   "source": [
    "%%writefile add_data_to_json.py\n",
    "\n",
    "import json\n",
    "import sys\n",
    "import os\n",
    "\n",
    "try:\n",
    "    org = sys.argv[1]\n",
    "    app = sys.argv[2]\n",
    "    stg = sys.argv[3]\n",
    "    version = sys.argv[4]\n",
    "    build_time = sys.argv[5]\n",
    "    json_file = sys.argv[6]\n",
    "\n",
    "    json_path = json_file #os.path.join(\"Deployment-registry\",org,app,stg,json_file)\n",
    "\n",
    "    \n",
    "    # exist\n",
    "    if os.path.exists(json_path):\n",
    "        with open(json_path, 'r') as fp:\n",
    "            deployment_data = json.load(fp)\n",
    "            \n",
    "    else:\n",
    "        with open(json_path, 'w') as fp:\n",
    "            json.dump({}, fp)\n",
    "            \n",
    "        with open(json_path, 'r') as fp:\n",
    "            deployment_data = json.load(fp)\n",
    "            \n",
    "    data_to_append = {\"version\":version,\"build_time\":build_time}\n",
    "\n",
    "    deployment_data['image'].append(data_to_append)\n",
    "\n",
    "    with open(json_path, 'w') as fp:\n",
    "        json.dump(deployment_data, fp)\n",
    "        \n",
    "except:\n",
    "    print('wrong input sequence')"
   ]
  },
  {
   "cell_type": "code",
   "execution_count": 21,
   "id": "04b015b6",
   "metadata": {},
   "outputs": [
    {
     "data": {
      "text/plain": [
       "{'ecr_repository': 'org ',\n",
       " 'image': [{'version': '9da84dk', 'build_time': '0915-05102022'},\n",
       "  {'version': '9da84dk', 'build_time': '0615-05102022'},\n",
       "  {'version': '9da84dk', 'build_time': '0515-05102022'},\n",
       "  {'version': '9da84dk', 'build_time': '0415-05102022'},\n",
       "  {'version': '9da84dk', 'build_time': '0312-05102022'},\n",
       "  {}]}"
      ]
     },
     "execution_count": 21,
     "metadata": {},
     "output_type": "execute_result"
    }
   ],
   "source": [
    "deployment_data "
   ]
  },
  {
   "cell_type": "code",
   "execution_count": 28,
   "id": "39818628",
   "metadata": {},
   "outputs": [],
   "source": [
    "import pyspark"
   ]
  },
  {
   "cell_type": "code",
   "execution_count": 30,
   "id": "f1d08924",
   "metadata": {},
   "outputs": [
    {
     "data": {
      "text/plain": [
       "'3.3.1'"
      ]
     },
     "execution_count": 30,
     "metadata": {},
     "output_type": "execute_result"
    }
   ],
   "source": [
    "pyspark.__version__"
   ]
  },
  {
   "cell_type": "code",
   "execution_count": null,
   "id": "f29af270",
   "metadata": {},
   "outputs": [],
   "source": [
    "add_data_to_json.py  org  app-2  staging k7u9su33 0915-05102022  deployment.json"
   ]
  },
  {
   "cell_type": "code",
   "execution_count": null,
   "id": "905f204b",
   "metadata": {},
   "outputs": [],
   "source": []
  },
  {
   "cell_type": "code",
   "execution_count": 4,
   "id": "51edc935",
   "metadata": {},
   "outputs": [],
   "source": [
    "import json"
   ]
  },
  {
   "cell_type": "code",
   "execution_count": 5,
   "id": "dc22f484",
   "metadata": {},
   "outputs": [],
   "source": [
    "with open('deployment.json', 'r') as fp:\n",
    "    deployment_data = json.load(fp)"
   ]
  },
  {
   "cell_type": "code",
   "execution_count": 9,
   "id": "d737b17e",
   "metadata": {},
   "outputs": [],
   "source": [
    "deployment_data['ecr_repository'] = 'org'\n",
    "deployment_data['image'] = []"
   ]
  },
  {
   "cell_type": "code",
   "execution_count": null,
   "id": "355adb65",
   "metadata": {},
   "outputs": [],
   "source": []
  },
  {
   "cell_type": "code",
   "execution_count": null,
   "id": "e0278235",
   "metadata": {},
   "outputs": [],
   "source": []
  },
  {
   "cell_type": "code",
   "execution_count": 7,
   "id": "eae97486",
   "metadata": {},
   "outputs": [],
   "source": [
    "d = {\"ecr_repository\": \"org \", \"image\": [{\"version\": \"9da84dk\", \"build_time\": \"0915-05102022\"}, {\"version\": \"9da84dk\", \"build_time\": \"0615-05102022\"}, {\"version\": \"9da84dk\", \"build_time\": \"0515-05102022\"}, {\"version\": \"9da84dk\", \"build_time\": \"0415-05102022\"}, {\"version\": \"9da84dk\", \"build_time\": \"0312-05102022\"}, {\"version\": \"k7u9su33\", \"build_time\": \"0915-05102022\"}]}"
   ]
  },
  {
   "cell_type": "code",
   "execution_count": 13,
   "id": "80219982",
   "metadata": {},
   "outputs": [
    {
     "data": {
      "text/plain": [
       "{'ecr_repository': 'org ',\n",
       " 'image': [{'version': '9da84dk', 'build_time': '0915-05102022'},\n",
       "  {'version': '9da84dk', 'build_time': '0615-05102022'},\n",
       "  {'version': '9da84dk', 'build_time': '0515-05102022'},\n",
       "  {'version': '9da84dk', 'build_time': '0415-05102022'},\n",
       "  {'version': '9da84dk', 'build_time': '0312-05102022'},\n",
       "  {'version': 'k7u9su33', 'build_time': '0915-05102022'}]}"
      ]
     },
     "execution_count": 13,
     "metadata": {},
     "output_type": "execute_result"
    }
   ],
   "source": [
    "d"
   ]
  },
  {
   "cell_type": "code",
   "execution_count": 14,
   "id": "270358cc",
   "metadata": {},
   "outputs": [
    {
     "data": {
      "text/plain": [
       "{'ecr_repository': 'org', 'image': []}"
      ]
     },
     "execution_count": 14,
     "metadata": {},
     "output_type": "execute_result"
    }
   ],
   "source": [
    "deployment_data"
   ]
  },
  {
   "cell_type": "code",
   "execution_count": null,
   "id": "1892ceaa",
   "metadata": {},
   "outputs": [],
   "source": []
  },
  {
   "cell_type": "code",
   "execution_count": 15,
   "id": "1a22c711",
   "metadata": {},
   "outputs": [],
   "source": [
    "import os"
   ]
  },
  {
   "cell_type": "code",
   "execution_count": 17,
   "id": "2a5fc7f1",
   "metadata": {},
   "outputs": [
    {
     "data": {
      "text/plain": [
       "True"
      ]
     },
     "execution_count": 17,
     "metadata": {},
     "output_type": "execute_result"
    }
   ],
   "source": [
    "os.path.exists('deployment.json')"
   ]
  },
  {
   "cell_type": "code",
   "execution_count": null,
   "id": "beb2df23",
   "metadata": {},
   "outputs": [],
   "source": []
  },
  {
   "cell_type": "code",
   "execution_count": null,
   "id": "92df5618",
   "metadata": {},
   "outputs": [],
   "source": [
    "with open(json_path, 'w') as fp:\n",
    "        json.dump(deployment_data, fp)"
   ]
  }
 ],
 "metadata": {
  "kernelspec": {
   "display_name": "Python 3 (ipykernel)",
   "language": "python",
   "name": "python3"
  },
  "language_info": {
   "codemirror_mode": {
    "name": "ipython",
    "version": 3
   },
   "file_extension": ".py",
   "mimetype": "text/x-python",
   "name": "python",
   "nbconvert_exporter": "python",
   "pygments_lexer": "ipython3",
   "version": "3.9.12"
  }
 },
 "nbformat": 4,
 "nbformat_minor": 5
}
