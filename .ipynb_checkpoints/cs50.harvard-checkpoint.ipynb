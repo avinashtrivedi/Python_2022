{
 "cells": [
  {
   "cell_type": "code",
   "execution_count": 11,
   "metadata": {},
   "outputs": [
    {
     "name": "stdout",
     "output_type": "stream",
     "text": [
      "Height: 5\n",
      "    * *\n",
      "   ** **\n",
      "  *** ***\n",
      " **** ****\n",
      "***** *****\n"
     ]
    }
   ],
   "source": [
    "# Question: https://cs50.harvard.edu/x/2021/psets/6/mario/more/\n",
    "\n",
    "n = int(input('Height: '))\n",
    "try: \n",
    "    for i in range(1,n+1):\n",
    "        left = (n-i)*' ' + i*'*'\n",
    "        right = i*'*'\n",
    "        print(left+' '+right)\n",
    "except:\n",
    "    print('Wrong Height, Please enter a num')"
   ]
  },
  {
   "cell_type": "code",
   "execution_count": 25,
   "metadata": {},
   "outputs": [],
   "source": [
    "# Question https://cs50.harvard.edu/x/2021/psets/2/caesar/\n",
    "\n",
    "import string\n",
    "sl = string.ascii_lowercase\n",
    "ul = string.ascii_uppercase\n",
    "plain = input('plaintext: ')\n",
    "key = int(input('Key: '))\n",
    "cletter = list(sl)\n",
    "uletter = list(ul)\n",
    "cipher = ''\n",
    "for i in plain:\n",
    "    if i.lower() in cletter:\n",
    "        indx = letter.index(i.lower())\n",
    "        ci = (indx + key) % 26\n",
    "        cipher = cipher + (cletter[ci] if i.islower() else uletter[ci])\n",
    "    else:\n",
    "        cipher = cipher + i\n",
    "print('cipher:',cipher)"
   ]
  },
  {
   "cell_type": "code",
   "execution_count": 60,
   "metadata": {},
   "outputs": [
    {
     "name": "stdout",
     "output_type": "stream",
     "text": [
      "substitution: VCHPRZGJNTLSKFBDQWAXEUYMOI\n",
      "plaintext: hello, world\n",
      "ciphertext: jrssb, ybwsp\n"
     ]
    }
   ],
   "source": [
    "# https://cs50.harvard.edu/x/2021/psets/2/substitution/\n",
    "\n",
    "import string\n",
    "sl = string.ascii_lowercase\n",
    "# ul = string.ascii_uppercase\n",
    "\n",
    "subs = input('substitution: ')\n",
    "\n",
    "if len(subs)==26:\n",
    "    plaintext = input('plaintext: ')\n",
    "    ciphertext = ''\n",
    "    for i in range(len(plaintext)):\n",
    "        if plaintext[i].lower() in sl:\n",
    "            replacement_char = subs[sl.index(plaintext[i].lower())]\n",
    "            ciphertext = ciphertext + (replacement_char.lower() if plaintext[i].islower() else replacement_char)\n",
    "        else:\n",
    "            ciphertext = ciphertext + plaintext[i]\n",
    "\n",
    "else:\n",
    "    print('Key must contain 26 characters.')\n",
    "\n",
    "print('ciphertext:',ciphertext)"
   ]
  },
  {
   "cell_type": "code",
   "execution_count": null,
   "metadata": {},
   "outputs": [],
   "source": []
  }
 ],
 "metadata": {
  "kernelspec": {
   "display_name": "Python 3",
   "language": "python",
   "name": "python3"
  },
  "language_info": {
   "codemirror_mode": {
    "name": "ipython",
    "version": 3
   },
   "file_extension": ".py",
   "mimetype": "text/x-python",
   "name": "python",
   "nbconvert_exporter": "python",
   "pygments_lexer": "ipython3",
   "version": "3.8.5"
  }
 },
 "nbformat": 4,
 "nbformat_minor": 4
}
