{
 "cells": [
  {
   "cell_type": "code",
   "execution_count": 7,
   "id": "f921cb24",
   "metadata": {},
   "outputs": [],
   "source": [
    "# %matplotlib inline\n",
    "import requests,pandas as pd\n",
    " \n",
    "# with open('census_key.txt') as key:\n",
    "#     api_key=key.read().strip()\n",
    " \n",
    "# # dsource='pep'\n",
    "# # dname='components'\n",
    "# # cols='GEONAME,NATURALINC,DOMESTICMIG,INTERNATIONALMIG'\n",
    "# # state='42'\n",
    "# # county='017,029,045,091,101'"
   ]
  },
  {
   "cell_type": "code",
   "execution_count": 8,
   "id": "a2498624",
   "metadata": {},
   "outputs": [],
   "source": [
    "import requests,pandas as pd\n",
    "key = \"b44a717454cbc7e73e506d3ded98c18e01ffe7d7\"\n",
    "url = f\"api.census.gov/data/2018/abscb?get=GEO_ID,NAME,NAICS2017,NAICS2017_LABEL,SEX,SEX_LABEL,ETH_GROUP,ETH_GROUP_LABEL,RACE_GROUP,RACE_GROUP_LABEL,VET_GROUP,VET_GROUP_LABEL,QDESC,QDESC_LABEL,BUSCHAR,BUSCHAR_LABEL,YEAR,FIRMPDEMP,FIRMPDEMP_F,FIRMPDEMP_PCT,FIRMPDEMP_PCT_F,RCPPDEMP,RCPPDEMP_F,RCPPDEMP_PCT,RCPPDEMP_PCT_F,EMP,EMP_F,EMP_PCT,EMP_PCT_F,PAYANN,PAYANN_F,PAYANN_PCT,PAYANN_PCT_F,FIRMPDEMP_S,FIRMPDEMP_S_F,FIRMPDEMP_PCT_S,FIRMPDEMP_PCT_S_F,RCPPDEMP_S,RCPPDEMP_S_F,RCPPDEMP_PCT_S,RCPPDEMP_PCT_S_F,EMP_S,EMP_S_F,EMP_PCT_S,EMP_PCT_S_F,PAYANN_S,PAYANN_S_F,PAYANN_PCT_S,PAYANN_PCT_S_F&for=us:*&QDESC_LABEL=SPOUSES&key={key}\""
   ]
  },
  {
   "cell_type": "code",
   "execution_count": 15,
   "id": "a2feb3b9",
   "metadata": {},
   "outputs": [
    {
     "ename": "InvalidSchema",
     "evalue": "No connection adapters were found for 'api.census.gov/data/2018/abscb?get=GEO_ID,NAME,NAICS2017,NAICS2017_LABEL,SEX,SEX_LABEL,ETH_GROUP,ETH_GROUP_LABEL,RACE_GROUP,RACE_GROUP_LABEL,VET_GROUP,VET_GROUP_LABEL,QDESC,QDESC_LABEL,BUSCHAR,BUSCHAR_LABEL,YEAR,FIRMPDEMP,FIRMPDEMP_F,FIRMPDEMP_PCT,FIRMPDEMP_PCT_F,RCPPDEMP,RCPPDEMP_F,RCPPDEMP_PCT,RCPPDEMP_PCT_F,EMP,EMP_F,EMP_PCT,EMP_PCT_F,PAYANN,PAYANN_F,PAYANN_PCT,PAYANN_PCT_F,FIRMPDEMP_S,FIRMPDEMP_S_F,FIRMPDEMP_PCT_S,FIRMPDEMP_PCT_S_F,RCPPDEMP_S,RCPPDEMP_S_F,RCPPDEMP_PCT_S,RCPPDEMP_PCT_S_F,EMP_S,EMP_S_F,EMP_PCT_S,EMP_PCT_S_F,PAYANN_S,PAYANN_S_F,PAYANN_PCT_S,PAYANN_PCT_S_F&for=us:*&QDESC_LABEL=SPOUSES&key=b44a717454cbc7e73e506d3ded98c18e01ffe7d7'",
     "output_type": "error",
     "traceback": [
      "\u001b[1;31m---------------------------------------------------------------------------\u001b[0m",
      "\u001b[1;31mInvalidSchema\u001b[0m                             Traceback (most recent call last)",
      "Input \u001b[1;32mIn [15]\u001b[0m, in \u001b[0;36m<cell line: 1>\u001b[1;34m()\u001b[0m\n\u001b[1;32m----> 1\u001b[0m response\u001b[38;5;241m=\u001b[39m\u001b[43mrequests\u001b[49m\u001b[38;5;241;43m.\u001b[39;49m\u001b[43mget\u001b[49m\u001b[43m(\u001b[49m\u001b[43murl\u001b[49m\u001b[43m)\u001b[49m\n\u001b[0;32m      2\u001b[0m \u001b[38;5;28mprint\u001b[39m(response\u001b[38;5;241m.\u001b[39mtext)\n",
      "File \u001b[1;32m~\\anaconda3\\lib\\site-packages\\requests\\api.py:75\u001b[0m, in \u001b[0;36mget\u001b[1;34m(url, params, **kwargs)\u001b[0m\n\u001b[0;32m     64\u001b[0m \u001b[38;5;28;01mdef\u001b[39;00m \u001b[38;5;21mget\u001b[39m(url, params\u001b[38;5;241m=\u001b[39m\u001b[38;5;28;01mNone\u001b[39;00m, \u001b[38;5;241m*\u001b[39m\u001b[38;5;241m*\u001b[39mkwargs):\n\u001b[0;32m     65\u001b[0m     \u001b[38;5;124mr\u001b[39m\u001b[38;5;124;03m\"\"\"Sends a GET request.\u001b[39;00m\n\u001b[0;32m     66\u001b[0m \n\u001b[0;32m     67\u001b[0m \u001b[38;5;124;03m    :param url: URL for the new :class:`Request` object.\u001b[39;00m\n\u001b[1;32m   (...)\u001b[0m\n\u001b[0;32m     72\u001b[0m \u001b[38;5;124;03m    :rtype: requests.Response\u001b[39;00m\n\u001b[0;32m     73\u001b[0m \u001b[38;5;124;03m    \"\"\"\u001b[39;00m\n\u001b[1;32m---> 75\u001b[0m     \u001b[38;5;28;01mreturn\u001b[39;00m \u001b[43mrequest\u001b[49m\u001b[43m(\u001b[49m\u001b[38;5;124;43m'\u001b[39;49m\u001b[38;5;124;43mget\u001b[39;49m\u001b[38;5;124;43m'\u001b[39;49m\u001b[43m,\u001b[49m\u001b[43m \u001b[49m\u001b[43murl\u001b[49m\u001b[43m,\u001b[49m\u001b[43m \u001b[49m\u001b[43mparams\u001b[49m\u001b[38;5;241;43m=\u001b[39;49m\u001b[43mparams\u001b[49m\u001b[43m,\u001b[49m\u001b[43m \u001b[49m\u001b[38;5;241;43m*\u001b[39;49m\u001b[38;5;241;43m*\u001b[39;49m\u001b[43mkwargs\u001b[49m\u001b[43m)\u001b[49m\n",
      "File \u001b[1;32m~\\anaconda3\\lib\\site-packages\\requests\\api.py:61\u001b[0m, in \u001b[0;36mrequest\u001b[1;34m(method, url, **kwargs)\u001b[0m\n\u001b[0;32m     57\u001b[0m \u001b[38;5;66;03m# By using the 'with' statement we are sure the session is closed, thus we\u001b[39;00m\n\u001b[0;32m     58\u001b[0m \u001b[38;5;66;03m# avoid leaving sockets open which can trigger a ResourceWarning in some\u001b[39;00m\n\u001b[0;32m     59\u001b[0m \u001b[38;5;66;03m# cases, and look like a memory leak in others.\u001b[39;00m\n\u001b[0;32m     60\u001b[0m \u001b[38;5;28;01mwith\u001b[39;00m sessions\u001b[38;5;241m.\u001b[39mSession() \u001b[38;5;28;01mas\u001b[39;00m session:\n\u001b[1;32m---> 61\u001b[0m     \u001b[38;5;28;01mreturn\u001b[39;00m \u001b[43msession\u001b[49m\u001b[38;5;241;43m.\u001b[39;49m\u001b[43mrequest\u001b[49m\u001b[43m(\u001b[49m\u001b[43mmethod\u001b[49m\u001b[38;5;241;43m=\u001b[39;49m\u001b[43mmethod\u001b[49m\u001b[43m,\u001b[49m\u001b[43m \u001b[49m\u001b[43murl\u001b[49m\u001b[38;5;241;43m=\u001b[39;49m\u001b[43murl\u001b[49m\u001b[43m,\u001b[49m\u001b[43m \u001b[49m\u001b[38;5;241;43m*\u001b[39;49m\u001b[38;5;241;43m*\u001b[39;49m\u001b[43mkwargs\u001b[49m\u001b[43m)\u001b[49m\n",
      "File \u001b[1;32m~\\anaconda3\\lib\\site-packages\\requests\\sessions.py:529\u001b[0m, in \u001b[0;36mSession.request\u001b[1;34m(self, method, url, params, data, headers, cookies, files, auth, timeout, allow_redirects, proxies, hooks, stream, verify, cert, json)\u001b[0m\n\u001b[0;32m    524\u001b[0m send_kwargs \u001b[38;5;241m=\u001b[39m {\n\u001b[0;32m    525\u001b[0m     \u001b[38;5;124m'\u001b[39m\u001b[38;5;124mtimeout\u001b[39m\u001b[38;5;124m'\u001b[39m: timeout,\n\u001b[0;32m    526\u001b[0m     \u001b[38;5;124m'\u001b[39m\u001b[38;5;124mallow_redirects\u001b[39m\u001b[38;5;124m'\u001b[39m: allow_redirects,\n\u001b[0;32m    527\u001b[0m }\n\u001b[0;32m    528\u001b[0m send_kwargs\u001b[38;5;241m.\u001b[39mupdate(settings)\n\u001b[1;32m--> 529\u001b[0m resp \u001b[38;5;241m=\u001b[39m \u001b[38;5;28;43mself\u001b[39;49m\u001b[38;5;241;43m.\u001b[39;49m\u001b[43msend\u001b[49m\u001b[43m(\u001b[49m\u001b[43mprep\u001b[49m\u001b[43m,\u001b[49m\u001b[43m \u001b[49m\u001b[38;5;241;43m*\u001b[39;49m\u001b[38;5;241;43m*\u001b[39;49m\u001b[43msend_kwargs\u001b[49m\u001b[43m)\u001b[49m\n\u001b[0;32m    531\u001b[0m \u001b[38;5;28;01mreturn\u001b[39;00m resp\n",
      "File \u001b[1;32m~\\anaconda3\\lib\\site-packages\\requests\\sessions.py:639\u001b[0m, in \u001b[0;36mSession.send\u001b[1;34m(self, request, **kwargs)\u001b[0m\n\u001b[0;32m    636\u001b[0m hooks \u001b[38;5;241m=\u001b[39m request\u001b[38;5;241m.\u001b[39mhooks\n\u001b[0;32m    638\u001b[0m \u001b[38;5;66;03m# Get the appropriate adapter to use\u001b[39;00m\n\u001b[1;32m--> 639\u001b[0m adapter \u001b[38;5;241m=\u001b[39m \u001b[38;5;28;43mself\u001b[39;49m\u001b[38;5;241;43m.\u001b[39;49m\u001b[43mget_adapter\u001b[49m\u001b[43m(\u001b[49m\u001b[43murl\u001b[49m\u001b[38;5;241;43m=\u001b[39;49m\u001b[43mrequest\u001b[49m\u001b[38;5;241;43m.\u001b[39;49m\u001b[43murl\u001b[49m\u001b[43m)\u001b[49m\n\u001b[0;32m    641\u001b[0m \u001b[38;5;66;03m# Start time (approximately) of the request\u001b[39;00m\n\u001b[0;32m    642\u001b[0m start \u001b[38;5;241m=\u001b[39m preferred_clock()\n",
      "File \u001b[1;32m~\\anaconda3\\lib\\site-packages\\requests\\sessions.py:732\u001b[0m, in \u001b[0;36mSession.get_adapter\u001b[1;34m(self, url)\u001b[0m\n\u001b[0;32m    729\u001b[0m         \u001b[38;5;28;01mreturn\u001b[39;00m adapter\n\u001b[0;32m    731\u001b[0m \u001b[38;5;66;03m# Nothing matches :-/\u001b[39;00m\n\u001b[1;32m--> 732\u001b[0m \u001b[38;5;28;01mraise\u001b[39;00m InvalidSchema(\u001b[38;5;124m\"\u001b[39m\u001b[38;5;124mNo connection adapters were found for \u001b[39m\u001b[38;5;132;01m{!r}\u001b[39;00m\u001b[38;5;124m\"\u001b[39m\u001b[38;5;241m.\u001b[39mformat(url))\n",
      "\u001b[1;31mInvalidSchema\u001b[0m: No connection adapters were found for 'api.census.gov/data/2018/abscb?get=GEO_ID,NAME,NAICS2017,NAICS2017_LABEL,SEX,SEX_LABEL,ETH_GROUP,ETH_GROUP_LABEL,RACE_GROUP,RACE_GROUP_LABEL,VET_GROUP,VET_GROUP_LABEL,QDESC,QDESC_LABEL,BUSCHAR,BUSCHAR_LABEL,YEAR,FIRMPDEMP,FIRMPDEMP_F,FIRMPDEMP_PCT,FIRMPDEMP_PCT_F,RCPPDEMP,RCPPDEMP_F,RCPPDEMP_PCT,RCPPDEMP_PCT_F,EMP,EMP_F,EMP_PCT,EMP_PCT_F,PAYANN,PAYANN_F,PAYANN_PCT,PAYANN_PCT_F,FIRMPDEMP_S,FIRMPDEMP_S_F,FIRMPDEMP_PCT_S,FIRMPDEMP_PCT_S_F,RCPPDEMP_S,RCPPDEMP_S_F,RCPPDEMP_PCT_S,RCPPDEMP_PCT_S_F,EMP_S,EMP_S_F,EMP_PCT_S,EMP_PCT_S_F,PAYANN_S,PAYANN_S_F,PAYANN_PCT_S,PAYANN_PCT_S_F&for=us:*&QDESC_LABEL=SPOUSES&key=b44a717454cbc7e73e506d3ded98c18e01ffe7d7'"
     ]
    }
   ],
   "source": [
    "response=requests.get(url)\n",
    "print(response.text)"
   ]
  },
  {
   "cell_type": "code",
   "execution_count": 14,
   "id": "cdabba2a",
   "metadata": {},
   "outputs": [
    {
     "data": {
      "text/plain": [
       "<Response [200]>"
      ]
     },
     "execution_count": 14,
     "metadata": {},
     "output_type": "execute_result"
    }
   ],
   "source": [
    "response"
   ]
  },
  {
   "cell_type": "code",
   "execution_count": null,
   "id": "fc9b5050",
   "metadata": {},
   "outputs": [],
   "source": [
    "from datetime import datetime\n",
    "\n",
    "import requests\n",
    "from requests.structures import CaseInsensitiveDict\n",
    "from shapely.geometry.multipolygon import MultiPolygon\n",
    "from shapely.geometry.polygon import Polygon\n",
    "from shapely.ops import unary_union\n",
    "\n",
    "#\n",
    "def get_travel_time_polygon(lat, lon, travel_time):\n",
    "    \"\"\"\n",
    "    lat: float latitude\n",
    "    lon: float longitude\n",
    "    travel_time: int seconds\n",
    "    \"\"\"\n",
    "    url = \"https://api.traveltimeapp.com/v4/time-map\"\n",
    "    now = datetime.now().strftime(\"%Y-%m-%dT%H:%M:%SZ\")\n",
    "    headers = CaseInsensitiveDict()\n",
    "    headers[\"Content-Type\"] = \"application/json\"\n",
    "    headers[\"Accept\"] = \"application/geo+json\"\n",
    "    headers[\"X-Application-Id\"] = \"24d60183\"\n",
    "    headers[\"X-Api-Key\"] = \"b714d241b473477419cde4d3718febd5\"\n",
    "    data = \"\"\"\n",
    "    {\n",
    "      \"departure_searches\": [\n",
    "        {\n",
    "          \"id\": \"GeoJSON_Test\",\n",
    "          \"coords\": {\n",
    "            \"lat\": %f,\n",
    "            \"lng\": %f\n",
    "          },\n",
    "          \"transportation\": {\n",
    "            \"type\": \"driving\"\n",
    "          },\n",
    "          \"departure_time\": \"%s\",\n",
    "          \"travel_time\": %d\n",
    "          }\n",
    "      ]}\n",
    "    \"\"\" % (lat, lon, now, travel_time)\n",
    "\n",
    "    resp = requests.post(url, headers=headers, data=data)\n",
    "    return resp.json()\n",
    "\n",
    "\n",
    "# def get_travel_time_polygon_v2(lat, lon, sec, m):\n",
    "#     data = {\"locations\": [[lon, lat]],\n",
    "#             \"range\": [sec, m]\n",
    "#             }\n",
    "#\n",
    "#     headers = {\n",
    "#         'Accept': 'application/json, application/geo+json, application/gpx+xml, img/png; charset=utf-8',\n",
    "#         'Authorization': '5b3ce3597851110001cf624853d3c5c996914e49a3ce4c388a39116b',\n",
    "#         'Content-Type': 'application/json; charset=utf-8'\n",
    "#     }\n",
    "#     resp = requests.post('https://api.openrouteservice.org/v2/isochrones/driving-car', json=data, headers=headers)\n",
    "#\n",
    "#     # print(resp.status_code, resp.reason)\n",
    "#     # print(resp.text)\n",
    "#     v2 = resp.json()\n",
    "#     coordinates = [v2['features'][0]['geometry']['coordinates']]\n",
    "#     resp = {'features': [v2['features'][0]],\n",
    "#             'type': v2['type']}\n",
    "#     resp['features'][0]['geometry']['coordinates'] = coordinates\n",
    "#\n",
    "#     return resp\n",
    "\n",
    "# def get_travel_time_polygon_v2(lat, lon, travel_time):\n",
    "#     data = {\"locations\": [[lon, lat]],\n",
    "#             \"range\": [travel_time]\n",
    "#             }\n",
    "#\n",
    "#     headers = {\n",
    "#         'Accept': 'application/json, application/geo+json, application/gpx+xml, img/png; charset=utf-8',\n",
    "#         'Authorization': '5b3ce3597851110001cf624853d3c5c996914e49a3ce4c388a39116b',\n",
    "#         'Content-Type': 'application/json; charset=utf-8'\n",
    "#     }\n",
    "#     resp = requests.post('https://api.openrouteservice.org/v2/isochrones/driving-car', json=data, headers=headers)\n",
    "#\n",
    "#     # print(resp.status_code, resp.reason)\n",
    "#     # print(resp.text)\n",
    "#\n",
    "#     # Convert json response to match api.traveltimeapp\n",
    "#     v2 = resp.json()\n",
    "#     coordinates = [v2['features'][0]['geometry']['coordinates']]\n",
    "#     resp = {'features': [v2['features'][0]],\n",
    "#             'type': v2['type']}\n",
    "#     resp['features'][0]['geometry']['coordinates'] = coordinates\n",
    "#\n",
    "#     return resp\n",
    "#\n",
    "def get_travel_time_polygon_v2(lat, lon, travel_time):\n",
    "    \"\"\"\n",
    "        lat: float latitude\n",
    "        lon: float longitude\n",
    "        travel_time: int seconds\n",
    "        \"\"\"\n",
    "    data = {\"locations\": [[lon, lat]],\n",
    "            \"range\": [travel_time],\n",
    "            \"intersections\": \"true\"\n",
    "            }\n",
    "\n",
    "    headers = {\n",
    "        'Accept': 'application/json, application/geo+json, application/gpx+xml, img/png; charset=utf-8',\n",
    "        'Authorization': '5b3ce3597851110001cf624853d3c5c996914e49a3ce4c388a39116b',\n",
    "        'Content-Type': 'application/json; charset=utf-8'\n",
    "    }\n",
    "    resp = requests.post('https://api.openrouteservice.org/v2/isochrones/driving-car', json=data, headers=headers)\n",
    "\n",
    "    # print(resp.status_code, resp.reason)\n",
    "    # print(resp.text)\n",
    "\n",
    "    # Convert json response to match api.traveltimeapp\n",
    "    v2 = resp.json()\n",
    "    coordinates = [v2['features'][0]['geometry']['coordinates']]\n",
    "    resp = {'features': [v2['features'][0]],\n",
    "            'type': v2['type']}\n",
    "    resp['features'][0]['geometry']['coordinates'] = coordinates\n",
    "    resp['features'][0]['geometry']['type'] = 'MultiPolygon'\n",
    "    resp['features'][0]['properties'] = {}\n",
    "\n",
    "    return resp\n",
    "\n",
    "\n",
    "# print(get_travel_time_polygon_v2(27.960154, -26.050087, 300, 200))\n",
    "\n",
    "\n",
    "def close_holes(poly: Polygon) -> Polygon:\n",
    "    if poly.interiors:\n",
    "        return Polygon(list(poly.exterior.coords))\n",
    "    else:\n",
    "        return poly\n",
    "\n",
    "\n",
    "def merge_multi_poly(multi_poly: MultiPolygon) -> Polygon:\n",
    "    polies = [close_holes(poly) for poly in multi_poly.geoms]\n",
    "\n",
    "    return unary_union(polies)\n",
    "\n",
    "\n",
    "def select_largest(multi_poly: MultiPolygon) -> Polygon:\n",
    "    return max(\n",
    "        [poly for poly in multi_poly.geoms],\n",
    "        key=lambda x: x.area,\n",
    "    )\n",
    "\n",
    "\n",
    "def simplify(multi_poly: MultiPolygon) -> Polygon:\n",
    "    return close_holes(select_largest(multi_poly))\n",
    "\n",
    "\n",
    "def convex_hull(multi_poly: MultiPolygon) -> Polygon:\n",
    "    return multi_poly.convex_hull\n",
    "\n",
    "\n",
    "def down_sample(poly: Polygon, step=2) -> Polygon:\n",
    "    coords = poly.exterior.coords\n",
    "    return Polygon(\n",
    "        shell=[c for c in coords][::step]\n",
    "    )\n"
   ]
  },
  {
   "cell_type": "code",
   "execution_count": 20,
   "id": "8c565113",
   "metadata": {},
   "outputs": [
    {
     "name": "stdout",
     "output_type": "stream",
     "text": [
      "Requirement already satisfied: pyyaml in c:\\users\\avitr\\anaconda3\\lib\\site-packages (6.0)\n"
     ]
    },
    {
     "name": "stderr",
     "output_type": "stream",
     "text": [
      "WARNING: Ignoring invalid distribution -rpcio (c:\\users\\avitr\\anaconda3\\lib\\site-packages)\n",
      "WARNING: Ignoring invalid distribution -rpcio (c:\\users\\avitr\\anaconda3\\lib\\site-packages)\n",
      "WARNING: Ignoring invalid distribution -rpcio (c:\\users\\avitr\\anaconda3\\lib\\site-packages)\n",
      "WARNING: Ignoring invalid distribution -rpcio (c:\\users\\avitr\\anaconda3\\lib\\site-packages)\n",
      "WARNING: Ignoring invalid distribution -rpcio (c:\\users\\avitr\\anaconda3\\lib\\site-packages)\n"
     ]
    }
   ],
   "source": [
    "!pip install pyyaml"
   ]
  },
  {
   "cell_type": "code",
   "execution_count": 34,
   "id": "ed6ee101",
   "metadata": {},
   "outputs": [],
   "source": [
    "import yaml\n",
    "TWITTER_CONFIG_FILE = 'config.yml'\n",
    "\n",
    "with open(TWITTER_CONFIG_FILE, 'r') as config_file:\n",
    "    config = yaml.safe_load(config_file)"
   ]
  },
  {
   "cell_type": "code",
   "execution_count": 35,
   "id": "fc330ae7",
   "metadata": {},
   "outputs": [
    {
     "data": {
      "text/plain": [
       "'b714d241b473477419cde4d3718febd5'"
      ]
     },
     "execution_count": 35,
     "metadata": {},
     "output_type": "execute_result"
    }
   ],
   "source": [
    "config['API_KEYS']['key']"
   ]
  },
  {
   "cell_type": "code",
   "execution_count": null,
   "id": "257e6338",
   "metadata": {},
   "outputs": [],
   "source": []
  }
 ],
 "metadata": {
  "kernelspec": {
   "display_name": "Python 3 (ipykernel)",
   "language": "python",
   "name": "python3"
  },
  "language_info": {
   "codemirror_mode": {
    "name": "ipython",
    "version": 3
   },
   "file_extension": ".py",
   "mimetype": "text/x-python",
   "name": "python",
   "nbconvert_exporter": "python",
   "pygments_lexer": "ipython3",
   "version": "3.8.5"
  }
 },
 "nbformat": 4,
 "nbformat_minor": 5
}
