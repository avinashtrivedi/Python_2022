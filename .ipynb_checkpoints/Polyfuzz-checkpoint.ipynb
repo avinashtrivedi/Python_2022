{
 "cells": [
  {
   "cell_type": "code",
   "execution_count": 1,
   "id": "a6ef4972",
   "metadata": {
    "scrolled": true
   },
   "outputs": [],
   "source": [
    "import numpy as np\n",
    "import pandas as pd"
   ]
  },
  {
   "cell_type": "code",
   "execution_count": 9,
   "id": "b6d2d7a1",
   "metadata": {},
   "outputs": [
    {
     "name": "stdout",
     "output_type": "stream",
     "text": [
      "Collecting jellyfish==0.9.0\n",
      "  Downloading jellyfish-0.9.0-cp38-cp38-win_amd64.whl (26 kB)\n",
      "Installing collected packages: jellyfish\n",
      "  Attempting uninstall: jellyfish\n",
      "    Found existing installation: jellyfish 0.6.1\n",
      "    Uninstalling jellyfish-0.6.1:\n",
      "      Successfully uninstalled jellyfish-0.6.1\n",
      "Successfully installed jellyfish-0.9.0\n"
     ]
    },
    {
     "name": "stderr",
     "output_type": "stream",
     "text": [
      "WARNING: Ignoring invalid distribution -rpcio (c:\\users\\avitr\\anaconda3\\lib\\site-packages)\n",
      "WARNING: Ignoring invalid distribution -rpcio (c:\\users\\avitr\\anaconda3\\lib\\site-packages)\n",
      "WARNING: Ignoring invalid distribution -rpcio (c:\\users\\avitr\\anaconda3\\lib\\site-packages)\n",
      "    WARNING: Ignoring invalid distribution -rpcio (c:\\users\\avitr\\anaconda3\\lib\\site-packages)\n",
      "WARNING: Ignoring invalid distribution -rpcio (c:\\users\\avitr\\anaconda3\\lib\\site-packages)\n",
      "ERROR: pip's dependency resolver does not currently take into account all the packages that are installed. This behaviour is the source of the following dependency conflicts.\n",
      "us 2.0.2 requires jellyfish==0.6.1, but you have jellyfish 0.9.0 which is incompatible.\n",
      "WARNING: Ignoring invalid distribution -rpcio (c:\\users\\avitr\\anaconda3\\lib\\site-packages)\n",
      "WARNING: Ignoring invalid distribution -rpcio (c:\\users\\avitr\\anaconda3\\lib\\site-packages)\n",
      "WARNING: Ignoring invalid distribution -rpcio (c:\\users\\avitr\\anaconda3\\lib\\site-packages)\n"
     ]
    }
   ],
   "source": [
    "!pip install jellyfish==0.9.0"
   ]
  },
  {
   "cell_type": "code",
   "execution_count": 10,
   "id": "5b98d54e",
   "metadata": {},
   "outputs": [
    {
     "ename": "ImportError",
     "evalue": "cannot import name 'jaro_winkler_similarity' from 'jellyfish' (C:\\Users\\avitr\\anaconda3\\lib\\site-packages\\jellyfish\\__init__.py)",
     "output_type": "error",
     "traceback": [
      "\u001b[1;31m---------------------------------------------------------------------------\u001b[0m",
      "\u001b[1;31mImportError\u001b[0m                               Traceback (most recent call last)",
      "Input \u001b[1;32mIn [10]\u001b[0m, in \u001b[0;36m<cell line: 3>\u001b[1;34m()\u001b[0m\n\u001b[0;32m      1\u001b[0m \u001b[38;5;28;01mfrom\u001b[39;00m \u001b[38;5;21;01mpolyfuzz\u001b[39;00m \u001b[38;5;28;01mimport\u001b[39;00m PolyFuzz\n\u001b[0;32m      2\u001b[0m \u001b[38;5;28;01mfrom\u001b[39;00m \u001b[38;5;21;01mpolyfuzz\u001b[39;00m\u001b[38;5;21;01m.\u001b[39;00m\u001b[38;5;21;01mmodels\u001b[39;00m \u001b[38;5;28;01mimport\u001b[39;00m RapidFuzz, EditDistance, TFIDF, Embeddings\n\u001b[1;32m----> 3\u001b[0m \u001b[38;5;28;01mfrom\u001b[39;00m \u001b[38;5;21;01mjellyfish\u001b[39;00m \u001b[38;5;28;01mimport\u001b[39;00m jaro_winkler_similarity\n\u001b[0;32m      4\u001b[0m \u001b[38;5;28;01mfrom\u001b[39;00m \u001b[38;5;21;01mflair\u001b[39;00m\u001b[38;5;21;01m.\u001b[39;00m\u001b[38;5;21;01membeddings\u001b[39;00m \u001b[38;5;28;01mimport\u001b[39;00m TransformerWordEmbeddings, WordEmbeddings\n",
      "\u001b[1;31mImportError\u001b[0m: cannot import name 'jaro_winkler_similarity' from 'jellyfish' (C:\\Users\\avitr\\anaconda3\\lib\\site-packages\\jellyfish\\__init__.py)"
     ]
    }
   ],
   "source": [
    "from polyfuzz import PolyFuzz\n",
    "from polyfuzz.models import RapidFuzz, EditDistance, TFIDF, Embeddings\n",
    "from jellyfish import jaro_winkler_similarity\n",
    "from flair.embeddings import TransformerWordEmbeddings, WordEmbeddings"
   ]
  },
  {
   "cell_type": "code",
   "execution_count": 7,
   "id": "1a413568",
   "metadata": {},
   "outputs": [],
   "source": [
    "import jellyfish"
   ]
  },
  {
   "cell_type": "code",
   "execution_count": 8,
   "id": "49df0598",
   "metadata": {},
   "outputs": [
    {
     "data": {
      "text/plain": [
       "<function jellyfish._jellyfish.jaro_winkler(s1, s2, long_tolerance=False)>"
      ]
     },
     "execution_count": 8,
     "metadata": {},
     "output_type": "execute_result"
    }
   ],
   "source": [
    "jellyfish.jaro_winkler"
   ]
  },
  {
   "cell_type": "code",
   "execution_count": null,
   "id": "5d80d964",
   "metadata": {},
   "outputs": [],
   "source": [
    "Netflix = pd.read_csv('netflix_titles.csv')"
   ]
  },
  {
   "cell_type": "code",
   "execution_count": null,
   "id": "1253b6d5",
   "metadata": {},
   "outputs": [],
   "source": [
    "Netflix.head()"
   ]
  },
  {
   "cell_type": "code",
   "execution_count": null,
   "id": "3a152bf9",
   "metadata": {},
   "outputs": [],
   "source": [
    "IMBD = pd.read_csv('NetflixOriginals.csv', encoding_errors= 'replace')"
   ]
  },
  {
   "cell_type": "code",
   "execution_count": null,
   "id": "71256891",
   "metadata": {},
   "outputs": [],
   "source": [
    "IMBD.head()"
   ]
  },
  {
   "cell_type": "code",
   "execution_count": null,
   "id": "6303d20d",
   "metadata": {},
   "outputs": [],
   "source": [
    "#EditDistance"
   ]
  },
  {
   "cell_type": "code",
   "execution_count": null,
   "id": "91e78471",
   "metadata": {},
   "outputs": [],
   "source": [
    "model = PolyFuzz(\"EditDistance\")\n",
    "model.match(Netflix['title'], IMBD['Title'])"
   ]
  },
  {
   "cell_type": "code",
   "execution_count": null,
   "id": "be5d9e0c",
   "metadata": {},
   "outputs": [],
   "source": [
    "model.get_matches()"
   ]
  },
  {
   "cell_type": "code",
   "execution_count": null,
   "id": "b8021a61",
   "metadata": {},
   "outputs": [],
   "source": [
    "jellyfish_matcher = EditDistance(scorer=jaro_winkler_similarity)\n",
    "model = PolyFuzz(jellyfish_matcher)"
   ]
  },
  {
   "cell_type": "code",
   "execution_count": null,
   "id": "8518576c",
   "metadata": {},
   "outputs": [],
   "source": [
    "model.match(Netflix['title'], IMBD['Title'])"
   ]
  },
  {
   "cell_type": "code",
   "execution_count": null,
   "id": "c6cf5be6",
   "metadata": {},
   "outputs": [],
   "source": [
    "model.get_matches()"
   ]
  },
  {
   "cell_type": "code",
   "execution_count": null,
   "id": "6574e9c8",
   "metadata": {},
   "outputs": [],
   "source": [
    "#RapidFuzz"
   ]
  },
  {
   "cell_type": "code",
   "execution_count": null,
   "id": "36d982ee",
   "metadata": {},
   "outputs": [],
   "source": [
    "matcher = RapidFuzz(n_jobs=1, score_cutoff=0.8)\n",
    "model = PolyFuzz(matcher)\n",
    "model.match(Netflix['title'], IMBD['Title'])"
   ]
  },
  {
   "cell_type": "code",
   "execution_count": null,
   "id": "9f01a211",
   "metadata": {},
   "outputs": [],
   "source": [
    "model.get_matches()"
   ]
  },
  {
   "cell_type": "code",
   "execution_count": null,
   "id": "3f8e7d44",
   "metadata": {},
   "outputs": [],
   "source": [
    "#embeddings"
   ]
  },
  {
   "cell_type": "code",
   "execution_count": null,
   "id": "18a2af79",
   "metadata": {},
   "outputs": [],
   "source": [
    "embeddings = TransformerWordEmbeddings('bert-base-multilingual-cased')\n",
    "bert = Embeddings(embeddings, min_similarity=0, model_id=\"BERT\")"
   ]
  },
  {
   "cell_type": "code",
   "execution_count": null,
   "id": "ea6a6e4e",
   "metadata": {},
   "outputs": [],
   "source": [
    "models = PolyFuzz(bert)\n",
    "model.match(Netflix['title'], IMBD['Title'])"
   ]
  },
  {
   "cell_type": "code",
   "execution_count": null,
   "id": "d0eb3ed5",
   "metadata": {},
   "outputs": [],
   "source": [
    "model.get_matches()"
   ]
  },
  {
   "cell_type": "code",
   "execution_count": null,
   "id": "8d6313f4",
   "metadata": {},
   "outputs": [],
   "source": [
    "#multimodels"
   ]
  },
  {
   "cell_type": "code",
   "execution_count": null,
   "id": "2384b3d3",
   "metadata": {},
   "outputs": [],
   "source": [
    "fasttext_embeddings = WordEmbeddings('en-crawl')\n",
    "fasttext = Embeddings(fasttext_embeddings, min_similarity=0, model_id=\"FastText\")\n",
    "tfidf = TFIDF(min_similarity=0, model_id=\"TF-IDF\")\n",
    "rapidfuzz = RapidFuzz(n_jobs=-1, score_cutoff=0, model_id=\"RapidFuzz\")\n",
    "\n",
    "matchers = [tfidf, fasttext, rapidfuzz]\n",
    "\n",
    "model = PolyFuzz(matchers)\n"
   ]
  },
  {
   "cell_type": "code",
   "execution_count": null,
   "id": "ee66ffbf",
   "metadata": {},
   "outputs": [],
   "source": [
    "model.match(Netflix['title'], IMBD['Title'])"
   ]
  },
  {
   "cell_type": "code",
   "execution_count": null,
   "id": "7b4e51e3",
   "metadata": {},
   "outputs": [],
   "source": []
  },
  {
   "cell_type": "code",
   "execution_count": null,
   "id": "7e55fb98",
   "metadata": {},
   "outputs": [],
   "source": []
  }
 ],
 "metadata": {
  "kernelspec": {
   "display_name": "Python 3 (ipykernel)",
   "language": "python",
   "name": "python3"
  },
  "language_info": {
   "codemirror_mode": {
    "name": "ipython",
    "version": 3
   },
   "file_extension": ".py",
   "mimetype": "text/x-python",
   "name": "python",
   "nbconvert_exporter": "python",
   "pygments_lexer": "ipython3",
   "version": "3.8.5"
  }
 },
 "nbformat": 4,
 "nbformat_minor": 5
}
