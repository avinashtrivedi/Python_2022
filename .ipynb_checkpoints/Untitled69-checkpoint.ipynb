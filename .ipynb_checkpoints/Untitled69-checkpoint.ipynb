{
 "cells": [
  {
   "cell_type": "code",
   "execution_count": 4,
   "id": "109c3342",
   "metadata": {},
   "outputs": [],
   "source": [
    "import pandas as pd\n",
    "import math"
   ]
  },
  {
   "cell_type": "code",
   "execution_count": 5,
   "id": "de8d7e40",
   "metadata": {},
   "outputs": [],
   "source": [
    "df = pd.read_csv('D:\\OneDrive - NITT\\Custom_Download\\MCA-1st + 2nd Yr - mca-lab-python.csv')"
   ]
  },
  {
   "cell_type": "code",
   "execution_count": 8,
   "id": "4ce0dba0",
   "metadata": {},
   "outputs": [],
   "source": [
    "df['Total'] = df['new']"
   ]
  },
  {
   "cell_type": "code",
   "execution_count": 12,
   "id": "c4552c86",
   "metadata": {},
   "outputs": [],
   "source": [
    "df = df.sort_values('Total',ascending=False)"
   ]
  },
  {
   "cell_type": "code",
   "execution_count": 15,
   "id": "526084a9",
   "metadata": {},
   "outputs": [
    {
     "data": {
      "text/plain": [
       "0     84.0\n",
       "1     84.0\n",
       "2     83.0\n",
       "3     83.0\n",
       "4     83.0\n",
       "5     83.0\n",
       "6     83.0\n",
       "7     83.0\n",
       "8     83.0\n",
       "9     83.0\n",
       "10    83.0\n",
       "15    76.0\n",
       "18    76.0\n",
       "17    76.0\n",
       "16    76.0\n",
       "12    76.0\n",
       "14    76.0\n",
       "13    76.0\n",
       "11    75.0\n",
       "25    74.0\n",
       "20    74.0\n",
       "21    74.0\n",
       "22    74.0\n",
       "26    74.0\n",
       "27    73.0\n",
       "28    73.0\n",
       "24    73.0\n",
       "23    73.0\n",
       "19    73.0\n",
       "29    71.0\n",
       "30    71.0\n",
       "31    71.0\n",
       "32    69.0\n",
       "33    69.0\n",
       "34    69.0\n",
       "35    69.0\n",
       "36    68.0\n",
       "37    68.0\n",
       "38    68.0\n",
       "39    67.0\n",
       "42    66.0\n",
       "41    66.0\n",
       "40    66.0\n",
       "43    65.0\n",
       "44    63.0\n",
       "45    63.0\n",
       "46    62.0\n",
       "47    62.0\n",
       "48    59.0\n",
       "49    59.0\n",
       "50    59.0\n",
       "51    58.0\n",
       "52    58.0\n",
       "53    55.0\n",
       "54    54.0\n",
       "55    53.0\n",
       "56     0.0\n",
       "57     NaN\n",
       "58     NaN\n",
       "Name: Total, dtype: float64"
      ]
     },
     "execution_count": 15,
     "metadata": {},
     "output_type": "execute_result"
    }
   ],
   "source": [
    "df['Total']"
   ]
  },
  {
   "cell_type": "code",
   "execution_count": null,
   "id": "c5b0a243",
   "metadata": {},
   "outputs": [],
   "source": []
  },
  {
   "cell_type": "code",
   "execution_count": null,
   "id": "e5b59530",
   "metadata": {},
   "outputs": [],
   "source": []
  },
  {
   "cell_type": "code",
   "execution_count": 7,
   "id": "432d58f9",
   "metadata": {},
   "outputs": [],
   "source": [
    "df = df.drop('Unnamed: 6',axis=1)"
   ]
  },
  {
   "cell_type": "code",
   "execution_count": 14,
   "id": "09932209",
   "metadata": {},
   "outputs": [],
   "source": [
    "df.dropna(inplace=True)"
   ]
  },
  {
   "cell_type": "code",
   "execution_count": 17,
   "id": "440be496",
   "metadata": {},
   "outputs": [],
   "source": [
    "df['CT1'] = df['Lab Activities (50)'].values*.4//1"
   ]
  },
  {
   "cell_type": "code",
   "execution_count": 19,
   "id": "82e1483f",
   "metadata": {},
   "outputs": [],
   "source": [
    "df['Lab Activities (50)'] = df['Lab Activities (50)'] - df['CT1']"
   ]
  },
  {
   "cell_type": "code",
   "execution_count": 22,
   "id": "71ee8eab",
   "metadata": {},
   "outputs": [],
   "source": [
    "df.rename(columns={\"Evaluation-1 (20)\": \"Evaluation-2 (20)\"},inplace=True)"
   ]
  },
  {
   "cell_type": "code",
   "execution_count": 24,
   "id": "18c90e83",
   "metadata": {},
   "outputs": [],
   "source": [
    "df.rename(columns={\"Lab Activities (50)\": \"Lab Activities (30)\",\"CT1\": \"Evaluation-1 (20)\"},inplace=True)"
   ]
  },
  {
   "cell_type": "code",
   "execution_count": 27,
   "id": "0210733a",
   "metadata": {},
   "outputs": [],
   "source": [
    "df.drop('sum1(eval+end_sem)',axis=True,inplace=True)"
   ]
  },
  {
   "cell_type": "code",
   "execution_count": 29,
   "id": "73e0ce1b",
   "metadata": {},
   "outputs": [
    {
     "data": {
      "text/plain": [
       "['Roll_number',\n",
       " 'Lab Activities (30)',\n",
       " 'Evaluation-2 (20)',\n",
       " 'End-Sem Lab(30)',\n",
       " 'Total',\n",
       " 'Evaluation-1 (20)']"
      ]
     },
     "execution_count": 29,
     "metadata": {},
     "output_type": "execute_result"
    }
   ],
   "source": [
    "list(df)"
   ]
  },
  {
   "cell_type": "code",
   "execution_count": 31,
   "id": "7e7fb1e5",
   "metadata": {},
   "outputs": [],
   "source": [
    "df = df[['Roll_number','Lab Activities (30)','Evaluation-1 (20)','Evaluation-2 (20)','End-Sem Lab(30)','Total']]"
   ]
  },
  {
   "cell_type": "code",
   "execution_count": null,
   "id": "dfa80b4e",
   "metadata": {},
   "outputs": [],
   "source": []
  },
  {
   "cell_type": "code",
   "execution_count": 36,
   "id": "85ea8638",
   "metadata": {},
   "outputs": [
    {
     "name": "stderr",
     "output_type": "stream",
     "text": [
      "C:\\Users\\avitr\\AppData\\Local\\Temp\\ipykernel_5164\\858631113.py:1: SettingWithCopyWarning: \n",
      "A value is trying to be set on a copy of a slice from a DataFrame.\n",
      "Try using .loc[row_indexer,col_indexer] = value instead\n",
      "\n",
      "See the caveats in the documentation: https://pandas.pydata.org/pandas-docs/stable/user_guide/indexing.html#returning-a-view-versus-a-copy\n",
      "  df['T'] = df[['Lab Activities (30)','Evaluation-1 (20)','Evaluation-2 (20)','End-Sem Lab(30)']].sum(axis=1)\n"
     ]
    }
   ],
   "source": [
    "df['T'] = df[['Lab Activities (30)','Evaluation-1 (20)','Evaluation-2 (20)','End-Sem Lab(30)']].sum(axis=1)"
   ]
  },
  {
   "cell_type": "code",
   "execution_count": 38,
   "id": "d10f37a2",
   "metadata": {},
   "outputs": [],
   "source": [
    "df = df.drop('T',axis=1)"
   ]
  },
  {
   "cell_type": "code",
   "execution_count": 40,
   "id": "2e7f3743",
   "metadata": {},
   "outputs": [],
   "source": [
    "df.to_csv('mca_lab_v1.csv',index=False)"
   ]
  },
  {
   "cell_type": "code",
   "execution_count": null,
   "id": "2c28191a",
   "metadata": {},
   "outputs": [],
   "source": []
  }
 ],
 "metadata": {
  "kernelspec": {
   "display_name": "Python 3 (ipykernel)",
   "language": "python",
   "name": "python3"
  },
  "language_info": {
   "codemirror_mode": {
    "name": "ipython",
    "version": 3
   },
   "file_extension": ".py",
   "mimetype": "text/x-python",
   "name": "python",
   "nbconvert_exporter": "python",
   "pygments_lexer": "ipython3",
   "version": "3.9.12"
  }
 },
 "nbformat": 4,
 "nbformat_minor": 5
}
