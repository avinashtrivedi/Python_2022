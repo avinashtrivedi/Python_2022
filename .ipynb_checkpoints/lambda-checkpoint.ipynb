{
 "cells": [
  {
   "cell_type": "code",
   "execution_count": 1,
   "metadata": {},
   "outputs": [],
   "source": [
    "def square(x):\n",
    "    return x*x"
   ]
  },
  {
   "cell_type": "code",
   "execution_count": 2,
   "metadata": {},
   "outputs": [
    {
     "data": {
      "text/plain": [
       "9"
      ]
     },
     "execution_count": 2,
     "metadata": {},
     "output_type": "execute_result"
    }
   ],
   "source": [
    "square(3)"
   ]
  },
  {
   "cell_type": "code",
   "execution_count": 5,
   "metadata": {},
   "outputs": [],
   "source": [
    "f = lambda x: x*x"
   ]
  },
  {
   "cell_type": "code",
   "execution_count": 6,
   "metadata": {},
   "outputs": [
    {
     "data": {
      "text/plain": [
       "9"
      ]
     },
     "execution_count": 6,
     "metadata": {},
     "output_type": "execute_result"
    }
   ],
   "source": [
    "f(3)"
   ]
  },
  {
   "cell_type": "code",
   "execution_count": 7,
   "metadata": {},
   "outputs": [],
   "source": [
    "f = lambda x,y: x*x + y*y"
   ]
  },
  {
   "cell_type": "code",
   "execution_count": 8,
   "metadata": {},
   "outputs": [
    {
     "data": {
      "text/plain": [
       "13"
      ]
     },
     "execution_count": 8,
     "metadata": {},
     "output_type": "execute_result"
    }
   ],
   "source": [
    "f(2,3)"
   ]
  },
  {
   "cell_type": "code",
   "execution_count": 9,
   "metadata": {},
   "outputs": [],
   "source": [
    "import pandas as pd"
   ]
  },
  {
   "cell_type": "code",
   "execution_count": 10,
   "metadata": {},
   "outputs": [],
   "source": [
    "df = pd.read_csv('county_pop_arcos.csv')"
   ]
  },
  {
   "cell_type": "code",
   "execution_count": 12,
   "metadata": {},
   "outputs": [
    {
     "data": {
      "text/html": [
       "<div>\n",
       "<style scoped>\n",
       "    .dataframe tbody tr th:only-of-type {\n",
       "        vertical-align: middle;\n",
       "    }\n",
       "\n",
       "    .dataframe tbody tr th {\n",
       "        vertical-align: top;\n",
       "    }\n",
       "\n",
       "    .dataframe thead th {\n",
       "        text-align: right;\n",
       "    }\n",
       "</style>\n",
       "<table border=\"1\" class=\"dataframe\">\n",
       "  <thead>\n",
       "    <tr style=\"text-align: right;\">\n",
       "      <th></th>\n",
       "      <th>Unnamed: 0</th>\n",
       "      <th>BUYER_COUNTY</th>\n",
       "      <th>BUYER_STATE</th>\n",
       "      <th>countyfips</th>\n",
       "      <th>STATE</th>\n",
       "      <th>COUNTY</th>\n",
       "      <th>county_name</th>\n",
       "      <th>NAME</th>\n",
       "      <th>variable</th>\n",
       "      <th>year</th>\n",
       "      <th>population</th>\n",
       "    </tr>\n",
       "  </thead>\n",
       "  <tbody>\n",
       "    <tr>\n",
       "      <th>0</th>\n",
       "      <td>1</td>\n",
       "      <td>AUTAUGA</td>\n",
       "      <td>AL</td>\n",
       "      <td>1001</td>\n",
       "      <td>1</td>\n",
       "      <td>1</td>\n",
       "      <td>Autauga</td>\n",
       "      <td>Autauga County, Alabama</td>\n",
       "      <td>B01003_001</td>\n",
       "      <td>2006</td>\n",
       "      <td>51328</td>\n",
       "    </tr>\n",
       "    <tr>\n",
       "      <th>1</th>\n",
       "      <td>2</td>\n",
       "      <td>BALDWIN</td>\n",
       "      <td>AL</td>\n",
       "      <td>1003</td>\n",
       "      <td>1</td>\n",
       "      <td>3</td>\n",
       "      <td>Baldwin</td>\n",
       "      <td>Baldwin County, Alabama</td>\n",
       "      <td>B01003_001</td>\n",
       "      <td>2006</td>\n",
       "      <td>168121</td>\n",
       "    </tr>\n",
       "    <tr>\n",
       "      <th>2</th>\n",
       "      <td>3</td>\n",
       "      <td>BARBOUR</td>\n",
       "      <td>AL</td>\n",
       "      <td>1005</td>\n",
       "      <td>1</td>\n",
       "      <td>5</td>\n",
       "      <td>Barbour</td>\n",
       "      <td>Barbour County, Alabama</td>\n",
       "      <td>B01003_001</td>\n",
       "      <td>2006</td>\n",
       "      <td>27861</td>\n",
       "    </tr>\n",
       "    <tr>\n",
       "      <th>3</th>\n",
       "      <td>4</td>\n",
       "      <td>BIBB</td>\n",
       "      <td>AL</td>\n",
       "      <td>1007</td>\n",
       "      <td>1</td>\n",
       "      <td>7</td>\n",
       "      <td>Bibb</td>\n",
       "      <td>Bibb County, Alabama</td>\n",
       "      <td>B01003_001</td>\n",
       "      <td>2006</td>\n",
       "      <td>22099</td>\n",
       "    </tr>\n",
       "    <tr>\n",
       "      <th>4</th>\n",
       "      <td>5</td>\n",
       "      <td>BLOUNT</td>\n",
       "      <td>AL</td>\n",
       "      <td>1009</td>\n",
       "      <td>1</td>\n",
       "      <td>9</td>\n",
       "      <td>Blount</td>\n",
       "      <td>Blount County, Alabama</td>\n",
       "      <td>B01003_001</td>\n",
       "      <td>2006</td>\n",
       "      <td>55485</td>\n",
       "    </tr>\n",
       "  </tbody>\n",
       "</table>\n",
       "</div>"
      ],
      "text/plain": [
       "   Unnamed: 0 BUYER_COUNTY BUYER_STATE  countyfips  STATE  COUNTY county_name  \\\n",
       "0           1      AUTAUGA          AL        1001      1       1     Autauga   \n",
       "1           2      BALDWIN          AL        1003      1       3     Baldwin   \n",
       "2           3      BARBOUR          AL        1005      1       5     Barbour   \n",
       "3           4         BIBB          AL        1007      1       7        Bibb   \n",
       "4           5       BLOUNT          AL        1009      1       9      Blount   \n",
       "\n",
       "                      NAME    variable  year  population  \n",
       "0  Autauga County, Alabama  B01003_001  2006       51328  \n",
       "1  Baldwin County, Alabama  B01003_001  2006      168121  \n",
       "2  Barbour County, Alabama  B01003_001  2006       27861  \n",
       "3     Bibb County, Alabama  B01003_001  2006       22099  \n",
       "4   Blount County, Alabama  B01003_001  2006       55485  "
      ]
     },
     "execution_count": 12,
     "metadata": {},
     "output_type": "execute_result"
    }
   ],
   "source": [
    "df.head()"
   ]
  },
  {
   "cell_type": "code",
   "execution_count": 22,
   "metadata": {},
   "outputs": [
    {
     "data": {
      "text/plain": [
       "0        B01003\n",
       "1        B01003\n",
       "2        B01003\n",
       "3        B01003\n",
       "4        B01003\n",
       "          ...  \n",
       "28260    B01003\n",
       "28261    B01003\n",
       "28262    B01003\n",
       "28263    B01003\n",
       "28264    B01003\n",
       "Name: variable, Length: 28250, dtype: object"
      ]
     },
     "execution_count": 22,
     "metadata": {},
     "output_type": "execute_result"
    }
   ],
   "source": [
    "df['variable'].dropna().apply(lambda x: x.split('_')[0])"
   ]
  },
  {
   "cell_type": "code",
   "execution_count": 14,
   "metadata": {},
   "outputs": [],
   "source": [
    "s = 'B01003_001'"
   ]
  },
  {
   "cell_type": "code",
   "execution_count": 16,
   "metadata": {},
   "outputs": [
    {
     "data": {
      "text/plain": [
       "'B01003'"
      ]
     },
     "execution_count": 16,
     "metadata": {},
     "output_type": "execute_result"
    }
   ],
   "source": [
    "s.split('_')[0]"
   ]
  },
  {
   "cell_type": "code",
   "execution_count": 24,
   "metadata": {},
   "outputs": [
    {
     "data": {
      "text/plain": [
       "'http://localhost:8888/notebooks/OneDrive/Documents/Python%20Scripts/Code_2022/lambda.ipynb'"
      ]
     },
     "execution_count": 24,
     "metadata": {},
     "output_type": "execute_result"
    }
   ],
   "source": [
    "s"
   ]
  },
  {
   "cell_type": "code",
   "execution_count": 28,
   "metadata": {},
   "outputs": [
    {
     "data": {
      "text/plain": [
       "'8888'"
      ]
     },
     "execution_count": 28,
     "metadata": {},
     "output_type": "execute_result"
    }
   ],
   "source": [
    "s.split(':')[2].split('/')[0]"
   ]
  },
  {
   "cell_type": "code",
   "execution_count": 33,
   "metadata": {},
   "outputs": [
    {
     "data": {
      "text/plain": [
       "0    1\n",
       "1    3\n",
       "2    5\n",
       "Name: COUNTY, dtype: int64"
      ]
     },
     "execution_count": 33,
     "metadata": {},
     "output_type": "execute_result"
    }
   ],
   "source": [
    "df['COUNTY'].head(3)"
   ]
  },
  {
   "cell_type": "code",
   "execution_count": 34,
   "metadata": {},
   "outputs": [
    {
     "data": {
      "text/plain": [
       "0    1\n",
       "1    1\n",
       "2    1\n",
       "Name: STATE, dtype: int64"
      ]
     },
     "execution_count": 34,
     "metadata": {},
     "output_type": "execute_result"
    }
   ],
   "source": [
    "df['STATE'].head(3)"
   ]
  },
  {
   "cell_type": "code",
   "execution_count": 45,
   "metadata": {},
   "outputs": [],
   "source": [
    "df = df[:10]"
   ]
  },
  {
   "cell_type": "code",
   "execution_count": 69,
   "metadata": {},
   "outputs": [
    {
     "name": "stderr",
     "output_type": "stream",
     "text": [
      "<ipython-input-69-d9c5965c3889>:3: SettingWithCopyWarning: \n",
      "A value is trying to be set on a copy of a slice from a DataFrame.\n",
      "Try using .loc[row_indexer,col_indexer] = value instead\n",
      "\n",
      "See the caveats in the documentation: https://pandas.pydata.org/pandas-docs/stable/user_guide/indexing.html#returning-a-view-versus-a-copy\n",
      "  df['KIRE'] = df['STATE'].apply(lambda x: df['COUNTY'].apply(lambda y: [x,y])).iloc[0]\n"
     ]
    }
   ],
   "source": [
    "# def f(x):\n",
    "    \n",
    "df['KIRE'] = df['STATE'].apply(lambda x: df['COUNTY'].apply(lambda y: [x,y])).iloc[0]"
   ]
  },
  {
   "cell_type": "code",
   "execution_count": 70,
   "metadata": {},
   "outputs": [
    {
     "data": {
      "text/plain": [
       "0     [1, 1]\n",
       "1     [1, 3]\n",
       "2     [1, 5]\n",
       "3     [1, 7]\n",
       "4     [1, 9]\n",
       "5    [1, 11]\n",
       "6    [1, 13]\n",
       "7    [1, 15]\n",
       "8    [1, 17]\n",
       "9    [1, 19]\n",
       "Name: KIRE, dtype: object"
      ]
     },
     "execution_count": 70,
     "metadata": {},
     "output_type": "execute_result"
    }
   ],
   "source": [
    "df['KIRE']"
   ]
  },
  {
   "cell_type": "code",
   "execution_count": 39,
   "metadata": {},
   "outputs": [
    {
     "data": {
      "text/plain": [
       "0          2\n",
       "1          4\n",
       "2          6\n",
       "3          8\n",
       "4         10\n",
       "        ... \n",
       "28260     99\n",
       "28261    101\n",
       "28262    232\n",
       "28263    107\n",
       "28264    197\n",
       "Length: 28265, dtype: int64"
      ]
     },
     "execution_count": 39,
     "metadata": {},
     "output_type": "execute_result"
    }
   ],
   "source": [
    "df['STATE']  + df['COUNTY']"
   ]
  },
  {
   "cell_type": "code",
   "execution_count": 57,
   "metadata": {},
   "outputs": [],
   "source": [
    "lst = []\n",
    "for index, row in df.iterrows():\n",
    "    lst.append([row['STATE'],row['COUNTY']])"
   ]
  },
  {
   "cell_type": "code",
   "execution_count": 59,
   "metadata": {},
   "outputs": [
    {
     "name": "stderr",
     "output_type": "stream",
     "text": [
      "<ipython-input-59-dbb1f2da2dee>:1: SettingWithCopyWarning: \n",
      "A value is trying to be set on a copy of a slice from a DataFrame.\n",
      "Try using .loc[row_indexer,col_indexer] = value instead\n",
      "\n",
      "See the caveats in the documentation: https://pandas.pydata.org/pandas-docs/stable/user_guide/indexing.html#returning-a-view-versus-a-copy\n",
      "  df['NEW'] = lst\n"
     ]
    }
   ],
   "source": [
    "df['NEW'] = lst"
   ]
  },
  {
   "cell_type": "code",
   "execution_count": 60,
   "metadata": {},
   "outputs": [
    {
     "data": {
      "text/html": [
       "<div>\n",
       "<style scoped>\n",
       "    .dataframe tbody tr th:only-of-type {\n",
       "        vertical-align: middle;\n",
       "    }\n",
       "\n",
       "    .dataframe tbody tr th {\n",
       "        vertical-align: top;\n",
       "    }\n",
       "\n",
       "    .dataframe thead th {\n",
       "        text-align: right;\n",
       "    }\n",
       "</style>\n",
       "<table border=\"1\" class=\"dataframe\">\n",
       "  <thead>\n",
       "    <tr style=\"text-align: right;\">\n",
       "      <th></th>\n",
       "      <th>Unnamed: 0</th>\n",
       "      <th>BUYER_COUNTY</th>\n",
       "      <th>BUYER_STATE</th>\n",
       "      <th>countyfips</th>\n",
       "      <th>STATE</th>\n",
       "      <th>COUNTY</th>\n",
       "      <th>county_name</th>\n",
       "      <th>NAME</th>\n",
       "      <th>variable</th>\n",
       "      <th>year</th>\n",
       "      <th>population</th>\n",
       "      <th>NEW</th>\n",
       "    </tr>\n",
       "  </thead>\n",
       "  <tbody>\n",
       "    <tr>\n",
       "      <th>0</th>\n",
       "      <td>1</td>\n",
       "      <td>AUTAUGA</td>\n",
       "      <td>AL</td>\n",
       "      <td>1001</td>\n",
       "      <td>1</td>\n",
       "      <td>1</td>\n",
       "      <td>Autauga</td>\n",
       "      <td>Autauga County, Alabama</td>\n",
       "      <td>B01003_001</td>\n",
       "      <td>2006</td>\n",
       "      <td>51328</td>\n",
       "      <td>[1, 1]</td>\n",
       "    </tr>\n",
       "    <tr>\n",
       "      <th>1</th>\n",
       "      <td>2</td>\n",
       "      <td>BALDWIN</td>\n",
       "      <td>AL</td>\n",
       "      <td>1003</td>\n",
       "      <td>1</td>\n",
       "      <td>3</td>\n",
       "      <td>Baldwin</td>\n",
       "      <td>Baldwin County, Alabama</td>\n",
       "      <td>B01003_001</td>\n",
       "      <td>2006</td>\n",
       "      <td>168121</td>\n",
       "      <td>[1, 3]</td>\n",
       "    </tr>\n",
       "    <tr>\n",
       "      <th>2</th>\n",
       "      <td>3</td>\n",
       "      <td>BARBOUR</td>\n",
       "      <td>AL</td>\n",
       "      <td>1005</td>\n",
       "      <td>1</td>\n",
       "      <td>5</td>\n",
       "      <td>Barbour</td>\n",
       "      <td>Barbour County, Alabama</td>\n",
       "      <td>B01003_001</td>\n",
       "      <td>2006</td>\n",
       "      <td>27861</td>\n",
       "      <td>[1, 5]</td>\n",
       "    </tr>\n",
       "    <tr>\n",
       "      <th>3</th>\n",
       "      <td>4</td>\n",
       "      <td>BIBB</td>\n",
       "      <td>AL</td>\n",
       "      <td>1007</td>\n",
       "      <td>1</td>\n",
       "      <td>7</td>\n",
       "      <td>Bibb</td>\n",
       "      <td>Bibb County, Alabama</td>\n",
       "      <td>B01003_001</td>\n",
       "      <td>2006</td>\n",
       "      <td>22099</td>\n",
       "      <td>[1, 7]</td>\n",
       "    </tr>\n",
       "    <tr>\n",
       "      <th>4</th>\n",
       "      <td>5</td>\n",
       "      <td>BLOUNT</td>\n",
       "      <td>AL</td>\n",
       "      <td>1009</td>\n",
       "      <td>1</td>\n",
       "      <td>9</td>\n",
       "      <td>Blount</td>\n",
       "      <td>Blount County, Alabama</td>\n",
       "      <td>B01003_001</td>\n",
       "      <td>2006</td>\n",
       "      <td>55485</td>\n",
       "      <td>[1, 9]</td>\n",
       "    </tr>\n",
       "    <tr>\n",
       "      <th>5</th>\n",
       "      <td>6</td>\n",
       "      <td>BULLOCK</td>\n",
       "      <td>AL</td>\n",
       "      <td>1011</td>\n",
       "      <td>1</td>\n",
       "      <td>11</td>\n",
       "      <td>Bullock</td>\n",
       "      <td>Bullock County, Alabama</td>\n",
       "      <td>B01003_001</td>\n",
       "      <td>2006</td>\n",
       "      <td>10776</td>\n",
       "      <td>[1, 11]</td>\n",
       "    </tr>\n",
       "    <tr>\n",
       "      <th>6</th>\n",
       "      <td>7</td>\n",
       "      <td>BUTLER</td>\n",
       "      <td>AL</td>\n",
       "      <td>1013</td>\n",
       "      <td>1</td>\n",
       "      <td>13</td>\n",
       "      <td>Butler</td>\n",
       "      <td>Butler County, Alabama</td>\n",
       "      <td>B01003_001</td>\n",
       "      <td>2006</td>\n",
       "      <td>20815</td>\n",
       "      <td>[1, 13]</td>\n",
       "    </tr>\n",
       "    <tr>\n",
       "      <th>7</th>\n",
       "      <td>8</td>\n",
       "      <td>CALHOUN</td>\n",
       "      <td>AL</td>\n",
       "      <td>1015</td>\n",
       "      <td>1</td>\n",
       "      <td>15</td>\n",
       "      <td>Calhoun</td>\n",
       "      <td>Calhoun County, Alabama</td>\n",
       "      <td>B01003_001</td>\n",
       "      <td>2006</td>\n",
       "      <td>115388</td>\n",
       "      <td>[1, 15]</td>\n",
       "    </tr>\n",
       "    <tr>\n",
       "      <th>8</th>\n",
       "      <td>9</td>\n",
       "      <td>CHAMBERS</td>\n",
       "      <td>AL</td>\n",
       "      <td>1017</td>\n",
       "      <td>1</td>\n",
       "      <td>17</td>\n",
       "      <td>Chambers</td>\n",
       "      <td>Chambers County, Alabama</td>\n",
       "      <td>B01003_001</td>\n",
       "      <td>2006</td>\n",
       "      <td>34945</td>\n",
       "      <td>[1, 17]</td>\n",
       "    </tr>\n",
       "    <tr>\n",
       "      <th>9</th>\n",
       "      <td>10</td>\n",
       "      <td>CHEROKEE</td>\n",
       "      <td>AL</td>\n",
       "      <td>1019</td>\n",
       "      <td>1</td>\n",
       "      <td>19</td>\n",
       "      <td>Cherokee</td>\n",
       "      <td>Cherokee County, Alabama</td>\n",
       "      <td>B01003_001</td>\n",
       "      <td>2006</td>\n",
       "      <td>25466</td>\n",
       "      <td>[1, 19]</td>\n",
       "    </tr>\n",
       "  </tbody>\n",
       "</table>\n",
       "</div>"
      ],
      "text/plain": [
       "   Unnamed: 0 BUYER_COUNTY BUYER_STATE  countyfips  STATE  COUNTY county_name  \\\n",
       "0           1      AUTAUGA          AL        1001      1       1     Autauga   \n",
       "1           2      BALDWIN          AL        1003      1       3     Baldwin   \n",
       "2           3      BARBOUR          AL        1005      1       5     Barbour   \n",
       "3           4         BIBB          AL        1007      1       7        Bibb   \n",
       "4           5       BLOUNT          AL        1009      1       9      Blount   \n",
       "5           6      BULLOCK          AL        1011      1      11     Bullock   \n",
       "6           7       BUTLER          AL        1013      1      13      Butler   \n",
       "7           8      CALHOUN          AL        1015      1      15     Calhoun   \n",
       "8           9     CHAMBERS          AL        1017      1      17    Chambers   \n",
       "9          10     CHEROKEE          AL        1019      1      19    Cherokee   \n",
       "\n",
       "                       NAME    variable  year  population      NEW  \n",
       "0   Autauga County, Alabama  B01003_001  2006       51328   [1, 1]  \n",
       "1   Baldwin County, Alabama  B01003_001  2006      168121   [1, 3]  \n",
       "2   Barbour County, Alabama  B01003_001  2006       27861   [1, 5]  \n",
       "3      Bibb County, Alabama  B01003_001  2006       22099   [1, 7]  \n",
       "4    Blount County, Alabama  B01003_001  2006       55485   [1, 9]  \n",
       "5   Bullock County, Alabama  B01003_001  2006       10776  [1, 11]  \n",
       "6    Butler County, Alabama  B01003_001  2006       20815  [1, 13]  \n",
       "7   Calhoun County, Alabama  B01003_001  2006      115388  [1, 15]  \n",
       "8  Chambers County, Alabama  B01003_001  2006       34945  [1, 17]  \n",
       "9  Cherokee County, Alabama  B01003_001  2006       25466  [1, 19]  "
      ]
     },
     "execution_count": 60,
     "metadata": {},
     "output_type": "execute_result"
    }
   ],
   "source": [
    "df"
   ]
  },
  {
   "cell_type": "code",
   "execution_count": null,
   "metadata": {},
   "outputs": [],
   "source": []
  }
 ],
 "metadata": {
  "kernelspec": {
   "display_name": "Python 3",
   "language": "python",
   "name": "python3"
  },
  "language_info": {
   "codemirror_mode": {
    "name": "ipython",
    "version": 3
   },
   "file_extension": ".py",
   "mimetype": "text/x-python",
   "name": "python",
   "nbconvert_exporter": "python",
   "pygments_lexer": "ipython3",
   "version": "3.8.5"
  }
 },
 "nbformat": 4,
 "nbformat_minor": 4
}
