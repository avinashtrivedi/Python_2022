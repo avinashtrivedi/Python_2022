{
 "cells": [
  {
   "cell_type": "code",
   "execution_count": 2,
   "id": "43cf5b39",
   "metadata": {},
   "outputs": [],
   "source": [
    "y = [[1], [3], [2], [5], [1, 3], [3, 2], [3, 5], [2, 5], [3, 2, 5]]\n",
    "def f(x):\n",
    "    return {i:list((set(x) - set([i]))) for i in x}\n",
    "\n",
    "lst = []\n",
    "for i in range(len(y)):\n",
    "    for j in range(i+1,len(y)):\n",
    "        x = y[i] + y[j]\n",
    "        lst.append(f(x))"
   ]
  },
  {
   "cell_type": "code",
   "execution_count": 6,
   "id": "b8bd83da",
   "metadata": {},
   "outputs": [
    {
     "data": {
      "text/plain": [
       "{1: [3], 3: [1]}"
      ]
     },
     "execution_count": 6,
     "metadata": {},
     "output_type": "execute_result"
    }
   ],
   "source": [
    "lst[0]"
   ]
  },
  {
   "cell_type": "code",
   "execution_count": 7,
   "id": "ed76e399",
   "metadata": {},
   "outputs": [
    {
     "data": {
      "text/plain": [
       "{1: [2], 2: [1]}"
      ]
     },
     "execution_count": 7,
     "metadata": {},
     "output_type": "execute_result"
    }
   ],
   "source": [
    "lst[1]"
   ]
  },
  {
   "cell_type": "code",
   "execution_count": 8,
   "id": "10bb9879",
   "metadata": {},
   "outputs": [
    {
     "data": {
      "text/plain": [
       "[{1: [3], 3: [1]},\n",
       " {1: [2], 2: [1]},\n",
       " {1: [5], 5: [1]},\n",
       " {1: [3], 3: [1]},\n",
       " {1: [2, 3], 3: [1, 2], 2: [1, 3]},\n",
       " {1: [3, 5], 3: [1, 5], 5: [1, 3]},\n",
       " {1: [2, 5], 2: [1, 5], 5: [1, 2]},\n",
       " {1: [2, 3, 5], 3: [1, 2, 5], 2: [1, 3, 5], 5: [1, 2, 3]},\n",
       " {3: [2], 2: [3]},\n",
       " {3: [5], 5: [3]},\n",
       " {3: [1], 1: [3]},\n",
       " {3: [2], 2: [3]},\n",
       " {3: [5], 5: [3]},\n",
       " {3: [2, 5], 2: [3, 5], 5: [2, 3]},\n",
       " {3: [2, 5], 2: [3, 5], 5: [2, 3]},\n",
       " {2: [5], 5: [2]},\n",
       " {2: [1, 3], 1: [2, 3], 3: [1, 2]},\n",
       " {2: [3], 3: [2]},\n",
       " {2: [3, 5], 3: [2, 5], 5: [2, 3]},\n",
       " {2: [5], 5: [2]},\n",
       " {2: [3, 5], 3: [2, 5], 5: [2, 3]},\n",
       " {5: [1, 3], 1: [3, 5], 3: [1, 5]},\n",
       " {5: [2, 3], 3: [2, 5], 2: [3, 5]},\n",
       " {5: [3], 3: [5]},\n",
       " {5: [2], 2: [5]},\n",
       " {5: [2, 3], 3: [2, 5], 2: [3, 5]},\n",
       " {1: [2, 3], 3: [1, 2], 2: [1, 3]},\n",
       " {1: [3, 5], 3: [1, 5], 5: [1, 3]},\n",
       " {1: [2, 3, 5], 3: [1, 2, 5], 2: [1, 3, 5], 5: [1, 2, 3]},\n",
       " {1: [2, 3, 5], 3: [1, 2, 5], 2: [1, 3, 5], 5: [1, 2, 3]},\n",
       " {3: [2, 5], 2: [3, 5], 5: [2, 3]},\n",
       " {3: [2, 5], 2: [3, 5], 5: [2, 3]},\n",
       " {3: [2, 5], 2: [3, 5], 5: [2, 3]},\n",
       " {3: [2, 5], 5: [2, 3], 2: [3, 5]},\n",
       " {3: [2, 5], 5: [2, 3], 2: [3, 5]},\n",
       " {2: [3, 5], 5: [2, 3], 3: [2, 5]}]"
      ]
     },
     "execution_count": 8,
     "metadata": {},
     "output_type": "execute_result"
    }
   ],
   "source": [
    "lst"
   ]
  },
  {
   "cell_type": "code",
   "execution_count": null,
   "id": "c93b800f",
   "metadata": {},
   "outputs": [],
   "source": []
  }
 ],
 "metadata": {
  "kernelspec": {
   "display_name": "Python 3 (ipykernel)",
   "language": "python",
   "name": "python3"
  },
  "language_info": {
   "codemirror_mode": {
    "name": "ipython",
    "version": 3
   },
   "file_extension": ".py",
   "mimetype": "text/x-python",
   "name": "python",
   "nbconvert_exporter": "python",
   "pygments_lexer": "ipython3",
   "version": "3.8.5"
  }
 },
 "nbformat": 4,
 "nbformat_minor": 5
}
