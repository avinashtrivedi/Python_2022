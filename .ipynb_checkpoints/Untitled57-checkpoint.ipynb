{
 "cells": [
  {
   "cell_type": "code",
   "execution_count": 4,
   "id": "b50915fb",
   "metadata": {},
   "outputs": [
    {
     "data": {
      "application/vnd.jupyter.widget-view+json": {
       "model_id": "91607863b5904430af37555970cc5108",
       "version_major": 2,
       "version_minor": 0
      },
      "text/plain": [
       "  0%|          | 0/6 [00:00<?, ?it/s]"
      ]
     },
     "metadata": {},
     "output_type": "display_data"
    },
    {
     "name": "stdout",
     "output_type": "stream",
     "text": [
      "<class 'pandas.core.frame.DataFrame'>\n",
      "(0, 5)\n",
      "<class 'pandas.core.frame.DataFrame'>\n",
      "(0, 5)\n",
      "<class 'pandas.core.frame.DataFrame'>\n",
      "(0, 5)\n",
      "<class 'pandas.core.frame.DataFrame'>\n",
      "(0, 5)\n",
      "<class 'pandas.core.frame.DataFrame'>\n",
      "(0, 5)\n",
      "<class 'pandas.core.frame.DataFrame'>\n",
      "(0, 5)\n"
     ]
    }
   ],
   "source": [
    "import os\n",
    "import requests\n",
    "# from selenium import webdriver\n",
    "# from selenium.webdriver.common.by import By\n",
    "# from selenium.webdriver.support.ui import WebDriverWait\n",
    "# from selenium.webdriver.support import expected_conditions as EC\n",
    "import time\n",
    "\n",
    "from bs4 import BeautifulSoup\n",
    "import pandas as pd\n",
    "from tqdm.auto import tqdm\n",
    "# browser = webdriver.Chrome(r'C:\\Users\\Admin\\Documents\\chromedriver.exe')\n",
    "\n",
    "# response = requests.get(sector_page_link)\n",
    "    \n",
    "# soup = BeautifulSoup(response.text)\n",
    "\n",
    "df2 = pd.DataFrame(columns=['Headline', 'Date', 'Query', 'News'])\n",
    "\n",
    "for query in tqdm(['covid', 'ukraine', 'roe v wade', 'climate change', 'Biden', 'Trump']):\n",
    "    url2 = f'https://www.foxnews.com/search-results/search?q={query}'\n",
    "#     browser.get(url2)\n",
    "#     time.sleep(10)\n",
    "     # wait = WebDriverWait(browser, 1)\n",
    "      # wait.until(EC.visibility_of_element_located((By.CSS_SELECTOR, 'container__description')))\n",
    "\n",
    "    response = requests.get(url2)\n",
    "    soup = BeautifulSoup(response.text)\n",
    "    \n",
    "#     soup = BeautifulSoup(browser.page_source, 'html5lib')\n",
    "\n",
    "    texts2 = [i.text for i in soup.find_all(\"div\",{\"class\":\"content\"})][1:]\n",
    "\n",
    "        \n",
    "        \n",
    "        \n",
    "    headlines2 = [i.text for i in soup.find_all(\"h2\",{\"class\":\"title\"})][2:]\n",
    "    timestamps2 = [i.text for i in soup.find_all(\"span\",{\"class\":\"time\"})][1:]\n",
    "\n",
    "    temp_df2 = pd.DataFrame(columns=['Headline', 'Date', 'Query', 'News', 'Source'])\n",
    "    temp_df2['Headline'] = headlines2\n",
    "    temp_df2['Query'] = query\n",
    "    temp_df2['Date'] = timestamps2\n",
    "    temp_df2['News'] = texts2\n",
    "    temp_df2['Source'] = 'Fox'\n",
    "\n",
    "    print(type(temp_df2))\n",
    "    \n",
    "#     temp_df2.Headline = temp_df2.Headline.str.replace('\\n', '')\n",
    "#     temp_df2.Date = temp_df2.Date.str.replace('\\n', '')\n",
    "#     temp_df2.News = temp_df2.News.str.replace('\\n', '')\n",
    "\n",
    "    df2 = pd.concat([df2, temp_df2], ignore_index=True)\n",
    "    print(df2.shape)\n",
    "    \n",
    "\n",
    "# df2.to_excel('./fox.xlsx', index=False)\n"
   ]
  },
  {
   "cell_type": "code",
   "execution_count": 5,
   "id": "1d114474",
   "metadata": {},
   "outputs": [
    {
     "data": {
      "text/html": [
       "<div>\n",
       "<style scoped>\n",
       "    .dataframe tbody tr th:only-of-type {\n",
       "        vertical-align: middle;\n",
       "    }\n",
       "\n",
       "    .dataframe tbody tr th {\n",
       "        vertical-align: top;\n",
       "    }\n",
       "\n",
       "    .dataframe thead th {\n",
       "        text-align: right;\n",
       "    }\n",
       "</style>\n",
       "<table border=\"1\" class=\"dataframe\">\n",
       "  <thead>\n",
       "    <tr style=\"text-align: right;\">\n",
       "      <th></th>\n",
       "      <th>Headline</th>\n",
       "      <th>Date</th>\n",
       "      <th>Query</th>\n",
       "      <th>News</th>\n",
       "      <th>Source</th>\n",
       "    </tr>\n",
       "  </thead>\n",
       "  <tbody>\n",
       "  </tbody>\n",
       "</table>\n",
       "</div>"
      ],
      "text/plain": [
       "Empty DataFrame\n",
       "Columns: [Headline, Date, Query, News, Source]\n",
       "Index: []"
      ]
     },
     "execution_count": 5,
     "metadata": {},
     "output_type": "execute_result"
    }
   ],
   "source": [
    "df2"
   ]
  },
  {
   "cell_type": "code",
   "execution_count": null,
   "id": "e4175de2",
   "metadata": {},
   "outputs": [],
   "source": []
  }
 ],
 "metadata": {
  "kernelspec": {
   "display_name": "Python 3 (ipykernel)",
   "language": "python",
   "name": "python3"
  },
  "language_info": {
   "codemirror_mode": {
    "name": "ipython",
    "version": 3
   },
   "file_extension": ".py",
   "mimetype": "text/x-python",
   "name": "python",
   "nbconvert_exporter": "python",
   "pygments_lexer": "ipython3",
   "version": "3.9.12"
  }
 },
 "nbformat": 4,
 "nbformat_minor": 5
}
