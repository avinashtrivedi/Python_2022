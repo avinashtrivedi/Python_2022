{
 "cells": [
  {
   "cell_type": "code",
   "execution_count": 1,
   "metadata": {},
   "outputs": [],
   "source": [
    "import numpy as np\n",
    "from numpy.polynomial.polynomial import polyfit\n",
    "import pandas as pd\n",
    "import seaborn as sns\n",
    "import matplotlib.pyplot as plt\n",
    "from sklearn.linear_model import LinearRegression\n",
    "from sklearn.linear_model import LogisticRegression\n",
    "from sklearn.model_selection import train_test_split\n"
   ]
  },
  {
   "cell_type": "code",
   "execution_count": 2,
   "metadata": {},
   "outputs": [],
   "source": [
    "df_transactions = pd.read_csv('transactions.csv')"
   ]
  },
  {
   "cell_type": "code",
   "execution_count": 3,
   "metadata": {},
   "outputs": [
    {
     "name": "stdout",
     "output_type": "stream",
     "text": [
      "<class 'pandas.core.frame.DataFrame'>\n",
      "RangeIndex: 27171 entries, 0 to 27170\n",
      "Data columns (total 13 columns):\n",
      " #   Column            Non-Null Count  Dtype  \n",
      "---  ------            --------------  -----  \n",
      " 0   id                27171 non-null  int64  \n",
      " 1   date              27171 non-null  object \n",
      " 2   days_after_open   27171 non-null  int64  \n",
      " 3   day_of_week       27171 non-null  object \n",
      " 4   hours_after_open  27171 non-null  int64  \n",
      " 5   drink_id          27171 non-null  int64  \n",
      " 6   name              27171 non-null  object \n",
      " 7   unit_price        27171 non-null  float64\n",
      " 8   quantity          27171 non-null  int64  \n",
      " 9   raining           27171 non-null  object \n",
      " 10  study_area_id     27171 non-null  int64  \n",
      " 11  study_area_name   27171 non-null  object \n",
      " 12  dist_to_cafe      27171 non-null  int64  \n",
      "dtypes: float64(1), int64(7), object(5)\n",
      "memory usage: 2.7+ MB\n"
     ]
    }
   ],
   "source": [
    "df_transactions.info()"
   ]
  },
  {
   "cell_type": "code",
   "execution_count": 4,
   "metadata": {},
   "outputs": [
    {
     "data": {
      "text/plain": [
       "id                  False\n",
       "date                False\n",
       "days_after_open     False\n",
       "day_of_week         False\n",
       "hours_after_open    False\n",
       "drink_id            False\n",
       "name                False\n",
       "unit_price          False\n",
       "quantity            False\n",
       "raining             False\n",
       "study_area_id       False\n",
       "study_area_name     False\n",
       "dist_to_cafe        False\n",
       "dtype: bool"
      ]
     },
     "execution_count": 4,
     "metadata": {},
     "output_type": "execute_result"
    }
   ],
   "source": [
    "df_transactions.isnull().any()"
   ]
  },
  {
   "cell_type": "markdown",
   "metadata": {},
   "source": [
    "# Task 1"
   ]
  },
  {
   "cell_type": "markdown",
   "metadata": {},
   "source": [
    "## Seasonality\n",
    "### Monthly\n"
   ]
  },
  {
   "cell_type": "markdown",
   "metadata": {},
   "source": [
    "Calculate the revenue then find mean in each month"
   ]
  },
  {
   "cell_type": "code",
   "execution_count": 5,
   "metadata": {},
   "outputs": [],
   "source": [
    "df_transactions['revenue'] = df_transactions['unit_price'] * df_transactions['quantity']"
   ]
  },
  {
   "cell_type": "code",
   "execution_count": 6,
   "metadata": {},
   "outputs": [],
   "source": [
    "df_transactions['date'] = pd.to_datetime(df_transactions.date, format='%Y-%m-%d')"
   ]
  },
  {
   "cell_type": "code",
   "execution_count": 7,
   "metadata": {},
   "outputs": [],
   "source": [
    "df_transactions['month']= df_transactions['date'].dt.month"
   ]
  },
  {
   "cell_type": "code",
   "execution_count": 8,
   "metadata": {},
   "outputs": [
    {
     "data": {
      "text/html": [
       "<div>\n",
       "<style scoped>\n",
       "    .dataframe tbody tr th:only-of-type {\n",
       "        vertical-align: middle;\n",
       "    }\n",
       "\n",
       "    .dataframe tbody tr th {\n",
       "        vertical-align: top;\n",
       "    }\n",
       "\n",
       "    .dataframe thead th {\n",
       "        text-align: right;\n",
       "    }\n",
       "</style>\n",
       "<table border=\"1\" class=\"dataframe\">\n",
       "  <thead>\n",
       "    <tr style=\"text-align: right;\">\n",
       "      <th></th>\n",
       "      <th>id</th>\n",
       "      <th>date</th>\n",
       "      <th>days_after_open</th>\n",
       "      <th>day_of_week</th>\n",
       "      <th>hours_after_open</th>\n",
       "      <th>drink_id</th>\n",
       "      <th>name</th>\n",
       "      <th>unit_price</th>\n",
       "      <th>quantity</th>\n",
       "      <th>raining</th>\n",
       "      <th>study_area_id</th>\n",
       "      <th>study_area_name</th>\n",
       "      <th>dist_to_cafe</th>\n",
       "      <th>revenue</th>\n",
       "      <th>month</th>\n",
       "    </tr>\n",
       "  </thead>\n",
       "  <tbody>\n",
       "    <tr>\n",
       "      <th>0</th>\n",
       "      <td>0</td>\n",
       "      <td>2019-07-22</td>\n",
       "      <td>0</td>\n",
       "      <td>Mon</td>\n",
       "      <td>0</td>\n",
       "      <td>5</td>\n",
       "      <td>Flat White (L)</td>\n",
       "      <td>4.9</td>\n",
       "      <td>1</td>\n",
       "      <td>No</td>\n",
       "      <td>3</td>\n",
       "      <td>Abercrombie (H70)</td>\n",
       "      <td>700</td>\n",
       "      <td>4.9</td>\n",
       "      <td>7</td>\n",
       "    </tr>\n",
       "    <tr>\n",
       "      <th>1</th>\n",
       "      <td>1</td>\n",
       "      <td>2019-07-22</td>\n",
       "      <td>0</td>\n",
       "      <td>Mon</td>\n",
       "      <td>0</td>\n",
       "      <td>5</td>\n",
       "      <td>Flat White (L)</td>\n",
       "      <td>4.9</td>\n",
       "      <td>1</td>\n",
       "      <td>No</td>\n",
       "      <td>1</td>\n",
       "      <td>Law Library (F10)</td>\n",
       "      <td>84</td>\n",
       "      <td>4.9</td>\n",
       "      <td>7</td>\n",
       "    </tr>\n",
       "    <tr>\n",
       "      <th>2</th>\n",
       "      <td>2</td>\n",
       "      <td>2019-07-22</td>\n",
       "      <td>0</td>\n",
       "      <td>Mon</td>\n",
       "      <td>0</td>\n",
       "      <td>2</td>\n",
       "      <td>Macchiato</td>\n",
       "      <td>3.8</td>\n",
       "      <td>1</td>\n",
       "      <td>No</td>\n",
       "      <td>1</td>\n",
       "      <td>Law Library (F10)</td>\n",
       "      <td>84</td>\n",
       "      <td>3.8</td>\n",
       "      <td>7</td>\n",
       "    </tr>\n",
       "    <tr>\n",
       "      <th>3</th>\n",
       "      <td>3</td>\n",
       "      <td>2019-07-22</td>\n",
       "      <td>0</td>\n",
       "      <td>Mon</td>\n",
       "      <td>0</td>\n",
       "      <td>2</td>\n",
       "      <td>Macchiato</td>\n",
       "      <td>3.8</td>\n",
       "      <td>1</td>\n",
       "      <td>No</td>\n",
       "      <td>5</td>\n",
       "      <td>Carslaw (F07)</td>\n",
       "      <td>150</td>\n",
       "      <td>3.8</td>\n",
       "      <td>7</td>\n",
       "    </tr>\n",
       "    <tr>\n",
       "      <th>4</th>\n",
       "      <td>4</td>\n",
       "      <td>2019-07-22</td>\n",
       "      <td>0</td>\n",
       "      <td>Mon</td>\n",
       "      <td>0</td>\n",
       "      <td>5</td>\n",
       "      <td>Flat White (L)</td>\n",
       "      <td>4.9</td>\n",
       "      <td>1</td>\n",
       "      <td>No</td>\n",
       "      <td>5</td>\n",
       "      <td>Carslaw (F07)</td>\n",
       "      <td>150</td>\n",
       "      <td>4.9</td>\n",
       "      <td>7</td>\n",
       "    </tr>\n",
       "  </tbody>\n",
       "</table>\n",
       "</div>"
      ],
      "text/plain": [
       "   id       date  days_after_open day_of_week  hours_after_open  drink_id  \\\n",
       "0   0 2019-07-22                0         Mon                 0         5   \n",
       "1   1 2019-07-22                0         Mon                 0         5   \n",
       "2   2 2019-07-22                0         Mon                 0         2   \n",
       "3   3 2019-07-22                0         Mon                 0         2   \n",
       "4   4 2019-07-22                0         Mon                 0         5   \n",
       "\n",
       "             name  unit_price  quantity raining  study_area_id  \\\n",
       "0  Flat White (L)         4.9         1      No              3   \n",
       "1  Flat White (L)         4.9         1      No              1   \n",
       "2       Macchiato         3.8         1      No              1   \n",
       "3       Macchiato         3.8         1      No              5   \n",
       "4  Flat White (L)         4.9         1      No              5   \n",
       "\n",
       "     study_area_name  dist_to_cafe  revenue  month  \n",
       "0  Abercrombie (H70)           700      4.9      7  \n",
       "1  Law Library (F10)            84      4.9      7  \n",
       "2  Law Library (F10)            84      3.8      7  \n",
       "3      Carslaw (F07)           150      3.8      7  \n",
       "4      Carslaw (F07)           150      4.9      7  "
      ]
     },
     "execution_count": 8,
     "metadata": {},
     "output_type": "execute_result"
    }
   ],
   "source": [
    "df_transactions.head()"
   ]
  },
  {
   "cell_type": "code",
   "execution_count": 9,
   "metadata": {},
   "outputs": [],
   "source": [
    "Sum_rev_monthly=df_transactions.groupby([\"month\"]).sum()['revenue']"
   ]
  },
  {
   "cell_type": "code",
   "execution_count": 10,
   "metadata": {},
   "outputs": [
    {
     "name": "stdout",
     "output_type": "stream",
     "text": [
      "month\n",
      "7      2897.0\n",
      "8      8857.4\n",
      "9     11553.2\n",
      "10    25499.9\n",
      "11    50989.2\n",
      "12    44978.8\n",
      "Name: revenue, dtype: float64\n"
     ]
    }
   ],
   "source": [
    "print(Sum_rev_monthly)"
   ]
  },
  {
   "cell_type": "code",
   "execution_count": 11,
   "metadata": {},
   "outputs": [
    {
     "data": {
      "image/png": "[encoded data removed]",
      "text/plain": [
       "<Figure size 432x288 with 1 Axes>"
      ]
     },
     "metadata": {
      "needs_background": "light"
     },
     "output_type": "display_data"
    }
   ],
   "source": [
    "month = ['July','August','September','October','November','December']\n",
    "\n",
    "plt.bar(month,Sum_rev_monthly)\n",
    "plt.xlabel(\"Month\")\n",
    "plt.ylabel(\"Sum of revenue\")\n",
    "plt.title(\"Monthly revenue from July to December\")\n",
    "plt.savefig(\"plot1\")"
   ]
  },
  {
   "cell_type": "markdown",
   "metadata": {},
   "source": [
    "July - semester break, less student on campus\n",
    "lower workload\n",
    "August- start of semester\n",
    "September \n",
    "October - mid-term+ assignment"
   ]
  },
  {
   "cell_type": "markdown",
   "metadata": {},
   "source": [
    "### Day"
   ]
  },
  {
   "cell_type": "code",
   "execution_count": 12,
   "metadata": {},
   "outputs": [
    {
     "data": {
      "text/html": [
       "<div>\n",
       "<style scoped>\n",
       "    .dataframe tbody tr th:only-of-type {\n",
       "        vertical-align: middle;\n",
       "    }\n",
       "\n",
       "    .dataframe tbody tr th {\n",
       "        vertical-align: top;\n",
       "    }\n",
       "\n",
       "    .dataframe thead th {\n",
       "        text-align: right;\n",
       "    }\n",
       "</style>\n",
       "<table border=\"1\" class=\"dataframe\">\n",
       "  <thead>\n",
       "    <tr style=\"text-align: right;\">\n",
       "      <th></th>\n",
       "      <th>revenue</th>\n",
       "    </tr>\n",
       "    <tr>\n",
       "      <th>day_of_week</th>\n",
       "      <th></th>\n",
       "    </tr>\n",
       "  </thead>\n",
       "  <tbody>\n",
       "    <tr>\n",
       "      <th>Fri</th>\n",
       "      <td>154.228030</td>\n",
       "    </tr>\n",
       "    <tr>\n",
       "      <th>Mon</th>\n",
       "      <td>145.654545</td>\n",
       "    </tr>\n",
       "    <tr>\n",
       "      <th>Sat</th>\n",
       "      <td>145.927273</td>\n",
       "    </tr>\n",
       "    <tr>\n",
       "      <th>Sun</th>\n",
       "      <td>149.926515</td>\n",
       "    </tr>\n",
       "    <tr>\n",
       "      <th>Thu</th>\n",
       "      <td>166.267424</td>\n",
       "    </tr>\n",
       "    <tr>\n",
       "      <th>Tue</th>\n",
       "      <td>157.486364</td>\n",
       "    </tr>\n",
       "    <tr>\n",
       "      <th>Wed</th>\n",
       "      <td>177.293939</td>\n",
       "    </tr>\n",
       "  </tbody>\n",
       "</table>\n",
       "</div>"
      ],
      "text/plain": [
       "                revenue\n",
       "day_of_week            \n",
       "Fri          154.228030\n",
       "Mon          145.654545\n",
       "Sat          145.927273\n",
       "Sun          149.926515\n",
       "Thu          166.267424\n",
       "Tue          157.486364\n",
       "Wed          177.293939"
      ]
     },
     "execution_count": 12,
     "metadata": {},
     "output_type": "execute_result"
    }
   ],
   "source": [
    "hours_open = 6\n",
    "\n",
    "total_rev_each_day = df_transactions.groupby([\"day_of_week\", 'date']).sum()['revenue']\n",
    "mean_daily_rev = total_rev_each_day.reset_index(level=0).groupby('day_of_week').mean()\n",
    "mean_daily_rev_ph = mean_daily_rev/hours_open\n",
    "\n",
    "mean_daily_rev_ph"
   ]
  },
  {
   "cell_type": "code",
   "execution_count": 13,
   "metadata": {},
   "outputs": [
    {
     "data": {
      "image/png": "[encoded data removed]",
      "text/plain": [
       "<Figure size 432x288 with 1 Axes>"
      ]
     },
     "metadata": {
      "needs_background": "light"
     },
     "output_type": "display_data"
    }
   ],
   "source": [
    "days = [\"Mon\", \"Tue\", \"Wed\", \"Thu\", \"Fri\", \"Sat\", \"Sun\"]\n",
    "\n",
    "plt.bar(days, mean_daily_rev_ph.loc[days]['revenue'])\n",
    "plt.xlabel('Days')\n",
    "plt.ylabel('Revenue')\n",
    "plt.title('Average daily revenue')\n",
    "plt.savefig(\"plot2\")"
   ]
  },
  {
   "cell_type": "markdown",
   "metadata": {},
   "source": [
    "### Hourly"
   ]
  },
  {
   "cell_type": "code",
   "execution_count": 14,
   "metadata": {},
   "outputs": [],
   "source": [
    "Sum_rev_hourly=df_transactions.groupby([\"hours_after_open\"]).sum()['revenue']"
   ]
  },
  {
   "cell_type": "markdown",
   "metadata": {},
   "source": [
    "Not sure if can change limit"
   ]
  },
  {
   "cell_type": "code",
   "execution_count": 15,
   "metadata": {},
   "outputs": [
    {
     "data": {
      "image/png": "[encoded data removed]",
      "text/plain": [
       "<Figure size 432x288 with 1 Axes>"
      ]
     },
     "metadata": {
      "needs_background": "light"
     },
     "output_type": "display_data"
    }
   ],
   "source": [
    "Hour = ['7-8','8-9','9-10','10-11','11-12','12-1']\n",
    "\n",
    "plt.bar(Hour,Sum_rev_hourly)\n",
    "plt.ylim((20000,28000)) \n",
    "plt.xlabel(\"Hour\")\n",
    "plt.ylabel(\"Sum of revenue\")\n",
    "plt.title(\"Hourly revenue from 7pm to 1am\")\n",
    "plt.savefig(\"plot3\")"
   ]
  },
  {
   "cell_type": "markdown",
   "metadata": {},
   "source": [
    "## Days Since Opened"
   ]
  },
  {
   "cell_type": "markdown",
   "metadata": {},
   "source": [
    "1. Check out the skewness"
   ]
  },
  {
   "cell_type": "code",
   "execution_count": 16,
   "metadata": {},
   "outputs": [],
   "source": [
    "Transdays = df_transactions[[\"days_after_open\"]]"
   ]
  },
  {
   "cell_type": "code",
   "execution_count": 17,
   "metadata": {},
   "outputs": [
    {
     "data": {
      "image/png": "[encoded data removed]",
      "text/plain": [
       "<Figure size 720x432 with 1 Axes>"
      ]
     },
     "metadata": {
      "needs_background": "light"
     },
     "output_type": "display_data"
    }
   ],
   "source": [
    "Transdays.hist(grid=False,\n",
    "       figsize=(10, 6),\n",
    "       bins=30)\n",
    "       \n",
    "plt.xlabel('Revenue')\n",
    "plt.ylabel('Transaction value')\n",
    "plt.title('Transaction Hist')\n",
    "plt.show()"
   ]
  },
  {
   "cell_type": "code",
   "execution_count": 18,
   "metadata": {},
   "outputs": [
    {
     "data": {
      "text/html": [
       "<div>\n",
       "<style scoped>\n",
       "    .dataframe tbody tr th:only-of-type {\n",
       "        vertical-align: middle;\n",
       "    }\n",
       "\n",
       "    .dataframe tbody tr th {\n",
       "        vertical-align: top;\n",
       "    }\n",
       "\n",
       "    .dataframe thead th {\n",
       "        text-align: right;\n",
       "    }\n",
       "</style>\n",
       "<table border=\"1\" class=\"dataframe\">\n",
       "  <thead>\n",
       "    <tr style=\"text-align: right;\">\n",
       "      <th></th>\n",
       "      <th>skew</th>\n",
       "      <th>kurtosis</th>\n",
       "    </tr>\n",
       "  </thead>\n",
       "  <tbody>\n",
       "    <tr>\n",
       "      <th>days_after_open</th>\n",
       "      <td>-1.071551</td>\n",
       "      <td>0.448996</td>\n",
       "    </tr>\n",
       "  </tbody>\n",
       "</table>\n",
       "</div>"
      ],
      "text/plain": [
       "                     skew  kurtosis\n",
       "days_after_open -1.071551  0.448996"
      ]
     },
     "execution_count": 18,
     "metadata": {},
     "output_type": "execute_result"
    }
   ],
   "source": [
    "Transdays.agg(['skew', 'kurtosis']).transpose()"
   ]
  },
  {
   "cell_type": "code",
   "execution_count": 19,
   "metadata": {},
   "outputs": [],
   "source": [
    "x = df_transactions[\"days_after_open\"].to_numpy()\n",
    "y = df_transactions[\"revenue\"].to_numpy()"
   ]
  },
  {
   "cell_type": "markdown",
   "metadata": {},
   "source": [
    "2.Try out for linear regression"
   ]
  },
  {
   "cell_type": "code",
   "execution_count": 20,
   "metadata": {},
   "outputs": [],
   "source": [
    "Daily_rev =df_transactions.groupby([\"days_after_open\"]).sum()['revenue']"
   ]
  },
  {
   "cell_type": "code",
   "execution_count": 21,
   "metadata": {},
   "outputs": [],
   "source": [
    "numbers = df_transactions[\"days_after_open\"]\n",
    "\n",
    "def get_unique_numbers(numbers):\n",
    "    list_of_unique_numbers = []\n",
    "    unique_numbers = set(numbers)\n",
    "    for number in unique_numbers:\n",
    "        list_of_unique_numbers.append(number)\n",
    "    return list_of_unique_numbers\n",
    "\n",
    "Unique = get_unique_numbers(numbers)"
   ]
  },
  {
   "cell_type": "code",
   "execution_count": 22,
   "metadata": {},
   "outputs": [
    {
     "name": "stdout",
     "output_type": "stream",
     "text": [
      "[0, 1, 2, 3, 4, 5, 6, 7, 8, 9, 10, 11, 12, 13, 14, 15, 16, 17, 18, 19, 20, 21, 22, 23, 24, 25, 26, 27, 28, 29, 30, 31, 32, 33, 34, 35, 36, 37, 38, 39, 40, 41, 42, 43, 44, 45, 46, 47, 48, 49, 50, 51, 52, 53, 54, 55, 56, 57, 58, 59, 60, 61, 62, 63, 64, 65, 66, 67, 68, 69, 70, 71, 72, 73, 74, 75, 76, 77, 78, 79, 80, 81, 82, 83, 84, 85, 86, 87, 88, 89, 90, 91, 92, 93, 94, 95, 96, 97, 98, 99, 100, 101, 102, 103, 104, 105, 106, 107, 108, 109, 110, 111, 112, 113, 114, 115, 116, 117, 118, 119, 120, 121, 122, 123, 124, 125, 126, 127, 128, 129, 130, 131, 132, 133, 134, 135, 136, 137, 138, 139, 140, 141, 142, 143, 144, 145, 146, 147, 148, 149, 150, 151, 152, 153]\n"
     ]
    }
   ],
   "source": [
    "Unique_ints = []\n",
    "for element in Unique:\n",
    "    Unique_ints.append(int(element))\n",
    "print(Unique_ints)"
   ]
  },
  {
   "cell_type": "code",
   "execution_count": 23,
   "metadata": {},
   "outputs": [
    {
     "data": {
      "image/png": "[encoded data removed]",
      "text/plain": [
       "<Figure size 432x288 with 1 Axes>"
      ]
     },
     "metadata": {
      "needs_background": "light"
     },
     "output_type": "display_data"
    }
   ],
   "source": [
    "plt.scatter(Unique,Daily_rev,s=10,alpha = 0.5)\n",
    "\n",
    "coef = np.polyfit(Unique,Daily_rev,3)\n",
    "poly1d_fn = np.poly1d(coef) \n",
    "\n",
    "plt.plot(Unique, poly1d_fn(Unique), '--',color='r')\n",
    "# Cannot plot linear line? since there are no linear relationship\n",
    "\n",
    "plt.xlabel('Days since opened')\n",
    "plt.ylabel('Revenue')\n",
    "plt.title('Revenue of days since opened')\n",
    "plt.savefig(\"plot4\")"
   ]
  },
  {
   "cell_type": "markdown",
   "metadata": {},
   "source": [
    "## Transform the data"
   ]
  },
  {
   "cell_type": "code",
   "execution_count": 24,
   "metadata": {},
   "outputs": [],
   "source": [
    "x = df_transactions ['days_after_open'].values.reshape(-1, 1)\n",
    "y = df_transactions ['revenue'].values"
   ]
  },
  {
   "cell_type": "code",
   "execution_count": 25,
   "metadata": {},
   "outputs": [],
   "source": [
    "from sklearn.preprocessing import StandardScaler\n",
    "sc_X = StandardScaler()\n",
    "x = sc_X.fit_transform(x)"
   ]
  },
  {
   "cell_type": "code",
   "execution_count": 26,
   "metadata": {},
   "outputs": [],
   "source": [
    "corr = np.corrcoef(x[:,0],y)"
   ]
  },
  {
   "cell_type": "code",
   "execution_count": 27,
   "metadata": {},
   "outputs": [
    {
     "data": {
      "text/plain": [
       "array([[ 1.        , -0.00283532],\n",
       "       [-0.00283532,  1.        ]])"
      ]
     },
     "execution_count": 27,
     "metadata": {},
     "output_type": "execute_result"
    }
   ],
   "source": [
    "corr"
   ]
  },
  {
   "cell_type": "code",
   "execution_count": 28,
   "metadata": {},
   "outputs": [
    {
     "data": {
      "image/png": "[encoded data removed]",
      "text/plain": [
       "<Figure size 288x216 with 2 Axes>"
      ]
     },
     "metadata": {
      "needs_background": "light"
     },
     "output_type": "display_data"
    }
   ],
   "source": [
    "plt.figure(figsize=(4,3))\n",
    "x = sns.heatmap(corr,annot=True,annot_kws={\"size\": 16})\n",
    "x.set_yticklabels(x.get_ymajorticklabels(), fontsize = 16)\n",
    "x.set_xticklabels(x.get_xmajorticklabels(), fontsize = 16)\n",
    "plt.show()"
   ]
  },
  {
   "cell_type": "markdown",
   "metadata": {},
   "source": [
    "## Customer Location"
   ]
  },
  {
   "cell_type": "code",
   "execution_count": 29,
   "metadata": {},
   "outputs": [
    {
     "name": "stdout",
     "output_type": "stream",
     "text": [
      "       Yes\n",
      "0        0\n",
      "1        0\n",
      "2        0\n",
      "3        0\n",
      "4        0\n",
      "...    ...\n",
      "27166    0\n",
      "27167    1\n",
      "27168    0\n",
      "27169    1\n",
      "27170    1\n",
      "\n",
      "[27171 rows x 1 columns]\n"
     ]
    }
   ],
   "source": [
    "Rain = pd.get_dummies(df_transactions['raining'],drop_first = True)\n",
    "\n",
    "print(Rain)"
   ]
  },
  {
   "cell_type": "code",
   "execution_count": 30,
   "metadata": {},
   "outputs": [
    {
     "data": {
      "text/html": [
       "<div>\n",
       "<style scoped>\n",
       "    .dataframe tbody tr th:only-of-type {\n",
       "        vertical-align: middle;\n",
       "    }\n",
       "\n",
       "    .dataframe tbody tr th {\n",
       "        vertical-align: top;\n",
       "    }\n",
       "\n",
       "    .dataframe thead th {\n",
       "        text-align: right;\n",
       "    }\n",
       "</style>\n",
       "<table border=\"1\" class=\"dataframe\">\n",
       "  <thead>\n",
       "    <tr style=\"text-align: right;\">\n",
       "      <th></th>\n",
       "      <th>revenue</th>\n",
       "      <th>quantity</th>\n",
       "    </tr>\n",
       "    <tr>\n",
       "      <th>raining</th>\n",
       "      <th></th>\n",
       "      <th></th>\n",
       "    </tr>\n",
       "  </thead>\n",
       "  <tbody>\n",
       "    <tr>\n",
       "      <th>No</th>\n",
       "      <td>105509.2</td>\n",
       "      <td>25099</td>\n",
       "    </tr>\n",
       "    <tr>\n",
       "      <th>Yes</th>\n",
       "      <td>39266.3</td>\n",
       "      <td>9337</td>\n",
       "    </tr>\n",
       "  </tbody>\n",
       "</table>\n",
       "</div>"
      ],
      "text/plain": [
       "          revenue  quantity\n",
       "raining                    \n",
       "No       105509.2     25099\n",
       "Yes       39266.3      9337"
      ]
     },
     "execution_count": 30,
     "metadata": {},
     "output_type": "execute_result"
    }
   ],
   "source": [
    "Weather = df_transactions.groupby([\"raining\"]).sum()[['revenue','quantity']]\n",
    "\n",
    "Weather"
   ]
  },
  {
   "cell_type": "markdown",
   "metadata": {},
   "source": [
    "### Update method"
   ]
  },
  {
   "cell_type": "code",
   "execution_count": 31,
   "metadata": {},
   "outputs": [
    {
     "data": {
      "text/html": [
       "<div>\n",
       "<style scoped>\n",
       "    .dataframe tbody tr th:only-of-type {\n",
       "        vertical-align: middle;\n",
       "    }\n",
       "\n",
       "    .dataframe tbody tr th {\n",
       "        vertical-align: top;\n",
       "    }\n",
       "\n",
       "    .dataframe thead th {\n",
       "        text-align: right;\n",
       "    }\n",
       "</style>\n",
       "<table border=\"1\" class=\"dataframe\">\n",
       "  <thead>\n",
       "    <tr style=\"text-align: right;\">\n",
       "      <th></th>\n",
       "      <th>raining</th>\n",
       "    </tr>\n",
       "    <tr>\n",
       "      <th>study_area_name</th>\n",
       "      <th></th>\n",
       "    </tr>\n",
       "  </thead>\n",
       "  <tbody>\n",
       "    <tr>\n",
       "      <th>Abercrombie (H70)</th>\n",
       "      <td>2024.0</td>\n",
       "    </tr>\n",
       "    <tr>\n",
       "      <th>Brennan MacCallum (A18)</th>\n",
       "      <td>2003.0</td>\n",
       "    </tr>\n",
       "    <tr>\n",
       "      <th>Carslaw (F07)</th>\n",
       "      <td>4728.0</td>\n",
       "    </tr>\n",
       "    <tr>\n",
       "      <th>Fisher Library (F03)</th>\n",
       "      <td>7544.0</td>\n",
       "    </tr>\n",
       "    <tr>\n",
       "      <th>Law Library (F10)</th>\n",
       "      <td>6917.0</td>\n",
       "    </tr>\n",
       "    <tr>\n",
       "      <th>Peter Nicol Russell (PNR)</th>\n",
       "      <td>2009.0</td>\n",
       "    </tr>\n",
       "    <tr>\n",
       "      <th>The Quarter (A16)</th>\n",
       "      <td>1946.0</td>\n",
       "    </tr>\n",
       "  </tbody>\n",
       "</table>\n",
       "</div>"
      ],
      "text/plain": [
       "                           raining\n",
       "study_area_name                   \n",
       "Abercrombie (H70)           2024.0\n",
       "Brennan MacCallum (A18)     2003.0\n",
       "Carslaw (F07)               4728.0\n",
       "Fisher Library (F03)        7544.0\n",
       "Law Library (F10)           6917.0\n",
       "Peter Nicol Russell (PNR)   2009.0\n",
       "The Quarter (A16)           1946.0"
      ]
     },
     "execution_count": 31,
     "metadata": {},
     "output_type": "execute_result"
    }
   ],
   "source": [
    "daily_location_rev = df_transactions.groupby([\"study_area_name\"]).count()[['raining']]\n",
    "mean_daily_location_rev1 = daily_location_rev.reset_index(level=0).groupby('study_area_name').mean()\n",
    "\n",
    "mean_daily_location_rev1"
   ]
  },
  {
   "cell_type": "code",
   "execution_count": 32,
   "metadata": {},
   "outputs": [
    {
     "data": {
      "text/html": [
       "<div>\n",
       "<style scoped>\n",
       "    .dataframe tbody tr th:only-of-type {\n",
       "        vertical-align: middle;\n",
       "    }\n",
       "\n",
       "    .dataframe tbody tr th {\n",
       "        vertical-align: top;\n",
       "    }\n",
       "\n",
       "    .dataframe thead th {\n",
       "        text-align: right;\n",
       "    }\n",
       "</style>\n",
       "<table border=\"1\" class=\"dataframe\">\n",
       "  <thead>\n",
       "    <tr style=\"text-align: right;\">\n",
       "      <th></th>\n",
       "      <th>revenue</th>\n",
       "      <th>quantity</th>\n",
       "    </tr>\n",
       "    <tr>\n",
       "      <th>study_area_name</th>\n",
       "      <th></th>\n",
       "      <th></th>\n",
       "    </tr>\n",
       "  </thead>\n",
       "  <tbody>\n",
       "    <tr>\n",
       "      <th>Abercrombie (H70)</th>\n",
       "      <td>10973.5</td>\n",
       "      <td>2606.0</td>\n",
       "    </tr>\n",
       "    <tr>\n",
       "      <th>Brennan MacCallum (A18)</th>\n",
       "      <td>10572.9</td>\n",
       "      <td>2519.0</td>\n",
       "    </tr>\n",
       "    <tr>\n",
       "      <th>Carslaw (F07)</th>\n",
       "      <td>25265.3</td>\n",
       "      <td>5986.0</td>\n",
       "    </tr>\n",
       "    <tr>\n",
       "      <th>Fisher Library (F03)</th>\n",
       "      <td>40274.0</td>\n",
       "      <td>9580.0</td>\n",
       "    </tr>\n",
       "    <tr>\n",
       "      <th>Law Library (F10)</th>\n",
       "      <td>36585.7</td>\n",
       "      <td>8709.0</td>\n",
       "    </tr>\n",
       "    <tr>\n",
       "      <th>Peter Nicol Russell (PNR)</th>\n",
       "      <td>10908.0</td>\n",
       "      <td>2598.0</td>\n",
       "    </tr>\n",
       "    <tr>\n",
       "      <th>The Quarter (A16)</th>\n",
       "      <td>10196.1</td>\n",
       "      <td>2438.0</td>\n",
       "    </tr>\n",
       "  </tbody>\n",
       "</table>\n",
       "</div>"
      ],
      "text/plain": [
       "                           revenue  quantity\n",
       "study_area_name                             \n",
       "Abercrombie (H70)          10973.5    2606.0\n",
       "Brennan MacCallum (A18)    10572.9    2519.0\n",
       "Carslaw (F07)              25265.3    5986.0\n",
       "Fisher Library (F03)       40274.0    9580.0\n",
       "Law Library (F10)          36585.7    8709.0\n",
       "Peter Nicol Russell (PNR)  10908.0    2598.0\n",
       "The Quarter (A16)          10196.1    2438.0"
      ]
     },
     "execution_count": 32,
     "metadata": {},
     "output_type": "execute_result"
    }
   ],
   "source": [
    "daily_location_rev = df_transactions.groupby([\"study_area_name\"]).sum()[['revenue','quantity']]\n",
    "mean_daily_location_rev2 = daily_location_rev.reset_index(level=0).groupby('study_area_name').mean()\n",
    "\n",
    "mean_daily_location_rev2"
   ]
  },
  {
   "cell_type": "code",
   "execution_count": 33,
   "metadata": {},
   "outputs": [],
   "source": [
    "mean_daily_location_rev2['raining'] = mean_daily_location_rev1['raining']"
   ]
  },
  {
   "cell_type": "code",
   "execution_count": 34,
   "metadata": {},
   "outputs": [
    {
     "data": {
      "text/html": [
       "<div>\n",
       "<style scoped>\n",
       "    .dataframe tbody tr th:only-of-type {\n",
       "        vertical-align: middle;\n",
       "    }\n",
       "\n",
       "    .dataframe tbody tr th {\n",
       "        vertical-align: top;\n",
       "    }\n",
       "\n",
       "    .dataframe thead th {\n",
       "        text-align: right;\n",
       "    }\n",
       "</style>\n",
       "<table border=\"1\" class=\"dataframe\">\n",
       "  <thead>\n",
       "    <tr style=\"text-align: right;\">\n",
       "      <th></th>\n",
       "      <th>revenue</th>\n",
       "      <th>quantity</th>\n",
       "      <th>raining</th>\n",
       "    </tr>\n",
       "    <tr>\n",
       "      <th>study_area_name</th>\n",
       "      <th></th>\n",
       "      <th></th>\n",
       "      <th></th>\n",
       "    </tr>\n",
       "  </thead>\n",
       "  <tbody>\n",
       "    <tr>\n",
       "      <th>Abercrombie (H70)</th>\n",
       "      <td>10973.5</td>\n",
       "      <td>2606.0</td>\n",
       "      <td>2024.0</td>\n",
       "    </tr>\n",
       "    <tr>\n",
       "      <th>Brennan MacCallum (A18)</th>\n",
       "      <td>10572.9</td>\n",
       "      <td>2519.0</td>\n",
       "      <td>2003.0</td>\n",
       "    </tr>\n",
       "    <tr>\n",
       "      <th>Carslaw (F07)</th>\n",
       "      <td>25265.3</td>\n",
       "      <td>5986.0</td>\n",
       "      <td>4728.0</td>\n",
       "    </tr>\n",
       "    <tr>\n",
       "      <th>Fisher Library (F03)</th>\n",
       "      <td>40274.0</td>\n",
       "      <td>9580.0</td>\n",
       "      <td>7544.0</td>\n",
       "    </tr>\n",
       "    <tr>\n",
       "      <th>Law Library (F10)</th>\n",
       "      <td>36585.7</td>\n",
       "      <td>8709.0</td>\n",
       "      <td>6917.0</td>\n",
       "    </tr>\n",
       "    <tr>\n",
       "      <th>Peter Nicol Russell (PNR)</th>\n",
       "      <td>10908.0</td>\n",
       "      <td>2598.0</td>\n",
       "      <td>2009.0</td>\n",
       "    </tr>\n",
       "    <tr>\n",
       "      <th>The Quarter (A16)</th>\n",
       "      <td>10196.1</td>\n",
       "      <td>2438.0</td>\n",
       "      <td>1946.0</td>\n",
       "    </tr>\n",
       "  </tbody>\n",
       "</table>\n",
       "</div>"
      ],
      "text/plain": [
       "                           revenue  quantity  raining\n",
       "study_area_name                                      \n",
       "Abercrombie (H70)          10973.5    2606.0   2024.0\n",
       "Brennan MacCallum (A18)    10572.9    2519.0   2003.0\n",
       "Carslaw (F07)              25265.3    5986.0   4728.0\n",
       "Fisher Library (F03)       40274.0    9580.0   7544.0\n",
       "Law Library (F10)          36585.7    8709.0   6917.0\n",
       "Peter Nicol Russell (PNR)  10908.0    2598.0   2009.0\n",
       "The Quarter (A16)          10196.1    2438.0   1946.0"
      ]
     },
     "execution_count": 34,
     "metadata": {},
     "output_type": "execute_result"
    }
   ],
   "source": [
    "mean_daily_location_rev2"
   ]
  },
  {
   "cell_type": "code",
   "execution_count": 35,
   "metadata": {},
   "outputs": [
    {
     "data": {
      "image/png": "[encoded data removed]",
      "text/plain": [
       "<Figure size 432x288 with 1 Axes>"
      ]
     },
     "metadata": {
      "needs_background": "light"
     },
     "output_type": "display_data"
    },
    {
     "data": {
      "text/plain": [
       "<Figure size 432x288 with 0 Axes>"
      ]
     },
     "metadata": {},
     "output_type": "display_data"
    }
   ],
   "source": [
    "plt.barh(mean_daily_location_rev2.index, mean_daily_location_rev2['revenue'],label='revenue')\n",
    "plt.barh(mean_daily_location_rev2.index, mean_daily_location_rev2['quantity'],label='quantity')\n",
    "plt.barh(mean_daily_location_rev2.index, mean_daily_location_rev2['raining'],label='raining')\n",
    "plt.legend()\n",
    "plt.show()\n",
    "plt.savefig(\"plot5\")"
   ]
  },
  {
   "cell_type": "markdown",
   "metadata": {},
   "source": [
    "# Task 2 "
   ]
  },
  {
   "cell_type": "markdown",
   "metadata": {},
   "source": [
    "### Description of pre-processing or transformation of variables\n"
   ]
  },
  {
   "cell_type": "code",
   "execution_count": 36,
   "metadata": {},
   "outputs": [],
   "source": [
    "df_transactions['days_after_open^3'] = df_transactions['days_after_open']**3"
   ]
  },
  {
   "cell_type": "code",
   "execution_count": 37,
   "metadata": {},
   "outputs": [],
   "source": [
    "df = df_transactions[['name','day_of_week','unit_price','raining','hours_after_open','quantity','days_after_open^3']]"
   ]
  },
  {
   "cell_type": "code",
   "execution_count": 38,
   "metadata": {},
   "outputs": [],
   "source": [
    "df = pd.get_dummies(df, columns = ['name','day_of_week','raining'])"
   ]
  },
  {
   "cell_type": "code",
   "execution_count": 75,
   "metadata": {},
   "outputs": [
    {
     "data": {
      "text/plain": [
       "No     19768\n",
       "Yes     7403\n",
       "Name: raining, dtype: int64"
      ]
     },
     "execution_count": 75,
     "metadata": {},
     "output_type": "execute_result"
    }
   ],
   "source": [
    "df_transactions['raining'].value_counts()"
   ]
  },
  {
   "cell_type": "code",
   "execution_count": 95,
   "metadata": {},
   "outputs": [],
   "source": [
    "x = df.drop('quantity',axis = 1)\n",
    "y = df['quantity']"
   ]
  },
  {
   "cell_type": "code",
   "execution_count": 96,
   "metadata": {},
   "outputs": [],
   "source": [
    "from sklearn.model_selection import train_test_split\n",
    "X_train, X_test, y_train, y_test = train_test_split(x, y, test_size = 0.2, random_state = 42)"
   ]
  },
  {
   "cell_type": "code",
   "execution_count": 97,
   "metadata": {},
   "outputs": [],
   "source": [
    "col_names = list(X_train)"
   ]
  },
  {
   "cell_type": "code",
   "execution_count": 98,
   "metadata": {},
   "outputs": [],
   "source": [
    "from sklearn.preprocessing import StandardScaler\n",
    "sc_X = StandardScaler()\n",
    "X_train = sc_X.fit_transform(X_train)\n",
    "X_test = sc_X.transform(X_test)"
   ]
  },
  {
   "cell_type": "code",
   "execution_count": 100,
   "metadata": {},
   "outputs": [
    {
     "data": {
      "text/plain": [
       "LinearRegression()"
      ]
     },
     "execution_count": 100,
     "metadata": {},
     "output_type": "execute_result"
    }
   ],
   "source": [
    "from sklearn.linear_model import LinearRegression\n",
    "from sklearn.metrics import mean_squared_error\n",
    "\n",
    "lin_reg = LinearRegression()\n",
    "lin_reg.fit(X_train, y_train)"
   ]
  },
  {
   "cell_type": "code",
   "execution_count": 101,
   "metadata": {},
   "outputs": [],
   "source": [
    "y_pred = lin_reg.predict(X_test)"
   ]
  },
  {
   "cell_type": "code",
   "execution_count": 45,
   "metadata": {},
   "outputs": [
    {
     "data": {
      "text/plain": [
       "Lasso(alpha=1)"
      ]
     },
     "execution_count": 45,
     "metadata": {},
     "output_type": "execute_result"
    }
   ],
   "source": [
    "from sklearn.linear_model import Lasso\n",
    "\n",
    "reg = Lasso(alpha=1)\n",
    "reg.fit(X_train, y_train)"
   ]
  },
  {
   "cell_type": "code",
   "execution_count": 46,
   "metadata": {},
   "outputs": [
    {
     "name": "stdout",
     "output_type": "stream",
     "text": [
      "MSE training set 0.38\n",
      "MSE test set 0.37\n"
     ]
    }
   ],
   "source": [
    "from sklearn.metrics import mean_squared_error\n",
    "\n",
    "# Training data\n",
    "pred_train = reg.predict(X_train)\n",
    "mse_train = mean_squared_error(y_train, pred_train)\n",
    "print('MSE training set', round(mse_train, 2))\n",
    "\n",
    "# Test data\n",
    "pred = reg.predict(X_test)\n",
    "mse_test =mean_squared_error(y_test, pred)\n",
    "print('MSE test set', round(mse_test, 2))"
   ]
  },
  {
   "cell_type": "code",
   "execution_count": 47,
   "metadata": {},
   "outputs": [
    {
     "data": {
      "text/plain": [
       "0.6079343446508889"
      ]
     },
     "execution_count": 47,
     "metadata": {},
     "output_type": "execute_result"
    }
   ],
   "source": [
    "mean_squared_error(y_test, y_pred, squared=False) # MSE"
   ]
  },
  {
   "cell_type": "code",
   "execution_count": 48,
   "metadata": {},
   "outputs": [
    {
     "data": {
      "text/plain": [
       "0.36958416740610583"
      ]
     },
     "execution_count": 48,
     "metadata": {},
     "output_type": "execute_result"
    }
   ],
   "source": [
    "mean_squared_error(y_test, y_pred, squared=True) # RMSE"
   ]
  },
  {
   "cell_type": "code",
   "execution_count": 58,
   "metadata": {},
   "outputs": [
    {
     "data": {
      "text/plain": [
       "array([-7.57700224e+11, -5.19427428e-05,  7.44356011e-04,  2.57120895e+11,\n",
       "       -2.62989658e+10,  1.00096540e+11, -1.53255636e+11, -1.82250720e+11,\n",
       "        2.58159981e+11, -2.63929972e+10,  1.65538874e+11, -8.71404493e+10,\n",
       "        2.52037276e+11, -2.56574625e+10, -2.58799794e+10, -9.08673413e+10,\n",
       "       -9.00669907e+10,  4.15316794e+11,  1.34392140e+11, -2.39348664e+11,\n",
       "       -2.66835784e+12, -2.60691798e+12, -2.61646005e+12, -2.63084083e+12,\n",
       "       -2.76149551e+12, -2.69557311e+12, -2.83147448e+12,  2.87450416e+12,\n",
       "        2.87450416e+12])"
      ]
     },
     "execution_count": 58,
     "metadata": {},
     "output_type": "execute_result"
    }
   ],
   "source": [
    "lin_reg.coef_"
   ]
  },
  {
   "cell_type": "code",
   "execution_count": 57,
   "metadata": {},
   "outputs": [
    {
     "name": "stdout",
     "output_type": "stream",
     "text": [
      "unit_price -757700223911.9027\n",
      "hours_after_open -5.194274275653458e-05\n",
      "days_after_open^3 0.0007443560109074975\n",
      "name_Cappuccino (L) 257120894510.755\n",
      "name_Cappuccino (S) -26298965815.16488\n",
      "name_Chai Latte (L) 100096540437.50127\n",
      "name_Chai Latte (S) -153255636213.02353\n",
      "name_Espresso -182250720258.17316\n",
      "name_Flat White (L) 258159980892.64374\n",
      "name_Flat White (S) -26392997236.465164\n",
      "name_Hot Chocolate (L) 165538873502.74078\n",
      "name_Hot Chocolate (S) -87140449346.4208\n",
      "name_Latte (L) 252037275852.86847\n",
      "name_Latte (S) -25657462481.655533\n",
      "name_Long Black (L) -25879979363.99022\n",
      "name_Long Black (S) -90867341256.5657\n",
      "name_Macchiato -90066990667.10378\n",
      "name_Mocha (L) 415316793865.4397\n",
      "name_Mocha (S) 134392140469.28712\n",
      "name_Ristretto -239348664373.60406\n",
      "day_of_week_Fri -2668357844347.577\n",
      "day_of_week_Mon -2606917975869.4077\n",
      "day_of_week_Sat -2616460048068.0986\n",
      "day_of_week_Sun -2630840828147.978\n",
      "day_of_week_Thu -2761495514113.749\n",
      "day_of_week_Tue -2695573113465.2583\n",
      "day_of_week_Wed -2831474484040.4565\n",
      "raining_No 2874504158146.5264\n",
      "raining_Yes 2874504158146.519\n"
     ]
    }
   ],
   "source": [
    "for name,coef in zip(list(x),lin_reg.coef_):\n",
    "    print(name,coef)"
   ]
  },
  {
   "cell_type": "code",
   "execution_count": 50,
   "metadata": {},
   "outputs": [
    {
     "data": {
      "text/plain": [
       "1.2673963853224544"
      ]
     },
     "execution_count": 50,
     "metadata": {},
     "output_type": "execute_result"
    }
   ],
   "source": [
    "lin_reg.intercept_"
   ]
  },
  {
   "cell_type": "code",
   "execution_count": 51,
   "metadata": {},
   "outputs": [
    {
     "data": {
      "text/plain": [
       "0.00012585148736710128"
      ]
     },
     "execution_count": 51,
     "metadata": {},
     "output_type": "execute_result"
    }
   ],
   "source": [
    "lin_reg.score(X_test,y_test)"
   ]
  },
  {
   "cell_type": "code",
   "execution_count": null,
   "metadata": {},
   "outputs": [],
   "source": []
  },
  {
   "cell_type": "markdown",
   "metadata": {},
   "source": [
    "# code\n",
    "\n",
    "# 1"
   ]
  },
  {
   "cell_type": "code",
   "execution_count": 67,
   "metadata": {},
   "outputs": [
    {
     "name": "stdout",
     "output_type": "stream",
     "text": [
      "Requirement already satisfied: mlxtend in c:\\users\\avitr\\anaconda3\\lib\\site-packages (0.19.0)"
     ]
    },
    {
     "name": "stderr",
     "output_type": "stream",
     "text": [
      "WARNING: Ignoring invalid distribution -rpcio (c:\\users\\avitr\\anaconda3\\lib\\site-packages)\n",
      "WARNING: Ignoring invalid distribution -rpcio (c:\\users\\avitr\\anaconda3\\lib\\site-packages)\n",
      "WARNING: Ignoring invalid distribution -rpcio (c:\\users\\avitr\\anaconda3\\lib\\site-packages)\n",
      "WARNING: Ignoring invalid distribution -rpcio (c:\\users\\avitr\\anaconda3\\lib\\site-packages)\n",
      "WARNING: Ignoring invalid distribution -rpcio (c:\\users\\avitr\\anaconda3\\lib\\site-packages)\n",
      "WARNING: Ignoring invalid distribution -rpcio (c:\\users\\avitr\\anaconda3\\lib\\site-packages)\n",
      "WARNING: You are using pip version 22.0.4; however, version 22.1.1 is available.\n",
      "You should consider upgrading via the 'C:\\Users\\avitr\\anaconda3\\python.exe -m pip install --upgrade pip' command.\n"
     ]
    },
    {
     "name": "stdout",
     "output_type": "stream",
     "text": [
      "\n",
      "Requirement already satisfied: matplotlib>=3.0.0 in c:\\users\\avitr\\anaconda3\\lib\\site-packages (from mlxtend) (3.5.1)\n",
      "Requirement already satisfied: scikit-learn>=0.20.3 in c:\\users\\avitr\\anaconda3\\lib\\site-packages (from mlxtend) (1.0.2)\n",
      "Requirement already satisfied: scipy>=1.2.1 in c:\\users\\avitr\\anaconda3\\lib\\site-packages (from mlxtend) (1.8.0)\n",
      "Requirement already satisfied: pandas>=0.24.2 in c:\\users\\avitr\\anaconda3\\lib\\site-packages (from mlxtend) (1.4.1)\n",
      "Requirement already satisfied: joblib>=0.13.2 in c:\\users\\avitr\\anaconda3\\lib\\site-packages (from mlxtend) (1.1.0)\n",
      "Requirement already satisfied: numpy>=1.16.2 in c:\\users\\avitr\\anaconda3\\lib\\site-packages (from mlxtend) (1.22.2)\n",
      "Requirement already satisfied: setuptools in c:\\users\\avitr\\anaconda3\\lib\\site-packages (from mlxtend) (60.10.0)\n",
      "Requirement already satisfied: packaging>=20.0 in c:\\users\\avitr\\anaconda3\\lib\\site-packages (from matplotlib>=3.0.0->mlxtend) (21.3)\n",
      "Requirement already satisfied: kiwisolver>=1.0.1 in c:\\users\\avitr\\anaconda3\\lib\\site-packages (from matplotlib>=3.0.0->mlxtend) (1.3.2)\n",
      "Requirement already satisfied: pyparsing>=2.2.1 in c:\\users\\avitr\\anaconda3\\lib\\site-packages (from matplotlib>=3.0.0->mlxtend) (3.0.4)\n",
      "Requirement already satisfied: python-dateutil>=2.7 in c:\\users\\avitr\\anaconda3\\lib\\site-packages (from matplotlib>=3.0.0->mlxtend) (2.8.2)\n",
      "Requirement already satisfied: cycler>=0.10 in c:\\users\\avitr\\anaconda3\\lib\\site-packages (from matplotlib>=3.0.0->mlxtend) (0.11.0)\n",
      "Requirement already satisfied: fonttools>=4.22.0 in c:\\users\\avitr\\anaconda3\\lib\\site-packages (from matplotlib>=3.0.0->mlxtend) (4.29.1)\n",
      "Requirement already satisfied: pillow>=6.2.0 in c:\\users\\avitr\\anaconda3\\lib\\site-packages (from matplotlib>=3.0.0->mlxtend) (9.0.1)\n",
      "Requirement already satisfied: pytz>=2020.1 in c:\\users\\avitr\\anaconda3\\lib\\site-packages (from pandas>=0.24.2->mlxtend) (2021.3)\n",
      "Requirement already satisfied: six>=1.5 in c:\\users\\avitr\\anaconda3\\lib\\site-packages (from python-dateutil>=2.7->matplotlib>=3.0.0->mlxtend) (1.16.0)\n",
      "Requirement already satisfied: threadpoolctl>=2.0.0 in c:\\users\\avitr\\anaconda3\\lib\\site-packages (from scikit-learn>=0.20.3->mlxtend) (2.2.0)\n"
     ]
    }
   ],
   "source": [
    "# library for feature_selection\n",
    "!pip install mlxtend"
   ]
  },
  {
   "cell_type": "code",
   "execution_count": 113,
   "metadata": {},
   "outputs": [],
   "source": [
    "# import the library\n",
    "from mlxtend.feature_selection import SequentialFeatureSelector as sfs"
   ]
  },
  {
   "cell_type": "code",
   "execution_count": 134,
   "metadata": {},
   "outputs": [],
   "source": [
    "# build the feature_selection model\n",
    "# here 5 is the top 5 feature we want to consider\n",
    "sfs1 = sfs(lin_reg, k_features=5, forward=False, verbose=1, scoring='neg_mean_squared_error')"
   ]
  },
  {
   "cell_type": "code",
   "execution_count": 135,
   "metadata": {},
   "outputs": [
    {
     "data": {
      "text/plain": [
       "SequentialFeatureSelector(estimator=LinearRegression(), forward=False,\n",
       "                          k_features=5, scoring='neg_mean_squared_error',\n",
       "                          verbose=1)"
      ]
     },
     "execution_count": 135,
     "metadata": {},
     "output_type": "execute_result"
    }
   ],
   "source": [
    "sfs1"
   ]
  },
  {
   "cell_type": "code",
   "execution_count": 136,
   "metadata": {},
   "outputs": [
    {
     "name": "stderr",
     "output_type": "stream",
     "text": [
      "[Parallel(n_jobs=1)]: Using backend SequentialBackend with 1 concurrent workers.\n",
      "[Parallel(n_jobs=1)]: Done  29 out of  29 | elapsed:    2.2s finished\n",
      "Features: 28/5[Parallel(n_jobs=1)]: Using backend SequentialBackend with 1 concurrent workers.\n",
      "[Parallel(n_jobs=1)]: Done  28 out of  28 | elapsed:    2.0s finished\n",
      "Features: 27/5[Parallel(n_jobs=1)]: Using backend SequentialBackend with 1 concurrent workers.\n",
      "[Parallel(n_jobs=1)]: Done  27 out of  27 | elapsed:    1.8s finished\n",
      "Features: 26/5[Parallel(n_jobs=1)]: Using backend SequentialBackend with 1 concurrent workers.\n",
      "[Parallel(n_jobs=1)]: Done  26 out of  26 | elapsed:    2.2s finished\n",
      "Features: 25/5[Parallel(n_jobs=1)]: Using backend SequentialBackend with 1 concurrent workers.\n",
      "[Parallel(n_jobs=1)]: Done  25 out of  25 | elapsed:    1.7s finished\n",
      "Features: 24/5[Parallel(n_jobs=1)]: Using backend SequentialBackend with 1 concurrent workers.\n",
      "[Parallel(n_jobs=1)]: Done  24 out of  24 | elapsed:    1.5s finished\n",
      "Features: 23/5[Parallel(n_jobs=1)]: Using backend SequentialBackend with 1 concurrent workers.\n",
      "[Parallel(n_jobs=1)]: Done  23 out of  23 | elapsed:    1.3s finished\n",
      "Features: 22/5[Parallel(n_jobs=1)]: Using backend SequentialBackend with 1 concurrent workers.\n",
      "[Parallel(n_jobs=1)]: Done  22 out of  22 | elapsed:    1.6s finished\n",
      "Features: 21/5[Parallel(n_jobs=1)]: Using backend SequentialBackend with 1 concurrent workers.\n",
      "[Parallel(n_jobs=1)]: Done  21 out of  21 | elapsed:    1.3s finished\n",
      "Features: 20/5[Parallel(n_jobs=1)]: Using backend SequentialBackend with 1 concurrent workers.\n",
      "[Parallel(n_jobs=1)]: Done  20 out of  20 | elapsed:    1.0s finished\n",
      "Features: 19/5[Parallel(n_jobs=1)]: Using backend SequentialBackend with 1 concurrent workers.\n",
      "[Parallel(n_jobs=1)]: Done  19 out of  19 | elapsed:    0.9s finished\n",
      "Features: 18/5[Parallel(n_jobs=1)]: Using backend SequentialBackend with 1 concurrent workers.\n",
      "[Parallel(n_jobs=1)]: Done  18 out of  18 | elapsed:    0.9s finished\n",
      "Features: 17/5[Parallel(n_jobs=1)]: Using backend SequentialBackend with 1 concurrent workers.\n",
      "[Parallel(n_jobs=1)]: Done  17 out of  17 | elapsed:    0.7s finished\n",
      "Features: 16/5[Parallel(n_jobs=1)]: Using backend SequentialBackend with 1 concurrent workers.\n",
      "[Parallel(n_jobs=1)]: Done  16 out of  16 | elapsed:    0.6s finished\n",
      "Features: 15/5[Parallel(n_jobs=1)]: Using backend SequentialBackend with 1 concurrent workers.\n",
      "[Parallel(n_jobs=1)]: Done  15 out of  15 | elapsed:    0.6s finished\n",
      "Features: 14/5[Parallel(n_jobs=1)]: Using backend SequentialBackend with 1 concurrent workers.\n",
      "[Parallel(n_jobs=1)]: Done  14 out of  14 | elapsed:    0.5s finished\n",
      "Features: 13/5[Parallel(n_jobs=1)]: Using backend SequentialBackend with 1 concurrent workers.\n",
      "[Parallel(n_jobs=1)]: Done  13 out of  13 | elapsed:    0.4s finished\n",
      "Features: 12/5[Parallel(n_jobs=1)]: Using backend SequentialBackend with 1 concurrent workers.\n",
      "[Parallel(n_jobs=1)]: Done  12 out of  12 | elapsed:    0.4s finished\n",
      "Features: 11/5[Parallel(n_jobs=1)]: Using backend SequentialBackend with 1 concurrent workers.\n",
      "[Parallel(n_jobs=1)]: Done  11 out of  11 | elapsed:    0.3s finished\n",
      "Features: 10/5[Parallel(n_jobs=1)]: Using backend SequentialBackend with 1 concurrent workers.\n",
      "[Parallel(n_jobs=1)]: Done  10 out of  10 | elapsed:    0.3s finished\n",
      "Features: 9/5[Parallel(n_jobs=1)]: Using backend SequentialBackend with 1 concurrent workers.\n",
      "[Parallel(n_jobs=1)]: Done   9 out of   9 | elapsed:    0.2s finished\n",
      "Features: 8/5[Parallel(n_jobs=1)]: Using backend SequentialBackend with 1 concurrent workers.\n",
      "[Parallel(n_jobs=1)]: Done   8 out of   8 | elapsed:    0.1s finished\n",
      "Features: 7/5[Parallel(n_jobs=1)]: Using backend SequentialBackend with 1 concurrent workers.\n",
      "[Parallel(n_jobs=1)]: Done   7 out of   7 | elapsed:    0.1s finished\n",
      "Features: 6/5[Parallel(n_jobs=1)]: Using backend SequentialBackend with 1 concurrent workers.\n",
      "[Parallel(n_jobs=1)]: Done   6 out of   6 | elapsed:    0.0s finished\n",
      "Features: 5/5"
     ]
    },
    {
     "data": {
      "text/plain": [
       "SequentialFeatureSelector(estimator=LinearRegression(), forward=False,\n",
       "                          k_features=5, scoring='neg_mean_squared_error',\n",
       "                          verbose=1)"
      ]
     },
     "execution_count": 136,
     "metadata": {},
     "output_type": "execute_result"
    }
   ],
   "source": [
    "# fit the trainign data\n",
    "sfs1.fit(X_train, y_train)"
   ]
  },
  {
   "cell_type": "code",
   "execution_count": 137,
   "metadata": {},
   "outputs": [
    {
     "name": "stdout",
     "output_type": "stream",
     "text": [
      "['3', '5', '7', '27', '28']\n"
     ]
    }
   ],
   "source": [
    "# get the features\n",
    "feat_names = list(sfs1.k_feature_names_)\n",
    "print(feat_names)"
   ]
  },
  {
   "cell_type": "code",
   "execution_count": 138,
   "metadata": {},
   "outputs": [],
   "source": [
    "# get the feature name\n",
    "feat_names = [col_names[int(i)] for i in feat_names]"
   ]
  },
  {
   "cell_type": "code",
   "execution_count": null,
   "metadata": {},
   "outputs": [],
   "source": []
  },
  {
   "cell_type": "code",
   "execution_count": 139,
   "metadata": {},
   "outputs": [
    {
     "data": {
      "text/html": [
       "<div>\n",
       "<style scoped>\n",
       "    .dataframe tbody tr th:only-of-type {\n",
       "        vertical-align: middle;\n",
       "    }\n",
       "\n",
       "    .dataframe tbody tr th {\n",
       "        vertical-align: top;\n",
       "    }\n",
       "\n",
       "    .dataframe thead th {\n",
       "        text-align: right;\n",
       "    }\n",
       "</style>\n",
       "<table border=\"1\" class=\"dataframe\">\n",
       "  <thead>\n",
       "    <tr style=\"text-align: right;\">\n",
       "      <th></th>\n",
       "      <th>name_Cappuccino (L)</th>\n",
       "      <th>name_Chai Latte (L)</th>\n",
       "      <th>name_Espresso</th>\n",
       "      <th>raining_No</th>\n",
       "      <th>raining_Yes</th>\n",
       "    </tr>\n",
       "  </thead>\n",
       "  <tbody>\n",
       "    <tr>\n",
       "      <th>0</th>\n",
       "      <td>0</td>\n",
       "      <td>0</td>\n",
       "      <td>0</td>\n",
       "      <td>1</td>\n",
       "      <td>0</td>\n",
       "    </tr>\n",
       "    <tr>\n",
       "      <th>1</th>\n",
       "      <td>0</td>\n",
       "      <td>0</td>\n",
       "      <td>0</td>\n",
       "      <td>1</td>\n",
       "      <td>0</td>\n",
       "    </tr>\n",
       "    <tr>\n",
       "      <th>2</th>\n",
       "      <td>0</td>\n",
       "      <td>0</td>\n",
       "      <td>0</td>\n",
       "      <td>1</td>\n",
       "      <td>0</td>\n",
       "    </tr>\n",
       "    <tr>\n",
       "      <th>3</th>\n",
       "      <td>0</td>\n",
       "      <td>0</td>\n",
       "      <td>0</td>\n",
       "      <td>1</td>\n",
       "      <td>0</td>\n",
       "    </tr>\n",
       "    <tr>\n",
       "      <th>4</th>\n",
       "      <td>0</td>\n",
       "      <td>0</td>\n",
       "      <td>0</td>\n",
       "      <td>1</td>\n",
       "      <td>0</td>\n",
       "    </tr>\n",
       "  </tbody>\n",
       "</table>\n",
       "</div>"
      ],
      "text/plain": [
       "   name_Cappuccino (L)  name_Chai Latte (L)  name_Espresso  raining_No  \\\n",
       "0                    0                    0              0           1   \n",
       "1                    0                    0              0           1   \n",
       "2                    0                    0              0           1   \n",
       "3                    0                    0              0           1   \n",
       "4                    0                    0              0           1   \n",
       "\n",
       "   raining_Yes  \n",
       "0            0  \n",
       "1            0  \n",
       "2            0  \n",
       "3            0  \n",
       "4            0  "
      ]
     },
     "execution_count": 139,
     "metadata": {},
     "output_type": "execute_result"
    }
   ],
   "source": [
    "# new_data = df[feat_names]\n",
    "\n",
    "# new_data.head()"
   ]
  },
  {
   "cell_type": "code",
   "execution_count": 140,
   "metadata": {},
   "outputs": [
    {
     "data": {
      "text/plain": [
       "{29: {'feature_idx': (0,\n",
       "   1,\n",
       "   2,\n",
       "   3,\n",
       "   4,\n",
       "   5,\n",
       "   6,\n",
       "   7,\n",
       "   8,\n",
       "   9,\n",
       "   10,\n",
       "   11,\n",
       "   12,\n",
       "   13,\n",
       "   14,\n",
       "   15,\n",
       "   16,\n",
       "   17,\n",
       "   18,\n",
       "   19,\n",
       "   20,\n",
       "   21,\n",
       "   22,\n",
       "   23,\n",
       "   24,\n",
       "   25,\n",
       "   26,\n",
       "   27,\n",
       "   28),\n",
       "  'cv_scores': array([-0.38735748, -0.36787814, -0.40746737, -0.37706628, -0.36310694]),\n",
       "  'avg_score': -0.3805752428341204,\n",
       "  'feature_names': ('0',\n",
       "   '1',\n",
       "   '2',\n",
       "   '3',\n",
       "   '4',\n",
       "   '5',\n",
       "   '6',\n",
       "   '7',\n",
       "   '8',\n",
       "   '9',\n",
       "   '10',\n",
       "   '11',\n",
       "   '12',\n",
       "   '13',\n",
       "   '14',\n",
       "   '15',\n",
       "   '16',\n",
       "   '17',\n",
       "   '18',\n",
       "   '19',\n",
       "   '20',\n",
       "   '21',\n",
       "   '22',\n",
       "   '23',\n",
       "   '24',\n",
       "   '25',\n",
       "   '26',\n",
       "   '27',\n",
       "   '28')},\n",
       " 28: {'feature_idx': (0,\n",
       "   1,\n",
       "   3,\n",
       "   4,\n",
       "   5,\n",
       "   6,\n",
       "   7,\n",
       "   8,\n",
       "   9,\n",
       "   10,\n",
       "   11,\n",
       "   12,\n",
       "   13,\n",
       "   14,\n",
       "   15,\n",
       "   16,\n",
       "   17,\n",
       "   18,\n",
       "   19,\n",
       "   20,\n",
       "   21,\n",
       "   22,\n",
       "   23,\n",
       "   24,\n",
       "   25,\n",
       "   26,\n",
       "   27,\n",
       "   28),\n",
       "  'cv_scores': array([-0.38709736, -0.36776613, -0.40536028, -0.37650158, -0.36312683]),\n",
       "  'avg_score': -0.3799704377223181,\n",
       "  'feature_names': ('0',\n",
       "   '1',\n",
       "   '3',\n",
       "   '4',\n",
       "   '5',\n",
       "   '6',\n",
       "   '7',\n",
       "   '8',\n",
       "   '9',\n",
       "   '10',\n",
       "   '11',\n",
       "   '12',\n",
       "   '13',\n",
       "   '14',\n",
       "   '15',\n",
       "   '16',\n",
       "   '17',\n",
       "   '18',\n",
       "   '19',\n",
       "   '20',\n",
       "   '21',\n",
       "   '22',\n",
       "   '23',\n",
       "   '24',\n",
       "   '25',\n",
       "   '26',\n",
       "   '27',\n",
       "   '28')},\n",
       " 27: {'feature_idx': (0,\n",
       "   1,\n",
       "   3,\n",
       "   4,\n",
       "   5,\n",
       "   6,\n",
       "   7,\n",
       "   8,\n",
       "   9,\n",
       "   10,\n",
       "   11,\n",
       "   12,\n",
       "   13,\n",
       "   14,\n",
       "   15,\n",
       "   16,\n",
       "   17,\n",
       "   18,\n",
       "   19,\n",
       "   20,\n",
       "   21,\n",
       "   22,\n",
       "   24,\n",
       "   25,\n",
       "   26,\n",
       "   27,\n",
       "   28),\n",
       "  'cv_scores': array([-0.38655208, -0.36788524, -0.40550286, -0.37635003, -0.36323748]),\n",
       "  'avg_score': -0.37990553744845446,\n",
       "  'feature_names': ('0',\n",
       "   '1',\n",
       "   '3',\n",
       "   '4',\n",
       "   '5',\n",
       "   '6',\n",
       "   '7',\n",
       "   '8',\n",
       "   '9',\n",
       "   '10',\n",
       "   '11',\n",
       "   '12',\n",
       "   '13',\n",
       "   '14',\n",
       "   '15',\n",
       "   '16',\n",
       "   '17',\n",
       "   '18',\n",
       "   '19',\n",
       "   '20',\n",
       "   '21',\n",
       "   '22',\n",
       "   '24',\n",
       "   '25',\n",
       "   '26',\n",
       "   '27',\n",
       "   '28')},\n",
       " 26: {'feature_idx': (0,\n",
       "   3,\n",
       "   4,\n",
       "   5,\n",
       "   6,\n",
       "   7,\n",
       "   8,\n",
       "   9,\n",
       "   10,\n",
       "   11,\n",
       "   12,\n",
       "   13,\n",
       "   14,\n",
       "   15,\n",
       "   16,\n",
       "   17,\n",
       "   18,\n",
       "   19,\n",
       "   20,\n",
       "   21,\n",
       "   22,\n",
       "   24,\n",
       "   25,\n",
       "   26,\n",
       "   27,\n",
       "   28),\n",
       "  'cv_scores': array([-0.38653885, -0.36783505, -0.40539647, -0.37641564, -0.36305213]),\n",
       "  'avg_score': -0.379847627386972,\n",
       "  'feature_names': ('0',\n",
       "   '3',\n",
       "   '4',\n",
       "   '5',\n",
       "   '6',\n",
       "   '7',\n",
       "   '8',\n",
       "   '9',\n",
       "   '10',\n",
       "   '11',\n",
       "   '12',\n",
       "   '13',\n",
       "   '14',\n",
       "   '15',\n",
       "   '16',\n",
       "   '17',\n",
       "   '18',\n",
       "   '19',\n",
       "   '20',\n",
       "   '21',\n",
       "   '22',\n",
       "   '24',\n",
       "   '25',\n",
       "   '26',\n",
       "   '27',\n",
       "   '28')},\n",
       " 25: {'feature_idx': (3,\n",
       "   4,\n",
       "   5,\n",
       "   6,\n",
       "   7,\n",
       "   8,\n",
       "   9,\n",
       "   10,\n",
       "   11,\n",
       "   12,\n",
       "   13,\n",
       "   14,\n",
       "   15,\n",
       "   16,\n",
       "   17,\n",
       "   18,\n",
       "   19,\n",
       "   20,\n",
       "   21,\n",
       "   22,\n",
       "   24,\n",
       "   25,\n",
       "   26,\n",
       "   27,\n",
       "   28),\n",
       "  'cv_scores': array([-0.38684618, -0.36774386, -0.40536753, -0.37638821, -0.36310271]),\n",
       "  'avg_score': -0.37988969870519423,\n",
       "  'feature_names': ('3',\n",
       "   '4',\n",
       "   '5',\n",
       "   '6',\n",
       "   '7',\n",
       "   '8',\n",
       "   '9',\n",
       "   '10',\n",
       "   '11',\n",
       "   '12',\n",
       "   '13',\n",
       "   '14',\n",
       "   '15',\n",
       "   '16',\n",
       "   '17',\n",
       "   '18',\n",
       "   '19',\n",
       "   '20',\n",
       "   '21',\n",
       "   '22',\n",
       "   '24',\n",
       "   '25',\n",
       "   '26',\n",
       "   '27',\n",
       "   '28')},\n",
       " 24: {'feature_idx': (3,\n",
       "   4,\n",
       "   5,\n",
       "   6,\n",
       "   7,\n",
       "   8,\n",
       "   9,\n",
       "   10,\n",
       "   11,\n",
       "   12,\n",
       "   13,\n",
       "   14,\n",
       "   15,\n",
       "   16,\n",
       "   17,\n",
       "   18,\n",
       "   19,\n",
       "   20,\n",
       "   21,\n",
       "   22,\n",
       "   25,\n",
       "   26,\n",
       "   27,\n",
       "   28),\n",
       "  'cv_scores': array([-0.38668652, -0.36774371, -0.40532547, -0.37619854, -0.3630747 ]),\n",
       "  'avg_score': -0.3798057870965209,\n",
       "  'feature_names': ('3',\n",
       "   '4',\n",
       "   '5',\n",
       "   '6',\n",
       "   '7',\n",
       "   '8',\n",
       "   '9',\n",
       "   '10',\n",
       "   '11',\n",
       "   '12',\n",
       "   '13',\n",
       "   '14',\n",
       "   '15',\n",
       "   '16',\n",
       "   '17',\n",
       "   '18',\n",
       "   '19',\n",
       "   '20',\n",
       "   '21',\n",
       "   '22',\n",
       "   '25',\n",
       "   '26',\n",
       "   '27',\n",
       "   '28')},\n",
       " 23: {'feature_idx': (3,\n",
       "   4,\n",
       "   5,\n",
       "   6,\n",
       "   7,\n",
       "   8,\n",
       "   9,\n",
       "   10,\n",
       "   11,\n",
       "   12,\n",
       "   13,\n",
       "   14,\n",
       "   15,\n",
       "   16,\n",
       "   17,\n",
       "   18,\n",
       "   19,\n",
       "   20,\n",
       "   21,\n",
       "   25,\n",
       "   26,\n",
       "   27,\n",
       "   28),\n",
       "  'cv_scores': array([-0.3864553 , -0.36765085, -0.40535613, -0.37618562, -0.36308833]),\n",
       "  'avg_score': -0.37974724819330963,\n",
       "  'feature_names': ('3',\n",
       "   '4',\n",
       "   '5',\n",
       "   '6',\n",
       "   '7',\n",
       "   '8',\n",
       "   '9',\n",
       "   '10',\n",
       "   '11',\n",
       "   '12',\n",
       "   '13',\n",
       "   '14',\n",
       "   '15',\n",
       "   '16',\n",
       "   '17',\n",
       "   '18',\n",
       "   '19',\n",
       "   '20',\n",
       "   '21',\n",
       "   '25',\n",
       "   '26',\n",
       "   '27',\n",
       "   '28')},\n",
       " 22: {'feature_idx': (3,\n",
       "   4,\n",
       "   5,\n",
       "   6,\n",
       "   7,\n",
       "   8,\n",
       "   9,\n",
       "   10,\n",
       "   11,\n",
       "   12,\n",
       "   13,\n",
       "   14,\n",
       "   15,\n",
       "   16,\n",
       "   17,\n",
       "   18,\n",
       "   19,\n",
       "   20,\n",
       "   21,\n",
       "   26,\n",
       "   27,\n",
       "   28),\n",
       "  'cv_scores': array([-0.38630369, -0.36769263, -0.4053704 , -0.37610749, -0.36301641]),\n",
       "  'avg_score': -0.37969812470313086,\n",
       "  'feature_names': ('3',\n",
       "   '4',\n",
       "   '5',\n",
       "   '6',\n",
       "   '7',\n",
       "   '8',\n",
       "   '9',\n",
       "   '10',\n",
       "   '11',\n",
       "   '12',\n",
       "   '13',\n",
       "   '14',\n",
       "   '15',\n",
       "   '16',\n",
       "   '17',\n",
       "   '18',\n",
       "   '19',\n",
       "   '20',\n",
       "   '21',\n",
       "   '26',\n",
       "   '27',\n",
       "   '28')},\n",
       " 21: {'feature_idx': (3,\n",
       "   4,\n",
       "   5,\n",
       "   6,\n",
       "   7,\n",
       "   8,\n",
       "   9,\n",
       "   11,\n",
       "   12,\n",
       "   13,\n",
       "   14,\n",
       "   15,\n",
       "   16,\n",
       "   17,\n",
       "   18,\n",
       "   19,\n",
       "   20,\n",
       "   21,\n",
       "   26,\n",
       "   27,\n",
       "   28),\n",
       "  'cv_scores': array([-0.38627433, -0.36766895, -0.40517621, -0.3761649 , -0.36301572]),\n",
       "  'avg_score': -0.37966002128227017,\n",
       "  'feature_names': ('3',\n",
       "   '4',\n",
       "   '5',\n",
       "   '6',\n",
       "   '7',\n",
       "   '8',\n",
       "   '9',\n",
       "   '11',\n",
       "   '12',\n",
       "   '13',\n",
       "   '14',\n",
       "   '15',\n",
       "   '16',\n",
       "   '17',\n",
       "   '18',\n",
       "   '19',\n",
       "   '20',\n",
       "   '21',\n",
       "   '26',\n",
       "   '27',\n",
       "   '28')},\n",
       " 20: {'feature_idx': (3,\n",
       "   4,\n",
       "   5,\n",
       "   6,\n",
       "   7,\n",
       "   8,\n",
       "   11,\n",
       "   12,\n",
       "   13,\n",
       "   14,\n",
       "   15,\n",
       "   16,\n",
       "   17,\n",
       "   18,\n",
       "   19,\n",
       "   20,\n",
       "   21,\n",
       "   26,\n",
       "   27,\n",
       "   28),\n",
       "  'cv_scores': array([-0.38608187, -0.36768671, -0.40544804, -0.37621689, -0.36290723]),\n",
       "  'avg_score': -0.3796681473195556,\n",
       "  'feature_names': ('3',\n",
       "   '4',\n",
       "   '5',\n",
       "   '6',\n",
       "   '7',\n",
       "   '8',\n",
       "   '11',\n",
       "   '12',\n",
       "   '13',\n",
       "   '14',\n",
       "   '15',\n",
       "   '16',\n",
       "   '17',\n",
       "   '18',\n",
       "   '19',\n",
       "   '20',\n",
       "   '21',\n",
       "   '26',\n",
       "   '27',\n",
       "   '28')},\n",
       " 19: {'feature_idx': (3,\n",
       "   4,\n",
       "   5,\n",
       "   6,\n",
       "   7,\n",
       "   8,\n",
       "   11,\n",
       "   12,\n",
       "   13,\n",
       "   14,\n",
       "   15,\n",
       "   16,\n",
       "   17,\n",
       "   18,\n",
       "   19,\n",
       "   20,\n",
       "   26,\n",
       "   27,\n",
       "   28),\n",
       "  'cv_scores': array([-0.38607853, -0.36757662, -0.40529773, -0.37604867, -0.36293989]),\n",
       "  'avg_score': -0.37958828921870946,\n",
       "  'feature_names': ('3',\n",
       "   '4',\n",
       "   '5',\n",
       "   '6',\n",
       "   '7',\n",
       "   '8',\n",
       "   '11',\n",
       "   '12',\n",
       "   '13',\n",
       "   '14',\n",
       "   '15',\n",
       "   '16',\n",
       "   '17',\n",
       "   '18',\n",
       "   '19',\n",
       "   '20',\n",
       "   '26',\n",
       "   '27',\n",
       "   '28')},\n",
       " 18: {'feature_idx': (3,\n",
       "   4,\n",
       "   5,\n",
       "   7,\n",
       "   8,\n",
       "   11,\n",
       "   12,\n",
       "   13,\n",
       "   14,\n",
       "   15,\n",
       "   16,\n",
       "   17,\n",
       "   18,\n",
       "   19,\n",
       "   20,\n",
       "   26,\n",
       "   27,\n",
       "   28),\n",
       "  'cv_scores': array([-0.38607892, -0.36766783, -0.40533963, -0.37612805, -0.36289164]),\n",
       "  'avg_score': -0.37962121421448075,\n",
       "  'feature_names': ('3',\n",
       "   '4',\n",
       "   '5',\n",
       "   '7',\n",
       "   '8',\n",
       "   '11',\n",
       "   '12',\n",
       "   '13',\n",
       "   '14',\n",
       "   '15',\n",
       "   '16',\n",
       "   '17',\n",
       "   '18',\n",
       "   '19',\n",
       "   '20',\n",
       "   '26',\n",
       "   '27',\n",
       "   '28')},\n",
       " 17: {'feature_idx': (3,\n",
       "   4,\n",
       "   5,\n",
       "   7,\n",
       "   11,\n",
       "   12,\n",
       "   13,\n",
       "   14,\n",
       "   15,\n",
       "   16,\n",
       "   17,\n",
       "   18,\n",
       "   19,\n",
       "   20,\n",
       "   26,\n",
       "   27,\n",
       "   28),\n",
       "  'cv_scores': array([-0.38607217, -0.36758444, -0.40536021, -0.37594966, -0.36274905]),\n",
       "  'avg_score': -0.3795431061346336,\n",
       "  'feature_names': ('3',\n",
       "   '4',\n",
       "   '5',\n",
       "   '7',\n",
       "   '11',\n",
       "   '12',\n",
       "   '13',\n",
       "   '14',\n",
       "   '15',\n",
       "   '16',\n",
       "   '17',\n",
       "   '18',\n",
       "   '19',\n",
       "   '20',\n",
       "   '26',\n",
       "   '27',\n",
       "   '28')},\n",
       " 16: {'feature_idx': (3,\n",
       "   4,\n",
       "   5,\n",
       "   7,\n",
       "   11,\n",
       "   13,\n",
       "   14,\n",
       "   15,\n",
       "   16,\n",
       "   17,\n",
       "   18,\n",
       "   19,\n",
       "   20,\n",
       "   26,\n",
       "   27,\n",
       "   28),\n",
       "  'cv_scores': array([-0.38590199, -0.36765006, -0.40532413, -0.37585685, -0.36284494]),\n",
       "  'avg_score': -0.37951559513251637,\n",
       "  'feature_names': ('3',\n",
       "   '4',\n",
       "   '5',\n",
       "   '7',\n",
       "   '11',\n",
       "   '13',\n",
       "   '14',\n",
       "   '15',\n",
       "   '16',\n",
       "   '17',\n",
       "   '18',\n",
       "   '19',\n",
       "   '20',\n",
       "   '26',\n",
       "   '27',\n",
       "   '28')},\n",
       " 15: {'feature_idx': (3, 4, 5, 7, 11, 14, 15, 16, 17, 18, 19, 20, 26, 27, 28),\n",
       "  'cv_scores': array([-0.38590948, -0.36767568, -0.40507436, -0.37599981, -0.36281011]),\n",
       "  'avg_score': -0.3794938885124467,\n",
       "  'feature_names': ('3',\n",
       "   '4',\n",
       "   '5',\n",
       "   '7',\n",
       "   '11',\n",
       "   '14',\n",
       "   '15',\n",
       "   '16',\n",
       "   '17',\n",
       "   '18',\n",
       "   '19',\n",
       "   '20',\n",
       "   '26',\n",
       "   '27',\n",
       "   '28')},\n",
       " 14: {'feature_idx': (3, 5, 7, 11, 14, 15, 16, 17, 18, 19, 20, 26, 27, 28),\n",
       "  'cv_scores': array([-0.38587937, -0.36768901, -0.4050062 , -0.37594583, -0.36270002]),\n",
       "  'avg_score': -0.3794440866572634,\n",
       "  'feature_names': ('3',\n",
       "   '5',\n",
       "   '7',\n",
       "   '11',\n",
       "   '14',\n",
       "   '15',\n",
       "   '16',\n",
       "   '17',\n",
       "   '18',\n",
       "   '19',\n",
       "   '20',\n",
       "   '26',\n",
       "   '27',\n",
       "   '28')},\n",
       " 13: {'feature_idx': (3, 5, 7, 11, 14, 15, 16, 17, 18, 20, 26, 27, 28),\n",
       "  'cv_scores': array([-0.38577496, -0.36765709, -0.40497616, -0.37588726, -0.36264605]),\n",
       "  'avg_score': -0.3793883035285254,\n",
       "  'feature_names': ('3',\n",
       "   '5',\n",
       "   '7',\n",
       "   '11',\n",
       "   '14',\n",
       "   '15',\n",
       "   '16',\n",
       "   '17',\n",
       "   '18',\n",
       "   '20',\n",
       "   '26',\n",
       "   '27',\n",
       "   '28')},\n",
       " 12: {'feature_idx': (3, 5, 7, 11, 14, 16, 17, 18, 20, 26, 27, 28),\n",
       "  'cv_scores': array([-0.38587998, -0.36763559, -0.40498145, -0.37585899, -0.36256017]),\n",
       "  'avg_score': -0.3793832352078877,\n",
       "  'feature_names': ('3',\n",
       "   '5',\n",
       "   '7',\n",
       "   '11',\n",
       "   '14',\n",
       "   '16',\n",
       "   '17',\n",
       "   '18',\n",
       "   '20',\n",
       "   '26',\n",
       "   '27',\n",
       "   '28')},\n",
       " 11: {'feature_idx': (3, 5, 7, 11, 14, 16, 17, 20, 26, 27, 28),\n",
       "  'cv_scores': array([-0.38597762, -0.36705617, -0.40512542, -0.37593586, -0.36267908]),\n",
       "  'avg_score': -0.37935482867263065,\n",
       "  'feature_names': ('3',\n",
       "   '5',\n",
       "   '7',\n",
       "   '11',\n",
       "   '14',\n",
       "   '16',\n",
       "   '17',\n",
       "   '20',\n",
       "   '26',\n",
       "   '27',\n",
       "   '28')},\n",
       " 10: {'feature_idx': (3, 5, 7, 11, 16, 17, 20, 26, 27, 28),\n",
       "  'cv_scores': array([-0.38595416, -0.36704271, -0.40501693, -0.37595532, -0.36266427]),\n",
       "  'avg_score': -0.3793266785166519,\n",
       "  'feature_names': ('3', '5', '7', '11', '16', '17', '20', '26', '27', '28')},\n",
       " 9: {'feature_idx': (3, 5, 7, 11, 17, 20, 26, 27, 28),\n",
       "  'cv_scores': array([-0.38598591, -0.36707904, -0.40498548, -0.37587206, -0.36263015]),\n",
       "  'avg_score': -0.37931052747745636,\n",
       "  'feature_names': ('3', '5', '7', '11', '17', '20', '26', '27', '28')},\n",
       " 8: {'feature_idx': (3, 5, 7, 17, 20, 26, 27, 28),\n",
       "  'cv_scores': array([-0.38589131, -0.36707306, -0.40501792, -0.37581001, -0.36260664]),\n",
       "  'avg_score': -0.3792797877923018,\n",
       "  'feature_names': ('3', '5', '7', '17', '20', '26', '27', '28')},\n",
       " 7: {'feature_idx': (3, 5, 7, 17, 20, 27, 28),\n",
       "  'cv_scores': array([-0.38587193, -0.36709157, -0.40504191, -0.37565975, -0.36269312]),\n",
       "  'avg_score': -0.3792716558542413,\n",
       "  'feature_names': ('3', '5', '7', '17', '20', '27', '28')},\n",
       " 6: {'feature_idx': (3, 5, 7, 17, 27, 28),\n",
       "  'cv_scores': array([-0.38580316, -0.36712569, -0.40502097, -0.37569096, -0.36263777]),\n",
       "  'avg_score': -0.3792557092682495,\n",
       "  'feature_names': ('3', '5', '7', '17', '27', '28')},\n",
       " 5: {'feature_idx': (3, 5, 7, 27, 28),\n",
       "  'cv_scores': array([-0.38568347, -0.36716255, -0.40504082, -0.37565767, -0.36263401]),\n",
       "  'avg_score': -0.37923570346241664,\n",
       "  'feature_names': ('3', '5', '7', '27', '28')}}"
      ]
     },
     "execution_count": 140,
     "metadata": {},
     "output_type": "execute_result"
    }
   ],
   "source": [
    "sfs1.subsets_ # get features and their importance"
   ]
  },
  {
   "cell_type": "code",
   "execution_count": 141,
   "metadata": {},
   "outputs": [
    {
     "data": {
      "text/plain": [
       "-0.37923570346241664"
      ]
     },
     "execution_count": 141,
     "metadata": {},
     "output_type": "execute_result"
    }
   ],
   "source": [
    "sfs1.k_score_  # score of the model after taking 5 best features"
   ]
  },
  {
   "cell_type": "code",
   "execution_count": 142,
   "metadata": {},
   "outputs": [
    {
     "data": {
      "text/plain": [
       "make_scorer(mean_squared_error, greater_is_better=False)"
      ]
     },
     "execution_count": 142,
     "metadata": {},
     "output_type": "execute_result"
    }
   ],
   "source": [
    "sfs1.scorer # mean_squared_error is the matric"
   ]
  },
  {
   "cell_type": "markdown",
   "metadata": {},
   "source": [
    "# 3"
   ]
  },
  {
   "cell_type": "code",
   "execution_count": null,
   "metadata": {},
   "outputs": [
    {
     "name": "stdout",
     "output_type": "stream",
     "text": [
      "---------------Polynomial of Degree 2------------------\n",
      "Mean square error Training set: 0.6136502095453844\n",
      "Mean square error Test set: 0.6105077903921695\n",
      "\n",
      "\n",
      "---------------Polynomial of Degree 3------------------\n",
      "Mean square error Training set: 0.6120318397309078\n",
      "Mean square error Test set: 0.6227678650113819\n",
      "\n",
      "\n"
     ]
    }
   ],
   "source": [
    "from sklearn.preprocessing import PolynomialFeatures\n",
    "\n",
    "for degree in (2,3,4,5):\n",
    "    poly_reg = PolynomialFeatures(degree = degree)\n",
    "    X_poly = poly_reg.fit_transform(X_train) # X_train, y_train\n",
    "    poly_reg.fit(X_poly, y_train)\n",
    "    lin_reg_2 = LinearRegression()\n",
    "    lin_reg_2.fit(X_poly, y_train)\n",
    "\n",
    "    y_pred_train = lin_reg_2.predict(poly_reg.fit_transform(X_train))\n",
    "    mse_train = mean_squared_error(y_train, y_pred_train, squared=False) # MSE\n",
    "\n",
    "    y_pred_test = lin_reg_2.predict(poly_reg.fit_transform(X_test))\n",
    "    mse_test = mean_squared_error(y_test, y_pred_test, squared=False) # MSE\n",
    "\n",
    "    print(f'---------------Polynomial of Degree {degree}------------------')\n",
    "    print('Mean square error Training set:',mse_train)\n",
    "    print('Mean square error Test set:',mse_test)\n",
    "    print('\\n')\n"
   ]
  },
  {
   "cell_type": "code",
   "execution_count": null,
   "metadata": {},
   "outputs": [],
   "source": []
  }
 ],
 "metadata": {
  "kernelspec": {
   "display_name": "Python 3 (ipykernel)",
   "language": "python",
   "name": "python3"
  },
  "language_info": {
   "codemirror_mode": {
    "name": "ipython",
    "version": 3
   },
   "file_extension": ".py",
   "mimetype": "text/x-python",
   "name": "python",
   "nbconvert_exporter": "python",
   "pygments_lexer": "ipython3",
   "version": "3.8.5"
  }
 },
 "nbformat": 4,
 "nbformat_minor": 2
}
