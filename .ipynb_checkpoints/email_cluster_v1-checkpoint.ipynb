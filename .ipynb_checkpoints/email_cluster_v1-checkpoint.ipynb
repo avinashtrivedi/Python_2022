{
 "cells": [
  {
   "cell_type": "code",
   "execution_count": 99,
   "id": "1606be9e",
   "metadata": {},
   "outputs": [],
   "source": [
    "# movie_review.csv\n",
    "import pandas as pd"
   ]
  },
  {
   "cell_type": "code",
   "execution_count": 100,
   "id": "1f3309a3",
   "metadata": {},
   "outputs": [],
   "source": [
    "df = pd.read_csv('movie_review.csv',header=None)"
   ]
  },
  {
   "cell_type": "code",
   "execution_count": 101,
   "id": "2acb0d74",
   "metadata": {},
   "outputs": [],
   "source": [
    "df.columns = ['email','pos_neg']"
   ]
  },
  {
   "cell_type": "code",
   "execution_count": 102,
   "id": "9e7e909f",
   "metadata": {},
   "outputs": [
    {
     "name": "stderr",
     "output_type": "stream",
     "text": [
      "[nltk_data] Downloading package stopwords to\n",
      "[nltk_data]     C:\\Users\\avitr\\AppData\\Roaming\\nltk_data...\n",
      "[nltk_data]   Package stopwords is already up-to-date!\n"
     ]
    }
   ],
   "source": [
    "import nltk\n",
    "from nltk.stem import PorterStemmer\n",
    "from nltk.tokenize import word_tokenize\n",
    "from nltk.corpus import stopwords\n",
    "nltk.download('stopwords')\n",
    "stop = stopwords.words('english')"
   ]
  },
  {
   "cell_type": "code",
   "execution_count": 103,
   "id": "999cd7f6",
   "metadata": {},
   "outputs": [
    {
     "data": {
      "text/html": [
       "<div>\n",
       "<style scoped>\n",
       "    .dataframe tbody tr th:only-of-type {\n",
       "        vertical-align: middle;\n",
       "    }\n",
       "\n",
       "    .dataframe tbody tr th {\n",
       "        vertical-align: top;\n",
       "    }\n",
       "\n",
       "    .dataframe thead th {\n",
       "        text-align: right;\n",
       "    }\n",
       "</style>\n",
       "<table border=\"1\" class=\"dataframe\">\n",
       "  <thead>\n",
       "    <tr style=\"text-align: right;\">\n",
       "      <th></th>\n",
       "      <th>email</th>\n",
       "      <th>pos_neg</th>\n",
       "    </tr>\n",
       "  </thead>\n",
       "  <tbody>\n",
       "    <tr>\n",
       "      <th>0</th>\n",
       "      <td>films adapted from comic books have had plenty...</td>\n",
       "      <td>1</td>\n",
       "    </tr>\n",
       "    <tr>\n",
       "      <th>1</th>\n",
       "      <td>every now and then a movie comes along from a ...</td>\n",
       "      <td>1</td>\n",
       "    </tr>\n",
       "    <tr>\n",
       "      <th>2</th>\n",
       "      <td>you ' ve got mail works alot better than it de...</td>\n",
       "      <td>1</td>\n",
       "    </tr>\n",
       "    <tr>\n",
       "      <th>3</th>\n",
       "      <td>\" jaws \" is a rare film that grabs your attent...</td>\n",
       "      <td>1</td>\n",
       "    </tr>\n",
       "    <tr>\n",
       "      <th>4</th>\n",
       "      <td>moviemaking is a lot like being the general ma...</td>\n",
       "      <td>1</td>\n",
       "    </tr>\n",
       "  </tbody>\n",
       "</table>\n",
       "</div>"
      ],
      "text/plain": [
       "                                               email  pos_neg\n",
       "0  films adapted from comic books have had plenty...        1\n",
       "1  every now and then a movie comes along from a ...        1\n",
       "2  you ' ve got mail works alot better than it de...        1\n",
       "3  \" jaws \" is a rare film that grabs your attent...        1\n",
       "4  moviemaking is a lot like being the general ma...        1"
      ]
     },
     "execution_count": 103,
     "metadata": {},
     "output_type": "execute_result"
    }
   ],
   "source": [
    "df.head()"
   ]
  },
  {
   "cell_type": "code",
   "execution_count": 104,
   "id": "59c7968a",
   "metadata": {},
   "outputs": [],
   "source": [
    "df = df[:200]"
   ]
  },
  {
   "cell_type": "code",
   "execution_count": 105,
   "id": "0dba67be",
   "metadata": {},
   "outputs": [],
   "source": [
    "import string"
   ]
  },
  {
   "cell_type": "code",
   "execution_count": 106,
   "id": "4ae0ec25",
   "metadata": {},
   "outputs": [
    {
     "data": {
      "text/plain": [
       "'!\"#$%&\\'()*+,-./:;<=>?@[\\\\]^_`{|}~'"
      ]
     },
     "execution_count": 106,
     "metadata": {},
     "output_type": "execute_result"
    }
   ],
   "source": [
    "string.punctuation"
   ]
  },
  {
   "cell_type": "code",
   "execution_count": 107,
   "id": "b04ba54c",
   "metadata": {},
   "outputs": [],
   "source": [
    "def remove_punctuation(text):\n",
    "    new_text = ''\n",
    "    for char in text:\n",
    "        if char not in string.punctuation:\n",
    "            new_text = new_text + char\n",
    "    return new_text"
   ]
  },
  {
   "cell_type": "code",
   "execution_count": 108,
   "id": "3802a0c2",
   "metadata": {},
   "outputs": [
    {
     "data": {
      "text/plain": [
       "' jaws  is a rare film  that grabs your'"
      ]
     },
     "execution_count": 108,
     "metadata": {},
     "output_type": "execute_result"
    }
   ],
   "source": [
    "remove_punctuation('\" jaws \" is a rare film @[ that grabs your')"
   ]
  },
  {
   "cell_type": "code",
   "execution_count": 109,
   "id": "0334a032",
   "metadata": {},
   "outputs": [],
   "source": [
    "df['email_clean'] = df['email'].apply(lambda text: remove_punctuation(text))"
   ]
  },
  {
   "cell_type": "code",
   "execution_count": 110,
   "id": "e953ea75",
   "metadata": {},
   "outputs": [],
   "source": [
    "df['email_clean'] = df['email_clean'].apply(lambda x:word_tokenize(x))"
   ]
  },
  {
   "cell_type": "code",
   "execution_count": 111,
   "id": "f1a75832",
   "metadata": {},
   "outputs": [
    {
     "data": {
      "text/html": [
       "<div>\n",
       "<style scoped>\n",
       "    .dataframe tbody tr th:only-of-type {\n",
       "        vertical-align: middle;\n",
       "    }\n",
       "\n",
       "    .dataframe tbody tr th {\n",
       "        vertical-align: top;\n",
       "    }\n",
       "\n",
       "    .dataframe thead th {\n",
       "        text-align: right;\n",
       "    }\n",
       "</style>\n",
       "<table border=\"1\" class=\"dataframe\">\n",
       "  <thead>\n",
       "    <tr style=\"text-align: right;\">\n",
       "      <th></th>\n",
       "      <th>email</th>\n",
       "      <th>pos_neg</th>\n",
       "      <th>email_clean</th>\n",
       "    </tr>\n",
       "  </thead>\n",
       "  <tbody>\n",
       "    <tr>\n",
       "      <th>0</th>\n",
       "      <td>films adapted from comic books have had plenty...</td>\n",
       "      <td>1</td>\n",
       "      <td>[films, adapted, from, comic, books, have, had...</td>\n",
       "    </tr>\n",
       "    <tr>\n",
       "      <th>1</th>\n",
       "      <td>every now and then a movie comes along from a ...</td>\n",
       "      <td>1</td>\n",
       "      <td>[every, now, and, then, a, movie, comes, along...</td>\n",
       "    </tr>\n",
       "    <tr>\n",
       "      <th>2</th>\n",
       "      <td>you ' ve got mail works alot better than it de...</td>\n",
       "      <td>1</td>\n",
       "      <td>[you, ve, got, mail, works, alot, better, than...</td>\n",
       "    </tr>\n",
       "    <tr>\n",
       "      <th>3</th>\n",
       "      <td>\" jaws \" is a rare film that grabs your attent...</td>\n",
       "      <td>1</td>\n",
       "      <td>[jaws, is, a, rare, film, that, grabs, your, a...</td>\n",
       "    </tr>\n",
       "    <tr>\n",
       "      <th>4</th>\n",
       "      <td>moviemaking is a lot like being the general ma...</td>\n",
       "      <td>1</td>\n",
       "      <td>[moviemaking, is, a, lot, like, being, the, ge...</td>\n",
       "    </tr>\n",
       "    <tr>\n",
       "      <th>...</th>\n",
       "      <td>...</td>\n",
       "      <td>...</td>\n",
       "      <td>...</td>\n",
       "    </tr>\n",
       "    <tr>\n",
       "      <th>195</th>\n",
       "      <td>there exists a litany of differences between a...</td>\n",
       "      <td>1</td>\n",
       "      <td>[there, exists, a, litany, of, differences, be...</td>\n",
       "    </tr>\n",
       "    <tr>\n",
       "      <th>196</th>\n",
       "      <td>jay and silent bob strike back , kevin smith '...</td>\n",
       "      <td>1</td>\n",
       "      <td>[jay, and, silent, bob, strike, back, kevin, s...</td>\n",
       "    </tr>\n",
       "    <tr>\n",
       "      <th>197</th>\n",
       "      <td>damn those trailers . had it not been for the ...</td>\n",
       "      <td>1</td>\n",
       "      <td>[damn, those, trailers, had, it, not, been, fo...</td>\n",
       "    </tr>\n",
       "    <tr>\n",
       "      <th>198</th>\n",
       "      <td>bob the happy bastard ' s quickie review : rus...</td>\n",
       "      <td>1</td>\n",
       "      <td>[bob, the, happy, bastard, s, quickie, review,...</td>\n",
       "    </tr>\n",
       "    <tr>\n",
       "      <th>199</th>\n",
       "      <td>this sunday afternoon i had the priviledge of ...</td>\n",
       "      <td>1</td>\n",
       "      <td>[this, sunday, afternoon, i, had, the, privile...</td>\n",
       "    </tr>\n",
       "  </tbody>\n",
       "</table>\n",
       "<p>200 rows × 3 columns</p>\n",
       "</div>"
      ],
      "text/plain": [
       "                                                 email  pos_neg  \\\n",
       "0    films adapted from comic books have had plenty...        1   \n",
       "1    every now and then a movie comes along from a ...        1   \n",
       "2    you ' ve got mail works alot better than it de...        1   \n",
       "3    \" jaws \" is a rare film that grabs your attent...        1   \n",
       "4    moviemaking is a lot like being the general ma...        1   \n",
       "..                                                 ...      ...   \n",
       "195  there exists a litany of differences between a...        1   \n",
       "196  jay and silent bob strike back , kevin smith '...        1   \n",
       "197  damn those trailers . had it not been for the ...        1   \n",
       "198  bob the happy bastard ' s quickie review : rus...        1   \n",
       "199  this sunday afternoon i had the priviledge of ...        1   \n",
       "\n",
       "                                           email_clean  \n",
       "0    [films, adapted, from, comic, books, have, had...  \n",
       "1    [every, now, and, then, a, movie, comes, along...  \n",
       "2    [you, ve, got, mail, works, alot, better, than...  \n",
       "3    [jaws, is, a, rare, film, that, grabs, your, a...  \n",
       "4    [moviemaking, is, a, lot, like, being, the, ge...  \n",
       "..                                                 ...  \n",
       "195  [there, exists, a, litany, of, differences, be...  \n",
       "196  [jay, and, silent, bob, strike, back, kevin, s...  \n",
       "197  [damn, those, trailers, had, it, not, been, fo...  \n",
       "198  [bob, the, happy, bastard, s, quickie, review,...  \n",
       "199  [this, sunday, afternoon, i, had, the, privile...  \n",
       "\n",
       "[200 rows x 3 columns]"
      ]
     },
     "execution_count": 111,
     "metadata": {},
     "output_type": "execute_result"
    }
   ],
   "source": [
    "df"
   ]
  },
  {
   "cell_type": "code",
   "execution_count": 112,
   "id": "90c464d4",
   "metadata": {},
   "outputs": [],
   "source": [
    "ps = PorterStemmer()"
   ]
  },
  {
   "cell_type": "code",
   "execution_count": 113,
   "id": "921d26ab",
   "metadata": {},
   "outputs": [],
   "source": [
    "def remove_stop_stem(tokens):\n",
    "    return [ps.stem(token) for token in tokens if token not in stop]"
   ]
  },
  {
   "cell_type": "code",
   "execution_count": 114,
   "id": "beb5a577",
   "metadata": {},
   "outputs": [],
   "source": [
    "df['email_clean_stemmed'] = df['email_clean'].apply(lambda x: remove_stop_stem(x))"
   ]
  },
  {
   "cell_type": "code",
   "execution_count": 115,
   "id": "63a2bdd2",
   "metadata": {},
   "outputs": [],
   "source": [
    "df['email_clean_txt'] = df['email_clean_stemmed'].apply(lambda x: ' '.join(x))"
   ]
  },
  {
   "cell_type": "code",
   "execution_count": 116,
   "id": "fa273bb2",
   "metadata": {},
   "outputs": [
    {
     "data": {
      "text/html": [
       "<div>\n",
       "<style scoped>\n",
       "    .dataframe tbody tr th:only-of-type {\n",
       "        vertical-align: middle;\n",
       "    }\n",
       "\n",
       "    .dataframe tbody tr th {\n",
       "        vertical-align: top;\n",
       "    }\n",
       "\n",
       "    .dataframe thead th {\n",
       "        text-align: right;\n",
       "    }\n",
       "</style>\n",
       "<table border=\"1\" class=\"dataframe\">\n",
       "  <thead>\n",
       "    <tr style=\"text-align: right;\">\n",
       "      <th></th>\n",
       "      <th>email</th>\n",
       "      <th>pos_neg</th>\n",
       "      <th>email_clean</th>\n",
       "      <th>email_clean_stemmed</th>\n",
       "      <th>email_clean_txt</th>\n",
       "    </tr>\n",
       "  </thead>\n",
       "  <tbody>\n",
       "    <tr>\n",
       "      <th>0</th>\n",
       "      <td>films adapted from comic books have had plenty...</td>\n",
       "      <td>1</td>\n",
       "      <td>[films, adapted, from, comic, books, have, had...</td>\n",
       "      <td>[film, adapt, comic, book, plenti, success, wh...</td>\n",
       "      <td>film adapt comic book plenti success whether s...</td>\n",
       "    </tr>\n",
       "    <tr>\n",
       "      <th>1</th>\n",
       "      <td>every now and then a movie comes along from a ...</td>\n",
       "      <td>1</td>\n",
       "      <td>[every, now, and, then, a, movie, comes, along...</td>\n",
       "      <td>[everi, movi, come, along, suspect, studio, ev...</td>\n",
       "      <td>everi movi come along suspect studio everi ind...</td>\n",
       "    </tr>\n",
       "    <tr>\n",
       "      <th>2</th>\n",
       "      <td>you ' ve got mail works alot better than it de...</td>\n",
       "      <td>1</td>\n",
       "      <td>[you, ve, got, mail, works, alot, better, than...</td>\n",
       "      <td>[got, mail, work, alot, better, deserv, order,...</td>\n",
       "      <td>got mail work alot better deserv order make fi...</td>\n",
       "    </tr>\n",
       "    <tr>\n",
       "      <th>3</th>\n",
       "      <td>\" jaws \" is a rare film that grabs your attent...</td>\n",
       "      <td>1</td>\n",
       "      <td>[jaws, is, a, rare, film, that, grabs, your, a...</td>\n",
       "      <td>[jaw, rare, film, grab, attent, show, singl, i...</td>\n",
       "      <td>jaw rare film grab attent show singl imag scre...</td>\n",
       "    </tr>\n",
       "    <tr>\n",
       "      <th>4</th>\n",
       "      <td>moviemaking is a lot like being the general ma...</td>\n",
       "      <td>1</td>\n",
       "      <td>[moviemaking, is, a, lot, like, being, the, ge...</td>\n",
       "      <td>[moviemak, lot, like, gener, manag, nfl, team,...</td>\n",
       "      <td>moviemak lot like gener manag nfl team post sa...</td>\n",
       "    </tr>\n",
       "    <tr>\n",
       "      <th>...</th>\n",
       "      <td>...</td>\n",
       "      <td>...</td>\n",
       "      <td>...</td>\n",
       "      <td>...</td>\n",
       "      <td>...</td>\n",
       "    </tr>\n",
       "    <tr>\n",
       "      <th>195</th>\n",
       "      <td>there exists a litany of differences between a...</td>\n",
       "      <td>1</td>\n",
       "      <td>[there, exists, a, litany, of, differences, be...</td>\n",
       "      <td>[exist, litani, differ, success, action, movi,...</td>\n",
       "      <td>exist litani differ success action movi succes...</td>\n",
       "    </tr>\n",
       "    <tr>\n",
       "      <th>196</th>\n",
       "      <td>jay and silent bob strike back , kevin smith '...</td>\n",
       "      <td>1</td>\n",
       "      <td>[jay, and, silent, bob, strike, back, kevin, s...</td>\n",
       "      <td>[jay, silent, bob, strike, back, kevin, smith,...</td>\n",
       "      <td>jay silent bob strike back kevin smith swan so...</td>\n",
       "    </tr>\n",
       "    <tr>\n",
       "      <th>197</th>\n",
       "      <td>damn those trailers . had it not been for the ...</td>\n",
       "      <td>1</td>\n",
       "      <td>[damn, those, trailers, had, it, not, been, fo...</td>\n",
       "      <td>[damn, trailer, advertis, film, reveal, far, m...</td>\n",
       "      <td>damn trailer advertis film reveal far much con...</td>\n",
       "    </tr>\n",
       "    <tr>\n",
       "      <th>198</th>\n",
       "      <td>bob the happy bastard ' s quickie review : rus...</td>\n",
       "      <td>1</td>\n",
       "      <td>[bob, the, happy, bastard, s, quickie, review,...</td>\n",
       "      <td>[bob, happi, bastard, quicki, review, rush, ho...</td>\n",
       "      <td>bob happi bastard quicki review rush hour prob...</td>\n",
       "    </tr>\n",
       "    <tr>\n",
       "      <th>199</th>\n",
       "      <td>this sunday afternoon i had the priviledge of ...</td>\n",
       "      <td>1</td>\n",
       "      <td>[this, sunday, afternoon, i, had, the, privile...</td>\n",
       "      <td>[sunday, afternoon, priviledg, attend, privat,...</td>\n",
       "      <td>sunday afternoon priviledg attend privat scree...</td>\n",
       "    </tr>\n",
       "  </tbody>\n",
       "</table>\n",
       "<p>200 rows × 5 columns</p>\n",
       "</div>"
      ],
      "text/plain": [
       "                                                 email  pos_neg  \\\n",
       "0    films adapted from comic books have had plenty...        1   \n",
       "1    every now and then a movie comes along from a ...        1   \n",
       "2    you ' ve got mail works alot better than it de...        1   \n",
       "3    \" jaws \" is a rare film that grabs your attent...        1   \n",
       "4    moviemaking is a lot like being the general ma...        1   \n",
       "..                                                 ...      ...   \n",
       "195  there exists a litany of differences between a...        1   \n",
       "196  jay and silent bob strike back , kevin smith '...        1   \n",
       "197  damn those trailers . had it not been for the ...        1   \n",
       "198  bob the happy bastard ' s quickie review : rus...        1   \n",
       "199  this sunday afternoon i had the priviledge of ...        1   \n",
       "\n",
       "                                           email_clean  \\\n",
       "0    [films, adapted, from, comic, books, have, had...   \n",
       "1    [every, now, and, then, a, movie, comes, along...   \n",
       "2    [you, ve, got, mail, works, alot, better, than...   \n",
       "3    [jaws, is, a, rare, film, that, grabs, your, a...   \n",
       "4    [moviemaking, is, a, lot, like, being, the, ge...   \n",
       "..                                                 ...   \n",
       "195  [there, exists, a, litany, of, differences, be...   \n",
       "196  [jay, and, silent, bob, strike, back, kevin, s...   \n",
       "197  [damn, those, trailers, had, it, not, been, fo...   \n",
       "198  [bob, the, happy, bastard, s, quickie, review,...   \n",
       "199  [this, sunday, afternoon, i, had, the, privile...   \n",
       "\n",
       "                                   email_clean_stemmed  \\\n",
       "0    [film, adapt, comic, book, plenti, success, wh...   \n",
       "1    [everi, movi, come, along, suspect, studio, ev...   \n",
       "2    [got, mail, work, alot, better, deserv, order,...   \n",
       "3    [jaw, rare, film, grab, attent, show, singl, i...   \n",
       "4    [moviemak, lot, like, gener, manag, nfl, team,...   \n",
       "..                                                 ...   \n",
       "195  [exist, litani, differ, success, action, movi,...   \n",
       "196  [jay, silent, bob, strike, back, kevin, smith,...   \n",
       "197  [damn, trailer, advertis, film, reveal, far, m...   \n",
       "198  [bob, happi, bastard, quicki, review, rush, ho...   \n",
       "199  [sunday, afternoon, priviledg, attend, privat,...   \n",
       "\n",
       "                                       email_clean_txt  \n",
       "0    film adapt comic book plenti success whether s...  \n",
       "1    everi movi come along suspect studio everi ind...  \n",
       "2    got mail work alot better deserv order make fi...  \n",
       "3    jaw rare film grab attent show singl imag scre...  \n",
       "4    moviemak lot like gener manag nfl team post sa...  \n",
       "..                                                 ...  \n",
       "195  exist litani differ success action movi succes...  \n",
       "196  jay silent bob strike back kevin smith swan so...  \n",
       "197  damn trailer advertis film reveal far much con...  \n",
       "198  bob happi bastard quicki review rush hour prob...  \n",
       "199  sunday afternoon priviledg attend privat scree...  \n",
       "\n",
       "[200 rows x 5 columns]"
      ]
     },
     "execution_count": 116,
     "metadata": {},
     "output_type": "execute_result"
    }
   ],
   "source": [
    "df"
   ]
  },
  {
   "cell_type": "code",
   "execution_count": 117,
   "id": "c68ac686",
   "metadata": {},
   "outputs": [],
   "source": [
    "# bow i.e countvectorizer\n",
    "# tf-idf"
   ]
  },
  {
   "cell_type": "code",
   "execution_count": 118,
   "id": "6a7f7f0e",
   "metadata": {},
   "outputs": [],
   "source": [
    "X = df['email_clean_txt']"
   ]
  },
  {
   "cell_type": "code",
   "execution_count": 119,
   "id": "31286f0f",
   "metadata": {},
   "outputs": [],
   "source": [
    "from sklearn.model_selection import train_test_split"
   ]
  },
  {
   "cell_type": "code",
   "execution_count": 120,
   "id": "11d16887",
   "metadata": {},
   "outputs": [],
   "source": [
    "X_train, X_test = train_test_split(X , test_size=0.33, random_state=42)"
   ]
  },
  {
   "cell_type": "code",
   "execution_count": 121,
   "id": "9592c326",
   "metadata": {},
   "outputs": [
    {
     "data": {
      "text/plain": [
       "(134,)"
      ]
     },
     "execution_count": 121,
     "metadata": {},
     "output_type": "execute_result"
    }
   ],
   "source": [
    "X_train.shape"
   ]
  },
  {
   "cell_type": "code",
   "execution_count": 122,
   "id": "c475d81c",
   "metadata": {},
   "outputs": [
    {
     "data": {
      "text/plain": [
       "(66,)"
      ]
     },
     "execution_count": 122,
     "metadata": {},
     "output_type": "execute_result"
    }
   ],
   "source": [
    "X_test.shape"
   ]
  },
  {
   "cell_type": "code",
   "execution_count": null,
   "id": "bba1e6ae",
   "metadata": {},
   "outputs": [],
   "source": []
  },
  {
   "cell_type": "code",
   "execution_count": 123,
   "id": "f27be457",
   "metadata": {},
   "outputs": [],
   "source": [
    "from sklearn.feature_extraction.text import CountVectorizer"
   ]
  },
  {
   "cell_type": "code",
   "execution_count": 124,
   "id": "2332fe9b",
   "metadata": {},
   "outputs": [],
   "source": [
    "bow_vectorizer = CountVectorizer()"
   ]
  },
  {
   "cell_type": "code",
   "execution_count": 125,
   "id": "7139a234",
   "metadata": {},
   "outputs": [],
   "source": [
    "X_train_vec = bow_vectorizer.fit_transform(X_train).toarray()"
   ]
  },
  {
   "cell_type": "code",
   "execution_count": 126,
   "id": "15ba6a77",
   "metadata": {},
   "outputs": [],
   "source": [
    "X_test_vec = bow_vectorizer.transform(X_test).toarray()"
   ]
  },
  {
   "cell_type": "code",
   "execution_count": 127,
   "id": "f9dfc793",
   "metadata": {},
   "outputs": [
    {
     "data": {
      "text/plain": [
       "array([[0, 0, 0, ..., 0, 0, 0],\n",
       "       [0, 0, 0, ..., 0, 0, 0],\n",
       "       [0, 0, 0, ..., 0, 0, 0],\n",
       "       ...,\n",
       "       [0, 0, 0, ..., 0, 0, 0],\n",
       "       [0, 0, 0, ..., 0, 0, 0],\n",
       "       [0, 0, 0, ..., 0, 0, 0]], dtype=int64)"
      ]
     },
     "execution_count": 127,
     "metadata": {},
     "output_type": "execute_result"
    }
   ],
   "source": [
    "X_train_vec"
   ]
  },
  {
   "cell_type": "code",
   "execution_count": 128,
   "id": "5022e312",
   "metadata": {},
   "outputs": [
    {
     "data": {
      "text/plain": [
       "array([[0, 0, 0, ..., 0, 0, 0],\n",
       "       [0, 0, 0, ..., 0, 0, 0],\n",
       "       [0, 0, 0, ..., 0, 0, 0],\n",
       "       ...,\n",
       "       [0, 0, 0, ..., 0, 0, 0],\n",
       "       [0, 0, 0, ..., 0, 0, 0],\n",
       "       [0, 0, 0, ..., 0, 0, 0]], dtype=int64)"
      ]
     },
     "execution_count": 128,
     "metadata": {},
     "output_type": "execute_result"
    }
   ],
   "source": [
    "X_test_vec"
   ]
  },
  {
   "cell_type": "markdown",
   "id": "13ed0473",
   "metadata": {},
   "source": [
    "# Cluster"
   ]
  },
  {
   "cell_type": "code",
   "execution_count": 129,
   "id": "e881ed02",
   "metadata": {},
   "outputs": [],
   "source": [
    "from sklearn.cluster import KMeans"
   ]
  },
  {
   "cell_type": "code",
   "execution_count": 130,
   "id": "3c8771bc",
   "metadata": {},
   "outputs": [],
   "source": [
    "model = KMeans(n_clusters=2)"
   ]
  },
  {
   "cell_type": "code",
   "execution_count": 131,
   "id": "8937f5a8",
   "metadata": {},
   "outputs": [
    {
     "name": "stderr",
     "output_type": "stream",
     "text": [
      "C:\\Users\\avitr\\anaconda3\\lib\\site-packages\\sklearn\\cluster\\_kmeans.py:1332: UserWarning: KMeans is known to have a memory leak on Windows with MKL, when there are less chunks than available threads. You can avoid it by setting the environment variable OMP_NUM_THREADS=1.\n",
      "  warnings.warn(\n"
     ]
    },
    {
     "data": {
      "text/html": [
       "<style>#sk-container-id-4 {color: black;background-color: white;}#sk-container-id-4 pre{padding: 0;}#sk-container-id-4 div.sk-toggleable {background-color: white;}#sk-container-id-4 label.sk-toggleable__label {cursor: pointer;display: block;width: 100%;margin-bottom: 0;padding: 0.3em;box-sizing: border-box;text-align: center;}#sk-container-id-4 label.sk-toggleable__label-arrow:before {content: \"▸\";float: left;margin-right: 0.25em;color: #696969;}#sk-container-id-4 label.sk-toggleable__label-arrow:hover:before {color: black;}#sk-container-id-4 div.sk-estimator:hover label.sk-toggleable__label-arrow:before {color: black;}#sk-container-id-4 div.sk-toggleable__content {max-height: 0;max-width: 0;overflow: hidden;text-align: left;background-color: #f0f8ff;}#sk-container-id-4 div.sk-toggleable__content pre {margin: 0.2em;color: black;border-radius: 0.25em;background-color: #f0f8ff;}#sk-container-id-4 input.sk-toggleable__control:checked~div.sk-toggleable__content {max-height: 200px;max-width: 100%;overflow: auto;}#sk-container-id-4 input.sk-toggleable__control:checked~label.sk-toggleable__label-arrow:before {content: \"▾\";}#sk-container-id-4 div.sk-estimator input.sk-toggleable__control:checked~label.sk-toggleable__label {background-color: #d4ebff;}#sk-container-id-4 div.sk-label input.sk-toggleable__control:checked~label.sk-toggleable__label {background-color: #d4ebff;}#sk-container-id-4 input.sk-hidden--visually {border: 0;clip: rect(1px 1px 1px 1px);clip: rect(1px, 1px, 1px, 1px);height: 1px;margin: -1px;overflow: hidden;padding: 0;position: absolute;width: 1px;}#sk-container-id-4 div.sk-estimator {font-family: monospace;background-color: #f0f8ff;border: 1px dotted black;border-radius: 0.25em;box-sizing: border-box;margin-bottom: 0.5em;}#sk-container-id-4 div.sk-estimator:hover {background-color: #d4ebff;}#sk-container-id-4 div.sk-parallel-item::after {content: \"\";width: 100%;border-bottom: 1px solid gray;flex-grow: 1;}#sk-container-id-4 div.sk-label:hover label.sk-toggleable__label {background-color: #d4ebff;}#sk-container-id-4 div.sk-serial::before {content: \"\";position: absolute;border-left: 1px solid gray;box-sizing: border-box;top: 0;bottom: 0;left: 50%;z-index: 0;}#sk-container-id-4 div.sk-serial {display: flex;flex-direction: column;align-items: center;background-color: white;padding-right: 0.2em;padding-left: 0.2em;position: relative;}#sk-container-id-4 div.sk-item {position: relative;z-index: 1;}#sk-container-id-4 div.sk-parallel {display: flex;align-items: stretch;justify-content: center;background-color: white;position: relative;}#sk-container-id-4 div.sk-item::before, #sk-container-id-4 div.sk-parallel-item::before {content: \"\";position: absolute;border-left: 1px solid gray;box-sizing: border-box;top: 0;bottom: 0;left: 50%;z-index: -1;}#sk-container-id-4 div.sk-parallel-item {display: flex;flex-direction: column;z-index: 1;position: relative;background-color: white;}#sk-container-id-4 div.sk-parallel-item:first-child::after {align-self: flex-end;width: 50%;}#sk-container-id-4 div.sk-parallel-item:last-child::after {align-self: flex-start;width: 50%;}#sk-container-id-4 div.sk-parallel-item:only-child::after {width: 0;}#sk-container-id-4 div.sk-dashed-wrapped {border: 1px dashed gray;margin: 0 0.4em 0.5em 0.4em;box-sizing: border-box;padding-bottom: 0.4em;background-color: white;}#sk-container-id-4 div.sk-label label {font-family: monospace;font-weight: bold;display: inline-block;line-height: 1.2em;}#sk-container-id-4 div.sk-label-container {text-align: center;}#sk-container-id-4 div.sk-container {/* jupyter's `normalize.less` sets `[hidden] { display: none; }` but bootstrap.min.css set `[hidden] { display: none !important; }` so we also need the `!important` here to be able to override the default hidden behavior on the sphinx rendered scikit-learn.org. See: https://github.com/scikit-learn/scikit-learn/issues/21755 */display: inline-block !important;position: relative;}#sk-container-id-4 div.sk-text-repr-fallback {display: none;}</style><div id=\"sk-container-id-4\" class=\"sk-top-container\"><div class=\"sk-text-repr-fallback\"><pre>KMeans(n_clusters=2)</pre><b>In a Jupyter environment, please rerun this cell to show the HTML representation or trust the notebook. <br />On GitHub, the HTML representation is unable to render, please try loading this page with nbviewer.org.</b></div><div class=\"sk-container\" hidden><div class=\"sk-item\"><div class=\"sk-estimator sk-toggleable\"><input class=\"sk-toggleable__control sk-hidden--visually\" id=\"sk-estimator-id-4\" type=\"checkbox\" checked><label for=\"sk-estimator-id-4\" class=\"sk-toggleable__label sk-toggleable__label-arrow\">KMeans</label><div class=\"sk-toggleable__content\"><pre>KMeans(n_clusters=2)</pre></div></div></div></div></div>"
      ],
      "text/plain": [
       "KMeans(n_clusters=2)"
      ]
     },
     "execution_count": 131,
     "metadata": {},
     "output_type": "execute_result"
    }
   ],
   "source": [
    "model.fit(X_train_vec)"
   ]
  },
  {
   "cell_type": "code",
   "execution_count": 132,
   "id": "bec9d461",
   "metadata": {},
   "outputs": [],
   "source": [
    "y_pred = model.predict(X_test_vec)"
   ]
  },
  {
   "cell_type": "code",
   "execution_count": 133,
   "id": "59ddf238",
   "metadata": {},
   "outputs": [
    {
     "data": {
      "text/plain": [
       "array([1, 0, 1, 1, 1, 0, 1, 1, 1, 0, 1, 1, 0, 0, 1, 1, 1, 1, 1, 0, 1, 1,\n",
       "       1, 1, 0, 1, 0, 1, 1, 1, 1, 1, 0, 1, 1, 1, 1, 1, 1, 0, 1, 1, 1, 1,\n",
       "       0, 1, 0, 1, 0, 1, 1, 1, 1, 1, 1, 0, 0, 1, 1, 1, 1, 1, 0, 1, 1, 1])"
      ]
     },
     "execution_count": 133,
     "metadata": {},
     "output_type": "execute_result"
    }
   ],
   "source": [
    "y_pred"
   ]
  },
  {
   "cell_type": "code",
   "execution_count": 134,
   "id": "473468cf",
   "metadata": {},
   "outputs": [
    {
     "data": {
      "text/plain": [
       "array([[0, 0, 0, ..., 0, 0, 0],\n",
       "       [0, 0, 0, ..., 0, 0, 0],\n",
       "       [0, 0, 0, ..., 0, 0, 0],\n",
       "       ...,\n",
       "       [0, 0, 0, ..., 0, 0, 0],\n",
       "       [0, 0, 0, ..., 0, 0, 0],\n",
       "       [0, 0, 0, ..., 0, 0, 0]], dtype=int64)"
      ]
     },
     "execution_count": 134,
     "metadata": {},
     "output_type": "execute_result"
    }
   ],
   "source": [
    "X_train_vec"
   ]
  },
  {
   "cell_type": "code",
   "execution_count": 135,
   "id": "bae62179",
   "metadata": {},
   "outputs": [
    {
     "data": {
      "text/plain": [
       "95     crazi beauti suffer damn damn syndrom spate fl...\n",
       "15     plot young man love heavi metal music especi b...\n",
       "30     linda fiorentino disappear radar deservedli he...\n",
       "158    televis show gay charact even infam ellen sitc...\n",
       "128    capsul verma famili wed rel come multi day fes...\n",
       "                             ...                        \n",
       "97     mani peopl procrastin problem overcom high art...\n",
       "31     heard hype seen face natali portman profession...\n",
       "12     synopsi bobbi garfield yelchin live small town...\n",
       "35     unzip cinemat portrait isaac mizrahi artist wh...\n",
       "119    disast film tendenc formul clich see disast fi...\n",
       "Name: email_clean_txt, Length: 66, dtype: object"
      ]
     },
     "execution_count": 135,
     "metadata": {},
     "output_type": "execute_result"
    }
   ],
   "source": [
    "X_test"
   ]
  },
  {
   "cell_type": "code",
   "execution_count": 136,
   "id": "05f27df1",
   "metadata": {},
   "outputs": [],
   "source": [
    "df_new = pd.DataFrame({'email':X_test,'label':y_pred})"
   ]
  },
  {
   "cell_type": "code",
   "execution_count": 137,
   "id": "8e405c4c",
   "metadata": {},
   "outputs": [],
   "source": [
    "df_new['True'] = [1]*len(X_test)"
   ]
  },
  {
   "cell_type": "code",
   "execution_count": 138,
   "id": "3237dc70",
   "metadata": {},
   "outputs": [
    {
     "data": {
      "text/html": [
       "<div>\n",
       "<style scoped>\n",
       "    .dataframe tbody tr th:only-of-type {\n",
       "        vertical-align: middle;\n",
       "    }\n",
       "\n",
       "    .dataframe tbody tr th {\n",
       "        vertical-align: top;\n",
       "    }\n",
       "\n",
       "    .dataframe thead th {\n",
       "        text-align: right;\n",
       "    }\n",
       "</style>\n",
       "<table border=\"1\" class=\"dataframe\">\n",
       "  <thead>\n",
       "    <tr style=\"text-align: right;\">\n",
       "      <th></th>\n",
       "      <th>email</th>\n",
       "      <th>label</th>\n",
       "      <th>True</th>\n",
       "    </tr>\n",
       "  </thead>\n",
       "  <tbody>\n",
       "    <tr>\n",
       "      <th>95</th>\n",
       "      <td>crazi beauti suffer damn damn syndrom spate fl...</td>\n",
       "      <td>1</td>\n",
       "      <td>1</td>\n",
       "    </tr>\n",
       "    <tr>\n",
       "      <th>15</th>\n",
       "      <td>plot young man love heavi metal music especi b...</td>\n",
       "      <td>0</td>\n",
       "      <td>1</td>\n",
       "    </tr>\n",
       "    <tr>\n",
       "      <th>30</th>\n",
       "      <td>linda fiorentino disappear radar deservedli he...</td>\n",
       "      <td>1</td>\n",
       "      <td>1</td>\n",
       "    </tr>\n",
       "    <tr>\n",
       "      <th>158</th>\n",
       "      <td>televis show gay charact even infam ellen sitc...</td>\n",
       "      <td>1</td>\n",
       "      <td>1</td>\n",
       "    </tr>\n",
       "    <tr>\n",
       "      <th>128</th>\n",
       "      <td>capsul verma famili wed rel come multi day fes...</td>\n",
       "      <td>1</td>\n",
       "      <td>1</td>\n",
       "    </tr>\n",
       "    <tr>\n",
       "      <th>...</th>\n",
       "      <td>...</td>\n",
       "      <td>...</td>\n",
       "      <td>...</td>\n",
       "    </tr>\n",
       "    <tr>\n",
       "      <th>97</th>\n",
       "      <td>mani peopl procrastin problem overcom high art...</td>\n",
       "      <td>1</td>\n",
       "      <td>1</td>\n",
       "    </tr>\n",
       "    <tr>\n",
       "      <th>31</th>\n",
       "      <td>heard hype seen face natali portman profession...</td>\n",
       "      <td>0</td>\n",
       "      <td>1</td>\n",
       "    </tr>\n",
       "    <tr>\n",
       "      <th>12</th>\n",
       "      <td>synopsi bobbi garfield yelchin live small town...</td>\n",
       "      <td>1</td>\n",
       "      <td>1</td>\n",
       "    </tr>\n",
       "    <tr>\n",
       "      <th>35</th>\n",
       "      <td>unzip cinemat portrait isaac mizrahi artist wh...</td>\n",
       "      <td>1</td>\n",
       "      <td>1</td>\n",
       "    </tr>\n",
       "    <tr>\n",
       "      <th>119</th>\n",
       "      <td>disast film tendenc formul clich see disast fi...</td>\n",
       "      <td>1</td>\n",
       "      <td>1</td>\n",
       "    </tr>\n",
       "  </tbody>\n",
       "</table>\n",
       "<p>66 rows × 3 columns</p>\n",
       "</div>"
      ],
      "text/plain": [
       "                                                 email  label  True\n",
       "95   crazi beauti suffer damn damn syndrom spate fl...      1     1\n",
       "15   plot young man love heavi metal music especi b...      0     1\n",
       "30   linda fiorentino disappear radar deservedli he...      1     1\n",
       "158  televis show gay charact even infam ellen sitc...      1     1\n",
       "128  capsul verma famili wed rel come multi day fes...      1     1\n",
       "..                                                 ...    ...   ...\n",
       "97   mani peopl procrastin problem overcom high art...      1     1\n",
       "31   heard hype seen face natali portman profession...      0     1\n",
       "12   synopsi bobbi garfield yelchin live small town...      1     1\n",
       "35   unzip cinemat portrait isaac mizrahi artist wh...      1     1\n",
       "119  disast film tendenc formul clich see disast fi...      1     1\n",
       "\n",
       "[66 rows x 3 columns]"
      ]
     },
     "execution_count": 138,
     "metadata": {},
     "output_type": "execute_result"
    }
   ],
   "source": [
    "df_new"
   ]
  },
  {
   "cell_type": "code",
   "execution_count": 139,
   "id": "08c87cd9",
   "metadata": {},
   "outputs": [],
   "source": [
    "from sklearn.metrics import accuracy_score"
   ]
  },
  {
   "cell_type": "code",
   "execution_count": 140,
   "id": "dfbabe1b",
   "metadata": {},
   "outputs": [
    {
     "data": {
      "text/plain": [
       "75.75757575757575"
      ]
     },
     "execution_count": 140,
     "metadata": {},
     "output_type": "execute_result"
    }
   ],
   "source": [
    "accuracy_score(df_new['True'],df_new['label'])*100"
   ]
  },
  {
   "cell_type": "code",
   "execution_count": 141,
   "id": "9616f89a",
   "metadata": {},
   "outputs": [
    {
     "data": {
      "text/html": [
       "<div>\n",
       "<style scoped>\n",
       "    .dataframe tbody tr th:only-of-type {\n",
       "        vertical-align: middle;\n",
       "    }\n",
       "\n",
       "    .dataframe tbody tr th {\n",
       "        vertical-align: top;\n",
       "    }\n",
       "\n",
       "    .dataframe thead th {\n",
       "        text-align: right;\n",
       "    }\n",
       "</style>\n",
       "<table border=\"1\" class=\"dataframe\">\n",
       "  <thead>\n",
       "    <tr style=\"text-align: right;\">\n",
       "      <th></th>\n",
       "      <th>email</th>\n",
       "      <th>pos_neg</th>\n",
       "      <th>email_clean</th>\n",
       "      <th>email_clean_stemmed</th>\n",
       "      <th>email_clean_txt</th>\n",
       "    </tr>\n",
       "  </thead>\n",
       "  <tbody>\n",
       "    <tr>\n",
       "      <th>0</th>\n",
       "      <td>films adapted from comic books have had plenty...</td>\n",
       "      <td>1</td>\n",
       "      <td>[films, adapted, from, comic, books, have, had...</td>\n",
       "      <td>[film, adapt, comic, book, plenti, success, wh...</td>\n",
       "      <td>film adapt comic book plenti success whether s...</td>\n",
       "    </tr>\n",
       "    <tr>\n",
       "      <th>1</th>\n",
       "      <td>every now and then a movie comes along from a ...</td>\n",
       "      <td>1</td>\n",
       "      <td>[every, now, and, then, a, movie, comes, along...</td>\n",
       "      <td>[everi, movi, come, along, suspect, studio, ev...</td>\n",
       "      <td>everi movi come along suspect studio everi ind...</td>\n",
       "    </tr>\n",
       "    <tr>\n",
       "      <th>2</th>\n",
       "      <td>you ' ve got mail works alot better than it de...</td>\n",
       "      <td>1</td>\n",
       "      <td>[you, ve, got, mail, works, alot, better, than...</td>\n",
       "      <td>[got, mail, work, alot, better, deserv, order,...</td>\n",
       "      <td>got mail work alot better deserv order make fi...</td>\n",
       "    </tr>\n",
       "    <tr>\n",
       "      <th>3</th>\n",
       "      <td>\" jaws \" is a rare film that grabs your attent...</td>\n",
       "      <td>1</td>\n",
       "      <td>[jaws, is, a, rare, film, that, grabs, your, a...</td>\n",
       "      <td>[jaw, rare, film, grab, attent, show, singl, i...</td>\n",
       "      <td>jaw rare film grab attent show singl imag scre...</td>\n",
       "    </tr>\n",
       "    <tr>\n",
       "      <th>4</th>\n",
       "      <td>moviemaking is a lot like being the general ma...</td>\n",
       "      <td>1</td>\n",
       "      <td>[moviemaking, is, a, lot, like, being, the, ge...</td>\n",
       "      <td>[moviemak, lot, like, gener, manag, nfl, team,...</td>\n",
       "      <td>moviemak lot like gener manag nfl team post sa...</td>\n",
       "    </tr>\n",
       "    <tr>\n",
       "      <th>...</th>\n",
       "      <td>...</td>\n",
       "      <td>...</td>\n",
       "      <td>...</td>\n",
       "      <td>...</td>\n",
       "      <td>...</td>\n",
       "    </tr>\n",
       "    <tr>\n",
       "      <th>195</th>\n",
       "      <td>there exists a litany of differences between a...</td>\n",
       "      <td>1</td>\n",
       "      <td>[there, exists, a, litany, of, differences, be...</td>\n",
       "      <td>[exist, litani, differ, success, action, movi,...</td>\n",
       "      <td>exist litani differ success action movi succes...</td>\n",
       "    </tr>\n",
       "    <tr>\n",
       "      <th>196</th>\n",
       "      <td>jay and silent bob strike back , kevin smith '...</td>\n",
       "      <td>1</td>\n",
       "      <td>[jay, and, silent, bob, strike, back, kevin, s...</td>\n",
       "      <td>[jay, silent, bob, strike, back, kevin, smith,...</td>\n",
       "      <td>jay silent bob strike back kevin smith swan so...</td>\n",
       "    </tr>\n",
       "    <tr>\n",
       "      <th>197</th>\n",
       "      <td>damn those trailers . had it not been for the ...</td>\n",
       "      <td>1</td>\n",
       "      <td>[damn, those, trailers, had, it, not, been, fo...</td>\n",
       "      <td>[damn, trailer, advertis, film, reveal, far, m...</td>\n",
       "      <td>damn trailer advertis film reveal far much con...</td>\n",
       "    </tr>\n",
       "    <tr>\n",
       "      <th>198</th>\n",
       "      <td>bob the happy bastard ' s quickie review : rus...</td>\n",
       "      <td>1</td>\n",
       "      <td>[bob, the, happy, bastard, s, quickie, review,...</td>\n",
       "      <td>[bob, happi, bastard, quicki, review, rush, ho...</td>\n",
       "      <td>bob happi bastard quicki review rush hour prob...</td>\n",
       "    </tr>\n",
       "    <tr>\n",
       "      <th>199</th>\n",
       "      <td>this sunday afternoon i had the priviledge of ...</td>\n",
       "      <td>1</td>\n",
       "      <td>[this, sunday, afternoon, i, had, the, privile...</td>\n",
       "      <td>[sunday, afternoon, priviledg, attend, privat,...</td>\n",
       "      <td>sunday afternoon priviledg attend privat scree...</td>\n",
       "    </tr>\n",
       "  </tbody>\n",
       "</table>\n",
       "<p>200 rows × 5 columns</p>\n",
       "</div>"
      ],
      "text/plain": [
       "                                                 email  pos_neg  \\\n",
       "0    films adapted from comic books have had plenty...        1   \n",
       "1    every now and then a movie comes along from a ...        1   \n",
       "2    you ' ve got mail works alot better than it de...        1   \n",
       "3    \" jaws \" is a rare film that grabs your attent...        1   \n",
       "4    moviemaking is a lot like being the general ma...        1   \n",
       "..                                                 ...      ...   \n",
       "195  there exists a litany of differences between a...        1   \n",
       "196  jay and silent bob strike back , kevin smith '...        1   \n",
       "197  damn those trailers . had it not been for the ...        1   \n",
       "198  bob the happy bastard ' s quickie review : rus...        1   \n",
       "199  this sunday afternoon i had the priviledge of ...        1   \n",
       "\n",
       "                                           email_clean  \\\n",
       "0    [films, adapted, from, comic, books, have, had...   \n",
       "1    [every, now, and, then, a, movie, comes, along...   \n",
       "2    [you, ve, got, mail, works, alot, better, than...   \n",
       "3    [jaws, is, a, rare, film, that, grabs, your, a...   \n",
       "4    [moviemaking, is, a, lot, like, being, the, ge...   \n",
       "..                                                 ...   \n",
       "195  [there, exists, a, litany, of, differences, be...   \n",
       "196  [jay, and, silent, bob, strike, back, kevin, s...   \n",
       "197  [damn, those, trailers, had, it, not, been, fo...   \n",
       "198  [bob, the, happy, bastard, s, quickie, review,...   \n",
       "199  [this, sunday, afternoon, i, had, the, privile...   \n",
       "\n",
       "                                   email_clean_stemmed  \\\n",
       "0    [film, adapt, comic, book, plenti, success, wh...   \n",
       "1    [everi, movi, come, along, suspect, studio, ev...   \n",
       "2    [got, mail, work, alot, better, deserv, order,...   \n",
       "3    [jaw, rare, film, grab, attent, show, singl, i...   \n",
       "4    [moviemak, lot, like, gener, manag, nfl, team,...   \n",
       "..                                                 ...   \n",
       "195  [exist, litani, differ, success, action, movi,...   \n",
       "196  [jay, silent, bob, strike, back, kevin, smith,...   \n",
       "197  [damn, trailer, advertis, film, reveal, far, m...   \n",
       "198  [bob, happi, bastard, quicki, review, rush, ho...   \n",
       "199  [sunday, afternoon, priviledg, attend, privat,...   \n",
       "\n",
       "                                       email_clean_txt  \n",
       "0    film adapt comic book plenti success whether s...  \n",
       "1    everi movi come along suspect studio everi ind...  \n",
       "2    got mail work alot better deserv order make fi...  \n",
       "3    jaw rare film grab attent show singl imag scre...  \n",
       "4    moviemak lot like gener manag nfl team post sa...  \n",
       "..                                                 ...  \n",
       "195  exist litani differ success action movi succes...  \n",
       "196  jay silent bob strike back kevin smith swan so...  \n",
       "197  damn trailer advertis film reveal far much con...  \n",
       "198  bob happi bastard quicki review rush hour prob...  \n",
       "199  sunday afternoon priviledg attend privat scree...  \n",
       "\n",
       "[200 rows x 5 columns]"
      ]
     },
     "execution_count": 141,
     "metadata": {},
     "output_type": "execute_result"
    }
   ],
   "source": [
    "df"
   ]
  },
  {
   "cell_type": "markdown",
   "id": "0144c680",
   "metadata": {},
   "source": [
    "# TFIDF"
   ]
  },
  {
   "cell_type": "code",
   "execution_count": 143,
   "id": "d932073c",
   "metadata": {},
   "outputs": [],
   "source": [
    "from sklearn.feature_extraction.text import TfidfVectorizer"
   ]
  },
  {
   "cell_type": "code",
   "execution_count": 149,
   "id": "b42f77fc",
   "metadata": {},
   "outputs": [],
   "source": [
    "tfidf_vectorizer = TfidfVectorizer()\n",
    "X_train_tf_idf = tfidf_vectorizer.fit_transform(X_train)\n",
    "X_test_tf_idf = tfidf_vectorizer.transform(X_test)"
   ]
  },
  {
   "cell_type": "code",
   "execution_count": 150,
   "id": "2269a763",
   "metadata": {},
   "outputs": [
    {
     "data": {
      "text/plain": [
       "(134, 8004)"
      ]
     },
     "execution_count": 150,
     "metadata": {},
     "output_type": "execute_result"
    }
   ],
   "source": [
    "X_train_tf_idf.shape"
   ]
  },
  {
   "cell_type": "code",
   "execution_count": 151,
   "id": "7a5a219b",
   "metadata": {},
   "outputs": [
    {
     "data": {
      "text/plain": [
       "(66, 8004)"
      ]
     },
     "execution_count": 151,
     "metadata": {},
     "output_type": "execute_result"
    }
   ],
   "source": [
    "X_test_tf_idf.shape"
   ]
  },
  {
   "cell_type": "code",
   "execution_count": 152,
   "id": "cbbecca8",
   "metadata": {},
   "outputs": [],
   "source": [
    "model = KMeans(n_clusters=2)\n",
    "model.fit(X_train_tf_idf)\n",
    "y_pred = model.predict(X_test_tf_idf)"
   ]
  },
  {
   "cell_type": "code",
   "execution_count": 153,
   "id": "5c35aa5d",
   "metadata": {},
   "outputs": [
    {
     "data": {
      "text/plain": [
       "array([0, 0, 0, 0, 0, 0, 0, 0, 0, 0, 0, 0, 0, 0, 0, 0, 0, 0, 0, 0, 0, 0,\n",
       "       0, 0, 1, 0, 0, 0, 0, 0, 0, 0, 0, 0, 0, 0, 0, 0, 0, 0, 0, 0, 0, 0,\n",
       "       0, 0, 0, 0, 0, 0, 0, 0, 0, 0, 0, 0, 0, 0, 0, 0, 0, 0, 0, 0, 0, 0])"
      ]
     },
     "execution_count": 153,
     "metadata": {},
     "output_type": "execute_result"
    }
   ],
   "source": [
    "y_pred"
   ]
  },
  {
   "cell_type": "code",
   "execution_count": 154,
   "id": "fb842011",
   "metadata": {},
   "outputs": [],
   "source": [
    "df_new1 = pd.DataFrame({'email':X_test,'label':y_pred})"
   ]
  },
  {
   "cell_type": "code",
   "execution_count": 155,
   "id": "86b9ff3f",
   "metadata": {},
   "outputs": [
    {
     "data": {
      "text/html": [
       "<div>\n",
       "<style scoped>\n",
       "    .dataframe tbody tr th:only-of-type {\n",
       "        vertical-align: middle;\n",
       "    }\n",
       "\n",
       "    .dataframe tbody tr th {\n",
       "        vertical-align: top;\n",
       "    }\n",
       "\n",
       "    .dataframe thead th {\n",
       "        text-align: right;\n",
       "    }\n",
       "</style>\n",
       "<table border=\"1\" class=\"dataframe\">\n",
       "  <thead>\n",
       "    <tr style=\"text-align: right;\">\n",
       "      <th></th>\n",
       "      <th>email</th>\n",
       "      <th>label</th>\n",
       "    </tr>\n",
       "  </thead>\n",
       "  <tbody>\n",
       "    <tr>\n",
       "      <th>95</th>\n",
       "      <td>crazi beauti suffer damn damn syndrom spate fl...</td>\n",
       "      <td>0</td>\n",
       "    </tr>\n",
       "    <tr>\n",
       "      <th>15</th>\n",
       "      <td>plot young man love heavi metal music especi b...</td>\n",
       "      <td>0</td>\n",
       "    </tr>\n",
       "    <tr>\n",
       "      <th>30</th>\n",
       "      <td>linda fiorentino disappear radar deservedli he...</td>\n",
       "      <td>0</td>\n",
       "    </tr>\n",
       "    <tr>\n",
       "      <th>158</th>\n",
       "      <td>televis show gay charact even infam ellen sitc...</td>\n",
       "      <td>0</td>\n",
       "    </tr>\n",
       "    <tr>\n",
       "      <th>128</th>\n",
       "      <td>capsul verma famili wed rel come multi day fes...</td>\n",
       "      <td>0</td>\n",
       "    </tr>\n",
       "    <tr>\n",
       "      <th>...</th>\n",
       "      <td>...</td>\n",
       "      <td>...</td>\n",
       "    </tr>\n",
       "    <tr>\n",
       "      <th>97</th>\n",
       "      <td>mani peopl procrastin problem overcom high art...</td>\n",
       "      <td>0</td>\n",
       "    </tr>\n",
       "    <tr>\n",
       "      <th>31</th>\n",
       "      <td>heard hype seen face natali portman profession...</td>\n",
       "      <td>0</td>\n",
       "    </tr>\n",
       "    <tr>\n",
       "      <th>12</th>\n",
       "      <td>synopsi bobbi garfield yelchin live small town...</td>\n",
       "      <td>0</td>\n",
       "    </tr>\n",
       "    <tr>\n",
       "      <th>35</th>\n",
       "      <td>unzip cinemat portrait isaac mizrahi artist wh...</td>\n",
       "      <td>0</td>\n",
       "    </tr>\n",
       "    <tr>\n",
       "      <th>119</th>\n",
       "      <td>disast film tendenc formul clich see disast fi...</td>\n",
       "      <td>0</td>\n",
       "    </tr>\n",
       "  </tbody>\n",
       "</table>\n",
       "<p>66 rows × 2 columns</p>\n",
       "</div>"
      ],
      "text/plain": [
       "                                                 email  label\n",
       "95   crazi beauti suffer damn damn syndrom spate fl...      0\n",
       "15   plot young man love heavi metal music especi b...      0\n",
       "30   linda fiorentino disappear radar deservedli he...      0\n",
       "158  televis show gay charact even infam ellen sitc...      0\n",
       "128  capsul verma famili wed rel come multi day fes...      0\n",
       "..                                                 ...    ...\n",
       "97   mani peopl procrastin problem overcom high art...      0\n",
       "31   heard hype seen face natali portman profession...      0\n",
       "12   synopsi bobbi garfield yelchin live small town...      0\n",
       "35   unzip cinemat portrait isaac mizrahi artist wh...      0\n",
       "119  disast film tendenc formul clich see disast fi...      0\n",
       "\n",
       "[66 rows x 2 columns]"
      ]
     },
     "execution_count": 155,
     "metadata": {},
     "output_type": "execute_result"
    }
   ],
   "source": [
    "df_new1"
   ]
  },
  {
   "cell_type": "code",
   "execution_count": 158,
   "id": "3c93f22e",
   "metadata": {},
   "outputs": [],
   "source": [
    "import numpy as np"
   ]
  },
  {
   "cell_type": "code",
   "execution_count": 160,
   "id": "89a4fbe3",
   "metadata": {},
   "outputs": [],
   "source": [
    "df_new['tech_non-tech'] = np.where(df_new['label']==1,'Technical','Non-Technical')"
   ]
  },
  {
   "cell_type": "code",
   "execution_count": 161,
   "id": "eb7ae351",
   "metadata": {},
   "outputs": [
    {
     "data": {
      "text/html": [
       "<div>\n",
       "<style scoped>\n",
       "    .dataframe tbody tr th:only-of-type {\n",
       "        vertical-align: middle;\n",
       "    }\n",
       "\n",
       "    .dataframe tbody tr th {\n",
       "        vertical-align: top;\n",
       "    }\n",
       "\n",
       "    .dataframe thead th {\n",
       "        text-align: right;\n",
       "    }\n",
       "</style>\n",
       "<table border=\"1\" class=\"dataframe\">\n",
       "  <thead>\n",
       "    <tr style=\"text-align: right;\">\n",
       "      <th></th>\n",
       "      <th>email</th>\n",
       "      <th>label</th>\n",
       "      <th>True</th>\n",
       "      <th>tech_non-tech</th>\n",
       "    </tr>\n",
       "  </thead>\n",
       "  <tbody>\n",
       "    <tr>\n",
       "      <th>95</th>\n",
       "      <td>crazi beauti suffer damn damn syndrom spate fl...</td>\n",
       "      <td>1</td>\n",
       "      <td>1</td>\n",
       "      <td>Technical</td>\n",
       "    </tr>\n",
       "    <tr>\n",
       "      <th>15</th>\n",
       "      <td>plot young man love heavi metal music especi b...</td>\n",
       "      <td>0</td>\n",
       "      <td>1</td>\n",
       "      <td>Non-Technical</td>\n",
       "    </tr>\n",
       "    <tr>\n",
       "      <th>30</th>\n",
       "      <td>linda fiorentino disappear radar deservedli he...</td>\n",
       "      <td>1</td>\n",
       "      <td>1</td>\n",
       "      <td>Technical</td>\n",
       "    </tr>\n",
       "    <tr>\n",
       "      <th>158</th>\n",
       "      <td>televis show gay charact even infam ellen sitc...</td>\n",
       "      <td>1</td>\n",
       "      <td>1</td>\n",
       "      <td>Technical</td>\n",
       "    </tr>\n",
       "    <tr>\n",
       "      <th>128</th>\n",
       "      <td>capsul verma famili wed rel come multi day fes...</td>\n",
       "      <td>1</td>\n",
       "      <td>1</td>\n",
       "      <td>Technical</td>\n",
       "    </tr>\n",
       "    <tr>\n",
       "      <th>...</th>\n",
       "      <td>...</td>\n",
       "      <td>...</td>\n",
       "      <td>...</td>\n",
       "      <td>...</td>\n",
       "    </tr>\n",
       "    <tr>\n",
       "      <th>97</th>\n",
       "      <td>mani peopl procrastin problem overcom high art...</td>\n",
       "      <td>1</td>\n",
       "      <td>1</td>\n",
       "      <td>Technical</td>\n",
       "    </tr>\n",
       "    <tr>\n",
       "      <th>31</th>\n",
       "      <td>heard hype seen face natali portman profession...</td>\n",
       "      <td>0</td>\n",
       "      <td>1</td>\n",
       "      <td>Non-Technical</td>\n",
       "    </tr>\n",
       "    <tr>\n",
       "      <th>12</th>\n",
       "      <td>synopsi bobbi garfield yelchin live small town...</td>\n",
       "      <td>1</td>\n",
       "      <td>1</td>\n",
       "      <td>Technical</td>\n",
       "    </tr>\n",
       "    <tr>\n",
       "      <th>35</th>\n",
       "      <td>unzip cinemat portrait isaac mizrahi artist wh...</td>\n",
       "      <td>1</td>\n",
       "      <td>1</td>\n",
       "      <td>Technical</td>\n",
       "    </tr>\n",
       "    <tr>\n",
       "      <th>119</th>\n",
       "      <td>disast film tendenc formul clich see disast fi...</td>\n",
       "      <td>1</td>\n",
       "      <td>1</td>\n",
       "      <td>Technical</td>\n",
       "    </tr>\n",
       "  </tbody>\n",
       "</table>\n",
       "<p>66 rows × 4 columns</p>\n",
       "</div>"
      ],
      "text/plain": [
       "                                                 email  label  True  \\\n",
       "95   crazi beauti suffer damn damn syndrom spate fl...      1     1   \n",
       "15   plot young man love heavi metal music especi b...      0     1   \n",
       "30   linda fiorentino disappear radar deservedli he...      1     1   \n",
       "158  televis show gay charact even infam ellen sitc...      1     1   \n",
       "128  capsul verma famili wed rel come multi day fes...      1     1   \n",
       "..                                                 ...    ...   ...   \n",
       "97   mani peopl procrastin problem overcom high art...      1     1   \n",
       "31   heard hype seen face natali portman profession...      0     1   \n",
       "12   synopsi bobbi garfield yelchin live small town...      1     1   \n",
       "35   unzip cinemat portrait isaac mizrahi artist wh...      1     1   \n",
       "119  disast film tendenc formul clich see disast fi...      1     1   \n",
       "\n",
       "     tech_non-tech  \n",
       "95       Technical  \n",
       "15   Non-Technical  \n",
       "30       Technical  \n",
       "158      Technical  \n",
       "128      Technical  \n",
       "..             ...  \n",
       "97       Technical  \n",
       "31   Non-Technical  \n",
       "12       Technical  \n",
       "35       Technical  \n",
       "119      Technical  \n",
       "\n",
       "[66 rows x 4 columns]"
      ]
     },
     "execution_count": 161,
     "metadata": {},
     "output_type": "execute_result"
    }
   ],
   "source": [
    "df_new"
   ]
  },
  {
   "cell_type": "code",
   "execution_count": 164,
   "id": "6fd38781",
   "metadata": {},
   "outputs": [],
   "source": [
    "df_new['new_col'] = df_new['label'].replace([0,1],['Tech','Non-Tech']) "
   ]
  },
  {
   "cell_type": "code",
   "execution_count": 165,
   "id": "4677e1c1",
   "metadata": {},
   "outputs": [
    {
     "data": {
      "text/html": [
       "<div>\n",
       "<style scoped>\n",
       "    .dataframe tbody tr th:only-of-type {\n",
       "        vertical-align: middle;\n",
       "    }\n",
       "\n",
       "    .dataframe tbody tr th {\n",
       "        vertical-align: top;\n",
       "    }\n",
       "\n",
       "    .dataframe thead th {\n",
       "        text-align: right;\n",
       "    }\n",
       "</style>\n",
       "<table border=\"1\" class=\"dataframe\">\n",
       "  <thead>\n",
       "    <tr style=\"text-align: right;\">\n",
       "      <th></th>\n",
       "      <th>email</th>\n",
       "      <th>label</th>\n",
       "      <th>True</th>\n",
       "      <th>tech_non-tech</th>\n",
       "      <th>new_col</th>\n",
       "    </tr>\n",
       "  </thead>\n",
       "  <tbody>\n",
       "    <tr>\n",
       "      <th>95</th>\n",
       "      <td>crazi beauti suffer damn damn syndrom spate fl...</td>\n",
       "      <td>1</td>\n",
       "      <td>1</td>\n",
       "      <td>Technical</td>\n",
       "      <td>Non-Tech</td>\n",
       "    </tr>\n",
       "    <tr>\n",
       "      <th>15</th>\n",
       "      <td>plot young man love heavi metal music especi b...</td>\n",
       "      <td>0</td>\n",
       "      <td>1</td>\n",
       "      <td>Non-Technical</td>\n",
       "      <td>Tech</td>\n",
       "    </tr>\n",
       "    <tr>\n",
       "      <th>30</th>\n",
       "      <td>linda fiorentino disappear radar deservedli he...</td>\n",
       "      <td>1</td>\n",
       "      <td>1</td>\n",
       "      <td>Technical</td>\n",
       "      <td>Non-Tech</td>\n",
       "    </tr>\n",
       "    <tr>\n",
       "      <th>158</th>\n",
       "      <td>televis show gay charact even infam ellen sitc...</td>\n",
       "      <td>1</td>\n",
       "      <td>1</td>\n",
       "      <td>Technical</td>\n",
       "      <td>Non-Tech</td>\n",
       "    </tr>\n",
       "    <tr>\n",
       "      <th>128</th>\n",
       "      <td>capsul verma famili wed rel come multi day fes...</td>\n",
       "      <td>1</td>\n",
       "      <td>1</td>\n",
       "      <td>Technical</td>\n",
       "      <td>Non-Tech</td>\n",
       "    </tr>\n",
       "    <tr>\n",
       "      <th>...</th>\n",
       "      <td>...</td>\n",
       "      <td>...</td>\n",
       "      <td>...</td>\n",
       "      <td>...</td>\n",
       "      <td>...</td>\n",
       "    </tr>\n",
       "    <tr>\n",
       "      <th>97</th>\n",
       "      <td>mani peopl procrastin problem overcom high art...</td>\n",
       "      <td>1</td>\n",
       "      <td>1</td>\n",
       "      <td>Technical</td>\n",
       "      <td>Non-Tech</td>\n",
       "    </tr>\n",
       "    <tr>\n",
       "      <th>31</th>\n",
       "      <td>heard hype seen face natali portman profession...</td>\n",
       "      <td>0</td>\n",
       "      <td>1</td>\n",
       "      <td>Non-Technical</td>\n",
       "      <td>Tech</td>\n",
       "    </tr>\n",
       "    <tr>\n",
       "      <th>12</th>\n",
       "      <td>synopsi bobbi garfield yelchin live small town...</td>\n",
       "      <td>1</td>\n",
       "      <td>1</td>\n",
       "      <td>Technical</td>\n",
       "      <td>Non-Tech</td>\n",
       "    </tr>\n",
       "    <tr>\n",
       "      <th>35</th>\n",
       "      <td>unzip cinemat portrait isaac mizrahi artist wh...</td>\n",
       "      <td>1</td>\n",
       "      <td>1</td>\n",
       "      <td>Technical</td>\n",
       "      <td>Non-Tech</td>\n",
       "    </tr>\n",
       "    <tr>\n",
       "      <th>119</th>\n",
       "      <td>disast film tendenc formul clich see disast fi...</td>\n",
       "      <td>1</td>\n",
       "      <td>1</td>\n",
       "      <td>Technical</td>\n",
       "      <td>Non-Tech</td>\n",
       "    </tr>\n",
       "  </tbody>\n",
       "</table>\n",
       "<p>66 rows × 5 columns</p>\n",
       "</div>"
      ],
      "text/plain": [
       "                                                 email  label  True  \\\n",
       "95   crazi beauti suffer damn damn syndrom spate fl...      1     1   \n",
       "15   plot young man love heavi metal music especi b...      0     1   \n",
       "30   linda fiorentino disappear radar deservedli he...      1     1   \n",
       "158  televis show gay charact even infam ellen sitc...      1     1   \n",
       "128  capsul verma famili wed rel come multi day fes...      1     1   \n",
       "..                                                 ...    ...   ...   \n",
       "97   mani peopl procrastin problem overcom high art...      1     1   \n",
       "31   heard hype seen face natali portman profession...      0     1   \n",
       "12   synopsi bobbi garfield yelchin live small town...      1     1   \n",
       "35   unzip cinemat portrait isaac mizrahi artist wh...      1     1   \n",
       "119  disast film tendenc formul clich see disast fi...      1     1   \n",
       "\n",
       "     tech_non-tech   new_col  \n",
       "95       Technical  Non-Tech  \n",
       "15   Non-Technical      Tech  \n",
       "30       Technical  Non-Tech  \n",
       "158      Technical  Non-Tech  \n",
       "128      Technical  Non-Tech  \n",
       "..             ...       ...  \n",
       "97       Technical  Non-Tech  \n",
       "31   Non-Technical      Tech  \n",
       "12       Technical  Non-Tech  \n",
       "35       Technical  Non-Tech  \n",
       "119      Technical  Non-Tech  \n",
       "\n",
       "[66 rows x 5 columns]"
      ]
     },
     "execution_count": 165,
     "metadata": {},
     "output_type": "execute_result"
    }
   ],
   "source": [
    "df_new"
   ]
  },
  {
   "cell_type": "code",
   "execution_count": null,
   "id": "f07f30de",
   "metadata": {},
   "outputs": [],
   "source": []
  }
 ],
 "metadata": {
  "kernelspec": {
   "display_name": "Python 3 (ipykernel)",
   "language": "python",
   "name": "python3"
  },
  "language_info": {
   "codemirror_mode": {
    "name": "ipython",
    "version": 3
   },
   "file_extension": ".py",
   "mimetype": "text/x-python",
   "name": "python",
   "nbconvert_exporter": "python",
   "pygments_lexer": "ipython3",
   "version": "3.9.12"
  }
 },
 "nbformat": 4,
 "nbformat_minor": 5
}
