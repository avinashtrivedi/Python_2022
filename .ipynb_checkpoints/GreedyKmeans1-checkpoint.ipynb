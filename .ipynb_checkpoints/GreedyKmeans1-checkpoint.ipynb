{
 "cells": [
  {
   "cell_type": "code",
   "execution_count": 51,
   "metadata": {
    "id": "EicLPIDFgv9j"
   },
   "outputs": [],
   "source": [
    "from __future__ import print_function\n",
    "import argparse\n",
    "import torch\n",
    "import torch.nn as nn\n",
    "import torch.nn.functional as F\n",
    "import torch.optim as optim\n",
    "# from torchvision import datasets, transforms\n",
    "from torch.utils.data import random_split\n",
    "from torch.autograd import Variable\n",
    "# import torchvision\n",
    "import os\n",
    "import random"
   ]
  },
  {
   "cell_type": "code",
   "execution_count": 52,
   "metadata": {
    "id": "tjl1gVvmgv9l"
   },
   "outputs": [],
   "source": [
    "import pandas as pd # pandas is a data manipulation library\n",
    "import numpy as np #provides numerical arrays and functions to manipulate the arrays efficiently\n",
    "import matplotlib.pyplot as plt # data visualization library\n",
    "import sklearn\n",
    "from sklearn.datasets import fetch_olivetti_faces"
   ]
  },
  {
   "cell_type": "markdown",
   "metadata": {
    "id": "cPY2H6dNgv9m"
   },
   "source": [
    "# Exercise : Convolution Neural Network"
   ]
  },
  {
   "cell_type": "code",
   "execution_count": 53,
   "metadata": {
    "id": "R2Lx8N73gv9n"
   },
   "outputs": [],
   "source": [
    "def seed_everything(seed=42):\n",
    "    random.seed(seed)\n",
    "    os.environ['PYTHONHASHSEED'] = str(seed)\n",
    "    torch.manual_seed(seed)\n",
    "    torch.cuda.manual_seed(seed)\n",
    "    np.random.seed(seed)\n",
    "    torch.backends.cudnn.benchmark = False\n",
    "    torch.backends.cudnn.deterministic = True"
   ]
  },
  {
   "cell_type": "markdown",
   "metadata": {
    "id": "0Jm2kmuzgv9u"
   },
   "source": [
    "# Exercise: k-means Initialization"
   ]
  },
  {
   "cell_type": "code",
   "execution_count": 54,
   "metadata": {
    "id": "PdlN18D_gv9u",
    "outputId": "3069fd6c-b316-46f2-c290-3570ee819ea4"
   },
   "outputs": [],
   "source": [
    "# !pip3 show scikit-learn"
   ]
  },
  {
   "cell_type": "code",
   "execution_count": 55,
   "metadata": {
    "id": "iGKmKQ8Ggv9v",
    "outputId": "d1dbdd3c-c237-4b96-a707-35dc494223fd"
   },
   "outputs": [],
   "source": [
    "# !pip3 show numpy"
   ]
  },
  {
   "cell_type": "markdown",
   "metadata": {
    "id": "5V_M2v4Egv9v"
   },
   "source": [
    "If your versions don't match, the following commands (or their anaconda version) could help to get the newest stable release. If you need help with this, please ask the TAs during instruction hours."
   ]
  },
  {
   "cell_type": "code",
   "execution_count": 56,
   "metadata": {
    "id": "8bq3RW7tgv9v",
    "outputId": "06304ea6-5da6-4cc4-8272-15cd300d2d6b"
   },
   "outputs": [],
   "source": [
    "# !pip3 install scikit-learn --upgrade\n",
    "# !pip3 install numpy --upgrade"
   ]
  },
  {
   "cell_type": "markdown",
   "metadata": {
    "id": "diH032nQgv9w"
   },
   "source": [
    "The functions generating the datasets are given here:"
   ]
  },
  {
   "cell_type": "code",
   "execution_count": 57,
   "metadata": {
    "id": "vFpRwthkgv9w"
   },
   "outputs": [],
   "source": [
    "def generateMoons(epsilon, n):\n",
    "    moons, labels = sklearn.datasets.make_moons(n_samples=n, noise=epsilon, random_state=7)\n",
    "    return \"moons\", moons, labels, 2\n",
    "def generateBlobs(epsilon, n):\n",
    "    blobs, labels = sklearn.datasets.make_blobs(n_samples=n,centers=3, cluster_std=[epsilon + 1, epsilon + 2.5, epsilon + 0.5])\n",
    "    return \"blobs\", blobs, labels, 3"
   ]
  },
  {
   "cell_type": "markdown",
   "metadata": {
    "id": "gk-WZ4lngv9w"
   },
   "source": [
    "Implement the centroid initialization here. Right now, it returns a random initialization. "
   ]
  },
  {
   "cell_type": "code",
   "execution_count": 58,
   "metadata": {
    "id": "myB4bkoAgv9w"
   },
   "outputs": [],
   "source": [
    "def init_centroids_greedy_pp(D,r,l=10):\n",
    "    '''\n",
    "        :param r: (int) number of centroids (clusters)\n",
    "        :param D: (np-array) the data matrix\n",
    "        :param l: (int) number of centroid candidates in each step\n",
    "        :return: (np-array) 'X' the selected centroids from the dataset\n",
    "    '''   \n",
    "    \n",
    "#     X1 = pd.DataFrame(D)\n",
    "#     centroids = X1 .sample(l)#.values\n",
    "    \n",
    "    np.random.seed(42)\n",
    "    centroids = [D[0]]\n",
    "\n",
    "    for _ in range(1, r):\n",
    "        dist_sq = np.array([min([np.inner(c-x,c-x) for c in centroids]) for x in D])\n",
    "        probs = dist_sq/dist_sq.sum()\n",
    "        cumulative_probs = probs.cumsum()\n",
    "        t = np.random.rand()\n",
    "        \n",
    "        for j, p in enumerate(cumulative_probs):\n",
    "            if t < p:\n",
    "                i = j\n",
    "                break\n",
    "        \n",
    "        centroids.append(D[i])\n",
    "\n",
    "    return np.array(centroids)"
   ]
  },
  {
   "cell_type": "code",
   "execution_count": 59,
   "metadata": {
    "id": "pdfDN6X3gv9x"
   },
   "outputs": [],
   "source": [
    "import scipy\n",
    "def spectral_clustering(W,r, X_init):\n",
    "    '''\n",
    "        :param W: (np-array) nxn similarity/weighted adjacency matrix\n",
    "        :param r: (int) number of centroids (clusters)\n",
    "        :param X_init: (function) the centroid initialization function \n",
    "        :return: (np-array) 'Y' the computed cluster assignment matrix\n",
    "    '''\n",
    "\n",
    "    \n",
    "    L = np.diag(np.array(W.sum(0))[0]) - W\n",
    "    Lambda, V = scipy.sparse.linalg.eigsh(L, k=r+1, which=\"SM\")\n",
    "    A = V[:,1:]\n",
    "    initial_points = X_init(A,r)\n",
    "    X, Y = kmeans(A, r, initial_points)\n",
    "    return Y"
   ]
  },
  {
   "cell_type": "markdown",
   "metadata": {
    "id": "TMkyRkR1gv9x"
   },
   "source": [
    "This is the $k$-means implementation from the lecture accompanying notebook."
   ]
  },
  {
   "cell_type": "code",
   "execution_count": 60,
   "metadata": {
    "id": "f8ykF5OOgv9x"
   },
   "outputs": [],
   "source": [
    "def RSS(D,X,Y):\n",
    "    return np.sum((D- Y@X.T)**2)"
   ]
  },
  {
   "cell_type": "code",
   "execution_count": 61,
   "metadata": {
    "id": "ddqiEbQSgv9x"
   },
   "outputs": [],
   "source": [
    "def getY(labels):\n",
    "    '''\n",
    "        Compute the cluster assignment matrix Y from the categorically encoded labels\n",
    "    '''\n",
    "    Y = np.eye(max(labels)+1)[labels]\n",
    "    return Y\n",
    "def update_centroid(D,Y):\n",
    "    cluster_sizes = np.diag(Y.T@Y).copy()\n",
    "    cluster_sizes[cluster_sizes==0]=1\n",
    "    return D.T@Y/cluster_sizes\n",
    "def update_assignment(D,X):\n",
    "    dist = np.sum((np.expand_dims(D,2) - X)**2,1)\n",
    "    labels = np.argmin(dist,1)\n",
    "    return getY(labels)\n",
    "def kmeans(D,r, X_init, epsilon=0.00001, t_max=10000):\n",
    "    X = X_init.copy()\n",
    "    Y = update_assignment(D,X)\n",
    "    rss_old = RSS(D,X,Y) +2*epsilon\n",
    "    t=0\n",
    "    #Looping as long as difference of objective function values is larger than epsilon\n",
    "    while rss_old - RSS(D,X,Y) > epsilon and t < t_max-1:\n",
    "        rss_old = RSS(D,X,Y)\n",
    "        X = update_centroid(D,Y)\n",
    "        Y = update_assignment(D,X)\n",
    "        t+=1\n",
    "    print(t,\"iterations\")\n",
    "    return X,Y"
   ]
  },
  {
   "cell_type": "markdown",
   "metadata": {
    "id": "M-Y26gZ-gv9y"
   },
   "source": [
    "We generate a dataset."
   ]
  },
  {
   "cell_type": "code",
   "execution_count": 62,
   "metadata": {
    "id": "e6hHRcaggv9y"
   },
   "outputs": [],
   "source": [
    "n=500\n",
    "dataID, D, labels, r = generateMoons(0.05,n)"
   ]
  },
  {
   "cell_type": "markdown",
   "metadata": {
    "id": "BsRBLB1Mgv9y"
   },
   "source": [
    "Run kmeans and spectral clustering based on the initialization technique."
   ]
  },
  {
   "cell_type": "code",
   "execution_count": 63,
   "metadata": {
    "colab": {
     "base_uri": "https://localhost:8080/"
    },
    "id": "iQpKuOPwgv9y",
    "outputId": "e0e59440-6d79-4896-8e2a-c0319d331316"
   },
   "outputs": [
    {
     "name": "stdout",
     "output_type": "stream",
     "text": [
      "6 iterations\n"
     ]
    }
   ],
   "source": [
    "X_init = init_centroids_greedy_pp(D,2)\n",
    "X,Y = kmeans(D,r, X_init)"
   ]
  },
  {
   "cell_type": "code",
   "execution_count": 64,
   "metadata": {},
   "outputs": [
    {
     "name": "stdout",
     "output_type": "stream",
     "text": [
      "6 iterations\n",
      "NMI for r=15 1.0\n",
      "6 iterations\n",
      "NMI for r=25 1.0\n",
      "6 iterations\n",
      "NMI for r=30 1.0\n",
      "6 iterations\n",
      "NMI for r=35 1.0\n"
     ]
    }
   ],
   "source": [
    "for r in [15,25,30,35]:\n",
    "    X_init = init_centroids_greedy_pp(D,2)\n",
    "    X,Y = kmeans(D,r, X_init)\n",
    "    print(f'NMI for r={r}',normalized_mutual_info_score(Y.T[0],Y.T[1]))"
   ]
  },
  {
   "cell_type": "code",
   "execution_count": null,
   "metadata": {},
   "outputs": [],
   "source": []
  },
  {
   "cell_type": "code",
   "execution_count": 65,
   "metadata": {
    "colab": {
     "base_uri": "https://localhost:8080/"
    },
    "id": "yMC1hoO-i_z7",
    "outputId": "51a5685b-9742-4cfa-9734-db0f2c40a1bf"
   },
   "outputs": [
    {
     "data": {
      "text/plain": [
       "1.0"
      ]
     },
     "execution_count": 65,
     "metadata": {},
     "output_type": "execute_result"
    }
   ],
   "source": [
    "from sklearn.metrics.cluster import normalized_mutual_info_score\n",
    "normalized_mutual_info_score([0, 0, 1, 1], [0, 0, 1, 1])"
   ]
  },
  {
   "cell_type": "markdown",
   "metadata": {
    "id": "EslnWbwfgv9y"
   },
   "source": [
    "Plot the clustering. The initial centroids are marked in red, and the final centroids are marked in blue. You can use this visualization to see if your initialization makes sense. It doesn't work for spectral clustering."
   ]
  },
  {
   "cell_type": "code",
   "execution_count": 66,
   "metadata": {
    "colab": {
     "base_uri": "https://localhost:8080/",
     "height": 282
    },
    "id": "1H0RronCgv9y",
    "outputId": "6ef90fbb-f8e5-415f-cf60-272f5db0c130"
   },
   "outputs": [
    {
     "data": {
      "text/plain": [
       "<matplotlib.collections.PathCollection at 0x234d5ff3d60>"
      ]
     },
     "execution_count": 66,
     "metadata": {},
     "output_type": "execute_result"
    },
    {
     "data": {
      "image/png": "[encoded data removed]",
      "text/plain": [
       "<Figure size 432x288 with 1 Axes>"
      ]
     },
     "metadata": {
      "needs_background": "light"
     },
     "output_type": "display_data"
    }
   ],
   "source": [
    "fig = plt.figure()\n",
    "ax = plt.axes()\n",
    "ax.axis('equal')\n",
    "ax.scatter(D[:, 0], D[:, 1], c=np.argmax(Y,axis=1), s=10)\n",
    "ax.scatter(X_init.T[:, 0], X_init.T[:, 1], c='red', s=50, marker = 'D')\n",
    "ax.scatter(X.T[:, 0], X.T[:, 1], c='blue', s=50, marker = 'D')"
   ]
  },
  {
   "cell_type": "markdown",
   "metadata": {
    "id": "w9rwc4CHgv9y"
   },
   "source": [
    "We generate the moons dataset and compute spectral clustering with the implemented initialization technique."
   ]
  },
  {
   "cell_type": "code",
   "execution_count": 67,
   "metadata": {
    "id": "WoPojmWFgv9y"
   },
   "outputs": [],
   "source": [
    "dataID, D, labels, r = generateMoons(0.05,n)"
   ]
  },
  {
   "cell_type": "code",
   "execution_count": 68,
   "metadata": {
    "colab": {
     "base_uri": "https://localhost:8080/",
     "height": 298
    },
    "id": "SdnVwp82gv9z",
    "outputId": "e5ce6d50-7536-4934-8bf1-2bc145a8139d"
   },
   "outputs": [
    {
     "name": "stdout",
     "output_type": "stream",
     "text": [
      "9 iterations\n"
     ]
    },
    {
     "data": {
      "image/png": "[encoded data removed]",
      "text/plain": [
       "<Figure size 432x288 with 1 Axes>"
      ]
     },
     "metadata": {
      "needs_background": "light"
     },
     "output_type": "display_data"
    }
   ],
   "source": [
    "from sklearn.neighbors import radius_neighbors_graph, kneighbors_graph\n",
    "# Implement here the computation of W as knn graph\n",
    "W = radius_neighbors_graph(D,0.5,include_self=False)\n",
    "Y = spectral_clustering(W,r,init_centroids_greedy_pp)\n",
    "\n",
    "plt.scatter(D[:, 0], D[:, 1], c=np.argmax(Y,axis=1), s=10)\n",
    "plt.title('%s'  % ( dataID) )\n",
    "plt.show()"
   ]
  },
  {
   "cell_type": "code",
   "execution_count": null,
   "metadata": {},
   "outputs": [],
   "source": []
  },
  {
   "cell_type": "code",
   "execution_count": null,
   "metadata": {},
   "outputs": [],
   "source": []
  }
 ],
 "metadata": {
  "colab": {
   "provenance": []
  },
  "kernelspec": {
   "display_name": "Python 3 (ipykernel)",
   "language": "python",
   "name": "python3"
  },
  "language_info": {
   "codemirror_mode": {
    "name": "ipython",
    "version": 3
   },
   "file_extension": ".py",
   "mimetype": "text/x-python",
   "name": "python",
   "nbconvert_exporter": "python",
   "pygments_lexer": "ipython3",
   "version": "3.9.12"
  }
 },
 "nbformat": 4,
 "nbformat_minor": 1
}
