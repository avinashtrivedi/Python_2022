{
 "cells": [
  {
   "cell_type": "markdown",
   "metadata": {
    "id": "jNxwHPHIFC_W"
   },
   "source": [
    "## **Programming with Python for Data Science**\n",
    "\n",
    "\n",
    "###**Lesson: Remote I/O** "
   ]
  },
  {
   "cell_type": "markdown",
   "metadata": {
    "id": "ZItgK3xMHeHC"
   },
   "source": [
    "## **Notebook Preparation for Lesson in 1•2 steps:**\n",
    "Each lesson will start with a similar template:  \n",
    "1. **save** the notebook to your google drive (copy to drive)<br/> ![](https://drive.google.com/uc?export=view&id=1NXb8jeYRc1yNCTz_duZdEpkm8uwRjOW5)\n",
    " \n",
    "2. **update** the NET_ID to be your netID (no need to include @illinois.edu)"
   ]
  },
  {
   "cell_type": "code",
   "execution_count": 1,
   "metadata": {
    "id": "mFNjvEMpHeHC"
   },
   "outputs": [],
   "source": [
    "LESSON_ID = 'p4ds:upy:remote_io'   # keep this as is\n",
    "NET_ID    = 'salonis3' # CHANGE_ME to your netID (keep the quotes)"
   ]
  },
  {
   "cell_type": "markdown",
   "metadata": {
    "id": "e04N-QpBSRlz"
   },
   "source": [
    "#**Lesson Remote I/O**\n",
    "###**using HTTP to get resources**\n",
    "In a previous lesson we learned about getting data from a 'local' resource -- specifically a file resource. We are going to build upon that knowledge to learn how to access resources on the Internet. As you will see, the steps of opening a resource, reading the resource, and then closing it are still present. However, we will be using different Python APIs (application programming interfaces) for working with different libraries to access remote resources.\n",
    "\n",
    "###**Too much terminology**\n",
    "This lesson is packed with potentially new words, concepts, and acronyms. Read slowly. If you don't understand something, reach out and ask questions -- we will be happy to clarify. Let's go over some of the terminology for accessing remote content.\n",
    "\n",
    "###**Protocols**\n",
    "Almost all the resources we will access will be available via **HTTP** (HyperText Transfer Protocol) and HTTP**S** (Secure) *protocol*. A **protocol** is simply a set of rules that each participant in the data exchange must adhere to for communication to happen. These protocols are built on top of other well established 'Internet' protocols such as **TCP** (Transfer Control Protocol -- which helps in reliable data delivery) and **IP** (Internet Protocol -- which helps in routing data from one machine to another) that utilize an engineering technique called **layering** (much like the data science pipeline) -- where each protocol (or step in the pipeline) can use the protocol it's building upon (or the previous step in the pipeline).\n",
    "\n",
    "###**Web Services**\n",
    "Almost any resource that is accessible via HTTP/S has a web server listening to a specific **port** on a machine. A port (80 for HTTP and 443 for HTTPS) is just a mechanism for the operating system to know how to hand off incoming network data to the correct process. A closely related idea is that of a **web service**. A web service uses the same technologies of a web server, however, the requester for data to a web service is typically another computer (not a person, but a program).\n",
    "\n",
    "You may have heard of **REST** (Representational State Transfer) and **SOAP** (Simple Object Access Protocol) that further define rules on how to access resources using HTTP (SOAP uses *SMTP*). Both of these are typical protocols used by web services -- they need to tightly define the rules for locating a resource and for the **encoding** (rules to package the data) the data to send.\n",
    "\n",
    "###**Words that Connect**\n",
    "For every request you make (using HTTP, for example) to a server there's some basic terminology that needs to be memorized.\n",
    "\n",
    "![](https://drive.google.com/uc?export=view&id=19HU2EsmTTyrVYYGxh75eTwZrDnxeISO-)\n",
    "\n",
    "image [source](https://hackernoon.com/http-made-easy-understanding-the-web-client-server-communication-yz783vg3) \n",
    "\n",
    "The **client** is the host that is making the request for some resource. For example, in most web requests, the browser is the client. When we write python code to download a book, our code is the client.\n",
    "\n",
    "The **server** (the thing that manages the resource) handles the request and returns a response. So for every connection, there is a client, a server, a request and a response. The client and server can be the same physical machine as well.\n",
    "\n",
    "###**Request Types**\n",
    "if a resource can be accessed via a URL (in the browser address bar) the request is called a **GET request** (**POST request**s puts the data in the request message or body and not in the URL). We will focus most of our attention on simple HTTP GET requests. There are other types of HTTP requests (e.g. POST, PUT, DELETE)."
   ]
  },
  {
   "cell_type": "markdown",
   "metadata": {
    "id": "THo_Bx2lSRmU"
   },
   "source": [
    "#**The URL**\n",
    "Of course the most important part of a remote request will be the **URL** (Uniform Resource Locator). The URL is a string that identifies a resource and how to access it. It is made up of several components. Knowing these components will help you navigate Python documentation that describes how to manipulate different parts of the URL and/or the connection.\n",
    "\n",
    "###**URL by Example**\n",
    "Let's look at a simple URL:\n",
    "```\n",
    "http://www.gutenberg.org/files/76/76-0.txt\n",
    "```\n",
    "\n",
    "and look at how it can be broken down into different components.\n",
    "\n",
    "###**The Scheme**\n",
    "\n",
    "* **http**://www.gutenberg.org/files/76/76-0.txt\n",
    "The scheme identifies what communication protocol (HTTP or HTTPS) will be used to access the resource. It is usually HTTP or HTTPS, but can also be something like FTP (File Transfer Protocol -- an old protocol for getting files) as well.\n",
    "\n",
    "###**The Host:Port**\n",
    "The next item is the hostname followed by a port number. If the port number is not specified, the default port is used. Hostnames can be specified via **DNS** names (Domain Name Service) or IP addresses:\n",
    "\n",
    "* http://**www.gutenberg.org**/files/76/76-0.txt\n",
    "* http://**www.gutenberg.org:80**/files/76/76-0.txt\n",
    "* http://**173.194.219.113:80**\n",
    "\n",
    "Typically, we use DNS names for identifying the server.\n",
    "\n",
    "###**The Path**\n",
    "The path identifies the specific resource the client (e.g. the web browser) wants to access on the server:\n",
    "\n",
    "* http://www.gutenberg.org **/files/76/76-0.txt**\n",
    "\n",
    "In this case the path is a specific file, but a resource could be a script (like **php** -- another coding language) or a program that gets run/executed on the server and whose output is the response (e.g. an SQL or database query).\n",
    "\n",
    "###**The Query String**\n",
    "The query string is optional but it allows you to pass additional information to the web server to access different aspects of the resource. For example, the following URL contains the query parameters:\n",
    "\n",
    "* https://en.wikipedia.org/w/api.php? **action=parse&format=json&page=Steve+Jobs&prop=text**\n",
    "\n",
    "The parameters are action, format, page, prop. In this case we are retrieving data from a web service (the output isn't meant for our visual consumption). The query field starts with a ? and each key/value pair is separated with the & symbol.\n",
    "\n",
    "###**URL encoding**\n",
    "You may have noticed that the URL used to request a resource cannot contain a space.\n",
    "There are other characters that are also not allowed as well. You can see the original [specification](https://datatracker.ietf.org/doc/html/rfc3986#section-2). The Request for Comments (RFC) document(s) have been used by the Internet community to define new standards and share technical information.\n",
    "\n",
    "For query values that have special characters or spaces, you will need to encode them. URL encoding involves translating unprintable characters or characters with special meaning within URLs to a representation that is unambiguous and universally accepted by web browsers and servers. In the above query to Wikipedia, notice that for the page parameter, the space is replaced with a + character. You can also use the %20 character(s) to encode the space:\n",
    "\n",
    "* https://www.google.com/search?as_q=apollo%2013\n",
    "\n",
    "Almost all browsers will encode the URL for you when you type it in the address bar of the browser; however, the Python libraries **will not**. You will have to encode them yourself or with the provided functions."
   ]
  },
  {
   "cell_type": "markdown",
   "metadata": {
    "id": "VPna7H5KSRmd"
   },
   "source": [
    "###**Header Fields**\n",
    "You can set and read different aspects of the HTTP request and response that define the details of the communication between the client and the server. HTTP headers define the operating parameters for the process of data transfer from source to destination.\n",
    "\n",
    "They can also provide information *about* the source and destination, determine the data transmission mode and encoding type. Headers also specify information about the content, its type and size, and can be used to restrict the amount and variety of data allowed at both ends of the communication. To ensure security, values in the header can specify the time for which data will be valid, mandate that each side of the communication proves their legitimacy and identity, keep unwanted readers from reading, and ensure data integrity with the help of hash values.\n",
    "\n",
    "Headers can also provide information about the client, server, and the application handling the HTTP communication environment. Things like **cookies** (information saved on the client), **cache control** (using 'old' information), **authorization** (who is allowed), etc are normally handled by setting the correct header fields in a request. Although we won't be setting or reading the headers, you should know that capability exists."
   ]
  },
  {
   "cell_type": "markdown",
   "metadata": {
    "id": "vAmslCd5SRmw"
   },
   "source": [
    "###**Status Types**\n",
    "When you make a request to a web server (or web service), not only do you get a response, but you also get **metadata** (data about the data) regarding the response. The most important is that of the **status code**. A status code is a numeric value the server sends to the client (you may have seen a 404 status code before -- which means the resource requested does not exist).\n",
    "\n",
    "A status code of 200, means the request was completed without any errors. When the status code is not OK (i.e. not 200), you should at least log the error and determine how to handle the response. We have all seen 404 responses before (resource not found) when a resource has been moved or removed from a server."
   ]
  },
  {
   "cell_type": "markdown",
   "metadata": {
    "id": "gDiPicCYSRnD"
   },
   "source": [
    "###**Python Remote I/O**\n",
    "With all that background, we can start using Python to get access to remote resources. There are two well supported libraries to access remote resources with Python. There are many other libraries as well, but the two shown here come with every Python distribution.\n",
    "\n",
    "###**the urllib module**\n",
    "One of the earliest Python modules for accessing remote content is urllib. It's a module that is available with all Python distributions. If you can't update/change/add Python libraries, this is the most 'raw' way to get a remote resource.\n",
    "\n",
    "```\n",
    "import urllib.request\n",
    "def simple_remote_fetch(url):\n",
    "  rd = urllib.request.urlopen(url)\n",
    "  data = rd.read()\n",
    "  rd.close()\n",
    "  return str(data)\n",
    "```\n",
    "\n",
    "There are a few issues with that function, but for now we will focus on the main components. Much like local I/O file handling, we open, read, and close the resource. We are assuming the data can be converted to a string so we return the converted data (this is an assumption that is not always true).\n",
    "\n",
    "Now we can test it by fetching *Emma* By Jane Austen from Project Gutenberg:"
   ]
  },
  {
   "cell_type": "code",
   "execution_count": null,
   "metadata": {
    "id": "sG3kxra1SRnG"
   },
   "outputs": [],
   "source": [
    "def fetch_demo():\n",
    "    emma = \"https://www.gutenberg.org/files/158/158-0.txt\"\n",
    "    text = simple_remote_fetch(emma)\n",
    "    idx = text.find(r\"Emma Woodhouse,\")\n",
    "    print(text[idx:idx+107])\n"
   ]
  },
  {
   "cell_type": "markdown",
   "metadata": {
    "id": "71v47EEetc4x"
   },
   "source": [
    "* The r in front of the string \"Emma\" tells Python not to change the literal control characters found in the string (the \\r \\n are characters that display a new line). Both of these will be explored further (and explained better) in the lesson on regular expressions.\n",
    "* The 107 constant was chosen so enough of the text could be displayed -- it was chosen only for demonstration purposes."
   ]
  },
  {
   "cell_type": "markdown",
   "metadata": {
    "id": "ZmzanJB6SRnI"
   },
   "source": [
    "###**A Better Version**\n",
    "\n",
    "Take a look at the following code. The function read_remote shows how to open a connection and read the incoming data. It also uses the with statement so that any resources used are released properly -- even under error conditions. In general, when you write local or remote I/O functions, you need to cover all the possible cases where the wrong thing happens.\n",
    "\n",
    "The example also shows how to handle different error conditions. Normally, you would not print an error condition but rather raise an exception with a clear message (unlike some of the messages that come from the testing framework).\n",
    "\n",
    "When you read a remote resource over the Internet, many things can go wrong. The status code also gives some information when the resource requested could not be located. The Python [documentation on http](https://docs.python.org/3/library/http.html) provides a list of possible error conditions. Be sure to test the following code by fetching emma from Project Gutenberg."
   ]
  },
  {
   "cell_type": "code",
   "execution_count": null,
   "metadata": {
    "id": "zVvkd5kxSRnL"
   },
   "outputs": [],
   "source": [
    "import urllib.request\n",
    "def read_remote(url):\n",
    "  try:\n",
    "    with urllib.request.urlopen(url) as response:\n",
    "      #status = response.getcode()\n",
    "      #should check the status == 200 \n",
    "      data = response.read()\n",
    "      output = data.decode('utf-8')\n",
    "      return output\n",
    "  except urllib.error.HTTPError as e:\n",
    "    # Return code error (e.g. 404, 501, ...)\n",
    "    # ...\n",
    "    print('HTTPError: {}'.format(e.code))\n",
    "    return None\n",
    "  except urllib.error.URLError as e:\n",
    "    # Not an HTTP-specific error (e.g. connection refused)\n",
    "    print('URLError: {}'.format(e.reason))\n",
    "    return None"
   ]
  },
  {
   "cell_type": "markdown",
   "metadata": {
    "id": "jActg_iKtv6h"
   },
   "source": [
    "###**Encoding Requests**\n",
    "You can use the urlencode function to ensure your URLs and query parameters are properly encoded -- that is those characters that are not allowed can easily be handled. The example provides an encode function that simply wraps the urllib's function. It allows you to take a set of name/value pairs and properly encode them. Here's a quick example:"
   ]
  },
  {
   "cell_type": "code",
   "execution_count": null,
   "metadata": {
    "id": "13KWLbTtSRnQ"
   },
   "outputs": [],
   "source": [
    "import urllib.parse\n",
    "\n",
    "def encode(dictionary):\n",
    "  return urllib.parse.urlencode(dictionary)\n",
    "\n",
    "map = {'artist': 'Bo Diddley',\n",
    "       'song'  : 'Who Do You Love?'}\n",
    "print(encode(map))"
   ]
  },
  {
   "cell_type": "markdown",
   "metadata": {
    "id": "KpViEqCkt0HZ"
   },
   "source": [
    "In general the full url can be created using the following pattern:\n",
    "```\n",
    "def build_url(base_url, params):\n",
    "  url = base_url + \"?\" + urllib.parse.urlencode(params) \n",
    "  return url\n",
    "```\n",
    "\n",
    "A newer library, urllb2, provides additional functionality over urllib but is not available for older versions of Python. And if you are using a newer version of Python (e.g. 3.x), there are better libraries that build functionality on top of urllib.\n",
    "\n",
    "###**The requests module**\n",
    "One of the more popular ways to request remote resources is with the requests module. The following code implements the same read_remote function but uses the requests module. This example also shows how to check the status code of the response."
   ]
  },
  {
   "cell_type": "code",
   "execution_count": null,
   "metadata": {
    "id": "F9BCr3usSRnS"
   },
   "outputs": [],
   "source": [
    "import requests\n",
    "# see http://docs.python-requests.org/en/master/\n",
    "\n",
    "def read_remote(url):\n",
    "  # assumes the url is already encoded (see urllib.parse.urlencode)\n",
    "  with requests.get(url) as response:\n",
    "    response.encoding = 'utf-8'\n",
    "    return response.text\n",
    "  return None\n",
    "\n",
    "def read_remote_with_params(url, params): \n",
    "  # assumes the url is already encoded (see urllib.parse.urlencode)\n",
    "  response = requests.get(url, params)\n",
    "  if response.status_code == requests.codes.ok: # that is 200\n",
    "    response.encoding = 'utf-8'\n",
    "    return response.text\n",
    "  return None"
   ]
  },
  {
   "cell_type": "markdown",
   "metadata": {
    "id": "6lmN5n0puRND"
   },
   "source": [
    "Be sure to test the new read_remote function.\n",
    "\n",
    "For the most part, we are going to keep the functionality of reading a resource very simple -- it will almost never do more than what we have done in the two examples. Data processing that needs to happen and is specific to remote data (rather than local data) would be one possible exception."
   ]
  },
  {
   "cell_type": "markdown",
   "metadata": {
    "id": "70hP4TuVuTyq"
   },
   "source": [
    "###**Before you go, you should know:**\n",
    "\n",
    "\n",
    "* what a url is\n",
    "\n",
    "\n",
    "* what a query string is\n",
    "\n",
    "\n",
    "* what's a network protocol\n",
    "\n",
    "\n",
    "* what's the difference between https and http\n",
    "\n",
    "\n",
    "* how to download a remote resource using Python"
   ]
  },
  {
   "cell_type": "markdown",
   "metadata": {
    "id": "THd-IWoASRny"
   },
   "source": [
    "#**Lesson Assignment**\n",
    "\n",
    "###**Step 1:**\n",
    "Find the text for Hamlet by William Shakespeare at Project Gutenberg EBook. Since we will be parsing the contents, be sure the url is for the raw text version of the play.\n",
    "\n",
    "* use the most downloaded text version (ebook #1524)\n",
    "* create the function get_hamlet_url which returns the url (a string) for this play."
   ]
  },
  {
   "cell_type": "code",
   "execution_count": 2,
   "metadata": {
    "id": "gSEnsG0xSRn7"
   },
   "outputs": [],
   "source": [
    "# type&run the above example/exercise in this cell\n",
    "import pandas as pd"
   ]
  },
  {
   "cell_type": "code",
   "execution_count": null,
   "metadata": {
    "id": "Jd01E8nYOxWp"
   },
   "outputs": [],
   "source": [
    "https://www.gutenberg.org/files/1524/1524-h/1524-h.htm"
   ]
  },
  {
   "cell_type": "markdown",
   "metadata": {
    "id": "9pFP31P3u0i0"
   },
   "source": [
    "###**Step 2:**\n",
    "Create the function get_remote_text(url) that fetches the remote data using the url passed in. You can decide which library you want to use. You must wrap your entire function with a try/except construct. Return result as a string ONLY if the request status is succeeded (OK, status code: 200), return None in all other cases.\n",
    "\n",
    "**Notes:**\n",
    "\n",
    "* Hamlet is encoded in UTF-8 (unicode). We will learn more about that soon, but for now if you decide to use the urllib.request library you need to decode the data using the following:\n",
    "```\n",
    "data   = rd.read()\n",
    "output = data.decode('utf-8')\n",
    "```\n",
    "\n",
    "If you use the requests library, it does this automatically for you in most cases. Adding response.encoding = 'utf-8' does the same thing."
   ]
  },
  {
   "cell_type": "code",
   "execution_count": null,
   "metadata": {
    "id": "Flf94My1SRn8"
   },
   "outputs": [],
   "source": [
    "# type&run the above example/exercise in this cell"
   ]
  },
  {
   "cell_type": "markdown",
   "metadata": {
    "id": "Msq7xrFVvH1E"
   },
   "source": [
    "###**Step 3:**\n",
    "Create a function named extract_passage that has a single parameter (the text from step 2) and extracts the famous passage from Hamlet (i.e. to be or not to be) using the following restrictions:\n",
    "\n",
    "* You cannot use any hardcoded numbers (e.g. 1526). You should use the power of methods on the string type to find these indices (revisit the lesson on Strings or the Python documentation)\n",
    "* Use Python's slice notation (e.g. return passage[start:end] )\n",
    "* Extract the entire passage. The passage starts with **To** and ends with a period . (just before OPHELIA speaks).\n",
    "* You should remove any leading or trailing white space\n",
    "* If you can't seem to fetch the contents of Hamlet, first try getting it via the browser. Make sure to test your code locally before running the tests as well."
   ]
  },
  {
   "cell_type": "code",
   "execution_count": null,
   "metadata": {
    "id": "KDWWRbdYSRoB"
   },
   "outputs": [],
   "source": [
    "# type&run the above example/exercise in this cell"
   ]
  },
  {
   "cell_type": "markdown",
   "metadata": {
    "id": "iQaR1ombSRoC"
   },
   "source": [
    "##**Submission**\n",
    "\n",
    "After implementing all the functions and testing them please download the notebook as \"solution.py\" and submit to gradescope under \"Week11:UPY:remote_IO\" assignment tab and Moodle.\n",
    "\n",
    "**NOTES**\n",
    "\n",
    "* Be sure to use the function names and parameter names as given. \n",
    "* DONOT use your own function or parameter names. \n",
    "* Your file MUST be named \"solution.py\". \n",
    "* Comment out any lines of code and/or function calls to those functions that produce errors. If your solution has errors, then you have to work on them but if there were any errors in the examples/exercies then comment them before submitting to Gradescope.\n",
    "* Grading cannot be performed if any of these are violated."
   ]
  },
  {
   "cell_type": "markdown",
   "metadata": {
    "id": "QzPLfydovY2_"
   },
   "source": [
    " \n",
    "**References and Additional Readings**\n",
    "* https://docs.python.org/3.6/library/http.html#http-status-codes"
   ]
  }
 ],
 "metadata": {
  "colab": {
   "collapsed_sections": [],
   "name": "Copy of Remote I/O_Week11_INFO407",
   "provenance": []
  },
  "kernelspec": {
   "display_name": "Python 3 (ipykernel)",
   "language": "python",
   "name": "python3"
  },
  "language": "python",
  "language_info": {
   "codemirror_mode": {
    "name": "ipython",
    "version": 3
   },
   "file_extension": ".py",
   "mimetype": "text/x-python",
   "name": "python",
   "nbconvert_exporter": "python",
   "pygments_lexer": "ipython3",
   "version": "3.8.5"
  },
  "story": {
   "auth_token": "rV0Td2IVkmCHyCum-e3bMMqmQXhMfhA32pBjLG-XYeQ=",
   "authorship_tag": "AB",
   "chapters": 24,
   "name": "Remote I/O",
   "parser": {},
   "root": "https://github.com/habermanUIUC/CodeStories-lessons/blob/main/lessons/p4ds/upy/remote_io",
   "tag": "p4ds:upy:remote_io"
  }
 },
 "nbformat": 4,
 "nbformat_minor": 1
}
