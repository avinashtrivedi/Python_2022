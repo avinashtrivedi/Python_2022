{
 "cells": [
  {
   "cell_type": "code",
   "execution_count": 1,
   "id": "9a904168",
   "metadata": {},
   "outputs": [],
   "source": [
    "import pandas as pd\n",
    "import numpy as np\n",
    "import plotly as py\n",
    "import plotly.express as px\n",
    "import plotly.io as pio\n",
    "pio.renderers.default='notebook'"
   ]
  },
  {
   "cell_type": "code",
   "execution_count": 8,
   "id": "c63ea950",
   "metadata": {},
   "outputs": [],
   "source": [
    "# pip install plotly==5.9.0"
   ]
  },
  {
   "cell_type": "code",
   "execution_count": 7,
   "id": "47a4d7e3",
   "metadata": {},
   "outputs": [
    {
     "data": {
      "text/plain": [
       "'5.9.0'"
      ]
     },
     "execution_count": 7,
     "metadata": {},
     "output_type": "execute_result"
    }
   ],
   "source": [
    "py.__version__"
   ]
  },
  {
   "cell_type": "code",
   "execution_count": 3,
   "id": "f854afc5",
   "metadata": {},
   "outputs": [
    {
     "name": "stdout",
     "output_type": "stream",
     "text": [
      "          z  tiles           x          y          area\n",
      "0        15    139  -43.615723  -4.193030  2.274507e+08\n",
      "1        15     35  178.747559 -16.888660  2.274507e+08\n",
      "2        15     56  -57.502441 -25.224820  2.274507e+08\n",
      "3        15     81  -39.418945 -12.854649  2.274507e+08\n",
      "4        15    347  -44.384766 -10.876465  2.274507e+08\n",
      "...      ..    ...         ...        ...           ...\n",
      "3540646  15     44  101.206055  -1.252342  2.274507e+08\n",
      "3540647  15     44  100.700684  -1.384143  2.274507e+08\n",
      "3540648  15     44  100.239258  -1.428075  2.274507e+08\n",
      "3540649  15     44  100.415039  -1.472006  2.274507e+08\n",
      "3540650  15     44   38.518066   8.993600  2.274507e+08\n",
      "\n",
      "[3540651 rows x 5 columns]\n"
     ]
    }
   ],
   "source": [
    "data=pd.read_csv(r'D:\\OneDrive - NITT\\Custom_Download\\nicfi_stream_basemap_2022.csv',encoding='utf-8')\n",
    "print(data)"
   ]
  },
  {
   "cell_type": "code",
   "execution_count": 4,
   "id": "f798f2f9",
   "metadata": {},
   "outputs": [],
   "source": [
    "df = data[:10]"
   ]
  },
  {
   "cell_type": "code",
   "execution_count": 5,
   "id": "40c37c29",
   "metadata": {},
   "outputs": [],
   "source": [
    "fig = px.density_mapbox(data, lat='x', lon='y', z='tiles',\n",
    "                        mapbox_style=\"stamen-terrain\",zoom=0)\n",
    "\n"
   ]
  },
  {
   "cell_type": "code",
   "execution_count": 6,
   "id": "9c590c67",
   "metadata": {},
   "outputs": [],
   "source": [
    "fig.write_html('aa.html')"
   ]
  },
  {
   "cell_type": "code",
   "execution_count": null,
   "id": "3c0adb28",
   "metadata": {},
   "outputs": [],
   "source": [
    "\n",
    "fig.write_html(\"file.html\")"
   ]
  },
  {
   "cell_type": "code",
   "execution_count": null,
   "id": "98c8889a",
   "metadata": {},
   "outputs": [],
   "source": []
  },
  {
   "cell_type": "code",
   "execution_count": null,
   "id": "08efb500",
   "metadata": {},
   "outputs": [],
   "source": [
    "fig.to_image(format=\"png\", engine=\"kaleido\")"
   ]
  },
  {
   "cell_type": "code",
   "execution_count": null,
   "id": "ff653485",
   "metadata": {},
   "outputs": [],
   "source": [
    "fig.write_html(r'C:\\Users\\pooja.pandey\\Desktop\\nicfi.html')"
   ]
  },
  {
   "cell_type": "code",
   "execution_count": null,
   "id": "fcb1626c",
   "metadata": {},
   "outputs": [],
   "source": []
  }
 ],
 "metadata": {
  "kernelspec": {
   "display_name": "Python 3 (ipykernel)",
   "language": "python",
   "name": "python3"
  },
  "language_info": {
   "codemirror_mode": {
    "name": "ipython",
    "version": 3
   },
   "file_extension": ".py",
   "mimetype": "text/x-python",
   "name": "python",
   "nbconvert_exporter": "python",
   "pygments_lexer": "ipython3",
   "version": "3.9.15"
  }
 },
 "nbformat": 4,
 "nbformat_minor": 5
}
