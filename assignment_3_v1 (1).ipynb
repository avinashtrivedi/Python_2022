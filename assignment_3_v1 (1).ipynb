{
  "cells": [
    {
      "cell_type": "markdown",
      "id": "5f457df4-a840-4838-9b30-fc5feb2c09b5",
      "metadata": {
        "id": "5f457df4-a840-4838-9b30-fc5feb2c09b5"
      },
      "source": [
        "# Assignment 3: Neural networks in natural language processing\n",
        "\n",
        "### Due Date: Nov 21\n",
        "\n",
        "### Grade (100 pts, 10%)\n",
        "\n",
        "*Note: This assignment covers material from the recordings, notes, demos, and suggested readings from Lectures 8,9,11*\n",
        "\n",
        "---"
      ]
    },
    {
      "cell_type": "markdown",
      "id": "5040c21a-f813-4ce5-b5d7-bbdd59e37dcc",
      "metadata": {
        "id": "5040c21a-f813-4ce5-b5d7-bbdd59e37dcc"
      },
      "source": [
        "## Questions"
      ]
    },
    {
      "cell_type": "markdown",
      "id": "1369615c-54d7-4a72-bfe2-6fd84cef9582",
      "metadata": {
        "id": "1369615c-54d7-4a72-bfe2-6fd84cef9582"
      },
      "source": [
        "### 1. Dropout (35 pts)\n",
        "\n",
        "Dropout is a regularization technique that randomly sets units in each activation layer, $a \\in \\mathbb{R}^{D}$, to zero and then multiplies the resultant vector elementwise by a constant $\\gamma$ according to:\n",
        "\n",
        "$$a' \\leftarrow  \\gamma m \\odot a$$\n",
        "\n",
        "where $\\odot$ represents the element-wise product operator and $m \\in \\{0, 1\\}^D$ is a mask with entries drawn from a Bernoulli distribution: \n",
        "\n",
        "$$m_i \\sim \\begin{cases} 0 &with \\quad P=p_{do} \\\\ 1 &with \\quad P=1 - p_{do} \\end{cases}$$\n",
        "\n",
        "Because dropout get's performed at training time and not during inference, blindly applying dropout will lead to a data distribution shift at inference. This is evident in how the hidden layer get's computed:\n",
        "\n",
        "\n",
        "$$ \n",
        "\\begin{aligned}\n",
        "z_{i}^{(l+1)} &= W_{i}^{(l+1)} \\cdot a^{'(l)} \\quad (training) \\\\\n",
        "z_{i}^{(l+1)} &= W_{i}^{(l+1)} \\cdot a^{(l)} \\quad (inference)\n",
        "\\end{aligned}\n",
        "$$\n",
        "\n",
        "where $W_{i}^{(l+1)} \\in \\mathbb{R}^{D}$. Because $z_{i}^{(l+1)}$ is computed as a weighted sum over the activations from the previous layer, given an identical input, the node values will shift in the absense of dropout unless we scale the activation values (almost certainly; the pathological exception is the case in which the values in $a^{(l)}$ come from a zero mean, zero skew distribution, which is unlikely). To ensure this doesn't happen, derive a training-time scaling constant, ${\\gamma}$, that will make each value $z_{i}^{(l+1)}$ invariant (in expectation) to the dropout operation.\n",
        "\n",
        "*Hint: You want to find the $\\gamma$ that makes the following true (in expectation). Some search terms that might come in handy: expectated value of a Bernoulli RV, the weak law of large numbers*.\n",
        "\n",
        "$$\n",
        "\\sum_{j=0}^{D-1} W_{i,j}^{(l+1)} a_{j}^{(l)}  = \\gamma \\sum_{j=0}^{D-1} W_{i,j}^{(l+1)} a_{j}^{'(l)}\n",
        "$$"
      ]
    },
    {
      "cell_type": "code",
      "execution_count": null,
      "id": "84a316f7",
      "metadata": {
        "id": "84a316f7"
      },
      "outputs": [],
      "source": [
        "# Your answer goes here ..."
      ]
    },
    {
      "cell_type": "markdown",
      "id": "f2785529-1d06-4474-8aec-baef38545787",
      "metadata": {
        "id": "f2785529-1d06-4474-8aec-baef38545787"
      },
      "source": [
        "### 2. Convolutions (30 pts)\n",
        "\n",
        "Consider a sequence of $T$ token embeddings, $Z \\in \\mathbb{R}^{T \\times D}$, for which $D=3$:"
      ]
    },
    {
      "cell_type": "code",
      "execution_count": 164,
      "id": "347fcde5-c66a-4b4d-a7de-8491b5fcc513",
      "metadata": {
        "id": "347fcde5-c66a-4b4d-a7de-8491b5fcc513"
      },
      "outputs": [],
      "source": [
        "import numpy as np\n",
        "\n",
        "Z = np.array([\n",
        "    [1.3,   0.4, -0.2],\n",
        "    [-3.1,  1.1,  2.1],\n",
        "    [0.9,   2.8, -1.5],\n",
        "    [1.3,   2.4,  0.1],\n",
        "    [1.0,   1.0,  0.5],\n",
        "    [3.0,  -1.4, -0.2],\n",
        "    [-0.7,  1.8,  1.3]\n",
        "])"
      ]
    },
    {
      "cell_type": "markdown",
      "id": "96d3cbe3-5b3a-44aa-886f-9f56e126e04d",
      "metadata": {
        "id": "96d3cbe3-5b3a-44aa-886f-9f56e126e04d"
      },
      "source": [
        "and a set of convolutional filters, $W=\\{ w^{(1)}, w^{(2)} \\}$, and corresponding filter widths $S=\\{ s^{(1)}, s^{(2)}  \\}$:"
      ]
    },
    {
      "cell_type": "code",
      "execution_count": 165,
      "id": "437d0a4d-57ea-42c9-97d1-60055b3fbfa8",
      "metadata": {
        "id": "437d0a4d-57ea-42c9-97d1-60055b3fbfa8"
      },
      "outputs": [],
      "source": [
        "w1 = np.array([\n",
        "    [1, 1, 1],\n",
        "    [1, 1, 1]\n",
        "])\n",
        "\n",
        "w2 = np.array([\n",
        "    [2, 2, 2],\n",
        "    [2, 2, 2],\n",
        "    [2, 2, 2]\n",
        "])\n",
        "\n",
        "W = [w1, w2]\n",
        "\n",
        "S = [2, 3]"
      ]
    },
    {
      "cell_type": "markdown",
      "id": "de6c6909-6c25-4dde-8a87-fa79b27dbf3e",
      "metadata": {
        "id": "de6c6909-6c25-4dde-8a87-fa79b27dbf3e"
      },
      "source": [
        "In Lecture 08 we discussed a set of operations that maps $Z \\in \\mathbb{R}^{T \\times D}$ onto $Z' \\in \\mathbb{R}^{N_F D}$ (in this problem $N_F = 2$). This involved three steps:\n",
        "\n",
        "1. **Convolution**: The convolutional operation produces $N_F$ feature maps, $B^{(n)} \\in \\mathbb{R}^{(T - s^{(n)} + 1) \\times D}$, where $n=\\{1, \\dots, N_F\\}$, according to:\n",
        "\n",
        "$$\n",
        "\\forall_{t \\in \\{ 1, \\dots, T - s^{(n)} + 1 \\} } \\; B^{(n)}_{t,j} = \\sum_{t'=1}^{S^{(n)}} w^{(n)}_{t',j} \\; Z_{t+t'-1, \\ j}\n",
        "$$\n",
        "\n",
        "2. **Max pooling**: The max pooling operation computes the max over the sequence dimension in each feature map, $ B_{maxpool}^{(n)} \\in \\mathbb{R}^D$, according to:\n",
        "\n",
        "$$\n",
        "B_{maxpool, j}^{(n)} = \\underset{1 \\leq t' \\leq T - s^{(n)} + 1 }{\\max} B^{(n)}_{t', j}\n",
        "$$\n",
        "\n",
        "3. **Concatenation**: The resultant set of $N_F$ feature vectors are then concatenated into a single vector $Z'$ according to:\n",
        "\n",
        "$$\n",
        "Z' = \\big[ B_{maxpool}^{(1)}, \\dots, B_{maxpool}^{(n)}, \\dots,  B_{maxpool}^{(N_F)}  \\big] \\in \\mathbb{R}^{D \\cdot N_F}\n",
        "$$\n",
        "\n",
        "In the cell below, perform these three operations to produce $Z' \\in \\mathbb{R}^6$ and print it.\n",
        "\n",
        "*Hint: The max pooling operation computes the maximum over each column in $B^{(n)}$*"
      ]
    },
    {
      "cell_type": "code",
      "source": [
        "def calculate_target_size(img_size: int, kernel_size: int) -> int:\n",
        "    num_pixels = 0\n",
        "    for i in range(img_size):\n",
        "        added = i + kernel_size\n",
        "        if added <= img_size:\n",
        "            num_pixels += 1\n",
        "    return num_pixels"
      ],
      "metadata": {
        "id": "eYC5E9Er1k-t"
      },
      "id": "eYC5E9Er1k-t",
      "execution_count": 166,
      "outputs": []
    },
    {
      "cell_type": "code",
      "source": [
        "def convolve(img,kernel,n):\n",
        "    kernel = kernel[:n,:n]\n",
        "    tgt_size = calculate_target_size(\n",
        "        img_size=img.shape[0],\n",
        "        kernel_size=kernel.shape[0]\n",
        "    )\n",
        "    k = kernel.shape[0]\n",
        "    convolved_img = np.zeros(shape=(tgt_size, tgt_size))\n",
        "    \n",
        "    for i in range(tgt_size):   \n",
        "        for j in range(tgt_size):\n",
        "            mat = img[i:i+k, j:j+k]\n",
        "            try:\n",
        "              convolved_img[i, j] = np.sum(np.multiply(mat, kernel))\n",
        "            except:\n",
        "              pass\n",
        "            \n",
        "    return convolved_img"
      ],
      "metadata": {
        "id": "e6ONYmcXyBWe"
      },
      "id": "e6ONYmcXyBWe",
      "execution_count": 167,
      "outputs": []
    },
    {
      "cell_type": "code",
      "source": [
        "Z1 = convolve(Z,w1,2)\n",
        "Z2 = convolve(Z1,w2,3)\n",
        "Z2.max(axis=0)"
      ],
      "metadata": {
        "colab": {
          "base_uri": "https://localhost:8080/"
        },
        "id": "fC7OutdXwCuY",
        "outputId": "74abd0c3-bc9f-4cc4-d63e-75b7712d39b7"
      },
      "id": "fC7OutdXwCuY",
      "execution_count": 168,
      "outputs": [
        {
          "output_type": "execute_result",
          "data": {
            "text/plain": [
              "array([53.4, 27.8,  8. ,  0. ])"
            ]
          },
          "metadata": {},
          "execution_count": 168
        }
      ]
    },
    {
      "cell_type": "markdown",
      "id": "4b4b2167",
      "metadata": {
        "id": "4b4b2167"
      },
      "source": [
        "### 3. Attention (35 pts)\n",
        "\n",
        "In this problem, you will take a pretrained language model's query, key, and value weight matrices to compute a simple self-attention layer, and then produce a plot of the resultant attention weights, for a single input sequence. \n",
        "\n",
        "The input array $X$ is an $T \\times D_x$ matrix where $T$ is the number of tokens in your input sequence, and $D_x$ is the dimension of the token embedding. The query mapping $W_q$ is shape $D_x \\times D_q$, where $D_q$ is the query dimension. The key mapping $W_k$ is also shape $D_x \\times D_q$, and the value mapping $W_v$ is shape $D_x \\times D_v$, where $D_v$ is the value dimension. These mappings act on the input aray $X$ to produce the query, key, and value matrices (with associated biases):\n",
        "\n",
        "$$ Q = XW_q + b_q, \\quad K = XW_k + b_k, \\quad \\text{and} \\quad V = XW_v + b_v.$$\n",
        "\n",
        "With the above computations, we compute the alignments as $E = QK^T / sqrt(D_q)$, and from these unnormalized scores, we obtain attention weights $A$ passing through a softmax: $A = \\textrm{softmax}(E)$. Outputs are obtained by computing $Y= A V.$\n",
        "\n",
        "\n",
        "(A) For the sequence `The quick brown fox jumps over the lazy dog`, compute the self-attention weights using the operations described above for the DistilBERT model (https://huggingface.co/distilbert-base-uncased?text=Paris+is+the+%5BMASK%5D+of+France). You will have to tokenize the inputs in the same way the model was trained. \n",
        "\n",
        "\n",
        "(B) For each token in the sequence from (A), visualize its attention weights.\n"
      ]
    },
    {
      "cell_type": "code",
      "source": [
        "!pip install -q transformers"
      ],
      "metadata": {
        "colab": {
          "base_uri": "https://localhost:8080/"
        },
        "id": "Ku3PkaYoy8Jv",
        "outputId": "87e0c72a-1052-4868-d103-df04c8924c18"
      },
      "id": "Ku3PkaYoy8Jv",
      "execution_count": 1,
      "outputs": [
        {
          "output_type": "stream",
          "name": "stdout",
          "text": [
            "\u001b[K     |████████████████████████████████| 5.5 MB 30.5 MB/s \n",
            "\u001b[K     |████████████████████████████████| 182 kB 61.3 MB/s \n",
            "\u001b[K     |████████████████████████████████| 7.6 MB 60.1 MB/s \n",
            "\u001b[?25h"
          ]
        }
      ]
    },
    {
      "cell_type": "code",
      "execution_count": 2,
      "id": "46cc246e",
      "metadata": {
        "colab": {
          "base_uri": "https://localhost:8080/",
          "height": 217,
          "referenced_widgets": [
            "f4ce5c08025345bab29032fd4810413a",
            "da2edfbc7a3a431caf4c89e8565eb6ab",
            "202ac895b50c43e6a5bbc4d4863394d0",
            "07bd1684e74a49948044d9f2f00ebc0a",
            "613467d0fb2940a48c594ce86cbb5d7b",
            "2839a57075204a85a5a35833331a19a6",
            "740cda051d134f378b4418a678b83d2a",
            "26e31b2d0d6642309328c8efaa952c19",
            "a25bb1c7737d4d009eb46b955eada629",
            "c278bfa78f3c4185bf02ca69b8e23ee6",
            "4aacb996812346f4836681985a112b3c",
            "816b2844ae1d437c80bf3426b6c9401b",
            "768a282ba98e40858228a018e72a0884",
            "f4bd397288b749028a825092258443fc",
            "e4d7895f9f234064b6ccb0bb44a35498",
            "9e28aab915f741f1a68ee6c9311baa6d",
            "0dec0688eca8480fad89ad7765dd2e9d",
            "e312afeb5b6649c4926f900192e1b9ca",
            "341208fb3b7441a0b1f0a0a4dcdbcfd1",
            "defbdf5043164eecb9727481544a1de7",
            "cc4242625ee94ed6934be9b73bbdcd51",
            "2ec282b8446c400e9aae0f204cfed72d",
            "6effc0d0ee79490b9ce16f0767f00960",
            "e7d7549f8b364302ba8f53083f5e94c9",
            "ad25fcc47b244dc5a4a1870ad3cdd3a4",
            "175b5facd99b444881cb18ffd77a3dab",
            "87056ec8b4364027a7cb97b8bbc3a73c",
            "ca23261fab6f422ab743b81cf960141c",
            "bfa05c28583d4972af40b5bc33e88810",
            "72b0498b41294d7f976666904a1584e3",
            "4cdab5600e0245b7bb07e185727dc55e",
            "99c19de85b574465b96e8063e3778436",
            "75bab6eaca0c47be929f50e3813609e9",
            "869eea6f917a410487b66cc9265767f4",
            "432d5d9214724023ab72869266775bc1",
            "a4d1acb045db48c3872e20548426a471",
            "8ed5ed6e992c45b2ac413eba72e5e92d",
            "b40373cd04704320b7fc8afec9f6de99",
            "779087c802dc49c1a6bd7073170fa24c",
            "6d2609279d634d6da75abb476d571db2",
            "03850f1798d449cca917b7ad7129c027",
            "e0b430f6ba2348d6bde5c612b28ea24c",
            "14f4ea794c0d40cf87423adb7d3666fa",
            "6cc27349ec1e47cc922f00455bd869cf"
          ]
        },
        "id": "46cc246e",
        "outputId": "ea0abfa6-3d2a-4ce3-b606-9130d091e1a2"
      },
      "outputs": [
        {
          "output_type": "display_data",
          "data": {
            "text/plain": [
              "Downloading:   0%|          | 0.00/232k [00:00<?, ?B/s]"
            ],
            "application/vnd.jupyter.widget-view+json": {
              "version_major": 2,
              "version_minor": 0,
              "model_id": "f4ce5c08025345bab29032fd4810413a"
            }
          },
          "metadata": {}
        },
        {
          "output_type": "display_data",
          "data": {
            "text/plain": [
              "Downloading:   0%|          | 0.00/28.0 [00:00<?, ?B/s]"
            ],
            "application/vnd.jupyter.widget-view+json": {
              "version_major": 2,
              "version_minor": 0,
              "model_id": "816b2844ae1d437c80bf3426b6c9401b"
            }
          },
          "metadata": {}
        },
        {
          "output_type": "display_data",
          "data": {
            "text/plain": [
              "Downloading:   0%|          | 0.00/483 [00:00<?, ?B/s]"
            ],
            "application/vnd.jupyter.widget-view+json": {
              "version_major": 2,
              "version_minor": 0,
              "model_id": "6effc0d0ee79490b9ce16f0767f00960"
            }
          },
          "metadata": {}
        },
        {
          "output_type": "display_data",
          "data": {
            "text/plain": [
              "Downloading:   0%|          | 0.00/268M [00:00<?, ?B/s]"
            ],
            "application/vnd.jupyter.widget-view+json": {
              "version_major": 2,
              "version_minor": 0,
              "model_id": "869eea6f917a410487b66cc9265767f4"
            }
          },
          "metadata": {}
        },
        {
          "output_type": "stream",
          "name": "stderr",
          "text": [
            "Some weights of the model checkpoint at distilbert-base-uncased were not used when initializing DistilBertModel: ['vocab_layer_norm.bias', 'vocab_transform.weight', 'vocab_projector.bias', 'vocab_transform.bias', 'vocab_projector.weight', 'vocab_layer_norm.weight']\n",
            "- This IS expected if you are initializing DistilBertModel from the checkpoint of a model trained on another task or with another architecture (e.g. initializing a BertForSequenceClassification model from a BertForPreTraining model).\n",
            "- This IS NOT expected if you are initializing DistilBertModel from the checkpoint of a model that you expect to be exactly identical (initializing a BertForSequenceClassification model from a BertForSequenceClassification model).\n"
          ]
        }
      ],
      "source": [
        "# Starter code for (A)\n",
        "\n",
        "from transformers import DistilBertTokenizer, DistilBertModel\n",
        "\n",
        "tokenizer = DistilBertTokenizer.from_pretrained('distilbert-base-uncased')\n",
        "model = DistilBertModel.from_pretrained(\"distilbert-base-uncased\")"
      ]
    },
    {
      "cell_type": "code",
      "execution_count": 23,
      "id": "824b9830",
      "metadata": {
        "id": "824b9830"
      },
      "outputs": [],
      "source": [
        "# loop through generator to grab weights and biases\n",
        "for name, param in model.named_parameters():\n",
        "    # print(name)            \n",
        "    if name == \"transformer.layer.5.attention.q_lin.weight\":\n",
        "        W_q = param\n",
        "    if name == \"transformer.layer.5.attention.q_lin.bias\":\n",
        "        b_q = param\n",
        "    if name == \"transformer.layer.5.attention.k_lin.weight\":\n",
        "        W_k = param\n",
        "    if name == \"transformer.layer.5.attention.k_lin.bias\":\n",
        "        b_k = param\n",
        "    if name == \"transformer.layer.5.attention.v_lin.weight\":\n",
        "        W_v = param\n",
        "    if name == \"transformer.layer.5.attention.v_lin.bias\":\n",
        "        b_v = param"
      ]
    },
    {
      "cell_type": "code",
      "execution_count": 98,
      "id": "72f6a9ac",
      "metadata": {
        "colab": {
          "base_uri": "https://localhost:8080/"
        },
        "id": "72f6a9ac",
        "outputId": "07b54d96-71d2-40dc-f8fa-99641532de86"
      },
      "outputs": [
        {
          "output_type": "execute_result",
          "data": {
            "text/plain": [
              "tensor([[0.1977, 0.0851, 0.0875, 0.0749, 0.0690, 0.1154, 0.0896, 0.0795, 0.0796,\n",
              "         0.0933, 0.0284],\n",
              "        [0.0675, 0.1901, 0.0907, 0.0726, 0.0674, 0.0975, 0.1067, 0.1286, 0.0672,\n",
              "         0.0777, 0.0340],\n",
              "        [0.0859, 0.1128, 0.1092, 0.0730, 0.0769, 0.1001, 0.1040, 0.0929, 0.0827,\n",
              "         0.0944, 0.0682],\n",
              "        [0.0646, 0.1114, 0.0829, 0.0928, 0.0719, 0.1184, 0.1153, 0.0990, 0.0618,\n",
              "         0.0841, 0.0978],\n",
              "        [0.0877, 0.1185, 0.0916, 0.0772, 0.0964, 0.1041, 0.0950, 0.0980, 0.0645,\n",
              "         0.0932, 0.0738],\n",
              "        [0.1069, 0.1023, 0.0857, 0.0696, 0.0745, 0.1519, 0.1142, 0.0704, 0.0684,\n",
              "         0.0925, 0.0635],\n",
              "        [0.1432, 0.1051, 0.0686, 0.0600, 0.0596, 0.0943, 0.1606, 0.0981, 0.0678,\n",
              "         0.0819, 0.0608],\n",
              "        [0.0713, 0.1566, 0.0887, 0.0663, 0.0581, 0.0900, 0.1419, 0.1514, 0.0616,\n",
              "         0.0729, 0.0410],\n",
              "        [0.0811, 0.0963, 0.0917, 0.0667, 0.0852, 0.1111, 0.1348, 0.0865, 0.0955,\n",
              "         0.0993, 0.0519],\n",
              "        [0.1141, 0.1037, 0.0823, 0.0821, 0.0929, 0.1199, 0.0990, 0.0746, 0.0651,\n",
              "         0.1276, 0.0387],\n",
              "        [0.0148, 0.0420, 0.0260, 0.0294, 0.0187, 0.0260, 0.0285, 0.0451, 0.0110,\n",
              "         0.0243, 0.7343]], grad_fn=<SoftmaxBackward0>)"
            ]
          },
          "metadata": {},
          "execution_count": 98
        }
      ],
      "source": [
        "# Code for (A) here\n",
        "import numpy as np\n",
        "import torch\n",
        "\n",
        "text = \"The quick brown fox jumps over the lazy dog\"\n",
        "encoded_input = tokenizer(text,return_tensors='pt')\n",
        "output = model(**encoded_input)\n",
        "X = output[0][0]\n",
        "Q = X.matmul(W_q)+ b_q\n",
        "K = X.matmul(W_k)+ b_k\n",
        "V = X.matmul(W_v)+ b_v\n",
        "\n",
        "Dx, Dq = W_q.shape\n",
        "\n",
        "E = Q.matmul(K.T)/np.sqrt(Dq)\n",
        "\n",
        "A = torch.softmax(E,dim=1)\n",
        "A"
      ]
    },
    {
      "cell_type": "code",
      "execution_count": 101,
      "id": "8d6c1e01",
      "metadata": {
        "colab": {
          "base_uri": "https://localhost:8080/",
          "height": 286
        },
        "id": "8d6c1e01",
        "outputId": "51b2a670-cb15-467f-f612-a4c2c6803291"
      },
      "outputs": [
        {
          "output_type": "display_data",
          "data": {
            "text/plain": [
              "<Figure size 432x288 with 2 Axes>"
            ],
            "image/png": "[encoded data removed]"
          },
          "metadata": {
            "needs_background": "light"
          }
        }
      ],
      "source": [
        "# Code for (B) here\n",
        "import seaborn as sns\n",
        "import pandas as pd\n",
        "import matplotlib.pyplot as plt\n",
        "A = pd.DataFrame(m.detach().numpy(),\n",
        "                 columns=tokenizer.convert_ids_to_tokens(encoded_input['input_ids'][0]),\n",
        "                 index=tokenizer.convert_ids_to_tokens(encoded_input['input_ids'][0]))\n",
        "sns.heatmap(A)\n",
        "plt.show()"
      ]
    },
    {
      "cell_type": "code",
      "source": [],
      "metadata": {
        "id": "z5GLo8_-lZb-"
      },
      "id": "z5GLo8_-lZb-",
      "execution_count": 99,
      "outputs": []
    }
  ],
  "metadata": {
    "kernelspec": {
      "display_name": "Python 3 (ipykernel)",
      "language": "python",
      "name": "python3"
    },
    "language_info": {
      "codemirror_mode": {
        "name": "ipython",
        "version": 3
      },
      "file_extension": ".py",
      "mimetype": "text/x-python",
      "name": "python",
      "nbconvert_exporter": "python",
      "pygments_lexer": "ipython3",
      "version": "3.9.12"
    },
    "vscode": {
      "interpreter": {
        "hash": "aee8b7b246df8f9039afb4144a1f6fd8d2ca17a180786b69acc140d282b71a49"
      }
    },
    "colab": {
      "provenance": []
    },
    "accelerator": "GPU",
    "gpuClass": "standard",
    "widgets": {
      "application/vnd.jupyter.widget-state+json": {
        "f4ce5c08025345bab29032fd4810413a": {
          "model_module": "@jupyter-widgets/controls",
          "model_name": "HBoxModel",
          "model_module_version": "1.5.0",
          "state": {
            "_dom_classes": [],
            "_model_module": "@jupyter-widgets/controls",
            "_model_module_version": "1.5.0",
            "_model_name": "HBoxModel",
            "_view_count": null,
            "_view_module": "@jupyter-widgets/controls",
            "_view_module_version": "1.5.0",
            "_view_name": "HBoxView",
            "box_style": "",
            "children": [
              "IPY_MODEL_da2edfbc7a3a431caf4c89e8565eb6ab",
              "IPY_MODEL_202ac895b50c43e6a5bbc4d4863394d0",
              "IPY_MODEL_07bd1684e74a49948044d9f2f00ebc0a"
            ],
            "layout": "IPY_MODEL_613467d0fb2940a48c594ce86cbb5d7b"
          }
        },
        "da2edfbc7a3a431caf4c89e8565eb6ab": {
          "model_module": "@jupyter-widgets/controls",
          "model_name": "HTMLModel",
          "model_module_version": "1.5.0",
          "state": {
            "_dom_classes": [],
            "_model_module": "@jupyter-widgets/controls",
            "_model_module_version": "1.5.0",
            "_model_name": "HTMLModel",
            "_view_count": null,
            "_view_module": "@jupyter-widgets/controls",
            "_view_module_version": "1.5.0",
            "_view_name": "HTMLView",
            "description": "",
            "description_tooltip": null,
            "layout": "IPY_MODEL_2839a57075204a85a5a35833331a19a6",
            "placeholder": "​",
            "style": "IPY_MODEL_740cda051d134f378b4418a678b83d2a",
            "value": "Downloading: 100%"
          }
        },
        "202ac895b50c43e6a5bbc4d4863394d0": {
          "model_module": "@jupyter-widgets/controls",
          "model_name": "FloatProgressModel",
          "model_module_version": "1.5.0",
          "state": {
            "_dom_classes": [],
            "_model_module": "@jupyter-widgets/controls",
            "_model_module_version": "1.5.0",
            "_model_name": "FloatProgressModel",
            "_view_count": null,
            "_view_module": "@jupyter-widgets/controls",
            "_view_module_version": "1.5.0",
            "_view_name": "ProgressView",
            "bar_style": "success",
            "description": "",
            "description_tooltip": null,
            "layout": "IPY_MODEL_26e31b2d0d6642309328c8efaa952c19",
            "max": 231508,
            "min": 0,
            "orientation": "horizontal",
            "style": "IPY_MODEL_a25bb1c7737d4d009eb46b955eada629",
            "value": 231508
          }
        },
        "07bd1684e74a49948044d9f2f00ebc0a": {
          "model_module": "@jupyter-widgets/controls",
          "model_name": "HTMLModel",
          "model_module_version": "1.5.0",
          "state": {
            "_dom_classes": [],
            "_model_module": "@jupyter-widgets/controls",
            "_model_module_version": "1.5.0",
            "_model_name": "HTMLModel",
            "_view_count": null,
            "_view_module": "@jupyter-widgets/controls",
            "_view_module_version": "1.5.0",
            "_view_name": "HTMLView",
            "description": "",
            "description_tooltip": null,
            "layout": "IPY_MODEL_c278bfa78f3c4185bf02ca69b8e23ee6",
            "placeholder": "​",
            "style": "IPY_MODEL_4aacb996812346f4836681985a112b3c",
            "value": " 232k/232k [00:00&lt;00:00, 254kB/s]"
          }
        },
        "613467d0fb2940a48c594ce86cbb5d7b": {
          "model_module": "@jupyter-widgets/base",
          "model_name": "LayoutModel",
          "model_module_version": "1.2.0",
          "state": {
            "_model_module": "@jupyter-widgets/base",
            "_model_module_version": "1.2.0",
            "_model_name": "LayoutModel",
            "_view_count": null,
            "_view_module": "@jupyter-widgets/base",
            "_view_module_version": "1.2.0",
            "_view_name": "LayoutView",
            "align_content": null,
            "align_items": null,
            "align_self": null,
            "border": null,
            "bottom": null,
            "display": null,
            "flex": null,
            "flex_flow": null,
            "grid_area": null,
            "grid_auto_columns": null,
            "grid_auto_flow": null,
            "grid_auto_rows": null,
            "grid_column": null,
            "grid_gap": null,
            "grid_row": null,
            "grid_template_areas": null,
            "grid_template_columns": null,
            "grid_template_rows": null,
            "height": null,
            "justify_content": null,
            "justify_items": null,
            "left": null,
            "margin": null,
            "max_height": null,
            "max_width": null,
            "min_height": null,
            "min_width": null,
            "object_fit": null,
            "object_position": null,
            "order": null,
            "overflow": null,
            "overflow_x": null,
            "overflow_y": null,
            "padding": null,
            "right": null,
            "top": null,
            "visibility": null,
            "width": null
          }
        },
        "2839a57075204a85a5a35833331a19a6": {
          "model_module": "@jupyter-widgets/base",
          "model_name": "LayoutModel",
          "model_module_version": "1.2.0",
          "state": {
            "_model_module": "@jupyter-widgets/base",
            "_model_module_version": "1.2.0",
            "_model_name": "LayoutModel",
            "_view_count": null,
            "_view_module": "@jupyter-widgets/base",
            "_view_module_version": "1.2.0",
            "_view_name": "LayoutView",
            "align_content": null,
            "align_items": null,
            "align_self": null,
            "border": null,
            "bottom": null,
            "display": null,
            "flex": null,
            "flex_flow": null,
            "grid_area": null,
            "grid_auto_columns": null,
            "grid_auto_flow": null,
            "grid_auto_rows": null,
            "grid_column": null,
            "grid_gap": null,
            "grid_row": null,
            "grid_template_areas": null,
            "grid_template_columns": null,
            "grid_template_rows": null,
            "height": null,
            "justify_content": null,
            "justify_items": null,
            "left": null,
            "margin": null,
            "max_height": null,
            "max_width": null,
            "min_height": null,
            "min_width": null,
            "object_fit": null,
            "object_position": null,
            "order": null,
            "overflow": null,
            "overflow_x": null,
            "overflow_y": null,
            "padding": null,
            "right": null,
            "top": null,
            "visibility": null,
            "width": null
          }
        },
        "740cda051d134f378b4418a678b83d2a": {
          "model_module": "@jupyter-widgets/controls",
          "model_name": "DescriptionStyleModel",
          "model_module_version": "1.5.0",
          "state": {
            "_model_module": "@jupyter-widgets/controls",
            "_model_module_version": "1.5.0",
            "_model_name": "DescriptionStyleModel",
            "_view_count": null,
            "_view_module": "@jupyter-widgets/base",
            "_view_module_version": "1.2.0",
            "_view_name": "StyleView",
            "description_width": ""
          }
        },
        "26e31b2d0d6642309328c8efaa952c19": {
          "model_module": "@jupyter-widgets/base",
          "model_name": "LayoutModel",
          "model_module_version": "1.2.0",
          "state": {
            "_model_module": "@jupyter-widgets/base",
            "_model_module_version": "1.2.0",
            "_model_name": "LayoutModel",
            "_view_count": null,
            "_view_module": "@jupyter-widgets/base",
            "_view_module_version": "1.2.0",
            "_view_name": "LayoutView",
            "align_content": null,
            "align_items": null,
            "align_self": null,
            "border": null,
            "bottom": null,
            "display": null,
            "flex": null,
            "flex_flow": null,
            "grid_area": null,
            "grid_auto_columns": null,
            "grid_auto_flow": null,
            "grid_auto_rows": null,
            "grid_column": null,
            "grid_gap": null,
            "grid_row": null,
            "grid_template_areas": null,
            "grid_template_columns": null,
            "grid_template_rows": null,
            "height": null,
            "justify_content": null,
            "justify_items": null,
            "left": null,
            "margin": null,
            "max_height": null,
            "max_width": null,
            "min_height": null,
            "min_width": null,
            "object_fit": null,
            "object_position": null,
            "order": null,
            "overflow": null,
            "overflow_x": null,
            "overflow_y": null,
            "padding": null,
            "right": null,
            "top": null,
            "visibility": null,
            "width": null
          }
        },
        "a25bb1c7737d4d009eb46b955eada629": {
          "model_module": "@jupyter-widgets/controls",
          "model_name": "ProgressStyleModel",
          "model_module_version": "1.5.0",
          "state": {
            "_model_module": "@jupyter-widgets/controls",
            "_model_module_version": "1.5.0",
            "_model_name": "ProgressStyleModel",
            "_view_count": null,
            "_view_module": "@jupyter-widgets/base",
            "_view_module_version": "1.2.0",
            "_view_name": "StyleView",
            "bar_color": null,
            "description_width": ""
          }
        },
        "c278bfa78f3c4185bf02ca69b8e23ee6": {
          "model_module": "@jupyter-widgets/base",
          "model_name": "LayoutModel",
          "model_module_version": "1.2.0",
          "state": {
            "_model_module": "@jupyter-widgets/base",
            "_model_module_version": "1.2.0",
            "_model_name": "LayoutModel",
            "_view_count": null,
            "_view_module": "@jupyter-widgets/base",
            "_view_module_version": "1.2.0",
            "_view_name": "LayoutView",
            "align_content": null,
            "align_items": null,
            "align_self": null,
            "border": null,
            "bottom": null,
            "display": null,
            "flex": null,
            "flex_flow": null,
            "grid_area": null,
            "grid_auto_columns": null,
            "grid_auto_flow": null,
            "grid_auto_rows": null,
            "grid_column": null,
            "grid_gap": null,
            "grid_row": null,
            "grid_template_areas": null,
            "grid_template_columns": null,
            "grid_template_rows": null,
            "height": null,
            "justify_content": null,
            "justify_items": null,
            "left": null,
            "margin": null,
            "max_height": null,
            "max_width": null,
            "min_height": null,
            "min_width": null,
            "object_fit": null,
            "object_position": null,
            "order": null,
            "overflow": null,
            "overflow_x": null,
            "overflow_y": null,
            "padding": null,
            "right": null,
            "top": null,
            "visibility": null,
            "width": null
          }
        },
        "4aacb996812346f4836681985a112b3c": {
          "model_module": "@jupyter-widgets/controls",
          "model_name": "DescriptionStyleModel",
          "model_module_version": "1.5.0",
          "state": {
            "_model_module": "@jupyter-widgets/controls",
            "_model_module_version": "1.5.0",
            "_model_name": "DescriptionStyleModel",
            "_view_count": null,
            "_view_module": "@jupyter-widgets/base",
            "_view_module_version": "1.2.0",
            "_view_name": "StyleView",
            "description_width": ""
          }
        },
        "816b2844ae1d437c80bf3426b6c9401b": {
          "model_module": "@jupyter-widgets/controls",
          "model_name": "HBoxModel",
          "model_module_version": "1.5.0",
          "state": {
            "_dom_classes": [],
            "_model_module": "@jupyter-widgets/controls",
            "_model_module_version": "1.5.0",
            "_model_name": "HBoxModel",
            "_view_count": null,
            "_view_module": "@jupyter-widgets/controls",
            "_view_module_version": "1.5.0",
            "_view_name": "HBoxView",
            "box_style": "",
            "children": [
              "IPY_MODEL_768a282ba98e40858228a018e72a0884",
              "IPY_MODEL_f4bd397288b749028a825092258443fc",
              "IPY_MODEL_e4d7895f9f234064b6ccb0bb44a35498"
            ],
            "layout": "IPY_MODEL_9e28aab915f741f1a68ee6c9311baa6d"
          }
        },
        "768a282ba98e40858228a018e72a0884": {
          "model_module": "@jupyter-widgets/controls",
          "model_name": "HTMLModel",
          "model_module_version": "1.5.0",
          "state": {
            "_dom_classes": [],
            "_model_module": "@jupyter-widgets/controls",
            "_model_module_version": "1.5.0",
            "_model_name": "HTMLModel",
            "_view_count": null,
            "_view_module": "@jupyter-widgets/controls",
            "_view_module_version": "1.5.0",
            "_view_name": "HTMLView",
            "description": "",
            "description_tooltip": null,
            "layout": "IPY_MODEL_0dec0688eca8480fad89ad7765dd2e9d",
            "placeholder": "​",
            "style": "IPY_MODEL_e312afeb5b6649c4926f900192e1b9ca",
            "value": "Downloading: 100%"
          }
        },
        "f4bd397288b749028a825092258443fc": {
          "model_module": "@jupyter-widgets/controls",
          "model_name": "FloatProgressModel",
          "model_module_version": "1.5.0",
          "state": {
            "_dom_classes": [],
            "_model_module": "@jupyter-widgets/controls",
            "_model_module_version": "1.5.0",
            "_model_name": "FloatProgressModel",
            "_view_count": null,
            "_view_module": "@jupyter-widgets/controls",
            "_view_module_version": "1.5.0",
            "_view_name": "ProgressView",
            "bar_style": "success",
            "description": "",
            "description_tooltip": null,
            "layout": "IPY_MODEL_341208fb3b7441a0b1f0a0a4dcdbcfd1",
            "max": 28,
            "min": 0,
            "orientation": "horizontal",
            "style": "IPY_MODEL_defbdf5043164eecb9727481544a1de7",
            "value": 28
          }
        },
        "e4d7895f9f234064b6ccb0bb44a35498": {
          "model_module": "@jupyter-widgets/controls",
          "model_name": "HTMLModel",
          "model_module_version": "1.5.0",
          "state": {
            "_dom_classes": [],
            "_model_module": "@jupyter-widgets/controls",
            "_model_module_version": "1.5.0",
            "_model_name": "HTMLModel",
            "_view_count": null,
            "_view_module": "@jupyter-widgets/controls",
            "_view_module_version": "1.5.0",
            "_view_name": "HTMLView",
            "description": "",
            "description_tooltip": null,
            "layout": "IPY_MODEL_cc4242625ee94ed6934be9b73bbdcd51",
            "placeholder": "​",
            "style": "IPY_MODEL_2ec282b8446c400e9aae0f204cfed72d",
            "value": " 28.0/28.0 [00:00&lt;00:00, 412B/s]"
          }
        },
        "9e28aab915f741f1a68ee6c9311baa6d": {
          "model_module": "@jupyter-widgets/base",
          "model_name": "LayoutModel",
          "model_module_version": "1.2.0",
          "state": {
            "_model_module": "@jupyter-widgets/base",
            "_model_module_version": "1.2.0",
            "_model_name": "LayoutModel",
            "_view_count": null,
            "_view_module": "@jupyter-widgets/base",
            "_view_module_version": "1.2.0",
            "_view_name": "LayoutView",
            "align_content": null,
            "align_items": null,
            "align_self": null,
            "border": null,
            "bottom": null,
            "display": null,
            "flex": null,
            "flex_flow": null,
            "grid_area": null,
            "grid_auto_columns": null,
            "grid_auto_flow": null,
            "grid_auto_rows": null,
            "grid_column": null,
            "grid_gap": null,
            "grid_row": null,
            "grid_template_areas": null,
            "grid_template_columns": null,
            "grid_template_rows": null,
            "height": null,
            "justify_content": null,
            "justify_items": null,
            "left": null,
            "margin": null,
            "max_height": null,
            "max_width": null,
            "min_height": null,
            "min_width": null,
            "object_fit": null,
            "object_position": null,
            "order": null,
            "overflow": null,
            "overflow_x": null,
            "overflow_y": null,
            "padding": null,
            "right": null,
            "top": null,
            "visibility": null,
            "width": null
          }
        },
        "0dec0688eca8480fad89ad7765dd2e9d": {
          "model_module": "@jupyter-widgets/base",
          "model_name": "LayoutModel",
          "model_module_version": "1.2.0",
          "state": {
            "_model_module": "@jupyter-widgets/base",
            "_model_module_version": "1.2.0",
            "_model_name": "LayoutModel",
            "_view_count": null,
            "_view_module": "@jupyter-widgets/base",
            "_view_module_version": "1.2.0",
            "_view_name": "LayoutView",
            "align_content": null,
            "align_items": null,
            "align_self": null,
            "border": null,
            "bottom": null,
            "display": null,
            "flex": null,
            "flex_flow": null,
            "grid_area": null,
            "grid_auto_columns": null,
            "grid_auto_flow": null,
            "grid_auto_rows": null,
            "grid_column": null,
            "grid_gap": null,
            "grid_row": null,
            "grid_template_areas": null,
            "grid_template_columns": null,
            "grid_template_rows": null,
            "height": null,
            "justify_content": null,
            "justify_items": null,
            "left": null,
            "margin": null,
            "max_height": null,
            "max_width": null,
            "min_height": null,
            "min_width": null,
            "object_fit": null,
            "object_position": null,
            "order": null,
            "overflow": null,
            "overflow_x": null,
            "overflow_y": null,
            "padding": null,
            "right": null,
            "top": null,
            "visibility": null,
            "width": null
          }
        },
        "e312afeb5b6649c4926f900192e1b9ca": {
          "model_module": "@jupyter-widgets/controls",
          "model_name": "DescriptionStyleModel",
          "model_module_version": "1.5.0",
          "state": {
            "_model_module": "@jupyter-widgets/controls",
            "_model_module_version": "1.5.0",
            "_model_name": "DescriptionStyleModel",
            "_view_count": null,
            "_view_module": "@jupyter-widgets/base",
            "_view_module_version": "1.2.0",
            "_view_name": "StyleView",
            "description_width": ""
          }
        },
        "341208fb3b7441a0b1f0a0a4dcdbcfd1": {
          "model_module": "@jupyter-widgets/base",
          "model_name": "LayoutModel",
          "model_module_version": "1.2.0",
          "state": {
            "_model_module": "@jupyter-widgets/base",
            "_model_module_version": "1.2.0",
            "_model_name": "LayoutModel",
            "_view_count": null,
            "_view_module": "@jupyter-widgets/base",
            "_view_module_version": "1.2.0",
            "_view_name": "LayoutView",
            "align_content": null,
            "align_items": null,
            "align_self": null,
            "border": null,
            "bottom": null,
            "display": null,
            "flex": null,
            "flex_flow": null,
            "grid_area": null,
            "grid_auto_columns": null,
            "grid_auto_flow": null,
            "grid_auto_rows": null,
            "grid_column": null,
            "grid_gap": null,
            "grid_row": null,
            "grid_template_areas": null,
            "grid_template_columns": null,
            "grid_template_rows": null,
            "height": null,
            "justify_content": null,
            "justify_items": null,
            "left": null,
            "margin": null,
            "max_height": null,
            "max_width": null,
            "min_height": null,
            "min_width": null,
            "object_fit": null,
            "object_position": null,
            "order": null,
            "overflow": null,
            "overflow_x": null,
            "overflow_y": null,
            "padding": null,
            "right": null,
            "top": null,
            "visibility": null,
            "width": null
          }
        },
        "defbdf5043164eecb9727481544a1de7": {
          "model_module": "@jupyter-widgets/controls",
          "model_name": "ProgressStyleModel",
          "model_module_version": "1.5.0",
          "state": {
            "_model_module": "@jupyter-widgets/controls",
            "_model_module_version": "1.5.0",
            "_model_name": "ProgressStyleModel",
            "_view_count": null,
            "_view_module": "@jupyter-widgets/base",
            "_view_module_version": "1.2.0",
            "_view_name": "StyleView",
            "bar_color": null,
            "description_width": ""
          }
        },
        "cc4242625ee94ed6934be9b73bbdcd51": {
          "model_module": "@jupyter-widgets/base",
          "model_name": "LayoutModel",
          "model_module_version": "1.2.0",
          "state": {
            "_model_module": "@jupyter-widgets/base",
            "_model_module_version": "1.2.0",
            "_model_name": "LayoutModel",
            "_view_count": null,
            "_view_module": "@jupyter-widgets/base",
            "_view_module_version": "1.2.0",
            "_view_name": "LayoutView",
            "align_content": null,
            "align_items": null,
            "align_self": null,
            "border": null,
            "bottom": null,
            "display": null,
            "flex": null,
            "flex_flow": null,
            "grid_area": null,
            "grid_auto_columns": null,
            "grid_auto_flow": null,
            "grid_auto_rows": null,
            "grid_column": null,
            "grid_gap": null,
            "grid_row": null,
            "grid_template_areas": null,
            "grid_template_columns": null,
            "grid_template_rows": null,
            "height": null,
            "justify_content": null,
            "justify_items": null,
            "left": null,
            "margin": null,
            "max_height": null,
            "max_width": null,
            "min_height": null,
            "min_width": null,
            "object_fit": null,
            "object_position": null,
            "order": null,
            "overflow": null,
            "overflow_x": null,
            "overflow_y": null,
            "padding": null,
            "right": null,
            "top": null,
            "visibility": null,
            "width": null
          }
        },
        "2ec282b8446c400e9aae0f204cfed72d": {
          "model_module": "@jupyter-widgets/controls",
          "model_name": "DescriptionStyleModel",
          "model_module_version": "1.5.0",
          "state": {
            "_model_module": "@jupyter-widgets/controls",
            "_model_module_version": "1.5.0",
            "_model_name": "DescriptionStyleModel",
            "_view_count": null,
            "_view_module": "@jupyter-widgets/base",
            "_view_module_version": "1.2.0",
            "_view_name": "StyleView",
            "description_width": ""
          }
        },
        "6effc0d0ee79490b9ce16f0767f00960": {
          "model_module": "@jupyter-widgets/controls",
          "model_name": "HBoxModel",
          "model_module_version": "1.5.0",
          "state": {
            "_dom_classes": [],
            "_model_module": "@jupyter-widgets/controls",
            "_model_module_version": "1.5.0",
            "_model_name": "HBoxModel",
            "_view_count": null,
            "_view_module": "@jupyter-widgets/controls",
            "_view_module_version": "1.5.0",
            "_view_name": "HBoxView",
            "box_style": "",
            "children": [
              "IPY_MODEL_e7d7549f8b364302ba8f53083f5e94c9",
              "IPY_MODEL_ad25fcc47b244dc5a4a1870ad3cdd3a4",
              "IPY_MODEL_175b5facd99b444881cb18ffd77a3dab"
            ],
            "layout": "IPY_MODEL_87056ec8b4364027a7cb97b8bbc3a73c"
          }
        },
        "e7d7549f8b364302ba8f53083f5e94c9": {
          "model_module": "@jupyter-widgets/controls",
          "model_name": "HTMLModel",
          "model_module_version": "1.5.0",
          "state": {
            "_dom_classes": [],
            "_model_module": "@jupyter-widgets/controls",
            "_model_module_version": "1.5.0",
            "_model_name": "HTMLModel",
            "_view_count": null,
            "_view_module": "@jupyter-widgets/controls",
            "_view_module_version": "1.5.0",
            "_view_name": "HTMLView",
            "description": "",
            "description_tooltip": null,
            "layout": "IPY_MODEL_ca23261fab6f422ab743b81cf960141c",
            "placeholder": "​",
            "style": "IPY_MODEL_bfa05c28583d4972af40b5bc33e88810",
            "value": "Downloading: 100%"
          }
        },
        "ad25fcc47b244dc5a4a1870ad3cdd3a4": {
          "model_module": "@jupyter-widgets/controls",
          "model_name": "FloatProgressModel",
          "model_module_version": "1.5.0",
          "state": {
            "_dom_classes": [],
            "_model_module": "@jupyter-widgets/controls",
            "_model_module_version": "1.5.0",
            "_model_name": "FloatProgressModel",
            "_view_count": null,
            "_view_module": "@jupyter-widgets/controls",
            "_view_module_version": "1.5.0",
            "_view_name": "ProgressView",
            "bar_style": "success",
            "description": "",
            "description_tooltip": null,
            "layout": "IPY_MODEL_72b0498b41294d7f976666904a1584e3",
            "max": 483,
            "min": 0,
            "orientation": "horizontal",
            "style": "IPY_MODEL_4cdab5600e0245b7bb07e185727dc55e",
            "value": 483
          }
        },
        "175b5facd99b444881cb18ffd77a3dab": {
          "model_module": "@jupyter-widgets/controls",
          "model_name": "HTMLModel",
          "model_module_version": "1.5.0",
          "state": {
            "_dom_classes": [],
            "_model_module": "@jupyter-widgets/controls",
            "_model_module_version": "1.5.0",
            "_model_name": "HTMLModel",
            "_view_count": null,
            "_view_module": "@jupyter-widgets/controls",
            "_view_module_version": "1.5.0",
            "_view_name": "HTMLView",
            "description": "",
            "description_tooltip": null,
            "layout": "IPY_MODEL_99c19de85b574465b96e8063e3778436",
            "placeholder": "​",
            "style": "IPY_MODEL_75bab6eaca0c47be929f50e3813609e9",
            "value": " 483/483 [00:00&lt;00:00, 5.71kB/s]"
          }
        },
        "87056ec8b4364027a7cb97b8bbc3a73c": {
          "model_module": "@jupyter-widgets/base",
          "model_name": "LayoutModel",
          "model_module_version": "1.2.0",
          "state": {
            "_model_module": "@jupyter-widgets/base",
            "_model_module_version": "1.2.0",
            "_model_name": "LayoutModel",
            "_view_count": null,
            "_view_module": "@jupyter-widgets/base",
            "_view_module_version": "1.2.0",
            "_view_name": "LayoutView",
            "align_content": null,
            "align_items": null,
            "align_self": null,
            "border": null,
            "bottom": null,
            "display": null,
            "flex": null,
            "flex_flow": null,
            "grid_area": null,
            "grid_auto_columns": null,
            "grid_auto_flow": null,
            "grid_auto_rows": null,
            "grid_column": null,
            "grid_gap": null,
            "grid_row": null,
            "grid_template_areas": null,
            "grid_template_columns": null,
            "grid_template_rows": null,
            "height": null,
            "justify_content": null,
            "justify_items": null,
            "left": null,
            "margin": null,
            "max_height": null,
            "max_width": null,
            "min_height": null,
            "min_width": null,
            "object_fit": null,
            "object_position": null,
            "order": null,
            "overflow": null,
            "overflow_x": null,
            "overflow_y": null,
            "padding": null,
            "right": null,
            "top": null,
            "visibility": null,
            "width": null
          }
        },
        "ca23261fab6f422ab743b81cf960141c": {
          "model_module": "@jupyter-widgets/base",
          "model_name": "LayoutModel",
          "model_module_version": "1.2.0",
          "state": {
            "_model_module": "@jupyter-widgets/base",
            "_model_module_version": "1.2.0",
            "_model_name": "LayoutModel",
            "_view_count": null,
            "_view_module": "@jupyter-widgets/base",
            "_view_module_version": "1.2.0",
            "_view_name": "LayoutView",
            "align_content": null,
            "align_items": null,
            "align_self": null,
            "border": null,
            "bottom": null,
            "display": null,
            "flex": null,
            "flex_flow": null,
            "grid_area": null,
            "grid_auto_columns": null,
            "grid_auto_flow": null,
            "grid_auto_rows": null,
            "grid_column": null,
            "grid_gap": null,
            "grid_row": null,
            "grid_template_areas": null,
            "grid_template_columns": null,
            "grid_template_rows": null,
            "height": null,
            "justify_content": null,
            "justify_items": null,
            "left": null,
            "margin": null,
            "max_height": null,
            "max_width": null,
            "min_height": null,
            "min_width": null,
            "object_fit": null,
            "object_position": null,
            "order": null,
            "overflow": null,
            "overflow_x": null,
            "overflow_y": null,
            "padding": null,
            "right": null,
            "top": null,
            "visibility": null,
            "width": null
          }
        },
        "bfa05c28583d4972af40b5bc33e88810": {
          "model_module": "@jupyter-widgets/controls",
          "model_name": "DescriptionStyleModel",
          "model_module_version": "1.5.0",
          "state": {
            "_model_module": "@jupyter-widgets/controls",
            "_model_module_version": "1.5.0",
            "_model_name": "DescriptionStyleModel",
            "_view_count": null,
            "_view_module": "@jupyter-widgets/base",
            "_view_module_version": "1.2.0",
            "_view_name": "StyleView",
            "description_width": ""
          }
        },
        "72b0498b41294d7f976666904a1584e3": {
          "model_module": "@jupyter-widgets/base",
          "model_name": "LayoutModel",
          "model_module_version": "1.2.0",
          "state": {
            "_model_module": "@jupyter-widgets/base",
            "_model_module_version": "1.2.0",
            "_model_name": "LayoutModel",
            "_view_count": null,
            "_view_module": "@jupyter-widgets/base",
            "_view_module_version": "1.2.0",
            "_view_name": "LayoutView",
            "align_content": null,
            "align_items": null,
            "align_self": null,
            "border": null,
            "bottom": null,
            "display": null,
            "flex": null,
            "flex_flow": null,
            "grid_area": null,
            "grid_auto_columns": null,
            "grid_auto_flow": null,
            "grid_auto_rows": null,
            "grid_column": null,
            "grid_gap": null,
            "grid_row": null,
            "grid_template_areas": null,
            "grid_template_columns": null,
            "grid_template_rows": null,
            "height": null,
            "justify_content": null,
            "justify_items": null,
            "left": null,
            "margin": null,
            "max_height": null,
            "max_width": null,
            "min_height": null,
            "min_width": null,
            "object_fit": null,
            "object_position": null,
            "order": null,
            "overflow": null,
            "overflow_x": null,
            "overflow_y": null,
            "padding": null,
            "right": null,
            "top": null,
            "visibility": null,
            "width": null
          }
        },
        "4cdab5600e0245b7bb07e185727dc55e": {
          "model_module": "@jupyter-widgets/controls",
          "model_name": "ProgressStyleModel",
          "model_module_version": "1.5.0",
          "state": {
            "_model_module": "@jupyter-widgets/controls",
            "_model_module_version": "1.5.0",
            "_model_name": "ProgressStyleModel",
            "_view_count": null,
            "_view_module": "@jupyter-widgets/base",
            "_view_module_version": "1.2.0",
            "_view_name": "StyleView",
            "bar_color": null,
            "description_width": ""
          }
        },
        "99c19de85b574465b96e8063e3778436": {
          "model_module": "@jupyter-widgets/base",
          "model_name": "LayoutModel",
          "model_module_version": "1.2.0",
          "state": {
            "_model_module": "@jupyter-widgets/base",
            "_model_module_version": "1.2.0",
            "_model_name": "LayoutModel",
            "_view_count": null,
            "_view_module": "@jupyter-widgets/base",
            "_view_module_version": "1.2.0",
            "_view_name": "LayoutView",
            "align_content": null,
            "align_items": null,
            "align_self": null,
            "border": null,
            "bottom": null,
            "display": null,
            "flex": null,
            "flex_flow": null,
            "grid_area": null,
            "grid_auto_columns": null,
            "grid_auto_flow": null,
            "grid_auto_rows": null,
            "grid_column": null,
            "grid_gap": null,
            "grid_row": null,
            "grid_template_areas": null,
            "grid_template_columns": null,
            "grid_template_rows": null,
            "height": null,
            "justify_content": null,
            "justify_items": null,
            "left": null,
            "margin": null,
            "max_height": null,
            "max_width": null,
            "min_height": null,
            "min_width": null,
            "object_fit": null,
            "object_position": null,
            "order": null,
            "overflow": null,
            "overflow_x": null,
            "overflow_y": null,
            "padding": null,
            "right": null,
            "top": null,
            "visibility": null,
            "width": null
          }
        },
        "75bab6eaca0c47be929f50e3813609e9": {
          "model_module": "@jupyter-widgets/controls",
          "model_name": "DescriptionStyleModel",
          "model_module_version": "1.5.0",
          "state": {
            "_model_module": "@jupyter-widgets/controls",
            "_model_module_version": "1.5.0",
            "_model_name": "DescriptionStyleModel",
            "_view_count": null,
            "_view_module": "@jupyter-widgets/base",
            "_view_module_version": "1.2.0",
            "_view_name": "StyleView",
            "description_width": ""
          }
        },
        "869eea6f917a410487b66cc9265767f4": {
          "model_module": "@jupyter-widgets/controls",
          "model_name": "HBoxModel",
          "model_module_version": "1.5.0",
          "state": {
            "_dom_classes": [],
            "_model_module": "@jupyter-widgets/controls",
            "_model_module_version": "1.5.0",
            "_model_name": "HBoxModel",
            "_view_count": null,
            "_view_module": "@jupyter-widgets/controls",
            "_view_module_version": "1.5.0",
            "_view_name": "HBoxView",
            "box_style": "",
            "children": [
              "IPY_MODEL_432d5d9214724023ab72869266775bc1",
              "IPY_MODEL_a4d1acb045db48c3872e20548426a471",
              "IPY_MODEL_8ed5ed6e992c45b2ac413eba72e5e92d"
            ],
            "layout": "IPY_MODEL_b40373cd04704320b7fc8afec9f6de99"
          }
        },
        "432d5d9214724023ab72869266775bc1": {
          "model_module": "@jupyter-widgets/controls",
          "model_name": "HTMLModel",
          "model_module_version": "1.5.0",
          "state": {
            "_dom_classes": [],
            "_model_module": "@jupyter-widgets/controls",
            "_model_module_version": "1.5.0",
            "_model_name": "HTMLModel",
            "_view_count": null,
            "_view_module": "@jupyter-widgets/controls",
            "_view_module_version": "1.5.0",
            "_view_name": "HTMLView",
            "description": "",
            "description_tooltip": null,
            "layout": "IPY_MODEL_779087c802dc49c1a6bd7073170fa24c",
            "placeholder": "​",
            "style": "IPY_MODEL_6d2609279d634d6da75abb476d571db2",
            "value": "Downloading: 100%"
          }
        },
        "a4d1acb045db48c3872e20548426a471": {
          "model_module": "@jupyter-widgets/controls",
          "model_name": "FloatProgressModel",
          "model_module_version": "1.5.0",
          "state": {
            "_dom_classes": [],
            "_model_module": "@jupyter-widgets/controls",
            "_model_module_version": "1.5.0",
            "_model_name": "FloatProgressModel",
            "_view_count": null,
            "_view_module": "@jupyter-widgets/controls",
            "_view_module_version": "1.5.0",
            "_view_name": "ProgressView",
            "bar_style": "success",
            "description": "",
            "description_tooltip": null,
            "layout": "IPY_MODEL_03850f1798d449cca917b7ad7129c027",
            "max": 267967963,
            "min": 0,
            "orientation": "horizontal",
            "style": "IPY_MODEL_e0b430f6ba2348d6bde5c612b28ea24c",
            "value": 267967963
          }
        },
        "8ed5ed6e992c45b2ac413eba72e5e92d": {
          "model_module": "@jupyter-widgets/controls",
          "model_name": "HTMLModel",
          "model_module_version": "1.5.0",
          "state": {
            "_dom_classes": [],
            "_model_module": "@jupyter-widgets/controls",
            "_model_module_version": "1.5.0",
            "_model_name": "HTMLModel",
            "_view_count": null,
            "_view_module": "@jupyter-widgets/controls",
            "_view_module_version": "1.5.0",
            "_view_name": "HTMLView",
            "description": "",
            "description_tooltip": null,
            "layout": "IPY_MODEL_14f4ea794c0d40cf87423adb7d3666fa",
            "placeholder": "​",
            "style": "IPY_MODEL_6cc27349ec1e47cc922f00455bd869cf",
            "value": " 268M/268M [00:06&lt;00:00, 64.1MB/s]"
          }
        },
        "b40373cd04704320b7fc8afec9f6de99": {
          "model_module": "@jupyter-widgets/base",
          "model_name": "LayoutModel",
          "model_module_version": "1.2.0",
          "state": {
            "_model_module": "@jupyter-widgets/base",
            "_model_module_version": "1.2.0",
            "_model_name": "LayoutModel",
            "_view_count": null,
            "_view_module": "@jupyter-widgets/base",
            "_view_module_version": "1.2.0",
            "_view_name": "LayoutView",
            "align_content": null,
            "align_items": null,
            "align_self": null,
            "border": null,
            "bottom": null,
            "display": null,
            "flex": null,
            "flex_flow": null,
            "grid_area": null,
            "grid_auto_columns": null,
            "grid_auto_flow": null,
            "grid_auto_rows": null,
            "grid_column": null,
            "grid_gap": null,
            "grid_row": null,
            "grid_template_areas": null,
            "grid_template_columns": null,
            "grid_template_rows": null,
            "height": null,
            "justify_content": null,
            "justify_items": null,
            "left": null,
            "margin": null,
            "max_height": null,
            "max_width": null,
            "min_height": null,
            "min_width": null,
            "object_fit": null,
            "object_position": null,
            "order": null,
            "overflow": null,
            "overflow_x": null,
            "overflow_y": null,
            "padding": null,
            "right": null,
            "top": null,
            "visibility": null,
            "width": null
          }
        },
        "779087c802dc49c1a6bd7073170fa24c": {
          "model_module": "@jupyter-widgets/base",
          "model_name": "LayoutModel",
          "model_module_version": "1.2.0",
          "state": {
            "_model_module": "@jupyter-widgets/base",
            "_model_module_version": "1.2.0",
            "_model_name": "LayoutModel",
            "_view_count": null,
            "_view_module": "@jupyter-widgets/base",
            "_view_module_version": "1.2.0",
            "_view_name": "LayoutView",
            "align_content": null,
            "align_items": null,
            "align_self": null,
            "border": null,
            "bottom": null,
            "display": null,
            "flex": null,
            "flex_flow": null,
            "grid_area": null,
            "grid_auto_columns": null,
            "grid_auto_flow": null,
            "grid_auto_rows": null,
            "grid_column": null,
            "grid_gap": null,
            "grid_row": null,
            "grid_template_areas": null,
            "grid_template_columns": null,
            "grid_template_rows": null,
            "height": null,
            "justify_content": null,
            "justify_items": null,
            "left": null,
            "margin": null,
            "max_height": null,
            "max_width": null,
            "min_height": null,
            "min_width": null,
            "object_fit": null,
            "object_position": null,
            "order": null,
            "overflow": null,
            "overflow_x": null,
            "overflow_y": null,
            "padding": null,
            "right": null,
            "top": null,
            "visibility": null,
            "width": null
          }
        },
        "6d2609279d634d6da75abb476d571db2": {
          "model_module": "@jupyter-widgets/controls",
          "model_name": "DescriptionStyleModel",
          "model_module_version": "1.5.0",
          "state": {
            "_model_module": "@jupyter-widgets/controls",
            "_model_module_version": "1.5.0",
            "_model_name": "DescriptionStyleModel",
            "_view_count": null,
            "_view_module": "@jupyter-widgets/base",
            "_view_module_version": "1.2.0",
            "_view_name": "StyleView",
            "description_width": ""
          }
        },
        "03850f1798d449cca917b7ad7129c027": {
          "model_module": "@jupyter-widgets/base",
          "model_name": "LayoutModel",
          "model_module_version": "1.2.0",
          "state": {
            "_model_module": "@jupyter-widgets/base",
            "_model_module_version": "1.2.0",
            "_model_name": "LayoutModel",
            "_view_count": null,
            "_view_module": "@jupyter-widgets/base",
            "_view_module_version": "1.2.0",
            "_view_name": "LayoutView",
            "align_content": null,
            "align_items": null,
            "align_self": null,
            "border": null,
            "bottom": null,
            "display": null,
            "flex": null,
            "flex_flow": null,
            "grid_area": null,
            "grid_auto_columns": null,
            "grid_auto_flow": null,
            "grid_auto_rows": null,
            "grid_column": null,
            "grid_gap": null,
            "grid_row": null,
            "grid_template_areas": null,
            "grid_template_columns": null,
            "grid_template_rows": null,
            "height": null,
            "justify_content": null,
            "justify_items": null,
            "left": null,
            "margin": null,
            "max_height": null,
            "max_width": null,
            "min_height": null,
            "min_width": null,
            "object_fit": null,
            "object_position": null,
            "order": null,
            "overflow": null,
            "overflow_x": null,
            "overflow_y": null,
            "padding": null,
            "right": null,
            "top": null,
            "visibility": null,
            "width": null
          }
        },
        "e0b430f6ba2348d6bde5c612b28ea24c": {
          "model_module": "@jupyter-widgets/controls",
          "model_name": "ProgressStyleModel",
          "model_module_version": "1.5.0",
          "state": {
            "_model_module": "@jupyter-widgets/controls",
            "_model_module_version": "1.5.0",
            "_model_name": "ProgressStyleModel",
            "_view_count": null,
            "_view_module": "@jupyter-widgets/base",
            "_view_module_version": "1.2.0",
            "_view_name": "StyleView",
            "bar_color": null,
            "description_width": ""
          }
        },
        "14f4ea794c0d40cf87423adb7d3666fa": {
          "model_module": "@jupyter-widgets/base",
          "model_name": "LayoutModel",
          "model_module_version": "1.2.0",
          "state": {
            "_model_module": "@jupyter-widgets/base",
            "_model_module_version": "1.2.0",
            "_model_name": "LayoutModel",
            "_view_count": null,
            "_view_module": "@jupyter-widgets/base",
            "_view_module_version": "1.2.0",
            "_view_name": "LayoutView",
            "align_content": null,
            "align_items": null,
            "align_self": null,
            "border": null,
            "bottom": null,
            "display": null,
            "flex": null,
            "flex_flow": null,
            "grid_area": null,
            "grid_auto_columns": null,
            "grid_auto_flow": null,
            "grid_auto_rows": null,
            "grid_column": null,
            "grid_gap": null,
            "grid_row": null,
            "grid_template_areas": null,
            "grid_template_columns": null,
            "grid_template_rows": null,
            "height": null,
            "justify_content": null,
            "justify_items": null,
            "left": null,
            "margin": null,
            "max_height": null,
            "max_width": null,
            "min_height": null,
            "min_width": null,
            "object_fit": null,
            "object_position": null,
            "order": null,
            "overflow": null,
            "overflow_x": null,
            "overflow_y": null,
            "padding": null,
            "right": null,
            "top": null,
            "visibility": null,
            "width": null
          }
        },
        "6cc27349ec1e47cc922f00455bd869cf": {
          "model_module": "@jupyter-widgets/controls",
          "model_name": "DescriptionStyleModel",
          "model_module_version": "1.5.0",
          "state": {
            "_model_module": "@jupyter-widgets/controls",
            "_model_module_version": "1.5.0",
            "_model_name": "DescriptionStyleModel",
            "_view_count": null,
            "_view_module": "@jupyter-widgets/base",
            "_view_module_version": "1.2.0",
            "_view_name": "StyleView",
            "description_width": ""
          }
        }
      }
    }
  },
  "nbformat": 4,
  "nbformat_minor": 5
}