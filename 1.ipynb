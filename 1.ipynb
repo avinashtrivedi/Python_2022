{
 "cells": [
  {
   "cell_type": "code",
   "execution_count": 13,
   "id": "61308fed",
   "metadata": {},
   "outputs": [],
   "source": [
    "import random\n",
    "class Boat:\n",
    "    def __init__(self,boat_name,top_speed=3):\n",
    "        self.boat_name = boat_name\n",
    "        self.top_speed = top_speed\n",
    "        self.current_progress = 0\n",
    "        \n",
    "    def set_top_speed(self,new_speed):\n",
    "        self.top_speed = new_speed\n",
    "        \n",
    "    def set_boat_name(self,New_name):\n",
    "        self.boat_name = New_name\n",
    "        \n",
    "    def set_current_progress(self,new_progress):\n",
    "        self.current_progress = new_progress\n",
    "    \n",
    "    def get_boat_name(self):\n",
    "        return self.boat_name\n",
    "    \n",
    "    def get_top_speed(self):\n",
    "        return self.top_speed\n",
    "    def get_current_progress(self):\n",
    "        return self.current_progress\n",
    "    \n",
    "    def __str__(self):\n",
    "        return f'{self.boat_name}: {self.current_progress}'\n",
    "    \n",
    "    def move(self):\n",
    "        random_val = random.randint(0,self.top_speed)\n",
    "        self.current_progress = self.current_progress + random_val\n",
    "        return random_val"
   ]
  },
  {
   "cell_type": "code",
   "execution_count": 16,
   "id": "055574d9",
   "metadata": {},
   "outputs": [
    {
     "name": "stdout",
     "output_type": "stream",
     "text": [
      "<class '__main__.Boat'>\n",
      "The Fire Ball: 0\n",
      "The Fire Ball\n",
      "12\n",
      "0\n",
      "6\n",
      "6\n",
      "6\n",
      "12\n",
      "The Sam: 1000\n",
      "1000\n",
      "497437\n"
     ]
    }
   ],
   "source": [
    "if __name__ == '__main__':\n",
    "    my_boat = Boat(\"The Fire Ball\", 12)\n",
    "    other_boat = Boat(\"The Leaf\", 100)\n",
    "    print(type(my_boat)) #<class '__main__.Boat'>\n",
    "    print(str(my_boat)) #The Fire Ball: 0\n",
    "    print(my_boat.get_boat_name()) #The Fire Ball\n",
    "    print(my_boat.get_top_speed()) #12\n",
    "    print(my_boat.get_current_progress()) #0\n",
    "    print(my_boat.move()) #Some number between 0 and 12\n",
    "    print(my_boat.get_current_progress()) #Same num as prev line\n",
    "    print(my_boat.move()) #Another number between 0 and 12\n",
    "    print(my_boat.get_current_progress()) #Sum of prev 2 lines\n",
    "    my_boat.set_top_speed(100)\n",
    "    my_boat.set_boat_name(\"The Sam\")\n",
    "    my_boat.set_current_progress(1000)\n",
    "    print(my_boat) #The Sam: 1000\n",
    "    print(my_boat.get_current_progress()) #1000\n",
    "    for i in range(9980):\n",
    "        my_boat.move()\n",
    "    print(my_boat.get_current_progress()) #Should be about 500000"
   ]
  },
  {
   "cell_type": "code",
   "execution_count": null,
   "id": "52f471c3",
   "metadata": {},
   "outputs": [],
   "source": []
  }
 ],
 "metadata": {
  "kernelspec": {
   "display_name": "Python 3 (ipykernel)",
   "language": "python",
   "name": "python3"
  },
  "language_info": {
   "codemirror_mode": {
    "name": "ipython",
    "version": 3
   },
   "file_extension": ".py",
   "mimetype": "text/x-python",
   "name": "python",
   "nbconvert_exporter": "python",
   "pygments_lexer": "ipython3",
   "version": "3.9.12"
  }
 },
 "nbformat": 4,
 "nbformat_minor": 5
}
