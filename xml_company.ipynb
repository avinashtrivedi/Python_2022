{
 "cells": [
  {
   "cell_type": "code",
   "execution_count": 1,
   "id": "74d4afdb",
   "metadata": {},
   "outputs": [],
   "source": [
    "import xml.etree.ElementTree as ET\n",
    "import pandas as pd\n",
    "tree = ET.parse('task3.xml')\n",
    "root = tree.getroot()"
   ]
  },
  {
   "cell_type": "code",
   "execution_count": 2,
   "id": "f7c62c11",
   "metadata": {},
   "outputs": [],
   "source": [
    "data = []\n",
    "for child in root:\n",
    "    info = []\n",
    "    for i in child:\n",
    "        if i.tag in ('OrderDate','ArrivalDate'):\n",
    "            info.append(i.text)\n",
    "    data.append(info)"
   ]
  },
  {
   "cell_type": "code",
   "execution_count": 3,
   "id": "99cae406",
   "metadata": {},
   "outputs": [
    {
     "name": "stdout",
     "output_type": "stream",
     "text": [
      "Delivery time of order#1: 8\n",
      "Delivery time of order#2: 6\n",
      "Delivery time of order#3: 5\n",
      "Delivery time of order#4: 7\n",
      "Delivery time of order#5: 11\n",
      "Delivery time of order#6: 6\n",
      "Delivery time of order#7: 7\n",
      "Delivery time of order#8: 3\n",
      "Delivery time of order#9: 10\n",
      "Delivery time of order#10: 8\n",
      "Delivery time of order#11: 11\n",
      "Delivery time of order#12: 4\n",
      "Delivery time of order#13: 6\n",
      "Delivery time of order#14: 8\n",
      "Delivery time of order#15: 9\n",
      "Delivery time of order#16: 9\n",
      "Delivery time of order#17: 5\n",
      "Delivery time of order#18: 9\n",
      "Delivery time of order#19: 8\n",
      "Delivery time of order#20: 8\n",
      "Delivery time of order#21: 15\n",
      "Delivery time of order#22: 7\n",
      "Delivery time of order#23: 4\n",
      "Delivery time of order#24: 8\n",
      "Delivery time of order#25: 6\n",
      "Delivery time of order#26: 7\n",
      "Delivery time of order#27: 5\n",
      "Delivery time of order#28: 7\n",
      "Delivery time of order#29: 20\n",
      "Delivery time of order#30: 5\n",
      "Delivery time of order#31: 11\n",
      "Delivery time of order#32: 20\n",
      "Delivery time of order#33: 30\n",
      "Delivery time of order#34: 7\n",
      "Delivery time of order#35: 5\n",
      "Delivery time of order#36: 20\n",
      "Delivery time of order#37: 9\n",
      "Delivery time of order#38: 5\n",
      "Delivery time of order#39: 10\n",
      "Delivery time of order#40: 30\n",
      "Delivery time of order#41: 5\n",
      "Delivery time of order#42: 6\n",
      "Delivery time of order#43: 9\n",
      "Delivery time of order#44: 10\n",
      "Delivery time of order#45: 6\n",
      "Delivery time of order#46: 5\n",
      "Delivery time of order#47: 7\n",
      "Delivery time of order#48: 5\n",
      "Delivery time of order#49: 14\n",
      "Delivery time of order#50: 5\n",
      "Delivery time of order#51: 6\n",
      "Delivery time of order#52: 9\n",
      "Delivery time of order#53: 5\n",
      "Delivery time of order#54: 7\n",
      "Delivery time of order#55: 5\n",
      "Delivery time of order#56: 5\n",
      "Delivery time of order#57: 6\n",
      "Delivery time of order#58: 14\n",
      "Delivery time of order#59: 5\n",
      "Delivery time of order#60: 5\n",
      "Delivery time of order#61: 5\n",
      "Delivery time of order#62: 5\n",
      "Delivery time of order#63: 8\n",
      "Delivery time of order#64: 7\n",
      "Delivery time of order#65: 11\n",
      "Delivery time of order#66: 7\n",
      "Delivery time of order#67: 7\n",
      "Delivery time of order#68: 8\n",
      "Delivery time of order#69: 9\n",
      "Delivery time of order#70: 5\n",
      "Delivery time of order#71: 5\n",
      "Delivery time of order#72: 9\n",
      "Delivery time of order#73: 11\n",
      "Delivery time of order#74: 7\n",
      "Delivery time of order#75: 9\n",
      "Delivery time of order#76: 9\n",
      "Delivery time of order#77: 5\n",
      "Delivery time of order#78: 8\n",
      "Delivery time of order#79: 9\n",
      "Delivery time of order#80: 9\n",
      "Delivery time of order#81: 10\n",
      "Delivery time of order#82: 7\n",
      "Delivery time of order#83: 12\n",
      "Delivery time of order#84: 6\n",
      "Delivery time of order#85: 6\n",
      "Delivery time of order#86: 5\n",
      "Delivery time of order#87: 8\n",
      "Delivery time of order#88: 11\n",
      "Delivery time of order#89: 11\n",
      "Delivery time of order#90: 6\n",
      "Delivery time of order#91: 11\n",
      "Delivery time of order#92: 10\n",
      "Delivery time of order#93: 12\n",
      "Delivery time of order#94: 5\n"
     ]
    }
   ],
   "source": [
    "k=1\n",
    "delivery_days = []\n",
    "for i,j in data:\n",
    "    x = (pd.to_datetime(j) - pd.to_datetime(i)).days\n",
    "    delivery_days.append(x)\n",
    "    print(f'Delivery time of order#{k}:',x)\n",
    "    k = k + 1"
   ]
  },
  {
   "cell_type": "code",
   "execution_count": 4,
   "id": "72373ffa",
   "metadata": {},
   "outputs": [
    {
     "name": "stdout",
     "output_type": "stream",
     "text": [
      "Minimum is: 3\n"
     ]
    }
   ],
   "source": [
    "print('Minimum is:',min(delivery_days))"
   ]
  },
  {
   "cell_type": "code",
   "execution_count": 5,
   "id": "1c7fb0b7",
   "metadata": {},
   "outputs": [
    {
     "name": "stdout",
     "output_type": "stream",
     "text": [
      "Maximum is: 30\n"
     ]
    }
   ],
   "source": [
    "print('Maximum is:',max(delivery_days))"
   ]
  },
  {
   "cell_type": "code",
   "execution_count": 6,
   "id": "8f18e85f",
   "metadata": {},
   "outputs": [
    {
     "name": "stdout",
     "output_type": "stream",
     "text": [
      "Average is: 8.414893617021276\n"
     ]
    }
   ],
   "source": [
    "print('Average is:',sum(delivery_days)/len(delivery_days))"
   ]
  },
  {
   "cell_type": "code",
   "execution_count": null,
   "id": "0671b04e",
   "metadata": {},
   "outputs": [],
   "source": []
  }
 ],
 "metadata": {
  "kernelspec": {
   "display_name": "Python 3 (ipykernel)",
   "language": "python",
   "name": "python3"
  },
  "language_info": {
   "codemirror_mode": {
    "name": "ipython",
    "version": 3
   },
   "file_extension": ".py",
   "mimetype": "text/x-python",
   "name": "python",
   "nbconvert_exporter": "python",
   "pygments_lexer": "ipython3",
   "version": "3.9.12"
  }
 },
 "nbformat": 4,
 "nbformat_minor": 5
}
