{
 "cells": [
  {
   "cell_type": "code",
   "execution_count": 12,
   "id": "588bdb7e",
   "metadata": {},
   "outputs": [],
   "source": [
    "from IPython.display import display, Math, Latex\n",
    "\n",
    "import pandas as pd\n",
    "import numpy as np\n",
    "import numpy_financial as npf\n",
    "import yfinance as yf\n",
    "import matplotlib.pyplot as plt\n",
    "from datetime import datetime\n",
    "from tqdm import tqdm"
   ]
  },
  {
   "cell_type": "code",
   "execution_count": 13,
   "id": "f80e8031",
   "metadata": {},
   "outputs": [],
   "source": [
    "import pandas as pd\n",
    "start = '2022-01-01'\n",
    "end = '2022-11-30'\n",
    "\n",
    "csv_file = pd.read_csv('Tickers.csv', header=None)[0].tolist()"
   ]
  },
  {
   "cell_type": "code",
   "execution_count": 14,
   "id": "31c2a5fd",
   "metadata": {},
   "outputs": [],
   "source": [
    "csv_file = csv_file[:1]"
   ]
  },
  {
   "cell_type": "code",
   "execution_count": 4,
   "id": "e58257f7",
   "metadata": {},
   "outputs": [
    {
     "name": "stderr",
     "output_type": "stream",
     "text": [
      " 13%|██████████▋                                                                     | 2/15 [00:11<01:17,  5.93s/it]"
     ]
    },
    {
     "name": "stdout",
     "output_type": "stream",
     "text": [
      "Invalid name/delisted asdfa\n"
     ]
    },
    {
     "name": "stderr",
     "output_type": "stream",
     "text": [
      " 53%|██████████████████████████████████████████▋                                     | 8/15 [00:40<00:35,  5.13s/it]"
     ]
    },
    {
     "name": "stdout",
     "output_type": "stream",
     "text": [
      "Invalid name/delisted INVALIDTIC\n"
     ]
    },
    {
     "name": "stderr",
     "output_type": "stream",
     "text": [
      "100%|███████████████████████████████████████████████████████████████████████████████| 15/15 [01:46<00:00,  7.08s/it]\n"
     ]
    }
   ],
   "source": [
    "usd_tickers = []\n",
    "\n",
    "for i in tqdm(range(len(csv_file))): \n",
    "    try:\n",
    "        stock_info = yf.Ticker(csv_file[i]).info\n",
    "        currency = stock_info['financialCurrency']\n",
    "        if currency == 'USD':\n",
    "            usd_tickers.append(csv_file[i])\n",
    "    except:\n",
    "        print('Invalid name/delisted',csv_file[i])"
   ]
  },
  {
   "cell_type": "code",
   "execution_count": 29,
   "id": "d1535a75",
   "metadata": {},
   "outputs": [],
   "source": [
    "def get_ticker(name):\n",
    "#     start = '2022-01-03'\n",
    "#     end = '2022-10-31'\n",
    "    try:\n",
    "        df = yf.Ticker(name).history(start=start, end=end)\n",
    "\n",
    "        # reset index to get Date as column\n",
    "        df = df.reset_index()\n",
    "\n",
    "        # get Day,month as column\n",
    "        df['Day'] = df['Date'].dt.day\n",
    "        df['Month'] = df['Date'].dt.month\n",
    "\n",
    "        # keep only 'Volume','Day','Month' columns\n",
    "        df = df[['Volume','Day','Month']]\n",
    "\n",
    "        # group on the basis of Month to count the number of Trading days in that month\n",
    "        x = df.groupby('Month')['Day'].count()\n",
    "\n",
    "        # x[x>=20].index : will give month number where Trading days >=20\n",
    "        # consider only the month where Trading days >=20\n",
    "        df = df[df['Month'].isin(x[x>=20].index)]\n",
    "\n",
    "        # group on the basis of Month to get the average Volume\n",
    "        y = df.groupby('Month')['Volume'].mean()\n",
    "\n",
    "        # y[y>=2000000].index :  it will list month number where Volume is >=2000000\n",
    "        l1 = sorted(list(y[y>=2000000].index))\n",
    "\n",
    "        # it will list all the months\n",
    "        l2 = sorted(list(set(df['Month'])))\n",
    "\n",
    "        # if months in l1 and l2 is same, return True, else False\n",
    "        if l1 and l2:\n",
    "            return l1==l2\n",
    "        else:\n",
    "            return False\n",
    "    except:\n",
    "        return False"
   ]
  },
  {
   "cell_type": "code",
   "execution_count": 30,
   "id": "e7f26163",
   "metadata": {},
   "outputs": [
    {
     "name": "stderr",
     "output_type": "stream",
     "text": [
      "100%|███████████████████████████████████████████████████████████████████████████████| 11/11 [00:03<00:00,  3.66it/s]\n"
     ]
    }
   ],
   "source": [
    "final_tkr = []\n",
    "for tkr in tqdm(usd_tickers):\n",
    "    if get_ticker(tkr):\n",
    "        final_tkr.append(tkr)"
   ]
  },
  {
   "cell_type": "code",
   "execution_count": 31,
   "id": "15d2c9e8",
   "metadata": {},
   "outputs": [
    {
     "data": {
      "text/plain": [
       "15"
      ]
     },
     "execution_count": 31,
     "metadata": {},
     "output_type": "execute_result"
    }
   ],
   "source": [
    "len(csv_file)"
   ]
  },
  {
   "cell_type": "code",
   "execution_count": 32,
   "id": "19fe82fe",
   "metadata": {},
   "outputs": [
    {
     "data": {
      "text/plain": [
       "11"
      ]
     },
     "execution_count": 32,
     "metadata": {},
     "output_type": "execute_result"
    }
   ],
   "source": [
    "len(usd_tickers)"
   ]
  },
  {
   "cell_type": "code",
   "execution_count": 33,
   "id": "22350f4f",
   "metadata": {},
   "outputs": [
    {
     "data": {
      "text/plain": [
       "9"
      ]
     },
     "execution_count": 33,
     "metadata": {},
     "output_type": "execute_result"
    }
   ],
   "source": [
    "len(final_tkr)"
   ]
  },
  {
   "cell_type": "code",
   "execution_count": 34,
   "id": "e168ae16",
   "metadata": {},
   "outputs": [
    {
     "data": {
      "text/plain": [
       "['AAPL', 'ABBV', 'LOW', 'HOOD', 'AMZN', 'AXP', 'BAC', 'BK', 'SQ']"
      ]
     },
     "execution_count": 34,
     "metadata": {},
     "output_type": "execute_result"
    }
   ],
   "source": [
    "final_tkr"
   ]
  },
  {
   "cell_type": "code",
   "execution_count": 35,
   "id": "172e385d",
   "metadata": {},
   "outputs": [
    {
     "data": {
      "text/plain": [
       "['ACRV',\n",
       " 'AAPL',\n",
       " 'ABBV',\n",
       " 'LOW',\n",
       " 'HOOD',\n",
       " 'AMZN',\n",
       " 'AXP',\n",
       " 'BAC',\n",
       " 'BMBL',\n",
       " 'BK',\n",
       " 'SQ']"
      ]
     },
     "execution_count": 35,
     "metadata": {},
     "output_type": "execute_result"
    }
   ],
   "source": [
    "usd_tickers"
   ]
  },
  {
   "cell_type": "code",
   "execution_count": null,
   "id": "45e73358",
   "metadata": {},
   "outputs": [],
   "source": []
  }
 ],
 "metadata": {
  "kernelspec": {
   "display_name": "Python 3 (ipykernel)",
   "language": "python",
   "name": "python3"
  },
  "language_info": {
   "codemirror_mode": {
    "name": "ipython",
    "version": 3
   },
   "file_extension": ".py",
   "mimetype": "text/x-python",
   "name": "python",
   "nbconvert_exporter": "python",
   "pygments_lexer": "ipython3",
   "version": "3.9.12"
  }
 },
 "nbformat": 4,
 "nbformat_minor": 5
}
