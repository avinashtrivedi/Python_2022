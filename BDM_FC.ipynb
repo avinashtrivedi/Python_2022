{
 "cells": [
  {
   "cell_type": "markdown",
   "metadata": {
    "id": "AsSA0dIMNznB"
   },
   "source": [
    "# Information Retrieval from Web Scraping\n",
    "\n",
    "This follows our in class scenarios for scraping sculpture data from Smithsonian Institution. Recall our story as follows: one of our colleagues in the environmental science program was calling for assistance in extract the Smithsonian Institution's database of outdoor sculptures available at the following link:\n",
    "\n",
    "https://collections.si.edu/search/results.htm?view=&dsort=&date.slider=&fq=object_type%3A%22Outdoor+sculpture%22&fq=data_source%3A%22Art+Inventories+Catalog%2C+Smithsonian+American+Art+Museum%22&q=\n",
    "\n",
    "We have scraped all the result pages from the website, and stored them as ([Base64](https://docs.python.org/3/library/base64.html#base64.b64decode) encoded HTML contents (one page per line).\n",
    "\n",
    "Your task is to help us parse these contents and transform each record on the page into a JSON object using DataProc + PySpark. A record is **`div`** tag with the class name **`record`** (as a CSS selector of `div.record`).\n",
    "\n",
    "The JSON object should have the following structure for keys and values.\n",
    "\n",
    " * **`Label`**: a string that store the title of the record (the text of the **`h2`** tag)\n",
    " * Key/value pairs are extracted from the **`dl`** tag of the record, where each key is the text of the **`dt`** tag, and each value is a list of all **`dd`** tag. More information on the description list can be found here [`dl`](https://www.w3schools.com/tags/tag_dl.asp).\n",
    "\n",
    "Note that we do not want to include records with `'Owner/Location'` listed as either `'Unlocated'`, `'Destroyed'`, `'Stolen'` or `'Anonymous Collection'`.\n",
    "\n",
    "**INPUT:** the data is available on our class storage bucket (which can be read directly by PySpark).\n",
    "\n",
    "**`gs://f22-csc-445/si_by_place.b64.gz`**\n",
    "\n",
    "A copy of the data is also available on Google Drive for your inspection (please check out the first cell below).\n",
    "\n",
    "**OUTPUT:** You must output 1 JSON line per input record if the sculpture is not classified as `'Unlocated'`, `'Destroyed'`, `'Stolen'` or `'Anonymous Collection'`. The output should be written to **`gs://f22-csc-445-fc/output-<EMPLID>_<LastName>`**.\n",
    "\n",
    "Sample output for each line (already prettified for readability):\n",
    "```JavaScript\n",
    "{'Label': \"Old Testament Children's Doors, (sculpture)\",\n",
    " 'Sculptor': ['Moore, Bruce 1905-1980'],\n",
    " 'Architect': ['Fox, William B.'],\n",
    " 'Founder': ['Modern Art Foundry', 'Associated Ironworkers'],\n",
    " 'Medium': ['Bronze'],\n",
    " 'Culture': ['French'],\n",
    " 'Type': ['Sculptures-Outdoor Sculpture', 'Sculptures-Door', 'Sculptures'],\n",
    " 'Owner/Location': ['Administered by Episcopal Diocese of California 1051 Taylor Street San Francisco California 94108',\n",
    "  'Located Grace Cathedral Taylor & California Streets Entrance to south tower San Francisco California'],\n",
    " 'Date': ['1964'],\n",
    " 'Topic': ['Religion--Old Testament--Joseph',\n",
    "  'Religion--Old Testament--Moses',\n",
    "  'Religion--Old Testament--Samuel',\n",
    "  'Religion--Old Testament--David',\n",
    "  'Religion--Old Testament--Goliath',\n",
    "  'Religion--Old Testament--Eli',\n",
    "  'Allegory--Arts & Sciences--Industry',\n",
    "  'Allegory--Quality--Fortitude',\n",
    "  'Religion--Saint--St. Joan of Arc',\n",
    "  'Occupation--Military--Commander',\n",
    "  'Ethnic',\n",
    "  'History--Medieval--France'],\n",
    " 'Control number': ['IAS CA000992'],\n",
    " 'Data Source': ['Art Inventories Catalog, Smithsonian American Art Museums'],\n",
    " 'EDAN-URL': ['edanmdm:siris_ari_331668']}\n",
    "```\n",
    "\n",
    "**SUBMISSION:**\n",
    "Similar to Homework 3, your submission include 2 files:\n",
    "1.  A notebook named BDM_FC_<EMPL_ID>_<LastName>.ipynb to show that your script can run successfully on the cluster (use the directive %%writefile to store your script contents there)\n",
    "\n",
    "2. A stand-alone Python file BDM_FC_<EMPL_ID>_<LastName>.py that can be run on my cluster setup (simlar to yours) using the following command:\n",
    "```bash\n",
    "gcloud --quiet dataproc jobs submit pyspark --cluster bdm-fc <YOUR_FILE.PY>\n",
    "```\n",
    "\n",
    "**CLUSTER CONFIGURATION:**\n",
    "The cluster `bdm-fc` will be created with the BeautifulSoup [`bs4`](https://www.crummy.com/software/BeautifulSoup/bs4/doc/) package for your convenience. If you need additional packages to run your task please specify that in your submission.\n",
    "\n",
    "Instructions for configurating your cluster with additional packages is available [here](https://cloud.google.com/dataproc/docs/tutorials/python-configuration).\n",
    "\n",
    "##🔴 IMPORTANT\n",
    "You CANNOT `collect()` (or `take()` and the like) data at any stage of your pipeline (to retrieve data to your driver code). You MUST process the data entirely using Spark's transformations. After all, this is expected to be a big data problem where we \"bring compute to data\".\n",
    "\n",
    "##✔️ SANITY CHECK:\n",
    "**83,170** records (after filter) in total"
   ]
  },
  {
   "cell_type": "markdown",
   "metadata": {
    "id": "Qi5EMPaX6uGa"
   },
   "source": [
    "# Data download"
   ]
  },
  {
   "cell_type": "code",
   "execution_count": 1,
   "metadata": {
    "id": "ozEACpiCPhw4"
   },
   "outputs": [
    {
     "name": "stderr",
     "output_type": "stream",
     "text": [
      "UsageError: Cell magic `%%shell` not found.\n"
     ]
    }
   ],
   "source": [
    "%%shell\n",
    "gdown \"1--4kNCWgMnHogQP_wFx_XQVYWFgDHjVf&confirm=t\"\n",
    "gunzip si_by_place.b64.gz"
   ]
  },
  {
   "cell_type": "markdown",
   "metadata": {
    "id": "z0gNfDb67SBR"
   },
   "source": [
    "# Your work"
   ]
  },
  {
   "cell_type": "code",
   "execution_count": null,
   "metadata": {
    "id": "uf1Bik7naf-o"
   },
   "outputs": [],
   "source": [
    "%%writefile BDM_FC_.py\n",
    "\n",
    "import json\n",
    "import pyspark\n",
    "import base64\n",
    "from bs4 import BeautifulSoup\n",
    "import pyspark\n",
    "\n"
   ]
  },
  {
   "cell_type": "code",
   "execution_count": 9,
   "metadata": {},
   "outputs": [
    {
     "name": "stdout",
     "output_type": "stream",
     "text": [
      "----\n",
      "Elsie\n",
      "----\n",
      "Lacie\n",
      "----\n",
      "Tillie\n"
     ]
    }
   ],
   "source": [
    "from bs4 import BeautifulSoup\n",
    "\n",
    "html_doc = '''<p class=\"story\">\n",
    "    Once upon a time there were three little sisters; and their names were\n",
    "    <a class=\"sister\" href=\"http://example.com/elsie\" id=\"link1\">\n",
    "     Elsie\n",
    "    </a>\n",
    "    ,\n",
    "    <a class=\"sister\" href=\"http://example.com/lacie\" id=\"link2\">\n",
    "     Lacie\n",
    "    </a>\n",
    "    and\n",
    "    <a class=\"sister\" href=\"http://example.com/tillie\" id=\"link2\">\n",
    "     Tillie\n",
    "    </a>\n",
    "    ; and they lived at the bottom of a well.\n",
    "   </p>'''\n",
    "\n",
    "soup = BeautifulSoup(html_doc, 'html.parser')\n",
    "sistertags = soup.find_all(class_='sister')\n",
    "for tag in sistertags:\n",
    "    print('----')\n",
    "    print(tag.text.strip())"
   ]
  },
  {
   "cell_type": "code",
   "execution_count": 3,
   "metadata": {},
   "outputs": [
    {
     "data": {
      "text/plain": [
       "[<a class=\"sister\" href=\"http://example.com/elsie\" id=\"link1\">\n",
       "      Elsie\n",
       "     </a>,\n",
       " <a class=\"sister\" href=\"http://example.com/lacie\" id=\"link2\">\n",
       "      Lacie\n",
       "     </a>,\n",
       " <a class=\"sister\" href=\"http://example.com/tillie\" id=\"link2\">\n",
       "      Tillie\n",
       "     </a>]"
      ]
     },
     "execution_count": 3,
     "metadata": {},
     "output_type": "execute_result"
    }
   ],
   "source": [
    "sistertags"
   ]
  },
  {
   "cell_type": "code",
   "execution_count": null,
   "metadata": {},
   "outputs": [],
   "source": []
  }
 ],
 "metadata": {
  "colab": {
   "provenance": [],
   "toc_visible": true
  },
  "kernelspec": {
   "display_name": "Python 3 (ipykernel)",
   "language": "python",
   "name": "python3"
  },
  "language_info": {
   "codemirror_mode": {
    "name": "ipython",
    "version": 3
   },
   "file_extension": ".py",
   "mimetype": "text/x-python",
   "name": "python",
   "nbconvert_exporter": "python",
   "pygments_lexer": "ipython3",
   "version": "3.9.12"
  }
 },
 "nbformat": 4,
 "nbformat_minor": 1
}
