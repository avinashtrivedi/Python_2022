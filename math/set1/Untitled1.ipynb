{
 "cells": [
  {
   "cell_type": "code",
   "execution_count": 1,
   "id": "3f027dbd",
   "metadata": {},
   "outputs": [],
   "source": [
    "docFileName = 'docs.txt'\n",
    "queryFileName = 'queries.txt'"
   ]
  },
  {
   "cell_type": "code",
   "execution_count": 2,
   "id": "18eebfbf",
   "metadata": {},
   "outputs": [],
   "source": [
    "def readLines(fileName):\n",
    "    try:\n",
    "        file = open(fileName, 'r')\n",
    "        lines = file.readlines()\n",
    "        file.close()\n",
    "        return lines\n",
    "    except:\n",
    "        print(\"File {} Not Found\".format(fileName))\n",
    "        quit()"
   ]
  },
  {
   "cell_type": "code",
   "execution_count": 3,
   "id": "e3f0b07e",
   "metadata": {},
   "outputs": [],
   "source": [
    "docs = readLines(docFileName)\n",
    "queries = readLines(queryFileName)"
   ]
  },
  {
   "cell_type": "code",
   "execution_count": 4,
   "id": "da4d5e37",
   "metadata": {},
   "outputs": [],
   "source": [
    "# Create Vector of docs\n",
    "docVectors = []\n",
    "for doc in docs:\n",
    "    docWords = doc.strip().split()\n",
    "    docVectors.append({key: docWords.count(key) for key in docWords})"
   ]
  },
  {
   "cell_type": "code",
   "execution_count": 5,
   "id": "0bb3df92",
   "metadata": {},
   "outputs": [],
   "source": [
    "dictionary = {}\n",
    "for docVector in docVectors:\n",
    "    for key in docVector:\n",
    "        dictionary[key] = dictionary.get(key, 0) + docVector[key]"
   ]
  },
  {
   "cell_type": "code",
   "execution_count": 6,
   "id": "227f077e",
   "metadata": {},
   "outputs": [],
   "source": [
    "def get_inverted_index(dictionary, docs):\n",
    "    inverted = {}\n",
    "    for x in dictionary:\n",
    "        inverted[x] = []\n",
    "        for i in range(1, len(docs)+1):\n",
    "            if x in docs[i-1]:\n",
    "                inverted[x].append(i)\n",
    "    return inverted\n",
    "# 2. Building Inverted Index\n",
    "invert_index = get_inverted_index(dictionary, docs)"
   ]
  },
  {
   "cell_type": "code",
   "execution_count": null,
   "id": "427b9560",
   "metadata": {},
   "outputs": [],
   "source": []
  }
 ],
 "metadata": {
  "kernelspec": {
   "display_name": "Python 3 (ipykernel)",
   "language": "python",
   "name": "python3"
  },
  "language_info": {
   "codemirror_mode": {
    "name": "ipython",
    "version": 3
   },
   "file_extension": ".py",
   "mimetype": "text/x-python",
   "name": "python",
   "nbconvert_exporter": "python",
   "pygments_lexer": "ipython3",
   "version": "3.8.5"
  }
 },
 "nbformat": 4,
 "nbformat_minor": 5
}
