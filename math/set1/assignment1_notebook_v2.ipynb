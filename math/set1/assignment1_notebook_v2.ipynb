{
 "cells": [
  {
   "cell_type": "markdown",
   "metadata": {},
   "source": [
    "# <span style=\"color:#0b486b\">SIT 112 - Data Science Concepts - Assignment 1</span>\n",
    "\n",
    "---\n",
    "Lecturer: Sergiy Shelyag | sergiy.shelyag@deakin.edu.au<br />\n",
    "\n",
    "School of Information Technology, <br />\n",
    "Deakin University, VIC 3215, Australia.\n",
    "\n",
    "### <span style=\"color:#0b486b\">Due: 8pm, Thursday 14th April 2022</span>\n",
    "\n",
    "---"
   ]
  },
  {
   "cell_type": "markdown",
   "metadata": {},
   "source": [
    "### <span style=\"color:#0b486b\">Instructions</span>\n",
    "\n",
    "This notebook has been prepared for you to complete Assignment 1. Some sections have been pre-filled  to help you get started. **The total mark for this data analytics task is 65**.\n",
    "\n",
    "1. Before you start, read the entire notebook carefully to understand what you need to do. You should also refer to the main instructions in *Assignment1_instructions.pdf*  to know what else you need to complete for this assignment.\n",
    "2. For each cell marked with *#INSERT YOUR CODE HERE*, you must write your own code in this cell.\n",
    "3. For each cell marked with *#INSERT YOUR COMMENT HERE*, you must write your own **detailed** explanatory comment in this cell.\n",
    "4. Just before submission, you must **restart the kernel (Kernel->Restart and clear output)**, run the entire notebook and submit two files:\n",
    " 1. The source of your solution notebook (download through File -> Download As -> Notebook) : [YourID]_assignment1_solution.ipynb\n",
    " 2. And an exported version of your output (download through File -> Download As -> html) : [YourID]_assignment1_output.html  \n",
    "       \n",
    "For example, if your student ID is 123456, then you need submit two files:\n",
    "\n",
    "1. **123456_assignment1_solution.ipynb**\n",
    "2. and **123456_assignment1_output.html**\n",
    "\n",
    "As you go through this notebook:\n",
    "\n",
    "* markdown cells marked with **Note** mean description sections.\n",
    "* markdown cells marked with **Instructions** mean the instructions given to you to complete the sections.\n",
    "\n",
    "Instructions 5 and 6 are for students aiming at D/HD level. These instructions will not be accepted without Instructions 1-4 attempted. Note there are two \"very top HD research question\" tasks (Instruction 5 task 7; Instruction 6 task 8), which do not have strict formulations and require top HD level advanced ability to analyse and repurpose data (SIT112 ULO1) as well as top HD level advanced ability to apply critical thinking to understand and visualise relationships in data (SIT112 ULO2).\n",
    "\n",
    "***If an instruction is not clear, please contact the unit chair or the teaching team as soon as possible.***\n",
    "\n",
    "***No manual data entry is allowed. Tasks with data entered manually as numbers will be marked at 0.***"
   ]
  },
  {
   "cell_type": "code",
   "execution_count": 27,
   "metadata": {},
   "outputs": [],
   "source": [
    "#\n",
    "# Import packages needed for processing\n",
    "#\n",
    "import numpy as np   # import the numpy package\n",
    "import csv           # this package needed for processing csv file\n",
    "from collections import Counter  # this is for dictionary construction with counting functionality\n",
    "import matplotlib.pyplot as plt  # this is for plotting and other descriptive statistics\n",
    "import datetime      # this package is for handling time\n",
    "#\n",
    "# If you need add any additional packages, then add them below this line\n",
    "#\n",
    "\n"
   ]
  },
  {
   "cell_type": "markdown",
   "metadata": {},
   "source": [
    "**Note**: you must place your data file in the same folder with your notebook."
   ]
  },
  {
   "cell_type": "code",
   "execution_count": 28,
   "metadata": {},
   "outputs": [],
   "source": [
    "# Declare the path to the data file\n",
    "DATA_FILE = \"owid-covid-data.csv\""
   ]
  },
  {
   "cell_type": "markdown",
   "metadata": {},
   "source": [
    "**Note**. The following segment of codes is to load the data from the .csv file using csv package. It has been provided for you to get started. Please **do not** change this piece of code as well the variable names as we will need these variables to complete subsequent tasks. "
   ]
  },
  {
   "cell_type": "code",
   "execution_count": 29,
   "metadata": {},
   "outputs": [
    {
     "name": "stdout",
     "output_type": "stream",
     "text": [
      "dict_keys(['iso_code', 'continent', 'location', 'date', 'total_cases', 'new_cases', 'new_cases_smoothed', 'total_deaths', 'new_deaths', 'new_deaths_smoothed', 'total_cases_per_million', 'new_cases_per_million', 'new_cases_smoothed_per_million', 'total_deaths_per_million', 'new_deaths_per_million', 'new_deaths_smoothed_per_million', 'reproduction_rate', 'icu_patients', 'icu_patients_per_million', 'hosp_patients', 'hosp_patients_per_million', 'weekly_icu_admissions', 'weekly_icu_admissions_per_million', 'weekly_hosp_admissions', 'weekly_hosp_admissions_per_million', 'total_tests', 'new_tests', 'total_tests_per_thousand', 'new_tests_per_thousand', 'new_tests_smoothed', 'new_tests_smoothed_per_thousand', 'positive_rate', 'tests_per_case', 'tests_units', 'total_vaccinations', 'people_vaccinated', 'people_fully_vaccinated', 'total_boosters', 'new_vaccinations', 'new_vaccinations_smoothed', 'total_vaccinations_per_hundred', 'people_vaccinated_per_hundred', 'people_fully_vaccinated_per_hundred', 'total_boosters_per_hundred', 'new_vaccinations_smoothed_per_million', 'new_people_vaccinated_smoothed', 'new_people_vaccinated_smoothed_per_hundred', 'stringency_index', 'population', 'population_density', 'median_age', 'aged_65_older', 'aged_70_older', 'gdp_per_capita', 'extreme_poverty', 'cardiovasc_death_rate', 'diabetes_prevalence', 'female_smokers', 'male_smokers', 'handwashing_facilities', 'hospital_beds_per_thousand', 'life_expectancy', 'human_development_index', 'excess_mortality_cumulative_absolute', 'excess_mortality_cumulative', 'excess_mortality', 'excess_mortality_cumulative_per_million'])\n"
     ]
    }
   ],
   "source": [
    "# Load CSV file using DictReader\n",
    "input_file = csv.DictReader(open(DATA_FILE))\n",
    "fieldnames = input_file.fieldnames\n",
    "data_dict = {fn: [] for fn in fieldnames}\n",
    "print(data_dict.keys())\n",
    "for line in input_file:\n",
    "    for k, v in line.items():\n",
    "        if (v == ''): #quick fix for missing values\n",
    "            v=0\n",
    "        try:\n",
    "            data_dict[k].append(int(v))\n",
    "        except ValueError:\n",
    "            try:\n",
    "                data_dict[k].append(float(v))\n",
    "            except ValueError:\n",
    "                data_dict[k].append(v)\n",
    "                \n",
    "for k, v in data_dict.items():\n",
    "    data_dict[k] = np.array(v)"
   ]
  },
  {
   "cell_type": "markdown",
   "metadata": {},
   "source": [
    "---\n",
    "## **Instruction 1**\n",
    "We first examine the variables and the overall data size. The tasks:\n",
    "\n",
    "1. Write your code to print the type for the following variables (**4 marks**):\n",
    "    * input_file\n",
    "    * data_dict\n",
    "    * data_dict['continent']\n",
    "    * data_dict['total_cases_per_million']\n",
    "\n",
    "\n",
    "2. Write your code to print out the number of data records (**1 mark**):\n",
    "\n",
    "[**Total mark: 5**]"
   ]
  },
  {
   "cell_type": "code",
   "execution_count": 30,
   "metadata": {
    "scrolled": false
   },
   "outputs": [
    {
     "name": "stdout",
     "output_type": "stream",
     "text": [
      "The type is <class 'csv.DictReader'>\n",
      "The type is <class 'dict'>\n",
      "The type is <class 'numpy.ndarray'>\n",
      "The type is <class 'numpy.ndarray'>\n"
     ]
    }
   ],
   "source": [
    "# INSERT YOUR CODE HERE\n",
    "#\n",
    "#1. Write you code to print the type for the following variables:\n",
    "#    * input_file\n",
    "#    * data_dict\n",
    "#    * data_dict['continent']\n",
    "#    * data_dict['total_cases_per_million']\n",
    "#\n",
    "print(\"The type is\", type(input_file))\n",
    "print(\"The type is\", type(data_dict))\n",
    "print(\"The type is\", type(data_dict['continent']))\n",
    "print(\"The type is\", type(data_dict['total_cases_per_million']))"
   ]
  },
  {
   "cell_type": "code",
   "execution_count": 31,
   "metadata": {},
   "outputs": [
    {
     "name": "stdout",
     "output_type": "stream",
     "text": [
      "The number of data records is: 171588\n"
     ]
    }
   ],
   "source": [
    "# INSERT YOUR CODE HERE\n",
    "#\n",
    "# 2. Write your code to print out the number of data records\n",
    "# len(data_dict['continent'])\n",
    "\n",
    "datacount = 0\n",
    "for llpkjk in open(\"owid-covid-data.csv\"):\n",
    "    datacount += 1\n",
    "\n",
    "print(\"The number of data records is:\", datacount)"
   ]
  },
  {
   "cell_type": "markdown",
   "metadata": {},
   "source": [
    "---\n",
    "## Instruction 2\n",
    "The following code segment is designed to calculate some basic statistics from the data for a recent date. The data is stored in **data_filtered_by_date** dictionary. Use this variable in the tasks for this instruction.\n",
    "\n",
    "**Your task:**\n",
    "1. Learn how the code, which extracts the data for all countries at a required date, works. Why **try-except** construction is required in this code? Provide the answer. (**2 marks**)\n",
    "1. Write your code to find and print the minimum and the maximum values of mortality per million in the **total_deaths_per_million** column. (**1 mark**)\n",
    "2. Write your code to find and print the minimum and the maximum values of cases per million in the **total_cases_per_million** column. (**1 mark**)\n",
    "3. Write your code to find and print the mean and median mortality per million, and the standard deviation from the **total_deaths_per_million** column. (**2 marks**)\n",
    "4. Write your code to construct a box plot for the **total_deaths_per_million**. (**2 marks**) \n",
    "4. You will find that mean and median values for mortality are quite different. Briefly describe the meaning of the difference between the mean and median mortality per million. Explain in detail, why are they different? (**2 marks**)\n",
    "\n",
    "**[Total mark: 10]**"
   ]
  },
  {
   "cell_type": "code",
   "execution_count": 32,
   "metadata": {},
   "outputs": [],
   "source": [
    "# THIS PART EXTRACTS THE DATA FOR ALL COUNTRIES AT A REQUIRED DATE.\n",
    "# LEARN HOW IT WORKS.\n",
    "# data_filtered_by_date DICTIONARY CONTAINS ALL DATA FOR ALL COUNTRIES AT required_date\n",
    "import pandas as pd\n",
    "required_date = '2022-03-14'\n",
    "\n",
    "index_for_date = (data_dict['date'] == required_date)\n",
    "data_filtered_by_date = {}\n",
    "for key in data_dict.keys():\n",
    "    try:\n",
    "        data_filtered_by_date[key] = np.float_(data_dict[key][index_for_date])\n",
    "    except:\n",
    "        data_filtered_by_date[key] = data_dict[key][index_for_date]"
   ]
  },
  {
   "cell_type": "code",
   "execution_count": 33,
   "metadata": {},
   "outputs": [],
   "source": [
    "# 1. Why **try-except** construction is required in this code? (2 marks)\n",
    "# INSERT YOUR ANSWER HERE\n",
    "# it is to handle the conversion of string to float. or any other value error."
   ]
  },
  {
   "cell_type": "code",
   "execution_count": 34,
   "metadata": {},
   "outputs": [
    {
     "name": "stdout",
     "output_type": "stream",
     "text": [
      "The minimum total deaths per million is: 0.0\n",
      "The maximum total deaths per million is: 6342.407\n"
     ]
    }
   ],
   "source": [
    "# INSERT YOUR CODE HERE\n",
    "#\n",
    "# 2. Write your code to find and print the minimum and the maximum values of mortality \n",
    "#    per million (key name 'total_deaths_per_million'). (1 mark)\n",
    "#\n",
    "df = pd.DataFrame(data_dict)\n",
    "df_small = df[df['date'] == '2022-03-14']\n",
    "print(\"The minimum total deaths per million is:\", min(df_small['total_deaths_per_million']))\n",
    "print(\"The maximum total deaths per million is:\", max(df_small['total_deaths_per_million']))\n"
   ]
  },
  {
   "cell_type": "code",
   "execution_count": 35,
   "metadata": {},
   "outputs": [
    {
     "name": "stdout",
     "output_type": "stream",
     "text": [
      "The minimum cases deaths per million is: 0.0\n",
      "The maximum cases deaths per million is: 706541.904\n"
     ]
    }
   ],
   "source": [
    "# INSERT YOUR CODE HERE\n",
    "#\n",
    "# 3. Write your code to find and print the minimum and the maximum values of total cases per million \n",
    "# in the total_cases_per_million column. (1 mark)\n",
    "\n",
    "print(\"The minimum cases deaths per million is:\", min(df_small['total_cases_per_million']))\n",
    "print(\"The maximum cases deaths per million is:\", max(df_small['total_cases_per_million']))\n"
   ]
  },
  {
   "cell_type": "code",
   "execution_count": 36,
   "metadata": {},
   "outputs": [
    {
     "name": "stdout",
     "output_type": "stream",
     "text": [
      "The mean total deaths per million is 1065.7499870689664\n",
      "The median total deaths per million is 619.391\n",
      "The mean total deaths per million is 1183.5469574158567\n"
     ]
    }
   ],
   "source": [
    "# INSERT YOUR CODE HERE\n",
    "# 4. Write your code to find and print the mean and median mortality per million, and the standard \n",
    "# deviation from the total_deaths_per_million column. (2 marks)\n",
    "\n",
    "print(\"The mean total deaths per million is\", np.mean(df_small['total_deaths_per_million']))\n",
    "print(\"The median total deaths per million is\", np.median(df_small['total_deaths_per_million']))\n",
    "print(\"The mean total deaths per million is\", np.std(df_small['total_deaths_per_million']))"
   ]
  },
  {
   "cell_type": "code",
   "execution_count": 37,
   "metadata": {},
   "outputs": [
    {
     "data": {
      "text/html": [
       "<div>\n",
       "<style scoped>\n",
       "    .dataframe tbody tr th:only-of-type {\n",
       "        vertical-align: middle;\n",
       "    }\n",
       "\n",
       "    .dataframe tbody tr th {\n",
       "        vertical-align: top;\n",
       "    }\n",
       "\n",
       "    .dataframe thead th {\n",
       "        text-align: right;\n",
       "    }\n",
       "</style>\n",
       "<table border=\"1\" class=\"dataframe\">\n",
       "  <thead>\n",
       "    <tr style=\"text-align: right;\">\n",
       "      <th></th>\n",
       "      <th>iso_code</th>\n",
       "      <th>continent</th>\n",
       "      <th>location</th>\n",
       "      <th>date</th>\n",
       "      <th>total_cases</th>\n",
       "      <th>new_cases</th>\n",
       "      <th>new_cases_smoothed</th>\n",
       "      <th>total_deaths</th>\n",
       "      <th>new_deaths</th>\n",
       "      <th>new_deaths_smoothed</th>\n",
       "      <th>...</th>\n",
       "      <th>female_smokers</th>\n",
       "      <th>male_smokers</th>\n",
       "      <th>handwashing_facilities</th>\n",
       "      <th>hospital_beds_per_thousand</th>\n",
       "      <th>life_expectancy</th>\n",
       "      <th>human_development_index</th>\n",
       "      <th>excess_mortality_cumulative_absolute</th>\n",
       "      <th>excess_mortality_cumulative</th>\n",
       "      <th>excess_mortality</th>\n",
       "      <th>excess_mortality_cumulative_per_million</th>\n",
       "    </tr>\n",
       "  </thead>\n",
       "  <tbody>\n",
       "    <tr>\n",
       "      <th>749</th>\n",
       "      <td>AFG</td>\n",
       "      <td>Asia</td>\n",
       "      <td>Afghanistan</td>\n",
       "      <td>2022-03-14</td>\n",
       "      <td>176409.0</td>\n",
       "      <td>208.0</td>\n",
       "      <td>201.286</td>\n",
       "      <td>7645.0</td>\n",
       "      <td>2.0</td>\n",
       "      <td>2.714</td>\n",
       "      <td>...</td>\n",
       "      <td>0.000</td>\n",
       "      <td>0.000</td>\n",
       "      <td>37.746</td>\n",
       "      <td>0.500</td>\n",
       "      <td>64.83</td>\n",
       "      <td>0.511</td>\n",
       "      <td>0.0</td>\n",
       "      <td>0.0</td>\n",
       "      <td>0.0</td>\n",
       "      <td>0.0</td>\n",
       "    </tr>\n",
       "    <tr>\n",
       "      <th>1523</th>\n",
       "      <td>OWID_AFR</td>\n",
       "      <td>0</td>\n",
       "      <td>Africa</td>\n",
       "      <td>2022-03-14</td>\n",
       "      <td>11433679.0</td>\n",
       "      <td>2222.0</td>\n",
       "      <td>8436.571</td>\n",
       "      <td>250927.0</td>\n",
       "      <td>40.0</td>\n",
       "      <td>65.857</td>\n",
       "      <td>...</td>\n",
       "      <td>0.000</td>\n",
       "      <td>0.000</td>\n",
       "      <td>0.000</td>\n",
       "      <td>0.000</td>\n",
       "      <td>0.00</td>\n",
       "      <td>0.000</td>\n",
       "      <td>0.0</td>\n",
       "      <td>0.0</td>\n",
       "      <td>0.0</td>\n",
       "      <td>0.0</td>\n",
       "    </tr>\n",
       "    <tr>\n",
       "      <th>2285</th>\n",
       "      <td>ALB</td>\n",
       "      <td>Europe</td>\n",
       "      <td>Albania</td>\n",
       "      <td>2022-03-14</td>\n",
       "      <td>272689.0</td>\n",
       "      <td>26.0</td>\n",
       "      <td>62.714</td>\n",
       "      <td>3485.0</td>\n",
       "      <td>0.0</td>\n",
       "      <td>0.286</td>\n",
       "      <td>...</td>\n",
       "      <td>7.100</td>\n",
       "      <td>51.200</td>\n",
       "      <td>0.000</td>\n",
       "      <td>2.890</td>\n",
       "      <td>78.57</td>\n",
       "      <td>0.795</td>\n",
       "      <td>0.0</td>\n",
       "      <td>0.0</td>\n",
       "      <td>0.0</td>\n",
       "      <td>0.0</td>\n",
       "    </tr>\n",
       "    <tr>\n",
       "      <th>3047</th>\n",
       "      <td>DZA</td>\n",
       "      <td>Africa</td>\n",
       "      <td>Algeria</td>\n",
       "      <td>2022-03-14</td>\n",
       "      <td>265457.0</td>\n",
       "      <td>25.0</td>\n",
       "      <td>22.857</td>\n",
       "      <td>6866.0</td>\n",
       "      <td>2.0</td>\n",
       "      <td>1.286</td>\n",
       "      <td>...</td>\n",
       "      <td>0.700</td>\n",
       "      <td>30.400</td>\n",
       "      <td>83.741</td>\n",
       "      <td>1.900</td>\n",
       "      <td>76.88</td>\n",
       "      <td>0.748</td>\n",
       "      <td>0.0</td>\n",
       "      <td>0.0</td>\n",
       "      <td>0.0</td>\n",
       "      <td>0.0</td>\n",
       "    </tr>\n",
       "    <tr>\n",
       "      <th>3803</th>\n",
       "      <td>AND</td>\n",
       "      <td>Europe</td>\n",
       "      <td>Andorra</td>\n",
       "      <td>2022-03-14</td>\n",
       "      <td>38794.0</td>\n",
       "      <td>0.0</td>\n",
       "      <td>24.857</td>\n",
       "      <td>152.0</td>\n",
       "      <td>0.0</td>\n",
       "      <td>0.143</td>\n",
       "      <td>...</td>\n",
       "      <td>29.000</td>\n",
       "      <td>37.800</td>\n",
       "      <td>0.000</td>\n",
       "      <td>0.000</td>\n",
       "      <td>83.73</td>\n",
       "      <td>0.868</td>\n",
       "      <td>0.0</td>\n",
       "      <td>0.0</td>\n",
       "      <td>0.0</td>\n",
       "      <td>0.0</td>\n",
       "    </tr>\n",
       "    <tr>\n",
       "      <th>...</th>\n",
       "      <td>...</td>\n",
       "      <td>...</td>\n",
       "      <td>...</td>\n",
       "      <td>...</td>\n",
       "      <td>...</td>\n",
       "      <td>...</td>\n",
       "      <td>...</td>\n",
       "      <td>...</td>\n",
       "      <td>...</td>\n",
       "      <td>...</td>\n",
       "      <td>...</td>\n",
       "      <td>...</td>\n",
       "      <td>...</td>\n",
       "      <td>...</td>\n",
       "      <td>...</td>\n",
       "      <td>...</td>\n",
       "      <td>...</td>\n",
       "      <td>...</td>\n",
       "      <td>...</td>\n",
       "      <td>...</td>\n",
       "      <td>...</td>\n",
       "    </tr>\n",
       "    <tr>\n",
       "      <th>168582</th>\n",
       "      <td>WLF</td>\n",
       "      <td>Oceania</td>\n",
       "      <td>Wallis and Futuna</td>\n",
       "      <td>2022-03-14</td>\n",
       "      <td>454.0</td>\n",
       "      <td>0.0</td>\n",
       "      <td>0.000</td>\n",
       "      <td>7.0</td>\n",
       "      <td>0.0</td>\n",
       "      <td>0.000</td>\n",
       "      <td>...</td>\n",
       "      <td>0.000</td>\n",
       "      <td>0.000</td>\n",
       "      <td>0.000</td>\n",
       "      <td>0.000</td>\n",
       "      <td>79.94</td>\n",
       "      <td>0.000</td>\n",
       "      <td>0.0</td>\n",
       "      <td>0.0</td>\n",
       "      <td>0.0</td>\n",
       "      <td>0.0</td>\n",
       "    </tr>\n",
       "    <tr>\n",
       "      <th>169378</th>\n",
       "      <td>OWID_WRL</td>\n",
       "      <td>0</td>\n",
       "      <td>World</td>\n",
       "      <td>2022-03-14</td>\n",
       "      <td>460087858.0</td>\n",
       "      <td>1735100.0</td>\n",
       "      <td>1713753.857</td>\n",
       "      <td>6046599.0</td>\n",
       "      <td>4210.0</td>\n",
       "      <td>5853.571</td>\n",
       "      <td>...</td>\n",
       "      <td>6.434</td>\n",
       "      <td>34.635</td>\n",
       "      <td>60.130</td>\n",
       "      <td>2.705</td>\n",
       "      <td>72.58</td>\n",
       "      <td>0.737</td>\n",
       "      <td>0.0</td>\n",
       "      <td>0.0</td>\n",
       "      <td>0.0</td>\n",
       "      <td>0.0</td>\n",
       "    </tr>\n",
       "    <tr>\n",
       "      <th>170095</th>\n",
       "      <td>YEM</td>\n",
       "      <td>Asia</td>\n",
       "      <td>Yemen</td>\n",
       "      <td>2022-03-14</td>\n",
       "      <td>11793.0</td>\n",
       "      <td>9.0</td>\n",
       "      <td>1.714</td>\n",
       "      <td>2139.0</td>\n",
       "      <td>0.0</td>\n",
       "      <td>0.143</td>\n",
       "      <td>...</td>\n",
       "      <td>7.600</td>\n",
       "      <td>29.200</td>\n",
       "      <td>49.542</td>\n",
       "      <td>0.700</td>\n",
       "      <td>66.12</td>\n",
       "      <td>0.470</td>\n",
       "      <td>0.0</td>\n",
       "      <td>0.0</td>\n",
       "      <td>0.0</td>\n",
       "      <td>0.0</td>\n",
       "    </tr>\n",
       "    <tr>\n",
       "      <th>170835</th>\n",
       "      <td>ZMB</td>\n",
       "      <td>Africa</td>\n",
       "      <td>Zambia</td>\n",
       "      <td>2022-03-14</td>\n",
       "      <td>315202.0</td>\n",
       "      <td>0.0</td>\n",
       "      <td>184.571</td>\n",
       "      <td>3960.0</td>\n",
       "      <td>0.0</td>\n",
       "      <td>0.143</td>\n",
       "      <td>...</td>\n",
       "      <td>3.100</td>\n",
       "      <td>24.700</td>\n",
       "      <td>13.938</td>\n",
       "      <td>2.000</td>\n",
       "      <td>63.89</td>\n",
       "      <td>0.584</td>\n",
       "      <td>0.0</td>\n",
       "      <td>0.0</td>\n",
       "      <td>0.0</td>\n",
       "      <td>0.0</td>\n",
       "    </tr>\n",
       "    <tr>\n",
       "      <th>171573</th>\n",
       "      <td>ZWE</td>\n",
       "      <td>Africa</td>\n",
       "      <td>Zimbabwe</td>\n",
       "      <td>2022-03-14</td>\n",
       "      <td>242909.0</td>\n",
       "      <td>394.0</td>\n",
       "      <td>457.000</td>\n",
       "      <td>5416.0</td>\n",
       "      <td>2.0</td>\n",
       "      <td>2.429</td>\n",
       "      <td>...</td>\n",
       "      <td>1.600</td>\n",
       "      <td>30.700</td>\n",
       "      <td>36.791</td>\n",
       "      <td>1.700</td>\n",
       "      <td>61.49</td>\n",
       "      <td>0.571</td>\n",
       "      <td>0.0</td>\n",
       "      <td>0.0</td>\n",
       "      <td>0.0</td>\n",
       "      <td>0.0</td>\n",
       "    </tr>\n",
       "  </tbody>\n",
       "</table>\n",
       "<p>232 rows × 67 columns</p>\n",
       "</div>"
      ],
      "text/plain": [
       "        iso_code continent           location        date  total_cases  \\\n",
       "749          AFG      Asia        Afghanistan  2022-03-14     176409.0   \n",
       "1523    OWID_AFR         0             Africa  2022-03-14   11433679.0   \n",
       "2285         ALB    Europe            Albania  2022-03-14     272689.0   \n",
       "3047         DZA    Africa            Algeria  2022-03-14     265457.0   \n",
       "3803         AND    Europe            Andorra  2022-03-14      38794.0   \n",
       "...          ...       ...                ...         ...          ...   \n",
       "168582       WLF   Oceania  Wallis and Futuna  2022-03-14        454.0   \n",
       "169378  OWID_WRL         0              World  2022-03-14  460087858.0   \n",
       "170095       YEM      Asia              Yemen  2022-03-14      11793.0   \n",
       "170835       ZMB    Africa             Zambia  2022-03-14     315202.0   \n",
       "171573       ZWE    Africa           Zimbabwe  2022-03-14     242909.0   \n",
       "\n",
       "        new_cases  new_cases_smoothed  total_deaths  new_deaths  \\\n",
       "749         208.0             201.286        7645.0         2.0   \n",
       "1523       2222.0            8436.571      250927.0        40.0   \n",
       "2285         26.0              62.714        3485.0         0.0   \n",
       "3047         25.0              22.857        6866.0         2.0   \n",
       "3803          0.0              24.857         152.0         0.0   \n",
       "...           ...                 ...           ...         ...   \n",
       "168582        0.0               0.000           7.0         0.0   \n",
       "169378  1735100.0         1713753.857     6046599.0      4210.0   \n",
       "170095        9.0               1.714        2139.0         0.0   \n",
       "170835        0.0             184.571        3960.0         0.0   \n",
       "171573      394.0             457.000        5416.0         2.0   \n",
       "\n",
       "        new_deaths_smoothed  ...  female_smokers  male_smokers  \\\n",
       "749                   2.714  ...           0.000         0.000   \n",
       "1523                 65.857  ...           0.000         0.000   \n",
       "2285                  0.286  ...           7.100        51.200   \n",
       "3047                  1.286  ...           0.700        30.400   \n",
       "3803                  0.143  ...          29.000        37.800   \n",
       "...                     ...  ...             ...           ...   \n",
       "168582                0.000  ...           0.000         0.000   \n",
       "169378             5853.571  ...           6.434        34.635   \n",
       "170095                0.143  ...           7.600        29.200   \n",
       "170835                0.143  ...           3.100        24.700   \n",
       "171573                2.429  ...           1.600        30.700   \n",
       "\n",
       "        handwashing_facilities  hospital_beds_per_thousand  life_expectancy  \\\n",
       "749                     37.746                       0.500            64.83   \n",
       "1523                     0.000                       0.000             0.00   \n",
       "2285                     0.000                       2.890            78.57   \n",
       "3047                    83.741                       1.900            76.88   \n",
       "3803                     0.000                       0.000            83.73   \n",
       "...                        ...                         ...              ...   \n",
       "168582                   0.000                       0.000            79.94   \n",
       "169378                  60.130                       2.705            72.58   \n",
       "170095                  49.542                       0.700            66.12   \n",
       "170835                  13.938                       2.000            63.89   \n",
       "171573                  36.791                       1.700            61.49   \n",
       "\n",
       "        human_development_index  excess_mortality_cumulative_absolute  \\\n",
       "749                       0.511                                   0.0   \n",
       "1523                      0.000                                   0.0   \n",
       "2285                      0.795                                   0.0   \n",
       "3047                      0.748                                   0.0   \n",
       "3803                      0.868                                   0.0   \n",
       "...                         ...                                   ...   \n",
       "168582                    0.000                                   0.0   \n",
       "169378                    0.737                                   0.0   \n",
       "170095                    0.470                                   0.0   \n",
       "170835                    0.584                                   0.0   \n",
       "171573                    0.571                                   0.0   \n",
       "\n",
       "        excess_mortality_cumulative  excess_mortality  \\\n",
       "749                             0.0               0.0   \n",
       "1523                            0.0               0.0   \n",
       "2285                            0.0               0.0   \n",
       "3047                            0.0               0.0   \n",
       "3803                            0.0               0.0   \n",
       "...                             ...               ...   \n",
       "168582                          0.0               0.0   \n",
       "169378                          0.0               0.0   \n",
       "170095                          0.0               0.0   \n",
       "170835                          0.0               0.0   \n",
       "171573                          0.0               0.0   \n",
       "\n",
       "        excess_mortality_cumulative_per_million  \n",
       "749                                         0.0  \n",
       "1523                                        0.0  \n",
       "2285                                        0.0  \n",
       "3047                                        0.0  \n",
       "3803                                        0.0  \n",
       "...                                         ...  \n",
       "168582                                      0.0  \n",
       "169378                                      0.0  \n",
       "170095                                      0.0  \n",
       "170835                                      0.0  \n",
       "171573                                      0.0  \n",
       "\n",
       "[232 rows x 67 columns]"
      ]
     },
     "execution_count": 37,
     "metadata": {},
     "output_type": "execute_result"
    }
   ],
   "source": [
    "df_small"
   ]
  },
  {
   "cell_type": "code",
   "execution_count": 38,
   "metadata": {},
   "outputs": [
    {
     "data": {
      "text/plain": [
       "[Text(1, 0, 'Total deaths per million')]"
      ]
     },
     "execution_count": 38,
     "metadata": {},
     "output_type": "execute_result"
    },
    {
     "data": {
      "image/png": "[encoded data removed]",
      "text/plain": [
       "<Figure size 720x360 with 1 Axes>"
      ]
     },
     "metadata": {
      "needs_background": "light"
     },
     "output_type": "display_data"
    }
   ],
   "source": [
    "# INSERT YOUR CODE HERE\n",
    "#\n",
    "# 5. Write your code to construct a box plot for the COVID mortality total_deaths_per_million.\n",
    "np.random.seed(10)\n",
    "\n",
    "x = df_small[df_small['date']=='2022-03-14']['total_deaths_per_million']\n",
    "x = x[~np.isnan(x)]\n",
    "\n",
    "fig, ax = plt.subplots(figsize=(10,5))\n",
    "\n",
    "bp = ax.boxplot(x)\n",
    "\n",
    "ax.set_xticklabels(['Total deaths per million'])\n"
   ]
  },
  {
   "cell_type": "code",
   "execution_count": 39,
   "metadata": {},
   "outputs": [
    {
     "ename": "IndentationError",
     "evalue": "unexpected indent (2648260625.py, line 7)",
     "output_type": "error",
     "traceback": [
      "\u001b[1;36m  Input \u001b[1;32mIn [39]\u001b[1;36m\u001b[0m\n\u001b[1;33m    Mean refers to the average of the given dataset \"COVID mortality per million\" and is calculated by dividing the sum of all\u001b[0m\n\u001b[1;37m    ^\u001b[0m\n\u001b[1;31mIndentationError\u001b[0m\u001b[1;31m:\u001b[0m unexpected indent\n"
     ]
    }
   ],
   "source": [
    "# INSERT YOUR COMMENT HERE\n",
    "#\n",
    "# 6. Briefly describe the meaning of the difference between the mean and median COVID mortality per million.\n",
    "# Explain in detail, why are they different? (2 marks)\n",
    "#\n",
    "\n",
    " Mean refers to the average of the given dataset \"COVID mortality per million\" and is calculated by dividing the sum of all\n",
    " values by the number of values, which gives us our mean figure. In contrast, median is calculated by ordering the data in\n",
    " ascending or descending order then picking the middle value, this can help to eliminate outliers unlike with the calculation\n",
    " of mean.\n"
   ]
  },
  {
   "cell_type": "markdown",
   "metadata": {},
   "source": [
    "---\n",
    "## **Instruction 3**\n",
    "This part of the assignment is designed to examine COVID cases and mortality data for different countries. The countries are given by their ISO alpha-3 codes, given here: https://en.wikipedia.org/wiki/ISO_3166-1_alpha-3 .\n",
    "As in the previous task, we will be using **total_cases_per_million** and **total_deaths_per_million** columns.\n",
    "\n",
    "**Your tasks**:\n",
    "\n",
    "1. Write your code to find and print out the number of countries in the dataset. (**1 mark**)\n",
    "2. Population mortality is measured in the number of deaths per the number of people. The population mortality from seasonal influenza is generally thought to be about 0.01% (1 death per 10000 people). Write your code to find and print out the list of countries with the population mortality greater than ten times of the population mortality of seasonal influenza. (**2 marks**)\n",
    "3. Write your code to find and print out the country with the highest population mortality. Both the country code and the mortality value for this country need to be printed out (**2 marks**)\n",
    "4. Write your code to construct a dictionary variable ***data_large_countries*** whose keys are **iso_code**, **total_cases_per_million**, **total_deaths_per_million**, **population**, **population_density**. You can start from the original dataset **data_dict** and adapt the code given to you in Instruction 2 (Task 1). Alternatively, you can use **data_filtered_by_date** and then filter the countries by population. Print the generated dictionary. (**2 marks**)\n",
    "5. Using the new dictionary ***data_large_countries***, plot a bar chart of mortality sorted in descending order of values for the countries with **population** more than 1 million, achieving first twenty places of leadership in exterminating their own population using COVID. (**3 marks**)\n",
    "6. Using the same dictionary, plot a bar chart of total cases and population density for the mortality leaders. Use the same order of countries as in Task 5. (**3 marks**)\n",
    "7. Discuss the bar charts. Which conclusion can you draw, if you look at all of them together? Try to support your conclusions with Pearson correlation coefficients. (**2 marks**)\n",
    "\n",
    "[**Total mark: 15**]"
   ]
  },
  {
   "cell_type": "code",
   "execution_count": 25,
   "metadata": {},
   "outputs": [
    {
     "name": "stdout",
     "output_type": "stream",
     "text": [
      "The number of countries in the dataset is 238\n"
     ]
    }
   ],
   "source": [
    "# INSERT YOUR CODE HERE \n",
    "# 1. Write your code to find and print out the number of countries in the dataset. (1 mark)\n",
    "# To be sure that you get a list of unique countries, you may want to use np.unique\n",
    "countrycount = 0\n",
    "for countries in np.unique(data_dict['location']):\n",
    "    countrycount += 1\n",
    "print(\"The number of countries in the dataset is\", countrycount)"
   ]
  },
  {
   "cell_type": "code",
   "execution_count": 26,
   "metadata": {},
   "outputs": [
    {
     "data": {
      "text/plain": [
       "238"
      ]
     },
     "execution_count": 26,
     "metadata": {},
     "output_type": "execute_result"
    }
   ],
   "source": [
    "df['location'].nunique()"
   ]
  },
  {
   "cell_type": "code",
   "execution_count": 16,
   "metadata": {},
   "outputs": [
    {
     "name": "stdout",
     "output_type": "stream",
     "text": [
      "{'PER', 'OWID_SAM', 'USA', 'GRD', 'URY', 'PAN', 'BRB', 'TTO', 'LCA', 'PRY', 'NAM', 'CUW', 'JOR', 'OWID_KOS', 'LUX', 'MCO', 'SVK', 'IRL', 'LTU', 'CZE', 'SUR', 'RUS', 'MLT', 'SWE', 'MYS', 'GRC', 'ARM', 'COL', 'SYC', 'CYP', 'GEO', 'LBN', 'ROU', 'BLZ', 'PSE', 'VGB', 'BIH', 'MEX', 'IRN', 'PYF', 'SRB', 'BOL', 'PRT', 'TUN', 'MKD', 'DEU', 'SMR', 'OWID_NAM', 'EST', 'ISR', 'GUY', 'BES', 'CRI', 'LVA', 'ALB', 'TUR', 'BHS', 'SWZ', 'ABW', 'KAZ', 'BGR', 'ZAF', 'OWID_EUN', 'ESP', 'HUN', 'OWID_EUR', 'BEL', 'CHE', 'FRA', 'ECU', 'AUT', 'BWA', 'CHL', 'AND', 'ITA', 'HRV', 'SVN', 'ARG', 'UKR', 'MDA', 'POL', 'OWID_HIC', 'BRA', 'MNE', 'GIB', 'NLD', 'GBR', 'LIE', 'ATG', 'BMU', 'NCL', 'HND'}\n"
     ]
    },
    {
     "name": "stderr",
     "output_type": "stream",
     "text": [
      "C:\\Users\\avitr\\AppData\\Local\\Temp\\ipykernel_4640\\1385494221.py:9: SettingWithCopyWarning: \n",
      "A value is trying to be set on a copy of a slice from a DataFrame\n",
      "\n",
      "See the caveats in the documentation: https://pandas.pydata.org/pandas-docs/stable/user_guide/indexing.html#returning-a-view-versus-a-copy\n",
      "  df1.dropna(inplace=True)\n"
     ]
    }
   ],
   "source": [
    "# INSERT YOUR CODE HERE \n",
    "#\n",
    "# 2. Population mortality from seasonal influenza is generally thought to be about 0.01% \n",
    "# (1 death per 10000 people). Write your code to find and print out the list of countries \n",
    "# with the population mortality is more than ten times of the population mortality of \n",
    "# the seasonal influenza. (2 marks)\n",
    "#\n",
    "df1 = df[['total_deaths_per_million','iso_code']]\n",
    "df1.dropna(inplace=True)\n",
    "t = df1[df1['total_deaths_per_million']>1000]\n",
    "print(set(t['iso_code']))"
   ]
  },
  {
   "cell_type": "code",
   "execution_count": 17,
   "metadata": {},
   "outputs": [
    {
     "data": {
      "text/html": [
       "<div>\n",
       "<style scoped>\n",
       "    .dataframe tbody tr th:only-of-type {\n",
       "        vertical-align: middle;\n",
       "    }\n",
       "\n",
       "    .dataframe tbody tr th {\n",
       "        vertical-align: top;\n",
       "    }\n",
       "\n",
       "    .dataframe thead th {\n",
       "        text-align: right;\n",
       "    }\n",
       "</style>\n",
       "<table border=\"1\" class=\"dataframe\">\n",
       "  <thead>\n",
       "    <tr style=\"text-align: right;\">\n",
       "      <th></th>\n",
       "      <th>iso_code</th>\n",
       "      <th>total_deaths_per_million</th>\n",
       "    </tr>\n",
       "  </thead>\n",
       "  <tbody>\n",
       "    <tr>\n",
       "      <th>123778</th>\n",
       "      <td>PER</td>\n",
       "      <td>6358.865</td>\n",
       "    </tr>\n",
       "  </tbody>\n",
       "</table>\n",
       "</div>"
      ],
      "text/plain": [
       "       iso_code  total_deaths_per_million\n",
       "123778      PER                  6358.865"
      ]
     },
     "execution_count": 17,
     "metadata": {},
     "output_type": "execute_result"
    }
   ],
   "source": [
    "# INSERT YOUR CODE HERE \n",
    "# 3. Write your code to find and print out the country with the highest population mortality. \n",
    "# Both the country code and the mortality value for this country need to be printed out (2 marks)\n",
    "# HINT: You can use np.where or np.argmax functions - please check what these functions are for.\n",
    "# INSERT YOUR CODE HERE \n",
    "#\n",
    "df[np.where(df['total_deaths_per_million']==max(df['total_deaths_per_million']),True,False)][['iso_code','total_deaths_per_million']]"
   ]
  },
  {
   "cell_type": "code",
   "execution_count": 18,
   "metadata": {},
   "outputs": [],
   "source": [
    "# INSERT YOUR CODE HERE \n",
    "# 4. Write your code to construct a dictionary variable ***data_large_countries*** whose keys are **iso_code**,\n",
    "# **total_cases_per_million**, **total_deaths_per_million**, **population**, **population_density**.\n",
    "# You can start from the original dataset **data_dict** and adapt the code given to you in Instruction 2 (Task 1). \n",
    "# Alternatively, you can use **data_filtered_by_date** and then filter the countries by population. Print the \n",
    "# generated dictionary.\n",
    "# (**2 marks**)\n",
    "\n",
    "x = df[df['population']>1000000]\n",
    "x = x[['total_cases_per_million','total_deaths_per_million','population','population_density']]\n",
    "data_large_countries = { 'total_cases_per_million' : list(x['total_cases_per_million']),\n",
    "    'total_deaths_per_million': list(x['total_deaths_per_million']),\n",
    "      'population': list(x['population']),\n",
    "    'population_density':list(x['population_density'])\n",
    "}"
   ]
  },
  {
   "cell_type": "code",
   "execution_count": null,
   "metadata": {},
   "outputs": [],
   "source": [
    "print(data_large_countries)"
   ]
  },
  {
   "cell_type": "code",
   "execution_count": null,
   "metadata": {
    "scrolled": true
   },
   "outputs": [],
   "source": [
    "# INSERT YOUR CODE HERE \n",
    "# 5. Using the new dictionary ***data_large_countries***, plot a bar chart of mortality\n",
    "# sorted in descending order of values for the countries with **population** more than 1 million, \n",
    "# achieving first twenty places in exterminating their own population using COVID. (**3 marks**)\n",
    "#\n",
    "# HINT: You can use np.argsort.\n"
   ]
  },
  {
   "cell_type": "code",
   "execution_count": null,
   "metadata": {
    "scrolled": true
   },
   "outputs": [],
   "source": [
    "# INSERT YOUR CODE HERE \n",
    "# 6. Using the same dictionary, plot a bar chart of total cases and population density for the mortality leaders.\n",
    "# Use the same order of countries as in Task 5. (**3 marks**)\n",
    "#\n",
    "# HINT: you want to plot these bar charts side by side (two separate plots side by side for easy comparison).\n"
   ]
  },
  {
   "cell_type": "code",
   "execution_count": null,
   "metadata": {},
   "outputs": [],
   "source": [
    "# 7. Discuss the bar charts. Which conclusion can you draw, if you look at all of them together? \n",
    "# Try to support your conclusions with Pearson correlation coefficients. (**2 marks**)\n",
    "# INSERT YOUR COMMENT HERE\n",
    "#\n",
    "# INSERT YOUR CODE HERE\n",
    "#"
   ]
  },
  {
   "cell_type": "markdown",
   "metadata": {},
   "source": [
    "---\n",
    "## **Instruction 4**\n",
    "Let's now look at the other end of the COVID spread - at the countries with large populations (more than 1 million) and with the minimal number of cases and deaths. We can use the same dataset ***data_large_countries*** we have prepared in the previous task.\n",
    "\n",
    "**Your tasks here are:**\n",
    "1. Using the new dictionary ***data_large_countries***, plot bar charts of mortality per million, cases per million and population density for the 20 countries with **population** more than 1 million and minimal mortality. (**3 marks**)\n",
    "2. In the bar charts you have got you should see one or two very clear exceptions. Describe their properties. What makes them exceptional? (**2 marks**)\n",
    "\n",
    "[**Total mark: 5**]"
   ]
  },
  {
   "cell_type": "code",
   "execution_count": null,
   "metadata": {},
   "outputs": [],
   "source": [
    "# 1. Using the new dictionary ***data_large_countries***, plot bar charts of mortality per million, \n",
    "# cases per million and population density for the 20 countries with **population** more than 1 \n",
    "# million and minimal mortality. (**3 marks**)\n",
    "#INSERT YOUR CODE HERE\n"
   ]
  },
  {
   "cell_type": "code",
   "execution_count": null,
   "metadata": {},
   "outputs": [],
   "source": [
    "# 2. In the bar charts you have got you should see one or two very clear exceptions. \n",
    "# Describe their properties. What makes them exceptional? (**2 marks**)\n",
    "# INSERT YOUR COMMENT HERE\n",
    "#"
   ]
  },
  {
   "cell_type": "markdown",
   "metadata": {},
   "source": [
    "---\n",
    "## **Instruction 5 (D/HD level)**\n",
    "\n",
    "We will return back to the differences between the countries in their ways of dealinig with epidemics in Instruction 6. Now, however, we shall look at the basics of epidemiological processes from the point of view\n",
    "of real data. Generally, epidemics evolve exponentially until they are either stopped by some measures (lockdowns, vaccinations) or saturate (population dies out and/or gets naturally immune).\n",
    "\n",
    "**Your tasks**:\n",
    "\n",
    "1. Define a function called **convert_date** that takes date string (in the format as it is given in the dataset csv file) as the input and returns the number of days from that date until now. The number should be negative. For example, today is 14/3/22. The input date is 3/3/22. The function should compute the difference between the input date and today's date and return -11. If the function argument is in incorrect form, the function should return 0. Don't forget to test it. (**2 marks**)\n",
    "2. Pick three countries, which may be interesting or relevant for you. For me they are the UK, Ukraine and Australia (iso codes GBR, UKR, AUS). For demonstration purpose you want to include Australia or another country, which was able to deal with the COVID epidemics more or less successfully, and a country with large number of cases. Make a new list **country_list**, which contains iso codes of the countries. (**1 mark**)\n",
    "3. Plot how **total_cases** for the countries you have picked, grow in time. All three curves have to be on the same plot with the horizontal axis of \"Number of days before today\". Don't forget the legend. (**2 marks**)\n",
    "4. If you have chosen the countries appropriately, you will see that the plot you have produced is not very informative. Why is it so? How many waves do you see for Australia? What can you do to make it more informative and to reveal the true dynamics? Note there are **two** reasons, you need to provide both. (**1 mark**)\n",
    "5. Implement the idea from Task 4 and make a plot, similar to task 3. (**2 marks**)\n",
    "6. Explain what you see in the new plot. Do you see specific regions of interest in the epidemic curves? Discuss them. How many waves do you see now? (**2 marks**)\n",
    "7. There are many more interesting dependencies you can produce in this part, and you are welcome to do so. Also, if you implement everything correctly, you don't need to limit yourself to three countries only. To score full mark in this task, you need to provide a **detailed** comparative analysis of epidemic growth (cases and mortality) for two countries, which are similar by their population, but different by their vaccination rates. (**5 marks**)\n",
    "\n",
    "[**Total mark: 15**]\n",
    "\n"
   ]
  },
  {
   "cell_type": "code",
   "execution_count": null,
   "metadata": {},
   "outputs": [],
   "source": [
    "# 1. Define a function called **convert_date** that takes date string (in the format as it is given \n",
    "# in the dataset csv file) as the input and returns the number of days from that date until now. The \n",
    "# number should be negative. For example, today is 14/3/22. The input date is 3/3/22. The function \n",
    "# should return -11. If the function argument is in incorrect form, the function should return 0. \n",
    "# (**2 marks**)\n",
    "#    \n",
    "# Hint: you might want to use datetime package.\n",
    "#\n",
    "# INSERT YOUR CODE HERE\n"
   ]
  },
  {
   "cell_type": "code",
   "execution_count": null,
   "metadata": {
    "scrolled": true
   },
   "outputs": [],
   "source": [
    "# 2. Pick three countries, which may be interesting or relevant for you. For me they are the UK, \n",
    "# Ukraine and Australia (iso codes GBR, UKR, AUS). For demonstration purpose you want to include \n",
    "# Australia or another country, which was able to deal with the COVID epidemics more or less \n",
    "# successfully, and a country with large number of cases. Make a new list **country_list**, which \n",
    "# contains iso codes of the countries. (**1 mark**)\n",
    "#\n",
    "# INSERT YOUR CODE HERE\n"
   ]
  },
  {
   "cell_type": "code",
   "execution_count": null,
   "metadata": {},
   "outputs": [],
   "source": [
    "# 3. Plot how **total_cases** for the countries you have picked, grow in time. All three curves \n",
    "# have to be on the same plot with the horizontal axis of \"Number of days before today\". Don't \n",
    "# forget the legend. (**2 marks**)\n",
    "#\n",
    "# INSERT YOUR CODE HERE\n"
   ]
  },
  {
   "cell_type": "code",
   "execution_count": null,
   "metadata": {},
   "outputs": [],
   "source": [
    "# 4. If you have chosen the countries appropriately, you will see that the plot you have produced \n",
    "# is not very informative. Why is it so? How many waves do you see for Australia? What can you do \n",
    "# to make it more informative and to reveal the true dynamics? Note there are **two** reasons, you \n",
    "# need to provide both. (**1 mark**)\n",
    "#\n"
   ]
  },
  {
   "cell_type": "code",
   "execution_count": null,
   "metadata": {},
   "outputs": [],
   "source": [
    "# 5. Implement the idea from Task 4 and make a plot, similar to task 3. (**2 marks**)\n",
    "#\n",
    "# INSERT YOUR CODE HERE\n",
    "\n"
   ]
  },
  {
   "cell_type": "code",
   "execution_count": null,
   "metadata": {},
   "outputs": [],
   "source": [
    "# 6. Explain what you see in the new plot. Do you see specific regions of interest in the epidemic curves? Discuss them. \n",
    "# How many waves do you see now? (**2 marks**)\n",
    "#\n",
    "# INSERT YOUR COMMENT HERE\n",
    "#"
   ]
  },
  {
   "cell_type": "code",
   "execution_count": null,
   "metadata": {},
   "outputs": [],
   "source": [
    "# 7. There are many more interesting dependencies you can produce in this part, and you are welcome to do so. \n",
    "# Also, if you implement everything correctly, you don't need to limit yourself to three countries only. To \n",
    "# score full mark in this task, you need to provide a **detailed** comparative analysis of epidemic growth \n",
    "# (cases and mortality) for two countries, which are similar by their population, but different by their \n",
    "# vaccination rates. (**5 marks**)\n",
    "#\n",
    "# INSERT YOUR CODE HERE\n",
    "#\n",
    "# INSERT YOUR COMMENT HERE\n",
    "#"
   ]
  },
  {
   "cell_type": "markdown",
   "metadata": {},
   "source": [
    "---\n",
    "## **Instruction 6** (D/HD level)\n",
    "In this part of the assignment, we go back to the current state of affairs with COVID and look deeper into the dependencies between the parameters of the COVID epidemic and population parameters. We get back to the dataset we have created, namely **data_filtered_by_date**. This dataset also contains population parameters, for example, population and population density, median age, GDP per capita, human development index, and so on.\n",
    "\n",
    "NOTE: If you are curious, you may want to limit the number of countries you plot by some condition (similar to what we did above by limiting countries to ones with population above 1 million. The mark will not be affected if you don't.\n",
    "\n",
    "You will need to carefully get rid of all Python warnings in this section to score the full mark.\n",
    "\n",
    "1. First of all, let's confirm what we saw before in Instructions 3 and 4, namely, counterintuitvely weak or no dependence of the number of cases and mortality on average population density. You need to plot two scatter plots of total mortality and total case numbers per million on population density. Take logarithm base 10 of the population density. (**1 mark**)\n",
    "2. Annotate the scatter plots with the iso codes of countries. (**1 mark**)\n",
    "3. Make scatter plots of the mortality and case numbers on GDP per capita and annotate them with the iso codes of countries. (**1 mark**)\n",
    "4. Discuss what you see in these scatter plots. Strange, isn't it? What do you think are the reasons? There can be many. (**2 marks**)\n",
    "5. Make and annotate scatter plot of median age vs mortality and meadian age vs log10 of gdp per capita. Would log10 make the plot clearer? (**1 mark**)\n",
    "6. Use numpy **polyfit** or **polynomial** function to fit a straight line in the last scatter plot (median age vs gdp per capita). Overplot the line. Note - IT CAN BE HARD! (**2 marks**)\n",
    "7. Discuss the scatter plots. (**2 marks**)\n",
    "8. Find another interesting dependence in the data using other variables (for example, use vaccination information), plot, analyse and discuss it. (**5 marks**)\n",
    "\n",
    "[**Total mark: 15**]"
   ]
  },
  {
   "cell_type": "code",
   "execution_count": null,
   "metadata": {},
   "outputs": [],
   "source": [
    "# 1. First of all, let's confirm what we saw before in Instructions 3 and 4, namely, \n",
    "# counterintuitvely weak or no dependence of the number of cases and mortality on average \n",
    "# population density. You need to plot two scatter plots of total mortality and total \n",
    "# case numbers per million on population density. Take logarithm base 10 of the population \n",
    "# density. (**2 marks**)\n",
    "# 2. Annotate the scatter plots with the iso codes of countries. (**1 mark**)\n",
    "\n",
    "# INSERT YOUR CODE HERE\n"
   ]
  },
  {
   "cell_type": "code",
   "execution_count": null,
   "metadata": {},
   "outputs": [],
   "source": [
    "# 3. Make scatter plots of the mortality and case numbers on GDP per capita and annotate them with \n",
    "# the iso codes of countries. (**1 mark**)\n",
    "# INSERT YOUR CODE HERE\n"
   ]
  },
  {
   "cell_type": "code",
   "execution_count": null,
   "metadata": {},
   "outputs": [],
   "source": [
    "# 4. Discuss what you see in these scatter plots. Strange, isn't it? What do you think are \n",
    "# the reasons? There can be many. (**2 marks**)\n",
    "#\n",
    "# INSERT YOUR COMMENT HERE\n",
    "# \n"
   ]
  },
  {
   "cell_type": "code",
   "execution_count": null,
   "metadata": {},
   "outputs": [],
   "source": [
    "# 5. Make and annotate scatter plot of median age vs mortality and meadian age vs gdp per capita. \n",
    "# Would log10 make the plot clearer? (**1 mark**)\n",
    "# INSERT YOUR CODE HERE\n",
    "\n",
    "    \n",
    "\n",
    "# 6. Use numpy polyfit or polynomial function to fit a straight line in the last scatter plot (median age vs gdp per \n",
    "# capita). Overplot the line. (**2 marks**)\n",
    "# INSERT YOUR CODE HERE\n",
    "\n"
   ]
  },
  {
   "cell_type": "code",
   "execution_count": null,
   "metadata": {},
   "outputs": [],
   "source": [
    "# 7. Discuss the last scatter plots. (**2 marks**)\n",
    "#\n",
    "# INSERT YOUR COMMENT HERE\n",
    "#\n",
    "# "
   ]
  },
  {
   "cell_type": "code",
   "execution_count": null,
   "metadata": {},
   "outputs": [],
   "source": [
    "# 8. Find another interesting dependence in the data using other variables (for example, use vaccination information), \n",
    "# plot, analyse and discuss it. (**5 marks**)\n",
    "#\n",
    "# INSERT YOUR CODE HERE\n",
    "# \n",
    "# INSERT YOUR COMMENT HERE"
   ]
  }
 ],
 "metadata": {
  "kernelspec": {
   "display_name": "Python 3 (ipykernel)",
   "language": "python",
   "name": "python3"
  },
  "language_info": {
   "codemirror_mode": {
    "name": "ipython",
    "version": 3
   },
   "file_extension": ".py",
   "mimetype": "text/x-python",
   "name": "python",
   "nbconvert_exporter": "python",
   "pygments_lexer": "ipython3",
   "version": "3.8.5"
  }
 },
 "nbformat": 4,
 "nbformat_minor": 1
}
