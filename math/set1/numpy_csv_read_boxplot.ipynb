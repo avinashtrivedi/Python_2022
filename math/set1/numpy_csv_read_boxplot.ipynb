{
 "cells": [
  {
   "cell_type": "code",
   "execution_count": 1,
   "id": "2315bf94",
   "metadata": {},
   "outputs": [],
   "source": [
    "# 2. Population mortality from seasonal influenza is generally thought to be about 0.01% \n",
    "# (1 death per 10000 people). Write your code to find and print out the list of countries (iso_code)\n",
    "# with the population mortality is more than ten times (0.1% at least 1000 deaths per country) of the population mortality of \n",
    "# the seasonal influenza."
   ]
  },
  {
   "cell_type": "code",
   "execution_count": 2,
   "id": "4cf8363c",
   "metadata": {},
   "outputs": [],
   "source": [
    "import numpy as np\n",
    "import warnings\n",
    "import matplotlib.pyplot as plt\n",
    "warnings.filterwarnings('ignore')\n",
    "nparray = np.recfromcsv('owid-covid-data (1).csv')\n",
    "x = list(set(nparray[nparray['total_deaths_per_million']>1000]['iso_code']))\n",
    "f = lambda x : x.decode(\"utf-8\")\n",
    "x = list(map(f,x))"
   ]
  },
  {
   "cell_type": "code",
   "execution_count": 3,
   "id": "df63bbd2",
   "metadata": {},
   "outputs": [
    {
     "data": {
      "text/plain": [
       "[Text(1, 0, 'Total deaths per million')]"
      ]
     },
     "execution_count": 3,
     "metadata": {},
     "output_type": "execute_result"
    },
    {
     "data": {
      "image/png": "[encoded data removed]",
      "text/plain": [
       "<Figure size 720x360 with 1 Axes>"
      ]
     },
     "metadata": {
      "needs_background": "light"
     },
     "output_type": "display_data"
    }
   ],
   "source": [
    "#  5. Write your code to construct a box plot for the COVID mortality total_deaths_per_million.\n",
    "np.random.seed(10)\n",
    "required_date = '2022-03-14'.encode(\"utf-8\")\n",
    "x = nparray[nparray['date']==required_date]['total_deaths_per_million']\n",
    "x = x[~np.isnan(x)]\n",
    "\n",
    "fig, ax = plt.subplots(figsize=(10,5))\n",
    "\n",
    "bp = ax.boxplot(x)\n",
    "\n",
    "ax.set_xticklabels(['Total deaths per million'])"
   ]
  },
  {
   "cell_type": "code",
   "execution_count": 5,
   "id": "c533c953",
   "metadata": {},
   "outputs": [],
   "source": []
  },
  {
   "cell_type": "code",
   "execution_count": 62,
   "id": "5ac9c6ba",
   "metadata": {},
   "outputs": [
    {
     "name": "stdout",
     "output_type": "stream",
     "text": [
      "{'CYP', 'MEX', 'BGR', 'BHS', 'GRC', 'UKR', 'OWID_EUR', 'GEO', 'NLD', 'PSE', 'EST', 'USA', 'BIH', 'MLT', 'MDA', 'CHE', 'BRB', 'MCO', 'LCA', 'IRN', 'BEL', 'TUN', 'SVK', 'OWID_KOS', 'PER', 'SWE', 'JOR', 'LBN', 'GIB', 'ROU', 'BRA', 'CRI', 'ITA', 'BES', 'OWID_EUN', 'VGB', 'PAN', 'ATG', 'MKD', 'BLZ', 'OWID_HIC', 'SVN', 'SWZ', 'COL', 'URY', 'MYS', 'TTO', 'ARM', 'GRD', 'KAZ', 'ECU', 'BOL', 'MNE', 'ESP', 'RUS', 'CZE', 'AND', 'GUY', 'ARG', 'OWID_NAM', 'ALB', 'NAM', 'BWA', 'PRY', 'OWID_SAM', 'PYF', 'DEU', 'LTU', 'NCL', 'SMR', 'ABW', 'LUX', 'FRA', 'ISR', 'CHL', 'LIE', 'SRB', 'SUR', 'POL', 'CUW', 'AUT', 'HND', 'TUR', 'SYC', 'ZAF', 'HRV', 'PRT', 'IRL', 'HUN', 'GBR', 'BMU', 'LVA'}\n"
     ]
    }
   ],
   "source": [
    "import pandas as pd\n",
    "df = pd.read_csv('owid-covid-data (1).csv')\n",
    "df = df[['total_deaths_per_million','iso_code']]\n",
    "df.dropna(inplace=True)\n",
    "t = df[df['total_deaths_per_million']>1000]\n",
    "print(set(t['iso_code']))"
   ]
  },
  {
   "cell_type": "code",
   "execution_count": 52,
   "id": "052403ff",
   "metadata": {},
   "outputs": [],
   "source": []
  },
  {
   "cell_type": "code",
   "execution_count": 54,
   "id": "32f45c8b",
   "metadata": {},
   "outputs": [
    {
     "data": {
      "text/plain": [
       "92"
      ]
     },
     "execution_count": 54,
     "metadata": {},
     "output_type": "execute_result"
    }
   ],
   "source": []
  },
  {
   "cell_type": "code",
   "execution_count": 20,
   "id": "34dbbee1",
   "metadata": {},
   "outputs": [
    {
     "data": {
      "text/plain": [
       "array([b'ALB', b'ALB', b'ALB', ..., b'URY', b'URY', b'URY'], dtype='|S8')"
      ]
     },
     "execution_count": 20,
     "metadata": {},
     "output_type": "execute_result"
    }
   ],
   "source": [
    "nparray[nparray['total_deaths_per_million']>1000]"
   ]
  },
  {
   "cell_type": "code",
   "execution_count": 23,
   "id": "a432f079",
   "metadata": {},
   "outputs": [],
   "source": [
    "nparray = nparray[['total_deaths_per_million','iso_code']]"
   ]
  },
  {
   "cell_type": "code",
   "execution_count": null,
   "id": "c3b26adc",
   "metadata": {},
   "outputs": [],
   "source": [
    "nparray[~np.isnan(x)]"
   ]
  },
  {
   "cell_type": "code",
   "execution_count": null,
   "id": "167b702d",
   "metadata": {},
   "outputs": [],
   "source": []
  },
  {
   "cell_type": "code",
   "execution_count": 63,
   "id": "bcf8f6a5",
   "metadata": {},
   "outputs": [
    {
     "name": "stdout",
     "output_type": "stream",
     "text": [
      "{'CYP', 'MEX', 'BGR', 'BHS', 'GRC', 'UKR', 'OWID_EUR', 'GEO', 'NLD', 'PSE', 'EST', 'USA', 'BIH', 'MLT', 'MDA', 'CHE', 'BRB', 'MCO', 'LCA', 'IRN', 'BEL', 'TUN', 'SVK', 'OWID_KOS', 'PER', 'SWE', 'JOR', 'LBN', 'GIB', 'ROU', 'BRA', 'CRI', 'ITA', 'BES', 'OWID_EUN', 'VGB', 'PAN', 'ATG', 'MKD', 'BLZ', 'OWID_HIC', 'SVN', 'SWZ', 'COL', 'URY', 'MYS', 'TTO', 'ARM', 'GRD', 'KAZ', 'ECU', 'BOL', 'MNE', 'ESP', 'RUS', 'CZE', 'AND', 'GUY', 'ARG', 'OWID_NAM', 'ALB', 'NAM', 'BWA', 'PRY', 'OWID_SAM', 'PYF', 'DEU', 'LTU', 'NCL', 'SMR', 'ABW', 'LUX', 'FRA', 'ISR', 'CHL', 'LIE', 'SRB', 'SUR', 'POL', 'CUW', 'AUT', 'HND', 'TUR', 'SYC', 'ZAF', 'HRV', 'PRT', 'IRL', 'HUN', 'GBR', 'BMU', 'LVA'}\n"
     ]
    }
   ],
   "source": [
    "import pandas as pd\n",
    "df = pd.read_csv('owid-covid-data (1).csv')\n",
    "df = df[['total_deaths_per_million','iso_code','date']]\n",
    "df.dropna(inplace=True)\n",
    "t = df[df['total_deaths_per_million']>1000]\n",
    "print(set(t['iso_code']))"
   ]
  },
  {
   "cell_type": "code",
   "execution_count": null,
   "id": "d4cad377",
   "metadata": {},
   "outputs": [],
   "source": []
  },
  {
   "cell_type": "code",
   "execution_count": 67,
   "id": "63209ef4",
   "metadata": {},
   "outputs": [
    {
     "data": {
      "text/plain": [
       "nan"
      ]
     },
     "execution_count": 67,
     "metadata": {},
     "output_type": "execute_result"
    }
   ],
   "source": [
    "min(nparray['total_deaths_per_million'])"
   ]
  },
  {
   "cell_type": "code",
   "execution_count": null,
   "id": "6efc1108",
   "metadata": {},
   "outputs": [],
   "source": [
    "print(\"The minimum total deaths per million is:\", min(data_dict['total_deaths_per_million']))\n",
    "print(\"The maximum total deaths per million is:\", max(data_dict['total_deaths_per_million']))"
   ]
  },
  {
   "cell_type": "code",
   "execution_count": null,
   "id": "d0b9ec47",
   "metadata": {},
   "outputs": [],
   "source": [
    "data_dict = data_dict['total_deaths_per_million']"
   ]
  },
  {
   "cell_type": "code",
   "execution_count": null,
   "id": "52329100",
   "metadata": {},
   "outputs": [],
   "source": [
    "data_dict = nparray[~np.isnan(x)]"
   ]
  },
  {
   "cell_type": "code",
   "execution_count": null,
   "id": "c13fbb13",
   "metadata": {},
   "outputs": [],
   "source": []
  },
  {
   "cell_type": "code",
   "execution_count": null,
   "id": "61301329",
   "metadata": {},
   "outputs": [],
   "source": []
  },
  {
   "cell_type": "code",
   "execution_count": null,
   "id": "22e46d88",
   "metadata": {},
   "outputs": [],
   "source": []
  },
  {
   "cell_type": "code",
   "execution_count": 91,
   "id": "786503f2",
   "metadata": {},
   "outputs": [
    {
     "name": "stdout",
     "output_type": "stream",
     "text": [
      "dict_keys(['iso_code', 'continent', 'location', 'date', 'total_cases', 'new_cases', 'new_cases_smoothed', 'total_deaths', 'new_deaths', 'new_deaths_smoothed', 'total_cases_per_million', 'new_cases_per_million', 'new_cases_smoothed_per_million', 'total_deaths_per_million', 'new_deaths_per_million', 'new_deaths_smoothed_per_million', 'reproduction_rate', 'icu_patients', 'icu_patients_per_million', 'hosp_patients', 'hosp_patients_per_million', 'weekly_icu_admissions', 'weekly_icu_admissions_per_million', 'weekly_hosp_admissions', 'weekly_hosp_admissions_per_million', 'total_tests', 'new_tests', 'total_tests_per_thousand', 'new_tests_per_thousand', 'new_tests_smoothed', 'new_tests_smoothed_per_thousand', 'positive_rate', 'tests_per_case', 'tests_units', 'total_vaccinations', 'people_vaccinated', 'people_fully_vaccinated', 'total_boosters', 'new_vaccinations', 'new_vaccinations_smoothed', 'total_vaccinations_per_hundred', 'people_vaccinated_per_hundred', 'people_fully_vaccinated_per_hundred', 'total_boosters_per_hundred', 'new_vaccinations_smoothed_per_million', 'new_people_vaccinated_smoothed', 'new_people_vaccinated_smoothed_per_hundred', 'stringency_index', 'population', 'population_density', 'median_age', 'aged_65_older', 'aged_70_older', 'gdp_per_capita', 'extreme_poverty', 'cardiovasc_death_rate', 'diabetes_prevalence', 'female_smokers', 'male_smokers', 'handwashing_facilities', 'hospital_beds_per_thousand', 'life_expectancy', 'human_development_index', 'excess_mortality_cumulative_absolute', 'excess_mortality_cumulative', 'excess_mortality', 'excess_mortality_cumulative_per_million'])\n"
     ]
    },
    {
     "name": "stderr",
     "output_type": "stream",
     "text": [
      "\n",
      "KeyboardInterrupt\n",
      "\n"
     ]
    }
   ],
   "source": [
    "# Load CSV file using DictReader\n",
    "import csv\n",
    "input_file = csv.DictReader(open('owid-covid-data (1).csv'))\n",
    "fieldnames = input_file.fieldnames\n",
    "data_dict = {fn: [] for fn in fieldnames}\n",
    "print(data_dict.keys())\n",
    "for line in input_file:\n",
    "    for k, v in line.items():\n",
    "        if (v == ''): #quick fix for missing values\n",
    "            v=0\n",
    "        try:\n",
    "            data_dict[k].append(int(v))\n",
    "        except ValueError:\n",
    "            try:\n",
    "                data_dict[k].append(float(v))\n",
    "            except ValueError:\n",
    "                data_dict[k].append(v)\n",
    "                \n",
    "for k, v in data_dict.items():\n",
    "    data_dict[k] = np.array(v)\n",
    "    \n",
    "data_dict = pd.DataFrame(data_dict)\n",
    "# data_dict = data_dict[data_dict['date'] == '2022-03-14']"
   ]
  },
  {
   "cell_type": "code",
   "execution_count": 74,
   "id": "633b90e6",
   "metadata": {},
   "outputs": [
    {
     "data": {
      "text/plain": [
       "array([ True, False, False, ..., False, False, False])"
      ]
     },
     "execution_count": 74,
     "metadata": {},
     "output_type": "execute_result"
    }
   ],
   "source": [
    "data_dict['date']=='2020-02-24'"
   ]
  },
  {
   "cell_type": "code",
   "execution_count": null,
   "id": "afd9e6c0",
   "metadata": {},
   "outputs": [],
   "source": [
    "for k in data_dict:\n",
    "    if data_dict['']"
   ]
  },
  {
   "cell_type": "code",
   "execution_count": 90,
   "id": "f1e4a2c7",
   "metadata": {},
   "outputs": [
    {
     "name": "stdout",
     "output_type": "stream",
     "text": [
      "The minimum total deaths per million is: 0.0\n",
      "The maximum total deaths per million is: 6342.407\n"
     ]
    }
   ],
   "source": [
    "data_dict = data_dict[data_dict['date'] == '2022-03-14']\n",
    "print(\"The minimum total deaths per million is:\", min(data_dict['total_deaths_per_million']))\n",
    "print(\"The maximum total deaths per million is:\", max(data_dict['total_deaths_per_million']))"
   ]
  },
  {
   "cell_type": "code",
   "execution_count": 104,
   "id": "b741e445",
   "metadata": {},
   "outputs": [],
   "source": [
    "data_dict = pd.DataFrame(data_dict)\n",
    "# data_dict = data_dict[data_dict['date'] == '2022-03-14']"
   ]
  },
  {
   "cell_type": "code",
   "execution_count": 94,
   "id": "6a83bf4f",
   "metadata": {},
   "outputs": [
    {
     "data": {
      "text/plain": [
       "5283.286"
      ]
     },
     "execution_count": 94,
     "metadata": {},
     "output_type": "execute_result"
    }
   ],
   "source": [
    "max(data_dict['total_deaths_per_million'])"
   ]
  },
  {
   "cell_type": "code",
   "execution_count": 113,
   "id": "8dd098b4",
   "metadata": {},
   "outputs": [
    {
     "data": {
      "text/html": [
       "<div>\n",
       "<style scoped>\n",
       "    .dataframe tbody tr th:only-of-type {\n",
       "        vertical-align: middle;\n",
       "    }\n",
       "\n",
       "    .dataframe tbody tr th {\n",
       "        vertical-align: top;\n",
       "    }\n",
       "\n",
       "    .dataframe thead th {\n",
       "        text-align: right;\n",
       "    }\n",
       "</style>\n",
       "<table border=\"1\" class=\"dataframe\">\n",
       "  <thead>\n",
       "    <tr style=\"text-align: right;\">\n",
       "      <th></th>\n",
       "      <th>iso_code</th>\n",
       "      <th>total_deaths_per_million</th>\n",
       "    </tr>\n",
       "  </thead>\n",
       "  <tbody>\n",
       "    <tr>\n",
       "      <th>24931</th>\n",
       "      <td>BGR</td>\n",
       "      <td>5283.286</td>\n",
       "    </tr>\n",
       "  </tbody>\n",
       "</table>\n",
       "</div>"
      ],
      "text/plain": [
       "      iso_code  total_deaths_per_million\n",
       "24931      BGR                  5283.286"
      ]
     },
     "execution_count": 113,
     "metadata": {},
     "output_type": "execute_result"
    }
   ],
   "source": [
    "data_dict[np.where(data_dict['total_deaths_per_million']==max(data_dict['total_deaths_per_million']),True,False)][['iso_code','total_deaths_per_million']]"
   ]
  },
  {
   "cell_type": "code",
   "execution_count": null,
   "id": "98ffce13",
   "metadata": {},
   "outputs": [],
   "source": []
  }
 ],
 "metadata": {
  "kernelspec": {
   "display_name": "Python 3 (ipykernel)",
   "language": "python",
   "name": "python3"
  },
  "language_info": {
   "codemirror_mode": {
    "name": "ipython",
    "version": 3
   },
   "file_extension": ".py",
   "mimetype": "text/x-python",
   "name": "python",
   "nbconvert_exporter": "python",
   "pygments_lexer": "ipython3",
   "version": "3.8.5"
  }
 },
 "nbformat": 4,
 "nbformat_minor": 5
}
