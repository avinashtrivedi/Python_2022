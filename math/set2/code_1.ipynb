{
 "cells": [
  {
   "cell_type": "code",
   "execution_count": 47,
   "id": "44bde824",
   "metadata": {},
   "outputs": [],
   "source": [
    "import math\n",
    "\n",
    "def dotProduct(D1, D2):\n",
    "    Sum = 0.0\n",
    "    for key in D1:\n",
    "        if key in D2:\n",
    "            Sum += (D1[key] * D2[key])\n",
    "    return Sum\n",
    "\n",
    "\n",
    "def vector_angle(D1, D2):\n",
    "    numerator = dotProduct(D1, D2)\n",
    "    denominator = math.sqrt(dotProduct(D1, D1))*math.sqrt(dotProduct(D2, D2))\n",
    "    return round(math.degrees(math.acos(numerator / denominator)), 5)\n",
    "\n",
    "def get_loc(x,text):\n",
    "    text = text.split()\n",
    "    return (i for i in range(len(text)) if text[i]==x)\n",
    "\n",
    "def inverted_index(words):      \n",
    "    inverted = {}\n",
    "    for index, word in enumerate(words):\n",
    "        locations = inverted.setdefault(word, [])\n",
    "        locations.append(index)\n",
    "    return inverted\n",
    "\n",
    "def inverted_index_add(inverted, doc_id, doc_index):        \n",
    "    for word in doc_index.keys():\n",
    "        locations = doc_index[word]\n",
    "        indices = inverted.setdefault(word, {})\n",
    "        indices[doc_id] = locations\n",
    "    return inverted\n",
    "\n",
    "def boolean_search(inverted, file_names, query):\n",
    "    words = [word for _, word in enumerate(query.split()) if word in inverted]\n",
    "    results = [set(inverted[word].keys()) for word in words]\n",
    "    docs = reduce(lambda x, y: x & y, results) if results else []\n",
    "    return {i+1 for i in docs}\n",
    "\n",
    "\n",
    "def readLines(fileName):\n",
    "    try:\n",
    "        file = open(fileName, 'r')\n",
    "        lines = file.readlines()\n",
    "        file.close()\n",
    "        return lines\n",
    "    except:\n",
    "        print(\"File {} Not Found\".format(fileName))\n",
    "        quit()\n",
    "\n",
    "if __name__ == \"__main__\":\n",
    "    #Input Files\n",
    "    docFileName = 'docs.txt'\n",
    "    queryFileName = 'queries.txt'\n",
    "\n",
    "    # Read All Lines From Files\n",
    "    docs = readLines(docFileName)\n",
    "    queries = readLines(queryFileName)\n",
    "\n",
    "    # Create Vector of docs\n",
    "    docVectors = []\n",
    "    for doc in docs:\n",
    "        docWords = doc.strip().split()\n",
    "        docVectors.append({key: docWords.count(key) for key in docWords})\n",
    "\n",
    "    # 1. Building the Dictionary\n",
    "    dictionary = {}\n",
    "    for docVector in docVectors:\n",
    "        for key in docVector:\n",
    "            dictionary[key] = dictionary.get(key, 0) + docVector[key]\n",
    "    # Printing dictionary Word Count\n",
    "    print(\"Words in dictionary: \", len(dictionary))\n",
    "\n",
    "    # 2. Building Inverted Index\n",
    "    inverted_doc_indexes = {}\n",
    "    files_with_index = []\n",
    "    files_with_tokens = {}\n",
    "    doc_id=0\n",
    "    for fname,line in enumerate(docs):\n",
    "        words = line.split()\n",
    "        files_with_tokens[doc_id] = words\n",
    "        doc_index = inverted_index(words)\n",
    "        inverted_index_add(inverted_doc_indexes, doc_id, doc_index)\n",
    "        files_with_index.append(fname+1)\n",
    "        doc_id = doc_id+1\n",
    "\n",
    "    # 3. Document Searching\n",
    "    for query in queries:\n",
    "        # Removing Space and \\n from the end of query\n",
    "        query = query.strip()\n",
    "\n",
    "        # Split the query in words\n",
    "        queryWords = query.split()\n",
    "\n",
    "        # Printing Query\n",
    "        print('Query: {}'.format(query))\n",
    "\n",
    "        # Finding All the Relevant documents\n",
    "        Relevant_Documents = sorted(boolean_search(inverted_doc_indexes, files_with_index,query))\n",
    "        # Printing Relevant documents\n",
    "        print('Relevant documents: {}'.format(\n",
    "            \" \".join(map(str, Relevant_Documents))))\n",
    "\n",
    "        # Finding the angel between query and each Relevant documents\n",
    "        angles = []\n",
    "        for i in Relevant_Documents:\n",
    "            # Create Vector of query\n",
    "            queryVactor = {\n",
    "                key: 1 if key in queryWords else 0 for key in docVectors[i-1]}\n",
    "            # Storing doc id and vector angel\n",
    "            angles.append((i, vector_angle(docVectors[i-1], queryVactor)))\n",
    "\n",
    "        # sort vector angle based on angle\n",
    "        angles.sort(key=lambda x: x[1])\n",
    "\n",
    "        # Printing vector angle of query\n",
    "        for angel in angles:\n",
    "            print(angel[0], angel[1])\n"
   ]
  },
  {
   "cell_type": "code",
   "execution_count": 49,
   "id": "183d01a7",
   "metadata": {},
   "outputs": [
    {
     "name": "stdout",
     "output_type": "stream",
     "text": [
      "Words in dictionary:  19369\n",
      "Query: computer system\n",
      "Relevant documents: 1308 2306 2782 4166 4615 5110 5178 5189\n",
      "4615 77.07903\n",
      "2782 80.90256\n",
      "4166 83.84542\n",
      "5178 84.58705\n",
      "5110 85.40775\n",
      "1308 86.32195\n",
      "2306 87.77677\n",
      "5189 87.95329\n",
      "Query: building area\n",
      "Relevant documents: 1035 1288 1979 4514 4545 5331 5336\n",
      "1288 84.32426\n",
      "1979 84.68402\n",
      "4514 86.46811\n",
      "4545 86.78757\n",
      "5336 87.7751\n",
      "1035 88.10655\n",
      "5331 88.26984\n",
      "Query: high levels growth\n",
      "Relevant documents: 40 2022\n",
      "40 75.39128\n",
      "2022 83.46342\n"
     ]
    }
   ],
   "source": []
  },
  {
   "cell_type": "code",
   "execution_count": null,
   "id": "abe62efa",
   "metadata": {},
   "outputs": [],
   "source": []
  },
  {
   "cell_type": "code",
   "execution_count": null,
   "id": "677804f0",
   "metadata": {},
   "outputs": [],
   "source": []
  },
  {
   "cell_type": "code",
   "execution_count": null,
   "id": "0aa86c00",
   "metadata": {},
   "outputs": [],
   "source": []
  },
  {
   "cell_type": "code",
   "execution_count": null,
   "id": "7680a21e",
   "metadata": {},
   "outputs": [],
   "source": [
    "Words in dictionary:  19369\n",
    "Query: computer system\n",
    "Relevant documents: 1308 2306 2782 4166 4615 5110 5178 5189\n",
    "4615 77.07903\n",
    "2782 80.90256\n",
    "4166 83.84542\n",
    "5178 84.58705\n",
    "5110 85.40775\n",
    "1308 86.32195\n",
    "2306 87.77677\n",
    "5189 87.95329\n",
    "Query: building area\n",
    "Relevant documents: 1035 1288 1979 4514 4545 5331 5336\n",
    "1288 84.32426\n",
    "1979 84.68402\n",
    "4514 86.46811\n",
    "4545 86.78757\n",
    "5336 87.7751\n",
    "1035 88.10655\n",
    "5331 88.26984\n",
    "Query: high levels growth\n",
    "Relevant documents: 40 2022\n",
    "40 75.39128\n",
    "2022 83.46342"
   ]
  },
  {
   "cell_type": "code",
   "execution_count": null,
   "id": "1319f535",
   "metadata": {},
   "outputs": [],
   "source": []
  },
  {
   "cell_type": "code",
   "execution_count": null,
   "id": "d1f05bfa",
   "metadata": {},
   "outputs": [],
   "source": []
  },
  {
   "cell_type": "code",
   "execution_count": null,
   "id": "e93b7d55",
   "metadata": {},
   "outputs": [],
   "source": []
  },
  {
   "cell_type": "code",
   "execution_count": null,
   "id": "5f51563a",
   "metadata": {},
   "outputs": [],
   "source": [
    "lst = []\n",
    "for query in queries:\n",
    "    # Removing Space and \\n from the end of query\n",
    "    query = query.strip()\n",
    "\n",
    "    # Split the query in words\n",
    "    queryWords = query.split()\n",
    "    Relevant_Documents = [invert_index.get(q,[]) for q in queryWords]\n",
    "#     print(query)\n",
    "    lst.append(Relevant_Documents)"
   ]
  },
  {
   "cell_type": "code",
   "execution_count": null,
   "id": "0a358b55",
   "metadata": {},
   "outputs": [],
   "source": [
    "lst[0]"
   ]
  },
  {
   "cell_type": "code",
   "execution_count": null,
   "id": "abd25406",
   "metadata": {},
   "outputs": [],
   "source": [
    "dictionary"
   ]
  },
  {
   "cell_type": "code",
   "execution_count": 43,
   "id": "4e66e205",
   "metadata": {},
   "outputs": [],
   "source": [
    "import os\n",
    "from functools import reduce"
   ]
  },
  {
   "cell_type": "code",
   "execution_count": 44,
   "id": "d3f8896e",
   "metadata": {},
   "outputs": [],
   "source": [
    "def inverted_index(words):      \n",
    "    inverted = {}\n",
    "    for index, word in enumerate(words):\n",
    "        locations = inverted.setdefault(word, [])\n",
    "        locations.append(index)\n",
    "    return inverted\n",
    "\n",
    "def inverted_index_add(inverted, doc_id, doc_index):        \n",
    "    for word in doc_index.keys():\n",
    "        locations = doc_index[word]\n",
    "        indices = inverted.setdefault(word, {})\n",
    "        indices[doc_id] = locations\n",
    "    return inverted"
   ]
  },
  {
   "cell_type": "code",
   "execution_count": 45,
   "id": "0e22114b",
   "metadata": {},
   "outputs": [],
   "source": [
    "inverted_doc_indexes = {}\n",
    "files_with_index = []\n",
    "files_with_tokens = {}\n",
    "doc_id=0\n",
    "for fname,line in enumerate(docs):\n",
    "    words = line.split()\n",
    "    files_with_tokens[doc_id] = words\n",
    "    doc_index = inverted_index(words)\n",
    "    inverted_index_add(inverted_doc_indexes, doc_id, doc_index)\n",
    "    files_with_index.append(fname+1)\n",
    "    doc_id = doc_id+1"
   ]
  },
  {
   "cell_type": "code",
   "execution_count": 46,
   "id": "2ee081df",
   "metadata": {},
   "outputs": [],
   "source": [
    "def boolean_search(inverted, file_names, query):\n",
    "    words = [word for _, word in enumerate(query.split()) if word in inverted]\n",
    "    results = [set(inverted[word].keys()) for word in words]\n",
    "    docs = reduce(lambda x, y: x & y, results) if results else []\n",
    "    return {i+1 for i in docs}"
   ]
  },
  {
   "cell_type": "code",
   "execution_count": 41,
   "id": "23d6415f",
   "metadata": {},
   "outputs": [
    {
     "data": {
      "text/plain": [
       "{1035, 1288, 1979, 4514, 4545, 5331, 5336}"
      ]
     },
     "execution_count": 41,
     "metadata": {},
     "output_type": "execute_result"
    }
   ],
   "source": [
    "boolean_search(inverted_doc_indexes, files_with_index, \"building area\")"
   ]
  },
  {
   "cell_type": "code",
   "execution_count": null,
   "id": "a5dc5163",
   "metadata": {},
   "outputs": [],
   "source": []
  }
 ],
 "metadata": {
  "kernelspec": {
   "display_name": "Python 3 (ipykernel)",
   "language": "python",
   "name": "python3"
  },
  "language_info": {
   "codemirror_mode": {
    "name": "ipython",
    "version": 3
   },
   "file_extension": ".py",
   "mimetype": "text/x-python",
   "name": "python",
   "nbconvert_exporter": "python",
   "pygments_lexer": "ipython3",
   "version": "3.8.5"
  }
 },
 "nbformat": 4,
 "nbformat_minor": 5
}
