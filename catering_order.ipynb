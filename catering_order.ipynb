{
 "cells": [
  {
   "cell_type": "code",
   "execution_count": 1,
   "metadata": {},
   "outputs": [],
   "source": [
    "# load menu json file\n",
    "import json\n",
    "with open('menu.json', 'r') as fp:\n",
    "    menu = json.load(fp)\n",
    "    \n",
    "items = menu['MenuItems']"
   ]
  },
  {
   "cell_type": "code",
   "execution_count": 2,
   "metadata": {},
   "outputs": [],
   "source": [
    "# get appetizer , dessert and entree  details\n",
    "dict_appetizer = [item for item in items if item['FoodType']=='appetizer']\n",
    "dict_dessert = [item for item in items if item['FoodType']=='dessert']\n",
    "dict_entree = [item for item in items if item['FoodType']=='entree']\n",
    "\n",
    "# sort on the basis of price in ascending order\n",
    "dict_appetizer = sorted(dict_appetizer,key= lambda x:x['Price'])\n",
    "dict_dessert = sorted(dict_dessert,key= lambda x:x['Price'])\n",
    "dict_entree = sorted(dict_entree,key= lambda x:x['Price'])"
   ]
  },
  {
   "cell_type": "code",
   "execution_count": 3,
   "metadata": {},
   "outputs": [],
   "source": [
    "# get cheapest 5 appetizer  and dessert\n",
    "order_appetizer = dict_appetizer[:5]\n",
    "order_dessert = dict_dessert[:5]"
   ]
  },
  {
   "cell_type": "code",
   "execution_count": 4,
   "metadata": {},
   "outputs": [],
   "source": [
    "MenuItems = []\n",
    "\n",
    "# add appetizer to MenuItems\n",
    "MenuItems.extend(order_appetizer)"
   ]
  },
  {
   "cell_type": "code",
   "execution_count": 5,
   "metadata": {},
   "outputs": [],
   "source": [
    "balance = 300\n",
    "# cost of appetizer\n",
    "cost_appetizer = sum([item['Price'] for item in order_appetizer])\n",
    "\n",
    "# cost of dessert\n",
    "cost_dessert = sum([item['Price'] for item in order_dessert])\n",
    "\n",
    "# balance left after appetizer and dessert\n",
    "balance = balance - cost_appetizer - cost_dessert"
   ]
  },
  {
   "cell_type": "code",
   "execution_count": 6,
   "metadata": {},
   "outputs": [
    {
     "data": {
      "text/plain": [
       "258.23999999999995"
      ]
     },
     "execution_count": 6,
     "metadata": {},
     "output_type": "execute_result"
    }
   ],
   "source": [
    "balance"
   ]
  },
  {
   "cell_type": "code",
   "execution_count": 7,
   "metadata": {},
   "outputs": [],
   "source": [
    "# add entree items to MenuItems until balance exhausted\n",
    "while balance>=0:\n",
    "    item = dict_entree.pop(0)\n",
    "    if item['Price'] <= balance:\n",
    "        MenuItems.append(item)\n",
    "        balance = balance - item['Price']\n",
    "    else:\n",
    "        # add dessert to MenuItems\n",
    "        MenuItems.extend(order_dessert)\n",
    "        break"
   ]
  },
  {
   "cell_type": "code",
   "execution_count": 8,
   "metadata": {},
   "outputs": [
    {
     "data": {
      "text/plain": [
       "[{'FoodType': 'appetizer', 'Name': 'nachos', 'Price': 2.99},\n",
       " {'FoodType': 'appetizer', 'Name': 'chips and salsa', 'Price': 3.55},\n",
       " {'FoodType': 'appetizer', 'Name': 'edamame', 'Price': 3.95},\n",
       " {'FoodType': 'appetizer', 'Name': 'pretzel', 'Price': 4.95},\n",
       " {'FoodType': 'appetizer', 'Name': 'onion rings', 'Price': 5.97},\n",
       " {'FoodType': 'entree', 'Name': 'classic chili', 'Price': 6.89},\n",
       " {'FoodType': 'entree', 'Name': 'small cheese pizza', 'Price': 7.95},\n",
       " {'FoodType': 'entree', 'Name': 'carnitas burrito', 'Price': 8.0},\n",
       " {'FoodType': 'entree', 'Name': 'philly roll', 'Price': 8.95},\n",
       " {'FoodType': 'entree', 'Name': 'cuban sandwich', 'Price': 9.8},\n",
       " {'FoodType': 'entree', 'Name': 'fried chicken', 'Price': 9.9},\n",
       " {'FoodType': 'entree', 'Name': 'spaghetti and meatballs', 'Price': 9.95},\n",
       " {'FoodType': 'entree', 'Name': 'cheeseburger', 'Price': 11.06},\n",
       " {'FoodType': 'entree', 'Name': 'pasta carbonara', 'Price': 11.79},\n",
       " {'FoodType': 'entree', 'Name': 'fish and chips', 'Price': 12.05},\n",
       " {'FoodType': 'entree', 'Name': 'beef stroganoff', 'Price': 12.15},\n",
       " {'FoodType': 'entree', 'Name': 'bacon cheeseburger', 'Price': 12.95},\n",
       " {'FoodType': 'entree', 'Name': 'fettuccine alfredo', 'Price': 13.05},\n",
       " {'FoodType': 'entree', 'Name': 'margherita Pizza', 'Price': 13.09},\n",
       " {'FoodType': 'entree', 'Name': 'chicken marsala', 'Price': 13.3},\n",
       " {'FoodType': 'entree', 'Name': 'lasagna with meat sauce', 'Price': 15.0},\n",
       " {'FoodType': 'entree', 'Name': 'biscuits and gravy', 'Price': 15.09},\n",
       " {'FoodType': 'entree', 'Name': 'slow cooker pot roast', 'Price': 16.19},\n",
       " {'FoodType': 'entree', 'Name': 'chicken and waffles', 'Price': 16.6},\n",
       " {'FoodType': 'entree', 'Name': 'deep-dish pizza', 'Price': 16.65},\n",
       " {'FoodType': 'entree', 'Name': 'curried coconut chicken', 'Price': 16.89},\n",
       " {'FoodType': 'dessert', 'Name': 'ice cream scoop', 'Price': 1.95},\n",
       " {'FoodType': 'dessert', 'Name': 'chocolate mousse', 'Price': 3.95},\n",
       " {'FoodType': 'dessert', 'Name': 'gelato', 'Price': 4.45},\n",
       " {'FoodType': 'dessert', 'Name': 'flan', 'Price': 4.75},\n",
       " {'FoodType': 'dessert', 'Name': 'apple pie', 'Price': 5.25}]"
      ]
     },
     "execution_count": 8,
     "metadata": {},
     "output_type": "execute_result"
    }
   ],
   "source": [
    "MenuItems"
   ]
  },
  {
   "cell_type": "code",
   "execution_count": 9,
   "metadata": {},
   "outputs": [
    {
     "data": {
      "text/plain": [
       "299.05999999999995"
      ]
     },
     "execution_count": 9,
     "metadata": {},
     "output_type": "execute_result"
    }
   ],
   "source": [
    "# total order value\n",
    "sum([item['Price'] for item in MenuItems])"
   ]
  },
  {
   "cell_type": "code",
   "execution_count": 10,
   "metadata": {},
   "outputs": [],
   "source": [
    "TotalItems = len(MenuItems)"
   ]
  },
  {
   "cell_type": "code",
   "execution_count": 11,
   "metadata": {},
   "outputs": [],
   "source": [
    "# order json\n",
    "order_json = {\n",
    "    'TotalItems': TotalItems,\n",
    "    'MenuItems': MenuItems\n",
    "}"
   ]
  },
  {
   "cell_type": "code",
   "execution_count": 12,
   "metadata": {},
   "outputs": [
    {
     "data": {
      "text/plain": [
       "{'TotalItems': 31,\n",
       " 'MenuItems': [{'FoodType': 'appetizer', 'Name': 'nachos', 'Price': 2.99},\n",
       "  {'FoodType': 'appetizer', 'Name': 'chips and salsa', 'Price': 3.55},\n",
       "  {'FoodType': 'appetizer', 'Name': 'edamame', 'Price': 3.95},\n",
       "  {'FoodType': 'appetizer', 'Name': 'pretzel', 'Price': 4.95},\n",
       "  {'FoodType': 'appetizer', 'Name': 'onion rings', 'Price': 5.97},\n",
       "  {'FoodType': 'entree', 'Name': 'classic chili', 'Price': 6.89},\n",
       "  {'FoodType': 'entree', 'Name': 'small cheese pizza', 'Price': 7.95},\n",
       "  {'FoodType': 'entree', 'Name': 'carnitas burrito', 'Price': 8.0},\n",
       "  {'FoodType': 'entree', 'Name': 'philly roll', 'Price': 8.95},\n",
       "  {'FoodType': 'entree', 'Name': 'cuban sandwich', 'Price': 9.8},\n",
       "  {'FoodType': 'entree', 'Name': 'fried chicken', 'Price': 9.9},\n",
       "  {'FoodType': 'entree', 'Name': 'spaghetti and meatballs', 'Price': 9.95},\n",
       "  {'FoodType': 'entree', 'Name': 'cheeseburger', 'Price': 11.06},\n",
       "  {'FoodType': 'entree', 'Name': 'pasta carbonara', 'Price': 11.79},\n",
       "  {'FoodType': 'entree', 'Name': 'fish and chips', 'Price': 12.05},\n",
       "  {'FoodType': 'entree', 'Name': 'beef stroganoff', 'Price': 12.15},\n",
       "  {'FoodType': 'entree', 'Name': 'bacon cheeseburger', 'Price': 12.95},\n",
       "  {'FoodType': 'entree', 'Name': 'fettuccine alfredo', 'Price': 13.05},\n",
       "  {'FoodType': 'entree', 'Name': 'margherita Pizza', 'Price': 13.09},\n",
       "  {'FoodType': 'entree', 'Name': 'chicken marsala', 'Price': 13.3},\n",
       "  {'FoodType': 'entree', 'Name': 'lasagna with meat sauce', 'Price': 15.0},\n",
       "  {'FoodType': 'entree', 'Name': 'biscuits and gravy', 'Price': 15.09},\n",
       "  {'FoodType': 'entree', 'Name': 'slow cooker pot roast', 'Price': 16.19},\n",
       "  {'FoodType': 'entree', 'Name': 'chicken and waffles', 'Price': 16.6},\n",
       "  {'FoodType': 'entree', 'Name': 'deep-dish pizza', 'Price': 16.65},\n",
       "  {'FoodType': 'entree', 'Name': 'curried coconut chicken', 'Price': 16.89},\n",
       "  {'FoodType': 'dessert', 'Name': 'ice cream scoop', 'Price': 1.95},\n",
       "  {'FoodType': 'dessert', 'Name': 'chocolate mousse', 'Price': 3.95},\n",
       "  {'FoodType': 'dessert', 'Name': 'gelato', 'Price': 4.45},\n",
       "  {'FoodType': 'dessert', 'Name': 'flan', 'Price': 4.75},\n",
       "  {'FoodType': 'dessert', 'Name': 'apple pie', 'Price': 5.25}]}"
      ]
     },
     "execution_count": 12,
     "metadata": {},
     "output_type": "execute_result"
    }
   ],
   "source": [
    "order_json"
   ]
  },
  {
   "cell_type": "code",
   "execution_count": 13,
   "metadata": {},
   "outputs": [],
   "source": [
    "# save order json\n",
    "with open('order.json', 'w') as fp:\n",
    "    json.dump(order_json, fp)"
   ]
  },
  {
   "cell_type": "code",
   "execution_count": null,
   "metadata": {},
   "outputs": [],
   "source": []
  }
 ],
 "metadata": {
  "kernelspec": {
   "display_name": "Python 3",
   "language": "python",
   "name": "python3"
  },
  "language_info": {
   "codemirror_mode": {
    "name": "ipython",
    "version": 3
   },
   "file_extension": ".py",
   "mimetype": "text/x-python",
   "name": "python",
   "nbconvert_exporter": "python",
   "pygments_lexer": "ipython3",
   "version": "3.8.5"
  }
 },
 "nbformat": 4,
 "nbformat_minor": 4
}
