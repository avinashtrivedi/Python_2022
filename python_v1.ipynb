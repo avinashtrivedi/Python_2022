{
 "cells": [
  {
   "cell_type": "markdown",
   "id": "e362f06c",
   "metadata": {},
   "source": [
    "# Question 1\n",
    "\n",
    "Create a program that calculates total pay given hours worked, overtime pay, and taxes owed given that the California tax rate is 7.25%. (Overtime pay is double).\n",
    "\n",
    "**Hint:** \n",
    "- You need to ask the user how much they pay per hour and how many hours they worked that week."
   ]
  },
  {
   "cell_type": "code",
   "execution_count": 3,
   "id": "e2d24b7c",
   "metadata": {},
   "outputs": [
    {
     "name": "stdout",
     "output_type": "stream",
     "text": [
      "Enter number of hours you have worked: 4\n",
      "How much is your hourly rate: 2\n",
      "How many hours you have worked overtime: 2\n",
      "Your Total pay is: 14.84\n"
     ]
    }
   ],
   "source": [
    "hours_worked = int(input('Enter number of hours you have worked: '))\n",
    "hourly_rate = float(input('How much is your hourly rate: '))\n",
    "overtime = float(input('How many hours you have worked overtime: '))\n",
    "tax = 7.25\n",
    "\n",
    "total_pay = (hours_worked*hourly_rate + overtime*2*hourly_rate)*(100-tax)/100\n",
    "print('Your Total pay is:',total_pay)"
   ]
  },
  {
   "cell_type": "markdown",
   "id": "dcb0376b",
   "metadata": {},
   "source": [
    "# Question 1.5\n",
    "\n",
    "Turn that program into a function."
   ]
  },
  {
   "cell_type": "code",
   "execution_count": 9,
   "id": "93e4b5e7",
   "metadata": {},
   "outputs": [],
   "source": [
    "def mypayment(hours_worked,hourly_rate,overtime):\n",
    "    tax = 7.25\n",
    "    total_pay = (hours_worked*hourly_rate + overtime*2*hourly_rate)*(100-tax)/100\n",
    "    return total_pay"
   ]
  },
  {
   "cell_type": "code",
   "execution_count": 11,
   "id": "e384feb2",
   "metadata": {},
   "outputs": [
    {
     "name": "stdout",
     "output_type": "stream",
     "text": [
      "Your Total pay is: 779.1\n"
     ]
    }
   ],
   "source": [
    "# hours_worked: 10\n",
    "# hourly_rate : 60\n",
    "# overtime : 2\n",
    "\n",
    "print(\"Your Total pay is:\",mypayment(10,60,2))"
   ]
  },
  {
   "cell_type": "markdown",
   "id": "ebe73c7a",
   "metadata": {},
   "source": [
    "Question 2\n",
    "\n",
    "University is offering a new course that's Pass or Fall. Create a program that tells users if they passed or failed based on their raw score. Scores of an 80 or better Pass and a 79 or worse is a Fail.\n",
    "\n",
    "**Hint**\n",
    "- You're going to use an if/else structure."
   ]
  },
  {
   "cell_type": "code",
   "execution_count": 6,
   "id": "e4e6ea20",
   "metadata": {},
   "outputs": [
    {
     "name": "stdout",
     "output_type": "stream",
     "text": [
      "Enter your score: 45\n",
      "Fail\n"
     ]
    }
   ],
   "source": [
    "score = int(input('Enter your score: '))\n",
    "if score>=80:\n",
    "    print('Pass')\n",
    "else:\n",
    "    print(\"Fail\")"
   ]
  },
  {
   "cell_type": "markdown",
   "id": "bd7272ce",
   "metadata": {},
   "source": [
    "# Question 2.5\n",
    "\n",
    "Turn that program into a function."
   ]
  },
  {
   "cell_type": "code",
   "execution_count": 7,
   "id": "15c035e1",
   "metadata": {},
   "outputs": [],
   "source": [
    "def grade(score):\n",
    "    if score>=80:\n",
    "        return 'Pass'\n",
    "    else:\n",
    "        return \"Fail\""
   ]
  },
  {
   "cell_type": "code",
   "execution_count": 8,
   "id": "1bbd9286",
   "metadata": {},
   "outputs": [
    {
     "data": {
      "text/plain": [
       "'Fail'"
      ]
     },
     "execution_count": 8,
     "metadata": {},
     "output_type": "execute_result"
    }
   ],
   "source": [
    "grade(78)"
   ]
  },
  {
   "cell_type": "markdown",
   "id": "b6ac129c",
   "metadata": {},
   "source": [
    "# Question 3\n",
    "\n",
    "Write code that extracts the charactes between the colon (:) and the second dash (-). Then communicate those characters to the user. \n",
    "\n",
    "sample = \"V-STAMP:65cdf86a-CSUEB\""
   ]
  },
  {
   "cell_type": "code",
   "execution_count": 16,
   "id": "66e01b95",
   "metadata": {},
   "outputs": [
    {
     "data": {
      "text/plain": [
       "'65cdf86a'"
      ]
     },
     "execution_count": 16,
     "metadata": {},
     "output_type": "execute_result"
    }
   ],
   "source": [
    "sample = \"V-STAMP:65cdf86a-CSUEB\"\n",
    "indx_of_colon = sample.find(\":\")\n",
    "temp = sample[indx_of_colon+1:]\n",
    "indx_of_dash = temp.find(\"-\")\n",
    "\n",
    "temp = temp[:indx_of_dash]\n",
    "temp"
   ]
  },
  {
   "cell_type": "markdown",
   "id": "d8312d58",
   "metadata": {},
   "source": [
    "# Question 4\n",
    "\n",
    "**A text file of the Macbeth play is on BB.**\n",
    "\n",
    "Write code that counts the number of times \"Macbeth\" was mentioned in the play."
   ]
  },
  {
   "cell_type": "code",
   "execution_count": 17,
   "id": "47ce86c5",
   "metadata": {},
   "outputs": [],
   "source": [
    "fp = open(\"Macbeth.txt\")\n",
    "data_str = fp.read()\n",
    "fp.close()\n",
    "count = data_str.count('Macbeth')\n",
    "print('Total number of times Macbeth is mentioned in the play:',count)"
   ]
  },
  {
   "cell_type": "markdown",
   "id": "69e01864",
   "metadata": {},
   "source": [
    "# Question 4.1 \n",
    "\n",
    "Write code that prints all the lines that start with \"LADY MACBETH\" in the play."
   ]
  },
  {
   "cell_type": "code",
   "execution_count": null,
   "id": "65273c98",
   "metadata": {},
   "outputs": [],
   "source": [
    "fp = open(\"Macbeth.txt\")\n",
    "data_list = fp.readlines()\n",
    "fp.close()\n",
    "\n",
    "for line in data_list:\n",
    "    if line.startswith('LADY MACBETH'):\n",
    "        print(line)"
   ]
  },
  {
   "cell_type": "markdown",
   "id": "68b061d4",
   "metadata": {},
   "source": [
    "# Question 4.2 \n",
    "\n",
    "Create a program that tells the user how many times the main characters were mentioned in Macbeth.\n",
    "\n",
    "The main characters are Lady Macbeth, Macbeth, Macduff, Malcolm, Banquo, First Witch, Second Witch, Third Witch"
   ]
  },
  {
   "cell_type": "code",
   "execution_count": null,
   "id": "2348cca0",
   "metadata": {},
   "outputs": [],
   "source": [
    "main_char =  ['Lady Macbeth', 'Macbeth', 'Macduff', 'Malcolm', 'Banquo', 'First Witch', 'Second Witch', 'Third Witch']\n",
    "for char in main_char:\n",
    "    print(f'Count of {char}:-',data_str.count(char))"
   ]
  },
  {
   "cell_type": "markdown",
   "id": "50ed91e8",
   "metadata": {},
   "source": [
    "#Question 5 \n",
    "\n",
    "Create a new text file called \"popularMajors\" that lists the Top 5 most popular undergraduate majors From any university"
   ]
  },
  {
   "cell_type": "code",
   "execution_count": 32,
   "id": "fc292007",
   "metadata": {},
   "outputs": [],
   "source": [
    "undergrad_majors = ['Business','Nursing','Biomedical sciences','Biology','Psychology']\n",
    "\n",
    "fp = open(\"popularMajors.txt\",'w')\n",
    "for major in undergrad_majors:\n",
    "    fp.write(major)\n",
    "    fp.write(\"\\n\")\n",
    "fp.close()"
   ]
  },
  {
   "cell_type": "markdown",
   "id": "03778a3f",
   "metadata": {},
   "source": [
    "# Question 6\n",
    "\n",
    "This code will throw an error. Explain why. \n",
    "\n",
    "Explain why here: String is immutable, its value can't be changed"
   ]
  },
  {
   "cell_type": "code",
   "execution_count": 20,
   "id": "107cc242",
   "metadata": {},
   "outputs": [
    {
     "ename": "TypeError",
     "evalue": "'str' object does not support item assignment",
     "output_type": "error",
     "traceback": [
      "\u001b[1;31m---------------------------------------------------------------------------\u001b[0m",
      "\u001b[1;31mTypeError\u001b[0m                                 Traceback (most recent call last)",
      "Input \u001b[1;32mIn [20]\u001b[0m, in \u001b[0;36m<cell line: 2>\u001b[1;34m()\u001b[0m\n\u001b[0;32m      1\u001b[0m university \u001b[38;5;241m=\u001b[39m \u001b[38;5;124m\"\u001b[39m\u001b[38;5;124mVirginia State University at East Bay\u001b[39m\u001b[38;5;124m\"\u001b[39m\n\u001b[1;32m----> 2\u001b[0m university[\u001b[38;5;241m0\u001b[39m] \u001b[38;5;241m=\u001b[39m \u001b[38;5;124m\"\u001b[39m\u001b[38;5;124mCalifornia\u001b[39m\u001b[38;5;124m\"\u001b[39m\n",
      "\u001b[1;31mTypeError\u001b[0m: 'str' object does not support item assignment"
     ]
    }
   ],
   "source": [
    "university = \"Virginia State University at East Bay\"\n",
    "university[0] = \"California\""
   ]
  },
  {
   "cell_type": "markdown",
   "id": "7c211117",
   "metadata": {},
   "source": [
    "# Question 7\n",
    "\n",
    "The \"animeWatchList\" is empty. Write code that appends 10 of the best shonen anime in the past 20 years to this empty list. \n",
    "Then print the list. Use this site as a reference: https://www.cbr.com/anime-best-shonen-series-ever/\n"
   ]
  },
  {
   "cell_type": "code",
   "execution_count": 22,
   "id": "f9d7c23a",
   "metadata": {},
   "outputs": [
    {
     "name": "stdout",
     "output_type": "stream",
     "text": [
      "['Death Note', 'Haikyuu', 'Jujutsu Kaisen', 'Black Clover', 'Attack On Titan', 'Gintama', 'Bleach', 'Spy X Family', 'Assassination Classroom', 'Fairy Tail']\n"
     ]
    }
   ],
   "source": [
    "animeWatchList = list()\n",
    "animeWatchList.append(\"Death Note\")\n",
    "animeWatchList.append(\"Haikyuu\")\n",
    "animeWatchList.append(\"Jujutsu Kaisen\")\n",
    "animeWatchList.append(\"Black Clover\")\n",
    "animeWatchList.append(\"Attack On Titan\")\n",
    "animeWatchList.append(\"Gintama\")\n",
    "animeWatchList.append(\"Bleach\")\n",
    "animeWatchList.append(\"Spy X Family\")\n",
    "animeWatchList.append(\"Assassination Classroom\")\n",
    "animeWatchList.append(\"Fairy Tail\")\n",
    "print(animeWatchList)"
   ]
  },
  {
   "cell_type": "markdown",
   "id": "b1cb1901",
   "metadata": {},
   "source": [
    "# Question 8\n",
    "\n",
    "Python provides two operators that checks if an item is in a list. What are they? \n",
    "\n",
    "List them here: \n",
    "1) count\n",
    "2) in"
   ]
  },
  {
   "cell_type": "code",
   "execution_count": 33,
   "id": "501a91f3",
   "metadata": {},
   "outputs": [
    {
     "data": {
      "text/plain": [
       "1"
      ]
     },
     "execution_count": 33,
     "metadata": {},
     "output_type": "execute_result"
    }
   ],
   "source": [
    "animeWatchList.count('Gintama')"
   ]
  },
  {
   "cell_type": "code",
   "execution_count": 34,
   "id": "4a2cfdaf",
   "metadata": {},
   "outputs": [
    {
     "data": {
      "text/plain": [
       "True"
      ]
     },
     "execution_count": 34,
     "metadata": {},
     "output_type": "execute_result"
    }
   ],
   "source": [
    "'Gintama' in animeWatchList"
   ]
  },
  {
   "cell_type": "markdown",
   "id": "86207f22",
   "metadata": {},
   "source": [
    "# Question 9\n",
    "\n",
    "Explain why \"Kagome\" is not in the dictionary. Then explain how to fix it. \n",
    "- \"Kagome\" will become part of dictionary only when Else condition will satisfied.\n",
    "- Else condition will be satisfied only when,femaleCharacters list have repeated/duplicate element. and femaleCharacters list dont have any duplicate element, hence else condition will never be satisfied.\n",
    "\n",
    "# fix\n",
    "- put mainCharacters[\"Kagome\"] = mainCharacters.get(\"Kagome\", 1)  outside the for loop"
   ]
  },
  {
   "cell_type": "code",
   "execution_count": 25,
   "id": "d1e30a26",
   "metadata": {},
   "outputs": [
    {
     "name": "stdout",
     "output_type": "stream",
     "text": [
      "{'Hinata': 1, 'Sakura': 1, 'Konan': 1, 'Charmy': 1, 'Orihime': 1, 'Pitou': 1, 'Mikasa': 1, 'Nezuko': 1, 'Kagome': 1}\n"
     ]
    }
   ],
   "source": [
    "mainCharacters = dict() \n",
    "\n",
    "femaleCharacters = [\"Hinata\", \"Sakura\", \"Konan\", \"Charmy\", \n",
    "                    \"Orihime\", \"Pitou\", \"Mikasa\", \"Nezuko\"]\n",
    "\n",
    "for names in femaleCharacters: \n",
    "    \n",
    "    if names not in mainCharacters:\n",
    "        \n",
    "        mainCharacters[names] = 1\n",
    "        \n",
    "        \n",
    "    else: \n",
    "        mainCharacters[names] = mainCharacters[names] + 1 \n",
    "        \n",
    "mainCharacters[\"Kagome\"] = mainCharacters.get(\"Kagome\", 1) \n",
    "\n",
    "        \n",
    "\n",
    "        \n",
    "print(mainCharacters) "
   ]
  },
  {
   "cell_type": "code",
   "execution_count": null,
   "id": "382419e9",
   "metadata": {},
   "outputs": [],
   "source": []
  }
 ],
 "metadata": {
  "kernelspec": {
   "display_name": "Python 3 (ipykernel)",
   "language": "python",
   "name": "python3"
  },
  "language_info": {
   "codemirror_mode": {
    "name": "ipython",
    "version": 3
   },
   "file_extension": ".py",
   "mimetype": "text/x-python",
   "name": "python",
   "nbconvert_exporter": "python",
   "pygments_lexer": "ipython3",
   "version": "3.9.12"
  },
  "toc": {
   "base_numbering": 1,
   "nav_menu": {},
   "number_sections": true,
   "sideBar": true,
   "skip_h1_title": false,
   "title_cell": "Table of Contents",
   "title_sidebar": "Contents",
   "toc_cell": false,
   "toc_position": {},
   "toc_section_display": true,
   "toc_window_display": false
  },
  "varInspector": {
   "cols": {
    "lenName": 16,
    "lenType": 16,
    "lenVar": 40
   },
   "kernels_config": {
    "python": {
     "delete_cmd_postfix": "",
     "delete_cmd_prefix": "del ",
     "library": "var_list.py",
     "varRefreshCmd": "print(var_dic_list())"
    },
    "r": {
     "delete_cmd_postfix": ") ",
     "delete_cmd_prefix": "rm(",
     "library": "var_list.r",
     "varRefreshCmd": "cat(var_dic_list()) "
    }
   },
   "types_to_exclude": [
    "module",
    "function",
    "builtin_function_or_method",
    "instance",
    "_Feature"
   ],
   "window_display": false
  }
 },
 "nbformat": 4,
 "nbformat_minor": 5
}
