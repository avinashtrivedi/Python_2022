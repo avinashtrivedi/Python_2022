{
 "cells": [
  {
   "cell_type": "code",
   "execution_count": 1,
   "metadata": {},
   "outputs": [],
   "source": [
    "        # find out if it's a zip folder \n",
    "        #for zip folder \n",
    "        # use glob\n",
    "        # iterate though to read each fileName that contains 1.'project' 2. 'main' 3. 'tomb' 4. 'wave'\n",
    "        # for each file name read it using pd.read_csv(, sep= '\\t', header=0)"
   ]
  },
  {
   "cell_type": "code",
   "execution_count": 2,
   "metadata": {},
   "outputs": [
    {
     "name": "stdout",
     "output_type": "stream",
     "text": [
      "                                                       0\n",
      "0             measure,quantile,time,sex,age,ethnic,value\n",
      "1           lx,2.50%,2017-19,Female,0 years,Total,100000\n",
      "2            lx,2.50%,2017-19,Female,1 years,Total,99543\n",
      "3            lx,2.50%,2017-19,Female,2 years,Total,99512\n",
      "4            lx,2.50%,2017-19,Female,3 years,Total,99490\n",
      "...                                                  ...\n",
      "92465  ex,97.50%,2017-19,Male,96 years,European or Ot...\n",
      "92466  ex,97.50%,2017-19,Male,97 years,European or Ot...\n",
      "92467  ex,97.50%,2017-19,Male,98 years,European or Ot...\n",
      "92468  ex,97.50%,2017-19,Male,99 years,European or Ot...\n",
      "92469  ex,97.50%,2017-19,Male,100 years,European or O...\n",
      "\n",
      "[92470 rows x 1 columns]\n",
      "                                                       0\n",
      "0             measure,quantile,time,sex,age,ethnic,value\n",
      "1           lx,2.50%,2017-19,Female,0 years,Total,100000\n",
      "2            lx,2.50%,2017-19,Female,1 years,Total,99543\n",
      "3            lx,2.50%,2017-19,Female,2 years,Total,99512\n",
      "4            lx,2.50%,2017-19,Female,3 years,Total,99490\n",
      "...                                                  ...\n",
      "92465  ex,97.50%,2017-19,Male,96 years,European or Ot...\n",
      "92466  ex,97.50%,2017-19,Male,97 years,European or Ot...\n",
      "92467  ex,97.50%,2017-19,Male,98 years,European or Ot...\n",
      "92468  ex,97.50%,2017-19,Male,99 years,European or Ot...\n",
      "92469  ex,97.50%,2017-19,Male,100 years,European or O...\n",
      "\n",
      "[92470 rows x 1 columns]\n"
     ]
    }
   ],
   "source": [
    "import glob\n",
    "import zipfile\n",
    "import pandas as pd\n",
    "\n",
    "for zip_file in glob.glob(\"*.zip\"):\n",
    "    zf = zipfile.ZipFile(zip_file)\n",
    "    flist = [i for i in zf.filelist if '__MACOSX' not in i.filename and '.csv' in i.filename]\n",
    "    flist = [f for f in flist if 'project' in f.filename.lower() or 'main' in f.filename.lower() \n",
    "             or 'tomb' in f.filename.lower() or 'wave' in f.filename.lower()]\n",
    "    \n",
    "    dfs = [pd.read_csv(zf.open(f), header=None, sep=\";\") for f in flist]\n",
    "    df = pd.concat(dfs,ignore_index=True)\n",
    "    print(df)"
   ]
  },
  {
   "cell_type": "code",
   "execution_count": null,
   "metadata": {},
   "outputs": [],
   "source": []
  }
 ],
 "metadata": {
  "kernelspec": {
   "display_name": "Python 3",
   "language": "python",
   "name": "python3"
  },
  "language_info": {
   "codemirror_mode": {
    "name": "ipython",
    "version": 3
   },
   "file_extension": ".py",
   "mimetype": "text/x-python",
   "name": "python",
   "nbconvert_exporter": "python",
   "pygments_lexer": "ipython3",
   "version": "3.8.5"
  }
 },
 "nbformat": 4,
 "nbformat_minor": 4
}
