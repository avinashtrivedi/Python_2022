{
 "cells": [
  {
   "cell_type": "code",
   "execution_count": null,
   "metadata": {},
   "outputs": [],
   "source": [
    "!pip install -r requirements.txt"
   ]
  },
  {
   "cell_type": "code",
   "execution_count": 1,
   "metadata": {},
   "outputs": [],
   "source": [
    "import os\n",
    "import pdfx\n",
    "import pandas as pd"
   ]
  },
  {
   "cell_type": "code",
   "execution_count": 2,
   "metadata": {},
   "outputs": [],
   "source": [
    "# get all the pdf files in the data directory\n",
    "files = os.listdir(\"data/\")"
   ]
  },
  {
   "cell_type": "code",
   "execution_count": 3,
   "metadata": {},
   "outputs": [],
   "source": [
    "# list to store the required data\n",
    "data = []"
   ]
  },
  {
   "cell_type": "code",
   "execution_count": 4,
   "metadata": {},
   "outputs": [],
   "source": [
    "following_string = 'Bitte überprüfen Sie den Kontoauszug. Ohne Ihren Gegenbericht innert 30 Tagen gilt er als genehmigt.'"
   ]
  },
  {
   "cell_type": "code",
   "execution_count": 5,
   "metadata": {},
   "outputs": [],
   "source": [
    "# iterate over all the files\n",
    "for file in files:\n",
    "    if file.endswith(\".pdf\"): # check if the file is a pdf file\n",
    "        pdf = pdfx.PDFx(\"data/\"+file).get_text() # get the text from the pdf file\n",
    "        start = 0 # start index of the data\n",
    "        while start<len(pdf)-5: # iterate until the end of the pdf file\n",
    "            index = pdf[start:].find(\"Total\") # find the index of the word \"Total\"\n",
    "            if index == -1: # if the word \"Total\" is not found\n",
    "                break # break the loop\n",
    "            start += (index+5) # move the start index to the character after \"Total\"\n",
    "            text = [t.strip() for t in pdf[start:start+150].strip().replace('\\n\\n','\\n').split('\\n')] # get the text from the pdf file, remove spaces, replace multiple new lines with single new line and split the lines into a list\n",
    "            gutschrift = text[0] # get the gutschrift which is the first line of the text\n",
    "            if gutschrift.count('.')>1: # if the gutschrift has more than one dot, then it is not a number\n",
    "                break # break the loop since gutschrift should be a number\n",
    "            try:\n",
    "                gutschrift = float(gutschrift.replace(\" \", \"\")) # convert the gutschrift to a float\n",
    "            except:\n",
    "                break # break the loop since the gutschrift should be a number\n",
    "\n",
    "            lastschrift = text[1] # get the lastschrift which is the second line of the text\n",
    "            if lastschrift.count('.')>1: # if the lastschrift has more than one dot, then it is not a number\n",
    "                break # break the loop since lastschrift should be a number\n",
    "            try:\n",
    "                lastschrift = float(lastschrift.replace(\" \", \"\")) # convert the lastschrift to a float\n",
    "            except:\n",
    "                break # break the loop since the lastschrift should be a number\n",
    "\n",
    "            datum = text[2] # get the datum which is the third line of the text\n",
    "            if datum.count('.')!=2: # if the datum has more than two dots, then it is not a date\n",
    "                break # break the loop since datum should be a date\n",
    "\n",
    "            text_ = text[3] # get the text which is the fourth line of the text\n",
    "\n",
    "            temp = text[5] # desired data is followed by following_string\n",
    "            if len(temp)>len(following_string):\n",
    "                endtext = temp.find(following_string)\n",
    "            else:\n",
    "                endtext = following_string.find(temp)\n",
    "\n",
    "            if endtext==0: # if the desired data is found\n",
    "                data.append([datum, text_, gutschrift, lastschrift]) # append the data to the list\n",
    "                break # break the loop as every pdf file has only one desired data"
   ]
  },
  {
   "cell_type": "code",
   "execution_count": 6,
   "metadata": {},
   "outputs": [],
   "source": [
    "pd.DataFrame(data, columns=[\"Datum\", \"Text\", \"Gutschrift\", \"Lastschrift\"]).to_csv(\"totals.csv\", index=False)"
   ]
  },
  {
   "cell_type": "code",
   "execution_count": null,
   "metadata": {},
   "outputs": [],
   "source": []
  }
 ],
 "metadata": {
  "kernelspec": {
   "display_name": "Python 3 (ipykernel)",
   "language": "python",
   "name": "python3"
  },
  "language_info": {
   "codemirror_mode": {
    "name": "ipython",
    "version": 3
   },
   "file_extension": ".py",
   "mimetype": "text/x-python",
   "name": "python",
   "nbconvert_exporter": "python",
   "pygments_lexer": "ipython3",
   "version": "3.9.12"
  },
  "vscode": {
   "interpreter": {
    "hash": "81794d4967e6c3204c66dcd87b604927b115b27c00565d3d43f05ba2f3a2cb0d"
   }
  }
 },
 "nbformat": 4,
 "nbformat_minor": 2
}
