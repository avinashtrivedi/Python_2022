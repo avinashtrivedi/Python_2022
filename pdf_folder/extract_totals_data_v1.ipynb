{
 "cells": [
  {
   "cell_type": "code",
   "execution_count": 1,
   "metadata": {},
   "outputs": [],
   "source": [
    "# !pip install -r requirements.txt"
   ]
  },
  {
   "cell_type": "code",
   "execution_count": 2,
   "metadata": {},
   "outputs": [],
   "source": [
    "import os\n",
    "import pdfx\n",
    "import pandas as pd\n",
    "# from tqdm import tqdm\n",
    "from tqdm.notebook import tqdm"
   ]
  },
  {
   "cell_type": "code",
   "execution_count": 3,
   "metadata": {},
   "outputs": [],
   "source": [
    "# get all the pdf files in the data directory\n",
    "directories = ['05/','06/','07/','data/']\n",
    "files = [[d+file for file in os.listdir(d)] for d in directories]\n",
    "all_files = []\n",
    "for f in files:\n",
    "    all_files.extend(f)\n",
    "files = all_files"
   ]
  },
  {
   "cell_type": "code",
   "execution_count": 4,
   "metadata": {},
   "outputs": [],
   "source": [
    "# list to store the required data\n",
    "data = []"
   ]
  },
  {
   "cell_type": "code",
   "execution_count": 5,
   "metadata": {},
   "outputs": [],
   "source": [
    "following_string = 'Bitte überprüfen Sie den Kontoauszug. Ohne Ihren Gegenbericht innert 30 Tagen gilt er als genehmigt.'"
   ]
  },
  {
   "cell_type": "code",
   "execution_count": 6,
   "metadata": {},
   "outputs": [],
   "source": [
    "remaining = []"
   ]
  },
  {
   "cell_type": "code",
   "execution_count": 7,
   "metadata": {},
   "outputs": [
    {
     "data": {
      "application/vnd.jupyter.widget-view+json": {
       "model_id": "72949ba6f2bc49f3be507ebfe18fc351",
       "version_major": 2,
       "version_minor": 0
      },
      "text/plain": [
       "  0%|          | 0/68 [00:00<?, ?it/s]"
      ]
     },
     "metadata": {},
     "output_type": "display_data"
    }
   ],
   "source": [
    "# iterate over all the files\n",
    "for file in tqdm(files):\n",
    "    if file.endswith(\".pdf\"): # check if the file is a pdf file\n",
    "        found = False\n",
    "        pdf = pdfx.PDFx(file).get_text() # get the text from the pdf file\n",
    "        # print(len(pdf))\n",
    "        start = 0 # start index of the data\n",
    "        while start<len(pdf)-5: # iterate until the end of the pdf file\n",
    "            gutschrift, lastschrift, datum, text_ = '', '', '', ''\n",
    "            index = pdf[start:].find(\"Total\") # find the index of the word \"Total\"\n",
    "            # print(index)\n",
    "            if index == -1: # if the word \"Total\" is not found\n",
    "                break # break the loop\n",
    "            start += (index+5) # move the start index to the character after \"Total\"\n",
    "            text = [t.strip() for t in pdf[start:start+150].strip().replace('\\n\\n','\\n').split('\\n')] # get the text from the pdf file, remove spaces, replace multiple new lines with single new line and split the lines into a list\n",
    "\n",
    "            gutschrift = text[0] # get the gutschrift which is the first line of the text\n",
    "            if gutschrift.count('.')>1: # if the gutschrift has more than one dot, then it is not a number\n",
    "                if gutschrift.count('.')==2: # if the gutschrift has two dots, then it is a date\n",
    "                    datum = gutschrift # the date is the gutschrift\n",
    "                    text_ = text[1] # the text is the second line of the text\n",
    "\n",
    "                    idx = pdf[:start].find(following_string) # find the index of the following string\n",
    "                    if idx == -1: # if the following string is not found\n",
    "                        break # break the loop\n",
    "\n",
    "                    text1 = [t.strip() for t in pdf[idx-100:idx].strip().replace('\\n\\n','\\n').split('\\n')] # get the text from the pdf file, remove spaces, replace multiple new lines with single new line and split the lines into a list\n",
    "\n",
    "                    gutschrift = text1[-3] # get the gutschrift which is the third line from the ending of the text\n",
    "                    try:\n",
    "                        gutschrift = float(gutschrift.replace(\" \", \"\")) # convert the gutschrift to a float\n",
    "                    except:\n",
    "                        break # break the loop since the gutschrift should be a number\n",
    "\n",
    "                    lastschrift = text1[-2] # get the lastschrift which is the second line from the ending of the text\n",
    "                    if lastschrift.count('.')>1: # if the lastschrift has more than one dot, then it is not a number\n",
    "                        break # break the loop since lastschrift should be a number\n",
    "                    try:\n",
    "                        lastschrift = float(lastschrift.replace(\" \", \"\")) # convert the lastschrift to a float\n",
    "                    except:\n",
    "                        break # break the loop since lastschrift should be a number\n",
    "                else:\n",
    "                    break # gutschrift is not a number and not a date i.e, invalid data so break the loop\n",
    "            else:\n",
    "                try:\n",
    "                    gutschrift = float(gutschrift.replace(\" \", \"\")) # convert the gutschrift to a float\n",
    "                except:\n",
    "                    break # break the loop since the gutschrift should be a number\n",
    "\n",
    "                lastschrift = text[1] # get the lastschrift which is the second line of the text\n",
    "\n",
    "                if lastschrift.count('.')>1: # if the lastschrift has more than one dot, then it is not a number\n",
    "                    break # break the loop since lastschrift should be a number\n",
    "                try:\n",
    "                    lastschrift = float(lastschrift.replace(\" \", \"\")) # convert the lastschrift to a float\n",
    "                except:\n",
    "                    break # break the loop since the lastschrift should be a number\n",
    "\n",
    "                if not datum:\n",
    "                    datum = text[2] # get the datum which is the third line of the text\n",
    "                if datum.count('.')!=2: # if the datum has more than two dots, then it is not a date\n",
    "                    break # break the loop since datum should be a date\n",
    "\n",
    "                if not text_:\n",
    "                    text_ = text[3] # get the text which is the fourth line of the text\n",
    "\n",
    "            data.append([datum, text_, gutschrift, lastschrift]) # append the data to the list\n",
    "            found = True\n",
    "            break # break the loop as every pdf file has only one desired data\n",
    "        \n",
    "        if not found:\n",
    "            remaining.append(file)"
   ]
  },
  {
   "cell_type": "code",
   "execution_count": 8,
   "metadata": {},
   "outputs": [
    {
     "data": {
      "text/plain": [
       "['data/21.pdf']"
      ]
     },
     "execution_count": 8,
     "metadata": {},
     "output_type": "execute_result"
    }
   ],
   "source": [
    "remaining # failed pdf will appear here"
   ]
  },
  {
   "cell_type": "code",
   "execution_count": 9,
   "metadata": {},
   "outputs": [],
   "source": [
    "df_final = pd.DataFrame(data, columns=[\"Datum\", \"Text\", \"Gutschrift\", \"Lastschrift\"])\n",
    "df_final.to_csv(\"totals.csv\", index=False)"
   ]
  },
  {
   "cell_type": "code",
   "execution_count": 10,
   "metadata": {},
   "outputs": [
    {
     "data": {
      "text/html": [
       "<div>\n",
       "<style scoped>\n",
       "    .dataframe tbody tr th:only-of-type {\n",
       "        vertical-align: middle;\n",
       "    }\n",
       "\n",
       "    .dataframe tbody tr th {\n",
       "        vertical-align: top;\n",
       "    }\n",
       "\n",
       "    .dataframe thead th {\n",
       "        text-align: right;\n",
       "    }\n",
       "</style>\n",
       "<table border=\"1\" class=\"dataframe\">\n",
       "  <thead>\n",
       "    <tr style=\"text-align: right;\">\n",
       "      <th></th>\n",
       "      <th>Datum</th>\n",
       "      <th>Text</th>\n",
       "      <th>Gutschrift</th>\n",
       "      <th>Lastschrift</th>\n",
       "    </tr>\n",
       "  </thead>\n",
       "  <tbody>\n",
       "    <tr>\n",
       "      <th>0</th>\n",
       "      <td>02.05.22</td>\n",
       "      <td>Kontostand</td>\n",
       "      <td>41533.00</td>\n",
       "      <td>406.91</td>\n",
       "    </tr>\n",
       "    <tr>\n",
       "      <th>1</th>\n",
       "      <td>03.05.22</td>\n",
       "      <td>Kontostand</td>\n",
       "      <td>19216.55</td>\n",
       "      <td>144.68</td>\n",
       "    </tr>\n",
       "    <tr>\n",
       "      <th>2</th>\n",
       "      <td>04.05.22</td>\n",
       "      <td>Kontostand</td>\n",
       "      <td>22538.20</td>\n",
       "      <td>228384.21</td>\n",
       "    </tr>\n",
       "    <tr>\n",
       "      <th>3</th>\n",
       "      <td>05.05.22</td>\n",
       "      <td>Kontostand</td>\n",
       "      <td>24260.55</td>\n",
       "      <td>437.65</td>\n",
       "    </tr>\n",
       "    <tr>\n",
       "      <th>4</th>\n",
       "      <td>06.05.22</td>\n",
       "      <td>Kontostand</td>\n",
       "      <td>20938.90</td>\n",
       "      <td>419.16</td>\n",
       "    </tr>\n",
       "    <tr>\n",
       "      <th>...</th>\n",
       "      <td>...</td>\n",
       "      <td>...</td>\n",
       "      <td>...</td>\n",
       "      <td>...</td>\n",
       "    </tr>\n",
       "    <tr>\n",
       "      <th>62</th>\n",
       "      <td>15.07.22</td>\n",
       "      <td>Kontostand</td>\n",
       "      <td>18002.15</td>\n",
       "      <td>409.42</td>\n",
       "    </tr>\n",
       "    <tr>\n",
       "      <th>63</th>\n",
       "      <td>18.07.22</td>\n",
       "      <td>Kontostand</td>\n",
       "      <td>51165.20</td>\n",
       "      <td>384.99</td>\n",
       "    </tr>\n",
       "    <tr>\n",
       "      <th>64</th>\n",
       "      <td>19.07.22</td>\n",
       "      <td>Kontostand</td>\n",
       "      <td>13372.30</td>\n",
       "      <td>506.62</td>\n",
       "    </tr>\n",
       "    <tr>\n",
       "      <th>65</th>\n",
       "      <td>20.07.22</td>\n",
       "      <td>Kontostand</td>\n",
       "      <td>21531.35</td>\n",
       "      <td>18.92</td>\n",
       "    </tr>\n",
       "    <tr>\n",
       "      <th>66</th>\n",
       "      <td>21.07.22</td>\n",
       "      <td>Kontostand</td>\n",
       "      <td>29841.35</td>\n",
       "      <td>150199.91</td>\n",
       "    </tr>\n",
       "  </tbody>\n",
       "</table>\n",
       "<p>67 rows × 4 columns</p>\n",
       "</div>"
      ],
      "text/plain": [
       "       Datum        Text  Gutschrift  Lastschrift\n",
       "0   02.05.22  Kontostand    41533.00       406.91\n",
       "1   03.05.22  Kontostand    19216.55       144.68\n",
       "2   04.05.22  Kontostand    22538.20    228384.21\n",
       "3   05.05.22  Kontostand    24260.55       437.65\n",
       "4   06.05.22  Kontostand    20938.90       419.16\n",
       "..       ...         ...         ...          ...\n",
       "62  15.07.22  Kontostand    18002.15       409.42\n",
       "63  18.07.22  Kontostand    51165.20       384.99\n",
       "64  19.07.22  Kontostand    13372.30       506.62\n",
       "65  20.07.22  Kontostand    21531.35        18.92\n",
       "66  21.07.22  Kontostand    29841.35    150199.91\n",
       "\n",
       "[67 rows x 4 columns]"
      ]
     },
     "execution_count": 10,
     "metadata": {},
     "output_type": "execute_result"
    }
   ],
   "source": [
    "df_final"
   ]
  },
  {
   "cell_type": "code",
   "execution_count": null,
   "metadata": {},
   "outputs": [],
   "source": []
  }
 ],
 "metadata": {
  "kernelspec": {
   "display_name": "Python 3 (ipykernel)",
   "language": "python",
   "name": "python3"
  },
  "language_info": {
   "codemirror_mode": {
    "name": "ipython",
    "version": 3
   },
   "file_extension": ".py",
   "mimetype": "text/x-python",
   "name": "python",
   "nbconvert_exporter": "python",
   "pygments_lexer": "ipython3",
   "version": "3.9.12"
  },
  "vscode": {
   "interpreter": {
    "hash": "81794d4967e6c3204c66dcd87b604927b115b27c00565d3d43f05ba2f3a2cb0d"
   }
  }
 },
 "nbformat": 4,
 "nbformat_minor": 2
}
