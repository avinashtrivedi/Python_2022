{
 "cells": [
  {
   "cell_type": "code",
   "execution_count": 3,
   "id": "32a13606",
   "metadata": {},
   "outputs": [
    {
     "name": "stdout",
     "output_type": "stream",
     "text": [
      "Enter the filename: food1.txt\n",
      "{'pickles': 15, 'lettuce': 2, 'eggs': 136, 'chicken': 10, 'bread': 10}\n"
     ]
    }
   ],
   "source": [
    "def main():\n",
    "    fname = input('Enter the filename: ')\n",
    "    with open(fname) as fp:\n",
    "        data = fp.readlines()\n",
    "\n",
    "    mydict = {}\n",
    "    for line in data:\n",
    "        row = line.strip().split()\n",
    "        food = row[1]\n",
    "        qty = int(row[2])\n",
    "        if row[0]=='add':\n",
    "            if food in mydict:\n",
    "                mydict[food] = mydict[food] + qty\n",
    "            else:\n",
    "                mydict[food] = qty\n",
    "        elif row[0] =='remove':\n",
    "            mydict[food] = mydict[food] - qty\n",
    "    print(mydict)\n",
    "\n",
    "if __name__ == '__main__':\n",
    "    main()"
   ]
  },
  {
   "cell_type": "code",
   "execution_count": null,
   "id": "478bdaa4",
   "metadata": {},
   "outputs": [],
   "source": []
  }
 ],
 "metadata": {
  "kernelspec": {
   "display_name": "Python 3 (ipykernel)",
   "language": "python",
   "name": "python3"
  },
  "language_info": {
   "codemirror_mode": {
    "name": "ipython",
    "version": 3
   },
   "file_extension": ".py",
   "mimetype": "text/x-python",
   "name": "python",
   "nbconvert_exporter": "python",
   "pygments_lexer": "ipython3",
   "version": "3.8.5"
  }
 },
 "nbformat": 4,
 "nbformat_minor": 5
}
