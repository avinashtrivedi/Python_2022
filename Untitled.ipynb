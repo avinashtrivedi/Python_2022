{
 "cells": [
  {
   "cell_type": "code",
   "execution_count": 26,
   "id": "4884cf60",
   "metadata": {},
   "outputs": [],
   "source": [
    "from dataclasses import dataclass, field\n",
    "from typing import List\n",
    "\n",
    "@dataclass\n",
    "class Book:\n",
    "    '''Object for tracking physical books in a collection.'''\n",
    "    name: str    \n",
    "    weight: float = field(default=0.0, repr=False)\n",
    "    shelf_id: int = field(default=0.0,init=True)\n",
    "    chapters: List[str] = field(default_factory=list)\n",
    "    condition: str = field(default=\"Good\", compare=False)\n",
    "\n",
    "    def __post_init__(self):\n",
    "        if self.condition == \"Discarded\":\n",
    "            self.shelf_id = None\n",
    "        else:\n",
    "            self.shelf_id = 0\n",
    "            \n",
    "#     def __init__(self,x):\n",
    "#         print(x)"
   ]
  },
  {
   "cell_type": "code",
   "execution_count": 27,
   "id": "27f16b00",
   "metadata": {},
   "outputs": [
    {
     "data": {
      "text/plain": [
       "Book(name='ll', shelf_id=0, chapters=[], condition='Good')"
      ]
     },
     "execution_count": 27,
     "metadata": {},
     "output_type": "execute_result"
    }
   ],
   "source": [
    "Book('ll')"
   ]
  },
  {
   "cell_type": "code",
   "execution_count": null,
   "id": "ab43fcc4",
   "metadata": {},
   "outputs": [],
   "source": []
  }
 ],
 "metadata": {
  "kernelspec": {
   "display_name": "Python 3 (ipykernel)",
   "language": "python",
   "name": "python3"
  },
  "language_info": {
   "codemirror_mode": {
    "name": "ipython",
    "version": 3
   },
   "file_extension": ".py",
   "mimetype": "text/x-python",
   "name": "python",
   "nbconvert_exporter": "python",
   "pygments_lexer": "ipython3",
   "version": "3.8.5"
  }
 },
 "nbformat": 4,
 "nbformat_minor": 5
}
