{
 "cells": [
  {
   "cell_type": "code",
   "execution_count": null,
   "metadata": {},
   "outputs": [],
   "source": [
    "#!/usr/bin/env python\n",
    "# Copyright 2020 Google LLC\n",
    "#\n",
    "# Licensed under the Apache License, Version 2.0 (the \"License\");\n",
    "# you may not use this file except in compliance with the License.\n",
    "# You may obtain a copy of the License at\n",
    "#\n",
    "#     https://www.apache.org/licenses/LICENSE-2.0\n",
    "#\n",
    "# Unless required by applicable law or agreed to in writing, software\n",
    "# distributed under the License is distributed on an \"AS IS\" BASIS,\n",
    "# WITHOUT WARRANTIES OR CONDITIONS OF ANY KIND, either express or implied.\n",
    "# See the License for the specific language governing permissions and\n",
    "# limitations under the License.\n",
    "\"\"\"This code example uploads an image.\"\"\"\n",
    "\n",
    "\n",
    "import argparse\n",
    "import sys\n",
    "import requests\n",
    "\n",
    "from google.ads.googleads.client import GoogleAdsClient\n",
    "from google.ads.googleads.errors import GoogleAdsException\n",
    "\n",
    "\n",
    "def main(client, customer_id,url):\n",
    "    \"\"\"Main method, to run this code example as a standalone application.\"\"\"\n",
    "#     url = url    #\"https://gaagl.page.link/Eit5\"\n",
    "\n",
    "    media_file_service = client.get_service(\"MediaFileService\")\n",
    "    media_file_operation = client.get_type(\"MediaFileOperation\")\n",
    "    media_file = media_file_operation.create\n",
    "    media_file.name = \"Ad Image\"\n",
    "    media_file.type_ = client.enums.MediaTypeEnum.IMAGE\n",
    "    media_file.source_url = url\n",
    "    # Download the image as bytes from the URL\n",
    "    media_file.image.data = requests.get(url).content\n",
    "\n",
    "    mutate_media_files_response = media_file_service.mutate_media_files(\n",
    "        customer_id=customer_id, operations=[media_file_operation]\n",
    "    )\n",
    "    print(\"Uploaded file(s):\")\n",
    "    for row in mutate_media_files_response.results:\n",
    "        print(f\"\\tResource name: {row.resource_name}\")\n",
    "\n",
    "\n",
    "if __name__ == \"__main__\":\n",
    "    # GoogleAdsClient will read the google-ads.yaml configuration file in the\n",
    "    # home directory if none is specified.\n",
    "    googleads_client = GoogleAdsClient.load_from_storage(version=\"v9\")\n",
    "\n",
    "    parser = argparse.ArgumentParser(description=\"Upload an image from a URL.\")\n",
    "    # The following argument(s) should be provided to run the example.\n",
    "    parser.add_argument(\n",
    "        \"-c\",\n",
    "        \"--customer_id\",\n",
    "        type=str,\n",
    "        required=True,\n",
    "        help=\"The Google Ads customer ID.\",\n",
    "    )\n",
    "    args = parser.parse_args()\n",
    "\n",
    "    try:\n",
    "        main(googleads_client, args.customer_id)\n",
    "    except GoogleAdsException as ex:\n",
    "        print(\n",
    "            f'Request with ID \"{ex.request_id}\" failed with status '\n",
    "            f'\"{ex.error.code().name}\" and includes the following errors:'\n",
    "        )\n",
    "        for error in ex.failure.errors:\n",
    "            print(f'\\tError with message \"{error.message}\".')\n",
    "            if error.location:\n",
    "                for field_path_element in error.location.field_path_elements:\n",
    "                    print(f\"\\t\\tOn field: {field_path_element.field_name}\")\n",
    "        sys.exit(1)\n",
    "\n",
    "      "
   ]
  },
  {
   "cell_type": "code",
   "execution_count": 5,
   "metadata": {},
   "outputs": [
    {
     "data": {
      "text/plain": [
       "_StoreAction(option_strings=['--list'], dest='list', nargs='+', const=None, default=['a', 'b'], type=None, choices=None, help=None, metavar=None)"
      ]
     },
     "execution_count": 5,
     "metadata": {},
     "output_type": "execute_result"
    }
   ],
   "source": [
    "import argparse\n",
    "parser = argparse.ArgumentParser()\n",
    "parser.add_argument(\"--list\", nargs=\"+\", default=[\"a\", \"b\"])"
   ]
  },
  {
   "cell_type": "code",
   "execution_count": 7,
   "metadata": {},
   "outputs": [
    {
     "name": "stderr",
     "output_type": "stream",
     "text": [
      "usage: ipykernel_launcher.py [-h] [--list LIST [LIST ...]]\n",
      "ipykernel_launcher.py: error: unrecognized arguments: -f C:\\Users\\avitr\\AppData\\Roaming\\jupyter\\runtime\\kernel-c36c0882-db75-4bae-9dcc-8c0136844e55.json\n"
     ]
    },
    {
     "ename": "SystemExit",
     "evalue": "2",
     "output_type": "error",
     "traceback": [
      "An exception has occurred, use %tb to see the full traceback.\n",
      "\u001b[1;31mSystemExit\u001b[0m\u001b[1;31m:\u001b[0m 2\n"
     ]
    }
   ],
   "source": [
    "value = parser.parse_args()\n",
    "# print(value.list)"
   ]
  },
  {
   "cell_type": "code",
   "execution_count": null,
   "metadata": {},
   "outputs": [],
   "source": [
    "print(\"cust_id: \",d[\"list\"][0])\n",
    "print(\"url: \",d[\"list\"][1])"
   ]
  }
 ],
 "metadata": {
  "kernelspec": {
   "display_name": "Python 3",
   "language": "python",
   "name": "python3"
  },
  "language_info": {
   "codemirror_mode": {
    "name": "ipython",
    "version": 3
   },
   "file_extension": ".py",
   "mimetype": "text/x-python",
   "name": "python",
   "nbconvert_exporter": "python",
   "pygments_lexer": "ipython3",
   "version": "3.8.5"
  }
 },
 "nbformat": 4,
 "nbformat_minor": 4
}
