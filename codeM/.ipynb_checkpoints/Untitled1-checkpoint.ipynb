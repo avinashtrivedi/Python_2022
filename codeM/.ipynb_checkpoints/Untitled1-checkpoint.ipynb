{
 "cells": [
  {
   "cell_type": "code",
   "execution_count": null,
   "metadata": {},
   "outputs": [],
   "source": [
    "In essence the function is supposed to split a a string in snake-case,\n",
    "to a list of the separate words. \n",
    "I have gotten somewhere, just need someone to help me with the final push.\n",
    "\n",
    "some restrictions: only 1 arguement(our string), no loops, \n",
    "can't use list comprehension, can't use tuples, can't use string.index or string.find."
   ]
  },
  {
   "cell_type": "code",
   "execution_count": 12,
   "metadata": {},
   "outputs": [],
   "source": [
    "def mystring(string):\n",
    "    return string.split('-')"
   ]
  },
  {
   "cell_type": "code",
   "execution_count": 13,
   "metadata": {},
   "outputs": [],
   "source": [
    "string = 'In-essence-the-function-is-supposed-to-split'"
   ]
  },
  {
   "cell_type": "code",
   "execution_count": 14,
   "metadata": {},
   "outputs": [
    {
     "data": {
      "text/plain": [
       "['In', 'essence', 'the', 'function', 'is', 'supposed', 'to', 'split']"
      ]
     },
     "execution_count": 14,
     "metadata": {},
     "output_type": "execute_result"
    }
   ],
   "source": [
    "mystring(string)"
   ]
  },
  {
   "cell_type": "code",
   "execution_count": 15,
   "metadata": {},
   "outputs": [],
   "source": [
    "def snakeSplit(word):\n",
    "    if len(word) == 0:\n",
    "        return []\n",
    "\n",
    "    if word[(len(word))-1] == \"-\":\n",
    "        return [snakeSplit(word[:-1])]\n",
    "\n",
    "    else:\n",
    "        return snakeSplit(word[:-1]) + [word[len(word)-1]]"
   ]
  },
  {
   "cell_type": "code",
   "execution_count": 16,
   "metadata": {},
   "outputs": [
    {
     "data": {
      "text/plain": [
       "[[[[[[[['I', 'n'], 'e', 's', 's', 'e', 'n', 'c', 'e'], 't', 'h', 'e'],\n",
       "     'f',\n",
       "     'u',\n",
       "     'n',\n",
       "     'c',\n",
       "     't',\n",
       "     'i',\n",
       "     'o',\n",
       "     'n'],\n",
       "    'i',\n",
       "    's'],\n",
       "   's',\n",
       "   'u',\n",
       "   'p',\n",
       "   'p',\n",
       "   'o',\n",
       "   's',\n",
       "   'e',\n",
       "   'd'],\n",
       "  't',\n",
       "  'o'],\n",
       " 's',\n",
       " 'p',\n",
       " 'l',\n",
       " 'i',\n",
       " 't']"
      ]
     },
     "execution_count": 16,
     "metadata": {},
     "output_type": "execute_result"
    }
   ],
   "source": [
    "snakeSplit(string)"
   ]
  },
  {
   "cell_type": "code",
   "execution_count": 33,
   "metadata": {},
   "outputs": [],
   "source": [
    "string = 'hello-world-python'"
   ]
  },
  {
   "cell_type": "code",
   "execution_count": 35,
   "metadata": {},
   "outputs": [],
   "source": [
    "ello-world\n",
    "llo-world\n",
    "lo-world\n",
    "o-world\n",
    "-world"
   ]
  },
  {
   "cell_type": "code",
   "execution_count": 36,
   "metadata": {},
   "outputs": [],
   "source": [
    "def mystring(string):\n",
    "\n",
    "    if len(string)==1:\n",
    "        return [string[0]]\n",
    "    elif string[0]=='-':\n",
    "        return string[1:]\n",
    "    else:\n",
    "        return [string[0]] + mystring(string[1:])"
   ]
  },
  {
   "cell_type": "code",
   "execution_count": null,
   "metadata": {},
   "outputs": [],
   "source": [
    "ello-world\n",
    "llo-world\n",
    "lo-world\n",
    "o-world\n",
    "-world"
   ]
  },
  {
   "cell_type": "code",
   "execution_count": 59,
   "metadata": {},
   "outputs": [],
   "source": [
    "string = 'hello'"
   ]
  },
  {
   "cell_type": "code",
   "execution_count": 47,
   "metadata": {},
   "outputs": [
    {
     "data": {
      "text/plain": [
       "'ello-hik'"
      ]
     },
     "execution_count": 47,
     "metadata": {},
     "output_type": "execute_result"
    }
   ],
   "source": [
    "string[1:] + 'k'"
   ]
  },
  {
   "cell_type": "code",
   "execution_count": 73,
   "metadata": {},
   "outputs": [],
   "source": [
    "string = 'h-'"
   ]
  },
  {
   "cell_type": "code",
   "execution_count": 74,
   "metadata": {},
   "outputs": [],
   "source": [
    "def mystring1(string):\n",
    "\n",
    "    print(type(string))\n",
    "    if len(string)==1:\n",
    "        print(type(string))\n",
    "        return string[0]\n",
    "    elif string[0]=='-':\n",
    "        print(type(string))\n",
    "        return string[1:]\n",
    "    else:\n",
    "#         print('USA')\n",
    "        temp = string[0] + mystring(string[1:])\n",
    "        print(type(string))\n",
    "        return temp"
   ]
  },
  {
   "cell_type": "code",
   "execution_count": 75,
   "metadata": {},
   "outputs": [
    {
     "name": "stdout",
     "output_type": "stream",
     "text": [
      "<class 'str'>\n",
      "USA\n"
     ]
    }
   ],
   "source": [
    "mystring1(string)"
   ]
  },
  {
   "cell_type": "code",
   "execution_count": null,
   "metadata": {},
   "outputs": [],
   "source": []
  },
  {
   "cell_type": "code",
   "execution_count": 26,
   "metadata": {},
   "outputs": [
    {
     "data": {
      "text/plain": [
       "'hello'"
      ]
     },
     "execution_count": 26,
     "metadata": {},
     "output_type": "execute_result"
    }
   ],
   "source": [
    "''.join(['h'] + ['e'] +  ['l'] + ['l'] + ['o'])"
   ]
  },
  {
   "cell_type": "code",
   "execution_count": 22,
   "metadata": {},
   "outputs": [
    {
     "data": {
      "text/plain": [
       "['I',\n",
       " 'n',\n",
       " '-',\n",
       " 'e',\n",
       " 's',\n",
       " 's',\n",
       " 'e',\n",
       " 'n',\n",
       " 'c',\n",
       " 'e',\n",
       " '-',\n",
       " 't',\n",
       " 'h',\n",
       " 'e',\n",
       " '-',\n",
       " 'f',\n",
       " 'u',\n",
       " 'n',\n",
       " 'c',\n",
       " 't',\n",
       " 'i',\n",
       " 'o',\n",
       " 'n',\n",
       " '-',\n",
       " 'i',\n",
       " 's',\n",
       " '-',\n",
       " 's',\n",
       " 'u',\n",
       " 'p',\n",
       " 'p',\n",
       " 'o',\n",
       " 's',\n",
       " 'e',\n",
       " 'd',\n",
       " '-',\n",
       " 't',\n",
       " 'o',\n",
       " '-',\n",
       " 's',\n",
       " 'p',\n",
       " 'l',\n",
       " 'i',\n",
       " 't']"
      ]
     },
     "execution_count": 22,
     "metadata": {},
     "output_type": "execute_result"
    }
   ],
   "source": [
    "mystring(string)"
   ]
  },
  {
   "cell_type": "code",
   "execution_count": null,
   "metadata": {},
   "outputs": [],
   "source": []
  }
 ],
 "metadata": {
  "kernelspec": {
   "display_name": "Python 3",
   "language": "python",
   "name": "python3"
  },
  "language_info": {
   "codemirror_mode": {
    "name": "ipython",
    "version": 3
   },
   "file_extension": ".py",
   "mimetype": "text/x-python",
   "name": "python",
   "nbconvert_exporter": "python",
   "pygments_lexer": "ipython3",
   "version": "3.8.5"
  }
 },
 "nbformat": 4,
 "nbformat_minor": 4
}
