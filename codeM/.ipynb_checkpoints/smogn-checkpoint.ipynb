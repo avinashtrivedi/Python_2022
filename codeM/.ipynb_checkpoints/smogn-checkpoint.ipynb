{
 "cells": [
  {
   "cell_type": "code",
   "execution_count": null,
   "metadata": {},
   "outputs": [],
   "source": [
    "!pip install git+https://github.com/nickkunz/smogn.git"
   ]
  },
  {
   "cell_type": "code",
   "execution_count": null,
   "metadata": {},
   "outputs": [],
   "source": [
    "## load dependencies\n",
    "import smogn\n",
    "import pandas\n",
    "import seaborn\n",
    "import matplotlib.pyplot as plt"
   ]
  },
  {
   "cell_type": "code",
   "execution_count": null,
   "metadata": {},
   "outputs": [],
   "source": [
    "## load data\n",
    "housing = pandas.read_csv('Data_1.csv')"
   ]
  },
  {
   "cell_type": "code",
   "execution_count": null,
   "metadata": {},
   "outputs": [],
   "source": [
    "##1 conduct smogn\n",
    "housing_smogn1 = smogn.smoter(\n",
    "\n",
    "    data = housing, \n",
    "    y = housing.columns[-1]\n",
    ")\n",
    "\n",
    "\n",
    "#2\n",
    "\n",
    "## conduct smogn\n",
    "housing_smogn2 = smogn.smoter(\n",
    "    \n",
    "    ## main arguments\n",
    "    data = housing,           ## pandas dataframe\n",
    "    y = housing.columns[-1],          ## string ('header name')\n",
    "    k = 9,                    ## positive integer (k < n)\n",
    "    samp_method = 'extreme',  ## string ('balance' or 'extreme')\n",
    "\n",
    "    ## phi relevance arguments\n",
    "    rel_thres = 0.80,         ## positive real number (0 < R < 1)\n",
    "    rel_method = 'auto',      ## string ('auto' or 'manual')\n",
    "    rel_xtrm_type = 'high',   ## string ('low' or 'both' or 'high')\n",
    "    rel_coef = 2.25           ## positive real number (0 < R)\n",
    ")\n",
    "\n",
    "\n",
    "\n",
    "#3\n",
    "## conduct smogn\n",
    "\n",
    "## specify phi relevance values\n",
    "rg_mtrx = [\n",
    "\n",
    "    [35000,  1, 0],  ## over-sample (\"minority\")\n",
    "    [125000, 0, 0],  ## under-sample (\"majority\")\n",
    "    [200000, 0, 0],  ## under-sample\n",
    "    [250000, 0, 0],  ## under-sample\n",
    "]\n",
    "\n",
    "housing_smogn3 = smogn.smoter(\n",
    "    \n",
    "    ## main arguments\n",
    "    data = housing,           ## pandas dataframe\n",
    "    y = housing.columns[-1],          ## string ('header name')\n",
    "    k = 7,                    ## positive integer (k < n)\n",
    "    pert = 0.04,              ## real number (0 < R < 1)\n",
    "    samp_method = 'balance',  ## string ('balance' or 'extreme')\n",
    "    drop_na_col = True,       ## boolean (True or False)\n",
    "    drop_na_row = True,       ## boolean (True or False)\n",
    "    replace = False,          ## boolean (True or False)\n",
    "\n",
    "    ## phi relevance arguments\n",
    "    rel_thres = 0.10,         ## real number (0 < R < 1)\n",
    "    rel_method = 'manual',    ## string ('auto' or 'manual')\n",
    "    # rel_xtrm_type = 'both', ## unused (rel_method = 'manual')\n",
    "    # rel_coef = 1.50,        ## unused (rel_method = 'manual')\n",
    "    rel_ctrl_pts_rg = rg_mtrx ## 2d array (format: [x, y])\n",
    ")"
   ]
  },
  {
   "cell_type": "code",
   "execution_count": null,
   "metadata": {},
   "outputs": [],
   "source": [
    "housing['SalePrice'].hist()"
   ]
  },
  {
   "cell_type": "code",
   "execution_count": null,
   "metadata": {},
   "outputs": [],
   "source": [
    "housing_smogn1['SalePrice'].hist(histtype=\"step\")"
   ]
  },
  {
   "cell_type": "code",
   "execution_count": null,
   "metadata": {},
   "outputs": [],
   "source": [
    "housing_smogn1.shape"
   ]
  },
  {
   "cell_type": "code",
   "execution_count": null,
   "metadata": {},
   "outputs": [],
   "source": [
    "housing_smogn2.shape"
   ]
  },
  {
   "cell_type": "code",
   "execution_count": null,
   "metadata": {},
   "outputs": [],
   "source": [
    "housing_smogn3.shape"
   ]
  },
  {
   "cell_type": "code",
   "execution_count": null,
   "metadata": {},
   "outputs": [],
   "source": [
    "## plot y distribution \n",
    "seaborn.kdeplot(housing['SalePrice'], label = \"Original\")\n",
    "seaborn.kdeplot(housing_smogn1['SalePrice'], label = \"Modified1\")\n",
    "seaborn.kdeplot(housing_smogn2['SalePrice'], label = \"Modified2\")\n",
    "seaborn.kdeplot(housing_smogn3['SalePrice'], label = \"Modified3\")\n",
    "plt.legend()\n",
    "plt.show()"
   ]
  },
  {
   "cell_type": "code",
   "execution_count": null,
   "metadata": {},
   "outputs": [],
   "source": []
  }
 ],
 "metadata": {
  "kernelspec": {
   "display_name": "Python 3",
   "language": "python",
   "name": "python3"
  },
  "language_info": {
   "codemirror_mode": {
    "name": "ipython",
    "version": 3
   },
   "file_extension": ".py",
   "mimetype": "text/x-python",
   "name": "python",
   "nbconvert_exporter": "python",
   "pygments_lexer": "ipython3",
   "version": "3.8.5"
  }
 },
 "nbformat": 4,
 "nbformat_minor": 4
}
