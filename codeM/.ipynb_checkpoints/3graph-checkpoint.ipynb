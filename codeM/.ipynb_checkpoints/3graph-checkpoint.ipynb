{
 "cells": [
  {
   "cell_type": "code",
   "execution_count": 1,
   "metadata": {},
   "outputs": [],
   "source": [
    "import pandas as pd\n",
    "import numpy as np\n",
    "import matplotlib.pyplot as plt\n",
    "import warnings\n",
    "warnings.filterwarnings('ignore')\n",
    "pd.set_option('display.max_rows', 5500)\n",
    "pd.set_option('display.max_columns', 20)\n",
    "pd.set_option('display.width', 1000)"
   ]
  },
  {
   "cell_type": "code",
   "execution_count": 2,
   "metadata": {},
   "outputs": [],
   "source": [
    "df = pd.read_csv('CPUC Data 2022.csv')\n",
    "df = df.iloc[1:]"
   ]
  },
  {
   "cell_type": "code",
   "execution_count": 3,
   "metadata": {},
   "outputs": [],
   "source": [
    "df = df[['Utility' , 'Outage Start' , 'Outage Duration', \n",
    "         'Circuit Name' ,'TOTAL CUSTOMERS IMPACTED']]\n",
    "\n",
    "df.dropna(inplace=True)\n",
    "# df.fillna(value=0,inplace=True)\n",
    "df.reset_index(drop=True,inplace=True)"
   ]
  },
  {
   "cell_type": "code",
   "execution_count": 4,
   "metadata": {},
   "outputs": [],
   "source": [
    "df['TOTAL CUSTOMERS IMPACTED'] = df['TOTAL CUSTOMERS IMPACTED'].apply(lambda x: x if isinstance(x,int) else x.replace(',',''))\n",
    "df['TOTAL CUSTOMERS IMPACTED'] = df['TOTAL CUSTOMERS IMPACTED'].astype('int32')"
   ]
  },
  {
   "cell_type": "code",
   "execution_count": 5,
   "metadata": {},
   "outputs": [
    {
     "data": {
      "text/html": [
       "<div>\n",
       "<style scoped>\n",
       "    .dataframe tbody tr th:only-of-type {\n",
       "        vertical-align: middle;\n",
       "    }\n",
       "\n",
       "    .dataframe tbody tr th {\n",
       "        vertical-align: top;\n",
       "    }\n",
       "\n",
       "    .dataframe thead th {\n",
       "        text-align: right;\n",
       "    }\n",
       "</style>\n",
       "<table border=\"1\" class=\"dataframe\">\n",
       "  <thead>\n",
       "    <tr style=\"text-align: right;\">\n",
       "      <th></th>\n",
       "      <th>Utility</th>\n",
       "      <th>Outage Start</th>\n",
       "      <th>Outage Duration</th>\n",
       "      <th>Circuit Name</th>\n",
       "      <th>TOTAL CUSTOMERS IMPACTED</th>\n",
       "    </tr>\n",
       "  </thead>\n",
       "  <tbody>\n",
       "    <tr>\n",
       "      <th>0</th>\n",
       "      <td>SDG&amp;E</td>\n",
       "      <td>10/5/13 6:02</td>\n",
       "      <td>0 days,8 hrs,53 min</td>\n",
       "      <td>79</td>\n",
       "      <td>85</td>\n",
       "    </tr>\n",
       "    <tr>\n",
       "      <th>1</th>\n",
       "      <td>SDG&amp;E</td>\n",
       "      <td>10/5/13 6:05</td>\n",
       "      <td>0 days,8 hrs,36 min</td>\n",
       "      <td>TL 626 - CIRCUIT 238</td>\n",
       "      <td>2</td>\n",
       "    </tr>\n",
       "    <tr>\n",
       "      <th>2</th>\n",
       "      <td>SDG&amp;E</td>\n",
       "      <td>10/6/13 2:03</td>\n",
       "      <td>0 days,6 hrs,7 min</td>\n",
       "      <td>79</td>\n",
       "      <td>83</td>\n",
       "    </tr>\n",
       "    <tr>\n",
       "      <th>3</th>\n",
       "      <td>SDG&amp;E</td>\n",
       "      <td>10/6/13 2:10</td>\n",
       "      <td>0 days,6 hrs,0 min</td>\n",
       "      <td>79</td>\n",
       "      <td>11</td>\n",
       "    </tr>\n",
       "    <tr>\n",
       "      <th>4</th>\n",
       "      <td>SDG&amp;E</td>\n",
       "      <td>10/6/13 2:13</td>\n",
       "      <td>0 days,5 hrs,31 min</td>\n",
       "      <td>TL 626 - CIRCUIT 238</td>\n",
       "      <td>2</td>\n",
       "    </tr>\n",
       "  </tbody>\n",
       "</table>\n",
       "</div>"
      ],
      "text/plain": [
       "  Utility  Outage Start      Outage Duration          Circuit Name  TOTAL CUSTOMERS IMPACTED\n",
       "0   SDG&E  10/5/13 6:02  0 days,8 hrs,53 min                    79                        85\n",
       "1   SDG&E  10/5/13 6:05  0 days,8 hrs,36 min  TL 626 - CIRCUIT 238                         2\n",
       "2   SDG&E  10/6/13 2:03   0 days,6 hrs,7 min                    79                        83\n",
       "3   SDG&E  10/6/13 2:10   0 days,6 hrs,0 min                    79                        11\n",
       "4   SDG&E  10/6/13 2:13  0 days,5 hrs,31 min  TL 626 - CIRCUIT 238                         2"
      ]
     },
     "execution_count": 5,
     "metadata": {},
     "output_type": "execute_result"
    }
   ],
   "source": [
    "df.head()"
   ]
  },
  {
   "cell_type": "code",
   "execution_count": 6,
   "metadata": {},
   "outputs": [
    {
     "data": {
      "text/plain": [
       "(4618, 5)"
      ]
     },
     "execution_count": 6,
     "metadata": {},
     "output_type": "execute_result"
    }
   ],
   "source": [
    "df.shape"
   ]
  },
  {
   "cell_type": "code",
   "execution_count": 7,
   "metadata": {},
   "outputs": [],
   "source": [
    "hrs1 = np.array([24,1,0.0167]) # 1/60\n",
    "df['Out_Duration'] = 0\n",
    "for index, row in df.iterrows():\n",
    "    try:\n",
    "        \n",
    "        hrs2 = np.array([int(i.split(' ')[0]) for i in row['Outage Duration'].split(',')])\n",
    "        outage = hrs1*hrs2\n",
    "        df['Out_Duration'].iloc[index] = outage.sum()\n",
    "    except:\n",
    "        df['Out_Duration'].iloc[index] = 0\n",
    "#         print(row['Outage Duration'],type(row['Outage Duration']))\n",
    "    "
   ]
  },
  {
   "cell_type": "code",
   "execution_count": 8,
   "metadata": {},
   "outputs": [
    {
     "data": {
      "text/html": [
       "<div>\n",
       "<style scoped>\n",
       "    .dataframe tbody tr th:only-of-type {\n",
       "        vertical-align: middle;\n",
       "    }\n",
       "\n",
       "    .dataframe tbody tr th {\n",
       "        vertical-align: top;\n",
       "    }\n",
       "\n",
       "    .dataframe thead th {\n",
       "        text-align: right;\n",
       "    }\n",
       "</style>\n",
       "<table border=\"1\" class=\"dataframe\">\n",
       "  <thead>\n",
       "    <tr style=\"text-align: right;\">\n",
       "      <th></th>\n",
       "      <th>Utility</th>\n",
       "      <th>Outage Start</th>\n",
       "      <th>Outage Duration</th>\n",
       "      <th>Circuit Name</th>\n",
       "      <th>TOTAL CUSTOMERS IMPACTED</th>\n",
       "      <th>Out_Duration</th>\n",
       "    </tr>\n",
       "  </thead>\n",
       "  <tbody>\n",
       "    <tr>\n",
       "      <th>0</th>\n",
       "      <td>SDG&amp;E</td>\n",
       "      <td>10/5/13 6:02</td>\n",
       "      <td>0 days,8 hrs,53 min</td>\n",
       "      <td>79</td>\n",
       "      <td>85</td>\n",
       "      <td>8.8851</td>\n",
       "    </tr>\n",
       "    <tr>\n",
       "      <th>1</th>\n",
       "      <td>SDG&amp;E</td>\n",
       "      <td>10/5/13 6:05</td>\n",
       "      <td>0 days,8 hrs,36 min</td>\n",
       "      <td>TL 626 - CIRCUIT 238</td>\n",
       "      <td>2</td>\n",
       "      <td>8.6012</td>\n",
       "    </tr>\n",
       "    <tr>\n",
       "      <th>2</th>\n",
       "      <td>SDG&amp;E</td>\n",
       "      <td>10/6/13 2:03</td>\n",
       "      <td>0 days,6 hrs,7 min</td>\n",
       "      <td>79</td>\n",
       "      <td>83</td>\n",
       "      <td>6.1169</td>\n",
       "    </tr>\n",
       "    <tr>\n",
       "      <th>3</th>\n",
       "      <td>SDG&amp;E</td>\n",
       "      <td>10/6/13 2:10</td>\n",
       "      <td>0 days,6 hrs,0 min</td>\n",
       "      <td>79</td>\n",
       "      <td>11</td>\n",
       "      <td>6.0000</td>\n",
       "    </tr>\n",
       "    <tr>\n",
       "      <th>4</th>\n",
       "      <td>SDG&amp;E</td>\n",
       "      <td>10/6/13 2:13</td>\n",
       "      <td>0 days,5 hrs,31 min</td>\n",
       "      <td>TL 626 - CIRCUIT 238</td>\n",
       "      <td>2</td>\n",
       "      <td>5.5177</td>\n",
       "    </tr>\n",
       "  </tbody>\n",
       "</table>\n",
       "</div>"
      ],
      "text/plain": [
       "  Utility  Outage Start      Outage Duration          Circuit Name  TOTAL CUSTOMERS IMPACTED  Out_Duration\n",
       "0   SDG&E  10/5/13 6:02  0 days,8 hrs,53 min                    79                        85        8.8851\n",
       "1   SDG&E  10/5/13 6:05  0 days,8 hrs,36 min  TL 626 - CIRCUIT 238                         2        8.6012\n",
       "2   SDG&E  10/6/13 2:03   0 days,6 hrs,7 min                    79                        83        6.1169\n",
       "3   SDG&E  10/6/13 2:10   0 days,6 hrs,0 min                    79                        11        6.0000\n",
       "4   SDG&E  10/6/13 2:13  0 days,5 hrs,31 min  TL 626 - CIRCUIT 238                         2        5.5177"
      ]
     },
     "execution_count": 8,
     "metadata": {},
     "output_type": "execute_result"
    }
   ],
   "source": [
    "df.head()"
   ]
  },
  {
   "cell_type": "code",
   "execution_count": 9,
   "metadata": {},
   "outputs": [
    {
     "data": {
      "text/plain": [
       "13"
      ]
     },
     "execution_count": 9,
     "metadata": {},
     "output_type": "execute_result"
    }
   ],
   "source": [
    "int(df['Outage Start'][0].split()[0].split('/')[-1])"
   ]
  },
  {
   "cell_type": "code",
   "execution_count": 10,
   "metadata": {},
   "outputs": [],
   "source": [
    "df['Year'] = df['Outage Start'].apply(lambda x: int(x.split()[0].split('/')[-1]))"
   ]
  },
  {
   "cell_type": "code",
   "execution_count": 11,
   "metadata": {},
   "outputs": [],
   "source": [
    "df['Year'] = df['Year'].replace([13,14,17,18,19,20,21],\n",
    "                                [2013,2014,2017,2018,2019,2020,2021])"
   ]
  },
  {
   "cell_type": "code",
   "execution_count": 12,
   "metadata": {},
   "outputs": [
    {
     "data": {
      "text/html": [
       "<div>\n",
       "<style scoped>\n",
       "    .dataframe tbody tr th:only-of-type {\n",
       "        vertical-align: middle;\n",
       "    }\n",
       "\n",
       "    .dataframe tbody tr th {\n",
       "        vertical-align: top;\n",
       "    }\n",
       "\n",
       "    .dataframe thead th {\n",
       "        text-align: right;\n",
       "    }\n",
       "</style>\n",
       "<table border=\"1\" class=\"dataframe\">\n",
       "  <thead>\n",
       "    <tr style=\"text-align: right;\">\n",
       "      <th></th>\n",
       "      <th>Utility</th>\n",
       "      <th>Outage Start</th>\n",
       "      <th>Outage Duration</th>\n",
       "      <th>Circuit Name</th>\n",
       "      <th>TOTAL CUSTOMERS IMPACTED</th>\n",
       "      <th>Out_Duration</th>\n",
       "      <th>Year</th>\n",
       "    </tr>\n",
       "  </thead>\n",
       "  <tbody>\n",
       "    <tr>\n",
       "      <th>0</th>\n",
       "      <td>SDG&amp;E</td>\n",
       "      <td>10/5/13 6:02</td>\n",
       "      <td>0 days,8 hrs,53 min</td>\n",
       "      <td>79</td>\n",
       "      <td>85</td>\n",
       "      <td>8.8851</td>\n",
       "      <td>2013</td>\n",
       "    </tr>\n",
       "    <tr>\n",
       "      <th>1</th>\n",
       "      <td>SDG&amp;E</td>\n",
       "      <td>10/5/13 6:05</td>\n",
       "      <td>0 days,8 hrs,36 min</td>\n",
       "      <td>TL 626 - CIRCUIT 238</td>\n",
       "      <td>2</td>\n",
       "      <td>8.6012</td>\n",
       "      <td>2013</td>\n",
       "    </tr>\n",
       "    <tr>\n",
       "      <th>2</th>\n",
       "      <td>SDG&amp;E</td>\n",
       "      <td>10/6/13 2:03</td>\n",
       "      <td>0 days,6 hrs,7 min</td>\n",
       "      <td>79</td>\n",
       "      <td>83</td>\n",
       "      <td>6.1169</td>\n",
       "      <td>2013</td>\n",
       "    </tr>\n",
       "    <tr>\n",
       "      <th>3</th>\n",
       "      <td>SDG&amp;E</td>\n",
       "      <td>10/6/13 2:10</td>\n",
       "      <td>0 days,6 hrs,0 min</td>\n",
       "      <td>79</td>\n",
       "      <td>11</td>\n",
       "      <td>6.0000</td>\n",
       "      <td>2013</td>\n",
       "    </tr>\n",
       "    <tr>\n",
       "      <th>4</th>\n",
       "      <td>SDG&amp;E</td>\n",
       "      <td>10/6/13 2:13</td>\n",
       "      <td>0 days,5 hrs,31 min</td>\n",
       "      <td>TL 626 - CIRCUIT 238</td>\n",
       "      <td>2</td>\n",
       "      <td>5.5177</td>\n",
       "      <td>2013</td>\n",
       "    </tr>\n",
       "  </tbody>\n",
       "</table>\n",
       "</div>"
      ],
      "text/plain": [
       "  Utility  Outage Start      Outage Duration          Circuit Name  TOTAL CUSTOMERS IMPACTED  Out_Duration  Year\n",
       "0   SDG&E  10/5/13 6:02  0 days,8 hrs,53 min                    79                        85        8.8851  2013\n",
       "1   SDG&E  10/5/13 6:05  0 days,8 hrs,36 min  TL 626 - CIRCUIT 238                         2        8.6012  2013\n",
       "2   SDG&E  10/6/13 2:03   0 days,6 hrs,7 min                    79                        83        6.1169  2013\n",
       "3   SDG&E  10/6/13 2:10   0 days,6 hrs,0 min                    79                        11        6.0000  2013\n",
       "4   SDG&E  10/6/13 2:13  0 days,5 hrs,31 min  TL 626 - CIRCUIT 238                         2        5.5177  2013"
      ]
     },
     "execution_count": 12,
     "metadata": {},
     "output_type": "execute_result"
    }
   ],
   "source": [
    "df.head()"
   ]
  },
  {
   "cell_type": "code",
   "execution_count": 13,
   "metadata": {},
   "outputs": [],
   "source": [
    "df = df[['Utility','Year','Out_Duration','Circuit Name','TOTAL CUSTOMERS IMPACTED']]"
   ]
  },
  {
   "cell_type": "code",
   "execution_count": 14,
   "metadata": {},
   "outputs": [
    {
     "data": {
      "text/html": [
       "<div>\n",
       "<style scoped>\n",
       "    .dataframe tbody tr th:only-of-type {\n",
       "        vertical-align: middle;\n",
       "    }\n",
       "\n",
       "    .dataframe tbody tr th {\n",
       "        vertical-align: top;\n",
       "    }\n",
       "\n",
       "    .dataframe thead th {\n",
       "        text-align: right;\n",
       "    }\n",
       "</style>\n",
       "<table border=\"1\" class=\"dataframe\">\n",
       "  <thead>\n",
       "    <tr style=\"text-align: right;\">\n",
       "      <th></th>\n",
       "      <th>Utility</th>\n",
       "      <th>Year</th>\n",
       "      <th>Out_Duration</th>\n",
       "      <th>Circuit Name</th>\n",
       "      <th>TOTAL CUSTOMERS IMPACTED</th>\n",
       "    </tr>\n",
       "  </thead>\n",
       "  <tbody>\n",
       "    <tr>\n",
       "      <th>0</th>\n",
       "      <td>SDG&amp;E</td>\n",
       "      <td>2013</td>\n",
       "      <td>8.8851</td>\n",
       "      <td>79</td>\n",
       "      <td>85</td>\n",
       "    </tr>\n",
       "    <tr>\n",
       "      <th>1</th>\n",
       "      <td>SDG&amp;E</td>\n",
       "      <td>2013</td>\n",
       "      <td>8.6012</td>\n",
       "      <td>TL 626 - CIRCUIT 238</td>\n",
       "      <td>2</td>\n",
       "    </tr>\n",
       "    <tr>\n",
       "      <th>2</th>\n",
       "      <td>SDG&amp;E</td>\n",
       "      <td>2013</td>\n",
       "      <td>6.1169</td>\n",
       "      <td>79</td>\n",
       "      <td>83</td>\n",
       "    </tr>\n",
       "    <tr>\n",
       "      <th>3</th>\n",
       "      <td>SDG&amp;E</td>\n",
       "      <td>2013</td>\n",
       "      <td>6.0000</td>\n",
       "      <td>79</td>\n",
       "      <td>11</td>\n",
       "    </tr>\n",
       "    <tr>\n",
       "      <th>4</th>\n",
       "      <td>SDG&amp;E</td>\n",
       "      <td>2013</td>\n",
       "      <td>5.5177</td>\n",
       "      <td>TL 626 - CIRCUIT 238</td>\n",
       "      <td>2</td>\n",
       "    </tr>\n",
       "  </tbody>\n",
       "</table>\n",
       "</div>"
      ],
      "text/plain": [
       "  Utility  Year  Out_Duration          Circuit Name  TOTAL CUSTOMERS IMPACTED\n",
       "0   SDG&E  2013        8.8851                    79                        85\n",
       "1   SDG&E  2013        8.6012  TL 626 - CIRCUIT 238                         2\n",
       "2   SDG&E  2013        6.1169                    79                        83\n",
       "3   SDG&E  2013        6.0000                    79                        11\n",
       "4   SDG&E  2013        5.5177  TL 626 - CIRCUIT 238                         2"
      ]
     },
     "execution_count": 14,
     "metadata": {},
     "output_type": "execute_result"
    }
   ],
   "source": [
    "df.head()"
   ]
  },
  {
   "cell_type": "code",
   "execution_count": 15,
   "metadata": {},
   "outputs": [
    {
     "data": {
      "text/html": [
       "<div>\n",
       "<style scoped>\n",
       "    .dataframe tbody tr th:only-of-type {\n",
       "        vertical-align: middle;\n",
       "    }\n",
       "\n",
       "    .dataframe tbody tr th {\n",
       "        vertical-align: top;\n",
       "    }\n",
       "\n",
       "    .dataframe thead th {\n",
       "        text-align: right;\n",
       "    }\n",
       "</style>\n",
       "<table border=\"1\" class=\"dataframe\">\n",
       "  <thead>\n",
       "    <tr style=\"text-align: right;\">\n",
       "      <th></th>\n",
       "      <th>Utility</th>\n",
       "      <th>Out_Duration</th>\n",
       "      <th>Circuit Name</th>\n",
       "      <th>TOTAL CUSTOMERS IMPACTED</th>\n",
       "    </tr>\n",
       "    <tr>\n",
       "      <th>Year</th>\n",
       "      <th></th>\n",
       "      <th></th>\n",
       "      <th></th>\n",
       "      <th></th>\n",
       "    </tr>\n",
       "  </thead>\n",
       "  <tbody>\n",
       "    <tr>\n",
       "      <th>2013</th>\n",
       "      <td>5</td>\n",
       "      <td>5</td>\n",
       "      <td>5</td>\n",
       "      <td>5</td>\n",
       "    </tr>\n",
       "    <tr>\n",
       "      <th>2014</th>\n",
       "      <td>10</td>\n",
       "      <td>10</td>\n",
       "      <td>10</td>\n",
       "      <td>10</td>\n",
       "    </tr>\n",
       "    <tr>\n",
       "      <th>2017</th>\n",
       "      <td>66</td>\n",
       "      <td>66</td>\n",
       "      <td>66</td>\n",
       "      <td>66</td>\n",
       "    </tr>\n",
       "    <tr>\n",
       "      <th>2018</th>\n",
       "      <td>90</td>\n",
       "      <td>90</td>\n",
       "      <td>90</td>\n",
       "      <td>90</td>\n",
       "    </tr>\n",
       "    <tr>\n",
       "      <th>2019</th>\n",
       "      <td>1843</td>\n",
       "      <td>1843</td>\n",
       "      <td>1843</td>\n",
       "      <td>1843</td>\n",
       "    </tr>\n",
       "    <tr>\n",
       "      <th>2020</th>\n",
       "      <td>2246</td>\n",
       "      <td>2246</td>\n",
       "      <td>2246</td>\n",
       "      <td>2246</td>\n",
       "    </tr>\n",
       "    <tr>\n",
       "      <th>2021</th>\n",
       "      <td>358</td>\n",
       "      <td>358</td>\n",
       "      <td>358</td>\n",
       "      <td>358</td>\n",
       "    </tr>\n",
       "  </tbody>\n",
       "</table>\n",
       "</div>"
      ],
      "text/plain": [
       "      Utility  Out_Duration  Circuit Name  TOTAL CUSTOMERS IMPACTED\n",
       "Year                                                               \n",
       "2013        5             5             5                         5\n",
       "2014       10            10            10                        10\n",
       "2017       66            66            66                        66\n",
       "2018       90            90            90                        90\n",
       "2019     1843          1843          1843                      1843\n",
       "2020     2246          2246          2246                      2246\n",
       "2021      358           358           358                       358"
      ]
     },
     "execution_count": 15,
     "metadata": {},
     "output_type": "execute_result"
    }
   ],
   "source": [
    "df.groupby('Year').count()"
   ]
  },
  {
   "cell_type": "code",
   "execution_count": 16,
   "metadata": {},
   "outputs": [
    {
     "data": {
      "text/plain": [
       "[2013, 2014, 2017, 2018, 2019, 2020, 2021]"
      ]
     },
     "execution_count": 16,
     "metadata": {},
     "output_type": "execute_result"
    }
   ],
   "source": [
    "list(df['Year'].unique())"
   ]
  },
  {
   "cell_type": "code",
   "execution_count": null,
   "metadata": {},
   "outputs": [],
   "source": []
  },
  {
   "cell_type": "code",
   "execution_count": 17,
   "metadata": {},
   "outputs": [
    {
     "name": "stdout",
     "output_type": "stream",
     "text": [
      "2013 ['SDG&E']\n",
      "2014 ['SDG&E']\n",
      "2017 ['SDG&E']\n",
      "2018 ['PG&E' 'SDG&E']\n",
      "2019 ['SCE' 'PG&E' 'SDG&E']\n",
      "2020 ['SCE' 'PG&E' 'SDG&E' 'PacifiCorp' 'SDGE' 'PGE']\n",
      "2021 ['SCE' 'PG&E' 'PacifiCorp']\n"
     ]
    }
   ],
   "source": [
    "for i in list(df['Year'].unique()):\n",
    "    print(i,df[df['Year']==i]['Utility'].unique())"
   ]
  },
  {
   "cell_type": "code",
   "execution_count": 18,
   "metadata": {},
   "outputs": [
    {
     "data": {
      "text/plain": [
       "Index(['Utility', 'Year', 'Out_Duration', 'Circuit Name', 'TOTAL CUSTOMERS IMPACTED'], dtype='object')"
      ]
     },
     "execution_count": 18,
     "metadata": {},
     "output_type": "execute_result"
    }
   ],
   "source": [
    "df.columns"
   ]
  },
  {
   "cell_type": "code",
   "execution_count": 19,
   "metadata": {},
   "outputs": [
    {
     "data": {
      "text/html": [
       "<div>\n",
       "<style scoped>\n",
       "    .dataframe tbody tr th:only-of-type {\n",
       "        vertical-align: middle;\n",
       "    }\n",
       "\n",
       "    .dataframe tbody tr th {\n",
       "        vertical-align: top;\n",
       "    }\n",
       "\n",
       "    .dataframe thead th {\n",
       "        text-align: right;\n",
       "    }\n",
       "</style>\n",
       "<table border=\"1\" class=\"dataframe\">\n",
       "  <thead>\n",
       "    <tr style=\"text-align: right;\">\n",
       "      <th></th>\n",
       "      <th>circuit_impacted</th>\n",
       "      <th>CUSTOMERS_IMPACTED</th>\n",
       "      <th>Average_outage</th>\n",
       "      <th>Max_outage</th>\n",
       "      <th>Utility_reporting</th>\n",
       "    </tr>\n",
       "    <tr>\n",
       "      <th>Year</th>\n",
       "      <th></th>\n",
       "      <th></th>\n",
       "      <th></th>\n",
       "      <th></th>\n",
       "      <th></th>\n",
       "    </tr>\n",
       "  </thead>\n",
       "  <tbody>\n",
       "    <tr>\n",
       "      <th>2013</th>\n",
       "      <td>2</td>\n",
       "      <td>183</td>\n",
       "      <td>7.024180</td>\n",
       "      <td>8.8851</td>\n",
       "      <td>SDG&amp;E</td>\n",
       "    </tr>\n",
       "    <tr>\n",
       "      <th>2014</th>\n",
       "      <td>6</td>\n",
       "      <td>1367</td>\n",
       "      <td>15.764060</td>\n",
       "      <td>32.3006</td>\n",
       "      <td>SDG&amp;E</td>\n",
       "    </tr>\n",
       "    <tr>\n",
       "      <th>2017</th>\n",
       "      <td>28</td>\n",
       "      <td>20820</td>\n",
       "      <td>36.086342</td>\n",
       "      <td>144.8684</td>\n",
       "      <td>SDG&amp;E</td>\n",
       "    </tr>\n",
       "    <tr>\n",
       "      <th>2018</th>\n",
       "      <td>78</td>\n",
       "      <td>84565</td>\n",
       "      <td>37.386482</td>\n",
       "      <td>93.6847</td>\n",
       "      <td>PG&amp;E,SDG&amp;E</td>\n",
       "    </tr>\n",
       "    <tr>\n",
       "      <th>2019</th>\n",
       "      <td>1585</td>\n",
       "      <td>2230459</td>\n",
       "      <td>48.133907</td>\n",
       "      <td>143.4175</td>\n",
       "      <td>SCE,PG&amp;E,SDG&amp;E</td>\n",
       "    </tr>\n",
       "    <tr>\n",
       "      <th>2020</th>\n",
       "      <td>713</td>\n",
       "      <td>982057</td>\n",
       "      <td>28.077572</td>\n",
       "      <td>133.8350</td>\n",
       "      <td>SCE,PG&amp;E,SDG&amp;E,PacifiCorp,SDGE,PGE</td>\n",
       "    </tr>\n",
       "    <tr>\n",
       "      <th>2021</th>\n",
       "      <td>292</td>\n",
       "      <td>198182</td>\n",
       "      <td>34.271416</td>\n",
       "      <td>184.0167</td>\n",
       "      <td>SCE,PG&amp;E,PacifiCorp</td>\n",
       "    </tr>\n",
       "  </tbody>\n",
       "</table>\n",
       "</div>"
      ],
      "text/plain": [
       "      circuit_impacted  CUSTOMERS_IMPACTED  Average_outage  Max_outage                   Utility_reporting\n",
       "Year                                                                                                      \n",
       "2013                 2                 183        7.024180      8.8851                               SDG&E\n",
       "2014                 6                1367       15.764060     32.3006                               SDG&E\n",
       "2017                28               20820       36.086342    144.8684                               SDG&E\n",
       "2018                78               84565       37.386482     93.6847                          PG&E,SDG&E\n",
       "2019              1585             2230459       48.133907    143.4175                      SCE,PG&E,SDG&E\n",
       "2020               713              982057       28.077572    133.8350  SCE,PG&E,SDG&E,PacifiCorp,SDGE,PGE\n",
       "2021               292              198182       34.271416    184.0167                 SCE,PG&E,PacifiCorp"
      ]
     },
     "execution_count": 19,
     "metadata": {},
     "output_type": "execute_result"
    }
   ],
   "source": [
    "# https://cmdlinetips.com/2019/10/pandas-groupby-13-functions-to-aggregate/\n",
    "# https://stackoverflow.com/questions/14529838/apply-multiple-functions-to-multiple-groupby-columns/53096340\n",
    "df.groupby('Year').agg(\n",
    "             circuit_impacted =('Circuit Name', lambda x: x.nunique()),\n",
    "             CUSTOMERS_IMPACTED=('TOTAL CUSTOMERS IMPACTED', 'sum'),\n",
    "             Average_outage = ('Out_Duration','mean') ,\n",
    "             Max_outage = ('Out_Duration','max'),\n",
    "             Utility_reporting = ('Utility',lambda x: ','.join(x.unique()))\n",
    ")"
   ]
  },
  {
   "cell_type": "code",
   "execution_count": 20,
   "metadata": {},
   "outputs": [
    {
     "data": {
      "text/html": [
       "<div>\n",
       "<style scoped>\n",
       "    .dataframe tbody tr th:only-of-type {\n",
       "        vertical-align: middle;\n",
       "    }\n",
       "\n",
       "    .dataframe tbody tr th {\n",
       "        vertical-align: top;\n",
       "    }\n",
       "\n",
       "    .dataframe thead th {\n",
       "        text-align: right;\n",
       "    }\n",
       "</style>\n",
       "<table border=\"1\" class=\"dataframe\">\n",
       "  <thead>\n",
       "    <tr style=\"text-align: right;\">\n",
       "      <th></th>\n",
       "      <th>Customer_Served</th>\n",
       "      <th>per_CUSTOMERS_served</th>\n",
       "      <th>psps_outage</th>\n",
       "      <th>average_psps_duration</th>\n",
       "    </tr>\n",
       "    <tr>\n",
       "      <th>Utility</th>\n",
       "      <th></th>\n",
       "      <th></th>\n",
       "      <th></th>\n",
       "      <th></th>\n",
       "    </tr>\n",
       "  </thead>\n",
       "  <tbody>\n",
       "    <tr>\n",
       "      <th>PG&amp;E</th>\n",
       "      <td>2788077</td>\n",
       "      <td>0.7926</td>\n",
       "      <td>114517.1788</td>\n",
       "      <td>45.898669</td>\n",
       "    </tr>\n",
       "    <tr>\n",
       "      <th>PGE</th>\n",
       "      <td>617</td>\n",
       "      <td>0.0002</td>\n",
       "      <td>97.9038</td>\n",
       "      <td>19.580760</td>\n",
       "    </tr>\n",
       "    <tr>\n",
       "      <th>PacifiCorp</th>\n",
       "      <td>4512</td>\n",
       "      <td>0.0013</td>\n",
       "      <td>318.7254</td>\n",
       "      <td>12.749016</td>\n",
       "    </tr>\n",
       "    <tr>\n",
       "      <th>SCE</th>\n",
       "      <td>528843</td>\n",
       "      <td>0.1503</td>\n",
       "      <td>44119.5497</td>\n",
       "      <td>25.240017</td>\n",
       "    </tr>\n",
       "    <tr>\n",
       "      <th>SDG&amp;E</th>\n",
       "      <td>99282</td>\n",
       "      <td>0.0282</td>\n",
       "      <td>7191.5440</td>\n",
       "      <td>32.394342</td>\n",
       "    </tr>\n",
       "    <tr>\n",
       "      <th>SDGE</th>\n",
       "      <td>96302</td>\n",
       "      <td>0.0274</td>\n",
       "      <td>3736.5255</td>\n",
       "      <td>30.378256</td>\n",
       "    </tr>\n",
       "  </tbody>\n",
       "</table>\n",
       "</div>"
      ],
      "text/plain": [
       "            Customer_Served  per_CUSTOMERS_served  psps_outage  average_psps_duration\n",
       "Utility                                                                              \n",
       "PG&E                2788077                0.7926  114517.1788              45.898669\n",
       "PGE                     617                0.0002      97.9038              19.580760\n",
       "PacifiCorp             4512                0.0013     318.7254              12.749016\n",
       "SCE                  528843                0.1503   44119.5497              25.240017\n",
       "SDG&E                 99282                0.0282    7191.5440              32.394342\n",
       "SDGE                  96302                0.0274    3736.5255              30.378256"
      ]
     },
     "execution_count": 20,
     "metadata": {},
     "output_type": "execute_result"
    }
   ],
   "source": [
    "total = df['TOTAL CUSTOMERS IMPACTED'].sum()\n",
    "df.groupby('Utility').agg(\n",
    "             Customer_Served =('TOTAL CUSTOMERS IMPACTED', 'sum'),\n",
    "             per_CUSTOMERS_served =('TOTAL CUSTOMERS IMPACTED', lambda x: round(x.sum()/total,4)),\n",
    "             psps_outage = ('Out_Duration','sum') ,\n",
    "             average_psps_duration = ('Out_Duration','mean')\n",
    ")"
   ]
  },
  {
   "cell_type": "code",
   "execution_count": 21,
   "metadata": {},
   "outputs": [
    {
     "data": {
      "text/html": [
       "<div>\n",
       "<style scoped>\n",
       "    .dataframe tbody tr th:only-of-type {\n",
       "        vertical-align: middle;\n",
       "    }\n",
       "\n",
       "    .dataframe tbody tr th {\n",
       "        vertical-align: top;\n",
       "    }\n",
       "\n",
       "    .dataframe thead th {\n",
       "        text-align: right;\n",
       "    }\n",
       "</style>\n",
       "<table border=\"1\" class=\"dataframe\">\n",
       "  <thead>\n",
       "    <tr style=\"text-align: right;\">\n",
       "      <th></th>\n",
       "      <th>Utility</th>\n",
       "      <th>Year</th>\n",
       "      <th>Out_Duration</th>\n",
       "      <th>Circuit Name</th>\n",
       "      <th>TOTAL CUSTOMERS IMPACTED</th>\n",
       "    </tr>\n",
       "  </thead>\n",
       "  <tbody>\n",
       "    <tr>\n",
       "      <th>0</th>\n",
       "      <td>SDG&amp;E</td>\n",
       "      <td>2013</td>\n",
       "      <td>8.8851</td>\n",
       "      <td>79</td>\n",
       "      <td>85</td>\n",
       "    </tr>\n",
       "    <tr>\n",
       "      <th>1</th>\n",
       "      <td>SDG&amp;E</td>\n",
       "      <td>2013</td>\n",
       "      <td>8.6012</td>\n",
       "      <td>TL 626 - CIRCUIT 238</td>\n",
       "      <td>2</td>\n",
       "    </tr>\n",
       "    <tr>\n",
       "      <th>2</th>\n",
       "      <td>SDG&amp;E</td>\n",
       "      <td>2013</td>\n",
       "      <td>6.1169</td>\n",
       "      <td>79</td>\n",
       "      <td>83</td>\n",
       "    </tr>\n",
       "    <tr>\n",
       "      <th>3</th>\n",
       "      <td>SDG&amp;E</td>\n",
       "      <td>2013</td>\n",
       "      <td>6.0000</td>\n",
       "      <td>79</td>\n",
       "      <td>11</td>\n",
       "    </tr>\n",
       "    <tr>\n",
       "      <th>4</th>\n",
       "      <td>SDG&amp;E</td>\n",
       "      <td>2013</td>\n",
       "      <td>5.5177</td>\n",
       "      <td>TL 626 - CIRCUIT 238</td>\n",
       "      <td>2</td>\n",
       "    </tr>\n",
       "  </tbody>\n",
       "</table>\n",
       "</div>"
      ],
      "text/plain": [
       "  Utility  Year  Out_Duration          Circuit Name  TOTAL CUSTOMERS IMPACTED\n",
       "0   SDG&E  2013        8.8851                    79                        85\n",
       "1   SDG&E  2013        8.6012  TL 626 - CIRCUIT 238                         2\n",
       "2   SDG&E  2013        6.1169                    79                        83\n",
       "3   SDG&E  2013        6.0000                    79                        11\n",
       "4   SDG&E  2013        5.5177  TL 626 - CIRCUIT 238                         2"
      ]
     },
     "execution_count": 21,
     "metadata": {},
     "output_type": "execute_result"
    }
   ],
   "source": [
    "df.head()"
   ]
  },
  {
   "cell_type": "code",
   "execution_count": 22,
   "metadata": {},
   "outputs": [],
   "source": [
    "df_cross = pd.crosstab(index=df['Year'],\n",
    "           columns=df['Utility'],values=df['TOTAL CUSTOMERS IMPACTED'],aggfunc='sum')"
   ]
  },
  {
   "cell_type": "code",
   "execution_count": 23,
   "metadata": {},
   "outputs": [],
   "source": [
    "df_cross.fillna(0,inplace=True)"
   ]
  },
  {
   "cell_type": "code",
   "execution_count": 24,
   "metadata": {},
   "outputs": [],
   "source": [
    "# df[(df['Year']==2017) & (df['Utility']=='SDG&E')].shape #['TOTAL CUSTOMERS IMPACTED'].sum()"
   ]
  },
  {
   "cell_type": "code",
   "execution_count": 25,
   "metadata": {},
   "outputs": [
    {
     "data": {
      "image/png": "[encoded data removed]",
      "text/plain": [
       "<Figure size 720x432 with 1 Axes>"
      ]
     },
     "metadata": {
      "needs_background": "light"
     },
     "output_type": "display_data"
    }
   ],
   "source": [
    "df_cross.plot(kind='bar', \n",
    "                    stacked=True, \n",
    "                    colormap='tab10', \n",
    "                    figsize=(10, 6))\n",
    "\n",
    "plt.legend(loc=\"upper left\", ncol=2)\n",
    "plt.xlabel(\"Year\")\n",
    "plt.ylabel(\"Customer Impacted\")\n",
    "plt.show()"
   ]
  },
  {
   "cell_type": "code",
   "execution_count": null,
   "metadata": {},
   "outputs": [],
   "source": []
  }
 ],
 "metadata": {
  "kernelspec": {
   "display_name": "Python 3",
   "language": "python",
   "name": "python3"
  },
  "language_info": {
   "codemirror_mode": {
    "name": "ipython",
    "version": 3
   },
   "file_extension": ".py",
   "mimetype": "text/x-python",
   "name": "python",
   "nbconvert_exporter": "python",
   "pygments_lexer": "ipython3",
   "version": "3.8.5"
  }
 },
 "nbformat": 4,
 "nbformat_minor": 4
}
