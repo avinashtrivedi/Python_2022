{
 "cells": [
  {
   "cell_type": "code",
   "execution_count": 1,
   "metadata": {},
   "outputs": [],
   "source": [
    "import pandas as pd"
   ]
  },
  {
   "cell_type": "code",
   "execution_count": 3,
   "metadata": {},
   "outputs": [],
   "source": [
    "df = pd.read_csv('droits sociaux propre.csv')"
   ]
  },
  {
   "cell_type": "code",
   "execution_count": 4,
   "metadata": {},
   "outputs": [
    {
     "data": {
      "text/html": [
       "<div>\n",
       "<style scoped>\n",
       "    .dataframe tbody tr th:only-of-type {\n",
       "        vertical-align: middle;\n",
       "    }\n",
       "\n",
       "    .dataframe tbody tr th {\n",
       "        vertical-align: top;\n",
       "    }\n",
       "\n",
       "    .dataframe thead th {\n",
       "        text-align: right;\n",
       "    }\n",
       "</style>\n",
       "<table border=\"1\" class=\"dataframe\">\n",
       "  <thead>\n",
       "    <tr style=\"text-align: right;\">\n",
       "      <th></th>\n",
       "      <th>Unnamed: 0</th>\n",
       "      <th>Démarche</th>\n",
       "      <th>Date</th>\n",
       "      <th>Identifiant</th>\n",
       "      <th>Satisfaction</th>\n",
       "      <th>Verbatim</th>\n",
       "      <th>Facilité</th>\n",
       "      <th>Simplicité</th>\n",
       "      <th>Difficulté</th>\n",
       "      <th>Autre difficulté</th>\n",
       "      <th>Aide</th>\n",
       "      <th>Autre aide</th>\n",
       "      <th>Source</th>\n",
       "    </tr>\n",
       "  </thead>\n",
       "  <tbody>\n",
       "    <tr>\n",
       "      <th>0</th>\n",
       "      <td>0</td>\n",
       "      <td>Simuler mes droits sociaux</td>\n",
       "      <td>2021/07/08 02:10:01</td>\n",
       "      <td>3729140</td>\n",
       "      <td>Moyen</td>\n",
       "      <td>Ajouter prime d'activité afin de faire la simu...</td>\n",
       "      <td>Bon</td>\n",
       "      <td>Bon</td>\n",
       "      <td>Autre</td>\n",
       "      <td>Pas assez de simulation tel que la prime d'act...</td>\n",
       "      <td>Autre</td>\n",
       "      <td>Prime d'activité</td>\n",
       "      <td>button</td>\n",
       "    </tr>\n",
       "    <tr>\n",
       "      <th>1</th>\n",
       "      <td>1</td>\n",
       "      <td>Simuler mes droits sociaux</td>\n",
       "      <td>2021/07/07 23:26:57</td>\n",
       "      <td>3728819</td>\n",
       "      <td>Pas bien</td>\n",
       "      <td>en mettant 4 millions d'euros de revenus, la s...</td>\n",
       "      <td>Bon</td>\n",
       "      <td>Bon</td>\n",
       "      <td>-</td>\n",
       "      <td>-</td>\n",
       "      <td>-</td>\n",
       "      <td>-</td>\n",
       "      <td>button</td>\n",
       "    </tr>\n",
       "    <tr>\n",
       "      <th>2</th>\n",
       "      <td>2</td>\n",
       "      <td>Simuler mes droits sociaux</td>\n",
       "      <td>2021/07/07 18:52:48</td>\n",
       "      <td>3726835</td>\n",
       "      <td>Moyen</td>\n",
       "      <td>Bonjour, je me suis trouvée désemparée pour in...</td>\n",
       "      <td>Moyen</td>\n",
       "      <td>Bon</td>\n",
       "      <td>Manque d'informations avant de commencer la dé...</td>\n",
       "      <td>-</td>\n",
       "      <td>Internet (site, forum…)</td>\n",
       "      <td>-</td>\n",
       "      <td>button</td>\n",
       "    </tr>\n",
       "    <tr>\n",
       "      <th>3</th>\n",
       "      <td>3</td>\n",
       "      <td>Simuler mes droits sociaux</td>\n",
       "      <td>2021/07/07 16:22:29</td>\n",
       "      <td>3725227</td>\n",
       "      <td>Moyen</td>\n",
       "      <td>Bonjour pourquoi n a je pas droit à une mutuel...</td>\n",
       "      <td>-</td>\n",
       "      <td>-</td>\n",
       "      <td>-</td>\n",
       "      <td>-</td>\n",
       "      <td>-</td>\n",
       "      <td>-</td>\n",
       "      <td>button</td>\n",
       "    </tr>\n",
       "    <tr>\n",
       "      <th>4</th>\n",
       "      <td>4</td>\n",
       "      <td>Simuler mes droits sociaux</td>\n",
       "      <td>2021/07/07 16:18:52</td>\n",
       "      <td>3725179</td>\n",
       "      <td>Moyen</td>\n",
       "      <td>je ne voudrais pas aller en maison de retraite...</td>\n",
       "      <td>Bon</td>\n",
       "      <td>Moyen</td>\n",
       "      <td>Manque d'informations avant de commencer la dé...</td>\n",
       "      <td>-</td>\n",
       "      <td>-</td>\n",
       "      <td>-</td>\n",
       "      <td>button</td>\n",
       "    </tr>\n",
       "    <tr>\n",
       "      <th>...</th>\n",
       "      <td>...</td>\n",
       "      <td>...</td>\n",
       "      <td>...</td>\n",
       "      <td>...</td>\n",
       "      <td>...</td>\n",
       "      <td>...</td>\n",
       "      <td>...</td>\n",
       "      <td>...</td>\n",
       "      <td>...</td>\n",
       "      <td>...</td>\n",
       "      <td>...</td>\n",
       "      <td>...</td>\n",
       "      <td>...</td>\n",
       "    </tr>\n",
       "    <tr>\n",
       "      <th>2451</th>\n",
       "      <td>2451</td>\n",
       "      <td>Simuler mes droits sociaux</td>\n",
       "      <td>2020/07/31 09:00:05</td>\n",
       "      <td>1525742</td>\n",
       "      <td>Très bien</td>\n",
       "      <td>J'ai fait une simulation pour connaître mes dr...</td>\n",
       "      <td>Bon</td>\n",
       "      <td>Bon</td>\n",
       "      <td>Manque d'informations sur la suite, le délai...</td>\n",
       "      <td>-</td>\n",
       "      <td>Un agent administratif</td>\n",
       "      <td>-</td>\n",
       "      <td>button</td>\n",
       "    </tr>\n",
       "    <tr>\n",
       "      <th>2452</th>\n",
       "      <td>2452</td>\n",
       "      <td>Simuler mes droits sociaux</td>\n",
       "      <td>2020/07/30 16:27:34</td>\n",
       "      <td>1523520</td>\n",
       "      <td>Pas bien</td>\n",
       "      <td>Je n'ai pas eu la réponse a ma question. J'ava...</td>\n",
       "      <td>Moyen</td>\n",
       "      <td>Bon</td>\n",
       "      <td>La démarche n'a pas fonctionné ; Manque d'info...</td>\n",
       "      <td>-</td>\n",
       "      <td>-</td>\n",
       "      <td>-</td>\n",
       "      <td>button</td>\n",
       "    </tr>\n",
       "    <tr>\n",
       "      <th>2453</th>\n",
       "      <td>2453</td>\n",
       "      <td>Simuler mes droits sociaux</td>\n",
       "      <td>2020/07/30 15:55:02</td>\n",
       "      <td>1523299</td>\n",
       "      <td>Moyen</td>\n",
       "      <td>actuellement je n'ai que 78 euros  apl et non ...</td>\n",
       "      <td>-</td>\n",
       "      <td>-</td>\n",
       "      <td>Autre</td>\n",
       "      <td>-</td>\n",
       "      <td>-</td>\n",
       "      <td>-</td>\n",
       "      <td>button</td>\n",
       "    </tr>\n",
       "    <tr>\n",
       "      <th>2454</th>\n",
       "      <td>2454</td>\n",
       "      <td>Simuler mes droits sociaux</td>\n",
       "      <td>2020/07/29 14:38:54</td>\n",
       "      <td>1517696</td>\n",
       "      <td>Très bien</td>\n",
       "      <td>conforte mon idee de n'avoir pas droit à quelq...</td>\n",
       "      <td>Bon</td>\n",
       "      <td>Bon</td>\n",
       "      <td>Difficulté à joindre les pièces justificatives</td>\n",
       "      <td>-</td>\n",
       "      <td>-</td>\n",
       "      <td>-</td>\n",
       "      <td>button</td>\n",
       "    </tr>\n",
       "    <tr>\n",
       "      <th>2455</th>\n",
       "      <td>2455</td>\n",
       "      <td>Simuler mes droits sociaux</td>\n",
       "      <td>2020/07/29 13:41:51</td>\n",
       "      <td>1517389</td>\n",
       "      <td>Moyen</td>\n",
       "      <td>pas assez pres des personnes et de leur situat...</td>\n",
       "      <td>-</td>\n",
       "      <td>-</td>\n",
       "      <td>-</td>\n",
       "      <td>-</td>\n",
       "      <td>-</td>\n",
       "      <td>-</td>\n",
       "      <td>button</td>\n",
       "    </tr>\n",
       "  </tbody>\n",
       "</table>\n",
       "<p>2456 rows × 13 columns</p>\n",
       "</div>"
      ],
      "text/plain": [
       "      Unnamed: 0                    Démarche                 Date  \\\n",
       "0              0  Simuler mes droits sociaux  2021/07/08 02:10:01   \n",
       "1              1  Simuler mes droits sociaux  2021/07/07 23:26:57   \n",
       "2              2  Simuler mes droits sociaux  2021/07/07 18:52:48   \n",
       "3              3  Simuler mes droits sociaux  2021/07/07 16:22:29   \n",
       "4              4  Simuler mes droits sociaux  2021/07/07 16:18:52   \n",
       "...          ...                         ...                  ...   \n",
       "2451        2451  Simuler mes droits sociaux  2020/07/31 09:00:05   \n",
       "2452        2452  Simuler mes droits sociaux  2020/07/30 16:27:34   \n",
       "2453        2453  Simuler mes droits sociaux  2020/07/30 15:55:02   \n",
       "2454        2454  Simuler mes droits sociaux  2020/07/29 14:38:54   \n",
       "2455        2455  Simuler mes droits sociaux  2020/07/29 13:41:51   \n",
       "\n",
       "      Identifiant Satisfaction  \\\n",
       "0         3729140        Moyen   \n",
       "1         3728819     Pas bien   \n",
       "2         3726835        Moyen   \n",
       "3         3725227        Moyen   \n",
       "4         3725179        Moyen   \n",
       "...           ...          ...   \n",
       "2451      1525742    Très bien   \n",
       "2452      1523520     Pas bien   \n",
       "2453      1523299        Moyen   \n",
       "2454      1517696    Très bien   \n",
       "2455      1517389        Moyen   \n",
       "\n",
       "                                               Verbatim Facilité Simplicité  \\\n",
       "0     Ajouter prime d'activité afin de faire la simu...      Bon        Bon   \n",
       "1     en mettant 4 millions d'euros de revenus, la s...      Bon        Bon   \n",
       "2     Bonjour, je me suis trouvée désemparée pour in...    Moyen        Bon   \n",
       "3     Bonjour pourquoi n a je pas droit à une mutuel...        -          -   \n",
       "4     je ne voudrais pas aller en maison de retraite...      Bon      Moyen   \n",
       "...                                                 ...      ...        ...   \n",
       "2451  J'ai fait une simulation pour connaître mes dr...      Bon        Bon   \n",
       "2452  Je n'ai pas eu la réponse a ma question. J'ava...    Moyen        Bon   \n",
       "2453  actuellement je n'ai que 78 euros  apl et non ...        -          -   \n",
       "2454  conforte mon idee de n'avoir pas droit à quelq...      Bon        Bon   \n",
       "2455  pas assez pres des personnes et de leur situat...        -          -   \n",
       "\n",
       "                                             Difficulté  \\\n",
       "0                                                 Autre   \n",
       "1                                                     -   \n",
       "2     Manque d'informations avant de commencer la dé...   \n",
       "3                                                     -   \n",
       "4     Manque d'informations avant de commencer la dé...   \n",
       "...                                                 ...   \n",
       "2451    Manque d'informations sur la suite, le délai...   \n",
       "2452  La démarche n'a pas fonctionné ; Manque d'info...   \n",
       "2453                                              Autre   \n",
       "2454     Difficulté à joindre les pièces justificatives   \n",
       "2455                                                  -   \n",
       "\n",
       "                                       Autre difficulté  \\\n",
       "0     Pas assez de simulation tel que la prime d'act...   \n",
       "1                                                     -   \n",
       "2                                                     -   \n",
       "3                                                     -   \n",
       "4                                                     -   \n",
       "...                                                 ...   \n",
       "2451                                                  -   \n",
       "2452                                                  -   \n",
       "2453                                                  -   \n",
       "2454                                                  -   \n",
       "2455                                                  -   \n",
       "\n",
       "                         Aide         Autre aide  Source  \n",
       "0                       Autre  Prime d'activité   button  \n",
       "1                           -                  -  button  \n",
       "2     Internet (site, forum…)                  -  button  \n",
       "3                           -                  -  button  \n",
       "4                           -                  -  button  \n",
       "...                       ...                ...     ...  \n",
       "2451   Un agent administratif                  -  button  \n",
       "2452                        -                  -  button  \n",
       "2453                        -                  -  button  \n",
       "2454                        -                  -  button  \n",
       "2455                        -                  -  button  \n",
       "\n",
       "[2456 rows x 13 columns]"
      ]
     },
     "execution_count": 4,
     "metadata": {},
     "output_type": "execute_result"
    }
   ],
   "source": [
    "df"
   ]
  },
  {
   "cell_type": "code",
   "execution_count": 5,
   "metadata": {},
   "outputs": [],
   "source": [
    "df1 = pd.read_csv('trié test propre.csv')"
   ]
  },
  {
   "cell_type": "code",
   "execution_count": 10,
   "metadata": {},
   "outputs": [
    {
     "data": {
      "text/plain": [
       "['texte']"
      ]
     },
     "execution_count": 10,
     "metadata": {},
     "output_type": "execute_result"
    }
   ],
   "source": [
    "list(df1)"
   ]
  },
  {
   "cell_type": "code",
   "execution_count": 11,
   "metadata": {},
   "outputs": [
    {
     "data": {
      "text/plain": [
       "Index(['texte'], dtype='object')"
      ]
     },
     "execution_count": 11,
     "metadata": {},
     "output_type": "execute_result"
    }
   ],
   "source": [
    "df1.columns"
   ]
  },
  {
   "cell_type": "code",
   "execution_count": 12,
   "metadata": {},
   "outputs": [
    {
     "data": {
      "text/plain": [
       "Index(['Unnamed: 0', 'Démarche', 'Date', 'Identifiant', 'Satisfaction',\n",
       "       'Verbatim', 'Facilité', 'Simplicité', 'Difficulté', 'Autre difficulté',\n",
       "       'Aide', 'Autre aide', 'Source'],\n",
       "      dtype='object')"
      ]
     },
     "execution_count": 12,
     "metadata": {},
     "output_type": "execute_result"
    }
   ],
   "source": [
    "df.columns"
   ]
  },
  {
   "cell_type": "code",
   "execution_count": 14,
   "metadata": {},
   "outputs": [
    {
     "data": {
      "text/plain": [
       "0       Ajouter prime d'activité afin de faire la simu...\n",
       "1       en mettant 4 millions d'euros de revenus, la s...\n",
       "2       Bonjour, je me suis trouvée désemparée pour in...\n",
       "3       Bonjour pourquoi n a je pas droit à une mutuel...\n",
       "4       je ne voudrais pas aller en maison de retraite...\n",
       "                              ...                        \n",
       "2450    J'ai fait une simulation pour connaître mes dr...\n",
       "2451    Je n'ai pas eu la réponse a ma question. J'ava...\n",
       "2452    actuellement je n'ai que 78 euros  apl et non ...\n",
       "2453    conforte mon idee de n'avoir pas droit à quelq...\n",
       "2454    pas assez pres des personnes et de leur situat...\n",
       "Name: texte, Length: 2455, dtype: object"
      ]
     },
     "execution_count": 14,
     "metadata": {},
     "output_type": "execute_result"
    }
   ],
   "source": [
    "df1['texte']"
   ]
  },
  {
   "cell_type": "code",
   "execution_count": 16,
   "metadata": {},
   "outputs": [
    {
     "name": "stdout",
     "output_type": "stream",
     "text": [
      "how many rows?5\n",
      "\n",
      "#\n",
      "##\n",
      "###\n",
      "####\n",
      "#####\n"
     ]
    }
   ],
   "source": [
    "try:\n",
    "  blockheight = int(input(\"how many rows?\"))\n",
    "  for i in range(blockheight+1):\n",
    "    print(\"#\"*i)\n",
    "    # for j in range(i):\n",
    "    #   print(\"#\"*i)\n",
    "  # print(\"\")\n",
    "except ValueError:\n",
    "  print(\"please type in an integer\")"
   ]
  },
  {
   "cell_type": "code",
   "execution_count": null,
   "metadata": {},
   "outputs": [],
   "source": []
  }
 ],
 "metadata": {
  "kernelspec": {
   "display_name": "Python 3",
   "language": "python",
   "name": "python3"
  },
  "language_info": {
   "codemirror_mode": {
    "name": "ipython",
    "version": 3
   },
   "file_extension": ".py",
   "mimetype": "text/x-python",
   "name": "python",
   "nbconvert_exporter": "python",
   "pygments_lexer": "ipython3",
   "version": "3.8.5"
  }
 },
 "nbformat": 4,
 "nbformat_minor": 4
}
