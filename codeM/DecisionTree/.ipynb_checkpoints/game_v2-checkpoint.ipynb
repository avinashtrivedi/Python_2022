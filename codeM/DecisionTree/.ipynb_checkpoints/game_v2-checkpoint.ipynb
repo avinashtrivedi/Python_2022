{
 "cells": [
  {
   "cell_type": "markdown",
   "metadata": {},
   "source": [
    "# Your Code"
   ]
  },
  {
   "cell_type": "code",
   "execution_count": 4,
   "metadata": {},
   "outputs": [],
   "source": [
    "class TheThreeGame:\n",
    "    \"\"\"allows two players to play a game in which they alternately choose numbers from 1-9\"\"\"\n",
    "\n",
    "    def __init__(self):\n",
    "        \"\"\"initiates the data structures to contain the variables.\"\"\"\n",
    "        \n",
    "        # initialize all the variables (box)\n",
    "        self.__player1_moves = []\n",
    "        self.__player2_moves = []\n",
    "        self.__game_state = 'GAME_UNFINISHED'\n",
    "\n",
    "    def get_winner(self):\n",
    "        \"\"\"requires each player make at least three moves and the total number of moves equals 15 to win\"\"\"\n",
    "        \n",
    "        # chekc for the sum of three different values in __player1_moves list\n",
    "        for a in self.__player1_moves:\n",
    "            for b in self.__player1_moves:\n",
    "                for c in self.__player1_moves:\n",
    "                    \n",
    "                    # if sum of those three value is 15\n",
    "                    if (a + b + c) == 15 and a != b and a != c and b != c:\n",
    "                        \n",
    "                        #  then status becomes FIRST_PLAYER_WON\n",
    "                        self.__game_state = 'FIRST_PLAYER_WON'\n",
    "                        \n",
    "                        # return the latest game status\n",
    "                        return self.__game_state\n",
    "         \n",
    "         # chekc for the sum of three different values in __player2_moves list\n",
    "        for a in self.__player2_moves:\n",
    "            for b in self.__player2_moves:\n",
    "                for c in self.__player2_moves:\n",
    "                    \n",
    "                    # if sum of those three value is 15\n",
    "                    if (a + b + c) == 15 and a != b and a != c and b != c:\n",
    "                        \n",
    "                        #  then status becomes SECOND_PLAYER_WON\n",
    "                        self.__game_state = 'SECOND_PLAYER_WON'\n",
    "                        \n",
    "                        # return the latest staus\n",
    "                        return self.__game_state\n",
    "                    \n",
    "        # if all numbers from 1 to 9 is chosen and neither player WON\n",
    "        if len(self.__player1_moves) + len(self.__player2_moves) == 9:\n",
    "            \n",
    "            # change the game status to Draw\n",
    "            self.__game_state = 'IT_IS_A_DRAW'\n",
    "            \n",
    "        # if all numbers from 1 to 9 is not chosen\n",
    "        else:\n",
    "            \n",
    "            # make the game status as unfinished\n",
    "            self.__game_state = 'GAME_UNFINISHED'\n",
    "            \n",
    "        # return the game status\n",
    "        return self.__game_state\n",
    "\n",
    "    def make_move(self, player, num):\n",
    "        \n",
    "        # if the status of Game is Won or Drawn\n",
    "        if self.__game_state != 'GAME_UNFINISHED':\n",
    "            return False\n",
    "        \n",
    "        # if Game is UNFINISHED\n",
    "        \n",
    "        # if its first players turn \n",
    "        if player == 'first_player':\n",
    "            \n",
    "            # check the num whether it is in range (1-9) also the num should not be previously selected by either player\n",
    "            if 1 <= num <= 9 and num not in self.__player1_moves and num not in self.__player2_moves:\n",
    "                \n",
    "                # store the num in __player1_moves list and return True\n",
    "                self.__player1_moves.append(num)\n",
    "                return True\n",
    "            \n",
    "        # if its second players turn \n",
    "        elif player == 'second_player':\n",
    "            \n",
    "            # check the num whether it is in range (1-9) also the num should not be previously selected by either player\n",
    "            if 1 <= num <= 9 and num not in self.__player1_moves and num not in self.__player2_moves:\n",
    "                \n",
    "                # store the num in __player2_moves list and return True\n",
    "                self.__player2_moves.append(num)\n",
    "                return True\n",
    "        self.get_winner()\n",
    "        return False\n",
    "\n",
    "    def is_it_a_draw(self):\n",
    "        \"\"\"before there is a tie, declares a winner and ends the game\"\"\"\n",
    "        winner = self.get_winner()\n",
    "        return winner == 'IT_IS_A_DRAW'\n"
   ]
  },
  {
   "cell_type": "code",
   "execution_count": 2,
   "metadata": {},
   "outputs": [],
   "source": [
    "# game = TheThreeGame()\n",
    "# game.make_move(\"first_player\", 2)\n",
    "# game.make_move(\"second_player\", 5)\n",
    "# result = game.make_move(\"first_player\", 7)\n",
    "# player_won = game.get_winner() #will return None because no player has won yet.\n",
    "# draw = game.is_it_a_draw() #will return \"GAME_UNFINISHED\" because it is not a draw yet nor has any player won."
   ]
  },
  {
   "cell_type": "code",
   "execution_count": 7,
   "metadata": {},
   "outputs": [
    {
     "data": {
      "text/plain": [
       "'SECOND_PLAYER_WON'"
      ]
     },
     "execution_count": 7,
     "metadata": {},
     "output_type": "execute_result"
    }
   ],
   "source": [
    "# create a object for class TheThreeGame\n",
    "game = TheThreeGame()\n",
    "\n",
    "# Make different moves\n",
    "game.make_move(\"first_player\", 2)\n",
    "game.make_move(\"second_player\", 1)\n",
    "game.make_move(\"first_player\", 3)\n",
    "game.make_move(\"second_player\", 9)\n",
    "game.make_move(\"first_player\", 4)\n",
    "game.make_move(\"second_player\", 5)\n",
    "\n",
    "# check for winner\n",
    "game.get_winner()"
   ]
  },
  {
   "cell_type": "code",
   "execution_count": 8,
   "metadata": {},
   "outputs": [
    {
     "data": {
      "text/plain": [
       "'GAME_UNFINISHED'"
      ]
     },
     "execution_count": 8,
     "metadata": {},
     "output_type": "execute_result"
    }
   ],
   "source": [
    "game = TheThreeGame()\n",
    "game.make_move(\"first_player\", 2)\n",
    "game.make_move(\"second_player\", 1)\n",
    "game.make_move(\"first_player\", 3)\n",
    "game.get_winner()"
   ]
  },
  {
   "cell_type": "code",
   "execution_count": 10,
   "metadata": {},
   "outputs": [
    {
     "data": {
      "text/plain": [
       "'FIRST_PLAYER_WON'"
      ]
     },
     "execution_count": 10,
     "metadata": {},
     "output_type": "execute_result"
    }
   ],
   "source": [
    "game = TheThreeGame()\n",
    "game.make_move(\"first_player\", 5)\n",
    "game.make_move(\"second_player\", 2)\n",
    "game.make_move(\"first_player\", 3)\n",
    "game.make_move(\"second_player\", 1)\n",
    "game.make_move(\"first_player\", 4)\n",
    "game.make_move(\"second_player\", 6)\n",
    "game.make_move(\"first_player\", 7)\n",
    "game.make_move(\"second_player\", 9)\n",
    "game.make_move(\"first_player\", 8)\n",
    "game.get_winner()"
   ]
  },
  {
   "cell_type": "code",
   "execution_count": 11,
   "metadata": {},
   "outputs": [
    {
     "data": {
      "text/plain": [
       "False"
      ]
     },
     "execution_count": 11,
     "metadata": {},
     "output_type": "execute_result"
    }
   ],
   "source": [
    "game.is_it_a_draw()"
   ]
  },
  {
   "cell_type": "markdown",
   "metadata": {},
   "source": [
    "# Modified"
   ]
  },
  {
   "cell_type": "code",
   "execution_count": 13,
   "metadata": {},
   "outputs": [],
   "source": [
    "class TheThreeGame:\n",
    "    \"\"\"allows two players to play a game in which they alternately choose numbers from 1-9\"\"\"\n",
    "\n",
    "    def __init__(self):\n",
    "        \"\"\"initiates the data structures to contain the variables.\"\"\"\n",
    "        \n",
    "        # initialize all the variables\n",
    "        self.__player1_moves = []\n",
    "        self.__player2_moves = []\n",
    "        self.__game_state = 'GAME_UNFINISHED'\n",
    "\n",
    "    def get_winner(self):\n",
    "        \"\"\"requires each player make at least three moves and the total number of moves equals 15 to win\"\"\"\n",
    "        \n",
    "        # chekc for the sum of three different values in __player1_moves list\n",
    "        for a in self.__player1_moves:\n",
    "            for b in self.__player1_moves:\n",
    "                for c in self.__player1_moves:\n",
    "                    \n",
    "                    # if sum of those three value is 15\n",
    "                    if (a + b + c) == 15 and a != b and a != c and b != c:\n",
    "                        \n",
    "                        #  then status becomes FIRST_PLAYER_WON\n",
    "                        self.__game_state = 'FIRST_PLAYER_WON'\n",
    "                        \n",
    "                        # return the latest game status\n",
    "                        return self.__game_state\n",
    "         \n",
    "         # chekc for the sum of three different values in __player2_moves list\n",
    "        for a in self.__player2_moves:\n",
    "            for b in self.__player2_moves:\n",
    "                for c in self.__player2_moves:\n",
    "                    \n",
    "                    # if sum of those three value is 15\n",
    "                    if (a + b + c) == 15 and a != b and a != c and b != c:\n",
    "                        \n",
    "                        #  then status becomes SECOND_PLAYER_WON\n",
    "                        self.__game_state = 'SECOND_PLAYER_WON'\n",
    "                        \n",
    "                        # return the latest staus\n",
    "                        return self.__game_state\n",
    "                    \n",
    "        # if all numbers from 1 to 9 is chosen and neither player WON\n",
    "        if len(self.__player1_moves) + len(self.__player2_moves) == 9:\n",
    "            \n",
    "            # change the game status to Draw\n",
    "            self.__game_state = 'IT_IS_A_DRAW'\n",
    "            \n",
    "        # if all numbers from 1 to 9 is not chosen\n",
    "        else:\n",
    "            \n",
    "            # make the game status as unfinished\n",
    "            self.__game_state = 'GAME_UNFINISHED'\n",
    "            \n",
    "        # return the game status\n",
    "        return self.__game_state\n",
    "\n",
    "    def make_move(self, player, num):\n",
    "        \n",
    "        # if the status of Game is Won or Drawn\n",
    "        if self.__game_state != 'GAME_UNFINISHED':\n",
    "            return False\n",
    "        \n",
    "        # if Game is UNFINISHED\n",
    "        \n",
    "        # if its first players turn \n",
    "        if player == 'first_player':\n",
    "            \n",
    "            # check the num whether it is in range (1-9) also the num should not be previously selected by either player\n",
    "            if 1 <= num <= 9 and num not in self.__player1_moves and num not in self.__player2_moves:\n",
    "                \n",
    "                # store the num in __player1_moves list and return True\n",
    "                self.__player1_moves.append(num)\n",
    "                return True\n",
    "            \n",
    "        # if its second players turn \n",
    "        elif player == 'second_player':\n",
    "            \n",
    "            # check the num whether it is in range (1-9) also the num should not be previously selected by either player\n",
    "            if 1 <= num <= 9 and num not in self.__player1_moves and num not in self.__player2_moves:\n",
    "                \n",
    "                # store the num in __player2_moves list and return True\n",
    "                self.__player2_moves.append(num)\n",
    "                return True\n",
    "        self.get_winner()\n",
    "        return False\n",
    "\n",
    "    def is_it_a_draw(self):\n",
    "        \"\"\"before there is a tie, declares a winner and ends the game\"\"\"\n",
    "        \n",
    "        # get the winner\n",
    "        winner = self.get_winner()\n",
    "        \n",
    "        # return the outcome\n",
    "        if winner == 'IT_IS_A_DRAW':\n",
    "            return 'IT_IS_A_DRAW'\n",
    "        elif winner == 'FIRST_PLAYER_WON':\n",
    "            return 'FIRST_PLAYER_WON'\n",
    "        elif winner == 'SECOND_PLAYER_WON':\n",
    "            return 'SECOND_PLAYER_WON' \n",
    "        else:\n",
    "            return 'GAME_UNFINISHED'"
   ]
  },
  {
   "cell_type": "code",
   "execution_count": 14,
   "metadata": {},
   "outputs": [
    {
     "data": {
      "text/plain": [
       "'FIRST_PLAYER_WON'"
      ]
     },
     "execution_count": 14,
     "metadata": {},
     "output_type": "execute_result"
    }
   ],
   "source": [
    "game = TheThreeGame()\n",
    "game.make_move(\"first_player\", 5)\n",
    "game.make_move(\"second_player\", 2)\n",
    "game.make_move(\"first_player\", 3)\n",
    "game.make_move(\"second_player\", 1)\n",
    "game.make_move(\"first_player\", 4)\n",
    "game.make_move(\"second_player\", 6)\n",
    "game.make_move(\"first_player\", 7)\n",
    "game.make_move(\"second_player\", 9)\n",
    "game.make_move(\"first_player\", 8)\n",
    "game.get_winner()"
   ]
  },
  {
   "cell_type": "code",
   "execution_count": 15,
   "metadata": {},
   "outputs": [
    {
     "data": {
      "text/plain": [
       "'FIRST_PLAYER_WON'"
      ]
     },
     "execution_count": 15,
     "metadata": {},
     "output_type": "execute_result"
    }
   ],
   "source": [
    "game.is_it_a_draw()"
   ]
  },
  {
   "cell_type": "code",
   "execution_count": null,
   "metadata": {},
   "outputs": [],
   "source": []
  },
  {
   "cell_type": "code",
   "execution_count": null,
   "metadata": {},
   "outputs": [],
   "source": []
  },
  {
   "cell_type": "code",
   "execution_count": 2,
   "metadata": {},
   "outputs": [
    {
     "name": "stdout",
     "output_type": "stream",
     "text": [
      "a: 2 b:5 c:8\n",
      "a: 2 b:6 c:7\n",
      "a: 2 b:7 c:6\n",
      "a: 2 b:8 c:5\n",
      "a: 3 b:4 c:8\n",
      "a: 3 b:5 c:7\n",
      "a: 3 b:7 c:5\n",
      "a: 3 b:8 c:4\n",
      "a: 4 b:3 c:8\n",
      "a: 4 b:5 c:6\n",
      "a: 4 b:6 c:5\n",
      "a: 4 b:8 c:3\n",
      "a: 5 b:2 c:8\n",
      "a: 5 b:3 c:7\n",
      "a: 5 b:4 c:6\n",
      "a: 5 b:6 c:4\n",
      "a: 5 b:7 c:3\n",
      "a: 5 b:8 c:2\n",
      "a: 6 b:2 c:7\n",
      "a: 6 b:4 c:5\n",
      "a: 6 b:5 c:4\n",
      "a: 6 b:7 c:2\n",
      "a: 6 b:8 c:1\n",
      "a: 6 b:1 c:8\n",
      "a: 7 b:2 c:6\n",
      "a: 7 b:3 c:5\n",
      "a: 7 b:5 c:3\n",
      "a: 7 b:6 c:2\n",
      "a: 8 b:2 c:5\n",
      "a: 8 b:3 c:4\n",
      "a: 8 b:4 c:3\n",
      "a: 8 b:5 c:2\n",
      "a: 8 b:6 c:1\n",
      "a: 8 b:1 c:6\n",
      "a: 1 b:6 c:8\n",
      "a: 1 b:8 c:6\n"
     ]
    }
   ],
   "source": [
    "x = [2,3,4,5,6,7,8,1]\n",
    "for a in x:\n",
    "    for b in x:\n",
    "        for c in x:\n",
    "            if (a + b + c) == 15 and a != b and a != c and b != c:\n",
    "                print(f'a: {a} b:{b} c:{c}')"
   ]
  },
  {
   "cell_type": "code",
   "execution_count": null,
   "metadata": {},
   "outputs": [],
   "source": []
  }
 ],
 "metadata": {
  "kernelspec": {
   "display_name": "Python 3",
   "language": "python",
   "name": "python3"
  },
  "language_info": {
   "codemirror_mode": {
    "name": "ipython",
    "version": 3
   },
   "file_extension": ".py",
   "mimetype": "text/x-python",
   "name": "python",
   "nbconvert_exporter": "python",
   "pygments_lexer": "ipython3",
   "version": "3.8.5"
  }
 },
 "nbformat": 4,
 "nbformat_minor": 4
}
