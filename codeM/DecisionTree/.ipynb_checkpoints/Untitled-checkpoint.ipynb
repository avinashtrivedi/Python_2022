{
 "cells": [
  {
   "cell_type": "code",
   "execution_count": 1,
   "metadata": {},
   "outputs": [],
   "source": [
    "import json\n",
    "import pandas as pd\n",
    "with open('new_json_file.json', 'r') as fp:\n",
    "    data = json.load(fp)"
   ]
  },
  {
   "cell_type": "code",
   "execution_count": 2,
   "metadata": {},
   "outputs": [
    {
     "data": {
      "text/plain": [
       "{'id': '',\n",
       " 'ccq_no': '',\n",
       " 'control_num': 'rr',\n",
       " 'configuration_name': '',\n",
       " 'countries': [''],\n",
       " 'required_id': {'rr_005_t1': {'test_name': '',\n",
       "   'test_procedure': '',\n",
       "   'presentation_col': [],\n",
       "   'ccq_name': '',\n",
       "   'expected_result_logical_operator': None,\n",
       "   'hard_coded_where': '',\n",
       "   'configurable_fields': {'pe_key': {'expected_op': '',\n",
       "     'expected_val': [''],\n",
       "     'expected_result_order': ''}},\n",
       "   'user_param': {'user login id': {'test_user_desc': 'TBD',\n",
       "     'test_user_field': ''}}}}}"
      ]
     },
     "execution_count": 2,
     "metadata": {},
     "output_type": "execute_result"
    }
   ],
   "source": [
    "data"
   ]
  },
  {
   "cell_type": "code",
   "execution_count": 36,
   "metadata": {},
   "outputs": [],
   "source": [
    "df = pd.read_excel('erp_assig_05.xlsx', usecols=\"B:E\",\n",
    "                   sheet_name = \"Summary Detail\",\n",
    "                   engine='openpyxl')"
   ]
  },
  {
   "cell_type": "code",
   "execution_count": 49,
   "metadata": {},
   "outputs": [
    {
     "data": {
      "text/html": [
       "<div>\n",
       "<style scoped>\n",
       "    .dataframe tbody tr th:only-of-type {\n",
       "        vertical-align: middle;\n",
       "    }\n",
       "\n",
       "    .dataframe tbody tr th {\n",
       "        vertical-align: top;\n",
       "    }\n",
       "\n",
       "    .dataframe thead th {\n",
       "        text-align: right;\n",
       "    }\n",
       "</style>\n",
       "<table border=\"1\" class=\"dataframe\">\n",
       "  <thead>\n",
       "    <tr style=\"text-align: right;\">\n",
       "      <th></th>\n",
       "      <th>Unnamed: 1</th>\n",
       "      <th>Unnamed: 2</th>\n",
       "      <th>Unnamed: 3</th>\n",
       "      <th>Unnamed: 4</th>\n",
       "    </tr>\n",
       "  </thead>\n",
       "  <tbody>\n",
       "    <tr>\n",
       "      <th>0</th>\n",
       "      <td>Information Board</td>\n",
       "      <td>NaN</td>\n",
       "      <td>NaN</td>\n",
       "      <td>NaN</td>\n",
       "    </tr>\n",
       "    <tr>\n",
       "      <th>1</th>\n",
       "      <td>Board Name:</td>\n",
       "      <td>NaN</td>\n",
       "      <td>NaN</td>\n",
       "      <td>NaN</td>\n",
       "    </tr>\n",
       "    <tr>\n",
       "      <th>2</th>\n",
       "      <td>id:</td>\n",
       "      <td>rr_0001</td>\n",
       "      <td>NaN</td>\n",
       "      <td>NaN</td>\n",
       "    </tr>\n",
       "    <tr>\n",
       "      <th>3</th>\n",
       "      <td>ccq_no:</td>\n",
       "      <td>10000</td>\n",
       "      <td>NaN</td>\n",
       "      <td>NaN</td>\n",
       "    </tr>\n",
       "    <tr>\n",
       "      <th>4</th>\n",
       "      <td>control_num:</td>\n",
       "      <td>rr_0001</td>\n",
       "      <td>NaN</td>\n",
       "      <td>NaN</td>\n",
       "    </tr>\n",
       "  </tbody>\n",
       "</table>\n",
       "</div>"
      ],
      "text/plain": [
       "          Unnamed: 1 Unnamed: 2 Unnamed: 3 Unnamed: 4\n",
       "0  Information Board        NaN        NaN        NaN\n",
       "1        Board Name:        NaN        NaN        NaN\n",
       "2                id:    rr_0001        NaN        NaN\n",
       "3            ccq_no:      10000        NaN        NaN\n",
       "4       control_num:    rr_0001        NaN        NaN"
      ]
     },
     "execution_count": 49,
     "metadata": {},
     "output_type": "execute_result"
    }
   ],
   "source": [
    "df.head()"
   ]
  },
  {
   "cell_type": "code",
   "execution_count": 40,
   "metadata": {},
   "outputs": [],
   "source": [
    "df.dropna(axis=0, how='all',inplace=True)\n",
    "df.reset_index(drop=True,inplace=True)"
   ]
  },
  {
   "cell_type": "code",
   "execution_count": 41,
   "metadata": {},
   "outputs": [
    {
     "data": {
      "text/html": [
       "<div>\n",
       "<style scoped>\n",
       "    .dataframe tbody tr th:only-of-type {\n",
       "        vertical-align: middle;\n",
       "    }\n",
       "\n",
       "    .dataframe tbody tr th {\n",
       "        vertical-align: top;\n",
       "    }\n",
       "\n",
       "    .dataframe thead th {\n",
       "        text-align: right;\n",
       "    }\n",
       "</style>\n",
       "<table border=\"1\" class=\"dataframe\">\n",
       "  <thead>\n",
       "    <tr style=\"text-align: right;\">\n",
       "      <th></th>\n",
       "      <th>Unnamed: 1</th>\n",
       "      <th>Unnamed: 2</th>\n",
       "      <th>Unnamed: 3</th>\n",
       "      <th>Unnamed: 4</th>\n",
       "    </tr>\n",
       "  </thead>\n",
       "  <tbody>\n",
       "    <tr>\n",
       "      <th>0</th>\n",
       "      <td>Information Board</td>\n",
       "      <td>NaN</td>\n",
       "      <td>NaN</td>\n",
       "      <td>NaN</td>\n",
       "    </tr>\n",
       "    <tr>\n",
       "      <th>1</th>\n",
       "      <td>Board Name:</td>\n",
       "      <td>NaN</td>\n",
       "      <td>NaN</td>\n",
       "      <td>NaN</td>\n",
       "    </tr>\n",
       "    <tr>\n",
       "      <th>2</th>\n",
       "      <td>id:</td>\n",
       "      <td>rr_0001</td>\n",
       "      <td>NaN</td>\n",
       "      <td>NaN</td>\n",
       "    </tr>\n",
       "    <tr>\n",
       "      <th>3</th>\n",
       "      <td>ccq_no:</td>\n",
       "      <td>10000</td>\n",
       "      <td>NaN</td>\n",
       "      <td>NaN</td>\n",
       "    </tr>\n",
       "    <tr>\n",
       "      <th>4</th>\n",
       "      <td>control_num:</td>\n",
       "      <td>rr_0001</td>\n",
       "      <td>NaN</td>\n",
       "      <td>NaN</td>\n",
       "    </tr>\n",
       "    <tr>\n",
       "      <th>5</th>\n",
       "      <td>configuration_name:</td>\n",
       "      <td>rr notification details</td>\n",
       "      <td>NaN</td>\n",
       "      <td>NaN</td>\n",
       "    </tr>\n",
       "    <tr>\n",
       "      <th>6</th>\n",
       "      <td>countries:</td>\n",
       "      <td>US</td>\n",
       "      <td>NaN</td>\n",
       "      <td>NaN</td>\n",
       "    </tr>\n",
       "    <tr>\n",
       "      <th>7</th>\n",
       "      <td>run_date:</td>\n",
       "      <td>2021-08-15 00:00:00</td>\n",
       "      <td>NaN</td>\n",
       "      <td>NaN</td>\n",
       "    </tr>\n",
       "    <tr>\n",
       "      <th>8</th>\n",
       "      <td>run_by:</td>\n",
       "      <td>pwaelozki</td>\n",
       "      <td>NaN</td>\n",
       "      <td>NaN</td>\n",
       "    </tr>\n",
       "    <tr>\n",
       "      <th>9</th>\n",
       "      <td>User Detailed Specification</td>\n",
       "      <td>NaN</td>\n",
       "      <td>NaN</td>\n",
       "      <td>NaN</td>\n",
       "    </tr>\n",
       "    <tr>\n",
       "      <th>10</th>\n",
       "      <td>Relevant User Specs</td>\n",
       "      <td>Spec Details</td>\n",
       "      <td>Spec Values</td>\n",
       "      <td>Additional Detail</td>\n",
       "    </tr>\n",
       "    <tr>\n",
       "      <th>11</th>\n",
       "      <td>User Login  Id</td>\n",
       "      <td>The login Id of the user</td>\n",
       "      <td>NaN</td>\n",
       "      <td>NaN</td>\n",
       "    </tr>\n",
       "    <tr>\n",
       "      <th>12</th>\n",
       "      <td>Function Test Steps</td>\n",
       "      <td>NaN</td>\n",
       "      <td>NaN</td>\n",
       "      <td>NaN</td>\n",
       "    </tr>\n",
       "    <tr>\n",
       "      <th>13</th>\n",
       "      <td>Test Detail</td>\n",
       "      <td>User Detailed Spec</td>\n",
       "      <td>Detail Link</td>\n",
       "      <td>Notes</td>\n",
       "    </tr>\n",
       "    <tr>\n",
       "      <th>14</th>\n",
       "      <td>Step 1: Determine the conection type and syste...</td>\n",
       "      <td>User Login Id</td>\n",
       "      <td>TBD</td>\n",
       "      <td>NaN</td>\n",
       "    </tr>\n",
       "  </tbody>\n",
       "</table>\n",
       "</div>"
      ],
      "text/plain": [
       "                                           Unnamed: 1  \\\n",
       "0                                   Information Board   \n",
       "1                                         Board Name:   \n",
       "2                                                 id:   \n",
       "3                                             ccq_no:   \n",
       "4                                        control_num:   \n",
       "5                                 configuration_name:   \n",
       "6                                          countries:   \n",
       "7                                           run_date:   \n",
       "8                                             run_by:   \n",
       "9                         User Detailed Specification   \n",
       "10                                Relevant User Specs   \n",
       "11                                     User Login  Id   \n",
       "12                                Function Test Steps   \n",
       "13                                        Test Detail   \n",
       "14  Step 1: Determine the conection type and syste...   \n",
       "\n",
       "                  Unnamed: 2   Unnamed: 3         Unnamed: 4  \n",
       "0                        NaN          NaN                NaN  \n",
       "1                        NaN          NaN                NaN  \n",
       "2                    rr_0001          NaN                NaN  \n",
       "3                      10000          NaN                NaN  \n",
       "4                    rr_0001          NaN                NaN  \n",
       "5    rr notification details          NaN                NaN  \n",
       "6                         US          NaN                NaN  \n",
       "7        2021-08-15 00:00:00          NaN                NaN  \n",
       "8                  pwaelozki          NaN                NaN  \n",
       "9                        NaN          NaN                NaN  \n",
       "10              Spec Details  Spec Values  Additional Detail  \n",
       "11  The login Id of the user          NaN                NaN  \n",
       "12                       NaN          NaN                NaN  \n",
       "13        User Detailed Spec  Detail Link              Notes  \n",
       "14             User Login Id          TBD                NaN  "
      ]
     },
     "execution_count": 41,
     "metadata": {},
     "output_type": "execute_result"
    }
   ],
   "source": [
    "df"
   ]
  },
  {
   "cell_type": "code",
   "execution_count": 48,
   "metadata": {},
   "outputs": [],
   "source": [
    "t1 = df.iloc[1:9,0:2]"
   ]
  },
  {
   "cell_type": "code",
   "execution_count": 47,
   "metadata": {},
   "outputs": [],
   "source": [
    "t2 = df.iloc[10:12,:]"
   ]
  },
  {
   "cell_type": "code",
   "execution_count": 46,
   "metadata": {},
   "outputs": [],
   "source": [
    "t3 = df.iloc[13:15,:]"
   ]
  },
  {
   "cell_type": "code",
   "execution_count": 62,
   "metadata": {},
   "outputs": [
    {
     "data": {
      "text/html": [
       "<div>\n",
       "<style scoped>\n",
       "    .dataframe tbody tr th:only-of-type {\n",
       "        vertical-align: middle;\n",
       "    }\n",
       "\n",
       "    .dataframe tbody tr th {\n",
       "        vertical-align: top;\n",
       "    }\n",
       "\n",
       "    .dataframe thead th {\n",
       "        text-align: right;\n",
       "    }\n",
       "</style>\n",
       "<table border=\"1\" class=\"dataframe\">\n",
       "  <thead>\n",
       "    <tr style=\"text-align: right;\">\n",
       "      <th></th>\n",
       "      <th>Unnamed: 1</th>\n",
       "      <th>Unnamed: 2</th>\n",
       "      <th>Unnamed: 3</th>\n",
       "      <th>Unnamed: 4</th>\n",
       "    </tr>\n",
       "  </thead>\n",
       "  <tbody>\n",
       "    <tr>\n",
       "      <th>13</th>\n",
       "      <td>Test Detail</td>\n",
       "      <td>User Detailed Spec</td>\n",
       "      <td>Detail Link</td>\n",
       "      <td>Notes</td>\n",
       "    </tr>\n",
       "    <tr>\n",
       "      <th>14</th>\n",
       "      <td>Step 1: Determine the conection type and syste...</td>\n",
       "      <td>User Login Id</td>\n",
       "      <td>TBD</td>\n",
       "      <td>NaN</td>\n",
       "    </tr>\n",
       "  </tbody>\n",
       "</table>\n",
       "</div>"
      ],
      "text/plain": [
       "                                           Unnamed: 1          Unnamed: 2  \\\n",
       "13                                        Test Detail  User Detailed Spec   \n",
       "14  Step 1: Determine the conection type and syste...       User Login Id   \n",
       "\n",
       "     Unnamed: 3 Unnamed: 4  \n",
       "13  Detail Link      Notes  \n",
       "14          TBD        NaN  "
      ]
     },
     "execution_count": 62,
     "metadata": {},
     "output_type": "execute_result"
    }
   ],
   "source": [
    "t3"
   ]
  },
  {
   "cell_type": "code",
   "execution_count": 59,
   "metadata": {},
   "outputs": [],
   "source": [
    "d1 = dict(zip(t1['Unnamed: 1'],t1['Unnamed: 2']))\n",
    "# d1 = dict(zip(t2['Unnamed: 1'],t1['Unnamed: 2']))\n",
    "# d1 = dict(zip(t1['Unnamed: 1'],t1['Unnamed: 2']))"
   ]
  },
  {
   "cell_type": "code",
   "execution_count": 60,
   "metadata": {},
   "outputs": [
    {
     "data": {
      "text/plain": [
       "{'Board Name:': nan,\n",
       " 'id:': 'rr_0001',\n",
       " 'ccq_no:': 10000,\n",
       " 'control_num:': 'rr_0001',\n",
       " 'configuration_name:': 'rr notification details',\n",
       " 'countries:': 'US',\n",
       " 'run_date:': datetime.datetime(2021, 8, 15, 0, 0),\n",
       " 'run_by:': 'pwaelozki'}"
      ]
     },
     "execution_count": 60,
     "metadata": {},
     "output_type": "execute_result"
    }
   ],
   "source": [
    "d1"
   ]
  },
  {
   "cell_type": "code",
   "execution_count": 61,
   "metadata": {},
   "outputs": [
    {
     "data": {
      "text/plain": [
       "{'id': '',\n",
       " 'ccq_no': '',\n",
       " 'control_num': 'rr',\n",
       " 'configuration_name': '',\n",
       " 'countries': [''],\n",
       " 'required_id': {'rr_005_t1': {'test_name': '',\n",
       "   'test_procedure': '',\n",
       "   'presentation_col': [],\n",
       "   'ccq_name': '',\n",
       "   'expected_result_logical_operator': None,\n",
       "   'hard_coded_where': '',\n",
       "   'configurable_fields': {'pe_key': {'expected_op': '',\n",
       "     'expected_val': [''],\n",
       "     'expected_result_order': ''}},\n",
       "   'user_param': {'user login id': {'test_user_desc': 'TBD',\n",
       "     'test_user_field': ''}}}}}"
      ]
     },
     "execution_count": 61,
     "metadata": {},
     "output_type": "execute_result"
    }
   ],
   "source": [
    "data"
   ]
  },
  {
   "cell_type": "code",
   "execution_count": null,
   "metadata": {},
   "outputs": [],
   "source": []
  }
 ],
 "metadata": {
  "kernelspec": {
   "display_name": "Python 3",
   "language": "python",
   "name": "python3"
  },
  "language_info": {
   "codemirror_mode": {
    "name": "ipython",
    "version": 3
   },
   "file_extension": ".py",
   "mimetype": "text/x-python",
   "name": "python",
   "nbconvert_exporter": "python",
   "pygments_lexer": "ipython3",
   "version": "3.8.5"
  }
 },
 "nbformat": 4,
 "nbformat_minor": 4
}
