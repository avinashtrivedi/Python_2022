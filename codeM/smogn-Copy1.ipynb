{
 "cells": [
  {
   "cell_type": "code",
   "execution_count": 1,
   "metadata": {},
   "outputs": [
    {
     "name": "stdout",
     "output_type": "stream",
     "text": [
      "Collecting git+https://github.com/nickkunz/smogn.git\n",
      "  Cloning https://github.com/nickkunz/smogn.git to c:\\users\\avitr\\appdata\\local\\temp\\pip-req-build-v_e6xwn4\n",
      "  Resolved https://github.com/nickkunz/smogn.git to commit 36edf815dc7997eaa3b04e6df5648adb36ae0b74\n",
      "  Preparing metadata (setup.py): started\n",
      "  Preparing metadata (setup.py): finished with status 'done'\n",
      "Requirement already satisfied: numpy in c:\\users\\avitr\\anaconda3\\lib\\site-packages (from smogn==0.1.1) (1.19.1)\n",
      "Requirement already satisfied: pandas in c:\\users\\avitr\\anaconda3\\lib\\site-packages (from smogn==0.1.1) (1.2.4)\n",
      "Requirement already satisfied: tqdm in c:\\users\\avitr\\anaconda3\\lib\\site-packages (from smogn==0.1.1) (4.50.2)\n",
      "Requirement already satisfied: pytz>=2017.3 in c:\\users\\avitr\\anaconda3\\lib\\site-packages (from pandas->smogn==0.1.1) (2020.1)\n",
      "Requirement already satisfied: python-dateutil>=2.7.3 in c:\\users\\avitr\\anaconda3\\lib\\site-packages (from pandas->smogn==0.1.1) (2.8.1)\n",
      "Requirement already satisfied: six>=1.5 in c:\\users\\avitr\\anaconda3\\lib\\site-packages (from python-dateutil>=2.7.3->pandas->smogn==0.1.1) (1.16.0)\n",
      "Building wheels for collected packages: smogn\n",
      "  Building wheel for smogn (setup.py): started\n",
      "  Building wheel for smogn (setup.py): finished with status 'done'\n",
      "  Created wheel for smogn: filename=smogn-0.1.1-py3-none-any.whl size=30654 sha256=385c2ad49de5f9f7bd8a5354d45a4f265396314d0804eee1c48300c4b3bc8b04\n",
      "  Stored in directory: C:\\Users\\avitr\\AppData\\Local\\Temp\\pip-ephem-wheel-cache-ehf0g_gv\\wheels\\f5\\fc\\4b\\a2dd451990300f7e53c1af244032f31f43cc48c1a717c1c785\n",
      "Successfully built smogn\n",
      "Installing collected packages: smogn\n",
      "Successfully installed smogn-0.1.1\n"
     ]
    },
    {
     "name": "stderr",
     "output_type": "stream",
     "text": [
      "WARNING: Ignoring invalid distribution -rpcio (c:\\users\\avitr\\anaconda3\\lib\\site-packages)\n",
      "WARNING: Ignoring invalid distribution -rpcio (c:\\users\\avitr\\anaconda3\\lib\\site-packages)\n",
      "  Running command git clone --filter=blob:none -q https://github.com/nickkunz/smogn.git 'C:\\Users\\avitr\\AppData\\Local\\Temp\\pip-req-build-v_e6xwn4'\n",
      "WARNING: Ignoring invalid distribution -rpcio (c:\\users\\avitr\\anaconda3\\lib\\site-packages)\n",
      "WARNING: Ignoring invalid distribution -rpcio (c:\\users\\avitr\\anaconda3\\lib\\site-packages)\n",
      "WARNING: Ignoring invalid distribution -rpcio (c:\\users\\avitr\\anaconda3\\lib\\site-packages)\n",
      "WARNING: Ignoring invalid distribution -rpcio (c:\\users\\avitr\\anaconda3\\lib\\site-packages)\n"
     ]
    }
   ],
   "source": [
    "!pip install git+https://github.com/nickkunz/smogn.git"
   ]
  },
  {
   "cell_type": "code",
   "execution_count": 1,
   "metadata": {},
   "outputs": [],
   "source": [
    "## load dependencies\n",
    "import smogn\n",
    "import pandas\n",
    "import seaborn\n",
    "import matplotlib.pyplot as plt"
   ]
  },
  {
   "cell_type": "code",
   "execution_count": 2,
   "metadata": {},
   "outputs": [],
   "source": [
    "## load data\n",
    "data = pandas.read_csv('Data_1.csv')\n",
    "large = pandas.read_csv('make_prediction_dataset_large.csv')\n",
    "small = pandas.read_csv('make_prediction_dataset_smal.csv')"
   ]
  },
  {
   "cell_type": "code",
   "execution_count": 8,
   "metadata": {},
   "outputs": [
    {
     "data": {
      "text/plain": [
       "'41.120588235294115'"
      ]
     },
     "execution_count": 8,
     "metadata": {},
     "output_type": "execute_result"
    }
   ],
   "source": [
    "small.columns[-1]"
   ]
  },
  {
   "cell_type": "code",
   "execution_count": null,
   "metadata": {},
   "outputs": [],
   "source": [
    "large.columns[-1]"
   ]
  },
  {
   "cell_type": "code",
   "execution_count": 9,
   "metadata": {},
   "outputs": [
    {
     "data": {
      "text/plain": [
       "'83.10477941'"
      ]
     },
     "execution_count": 9,
     "metadata": {},
     "output_type": "execute_result"
    }
   ],
   "source": [
    "data.columns[-1]"
   ]
  },
  {
   "cell_type": "code",
   "execution_count": 36,
   "metadata": {},
   "outputs": [
    {
     "name": "stderr",
     "output_type": "stream",
     "text": [
      "dist_matrix: 100%|###################################################################| 215/215 [00:41<00:00,  5.14it/s]\n",
      "synth_matrix: 100%|##################################################################| 215/215 [00:04<00:00, 49.80it/s]\n",
      "r_index: 100%|#########################################################################| 84/84 [00:00<00:00, 94.42it/s]\n",
      "dist_matrix: 100%|#####################################################################| 70/70 [00:04<00:00, 16.45it/s]\n",
      "synth_matrix: 100%|####################################################################| 70/70 [00:12<00:00,  5.44it/s]\n",
      "r_index: 100%|#########################################################################| 62/62 [00:00<00:00, 93.44it/s]\n",
      "dist_matrix: 100%|###################################################################| 151/151 [00:20<00:00,  7.36it/s]\n",
      "synth_matrix: 100%|##################################################################| 151/151 [00:05<00:00, 30.08it/s]\n",
      "r_index: 100%|#######################################################################| 126/126 [00:01<00:00, 86.86it/s]\n"
     ]
    }
   ],
   "source": [
    "## conduct smogn\n",
    "data_balance = smogn.smoter(\n",
    "    \n",
    "    ## main arguments\n",
    "    data = data.columns[-1],           ## pandas dataframe\n",
    "    y = data.columns[-1],          ## string ('header name')\n",
    "    k = 9,                    ## positive integer (k < n)\n",
    "    samp_method = 'extreme',  ## string ('balance' or 'extreme')\n",
    "\n",
    "    ## phi relevance arguments\n",
    "    rel_thres = 0.80,         ## positive real number (0 < R < 1)\n",
    "    rel_method = 'auto',      ## string ('auto' or 'manual')\n",
    "    rel_xtrm_type = 'high',   ## string ('low' or 'both' or 'high')\n",
    "    rel_coef = 2.25           ## positive real number (0 < R)\n",
    ")\n",
    "\n",
    "data_balance.to_csv('data_balance.csv')\n",
    "\n",
    "## conduct smogn\n",
    "data_balance = smogn.smoter(\n",
    "    \n",
    "    ## main arguments\n",
    "    data = data.columns[-1],           ## pandas dataframe\n",
    "    y = 'SalePrice',          ## string ('header name')\n",
    "    k = 9,                    ## positive integer (k < n)\n",
    "    samp_method = 'extreme',  ## string ('balance' or 'extreme')\n",
    "\n",
    "    ## phi relevance arguments\n",
    "    rel_thres = 0.80,         ## positive real number (0 < R < 1)\n",
    "    rel_method = 'auto',      ## string ('auto' or 'manual')\n",
    "    rel_xtrm_type = 'high',   ## string ('low' or 'both' or 'high')\n",
    "    rel_coef = 2.25           ## positive real number (0 < R)\n",
    ")\n",
    "\n",
    "data_balance.to_csv('data_balance.csv')\n",
    "\n",
    "\n",
    "## conduct smogn\n",
    "data_balance = smogn.smoter(\n",
    "    \n",
    "    ## main arguments\n",
    "    data = data.columns[-1],           ## pandas dataframe\n",
    "    y = 'SalePrice',          ## string ('header name')\n",
    "    k = 9,                    ## positive integer (k < n)\n",
    "    samp_method = 'extreme',  ## string ('balance' or 'extreme')\n",
    "\n",
    "    ## phi relevance arguments\n",
    "    rel_thres = 0.80,         ## positive real number (0 < R < 1)\n",
    "    rel_method = 'auto',      ## string ('auto' or 'manual')\n",
    "    rel_xtrm_type = 'high',   ## string ('low' or 'both' or 'high')\n",
    "    rel_coef = 2.25           ## positive real number (0 < R)\n",
    ")\n",
    "\n",
    "data_balance.to_csv('data_balance.csv')\n",
    "\n",
    "\n",
    "\n",
    "\n"
   ]
  },
  {
   "cell_type": "code",
   "execution_count": null,
   "metadata": {},
   "outputs": [],
   "source": []
  }
 ],
 "metadata": {
  "kernelspec": {
   "display_name": "Python 3",
   "language": "python",
   "name": "python3"
  },
  "language_info": {
   "codemirror_mode": {
    "name": "ipython",
    "version": 3
   },
   "file_extension": ".py",
   "mimetype": "text/x-python",
   "name": "python",
   "nbconvert_exporter": "python",
   "pygments_lexer": "ipython3",
   "version": "3.8.5"
  }
 },
 "nbformat": 4,
 "nbformat_minor": 4
}
