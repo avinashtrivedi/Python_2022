{
 "cells": [
  {
   "cell_type": "code",
   "execution_count": 42,
   "metadata": {},
   "outputs": [],
   "source": [
    "string = 'hello-world-python'"
   ]
  },
  {
   "cell_type": "code",
   "execution_count": null,
   "metadata": {},
   "outputs": [],
   "source": [
    "ello-world\n",
    "llo-world\n",
    "lo-world\n",
    "o-world\n",
    "\n",
    "\n",
    "-world"
   ]
  },
  {
   "cell_type": "code",
   "execution_count": 13,
   "metadata": {},
   "outputs": [],
   "source": [
    "def mystring(string):\n",
    "\n",
    "    if len(string)==1:\n",
    "\n",
    "        return string[0]\n",
    "    elif string[0]=='-':\n",
    "        return ''\n",
    "#         return string[1:]\n",
    "    else:\n",
    "        temp = string[0] + mystring(string[1:])\n",
    "        return temp"
   ]
  },
  {
   "cell_type": "code",
   "execution_count": 53,
   "metadata": {},
   "outputs": [
    {
     "data": {
      "text/plain": [
       "['h', 'ello']"
      ]
     },
     "execution_count": 53,
     "metadata": {},
     "output_type": "execute_result"
    }
   ],
   "source": [
    "string = 'hello-world-python'\n",
    "def mystring1(string):\n",
    "\n",
    "    if len(string)==1:\n",
    "        print('Hello')\n",
    "        return [string[0]]\n",
    "    elif string[0]=='-':\n",
    "        return ''\n",
    "    else:\n",
    "        temp = [string[0]] + [mystring(string[1:])]\n",
    "        return temp\n",
    "    \n",
    "mystring1(string)"
   ]
  },
  {
   "cell_type": "code",
   "execution_count": null,
   "metadata": {},
   "outputs": [],
   "source": []
  }
 ],
 "metadata": {
  "kernelspec": {
   "display_name": "Python 3",
   "language": "python",
   "name": "python3"
  },
  "language_info": {
   "codemirror_mode": {
    "name": "ipython",
    "version": 3
   },
   "file_extension": ".py",
   "mimetype": "text/x-python",
   "name": "python",
   "nbconvert_exporter": "python",
   "pygments_lexer": "ipython3",
   "version": "3.8.5"
  }
 },
 "nbformat": 4,
 "nbformat_minor": 4
}
