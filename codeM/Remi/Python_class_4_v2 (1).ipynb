{
 "cells": [
  {
   "cell_type": "markdown",
   "metadata": {},
   "source": [
    "# Loop"
   ]
  },
  {
   "cell_type": "code",
   "execution_count": 1,
   "metadata": {},
   "outputs": [
    {
     "name": "stdout",
     "output_type": "stream",
     "text": [
      "1\n",
      "2\n",
      "3\n",
      "4\n",
      "5\n"
     ]
    }
   ],
   "source": [
    "print(1)\n",
    "print(2)\n",
    "print(3)\n",
    "print(4)\n",
    "print(5)"
   ]
  },
  {
   "cell_type": "code",
   "execution_count": 4,
   "metadata": {},
   "outputs": [
    {
     "name": "stdout",
     "output_type": "stream",
     "text": [
      "hello\n",
      "hello\n",
      "hello\n",
      "hello\n",
      "hello\n"
     ]
    }
   ],
   "source": [
    "print('hello')\n",
    "print('hello')\n",
    "print('hello')\n",
    "print('hello')\n",
    "print('hello')"
   ]
  },
  {
   "cell_type": "markdown",
   "metadata": {},
   "source": [
    "# for loop"
   ]
  },
  {
   "cell_type": "code",
   "execution_count": 47,
   "metadata": {},
   "outputs": [
    {
     "name": "stdout",
     "output_type": "stream",
     "text": [
      "0\n",
      "1\n",
      "2\n",
      "3\n",
      "4\n"
     ]
    }
   ],
   "source": [
    "for i in range(5):\n",
    "    print(i)"
   ]
  },
  {
   "cell_type": "code",
   "execution_count": 9,
   "metadata": {},
   "outputs": [
    {
     "name": "stdout",
     "output_type": "stream",
     "text": [
      "0\n",
      "1\n",
      "2\n",
      "3\n",
      "4\n",
      "5\n"
     ]
    }
   ],
   "source": [
    "for i in range(6):\n",
    "    print(i)"
   ]
  },
  {
   "cell_type": "code",
   "execution_count": 12,
   "metadata": {},
   "outputs": [
    {
     "data": {
      "text/plain": [
       "[1, 2, 3, 4, 5]"
      ]
     },
     "execution_count": 12,
     "metadata": {},
     "output_type": "execute_result"
    }
   ],
   "source": [
    "list(range(1,6))"
   ]
  },
  {
   "cell_type": "code",
   "execution_count": 13,
   "metadata": {},
   "outputs": [
    {
     "data": {
      "text/plain": [
       "[2, 3, 4, 5]"
      ]
     },
     "execution_count": 13,
     "metadata": {},
     "output_type": "execute_result"
    }
   ],
   "source": [
    "list(range(2,6))"
   ]
  },
  {
   "cell_type": "code",
   "execution_count": 14,
   "metadata": {},
   "outputs": [
    {
     "data": {
      "text/plain": [
       "[2, 3, 4, 5, 6, 7]"
      ]
     },
     "execution_count": 14,
     "metadata": {},
     "output_type": "execute_result"
    }
   ],
   "source": [
    "list(range(2,8))"
   ]
  },
  {
   "cell_type": "code",
   "execution_count": 15,
   "metadata": {},
   "outputs": [
    {
     "data": {
      "text/plain": [
       "[0, 1, 2, 3, 4, 5, 6, 7]"
      ]
     },
     "execution_count": 15,
     "metadata": {},
     "output_type": "execute_result"
    }
   ],
   "source": [
    "list(range(8))"
   ]
  },
  {
   "cell_type": "code",
   "execution_count": 18,
   "metadata": {},
   "outputs": [
    {
     "data": {
      "text/plain": [
       "[0, 1, 2, 3, 4, 5, 6, 7]"
      ]
     },
     "execution_count": 18,
     "metadata": {},
     "output_type": "execute_result"
    }
   ],
   "source": [
    "list(range(0,8,1))"
   ]
  },
  {
   "cell_type": "code",
   "execution_count": 20,
   "metadata": {},
   "outputs": [
    {
     "data": {
      "text/plain": [
       "[0, 2, 4, 6, 8]"
      ]
     },
     "execution_count": 20,
     "metadata": {},
     "output_type": "execute_result"
    }
   ],
   "source": [
    "list(range(0,9,2))"
   ]
  },
  {
   "cell_type": "code",
   "execution_count": 21,
   "metadata": {},
   "outputs": [
    {
     "data": {
      "text/plain": [
       "[1, 4, 7]"
      ]
     },
     "execution_count": 21,
     "metadata": {},
     "output_type": "execute_result"
    }
   ],
   "source": [
    "list(range(1,9,3))"
   ]
  },
  {
   "cell_type": "code",
   "execution_count": 25,
   "metadata": {},
   "outputs": [
    {
     "name": "stdout",
     "output_type": "stream",
     "text": [
      "0,1,2,3,4,5,"
     ]
    }
   ],
   "source": [
    "for i in range(6):\n",
    "    print(i,end=',')"
   ]
  },
  {
   "cell_type": "code",
   "execution_count": null,
   "metadata": {},
   "outputs": [],
   "source": [
    "for i in range(6):\n",
    "    print(i,end=',')"
   ]
  },
  {
   "cell_type": "code",
   "execution_count": 29,
   "metadata": {},
   "outputs": [
    {
     "name": "stdout",
     "output_type": "stream",
     "text": [
      "hello\n",
      "world\n"
     ]
    }
   ],
   "source": [
    "print('hello',end='\\n')\n",
    "print('world')"
   ]
  },
  {
   "cell_type": "code",
   "execution_count": 39,
   "metadata": {},
   "outputs": [
    {
     "name": "stdout",
     "output_type": "stream",
     "text": [
      "0,1,2,3,4,5,"
     ]
    }
   ],
   "source": [
    "for i in range(6):\n",
    "    print(i,end=',')"
   ]
  },
  {
   "cell_type": "code",
   "execution_count": 43,
   "metadata": {},
   "outputs": [
    {
     "name": "stdout",
     "output_type": "stream",
     "text": [
      "5\n",
      "6\n",
      "7\n",
      "8\n",
      "9\n",
      "10\n"
     ]
    }
   ],
   "source": [
    "for i in range(5,11):\n",
    "    print(i)"
   ]
  },
  {
   "cell_type": "code",
   "execution_count": 44,
   "metadata": {},
   "outputs": [
    {
     "name": "stdout",
     "output_type": "stream",
     "text": [
      "5\n",
      "7\n",
      "9\n"
     ]
    }
   ],
   "source": [
    "for i in range(5,11,2):\n",
    "    print(i)"
   ]
  },
  {
   "cell_type": "code",
   "execution_count": null,
   "metadata": {},
   "outputs": [],
   "source": [
    "# All should be in a comma separated line\n",
    "\n",
    "# print from 1 to 50 in a single \n",
    "# print from 10 to 1 in a single line \n",
    "# print from 1 to 10 with their square\n",
    "# print hello1 hello2 hello3 hello4 hello5"
   ]
  },
  {
   "cell_type": "code",
   "execution_count": 45,
   "metadata": {},
   "outputs": [
    {
     "name": "stdout",
     "output_type": "stream",
     "text": [
      "1,2,3,4,5,6,7,8,9,10,11,12,13,14,15,16,17,18,19,20,21,22,23,24,25,26,27,28,29,30,31,32,33,34,35,36,37,38,39,40,41,42,43,44,45,46,47,48,49,50,"
     ]
    }
   ],
   "source": [
    "for i in range(1,51):\n",
    "    print(i,end=',')"
   ]
  },
  {
   "cell_type": "code",
   "execution_count": 47,
   "metadata": {},
   "outputs": [
    {
     "name": "stdout",
     "output_type": "stream",
     "text": [
      "10,9,8,7,6,5,4,3,2,1,"
     ]
    }
   ],
   "source": [
    "for i in range(10,0,-1):\n",
    "    print(i,end=',')"
   ]
  },
  {
   "cell_type": "code",
   "execution_count": 27,
   "metadata": {},
   "outputs": [
    {
     "data": {
      "text/plain": [
       "[10, 9, 8, 7, 6, 5, 4, 3, 2, 1]"
      ]
     },
     "execution_count": 27,
     "metadata": {},
     "output_type": "execute_result"
    }
   ],
   "source": [
    "list(range(10,0,-1))"
   ]
  },
  {
   "cell_type": "code",
   "execution_count": 49,
   "metadata": {},
   "outputs": [
    {
     "data": {
      "text/plain": [
       "[0, 1, 2, 3, 4, 5, 6, 7, 8, 9]"
      ]
     },
     "execution_count": 49,
     "metadata": {},
     "output_type": "execute_result"
    }
   ],
   "source": [
    "list(range(0,10,1))"
   ]
  },
  {
   "cell_type": "code",
   "execution_count": 52,
   "metadata": {},
   "outputs": [
    {
     "data": {
      "text/plain": [
       "4"
      ]
     },
     "execution_count": 52,
     "metadata": {},
     "output_type": "execute_result"
    }
   ],
   "source": [
    "2*2"
   ]
  },
  {
   "cell_type": "code",
   "execution_count": 53,
   "metadata": {},
   "outputs": [
    {
     "data": {
      "text/plain": [
       "9"
      ]
     },
     "execution_count": 53,
     "metadata": {},
     "output_type": "execute_result"
    }
   ],
   "source": [
    "3*3"
   ]
  },
  {
   "cell_type": "code",
   "execution_count": 54,
   "metadata": {},
   "outputs": [
    {
     "data": {
      "text/plain": [
       "25"
      ]
     },
     "execution_count": 54,
     "metadata": {},
     "output_type": "execute_result"
    }
   ],
   "source": [
    "5*5"
   ]
  },
  {
   "cell_type": "code",
   "execution_count": 75,
   "metadata": {},
   "outputs": [
    {
     "name": "stdout",
     "output_type": "stream",
     "text": [
      "1 1\n",
      "2 4\n",
      "3 9\n",
      "4 16\n",
      "5 25\n",
      "6 36\n",
      "7 49\n",
      "8 64\n",
      "9 81\n",
      "10 100\n"
     ]
    }
   ],
   "source": [
    "for i in range(1,11):\n",
    "    print(i,i*i)"
   ]
  },
  {
   "cell_type": "code",
   "execution_count": 60,
   "metadata": {},
   "outputs": [
    {
     "name": "stdout",
     "output_type": "stream",
     "text": [
      "Hello1,Hello2,Hello3,Hello4,Hello5,"
     ]
    }
   ],
   "source": [
    "for i in range(1,6):\n",
    "    print(f'Hello{i}',end=',')"
   ]
  },
  {
   "cell_type": "code",
   "execution_count": null,
   "metadata": {},
   "outputs": [],
   "source": [
    "# Always use for loop\n",
    "\n",
    "# print world1,world2,world3,world4,world5\n",
    "# print world5,world4,world3,world2,world1\n",
    "# print hello1world, hello2world,hello3world,hello4world,hello5world\n",
    "\n",
    "# print every 3rd number between 1-100\n",
    "# print every 4th number between 1-100\n",
    "\n",
    "# print sum of numbers from 1-100\n",
    "# print sum of odd numbers from 1-100\n",
    "# print sum of even numbers from 1-100\n",
    "\n",
    "# print first number divisible by 17 between 100-500\n",
    "# print first number divisible by 13 between 100-500\n",
    "# print first number whose sum of the numbers is 7 between (11 - 100),eg.\n",
    "# print all number whose sum of number is 7 between 11-100\n",
    "\n",
    "\n",
    "16\n",
    "25\n",
    "34\n",
    "43\n",
    "52\n",
    "61\n",
    "70\n",
    "\n",
    "52 =7\n",
    "16 = 6"
   ]
  },
  {
   "cell_type": "code",
   "execution_count": 62,
   "metadata": {},
   "outputs": [
    {
     "name": "stdout",
     "output_type": "stream",
     "text": [
      "1 odd\n",
      "2 Even\n",
      "3 odd\n",
      "4 Even\n",
      "5 odd\n",
      "6 Even\n",
      "7 odd\n",
      "8 Even\n",
      "9 odd\n",
      "10 Even\n"
     ]
    }
   ],
   "source": [
    "for i in range(1,11):\n",
    "    if i%2==0:\n",
    "        print(i,'Even')\n",
    "    else:\n",
    "        print(i,'odd')"
   ]
  },
  {
   "cell_type": "code",
   "execution_count": 67,
   "metadata": {},
   "outputs": [
    {
     "name": "stdout",
     "output_type": "stream",
     "text": [
      "1\n",
      "2\n",
      "3\n",
      "4\n",
      "5\n",
      "6\n",
      "7\n",
      "8\n",
      "9\n",
      "10\n",
      "sum: 55\n"
     ]
    }
   ],
   "source": [
    "x = 0\n",
    "for i in range(1,11):\n",
    "    print(i)\n",
    "    x = x + i\n",
    "print('sum:',x)"
   ]
  },
  {
   "cell_type": "code",
   "execution_count": 71,
   "metadata": {},
   "outputs": [
    {
     "name": "stdout",
     "output_type": "stream",
     "text": [
      "1,4,7,10,13,16,19,22,25,28,31,34,37,40,43,46,49,"
     ]
    }
   ],
   "source": [
    "for i in range(1,51,3):\n",
    "    print(i,end=',')"
   ]
  },
  {
   "cell_type": "code",
   "execution_count": 72,
   "metadata": {},
   "outputs": [
    {
     "name": "stdout",
     "output_type": "stream",
     "text": [
      "1,5,9,13,17,21,25,29,33,37,41,45,49,"
     ]
    }
   ],
   "source": [
    "for i in range(1,51,4):\n",
    "    print(i,end=',')"
   ]
  },
  {
   "cell_type": "code",
   "execution_count": 76,
   "metadata": {},
   "outputs": [
    {
     "name": "stdout",
     "output_type": "stream",
     "text": [
      "hello1world\n"
     ]
    }
   ],
   "source": [
    "x = 1\n",
    "print(f'hello{x}world')"
   ]
  },
  {
   "cell_type": "code",
   "execution_count": 77,
   "metadata": {},
   "outputs": [
    {
     "name": "stdout",
     "output_type": "stream",
     "text": [
      "hello2world\n"
     ]
    }
   ],
   "source": [
    "x = 2\n",
    "print(f'hello{x}world')"
   ]
  },
  {
   "cell_type": "code",
   "execution_count": 84,
   "metadata": {},
   "outputs": [
    {
     "data": {
      "text/plain": [
       "3"
      ]
     },
     "execution_count": 84,
     "metadata": {},
     "output_type": "execute_result"
    }
   ],
   "source": [
    "52%7"
   ]
  },
  {
   "cell_type": "code",
   "execution_count": 81,
   "metadata": {},
   "outputs": [
    {
     "name": "stdout",
     "output_type": "stream",
     "text": [
      "56\n",
      "63\n",
      "70\n",
      "77\n",
      "84\n",
      "91\n",
      "98\n"
     ]
    }
   ],
   "source": [
    "for i in range(50,100):\n",
    "    if i%7==0:\n",
    "        print(i)"
   ]
  },
  {
   "cell_type": "code",
   "execution_count": 85,
   "metadata": {},
   "outputs": [
    {
     "name": "stdout",
     "output_type": "stream",
     "text": [
      "56\n"
     ]
    }
   ],
   "source": [
    "for i in range(50,100):\n",
    "    if i%7==0:\n",
    "        print(i)\n",
    "        break"
   ]
  },
  {
   "cell_type": "markdown",
   "metadata": {},
   "source": [
    "# Assignment"
   ]
  },
  {
   "cell_type": "code",
   "execution_count": 10,
   "metadata": {},
   "outputs": [
    {
     "name": "stdout",
     "output_type": "stream",
     "text": [
      "world1,world2,world3,world4,world5,"
     ]
    }
   ],
   "source": [
    "#Assignment\n",
    "\n",
    "# print world1,world2,world3,world4,world5\n",
    "for x in range(1,6):\n",
    "    print(f'world{x}',end=',')"
   ]
  },
  {
   "cell_type": "code",
   "execution_count": null,
   "metadata": {},
   "outputs": [],
   "source": []
  },
  {
   "cell_type": "code",
   "execution_count": 28,
   "metadata": {},
   "outputs": [
    {
     "name": "stdout",
     "output_type": "stream",
     "text": [
      "world5,world4,world3,world2,world1,"
     ]
    }
   ],
   "source": [
    "# print world5,world4,world3,world2,world1\n",
    "for x in (range(5,0,-1)):\n",
    "    print(f'world{x}', end=',')"
   ]
  },
  {
   "cell_type": "code",
   "execution_count": null,
   "metadata": {},
   "outputs": [],
   "source": []
  },
  {
   "cell_type": "code",
   "execution_count": 30,
   "metadata": {},
   "outputs": [
    {
     "name": "stdout",
     "output_type": "stream",
     "text": [
      "hello1world,hello2world,hello3world,hello4world,hello5world,"
     ]
    }
   ],
   "source": [
    "# print hello1world, hello2world,hello3world,hello4world,hello5world\n",
    "for x in range(1,6):\n",
    "    print(f'hello{x}world',end=',')"
   ]
  },
  {
   "cell_type": "code",
   "execution_count": null,
   "metadata": {},
   "outputs": [],
   "source": []
  },
  {
   "cell_type": "code",
   "execution_count": 48,
   "metadata": {},
   "outputs": [
    {
     "name": "stdout",
     "output_type": "stream",
     "text": [
      "1,4,7,10,13,16,19,22,25,28,31,34,37,40,43,46,49,52,55,58,61,64,67,70,73,76,79,82,85,88,91,94,97,"
     ]
    }
   ],
   "source": [
    "#print every 3rd number between 1-100\n",
    "for s in range(1,100,3):\n",
    "    print(s,end=',')"
   ]
  },
  {
   "cell_type": "code",
   "execution_count": null,
   "metadata": {},
   "outputs": [],
   "source": []
  },
  {
   "cell_type": "code",
   "execution_count": 50,
   "metadata": {},
   "outputs": [
    {
     "name": "stdout",
     "output_type": "stream",
     "text": [
      "1,5,9,13,17,21,25,29,33,37,41,45,49,53,57,61,65,69,73,77,81,85,89,93,97,"
     ]
    }
   ],
   "source": [
    "# print every 4th number between 1-100\n",
    "for s in range(1,100,4):\n",
    "    print(s,end=',')"
   ]
  },
  {
   "cell_type": "code",
   "execution_count": null,
   "metadata": {},
   "outputs": [],
   "source": []
  },
  {
   "cell_type": "code",
   "execution_count": 58,
   "metadata": {},
   "outputs": [
    {
     "name": "stdout",
     "output_type": "stream",
     "text": [
      "1\n",
      "2\n",
      "3\n",
      "4\n",
      "5\n",
      "6\n",
      "7\n",
      "8\n",
      "9\n",
      "10\n",
      "11\n",
      "12\n",
      "13\n",
      "14\n",
      "15\n",
      "16\n",
      "17\n",
      "18\n",
      "19\n",
      "20\n",
      "21\n",
      "22\n",
      "23\n",
      "24\n",
      "25\n",
      "26\n",
      "27\n",
      "28\n",
      "29\n",
      "30\n",
      "31\n",
      "32\n",
      "33\n",
      "34\n",
      "35\n",
      "36\n",
      "37\n",
      "38\n",
      "39\n",
      "40\n",
      "41\n",
      "42\n",
      "43\n",
      "44\n",
      "45\n",
      "46\n",
      "47\n",
      "48\n",
      "49\n",
      "50\n",
      "51\n",
      "52\n",
      "53\n",
      "54\n",
      "55\n",
      "56\n",
      "57\n",
      "58\n",
      "59\n",
      "60\n",
      "61\n",
      "62\n",
      "63\n",
      "64\n",
      "65\n",
      "66\n",
      "67\n",
      "68\n",
      "69\n",
      "70\n",
      "71\n",
      "72\n",
      "73\n",
      "74\n",
      "75\n",
      "76\n",
      "77\n",
      "78\n",
      "79\n",
      "80\n",
      "81\n",
      "82\n",
      "83\n",
      "84\n",
      "85\n",
      "86\n",
      "87\n",
      "88\n",
      "89\n",
      "90\n",
      "91\n",
      "92\n",
      "93\n",
      "94\n",
      "95\n",
      "96\n",
      "97\n",
      "98\n",
      "99\n",
      "100\n",
      "sum: 5050\n"
     ]
    }
   ],
   "source": [
    "# print sum of numbers from 1-100\n",
    "y = 0\n",
    "for w in range(1,101):\n",
    "    print(w)\n",
    "    y = y + w\n",
    "print('sum:',y)"
   ]
  },
  {
   "cell_type": "code",
   "execution_count": null,
   "metadata": {},
   "outputs": [],
   "source": []
  },
  {
   "cell_type": "code",
   "execution_count": 67,
   "metadata": {},
   "outputs": [
    {
     "name": "stdout",
     "output_type": "stream",
     "text": [
      "1 Odd number\n",
      "2\n",
      "3 Odd number\n",
      "4\n",
      "5 Odd number\n",
      "6\n",
      "7 Odd number\n",
      "8\n",
      "9 Odd number\n",
      "10\n",
      "11 Odd number\n",
      "12\n",
      "13 Odd number\n",
      "14\n",
      "15 Odd number\n",
      "16\n",
      "17 Odd number\n",
      "18\n",
      "19 Odd number\n",
      "20\n",
      "21 Odd number\n",
      "22\n",
      "23 Odd number\n",
      "24\n",
      "25 Odd number\n",
      "26\n",
      "27 Odd number\n",
      "28\n",
      "29 Odd number\n",
      "30\n",
      "31 Odd number\n",
      "32\n",
      "33 Odd number\n",
      "34\n",
      "35 Odd number\n",
      "36\n",
      "37 Odd number\n",
      "38\n",
      "39 Odd number\n",
      "40\n",
      "41 Odd number\n",
      "42\n",
      "43 Odd number\n",
      "44\n",
      "45 Odd number\n",
      "46\n",
      "47 Odd number\n",
      "48\n",
      "49 Odd number\n",
      "50\n",
      "51 Odd number\n",
      "52\n",
      "53 Odd number\n",
      "54\n",
      "55 Odd number\n",
      "56\n",
      "57 Odd number\n",
      "58\n",
      "59 Odd number\n",
      "60\n",
      "61 Odd number\n",
      "62\n",
      "63 Odd number\n",
      "64\n",
      "65 Odd number\n",
      "66\n",
      "67 Odd number\n",
      "68\n",
      "69 Odd number\n",
      "70\n",
      "71 Odd number\n",
      "72\n",
      "73 Odd number\n",
      "74\n",
      "75 Odd number\n",
      "76\n",
      "77 Odd number\n",
      "78\n",
      "79 Odd number\n",
      "80\n",
      "81 Odd number\n",
      "82\n",
      "83 Odd number\n",
      "84\n",
      "85 Odd number\n",
      "86\n",
      "87 Odd number\n",
      "88\n",
      "89 Odd number\n",
      "90\n",
      "91 Odd number\n",
      "92\n",
      "93 Odd number\n",
      "94\n",
      "95 Odd number\n",
      "96\n",
      "97 Odd number\n",
      "98\n",
      "99 Odd number\n",
      "100\n",
      "sum: 2500\n"
     ]
    }
   ],
   "source": [
    "# print sum of odd numbers from 1-100\n",
    "k = 0\n",
    "for i in range(1,101):\n",
    "    if i%2 != 0:\n",
    "        print(i,'Odd number')\n",
    "        k = k + i\n",
    "    else:\n",
    "        print(i)\n",
    "print('sum:',k)"
   ]
  },
  {
   "cell_type": "code",
   "execution_count": null,
   "metadata": {},
   "outputs": [],
   "source": []
  },
  {
   "cell_type": "code",
   "execution_count": 68,
   "metadata": {},
   "outputs": [
    {
     "name": "stdout",
     "output_type": "stream",
     "text": [
      "1\n",
      "2 Even number\n",
      "3\n",
      "4 Even number\n",
      "5\n",
      "6 Even number\n",
      "7\n",
      "8 Even number\n",
      "9\n",
      "10 Even number\n",
      "11\n",
      "12 Even number\n",
      "13\n",
      "14 Even number\n",
      "15\n",
      "16 Even number\n",
      "17\n",
      "18 Even number\n",
      "19\n",
      "20 Even number\n",
      "21\n",
      "22 Even number\n",
      "23\n",
      "24 Even number\n",
      "25\n",
      "26 Even number\n",
      "27\n",
      "28 Even number\n",
      "29\n",
      "30 Even number\n",
      "31\n",
      "32 Even number\n",
      "33\n",
      "34 Even number\n",
      "35\n",
      "36 Even number\n",
      "37\n",
      "38 Even number\n",
      "39\n",
      "40 Even number\n",
      "41\n",
      "42 Even number\n",
      "43\n",
      "44 Even number\n",
      "45\n",
      "46 Even number\n",
      "47\n",
      "48 Even number\n",
      "49\n",
      "50 Even number\n",
      "51\n",
      "52 Even number\n",
      "53\n",
      "54 Even number\n",
      "55\n",
      "56 Even number\n",
      "57\n",
      "58 Even number\n",
      "59\n",
      "60 Even number\n",
      "61\n",
      "62 Even number\n",
      "63\n",
      "64 Even number\n",
      "65\n",
      "66 Even number\n",
      "67\n",
      "68 Even number\n",
      "69\n",
      "70 Even number\n",
      "71\n",
      "72 Even number\n",
      "73\n",
      "74 Even number\n",
      "75\n",
      "76 Even number\n",
      "77\n",
      "78 Even number\n",
      "79\n",
      "80 Even number\n",
      "81\n",
      "82 Even number\n",
      "83\n",
      "84 Even number\n",
      "85\n",
      "86 Even number\n",
      "87\n",
      "88 Even number\n",
      "89\n",
      "90 Even number\n",
      "91\n",
      "92 Even number\n",
      "93\n",
      "94 Even number\n",
      "95\n",
      "96 Even number\n",
      "97\n",
      "98 Even number\n",
      "99\n",
      "100 Even number\n",
      "sum: 2500\n"
     ]
    }
   ],
   "source": [
    "# print sum of even numbers from 1-100\n",
    "q = 0\n",
    "for i in range(1,101):\n",
    "    if i%2 == 0:\n",
    "        print(i,'Even number')\n",
    "        q = q + i\n",
    "    else:\n",
    "        print(i)\n",
    "print('sum:',k)"
   ]
  },
  {
   "cell_type": "code",
   "execution_count": null,
   "metadata": {},
   "outputs": [],
   "source": []
  },
  {
   "cell_type": "code",
   "execution_count": 72,
   "metadata": {},
   "outputs": [
    {
     "name": "stdout",
     "output_type": "stream",
     "text": [
      "102\n"
     ]
    }
   ],
   "source": [
    "#print first number divisible by 17 between 100-500\n",
    "for a in range(100,501):\n",
    "    if a%17==0:\n",
    "        print(a)\n",
    "        break"
   ]
  },
  {
   "cell_type": "code",
   "execution_count": null,
   "metadata": {},
   "outputs": [],
   "source": []
  },
  {
   "cell_type": "code",
   "execution_count": 74,
   "metadata": {},
   "outputs": [
    {
     "name": "stdout",
     "output_type": "stream",
     "text": [
      "104\n"
     ]
    }
   ],
   "source": [
    "# print first number divisible by 13 between 100-500\n",
    "for b in range(100,501):\n",
    "    if b%13==0:\n",
    "        print(b)\n",
    "        break"
   ]
  },
  {
   "cell_type": "code",
   "execution_count": 27,
   "metadata": {},
   "outputs": [],
   "source": [
    "a = 85"
   ]
  },
  {
   "cell_type": "code",
   "execution_count": 28,
   "metadata": {},
   "outputs": [],
   "source": [
    "a = str(a)"
   ]
  },
  {
   "cell_type": "code",
   "execution_count": 32,
   "metadata": {},
   "outputs": [
    {
     "data": {
      "text/plain": [
       "'5'"
      ]
     },
     "execution_count": 32,
     "metadata": {},
     "output_type": "execute_result"
    }
   ],
   "source": [
    "a[1]"
   ]
  },
  {
   "cell_type": "code",
   "execution_count": 33,
   "metadata": {},
   "outputs": [
    {
     "data": {
      "text/plain": [
       "'8'"
      ]
     },
     "execution_count": 33,
     "metadata": {},
     "output_type": "execute_result"
    }
   ],
   "source": [
    "a[0]"
   ]
  },
  {
   "cell_type": "code",
   "execution_count": 14,
   "metadata": {},
   "outputs": [
    {
     "data": {
      "text/plain": [
       "8"
      ]
     },
     "execution_count": 14,
     "metadata": {},
     "output_type": "execute_result"
    }
   ],
   "source": [
    "int(str(a)[0]) + int(str(a)[1])"
   ]
  },
  {
   "cell_type": "code",
   "execution_count": 13,
   "metadata": {},
   "outputs": [
    {
     "data": {
      "text/plain": [
       "7"
      ]
     },
     "execution_count": 13,
     "metadata": {},
     "output_type": "execute_result"
    }
   ],
   "source": [
    "int(a[1])"
   ]
  },
  {
   "cell_type": "code",
   "execution_count": 36,
   "metadata": {},
   "outputs": [
    {
     "name": "stdout",
     "output_type": "stream",
     "text": [
      "16\n"
     ]
    }
   ],
   "source": [
    "# print first number whose sum of the numbers is 7 between (11 - 99),eg.\n",
    "for g in range(11,100):\n",
    "    t = int(str(g)[0]) + int(str(g)[1])\n",
    "    if t == 7:\n",
    "        print(g)\n",
    "        break"
   ]
  },
  {
   "cell_type": "code",
   "execution_count": null,
   "metadata": {},
   "outputs": [],
   "source": []
  },
  {
   "cell_type": "code",
   "execution_count": 37,
   "metadata": {},
   "outputs": [
    {
     "name": "stdout",
     "output_type": "stream",
     "text": [
      "16\n",
      "25\n",
      "34\n",
      "43\n",
      "52\n",
      "61\n",
      "70\n"
     ]
    }
   ],
   "source": [
    "# print all number whose sum of number is 7 between 11-100\n",
    "for g in range(11,100):\n",
    "    t = int(str(g)[0]) + int(str(g)[1])\n",
    "    if t == 7:\n",
    "        print(g)\n",
    "#         break\n"
   ]
  },
  {
   "cell_type": "code",
   "execution_count": null,
   "metadata": {},
   "outputs": [],
   "source": []
  }
 ],
 "metadata": {
  "kernelspec": {
   "display_name": "Python 3",
   "language": "python",
   "name": "python3"
  },
  "language_info": {
   "codemirror_mode": {
    "name": "ipython",
    "version": 3
   },
   "file_extension": ".py",
   "mimetype": "text/x-python",
   "name": "python",
   "nbconvert_exporter": "python",
   "pygments_lexer": "ipython3",
   "version": "3.8.5"
  }
 },
 "nbformat": 4,
 "nbformat_minor": 4
}
