{
 "cells": [
  {
   "cell_type": "code",
   "execution_count": 7,
   "metadata": {},
   "outputs": [
    {
     "name": "stdout",
     "output_type": "stream",
     "text": [
      "I am more than 2\n"
     ]
    }
   ],
   "source": [
    "a = 21\n",
    "if a>2:\n",
    "    print('I am more than 2')\n",
    "else:\n",
    "    print('I am Less than 2')"
   ]
  },
  {
   "cell_type": "code",
   "execution_count": 8,
   "metadata": {},
   "outputs": [
    {
     "name": "stdout",
     "output_type": "stream",
     "text": [
      "I am Less than 2\n"
     ]
    }
   ],
   "source": [
    "a = -21\n",
    "if a>2:\n",
    "    print('I am more than 2')\n",
    "else:\n",
    "    print('I am Less than 2')"
   ]
  },
  {
   "cell_type": "code",
   "execution_count": 13,
   "metadata": {},
   "outputs": [
    {
     "name": "stdout",
     "output_type": "stream",
     "text": [
      "I am Less than 2\n"
     ]
    }
   ],
   "source": [
    "a = -21\n",
    "if a<2:\n",
    "    print('I am Less than 2')\n",
    "elif a>2:\n",
    "    print('I am More than 2')\n",
    "else:\n",
    "    print('i am exactly 2')"
   ]
  },
  {
   "cell_type": "code",
   "execution_count": 14,
   "metadata": {},
   "outputs": [
    {
     "data": {
      "text/plain": [
       "0"
      ]
     },
     "execution_count": 14,
     "metadata": {},
     "output_type": "execute_result"
    }
   ],
   "source": [
    "4%2"
   ]
  },
  {
   "cell_type": "code",
   "execution_count": 15,
   "metadata": {},
   "outputs": [
    {
     "data": {
      "text/plain": [
       "1"
      ]
     },
     "execution_count": 15,
     "metadata": {},
     "output_type": "execute_result"
    }
   ],
   "source": [
    "5%2"
   ]
  },
  {
   "cell_type": "code",
   "execution_count": null,
   "metadata": {},
   "outputs": [],
   "source": []
  },
  {
   "cell_type": "code",
   "execution_count": 27,
   "metadata": {},
   "outputs": [
    {
     "name": "stdout",
     "output_type": "stream",
     "text": [
      "Enter the no: 2\n",
      "Even\n"
     ]
    }
   ],
   "source": [
    "# check whether number of odd or even\n",
    "x = int(input('Enter the no: '))\n",
    "if x%2==0:\n",
    "    print('Even')\n",
    "else:\n",
    "    print('Odd')"
   ]
  },
  {
   "cell_type": "code",
   "execution_count": 24,
   "metadata": {},
   "outputs": [
    {
     "name": "stdout",
     "output_type": "stream",
     "text": [
      "Enter the no: 16\n",
      "Divisible by 4\n"
     ]
    }
   ],
   "source": [
    "# check whether number of odd or even\n",
    "x = int(input('Enter the no: '))\n",
    "if x%4==0:\n",
    "    print('Divisible by 4')\n",
    "else:\n",
    "    print('Not Divisible by 4')"
   ]
  },
  {
   "cell_type": "code",
   "execution_count": 28,
   "metadata": {},
   "outputs": [
    {
     "data": {
      "text/plain": [
       "0"
      ]
     },
     "execution_count": 28,
     "metadata": {},
     "output_type": "execute_result"
    }
   ],
   "source": [
    "10%2"
   ]
  },
  {
   "cell_type": "code",
   "execution_count": 29,
   "metadata": {},
   "outputs": [
    {
     "data": {
      "text/plain": [
       "2"
      ]
     },
     "execution_count": 29,
     "metadata": {},
     "output_type": "execute_result"
    }
   ],
   "source": [
    "10%4"
   ]
  },
  {
   "cell_type": "code",
   "execution_count": 31,
   "metadata": {},
   "outputs": [
    {
     "data": {
      "text/plain": [
       "0"
      ]
     },
     "execution_count": 31,
     "metadata": {},
     "output_type": "execute_result"
    }
   ],
   "source": [
    "52%13"
   ]
  },
  {
   "cell_type": "code",
   "execution_count": 33,
   "metadata": {},
   "outputs": [
    {
     "data": {
      "text/plain": [
       "4"
      ]
     },
     "execution_count": 33,
     "metadata": {},
     "output_type": "execute_result"
    }
   ],
   "source": [
    "52%6"
   ]
  },
  {
   "cell_type": "code",
   "execution_count": null,
   "metadata": {},
   "outputs": [],
   "source": [
    "# 100-90 print A\n",
    "# 89 -80 print B\n",
    "# 79- 60 C\n",
    "# 59-40 D\n",
    "# 39-0 E"
   ]
  },
  {
   "cell_type": "code",
   "execution_count": null,
   "metadata": {},
   "outputs": [],
   "source": [
    "# Enter Age of a person as input\n",
    "# if Age is > than 65 print 'senior citizen'\n",
    "# Age < 18 -> 'Canadian'\n",
    "# Age >18 and < 45 'Immigrant'\n",
    "# Age >45 and less than 65 'Adult'"
   ]
  },
  {
   "cell_type": "code",
   "execution_count": 1,
   "metadata": {},
   "outputs": [
    {
     "name": "stdout",
     "output_type": "stream",
     "text": [
      "Enter number:65\n",
      "Error\n"
     ]
    }
   ],
   "source": [
    "y = int (input('Enter number:'))\n",
    "if y>65:\n",
    "    print('Senior citizen')\n",
    "elif y>45 and y<65:\n",
    "    print('Adult')\n",
    "elif y>18 and y<45:\n",
    "    print('Immigrant')\n",
    "elif y<18:\n",
    "    print('Canadian')\n",
    "else:\n",
    "    print('Error')"
   ]
  },
  {
   "cell_type": "code",
   "execution_count": 13,
   "metadata": {},
   "outputs": [],
   "source": [
    "# money == 1000 -> 4 'wheeler'\n",
    "# money<1000 and > 500: 'cycle'\n",
    "# money < 500 : 'Walk'"
   ]
  },
  {
   "cell_type": "code",
   "execution_count": 4,
   "metadata": {},
   "outputs": [
    {
     "name": "stdout",
     "output_type": "stream",
     "text": [
      "Enter number here:500\n",
      "worthless\n"
     ]
    }
   ],
   "source": [
    "money = int (input('Enter number here:'))\n",
    "if money==1000:\n",
    "    print('4 wheeler')\n",
    "elif money<1000 and money>500:\n",
    "    print('cycle')\n",
    "elif money<500:\n",
    "    print('Walk')\n",
    "else:\n",
    "    print('worthless')"
   ]
  },
  {
   "cell_type": "code",
   "execution_count": null,
   "metadata": {},
   "outputs": [],
   "source": []
  }
 ],
 "metadata": {
  "kernelspec": {
   "display_name": "Python 3",
   "language": "python",
   "name": "python3"
  },
  "language_info": {
   "codemirror_mode": {
    "name": "ipython",
    "version": 3
   },
   "file_extension": ".py",
   "mimetype": "text/x-python",
   "name": "python",
   "nbconvert_exporter": "python",
   "pygments_lexer": "ipython3",
   "version": "3.8.5"
  }
 },
 "nbformat": 4,
 "nbformat_minor": 4
}
