{
 "cells": [
  {
   "cell_type": "code",
   "execution_count": 28,
   "id": "a25e4d04",
   "metadata": {},
   "outputs": [
    {
     "name": "stdout",
     "output_type": "stream",
     "text": [
      "Elimination order: sample1.csv: 3, 5, 4, 2, 1\n",
      "Elimination order: sample2.csv: 3, 5, 4, 2, 1\n",
      "Elimination order: sample3.csv: 1\n",
      "Elimination order: sample4.csv: 1, 2\n",
      "Elimination order: sample5.csv: 1, 2\n",
      "Elimination order: sample7.csv: 2, 1\n",
      "Elimination order: sample8.csv: 1, 2, 3\n",
      "Elimination order: sample9.csv: 2, 1, 3\n",
      "Elimination order: sample10.csv: 1, 2, 3\n",
      "Elimination order: sample11.csv: 1, 2, 3\n",
      "Elimination order: sample12.csv: 3, 2, 1\n",
      "Elimination order: sample13.csv: 4, 3, 2, 1\n",
      "Elimination order: sample14.csv: 4, 2, 3, 1\n",
      "Elimination order: sample133.csv: 20, 10, 25, 16, 12, 24, 19, 3, 2, 23, 17, 15, 9, 11, 21, 4, 18, 13, 7, 6, 5, 8, 22, 1, 14\n"
     ]
    }
   ],
   "source": [
    "for i in [1,2,3,4,5,7,8,9,10,11,12,13,14,133]:\n",
    "    fname = f'sample{i}.csv'\n",
    "    \n",
    "#     fname = input('Enter the name of the file: ')\n",
    "\n",
    "    with open(fname) as fp:\n",
    "        data = fp.readlines()\n",
    "    data = [line.strip().split(',') for line in data]\n",
    "\n",
    "    data = [[i.strip() for i in line]+[''] for line in data]\n",
    "\n",
    "    elimination_order = []\n",
    "    while True:\n",
    "        first = [line[0] for line in data if line[0]!='']\n",
    "        n = len(first)\n",
    "        status = {}\n",
    "        for i in set(first):\n",
    "            status[i] = first.count(i)*100/n\n",
    "        status = sorted(status.items(),key=lambda x:x[1])\n",
    "\n",
    "    #     print(first)\n",
    "    #     print(*status,sep='\\n')\n",
    "    #     print('-------------------')\n",
    "\n",
    "        HighestVote = status[-1][1]\n",
    "\n",
    "        if HighestVote>50:\n",
    "            elimination_order = elimination_order + sorted([int(i[0]) for i in status[:-1] if i[1]!=HighestVote])\n",
    "            elimination_order.append(int(status[-1][0]))\n",
    "            break\n",
    "        elif HighestVote==50 and len(status)==2:\n",
    "\n",
    "            Lid = min(int(status[0][0]),int(status[1][0]))\n",
    "            Hid = max(int(status[0][0]),int(status[1][0]))\n",
    "\n",
    "            elimination_order = elimination_order + [Hid,Lid]\n",
    "            break\n",
    "        else:\n",
    "            mimm = status[0][1]\n",
    "\n",
    "            mx = max([int(i[0]) for i in status if i[1]==mimm])\n",
    "            elimination_order.append(mx)\n",
    "\n",
    "            try:\n",
    "                for line in data:\n",
    "                    if str(mx) in line:\n",
    "                        line.remove(str(mx))\n",
    "                    else:\n",
    "                        line.remove('')\n",
    "            except:\n",
    "                print('Success')\n",
    "                break\n",
    "\n",
    "    print(f'Elimination order: {fname}: ',end='')\n",
    "    print(*elimination_order,sep=', ')"
   ]
  },
  {
   "cell_type": "code",
   "execution_count": 24,
   "id": "10445364",
   "metadata": {},
   "outputs": [
    {
     "name": "stdout",
     "output_type": "stream",
     "text": [
      "sample1\n",
      "sample2\n",
      "sample3\n",
      "sample4\n",
      "sample5\n",
      "sample7\n",
      "sample8\n",
      "sample9\n",
      "sample10\n",
      "sample11\n",
      "sample12\n",
      "sample13\n",
      "sample14\n",
      "sample15\n",
      "sample133\n"
     ]
    }
   ],
   "source": [
    "for i in [1,2,3,4,5,7,8,9,10,11,12,13,14,15,133]:\n",
    "    s = f'sample{i}'\n",
    "    print(s)"
   ]
  },
  {
   "cell_type": "code",
   "execution_count": 14,
   "id": "b6919da0",
   "metadata": {},
   "outputs": [],
   "source": [
    "def read(filename):\n",
    "    with open(fname) as fp:\n",
    "        data = fp.readlines()\n",
    "    data = [line.strip().split(',') for line in data]\n",
    "    data = [[i.strip() for i in line]+[''] for line in data]\n",
    "    return data"
   ]
  },
  {
   "cell_type": "code",
   "execution_count": 15,
   "id": "774aa7a7",
   "metadata": {},
   "outputs": [],
   "source": [
    "def eliminate(data):\n",
    "    elimination_order = []\n",
    "    while True:\n",
    "        first = [line[0] for line in data if line[0]!='']\n",
    "        n = len(first)\n",
    "        status = {}\n",
    "        for i in set(first):\n",
    "            status[i] = first.count(i)*100/n\n",
    "        status = sorted(status.items(),key=lambda x:x[1])\n",
    "        \n",
    "        eliminated,flag = order(data,status)\n",
    "        elimination_order = elimination_order + eliminated\n",
    "        if flag:\n",
    "            break\n",
    "\n",
    "    print('Elimination order: ',end='')\n",
    "    print(*elimination_order,sep=', ')"
   ]
  },
  {
   "cell_type": "code",
   "execution_count": 16,
   "id": "13c46077",
   "metadata": {},
   "outputs": [],
   "source": [
    "def update(data,mx):\n",
    "    for line in data:\n",
    "        if str(mx) in line:\n",
    "            line.remove(str(mx))\n",
    "        else:\n",
    "            line.remove('')\n",
    "    return data"
   ]
  },
  {
   "cell_type": "code",
   "execution_count": 17,
   "id": "855e64a5",
   "metadata": {},
   "outputs": [],
   "source": [
    "def order(data,status):\n",
    "    HighestVote = status[-1][1]\n",
    "    eliminated = []\n",
    "    flag=False\n",
    "    if HighestVote>50:\n",
    "        eliminated = eliminated + sorted([int(i[0]) for i in status[:-1] if i[1]!=HighestVote])\n",
    "        eliminated.append(int(status[-1][0]))\n",
    "        flag = True\n",
    "    elif HighestVote==50 and len(status)==2:\n",
    "\n",
    "        Lid = min(int(status[0][0]),int(status[1][0]))\n",
    "        Hid = max(int(status[0][0]),int(status[1][0]))\n",
    "\n",
    "        eliminated = eliminated + [Hid,Lid]\n",
    "        flag = True\n",
    "    else:\n",
    "        mimm = status[0][1]\n",
    "\n",
    "        mx = max([int(i[0]) for i in status if i[1]==mimm])\n",
    "        eliminated.append(mx)\n",
    "\n",
    "        try:\n",
    "            data = update(data,mx)\n",
    "        except:\n",
    "            print('Success')\n",
    "            flag = True\n",
    "    return eliminated,flag"
   ]
  },
  {
   "cell_type": "code",
   "execution_count": 18,
   "id": "49280081",
   "metadata": {},
   "outputs": [],
   "source": [
    "def main():\n",
    "    fname = input('Enter the name of the file: ')\n",
    "    data = read(fname)\n",
    "    eliminate(data)"
   ]
  },
  {
   "cell_type": "code",
   "execution_count": 19,
   "id": "2156fd1b",
   "metadata": {},
   "outputs": [
    {
     "name": "stdout",
     "output_type": "stream",
     "text": [
      "Enter the name of the file: sample1.csv\n",
      "Elimination order: 20, 10, 25, 16, 12, 24, 19, 3, 2, 23, 17, 15, 9, 11, 21, 4, 18, 13, 7, 6, 5, 8, 22, 1, 14\n"
     ]
    }
   ],
   "source": [
    "if __name__ == '__main__':\n",
    "    main()"
   ]
  },
  {
   "cell_type": "code",
   "execution_count": null,
   "id": "1a410055",
   "metadata": {},
   "outputs": [],
   "source": []
  }
 ],
 "metadata": {
  "kernelspec": {
   "display_name": "Python 3 (ipykernel)",
   "language": "python",
   "name": "python3"
  },
  "language_info": {
   "codemirror_mode": {
    "name": "ipython",
    "version": 3
   },
   "file_extension": ".py",
   "mimetype": "text/x-python",
   "name": "python",
   "nbconvert_exporter": "python",
   "pygments_lexer": "ipython3",
   "version": "3.8.5"
  }
 },
 "nbformat": 4,
 "nbformat_minor": 5
}
