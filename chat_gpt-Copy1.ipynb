{
 "cells": [
  {
   "cell_type": "code",
   "execution_count": 12,
   "id": "e7c623c6",
   "metadata": {},
   "outputs": [],
   "source": [
    "import os\n",
    "import openai\n",
    "import tweepy\n",
    "\n",
    "# https://docs.tweepy.org/en/stable/streaming.html\n",
    "# Define function to generate response using ChatGPT\n",
    "def generate_response(prompt):\n",
    "    completions = openai.Completion.create(\n",
    "                engine=\"text-davinci-002\",\n",
    "                prompt=f\"{prompt} Reply with 240-260 characters as if you are a very angry yet deeply philosophical alien overlord.\",\n",
    "                max_tokens=70,\n",
    "                n=1,\n",
    "                stop=None,\n",
    "                temperature=0.5\n",
    "                )\n",
    "\n",
    "    message = completions.choices[0].text\n",
    "    return message\n",
    "\n",
    "consumer_key=\"2fTXlosxprB6tgT4xBJre3YlC\"\n",
    "consumer_secret=\"\"\n",
    "access_token=\"\"\n",
    "access_token_secret=\"\"\n",
    "\n",
    "auth = tweepy.OAuthHandler(consumer_key, consumer_secret)\n",
    "auth.set_access_token(access_token, access_token_secret)\n",
    "api = tweepy.API(auth)\n",
    "\n",
    "# Set up OpenAI API client\n",
    "openai.api_key =\"sk-\"\n",
    "bearer_token = \"%\"\n",
    "screen_name = api.verify_credentials().screen_name\n",
    "# streaming_client  = tweepy.StreamingClient(bearer_token)"
   ]
  },
  {
   "cell_type": "code",
   "execution_count": 17,
   "id": "1e659725",
   "metadata": {},
   "outputs": [],
   "source": [
    "import ast\n",
    "\n",
    "# Set up stream listener to listen for tweets mentioning the bot\n",
    "class MyStreamListener(tweepy.StreamingClient):\n",
    "                \n",
    "    def on_data(self, raw):\n",
    "        \n",
    "        dict_str = raw.decode(\"UTF-8\")\n",
    "        raw = ast.literal_eval(dict_str)       \n",
    "        status = api.get_status(raw['data']['id'])\n",
    "        \n",
    "        if status.in_reply_to_status_id is None:\n",
    "            if screen_name in status.text:\n",
    "                print('id:-',raw['data']['id'])\n",
    "                user = status.user.screen_name\n",
    "                prompt = f\"@{user} \"\n",
    "                response = generate_response(prompt)[:100]\n",
    "                print('inside -----------------------------------------------------',response)\n",
    "                api.update_status(f\"@{user} {response}\", in_reply_to_status_id=status.id)\n",
    "                print('Done..')\n",
    "\n",
    "my_stream_listener = MyStreamListener(bearer_token)\n",
    "my_stream_listener.add_rules(tweepy.StreamRule(\"@angryalienbot\"))\n",
    "my_stream_listener.filter()"
   ]
  },
  {
   "cell_type": "code",
   "execution_count": null,
   "id": "2fe099f8",
   "metadata": {},
   "outputs": [],
   "source": []
  }
 ],
 "metadata": {
  "kernelspec": {
   "display_name": "Python 3 (ipykernel)",
   "language": "python",
   "name": "python3"
  },
  "language_info": {
   "codemirror_mode": {
    "name": "ipython",
    "version": 3
   },
   "file_extension": ".py",
   "mimetype": "text/x-python",
   "name": "python",
   "nbconvert_exporter": "python",
   "pygments_lexer": "ipython3",
   "version": "3.9.12"
  }
 },
 "nbformat": 4,
 "nbformat_minor": 5
}
