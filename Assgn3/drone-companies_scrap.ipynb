{
 "cells": [
  {
   "cell_type": "code",
   "execution_count": 158,
   "metadata": {},
   "outputs": [],
   "source": [
    "from bs4 import BeautifulSoup\n",
    "import requests\n",
    "\n",
    "url = \"https://uavcoach.com/drone-companies/\"\n",
    "\n",
    "response = requests.get(url)\n",
    "\n",
    "# get the parsed html document\n",
    "soup = BeautifulSoup(response.text)\n",
    "elements = soup.find_all('p') \n",
    "\n",
    "#elements[321] # elements[-33]\n",
    "\n",
    "# scraping chapter 1 only\n",
    "# that too only 30 scripts getting scrapped out of 38\n",
    "# need to handle few random conditions\n",
    "\n",
    "details = []\n",
    "indx=19\n",
    "for indx in range(19,130):\n",
    "    try:\n",
    "        text = elements[indx].text.replace(u'\\xa0', u' ')\n",
    "        company_name = elements[indx].find('a').text\n",
    "        link = elements[indx].find('a').get('href')\n",
    "\n",
    "        twitter = elements[indx+1].find_all('a')[0].get('href')\n",
    "        facebook = elements[indx+1].find_all('a')[1].get('href')\n",
    "\n",
    "        details.append((company_name,link,text,twitter,facebook))\n",
    "    except:\n",
    "        pass"
   ]
  },
  {
   "cell_type": "code",
   "execution_count": 159,
   "metadata": {},
   "outputs": [
    {
     "data": {
      "text/plain": [
       "30"
      ]
     },
     "execution_count": 159,
     "metadata": {},
     "output_type": "execute_result"
    }
   ],
   "source": [
    "len(details)"
   ]
  },
  {
   "cell_type": "code",
   "execution_count": null,
   "metadata": {},
   "outputs": [],
   "source": []
  }
 ],
 "metadata": {
  "kernelspec": {
   "display_name": "Python 3",
   "language": "python",
   "name": "python3"
  },
  "language_info": {
   "codemirror_mode": {
    "name": "ipython",
    "version": 3
   },
   "file_extension": ".py",
   "mimetype": "text/x-python",
   "name": "python",
   "nbconvert_exporter": "python",
   "pygments_lexer": "ipython3",
   "version": "3.8.5"
  }
 },
 "nbformat": 4,
 "nbformat_minor": 4
}
