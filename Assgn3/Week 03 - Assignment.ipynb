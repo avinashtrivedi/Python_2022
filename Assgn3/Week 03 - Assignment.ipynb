{
 "cells": [
  {
   "cell_type": "markdown",
   "metadata": {},
   "source": [
    "# INFO 3402 – Week 03: Assignment\n",
    "\n",
    "[Brian C. Keegan, Ph.D.](http://brianckeegan.com/)  \n",
    "[Assistant Professor, Department of Information Science](https://www.colorado.edu/cmci/people/information-science/brian-c-keegan)  \n",
    "University of Colorado Boulder  \n",
    "\n",
    "Copyright and distributed under an [MIT License](https://opensource.org/licenses/MIT)"
   ]
  },
  {
   "cell_type": "markdown",
   "metadata": {},
   "source": [
    "## Background\n",
    "\n",
    "Cannabis legalization and the COVID-19 pandemic represent two major disruptions that have impacted Colorado in the past decade. Data about both these disruptions is available at the county level and over time. This assignment is going to use your skills with concatenating and merging data to explore the relationships between four county-level datasets in Colorado.\n",
    "\n",
    "1. The [Marijuana Enforcement Division](https://www.colorado.gov/pacific/enforcement/marijuanaenforcement) regulates Colorado's cannabis industry and publishes monthly county-level [sales reports](https://cdor.colorado.gov/data-and-reports/marijuana-data/marijuana-sales-reports).\n",
    "2. The State Demography Office publishes [county-level estimates](https://demography.dola.colorado.gov/population/data/county-data-lookup/) of population, births, deaths, and housing at an annual frequency. \n",
    "3. The Colorado Bureau of Investigation maintains a [reporting database](https://coloradocrimestats.state.co.us/public/View/) of crimes that aggregates data to monthly county-level statistics. \n",
    "4. The *New York Times* [publishes daily county-level estimates](https://github.com/nytimes/covid-19-data) of COVID-19 cases and deaths."
   ]
  },
  {
   "cell_type": "markdown",
   "metadata": {},
   "source": [
    "## Question 1: Load libraries and inspect datasets (5 pts)\n",
    "\n",
    "Import the `numpy`, `pandas`, and `os` libraries. (1 pt)"
   ]
  },
  {
   "cell_type": "code",
   "execution_count": 37,
   "metadata": {},
   "outputs": [],
   "source": [
    "import numpy as np\n",
    "\n",
    "import pandas as pd\n",
    "\n",
    "import os"
   ]
  },
  {
   "cell_type": "markdown",
   "metadata": {},
   "source": [
    "Load the \"co_county_demographics.csv\" file as `demographics_df` and display the **first** five rows. Make sure there are no \"Unnamed\" columns and the values for columns like \"Total Population\" are numeric (int, float, *etc*.) and not strings ([hint](https://stackoverflow.com/a/63349939/1574687)). (1 pts)"
   ]
  },
  {
   "cell_type": "code",
   "execution_count": 38,
   "metadata": {},
   "outputs": [
    {
     "data": {
      "text/html": [
       "<div>\n",
       "<style scoped>\n",
       "    .dataframe tbody tr th:only-of-type {\n",
       "        vertical-align: middle;\n",
       "    }\n",
       "\n",
       "    .dataframe tbody tr th {\n",
       "        vertical-align: top;\n",
       "    }\n",
       "\n",
       "    .dataframe thead th {\n",
       "        text-align: right;\n",
       "    }\n",
       "</style>\n",
       "<table border=\"1\" class=\"dataframe\">\n",
       "  <thead>\n",
       "    <tr style=\"text-align: right;\">\n",
       "      <th></th>\n",
       "      <th>CFIPS</th>\n",
       "      <th>YEAR</th>\n",
       "      <th>COUNTY</th>\n",
       "      <th>Total Population</th>\n",
       "      <th>Births</th>\n",
       "      <th>Deaths</th>\n",
       "      <th>Net Migration</th>\n",
       "      <th>Natural Increase</th>\n",
       "      <th>Census Building Permits</th>\n",
       "      <th>Group Quarters Population</th>\n",
       "      <th>Household Population</th>\n",
       "      <th>Households</th>\n",
       "      <th>Household Size</th>\n",
       "      <th>Total Housing Units</th>\n",
       "      <th>Vacancy Rate</th>\n",
       "      <th>Vacant Housing Units</th>\n",
       "    </tr>\n",
       "  </thead>\n",
       "  <tbody>\n",
       "    <tr>\n",
       "      <th>0</th>\n",
       "      <td>1</td>\n",
       "      <td>2008</td>\n",
       "      <td>Adams County</td>\n",
       "      <td>425138</td>\n",
       "      <td>7925</td>\n",
       "      <td>2448</td>\n",
       "      <td>3746</td>\n",
       "      <td>5477</td>\n",
       "      <td>2288</td>\n",
       "      <td>3683</td>\n",
       "      <td>421455</td>\n",
       "      <td>148306</td>\n",
       "      <td>2.84</td>\n",
       "      <td>162115</td>\n",
       "      <td>8.50</td>\n",
       "      <td>13809</td>\n",
       "    </tr>\n",
       "    <tr>\n",
       "      <th>1</th>\n",
       "      <td>1</td>\n",
       "      <td>2009</td>\n",
       "      <td>Adams County</td>\n",
       "      <td>436323</td>\n",
       "      <td>7699</td>\n",
       "      <td>2359</td>\n",
       "      <td>5845</td>\n",
       "      <td>5340</td>\n",
       "      <td>957</td>\n",
       "      <td>3873</td>\n",
       "      <td>432450</td>\n",
       "      <td>152045</td>\n",
       "      <td>2.84</td>\n",
       "      <td>162794</td>\n",
       "      <td>6.60</td>\n",
       "      <td>10749</td>\n",
       "    </tr>\n",
       "    <tr>\n",
       "      <th>2</th>\n",
       "      <td>1</td>\n",
       "      <td>2010</td>\n",
       "      <td>Adams County</td>\n",
       "      <td>443711</td>\n",
       "      <td>7436</td>\n",
       "      <td>2474</td>\n",
       "      <td>2426</td>\n",
       "      <td>4962</td>\n",
       "      <td>662</td>\n",
       "      <td>4027</td>\n",
       "      <td>439684</td>\n",
       "      <td>154275</td>\n",
       "      <td>2.85</td>\n",
       "      <td>163435</td>\n",
       "      <td>5.46</td>\n",
       "      <td>8930</td>\n",
       "    </tr>\n",
       "    <tr>\n",
       "      <th>3</th>\n",
       "      <td>1</td>\n",
       "      <td>2011</td>\n",
       "      <td>Adams County</td>\n",
       "      <td>452181</td>\n",
       "      <td>7247</td>\n",
       "      <td>2467</td>\n",
       "      <td>3690</td>\n",
       "      <td>4780</td>\n",
       "      <td>565</td>\n",
       "      <td>4061</td>\n",
       "      <td>448120</td>\n",
       "      <td>157235</td>\n",
       "      <td>2.85</td>\n",
       "      <td>164593</td>\n",
       "      <td>4.46</td>\n",
       "      <td>7345</td>\n",
       "    </tr>\n",
       "    <tr>\n",
       "      <th>4</th>\n",
       "      <td>1</td>\n",
       "      <td>2012</td>\n",
       "      <td>Adams County</td>\n",
       "      <td>460468</td>\n",
       "      <td>6923</td>\n",
       "      <td>2754</td>\n",
       "      <td>4118</td>\n",
       "      <td>4169</td>\n",
       "      <td>1015</td>\n",
       "      <td>4057</td>\n",
       "      <td>456411</td>\n",
       "      <td>160144</td>\n",
       "      <td>2.85</td>\n",
       "      <td>165858</td>\n",
       "      <td>3.57</td>\n",
       "      <td>5926</td>\n",
       "    </tr>\n",
       "  </tbody>\n",
       "</table>\n",
       "</div>"
      ],
      "text/plain": [
       "   CFIPS  YEAR        COUNTY  Total Population  Births  Deaths  Net Migration  \\\n",
       "0      1  2008  Adams County            425138    7925    2448           3746   \n",
       "1      1  2009  Adams County            436323    7699    2359           5845   \n",
       "2      1  2010  Adams County            443711    7436    2474           2426   \n",
       "3      1  2011  Adams County            452181    7247    2467           3690   \n",
       "4      1  2012  Adams County            460468    6923    2754           4118   \n",
       "\n",
       "   Natural Increase  Census Building Permits  Group Quarters Population  \\\n",
       "0              5477                     2288                       3683   \n",
       "1              5340                      957                       3873   \n",
       "2              4962                      662                       4027   \n",
       "3              4780                      565                       4061   \n",
       "4              4169                     1015                       4057   \n",
       "\n",
       "   Household Population  Households  Household Size  Total Housing Units  \\\n",
       "0                421455      148306            2.84               162115   \n",
       "1                432450      152045            2.84               162794   \n",
       "2                439684      154275            2.85               163435   \n",
       "3                448120      157235            2.85               164593   \n",
       "4                456411      160144            2.85               165858   \n",
       "\n",
       "   Vacancy Rate  Vacant Housing Units  \n",
       "0          8.50                 13809  \n",
       "1          6.60                 10749  \n",
       "2          5.46                  8930  \n",
       "3          4.46                  7345  \n",
       "4          3.57                  5926  "
      ]
     },
     "execution_count": 38,
     "metadata": {},
     "output_type": "execute_result"
    }
   ],
   "source": [
    "demographics_df = pd.read_csv('co_county_demographics.csv', thousands=',').drop(columns=['Unnamed: 16'])\n",
    "demographics_df.head(5)"
   ]
  },
  {
   "cell_type": "markdown",
   "metadata": {},
   "source": [
    "Load the \"co_county_crimes.csv\" file as `crimes_df` and display the **first** five rows. Make sure there are no \"Unnamed\" columns and the values for columns like \"Total Population\" are numeric (int, float, *etc*.) and not strings . (1 pt)"
   ]
  },
  {
   "cell_type": "code",
   "execution_count": 39,
   "metadata": {},
   "outputs": [
    {
     "data": {
      "text/html": [
       "<div>\n",
       "<style scoped>\n",
       "    .dataframe tbody tr th:only-of-type {\n",
       "        vertical-align: middle;\n",
       "    }\n",
       "\n",
       "    .dataframe tbody tr th {\n",
       "        vertical-align: top;\n",
       "    }\n",
       "\n",
       "    .dataframe thead th {\n",
       "        text-align: right;\n",
       "    }\n",
       "</style>\n",
       "<table border=\"1\" class=\"dataframe\">\n",
       "  <thead>\n",
       "    <tr style=\"text-align: right;\">\n",
       "      <th></th>\n",
       "      <th>County</th>\n",
       "      <th>Year</th>\n",
       "      <th>Month</th>\n",
       "      <th>Crimes Against Person</th>\n",
       "      <th>Crimes Against Property</th>\n",
       "      <th>Drug Equipment Violations</th>\n",
       "      <th>Drug/Narcotic Violations</th>\n",
       "    </tr>\n",
       "  </thead>\n",
       "  <tbody>\n",
       "    <tr>\n",
       "      <th>0</th>\n",
       "      <td>Adams County</td>\n",
       "      <td>2008</td>\n",
       "      <td>April</td>\n",
       "      <td>745.0</td>\n",
       "      <td>3135.0</td>\n",
       "      <td>226.0</td>\n",
       "      <td>354.0</td>\n",
       "    </tr>\n",
       "    <tr>\n",
       "      <th>1</th>\n",
       "      <td>Adams County</td>\n",
       "      <td>2008</td>\n",
       "      <td>August</td>\n",
       "      <td>740.0</td>\n",
       "      <td>3175.0</td>\n",
       "      <td>210.0</td>\n",
       "      <td>289.0</td>\n",
       "    </tr>\n",
       "    <tr>\n",
       "      <th>2</th>\n",
       "      <td>Adams County</td>\n",
       "      <td>2008</td>\n",
       "      <td>December</td>\n",
       "      <td>606.0</td>\n",
       "      <td>2982.0</td>\n",
       "      <td>188.0</td>\n",
       "      <td>296.0</td>\n",
       "    </tr>\n",
       "    <tr>\n",
       "      <th>3</th>\n",
       "      <td>Adams County</td>\n",
       "      <td>2008</td>\n",
       "      <td>February</td>\n",
       "      <td>615.0</td>\n",
       "      <td>2677.0</td>\n",
       "      <td>253.0</td>\n",
       "      <td>349.0</td>\n",
       "    </tr>\n",
       "    <tr>\n",
       "      <th>4</th>\n",
       "      <td>Adams County</td>\n",
       "      <td>2008</td>\n",
       "      <td>January</td>\n",
       "      <td>640.0</td>\n",
       "      <td>3082.0</td>\n",
       "      <td>202.0</td>\n",
       "      <td>333.0</td>\n",
       "    </tr>\n",
       "  </tbody>\n",
       "</table>\n",
       "</div>"
      ],
      "text/plain": [
       "         County  Year     Month  Crimes Against Person  \\\n",
       "0  Adams County  2008     April                  745.0   \n",
       "1  Adams County  2008    August                  740.0   \n",
       "2  Adams County  2008  December                  606.0   \n",
       "3  Adams County  2008  February                  615.0   \n",
       "4  Adams County  2008   January                  640.0   \n",
       "\n",
       "   Crimes Against Property  Drug Equipment Violations  \\\n",
       "0                   3135.0                      226.0   \n",
       "1                   3175.0                      210.0   \n",
       "2                   2982.0                      188.0   \n",
       "3                   2677.0                      253.0   \n",
       "4                   3082.0                      202.0   \n",
       "\n",
       "   Drug/Narcotic Violations  \n",
       "0                     354.0  \n",
       "1                     289.0  \n",
       "2                     296.0  \n",
       "3                     349.0  \n",
       "4                     333.0  "
      ]
     },
     "execution_count": 39,
     "metadata": {},
     "output_type": "execute_result"
    }
   ],
   "source": [
    "crimes_df = pd.read_csv('co_county_crimes.csv', thousands=',')\n",
    "crimes_df.head(5)"
   ]
  },
  {
   "cell_type": "markdown",
   "metadata": {},
   "source": [
    "Load the \"co_county_covid.csv\" file as `covid_df` and display the **last** five rows. (1 pt)"
   ]
  },
  {
   "cell_type": "code",
   "execution_count": 40,
   "metadata": {},
   "outputs": [
    {
     "data": {
      "text/html": [
       "<div>\n",
       "<style scoped>\n",
       "    .dataframe tbody tr th:only-of-type {\n",
       "        vertical-align: middle;\n",
       "    }\n",
       "\n",
       "    .dataframe tbody tr th {\n",
       "        vertical-align: top;\n",
       "    }\n",
       "\n",
       "    .dataframe thead th {\n",
       "        text-align: right;\n",
       "    }\n",
       "</style>\n",
       "<table border=\"1\" class=\"dataframe\">\n",
       "  <thead>\n",
       "    <tr style=\"text-align: right;\">\n",
       "      <th></th>\n",
       "      <th>Year</th>\n",
       "      <th>Month</th>\n",
       "      <th>County</th>\n",
       "      <th>Cases</th>\n",
       "      <th>Deaths</th>\n",
       "    </tr>\n",
       "  </thead>\n",
       "  <tbody>\n",
       "    <tr>\n",
       "      <th>44715</th>\n",
       "      <td>2022</td>\n",
       "      <td>1</td>\n",
       "      <td>Yuma</td>\n",
       "      <td>10.0</td>\n",
       "      <td>0.0</td>\n",
       "    </tr>\n",
       "    <tr>\n",
       "      <th>44716</th>\n",
       "      <td>2022</td>\n",
       "      <td>1</td>\n",
       "      <td>Yuma</td>\n",
       "      <td>9.0</td>\n",
       "      <td>0.0</td>\n",
       "    </tr>\n",
       "    <tr>\n",
       "      <th>44717</th>\n",
       "      <td>2022</td>\n",
       "      <td>1</td>\n",
       "      <td>Yuma</td>\n",
       "      <td>0.0</td>\n",
       "      <td>0.0</td>\n",
       "    </tr>\n",
       "    <tr>\n",
       "      <th>44718</th>\n",
       "      <td>2022</td>\n",
       "      <td>1</td>\n",
       "      <td>Yuma</td>\n",
       "      <td>0.0</td>\n",
       "      <td>0.0</td>\n",
       "    </tr>\n",
       "    <tr>\n",
       "      <th>44719</th>\n",
       "      <td>2022</td>\n",
       "      <td>1</td>\n",
       "      <td>Yuma</td>\n",
       "      <td>17.0</td>\n",
       "      <td>0.0</td>\n",
       "    </tr>\n",
       "  </tbody>\n",
       "</table>\n",
       "</div>"
      ],
      "text/plain": [
       "       Year  Month County  Cases  Deaths\n",
       "44715  2022      1   Yuma   10.0     0.0\n",
       "44716  2022      1   Yuma    9.0     0.0\n",
       "44717  2022      1   Yuma    0.0     0.0\n",
       "44718  2022      1   Yuma    0.0     0.0\n",
       "44719  2022      1   Yuma   17.0     0.0"
      ]
     },
     "execution_count": 40,
     "metadata": {},
     "output_type": "execute_result"
    }
   ],
   "source": [
    "covid_df = pd.read_csv('co_county_covid.csv')\n",
    "covid_df.tail(5)"
   ]
  },
  {
   "cell_type": "markdown",
   "metadata": {},
   "source": [
    "Create a \"Raw NBCovert\" cell and for each dataset write down the column names they appear to have in common with at least one other dataset. (1 pt)"
   ]
  },
  {
   "cell_type": "raw",
   "metadata": {},
   "source": [
    "Year, Month, County, Deaths"
   ]
  },
  {
   "cell_type": "markdown",
   "metadata": {},
   "source": [
    "## Question 2: Load and concatenate the sales data (10 pts + EC)\n",
    "\n",
    "From your Finder (macOS) or File Explorer (Windows), unzip the \"co_cannabis_sales_recreational.zip\" file into a directory called \"co_cannabis_sales\". (1 pt)\n",
    "\n",
    "Use the `os` library to make a list of the files called `sales_files` in the \"co_cannabis_sales\" directory and display the contents of `sales_files`. (2 pts)"
   ]
  },
  {
   "cell_type": "code",
   "execution_count": 41,
   "metadata": {},
   "outputs": [
    {
     "data": {
      "text/plain": [
       "['2014_Recreational_sales.csv',\n",
       " '2015_Recreational_sales.csv',\n",
       " '2016_Recreational_sales.csv',\n",
       " '2017_Recreational_sales.csv',\n",
       " '2018_Recreational_sales.csv',\n",
       " '2019_Recreational_sales.csv',\n",
       " '2020_Recreational_sales.csv',\n",
       " '2021_Recreational_sales.csv']"
      ]
     },
     "execution_count": 41,
     "metadata": {},
     "output_type": "execute_result"
    }
   ],
   "source": [
    "sales_files = os.listdir('co_cannabis_sales')\n",
    "sales_files"
   ]
  },
  {
   "cell_type": "markdown",
   "metadata": {},
   "source": [
    "Write a loop to load each of the CSV files and store their DataFrames in a list or dict called `sales_dfs`. Print the length of `sales_dfs`. (3 pts)"
   ]
  },
  {
   "cell_type": "code",
   "execution_count": 42,
   "metadata": {},
   "outputs": [],
   "source": [
    "sales_dfs = []\n",
    "\n",
    "for file in os.listdir('co_cannabis_sales'):\n",
    "\n",
    "    sales_files = pd.read_csv('co_cannabis_sales/'+file)\n",
    "    sales_dfs.append(sales_files)"
   ]
  },
  {
   "cell_type": "code",
   "execution_count": 43,
   "metadata": {},
   "outputs": [
    {
     "data": {
      "text/plain": [
       "8"
      ]
     },
     "execution_count": 43,
     "metadata": {},
     "output_type": "execute_result"
    }
   ],
   "source": [
    "len(sales_dfs)"
   ]
  },
  {
   "cell_type": "markdown",
   "metadata": {},
   "source": [
    "Use the `concat` function in pandas to combine the `sales_dfs` object into a single DataFrame called `cannabis_df`. Print the `.shape` of `cannabis_df`. (2 pts)"
   ]
  },
  {
   "cell_type": "code",
   "execution_count": 44,
   "metadata": {},
   "outputs": [
    {
     "data": {
      "text/plain": [
       "(3290, 5)"
      ]
     },
     "execution_count": 44,
     "metadata": {},
     "output_type": "execute_result"
    }
   ],
   "source": [
    "cannabis_df = pd.concat(\n",
    "    objs = sales_dfs\n",
    ")\n",
    "cannabis_df.shape"
   ]
  },
  {
   "cell_type": "markdown",
   "metadata": {},
   "source": [
    "Clean up the columns if necessary so that the only columns are \"Year\", \"Month\", \"County\", \"Type\", and \"Sales\" and show the **last** 10 rows. (2 pts)"
   ]
  },
  {
   "cell_type": "code",
   "execution_count": 45,
   "metadata": {},
   "outputs": [
    {
     "data": {
      "text/html": [
       "<div>\n",
       "<style scoped>\n",
       "    .dataframe tbody tr th:only-of-type {\n",
       "        vertical-align: middle;\n",
       "    }\n",
       "\n",
       "    .dataframe tbody tr th {\n",
       "        vertical-align: top;\n",
       "    }\n",
       "\n",
       "    .dataframe thead th {\n",
       "        text-align: right;\n",
       "    }\n",
       "</style>\n",
       "<table border=\"1\" class=\"dataframe\">\n",
       "  <thead>\n",
       "    <tr style=\"text-align: right;\">\n",
       "      <th></th>\n",
       "      <th>Year</th>\n",
       "      <th>Month</th>\n",
       "      <th>County</th>\n",
       "      <th>Type</th>\n",
       "      <th>Sales</th>\n",
       "    </tr>\n",
       "  </thead>\n",
       "  <tbody>\n",
       "    <tr>\n",
       "      <th>430</th>\n",
       "      <td>2021</td>\n",
       "      <td>11</td>\n",
       "      <td>Park</td>\n",
       "      <td>Recreational</td>\n",
       "      <td>562593.0</td>\n",
       "    </tr>\n",
       "    <tr>\n",
       "      <th>431</th>\n",
       "      <td>2021</td>\n",
       "      <td>11</td>\n",
       "      <td>Pitkin</td>\n",
       "      <td>Recreational</td>\n",
       "      <td>705166.0</td>\n",
       "    </tr>\n",
       "    <tr>\n",
       "      <th>432</th>\n",
       "      <td>2021</td>\n",
       "      <td>11</td>\n",
       "      <td>Pueblo</td>\n",
       "      <td>Recreational</td>\n",
       "      <td>7805413.0</td>\n",
       "    </tr>\n",
       "    <tr>\n",
       "      <th>433</th>\n",
       "      <td>2021</td>\n",
       "      <td>11</td>\n",
       "      <td>Routt</td>\n",
       "      <td>Recreational</td>\n",
       "      <td>856374.0</td>\n",
       "    </tr>\n",
       "    <tr>\n",
       "      <th>434</th>\n",
       "      <td>2021</td>\n",
       "      <td>11</td>\n",
       "      <td>Saguache</td>\n",
       "      <td>Recreational</td>\n",
       "      <td>327629.0</td>\n",
       "    </tr>\n",
       "    <tr>\n",
       "      <th>435</th>\n",
       "      <td>2021</td>\n",
       "      <td>11</td>\n",
       "      <td>San Juan</td>\n",
       "      <td>Recreational</td>\n",
       "      <td>NaN</td>\n",
       "    </tr>\n",
       "    <tr>\n",
       "      <th>436</th>\n",
       "      <td>2021</td>\n",
       "      <td>11</td>\n",
       "      <td>San Miguel</td>\n",
       "      <td>Recreational</td>\n",
       "      <td>261423.0</td>\n",
       "    </tr>\n",
       "    <tr>\n",
       "      <th>437</th>\n",
       "      <td>2021</td>\n",
       "      <td>11</td>\n",
       "      <td>Sedgwick</td>\n",
       "      <td>Recreational</td>\n",
       "      <td>1424380.0</td>\n",
       "    </tr>\n",
       "    <tr>\n",
       "      <th>438</th>\n",
       "      <td>2021</td>\n",
       "      <td>11</td>\n",
       "      <td>Summit</td>\n",
       "      <td>Recreational</td>\n",
       "      <td>1891197.0</td>\n",
       "    </tr>\n",
       "    <tr>\n",
       "      <th>439</th>\n",
       "      <td>2021</td>\n",
       "      <td>11</td>\n",
       "      <td>Weld</td>\n",
       "      <td>Recreational</td>\n",
       "      <td>3079116.0</td>\n",
       "    </tr>\n",
       "  </tbody>\n",
       "</table>\n",
       "</div>"
      ],
      "text/plain": [
       "     Year  Month      County          Type      Sales\n",
       "430  2021     11        Park  Recreational   562593.0\n",
       "431  2021     11      Pitkin  Recreational   705166.0\n",
       "432  2021     11      Pueblo  Recreational  7805413.0\n",
       "433  2021     11       Routt  Recreational   856374.0\n",
       "434  2021     11    Saguache  Recreational   327629.0\n",
       "435  2021     11    San Juan  Recreational        NaN\n",
       "436  2021     11  San Miguel  Recreational   261423.0\n",
       "437  2021     11    Sedgwick  Recreational  1424380.0\n",
       "438  2021     11      Summit  Recreational  1891197.0\n",
       "439  2021     11        Weld  Recreational  3079116.0"
      ]
     },
     "execution_count": 45,
     "metadata": {},
     "output_type": "execute_result"
    }
   ],
   "source": [
    "# cannabis_df.columns = cannabis_df.iloc[0]\n",
    "cannabis_df.tail(10)"
   ]
  },
  {
   "cell_type": "markdown",
   "metadata": {},
   "source": [
    "\n",
    "**Extra Credit**: Use the `zipfile` ([docs](https://docs.python.org/3/library/zipfile.html) and [tutorial](https://www.datacamp.com/community/tutorials/zip-file)) and `io` ([docs](https://docs.python.org/3/library/io.html) and [huge debugging hint](https://pandas.pydata.org/pandas-docs/stable/user_guide/io.html#dealing-with-unicode-data)) libraries to load the zip file contents directly into a `sales_dfs` object. (3 pts EC)"
   ]
  },
  {
   "cell_type": "markdown",
   "metadata": {},
   "source": [
    "## Question 3: Calculate annual per capita sales by county (10 pts)\n",
    "\n",
    "Calculate the total sales per year and county, reset the index so you have columns for \"Year\", \"County\", and \"Sales, and store as `annual_county_sales_df`. (2 pts)\n"
   ]
  },
  {
   "cell_type": "code",
   "execution_count": 46,
   "metadata": {},
   "outputs": [
    {
     "data": {
      "text/html": [
       "<div>\n",
       "<style scoped>\n",
       "    .dataframe tbody tr th:only-of-type {\n",
       "        vertical-align: middle;\n",
       "    }\n",
       "\n",
       "    .dataframe tbody tr th {\n",
       "        vertical-align: top;\n",
       "    }\n",
       "\n",
       "    .dataframe thead th {\n",
       "        text-align: right;\n",
       "    }\n",
       "</style>\n",
       "<table border=\"1\" class=\"dataframe\">\n",
       "  <thead>\n",
       "    <tr style=\"text-align: right;\">\n",
       "      <th></th>\n",
       "      <th>Year</th>\n",
       "      <th>County</th>\n",
       "      <th>Sales</th>\n",
       "    </tr>\n",
       "  </thead>\n",
       "  <tbody>\n",
       "    <tr>\n",
       "      <th>0</th>\n",
       "      <td>2014</td>\n",
       "      <td>Adams</td>\n",
       "      <td>2749908.0</td>\n",
       "    </tr>\n",
       "    <tr>\n",
       "      <th>1</th>\n",
       "      <td>2014</td>\n",
       "      <td>Arapahoe</td>\n",
       "      <td>2221928.0</td>\n",
       "    </tr>\n",
       "    <tr>\n",
       "      <th>2</th>\n",
       "      <td>2014</td>\n",
       "      <td>Boulder</td>\n",
       "      <td>28598156.0</td>\n",
       "    </tr>\n",
       "    <tr>\n",
       "      <th>3</th>\n",
       "      <td>2014</td>\n",
       "      <td>Clear Creek</td>\n",
       "      <td>4853720.0</td>\n",
       "    </tr>\n",
       "    <tr>\n",
       "      <th>4</th>\n",
       "      <td>2014</td>\n",
       "      <td>Denver</td>\n",
       "      <td>151349554.0</td>\n",
       "    </tr>\n",
       "    <tr>\n",
       "      <th>...</th>\n",
       "      <td>...</td>\n",
       "      <td>...</td>\n",
       "      <td>...</td>\n",
       "    </tr>\n",
       "    <tr>\n",
       "      <th>235</th>\n",
       "      <td>2021</td>\n",
       "      <td>San Juan</td>\n",
       "      <td>135381.0</td>\n",
       "    </tr>\n",
       "    <tr>\n",
       "      <th>236</th>\n",
       "      <td>2021</td>\n",
       "      <td>San Miguel</td>\n",
       "      <td>5368697.0</td>\n",
       "    </tr>\n",
       "    <tr>\n",
       "      <th>237</th>\n",
       "      <td>2021</td>\n",
       "      <td>Sedgwick</td>\n",
       "      <td>16977820.0</td>\n",
       "    </tr>\n",
       "    <tr>\n",
       "      <th>238</th>\n",
       "      <td>2021</td>\n",
       "      <td>Summit</td>\n",
       "      <td>27733317.0</td>\n",
       "    </tr>\n",
       "    <tr>\n",
       "      <th>239</th>\n",
       "      <td>2021</td>\n",
       "      <td>Weld</td>\n",
       "      <td>35651463.0</td>\n",
       "    </tr>\n",
       "  </tbody>\n",
       "</table>\n",
       "<p>240 rows × 3 columns</p>\n",
       "</div>"
      ],
      "text/plain": [
       "     Year       County        Sales\n",
       "0    2014        Adams    2749908.0\n",
       "1    2014     Arapahoe    2221928.0\n",
       "2    2014      Boulder   28598156.0\n",
       "3    2014  Clear Creek    4853720.0\n",
       "4    2014       Denver  151349554.0\n",
       "..    ...          ...          ...\n",
       "235  2021     San Juan     135381.0\n",
       "236  2021   San Miguel    5368697.0\n",
       "237  2021     Sedgwick   16977820.0\n",
       "238  2021       Summit   27733317.0\n",
       "239  2021         Weld   35651463.0\n",
       "\n",
       "[240 rows x 3 columns]"
      ]
     },
     "execution_count": 46,
     "metadata": {},
     "output_type": "execute_result"
    }
   ],
   "source": [
    "cannabis_df.dropna(inplace=True)\n",
    "cannabis_df.reset_index(drop=True,inplace=True)\n",
    "annual_county_sales_df = cannabis_df.groupby(['Year','County'])[['Sales']].sum()\n",
    "annual_county_sales_df.reset_index(level=['Year', 'County'],inplace=True)\n",
    "annual_county_sales_df"
   ]
  },
  {
   "cell_type": "markdown",
   "metadata": {},
   "source": [
    "Join the `annual_county_sales_df` and `demographics_df` DataFrames together into `sales_demographics_df` using an appropriate combination of keys. (HINT: You will need to modify a column in `annual_county_sales_df` first.) (3 pts)"
   ]
  },
  {
   "cell_type": "code",
   "execution_count": 47,
   "metadata": {},
   "outputs": [],
   "source": [
    "annual_county_sales_df['County'] = annual_county_sales_df['County'].apply(lambda x: x+' County')\n",
    "demographics_df.rename(columns={'YEAR': 'Year', 'COUNTY': 'County'},inplace=True)"
   ]
  },
  {
   "cell_type": "code",
   "execution_count": 50,
   "metadata": {},
   "outputs": [],
   "source": [
    "a = demographics_df[['Year','County']].values.tolist()\n",
    "b = annual_county_sales_df[['Year','County','Sales']].values.tolist()\n",
    "def find(y,c):\n",
    "    for y1,c1,s in b:\n",
    "        if y==y1 and c==c1:\n",
    "            return s\n",
    "    return float('NaN')\n",
    "\n",
    "mylst = []\n",
    "for y,c in a:\n",
    "    mylst.append(find(y,c))\n",
    "    \n",
    "demographics_df['Sales'] = mylst"
   ]
  },
  {
   "cell_type": "markdown",
   "metadata": {},
   "source": [
    "Calculate the annual county-level sales per person and store it as a column \"Per Capita\" in `sales_demographics_df`. Print the average value of the \"Per Capita\" column. (2 pts)"
   ]
  },
  {
   "cell_type": "code",
   "execution_count": 55,
   "metadata": {},
   "outputs": [],
   "source": [
    "demographics_df.dropna(inplace=True)\n",
    "demographics_df.reset_index(drop=True,inplace=True)"
   ]
  },
  {
   "cell_type": "code",
   "execution_count": 59,
   "metadata": {},
   "outputs": [],
   "source": [
    "demographics_df['Per Capita'] = demographics_df['Sales'] / demographics_df['Total Population']"
   ]
  },
  {
   "cell_type": "code",
   "execution_count": 60,
   "metadata": {},
   "outputs": [
    {
     "name": "stdout",
     "output_type": "stream",
     "text": [
      "Average: 473.51379578830563\n"
     ]
    }
   ],
   "source": [
    "print('Average:',demographics_df['Per Capita'].mean())"
   ]
  },
  {
   "cell_type": "markdown",
   "metadata": {},
   "source": [
    "Display the 10 county-years with the **most** sales per capita as a DataFrame with only \"Year\", \"County\", and \"Per Capita\" columns. (2 pts)"
   ]
  },
  {
   "cell_type": "code",
   "execution_count": 66,
   "metadata": {},
   "outputs": [
    {
     "data": {
      "text/html": [
       "<div>\n",
       "<style scoped>\n",
       "    .dataframe tbody tr th:only-of-type {\n",
       "        vertical-align: middle;\n",
       "    }\n",
       "\n",
       "    .dataframe tbody tr th {\n",
       "        vertical-align: top;\n",
       "    }\n",
       "\n",
       "    .dataframe thead th {\n",
       "        text-align: right;\n",
       "    }\n",
       "</style>\n",
       "<table border=\"1\" class=\"dataframe\">\n",
       "  <thead>\n",
       "    <tr style=\"text-align: right;\">\n",
       "      <th></th>\n",
       "      <th>Year</th>\n",
       "      <th>County</th>\n",
       "      <th>Per Capita</th>\n",
       "    </tr>\n",
       "  </thead>\n",
       "  <tbody>\n",
       "    <tr>\n",
       "      <th>122</th>\n",
       "      <td>2020</td>\n",
       "      <td>Las Animas County</td>\n",
       "      <td>4367.547802</td>\n",
       "    </tr>\n",
       "    <tr>\n",
       "      <th>121</th>\n",
       "      <td>2019</td>\n",
       "      <td>Las Animas County</td>\n",
       "      <td>3811.721847</td>\n",
       "    </tr>\n",
       "    <tr>\n",
       "      <th>120</th>\n",
       "      <td>2018</td>\n",
       "      <td>Las Animas County</td>\n",
       "      <td>3418.409872</td>\n",
       "    </tr>\n",
       "    <tr>\n",
       "      <th>119</th>\n",
       "      <td>2017</td>\n",
       "      <td>Las Animas County</td>\n",
       "      <td>2963.734089</td>\n",
       "    </tr>\n",
       "    <tr>\n",
       "      <th>147</th>\n",
       "      <td>2020</td>\n",
       "      <td>Ouray County</td>\n",
       "      <td>1933.874385</td>\n",
       "    </tr>\n",
       "    <tr>\n",
       "      <th>47</th>\n",
       "      <td>2020</td>\n",
       "      <td>Costilla County</td>\n",
       "      <td>1753.943472</td>\n",
       "    </tr>\n",
       "    <tr>\n",
       "      <th>188</th>\n",
       "      <td>2020</td>\n",
       "      <td>Sedgwick County</td>\n",
       "      <td>1527.650062</td>\n",
       "    </tr>\n",
       "    <tr>\n",
       "      <th>118</th>\n",
       "      <td>2016</td>\n",
       "      <td>Las Animas County</td>\n",
       "      <td>1439.451026</td>\n",
       "    </tr>\n",
       "    <tr>\n",
       "      <th>146</th>\n",
       "      <td>2019</td>\n",
       "      <td>Ouray County</td>\n",
       "      <td>1406.780233</td>\n",
       "    </tr>\n",
       "    <tr>\n",
       "      <th>46</th>\n",
       "      <td>2019</td>\n",
       "      <td>Costilla County</td>\n",
       "      <td>1351.303913</td>\n",
       "    </tr>\n",
       "  </tbody>\n",
       "</table>\n",
       "</div>"
      ],
      "text/plain": [
       "     Year             County   Per Capita\n",
       "122  2020  Las Animas County  4367.547802\n",
       "121  2019  Las Animas County  3811.721847\n",
       "120  2018  Las Animas County  3418.409872\n",
       "119  2017  Las Animas County  2963.734089\n",
       "147  2020       Ouray County  1933.874385\n",
       "47   2020    Costilla County  1753.943472\n",
       "188  2020    Sedgwick County  1527.650062\n",
       "118  2016  Las Animas County  1439.451026\n",
       "146  2019       Ouray County  1406.780233\n",
       "46   2019    Costilla County  1351.303913"
      ]
     },
     "execution_count": 66,
     "metadata": {},
     "output_type": "execute_result"
    }
   ],
   "source": [
    "demographics_df[['Year','County','Per Capita']].sort_values('Per Capita',ascending=False).head(10)"
   ]
  },
  {
   "cell_type": "markdown",
   "metadata": {},
   "source": [
    "Create a \"Raw NBConvert\" cell and write at least two sentences describing, interpreting, comparing, *etc*. some interesting, surprising, *etc*. implications about these findings. (1 pt)"
   ]
  },
  {
   "cell_type": "raw",
   "metadata": {},
   "source": [
    "Las Animas County is improving their Per Capita sales  exponentially"
   ]
  },
  {
   "cell_type": "markdown",
   "metadata": {},
   "source": [
    "## Question 4: Calculate monthly per capita crime rates by county (10 pts)\n",
    "\n",
    "Calculate the total crimes per year for every county, reset the index so you have columns for \"Year\", \"County\", \"Crimes Against Person\", \"Crimes Against Property\", \"Drug Equipment Violations\", and \"Drug/Narcotic Violations\", and save the aggregated data as `annual_county_crimes_df`. (2 pts)"
   ]
  },
  {
   "cell_type": "code",
   "execution_count": 78,
   "metadata": {},
   "outputs": [
    {
     "data": {
      "text/html": [
       "<div>\n",
       "<style scoped>\n",
       "    .dataframe tbody tr th:only-of-type {\n",
       "        vertical-align: middle;\n",
       "    }\n",
       "\n",
       "    .dataframe tbody tr th {\n",
       "        vertical-align: top;\n",
       "    }\n",
       "\n",
       "    .dataframe thead th {\n",
       "        text-align: right;\n",
       "    }\n",
       "</style>\n",
       "<table border=\"1\" class=\"dataframe\">\n",
       "  <thead>\n",
       "    <tr style=\"text-align: right;\">\n",
       "      <th></th>\n",
       "      <th></th>\n",
       "      <th>Total_crime</th>\n",
       "    </tr>\n",
       "    <tr>\n",
       "      <th>Year</th>\n",
       "      <th>County</th>\n",
       "      <th></th>\n",
       "    </tr>\n",
       "  </thead>\n",
       "  <tbody>\n",
       "    <tr>\n",
       "      <th rowspan=\"5\" valign=\"top\">2008</th>\n",
       "      <th>Adams County</th>\n",
       "      <td>45391.0</td>\n",
       "    </tr>\n",
       "    <tr>\n",
       "      <th>Alamosa County</th>\n",
       "      <td>81.0</td>\n",
       "    </tr>\n",
       "    <tr>\n",
       "      <th>Arapahoe County</th>\n",
       "      <td>10179.0</td>\n",
       "    </tr>\n",
       "    <tr>\n",
       "      <th>Archuleta County</th>\n",
       "      <td>245.0</td>\n",
       "    </tr>\n",
       "    <tr>\n",
       "      <th>Baca County</th>\n",
       "      <td>8.0</td>\n",
       "    </tr>\n",
       "    <tr>\n",
       "      <th>...</th>\n",
       "      <th>...</th>\n",
       "      <td>...</td>\n",
       "    </tr>\n",
       "    <tr>\n",
       "      <th rowspan=\"5\" valign=\"top\">2021</th>\n",
       "      <th>Summit County</th>\n",
       "      <td>1421.0</td>\n",
       "    </tr>\n",
       "    <tr>\n",
       "      <th>Teller County</th>\n",
       "      <td>888.0</td>\n",
       "    </tr>\n",
       "    <tr>\n",
       "      <th>Washington County</th>\n",
       "      <td>247.0</td>\n",
       "    </tr>\n",
       "    <tr>\n",
       "      <th>Weld County</th>\n",
       "      <td>13876.0</td>\n",
       "    </tr>\n",
       "    <tr>\n",
       "      <th>Yuma County</th>\n",
       "      <td>109.0</td>\n",
       "    </tr>\n",
       "  </tbody>\n",
       "</table>\n",
       "<p>924 rows × 1 columns</p>\n",
       "</div>"
      ],
      "text/plain": [
       "                        Total_crime\n",
       "Year County                        \n",
       "2008 Adams County           45391.0\n",
       "     Alamosa County            81.0\n",
       "     Arapahoe County        10179.0\n",
       "     Archuleta County         245.0\n",
       "     Baca County                8.0\n",
       "...                             ...\n",
       "2021 Summit County           1421.0\n",
       "     Teller County            888.0\n",
       "     Washington County        247.0\n",
       "     Weld County            13876.0\n",
       "     Yuma County              109.0\n",
       "\n",
       "[924 rows x 1 columns]"
      ]
     },
     "execution_count": 78,
     "metadata": {},
     "output_type": "execute_result"
    }
   ],
   "source": [
    "annual_county_crimes_df = crimes_df[[\"Year\",'County','Crimes Against Person',\n",
    "                                     'Crimes Against Property',\n",
    "                                    'Drug Equipment Violations',\n",
    "                                    'Drug/Narcotic Violations']]\n",
    "\n",
    "annual_county_crimes_df['Total_crime'] = annual_county_crimes_df['Crimes Against Person'] + annual_county_crimes_df['Crimes Against Property']\n",
    "annual_county_crimes_df = annual_county_crimes_df.groupby(['Year','County'])['Total_crime'].sum()\n",
    "annual_county_crimes_df = pd.DataFrame(annual_county_crimes_df)\n",
    "annual_county_crimes_df"
   ]
  },
  {
   "cell_type": "markdown",
   "metadata": {},
   "source": [
    "Do set difference tests on the counties in `demographics_df` and `annual_county_crimes_df`. What counties are present in one DataFrame that are not present in the other? Create a \"Raw NBConvert\" cell and write a sentence or two about how the presence of difference sets of counties will influence your data cleaning and/or merging strategy. (2 pts)"
   ]
  },
  {
   "cell_type": "code",
   "execution_count": null,
   "metadata": {},
   "outputs": [],
   "source": []
  },
  {
   "cell_type": "markdown",
   "metadata": {},
   "source": [
    "Join/merge the `annual_county_crimes_df` and `demographics_df` DataFrames together into `crimes_demographics_df` using an appropriate combination of keys. Print the number of rows in the parent DataFrames and the joined DataFrame. Create a \"Raw NBConvert\" cell and write a sentence or two about why the join was successful based on the number of rows. (3 pts)"
   ]
  },
  {
   "cell_type": "code",
   "execution_count": null,
   "metadata": {},
   "outputs": [],
   "source": []
  },
  {
   "cell_type": "markdown",
   "metadata": {},
   "source": [
    "Use the `crimes_demographics_df` DataFrame to calculate the \"Drug/Narcotic Violations\" per capita and save as a new column \"Narcotic Violations PC\". Display the 10 county-years with the **most** per-capita narcotics violations as a DataFrame with only the \"County\", \"Year\", and \"Narcotic Violations PC\" columns. (2 pts)"
   ]
  },
  {
   "cell_type": "code",
   "execution_count": null,
   "metadata": {},
   "outputs": [],
   "source": []
  },
  {
   "cell_type": "markdown",
   "metadata": {},
   "source": [
    "Create a \"Raw NBConvert\" cell and write at least two sentences describing, interpreting, comparing, *etc*. some interesting, surprising, *etc*. implications about these findings. (1 pt)"
   ]
  },
  {
   "cell_type": "code",
   "execution_count": null,
   "metadata": {},
   "outputs": [],
   "source": []
  },
  {
   "cell_type": "markdown",
   "metadata": {},
   "source": [
    "## Question 5: Caluclate monthly per capita COVID rates by county (10 pts)\n",
    "\n",
    "Calculate the total COVID-19 deaths and cases per year for every county, reset the index so you have columns for \"Year\", \"County\", \"Cases\", and \"Deaths\", and save the aggregated data as `annual_county_covid_df`. (2 pts)"
   ]
  },
  {
   "cell_type": "code",
   "execution_count": null,
   "metadata": {},
   "outputs": [],
   "source": []
  },
  {
   "cell_type": "markdown",
   "metadata": {},
   "source": [
    "Do set difference tests on the counties in `demographics_df` and `annual_county_covid_df`. What counties are present in one DataFrame that are not present in the other? (2 pts)"
   ]
  },
  {
   "cell_type": "code",
   "execution_count": null,
   "metadata": {},
   "outputs": [],
   "source": []
  },
  {
   "cell_type": "markdown",
   "metadata": {},
   "source": [
    "Join/merge the `annual_county_covid_df` and `demographics_df` DataFrames together into `covid_demographics_df` using an appropriate combination of keys. Print the number of rows in the parent DataFrames and the joined DataFrame. Create a \"Raw NBConvert\" cell and write a sentence or two about why the join was successful based on the number of rows. (3 pts)"
   ]
  },
  {
   "cell_type": "code",
   "execution_count": null,
   "metadata": {},
   "outputs": [],
   "source": []
  },
  {
   "cell_type": "markdown",
   "metadata": {},
   "source": [
    "Use the `covid_demographics_df` DataFrame to calculate the \"Cases\" per capita and save as a new column \"Cases PC\". Display the 10 county-years with the **most** per-capita cases as a DataFrame with only the \"County\", \"Year\", and \"Cases PC\" columns. (2 pts)"
   ]
  },
  {
   "cell_type": "code",
   "execution_count": null,
   "metadata": {},
   "outputs": [],
   "source": []
  },
  {
   "cell_type": "markdown",
   "metadata": {},
   "source": [
    "Create a \"Raw NBConvert\" cell and write at least two sentences describing, interpreting, comparing, *etc*. some interesting, surprising, *etc*. implications about these findings. (1 pt)"
   ]
  },
  {
   "cell_type": "code",
   "execution_count": null,
   "metadata": {},
   "outputs": [],
   "source": []
  },
  {
   "cell_type": "markdown",
   "metadata": {},
   "source": [
    "## Appendix\n",
    "\n",
    "This is documentation of how I cleaned up the data for use in the assignment. There's nothing you need to do here for the assignment, but I think there is some valuable patterns and examples to use. There's definitely some hints how to do things for the assignment here as well.\n",
    "\n",
    "### MED monthly sales reports\n",
    "Scraping the Color Marijuana Enforcement Division's [Marijuana Sales Reports](https://cdor.colorado.gov/data-and-reports/marijuana-data/marijuana-sales-reports). The monthly reports with county-level data are stored as Excel files or Google Sheets. I've downloaded them all (automatically of course!) and they're in this zip file."
   ]
  },
  {
   "cell_type": "code",
   "execution_count": null,
   "metadata": {},
   "outputs": [],
   "source": [
    "# https://stackoverflow.com/a/10909016/1574687\n",
    "import pandas as pd\n",
    "from zipfile import ZipFile\n",
    "\n",
    "input_zip = ZipFile('ColoradoCannabisSalesReport.zip')\n",
    "file_dict = {'20{1}-{0}'.format(name[0:2],name[2:4]): input_zip.read(name) for name in input_zip.namelist()}"
   ]
  },
  {
   "cell_type": "markdown",
   "metadata": {},
   "source": [
    "I wrote this function to clean the files up into an easier-to-read format. Yes, it was a big pain-in-the-ass. It's also something you may find yourself having to do to convert ideosyncratic spreadsheet designs into usable data at some point."
   ]
  },
  {
   "cell_type": "code",
   "execution_count": null,
   "metadata": {},
   "outputs": [],
   "source": [
    "def clean_excel(_df):\n",
    "    \n",
    "    # Drop first 5 rows\n",
    "    _df = _df.drop(index=range(5)).reset_index(drop=True)\n",
    "    \n",
    "    # Drop empty column\n",
    "    _df = _df.dropna(how='all',axis=1)\n",
    "    \n",
    "    # Rename columns\n",
    "    _df.columns = ['Med County','Med Sales','Rec County','Rec Sales']\n",
    "    \n",
    "    # Find row for last medical and recreational sales\n",
    "    try:\n",
    "        last_med = _df[_df['Med County'].str.contains('Sum of NR Counties').fillna(False)].first_valid_index() - 1\n",
    "        last_rec = _df[_df['Rec County'].str.contains('Sum of NR Counties').fillna(False)].first_valid_index() - 1\n",
    "    except TypeError:\n",
    "        last_med = _df[_df['Med County'].str.contains('Total ³').fillna(False)].first_valid_index() - 1\n",
    "        last_rec = _df[_df['Rec County'].str.contains('Total ³').fillna(False)].first_valid_index() - 1\n",
    "\n",
    "    # Slice to only those values\n",
    "    med_sales = _df.loc[:last_med,['Med County','Med Sales']]\n",
    "    rec_sales = _df.loc[:last_rec,['Rec County','Rec Sales']]\n",
    "    \n",
    "    # Rename columns\n",
    "    med_sales.columns = ['County','Sales']\n",
    "    rec_sales.columns = ['County','Sales']\n",
    "\n",
    "    # Add type\n",
    "    med_sales['Type'] = 'Medical'\n",
    "    rec_sales['Type'] = 'Recreational'\n",
    "    \n",
    "    # Concatenate\n",
    "    combined_df = pd.concat([med_sales,rec_sales],ignore_index=True)\n",
    "    combined_df = combined_df.replace({'Sales':{'NR':np.nan}})\n",
    "\n",
    "    return combined_df"
   ]
  },
  {
   "cell_type": "markdown",
   "metadata": {},
   "source": [
    "Loop through the files, read into a DataFrame, run the clean up function, save to `cleaned_files`."
   ]
  },
  {
   "cell_type": "code",
   "execution_count": null,
   "metadata": {},
   "outputs": [],
   "source": [
    "# Empty container to store results\n",
    "cleaned_files = {}\n",
    "\n",
    "# Iterate through the dates and files\n",
    "for date,file in file_dict.items():\n",
    "    \n",
    "    # Try to clean the file and store in the cleaned_files dict\n",
    "    try:\n",
    "        cleaned_files[date] = clean_excel(pd.read_excel(file))\n",
    "        \n",
    "    # On an error, print the date to check\n",
    "    except:\n",
    "        print(date)\n",
    "        pass\n",
    "\n",
    "# Inspect\n",
    "cleaned_files['2021-05'].head()"
   ]
  },
  {
   "cell_type": "markdown",
   "metadata": {},
   "source": [
    "Concatenate results together."
   ]
  },
  {
   "cell_type": "code",
   "execution_count": null,
   "metadata": {},
   "outputs": [],
   "source": [
    "co_cannabis_sales_df = pd.concat(\n",
    "    objs = cleaned_files.values(), \n",
    "    keys = pd.PeriodIndex(cleaned_files.keys(),freq='1M')\n",
    ")\n",
    "\n",
    "# Clean up index\n",
    "co_cannabis_sales_df = co_cannabis_sales_df.reset_index(level=0).reset_index(drop=True)\n",
    "\n",
    "co_cannabis_sales_df['Year'] = co_cannabis_sales_df['level_0'].dt.year\n",
    "co_cannabis_sales_df['Month'] = co_cannabis_sales_df['level_0'].dt.month\n",
    "\n",
    "# Drop former index column, reorder columns\n",
    "co_cannabis_sales_df = co_cannabis_sales_df.drop('level_0',axis=1)[['Year','Month','County','Type','Sales']]\n",
    "\n",
    "# Write to disk\n",
    "co_cannabis_sales_df.to_csv('colorado_cannabis_sales.csv',index=False)"
   ]
  },
  {
   "cell_type": "markdown",
   "metadata": {},
   "source": [
    "Groupby Year and Type and write each baby DataFrame out to CSV."
   ]
  },
  {
   "cell_type": "code",
   "execution_count": null,
   "metadata": {},
   "outputs": [],
   "source": [
    "gb_year_type = co_cannabis_sales_df.groupby(['Year','Type'])\n",
    "\n",
    "for group in gb_year_type.groups.keys():\n",
    "    _df = gb_year_type.get_group(group)\n",
    "    _df.to_csv(\"{0}_{1}_sales.csv\".format(*group),index=False)"
   ]
  },
  {
   "cell_type": "markdown",
   "metadata": {},
   "source": [
    "### COVID-19 county case data\n",
    "\n",
    "Using the NYTimes's [covid-19-data](https://github.com/nytimes/covid-19-data) repository. "
   ]
  },
  {
   "cell_type": "code",
   "execution_count": null,
   "metadata": {},
   "outputs": [],
   "source": [
    "# Load data\n",
    "allcovid_df = pd.read_csv('covid19_counties.csv',parse_dates=['date'])\n",
    "\n",
    "# Rename columns\n",
    "allcovid_df.rename(columns={\n",
    "    'county':'County',\n",
    "    'deaths':'Deaths',\n",
    "    'cases':'Cases',\n",
    "    'state':'State',\n",
    "    'date':'Date'\n",
    "},inplace=True)\n",
    "\n",
    "# Filter to Colorado\n",
    "colorado_covid = allcovid_df.copy().loc[allcovid_df['State'] == 'Colorado',:]"
   ]
  },
  {
   "cell_type": "markdown",
   "metadata": {},
   "source": [
    "The data is reported in cumulative numbers. We want daily numbers. Pivot, reindex, compute diffs on county groups, and clean-up."
   ]
  },
  {
   "cell_type": "code",
   "execution_count": null,
   "metadata": {},
   "outputs": [],
   "source": [
    "# Make a pivot table of results\n",
    "co_covid_pivot = pd.pivot_table(\n",
    "    data = colorado_covid,\n",
    "    index = ['Date','County'],\n",
    "    values = ['Cases','Deaths']\n",
    ")\n",
    "\n",
    "# Create a new MultiIndex for March 1 through today at a daily frequency for each county\n",
    "dates = pd.date_range('2020-03-01','2022-01-17',freq='D')\n",
    "counties = colorado_covid['County'].unique()\n",
    "new_ix = pd.MultiIndex.from_product([dates,counties],names=['Date','County'])\n",
    "\n",
    "# Reindex the data\n",
    "co_covid_pivot = co_covid_pivot.reindex(new_ix)\n",
    "\n",
    "# Propagate previous values forward and then fill remaining missing data with 0s\n",
    "co_covid_pivot = co_covid_pivot.fillna(method='ffill').fillna(0).reset_index()\n",
    "\n",
    "# Groupby county and compute daily diffs in cumulative numbers: these are the new daily cases and deaths\n",
    "co_covid_pivot[['New cases','New deaths']] = co_covid_pivot.groupby('County')[['Cases','Deaths']].diff().fillna(0)\n",
    "\n",
    "# Sort and cleanup\n",
    "co_covid_pivot = co_covid_pivot.sort_values(['County','Date']).reset_index(drop=True)"
   ]
  },
  {
   "cell_type": "markdown",
   "metadata": {},
   "source": [
    "Extract year and month information, drop old cumulative numbers, rename new daily numbers to old column names, write to disk."
   ]
  },
  {
   "cell_type": "code",
   "execution_count": null,
   "metadata": {},
   "outputs": [],
   "source": [
    "# Extract month and date\n",
    "co_covid_pivot.loc[:,'Month'] = co_covid_pivot.loc[:,'Date'].dt.month\n",
    "co_covid_pivot.loc[:,'Year'] = co_covid_pivot.loc[:,'Date'].dt.year\n",
    "\n",
    "# Clean up\n",
    "co_covid_pivot.drop(columns=['Cases','Deaths'],inplace=True)\n",
    "co_covid_pivot.rename(columns={'New cases':'Cases','New deaths':'Deaths'},inplace=True)\n",
    "\n",
    "# Write to disk\n",
    "co_covid_pivot[['Year','Month','County','Cases','Deaths']].to_csv('co_county_covid.csv',index=False)"
   ]
  },
  {
   "cell_type": "markdown",
   "metadata": {},
   "source": [
    "### Reshape county crimes data"
   ]
  },
  {
   "cell_type": "code",
   "execution_count": null,
   "metadata": {},
   "outputs": [],
   "source": [
    "# Read data in, skip bad headers, use only the first 5 columns\n",
    "crimes_df = pd.read_csv('cbi_crime_month_county.csv',header=3,usecols=range(5))\n",
    "\n",
    "# Reshape the data\n",
    "crimes_df = crimes_df.set_index(['Jurisdiction by Geography','Incident Date','Incident Month','Offense Type'])['Number of Crimes'].unstack(3).reset_index()\n",
    "\n",
    "# Rename columns\n",
    "crimes_df.rename(columns={\n",
    "    'Jurisdiction by Geography':'County',\n",
    "    'Incident Date':'Year',\n",
    "    'Incident Month':'Month'\n",
    "},inplace=True)\n",
    "\n",
    "# Clean up column names\n",
    "crimes_df.columns.name = None\n",
    "\n",
    "# Write to disk\n",
    "crimes_df.to_csv('co_county_crimes.csv',index=False)"
   ]
  },
  {
   "cell_type": "code",
   "execution_count": null,
   "metadata": {},
   "outputs": [],
   "source": []
  }
 ],
 "metadata": {
  "kernelspec": {
   "display_name": "Python 3",
   "language": "python",
   "name": "python3"
  },
  "language_info": {
   "codemirror_mode": {
    "name": "ipython",
    "version": 3
   },
   "file_extension": ".py",
   "mimetype": "text/x-python",
   "name": "python",
   "nbconvert_exporter": "python",
   "pygments_lexer": "ipython3",
   "version": "3.8.5"
  }
 },
 "nbformat": 4,
 "nbformat_minor": 5
}
