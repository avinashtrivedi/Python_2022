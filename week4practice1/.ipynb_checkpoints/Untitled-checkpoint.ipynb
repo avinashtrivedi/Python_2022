{
 "cells": [
  {
   "cell_type": "code",
   "execution_count": 4,
   "id": "4c49675e",
   "metadata": {},
   "outputs": [],
   "source": [
    "# %load problem1.py\n",
    "#Write a program that asks a user for 3 inputs - the month, the day of the month, and the year. All inputs must be numeric. \n",
    "#Next, write a function to validate each input and another that will accept three parameters - the month, the day of the month, and the year. The function should return a string of date information of the form\n",
    "#\"month/day of month/year\" Thus, for a month of 2, a day of the month as 22, and a year of 2050, the return should be: 2/22/2050\n",
    "# Store the functions in their own file. Next, create another file that you will use to test your new functions.\n",
    "# Write a test case class and create methods on it to ensure that the functions do what they are supposed to do.\n",
    "# Make sure that when you write your class that you run it and your test passes.\n",
    "\n",
    "\n",
    "# CODE\n",
    "\n",
    "def get_data():\n",
    "    \"\"\"Get \"\"\"\n",
    "    \n",
    "    ret_mnth = input(\"Please enter month: \")\n",
    "    ret_day = input(\"Please enter the day of the month: \")\n",
    "    ret_year = input(\"Please enter Year: \")\n",
    "\n",
    "    x = validate(ret_mnth,ret_day,ret_year)\n",
    "    if x:\n",
    "        return print_date(ret_mnth,ret_day,ret_year)\n",
    "    else:\n",
    "        return False\n",
    "\n",
    "def validate(mnth,day,year):\n",
    "    \"\"\"Validates whether or not \"\"\"\n",
    "    info = [31,28,31,30,31,30,31,31,30,31,30,31]\n",
    "    \n",
    "    mnth = mnth.strip()\n",
    "    day = day.strip()\n",
    "    year = year.strip()\n",
    "    \n",
    "    if mnth.isnumeric() and day.isnumeric() and year.isnumeric():\n",
    "        if int(mnth)<=12:\n",
    "            if int(day)<=info[int(mnth)-1]:\n",
    "                return True\n",
    "    return False\n",
    "\n",
    "def print_date(mnth,day,year):\n",
    "    # 2/22/2050\n",
    "    create_date = mnth + '/' + day + '/' + year\n",
    "    return create_date\n",
    "\n",
    "get_data()"
   ]
  }
 ],
 "metadata": {
  "kernelspec": {
   "display_name": "Python 3 (ipykernel)",
   "language": "python",
   "name": "python3"
  },
  "language_info": {
   "codemirror_mode": {
    "name": "ipython",
    "version": 3
   },
   "file_extension": ".py",
   "mimetype": "text/x-python",
   "name": "python",
   "nbconvert_exporter": "python",
   "pygments_lexer": "ipython3",
   "version": "3.9.12"
  }
 },
 "nbformat": 4,
 "nbformat_minor": 5
}
