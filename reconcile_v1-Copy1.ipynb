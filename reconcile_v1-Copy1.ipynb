{
 "cells": [
  {
   "cell_type": "code",
   "execution_count": 1,
   "id": "d8bddcf7",
   "metadata": {},
   "outputs": [],
   "source": [
    "import pandas as pd\n",
    "import numpy as np\n",
    "import datetime\n",
    "import warnings\n",
    "warnings.filterwarnings('ignore')\n",
    "\n",
    "df = pd.read_csv(\"D:\\OneDrive - NITT\\Custom_Download\\Abstimmung_1433_3_monts.csv\",\n",
    "                 delimiter=';',encoding='ANSI')\n",
    "shop_number = df[df['KST']!=0]['KST'].unique()"
   ]
  },
  {
   "cell_type": "code",
   "execution_count": 2,
   "id": "b4412553",
   "metadata": {},
   "outputs": [
    {
     "data": {
      "text/plain": [
       "(1595, 8)"
      ]
     },
     "execution_count": 2,
     "metadata": {},
     "output_type": "execute_result"
    }
   ],
   "source": [
    "df.shape"
   ]
  },
  {
   "cell_type": "code",
   "execution_count": 3,
   "id": "3788883c",
   "metadata": {},
   "outputs": [
    {
     "data": {
      "text/plain": [
       "27"
      ]
     },
     "execution_count": 3,
     "metadata": {},
     "output_type": "execute_result"
    }
   ],
   "source": [
    "len(shop_number)"
   ]
  },
  {
   "cell_type": "code",
   "execution_count": 4,
   "id": "2670b4b0",
   "metadata": {},
   "outputs": [],
   "source": [
    "def get_index(df,date,promised_amount,no_loopup_days=5):\n",
    "    payment = df[['DATE','Haben']]\n",
    "    offset = date + datetime.timedelta(days=no_loopup_days)\n",
    "    \n",
    "    small_df = payment[(payment['DATE']<= offset) & (payment['DATE']>= date)]\n",
    "    small_df = small_df[~small_df['Haben'].isnull()]\n",
    "    \n",
    "    y = small_df[small_df['Haben']==promised_amount]\n",
    "    indx = y.index[0] if len(y)>=1 else None\n",
    "    return indx"
   ]
  },
  {
   "cell_type": "code",
   "execution_count": 5,
   "id": "24b33a04",
   "metadata": {},
   "outputs": [],
   "source": [
    "pair_dict = dict()\n",
    "for shop in sorted(shop_number):\n",
    "    pair_list = []\n",
    "    data = df[df['KST'].isin([shop]) | df['KST2'].isin([shop])]\n",
    "    data['Soll'] = np.where(data['KST']==shop,data['BETRAG'],np.nan)\n",
    "    data['Haben'] = np.where(data['KST2']==shop,data['BETRAG'],np.nan)\n",
    "\n",
    "    data = data[['DATE','KST','KST2','Soll','Haben']]\n",
    "\n",
    "    data['DATE'] = pd.to_datetime(data['DATE'],dayfirst=True,infer_datetime_format=True)\n",
    "\n",
    "    data_clean = data[['DATE','Soll']][~data['Soll'].isnull()]\n",
    "    for indx, row in data_clean.iterrows():\n",
    "        indx_payment = get_index(data,row['DATE'],row['Soll'])\n",
    "        Search_indx = sum(pair_list,())\n",
    "        \n",
    "        if row['Soll']<0:\n",
    "            indx_payment = data_clean[(data_clean['DATE']== row['DATE']) & (data_clean['Soll']== abs(row['Soll']))].index[0]\n",
    "            \n",
    "            pair_list.append((indx_payment,indx)) \n",
    "        else:\n",
    "            if indx_payment!=None:\n",
    "                if indx_payment not in Search_indx:\n",
    "                    pair_list.append((indx,indx_payment))\n",
    "                    \n",
    "    pair_dict[shop] = pair_list\n",
    "                \n",
    "indx_drop = sorted(sum(sum(pair_dict.values(),[]),()))"
   ]
  },
  {
   "cell_type": "code",
   "execution_count": 6,
   "id": "373ad98d",
   "metadata": {},
   "outputs": [],
   "source": [
    "df_final = df.drop(indx_drop)"
   ]
  },
  {
   "cell_type": "code",
   "execution_count": 7,
   "id": "e768d227",
   "metadata": {},
   "outputs": [
    {
     "data": {
      "text/plain": [
       "(1595, 8)"
      ]
     },
     "execution_count": 7,
     "metadata": {},
     "output_type": "execute_result"
    }
   ],
   "source": [
    "df.shape"
   ]
  },
  {
   "cell_type": "code",
   "execution_count": 8,
   "id": "38a18645",
   "metadata": {},
   "outputs": [
    {
     "data": {
      "text/plain": [
       "1595"
      ]
     },
     "execution_count": 8,
     "metadata": {},
     "output_type": "execute_result"
    }
   ],
   "source": [
    "len(df_final) + len(indx_drop)"
   ]
  },
  {
   "cell_type": "code",
   "execution_count": 9,
   "id": "7ac40aac",
   "metadata": {},
   "outputs": [
    {
     "data": {
      "text/plain": [
       "1064"
      ]
     },
     "execution_count": 9,
     "metadata": {},
     "output_type": "execute_result"
    }
   ],
   "source": [
    "len(indx_drop)"
   ]
  },
  {
   "cell_type": "code",
   "execution_count": 10,
   "id": "ff4cb96c",
   "metadata": {},
   "outputs": [
    {
     "data": {
      "text/plain": [
       "1064"
      ]
     },
     "execution_count": 10,
     "metadata": {},
     "output_type": "execute_result"
    }
   ],
   "source": [
    "len(set(indx_drop))"
   ]
  },
  {
   "cell_type": "code",
   "execution_count": null,
   "id": "49cd895b",
   "metadata": {},
   "outputs": [],
   "source": [
    "from collections import Counter\n",
    "d = Counter(indx_drop)"
   ]
  },
  {
   "cell_type": "code",
   "execution_count": null,
   "id": "0d43eba1",
   "metadata": {},
   "outputs": [],
   "source": [
    "for k,v in d.items():\n",
    "    if v==2:\n",
    "        print(k)"
   ]
  },
  {
   "cell_type": "code",
   "execution_count": null,
   "id": "7a8773cd",
   "metadata": {},
   "outputs": [],
   "source": [
    "x = sum(pair_dict.values(),[])"
   ]
  },
  {
   "cell_type": "code",
   "execution_count": null,
   "id": "78cbd645",
   "metadata": {},
   "outputs": [],
   "source": [
    "for i,j in x:\n",
    "    if i==516 or j==516:\n",
    "        print(i,j)"
   ]
  },
  {
   "cell_type": "code",
   "execution_count": null,
   "id": "56fbfaf4",
   "metadata": {},
   "outputs": [],
   "source": [
    "df.iloc[[442,504,516]]"
   ]
  },
  {
   "cell_type": "code",
   "execution_count": null,
   "id": "6d1419d1",
   "metadata": {},
   "outputs": [],
   "source": []
  },
  {
   "cell_type": "code",
   "execution_count": null,
   "id": "e629801a",
   "metadata": {},
   "outputs": [],
   "source": [
    "import pandas as pd\n",
    "pd.set_option('display.max_rows', 1700)\n",
    "pd.set_option('display.max_columns', 500)\n",
    "pd.set_option('display.width', 1000)"
   ]
  },
  {
   "cell_type": "code",
   "execution_count": null,
   "id": "423fe8c3",
   "metadata": {},
   "outputs": [],
   "source": [
    "shop = 11\n",
    "df[df['KST'].isin([shop]) | df['KST2'].isin([shop])]"
   ]
  },
  {
   "cell_type": "code",
   "execution_count": null,
   "id": "e93efec8",
   "metadata": {},
   "outputs": [],
   "source": []
  }
 ],
 "metadata": {
  "kernelspec": {
   "display_name": "Python 3 (ipykernel)",
   "language": "python",
   "name": "python3"
  },
  "language_info": {
   "codemirror_mode": {
    "name": "ipython",
    "version": 3
   },
   "file_extension": ".py",
   "mimetype": "text/x-python",
   "name": "python",
   "nbconvert_exporter": "python",
   "pygments_lexer": "ipython3",
   "version": "3.9.12"
  }
 },
 "nbformat": 4,
 "nbformat_minor": 5
}
