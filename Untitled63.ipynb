{
 "cells": [
  {
   "cell_type": "code",
   "execution_count": 22,
   "id": "e57cea05",
   "metadata": {},
   "outputs": [],
   "source": [
    "import random\n",
    "class Boat:\n",
    "    def __init__(self,boat_name,top_speed=3):\n",
    "        self.boat_name = boat_name\n",
    "        self.top_speed = top_speed\n",
    "        self.current_progress = 0\n",
    "        \n",
    "    def set_top_speed(self,new_speed):\n",
    "        self.top_speed = new_speed\n",
    "        \n",
    "    def set_boat_name(self,New_name):\n",
    "        self.boat_name = New_name\n",
    "        \n",
    "    def set_current_progress(self,new_progress):\n",
    "        self.current_progress = new_progress\n",
    "    \n",
    "    def get_boat_name(self):\n",
    "        return self.boat_name\n",
    "    \n",
    "    def get_top_speed(self):\n",
    "        return self.top_speed\n",
    "    def get_current_progress(self):\n",
    "        return self.current_progress\n",
    "    \n",
    "    def __str__(self):\n",
    "        return f'{self.boat_name}: {self.current_progress}'\n",
    "    \n",
    "    def move(self):\n",
    "        random_val = random.randint(0,self.top_speed)\n",
    "        self.current_progress = self.current_progress + random_val\n",
    "        return random_val"
   ]
  },
  {
   "cell_type": "code",
   "execution_count": 1,
   "id": "ea65e554",
   "metadata": {},
   "outputs": [],
   "source": [
    "import random"
   ]
  },
  {
   "cell_type": "code",
   "execution_count": 5,
   "id": "03fc2069",
   "metadata": {},
   "outputs": [
    {
     "name": "stdout",
     "output_type": "stream",
     "text": [
      "Hi There 12\n"
     ]
    }
   ],
   "source": [
    "a = 12\n",
    "\n",
    "print('Hi There',a)"
   ]
  },
  {
   "cell_type": "code",
   "execution_count": 3,
   "id": "57077a38",
   "metadata": {},
   "outputs": [
    {
     "data": {
      "text/plain": [
       "90"
      ]
     },
     "execution_count": 3,
     "metadata": {},
     "output_type": "execute_result"
    }
   ],
   "source": [
    "random.randint(0,100)"
   ]
  },
  {
   "cell_type": "code",
   "execution_count": null,
   "id": "0302220e",
   "metadata": {},
   "outputs": [],
   "source": [
    "def __str__(self):\n",
    "        return f'{self.boat_name}: {self.current_progress}'\n",
    "    "
   ]
  },
  {
   "cell_type": "code",
   "execution_count": 6,
   "id": "55a6d8af",
   "metadata": {},
   "outputs": [],
   "source": [
    "a = [['The Fire Ball',12] ,['The Leaf',100]]"
   ]
  },
  {
   "cell_type": "code",
   "execution_count": 18,
   "id": "72709698",
   "metadata": {},
   "outputs": [],
   "source": [
    "fp = open(\"the_big_one.csv\")\n",
    "data = fp.readlines()\n",
    "fp.close()\n",
    "data = [i.split(',') for i in data]"
   ]
  },
  {
   "cell_type": "code",
   "execution_count": 19,
   "id": "2ab0661c",
   "metadata": {},
   "outputs": [
    {
     "data": {
      "text/plain": [
       "[['Name', 'The Big One\\n'],\n",
       " ['ID', '11\\n'],\n",
       " ['Distance', '120\\n'],\n",
       " ['The Fire Ball', '12\\n'],\n",
       " ['The Leaf', '100\\n']]"
      ]
     },
     "execution_count": 19,
     "metadata": {},
     "output_type": "execute_result"
    }
   ],
   "source": [
    "data"
   ]
  },
  {
   "cell_type": "code",
   "execution_count": 11,
   "id": "b431d5df",
   "metadata": {},
   "outputs": [
    {
     "data": {
      "text/plain": [
       "'The Big One'"
      ]
     },
     "execution_count": 11,
     "metadata": {},
     "output_type": "execute_result"
    }
   ],
   "source": [
    "data[0][1]"
   ]
  },
  {
   "cell_type": "code",
   "execution_count": 13,
   "id": "42005223",
   "metadata": {},
   "outputs": [
    {
     "data": {
      "text/plain": [
       "'11'"
      ]
     },
     "execution_count": 13,
     "metadata": {},
     "output_type": "execute_result"
    }
   ],
   "source": [
    "data[1][1]"
   ]
  },
  {
   "cell_type": "code",
   "execution_count": 23,
   "id": "8afa8f91",
   "metadata": {},
   "outputs": [
    {
     "data": {
      "text/plain": [
       "[<__main__.Boat at 0x226e6185970>, <__main__.Boat at 0x226e6185820>]"
      ]
     },
     "execution_count": 23,
     "metadata": {},
     "output_type": "execute_result"
    }
   ],
   "source": [
    "[Boat(name,int(top)) for name, top in data[3:]]"
   ]
  },
  {
   "cell_type": "code",
   "execution_count": null,
   "id": "5a253f4b",
   "metadata": {},
   "outputs": [],
   "source": []
  }
 ],
 "metadata": {
  "kernelspec": {
   "display_name": "Python 3 (ipykernel)",
   "language": "python",
   "name": "python3"
  },
  "language_info": {
   "codemirror_mode": {
    "name": "ipython",
    "version": 3
   },
   "file_extension": ".py",
   "mimetype": "text/x-python",
   "name": "python",
   "nbconvert_exporter": "python",
   "pygments_lexer": "ipython3",
   "version": "3.9.12"
  }
 },
 "nbformat": 4,
 "nbformat_minor": 5
}
