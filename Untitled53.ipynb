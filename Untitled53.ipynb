{
 "cells": [
  {
   "cell_type": "code",
   "execution_count": 34,
   "id": "d6b2c391",
   "metadata": {},
   "outputs": [],
   "source": [
    "import pandas as pd\n",
    "import requests\n",
    "import csv\n",
    "\n",
    "url = 'http://bexar.trueautomation.com/clientdb/Property.aspx?cid=110&prop_id=525041'\n",
    "page = requests.get(url)\n",
    "\n",
    "df = pd.read_html(url, match='Property ID')\n",
    "\n",
    "# for i in df:\n",
    "#     i.to_csv(\"bexar.csv\", index = False)"
   ]
  },
  {
   "cell_type": "code",
   "execution_count": 35,
   "id": "0fd0dd4e",
   "metadata": {},
   "outputs": [],
   "source": [
    "data = df[0]\n",
    "\n",
    "columns = data.iloc[:,0].to_list() + data.iloc[:,2].to_list()\n",
    "row_value = data.iloc[:,1].to_list() + data.iloc[:,3].to_list()"
   ]
  },
  {
   "cell_type": "code",
   "execution_count": 36,
   "id": "59ecf9a0",
   "metadata": {},
   "outputs": [],
   "source": [
    "df_all = pd.DataFrame([],columns=columns)\n",
    "df_all.loc[len(df_all)] = row_value"
   ]
  },
  {
   "cell_type": "code",
   "execution_count": 37,
   "id": "209e519f",
   "metadata": {},
   "outputs": [
    {
     "data": {
      "text/html": [
       "<div>\n",
       "<style scoped>\n",
       "    .dataframe tbody tr th:only-of-type {\n",
       "        vertical-align: middle;\n",
       "    }\n",
       "\n",
       "    .dataframe tbody tr th {\n",
       "        vertical-align: top;\n",
       "    }\n",
       "\n",
       "    .dataframe thead th {\n",
       "        text-align: right;\n",
       "    }\n",
       "</style>\n",
       "<table border=\"1\" class=\"dataframe\">\n",
       "  <thead>\n",
       "    <tr style=\"text-align: right;\">\n",
       "      <th></th>\n",
       "      <th>Account</th>\n",
       "      <th>Property ID:</th>\n",
       "      <th>Geographic ID:</th>\n",
       "      <th>Type:</th>\n",
       "      <th>Property Use Code:</th>\n",
       "      <th>Property Use Description:</th>\n",
       "      <th>Protest</th>\n",
       "      <th>Protest Status:</th>\n",
       "      <th>Informal Date:</th>\n",
       "      <th>Formal Date:</th>\n",
       "      <th>...</th>\n",
       "      <th>NaN</th>\n",
       "      <th>NaN</th>\n",
       "      <th>Location</th>\n",
       "      <th>Mapsco:</th>\n",
       "      <th>Map ID:</th>\n",
       "      <th>E-File Eligible</th>\n",
       "      <th>Owner</th>\n",
       "      <th>Owner ID:</th>\n",
       "      <th>% Ownership:</th>\n",
       "      <th>Exemptions:</th>\n",
       "    </tr>\n",
       "  </thead>\n",
       "  <tbody>\n",
       "    <tr>\n",
       "      <th>0</th>\n",
       "      <td>Account</td>\n",
       "      <td>525041</td>\n",
       "      <td>13416-000-0060</td>\n",
       "      <td>Real</td>\n",
       "      <td>098</td>\n",
       "      <td>TRANSITIONAL USE</td>\n",
       "      <td>Protest</td>\n",
       "      <td>NaN</td>\n",
       "      <td>NaN</td>\n",
       "      <td>NaN</td>\n",
       "      <td>...</td>\n",
       "      <td>NaN</td>\n",
       "      <td>NaN</td>\n",
       "      <td>Location</td>\n",
       "      <td>616D5</td>\n",
       "      <td>NaN</td>\n",
       "      <td>E-File Eligible</td>\n",
       "      <td>Owner</td>\n",
       "      <td>3193041</td>\n",
       "      <td>100.0000000000%</td>\n",
       "      <td>NaN</td>\n",
       "    </tr>\n",
       "  </tbody>\n",
       "</table>\n",
       "<p>1 rows × 36 columns</p>\n",
       "</div>"
      ],
      "text/plain": [
       "   Account Property ID:  Geographic ID: Type: Property Use Code:  \\\n",
       "0  Account       525041  13416-000-0060  Real                098   \n",
       "\n",
       "  Property Use Description:  Protest  Protest Status:  Informal Date:  \\\n",
       "0          TRANSITIONAL USE  Protest              NaN             NaN   \n",
       "\n",
       "   Formal Date:  ... NaN NaN  Location Mapsco: Map ID:  E-File Eligible  \\\n",
       "0           NaN  ... NaN NaN  Location   616D5     NaN  E-File Eligible   \n",
       "\n",
       "   Owner  Owner ID:     % Ownership: Exemptions:  \n",
       "0  Owner    3193041  100.0000000000%         NaN  \n",
       "\n",
       "[1 rows x 36 columns]"
      ]
     },
     "execution_count": 37,
     "metadata": {},
     "output_type": "execute_result"
    }
   ],
   "source": [
    "df_all"
   ]
  },
  {
   "cell_type": "code",
   "execution_count": 29,
   "id": "498f3e06",
   "metadata": {},
   "outputs": [
    {
     "data": {
      "text/plain": [
       "1"
      ]
     },
     "execution_count": 29,
     "metadata": {},
     "output_type": "execute_result"
    }
   ],
   "source": [
    "len(df)"
   ]
  },
  {
   "cell_type": "code",
   "execution_count": 41,
   "id": "bddd1d59",
   "metadata": {},
   "outputs": [],
   "source": [
    "# Roll Value History\n",
    "\n",
    "\n",
    "url = 'http://bexar.trueautomation.com/clientdb/Property.aspx?cid=110&prop_id=525041'\n",
    "page = requests.get(url)\n",
    "\n",
    "df = pd.read_html(url)"
   ]
  },
  {
   "cell_type": "code",
   "execution_count": 46,
   "id": "6eb9b35c",
   "metadata": {},
   "outputs": [
    {
     "data": {
      "text/html": [
       "<div>\n",
       "<style scoped>\n",
       "    .dataframe tbody tr th:only-of-type {\n",
       "        vertical-align: middle;\n",
       "    }\n",
       "\n",
       "    .dataframe tbody tr th {\n",
       "        vertical-align: top;\n",
       "    }\n",
       "\n",
       "    .dataframe thead th {\n",
       "        text-align: right;\n",
       "    }\n",
       "</style>\n",
       "<table border=\"1\" class=\"dataframe\">\n",
       "  <thead>\n",
       "    <tr style=\"text-align: right;\">\n",
       "      <th></th>\n",
       "      <th>0</th>\n",
       "      <th>1</th>\n",
       "      <th>2</th>\n",
       "      <th>3</th>\n",
       "      <th>4</th>\n",
       "      <th>5</th>\n",
       "      <th>6</th>\n",
       "    </tr>\n",
       "  </thead>\n",
       "  <tbody>\n",
       "    <tr>\n",
       "      <th>0</th>\n",
       "      <td>NaN</td>\n",
       "      <td>Type</td>\n",
       "      <td>Description</td>\n",
       "      <td>Class CD</td>\n",
       "      <td>Exterior Wall</td>\n",
       "      <td>Year Built</td>\n",
       "      <td>SQFT</td>\n",
       "    </tr>\n",
       "    <tr>\n",
       "      <th>1</th>\n",
       "      <td>NaN</td>\n",
       "      <td>400</td>\n",
       "      <td>OFFICE</td>\n",
       "      <td>C - A</td>\n",
       "      <td>BR</td>\n",
       "      <td>1976</td>\n",
       "      <td>25200.0</td>\n",
       "    </tr>\n",
       "  </tbody>\n",
       "</table>\n",
       "</div>"
      ],
      "text/plain": [
       "    0     1            2         3              4           5        6\n",
       "0 NaN  Type  Description  Class CD  Exterior Wall  Year Built     SQFT\n",
       "1 NaN   400       OFFICE     C - A             BR        1976  25200.0"
      ]
     },
     "execution_count": 46,
     "metadata": {},
     "output_type": "execute_result"
    }
   ],
   "source": [
    "df[5]"
   ]
  },
  {
   "cell_type": "code",
   "execution_count": 47,
   "id": "96ed732e",
   "metadata": {},
   "outputs": [
    {
     "data": {
      "text/plain": [
       "15"
      ]
     },
     "execution_count": 47,
     "metadata": {},
     "output_type": "execute_result"
    }
   ],
   "source": [
    "len(df)"
   ]
  },
  {
   "cell_type": "code",
   "execution_count": 52,
   "id": "500be74f",
   "metadata": {},
   "outputs": [],
   "source": [
    "df_values = df[1]\n",
    "df_rollhistory = df[11]\n",
    "df_property = df[0]"
   ]
  },
  {
   "cell_type": "code",
   "execution_count": 54,
   "id": "5fa6f6f5",
   "metadata": {},
   "outputs": [],
   "source": []
  },
  {
   "cell_type": "code",
   "execution_count": null,
   "id": "3414c71b",
   "metadata": {},
   "outputs": [],
   "source": []
  }
 ],
 "metadata": {
  "kernelspec": {
   "display_name": "Python 3 (ipykernel)",
   "language": "python",
   "name": "python3"
  },
  "language_info": {
   "codemirror_mode": {
    "name": "ipython",
    "version": 3
   },
   "file_extension": ".py",
   "mimetype": "text/x-python",
   "name": "python",
   "nbconvert_exporter": "python",
   "pygments_lexer": "ipython3",
   "version": "3.9.12"
  }
 },
 "nbformat": 4,
 "nbformat_minor": 5
}
