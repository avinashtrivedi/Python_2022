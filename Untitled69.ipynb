{
 "cells": [
  {
   "cell_type": "code",
   "execution_count": 4,
   "id": "109c3342",
   "metadata": {},
   "outputs": [],
   "source": [
    "import pandas as pd\n",
    "import math"
   ]
  },
  {
   "cell_type": "code",
   "execution_count": 5,
   "id": "de8d7e40",
   "metadata": {},
   "outputs": [],
   "source": [
    "df = pd.read_csv('D:\\OneDrive - NITT\\Custom_Download\\MCA-1st + 2nd Yr - mca-lab-python.csv')"
   ]
  },
  {
   "cell_type": "code",
   "execution_count": 8,
   "id": "bd7bffab",
   "metadata": {},
   "outputs": [],
   "source": [
    "df['Total'] = df['new']"
   ]
  },
  {
   "cell_type": "code",
   "execution_count": 12,
   "id": "fa699428",
   "metadata": {},
   "outputs": [],
   "source": [
    "df = df.sort_values('Total',ascending=False)"
   ]
  },
  {
   "cell_type": "code",
   "execution_count": 16,
   "id": "6b4c9b5e",
   "metadata": {},
   "outputs": [
    {
     "data": {
      "text/plain": [
       "69.91228070175438"
      ]
     },
     "execution_count": 16,
     "metadata": {},
     "output_type": "execute_result"
    }
   ],
   "source": [
    "df['Total'].mean()"
   ]
  },
  {
   "cell_type": "code",
   "execution_count": 18,
   "id": "d194f974",
   "metadata": {},
   "outputs": [],
   "source": [
    "df.to_csv('new.csv',index=False)"
   ]
  },
  {
   "cell_type": "code",
   "execution_count": null,
   "id": "6d9560f7",
   "metadata": {},
   "outputs": [],
   "source": []
  },
  {
   "cell_type": "code",
   "execution_count": 7,
   "id": "432d58f9",
   "metadata": {},
   "outputs": [],
   "source": [
    "df = df.drop('Unnamed: 6',axis=1)"
   ]
  },
  {
   "cell_type": "code",
   "execution_count": 14,
   "id": "09932209",
   "metadata": {},
   "outputs": [],
   "source": [
    "df.dropna(inplace=True)"
   ]
  },
  {
   "cell_type": "code",
   "execution_count": 17,
   "id": "440be496",
   "metadata": {},
   "outputs": [],
   "source": [
    "df['CT1'] = df['Lab Activities (50)'].values*.4//1"
   ]
  },
  {
   "cell_type": "code",
   "execution_count": 19,
   "id": "82e1483f",
   "metadata": {},
   "outputs": [],
   "source": [
    "df['Lab Activities (50)'] = df['Lab Activities (50)'] - df['CT1']"
   ]
  },
  {
   "cell_type": "code",
   "execution_count": 22,
   "id": "71ee8eab",
   "metadata": {},
   "outputs": [],
   "source": [
    "df.rename(columns={\"Evaluation-1 (20)\": \"Evaluation-2 (20)\"},inplace=True)"
   ]
  },
  {
   "cell_type": "code",
   "execution_count": 24,
   "id": "18c90e83",
   "metadata": {},
   "outputs": [],
   "source": [
    "df.rename(columns={\"Lab Activities (50)\": \"Lab Activities (30)\",\"CT1\": \"Evaluation-1 (20)\"},inplace=True)"
   ]
  },
  {
   "cell_type": "code",
   "execution_count": 27,
   "id": "0210733a",
   "metadata": {},
   "outputs": [],
   "source": [
    "df.drop('sum1(eval+end_sem)',axis=True,inplace=True)"
   ]
  },
  {
   "cell_type": "code",
   "execution_count": 29,
   "id": "73e0ce1b",
   "metadata": {},
   "outputs": [
    {
     "data": {
      "text/plain": [
       "['Roll_number',\n",
       " 'Lab Activities (30)',\n",
       " 'Evaluation-2 (20)',\n",
       " 'End-Sem Lab(30)',\n",
       " 'Total',\n",
       " 'Evaluation-1 (20)']"
      ]
     },
     "execution_count": 29,
     "metadata": {},
     "output_type": "execute_result"
    }
   ],
   "source": [
    "list(df)"
   ]
  },
  {
   "cell_type": "code",
   "execution_count": 31,
   "id": "7e7fb1e5",
   "metadata": {},
   "outputs": [],
   "source": [
    "df = df[['Roll_number','Lab Activities (30)','Evaluation-1 (20)','Evaluation-2 (20)','End-Sem Lab(30)','Total']]"
   ]
  },
  {
   "cell_type": "code",
   "execution_count": null,
   "id": "dfa80b4e",
   "metadata": {},
   "outputs": [],
   "source": []
  },
  {
   "cell_type": "code",
   "execution_count": 36,
   "id": "85ea8638",
   "metadata": {},
   "outputs": [
    {
     "name": "stderr",
     "output_type": "stream",
     "text": [
      "C:\\Users\\avitr\\AppData\\Local\\Temp\\ipykernel_5164\\858631113.py:1: SettingWithCopyWarning: \n",
      "A value is trying to be set on a copy of a slice from a DataFrame.\n",
      "Try using .loc[row_indexer,col_indexer] = value instead\n",
      "\n",
      "See the caveats in the documentation: https://pandas.pydata.org/pandas-docs/stable/user_guide/indexing.html#returning-a-view-versus-a-copy\n",
      "  df['T'] = df[['Lab Activities (30)','Evaluation-1 (20)','Evaluation-2 (20)','End-Sem Lab(30)']].sum(axis=1)\n"
     ]
    }
   ],
   "source": [
    "df['T'] = df[['Lab Activities (30)','Evaluation-1 (20)','Evaluation-2 (20)','End-Sem Lab(30)']].sum(axis=1)"
   ]
  },
  {
   "cell_type": "code",
   "execution_count": 38,
   "id": "d10f37a2",
   "metadata": {},
   "outputs": [],
   "source": [
    "df = df.drop('T',axis=1)"
   ]
  },
  {
   "cell_type": "code",
   "execution_count": 40,
   "id": "2e7f3743",
   "metadata": {},
   "outputs": [],
   "source": [
    "df.to_csv('mca_lab_v1.csv',index=False)"
   ]
  },
  {
   "cell_type": "code",
   "execution_count": null,
   "id": "2c28191a",
   "metadata": {},
   "outputs": [],
   "source": []
  }
 ],
 "metadata": {
  "kernelspec": {
   "display_name": "Python 3 (ipykernel)",
   "language": "python",
   "name": "python3"
  },
  "language_info": {
   "codemirror_mode": {
    "name": "ipython",
    "version": 3
   },
   "file_extension": ".py",
   "mimetype": "text/x-python",
   "name": "python",
   "nbconvert_exporter": "python",
   "pygments_lexer": "ipython3",
   "version": "3.9.12"
  }
 },
 "nbformat": 4,
 "nbformat_minor": 5
}
