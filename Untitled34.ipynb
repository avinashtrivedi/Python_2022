{
 "cells": [
  {
   "cell_type": "code",
   "execution_count": 2,
   "id": "647d9374",
   "metadata": {},
   "outputs": [
    {
     "name": "stderr",
     "output_type": "stream",
     "text": [
      "Exception in Tkinter callback\n",
      "Traceback (most recent call last):\n",
      "  File \"C:\\Users\\avitr\\anaconda3\\lib\\tkinter\\__init__.py\", line 1883, in __call__\n",
      "    return self.func(*args)\n",
      "  File \"C:\\Users\\avitr\\AppData\\Local\\Temp\\ipykernel_11084\\1777505926.py\", line 14, in <lambda>\n",
      "    buton=Button(root, text=\"Add\",height=2,width=10, command=lambda:add(x))\n",
      "  File \"C:\\Users\\avitr\\AppData\\Local\\Temp\\ipykernel_11084\\1777505926.py\", line 6, in add\n",
      "    return int(x)*100\n",
      "TypeError: int() argument must be a string, a bytes-like object or a number, not 'StringVar'\n"
     ]
    }
   ],
   "source": [
    "# import a library\n",
    "from tkinter import *\n",
    "import tkinter.messagebox\n",
    "\n",
    "def add(x):\n",
    "    return int(x)*100\n",
    "\n",
    "root = Tk() # Toplevel widget\n",
    "root.geometry('400x400') # set the GUI size\n",
    "x = StringVar()  \n",
    "label_1 = Label(root, text=\"Key\" )\n",
    "entry_1 = Entry(root, textvariable=x)\n",
    "label_1.grid(row=2,column=2)\n",
    "buton=Button(root, text=\"Add\",height=2,width=10, command=lambda:add(x))\n",
    "buton.grid(row=3, column=4)\n",
    "root.mainloop()"
   ]
  },
  {
   "cell_type": "code",
   "execution_count": 8,
   "id": "bd463dd2",
   "metadata": {},
   "outputs": [
    {
     "name": "stderr",
     "output_type": "stream",
     "text": [
      "Exception in Tkinter callback\n",
      "Traceback (most recent call last):\n",
      "  File \"C:\\Users\\avitr\\anaconda3\\lib\\tkinter\\__init__.py\", line 1883, in __call__\n",
      "    return self.func(*args)\n",
      "  File \"C:\\Users\\avitr\\AppData\\Local\\Temp\\ipykernel_11084\\3349344060.py\", line 21, in call_convert\n",
      "    f = float((float(temp) * 9 / 5) + 32)\n",
      "ValueError: could not convert string to float: 'a'\n"
     ]
    }
   ],
   "source": [
    "import tkinter as tk\n",
    "from tkinter import messagebox\n",
    "from functools import partial\n",
    "\n",
    "\n",
    "# Declaration of global variable\n",
    "temp_Val = \"Celsius\"\n",
    "\n",
    "# getting drop down value\n",
    "def store_temp(set_temp):\n",
    "\tglobal temp_Val\n",
    "\ttemp_Val = set_temp\n",
    "\n",
    "# Conversion of temperature\n",
    "def call_convert(rlabel1, inputn):\n",
    "\ttemp = inputn.get()\n",
    "\t\n",
    "\tif temp_Val == 'Celsius':\n",
    "\t\t\n",
    "\t\t# Conversion of celsius temperature to fahrenheit\n",
    "\t\tf = float((float(temp) * 9 / 5) + 32)\n",
    "\t\trlabel1.config(text =\"%.1f Fahrenheit\" % f)\n",
    "\t\tmessagebox.showinfo(\"Temperature Converter\",\n",
    "\t\t\t\t\t\t\t\"Successfully converted to Fahrenheit \", )\n",
    "\t\t\n",
    "\tif temp_Val == 'Fahrenheit':\n",
    "\t\t\n",
    "\t\t# Conversion of fahrenheit temperature\n",
    "\t\t# to celsius\n",
    "\t\tc = float((float(temp) - 32) * 5 / 9)\n",
    "\t\trlabel1.config(text =\"%.1f Celsius\" % c)\n",
    "\t\tmessagebox.showinfo(\"Temperature Converter\",\n",
    "\t\t\t\t\t\t\t\"Successfully converted to Celsius \")\n",
    "\treturn\n",
    "\n",
    "\n",
    "# creating Tk window\n",
    "root = tk.Tk()\n",
    "\n",
    "# setting geometry of tk window\n",
    "root.geometry('400x400')\n",
    "\n",
    "# Using title() to display a message in the\n",
    "# dialogue box of the message in the title bar\n",
    "root.title('Temperature Converter')\n",
    "\n",
    "# Lay out widgets\n",
    "root.grid_columnconfigure(1, weight = 1)\n",
    "root.grid_rowconfigure(1, weight = 1)\n",
    "\n",
    "inputNumber = tk.StringVar()\n",
    "var = tk.StringVar()\n",
    "\n",
    "# label and entry field\n",
    "input_label = tk.Label(root, text =\"Enter Ounces\")\n",
    "input_entry = tk.Entry(root, textvariable = inputNumber)\n",
    "input_label.grid(row = 1)\n",
    "input_entry.grid(row = 1, column = 1)\n",
    "result_label = tk.Label(root)\n",
    "result_label.grid(row = 3, columnspan = 4)\n",
    "\n",
    "# drop down setup\n",
    "dropDownList = [\"Celsius\", \"Fahrenheit\"]\n",
    "drop_down = tk.OptionMenu(root, var, *dropDownList,\n",
    "command = store_temp)\n",
    "var.set(dropDownList[0])\n",
    "drop_down.grid(row = 1, column = 2)\n",
    "\n",
    "# button widget\n",
    "call_convert = partial(call_convert, result_label,\n",
    "inputNumber)\n",
    "result_button = tk.Button(root, text =\"Convert\",\n",
    "command = call_convert)\n",
    "result_button.grid(row = 2, columnspan = 2)\n",
    "\n",
    "# infinite loop which is required to\n",
    "# run tkinter program infinitely\n",
    "# until an interrupt occurs\n",
    "root.mainloop()\n"
   ]
  },
  {
   "cell_type": "code",
   "execution_count": null,
   "id": "92573243",
   "metadata": {},
   "outputs": [],
   "source": []
  }
 ],
 "metadata": {
  "kernelspec": {
   "display_name": "Python 3 (ipykernel)",
   "language": "python",
   "name": "python3"
  },
  "language_info": {
   "codemirror_mode": {
    "name": "ipython",
    "version": 3
   },
   "file_extension": ".py",
   "mimetype": "text/x-python",
   "name": "python",
   "nbconvert_exporter": "python",
   "pygments_lexer": "ipython3",
   "version": "3.8.5"
  }
 },
 "nbformat": 4,
 "nbformat_minor": 5
}
