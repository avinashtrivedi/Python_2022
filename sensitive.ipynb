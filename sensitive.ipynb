{
 "cells": [
  {
   "cell_type": "code",
   "execution_count": 1,
   "metadata": {},
   "outputs": [],
   "source": [
    "# store the text\n",
    "text = \"The 'Roswell Incident' refers to an event that supposedly happened in July 1947, wherein the Army Air Forces (AAF) allegedly recovered remains of a crashed “flying disc” near Roswell, New Mexico. In February 1994, the General Accounting Office (GAO), acting on the request of a New Mexico Congressman, initiated an audit to attempt to locate records of such an incident and to determine if records regarding it were properly handled. Although the GAO effort was to look at a number of government agencies, the apparent focus was on the United States Air Force (USAF). SAF/AAZ, as the Central Point of Contact for the GAO in this matter, initiated a systematic search of current Air Force offices as well as numerous archives and records centers that might help explain this matter. Research revealed that the “Roswell Incident” was not even considered a UFO event until the 1978-1980 time frame. Prior to that, the incident was dismissed because the AAF originally identified the debris recovered as being that of a weather balloon. Subsequently, various authors wrote a number of books claiming that not only was debris from an alien spacecraft recovered, but also the bodies of the craft’s alien occupants. These claims continue to evolve today and the Air Force is now routinely accused of engaging in a “cover-upN of this supposed event. The research located no records at existing Air Force offices that indicated any cover-up” by the USAF or any indication of such a recovery. Consequently, efforts were intensified by Air Force researchers at numerous locations where records for the period in question were stored. The records reviewed did not reveal any increase in operations, security, or any other activity in July 1947, that indicated any such unusual event may have occurred. Records were located and thoroughly explored concerning a then-Top Secret balloon project, designed to attempt to monitor Soviet nuclear tests, known as Project MOGUL. Additionally, several surviving project personnel were located and interviewed, as was the only surviving person who recovered debris from the original Roswell site in 1947 and the former officer who initially identified the wreckage as a balloon. Comparison of all information ‘developed or obtained indicated that the material recovered near Roswell was consistent with a balloon device and most likely from one of the MOGUL balloons that had not been previously recovered. Air Force research efforts did not disclose any records of the recovery of any “alien” bodies or extraterrestrial materials.\""
   ]
  },
  {
   "cell_type": "code",
   "execution_count": 2,
   "metadata": {},
   "outputs": [
    {
     "name": "stdout",
     "output_type": "stream",
     "text": [
      "The 'Roswell Incident' refers to an event that supposedly happened in July 1947, wherein the Army Air Forces (AAF) allegedly recovered remains of a crashed “flying disc” near Roswell, New Mexico. In February 1994, the General Accounting Office (GAO), acting on the request of a New Mexico Congressman, initiated an audit to attempt to locate records of such an incident and to determine if records regarding it were properly handled. Although the GAO effort was to look at a number of government agencies, the apparent focus was on the United States Air Force (USAF). SAF/AAZ, as the Central Point of Contact for the GAO in this matter, initiated a systematic search of current Air Force offices as well as numerous archives and records centers that might help explain this matter. Research revealed that the “Roswell Incident” was not even considered a UFO event until the 1978-1980 time frame. Prior to that, the incident was dismissed because the AAF originally identified the debris recovered as being that of a weather balloon. Subsequently, various authors wrote a number of books claiming that not only was debris from an alien spacecraft recovered, but also the bodies of the craft’s alien occupants. These claims continue to evolve today and the Air Force is now routinely accused of engaging in a “cover-upN of this supposed event. The research located no records at existing Air Force offices that indicated any cover-up” by the USAF or any indication of such a recovery. Consequently, efforts were intensified by Air Force researchers at numerous locations where records for the period in question were stored. The records reviewed did not reveal any increase in operations, security, or any other activity in July 1947, that indicated any such unusual event may have occurred. Records were located and thoroughly explored concerning a then-Top Secret balloon project, designed to attempt to monitor Soviet nuclear tests, known as Project MOGUL. Additionally, several surviving project personnel were located and interviewed, as was the only surviving person who recovered debris from the original Roswell site in 1947 and the former officer who initially identified the wreckage as a balloon. Comparison of all information ‘developed or obtained indicated that the material recovered near Roswell was consistent with a balloon device and most likely from one of the MOGUL balloons that had not been previously recovered. Air Force research efforts did not disclose any records of the recovery of any “alien” bodies or extraterrestrial materials.\n"
     ]
    }
   ],
   "source": [
    "# print the text\n",
    "print(text)"
   ]
  },
  {
   "cell_type": "code",
   "execution_count": 3,
   "metadata": {},
   "outputs": [],
   "source": [
    "# store sensitive_info for future use\n",
    "sensitive_info = {\"'Roswell Incident'\", 'July', 'Roswell, New Mexico', \n",
    "                  'February', '1994', '1978-1980','Project MOGUL', 'Roswell site', '1947'}"
   ]
  },
  {
   "cell_type": "code",
   "execution_count": 4,
   "metadata": {},
   "outputs": [],
   "source": [
    "# replace sensitive info in text with '********'\n",
    "for info in sensitive_info:\n",
    "    if info in text:\n",
    "        text = text.replace(info,'********')"
   ]
  },
  {
   "cell_type": "code",
   "execution_count": 5,
   "metadata": {},
   "outputs": [
    {
     "data": {
      "text/plain": [
       "'The ******** refers to an event that supposedly happened in ******** ********, wherein the Army Air Forces (AAF) allegedly recovered remains of a crashed “flying disc” near ********. In ******** ********, the General Accounting Office (GAO), acting on the request of a New Mexico Congressman, initiated an audit to attempt to locate records of such an incident and to determine if records regarding it were properly handled. Although the GAO effort was to look at a number of government agencies, the apparent focus was on the United States Air Force (USAF). SAF/AAZ, as the Central Point of Contact for the GAO in this matter, initiated a systematic search of current Air Force offices as well as numerous archives and records centers that might help explain this matter. Research revealed that the “Roswell Incident” was not even considered a UFO event until the ******** time frame. Prior to that, the incident was dismissed because the AAF originally identified the debris recovered as being that of a weather balloon. Subsequently, various authors wrote a number of books claiming that not only was debris from an alien spacecraft recovered, but also the bodies of the craft’s alien occupants. These claims continue to evolve today and the Air Force is now routinely accused of engaging in a “cover-upN of this supposed event. The research located no records at existing Air Force offices that indicated any cover-up” by the USAF or any indication of such a recovery. Consequently, efforts were intensified by Air Force researchers at numerous locations where records for the period in question were stored. The records reviewed did not reveal any increase in operations, security, or any other activity in ******** ********, that indicated any such unusual event may have occurred. Records were located and thoroughly explored concerning a then-Top Secret balloon project, designed to attempt to monitor Soviet nuclear tests, known as ********. Additionally, several surviving project personnel were located and interviewed, as was the only surviving person who recovered debris from the original ******** in ******** and the former officer who initially identified the wreckage as a balloon. Comparison of all information ‘developed or obtained indicated that the material recovered near Roswell was consistent with a balloon device and most likely from one of the MOGUL balloons that had not been previously recovered. Air Force research efforts did not disclose any records of the recovery of any “alien” bodies or extraterrestrial materials.'"
      ]
     },
     "execution_count": 5,
     "metadata": {},
     "output_type": "execute_result"
    }
   ],
   "source": [
    "# modified text\n",
    "text"
   ]
  },
  {
   "cell_type": "code",
   "execution_count": null,
   "metadata": {},
   "outputs": [],
   "source": []
  }
 ],
 "metadata": {
  "kernelspec": {
   "display_name": "Python 3",
   "language": "python",
   "name": "python3"
  },
  "language_info": {
   "codemirror_mode": {
    "name": "ipython",
    "version": 3
   },
   "file_extension": ".py",
   "mimetype": "text/x-python",
   "name": "python",
   "nbconvert_exporter": "python",
   "pygments_lexer": "ipython3",
   "version": "3.8.5"
  }
 },
 "nbformat": 4,
 "nbformat_minor": 4
}
