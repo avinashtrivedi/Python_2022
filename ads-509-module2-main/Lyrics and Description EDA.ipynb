{
 "cells": [
  {
   "cell_type": "markdown",
   "id": "7f79baf9",
   "metadata": {},
   "source": [
    "# ADS 509 Assignment 2.1: Tokenization, Normalization, Descriptive Statistics \n",
    "\n",
    "This notebook holds Assignment 2.1 for Module 2 in ADS 509, Applied Text Mining. Work through this notebook, writing code and answering questions where required. \n",
    "\n",
    "In the previous assignment you put together Twitter data and lyrics data on two artists. In this assignment we explore some of the textual features of those data sets. If, for some reason, you did not complete that previous assignment, data to use for this assignment can be found in the assignment materials section of Blackboard. \n",
    "\n",
    "This assignment asks you to write a short function to calculate some descriptive statistics on a piece of text. Then you are asked to find some interesting and unique statistics on your corpora. \n"
   ]
  },
  {
   "cell_type": "markdown",
   "id": "aae8e2e1",
   "metadata": {},
   "source": [
    "## General Assignment Instructions\n",
    "\n",
    "These instructions are included in every assignment, to remind you of the coding standards for the class. Feel free to delete this cell after reading it. \n",
    "\n",
    "One sign of mature code is conforming to a style guide. We recommend the [Google Python Style Guide](https://google.github.io/styleguide/pyguide.html). If you use a different style guide, please include a cell with a link. \n",
    "\n",
    "Your code should be relatively easy-to-read, sensibly commented, and clean. Writing code is a messy process, so please be sure to edit your final submission. Remove any cells that are not needed or parts of cells that contain unnecessary code. Remove inessential `import` statements and make sure that all such statements are moved into the designated cell. \n",
    "\n",
    "Make use of non-code cells for written commentary. These cells should be grammatical and clearly written. In some of these cells you will have questions to answer. The questions will be marked by a \"Q:\" and will have a corresponding \"A:\" spot for you. *Make sure to answer every question marked with a `Q:` for full credit.* \n"
   ]
  },
  {
   "cell_type": "code",
   "execution_count": 1,
   "id": "e2d096b7",
   "metadata": {},
   "outputs": [],
   "source": [
    "import os\n",
    "import re\n",
    "import emoji\n",
    "import pandas as pd\n",
    "import numpy as np\n",
    "from collections import Counter, defaultdict\n",
    "from nltk.corpus import stopwords\n",
    "from string import punctuation\n",
    "sw = stopwords.words(\"english\")"
   ]
  },
  {
   "cell_type": "code",
   "execution_count": 2,
   "id": "6b555ab2",
   "metadata": {},
   "outputs": [],
   "source": [
    "# Add any additional import statements you need here\n"
   ]
  },
  {
   "cell_type": "code",
   "execution_count": 3,
   "id": "923b5a86",
   "metadata": {},
   "outputs": [],
   "source": [
    "# change `data_location` to the location of the folder on your machine.\n",
    "# data_location = \"/users/chandler/dropbox/teaching/repos/ads-tm-api-scrape/\"\n",
    "\n",
    "data_location = \"M1 Results\"\n",
    "\n",
    "# These subfolders should still work if you correctly stored the \n",
    "# data from the Module 1 assignment\n",
    "twitter_folder = \"twitter\"\n",
    "lyrics_folder = \"lyrics\""
   ]
  },
  {
   "cell_type": "code",
   "execution_count": 4,
   "id": "06522af9",
   "metadata": {},
   "outputs": [],
   "source": [
    "def descriptive_stats(tokens, verbose=True) :\n",
    "    \"\"\"\n",
    "        Given a list of tokens, print number of tokens, number of unique tokens, \n",
    "        number of characters, lexical diversity (https://en.wikipedia.org/wiki/Lexical_diversity), \n",
    "        and num_tokens most common tokens. Return a list with the number of tokens, number\n",
    "        of unique tokens, lexical diversity, and number of characters. \n",
    "    \n",
    "    \"\"\"\n",
    "\n",
    "    # Fill in the correct values here. \n",
    "    num_tokens = len(tokens)\n",
    "    num_unique_tokens = len(set(tokens))\n",
    "    lexical_diversity = len(set(tokens)) / len(tokens)\n",
    "    num_characters = sum([len(i) for i in tokens])\n",
    "    \n",
    "    if verbose :        \n",
    "        print(f\"There are {num_tokens} tokens in the data.\")\n",
    "        print(f\"There are {num_unique_tokens} unique tokens in the data.\")\n",
    "        print(f\"There are {num_characters} characters in the data.\")\n",
    "        print(f\"The lexical diversity is {lexical_diversity:.3f} in the data.\")\n",
    "    \n",
    "    # print the five most common tokens\n",
    "        \n",
    "    return([num_tokens, num_unique_tokens,\n",
    "            lexical_diversity,\n",
    "            num_characters])\n",
    "    "
   ]
  },
  {
   "cell_type": "code",
   "execution_count": 5,
   "id": "59dcf058",
   "metadata": {},
   "outputs": [
    {
     "name": "stdout",
     "output_type": "stream",
     "text": [
      "There are 13 tokens in the data.\n",
      "There are 9 unique tokens in the data.\n",
      "There are 55 characters in the data.\n",
      "The lexical diversity is 0.692 in the data.\n"
     ]
    }
   ],
   "source": [
    "text = \"\"\"here is some example text with other example text here in this text\"\"\".split()\n",
    "assert(descriptive_stats(text, verbose=True)[0] == 13)\n",
    "assert(descriptive_stats(text, verbose=False)[1] == 9)\n",
    "assert(abs(descriptive_stats(text, verbose=False)[2] - 0.69) < 0.02)\n",
    "assert(descriptive_stats(text, verbose=False)[3] == 55)\n"
   ]
  },
  {
   "cell_type": "markdown",
   "id": "d2e7e1a2",
   "metadata": {},
   "source": [
    "Q: Why is it beneficial to use assertion statements in your code? \n",
    "\n",
    "A: it makes clear that you want to check if a given condition is true, allow us to test the code against test cases"
   ]
  },
  {
   "cell_type": "markdown",
   "id": "9d3bf93e",
   "metadata": {},
   "source": [
    "## Data Input\n",
    "\n",
    "Now read in each of the corpora. For the lyrics data, it may be convenient to store the entire contents of the file to make it easier to inspect the titles individually, as you'll do in the last part of the assignment. In the solution, I stored the lyrics data in a dictionary with two dimensions of keys: artist and song. The value was the file contents. A data frame would work equally well. \n",
    "\n",
    "For the Twitter data, we only need the description field for this assignment. Feel free all the descriptions read it into a data structure. In the solution, I stored the descriptions as a dictionary of lists, with the key being the artist. \n",
    "\n",
    "\n"
   ]
  },
  {
   "cell_type": "code",
   "execution_count": 6,
   "id": "f6c70ea1",
   "metadata": {},
   "outputs": [],
   "source": [
    "twitter_path = os.path.join(data_location,twitter_folder)"
   ]
  },
  {
   "cell_type": "code",
   "execution_count": 7,
   "id": "f2aa7b21",
   "metadata": {},
   "outputs": [],
   "source": [
    "files = [os.path.join(twitter_path,file) for file in os.listdir(twitter_path) if file.split('_')[-1].startswith('data')]"
   ]
  },
  {
   "cell_type": "code",
   "execution_count": 8,
   "id": "06f2ef79",
   "metadata": {},
   "outputs": [],
   "source": [
    "# Read in the twitter data\n",
    "for file in files:\n",
    "    f = file.split('\\\\')[-1][:4]\n",
    "    globals()[f\"df_twitter_{f}\"] = pd.read_csv(file,delimiter='\\t',usecols=['description'])"
   ]
  },
  {
   "cell_type": "code",
   "execution_count": 9,
   "id": "2c4a40de",
   "metadata": {},
   "outputs": [],
   "source": [
    "lyrics_path = os.path.join(data_location,lyrics_folder)"
   ]
  },
  {
   "cell_type": "code",
   "execution_count": 10,
   "id": "abc9811d",
   "metadata": {},
   "outputs": [],
   "source": [
    "songs = [[os.path.join(lyrics_path,file,song) for song in os.listdir(os.path.join(lyrics_path,file))] for file in os.listdir(lyrics_path)]"
   ]
  },
  {
   "cell_type": "code",
   "execution_count": 11,
   "id": "2d7ebda6",
   "metadata": {},
   "outputs": [],
   "source": [
    "# Read in the lyrics data\n",
    "def readfile(fname):\n",
    "    with open(fname) as fp:\n",
    "        data = fp.readlines()\n",
    "    return data"
   ]
  },
  {
   "cell_type": "code",
   "execution_count": 12,
   "id": "b050d983",
   "metadata": {},
   "outputs": [],
   "source": [
    "lyrics = {}\n",
    "# lyrics['cher'] = {}\n",
    "# lyrics['roby'] = {}\n",
    "artist = ['cher','roby']"
   ]
  },
  {
   "cell_type": "code",
   "execution_count": 13,
   "id": "15a802c0",
   "metadata": {},
   "outputs": [],
   "source": [
    "for art, song in zip(artist,songs):\n",
    "    temp = {}\n",
    "    for s in song:\n",
    "        sname = s.split('\\\\')[-1].split('.txt')[0]\n",
    "        temp[sname] = readfile(s)\n",
    "    lyrics[art] = temp"
   ]
  },
  {
   "cell_type": "markdown",
   "id": "6a5f3b12",
   "metadata": {},
   "source": [
    "## Data Cleaning\n",
    "\n",
    "Now clean and tokenize your data. Remove punctuation chacters (available in the `punctuation` object in the `string` library), split on whitespace, fold to lowercase, and remove stopwords. Store your cleaned data, which must be accessible as an interable for `descriptive_stats`, in new objects or in new columns in your data frame. \n",
    "\n"
   ]
  },
  {
   "cell_type": "code",
   "execution_count": 14,
   "id": "71c73d86",
   "metadata": {},
   "outputs": [],
   "source": [
    "punctuation = set(punctuation) # speeds up comparison"
   ]
  },
  {
   "cell_type": "code",
   "execution_count": 15,
   "id": "11bc2697",
   "metadata": {},
   "outputs": [],
   "source": [
    "df_twitter_roby.dropna(inplace=True)\n",
    "df_twitter_cher.dropna(inplace=True)"
   ]
  },
  {
   "cell_type": "code",
   "execution_count": 16,
   "id": "37e3561b",
   "metadata": {},
   "outputs": [],
   "source": [
    "# df_twitter_roby = df_twitter_roby[:100]\n",
    "# df_twitter_cher = df_twitter_cher[:100]"
   ]
  },
  {
   "cell_type": "code",
   "execution_count": 17,
   "id": "6366735d",
   "metadata": {},
   "outputs": [],
   "source": [
    "# twitter = {}"
   ]
  },
  {
   "cell_type": "code",
   "execution_count": 18,
   "id": "a0ea9a99",
   "metadata": {},
   "outputs": [],
   "source": [
    "# twitter['roby']['raw'] = ' '.join(df_twitter_roby['description'].to_list())\n",
    "# twitter['cher']['raw'] = ' '.join(df_twitter_cher['description'].to_list())"
   ]
  },
  {
   "cell_type": "code",
   "execution_count": 19,
   "id": "b327033a",
   "metadata": {},
   "outputs": [],
   "source": [
    "def f(x):\n",
    "    \n",
    "    new_x = ''\n",
    "    for char in x:\n",
    "        if char not in punctuation:\n",
    "            new_x = new_x + char\n",
    "            \n",
    "    new_x = new_x.split()\n",
    "    new_x = [token for token in new_x if token not in sw]\n",
    "    return new_x"
   ]
  },
  {
   "cell_type": "code",
   "execution_count": 20,
   "id": "0d8ea3e1",
   "metadata": {},
   "outputs": [],
   "source": [
    "# create your clean twitter data here\n",
    "df_twitter_cher['clean'] = df_twitter_cher['description'].apply(f)\n",
    "df_twitter_roby['clean'] = df_twitter_roby['description'].apply(f)"
   ]
  },
  {
   "cell_type": "code",
   "execution_count": 21,
   "id": "e0f22e10",
   "metadata": {},
   "outputs": [],
   "source": [
    "# create your clean lyrics data here\n",
    "lyrics_clean = lyrics.copy()\n",
    "\n",
    "for song in lyrics_clean['cher']:\n",
    "    lyrics_clean['cher'][song] = f(' '.join(lyrics_clean['cher'][song]))\n",
    "    \n",
    "for song in lyrics_clean['roby']:\n",
    "    lyrics_clean['roby'][song] = f(' '.join(lyrics_clean['roby'][song]))"
   ]
  },
  {
   "cell_type": "markdown",
   "id": "f2dd0179",
   "metadata": {},
   "source": [
    "## Basic Descriptive Statistics\n",
    "\n",
    "Call your `descriptive_stats` function on both your lyrics data and your twitter data and for both artists (four total calls). "
   ]
  },
  {
   "cell_type": "code",
   "execution_count": 22,
   "id": "73445ed5",
   "metadata": {},
   "outputs": [],
   "source": [
    "df_twitter_roby_list = sum(df_twitter_roby['clean'],[])\n",
    "df_twitter_cher_list = sum(df_twitter_cher['clean'],[])"
   ]
  },
  {
   "cell_type": "code",
   "execution_count": 23,
   "id": "e21929d1",
   "metadata": {},
   "outputs": [],
   "source": [
    "# df_twitter_roby_str = ' '.join(df_twitter_roby_list)\n",
    "# df_twitter_cher_str = ' '.join(df_twitter_cher_list)"
   ]
  },
  {
   "cell_type": "code",
   "execution_count": 24,
   "id": "f0bbedd9",
   "metadata": {},
   "outputs": [
    {
     "name": "stdout",
     "output_type": "stream",
     "text": [
      "There are 782 tokens in the data.\n",
      "There are 674 unique tokens in the data.\n",
      "There are 4729 characters in the data.\n",
      "The lexical diversity is 0.862 in the data.\n"
     ]
    },
    {
     "data": {
      "text/plain": [
       "[782, 674, 0.8618925831202046, 4729]"
      ]
     },
     "execution_count": 24,
     "metadata": {},
     "output_type": "execute_result"
    }
   ],
   "source": [
    "# calls to descriptive_stats here\n",
    "descriptive_stats(df_twitter_roby_list)"
   ]
  },
  {
   "cell_type": "code",
   "execution_count": 25,
   "id": "6cf53ab8",
   "metadata": {},
   "outputs": [
    {
     "name": "stdout",
     "output_type": "stream",
     "text": [
      "There are 693 tokens in the data.\n",
      "There are 612 unique tokens in the data.\n",
      "There are 4082 characters in the data.\n",
      "The lexical diversity is 0.883 in the data.\n"
     ]
    },
    {
     "data": {
      "text/plain": [
       "[693, 612, 0.8831168831168831, 4082]"
      ]
     },
     "execution_count": 25,
     "metadata": {},
     "output_type": "execute_result"
    }
   ],
   "source": [
    "descriptive_stats(df_twitter_cher_list)"
   ]
  },
  {
   "cell_type": "code",
   "execution_count": 26,
   "id": "42f353f5",
   "metadata": {},
   "outputs": [],
   "source": [
    "lyrics_clean_cher = sum(lyrics_clean['cher'].values(),[])\n",
    "lyrics_clean_roby = sum(lyrics_clean['roby'].values(),[])"
   ]
  },
  {
   "cell_type": "code",
   "execution_count": 27,
   "id": "028cfe96",
   "metadata": {},
   "outputs": [
    {
     "name": "stdout",
     "output_type": "stream",
     "text": [
      "There are 44652 tokens in the data.\n",
      "There are 4647 unique tokens in the data.\n",
      "There are 193719 characters in the data.\n",
      "The lexical diversity is 0.104 in the data.\n"
     ]
    },
    {
     "data": {
      "text/plain": [
       "[44652, 4647, 0.1040714861596345, 193719]"
      ]
     },
     "execution_count": 27,
     "metadata": {},
     "output_type": "execute_result"
    }
   ],
   "source": [
    "descriptive_stats(lyrics_clean_cher)"
   ]
  },
  {
   "cell_type": "code",
   "execution_count": 28,
   "id": "9db2cf2a",
   "metadata": {},
   "outputs": [
    {
     "name": "stdout",
     "output_type": "stream",
     "text": [
      "There are 18229 tokens in the data.\n",
      "There are 2591 unique tokens in the data.\n",
      "There are 81176 characters in the data.\n",
      "The lexical diversity is 0.142 in the data.\n"
     ]
    },
    {
     "data": {
      "text/plain": [
       "[18229, 2591, 0.14213615667343243, 81176]"
      ]
     },
     "execution_count": 28,
     "metadata": {},
     "output_type": "execute_result"
    }
   ],
   "source": [
    "descriptive_stats(lyrics_clean_roby)"
   ]
  },
  {
   "cell_type": "markdown",
   "id": "f56cf91b",
   "metadata": {},
   "source": [
    "Q: How do you think the \"top 5 words\" would be different if we left stopwords in the data? \n",
    "\n",
    "A :  Yes, top 5 words will change, as stopwords have high frequency.\n",
    "\n",
    "\n",
    "Q: What were your prior beliefs about the lexical diversity between the artists? Does the difference (or lack thereof) in lexical diversity between the artists conform to your prior beliefs? \n",
    "\n",
    "A: More token means, more diversified. but descriptive_stats shows that roby has less token and is more lexically diversity.\n"
   ]
  },
  {
   "cell_type": "markdown",
   "id": "4d4e1ac1",
   "metadata": {},
   "source": [
    "\n",
    "## Specialty Statistics\n",
    "\n",
    "The descriptive statistics we have calculated are quite generic. You will now calculate a handful of statistics tailored to these data.\n",
    "\n",
    "1. Ten most common emojis by artist in the twitter descriptions.\n",
    "1. Ten most common hashtags by artist in the twitter descriptions.\n",
    "1. Five most common words in song titles by artist. \n",
    "1. For each artist, a histogram of song lengths (in terms of number of tokens) \n",
    "\n",
    "We can use the `emoji` library to help us identify emojis and you have been given a function to help you.\n"
   ]
  },
  {
   "cell_type": "code",
   "execution_count": 29,
   "id": "753a5a3e",
   "metadata": {},
   "outputs": [],
   "source": [
    "def is_emoji(s):\n",
    "    return(emoji.distinct_emoji_list(s))\n",
    "#     return(s in emoji.UNICODE_EMOJI['en'])\n",
    "\n",
    "assert(is_emoji(\"❤️\"))\n",
    "assert(not is_emoji(\":-)\"))"
   ]
  },
  {
   "cell_type": "markdown",
   "id": "986fc4c0",
   "metadata": {},
   "source": [
    "### Emojis 😁\n",
    "\n",
    "What are the ten most common emojis by artist in the twitter descriptions? \n"
   ]
  },
  {
   "cell_type": "code",
   "execution_count": 30,
   "id": "deb0e2f0",
   "metadata": {},
   "outputs": [],
   "source": [
    "# dict_roby = Counter(is_emoji(df_twitter_roby_str))\n",
    "# sorted(dict_roby.items(),key=lambda x:x[1],reverse=True)[:10]"
   ]
  },
  {
   "cell_type": "code",
   "execution_count": 31,
   "id": "269cd433",
   "metadata": {},
   "outputs": [
    {
     "data": {
      "text/plain": [
       "[('🌈', 3),\n",
       " ('🏳️\\u200d🌈', 3),\n",
       " ('🎥', 3),\n",
       " ('🌸', 2),\n",
       " ('🚀', 2),\n",
       " ('🐕', 2),\n",
       " ('🐢', 2),\n",
       " ('🔥', 2),\n",
       " ('🇪🇺', 2),\n",
       " ('💛', 2)]"
      ]
     },
     "execution_count": 31,
     "metadata": {},
     "output_type": "execute_result"
    }
   ],
   "source": [
    "# Your code here\n",
    "dict_roby = Counter(sum([is_emoji(i) for i in df_twitter_roby_list if is_emoji(i)],[]))\n",
    "\n",
    "sorted(dict_roby.items(),key=lambda x:x[1],reverse=True)[:10]"
   ]
  },
  {
   "cell_type": "code",
   "execution_count": 32,
   "id": "0347fbcc",
   "metadata": {},
   "outputs": [
    {
     "data": {
      "text/plain": [
       "[('🌹', 8),\n",
       " ('🌸', 5),\n",
       " ('✨', 3),\n",
       " ('🏳️\\u200d🌈', 3),\n",
       " ('🍒', 2),\n",
       " ('🎩', 2),\n",
       " ('💖', 2),\n",
       " ('💜', 1),\n",
       " ('💓', 1),\n",
       " ('🧡', 1)]"
      ]
     },
     "execution_count": 32,
     "metadata": {},
     "output_type": "execute_result"
    }
   ],
   "source": [
    "dict_cher = Counter(sum([is_emoji(i) for i in df_twitter_cher_list if is_emoji(i)],[]))\n",
    "\n",
    "sorted(dict_cher.items(),key=lambda x:x[1],reverse=True)[:10]"
   ]
  },
  {
   "cell_type": "markdown",
   "id": "bab9b770",
   "metadata": {},
   "source": [
    "### Hashtags\n",
    "\n",
    "What are the ten most common hashtags by artist in the twitter descriptions? \n"
   ]
  },
  {
   "cell_type": "code",
   "execution_count": 33,
   "id": "07c396f1",
   "metadata": {},
   "outputs": [],
   "source": [
    "# Your code here\n",
    "\n",
    "df_twitter_roby['hashtag'] = df_twitter_roby['description'].apply(lambda x : re.findall(r\"#(\\w+)\", x))\n",
    "\n",
    "df_twitter_cher['hashtag'] = df_twitter_cher['description'].apply(lambda x : re.findall(r\"#(\\w+)\", x))"
   ]
  },
  {
   "cell_type": "code",
   "execution_count": 34,
   "id": "bee11679",
   "metadata": {},
   "outputs": [
    {
     "data": {
      "text/plain": [
       "[('morecomingsoon', 1),\n",
       " ('WorldOfWarcraft', 1),\n",
       " ('HipHop', 1),\n",
       " ('Underground', 1),\n",
       " ('Mainstream', 1),\n",
       " ('Money', 1),\n",
       " ('Women', 1),\n",
       " ('Weed', 1),\n",
       " ('MohammadTheCat', 1),\n",
       " ('VanGoghTheCat', 1)]"
      ]
     },
     "execution_count": 34,
     "metadata": {},
     "output_type": "execute_result"
    }
   ],
   "source": [
    "d = Counter(sum(df_twitter_roby['hashtag'],[]))\n",
    "sorted(d.items(),key=lambda x:x[1],reverse=True)[:10]"
   ]
  },
  {
   "cell_type": "code",
   "execution_count": 35,
   "id": "dcb5a48b",
   "metadata": {},
   "outputs": [
    {
     "data": {
      "text/plain": [
       "[('DCnative', 1),\n",
       " ('TheResistance', 1),\n",
       " ('Pagan', 1),\n",
       " ('BlackLivesMatter', 1),\n",
       " ('COWBOY', 1),\n",
       " ('KeepItReal', 1),\n",
       " ('CommonSense', 1),\n",
       " ('MediaIsTheRealVirus', 1),\n",
       " ('NotFinancialAdvice', 1),\n",
       " ('_', 1)]"
      ]
     },
     "execution_count": 35,
     "metadata": {},
     "output_type": "execute_result"
    }
   ],
   "source": [
    "d = Counter(sum(df_twitter_cher['hashtag'],[]))\n",
    "sorted(d.items(),key=lambda x:x[1],reverse=True)[:10]"
   ]
  },
  {
   "cell_type": "markdown",
   "id": "d10f21d5",
   "metadata": {},
   "source": [
    "### Song Titles\n",
    "\n",
    "What are the five most common words in song titles by artist? The song titles should be on the first line of the lyrics pages, so if you have kept the raw file contents around, you will not need to re-read the data.\n"
   ]
  },
  {
   "cell_type": "code",
   "execution_count": 36,
   "id": "bb69b36b",
   "metadata": {},
   "outputs": [],
   "source": [
    "# Your code here\n",
    "\n",
    "title_char = []\n",
    "for song in lyrics['cher']:\n",
    "    title_char = title_char + lyrics['cher'][song][0].strip().split()\n",
    "    \n",
    "    \n",
    "title_roby = []\n",
    "for song in lyrics['roby']:\n",
    "    title_roby = title_roby + lyrics['roby'][song][0].strip().split()"
   ]
  },
  {
   "cell_type": "code",
   "execution_count": 37,
   "id": "371d4953",
   "metadata": {},
   "outputs": [
    {
     "data": {
      "text/plain": [
       "[('The', 24),\n",
       " ('I', 21),\n",
       " ('Love', 12),\n",
       " ('When', 6),\n",
       " ('You', 6),\n",
       " ('A', 4),\n",
       " ('Do', 4),\n",
       " ('Dont', 4),\n",
       " ('Its', 4),\n",
       " ('Just', 4)]"
      ]
     },
     "execution_count": 37,
     "metadata": {},
     "output_type": "execute_result"
    }
   ],
   "source": [
    "d = Counter(title_char)\n",
    "\n",
    "sorted(d.items(),key=lambda x:x[1],reverse=True)[:10]"
   ]
  },
  {
   "cell_type": "code",
   "execution_count": 38,
   "id": "e7389556",
   "metadata": {},
   "outputs": [
    {
     "data": {
      "text/plain": [
       "[('Dont', 4),\n",
       " ('Do', 3),\n",
       " ('Hang', 3),\n",
       " ('In', 3),\n",
       " ('Love', 3),\n",
       " ('Dancehall', 2),\n",
       " ('Dancing', 2),\n",
       " ('Fembot', 2),\n",
       " ('Indestructible', 2),\n",
       " ('My', 2)]"
      ]
     },
     "execution_count": 38,
     "metadata": {},
     "output_type": "execute_result"
    }
   ],
   "source": [
    "d1 = Counter(title_roby)\n",
    "\n",
    "sorted(d1.items(),key=lambda x:x[1],reverse=True)[:10]"
   ]
  },
  {
   "cell_type": "markdown",
   "id": "5dd4fd71",
   "metadata": {},
   "source": [
    "### Song Lengths\n",
    "\n",
    "For each artist, a histogram of song lengths (in terms of number of tokens). If you put the song lengths in a data frame with an artist column, matplotlib will make the plotting quite easy. An example is given to help you out. \n"
   ]
  },
  {
   "cell_type": "code",
   "execution_count": 39,
   "id": "805a1e52",
   "metadata": {},
   "outputs": [
    {
     "data": {
      "text/plain": [
       "artist\n",
       "Artist 1    AxesSubplot(0.125,0.125;0.775x0.755)\n",
       "Artist 2    AxesSubplot(0.125,0.125;0.775x0.755)\n",
       "Name: length, dtype: object"
      ]
     },
     "execution_count": 39,
     "metadata": {},
     "output_type": "execute_result"
    },
    {
     "data": {
      "image/png": "[encoded data removed]",
      "text/plain": [
       "<Figure size 432x288 with 1 Axes>"
      ]
     },
     "metadata": {
      "needs_background": "light"
     },
     "output_type": "display_data"
    }
   ],
   "source": [
    "num_replicates = 1000\n",
    "\n",
    "df = pd.DataFrame({\n",
    "    \"artist\" : ['Artist 1'] * num_replicates + ['Artist 2']*num_replicates,\n",
    "    \"length\" : np.concatenate((np.random.poisson(125,num_replicates),np.random.poisson(150,num_replicates)))\n",
    "})\n",
    "\n",
    "df.groupby('artist')['length'].plot(kind=\"hist\",density=True,alpha=0.5,legend=True)"
   ]
  },
  {
   "cell_type": "code",
   "execution_count": 40,
   "id": "a8592a2d",
   "metadata": {},
   "outputs": [],
   "source": [
    "dff = pd.DataFrame([],columns=['artist','length'])\n",
    "\n",
    "for singer in lyrics_clean:\n",
    "    for song in lyrics_clean[singer]:\n",
    "        l = len(lyrics_clean[singer][song])\n",
    "        \n",
    "        dff.loc[len(dff)] = [singer,l]"
   ]
  },
  {
   "cell_type": "code",
   "execution_count": 41,
   "id": "abc37646",
   "metadata": {},
   "outputs": [
    {
     "data": {
      "text/html": [
       "<div>\n",
       "<style scoped>\n",
       "    .dataframe tbody tr th:only-of-type {\n",
       "        vertical-align: middle;\n",
       "    }\n",
       "\n",
       "    .dataframe tbody tr th {\n",
       "        vertical-align: top;\n",
       "    }\n",
       "\n",
       "    .dataframe thead th {\n",
       "        text-align: right;\n",
       "    }\n",
       "</style>\n",
       "<table border=\"1\" class=\"dataframe\">\n",
       "  <thead>\n",
       "    <tr style=\"text-align: right;\">\n",
       "      <th></th>\n",
       "      <th>artist</th>\n",
       "      <th>length</th>\n",
       "    </tr>\n",
       "  </thead>\n",
       "  <tbody>\n",
       "    <tr>\n",
       "      <th>0</th>\n",
       "      <td>cher</td>\n",
       "      <td>209</td>\n",
       "    </tr>\n",
       "    <tr>\n",
       "      <th>1</th>\n",
       "      <td>cher</td>\n",
       "      <td>165</td>\n",
       "    </tr>\n",
       "    <tr>\n",
       "      <th>2</th>\n",
       "      <td>cher</td>\n",
       "      <td>156</td>\n",
       "    </tr>\n",
       "    <tr>\n",
       "      <th>3</th>\n",
       "      <td>cher</td>\n",
       "      <td>47</td>\n",
       "    </tr>\n",
       "    <tr>\n",
       "      <th>4</th>\n",
       "      <td>cher</td>\n",
       "      <td>82</td>\n",
       "    </tr>\n",
       "    <tr>\n",
       "      <th>...</th>\n",
       "      <td>...</td>\n",
       "      <td>...</td>\n",
       "    </tr>\n",
       "    <tr>\n",
       "      <th>415</th>\n",
       "      <td>roby</td>\n",
       "      <td>309</td>\n",
       "    </tr>\n",
       "    <tr>\n",
       "      <th>416</th>\n",
       "      <td>roby</td>\n",
       "      <td>68</td>\n",
       "    </tr>\n",
       "    <tr>\n",
       "      <th>417</th>\n",
       "      <td>roby</td>\n",
       "      <td>196</td>\n",
       "    </tr>\n",
       "    <tr>\n",
       "      <th>418</th>\n",
       "      <td>roby</td>\n",
       "      <td>135</td>\n",
       "    </tr>\n",
       "    <tr>\n",
       "      <th>419</th>\n",
       "      <td>roby</td>\n",
       "      <td>102</td>\n",
       "    </tr>\n",
       "  </tbody>\n",
       "</table>\n",
       "<p>420 rows × 2 columns</p>\n",
       "</div>"
      ],
      "text/plain": [
       "    artist length\n",
       "0     cher    209\n",
       "1     cher    165\n",
       "2     cher    156\n",
       "3     cher     47\n",
       "4     cher     82\n",
       "..     ...    ...\n",
       "415   roby    309\n",
       "416   roby     68\n",
       "417   roby    196\n",
       "418   roby    135\n",
       "419   roby    102\n",
       "\n",
       "[420 rows x 2 columns]"
      ]
     },
     "execution_count": 41,
     "metadata": {},
     "output_type": "execute_result"
    }
   ],
   "source": [
    "dff"
   ]
  },
  {
   "cell_type": "code",
   "execution_count": 42,
   "id": "cb0a9f25",
   "metadata": {},
   "outputs": [
    {
     "data": {
      "text/plain": [
       "artist\n",
       "cher    AxesSubplot(0.125,0.125;0.775x0.755)\n",
       "roby    AxesSubplot(0.125,0.125;0.775x0.755)\n",
       "Name: length, dtype: object"
      ]
     },
     "execution_count": 42,
     "metadata": {},
     "output_type": "execute_result"
    },
    {
     "data": {
      "image/png": "[encoded data removed]",
      "text/plain": [
       "<Figure size 432x288 with 1 Axes>"
      ]
     },
     "metadata": {
      "needs_background": "light"
     },
     "output_type": "display_data"
    }
   ],
   "source": [
    "dff.groupby('artist')['length'].plot(kind=\"hist\",density=True,alpha=0.5,legend=True)"
   ]
  },
  {
   "cell_type": "markdown",
   "id": "8fde9ebb",
   "metadata": {},
   "source": [
    "Since the lyrics may be stored with carriage returns or tabs, it may be useful to have a function that can collapse whitespace, using regular expressions, and be used for splitting. \n",
    "\n",
    "Q: What does the regular expression `'\\s+'` match on? \n",
    "\n",
    "A: \\s metacharacter matches one or more whitespace character. Whitespace characters can be: A space character; A tab character; A carriage return character."
   ]
  },
  {
   "cell_type": "code",
   "execution_count": 43,
   "id": "f0e34516",
   "metadata": {},
   "outputs": [],
   "source": [
    "collapse_whitespace = re.compile(r'\\s+')\n",
    "\n",
    "def tokenize_lyrics(lyric) : \n",
    "    \"\"\"strip and split on whitespace\"\"\"\n",
    "    return([item.lower() for item in collapse_whitespace.split(lyric)])"
   ]
  },
  {
   "cell_type": "code",
   "execution_count": 44,
   "id": "9d946b88",
   "metadata": {},
   "outputs": [],
   "source": [
    "# create your clean twitter data here\n",
    "def f1(x):\n",
    "    \n",
    "    new_x = ''\n",
    "    for char in x:\n",
    "        if char not in punctuation:\n",
    "            new_x = new_x + char\n",
    "            \n",
    "    new_x = tokenize_lyrics(new_x)\n",
    "    new_x = [token for token in new_x if token not in sw]\n",
    "    return new_x"
   ]
  },
  {
   "cell_type": "code",
   "execution_count": 45,
   "id": "2294c440",
   "metadata": {},
   "outputs": [],
   "source": [
    "# Your lyric length comparison chart here. "
   ]
  },
  {
   "cell_type": "code",
   "execution_count": 46,
   "id": "4a082d27",
   "metadata": {},
   "outputs": [],
   "source": [
    "for song in lyrics['cher']:\n",
    "    lyrics['cher'][song] = f1(' '.join(lyrics['cher'][song]))\n",
    "    \n",
    "for song in lyrics_clean['roby']:\n",
    "    lyrics['roby'][song] = f1(' '.join(lyrics['roby'][song]))"
   ]
  },
  {
   "cell_type": "code",
   "execution_count": 47,
   "id": "9041b151",
   "metadata": {},
   "outputs": [],
   "source": [
    "dff = pd.DataFrame([],columns=['artist','length'])\n",
    "\n",
    "for singer in lyrics:\n",
    "    for song in lyrics[singer]:\n",
    "        l = len(lyrics[singer][song])\n",
    "        \n",
    "        dff.loc[len(dff)] = [singer,l]"
   ]
  },
  {
   "cell_type": "code",
   "execution_count": 48,
   "id": "2a313915",
   "metadata": {},
   "outputs": [
    {
     "data": {
      "text/plain": [
       "artist\n",
       "cher    AxesSubplot(0.125,0.125;0.775x0.755)\n",
       "roby    AxesSubplot(0.125,0.125;0.775x0.755)\n",
       "Name: length, dtype: object"
      ]
     },
     "execution_count": 48,
     "metadata": {},
     "output_type": "execute_result"
    },
    {
     "data": {
      "image/png": "[encoded data removed]",
      "text/plain": [
       "<Figure size 432x288 with 1 Axes>"
      ]
     },
     "metadata": {
      "needs_background": "light"
     },
     "output_type": "display_data"
    }
   ],
   "source": [
    "dff.groupby('artist')['length'].plot(kind=\"hist\",density=True,alpha=0.5,legend=True)"
   ]
  },
  {
   "cell_type": "code",
   "execution_count": null,
   "id": "90d3cfe0",
   "metadata": {},
   "outputs": [],
   "source": []
  }
 ],
 "metadata": {
  "kernelspec": {
   "display_name": "Python 3 (ipykernel)",
   "language": "python",
   "name": "python3"
  },
  "language_info": {
   "codemirror_mode": {
    "name": "ipython",
    "version": 3
   },
   "file_extension": ".py",
   "mimetype": "text/x-python",
   "name": "python",
   "nbconvert_exporter": "python",
   "pygments_lexer": "ipython3",
   "version": "3.9.12"
  }
 },
 "nbformat": 4,
 "nbformat_minor": 5
}
