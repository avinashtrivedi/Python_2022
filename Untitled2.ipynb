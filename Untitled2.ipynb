{
 "cells": [
  {
   "cell_type": "code",
   "execution_count": 1,
   "metadata": {},
   "outputs": [],
   "source": [
    "# !pip install pyBigWig"
   ]
  },
  {
   "cell_type": "code",
   "execution_count": 3,
   "metadata": {},
   "outputs": [
    {
     "ename": "ModuleNotFoundError",
     "evalue": "No module named 'pyBigWig'",
     "output_type": "error",
     "traceback": [
      "\u001b[1;31m---------------------------------------------------------------------------\u001b[0m",
      "\u001b[1;31mModuleNotFoundError\u001b[0m                       Traceback (most recent call last)",
      "\u001b[1;32m<ipython-input-3-aba7fd0766b9>\u001b[0m in \u001b[0;36m<module>\u001b[1;34m\u001b[0m\n\u001b[0;32m      1\u001b[0m \u001b[1;32mimport\u001b[0m \u001b[0mnumpy\u001b[0m \u001b[1;32mas\u001b[0m \u001b[0mnp\u001b[0m\u001b[1;33m\u001b[0m\u001b[1;33m\u001b[0m\u001b[0m\n\u001b[0;32m      2\u001b[0m \u001b[1;32mimport\u001b[0m \u001b[0margparse\u001b[0m\u001b[1;33m\u001b[0m\u001b[1;33m\u001b[0m\u001b[0m\n\u001b[1;32m----> 3\u001b[1;33m \u001b[1;32mimport\u001b[0m \u001b[0mpyBigWig\u001b[0m\u001b[1;33m\u001b[0m\u001b[1;33m\u001b[0m\u001b[0m\n\u001b[0m\u001b[0;32m      4\u001b[0m \u001b[1;32mfrom\u001b[0m \u001b[0msklearn\u001b[0m\u001b[1;33m.\u001b[0m\u001b[0mutils\u001b[0m\u001b[1;33m.\u001b[0m\u001b[0mextmath\u001b[0m \u001b[1;32mimport\u001b[0m \u001b[0mrandomized_svd\u001b[0m\u001b[1;33m\u001b[0m\u001b[1;33m\u001b[0m\u001b[0m\n\u001b[0;32m      5\u001b[0m \u001b[1;32mfrom\u001b[0m \u001b[0mglob\u001b[0m \u001b[1;32mimport\u001b[0m \u001b[0mglob\u001b[0m\u001b[1;33m\u001b[0m\u001b[1;33m\u001b[0m\u001b[0m\n",
      "\u001b[1;31mModuleNotFoundError\u001b[0m: No module named 'pyBigWig'"
     ]
    }
   ],
   "source": [
    "import numpy as np\n",
    "import argparse\n",
    "import pyBigWig\n",
    "from sklearn.utils.extmath import randomized_svd\n",
    "from glob import glob"
   ]
  },
  {
   "cell_type": "code",
   "execution_count": null,
   "metadata": {},
   "outputs": [],
   "source": []
  },
  {
   "cell_type": "code",
   "execution_count": null,
   "metadata": {},
   "outputs": [],
   "source": []
  },
  {
   "cell_type": "code",
   "execution_count": null,
   "metadata": {},
   "outputs": [],
   "source": []
  },
  {
   "cell_type": "code",
   "execution_count": null,
   "metadata": {},
   "outputs": [],
   "source": []
  },
  {
   "cell_type": "code",
   "execution_count": null,
   "metadata": {},
   "outputs": [],
   "source": [
    "import numpy as np\n",
    "import argparse\n",
    "import pyBigWig\n",
    "from sklearn.utils.extmath import randomized_svd\n",
    "from glob import glob\n",
    "\n",
    "parser = argparse.ArgumentParser(description='Compute NMF to find latent variables with high correlation to transcription start sites')\n",
    "parser.add_argument('-b','--bw_dir',help='Directory containing bigWig file(s)',required=True)\n",
    "parser.add_argument('-c','--chromosome_number',help='Which chromosome to get the values for',required=True)\n",
    "parser.add_argument('-s','--start_pos',type=int,help='Position to start reading from')\n",
    "parser.add_argument('-e','--end_pos',type=int,help='Position to stop reading at')\n",
    "parser.add_argument('-k',type=int,default=10,help='Number of latent vectors')\n",
    "parser.add_argument('-o','--output_file',help='Output file of latent factors matrix.',required=True)\n",
    "\n",
    "args = parser.parse_args()\n",
    "\n",
    "files = glob(f'{args.bw_dir}/*.bw')\n",
    "\n",
    "#construct matrix of values from bigWig files\n",
    "for idx, fname in enumerate(files):\n",
    "    # IMPLEMENT -- use pyBigWig to access the .bw files\n",
    "\t# use args.chromosome_number to access the correct chromosome\n",
    "\t# use args.start_pos and args.end_pos for the start and end position of the chromosome\n",
    "\n",
    "    #deal with NaN, apply any other transformations\n",
    "\n",
    "#setup proximity operator using the provided code\n",
    "\n",
    "def init_H(Y,k):\n",
    "\t# initialize H\n",
    "\t# can be a random initialization or using the randomized_svd from sklearn\n",
    "\n",
    "\treturn H\n",
    "\n",
    "def NMF_FL(Y, k, num_iter=50, l2penalty=1, fl_lambda=1):\n",
    "    H = init_H(Y,k)\n",
    "\n",
    "    #this is the diagonal offset\n",
    "    #if l2penalty is small all this does is make the matrix invertible\n",
    "    D=np.eye(k) * l2penalty\n",
    "    for n in range(num_iter):\n",
    "        # Update W\n",
    "        # $W \\leftarrow Y H^T (H H^T + D)^{-1}$\n",
    "\n",
    "        # Set negative elements of W to 0\n",
    "\n",
    "        # apply fused lasso\n",
    "\n",
    "        # Update H\n",
    "\n",
    "        # Set negative elements of H to 0\n",
    "\n",
    "        #early stopping?\n",
    "    return W, H\n",
    "\n",
    "# Change BIGWIG_DATA to the name of your value matrix\n",
    "# num_iter, l2penalty, and fl_lambda are all hyperparameters that should be tuned to maximize correlation with genes\n",
    "W, H = NMF_FL(BIGWIG_DATA, args.k, num_iter=50, l2penalty=1, fl_lambda=1)\n",
    "\n",
    "np.save(args.output_file,W,allow_pickle=True)"
   ]
  }
 ],
 "metadata": {
  "kernelspec": {
   "display_name": "Python 3",
   "language": "python",
   "name": "python3"
  },
  "language_info": {
   "codemirror_mode": {
    "name": "ipython",
    "version": 3
   },
   "file_extension": ".py",
   "mimetype": "text/x-python",
   "name": "python",
   "nbconvert_exporter": "python",
   "pygments_lexer": "ipython3",
   "version": "3.8.5"
  }
 },
 "nbformat": 4,
 "nbformat_minor": 4
}
