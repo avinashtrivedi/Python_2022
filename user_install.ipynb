{
 "cells": [
  {
   "cell_type": "code",
   "execution_count": 1,
   "id": "87f46045",
   "metadata": {},
   "outputs": [],
   "source": [
    "import pandas as pd"
   ]
  },
  {
   "cell_type": "code",
   "execution_count": 2,
   "id": "c0a8a0e5",
   "metadata": {},
   "outputs": [],
   "source": [
    "install_df = pd.read_csv('newdata.csv')"
   ]
  },
  {
   "cell_type": "code",
   "execution_count": 5,
   "id": "064cd8a4",
   "metadata": {},
   "outputs": [
    {
     "data": {
      "text/plain": [
       "Unnamed: 0      int64\n",
       "event_id       object\n",
       "distinct_id    object\n",
       "timestamp      object\n",
       "uuid           object\n",
       "dtype: object"
      ]
     },
     "execution_count": 5,
     "metadata": {},
     "output_type": "execute_result"
    }
   ],
   "source": [
    "install_df.dtypes"
   ]
  },
  {
   "cell_type": "code",
   "execution_count": 6,
   "id": "fb59a855",
   "metadata": {},
   "outputs": [],
   "source": [
    "install_df['timestamp'] = pd.to_datetime(install_df['timestamp']) \n",
    "install_df['month'] = install_df['timestamp'].dt.month\n",
    "install_df['day'] = install_df['timestamp'].dt.day"
   ]
  },
  {
   "cell_type": "code",
   "execution_count": 7,
   "id": "cf1ee1e2",
   "metadata": {},
   "outputs": [],
   "source": [
    "def get_week(x):\n",
    "    if 1<=x<=7:\n",
    "        return 1\n",
    "    elif 8<=x<=14:\n",
    "        return 2\n",
    "    elif 15<=x<=21:\n",
    "        return 3\n",
    "    else:\n",
    "        return 4"
   ]
  },
  {
   "cell_type": "code",
   "execution_count": 8,
   "id": "6897b29a",
   "metadata": {},
   "outputs": [],
   "source": [
    "install_df['week'] = install_df['day'].apply(lambda x: get_week(x))"
   ]
  },
  {
   "cell_type": "code",
   "execution_count": 9,
   "id": "ba6a3df3",
   "metadata": {},
   "outputs": [
    {
     "data": {
      "text/html": [
       "<div>\n",
       "<style scoped>\n",
       "    .dataframe tbody tr th:only-of-type {\n",
       "        vertical-align: middle;\n",
       "    }\n",
       "\n",
       "    .dataframe tbody tr th {\n",
       "        vertical-align: top;\n",
       "    }\n",
       "\n",
       "    .dataframe thead th {\n",
       "        text-align: right;\n",
       "    }\n",
       "</style>\n",
       "<table border=\"1\" class=\"dataframe\">\n",
       "  <thead>\n",
       "    <tr style=\"text-align: right;\">\n",
       "      <th></th>\n",
       "      <th>Unnamed: 0</th>\n",
       "      <th>event_id</th>\n",
       "      <th>distinct_id</th>\n",
       "      <th>timestamp</th>\n",
       "      <th>uuid</th>\n",
       "      <th>month</th>\n",
       "      <th>day</th>\n",
       "      <th>week</th>\n",
       "    </tr>\n",
       "  </thead>\n",
       "  <tbody>\n",
       "    <tr>\n",
       "      <th>0</th>\n",
       "      <td>0</td>\n",
       "      <td>0180d84a-c057-0000-a57d-280a72ad36c0</td>\n",
       "      <td>66b0eee39fdd329a56354dada74f432ef42ed167e57584...</td>\n",
       "      <td>2022-05-18 17:50:17</td>\n",
       "      <td>c7df8b9ae11c9c25ac098610e8d41c2c9a931dc9ad4ec0...</td>\n",
       "      <td>5</td>\n",
       "      <td>18</td>\n",
       "      <td>3</td>\n",
       "    </tr>\n",
       "    <tr>\n",
       "      <th>1</th>\n",
       "      <td>1</td>\n",
       "      <td>0180d84d-a712-0002-596f-9b14a1102ae6</td>\n",
       "      <td>5b90b1af800a7a073bac5fd681d08ff67fb1080d50d695...</td>\n",
       "      <td>2022-05-18 17:53:27</td>\n",
       "      <td>3e97af5d54a450fb1df0ce7726b3e650ea6796c19f2647...</td>\n",
       "      <td>5</td>\n",
       "      <td>18</td>\n",
       "      <td>3</td>\n",
       "    </tr>\n",
       "    <tr>\n",
       "      <th>2</th>\n",
       "      <td>2</td>\n",
       "      <td>0180d85f-f304-0000-cca2-9b5599534f0d</td>\n",
       "      <td>747c4a37b455c1fbb04744374105a1227b4e8df150309c...</td>\n",
       "      <td>2022-05-18 18:13:27</td>\n",
       "      <td>76a3f1b4c8890a0b2c3d9f97959a87a3adb58dd998462d...</td>\n",
       "      <td>5</td>\n",
       "      <td>18</td>\n",
       "      <td>3</td>\n",
       "    </tr>\n",
       "    <tr>\n",
       "      <th>3</th>\n",
       "      <td>3</td>\n",
       "      <td>0180d860-0a61-0002-5c7b-b3807a4158ea</td>\n",
       "      <td>747c4a37b455c1fbb04744374105a1227b4e8df150309c...</td>\n",
       "      <td>2022-05-18 18:13:33</td>\n",
       "      <td>76a3f1b4c8890a0b2c3d9f97959a87a3adb58dd998462d...</td>\n",
       "      <td>5</td>\n",
       "      <td>18</td>\n",
       "      <td>3</td>\n",
       "    </tr>\n",
       "    <tr>\n",
       "      <th>4</th>\n",
       "      <td>4</td>\n",
       "      <td>0180d85c-c18d-0001-5063-f69092641862</td>\n",
       "      <td>4e9f0301ec6971bd84862a93b8ceb48f5f55c910a07cf1...</td>\n",
       "      <td>2022-05-18 18:09:57</td>\n",
       "      <td>fdd8b478246bce03a29b4111eb729c8a091ec8bb47c72b...</td>\n",
       "      <td>5</td>\n",
       "      <td>18</td>\n",
       "      <td>3</td>\n",
       "    </tr>\n",
       "    <tr>\n",
       "      <th>...</th>\n",
       "      <td>...</td>\n",
       "      <td>...</td>\n",
       "      <td>...</td>\n",
       "      <td>...</td>\n",
       "      <td>...</td>\n",
       "      <td>...</td>\n",
       "      <td>...</td>\n",
       "      <td>...</td>\n",
       "    </tr>\n",
       "    <tr>\n",
       "      <th>7541</th>\n",
       "      <td>7541</td>\n",
       "      <td>01816cc0-bb25-0002-5895-19523211ad0a</td>\n",
       "      <td>41cbd12abfbeceec082d40a303a7b5db892cf1d81b12ee...</td>\n",
       "      <td>2022-06-16 13:42:57</td>\n",
       "      <td>f4cd860c696c965de9857f5cfe900ac0488b288ac69160...</td>\n",
       "      <td>6</td>\n",
       "      <td>16</td>\n",
       "      <td>3</td>\n",
       "    </tr>\n",
       "    <tr>\n",
       "      <th>7542</th>\n",
       "      <td>7542</td>\n",
       "      <td>01816afc-c8de-0000-60a5-84569bc1e976</td>\n",
       "      <td>77ad0db1cb59f86b122cad413abd36667e1b4c1fa4e9e4...</td>\n",
       "      <td>2022-06-16 05:29:18</td>\n",
       "      <td>6b49e7c38a0975fe475cf263ddcb800ce0e31c4555f579...</td>\n",
       "      <td>6</td>\n",
       "      <td>16</td>\n",
       "      <td>3</td>\n",
       "    </tr>\n",
       "    <tr>\n",
       "      <th>7543</th>\n",
       "      <td>7543</td>\n",
       "      <td>01816b11-65d1-0000-d95b-bdd6ea6c8a66</td>\n",
       "      <td>4cd0a49abdc54a65089bb40aae919d283be1af49a3a0a4...</td>\n",
       "      <td>2022-06-16 05:51:48</td>\n",
       "      <td>daa8371898b95bb7b033c53def681b613c01291b265989...</td>\n",
       "      <td>6</td>\n",
       "      <td>16</td>\n",
       "      <td>3</td>\n",
       "    </tr>\n",
       "    <tr>\n",
       "      <th>7544</th>\n",
       "      <td>7544</td>\n",
       "      <td>01816e6b-1765-0000-df61-ca50b11a8b84</td>\n",
       "      <td>74b81f81e36a671511bbea7bc91b640650983539cecfaf...</td>\n",
       "      <td>2022-06-16 21:28:38</td>\n",
       "      <td>5ee033f49b3b4b818c6043b0cb6b472896610bf6e2e0c8...</td>\n",
       "      <td>6</td>\n",
       "      <td>16</td>\n",
       "      <td>3</td>\n",
       "    </tr>\n",
       "    <tr>\n",
       "      <th>7545</th>\n",
       "      <td>7545</td>\n",
       "      <td>01816b50-3ae1-0000-d5e3-976d2d79aa17</td>\n",
       "      <td>9c51ca942621d5fcd8c48d7e036d9f5ffc04c0668572f6...</td>\n",
       "      <td>2022-06-16 07:00:27</td>\n",
       "      <td>6d8d882275f61f620d9fb890301ca4e143dee5ba763f2e...</td>\n",
       "      <td>6</td>\n",
       "      <td>16</td>\n",
       "      <td>3</td>\n",
       "    </tr>\n",
       "  </tbody>\n",
       "</table>\n",
       "<p>7546 rows × 8 columns</p>\n",
       "</div>"
      ],
      "text/plain": [
       "      Unnamed: 0                              event_id  \\\n",
       "0              0  0180d84a-c057-0000-a57d-280a72ad36c0   \n",
       "1              1  0180d84d-a712-0002-596f-9b14a1102ae6   \n",
       "2              2  0180d85f-f304-0000-cca2-9b5599534f0d   \n",
       "3              3  0180d860-0a61-0002-5c7b-b3807a4158ea   \n",
       "4              4  0180d85c-c18d-0001-5063-f69092641862   \n",
       "...          ...                                   ...   \n",
       "7541        7541  01816cc0-bb25-0002-5895-19523211ad0a   \n",
       "7542        7542  01816afc-c8de-0000-60a5-84569bc1e976   \n",
       "7543        7543  01816b11-65d1-0000-d95b-bdd6ea6c8a66   \n",
       "7544        7544  01816e6b-1765-0000-df61-ca50b11a8b84   \n",
       "7545        7545  01816b50-3ae1-0000-d5e3-976d2d79aa17   \n",
       "\n",
       "                                            distinct_id           timestamp  \\\n",
       "0     66b0eee39fdd329a56354dada74f432ef42ed167e57584... 2022-05-18 17:50:17   \n",
       "1     5b90b1af800a7a073bac5fd681d08ff67fb1080d50d695... 2022-05-18 17:53:27   \n",
       "2     747c4a37b455c1fbb04744374105a1227b4e8df150309c... 2022-05-18 18:13:27   \n",
       "3     747c4a37b455c1fbb04744374105a1227b4e8df150309c... 2022-05-18 18:13:33   \n",
       "4     4e9f0301ec6971bd84862a93b8ceb48f5f55c910a07cf1... 2022-05-18 18:09:57   \n",
       "...                                                 ...                 ...   \n",
       "7541  41cbd12abfbeceec082d40a303a7b5db892cf1d81b12ee... 2022-06-16 13:42:57   \n",
       "7542  77ad0db1cb59f86b122cad413abd36667e1b4c1fa4e9e4... 2022-06-16 05:29:18   \n",
       "7543  4cd0a49abdc54a65089bb40aae919d283be1af49a3a0a4... 2022-06-16 05:51:48   \n",
       "7544  74b81f81e36a671511bbea7bc91b640650983539cecfaf... 2022-06-16 21:28:38   \n",
       "7545  9c51ca942621d5fcd8c48d7e036d9f5ffc04c0668572f6... 2022-06-16 07:00:27   \n",
       "\n",
       "                                                   uuid  month  day  week  \n",
       "0     c7df8b9ae11c9c25ac098610e8d41c2c9a931dc9ad4ec0...      5   18     3  \n",
       "1     3e97af5d54a450fb1df0ce7726b3e650ea6796c19f2647...      5   18     3  \n",
       "2     76a3f1b4c8890a0b2c3d9f97959a87a3adb58dd998462d...      5   18     3  \n",
       "3     76a3f1b4c8890a0b2c3d9f97959a87a3adb58dd998462d...      5   18     3  \n",
       "4     fdd8b478246bce03a29b4111eb729c8a091ec8bb47c72b...      5   18     3  \n",
       "...                                                 ...    ...  ...   ...  \n",
       "7541  f4cd860c696c965de9857f5cfe900ac0488b288ac69160...      6   16     3  \n",
       "7542  6b49e7c38a0975fe475cf263ddcb800ce0e31c4555f579...      6   16     3  \n",
       "7543  daa8371898b95bb7b033c53def681b613c01291b265989...      6   16     3  \n",
       "7544  5ee033f49b3b4b818c6043b0cb6b472896610bf6e2e0c8...      6   16     3  \n",
       "7545  6d8d882275f61f620d9fb890301ca4e143dee5ba763f2e...      6   16     3  \n",
       "\n",
       "[7546 rows x 8 columns]"
      ]
     },
     "execution_count": 9,
     "metadata": {},
     "output_type": "execute_result"
    }
   ],
   "source": [
    "install_df"
   ]
  },
  {
   "cell_type": "code",
   "execution_count": 12,
   "id": "a915b246",
   "metadata": {},
   "outputs": [
    {
     "data": {
      "text/plain": [
       "array([5, 6], dtype=int64)"
      ]
     },
     "execution_count": 12,
     "metadata": {},
     "output_type": "execute_result"
    }
   ],
   "source": [
    "install_df['month'].unique()"
   ]
  },
  {
   "cell_type": "code",
   "execution_count": 13,
   "id": "b97421f8",
   "metadata": {},
   "outputs": [],
   "source": [
    "# Line graph for installation rate per week\n",
    "# Installation rate = # of installations / # of new users"
   ]
  },
  {
   "cell_type": "code",
   "execution_count": 14,
   "id": "c17f6678",
   "metadata": {},
   "outputs": [
    {
     "data": {
      "text/plain": [
       "Index(['Unnamed: 0', 'event_id', 'distinct_id', 'timestamp', 'uuid', 'month',\n",
       "       'day', 'week'],\n",
       "      dtype='object')"
      ]
     },
     "execution_count": 14,
     "metadata": {},
     "output_type": "execute_result"
    }
   ],
   "source": [
    "install_df.columns"
   ]
  },
  {
   "cell_type": "code",
   "execution_count": 22,
   "id": "5a4433b4",
   "metadata": {},
   "outputs": [
    {
     "data": {
      "text/html": [
       "<div>\n",
       "<style scoped>\n",
       "    .dataframe tbody tr th:only-of-type {\n",
       "        vertical-align: middle;\n",
       "    }\n",
       "\n",
       "    .dataframe tbody tr th {\n",
       "        vertical-align: top;\n",
       "    }\n",
       "\n",
       "    .dataframe thead th {\n",
       "        text-align: right;\n",
       "    }\n",
       "</style>\n",
       "<table border=\"1\" class=\"dataframe\">\n",
       "  <thead>\n",
       "    <tr style=\"text-align: right;\">\n",
       "      <th></th>\n",
       "      <th></th>\n",
       "      <th>uuid</th>\n",
       "    </tr>\n",
       "    <tr>\n",
       "      <th>month</th>\n",
       "      <th>week</th>\n",
       "      <th></th>\n",
       "    </tr>\n",
       "  </thead>\n",
       "  <tbody>\n",
       "    <tr>\n",
       "      <th rowspan=\"2\" valign=\"top\">5</th>\n",
       "      <th>3</th>\n",
       "      <td>785</td>\n",
       "    </tr>\n",
       "    <tr>\n",
       "      <th>4</th>\n",
       "      <td>2199</td>\n",
       "    </tr>\n",
       "    <tr>\n",
       "      <th rowspan=\"3\" valign=\"top\">6</th>\n",
       "      <th>1</th>\n",
       "      <td>2028</td>\n",
       "    </tr>\n",
       "    <tr>\n",
       "      <th>2</th>\n",
       "      <td>1951</td>\n",
       "    </tr>\n",
       "    <tr>\n",
       "      <th>3</th>\n",
       "      <td>583</td>\n",
       "    </tr>\n",
       "  </tbody>\n",
       "</table>\n",
       "</div>"
      ],
      "text/plain": [
       "            uuid\n",
       "month week      \n",
       "5     3      785\n",
       "      4     2199\n",
       "6     1     2028\n",
       "      2     1951\n",
       "      3      583"
      ]
     },
     "execution_count": 22,
     "metadata": {},
     "output_type": "execute_result"
    }
   ],
   "source": [
    "# use count() for no of installation\n",
    "x = install_df[['uuid','month','week']].groupby(['month','week']).count() # nunique\n",
    "x"
   ]
  },
  {
   "cell_type": "code",
   "execution_count": 23,
   "id": "b782ab23",
   "metadata": {},
   "outputs": [
    {
     "data": {
      "text/html": [
       "<div>\n",
       "<style scoped>\n",
       "    .dataframe tbody tr th:only-of-type {\n",
       "        vertical-align: middle;\n",
       "    }\n",
       "\n",
       "    .dataframe tbody tr th {\n",
       "        vertical-align: top;\n",
       "    }\n",
       "\n",
       "    .dataframe thead th {\n",
       "        text-align: right;\n",
       "    }\n",
       "</style>\n",
       "<table border=\"1\" class=\"dataframe\">\n",
       "  <thead>\n",
       "    <tr style=\"text-align: right;\">\n",
       "      <th></th>\n",
       "      <th></th>\n",
       "      <th>uuid</th>\n",
       "    </tr>\n",
       "    <tr>\n",
       "      <th>month</th>\n",
       "      <th>week</th>\n",
       "      <th></th>\n",
       "    </tr>\n",
       "  </thead>\n",
       "  <tbody>\n",
       "    <tr>\n",
       "      <th rowspan=\"2\" valign=\"top\">5</th>\n",
       "      <th>3</th>\n",
       "      <td>738</td>\n",
       "    </tr>\n",
       "    <tr>\n",
       "      <th>4</th>\n",
       "      <td>2060</td>\n",
       "    </tr>\n",
       "    <tr>\n",
       "      <th rowspan=\"3\" valign=\"top\">6</th>\n",
       "      <th>1</th>\n",
       "      <td>1682</td>\n",
       "    </tr>\n",
       "    <tr>\n",
       "      <th>2</th>\n",
       "      <td>1822</td>\n",
       "    </tr>\n",
       "    <tr>\n",
       "      <th>3</th>\n",
       "      <td>531</td>\n",
       "    </tr>\n",
       "  </tbody>\n",
       "</table>\n",
       "</div>"
      ],
      "text/plain": [
       "            uuid\n",
       "month week      \n",
       "5     3      738\n",
       "      4     2060\n",
       "6     1     1682\n",
       "      2     1822\n",
       "      3      531"
      ]
     },
     "execution_count": 23,
     "metadata": {},
     "output_type": "execute_result"
    }
   ],
   "source": [
    "# use nunique() for no of users\n",
    "y = install_df[['uuid','month','week']].groupby(['month','week']).nunique()\n",
    "y"
   ]
  },
  {
   "cell_type": "code",
   "execution_count": 28,
   "id": "64075cd6",
   "metadata": {},
   "outputs": [],
   "source": [
    "x = x.reset_index()['uuid']"
   ]
  },
  {
   "cell_type": "code",
   "execution_count": 29,
   "id": "fd7d05eb",
   "metadata": {},
   "outputs": [],
   "source": [
    "y = y.reset_index()['uuid']"
   ]
  },
  {
   "cell_type": "code",
   "execution_count": 30,
   "id": "94acc131",
   "metadata": {},
   "outputs": [
    {
     "data": {
      "text/plain": [
       "0    1.063686\n",
       "1    1.067476\n",
       "2    1.205707\n",
       "3    1.070801\n",
       "4    1.097928\n",
       "Name: uuid, dtype: float64"
      ]
     },
     "execution_count": 30,
     "metadata": {},
     "output_type": "execute_result"
    }
   ],
   "source": [
    "x/y"
   ]
  },
  {
   "cell_type": "code",
   "execution_count": null,
   "id": "d70fbb5d",
   "metadata": {},
   "outputs": [],
   "source": []
  }
 ],
 "metadata": {
  "kernelspec": {
   "display_name": "Python 3 (ipykernel)",
   "language": "python",
   "name": "python3"
  },
  "language_info": {
   "codemirror_mode": {
    "name": "ipython",
    "version": 3
   },
   "file_extension": ".py",
   "mimetype": "text/x-python",
   "name": "python",
   "nbconvert_exporter": "python",
   "pygments_lexer": "ipython3",
   "version": "3.9.12"
  }
 },
 "nbformat": 4,
 "nbformat_minor": 5
}
