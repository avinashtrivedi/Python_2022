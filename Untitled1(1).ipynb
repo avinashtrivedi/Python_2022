{
 "cells": [
  {
   "cell_type": "code",
   "execution_count": 1,
   "id": "872a3967",
   "metadata": {},
   "outputs": [],
   "source": [
    "import pandas as pd"
   ]
  },
  {
   "cell_type": "code",
   "execution_count": 2,
   "id": "987cd096",
   "metadata": {},
   "outputs": [],
   "source": [
    "df = pd.read_csv('land_area.csv')"
   ]
  },
  {
   "cell_type": "code",
   "execution_count": 6,
   "id": "4f1d9d6a",
   "metadata": {},
   "outputs": [
    {
     "data": {
      "text/plain": [
       "0        UNITED STATES\n",
       "1              ALABAMA\n",
       "2          Autauga, AL\n",
       "3          Baldwin, AL\n",
       "4          Barbour, AL\n",
       "             ...      \n",
       "3193    Sweetwater, WY\n",
       "3194         Teton, WY\n",
       "3195         Uinta, WY\n",
       "3196      Washakie, WY\n",
       "3197        Weston, WY\n",
       "Name: Areaname, Length: 3198, dtype: object"
      ]
     },
     "execution_count": 6,
     "metadata": {},
     "output_type": "execute_result"
    }
   ],
   "source": [
    "df['Areaname']"
   ]
  },
  {
   "cell_type": "code",
   "execution_count": 7,
   "id": "4c41450f",
   "metadata": {},
   "outputs": [
    {
     "data": {
      "text/plain": [
       "0            UNITED CUSTOM MESSAGE\n",
       "1           ALABAMA CUSTOM MESSAGE\n",
       "2          Autauga, CUSTOM MESSAGE\n",
       "3          Baldwin, CUSTOM MESSAGE\n",
       "4          Barbour, CUSTOM MESSAGE\n",
       "                   ...            \n",
       "3193    Sweetwater, CUSTOM MESSAGE\n",
       "3194         Teton, CUSTOM MESSAGE\n",
       "3195         Uinta, CUSTOM MESSAGE\n",
       "3196      Washakie, CUSTOM MESSAGE\n",
       "3197        Weston, CUSTOM MESSAGE\n",
       "Name: Areaname, Length: 3198, dtype: object"
      ]
     },
     "execution_count": 7,
     "metadata": {},
     "output_type": "execute_result"
    }
   ],
   "source": [
    "df['Areaname'].apply(lambda x:x.split()[0]+' CUSTOM MESSAGE')"
   ]
  },
  {
   "cell_type": "code",
   "execution_count": null,
   "id": "ad1e32fc",
   "metadata": {},
   "outputs": [],
   "source": []
  }
 ],
 "metadata": {
  "kernelspec": {
   "display_name": "Python 3 (ipykernel)",
   "language": "python",
   "name": "python3"
  },
  "language_info": {
   "codemirror_mode": {
    "name": "ipython",
    "version": 3
   },
   "file_extension": ".py",
   "mimetype": "text/x-python",
   "name": "python",
   "nbconvert_exporter": "python",
   "pygments_lexer": "ipython3",
   "version": "3.8.5"
  }
 },
 "nbformat": 4,
 "nbformat_minor": 5
}
