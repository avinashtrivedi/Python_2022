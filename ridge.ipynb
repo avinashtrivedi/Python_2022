{
 "cells": [
  {
   "cell_type": "code",
   "execution_count": 1,
   "id": "5aaec011",
   "metadata": {},
   "outputs": [],
   "source": [
    "class dict:\n",
    "    def __init__(self):\n",
    "        print('hi')\n",
    "    def keys(self):\n",
    "        print('its keys')\n",
    "    def fromkey():\n",
    "        print('its from fromkey')"
   ]
  },
  {
   "cell_type": "code",
   "execution_count": 2,
   "id": "78422fc1",
   "metadata": {},
   "outputs": [
    {
     "name": "stdout",
     "output_type": "stream",
     "text": [
      "hi\n"
     ]
    }
   ],
   "source": [
    "a = dict()"
   ]
  },
  {
   "cell_type": "code",
   "execution_count": 3,
   "id": "fda47187",
   "metadata": {},
   "outputs": [
    {
     "name": "stdout",
     "output_type": "stream",
     "text": [
      "its keys\n"
     ]
    }
   ],
   "source": [
    "a.keys()"
   ]
  },
  {
   "cell_type": "code",
   "execution_count": 4,
   "id": "2750468f",
   "metadata": {},
   "outputs": [
    {
     "name": "stdout",
     "output_type": "stream",
     "text": [
      "its from fromkey\n"
     ]
    }
   ],
   "source": [
    "dict.fromkey()"
   ]
  },
  {
   "cell_type": "markdown",
   "id": "52ff74ff",
   "metadata": {},
   "source": [
    "# FIX ERROR FOR BELOW CODE"
   ]
  },
  {
   "cell_type": "code",
   "execution_count": 5,
   "id": "b4299803",
   "metadata": {},
   "outputs": [],
   "source": [
    "import numpy as np\n",
    "import scipy\n",
    "from scipy.spatial import distance\n",
    "\n",
    "def rbf_kernel_matrix (x1, x2, s=1):\n",
    "    #dis = np.sqrt(((x1.reshape(-1, 1)) - x2.reshape(1, -1)) ** 2)\n",
    "    #return np.exp(-(s*dis)**2)\n",
    "    K = np.exp(-np.linalg.norm(x1[:,np.newaxis]-x2[np.newaxis,:],axis=2)**2/(2*(s**2)))\n",
    "    return K\n",
    "\n",
    "\n",
    "def kernalized_ridge (Lambda, K, y):\n",
    "    y = y.reshape(-1,1)\n",
    "    #alpha = np.linalg.inv(K + Lambda*np.eye(K.shape[0]))@y\n",
    "    alpha = np.linalg.inv(K + Lambda*np.eye(K.shape[1]))@y\n",
    "    return alpha\n",
    "\n",
    "\n",
    "# return alpha * K\n",
    "def prediction (alpha,K):\n",
    "    return np.dot(alpha,K)\n",
    "\n",
    "def splitData (data , numTrain , numValidate):\n",
    "    data_train = data [0: numTrain ]\n",
    "    data_validation = data [ numTrain : numTrain + numValidate ]\n",
    "    data_test = data [ numTrain + numValidate :]\n",
    "    return data_train, data_validation, data_test\n",
    "\n",
    "\n",
    "def distribution (numData, f, s1, s2): \n",
    "    np.random.seed(1)\n",
    "    x = np.random.normal(0,s1,(numData,1))\n",
    "    y = f(x) + np.random.normal(0,s2,(numData,1)) \n",
    "    return x, y"
   ]
  },
  {
   "cell_type": "code",
   "execution_count": 6,
   "id": "ae9bbf75",
   "metadata": {},
   "outputs": [
    {
     "ename": "ValueError",
     "evalue": "shapes (250,1) and (250,500) not aligned: 1 (dim 1) != 250 (dim 0)",
     "output_type": "error",
     "traceback": [
      "\u001b[1;31m---------------------------------------------------------------------------\u001b[0m",
      "\u001b[1;31mValueError\u001b[0m                                Traceback (most recent call last)",
      "Input \u001b[1;32mIn [6]\u001b[0m, in \u001b[0;36m<cell line: 34>\u001b[1;34m()\u001b[0m\n\u001b[0;32m     31\u001b[0m alpha \u001b[38;5;241m=\u001b[39m kernalized_ridge (Lambda, K_train, y_train)\n\u001b[0;32m     33\u001b[0m \u001b[38;5;66;03m# Determine the predictions for the test set\u001b[39;00m\n\u001b[1;32m---> 34\u001b[0m y_bar \u001b[38;5;241m=\u001b[39m \u001b[43mprediction\u001b[49m\u001b[43m \u001b[49m\u001b[43m(\u001b[49m\u001b[43malpha\u001b[49m\u001b[43m,\u001b[49m\u001b[43m \u001b[49m\u001b[43mK_test\u001b[49m\u001b[43m)\u001b[49m \n\u001b[0;32m     36\u001b[0m \u001b[38;5;66;03m# Plot the predictions and actual values\u001b[39;00m\n\u001b[0;32m     37\u001b[0m fig, (ax) \u001b[38;5;241m=\u001b[39m plt\u001b[38;5;241m.\u001b[39msubplots(\u001b[38;5;241m1\u001b[39m, \u001b[38;5;241m1\u001b[39m) \n",
      "Input \u001b[1;32mIn [5]\u001b[0m, in \u001b[0;36mprediction\u001b[1;34m(alpha, K)\u001b[0m\n\u001b[0;32m     20\u001b[0m \u001b[38;5;28;01mdef\u001b[39;00m \u001b[38;5;21mprediction\u001b[39m (alpha,K):\n\u001b[1;32m---> 21\u001b[0m     \u001b[38;5;28;01mreturn\u001b[39;00m \u001b[43mnp\u001b[49m\u001b[38;5;241;43m.\u001b[39;49m\u001b[43mdot\u001b[49m\u001b[43m(\u001b[49m\u001b[43malpha\u001b[49m\u001b[43m,\u001b[49m\u001b[43mK\u001b[49m\u001b[43m)\u001b[49m\n",
      "File \u001b[1;32m<__array_function__ internals>:5\u001b[0m, in \u001b[0;36mdot\u001b[1;34m(*args, **kwargs)\u001b[0m\n",
      "\u001b[1;31mValueError\u001b[0m: shapes (250,1) and (250,500) not aligned: 1 (dim 1) != 250 (dim 0)"
     ]
    }
   ],
   "source": [
    "import matplotlib\n",
    "import matplotlib.pyplot as plt\n",
    "from matplotlib.pyplot import Figure, subplot\n",
    "\n",
    "\n",
    "# data generating function\n",
    "def f(x):\n",
    "    return x**2\n",
    "\n",
    "numData = 1000   # size of the entire data set, \n",
    "numTrain = 250   # test set size\n",
    "numValidate = 250 # validation set size (we will not be using validation in this exericse)\n",
    "\n",
    "x_min = -4\n",
    "x_max = 4\n",
    "\n",
    "# Generate the design matrix X, response vector y, and the kernel matrix \n",
    "# for training, validation and test sets\n",
    "s1 = 10\n",
    "s2 = 10\n",
    "x, y =distribution (numData, f, s1, s2) \n",
    "\n",
    "x_train , x_validation , x_test = splitData (x, numTrain, numValidate)\n",
    "y_train , y_validation , y_test = splitData (y, numTrain, numValidate)\n",
    "\n",
    "K_train = rbf_kernel_matrix(x_train, x_train)\n",
    "K_test = rbf_kernel_matrix (x_train, x_test)\n",
    "\n",
    "# Apply the ridge regressions to the training set\n",
    "Lambda =0.1\n",
    "alpha = kernalized_ridge (Lambda, K_train, y_train)\n",
    "\n",
    "# Determine the predictions for the test set\n",
    "y_bar = prediction (alpha, K_test) \n",
    "\n",
    "# Plot the predictions and actual values\n",
    "fig, (ax) = plt.subplots(1, 1) \n",
    "\n",
    "x_min, x_max = x_test.min() - 1, x_test.max() + 1\n",
    "x_actual = np.linspace(x_min,x_max,100) # 100 linearly spaced numbers\n",
    "y_actual = f(x_actual)\n",
    "\n",
    "prediction = ax.scatter (x_test, np.transpose(y_bar), label = 'prediction for test set')\n",
    "actual, = ax.plot (x_actual, y_actual, label = 'actual function')\n",
    "\n",
    "ax.set_ylabel(r\"$y$\", fontsize=11)\n",
    "ax.set_xlabel(r\"$x$\", fontsize=11)\n",
    "ax.set_title('Ridge with RBF Kernel: training set size = %s'% numTrain, fontsize=9)  \n",
    "ax.axis('tight')\n",
    "ax.legend(handles=[prediction, actual], fontsize=9)\n",
    "\n",
    "plt.show()"
   ]
  },
  {
   "cell_type": "code",
   "execution_count": null,
   "id": "787f32b7",
   "metadata": {},
   "outputs": [],
   "source": []
  }
 ],
 "metadata": {
  "kernelspec": {
   "display_name": "Python 3 (ipykernel)",
   "language": "python",
   "name": "python3"
  },
  "language_info": {
   "codemirror_mode": {
    "name": "ipython",
    "version": 3
   },
   "file_extension": ".py",
   "mimetype": "text/x-python",
   "name": "python",
   "nbconvert_exporter": "python",
   "pygments_lexer": "ipython3",
   "version": "3.9.12"
  }
 },
 "nbformat": 4,
 "nbformat_minor": 5
}
