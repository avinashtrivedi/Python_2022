{
 "cells": [
  {
   "cell_type": "code",
   "execution_count": 1,
   "metadata": {},
   "outputs": [
    {
     "ename": "ModuleNotFoundError",
     "evalue": "No module named 'surprise'",
     "output_type": "error",
     "traceback": [
      "\u001b[1;31m---------------------------------------------------------------------------\u001b[0m",
      "\u001b[1;31mModuleNotFoundError\u001b[0m                       Traceback (most recent call last)",
      "\u001b[1;32m<ipython-input-1-57681365a40a>\u001b[0m in \u001b[0;36m<module>\u001b[1;34m\u001b[0m\n\u001b[0;32m      4\u001b[0m \u001b[1;32mfrom\u001b[0m \u001b[0moperator\u001b[0m \u001b[1;32mimport\u001b[0m \u001b[0mitemgetter\u001b[0m\u001b[1;33m\u001b[0m\u001b[1;33m\u001b[0m\u001b[0m\n\u001b[0;32m      5\u001b[0m \u001b[1;33m\u001b[0m\u001b[0m\n\u001b[1;32m----> 6\u001b[1;33m \u001b[1;32mfrom\u001b[0m \u001b[0msurprise\u001b[0m \u001b[1;32mimport\u001b[0m \u001b[0mKNNBasic\u001b[0m\u001b[1;33m\u001b[0m\u001b[1;33m\u001b[0m\u001b[0m\n\u001b[0m\u001b[0;32m      7\u001b[0m \u001b[1;33m\u001b[0m\u001b[0m\n\u001b[0;32m      8\u001b[0m \u001b[1;32mfrom\u001b[0m \u001b[0mload_data\u001b[0m \u001b[1;32mimport\u001b[0m \u001b[0mload_ratings\u001b[0m\u001b[1;33m\u001b[0m\u001b[1;33m\u001b[0m\u001b[0m\n",
      "\u001b[1;31mModuleNotFoundError\u001b[0m: No module named 'surprise'"
     ]
    }
   ],
   "source": [
    "# %load simple_user_based_cf.py\n",
    "import heapq\n",
    "from collections import defaultdict\n",
    "from operator import itemgetter\n",
    "\n",
    "from surprise import KNNBasic\n",
    "\n",
    "from load_data import load_ratings\n",
    "\n",
    "dataset, isbn_to_title = load_ratings(10000)\n",
    "\n",
    "train_set = dataset.build_full_trainset()\n",
    "\n",
    "sim_matrix = KNNBasic(sim_options={\n",
    "    'name': 'cosine',\n",
    "    'user_based': True\n",
    "}).fit(train_set).compute_similarities()\n",
    "\n",
    "test_subject = '276729'\n",
    "k = 10\n",
    "\n",
    "test_subject_iid = train_set.to_inner_uid(test_subject)\n",
    "\n",
    "similarity_row = sim_matrix[test_subject_iid]\n",
    "\n",
    "print(similarity_row)\n",
    "\n",
    "similar_users = []\n",
    "\n",
    "for inner_id, rating in enumerate(similarity_row):\n",
    "    if inner_id != test_subject_iid:\n",
    "        similar_users.append((inner_id, rating))\n",
    "\n",
    "# kn = heapq.nlargest(k, similar_users, key=lambda t: t[1])\n",
    "\n",
    "kn = []\n",
    "for rating in similar_users:\n",
    "    if rating[1] > 0:\n",
    "        print(rating)\n",
    "    if rating[1] > 0.95:\n",
    "        kn.append(rating)\n",
    "\n",
    "print(len(kn))\n",
    "\n",
    "candidates = defaultdict(float)\n",
    "\n",
    "for user in kn:\n",
    "    inner_id = user[0]\n",
    "    user_sim_score = user[1]\n",
    "    user_ratings = train_set.ur[inner_id]\n",
    "    for rating in user_ratings:\n",
    "        candidates[rating[0]] += (rating[1] / 10.0) * user_sim_score\n",
    "\n",
    "books_read = {}\n",
    "\n",
    "for item_id, rating in train_set.ur[test_subject_iid]:\n",
    "    books_read[item_id] = 1\n",
    "\n",
    "recommendations = []\n",
    "\n",
    "position = 0\n",
    "for itemID, rating_sum in sorted(candidates.items(), key=itemgetter(1), reverse=True):\n",
    "    if itemID not in books_read:\n",
    "        isbn = train_set.to_raw_iid(itemID)\n",
    "        if isbn not in isbn_to_title:\n",
    "            continue\n",
    "        recommendations.append(f'{isbn_to_title[isbn]}, ISBN = {isbn}')\n",
    "        position += 1\n",
    "        if position > 10:\n",
    "            break\n",
    "\n",
    "for r in recommendations:\n",
    "    print(\"Book: \", r)\n"
   ]
  },
  {
   "cell_type": "code",
   "execution_count": null,
   "metadata": {},
   "outputs": [],
   "source": [
    "import pickle\n",
    "import os"
   ]
  },
  {
   "cell_type": "code",
   "execution_count": null,
   "metadata": {},
   "outputs": [],
   "source": [
    "import pickle\n",
    "import os\n",
    "pickle.dump(sim_matrix, open('sim_matrix.pickle', 'wb'))\n",
    "\n",
    "sim_matrix = pickle.load(open('sim_matrix.pickle','rb'))\n",
    "\n",
    "filename = 'logs/model.pth'\n",
    "if os.path.exists(filename):\n",
    "    print('loading saved model')\n",
    "    clf_net.load_state_dict(torch.load(filename))"
   ]
  },
  {
   "cell_type": "code",
   "execution_count": null,
   "metadata": {},
   "outputs": [],
   "source": []
  },
  {
   "cell_type": "code",
   "execution_count": null,
   "metadata": {},
   "outputs": [],
   "source": [
    "filename = 'logs/model.pth'\n",
    "if os.path.exists(filename):\n",
    "    print('loading saved model')\n",
    "    clf_net.load_state_dict(torch.load(filename))"
   ]
  },
  {
   "cell_type": "code",
   "execution_count": null,
   "metadata": {},
   "outputs": [],
   "source": []
  },
  {
   "cell_type": "code",
   "execution_count": null,
   "metadata": {},
   "outputs": [],
   "source": []
  },
  {
   "cell_type": "code",
   "execution_count": null,
   "metadata": {},
   "outputs": [],
   "source": [
    "import pandas as pd"
   ]
  },
  {
   "cell_type": "code",
   "execution_count": null,
   "metadata": {},
   "outputs": [],
   "source": [
    "df= pd.read_csv('BX-Book-Ratings.csv', sep=';', encoding='ISO-8859-1', error_bad_lines=False, header=0,\n",
    "                                 dtype={'User-ID': 'string', 'ISBN': 'string', 'Book-Rating': 'float'})\n",
    "#     print(dataframe.info())"
   ]
  },
  {
   "cell_type": "code",
   "execution_count": null,
   "metadata": {},
   "outputs": [],
   "source": [
    "df"
   ]
  },
  {
   "cell_type": "code",
   "execution_count": 2,
   "metadata": {},
   "outputs": [
    {
     "ename": "ModuleNotFoundError",
     "evalue": "No module named 'surprise'",
     "output_type": "error",
     "traceback": [
      "\u001b[1;31m---------------------------------------------------------------------------\u001b[0m",
      "\u001b[1;31mModuleNotFoundError\u001b[0m                       Traceback (most recent call last)",
      "\u001b[1;32m<ipython-input-2-fdbc25f1268b>\u001b[0m in \u001b[0;36m<module>\u001b[1;34m\u001b[0m\n\u001b[1;32m----> 1\u001b[1;33m \u001b[1;32mfrom\u001b[0m \u001b[0mload_data\u001b[0m \u001b[1;32mimport\u001b[0m \u001b[0mload_ratings\u001b[0m\u001b[1;33m\u001b[0m\u001b[1;33m\u001b[0m\u001b[0m\n\u001b[0m\u001b[0;32m      2\u001b[0m \u001b[1;33m\u001b[0m\u001b[0m\n\u001b[0;32m      3\u001b[0m \u001b[0mdataset\u001b[0m\u001b[1;33m,\u001b[0m \u001b[0misbn_to_title\u001b[0m \u001b[1;33m=\u001b[0m \u001b[0mload_ratings\u001b[0m\u001b[1;33m(\u001b[0m\u001b[1;36m10000\u001b[0m\u001b[1;33m)\u001b[0m\u001b[1;33m\u001b[0m\u001b[1;33m\u001b[0m\u001b[0m\n",
      "\u001b[1;32m~\\OneDrive\\Documents\\Python Scripts\\Code_2022\\RecSys\\load_data.py\u001b[0m in \u001b[0;36m<module>\u001b[1;34m\u001b[0m\n\u001b[0;32m      2\u001b[0m \u001b[1;33m\u001b[0m\u001b[0m\n\u001b[0;32m      3\u001b[0m \u001b[1;32mimport\u001b[0m \u001b[0mpandas\u001b[0m\u001b[1;33m\u001b[0m\u001b[1;33m\u001b[0m\u001b[0m\n\u001b[1;32m----> 4\u001b[1;33m \u001b[1;32mfrom\u001b[0m \u001b[0msurprise\u001b[0m \u001b[1;32mimport\u001b[0m \u001b[0mReader\u001b[0m\u001b[1;33m,\u001b[0m \u001b[0mDataset\u001b[0m\u001b[1;33m\u001b[0m\u001b[1;33m\u001b[0m\u001b[0m\n\u001b[0m\u001b[0;32m      5\u001b[0m \u001b[1;33m\u001b[0m\u001b[0m\n\u001b[0;32m      6\u001b[0m \u001b[1;33m\u001b[0m\u001b[0m\n",
      "\u001b[1;31mModuleNotFoundError\u001b[0m: No module named 'surprise'"
     ]
    }
   ],
   "source": [
    "from load_data import load_ratings\n",
    "\n",
    "dataset, isbn_to_title = load_ratings(10000)"
   ]
  },
  {
   "cell_type": "code",
   "execution_count": null,
   "metadata": {},
   "outputs": [],
   "source": []
  }
 ],
 "metadata": {
  "kernelspec": {
   "display_name": "Python 3",
   "language": "python",
   "name": "python3"
  },
  "language_info": {
   "codemirror_mode": {
    "name": "ipython",
    "version": 3
   },
   "file_extension": ".py",
   "mimetype": "text/x-python",
   "name": "python",
   "nbconvert_exporter": "python",
   "pygments_lexer": "ipython3",
   "version": "3.8.5"
  }
 },
 "nbformat": 4,
 "nbformat_minor": 4
}
