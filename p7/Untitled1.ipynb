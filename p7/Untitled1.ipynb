{
 "cells": [
  {
   "cell_type": "code",
   "execution_count": 3,
   "id": "8ccdd88e",
   "metadata": {},
   "outputs": [
    {
     "name": "stdout",
     "output_type": "stream",
     "text": [
      "Overwriting _chen.py\n"
     ]
    }
   ],
   "source": [
    "%%writefile _chen.py\n",
    "# %load _chen.py\n",
    "# +\n",
    "# %%writefile _chen.py\n",
    "#project:p7\n",
    "#submitter: chen\n",
    "#partner:none\n",
    "#hours:8\n",
    "#orginal\n",
    "from sklearn.linear_model import LogisticRegression\n",
    "import pandas as pd \n",
    "from collections import Counter\n",
    "from sklearn.pipeline import Pipeline\n",
    "from sklearn.preprocessing import StandardScaler\n",
    "from sklearn.preprocessing import PolynomialFeatures\n",
    "from sklearn.model_selection import train_test_split, cross_val_score\n",
    "from sklearn.pipeline import Pipeline\n",
    "import numpy as np \n",
    "\n",
    "class UserPredictor:\n",
    "    def __init__(self):\n",
    "         self.model = Pipeline([\n",
    "                                (\"poly\", PolynomialFeatures(degree=2)),\n",
    "                                (\"std\", StandardScaler()),\n",
    "                                (\"lr\", LogisticRegression(max_iter=200)),\n",
    "                                ])\n",
    "\n",
    "#         self.model =  LogisticRegression()\n",
    "        \n",
    "    def fit(self, train_users, train_logs, y):\n",
    "        helper_df = self.helper(train_users,train_logs)\n",
    "        self.model.fit(helper_df, y['y'])\n",
    "        \n",
    "    def predict(self, test_users, test_logs):\n",
    "        helper_df = self.helper(test_users, test_logs)\n",
    "        y_pred = self.model.predict(helper_df)\n",
    "        return y_pred\n",
    "    \n",
    "    def helper(self,users_data,logs_data):\n",
    "        \n",
    "        logs_seconds_by_id = logs_data.groupby('user_id').sum()\n",
    "\n",
    "        users_data.set_index('user_id',inplace=True)\n",
    "        users_data['seconds'] = logs_seconds_by_id['seconds']\n",
    "        avg = users_data['seconds'].mean()\n",
    "        users_data.fillna(avg, inplace = True)\n",
    "        users_data = pd.get_dummies(users_data,columns=['badge'])\n",
    "        users_data.drop(['names'],inplace=True,axis=1)\n",
    "        return users_data"
   ]
  },
  {
   "cell_type": "code",
   "execution_count": null,
   "id": "adb92302",
   "metadata": {},
   "outputs": [],
   "source": []
  }
 ],
 "metadata": {
  "kernelspec": {
   "display_name": "Python 3 (ipykernel)",
   "language": "python",
   "name": "python3"
  },
  "language_info": {
   "codemirror_mode": {
    "name": "ipython",
    "version": 3
   },
   "file_extension": ".py",
   "mimetype": "text/x-python",
   "name": "python",
   "nbconvert_exporter": "python",
   "pygments_lexer": "ipython3",
   "version": "3.9.12"
  }
 },
 "nbformat": 4,
 "nbformat_minor": 5
}
