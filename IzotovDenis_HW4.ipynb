{
 "cells": [
  {
   "cell_type": "markdown",
   "metadata": {},
   "source": [
    "# Homework 4\n",
    "PSY4219/6129 Fall 2022\n",
    "\n",
    "**Due Monday October 3 at 11:59pm**\n",
    "\n",
    "**20 points**\n",
    "\n",
    "This assignment can be done within this Jupyter notebook (.ipynb), please \n",
    "rename the notebook with your name before submitting it.\n",
    "\n",
    "**<u>Please do not</u>** turn in the `difdata.csv` file with your homework \n",
    "(for Q2).\n",
    "\n",
    "Please make sure you comment in your code and please use good programming style \n",
    "(especially points emphasized in class).\n",
    "\n",
    "*Unexcused late assignments will be penalized 10% for every 24 hours late, \n",
    "starting from the time class ends, for a maximum of two days, after which they \n",
    "will earn a 0.*"
   ]
  },
  {
   "cell_type": "markdown",
   "metadata": {},
   "source": [
    "***\n",
    "## Q1 \n",
    "Using the code from Homework 3* for generating the $HDR(t)$ function, I want \n",
    "you to save that $HDR(t)$ function as a CSV file (using techniques from class), \n",
    "then load it back in, and redisplay the function using the information saved in \n",
    "the file (pasting in the code you wrote for the last assignment, but using the \n",
    "information loaded in from the file).\n",
    "\n",
    "Your CSV file should have the following structure:\n",
    "* 1st line should be an informative note (< 50 characters) about what the file \n",
    "    contains.\n",
    "* 2nd line is the <u>number of time steps</u> in $HDR(t)$.\n",
    "* 3rd line should be the <u>names</u> of the parameters of the $HDR$ (from \n",
    "    Homeworks 2 and 3), separated by commas.\n",
    "* 4th line should be the <u>values</u> of the parameters (from Homeworks 1 and \n",
    "    2), separated by commas.\n",
    "\n",
    "The remaining lines should be each value of $t$ and its corresponding $HDR(t)$, \n",
    "separated by commas (in other words, if you had 1000 values of $t$ and $HDR(t)$\n",
    "in your numpy arrays, these should be 1000 lines in the CSV file).\n",
    "\n",
    "**If you were unable to get your Homework 3 code to work, email the TA and we will supply code for you to use for this assignment.*\n",
    "### (a) (4 points)\n",
    "Save the file (write) as a CSV (using the structure described above)."
   ]
  },
  {
   "cell_type": "code",
   "execution_count": null,
   "metadata": {},
   "outputs": [],
   "source": [
    "import csv\n",
    "import numpy as np\n",
    "from scipy.special import gamma\n",
    "from math import e\n",
    "import matplotlib.pyplot as plt\n",
    "alpha1 = 6.\n",
    "beta1 = 1.\n",
    "alpha2 = 16.\n",
    "beta2 = 1.\n",
    "w = 5/6\n",
    "ts = np.arange(0, 100, 0.1)\n",
    "hdr = w*(((beta1**alpha1)*(ts**alpha1)*e**(-ts*beta1))/gamma(alpha1))-(1-w)*(((beta2**alpha2)*(ts**alpha2)*e**(-ts*beta2))/gamma(alpha2))"
   ]
  },
  {
   "cell_type": "code",
   "execution_count": null,
   "metadata": {},
   "outputs": [],
   "source": [
    "#### TODO: Create and save a CSV using the structure described above ####\n",
    "\n",
    "with open('hdr.csv', 'w') as csvfile:\n",
    "    csvfile.write('The file contains hdr data of t in range of [0: 100]\\n')\n",
    "    csvfile.write(f'{len(hdr)}\\n')\n",
    "    \n",
    "    writer = csv.writer(csvfile)\n",
    "    writer.writerow(['alpha1', 'beta1', 'alpha2', 'beta2', 'w'])\n",
    "    writer.writerow(['6.', '1.', '16.', '1.', '5/6'])\n",
    "    for i in range(1000):\n",
    "        writer.writerow([ts[i], hdr[i]])"
   ]
  },
  {
   "cell_type": "markdown",
   "metadata": {},
   "source": [
    "### (b) (4 points)\n",
    "Open the CSV file and load (read) its content into variables (for the number of \n",
    "time steps and the HDR parameters) and a numpy arrays for $t$ and $HDR(t)$. \n",
    "Using your code from Q2 of Homework 3, display a plot of $HDR(t)$ values as a \n",
    "function of $t$ (to demonstrate that what you saved to the file and read in \n",
    "from the file is the same as what you started with)."
   ]
  },
  {
   "cell_type": "code",
   "execution_count": null,
   "metadata": {},
   "outputs": [],
   "source": [
    "#### TODO: Load the csv you just created, assign its values to variables, and \n",
    "# display a plot of HDR values as a function of t ####\n",
    "\n",
    "csv_ts = []\n",
    "csv_hdrs = []\n",
    "\n",
    "with open('hdr.csv', 'r') as fp:\n",
    "    csvreader = csv.reader(fp, delimiter=',')\n",
    "    info = next(csvreader)[0]\n",
    "    number_of_time_steps = int(next(csvreader)[0])\n",
    "    hdr_params_names = next(csvreader)\n",
    "    hdr_params_values = next(csvreader)\n",
    "    \n",
    "    for i, row in enumerate(csvreader):\n",
    "        csv_ts.append(float(row[0]))\n",
    "        csv_hdrs.append(float(row[1]))\n",
    "\n",
    "plt.plot(csv_ts, csv_hdrs)\n",
    "plt.show()"
   ]
  },
  {
   "cell_type": "markdown",
   "metadata": {},
   "source": [
    "***\n",
    "## Q2 \n",
    "In class, we went over code for reading the data file `difdata.csv`. Here is \n",
    "example code that does that:"
   ]
  },
  {
   "cell_type": "code",
   "execution_count": null,
   "metadata": {},
   "outputs": [],
   "source": [
    "with open('./difdata.csv', 'r') as fp:\n",
    "    csvreader = csv.reader(fp, delimiter=',')\n",
    "\n",
    "    row = next(csvreader)\n",
    "    Ntrials = int(row[0])\n",
    "    \n",
    "    icondition = np.zeros(Ntrials, dtype=int)\n",
    "    ichoice = np.zeros(Ntrials, dtype=int)\n",
    "    iRT = np.zeros(Ntrials, dtype=float)\n",
    "\n",
    "    for i, row in enumerate(csvreader):\n",
    "        icondition[i] = int(row[1])\n",
    "        ichoice[i] = int(row[2])\n",
    "        iRT[i]  = float(row[3])"
   ]
  },
  {
   "cell_type": "markdown",
   "metadata": {},
   "source": [
    "Recall that this code parses the data file into `icondition`, a numpy array \n",
    "which holds the condition (1 or 2) on each trial, `ichoice`, a numpy array \n",
    "which holds the choice accuracy (0=error or 1=correct) on each trial, and \n",
    "`iRT`, a numpy array which holds the response time (RT) on each trial.\n",
    "\n",
    "### (a) (6 points) \n",
    "Following the discussion from class, I want you to partition the data so that \n",
    "one two-dimensional array holds the choices in condition 1 and the choices in \n",
    "condition 2 and another two-dimensional array that holds the RTs in condition 1 \n",
    "and the RTs in condition 2. **First**, do this using `for` loops. **Second**, \n",
    "do this using logical (Boolean) indexing. "
   ]
  },
  {
   "cell_type": "code",
   "execution_count": null,
   "metadata": {},
   "outputs": [],
   "source": [
    "#### TODO: Using for loops, create a 2D array that holds the choices for each \n",
    "# condition and another 2D array that holds the RTs for each condition ####\n",
    "\n",
    "choices = np.zeros(shape=(2, Ntrials // 2), dtype=int)\n",
    "RTs = np.zeros(shape=(2, Ntrials // 2), dtype=float)\n",
    "pt1 = 0\n",
    "pt2 = 0\n",
    "\n",
    "for i in range(Ntrials):\n",
    "    if icondition[i] == 1:\n",
    "        choices[0][pt1] = ichoice[i]\n",
    "        RTs[0][pt1] = iRT[i]\n",
    "        pt1 += 1\n",
    "    else:\n",
    "        choices[1][pt2] = ichoice[i]\n",
    "        RTs[1][pt2] = iRT[i]\n",
    "        pt2 += 1"
   ]
  },
  {
   "cell_type": "code",
   "execution_count": null,
   "metadata": {},
   "outputs": [],
   "source": [
    "#### TODO: Using logical indexing, create a 2D array that holds the choices \n",
    "# for each condition and another 2D array that holds the RTs for each condition ####\n",
    "\n",
    "choices = np.vstack([ichoice[icondition == 1], ichoice[icondition == 2]])\n",
    "RTs = np.vstack([iRT[icondition == 1], iRT[icondition == 2]])"
   ]
  },
  {
   "cell_type": "markdown",
   "metadata": {},
   "source": [
    "### (b) (6 points) \n",
    "Following the discussion from class, I want you to remove “outliers” based on \n",
    "RT, in this case trials where RT is outside some bound (RT<0.100 or RT>1.000) \n",
    "are considered outliers. **First**, do this using `for` loops. **Second**, do \n",
    "this using logical (Boolean) indexing. Remember from discussion in class that \n",
    "here you will not be able to use a 2x500 numpy array because the number of \n",
    "resulting trials after removing outliers will be unequal (instead, use a list \n",
    "of numpy arrays)."
   ]
  },
  {
   "cell_type": "code",
   "execution_count": null,
   "metadata": {},
   "outputs": [],
   "source": [
    "lowerBound = .1\n",
    "upperBound = 1"
   ]
  },
  {
   "cell_type": "code",
   "execution_count": null,
   "metadata": {},
   "outputs": [],
   "source": [
    "#### TODO: Using for loops, remove outliers based on RTs ####\n",
    "clean_choices = [[], []]\n",
    "clean_RTs = [[], []]\n",
    "\n",
    "for i in range(choices.shape[0]):\n",
    "    for j in range(choices.shape[1]):\n",
    "        if lowerBound > RTs[i, j] or RTs[i, j] > upperBound:\n",
    "            continue\n",
    "    \n",
    "        clean_choices[i].append(choices[i, j])\n",
    "        clean_RTs[i].append(RTs[i, j])\n",
    "    \n",
    "clean_choices = [np.array(clean_choices[0]), np.array(clean_choices[1])]\n",
    "clean_RTs = [np.array(clean_RTs[0]), np.array(clean_RTs[1])]"
   ]
  },
  {
   "cell_type": "code",
   "execution_count": null,
   "metadata": {},
   "outputs": [],
   "source": [
    "#### TODO: Using logical indexing, remove outliers based on RTs ####\n",
    "clean_choices = [choices[0, :][(lowerBound <= RTs[0, :]) & (RTs[0, :] <= upperBound)], \n",
    "                 choices[1, :][(lowerBound <= RTs[1, :]) & (RTs[1, :] <= upperBound)]]\n",
    "\n",
    "clean_RTs = [RTs[0, :][(lowerBound <= RTs[0, :]) & (RTs[0, :] <= upperBound)], \n",
    "                 RTs[1, :][(lowerBound <= RTs[1, :]) & (RTs[1, :] <= upperBound)]]"
   ]
  }
 ],
 "metadata": {
  "kernelspec": {
   "display_name": "Python 3 (ipykernel)",
   "language": "python",
   "name": "python3"
  },
  "language_info": {
   "codemirror_mode": {
    "name": "ipython",
    "version": 3
   },
   "file_extension": ".py",
   "mimetype": "text/x-python",
   "name": "python",
   "nbconvert_exporter": "python",
   "pygments_lexer": "ipython3",
   "version": "3.9.12"
  },
  "vscode": {
   "interpreter": {
    "hash": "6a95088bfd0f1c24c044c7dee51d34b34b592915d7bc38bde1421207f927bc51"
   }
  }
 },
 "nbformat": 4,
 "nbformat_minor": 4
}
