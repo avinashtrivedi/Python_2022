{
 "cells": [
  {
   "cell_type": "code",
   "execution_count": 5,
   "id": "e1739465",
   "metadata": {},
   "outputs": [],
   "source": [
    "def cross_word_position_direction(letter_list,word,index,direction):\n",
    "        if index<len(letter_list):\n",
    "            if direction == 1:\n",
    "                for i in range(index,index+len(word)):\n",
    "                    letter_list[i] = '*' \n",
    "            else:\n",
    "                for i in range(index,index-len(word),-1):\n",
    "                    letter_list[i] = '*'\n",
    "                    \n",
    "            return letter_list"
   ]
  },
  {
   "cell_type": "code",
   "execution_count": 6,
   "id": "dda8c7d8",
   "metadata": {},
   "outputs": [],
   "source": [
    "def cross_word_all_position_direction(letter_list,word,list_position_direction):\n",
    "    indx_dir = []\n",
    "    for i in range(0,len(list_position_direction),2):\n",
    "        indx_dir.append((list_position_direction[i],list_position_direction[i+1]))\n",
    "        \n",
    "    for index,direction in indx_dir:\n",
    "        letter_list = cross_word_position_direction(letter_list,word,index,direction)\n",
    "    return letter_list"
   ]
  },
  {
   "cell_type": "code",
   "execution_count": 7,
   "id": "947e2c18",
   "metadata": {},
   "outputs": [],
   "source": [
    "list_position_direction = [0,1,6,-1]\n",
    "letter_list = ['A','B','C','D','C','B','A']\n",
    "word = 'ABC'"
   ]
  },
  {
   "cell_type": "code",
   "execution_count": 8,
   "id": "35aacc09",
   "metadata": {},
   "outputs": [
    {
     "data": {
      "text/plain": [
       "['*', '*', '*', 'D', '*', '*', '*']"
      ]
     },
     "execution_count": 8,
     "metadata": {},
     "output_type": "execute_result"
    }
   ],
   "source": [
    "cross_word_all_position_direction(letter_list,word,list_position_direction)"
   ]
  },
  {
   "cell_type": "code",
   "execution_count": 9,
   "id": "5cb32479",
   "metadata": {},
   "outputs": [
    {
     "data": {
      "text/plain": [
       "[(0, 1), (6, -1)]"
      ]
     },
     "execution_count": 9,
     "metadata": {},
     "output_type": "execute_result"
    }
   ],
   "source": [
    "[(list_position_direction[i],list_position_direction[i+1]) for i in range(0,len(list_position_direction),2)]"
   ]
  },
  {
   "cell_type": "code",
   "execution_count": 10,
   "id": "9883d98d",
   "metadata": {},
   "outputs": [],
   "source": [
    "indx_dir = []\n",
    "for i in range(0,len(list_position_direction),2):\n",
    "    indx_dir.append((list_position_direction[i],list_position_direction[i+1]))"
   ]
  },
  {
   "cell_type": "code",
   "execution_count": 11,
   "id": "fefc6ed4",
   "metadata": {},
   "outputs": [
    {
     "data": {
      "text/plain": [
       "[(0, 1), (6, -1)]"
      ]
     },
     "execution_count": 11,
     "metadata": {},
     "output_type": "execute_result"
    }
   ],
   "source": [
    "indx_dir"
   ]
  },
  {
   "cell_type": "code",
   "execution_count": null,
   "id": "e90c2432",
   "metadata": {},
   "outputs": [],
   "source": []
  }
 ],
 "metadata": {
  "kernelspec": {
   "display_name": "Python 3 (ipykernel)",
   "language": "python",
   "name": "python3"
  },
  "language_info": {
   "codemirror_mode": {
    "name": "ipython",
    "version": 3
   },
   "file_extension": ".py",
   "mimetype": "text/x-python",
   "name": "python",
   "nbconvert_exporter": "python",
   "pygments_lexer": "ipython3",
   "version": "3.8.5"
  }
 },
 "nbformat": 4,
 "nbformat_minor": 5
}
