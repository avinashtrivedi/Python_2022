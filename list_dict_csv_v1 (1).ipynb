{
 "cells": [
  {
   "cell_type": "code",
   "execution_count": 9,
   "id": "bdc74189",
   "metadata": {},
   "outputs": [],
   "source": [
    "import pandas as pd"
   ]
  },
  {
   "cell_type": "code",
   "execution_count": 10,
   "id": "e41b94cd",
   "metadata": {},
   "outputs": [],
   "source": [
    "df = pd.read_csv('sample2 (1).csv',encoding='ANSI')"
   ]
  },
  {
   "cell_type": "code",
   "execution_count": 11,
   "id": "c30db914",
   "metadata": {},
   "outputs": [],
   "source": [
    "df_new = pd.DataFrame([],columns=['seahawks','philadelphia'])\n",
    "for indx,line in enumerate(df['evaluations']):\n",
    "    try:\n",
    "        list_dict = line.replace('\\xa0','')\n",
    "        list_dict = eval(list_dict)\n",
    "\n",
    "        scores = [elem['score'] for elem in list_dict]\n",
    "\n",
    "        df_new.loc[len(df_new)] = scores\n",
    "    except:\n",
    "        print(f'Error in line {indx}')"
   ]
  },
  {
   "cell_type": "code",
   "execution_count": 12,
   "id": "8619193c",
   "metadata": {},
   "outputs": [
    {
     "data": {
      "text/html": [
       "<div>\n",
       "<style scoped>\n",
       "    .dataframe tbody tr th:only-of-type {\n",
       "        vertical-align: middle;\n",
       "    }\n",
       "\n",
       "    .dataframe tbody tr th {\n",
       "        vertical-align: top;\n",
       "    }\n",
       "\n",
       "    .dataframe thead th {\n",
       "        text-align: right;\n",
       "    }\n",
       "</style>\n",
       "<table border=\"1\" class=\"dataframe\">\n",
       "  <thead>\n",
       "    <tr style=\"text-align: right;\">\n",
       "      <th></th>\n",
       "      <th>seahawks</th>\n",
       "      <th>philadelphia</th>\n",
       "    </tr>\n",
       "  </thead>\n",
       "  <tbody>\n",
       "    <tr>\n",
       "      <th>0</th>\n",
       "      <td>2514</td>\n",
       "      <td>2514</td>\n",
       "    </tr>\n",
       "    <tr>\n",
       "      <th>1</th>\n",
       "      <td>25000</td>\n",
       "      <td>30000</td>\n",
       "    </tr>\n",
       "  </tbody>\n",
       "</table>\n",
       "</div>"
      ],
      "text/plain": [
       "  seahawks philadelphia\n",
       "0     2514         2514\n",
       "1    25000        30000"
      ]
     },
     "execution_count": 12,
     "metadata": {},
     "output_type": "execute_result"
    }
   ],
   "source": [
    "df_new"
   ]
  },
  {
   "cell_type": "code",
   "execution_count": null,
   "id": "5ee93d53",
   "metadata": {},
   "outputs": [],
   "source": []
  }
 ],
 "metadata": {
  "kernelspec": {
   "display_name": "Python 3 (ipykernel)",
   "language": "python",
   "name": "python3"
  },
  "language_info": {
   "codemirror_mode": {
    "name": "ipython",
    "version": 3
   },
   "file_extension": ".py",
   "mimetype": "text/x-python",
   "name": "python",
   "nbconvert_exporter": "python",
   "pygments_lexer": "ipython3",
   "version": "3.9.12"
  }
 },
 "nbformat": 4,
 "nbformat_minor": 5
}
