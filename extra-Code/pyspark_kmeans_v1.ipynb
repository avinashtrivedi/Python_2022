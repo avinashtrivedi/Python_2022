{
 "cells": [
  {
   "cell_type": "code",
   "execution_count": 1,
   "id": "b9dde93e",
   "metadata": {},
   "outputs": [],
   "source": [
    "from pyspark.sql import SparkSession\n",
    "from pyspark.ml.feature import StringIndexer, IndexToString, RFormula,VectorSlicer\n",
    "from pyspark.ml.classification import LogisticRegression\n",
    "from pyspark.ml.evaluation import MulticlassClassificationEvaluator\n",
    "from pyspark.ml import Pipeline, Model\n",
    "import seaborn as sns\n",
    "import warnings\n",
    "warnings.filterwarnings('ignore')"
   ]
  },
  {
   "cell_type": "code",
   "execution_count": 2,
   "id": "d77e0934",
   "metadata": {},
   "outputs": [],
   "source": [
    "spark = SparkSession.builder.appName('logregconsult').getOrCreate()"
   ]
  },
  {
   "cell_type": "code",
   "execution_count": 3,
   "id": "835779bb",
   "metadata": {},
   "outputs": [],
   "source": [
    "# File location and type\n",
    "file_location = \"COVID_confirmed_cases.csv\"\n",
    "file_type = \"csv\"\n",
    "\n",
    "# CSV options\n",
    "infer_schema = \"true\"\n",
    "first_row_is_header = \"true\"\n",
    "delimiter = \",\"\n",
    "\n",
    "data = spark.read.format(file_type) \\\n",
    "  .option(\"inferSchema\", infer_schema) \\\n",
    "  .option(\"header\", first_row_is_header) \\\n",
    "  .option(\"sep\", delimiter) \\\n",
    "  .option('nanValue', ' ')\\\n",
    "  .option('nullValue', ' ')\\\n",
    "  .load(file_location)"
   ]
  },
  {
   "cell_type": "markdown",
   "id": "3ce23116",
   "metadata": {},
   "source": [
    "# Pre-processing"
   ]
  },
  {
   "cell_type": "code",
   "execution_count": 4,
   "id": "0e93d4c5",
   "metadata": {},
   "outputs": [],
   "source": [
    "df = data.toPandas()"
   ]
  },
  {
   "cell_type": "code",
   "execution_count": 5,
   "id": "55bb4f6a",
   "metadata": {},
   "outputs": [
    {
     "data": {
      "text/html": [
       "<div>\n",
       "<style scoped>\n",
       "    .dataframe tbody tr th:only-of-type {\n",
       "        vertical-align: middle;\n",
       "    }\n",
       "\n",
       "    .dataframe tbody tr th {\n",
       "        vertical-align: top;\n",
       "    }\n",
       "\n",
       "    .dataframe thead th {\n",
       "        text-align: right;\n",
       "    }\n",
       "</style>\n",
       "<table border=\"1\" class=\"dataframe\">\n",
       "  <thead>\n",
       "    <tr style=\"text-align: right;\">\n",
       "      <th></th>\n",
       "      <th>Province/State</th>\n",
       "      <th>Country/Region</th>\n",
       "      <th>Lat</th>\n",
       "      <th>Long</th>\n",
       "      <th>1/22/20</th>\n",
       "      <th>1/23/20</th>\n",
       "      <th>1/24/20</th>\n",
       "      <th>1/25/20</th>\n",
       "      <th>1/26/20</th>\n",
       "      <th>1/27/20</th>\n",
       "      <th>...</th>\n",
       "      <th>7/25/20</th>\n",
       "      <th>7/26/20</th>\n",
       "      <th>7/27/20</th>\n",
       "      <th>7/28/20</th>\n",
       "      <th>7/29/20</th>\n",
       "      <th>7/30/20</th>\n",
       "      <th>7/31/20</th>\n",
       "      <th>08-01-20</th>\n",
       "      <th>08-02-20</th>\n",
       "      <th>08-03-20</th>\n",
       "    </tr>\n",
       "  </thead>\n",
       "  <tbody>\n",
       "    <tr>\n",
       "      <th>0</th>\n",
       "      <td>None</td>\n",
       "      <td>Afghanistan</td>\n",
       "      <td>33.93911</td>\n",
       "      <td>67.709953</td>\n",
       "      <td>0</td>\n",
       "      <td>0</td>\n",
       "      <td>0</td>\n",
       "      <td>0</td>\n",
       "      <td>0</td>\n",
       "      <td>0</td>\n",
       "      <td>...</td>\n",
       "      <td>36036</td>\n",
       "      <td>36157</td>\n",
       "      <td>36263</td>\n",
       "      <td>36368</td>\n",
       "      <td>36471</td>\n",
       "      <td>36542</td>\n",
       "      <td>36675</td>\n",
       "      <td>36710</td>\n",
       "      <td>36710</td>\n",
       "      <td>36747</td>\n",
       "    </tr>\n",
       "    <tr>\n",
       "      <th>1</th>\n",
       "      <td>None</td>\n",
       "      <td>Albania</td>\n",
       "      <td>41.15330</td>\n",
       "      <td>20.168300</td>\n",
       "      <td>0</td>\n",
       "      <td>0</td>\n",
       "      <td>0</td>\n",
       "      <td>0</td>\n",
       "      <td>0</td>\n",
       "      <td>0</td>\n",
       "      <td>...</td>\n",
       "      <td>4637</td>\n",
       "      <td>4763</td>\n",
       "      <td>4880</td>\n",
       "      <td>4997</td>\n",
       "      <td>5105</td>\n",
       "      <td>5197</td>\n",
       "      <td>5276</td>\n",
       "      <td>5396</td>\n",
       "      <td>5519</td>\n",
       "      <td>5620</td>\n",
       "    </tr>\n",
       "    <tr>\n",
       "      <th>2</th>\n",
       "      <td>None</td>\n",
       "      <td>Algeria</td>\n",
       "      <td>28.03390</td>\n",
       "      <td>1.659600</td>\n",
       "      <td>0</td>\n",
       "      <td>0</td>\n",
       "      <td>0</td>\n",
       "      <td>0</td>\n",
       "      <td>0</td>\n",
       "      <td>0</td>\n",
       "      <td>...</td>\n",
       "      <td>26764</td>\n",
       "      <td>27357</td>\n",
       "      <td>27973</td>\n",
       "      <td>28615</td>\n",
       "      <td>29229</td>\n",
       "      <td>29831</td>\n",
       "      <td>30394</td>\n",
       "      <td>30950</td>\n",
       "      <td>31465</td>\n",
       "      <td>31972</td>\n",
       "    </tr>\n",
       "    <tr>\n",
       "      <th>3</th>\n",
       "      <td>None</td>\n",
       "      <td>Andorra</td>\n",
       "      <td>42.50630</td>\n",
       "      <td>1.521800</td>\n",
       "      <td>0</td>\n",
       "      <td>0</td>\n",
       "      <td>0</td>\n",
       "      <td>0</td>\n",
       "      <td>0</td>\n",
       "      <td>0</td>\n",
       "      <td>...</td>\n",
       "      <td>897</td>\n",
       "      <td>897</td>\n",
       "      <td>907</td>\n",
       "      <td>907</td>\n",
       "      <td>918</td>\n",
       "      <td>922</td>\n",
       "      <td>925</td>\n",
       "      <td>925</td>\n",
       "      <td>925</td>\n",
       "      <td>937</td>\n",
       "    </tr>\n",
       "    <tr>\n",
       "      <th>4</th>\n",
       "      <td>None</td>\n",
       "      <td>Angola</td>\n",
       "      <td>-11.20270</td>\n",
       "      <td>17.873900</td>\n",
       "      <td>0</td>\n",
       "      <td>0</td>\n",
       "      <td>0</td>\n",
       "      <td>0</td>\n",
       "      <td>0</td>\n",
       "      <td>0</td>\n",
       "      <td>...</td>\n",
       "      <td>916</td>\n",
       "      <td>932</td>\n",
       "      <td>950</td>\n",
       "      <td>1000</td>\n",
       "      <td>1078</td>\n",
       "      <td>1109</td>\n",
       "      <td>1148</td>\n",
       "      <td>1164</td>\n",
       "      <td>1199</td>\n",
       "      <td>1280</td>\n",
       "    </tr>\n",
       "  </tbody>\n",
       "</table>\n",
       "<p>5 rows × 199 columns</p>\n",
       "</div>"
      ],
      "text/plain": [
       "  Province/State Country/Region       Lat       Long  1/22/20  1/23/20  \\\n",
       "0           None    Afghanistan  33.93911  67.709953        0        0   \n",
       "1           None        Albania  41.15330  20.168300        0        0   \n",
       "2           None        Algeria  28.03390   1.659600        0        0   \n",
       "3           None        Andorra  42.50630   1.521800        0        0   \n",
       "4           None         Angola -11.20270  17.873900        0        0   \n",
       "\n",
       "   1/24/20  1/25/20  1/26/20  1/27/20  ...  7/25/20  7/26/20  7/27/20  \\\n",
       "0        0        0        0        0  ...    36036    36157    36263   \n",
       "1        0        0        0        0  ...     4637     4763     4880   \n",
       "2        0        0        0        0  ...    26764    27357    27973   \n",
       "3        0        0        0        0  ...      897      897      907   \n",
       "4        0        0        0        0  ...      916      932      950   \n",
       "\n",
       "   7/28/20  7/29/20  7/30/20  7/31/20  08-01-20  08-02-20  08-03-20  \n",
       "0    36368    36471    36542    36675     36710     36710     36747  \n",
       "1     4997     5105     5197     5276      5396      5519      5620  \n",
       "2    28615    29229    29831    30394     30950     31465     31972  \n",
       "3      907      918      922      925       925       925       937  \n",
       "4     1000     1078     1109     1148      1164      1199      1280  \n",
       "\n",
       "[5 rows x 199 columns]"
      ]
     },
     "execution_count": 5,
     "metadata": {},
     "output_type": "execute_result"
    }
   ],
   "source": [
    "df.head()"
   ]
  },
  {
   "cell_type": "code",
   "execution_count": 6,
   "id": "806ef780",
   "metadata": {},
   "outputs": [],
   "source": [
    "df['Total'] = df.iloc[:,4:].sum(axis=1)"
   ]
  },
  {
   "cell_type": "code",
   "execution_count": 7,
   "id": "2ac46c4c",
   "metadata": {},
   "outputs": [
    {
     "data": {
      "text/html": [
       "<div>\n",
       "<style scoped>\n",
       "    .dataframe tbody tr th:only-of-type {\n",
       "        vertical-align: middle;\n",
       "    }\n",
       "\n",
       "    .dataframe tbody tr th {\n",
       "        vertical-align: top;\n",
       "    }\n",
       "\n",
       "    .dataframe thead th {\n",
       "        text-align: right;\n",
       "    }\n",
       "</style>\n",
       "<table border=\"1\" class=\"dataframe\">\n",
       "  <thead>\n",
       "    <tr style=\"text-align: right;\">\n",
       "      <th></th>\n",
       "      <th>Country/Region</th>\n",
       "      <th>Total</th>\n",
       "    </tr>\n",
       "  </thead>\n",
       "  <tbody>\n",
       "    <tr>\n",
       "      <th>225</th>\n",
       "      <td>US</td>\n",
       "      <td>256188640</td>\n",
       "    </tr>\n",
       "    <tr>\n",
       "      <th>28</th>\n",
       "      <td>Brazil</td>\n",
       "      <td>108024882</td>\n",
       "    </tr>\n",
       "    <tr>\n",
       "      <th>131</th>\n",
       "      <td>India</td>\n",
       "      <td>52737993</td>\n",
       "    </tr>\n",
       "  </tbody>\n",
       "</table>\n",
       "</div>"
      ],
      "text/plain": [
       "    Country/Region      Total\n",
       "225             US  256188640\n",
       "28          Brazil  108024882\n",
       "131          India   52737993"
      ]
     },
     "execution_count": 7,
     "metadata": {},
     "output_type": "execute_result"
    }
   ],
   "source": [
    "df[['Country/Region','Total']].sort_values('Total',ascending=False).head(3)"
   ]
  },
  {
   "cell_type": "code",
   "execution_count": 8,
   "id": "b1ad939a",
   "metadata": {},
   "outputs": [],
   "source": [
    "df_us = df[df['Country/Region']=='US']\n",
    "df_brazil = df[df['Country/Region']=='Brazil']\n",
    "df_india = df[df['Country/Region']=='India']"
   ]
  },
  {
   "cell_type": "code",
   "execution_count": 9,
   "id": "e6419030",
   "metadata": {},
   "outputs": [],
   "source": [
    "x = df_us[list(df_us)[4:]]\n",
    "\n",
    "arr_us_x = []\n",
    "arr_us_y = []\n",
    "week = 1\n",
    "for i in range(0,len(list(x)),7):\n",
    "#     print(i)\n",
    "    arr_us_y.append(x.iloc[:,i:i+7].sum(axis=1).values[0])\n",
    "    arr_us_x.append(week)\n",
    "    week = week + 1 "
   ]
  },
  {
   "cell_type": "code",
   "execution_count": 10,
   "id": "e373ff6c",
   "metadata": {},
   "outputs": [],
   "source": [
    "x = df_india[list(df_india)[4:]]\n",
    "\n",
    "arr_india_x = []\n",
    "arr_india_y = []\n",
    "week = 1\n",
    "for i in range(0,len(list(x)),7):\n",
    "#     print(i)\n",
    "    arr_india_y.append(x.iloc[:,i:i+7].sum(axis=1).values[0])\n",
    "    arr_india_x.append(week)\n",
    "    week = week + 1 "
   ]
  },
  {
   "cell_type": "code",
   "execution_count": 11,
   "id": "c1688308",
   "metadata": {},
   "outputs": [],
   "source": [
    "x = df_brazil[list(df_brazil)[4:]]\n",
    "\n",
    "arr_brazil_x = []\n",
    "arr_brazil_y = []\n",
    "week = 1\n",
    "for i in range(0,len(list(x)),7):\n",
    "#     print(i)\n",
    "    arr_brazil_y.append(x.iloc[:,i:i+7].sum(axis=1).values[0])\n",
    "    arr_brazil_x.append(week)\n",
    "    week = week + 1 "
   ]
  },
  {
   "cell_type": "code",
   "execution_count": 12,
   "id": "3d9583ac",
   "metadata": {},
   "outputs": [],
   "source": [
    "import pandas as pd"
   ]
  },
  {
   "cell_type": "code",
   "execution_count": 13,
   "id": "a9cf06ea",
   "metadata": {},
   "outputs": [],
   "source": [
    "df_us = pd.DataFrame({'X':arr_us_x,'y':arr_us_y})\n",
    "df_brazil = pd.DataFrame({'X':arr_brazil_x,'y':arr_brazil_y})\n",
    "df_india = pd.DataFrame({'X':arr_india_x,'y':arr_india_y})"
   ]
  },
  {
   "cell_type": "code",
   "execution_count": 14,
   "id": "0f8f0ed1",
   "metadata": {},
   "outputs": [],
   "source": [
    "df_us.to_csv('df_us.csv',index=False)\n",
    "df_brazil.to_csv('df_brazil.csv',index=False)\n",
    "df_india.to_csv('df_india.csv',index=False)\n",
    "\n",
    "# File location and type\n",
    "file_location = \"df_us.csv\"\n",
    "file_type = \"csv\"\n",
    "\n",
    "# CSV options\n",
    "infer_schema = \"true\"\n",
    "first_row_is_header = \"true\"\n",
    "delimiter = \",\"\n",
    "\n",
    "df_us = spark.read.format(file_type) \\\n",
    "  .option(\"inferSchema\", infer_schema) \\\n",
    "  .option(\"header\", first_row_is_header) \\\n",
    "  .option(\"sep\", delimiter) \\\n",
    "  .option('nanValue', ' ')\\\n",
    "  .option('nullValue', ' ')\\\n",
    "  .load(file_location)\n",
    "\n",
    "\n",
    "# File location and type\n",
    "file_location = \"df_brazil.csv\"\n",
    "file_type = \"csv\"\n",
    "\n",
    "# CSV options\n",
    "infer_schema = \"true\"\n",
    "first_row_is_header = \"true\"\n",
    "delimiter = \",\"\n",
    "\n",
    "df_brazil = spark.read.format(file_type) \\\n",
    "  .option(\"inferSchema\", infer_schema) \\\n",
    "  .option(\"header\", first_row_is_header) \\\n",
    "  .option(\"sep\", delimiter) \\\n",
    "  .option('nanValue', ' ')\\\n",
    "  .option('nullValue', ' ')\\\n",
    "  .load(file_location)\n",
    "\n",
    "\n",
    "\n",
    "# File location and type\n",
    "file_location = \"df_india.csv\"\n",
    "file_type = \"csv\"\n",
    "\n",
    "# CSV options\n",
    "infer_schema = \"true\"\n",
    "first_row_is_header = \"true\"\n",
    "delimiter = \",\"\n",
    "\n",
    "df_india = spark.read.format(file_type) \\\n",
    "  .option(\"inferSchema\", infer_schema) \\\n",
    "  .option(\"header\", first_row_is_header) \\\n",
    "  .option(\"sep\", delimiter) \\\n",
    "  .option('nanValue', ' ')\\\n",
    "  .option('nullValue', ' ')\\\n",
    "  .load(file_location)"
   ]
  },
  {
   "cell_type": "code",
   "execution_count": 15,
   "id": "57e08671",
   "metadata": {},
   "outputs": [
    {
     "name": "stdout",
     "output_type": "stream",
     "text": [
      "+---+-------+\n",
      "|  X|      y|\n",
      "+---+-------+\n",
      "|  1|      0|\n",
      "|  2|      0|\n",
      "|  3|      0|\n",
      "|  4|      0|\n",
      "|  5|      0|\n",
      "|  6|     11|\n",
      "|  7|    110|\n",
      "|  8|   1075|\n",
      "|  9|   8524|\n",
      "| 10|  27412|\n",
      "| 11|  71621|\n",
      "| 12| 145511|\n",
      "| 13| 251561|\n",
      "| 14| 412941|\n",
      "| 15| 682075|\n",
      "| 16|1075846|\n",
      "| 17|1615437|\n",
      "| 18|2409285|\n",
      "| 19|3410344|\n",
      "| 20|4656247|\n",
      "+---+-------+\n",
      "only showing top 20 rows\n",
      "\n"
     ]
    }
   ],
   "source": [
    "df_brazil.show()"
   ]
  },
  {
   "cell_type": "markdown",
   "id": "195ab0a0",
   "metadata": {},
   "source": [
    "# regression\n",
    "\n",
    "- df_brazil"
   ]
  },
  {
   "cell_type": "code",
   "execution_count": 16,
   "id": "87cdb963",
   "metadata": {},
   "outputs": [],
   "source": [
    "from pyspark.ml.feature import VectorAssembler"
   ]
  },
  {
   "cell_type": "code",
   "execution_count": 17,
   "id": "80d73754",
   "metadata": {},
   "outputs": [],
   "source": [
    "vectorAssembler = VectorAssembler(inputCols = ['X'], outputCol = 'features')\n",
    "vhouse_df = vectorAssembler.transform(df_brazil)\n",
    "vhouse_df = vhouse_df.select(['features', 'y'])\n",
    "# vhouse_df.show(3)"
   ]
  },
  {
   "cell_type": "code",
   "execution_count": 18,
   "id": "49891288",
   "metadata": {},
   "outputs": [
    {
     "name": "stdout",
     "output_type": "stream",
     "text": [
      "+--------+-----+\n",
      "|features|    y|\n",
      "+--------+-----+\n",
      "|   [1.0]|    0|\n",
      "|   [2.0]|    0|\n",
      "|   [3.0]|    0|\n",
      "|   [4.0]|    0|\n",
      "|   [5.0]|    0|\n",
      "|   [6.0]|   11|\n",
      "|   [7.0]|  110|\n",
      "|   [8.0]| 1075|\n",
      "|   [9.0]| 8524|\n",
      "|  [10.0]|27412|\n",
      "+--------+-----+\n",
      "only showing top 10 rows\n",
      "\n"
     ]
    }
   ],
   "source": [
    "vhouse_df.show(10)"
   ]
  },
  {
   "cell_type": "code",
   "execution_count": 19,
   "id": "2982b311",
   "metadata": {},
   "outputs": [],
   "source": [
    "splits = vhouse_df.randomSplit([0.7, 0.3])\n",
    "train_df = splits[0]\n",
    "test_df = splits[1]"
   ]
  },
  {
   "cell_type": "code",
   "execution_count": 20,
   "id": "aca33c72",
   "metadata": {},
   "outputs": [
    {
     "name": "stdout",
     "output_type": "stream",
     "text": [
      "+--------+-------+\n",
      "|features|      y|\n",
      "+--------+-------+\n",
      "|   [1.0]|      0|\n",
      "|   [2.0]|      0|\n",
      "|   [4.0]|      0|\n",
      "|   [5.0]|      0|\n",
      "|   [6.0]|     11|\n",
      "|   [9.0]|   8524|\n",
      "|  [12.0]| 145511|\n",
      "|  [14.0]| 412941|\n",
      "|  [16.0]|1075846|\n",
      "|  [18.0]|2409285|\n",
      "+--------+-------+\n",
      "only showing top 10 rows\n",
      "\n"
     ]
    }
   ],
   "source": [
    "train_df.show(10)"
   ]
  },
  {
   "cell_type": "code",
   "execution_count": 21,
   "id": "eb22066a",
   "metadata": {},
   "outputs": [
    {
     "name": "stdout",
     "output_type": "stream",
     "text": [
      "+--------+-------+\n",
      "|features|      y|\n",
      "+--------+-------+\n",
      "|   [3.0]|      0|\n",
      "|   [7.0]|    110|\n",
      "|   [8.0]|   1075|\n",
      "|  [10.0]|  27412|\n",
      "|  [11.0]|  71621|\n",
      "|  [13.0]| 251561|\n",
      "|  [15.0]| 682075|\n",
      "|  [17.0]|1615437|\n",
      "|  [20.0]|4656247|\n",
      "|  [23.0]|9119765|\n",
      "+--------+-------+\n",
      "only showing top 10 rows\n",
      "\n"
     ]
    }
   ],
   "source": [
    "test_df.show(10)"
   ]
  },
  {
   "cell_type": "code",
   "execution_count": 22,
   "id": "ed423cf4",
   "metadata": {},
   "outputs": [
    {
     "name": "stdout",
     "output_type": "stream",
     "text": [
      "Coefficients: [549048.1223548132]\n",
      "Intercept: -3750480.7984089116\n"
     ]
    }
   ],
   "source": [
    "from pyspark.ml.regression import LinearRegression\n",
    "lr = LinearRegression(featuresCol = 'features', labelCol='y')\n",
    "lr_model = lr.fit(train_df)\n",
    "print(\"Coefficients: \" + str(lr_model.coefficients))\n",
    "print(\"Intercept: \" + str(lr_model.intercept))"
   ]
  },
  {
   "cell_type": "code",
   "execution_count": 23,
   "id": "020f2f5b",
   "metadata": {},
   "outputs": [
    {
     "name": "stdout",
     "output_type": "stream",
     "text": [
      "RMSE: 2964007.901008\n",
      "r2: 0.716493\n"
     ]
    }
   ],
   "source": [
    "trainingSummary = lr_model.summary\n",
    "print(\"RMSE: %f\" % trainingSummary.rootMeanSquaredError)\n",
    "print(\"r2: %f\" % trainingSummary.r2)"
   ]
  },
  {
   "cell_type": "code",
   "execution_count": 24,
   "id": "b8e72c74",
   "metadata": {},
   "outputs": [
    {
     "name": "stdout",
     "output_type": "stream",
     "text": [
      "Root Mean Squared Error (RMSE) on test data = 32531692.811668333\n",
      "R Squared (R2) on test data = 0.07325610663281235\n",
      "ExplainedVariance:  83099393477363.75\n"
     ]
    }
   ],
   "source": [
    "test_result = lr_model.evaluate(test_df)\n",
    "print(\"Root Mean Squared Error (RMSE) on test data =\",test_result.rootMeanSquaredError)\n",
    "print(\"R Squared (R2) on test data = {}\".format(test_result.r2))\n",
    "print('ExplainedVariance: ',test_result.explainedVariance)"
   ]
  },
  {
   "cell_type": "code",
   "execution_count": 25,
   "id": "41039ac0",
   "metadata": {},
   "outputs": [],
   "source": [
    "# lr_predictions = lr_model.transform(test_df)\n",
    "# lr_predictions.select(\"prediction\",\"y\",\"features\").show(5)\n",
    "# from pyspark.ml.evaluation import RegressionEvaluator\n",
    "# lr_evaluator = RegressionEvaluator(predictionCol=\"prediction\", \\\n",
    "#                  labelCol=\"y\",metricName=\"r2\")\n",
    "# print(\"R Squared (R2) on test data = %g\" % lr_evaluator.evaluate(lr_predictions))"
   ]
  },
  {
   "cell_type": "markdown",
   "id": "1df2cbb2",
   "metadata": {},
   "source": [
    "# df_us"
   ]
  },
  {
   "cell_type": "code",
   "execution_count": 26,
   "id": "f3d81bf9",
   "metadata": {},
   "outputs": [
    {
     "name": "stdout",
     "output_type": "stream",
     "text": [
      "Coefficients: [4220584.858333715]\n",
      "Intercept: -32930525.99954197\n",
      "-------------------\n",
      "RMSE: 53782329.287489\n",
      "r2: 0.293280\n",
      "-------------------\n",
      "Root Mean Squared Error (RMSE) on test data = 35010114.50251405\n",
      "R Squared (R2) on test data = -13.46967194798599\n",
      "ExplainedVariance:  1655704429100781.5\n"
     ]
    }
   ],
   "source": [
    "vectorAssembler = VectorAssembler(inputCols = ['X'], outputCol = 'features')\n",
    "vhouse_df = vectorAssembler.transform(df_us)\n",
    "vhouse_df = vhouse_df.select(['features', 'y'])\n",
    "# vhouse_df.show(3)\n",
    "\n",
    "splits = vhouse_df.randomSplit([0.7, 0.3])\n",
    "train_df = splits[0]\n",
    "test_df = splits[1]\n",
    "\n",
    "from pyspark.ml.regression import LinearRegression\n",
    "lr = LinearRegression(featuresCol = 'features', labelCol='y')\n",
    "lr_model = lr.fit(train_df)\n",
    "print(\"Coefficients: \" + str(lr_model.coefficients))\n",
    "print(\"Intercept: \" + str(lr_model.intercept))\n",
    "\n",
    "print('-------------------')\n",
    "\n",
    "trainingSummary = lr_model.summary\n",
    "print(\"RMSE: %f\" % trainingSummary.rootMeanSquaredError)\n",
    "print(\"r2: %f\" % trainingSummary.r2)\n",
    "\n",
    "print('-------------------')\n",
    "\n",
    "test_result = lr_model.evaluate(test_df)\n",
    "print(\"Root Mean Squared Error (RMSE) on test data =\",test_result.rootMeanSquaredError)\n",
    "print(\"R Squared (R2) on test data = {}\".format(test_result.r2))\n",
    "print('ExplainedVariance: ',test_result.explainedVariance)"
   ]
  },
  {
   "cell_type": "markdown",
   "id": "7324b48a",
   "metadata": {},
   "source": [
    "# df_india"
   ]
  },
  {
   "cell_type": "code",
   "execution_count": 27,
   "id": "8993b129",
   "metadata": {},
   "outputs": [
    {
     "name": "stdout",
     "output_type": "stream",
     "text": [
      "Coefficients: [806173.7651311178]\n",
      "Intercept: -6233195.509386638\n",
      "-------------------\n",
      "RMSE: 12255378.121660\n",
      "r2: 0.265843\n",
      "-------------------\n",
      "Root Mean Squared Error (RMSE) on test data= 6018521.305655515\n",
      "R Squared (R2) on test data = -35.75754701202717\n",
      "ExplainedVariance:  43177745247849.33\n"
     ]
    }
   ],
   "source": [
    "vectorAssembler = VectorAssembler(inputCols = ['X'], outputCol = 'features')\n",
    "vhouse_df = vectorAssembler.transform(df_india)\n",
    "vhouse_df = vhouse_df.select(['features', 'y'])\n",
    "# vhouse_df.show(3)\n",
    "\n",
    "splits = vhouse_df.randomSplit([0.7, 0.3])\n",
    "train_df = splits[0]\n",
    "test_df = splits[1]\n",
    "\n",
    "from pyspark.ml.regression import LinearRegression\n",
    "lr = LinearRegression(featuresCol = 'features', labelCol='y')\n",
    "lr_model = lr.fit(train_df)\n",
    "print(\"Coefficients: \" + str(lr_model.coefficients))\n",
    "print(\"Intercept: \" + str(lr_model.intercept))\n",
    "\n",
    "print('-------------------')\n",
    "\n",
    "trainingSummary = lr_model.summary\n",
    "print(\"RMSE: %f\" % trainingSummary.rootMeanSquaredError)\n",
    "print(\"r2: %f\" % trainingSummary.r2)\n",
    "\n",
    "print('-------------------')\n",
    "\n",
    "test_result = lr_model.evaluate(test_df)\n",
    "print(\"Root Mean Squared Error (RMSE) on test data=\",test_result.rootMeanSquaredError)\n",
    "print(\"R Squared (R2) on test data = {}\".format(test_result.r2))\n",
    "print('ExplainedVariance: ',test_result.explainedVariance)"
   ]
  },
  {
   "cell_type": "markdown",
   "id": "a94f76e9",
   "metadata": {},
   "source": [
    "# highest variance is for df_us"
   ]
  },
  {
   "cell_type": "code",
   "execution_count": 28,
   "id": "44bf32c9",
   "metadata": {},
   "outputs": [
    {
     "name": "stdout",
     "output_type": "stream",
     "text": [
      "+---+--------+\n",
      "|  X|       y|\n",
      "+---+--------+\n",
      "|  1|      21|\n",
      "|  2|      55|\n",
      "|  3|      78|\n",
      "|  4|      90|\n",
      "|  5|     101|\n",
      "|  6|     227|\n",
      "|  7|    2518|\n",
      "|  8|   21166|\n",
      "|  9|  200101|\n",
      "| 10|  867127|\n",
      "| 11| 2147841|\n",
      "| 12| 3667253|\n",
      "| 13| 5088988|\n",
      "| 14| 6532795|\n",
      "| 15| 7912526|\n",
      "| 16| 9160041|\n",
      "| 17|10286375|\n",
      "| 18|11393530|\n",
      "| 19|12424660|\n",
      "| 20|13452628|\n",
      "+---+--------+\n",
      "only showing top 20 rows\n",
      "\n"
     ]
    }
   ],
   "source": [
    "df_us.show()"
   ]
  },
  {
   "cell_type": "code",
   "execution_count": 29,
   "id": "cd6e2f83",
   "metadata": {},
   "outputs": [],
   "source": [
    "vectorAssembler = VectorAssembler(inputCols = ['y'], outputCol = 'features')\n",
    "df_kmeans = vectorAssembler.transform(df_us)\n",
    "df_kmeans = df_kmeans.select(['X','features'])"
   ]
  },
  {
   "cell_type": "code",
   "execution_count": 30,
   "id": "0b73c83c",
   "metadata": {},
   "outputs": [
    {
     "name": "stdout",
     "output_type": "stream",
     "text": [
      "+---+-------------+\n",
      "|  X|     features|\n",
      "+---+-------------+\n",
      "|  1|       [21.0]|\n",
      "|  2|       [55.0]|\n",
      "|  3|       [78.0]|\n",
      "|  4|       [90.0]|\n",
      "|  5|      [101.0]|\n",
      "|  6|      [227.0]|\n",
      "|  7|     [2518.0]|\n",
      "|  8|    [21166.0]|\n",
      "|  9|   [200101.0]|\n",
      "| 10|   [867127.0]|\n",
      "| 11|  [2147841.0]|\n",
      "| 12|  [3667253.0]|\n",
      "| 13|  [5088988.0]|\n",
      "| 14|  [6532795.0]|\n",
      "| 15|  [7912526.0]|\n",
      "| 16|  [9160041.0]|\n",
      "| 17|[1.0286375E7]|\n",
      "| 18| [1.139353E7]|\n",
      "| 19| [1.242466E7]|\n",
      "| 20|[1.3452628E7]|\n",
      "+---+-------------+\n",
      "only showing top 20 rows\n",
      "\n"
     ]
    }
   ],
   "source": [
    "df_kmeans.show()"
   ]
  },
  {
   "cell_type": "code",
   "execution_count": 31,
   "id": "2147b2dd",
   "metadata": {},
   "outputs": [],
   "source": [
    "import numpy as np\n",
    "from pyspark.ml.clustering import KMeans\n",
    "from pyspark.ml.evaluation import ClusteringEvaluator\n",
    "evaluator = ClusteringEvaluator()\n",
    "\n",
    "# https://scikit-learn.org/stable/auto_examples/cluster/plot_kmeans_silhouette_analysis.html\n",
    "cost = np.zeros(20)\n",
    "for k in range(2,20):\n",
    "    kmeans = KMeans().setK(k).setSeed(1).setFeaturesCol(\"features\")\n",
    "    model = kmeans.fit(df_kmeans.sample(False,0.1, seed=42))\n",
    "    predictions = model.transform(df_kmeans)\n",
    "    silhouette = evaluator.evaluate(predictions)\n",
    "    cost[k] = silhouette # requires Spark 2.0 or later"
   ]
  },
  {
   "cell_type": "code",
   "execution_count": 32,
   "id": "4a6921d5",
   "metadata": {},
   "outputs": [
    {
     "data": {
      "text/plain": [
       "Text(0, 0.5, 'cost')"
      ]
     },
     "execution_count": 32,
     "metadata": {},
     "output_type": "execute_result"
    },
    {
     "data": {
      "image/png": "[encoded data removed]",
      "text/plain": [
       "<Figure size 576x432 with 1 Axes>"
      ]
     },
     "metadata": {
      "needs_background": "light"
     },
     "output_type": "display_data"
    }
   ],
   "source": [
    "import matplotlib.pyplot as plt\n",
    "fig, ax = plt.subplots(1,1, figsize =(8,6))\n",
    "ax.plot(range(2,20),cost[2:20])\n",
    "ax.set_xlabel('k')\n",
    "ax.set_ylabel('cost')"
   ]
  },
  {
   "cell_type": "markdown",
   "id": "b58fb6fd",
   "metadata": {},
   "source": [
    "# higher the better i.e k = 3"
   ]
  },
  {
   "cell_type": "code",
   "execution_count": 33,
   "id": "14ebc94a",
   "metadata": {},
   "outputs": [
    {
     "name": "stdout",
     "output_type": "stream",
     "text": [
      "Cluster Centers: \n",
      "[17554664.]\n",
      "[2.83675048e+08]\n",
      "[2225058.]\n"
     ]
    }
   ],
   "source": [
    "k = 3\n",
    "kmeans = KMeans().setK(k).setSeed(1).setFeaturesCol(\"features\")\n",
    "model = kmeans.fit(df_kmeans)\n",
    "centers = model.clusterCenters()\n",
    "\n",
    "print(\"Cluster Centers: \")\n",
    "for center in centers:\n",
    "    print(center)"
   ]
  },
  {
   "cell_type": "code",
   "execution_count": 34,
   "id": "3a6b80e5",
   "metadata": {},
   "outputs": [],
   "source": [
    "transformed = model.transform(df_kmeans).select('X', 'prediction')\n",
    "# rows = transformed.collect()\n",
    "# print(rows[:3])"
   ]
  },
  {
   "cell_type": "code",
   "execution_count": 35,
   "id": "0ef3b190",
   "metadata": {},
   "outputs": [
    {
     "name": "stdout",
     "output_type": "stream",
     "text": [
      "+---+----------+\n",
      "|  X|prediction|\n",
      "+---+----------+\n",
      "|  1|         2|\n",
      "|  2|         2|\n",
      "|  3|         2|\n",
      "|  4|         2|\n",
      "|  5|         2|\n",
      "|  6|         2|\n",
      "|  7|         2|\n",
      "|  8|         2|\n",
      "|  9|         2|\n",
      "| 10|         2|\n",
      "| 11|         2|\n",
      "| 12|         2|\n",
      "| 13|         2|\n",
      "| 14|         2|\n",
      "| 15|         2|\n",
      "| 16|         2|\n",
      "| 17|         0|\n",
      "| 18|         0|\n",
      "| 19|         0|\n",
      "| 20|         0|\n",
      "| 21|         0|\n",
      "| 22|         0|\n",
      "| 23|         0|\n",
      "| 24|         0|\n",
      "| 25|         0|\n",
      "| 26|         0|\n",
      "| 27|         0|\n",
      "| 28|         1|\n",
      "+---+----------+\n",
      "\n"
     ]
    }
   ],
   "source": [
    "transformed.show(df_us.count())"
   ]
  },
  {
   "cell_type": "code",
   "execution_count": 36,
   "id": "44642f0e",
   "metadata": {},
   "outputs": [
    {
     "name": "stdout",
     "output_type": "stream",
     "text": [
      "+---+----------+---------+\n",
      "|  X|prediction|        y|\n",
      "+---+----------+---------+\n",
      "|  1|         2|       21|\n",
      "|  2|         2|       55|\n",
      "|  3|         2|       78|\n",
      "|  4|         2|       90|\n",
      "|  5|         2|      101|\n",
      "|  6|         2|      227|\n",
      "|  7|         2|     2518|\n",
      "|  8|         2|    21166|\n",
      "|  9|         2|   200101|\n",
      "| 10|         2|   867127|\n",
      "| 11|         2|  2147841|\n",
      "| 12|         2|  3667253|\n",
      "| 13|         2|  5088988|\n",
      "| 14|         2|  6532795|\n",
      "| 15|         2|  7912526|\n",
      "| 16|         2|  9160041|\n",
      "| 17|         0| 10286375|\n",
      "| 18|         0| 11393530|\n",
      "| 19|         0| 12424660|\n",
      "| 20|         0| 13452628|\n",
      "| 21|         0| 14494013|\n",
      "| 22|         0| 15773857|\n",
      "| 23|         0| 17559484|\n",
      "| 24|         0| 19889538|\n",
      "| 25|         0| 22704980|\n",
      "| 26|         0| 25941335|\n",
      "| 27|         0| 29180904|\n",
      "| 28|         1|283675048|\n",
      "+---+----------+---------+\n",
      "\n"
     ]
    }
   ],
   "source": [
    "df_pred = transformed.join(df_us, 'X')\n",
    "df_pred.show(df_us.count())"
   ]
  },
  {
   "cell_type": "code",
   "execution_count": 37,
   "id": "3a326ee1",
   "metadata": {},
   "outputs": [],
   "source": [
    "df_pred = df_pred.toPandas()"
   ]
  },
  {
   "cell_type": "code",
   "execution_count": 38,
   "id": "dc589f14",
   "metadata": {},
   "outputs": [
    {
     "data": {
      "text/html": [
       "<div>\n",
       "<style scoped>\n",
       "    .dataframe tbody tr th:only-of-type {\n",
       "        vertical-align: middle;\n",
       "    }\n",
       "\n",
       "    .dataframe tbody tr th {\n",
       "        vertical-align: top;\n",
       "    }\n",
       "\n",
       "    .dataframe thead th {\n",
       "        text-align: right;\n",
       "    }\n",
       "</style>\n",
       "<table border=\"1\" class=\"dataframe\">\n",
       "  <thead>\n",
       "    <tr style=\"text-align: right;\">\n",
       "      <th></th>\n",
       "      <th>X</th>\n",
       "      <th>prediction</th>\n",
       "      <th>y</th>\n",
       "    </tr>\n",
       "  </thead>\n",
       "  <tbody>\n",
       "    <tr>\n",
       "      <th>0</th>\n",
       "      <td>1</td>\n",
       "      <td>2</td>\n",
       "      <td>21</td>\n",
       "    </tr>\n",
       "    <tr>\n",
       "      <th>1</th>\n",
       "      <td>2</td>\n",
       "      <td>2</td>\n",
       "      <td>55</td>\n",
       "    </tr>\n",
       "    <tr>\n",
       "      <th>2</th>\n",
       "      <td>3</td>\n",
       "      <td>2</td>\n",
       "      <td>78</td>\n",
       "    </tr>\n",
       "    <tr>\n",
       "      <th>3</th>\n",
       "      <td>4</td>\n",
       "      <td>2</td>\n",
       "      <td>90</td>\n",
       "    </tr>\n",
       "    <tr>\n",
       "      <th>4</th>\n",
       "      <td>5</td>\n",
       "      <td>2</td>\n",
       "      <td>101</td>\n",
       "    </tr>\n",
       "    <tr>\n",
       "      <th>5</th>\n",
       "      <td>6</td>\n",
       "      <td>2</td>\n",
       "      <td>227</td>\n",
       "    </tr>\n",
       "    <tr>\n",
       "      <th>6</th>\n",
       "      <td>7</td>\n",
       "      <td>2</td>\n",
       "      <td>2518</td>\n",
       "    </tr>\n",
       "    <tr>\n",
       "      <th>7</th>\n",
       "      <td>8</td>\n",
       "      <td>2</td>\n",
       "      <td>21166</td>\n",
       "    </tr>\n",
       "    <tr>\n",
       "      <th>8</th>\n",
       "      <td>9</td>\n",
       "      <td>2</td>\n",
       "      <td>200101</td>\n",
       "    </tr>\n",
       "    <tr>\n",
       "      <th>9</th>\n",
       "      <td>10</td>\n",
       "      <td>2</td>\n",
       "      <td>867127</td>\n",
       "    </tr>\n",
       "    <tr>\n",
       "      <th>10</th>\n",
       "      <td>11</td>\n",
       "      <td>2</td>\n",
       "      <td>2147841</td>\n",
       "    </tr>\n",
       "    <tr>\n",
       "      <th>11</th>\n",
       "      <td>12</td>\n",
       "      <td>2</td>\n",
       "      <td>3667253</td>\n",
       "    </tr>\n",
       "    <tr>\n",
       "      <th>12</th>\n",
       "      <td>13</td>\n",
       "      <td>2</td>\n",
       "      <td>5088988</td>\n",
       "    </tr>\n",
       "    <tr>\n",
       "      <th>13</th>\n",
       "      <td>14</td>\n",
       "      <td>2</td>\n",
       "      <td>6532795</td>\n",
       "    </tr>\n",
       "    <tr>\n",
       "      <th>14</th>\n",
       "      <td>15</td>\n",
       "      <td>2</td>\n",
       "      <td>7912526</td>\n",
       "    </tr>\n",
       "    <tr>\n",
       "      <th>15</th>\n",
       "      <td>16</td>\n",
       "      <td>2</td>\n",
       "      <td>9160041</td>\n",
       "    </tr>\n",
       "    <tr>\n",
       "      <th>16</th>\n",
       "      <td>17</td>\n",
       "      <td>0</td>\n",
       "      <td>10286375</td>\n",
       "    </tr>\n",
       "    <tr>\n",
       "      <th>17</th>\n",
       "      <td>18</td>\n",
       "      <td>0</td>\n",
       "      <td>11393530</td>\n",
       "    </tr>\n",
       "    <tr>\n",
       "      <th>18</th>\n",
       "      <td>19</td>\n",
       "      <td>0</td>\n",
       "      <td>12424660</td>\n",
       "    </tr>\n",
       "    <tr>\n",
       "      <th>19</th>\n",
       "      <td>20</td>\n",
       "      <td>0</td>\n",
       "      <td>13452628</td>\n",
       "    </tr>\n",
       "    <tr>\n",
       "      <th>20</th>\n",
       "      <td>21</td>\n",
       "      <td>0</td>\n",
       "      <td>14494013</td>\n",
       "    </tr>\n",
       "    <tr>\n",
       "      <th>21</th>\n",
       "      <td>22</td>\n",
       "      <td>0</td>\n",
       "      <td>15773857</td>\n",
       "    </tr>\n",
       "    <tr>\n",
       "      <th>22</th>\n",
       "      <td>23</td>\n",
       "      <td>0</td>\n",
       "      <td>17559484</td>\n",
       "    </tr>\n",
       "    <tr>\n",
       "      <th>23</th>\n",
       "      <td>24</td>\n",
       "      <td>0</td>\n",
       "      <td>19889538</td>\n",
       "    </tr>\n",
       "    <tr>\n",
       "      <th>24</th>\n",
       "      <td>25</td>\n",
       "      <td>0</td>\n",
       "      <td>22704980</td>\n",
       "    </tr>\n",
       "    <tr>\n",
       "      <th>25</th>\n",
       "      <td>26</td>\n",
       "      <td>0</td>\n",
       "      <td>25941335</td>\n",
       "    </tr>\n",
       "    <tr>\n",
       "      <th>26</th>\n",
       "      <td>27</td>\n",
       "      <td>0</td>\n",
       "      <td>29180904</td>\n",
       "    </tr>\n",
       "    <tr>\n",
       "      <th>27</th>\n",
       "      <td>28</td>\n",
       "      <td>1</td>\n",
       "      <td>283675048</td>\n",
       "    </tr>\n",
       "  </tbody>\n",
       "</table>\n",
       "</div>"
      ],
      "text/plain": [
       "     X  prediction          y\n",
       "0    1           2         21\n",
       "1    2           2         55\n",
       "2    3           2         78\n",
       "3    4           2         90\n",
       "4    5           2        101\n",
       "5    6           2        227\n",
       "6    7           2       2518\n",
       "7    8           2      21166\n",
       "8    9           2     200101\n",
       "9   10           2     867127\n",
       "10  11           2    2147841\n",
       "11  12           2    3667253\n",
       "12  13           2    5088988\n",
       "13  14           2    6532795\n",
       "14  15           2    7912526\n",
       "15  16           2    9160041\n",
       "16  17           0   10286375\n",
       "17  18           0   11393530\n",
       "18  19           0   12424660\n",
       "19  20           0   13452628\n",
       "20  21           0   14494013\n",
       "21  22           0   15773857\n",
       "22  23           0   17559484\n",
       "23  24           0   19889538\n",
       "24  25           0   22704980\n",
       "25  26           0   25941335\n",
       "26  27           0   29180904\n",
       "27  28           1  283675048"
      ]
     },
     "execution_count": 38,
     "metadata": {},
     "output_type": "execute_result"
    }
   ],
   "source": [
    "df_pred"
   ]
  },
  {
   "cell_type": "code",
   "execution_count": 39,
   "id": "110f3e41",
   "metadata": {},
   "outputs": [
    {
     "data": {
      "image/png": "[encoded data removed]",
      "text/plain": [
       "<Figure size 432x288 with 1 Axes>"
      ]
     },
     "metadata": {
      "needs_background": "light"
     },
     "output_type": "display_data"
    }
   ],
   "source": [
    "x = df_pred[df_pred['prediction']==0]['X'].values\n",
    "y = df_pred[df_pred['prediction']==0]['y'].values\n",
    "\n",
    "plt.scatter(x,y, s = 100, c = 'red', label = 'Cluster 1')\n",
    "\n",
    "x = df_pred[df_pred['prediction']==1]['X'].values\n",
    "y = df_pred[df_pred['prediction']==1]['y'].values\n",
    "\n",
    "plt.scatter(x,y, s = 100, c = 'blue', label = 'Cluster 2')\n",
    "\n",
    "\n",
    "x = df_pred[df_pred['prediction']==2]['X'].values\n",
    "y = df_pred[df_pred['prediction']==2]['y'].values\n",
    "\n",
    "plt.scatter(x,y, s = 100, c = 'green', label = 'Cluster 3')\n",
    "plt.xlabel('Week number')\n",
    "plt.ylabel('Count')\n",
    "plt.legend()\n",
    "plt.show()"
   ]
  },
  {
   "cell_type": "code",
   "execution_count": null,
   "id": "ad3cf2d5",
   "metadata": {},
   "outputs": [],
   "source": []
  }
 ],
 "metadata": {
  "kernelspec": {
   "display_name": "Python 3 (ipykernel)",
   "language": "python",
   "name": "python3"
  },
  "language_info": {
   "codemirror_mode": {
    "name": "ipython",
    "version": 3
   },
   "file_extension": ".py",
   "mimetype": "text/x-python",
   "name": "python",
   "nbconvert_exporter": "python",
   "pygments_lexer": "ipython3",
   "version": "3.8.5"
  }
 },
 "nbformat": 4,
 "nbformat_minor": 5
}
