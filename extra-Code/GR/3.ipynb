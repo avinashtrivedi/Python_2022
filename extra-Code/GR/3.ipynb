{
 "cells": [
  {
   "cell_type": "code",
   "execution_count": null,
   "metadata": {},
   "outputs": [],
   "source": [
    "import datetime\n",
    "import json\n",
    "import os\n",
    "import sys\n",
    "from time import sleep\n",
    "os.system('cls')\n",
    "\n",
    "LOCAL_TIMEZONE = datetime.datetime.now(datetime.timezone.utc).astimezone().tzinfo\n",
    "e = datetime.datetime.now()\n",
    "\n",
    "filename = \"planner_files.json\"\n",
    "\n",
    "\n",
    "planner_file = open(filename, \"r\")\n",
    "json_object = json.load(planner_file)\n",
    "planner_file.close()\n",
    "print(json_object)\n",
    "\n",
    "\n",
    "def clr():\n",
    "    _ = os.system('cls')\n",
    "\n",
    "\n",
    "def edit_list():\n",
    "    edit_number = input(\"What would you like to change?\")\n",
    "    edit_object = input(\"What would you like to change it to?\")\n",
    "\n",
    "    json_object[edit_number] = edit_object\n",
    "    planner_file = open(filename, \"w\")\n",
    "    json.dump(json_object, planner_file)\n",
    "    planner_file.close()\n",
    "\n",
    "#Below is the \"append_list\" function, when it used a dictionary rather than a list\n",
    "\n",
    "# def append_list():\n",
    "#     append_number = input(\"What would you like to add to the list?\")\n",
    "#     append_object = input(\"What details would you like to include?\")\n",
    "#     appending = {append_number: append_object}\n",
    "#     with open(filename, \"r+\") as file:\n",
    "#         append_data = json.load(file)\n",
    "#         append_data.update(appending)\n",
    "#         file.seek(0)\n",
    "#         json.dump(append_data, file)\n",
    "\n",
    "\n",
    "def append_list():\n",
    "    appt = input(\"What appointment would you like to add?\")\n",
    "    appt_day = int(input(\"What day is your appointment? Please give a number\\n\"\n",
    "                         \"Example: if it's on the 12th, enter 12.\"))\n",
    "    appt_hour = int(input(\"What time is your appointment?\\nLet's start with the hour.\"))\n",
    "    appt_min = float(input(\"The minute of your appointment?\"))\n",
    "    ampm = input(\"am or pm?\")\n",
    "    if ampm == \"pm\":\n",
    "        appt_hour = appt_hour + 12\n",
    "    appending = [appt, appt_day, appt_hour, appt_min]\n",
    "    with open(filename, \"r+\") as file:\n",
    "        append_data = json.load(file)\n",
    "        append_data.append(appending)\n",
    "        file.seek(0)\n",
    "        json.dump(append_data, file)\n",
    "\n",
    "\n",
    "def delete_list():\n",
    "    global json_object\n",
    "    delete_number = input(\"What would you like to remove from the list?\")\n",
    "    for element in json_object:\n",
    "        if delete_number in element:\n",
    "            del element[delete_number]\n",
    "\n",
    "    with open(filename, \"w\") as planner_file:\n",
    "        json_object =json.dump(json_object, planner_file)\n",
    "\n",
    "\n",
    "def main_menu():\n",
    "    clr()\n",
    "    time()\n",
    "    while True:\n",
    "        menu_select = input(\"What would you like to do here?\\n1. Add an item?\\n2. Delete an item?\")\n",
    "        if menu_select == \"1\":\n",
    "            append_list()\n",
    "        if menu_select == \"2\":\n",
    "            delete_list()\n",
    "\n",
    "\n",
    "def time():\n",
    "    print(\"Today is \" + e.strftime(\"%a, %b %d, %Y\"))\n",
    "    print(\"The time is currently \" + e.strftime(\"%I:%M:%S %p,\"), LOCAL_TIMEZONE, \"\\n\")\n",
    "\n",
    "\n",
    "main_menu()"
   ]
  },
  {
   "cell_type": "code",
   "execution_count": null,
   "metadata": {},
   "outputs": [],
   "source": []
  },
  {
   "cell_type": "code",
   "execution_count": null,
   "metadata": {},
   "outputs": [],
   "source": []
  },
  {
   "cell_type": "code",
   "execution_count": null,
   "metadata": {},
   "outputs": [],
   "source": []
  },
  {
   "cell_type": "code",
   "execution_count": null,
   "metadata": {},
   "outputs": [],
   "source": []
  },
  {
   "cell_type": "code",
   "execution_count": 4,
   "metadata": {},
   "outputs": [],
   "source": [
    "mydictionary = {'Key':'value',\n",
    "               'key2':'value2',\n",
    "               'key3': {'key3_1':121},}"
   ]
  },
  {
   "cell_type": "code",
   "execution_count": 5,
   "metadata": {},
   "outputs": [
    {
     "data": {
      "text/plain": [
       "{'Key': 'value', 'key2': 'value2', 'key3': {'key3_1': 121}}"
      ]
     },
     "execution_count": 5,
     "metadata": {},
     "output_type": "execute_result"
    }
   ],
   "source": [
    "mydictionary"
   ]
  },
  {
   "cell_type": "code",
   "execution_count": 3,
   "metadata": {},
   "outputs": [
    {
     "data": {
      "text/plain": [
       "dict"
      ]
     },
     "execution_count": 3,
     "metadata": {},
     "output_type": "execute_result"
    }
   ],
   "source": [
    "type(mydictionary)"
   ]
  },
  {
   "cell_type": "code",
   "execution_count": 6,
   "metadata": {},
   "outputs": [
    {
     "data": {
      "text/plain": [
       "dict_keys(['Key', 'key2', 'key3'])"
      ]
     },
     "execution_count": 6,
     "metadata": {},
     "output_type": "execute_result"
    }
   ],
   "source": [
    "mydictionary.keys()"
   ]
  },
  {
   "cell_type": "code",
   "execution_count": 9,
   "metadata": {},
   "outputs": [],
   "source": [
    "import json\n",
    "with open('mydictionary.json', 'w') as fp:\n",
    "    json.dump(mydictionary, fp)"
   ]
  },
  {
   "cell_type": "code",
   "execution_count": null,
   "metadata": {},
   "outputs": [],
   "source": []
  },
  {
   "cell_type": "code",
   "execution_count": null,
   "metadata": {},
   "outputs": [],
   "source": [
    "with open('data.json', 'r') as fp:\n",
    "    data = json.load(fp)"
   ]
  },
  {
   "cell_type": "code",
   "execution_count": null,
   "metadata": {},
   "outputs": [],
   "source": [
    "Shopping List must have:\n",
    "1) Individual items (eggs, bread, batteries, etc)\n",
    "2) Notes on those items (allowed prices, brands, etc)\n",
    "3) checklist (as someone shops, they need to be able to check\n"
   ]
  },
  {
   "cell_type": "code",
   "execution_count": 32,
   "metadata": {},
   "outputs": [],
   "source": [
    "shopping_list = {\n",
    "    'item':{'Egg':[12,'buy Chicken if not available'],\n",
    "            'bread':[34,'buy brown bread'],\n",
    "            'rice':[1,'buy wheat']  \n",
    "    },\n",
    "    'checklist':{\n",
    "        'egg':False,\n",
    "        'bread':False,\n",
    "        'rice':False\n",
    "    }   \n",
    "}"
   ]
  },
  {
   "cell_type": "code",
   "execution_count": null,
   "metadata": {},
   "outputs": [],
   "source": [
    "The way I see things, the user should be asked a series of questions:\n",
    "1) What item would you like to add to the list?\n",
    "2) What quantity of that item should be listed?\n",
    "3) What notes should be added in regards do that item? If nothing, leave blank.\n",
    "The list itself could, in theory, receive an infinite number of items from the user, \n",
    "whether they want to buy 5 or 500 items.\n",
    "It should be possible for the user to add, delete, and edit items from the list, \n",
    "as well as clear the list entirely.\n"
   ]
  },
  {
   "cell_type": "code",
   "execution_count": 33,
   "metadata": {},
   "outputs": [
    {
     "data": {
      "text/plain": [
       "{'item': {'Egg': [12, 'buy Chicken if not available'],\n",
       "  'bread': [34, 'buy brown bread'],\n",
       "  'rice': [1, 'buy wheat']},\n",
       " 'checklist': {'egg': False, 'bread': False, 'rice': False}}"
      ]
     },
     "execution_count": 33,
     "metadata": {},
     "output_type": "execute_result"
    }
   ],
   "source": [
    "shopping_list"
   ]
  },
  {
   "cell_type": "code",
   "execution_count": 14,
   "metadata": {},
   "outputs": [
    {
     "data": {
      "text/plain": [
       "dict_keys(['item', 'checklist'])"
      ]
     },
     "execution_count": 14,
     "metadata": {},
     "output_type": "execute_result"
    }
   ],
   "source": [
    "shopping_list.keys()"
   ]
  },
  {
   "cell_type": "code",
   "execution_count": 17,
   "metadata": {},
   "outputs": [
    {
     "data": {
      "text/plain": [
       "dict"
      ]
     },
     "execution_count": 17,
     "metadata": {},
     "output_type": "execute_result"
    }
   ],
   "source": [
    "type(shopping_list['item'])"
   ]
  },
  {
   "cell_type": "code",
   "execution_count": 19,
   "metadata": {},
   "outputs": [
    {
     "data": {
      "text/plain": [
       "dict_keys(['Egg', 'bread', 'rice'])"
      ]
     },
     "execution_count": 19,
     "metadata": {},
     "output_type": "execute_result"
    }
   ],
   "source": [
    "shopping_list['item'].keys()"
   ]
  },
  {
   "cell_type": "code",
   "execution_count": 23,
   "metadata": {},
   "outputs": [
    {
     "data": {
      "text/plain": [
       "12"
      ]
     },
     "execution_count": 23,
     "metadata": {},
     "output_type": "execute_result"
    }
   ],
   "source": [
    "shopping_list['item']['Egg'][0]"
   ]
  },
  {
   "cell_type": "code",
   "execution_count": 24,
   "metadata": {},
   "outputs": [
    {
     "data": {
      "text/plain": [
       "'buy Chicken if not available'"
      ]
     },
     "execution_count": 24,
     "metadata": {},
     "output_type": "execute_result"
    }
   ],
   "source": [
    "shopping_list['item']['Egg'][1]"
   ]
  },
  {
   "cell_type": "code",
   "execution_count": 25,
   "metadata": {},
   "outputs": [
    {
     "data": {
      "text/plain": [
       "[12, 'buy Chicken if not available']"
      ]
     },
     "execution_count": 25,
     "metadata": {},
     "output_type": "execute_result"
    }
   ],
   "source": [
    "shopping_list['item']['Egg']"
   ]
  },
  {
   "cell_type": "code",
   "execution_count": 27,
   "metadata": {},
   "outputs": [
    {
     "data": {
      "text/plain": [
       "dict_keys(['egg', 'bread', 'rice'])"
      ]
     },
     "execution_count": 27,
     "metadata": {},
     "output_type": "execute_result"
    }
   ],
   "source": [
    "shopping_list['checklist'].keys()"
   ]
  },
  {
   "cell_type": "code",
   "execution_count": 34,
   "metadata": {},
   "outputs": [
    {
     "data": {
      "text/plain": [
       "dict_items([('egg', False), ('bread', False), ('rice', False)])"
      ]
     },
     "execution_count": 34,
     "metadata": {},
     "output_type": "execute_result"
    }
   ],
   "source": [
    "shopping_list['checklist'].items()"
   ]
  },
  {
   "cell_type": "code",
   "execution_count": 30,
   "metadata": {},
   "outputs": [
    {
     "data": {
      "text/plain": [
       "{'egg': True, 'bread': True, 'rice': True}"
      ]
     },
     "execution_count": 30,
     "metadata": {},
     "output_type": "execute_result"
    }
   ],
   "source": [
    "shopping_list['checklist']"
   ]
  },
  {
   "cell_type": "code",
   "execution_count": 35,
   "metadata": {},
   "outputs": [
    {
     "name": "stdout",
     "output_type": "stream",
     "text": [
      "egg False\n",
      "bread False\n",
      "rice False\n"
     ]
    }
   ],
   "source": [
    "for k,v in shopping_list['checklist'].items():\n",
    "    print(k,v)"
   ]
  },
  {
   "cell_type": "code",
   "execution_count": null,
   "metadata": {},
   "outputs": [],
   "source": [
    "So far, there are three different things I'd like this code to do:\n",
    "1) Shopping list\n",
    "2) Date/time manager (alarms, calendar, appointment reminders, etc)\n",
    "3) Telling jokes (something for fun)\n",
    "Shopping List must have:\n",
    "1) Individual items (eggs, bread, batteries, etc)\n",
    "2) Notes on those items (allowed prices, brands, etc)\n",
    "3) checklist (as someone shops, they need to be able to check\n",
    "The time manager must be able to:\n",
    "1) Tell time (time function already done)\n",
    "2) Set appointments\n",
    "3) Have a reminder\n",
    "4) Be able to accept input data on dates/times\n",
    "5) Be able to unpack the input data on the json (for dates/times) and reinterpret it as code for the reminders\n",
    "Jokes are easy:\n",
    "1) The program presents a random joke; a question is asked, a few seconds later, a punchline is given\n"
   ]
  },
  {
   "cell_type": "markdown",
   "metadata": {},
   "source": [
    "# Code\n",
    "\n",
    "- The way I see things, the user should be asked a series of questions:\n",
    "- 1) What item would you like to add to the list?\n",
    "- 2) What quantity of that item should be listed?\n",
    "- 3) What notes should be added in regards do that item? If nothing, leave blank.\n",
    "- The list itself could, in theory, receive an infinite number of items from the user, \n",
    "- whether they want to buy 5 or 500 items.\n",
    "- It should be possible for the user to add, delete, and edit items from the list, as well as clear the list entirely.\n"
   ]
  },
  {
   "cell_type": "code",
   "execution_count": null,
   "metadata": {},
   "outputs": [],
   "source": [
    "{'Egg':[12,'buy Chicken if not available'],\n",
    "'bread':[34,'buy brown bread'],\n",
    "'rice':[1,'buy wheat']  \n",
    "    }"
   ]
  },
  {
   "cell_type": "code",
   "execution_count": null,
   "metadata": {},
   "outputs": [],
   "source": [
    "shopping_list = {\n",
    "    'item':{'Egg':[12,'buy Chicken if not available'],\n",
    "            'bread':[34,'buy brown bread'],\n",
    "            'rice':[1,'buy wheat']  \n",
    "    },\n",
    "    'checklist':{\n",
    "        'egg':False,\n",
    "        'bread':False,\n",
    "        'rice':False\n",
    "    }   \n",
    "}"
   ]
  },
  {
   "cell_type": "code",
   "execution_count": 43,
   "metadata": {},
   "outputs": [
    {
     "name": "stdout",
     "output_type": "stream",
     "text": [
      "Name: Egg\n",
      "Quantity: 1000\n",
      "Notes: NA\n",
      "Do you want to continue y/n?: y\n",
      "Name: Chicken\n",
      "Quantity: 1\n",
      "Notes: Bread\n",
      "Do you want to continue y/n?: y\n",
      "Name: Apple\n",
      "Quantity: 2\n",
      "Notes: Papaya\n",
      "Do you want to continue y/n?: n\n"
     ]
    }
   ],
   "source": [
    "SubDictItems = {}\n",
    "chklist = {}\n",
    "shopping_list = {}\n",
    "while True:\n",
    "    itm = input('Name: ')\n",
    "    qty = int(input(\"Quantity: \"))\n",
    "    note = input('Notes: ')\n",
    "    SubDictItems[itm] = [qty,note]\n",
    "    chklist[itm] = False\n",
    "#     print\n",
    "    choice = input(\"Do you want to continue y/n?: \")\n",
    "    if choice.lower() == 'n':\n",
    "        shopping_list['ITEMS'] = SubDictItems\n",
    "        shopping_list['CHECKLIST'] = chklist\n",
    "        break"
   ]
  },
  {
   "cell_type": "code",
   "execution_count": 44,
   "metadata": {},
   "outputs": [
    {
     "data": {
      "text/plain": [
       "{'Egg': False, 'Chicken': False, 'Apple': False}"
      ]
     },
     "execution_count": 44,
     "metadata": {},
     "output_type": "execute_result"
    }
   ],
   "source": [
    "chklist"
   ]
  },
  {
   "cell_type": "code",
   "execution_count": 45,
   "metadata": {},
   "outputs": [
    {
     "data": {
      "text/plain": [
       "{'Egg': [1000, 'NA'], 'Chicken': [1, 'Bread'], 'Apple': [2, 'Papaya']}"
      ]
     },
     "execution_count": 45,
     "metadata": {},
     "output_type": "execute_result"
    }
   ],
   "source": [
    "SubDictItems"
   ]
  },
  {
   "cell_type": "code",
   "execution_count": 49,
   "metadata": {},
   "outputs": [
    {
     "data": {
      "text/plain": [
       "{'ITEMS': {'Egg': [1000, 'NA'],\n",
       "  'Chicken': [1, 'Bread'],\n",
       "  'Apple': [2, 'Papaya']},\n",
       " 'CHECKLIST': {'Egg': False, 'Chicken': False, 'Apple': False}}"
      ]
     },
     "execution_count": 49,
     "metadata": {},
     "output_type": "execute_result"
    }
   ],
   "source": [
    "shopping_list"
   ]
  },
  {
   "cell_type": "code",
   "execution_count": 50,
   "metadata": {},
   "outputs": [
    {
     "data": {
      "text/plain": [
       "dict_keys(['ITEMS', 'CHECKLIST'])"
      ]
     },
     "execution_count": 50,
     "metadata": {},
     "output_type": "execute_result"
    }
   ],
   "source": [
    "shopping_list.keys()"
   ]
  },
  {
   "cell_type": "code",
   "execution_count": 51,
   "metadata": {},
   "outputs": [],
   "source": [
    "import json\n",
    "with open('shopping_list.json', 'w') as fp:\n",
    "    json.dump(shopping_list, fp)"
   ]
  },
  {
   "cell_type": "code",
   "execution_count": 56,
   "metadata": {},
   "outputs": [],
   "source": [
    "shopping_list['ITEMS']['Egg'][0] = 500"
   ]
  },
  {
   "cell_type": "code",
   "execution_count": 57,
   "metadata": {},
   "outputs": [
    {
     "data": {
      "text/plain": [
       "{'ITEMS': {'Egg': [500, 'NA'],\n",
       "  'Chicken': [1, 'Bread'],\n",
       "  'Apple': [2, 'Papaya']},\n",
       " 'CHECKLIST': {'Egg': False, 'Chicken': False, 'Apple': False}}"
      ]
     },
     "execution_count": 57,
     "metadata": {},
     "output_type": "execute_result"
    }
   ],
   "source": [
    "shopping_list"
   ]
  },
  {
   "cell_type": "markdown",
   "metadata": {},
   "source": [
    "# 08Mar2022"
   ]
  },
  {
   "cell_type": "code",
   "execution_count": 1,
   "metadata": {},
   "outputs": [],
   "source": [
    "def time():\n",
    "    print(\"Today is \" + e.strftime(\"%a, %b %d, %Y\"))\n",
    "    print(\"The time is currently \" + e.strftime(\"%I:%M:%S %p,\"), LOCAL_TIMEZONE, \"\\n\")"
   ]
  },
  {
   "cell_type": "code",
   "execution_count": 2,
   "metadata": {},
   "outputs": [],
   "source": [
    "import time"
   ]
  },
  {
   "cell_type": "code",
   "execution_count": 18,
   "metadata": {},
   "outputs": [
    {
     "name": "stdout",
     "output_type": "stream",
     "text": [
      "Enter the date (DD-MM-YYYY): 05-03-2022\n",
      "Enter the time (24 hr format): 22:50\n"
     ]
    }
   ],
   "source": [
    "date = input('Enter the date (DD-MM-YYYY): ')\n",
    "time = input('Enter the time (24 hr format): ')"
   ]
  },
  {
   "cell_type": "code",
   "execution_count": 19,
   "metadata": {},
   "outputs": [
    {
     "data": {
      "text/plain": [
       "'05-03-2022'"
      ]
     },
     "execution_count": 19,
     "metadata": {},
     "output_type": "execute_result"
    }
   ],
   "source": [
    "date"
   ]
  },
  {
   "cell_type": "code",
   "execution_count": 20,
   "metadata": {},
   "outputs": [
    {
     "data": {
      "text/plain": [
       "['05', '03', '2022']"
      ]
     },
     "execution_count": 20,
     "metadata": {},
     "output_type": "execute_result"
    }
   ],
   "source": [
    "date.split('-')"
   ]
  },
  {
   "cell_type": "code",
   "execution_count": 21,
   "metadata": {},
   "outputs": [
    {
     "data": {
      "text/plain": [
       "'22:50'"
      ]
     },
     "execution_count": 21,
     "metadata": {},
     "output_type": "execute_result"
    }
   ],
   "source": [
    "time"
   ]
  },
  {
   "cell_type": "code",
   "execution_count": 22,
   "metadata": {},
   "outputs": [
    {
     "data": {
      "text/plain": [
       "['22', '50']"
      ]
     },
     "execution_count": 22,
     "metadata": {},
     "output_type": "execute_result"
    }
   ],
   "source": [
    "time.split(':')"
   ]
  },
  {
   "cell_type": "code",
   "execution_count": 79,
   "metadata": {},
   "outputs": [],
   "source": [
    "s= 'hello-world this-is-python'"
   ]
  },
  {
   "cell_type": "code",
   "execution_count": 80,
   "metadata": {},
   "outputs": [
    {
     "data": {
      "text/plain": [
       "['hello', 'world this', 'is', 'python']"
      ]
     },
     "execution_count": 80,
     "metadata": {},
     "output_type": "execute_result"
    }
   ],
   "source": [
    "s.split('-')"
   ]
  },
  {
   "cell_type": "code",
   "execution_count": 81,
   "metadata": {},
   "outputs": [
    {
     "data": {
      "text/plain": [
       "['hello', 'world', 'this', 'is', 'python']"
      ]
     },
     "execution_count": 81,
     "metadata": {},
     "output_type": "execute_result"
    }
   ],
   "source": [
    "sum([i.split() for i in s.split('-')],[])"
   ]
  },
  {
   "cell_type": "code",
   "execution_count": null,
   "metadata": {},
   "outputs": [],
   "source": []
  },
  {
   "cell_type": "code",
   "execution_count": 30,
   "metadata": {},
   "outputs": [],
   "source": [
    "d = 'hello'"
   ]
  },
  {
   "cell_type": "code",
   "execution_count": 31,
   "metadata": {},
   "outputs": [
    {
     "data": {
      "text/plain": [
       "'hello'"
      ]
     },
     "execution_count": 31,
     "metadata": {},
     "output_type": "execute_result"
    }
   ],
   "source": [
    "d"
   ]
  },
  {
   "cell_type": "code",
   "execution_count": 32,
   "metadata": {},
   "outputs": [
    {
     "data": {
      "text/plain": [
       "['hello']"
      ]
     },
     "execution_count": 32,
     "metadata": {},
     "output_type": "execute_result"
    }
   ],
   "source": [
    "d.split()"
   ]
  },
  {
   "cell_type": "code",
   "execution_count": 37,
   "metadata": {},
   "outputs": [],
   "source": [
    "c = [[3,4],[5,6],[1,2]]"
   ]
  },
  {
   "cell_type": "code",
   "execution_count": 38,
   "metadata": {},
   "outputs": [
    {
     "ename": "TypeError",
     "evalue": "unsupported operand type(s) for +: 'int' and 'list'",
     "output_type": "error",
     "traceback": [
      "\u001b[1;31m---------------------------------------------------------------------------\u001b[0m",
      "\u001b[1;31mTypeError\u001b[0m                                 Traceback (most recent call last)",
      "\u001b[1;32m<ipython-input-38-da7bc3810d04>\u001b[0m in \u001b[0;36m<module>\u001b[1;34m\u001b[0m\n\u001b[1;32m----> 1\u001b[1;33m \u001b[0msum\u001b[0m\u001b[1;33m(\u001b[0m\u001b[0mc\u001b[0m\u001b[1;33m)\u001b[0m\u001b[1;33m\u001b[0m\u001b[1;33m\u001b[0m\u001b[0m\n\u001b[0m",
      "\u001b[1;31mTypeError\u001b[0m: unsupported operand type(s) for +: 'int' and 'list'"
     ]
    }
   ],
   "source": [
    "sum(c)"
   ]
  },
  {
   "cell_type": "code",
   "execution_count": 42,
   "metadata": {},
   "outputs": [],
   "source": [
    "y = [1,2,3]"
   ]
  },
  {
   "cell_type": "code",
   "execution_count": 43,
   "metadata": {},
   "outputs": [
    {
     "data": {
      "text/plain": [
       "[1, 2, 3]"
      ]
     },
     "execution_count": 43,
     "metadata": {},
     "output_type": "execute_result"
    }
   ],
   "source": [
    "y"
   ]
  },
  {
   "cell_type": "code",
   "execution_count": 46,
   "metadata": {},
   "outputs": [
    {
     "data": {
      "text/plain": [
       "106"
      ]
     },
     "execution_count": 46,
     "metadata": {},
     "output_type": "execute_result"
    }
   ],
   "source": [
    "sum(y,100)"
   ]
  },
  {
   "cell_type": "code",
   "execution_count": 47,
   "metadata": {},
   "outputs": [
    {
     "data": {
      "text/plain": [
       "[[3, 4], [5, 6], [1, 2]]"
      ]
     },
     "execution_count": 47,
     "metadata": {},
     "output_type": "execute_result"
    }
   ],
   "source": [
    "c"
   ]
  },
  {
   "cell_type": "code",
   "execution_count": 48,
   "metadata": {},
   "outputs": [
    {
     "data": {
      "text/plain": [
       "[1, 2, 4, 5]"
      ]
     },
     "execution_count": 48,
     "metadata": {},
     "output_type": "execute_result"
    }
   ],
   "source": [
    "[1,2] + [4,5] + []"
   ]
  },
  {
   "cell_type": "code",
   "execution_count": 50,
   "metadata": {},
   "outputs": [
    {
     "data": {
      "text/plain": [
       "[[3, 4], [5, 6], [1, 2]]"
      ]
     },
     "execution_count": 50,
     "metadata": {},
     "output_type": "execute_result"
    }
   ],
   "source": [
    "c"
   ]
  },
  {
   "cell_type": "code",
   "execution_count": 52,
   "metadata": {},
   "outputs": [
    {
     "data": {
      "text/plain": [
       "[3, 4, 5, 6, 1, 2]"
      ]
     },
     "execution_count": 52,
     "metadata": {},
     "output_type": "execute_result"
    }
   ],
   "source": [
    "sum(c,[])"
   ]
  },
  {
   "cell_type": "code",
   "execution_count": 82,
   "metadata": {},
   "outputs": [],
   "source": [
    "x = s.split('-')"
   ]
  },
  {
   "cell_type": "code",
   "execution_count": 83,
   "metadata": {},
   "outputs": [
    {
     "data": {
      "text/plain": [
       "['hello', 'world this', 'is', 'python']"
      ]
     },
     "execution_count": 83,
     "metadata": {},
     "output_type": "execute_result"
    }
   ],
   "source": [
    "x"
   ]
  },
  {
   "cell_type": "code",
   "execution_count": 85,
   "metadata": {},
   "outputs": [],
   "source": [
    "lst = []\n",
    "for i in x:\n",
    "    y = i.split()\n",
    "    lst.extend(y)\n",
    "#     print(lst)"
   ]
  },
  {
   "cell_type": "code",
   "execution_count": 86,
   "metadata": {},
   "outputs": [
    {
     "data": {
      "text/plain": [
       "['hello', 'world', 'this', 'is', 'python']"
      ]
     },
     "execution_count": 86,
     "metadata": {},
     "output_type": "execute_result"
    }
   ],
   "source": [
    "lst"
   ]
  },
  {
   "cell_type": "code",
   "execution_count": null,
   "metadata": {},
   "outputs": [],
   "source": []
  },
  {
   "cell_type": "code",
   "execution_count": 63,
   "metadata": {},
   "outputs": [],
   "source": [
    "b = [1,2,3]"
   ]
  },
  {
   "cell_type": "code",
   "execution_count": 64,
   "metadata": {},
   "outputs": [
    {
     "data": {
      "text/plain": [
       "[1, 2, 3]"
      ]
     },
     "execution_count": 64,
     "metadata": {},
     "output_type": "execute_result"
    }
   ],
   "source": [
    "b"
   ]
  },
  {
   "cell_type": "code",
   "execution_count": 65,
   "metadata": {},
   "outputs": [],
   "source": [
    "q = [6,7,8]"
   ]
  },
  {
   "cell_type": "code",
   "execution_count": 66,
   "metadata": {},
   "outputs": [
    {
     "data": {
      "text/plain": [
       "[1, 2, 3, 6, 7, 8]"
      ]
     },
     "execution_count": 66,
     "metadata": {},
     "output_type": "execute_result"
    }
   ],
   "source": [
    "b+q"
   ]
  },
  {
   "cell_type": "code",
   "execution_count": 67,
   "metadata": {},
   "outputs": [],
   "source": [
    "b.extend(q)"
   ]
  },
  {
   "cell_type": "code",
   "execution_count": 68,
   "metadata": {},
   "outputs": [
    {
     "data": {
      "text/plain": [
       "[1, 2, 3, 6, 7, 8]"
      ]
     },
     "execution_count": 68,
     "metadata": {},
     "output_type": "execute_result"
    }
   ],
   "source": [
    "b"
   ]
  },
  {
   "cell_type": "code",
   "execution_count": 77,
   "metadata": {},
   "outputs": [
    {
     "name": "stdout",
     "output_type": "stream",
     "text": [
      "hello there i am 0 how are you\n",
      "hello there i am 1 how are you\n",
      "hello there i am 2 how are you\n",
      "hello there i am 3 how are you\n",
      "hello there i am 4 how are you\n"
     ]
    }
   ],
   "source": [
    "for x in range(5): # hello there i am 0 how are you\n",
    "    print(f'hello there i am {x} how are you')"
   ]
  },
  {
   "cell_type": "code",
   "execution_count": 72,
   "metadata": {},
   "outputs": [
    {
     "name": "stdout",
     "output_type": "stream",
     "text": [
      "42\n"
     ]
    }
   ],
   "source": [
    "print(x)"
   ]
  },
  {
   "cell_type": "code",
   "execution_count": null,
   "metadata": {},
   "outputs": [],
   "source": [
    "hello there i am 0 how are you\n",
    "hello there i am 1 how are you\n",
    "hello there i am 2 how are you"
   ]
  },
  {
   "cell_type": "code",
   "execution_count": null,
   "metadata": {},
   "outputs": [],
   "source": []
  },
  {
   "cell_type": "code",
   "execution_count": null,
   "metadata": {},
   "outputs": [],
   "source": []
  },
  {
   "cell_type": "code",
   "execution_count": 87,
   "metadata": {},
   "outputs": [],
   "source": [
    "shopping_list = {\n",
    "    'item':{'Egg':[12,'buy Chicken if not available'],\n",
    "            'bread':[34,'buy brown bread'],\n",
    "            'rice':[1,'buy wheat']  \n",
    "    },\n",
    "    'checklist':{\n",
    "        'egg':False,\n",
    "        'bread':False,\n",
    "        'rice':False\n",
    "    }   \n",
    "}"
   ]
  },
  {
   "cell_type": "code",
   "execution_count": 89,
   "metadata": {},
   "outputs": [
    {
     "data": {
      "text/plain": [
       "dict_keys(['item', 'checklist'])"
      ]
     },
     "execution_count": 89,
     "metadata": {},
     "output_type": "execute_result"
    }
   ],
   "source": [
    "shopping_list.keys()"
   ]
  },
  {
   "cell_type": "code",
   "execution_count": 90,
   "metadata": {},
   "outputs": [],
   "source": [
    "del shopping_list['checklist']"
   ]
  },
  {
   "cell_type": "code",
   "execution_count": 91,
   "metadata": {},
   "outputs": [
    {
     "data": {
      "text/plain": [
       "{'item': {'Egg': [12, 'buy Chicken if not available'],\n",
       "  'bread': [34, 'buy brown bread'],\n",
       "  'rice': [1, 'buy wheat']}}"
      ]
     },
     "execution_count": 91,
     "metadata": {},
     "output_type": "execute_result"
    }
   ],
   "source": [
    "shopping_list"
   ]
  },
  {
   "cell_type": "code",
   "execution_count": 92,
   "metadata": {},
   "outputs": [
    {
     "data": {
      "text/plain": [
       "dict_keys(['item'])"
      ]
     },
     "execution_count": 92,
     "metadata": {},
     "output_type": "execute_result"
    }
   ],
   "source": [
    "shopping_list.keys()"
   ]
  },
  {
   "cell_type": "code",
   "execution_count": 93,
   "metadata": {},
   "outputs": [
    {
     "data": {
      "text/plain": [
       "['item']"
      ]
     },
     "execution_count": 93,
     "metadata": {},
     "output_type": "execute_result"
    }
   ],
   "source": [
    "list(shopping_list)"
   ]
  },
  {
   "cell_type": "code",
   "execution_count": null,
   "metadata": {},
   "outputs": [],
   "source": [
    "d = shopping_list"
   ]
  },
  {
   "cell_type": "code",
   "execution_count": 97,
   "metadata": {},
   "outputs": [],
   "source": [
    "del shopping_list['item']['rice']"
   ]
  },
  {
   "cell_type": "code",
   "execution_count": 98,
   "metadata": {},
   "outputs": [
    {
     "data": {
      "text/plain": [
       "{'item': {'Egg': [12, 'buy Chicken if not available'],\n",
       "  'bread': [34, 'buy brown bread']}}"
      ]
     },
     "execution_count": 98,
     "metadata": {},
     "output_type": "execute_result"
    }
   ],
   "source": [
    "shopping_list"
   ]
  },
  {
   "cell_type": "code",
   "execution_count": null,
   "metadata": {},
   "outputs": [],
   "source": [
    "The function of the joke-telling is to be simple.\n",
    "1) The user asks the program to tell it a joke.\n",
    "2) A random joke is given, starting with a posed question.\n",
    "3) A delay of a few seconds takes place, then the answer is given.\n",
    "I'm mostly concerned with how the information would be stored on a json file\n",
    "\n",
    "Program: Asks a question, \"how many lawyers does it take to change a lightbulb?\"\n",
    "\n",
    "A few seconds delay would be posed. Then it would post the answer.\n",
    "\n",
    "\"It depends how many you can afford.\"\n",
    "\n",
    "Question: \"What did the father buffalo when the son buffalo left home?\"\n",
    "Answer: \"Bison.\"\n"
   ]
  },
  {
   "cell_type": "code",
   "execution_count": 12,
   "metadata": {},
   "outputs": [],
   "source": [
    "import random\n",
    "import time"
   ]
  },
  {
   "cell_type": "code",
   "execution_count": 8,
   "metadata": {},
   "outputs": [],
   "source": [
    "x = random.randint(1,4)"
   ]
  },
  {
   "cell_type": "code",
   "execution_count": 9,
   "metadata": {},
   "outputs": [],
   "source": [
    "joke_dict = {\n",
    "    1: 'This is joke1',\n",
    "    2: 'This is joke2',\n",
    "    3: 'This is joke3',\n",
    "    4: 'This is joke4',\n",
    "}"
   ]
  },
  {
   "cell_type": "code",
   "execution_count": 13,
   "metadata": {},
   "outputs": [
    {
     "name": "stdout",
     "output_type": "stream",
     "text": [
      "Enter a integer number: 14\n",
      "Yes. Its integer\n",
      "Enter a integer number: 25\n",
      "Yes. Its integer\n",
      "Enter a integer number: ksjdhfsdhf\n",
      "Do you think its integer number?\n",
      "Perhaps\n"
     ]
    },
    {
     "ename": "KeyboardInterrupt",
     "evalue": "Interrupted by user",
     "output_type": "error",
     "traceback": [
      "\u001b[1;31m---------------------------------------------------------------------------\u001b[0m",
      "\u001b[1;31mKeyboardInterrupt\u001b[0m                         Traceback (most recent call last)",
      "\u001b[1;32m<ipython-input-13-8308f232a3d5>\u001b[0m in \u001b[0;36m<module>\u001b[1;34m\u001b[0m\n\u001b[0;32m      5\u001b[0m \u001b[1;33m\u001b[0m\u001b[0m\n\u001b[0;32m      6\u001b[0m \u001b[1;32mwhile\u001b[0m \u001b[1;32mTrue\u001b[0m\u001b[1;33m:\u001b[0m\u001b[1;33m\u001b[0m\u001b[1;33m\u001b[0m\u001b[0m\n\u001b[1;32m----> 7\u001b[1;33m     \u001b[0mchoice\u001b[0m \u001b[1;33m=\u001b[0m \u001b[0minput\u001b[0m\u001b[1;33m(\u001b[0m\u001b[1;34m'Enter a integer number: '\u001b[0m\u001b[1;33m)\u001b[0m\u001b[1;33m\u001b[0m\u001b[1;33m\u001b[0m\u001b[0m\n\u001b[0m\u001b[0;32m      8\u001b[0m     \u001b[1;32mif\u001b[0m \u001b[0mchoice\u001b[0m\u001b[1;33m.\u001b[0m\u001b[0misdigit\u001b[0m\u001b[1;33m(\u001b[0m\u001b[1;33m)\u001b[0m\u001b[1;33m:\u001b[0m\u001b[1;33m\u001b[0m\u001b[1;33m\u001b[0m\u001b[0m\n\u001b[0;32m      9\u001b[0m         \u001b[0mprint\u001b[0m\u001b[1;33m(\u001b[0m\u001b[1;34m'Yes. Its integer'\u001b[0m\u001b[1;33m)\u001b[0m\u001b[1;33m\u001b[0m\u001b[1;33m\u001b[0m\u001b[0m\n",
      "\u001b[1;32m~\\anaconda3\\lib\\site-packages\\ipykernel\\kernelbase.py\u001b[0m in \u001b[0;36mraw_input\u001b[1;34m(self, prompt)\u001b[0m\n\u001b[0;32m    858\u001b[0m                 \u001b[1;34m\"raw_input was called, but this frontend does not support input requests.\"\u001b[0m\u001b[1;33m\u001b[0m\u001b[1;33m\u001b[0m\u001b[0m\n\u001b[0;32m    859\u001b[0m             )\n\u001b[1;32m--> 860\u001b[1;33m         return self._input_request(str(prompt),\n\u001b[0m\u001b[0;32m    861\u001b[0m             \u001b[0mself\u001b[0m\u001b[1;33m.\u001b[0m\u001b[0m_parent_ident\u001b[0m\u001b[1;33m,\u001b[0m\u001b[1;33m\u001b[0m\u001b[1;33m\u001b[0m\u001b[0m\n\u001b[0;32m    862\u001b[0m             \u001b[0mself\u001b[0m\u001b[1;33m.\u001b[0m\u001b[0m_parent_header\u001b[0m\u001b[1;33m,\u001b[0m\u001b[1;33m\u001b[0m\u001b[1;33m\u001b[0m\u001b[0m\n",
      "\u001b[1;32m~\\anaconda3\\lib\\site-packages\\ipykernel\\kernelbase.py\u001b[0m in \u001b[0;36m_input_request\u001b[1;34m(self, prompt, ident, parent, password)\u001b[0m\n\u001b[0;32m    902\u001b[0m             \u001b[1;32mexcept\u001b[0m \u001b[0mKeyboardInterrupt\u001b[0m\u001b[1;33m:\u001b[0m\u001b[1;33m\u001b[0m\u001b[1;33m\u001b[0m\u001b[0m\n\u001b[0;32m    903\u001b[0m                 \u001b[1;31m# re-raise KeyboardInterrupt, to truncate traceback\u001b[0m\u001b[1;33m\u001b[0m\u001b[1;33m\u001b[0m\u001b[1;33m\u001b[0m\u001b[0m\n\u001b[1;32m--> 904\u001b[1;33m                 \u001b[1;32mraise\u001b[0m \u001b[0mKeyboardInterrupt\u001b[0m\u001b[1;33m(\u001b[0m\u001b[1;34m\"Interrupted by user\"\u001b[0m\u001b[1;33m)\u001b[0m \u001b[1;32mfrom\u001b[0m \u001b[1;32mNone\u001b[0m\u001b[1;33m\u001b[0m\u001b[1;33m\u001b[0m\u001b[0m\n\u001b[0m\u001b[0;32m    905\u001b[0m             \u001b[1;32mexcept\u001b[0m \u001b[0mException\u001b[0m \u001b[1;32mas\u001b[0m \u001b[0me\u001b[0m\u001b[1;33m:\u001b[0m\u001b[1;33m\u001b[0m\u001b[1;33m\u001b[0m\u001b[0m\n\u001b[0;32m    906\u001b[0m                 \u001b[0mself\u001b[0m\u001b[1;33m.\u001b[0m\u001b[0mlog\u001b[0m\u001b[1;33m.\u001b[0m\u001b[0mwarning\u001b[0m\u001b[1;33m(\u001b[0m\u001b[1;34m\"Invalid Message:\"\u001b[0m\u001b[1;33m,\u001b[0m \u001b[0mexc_info\u001b[0m\u001b[1;33m=\u001b[0m\u001b[1;32mTrue\u001b[0m\u001b[1;33m)\u001b[0m\u001b[1;33m\u001b[0m\u001b[1;33m\u001b[0m\u001b[0m\n",
      "\u001b[1;31mKeyboardInterrupt\u001b[0m: Interrupted by user"
     ]
    }
   ],
   "source": [
    "QA = {\n",
    "    'Do you think its integer number?' : 'Perhaps',\n",
    "    'Tell me one joke' : 'Here we go. This is joke1'\n",
    "}\n",
    "\n",
    "while True:\n",
    "    choice = input('Enter a integer number: ')\n",
    "    if choice.isdigit():\n",
    "        print('Yes. Its integer')\n",
    "    else:\n",
    "        q = 'Do you think its integer number?'\n",
    "        print(q)\n",
    "        time.sleep(5)\n",
    "        print(QA[q])"
   ]
  },
  {
   "cell_type": "code",
   "execution_count": null,
   "metadata": {},
   "outputs": [],
   "source": []
  },
  {
   "cell_type": "code",
   "execution_count": 14,
   "metadata": {},
   "outputs": [],
   "source": [
    "QA = {\n",
    "    'Do you think its integer number?' : 'Perhaps',\n",
    "    'Tell me one joke' : 'Here we go. This is joke1'\n",
    "}\n"
   ]
  },
  {
   "cell_type": "code",
   "execution_count": 15,
   "metadata": {},
   "outputs": [
    {
     "data": {
      "text/plain": [
       "'Perhaps'"
      ]
     },
     "execution_count": 15,
     "metadata": {},
     "output_type": "execute_result"
    }
   ],
   "source": [
    "QA['Do you think its integer number?']"
   ]
  },
  {
   "cell_type": "code",
   "execution_count": 10,
   "metadata": {},
   "outputs": [],
   "source": [
    "shopping_list = {\n",
    "    'item':{'Egg':[12,'buy Chicken if not available'],\n",
    "            'bread':[34,'buy brown bread'],\n",
    "            'rice':[1,'buy wheat']  \n",
    "    },\n",
    "    'checklist':{\n",
    "        'egg':False,\n",
    "        'bread':False,\n",
    "        'rice':False\n",
    "    }   \n",
    "}"
   ]
  },
  {
   "cell_type": "code",
   "execution_count": 17,
   "metadata": {},
   "outputs": [
    {
     "data": {
      "text/plain": [
       "{'item': {'Egg': [12, 'buy Chicken if not available'],\n",
       "  'bread': [34, 'buy brown bread'],\n",
       "  'rice': [1, 'buy wheat']},\n",
       " 'checklist': {'egg': False, 'bread': False, 'rice': False}}"
      ]
     },
     "execution_count": 17,
     "metadata": {},
     "output_type": "execute_result"
    }
   ],
   "source": [
    "shopping_list"
   ]
  },
  {
   "cell_type": "code",
   "execution_count": 18,
   "metadata": {},
   "outputs": [
    {
     "data": {
      "text/plain": [
       "dict_keys(['item', 'checklist'])"
      ]
     },
     "execution_count": 18,
     "metadata": {},
     "output_type": "execute_result"
    }
   ],
   "source": [
    "shopping_list.keys()"
   ]
  },
  {
   "cell_type": "code",
   "execution_count": 19,
   "metadata": {},
   "outputs": [],
   "source": [
    "shopping_list['Question_Ans'] = QA"
   ]
  },
  {
   "cell_type": "code",
   "execution_count": 20,
   "metadata": {},
   "outputs": [
    {
     "data": {
      "text/plain": [
       "{'item': {'Egg': [12, 'buy Chicken if not available'],\n",
       "  'bread': [34, 'buy brown bread'],\n",
       "  'rice': [1, 'buy wheat']},\n",
       " 'checklist': {'egg': False, 'bread': False, 'rice': False},\n",
       " 'Question_Ans': {'Do you think its integer number?': 'Perhaps',\n",
       "  'Tell me one joke': 'Here we go. This is joke1'}}"
      ]
     },
     "execution_count": 20,
     "metadata": {},
     "output_type": "execute_result"
    }
   ],
   "source": [
    "shopping_list"
   ]
  },
  {
   "cell_type": "code",
   "execution_count": 21,
   "metadata": {},
   "outputs": [
    {
     "data": {
      "text/plain": [
       "dict_keys(['item', 'checklist', 'Question_Ans'])"
      ]
     },
     "execution_count": 21,
     "metadata": {},
     "output_type": "execute_result"
    }
   ],
   "source": [
    "shopping_list.keys()"
   ]
  },
  {
   "cell_type": "code",
   "execution_count": 1,
   "metadata": {},
   "outputs": [],
   "source": [
    "x = ['A','B','C','D','E']"
   ]
  },
  {
   "cell_type": "code",
   "execution_count": 2,
   "metadata": {},
   "outputs": [
    {
     "data": {
      "text/plain": [
       "['A', 'B', 'C', 'D', 'E']"
      ]
     },
     "execution_count": 2,
     "metadata": {},
     "output_type": "execute_result"
    }
   ],
   "source": [
    "x"
   ]
  },
  {
   "cell_type": "code",
   "execution_count": 4,
   "metadata": {},
   "outputs": [
    {
     "name": "stdout",
     "output_type": "stream",
     "text": [
      "1 A\n",
      "2 B\n",
      "3 C\n",
      "4 D\n",
      "5 E\n"
     ]
    }
   ],
   "source": [
    "for indx,item in enumerate(x):\n",
    "    print(indx+1,item)"
   ]
  },
  {
   "cell_type": "code",
   "execution_count": 5,
   "metadata": {},
   "outputs": [
    {
     "data": {
      "text/plain": [
       "'D'"
      ]
     },
     "execution_count": 5,
     "metadata": {},
     "output_type": "execute_result"
    }
   ],
   "source": [
    "x.pop(3)"
   ]
  },
  {
   "cell_type": "code",
   "execution_count": 6,
   "metadata": {},
   "outputs": [
    {
     "data": {
      "text/plain": [
       "['A', 'B', 'C', 'E']"
      ]
     },
     "execution_count": 6,
     "metadata": {},
     "output_type": "execute_result"
    }
   ],
   "source": [
    "x"
   ]
  },
  {
   "cell_type": "code",
   "execution_count": 9,
   "metadata": {},
   "outputs": [
    {
     "name": "stdout",
     "output_type": "stream",
     "text": [
      "1 A\n",
      "2 B\n",
      "3 C\n",
      "4 E\n"
     ]
    }
   ],
   "source": [
    "for indx,item in enumerate(x):\n",
    "    print(indx+1,item)"
   ]
  },
  {
   "cell_type": "code",
   "execution_count": 63,
   "metadata": {},
   "outputs": [],
   "source": [
    "shopping_list = {\n",
    "    'item':{'Egg':[12,'buy Chicken if not available'],\n",
    "            'bread':[34,'buy brown bread'],\n",
    "            'rice':[1,'buy wheat']  ,\n",
    "            'Apple':[10,'buy mango'] ,\n",
    "            'Guava':[15,'buy lichi'] \n",
    "    },\n",
    "    'checklist':{\n",
    "        'egg':False,\n",
    "        'bread':False,\n",
    "        'rice':False\n",
    "    }   \n",
    "}"
   ]
  },
  {
   "cell_type": "code",
   "execution_count": 13,
   "metadata": {},
   "outputs": [
    {
     "data": {
      "text/plain": [
       "{'item': {'Egg': [12, 'buy Chicken if not available'],\n",
       "  'bread': [34, 'buy brown bread'],\n",
       "  'rice': [1, 'buy wheat'],\n",
       "  'Apple': [10, 'buy mango'],\n",
       "  'Guava': [15, 'buy lichi']},\n",
       " 'checklist': {'egg': False, 'bread': False, 'rice': False}}"
      ]
     },
     "execution_count": 13,
     "metadata": {},
     "output_type": "execute_result"
    }
   ],
   "source": [
    "shopping_list"
   ]
  },
  {
   "cell_type": "code",
   "execution_count": 28,
   "metadata": {},
   "outputs": [
    {
     "data": {
      "text/plain": [
       "{'Egg': [12, 'buy Chicken if not available'],\n",
       " 'bread': [34, 'buy brown bread'],\n",
       " 'rice': [1, 'buy wheat'],\n",
       " 'Apple': [10, 'buy mango'],\n",
       " 'Guava': [15, 'buy lichi']}"
      ]
     },
     "execution_count": 28,
     "metadata": {},
     "output_type": "execute_result"
    }
   ],
   "source": [
    "shopping_list['item']"
   ]
  },
  {
   "cell_type": "code",
   "execution_count": null,
   "metadata": {},
   "outputs": [],
   "source": []
  },
  {
   "cell_type": "code",
   "execution_count": 27,
   "metadata": {},
   "outputs": [
    {
     "name": "stdout",
     "output_type": "stream",
     "text": [
      "1 Egg ->  12\n",
      "2 bread ->  34\n",
      "3 rice ->  1\n",
      "4 Apple ->  10\n",
      "5 Guava ->  15\n"
     ]
    }
   ],
   "source": [
    "for indx,keys in enumerate(shopping_list['item']):\n",
    "    qty = shopping_list['item'][keys]\n",
    "    print(indx+1,keys, '-> ',qty[0])"
   ]
  },
  {
   "cell_type": "code",
   "execution_count": 30,
   "metadata": {},
   "outputs": [],
   "source": [
    "del shopping_list['item']['rice']"
   ]
  },
  {
   "cell_type": "code",
   "execution_count": 31,
   "metadata": {},
   "outputs": [
    {
     "data": {
      "text/plain": [
       "{'Egg': [12, 'buy Chicken if not available'],\n",
       " 'bread': [34, 'buy brown bread'],\n",
       " 'Apple': [10, 'buy mango'],\n",
       " 'Guava': [15, 'buy lichi']}"
      ]
     },
     "execution_count": 31,
     "metadata": {},
     "output_type": "execute_result"
    }
   ],
   "source": [
    "shopping_list['item']"
   ]
  },
  {
   "cell_type": "code",
   "execution_count": 32,
   "metadata": {},
   "outputs": [
    {
     "name": "stdout",
     "output_type": "stream",
     "text": [
      "1 Egg ->  12\n",
      "2 bread ->  34\n",
      "3 Apple ->  10\n",
      "4 Guava ->  15\n"
     ]
    }
   ],
   "source": [
    "for indx,keys in enumerate(shopping_list['item']):\n",
    "    qty = shopping_list['item'][keys]\n",
    "    print(indx+1,keys, '-> ',qty[0])"
   ]
  },
  {
   "cell_type": "code",
   "execution_count": null,
   "metadata": {},
   "outputs": [],
   "source": []
  },
  {
   "cell_type": "code",
   "execution_count": 23,
   "metadata": {},
   "outputs": [
    {
     "name": "stdout",
     "output_type": "stream",
     "text": [
      "0 A\n",
      "1 B\n",
      "2 C\n",
      "3 E\n"
     ]
    }
   ],
   "source": [
    "for indx,val in enumerate(x):\n",
    "    print(indx,val)"
   ]
  },
  {
   "cell_type": "code",
   "execution_count": 25,
   "metadata": {},
   "outputs": [
    {
     "name": "stdout",
     "output_type": "stream",
     "text": [
      "0 A\n",
      "1 B\n",
      "2 C\n",
      "3 E\n"
     ]
    }
   ],
   "source": [
    "for i in enumerate(x):\n",
    "    print(i[0],i[1])"
   ]
  },
  {
   "cell_type": "code",
   "execution_count": 64,
   "metadata": {},
   "outputs": [
    {
     "data": {
      "text/plain": [
       "{'Egg': [12, 'buy Chicken if not available'],\n",
       " 'bread': [34, 'buy brown bread'],\n",
       " 'rice': [1, 'buy wheat'],\n",
       " 'Apple': [10, 'buy mango'],\n",
       " 'Guava': [15, 'buy lichi']}"
      ]
     },
     "execution_count": 64,
     "metadata": {},
     "output_type": "execute_result"
    }
   ],
   "source": [
    "shopping_list['item']"
   ]
  },
  {
   "cell_type": "code",
   "execution_count": 73,
   "metadata": {},
   "outputs": [],
   "source": [
    "shopping_list['item'] = dict(sorted(shopping_list['item'].items()))"
   ]
  },
  {
   "cell_type": "code",
   "execution_count": null,
   "metadata": {},
   "outputs": [],
   "source": []
  },
  {
   "cell_type": "code",
   "execution_count": null,
   "metadata": {},
   "outputs": [],
   "source": []
  },
  {
   "cell_type": "code",
   "execution_count": 74,
   "metadata": {},
   "outputs": [
    {
     "data": {
      "text/plain": [
       "{'Apple': [10, 'buy mango'],\n",
       " 'Egg': [12, 'buy Chicken if not available'],\n",
       " 'Guava': [15, 'buy lichi'],\n",
       " 'bread': [34, 'buy brown bread'],\n",
       " 'rice': [1, 'buy wheat']}"
      ]
     },
     "execution_count": 74,
     "metadata": {},
     "output_type": "execute_result"
    }
   ],
   "source": [
    "shopping_list['item']"
   ]
  },
  {
   "cell_type": "code",
   "execution_count": null,
   "metadata": {},
   "outputs": [],
   "source": []
  },
  {
   "cell_type": "code",
   "execution_count": 75,
   "metadata": {},
   "outputs": [
    {
     "name": "stdout",
     "output_type": "stream",
     "text": [
      "1 Apple ->  10\n",
      "2 Egg ->  12\n",
      "3 Guava ->  15\n",
      "4 bread ->  34\n",
      "5 rice ->  1\n"
     ]
    }
   ],
   "source": [
    "for indx,keys in enumerate(shopping_list['item']):\n",
    "    qty = shopping_list['item'][keys]\n",
    "    print(indx+1,keys, '-> ',qty[0])"
   ]
  },
  {
   "cell_type": "code",
   "execution_count": null,
   "metadata": {},
   "outputs": [],
   "source": []
  },
  {
   "cell_type": "code",
   "execution_count": null,
   "metadata": {},
   "outputs": [],
   "source": []
  },
  {
   "cell_type": "code",
   "execution_count": null,
   "metadata": {},
   "outputs": [],
   "source": []
  },
  {
   "cell_type": "code",
   "execution_count": 53,
   "metadata": {},
   "outputs": [
    {
     "data": {
      "text/plain": [
       "dict_keys(['item', 'checklist'])"
      ]
     },
     "execution_count": 53,
     "metadata": {},
     "output_type": "execute_result"
    }
   ],
   "source": [
    "shopping_list.keys()"
   ]
  },
  {
   "cell_type": "code",
   "execution_count": 55,
   "metadata": {},
   "outputs": [
    {
     "data": {
      "text/plain": [
       "dict_values([{'Egg': [12, 'buy Chicken if not available'], 'bread': [34, 'buy brown bread'], 'Apple': [10, 'buy mango'], 'Guava': [15, 'buy lichi']}, {'egg': False, 'bread': False, 'rice': False}])"
      ]
     },
     "execution_count": 55,
     "metadata": {},
     "output_type": "execute_result"
    }
   ],
   "source": [
    "shopping_list.values()"
   ]
  },
  {
   "cell_type": "code",
   "execution_count": 56,
   "metadata": {},
   "outputs": [
    {
     "data": {
      "text/plain": [
       "dict_items([('item', {'Egg': [12, 'buy Chicken if not available'], 'bread': [34, 'buy brown bread'], 'Apple': [10, 'buy mango'], 'Guava': [15, 'buy lichi']}), ('checklist', {'egg': False, 'bread': False, 'rice': False})])"
      ]
     },
     "execution_count": 56,
     "metadata": {},
     "output_type": "execute_result"
    }
   ],
   "source": [
    "shopping_list.items()"
   ]
  },
  {
   "cell_type": "code",
   "execution_count": 57,
   "metadata": {},
   "outputs": [
    {
     "data": {
      "text/plain": [
       "[('item',\n",
       "  {'Egg': [12, 'buy Chicken if not available'],\n",
       "   'bread': [34, 'buy brown bread'],\n",
       "   'Apple': [10, 'buy mango'],\n",
       "   'Guava': [15, 'buy lichi']}),\n",
       " ('checklist', {'egg': False, 'bread': False, 'rice': False})]"
      ]
     },
     "execution_count": 57,
     "metadata": {},
     "output_type": "execute_result"
    }
   ],
   "source": [
    "list(shopping_list.items())"
   ]
  },
  {
   "cell_type": "code",
   "execution_count": 35,
   "metadata": {},
   "outputs": [],
   "source": [
    "x = ['A','P','G','H','B','C']"
   ]
  },
  {
   "cell_type": "code",
   "execution_count": 36,
   "metadata": {},
   "outputs": [
    {
     "data": {
      "text/plain": [
       "['A', 'P', 'G', 'H', 'B', 'C']"
      ]
     },
     "execution_count": 36,
     "metadata": {},
     "output_type": "execute_result"
    }
   ],
   "source": [
    "x"
   ]
  },
  {
   "cell_type": "code",
   "execution_count": 37,
   "metadata": {},
   "outputs": [
    {
     "data": {
      "text/plain": [
       "['A', 'B', 'C', 'G', 'H', 'P']"
      ]
     },
     "execution_count": 37,
     "metadata": {},
     "output_type": "execute_result"
    }
   ],
   "source": [
    "sorted(x)"
   ]
  },
  {
   "cell_type": "code",
   "execution_count": 38,
   "metadata": {},
   "outputs": [],
   "source": [
    "x = [('A',3),('P',1),('G',2),('H',14),('B',-1),('C',10)]"
   ]
  },
  {
   "cell_type": "code",
   "execution_count": 39,
   "metadata": {},
   "outputs": [
    {
     "data": {
      "text/plain": [
       "[('A', 3), ('P', 1), ('G', 2), ('H', 14), ('B', -1), ('C', 10)]"
      ]
     },
     "execution_count": 39,
     "metadata": {},
     "output_type": "execute_result"
    }
   ],
   "source": [
    "x"
   ]
  },
  {
   "cell_type": "code",
   "execution_count": 40,
   "metadata": {},
   "outputs": [
    {
     "data": {
      "text/plain": [
       "[('A', 3), ('B', -1), ('C', 10), ('G', 2), ('H', 14), ('P', 1)]"
      ]
     },
     "execution_count": 40,
     "metadata": {},
     "output_type": "execute_result"
    }
   ],
   "source": [
    "sorted(x)"
   ]
  },
  {
   "cell_type": "code",
   "execution_count": 47,
   "metadata": {},
   "outputs": [
    {
     "data": {
      "text/plain": [
       "[('A', 3), ('B', -1), ('C', 10), ('G', 2), ('H', 14), ('P', 1)]"
      ]
     },
     "execution_count": 47,
     "metadata": {},
     "output_type": "execute_result"
    }
   ],
   "source": [
    "sorted(x,key=lambda x:x[0])"
   ]
  },
  {
   "cell_type": "code",
   "execution_count": 48,
   "metadata": {},
   "outputs": [
    {
     "data": {
      "text/plain": [
       "[('B', -1), ('P', 1), ('G', 2), ('A', 3), ('C', 10), ('H', 14)]"
      ]
     },
     "execution_count": 48,
     "metadata": {},
     "output_type": "execute_result"
    }
   ],
   "source": [
    "sorted(x,key=lambda x:x[1])"
   ]
  },
  {
   "cell_type": "code",
   "execution_count": null,
   "metadata": {},
   "outputs": [],
   "source": []
  },
  {
   "cell_type": "code",
   "execution_count": 41,
   "metadata": {},
   "outputs": [],
   "source": [
    "def sqr(x):\n",
    "    return x*x"
   ]
  },
  {
   "cell_type": "code",
   "execution_count": 42,
   "metadata": {},
   "outputs": [
    {
     "data": {
      "text/plain": [
       "25"
      ]
     },
     "execution_count": 42,
     "metadata": {},
     "output_type": "execute_result"
    }
   ],
   "source": [
    "sqr(5)"
   ]
  },
  {
   "cell_type": "code",
   "execution_count": 44,
   "metadata": {},
   "outputs": [],
   "source": [
    "f = lambda x : x*x"
   ]
  },
  {
   "cell_type": "code",
   "execution_count": 45,
   "metadata": {},
   "outputs": [
    {
     "data": {
      "text/plain": [
       "100"
      ]
     },
     "execution_count": 45,
     "metadata": {},
     "output_type": "execute_result"
    }
   ],
   "source": [
    "f(10)"
   ]
  },
  {
   "cell_type": "code",
   "execution_count": 46,
   "metadata": {},
   "outputs": [
    {
     "data": {
      "text/plain": [
       "9"
      ]
     },
     "execution_count": 46,
     "metadata": {},
     "output_type": "execute_result"
    }
   ],
   "source": [
    "f(3)"
   ]
  },
  {
   "cell_type": "markdown",
   "metadata": {},
   "source": [
    "# 15MAR2022"
   ]
  },
  {
   "cell_type": "code",
   "execution_count": 1,
   "metadata": {},
   "outputs": [
    {
     "name": "stdout",
     "output_type": "stream",
     "text": [
      "Today is Tue, Mar 15, 2022\n",
      "The time is currently 08:39:43 PM, India Standard Time \n",
      "\n"
     ]
    }
   ],
   "source": [
    "import datetime\n",
    "import json\n",
    "import os\n",
    "import sys\n",
    "from time import sleep\n",
    "os.system('cls')\n",
    "\n",
    "LOCAL_TIMEZONE = datetime.datetime.now(datetime.timezone.utc).astimezone().tzinfo\n",
    "e = datetime.datetime.now()\n",
    "\n",
    "def time():\n",
    "    print(\"Today is \" + e.strftime(\"%a, %b %d, %Y\"))\n",
    "    print(\"The time is currently \" + e.strftime(\"%I:%M:%S %p,\"), LOCAL_TIMEZONE, \"\\n\")\n",
    "\n",
    "time()"
   ]
  },
  {
   "cell_type": "code",
   "execution_count": 2,
   "metadata": {},
   "outputs": [],
   "source": [
    "import json"
   ]
  },
  {
   "cell_type": "code",
   "execution_count": 6,
   "metadata": {},
   "outputs": [],
   "source": [
    "with open(\"shopping_list.json\") as f:\n",
    "    shopping_list = json.load(f)"
   ]
  },
  {
   "cell_type": "code",
   "execution_count": 7,
   "metadata": {},
   "outputs": [
    {
     "data": {
      "text/plain": [
       "{'ITEMS': {'Egg': [1000, 'NA'],\n",
       "  'Chicken': [1, 'Bread'],\n",
       "  'Apple': [2, 'Papaya']},\n",
       " 'CHECKLIST': {'Egg': False, 'Chicken': False, 'Apple': False},\n",
       " 'TIME': ['20 July 2025', '20 AUG 2026']}"
      ]
     },
     "execution_count": 7,
     "metadata": {},
     "output_type": "execute_result"
    }
   ],
   "source": [
    "shopping_list"
   ]
  },
  {
   "cell_type": "code",
   "execution_count": 8,
   "metadata": {},
   "outputs": [
    {
     "data": {
      "text/plain": [
       "dict_keys(['ITEMS', 'CHECKLIST', 'TIME'])"
      ]
     },
     "execution_count": 8,
     "metadata": {},
     "output_type": "execute_result"
    }
   ],
   "source": [
    "shopping_list.keys()"
   ]
  },
  {
   "cell_type": "code",
   "execution_count": 9,
   "metadata": {},
   "outputs": [
    {
     "data": {
      "text/plain": [
       "dict_values([{'Egg': [1000, 'NA'], 'Chicken': [1, 'Bread'], 'Apple': [2, 'Papaya']}, {'Egg': False, 'Chicken': False, 'Apple': False}, ['20 July 2025', '20 AUG 2026']])"
      ]
     },
     "execution_count": 9,
     "metadata": {},
     "output_type": "execute_result"
    }
   ],
   "source": [
    "shopping_list.values()"
   ]
  },
  {
   "cell_type": "code",
   "execution_count": 10,
   "metadata": {},
   "outputs": [
    {
     "data": {
      "text/plain": [
       "dict_items([('ITEMS', {'Egg': [1000, 'NA'], 'Chicken': [1, 'Bread'], 'Apple': [2, 'Papaya']}), ('CHECKLIST', {'Egg': False, 'Chicken': False, 'Apple': False}), ('TIME', ['20 July 2025', '20 AUG 2026'])])"
      ]
     },
     "execution_count": 10,
     "metadata": {},
     "output_type": "execute_result"
    }
   ],
   "source": [
    "shopping_list.items()"
   ]
  },
  {
   "cell_type": "code",
   "execution_count": 13,
   "metadata": {},
   "outputs": [
    {
     "data": {
      "text/plain": [
       "['20 July 2025', '20 AUG 2026']"
      ]
     },
     "execution_count": 13,
     "metadata": {},
     "output_type": "execute_result"
    }
   ],
   "source": [
    "shopping_list['TIME']"
   ]
  },
  {
   "cell_type": "code",
   "execution_count": 15,
   "metadata": {},
   "outputs": [
    {
     "name": "stdout",
     "output_type": "stream",
     "text": [
      "Alarm song1\n",
      "Different song\n"
     ]
    }
   ],
   "source": [
    "x = 0\n",
    "for i in shopping_list['TIME']:\n",
    "    if x==0:\n",
    "        print('Alarm song1')\n",
    "        x = x+1\n",
    "    else:\n",
    "        print('Different song')"
   ]
  },
  {
   "cell_type": "code",
   "execution_count": 29,
   "metadata": {},
   "outputs": [],
   "source": [
    "def time(date):\n",
    "    print(\"Today is \",date)\n",
    "    print(\"The time is currently \" + e.strftime(\"%I:%M:%S %p,\"), LOCAL_TIMEZONE, \"\\n\")"
   ]
  },
  {
   "cell_type": "code",
   "execution_count": 26,
   "metadata": {},
   "outputs": [],
   "source": [
    "dt = shopping_list['TIME'][0]"
   ]
  },
  {
   "cell_type": "code",
   "execution_count": 27,
   "metadata": {},
   "outputs": [
    {
     "name": "stdout",
     "output_type": "stream",
     "text": [
      "Today is  20 July 2025\n",
      "The time is currently 08:39:43 PM, India Standard Time \n",
      "\n"
     ]
    }
   ],
   "source": [
    "time(dt)"
   ]
  },
  {
   "cell_type": "code",
   "execution_count": 30,
   "metadata": {},
   "outputs": [
    {
     "name": "stdout",
     "output_type": "stream",
     "text": [
      "Today is  20 July 2025\n",
      "The time is currently 08:39:43 PM, India Standard Time \n",
      "\n",
      "Today is  20 AUG 2026\n",
      "The time is currently 08:39:43 PM, India Standard Time \n",
      "\n"
     ]
    }
   ],
   "source": [
    "for date in shopping_list['TIME']:\n",
    "    time(date)"
   ]
  },
  {
   "cell_type": "code",
   "execution_count": 31,
   "metadata": {},
   "outputs": [],
   "source": [
    "def square(x):\n",
    "    return x**2"
   ]
  },
  {
   "cell_type": "code",
   "execution_count": 34,
   "metadata": {},
   "outputs": [],
   "source": [
    "x = square(8)"
   ]
  },
  {
   "cell_type": "code",
   "execution_count": 35,
   "metadata": {},
   "outputs": [
    {
     "data": {
      "text/plain": [
       "64"
      ]
     },
     "execution_count": 35,
     "metadata": {},
     "output_type": "execute_result"
    }
   ],
   "source": [
    "x"
   ]
  },
  {
   "cell_type": "code",
   "execution_count": 37,
   "metadata": {},
   "outputs": [],
   "source": [
    "def square1(x):\n",
    "    print(x**2)"
   ]
  },
  {
   "cell_type": "code",
   "execution_count": 39,
   "metadata": {},
   "outputs": [
    {
     "name": "stdout",
     "output_type": "stream",
     "text": [
      "64\n"
     ]
    }
   ],
   "source": [
    "y = square1(8)"
   ]
  },
  {
   "cell_type": "code",
   "execution_count": 41,
   "metadata": {},
   "outputs": [],
   "source": [
    "y"
   ]
  },
  {
   "cell_type": "code",
   "execution_count": 42,
   "metadata": {},
   "outputs": [
    {
     "name": "stdout",
     "output_type": "stream",
     "text": [
      "None\n"
     ]
    }
   ],
   "source": [
    "print(y)"
   ]
  },
  {
   "cell_type": "code",
   "execution_count": 45,
   "metadata": {},
   "outputs": [],
   "source": [
    "def mul(x,y):\n",
    "    a = x*y\n",
    "    b = x+y\n",
    "    c = x/y\n",
    "    return a,b,c"
   ]
  },
  {
   "cell_type": "code",
   "execution_count": 47,
   "metadata": {},
   "outputs": [],
   "source": [
    "x = mul(10,5)"
   ]
  },
  {
   "cell_type": "code",
   "execution_count": 49,
   "metadata": {},
   "outputs": [
    {
     "data": {
      "text/plain": [
       "tuple"
      ]
     },
     "execution_count": 49,
     "metadata": {},
     "output_type": "execute_result"
    }
   ],
   "source": [
    "type(x)"
   ]
  },
  {
   "cell_type": "code",
   "execution_count": 50,
   "metadata": {},
   "outputs": [
    {
     "data": {
      "text/plain": [
       "(50, 15, 2.0)"
      ]
     },
     "execution_count": 50,
     "metadata": {},
     "output_type": "execute_result"
    }
   ],
   "source": [
    "x"
   ]
  },
  {
   "cell_type": "code",
   "execution_count": 51,
   "metadata": {},
   "outputs": [
    {
     "data": {
      "text/plain": [
       "50"
      ]
     },
     "execution_count": 51,
     "metadata": {},
     "output_type": "execute_result"
    }
   ],
   "source": [
    "x[0]"
   ]
  },
  {
   "cell_type": "code",
   "execution_count": 52,
   "metadata": {},
   "outputs": [
    {
     "data": {
      "text/plain": [
       "15"
      ]
     },
     "execution_count": 52,
     "metadata": {},
     "output_type": "execute_result"
    }
   ],
   "source": [
    "x[1]"
   ]
  },
  {
   "cell_type": "code",
   "execution_count": 53,
   "metadata": {},
   "outputs": [
    {
     "data": {
      "text/plain": [
       "2.0"
      ]
     },
     "execution_count": 53,
     "metadata": {},
     "output_type": "execute_result"
    }
   ],
   "source": [
    "x[2]"
   ]
  },
  {
   "cell_type": "code",
   "execution_count": null,
   "metadata": {},
   "outputs": [],
   "source": []
  }
 ],
 "metadata": {
  "kernelspec": {
   "display_name": "Python 3",
   "language": "python",
   "name": "python3"
  },
  "language_info": {
   "codemirror_mode": {
    "name": "ipython",
    "version": 3
   },
   "file_extension": ".py",
   "mimetype": "text/x-python",
   "name": "python",
   "nbconvert_exporter": "python",
   "pygments_lexer": "ipython3",
   "version": "3.8.5"
  }
 },
 "nbformat": 4,
 "nbformat_minor": 4
}
