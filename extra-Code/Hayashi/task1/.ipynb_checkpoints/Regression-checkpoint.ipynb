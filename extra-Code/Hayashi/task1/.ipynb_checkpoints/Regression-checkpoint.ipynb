{
 "cells": [
  {
   "cell_type": "markdown",
   "metadata": {},
   "source": [
    "\n",
    "# <center>Regression Algorithms </center>\n",
    "                                                                           \n",
    "    \n",
    "\n",
    " # <center>By Seema Singh Saharan</center>\n",
    "\n",
    "\n"
   ]
  },
  {
   "cell_type": "markdown",
   "metadata": {},
   "source": [
    "# Data Science Project Steps\n",
    "\n",
    "1. Define the Research problem and questions\n",
    "2. Analyze data by descriptive statistics and graphical visualization.\n",
    "3. Prepare data by using relevant preprocessing transformations, data cleaning, \n",
    "    data standardization,deaing with null and outlier values. Divide data into test and training set.\n",
    "4. Fit the train data. Predict the test data.\n",
    "5. Evaluate the first algorithm and its model performance.\n",
    "6. Evaluate the current algorithm and variety of algorithms by creating test harness for diverse\n",
    "    algorithms in conjunction with resampling techniques like cross validation, variable importance.\n",
    "    bootstrapping.Improve Result by playing with hyperparameters and innovative methods like \n",
    "   ensembles.\n",
    "7. Choose the best model and present the results. "
   ]
  },
  {
   "cell_type": "markdown",
   "metadata": {},
   "source": [
    "##  Define the Research problem and questions\n",
    "\n",
    "Predict the Cholesterol using Age."
   ]
  },
  {
   "cell_type": "markdown",
   "metadata": {},
   "source": [
    "## Analyze data by descriptive statistics and graphical visualization."
   ]
  },
  {
   "cell_type": "code",
   "execution_count": 1,
   "metadata": {},
   "outputs": [
    {
     "name": "stdout",
     "output_type": "stream",
     "text": [
      "(270, 14)\n",
      "   Age  Sex  Chest_Pain_Type   BP  Cholesterol  Fasting_Blood_MoreThan_120  \\\n",
      "0   70    1                4  130          322                           0   \n",
      "1   67    0                3  115          564                           0   \n",
      "2   57    1                2  124          261                           0   \n",
      "3   64    1                4  128          263                           0   \n",
      "4   74    0                2  120          269                           0   \n",
      "\n",
      "   Resting_Electrocardiographic_Reading  Maximum_Heart_Rate   \\\n",
      "0                                     2                  109   \n",
      "1                                     2                  160   \n",
      "2                                     0                  141   \n",
      "3                                     0                  105   \n",
      "4                                     2                  121   \n",
      "\n",
      "   Exercise_Induced_Angina  Old_Peak  Slope  Number_Blood_Vessels_Calcified  \\\n",
      "0                        0       2.4      2                               3   \n",
      "1                        0       1.6      2                               0   \n",
      "2                        0       0.3      1                               0   \n",
      "3                        1       0.2      2                               1   \n",
      "4                        1       0.2      1                               1   \n",
      "\n",
      "   thal  Risk  \n",
      "0     3     2  \n",
      "1     7     1  \n",
      "2     7     2  \n",
      "3     7     1  \n",
      "4     3     1  \n"
     ]
    }
   ],
   "source": [
    "import pandas as pd  \n",
    "import numpy as np  \n",
    "import matplotlib.pyplot as plt  \n",
    "import seaborn as sb\n",
    "import scipy.stats as stat\n",
    "from pandas.plotting import scatter_matrix\n",
    "from sklearn.model_selection import train_test_split \n",
    "from sklearn.linear_model import LinearRegression\n",
    "from sklearn import metrics\n",
    "%matplotlib inline\n",
    "\n",
    "heartattackData = pd.read_csv('HeartAttack.csv')\n",
    "import warnings\n",
    "warnings.filterwarnings('ignore')\n",
    "print(heartattackData.shape)\n",
    "print(heartattackData.head())\n"
   ]
  },
  {
   "cell_type": "markdown",
   "metadata": {},
   "source": [
    "## Prepare data by using relevant preprocessing transformations, data cleaning, data standardization,deaing with null and outlier values. Divide data into test and training set.\n",
    "## Fit the train data. Predict the test data.\n",
    "## Evaluate the first algorithm and its model performance."
   ]
  },
  {
   "cell_type": "code",
   "execution_count": 2,
   "metadata": {},
   "outputs": [
    {
     "name": "stdout",
     "output_type": "stream",
     "text": [
      "[169.01263669]\n",
      "[[1.48025105]]\n"
     ]
    },
    {
     "data": {
      "image/png": "[encoded data removed]",
      "text/plain": [
       "<Figure size 432x288 with 1 Axes>"
      ]
     },
     "metadata": {
      "needs_background": "light"
     },
     "output_type": "display_data"
    },
    {
     "name": "stdout",
     "output_type": "stream",
     "text": [
      "    Actual   Predicted\n",
      "0      233  262.268453\n",
      "1      177  237.104185\n",
      "2      303  263.748704\n",
      "3      269  272.630210\n",
      "4      175  244.505440\n",
      "..     ...         ...\n",
      "63     235  229.702930\n",
      "64     197  281.511716\n",
      "65     218  256.347449\n",
      "66     277  269.669708\n",
      "67     254  271.149959\n",
      "\n",
      "[68 rows x 2 columns]\n",
      "Mean Squared Error: 2382.4195483481294\n",
      "Root Mean Squared Error: 48.810035324184405\n"
     ]
    }
   ],
   "source": [
    "Age_reshape = heartattackData['Age'].values.reshape(-1,1)\n",
    "\n",
    "Cholesterol_reshape= heartattackData['Cholesterol'].values.reshape(-1,1)\n",
    "\n",
    "#Regression\n",
    "X_train, X_test, y_train, y_test = train_test_split(Age_reshape, Cholesterol_reshape, test_size=0.25, random_state=0)\n",
    "regressor = LinearRegression()  \n",
    "#Training the Regression algorithm\n",
    "regressor.fit(X_train, y_train) \n",
    " # Intercept:\n",
    "print(regressor.intercept_)\n",
    "# Slope:\n",
    "print(regressor.coef_)\n",
    "\n",
    "y_pred = regressor.predict(X_test)\n",
    "# Create scatter plot\n",
    "plt.scatter(X_test, y_test,  color='gray')\n",
    "plt.plot(X_test, y_pred, color='red', linewidth=2)\n",
    "plt.show()\n",
    "\n",
    "df = pd.DataFrame({'Actual': y_test.flatten(), 'Predicted': y_pred.flatten()})\n",
    "print(df)\n",
    "\n",
    "# Mean Squared Errror and Root Mean Squared Error\n",
    "print('Mean Squared Error:', metrics.mean_squared_error(y_test, y_pred))  \n",
    "print('Root Mean Squared Error:', np.sqrt(metrics.mean_squared_error(y_test, y_pred)))\n"
   ]
  },
  {
   "cell_type": "markdown",
   "metadata": {},
   "source": [
    "## Evaluate the current algorithm and variety of algorithms by creating test harness for diverse algorithms in conjunction with resampling techniques like cross validation, variable importance.bootstrapping.Improve Result by playing with hyperparameters and innovative methods like Logistic Regression,Lasso Regression or Ridge Regression\n",
    "  "
   ]
  },
  {
   "cell_type": "markdown",
   "metadata": {},
   "source": [
    "### Predict Risk using all the other variables in the HeartAttack dataset."
   ]
  },
  {
   "cell_type": "markdown",
   "metadata": {},
   "source": [
    "## Logistic Regression "
   ]
  },
  {
   "cell_type": "code",
   "execution_count": 3,
   "metadata": {},
   "outputs": [
    {
     "name": "stdout",
     "output_type": "stream",
     "text": [
      "     Age  Sex  Chest_Pain_Type   BP  Cholesterol  Fasting_Blood_MoreThan_120  \\\n",
      "0     70    1                4  130          322                           0   \n",
      "1     67    0                3  115          564                           0   \n",
      "2     57    1                2  124          261                           0   \n",
      "3     64    1                4  128          263                           0   \n",
      "4     74    0                2  120          269                           0   \n",
      "..   ...  ...              ...  ...          ...                         ...   \n",
      "265   52    1                3  172          199                           1   \n",
      "266   44    1                2  120          263                           0   \n",
      "267   56    0                2  140          294                           0   \n",
      "268   57    1                4  140          192                           0   \n",
      "269   67    1                4  160          286                           0   \n",
      "\n",
      "     Resting_Electrocardiographic_Reading  Maximum_Heart_Rate   \\\n",
      "0                                       2                  109   \n",
      "1                                       2                  160   \n",
      "2                                       0                  141   \n",
      "3                                       0                  105   \n",
      "4                                       2                  121   \n",
      "..                                    ...                  ...   \n",
      "265                                     0                  162   \n",
      "266                                     0                  173   \n",
      "267                                     2                  153   \n",
      "268                                     0                  148   \n",
      "269                                     2                  108   \n",
      "\n",
      "     Exercise_Induced_Angina  Old_Peak  Slope  Number_Blood_Vessels_Calcified  \n",
      "0                          0       2.4      2                               3  \n",
      "1                          0       1.6      2                               0  \n",
      "2                          0       0.3      1                               0  \n",
      "3                          1       0.2      2                               1  \n",
      "4                          1       0.2      1                               1  \n",
      "..                       ...       ...    ...                             ...  \n",
      "265                        0       0.5      1                               0  \n",
      "266                        0       0.0      1                               0  \n",
      "267                        0       1.3      2                               0  \n",
      "268                        0       0.4      2                               0  \n",
      "269                        1       1.5      2                               3  \n",
      "\n",
      "[270 rows x 12 columns]\n",
      "Best: 0.834877 using {'C': 0.1, 'penalty': 'l2', 'solver': 'liblinear'}\n",
      "0.827160 (0.080913) with: {'C': 100, 'penalty': 'l2', 'solver': 'newton-cg'}\n",
      "0.827160 (0.080913) with: {'C': 100, 'penalty': 'l2', 'solver': 'lbfgs'}\n",
      "0.827160 (0.080913) with: {'C': 100, 'penalty': 'l2', 'solver': 'liblinear'}\n",
      "0.827160 (0.080913) with: {'C': 10, 'penalty': 'l2', 'solver': 'newton-cg'}\n",
      "0.827160 (0.080913) with: {'C': 10, 'penalty': 'l2', 'solver': 'lbfgs'}\n",
      "0.827160 (0.080913) with: {'C': 10, 'penalty': 'l2', 'solver': 'liblinear'}\n",
      "0.827160 (0.086885) with: {'C': 1.0, 'penalty': 'l2', 'solver': 'newton-cg'}\n",
      "0.827160 (0.086885) with: {'C': 1.0, 'penalty': 'l2', 'solver': 'lbfgs'}\n",
      "0.825617 (0.087433) with: {'C': 1.0, 'penalty': 'l2', 'solver': 'liblinear'}\n",
      "0.830247 (0.077246) with: {'C': 0.1, 'penalty': 'l2', 'solver': 'newton-cg'}\n",
      "0.830247 (0.077246) with: {'C': 0.1, 'penalty': 'l2', 'solver': 'lbfgs'}\n",
      "0.834877 (0.077519) with: {'C': 0.1, 'penalty': 'l2', 'solver': 'liblinear'}\n",
      "0.817901 (0.082205) with: {'C': 0.01, 'penalty': 'l2', 'solver': 'newton-cg'}\n",
      "0.817901 (0.082205) with: {'C': 0.01, 'penalty': 'l2', 'solver': 'lbfgs'}\n",
      "0.810185 (0.087669) with: {'C': 0.01, 'penalty': 'l2', 'solver': 'liblinear'}\n"
     ]
    }
   ],
   "source": [
    "#https://scikitlearn.org/stable/modules/generated/sklearn.linear_model.LogisticRegression.html\n",
    "import numpy as np\n",
    "import pandas as pd\n",
    "from sklearn.model_selection import train_test_split\n",
    "from sklearn.naive_bayes import GaussianNB\n",
    "from sklearn.metrics import accuracy_score\n",
    "import matplotlib.pyplot as plt\n",
    "import seaborn as sns\n",
    "\n",
    "from sklearn.model_selection import train_test_split\n",
    "from sklearn.naive_bayes import GaussianNB\n",
    "from sklearn.model_selection import KFold\n",
    "from sklearn.model_selection import cross_validate\n",
    "from sklearn.metrics import classification_report, confusion_matrix\n",
    "\n",
    "from sklearn.model_selection import RepeatedStratifiedKFold\n",
    "from sklearn.model_selection import GridSearchCV\n",
    "from sklearn.linear_model import LogisticRegression\n",
    "\n",
    "import warnings\n",
    "warnings.filterwarnings(\"ignore\", category=DeprecationWarning) \n",
    "\n",
    "# define dataset\n",
    "heartattackData = pd.read_csv('HeartAttack.csv')\n",
    "#print(heartattackData)\n",
    "X = heartattackData[heartattackData.columns[0:12]]\n",
    "print(X)\n",
    "y = heartattackData[['Risk']]\n",
    "\n",
    "# Dividing data into two subsets :train and test set.Training set trains the model\n",
    "from sklearn.model_selection import train_test_split\n",
    "X_train, X_test, y_train, y_test = train_test_split(X, y, test_size=0.20)\n",
    "\n",
    "# Data normalization  \n",
    "from sklearn.preprocessing import StandardScaler\n",
    "scaler = StandardScaler()\n",
    "scaler.fit(X_train)\n",
    "\n",
    "X_train = scaler.transform(X_train)\n",
    "X_test = scaler.transform(X_test)\n",
    "\n",
    "# define models and parameters\n",
    "model = LogisticRegression()\n",
    "solvers = ['newton-cg', 'lbfgs', 'liblinear']\n",
    "penalty = ['l2']\n",
    "c_values = [100, 10, 1.0, 0.1, 0.01]\n",
    "# defining grid search\n",
    "grid = dict(solver=solvers,penalty=penalty,C=c_values)\n",
    "cv = RepeatedStratifiedKFold(n_splits=10, n_repeats=3, random_state=1)\n",
    "# https://scikit-learn.org/stable/modules/generated/sklearn.model_selection.GridSearchCV.html\n",
    "grid_search = GridSearchCV(estimator=model, param_grid=grid, n_jobs=-1, cv=cv, scoring='accuracy',error_score=0)\n",
    "grid_result = grid_search.fit(X_train, np.ravel(y_train))\n",
    "# summarize results\n",
    "print(\"Best: %f using %s\" % (grid_result.best_score_, grid_result.best_params_))\n",
    "means = grid_result.cv_results_['mean_test_score']\n",
    "stds = grid_result.cv_results_['std_test_score']\n",
    "params = grid_result.cv_results_['params']\n",
    "for mean, stdev, param in zip(means, stds, params):\n",
    "    print(\"%f (%f) with: %r\" % (mean, stdev, param))"
   ]
  },
  {
   "cell_type": "markdown",
   "metadata": {},
   "source": [
    "## Ridge Regression"
   ]
  },
  {
   "cell_type": "code",
   "execution_count": 4,
   "metadata": {},
   "outputs": [
    {
     "name": "stdout",
     "output_type": "stream",
     "text": [
      "     Age  Sex  Chest_Pain_Type   BP  Cholesterol  Fasting_Blood_MoreThan_120  \\\n",
      "0     70    1                4  130          322                           0   \n",
      "1     67    0                3  115          564                           0   \n",
      "2     57    1                2  124          261                           0   \n",
      "3     64    1                4  128          263                           0   \n",
      "4     74    0                2  120          269                           0   \n",
      "..   ...  ...              ...  ...          ...                         ...   \n",
      "265   52    1                3  172          199                           1   \n",
      "266   44    1                2  120          263                           0   \n",
      "267   56    0                2  140          294                           0   \n",
      "268   57    1                4  140          192                           0   \n",
      "269   67    1                4  160          286                           0   \n",
      "\n",
      "     Resting_Electrocardiographic_Reading  Maximum_Heart_Rate   \\\n",
      "0                                       2                  109   \n",
      "1                                       2                  160   \n",
      "2                                       0                  141   \n",
      "3                                       0                  105   \n",
      "4                                       2                  121   \n",
      "..                                    ...                  ...   \n",
      "265                                     0                  162   \n",
      "266                                     0                  173   \n",
      "267                                     2                  153   \n",
      "268                                     0                  148   \n",
      "269                                     2                  108   \n",
      "\n",
      "     Exercise_Induced_Angina  Old_Peak  Slope  Number_Blood_Vessels_Calcified  \n",
      "0                          0       2.4      2                               3  \n",
      "1                          0       1.6      2                               0  \n",
      "2                          0       0.3      1                               0  \n",
      "3                          1       0.2      2                               1  \n",
      "4                          1       0.2      1                               1  \n",
      "..                       ...       ...    ...                             ...  \n",
      "265                        0       0.5      1                               0  \n",
      "266                        0       0.0      1                               0  \n",
      "267                        0       1.3      2                               0  \n",
      "268                        0       0.4      2                               0  \n",
      "269                        1       1.5      2                               3  \n",
      "\n",
      "[270 rows x 12 columns]\n",
      "Best: 0.808642 using {'alpha': 0.1}\n",
      "0.808642 (0.081585) with: {'alpha': 0.1}\n",
      "0.808642 (0.081585) with: {'alpha': 0.2}\n",
      "0.808642 (0.081585) with: {'alpha': 0.3}\n",
      "0.808642 (0.081585) with: {'alpha': 0.4}\n",
      "0.808642 (0.081585) with: {'alpha': 0.5}\n",
      "0.807099 (0.081260) with: {'alpha': 0.6}\n",
      "0.807099 (0.081260) with: {'alpha': 0.7}\n",
      "0.807099 (0.081260) with: {'alpha': 0.8}\n",
      "0.807099 (0.081260) with: {'alpha': 0.9}\n",
      "0.807099 (0.081260) with: {'alpha': 1.0}\n"
     ]
    }
   ],
   "source": [
    "# https://scikit-learn.org/stable/modules/linear_model.html#ridge-regression-and-classification\n",
    "\n",
    "# example of grid searching key hyperparametres for ridge classifier\n",
    "\n",
    "from sklearn.model_selection import RepeatedStratifiedKFold\n",
    "from sklearn.model_selection import GridSearchCV\n",
    "from sklearn.linear_model import RidgeClassifier\n",
    "from sklearn.linear_model import Lasso\n",
    "import warnings\n",
    "warnings.filterwarnings(\"ignore\", category=DeprecationWarning) \n",
    "\n",
    "# define dataset\n",
    "heartattackData = pd.read_csv('HeartAttack.csv')\n",
    "#print(heartattackData)\n",
    "X = heartattackData[heartattackData.columns[0:12]]\n",
    "print(X)\n",
    "y = heartattackData[['Risk']]\n",
    "\n",
    "# Dividing data into two subsets :train and test set.Training set trains the model\n",
    "from sklearn.model_selection import train_test_split\n",
    "X_train, X_test, y_train, y_test = train_test_split(X, y, test_size=0.20)\n",
    "\n",
    "# Data normalization  \n",
    "from sklearn.preprocessing import StandardScaler\n",
    "scaler = StandardScaler()\n",
    "scaler.fit(X_train)\n",
    "\n",
    "X_train = scaler.transform(X_train)\n",
    "X_test = scaler.transform(X_test)\n",
    "\n",
    "\n",
    "# define models and parameters\n",
    "model = RidgeClassifier()\n",
    "alpha = [0.1, 0.2, 0.3, 0.4, 0.5, 0.6, 0.7, 0.8, 0.9, 1.0]\n",
    "# define grid search\n",
    "grid = dict(alpha=alpha)\n",
    "cv = RepeatedStratifiedKFold(n_splits=10, n_repeats=3, random_state=1)\n",
    "grid_search = GridSearchCV(estimator=model, param_grid=grid, n_jobs=-1, cv=cv, scoring='accuracy',error_score=0)\n",
    "grid_result = grid_search.fit(X_train, np.ravel(y_train))\n",
    "# summarize results\n",
    "print(\"Best: %f using %s\" % (grid_result.best_score_, grid_result.best_params_))\n",
    "means = grid_result.cv_results_['mean_test_score']\n",
    "stds = grid_result.cv_results_['std_test_score']\n",
    "params = grid_result.cv_results_['params']\n",
    "for mean, stdev, param in zip(means, stds, params):\n",
    "    print(\"%f (%f) with: %r\" % (mean, stdev, param))\n",
    "\n"
   ]
  },
  {
   "cell_type": "code",
   "execution_count": null,
   "metadata": {},
   "outputs": [],
   "source": []
  }
 ],
 "metadata": {
  "kernelspec": {
   "display_name": "Python 3",
   "language": "python",
   "name": "python3"
  },
  "language_info": {
   "codemirror_mode": {
    "name": "ipython",
    "version": 3
   },
   "file_extension": ".py",
   "mimetype": "text/x-python",
   "name": "python",
   "nbconvert_exporter": "python",
   "pygments_lexer": "ipython3",
   "version": "3.8.5"
  }
 },
 "nbformat": 4,
 "nbformat_minor": 2
}
