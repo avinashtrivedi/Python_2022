{
 "cells": [
  {
   "cell_type": "markdown",
   "metadata": {},
   "source": [
    "# Data Science Project Steps\n",
    "\n",
    "1. Define the Research problem and questions\n",
    "2. Analyze data by descriptive statistics and graphical visualization.\n",
    "3. Prepare data by using relevant preprocessing transformations, data cleaning, \n",
    "    data standardization,deaing with null and outlier values. Divide data into test and training set.\n",
    "4. Fit the train data. Predict the test data.\n",
    "5. Evaluate the first algorithm and its model performance.\n",
    "6. Evaluate the current algorithm and variety of algorithms by creating test harness for diverse\n",
    "    algorithms in conjunction with resampling techniques like cross validation, variable importance.\n",
    "    bootstrapping.Improve Result by playing with hyperparameters and innovative methods like \n",
    "   ensembles.\n",
    "7. Choose the best model and present the results. "
   ]
  },
  {
   "cell_type": "markdown",
   "metadata": {},
   "source": [
    "##  Define the Research problem and questions\n",
    "\n",
    "Predict Survived"
   ]
  },
  {
   "cell_type": "markdown",
   "metadata": {},
   "source": [
    "## Analyze data by descriptive statistics and graphical visualization."
   ]
  },
  {
   "cell_type": "code",
   "execution_count": 1,
   "metadata": {},
   "outputs": [
    {
     "name": "stdout",
     "output_type": "stream",
     "text": [
      "(891, 12)\n",
      "   PassengerId  Survived  Pclass  \\\n",
      "0            1         0       3   \n",
      "1            2         1       1   \n",
      "2            3         1       3   \n",
      "3            4         1       1   \n",
      "4            5         0       3   \n",
      "\n",
      "                                                Name     Sex   Age  SibSp  \\\n",
      "0                            Braund, Mr. Owen Harris    male  22.0      1   \n",
      "1  Cumings, Mrs. John Bradley (Florence Briggs Th...  female  38.0      1   \n",
      "2                             Heikkinen, Miss. Laina  female  26.0      0   \n",
      "3       Futrelle, Mrs. Jacques Heath (Lily May Peel)  female  35.0      1   \n",
      "4                           Allen, Mr. William Henry    male  35.0      0   \n",
      "\n",
      "   Parch            Ticket     Fare Cabin Embarked  \n",
      "0      0         A/5 21171   7.2500   NaN        S  \n",
      "1      0          PC 17599  71.2833   C85        C  \n",
      "2      0  STON/O2. 3101282   7.9250   NaN        S  \n",
      "3      0            113803  53.1000  C123        S  \n",
      "4      0            373450   8.0500   NaN        S  \n"
     ]
    }
   ],
   "source": [
    "import pandas as pd  \n",
    "import numpy as np  \n",
    "import matplotlib.pyplot as plt  \n",
    "import seaborn as sb\n",
    "import scipy.stats as stat\n",
    "from pandas.plotting import scatter_matrix\n",
    "from sklearn.model_selection import train_test_split \n",
    "from sklearn.linear_model import LinearRegression\n",
    "from sklearn import metrics\n",
    "%matplotlib inline\n",
    "\n",
    "TitanicData = pd.read_csv('train.csv')\n",
    "import warnings\n",
    "warnings.filterwarnings('ignore')\n",
    "print(TitanicData.shape)\n",
    "print(TitanicData.head())"
   ]
  },
  {
   "cell_type": "markdown",
   "metadata": {},
   "source": [
    "## Prepare data by using relevant preprocessing transformations, data cleaning, data standardization,deaing with null and outlier values. Divide data into test and training set.\n",
    "## Fit the train data. Predict the test data.\n",
    "## Evaluate the first algorithm and its model performance."
   ]
  },
  {
   "cell_type": "code",
   "execution_count": 2,
   "metadata": {},
   "outputs": [],
   "source": [
    "TitanicData = TitanicData[['Survived', 'Pclass', 'Sex', 'SibSp','Parch','Age','Fare', 'Embarked']]"
   ]
  },
  {
   "cell_type": "code",
   "execution_count": 3,
   "metadata": {},
   "outputs": [],
   "source": [
    "TitanicData['Sex'] = TitanicData['Sex'].replace(['male','female'],[1,0])\n",
    "TitanicData['Embarked'] = TitanicData['Embarked'].replace(['S','C','Q'],[0,1,2])\n",
    "TitanicData.dropna(inplace=True)\n",
    "X = TitanicData['Age'].values.reshape(-1,1)\n",
    "y = TitanicData['Survived'].values.reshape(-1,1)"
   ]
  },
  {
   "cell_type": "code",
   "execution_count": 4,
   "metadata": {},
   "outputs": [
    {
     "name": "stdout",
     "output_type": "stream",
     "text": [
      "[0.47949628]\n",
      "[[-0.00269049]]\n"
     ]
    },
    {
     "data": {
      "image/png": "[encoded data removed]",
      "text/plain": [
       "<Figure size 432x288 with 1 Axes>"
      ]
     },
     "metadata": {
      "needs_background": "light"
     },
     "output_type": "display_data"
    },
    {
     "name": "stdout",
     "output_type": "stream",
     "text": [
      "     Actual  Predicted\n",
      "0         0   0.404163\n",
      "1         0   0.398782\n",
      "2         1   0.477021\n",
      "3         0   0.382639\n",
      "4         0   0.353043\n",
      "..      ...        ...\n",
      "173       1   0.412234\n",
      "174       0   0.379948\n",
      "175       0   0.404163\n",
      "176       1   0.323448\n",
      "177       0   0.422996\n",
      "\n",
      "[178 rows x 2 columns]\n",
      "Mean Squared Error: 0.24099279544474866\n",
      "Root Mean Squared Error: 0.49091017044338026\n"
     ]
    }
   ],
   "source": [
    "#Regression\n",
    "X_train, X_test, y_train, y_test = train_test_split(X, y, test_size=0.25, random_state=0)\n",
    "regressor = LinearRegression()  \n",
    "#Training the Regression algorithm\n",
    "regressor.fit(X_train, y_train) \n",
    " # Intercept:\n",
    "print(regressor.intercept_)\n",
    "# Slope:\n",
    "print(regressor.coef_)\n",
    "\n",
    "y_pred = regressor.predict(X_test)\n",
    "# Create scatter plot\n",
    "plt.scatter(X_test, y_test,  color='gray')\n",
    "plt.plot(X_test, y_pred, color='red', linewidth=2)\n",
    "plt.show()\n",
    "\n",
    "df = pd.DataFrame({'Actual': y_test.flatten(), 'Predicted': y_pred.flatten()})\n",
    "print(df)\n",
    "\n",
    "# Mean Squared Errror and Root Mean Squared Error\n",
    "print('Mean Squared Error:', metrics.mean_squared_error(y_test, y_pred))  \n",
    "print('Root Mean Squared Error:', np.sqrt(metrics.mean_squared_error(y_test, y_pred)))\n"
   ]
  },
  {
   "cell_type": "markdown",
   "metadata": {},
   "source": [
    "## Evaluate the current algorithm and variety of algorithms by creating test harness for diverse algorithms in conjunction with resampling techniques like cross validation, variable importance.bootstrapping.Improve Result by playing with hyperparameters and innovative methods like Logistic Regression,Lasso Regression or Ridge Regression\n",
    "  "
   ]
  },
  {
   "cell_type": "markdown",
   "metadata": {},
   "source": [
    "### Predict Risk using all the other variables in the HeartAttack dataset."
   ]
  },
  {
   "cell_type": "markdown",
   "metadata": {},
   "source": [
    "## Logistic Regression "
   ]
  },
  {
   "cell_type": "code",
   "execution_count": 5,
   "metadata": {},
   "outputs": [
    {
     "name": "stdout",
     "output_type": "stream",
     "text": [
      "Best: 0.802621 using {'C': 10, 'penalty': 'l2', 'solver': 'newton-cg'}\n",
      "0.801452 (0.046559) with: {'C': 100, 'penalty': 'l2', 'solver': 'newton-cg'}\n",
      "0.801452 (0.046559) with: {'C': 100, 'penalty': 'l2', 'solver': 'lbfgs'}\n",
      "0.801452 (0.046559) with: {'C': 100, 'penalty': 'l2', 'solver': 'liblinear'}\n",
      "0.802621 (0.047121) with: {'C': 10, 'penalty': 'l2', 'solver': 'newton-cg'}\n",
      "0.802621 (0.047121) with: {'C': 10, 'penalty': 'l2', 'solver': 'lbfgs'}\n",
      "0.802621 (0.047121) with: {'C': 10, 'penalty': 'l2', 'solver': 'liblinear'}\n",
      "0.800867 (0.049375) with: {'C': 1.0, 'penalty': 'l2', 'solver': 'newton-cg'}\n",
      "0.800867 (0.049375) with: {'C': 1.0, 'penalty': 'l2', 'solver': 'lbfgs'}\n",
      "0.799697 (0.048586) with: {'C': 1.0, 'penalty': 'l2', 'solver': 'liblinear'}\n",
      "0.790309 (0.055370) with: {'C': 0.1, 'penalty': 'l2', 'solver': 'newton-cg'}\n",
      "0.790309 (0.055370) with: {'C': 0.1, 'penalty': 'l2', 'solver': 'lbfgs'}\n",
      "0.787385 (0.053738) with: {'C': 0.1, 'penalty': 'l2', 'solver': 'liblinear'}\n",
      "0.783229 (0.044109) with: {'C': 0.01, 'penalty': 'l2', 'solver': 'newton-cg'}\n",
      "0.783229 (0.044109) with: {'C': 0.01, 'penalty': 'l2', 'solver': 'lbfgs'}\n",
      "0.769841 (0.056432) with: {'C': 0.01, 'penalty': 'l2', 'solver': 'liblinear'}\n"
     ]
    }
   ],
   "source": [
    "#https://scikitlearn.org/stable/modules/generated/sklearn.linear_model.LogisticRegression.html\n",
    "import numpy as np\n",
    "import pandas as pd\n",
    "from sklearn.model_selection import train_test_split\n",
    "from sklearn.naive_bayes import GaussianNB\n",
    "from sklearn.metrics import accuracy_score\n",
    "import matplotlib.pyplot as plt\n",
    "import seaborn as sns\n",
    "\n",
    "from sklearn.model_selection import train_test_split\n",
    "from sklearn.naive_bayes import GaussianNB\n",
    "from sklearn.model_selection import KFold\n",
    "from sklearn.model_selection import cross_validate\n",
    "from sklearn.metrics import classification_report, confusion_matrix\n",
    "\n",
    "from sklearn.model_selection import RepeatedStratifiedKFold\n",
    "from sklearn.model_selection import GridSearchCV\n",
    "from sklearn.linear_model import LogisticRegression\n",
    "\n",
    "import warnings\n",
    "warnings.filterwarnings(\"ignore\", category=DeprecationWarning) \n",
    "\n",
    "X = TitanicData[['Pclass','Sex','Age','Fare','Embarked','SibSp','Parch']] \n",
    "y = TitanicData[['Survived']]\n",
    "\n",
    "# Dividing data into two subsets :train and test set.Training set trains the model\n",
    "from sklearn.model_selection import train_test_split\n",
    "X_train, X_test, y_train, y_test = train_test_split(X, y, test_size=0.20)\n",
    "\n",
    "# Data normalization  \n",
    "from sklearn.preprocessing import StandardScaler\n",
    "scaler = StandardScaler()\n",
    "scaler.fit(X_train)\n",
    "\n",
    "X_train = scaler.transform(X_train)\n",
    "X_test = scaler.transform(X_test)\n",
    "\n",
    "# define models and parameters\n",
    "model = LogisticRegression()\n",
    "solvers = ['newton-cg', 'lbfgs', 'liblinear']\n",
    "penalty = ['l2']\n",
    "c_values = [100, 10, 1.0, 0.1, 0.01]\n",
    "# defining grid search\n",
    "grid = dict(solver=solvers,penalty=penalty,C=c_values)\n",
    "cv = RepeatedStratifiedKFold(n_splits=10, n_repeats=3, random_state=1)\n",
    "# https://scikit-learn.org/stable/modules/generated/sklearn.model_selection.GridSearchCV.html\n",
    "grid_search = GridSearchCV(estimator=model, param_grid=grid, n_jobs=-1, cv=cv, scoring='accuracy',error_score=0)\n",
    "grid_result = grid_search.fit(X_train, np.ravel(y_train))\n",
    "# summarize results\n",
    "print(\"Best: %f using %s\" % (grid_result.best_score_, grid_result.best_params_))\n",
    "means = grid_result.cv_results_['mean_test_score']\n",
    "stds = grid_result.cv_results_['std_test_score']\n",
    "params = grid_result.cv_results_['params']\n",
    "for mean, stdev, param in zip(means, stds, params):\n",
    "    print(\"%f (%f) with: %r\" % (mean, stdev, param))"
   ]
  },
  {
   "cell_type": "markdown",
   "metadata": {},
   "source": [
    "## Ridge Regression"
   ]
  },
  {
   "cell_type": "code",
   "execution_count": 6,
   "metadata": {},
   "outputs": [
    {
     "name": "stdout",
     "output_type": "stream",
     "text": [
      "Best: 0.787897 using {'alpha': 0.1}\n",
      "0.787897 (0.053867) with: {'alpha': 0.1}\n",
      "0.787897 (0.053867) with: {'alpha': 0.2}\n",
      "0.787897 (0.053867) with: {'alpha': 0.3}\n",
      "0.787897 (0.053867) with: {'alpha': 0.4}\n",
      "0.787897 (0.053867) with: {'alpha': 0.5}\n",
      "0.787897 (0.053867) with: {'alpha': 0.6}\n",
      "0.787897 (0.053867) with: {'alpha': 0.7}\n",
      "0.787897 (0.053867) with: {'alpha': 0.8}\n",
      "0.787897 (0.053867) with: {'alpha': 0.9}\n",
      "0.787897 (0.053867) with: {'alpha': 1.0}\n"
     ]
    }
   ],
   "source": [
    "# https://scikit-learn.org/stable/modules/linear_model.html#ridge-regression-and-classification\n",
    "\n",
    "# example of grid searching key hyperparametres for ridge classifier\n",
    "\n",
    "from sklearn.model_selection import RepeatedStratifiedKFold\n",
    "from sklearn.model_selection import GridSearchCV\n",
    "from sklearn.linear_model import RidgeClassifier\n",
    "from sklearn.linear_model import Lasso\n",
    "import warnings\n",
    "warnings.filterwarnings(\"ignore\", category=DeprecationWarning) \n",
    "\n",
    "X = TitanicData[['Pclass','Sex','Age','Fare','Embarked','SibSp','Parch']] \n",
    "y = TitanicData[['Survived']]\n",
    "\n",
    "# Dividing data into two subsets :train and test set.Training set trains the model\n",
    "from sklearn.model_selection import train_test_split\n",
    "X_train, X_test, y_train, y_test = train_test_split(X, y, test_size=0.20)\n",
    "\n",
    "# Data normalization  \n",
    "from sklearn.preprocessing import StandardScaler\n",
    "scaler = StandardScaler()\n",
    "scaler.fit(X_train)\n",
    "\n",
    "X_train = scaler.transform(X_train)\n",
    "X_test = scaler.transform(X_test)\n",
    "\n",
    "\n",
    "# define models and parameters\n",
    "model = RidgeClassifier()\n",
    "alpha = [0.1, 0.2, 0.3, 0.4, 0.5, 0.6, 0.7, 0.8, 0.9, 1.0]\n",
    "# define grid search\n",
    "grid = dict(alpha=alpha)\n",
    "cv = RepeatedStratifiedKFold(n_splits=10, n_repeats=3, random_state=1)\n",
    "grid_search = GridSearchCV(estimator=model, param_grid=grid, n_jobs=-1, cv=cv, scoring='accuracy',error_score=0)\n",
    "grid_result = grid_search.fit(X_train, np.ravel(y_train))\n",
    "# summarize results\n",
    "print(\"Best: %f using %s\" % (grid_result.best_score_, grid_result.best_params_))\n",
    "means = grid_result.cv_results_['mean_test_score']\n",
    "stds = grid_result.cv_results_['std_test_score']\n",
    "params = grid_result.cv_results_['params']\n",
    "for mean, stdev, param in zip(means, stds, params):\n",
    "    print(\"%f (%f) with: %r\" % (mean, stdev, param))\n",
    "\n"
   ]
  },
  {
   "cell_type": "code",
   "execution_count": null,
   "metadata": {},
   "outputs": [],
   "source": []
  }
 ],
 "metadata": {
  "kernelspec": {
   "display_name": "Python 3",
   "language": "python",
   "name": "python3"
  },
  "language_info": {
   "codemirror_mode": {
    "name": "ipython",
    "version": 3
   },
   "file_extension": ".py",
   "mimetype": "text/x-python",
   "name": "python",
   "nbconvert_exporter": "python",
   "pygments_lexer": "ipython3",
   "version": "3.8.5"
  }
 },
 "nbformat": 4,
 "nbformat_minor": 2
}
