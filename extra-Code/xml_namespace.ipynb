{
 "cells": [
  {
   "cell_type": "code",
   "execution_count": 56,
   "metadata": {},
   "outputs": [],
   "source": [
    "import xml.etree.ElementTree as ET\n",
    "import pandas as pd\n",
    "namespace = '{http://teamcenter.com/BusinessModel/TcBusinessData}'\n",
    "tree = ET.parse('model.xml')\n",
    "root = tree.getroot()\n",
    "\n",
    "df = pd.DataFrame([],columns=['file_extension','dataset_type'])"
   ]
  },
  {
   "cell_type": "code",
   "execution_count": 93,
   "metadata": {},
   "outputs": [
    {
     "name": "stdout",
     "output_type": "stream",
     "text": [
      "<Element '{http://teamcenter.com/BusinessModel/TcBusinessData}TcDataset' at 0x00000144D1085BD0>\n",
      "<Element '{http://teamcenter.com/BusinessModel/TcBusinessData}TcDataset' at 0x00000144D1085E00>\n"
     ]
    }
   ],
   "source": [
    "for TcDataset in root[0].findall(namespace+\"TcDataset\"):\n",
    "    try:\n",
    "        type_name = TcDataset.attrib['typeName']\n",
    "        TcDatasetReference = TcDataset.find(namespace+\"TcDatasetReference\")\n",
    "        TcDatasetReferenceInfo = TcDatasetReference.find(namespace+\"TcDatasetReferenceInfo\")\n",
    "        template = TcDatasetReferenceInfo.attrib['template']\n",
    "        df.loc[len(df)] = [template,type_name]\n",
    "    except:\n",
    "        pass"
   ]
  },
  {
   "cell_type": "code",
   "execution_count": 82,
   "metadata": {},
   "outputs": [],
   "source": [
    "TcDataset = root[0].findall(\"{http://teamcenter.com/BusinessModel/TcBusinessData}TcDataset\")[0]"
   ]
  },
  {
   "cell_type": "code",
   "execution_count": 83,
   "metadata": {},
   "outputs": [
    {
     "data": {
      "text/plain": [
       "'AdobeIllustrator'"
      ]
     },
     "execution_count": 83,
     "metadata": {},
     "output_type": "execute_result"
    }
   ],
   "source": [
    "TcDataset.attrib['typeName']"
   ]
  },
  {
   "cell_type": "code",
   "execution_count": 84,
   "metadata": {},
   "outputs": [],
   "source": [
    "TcDatasetReference = x.find(\"{http://teamcenter.com/BusinessModel/TcBusinessData}TcDatasetReference\")"
   ]
  },
  {
   "cell_type": "code",
   "execution_count": 85,
   "metadata": {},
   "outputs": [],
   "source": [
    "TcDatasetReferenceInfo = TcDatasetReference.find(\"{http://teamcenter.com/BusinessModel/TcBusinessData}TcDatasetReferenceInfo\")"
   ]
  },
  {
   "cell_type": "code",
   "execution_count": 86,
   "metadata": {},
   "outputs": [
    {
     "data": {
      "text/plain": [
       "'*.ai'"
      ]
     },
     "execution_count": 86,
     "metadata": {},
     "output_type": "execute_result"
    }
   ],
   "source": [
    "TcDatasetReferenceInfo.attrib['template']"
   ]
  },
  {
   "cell_type": "code",
   "execution_count": 87,
   "metadata": {},
   "outputs": [],
   "source": []
  },
  {
   "cell_type": "code",
   "execution_count": 94,
   "metadata": {},
   "outputs": [
    {
     "data": {
      "text/html": [
       "<div>\n",
       "<style scoped>\n",
       "    .dataframe tbody tr th:only-of-type {\n",
       "        vertical-align: middle;\n",
       "    }\n",
       "\n",
       "    .dataframe tbody tr th {\n",
       "        vertical-align: top;\n",
       "    }\n",
       "\n",
       "    .dataframe thead th {\n",
       "        text-align: right;\n",
       "    }\n",
       "</style>\n",
       "<table border=\"1\" class=\"dataframe\">\n",
       "  <thead>\n",
       "    <tr style=\"text-align: right;\">\n",
       "      <th></th>\n",
       "      <th>file_extension</th>\n",
       "      <th>dataset_type</th>\n",
       "    </tr>\n",
       "  </thead>\n",
       "  <tbody>\n",
       "    <tr>\n",
       "      <th>0</th>\n",
       "      <td>*.ai</td>\n",
       "      <td>AdobeIllustrator</td>\n",
       "    </tr>\n",
       "    <tr>\n",
       "      <th>1</th>\n",
       "      <td>*.indd</td>\n",
       "      <td>AdobeInDesign</td>\n",
       "    </tr>\n",
       "    <tr>\n",
       "      <th>2</th>\n",
       "      <td>*.bmp</td>\n",
       "      <td>Bitmap_Thumbnail</td>\n",
       "    </tr>\n",
       "    <tr>\n",
       "      <th>3</th>\n",
       "      <td>*.bcz</td>\n",
       "      <td>Briefcase</td>\n",
       "    </tr>\n",
       "    <tr>\n",
       "      <th>4</th>\n",
       "      <td>*</td>\n",
       "      <td>CAEAnalysisDS</td>\n",
       "    </tr>\n",
       "    <tr>\n",
       "      <th>...</th>\n",
       "      <td>...</td>\n",
       "      <td>...</td>\n",
       "    </tr>\n",
       "    <tr>\n",
       "      <th>332</th>\n",
       "      <td>*.xml</td>\n",
       "      <td>Ase0XML</td>\n",
       "    </tr>\n",
       "    <tr>\n",
       "      <th>333</th>\n",
       "      <td>*.mmp</td>\n",
       "      <td>Awv0MMPDeltaCollection</td>\n",
       "    </tr>\n",
       "    <tr>\n",
       "      <th>334</th>\n",
       "      <td>*.xml</td>\n",
       "      <td>Crt0ContractPackage</td>\n",
       "    </tr>\n",
       "    <tr>\n",
       "      <th>335</th>\n",
       "      <td>*.jpg</td>\n",
       "      <td>Seg0Diagram</td>\n",
       "    </tr>\n",
       "    <tr>\n",
       "      <th>336</th>\n",
       "      <td>Text</td>\n",
       "      <td>Arm0SavedRule</td>\n",
       "    </tr>\n",
       "  </tbody>\n",
       "</table>\n",
       "<p>337 rows × 2 columns</p>\n",
       "</div>"
      ],
      "text/plain": [
       "    file_extension            dataset_type\n",
       "0             *.ai        AdobeIllustrator\n",
       "1           *.indd           AdobeInDesign\n",
       "2            *.bmp        Bitmap_Thumbnail\n",
       "3            *.bcz               Briefcase\n",
       "4                *           CAEAnalysisDS\n",
       "..             ...                     ...\n",
       "332          *.xml                 Ase0XML\n",
       "333          *.mmp  Awv0MMPDeltaCollection\n",
       "334          *.xml     Crt0ContractPackage\n",
       "335          *.jpg             Seg0Diagram\n",
       "336           Text           Arm0SavedRule\n",
       "\n",
       "[337 rows x 2 columns]"
      ]
     },
     "execution_count": 94,
     "metadata": {},
     "output_type": "execute_result"
    }
   ],
   "source": [
    "df"
   ]
  },
  {
   "cell_type": "code",
   "execution_count": null,
   "metadata": {},
   "outputs": [],
   "source": []
  }
 ],
 "metadata": {
  "kernelspec": {
   "display_name": "Python 3",
   "language": "python",
   "name": "python3"
  },
  "language_info": {
   "codemirror_mode": {
    "name": "ipython",
    "version": 3
   },
   "file_extension": ".py",
   "mimetype": "text/x-python",
   "name": "python",
   "nbconvert_exporter": "python",
   "pygments_lexer": "ipython3",
   "version": "3.8.5"
  }
 },
 "nbformat": 4,
 "nbformat_minor": 4
}
