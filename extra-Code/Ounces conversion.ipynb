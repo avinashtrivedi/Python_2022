{
 "cells": [
  {
   "cell_type": "code",
   "execution_count": 2,
   "metadata": {},
   "outputs": [
    {
     "name": "stderr",
     "output_type": "stream",
     "text": [
      "Exception in Tkinter callback\n",
      "Traceback (most recent call last):\n",
      "  File \"C:\\Users\\avitr\\anaconda3\\lib\\tkinter\\__init__.py\", line 1883, in __call__\n",
      "    return self.func(*args)\n",
      "  File \"C:\\Users\\avitr\\AppData\\Local\\Temp\\ipykernel_19080\\613196209.py\", line 6, in Kilogram\n",
      "    n1 = float(num1.get())\n",
      "ValueError: could not convert string to float: ''\n"
     ]
    }
   ],
   "source": [
    "import tkinter as tk\n",
    "from functools import partial\n",
    "\n",
    "    \n",
    "def Kilogram(l3, num1):\n",
    "    n1 = float(num1.get())\n",
    "    #n2 = int(num2.get())\n",
    "    n3 = float(n1) *float(0.02835)\n",
    "    l3.config(text=\"Kilogram = %f\" % float(n3))\n",
    "    return\n",
    "\n",
    "def gram(l3, num1):\n",
    "    n1 = float(int(num1.get()))\n",
    "    #n2 = int(num2.get())\n",
    "    n3 = n1 *28.3495\n",
    "    l3.config(text=\"gram = %f\" % n3)\n",
    "    return\n",
    "\n",
    "def pound(l3, num1):\n",
    "    n1 = float(int(num1.get()))\n",
    "    #n2 = int(num2.get())\n",
    "    n3 = n1 *0.0625\n",
    "    l3.config(text=\"\\pound = %f\" % n3)\n",
    "    return\n",
    "\n",
    "\n",
    "\n",
    "\n",
    "root = tk.Tk()\n",
    "root.title(\"Ounces Conversion\")\n",
    "root.geometry(\"700x500\")\n",
    "\n",
    "number1 = tk.StringVar()\n",
    "#number2 = tk.StringVar()\n",
    "\n",
    "l1 = tk.Label(root, text=\"Enter ounces\").place(x=20, y=60)\n",
    "#l2 = tk.Label(root, text=\"Enter 2nd number\").place(x=20, y=120)\n",
    "t1 = tk.Entry(root, textvariable=number1).place(x=200, y=60)\n",
    "#t2 = tk.Entry(root, textvariable=number2).place(x=200, y=120)\n",
    "l2 = tk.Label(root, text=\"Choose a mass/weight:\").place(x=20, y=150)\n",
    "\n",
    "labelResult = tk.Label(root)\n",
    "labelResult.place(x=20, y=250)\n",
    "\n",
    "Kilogram = partial(Kilogram, labelResult, number1)\n",
    "\n",
    "gram = partial(gram, labelResult, number1)\n",
    "\n",
    "pound = partial(pound, labelResult, number1)\n",
    "\n",
    "\n",
    "b1 = tk.Button(root, text=\"Kilogram\", command=Kilogram).place(x=20, y=200)\n",
    "b2 = tk.Button(root, text=\"gram\", command=gram).place(x=110, y=200)\n",
    "b3 = tk.Button(root, text=\"pound\", command=pound).place(x=180, y=200)\n",
    "\n",
    "\n",
    "\n",
    "b2 = tk.Button(root, text=\"Quit\", command=root.destroy).place(x=20, y=300)\n",
    "\n",
    "root.mainloop()"
   ]
  },
  {
   "cell_type": "code",
   "execution_count": null,
   "metadata": {},
   "outputs": [],
   "source": []
  },
  {
   "cell_type": "code",
   "execution_count": null,
   "metadata": {},
   "outputs": [],
   "source": []
  },
  {
   "cell_type": "code",
   "execution_count": null,
   "metadata": {},
   "outputs": [],
   "source": []
  },
  {
   "cell_type": "code",
   "execution_count": null,
   "metadata": {},
   "outputs": [],
   "source": []
  }
 ],
 "metadata": {
  "kernelspec": {
   "display_name": "Python 3 (ipykernel)",
   "language": "python",
   "name": "python3"
  },
  "language_info": {
   "codemirror_mode": {
    "name": "ipython",
    "version": 3
   },
   "file_extension": ".py",
   "mimetype": "text/x-python",
   "name": "python",
   "nbconvert_exporter": "python",
   "pygments_lexer": "ipython3",
   "version": "3.8.5"
  }
 },
 "nbformat": 4,
 "nbformat_minor": 2
}
