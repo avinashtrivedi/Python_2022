{
 "cells": [
  {
   "cell_type": "code",
   "execution_count": 1,
   "id": "5c8e7c16",
   "metadata": {},
   "outputs": [],
   "source": [
    "import pandas as pd\n",
    "from sklearn.tree import DecisionTreeClassifier\n",
    "from sklearn.preprocessing import StandardScaler\n",
    "from sklearn.model_selection import train_test_split\n",
    "from sklearn.metrics import confusion_matrix,classification_report"
   ]
  },
  {
   "cell_type": "code",
   "execution_count": 2,
   "id": "c32478dd",
   "metadata": {},
   "outputs": [],
   "source": [
    "columns = ['compactness',\n",
    " 'circularity',\n",
    " 'distance_circularity',\n",
    " 'radius_ratio',\n",
    " 'pr.axis_aspect_ratio',\n",
    " 'max_length_aspect_ratio',\n",
    " 'scatter_ratio',\n",
    " 'elongatedness',\n",
    " 'pr.axis_rectangularity',\n",
    " 'max_length_rectangularity',\n",
    " 'scaled_variance_along_major_axis',\n",
    " 'scaled_variance_along_minor_axis',\n",
    " 'scaled_radius_of_gyration',\n",
    " 'skewness_about_major_axis',\n",
    " 'skewness_about_minor_axis',\n",
    " 'kurtosis_about_minor_axis',\n",
    " 'kurtosis_about_major_axis',\n",
    " 'hollows_ratio',\n",
    " 'class']\n",
    "\n",
    "\n",
    "imp_col = ['distance_circularity',\n",
    "'scatter_ratio',\n",
    "'elongatedness',\n",
    "'pr.axis_rectangularity',\n",
    "'scaled_variance_along_major_axis',\n",
    "'scaled_variance_along_minor_axis','class']"
   ]
  },
  {
   "cell_type": "code",
   "execution_count": 3,
   "id": "8a912def",
   "metadata": {},
   "outputs": [],
   "source": [
    "# dataset path\n",
    "df_full = pd.read_csv('D:\\OneDrive - NITT\\Custom_Download\\combine (1).csv',header=None,names=columns)"
   ]
  },
  {
   "cell_type": "code",
   "execution_count": 4,
   "id": "ad833ff5",
   "metadata": {},
   "outputs": [
    {
     "data": {
      "text/plain": [
       "compactness                         0\n",
       "circularity                         0\n",
       "distance_circularity                0\n",
       "radius_ratio                        0\n",
       "pr.axis_aspect_ratio                0\n",
       "max_length_aspect_ratio             0\n",
       "scatter_ratio                       0\n",
       "elongatedness                       0\n",
       "pr.axis_rectangularity              0\n",
       "max_length_rectangularity           0\n",
       "scaled_variance_along_major_axis    0\n",
       "scaled_variance_along_minor_axis    0\n",
       "scaled_radius_of_gyration           0\n",
       "skewness_about_major_axis           0\n",
       "skewness_about_minor_axis           0\n",
       "kurtosis_about_minor_axis           0\n",
       "kurtosis_about_major_axis           0\n",
       "hollows_ratio                       0\n",
       "class                               0\n",
       "dtype: int64"
      ]
     },
     "execution_count": 4,
     "metadata": {},
     "output_type": "execute_result"
    }
   ],
   "source": [
    "df_full.isna().sum()"
   ]
  },
  {
   "cell_type": "code",
   "execution_count": 5,
   "id": "c9e08118",
   "metadata": {},
   "outputs": [
    {
     "data": {
      "text/plain": [
       "bus     218\n",
       "saab    217\n",
       "opel    212\n",
       "van     199\n",
       "Name: class, dtype: int64"
      ]
     },
     "execution_count": 5,
     "metadata": {},
     "output_type": "execute_result"
    }
   ],
   "source": [
    "df_full['class'].value_counts()"
   ]
  },
  {
   "cell_type": "code",
   "execution_count": 6,
   "id": "b2e58510",
   "metadata": {},
   "outputs": [],
   "source": [
    "df_all_classes = df_full.copy()\n",
    "df_3_classes = df_full.copy()\n",
    "df_van_no_van = df_full.copy()\n",
    "df_bus_no_bus = df_full.copy()\n",
    "df_two_cars = df_full.copy()"
   ]
  },
  {
   "cell_type": "code",
   "execution_count": 7,
   "id": "d2e04ce2",
   "metadata": {},
   "outputs": [],
   "source": [
    "df_3_classes['class'] = df_3_classes['class'].replace(['saab'],['opel'])\n",
    "df_van_no_van['class'] = df_van_no_van['class'].replace(['opel','bus','saab'],['No_van']*3)\n",
    "df_bus_no_bus['class'] = df_bus_no_bus['class'].replace(['opel','van','saab'],['No_bus']*3)\n",
    "df_two_cars = df_two_cars[df_two_cars['class'].isin(['saab','opel'])]"
   ]
  },
  {
   "cell_type": "code",
   "execution_count": 8,
   "id": "f81d7715",
   "metadata": {},
   "outputs": [
    {
     "data": {
      "text/html": [
       "<div>\n",
       "<style scoped>\n",
       "    .dataframe tbody tr th:only-of-type {\n",
       "        vertical-align: middle;\n",
       "    }\n",
       "\n",
       "    .dataframe tbody tr th {\n",
       "        vertical-align: top;\n",
       "    }\n",
       "\n",
       "    .dataframe thead th {\n",
       "        text-align: right;\n",
       "    }\n",
       "</style>\n",
       "<table border=\"1\" class=\"dataframe\">\n",
       "  <thead>\n",
       "    <tr style=\"text-align: right;\">\n",
       "      <th></th>\n",
       "      <th>compactness</th>\n",
       "      <th>circularity</th>\n",
       "      <th>distance_circularity</th>\n",
       "      <th>radius_ratio</th>\n",
       "      <th>pr.axis_aspect_ratio</th>\n",
       "      <th>max_length_aspect_ratio</th>\n",
       "      <th>scatter_ratio</th>\n",
       "      <th>elongatedness</th>\n",
       "      <th>pr.axis_rectangularity</th>\n",
       "      <th>max_length_rectangularity</th>\n",
       "      <th>scaled_variance_along_major_axis</th>\n",
       "      <th>scaled_variance_along_minor_axis</th>\n",
       "      <th>scaled_radius_of_gyration</th>\n",
       "      <th>skewness_about_major_axis</th>\n",
       "      <th>skewness_about_minor_axis</th>\n",
       "      <th>kurtosis_about_minor_axis</th>\n",
       "      <th>kurtosis_about_major_axis</th>\n",
       "      <th>hollows_ratio</th>\n",
       "      <th>class</th>\n",
       "    </tr>\n",
       "  </thead>\n",
       "  <tbody>\n",
       "    <tr>\n",
       "      <th>2</th>\n",
       "      <td>104</td>\n",
       "      <td>50</td>\n",
       "      <td>106</td>\n",
       "      <td>209</td>\n",
       "      <td>66</td>\n",
       "      <td>10</td>\n",
       "      <td>207</td>\n",
       "      <td>32</td>\n",
       "      <td>23</td>\n",
       "      <td>158</td>\n",
       "      <td>223</td>\n",
       "      <td>635</td>\n",
       "      <td>220</td>\n",
       "      <td>73</td>\n",
       "      <td>14</td>\n",
       "      <td>9</td>\n",
       "      <td>188</td>\n",
       "      <td>196</td>\n",
       "      <td>saab</td>\n",
       "    </tr>\n",
       "    <tr>\n",
       "      <th>9</th>\n",
       "      <td>93</td>\n",
       "      <td>44</td>\n",
       "      <td>98</td>\n",
       "      <td>197</td>\n",
       "      <td>62</td>\n",
       "      <td>11</td>\n",
       "      <td>183</td>\n",
       "      <td>36</td>\n",
       "      <td>22</td>\n",
       "      <td>146</td>\n",
       "      <td>202</td>\n",
       "      <td>505</td>\n",
       "      <td>152</td>\n",
       "      <td>64</td>\n",
       "      <td>4</td>\n",
       "      <td>14</td>\n",
       "      <td>195</td>\n",
       "      <td>204</td>\n",
       "      <td>saab</td>\n",
       "    </tr>\n",
       "    <tr>\n",
       "      <th>11</th>\n",
       "      <td>90</td>\n",
       "      <td>34</td>\n",
       "      <td>66</td>\n",
       "      <td>136</td>\n",
       "      <td>55</td>\n",
       "      <td>6</td>\n",
       "      <td>123</td>\n",
       "      <td>54</td>\n",
       "      <td>17</td>\n",
       "      <td>118</td>\n",
       "      <td>148</td>\n",
       "      <td>224</td>\n",
       "      <td>118</td>\n",
       "      <td>65</td>\n",
       "      <td>5</td>\n",
       "      <td>26</td>\n",
       "      <td>196</td>\n",
       "      <td>202</td>\n",
       "      <td>saab</td>\n",
       "    </tr>\n",
       "    <tr>\n",
       "      <th>15</th>\n",
       "      <td>96</td>\n",
       "      <td>55</td>\n",
       "      <td>103</td>\n",
       "      <td>201</td>\n",
       "      <td>65</td>\n",
       "      <td>9</td>\n",
       "      <td>204</td>\n",
       "      <td>32</td>\n",
       "      <td>23</td>\n",
       "      <td>166</td>\n",
       "      <td>227</td>\n",
       "      <td>624</td>\n",
       "      <td>246</td>\n",
       "      <td>74</td>\n",
       "      <td>6</td>\n",
       "      <td>2</td>\n",
       "      <td>186</td>\n",
       "      <td>194</td>\n",
       "      <td>opel</td>\n",
       "    </tr>\n",
       "    <tr>\n",
       "      <th>18</th>\n",
       "      <td>104</td>\n",
       "      <td>54</td>\n",
       "      <td>100</td>\n",
       "      <td>186</td>\n",
       "      <td>61</td>\n",
       "      <td>10</td>\n",
       "      <td>216</td>\n",
       "      <td>31</td>\n",
       "      <td>24</td>\n",
       "      <td>173</td>\n",
       "      <td>225</td>\n",
       "      <td>686</td>\n",
       "      <td>220</td>\n",
       "      <td>74</td>\n",
       "      <td>5</td>\n",
       "      <td>11</td>\n",
       "      <td>185</td>\n",
       "      <td>195</td>\n",
       "      <td>saab</td>\n",
       "    </tr>\n",
       "    <tr>\n",
       "      <th>...</th>\n",
       "      <td>...</td>\n",
       "      <td>...</td>\n",
       "      <td>...</td>\n",
       "      <td>...</td>\n",
       "      <td>...</td>\n",
       "      <td>...</td>\n",
       "      <td>...</td>\n",
       "      <td>...</td>\n",
       "      <td>...</td>\n",
       "      <td>...</td>\n",
       "      <td>...</td>\n",
       "      <td>...</td>\n",
       "      <td>...</td>\n",
       "      <td>...</td>\n",
       "      <td>...</td>\n",
       "      <td>...</td>\n",
       "      <td>...</td>\n",
       "      <td>...</td>\n",
       "      <td>...</td>\n",
       "    </tr>\n",
       "    <tr>\n",
       "      <th>837</th>\n",
       "      <td>94</td>\n",
       "      <td>46</td>\n",
       "      <td>77</td>\n",
       "      <td>169</td>\n",
       "      <td>60</td>\n",
       "      <td>8</td>\n",
       "      <td>158</td>\n",
       "      <td>42</td>\n",
       "      <td>20</td>\n",
       "      <td>148</td>\n",
       "      <td>181</td>\n",
       "      <td>373</td>\n",
       "      <td>181</td>\n",
       "      <td>67</td>\n",
       "      <td>12</td>\n",
       "      <td>2</td>\n",
       "      <td>193</td>\n",
       "      <td>199</td>\n",
       "      <td>saab</td>\n",
       "    </tr>\n",
       "    <tr>\n",
       "      <th>840</th>\n",
       "      <td>93</td>\n",
       "      <td>34</td>\n",
       "      <td>66</td>\n",
       "      <td>140</td>\n",
       "      <td>56</td>\n",
       "      <td>7</td>\n",
       "      <td>130</td>\n",
       "      <td>51</td>\n",
       "      <td>18</td>\n",
       "      <td>120</td>\n",
       "      <td>151</td>\n",
       "      <td>251</td>\n",
       "      <td>114</td>\n",
       "      <td>62</td>\n",
       "      <td>5</td>\n",
       "      <td>29</td>\n",
       "      <td>201</td>\n",
       "      <td>207</td>\n",
       "      <td>opel</td>\n",
       "    </tr>\n",
       "    <tr>\n",
       "      <th>841</th>\n",
       "      <td>93</td>\n",
       "      <td>39</td>\n",
       "      <td>87</td>\n",
       "      <td>183</td>\n",
       "      <td>64</td>\n",
       "      <td>8</td>\n",
       "      <td>169</td>\n",
       "      <td>40</td>\n",
       "      <td>20</td>\n",
       "      <td>134</td>\n",
       "      <td>200</td>\n",
       "      <td>422</td>\n",
       "      <td>149</td>\n",
       "      <td>72</td>\n",
       "      <td>7</td>\n",
       "      <td>25</td>\n",
       "      <td>188</td>\n",
       "      <td>195</td>\n",
       "      <td>saab</td>\n",
       "    </tr>\n",
       "    <tr>\n",
       "      <th>843</th>\n",
       "      <td>106</td>\n",
       "      <td>54</td>\n",
       "      <td>101</td>\n",
       "      <td>222</td>\n",
       "      <td>67</td>\n",
       "      <td>12</td>\n",
       "      <td>222</td>\n",
       "      <td>30</td>\n",
       "      <td>25</td>\n",
       "      <td>173</td>\n",
       "      <td>228</td>\n",
       "      <td>721</td>\n",
       "      <td>200</td>\n",
       "      <td>70</td>\n",
       "      <td>3</td>\n",
       "      <td>4</td>\n",
       "      <td>187</td>\n",
       "      <td>201</td>\n",
       "      <td>saab</td>\n",
       "    </tr>\n",
       "    <tr>\n",
       "      <th>844</th>\n",
       "      <td>86</td>\n",
       "      <td>36</td>\n",
       "      <td>78</td>\n",
       "      <td>146</td>\n",
       "      <td>58</td>\n",
       "      <td>7</td>\n",
       "      <td>135</td>\n",
       "      <td>50</td>\n",
       "      <td>18</td>\n",
       "      <td>124</td>\n",
       "      <td>155</td>\n",
       "      <td>270</td>\n",
       "      <td>148</td>\n",
       "      <td>66</td>\n",
       "      <td>0</td>\n",
       "      <td>25</td>\n",
       "      <td>190</td>\n",
       "      <td>195</td>\n",
       "      <td>saab</td>\n",
       "    </tr>\n",
       "  </tbody>\n",
       "</table>\n",
       "<p>429 rows × 19 columns</p>\n",
       "</div>"
      ],
      "text/plain": [
       "     compactness  circularity  distance_circularity  radius_ratio  \\\n",
       "2            104           50                   106           209   \n",
       "9             93           44                    98           197   \n",
       "11            90           34                    66           136   \n",
       "15            96           55                   103           201   \n",
       "18           104           54                   100           186   \n",
       "..           ...          ...                   ...           ...   \n",
       "837           94           46                    77           169   \n",
       "840           93           34                    66           140   \n",
       "841           93           39                    87           183   \n",
       "843          106           54                   101           222   \n",
       "844           86           36                    78           146   \n",
       "\n",
       "     pr.axis_aspect_ratio  max_length_aspect_ratio  scatter_ratio  \\\n",
       "2                      66                       10            207   \n",
       "9                      62                       11            183   \n",
       "11                     55                        6            123   \n",
       "15                     65                        9            204   \n",
       "18                     61                       10            216   \n",
       "..                    ...                      ...            ...   \n",
       "837                    60                        8            158   \n",
       "840                    56                        7            130   \n",
       "841                    64                        8            169   \n",
       "843                    67                       12            222   \n",
       "844                    58                        7            135   \n",
       "\n",
       "     elongatedness  pr.axis_rectangularity  max_length_rectangularity  \\\n",
       "2               32                      23                        158   \n",
       "9               36                      22                        146   \n",
       "11              54                      17                        118   \n",
       "15              32                      23                        166   \n",
       "18              31                      24                        173   \n",
       "..             ...                     ...                        ...   \n",
       "837             42                      20                        148   \n",
       "840             51                      18                        120   \n",
       "841             40                      20                        134   \n",
       "843             30                      25                        173   \n",
       "844             50                      18                        124   \n",
       "\n",
       "     scaled_variance_along_major_axis  scaled_variance_along_minor_axis  \\\n",
       "2                                 223                               635   \n",
       "9                                 202                               505   \n",
       "11                                148                               224   \n",
       "15                                227                               624   \n",
       "18                                225                               686   \n",
       "..                                ...                               ...   \n",
       "837                               181                               373   \n",
       "840                               151                               251   \n",
       "841                               200                               422   \n",
       "843                               228                               721   \n",
       "844                               155                               270   \n",
       "\n",
       "     scaled_radius_of_gyration  skewness_about_major_axis  \\\n",
       "2                          220                         73   \n",
       "9                          152                         64   \n",
       "11                         118                         65   \n",
       "15                         246                         74   \n",
       "18                         220                         74   \n",
       "..                         ...                        ...   \n",
       "837                        181                         67   \n",
       "840                        114                         62   \n",
       "841                        149                         72   \n",
       "843                        200                         70   \n",
       "844                        148                         66   \n",
       "\n",
       "     skewness_about_minor_axis  kurtosis_about_minor_axis  \\\n",
       "2                           14                          9   \n",
       "9                            4                         14   \n",
       "11                           5                         26   \n",
       "15                           6                          2   \n",
       "18                           5                         11   \n",
       "..                         ...                        ...   \n",
       "837                         12                          2   \n",
       "840                          5                         29   \n",
       "841                          7                         25   \n",
       "843                          3                          4   \n",
       "844                          0                         25   \n",
       "\n",
       "     kurtosis_about_major_axis  hollows_ratio class  \n",
       "2                          188            196  saab  \n",
       "9                          195            204  saab  \n",
       "11                         196            202  saab  \n",
       "15                         186            194  opel  \n",
       "18                         185            195  saab  \n",
       "..                         ...            ...   ...  \n",
       "837                        193            199  saab  \n",
       "840                        201            207  opel  \n",
       "841                        188            195  saab  \n",
       "843                        187            201  saab  \n",
       "844                        190            195  saab  \n",
       "\n",
       "[429 rows x 19 columns]"
      ]
     },
     "execution_count": 8,
     "metadata": {},
     "output_type": "execute_result"
    }
   ],
   "source": [
    "df_two_cars"
   ]
  },
  {
   "cell_type": "code",
   "execution_count": 9,
   "id": "2e90f89c",
   "metadata": {},
   "outputs": [],
   "source": [
    "def get_result(data,feature_engg = False):\n",
    "    \n",
    "    df = data.copy()\n",
    "    \n",
    "    if feature_engg:\n",
    "        df = df[imp_col]\n",
    "        \n",
    "    X = df.drop('class',axis=1)\n",
    "    y = df[['class']]\n",
    "\n",
    "    # Splitting the dataset into the Training set and Test set\n",
    "    X_train, X_test, y_train, y_test = train_test_split(X, y, test_size = 0.20, random_state = 42)\n",
    "\n",
    "    # Feature Scaling\n",
    "    sc = StandardScaler()\n",
    "    X_train = sc.fit_transform(X_train)\n",
    "    X_test = sc.transform(X_test)\n",
    "\n",
    "    # Fitting Decision Tree Classification to the Training set\n",
    "    classifier = DecisionTreeClassifier(criterion = 'entropy', random_state = 42)\n",
    "    classifier.fit(X_train, y_train)\n",
    "\n",
    "    # Predicting the Test set results\n",
    "    y_pred = classifier.predict(X_test)\n",
    "\n",
    "    # Making the Confusion Matrix\n",
    "    print(classification_report(y_test, y_pred))\n",
    "    cp = classification_report(y_test, y_pred,output_dict=True)\n",
    "    return cp"
   ]
  },
  {
   "cell_type": "markdown",
   "id": "dbec2ae9",
   "metadata": {},
   "source": [
    "# Without feature engineering"
   ]
  },
  {
   "cell_type": "markdown",
   "id": "71bbbb9d",
   "metadata": {},
   "source": [
    "# all_classes"
   ]
  },
  {
   "cell_type": "code",
   "execution_count": 10,
   "id": "f12f3b52",
   "metadata": {},
   "outputs": [
    {
     "name": "stdout",
     "output_type": "stream",
     "text": [
      "              precision    recall  f1-score   support\n",
      "\n",
      "         bus       0.98      0.94      0.96        52\n",
      "        opel       0.47      0.63      0.54        30\n",
      "        saab       0.68      0.54      0.60        48\n",
      "         van       0.93      0.97      0.95        40\n",
      "\n",
      "    accuracy                           0.78       170\n",
      "   macro avg       0.77      0.77      0.76       170\n",
      "weighted avg       0.80      0.78      0.78       170\n",
      "\n"
     ]
    }
   ],
   "source": [
    "all_class = get_result(df_all_classes)"
   ]
  },
  {
   "cell_type": "markdown",
   "id": "7666d865",
   "metadata": {},
   "source": [
    "# 3_classes"
   ]
  },
  {
   "cell_type": "code",
   "execution_count": 11,
   "id": "398be7c3",
   "metadata": {},
   "outputs": [
    {
     "name": "stdout",
     "output_type": "stream",
     "text": [
      "              precision    recall  f1-score   support\n",
      "\n",
      "         bus       0.98      0.96      0.97        52\n",
      "        opel       0.97      0.90      0.93        78\n",
      "         van       0.83      0.97      0.90        40\n",
      "\n",
      "    accuracy                           0.94       170\n",
      "   macro avg       0.93      0.94      0.93       170\n",
      "weighted avg       0.94      0.94      0.94       170\n",
      "\n"
     ]
    }
   ],
   "source": [
    "class3 = get_result(df_3_classes)"
   ]
  },
  {
   "cell_type": "markdown",
   "id": "3a818efa",
   "metadata": {},
   "source": [
    "# van_no_van"
   ]
  },
  {
   "cell_type": "code",
   "execution_count": 12,
   "id": "9268a391",
   "metadata": {},
   "outputs": [
    {
     "name": "stdout",
     "output_type": "stream",
     "text": [
      "              precision    recall  f1-score   support\n",
      "\n",
      "      No_van       0.95      0.95      0.95       130\n",
      "         van       0.85      0.82      0.84        40\n",
      "\n",
      "    accuracy                           0.92       170\n",
      "   macro avg       0.90      0.89      0.89       170\n",
      "weighted avg       0.92      0.92      0.92       170\n",
      "\n"
     ]
    }
   ],
   "source": [
    "vanNoVan = get_result(df_van_no_van)"
   ]
  },
  {
   "cell_type": "markdown",
   "id": "c14123da",
   "metadata": {},
   "source": [
    "# bus_no_bus"
   ]
  },
  {
   "cell_type": "code",
   "execution_count": 13,
   "id": "d7305378",
   "metadata": {},
   "outputs": [
    {
     "name": "stdout",
     "output_type": "stream",
     "text": [
      "              precision    recall  f1-score   support\n",
      "\n",
      "      No_bus       0.97      0.98      0.97       118\n",
      "         bus       0.96      0.92      0.94        52\n",
      "\n",
      "    accuracy                           0.96       170\n",
      "   macro avg       0.96      0.95      0.96       170\n",
      "weighted avg       0.96      0.96      0.96       170\n",
      "\n"
     ]
    }
   ],
   "source": [
    "busNobus = get_result(df_bus_no_bus)"
   ]
  },
  {
   "cell_type": "markdown",
   "id": "5c201e78",
   "metadata": {},
   "source": [
    "# two_cars"
   ]
  },
  {
   "cell_type": "code",
   "execution_count": 14,
   "id": "a5ef8c79",
   "metadata": {},
   "outputs": [
    {
     "name": "stdout",
     "output_type": "stream",
     "text": [
      "              precision    recall  f1-score   support\n",
      "\n",
      "        opel       0.64      0.65      0.64        43\n",
      "        saab       0.64      0.63      0.64        43\n",
      "\n",
      "    accuracy                           0.64        86\n",
      "   macro avg       0.64      0.64      0.64        86\n",
      "weighted avg       0.64      0.64      0.64        86\n",
      "\n"
     ]
    }
   ],
   "source": [
    "twoCar = get_result(df_two_cars)"
   ]
  },
  {
   "cell_type": "markdown",
   "id": "edb34532",
   "metadata": {},
   "source": [
    "# <font color='red'>For Table 1: Classification results [no feature selection]</font>"
   ]
  },
  {
   "cell_type": "code",
   "execution_count": 15,
   "id": "3445e273",
   "metadata": {},
   "outputs": [],
   "source": [
    "result_1 = pd.DataFrame([],columns = ['Classification Accuracy','Precision','Recall'])\n",
    "\n",
    "result_1.loc['all_classes'] = [all_class['accuracy'],all_class['weighted avg']['precision'],all_class['weighted avg']['recall']]\n",
    "result_1.loc['class3'] = [class3['accuracy'],class3['weighted avg']['precision'],class3['weighted avg']['recall']]\n",
    "result_1.loc['vanNoVan'] = [vanNoVan['accuracy'],vanNoVan['weighted avg']['precision'],vanNoVan['weighted avg']['recall']]\n",
    "result_1.loc['busNobus'] = [busNobus['accuracy'],busNobus['weighted avg']['precision'],busNobus['weighted avg']['recall']]\n",
    "result_1.loc['twoCar'] = [twoCar['accuracy'],twoCar['weighted avg']['precision'],twoCar['weighted avg']['recall']]"
   ]
  },
  {
   "cell_type": "code",
   "execution_count": 16,
   "id": "f0f6d39f",
   "metadata": {},
   "outputs": [
    {
     "data": {
      "text/html": [
       "<div>\n",
       "<style scoped>\n",
       "    .dataframe tbody tr th:only-of-type {\n",
       "        vertical-align: middle;\n",
       "    }\n",
       "\n",
       "    .dataframe tbody tr th {\n",
       "        vertical-align: top;\n",
       "    }\n",
       "\n",
       "    .dataframe thead th {\n",
       "        text-align: right;\n",
       "    }\n",
       "</style>\n",
       "<table border=\"1\" class=\"dataframe\">\n",
       "  <thead>\n",
       "    <tr style=\"text-align: right;\">\n",
       "      <th></th>\n",
       "      <th>Classification Accuracy</th>\n",
       "      <th>Precision</th>\n",
       "      <th>Recall</th>\n",
       "    </tr>\n",
       "  </thead>\n",
       "  <tbody>\n",
       "    <tr>\n",
       "      <th>all_classes</th>\n",
       "      <td>0.782353</td>\n",
       "      <td>0.795264</td>\n",
       "      <td>0.782353</td>\n",
       "    </tr>\n",
       "    <tr>\n",
       "      <th>class3</th>\n",
       "      <td>0.935294</td>\n",
       "      <td>0.941207</td>\n",
       "      <td>0.935294</td>\n",
       "    </tr>\n",
       "    <tr>\n",
       "      <th>vanNoVan</th>\n",
       "      <td>0.923529</td>\n",
       "      <td>0.922939</td>\n",
       "      <td>0.923529</td>\n",
       "    </tr>\n",
       "    <tr>\n",
       "      <th>busNobus</th>\n",
       "      <td>0.964706</td>\n",
       "      <td>0.964627</td>\n",
       "      <td>0.964706</td>\n",
       "    </tr>\n",
       "    <tr>\n",
       "      <th>twoCar</th>\n",
       "      <td>0.639535</td>\n",
       "      <td>0.639610</td>\n",
       "      <td>0.639535</td>\n",
       "    </tr>\n",
       "  </tbody>\n",
       "</table>\n",
       "</div>"
      ],
      "text/plain": [
       "             Classification Accuracy  Precision    Recall\n",
       "all_classes                 0.782353   0.795264  0.782353\n",
       "class3                      0.935294   0.941207  0.935294\n",
       "vanNoVan                    0.923529   0.922939  0.923529\n",
       "busNobus                    0.964706   0.964627  0.964706\n",
       "twoCar                      0.639535   0.639610  0.639535"
      ]
     },
     "execution_count": 16,
     "metadata": {},
     "output_type": "execute_result"
    }
   ],
   "source": [
    "result_1"
   ]
  },
  {
   "cell_type": "markdown",
   "id": "cf37fbf9",
   "metadata": {},
   "source": [
    "# with feature engineering\n",
    "#####################################################################################################"
   ]
  },
  {
   "cell_type": "markdown",
   "id": "d9b9180c",
   "metadata": {},
   "source": [
    "# all_classes"
   ]
  },
  {
   "cell_type": "code",
   "execution_count": 17,
   "id": "9da5c467",
   "metadata": {},
   "outputs": [
    {
     "name": "stdout",
     "output_type": "stream",
     "text": [
      "              precision    recall  f1-score   support\n",
      "\n",
      "         bus       0.94      0.87      0.90        52\n",
      "        opel       0.45      0.57      0.50        30\n",
      "        saab       0.60      0.54      0.57        48\n",
      "         van       0.83      0.85      0.84        40\n",
      "\n",
      "    accuracy                           0.72       170\n",
      "   macro avg       0.70      0.71      0.70       170\n",
      "weighted avg       0.73      0.72      0.72       170\n",
      "\n"
     ]
    }
   ],
   "source": [
    "all_class = get_result(df_all_classes,True)"
   ]
  },
  {
   "cell_type": "markdown",
   "id": "7bfc1f4a",
   "metadata": {},
   "source": [
    "# 3_classes"
   ]
  },
  {
   "cell_type": "code",
   "execution_count": 18,
   "id": "f36adf3b",
   "metadata": {},
   "outputs": [
    {
     "name": "stdout",
     "output_type": "stream",
     "text": [
      "              precision    recall  f1-score   support\n",
      "\n",
      "         bus       0.91      0.92      0.91        52\n",
      "        opel       0.86      0.85      0.85        78\n",
      "         van       0.80      0.80      0.80        40\n",
      "\n",
      "    accuracy                           0.86       170\n",
      "   macro avg       0.85      0.86      0.86       170\n",
      "weighted avg       0.86      0.86      0.86       170\n",
      "\n"
     ]
    }
   ],
   "source": [
    "class3 = get_result(df_3_classes,True)"
   ]
  },
  {
   "cell_type": "markdown",
   "id": "9459a82d",
   "metadata": {},
   "source": [
    "# van_no_van"
   ]
  },
  {
   "cell_type": "code",
   "execution_count": 19,
   "id": "c31139f9",
   "metadata": {},
   "outputs": [
    {
     "name": "stdout",
     "output_type": "stream",
     "text": [
      "              precision    recall  f1-score   support\n",
      "\n",
      "      No_van       0.92      0.95      0.93       130\n",
      "         van       0.81      0.72      0.76        40\n",
      "\n",
      "    accuracy                           0.89       170\n",
      "   macro avg       0.86      0.84      0.85       170\n",
      "weighted avg       0.89      0.89      0.89       170\n",
      "\n"
     ]
    }
   ],
   "source": [
    "vanNoVan = get_result(df_van_no_van,True)"
   ]
  },
  {
   "cell_type": "markdown",
   "id": "3084b60c",
   "metadata": {},
   "source": [
    "# bus_no_bus"
   ]
  },
  {
   "cell_type": "code",
   "execution_count": 20,
   "id": "98808278",
   "metadata": {},
   "outputs": [
    {
     "name": "stdout",
     "output_type": "stream",
     "text": [
      "              precision    recall  f1-score   support\n",
      "\n",
      "      No_bus       0.96      0.96      0.96       118\n",
      "         bus       0.90      0.90      0.90        52\n",
      "\n",
      "    accuracy                           0.94       170\n",
      "   macro avg       0.93      0.93      0.93       170\n",
      "weighted avg       0.94      0.94      0.94       170\n",
      "\n"
     ]
    }
   ],
   "source": [
    "busNobus = get_result(df_bus_no_bus,True)"
   ]
  },
  {
   "cell_type": "markdown",
   "id": "c9a8f699",
   "metadata": {},
   "source": [
    "# two_cars"
   ]
  },
  {
   "cell_type": "code",
   "execution_count": 21,
   "id": "b731554d",
   "metadata": {},
   "outputs": [
    {
     "name": "stdout",
     "output_type": "stream",
     "text": [
      "              precision    recall  f1-score   support\n",
      "\n",
      "        opel       0.59      0.60      0.60        43\n",
      "        saab       0.60      0.58      0.59        43\n",
      "\n",
      "    accuracy                           0.59        86\n",
      "   macro avg       0.59      0.59      0.59        86\n",
      "weighted avg       0.59      0.59      0.59        86\n",
      "\n"
     ]
    }
   ],
   "source": [
    "twoCar = get_result(df_two_cars,True)"
   ]
  },
  {
   "cell_type": "markdown",
   "id": "1c85bb46",
   "metadata": {},
   "source": [
    "# <font color='red'>For Table 1: Classification results [with feature selection]</font>"
   ]
  },
  {
   "cell_type": "code",
   "execution_count": 22,
   "id": "a923db36",
   "metadata": {},
   "outputs": [],
   "source": [
    "result_2 = pd.DataFrame([],columns = ['Classification Accuracy','Precision','Recall'])\n",
    "\n",
    "result_2.loc['all_classes'] = [all_class['accuracy'],all_class['weighted avg']['precision'],all_class['weighted avg']['recall']]\n",
    "result_2.loc['class3'] = [class3['accuracy'],class3['weighted avg']['precision'],class3['weighted avg']['recall']]\n",
    "result_2.loc['vanNoVan'] = [vanNoVan['accuracy'],vanNoVan['weighted avg']['precision'],vanNoVan['weighted avg']['recall']]\n",
    "result_2.loc['busNobus'] = [busNobus['accuracy'],busNobus['weighted avg']['precision'],busNobus['weighted avg']['recall']]\n",
    "result_2.loc['twoCar'] = [twoCar['accuracy'],twoCar['weighted avg']['precision'],twoCar['weighted avg']['recall']]"
   ]
  },
  {
   "cell_type": "code",
   "execution_count": 23,
   "id": "60efc93a",
   "metadata": {},
   "outputs": [
    {
     "data": {
      "text/html": [
       "<div>\n",
       "<style scoped>\n",
       "    .dataframe tbody tr th:only-of-type {\n",
       "        vertical-align: middle;\n",
       "    }\n",
       "\n",
       "    .dataframe tbody tr th {\n",
       "        vertical-align: top;\n",
       "    }\n",
       "\n",
       "    .dataframe thead th {\n",
       "        text-align: right;\n",
       "    }\n",
       "</style>\n",
       "<table border=\"1\" class=\"dataframe\">\n",
       "  <thead>\n",
       "    <tr style=\"text-align: right;\">\n",
       "      <th></th>\n",
       "      <th>Classification Accuracy</th>\n",
       "      <th>Precision</th>\n",
       "      <th>Recall</th>\n",
       "    </tr>\n",
       "  </thead>\n",
       "  <tbody>\n",
       "    <tr>\n",
       "      <th>all_classes</th>\n",
       "      <td>0.717647</td>\n",
       "      <td>0.731559</td>\n",
       "      <td>0.717647</td>\n",
       "    </tr>\n",
       "    <tr>\n",
       "      <th>class3</th>\n",
       "      <td>0.858824</td>\n",
       "      <td>0.858538</td>\n",
       "      <td>0.858824</td>\n",
       "    </tr>\n",
       "    <tr>\n",
       "      <th>vanNoVan</th>\n",
       "      <td>0.894118</td>\n",
       "      <td>0.891474</td>\n",
       "      <td>0.894118</td>\n",
       "    </tr>\n",
       "    <tr>\n",
       "      <th>busNobus</th>\n",
       "      <td>0.941176</td>\n",
       "      <td>0.941176</td>\n",
       "      <td>0.941176</td>\n",
       "    </tr>\n",
       "    <tr>\n",
       "      <th>twoCar</th>\n",
       "      <td>0.593023</td>\n",
       "      <td>0.593074</td>\n",
       "      <td>0.593023</td>\n",
       "    </tr>\n",
       "  </tbody>\n",
       "</table>\n",
       "</div>"
      ],
      "text/plain": [
       "             Classification Accuracy  Precision    Recall\n",
       "all_classes                 0.717647   0.731559  0.717647\n",
       "class3                      0.858824   0.858538  0.858824\n",
       "vanNoVan                    0.894118   0.891474  0.894118\n",
       "busNobus                    0.941176   0.941176  0.941176\n",
       "twoCar                      0.593023   0.593074  0.593023"
      ]
     },
     "execution_count": 23,
     "metadata": {},
     "output_type": "execute_result"
    }
   ],
   "source": [
    "result_2"
   ]
  },
  {
   "cell_type": "code",
   "execution_count": null,
   "id": "f135f1c5",
   "metadata": {},
   "outputs": [],
   "source": []
  }
 ],
 "metadata": {
  "kernelspec": {
   "display_name": "Python 3 (ipykernel)",
   "language": "python",
   "name": "python3"
  },
  "language_info": {
   "codemirror_mode": {
    "name": "ipython",
    "version": 3
   },
   "file_extension": ".py",
   "mimetype": "text/x-python",
   "name": "python",
   "nbconvert_exporter": "python",
   "pygments_lexer": "ipython3",
   "version": "3.9.12"
  }
 },
 "nbformat": 4,
 "nbformat_minor": 5
}
