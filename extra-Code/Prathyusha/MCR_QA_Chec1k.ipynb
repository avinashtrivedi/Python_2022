{
 "cells": [
  {
   "cell_type": "code",
   "execution_count": 1,
   "metadata": {},
   "outputs": [],
   "source": [
    "from docx import *"
   ]
  },
  {
   "cell_type": "code",
   "execution_count": 2,
   "metadata": {},
   "outputs": [],
   "source": [
    "document = Document('MCR Ready for Second Legal Review - Cluster 1 - PSDR - Advertising and Solicitation - Deposit and or Investment Products_Modified.docx')"
   ]
  },
  {
   "cell_type": "markdown",
   "metadata": {},
   "source": [
    "# Bold"
   ]
  },
  {
   "cell_type": "code",
   "execution_count": 3,
   "metadata": {},
   "outputs": [
    {
     "name": "stdout",
     "output_type": "stream",
     "text": [
      "advertising\n",
      "connection\n",
      "advertising a prominent disclosure\n"
     ]
    }
   ],
   "source": [
    "for paragraph in document.paragraphs:\n",
    "    for run in paragraph.runs:\n",
    "        if run.bold:\n",
    "            print(run.text)"
   ]
  },
  {
   "cell_type": "markdown",
   "metadata": {},
   "source": [
    "# Italic"
   ]
  },
  {
   "cell_type": "code",
   "execution_count": 4,
   "metadata": {},
   "outputs": [
    {
     "name": "stdout",
     "output_type": "stream",
     "text": [
      "sale of insurance clearly\n",
      "obtain additional information\n"
     ]
    }
   ],
   "source": [
    "for paragraph in document.paragraphs:\n",
    "    for run in paragraph.runs:\n",
    "        if run.italic:\n",
    "            print(run.text)"
   ]
  },
  {
   "cell_type": "markdown",
   "metadata": {},
   "source": [
    "# Color"
   ]
  },
  {
   "cell_type": "code",
   "execution_count": 5,
   "metadata": {},
   "outputs": [
    {
     "name": "stdout",
     "output_type": "stream",
     "text": [
      "lose value\n",
      "prominently display a notice \n"
     ]
    }
   ],
   "source": [
    "for paragraph in document.paragraphs:\n",
    "    for run in paragraph.runs:\n",
    "        if run.font.color.rgb:\n",
    "            print(run.text)"
   ]
  },
  {
   "cell_type": "code",
   "execution_count": 6,
   "metadata": {},
   "outputs": [],
   "source": [
    "# document.paragraphs[2].runs[0].italic"
   ]
  },
  {
   "cell_type": "markdown",
   "metadata": {},
   "source": [
    "# Flag cases where the full state name is used (the abbreviation is preferred)"
   ]
  },
  {
   "cell_type": "code",
   "execution_count": 7,
   "metadata": {},
   "outputs": [],
   "source": [
    "import spacy\n",
    "nlp = spacy.load('en_core_web_sm')"
   ]
  },
  {
   "cell_type": "code",
   "execution_count": 8,
   "metadata": {},
   "outputs": [],
   "source": [
    "fullText = []\n",
    "for para in document.paragraphs:\n",
    "    fullText.append(para.text)\n",
    "txt = '\\n'.join(fullText)\n",
    "\n",
    "import unicodedata\n",
    "txt = unicodedata.normalize(\"NFKD\", txt).replace(\"\\n\",' ')\n",
    "# txt"
   ]
  },
  {
   "cell_type": "code",
   "execution_count": 9,
   "metadata": {},
   "outputs": [],
   "source": [
    "def show_ent(doc):\n",
    "    for i in doc.ents:\n",
    "        if i.label_=='GPE' and not i.text.isupper():\n",
    "            print(i.text)"
   ]
  },
  {
   "cell_type": "code",
   "execution_count": 10,
   "metadata": {},
   "outputs": [
    {
     "name": "stdout",
     "output_type": "stream",
     "text": [
      "Florida\n",
      "New York\n"
     ]
    }
   ],
   "source": [
    "doc = nlp(txt)\n",
    "show_ent(doc)"
   ]
  },
  {
   "cell_type": "markdown",
   "metadata": {},
   "source": [
    "# No Reference to Federal Law or The Bank\n"
   ]
  },
  {
   "cell_type": "code",
   "execution_count": 11,
   "metadata": {},
   "outputs": [
    {
     "name": "stdout",
     "output_type": "stream",
     "text": [
      "'Federal Law' is not present\n",
      "'The bank' is not present\n"
     ]
    }
   ],
   "source": [
    "if txt.find('Federal Law')!=-1:\n",
    "    print(\"'Federal Law' is present\")\n",
    "else:\n",
    "    print(\"'Federal Law' is not present\")\n",
    "    \n",
    "    \n",
    "if txt.find('The bank')!=-1:\n",
    "    print(\"'The bank' is present\")\n",
    "else:\n",
    "    print(\"'The bank' is not present\")    "
   ]
  },
  {
   "cell_type": "code",
   "execution_count": 12,
   "metadata": {},
   "outputs": [],
   "source": [
    "from docx import *\n",
    "import unicodedata\n",
    "\n",
    "document = Document('MCR Ready for Second Legal Review - Cluster 1 - PSDR - Advertising and Solicitation - Deposit and or Investment Products_Modified.docx')\n",
    "\n",
    "fullText = []\n",
    "for para in document.paragraphs:\n",
    "    fullText.append(para.text)\n",
    "txt = ' '.join(fullText)\n",
    "txt = unicodedata.normalize(\"NFKD\", txt)\n",
    "txt = txt.lower()\n",
    "# txt\n"
   ]
  },
  {
   "cell_type": "markdown",
   "metadata": {},
   "source": [
    "# The MCR should not include the word \"may\", or \"should\""
   ]
  },
  {
   "cell_type": "code",
   "execution_count": 13,
   "metadata": {},
   "outputs": [
    {
     "name": "stdout",
     "output_type": "stream",
     "text": [
      "Count of may/May/MAY. etc : 2\n",
      "Count of should,Should. etc : 0\n"
     ]
    }
   ],
   "source": [
    "print('Count of may/May/MAY. etc :',txt.count('may'))\n",
    "\n",
    "print('Count of should,Should. etc :',txt.count('should'))"
   ]
  },
  {
   "cell_type": "markdown",
   "metadata": {},
   "source": [
    "# The same date format should be applied across all Effective Dates"
   ]
  },
  {
   "cell_type": "code",
   "execution_count": 14,
   "metadata": {},
   "outputs": [
    {
     "name": "stdout",
     "output_type": "stream",
     "text": [
      "WRONG FORMAT DATE: 12-21-2020\n"
     ]
    }
   ],
   "source": [
    "import re\n",
    "\n",
    "d = txt.split('effective date')[1:]\n",
    "pattern = \"((jan(uary)?|feb(ruary)?|mar(ch)?|apr(il)?|may|jun(e)?|jul(y)?|aug(ust)?|sep(tember)?|oct(ober)?|nov(ember)?|dec(ember)?)\\s+\\d{1,2},\\s+\\d{4})\"\n",
    "for i in range(len(d)):\n",
    "    line = d[i].split()[:1][0].replace('.','')\n",
    "    \n",
    "    if len(line)==10:\n",
    "        date = re.findall(r'(\\d{2})/(\\d{2})/(\\d{4})',line)\n",
    "        if len(date)==0:\n",
    "            print('WRONG FORMAT DATE:',line)\n",
    "    else:\n",
    "        line = ' '.join(d[i].split()[:3]).replace('.','')\n",
    "        date = re.search(pattern,line)\n",
    "        if not date:\n",
    "            print('WRONG FORMAT DATE:',line)"
   ]
  },
  {
   "cell_type": "code",
   "execution_count": null,
   "metadata": {},
   "outputs": [],
   "source": []
  }
 ],
 "metadata": {
  "kernelspec": {
   "display_name": "Python 3",
   "language": "python",
   "name": "python3"
  },
  "language_info": {
   "codemirror_mode": {
    "name": "ipython",
    "version": 3
   },
   "file_extension": ".py",
   "mimetype": "text/x-python",
   "name": "python",
   "nbconvert_exporter": "python",
   "pygments_lexer": "ipython3",
   "version": "3.8.5"
  }
 },
 "nbformat": 4,
 "nbformat_minor": 4
}
