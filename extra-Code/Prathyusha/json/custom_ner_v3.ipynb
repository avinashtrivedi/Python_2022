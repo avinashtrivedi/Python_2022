{
 "cells": [
  {
   "cell_type": "code",
   "execution_count": 3,
   "id": "770606cc",
   "metadata": {},
   "outputs": [],
   "source": [
    "import json\n",
    "import os"
   ]
  },
  {
   "cell_type": "code",
   "execution_count": 4,
   "id": "c7f00f66",
   "metadata": {},
   "outputs": [],
   "source": [
    "files = [i for i in os.listdir() if i.endswith('.json')]"
   ]
  },
  {
   "cell_type": "code",
   "execution_count": 5,
   "id": "ac22e344",
   "metadata": {},
   "outputs": [
    {
     "name": "stdout",
     "output_type": "stream",
     "text": [
      "0004.json\n",
      "0010_aman.json\n",
      "0010_shahnaaz.json\n",
      "0010_silpa (1).json\n",
      "0010_silpa.json\n",
      "train.json\n"
     ]
    }
   ],
   "source": [
    "train_data = []\n",
    "\n",
    "for file in files:\n",
    "    \n",
    "    with open(file,encoding='utf8') as fp:\n",
    "        data = json.load(fp)\n",
    "        \n",
    "    try:\n",
    "        \n",
    "        for dat in data:\n",
    "            mylst = []\n",
    "            for info in dat['annotations'][0]['result']:\n",
    "                s = info['value']['start']\n",
    "                e = info['value']['end']\n",
    "                ent = info['value']['labels'][0]\n",
    "                mylst.append((s,e,ent))\n",
    "\n",
    "            train_data.append((data[0]['data']['text'],{'entities':mylst}))\n",
    "    except:\n",
    "        print(file)"
   ]
  },
  {
   "cell_type": "code",
   "execution_count": 16,
   "id": "3211ba4c",
   "metadata": {},
   "outputs": [],
   "source": [
    "# data[0]['annotations'][0]['result'][0]['value']"
   ]
  },
  {
   "cell_type": "code",
   "execution_count": 6,
   "id": "e7dffb8d",
   "metadata": {},
   "outputs": [],
   "source": [
    "import json\n",
    "\n",
    "with open('train.json', 'w') as fp:\n",
    "    json.dump(train_data, fp)"
   ]
  },
  {
   "cell_type": "code",
   "execution_count": 8,
   "id": "be96b7ac",
   "metadata": {},
   "outputs": [
    {
     "data": {
      "text/plain": [
       "('Statement of Work Voorhees Cleaning Schedule- Pinnacle Building Services Inc. Summary Fidelity Information Services, LLC (“FIS”) is engaging Pinnacle Building Services, Inc. (“Pinnacle” or \"Supplier\") to provide professional cleaning services to the FIS Voorhees location in New Jersey. General Information Currency: USD Estimated Budget Amount (USD): 3 Year Term: Year 1: Year 2: Year 3: $157,896.48 $49,029.24 $52,599.84 $56,267.40 Work Location: Voorhees, New Jersey Timeline Estimated Start Date: 06/01/2019 Estimated End Date: 05/31/2022 Owner Information Owner: Edward Kelly Purchase Order #: 184010068103 Purchase Order Amount: $157,896.48 USD Vendor Information Supplier: Pinnacle Building Services, Inc. Point of Contact: Robert White Terms 1 Engagement Terms & Governance 1.1 This Statement of Work (“SOW”) defines services (“Services”) to be performed for and Work to be delivered on an individual project basis to FIS by Supplier under the FIS Independent Contractor Agreement (the “Agreement”) dated June 17, 2019. This SOW agreement is governed by, incorporated into, and made part of the terms and conditions of the Agreement. In the event of any conflict between the Confidential Voorhees Cleaning Schedule- Pinnacle Building Services, Inc. Page 2 of 7 SOW and the Agreement the SOW will prevail, solely to the extent of the inconsistency. The terms of this SOW are limited to the scope of this SOW and shall not be applicable to any other SOWs which may be executed and attached to the Agreement. Any references in this SOW to specific sections in the Agreement are solely for the convenience of the parties and are not intended to modify the Agreement. If the parties wish to modify any provisions of the Agreement, such modifications must be clearly stated, specifying the sections to be modified and how they are to be modified. Any such modifications shall apply only with respect to this SOW, and shall not affect any other existing or future SOWs. 2 Contract Change Management 2.1 The total scope of work for the project is defined in this SOW. FIS or Supplier may request specific changes to the original scope of work, at any time using a formal Change Request. All Change Request details will will include the following aspects: Cost, Schedule, Quality and Resource Load. The Change Request must provide reasonable details of the proposed change(s) and, if possible, the party\\'s estimate of the effect (if any) of the proposed change(s) on the professional services fees, delivery dates, the manpower required and any other aspect of the Services for each Change Request. The receiving party will respond within 7 days of receipt of the Change Request, indicating whether or not it accepts the proposed change(s), and giving its own estimate of the effects which the proposed change(s) will have (including any costs and timing issues expected to arise in connection with evaluating the Change Request). Each party will respond to all further correspondence within 7 calendar days of receipt of previous correspondence. Neither party shall have any obligation respecting any proposed change(s) until an appropriate change order and resulting amendment to this SOW is executed by both parties. 3 Transition Assistance 3.1 In the event that Supplier is unable to complete the contracted SOW services, the Supplier on this SOW shall work with Client to expedite an orderly transfer of services to the new assuming Supplier. 4 Services 4.1 Daily Services Pinnacle’s employees shall perform the following duties on a weekly basis: A. COMMAND CENTER REMOVE TRASH AND GENERAL CLEANUP B. MAIN RESTROOMS Confidential Voorhees Cleaning Schedule- Pinnacle Building Services, Inc. Page 3 of 7 REMOVE TRASH, REFILL DISPENSERS, RESTOCK PAPER PRODUCTS, REMOVE DUST FROM HORIZONTAL SURFACES, CLEAN ANO DISINFECT, ALL UNITS, CLE AN MIRROR, CLEAN CHROME ACCESSORIES, CLEAN SINK, SCRUB CLEAN TOILETS & URINALS, SPOT CLEAN WALLS & PARTITIONS, MOP FLOOR WITH DISINFECTANT, AND POUR DISINFECTANT DOWN FLOOR DRAINS. C. CAFETERIA REMOVE TRASH, REFILL DISPENSERS AND RESTOCK PAPER PRODUCTS, REMOVE OUST FROM HORIZONTAL SURFACES, CLEAN AND DISINFECT ALL TABLES AND COUNTERS, CLEAN SINK, MOP FLOOR, VACUUM RUG; SPOT CLEAN WALLS; CLEAN APPLIANCES AND VERIFY CLEANLINESS OF CONFERENCE ROOMS D. HALLWAYS REMOVE DUST FROM HORIZONTAL SURFACES, SPOT CLEAN WALLS, SWEEP AND MOP FLOOR E. LOBBY REMOVE TRASH, SWEEP AND MOP FLOOR, REMOVE DUST FROM HORIZONTAL SURFACES, VACUUM/SWEEP MATS, CLEAN DOORS AND WINDOWS, EMPTY ENTRANCE RECEPTACLES, REPLACE BURNT OUT LIGHT BULBS AND ENSURE NO TRASH HAS ACCUMULATED AT ENTRANCE DOORWAY. F. LOADING DOCK DUMPSTER AREA CLEAN AND ENCLOSURE DOORS CLOSED, CARDBOARD DUMPSTER NOT OVERFLOWING, RECYCLE BINS ORDERLY SWEEP DOCK, REMOVE ANY TRASH BLOWN INTO DOCK AREA, EMPTY ENTRANCE RECEPTACLES AND REMOVE ANY STANDING WATER. G. OFFICE SPACE REMOVE TRASH, AND EMPTY RECYCLE CANS H. SINGLE RESTROOMS REMOVE TRASH, REFILL DISPENSERS, RESTOCK PAPER PRODUCTS, REMOVE DUST FROM HORIZONTAL SURFACES, CLEAN AND DISINFECT ALL UNITS, CLEAN MIRROR, CLEAN SINK, SCRUB CLEAN TOILETS, SPOT CLEAN WAL.LS, MOP FLOOR WITH DISINFECTANT, AND POUR DISINFECTANT INTO FLOOR DRAINS I. MAIN RESTROOMS (AFTERNOON) REMOVE TRASH, CLEAN AND DISINFECT ALL UNITS, CLEAN MIRROR, CLEAN SINK, SCRUB CLEAN TOILETS & URINALS AND MOP FLOOR WITH DISINFECTANT J. COMMAND CENTER (AFTERNOON} REMOVE TRASH AND GENERAL CLEANUP 4.2 Weekly Services Pinnacle’s employees shall perform the following duties on a weekly basis: Confidential Voorhees Cleaning Schedule- Pinnacle Building Services, Inc. Page 4 of 7 MONDAY I. PREPARE CARDBOARD FOR PICKUP II. FEP ROOM REMOVE TRASH, REMOVE DUST FROM HORIZONTAL SURFACES, CLEAN AIR VENTS, REPLACE BURNT OUT BULBS, SWEEP AND MOP FLOOR III. NETWORK CONTROL REMOVE TRASH, REMOVE DUST FROM HORIZONTAL SURFACES, CLEAN AIR VENTS, REPLACE BURNT OUT BULBS, SWEEP AND MOP FLOOR IV. TAPE OPERATIONS REMOVE TRASH, REMOVE DUST FROM HORIZONTAL SURFACES, CLEAN AIR VENTS, REPLACE BURNT OUT BULBS, SWEEP AND MOP FLOOR V. EMPTY ALL RECYCLE TRASH CANS IN BUILDING VI. MAIL/SHIPPING ROOM REMOVE TRASH, REMOVE OUST FROM HORIZONTAL SURFACES, CLEAN AIR VENTS, REPLACE BURNT OUT BULBS, SWEEP AND MOP FLOOR TUESDAY I. EXTERIOR REMOVE ANY TRASH IN LAWN & P ARKING LOT, CLEAN PICNIC AREA AND CLEAN EXTERIOR ENTRANCE GLASS II. ELECTRICAL ROOM REMOVE TRASH, REMOVE OUST FROM HORIZONTAL SURFACES, REPLACE BURNT OUT BULBS, SWEEP AND MOP FLOOR III. MANAGED HOSTING AREAS #1 & #2 REMOVE TRASH, REMOVE DUST FROM HORIZONTAL SURFACES, CLEAN AIR VENTS, REPLACE BURNT OUT BULBS, SWEEP ANO MOP FLOOR WEDNESDAY I. DATA CENTER REMOVE TRASH, REMOVE DUST FROM HORIZONTAL SURFACES, CLEAN AIR VENTS, REPLACE BURNT OUT BULBS, SWEEP AND MOP FLOOR, CLEAN OCC WINDOW THURSDAY I. EXTERIOR REMOVE ANY TRASH IN LAWN & PARKING LOT, CLEAN PICNIC AREA AND CLEAN EXTERIOR ENTRANCE GLASS II. MANAGED HOSTING AREA #4 REMOVE TRASH, REMOVE DUST FROM HORIZONTAL SURFACES, CLEAN AIR VENTS, REPLACE BURNT OUT BULBS, SWEEP ANO MOP FLOOR III. LOCKER ROOMS REMOVE TRASH, REMOVE DUST FROM HORIZONTAL SURFACES, CLEAN AIR VENTS, REPLACE BURNT OUT BULBS, SWEEP AND MOP FLOOR CLEAN ANO DISINFECT SHOWERS FRIDAY I. MANAGED HOSTING AREA #3 Confidential Voorhees Cleaning Schedule- Pinnacle Building Services, Inc. Page 5 of 7 REMOVE TRASH, REMOVE DUST FROM HORIZONTAL SURFACES, CLEAN AIR VENTS, REPLACE BURNT OUT BULBS, SWEEP AND MOP FLOOR II. 333/400 BLDGS CHECK CARDBOARD AND RECYCLE BINS III. ALL BLDGS INVENTORY CLEANING SUPPLIES, CAFETERIA SUPPLIES AND PAPER PRODUCTS. SUPPLY FACILITY MANAGER A LIST OF NEEDED SUPPLIES 5 Performance Management 5.1 Performance Management For the purposes of communicating performance expectations Supplier shall provide sufficient management to ensure the Services and deliverables are performed efficiently, accurately, on time, and in compliance with the requirements of this SOW and the Agreement. If there are any discrepancies, Supplier shall correct the discrepancies to FIS’s satisfaction. 6 Rates 6.1 Rates The services will be invoiced on a monthly basis by submitting invoices through Transcepta, at a rate of $4085.77 per month for the first year, $4383.32 per month for Year 2, and $4688.95 per month for Year 3. Expenses are not expected to be needed; however, if they are, written pre-approval is required prior to expense invoice submission. 7 Project Point of Contact 7.1 Supplier Contact The Pinnacle contact responsible for SOW delivery and the overall account management: Robert White bwhite@pimiacleservices.com 856-939-6880 Confidential Voorhees Cleaning Schedule- Pinnacle Building Services, Inc. Page 6 of 7 7.2 FIS Contact The FIS Contact responsible for engaging with Pinnacle’s timelines, assessing overall performance, and rendering approval of invoices submitted through Trancepta: Edward Kelly edward.kelly@fisglobal.com 609-238-5183 IN WITNESS WHEREOF, the parties have caused this Agreement to be executed by their duly authorized representatives. Date: July 31,2019 Print: Stefanie Capriola   Title: Supply Chain Manager  Confidential Voorhees Cleaning Schedule- Pinnacle Building Services, Inc. Page 7 of 7   ',\n",
       " {'entities': [(141, 174, 'Metadata Fields - Parties - Counterparty Name'),\n",
       "   (0, 17, 'Metadata Fields - Agreement Type'),\n",
       "   (478, 512, 'Metadata Fields - Effective Date'),\n",
       "   (512, 542, 'Metadata Fields - Expiry Date (Date format)'),\n",
       "   (478, 542, 'Metadata Fields - Term Type'),\n",
       "   (627, 647, 'Metadata Fields - Total Contract Value'),\n",
       "   (85, 128, 'Metadata Fields - Parties - Customer Legal Entity Name')]})"
      ]
     },
     "execution_count": 8,
     "metadata": {},
     "output_type": "execute_result"
    }
   ],
   "source": [
    "train_data[0]"
   ]
  },
  {
   "cell_type": "code",
   "execution_count": 18,
   "id": "89253a5e",
   "metadata": {},
   "outputs": [],
   "source": [
    "from __future__ import unicode_literals, print_function\n",
    "import plac\n",
    "import random\n",
    "from pathlib import Path\n",
    "import spacy\n",
    "from tqdm import tqdm "
   ]
  },
  {
   "cell_type": "code",
   "execution_count": 19,
   "id": "6ce79f7f",
   "metadata": {},
   "outputs": [
    {
     "name": "stderr",
     "output_type": "stream",
     "text": [
      "C:\\Users\\avitr\\anaconda3\\lib\\site-packages\\spacy\\util.py:833: UserWarning: [W095] Model 'en_core_web_lg' (3.0.0) was trained with spaCy v3.0 and may not be 100% compatible with the current version (3.2.3). If you see errors or degraded performance, download a newer compatible model or retrain your custom model with the current spaCy version. For more details and available updates, run: python -m spacy validate\n",
      "  warnings.warn(warn_msg)\n"
     ]
    }
   ],
   "source": [
    "nlp1 = spacy.load('en_core_web_lg')"
   ]
  },
  {
   "cell_type": "code",
   "execution_count": 20,
   "id": "ebaab98c",
   "metadata": {},
   "outputs": [],
   "source": [
    "model = None\n",
    "output_dir=Path(\"ner\")\n",
    "n_iter=100"
   ]
  },
  {
   "cell_type": "code",
   "execution_count": 21,
   "id": "97cd7d03",
   "metadata": {},
   "outputs": [
    {
     "name": "stdout",
     "output_type": "stream",
     "text": [
      "Created blank 'en' model\n"
     ]
    }
   ],
   "source": [
    "if model is not None:\n",
    "    nlp = spacy.load(model)  \n",
    "    print(\"Loaded model '%s'\" % model)\n",
    "else:\n",
    "    nlp = spacy.blank('en')  \n",
    "    print(\"Created blank 'en' model\")"
   ]
  },
  {
   "cell_type": "code",
   "execution_count": 28,
   "id": "e6a20cd2",
   "metadata": {},
   "outputs": [],
   "source": [
    "if 'ner' not in nlp.pipe_names:\n",
    "    ner = nlp.create_pipe('ner')\n",
    "    nlp.add_pipe(\"ner\", last=True)\n",
    "else:\n",
    "    ner = nlp.get_pipe('ner')"
   ]
  },
  {
   "cell_type": "code",
   "execution_count": 37,
   "id": "7cc8dc33",
   "metadata": {},
   "outputs": [],
   "source": [
    "# !python convert.py en train.json train.spacy"
   ]
  },
  {
   "cell_type": "code",
   "execution_count": 2,
   "id": "edf8a873",
   "metadata": {},
   "outputs": [],
   "source": [
    "# from spacy.training.example import Example\n",
    "\n",
    "# for batch in spacy.util.minibatch(train_data, size=2):\n",
    "#     for text, annotations in batch:\n",
    "#         # create Example\n",
    "#         doc = nlp.make_doc(text)\n",
    "#         example = Example.from_dict(doc, annotations)\n",
    "#         # Update the model\n",
    "#         nlp.update([example], losses=losses, drop=0.3)"
   ]
  },
  {
   "cell_type": "markdown",
   "id": "70ba5ba3",
   "metadata": {},
   "source": [
    "# CODE"
   ]
  },
  {
   "cell_type": "code",
   "execution_count": 46,
   "id": "9bb86e93",
   "metadata": {},
   "outputs": [
    {
     "data": {
      "text/plain": [
       "'DocuSign Envelope ID: 03581133-8B20-4C7B-88A3-3EAEF31A18BE ALLIANCE AND DISTRIBUTION AGREEMENT ), dated as of September 28, 2020 laware corporation (\"C3.ai\"), and ility company ( FIS ) on behalf of This All iance and Di stribution Agreement (the Ag (the Effective Date ), is by and between C3.ai, I Fidelity Information Services, LLC, an Arkansas lim itself and its Affiliates (each, a Party and, collectively, the Parti WHEREAS, th Parties wish to establish a strate gic business alliance and set forth the terms on work together to further their mutual benefit and create a framework for such cooperati on; WHEREAS, FIS wishes to obtain from C3.ai a platform subscription to the C3 AI S FIS-D eveloped Applications on the C3 AI Suite through the efforts of its own resou WHEREAS, FIS es to obtain certain full FIS-D eveloped Appli cat uivalent C3.ai res the C3 AI Suite to help FIS to of WHEREAS, FIS wishes to offer subscriptions, on a non-exclusive basis to the Named C3.a Appli FIS-B to FIS C the FIS Fi E NOW, THEREFORE, n consideration of the mutual covenants, terms, and conditions set forth herein, and for other good and valuable consideration, the receipt and sufficiency of which are ereby acknowledged, the parties agree as follows: 1. DEFINITIONS The following capitalized terms shall have the meanings set forth below: “Affi liate” means any entity that directly or indirectly is controlled by, or is under common control with, the subject entity. “Control,” for purposes of this definition, means direct or indirect ownership or control of more than 50% of the voting interests of the subject entity. “Approved Contract” means an agreement between FIS and an FIS Customer that contains provisions consistent with and no less protective of C3 and the amed C3 Appl ications, ded Offer ings, than those found in the agreements attached as Exhibit B (the plate Agreements ). Any material deviation from the Template Agreements shall require al in writing by C3.ai prior to FIS and any FIS C ustomer executing such agreement, which rebranded as FIS-Bi appro approval shall not be unreasonably withheld. “Beta Services” means C3.ai Services or functionality designated or marked by C3.ai as a beta, pilot, limited release, developer preview, non-production, evaluation or by similar description, that T C3 may make available to FIS at FIS s option. For clarity, Beta Services do not include updates upgrades to C3 Services that are offered generally to all subscribers as part of a new release or new version of such C3 ervice. S DocuSign Envelope ID: 03581133-8B20-4C7B-88A3-3EAEF31A18BE B D ay, York City required by Law to be closed for C3 AI Suite means a platform-as-a-service software solution for the design development, provisioning, and operating of big data, predictive analytics, AI loT behalf of C3.ai. F to the C3 AI Suite includes updates version of the C3 AI Suite. “C3.ai” means C3.ai, Inc. “C3.ai CoE FTE” means a 2000 person hours per annu C3.ai C3.ai irvices” means those support services, if any, identified as the Exhibit C hereto. “C3.ai Competitors” means the entities (including their personnel, officers, directors, contractors, subcontractors and agents) listed in Exhibit D, which may be revised upon mutual agreement by the P arties. “C3.ai Docu ment applicable C3.ai S [Customerenviron means any documentation made available by C3.ai for the at https:// Ad mi n/ “C3.ai Docum s” means (i) C3 AI S uite, N amed C3.ai A pplications, C3.ai Tools, C3.ai C3.ai’s Confidential Information, and the results of the C3.ai S upport ing Customer D ata ); (ii) C3.ai Pre-Ex isting M aterial modifications and derivative works thereof; and (iii) any and all other Property, including Intellectual Property Rights therein, developed by C3.ai to provide underlying features or capabilities in the C3 AI S uite enable specific capabilities in FIS-Developed Applications) or Named and any Inte ll ectual on behalf of C3.ai Appli C3.ai P lated lntellectual means C3.ai’s p Property Rights. Intellectual Pro perty, “C3.ai Runtime” means vCPU AI Suite, Named C3.ai Appl icat d vGPU usage in productio s and FIS-D eveloped Appl onments by the C3 (s) and does not “C3.ai Services” means individually and collectively, the C3 AI Suite, Named C3 Applications (including as rebranded and offered by FIS as the FIS-Branded Offer C3.ai S upport Services, C3.ai CoE Support Services, but excludes FIS-D eveloped Applications and Third Party Offerings (if any). © 2020 C3.ai, Inc. 2 C3.ai, Inc. CONFIDENTIAL DocuSign Envelope ID: 03581133-8B20-4C7B-88A3-3EAEF31A18BE “C3.ai Support Services” means the support services described in Exhibit E. “C3.ai Tools” means the development and integration tools that are provided with C3 AI Na med C3 Appl i cati ons. Center of Excellence or CoE means the Center of Excellence that C3 and FIS a establish hereunder to support the design, development and testing of FIS’Developed Appli by FIS its Affil iates. CoE IP means software, deliverables, and related documentation including any ntellectual Property therein, developed by C3.a CoE FTE in the course of supporting the design, coding, or software testing of FIS-D ped Appl ications and that is integrated into or otherwise related to such FIS-D eveloped Appl ications. For the avoidance of doubt, CoE IP excludes behalf of C3 outside the CoE and (b) C3.a anything conceived or developed by or on Materials. a Customer Data means all electronic data and electronic information in raw form, and any data that is derived from the raw electronic data and electronic information, submitted by for FIS FIS C ustomers to be processed on by the Named C3.a Appl ications or the C3 AI S uite and the computational results that FIS FIS C ustomers derive from the foregoing. “Data Processing Addendum” means the terms and conditions which facilitate C3.ai’s compliance with EU G eneral Data Protection Regulation ((EU) 2016/679) where applicable. “Data Security Technical Specification” means C3.ai’s cyber security program document made available to FIS, as may be updated from time to time by C3.a “Evaluation Period” means the period commencing on the Effective Date and ending on the date that is 180 days following the Effecti Date “First means support and trouble-shooting for nbound requests from Users and FIS C ustomers through channels like phone, website forms, email, chat, or other means relating to such tasks as password resets, account management, and all I IS specific issues (i.e., relating to FIS products and services that only have an ‘environmental’ impact on the C3.ai Appl ications). “FIS-Branded Ottering” means the Named C3.ai Applications, which shall be ‘white- labelled’ and offered to FIS Customers under the FIS brand. “FIS Com petitor” means the following companies: Broadridge, SS&C, HIS Markit, Ion T rading, E nvestnet, Fiserv, Global Pay ments, Jack Adyen, S quare, and SEI. T he foregoing list may be revised upon mutual agreement by the Parties. “FIS C ustomers” means a legal entity (such as a corporation) that is (i) a current or prospective customer of FIS FIS Affili not a C3.a Competitor. © 2020 C3.ai, Inc. 3 C3.ai, Inc. CONFIDENTIAL DocuSign Envelope ID: 03581133-8B20-4C7B-88A3-3EAEF31A18BE “ FIS-Developed Appl ications means any software, including all Intellectual Property therein, developed by FIS independently or with the design, development or testing assistance of the C3 CoE FTE but, for clarity, excluding any C3.a Materials. a “FIS Field” means the retail and institutional banking, payments, capital markets, asset management and wealth and retirement industries or other related industries serviced by FIS and its Affil iates. “FIS Named D means an employee or approved contractor or subcontractor of FIS its Aff iliates that provides software development services using FIS C3.a Appl ications C3 AI Suite or C3.a Tool if any, solely for the benefit of or its Affiliates provided, however, that no contractor or subcontractor of FIS its Affiliates may be designated as a FIS Named Developer or otherwise have access to any C3.a Materials if such contractor or subcontractor is an employee, contractor, subcontractor or agent of a C3.a Competitor. “H osting Services means the infrastructure and related services, including online data storage and computation services, provided by a third-party hosting service provider selected or approved by C3 .ai from time to time. Intellectual Property” means any and all intellectual and industrial property and tangible embodiments thereof, including, without limitation, inventions, discoveries, computer programs in machine readable object code form and source code form, compilations of data and computer databases, algorithms, scripts, templates, specifications, designs, methods, know-how, processes, trade secrets, confidential information, works of authorship, mask works and integrated circuit topographies, modifications and improvements. Intellectual Property Rights” means, collectively, all rights in, to and under patents, trade secret rights, copyrights, trademarks, service marks, moral rights and other similar rights of any type under the laws of any governmental authority, including without limitation rights in the applications and registrations relating to the foregoing. \"La means any statute, law, ordinance regulation, rule, code, order, constitution, treaty, common law, judgment, decree, or other requirement of any federal, state, local, or foreign government or political subdivision thereof, or any arbitrator, court, or tribunal of competent jurisdiction. “Malicious Code” means code, files, scripts, agents or programs intended to do harm, including, for example, viruses, worms, time bombs and Trojan horses. “Named C3.ai A pplications” means those certain hosted software applications developed by C3.a and related technical user documentation provided therewith, as listed on Exhibit A, which exhibit may be amended from time to time by mutual agreement of the Parties. Person\" means an individual, corporation, partnership, joint venture, limited liability entity, governmental authority, unincorporated organization, trust, association, or other entity. © 2020 C3.ai, Inc. 4 C3.ai, Inc. CONFIDENTIAL DocuSign Envelope ID: 03581133-8B20-4C7B-88A3-3EAEF31A18BE pect D for De monstration compl eted the training n stration means a demonstrati on of the capabilities of the FIS-B randed prospective FIS Customer, in which FIS (A) shall, if the Prospect cludes FIS-B randed Offerings, is provided by FIS personnel who have S ection 7.2(a) below; (B) shall, in any case, not change any security or other settings of the FIS-Branded Offerings in a manner that would provide any FIS C ustom Tools, and (C) for the FIS C FIS-B at the elusion of such demonstration (whic d etermined by FIS). For clarity, no P demonstration may vary pect D any rights, create any implied license any FIS-B randed Offerin an Approved Contract exec to the C3 length, assign or other right of any kind to the prospective FIS g or C3.ai Material, which may only be obtained uted by FIS with such prospective FIS C ustomer. P “Provision” or “Provisioning” means the process for on-boarding or establishing access to users of cloud-based software applications. Line Support means (A) escalations for technical support for Named C3.a Appli cations offered FIS-B any FIS-D loped Appli cations that FIS cannot resolve after performing its First L ne Support obligations and (B) support to FIS for its use of the C3 AI Suite “Subscribe” or “Subscribed” means FIS has timely paid all applicable fees agreed in this Agreem ent and is otherwise in compliance with its obligations under this Agreem ent. means the period commencing on the E “T leri (a) the date that is the third anniversary of the Y Evaluation Period, if the Agreement is terminated (c) the first anniversary of the Year 1 Start D ate if the A accordance with S ection 3.4(a)(i)(y), (d) or the date the A accordance with Section 15. ve Date and ending on the earlier of: 1 Start D ate, (b) the last day of the ccordance with S ection 3.4(a)(i)(x); “T hird Party that FIS licens \\' ing means any softw are or services (other than procures from a third party that FIS uses in conne interoperates with, any Named C3.ai Application or the C3 AI Suite. “User” means an individual employee, contractor or subcontractor of FIS, a FIS Customer or their respective Affiliates who is authorized by a FIS Customer to access or use a Subscribed C3.ai Service, and to whom FIS (or, when applicable, C3.ai at FIS’s or FIS Customer’s request) has supplied a user identification and password; provided that (A) no FIS C ustomer or its Affil iate ( subcontractors) may Contract, and (B) no be a U C3.ai Co mpetitor may be a their respective employees, contractors or ch FIS Customer has entered into an Approved “Year 1 Start Date” means the date following the last day of the Evaluation Period, unless the Agreement is terminated accordance with 3.4(a)(i)(x) © 2020 C3.ai, Inc. 5 C3.ai, Inc. CONFIDENTIAL DocuSign Envelope ID: 03581133-8B20-4C7B-88A3-3EAEF31A18BE 2. ROLES OF THE PARTIES 2.1 Business Intent. a. n addition to providing FIS the internal use subscription set forth in S ection 3.1(a) the G goal of the strategic business alliance between the Parties (the “Alliance”) is to allow FIS to develop, market and deliver the (i) Named C3.ai Appl FIS-B randed Offerings in the b. 2.2 FIS F ield and (ii) FIS-D loped Appl ications. Rol es. As provided in greater detail in Section 3 below, C3.ai will grant certain licenses to FIS and FIS shall offer subscriptions to the Named C3.ai Applications as FIS-Branded Offerings. Section 7.1 below, FIS shall provide First Line provide Second Line Su pport. As provided shall provide training to a dedicated FIS C3 AI Suite, the Named C3.ai Applications Support to in greater perations nd the FIS-D , as provided in greater detail all FIS C ustomer Users and C3.ai shall detail in Section 7.2(a) below, C3.ai team to install, monitor and manage the loped Appl ications. Freedom to Pursue O pportunities; Opportunity M nt, the Parties agree that C3.ai may pursu ed C3.ai Appl ications, C3.ai Services or of this A otwithstanding any other provision pportunities to provide the C3 AI s and services offered by C3.ai to financial services institutions without any compensation to FIS. Except as otherwise set forth in this Section 2.2, during the term of this Agreement, neither Party shall, without the express written consent of the other Party, use i nfo rmation obtained hereunder regarding the other Party s customers or prospects to solicit such prospect to terminate or curtail its relationship with the other Party. Withi n th irty (30) days after the Effective D ate the Parties shall agree on a mutually acceptable sales support model and process to manage sales opportunities and/or potential sales conflicts for the Named C3 Appl ications. Such process shall be mutually agreed upon in writing by the Parties. 2.3 Relationship of the Parties. Th is Agreement does not create a partnership, franchise, joint venture, agency, fiduciary or employment relationship between the Parties. Notwithstanding anything to the contrary herein, this Agreement does not interfere with or alter, any existing contractual obligations between each Party (or its affiliates) and its partners, clients, service providers and other third parties. 2.4 Nonsolic itat ion. During the erm and for a period of twelve (12) months following the end of the T Term or the earlier termination of the Agreement, as applicable, no employee of either Party, who has knowledge of the provisions of this Section 2.5, shall directly or indirectly solicit for employment or hire any of the other Party’s employees with whom they have had contact in connection with the Parties’ engagement under the Ag reement; provided, however, that nothing in this Agreement shall be deemed to © 2020 C3.ai, Inc. 6 C3.ai, Inc. CONFIDENTIAL DocuSign Envelope ID: 03581133-8B20-4C7B-88A3-3EAEF31A18BE prohibit any general solicitations of employment not directed solely to the employees of the other P. prevent each P arty from hiring any such person who contacts such Pa any solicitation by or encouragement from such Party (other than employees of the other Party). solicitations not directed solely to the 3. SUBSCRIPTIONS Subject to FIS’s ongoing compliance the 3.1 Agreement, including the timely payment of the applicable fees set to FIS a limited, nonexclusive, nontransferable, and non-sublicensable right (. 3.1(d) below) , in the FIS F ield, the T terms and conditions set forth in this forth in Section 3.3 below, C3.ai grants set forth in Section use the C3 AI Suite (in object code form only) in the FIS Hosting Services Account (as defined below) by the number of Named FIS Developers set forth in Section 3.3 below (and any additional Named FIS Developer subscriptions subsequently purchased by FIS) (i) for FIS’ internal business use and (ii) to develop and support FIS-Developed Applications in accordance with the C3.ai Docu m entat ion; b. use the tools accessible by Ex Machina within the C3 AI Suite (in object code form only) in the FIS H osting S ervices Account (as defined below) by the number of Ex Machina seats set forth in Section 3.3 below (and any additional I x Machina subscriptions purchased by FIS) (i) for FIS’ internal business use and (ii) to develop and support FIS-Developed Applications in accordance with the C3.ai Documentation; when ordered pursuant to an Approved Contract with a FIS Customer, install the Named C3 Applications to be rebranded as FIS-Branded Offerings or the FIS-Developed Applications in a FIS Customer H osting S ervices Account (as defined below); d. when ordered pursuant to an Approved Contract with a FIS Customer, permit (which includes the right to sublicense the Named C3 Applications and C3 AI Suite as necessary for distributing FIS-Branded Applications and/or FIS-Developed Applications to FIS Customers) an unlimited number of the FIS Customer Users to use, but not develop or modify, the FIS-B randed Offeri ngs or the FIS-D eveloped Appli cations in either (1) the FIS Hosting Services Account or (2) a FIS Customer Hosting Service Account fOr SUCh FIS Customer S OWn benefit; and incorporate the C3.ai Documentation, in whole or in part, into documentation for a FIS- Branded Offering or FIS-Developed Application, reproduce such quantities of the C3.ai D ocumentation as are necessary solely for purposes of such incorporation, and distribute to FIS Customer Users such C3.ai Docu mentation as incorporated in the FIS-B randed Offering or © 2020 C3.ai, Inc. 7 C3.ai, Inc. CONFIDENTIAL DocuSign Envelope ID: 03581133-8B20-4C7B-88A3-3EAEF31A18BE FIS-D eveloped Appi ication documentation (each of the foregoing ite m s (a) through (d), Pe r m itted Pu rpose The C3 AI S to FIS solely Agreement. l ated C3.ai D ite and Named C3.ai Appl for the Permitte d P urpose under the express terms of the licenses granted in this Except for the limited rights and licenses expressly granted under this Agreement, nothing in this Agreement grants, by implication, waiver, estoppel, or otherwise, to FIS or any third pa rty any Intellectual Property Rights or other right, title, or interest in or to the C3 AI Suite, the Named C3.ai Applications or any other Intellectual Property of C3.ai. All Agreement of the terms \"sell,\" \"sale,\" \"resell,\" \"resale,\" \"purchase,\" \"price,\" and the like mean the of FIS, under this Ag reement; and (b) in the case the Approved C ontract. express terms of the this of FIS C subscriptio n : (a) i FIS Customer Us 3.2 Deployment En vironments. FIS Development En vironment.  Within 72 hours of the Effective Date, C3.ai will provide a URL to permit Named FIS Developers to access the C3 AI Suite and, within 72 hours of written request by FIS, C3.ai will provide a URL to permit FIS to access the requested Named C3.ai Applications, in each case in C3.ai S Hosting ScrVlCCS pfOVldCr account with M icrosoft Azure ( C3.a i Hosting Services Account ) for the purposes of downloading and installing the C3 AI Suite and Named C3.ai Applications into FIS’ H osting Services account contracted by FIS directly with either M icrosoft, Amazon or Google ( FIS Hosting Services Account ). The C3 AI Suite will be deemed accepted on the delivery of the URL described above and the Named C3.ai Application will be deemed accepted on FIS’s download and installation of such Named C3.ai A pplication. FIS will comply with all obligations in Exhibit F (the “Ope rational Control ). C3.ai s obligations Under this Agreement are contingent upon FIS’ compliance with the Operational Control and Section 5 below. b. FIS C ustomer E Within 72 hours of the written request from FIS providing C3.ai with an Approved Contract with a FIS Customer, C3.ai will provide a URL to FIS to permit FIS to access the N amed C3.ai Applications in the C3.ai H osting S ervices Account until an instance of the C3 AI Suite and Named C3.ai Applications are installed in either (i) the FIS Hosting Services Account or (ii) a Hosting Services account contracted by the FIS Customer directly with M icrosoft (“FIS Custo mer H osting Services A Approved Contract. The Named C3 Applications will be deemed accepted on the delivery of the URL described above. FIS shall cause the FIS Customer to comply with all obligations in the O perational Contro l. C3.ai’s obligations are contingent upon FIS’ and the FIS Customer’s compliance with the Operational Control and Section 5 below. in the Hosting Services Fees. Fees for the Hosting Services (“Hosting Services Fees”) in the C3.ai Hosting Services Account (e.g., the environments set up in Sections 3.2(a) and 3.2(b)), if © 2020 C3.ai, Inc. 8 C3.ai, Inc. CONFIDENTIAL DocuSign Envelope ID: 03581133-8B20-4C7B-88A3-3EAEF31A18BE applicable, are not included any other fees be paid by FIS at cost on a pass-through basis at the rate charged by the Hosting Services provider (i.e C3.ai will nvoice FIS for any n the C3 Mi monthly n arrears .ai shall not be responsible for any Hosting Services Fees payable for the 3.3 F FIS Hosting Serv C3 f FIS each of which FIS C ustomer as applicable. shall be the so e responsibility n G Under this Ag S Table 1 are based on C3 ces subscriptions purchased and cannot be decreased during the er m even if the actual usage is lower than the perm itted usage set forth in this greem ent, T A payment obligations are non-cancelable and fees paid are non-refundable except as b. provided and FIS Internal ubscription. Table 1 iii) fees cannot be decreased during the relevant below sets forth the fees payable by FIS to C3 erm. under this Ag reement for its internal use unless FIS chooses to buy ncremental subscriptions or services T pursuant to S ection 3.3(c) below: TABLE 1 Subscription Fees Evaluation Period Year 1 Fee / Number Year 2 Fee / Number Year 3 Fee / Number C3 AI Suite $500,000 $2,625,000 $3,250,000 $3,250,000 Included number of Named FIS Developers 10 10 12 12 Included number of Ex Machina Teams seats 10 10 10 10 Included number of C3.ai CoE FTEs 2 FTEs 6 FTEs 6 FTEs 6 FTEs Total** $500,000 $2,625,000 $3,250,000 $3,250,000 © 2020 C3.ai, Inc. 9 C3.ai, Inc. CONFIDENTIAL DocuSign Envelope ID: 03581133-8B20-4C7B-88A3-3EAEF31A18BE “Excludes Standard C3.ai Runtime fees and Hosting Services Fees, if applicable. Add itional S D evelopers, E for N amed FIS d. f. ns. FIS may purchase additional subsc na seats, and C3.ai CoE FTEs during the Term pursuant to a separate order form and approved FIS purchase order, at the C3.ai list pricing set forth on Exhibit G hereto (the “C3.ai Price List”). shall be for C3 (the “FIS i Price List (the “FIS- Named C3.ai Applications Fees. In addition to the fees in Table 1 , FIS shall rem it to C3.ai fees for each FIS Customer subscription to a Named C3.ai Application offered as a FIS-Branded Offer ing equal to (x) 60% of the C3.ai list pricing set forth on the C3.ai Price List for such Named C3.ai Application (irrespective of what FIS ultimately charges the FIS Cust the sole discretion of FIS) subscribed to as a FIS-B randed Offerin S ubscription Fee ) and (y) 60% of the list pricing set forth on the C3 untime incurred by FIS Customers running the FIS-Branded Offering untime Fees” ”). FIS’s obligation to pay the FIS -Branded Runtime Fees shall be monthly and shall be based on every FIS Customer’s usage of C3.ai Runtime in production environments by the FIS-Branded Offer ings, which shall be calculated and invoiced to the FIS Customer in arrears. VV ithin thirty (30) days following the end of each calendar month of the Term, FIS shall calculate and report to C3.ai all FIS Customer Subscription Fees and/or FIS- Branded Runtime Fees accrued during such month.  Within forty-five (45) days of FIS providing such report to C3.ai, FIS shall pay to C3.ai all FIS Customer S ubscription Fees and/or FIS-B randed Runtime Fees set forth in such report, whether or not FIS has invoiced or and collected such fees from any FIS C ustomer. . In addition to the fees in Table 1, FIS shall remit to C3.ai the C3.ai Price List for C3.ai Runtime incurred by FIS loped Applications (the “FIS-D eveloped Ru ntime Fees obligation to pay the FIS-Developed Runtime Fees shall be monthly and shall be every FIS Customer s usage of C3.ai Runtime in production environments by D eveloped Appli cations. Within thirty (30) days following the end of each calendar the Term, FIS shall calculate and report to C3.ai all FIS-Developed Runtim during such month.  Within forty-five (45) days of FIS providing such report to pay to C3.ai all FIS-Developed Runtime Fees, whether or not FIS has invoiced and collected such fees from any FIS C ustomer. FIS-Developed Applications F< 100% of the pricing set forth g FIS-Deve the FIS-D ”). FIS’s based on the FIS- month of e Fees accrued C3.ai, FIS shall Fees for C3.ai Runtime used by ed C3.ai Applications used by FIS for internal purposes in a production environment are not included in any other fees in this Agreement and will be paid by FIS. FIS will incur and be invoiced as incurred monthly in arrears for C3.ai Runtime. Monthly fees for C3.ai R untime are calculated by multiplying C3.ai R untime during the month by the standard C3.ai R untime rates as set forth in the Exhibit G. Use of the C3.ai S uite by FIS for development and testing purposes shall be excluded from the calculation of Ru ntime rates. FIS Standard C3.ai Runtime Fees for FIS I nternal P urposes. FIS the C3 AI S © 2020 C3.ai, Inc. 10 C3.ai, Inc. CONFIDENTIAL DocuSign Envelope ID: 03581133-8B20-4C7B-88A3-3EAEF31A18BE 3.4 Payment Te FIS I nternal S (i) FIS Commitments to Pay. FIS’s obligations to pay the fees in Section 3.3 and in this Section 3.4(a) become irrevocable, no commitments to pay C3.ai on the Effective Date, in material compliance with this Ag reement, FIS (x) prior to the end of the Eval uation Period with commitment to pay the Year 1, Year 2 jndable (except as provided herein), ided, however, that, if FIS is otherwise .greement either may elect to termina no termination fee (and be released from the 3 fees) by providing C3.ai with written notice of its election to terminate (a I erm ination N oti ce ) at least 10 days prior to the end of the Evaluation Period, provided that C3.ai provides FIS with written notice to FIS no later than thirty (30) days prior to the expiration of the Evaluation Period that FIS must elect, in writing, no later than ten (10) days before the end of the Evaluation Period to provide such Ter mination Notice if FIS so desires; or (y) prior to the first anniversary of the Effective Date (and be released from the commitment to pay the Year 2 and Year 3 fees) by both (1) providing C3.ai with a Termination Notice at least 60 days prior to the first anniversary of the Effective Date, provided that C3.ai provides FIS with written notice to FIS no later than ninety (90) days prior to first anniversary of the Effecti ve Date that FIS must elect, in writing, no later than days before the first anniversary of the Effect ive Date to provide such Ter mination Notice, if FIS so desires and (2) paying C3.ai a termination fee of $1,000,000 (unless FIS payment to C3.ai under this Agreement in Year 1 exceeds $2,500,000, in which case the termination fee ixty (60) (ii) C3 AI Suite Fees. The aggregate C3 AI Suite fee (“C3 AI Suite Fee”) during the Term is $9,625,000. The C3 AI Suite Fee will be invoiced as follows: (i) $500,000 on the Effective Date; (ii) $2,625,000 on the Year 1 Start Date; (ii) $3,250,000 on the first anniversary of the Year 1 Start Date; and (iii) $3,250,000 on the second anniversary of the Year 1 Start Date. b. FIS C ustomer F\\' (i) FIS’s obligations to pay the FIS C ustomer S ubscription Fees in Section 3.3(d) for each FIS Customer entering into an Approved Contract become irrevocable, nonrefundable, commitments to pay C3.ai on the effect ive date of the Approved Contract between FIS and the FIS Customer providing for a subscription to any FIS-Branded Offerings.  Within thirty (30) FIS shall calculate and report to onth. Within forty-five (45) to C3.ai all FIS C ustomer FIS-Bra days following the end of each calendar month of the Term C3 .ai the FIS Customer Subscription Fees accrued during days of FIS providing such report to C3.ai, FIS shall Subscription Fees set forth in such report, whether or not fees from any FIS C usto © 2020 C3.ai, Inc. that pay FIS has i l l ected such 11 C3.ai, Inc. CONFIDENTIAL DocuSign Envelope ID: 03581133-8B20-4C7B-88A3-3EAEF31A18BE (ii) FIS’s obligation to pay the FIS -Branded Runtime Fees in Section 3.3(d) shall be monthly and shall be based on the FIS Customer’s usage of C3.ai Runtime in production environments by the FIS-B randed Offerings, which shall be calcul monthly in arrears. VW ithin thirty (30) days following the end of each calendar month of the Term, FIS shall calculate and report to C3.ai all FIS-Branded Runtime such month.  Within forty-five (45) days of FIS providing such report to to C3.ai all FIS-Branded Runtime Fees set forth in such report, whether or or collected such fees from any FIS C ustomer. iced to the FIS C Fees accrued during C3.ai, FIS shall pay not FIS has invoiced (iii) FIS’ s obligation to pay the FIS-D eveloped Runtime Fees in S ection 3.3(e) shall be monthly and shall be based on the FIS Customer’s usage of C3.ai Runtime in production environments by the FIS-Developed Applications, which shall be calculated and invoiced to the FIS nthly in arrears. Within thirty (30) days following the end of each calendar month FIS shall calculate and report to C3.ai all FIS-Developed Runtime Fees accrued during such month. Within forty-five (45) days of FIS providing such report to C3.ai, FIS shall pay to C3.ai all FIS-Developed Runtime Fees, whether or not FIS has invoiced and collected such fees from any FIS C ustomer. of the T 3.5 Additional T C3.ai L (i) FIS R untime. FIS will maintain, and pr Runtime logs generated by the C3.ai Suite (w Hosting Services Account to enable C3.ai to verify the C3 accordance with the Agreement (the “FIS R unti m e Report ). FIS will Runtime Reports for two years after the C3.ai Runtime is used. ide C3.ai with sufficient access to , the C3.ai er Data) in the FIS incurred by FIS in ll FIS FIS grants to C3 and/or its independent advisors the right to inspect and aud records of FIS’s use of C3.ai Runtime no less than s as provided in the FIS Runtime Reports. If such exceeded that set forth in the FIS Ru ntime Repor files or other reasonably requested nually to verify C3.ai Runtime usage reveals actual C3.ai Runtime usage ided by FIS to C3.ai, then FIS shall promptly pay the appropriate C3.ai Runtime fees. If such audit reveals actual C3.ai Runtime usage was less than that set forth in the FIS C ustomer R untime Re ports provided by FIS to C3 .ai, then C3.ai shall promptly return the appropriate FIS-Branded R untime Fees or FIS- Developed Runtime Fees. FIS and C3.ai shall make all payments required under this Section 3.5(b)(i) within forty-five (45) days of written notification of the audit results. © 2020 C3.ai, Inc. 12 C3.ai, Inc. CONFIDENTIAL DocuSign Envelope ID: 03581133-8B20-4C7B-88A3-3EAEF31A18BE b. (ii) FIS Customer Runtime. FIS will maintain or require FIS Customer to maintain, and provide C3.ai with sufficient access to , the C3.ai Runtime logs generated by the C3.ai Suite (which the FIS Hosting Services Account or FIS Customer Hosting verify the C3.ai Runtime incurred by FIS Customers ngs and (y) FIS-Developed Applications (the “FIS ) and to verify the fees paid under Sections 3.4(b)(ii) and (iii). r Runtime Reports for two years after the C3.ai Runtime is used. in its agreements with FIS Customer for FIS to have access to audit log file s will not include C ustomer D ata) Services Account to enable C3.ai to running (x) the FIS-B. FIS will maintain FIS shall provide or other reasonably requested records of each FIS Customer’s use of C3.ai Runtime and the right for C3.ai and/or its independent advisors to inspect and audit log files or other reasonably requested records of such FIS Customer’s use of C3.ai Runtime no less th verify C3.ai Runtime usage as provided in the FIS C ustomer reveals actual C3.ai Runtime usage exceeded that set forth Reports provided by FIS to C3.ai, then FIS shall r FIS-D eveloped Ru ntime Fees than that set forth in the FIS C C3.ai, then C3.ai shall promptly return the appropriate FIS-Branded Ru loped Runtime Fees. FIS and C3.ai shall make all payments require Runtime F FIS Custo ntime Reports. If such audit the FIS C ustomer Ru ntime promptly pay the appropriate FIS-Branded . If such audit reveals actual C3.ai Runtime ided by FIS to e Fees or FIS- der this Section D 3.5(b)(ii) within forty-five (45) days of written (iii) FIS C FIS will provide regular reports, notification of the audit results. (30) days after the end of each calendar month, mutually agreed upon by the Parties, of the Approved Contracts entered into by FIS with FIS Customers identifying (x) the FIS-Branded Offer ings and (y) FIS-Developed Applications and associated FIS Customer Subscription Fees and applicable payment amounts and terms to enable C3 S ubscriptions. With i n th irty to verify the fees paid under Sections 3.4(b) d Payment. For the internal FIS subscription, FIS applicable payment obligation accrual date. C3.ai v for C3.ai Runtime used by FIS as set forth in this A< (45) days from the invoice date. FIS is contact information to C3.ai and noti ide C3.ai with a valid C3.ai within 15 days of each FIS for fees in Section 3.3(b) and nvoiced charges are due forty-five nsible for providing complete and accurate billing and C3.ai of any changes to such information. FIS may withhold payment of any amount reasonably disputed in good faith pending resolution of such dispute. C3.ai shall submit all invoices in electronic format through Transcepta (or such other tool as may be identified by FIS from time to time). The following link provides additional information and instructions on how to enroll for use of Transcepta  http://connect.transcepta.com/fis. c. Suspension of Service and Acceleration. If any amount owing by FIS to C3.ai under this Agreement is sixty (60) or more days overdue (other than invoices disputed in good faith by FIS), C3.ai may, without limiting C3.ai’s other rights and remedies, suspend C3.ai’s services to FIS (or rights granted by C3.ai to FIS) or FIS Customers under this Agreement or an Approved Contract, as applicable, until such amounts are paid in full. © 2020 C3.ai, Inc. 13 C3.ai, Inc. CONFIDENTIAL DocuSign Envelope ID: 03581133-8B20-4C7B-88A3-3EAEF31A18BE C3.ai will give FIS at least 15 business days’ prior written notice that FIS’s account is overdue before suspending services or rights hereunder. C3.ai will not exercise C3.ai’s rights under this Agreement during the 15 business-day notice period described in the preceding sentence if FIS is disputing the applicable charges reasonably and in good faith and is cooperating diligently to resolve such dispute within such notice period. ent of E FIS shall reimburse C3 .ai at cost for any reasonable and necessary expenses for travel and lodging incurred by C3 during the provision of services to FIS d FIS Custo ided that, such travel and lodging shall require prior written approval by FIS. Other Profess ional Serv ices. Al additional professional or consulting services requested by FIS FIS C shall be subject to a separate mutually agreed of  Work (“SOW”) , at C3.ai’s professional services rates, as mutually agreed upon by the Parties. All SOWs shall be created and processed through FIS’ SOW managed services program (“MSP”) through the FIS Vendor Management System (“VMS”). This MSP and VMS requirements required by this section 3.5(e) is specifically for additional professional or consulting services and does not apply to licensing, subscription, recurring managed service agreements or similar agreements, including the subject matter of this Ag reement. f. C3.ai’s fees do not include any taxes levies, duties or similar governmental assessments of any nature, including, for example, value-added, sales, use or withholding taxes, assessable by any jurisdiction whatsoever (collectively, “Taxes”). FIS is responsible for paying all Taxes associated with FIS’s purchases hereunder or any purchases by any FIS Customer. If C3.ai has the lega obligation to pay or collect Taxes for which FIS (or any FIS C is responsible , C3 ai will invoice FIS and FIS will pay that amount unless FIS provides C3 .ai with a valid tax exemption certificate authorized by the appropriate taxing authority. For clarity, C3.a is solely responsible for taxes assessable against C3.ai based on C3.ai’s income, property and employees. g . Future Functionality. FI S that FIS’s purchases (and purchases by FIS C not contingent on the delivery of any future functionality or features, or dependent on any oral or written public comments made by C3 .ai regarding future functionality or features. h . Recordkeeping and Reporting. (A) FIS shall create and maintain accurate records and supporting documentation including all contracts with for all transactions relating to this © 2020 C3.ai, Inc. 14 C3.ai, Inc. CONFIDENTIAL DocuSign Envelope ID: 03581133-8B20-4C7B-88A3-3EAEF31A18BE 4. Agree Appli Runti ons, FIS-B for FIS inte prior written ith respect to the N amed C3.ai Appli ded Ru ntime Fees, FIS-D eveloped R l purposes) during the T termination of this Agr FIS shall representatives applicable records and FIS-Developed Fees and C3.a for at least three (3) years afte Upon five (5) business days and inspection by C3 in FISs possession or its control relating to any of the above transactions . FIS may use an independent auditor to assist with such verification, provided that FIS has a written confide with such independent auditor. FIS will provide to C3.ai its auditors e lectronic verification C3.ai d written records, system tool outputs, and other requested system ufficient to provide verification that FIS’ billing invoices are accurate and e with the Ag reement. C3.ai will notify FIS i dicates that FIS is not in compliance with the Ag burse C3.ai for any underpayments made by FIS writing if any ement, and FIS nder the Agreem lly. FIS and inspections and make appropriate FIS (B) C3.ai will create and all invoices under the Agreem ent for at least three (3) years following the date of final (5) business days’ prior written notice, FIS may verify C3.ai’s provision. Such verification will be conducted in a manner that minimizes disruption to C3.ai’s business. FIS may use an independent auditor to assist with such verification, provided that FIS place with such independent auditor. C3.ai records and supporting documentation for payment. U a written conf provide to FIS written records, system tool outputs, and other requested system information sufficient to provide verification that C3.ai’s billing invoices the Agreem ent. FIS will notify C3 .ai in writing if C3.ai is not in compliance with the Ag reement, FIS for any overpayments made by FIS under applicable electronic are any such verification indicates that C3.ai Agree promptly reimburse C3.ai shall provide C3.AI’S RESPONSIBILITIES P. 4.1 C3.ai will (a) P of C3 AI S the ppropriate C3.ai personnel available for ed C3.ai Appl ications. S ision the C3 AI Suite for FIS in the FIS Hosting Ser of this A< A the T accordance with Exhibit E, in connection therewith, provide C3.ai Support Services to Cus support FIS to allow FIS to Provision the Named C3.ai Applications in the applicable Hosting Services environment as necessary to deliver such FIS-Branded Offerings to FIS Customers who have entered into an Approved C ontract. Exhibit H (S ervice Leve intained by C3 nt. C3.ai will l A, sets forth the levels other performance Appli cations to be pro the C3 ed C3 performance in der this Ag that maintain procedures to ensure with Exhibit H is regularly monitored and measured, and the monitored activity © 2020 C3.ai, Inc. 15 C3.ai, Inc. CONFIDENTIAL DocuSign Envelope ID: 03581133-8B20-4C7B-88A3-3EAEF31A18BE and measured results will be reported to FIS agreed by the Parties. C3.ai’s 4.2 C3.ai s Personnel. C3.ai will be responsible for the performance of its personnel (i employees and contractors) and their compliance with C3.ai s obligations Under this Agre> otherwise specified herein. Furthermore, C3.ai shall cause its personnel to comply with all applicable FIS safety and security regulations, including any drug testing required by FIS, when on the premises of FIS. C3.ai will ensure that a background check, as described herein, has been is performing any services under the Agreement and has access to the mpleted for each individual who cilities, records or data of FIS.  Vhere permitted by applicable l , the background check will ist of, at a minimum, verification of the m p l eted, verification of employment for the past seven (7) years, social security number trace and validation, and a check of U.S. Government Specially Designated National (OFAC) and export denial lists. The criminal record search will include, to the maximum extent permitted by Law, a federal, state and county check for felony and misdemeanor convictions for the last seven (7) years in all locations where the individual has resided for the last seven (7) years. C3.ai will highest level of education mply with all applicable Laws related to the background check, including required notices and applicable consents. C3.ai will not assign anyone to perform services for FIS under this Ag eet the standards established by C3 in accordance with all whose background check findings do appli cable L. if there not is a iction of a crime ing dishonesty, breach of trust or money concerning the illegal manufacture, sale, distribution of or trafficking in controlled substances, crime m eets certa in criteria for treating the crime as de minimis. The background check must be before assignment of an individual to performing any services under this Ag ent for FIS unless the mpleted thereafter, bly requested by FIS in writing, but in no event more F 4.3 e, C3.ai may make Beta in FIS’ s sole discretion. ilable to FIS at no charge. FIS are intended for other terms pported by C3 of the B without ay choose to try such Beta S ly be used by FIS for evaluation purposes only and not for production use, id (iii) may be subject to additional terms. In addition to the foregoing limitations, all conditions that apply to C3.ai Services, in i i m itation C3.ai’s reservation of all rights and FIS’s obligations and restrictions on use concerning the C3.ai Services, and use of any related Third Party Offerings. Unless otherwise stated, any Beta Services trial period will expire upon the earlier of (i) one year from the trial start date, (ii) the date that a version of the Beta Services becomes generally available without the applicable Beta Services designation, terminated by C3.ai. C3.ai may discontinue Beta Services at any time in C3.ai s sole discretion and may never make them generally available. Beta Services are provided “as is” and may contain bugs or errors. C3.ai will have no liability for any warranties, when in connection with a Subcontractors. C3.ai will not utilize any subcontractor to perform the r services without the prior written consent of FIS. C3.ai will notify engage another party not less than thirty (30) days prior to the entity der this Ag 4.4 C3.ai ide FIS of its intention to to perform other work ide such information © 2020 C3.ai, Inc. 16 C3.ai, Inc. CONFIDENTIAL DocuSign Envelope ID: 03581133-8B20-4C7B-88A3-3EAEF31A18BE documentation concerning any such proposed subcontractor as FIS that any such subcontractor complies with all obligations of C3.ai derthe A< C3.ai will including those applicable to reporting, audits and inspections, confidentiality, privacy, data security, business continuity subcontractors, and any prohibitions of its obligations performed by any subcontractor, and C3.ai uses to perform any service that on subcontracting to certain locations or subcontractors. C3.ai is under the Agreement regardless of where performed or whether C3.ai will be liable for the under this Ag reement. missions of any subcontractor 5. USE OF C3.AI SERVICES C3.ai 5.1 C3 CoE Support S this Ag less otherwise provided in the C3.ai Docu mentation, C3.ai Services (other than are purchased as subscriptions for the Term. Subject to FIS s compliance With ncluding, without limitation, Section 5.2 (Customer s Res ponsibilities) below) and FIS s plicable fees as provided in this Ag reement), FIS shall have the right, during the T erm, otherwise set forth in this Agreement, to access and use the Subscribed C3.ai Materials within the FIS Field, (a) to access and use the C3 AI Suite (i) for FIS’ internal business uses, and (ii) to develop FIS- Developed Applications and operate and support such FIS-Developed Applications for FIS Customers who enter into an Approved Contract, and (b) to operate and support the FIS-Branded Offerings (i) for FIS Customers who enter into an Approved Contract with FIS and (ii) Prospect D emonstrations. C3 will use commercially reasonable efforts to make the Subscribed C3.ai M aterials available as set forth in Exhibit H hereto. 5.2 FIS having entered Customer s Responsibilities. Subject to the terms of this Agreement, FIS may not provide access to any FIS-Branded Offerings or the C3.ai AI Suite prior to such FIS C into an Approved Contract (or other binding written agreement that requires the FIS mply with use restrictions substantially similar to those set forth in Section 5.3 below) with as part of a Prospect Demonstration, including any demonstration for an FIS-Developed The Parties will develop a mutually agreeable process Customer to co FIS, other than Appl ication. The Parties will develop a mutually agreeable process in good faith to obtain each FIS Customer’s acceptance of the terms and conditions of each such Approved Contract, as applicable. In addition, FIS will (i) be responsible for Users’ (including FIS Customer Users’) compliance with this Agreement and the C3.ai Docu mentation, (ii) promptly notify C3.ai of any suspected or actual breach of any Approved Contract and cooperate with C3.ai with respect to any investigation by C3.ai of any suc h suspected or actual breach thereof; (iii) be responsible for the accuracy, quality and legality of Customer Data and the means by which FIS or the FIS Customer, as applicable, acquired Customer Data, (iv) use permit FIS which FIS commercially reasonable efforts to prevent unauthorized access to or use of C3.ai Serv FIS C ustomers, and notify C3 promptly of any such unauthorized access or use, (v) u C ustomers to use ) C3.ai Services only in accordance with this Agree ment, the C3.ai D ; (vi) be solely responsible for procuring FIS’s own GitHub or similar code repository and elligence tools, and for complying with terms of service of any Third Party Offering with C3.ai Services, (vii) ensure that any authorized third party end users of any C3.ai Services © 2020 C3.ai, Inc. 17 C3.ai, Inc. CONFIDENTIAL DocuSign Envelope ID: 03581133-8B20-4C7B-88A3-3EAEF31A18BE FIS Custo are bound by an A pproved Contract  (v i i ) follow C3.ai’ S reasonable instructions in order to delete all copies of the C3.ai Materials upon expiration or termination of this Agreement; (ix) not misrepresent the functionality of the FIS-Branded Offer ings to FIS C ustomers, and (x) terminate FIS Customer access to any C3.ai Materials in any FIS Hosting Services Account or FIS Customer H osting S ervices Account at the expiration or termination of this Agreement or any Approved to Contract with a FIS C usto Proh ibitions. FIS will not, nor permit third parties (including any FIS C ustomer or FIS C ustomer to: (a) other than FIS s ability to offer subscriptions to the Named C3.ai Applications as FIS-Branded Offerings to FIS Customers pursuant to Approved Contracts as provided in this Agreement, make any C3.ai Service available to, or use any C3.ai Service for the benefit of, anyone other than FIS or the FIS Customer, as applicable, (b) other than FIS s ability to offer the FIS-Branded Offer ings to FIS Customers pursuant to an Approved Contract as provided in this Ag reement, sell, r any C3.ai Service or FIS-Branded Offeri offering, (c) knowingly use a C3.ai Service to store or transmit infringing, libelous, or tortious material, or to store or transmit material in violation of third-party privacy Service or any FIS-Developed Application to store or transmit Malicious Code, (e) 5.3 make C3.ai bureau or outsourcing or otherwise unlawful rights, (d) use a C3.ai interfere with or disrupt the integrity or performance of any C3.ai Service or third-party data contained therein, (f) atte mpt to gain unauthorized access to any C3.ai Service or its related systems or networ ks, (g) permit direct or indirect access to or use of any C3.ai Service or any FIS-Developed Application in a way that circumvents FIS’S obligations in this Agreement, or use any of the C3.ai Services to access or use any of C3.ai s Intellectual Property except as permitted under this Agreement or the C3.ai Docu mentation, (h) copy a C3.ai Service or any part, feature, function or user interface thereof, (i) frame or mirror any part of any C3.ai Service, (j) access, use or copy any C3.ai Service or the FIS-Branded Offering in order to build or allow a third-party to mpetitive product or service or to benchmark with any third party or enable any other party to publish) any benchmark or product comparison of the C3.ai Services without C3.ai express written consent, C3.ai alter, modify or create derivative works of any C3.ai above, nothing set forth in this Agreement is intended its Affiliates to distribute the C3 AI Suite or C3 Tools to extent such restriction is permitted by law), or (k) Services.  V ithout limiting any restrictions set forth to or shall have the effect of permitting FIS third parties to design, develop or provision applications. 6. NON-C3 PROVIDERS on or use by FIS FIS C ustomer an 6.1 Third Party Offerings. Any acquisition or use by FIS or a FIS C ustomer of a Third Party Offering any exchange of data between FIS or a FIS Customer and any third party or the Third Party Offering lely between FIS or the FIS Customer and the applicable third party. C3.ai does not warrant or support Third Party Offerings. 6.2 C ustomer D ata. If FIS or a FIS C ustomer chooses to use a Third Party Offering with a C3.ai Service FIS-D eveloped Appl ication, FIS grants, and FIS shall cause the FIS Customer to grant, C3.ai ssion to allow the Third Party Offering and its provider to access Customer Data as required for the © 2020 C3.ai, Inc. 18 C3.ai, Inc. CONFIDENTIAL DocuSign Envelope ID: 03581133-8B20-4C7B-88A3-3EAEF31A18BE interoperation of that Third Party Offering with the C3.ai S disclosure, modification or deletion of Customer Data resulting C3.ai is not responsible for any cess by such Third Party Offering ider. Integration with Third-Party Offeri interoperate with Third-Party Offerings obtain access to such Third-Party Offerings from FIS Customer’s 6.3 The C3.ai T to FIS’s may contain features designed to a FIS Customer may be required to iders, and may be required to grant C3.ai access such Third Party Offerings. C3.ai cannot guarantee the such features, FIS their continued notice, without entitling ilability of such C3.ai Service FIS or any FIS C iding them, upon credit, or other compensation, if for itation, the provider of a Third Party Offering ceases to make the Third Party Offering available for interoperation with the correspon to C3.ai. FIS shall, and shall cause each FIS Customer t that FIS the FIS C may be, and their respective Affi liates have all necessary rights and licenses to interoperate any Third Party Offering with any C3.ai this Ag Software. I (including, with respect to FIS, any User of a Application or FIS-Branded Offering, or otherwise Agreement that include, software code licensed under the or “copyleft” license that would require making any so Offering available to any third party. 6.4 pen event will either party, their respective Affili FIS C ncorporate into any FIS-D eveloped Third Party Offerings in connection with this GNU GPL or AGPL or any similar “open source” urce code of the C3.ai AI Suite or FIS-Branded 7. SUPPORT AND TRAINING 7.1 FIS any Customer Support. F I S shall direct FIS C usto for technical support for any N amed C3.ai Applications offered as FIS-D eveloped Appli cations. FIS shall be responsibl an Approved Contract FIS-Branded Offerings Line Support to FIS C3.ai Appl ications offered Provided that a FIS Customer has a written agreement with provide technical support to such FIS C ustomer or FIS C usto Line Support to FIS solely to the extent necessary to assist FIS to support requests for such Named C3.ai Appl ications offered as FIS-Br Developed Applications that FIS cannot resolve after performing its Fi d FIS Customer U FIS-B First FIS Customer U any FIS-D eveloped Appli cations. FIS under which FIS is obligated to , C3.ai will provide Second olve the FIS C ustomer\\'s ed Offeri ngs or any FIS- Line Support obligations. 7.2 Tra ini ety (90) days after the Effective Date, the Parties shall agree on a mutually acceptable training program and FIS shall make reasonable efforts to identify a full-time FIS operations team to attend C3.ai\\'s technical training on installing, monitoring and managing the C3 AI S uite, Named C3.ai Appl ications and the FIS-D eveloped Appli cations technical training in customer service, support, and Each of these FIS e mployees should have the required skill, Withi Parti (if applicable), including troubleshooting techniques. © 2020 C3.ai, Inc. 19 C3.ai, Inc. CONFIDENTIAL DocuSign Envelope ID: 03581133-8B20-4C7B-88A3-3EAEF31A18BE experience, and qualifications to understand and perform, and to train other FIS personnel to understand and perform, all aspects of their training by C3.a in a professional and workmanlike manner in accordance with best industry standards. b. Within ninety (90) days after the Effecti ve Date the Parties shal agree on a mutually acceptable training program and schedule for FIS Sal N amed C3.ai Applications and FIS-D eveloped Appl provide up to two (2) C3.ai personnel to provide trai d Field Support Teams on the ns (if applicable). C3.ai will virtually or at an agreed-upon location. C3.ai FIS personnel in the cess to C3.ai product FIS l d the FIS S est of FIS. 8. BUSINESS DEVELOPMENT & MARKETING 8.1 & Dedicated Staffing.  Within sixty (60) days after the Effective Date, or as otherwise mutually agreed upon by the Parties, C3.ai shall staff a dedicated sales team to support FIS in the sale of the FIS-Branded Offering. 8.2 Relationship Management. Each Party shall designate an executive to be representative in connection with the Party’s performance in the Alliance (“Alliance Executi initial Alliance Executives are John Pizzi for FIS and Ed Abbo for C3.ai. The Alliance Executives shall its principal ’). The meet no less than quarterly during the term of the Agreement to review progress against the initial sales targets, develop a set of priorities and action plans for each Party to attain the goals of the Alliance, and discuss other mutually-agreed topics related to the Alliance (e.g., field and sales support training, product roadmaps, sales pipeline/deal reviews, marketing initiatives, etc.). Either Party shall have the right to change participants above, although in any case a Party\\'s representative shall have sufficient seniority and authority for the role. 8.3 ublicity \\', N on~disparagement. arty may issue other news release, public announcement, advertisement or any other form of publicity concerning the Alliance or this Agreement without the other Party’s prior written consent. Each Party agrees, and shall cause its Affiliates, not to disparage the other Party or its officers, directors, employees, equity holders, agents or Affiliates (including its Affiliates’ officers, directors, employees or agents) in any manner, or to otherwise communicate about any of them in any manner that is reasonably likely to be harmful to any of them or their businesses, or to their personal or business reputation, including without limitation by attributed or non-attributed (e.g., anonymous) statements posted on any website or other forum, provided that each Party may respond accu rately and fully to any question, inquiry or request for information when required by applicable Law. 8.4 Use of Name and Trade marks. n connection with the performance of its obligations under this Agreement or otherwise, neither Party may use the trade names, trademarks or other designations of the other Party in any promotion or publication without prior written approval for such use. It is at either Party’s sole decision whether any proposed use is acceptable. Notwithstanding the foregoing, each Party grants to the other Party the right to use marketing materials produced by the owning Party and provided © 2020 C3.ai, Inc. 20 C3.ai, Inc. CONFIDENTIAL DocuSign Envelope ID: 03581133-8B20-4C7B-88A3-3EAEF31A18BE to the receiving Party in connection with the Joint marketing activities of the Alliance (provided the content of any such Joint materials is approved by both Parties). Neither Party will use the Other Party S names logos, trademarks, or, as applicable, stock exchange symbol, or those of any customers of the other Party unless pre-approved in writing by the other Party. 9. CONFIDENTIALITY Agreement, Confidential Information rty”) to the other party or its Affiliates 9.1 Definition of Confidential Information. As used in this all information disclosed by a party ( D isclosi ng Pa ving Party ) that iS not generally available to the genera after the Effecti ve Date in connection, in whatever form or medium and, which is m arked Confidential Or a similar marking which identifies the information as being subject to restrictions on disclosure, or which a reasonable person knows or reasonably should understand to be confidential, including, without limitation, such D isclosing Party’s trade secrets, clients, customer lists, business contacts, business plans, policies, procedures, techniques, know-how, standards, products, source or object code, product or service specifications, information regarding technology applications and interfaces, manuals, agreements, economic and financial information, marketing plans, data, reports, analyses, compilations, statistics, summaries, studies, and any other materials or information, or any notes, the extent based thereon, whether written or oral, furnished directly or indirectly by a Disclosing its Representatives. Regardless of marking, (a) FIS s Confidential Information shall also include >r Data provided by FIS, and any of FIS I ntellectual Property in FIS-D eveloped Applications or CoE IP, (b) C3.ai’s Confidential Information includes the C3.ai Services, C3.ai Materials, C3 training g or benchmarking results or other evaluations of or conclusi ons (c) Confidential Information of each party includes the terms and hibits hereto (including pricing). Confidential Information does not comes generally known to the public without breach of any i) was known to the Receiving Party prior to its disclosure by the bligation owed to the Disclosing Party, (iii) is received from a third party without breach of any obligation owed to the Disclosing Party, or (iv) was independently developed by the Receiving Party without the use of the Disclosing Party’s Confidential Information. materials to Party oncerning the C3.ai M ater ials, onditions of this Agreement and iclude any information that (i) bligation owed to the Disclosing is or Party, Party without breach of any -D isclosure. The R, 9.2 will who Party (i) will use the same degree of care that it uses to protect the confidentiality of its own confidential information of like kind (but not use any Confidential Information of the D isclosing Party for any purpose outside the scope of this Agreement, and (iii) except as otherwise authorized by the Disclosing Party in writing, limit access to Confidential Information of the Disclosing Party to those of its and its Affiliates’ employees and permitted subcontractors who are not C3.ai Competitors and who need that access for purposes consistent with this Agreement and who have signed confidentiality agreements with the Receiving Party containing protections not materially less protective of the Confidential Information than those herein. Either party may disclose the terms of this Agreement to its legal counsel and accountants without the other party’s prior written consent, provided that such recipient is subject to terms of confidentiality no less restrictive than those set forth herein and the party that makes any such disclosure remains responsible for such recipient’s compliance with this “Confidentiality” section. Notwithstanding the foregoing, upon prior written consent of FIS, C3.ai may disclose the terms of this Ag reement to a subcontractor to the extent necessary to perform C3.ai ’s obligations under this Agreement, under terms of confidentiality materially as protective as set forth © 2020 C3.ai, Inc. 21 C3.ai, Inc. CONFIDENTIAL DocuSign Envelope ID: 03581133-8B20-4C7B-88A3-3EAEF31A18BE herein. 9.3 Party retai n Party Return or Destruction of Confidential Information; Retention of Rights. At the end of the Term, upon the prior termination of the Agreement, the Receiving Party will destroy all Confidential nation of the Disclosing Party in a manner designed to preserve its confidentiality, or at Disclosing S written request and expense, return it to the Disclosing Party. The Disclosing Party will have and all right, title, and interest in all of its Confidential Information, whether possessed by the Disclosing prior to, or acquired or refined by the Disclosing Party during the Term of the Agreement. 9.4 mpelled D isclosure. The Receiving Party may disclose Confidential Information of the Party to the extent compelled by law to do so. In such case, the Receiving Party gives the Disclosing Party prior notice of the compelled disclosure (to the extent legally permitted) and reasonable assistance, at the Disclosing Party’s cost, if the Disclosing Party wishes to contest the disclosure. If the Receiving Party is co m pelled by law to disclose the Disclosing Party’s Confidential Information as part of a civil proceeding to which the Disclosing Party is a party, and the Disclosing Party is not contesting the disclosure, the Disclosing Party will reimburse the Receiving Party for its reasonable cost of compiling and providing secure access to that Confidential nformation. 9.5 Survival of Confidentiality Obl igations. The obligations set forth in this S ection 9 with Confidential Information disclosed hereunder shall survive for five (5) years after any term expiration of this Agreement. respect to ination 10. PROPRIETARY RIGHTS AND SUBSCRIPTIONS 10.1 C3.ai Intellectual Property Ownership. E pt as otherwise provided herein, C3.ai hereby own and retain all right, title and interest, including all Intellectual Property Rights, in and to the C3 M aterials including all derivative works, modifications, enhancements and adaptations thereto. not allow any FIS C usto the avoidance of doubt, FIS-Developed Applications and CoE IP shall not be con strued as derivative works, modifications, enhancements and/or adaptations of C3.ai Materials. No rights are assigned or granted to FIS or any FIS Customer hereunder, other than as expressly set forth herein, and no implied license or right of any kind is granted to FIS or any FIS Customer. FIS will not, and FIS will or User to, delete or in any manner alter C3.ai’s copyright, patent, trademark, if any, appearing in any C3.ai M aterials. or other proprietary notices, FIS Intellectual Property Ownership. FI S hereby owns and including all Intellectual Property Rights, in FIS’s C onfidential Applications, and CoE IP. E 10.2 retains right, title and interest, Information, the FIS-D eveloped pt as otherwise provided herein, FIS grants to C3.ai a non-exclusive, non- transferrable, non-sublicensable (other than to C3.ai s Affiliates), worldwide, paid up, royalty free licence during the Term, to FIS-Developed Applications and CoE IP to perform its obligations under this rights are assigned or granted to C3.ai hereunder, other than as expressly set forth herein, and no implied license or right of any kind is granted to C3.ai. C3.ai will not delete or in any manner alter to A N © 2020 C3.ai, Inc. 22 C3.ai, Inc. CONFIDENTIAL DocuSign Envelope ID: 03581133-8B20-4C7B-88A3-3EAEF31A18BE the copyright, trademark, and other proprietary notices of FIS, if any, appearing on any FIS Confidential Information or FIS~Developed Applications. For the avoidance of doubt, any and all CoE IP will be considered works made for hire by C3.ai and upon creation will be owned exclusively by FIS. 10.3 roperty. m mercially reasonable efforts not to integrate any C3.ai a. The Parties agree that C3 into CoE IP, if any, without first obtaining FIS’s written agreement to such integration. b. Where FIS agrees in writing to the integration of such C3.ai Materials (“Accepted C3 ls” ”), C3.ai shall and hereby does grant the license to FIS to such Accepted C3.ai Materials as s out in Section 10.3(d) below. If FIS does not agree in writing to the integration of such C3.ai Materia into CoE IP, C3.ai shall have the right to remove such C3.ai M aterials. If C3.ai includes C3.ai M terials ”), C3.ai shall and such U ndeclared C3.ai Mat (“U ndeclared C3.ai nonexclusive, right to and/or the CoE I P. the CoE IP, if any, without the written agreement of FIS hereby does grant FIS a worldwide, royalty-free, trials to fully exploit the FIS-Developed Applications d. ditions of this Agreement, including payment of the fees set forth herein, C3.ai grants to FIS a non\\'~ttransferable, non-sublicensable (except to FIS Customer Users), non  exclusive, worldwide, royalty-free right to use the Accepted C3.ai Materials, if any, integrated in the CoE IP, solely to the extent necessary for FIS’s authorized use under Section 3.1 for the duration of the Term. 10.4 Data. FIS owns all right, title and interest in Customer Data provided by FIS. FIS shall confirm by contract that each FIS Customer has all right, title and interest in Customer Data provided by such FIS Customer. FIS grants, and shall require that each FIS Customer grants by contract, C3.ai, C3.ai s Affiliates and applicable contractors a worldwide, limited-term license (a) to host on the C3 AI Suite, copy, Data, FIS-Developed Applications and program code created by or for g a C3.ai Service or for use by FIS or a FIS Customer with the for C3 to provide the C3.ai Services in accordance with this and (b) to use Customer Data for purposes of calculating benchmarks and other analyses that internally or to improve the C3.ai S basis, and C3.ai shall not use or disclose any personally identifiable information or personal al FIS’s or any FIS Customer’s identity in connection with such use of C ustomer Data. Subject to the express terms herein, C3.ai acq uires no right, title or interest from FIS, FIS C ustomer or FIS’s or FIS Customer’s licensors under this Agreement in or to any of Customer Data. transmit, display and use FIS or a FIS C ustomer, a C3.ai Agree C3.ai as reasonably necessary ided that such © 2020 C3.ai, Inc. 23 C3.ai, Inc. CONFIDENTIAL DocuSign Envelope ID: 03581133-8B20-4C7B-88A3-3EAEF31A18BE 10.5 License to Use Feedback. FIS grants, and shall cause each FIS Customer by contract to grant, to C3.ai and its Affili worldwide, perpetual, irrevocable, sub-licensable, royalty-free anner and incorporate into C3.ai’s and/or its Affiliates’ products or services, any suggestion, enhancement request, recommendation, correction or other feedback provided by FIS concerning the C3.ai AI Suite or the Named C3.ai Applications or future products or services (that are not competitive with an FIS-Developed Application) ( Feedback ), provided that such Feedback shall not incorporate any FIS Confidential Information and C3.ai shall not identify FIS, any FIS Customer or any User as the source of such Feedback. 11. DATA PROTECTION 11.1 Protection of C ide the Data. C3.ai will maintain administrative, physical, and technical safeguards designed to protect the security, confidentiality and integrity of Customer Data, as de the Data Security Technical Specification. C3.ai will not use Customer Data except (a) C3.ai Services and to address service or technical problems, (b) as compelled by law in accordance with S ection 9.3 (C ompelled Disclosure) above, or (c) as FIS or any FIS Customer expressly permits in writing. Where FIS’ or any FIS Customer’s use of the C3.ai Services requires the Processing (as defined lation (EU) 2016/679) by C3.ai of Personal Data (as also defined in the Regulation (EU) s in the European Economic Area, then (a) FIS shall notify C3.ai in ccess to Personal D ata; and (b) the terms of a Data Processing parties, and in such event, will apply to such Processing. in the Re 2016/679) relating to data Addendum will be signed by the 11.2 C3.ai of the C3.ai Services for security an s to any C3.ai Service in the event a operational purposes. C3.ai may engaged in, or C3.ai in good faith suspects is engaged in, any unauthorized conduct (including any violation of any terms and conditions of this Agreement, any applicable law, or third party rights); provided, however, that C3.ai will use commercially reasonable efforts under the circumstances to provide FIS with pportunity to remedy such unauthorized conduct prior to such 12. REPRESENTATIONS, WARRANTIES, EXCLUSIVE REMEDIES AND DISCLAIMERS 12.1 R epresentations. Each party represents that it has validly entered into this Agreement and has the legal power to do so. C3.ai  Warranties. C3.ai warrants that during 12.2 the Term (a) the Data Security Technical Specification will accurately describe the applicable administrative, physical, and technical safeguards for protection of the security, confidentiality and integrity of Customer Data, (b) C3.ai will not materially decrease the overall security of the Named C3.ai Applications or C3 AI Suite, as applicable, (c) the C3 AI Suite and Named C3.ai Appl ications will perform materially in accordance with the applicable C3.ai D ocumentation, © 2020 C3.ai, Inc. 24 C3.ai, Inc. CONFIDENTIAL DocuSign Envelope ID: 03581133-8B20-4C7B-88A3-3EAEF31A18BE C3 CoE S rt S. perfor m ed fessi m ateri al cepted ith Ex C3 S E. F Customer’s exclusive remedies are as follows: (i) Data Security T ifi n to urately reflect the appli the N C3.ai Appli performance of any s to C3.ai within 60 d C3 AI Suite; an ndard C3 CoE S rt S C3 S rted f the appli The foreg f FIS S implementation, with in no more than one hundred and twenty (120) days (unless there are unresolved material issues related to updating or upgrading in FIS’ Hosting Services account, in which case FIS will notify C3.ai of the nature of such issue and work with C3.ai to address issues and install the updates and FIS noti lable by C3.ai d for C3.ai to C3.ai foreg 12.3 Disclaimers. EXCEPT AS EXPRESSLY PROVIDED HEREIN, NEITHER PARTY MAKES ANY WARRANTY OF ANY KIND, WHETHER EXPRESS, IMPLIED, STATUTORY OR OTHERWISE, AND EACH PARTY SPECIFICALLY DISCLAIMS ALL IMPLIED WARRANTIES, INCLUDING ANY IMPLIED WARRANTY OF MERCHANTABILITY, FITNESS FOR A PARTICULAR PURPOSE, TITLE OR NON-INFRINGEMENT, TO THE MAXIMUM EXTENT PERMITTED BY APPLICABLE LAW. BETA SERVICES ARE PROVIDED “AS IS,” EXCLUSIVE OF ANY WARRANTY WHATSOEVER. EACH PARTY DISCLAIMS ALL LIABILITY AND INDEMNIFICATION OBLIGATIONS FOR ANY HARM OR DAMAGES CAUSED BY THE HOSTING SERVICES OR ANY THIRD PARTY HOSTING SERVICE PROVIDERS. 13. MUTUAL INDEMNIFICATION by C3.ai. C3.ai will defend FIS made or brought against FIS by a third party alleging that any C3 misappropriates mptly gi such third party’s Intellectual Property Rights (a “Claim Against FIS”), and will indemnify FIS from any damages, attorney fees and costs finally awarded against FIS as a result of, or for amounts paid by FIS under a settlement approved by C3.ai in writing of, a Claim Against FIS, provide C3.ai written notice of the Claim Against FIS, (b) gives C3.ai sole control of the the Claim Ag ainst FIS (except that C3.ai may not settle any Claim Ag ainst FIS releases FIS of all liability), and (c) gives C3.ai all reasonable assistance, at C3.ai s expense. The foregoing obligation shall not apply with respect to a Claim Against FIS if such claim arises out of (i) C3.ai’s of the C3.ai Service in combination with any software not FIS-Developed Application, where the alleged infringement f aliance with FIS s specifications, (i lied by C3.ai, any Third Party Offeri f the C3.ai S Data, Data, ifi nature not just because it is data difi Data (i.e., because o ration of the C3.ai S f data, © 2020 C3.ai, Inc. 25 C3.ai, Inc. CONFIDENTIAL DocuSign Envelope ID: 03581133-8B20-4C7B-88A3-3EAEF31A18BE upon nstruction f, C3.ai), where FIS continues the allegedly infringing or misappropriating ity after ed of modifi f the C3.ai Serv this Agre a C3.ai S If C3 C3.ai m r misappropriation claim related to dify the C3.ai Services so that they are no longer claimed to infringe or misappropriate, without breaching C3.ai S Warranties under C3.ai Warranties” above, (y) obtain a license for FIS’s continued use of that C3.ai Service in accordance with this Agreement, or (z) terminate FIS s subscriptions for that C3.ai Service and refund FIS any prepaid fees its dis st to f covering the remainder of the term of the terminated subscriptions. 13.2 FIS. FIS will defend C3 or brought against C3.ai by a third party alleging FIS-Developed Application, alone or in combin such third party’s Intellectual Property Rights ( combination of the C3.ai Service and the Custo mer Data, C3.ai Ser Third Party Offeri priates other than due, specifically, to the nature arising from FIS’s or any FIS Customer’s Approved Contract, the Do er Data or a FIS-D e Customer Data or f the C3.ai Services ped Ap FIS-D Agreem and FIS ify C3 result of, or Against C3, id by C3 d Application), or Data in violation of the LaW (each a Claim Against C3 ), C3.ai as a f, a Claim gives FIS Cl aim Against C3 unless it assistance, at FIS s expense. FIS in writing o mptly gives FIS written notice of the Claim Against C3, (b tlement of the Claim Against C3 (except that FIS may no itionally releases C3 of all liability), and (c) gives FIS all 13.3 Exclusive Remedy. This Section 13 states the indemnifying party’s sole liability to, and the indemnified party’s exclusive remedy against, the other party for any type of claim described in this Section 13. 14. LIMITATION OF LIABILITY EXCLUDING C3.ai’S LIABILITY UNDER SECTION 13.1 (INDEMNIFICATION BY C3.ai), AND FIS’S LIABILITY UNDER SECTIONS 3 (SUBSCRIPTIONS) AND 13.2 (INDEMNIFICATION BY CUSTOMER), IN NO EVENT SHALL THE AGGREGATE LIABILITY OF EACH PARTY, TOGETHER WITH ALL OF ITS AFFILIATES, ARISING OUT OF OR RELATED TO THIS AGREEMENT EXCEED THE TOTAL AMOUNT OF SUBSCRIPTION FEES PAID BY FIS HEREUNDER FOR THE C3.AI SERVICES GIVING RISE TO THE LIABILITY IN THE TWELVE (12) MONTHS PRECEDING THE FIRST INCIDENT OUT OF WHICH THE LIABILITY AROSE, PROVIDED THAT EACH PARTY’S LIABILITY UNDER SECTION 9 (CONFIDENTIALITY) SHALL NOT EXCEED THE GREATER OF (A) $5,000,000 OR (B) THE TOTAL AMOUNT OF SUBSCRIPTION FEES PAID BY FIS HEREUNDER FOR THE C3.AI SERVICES GIVING RISE TO THE LIABILITY IN THE TWELVE (12) MONTHS PRECEDING THE FIRST INCIDENT OUT OF WHICH THE 26 © 2020 C3.ai, Inc. C3.ai, Inc. CONFIDENTIAL DocuSign Envelope ID: 03581133-8B20-4C7B-88A3-3EAEF31A18BE LIABILITY AROSE. IF THE INCIDENT OUT OF WHICH THE LIABILITY AROSE OCCURS PRIOR TO THE ONE YEAR ANNIVERSARY OF THE AGREEMENT, THE AGGREGATE LIABILITY WILL BE CALCULATED USING THE AVERAGE OF THE SUBSCRIPTION FEES FOR THE MONTHS BEGINNING ON THE EFFECTIVE DATE OF THIS AGREEMENT THROUGH THE DATE OF THE INCIDENT, MULTIPLIED BY TWELVE (12). EXCEPT AS SET FORTH ABOVE, THE FOREGOING LIMITATION WILL APPLY WHETHER AN ACTION IS IN CONTRACT OR TORT AND REGARDLESS OF THE THEORY OF LIABILITY. IN NO EVENT WILL EITHER PARTY HAVE ANY LIABILITY ARISING OUT OF OR RELATED TO THIS AGREEMENT FOR ANY LOST PROFITS, REVENUES, GOODWILL, OR INDIRECT, SPECIAL, INCIDENTAL, CONSEQUENTIAL, COVER, BUSINESS INTERRUPTION OR PUNITIVE DAMAGES, WHETHER AN ACTION IS IN CONTRACT OR TORT AND REGARDLESS OF THE THEORY OF LIABILITY, EVEN IF A PARTY HAS BEEN ADVISED OF THE POSSIBILITY OF SUCH DAMAGES OR IF A PARTY’S REMEDY OTHERWISE FAILS OF ITS ESSENTIAL PURPOSE. THE FOREGOING DISCLAIMER WILL NOT APPLY TO THE EXTENT PROHIBITED BY LAW. NOTHING SET FORTH HEREIN LIMITS EITHER PARTY’S LIABILITY FOR INFRINGEMENT OR MISAPPROPRIATION OF THE OTHER PARTY’S INTELLECTUAL PROPERTY RIGHTS. 15. TERM AND TERMINATION 15.2 (A). Th Ag reement shall automatically renew for success ve three (3) year renewal terms Renewal T < C3.ai, (ii) FIS to later than ninety (90) day notice of non~renewa notice to provides written C3 of FIS S election to f the T- (a “Non-Renewa Notice”) R move into ‘maintenance only’ support, without renewing the right to use the C3 AI Suite for any further internal development (a “FIS Partial Renewal”); or (iii) C3.ai provides written notice to FIS of C3.ai’s intent to terminate FIS’s right to sell and distribute the Named C3.ai Applications (a “C3.ai Partial n the event of a FIS Partial elsewhere in the R  Agreement) to use the C3 AI Suite for FIS’ internal business use and development of FIS- D be limited to (i) support, installation of updates or upgrades, oped App l i cati on shall cations App cations rebranded as FIS-Branded App and (ii) support, enhancements (including, but not limited to new features and functionality maintenance and continued operations of the then-existing App cations, y) FIS shall retain the right to continue to sell then-existing FIS-Developed FIS-Developed © 2020 C3.ai, Inc. 27 C3.ai, Inc. CONFIDENTIAL DocuSign Envelope ID: 03581133-8B20-4C7B-88A3-3EAEF31A18BE Applications ( C3.ai Applications and Named C3.ai Applications rebranded as FIS-Br has delivered to FIS a notice of a C3.ai Partial Renewal) to FIS C conditions set forth in this Agreement, and (z) FIS may reduce either the number of Named FIS Developers or the number of C3.ai CoE FTEs (or both), in its discretion, provided that FIS must commit to at least a number of Named FIS Developers or C3.ai CoE FTEs (each at the price on the then-current C3.ai Price List) that equals the greater of (A) $1,000,000/year or (B) 1 00% of the average annual FIS-B randed Ru ntime Fees and FIS D eveloped Runtime Fees payable to C3.ai by FIS for the preceding Term (or Renewal Term, if applicable). In the event of a C3.ai Partial Renewal, all rights of FIS in Sections 3.1(c) and 3.1(d) (and elsewhere in this Agreement) to install, distribute, sell, market for sale, or permit the use of the Named C3.ai Applications rebranded as FIS-Branded Applications shall terminate at the end of the Term and, at the end of the Term, FIS shall (i) return, move or destroy all sales materials for FIS-Branded Offerings, including all references to C3.ai and the FIS-Branded Offeri advertisements controlled by FIS or its Affil i ates, of the Applications and shall permanently and irretrievably delete and destroy all copies C3.ai Applications, except that (provided that FIS remains current with obligations with respect to applicable FIS C Runtime Fees) FIS is not required to cease Approved Contracts by FIS C ustomers. FIS-B In the event that a N of a C3.ai Partial R. -R. Named C3 of the N am its payment FIS-Branded l Notice is timely issued by FIS, it shall take precedence over notice F In the event that a notice of a by C3 that FIS shall have B randed Appli cation FIS Partial Renewal by FIS and a notice of a C3.ai Partial Renewal are both timely issued, the Parties shall proceed as if it were a FIS Partial Renewal, except ed C3.ai Applications rebranded as FIS- no rights with respect to se s to new FIS C ustomers. (B) R. i T. (C) No more than 180, but no less than 135, days before the end of the Ter C3.ai shall provide written notice to the Alliance Executive of FIS (and obtain confirmation of receipt of such notice from FIS) that FIS must elect, in writing, no later than ninety (90) days before the end of the Term (or Renewal T notice of its Partial Renewal. to -R l Notice or written If FIS does not provide a timely Non-Renewal of a FIS Partial Renewal to C3.ai, and C3.ai al to FIS, then (x) this Agreement shall ter m , (y) the annual subscription fees for the annual fee in the last year of the preceding Te change in the U.S. Consumer Price Index, whichever is l Notice to C3.ai, FIS does not ide written notice ide written notice of a C3.ai Partial enew for an additional three (3) year C3.ai AI S uite for the Renewal Term shall be the m or Renewal Ter m, as applicable, plus 3% or the and (z) the prices on the C3.ai P rice does not R © 2020 C3.ai, Inc. 28 C3.ai, Inc. CONFIDENTIAL DocuSign Envelope ID: 03581133-8B20-4C7B-88A3-3EAEF31A18BE List shall be updated by C3.ai, but shall not increase Renewal Term, and shall then be in effect for that Re re than 3% over the preceding T l Term. 15.2 Term ination. A Party may terminate this Agreement for cause (i) upon 45 days Written notice to the other Party of a material breach if such breach remains uncured at the expiration of such period, or (ii) if the other Party becomes the subject of a petition in bankruptcy or any other proceeding relating to insolvency, receivership, liquidation or assignment for the benefit of creditors. 15.3 Ref P, inated by FIS in accordance with Ter mination. If this Ag S ection 15.2 (I ermination ), C3.ai will refund FIS any prepaid fees covering the then applicable remainder of the Term after the effective date of termination. If this Agreement is terminated by C3.ai in accordance with Section 15.2, FIS will pay any unpaid fees covering the remainder of the T termination relieve FIS, no event will bligation to pay any fees payable to C3.ai for the period prior to the effective date of such termination. 15.4 Extension D eletion. A. request by FIS ent, C3.ai will Data Portability and D eletion, C usto mer A pplication ade within 90 days after the effective date of termination or expiration of this lake C ustomer Data FIS in the then current format in and any FIS-D eveloped Appli c After such 90-day period, C3.ai will have no obligation to ) any of C ustomer Data or FIS-D eveloped Appli cations, and thereof in C3.ai s it was stored. maintain or provide FIS (or any FIS C ustom as provided in the C3.ai Documentation, C3.ai will thereafter delete or destroy all systems or otherwise in C3.ai’s possession or control, unless legally prohibited. 15.5 Effect of T ermination. At the expiration or termination of this Ag ( “T (the I . FIS shall: return, move or destroy all sales materials for FIS-Branded Offeri references to C3.ai and the FIS-B randed Offerings controlled by FIS or its Affiliates. An authorized destruction to C3.ai such cessation, deletion Termination D ate. representative of FIS shall certify in writing within 15 days of the of the C3  destroy all copies of the M aterials and shall permanently and irretrievably delete and C3.ai Materials, except that (provided that FIS remains current with its payment obligations with respect to applicable FIS Customer S ubscription Fees, FIS-B randed R untime Fees, and FIS-D eveloped Ru ntime Fees) FIS may continue to use the C3.ai Materials solely to support FIS-B randed Offerings and FIS-Developed Applications under the existing Approved Contracts with FIS Customers and wind down usage of the C3.ai M aterials. © 2020 C3.ai, Inc. 29 C3.ai, Inc. CONFIDENTIAL DocuSign Envelope ID: 03581133-8B20-4C7B-88A3-3EAEF31A18BE not be obligated to make any additiona paym ents to C3 except those payments b. uring Cust- Runt F- to the T ermination D Fees, FIS-Branded Ri tive Approved Contra d the then applicable FIS b Fees, and FIS-Develope ith FIS C ustomers. the term of the ith FIS C that FIS remains current with its undisputed payment obligations with respect to applicable FIS C Developed Runtim Customers, in each Fees), C3 ) n Fees, FIS-Branded Runtime Fees, and FIS- rontinue to provide Second Line Support to such FIS current term of such FIS Customer’s Approved accordance with the terms of such Approved Contract. D The sections titled Section 1 (“Definitions”), Section 2.2 (“Freedom to Pursue Opportunities”), Section 2.3 (“Relationship of the Parties”), Section 3.4 (“Fees and Payment”), Section 5.2 (“Customer’s Responsibilities”), Section 6 (“Non-C3 Providers”), Section 7.1 (C3 Intellectual Property Ownership”), Section 9 (“Confidentiality”), Section 10.1 (“Customer Intellectual Property Ownership”), Section 10.4 (“Customer Data”), Section 10.5 (“License to Use Feedback”), Section 12.3 (“Disclaimers”), Section 13 (“Mutual Indemnification”), Section 14 (“Limitation of Liability”), Section 15.3 (“Refund or Payment upon Termination”), Section 15.5 (“Customer Data Portability and Deletion; Customer Application and Customer Extension Deletion”), Section 15.5 (“Surviving Provisions”), Section 16 (“Governing Law and Jurisdiction; Notices”) and Sections 17.3 and 17.5-17.8 (“General Provisions”) will survive any termination or expiration of this Agreement. E the C3.ai M of Sou f FIS (and FIS Code. With i fter the Y< C3.ai for the C3.ai M inated by C3.ai ( E \\' the parties ( Escr ow A, Agre t), an escrow of ), in accordance A’). The source i in Exhibit J in FIS shall 16. GOVERNING LAW AND JURISDICTION; NOTICES d Venue. This Ag e State of Delawa FIS and C3.ai her United States Di Court for the Di FIS a l Prop foreg f this Agreement. Without limiting the use of C3.ai’s Confidential Information or to C3.ai and therefore money damages d C3 remedies at law or in equity, to seek equitable relief, including im mediate injunctive relief or specific A G L f D © 2020 C3.ai, Inc. 30 C3.ai, Inc. CONFIDENTIAL DocuSign Envelope ID: 03581133-8B20-4C7B-88A3-3EAEF31A18BE performance or both, without bond and without necessity of showing actual monetary damages, with any competent court or enforcement agencies. The prevailing party in any legal action related to this Agreement is entitled to recover its reasonable attorneys’ fees and costs from the other party. FIS C3.ai agree that the United Nations Convention on Co ntracts for the International Sale of Goods a Uniform Computer Transactions Act are specifically excluded from application to this Ag reement of Gi 16.2 Manner of Giving Notice. Except as otherwise specified in this Agreement, all notices related to this Agreement will be in writing and will be effective upon (a) personal delivery, (b) the second Business Day after mailing by registered mail with return receipt requested, or (c), except for notices of termination or an indemnifiable claim. ( I egal Notices ), which shall clearly be identifiable as Legal Notices, the day of sending by email. Billing-related notices to FIS will be addressed to the relevant billing contact designated by FIS. All other notices to FIS will be addressed to the relevant C3.ai Services system administrator designated by FIS. Email notices to C3.ai will be emailed to C3lega l  C3.ai. 17. GENERAI PROVISIONS 17.1 Export C The C3 other technology C3 makes available, and derivatives thereof may be subject to export laws and regulations of the United States and other Jurisdictions. Each party represents that it is not named on any U.S government denied-party list. FIS shall not and shall not perm C3.ai U.S. embargoed country (currently C North Sudan, Syria or Crimea) or in violation of any export law or regulation of the United States or of any other applicable jurisdiction. FIS will not provide to C3.ai, absent prior written notice, any data or other item that requires C3 .ai to seek an export license or authorization from any United States agencies having jurisdiction. 17.2 FIS agrees that FIS has not received or been offered any illegal or improper bribe, kickback, payment, gift, or thing of value from any of C3 ai’s employees or agents in connection with this Ag reement. Reasonable gifts and entertainment provided in the ordinary course of business do not violate the above restriction. If FIS learns of any violation of the above restriction FIS will use reasonable efforts to promptly notify C3’s Legal Department at C3Legal@c3.ai. 17.3 High risk applications. C3.ai M peration of nuclear facilities, aircraft navigation or communication systems, air traffic control systems, life support machines or other equipment in which the failure thereof could lead to death, personal injury, or seve re physical or environmental damage. Any product warranties for the C3 M aterials under this Ag reement shall exclude the applications and devices set forth in this section. FIS agrees that the C3 M aterials shall not be used, FIS will cause the FIS C ustomers to agree that the C3 M aterials shall not be used in applications where failure could threaten injury or life. C3 disclaims any and all liability arising out of, or related to, any such use of the C3 Materials.  © 2020 C3.ai, Inc. 31 C3.ai, Inc. CONFIDENTIAL DocuSign Envelope ID: 03581133-8B20-4C7B-88A3-3EAEF31A18BE 17.4 Entire Ag ree ment. This Agreement constitutes the entire agreement between FIS and C3 regarding the subject matter of the Agreement, including regarding FIS S USC of the C3.ai Services, and supersedes all prior and contemporaneous agreements, proposals or representations, written or oral, concerning its subject m atter. Except as otherwise provided herein, no modification, amendment, or waiver of any provision of this Agreement will be effective unless in writing and signed by the party against whom the modification, amendment or waiver is to be asserted. 17.5 Neither Party may assign any of its rights or obligations hereunder whether by operation of law or otherwise, without the other Party’s prior written consent (not to be unreasonably withheld); provided, however, either Party may assign this Agreement in its entirety, without the other Party’s consent, to its Affiliate or in connection with a merger, acquisition, corporate reorganization, change of control (including by way of a public offering) or similar such transaction, or sale of all or substantially all of its assets related to this Agreement; provided however, that no assignment shall occur to any FIS Competitor without the prior consent of FIS, which shall not be unreasonably withheld or conditioned. Subject to the foregoing, this Agreement will bind and inure to the benefit of the Parties, their respective successors and permitted assigns. 17.6 Third-Party Beneficiaries . There are no third-party beneficiaries under this Agree ment. 17.7 Waiver, No failure or delay by either party in exercising any right under this Agreement will constitute a waiver of that right. 17.8 Severabi l ity . If any provision of this Agreement is held by a court of competent jurisdiction to be contrary to law, the provision will be deemed null and void, and the remaining provisions of this Agreement will remain in effect. T 17.9 C3 will maintain insurance coverage during the erm as set forth in Exhibit K. [SIGNATURE PAGE FOLLOWS] © 2020 C3.ai, Inc. 32 C3.ai, Inc. CONFIDENTIAL DocuSign Envelope ID: 03581133-8B20-4C7B-88A3-3EAEF31A18BE IN WITNESS WHEREOF, the parties hereto have executed this Ag reement as of the date first above written. C3.AI, INC By  x DocuSigned by: Atm. {/AMiAZ.  34ED373AF1FE4A8... Name: Marc Levine Title CFO FIDELITY INFORMATION SERVICES, LLC. N ame: John H. Harris Title: Software Category Manager © 2020 C3.ai, Inc. 33 C3.ai, Inc. CONFIDENTIAL DocuSign Envelope ID: 03581133-8B20-4C7B-88A3-3EAEF31A18BE EXHIBIT A NAMED C3.AI APPLICATIONS C3.AI ANTI-MONEY LAUNDERING C3.AI CRM C3.AI CUSTOMER CHURN MANAGEMENT C3.AI EX MACHINA C3.AI SECURITIES LENDING OPTIMIZATION C3.AI SMART LENDING © 2020 C3.ai, Inc. 34 C3.ai, Inc. CONFIDENTIAL DocuSign Envelope ID: 03581133-8B20-4C7B-88A3-3EAEF31A18BE EXHIBIT B TEMPLATE AGREEMENTS  Vithin sixty (60) days after the Effective Date, the Parti Template Agreement(s). Pursuant to the foregoing, FIS shall not requ est, and C3 the Named C3.ai Appl until the parties mutually agreed mutually ptable the Tempi ate Agreements under this Exhibit B. © 2020 C3.ai, Inc. 35 C3.ai, Inc. CONFIDENTIAL DocuSign Envelope ID: 03581133-8B20-4C7B-88A3-3EAEF31A18BE EXHIBIT C CENTER OF EXCELLENCE C3.ai Appi i of C3.ai CoE FTE ide assistance and guidance in the design, development and testing of FIS-Developed sources of FIS. provide premium 1. CoE Overview. The purpose of the CoE is to allow FIS to develop FIS-Developed Applications on the C3 AI Suite. To facilitate FIS S efforts, C3 .ai provides the following C3.ai CoE Support Service on the C3 AI Suite to FIS personnel during the Term of the CoE. a. Support and guidance on the C3 AI Suite overall software application architecture, Data integration, data science, and overall software application design, development and deployment support on the C3 AI Suited Training on the C3 AI Suite and C3.AITools for N amed FIS D evelopers, and Help FIS to define and prioritize its development of FIS-Developed Applications and help Named FIS Developers in development of the FIS-Developed Applications, as directed by FIS in the course of the CoE. b. d. 2. t Up. Each party shall complete the applicable requirements specified below. a. FIS. (i) Named FIS Developers should complete and pass a C3.ai developers qualification test before attending the HQ Training (as defined below), (ii) Named FIS Developers should successfully complete the HQ Training, and (iii) FIS mu st define a reasonable product specification and a reasonable project plan for any FIS-Developed Application to be developed by FIS personnel in the CoE. b. C3.ai . (i) C3.ai will set up the D evelopment, Quality Assurance, and Prod uction environments for the C3 AI Suite for use by the qualified Named FIS D evelopers, and (ii C3.ai will provide 2 one-week training sessions for Named FIS Developers either remotely or at C3.ai’s headquarters in Redwood City, California, as agreed by the Parties (“HQ T raining”). 3. C3.ai will staff the CoE with the ber of C3.ai CoE FTE resource(s) as specified in the basis during each year of the Term. The type of C3.ai CoE FTE may be pro depending on the stage of CoE engag ement and Any C3.ai CoE FTE person hours in excess of the number specified in the Agreement are subject to the payment of additional fees. b. C3.ai CoE FTEs will provide instruction to Named FIS Developers on the design, development, quality assurance, performance testing, maintenance/upgrade of FIS- D eveloped Appli cations to be developed by FIS. The instruction may include, but not be limited to the following. Develop C3.ai c  © 2020 C3.ai, Inc. 36 C3.ai, Inc. CONFIDENTIAL DocuSign Envelope ID: 03581133-8B20-4C7B-88A3-3EAEF31A18BE Create and manage C3.ai data types; systematic computational analysis of data or Create and extend statistics); Write application software test for N amed C3.ai A pplications; Configure machine learning algorithms and perform steps required to test and perate sub-components/s of N amed C3 Appl ication (s) . FIS will provide a sufficient number, which is no less than the number of Named FIS Developers specified in the Agreement, of qualified FIS personnel for the design, development, and testing of FIS-D eveloped Appl ication (s) by FIS. FIS personnel may include N amed FIS Developers, application developers, data scientists, data modelers, data integrators, quality assurance engineers, operations project leadership personnel, subject matter experts, and IT personnel, project management, personnel knowledgeable about the source data systems. 4. Project Governa nce and Li m itati ons. a. C3.ai and FIS will each designate an executive sponsor to manage the relationship under the Order Form. C3.ai and FIS will ensure that the appropriate representatives from each Party participate in quarterly FIS product road map and quarterly executive status report will be created by CoE project review meetings. A project leads and shared at the b. quarterly meeting. Formal CoE project reviews will be conducted monthly by the FIS and C3.ai team leadership. The Parties each of the agree the C3.ai CoE FTE person hours will be reasonably distributed ov 12 month periods in the Term, unless otherwise agreed to by the Parties. © 2020 C3.ai, Inc. 37 C3.ai, Inc. CONFIDENTIAL DocuSign Envelope ID: 03581133-8B20-4C7B-88A3-3EAEF31A18BE EXHIBIT D C3.ai COMPETITORS 1. GE Digital 2. Palantir 3. SAP 4. Bosch 5. Accenture 6. U ptake 7. PTC 8. Siemens © 2020 C3.ai, Inc. 38 C3.ai, Inc. CONFIDENTIAL DocuSign Envelope ID: 03581133-8B20-4C7B-88A3-3EAEF31A18BE EXHIBIT E C3.ai SUPPORT SERVICES Provided that FIS remains current in its undisputed payment obligations to C3.ai under the Agreement, C3.ai will provide C3.ai Support Services relating to the access and operation of the C3 AI Suite as set . T rt, FIS detail and in a timely manner to C3.ai’s designated support contact(s) by logging a ticket in Zendesk ( Report ) and provide assistance as requested by C3.ai to diagnose and resolve such issues. First Level Support for FIS-Branded Offerings and FIS-Developed Applications will be provided by FIS. C3.ai’s obligations to provide support are subject to FIS’s implementation within no more than one hundred and twenty (120) days of all updates and upgrades (unless there are unresolved material issues related to updating or upgrading in FIS’ Hosting Services account, in which case FIS will notify C3.ai of the nature install the updates and upgrades as soon as of such issue and work with C3 .ai to address issues and provides such updates and upgrades are required for C3 .ai to FIS with prior written notice that meet their support obligations. Support Category Provision Case Limit No Limit Response Time Response Time is measured from receipt of the Report. See Response Time Matrix1 On-line Self Service Portal Included Support Hours 9 hours per day; 5 days per week. 24/7 for P12 Sever ity Level Severity Definition Exampl es Response Time P1 Severe Business Impact • Production system down or not access ible • Data loss/corruption • Repeated service interruptions 60 m i nutes C3.ai will use its commercially best efforts to work to resolve the P1 issues © 2020 C3.ai, Inc. 39 C3.ai, Inc. CONFIDENTIAL DocuSign Envelope ID: 03581133-8B20-4C7B-88A3-3EAEF31A18BE   • Performance degradation impacting business Critical previously available functionality missing without workarounds but system is otherwise up until resolution, unless an acceptable workaround can be established. P2 Significant Loss of Functional ity • Intermittent service interruptions • Noticeable but tolerable performance degradation 2 hours P3 Minor Impact • Some functionality not working as expected but there are workarounds available • HoW-to or usage questions 1 business day P4 No Operational Impact • Enhancement requests • General questions 3 business days Note 2. Support H S 6 Easte for P1 Ti 24/7 (. for P2 C3.ai d P3 d P4 a.m. to 9 the “response time” goals set forth in the table above, based upon the aforementioned hours of operation. © 2020 C3.ai, Inc. 40 C3.ai, Inc. CONFIDENTIAL DocuSign Envelope ID: 03581133-8B20-4C7B-88A3-3EAEF31A18BE EXHIBIT F OPERATIONAL CONTROL The Subscribed C3 AI Suite and C3 Applications will be deployed in the Customer\\'s Hosting Services account during the Subscription Term. Within thirty (30) days after the Effective Date, the Parties shall review and update the following Conditions and RACI to establish a mutually agreeable Operations Controls plan: Conditions: The following conditions apply: 1) FIS shall provide C3.ai 24/7 sufficient access to a virtual private cloud in a dedicated C3.ai-specific sub-account to allow: a. C3.ai to install, manage and operate the infrastructure, backup, incident management, provisioning, patches, and upgrades of the C3 AI Suite. b. C3.ai to access, but not alter or change, the C3.ai Runtime logs (which will not include Customer Data) and monitor all components of the C3 AI Suite through its centralized monitoring solution to help optimize and tune the C3 AI Suite. The C3.ai centralized monitoring component resides in the C3.ai cloud environment and is necessary for the C3 AI Suite to function. 2) FIS shall provide virtual compute, storage and networking infrastructure that meets C3.ai requirements. 3) FIS shall provide network access to C3.ai and, if on request of Customer, content providers to enable continuous content updates (e.g. weather, geospatial, documentation). 4) FIS is responsible for configuration, security, and availability of the Hosting Services environment. RACI: The following RACI1 matrix summarizes FIS\\'s and C3\\'s responsibilities.  C3 Operations C3 Support FIS C3 Access level Req’d Infrastructure as a Service C, I C, I R, A Admin level Access 1 *RACI: R - The group is responsible for completing the task or deliverable. A - The group is accountable for ensuring that the task or deliverable is completed by the responsible party. C - The group is consulted by the responsible or accountable party to determine how the task or deliverable is to be completed. I - The group is informed about the progress and completion of the task or deliverable. © 2020 C3.ai, Inc. 41 C3.ai, Inc. CONFIDENTIAL DocuSign Envelope ID: 03581133-8B20-4C7B-88A3-3EAEF31A18BE C3 AI Suite     Provisioning R, A I I Cluster Admin Patches & Upgrades R, A I c,i Cluster Admin Backup & Restoration R, A I  Infrastructure Admin Incident Management R, A I I Infrastructure Admin Infrastructure Monitoring R, A I I Infrastructure Admin System Performance Monitoring R, A I R, I Infrastructure Admin System Availability Monitoring R, A I I Infrastructure Admin System and Data Security Monitoring R, A I R, I Infrastructure Admin C3 Applications     System and Performance Monitoring R, A C, I R, I Cluster Admin Incident Management R, A C, I C, I Cluster Admin Provisioning R A, C I Cluster Admin Patches & Upgrades R A, C I Cluster Admin Customer Applications and Customer Extensions     Performance Monitoring C, I C, I R, A None Incident Management C, I C, I R, A None Provisioning C, I C, I R, A None Patches & Upgrades C, I C, I R, A None App Admin (e.g., user & content management)   R, A  Data Classification & Access Control   R, A  © 2020 C3.ai, Inc. 42 C3.ai, Inc. CONFIDENTIAL DocuSign Envelope ID: 03581133-8B20-4C7B-88A3-3EAEF31A18BE  C3 Responsibility FIS Responsibility C3 AI Suite   Infrastructure-as-a- Service C3 is responsible for: • Communicating Infrastructure, virtual compute, network, and storage requirements • AMIs, Virtual Images, or Docker containers for the C3 Server and related software components FIS is responsible for: • Infrastructure virtualization and virtual compute per C3 specifications • Network/subnet configuration per C3 specifications • Operating system patches • A file system that C3 can use for file storage. For AWS deployments, S3 is used as the file system. Providing C3 secure administrative access to the environment C3 AI Suite Installation and Configuration C3 Operations is responsible for the installation and configuration of the C3 Server and related software components.  Upgrades and Patches C3 targets quarterly releases of the C3 AI Suite. C3 Operations may also need to apply patches out of cycle to correct or prevent critical system issues. Patching and upgrades are performed on the C3 Server and related software. Patches and/or upgrades that impact the availability of applications will be coordinated with the primary customer contact. Where possible, C3 Operations will provide the Customer with lead time consistent with their software license agreement (SLA).  Infrastructure Monitoring C3 Operations provides 24x7 system monitoring. Monitoring of the C3 AI Suite includes system availability and capacity monitoring.  © 2020 C3.ai, Inc. 43 C3.ai, Inc. CONFIDENTIAL DocuSign Envelope ID: 03581133-8B20-4C7B-88A3-3EAEF31A18BE Backup and Restoration Daily backups of data stores including: the key value store, relational, and multi  dimensional data stores.  Incident Management C3 will use incident tickets to track and assign priority and severity to all incidents.  C3 Applications   Provisioning C3 Operations is responsible for the provisioning of C3 applications.  Patching and Upgrades C3 targets quarterly releases of the C3 applications. C3 Operations may also need to apply patches out of cycle to correct or prevent critical system issues. Patches and/or upgrades that impact the availability of applications will be coordinated with the primary customer contact. Where possible, C3 Operations will provide Customer with lead time consistent with their software license agreement (SLA).  Monitoring C3 Operations provides 24x7 system monitoring for applications it manages on the behalf of its customers. Monitoring of C3 Applications includes: • Application availability • Data loading and remediation of any data load failures • Work queue monitoring FIS provides access to C3\\'s all-env cloud monitoring environment hosted and managed in a C3 production vpc and account. Incident Management C3 will use incident tickets to track and assign priority and severity to all incidents.  Customer Applications and Customer Extensions   © 2020 C3.ai, Inc. 44 C3.ai, Inc. CONFIDENTIAL DocuSign Envelope ID: 03581133-8B20-4C7B-88A3-3EAEF31A18BE Provisioning  FIS is responsible for the provisioning of applications they develop or C3 applications that they have extended. Patching and Upgrades  FIS is responsible for managing and coordinating their application upgrades and patch releases. Monitoring  FIS is responsible for the monitoring of applications they develop and deploy on the C3 AI Suite. Monitoring of C3 Applications includes but is not limited to: • Application availability • Application response time • Data load activities and remediation of any data load failures • Work queue management Incident Management  FIS is responsible for the tracking and resolution of issues and incidents for the applications they develop or the C3 applications they extend. App Admin (e.g., user management, content admin)  FIS is responsible for the management and administrations of: • Application users (app users, developers, and administrators) • Application security configuration (permissions, roles, admin groups) Data Classification and Access Control  FIS is accountable to ensure their solution and its data are securely identified, labeled, and correctly classified to meet any compliance obligation. Distinguishing between sensitive customer data and content © 2020 C3.ai, Inc. 45 C3.ai, Inc. CONFIDENTIAL DocuSign Envelope ID: 03581133-8B20-4C7B-88A3-3EAEF31A18BE   designed to be private or personally identifiable must be done by FIS. FIS\\'s accountability for data classification and management should be acknowledged as an essential part of the planning process. In such solutions, FIS needs to configure and establish process to protect both the data and the solution\\'s feature set that protects their data. © 2020 C3.ai, Inc. 46 C3.ai, Inc. CONFIDENTIAL DocuSign Envelope ID: 03581133-8B20-4C7B-88A3-3EAEF31A18BE C3 EXHIBIT G C3.ai PRICE LIST .ai prices its products on a subscription basis per the price list below. The N amed C3 Appl ication fees are comprised of an annual subscription per application. C3 Runtime Fees are based on CPU and GPU consumption by the C3 AI Suite Named C3 Appl ications FIS-Branded Offerings and FIS-Developed Appli production. Al pricing in this Exhibit G is incremental and requires a separate order form between the parties and an approved FIS P urchase Order if such incremental purchase is requested by FIS NAMED C3.ai APPLICATIONS Subscription Less than $1 billion $150,000 >=$1 billion to < $2 billion $2 billion or $250,000 $500,000 The above pricing for the Named C3.ai Applications shall be reviewed from time to time, and may be adjusted by mutual written agreement of the Parties. C3.ai RUNTIME C3.ai Runtime fees $0.22/vCPU hour; $1.40/vGPU hour 2 C3.a FIS ( FIS C may purchase discounted pre-paid, twelve-month blocks of C3 Runtime at any time at Pre-Paid Rates of $0.15 vCPU hour or $0.98 vGPU hour. (30% discount). C3 Runtime used by FIS or the FIS C ustom is credited against the Pre- Paid Ru ntime F exhausted. Once the Pre- Paid R untime Fe who has purchased Pre-Paid Ru until the Pre-Paid Runtime Fee re exhausted, FIS or the FIS C u will be invoiced as incurred monthly in arrears, for Runtime rates set forth above. Runtime fees are based on CPU and GPU consumption by Applications n production. C3 R FIS-Branded untime at the standard Off erings and C3 FIS-D eveloped © 2020 C3.ai, Inc. 47 C3.ai, Inc. CONFIDENTIAL DocuSign Envelope ID: 03581133-8B20-4C7B-88A3-3EAEF31A18BE Any Pre Paid C3 Runtime not used during the applicable period expire at the end of that period, and do not “rollover” and apply as a credit against any fees for C3 R n addition FIS shall be entitled to volume-based discounts on C3 untime as fol l C3.ai Runtime Paid to C3.ai in preceding quarter Applicable C3.ai Runtime Rates for the next quarter $0-$500K $0.22/vCPU hour; $1.40/vGPU hour $501K-$1.25 million $0.19/vCPU hour; $1.26/vGPU hour $1.25-2.5 million $0.17/vCPU hour; $1.12/vGPU hour $2.5+ million $0.15/vCPU hour; $0.98/vGPU hour For clarity, the hourly rates for C3 Runtime shall move, quarter to quarter, based on amounts paid to C3.ai f C3 Runtime paid to C3 n one quarter s $1 M, the rates for C3 Runtime for the next quarter shall be applied at the lower hourly rate. f, however, the amount paid to C3 in that quarter then falls below $501K, the rates for the next quarter shall increase back to the standard rates. C3.ai CoE FTE Additional C3.ai CoE FTE $ 375,000 p FTE FTE, f 12 ADDITIONAL NAMED FIS DEVELOPER © 2020 C3.ai, Inc. 48 C3.ai, Inc. CONFIDENTIAL DocuSign Envelope ID: 03581133-8B20-4C7B-88A3-3EAEF31A18BE A dditional Named FIS De (per N amed FIS Developer, with Commitment of 12 months per D Up to 10: $200,000 per developer per year 11-50: $150,000 per developer >50: $75,000 per developer, per year per year C3.ai EX MACHINA C3.ai Ex Machina (Team per user, per month, with a $300 per user per month minimum commitment of 12 months per Ex Machina user C3.ai EX MACHINA C3.a (per user, per month, with a minimum commitment of 12 Ex Machina months per Ex Machina user ENTERPRISE LICENSE Upon written notice to C3.a FIS may (Pro) $600 per user per month elect to subscribe to (A) the C3.a Suite for up to 100 Named FIS Developers and (B) up to $1,080,000 of C3.ai Ex Machina (Teams or Pro, at FIS s discreti on Sub at a total price per year of $5,000,000. Purch of additional seats by FIS will be at the lowest cost provided above for N amed FIS D and C3.a Ex Machina CoE FTE are not included in the Enterp rise ubscription. © 2020 C3.ai, Inc. 49 C3.ai, Inc. CONFIDENTIAL DocuSign Envelope ID: 03581133-8B20-4C7B-88A3-3EAEF31A18BE EXHIBIT H SERVICE LEVEL AGREEMENT 1. C3.ai OFFERING AVAILABILITY PROVISIONS Provided that FIS remains current its undisputed payment obligations to C3 FIS shall have the right to the availability provisions set forth herein for the C3 AI Suite and the amed C3.ai n N Applications (the “C3.ai Offering”), subject to FIS’s implementation within no more than one hundred and twenty (120) days of all updates and upgrades (unless there are unresolved material issues related to updating or upgrading in FIS’ Hosting Services account, in which case FIS will notify C3.ai of the nature of such issue and work with C3.ai to address issues and install the updates and upgrades as soon as reasonably updates and upgrades are required for C3.a with prior written notice that such to meet their availability obligations. 2. DEFINITION OF AVAILABILITY “Availability” or “Available” means FIS is able to access the C3.ai Offering via the C3 AI Suite. “Downtime” means any sustained period oftime during which the C3.ai Offering are not Available, with the following exceptions, except to the extent such outages were solely the result of materials and/or instructions provided by C3.ai to FIS and/or FIS’s Hosting Services Provider: 2.1 cheduled or planned maintenance (which is limited to a planned maintenance if feasible 2.2 Any period in which FIS is unable to use the C3.ai Offering due to FIS’s use of the C3.ai Offering manner not contemplated by this greement and n a A 2.3 C3.a To the extent arising out of the following circumstances, outside of the control of or its third party providers: a failure or malfunction resulting from scripts, data, app cations algorithms, equipment, or services provided and/or performed solely by FIS; (b) outages initiated or caused solely by FIS or FIS’s third party Hosting Services provider, including FIS’s procured or provided Hosting Services; outages initiated by FIS’s Hosting Services provider at the request or direction of FIS fo maintenance, back up, or other purposes; outages occurring as a result of any actions or omissions taken C3 or its third © 2020 C3.ai, Inc. 50 C3.ai, Inc. CONFIDENTIAL DocuSign Envelope ID: 03581133-8B20-4C7B-88A3-3EAEF31A18BE party providers at the request or direction of FIS; (e) the control of outages resulting from FIS’s equipment C3.ai or its third party providers; or third party equipment not within shut down of the C3.ai Offeri (f) events resulting from an circumstances reasonably believed by C3.ai to be a significant threat to the normal operation of the C3.ai Offering, the facility from which the C3.ai Offering is provided, or access to or integrity of e.g., a hacker or a virus attack); (g) outages due to system administration, commands, or file transfers performed by FIS s representatives that are not in conformance with C3.ai Documentation or instructions from C3.ai that FIS successfully tested in a test environment similar to FIS’s Hosting Service Provider’s ironment prior to execution or implementation in such production en any Force Majeure Event. A “Force Majeure Event” means any material event or that (a) arises after the Effective the Force Majeure mbination of material events or b) is beyond the (c) is not the result of the neglig mmercially reasonable control of the party of, or caused by, the party claiming the F is unavoidable or could not be prevented or overcome by the reasonable efforts and the Force Majeure Event, including without limitation an act of due diligence of the party God, act of government, flood, fire, earthquake, problem (other than one involving the affected party’s own employees), but does not include (w) nonperformance by C3.ai’s suppliers; (x) any delay preventable by C3.ai by moving the affected services to an alternate facility; (y) changes in cost or availability of services; and (z) changes in unrest, act of terror, strike or other labor market conditions; FIS’s negligence or breach of material obligations under the Agreement; (j) lack of availability or untimely response time of FIS to respond to incidents that require FIS’s participation for source identification and/or resolution, including meeting FIS’s (k) outages during any period of time for which FIS has not granted C3 sufficient rights (including the its Hosti to remedy the outage; ntability FIS has not adequately performed the activities fo der the O perational C ontrol in Exhibit F to the Ag 3. FIS has not isioned the Hosting S he requirements reasonably specified by C3 otherwise the TARGET C3.ai OFFERING AVAILABILITY The “Target C3.ai Offering Availability Level” is the C3.ai Offering Availability Level that C3.ai plans to meet or exceed during each calendar year for which FIS is current in its undisputed payment obligations to C3.ai. The “C3.ai Offering Availability Level” is the number of hours s specified in the following sentence) that the C3.ai Offering was Downtime events (as defined abo during a particular Avai lable to FIS, e ided by the total number of hours during such period (as measured at the end of such period ). The T arget C3.ai Offering Ava ilability Level is (A) 99.5% in production for the C3.ai AI S uite in any calendar month and 99.5% in production for the Named C3.ai Appl ications in any calendar month. © 2020 C3.ai, Inc. 51 C3.ai, Inc. CONFIDENTIAL DocuSign Envelope ID: 03581133-8B20-4C7B-88A3-3EAEF31A18BE 4. SERVICE LEVEL CREDIT C3 will implement and maintain procedures to ensure that performance in compliance this Agreement is regularly monitored and measured, and the monitored activity and measured results will be reported to FIS on a monthly basis. C3.ai’s failure to meet the Availability set forth in this Agreement will result in issuance of Service Cred its as described below. The parties agree to review the Levels and related performance at least once annually. b. is below the If a Downtime event occurs and the C3.ai Offeri applicable Target C3.ai Offering Availability Level as measured for the applicable period, C3.ai will issue to FIS a Credit calculated as set forth in this Section. A “Credit” will be equal to $5,000 for each single Downtime event with duration greater than or equal to fifteen (15) consecutive minutes and shorter than or equal to one (1) hour. If a Downtime event continues for longer than one (1) hour, FIS will be entitled to one (1) Credit for each additional consecutive hour of such Downtime event, up to the Maximum Credits. The “Maximum Credits” shall be a total of twenty five (25) Credits in any calendar year. FIS will not be eligible to receive multiple Credits for the same service request, for multiple service requests across different C3.ai Offerings that arise from the same outage, or as a result of multiple service failures or outages occurring during the same period of time. Credits can be applied towards fees owed by FIS to C3.ai or provided to FIS as a refund. C3.ai shall keep track of the number of Credits accrued by FIS for each C3.ai Offering. Within ten (10) days after the end of each month during the term of the Ag reement, C3.ai shall notify FIS of the aggregate number of Credits accrued during the immediately preceding month for each C3.ai Offering, and C3.ai may apply such Credits towards the subscription fees owed to C3.ai for the respective C3.ai Offering. 5 Ter mination. remedies set forth in this Exhibit H shall be FIS’s sole and exclusive remedy and C3.ai’s sole Availability obligations, except (A) subject to Section 15.3) and (B) that FIS will have the option receive a pro-rated refund for any and all prepaid fees if either C3.ai fails to achieve availability levels of 99.0% i C3.ai Applications in any three (3) use its commercially best efforts to Exhibit E; liability for breach set forth in S ection 15.2 ( to of the following events occur: (i) production for the C3.ai AI Suite or Named of the prior twelve (12) months or (ii) C3 at any time fails to work on a P1 level issue within the P1 Response Times under ided, however, that FIS shall not be able to exercise its rights under subsection (ii) unless it has provided written notice to C3.ai’s Alliance Executive (email being sufficient) of its intent to exercise such right and provides C3.ai at least 60 m i nutes to cure. © 2020 C3.ai, Inc. 52 C3.ai, Inc. CONFIDENTIAL DocuSign Envelope ID: 03581133-8B20-4C7B-88A3-3EAEF31A18BE EXHIBIT J ESCROW RELEASE EVENTS The Release Events for the Escrow Agreement contemplated by the Agreement are as follows: a receiver, trustee, or similar officer is appointed for the business or prope rty of C3.a 2. C3 .ai files a petition in bankruptcy, files a petition seeking any reorganization (without confirming in writing to FIS that it will continue to maintain the C3 AI S uite and C3.a Applications in accordance with the terms of the A makes an arrangement, composition, or similar relief under any law regarding insolvency or relief for debtors, or makes an assignment for the benefit of creditors; or 3. any involuntary petition or proceeding under bankruptcy or insolven against C3.ai and not stayed, enjoined, or discharged within sixty (60) days; 4. C3.ai takes any corporate action authorizing any of the foregoing; 5. pect of C3 analogous proceedings or event to those in Sections 1 to 3 ab n any jurisdiction outside the United States of America; or C3 .ai sunsets its maintenance or support of the C3 Suite for all of its customers. 1 6 a © 2020 C3.ai, Inc. 53 C3.ai, Inc. CONFIDENTIAL DocuSign Envelope ID: 03581133-8B20-4C7B-88A3-3EAEF31A18BE EXHIBIT K INSURANCE REQUIIREMENTS TYPES & MINIMUM AMOUNTS OF INSURANCE COVERAGE Commercial General Liability Insurance: including Premises & O perati ons Operati ons, C ontractual, Broad Form P roperty Damage, and Personal Inj single limit of at least One Million Dollars ($1,000,000) per occurrence and ($2,000,000) general aggregate. ompl eted Mini Business Automobile Liability Insurance: for all owned, non-owned, borrowed, leased, and hired vehicles to be used in connection with the A greement, with a combined single limit of at least One Million Dollars ($1,000,000) each accident. Workers Compensation: at least One Million Dollars ($1,000,000) Employers Liability coverage. U mbrella (Excess) L iability Insurance: coverage in an amount of at least Five Million Dollars ($5,000,000) per occurrence. P rofessional Liability coverage for Network in an amount of ecurity Liability a at least Ten Million nd Privacy Liability. Dollars ($10,000,000) including OTHER INSURANCE OBLIGATIONS Prior to executing the Agreem ent and within ten (10) days of each subsequent policy renewal, C3.a will provide FIS with certificates of evidencing that the coverage and policy endorsements required under the Agreement are maintained n force with insurance companies that have A.M. B est ratings of at least A-(VIII) C3.a or its insurers will provide thirty (30) days written notice to FIS prior to material change of any such policy. Except with respect to the gross negligence of FIS, C3.ai’s policies will be primary and non- contributing with respect to any other insurance or self-insurance which may be maintained by FIS. FIS will be l Liability, A d Professional Li C3.ai and its Insurance ompensation, Carriers will waive subrogation with Liability, Commercial General Liability respect to the Workers’ and Automobile Liability C3.ai ensure that any subcontractors maintain in erage is extended under C3.ai’ s policies. force coverage as outlined © 2020 C3.ai, Inc. 54 C3.ai, Inc. CONFIDENTIAL DocuSign Envelope ID: 03581133-8B20-4C7B-88A3-3EAEF31A18BE The carrying of the above-described coverage will in no way be interpreted as relieving C3.ai of any other responsibility or liability under the A any applicable law, statute, regulation order. © 2020 C3.ai, Inc. 55 C3.ai, Inc. CONFIDENTIAL '"
      ]
     },
     "execution_count": 46,
     "metadata": {},
     "output_type": "execute_result"
    }
   ],
   "source": [
    "train_data[0][0]"
   ]
  },
  {
   "cell_type": "code",
   "execution_count": 38,
   "id": "83f6b71a",
   "metadata": {},
   "outputs": [],
   "source": [
    "import spacy\n",
    "from spacy.tokens import DocBin\n",
    "from tqdm import tqdm\n",
    "\n",
    "nlp = spacy.blank(\"en\") # load a new spacy model\n",
    "doc_bin = DocBin() # create a DocBin object"
   ]
  },
  {
   "cell_type": "code",
   "execution_count": 47,
   "id": "6734d8a4",
   "metadata": {},
   "outputs": [
    {
     "name": "stderr",
     "output_type": "stream",
     "text": [
      "  1%|▊                                                                                 | 1/103 [00:00<00:31,  3.22it/s]"
     ]
    },
    {
     "name": "stdout",
     "output_type": "stream",
     "text": [
      "Skipping entity\n",
      "Skipping entity\n",
      "Skipping entity\n",
      "Skipping entity"
     ]
    },
    {
     "name": "stderr",
     "output_type": "stream",
     "text": [
      "\r",
      "  2%|█▌                                                                                | 2/103 [00:00<00:22,  4.47it/s]"
     ]
    },
    {
     "name": "stdout",
     "output_type": "stream",
     "text": [
      "\n",
      "Skipping entity\n",
      "Skipping entity\n",
      "Skipping entity\n",
      "Skipping entity\n",
      "Skipping entity\n",
      "Skipping entity\n",
      "Skipping entity\n",
      "Skipping entity\n",
      "Skipping entity\n",
      "Skipping entity\n",
      "Skipping entity\n",
      "Skipping entity\n",
      "Skipping entity\n",
      "Skipping entity\n",
      "Skipping entity\n",
      "Skipping entity\n",
      "Skipping entity\n",
      "Skipping entity\n",
      "Skipping entity\n",
      "Skipping entity\n",
      "Skipping entity\n",
      "Skipping entity\n",
      "Skipping entity\n",
      "Skipping entity\n",
      "Skipping entity\n",
      "Skipping entity\n",
      "Skipping entity\n",
      "Skipping entity\n"
     ]
    },
    {
     "name": "stderr",
     "output_type": "stream",
     "text": [
      "\r",
      "  6%|████▊                                                                             | 6/103 [00:00<00:10,  8.89it/s]"
     ]
    },
    {
     "name": "stdout",
     "output_type": "stream",
     "text": [
      "Skipping entity\n",
      "Skipping entity\n",
      "Skipping entity\n",
      "Skipping entity\n",
      "Skipping entity\n",
      "Skipping entity\n",
      "Skipping entity\n",
      "Skipping entity\n",
      "Skipping entity\n",
      "Skipping entity\n",
      "Skipping entity\n",
      "Skipping entity\n",
      "Skipping entity\n",
      "Skipping entity\n",
      "Skipping entity\n",
      "Skipping entity\n",
      "Skipping entity\n"
     ]
    },
    {
     "name": "stderr",
     "output_type": "stream",
     "text": [
      " 11%|████████▋                                                                        | 11/103 [00:01<00:09,  9.91it/s]"
     ]
    },
    {
     "name": "stdout",
     "output_type": "stream",
     "text": [
      "Skipping entity\n",
      "Skipping entity\n",
      "Skipping entity\n",
      "Skipping entity\n",
      "Skipping entity\n",
      "Skipping entity\n",
      "Skipping entity\n",
      "Skipping entity\n",
      "Skipping entity\n",
      "Skipping entity\n",
      "Skipping entity\n",
      "Skipping entity\n",
      "Skipping entity\n",
      "Skipping entity\n",
      "Skipping entity\n",
      "Skipping entity\n",
      "Skipping entity\n",
      "Skipping entity\n",
      "Skipping entity\n",
      "Skipping entity\n",
      "Skipping entity\n",
      "Skipping entity\n",
      "Skipping entity\n",
      "Skipping entity\n",
      "Skipping entity\n",
      "Skipping entity\n",
      "Skipping entity\n",
      "Skipping entity\n",
      "Skipping entity\n",
      "Skipping entity\n",
      "Skipping entity\n",
      "Skipping entity\n",
      "Skipping entity\n",
      "Skipping entity\n",
      "Skipping entity\n",
      "Skipping entity\n",
      "Skipping entity\n",
      "Skipping entity\n"
     ]
    },
    {
     "name": "stderr",
     "output_type": "stream",
     "text": [
      "\r",
      " 13%|██████████▏                                                                      | 13/103 [00:01<00:11,  7.77it/s]"
     ]
    },
    {
     "name": "stdout",
     "output_type": "stream",
     "text": [
      "Skipping entity\n",
      "Skipping entity\n"
     ]
    },
    {
     "name": "stderr",
     "output_type": "stream",
     "text": [
      " 19%|███████████████▋                                                                 | 20/103 [00:02<00:10,  8.20it/s]"
     ]
    },
    {
     "name": "stdout",
     "output_type": "stream",
     "text": [
      "Skipping entity\n",
      "Skipping entity\n",
      "Skipping entity\n",
      "Skipping entity\n",
      "Skipping entity\n",
      "Skipping entity\n",
      "Skipping entity\n",
      "Skipping entity\n",
      "Skipping entity\n",
      "Skipping entity\n",
      "Skipping entity\n",
      "Skipping entity\n"
     ]
    },
    {
     "name": "stderr",
     "output_type": "stream",
     "text": [
      " 25%|████████████████████▍                                                            | 26/103 [00:02<00:06, 12.03it/s]"
     ]
    },
    {
     "name": "stdout",
     "output_type": "stream",
     "text": [
      "Skipping entity\n",
      "Skipping entity\n",
      "Skipping entity\n",
      "Skipping entity\n",
      "Skipping entity\n",
      "Skipping entity\n",
      "Skipping entity\n",
      "Skipping entity\n",
      "Skipping entity\n"
     ]
    },
    {
     "name": "stderr",
     "output_type": "stream",
     "text": [
      "\r",
      " 27%|██████████████████████                                                           | 28/103 [00:03<00:06, 10.88it/s]"
     ]
    },
    {
     "name": "stdout",
     "output_type": "stream",
     "text": [
      "Skipping entity\n",
      "Skipping entity\n"
     ]
    },
    {
     "name": "stderr",
     "output_type": "stream",
     "text": [
      "\r",
      " 29%|███████████████████████▌                                                         | 30/103 [00:03<00:08,  8.51it/s]"
     ]
    },
    {
     "name": "stdout",
     "output_type": "stream",
     "text": [
      "Skipping entity\n",
      "Skipping entity\n",
      "Skipping entity\n",
      "Skipping entity\n"
     ]
    },
    {
     "name": "stderr",
     "output_type": "stream",
     "text": [
      " 34%|███████████████████████████▌                                                     | 35/103 [00:04<00:07,  9.18it/s]"
     ]
    },
    {
     "name": "stdout",
     "output_type": "stream",
     "text": [
      "Skipping entity\n",
      "Skipping entity\n",
      "Skipping entity\n",
      "Skipping entity\n",
      "Skipping entity\n"
     ]
    },
    {
     "name": "stderr",
     "output_type": "stream",
     "text": [
      " 43%|██████████████████████████████████▌                                              | 44/103 [00:04<00:05, 11.59it/s]"
     ]
    },
    {
     "name": "stdout",
     "output_type": "stream",
     "text": [
      "Skipping entity\n",
      "Skipping entity\n",
      "Skipping entity\n",
      "Skipping entity\n",
      "Skipping entity\n",
      "Skipping entity\n",
      "Skipping entity\n",
      "Skipping entity\n",
      "Skipping entity\n",
      "Skipping entity\n",
      "Skipping entity\n",
      "Skipping entity\n",
      "Skipping entity\n",
      "Skipping entity\n",
      "Skipping entity\n",
      "Skipping entity\n",
      "Skipping entity\n",
      "Skipping entity\n",
      "Skipping entity\n",
      "Skipping entity\n",
      "Skipping entity\n",
      "Skipping entity\n"
     ]
    },
    {
     "name": "stderr",
     "output_type": "stream",
     "text": [
      "\r",
      " 45%|████████████████████████████████████▏                                            | 46/103 [00:04<00:04, 12.10it/s]"
     ]
    },
    {
     "name": "stdout",
     "output_type": "stream",
     "text": [
      "Skipping entity\n",
      "Skipping entity\n",
      "Skipping entity\n",
      "Skipping entity\n",
      "Skipping entity\n",
      "Skipping entity\n"
     ]
    },
    {
     "name": "stderr",
     "output_type": "stream",
     "text": [
      " 49%|███████████████████████████████████████▎                                         | 50/103 [00:05<00:04, 11.43it/s]"
     ]
    },
    {
     "name": "stdout",
     "output_type": "stream",
     "text": [
      "Skipping entity\n",
      "Skipping entity\n",
      "Skipping entity\n",
      "Skipping entity\n",
      "Skipping entity\n",
      "Skipping entity\n",
      "Skipping entity\n",
      "Skipping entity\n",
      "Skipping entity\n",
      "Skipping entity\n",
      "Skipping entity\n",
      "Skipping entity\n",
      "Skipping entity\n",
      "Skipping entity\n",
      "Skipping entity\n",
      "Skipping entity\n",
      "Skipping entity\n",
      "Skipping entity\n",
      "Skipping entity\n",
      "Skipping entity\n",
      "Skipping entity\n",
      "Skipping entity\n",
      "Skipping entity\n",
      "Skipping entity\n",
      "Skipping entity\n",
      "Skipping entity\n",
      "Skipping entity"
     ]
    },
    {
     "name": "stderr",
     "output_type": "stream",
     "text": [
      "\r",
      " 51%|█████████████████████████████████████████▋                                       | 53/103 [00:05<00:03, 14.44it/s]"
     ]
    },
    {
     "name": "stdout",
     "output_type": "stream",
     "text": [
      "\n",
      "Skipping entity\n",
      "Skipping entity\n",
      "Skipping entity\n",
      "Skipping entity\n",
      "Skipping entity\n",
      "Skipping entity\n",
      "Skipping entity\n",
      "Skipping entity\n",
      "Skipping entity\n",
      "Skipping entity\n",
      "Skipping entity\n"
     ]
    },
    {
     "name": "stderr",
     "output_type": "stream",
     "text": [
      " 55%|████████████████████████████████████████████▊                                    | 57/103 [00:05<00:03, 11.57it/s]"
     ]
    },
    {
     "name": "stdout",
     "output_type": "stream",
     "text": [
      "Skipping entity\n",
      "Skipping entity\n",
      "Skipping entity\n",
      "Skipping entity\n"
     ]
    },
    {
     "name": "stderr",
     "output_type": "stream",
     "text": [
      " 59%|███████████████████████████████████████████████▉                                 | 61/103 [00:06<00:04,  9.08it/s]"
     ]
    },
    {
     "name": "stdout",
     "output_type": "stream",
     "text": [
      "Skipping entity\n",
      "Skipping entity\n",
      "Skipping entity\n",
      "Skipping entity\n",
      "Skipping entity\n",
      "Skipping entity\n",
      "Skipping entity\n",
      "Skipping entity\n",
      "Skipping entity\n",
      "Skipping entity\n",
      "Skipping entity\n",
      "Skipping entity\n",
      "Skipping entity\n",
      "Skipping entity\n",
      "Skipping entity\n",
      "Skipping entity\n",
      "Skipping entity\n",
      "Skipping entity\n"
     ]
    },
    {
     "name": "stderr",
     "output_type": "stream",
     "text": [
      "\r",
      " 61%|█████████████████████████████████████████████████▌                               | 63/103 [00:06<00:03, 10.41it/s]"
     ]
    },
    {
     "name": "stdout",
     "output_type": "stream",
     "text": [
      "Skipping entity\n",
      "Skipping entity\n",
      "Skipping entity\n",
      "Skipping entity\n"
     ]
    },
    {
     "name": "stderr",
     "output_type": "stream",
     "text": [
      "\r",
      " 63%|███████████████████████████████████████████████████                              | 65/103 [00:07<00:05,  7.17it/s]"
     ]
    },
    {
     "name": "stdout",
     "output_type": "stream",
     "text": [
      "Skipping entity\n"
     ]
    },
    {
     "name": "stderr",
     "output_type": "stream",
     "text": [
      " 68%|███████████████████████████████████████████████████████                          | 70/103 [00:07<00:03, 10.75it/s]"
     ]
    },
    {
     "name": "stdout",
     "output_type": "stream",
     "text": [
      "Skipping entity\n",
      "Skipping entity\n",
      "Skipping entity\n",
      "Skipping entity\n",
      "Skipping entity\n",
      "Skipping entity\n",
      "Skipping entity\n",
      "Skipping entity\n",
      "Skipping entity\n",
      "Skipping entity\n",
      "Skipping entity\n",
      "Skipping entity\n",
      "Skipping entity\n",
      "Skipping entity\n",
      "Skipping entity\n",
      "Skipping entity\n",
      "Skipping entity\n"
     ]
    },
    {
     "name": "stderr",
     "output_type": "stream",
     "text": [
      " 74%|███████████████████████████████████████████████████████████▊                     | 76/103 [00:07<00:02, 10.98it/s]"
     ]
    },
    {
     "name": "stdout",
     "output_type": "stream",
     "text": [
      "Skipping entity\n",
      "Skipping entity\n",
      "Skipping entity\n",
      "Skipping entity\n",
      "Skipping entity\n",
      "Skipping entity\n",
      "Skipping entity\n",
      "Skipping entity\n"
     ]
    },
    {
     "name": "stderr",
     "output_type": "stream",
     "text": [
      " 80%|████████████████████████████████████████████████████████████████▍                | 82/103 [00:08<00:01, 10.92it/s]"
     ]
    },
    {
     "name": "stdout",
     "output_type": "stream",
     "text": [
      "Skipping entity\n"
     ]
    },
    {
     "name": "stderr",
     "output_type": "stream",
     "text": [
      " 83%|███████████████████████████████████████████████████████████████████▋             | 86/103 [00:08<00:01,  9.21it/s]"
     ]
    },
    {
     "name": "stdout",
     "output_type": "stream",
     "text": [
      "Skipping entity\n",
      "Skipping entity\n",
      "Skipping entity\n",
      "Skipping entity\n",
      "Skipping entity\n",
      "Skipping entity\n",
      "Skipping entity\n",
      "Skipping entity\n",
      "Skipping entity\n",
      "Skipping entity\n",
      "Skipping entity\n",
      "Skipping entity\n",
      "Skipping entity\n"
     ]
    },
    {
     "name": "stderr",
     "output_type": "stream",
     "text": [
      " 91%|█████████████████████████████████████████████████████████████████████████▉       | 94/103 [00:09<00:00, 11.17it/s]"
     ]
    },
    {
     "name": "stdout",
     "output_type": "stream",
     "text": [
      "Skipping entity\n",
      "Skipping entity\n",
      "Skipping entity\n",
      "Skipping entity\n",
      "Skipping entity\n",
      "Skipping entity\n",
      "Skipping entity\n",
      "Skipping entity\n",
      "Skipping entity\n",
      "Skipping entity\n",
      "Skipping entity\n",
      "Skipping entity\n",
      "Skipping entity\n",
      "Skipping entity\n",
      "Skipping entity\n",
      "Skipping entity\n",
      "Skipping entity\n",
      "Skipping entity\n",
      "Skipping entity\n",
      "Skipping entity\n",
      "Skipping entity\n",
      "Skipping entity\n",
      "Skipping entity\n",
      "Skipping entity\n",
      "Skipping entity"
     ]
    },
    {
     "name": "stderr",
     "output_type": "stream",
     "text": [
      " 97%|█████████████████████████████████████████████████████████████████████████████▋  | 100/103 [00:10<00:00, 15.11it/s]"
     ]
    },
    {
     "name": "stdout",
     "output_type": "stream",
     "text": [
      "\n",
      "Skipping entity\n",
      "Skipping entity\n",
      "Skipping entity\n",
      "Skipping entity\n",
      "Skipping entity\n",
      "Skipping entity\n",
      "Skipping entity\n",
      "Skipping entity\n",
      "Skipping entity\n",
      "Skipping entity\n",
      "Skipping entity\n",
      "Skipping entity\n",
      "Skipping entity\n",
      "Skipping entity\n",
      "Skipping entity\n",
      "Skipping entity\n",
      "Skipping entity\n",
      "Skipping entity\n",
      "Skipping entity\n",
      "Skipping entity\n",
      "Skipping entity\n",
      "Skipping entity\n",
      "Skipping entity\n",
      "Skipping entity\n",
      "Skipping entity\n",
      "Skipping entity\n",
      "Skipping entity\n",
      "Skipping entity\n",
      "Skipping entity\n"
     ]
    },
    {
     "name": "stderr",
     "output_type": "stream",
     "text": [
      "100%|████████████████████████████████████████████████████████████████████████████████| 103/103 [00:10<00:00, 10.01it/s]\n"
     ]
    }
   ],
   "source": [
    "from spacy.util import filter_spans\n",
    "\n",
    "for training_example in tqdm(train_data): \n",
    "    text = training_example[0]\n",
    "    labels = training_example[1]['entities']\n",
    "    doc = nlp.make_doc(text) \n",
    "    ents = []\n",
    "    for start, end, label in labels:\n",
    "        span = doc.char_span(start, end, label=label, alignment_mode=\"contract\")\n",
    "        if span is None:\n",
    "            print(\"Skipping entity\")\n",
    "        else:\n",
    "            ents.append(span)\n",
    "    filtered_ents = filter_spans(ents)\n",
    "    doc.ents = filtered_ents \n",
    "    doc_bin.add(doc)\n",
    "\n",
    "doc_bin.to_disk(\"training_data.spacy\") # save the docbin object"
   ]
  },
  {
   "cell_type": "code",
   "execution_count": 48,
   "id": "b29388a3",
   "metadata": {},
   "outputs": [
    {
     "name": "stdout",
     "output_type": "stream",
     "text": [
      "[+] Auto-filled config with all values\n",
      "[+] Saved config\n",
      "config.cfg\n",
      "You can now add your data and train your pipeline:\n",
      "python -m spacy train config.cfg --paths.train ./train.spacy --paths.dev ./dev.spacy\n"
     ]
    },
    {
     "name": "stderr",
     "output_type": "stream",
     "text": [
      "2022-05-19 06:42:08.418136: W tensorflow/stream_executor/platform/default/dso_loader.cc:64] Could not load dynamic library 'cudart64_110.dll'; dlerror: cudart64_110.dll not found\n"
     ]
    }
   ],
   "source": [
    "!python -m spacy init fill-config base_config.cfg config.cfg"
   ]
  },
  {
   "cell_type": "markdown",
   "id": "03ede5cb",
   "metadata": {},
   "source": [
    "# test this"
   ]
  },
  {
   "cell_type": "code",
   "execution_count": 1,
   "id": "6054aa99",
   "metadata": {},
   "outputs": [
    {
     "name": "stdout",
     "output_type": "stream",
     "text": [
      "^C\n"
     ]
    }
   ],
   "source": [
    "!python -m spacy train config.cfg --output training_data.spacy\n"
   ]
  },
  {
   "cell_type": "code",
   "execution_count": null,
   "id": "a873d2b3",
   "metadata": {},
   "outputs": [],
   "source": [
    "# !python -m spacy train config.cfg --paths.train ./training_data.spacy --paths.dev ./training_data.spacy"
   ]
  },
  {
   "cell_type": "code",
   "execution_count": null,
   "id": "316c9bab",
   "metadata": {},
   "outputs": [],
   "source": [
    "# https://medium.com/analytics-vidhya/custom-named-entity-recognition-ner-model-with-spacy-3-in-four-steps-7e903688d51"
   ]
  },
  {
   "cell_type": "code",
   "execution_count": null,
   "id": "75f731e6",
   "metadata": {},
   "outputs": [],
   "source": [
    "# https://www.machinelearningplus.com/nlp/training-custom-ner-model-in-spacy/\n",
    "#     https://spacy.io/usage/training#quickstart\n",
    "#         https://newscatcherapi.com/blog/train-custom-named-entity-recognition-ner-model-with-spacy-v3"
   ]
  }
 ],
 "metadata": {
  "kernelspec": {
   "display_name": "Python 3 (ipykernel)",
   "language": "python",
   "name": "python3"
  },
  "language_info": {
   "codemirror_mode": {
    "name": "ipython",
    "version": 3
   },
   "file_extension": ".py",
   "mimetype": "text/x-python",
   "name": "python",
   "nbconvert_exporter": "python",
   "pygments_lexer": "ipython3",
   "version": "3.8.5"
  }
 },
 "nbformat": 4,
 "nbformat_minor": 5
}
