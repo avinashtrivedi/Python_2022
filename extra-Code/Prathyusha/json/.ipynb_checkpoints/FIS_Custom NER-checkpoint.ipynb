{
 "cells": [
  {
   "cell_type": "code",
   "execution_count": 1,
   "id": "3cb1082b",
   "metadata": {},
   "outputs": [],
   "source": [
    "import json\n",
    "import os"
   ]
  },
  {
   "cell_type": "code",
   "execution_count": 2,
   "id": "9d7c479a",
   "metadata": {},
   "outputs": [],
   "source": [
    "files = [i for i in os.listdir() if i.endswith('.json')]"
   ]
  },
  {
   "cell_type": "code",
   "execution_count": 3,
   "id": "bb91b061",
   "metadata": {},
   "outputs": [
    {
     "name": "stdout",
     "output_type": "stream",
     "text": [
      "0009.json\n",
      "0010_aman.json\n",
      "0004.json\n",
      "0012.json\n",
      "0008.json\n",
      "0010_cory.json\n",
      "0010_silpa.json\n",
      "0010_shahnaaz.json\n",
      "0010_nitya.json\n",
      "train.json\n",
      "0000.json\n",
      "0011.json\n"
     ]
    }
   ],
   "source": [
    "train_data = []\n",
    "\n",
    "for file in files:\n",
    "    \n",
    "    with open(file,encoding='utf8') as fp:\n",
    "        data = json.load(fp)\n",
    "        \n",
    "    try:\n",
    "        \n",
    "        for dat in data:\n",
    "            mylst = []\n",
    "            for info in dat['annotations'][0]['result']:\n",
    "                s = info['value']['start']\n",
    "                e = info['value']['end']\n",
    "                ent = info['value']['labels'][0]\n",
    "                mylst.append((s,e,ent))\n",
    "\n",
    "            train_data.append((data[0]['data']['text'],{'entities':mylst}))\n",
    "    except:\n",
    "        print(file)"
   ]
  },
  {
   "cell_type": "code",
   "execution_count": 4,
   "id": "f33764f5",
   "metadata": {},
   "outputs": [],
   "source": [
    "# data[0]['annotations'][0]['result'][0]['value']"
   ]
  },
  {
   "cell_type": "code",
   "execution_count": 5,
   "id": "de8c33fe",
   "metadata": {},
   "outputs": [],
   "source": [
    "import json\n",
    "\n",
    "with open('train.json', 'w') as fp:\n",
    "    json.dump(train_data, fp)"
   ]
  },
  {
   "cell_type": "code",
   "execution_count": 6,
   "id": "2fc6e4d5",
   "metadata": {},
   "outputs": [],
   "source": [
    "# train_data"
   ]
  },
  {
   "cell_type": "code",
   "execution_count": 7,
   "id": "2a631478",
   "metadata": {},
   "outputs": [],
   "source": [
    "from __future__ import unicode_literals, print_function\n",
    "import plac\n",
    "import random\n",
    "from pathlib import Path\n",
    "import spacy\n",
    "from tqdm import tqdm "
   ]
  },
  {
   "cell_type": "code",
   "execution_count": 10,
   "id": "15ab7b41",
   "metadata": {},
   "outputs": [],
   "source": [
    "nlp1 = spacy.load('en_core_web_lg')"
   ]
  },
  {
   "cell_type": "code",
   "execution_count": 11,
   "id": "7b338c30",
   "metadata": {},
   "outputs": [],
   "source": [
    "model = None\n",
    "output_dir=Path(\"ner\")\n",
    "n_iter=100"
   ]
  },
  {
   "cell_type": "code",
   "execution_count": 12,
   "id": "66b2bf14",
   "metadata": {},
   "outputs": [
    {
     "name": "stdout",
     "output_type": "stream",
     "text": [
      "Created blank 'en' model\n"
     ]
    }
   ],
   "source": [
    "if model is not None:\n",
    "    nlp = spacy.load(model)  \n",
    "    print(\"Loaded model '%s'\" % model)\n",
    "else:\n",
    "    nlp = spacy.blank('en')  \n",
    "    print(\"Created blank 'en' model\")"
   ]
  },
  {
   "cell_type": "code",
   "execution_count": 13,
   "id": "19fd08e7",
   "metadata": {},
   "outputs": [],
   "source": [
    "if 'ner' not in nlp.pipe_names:\n",
    "    ner = nlp.create_pipe('ner')\n",
    "    nlp.add_pipe(\"ner\", last=True)\n",
    "else:\n",
    "    ner = nlp.get_pipe('ner')"
   ]
  },
  {
   "cell_type": "code",
   "execution_count": 16,
   "id": "a0afb393",
   "metadata": {},
   "outputs": [
    {
     "data": {
      "text/plain": [
       "'proposai Fidelity Information Services LU Prepared by: Miranda Whitcher Proposal No: Q186784 Date: 23 January 2018 bsi Rahul Bhardwaj VP - Information Security Fidelity Information Services LLC 4900 W. Brown Deer Road Milwaukee WI 53223 23 January 2018 Dear Rahul, Reference number: Q186784 - Fidelity Derivatives Utility business - System Certification - ISO 27001 New Registration I\\'d like to thank you for the opportunity to demonstrate how BSI can help your organization and am delighted to provide you with a detailed breakdown of the revised proposal we discussed. I hope you agree this proposal is in line with your needs and the details used are accurate. If you feel that anything needs adjusting or doesn\\'t reflect your precise requirements then please let me know. Ill call you over the next few days to check that you have all the information you need. Alternatively if you have any questions or would like to make any amendments then please call me on (571) 216-9603 or email me at miranda.whitcher@bsigroup.com. As a client, you will have access to our Just 4 Customers portal where you can download your certificate and corresponding logos, find the most recent scheme rules and requirements, view other standard¬ specific information, access important contract change forms as well as our most recent terms of service. When you receive notification that your certificate has been issued, please be sure to log on to this important portal to keep abreast of the latest scheme information and terms of senrice. To guarantee a complete audit trail we ask customers to sign our proposals electronically. To do this simply follow the on screen prompts to add important information and enter your details in the signature section on the Declaration page. Then just use the \\'Click to sign\\' button to accept and return the proposal to me. Once we receive your e mail we will be in touch to confirm all the necessary arrangements. Thank you for taking the time to consider our proposal and I look forward to hearing from you soon. Yours sincerely, Miranda Whitcher Vice President, Global Accounts T: (571)216-9603 E: miranda.whitcher@bsigroup.com www.bsiamerica.com bsi Client details Client name: Address: Fidelity Information Services LLC 4900 W. Brown Deer Road Milwaukee WI 53223 US Contact name: Phone number: Email address: Rahul Bhardwaj 414-357-2401 rahul.bhardwaj@fisglobal.com Certr cation invoice Details Company Name: Fidelity Information Services LLC Telephone: 414-357-2401\\nBilling Contact: Rahul Bhardwaj Email: rahul.bhardwaj@fisglobal.com\\nInvoice Address: PO #:\\n♦Billing Amount/\\nNotes: Expiry Date:\\n* e BSI issues invoices for its services through its local offices in the country in which it renders the services. For any multisite locations, you agree to remit payment for invoices generated by our local offices, which may also include local taxes where such taxes (such as VAT) are applicable. In the invoices notes section above, please enter a physical mailing address or e-mail address to which our invoices should be delivered. If any other billing arrangements are requested (e.g., a standard single currency), this must be discussed and agreed with your Sales Representative prior to executing this agreement. bsi ISO 27001 Locations in scope Rahul Bhardwaj 98 . The management of information security applies to FIS Derivatives Utilities critical technology assets and services including their supporting functions and facilities, Techonology operations, Client Operations, Application Support and Infrastructure support as per the statement of applicability dated xx/xx/xxxx Fidelity Derivatives Utility business - HQ Harborside 3, 210 Hudson Street, Jersey City, NJ, US, 07311 Fidelity Derivatives Utility business - Chicago IL 227 West Monroe Street, Chicago ,IL, US, 60606-5016 Rahul Bhardwaj business - Lombard IL 377 East Butterfield Road, Suite 800, Lombard, IL, US, 60606- 5016 dr site Rahul Bhardwaj bsi Rahul Bhardwaj 50 Fidelity Derivatives Utility Business - Poland PI. Grunwaldzki 25, Wroclaw, Poland, 50-365 Fidelity Derivatives Utility business - Raleigh NC Central Park South, Suite 200, Rahul Bhardwaj 5003 South Miami Boulevard, Durham, NC, US, 27703 office site supporting operations Fidelity Derivatives Utility business - Ridgefield NJ 1008 Virgil Avenue, Ridgefield, NJ, USA, 07657 Rahul Bhardwaj Fidelity Derivatives Utility business - Singapore 1 Changi Business Park„Central Rahul Bhardwaj 1, Singapore office site supporting operations Rahul Bhardwaj 1 Data center Rahul Bhardwaj 5 Rahul Bhardwaj 5 FIS Systems PTY Ltd - Sydney NSW Level 12, 55 Clarence Street, Sydney, NSW, Australia, 2000 DR site with no headcount or active operations Fidelity Derivatives Utility Business - Surrey UK Sherwood House, Eastworth Road, Chertsey, Surrey, UK, KT16 8SH Fidelity Derivatives Utility business - Singapore Data Ctr 71 Robinson Road #14-02/03 & #15-00, Singapore, Singapore, 068895 bsi | DR site with no headcount or active Ji operations. bsi :.\\'v ddLd diddy diddled Description Unit Price QTY/ Day(s) Cost\\nISO 27001 - Initial - Programme management ISO/IEC 27001 - Full Day (Exclusive) $ 2,000.00 2 $ 4,000.00\\nISO 27001 - Initial - Stage 1 - Assessment visit ISO/IEC 27001 - Full Day (Exclusive) $ 2,000.00 2 $ 4,000.00\\nISO 27001 - Initial - Stage 2 - Assessment visit ISO/IEC 27001 - Full Day (Exclusive) $ 2,000.00 3.5 $ 7,000.00\\nISO 27001 - Annual management fee for 11 sites billed to the HQ location. $200 per site. $ 200.00 11 sites $ 2,200.00\\nTotal $ 17,200.00\\nDescription Unit Price Cost Day(s)\\nISO 27001 - Initial - Stage 2 - Assessment visit ISO/IEC 27001 - Full Day (Exclusive) $ 2,000.00 1 $ 2,000.00 Total $ 2,000.00\\nDescription Unit Price QTY/ Day(s) Cost\\nISO 27001 - Initial - Stage 2 - Assessment visit ISO/IEC 27001 - Full Day (Inclusive) $ 1,673.03 2.5 $ 4,182.58\\nTotal $ 4,182.58\\nDescription Unit Price QTY/ Day(s) Cost\\nISO 27001 - Initial - Stage 2 - Assessment visit ISO/IEC 27001 - Full Day (Exclusive) $ 658.00 1 $ 658.00\\nTotal $ 658.00 Description Unit Price QTY/ Day(s) Cost\\nISO 27001 - Initial - Stage 2 - Assessment visit ISO/IEC 27001 - Full Day (Exclusive) $ 2,000.00 1.5 $ 2,000.00\\nTotal $ 3,000.00\\nbsi Description Unit Price ISO 27001 - Initial - Stage 2 - Assessment visit ISO/IEC 27001 - Full Day (Exclusive) $ 2,000.00 QTY/ Cost\\nDay(s) 1 $ 2,000.00\\nTotal $ 2,000.00\\nThe plan will be to audit the HQ and a sample of sites over the 3 year period. For surveillance BSI will audit the HQ and 2 sites each year with HQ and 3 sites for the recertification audit. A sample plan will be generated once the sites achieve registration. bsi BSI has reviewed the information you kindly supplied, and have prepared a cost proposal as presented below and detailed in the Statement of Work. Please review, and on acceptance, in order to proceed; • Complete the Target Dates below • Sign and date the Declaration below We will contact you on receipt of the application to review your objectives and the assessment requirements. We shall make every effort to meet your requested target assessment dates. Estimated Initial Certification Cost $ 29,040.58 $ 29,040.58 Please note the following payment timelines (as applicable): Assessment fees - invoiced upon services rendered. (Note that some assessment schemes may require you to pay certain fees to or on behalf of the accreditation body that maintains the scheme. These fees are independent of assessment fees charged by BSI. In some instances, BSI may be responsible for collecting those fees on behalf of the accreditation body and in other instances; you will be invoiced directly by the certification body. Annual Management Fee - will be invoiced on a pro-rated basis after issuance of the certificate, and in January of every year thereafter. For plus-expenses rate, all expenses incurred, which can include mileage, hotel, meals, airfare or other transportation, car rental, will be charged at cost. Time that the auditor is required to spend traveling will be a separate charge and will be charged at the contracted assessment rate. bsi (.eruficMro» -araet Dates These dates can be changed according to BSI\\'s Terms of Service. Your formal schedule will be agreed upon with your client manager. Please indicate your preferred dates, below, for each visit BSI planning delivery lead time is normally 90 days. Where target dates are under 90 day window BSI will do its best to accommodate the request. Dates are not considered firm until confirmed by our planning team. If no dates are specified, BSI will set up 120 days from date of signed agreement. BSI can provide a cost estimate for the pre-assessment audit if required. BSI would recommend a 2 audit before your stage 1 audit to determine readiness. bsi We are BSI in the Americas with our primary place of business at 12950 Worldgate Drive, Suite 800, Herndon, VA 20170, United States. We will correspond with you from this address. By signing below you hereby accept the following: • The services described in this proposal • The quotation of fees provided in this proposal. The BSI Terms of Service form a part of this proposal and together form the contract between BSI and you. For BSI, xf iZ- Tim Wren COO, BSI Americas Management Systems In signing this proposal we confirm that we have the authority to enter into this contract on behalf of Fidelity Information Services LLC at which we are seeking assessment services. Authorized Signature (please sign) / tvv] tit\\' &A \\') \\' Print Name; Position: Date: O Jj-— 0 2— I & This quotation is valid for 60 days.* *The terms, including pricing set forth in this quotation for achieving registration shall expire sixty (60 days) following the date hereof unless accepted in its entirety prior to the expiration date. No modifications to this quotation for services shall be legally binding unless and until accepted in writing by the duly authorized representatives of both parties. BSI Terms of Service (Management Systems Services) (08 2016) (USA and Canada) Pact 1 The Contras:1. The Contract under which BSI is to provide services to you consists of the Proposal and these Terms of Service. For convenience, this Contract also includes provisions covering Training Services and access to BSI\\'s Action Manager software. If you are not purchasing Training Services and/or access to BSI\\'s Action Manager software, then as appropriate, those provisions of this Contract shall deemed not to apply to you. Definitions In these Terms of Service, these words have specific meaning: BSIAffiliate - a member of BSI\\'s group is any company that is ultimately owned by The British Standards Institution, including The British Standards Institution itself. BSI/we/our- the BSI company with whom you have signed the Proposal. : BSILogos- means any trade mark, certification mark, design or device owned or controlled by BSI which you may be permitted to use under a limited license provided by BSI. . the Certificate - means the certificate of conformity granted to you by BSI; ■ the Contract - means the Proposal and these Terms of Service. the Proposal- means the written communication(s) describing the Services and containing these Terms of Service, provided to you from time to time by BSI, which you have signed. ; \\\\ the Services- means the services described in the Proposal to be provided by BSI or the BSI Affiliate to you pursuant to the Contract. the System - means BSI\\'s Action Manager ■ you/your- means the party who has signed the Proposal and who is buying the Services from BSI or that party\\'s successor(s) and/or permissible assign(s). Pail 2 Our Performance c* rise Services BSI shall perform the Services in accordance with: ‘ ail applicable legislation from time to time in force all regulations that may be passed pursuant applicable legislation by a government, regulatory body or other body that performs the function of overseeing the results of the Services or of the products to which they relate . ;■ ISO 17021, or any replacement standard used as the basis for the granting of accreditation by an accreditation body to a certification body. The provisions of this Part 2 shall survive any performance, acceptance or payment pursuant to this Contract. Part 3 Cooe o\\' Business Etines. Anti Bribery and Corruption Policy and Exports Controls BSI conducts its business strictly in accordance with its policies: 1. Business Ethics may be found here: http://www.bsigroup.com/upload/governance/business- ethics/bsi-code-of-business-ethics.pdf 2. Anti-Bribery and Corruption may be found here: http://www.bsigroup.com/Documents/about-bsi/ethics-and- social-responsibility/bsi-anti-bribery-policy.pdf BSI employees, agents and other representatives are prohibited from giving or receiving money or gifts which could be construed as bribes or entering into arrangements that are construed as corrupt practices. BSI has and will maintain in place throughout the term of the Contract policies and procedures to ensure compliance with its codes, and will enforce them where appropriate. 3. Exports of data and information exchanged under this Contract may be subject to the export laws of the United States including, but not limited to, the U.S. International Traffic in Arms Regulations (ITAR) and the Export Administration Regulations (EAR). Neither you nor we shall export, disclose or transfer any such data directly or indirectly without compliance with these and any other applicable laws and regulations. A ¥eijr Ducv tc Provide infoimation You acknowledge that your information is material to BSI providing the Services. Accordingly, you will provide to BSI and any assessor appointed by BSI to conduct assessment services as part of the Services: full, complete and accurate information relevant to the Services, including, if relevant, test calibrations; : : regular updates comprising full, complete and accurate details of any changes to the information since you first provided it to BSI (be advised that such changes, including changes to employee headcount may necessitate increases in audit duration(s) with appurtenant cost differentials); and : any additional information that BSI may request from you as being relevant to the Services. This duty to provide and update information is a continuing one and lasts for the duration of the Contract. In particular, if BSI receives a complaint from a third party that, in the sole opinion of BSI, requires investigation, you will provide such information as BSI may reasonably request (including access to any relevant site) in order for BSI to so investigate it. You undertake warrant and represent that all information bsi provided to BSI for the purpose of the Contract shall be true, accurate and complete, and not misleading. In providing the Services, BSI is entitled to assume that all information that you provide is true, accurate and complete in all respects and that you have complied fully with your duty to provide all relevant information. BSI will not investigate or confirm the truth, accuracy or completeness of any information provided by you and accordingly BSI accepts no liability for any losses, costs or damages suffered or incurred by you arising out of or in relation to the Services provided to you on the basis of information provided by you which is not true, accurate and complete in all respects or which is misleading. Part 5. Provisions relating to Assessments ai’rf Site Visits This Part is relevant for all Services that may include assessments and site visits. 3. Qualification and Selection of Assessors BSI warrants that all assessments will be performed by appropriately qualified and trained assessors exercising the skill, care and diligence as may be reasonably expected of a reputable provider of similar services. In its sole and absolute discretion, BSI will select the appropriate assessors to perform the assessments. BSI may change the assessor at any time. In the event of a change in assessor by BSI, no additional fees will be charged to you. Except where prohibited by scheme rules or regulatory directives, you may request BSI to change the assessor with at least thirty (30) days\\' written notice prior to the commencement of an assessment, provided that you agree to pay any additionai fees or expenses incurred by BSI in providing an alternative assessor. If no appropriate assessor is available, BSI may in its sole and absolute discretion refuse your request. z Arrangement of Assessment Visits to your Sites BSI will arrange visits to your site or sites as expressly described in the Proposal, or, if later, as may be expressly agreed with you in writing. It may be necessary for BSI to visit third party sites not under your direct control, for example critical sub¬ contractors or crucial suppliers (these are sub-contractors and suppliers who provide products or perform services that are material to the subject matter of the Services). In such cases, BSI shall inform you of the need to visit such other sites and you shall procure the right of BSI to enter such sites for the purposes of audit pursuant to the Services. If BSI is not able to enter such additional sites for any reason, such inability may cause a delay to the delivery of the Services, or a termination of the Contract (at the sole determination of BSI). All fees payable for the delayed Services or up to date of termination shall be payable irrespective of BSI\\'s audit of such third party sites. If the timetable for visits is determined by the relevant standard or scheme, you and BSI each agree to comply with that timetable. If the frequency of visits is not fixed by the relevant standard or scheme, BSI will arrange them at its reasonable discretion. In each case, you will provide BSI and its assessor all reasonable access to all and any areas of the site, data and records, and any materials and equipment as the assessor deems reasonably necessary in order to allow the assessor to undertake the assessment. (Change of date of site visit) Either party may change the date of a visit. In order to do this: if you change the date of the visit: you must do so by giving not fewer than thirty (30) days advance written notice to BSI. If you fail to give the required written notice, you will be liable to pay the full fee for the originally booked visit. You may not delay the date of a visit if to do so would have the effect of invalidating your certification; : : if BSI changes the date of the visit: While BSI will endeavor to provide you with as much advance notice as possible under the circumstances, it may do this at any time up to twenty-four (24) hours prior to the booked date of the visit, and BSI will contact you to arrange for an alternate date. In certain circumstances (such as non-compliance with the relevant standard, consummation of a transaction or business reorganization that could materially affect operation of your management system, or investigation pursuant to a third party complaint) it may be necessary for BSI to make additional visits. You will be liable for the fee for any additional visits at the assessment rate set out in the Proposal. Observed visits BSI\\'s assessor may be accompanied by a third party observer from time to time, who is to witness an assessment which may be required by scheme rules or for BSI internal training purposes. BSI will inform you, as well as provide you with the identity of the observer, within a reasonable time prior to the visit. A third party observer will be subject to confidentiality obligations at least to the same level as those to which BSI is bound in accordance with this Contract. The fee for the visit will not be increased due to the visit being observed. 4 Assessors\\' Health and Safety (Hazard^) When an assessor attends your premises, you are responsible for ensuring that adequate information is given on the hazards and risks to which the assessor may be exposed. You will provide the assessor with an appropriate level of supervision as well as all necessary personal protective equipment. You will immediately notify BSI of any event, accident or incident on your premises which could pose a risk to an assessor. (BSI\\'s right to abort a visit) If, while on your premises, the assessor has reason to believe that you are not complying with the relevant health and safety rules, or that the assessor\\'s safety is at risk in any way, then the assessor may abort the visit. BSI will report to you the reasons for the termination of the visit. In such an event, BSI will not be in breach of the Contract and you will be required to pay in full for the Services. BSI will not attend the affected premises again until it is satisfied that the issues so reported have been resolved. Assessors\\' Entry Requirements You must, at the time of arranging a visit, notify BSI of the health and safety rules and any other reasonable security requirements applicable to visitors to the premises. BSI will observe, or will use reasonable endeavors to procure the observance of, as far as it is reasonably able, all such health and safety rules and any other reasonable security requirements that you notify to BSI, and notify to the assessor on arrival at the site. If, by observing these rules and other requirements, BSI is prevented from providing the Services, BSI will not be in breach of the Contract and you will be required to pay in full for the Services. If the Proposal requires a visit to a third party’s premises, you undertake, warrant and represent that you have a relationship with the third party that permits BSI to attend the premises of the third party for the purposes of the Contract. ft Damages for failure to meet the number of audit days requested If, either through your cancellation of agreed and booked audit dates, or through your termination of this Contract prior to our being able to provide you with any of the Services, you fail to meet the number of audit days requested by you (and stated in the Proposal) in any one year, for any reason other than a Force Majeure (please see Part 9, section , below) or our fault, you shall pay to us on demand $150 for each audit day not taken in the relevant year, as liquidated damages. Both of us confirm that this sum represents a genuine pre-estimate of our losses. 7 Term of Proposal If an initial assessment is not conducted within one year of the date of the Proposal due to any reason other than the fault of 651, this Contract shall terminate insofar as it relates to Assessment and Site visits, and you will need to reapply for such services, which may be at other rates to the ones quoted to you in the Proposal. Pan 6 Cert-hcatev and Reports This Part is relevant for all Certificates and reports that BSI may issue or produce pursuant to the Services. 2 Certificates (No automatic right to a Certificate) The Contract does not give you an automatic right to a Certificate. You will be awarded a Certificate if the certification or testing process is successful, in BSl\\'s absolute and sole judgment acting independently to your interests. (BSl\\'s right to refuse a Certificate, or to suspend or revoke it) At its sole and absolute discretion, BSI may refuse to issue a Certificate, or revoke or suspend an issued Certificate, if in its reasonable opinion: i you do not meet, or fail to continue to meet, the relevant standard or regulation; or ; you amend any specification of the product of which the test item was representative and to which a Certificate relates; or you fall to disclose any information to BSI that may affect BSl’s decision to issue or continue the Certificate; or ’ you fail to comply with the continuing obligation to supply information; or ■: you fail to pay any fees due to BSI under the Contract; or 1 in the opinion of BSI, you use the Certificate in a manner that may be misleading or that may bring BSI into disrepute. If BSI revokes an issued Certificate, you will immediately refrain from representing that the revoked Certificate is valid. (Ownership) BSI will at all times remain the owner of a Certificate. BSI grants you a limited non-exclusive license to display the Certificate (and any accompanying BSI logo or certification mark) at your premises or on your products (but only in so far as the scope of the Certificate is relevant) for so long as the Certificate remains valid. You may not sub¬ license or transfer the right to display the Certificate (or the accompanying BSI logo or certification mark) to any other party. You may not amend the content or change the appearance of the Certificate or the BSI logo or certification mark. (.Change of details on a Certificate\\') If you wish to change any details on a Certificate, you will notify BSI of the required changes. If, in the reasonable opinion of BSI, such changes will not affect the validity of the Certificate, BSI may issue a revised Certificate on the same terms and for the same period of validity as the replaced Certificate. BSI will charge you and you shall pay an administration fee to be determined by BSI from time to time. (Publication of your certification status) BSI may put into the public domain (either on a web site or by any other manner that BSI may, at its sole and absolute discretion, determine) your name, the scope of your certification, as well as details of the issuance, suspension, revocation or termination of a Certificate. 2 Certification Reports (Ownership) BSI will at all times remain the owner of a certification report. BSI grants you a non-exclusive limited license to use the certification report in support of the Certificate for so long as the accompanying Certificate remains valid. On termination of the Contract for any reason, or on the expiry, suspension or revocation of the relevant Certificate, the certification report will be cancelled. (Your disclosure of the certification report) If you disclose a certification report to any third party, it must not be amended, abridged, or presented in any form other than that prepared by BSI at the time of its creation. If you do disclose the certification report, you agree to indemnify and hold harmless BSI and BSI Affiliates against all cost or losses suffered or incurred by BSI or BSI Affiliates due to claims, demands, suits, proceedings, actions, losses, judgments, damages, costs including all reasonable legal fees), expenses, fines or penalties or actions against BSI or BSI Affiliates arising out of or relating to a third party\\'s reliance on the certification report, whether disclosed to that third party with the prior written consent of BSI or not. Part 7 Training Services This Part is relevant if you are purchasing training services as part of the Services. BSI reserves the right to change the course content of a training course at any time and without notice. : Intellectual Property Rights in the Training Materials Unless otherwise agreed with you in writing, BSI is the owner of the intellectual property rights in all training materials. The training materials are licensed (not sold) to you for your exclusive, non-transferable use only in accordance with the Contract. You must comply with the terms of license for the relevant course material. Without the prior written consent of BSI, you may not copy them, give any right over them to a third party, change the content or design of them in any way, or add them to another document. (Copyright notice\\') If BSI consents to your copying the training materials, you will include a copyright notice identifying BSI as the copyright holder on all copies (or extracts of copies) that you may make, z Transfer or Cancellation of Training Courses (Transfer or cancellation of training courses\\') You may transfer to another training course up to twenty-five (25) days before the original course date. If you do, BSI will not make a refund for a cancellation of the original course and reserves the right to charge you for any increased costs. In order for BSI to manage its course diaries, you may transfer each of your courses once only. All cancellation must be in writing. If you (or your candidate) do not attend a training course, or you wish to cancel within twenty-five (25) days prior to the start of such course, then the full payment for the course is payable. BSI reserves the right to charge any costs up\\' to the date of cancellation. BSI will not refund course fees if you cancel distance learning, blended learning or e-learning courses, no matter when cancellation is made. (Cancellation of a training course by BSI) BSI may cancel a training course at any time. If BSI does, it will offer alternative dates, a full refund or a credit note. Part 8 Action Manage1 When you access your System, you are agreeing to these terms. Please read them carefully. Introduction and legally binding agreement When you use or Action Manager (also referred to as the \"System\"), you agree to comply with these terms of access, which form a legal agreement between us. Our Privacy Policy is part of these terms of access and you also agree to it. Our Privacy Policy sets out how we may use your information. Your legally binding agreement to use Action Manager is with BSI America Professional Services Inc., a Delaware corporation with its principal office located at 12950 Worldgate Drive, Suite 800, Herndon, Virginia 20170, and \"we\", \"our\" and \"us\" for purposes of this Part 8 refers to that company. If you do not agree with these terms of access, do not continue to access this System. By continuing to access this System both you and the individual using this System on your behalf, acknowledge that you understand these terms of access and agree to them. 2 Access We grant you access to the System, which is private to you. If you are using, you will be permitted one user license only. The number of user licenses for access to Action Manager will depend on how many you purchase. You may not assign access to any third party. You may not permit any individual other than the named holders of the user licenses to access the System. If you wish to change the individuals who hold the user licenses, you may only do so with our prior written consent. It is a material breach of these terms to permit anyone other than the named holder of a user license to have access to the System. :> Provision of Information License You own the information that you provide to this System. By providing information, you represent and warrant that you are entitled to submit the information. The information that you provide to this System is accurate and complete and is subject to the obligations with which you must comply in the agreement for certification services that you have with us. You must keep your information updated. You acknowledge that we will rely on your information that you provide for the provision of services to you and that the quality of that provision will depend upon the quality of the information provided by you. Accordingly, you grant to us an irrevocable, unlimited and royalty-free license to use your information for this purpose. All information that you submit is at your risk of loss. We may request the deletion of any information from the System if we reasonably believe it breaches these terms of access or of any other agreement that you have with us for certification services. You must comply with all applicable laws and these terms of access. We may amend these terms without notice from time to time. Please review these terms of access from time to time for that reason. 9 Indemnification You agree to indemnify us and hold us harmless for all damages, losses and costs (including, but not limited to, reasonable lawyers\\' fees and costs) relating to any third party claims or allegations, caused by your failure to comply with these terms of access, including, without limitation, your submission of content which violates third party rights or applicable laws. f- Payment If you purchase Action Manager: .. the fee for such service shall be set forth in our Proposal, subject to modification from time to time; you consent to our processing your payment information on a single payment or as appropriate, recurring basis as agreed by you; you agree to pay the fee for Action Manager upon receipt of an invoice or upon signature of a proposal and you will reimburse us for all collection costs for any overdue amounts; . the fee is exclusive of VAT, which if applicable, you must pay; and ; your obligation to pay fees for Action Manager continues during the period of your access to Action Manager. 6 Use of Your Information Please refer to our Privacy Policy (www.bsigroup.com). It is incorporated into these terms of access by reference. It governs our treatment of your information. We may use your information to compile general reports on the use of and Action Manager, or more specific reports on certification trends and issues. However all such reports will not refer to you or disclose your information. We may publish all reports that we generate for these purposes as we may think appropriate, without limitation. 7 Intellectual Property License As with any agreement that you have with us for certification services, and of which these terms of access are subordinate, all intellectual property rights and all other rights in ail reports and other services generated by us pursuant to these terms of service are owned by us (or are provided to us under license with a relevant third party). We license all such rights to you on a nonexclusive, worldwide basis to such extent as is necessary to enable you to make reasonable use of our services. This license automatically terminates on termination of the agreement under these terms of access. 8 Our provision of Certification-related Reports We will provide you with reports and various other services related to the certification services that you have purchased from us under other agreements. Although we shall use this System as agreed with you, the provision of reports and other services are all subject to other agreements that you have entered into for certification services and to which this agreement is subordinate. For your rights and obligations concerning reports and other certification services, please refer to the certification terms of service that you have entered into with us. Our Duty of Confidentiality (Action Manager) We shall keep in strict confidence the information that you provide to the System that is of a confidential nature. We shall restrict disclosure of your information to such of our employees or subcontractors as need to know it for the purpose of providing you with various services in connection with your certification. We shall ensure that such employees or subcontractors are subject to obligations of confidentiality corresponding to those which bind us. 1.C Termination of Access to the System You may terminate your access to the System at any time by giving us sixty (60) days\\' notice. We may terminate your access to the System at any time by giving you sixty (60) days\\' notice. Termination of your access to the System does not affect your right to certification services under any other agreement with us. This must be terminated separately if you wish it to discontinue. If the agreement for certification services to which these terms of access are subordinate is to terminate for any reason, then your right to access to the System shall terminate immediately. We may suspend or terminate your access to the System without notice if you are in breach of these terms of access. 11 General Assignment of your access rights to Action Manager: You may not assign or transfer your rights to access under the terms of access to any third party, without our prior consent. We may assign our rights under these terms of access at any time. Waiver: No failure or delay by either of us in exercising any right or remedy under these terms of access or by law shall constitute a waiver of that or any other right or remedy, nor preclude or restrict its further exercise. No single or partial exercise of such right or remedy shall preclude or restrict the further exercise of that or any other right or remedy. No partnership: Nothing in these terms of access is intended to, or shall be deemed to, constitute a partnership or joint venture of any kind between us, nor constitute one party the agent of the other for any purpose. Neither of us shall have authority to Client Portal as agent for, or to bind, the other in any way. Third parties: A person who is not a party to the legal agreement between us established by these terms of access shall not have any rights under or in connection with it. Par: Ser.e-ai Provisions to* AH Services, .: Use of Marks When BSI issues a Certificate to you in connection with performance of the Services, BSI licenses you to use the BSI Logos on a non-exdusive, royalty-free basis. The license is personal to you. You may not sub-license the use of the SSI Logos to any third party. You may not tamper with or change the appearance of the BSI Logos. You may only display the BSI Logos in accordance with the instructions of BSI. If the Contract is terminated, a Certificate expires or is withdrawn or cancelled by BSI, your license to use the BSI Logos shall immediately terminate. Further, BSI may cancel a license granted to you to use the BSI Logos at any time for any or no reason with immediate effect. Upon cancellation of the license you will immediately cease to use the BSI Logos and discontinue any reference to the BSI Logos in any materials. 2 Fees and Payment (Payment terms) You will pay every invoice submitted to you by BSI or the BSI Affiliate(s) rendering the Services within 30 the number of days of each invoice datestated on the Proposal (or, in the case of training services, the later of 25 working days before the start of the relevant training course or within 7 days of receipt of the invoice) in full and in cleared funds to a bank account nominated by BSI. (FeesandExpenses) The fees for the Services will be set out in the Proposal. In addition, BSI will be entitled to charge you for any out-of-pocket expenses reasonably incurred in providing the Services (such as travel, accommodation, subsistence, supplemental administrative services and other costs and other expenses) unless BSI quotes your fees inclusive of such out-of-pocket expenses. (Increase in feed) BSI\\'s fees are subject to change at any time. BSI will give you prior written notice of any such change(s). If we notify you of an increase our fees and you decline to consent to the increase, you are entitled to terminate the Contract in accordance with Part 9 of Section 9 of this Contract. If you terminate this Contract, you will be liable for all fees and expenses you incur up to the effective date of termination which shall be the date on which BSI receives your notice to terminate. If you do not notify BSI of your intention to terminate the Contract you will be deemed to have accepted the fee increase, which shall take effect on the date set forth in BSI\\'s notice to you. (VAT or general sales tax) All amounts set out in the Proposal or payable by you under the Contract are exclusive of sales or value added tax or other tax that may be applicable at the time of invoice. If applicable, you will, on receipt of a valid tax invoice from BSI, pay to BSI such additional amounts in respect of tax as may be chargeable at the same time as payment is due for the supply of the Services. {Interest on overdue amounts) If you fail to make a payment due to BSI under the Contract by its due date as set out in the Proposal, BSI may charge interest on the overdue amount at the rate of 2.5 per cent a year above the then current base rate of BSI\\'s bankers, accruing on a daily basis from the due date until the date of actual payment, which will be compounded quarterly. {Ifa third party is to pay) If you arrange for a third party to pay any of BSI\\'s fees or charges, you remain liable to the extent that the third party does not pay in full by the due date. 3 Remedies, Waiver and Rights of Third Parties A waiver of any right or remedy under this Contract is only effective if given in writing and shall not be deemed a waiver of any subsequent breach or default. A failure or delay by a party to exercise any right or remedy provided under this Contract or by law shall not constitute a waiver of that or any other right or remedy, nor shall it preclude or restrict any further exercise of that or any other right or remedy. No single or partial exercise of any right or remedy provided under this Contract or by law shall preclude or restrict the further exercise of any such right or remedy. The rights and remedies provided under the Contract are in addition to, and not exclusive of, any rights or remedies provided by law governing the Contract. A person who is not a party to this agreement shall not have any rights under or in connection with it. 4 Appeals If you wish to appeal a decision made by BSI, you must serve written notice of your intention to appeal within twenty-one (21) days of receipt of the BSI decision. Your notice must be addressed to the Compliance and Risk Director at BSI. Once your notice of appeal has been received, the Compliance and Risk Director at BSI will notify you of the procedure under which your appeal will be heard. All appeals are heard by an independent appeals panel, established under the accreditation rules governing BSI. The decision of BSI will remain in force pending the decision of the appeals panel. A decision made pursuant to the appeals procedure shall be final and you and BSI each agree to adhere to that decision. 5 Limitation of Liability Notwithstanding any other provision of this Contract, neither party\\'s liability under or in connection with this Contract shall be excluded or limited to the extent that such exclusion or limitation is not otherwise permitted by law. Subject to this, BSI will not be liable to you for any loss of profit, loss of goodwill, or any indirect or consequential loss arising under or in connection with the Contract, whether in contract, tort (including negligence), breach of statutory duty, or otherwise; and the total liability of BSI to you in respect of all other losses arising under or in connection with the Contract, whether in contract, tort (including negligence), breach of statutory duty, or otherwise, will not exceed an amount equal to the annual fees payable by you under the Contract in relation to the Services giving rise to the liability. This limitation of BSI\\'s liability will survive termination of the Contract. 6 Force Majeure Other than with respect to your obligation to pay all fees and expenses pursuant to Section 2 of Part 9 of this Contract (above), neither you nor BSI will be in breach of the Contract if it is not reasonably possible to perform an obligation under the Contract due to circumstances beyond that party\\'s reasonable control. In such circumstances the affected party will be entitled to a reasonable extension of the time for performing such obligations. If the period of non-performance continues for eight weeks, the party not affected may terminate the Contract by giving fourteen (14) days’ advance written notice to the other party. 7 No Partnership or Agency Nothing in this Contract is intended to, or shall operate to, create a partnership between the parties, or to authorize either party to act as agent for the other, and neither party shall have authority to act in the name or on behalf of or otherwise to bind the other in any way (including the making of any representation or warranty, the assumption of any obligation or liability and the exercise of any right or power). 8 Successors and Assigns This Contract shall be binding on your successors and permissible assigns (only after we consent to such assignment in writing, which we may, in our sole and reasonable discretion withhold) with respect to any and all of your rights and obligations under the Contract. Each party to this Contract confirms it is acting on its own behalf and not for the benefit of any other person or entity. Notwithstanding the foregoing, Certificates issued pursuant to this Contract are not automatically transferrable or assignable and events giving rise to a potential transfer or assignment of one or more Certificates may require additional assessment visits to you site(s) which shall be charged to you, your transferee or assignee, as applicable, at the then-in-effect fees for such visits. Notwithstanding the preceding paragraph, BSI may assign, transfer or subcontract any or all of its rights and obligations under the Contract to a BSI Affiliate. i- Term and Termination {Length of Term) This Contract shall remain in effect until it is terminated by either party in the manner described in this paragraph 9. {On notice) Either party may terminate the Contract at any time by giving the other party not less than sixty (60) days\\' notice of its intention to end the Contract. In the event of termination of this Contract for any reason any annual management fee paid (if applicable to you) and the application fee are non-refundable. {Immediately by BSIon notice) Without prejudice to any rights that have accrued under the Contract, BSI may terminate the Contract: bsi. . : with immediate effect if you fail to pay any amount under the Contract on the due date for payment and it remains unpaid seven (7) days after BSI has notified you to make such payment; or if you breach any material obligation of the Contract and such breach remains un-remedied, if such breach is capable of remedy, after thirty (30) days from the date of notification to you by BSI of such breach, or immediately upon notice to you by BSI if such breach is incapable of remedy; or : with immediate effect if, in the reasonable opinion of BSI, you act in such a manner that may bring the reputation of BSI into disrepute; or i. with immediate effect if you are unable to pay your debts as they fall due, or you suspend the payment of your debts, or you make a proposal to your creditors to reschedule any of your debts; or you take any action in connection with your winding up or suffer the appointment of an administrator or an administrative receiver; or someone takes action to attach or take possession of any of your assets; or you stop the business you were doing at the time of entering into the Contract; or you become insolvent or are wound up; or any event occurs, or proceeding is taken, in any jurisdiction to which you are subject that has an effect equivalent or similar to any of the events mentioned in this paragraph. {Payment of outstanding amounts) All amounts payable by you to BSI under the Contract will become due upon termination of the Contract for whatever reason in accordance with the payment terms set forth in this Contract. : c Non-Disclosure of Confidential Information Confidential Information means all information of a confidential nature relating to your business that is disclosed to BSI in connection with the Services, but does not include information that: is or becomes generally available to the public (other than as a result of its disclosure by BSI in breach of the Contract); or . was known to BSI before you disclosed it; or ■ you have not treated as confidential or have agreed with BSI is not confidential or may be disclosed. BSI will keep Confidential Information confidential for a period of 6 years after it has received it and will not use or disclose it except; - for the purpose of exercising or performing its rights and obligations under the Contract; or to the extent required by law, or by order or directive of any governmental or other regulatory authority or accreditation authority, or by a court or other authority of competent jurisdiction. In the case of subpart 10(e) above, BSI will first notify you of such order or directive to afford you the opportunity to challenge it. You acknowledge that relevant regulatory authorities to whom BSI has disclosed information concerning the Services may transfer that data onwards to any other regulatory authority, pursuant to internationals schemes or arrangements between them. Such onward disclosure will be pursuant to the rules and regulations governing regulatory bodies and as determined by them, for which BSI cannot be held responsible or liable to you. The foregoing confidentiality obligations undertaken by BSI shall similarly apply to BSI personnel and subcontractors rendering Services pursuant to or in connection with this Contract. 11 Entire Agreement The Contract constitutes the entire agreement between you and BSI and supersedes and extinguishes all previous drafts, agreements, warranties, arrangements and understandings, whether written or oral, relating to its subject matter. Each party acknowledges that, in entering this Contract it has not relied on, and shall have no remedy in respect of, any statement, representation, warranty or understanding that is not set out in the Contract. Nothing in this clause shall limit or exclude any liability for fraud. If there is an inconsistency between any of the provisions of the Contract and the provisions of any master services agreement, purchase Proposal, your standard conditions of purchase or any other document stated to be produced relating to the Services or the Contract, the provisions of this Contract will prevail. No variation of or amendment to the Contract will be effective unless it is in writing and signed by an authorized representative of each party. ■ 2 Severance If any court or competent authority finds that any provision of this Contract (or part of any provision) is invalid, illegal or unenforceable, that provision or part-provision shall, to the extent required, be deemed to be deleted, and the validity and enforceability of the other provisions of this Contract shall not be affected. If any invalid, unenforceable or illegal provision of this Contract would be valid, enforceable and legal if some part of it were deleted, the provision shall apply with the minimum modification necessary to make it legal, valid and enforceable. 13 Notices A notice required to be given to a party under or in connection with the Contract must be in writing and sent to the party at its address on the Proposal. Unless expressly prohibited by the Proposal, notices may be sent by email. 14 Governing law and Jurisdiction With respect to Services rendered in the United States, this Contract and all related documents, including all exhibits and appendices attached hereto, and all matters arising out of or relating to the Contract, whether sounding in contract, tort or otherwise, are governed by and construed in accordance with the laws of the state of Delaware, USA, without regard to the conflict of laws provisions thereof to the extent such principles or rules would require or permit the application of the laws of any jurisdiction other than those of the state of Delaware. The venue for any matters requiring court intervention shall be the state courts of New Castle County, Delaware, or as appropriate, the United States District Court for the District of Delaware. Similarly, with respect to Services rendered in Canada, references herein to the state of Delaware shall instead reference the Province of Ontario, Canada and its provincial courts. '"
      ]
     },
     "execution_count": 16,
     "metadata": {},
     "output_type": "execute_result"
    }
   ],
   "source": [
    "train_data[0][0]"
   ]
  },
  {
   "cell_type": "code",
   "execution_count": 17,
   "id": "ec905963",
   "metadata": {},
   "outputs": [],
   "source": [
    "import spacy\n",
    "from spacy.tokens import DocBin\n",
    "from tqdm import tqdm\n",
    "\n",
    "nlp = spacy.blank(\"en\") # load a new spacy model\n",
    "doc_bin = DocBin() # create a DocBin object"
   ]
  },
  {
   "cell_type": "code",
   "execution_count": 18,
   "id": "db32c6f8",
   "metadata": {},
   "outputs": [
    {
     "name": "stderr",
     "output_type": "stream",
     "text": [
      "  3%|█▏                                         | 3/107 [00:00<00:10,  9.72it/s]"
     ]
    },
    {
     "name": "stdout",
     "output_type": "stream",
     "text": [
      "Skipping entity\n",
      "Skipping entity\n",
      "Skipping entity\n",
      "Skipping entity\n",
      "Skipping entity\n",
      "Skipping entity\n",
      "Skipping entity\n",
      "Skipping entity\n",
      "Skipping entity\n",
      "Skipping entity\n",
      "Skipping entity\n",
      "Skipping entity\n",
      "Skipping entity\n",
      "Skipping entity\n",
      "Skipping entity\n",
      "Skipping entity\n",
      "Skipping entity\n",
      "Skipping entity\n",
      "Skipping entity\n",
      "Skipping entity\n",
      "Skipping entity\n",
      "Skipping entity\n",
      "Skipping entity\n",
      "Skipping entity\n",
      "Skipping entity\n",
      "Skipping entity\n",
      "Skipping entity\n",
      "Skipping entity\n",
      "Skipping entity\n",
      "Skipping entity\n",
      "Skipping entity\n",
      "Skipping entity\n",
      "Skipping entity\n",
      "Skipping entity\n",
      "Skipping entity\n",
      "Skipping entity\n",
      "Skipping entity\n",
      "Skipping entity\n",
      "Skipping entity\n",
      "Skipping entity\n"
     ]
    },
    {
     "name": "stderr",
     "output_type": "stream",
     "text": [
      "  7%|██▊                                        | 7/107 [00:00<00:09, 10.40it/s]"
     ]
    },
    {
     "name": "stdout",
     "output_type": "stream",
     "text": [
      "Skipping entity\n",
      "Skipping entity\n",
      "Skipping entity\n",
      "Skipping entity\n",
      "Skipping entity\n",
      "Skipping entity\n",
      "Skipping entity\n",
      "Skipping entity\n",
      "Skipping entity\n",
      "Skipping entity\n",
      "Skipping entity\n",
      "Skipping entity\n",
      "Skipping entity\n",
      "Skipping entity\n",
      "Skipping entity\n",
      "Skipping entity\n",
      "Skipping entity\n",
      "Skipping entity\n",
      "Skipping entity\n",
      "Skipping entity\n",
      "Skipping entity\n",
      "Skipping entity\n",
      "Skipping entity\n",
      "Skipping entity\n",
      "Skipping entity\n",
      "Skipping entity\n",
      "Skipping entity\n",
      "Skipping entity\n",
      "Skipping entity\n",
      "Skipping entity\n",
      "Skipping entity\n",
      "Skipping entity\n",
      "Skipping entity\n",
      "Skipping entity\n",
      "Skipping entity\n",
      "Skipping entity\n",
      "Skipping entity\n",
      "Skipping entity\n",
      "Skipping entity\n",
      "Skipping entity\n",
      "Skipping entity\n",
      "Skipping entity\n"
     ]
    },
    {
     "name": "stderr",
     "output_type": "stream",
     "text": [
      " 10%|████▎                                     | 11/107 [00:01<00:09, 10.60it/s]"
     ]
    },
    {
     "name": "stdout",
     "output_type": "stream",
     "text": [
      "Skipping entity\n",
      "Skipping entity\n",
      "Skipping entity\n",
      "Skipping entity\n",
      "Skipping entity\n",
      "Skipping entity\n",
      "Skipping entity\n",
      "Skipping entity\n",
      "Skipping entity\n",
      "Skipping entity\n",
      "Skipping entity\n",
      "Skipping entity\n",
      "Skipping entity\n",
      "Skipping entity\n",
      "Skipping entity\n",
      "Skipping entity\n",
      "Skipping entity\n",
      "Skipping entity\n",
      "Skipping entity\n",
      "Skipping entity\n",
      "Skipping entity\n",
      "Skipping entity\n",
      "Skipping entity\n",
      "Skipping entity\n",
      "Skipping entity\n",
      "Skipping entity\n",
      "Skipping entity\n",
      "Skipping entity\n",
      "Skipping entity\n",
      "Skipping entity\n",
      "Skipping entity\n",
      "Skipping entity\n",
      "Skipping entity\n",
      "Skipping entity\n"
     ]
    },
    {
     "name": "stderr",
     "output_type": "stream",
     "text": [
      "\r",
      " 12%|█████                                     | 13/107 [00:01<00:08, 10.48it/s]"
     ]
    },
    {
     "name": "stdout",
     "output_type": "stream",
     "text": [
      "Skipping entity\n",
      "Skipping entity\n",
      "Skipping entity\n",
      "Skipping entity\n"
     ]
    },
    {
     "name": "stderr",
     "output_type": "stream",
     "text": [
      " 16%|██████▋                                   | 17/107 [00:01<00:09,  9.33it/s]"
     ]
    },
    {
     "name": "stdout",
     "output_type": "stream",
     "text": [
      "Skipping entity\n",
      "Skipping entity\n",
      "Skipping entity\n",
      "Skipping entity\n",
      "Skipping entity\n",
      "Skipping entity\n",
      "Skipping entity\n",
      "Skipping entity\n",
      "Skipping entity\n"
     ]
    },
    {
     "name": "stderr",
     "output_type": "stream",
     "text": [
      " 18%|███████▍                                  | 19/107 [00:01<00:09,  9.09it/s]"
     ]
    },
    {
     "name": "stdout",
     "output_type": "stream",
     "text": [
      "Skipping entity\n",
      "Skipping entity\n",
      "Skipping entity\n"
     ]
    },
    {
     "name": "stderr",
     "output_type": "stream",
     "text": [
      " 21%|████████▋                                 | 22/107 [00:02<00:09,  8.91it/s]"
     ]
    },
    {
     "name": "stdout",
     "output_type": "stream",
     "text": [
      "Skipping entity\n",
      "Skipping entity\n",
      "Skipping entity\n",
      "Skipping entity\n",
      "Skipping entity\n",
      "Skipping entity\n",
      "Skipping entity\n",
      "Skipping entity\n"
     ]
    },
    {
     "name": "stderr",
     "output_type": "stream",
     "text": [
      " 24%|██████████▏                               | 26/107 [00:02<00:09,  8.79it/s]"
     ]
    },
    {
     "name": "stdout",
     "output_type": "stream",
     "text": [
      "Skipping entity\n",
      "Skipping entity\n",
      "Skipping entity\n",
      "Skipping entity\n"
     ]
    },
    {
     "name": "stderr",
     "output_type": "stream",
     "text": [
      " 27%|███████████▍                              | 29/107 [00:03<00:08,  8.78it/s]"
     ]
    },
    {
     "name": "stdout",
     "output_type": "stream",
     "text": [
      "Skipping entity\n"
     ]
    },
    {
     "name": "stderr",
     "output_type": "stream",
     "text": [
      " 31%|████████████▉                             | 33/107 [00:03<00:05, 12.72it/s]"
     ]
    },
    {
     "name": "stdout",
     "output_type": "stream",
     "text": [
      "Skipping entity\n",
      "Skipping entity\n",
      "Skipping entity\n",
      "Skipping entity\n",
      "Skipping entity\n",
      "Skipping entity\n",
      "Skipping entity\n",
      "Skipping entity\n",
      "Skipping entity\n",
      "Skipping entity\n",
      "Skipping entity\n",
      "Skipping entity\n",
      "Skipping entity\n",
      "Skipping entity\n",
      "Skipping entity\n"
     ]
    },
    {
     "name": "stderr",
     "output_type": "stream",
     "text": [
      " 41%|█████████████████▎                        | 44/107 [00:03<00:02, 24.58it/s]"
     ]
    },
    {
     "name": "stdout",
     "output_type": "stream",
     "text": [
      "Skipping entity\n",
      "Skipping entity\n",
      "Skipping entity\n",
      "Skipping entity\n",
      "Skipping entity\n",
      "Skipping entity\n",
      "Skipping entity\n"
     ]
    },
    {
     "name": "stderr",
     "output_type": "stream",
     "text": [
      " 49%|████████████████████▍                     | 52/107 [00:03<00:01, 28.56it/s]"
     ]
    },
    {
     "name": "stdout",
     "output_type": "stream",
     "text": [
      "Skipping entity\n"
     ]
    },
    {
     "name": "stderr",
     "output_type": "stream",
     "text": [
      "\r",
      " 52%|█████████████████████▉                    | 56/107 [00:04<00:01, 29.42it/s]"
     ]
    },
    {
     "name": "stdout",
     "output_type": "stream",
     "text": [
      "Skipping entity\n",
      "Skipping entity\n",
      "Skipping entity\n",
      "Skipping entity\n"
     ]
    },
    {
     "name": "stderr",
     "output_type": "stream",
     "text": [
      "\r",
      " 55%|███████████████████████▏                  | 59/107 [00:04<00:02, 17.01it/s]"
     ]
    },
    {
     "name": "stdout",
     "output_type": "stream",
     "text": [
      "Skipping entity\n",
      "Skipping entity\n",
      "Skipping entity\n"
     ]
    },
    {
     "name": "stderr",
     "output_type": "stream",
     "text": [
      "\r",
      " 58%|████████████████████████▎                 | 62/107 [00:04<00:03, 11.44it/s]"
     ]
    },
    {
     "name": "stdout",
     "output_type": "stream",
     "text": [
      "Skipping entity\n",
      "Skipping entity\n",
      "Skipping entity\n",
      "Skipping entity\n",
      "Skipping entity\n"
     ]
    },
    {
     "name": "stderr",
     "output_type": "stream",
     "text": [
      "\r",
      " 60%|█████████████████████████                 | 64/107 [00:05<00:04,  9.38it/s]"
     ]
    },
    {
     "name": "stdout",
     "output_type": "stream",
     "text": [
      "Skipping entity\n",
      "Skipping entity\n",
      "Skipping entity\n",
      "Skipping entity\n",
      "Skipping entity\n",
      "Skipping entity\n",
      "Skipping entity\n",
      "Skipping entity\n"
     ]
    },
    {
     "name": "stderr",
     "output_type": "stream",
     "text": [
      "\r",
      " 62%|█████████████████████████▉                | 66/107 [00:05<00:04,  8.46it/s]"
     ]
    },
    {
     "name": "stdout",
     "output_type": "stream",
     "text": [
      "Skipping entity\n"
     ]
    },
    {
     "name": "stderr",
     "output_type": "stream",
     "text": [
      "\r",
      " 64%|██████████████████████████▋               | 68/107 [00:05<00:05,  7.70it/s]"
     ]
    },
    {
     "name": "stdout",
     "output_type": "stream",
     "text": [
      "Skipping entity\n",
      "Skipping entity\n",
      "Skipping entity\n",
      "Skipping entity\n",
      "Skipping entity\n",
      "Skipping entity\n",
      "Skipping entity\n",
      "Skipping entity\n",
      "Skipping entity\n",
      "Skipping entity\n",
      "Skipping entity\n",
      "Skipping entity\n",
      "Skipping entity\n",
      "Skipping entity\n",
      "Skipping entity\n",
      "Skipping entity\n"
     ]
    },
    {
     "name": "stderr",
     "output_type": "stream",
     "text": [
      "\r",
      " 65%|███████████████████████████▍              | 70/107 [00:06<00:05,  6.23it/s]"
     ]
    },
    {
     "name": "stdout",
     "output_type": "stream",
     "text": [
      "Skipping entity\n",
      "Skipping entity\n",
      "Skipping entity\n"
     ]
    },
    {
     "name": "stderr",
     "output_type": "stream",
     "text": [
      " 67%|████████████████████████████▎             | 72/107 [00:07<00:06,  5.04it/s]"
     ]
    },
    {
     "name": "stdout",
     "output_type": "stream",
     "text": [
      "Skipping entity\n",
      "Skipping entity\n",
      "Skipping entity\n",
      "Skipping entity\n",
      "Skipping entity\n",
      "Skipping entity"
     ]
    },
    {
     "name": "stderr",
     "output_type": "stream",
     "text": [
      " 70%|█████████████████████████████▍            | 75/107 [00:07<00:07,  4.11it/s]"
     ]
    },
    {
     "name": "stdout",
     "output_type": "stream",
     "text": [
      "\n",
      "Skipping entity\n",
      "Skipping entity\n"
     ]
    },
    {
     "name": "stderr",
     "output_type": "stream",
     "text": [
      " 72%|██████████████████████████████▏           | 77/107 [00:08<00:07,  3.80it/s]"
     ]
    },
    {
     "name": "stdout",
     "output_type": "stream",
     "text": [
      "Skipping entity\n",
      "Skipping entity\n",
      "Skipping entity\n",
      "Skipping entity\n",
      "Skipping entity\n"
     ]
    },
    {
     "name": "stderr",
     "output_type": "stream",
     "text": [
      " 90%|█████████████████████████████████████▋    | 96/107 [00:10<00:00, 20.25it/s]"
     ]
    },
    {
     "name": "stdout",
     "output_type": "stream",
     "text": [
      "Skipping entity\n",
      "Skipping entity\n",
      "Skipping entity\n",
      "Skipping entity\n",
      "Skipping entity\n",
      "Skipping entity\n",
      "Skipping entity\n",
      "Skipping entity\n",
      "Skipping entity\n",
      "Skipping entity\n",
      "Skipping entity\n",
      "Skipping entity\n",
      "Skipping entity\n",
      "Skipping entity\n",
      "Skipping entity\n",
      "Skipping entity\n",
      "Skipping entity\n",
      "Skipping entity\n",
      "Skipping entity\n",
      "Skipping entity\n",
      "Skipping entity\n",
      "Skipping entity\n",
      "Skipping entity\n",
      "Skipping entity\n",
      "Skipping entity\n",
      "Skipping entity\n",
      "Skipping entity\n",
      "Skipping entity\n",
      "Skipping entity\n",
      "Skipping entity\n",
      "Skipping entity\n",
      "Skipping entity\n"
     ]
    },
    {
     "name": "stderr",
     "output_type": "stream",
     "text": [
      "100%|█████████████████████████████████████████| 107/107 [00:10<00:00, 10.38it/s]\n"
     ]
    },
    {
     "name": "stdout",
     "output_type": "stream",
     "text": [
      "Skipping entity\n",
      "Skipping entity\n",
      "Skipping entity\n",
      "Skipping entity\n",
      "Skipping entity\n",
      "Skipping entity\n",
      "Skipping entity\n",
      "Skipping entity\n",
      "Skipping entity\n",
      "Skipping entity\n",
      "Skipping entity\n",
      "Skipping entity\n",
      "Skipping entity\n",
      "Skipping entity\n",
      "Skipping entity\n",
      "Skipping entity\n",
      "Skipping entity\n",
      "Skipping entity\n",
      "Skipping entity\n",
      "Skipping entity\n",
      "Skipping entity\n",
      "Skipping entity\n",
      "Skipping entity\n",
      "Skipping entity\n",
      "Skipping entity\n",
      "Skipping entity\n",
      "Skipping entity\n",
      "Skipping entity\n",
      "Skipping entity\n",
      "Skipping entity\n",
      "Skipping entity\n",
      "Skipping entity\n",
      "Skipping entity\n",
      "Skipping entity\n",
      "Skipping entity\n",
      "Skipping entity\n",
      "Skipping entity\n",
      "Skipping entity\n",
      "Skipping entity\n",
      "Skipping entity\n",
      "Skipping entity\n",
      "Skipping entity\n",
      "Skipping entity\n",
      "Skipping entity\n",
      "Skipping entity\n",
      "Skipping entity\n",
      "Skipping entity\n",
      "Skipping entity\n",
      "Skipping entity\n",
      "Skipping entity\n",
      "Skipping entity\n",
      "Skipping entity\n",
      "Skipping entity\n",
      "Skipping entity\n",
      "Skipping entity\n",
      "Skipping entity\n",
      "Skipping entity\n"
     ]
    }
   ],
   "source": [
    "from spacy.util import filter_spans\n",
    "\n",
    "for training_example in tqdm(train_data): \n",
    "    text = training_example[0]\n",
    "    labels = training_example[1]['entities']\n",
    "    doc = nlp.make_doc(text) \n",
    "    ents = []\n",
    "    for start, end, label in labels:\n",
    "        span = doc.char_span(start, end, label=label, alignment_mode=\"contract\")\n",
    "        if span is None:\n",
    "            print(\"Skipping entity\")\n",
    "        else:\n",
    "            ents.append(span)\n",
    "    filtered_ents = filter_spans(ents)\n",
    "    doc.ents = filtered_ents \n",
    "    doc_bin.add(doc)\n",
    "\n",
    "doc_bin.to_disk(\"training_data.spacy\") # save the docbin object"
   ]
  },
  {
   "cell_type": "code",
   "execution_count": 19,
   "id": "92c8271e",
   "metadata": {},
   "outputs": [
    {
     "name": "stdout",
     "output_type": "stream",
     "text": [
      "\u001b[38;5;2m✔ Auto-filled config with all values\u001b[0m\r\n",
      "\u001b[38;5;2m✔ Saved config\u001b[0m\r\n",
      "config.cfg\r\n",
      "You can now add your data and train your pipeline:\r\n",
      "python -m spacy train config.cfg --paths.train ./train.spacy --paths.dev ./dev.spacy\r\n"
     ]
    }
   ],
   "source": [
    "!python -m spacy init fill-config base_config.cfg config.cfg"
   ]
  },
  {
   "cell_type": "code",
   "execution_count": 22,
   "id": "f142ff38",
   "metadata": {},
   "outputs": [
    {
     "name": "stdout",
     "output_type": "stream",
     "text": [
      "\u001b[38;5;4mℹ Saving to output directory: output_folder\u001b[0m\n",
      "\u001b[38;5;4mℹ Using CPU\u001b[0m\n",
      "\u001b[1m\n",
      "=========================== Initializing pipeline ===========================\u001b[0m\n",
      "[2022-05-19 01:44:14,051] [INFO] Set up nlp object from config\n",
      "[2022-05-19 01:44:14,061] [INFO] Pipeline: ['tok2vec', 'ner']\n",
      "[2022-05-19 01:44:14,064] [INFO] Created vocabulary\n",
      "[2022-05-19 01:44:15,459] [INFO] Added vectors: en_core_web_lg\n",
      "[2022-05-19 01:44:16,625] [INFO] Finished initializing nlp object\n",
      "[2022-05-19 01:45:47,720] [INFO] Initialized pipeline components: ['tok2vec', 'ner']\n",
      "\u001b[38;5;2m✔ Initialized pipeline\u001b[0m\n",
      "\u001b[1m\n",
      "============================= Training pipeline =============================\u001b[0m\n",
      "\u001b[38;5;4mℹ Pipeline: ['tok2vec', 'ner']\u001b[0m\n",
      "\u001b[38;5;4mℹ Initial learn rate: 0.001\u001b[0m\n",
      "E    #       LOSS TOK2VEC  LOSS NER  ENTS_F  ENTS_P  ENTS_R  SCORE \n",
      "---  ------  ------------  --------  ------  ------  ------  ------\n",
      "  0       0          0.00   5288.93    0.00    0.00    0.00    0.00\n",
      "\u001b[38;5;3m⚠ Aborting and saving the final best model. Encountered exception:\n",
      "ValueError(\"[E024] Could not find an optimal move to supervise the parser.\n",
      "Usually, this means that the model can't be updated in a way that's valid and\n",
      "satisfies the correct annotations specified in the GoldParse. For example, are\n",
      "all labels added to the model? If you're training a named entity recognizer,\n",
      "also make sure that none of your annotated entity spans have leading or trailing\n",
      "whitespace or punctuation. You can also use the `debug data` command to validate\n",
      "your JSON-formatted training data. For details, run:\\npython -m spacy debug data\n",
      "--help\")\u001b[0m\n",
      "Traceback (most recent call last):\n",
      "  File \"/Users/svatsavai001/miniconda/lib/python3.9/runpy.py\", line 197, in _run_module_as_main\n",
      "    return _run_code(code, main_globals, None,\n",
      "  File \"/Users/svatsavai001/miniconda/lib/python3.9/runpy.py\", line 87, in _run_code\n",
      "    exec(code, run_globals)\n",
      "  File \"/Users/svatsavai001/miniconda/lib/python3.9/site-packages/spacy/__main__.py\", line 4, in <module>\n",
      "    setup_cli()\n",
      "  File \"/Users/svatsavai001/miniconda/lib/python3.9/site-packages/spacy/cli/_util.py\", line 71, in setup_cli\n",
      "    command(prog_name=COMMAND)\n",
      "  File \"/Users/svatsavai001/.local/lib/python3.9/site-packages/click/core.py\", line 1137, in __call__\n",
      "    return self.main(*args, **kwargs)\n",
      "  File \"/Users/svatsavai001/.local/lib/python3.9/site-packages/click/core.py\", line 1062, in main\n",
      "    rv = self.invoke(ctx)\n",
      "  File \"/Users/svatsavai001/.local/lib/python3.9/site-packages/click/core.py\", line 1668, in invoke\n",
      "    return _process_result(sub_ctx.command.invoke(sub_ctx))\n",
      "  File \"/Users/svatsavai001/.local/lib/python3.9/site-packages/click/core.py\", line 1404, in invoke\n",
      "    return ctx.invoke(self.callback, **ctx.params)\n",
      "  File \"/Users/svatsavai001/.local/lib/python3.9/site-packages/click/core.py\", line 763, in invoke\n",
      "    return __callback(*args, **kwargs)\n",
      "  File \"/Users/svatsavai001/miniconda/lib/python3.9/site-packages/typer/main.py\", line 500, in wrapper\n",
      "    return callback(**use_params)  # type: ignore\n",
      "  File \"/Users/svatsavai001/miniconda/lib/python3.9/site-packages/spacy/cli/train.py\", line 45, in train_cli\n",
      "    train(config_path, output_path, use_gpu=use_gpu, overrides=overrides)\n",
      "  File \"/Users/svatsavai001/miniconda/lib/python3.9/site-packages/spacy/cli/train.py\", line 75, in train\n",
      "    train_nlp(nlp, output_path, use_gpu=use_gpu, stdout=sys.stdout, stderr=sys.stderr)\n",
      "  File \"/Users/svatsavai001/miniconda/lib/python3.9/site-packages/spacy/training/loop.py\", line 122, in train\n",
      "    raise e\n",
      "  File \"/Users/svatsavai001/miniconda/lib/python3.9/site-packages/spacy/training/loop.py\", line 105, in train\n",
      "    for batch, info, is_best_checkpoint in training_step_iterator:\n",
      "  File \"/Users/svatsavai001/miniconda/lib/python3.9/site-packages/spacy/training/loop.py\", line 203, in train_while_improving\n",
      "    nlp.update(\n",
      "  File \"/Users/svatsavai001/miniconda/lib/python3.9/site-packages/spacy/language.py\", line 1156, in update\n",
      "    proc.update(examples, sgd=None, losses=losses, **component_cfg[name])  # type: ignore\n",
      "  File \"spacy/pipeline/transition_parser.pyx\", line 390, in spacy.pipeline.transition_parser.Parser.update\n",
      "  File \"spacy/pipeline/transition_parser.pyx\", line 646, in spacy.pipeline.transition_parser.Parser._init_gold_batch\n",
      "  File \"spacy/pipeline/_parser_internals/transition_system.pyx\", line 132, in spacy.pipeline._parser_internals.transition_system.TransitionSystem.get_oracle_sequence_from_state\n",
      "ValueError: [E024] Could not find an optimal move to supervise the parser. Usually, this means that the model can't be updated in a way that's valid and satisfies the correct annotations specified in the GoldParse. For example, are all labels added to the model? If you're training a named entity recognizer, also make sure that none of your annotated entity spans have leading or trailing whitespace or punctuation. You can also use the `debug data` command to validate your JSON-formatted training data. For details, run:\n",
      "python -m spacy debug data --help\n"
     ]
    }
   ],
   "source": [
    "!python -m spacy train config.cfg --paths.train training_data.spacy --paths.dev training_data.spacy --output output_folder"
   ]
  }
 ],
 "metadata": {
  "kernelspec": {
   "display_name": "Python 3 (ipykernel)",
   "language": "python",
   "name": "python3"
  },
  "language_info": {
   "codemirror_mode": {
    "name": "ipython",
    "version": 3
   },
   "file_extension": ".py",
   "mimetype": "text/x-python",
   "name": "python",
   "nbconvert_exporter": "python",
   "pygments_lexer": "ipython3",
   "version": "3.9.5"
  }
 },
 "nbformat": 4,
 "nbformat_minor": 5
}
