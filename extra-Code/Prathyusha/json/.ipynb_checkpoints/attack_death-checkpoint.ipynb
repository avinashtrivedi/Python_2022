{
 "cells": [
  {
   "cell_type": "code",
   "execution_count": 43,
   "id": "1da2e3ca",
   "metadata": {},
   "outputs": [],
   "source": [
    "x = ['A Prussia Move France',\n",
    "'B Peru Hold']"
   ]
  },
  {
   "cell_type": "code",
   "execution_count": 2,
   "id": "d5f65784",
   "metadata": {},
   "outputs": [
    {
     "data": {
      "text/plain": [
       "['A Prussia Move France', 'B Peru Hold']"
      ]
     },
     "execution_count": 2,
     "metadata": {},
     "output_type": "execute_result"
    }
   ],
   "source": [
    "x"
   ]
  },
  {
   "cell_type": "code",
   "execution_count": null,
   "id": "0a3ee52a",
   "metadata": {},
   "outputs": [],
   "source": [
    "def check(x):\n",
    "    "
   ]
  },
  {
   "cell_type": "code",
   "execution_count": 4,
   "id": "3699b3bc",
   "metadata": {},
   "outputs": [
    {
     "name": "stdout",
     "output_type": "stream",
     "text": [
      "B Peru\n",
      "A France\n"
     ]
    }
   ],
   "source": [
    "lst = []\n",
    "for i in x[::-1]:\n",
    "    if 'Hold' in i:\n",
    "        print(i.split()[0],i.split()[1])\n",
    "    elif 'Move' in i:\n",
    "        print(i.split()[0],i.split()[-1])"
   ]
  },
  {
   "cell_type": "code",
   "execution_count": 48,
   "id": "bbc92fa1",
   "metadata": {},
   "outputs": [],
   "source": [
    "x = ['D Prussia Move France',\n",
    "'I Clayton Move France',\n",
    "'J Turkey Support I',\n",
    "'K Russia Move England',\n",
    "'L Peru Hold']"
   ]
  },
  {
   "cell_type": "code",
   "execution_count": 54,
   "id": "af2ce13d",
   "metadata": {},
   "outputs": [
    {
     "name": "stdout",
     "output_type": "stream",
     "text": [
      "D ['dead']\n",
      "I France\n",
      "J Turkey\n",
      "K England\n",
      "L Peru\n"
     ]
    }
   ],
   "source": [
    "def solution(x):\n",
    "    lst = dict()\n",
    "    spt = []\n",
    "    for i in x[::-1]:\n",
    "        if 'Hold' in i:\n",
    "            lst[i.split()[0]]= i.split()[1]\n",
    "        elif 'Move' in i:\n",
    "            lst[i.split()[0]] = i.split()[-1]\n",
    "        else:\n",
    "            lst[i.split()[0]] = i.split()[1]\n",
    "            spt.append(i.split()[-1])\n",
    "    if spt:       \n",
    "        for k,v in lst.items():\n",
    "            if lst[spt[0]] == v:\n",
    "                lst[list(lst.items())[-1][0]] = ['dead']\n",
    "\n",
    "    k = []\n",
    "    for i,j in list(lst.items())[::-1]:\n",
    "        print(i,j)\n",
    "    \n",
    "\n",
    "solution(x)"
   ]
  },
  {
   "cell_type": "code",
   "execution_count": null,
   "id": "18e95109",
   "metadata": {},
   "outputs": [],
   "source": []
  }
 ],
 "metadata": {
  "kernelspec": {
   "display_name": "Python 3 (ipykernel)",
   "language": "python",
   "name": "python3"
  },
  "language_info": {
   "codemirror_mode": {
    "name": "ipython",
    "version": 3
   },
   "file_extension": ".py",
   "mimetype": "text/x-python",
   "name": "python",
   "nbconvert_exporter": "python",
   "pygments_lexer": "ipython3",
   "version": "3.8.5"
  }
 },
 "nbformat": 4,
 "nbformat_minor": 5
}
