{
 "cells": [
  {
   "cell_type": "code",
   "execution_count": 22,
   "metadata": {},
   "outputs": [],
   "source": [
    "import os\n",
    "import numpy as np\n",
    "import json\n",
    "import spacy\n",
    "import pickle"
   ]
  },
  {
   "cell_type": "code",
   "execution_count": 12,
   "metadata": {},
   "outputs": [],
   "source": [
    "# E:\\OneDrive - NITT\\CODE\\Python Scripts\\Code_2022\\CMTOR\\Prathyusha\\New_json"
   ]
  },
  {
   "cell_type": "code",
   "execution_count": 13,
   "metadata": {},
   "outputs": [
    {
     "name": "stdout",
     "output_type": "stream",
     "text": [
      "Enter the json file path: E:\\OneDrive - NITT\\CODE\\Python Scripts\\Code_2022\\CMTOR\\Prathyusha\\New_json\n"
     ]
    }
   ],
   "source": [
    "path = input('Enter the json file path: ')"
   ]
  },
  {
   "cell_type": "code",
   "execution_count": 23,
   "metadata": {},
   "outputs": [],
   "source": [
    "path = 'New_json'"
   ]
  },
  {
   "cell_type": "code",
   "execution_count": 24,
   "metadata": {},
   "outputs": [],
   "source": [
    "def get_jsons(file_dir, extension='json'):\n",
    "    list_files=[]\n",
    "    for root, dirs, files in os.walk(\".\", topdown=False):\n",
    "        for name in files:\n",
    "            if name.split('.')[-1] in extension:\n",
    "                list_files.append(os.path.join(root, name))\n",
    "    return list_files"
   ]
  },
  {
   "cell_type": "code",
   "execution_count": 25,
   "metadata": {},
   "outputs": [],
   "source": [
    "list_files= os.listdir(path) #get_jsons('New_json')"
   ]
  },
  {
   "cell_type": "code",
   "execution_count": 26,
   "metadata": {},
   "outputs": [],
   "source": [
    "list_files = [os.path.join(path,i) for i in list_files if i.endswith('json')]"
   ]
  },
  {
   "cell_type": "code",
   "execution_count": 27,
   "metadata": {},
   "outputs": [
    {
     "name": "stdout",
     "output_type": "stream",
     "text": [
      "Error workign with-> New_json\\train.json\n"
     ]
    }
   ],
   "source": [
    "for file_i in list_files:\n",
    "    spacy_json_dict={}\n",
    "    try:\n",
    "        with open(file_i ,encoding='utf8') as fp:\n",
    "            data = json.load(fp)\n",
    "\n",
    "            num_contracts=len(data)\n",
    "\n",
    "            for crt_i in range(num_contracts):\n",
    "                list_entities=[]\n",
    "                num_labels=len(data[crt_i]['annotations'][0]['result'])\n",
    "                for label_i in range(num_labels):\n",
    "\n",
    "                    if data[crt_i]['annotations'][0]['result'][label_i]['value']:\n",
    "                        list_entities=[]\n",
    "                        list_entities.append((data[crt_i]['annotations'][0]['result'][label_i]['value']['start'],data[crt_i]['annotations'][0]['result'][label_i]['value']['end'], data[crt_i]['annotations'][0]['result'][label_i]['value']['labels'][0]))\n",
    "\n",
    "                    spacy_json_dict['text'+'_'+str(crt_i)]=data[crt_i]['data']['text']\n",
    "                    spacy_json_dict['labels'+\"_\"+str(crt_i)]=list_entities\n",
    "\n",
    "        rename_file=file_i.split('.json')[0]+'__spacy.pkl'\n",
    "        with open(rename_file, 'wb') as handle:\n",
    "            pickle.dump(spacy_json_dict, handle, protocol=pickle.HIGHEST_PROTOCOL)\n",
    "    except:\n",
    "        print('Error workign with->',file_i)"
   ]
  },
  {
   "cell_type": "code",
   "execution_count": 28,
   "metadata": {},
   "outputs": [],
   "source": [
    "list_files= os.listdir(path)\n",
    "list_files = [os.path.join(path,i) for i in list_files if i.endswith('pkl')]"
   ]
  },
  {
   "cell_type": "code",
   "execution_count": 29,
   "metadata": {},
   "outputs": [],
   "source": [
    "data_all = []\n",
    "for pkl_file in list_files:\n",
    "    with open(pkl_file, 'rb') as handle:\n",
    "        data = pickle.load(handle)\n",
    "    data_all.append(data)"
   ]
  },
  {
   "cell_type": "code",
   "execution_count": 30,
   "metadata": {},
   "outputs": [],
   "source": [
    "training_data = []\n",
    "for info in data_all:\n",
    "    for t,l in zip(list(info)[::2],list(info)[1::2]):\n",
    "        d = (info[t],{'entities':info[l]})\n",
    "        training_data.append(d)"
   ]
  },
  {
   "cell_type": "code",
   "execution_count": 31,
   "metadata": {},
   "outputs": [],
   "source": [
    "import json\n",
    "\n",
    "with open(os.path.join(path,'train.json'), 'w') as fp:\n",
    "    json.dump(training_data, fp)"
   ]
  },
  {
   "cell_type": "code",
   "execution_count": null,
   "metadata": {},
   "outputs": [],
   "source": []
  },
  {
   "cell_type": "code",
   "execution_count": null,
   "metadata": {},
   "outputs": [],
   "source": []
  }
 ],
 "metadata": {
  "interpreter": {
   "hash": "eee971906dad71d8d33832031261f0752c5c2d34bcb6587f352c05b222f171d7"
  },
  "kernelspec": {
   "display_name": "Python 3 (ipykernel)",
   "language": "python",
   "name": "python3"
  },
  "language_info": {
   "codemirror_mode": {
    "name": "ipython",
    "version": 3
   },
   "file_extension": ".py",
   "mimetype": "text/x-python",
   "name": "python",
   "nbconvert_exporter": "python",
   "pygments_lexer": "ipython3",
   "version": "3.8.5"
  }
 },
 "nbformat": 4,
 "nbformat_minor": 2
}
