{
 "cells": [
  {
   "cell_type": "code",
   "execution_count": 1,
   "id": "8987b0c4",
   "metadata": {},
   "outputs": [],
   "source": [
    "import json\n",
    "from seqeval.metrics import accuracy_score\n",
    "from seqeval.metrics import classification_report\n",
    "from seqeval.metrics import f1_score\n",
    "\n",
    "import warnings\n",
    "warnings.filterwarnings('ignore')"
   ]
  },
  {
   "cell_type": "code",
   "execution_count": 2,
   "id": "a1269378",
   "metadata": {},
   "outputs": [],
   "source": [
    "# !pip install seqeval"
   ]
  },
  {
   "cell_type": "code",
   "execution_count": 3,
   "id": "ecb146b0",
   "metadata": {},
   "outputs": [],
   "source": [
    "file_true = open('ner_test_ls.json')\n",
    "true_dict = json.load(file_true)"
   ]
  },
  {
   "cell_type": "code",
   "execution_count": 4,
   "id": "486a2495",
   "metadata": {},
   "outputs": [],
   "source": [
    "file_true = open('ner_test_ls.json')\n",
    "pred_dict = json.load(file_true)"
   ]
  },
  {
   "cell_type": "code",
   "execution_count": 5,
   "id": "fcfba09a",
   "metadata": {},
   "outputs": [],
   "source": [
    "true_lbl = []\n",
    "for i,data in enumerate(true_dict):\n",
    "    try:\n",
    "        x = data['predictions'][0]['result']\n",
    "        info = []\n",
    "        for j in range(len(x)):\n",
    "            k = x[j]['value']['labels'][0]\n",
    "            info.append(k)\n",
    "        if info:\n",
    "            true_lbl.append(info)\n",
    "    except:\n",
    "        print(i)"
   ]
  },
  {
   "cell_type": "code",
   "execution_count": 6,
   "id": "ce8aaa25",
   "metadata": {},
   "outputs": [],
   "source": [
    "pred_lbl = []\n",
    "for i,data in enumerate(true_dict):\n",
    "    try:\n",
    "        x = data['predictions'][0]['result']\n",
    "        info = []\n",
    "        for j in range(len(x)):\n",
    "            k = x[j]['value']['labels'][0]\n",
    "            info.append(k)\n",
    "        if info:\n",
    "            pred_lbl.append(info)\n",
    "    except:\n",
    "        print(i)"
   ]
  },
  {
   "cell_type": "code",
   "execution_count": 7,
   "id": "0a60d8ae",
   "metadata": {},
   "outputs": [
    {
     "data": {
      "text/plain": [
       "1.0"
      ]
     },
     "execution_count": 7,
     "metadata": {},
     "output_type": "execute_result"
    }
   ],
   "source": [
    "f1_score(true_lbl, pred_lbl)"
   ]
  },
  {
   "cell_type": "code",
   "execution_count": 8,
   "id": "f83a2880",
   "metadata": {},
   "outputs": [
    {
     "name": "stdout",
     "output_type": "stream",
     "text": [
      "              precision    recall  f1-score   support\n",
      "\n",
      "          ER       1.00      1.00      1.00      1210\n",
      "         ISC       1.00      1.00      1.00       619\n",
      "          OC       1.00      1.00      1.00      1397\n",
      "\n",
      "   micro avg       1.00      1.00      1.00      3226\n",
      "   macro avg       1.00      1.00      1.00      3226\n",
      "weighted avg       1.00      1.00      1.00      3226\n",
      "\n"
     ]
    }
   ],
   "source": [
    "print(classification_report(true_lbl, pred_lbl))"
   ]
  },
  {
   "cell_type": "code",
   "execution_count": null,
   "id": "8ecfcd53",
   "metadata": {},
   "outputs": [],
   "source": []
  }
 ],
 "metadata": {
  "kernelspec": {
   "display_name": "Python 3 (ipykernel)",
   "language": "python",
   "name": "python3"
  },
  "language_info": {
   "codemirror_mode": {
    "name": "ipython",
    "version": 3
   },
   "file_extension": ".py",
   "mimetype": "text/x-python",
   "name": "python",
   "nbconvert_exporter": "python",
   "pygments_lexer": "ipython3",
   "version": "3.8.5"
  }
 },
 "nbformat": 4,
 "nbformat_minor": 5
}
