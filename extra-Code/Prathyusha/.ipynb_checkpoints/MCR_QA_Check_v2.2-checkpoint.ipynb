{
 "cells": [
  {
   "cell_type": "code",
   "execution_count": 1,
   "metadata": {},
   "outputs": [],
   "source": [
    "from bs4 import BeautifulSoup\n",
    "HTMLFile = open('SampleHTMLMCR.html', \"r\")\n",
    "index = HTMLFile.read()\n",
    "\n",
    "# BeautifulSoup object\n",
    "S = BeautifulSoup(index, 'lxml')"
   ]
  },
  {
   "cell_type": "markdown",
   "metadata": {},
   "source": [
    "# Bold"
   ]
  },
  {
   "cell_type": "code",
   "execution_count": 2,
   "metadata": {},
   "outputs": [
    {
     "name": "stdout",
     "output_type": "stream",
     "text": [
      "advertising\n",
      "connection\n",
      "advertising a prominent disclosure\n"
     ]
    }
   ],
   "source": [
    "bold = S.find_all('span',class_ = \"c9\")\n",
    "bold = [i.get_text() for i in bold]\n",
    "print(*bold,sep='\\n')"
   ]
  },
  {
   "cell_type": "markdown",
   "metadata": {},
   "source": [
    "# Italic"
   ]
  },
  {
   "cell_type": "code",
   "execution_count": 3,
   "metadata": {},
   "outputs": [
    {
     "name": "stdout",
     "output_type": "stream",
     "text": [
      "sale of insurance clearly\n",
      "obtain additional information\n"
     ]
    }
   ],
   "source": [
    "italic = S.find_all('span',class_ = \"c5\")\n",
    "italic = [i.get_text() for i in italic]\n",
    "print(*italic,sep='\\n')"
   ]
  },
  {
   "cell_type": "markdown",
   "metadata": {},
   "source": [
    "# Color"
   ]
  },
  {
   "cell_type": "code",
   "execution_count": 4,
   "metadata": {},
   "outputs": [
    {
     "name": "stdout",
     "output_type": "stream",
     "text": [
      "prominently display a notice \n"
     ]
    }
   ],
   "source": [
    "color = S.find_all('span',class_ = \"c1\")\n",
    "color = [i.get_text() for i in color]\n",
    "print(*color,sep='\\n')"
   ]
  },
  {
   "cell_type": "markdown",
   "metadata": {},
   "source": [
    "# Flag cases where the full state name is used (the abbreviation is preferred)"
   ]
  },
  {
   "cell_type": "code",
   "execution_count": 5,
   "metadata": {},
   "outputs": [],
   "source": [
    "# get all p-tag for paragraphs\n",
    "t=S.find_all('p')\n",
    "\n",
    "# get respective text within p-tag and join  to form single string\n",
    "txt = ' '.join([i.get_text() for i in t])\n",
    "\n",
    "# convert unicode to normal string\n",
    "import unicodedata\n",
    "txt = unicodedata.normalize(\"NFKD\", txt).replace(\"\\n\",' ')\n",
    "# txt = txt.lower()"
   ]
  },
  {
   "cell_type": "code",
   "execution_count": 6,
   "metadata": {},
   "outputs": [],
   "source": [
    "import pandas as pd\n",
    "df = pd.read_csv('https://raw.githubusercontent.com/jasonong/List-of-US-States/master/states.csv')"
   ]
  },
  {
   "cell_type": "code",
   "execution_count": 7,
   "metadata": {},
   "outputs": [],
   "source": [
    "def show_ent(txt):\n",
    "    for st in df['State'].values:\n",
    "        if st.lower() in txt.lower():\n",
    "            print(st)"
   ]
  },
  {
   "cell_type": "code",
   "execution_count": 8,
   "metadata": {},
   "outputs": [
    {
     "name": "stdout",
     "output_type": "stream",
     "text": [
      "Florida\n",
      "New York\n"
     ]
    }
   ],
   "source": [
    "# doc = nlp(txt)\n",
    "show_ent(txt)"
   ]
  },
  {
   "cell_type": "markdown",
   "metadata": {},
   "source": [
    "# No Reference to Federal Law or The Bank\n"
   ]
  },
  {
   "cell_type": "code",
   "execution_count": 9,
   "metadata": {},
   "outputs": [
    {
     "name": "stdout",
     "output_type": "stream",
     "text": [
      "'Federal Law' is not present\n",
      "'The bank' is not present\n"
     ]
    }
   ],
   "source": [
    "if txt.find('Federal Law')!=-1:\n",
    "    print(\"'Federal Law' is present\")\n",
    "else:\n",
    "    print(\"'Federal Law' is not present\")\n",
    "    \n",
    "    \n",
    "if txt.find('The bank')!=-1:\n",
    "    print(\"'The bank' is present\")\n",
    "else:\n",
    "    print(\"'The bank' is not present\")    "
   ]
  },
  {
   "cell_type": "markdown",
   "metadata": {},
   "source": [
    "# The MCR should not include the word \"may\", or \"should\""
   ]
  },
  {
   "cell_type": "code",
   "execution_count": 10,
   "metadata": {},
   "outputs": [
    {
     "name": "stdout",
     "output_type": "stream",
     "text": [
      "Count of may/May/MAY. etc : 2\n",
      "Count of should,Should. etc : 0\n"
     ]
    }
   ],
   "source": [
    "print('Count of may/May/MAY. etc :',txt.count('may'))\n",
    "\n",
    "print('Count of should,Should. etc :',txt.count('should'))"
   ]
  },
  {
   "cell_type": "markdown",
   "metadata": {},
   "source": [
    "# The same date format should be applied across all Effective Dates"
   ]
  },
  {
   "cell_type": "code",
   "execution_count": 11,
   "metadata": {},
   "outputs": [
    {
     "name": "stdout",
     "output_type": "stream",
     "text": [
      "WRONG FORMAT DATE: 12-21-2020\n"
     ]
    }
   ],
   "source": [
    "import re\n",
    "\n",
    "txt = txt.lower()\n",
    "d = txt.split('effective date')[1:]\n",
    "pattern = \"((jan(uary)?|feb(ruary)?|mar(ch)?|apr(il)?|may|jun(e)?|jul(y)?|aug(ust)?|sep(tember)?|oct(ober)?|nov(ember)?|dec(ember)?)\\s+\\d{1,2},\\s+\\d{4})\"\n",
    "for i in range(len(d)):\n",
    "    line = d[i].strip().split()[:1][0].replace('.','')\n",
    "    \n",
    "    if len(line)==10:\n",
    "        date = re.findall(r'(\\d{2})/(\\d{2})/(\\d{4})',line)\n",
    "        if len(date)==0:\n",
    "            print('WRONG FORMAT DATE:',line)\n",
    "    else:\n",
    "        line = ' '.join(d[i].split()[:3]).replace('.','')\n",
    "        date = re.search(pattern,line)\n",
    "        if not date:\n",
    "            print('WRONG FORMAT DATE:',line)"
   ]
  },
  {
   "cell_type": "code",
   "execution_count": null,
   "metadata": {},
   "outputs": [],
   "source": []
  },
  {
   "cell_type": "code",
   "execution_count": null,
   "metadata": {},
   "outputs": [],
   "source": []
  },
  {
   "cell_type": "code",
   "execution_count": null,
   "metadata": {},
   "outputs": [],
   "source": []
  }
 ],
 "metadata": {
  "kernelspec": {
   "display_name": "Python 3",
   "language": "python",
   "name": "python3"
  },
  "language_info": {
   "codemirror_mode": {
    "name": "ipython",
    "version": 3
   },
   "file_extension": ".py",
   "mimetype": "text/x-python",
   "name": "python",
   "nbconvert_exporter": "python",
   "pygments_lexer": "ipython3",
   "version": "3.8.5"
  }
 },
 "nbformat": 4,
 "nbformat_minor": 4
}
