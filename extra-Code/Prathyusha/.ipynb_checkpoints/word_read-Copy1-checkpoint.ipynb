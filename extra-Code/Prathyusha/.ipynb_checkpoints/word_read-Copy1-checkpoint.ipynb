{
 "cells": [
  {
   "cell_type": "code",
   "execution_count": 36,
   "metadata": {},
   "outputs": [],
   "source": [
    "from docx import *"
   ]
  },
  {
   "cell_type": "code",
   "execution_count": 37,
   "metadata": {},
   "outputs": [],
   "source": [
    "document = Document('MCR Sample.docx')\n",
    "\n",
    "def get_bold_list(para):\n",
    "    bold_list = []\n",
    "    for run in para.runs:\n",
    "        bold_list.append(run.bold)\n",
    "    return bold_list\n",
    "\n",
    "for para in document.paragraphs:\n",
    "    bold_list = get_bold_list(para)\n",
    "    #do something with bold_list"
   ]
  },
  {
   "cell_type": "markdown",
   "metadata": {},
   "source": [
    "# BOLD"
   ]
  },
  {
   "cell_type": "code",
   "execution_count": 47,
   "metadata": {},
   "outputs": [
    {
     "name": "stdout",
     "output_type": "stream",
     "text": [
      "Bold:->  advertising\n",
      "Bold:->  connection\n",
      "italic:->  sale of insurance clearly\n",
      "italic:->  obtain additional information\n",
      "Bold:->  advertising a prominent disclosure\n"
     ]
    }
   ],
   "source": [
    "for paragraph in document.paragraphs:\n",
    "    for run in paragraph.runs:\n",
    "        if run.bold:\n",
    "            print('Bold:-> ',run.text)\n",
    "        if run.italic:\n",
    "            print('italic:-> ',run.text)"
   ]
  },
  {
   "cell_type": "markdown",
   "metadata": {},
   "source": [
    "# italic"
   ]
  },
  {
   "cell_type": "code",
   "execution_count": null,
   "metadata": {},
   "outputs": [],
   "source": [
    "for paragraph in document.paragraphs:\n",
    "    for run in paragraph.runs:\n",
    "        if run.italic:\n",
    "            print('italic:-> ',run.text)"
   ]
  },
  {
   "cell_type": "code",
   "execution_count": null,
   "metadata": {},
   "outputs": [],
   "source": []
  },
  {
   "cell_type": "code",
   "execution_count": 45,
   "metadata": {},
   "outputs": [],
   "source": [
    "# document.paragraphs[2].runs[0].italic"
   ]
  }
 ],
 "metadata": {
  "kernelspec": {
   "display_name": "Python 3",
   "language": "python",
   "name": "python3"
  },
  "language_info": {
   "codemirror_mode": {
    "name": "ipython",
    "version": 3
   },
   "file_extension": ".py",
   "mimetype": "text/x-python",
   "name": "python",
   "nbconvert_exporter": "python",
   "pygments_lexer": "ipython3",
   "version": "3.8.5"
  }
 },
 "nbformat": 4,
 "nbformat_minor": 4
}
