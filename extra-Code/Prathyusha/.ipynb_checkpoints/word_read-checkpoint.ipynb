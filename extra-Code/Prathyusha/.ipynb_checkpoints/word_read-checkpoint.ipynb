{
 "cells": [
  {
   "cell_type": "markdown",
   "metadata": {},
   "source": [
    "- make sure that a certain term is not used in the doc\n",
    "- Flag cases where the full state name is used instead of abbreviation in the doc(eg. Florida instead of FL)\n",
    "- make sure theres no coloured text\n",
    "- make sure theres no bold text\n",
    "- make sure theres no italian text"
   ]
  },
  {
   "cell_type": "code",
   "execution_count": 1,
   "metadata": {},
   "outputs": [],
   "source": [
    "from docx import *"
   ]
  },
  {
   "cell_type": "code",
   "execution_count": 2,
   "metadata": {},
   "outputs": [],
   "source": [
    "document = Document('MCR Sample.docx')"
   ]
  },
  {
   "cell_type": "markdown",
   "metadata": {},
   "source": [
    "# BOLD"
   ]
  },
  {
   "cell_type": "code",
   "execution_count": 3,
   "metadata": {},
   "outputs": [
    {
     "name": "stdout",
     "output_type": "stream",
     "text": [
      "advertising\n",
      "connection\n",
      "advertising a prominent disclosure\n"
     ]
    }
   ],
   "source": [
    "for paragraph in document.paragraphs:\n",
    "    for run in paragraph.runs:\n",
    "        if run.bold:\n",
    "            print(run.text)"
   ]
  },
  {
   "cell_type": "markdown",
   "metadata": {},
   "source": [
    "# italic"
   ]
  },
  {
   "cell_type": "code",
   "execution_count": 4,
   "metadata": {},
   "outputs": [
    {
     "name": "stdout",
     "output_type": "stream",
     "text": [
      "sale of insurance clearly\n",
      "obtain additional information\n"
     ]
    }
   ],
   "source": [
    "for paragraph in document.paragraphs:\n",
    "    for run in paragraph.runs:\n",
    "        if run.italic:\n",
    "            print(run.text)"
   ]
  },
  {
   "cell_type": "markdown",
   "metadata": {},
   "source": [
    "# Color"
   ]
  },
  {
   "cell_type": "code",
   "execution_count": 5,
   "metadata": {},
   "outputs": [
    {
     "name": "stdout",
     "output_type": "stream",
     "text": [
      "lose value\n",
      "prominently display a notice \n"
     ]
    }
   ],
   "source": [
    "for paragraph in document.paragraphs:\n",
    "    for run in paragraph.runs:\n",
    "        if run.font.color.rgb:\n",
    "            print(run.text)"
   ]
  },
  {
   "cell_type": "code",
   "execution_count": 6,
   "metadata": {},
   "outputs": [],
   "source": [
    "# document.paragraphs[2].runs[0].italic"
   ]
  },
  {
   "cell_type": "markdown",
   "metadata": {},
   "source": [
    "# state name"
   ]
  },
  {
   "cell_type": "code",
   "execution_count": 7,
   "metadata": {},
   "outputs": [],
   "source": [
    "import spacy\n",
    "nlp = spacy.load('en_core_web_sm')"
   ]
  },
  {
   "cell_type": "code",
   "execution_count": 8,
   "metadata": {},
   "outputs": [],
   "source": [
    "fullText = []\n",
    "for para in document.paragraphs:\n",
    "    fullText.append(para.text)\n",
    "txt = '\\n'.join(fullText)\n",
    "\n",
    "import unicodedata\n",
    "txt = unicodedata.normalize(\"NFKD\", txt).replace(\"\\n\",' ')\n",
    "# txt"
   ]
  },
  {
   "cell_type": "code",
   "execution_count": 9,
   "metadata": {},
   "outputs": [],
   "source": [
    "def show_ent(doc):\n",
    "    for i in doc.ents:\n",
    "        if i.label_=='GPE' and not i.text.isupper():\n",
    "            print(i.text)"
   ]
  },
  {
   "cell_type": "code",
   "execution_count": 10,
   "metadata": {},
   "outputs": [
    {
     "name": "stdout",
     "output_type": "stream",
     "text": [
      "Florida\n"
     ]
    }
   ],
   "source": [
    "doc = nlp(txt)\n",
    "show_ent(doc)"
   ]
  },
  {
   "cell_type": "markdown",
   "metadata": {},
   "source": [
    "# make sure that a certain term is not used in the doc\n",
    "\n",
    "- 'Federal Law'\n",
    "- 'The bank'"
   ]
  },
  {
   "cell_type": "code",
   "execution_count": 11,
   "metadata": {},
   "outputs": [
    {
     "name": "stdout",
     "output_type": "stream",
     "text": [
      "'Federal Law' is not present\n",
      "'The bank' is not present\n"
     ]
    }
   ],
   "source": [
    "if txt.find('Federal Law')!=-1:\n",
    "    print(\"'Federal Law' is present\")\n",
    "else:\n",
    "    print(\"'Federal Law' is not present\")\n",
    "    \n",
    "    \n",
    "if txt.find('The bank')!=-1:\n",
    "    print(\"'The bank' is present\")\n",
    "else:\n",
    "    print(\"'The bank' is not present\")    "
   ]
  },
  {
   "cell_type": "code",
   "execution_count": null,
   "metadata": {},
   "outputs": [],
   "source": []
  }
 ],
 "metadata": {
  "kernelspec": {
   "display_name": "Python 3",
   "language": "python",
   "name": "python3"
  },
  "language_info": {
   "codemirror_mode": {
    "name": "ipython",
    "version": 3
   },
   "file_extension": ".py",
   "mimetype": "text/x-python",
   "name": "python",
   "nbconvert_exporter": "python",
   "pygments_lexer": "ipython3",
   "version": "3.8.5"
  }
 },
 "nbformat": 4,
 "nbformat_minor": 4
}
