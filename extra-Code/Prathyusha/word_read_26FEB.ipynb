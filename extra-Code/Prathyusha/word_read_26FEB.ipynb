{
 "cells": [
  {
   "cell_type": "markdown",
   "metadata": {},
   "source": [
    "1. - The same date format should be applied across all Effective Dates. Required format, e.g. \"MM/DD/YYYY\", or \"Month Day, YEAR\" - output should print 'dates not in same format. PRINT WRONG FORMAT DATE ' if all Effective Dates in one doc are not in same format\n",
    "2. - The doc should not include the word \"may\", or \"should\"; - Rather, the doc should include more decisive terms like \"must\", \"must not\", or \"prohibited\", or \"permitted\". output should be count of words 'may' and 'should'"
   ]
  },
  {
   "cell_type": "code",
   "execution_count": 1,
   "metadata": {},
   "outputs": [],
   "source": [
    "from docx import *\n",
    "import unicodedata"
   ]
  },
  {
   "cell_type": "code",
   "execution_count": 2,
   "metadata": {},
   "outputs": [],
   "source": [
    "document = Document('MCR Ready_v1.docx')"
   ]
  },
  {
   "cell_type": "code",
   "execution_count": 3,
   "metadata": {},
   "outputs": [
    {
     "data": {
      "text/plain": [
       "\"wells fargo must make accurate and complete disclosures to its customers in any advertisements and account agreements when engaged in the sale or offering of securities, insurance products, deposit accounts and prepaid/reloadable charge cards. 1. securities in florida, wells fargo must, prior to the sale of securities, obtain written approval of any advertisement of such securities from the office of financial regulation before being published or circulated, unless the advertisement falls within the requirements of financial industry regulatory authority (finra) rule 2210, or  north american securities dealers (nasd) rule 2210. in hi, wells fargo must, when advertising wf locations where broker-dealer services are provided, disclose that the securities are not insured by the federal deposit insurance corporation (fdic); are not deposits of wf and are not guaranteed by wf; and are subject to investment risks, including the risk of the principal invested. as a broker-dealer, wells fargo may use and display conspicuously that: the securities are not fdic insured; not bank guaranteed; and may lose value effective date 12-21-2020 2. insurance in ga, wells fargo must, in connection with the sale of insurance clearly reflect the source of an advertisement and state whether the insurance agent is an employee of wf. if the agent is an employee of wells fargo, he or she must disclose that he or she is representing both wf and the insurer. if the agent is not an employee of wf, he or she must disclose that he or she is an independent agent. effective data 12/21/2020. well fargo must not convey misleading or inaccurate information in advertisements or refer to premiums as deposits. wells fargo must use terminology that distinguishes deposit products from insurance products and disclose that insurance products are not insured by the federal deposit insurance corporation (fdic); not a deposit or obligation of wf; not guaranteed or underwritten by wf; is not a condition of the provision or term any banking activity or service. in la, as a state-chartered bank that has been approved to engage in the sale of fixed or variable annuities, wells fargo must disclose in all advertising that an annuity is not a deposit and that it is not insured by the federal deposit insurance corporation (“fdic”). wells fargo must also have each purchaser of an annuity sign a specific form of disclosure prior to the time of purchase. effective date july 20, 2021. 3. general use reloadable cards in il, wf must, before a general use reloadable card is purchased, clearly and conspicuously disclose the amount of any card purchase fee; monthly maintenance fee; cash withdrawal fee at an atm and cash advance fee at retail locations; reload fee; and balance inquiry fee, unless the disclosure is made without cost via telephone or internet access. the disclosures must be made on a portion of the card packaging accessible to the consumer prior to purchase; be provided in written or electronic form. when the cards are sold online, the required disclosures must be clearly and conspicuously accessible on wells fargo's website prior to purchase. 4. deposits in ny, for club deposit accounts, wells fargo, as a savings and loan association, must disclose in all advertising specific information relating to interest and/or dividends. in ny, for club deposit accounts, wells fargo, as a bank, must disclose in all advertising specific information relating to interest and/or dividends. in new york, prior to the first deposit made by a customer/potential customer, and in all advertising that solicits savings or time deposit accounts, wells fargo must provide the customer with a prominent notice of how to obtain additional information about the account. this requirement does not apply to radio advertisements. in ny, at least 30 days before wells fargo converts a passbook or statement savings account from a fixed to a variable rate of interest it must make certain disclosures, in writing, to each depositor. wells fargo shall also prominently display a notice describing the change in the lobby of each branch for the 30-day period prior to the change and shall keep such notice posted for a minimum of three months after the change becomes effective. there are additional requirements for existing savings accounts and statement savings accounts.  in vt, as a merchant bank, wells fargo must include in all its advertising a prominent disclosure that deposits are not accepted. in vt, as an uninsured bank, wells fargo must provide in writing in all its deposit-related advertising that deposits are not insured by the fdic. the federal law shall now use the new list of cases provided. \""
      ]
     },
     "execution_count": 3,
     "metadata": {},
     "output_type": "execute_result"
    }
   ],
   "source": [
    "fullText = []\n",
    "for para in document.paragraphs:\n",
    "    fullText.append(para.text)\n",
    "txt = ' '.join(fullText)\n",
    "txt = unicodedata.normalize(\"NFKD\", txt)\n",
    "txt = txt.lower()\n",
    "txt"
   ]
  },
  {
   "cell_type": "markdown",
   "metadata": {},
   "source": [
    "# May, should"
   ]
  },
  {
   "cell_type": "code",
   "execution_count": 4,
   "metadata": {},
   "outputs": [
    {
     "name": "stdout",
     "output_type": "stream",
     "text": [
      "Count of may/May/MAY. etc : 2\n"
     ]
    }
   ],
   "source": [
    "print('Count of may/May/MAY. etc :',txt.count('may'))"
   ]
  },
  {
   "cell_type": "code",
   "execution_count": 5,
   "metadata": {},
   "outputs": [
    {
     "name": "stdout",
     "output_type": "stream",
     "text": [
      "Count of should,Should. etc : 0\n"
     ]
    }
   ],
   "source": [
    "print('Count of should,Should. etc :',txt.count('should'))"
   ]
  },
  {
   "cell_type": "markdown",
   "metadata": {},
   "source": [
    "# WRONG FORMAT DATE"
   ]
  },
  {
   "cell_type": "code",
   "execution_count": 6,
   "metadata": {},
   "outputs": [],
   "source": [
    "import re"
   ]
  },
  {
   "cell_type": "code",
   "execution_count": 7,
   "metadata": {},
   "outputs": [
    {
     "name": "stdout",
     "output_type": "stream",
     "text": [
      "WRONG FORMAT DATE: 12-21-2020\n"
     ]
    }
   ],
   "source": [
    "d = txt.split('effective date')[1:]\n",
    "pattern = \"((jan(uary)?|feb(ruary)?|mar(ch)?|apr(il)?|may|jun(e)?|jul(y)?|aug(ust)?|sep(tember)?|oct(ober)?|nov(ember)?|dec(ember)?)\\s+\\d{1,2},\\s+\\d{4})\"\n",
    "for i in range(len(d)):\n",
    "    line = d[i].split()[:1][0].replace('.','')\n",
    "    \n",
    "    if len(line)==10:\n",
    "        date = re.findall(r'(\\d{2})/(\\d{2})/(\\d{4})',line)\n",
    "        if len(date)==0:\n",
    "            print('WRONG FORMAT DATE:',line)\n",
    "    else:\n",
    "        line = ' '.join(d[i].split()[:3]).replace('.','')\n",
    "        date = re.search(pattern,line)\n",
    "        if not date:\n",
    "            print('WRONG FORMAT DATE:',line)"
   ]
  },
  {
   "cell_type": "code",
   "execution_count": null,
   "metadata": {},
   "outputs": [],
   "source": []
  }
 ],
 "metadata": {
  "kernelspec": {
   "display_name": "Python 3",
   "language": "python",
   "name": "python3"
  },
  "language_info": {
   "codemirror_mode": {
    "name": "ipython",
    "version": 3
   },
   "file_extension": ".py",
   "mimetype": "text/x-python",
   "name": "python",
   "nbconvert_exporter": "python",
   "pygments_lexer": "ipython3",
   "version": "3.8.5"
  }
 },
 "nbformat": 4,
 "nbformat_minor": 4
}
