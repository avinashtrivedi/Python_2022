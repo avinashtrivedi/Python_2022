{
 "cells": [
  {
   "cell_type": "markdown",
   "id": "23ba6c56",
   "metadata": {},
   "source": [
    "# List"
   ]
  },
  {
   "cell_type": "code",
   "execution_count": 1,
   "id": "6f97a9bc",
   "metadata": {},
   "outputs": [],
   "source": [
    "x = [2,3,4,5,5.333,'AA','B']"
   ]
  },
  {
   "cell_type": "code",
   "execution_count": 3,
   "id": "64185c6e",
   "metadata": {},
   "outputs": [
    {
     "data": {
      "text/plain": [
       "list"
      ]
     },
     "execution_count": 3,
     "metadata": {},
     "output_type": "execute_result"
    }
   ],
   "source": [
    "type(x)"
   ]
  },
  {
   "cell_type": "code",
   "execution_count": 5,
   "id": "a4c8ee29",
   "metadata": {},
   "outputs": [
    {
     "data": {
      "text/plain": [
       "int"
      ]
     },
     "execution_count": 5,
     "metadata": {},
     "output_type": "execute_result"
    }
   ],
   "source": [
    "type(x[0])"
   ]
  },
  {
   "cell_type": "code",
   "execution_count": 7,
   "id": "32b3f98d",
   "metadata": {},
   "outputs": [
    {
     "data": {
      "text/plain": [
       "float"
      ]
     },
     "execution_count": 7,
     "metadata": {},
     "output_type": "execute_result"
    }
   ],
   "source": [
    "type(x[4])"
   ]
  },
  {
   "cell_type": "code",
   "execution_count": 8,
   "id": "78e10363",
   "metadata": {},
   "outputs": [
    {
     "data": {
      "text/plain": [
       "str"
      ]
     },
     "execution_count": 8,
     "metadata": {},
     "output_type": "execute_result"
    }
   ],
   "source": [
    "type(x[5])"
   ]
  },
  {
   "cell_type": "code",
   "execution_count": 9,
   "id": "0af7b6a2",
   "metadata": {},
   "outputs": [
    {
     "data": {
      "text/plain": [
       "[2, 3, 4, 5, 5.333, 'AA', 'B']"
      ]
     },
     "execution_count": 9,
     "metadata": {},
     "output_type": "execute_result"
    }
   ],
   "source": [
    "x"
   ]
  },
  {
   "cell_type": "code",
   "execution_count": 10,
   "id": "b585d956",
   "metadata": {},
   "outputs": [
    {
     "data": {
      "text/plain": [
       "'B'"
      ]
     },
     "execution_count": 10,
     "metadata": {},
     "output_type": "execute_result"
    }
   ],
   "source": [
    "x[-1]"
   ]
  },
  {
   "cell_type": "code",
   "execution_count": 11,
   "id": "d1ce5d7e",
   "metadata": {},
   "outputs": [
    {
     "data": {
      "text/plain": [
       "'AA'"
      ]
     },
     "execution_count": 11,
     "metadata": {},
     "output_type": "execute_result"
    }
   ],
   "source": [
    "x[-2]"
   ]
  },
  {
   "cell_type": "markdown",
   "id": "9e003e67",
   "metadata": {},
   "source": [
    "# Slicing"
   ]
  },
  {
   "cell_type": "code",
   "execution_count": 12,
   "id": "70aa126f",
   "metadata": {},
   "outputs": [
    {
     "data": {
      "text/plain": [
       "[2, 3, 4, 5, 5.333, 'AA', 'B']"
      ]
     },
     "execution_count": 12,
     "metadata": {},
     "output_type": "execute_result"
    }
   ],
   "source": [
    "x"
   ]
  },
  {
   "cell_type": "code",
   "execution_count": 13,
   "id": "bba19d02",
   "metadata": {},
   "outputs": [],
   "source": [
    "#x[start:stop]"
   ]
  },
  {
   "cell_type": "code",
   "execution_count": 14,
   "id": "7d988a95",
   "metadata": {},
   "outputs": [
    {
     "data": {
      "text/plain": [
       "[4, 5, 5.333, 'AA']"
      ]
     },
     "execution_count": 14,
     "metadata": {},
     "output_type": "execute_result"
    }
   ],
   "source": [
    "x[2:6]"
   ]
  },
  {
   "cell_type": "code",
   "execution_count": 15,
   "id": "aef190bc",
   "metadata": {},
   "outputs": [
    {
     "data": {
      "text/plain": [
       "[4, 5, 5.333]"
      ]
     },
     "execution_count": 15,
     "metadata": {},
     "output_type": "execute_result"
    }
   ],
   "source": [
    "x[2:-2]"
   ]
  },
  {
   "cell_type": "code",
   "execution_count": 16,
   "id": "75d757b1",
   "metadata": {},
   "outputs": [],
   "source": [
    "x.append('HELLO')"
   ]
  },
  {
   "cell_type": "code",
   "execution_count": 17,
   "id": "dcaabd15",
   "metadata": {},
   "outputs": [
    {
     "data": {
      "text/plain": [
       "[2, 3, 4, 5, 5.333, 'AA', 'B', 'HELLO']"
      ]
     },
     "execution_count": 17,
     "metadata": {},
     "output_type": "execute_result"
    }
   ],
   "source": [
    "x"
   ]
  },
  {
   "cell_type": "code",
   "execution_count": 18,
   "id": "73261b1c",
   "metadata": {},
   "outputs": [],
   "source": [
    "x.insert(0,'World')"
   ]
  },
  {
   "cell_type": "code",
   "execution_count": 19,
   "id": "f7f258f7",
   "metadata": {},
   "outputs": [
    {
     "data": {
      "text/plain": [
       "['World', 2, 3, 4, 5, 5.333, 'AA', 'B', 'HELLO']"
      ]
     },
     "execution_count": 19,
     "metadata": {},
     "output_type": "execute_result"
    }
   ],
   "source": [
    "x"
   ]
  },
  {
   "cell_type": "code",
   "execution_count": 20,
   "id": "bb6c44c0",
   "metadata": {},
   "outputs": [
    {
     "data": {
      "text/plain": [
       "'HELLO'"
      ]
     },
     "execution_count": 20,
     "metadata": {},
     "output_type": "execute_result"
    }
   ],
   "source": [
    "x.pop()"
   ]
  },
  {
   "cell_type": "code",
   "execution_count": 21,
   "id": "46cbe07d",
   "metadata": {},
   "outputs": [
    {
     "data": {
      "text/plain": [
       "['World', 2, 3, 4, 5, 5.333, 'AA', 'B']"
      ]
     },
     "execution_count": 21,
     "metadata": {},
     "output_type": "execute_result"
    }
   ],
   "source": [
    "x"
   ]
  },
  {
   "cell_type": "code",
   "execution_count": 22,
   "id": "d8d48fbd",
   "metadata": {},
   "outputs": [
    {
     "data": {
      "text/plain": [
       "'B'"
      ]
     },
     "execution_count": 22,
     "metadata": {},
     "output_type": "execute_result"
    }
   ],
   "source": [
    "x.pop()"
   ]
  },
  {
   "cell_type": "code",
   "execution_count": 23,
   "id": "463c8f3c",
   "metadata": {},
   "outputs": [
    {
     "data": {
      "text/plain": [
       "['World', 2, 3, 4, 5, 5.333, 'AA']"
      ]
     },
     "execution_count": 23,
     "metadata": {},
     "output_type": "execute_result"
    }
   ],
   "source": [
    "x"
   ]
  },
  {
   "cell_type": "code",
   "execution_count": 24,
   "id": "370ed78b",
   "metadata": {},
   "outputs": [
    {
     "data": {
      "text/plain": [
       "'World'"
      ]
     },
     "execution_count": 24,
     "metadata": {},
     "output_type": "execute_result"
    }
   ],
   "source": [
    "x.pop(0)"
   ]
  },
  {
   "cell_type": "code",
   "execution_count": 26,
   "id": "2324b4b6",
   "metadata": {},
   "outputs": [
    {
     "data": {
      "text/plain": [
       "2"
      ]
     },
     "execution_count": 26,
     "metadata": {},
     "output_type": "execute_result"
    }
   ],
   "source": [
    "x.pop(0)"
   ]
  },
  {
   "cell_type": "code",
   "execution_count": 27,
   "id": "7ae47d30",
   "metadata": {},
   "outputs": [
    {
     "data": {
      "text/plain": [
       "[3, 4, 5, 5.333, 'AA']"
      ]
     },
     "execution_count": 27,
     "metadata": {},
     "output_type": "execute_result"
    }
   ],
   "source": [
    "x"
   ]
  },
  {
   "cell_type": "code",
   "execution_count": 28,
   "id": "43738184",
   "metadata": {},
   "outputs": [
    {
     "name": "stdout",
     "output_type": "stream",
     "text": [
      "Help on list object:\n",
      "\n",
      "class list(object)\n",
      " |  list(iterable=(), /)\n",
      " |  \n",
      " |  Built-in mutable sequence.\n",
      " |  \n",
      " |  If no argument is given, the constructor creates a new empty list.\n",
      " |  The argument must be an iterable if specified.\n",
      " |  \n",
      " |  Methods defined here:\n",
      " |  \n",
      " |  __add__(self, value, /)\n",
      " |      Return self+value.\n",
      " |  \n",
      " |  __contains__(self, key, /)\n",
      " |      Return key in self.\n",
      " |  \n",
      " |  __delitem__(self, key, /)\n",
      " |      Delete self[key].\n",
      " |  \n",
      " |  __eq__(self, value, /)\n",
      " |      Return self==value.\n",
      " |  \n",
      " |  __ge__(self, value, /)\n",
      " |      Return self>=value.\n",
      " |  \n",
      " |  __getattribute__(self, name, /)\n",
      " |      Return getattr(self, name).\n",
      " |  \n",
      " |  __getitem__(...)\n",
      " |      x.__getitem__(y) <==> x[y]\n",
      " |  \n",
      " |  __gt__(self, value, /)\n",
      " |      Return self>value.\n",
      " |  \n",
      " |  __iadd__(self, value, /)\n",
      " |      Implement self+=value.\n",
      " |  \n",
      " |  __imul__(self, value, /)\n",
      " |      Implement self*=value.\n",
      " |  \n",
      " |  __init__(self, /, *args, **kwargs)\n",
      " |      Initialize self.  See help(type(self)) for accurate signature.\n",
      " |  \n",
      " |  __iter__(self, /)\n",
      " |      Implement iter(self).\n",
      " |  \n",
      " |  __le__(self, value, /)\n",
      " |      Return self<=value.\n",
      " |  \n",
      " |  __len__(self, /)\n",
      " |      Return len(self).\n",
      " |  \n",
      " |  __lt__(self, value, /)\n",
      " |      Return self<value.\n",
      " |  \n",
      " |  __mul__(self, value, /)\n",
      " |      Return self*value.\n",
      " |  \n",
      " |  __ne__(self, value, /)\n",
      " |      Return self!=value.\n",
      " |  \n",
      " |  __repr__(self, /)\n",
      " |      Return repr(self).\n",
      " |  \n",
      " |  __reversed__(self, /)\n",
      " |      Return a reverse iterator over the list.\n",
      " |  \n",
      " |  __rmul__(self, value, /)\n",
      " |      Return value*self.\n",
      " |  \n",
      " |  __setitem__(self, key, value, /)\n",
      " |      Set self[key] to value.\n",
      " |  \n",
      " |  __sizeof__(self, /)\n",
      " |      Return the size of the list in memory, in bytes.\n",
      " |  \n",
      " |  append(self, object, /)\n",
      " |      Append object to the end of the list.\n",
      " |  \n",
      " |  clear(self, /)\n",
      " |      Remove all items from list.\n",
      " |  \n",
      " |  copy(self, /)\n",
      " |      Return a shallow copy of the list.\n",
      " |  \n",
      " |  count(self, value, /)\n",
      " |      Return number of occurrences of value.\n",
      " |  \n",
      " |  extend(self, iterable, /)\n",
      " |      Extend list by appending elements from the iterable.\n",
      " |  \n",
      " |  index(self, value, start=0, stop=9223372036854775807, /)\n",
      " |      Return first index of value.\n",
      " |      \n",
      " |      Raises ValueError if the value is not present.\n",
      " |  \n",
      " |  insert(self, index, object, /)\n",
      " |      Insert object before index.\n",
      " |  \n",
      " |  pop(self, index=-1, /)\n",
      " |      Remove and return item at index (default last).\n",
      " |      \n",
      " |      Raises IndexError if list is empty or index is out of range.\n",
      " |  \n",
      " |  remove(self, value, /)\n",
      " |      Remove first occurrence of value.\n",
      " |      \n",
      " |      Raises ValueError if the value is not present.\n",
      " |  \n",
      " |  reverse(self, /)\n",
      " |      Reverse *IN PLACE*.\n",
      " |  \n",
      " |  sort(self, /, *, key=None, reverse=False)\n",
      " |      Sort the list in ascending order and return None.\n",
      " |      \n",
      " |      The sort is in-place (i.e. the list itself is modified) and stable (i.e. the\n",
      " |      order of two equal elements is maintained).\n",
      " |      \n",
      " |      If a key function is given, apply it once to each list item and sort them,\n",
      " |      ascending or descending, according to their function values.\n",
      " |      \n",
      " |      The reverse flag can be set to sort in descending order.\n",
      " |  \n",
      " |  ----------------------------------------------------------------------\n",
      " |  Class methods defined here:\n",
      " |  \n",
      " |  __class_getitem__(...) from builtins.type\n",
      " |      See PEP 585\n",
      " |  \n",
      " |  ----------------------------------------------------------------------\n",
      " |  Static methods defined here:\n",
      " |  \n",
      " |  __new__(*args, **kwargs) from builtins.type\n",
      " |      Create and return a new object.  See help(type) for accurate signature.\n",
      " |  \n",
      " |  ----------------------------------------------------------------------\n",
      " |  Data and other attributes defined here:\n",
      " |  \n",
      " |  __hash__ = None\n",
      "\n"
     ]
    }
   ],
   "source": [
    "help(x)"
   ]
  },
  {
   "cell_type": "code",
   "execution_count": 29,
   "id": "f89f8ca0",
   "metadata": {},
   "outputs": [
    {
     "data": {
      "text/plain": [
       "[3, 4, 5, 5.333, 'AA']"
      ]
     },
     "execution_count": 29,
     "metadata": {},
     "output_type": "execute_result"
    }
   ],
   "source": [
    "x"
   ]
  },
  {
   "cell_type": "code",
   "execution_count": 30,
   "id": "9a3ab8eb",
   "metadata": {},
   "outputs": [],
   "source": [
    "y = x"
   ]
  },
  {
   "cell_type": "code",
   "execution_count": 31,
   "id": "ab030944",
   "metadata": {},
   "outputs": [
    {
     "data": {
      "text/plain": [
       "[3, 4, 5, 5.333, 'AA']"
      ]
     },
     "execution_count": 31,
     "metadata": {},
     "output_type": "execute_result"
    }
   ],
   "source": [
    "x"
   ]
  },
  {
   "cell_type": "code",
   "execution_count": 32,
   "id": "c8a5c163",
   "metadata": {},
   "outputs": [
    {
     "data": {
      "text/plain": [
       "[3, 4, 5, 5.333, 'AA']"
      ]
     },
     "execution_count": 32,
     "metadata": {},
     "output_type": "execute_result"
    }
   ],
   "source": [
    "y"
   ]
  },
  {
   "cell_type": "code",
   "execution_count": 34,
   "id": "2971424d",
   "metadata": {},
   "outputs": [],
   "source": [
    "y[0] = 333"
   ]
  },
  {
   "cell_type": "code",
   "execution_count": 35,
   "id": "e8bc65a2",
   "metadata": {},
   "outputs": [
    {
     "data": {
      "text/plain": [
       "[333, 4, 5, 5.333, 'AA']"
      ]
     },
     "execution_count": 35,
     "metadata": {},
     "output_type": "execute_result"
    }
   ],
   "source": [
    "y"
   ]
  },
  {
   "cell_type": "code",
   "execution_count": 36,
   "id": "c376ca2c",
   "metadata": {},
   "outputs": [
    {
     "data": {
      "text/plain": [
       "[333, 4, 5, 5.333, 'AA']"
      ]
     },
     "execution_count": 36,
     "metadata": {},
     "output_type": "execute_result"
    }
   ],
   "source": [
    "x"
   ]
  },
  {
   "cell_type": "code",
   "execution_count": 37,
   "id": "35f4fd81",
   "metadata": {},
   "outputs": [],
   "source": [
    "z = x.copy()"
   ]
  },
  {
   "cell_type": "code",
   "execution_count": 39,
   "id": "16fd5a16",
   "metadata": {},
   "outputs": [],
   "source": [
    "z[0] = 13"
   ]
  },
  {
   "cell_type": "code",
   "execution_count": 40,
   "id": "ec4a8900",
   "metadata": {},
   "outputs": [
    {
     "data": {
      "text/plain": [
       "[13, 4, 5, 5.333, 'AA']"
      ]
     },
     "execution_count": 40,
     "metadata": {},
     "output_type": "execute_result"
    }
   ],
   "source": [
    "z"
   ]
  },
  {
   "cell_type": "code",
   "execution_count": 41,
   "id": "a7969b96",
   "metadata": {},
   "outputs": [
    {
     "data": {
      "text/plain": [
       "[333, 4, 5, 5.333, 'AA']"
      ]
     },
     "execution_count": 41,
     "metadata": {},
     "output_type": "execute_result"
    }
   ],
   "source": [
    "x"
   ]
  },
  {
   "cell_type": "code",
   "execution_count": 42,
   "id": "72453016",
   "metadata": {},
   "outputs": [],
   "source": [
    "x = [44,6,1,4,9]"
   ]
  },
  {
   "cell_type": "code",
   "execution_count": 43,
   "id": "e8414c1f",
   "metadata": {},
   "outputs": [],
   "source": [
    "x.sort()"
   ]
  },
  {
   "cell_type": "code",
   "execution_count": 44,
   "id": "a4ef33a1",
   "metadata": {},
   "outputs": [
    {
     "data": {
      "text/plain": [
       "[1, 4, 6, 9, 44]"
      ]
     },
     "execution_count": 44,
     "metadata": {},
     "output_type": "execute_result"
    }
   ],
   "source": [
    "x"
   ]
  },
  {
   "cell_type": "markdown",
   "id": "d3dbe566",
   "metadata": {},
   "source": [
    "# Tuple"
   ]
  },
  {
   "cell_type": "code",
   "execution_count": 62,
   "id": "2b4ccd57",
   "metadata": {},
   "outputs": [],
   "source": [
    "x_tup = (4,6,8,9)"
   ]
  },
  {
   "cell_type": "code",
   "execution_count": 63,
   "id": "afec5dde",
   "metadata": {},
   "outputs": [
    {
     "data": {
      "text/plain": [
       "tuple"
      ]
     },
     "execution_count": 63,
     "metadata": {},
     "output_type": "execute_result"
    }
   ],
   "source": [
    "type(x_tup)"
   ]
  },
  {
   "cell_type": "code",
   "execution_count": 64,
   "id": "648baf6b",
   "metadata": {},
   "outputs": [
    {
     "data": {
      "text/plain": [
       "[100, 4, 6, 9, 44]"
      ]
     },
     "execution_count": 64,
     "metadata": {},
     "output_type": "execute_result"
    }
   ],
   "source": [
    "x"
   ]
  },
  {
   "cell_type": "code",
   "execution_count": 65,
   "id": "d34b6389",
   "metadata": {},
   "outputs": [],
   "source": [
    "x[0] = 100"
   ]
  },
  {
   "cell_type": "code",
   "execution_count": 66,
   "id": "c82f5113",
   "metadata": {},
   "outputs": [
    {
     "data": {
      "text/plain": [
       "[100, 4, 6, 9, 44]"
      ]
     },
     "execution_count": 66,
     "metadata": {},
     "output_type": "execute_result"
    }
   ],
   "source": [
    "x # list , mutable"
   ]
  },
  {
   "cell_type": "code",
   "execution_count": 67,
   "id": "03171ca4",
   "metadata": {},
   "outputs": [
    {
     "ename": "TypeError",
     "evalue": "'tuple' object does not support item assignment",
     "output_type": "error",
     "traceback": [
      "\u001b[1;31m---------------------------------------------------------------------------\u001b[0m",
      "\u001b[1;31mTypeError\u001b[0m                                 Traceback (most recent call last)",
      "Input \u001b[1;32mIn [67]\u001b[0m, in \u001b[0;36m<cell line: 1>\u001b[1;34m()\u001b[0m\n\u001b[1;32m----> 1\u001b[0m x_tup[\u001b[38;5;241m0\u001b[39m] \u001b[38;5;241m=\u001b[39m \u001b[38;5;241m400\u001b[39m\n",
      "\u001b[1;31mTypeError\u001b[0m: 'tuple' object does not support item assignment"
     ]
    }
   ],
   "source": [
    "x_tup[0] = 400 # immutable"
   ]
  },
  {
   "cell_type": "code",
   "execution_count": 68,
   "id": "4e12f1b2",
   "metadata": {},
   "outputs": [
    {
     "data": {
      "text/plain": [
       "(4, 6, 8, 9)"
      ]
     },
     "execution_count": 68,
     "metadata": {},
     "output_type": "execute_result"
    }
   ],
   "source": [
    "x_tup"
   ]
  },
  {
   "cell_type": "code",
   "execution_count": 69,
   "id": "1854c5f2",
   "metadata": {},
   "outputs": [],
   "source": [
    "x_tup = list(x_tup)"
   ]
  },
  {
   "cell_type": "code",
   "execution_count": 70,
   "id": "ad762974",
   "metadata": {},
   "outputs": [
    {
     "data": {
      "text/plain": [
       "list"
      ]
     },
     "execution_count": 70,
     "metadata": {},
     "output_type": "execute_result"
    }
   ],
   "source": [
    "type(x_tup)"
   ]
  },
  {
   "cell_type": "code",
   "execution_count": 71,
   "id": "f48f7c0b",
   "metadata": {},
   "outputs": [],
   "source": [
    "x_tup[0] = 400"
   ]
  },
  {
   "cell_type": "code",
   "execution_count": 73,
   "id": "8870b9eb",
   "metadata": {},
   "outputs": [],
   "source": [
    "x_tup = tuple(x_tup)"
   ]
  },
  {
   "cell_type": "code",
   "execution_count": 74,
   "id": "0117f23b",
   "metadata": {},
   "outputs": [
    {
     "data": {
      "text/plain": [
       "tuple"
      ]
     },
     "execution_count": 74,
     "metadata": {},
     "output_type": "execute_result"
    }
   ],
   "source": [
    "type(x_tup)"
   ]
  },
  {
   "cell_type": "code",
   "execution_count": null,
   "id": "3f4935d1",
   "metadata": {},
   "outputs": [],
   "source": []
  },
  {
   "cell_type": "code",
   "execution_count": 58,
   "id": "05e39742",
   "metadata": {},
   "outputs": [],
   "source": [
    "a = 2.22"
   ]
  },
  {
   "cell_type": "code",
   "execution_count": 59,
   "id": "5574e610",
   "metadata": {},
   "outputs": [
    {
     "data": {
      "text/plain": [
       "float"
      ]
     },
     "execution_count": 59,
     "metadata": {},
     "output_type": "execute_result"
    }
   ],
   "source": [
    "type(a)"
   ]
  },
  {
   "cell_type": "code",
   "execution_count": 60,
   "id": "ec171c49",
   "metadata": {},
   "outputs": [
    {
     "data": {
      "text/plain": [
       "2"
      ]
     },
     "execution_count": 60,
     "metadata": {},
     "output_type": "execute_result"
    }
   ],
   "source": [
    "int(a)"
   ]
  },
  {
   "cell_type": "code",
   "execution_count": 75,
   "id": "d9aef55e",
   "metadata": {},
   "outputs": [],
   "source": [
    "a = [[2,3],[4,5],[6,7]]"
   ]
  },
  {
   "cell_type": "code",
   "execution_count": 76,
   "id": "5191e3bd",
   "metadata": {},
   "outputs": [
    {
     "data": {
      "text/plain": [
       "[[2, 3], [4, 5], [6, 7]]"
      ]
     },
     "execution_count": 76,
     "metadata": {},
     "output_type": "execute_result"
    }
   ],
   "source": [
    "a"
   ]
  },
  {
   "cell_type": "code",
   "execution_count": 79,
   "id": "7b3d60d7",
   "metadata": {},
   "outputs": [
    {
     "data": {
      "text/plain": [
       "5"
      ]
     },
     "execution_count": 79,
     "metadata": {},
     "output_type": "execute_result"
    }
   ],
   "source": [
    "a[1][1]"
   ]
  },
  {
   "cell_type": "code",
   "execution_count": 80,
   "id": "9f68c3e3",
   "metadata": {},
   "outputs": [
    {
     "data": {
      "text/plain": [
       "(400, 6, 8, 9)"
      ]
     },
     "execution_count": 80,
     "metadata": {},
     "output_type": "execute_result"
    }
   ],
   "source": [
    "x_tup"
   ]
  },
  {
   "cell_type": "code",
   "execution_count": 81,
   "id": "2a45e61e",
   "metadata": {},
   "outputs": [
    {
     "data": {
      "text/plain": [
       "2"
      ]
     },
     "execution_count": 81,
     "metadata": {},
     "output_type": "execute_result"
    }
   ],
   "source": [
    "x_tup.index(8)"
   ]
  },
  {
   "cell_type": "code",
   "execution_count": 83,
   "id": "d6fa9887",
   "metadata": {},
   "outputs": [
    {
     "data": {
      "text/plain": [
       "1"
      ]
     },
     "execution_count": 83,
     "metadata": {},
     "output_type": "execute_result"
    }
   ],
   "source": [
    "x_tup.count(8)"
   ]
  },
  {
   "cell_type": "code",
   "execution_count": 84,
   "id": "9aff39de",
   "metadata": {},
   "outputs": [
    {
     "data": {
      "text/plain": [
       "(400, 6, 8, 9)"
      ]
     },
     "execution_count": 84,
     "metadata": {},
     "output_type": "execute_result"
    }
   ],
   "source": [
    "x_tup"
   ]
  },
  {
   "cell_type": "code",
   "execution_count": 85,
   "id": "fb6dace6",
   "metadata": {},
   "outputs": [],
   "source": [
    "a = (2)\n",
    "b = (3,)\n",
    "c = 4"
   ]
  },
  {
   "cell_type": "code",
   "execution_count": 86,
   "id": "e405f101",
   "metadata": {},
   "outputs": [
    {
     "data": {
      "text/plain": [
       "int"
      ]
     },
     "execution_count": 86,
     "metadata": {},
     "output_type": "execute_result"
    }
   ],
   "source": [
    "type(a)"
   ]
  },
  {
   "cell_type": "code",
   "execution_count": 87,
   "id": "f36bd419",
   "metadata": {},
   "outputs": [
    {
     "data": {
      "text/plain": [
       "tuple"
      ]
     },
     "execution_count": 87,
     "metadata": {},
     "output_type": "execute_result"
    }
   ],
   "source": [
    "type(b)"
   ]
  },
  {
   "cell_type": "code",
   "execution_count": 88,
   "id": "1d590490",
   "metadata": {},
   "outputs": [
    {
     "data": {
      "text/plain": [
       "int"
      ]
     },
     "execution_count": 88,
     "metadata": {},
     "output_type": "execute_result"
    }
   ],
   "source": [
    "type(c)"
   ]
  },
  {
   "cell_type": "code",
   "execution_count": 91,
   "id": "4361f252",
   "metadata": {},
   "outputs": [],
   "source": [
    "a = ('a',)"
   ]
  },
  {
   "cell_type": "code",
   "execution_count": 92,
   "id": "2e47ffa2",
   "metadata": {},
   "outputs": [
    {
     "data": {
      "text/plain": [
       "tuple"
      ]
     },
     "execution_count": 92,
     "metadata": {},
     "output_type": "execute_result"
    }
   ],
   "source": [
    "type(a)"
   ]
  },
  {
   "cell_type": "code",
   "execution_count": 96,
   "id": "55e9188f",
   "metadata": {},
   "outputs": [
    {
     "data": {
      "text/plain": [
       "('a', 10)"
      ]
     },
     "execution_count": 96,
     "metadata": {},
     "output_type": "execute_result"
    }
   ],
   "source": [
    "a + (10,)"
   ]
  },
  {
   "cell_type": "code",
   "execution_count": 97,
   "id": "7ad77b19",
   "metadata": {},
   "outputs": [],
   "source": [
    "a = (3,6,1,3)"
   ]
  },
  {
   "cell_type": "code",
   "execution_count": 98,
   "id": "14adf9b7",
   "metadata": {},
   "outputs": [
    {
     "data": {
      "text/plain": [
       "(3, 6, 1, 3)"
      ]
     },
     "execution_count": 98,
     "metadata": {},
     "output_type": "execute_result"
    }
   ],
   "source": [
    "a"
   ]
  },
  {
   "cell_type": "code",
   "execution_count": 100,
   "id": "64bf9b00",
   "metadata": {},
   "outputs": [
    {
     "data": {
      "text/plain": [
       "(3, 6, 1, 3, 100)"
      ]
     },
     "execution_count": 100,
     "metadata": {},
     "output_type": "execute_result"
    }
   ],
   "source": [
    "a + (100,)"
   ]
  },
  {
   "cell_type": "code",
   "execution_count": 101,
   "id": "f3ac6a5a",
   "metadata": {},
   "outputs": [
    {
     "data": {
      "text/plain": [
       "(1, 2, 3, 4, 5, 6)"
      ]
     },
     "execution_count": 101,
     "metadata": {},
     "output_type": "execute_result"
    }
   ],
   "source": [
    "(1,2,3) + (4,5,6)"
   ]
  },
  {
   "cell_type": "code",
   "execution_count": 102,
   "id": "2fc64f22",
   "metadata": {},
   "outputs": [
    {
     "data": {
      "text/plain": [
       "[1, 2, 3, 4, 5, 6]"
      ]
     },
     "execution_count": 102,
     "metadata": {},
     "output_type": "execute_result"
    }
   ],
   "source": [
    "[1,2,3] + [4,5,6]"
   ]
  },
  {
   "cell_type": "code",
   "execution_count": 103,
   "id": "416c8c6f",
   "metadata": {},
   "outputs": [],
   "source": [
    "a = [1,2,3]\n",
    "b = [4,5,6]"
   ]
  },
  {
   "cell_type": "code",
   "execution_count": 104,
   "id": "3a432d42",
   "metadata": {},
   "outputs": [
    {
     "data": {
      "text/plain": [
       "[1, 2, 3]"
      ]
     },
     "execution_count": 104,
     "metadata": {},
     "output_type": "execute_result"
    }
   ],
   "source": [
    "a"
   ]
  },
  {
   "cell_type": "code",
   "execution_count": 105,
   "id": "d77e7da9",
   "metadata": {},
   "outputs": [
    {
     "data": {
      "text/plain": [
       "[1, 2, 3, 4, 5, 6]"
      ]
     },
     "execution_count": 105,
     "metadata": {},
     "output_type": "execute_result"
    }
   ],
   "source": [
    "a+b"
   ]
  },
  {
   "cell_type": "code",
   "execution_count": 106,
   "id": "09060919",
   "metadata": {},
   "outputs": [],
   "source": [
    "a.extend(b)"
   ]
  },
  {
   "cell_type": "code",
   "execution_count": 107,
   "id": "395f0c2a",
   "metadata": {},
   "outputs": [
    {
     "data": {
      "text/plain": [
       "[1, 2, 3, 4, 5, 6]"
      ]
     },
     "execution_count": 107,
     "metadata": {},
     "output_type": "execute_result"
    }
   ],
   "source": [
    "a"
   ]
  },
  {
   "cell_type": "markdown",
   "id": "b98da256",
   "metadata": {},
   "source": [
    "# Dictionary"
   ]
  },
  {
   "cell_type": "code",
   "execution_count": 108,
   "id": "464acd2b",
   "metadata": {},
   "outputs": [],
   "source": [
    "d = {}"
   ]
  },
  {
   "cell_type": "code",
   "execution_count": 109,
   "id": "133b2e5d",
   "metadata": {},
   "outputs": [
    {
     "data": {
      "text/plain": [
       "dict"
      ]
     },
     "execution_count": 109,
     "metadata": {},
     "output_type": "execute_result"
    }
   ],
   "source": [
    "type(d)"
   ]
  },
  {
   "cell_type": "code",
   "execution_count": 110,
   "id": "b0fd4f58",
   "metadata": {},
   "outputs": [],
   "source": [
    "d = dict()"
   ]
  },
  {
   "cell_type": "code",
   "execution_count": 111,
   "id": "7664e456",
   "metadata": {},
   "outputs": [
    {
     "data": {
      "text/plain": [
       "{}"
      ]
     },
     "execution_count": 111,
     "metadata": {},
     "output_type": "execute_result"
    }
   ],
   "source": [
    "d"
   ]
  },
  {
   "cell_type": "code",
   "execution_count": 112,
   "id": "d1dfac7d",
   "metadata": {},
   "outputs": [
    {
     "data": {
      "text/plain": [
       "dict"
      ]
     },
     "execution_count": 112,
     "metadata": {},
     "output_type": "execute_result"
    }
   ],
   "source": [
    "type(d)"
   ]
  },
  {
   "cell_type": "code",
   "execution_count": 113,
   "id": "c8648637",
   "metadata": {},
   "outputs": [
    {
     "data": {
      "text/plain": [
       "{}"
      ]
     },
     "execution_count": 113,
     "metadata": {},
     "output_type": "execute_result"
    }
   ],
   "source": [
    "d"
   ]
  },
  {
   "cell_type": "code",
   "execution_count": 114,
   "id": "836d5a35",
   "metadata": {},
   "outputs": [],
   "source": [
    "d['Key1'] = 100"
   ]
  },
  {
   "cell_type": "code",
   "execution_count": 115,
   "id": "247e971c",
   "metadata": {},
   "outputs": [],
   "source": [
    "d['Key2'] = 200"
   ]
  },
  {
   "cell_type": "code",
   "execution_count": 116,
   "id": "c604bc10",
   "metadata": {},
   "outputs": [
    {
     "data": {
      "text/plain": [
       "{'Key1': 100, 'Key2': 200}"
      ]
     },
     "execution_count": 116,
     "metadata": {},
     "output_type": "execute_result"
    }
   ],
   "source": [
    "d"
   ]
  },
  {
   "cell_type": "code",
   "execution_count": 117,
   "id": "621e807f",
   "metadata": {},
   "outputs": [
    {
     "data": {
      "text/plain": [
       "100"
      ]
     },
     "execution_count": 117,
     "metadata": {},
     "output_type": "execute_result"
    }
   ],
   "source": [
    "d['Key1']"
   ]
  },
  {
   "cell_type": "code",
   "execution_count": 118,
   "id": "17ec8988",
   "metadata": {},
   "outputs": [
    {
     "data": {
      "text/plain": [
       "200"
      ]
     },
     "execution_count": 118,
     "metadata": {},
     "output_type": "execute_result"
    }
   ],
   "source": [
    "d['Key2']"
   ]
  },
  {
   "cell_type": "code",
   "execution_count": 119,
   "id": "78ac620c",
   "metadata": {},
   "outputs": [
    {
     "data": {
      "text/plain": [
       "dict_keys(['Key1', 'Key2'])"
      ]
     },
     "execution_count": 119,
     "metadata": {},
     "output_type": "execute_result"
    }
   ],
   "source": [
    "d.keys()"
   ]
  },
  {
   "cell_type": "code",
   "execution_count": 120,
   "id": "82075663",
   "metadata": {},
   "outputs": [
    {
     "data": {
      "text/plain": [
       "dict_values([100, 200])"
      ]
     },
     "execution_count": 120,
     "metadata": {},
     "output_type": "execute_result"
    }
   ],
   "source": [
    "d.values()"
   ]
  },
  {
   "cell_type": "code",
   "execution_count": 121,
   "id": "a8f74460",
   "metadata": {},
   "outputs": [
    {
     "data": {
      "text/plain": [
       "dict_items([('Key1', 100), ('Key2', 200)])"
      ]
     },
     "execution_count": 121,
     "metadata": {},
     "output_type": "execute_result"
    }
   ],
   "source": [
    "d.items()"
   ]
  },
  {
   "cell_type": "code",
   "execution_count": 122,
   "id": "b98602de",
   "metadata": {},
   "outputs": [],
   "source": [
    "d = {'A':20,'B':25,'C':522}"
   ]
  },
  {
   "cell_type": "code",
   "execution_count": 123,
   "id": "57a37cf6",
   "metadata": {},
   "outputs": [
    {
     "data": {
      "text/plain": [
       "{'A': 20, 'B': 25, 'C': 522}"
      ]
     },
     "execution_count": 123,
     "metadata": {},
     "output_type": "execute_result"
    }
   ],
   "source": [
    "d"
   ]
  },
  {
   "cell_type": "code",
   "execution_count": 124,
   "id": "bc08e395",
   "metadata": {},
   "outputs": [
    {
     "data": {
      "text/plain": [
       "3"
      ]
     },
     "execution_count": 124,
     "metadata": {},
     "output_type": "execute_result"
    }
   ],
   "source": [
    "len(d)"
   ]
  },
  {
   "cell_type": "code",
   "execution_count": 125,
   "id": "765d4b18",
   "metadata": {},
   "outputs": [
    {
     "data": {
      "text/plain": [
       "dict_keys(['A', 'B', 'C'])"
      ]
     },
     "execution_count": 125,
     "metadata": {},
     "output_type": "execute_result"
    }
   ],
   "source": [
    "d.keys()"
   ]
  },
  {
   "cell_type": "code",
   "execution_count": 126,
   "id": "356bb597",
   "metadata": {},
   "outputs": [
    {
     "data": {
      "text/plain": [
       "['A', 'B', 'C']"
      ]
     },
     "execution_count": 126,
     "metadata": {},
     "output_type": "execute_result"
    }
   ],
   "source": [
    "list(d)"
   ]
  },
  {
   "cell_type": "code",
   "execution_count": 127,
   "id": "208c389d",
   "metadata": {},
   "outputs": [
    {
     "data": {
      "text/plain": [
       "{'A': 20, 'B': 25, 'C': 522}"
      ]
     },
     "execution_count": 127,
     "metadata": {},
     "output_type": "execute_result"
    }
   ],
   "source": [
    "d"
   ]
  },
  {
   "cell_type": "code",
   "execution_count": 128,
   "id": "86297675",
   "metadata": {},
   "outputs": [],
   "source": [
    "d['A'] = 200"
   ]
  },
  {
   "cell_type": "code",
   "execution_count": 129,
   "id": "f8b7dba5",
   "metadata": {},
   "outputs": [
    {
     "data": {
      "text/plain": [
       "{'A': 200, 'B': 25, 'C': 522}"
      ]
     },
     "execution_count": 129,
     "metadata": {},
     "output_type": "execute_result"
    }
   ],
   "source": [
    "d"
   ]
  },
  {
   "cell_type": "code",
   "execution_count": 130,
   "id": "c8633403",
   "metadata": {},
   "outputs": [
    {
     "data": {
      "text/plain": [
       "{'A': 200, 'B': 25, 'C': 522}"
      ]
     },
     "execution_count": 130,
     "metadata": {},
     "output_type": "execute_result"
    }
   ],
   "source": [
    "d"
   ]
  },
  {
   "cell_type": "code",
   "execution_count": 131,
   "id": "5fafe525",
   "metadata": {},
   "outputs": [],
   "source": [
    "# edit key for the value 25, amke it T"
   ]
  },
  {
   "cell_type": "code",
   "execution_count": 141,
   "id": "0ba6dc79",
   "metadata": {},
   "outputs": [],
   "source": [
    "for k in d:\n",
    "    if d[k]==25:\n",
    "        x = k"
   ]
  },
  {
   "cell_type": "code",
   "execution_count": 142,
   "id": "40377471",
   "metadata": {},
   "outputs": [
    {
     "data": {
      "text/plain": [
       "'B'"
      ]
     },
     "execution_count": 142,
     "metadata": {},
     "output_type": "execute_result"
    }
   ],
   "source": [
    "x"
   ]
  },
  {
   "cell_type": "code",
   "execution_count": 143,
   "id": "2f2f4b10",
   "metadata": {},
   "outputs": [],
   "source": [
    "del d[x]"
   ]
  },
  {
   "cell_type": "code",
   "execution_count": 144,
   "id": "96dfe5fc",
   "metadata": {},
   "outputs": [
    {
     "data": {
      "text/plain": [
       "{'A': 200, 'C': 522}"
      ]
     },
     "execution_count": 144,
     "metadata": {},
     "output_type": "execute_result"
    }
   ],
   "source": [
    "d"
   ]
  },
  {
   "cell_type": "code",
   "execution_count": 145,
   "id": "98e71bd0",
   "metadata": {},
   "outputs": [],
   "source": [
    "d['T'] = 25"
   ]
  },
  {
   "cell_type": "code",
   "execution_count": 150,
   "id": "7ba0755b",
   "metadata": {},
   "outputs": [],
   "source": [
    "dd = {'A':20,'P':25,'C':522}"
   ]
  },
  {
   "cell_type": "code",
   "execution_count": 151,
   "id": "9738c0da",
   "metadata": {},
   "outputs": [
    {
     "data": {
      "text/plain": [
       "[('A', 20), ('C', 522), ('P', 25)]"
      ]
     },
     "execution_count": 151,
     "metadata": {},
     "output_type": "execute_result"
    }
   ],
   "source": [
    "sorted(dd.items())"
   ]
  },
  {
   "cell_type": "code",
   "execution_count": 153,
   "id": "d1ecc6a0",
   "metadata": {},
   "outputs": [
    {
     "data": {
      "text/plain": [
       "[('A', 20), ('C', 522), ('P', 25)]"
      ]
     },
     "execution_count": 153,
     "metadata": {},
     "output_type": "execute_result"
    }
   ],
   "source": [
    "sorted(dd.items(),key=lambda x:x[0])"
   ]
  },
  {
   "cell_type": "code",
   "execution_count": 154,
   "id": "8d9393bc",
   "metadata": {},
   "outputs": [
    {
     "data": {
      "text/plain": [
       "[('A', 20), ('P', 25), ('C', 522)]"
      ]
     },
     "execution_count": 154,
     "metadata": {},
     "output_type": "execute_result"
    }
   ],
   "source": [
    "sorted(dd.items(),key=lambda x:x[1])"
   ]
  },
  {
   "cell_type": "code",
   "execution_count": 155,
   "id": "97fbd7aa",
   "metadata": {},
   "outputs": [
    {
     "data": {
      "text/plain": [
       "['A', 'C', 'P']"
      ]
     },
     "execution_count": 155,
     "metadata": {},
     "output_type": "execute_result"
    }
   ],
   "source": [
    "sorted(dd)"
   ]
  },
  {
   "cell_type": "code",
   "execution_count": 156,
   "id": "9ca2938c",
   "metadata": {},
   "outputs": [
    {
     "data": {
      "text/plain": [
       "['A', 'P', 'C']"
      ]
     },
     "execution_count": 156,
     "metadata": {},
     "output_type": "execute_result"
    }
   ],
   "source": [
    "list(dd)"
   ]
  },
  {
   "cell_type": "markdown",
   "id": "4a092dc4",
   "metadata": {},
   "source": [
    "# SET"
   ]
  },
  {
   "cell_type": "code",
   "execution_count": 159,
   "id": "2debb308",
   "metadata": {},
   "outputs": [],
   "source": [
    "x_set = set()"
   ]
  },
  {
   "cell_type": "code",
   "execution_count": 160,
   "id": "ab65ca2b",
   "metadata": {},
   "outputs": [
    {
     "data": {
      "text/plain": [
       "set"
      ]
     },
     "execution_count": 160,
     "metadata": {},
     "output_type": "execute_result"
    }
   ],
   "source": [
    "type(x_set)"
   ]
  },
  {
   "cell_type": "code",
   "execution_count": 161,
   "id": "023ab832",
   "metadata": {},
   "outputs": [
    {
     "data": {
      "text/plain": [
       "set()"
      ]
     },
     "execution_count": 161,
     "metadata": {},
     "output_type": "execute_result"
    }
   ],
   "source": [
    "x_set"
   ]
  },
  {
   "cell_type": "code",
   "execution_count": 162,
   "id": "61f9b765",
   "metadata": {},
   "outputs": [],
   "source": [
    "x_set.add(22)"
   ]
  },
  {
   "cell_type": "code",
   "execution_count": 163,
   "id": "aba82f48",
   "metadata": {},
   "outputs": [
    {
     "data": {
      "text/plain": [
       "{22}"
      ]
     },
     "execution_count": 163,
     "metadata": {},
     "output_type": "execute_result"
    }
   ],
   "source": [
    "x_set"
   ]
  },
  {
   "cell_type": "code",
   "execution_count": 167,
   "id": "e657506c",
   "metadata": {},
   "outputs": [],
   "source": [
    "x_set.add(24)\n",
    "x_set.add(25)\n",
    "x_set.add(27)\n",
    "x_set.add(29)"
   ]
  },
  {
   "cell_type": "code",
   "execution_count": 168,
   "id": "3a14d46b",
   "metadata": {},
   "outputs": [
    {
     "data": {
      "text/plain": [
       "{22, 24, 25, 27, 29}"
      ]
     },
     "execution_count": 168,
     "metadata": {},
     "output_type": "execute_result"
    }
   ],
   "source": [
    "x_set"
   ]
  },
  {
   "cell_type": "code",
   "execution_count": 169,
   "id": "88e50bbc",
   "metadata": {},
   "outputs": [],
   "source": [
    "x_set.add(29)"
   ]
  },
  {
   "cell_type": "code",
   "execution_count": 170,
   "id": "3bd1fac5",
   "metadata": {},
   "outputs": [
    {
     "data": {
      "text/plain": [
       "{22, 24, 25, 27, 29}"
      ]
     },
     "execution_count": 170,
     "metadata": {},
     "output_type": "execute_result"
    }
   ],
   "source": [
    "x_set"
   ]
  },
  {
   "cell_type": "code",
   "execution_count": 171,
   "id": "e6af4e63",
   "metadata": {},
   "outputs": [],
   "source": [
    "s = [3,6,1,3,5,4,5,6,5,4,5]"
   ]
  },
  {
   "cell_type": "code",
   "execution_count": 172,
   "id": "2a9e52ce",
   "metadata": {},
   "outputs": [
    {
     "data": {
      "text/plain": [
       "{1, 3, 4, 5, 6}"
      ]
     },
     "execution_count": 172,
     "metadata": {},
     "output_type": "execute_result"
    }
   ],
   "source": [
    "set(s)"
   ]
  },
  {
   "cell_type": "code",
   "execution_count": 175,
   "id": "46c38914",
   "metadata": {},
   "outputs": [],
   "source": [
    "x = {3,6,1,6,8,3}"
   ]
  },
  {
   "cell_type": "code",
   "execution_count": 176,
   "id": "ee0ffb6d",
   "metadata": {},
   "outputs": [
    {
     "data": {
      "text/plain": [
       "set"
      ]
     },
     "execution_count": 176,
     "metadata": {},
     "output_type": "execute_result"
    }
   ],
   "source": [
    "type(x)"
   ]
  },
  {
   "cell_type": "code",
   "execution_count": 177,
   "id": "cfea2a66",
   "metadata": {},
   "outputs": [
    {
     "data": {
      "text/plain": [
       "{1, 3, 6, 8}"
      ]
     },
     "execution_count": 177,
     "metadata": {},
     "output_type": "execute_result"
    }
   ],
   "source": [
    "x"
   ]
  },
  {
   "cell_type": "code",
   "execution_count": 178,
   "id": "455f0ab0",
   "metadata": {},
   "outputs": [],
   "source": [
    "x = {3,6,1,6,8,3}\n",
    "y = {4,7,8,3}"
   ]
  },
  {
   "cell_type": "code",
   "execution_count": 179,
   "id": "335f9b29",
   "metadata": {},
   "outputs": [
    {
     "data": {
      "text/plain": [
       "{1, 3, 6, 8}"
      ]
     },
     "execution_count": 179,
     "metadata": {},
     "output_type": "execute_result"
    }
   ],
   "source": [
    "x"
   ]
  },
  {
   "cell_type": "code",
   "execution_count": 180,
   "id": "0045172c",
   "metadata": {},
   "outputs": [
    {
     "data": {
      "text/plain": [
       "{3, 4, 7, 8}"
      ]
     },
     "execution_count": 180,
     "metadata": {},
     "output_type": "execute_result"
    }
   ],
   "source": [
    "y"
   ]
  },
  {
   "cell_type": "code",
   "execution_count": 181,
   "id": "3e87fd37",
   "metadata": {},
   "outputs": [
    {
     "data": {
      "text/plain": [
       "{3, 8}"
      ]
     },
     "execution_count": 181,
     "metadata": {},
     "output_type": "execute_result"
    }
   ],
   "source": [
    "x.intersection(y)"
   ]
  },
  {
   "cell_type": "code",
   "execution_count": 182,
   "id": "ce697c92",
   "metadata": {},
   "outputs": [
    {
     "data": {
      "text/plain": [
       "{1, 3, 4, 6, 7, 8}"
      ]
     },
     "execution_count": 182,
     "metadata": {},
     "output_type": "execute_result"
    }
   ],
   "source": [
    "x.union(y)"
   ]
  },
  {
   "cell_type": "code",
   "execution_count": 183,
   "id": "c5e9d0cb",
   "metadata": {},
   "outputs": [
    {
     "data": {
      "text/plain": [
       "{1, 6}"
      ]
     },
     "execution_count": 183,
     "metadata": {},
     "output_type": "execute_result"
    }
   ],
   "source": [
    "x.difference(y)"
   ]
  },
  {
   "cell_type": "code",
   "execution_count": 184,
   "id": "192e850e",
   "metadata": {},
   "outputs": [
    {
     "data": {
      "text/plain": [
       "[3, 6, 1, 3, 5, 4, 5, 6, 5, 4, 5]"
      ]
     },
     "execution_count": 184,
     "metadata": {},
     "output_type": "execute_result"
    }
   ],
   "source": [
    "s"
   ]
  },
  {
   "cell_type": "code",
   "execution_count": 195,
   "id": "ae5f9cc4",
   "metadata": {},
   "outputs": [
    {
     "data": {
      "text/plain": [
       "set"
      ]
     },
     "execution_count": 195,
     "metadata": {},
     "output_type": "execute_result"
    }
   ],
   "source": [
    "x = {5,1,3,4,9}\n",
    "type(x)"
   ]
  },
  {
   "cell_type": "code",
   "execution_count": 196,
   "id": "28c4496b",
   "metadata": {},
   "outputs": [
    {
     "data": {
      "text/plain": [
       "[1, 3, 4, 5, 9]"
      ]
     },
     "execution_count": 196,
     "metadata": {},
     "output_type": "execute_result"
    }
   ],
   "source": [
    "sorted(x)"
   ]
  },
  {
   "cell_type": "code",
   "execution_count": 197,
   "id": "53009b84",
   "metadata": {},
   "outputs": [
    {
     "data": {
      "text/plain": [
       "{1, 3, 4, 5, 9}"
      ]
     },
     "execution_count": 197,
     "metadata": {},
     "output_type": "execute_result"
    }
   ],
   "source": [
    "set(sorted(x))"
   ]
  },
  {
   "cell_type": "code",
   "execution_count": null,
   "id": "d686fe64",
   "metadata": {},
   "outputs": [],
   "source": []
  },
  {
   "cell_type": "code",
   "execution_count": null,
   "id": "700201bb",
   "metadata": {},
   "outputs": [],
   "source": []
  },
  {
   "cell_type": "code",
   "execution_count": 190,
   "id": "0fb124a8",
   "metadata": {},
   "outputs": [
    {
     "data": {
      "text/plain": [
       "{'A': 200, 'C': 522, 'T': 25}"
      ]
     },
     "execution_count": 190,
     "metadata": {},
     "output_type": "execute_result"
    }
   ],
   "source": [
    "d"
   ]
  },
  {
   "cell_type": "code",
   "execution_count": 191,
   "id": "d93ab227",
   "metadata": {},
   "outputs": [
    {
     "data": {
      "text/plain": [
       "{1, 3, 4, 5, 9}"
      ]
     },
     "execution_count": 191,
     "metadata": {},
     "output_type": "execute_result"
    }
   ],
   "source": [
    "x"
   ]
  },
  {
   "cell_type": "code",
   "execution_count": 192,
   "id": "fa9edee5",
   "metadata": {},
   "outputs": [
    {
     "data": {
      "text/plain": [
       "dict"
      ]
     },
     "execution_count": 192,
     "metadata": {},
     "output_type": "execute_result"
    }
   ],
   "source": [
    "type(d)"
   ]
  },
  {
   "cell_type": "code",
   "execution_count": 193,
   "id": "475ea47e",
   "metadata": {},
   "outputs": [
    {
     "data": {
      "text/plain": [
       "set"
      ]
     },
     "execution_count": 193,
     "metadata": {},
     "output_type": "execute_result"
    }
   ],
   "source": [
    "type(x)"
   ]
  },
  {
   "cell_type": "code",
   "execution_count": 201,
   "id": "dfefdbba",
   "metadata": {},
   "outputs": [
    {
     "ename": "TypeError",
     "evalue": "set expected at most 1 argument, got 3",
     "output_type": "error",
     "traceback": [
      "\u001b[1;31m---------------------------------------------------------------------------\u001b[0m",
      "\u001b[1;31mTypeError\u001b[0m                                 Traceback (most recent call last)",
      "Input \u001b[1;32mIn [201]\u001b[0m, in \u001b[0;36m<cell line: 1>\u001b[1;34m()\u001b[0m\n\u001b[1;32m----> 1\u001b[0m \u001b[38;5;28;43mset\u001b[39;49m\u001b[43m(\u001b[49m\u001b[38;5;241;43m2\u001b[39;49m\u001b[43m,\u001b[49m\u001b[38;5;241;43m3\u001b[39;49m\u001b[43m,\u001b[49m\u001b[38;5;241;43m4\u001b[39;49m\u001b[43m)\u001b[49m\n",
      "\u001b[1;31mTypeError\u001b[0m: set expected at most 1 argument, got 3"
     ]
    }
   ],
   "source": [
    "set(2,3,4)"
   ]
  },
  {
   "cell_type": "code",
   "execution_count": 200,
   "id": "2e6cb9d6",
   "metadata": {},
   "outputs": [
    {
     "data": {
      "text/plain": [
       "{2, 3, 4}"
      ]
     },
     "execution_count": 200,
     "metadata": {},
     "output_type": "execute_result"
    }
   ],
   "source": [
    "set((2,3,4))"
   ]
  },
  {
   "cell_type": "markdown",
   "id": "e9933f73",
   "metadata": {},
   "source": [
    "# String"
   ]
  },
  {
   "cell_type": "code",
   "execution_count": 204,
   "id": "4d68d2c4",
   "metadata": {},
   "outputs": [
    {
     "data": {
      "text/plain": [
       "2"
      ]
     },
     "execution_count": 204,
     "metadata": {},
     "output_type": "execute_result"
    }
   ],
   "source": [
    "Hello = 2\n",
    "S1 = Hello\n",
    "S1"
   ]
  },
  {
   "cell_type": "code",
   "execution_count": null,
   "id": "64a1a219",
   "metadata": {},
   "outputs": [],
   "source": []
  },
  {
   "cell_type": "code",
   "execution_count": 205,
   "id": "6d06362f",
   "metadata": {},
   "outputs": [],
   "source": [
    "S2 = 'Hello'\n",
    "S3 = \"Hello\""
   ]
  },
  {
   "cell_type": "code",
   "execution_count": 206,
   "id": "f21409bd",
   "metadata": {},
   "outputs": [],
   "source": [
    "a = 2\n",
    "b = 2.33\n",
    "c = 2."
   ]
  },
  {
   "cell_type": "code",
   "execution_count": 207,
   "id": "1cf03cbb",
   "metadata": {},
   "outputs": [
    {
     "data": {
      "text/plain": [
       "float"
      ]
     },
     "execution_count": 207,
     "metadata": {},
     "output_type": "execute_result"
    }
   ],
   "source": [
    "type(c)"
   ]
  },
  {
   "cell_type": "code",
   "execution_count": 208,
   "id": "10024a69",
   "metadata": {},
   "outputs": [],
   "source": [
    "s = 'Hello world'"
   ]
  },
  {
   "cell_type": "code",
   "execution_count": 209,
   "id": "cab85b8c",
   "metadata": {},
   "outputs": [
    {
     "data": {
      "text/plain": [
       "'Hello world'"
      ]
     },
     "execution_count": 209,
     "metadata": {},
     "output_type": "execute_result"
    }
   ],
   "source": [
    "s"
   ]
  },
  {
   "cell_type": "code",
   "execution_count": 210,
   "id": "9061b882",
   "metadata": {},
   "outputs": [
    {
     "data": {
      "text/plain": [
       "'lo world'"
      ]
     },
     "execution_count": 210,
     "metadata": {},
     "output_type": "execute_result"
    }
   ],
   "source": [
    "s[3:]"
   ]
  },
  {
   "cell_type": "code",
   "execution_count": 211,
   "id": "eae80435",
   "metadata": {},
   "outputs": [
    {
     "data": {
      "text/plain": [
       "'Hello '"
      ]
     },
     "execution_count": 211,
     "metadata": {},
     "output_type": "execute_result"
    }
   ],
   "source": [
    "s[:6]"
   ]
  },
  {
   "cell_type": "code",
   "execution_count": 212,
   "id": "33b982ad",
   "metadata": {},
   "outputs": [
    {
     "data": {
      "text/plain": [
       "'Hello world'"
      ]
     },
     "execution_count": 212,
     "metadata": {},
     "output_type": "execute_result"
    }
   ],
   "source": [
    "s[:]"
   ]
  },
  {
   "cell_type": "code",
   "execution_count": 213,
   "id": "3e0d42cf",
   "metadata": {},
   "outputs": [],
   "source": [
    "# s[start:end]"
   ]
  },
  {
   "cell_type": "code",
   "execution_count": 214,
   "id": "217f2d16",
   "metadata": {},
   "outputs": [],
   "source": [
    "# s[start:end:step]"
   ]
  },
  {
   "cell_type": "code",
   "execution_count": 221,
   "id": "402d41c0",
   "metadata": {},
   "outputs": [
    {
     "data": {
      "text/plain": [
       "'Hello world'"
      ]
     },
     "execution_count": 221,
     "metadata": {},
     "output_type": "execute_result"
    }
   ],
   "source": [
    "s[::1]"
   ]
  },
  {
   "cell_type": "code",
   "execution_count": 216,
   "id": "a6587fe0",
   "metadata": {},
   "outputs": [
    {
     "data": {
      "text/plain": [
       "'Hlowrd'"
      ]
     },
     "execution_count": 216,
     "metadata": {},
     "output_type": "execute_result"
    }
   ],
   "source": [
    "s[::2]"
   ]
  },
  {
   "cell_type": "code",
   "execution_count": 217,
   "id": "9d6e9285",
   "metadata": {},
   "outputs": [
    {
     "data": {
      "text/plain": [
       "'dlrow olleH'"
      ]
     },
     "execution_count": 217,
     "metadata": {},
     "output_type": "execute_result"
    }
   ],
   "source": [
    "s[::-1]"
   ]
  },
  {
   "cell_type": "code",
   "execution_count": 218,
   "id": "c81ffcc9",
   "metadata": {},
   "outputs": [],
   "source": [
    "x = 'Madam'"
   ]
  },
  {
   "cell_type": "code",
   "execution_count": 219,
   "id": "10d2332b",
   "metadata": {},
   "outputs": [
    {
     "data": {
      "text/plain": [
       "'madaM'"
      ]
     },
     "execution_count": 219,
     "metadata": {},
     "output_type": "execute_result"
    }
   ],
   "source": [
    "x[::-1]"
   ]
  },
  {
   "cell_type": "code",
   "execution_count": 222,
   "id": "2cc287d0",
   "metadata": {},
   "outputs": [
    {
     "data": {
      "text/plain": [
       "'mdM'"
      ]
     },
     "execution_count": 222,
     "metadata": {},
     "output_type": "execute_result"
    }
   ],
   "source": [
    "x[::-2]"
   ]
  },
  {
   "cell_type": "code",
   "execution_count": 223,
   "id": "c4aba46b",
   "metadata": {},
   "outputs": [
    {
     "data": {
      "text/plain": [
       "'Madam'"
      ]
     },
     "execution_count": 223,
     "metadata": {},
     "output_type": "execute_result"
    }
   ],
   "source": [
    "x"
   ]
  },
  {
   "cell_type": "code",
   "execution_count": 226,
   "id": "e3140940",
   "metadata": {},
   "outputs": [
    {
     "data": {
      "text/plain": [
       "False"
      ]
     },
     "execution_count": 226,
     "metadata": {},
     "output_type": "execute_result"
    }
   ],
   "source": [
    "x.islower()"
   ]
  },
  {
   "cell_type": "code",
   "execution_count": 227,
   "id": "7a92fd59",
   "metadata": {},
   "outputs": [
    {
     "data": {
      "text/plain": [
       "'Madam'"
      ]
     },
     "execution_count": 227,
     "metadata": {},
     "output_type": "execute_result"
    }
   ],
   "source": [
    "x"
   ]
  },
  {
   "cell_type": "code",
   "execution_count": 228,
   "id": "ee6c291a",
   "metadata": {},
   "outputs": [
    {
     "data": {
      "text/plain": [
       "False"
      ]
     },
     "execution_count": 228,
     "metadata": {},
     "output_type": "execute_result"
    }
   ],
   "source": [
    "x.isupper()"
   ]
  },
  {
   "cell_type": "code",
   "execution_count": 229,
   "id": "5de42533",
   "metadata": {},
   "outputs": [
    {
     "data": {
      "text/plain": [
       "'MADAM'"
      ]
     },
     "execution_count": 229,
     "metadata": {},
     "output_type": "execute_result"
    }
   ],
   "source": [
    "x.upper()"
   ]
  },
  {
   "cell_type": "code",
   "execution_count": 230,
   "id": "d74723e0",
   "metadata": {},
   "outputs": [
    {
     "data": {
      "text/plain": [
       "'madam'"
      ]
     },
     "execution_count": 230,
     "metadata": {},
     "output_type": "execute_result"
    }
   ],
   "source": [
    "x.lower()"
   ]
  },
  {
   "cell_type": "code",
   "execution_count": 231,
   "id": "c9415805",
   "metadata": {},
   "outputs": [
    {
     "data": {
      "text/plain": [
       "'Madam'"
      ]
     },
     "execution_count": 231,
     "metadata": {},
     "output_type": "execute_result"
    }
   ],
   "source": [
    "x"
   ]
  },
  {
   "cell_type": "code",
   "execution_count": 236,
   "id": "fd3ffeb5",
   "metadata": {},
   "outputs": [],
   "source": [
    "x = \"hel lo*wor ld*in dia\""
   ]
  },
  {
   "cell_type": "code",
   "execution_count": 237,
   "id": "2cf81aa0",
   "metadata": {},
   "outputs": [
    {
     "data": {
      "text/plain": [
       "'hel lo*wor ld*in dia'"
      ]
     },
     "execution_count": 237,
     "metadata": {},
     "output_type": "execute_result"
    }
   ],
   "source": [
    "x"
   ]
  },
  {
   "cell_type": "code",
   "execution_count": 238,
   "id": "bc16d720",
   "metadata": {},
   "outputs": [
    {
     "data": {
      "text/plain": [
       "['hel', 'lo*wor', 'ld*in', 'dia']"
      ]
     },
     "execution_count": 238,
     "metadata": {},
     "output_type": "execute_result"
    }
   ],
   "source": [
    "x.split()"
   ]
  },
  {
   "cell_type": "code",
   "execution_count": 239,
   "id": "fdfc61a9",
   "metadata": {},
   "outputs": [
    {
     "data": {
      "text/plain": [
       "['hel lo', 'wor ld', 'in dia']"
      ]
     },
     "execution_count": 239,
     "metadata": {},
     "output_type": "execute_result"
    }
   ],
   "source": [
    "x.split('*')"
   ]
  },
  {
   "cell_type": "code",
   "execution_count": null,
   "id": "f0d6126f",
   "metadata": {},
   "outputs": [],
   "source": []
  }
 ],
 "metadata": {
  "kernelspec": {
   "display_name": "Python 3 (ipykernel)",
   "language": "python",
   "name": "python3"
  },
  "language_info": {
   "codemirror_mode": {
    "name": "ipython",
    "version": 3
   },
   "file_extension": ".py",
   "mimetype": "text/x-python",
   "name": "python",
   "nbconvert_exporter": "python",
   "pygments_lexer": "ipython3",
   "version": "3.9.12"
  }
 },
 "nbformat": 4,
 "nbformat_minor": 5
}
