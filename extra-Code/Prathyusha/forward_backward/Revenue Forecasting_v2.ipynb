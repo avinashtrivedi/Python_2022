{
 "cells": [
  {
   "cell_type": "code",
   "execution_count": 1,
   "id": "dd924be3",
   "metadata": {},
   "outputs": [],
   "source": [
    "import warnings\n",
    "warnings.filterwarnings('ignore')"
   ]
  },
  {
   "cell_type": "code",
   "execution_count": 2,
   "id": "84d08cf8",
   "metadata": {},
   "outputs": [],
   "source": [
    "# from model import train_xgb"
   ]
  },
  {
   "cell_type": "code",
   "execution_count": 3,
   "id": "9c249e61",
   "metadata": {},
   "outputs": [],
   "source": [
    "# c = [ 'Entries added in pipe', 'Amount added in pipe',\n",
    "#        'Opportunity Weighted Amount', 'Unique accounts added in pipe',\n",
    "#        'Projects won', 'Amount won', 'Unique accounts won', 'Manager_Util',\n",
    "#        'Senior Associate_Util', 'Senior Manager_Util', 'Associate_Util',\n",
    "#        'Director_Util', 'Director diff from Target', 'SM diff from Target',\n",
    "#        'Associate diff from Target', 'Manager diff from Target',\n",
    "#        'SA diff from Target', 'Fracn of team as As', 'Fracn of team as SAs',\n",
    "#        'Fracn of teams as SMs', 'Fracn of teams as Ms', 'Fracn of teams as Ds',\n",
    "#        'Frac Client Code Manager-Director', 'Frac PD Code Manager-Director',\n",
    "#        'Frac 4 Code Manager-Director', 'Frac PD Code M-',\n",
    "#        'Frac Client Code M-', 'Frac 4 Code M-', 'business_days',\n",
    "#        'log of team size']"
   ]
  },
  {
   "cell_type": "code",
   "execution_count": 4,
   "id": "2289d0f7",
   "metadata": {},
   "outputs": [],
   "source": [
    "# outputs_1 = train_xgb(1, ['6.0_2022.0'], c, 'datafull/features_and_models/')"
   ]
  },
  {
   "cell_type": "code",
   "execution_count": 5,
   "id": "25639cb9",
   "metadata": {},
   "outputs": [],
   "source": [
    "# outputs_2 = train_xgb(2, ['6.0_2022.0', '5.0_2022.0'], c, 'datafull/features_and_models_2/')\n"
   ]
  },
  {
   "cell_type": "code",
   "execution_count": 6,
   "id": "4538b536",
   "metadata": {},
   "outputs": [],
   "source": [
    "# from model import combine_outputs"
   ]
  },
  {
   "cell_type": "code",
   "execution_count": 7,
   "id": "c05c48bc",
   "metadata": {},
   "outputs": [],
   "source": [
    "# in_scope = [\"ESV - PLS\",\n",
    "# \"ESV - BCM\",\n",
    "# \"DDV - IT\",\n",
    "# \"FS - Banking and Capital Markets\",\n",
    "# \"DDV - Operations\",\n",
    "# \"Finance - Enterprise Performance Management\"]"
   ]
  },
  {
   "cell_type": "code",
   "execution_count": 8,
   "id": "85eadcea",
   "metadata": {},
   "outputs": [],
   "source": [
    "# to_save = combine_outputs(outputs_1, outputs_2, in_scope)"
   ]
  },
  {
   "cell_type": "code",
   "execution_count": 9,
   "id": "f3e4b69e",
   "metadata": {},
   "outputs": [],
   "source": [
    "# to_save"
   ]
  },
  {
   "cell_type": "code",
   "execution_count": 10,
   "id": "0cf75eba",
   "metadata": {},
   "outputs": [],
   "source": [
    "from model import load_df, preprocess_df, impute_missing\n",
    "all_data_df = load_df(model_t_plus=1)\n",
    "all_data_df = impute_missing(all_data_df)\n",
    "all_data_df, to_pred, gc_time = preprocess_df(all_data_df, months_to_predict=['6.0_2022.0'], model_t_plus=1) "
   ]
  },
  {
   "cell_type": "markdown",
   "id": "ab513267",
   "metadata": {},
   "source": [
    "## Feature Engineering"
   ]
  },
  {
   "cell_type": "code",
   "execution_count": 11,
   "id": "5231cb40",
   "metadata": {},
   "outputs": [],
   "source": [
    "# from sklearn.feature_selection import SequentialFeatureSelector\n",
    "# from joblib import dump, load\n",
    "# from xgboost import XGBRegressor\n",
    "# import os\n",
    "# from model import train_xgb_with_custom_features\n",
    "# from sklearn.preprocessing import OneHotEncoder\n",
    "# import pandas as pd"
   ]
  },
  {
   "cell_type": "markdown",
   "id": "637c673b",
   "metadata": {},
   "source": [
    "### 1) Excluding Growth Cell"
   ]
  },
  {
   "cell_type": "code",
   "execution_count": 12,
   "id": "3d2f1fc9",
   "metadata": {},
   "outputs": [],
   "source": [
    "# c = list(all_data_df.columns)\n",
    "# c.remove('Revenue Sum + 1')\n",
    "# c.remove('Growth Cell')"
   ]
  },
  {
   "cell_type": "code",
   "execution_count": 13,
   "id": "d866cbf3",
   "metadata": {},
   "outputs": [],
   "source": [
    "# train_xgb(1, ['6.0_2022.0'], c, 'datafull/no_growthcell/')"
   ]
  },
  {
   "cell_type": "markdown",
   "id": "9baaed3c",
   "metadata": {},
   "source": [
    "### 2) Using hash of Growth Cell"
   ]
  },
  {
   "cell_type": "code",
   "execution_count": 14,
   "id": "ae4eb6bd",
   "metadata": {},
   "outputs": [],
   "source": [
    "# all_data_df['Growth Cell Hash']=all_data_df['Growth Cell'].apply(lambda x: hash(x))"
   ]
  },
  {
   "cell_type": "code",
   "execution_count": 15,
   "id": "0809c7d0",
   "metadata": {},
   "outputs": [],
   "source": [
    "# c = list(all_data_df.columns)\n",
    "# c.remove('Revenue Sum + 1')\n",
    "# c.remove('Growth Cell')"
   ]
  },
  {
   "cell_type": "code",
   "execution_count": 16,
   "id": "4b20b5c5",
   "metadata": {},
   "outputs": [],
   "source": [
    "# train_xgb_with_custom_features(c, all_data_df, to_pred, 'datafull/hash_growthcell/')"
   ]
  },
  {
   "cell_type": "code",
   "execution_count": 17,
   "id": "7f985919",
   "metadata": {},
   "outputs": [],
   "source": [
    "# all_data_df.drop(['Growth Cell Hash'], axis=1, inplace=True)"
   ]
  },
  {
   "cell_type": "markdown",
   "id": "30379a0a",
   "metadata": {},
   "source": [
    "### 3) Using One-Hot Encoding of Growth Cell"
   ]
  },
  {
   "cell_type": "code",
   "execution_count": 18,
   "id": "7af45137",
   "metadata": {},
   "outputs": [],
   "source": [
    "# enc = OneHotEncoder(handle_unknown='ignore',sparse=False)\n",
    "# enc.fit(all_data_df[['Growth Cell']])"
   ]
  },
  {
   "cell_type": "code",
   "execution_count": 19,
   "id": "7f8592e3",
   "metadata": {},
   "outputs": [],
   "source": [
    "# onehot = pd.DataFrame(enc.transform(all_data_df[['Growth Cell']]), columns=enc.get_feature_names(),index=all_data_df.index)\n",
    "# data = pd.concat([all_data_df.drop(\"Growth Cell\", axis=1), onehot],axis=1)"
   ]
  },
  {
   "cell_type": "code",
   "execution_count": 20,
   "id": "991b8e67",
   "metadata": {},
   "outputs": [],
   "source": [
    "# c=list(data.columns)\n",
    "# c.remove('Revenue Sum + 1')"
   ]
  },
  {
   "cell_type": "code",
   "execution_count": 21,
   "id": "1b0b2470",
   "metadata": {},
   "outputs": [],
   "source": [
    "# train_xgb_with_custom_features(c, data, to_pred, 'datafull/onehot_growthcell/')"
   ]
  },
  {
   "cell_type": "markdown",
   "id": "c0843b84",
   "metadata": {},
   "source": [
    "## Clustering numerical features"
   ]
  },
  {
   "cell_type": "code",
   "execution_count": 22,
   "id": "da6dd5ef",
   "metadata": {},
   "outputs": [],
   "source": [
    "numerical_cols=all_data_df.select_dtypes(include=['int64','float64']).columns.to_list()"
   ]
  },
  {
   "cell_type": "code",
   "execution_count": 23,
   "id": "55140b1b",
   "metadata": {},
   "outputs": [],
   "source": [
    "clustering_features=numerical_cols.copy()\n",
    "clustering_features.remove('Revenue Sum + 1')\n",
    "clustering_features.remove('Revenue Sum')"
   ]
  },
  {
   "cell_type": "code",
   "execution_count": 24,
   "id": "a55f4730",
   "metadata": {},
   "outputs": [],
   "source": [
    "from sklearn.cluster import KMeans, DBSCAN, MeanShift, AffinityPropagation\n",
    "from sklearn.model_selection import GridSearchCV\n",
    "import matplotlib.pyplot as plt\n",
    "from sklearn.metrics import silhouette_score\n",
    "import numpy as np\n",
    "import pandas as pd\n",
    "import os"
   ]
  },
  {
   "cell_type": "markdown",
   "id": "81fea712",
   "metadata": {},
   "source": [
    "### 1) Using K-Means Clustering"
   ]
  },
  {
   "cell_type": "code",
   "execution_count": 25,
   "id": "aa4ba76e",
   "metadata": {},
   "outputs": [],
   "source": [
    "wcss = [] \n",
    "for number_of_clusters in range(2, 20): \n",
    "    kmeans = KMeans(n_clusters = number_of_clusters, random_state = 0, algorithm='elkan')\n",
    "    kmeans.fit(all_data_df[clustering_features])\n",
    "    wcss.append(kmeans.inertia_)"
   ]
  },
  {
   "cell_type": "code",
   "execution_count": 26,
   "id": "47939a4a",
   "metadata": {},
   "outputs": [
    {
     "data": {
      "text/plain": [
       "[<matplotlib.lines.Line2D at 0x1bcbecc7970>]"
      ]
     },
     "execution_count": 26,
     "metadata": {},
     "output_type": "execute_result"
    },
    {
     "data": {
      "image/png": "[encoded data removed]",
      "text/plain": [
       "<Figure size 432x288 with 1 Axes>"
      ]
     },
     "metadata": {
      "needs_background": "light"
     },
     "output_type": "display_data"
    }
   ],
   "source": [
    "ks = [2, 3, 4, 5, 6, 7, 8, 9, 10, 11, 12, 13, 14, 15, 16, 17, 18, 19]\n",
    "plt.plot(ks, wcss)"
   ]
  },
  {
   "cell_type": "code",
   "execution_count": 27,
   "id": "e634783d",
   "metadata": {},
   "outputs": [],
   "source": [
    "optimal_clusters=8"
   ]
  },
  {
   "cell_type": "code",
   "execution_count": 28,
   "id": "3a0df2fc",
   "metadata": {},
   "outputs": [
    {
     "data": {
      "text/html": [
       "<style>#sk-container-id-1 {color: black;background-color: white;}#sk-container-id-1 pre{padding: 0;}#sk-container-id-1 div.sk-toggleable {background-color: white;}#sk-container-id-1 label.sk-toggleable__label {cursor: pointer;display: block;width: 100%;margin-bottom: 0;padding: 0.3em;box-sizing: border-box;text-align: center;}#sk-container-id-1 label.sk-toggleable__label-arrow:before {content: \"▸\";float: left;margin-right: 0.25em;color: #696969;}#sk-container-id-1 label.sk-toggleable__label-arrow:hover:before {color: black;}#sk-container-id-1 div.sk-estimator:hover label.sk-toggleable__label-arrow:before {color: black;}#sk-container-id-1 div.sk-toggleable__content {max-height: 0;max-width: 0;overflow: hidden;text-align: left;background-color: #f0f8ff;}#sk-container-id-1 div.sk-toggleable__content pre {margin: 0.2em;color: black;border-radius: 0.25em;background-color: #f0f8ff;}#sk-container-id-1 input.sk-toggleable__control:checked~div.sk-toggleable__content {max-height: 200px;max-width: 100%;overflow: auto;}#sk-container-id-1 input.sk-toggleable__control:checked~label.sk-toggleable__label-arrow:before {content: \"▾\";}#sk-container-id-1 div.sk-estimator input.sk-toggleable__control:checked~label.sk-toggleable__label {background-color: #d4ebff;}#sk-container-id-1 div.sk-label input.sk-toggleable__control:checked~label.sk-toggleable__label {background-color: #d4ebff;}#sk-container-id-1 input.sk-hidden--visually {border: 0;clip: rect(1px 1px 1px 1px);clip: rect(1px, 1px, 1px, 1px);height: 1px;margin: -1px;overflow: hidden;padding: 0;position: absolute;width: 1px;}#sk-container-id-1 div.sk-estimator {font-family: monospace;background-color: #f0f8ff;border: 1px dotted black;border-radius: 0.25em;box-sizing: border-box;margin-bottom: 0.5em;}#sk-container-id-1 div.sk-estimator:hover {background-color: #d4ebff;}#sk-container-id-1 div.sk-parallel-item::after {content: \"\";width: 100%;border-bottom: 1px solid gray;flex-grow: 1;}#sk-container-id-1 div.sk-label:hover label.sk-toggleable__label {background-color: #d4ebff;}#sk-container-id-1 div.sk-serial::before {content: \"\";position: absolute;border-left: 1px solid gray;box-sizing: border-box;top: 0;bottom: 0;left: 50%;z-index: 0;}#sk-container-id-1 div.sk-serial {display: flex;flex-direction: column;align-items: center;background-color: white;padding-right: 0.2em;padding-left: 0.2em;position: relative;}#sk-container-id-1 div.sk-item {position: relative;z-index: 1;}#sk-container-id-1 div.sk-parallel {display: flex;align-items: stretch;justify-content: center;background-color: white;position: relative;}#sk-container-id-1 div.sk-item::before, #sk-container-id-1 div.sk-parallel-item::before {content: \"\";position: absolute;border-left: 1px solid gray;box-sizing: border-box;top: 0;bottom: 0;left: 50%;z-index: -1;}#sk-container-id-1 div.sk-parallel-item {display: flex;flex-direction: column;z-index: 1;position: relative;background-color: white;}#sk-container-id-1 div.sk-parallel-item:first-child::after {align-self: flex-end;width: 50%;}#sk-container-id-1 div.sk-parallel-item:last-child::after {align-self: flex-start;width: 50%;}#sk-container-id-1 div.sk-parallel-item:only-child::after {width: 0;}#sk-container-id-1 div.sk-dashed-wrapped {border: 1px dashed gray;margin: 0 0.4em 0.5em 0.4em;box-sizing: border-box;padding-bottom: 0.4em;background-color: white;}#sk-container-id-1 div.sk-label label {font-family: monospace;font-weight: bold;display: inline-block;line-height: 1.2em;}#sk-container-id-1 div.sk-label-container {text-align: center;}#sk-container-id-1 div.sk-container {/* jupyter's `normalize.less` sets `[hidden] { display: none; }` but bootstrap.min.css set `[hidden] { display: none !important; }` so we also need the `!important` here to be able to override the default hidden behavior on the sphinx rendered scikit-learn.org. See: https://github.com/scikit-learn/scikit-learn/issues/21755 */display: inline-block !important;position: relative;}#sk-container-id-1 div.sk-text-repr-fallback {display: none;}</style><div id=\"sk-container-id-1\" class=\"sk-top-container\"><div class=\"sk-text-repr-fallback\"><pre>KMeans(algorithm=&#x27;elkan&#x27;, random_state=0)</pre><b>In a Jupyter environment, please rerun this cell to show the HTML representation or trust the notebook. <br />On GitHub, the HTML representation is unable to render, please try loading this page with nbviewer.org.</b></div><div class=\"sk-container\" hidden><div class=\"sk-item\"><div class=\"sk-estimator sk-toggleable\"><input class=\"sk-toggleable__control sk-hidden--visually\" id=\"sk-estimator-id-1\" type=\"checkbox\" checked><label for=\"sk-estimator-id-1\" class=\"sk-toggleable__label sk-toggleable__label-arrow\">KMeans</label><div class=\"sk-toggleable__content\"><pre>KMeans(algorithm=&#x27;elkan&#x27;, random_state=0)</pre></div></div></div></div></div>"
      ],
      "text/plain": [
       "KMeans(algorithm='elkan', random_state=0)"
      ]
     },
     "execution_count": 28,
     "metadata": {},
     "output_type": "execute_result"
    }
   ],
   "source": [
    "kmeans = KMeans(n_clusters = optimal_clusters, random_state = 0, algorithm='elkan')\n",
    "kmeans.fit(all_data_df[clustering_features])"
   ]
  },
  {
   "cell_type": "code",
   "execution_count": 29,
   "id": "9f7902e8",
   "metadata": {},
   "outputs": [
    {
     "data": {
      "text/plain": [
       "array([5, 5, 5, 5, 5, 5, 5, 5, 5, 5, 5, 5, 0, 0, 0, 5, 5, 5, 5, 5, 5, 5,\n",
       "       0, 0, 0, 5, 5, 0, 5, 5, 1, 1, 3, 3, 0, 0, 0, 0, 0, 0, 1, 1, 1, 0,\n",
       "       0, 5, 5, 1, 5, 5, 1, 1, 0, 0, 0, 0, 0, 0, 0, 0, 1, 0, 0, 1, 0, 0,\n",
       "       0, 0, 0, 0, 1, 1, 1, 1, 1, 5, 0, 0, 0, 0, 1, 1, 3, 1, 1, 1, 0, 0,\n",
       "       1, 1, 1, 1, 1, 1, 0, 1, 0, 3, 3, 0, 1, 1, 1, 1, 1, 1, 1, 1, 1, 1,\n",
       "       6, 1, 3, 3, 3, 0, 0, 3, 3, 3, 7, 7, 7, 7, 7, 7, 7, 7, 7, 0, 7, 7,\n",
       "       3, 7, 3, 3, 3, 3, 3, 3, 1, 7, 3, 7, 7, 7, 3, 5, 5, 5, 5, 5, 5, 5,\n",
       "       5, 1, 1, 1, 3, 3, 3, 3, 3, 3, 3, 3, 3, 3, 3, 3, 3, 3, 3, 0, 3, 1,\n",
       "       3, 3, 0, 0, 3, 3, 3, 3, 3, 1, 1, 7, 7, 0, 0, 0, 0, 7, 0, 3, 1, 1,\n",
       "       3, 3, 3, 3, 3, 3, 3, 1, 0, 1, 1, 0, 0, 0, 0, 0, 0, 1, 0, 0, 0, 0,\n",
       "       1, 0, 0, 0, 0, 1, 1, 0, 0, 0, 0, 0, 0, 0, 0, 1, 1, 1, 1, 1, 1, 1,\n",
       "       1, 1, 5, 0, 1, 1, 0, 0, 0, 0, 0, 0, 0, 1, 0, 0, 0, 0, 0, 0, 0, 0,\n",
       "       0, 1, 1, 3, 3, 0, 0, 0, 0, 0, 0, 5, 0, 0, 0, 3, 3, 0, 3, 3, 3, 1,\n",
       "       1, 1, 1, 1, 1, 1, 3, 3, 0, 6, 6, 6, 1, 3, 3, 3, 3, 3, 0, 6, 6, 6,\n",
       "       6, 6, 6, 6, 6, 0, 3, 3, 3, 3, 3, 0, 3, 3, 0, 0, 0, 1, 1, 1, 0, 0,\n",
       "       0, 1, 1, 1, 0, 0, 1, 1, 1, 1, 1, 6, 6, 6, 6, 6, 6, 6, 6, 6, 3, 6,\n",
       "       6, 6, 3, 3, 3, 3, 3, 3, 3, 0, 0, 1, 0, 0, 0, 0, 0, 0, 0, 5, 5, 5,\n",
       "       5, 5, 5, 5, 5, 5, 5, 5, 6, 5, 5, 5, 5, 1, 1, 1, 1, 1, 1, 1, 0, 0,\n",
       "       1, 1, 0, 0, 0, 1, 0, 3, 0, 0, 0, 0, 0, 0, 0, 1, 3, 1, 3, 3, 5, 5,\n",
       "       0, 0, 0, 1, 1, 1, 1, 1, 1, 1, 5, 5, 5, 5, 5, 5, 5, 5, 5, 5, 5, 5,\n",
       "       5, 6, 6, 6, 5, 5, 5, 5, 5, 5, 4, 2, 2, 2, 2, 2, 2, 2, 2, 2, 2, 1,\n",
       "       1, 1, 1, 0, 0, 0, 0, 0, 0])"
      ]
     },
     "execution_count": 29,
     "metadata": {},
     "output_type": "execute_result"
    }
   ],
   "source": [
    "kmeans.labels_"
   ]
  },
  {
   "cell_type": "code",
   "execution_count": 30,
   "id": "f88bd3af",
   "metadata": {},
   "outputs": [
    {
     "data": {
      "text/plain": [
       "(array([0, 1, 2, 3, 4, 5, 6, 7]),\n",
       " array([144, 111,  10,  84,   1,  74,  28,  19], dtype=int64))"
      ]
     },
     "execution_count": 30,
     "metadata": {},
     "output_type": "execute_result"
    }
   ],
   "source": [
    "np.unique(kmeans.labels_,return_counts=True)"
   ]
  },
  {
   "cell_type": "code",
   "execution_count": 31,
   "id": "74d1ae19",
   "metadata": {},
   "outputs": [
    {
     "data": {
      "text/plain": [
       "0.1545156409966284"
      ]
     },
     "execution_count": 31,
     "metadata": {},
     "output_type": "execute_result"
    }
   ],
   "source": [
    "silhouette_score(all_data_df[clustering_features], kmeans.labels_)"
   ]
  },
  {
   "cell_type": "markdown",
   "id": "7357d184",
   "metadata": {},
   "source": [
    "### 2) Using DBSCAN Clustering"
   ]
  },
  {
   "cell_type": "code",
   "execution_count": 32,
   "id": "c46089a0",
   "metadata": {},
   "outputs": [
    {
     "name": "stdout",
     "output_type": "stream",
     "text": [
      "correlation 0.8424660873228172\n",
      "\n",
      "hamming 0.12300763180768802\n",
      "\n"
     ]
    }
   ],
   "source": [
    "for metric in ['euclidean', 'manhattan', 'chebyshev', 'canberra', 'braycurtis', 'correlation', 'hamming']:\n",
    "    model = DBSCAN(metric=metric,min_samples=5)\n",
    "    model.fit(all_data_df[clustering_features])\n",
    "    try:\n",
    "        print(metric,silhouette_score(all_data_df[clustering_features], model.labels_))\n",
    "    except:\n",
    "        continue\n",
    "    print()"
   ]
  },
  {
   "cell_type": "code",
   "execution_count": 33,
   "id": "343bb387",
   "metadata": {},
   "outputs": [
    {
     "data": {
      "text/html": [
       "<style>#sk-container-id-2 {color: black;background-color: white;}#sk-container-id-2 pre{padding: 0;}#sk-container-id-2 div.sk-toggleable {background-color: white;}#sk-container-id-2 label.sk-toggleable__label {cursor: pointer;display: block;width: 100%;margin-bottom: 0;padding: 0.3em;box-sizing: border-box;text-align: center;}#sk-container-id-2 label.sk-toggleable__label-arrow:before {content: \"▸\";float: left;margin-right: 0.25em;color: #696969;}#sk-container-id-2 label.sk-toggleable__label-arrow:hover:before {color: black;}#sk-container-id-2 div.sk-estimator:hover label.sk-toggleable__label-arrow:before {color: black;}#sk-container-id-2 div.sk-toggleable__content {max-height: 0;max-width: 0;overflow: hidden;text-align: left;background-color: #f0f8ff;}#sk-container-id-2 div.sk-toggleable__content pre {margin: 0.2em;color: black;border-radius: 0.25em;background-color: #f0f8ff;}#sk-container-id-2 input.sk-toggleable__control:checked~div.sk-toggleable__content {max-height: 200px;max-width: 100%;overflow: auto;}#sk-container-id-2 input.sk-toggleable__control:checked~label.sk-toggleable__label-arrow:before {content: \"▾\";}#sk-container-id-2 div.sk-estimator input.sk-toggleable__control:checked~label.sk-toggleable__label {background-color: #d4ebff;}#sk-container-id-2 div.sk-label input.sk-toggleable__control:checked~label.sk-toggleable__label {background-color: #d4ebff;}#sk-container-id-2 input.sk-hidden--visually {border: 0;clip: rect(1px 1px 1px 1px);clip: rect(1px, 1px, 1px, 1px);height: 1px;margin: -1px;overflow: hidden;padding: 0;position: absolute;width: 1px;}#sk-container-id-2 div.sk-estimator {font-family: monospace;background-color: #f0f8ff;border: 1px dotted black;border-radius: 0.25em;box-sizing: border-box;margin-bottom: 0.5em;}#sk-container-id-2 div.sk-estimator:hover {background-color: #d4ebff;}#sk-container-id-2 div.sk-parallel-item::after {content: \"\";width: 100%;border-bottom: 1px solid gray;flex-grow: 1;}#sk-container-id-2 div.sk-label:hover label.sk-toggleable__label {background-color: #d4ebff;}#sk-container-id-2 div.sk-serial::before {content: \"\";position: absolute;border-left: 1px solid gray;box-sizing: border-box;top: 0;bottom: 0;left: 50%;z-index: 0;}#sk-container-id-2 div.sk-serial {display: flex;flex-direction: column;align-items: center;background-color: white;padding-right: 0.2em;padding-left: 0.2em;position: relative;}#sk-container-id-2 div.sk-item {position: relative;z-index: 1;}#sk-container-id-2 div.sk-parallel {display: flex;align-items: stretch;justify-content: center;background-color: white;position: relative;}#sk-container-id-2 div.sk-item::before, #sk-container-id-2 div.sk-parallel-item::before {content: \"\";position: absolute;border-left: 1px solid gray;box-sizing: border-box;top: 0;bottom: 0;left: 50%;z-index: -1;}#sk-container-id-2 div.sk-parallel-item {display: flex;flex-direction: column;z-index: 1;position: relative;background-color: white;}#sk-container-id-2 div.sk-parallel-item:first-child::after {align-self: flex-end;width: 50%;}#sk-container-id-2 div.sk-parallel-item:last-child::after {align-self: flex-start;width: 50%;}#sk-container-id-2 div.sk-parallel-item:only-child::after {width: 0;}#sk-container-id-2 div.sk-dashed-wrapped {border: 1px dashed gray;margin: 0 0.4em 0.5em 0.4em;box-sizing: border-box;padding-bottom: 0.4em;background-color: white;}#sk-container-id-2 div.sk-label label {font-family: monospace;font-weight: bold;display: inline-block;line-height: 1.2em;}#sk-container-id-2 div.sk-label-container {text-align: center;}#sk-container-id-2 div.sk-container {/* jupyter's `normalize.less` sets `[hidden] { display: none; }` but bootstrap.min.css set `[hidden] { display: none !important; }` so we also need the `!important` here to be able to override the default hidden behavior on the sphinx rendered scikit-learn.org. See: https://github.com/scikit-learn/scikit-learn/issues/21755 */display: inline-block !important;position: relative;}#sk-container-id-2 div.sk-text-repr-fallback {display: none;}</style><div id=\"sk-container-id-2\" class=\"sk-top-container\"><div class=\"sk-text-repr-fallback\"><pre>DBSCAN(metric=&#x27;correlation&#x27;)</pre><b>In a Jupyter environment, please rerun this cell to show the HTML representation or trust the notebook. <br />On GitHub, the HTML representation is unable to render, please try loading this page with nbviewer.org.</b></div><div class=\"sk-container\" hidden><div class=\"sk-item\"><div class=\"sk-estimator sk-toggleable\"><input class=\"sk-toggleable__control sk-hidden--visually\" id=\"sk-estimator-id-2\" type=\"checkbox\" checked><label for=\"sk-estimator-id-2\" class=\"sk-toggleable__label sk-toggleable__label-arrow\">DBSCAN</label><div class=\"sk-toggleable__content\"><pre>DBSCAN(metric=&#x27;correlation&#x27;)</pre></div></div></div></div></div>"
      ],
      "text/plain": [
       "DBSCAN(metric='correlation')"
      ]
     },
     "execution_count": 33,
     "metadata": {},
     "output_type": "execute_result"
    }
   ],
   "source": [
    "dbscan=DBSCAN(metric='correlation',min_samples=5)\n",
    "dbscan.fit(all_data_df[clustering_features])"
   ]
  },
  {
   "cell_type": "code",
   "execution_count": 34,
   "id": "054b9656",
   "metadata": {},
   "outputs": [
    {
     "data": {
      "text/plain": [
       "array([ 0,  0,  0,  0,  0,  0,  0,  0,  0,  0,  0,  0,  0,  0,  0,  0,  0,\n",
       "        0,  0,  0,  0,  0,  0,  0,  0,  0,  0,  0,  0,  0,  0,  0,  0,  0,\n",
       "        0,  0,  0,  0,  0,  0,  0,  0,  0,  0,  0,  0,  0,  0,  0,  0,  0,\n",
       "        0,  0,  0,  0,  0,  0,  0,  0,  0,  0,  0,  0,  0,  0,  0,  0,  0,\n",
       "        0,  0,  0,  0,  0,  0,  0,  0,  0,  0,  0,  0,  0,  0,  0,  0,  0,\n",
       "        0,  0,  0,  0,  0,  0,  0,  0,  0,  0,  0,  0,  0,  0,  0,  0,  0,\n",
       "        0,  0,  0,  0,  0,  0,  0,  0,  0,  0,  0,  0,  0,  0,  0,  0,  0,\n",
       "        0,  0,  0,  0,  0,  0,  0,  0,  0,  0,  0,  0,  0,  0,  0,  0,  0,\n",
       "        0,  0,  0,  0,  0,  0,  0,  0,  0,  0,  0,  0,  0,  0,  0,  0,  0,\n",
       "        0,  0,  0,  0,  0,  0,  0,  0,  0,  0,  0,  0,  0,  0,  0,  0,  0,\n",
       "        0,  0,  0,  0,  0,  0,  0,  0,  0,  0,  0,  0,  0,  0,  0,  0,  0,\n",
       "        0,  0,  0,  0,  0,  0,  0,  0,  0,  0,  0,  0,  0,  0,  0,  0,  0,\n",
       "        0,  0,  0,  0,  0,  0,  0,  0,  0,  0,  0,  0,  0,  0,  0,  0,  0,\n",
       "        0,  0,  0,  0,  0,  0,  0,  0,  0,  0,  0,  0,  0,  0,  0,  0,  0,\n",
       "        0,  0,  0,  0,  0,  0,  0,  0,  0,  0,  0,  0,  0,  0,  0,  0,  0,\n",
       "        0,  0,  0,  0,  0,  0,  0,  0,  0,  0,  0,  0,  0,  0,  0,  0,  0,\n",
       "        0,  0,  0,  0,  0,  0,  0,  0,  0,  0,  0,  0,  0,  0,  0,  0,  0,\n",
       "        0,  0,  0,  0,  0,  0,  0,  0,  0,  0,  0,  0,  0,  0,  0,  0,  0,\n",
       "        0,  0,  0,  0,  0,  0,  0,  0,  0,  0,  0,  0,  0,  0,  0,  0,  0,\n",
       "        0,  0,  0,  0,  0,  0,  0,  0,  0,  0,  0,  0,  0,  0,  0,  0,  0,\n",
       "        0,  0,  0,  0,  0,  0,  0,  0,  0,  0,  0,  0,  0,  0,  0,  0,  0,\n",
       "        0,  0,  0,  0,  0,  0,  0,  0,  0,  0,  0,  0,  0,  0,  0,  0,  0,\n",
       "        0,  0,  0,  0,  0,  0,  0,  0,  0,  0,  0,  0,  0,  0,  0,  0,  0,\n",
       "        0,  0,  0,  0,  0,  0,  0,  0,  0,  0,  0,  0,  0,  0,  0,  0,  0,\n",
       "        0,  0,  0,  0,  0,  0,  0,  0,  0,  0,  0,  0,  0,  0,  0,  0,  0,\n",
       "        0,  0,  0,  0,  0,  0,  0,  0,  0,  0,  0,  0,  0,  0,  0,  0,  0,\n",
       "        0,  0,  0,  0,  0,  0,  0,  0, -1,  0,  0,  0,  0,  0,  0,  0,  0,\n",
       "        0,  0,  0,  0,  0,  0,  0,  0,  0,  0,  0,  0], dtype=int64)"
      ]
     },
     "execution_count": 34,
     "metadata": {},
     "output_type": "execute_result"
    }
   ],
   "source": [
    "dbscan.labels_"
   ]
  },
  {
   "cell_type": "code",
   "execution_count": 35,
   "id": "103363f2",
   "metadata": {},
   "outputs": [
    {
     "data": {
      "text/plain": [
       "(array([-1,  0], dtype=int64), array([  1, 470], dtype=int64))"
      ]
     },
     "execution_count": 35,
     "metadata": {},
     "output_type": "execute_result"
    }
   ],
   "source": [
    "np.unique(dbscan.labels_,return_counts=True)"
   ]
  },
  {
   "cell_type": "markdown",
   "id": "d7a10f67",
   "metadata": {},
   "source": [
    "### 3) Using mean-shift Clustering"
   ]
  },
  {
   "cell_type": "code",
   "execution_count": 36,
   "id": "1398385a",
   "metadata": {},
   "outputs": [
    {
     "data": {
      "text/html": [
       "<style>#sk-container-id-3 {color: black;background-color: white;}#sk-container-id-3 pre{padding: 0;}#sk-container-id-3 div.sk-toggleable {background-color: white;}#sk-container-id-3 label.sk-toggleable__label {cursor: pointer;display: block;width: 100%;margin-bottom: 0;padding: 0.3em;box-sizing: border-box;text-align: center;}#sk-container-id-3 label.sk-toggleable__label-arrow:before {content: \"▸\";float: left;margin-right: 0.25em;color: #696969;}#sk-container-id-3 label.sk-toggleable__label-arrow:hover:before {color: black;}#sk-container-id-3 div.sk-estimator:hover label.sk-toggleable__label-arrow:before {color: black;}#sk-container-id-3 div.sk-toggleable__content {max-height: 0;max-width: 0;overflow: hidden;text-align: left;background-color: #f0f8ff;}#sk-container-id-3 div.sk-toggleable__content pre {margin: 0.2em;color: black;border-radius: 0.25em;background-color: #f0f8ff;}#sk-container-id-3 input.sk-toggleable__control:checked~div.sk-toggleable__content {max-height: 200px;max-width: 100%;overflow: auto;}#sk-container-id-3 input.sk-toggleable__control:checked~label.sk-toggleable__label-arrow:before {content: \"▾\";}#sk-container-id-3 div.sk-estimator input.sk-toggleable__control:checked~label.sk-toggleable__label {background-color: #d4ebff;}#sk-container-id-3 div.sk-label input.sk-toggleable__control:checked~label.sk-toggleable__label {background-color: #d4ebff;}#sk-container-id-3 input.sk-hidden--visually {border: 0;clip: rect(1px 1px 1px 1px);clip: rect(1px, 1px, 1px, 1px);height: 1px;margin: -1px;overflow: hidden;padding: 0;position: absolute;width: 1px;}#sk-container-id-3 div.sk-estimator {font-family: monospace;background-color: #f0f8ff;border: 1px dotted black;border-radius: 0.25em;box-sizing: border-box;margin-bottom: 0.5em;}#sk-container-id-3 div.sk-estimator:hover {background-color: #d4ebff;}#sk-container-id-3 div.sk-parallel-item::after {content: \"\";width: 100%;border-bottom: 1px solid gray;flex-grow: 1;}#sk-container-id-3 div.sk-label:hover label.sk-toggleable__label {background-color: #d4ebff;}#sk-container-id-3 div.sk-serial::before {content: \"\";position: absolute;border-left: 1px solid gray;box-sizing: border-box;top: 0;bottom: 0;left: 50%;z-index: 0;}#sk-container-id-3 div.sk-serial {display: flex;flex-direction: column;align-items: center;background-color: white;padding-right: 0.2em;padding-left: 0.2em;position: relative;}#sk-container-id-3 div.sk-item {position: relative;z-index: 1;}#sk-container-id-3 div.sk-parallel {display: flex;align-items: stretch;justify-content: center;background-color: white;position: relative;}#sk-container-id-3 div.sk-item::before, #sk-container-id-3 div.sk-parallel-item::before {content: \"\";position: absolute;border-left: 1px solid gray;box-sizing: border-box;top: 0;bottom: 0;left: 50%;z-index: -1;}#sk-container-id-3 div.sk-parallel-item {display: flex;flex-direction: column;z-index: 1;position: relative;background-color: white;}#sk-container-id-3 div.sk-parallel-item:first-child::after {align-self: flex-end;width: 50%;}#sk-container-id-3 div.sk-parallel-item:last-child::after {align-self: flex-start;width: 50%;}#sk-container-id-3 div.sk-parallel-item:only-child::after {width: 0;}#sk-container-id-3 div.sk-dashed-wrapped {border: 1px dashed gray;margin: 0 0.4em 0.5em 0.4em;box-sizing: border-box;padding-bottom: 0.4em;background-color: white;}#sk-container-id-3 div.sk-label label {font-family: monospace;font-weight: bold;display: inline-block;line-height: 1.2em;}#sk-container-id-3 div.sk-label-container {text-align: center;}#sk-container-id-3 div.sk-container {/* jupyter's `normalize.less` sets `[hidden] { display: none; }` but bootstrap.min.css set `[hidden] { display: none !important; }` so we also need the `!important` here to be able to override the default hidden behavior on the sphinx rendered scikit-learn.org. See: https://github.com/scikit-learn/scikit-learn/issues/21755 */display: inline-block !important;position: relative;}#sk-container-id-3 div.sk-text-repr-fallback {display: none;}</style><div id=\"sk-container-id-3\" class=\"sk-top-container\"><div class=\"sk-text-repr-fallback\"><pre>MeanShift(n_jobs=-1)</pre><b>In a Jupyter environment, please rerun this cell to show the HTML representation or trust the notebook. <br />On GitHub, the HTML representation is unable to render, please try loading this page with nbviewer.org.</b></div><div class=\"sk-container\" hidden><div class=\"sk-item\"><div class=\"sk-estimator sk-toggleable\"><input class=\"sk-toggleable__control sk-hidden--visually\" id=\"sk-estimator-id-3\" type=\"checkbox\" checked><label for=\"sk-estimator-id-3\" class=\"sk-toggleable__label sk-toggleable__label-arrow\">MeanShift</label><div class=\"sk-toggleable__content\"><pre>MeanShift(n_jobs=-1)</pre></div></div></div></div></div>"
      ],
      "text/plain": [
       "MeanShift(n_jobs=-1)"
      ]
     },
     "execution_count": 36,
     "metadata": {},
     "output_type": "execute_result"
    }
   ],
   "source": [
    "mean_shift=MeanShift(n_jobs=-1)\n",
    "mean_shift.fit(all_data_df[clustering_features])"
   ]
  },
  {
   "cell_type": "code",
   "execution_count": 37,
   "id": "db0044d4",
   "metadata": {},
   "outputs": [
    {
     "data": {
      "text/plain": [
       "0.2825730251445666"
      ]
     },
     "execution_count": 37,
     "metadata": {},
     "output_type": "execute_result"
    }
   ],
   "source": [
    "silhouette_score(all_data_df[clustering_features], mean_shift.labels_)"
   ]
  },
  {
   "cell_type": "code",
   "execution_count": 38,
   "id": "a2dc800e",
   "metadata": {},
   "outputs": [
    {
     "data": {
      "text/plain": [
       "array([0, 0, 0, 0, 0, 0, 0, 0, 0, 0, 0, 0, 0, 0, 0, 0, 0, 0, 0, 0, 0, 0,\n",
       "       0, 0, 0, 0, 0, 0, 0, 0, 0, 0, 0, 0, 0, 0, 0, 0, 0, 0, 0, 0, 0, 0,\n",
       "       0, 0, 0, 0, 0, 0, 0, 0, 0, 0, 0, 0, 0, 0, 0, 0, 0, 0, 0, 0, 0, 0,\n",
       "       0, 0, 0, 0, 0, 0, 0, 0, 0, 0, 0, 0, 0, 0, 0, 0, 0, 0, 0, 0, 0, 0,\n",
       "       0, 0, 0, 0, 0, 0, 0, 0, 0, 0, 0, 0, 0, 0, 0, 0, 0, 0, 0, 0, 0, 0,\n",
       "       0, 0, 0, 0, 0, 0, 0, 0, 0, 0, 8, 2, 8, 2, 2, 2, 2, 2, 2, 0, 0, 0,\n",
       "       0, 3, 0, 0, 0, 0, 0, 0, 0, 0, 0, 0, 2, 2, 0, 0, 0, 0, 0, 0, 0, 0,\n",
       "       0, 0, 0, 0, 0, 0, 0, 0, 0, 0, 0, 0, 0, 0, 0, 0, 0, 0, 0, 0, 0, 0,\n",
       "       5, 5, 4, 4, 0, 0, 0, 0, 0, 0, 0, 0, 3, 4, 0, 0, 0, 3, 3, 0, 0, 0,\n",
       "       0, 0, 0, 0, 0, 0, 0, 0, 0, 0, 0, 0, 0, 0, 0, 0, 0, 0, 0, 0, 0, 0,\n",
       "       0, 0, 0, 0, 0, 0, 0, 0, 0, 0, 0, 0, 0, 0, 0, 0, 0, 0, 0, 0, 0, 0,\n",
       "       0, 0, 0, 0, 0, 0, 0, 0, 0, 0, 0, 0, 0, 0, 0, 0, 0, 0, 0, 0, 0, 0,\n",
       "       0, 0, 0, 0, 0, 0, 0, 0, 0, 0, 0, 0, 0, 0, 0, 0, 0, 0, 0, 0, 0, 0,\n",
       "       0, 0, 0, 0, 0, 0, 0, 0, 0, 0, 0, 0, 0, 0, 0, 0, 0, 0, 0, 0, 0, 0,\n",
       "       0, 0, 0, 0, 0, 0, 0, 0, 0, 0, 0, 0, 0, 0, 0, 9, 9, 0, 0, 0, 0, 0,\n",
       "       0, 0, 0, 0, 0, 0, 0, 0, 0, 0, 0, 0, 0, 0, 0, 0, 0, 0, 0, 0, 0, 0,\n",
       "       0, 0, 0, 0, 0, 0, 0, 0, 0, 0, 0, 0, 0, 0, 0, 0, 0, 0, 0, 0, 0, 0,\n",
       "       0, 0, 0, 0, 0, 0, 0, 0, 0, 0, 0, 0, 0, 0, 0, 0, 0, 0, 0, 0, 0, 0,\n",
       "       0, 0, 0, 0, 0, 0, 0, 0, 0, 0, 0, 0, 0, 0, 0, 0, 0, 0, 0, 0, 0, 0,\n",
       "       0, 0, 0, 0, 0, 0, 0, 0, 0, 0, 0, 0, 0, 0, 0, 0, 0, 0, 0, 0, 0, 0,\n",
       "       0, 0, 0, 0, 0, 0, 0, 0, 0, 0, 7, 1, 1, 1, 1, 1, 1, 1, 1, 1, 6, 0,\n",
       "       0, 0, 0, 0, 0, 0, 0, 0, 0], dtype=int64)"
      ]
     },
     "execution_count": 38,
     "metadata": {},
     "output_type": "execute_result"
    }
   ],
   "source": [
    "mean_shift.labels_"
   ]
  },
  {
   "cell_type": "code",
   "execution_count": 39,
   "id": "f171f7f2",
   "metadata": {},
   "outputs": [
    {
     "data": {
      "text/plain": [
       "(array([0, 1, 2, 3, 4, 5, 6, 7, 8, 9], dtype=int64),\n",
       " array([438,   9,   9,   4,   3,   2,   1,   1,   2,   2], dtype=int64))"
      ]
     },
     "execution_count": 39,
     "metadata": {},
     "output_type": "execute_result"
    }
   ],
   "source": [
    "np.unique(mean_shift.labels_,return_counts=True)"
   ]
  },
  {
   "cell_type": "markdown",
   "id": "6075e8fd",
   "metadata": {},
   "source": [
    "### 4) Using Affinity Propagation Clustering"
   ]
  },
  {
   "cell_type": "code",
   "execution_count": 40,
   "id": "2b9db8bd",
   "metadata": {},
   "outputs": [
    {
     "data": {
      "text/html": [
       "<style>#sk-container-id-4 {color: black;background-color: white;}#sk-container-id-4 pre{padding: 0;}#sk-container-id-4 div.sk-toggleable {background-color: white;}#sk-container-id-4 label.sk-toggleable__label {cursor: pointer;display: block;width: 100%;margin-bottom: 0;padding: 0.3em;box-sizing: border-box;text-align: center;}#sk-container-id-4 label.sk-toggleable__label-arrow:before {content: \"▸\";float: left;margin-right: 0.25em;color: #696969;}#sk-container-id-4 label.sk-toggleable__label-arrow:hover:before {color: black;}#sk-container-id-4 div.sk-estimator:hover label.sk-toggleable__label-arrow:before {color: black;}#sk-container-id-4 div.sk-toggleable__content {max-height: 0;max-width: 0;overflow: hidden;text-align: left;background-color: #f0f8ff;}#sk-container-id-4 div.sk-toggleable__content pre {margin: 0.2em;color: black;border-radius: 0.25em;background-color: #f0f8ff;}#sk-container-id-4 input.sk-toggleable__control:checked~div.sk-toggleable__content {max-height: 200px;max-width: 100%;overflow: auto;}#sk-container-id-4 input.sk-toggleable__control:checked~label.sk-toggleable__label-arrow:before {content: \"▾\";}#sk-container-id-4 div.sk-estimator input.sk-toggleable__control:checked~label.sk-toggleable__label {background-color: #d4ebff;}#sk-container-id-4 div.sk-label input.sk-toggleable__control:checked~label.sk-toggleable__label {background-color: #d4ebff;}#sk-container-id-4 input.sk-hidden--visually {border: 0;clip: rect(1px 1px 1px 1px);clip: rect(1px, 1px, 1px, 1px);height: 1px;margin: -1px;overflow: hidden;padding: 0;position: absolute;width: 1px;}#sk-container-id-4 div.sk-estimator {font-family: monospace;background-color: #f0f8ff;border: 1px dotted black;border-radius: 0.25em;box-sizing: border-box;margin-bottom: 0.5em;}#sk-container-id-4 div.sk-estimator:hover {background-color: #d4ebff;}#sk-container-id-4 div.sk-parallel-item::after {content: \"\";width: 100%;border-bottom: 1px solid gray;flex-grow: 1;}#sk-container-id-4 div.sk-label:hover label.sk-toggleable__label {background-color: #d4ebff;}#sk-container-id-4 div.sk-serial::before {content: \"\";position: absolute;border-left: 1px solid gray;box-sizing: border-box;top: 0;bottom: 0;left: 50%;z-index: 0;}#sk-container-id-4 div.sk-serial {display: flex;flex-direction: column;align-items: center;background-color: white;padding-right: 0.2em;padding-left: 0.2em;position: relative;}#sk-container-id-4 div.sk-item {position: relative;z-index: 1;}#sk-container-id-4 div.sk-parallel {display: flex;align-items: stretch;justify-content: center;background-color: white;position: relative;}#sk-container-id-4 div.sk-item::before, #sk-container-id-4 div.sk-parallel-item::before {content: \"\";position: absolute;border-left: 1px solid gray;box-sizing: border-box;top: 0;bottom: 0;left: 50%;z-index: -1;}#sk-container-id-4 div.sk-parallel-item {display: flex;flex-direction: column;z-index: 1;position: relative;background-color: white;}#sk-container-id-4 div.sk-parallel-item:first-child::after {align-self: flex-end;width: 50%;}#sk-container-id-4 div.sk-parallel-item:last-child::after {align-self: flex-start;width: 50%;}#sk-container-id-4 div.sk-parallel-item:only-child::after {width: 0;}#sk-container-id-4 div.sk-dashed-wrapped {border: 1px dashed gray;margin: 0 0.4em 0.5em 0.4em;box-sizing: border-box;padding-bottom: 0.4em;background-color: white;}#sk-container-id-4 div.sk-label label {font-family: monospace;font-weight: bold;display: inline-block;line-height: 1.2em;}#sk-container-id-4 div.sk-label-container {text-align: center;}#sk-container-id-4 div.sk-container {/* jupyter's `normalize.less` sets `[hidden] { display: none; }` but bootstrap.min.css set `[hidden] { display: none !important; }` so we also need the `!important` here to be able to override the default hidden behavior on the sphinx rendered scikit-learn.org. See: https://github.com/scikit-learn/scikit-learn/issues/21755 */display: inline-block !important;position: relative;}#sk-container-id-4 div.sk-text-repr-fallback {display: none;}</style><div id=\"sk-container-id-4\" class=\"sk-top-container\"><div class=\"sk-text-repr-fallback\"><pre>AffinityPropagation(random_state=0)</pre><b>In a Jupyter environment, please rerun this cell to show the HTML representation or trust the notebook. <br />On GitHub, the HTML representation is unable to render, please try loading this page with nbviewer.org.</b></div><div class=\"sk-container\" hidden><div class=\"sk-item\"><div class=\"sk-estimator sk-toggleable\"><input class=\"sk-toggleable__control sk-hidden--visually\" id=\"sk-estimator-id-4\" type=\"checkbox\" checked><label for=\"sk-estimator-id-4\" class=\"sk-toggleable__label sk-toggleable__label-arrow\">AffinityPropagation</label><div class=\"sk-toggleable__content\"><pre>AffinityPropagation(random_state=0)</pre></div></div></div></div></div>"
      ],
      "text/plain": [
       "AffinityPropagation(random_state=0)"
      ]
     },
     "execution_count": 40,
     "metadata": {},
     "output_type": "execute_result"
    }
   ],
   "source": [
    "affinity_propagation=AffinityPropagation(random_state=0,damping=0.5)\n",
    "affinity_propagation.fit(all_data_df[clustering_features])"
   ]
  },
  {
   "cell_type": "code",
   "execution_count": 41,
   "id": "9008f7ff",
   "metadata": {},
   "outputs": [
    {
     "data": {
      "text/plain": [
       "0.16745516153196427"
      ]
     },
     "execution_count": 41,
     "metadata": {},
     "output_type": "execute_result"
    }
   ],
   "source": [
    "silhouette_score(all_data_df[clustering_features], affinity_propagation.labels_)"
   ]
  },
  {
   "cell_type": "code",
   "execution_count": 42,
   "id": "1cb52090",
   "metadata": {},
   "outputs": [
    {
     "data": {
      "text/plain": [
       "array([ 0,  0,  0,  0,  0,  0,  0,  0,  0,  1,  2,  3, 25, 24, 24,  3,  3,\n",
       "        3,  3,  3,  0,  0,  4,  4,  4,  4,  5,  5,  5,  5,  7, 23, 31, 31,\n",
       "        4, 25, 27, 27, 24, 24,  7,  7,  4,  4,  4, 38,  5,  5,  5,  5,  7,\n",
       "        7,  4, 26, 26, 25, 31, 40,  4,  4,  4,  4, 24, 41, 24, 24, 24, 26,\n",
       "       27, 27,  6,  6,  6,  6,  7, 25, 25, 26, 26, 26, 23, 23, 31,  4, 39,\n",
       "       39,  4, 26,  4,  4,  4, 23, 23, 23,  4,  4,  4, 31, 31, 31,  7,  7,\n",
       "        7,  7,  7,  7,  7, 40, 40,  7, 36, 23, 31, 13, 13, 31, 25, 37, 37,\n",
       "       37,  8,  9, 10, 10,  9, 10, 11, 11,  9, 34, 12, 12, 14, 14, 17, 31,\n",
       "       17, 13, 13, 13, 41, 12, 12, 14, 14, 14, 31,  7, 39, 38, 15, 15, 15,\n",
       "       15, 15,  7, 40, 16, 17, 17, 22, 22, 22, 22, 22, 17, 17, 17, 17, 22,\n",
       "       22, 22, 13, 33, 13, 26, 18, 18, 19, 19, 17, 12, 17, 12, 13, 16, 16,\n",
       "       16, 21, 20, 20, 33, 20, 21, 21, 17, 23, 23, 31, 31, 22, 22, 22, 17,\n",
       "       22,  4, 23, 23, 23, 23, 25, 24, 24, 24, 24,  4, 23, 23, 23, 23, 23,\n",
       "       27, 27, 27, 27,  7,  4, 23, 23, 25, 25, 25, 25, 25, 25, 40, 40, 40,\n",
       "       34, 40,  7,  7, 16, 16,  7,  4, 23, 23,  4, 27, 27, 27, 27, 27,  5,\n",
       "        4,  4, 26, 23, 26, 26, 26, 26, 27, 27,  7, 23, 23, 31, 25, 25, 27,\n",
       "       27, 27, 27,  4, 25, 25, 26, 31, 25, 25, 31, 31, 31,  6, 40, 40,  7,\n",
       "       40, 40, 26, 31, 31, 25, 28, 28, 28, 43, 29, 29, 29, 29, 29, 29, 35,\n",
       "       35, 30, 30, 35, 30, 30, 30, 26, 31, 31, 31, 31, 31, 31, 31, 31, 24,\n",
       "       32, 32, 31, 41, 26, 33, 33, 33, 41, 41, 34, 34, 34, 34, 34, 34, 34,\n",
       "       34, 35, 35, 35, 35, 35, 35, 35, 35, 35, 29, 36, 36, 43, 37, 29, 29,\n",
       "       37, 37, 37, 37, 26, 26, 26, 26, 25, 25, 26, 31, 24, 24, 38, 38, 38,\n",
       "       38, 38, 38, 38, 38, 38, 38, 39, 39, 39, 39, 39, 39, 34, 41, 39, 34,\n",
       "       23, 23, 23, 26,  4,  4,  4, 27, 27,  5,  4, 23, 31, 26, 25, 26, 26,\n",
       "       31, 27,  5, 23, 31, 23, 31, 31, 38, 38, 24, 27, 27, 40, 26,  4, 41,\n",
       "       41, 41, 41,  3,  3,  3, 42, 42, 42, 42, 42, 42, 42, 42, 42, 42, 43,\n",
       "       43, 43, 39, 39, 39,  0,  0, 39, 44, 45, 45, 45, 45, 45, 45, 46, 46,\n",
       "       46, 47, 48, 48, 48, 48, 48, 48, 48, 48, 48,  5], dtype=int64)"
      ]
     },
     "execution_count": 42,
     "metadata": {},
     "output_type": "execute_result"
    }
   ],
   "source": [
    "affinity_propagation.labels_"
   ]
  },
  {
   "cell_type": "code",
   "execution_count": 43,
   "id": "ec4c886a",
   "metadata": {},
   "outputs": [
    {
     "data": {
      "text/plain": [
       "(array([ 0,  1,  2,  3,  4,  5,  6,  7,  8,  9, 10, 11, 12, 13, 14, 15, 16,\n",
       "        17, 18, 19, 20, 21, 22, 23, 24, 25, 26, 27, 28, 29, 30, 31, 32, 33,\n",
       "        34, 35, 36, 37, 38, 39, 40, 41, 42, 43, 44, 45, 46, 47, 48],\n",
       "       dtype=int64),\n",
       " array([13,  1,  1,  9, 34, 12,  5, 22,  1,  3,  3,  2,  6,  8,  5,  5,  6,\n",
       "        12,  2,  2,  3,  3, 12, 31, 16, 23, 27, 24,  3,  9,  5, 35,  2,  5,\n",
       "        12, 12,  3,  8, 14, 14, 13, 10, 10,  5,  1,  6,  3,  1,  9],\n",
       "       dtype=int64))"
      ]
     },
     "execution_count": 43,
     "metadata": {},
     "output_type": "execute_result"
    }
   ],
   "source": [
    "np.unique(affinity_propagation.labels_,return_counts=True)"
   ]
  },
  {
   "cell_type": "markdown",
   "id": "fd3f4b7a",
   "metadata": {},
   "source": [
    "### Only K-Means Clustering seems to be working well"
   ]
  },
  {
   "cell_type": "code",
   "execution_count": 44,
   "id": "6ba740ea",
   "metadata": {},
   "outputs": [],
   "source": [
    "cluster_ids=kmeans.predict(all_data_df[clustering_features])\n",
    "onehot_cluster_ids=pd.DataFrame(pd.get_dummies(cluster_ids,prefix='cluster_id').to_numpy(),index=all_data_df.index)"
   ]
  },
  {
   "cell_type": "code",
   "execution_count": 45,
   "id": "f2bdaace",
   "metadata": {},
   "outputs": [],
   "source": [
    "data = pd.concat([all_data_df.drop(\"Growth Cell\", axis=1), onehot_cluster_ids],axis=1)"
   ]
  },
  {
   "cell_type": "code",
   "execution_count": 46,
   "id": "03a2e040",
   "metadata": {},
   "outputs": [],
   "source": [
    "c=list(data.columns)\n",
    "c.remove('Revenue Sum + 1')"
   ]
  },
  {
   "cell_type": "code",
   "execution_count": 47,
   "id": "b1c5ecdd",
   "metadata": {},
   "outputs": [],
   "source": [
    "from model import train_xgb_with_custom_features"
   ]
  },
  {
   "cell_type": "code",
   "execution_count": null,
   "id": "dba3e57c",
   "metadata": {},
   "outputs": [
    {
     "data": {
      "application/vnd.jupyter.widget-view+json": {
       "model_id": "7817eeaa501e4fa586e378e5cf280900",
       "version_major": 2,
       "version_minor": 0
      },
      "text/plain": [
       "  0%|          | 0/40 [00:00<?, ?it/s]"
      ]
     },
     "metadata": {},
     "output_type": "display_data"
    }
   ],
   "source": [
    "if os.path.exists('datafull/onehot_growthcell_cluster/')==False:\n",
    "    os.mkdir('datafull/onehot_growthcell_cluster/')\n",
    "train_xgb_with_custom_features(c, data, to_pred, 'datafull/onehot_growthcell_cluster/')"
   ]
  },
  {
   "cell_type": "code",
   "execution_count": null,
   "id": "f0180dc8",
   "metadata": {},
   "outputs": [],
   "source": []
  },
  {
   "cell_type": "code",
   "execution_count": null,
   "id": "49a59598",
   "metadata": {},
   "outputs": [],
   "source": [
    "STOP HERE"
   ]
  },
  {
   "cell_type": "markdown",
   "id": "3c31752a",
   "metadata": {},
   "source": [
    "# CausalML"
   ]
  },
  {
   "cell_type": "code",
   "execution_count": null,
   "id": "bf64b8a0",
   "metadata": {},
   "outputs": [],
   "source": [
    "from causalml.inference.meta import XGBTRegressor\n",
    "from xgboost import XGBRegressor"
   ]
  },
  {
   "cell_type": "code",
   "execution_count": null,
   "id": "7fcb54ae",
   "metadata": {
    "scrolled": true
   },
   "outputs": [],
   "source": [
    "y_causal = all_data_df[\"Revenue Sum + 1\"]\n",
    "collected_data2 = []\n",
    "for i in range(len(keep_columns_xgb)):\n",
    "    treatment_ = all_data_df[keep_columns_xgb[i]]\n",
    "    X_causal = all_data_df[keep_columns_xgb].drop([keep_columns_xgb[i]], axis = 1)\n",
    "    treatment = np.array([1 if x>treatment_.median() else 0 for x in treatment_])\n",
    "    xg = XGBTRegressor(random_state=42,n_jobs=-1)\n",
    "    te, lb, ub = xg.estimate_ate(X_causal, treatment, y_causal)\n",
    "    print(keep_columns_xgb[i])\n",
    "    print(treatment_.median())\n",
    "    print('Average Treatment Effect (XGBoost): {:.2f} ({:.2f}, {:.2f})'.format(te[0], lb[0], ub[0]))\n",
    "    collected_data2 = collected_data2 + [[keep_columns_xgb[i], treatment_.median(), te[0]]]"
   ]
  },
  {
   "cell_type": "code",
   "execution_count": null,
   "id": "4620039c",
   "metadata": {},
   "outputs": [],
   "source": [
    "import pandas as pd"
   ]
  },
  {
   "cell_type": "code",
   "execution_count": null,
   "id": "d56a191e",
   "metadata": {},
   "outputs": [],
   "source": [
    "f = pd.DataFrame(collected_data2)"
   ]
  },
  {
   "cell_type": "code",
   "execution_count": null,
   "id": "b71ff899",
   "metadata": {},
   "outputs": [],
   "source": [
    "f.columns = ['Feature', 'Median', 'ATE']"
   ]
  },
  {
   "cell_type": "code",
   "execution_count": null,
   "id": "0fd23583",
   "metadata": {},
   "outputs": [],
   "source": [
    "f['Size of Effect'] = f['ATE'].apply(lambda x: (np.exp(np.abs(x)) - 1)*100)"
   ]
  },
  {
   "cell_type": "code",
   "execution_count": null,
   "id": "da23049c",
   "metadata": {
    "scrolled": true
   },
   "outputs": [],
   "source": [
    "f.sort_values('ATE', ascending = False)"
   ]
  },
  {
   "cell_type": "code",
   "execution_count": null,
   "id": "06a5c611",
   "metadata": {
    "scrolled": true
   },
   "outputs": [],
   "source": [
    "pd.DataFrame(all_data_df.columns.values)"
   ]
  },
  {
   "cell_type": "code",
   "execution_count": null,
   "id": "984c5884",
   "metadata": {},
   "outputs": [],
   "source": []
  }
 ],
 "metadata": {
  "kernelspec": {
   "display_name": "Python 3 (ipykernel)",
   "language": "python",
   "name": "python3"
  },
  "language_info": {
   "codemirror_mode": {
    "name": "ipython",
    "version": 3
   },
   "file_extension": ".py",
   "mimetype": "text/x-python",
   "name": "python",
   "nbconvert_exporter": "python",
   "pygments_lexer": "ipython3",
   "version": "3.9.12"
  },
  "vscode": {
   "interpreter": {
    "hash": "81794d4967e6c3204c66dcd87b604927b115b27c00565d3d43f05ba2f3a2cb0d"
   }
  }
 },
 "nbformat": 4,
 "nbformat_minor": 5
}
