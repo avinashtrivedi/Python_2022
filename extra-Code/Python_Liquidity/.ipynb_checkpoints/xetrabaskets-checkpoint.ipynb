{
 "cells": [
  {
   "cell_type": "code",
   "execution_count": 1,
   "id": "327c7bce",
   "metadata": {},
   "outputs": [],
   "source": [
    "import pandas as pd\n",
    "import matplotlib.pyplot as plt\n",
    "import warnings\n",
    "warnings.filterwarnings('ignore')"
   ]
  },
  {
   "cell_type": "code",
   "execution_count": 2,
   "id": "e2faaa92",
   "metadata": {},
   "outputs": [],
   "source": [
    "df = pd.read_excel('pc.xlsx',sheet_name='Xetra Baskets')"
   ]
  },
  {
   "cell_type": "code",
   "execution_count": 3,
   "id": "7ce28bb7",
   "metadata": {},
   "outputs": [
    {
     "data": {
      "text/plain": [
       "[nan,\n",
       " 'ALTC GY Equity',\n",
       " nan,\n",
       " 'WBLC GY Equity',\n",
       " nan,\n",
       " 'WMEG GY Equity',\n",
       " nan,\n",
       " '21XH GY Equity',\n",
       " nan]"
      ]
     },
     "execution_count": 3,
     "metadata": {},
     "output_type": "execute_result"
    }
   ],
   "source": [
    "list(df.iloc[0])"
   ]
  },
  {
   "cell_type": "code",
   "execution_count": 4,
   "id": "9cab76cb",
   "metadata": {},
   "outputs": [
    {
     "data": {
      "text/plain": [
       "['Dates',\n",
       " 'TURNOVER',\n",
       " 'AVERAGE_BID_ASK_SPREAD_%',\n",
       " 'TURNOVER',\n",
       " 'AVERAGE_BID_ASK_SPREAD_%',\n",
       " 'TURNOVER',\n",
       " 'AVERAGE_BID_ASK_SPREAD_%',\n",
       " 'TURNOVER',\n",
       " 'AVERAGE_BID_ASK_SPREAD_%']"
      ]
     },
     "execution_count": 4,
     "metadata": {},
     "output_type": "execute_result"
    }
   ],
   "source": [
    "list(df.iloc[1])"
   ]
  },
  {
   "cell_type": "code",
   "execution_count": 5,
   "id": "43fb58e8",
   "metadata": {},
   "outputs": [],
   "source": [
    "col = ['Dates',\n",
    " '21Shares ALTC TURNOVER',\n",
    " '21Shares ALTC AVERAGE_BID',\n",
    " 'WisdomTree WBLC TURNOVER',\n",
    " 'WisdomTree WBLC AVERAGE_BID',\n",
    " 'WisdomTree WMEG TURNOVER',\n",
    " 'WisdomTree WMEG AVERAGE_BID',\n",
    " '21Shares 21XH TURNOVER',\n",
    " '21Shares 21XH AVERAGE_BID']"
   ]
  },
  {
   "cell_type": "code",
   "execution_count": 6,
   "id": "994ed63d",
   "metadata": {},
   "outputs": [],
   "source": [
    "df.columns = col"
   ]
  },
  {
   "cell_type": "code",
   "execution_count": 7,
   "id": "24a52220",
   "metadata": {},
   "outputs": [],
   "source": [
    "df = df.iloc[2:262]"
   ]
  },
  {
   "cell_type": "code",
   "execution_count": 8,
   "id": "79cce7ad",
   "metadata": {},
   "outputs": [],
   "source": [
    "df.reset_index(drop=True,inplace=True)"
   ]
  },
  {
   "cell_type": "code",
   "execution_count": 9,
   "id": "883efb06",
   "metadata": {},
   "outputs": [
    {
     "data": {
      "text/html": [
       "<div>\n",
       "<style scoped>\n",
       "    .dataframe tbody tr th:only-of-type {\n",
       "        vertical-align: middle;\n",
       "    }\n",
       "\n",
       "    .dataframe tbody tr th {\n",
       "        vertical-align: top;\n",
       "    }\n",
       "\n",
       "    .dataframe thead th {\n",
       "        text-align: right;\n",
       "    }\n",
       "</style>\n",
       "<table border=\"1\" class=\"dataframe\">\n",
       "  <thead>\n",
       "    <tr style=\"text-align: right;\">\n",
       "      <th></th>\n",
       "      <th>Dates</th>\n",
       "      <th>21Shares ALTC TURNOVER</th>\n",
       "      <th>21Shares ALTC AVERAGE_BID</th>\n",
       "      <th>WisdomTree WBLC TURNOVER</th>\n",
       "      <th>WisdomTree WBLC AVERAGE_BID</th>\n",
       "      <th>WisdomTree WMEG TURNOVER</th>\n",
       "      <th>WisdomTree WMEG AVERAGE_BID</th>\n",
       "      <th>21Shares 21XH TURNOVER</th>\n",
       "      <th>21Shares 21XH AVERAGE_BID</th>\n",
       "    </tr>\n",
       "  </thead>\n",
       "  <tbody>\n",
       "    <tr>\n",
       "      <th>0</th>\n",
       "      <td>2021-05-03 00:00:00</td>\n",
       "      <td>NaN</td>\n",
       "      <td>NaN</td>\n",
       "      <td>NaN</td>\n",
       "      <td>NaN</td>\n",
       "      <td>NaN</td>\n",
       "      <td>NaN</td>\n",
       "      <td>NaN</td>\n",
       "      <td>NaN</td>\n",
       "    </tr>\n",
       "    <tr>\n",
       "      <th>1</th>\n",
       "      <td>2021-05-04 00:00:00</td>\n",
       "      <td>NaN</td>\n",
       "      <td>NaN</td>\n",
       "      <td>NaN</td>\n",
       "      <td>NaN</td>\n",
       "      <td>NaN</td>\n",
       "      <td>NaN</td>\n",
       "      <td>NaN</td>\n",
       "      <td>NaN</td>\n",
       "    </tr>\n",
       "    <tr>\n",
       "      <th>2</th>\n",
       "      <td>2021-05-05 00:00:00</td>\n",
       "      <td>NaN</td>\n",
       "      <td>NaN</td>\n",
       "      <td>NaN</td>\n",
       "      <td>NaN</td>\n",
       "      <td>NaN</td>\n",
       "      <td>NaN</td>\n",
       "      <td>NaN</td>\n",
       "      <td>NaN</td>\n",
       "    </tr>\n",
       "    <tr>\n",
       "      <th>3</th>\n",
       "      <td>2021-05-06 00:00:00</td>\n",
       "      <td>NaN</td>\n",
       "      <td>NaN</td>\n",
       "      <td>NaN</td>\n",
       "      <td>NaN</td>\n",
       "      <td>NaN</td>\n",
       "      <td>NaN</td>\n",
       "      <td>NaN</td>\n",
       "      <td>NaN</td>\n",
       "    </tr>\n",
       "    <tr>\n",
       "      <th>4</th>\n",
       "      <td>2021-05-07 00:00:00</td>\n",
       "      <td>NaN</td>\n",
       "      <td>NaN</td>\n",
       "      <td>NaN</td>\n",
       "      <td>NaN</td>\n",
       "      <td>NaN</td>\n",
       "      <td>NaN</td>\n",
       "      <td>NaN</td>\n",
       "      <td>NaN</td>\n",
       "    </tr>\n",
       "    <tr>\n",
       "      <th>...</th>\n",
       "      <td>...</td>\n",
       "      <td>...</td>\n",
       "      <td>...</td>\n",
       "      <td>...</td>\n",
       "      <td>...</td>\n",
       "      <td>...</td>\n",
       "      <td>...</td>\n",
       "      <td>...</td>\n",
       "      <td>...</td>\n",
       "    </tr>\n",
       "    <tr>\n",
       "      <th>255</th>\n",
       "      <td>2022-04-25 00:00:00</td>\n",
       "      <td>6689.68</td>\n",
       "      <td>1.1247</td>\n",
       "      <td>10066.84</td>\n",
       "      <td>1.4488</td>\n",
       "      <td>2937.88</td>\n",
       "      <td>0.5962</td>\n",
       "      <td>217429.7</td>\n",
       "      <td>0.3642</td>\n",
       "    </tr>\n",
       "    <tr>\n",
       "      <th>256</th>\n",
       "      <td>2022-04-26 00:00:00</td>\n",
       "      <td>92098.52</td>\n",
       "      <td>0.9307</td>\n",
       "      <td>8171.25</td>\n",
       "      <td>1.0665</td>\n",
       "      <td>1940.15</td>\n",
       "      <td>0.5099</td>\n",
       "      <td>39059.54</td>\n",
       "      <td>0.3704</td>\n",
       "    </tr>\n",
       "    <tr>\n",
       "      <th>257</th>\n",
       "      <td>2022-04-27 00:00:00</td>\n",
       "      <td>37051.61</td>\n",
       "      <td>0.8892</td>\n",
       "      <td>29989.04</td>\n",
       "      <td>1.4019</td>\n",
       "      <td>45966.59</td>\n",
       "      <td>0.5287</td>\n",
       "      <td>61927.2</td>\n",
       "      <td>0.3676</td>\n",
       "    </tr>\n",
       "    <tr>\n",
       "      <th>258</th>\n",
       "      <td>2022-04-28 00:00:00</td>\n",
       "      <td>7209.92</td>\n",
       "      <td>1.0232</td>\n",
       "      <td>51503.14</td>\n",
       "      <td>1.1997</td>\n",
       "      <td>32.2</td>\n",
       "      <td>0.5202</td>\n",
       "      <td>44101.71</td>\n",
       "      <td>0.3695</td>\n",
       "    </tr>\n",
       "    <tr>\n",
       "      <th>259</th>\n",
       "      <td>2022-04-29 00:00:00</td>\n",
       "      <td>1631.08</td>\n",
       "      <td>1.3091</td>\n",
       "      <td>6891.47</td>\n",
       "      <td>1.3359</td>\n",
       "      <td>51.94</td>\n",
       "      <td>0.5456</td>\n",
       "      <td>66912.17</td>\n",
       "      <td>0.3738</td>\n",
       "    </tr>\n",
       "  </tbody>\n",
       "</table>\n",
       "<p>260 rows × 9 columns</p>\n",
       "</div>"
      ],
      "text/plain": [
       "                   Dates 21Shares ALTC TURNOVER 21Shares ALTC AVERAGE_BID  \\\n",
       "0    2021-05-03 00:00:00                    NaN                       NaN   \n",
       "1    2021-05-04 00:00:00                    NaN                       NaN   \n",
       "2    2021-05-05 00:00:00                    NaN                       NaN   \n",
       "3    2021-05-06 00:00:00                    NaN                       NaN   \n",
       "4    2021-05-07 00:00:00                    NaN                       NaN   \n",
       "..                   ...                    ...                       ...   \n",
       "255  2022-04-25 00:00:00                6689.68                    1.1247   \n",
       "256  2022-04-26 00:00:00               92098.52                    0.9307   \n",
       "257  2022-04-27 00:00:00               37051.61                    0.8892   \n",
       "258  2022-04-28 00:00:00                7209.92                    1.0232   \n",
       "259  2022-04-29 00:00:00                1631.08                    1.3091   \n",
       "\n",
       "    WisdomTree WBLC TURNOVER WisdomTree WBLC AVERAGE_BID  \\\n",
       "0                        NaN                         NaN   \n",
       "1                        NaN                         NaN   \n",
       "2                        NaN                         NaN   \n",
       "3                        NaN                         NaN   \n",
       "4                        NaN                         NaN   \n",
       "..                       ...                         ...   \n",
       "255                 10066.84                      1.4488   \n",
       "256                  8171.25                      1.0665   \n",
       "257                 29989.04                      1.4019   \n",
       "258                 51503.14                      1.1997   \n",
       "259                  6891.47                      1.3359   \n",
       "\n",
       "    WisdomTree WMEG TURNOVER WisdomTree WMEG AVERAGE_BID  \\\n",
       "0                        NaN                         NaN   \n",
       "1                        NaN                         NaN   \n",
       "2                        NaN                         NaN   \n",
       "3                        NaN                         NaN   \n",
       "4                        NaN                         NaN   \n",
       "..                       ...                         ...   \n",
       "255                  2937.88                      0.5962   \n",
       "256                  1940.15                      0.5099   \n",
       "257                 45966.59                      0.5287   \n",
       "258                     32.2                      0.5202   \n",
       "259                    51.94                      0.5456   \n",
       "\n",
       "    21Shares 21XH TURNOVER 21Shares 21XH AVERAGE_BID  \n",
       "0                      NaN                       NaN  \n",
       "1                      NaN                       NaN  \n",
       "2                      NaN                       NaN  \n",
       "3                      NaN                       NaN  \n",
       "4                      NaN                       NaN  \n",
       "..                     ...                       ...  \n",
       "255               217429.7                    0.3642  \n",
       "256               39059.54                    0.3704  \n",
       "257                61927.2                    0.3676  \n",
       "258               44101.71                    0.3695  \n",
       "259               66912.17                    0.3738  \n",
       "\n",
       "[260 rows x 9 columns]"
      ]
     },
     "execution_count": 9,
     "metadata": {},
     "output_type": "execute_result"
    }
   ],
   "source": [
    "df"
   ]
  },
  {
   "cell_type": "code",
   "execution_count": 10,
   "id": "3c949204",
   "metadata": {},
   "outputs": [
    {
     "data": {
      "text/plain": [
       "Dates                            0\n",
       "21Shares ALTC TURNOVER         152\n",
       "21Shares ALTC AVERAGE_BID      150\n",
       "WisdomTree WBLC TURNOVER       151\n",
       "WisdomTree WBLC AVERAGE_BID    150\n",
       "WisdomTree WMEG TURNOVER       152\n",
       "WisdomTree WMEG AVERAGE_BID    150\n",
       "21Shares 21XH TURNOVER         103\n",
       "21Shares 21XH AVERAGE_BID      103\n",
       "dtype: int64"
      ]
     },
     "execution_count": 10,
     "metadata": {},
     "output_type": "execute_result"
    }
   ],
   "source": [
    "df.isna().sum()"
   ]
  },
  {
   "cell_type": "code",
   "execution_count": 11,
   "id": "46aba1a1",
   "metadata": {},
   "outputs": [],
   "source": [
    "df['Dates'] = pd.to_datetime(df['Dates'])"
   ]
  },
  {
   "cell_type": "code",
   "execution_count": 12,
   "id": "c8a4c96c",
   "metadata": {},
   "outputs": [
    {
     "data": {
      "text/plain": [
       "Dates                          datetime64[ns]\n",
       "21Shares ALTC TURNOVER                 object\n",
       "21Shares ALTC AVERAGE_BID              object\n",
       "WisdomTree WBLC TURNOVER               object\n",
       "WisdomTree WBLC AVERAGE_BID            object\n",
       "WisdomTree WMEG TURNOVER               object\n",
       "WisdomTree WMEG AVERAGE_BID            object\n",
       "21Shares 21XH TURNOVER                 object\n",
       "21Shares 21XH AVERAGE_BID              object\n",
       "dtype: object"
      ]
     },
     "execution_count": 12,
     "metadata": {},
     "output_type": "execute_result"
    }
   ],
   "source": [
    "df.dtypes"
   ]
  },
  {
   "cell_type": "code",
   "execution_count": 13,
   "id": "ad3c5df7",
   "metadata": {},
   "outputs": [],
   "source": [
    "for col in list(df)[1:]:\n",
    "    df[col] = df[col].astype('float')"
   ]
  },
  {
   "cell_type": "code",
   "execution_count": 14,
   "id": "9ea0421b",
   "metadata": {},
   "outputs": [
    {
     "data": {
      "text/plain": [
       "Dates                          datetime64[ns]\n",
       "21Shares ALTC TURNOVER                float64\n",
       "21Shares ALTC AVERAGE_BID             float64\n",
       "WisdomTree WBLC TURNOVER              float64\n",
       "WisdomTree WBLC AVERAGE_BID           float64\n",
       "WisdomTree WMEG TURNOVER              float64\n",
       "WisdomTree WMEG AVERAGE_BID           float64\n",
       "21Shares 21XH TURNOVER                float64\n",
       "21Shares 21XH AVERAGE_BID             float64\n",
       "dtype: object"
      ]
     },
     "execution_count": 14,
     "metadata": {},
     "output_type": "execute_result"
    }
   ],
   "source": [
    "df.dtypes"
   ]
  },
  {
   "cell_type": "code",
   "execution_count": 15,
   "id": "fd881a47",
   "metadata": {},
   "outputs": [],
   "source": [
    "df['Year'] = df['Dates'].dt.year \n",
    "df['Month'] = df['Dates'].dt.month "
   ]
  },
  {
   "cell_type": "code",
   "execution_count": 16,
   "id": "972d7c72",
   "metadata": {},
   "outputs": [],
   "source": [
    "dict_mnth = {\n",
    "    1:'JAN',\n",
    "    2:'FEB',\n",
    "    3: 'MARCH',\n",
    "    4: 'APRIL',\n",
    "    5: 'MAY',\n",
    "    6: 'JUNE',\n",
    "    7: 'JULY',\n",
    "    8: 'AUG',\n",
    "    9: 'SEP',\n",
    "    10: 'OCT',\n",
    "    11: 'NOV',\n",
    "    12: 'DEC'\n",
    "}"
   ]
  },
  {
   "cell_type": "markdown",
   "id": "250b8385",
   "metadata": {},
   "source": [
    "# Turnover"
   ]
  },
  {
   "cell_type": "code",
   "execution_count": 17,
   "id": "04f6ffd0",
   "metadata": {},
   "outputs": [],
   "source": [
    "turnover_col = [name for name in list(df) if 'TURNOVER' in name]\n",
    "df_new = df.groupby(['Year','Month'])[turnover_col].sum()\n",
    "df_new = df_new.reset_index()"
   ]
  },
  {
   "cell_type": "code",
   "execution_count": 18,
   "id": "95922d04",
   "metadata": {},
   "outputs": [
    {
     "data": {
      "text/html": [
       "<div>\n",
       "<style scoped>\n",
       "    .dataframe tbody tr th:only-of-type {\n",
       "        vertical-align: middle;\n",
       "    }\n",
       "\n",
       "    .dataframe tbody tr th {\n",
       "        vertical-align: top;\n",
       "    }\n",
       "\n",
       "    .dataframe thead th {\n",
       "        text-align: right;\n",
       "    }\n",
       "</style>\n",
       "<table border=\"1\" class=\"dataframe\">\n",
       "  <thead>\n",
       "    <tr style=\"text-align: right;\">\n",
       "      <th></th>\n",
       "      <th>Year</th>\n",
       "      <th>Month</th>\n",
       "      <th>21Shares ALTC TURNOVER</th>\n",
       "      <th>WisdomTree WBLC TURNOVER</th>\n",
       "      <th>WisdomTree WMEG TURNOVER</th>\n",
       "      <th>21Shares 21XH TURNOVER</th>\n",
       "    </tr>\n",
       "  </thead>\n",
       "  <tbody>\n",
       "    <tr>\n",
       "      <th>0</th>\n",
       "      <td>2021</td>\n",
       "      <td>5</td>\n",
       "      <td>0.00</td>\n",
       "      <td>0.00</td>\n",
       "      <td>0.00</td>\n",
       "      <td>0.00</td>\n",
       "    </tr>\n",
       "    <tr>\n",
       "      <th>1</th>\n",
       "      <td>2021</td>\n",
       "      <td>6</td>\n",
       "      <td>0.00</td>\n",
       "      <td>0.00</td>\n",
       "      <td>0.00</td>\n",
       "      <td>0.00</td>\n",
       "    </tr>\n",
       "    <tr>\n",
       "      <th>2</th>\n",
       "      <td>2021</td>\n",
       "      <td>7</td>\n",
       "      <td>0.00</td>\n",
       "      <td>0.00</td>\n",
       "      <td>0.00</td>\n",
       "      <td>0.00</td>\n",
       "    </tr>\n",
       "    <tr>\n",
       "      <th>3</th>\n",
       "      <td>2021</td>\n",
       "      <td>8</td>\n",
       "      <td>0.00</td>\n",
       "      <td>0.00</td>\n",
       "      <td>0.00</td>\n",
       "      <td>0.00</td>\n",
       "    </tr>\n",
       "    <tr>\n",
       "      <th>4</th>\n",
       "      <td>2021</td>\n",
       "      <td>9</td>\n",
       "      <td>0.00</td>\n",
       "      <td>0.00</td>\n",
       "      <td>0.00</td>\n",
       "      <td>748198.12</td>\n",
       "    </tr>\n",
       "    <tr>\n",
       "      <th>5</th>\n",
       "      <td>2021</td>\n",
       "      <td>10</td>\n",
       "      <td>0.00</td>\n",
       "      <td>0.00</td>\n",
       "      <td>0.00</td>\n",
       "      <td>9061174.74</td>\n",
       "    </tr>\n",
       "    <tr>\n",
       "      <th>6</th>\n",
       "      <td>2021</td>\n",
       "      <td>11</td>\n",
       "      <td>0.00</td>\n",
       "      <td>19376.54</td>\n",
       "      <td>0.00</td>\n",
       "      <td>17326887.90</td>\n",
       "    </tr>\n",
       "    <tr>\n",
       "      <th>7</th>\n",
       "      <td>2021</td>\n",
       "      <td>12</td>\n",
       "      <td>729169.84</td>\n",
       "      <td>504450.59</td>\n",
       "      <td>1229164.42</td>\n",
       "      <td>10883809.40</td>\n",
       "    </tr>\n",
       "    <tr>\n",
       "      <th>8</th>\n",
       "      <td>2022</td>\n",
       "      <td>1</td>\n",
       "      <td>1159703.14</td>\n",
       "      <td>714423.80</td>\n",
       "      <td>782233.41</td>\n",
       "      <td>13459998.90</td>\n",
       "    </tr>\n",
       "    <tr>\n",
       "      <th>9</th>\n",
       "      <td>2022</td>\n",
       "      <td>2</td>\n",
       "      <td>484292.48</td>\n",
       "      <td>573326.72</td>\n",
       "      <td>341157.60</td>\n",
       "      <td>6605454.30</td>\n",
       "    </tr>\n",
       "    <tr>\n",
       "      <th>10</th>\n",
       "      <td>2022</td>\n",
       "      <td>3</td>\n",
       "      <td>832540.31</td>\n",
       "      <td>885849.09</td>\n",
       "      <td>228646.94</td>\n",
       "      <td>5632593.00</td>\n",
       "    </tr>\n",
       "    <tr>\n",
       "      <th>11</th>\n",
       "      <td>2022</td>\n",
       "      <td>4</td>\n",
       "      <td>417699.82</td>\n",
       "      <td>326585.59</td>\n",
       "      <td>304897.06</td>\n",
       "      <td>4282360.65</td>\n",
       "    </tr>\n",
       "  </tbody>\n",
       "</table>\n",
       "</div>"
      ],
      "text/plain": [
       "    Year  Month  21Shares ALTC TURNOVER  WisdomTree WBLC TURNOVER  \\\n",
       "0   2021      5                    0.00                      0.00   \n",
       "1   2021      6                    0.00                      0.00   \n",
       "2   2021      7                    0.00                      0.00   \n",
       "3   2021      8                    0.00                      0.00   \n",
       "4   2021      9                    0.00                      0.00   \n",
       "5   2021     10                    0.00                      0.00   \n",
       "6   2021     11                    0.00                  19376.54   \n",
       "7   2021     12               729169.84                 504450.59   \n",
       "8   2022      1              1159703.14                 714423.80   \n",
       "9   2022      2               484292.48                 573326.72   \n",
       "10  2022      3               832540.31                 885849.09   \n",
       "11  2022      4               417699.82                 326585.59   \n",
       "\n",
       "    WisdomTree WMEG TURNOVER  21Shares 21XH TURNOVER  \n",
       "0                       0.00                    0.00  \n",
       "1                       0.00                    0.00  \n",
       "2                       0.00                    0.00  \n",
       "3                       0.00                    0.00  \n",
       "4                       0.00               748198.12  \n",
       "5                       0.00              9061174.74  \n",
       "6                       0.00             17326887.90  \n",
       "7                 1229164.42             10883809.40  \n",
       "8                  782233.41             13459998.90  \n",
       "9                  341157.60              6605454.30  \n",
       "10                 228646.94              5632593.00  \n",
       "11                 304897.06              4282360.65  "
      ]
     },
     "execution_count": 18,
     "metadata": {},
     "output_type": "execute_result"
    }
   ],
   "source": [
    "df_new"
   ]
  },
  {
   "cell_type": "code",
   "execution_count": 19,
   "id": "9af5f996",
   "metadata": {},
   "outputs": [],
   "source": [
    "yr_month = []\n",
    "for _,row in df_new.iterrows():\n",
    "    \n",
    "    yr_month.append(str(row['Year']).split('.')[0]+'_'+dict_mnth[row['Month']])\n",
    "    \n",
    "df_new['yr_month'] = yr_month"
   ]
  },
  {
   "cell_type": "code",
   "execution_count": 20,
   "id": "26cca9d7",
   "metadata": {},
   "outputs": [
    {
     "data": {
      "image/png": "[encoded data removed]",
      "text/plain": [
       "<Figure size 720x360 with 1 Axes>"
      ]
     },
     "metadata": {
      "needs_background": "light"
     },
     "output_type": "display_data"
    }
   ],
   "source": [
    "fig, ax = plt.subplots(figsize=(10,5))\n",
    "# turnover_col = [name for name in list(df_new) if 'TURNOVER' in name]\n",
    "new_name = df_new['yr_month'].iloc[[0,2,4,6,8,10,11]]\n",
    "for col in turnover_col:\n",
    "    ax.plot(list(range(len(df_new))),list(df_new[col]),label=col)\n",
    "ax.set_xticklabels(new_name)\n",
    "plt.legend(bbox_to_anchor=(1.0,1.0))\n",
    "plt.title(\"Xetra Baskets Turnover\")\n",
    "plt.xlabel(\"Date\")\n",
    "plt.ylabel(\"Sum of Turnover (€)\")\n",
    "plt.savefig(\"xetrabaskets_turnover.png\", bbox_inches = \"tight\")\n",
    "plt.show()"
   ]
  },
  {
   "cell_type": "markdown",
   "id": "5f8e9b1d",
   "metadata": {},
   "source": [
    "# Average bid"
   ]
  },
  {
   "cell_type": "code",
   "execution_count": 21,
   "id": "4c546718",
   "metadata": {},
   "outputs": [],
   "source": [
    "bid_col = [name for name in list(df) if 'AVERAGE_BID' in name]"
   ]
  },
  {
   "cell_type": "code",
   "execution_count": 22,
   "id": "1c5cab6d",
   "metadata": {},
   "outputs": [],
   "source": [
    "df_bid = df.groupby(['Year','Month'])[bid_col].mean()*100\n",
    "df_bid = df_bid.reset_index()"
   ]
  },
  {
   "cell_type": "code",
   "execution_count": 23,
   "id": "9b050088",
   "metadata": {},
   "outputs": [
    {
     "data": {
      "text/html": [
       "<div>\n",
       "<style scoped>\n",
       "    .dataframe tbody tr th:only-of-type {\n",
       "        vertical-align: middle;\n",
       "    }\n",
       "\n",
       "    .dataframe tbody tr th {\n",
       "        vertical-align: top;\n",
       "    }\n",
       "\n",
       "    .dataframe thead th {\n",
       "        text-align: right;\n",
       "    }\n",
       "</style>\n",
       "<table border=\"1\" class=\"dataframe\">\n",
       "  <thead>\n",
       "    <tr style=\"text-align: right;\">\n",
       "      <th></th>\n",
       "      <th>Year</th>\n",
       "      <th>Month</th>\n",
       "      <th>21Shares ALTC AVERAGE_BID</th>\n",
       "      <th>WisdomTree WBLC AVERAGE_BID</th>\n",
       "      <th>WisdomTree WMEG AVERAGE_BID</th>\n",
       "      <th>21Shares 21XH AVERAGE_BID</th>\n",
       "    </tr>\n",
       "  </thead>\n",
       "  <tbody>\n",
       "    <tr>\n",
       "      <th>0</th>\n",
       "      <td>2021</td>\n",
       "      <td>5</td>\n",
       "      <td>NaN</td>\n",
       "      <td>NaN</td>\n",
       "      <td>NaN</td>\n",
       "      <td>NaN</td>\n",
       "    </tr>\n",
       "    <tr>\n",
       "      <th>1</th>\n",
       "      <td>2021</td>\n",
       "      <td>6</td>\n",
       "      <td>NaN</td>\n",
       "      <td>NaN</td>\n",
       "      <td>NaN</td>\n",
       "      <td>NaN</td>\n",
       "    </tr>\n",
       "    <tr>\n",
       "      <th>2</th>\n",
       "      <td>2021</td>\n",
       "      <td>7</td>\n",
       "      <td>NaN</td>\n",
       "      <td>NaN</td>\n",
       "      <td>NaN</td>\n",
       "      <td>NaN</td>\n",
       "    </tr>\n",
       "    <tr>\n",
       "      <th>3</th>\n",
       "      <td>2021</td>\n",
       "      <td>8</td>\n",
       "      <td>NaN</td>\n",
       "      <td>NaN</td>\n",
       "      <td>NaN</td>\n",
       "      <td>NaN</td>\n",
       "    </tr>\n",
       "    <tr>\n",
       "      <th>4</th>\n",
       "      <td>2021</td>\n",
       "      <td>9</td>\n",
       "      <td>NaN</td>\n",
       "      <td>NaN</td>\n",
       "      <td>NaN</td>\n",
       "      <td>59.208333</td>\n",
       "    </tr>\n",
       "    <tr>\n",
       "      <th>5</th>\n",
       "      <td>2021</td>\n",
       "      <td>10</td>\n",
       "      <td>NaN</td>\n",
       "      <td>NaN</td>\n",
       "      <td>NaN</td>\n",
       "      <td>65.616190</td>\n",
       "    </tr>\n",
       "    <tr>\n",
       "      <th>6</th>\n",
       "      <td>2021</td>\n",
       "      <td>11</td>\n",
       "      <td>65.785000</td>\n",
       "      <td>67.395000</td>\n",
       "      <td>34.180000</td>\n",
       "      <td>48.175455</td>\n",
       "    </tr>\n",
       "    <tr>\n",
       "      <th>7</th>\n",
       "      <td>2021</td>\n",
       "      <td>12</td>\n",
       "      <td>66.270000</td>\n",
       "      <td>64.537391</td>\n",
       "      <td>31.436957</td>\n",
       "      <td>49.418696</td>\n",
       "    </tr>\n",
       "    <tr>\n",
       "      <th>8</th>\n",
       "      <td>2022</td>\n",
       "      <td>1</td>\n",
       "      <td>78.323333</td>\n",
       "      <td>75.092857</td>\n",
       "      <td>30.988095</td>\n",
       "      <td>50.942381</td>\n",
       "    </tr>\n",
       "    <tr>\n",
       "      <th>9</th>\n",
       "      <td>2022</td>\n",
       "      <td>2</td>\n",
       "      <td>106.092000</td>\n",
       "      <td>96.984000</td>\n",
       "      <td>47.469000</td>\n",
       "      <td>57.138000</td>\n",
       "    </tr>\n",
       "    <tr>\n",
       "      <th>10</th>\n",
       "      <td>2022</td>\n",
       "      <td>3</td>\n",
       "      <td>110.271739</td>\n",
       "      <td>133.154783</td>\n",
       "      <td>65.139130</td>\n",
       "      <td>48.380435</td>\n",
       "    </tr>\n",
       "    <tr>\n",
       "      <th>11</th>\n",
       "      <td>2022</td>\n",
       "      <td>4</td>\n",
       "      <td>115.688095</td>\n",
       "      <td>152.443810</td>\n",
       "      <td>58.040000</td>\n",
       "      <td>37.779048</td>\n",
       "    </tr>\n",
       "  </tbody>\n",
       "</table>\n",
       "</div>"
      ],
      "text/plain": [
       "    Year  Month  21Shares ALTC AVERAGE_BID  WisdomTree WBLC AVERAGE_BID  \\\n",
       "0   2021      5                        NaN                          NaN   \n",
       "1   2021      6                        NaN                          NaN   \n",
       "2   2021      7                        NaN                          NaN   \n",
       "3   2021      8                        NaN                          NaN   \n",
       "4   2021      9                        NaN                          NaN   \n",
       "5   2021     10                        NaN                          NaN   \n",
       "6   2021     11                  65.785000                    67.395000   \n",
       "7   2021     12                  66.270000                    64.537391   \n",
       "8   2022      1                  78.323333                    75.092857   \n",
       "9   2022      2                 106.092000                    96.984000   \n",
       "10  2022      3                 110.271739                   133.154783   \n",
       "11  2022      4                 115.688095                   152.443810   \n",
       "\n",
       "    WisdomTree WMEG AVERAGE_BID  21Shares 21XH AVERAGE_BID  \n",
       "0                           NaN                        NaN  \n",
       "1                           NaN                        NaN  \n",
       "2                           NaN                        NaN  \n",
       "3                           NaN                        NaN  \n",
       "4                           NaN                  59.208333  \n",
       "5                           NaN                  65.616190  \n",
       "6                     34.180000                  48.175455  \n",
       "7                     31.436957                  49.418696  \n",
       "8                     30.988095                  50.942381  \n",
       "9                     47.469000                  57.138000  \n",
       "10                    65.139130                  48.380435  \n",
       "11                    58.040000                  37.779048  "
      ]
     },
     "execution_count": 23,
     "metadata": {},
     "output_type": "execute_result"
    }
   ],
   "source": [
    "df_bid"
   ]
  },
  {
   "cell_type": "code",
   "execution_count": 24,
   "id": "a5879832",
   "metadata": {},
   "outputs": [],
   "source": [
    "c = ['gold','c','darkgreen','g','b','lightblue','darkblue','brown','grey']"
   ]
  },
  {
   "cell_type": "code",
   "execution_count": 25,
   "id": "3191ff66",
   "metadata": {},
   "outputs": [
    {
     "data": {
      "text/plain": [
       "4"
      ]
     },
     "execution_count": 25,
     "metadata": {},
     "output_type": "execute_result"
    }
   ],
   "source": [
    "len(bid_col)"
   ]
  },
  {
   "cell_type": "code",
   "execution_count": 26,
   "id": "cd6704f8",
   "metadata": {},
   "outputs": [
    {
     "data": {
      "image/png": "[encoded data removed]",
      "text/plain": [
       "<Figure size 720x360 with 1 Axes>"
      ]
     },
     "metadata": {
      "needs_background": "light"
     },
     "output_type": "display_data"
    }
   ],
   "source": [
    "fig, ax = plt.subplots(figsize=(10,5))\n",
    "new_name = df_new['yr_month'].iloc[[0,2,4,6,8,10,11]]\n",
    "for i,col in enumerate(bid_col):\n",
    "    ax.plot(list(range(len(df_bid))),list(df_bid[col]),label=col,color=c[i])\n",
    "ax.set_xticklabels(new_name)\n",
    "plt.legend(bbox_to_anchor=(1.0,1.0))\n",
    "plt.title(\"Xetra Baskets ETPs Average Bid Ask Spread\")\n",
    "plt.xlabel(\"Date\")\n",
    "plt.ylabel(\"Average Bid Ask Spread (bps)\")\n",
    "plt.ylim([0,100])\n",
    "plt.savefig(\"xetrabaskets_bid_ask.png\")\n",
    "plt.show()"
   ]
  },
  {
   "cell_type": "code",
   "execution_count": null,
   "id": "f748e489",
   "metadata": {},
   "outputs": [],
   "source": []
  }
 ],
 "metadata": {
  "kernelspec": {
   "display_name": "Python 3 (ipykernel)",
   "language": "python",
   "name": "python3"
  },
  "language_info": {
   "codemirror_mode": {
    "name": "ipython",
    "version": 3
   },
   "file_extension": ".py",
   "mimetype": "text/x-python",
   "name": "python",
   "nbconvert_exporter": "python",
   "pygments_lexer": "ipython3",
   "version": "3.9.7"
  }
 },
 "nbformat": 4,
 "nbformat_minor": 5
}
