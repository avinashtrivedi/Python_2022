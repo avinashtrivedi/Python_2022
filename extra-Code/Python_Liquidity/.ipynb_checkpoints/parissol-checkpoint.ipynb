{
 "cells": [
  {
   "cell_type": "code",
   "execution_count": 1,
   "id": "327c7bce",
   "metadata": {},
   "outputs": [],
   "source": [
    "import pandas as pd\n",
    "import matplotlib.pyplot as plt\n",
    "import warnings\n",
    "warnings.filterwarnings('ignore')"
   ]
  },
  {
   "cell_type": "code",
   "execution_count": 2,
   "id": "e2faaa92",
   "metadata": {},
   "outputs": [],
   "source": [
    "df = pd.read_excel('pc.xlsx',sheet_name='ENX Paris Solana ETPs')"
   ]
  },
  {
   "cell_type": "code",
   "execution_count": 3,
   "id": "7ce28bb7",
   "metadata": {},
   "outputs": [
    {
     "data": {
      "text/plain": [
       "[nan, 'ASOL FP Equity', nan, 'VSOL FP Equity', nan, 'SOLVA FP Equity', nan]"
      ]
     },
     "execution_count": 3,
     "metadata": {},
     "output_type": "execute_result"
    }
   ],
   "source": [
    "list(df.iloc[0])"
   ]
  },
  {
   "cell_type": "code",
   "execution_count": 4,
   "id": "9cab76cb",
   "metadata": {},
   "outputs": [
    {
     "data": {
      "text/plain": [
       "['Dates',\n",
       " 'TURNOVER',\n",
       " 'AVERAGE_BID_ASK_SPREAD_%',\n",
       " 'TURNOVER',\n",
       " 'AVERAGE_BID_ASK_SPREAD_%',\n",
       " 'TURNOVER',\n",
       " 'AVERAGE_BID_ASK_SPREAD_%']"
      ]
     },
     "execution_count": 4,
     "metadata": {},
     "output_type": "execute_result"
    }
   ],
   "source": [
    "list(df.iloc[1])"
   ]
  },
  {
   "cell_type": "code",
   "execution_count": 5,
   "id": "43fb58e8",
   "metadata": {},
   "outputs": [],
   "source": [
    "col = ['Dates',\n",
    " '21Shares ASOL TURNOVER',\n",
    " '21Shares ASOL AVERAGE_BID',\n",
    " 'Valour SOLVA TURNOVER',\n",
    " 'Valour SOLVA AVERAGE_BID',\n",
    " 'VanEck VSOL TURNOVER',\n",
    " 'VanEck VSOL AVERAGE_BID']"
   ]
  },
  {
   "cell_type": "code",
   "execution_count": 6,
   "id": "994ed63d",
   "metadata": {},
   "outputs": [],
   "source": [
    "df.columns = col"
   ]
  },
  {
   "cell_type": "code",
   "execution_count": 7,
   "id": "24a52220",
   "metadata": {},
   "outputs": [],
   "source": [
    "df = df.iloc[2:262]"
   ]
  },
  {
   "cell_type": "code",
   "execution_count": 8,
   "id": "79cce7ad",
   "metadata": {},
   "outputs": [],
   "source": [
    "df.reset_index(drop=True,inplace=True)"
   ]
  },
  {
   "cell_type": "code",
   "execution_count": 9,
   "id": "883efb06",
   "metadata": {},
   "outputs": [
    {
     "data": {
      "text/html": [
       "<div>\n",
       "<style scoped>\n",
       "    .dataframe tbody tr th:only-of-type {\n",
       "        vertical-align: middle;\n",
       "    }\n",
       "\n",
       "    .dataframe tbody tr th {\n",
       "        vertical-align: top;\n",
       "    }\n",
       "\n",
       "    .dataframe thead th {\n",
       "        text-align: right;\n",
       "    }\n",
       "</style>\n",
       "<table border=\"1\" class=\"dataframe\">\n",
       "  <thead>\n",
       "    <tr style=\"text-align: right;\">\n",
       "      <th></th>\n",
       "      <th>Dates</th>\n",
       "      <th>21Shares ASOL TURNOVER</th>\n",
       "      <th>21Shares ASOL AVERAGE_BID</th>\n",
       "      <th>Valour SOLVA TURNOVER</th>\n",
       "      <th>Valour SOLVA AVERAGE_BID</th>\n",
       "      <th>VanEck VSOL TURNOVER</th>\n",
       "      <th>VanEck VSOL AVERAGE_BID</th>\n",
       "    </tr>\n",
       "  </thead>\n",
       "  <tbody>\n",
       "    <tr>\n",
       "      <th>0</th>\n",
       "      <td>2021-05-03 00:00:00</td>\n",
       "      <td>NaN</td>\n",
       "      <td>NaN</td>\n",
       "      <td>NaN</td>\n",
       "      <td>NaN</td>\n",
       "      <td>NaN</td>\n",
       "      <td>NaN</td>\n",
       "    </tr>\n",
       "    <tr>\n",
       "      <th>1</th>\n",
       "      <td>2021-05-04 00:00:00</td>\n",
       "      <td>NaN</td>\n",
       "      <td>NaN</td>\n",
       "      <td>NaN</td>\n",
       "      <td>NaN</td>\n",
       "      <td>NaN</td>\n",
       "      <td>NaN</td>\n",
       "    </tr>\n",
       "    <tr>\n",
       "      <th>2</th>\n",
       "      <td>2021-05-05 00:00:00</td>\n",
       "      <td>NaN</td>\n",
       "      <td>NaN</td>\n",
       "      <td>NaN</td>\n",
       "      <td>NaN</td>\n",
       "      <td>NaN</td>\n",
       "      <td>NaN</td>\n",
       "    </tr>\n",
       "    <tr>\n",
       "      <th>3</th>\n",
       "      <td>2021-05-06 00:00:00</td>\n",
       "      <td>NaN</td>\n",
       "      <td>NaN</td>\n",
       "      <td>NaN</td>\n",
       "      <td>NaN</td>\n",
       "      <td>NaN</td>\n",
       "      <td>NaN</td>\n",
       "    </tr>\n",
       "    <tr>\n",
       "      <th>4</th>\n",
       "      <td>2021-05-07 00:00:00</td>\n",
       "      <td>NaN</td>\n",
       "      <td>NaN</td>\n",
       "      <td>NaN</td>\n",
       "      <td>NaN</td>\n",
       "      <td>NaN</td>\n",
       "      <td>NaN</td>\n",
       "    </tr>\n",
       "    <tr>\n",
       "      <th>...</th>\n",
       "      <td>...</td>\n",
       "      <td>...</td>\n",
       "      <td>...</td>\n",
       "      <td>...</td>\n",
       "      <td>...</td>\n",
       "      <td>...</td>\n",
       "      <td>...</td>\n",
       "    </tr>\n",
       "    <tr>\n",
       "      <th>255</th>\n",
       "      <td>2022-04-25 00:00:00</td>\n",
       "      <td>655.08</td>\n",
       "      <td>1.0694</td>\n",
       "      <td>26.55</td>\n",
       "      <td>0.7828</td>\n",
       "      <td>NaN</td>\n",
       "      <td>0.7668</td>\n",
       "    </tr>\n",
       "    <tr>\n",
       "      <th>256</th>\n",
       "      <td>2022-04-26 00:00:00</td>\n",
       "      <td>18031.92</td>\n",
       "      <td>0.9946</td>\n",
       "      <td>26.55</td>\n",
       "      <td>0.6814</td>\n",
       "      <td>NaN</td>\n",
       "      <td>0.708</td>\n",
       "    </tr>\n",
       "    <tr>\n",
       "      <th>257</th>\n",
       "      <td>2022-04-27 00:00:00</td>\n",
       "      <td>926.76</td>\n",
       "      <td>0.9741</td>\n",
       "      <td>26.55</td>\n",
       "      <td>0.6733</td>\n",
       "      <td>NaN</td>\n",
       "      <td>0.7502</td>\n",
       "    </tr>\n",
       "    <tr>\n",
       "      <th>258</th>\n",
       "      <td>2022-04-28 00:00:00</td>\n",
       "      <td>926.76</td>\n",
       "      <td>0.7937</td>\n",
       "      <td>26.55</td>\n",
       "      <td>0.6529</td>\n",
       "      <td>NaN</td>\n",
       "      <td>0.7143</td>\n",
       "    </tr>\n",
       "    <tr>\n",
       "      <th>259</th>\n",
       "      <td>2022-04-29 00:00:00</td>\n",
       "      <td>1122</td>\n",
       "      <td>1.1064</td>\n",
       "      <td>26.55</td>\n",
       "      <td>0.696</td>\n",
       "      <td>NaN</td>\n",
       "      <td>0.7256</td>\n",
       "    </tr>\n",
       "  </tbody>\n",
       "</table>\n",
       "<p>260 rows × 7 columns</p>\n",
       "</div>"
      ],
      "text/plain": [
       "                   Dates 21Shares ASOL TURNOVER 21Shares ASOL AVERAGE_BID  \\\n",
       "0    2021-05-03 00:00:00                    NaN                       NaN   \n",
       "1    2021-05-04 00:00:00                    NaN                       NaN   \n",
       "2    2021-05-05 00:00:00                    NaN                       NaN   \n",
       "3    2021-05-06 00:00:00                    NaN                       NaN   \n",
       "4    2021-05-07 00:00:00                    NaN                       NaN   \n",
       "..                   ...                    ...                       ...   \n",
       "255  2022-04-25 00:00:00                 655.08                    1.0694   \n",
       "256  2022-04-26 00:00:00               18031.92                    0.9946   \n",
       "257  2022-04-27 00:00:00                 926.76                    0.9741   \n",
       "258  2022-04-28 00:00:00                 926.76                    0.7937   \n",
       "259  2022-04-29 00:00:00                   1122                    1.1064   \n",
       "\n",
       "    Valour SOLVA TURNOVER Valour SOLVA AVERAGE_BID VanEck VSOL TURNOVER  \\\n",
       "0                     NaN                      NaN                  NaN   \n",
       "1                     NaN                      NaN                  NaN   \n",
       "2                     NaN                      NaN                  NaN   \n",
       "3                     NaN                      NaN                  NaN   \n",
       "4                     NaN                      NaN                  NaN   \n",
       "..                    ...                      ...                  ...   \n",
       "255                 26.55                   0.7828                  NaN   \n",
       "256                 26.55                   0.6814                  NaN   \n",
       "257                 26.55                   0.6733                  NaN   \n",
       "258                 26.55                   0.6529                  NaN   \n",
       "259                 26.55                    0.696                  NaN   \n",
       "\n",
       "    VanEck VSOL AVERAGE_BID  \n",
       "0                       NaN  \n",
       "1                       NaN  \n",
       "2                       NaN  \n",
       "3                       NaN  \n",
       "4                       NaN  \n",
       "..                      ...  \n",
       "255                  0.7668  \n",
       "256                   0.708  \n",
       "257                  0.7502  \n",
       "258                  0.7143  \n",
       "259                  0.7256  \n",
       "\n",
       "[260 rows x 7 columns]"
      ]
     },
     "execution_count": 9,
     "metadata": {},
     "output_type": "execute_result"
    }
   ],
   "source": [
    "df"
   ]
  },
  {
   "cell_type": "code",
   "execution_count": 10,
   "id": "3c949204",
   "metadata": {},
   "outputs": [
    {
     "data": {
      "text/plain": [
       "Dates                          0\n",
       "21Shares ASOL TURNOVER       105\n",
       "21Shares ASOL AVERAGE_BID    103\n",
       "Valour SOLVA TURNOVER        107\n",
       "Valour SOLVA AVERAGE_BID     104\n",
       "VanEck VSOL TURNOVER         260\n",
       "VanEck VSOL AVERAGE_BID      242\n",
       "dtype: int64"
      ]
     },
     "execution_count": 10,
     "metadata": {},
     "output_type": "execute_result"
    }
   ],
   "source": [
    "df.isna().sum()"
   ]
  },
  {
   "cell_type": "code",
   "execution_count": 11,
   "id": "46aba1a1",
   "metadata": {},
   "outputs": [],
   "source": [
    "df['Dates'] = pd.to_datetime(df['Dates'])"
   ]
  },
  {
   "cell_type": "code",
   "execution_count": 12,
   "id": "c8a4c96c",
   "metadata": {},
   "outputs": [
    {
     "data": {
      "text/plain": [
       "Dates                        datetime64[ns]\n",
       "21Shares ASOL TURNOVER               object\n",
       "21Shares ASOL AVERAGE_BID            object\n",
       "Valour SOLVA TURNOVER                object\n",
       "Valour SOLVA AVERAGE_BID             object\n",
       "VanEck VSOL TURNOVER                 object\n",
       "VanEck VSOL AVERAGE_BID              object\n",
       "dtype: object"
      ]
     },
     "execution_count": 12,
     "metadata": {},
     "output_type": "execute_result"
    }
   ],
   "source": [
    "df.dtypes"
   ]
  },
  {
   "cell_type": "code",
   "execution_count": 13,
   "id": "ad3c5df7",
   "metadata": {},
   "outputs": [],
   "source": [
    "for col in list(df)[1:]:\n",
    "    df[col] = df[col].astype('float')"
   ]
  },
  {
   "cell_type": "code",
   "execution_count": 14,
   "id": "9ea0421b",
   "metadata": {},
   "outputs": [
    {
     "data": {
      "text/plain": [
       "Dates                        datetime64[ns]\n",
       "21Shares ASOL TURNOVER              float64\n",
       "21Shares ASOL AVERAGE_BID           float64\n",
       "Valour SOLVA TURNOVER               float64\n",
       "Valour SOLVA AVERAGE_BID            float64\n",
       "VanEck VSOL TURNOVER                float64\n",
       "VanEck VSOL AVERAGE_BID             float64\n",
       "dtype: object"
      ]
     },
     "execution_count": 14,
     "metadata": {},
     "output_type": "execute_result"
    }
   ],
   "source": [
    "df.dtypes"
   ]
  },
  {
   "cell_type": "code",
   "execution_count": 15,
   "id": "fd881a47",
   "metadata": {},
   "outputs": [],
   "source": [
    "df['Year'] = df['Dates'].dt.year \n",
    "df['Month'] = df['Dates'].dt.month "
   ]
  },
  {
   "cell_type": "code",
   "execution_count": 16,
   "id": "972d7c72",
   "metadata": {},
   "outputs": [],
   "source": [
    "dict_mnth = {\n",
    "    1:'JAN',\n",
    "    2:'FEB',\n",
    "    3: 'MARCH',\n",
    "    4: 'APRIL',\n",
    "    5: 'MAY',\n",
    "    6: 'JUNE',\n",
    "    7: 'JULY',\n",
    "    8: 'AUG',\n",
    "    9: 'SEP',\n",
    "    10: 'OCT',\n",
    "    11: 'NOV',\n",
    "    12: 'DEC'\n",
    "}"
   ]
  },
  {
   "cell_type": "markdown",
   "id": "250b8385",
   "metadata": {},
   "source": [
    "# Turnover"
   ]
  },
  {
   "cell_type": "code",
   "execution_count": 17,
   "id": "04f6ffd0",
   "metadata": {},
   "outputs": [],
   "source": [
    "turnover_col = [name for name in list(df) if 'TURNOVER' in name]\n",
    "df_new = df.groupby(['Year','Month'])[turnover_col].sum()\n",
    "df_new = df_new.reset_index()"
   ]
  },
  {
   "cell_type": "code",
   "execution_count": 18,
   "id": "95922d04",
   "metadata": {},
   "outputs": [
    {
     "data": {
      "text/html": [
       "<div>\n",
       "<style scoped>\n",
       "    .dataframe tbody tr th:only-of-type {\n",
       "        vertical-align: middle;\n",
       "    }\n",
       "\n",
       "    .dataframe tbody tr th {\n",
       "        vertical-align: top;\n",
       "    }\n",
       "\n",
       "    .dataframe thead th {\n",
       "        text-align: right;\n",
       "    }\n",
       "</style>\n",
       "<table border=\"1\" class=\"dataframe\">\n",
       "  <thead>\n",
       "    <tr style=\"text-align: right;\">\n",
       "      <th></th>\n",
       "      <th>Year</th>\n",
       "      <th>Month</th>\n",
       "      <th>21Shares ASOL TURNOVER</th>\n",
       "      <th>Valour SOLVA TURNOVER</th>\n",
       "      <th>VanEck VSOL TURNOVER</th>\n",
       "    </tr>\n",
       "  </thead>\n",
       "  <tbody>\n",
       "    <tr>\n",
       "      <th>0</th>\n",
       "      <td>2021</td>\n",
       "      <td>5</td>\n",
       "      <td>0.00</td>\n",
       "      <td>0.00</td>\n",
       "      <td>0.0</td>\n",
       "    </tr>\n",
       "    <tr>\n",
       "      <th>1</th>\n",
       "      <td>2021</td>\n",
       "      <td>6</td>\n",
       "      <td>0.00</td>\n",
       "      <td>0.00</td>\n",
       "      <td>0.0</td>\n",
       "    </tr>\n",
       "    <tr>\n",
       "      <th>2</th>\n",
       "      <td>2021</td>\n",
       "      <td>7</td>\n",
       "      <td>0.00</td>\n",
       "      <td>0.00</td>\n",
       "      <td>0.0</td>\n",
       "    </tr>\n",
       "    <tr>\n",
       "      <th>3</th>\n",
       "      <td>2021</td>\n",
       "      <td>8</td>\n",
       "      <td>0.00</td>\n",
       "      <td>0.00</td>\n",
       "      <td>0.0</td>\n",
       "    </tr>\n",
       "    <tr>\n",
       "      <th>4</th>\n",
       "      <td>2021</td>\n",
       "      <td>9</td>\n",
       "      <td>533360.30</td>\n",
       "      <td>48772.72</td>\n",
       "      <td>0.0</td>\n",
       "    </tr>\n",
       "    <tr>\n",
       "      <th>5</th>\n",
       "      <td>2021</td>\n",
       "      <td>10</td>\n",
       "      <td>4584211.64</td>\n",
       "      <td>499472.60</td>\n",
       "      <td>0.0</td>\n",
       "    </tr>\n",
       "    <tr>\n",
       "      <th>6</th>\n",
       "      <td>2021</td>\n",
       "      <td>11</td>\n",
       "      <td>4706326.12</td>\n",
       "      <td>437423.88</td>\n",
       "      <td>0.0</td>\n",
       "    </tr>\n",
       "    <tr>\n",
       "      <th>7</th>\n",
       "      <td>2021</td>\n",
       "      <td>12</td>\n",
       "      <td>1769625.55</td>\n",
       "      <td>365707.28</td>\n",
       "      <td>0.0</td>\n",
       "    </tr>\n",
       "    <tr>\n",
       "      <th>8</th>\n",
       "      <td>2022</td>\n",
       "      <td>1</td>\n",
       "      <td>2275214.08</td>\n",
       "      <td>333968.76</td>\n",
       "      <td>0.0</td>\n",
       "    </tr>\n",
       "    <tr>\n",
       "      <th>9</th>\n",
       "      <td>2022</td>\n",
       "      <td>2</td>\n",
       "      <td>1218428.02</td>\n",
       "      <td>11483.60</td>\n",
       "      <td>0.0</td>\n",
       "    </tr>\n",
       "    <tr>\n",
       "      <th>10</th>\n",
       "      <td>2022</td>\n",
       "      <td>3</td>\n",
       "      <td>363094.87</td>\n",
       "      <td>37104.20</td>\n",
       "      <td>0.0</td>\n",
       "    </tr>\n",
       "    <tr>\n",
       "      <th>11</th>\n",
       "      <td>2022</td>\n",
       "      <td>4</td>\n",
       "      <td>352340.19</td>\n",
       "      <td>125204.50</td>\n",
       "      <td>0.0</td>\n",
       "    </tr>\n",
       "  </tbody>\n",
       "</table>\n",
       "</div>"
      ],
      "text/plain": [
       "    Year  Month  21Shares ASOL TURNOVER  Valour SOLVA TURNOVER  \\\n",
       "0   2021      5                    0.00                   0.00   \n",
       "1   2021      6                    0.00                   0.00   \n",
       "2   2021      7                    0.00                   0.00   \n",
       "3   2021      8                    0.00                   0.00   \n",
       "4   2021      9               533360.30               48772.72   \n",
       "5   2021     10              4584211.64              499472.60   \n",
       "6   2021     11              4706326.12              437423.88   \n",
       "7   2021     12              1769625.55              365707.28   \n",
       "8   2022      1              2275214.08              333968.76   \n",
       "9   2022      2              1218428.02               11483.60   \n",
       "10  2022      3               363094.87               37104.20   \n",
       "11  2022      4               352340.19              125204.50   \n",
       "\n",
       "    VanEck VSOL TURNOVER  \n",
       "0                    0.0  \n",
       "1                    0.0  \n",
       "2                    0.0  \n",
       "3                    0.0  \n",
       "4                    0.0  \n",
       "5                    0.0  \n",
       "6                    0.0  \n",
       "7                    0.0  \n",
       "8                    0.0  \n",
       "9                    0.0  \n",
       "10                   0.0  \n",
       "11                   0.0  "
      ]
     },
     "execution_count": 18,
     "metadata": {},
     "output_type": "execute_result"
    }
   ],
   "source": [
    "df_new"
   ]
  },
  {
   "cell_type": "code",
   "execution_count": 19,
   "id": "9af5f996",
   "metadata": {},
   "outputs": [],
   "source": [
    "yr_month = []\n",
    "for _,row in df_new.iterrows():\n",
    "    \n",
    "    yr_month.append(str(row['Year']).split('.')[0]+'_'+dict_mnth[row['Month']])\n",
    "    \n",
    "df_new['yr_month'] = yr_month"
   ]
  },
  {
   "cell_type": "code",
   "execution_count": 20,
   "id": "26cca9d7",
   "metadata": {},
   "outputs": [
    {
     "data": {
      "image/png": "[encoded data removed]",
      "text/plain": [
       "<Figure size 720x360 with 1 Axes>"
      ]
     },
     "metadata": {
      "needs_background": "light"
     },
     "output_type": "display_data"
    }
   ],
   "source": [
    "fig, ax = plt.subplots(figsize=(10,5))\n",
    "# turnover_col = [name for name in list(df_new) if 'TURNOVER' in name]\n",
    "new_name = df_new['yr_month'].iloc[[0,2,4,6,8,10,11]]\n",
    "for col in turnover_col:\n",
    "    ax.plot(list(range(len(df_new))),list(df_new[col]),label=col)\n",
    "ax.set_xticklabels(new_name)\n",
    "plt.legend(bbox_to_anchor=(1.0,1.0))\n",
    "plt.title(\"ENX Paris Solana ETPs Turnover\")\n",
    "plt.xlabel(\"Date\")\n",
    "plt.ylabel(\"Sum of Turnover (€)\")\n",
    "plt.savefig(\"parissol_turnover.png\", bbox_inches = \"tight\")\n",
    "plt.show()"
   ]
  },
  {
   "cell_type": "markdown",
   "id": "5f8e9b1d",
   "metadata": {},
   "source": [
    "# Average bid"
   ]
  },
  {
   "cell_type": "code",
   "execution_count": 21,
   "id": "4c546718",
   "metadata": {},
   "outputs": [],
   "source": [
    "bid_col = [name for name in list(df) if 'AVERAGE_BID' in name]"
   ]
  },
  {
   "cell_type": "code",
   "execution_count": 22,
   "id": "1c5cab6d",
   "metadata": {},
   "outputs": [],
   "source": [
    "df_bid = df.groupby(['Year','Month'])[bid_col].mean()*100\n",
    "df_bid = df_bid.reset_index()"
   ]
  },
  {
   "cell_type": "code",
   "execution_count": 23,
   "id": "9b050088",
   "metadata": {},
   "outputs": [
    {
     "data": {
      "text/html": [
       "<div>\n",
       "<style scoped>\n",
       "    .dataframe tbody tr th:only-of-type {\n",
       "        vertical-align: middle;\n",
       "    }\n",
       "\n",
       "    .dataframe tbody tr th {\n",
       "        vertical-align: top;\n",
       "    }\n",
       "\n",
       "    .dataframe thead th {\n",
       "        text-align: right;\n",
       "    }\n",
       "</style>\n",
       "<table border=\"1\" class=\"dataframe\">\n",
       "  <thead>\n",
       "    <tr style=\"text-align: right;\">\n",
       "      <th></th>\n",
       "      <th>Year</th>\n",
       "      <th>Month</th>\n",
       "      <th>21Shares ASOL AVERAGE_BID</th>\n",
       "      <th>Valour SOLVA AVERAGE_BID</th>\n",
       "      <th>VanEck VSOL AVERAGE_BID</th>\n",
       "    </tr>\n",
       "  </thead>\n",
       "  <tbody>\n",
       "    <tr>\n",
       "      <th>0</th>\n",
       "      <td>2021</td>\n",
       "      <td>5</td>\n",
       "      <td>NaN</td>\n",
       "      <td>NaN</td>\n",
       "      <td>NaN</td>\n",
       "    </tr>\n",
       "    <tr>\n",
       "      <th>1</th>\n",
       "      <td>2021</td>\n",
       "      <td>6</td>\n",
       "      <td>NaN</td>\n",
       "      <td>NaN</td>\n",
       "      <td>NaN</td>\n",
       "    </tr>\n",
       "    <tr>\n",
       "      <th>2</th>\n",
       "      <td>2021</td>\n",
       "      <td>7</td>\n",
       "      <td>NaN</td>\n",
       "      <td>NaN</td>\n",
       "      <td>NaN</td>\n",
       "    </tr>\n",
       "    <tr>\n",
       "      <th>3</th>\n",
       "      <td>2021</td>\n",
       "      <td>8</td>\n",
       "      <td>NaN</td>\n",
       "      <td>NaN</td>\n",
       "      <td>NaN</td>\n",
       "    </tr>\n",
       "    <tr>\n",
       "      <th>4</th>\n",
       "      <td>2021</td>\n",
       "      <td>9</td>\n",
       "      <td>75.023333</td>\n",
       "      <td>65.380000</td>\n",
       "      <td>NaN</td>\n",
       "    </tr>\n",
       "    <tr>\n",
       "      <th>5</th>\n",
       "      <td>2021</td>\n",
       "      <td>10</td>\n",
       "      <td>59.398571</td>\n",
       "      <td>60.788095</td>\n",
       "      <td>NaN</td>\n",
       "    </tr>\n",
       "    <tr>\n",
       "      <th>6</th>\n",
       "      <td>2021</td>\n",
       "      <td>11</td>\n",
       "      <td>69.930909</td>\n",
       "      <td>68.060000</td>\n",
       "      <td>NaN</td>\n",
       "    </tr>\n",
       "    <tr>\n",
       "      <th>7</th>\n",
       "      <td>2021</td>\n",
       "      <td>12</td>\n",
       "      <td>69.881739</td>\n",
       "      <td>64.806957</td>\n",
       "      <td>NaN</td>\n",
       "    </tr>\n",
       "    <tr>\n",
       "      <th>8</th>\n",
       "      <td>2022</td>\n",
       "      <td>1</td>\n",
       "      <td>68.210000</td>\n",
       "      <td>64.359524</td>\n",
       "      <td>NaN</td>\n",
       "    </tr>\n",
       "    <tr>\n",
       "      <th>9</th>\n",
       "      <td>2022</td>\n",
       "      <td>2</td>\n",
       "      <td>71.702000</td>\n",
       "      <td>69.924000</td>\n",
       "      <td>NaN</td>\n",
       "    </tr>\n",
       "    <tr>\n",
       "      <th>10</th>\n",
       "      <td>2022</td>\n",
       "      <td>3</td>\n",
       "      <td>71.344783</td>\n",
       "      <td>64.918696</td>\n",
       "      <td>NaN</td>\n",
       "    </tr>\n",
       "    <tr>\n",
       "      <th>11</th>\n",
       "      <td>2022</td>\n",
       "      <td>4</td>\n",
       "      <td>97.485714</td>\n",
       "      <td>65.836667</td>\n",
       "      <td>71.66</td>\n",
       "    </tr>\n",
       "  </tbody>\n",
       "</table>\n",
       "</div>"
      ],
      "text/plain": [
       "    Year  Month  21Shares ASOL AVERAGE_BID  Valour SOLVA AVERAGE_BID  \\\n",
       "0   2021      5                        NaN                       NaN   \n",
       "1   2021      6                        NaN                       NaN   \n",
       "2   2021      7                        NaN                       NaN   \n",
       "3   2021      8                        NaN                       NaN   \n",
       "4   2021      9                  75.023333                 65.380000   \n",
       "5   2021     10                  59.398571                 60.788095   \n",
       "6   2021     11                  69.930909                 68.060000   \n",
       "7   2021     12                  69.881739                 64.806957   \n",
       "8   2022      1                  68.210000                 64.359524   \n",
       "9   2022      2                  71.702000                 69.924000   \n",
       "10  2022      3                  71.344783                 64.918696   \n",
       "11  2022      4                  97.485714                 65.836667   \n",
       "\n",
       "    VanEck VSOL AVERAGE_BID  \n",
       "0                       NaN  \n",
       "1                       NaN  \n",
       "2                       NaN  \n",
       "3                       NaN  \n",
       "4                       NaN  \n",
       "5                       NaN  \n",
       "6                       NaN  \n",
       "7                       NaN  \n",
       "8                       NaN  \n",
       "9                       NaN  \n",
       "10                      NaN  \n",
       "11                    71.66  "
      ]
     },
     "execution_count": 23,
     "metadata": {},
     "output_type": "execute_result"
    }
   ],
   "source": [
    "df_bid"
   ]
  },
  {
   "cell_type": "code",
   "execution_count": 24,
   "id": "a5879832",
   "metadata": {},
   "outputs": [],
   "source": [
    "c = ['gold','c','darkgreen','g','b','lightblue','darkblue','brown','grey']"
   ]
  },
  {
   "cell_type": "code",
   "execution_count": 25,
   "id": "3191ff66",
   "metadata": {},
   "outputs": [
    {
     "data": {
      "text/plain": [
       "3"
      ]
     },
     "execution_count": 25,
     "metadata": {},
     "output_type": "execute_result"
    }
   ],
   "source": [
    "len(bid_col)"
   ]
  },
  {
   "cell_type": "code",
   "execution_count": 26,
   "id": "cd6704f8",
   "metadata": {},
   "outputs": [
    {
     "data": {
      "image/png": "[encoded data removed]",
      "text/plain": [
       "<Figure size 720x360 with 1 Axes>"
      ]
     },
     "metadata": {
      "needs_background": "light"
     },
     "output_type": "display_data"
    }
   ],
   "source": [
    "fig, ax = plt.subplots(figsize=(10,5))\n",
    "new_name = df_new['yr_month'].iloc[[0,2,4,6,8,10,11]]\n",
    "for i,col in enumerate(bid_col):\n",
    "    ax.plot(list(range(len(df_bid))),list(df_bid[col]),label=col,color=c[i])\n",
    "ax.set_xticklabels(new_name)\n",
    "plt.legend(bbox_to_anchor=(1.0,1.0))\n",
    "plt.title(\"ENX Paris Solana ETPs Average Bid Ask Spread\")\n",
    "plt.xlabel(\"Date\")\n",
    "plt.ylabel(\"Average Bid Ask Spread (bps)\")\n",
    "plt.ylim([0,100])\n",
    "plt.savefig(\"parissol_bid_ask.png\")\n",
    "plt.show()"
   ]
  },
  {
   "cell_type": "code",
   "execution_count": null,
   "id": "f748e489",
   "metadata": {},
   "outputs": [],
   "source": []
  }
 ],
 "metadata": {
  "kernelspec": {
   "display_name": "Python 3 (ipykernel)",
   "language": "python",
   "name": "python3"
  },
  "language_info": {
   "codemirror_mode": {
    "name": "ipython",
    "version": 3
   },
   "file_extension": ".py",
   "mimetype": "text/x-python",
   "name": "python",
   "nbconvert_exporter": "python",
   "pygments_lexer": "ipython3",
   "version": "3.9.7"
  }
 },
 "nbformat": 4,
 "nbformat_minor": 5
}
