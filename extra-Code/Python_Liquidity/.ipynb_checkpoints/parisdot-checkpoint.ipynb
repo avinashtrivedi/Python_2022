{
 "cells": [
  {
   "cell_type": "code",
   "execution_count": 1,
   "id": "327c7bce",
   "metadata": {},
   "outputs": [],
   "source": [
    "import pandas as pd\n",
    "import matplotlib.pyplot as plt\n",
    "import warnings\n",
    "warnings.filterwarnings('ignore')"
   ]
  },
  {
   "cell_type": "code",
   "execution_count": 2,
   "id": "e2faaa92",
   "metadata": {},
   "outputs": [],
   "source": [
    "df = pd.read_excel('pc.xlsx',sheet_name='ENX Paris Polkadot ETPs')"
   ]
  },
  {
   "cell_type": "code",
   "execution_count": 3,
   "id": "7ce28bb7",
   "metadata": {},
   "outputs": [
    {
     "data": {
      "text/plain": [
       "[nan, 'ADOT FP Equity', nan, 'DOTVA FP Equity', nan, 'VDOT FP Equity', nan]"
      ]
     },
     "execution_count": 3,
     "metadata": {},
     "output_type": "execute_result"
    }
   ],
   "source": [
    "list(df.iloc[0])"
   ]
  },
  {
   "cell_type": "code",
   "execution_count": 4,
   "id": "9cab76cb",
   "metadata": {},
   "outputs": [
    {
     "data": {
      "text/plain": [
       "['Dates',\n",
       " 'TURNOVER',\n",
       " 'AVERAGE_BID_ASK_SPREAD_%',\n",
       " 'TURNOVER',\n",
       " 'AVERAGE_BID_ASK_SPREAD_%',\n",
       " 'TURNOVER',\n",
       " 'AVERAGE_BID_ASK_SPREAD_%']"
      ]
     },
     "execution_count": 4,
     "metadata": {},
     "output_type": "execute_result"
    }
   ],
   "source": [
    "list(df.iloc[1])"
   ]
  },
  {
   "cell_type": "code",
   "execution_count": 5,
   "id": "43fb58e8",
   "metadata": {},
   "outputs": [],
   "source": [
    "col = ['Dates',\n",
    " '21Shares ADOT TURNOVER',\n",
    " '21Shares ADOT AVERAGE_BID',\n",
    " 'VanEck VDOT TURNOVER',\n",
    " 'VanEck VDOT AVERAGE_BID',\n",
    " 'Valour DOTVA TURNOVER',\n",
    " 'Valour DOTVA AVERAGE_BID']"
   ]
  },
  {
   "cell_type": "code",
   "execution_count": 6,
   "id": "994ed63d",
   "metadata": {},
   "outputs": [],
   "source": [
    "df.columns = col"
   ]
  },
  {
   "cell_type": "code",
   "execution_count": 7,
   "id": "24a52220",
   "metadata": {},
   "outputs": [],
   "source": [
    "df = df.iloc[2:262]"
   ]
  },
  {
   "cell_type": "code",
   "execution_count": 8,
   "id": "79cce7ad",
   "metadata": {},
   "outputs": [],
   "source": [
    "df.reset_index(drop=True,inplace=True)"
   ]
  },
  {
   "cell_type": "code",
   "execution_count": 9,
   "id": "883efb06",
   "metadata": {},
   "outputs": [
    {
     "data": {
      "text/html": [
       "<div>\n",
       "<style scoped>\n",
       "    .dataframe tbody tr th:only-of-type {\n",
       "        vertical-align: middle;\n",
       "    }\n",
       "\n",
       "    .dataframe tbody tr th {\n",
       "        vertical-align: top;\n",
       "    }\n",
       "\n",
       "    .dataframe thead th {\n",
       "        text-align: right;\n",
       "    }\n",
       "</style>\n",
       "<table border=\"1\" class=\"dataframe\">\n",
       "  <thead>\n",
       "    <tr style=\"text-align: right;\">\n",
       "      <th></th>\n",
       "      <th>Dates</th>\n",
       "      <th>21Shares ADOT TURNOVER</th>\n",
       "      <th>21Shares ADOT AVERAGE_BID</th>\n",
       "      <th>VanEck VDOT TURNOVER</th>\n",
       "      <th>VanEck VDOT AVERAGE_BID</th>\n",
       "      <th>Valour DOTVA TURNOVER</th>\n",
       "      <th>Valour DOTVA AVERAGE_BID</th>\n",
       "    </tr>\n",
       "  </thead>\n",
       "  <tbody>\n",
       "    <tr>\n",
       "      <th>0</th>\n",
       "      <td>2021-05-03 00:00:00</td>\n",
       "      <td>NaN</td>\n",
       "      <td>NaN</td>\n",
       "      <td>NaN</td>\n",
       "      <td>NaN</td>\n",
       "      <td>NaN</td>\n",
       "      <td>NaN</td>\n",
       "    </tr>\n",
       "    <tr>\n",
       "      <th>1</th>\n",
       "      <td>2021-05-04 00:00:00</td>\n",
       "      <td>NaN</td>\n",
       "      <td>NaN</td>\n",
       "      <td>NaN</td>\n",
       "      <td>NaN</td>\n",
       "      <td>NaN</td>\n",
       "      <td>NaN</td>\n",
       "    </tr>\n",
       "    <tr>\n",
       "      <th>2</th>\n",
       "      <td>2021-05-05 00:00:00</td>\n",
       "      <td>NaN</td>\n",
       "      <td>NaN</td>\n",
       "      <td>NaN</td>\n",
       "      <td>NaN</td>\n",
       "      <td>NaN</td>\n",
       "      <td>NaN</td>\n",
       "    </tr>\n",
       "    <tr>\n",
       "      <th>3</th>\n",
       "      <td>2021-05-06 00:00:00</td>\n",
       "      <td>NaN</td>\n",
       "      <td>NaN</td>\n",
       "      <td>NaN</td>\n",
       "      <td>NaN</td>\n",
       "      <td>NaN</td>\n",
       "      <td>NaN</td>\n",
       "    </tr>\n",
       "    <tr>\n",
       "      <th>4</th>\n",
       "      <td>2021-05-07 00:00:00</td>\n",
       "      <td>NaN</td>\n",
       "      <td>NaN</td>\n",
       "      <td>NaN</td>\n",
       "      <td>NaN</td>\n",
       "      <td>NaN</td>\n",
       "      <td>NaN</td>\n",
       "    </tr>\n",
       "    <tr>\n",
       "      <th>...</th>\n",
       "      <td>...</td>\n",
       "      <td>...</td>\n",
       "      <td>...</td>\n",
       "      <td>...</td>\n",
       "      <td>...</td>\n",
       "      <td>...</td>\n",
       "      <td>...</td>\n",
       "    </tr>\n",
       "    <tr>\n",
       "      <th>255</th>\n",
       "      <td>2022-04-25 00:00:00</td>\n",
       "      <td>9440</td>\n",
       "      <td>0.65</td>\n",
       "      <td>NaN</td>\n",
       "      <td>0.7194</td>\n",
       "      <td>499.7</td>\n",
       "      <td>0.7085</td>\n",
       "    </tr>\n",
       "    <tr>\n",
       "      <th>256</th>\n",
       "      <td>2022-04-26 00:00:00</td>\n",
       "      <td>9440</td>\n",
       "      <td>0.6955</td>\n",
       "      <td>NaN</td>\n",
       "      <td>0.7214</td>\n",
       "      <td>499.7</td>\n",
       "      <td>0.6673</td>\n",
       "    </tr>\n",
       "    <tr>\n",
       "      <th>257</th>\n",
       "      <td>2022-04-27 00:00:00</td>\n",
       "      <td>8480</td>\n",
       "      <td>0.6529</td>\n",
       "      <td>NaN</td>\n",
       "      <td>0.7209</td>\n",
       "      <td>499.7</td>\n",
       "      <td>0.6867</td>\n",
       "    </tr>\n",
       "    <tr>\n",
       "      <th>258</th>\n",
       "      <td>2022-04-28 00:00:00</td>\n",
       "      <td>8480</td>\n",
       "      <td>0.6503</td>\n",
       "      <td>NaN</td>\n",
       "      <td>0.7051</td>\n",
       "      <td>884</td>\n",
       "      <td>0.6703</td>\n",
       "    </tr>\n",
       "    <tr>\n",
       "      <th>259</th>\n",
       "      <td>2022-04-29 00:00:00</td>\n",
       "      <td>8480</td>\n",
       "      <td>0.6707</td>\n",
       "      <td>NaN</td>\n",
       "      <td>0.6954</td>\n",
       "      <td>884</td>\n",
       "      <td>0.6916</td>\n",
       "    </tr>\n",
       "  </tbody>\n",
       "</table>\n",
       "<p>260 rows × 7 columns</p>\n",
       "</div>"
      ],
      "text/plain": [
       "                   Dates 21Shares ADOT TURNOVER 21Shares ADOT AVERAGE_BID  \\\n",
       "0    2021-05-03 00:00:00                    NaN                       NaN   \n",
       "1    2021-05-04 00:00:00                    NaN                       NaN   \n",
       "2    2021-05-05 00:00:00                    NaN                       NaN   \n",
       "3    2021-05-06 00:00:00                    NaN                       NaN   \n",
       "4    2021-05-07 00:00:00                    NaN                       NaN   \n",
       "..                   ...                    ...                       ...   \n",
       "255  2022-04-25 00:00:00                   9440                      0.65   \n",
       "256  2022-04-26 00:00:00                   9440                    0.6955   \n",
       "257  2022-04-27 00:00:00                   8480                    0.6529   \n",
       "258  2022-04-28 00:00:00                   8480                    0.6503   \n",
       "259  2022-04-29 00:00:00                   8480                    0.6707   \n",
       "\n",
       "    VanEck VDOT TURNOVER VanEck VDOT AVERAGE_BID Valour DOTVA TURNOVER  \\\n",
       "0                    NaN                     NaN                   NaN   \n",
       "1                    NaN                     NaN                   NaN   \n",
       "2                    NaN                     NaN                   NaN   \n",
       "3                    NaN                     NaN                   NaN   \n",
       "4                    NaN                     NaN                   NaN   \n",
       "..                   ...                     ...                   ...   \n",
       "255                  NaN                  0.7194                 499.7   \n",
       "256                  NaN                  0.7214                 499.7   \n",
       "257                  NaN                  0.7209                 499.7   \n",
       "258                  NaN                  0.7051                   884   \n",
       "259                  NaN                  0.6954                   884   \n",
       "\n",
       "    Valour DOTVA AVERAGE_BID  \n",
       "0                        NaN  \n",
       "1                        NaN  \n",
       "2                        NaN  \n",
       "3                        NaN  \n",
       "4                        NaN  \n",
       "..                       ...  \n",
       "255                   0.7085  \n",
       "256                   0.6673  \n",
       "257                   0.6867  \n",
       "258                   0.6703  \n",
       "259                   0.6916  \n",
       "\n",
       "[260 rows x 7 columns]"
      ]
     },
     "execution_count": 9,
     "metadata": {},
     "output_type": "execute_result"
    }
   ],
   "source": [
    "df"
   ]
  },
  {
   "cell_type": "code",
   "execution_count": 10,
   "id": "3c949204",
   "metadata": {},
   "outputs": [
    {
     "data": {
      "text/plain": [
       "Dates                          0\n",
       "21Shares ADOT TURNOVER       105\n",
       "21Shares ADOT AVERAGE_BID    103\n",
       "VanEck VDOT TURNOVER         260\n",
       "VanEck VDOT AVERAGE_BID      242\n",
       "Valour DOTVA TURNOVER        122\n",
       "Valour DOTVA AVERAGE_BID     104\n",
       "dtype: int64"
      ]
     },
     "execution_count": 10,
     "metadata": {},
     "output_type": "execute_result"
    }
   ],
   "source": [
    "df.isna().sum()"
   ]
  },
  {
   "cell_type": "code",
   "execution_count": 11,
   "id": "46aba1a1",
   "metadata": {},
   "outputs": [],
   "source": [
    "df['Dates'] = pd.to_datetime(df['Dates'])"
   ]
  },
  {
   "cell_type": "code",
   "execution_count": 12,
   "id": "c8a4c96c",
   "metadata": {},
   "outputs": [
    {
     "data": {
      "text/plain": [
       "Dates                        datetime64[ns]\n",
       "21Shares ADOT TURNOVER               object\n",
       "21Shares ADOT AVERAGE_BID            object\n",
       "VanEck VDOT TURNOVER                 object\n",
       "VanEck VDOT AVERAGE_BID              object\n",
       "Valour DOTVA TURNOVER                object\n",
       "Valour DOTVA AVERAGE_BID             object\n",
       "dtype: object"
      ]
     },
     "execution_count": 12,
     "metadata": {},
     "output_type": "execute_result"
    }
   ],
   "source": [
    "df.dtypes"
   ]
  },
  {
   "cell_type": "code",
   "execution_count": 13,
   "id": "ad3c5df7",
   "metadata": {},
   "outputs": [],
   "source": [
    "for col in list(df)[1:]:\n",
    "    df[col] = df[col].astype('float')"
   ]
  },
  {
   "cell_type": "code",
   "execution_count": 14,
   "id": "9ea0421b",
   "metadata": {},
   "outputs": [
    {
     "data": {
      "text/plain": [
       "Dates                        datetime64[ns]\n",
       "21Shares ADOT TURNOVER              float64\n",
       "21Shares ADOT AVERAGE_BID           float64\n",
       "VanEck VDOT TURNOVER                float64\n",
       "VanEck VDOT AVERAGE_BID             float64\n",
       "Valour DOTVA TURNOVER               float64\n",
       "Valour DOTVA AVERAGE_BID            float64\n",
       "dtype: object"
      ]
     },
     "execution_count": 14,
     "metadata": {},
     "output_type": "execute_result"
    }
   ],
   "source": [
    "df.dtypes"
   ]
  },
  {
   "cell_type": "code",
   "execution_count": 15,
   "id": "fd881a47",
   "metadata": {},
   "outputs": [],
   "source": [
    "df['Year'] = df['Dates'].dt.year \n",
    "df['Month'] = df['Dates'].dt.month "
   ]
  },
  {
   "cell_type": "code",
   "execution_count": 16,
   "id": "972d7c72",
   "metadata": {},
   "outputs": [],
   "source": [
    "dict_mnth = {\n",
    "    1:'JAN',\n",
    "    2:'FEB',\n",
    "    3: 'MARCH',\n",
    "    4: 'APRIL',\n",
    "    5: 'MAY',\n",
    "    6: 'JUNE',\n",
    "    7: 'JULY',\n",
    "    8: 'AUG',\n",
    "    9: 'SEP',\n",
    "    10: 'OCT',\n",
    "    11: 'NOV',\n",
    "    12: 'DEC'\n",
    "}"
   ]
  },
  {
   "cell_type": "markdown",
   "id": "250b8385",
   "metadata": {},
   "source": [
    "# Turnover"
   ]
  },
  {
   "cell_type": "code",
   "execution_count": 17,
   "id": "04f6ffd0",
   "metadata": {},
   "outputs": [],
   "source": [
    "turnover_col = [name for name in list(df) if 'TURNOVER' in name]\n",
    "df_new = df.groupby(['Year','Month'])[turnover_col].sum()\n",
    "df_new = df_new.reset_index()"
   ]
  },
  {
   "cell_type": "code",
   "execution_count": 18,
   "id": "95922d04",
   "metadata": {},
   "outputs": [
    {
     "data": {
      "text/html": [
       "<div>\n",
       "<style scoped>\n",
       "    .dataframe tbody tr th:only-of-type {\n",
       "        vertical-align: middle;\n",
       "    }\n",
       "\n",
       "    .dataframe tbody tr th {\n",
       "        vertical-align: top;\n",
       "    }\n",
       "\n",
       "    .dataframe thead th {\n",
       "        text-align: right;\n",
       "    }\n",
       "</style>\n",
       "<table border=\"1\" class=\"dataframe\">\n",
       "  <thead>\n",
       "    <tr style=\"text-align: right;\">\n",
       "      <th></th>\n",
       "      <th>Year</th>\n",
       "      <th>Month</th>\n",
       "      <th>21Shares ADOT TURNOVER</th>\n",
       "      <th>VanEck VDOT TURNOVER</th>\n",
       "      <th>Valour DOTVA TURNOVER</th>\n",
       "    </tr>\n",
       "  </thead>\n",
       "  <tbody>\n",
       "    <tr>\n",
       "      <th>0</th>\n",
       "      <td>2021</td>\n",
       "      <td>5</td>\n",
       "      <td>0.00</td>\n",
       "      <td>0.0</td>\n",
       "      <td>0.00</td>\n",
       "    </tr>\n",
       "    <tr>\n",
       "      <th>1</th>\n",
       "      <td>2021</td>\n",
       "      <td>6</td>\n",
       "      <td>0.00</td>\n",
       "      <td>0.0</td>\n",
       "      <td>0.00</td>\n",
       "    </tr>\n",
       "    <tr>\n",
       "      <th>2</th>\n",
       "      <td>2021</td>\n",
       "      <td>7</td>\n",
       "      <td>0.00</td>\n",
       "      <td>0.0</td>\n",
       "      <td>0.00</td>\n",
       "    </tr>\n",
       "    <tr>\n",
       "      <th>3</th>\n",
       "      <td>2021</td>\n",
       "      <td>8</td>\n",
       "      <td>0.00</td>\n",
       "      <td>0.0</td>\n",
       "      <td>0.00</td>\n",
       "    </tr>\n",
       "    <tr>\n",
       "      <th>4</th>\n",
       "      <td>2021</td>\n",
       "      <td>9</td>\n",
       "      <td>1850.88</td>\n",
       "      <td>0.0</td>\n",
       "      <td>0.00</td>\n",
       "    </tr>\n",
       "    <tr>\n",
       "      <th>5</th>\n",
       "      <td>2021</td>\n",
       "      <td>10</td>\n",
       "      <td>1094272.54</td>\n",
       "      <td>0.0</td>\n",
       "      <td>268370.14</td>\n",
       "    </tr>\n",
       "    <tr>\n",
       "      <th>6</th>\n",
       "      <td>2021</td>\n",
       "      <td>11</td>\n",
       "      <td>430337.53</td>\n",
       "      <td>0.0</td>\n",
       "      <td>326264.10</td>\n",
       "    </tr>\n",
       "    <tr>\n",
       "      <th>7</th>\n",
       "      <td>2021</td>\n",
       "      <td>12</td>\n",
       "      <td>568134.22</td>\n",
       "      <td>0.0</td>\n",
       "      <td>43695.07</td>\n",
       "    </tr>\n",
       "    <tr>\n",
       "      <th>8</th>\n",
       "      <td>2022</td>\n",
       "      <td>1</td>\n",
       "      <td>1374049.51</td>\n",
       "      <td>0.0</td>\n",
       "      <td>552310.48</td>\n",
       "    </tr>\n",
       "    <tr>\n",
       "      <th>9</th>\n",
       "      <td>2022</td>\n",
       "      <td>2</td>\n",
       "      <td>595302.70</td>\n",
       "      <td>0.0</td>\n",
       "      <td>9533.54</td>\n",
       "    </tr>\n",
       "    <tr>\n",
       "      <th>10</th>\n",
       "      <td>2022</td>\n",
       "      <td>3</td>\n",
       "      <td>487421.71</td>\n",
       "      <td>0.0</td>\n",
       "      <td>661146.48</td>\n",
       "    </tr>\n",
       "    <tr>\n",
       "      <th>11</th>\n",
       "      <td>2022</td>\n",
       "      <td>4</td>\n",
       "      <td>189859.32</td>\n",
       "      <td>0.0</td>\n",
       "      <td>271425.98</td>\n",
       "    </tr>\n",
       "  </tbody>\n",
       "</table>\n",
       "</div>"
      ],
      "text/plain": [
       "    Year  Month  21Shares ADOT TURNOVER  VanEck VDOT TURNOVER  \\\n",
       "0   2021      5                    0.00                   0.0   \n",
       "1   2021      6                    0.00                   0.0   \n",
       "2   2021      7                    0.00                   0.0   \n",
       "3   2021      8                    0.00                   0.0   \n",
       "4   2021      9                 1850.88                   0.0   \n",
       "5   2021     10              1094272.54                   0.0   \n",
       "6   2021     11               430337.53                   0.0   \n",
       "7   2021     12               568134.22                   0.0   \n",
       "8   2022      1              1374049.51                   0.0   \n",
       "9   2022      2               595302.70                   0.0   \n",
       "10  2022      3               487421.71                   0.0   \n",
       "11  2022      4               189859.32                   0.0   \n",
       "\n",
       "    Valour DOTVA TURNOVER  \n",
       "0                    0.00  \n",
       "1                    0.00  \n",
       "2                    0.00  \n",
       "3                    0.00  \n",
       "4                    0.00  \n",
       "5               268370.14  \n",
       "6               326264.10  \n",
       "7                43695.07  \n",
       "8               552310.48  \n",
       "9                 9533.54  \n",
       "10              661146.48  \n",
       "11              271425.98  "
      ]
     },
     "execution_count": 18,
     "metadata": {},
     "output_type": "execute_result"
    }
   ],
   "source": [
    "df_new"
   ]
  },
  {
   "cell_type": "code",
   "execution_count": 19,
   "id": "9af5f996",
   "metadata": {},
   "outputs": [],
   "source": [
    "yr_month = []\n",
    "for _,row in df_new.iterrows():\n",
    "    \n",
    "    yr_month.append(str(row['Year']).split('.')[0]+'_'+dict_mnth[row['Month']])\n",
    "    \n",
    "df_new['yr_month'] = yr_month"
   ]
  },
  {
   "cell_type": "code",
   "execution_count": 20,
   "id": "26cca9d7",
   "metadata": {},
   "outputs": [
    {
     "data": {
      "image/png": "[encoded data removed]",
      "text/plain": [
       "<Figure size 720x360 with 1 Axes>"
      ]
     },
     "metadata": {
      "needs_background": "light"
     },
     "output_type": "display_data"
    }
   ],
   "source": [
    "fig, ax = plt.subplots(figsize=(10,5))\n",
    "# turnover_col = [name for name in list(df_new) if 'TURNOVER' in name]\n",
    "new_name = df_new['yr_month'].iloc[[0,2,4,6,8,10,11]]\n",
    "for col in turnover_col:\n",
    "    ax.plot(list(range(len(df_new))),list(df_new[col]),label=col)\n",
    "ax.set_xticklabels(new_name)\n",
    "plt.legend(bbox_to_anchor=(1.0,1.0))\n",
    "plt.title(\"ENX Paris Polkadot ETPs Turnover\")\n",
    "plt.xlabel(\"Date\")\n",
    "plt.ylabel(\"Sum of Turnover (€)\")\n",
    "plt.savefig(\"parisdot_turnover.png\", bbox_inches = \"tight\")\n",
    "plt.show()"
   ]
  },
  {
   "cell_type": "markdown",
   "id": "5f8e9b1d",
   "metadata": {},
   "source": [
    "# Average bid"
   ]
  },
  {
   "cell_type": "code",
   "execution_count": 21,
   "id": "4c546718",
   "metadata": {},
   "outputs": [],
   "source": [
    "bid_col = [name for name in list(df) if 'AVERAGE_BID' in name]"
   ]
  },
  {
   "cell_type": "code",
   "execution_count": 22,
   "id": "1c5cab6d",
   "metadata": {},
   "outputs": [],
   "source": [
    "df_bid = df.groupby(['Year','Month'])[bid_col].mean()*100\n",
    "df_bid = df_bid.reset_index()"
   ]
  },
  {
   "cell_type": "code",
   "execution_count": 23,
   "id": "9b050088",
   "metadata": {},
   "outputs": [
    {
     "data": {
      "text/html": [
       "<div>\n",
       "<style scoped>\n",
       "    .dataframe tbody tr th:only-of-type {\n",
       "        vertical-align: middle;\n",
       "    }\n",
       "\n",
       "    .dataframe tbody tr th {\n",
       "        vertical-align: top;\n",
       "    }\n",
       "\n",
       "    .dataframe thead th {\n",
       "        text-align: right;\n",
       "    }\n",
       "</style>\n",
       "<table border=\"1\" class=\"dataframe\">\n",
       "  <thead>\n",
       "    <tr style=\"text-align: right;\">\n",
       "      <th></th>\n",
       "      <th>Year</th>\n",
       "      <th>Month</th>\n",
       "      <th>21Shares ADOT AVERAGE_BID</th>\n",
       "      <th>VanEck VDOT AVERAGE_BID</th>\n",
       "      <th>Valour DOTVA AVERAGE_BID</th>\n",
       "    </tr>\n",
       "  </thead>\n",
       "  <tbody>\n",
       "    <tr>\n",
       "      <th>0</th>\n",
       "      <td>2021</td>\n",
       "      <td>5</td>\n",
       "      <td>NaN</td>\n",
       "      <td>NaN</td>\n",
       "      <td>NaN</td>\n",
       "    </tr>\n",
       "    <tr>\n",
       "      <th>1</th>\n",
       "      <td>2021</td>\n",
       "      <td>6</td>\n",
       "      <td>NaN</td>\n",
       "      <td>NaN</td>\n",
       "      <td>NaN</td>\n",
       "    </tr>\n",
       "    <tr>\n",
       "      <th>2</th>\n",
       "      <td>2021</td>\n",
       "      <td>7</td>\n",
       "      <td>NaN</td>\n",
       "      <td>NaN</td>\n",
       "      <td>NaN</td>\n",
       "    </tr>\n",
       "    <tr>\n",
       "      <th>3</th>\n",
       "      <td>2021</td>\n",
       "      <td>8</td>\n",
       "      <td>NaN</td>\n",
       "      <td>NaN</td>\n",
       "      <td>NaN</td>\n",
       "    </tr>\n",
       "    <tr>\n",
       "      <th>4</th>\n",
       "      <td>2021</td>\n",
       "      <td>9</td>\n",
       "      <td>67.545000</td>\n",
       "      <td>NaN</td>\n",
       "      <td>66.358000</td>\n",
       "    </tr>\n",
       "    <tr>\n",
       "      <th>5</th>\n",
       "      <td>2021</td>\n",
       "      <td>10</td>\n",
       "      <td>59.600952</td>\n",
       "      <td>NaN</td>\n",
       "      <td>58.760476</td>\n",
       "    </tr>\n",
       "    <tr>\n",
       "      <th>6</th>\n",
       "      <td>2021</td>\n",
       "      <td>11</td>\n",
       "      <td>69.923636</td>\n",
       "      <td>NaN</td>\n",
       "      <td>60.381818</td>\n",
       "    </tr>\n",
       "    <tr>\n",
       "      <th>7</th>\n",
       "      <td>2021</td>\n",
       "      <td>12</td>\n",
       "      <td>63.900870</td>\n",
       "      <td>NaN</td>\n",
       "      <td>65.062174</td>\n",
       "    </tr>\n",
       "    <tr>\n",
       "      <th>8</th>\n",
       "      <td>2022</td>\n",
       "      <td>1</td>\n",
       "      <td>62.480000</td>\n",
       "      <td>NaN</td>\n",
       "      <td>66.474286</td>\n",
       "    </tr>\n",
       "    <tr>\n",
       "      <th>9</th>\n",
       "      <td>2022</td>\n",
       "      <td>2</td>\n",
       "      <td>68.621500</td>\n",
       "      <td>NaN</td>\n",
       "      <td>67.602500</td>\n",
       "    </tr>\n",
       "    <tr>\n",
       "      <th>10</th>\n",
       "      <td>2022</td>\n",
       "      <td>3</td>\n",
       "      <td>71.803043</td>\n",
       "      <td>NaN</td>\n",
       "      <td>67.874348</td>\n",
       "    </tr>\n",
       "    <tr>\n",
       "      <th>11</th>\n",
       "      <td>2022</td>\n",
       "      <td>4</td>\n",
       "      <td>68.751429</td>\n",
       "      <td>72.854444</td>\n",
       "      <td>65.995238</td>\n",
       "    </tr>\n",
       "  </tbody>\n",
       "</table>\n",
       "</div>"
      ],
      "text/plain": [
       "    Year  Month  21Shares ADOT AVERAGE_BID  VanEck VDOT AVERAGE_BID  \\\n",
       "0   2021      5                        NaN                      NaN   \n",
       "1   2021      6                        NaN                      NaN   \n",
       "2   2021      7                        NaN                      NaN   \n",
       "3   2021      8                        NaN                      NaN   \n",
       "4   2021      9                  67.545000                      NaN   \n",
       "5   2021     10                  59.600952                      NaN   \n",
       "6   2021     11                  69.923636                      NaN   \n",
       "7   2021     12                  63.900870                      NaN   \n",
       "8   2022      1                  62.480000                      NaN   \n",
       "9   2022      2                  68.621500                      NaN   \n",
       "10  2022      3                  71.803043                      NaN   \n",
       "11  2022      4                  68.751429                72.854444   \n",
       "\n",
       "    Valour DOTVA AVERAGE_BID  \n",
       "0                        NaN  \n",
       "1                        NaN  \n",
       "2                        NaN  \n",
       "3                        NaN  \n",
       "4                  66.358000  \n",
       "5                  58.760476  \n",
       "6                  60.381818  \n",
       "7                  65.062174  \n",
       "8                  66.474286  \n",
       "9                  67.602500  \n",
       "10                 67.874348  \n",
       "11                 65.995238  "
      ]
     },
     "execution_count": 23,
     "metadata": {},
     "output_type": "execute_result"
    }
   ],
   "source": [
    "df_bid"
   ]
  },
  {
   "cell_type": "code",
   "execution_count": 24,
   "id": "a5879832",
   "metadata": {},
   "outputs": [],
   "source": [
    "c = ['gold','c','darkgreen','g','b','lightblue','darkblue','brown','grey']"
   ]
  },
  {
   "cell_type": "code",
   "execution_count": 25,
   "id": "3191ff66",
   "metadata": {},
   "outputs": [
    {
     "data": {
      "text/plain": [
       "3"
      ]
     },
     "execution_count": 25,
     "metadata": {},
     "output_type": "execute_result"
    }
   ],
   "source": [
    "len(bid_col)"
   ]
  },
  {
   "cell_type": "code",
   "execution_count": 26,
   "id": "cd6704f8",
   "metadata": {},
   "outputs": [
    {
     "data": {
      "image/png": "[encoded data removed]",
      "text/plain": [
       "<Figure size 720x360 with 1 Axes>"
      ]
     },
     "metadata": {
      "needs_background": "light"
     },
     "output_type": "display_data"
    }
   ],
   "source": [
    "fig, ax = plt.subplots(figsize=(10,5))\n",
    "new_name = df_new['yr_month'].iloc[[0,2,4,6,8,10,11]]\n",
    "for i,col in enumerate(bid_col):\n",
    "    ax.plot(list(range(len(df_bid))),list(df_bid[col]),label=col,color=c[i])\n",
    "ax.set_xticklabels(new_name)\n",
    "plt.legend(bbox_to_anchor=(1.0,1.0))\n",
    "plt.title(\"ENX Paris Polkadot ETPs Average Bid Ask Spread\")\n",
    "plt.xlabel(\"Date\")\n",
    "plt.ylabel(\"Average Bid Ask Spread (bps)\")\n",
    "plt.savefig(\"parisdot_bid_ask.png\", bbox_inches = \"tight\")\n",
    "plt.show()"
   ]
  },
  {
   "cell_type": "code",
   "execution_count": null,
   "id": "f748e489",
   "metadata": {
    "jupyter": {
     "source_hidden": true
    },
    "tags": []
   },
   "outputs": [],
   "source": []
  }
 ],
 "metadata": {
  "kernelspec": {
   "display_name": "Python 3 (ipykernel)",
   "language": "python",
   "name": "python3"
  },
  "language_info": {
   "codemirror_mode": {
    "name": "ipython",
    "version": 3
   },
   "file_extension": ".py",
   "mimetype": "text/x-python",
   "name": "python",
   "nbconvert_exporter": "python",
   "pygments_lexer": "ipython3",
   "version": "3.9.7"
  }
 },
 "nbformat": 4,
 "nbformat_minor": 5
}
