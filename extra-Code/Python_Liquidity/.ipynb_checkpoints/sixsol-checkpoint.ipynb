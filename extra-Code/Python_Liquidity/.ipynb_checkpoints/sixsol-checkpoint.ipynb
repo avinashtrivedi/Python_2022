{
 "cells": [
  {
   "cell_type": "code",
   "execution_count": 1,
   "id": "327c7bce",
   "metadata": {},
   "outputs": [],
   "source": [
    "import pandas as pd\n",
    "import matplotlib.pyplot as plt\n",
    "import warnings\n",
    "warnings.filterwarnings('ignore')"
   ]
  },
  {
   "cell_type": "code",
   "execution_count": 2,
   "id": "e2faaa92",
   "metadata": {},
   "outputs": [],
   "source": [
    "df = pd.read_excel('pc.xlsx',sheet_name='SIX Solana ETPs')"
   ]
  },
  {
   "cell_type": "code",
   "execution_count": 3,
   "id": "7ce28bb7",
   "metadata": {},
   "outputs": [
    {
     "data": {
      "text/plain": [
       "[nan, 'ASOL SE Equity', nan, 'ESOL SE Equity', nan, 'VSOL SE Equity', nan]"
      ]
     },
     "execution_count": 3,
     "metadata": {},
     "output_type": "execute_result"
    }
   ],
   "source": [
    "list(df.iloc[0])"
   ]
  },
  {
   "cell_type": "code",
   "execution_count": 4,
   "id": "9cab76cb",
   "metadata": {},
   "outputs": [
    {
     "data": {
      "text/plain": [
       "['Dates',\n",
       " 'TURNOVER',\n",
       " 'AVERAGE_BID_ASK_SPREAD_%',\n",
       " 'TURNOVER',\n",
       " 'AVERAGE_BID_ASK_SPREAD_%',\n",
       " 'TURNOVER',\n",
       " 'AVERAGE_BID_ASK_SPREAD_%']"
      ]
     },
     "execution_count": 4,
     "metadata": {},
     "output_type": "execute_result"
    }
   ],
   "source": [
    "list(df.iloc[1])"
   ]
  },
  {
   "cell_type": "code",
   "execution_count": 5,
   "id": "43fb58e8",
   "metadata": {},
   "outputs": [],
   "source": [
    "col = ['Dates',\n",
    " '21Shares ASOL TURNOVER',\n",
    " '21Shares ASOL AVERAGE_BID',\n",
    " 'ETC Group ESOL TURNOVER',\n",
    " 'ETC Group ESOL AVERAGE_BID',\n",
    " 'VanEck VSOL TURNOVER',\n",
    " 'VanEck VSOL AVERAGE_BID']"
   ]
  },
  {
   "cell_type": "code",
   "execution_count": 6,
   "id": "994ed63d",
   "metadata": {},
   "outputs": [],
   "source": [
    "df.columns = col"
   ]
  },
  {
   "cell_type": "code",
   "execution_count": 7,
   "id": "24a52220",
   "metadata": {},
   "outputs": [],
   "source": [
    "df = df.iloc[2:262]"
   ]
  },
  {
   "cell_type": "code",
   "execution_count": 8,
   "id": "79cce7ad",
   "metadata": {},
   "outputs": [],
   "source": [
    "df.reset_index(drop=True,inplace=True)"
   ]
  },
  {
   "cell_type": "code",
   "execution_count": 9,
   "id": "883efb06",
   "metadata": {},
   "outputs": [
    {
     "data": {
      "text/html": [
       "<div>\n",
       "<style scoped>\n",
       "    .dataframe tbody tr th:only-of-type {\n",
       "        vertical-align: middle;\n",
       "    }\n",
       "\n",
       "    .dataframe tbody tr th {\n",
       "        vertical-align: top;\n",
       "    }\n",
       "\n",
       "    .dataframe thead th {\n",
       "        text-align: right;\n",
       "    }\n",
       "</style>\n",
       "<table border=\"1\" class=\"dataframe\">\n",
       "  <thead>\n",
       "    <tr style=\"text-align: right;\">\n",
       "      <th></th>\n",
       "      <th>Dates</th>\n",
       "      <th>21Shares ASOL TURNOVER</th>\n",
       "      <th>21Shares ASOL AVERAGE_BID</th>\n",
       "      <th>ETC Group ESOL TURNOVER</th>\n",
       "      <th>ETC Group ESOL AVERAGE_BID</th>\n",
       "      <th>VanEck VSOL TURNOVER</th>\n",
       "      <th>VanEck VSOL AVERAGE_BID</th>\n",
       "    </tr>\n",
       "  </thead>\n",
       "  <tbody>\n",
       "    <tr>\n",
       "      <th>0</th>\n",
       "      <td>2021-05-03 00:00:00</td>\n",
       "      <td>NaN</td>\n",
       "      <td>NaN</td>\n",
       "      <td>NaN</td>\n",
       "      <td>NaN</td>\n",
       "      <td>NaN</td>\n",
       "      <td>NaN</td>\n",
       "    </tr>\n",
       "    <tr>\n",
       "      <th>1</th>\n",
       "      <td>2021-05-04 00:00:00</td>\n",
       "      <td>NaN</td>\n",
       "      <td>NaN</td>\n",
       "      <td>NaN</td>\n",
       "      <td>NaN</td>\n",
       "      <td>NaN</td>\n",
       "      <td>NaN</td>\n",
       "    </tr>\n",
       "    <tr>\n",
       "      <th>2</th>\n",
       "      <td>2021-05-05 00:00:00</td>\n",
       "      <td>NaN</td>\n",
       "      <td>NaN</td>\n",
       "      <td>NaN</td>\n",
       "      <td>NaN</td>\n",
       "      <td>NaN</td>\n",
       "      <td>NaN</td>\n",
       "    </tr>\n",
       "    <tr>\n",
       "      <th>3</th>\n",
       "      <td>2021-05-06 00:00:00</td>\n",
       "      <td>NaN</td>\n",
       "      <td>NaN</td>\n",
       "      <td>NaN</td>\n",
       "      <td>NaN</td>\n",
       "      <td>NaN</td>\n",
       "      <td>NaN</td>\n",
       "    </tr>\n",
       "    <tr>\n",
       "      <th>4</th>\n",
       "      <td>2021-05-07 00:00:00</td>\n",
       "      <td>NaN</td>\n",
       "      <td>NaN</td>\n",
       "      <td>NaN</td>\n",
       "      <td>NaN</td>\n",
       "      <td>NaN</td>\n",
       "      <td>NaN</td>\n",
       "    </tr>\n",
       "    <tr>\n",
       "      <th>...</th>\n",
       "      <td>...</td>\n",
       "      <td>...</td>\n",
       "      <td>...</td>\n",
       "      <td>...</td>\n",
       "      <td>...</td>\n",
       "      <td>...</td>\n",
       "      <td>...</td>\n",
       "    </tr>\n",
       "    <tr>\n",
       "      <th>255</th>\n",
       "      <td>2022-04-25 00:00:00</td>\n",
       "      <td>761307.9</td>\n",
       "      <td>0.3633</td>\n",
       "      <td>1022.05</td>\n",
       "      <td>0.6777</td>\n",
       "      <td>4531.2</td>\n",
       "      <td>0.6284</td>\n",
       "    </tr>\n",
       "    <tr>\n",
       "      <th>256</th>\n",
       "      <td>2022-04-26 00:00:00</td>\n",
       "      <td>199044.1</td>\n",
       "      <td>0.3409</td>\n",
       "      <td>1022.05</td>\n",
       "      <td>0.5985</td>\n",
       "      <td>4531.2</td>\n",
       "      <td>0.4909</td>\n",
       "    </tr>\n",
       "    <tr>\n",
       "      <th>257</th>\n",
       "      <td>2022-04-27 00:00:00</td>\n",
       "      <td>159171.6</td>\n",
       "      <td>0.3499</td>\n",
       "      <td>1022.05</td>\n",
       "      <td>0.6161</td>\n",
       "      <td>4531.2</td>\n",
       "      <td>0.5474</td>\n",
       "    </tr>\n",
       "    <tr>\n",
       "      <th>258</th>\n",
       "      <td>2022-04-28 00:00:00</td>\n",
       "      <td>290047.9</td>\n",
       "      <td>0.3401</td>\n",
       "      <td>1022.05</td>\n",
       "      <td>0.6665</td>\n",
       "      <td>4531.2</td>\n",
       "      <td>0.5746</td>\n",
       "    </tr>\n",
       "    <tr>\n",
       "      <th>259</th>\n",
       "      <td>2022-04-29 00:00:00</td>\n",
       "      <td>105675.6</td>\n",
       "      <td>0.3326</td>\n",
       "      <td>1022.05</td>\n",
       "      <td>0.6533</td>\n",
       "      <td>4531.2</td>\n",
       "      <td>0.582</td>\n",
       "    </tr>\n",
       "  </tbody>\n",
       "</table>\n",
       "<p>260 rows × 7 columns</p>\n",
       "</div>"
      ],
      "text/plain": [
       "                   Dates 21Shares ASOL TURNOVER 21Shares ASOL AVERAGE_BID  \\\n",
       "0    2021-05-03 00:00:00                    NaN                       NaN   \n",
       "1    2021-05-04 00:00:00                    NaN                       NaN   \n",
       "2    2021-05-05 00:00:00                    NaN                       NaN   \n",
       "3    2021-05-06 00:00:00                    NaN                       NaN   \n",
       "4    2021-05-07 00:00:00                    NaN                       NaN   \n",
       "..                   ...                    ...                       ...   \n",
       "255  2022-04-25 00:00:00               761307.9                    0.3633   \n",
       "256  2022-04-26 00:00:00               199044.1                    0.3409   \n",
       "257  2022-04-27 00:00:00               159171.6                    0.3499   \n",
       "258  2022-04-28 00:00:00               290047.9                    0.3401   \n",
       "259  2022-04-29 00:00:00               105675.6                    0.3326   \n",
       "\n",
       "    ETC Group ESOL TURNOVER ETC Group ESOL AVERAGE_BID VanEck VSOL TURNOVER  \\\n",
       "0                       NaN                        NaN                  NaN   \n",
       "1                       NaN                        NaN                  NaN   \n",
       "2                       NaN                        NaN                  NaN   \n",
       "3                       NaN                        NaN                  NaN   \n",
       "4                       NaN                        NaN                  NaN   \n",
       "..                      ...                        ...                  ...   \n",
       "255                 1022.05                     0.6777               4531.2   \n",
       "256                 1022.05                     0.5985               4531.2   \n",
       "257                 1022.05                     0.6161               4531.2   \n",
       "258                 1022.05                     0.6665               4531.2   \n",
       "259                 1022.05                     0.6533               4531.2   \n",
       "\n",
       "    VanEck VSOL AVERAGE_BID  \n",
       "0                       NaN  \n",
       "1                       NaN  \n",
       "2                       NaN  \n",
       "3                       NaN  \n",
       "4                       NaN  \n",
       "..                      ...  \n",
       "255                  0.6284  \n",
       "256                  0.4909  \n",
       "257                  0.5474  \n",
       "258                  0.5746  \n",
       "259                   0.582  \n",
       "\n",
       "[260 rows x 7 columns]"
      ]
     },
     "execution_count": 9,
     "metadata": {},
     "output_type": "execute_result"
    }
   ],
   "source": [
    "df"
   ]
  },
  {
   "cell_type": "code",
   "execution_count": 10,
   "id": "3c949204",
   "metadata": {},
   "outputs": [
    {
     "data": {
      "text/plain": [
       "Dates                           0\n",
       "21Shares ASOL TURNOVER         42\n",
       "21Shares ASOL AVERAGE_BID      42\n",
       "ETC Group ESOL TURNOVER       200\n",
       "ETC Group ESOL AVERAGE_BID    187\n",
       "VanEck VSOL TURNOVER          107\n",
       "VanEck VSOL AVERAGE_BID       107\n",
       "dtype: int64"
      ]
     },
     "execution_count": 10,
     "metadata": {},
     "output_type": "execute_result"
    }
   ],
   "source": [
    "df.isna().sum()"
   ]
  },
  {
   "cell_type": "code",
   "execution_count": 11,
   "id": "46aba1a1",
   "metadata": {},
   "outputs": [],
   "source": [
    "df['Dates'] = pd.to_datetime(df['Dates'])"
   ]
  },
  {
   "cell_type": "code",
   "execution_count": 12,
   "id": "c8a4c96c",
   "metadata": {},
   "outputs": [
    {
     "data": {
      "text/plain": [
       "Dates                         datetime64[ns]\n",
       "21Shares ASOL TURNOVER                object\n",
       "21Shares ASOL AVERAGE_BID             object\n",
       "ETC Group ESOL TURNOVER               object\n",
       "ETC Group ESOL AVERAGE_BID            object\n",
       "VanEck VSOL TURNOVER                  object\n",
       "VanEck VSOL AVERAGE_BID               object\n",
       "dtype: object"
      ]
     },
     "execution_count": 12,
     "metadata": {},
     "output_type": "execute_result"
    }
   ],
   "source": [
    "df.dtypes"
   ]
  },
  {
   "cell_type": "code",
   "execution_count": 13,
   "id": "ad3c5df7",
   "metadata": {},
   "outputs": [],
   "source": [
    "for col in list(df)[1:]:\n",
    "    df[col] = df[col].astype('float')"
   ]
  },
  {
   "cell_type": "code",
   "execution_count": 14,
   "id": "9ea0421b",
   "metadata": {},
   "outputs": [
    {
     "data": {
      "text/plain": [
       "Dates                         datetime64[ns]\n",
       "21Shares ASOL TURNOVER               float64\n",
       "21Shares ASOL AVERAGE_BID            float64\n",
       "ETC Group ESOL TURNOVER              float64\n",
       "ETC Group ESOL AVERAGE_BID           float64\n",
       "VanEck VSOL TURNOVER                 float64\n",
       "VanEck VSOL AVERAGE_BID              float64\n",
       "dtype: object"
      ]
     },
     "execution_count": 14,
     "metadata": {},
     "output_type": "execute_result"
    }
   ],
   "source": [
    "df.dtypes"
   ]
  },
  {
   "cell_type": "code",
   "execution_count": 15,
   "id": "fd881a47",
   "metadata": {},
   "outputs": [],
   "source": [
    "df['Year'] = df['Dates'].dt.year \n",
    "df['Month'] = df['Dates'].dt.month "
   ]
  },
  {
   "cell_type": "code",
   "execution_count": 16,
   "id": "972d7c72",
   "metadata": {},
   "outputs": [],
   "source": [
    "dict_mnth = {\n",
    "    1:'JAN',\n",
    "    2:'FEB',\n",
    "    3: 'MARCH',\n",
    "    4: 'APRIL',\n",
    "    5: 'MAY',\n",
    "    6: 'JUNE',\n",
    "    7: 'JULY',\n",
    "    8: 'AUG',\n",
    "    9: 'SEP',\n",
    "    10: 'OCT',\n",
    "    11: 'NOV',\n",
    "    12: 'DEC'\n",
    "}"
   ]
  },
  {
   "cell_type": "markdown",
   "id": "250b8385",
   "metadata": {},
   "source": [
    "# Turnover"
   ]
  },
  {
   "cell_type": "code",
   "execution_count": 17,
   "id": "04f6ffd0",
   "metadata": {},
   "outputs": [],
   "source": [
    "turnover_col = [name for name in list(df) if 'TURNOVER' in name]\n",
    "df_new = df.groupby(['Year','Month'])[turnover_col].sum()\n",
    "df_new = df_new.reset_index()"
   ]
  },
  {
   "cell_type": "code",
   "execution_count": 18,
   "id": "95922d04",
   "metadata": {},
   "outputs": [
    {
     "data": {
      "text/html": [
       "<div>\n",
       "<style scoped>\n",
       "    .dataframe tbody tr th:only-of-type {\n",
       "        vertical-align: middle;\n",
       "    }\n",
       "\n",
       "    .dataframe tbody tr th {\n",
       "        vertical-align: top;\n",
       "    }\n",
       "\n",
       "    .dataframe thead th {\n",
       "        text-align: right;\n",
       "    }\n",
       "</style>\n",
       "<table border=\"1\" class=\"dataframe\">\n",
       "  <thead>\n",
       "    <tr style=\"text-align: right;\">\n",
       "      <th></th>\n",
       "      <th>Year</th>\n",
       "      <th>Month</th>\n",
       "      <th>21Shares ASOL TURNOVER</th>\n",
       "      <th>ETC Group ESOL TURNOVER</th>\n",
       "      <th>VanEck VSOL TURNOVER</th>\n",
       "    </tr>\n",
       "  </thead>\n",
       "  <tbody>\n",
       "    <tr>\n",
       "      <th>0</th>\n",
       "      <td>2021</td>\n",
       "      <td>5</td>\n",
       "      <td>0.000000e+00</td>\n",
       "      <td>0.00</td>\n",
       "      <td>0.00</td>\n",
       "    </tr>\n",
       "    <tr>\n",
       "      <th>1</th>\n",
       "      <td>2021</td>\n",
       "      <td>6</td>\n",
       "      <td>3.854217e+05</td>\n",
       "      <td>0.00</td>\n",
       "      <td>0.00</td>\n",
       "    </tr>\n",
       "    <tr>\n",
       "      <th>2</th>\n",
       "      <td>2021</td>\n",
       "      <td>7</td>\n",
       "      <td>2.334415e+06</td>\n",
       "      <td>0.00</td>\n",
       "      <td>0.00</td>\n",
       "    </tr>\n",
       "    <tr>\n",
       "      <th>3</th>\n",
       "      <td>2021</td>\n",
       "      <td>8</td>\n",
       "      <td>3.148635e+07</td>\n",
       "      <td>0.00</td>\n",
       "      <td>0.00</td>\n",
       "    </tr>\n",
       "    <tr>\n",
       "      <th>4</th>\n",
       "      <td>2021</td>\n",
       "      <td>9</td>\n",
       "      <td>1.574623e+08</td>\n",
       "      <td>0.00</td>\n",
       "      <td>39035.00</td>\n",
       "    </tr>\n",
       "    <tr>\n",
       "      <th>5</th>\n",
       "      <td>2021</td>\n",
       "      <td>10</td>\n",
       "      <td>7.027128e+07</td>\n",
       "      <td>0.00</td>\n",
       "      <td>2394480.07</td>\n",
       "    </tr>\n",
       "    <tr>\n",
       "      <th>6</th>\n",
       "      <td>2021</td>\n",
       "      <td>11</td>\n",
       "      <td>9.143805e+07</td>\n",
       "      <td>0.00</td>\n",
       "      <td>904308.60</td>\n",
       "    </tr>\n",
       "    <tr>\n",
       "      <th>7</th>\n",
       "      <td>2021</td>\n",
       "      <td>12</td>\n",
       "      <td>5.456301e+07</td>\n",
       "      <td>0.00</td>\n",
       "      <td>572418.41</td>\n",
       "    </tr>\n",
       "    <tr>\n",
       "      <th>8</th>\n",
       "      <td>2022</td>\n",
       "      <td>1</td>\n",
       "      <td>2.968383e+07</td>\n",
       "      <td>0.00</td>\n",
       "      <td>1238255.44</td>\n",
       "    </tr>\n",
       "    <tr>\n",
       "      <th>9</th>\n",
       "      <td>2022</td>\n",
       "      <td>2</td>\n",
       "      <td>3.156193e+07</td>\n",
       "      <td>19132.80</td>\n",
       "      <td>1780582.94</td>\n",
       "    </tr>\n",
       "    <tr>\n",
       "      <th>10</th>\n",
       "      <td>2022</td>\n",
       "      <td>3</td>\n",
       "      <td>1.266789e+07</td>\n",
       "      <td>26167.00</td>\n",
       "      <td>510773.99</td>\n",
       "    </tr>\n",
       "    <tr>\n",
       "      <th>11</th>\n",
       "      <td>2022</td>\n",
       "      <td>4</td>\n",
       "      <td>1.562456e+07</td>\n",
       "      <td>21463.05</td>\n",
       "      <td>93078.83</td>\n",
       "    </tr>\n",
       "  </tbody>\n",
       "</table>\n",
       "</div>"
      ],
      "text/plain": [
       "    Year  Month  21Shares ASOL TURNOVER  ETC Group ESOL TURNOVER  \\\n",
       "0   2021      5            0.000000e+00                     0.00   \n",
       "1   2021      6            3.854217e+05                     0.00   \n",
       "2   2021      7            2.334415e+06                     0.00   \n",
       "3   2021      8            3.148635e+07                     0.00   \n",
       "4   2021      9            1.574623e+08                     0.00   \n",
       "5   2021     10            7.027128e+07                     0.00   \n",
       "6   2021     11            9.143805e+07                     0.00   \n",
       "7   2021     12            5.456301e+07                     0.00   \n",
       "8   2022      1            2.968383e+07                     0.00   \n",
       "9   2022      2            3.156193e+07                 19132.80   \n",
       "10  2022      3            1.266789e+07                 26167.00   \n",
       "11  2022      4            1.562456e+07                 21463.05   \n",
       "\n",
       "    VanEck VSOL TURNOVER  \n",
       "0                   0.00  \n",
       "1                   0.00  \n",
       "2                   0.00  \n",
       "3                   0.00  \n",
       "4               39035.00  \n",
       "5             2394480.07  \n",
       "6              904308.60  \n",
       "7              572418.41  \n",
       "8             1238255.44  \n",
       "9             1780582.94  \n",
       "10             510773.99  \n",
       "11              93078.83  "
      ]
     },
     "execution_count": 18,
     "metadata": {},
     "output_type": "execute_result"
    }
   ],
   "source": [
    "df_new"
   ]
  },
  {
   "cell_type": "code",
   "execution_count": 19,
   "id": "9af5f996",
   "metadata": {},
   "outputs": [],
   "source": [
    "yr_month = []\n",
    "for _,row in df_new.iterrows():\n",
    "    \n",
    "    yr_month.append(str(row['Year']).split('.')[0]+'_'+dict_mnth[row['Month']])\n",
    "    \n",
    "df_new['yr_month'] = yr_month"
   ]
  },
  {
   "cell_type": "code",
   "execution_count": 20,
   "id": "26cca9d7",
   "metadata": {},
   "outputs": [
    {
     "data": {
      "image/png": "[encoded data removed]",
      "text/plain": [
       "<Figure size 720x360 with 1 Axes>"
      ]
     },
     "metadata": {
      "needs_background": "light"
     },
     "output_type": "display_data"
    }
   ],
   "source": [
    "fig, ax = plt.subplots(figsize=(10,5))\n",
    "# turnover_col = [name for name in list(df_new) if 'TURNOVER' in name]\n",
    "new_name = df_new['yr_month'].iloc[[0,2,4,6,8,10,11]]\n",
    "for col in turnover_col:\n",
    "    ax.plot(list(range(len(df_new))),list(df_new[col]),label=col)\n",
    "ax.set_xticklabels(new_name)\n",
    "plt.legend(bbox_to_anchor=(1.0,1.0))\n",
    "plt.title(\"SIX Solana ETPs Turnover\")\n",
    "plt.xlabel(\"Date\")\n",
    "plt.ylabel(\"Sum of Turnover (€)\")\n",
    "plt.savefig(\"sixsol_turnover.png\", bbox_inches = \"tight\")\n",
    "plt.show()"
   ]
  },
  {
   "cell_type": "markdown",
   "id": "5f8e9b1d",
   "metadata": {},
   "source": [
    "# Average bid"
   ]
  },
  {
   "cell_type": "code",
   "execution_count": 21,
   "id": "4c546718",
   "metadata": {},
   "outputs": [],
   "source": [
    "bid_col = [name for name in list(df) if 'AVERAGE_BID' in name]"
   ]
  },
  {
   "cell_type": "code",
   "execution_count": 22,
   "id": "1c5cab6d",
   "metadata": {},
   "outputs": [],
   "source": [
    "df_bid = df.groupby(['Year','Month'])[bid_col].mean()*100\n",
    "df_bid = df_bid.reset_index()"
   ]
  },
  {
   "cell_type": "code",
   "execution_count": 23,
   "id": "9b050088",
   "metadata": {},
   "outputs": [
    {
     "data": {
      "text/html": [
       "<div>\n",
       "<style scoped>\n",
       "    .dataframe tbody tr th:only-of-type {\n",
       "        vertical-align: middle;\n",
       "    }\n",
       "\n",
       "    .dataframe tbody tr th {\n",
       "        vertical-align: top;\n",
       "    }\n",
       "\n",
       "    .dataframe thead th {\n",
       "        text-align: right;\n",
       "    }\n",
       "</style>\n",
       "<table border=\"1\" class=\"dataframe\">\n",
       "  <thead>\n",
       "    <tr style=\"text-align: right;\">\n",
       "      <th></th>\n",
       "      <th>Year</th>\n",
       "      <th>Month</th>\n",
       "      <th>21Shares ASOL AVERAGE_BID</th>\n",
       "      <th>ETC Group ESOL AVERAGE_BID</th>\n",
       "      <th>VanEck VSOL AVERAGE_BID</th>\n",
       "    </tr>\n",
       "  </thead>\n",
       "  <tbody>\n",
       "    <tr>\n",
       "      <th>0</th>\n",
       "      <td>2021</td>\n",
       "      <td>5</td>\n",
       "      <td>NaN</td>\n",
       "      <td>NaN</td>\n",
       "      <td>NaN</td>\n",
       "    </tr>\n",
       "    <tr>\n",
       "      <th>1</th>\n",
       "      <td>2021</td>\n",
       "      <td>6</td>\n",
       "      <td>73.200000</td>\n",
       "      <td>NaN</td>\n",
       "      <td>NaN</td>\n",
       "    </tr>\n",
       "    <tr>\n",
       "      <th>2</th>\n",
       "      <td>2021</td>\n",
       "      <td>7</td>\n",
       "      <td>61.880909</td>\n",
       "      <td>NaN</td>\n",
       "      <td>NaN</td>\n",
       "    </tr>\n",
       "    <tr>\n",
       "      <th>3</th>\n",
       "      <td>2021</td>\n",
       "      <td>8</td>\n",
       "      <td>59.532727</td>\n",
       "      <td>NaN</td>\n",
       "      <td>NaN</td>\n",
       "    </tr>\n",
       "    <tr>\n",
       "      <th>4</th>\n",
       "      <td>2021</td>\n",
       "      <td>9</td>\n",
       "      <td>69.256364</td>\n",
       "      <td>NaN</td>\n",
       "      <td>52.000000</td>\n",
       "    </tr>\n",
       "    <tr>\n",
       "      <th>5</th>\n",
       "      <td>2021</td>\n",
       "      <td>10</td>\n",
       "      <td>59.042381</td>\n",
       "      <td>NaN</td>\n",
       "      <td>55.841905</td>\n",
       "    </tr>\n",
       "    <tr>\n",
       "      <th>6</th>\n",
       "      <td>2021</td>\n",
       "      <td>11</td>\n",
       "      <td>70.270909</td>\n",
       "      <td>NaN</td>\n",
       "      <td>65.622273</td>\n",
       "    </tr>\n",
       "    <tr>\n",
       "      <th>7</th>\n",
       "      <td>2021</td>\n",
       "      <td>12</td>\n",
       "      <td>63.567391</td>\n",
       "      <td>NaN</td>\n",
       "      <td>54.830000</td>\n",
       "    </tr>\n",
       "    <tr>\n",
       "      <th>8</th>\n",
       "      <td>2022</td>\n",
       "      <td>1</td>\n",
       "      <td>59.884286</td>\n",
       "      <td>65.365556</td>\n",
       "      <td>55.776190</td>\n",
       "    </tr>\n",
       "    <tr>\n",
       "      <th>9</th>\n",
       "      <td>2022</td>\n",
       "      <td>2</td>\n",
       "      <td>57.451500</td>\n",
       "      <td>66.626000</td>\n",
       "      <td>62.154500</td>\n",
       "    </tr>\n",
       "    <tr>\n",
       "      <th>10</th>\n",
       "      <td>2022</td>\n",
       "      <td>3</td>\n",
       "      <td>42.802609</td>\n",
       "      <td>65.068261</td>\n",
       "      <td>63.705652</td>\n",
       "    </tr>\n",
       "    <tr>\n",
       "      <th>11</th>\n",
       "      <td>2022</td>\n",
       "      <td>4</td>\n",
       "      <td>35.265238</td>\n",
       "      <td>63.888571</td>\n",
       "      <td>58.852381</td>\n",
       "    </tr>\n",
       "  </tbody>\n",
       "</table>\n",
       "</div>"
      ],
      "text/plain": [
       "    Year  Month  21Shares ASOL AVERAGE_BID  ETC Group ESOL AVERAGE_BID  \\\n",
       "0   2021      5                        NaN                         NaN   \n",
       "1   2021      6                  73.200000                         NaN   \n",
       "2   2021      7                  61.880909                         NaN   \n",
       "3   2021      8                  59.532727                         NaN   \n",
       "4   2021      9                  69.256364                         NaN   \n",
       "5   2021     10                  59.042381                         NaN   \n",
       "6   2021     11                  70.270909                         NaN   \n",
       "7   2021     12                  63.567391                         NaN   \n",
       "8   2022      1                  59.884286                   65.365556   \n",
       "9   2022      2                  57.451500                   66.626000   \n",
       "10  2022      3                  42.802609                   65.068261   \n",
       "11  2022      4                  35.265238                   63.888571   \n",
       "\n",
       "    VanEck VSOL AVERAGE_BID  \n",
       "0                       NaN  \n",
       "1                       NaN  \n",
       "2                       NaN  \n",
       "3                       NaN  \n",
       "4                 52.000000  \n",
       "5                 55.841905  \n",
       "6                 65.622273  \n",
       "7                 54.830000  \n",
       "8                 55.776190  \n",
       "9                 62.154500  \n",
       "10                63.705652  \n",
       "11                58.852381  "
      ]
     },
     "execution_count": 23,
     "metadata": {},
     "output_type": "execute_result"
    }
   ],
   "source": [
    "df_bid"
   ]
  },
  {
   "cell_type": "code",
   "execution_count": 24,
   "id": "a5879832",
   "metadata": {},
   "outputs": [],
   "source": [
    "c = ['gold','c','darkgreen','g','b','lightblue','darkblue','brown','grey']"
   ]
  },
  {
   "cell_type": "code",
   "execution_count": 25,
   "id": "3191ff66",
   "metadata": {},
   "outputs": [
    {
     "data": {
      "text/plain": [
       "3"
      ]
     },
     "execution_count": 25,
     "metadata": {},
     "output_type": "execute_result"
    }
   ],
   "source": [
    "len(bid_col)"
   ]
  },
  {
   "cell_type": "code",
   "execution_count": 26,
   "id": "cd6704f8",
   "metadata": {},
   "outputs": [
    {
     "data": {
      "image/png": "[encoded data removed]",
      "text/plain": [
       "<Figure size 720x360 with 1 Axes>"
      ]
     },
     "metadata": {
      "needs_background": "light"
     },
     "output_type": "display_data"
    }
   ],
   "source": [
    "fig, ax = plt.subplots(figsize=(10,5))\n",
    "new_name = df_new['yr_month'].iloc[[0,2,4,6,8,10,11]]\n",
    "for i,col in enumerate(bid_col):\n",
    "    ax.plot(list(range(len(df_bid))),list(df_bid[col]),label=col,color=c[i])\n",
    "ax.set_xticklabels(new_name)\n",
    "plt.legend(bbox_to_anchor=(1.0,1.0))\n",
    "plt.title(\"SIX Solana ETPs Average Bid Ask Spread\")\n",
    "plt.xlabel(\"Date\")\n",
    "plt.ylabel(\"Average Bid Ask Spread (bps)\")\n",
    "plt.ylim([0,100])\n",
    "plt.savefig(\"sixsol_bid_ask.png\")\n",
    "plt.show()"
   ]
  },
  {
   "cell_type": "code",
   "execution_count": null,
   "id": "f748e489",
   "metadata": {},
   "outputs": [],
   "source": []
  }
 ],
 "metadata": {
  "kernelspec": {
   "display_name": "Python 3 (ipykernel)",
   "language": "python",
   "name": "python3"
  },
  "language_info": {
   "codemirror_mode": {
    "name": "ipython",
    "version": 3
   },
   "file_extension": ".py",
   "mimetype": "text/x-python",
   "name": "python",
   "nbconvert_exporter": "python",
   "pygments_lexer": "ipython3",
   "version": "3.9.7"
  }
 },
 "nbformat": 4,
 "nbformat_minor": 5
}
