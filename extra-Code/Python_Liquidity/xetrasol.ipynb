{
 "cells": [
  {
   "cell_type": "code",
   "execution_count": 1,
   "id": "327c7bce",
   "metadata": {},
   "outputs": [],
   "source": [
    "import pandas as pd\n",
    "import matplotlib.pyplot as plt\n",
    "import warnings\n",
    "warnings.filterwarnings('ignore')"
   ]
  },
  {
   "cell_type": "code",
   "execution_count": 2,
   "id": "e2faaa92",
   "metadata": {},
   "outputs": [],
   "source": [
    "df = pd.read_excel('pc.xlsx',sheet_name='Xetra Solana ETPs')"
   ]
  },
  {
   "cell_type": "code",
   "execution_count": 3,
   "id": "7ce28bb7",
   "metadata": {},
   "outputs": [
    {
     "data": {
      "text/plain": [
       "[nan,\n",
       " 'ASOL GY Equity',\n",
       " nan,\n",
       " 'ESOL GY Equity',\n",
       " nan,\n",
       " 'VS0L GY Equity',\n",
       " nan,\n",
       " 'TSOL GY Equity',\n",
       " nan]"
      ]
     },
     "execution_count": 3,
     "metadata": {},
     "output_type": "execute_result"
    }
   ],
   "source": [
    "list(df.iloc[0])"
   ]
  },
  {
   "cell_type": "code",
   "execution_count": 4,
   "id": "9cab76cb",
   "metadata": {},
   "outputs": [
    {
     "data": {
      "text/plain": [
       "['Dates',\n",
       " 'TURNOVER',\n",
       " 'AVERAGE_BID_ASK_SPREAD_%',\n",
       " 'TURNOVER',\n",
       " 'AVERAGE_BID_ASK_SPREAD_%',\n",
       " 'TURNOVER',\n",
       " 'AVERAGE_BID_ASK_SPREAD_%',\n",
       " 'TURNOVER',\n",
       " 'AVERAGE_BID_ASK_SPREAD_%']"
      ]
     },
     "execution_count": 4,
     "metadata": {},
     "output_type": "execute_result"
    }
   ],
   "source": [
    "list(df.iloc[1])"
   ]
  },
  {
   "cell_type": "code",
   "execution_count": 5,
   "id": "43fb58e8",
   "metadata": {},
   "outputs": [],
   "source": [
    "col = ['Dates',\n",
    " '21Shares ASOL TURNOVER',\n",
    " '21Shares ASOL AVERAGE_BID',\n",
    " 'ETC Group ESOL TURNOVER',\n",
    " 'ETC Group ESOL AVERAGE_BID',\n",
    " 'VanEck VSOL TURNOVER',\n",
    " 'VanEck VSOL AVERAGE_BID',\n",
    " 'Bitpanda TSOL TURNOVER',\n",
    " 'Bitpanda TSOL AVERAGE_BID']"
   ]
  },
  {
   "cell_type": "code",
   "execution_count": 6,
   "id": "994ed63d",
   "metadata": {},
   "outputs": [],
   "source": [
    "df.columns = col"
   ]
  },
  {
   "cell_type": "code",
   "execution_count": 7,
   "id": "24a52220",
   "metadata": {},
   "outputs": [],
   "source": [
    "df = df.iloc[2:262]"
   ]
  },
  {
   "cell_type": "code",
   "execution_count": 8,
   "id": "79cce7ad",
   "metadata": {},
   "outputs": [],
   "source": [
    "df.reset_index(drop=True,inplace=True)"
   ]
  },
  {
   "cell_type": "code",
   "execution_count": 9,
   "id": "883efb06",
   "metadata": {},
   "outputs": [
    {
     "data": {
      "text/html": [
       "<div>\n",
       "<style scoped>\n",
       "    .dataframe tbody tr th:only-of-type {\n",
       "        vertical-align: middle;\n",
       "    }\n",
       "\n",
       "    .dataframe tbody tr th {\n",
       "        vertical-align: top;\n",
       "    }\n",
       "\n",
       "    .dataframe thead th {\n",
       "        text-align: right;\n",
       "    }\n",
       "</style>\n",
       "<table border=\"1\" class=\"dataframe\">\n",
       "  <thead>\n",
       "    <tr style=\"text-align: right;\">\n",
       "      <th></th>\n",
       "      <th>Dates</th>\n",
       "      <th>21Shares ASOL TURNOVER</th>\n",
       "      <th>21Shares ASOL AVERAGE_BID</th>\n",
       "      <th>ETC Group ESOL TURNOVER</th>\n",
       "      <th>ETC Group ESOL AVERAGE_BID</th>\n",
       "      <th>VanEck VSOL TURNOVER</th>\n",
       "      <th>VanEck VSOL AVERAGE_BID</th>\n",
       "      <th>Bitpanda TSOL TURNOVER</th>\n",
       "      <th>Bitpanda TSOL AVERAGE_BID</th>\n",
       "    </tr>\n",
       "  </thead>\n",
       "  <tbody>\n",
       "    <tr>\n",
       "      <th>0</th>\n",
       "      <td>2021-05-03 00:00:00</td>\n",
       "      <td>NaN</td>\n",
       "      <td>NaN</td>\n",
       "      <td>NaN</td>\n",
       "      <td>NaN</td>\n",
       "      <td>NaN</td>\n",
       "      <td>NaN</td>\n",
       "      <td>NaN</td>\n",
       "      <td>NaN</td>\n",
       "    </tr>\n",
       "    <tr>\n",
       "      <th>1</th>\n",
       "      <td>2021-05-04 00:00:00</td>\n",
       "      <td>NaN</td>\n",
       "      <td>NaN</td>\n",
       "      <td>NaN</td>\n",
       "      <td>NaN</td>\n",
       "      <td>NaN</td>\n",
       "      <td>NaN</td>\n",
       "      <td>NaN</td>\n",
       "      <td>NaN</td>\n",
       "    </tr>\n",
       "    <tr>\n",
       "      <th>2</th>\n",
       "      <td>2021-05-05 00:00:00</td>\n",
       "      <td>NaN</td>\n",
       "      <td>NaN</td>\n",
       "      <td>NaN</td>\n",
       "      <td>NaN</td>\n",
       "      <td>NaN</td>\n",
       "      <td>NaN</td>\n",
       "      <td>NaN</td>\n",
       "      <td>NaN</td>\n",
       "    </tr>\n",
       "    <tr>\n",
       "      <th>3</th>\n",
       "      <td>2021-05-06 00:00:00</td>\n",
       "      <td>NaN</td>\n",
       "      <td>NaN</td>\n",
       "      <td>NaN</td>\n",
       "      <td>NaN</td>\n",
       "      <td>NaN</td>\n",
       "      <td>NaN</td>\n",
       "      <td>NaN</td>\n",
       "      <td>NaN</td>\n",
       "    </tr>\n",
       "    <tr>\n",
       "      <th>4</th>\n",
       "      <td>2021-05-07 00:00:00</td>\n",
       "      <td>NaN</td>\n",
       "      <td>NaN</td>\n",
       "      <td>NaN</td>\n",
       "      <td>NaN</td>\n",
       "      <td>NaN</td>\n",
       "      <td>NaN</td>\n",
       "      <td>NaN</td>\n",
       "      <td>NaN</td>\n",
       "    </tr>\n",
       "    <tr>\n",
       "      <th>...</th>\n",
       "      <td>...</td>\n",
       "      <td>...</td>\n",
       "      <td>...</td>\n",
       "      <td>...</td>\n",
       "      <td>...</td>\n",
       "      <td>...</td>\n",
       "      <td>...</td>\n",
       "      <td>...</td>\n",
       "      <td>...</td>\n",
       "    </tr>\n",
       "    <tr>\n",
       "      <th>255</th>\n",
       "      <td>2022-04-25 00:00:00</td>\n",
       "      <td>89983.84</td>\n",
       "      <td>0.3398</td>\n",
       "      <td>16821.99</td>\n",
       "      <td>0.6948</td>\n",
       "      <td>156936</td>\n",
       "      <td>0.5159</td>\n",
       "      <td>NaN</td>\n",
       "      <td>0.7324</td>\n",
       "    </tr>\n",
       "    <tr>\n",
       "      <th>256</th>\n",
       "      <td>2022-04-26 00:00:00</td>\n",
       "      <td>113433.6</td>\n",
       "      <td>0.3058</td>\n",
       "      <td>12091.59</td>\n",
       "      <td>0.6454</td>\n",
       "      <td>13086.6</td>\n",
       "      <td>0.4573</td>\n",
       "      <td>NaN</td>\n",
       "      <td>0.733</td>\n",
       "    </tr>\n",
       "    <tr>\n",
       "      <th>257</th>\n",
       "      <td>2022-04-27 00:00:00</td>\n",
       "      <td>98061.27</td>\n",
       "      <td>0.3196</td>\n",
       "      <td>1161.55</td>\n",
       "      <td>0.916</td>\n",
       "      <td>44994.99</td>\n",
       "      <td>0.5073</td>\n",
       "      <td>NaN</td>\n",
       "      <td>0.7394</td>\n",
       "    </tr>\n",
       "    <tr>\n",
       "      <th>258</th>\n",
       "      <td>2022-04-28 00:00:00</td>\n",
       "      <td>49745.7</td>\n",
       "      <td>0.3153</td>\n",
       "      <td>42525</td>\n",
       "      <td>0.5974</td>\n",
       "      <td>111454.1</td>\n",
       "      <td>0.4883</td>\n",
       "      <td>NaN</td>\n",
       "      <td>0.7455</td>\n",
       "    </tr>\n",
       "    <tr>\n",
       "      <th>259</th>\n",
       "      <td>2022-04-29 00:00:00</td>\n",
       "      <td>63231.89</td>\n",
       "      <td>0.3028</td>\n",
       "      <td>42525</td>\n",
       "      <td>0.6619</td>\n",
       "      <td>36708.63</td>\n",
       "      <td>0.4528</td>\n",
       "      <td>NaN</td>\n",
       "      <td>0.75</td>\n",
       "    </tr>\n",
       "  </tbody>\n",
       "</table>\n",
       "<p>260 rows × 9 columns</p>\n",
       "</div>"
      ],
      "text/plain": [
       "                   Dates 21Shares ASOL TURNOVER 21Shares ASOL AVERAGE_BID  \\\n",
       "0    2021-05-03 00:00:00                    NaN                       NaN   \n",
       "1    2021-05-04 00:00:00                    NaN                       NaN   \n",
       "2    2021-05-05 00:00:00                    NaN                       NaN   \n",
       "3    2021-05-06 00:00:00                    NaN                       NaN   \n",
       "4    2021-05-07 00:00:00                    NaN                       NaN   \n",
       "..                   ...                    ...                       ...   \n",
       "255  2022-04-25 00:00:00               89983.84                    0.3398   \n",
       "256  2022-04-26 00:00:00               113433.6                    0.3058   \n",
       "257  2022-04-27 00:00:00               98061.27                    0.3196   \n",
       "258  2022-04-28 00:00:00                49745.7                    0.3153   \n",
       "259  2022-04-29 00:00:00               63231.89                    0.3028   \n",
       "\n",
       "    ETC Group ESOL TURNOVER ETC Group ESOL AVERAGE_BID VanEck VSOL TURNOVER  \\\n",
       "0                       NaN                        NaN                  NaN   \n",
       "1                       NaN                        NaN                  NaN   \n",
       "2                       NaN                        NaN                  NaN   \n",
       "3                       NaN                        NaN                  NaN   \n",
       "4                       NaN                        NaN                  NaN   \n",
       "..                      ...                        ...                  ...   \n",
       "255                16821.99                     0.6948               156936   \n",
       "256                12091.59                     0.6454              13086.6   \n",
       "257                 1161.55                      0.916             44994.99   \n",
       "258                   42525                     0.5974             111454.1   \n",
       "259                   42525                     0.6619             36708.63   \n",
       "\n",
       "    VanEck VSOL AVERAGE_BID Bitpanda TSOL TURNOVER Bitpanda TSOL AVERAGE_BID  \n",
       "0                       NaN                    NaN                       NaN  \n",
       "1                       NaN                    NaN                       NaN  \n",
       "2                       NaN                    NaN                       NaN  \n",
       "3                       NaN                    NaN                       NaN  \n",
       "4                       NaN                    NaN                       NaN  \n",
       "..                      ...                    ...                       ...  \n",
       "255                  0.5159                    NaN                    0.7324  \n",
       "256                  0.4573                    NaN                     0.733  \n",
       "257                  0.5073                    NaN                    0.7394  \n",
       "258                  0.4883                    NaN                    0.7455  \n",
       "259                  0.4528                    NaN                      0.75  \n",
       "\n",
       "[260 rows x 9 columns]"
      ]
     },
     "execution_count": 9,
     "metadata": {},
     "output_type": "execute_result"
    }
   ],
   "source": [
    "df"
   ]
  },
  {
   "cell_type": "code",
   "execution_count": 10,
   "id": "3c949204",
   "metadata": {},
   "outputs": [
    {
     "data": {
      "text/plain": [
       "Dates                           0\n",
       "21Shares ASOL TURNOVER        103\n",
       "21Shares ASOL AVERAGE_BID     103\n",
       "ETC Group ESOL TURNOVER       168\n",
       "ETC Group ESOL AVERAGE_BID    162\n",
       "VanEck VSOL TURNOVER          101\n",
       "VanEck VSOL AVERAGE_BID       101\n",
       "Bitpanda TSOL TURNOVER        260\n",
       "Bitpanda TSOL AVERAGE_BID     253\n",
       "dtype: int64"
      ]
     },
     "execution_count": 10,
     "metadata": {},
     "output_type": "execute_result"
    }
   ],
   "source": [
    "df.isna().sum()"
   ]
  },
  {
   "cell_type": "code",
   "execution_count": 11,
   "id": "46aba1a1",
   "metadata": {},
   "outputs": [],
   "source": [
    "df['Dates'] = pd.to_datetime(df['Dates'])"
   ]
  },
  {
   "cell_type": "code",
   "execution_count": 12,
   "id": "c8a4c96c",
   "metadata": {},
   "outputs": [
    {
     "data": {
      "text/plain": [
       "Dates                         datetime64[ns]\n",
       "21Shares ASOL TURNOVER                object\n",
       "21Shares ASOL AVERAGE_BID             object\n",
       "ETC Group ESOL TURNOVER               object\n",
       "ETC Group ESOL AVERAGE_BID            object\n",
       "VanEck VSOL TURNOVER                  object\n",
       "VanEck VSOL AVERAGE_BID               object\n",
       "Bitpanda TSOL TURNOVER                object\n",
       "Bitpanda TSOL AVERAGE_BID             object\n",
       "dtype: object"
      ]
     },
     "execution_count": 12,
     "metadata": {},
     "output_type": "execute_result"
    }
   ],
   "source": [
    "df.dtypes"
   ]
  },
  {
   "cell_type": "code",
   "execution_count": 13,
   "id": "ad3c5df7",
   "metadata": {},
   "outputs": [],
   "source": [
    "for col in list(df)[1:]:\n",
    "    df[col] = df[col].astype('float')"
   ]
  },
  {
   "cell_type": "code",
   "execution_count": 14,
   "id": "9ea0421b",
   "metadata": {},
   "outputs": [
    {
     "data": {
      "text/plain": [
       "Dates                         datetime64[ns]\n",
       "21Shares ASOL TURNOVER               float64\n",
       "21Shares ASOL AVERAGE_BID            float64\n",
       "ETC Group ESOL TURNOVER              float64\n",
       "ETC Group ESOL AVERAGE_BID           float64\n",
       "VanEck VSOL TURNOVER                 float64\n",
       "VanEck VSOL AVERAGE_BID              float64\n",
       "Bitpanda TSOL TURNOVER               float64\n",
       "Bitpanda TSOL AVERAGE_BID            float64\n",
       "dtype: object"
      ]
     },
     "execution_count": 14,
     "metadata": {},
     "output_type": "execute_result"
    }
   ],
   "source": [
    "df.dtypes"
   ]
  },
  {
   "cell_type": "code",
   "execution_count": 15,
   "id": "fd881a47",
   "metadata": {},
   "outputs": [],
   "source": [
    "df['Year'] = df['Dates'].dt.year \n",
    "df['Month'] = df['Dates'].dt.month "
   ]
  },
  {
   "cell_type": "code",
   "execution_count": 16,
   "id": "972d7c72",
   "metadata": {},
   "outputs": [],
   "source": [
    "dict_mnth = {\n",
    "    1:'JAN',\n",
    "    2:'FEB',\n",
    "    3: 'MARCH',\n",
    "    4: 'APRIL',\n",
    "    5: 'MAY',\n",
    "    6: 'JUNE',\n",
    "    7: 'JULY',\n",
    "    8: 'AUG',\n",
    "    9: 'SEP',\n",
    "    10: 'OCT',\n",
    "    11: 'NOV',\n",
    "    12: 'DEC'\n",
    "}"
   ]
  },
  {
   "cell_type": "markdown",
   "id": "250b8385",
   "metadata": {},
   "source": [
    "# Turnover"
   ]
  },
  {
   "cell_type": "code",
   "execution_count": 17,
   "id": "04f6ffd0",
   "metadata": {},
   "outputs": [],
   "source": [
    "turnover_col = [name for name in list(df) if 'TURNOVER' in name]\n",
    "df_new = df.groupby(['Year','Month'])[turnover_col].sum()\n",
    "df_new = df_new.reset_index()"
   ]
  },
  {
   "cell_type": "code",
   "execution_count": 18,
   "id": "95922d04",
   "metadata": {},
   "outputs": [
    {
     "data": {
      "text/html": [
       "<div>\n",
       "<style scoped>\n",
       "    .dataframe tbody tr th:only-of-type {\n",
       "        vertical-align: middle;\n",
       "    }\n",
       "\n",
       "    .dataframe tbody tr th {\n",
       "        vertical-align: top;\n",
       "    }\n",
       "\n",
       "    .dataframe thead th {\n",
       "        text-align: right;\n",
       "    }\n",
       "</style>\n",
       "<table border=\"1\" class=\"dataframe\">\n",
       "  <thead>\n",
       "    <tr style=\"text-align: right;\">\n",
       "      <th></th>\n",
       "      <th>Year</th>\n",
       "      <th>Month</th>\n",
       "      <th>21Shares ASOL TURNOVER</th>\n",
       "      <th>ETC Group ESOL TURNOVER</th>\n",
       "      <th>VanEck VSOL TURNOVER</th>\n",
       "      <th>Bitpanda TSOL TURNOVER</th>\n",
       "    </tr>\n",
       "  </thead>\n",
       "  <tbody>\n",
       "    <tr>\n",
       "      <th>0</th>\n",
       "      <td>2021</td>\n",
       "      <td>5</td>\n",
       "      <td>0.00</td>\n",
       "      <td>0.00</td>\n",
       "      <td>0.00</td>\n",
       "      <td>0.0</td>\n",
       "    </tr>\n",
       "    <tr>\n",
       "      <th>1</th>\n",
       "      <td>2021</td>\n",
       "      <td>6</td>\n",
       "      <td>0.00</td>\n",
       "      <td>0.00</td>\n",
       "      <td>0.00</td>\n",
       "      <td>0.0</td>\n",
       "    </tr>\n",
       "    <tr>\n",
       "      <th>2</th>\n",
       "      <td>2021</td>\n",
       "      <td>7</td>\n",
       "      <td>0.00</td>\n",
       "      <td>0.00</td>\n",
       "      <td>0.00</td>\n",
       "      <td>0.0</td>\n",
       "    </tr>\n",
       "    <tr>\n",
       "      <th>3</th>\n",
       "      <td>2021</td>\n",
       "      <td>8</td>\n",
       "      <td>0.00</td>\n",
       "      <td>0.00</td>\n",
       "      <td>0.00</td>\n",
       "      <td>0.0</td>\n",
       "    </tr>\n",
       "    <tr>\n",
       "      <th>4</th>\n",
       "      <td>2021</td>\n",
       "      <td>9</td>\n",
       "      <td>540746.95</td>\n",
       "      <td>0.00</td>\n",
       "      <td>757469.74</td>\n",
       "      <td>0.0</td>\n",
       "    </tr>\n",
       "    <tr>\n",
       "      <th>5</th>\n",
       "      <td>2021</td>\n",
       "      <td>10</td>\n",
       "      <td>16137092.20</td>\n",
       "      <td>0.00</td>\n",
       "      <td>11453176.43</td>\n",
       "      <td>0.0</td>\n",
       "    </tr>\n",
       "    <tr>\n",
       "      <th>6</th>\n",
       "      <td>2021</td>\n",
       "      <td>11</td>\n",
       "      <td>31373080.60</td>\n",
       "      <td>0.00</td>\n",
       "      <td>17158117.70</td>\n",
       "      <td>0.0</td>\n",
       "    </tr>\n",
       "    <tr>\n",
       "      <th>7</th>\n",
       "      <td>2021</td>\n",
       "      <td>12</td>\n",
       "      <td>18178972.40</td>\n",
       "      <td>22298.71</td>\n",
       "      <td>11643510.30</td>\n",
       "      <td>0.0</td>\n",
       "    </tr>\n",
       "    <tr>\n",
       "      <th>8</th>\n",
       "      <td>2022</td>\n",
       "      <td>1</td>\n",
       "      <td>9147607.85</td>\n",
       "      <td>594042.04</td>\n",
       "      <td>6513203.09</td>\n",
       "      <td>0.0</td>\n",
       "    </tr>\n",
       "    <tr>\n",
       "      <th>9</th>\n",
       "      <td>2022</td>\n",
       "      <td>2</td>\n",
       "      <td>7150771.98</td>\n",
       "      <td>243216.22</td>\n",
       "      <td>3745508.86</td>\n",
       "      <td>0.0</td>\n",
       "    </tr>\n",
       "    <tr>\n",
       "      <th>10</th>\n",
       "      <td>2022</td>\n",
       "      <td>3</td>\n",
       "      <td>2586241.12</td>\n",
       "      <td>39935.18</td>\n",
       "      <td>6165677.85</td>\n",
       "      <td>0.0</td>\n",
       "    </tr>\n",
       "    <tr>\n",
       "      <th>11</th>\n",
       "      <td>2022</td>\n",
       "      <td>4</td>\n",
       "      <td>5316212.36</td>\n",
       "      <td>363963.26</td>\n",
       "      <td>3674335.04</td>\n",
       "      <td>0.0</td>\n",
       "    </tr>\n",
       "  </tbody>\n",
       "</table>\n",
       "</div>"
      ],
      "text/plain": [
       "    Year  Month  21Shares ASOL TURNOVER  ETC Group ESOL TURNOVER  \\\n",
       "0   2021      5                    0.00                     0.00   \n",
       "1   2021      6                    0.00                     0.00   \n",
       "2   2021      7                    0.00                     0.00   \n",
       "3   2021      8                    0.00                     0.00   \n",
       "4   2021      9               540746.95                     0.00   \n",
       "5   2021     10             16137092.20                     0.00   \n",
       "6   2021     11             31373080.60                     0.00   \n",
       "7   2021     12             18178972.40                 22298.71   \n",
       "8   2022      1              9147607.85                594042.04   \n",
       "9   2022      2              7150771.98                243216.22   \n",
       "10  2022      3              2586241.12                 39935.18   \n",
       "11  2022      4              5316212.36                363963.26   \n",
       "\n",
       "    VanEck VSOL TURNOVER  Bitpanda TSOL TURNOVER  \n",
       "0                   0.00                     0.0  \n",
       "1                   0.00                     0.0  \n",
       "2                   0.00                     0.0  \n",
       "3                   0.00                     0.0  \n",
       "4              757469.74                     0.0  \n",
       "5            11453176.43                     0.0  \n",
       "6            17158117.70                     0.0  \n",
       "7            11643510.30                     0.0  \n",
       "8             6513203.09                     0.0  \n",
       "9             3745508.86                     0.0  \n",
       "10            6165677.85                     0.0  \n",
       "11            3674335.04                     0.0  "
      ]
     },
     "execution_count": 18,
     "metadata": {},
     "output_type": "execute_result"
    }
   ],
   "source": [
    "df_new"
   ]
  },
  {
   "cell_type": "code",
   "execution_count": 19,
   "id": "9af5f996",
   "metadata": {},
   "outputs": [],
   "source": [
    "yr_month = []\n",
    "for _,row in df_new.iterrows():\n",
    "    \n",
    "    yr_month.append(str(row['Year']).split('.')[0]+'_'+dict_mnth[row['Month']])\n",
    "    \n",
    "df_new['yr_month'] = yr_month"
   ]
  },
  {
   "cell_type": "code",
   "execution_count": 20,
   "id": "26cca9d7",
   "metadata": {},
   "outputs": [
    {
     "data": {
      "image/png": "[encoded data removed]",
      "text/plain": [
       "<Figure size 720x360 with 1 Axes>"
      ]
     },
     "metadata": {
      "needs_background": "light"
     },
     "output_type": "display_data"
    }
   ],
   "source": [
    "fig, ax = plt.subplots(figsize=(10,5))\n",
    "# turnover_col = [name for name in list(df_new) if 'TURNOVER' in name]\n",
    "new_name = df_new['yr_month'].iloc[[0,2,4,6,8,10,11]]\n",
    "for col in turnover_col:\n",
    "    ax.plot(list(range(len(df_new))),list(df_new[col]),label=col)\n",
    "ax.set_xticklabels(new_name)\n",
    "plt.legend(bbox_to_anchor=(1.0,1.0))\n",
    "plt.title(\"Xetra Solana ETPs Turnover\")\n",
    "plt.xlabel(\"Date\")\n",
    "plt.ylabel(\"Sum of Turnover (€)\")\n",
    "plt.savefig(\"xetrasol_turnover.png\", bbox_inches = \"tight\")\n",
    "plt.show()"
   ]
  },
  {
   "cell_type": "markdown",
   "id": "5f8e9b1d",
   "metadata": {},
   "source": [
    "# Average bid"
   ]
  },
  {
   "cell_type": "code",
   "execution_count": 21,
   "id": "4c546718",
   "metadata": {},
   "outputs": [],
   "source": [
    "bid_col = [name for name in list(df) if 'AVERAGE_BID' in name]"
   ]
  },
  {
   "cell_type": "code",
   "execution_count": 22,
   "id": "1c5cab6d",
   "metadata": {},
   "outputs": [],
   "source": [
    "df_bid = df.groupby(['Year','Month'])[bid_col].mean()*100\n",
    "df_bid = df_bid.reset_index()"
   ]
  },
  {
   "cell_type": "code",
   "execution_count": 23,
   "id": "9b050088",
   "metadata": {},
   "outputs": [
    {
     "data": {
      "text/html": [
       "<div>\n",
       "<style scoped>\n",
       "    .dataframe tbody tr th:only-of-type {\n",
       "        vertical-align: middle;\n",
       "    }\n",
       "\n",
       "    .dataframe tbody tr th {\n",
       "        vertical-align: top;\n",
       "    }\n",
       "\n",
       "    .dataframe thead th {\n",
       "        text-align: right;\n",
       "    }\n",
       "</style>\n",
       "<table border=\"1\" class=\"dataframe\">\n",
       "  <thead>\n",
       "    <tr style=\"text-align: right;\">\n",
       "      <th></th>\n",
       "      <th>Year</th>\n",
       "      <th>Month</th>\n",
       "      <th>21Shares ASOL AVERAGE_BID</th>\n",
       "      <th>ETC Group ESOL AVERAGE_BID</th>\n",
       "      <th>VanEck VSOL AVERAGE_BID</th>\n",
       "      <th>Bitpanda TSOL AVERAGE_BID</th>\n",
       "    </tr>\n",
       "  </thead>\n",
       "  <tbody>\n",
       "    <tr>\n",
       "      <th>0</th>\n",
       "      <td>2021</td>\n",
       "      <td>5</td>\n",
       "      <td>NaN</td>\n",
       "      <td>NaN</td>\n",
       "      <td>NaN</td>\n",
       "      <td>NaN</td>\n",
       "    </tr>\n",
       "    <tr>\n",
       "      <th>1</th>\n",
       "      <td>2021</td>\n",
       "      <td>6</td>\n",
       "      <td>NaN</td>\n",
       "      <td>NaN</td>\n",
       "      <td>NaN</td>\n",
       "      <td>NaN</td>\n",
       "    </tr>\n",
       "    <tr>\n",
       "      <th>2</th>\n",
       "      <td>2021</td>\n",
       "      <td>7</td>\n",
       "      <td>NaN</td>\n",
       "      <td>NaN</td>\n",
       "      <td>NaN</td>\n",
       "      <td>NaN</td>\n",
       "    </tr>\n",
       "    <tr>\n",
       "      <th>3</th>\n",
       "      <td>2021</td>\n",
       "      <td>8</td>\n",
       "      <td>NaN</td>\n",
       "      <td>NaN</td>\n",
       "      <td>NaN</td>\n",
       "      <td>NaN</td>\n",
       "    </tr>\n",
       "    <tr>\n",
       "      <th>4</th>\n",
       "      <td>2021</td>\n",
       "      <td>9</td>\n",
       "      <td>77.266667</td>\n",
       "      <td>NaN</td>\n",
       "      <td>62.426250</td>\n",
       "      <td>NaN</td>\n",
       "    </tr>\n",
       "    <tr>\n",
       "      <th>5</th>\n",
       "      <td>2021</td>\n",
       "      <td>10</td>\n",
       "      <td>78.416190</td>\n",
       "      <td>NaN</td>\n",
       "      <td>53.625714</td>\n",
       "      <td>NaN</td>\n",
       "    </tr>\n",
       "    <tr>\n",
       "      <th>6</th>\n",
       "      <td>2021</td>\n",
       "      <td>11</td>\n",
       "      <td>62.625909</td>\n",
       "      <td>NaN</td>\n",
       "      <td>56.385455</td>\n",
       "      <td>NaN</td>\n",
       "    </tr>\n",
       "    <tr>\n",
       "      <th>7</th>\n",
       "      <td>2021</td>\n",
       "      <td>12</td>\n",
       "      <td>66.384348</td>\n",
       "      <td>62.137692</td>\n",
       "      <td>49.850870</td>\n",
       "      <td>NaN</td>\n",
       "    </tr>\n",
       "    <tr>\n",
       "      <th>8</th>\n",
       "      <td>2022</td>\n",
       "      <td>1</td>\n",
       "      <td>58.856667</td>\n",
       "      <td>72.109524</td>\n",
       "      <td>55.126667</td>\n",
       "      <td>NaN</td>\n",
       "    </tr>\n",
       "    <tr>\n",
       "      <th>9</th>\n",
       "      <td>2022</td>\n",
       "      <td>2</td>\n",
       "      <td>58.674000</td>\n",
       "      <td>102.160000</td>\n",
       "      <td>64.065000</td>\n",
       "      <td>NaN</td>\n",
       "    </tr>\n",
       "    <tr>\n",
       "      <th>10</th>\n",
       "      <td>2022</td>\n",
       "      <td>3</td>\n",
       "      <td>52.399130</td>\n",
       "      <td>145.335652</td>\n",
       "      <td>67.661304</td>\n",
       "      <td>NaN</td>\n",
       "    </tr>\n",
       "    <tr>\n",
       "      <th>11</th>\n",
       "      <td>2022</td>\n",
       "      <td>4</td>\n",
       "      <td>35.308571</td>\n",
       "      <td>103.726667</td>\n",
       "      <td>54.618571</td>\n",
       "      <td>73.274286</td>\n",
       "    </tr>\n",
       "  </tbody>\n",
       "</table>\n",
       "</div>"
      ],
      "text/plain": [
       "    Year  Month  21Shares ASOL AVERAGE_BID  ETC Group ESOL AVERAGE_BID  \\\n",
       "0   2021      5                        NaN                         NaN   \n",
       "1   2021      6                        NaN                         NaN   \n",
       "2   2021      7                        NaN                         NaN   \n",
       "3   2021      8                        NaN                         NaN   \n",
       "4   2021      9                  77.266667                         NaN   \n",
       "5   2021     10                  78.416190                         NaN   \n",
       "6   2021     11                  62.625909                         NaN   \n",
       "7   2021     12                  66.384348                   62.137692   \n",
       "8   2022      1                  58.856667                   72.109524   \n",
       "9   2022      2                  58.674000                  102.160000   \n",
       "10  2022      3                  52.399130                  145.335652   \n",
       "11  2022      4                  35.308571                  103.726667   \n",
       "\n",
       "    VanEck VSOL AVERAGE_BID  Bitpanda TSOL AVERAGE_BID  \n",
       "0                       NaN                        NaN  \n",
       "1                       NaN                        NaN  \n",
       "2                       NaN                        NaN  \n",
       "3                       NaN                        NaN  \n",
       "4                 62.426250                        NaN  \n",
       "5                 53.625714                        NaN  \n",
       "6                 56.385455                        NaN  \n",
       "7                 49.850870                        NaN  \n",
       "8                 55.126667                        NaN  \n",
       "9                 64.065000                        NaN  \n",
       "10                67.661304                        NaN  \n",
       "11                54.618571                  73.274286  "
      ]
     },
     "execution_count": 23,
     "metadata": {},
     "output_type": "execute_result"
    }
   ],
   "source": [
    "df_bid"
   ]
  },
  {
   "cell_type": "code",
   "execution_count": 24,
   "id": "a5879832",
   "metadata": {},
   "outputs": [],
   "source": [
    "c = ['gold','c','darkgreen','g','b','lightblue','darkblue','brown','grey']"
   ]
  },
  {
   "cell_type": "code",
   "execution_count": 25,
   "id": "3191ff66",
   "metadata": {},
   "outputs": [
    {
     "data": {
      "text/plain": [
       "4"
      ]
     },
     "execution_count": 25,
     "metadata": {},
     "output_type": "execute_result"
    }
   ],
   "source": [
    "len(bid_col)"
   ]
  },
  {
   "cell_type": "code",
   "execution_count": 26,
   "id": "cd6704f8",
   "metadata": {},
   "outputs": [
    {
     "data": {
      "image/png": "[encoded data removed]",
      "text/plain": [
       "<Figure size 720x360 with 1 Axes>"
      ]
     },
     "metadata": {
      "needs_background": "light"
     },
     "output_type": "display_data"
    }
   ],
   "source": [
    "fig, ax = plt.subplots(figsize=(10,5))\n",
    "new_name = df_new['yr_month'].iloc[[0,2,4,6,8,10,11]]\n",
    "for i,col in enumerate(bid_col):\n",
    "    ax.plot(list(range(len(df_bid))),list(df_bid[col]),label=col,color=c[i])\n",
    "ax.set_xticklabels(new_name)\n",
    "plt.legend(bbox_to_anchor=(1.0,1.0))\n",
    "plt.title(\"Xetra Solana ETPs Average Bid Ask Spread\")\n",
    "plt.xlabel(\"Date\")\n",
    "plt.ylabel(\"Average Bid Ask Spread (bps)\")\n",
    "plt.ylim([0,100])\n",
    "plt.savefig(\"xetrasol_bid_ask.png\")\n",
    "plt.show()"
   ]
  },
  {
   "cell_type": "code",
   "execution_count": null,
   "id": "f748e489",
   "metadata": {},
   "outputs": [],
   "source": []
  }
 ],
 "metadata": {
  "kernelspec": {
   "display_name": "Python 3 (ipykernel)",
   "language": "python",
   "name": "python3"
  },
  "language_info": {
   "codemirror_mode": {
    "name": "ipython",
    "version": 3
   },
   "file_extension": ".py",
   "mimetype": "text/x-python",
   "name": "python",
   "nbconvert_exporter": "python",
   "pygments_lexer": "ipython3",
   "version": "3.9.7"
  }
 },
 "nbformat": 4,
 "nbformat_minor": 5
}
