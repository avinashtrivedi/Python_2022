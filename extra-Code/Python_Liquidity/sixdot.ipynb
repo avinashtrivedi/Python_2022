{
 "cells": [
  {
   "cell_type": "code",
   "execution_count": 1,
   "id": "327c7bce",
   "metadata": {},
   "outputs": [],
   "source": [
    "import pandas as pd\n",
    "import matplotlib.pyplot as plt\n",
    "import warnings\n",
    "warnings.filterwarnings('ignore')"
   ]
  },
  {
   "cell_type": "code",
   "execution_count": 2,
   "id": "e2faaa92",
   "metadata": {},
   "outputs": [],
   "source": [
    "df = pd.read_excel('pc.xlsx',sheet_name='SIX Polkadot ETPs')"
   ]
  },
  {
   "cell_type": "code",
   "execution_count": 3,
   "id": "7ce28bb7",
   "metadata": {},
   "outputs": [
    {
     "data": {
      "text/plain": [
       "[nan,\n",
       " 'ADOT SE Equity',\n",
       " nan,\n",
       " 'VDOT SE Equity',\n",
       " nan,\n",
       " 'PLKA SE Equity',\n",
       " nan,\n",
       " 'CDOT SE Equity',\n",
       " nan]"
      ]
     },
     "execution_count": 3,
     "metadata": {},
     "output_type": "execute_result"
    }
   ],
   "source": [
    "list(df.iloc[0])"
   ]
  },
  {
   "cell_type": "code",
   "execution_count": 4,
   "id": "9cab76cb",
   "metadata": {},
   "outputs": [
    {
     "data": {
      "text/plain": [
       "['Dates',\n",
       " 'TURNOVER',\n",
       " 'AVERAGE_BID_ASK_SPREAD_%',\n",
       " 'TURNOVER',\n",
       " 'AVERAGE_BID_ASK_SPREAD_%',\n",
       " 'TURNOVER',\n",
       " 'AVERAGE_BID_ASK_SPREAD_%',\n",
       " 'TURNOVER',\n",
       " 'AVERAGE_BID_ASK_SPREAD_%']"
      ]
     },
     "execution_count": 4,
     "metadata": {},
     "output_type": "execute_result"
    }
   ],
   "source": [
    "list(df.iloc[1])"
   ]
  },
  {
   "cell_type": "code",
   "execution_count": 5,
   "id": "43fb58e8",
   "metadata": {},
   "outputs": [],
   "source": [
    "col = ['Dates',\n",
    " '21Shares ADOT TURNOVER',\n",
    " '21Shares ADOT AVERAGE_BID',\n",
    " 'VanEck VDOT TURNOVER',\n",
    " 'VanEck VDOT AVERAGE_BID',\n",
    " 'ETC Group PLKA TURNOVER',\n",
    " 'ETC Group PLKA AVERAGE_BID',\n",
    " 'Coinshares CDOT TURNOVER',\n",
    " 'Coinshares CDOT AVERAGE_BID']"
   ]
  },
  {
   "cell_type": "code",
   "execution_count": 6,
   "id": "994ed63d",
   "metadata": {},
   "outputs": [],
   "source": [
    "df.columns = col"
   ]
  },
  {
   "cell_type": "code",
   "execution_count": 7,
   "id": "24a52220",
   "metadata": {},
   "outputs": [],
   "source": [
    "df = df.iloc[2:262]"
   ]
  },
  {
   "cell_type": "code",
   "execution_count": 8,
   "id": "79cce7ad",
   "metadata": {},
   "outputs": [],
   "source": [
    "df.reset_index(drop=True,inplace=True)"
   ]
  },
  {
   "cell_type": "code",
   "execution_count": 9,
   "id": "883efb06",
   "metadata": {},
   "outputs": [
    {
     "data": {
      "text/html": [
       "<div>\n",
       "<style scoped>\n",
       "    .dataframe tbody tr th:only-of-type {\n",
       "        vertical-align: middle;\n",
       "    }\n",
       "\n",
       "    .dataframe tbody tr th {\n",
       "        vertical-align: top;\n",
       "    }\n",
       "\n",
       "    .dataframe thead th {\n",
       "        text-align: right;\n",
       "    }\n",
       "</style>\n",
       "<table border=\"1\" class=\"dataframe\">\n",
       "  <thead>\n",
       "    <tr style=\"text-align: right;\">\n",
       "      <th></th>\n",
       "      <th>Dates</th>\n",
       "      <th>21Shares ADOT TURNOVER</th>\n",
       "      <th>21Shares ADOT AVERAGE_BID</th>\n",
       "      <th>VanEck VDOT TURNOVER</th>\n",
       "      <th>VanEck VDOT AVERAGE_BID</th>\n",
       "      <th>ETC Group PLKA TURNOVER</th>\n",
       "      <th>ETC Group PLKA AVERAGE_BID</th>\n",
       "      <th>Coinshares CDOT TURNOVER</th>\n",
       "      <th>Coinshares CDOT AVERAGE_BID</th>\n",
       "    </tr>\n",
       "  </thead>\n",
       "  <tbody>\n",
       "    <tr>\n",
       "      <th>0</th>\n",
       "      <td>2021-05-03 00:00:00</td>\n",
       "      <td>1782278</td>\n",
       "      <td>0.5378</td>\n",
       "      <td>NaN</td>\n",
       "      <td>NaN</td>\n",
       "      <td>NaN</td>\n",
       "      <td>NaN</td>\n",
       "      <td>NaN</td>\n",
       "      <td>NaN</td>\n",
       "    </tr>\n",
       "    <tr>\n",
       "      <th>1</th>\n",
       "      <td>2021-05-04 00:00:00</td>\n",
       "      <td>1689439</td>\n",
       "      <td>0.5672</td>\n",
       "      <td>NaN</td>\n",
       "      <td>NaN</td>\n",
       "      <td>NaN</td>\n",
       "      <td>NaN</td>\n",
       "      <td>NaN</td>\n",
       "      <td>NaN</td>\n",
       "    </tr>\n",
       "    <tr>\n",
       "      <th>2</th>\n",
       "      <td>2021-05-05 00:00:00</td>\n",
       "      <td>1481502</td>\n",
       "      <td>0.5438</td>\n",
       "      <td>NaN</td>\n",
       "      <td>NaN</td>\n",
       "      <td>NaN</td>\n",
       "      <td>NaN</td>\n",
       "      <td>NaN</td>\n",
       "      <td>NaN</td>\n",
       "    </tr>\n",
       "    <tr>\n",
       "      <th>3</th>\n",
       "      <td>2021-05-06 00:00:00</td>\n",
       "      <td>2987489</td>\n",
       "      <td>0.5426</td>\n",
       "      <td>NaN</td>\n",
       "      <td>NaN</td>\n",
       "      <td>NaN</td>\n",
       "      <td>NaN</td>\n",
       "      <td>NaN</td>\n",
       "      <td>NaN</td>\n",
       "    </tr>\n",
       "    <tr>\n",
       "      <th>4</th>\n",
       "      <td>2021-05-07 00:00:00</td>\n",
       "      <td>1904390</td>\n",
       "      <td>0.5426</td>\n",
       "      <td>NaN</td>\n",
       "      <td>NaN</td>\n",
       "      <td>NaN</td>\n",
       "      <td>NaN</td>\n",
       "      <td>NaN</td>\n",
       "      <td>NaN</td>\n",
       "    </tr>\n",
       "    <tr>\n",
       "      <th>...</th>\n",
       "      <td>...</td>\n",
       "      <td>...</td>\n",
       "      <td>...</td>\n",
       "      <td>...</td>\n",
       "      <td>...</td>\n",
       "      <td>...</td>\n",
       "      <td>...</td>\n",
       "      <td>...</td>\n",
       "      <td>...</td>\n",
       "    </tr>\n",
       "    <tr>\n",
       "      <th>255</th>\n",
       "      <td>2022-04-25 00:00:00</td>\n",
       "      <td>61007.59</td>\n",
       "      <td>0.3809</td>\n",
       "      <td>1052.17</td>\n",
       "      <td>0.6548</td>\n",
       "      <td>1019.49</td>\n",
       "      <td>0.659</td>\n",
       "      <td>33257.4</td>\n",
       "      <td>0.6599</td>\n",
       "    </tr>\n",
       "    <tr>\n",
       "      <th>256</th>\n",
       "      <td>2022-04-26 00:00:00</td>\n",
       "      <td>57578.03</td>\n",
       "      <td>0.3534</td>\n",
       "      <td>1052.17</td>\n",
       "      <td>0.6129</td>\n",
       "      <td>1019.49</td>\n",
       "      <td>0.6426</td>\n",
       "      <td>33257.4</td>\n",
       "      <td>0.6432</td>\n",
       "    </tr>\n",
       "    <tr>\n",
       "      <th>257</th>\n",
       "      <td>2022-04-27 00:00:00</td>\n",
       "      <td>26234.57</td>\n",
       "      <td>0.3649</td>\n",
       "      <td>1052.17</td>\n",
       "      <td>0.6533</td>\n",
       "      <td>1019.49</td>\n",
       "      <td>0.6509</td>\n",
       "      <td>33257.4</td>\n",
       "      <td>0.6538</td>\n",
       "    </tr>\n",
       "    <tr>\n",
       "      <th>258</th>\n",
       "      <td>2022-04-28 00:00:00</td>\n",
       "      <td>107225</td>\n",
       "      <td>0.4019</td>\n",
       "      <td>1052.17</td>\n",
       "      <td>0.6349</td>\n",
       "      <td>1019.49</td>\n",
       "      <td>0.6523</td>\n",
       "      <td>33257.4</td>\n",
       "      <td>0.6533</td>\n",
       "    </tr>\n",
       "    <tr>\n",
       "      <th>259</th>\n",
       "      <td>2022-04-29 00:00:00</td>\n",
       "      <td>25661.13</td>\n",
       "      <td>0.38</td>\n",
       "      <td>1052.17</td>\n",
       "      <td>0.6124</td>\n",
       "      <td>1019.49</td>\n",
       "      <td>0.6423</td>\n",
       "      <td>33257.4</td>\n",
       "      <td>0.6424</td>\n",
       "    </tr>\n",
       "  </tbody>\n",
       "</table>\n",
       "<p>260 rows × 9 columns</p>\n",
       "</div>"
      ],
      "text/plain": [
       "                   Dates 21Shares ADOT TURNOVER 21Shares ADOT AVERAGE_BID  \\\n",
       "0    2021-05-03 00:00:00                1782278                    0.5378   \n",
       "1    2021-05-04 00:00:00                1689439                    0.5672   \n",
       "2    2021-05-05 00:00:00                1481502                    0.5438   \n",
       "3    2021-05-06 00:00:00                2987489                    0.5426   \n",
       "4    2021-05-07 00:00:00                1904390                    0.5426   \n",
       "..                   ...                    ...                       ...   \n",
       "255  2022-04-25 00:00:00               61007.59                    0.3809   \n",
       "256  2022-04-26 00:00:00               57578.03                    0.3534   \n",
       "257  2022-04-27 00:00:00               26234.57                    0.3649   \n",
       "258  2022-04-28 00:00:00                 107225                    0.4019   \n",
       "259  2022-04-29 00:00:00               25661.13                      0.38   \n",
       "\n",
       "    VanEck VDOT TURNOVER VanEck VDOT AVERAGE_BID ETC Group PLKA TURNOVER  \\\n",
       "0                    NaN                     NaN                     NaN   \n",
       "1                    NaN                     NaN                     NaN   \n",
       "2                    NaN                     NaN                     NaN   \n",
       "3                    NaN                     NaN                     NaN   \n",
       "4                    NaN                     NaN                     NaN   \n",
       "..                   ...                     ...                     ...   \n",
       "255              1052.17                  0.6548                 1019.49   \n",
       "256              1052.17                  0.6129                 1019.49   \n",
       "257              1052.17                  0.6533                 1019.49   \n",
       "258              1052.17                  0.6349                 1019.49   \n",
       "259              1052.17                  0.6124                 1019.49   \n",
       "\n",
       "    ETC Group PLKA AVERAGE_BID Coinshares CDOT TURNOVER  \\\n",
       "0                          NaN                      NaN   \n",
       "1                          NaN                      NaN   \n",
       "2                          NaN                      NaN   \n",
       "3                          NaN                      NaN   \n",
       "4                          NaN                      NaN   \n",
       "..                         ...                      ...   \n",
       "255                      0.659                  33257.4   \n",
       "256                     0.6426                  33257.4   \n",
       "257                     0.6509                  33257.4   \n",
       "258                     0.6523                  33257.4   \n",
       "259                     0.6423                  33257.4   \n",
       "\n",
       "    Coinshares CDOT AVERAGE_BID  \n",
       "0                           NaN  \n",
       "1                           NaN  \n",
       "2                           NaN  \n",
       "3                           NaN  \n",
       "4                           NaN  \n",
       "..                          ...  \n",
       "255                      0.6599  \n",
       "256                      0.6432  \n",
       "257                      0.6538  \n",
       "258                      0.6533  \n",
       "259                      0.6424  \n",
       "\n",
       "[260 rows x 9 columns]"
      ]
     },
     "execution_count": 9,
     "metadata": {},
     "output_type": "execute_result"
    }
   ],
   "source": [
    "df"
   ]
  },
  {
   "cell_type": "code",
   "execution_count": 10,
   "id": "3c949204",
   "metadata": {},
   "outputs": [
    {
     "data": {
      "text/plain": [
       "Dates                            0\n",
       "21Shares ADOT TURNOVER           0\n",
       "21Shares ADOT AVERAGE_BID        0\n",
       "VanEck VDOT TURNOVER           110\n",
       "VanEck VDOT AVERAGE_BID        107\n",
       "ETC Group PLKA TURNOVER        205\n",
       "ETC Group PLKA AVERAGE_BID     187\n",
       "Coinshares CDOT TURNOVER       233\n",
       "Coinshares CDOT AVERAGE_BID    213\n",
       "dtype: int64"
      ]
     },
     "execution_count": 10,
     "metadata": {},
     "output_type": "execute_result"
    }
   ],
   "source": [
    "df.isna().sum()"
   ]
  },
  {
   "cell_type": "code",
   "execution_count": 11,
   "id": "46aba1a1",
   "metadata": {},
   "outputs": [],
   "source": [
    "df['Dates'] = pd.to_datetime(df['Dates'])"
   ]
  },
  {
   "cell_type": "code",
   "execution_count": 12,
   "id": "c8a4c96c",
   "metadata": {},
   "outputs": [
    {
     "data": {
      "text/plain": [
       "Dates                          datetime64[ns]\n",
       "21Shares ADOT TURNOVER                 object\n",
       "21Shares ADOT AVERAGE_BID              object\n",
       "VanEck VDOT TURNOVER                   object\n",
       "VanEck VDOT AVERAGE_BID                object\n",
       "ETC Group PLKA TURNOVER                object\n",
       "ETC Group PLKA AVERAGE_BID             object\n",
       "Coinshares CDOT TURNOVER               object\n",
       "Coinshares CDOT AVERAGE_BID            object\n",
       "dtype: object"
      ]
     },
     "execution_count": 12,
     "metadata": {},
     "output_type": "execute_result"
    }
   ],
   "source": [
    "df.dtypes"
   ]
  },
  {
   "cell_type": "code",
   "execution_count": 13,
   "id": "ad3c5df7",
   "metadata": {},
   "outputs": [],
   "source": [
    "for col in list(df)[1:]:\n",
    "    df[col] = df[col].astype('float')"
   ]
  },
  {
   "cell_type": "code",
   "execution_count": 14,
   "id": "9ea0421b",
   "metadata": {},
   "outputs": [
    {
     "data": {
      "text/plain": [
       "Dates                          datetime64[ns]\n",
       "21Shares ADOT TURNOVER                float64\n",
       "21Shares ADOT AVERAGE_BID             float64\n",
       "VanEck VDOT TURNOVER                  float64\n",
       "VanEck VDOT AVERAGE_BID               float64\n",
       "ETC Group PLKA TURNOVER               float64\n",
       "ETC Group PLKA AVERAGE_BID            float64\n",
       "Coinshares CDOT TURNOVER              float64\n",
       "Coinshares CDOT AVERAGE_BID           float64\n",
       "dtype: object"
      ]
     },
     "execution_count": 14,
     "metadata": {},
     "output_type": "execute_result"
    }
   ],
   "source": [
    "df.dtypes"
   ]
  },
  {
   "cell_type": "code",
   "execution_count": 15,
   "id": "fd881a47",
   "metadata": {},
   "outputs": [],
   "source": [
    "df['Year'] = df['Dates'].dt.year \n",
    "df['Month'] = df['Dates'].dt.month "
   ]
  },
  {
   "cell_type": "code",
   "execution_count": 16,
   "id": "972d7c72",
   "metadata": {},
   "outputs": [],
   "source": [
    "dict_mnth = {\n",
    "    1:'JAN',\n",
    "    2:'FEB',\n",
    "    3: 'MARCH',\n",
    "    4: 'APRIL',\n",
    "    5: 'MAY',\n",
    "    6: 'JUNE',\n",
    "    7: 'JULY',\n",
    "    8: 'AUG',\n",
    "    9: 'SEP',\n",
    "    10: 'OCT',\n",
    "    11: 'NOV',\n",
    "    12: 'DEC'\n",
    "}"
   ]
  },
  {
   "cell_type": "markdown",
   "id": "250b8385",
   "metadata": {},
   "source": [
    "# Turnover"
   ]
  },
  {
   "cell_type": "code",
   "execution_count": 17,
   "id": "04f6ffd0",
   "metadata": {},
   "outputs": [],
   "source": [
    "turnover_col = [name for name in list(df) if 'TURNOVER' in name]\n",
    "df_new = df.groupby(['Year','Month'])[turnover_col].sum()\n",
    "df_new = df_new.reset_index()"
   ]
  },
  {
   "cell_type": "code",
   "execution_count": 18,
   "id": "95922d04",
   "metadata": {},
   "outputs": [
    {
     "data": {
      "text/html": [
       "<div>\n",
       "<style scoped>\n",
       "    .dataframe tbody tr th:only-of-type {\n",
       "        vertical-align: middle;\n",
       "    }\n",
       "\n",
       "    .dataframe tbody tr th {\n",
       "        vertical-align: top;\n",
       "    }\n",
       "\n",
       "    .dataframe thead th {\n",
       "        text-align: right;\n",
       "    }\n",
       "</style>\n",
       "<table border=\"1\" class=\"dataframe\">\n",
       "  <thead>\n",
       "    <tr style=\"text-align: right;\">\n",
       "      <th></th>\n",
       "      <th>Year</th>\n",
       "      <th>Month</th>\n",
       "      <th>21Shares ADOT TURNOVER</th>\n",
       "      <th>VanEck VDOT TURNOVER</th>\n",
       "      <th>ETC Group PLKA TURNOVER</th>\n",
       "      <th>Coinshares CDOT TURNOVER</th>\n",
       "    </tr>\n",
       "  </thead>\n",
       "  <tbody>\n",
       "    <tr>\n",
       "      <th>0</th>\n",
       "      <td>2021</td>\n",
       "      <td>5</td>\n",
       "      <td>51484747.20</td>\n",
       "      <td>0.00</td>\n",
       "      <td>0.00</td>\n",
       "      <td>0.0</td>\n",
       "    </tr>\n",
       "    <tr>\n",
       "      <th>1</th>\n",
       "      <td>2021</td>\n",
       "      <td>6</td>\n",
       "      <td>16645956.80</td>\n",
       "      <td>0.00</td>\n",
       "      <td>0.00</td>\n",
       "      <td>0.0</td>\n",
       "    </tr>\n",
       "    <tr>\n",
       "      <th>2</th>\n",
       "      <td>2021</td>\n",
       "      <td>7</td>\n",
       "      <td>6749461.93</td>\n",
       "      <td>0.00</td>\n",
       "      <td>0.00</td>\n",
       "      <td>0.0</td>\n",
       "    </tr>\n",
       "    <tr>\n",
       "      <th>3</th>\n",
       "      <td>2021</td>\n",
       "      <td>8</td>\n",
       "      <td>20855896.60</td>\n",
       "      <td>0.00</td>\n",
       "      <td>0.00</td>\n",
       "      <td>0.0</td>\n",
       "    </tr>\n",
       "    <tr>\n",
       "      <th>4</th>\n",
       "      <td>2021</td>\n",
       "      <td>9</td>\n",
       "      <td>50585708.30</td>\n",
       "      <td>0.00</td>\n",
       "      <td>0.00</td>\n",
       "      <td>0.0</td>\n",
       "    </tr>\n",
       "    <tr>\n",
       "      <th>5</th>\n",
       "      <td>2021</td>\n",
       "      <td>10</td>\n",
       "      <td>36627313.50</td>\n",
       "      <td>498580.78</td>\n",
       "      <td>0.00</td>\n",
       "      <td>0.0</td>\n",
       "    </tr>\n",
       "    <tr>\n",
       "      <th>6</th>\n",
       "      <td>2021</td>\n",
       "      <td>11</td>\n",
       "      <td>36959993.70</td>\n",
       "      <td>1007556.39</td>\n",
       "      <td>0.00</td>\n",
       "      <td>0.0</td>\n",
       "    </tr>\n",
       "    <tr>\n",
       "      <th>7</th>\n",
       "      <td>2021</td>\n",
       "      <td>12</td>\n",
       "      <td>20534492.90</td>\n",
       "      <td>32145.22</td>\n",
       "      <td>0.00</td>\n",
       "      <td>0.0</td>\n",
       "    </tr>\n",
       "    <tr>\n",
       "      <th>8</th>\n",
       "      <td>2022</td>\n",
       "      <td>1</td>\n",
       "      <td>13144485.90</td>\n",
       "      <td>1041877.75</td>\n",
       "      <td>0.00</td>\n",
       "      <td>0.0</td>\n",
       "    </tr>\n",
       "    <tr>\n",
       "      <th>9</th>\n",
       "      <td>2022</td>\n",
       "      <td>2</td>\n",
       "      <td>6795716.20</td>\n",
       "      <td>607005.85</td>\n",
       "      <td>361.13</td>\n",
       "      <td>0.0</td>\n",
       "    </tr>\n",
       "    <tr>\n",
       "      <th>10</th>\n",
       "      <td>2022</td>\n",
       "      <td>3</td>\n",
       "      <td>4299772.37</td>\n",
       "      <td>361320.56</td>\n",
       "      <td>527.55</td>\n",
       "      <td>425079.1</td>\n",
       "    </tr>\n",
       "    <tr>\n",
       "      <th>11</th>\n",
       "      <td>2022</td>\n",
       "      <td>4</td>\n",
       "      <td>4108590.86</td>\n",
       "      <td>22095.57</td>\n",
       "      <td>9232.53</td>\n",
       "      <td>716679.2</td>\n",
       "    </tr>\n",
       "  </tbody>\n",
       "</table>\n",
       "</div>"
      ],
      "text/plain": [
       "    Year  Month  21Shares ADOT TURNOVER  VanEck VDOT TURNOVER  \\\n",
       "0   2021      5             51484747.20                  0.00   \n",
       "1   2021      6             16645956.80                  0.00   \n",
       "2   2021      7              6749461.93                  0.00   \n",
       "3   2021      8             20855896.60                  0.00   \n",
       "4   2021      9             50585708.30                  0.00   \n",
       "5   2021     10             36627313.50             498580.78   \n",
       "6   2021     11             36959993.70            1007556.39   \n",
       "7   2021     12             20534492.90              32145.22   \n",
       "8   2022      1             13144485.90            1041877.75   \n",
       "9   2022      2              6795716.20             607005.85   \n",
       "10  2022      3              4299772.37             361320.56   \n",
       "11  2022      4              4108590.86              22095.57   \n",
       "\n",
       "    ETC Group PLKA TURNOVER  Coinshares CDOT TURNOVER  \n",
       "0                      0.00                       0.0  \n",
       "1                      0.00                       0.0  \n",
       "2                      0.00                       0.0  \n",
       "3                      0.00                       0.0  \n",
       "4                      0.00                       0.0  \n",
       "5                      0.00                       0.0  \n",
       "6                      0.00                       0.0  \n",
       "7                      0.00                       0.0  \n",
       "8                      0.00                       0.0  \n",
       "9                    361.13                       0.0  \n",
       "10                   527.55                  425079.1  \n",
       "11                  9232.53                  716679.2  "
      ]
     },
     "execution_count": 18,
     "metadata": {},
     "output_type": "execute_result"
    }
   ],
   "source": [
    "df_new"
   ]
  },
  {
   "cell_type": "code",
   "execution_count": 19,
   "id": "9af5f996",
   "metadata": {},
   "outputs": [],
   "source": [
    "yr_month = []\n",
    "for _,row in df_new.iterrows():\n",
    "    \n",
    "    yr_month.append(str(row['Year']).split('.')[0]+'_'+dict_mnth[row['Month']])\n",
    "    \n",
    "df_new['yr_month'] = yr_month"
   ]
  },
  {
   "cell_type": "code",
   "execution_count": 20,
   "id": "26cca9d7",
   "metadata": {},
   "outputs": [
    {
     "data": {
      "image/png": "[encoded data removed]",
      "text/plain": [
       "<Figure size 720x360 with 1 Axes>"
      ]
     },
     "metadata": {
      "needs_background": "light"
     },
     "output_type": "display_data"
    }
   ],
   "source": [
    "fig, ax = plt.subplots(figsize=(10,5))\n",
    "# turnover_col = [name for name in list(df_new) if 'TURNOVER' in name]\n",
    "new_name = df_new['yr_month'].iloc[[0,2,4,6,8,10,11]]\n",
    "for col in turnover_col:\n",
    "    ax.plot(list(range(len(df_new))),list(df_new[col]),label=col)\n",
    "ax.set_xticklabels(new_name)\n",
    "plt.legend(bbox_to_anchor=(1.0,1.0))\n",
    "plt.title(\"SIX Polkadot ETPs Turnover\")\n",
    "plt.xlabel(\"Date\")\n",
    "plt.ylabel(\"Sum of Turnover (€)\")\n",
    "plt.savefig(\"sixdot_turnover.png\", bbox_inches = \"tight\")\n",
    "plt.show()"
   ]
  },
  {
   "cell_type": "markdown",
   "id": "5f8e9b1d",
   "metadata": {},
   "source": [
    "# Average bid"
   ]
  },
  {
   "cell_type": "code",
   "execution_count": 21,
   "id": "4c546718",
   "metadata": {},
   "outputs": [],
   "source": [
    "bid_col = [name for name in list(df) if 'AVERAGE_BID' in name]"
   ]
  },
  {
   "cell_type": "code",
   "execution_count": 22,
   "id": "1c5cab6d",
   "metadata": {},
   "outputs": [],
   "source": [
    "df_bid = df.groupby(['Year','Month'])[bid_col].mean()*100\n",
    "df_bid = df_bid.reset_index()"
   ]
  },
  {
   "cell_type": "code",
   "execution_count": 23,
   "id": "9b050088",
   "metadata": {},
   "outputs": [
    {
     "data": {
      "text/html": [
       "<div>\n",
       "<style scoped>\n",
       "    .dataframe tbody tr th:only-of-type {\n",
       "        vertical-align: middle;\n",
       "    }\n",
       "\n",
       "    .dataframe tbody tr th {\n",
       "        vertical-align: top;\n",
       "    }\n",
       "\n",
       "    .dataframe thead th {\n",
       "        text-align: right;\n",
       "    }\n",
       "</style>\n",
       "<table border=\"1\" class=\"dataframe\">\n",
       "  <thead>\n",
       "    <tr style=\"text-align: right;\">\n",
       "      <th></th>\n",
       "      <th>Year</th>\n",
       "      <th>Month</th>\n",
       "      <th>21Shares ADOT AVERAGE_BID</th>\n",
       "      <th>VanEck VDOT AVERAGE_BID</th>\n",
       "      <th>ETC Group PLKA AVERAGE_BID</th>\n",
       "      <th>Coinshares CDOT AVERAGE_BID</th>\n",
       "    </tr>\n",
       "  </thead>\n",
       "  <tbody>\n",
       "    <tr>\n",
       "      <th>0</th>\n",
       "      <td>2021</td>\n",
       "      <td>5</td>\n",
       "      <td>62.451905</td>\n",
       "      <td>NaN</td>\n",
       "      <td>NaN</td>\n",
       "      <td>NaN</td>\n",
       "    </tr>\n",
       "    <tr>\n",
       "      <th>1</th>\n",
       "      <td>2021</td>\n",
       "      <td>6</td>\n",
       "      <td>62.747727</td>\n",
       "      <td>NaN</td>\n",
       "      <td>NaN</td>\n",
       "      <td>NaN</td>\n",
       "    </tr>\n",
       "    <tr>\n",
       "      <th>2</th>\n",
       "      <td>2021</td>\n",
       "      <td>7</td>\n",
       "      <td>57.590909</td>\n",
       "      <td>NaN</td>\n",
       "      <td>NaN</td>\n",
       "      <td>NaN</td>\n",
       "    </tr>\n",
       "    <tr>\n",
       "      <th>3</th>\n",
       "      <td>2021</td>\n",
       "      <td>8</td>\n",
       "      <td>45.403182</td>\n",
       "      <td>NaN</td>\n",
       "      <td>NaN</td>\n",
       "      <td>NaN</td>\n",
       "    </tr>\n",
       "    <tr>\n",
       "      <th>4</th>\n",
       "      <td>2021</td>\n",
       "      <td>9</td>\n",
       "      <td>54.221364</td>\n",
       "      <td>54.175000</td>\n",
       "      <td>NaN</td>\n",
       "      <td>NaN</td>\n",
       "    </tr>\n",
       "    <tr>\n",
       "      <th>5</th>\n",
       "      <td>2021</td>\n",
       "      <td>10</td>\n",
       "      <td>55.552857</td>\n",
       "      <td>55.991429</td>\n",
       "      <td>NaN</td>\n",
       "      <td>NaN</td>\n",
       "    </tr>\n",
       "    <tr>\n",
       "      <th>6</th>\n",
       "      <td>2021</td>\n",
       "      <td>11</td>\n",
       "      <td>60.490000</td>\n",
       "      <td>58.481364</td>\n",
       "      <td>NaN</td>\n",
       "      <td>NaN</td>\n",
       "    </tr>\n",
       "    <tr>\n",
       "      <th>7</th>\n",
       "      <td>2021</td>\n",
       "      <td>12</td>\n",
       "      <td>52.226522</td>\n",
       "      <td>54.446087</td>\n",
       "      <td>NaN</td>\n",
       "      <td>NaN</td>\n",
       "    </tr>\n",
       "    <tr>\n",
       "      <th>8</th>\n",
       "      <td>2022</td>\n",
       "      <td>1</td>\n",
       "      <td>51.296190</td>\n",
       "      <td>55.768571</td>\n",
       "      <td>66.963333</td>\n",
       "      <td>NaN</td>\n",
       "    </tr>\n",
       "    <tr>\n",
       "      <th>9</th>\n",
       "      <td>2022</td>\n",
       "      <td>2</td>\n",
       "      <td>51.274500</td>\n",
       "      <td>61.900000</td>\n",
       "      <td>67.583000</td>\n",
       "      <td>79.156667</td>\n",
       "    </tr>\n",
       "    <tr>\n",
       "      <th>10</th>\n",
       "      <td>2022</td>\n",
       "      <td>3</td>\n",
       "      <td>46.151304</td>\n",
       "      <td>68.885217</td>\n",
       "      <td>65.522609</td>\n",
       "      <td>70.768696</td>\n",
       "    </tr>\n",
       "    <tr>\n",
       "      <th>11</th>\n",
       "      <td>2022</td>\n",
       "      <td>4</td>\n",
       "      <td>36.510476</td>\n",
       "      <td>65.384762</td>\n",
       "      <td>65.452381</td>\n",
       "      <td>65.550952</td>\n",
       "    </tr>\n",
       "  </tbody>\n",
       "</table>\n",
       "</div>"
      ],
      "text/plain": [
       "    Year  Month  21Shares ADOT AVERAGE_BID  VanEck VDOT AVERAGE_BID  \\\n",
       "0   2021      5                  62.451905                      NaN   \n",
       "1   2021      6                  62.747727                      NaN   \n",
       "2   2021      7                  57.590909                      NaN   \n",
       "3   2021      8                  45.403182                      NaN   \n",
       "4   2021      9                  54.221364                54.175000   \n",
       "5   2021     10                  55.552857                55.991429   \n",
       "6   2021     11                  60.490000                58.481364   \n",
       "7   2021     12                  52.226522                54.446087   \n",
       "8   2022      1                  51.296190                55.768571   \n",
       "9   2022      2                  51.274500                61.900000   \n",
       "10  2022      3                  46.151304                68.885217   \n",
       "11  2022      4                  36.510476                65.384762   \n",
       "\n",
       "    ETC Group PLKA AVERAGE_BID  Coinshares CDOT AVERAGE_BID  \n",
       "0                          NaN                          NaN  \n",
       "1                          NaN                          NaN  \n",
       "2                          NaN                          NaN  \n",
       "3                          NaN                          NaN  \n",
       "4                          NaN                          NaN  \n",
       "5                          NaN                          NaN  \n",
       "6                          NaN                          NaN  \n",
       "7                          NaN                          NaN  \n",
       "8                    66.963333                          NaN  \n",
       "9                    67.583000                    79.156667  \n",
       "10                   65.522609                    70.768696  \n",
       "11                   65.452381                    65.550952  "
      ]
     },
     "execution_count": 23,
     "metadata": {},
     "output_type": "execute_result"
    }
   ],
   "source": [
    "df_bid"
   ]
  },
  {
   "cell_type": "code",
   "execution_count": 24,
   "id": "a5879832",
   "metadata": {},
   "outputs": [],
   "source": [
    "c = ['gold','c','darkgreen','g','b','lightblue','darkblue','brown','grey']"
   ]
  },
  {
   "cell_type": "code",
   "execution_count": 25,
   "id": "3191ff66",
   "metadata": {},
   "outputs": [
    {
     "data": {
      "text/plain": [
       "4"
      ]
     },
     "execution_count": 25,
     "metadata": {},
     "output_type": "execute_result"
    }
   ],
   "source": [
    "len(bid_col)"
   ]
  },
  {
   "cell_type": "code",
   "execution_count": 26,
   "id": "cd6704f8",
   "metadata": {},
   "outputs": [
    {
     "data": {
      "image/png": "[encoded data removed]",
      "text/plain": [
       "<Figure size 720x360 with 1 Axes>"
      ]
     },
     "metadata": {
      "needs_background": "light"
     },
     "output_type": "display_data"
    }
   ],
   "source": [
    "fig, ax = plt.subplots(figsize=(10,5))\n",
    "new_name = df_new['yr_month'].iloc[[0,2,4,6,8,10,11]]\n",
    "for i,col in enumerate(bid_col):\n",
    "    ax.plot(list(range(len(df_bid))),list(df_bid[col]),label=col,color=c[i])\n",
    "ax.set_xticklabels(new_name)\n",
    "plt.legend(bbox_to_anchor=(1.0,1.0))\n",
    "plt.title(\"SIX Polkadot ETPs Average Bid Ask Spread\")\n",
    "plt.xlabel(\"Date\")\n",
    "plt.ylabel(\"Average Bid Ask Spread (bps)\")\n",
    "plt.ylim([0,100])\n",
    "plt.savefig(\"sixdot_bid_ask.png\")\n",
    "plt.show()"
   ]
  },
  {
   "cell_type": "code",
   "execution_count": null,
   "id": "f748e489",
   "metadata": {},
   "outputs": [],
   "source": []
  }
 ],
 "metadata": {
  "kernelspec": {
   "display_name": "Python 3 (ipykernel)",
   "language": "python",
   "name": "python3"
  },
  "language_info": {
   "codemirror_mode": {
    "name": "ipython",
    "version": 3
   },
   "file_extension": ".py",
   "mimetype": "text/x-python",
   "name": "python",
   "nbconvert_exporter": "python",
   "pygments_lexer": "ipython3",
   "version": "3.9.7"
  }
 },
 "nbformat": 4,
 "nbformat_minor": 5
}
