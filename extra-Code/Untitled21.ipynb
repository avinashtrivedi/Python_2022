{
 "cells": [
  {
   "cell_type": "code",
   "execution_count": null,
   "id": "e1174671",
   "metadata": {},
   "outputs": [],
   "source": [
    "string slicing\n",
    "list slicing\n",
    "for loop/ while\n",
    "def - fun - lambda fun\n",
    "dictionary -json\n",
    "tuple\n",
    "set\n",
    "list\n",
    "\n",
    "numpy\n",
    "pandas\n",
    "visulization\n"
   ]
  }
 ],
 "metadata": {
  "kernelspec": {
   "display_name": "Python 3 (ipykernel)",
   "language": "python",
   "name": "python3"
  },
  "language_info": {
   "codemirror_mode": {
    "name": "ipython",
    "version": 3
   },
   "file_extension": ".py",
   "mimetype": "text/x-python",
   "name": "python",
   "nbconvert_exporter": "python",
   "pygments_lexer": "ipython3",
   "version": "3.9.12"
  }
 },
 "nbformat": 4,
 "nbformat_minor": 5
}
