{
 "cells": [
  {
   "cell_type": "code",
   "execution_count": 6,
   "metadata": {},
   "outputs": [
    {
     "ename": "ModuleNotFoundError",
     "evalue": "No module named 'Marvell'",
     "output_type": "error",
     "traceback": [
      "\u001b[1;31m---------------------------------------------------------------------------\u001b[0m",
      "\u001b[1;31mModuleNotFoundError\u001b[0m                       Traceback (most recent call last)",
      "\u001b[1;32m<ipython-input-6-b60e4a1a2cca>\u001b[0m in \u001b[0;36m<module>\u001b[1;34m\u001b[0m\n\u001b[0;32m      4\u001b[0m \u001b[1;32mimport\u001b[0m \u001b[0msnowflake\u001b[0m\u001b[1;33m.\u001b[0m\u001b[0mconnector\u001b[0m\u001b[1;33m\u001b[0m\u001b[1;33m\u001b[0m\u001b[0m\n\u001b[0;32m      5\u001b[0m \u001b[1;32mfrom\u001b[0m \u001b[0msimple_salesforce\u001b[0m \u001b[1;32mimport\u001b[0m \u001b[0mSalesforce\u001b[0m\u001b[1;33m\u001b[0m\u001b[1;33m\u001b[0m\u001b[0m\n\u001b[1;32m----> 6\u001b[1;33m \u001b[1;32mimport\u001b[0m \u001b[0mMarvell\u001b[0m\u001b[1;33m.\u001b[0m\u001b[0mconnect\u001b[0m \u001b[1;32mas\u001b[0m \u001b[0mmc\u001b[0m\u001b[1;33m\u001b[0m\u001b[1;33m\u001b[0m\u001b[0m\n\u001b[0m",
      "\u001b[1;31mModuleNotFoundError\u001b[0m: No module named 'Marvell'"
     ]
    }
   ],
   "source": [
    "import pandas as pd\n",
    "import numpy as np\n",
    "from snowflake.connector.pandas_tools import write_pandas\n",
    "import snowflake.connector\n",
    "from simple_salesforce import Salesforce\n",
    "import Marvell.connect as mc"
   ]
  },
  {
   "cell_type": "code",
   "execution_count": 7,
   "metadata": {},
   "outputs": [],
   "source": [
    "sf_sql ='SELECT AccountId,AccountId__c,AccountNameCopy__c,Account_Billing_Country_Code__c,Account_Billing_State_Code__c,Account_Billing_Zip_code__c,Account_Corp_Id_Name__c,Account_Corp_ID__c,Account_Number__c,Account_program__c,Acknowledge_DW_Date__c,Additional_Notes_1__c,Amount,Application_Segment__c,Application__c,Approval_Process_Counter__c,Approved_Design_Win_Date__c,Approved_DW_Confirmation__c,Approved_Line_Counter__c,Approved_LTR__c,Approved_OLIs_Count__c,Approved_Parent_Opportunity_LTR__c,Approved_Prod_Date__c,Approver__c,Area__c,A_Sample_Date__c,BU_Priority__c,B_Sample_Date__c,Calendar_Year__c,Car_OEM__c,Channel1__c,Channel__c,CloseDate,Close_Date_Fiscal_Quarter__c,Comments__c,Corp_Id_Switch_BU_Cust_Segment__c,CreatedById,CreatedDate,Created_By_Company__c,Created_By_Name__c,Created_By_Profile__c,C_Sample_Date__c,Deal_Type__c,Description,Design_Win_Date__c,Development_Stage__c,Director_of_Distribution__c,Discount_Approved__c,Discount_Denied__c,Distributor_Approval__c,DW_Approval_Status_Date__c,DW_Comments_for_Exec__c,DW_Confidence__c,DW_Confirmation__c,End_Customer__c,Estimated__c,Est_Prod_Annual_Qty__c,Exclude_Revenue__c,HasOpportunityLineItem,Id,Imported_from_Model_N__c,Initial_Submitter__c,Isawarded__c,IsClosed,IsDeleted,IsPrivate,IsSplit,IsWon,Is_ASIC__c,Is_Linked_Parent__c,LastActivityDate,LastModifiedById,LastModifiedDate,LastReferencedDate,LastViewedDate,LeadSource,Life_Expectancy__c,Lost_Date__c,LTR__c,Market_Segment__c,MN_Opp_Reg_Expire_Date__c,ModelN_RegnId__c,ModelN__c,Model_N_Sync_Date__c,My_Primary_Opportunities__c,My_Region_Opportunities__c,Name,Network_Processor__c,NextStep,No_Of_Days_Passed_By__c,OEM_Name__c,OEM_Oppty__c,OEM_Territory__c,OEM__c,OldChannelValue__c,oppid__c,OpportunityComments__c,OpportunityExternalId__c,Opportunity_Aging__c,Opportunity_External__c,Opportunity_Id__c,Opportunity_Level__c,Opportunity__c,Oppty_Owner__c,Opp_Approval_Status__c,Opp_Identifier__c,Opty_Account_Country__c,OwnerId,Parent_Opportunity__c,Parent_Oppty__c,PartnerAccountId,PreviousRegistrationType__c,Pre_production_Date__c,Pre_production_Quantity__c,Pricebook2Id,Primary_Oppty_Owner__c,Probability,Prod_Date__c,Prod_FQ__c,Program__c,Prototype_Date__c,Prototype_Quantity__c,Reason_for_Inactive__c,Reason_for_Lost_Cancelled__c,RecordTypeId,Reference_Platform__c,Region__c,Registration_Type__c,Rejected_Line_Counter__c,Rejected_OLIs_Count__c,RevenueAmount__c,Revenue__c,RSM__c,RS_Count__c,Sales_Goal__c,Second_Level_DR_Approved__c,Segment_Name__c,Split_LTR__c,StageName,Stage_Temp__c,Status__c,Sync_to_Model_N__c,SystemModstamp,Territory2Id,Third_Level_Notification_Sent__c,Tier_1_Name__c,Tier_1_Opp_No__c,TotalOpportunityQuantity,Total_Count_of_Opportunity_Line_Items__c,Total_OLIs_COunt__c,Trigger_Calculation__c,Type,Year_1_Annual_Revenue__c,Year_2_Annual_Revenue__c,Year_3_Annual_Revenue__c,Year_4_Annual_Revenue__c,Year_5_Annual_Revenue__c,Year_6_Annual_Revenue__c,Year_7_Annual_Revenue__c,Year_8_Annual_Revenue__c,Year_9_Annual_Revenue__c,Year_10_Annual_Revenue__c,Approval_Status_Date__c,ForecastCategoryName,IsExcludedFromTerritory2Filter,ExpectedRevenue,Lost_to__c,CampaignId,ContractId FROM Opportunity'"
   ]
  },
  {
   "cell_type": "code",
   "execution_count": 8,
   "metadata": {},
   "outputs": [
    {
     "ename": "NameError",
     "evalue": "name 'mc' is not defined",
     "output_type": "error",
     "traceback": [
      "\u001b[1;31m---------------------------------------------------------------------------\u001b[0m",
      "\u001b[1;31mNameError\u001b[0m                                 Traceback (most recent call last)",
      "\u001b[1;32m<ipython-input-8-2a7673131b51>\u001b[0m in \u001b[0;36m<module>\u001b[1;34m\u001b[0m\n\u001b[1;32m----> 1\u001b[1;33m \u001b[0msf\u001b[0m\u001b[1;33m=\u001b[0m\u001b[0mmc\u001b[0m\u001b[1;33m.\u001b[0m\u001b[0mconnect_Salesforce\u001b[0m\u001b[1;33m(\u001b[0m\u001b[1;33m)\u001b[0m\u001b[1;33m[\u001b[0m\u001b[1;34m'sf'\u001b[0m\u001b[1;33m]\u001b[0m\u001b[1;33m\u001b[0m\u001b[1;33m\u001b[0m\u001b[0m\n\u001b[0m",
      "\u001b[1;31mNameError\u001b[0m: name 'mc' is not defined"
     ]
    }
   ],
   "source": [
    "sf=mc.connect_Salesforce()['sf']"
   ]
  },
  {
   "cell_type": "code",
   "execution_count": 17,
   "metadata": {},
   "outputs": [],
   "source": [
    "res = sf.bulk.Opportunity.query(sf_sql)"
   ]
  },
  {
   "cell_type": "code",
   "execution_count": 18,
   "metadata": {},
   "outputs": [],
   "source": [
    "con=mc.connect_Snowflake('SC_S_SFDC')\n",
    "db=con['db']\n",
    "sf_cursor=db.cursor()"
   ]
  },
  {
   "cell_type": "code",
   "execution_count": 19,
   "metadata": {},
   "outputs": [],
   "source": [
    "df = pd.DataFrame(res)"
   ]
  },
  {
   "cell_type": "code",
   "execution_count": 20,
   "metadata": {},
   "outputs": [],
   "source": [
    "df=df.where(pd.notnull(df),None)\n",
    "df=df.applymap(lambda x: None if x==None else str(x))"
   ]
  },
  {
   "cell_type": "code",
   "execution_count": 21,
   "metadata": {},
   "outputs": [],
   "source": [
    "df.rename(columns=   {\"AccountId\" : \"ACCOUNT_ID\",\n",
    "                        \"AccountId__c\" : \"ACCOUNT_ID__C\",\n",
    "                        \"AccountNameCopy__c\" : \"ACCOUNT_NAME_COPY__C\",\n",
    "                        \"Account_Billing_Country_Code__c\" : \"ACCOUNT_BILLING_COUNTRY_CODE__C\",\n",
    "                        \"Account_Billing_State_Code__c\" : \"ACCOUNT_BILLING_STATE_CODE__C\",\n",
    "                        \"Account_Billing_Zip_code__c\" : \"ACCOUNT_BILLING_ZIP_CODE__C\",\n",
    "                        \"Account_Corp_Id_Name__c\" : \"ACCOUNT_CORP_ID_NAME__C\",\n",
    "                        \"Account_Corp_ID__c\" : \"ACCOUNT_CORP_ID__C\",\n",
    "                        \"Account_Number__c\" : \"ACCOUNT_NUMBER__C\",\n",
    "                        \"Account_program__c\" : \"ACCOUNT_PROGRAM__C\",\n",
    "                        \"Acknowledge_DW_Date__c\" : \"ACKNOWLEDGE_DW_DATE__C\",\n",
    "                        \"Additional_Notes_1__c\" : \"ADDITIONAL_NOTES_1__C\",\n",
    "                        \"Amount\" : \"AMOUNT\",\n",
    "                        \"Application_Segment__c\" : \"APPLICATION_SEGMENT__C\",\n",
    "                        \"Application__c \" : \"APPLICATION__C\",\n",
    "                       \"Approval_Process_Counter__c\" : \"APPROVAL_PROCESS_COUNTER__C\",\n",
    "                        \"Approved_Design_Win_Date__c\" : \"APPROVED_DESIGN_WIN_DATE__C\",\n",
    "                        \"Approved_DW_Confirmation__c\" : \"APPROVED_DW_CONFIRMATION__C\",\n",
    "                        \"Approved_Line_Counter__c\" : \"APPROVED_LINE_COUNTER__C\",\n",
    "                          \"Approved_LTR__c\" : \"APPROVED_LTR__C\",\n",
    "                        \"Approved_OLIs_Count__c \" : \"APPROVED_OLIS_COUNT__C\",\n",
    "                        \"Approved_Parent_Opportunity_LTR__c \" : \"APPROVED_PARENT_OPPORTUNITY_LTR__C\",\n",
    "                        \"Approved_Prod_Date__c\" : \"APPROVED_PROD_DATE__C\",\n",
    "                      \"Approver__c\" : \"APPROVER__C\",\n",
    "                        \"Area__c\" : \"AREA__C\",\n",
    "                        \"A_Sample_Date__c\" : \"A_SAMPLE_DATE__C\",\n",
    "                        \"BU_Priority__c\" : \"BU_PRIORITY__C\",\n",
    "                        \"B_Sample_Date__c\" : \"B_SAMPLE_DATE__C\",\n",
    "                        \"Calendar_Year__c\" : \"CALENDAR_YEAR__C\",\n",
    "                        \"Car_OEM__c\" : \"CAR_OEM__C\",\n",
    "                        \"Channel1__c\" : \"CHANNEL_1__C\",\n",
    "                      \"Channel__c\" : \"CHANNEL__C\",\n",
    "                        \"CloseDate\" : \"CLOSE_DATE\",\n",
    "                        \"Close_Date_Fiscal_Quarter__c\" : \"CLOSE_DATE_FISCAL_QUARTER__C\",\n",
    "                        \"Comments__c\" : \"COMMENTS__C\",\n",
    "                        \"Corp_Id_Switch_BU_Cust_Segment__c\" : \"CORP_ID_SWITCH_BU_CUST_SEGMENT__C\",\n",
    "                        \"CreatedById\" : \"CREATED_BY_ID\",\n",
    "                        \"CreatedDate\" : \"CREATED_DATE\",\n",
    "                        \"Created_By_Company__c\" : \"CREATED_BY_COMPANY__C\",\n",
    "                      \"Created_By_Name__c\" : \"CREATED_BY_NAME__C\",\n",
    "                        \"Created_By_Profile__c\" : \"CREATED_BY_PROFILE__C\",\n",
    "                        \"C_Sample_Date__c\" : \"C_SAMPLE_DATE__C\",\n",
    "                        \"Deal_Type__c\" : \"DEAL_TYPE__C\",\n",
    "                        \"Description\" : \"DESCRIPTION\",\n",
    "                          \"Design_Win_Date__c\" : \"DESIGN_WIN_DATE__C\",\n",
    "                        \"Development_Stage__c\" : \"DEVELOPMENT_STAGE__C\",\n",
    "                        \"Director_of_Distribution__c\" : \"DIRECTOR_OF_DISTRIBUTION__C\",\n",
    "                      \"Discount_Approved__c\" : \"DISCOUNT_APPROVED__C\",\n",
    "                        \"Discount_Denied__c\" : \"DISCOUNT_DENIED__C\",\n",
    "                      \"Distributor_Approval__c\" : \"DISTRIBUTOR_APPROVAL__C\",\n",
    "                        \"DW_Approval_Status_Date__c\" : \"DW_APPROVAL_STATUS_DATE__C\",\n",
    "                        \"DW_Comments_for_Exec__c\" : \"DW_COMMENTS_FOR_EXEC__C\",\n",
    "                        \"DW_Confidence__c\" : \"DW_CONFIDENCE__C\",\n",
    "                        \"DW_Confirmation__c\" : \"DW_CONFIRMATION__C\",\n",
    "                        \"End_Customer__c\" : \"END_CUSTOMER__C\",\n",
    "                      \"Estimated__c\" : \"ESTIMATED__C\",\n",
    "                        \"Est_Prod_Annual_Qty__c\" : \"EST_PROD_ANNUAL_QTY__C\",\n",
    "                        \"Exclude_Revenue__c\" : \"EXCLUDE_REVENUE__C\",\n",
    "                        \"HasOpportunityLineItem\" : \"HAS_OPPORTUNITY_LINE_ITEM\",\n",
    "                        \"Id\" : \"ID\",\n",
    "                        \"Imported_from_Model_N__c\" : \"IMPORTED_FROM_MODEL_N__C\",\n",
    "                        \"Initial_Submitter__c\" : \"INITIAL_SUBMITTER__C\",\n",
    "                        \"Isawarded__c\" : \"IS_AWARDED__C\",\n",
    "                      \"IsClosed\" : \"IS_CLOSED\",\n",
    "                        \"IsDeleted\" : \"IS_DELETED\",\n",
    "                        \"IsPrivate\" : \"IS_PRIVATE\",\n",
    "                        \"IsSplit\" : \"IS_SPLIT\",\n",
    "                        \"IsWon\" : \"IS_WON\",\n",
    "                        \"Is_ASIC__c\" : \"IS_ASIC__C\",\n",
    "                        \"Is_Linked_Parent__c\" : \"IS_LINKED_PARENT__C\",\n",
    "                        \"LastActivityDate\" : \"LAST_ACTIVITY_DATE\",\n",
    "                        \"LastModifiedById\" : \"LAST_MODIFIED_BY_ID\",\n",
    "                        \"LastModifiedDate\" : \"LAST_MODIFIED_DATE\",\n",
    "                        \"LastReferencedDate\" : \"LAST_REFERENCED_DATE\",\n",
    "                        \"LastViewedDate\" : \"LAST_VIEWED_DATE\",\n",
    "                        \"LeadSource\" : \"LEAD_SOURCE\",\n",
    "                        \"Life_Expectancy__c\" : \"LIFE_EXPECTANCY__C\",\n",
    "                      \n",
    "                        \"Lost_Date__c\" : \"LOST_DATE__C\",\n",
    "                        \"LTR__c\" : \"LTR__C\",\n",
    "                        \"Market_Segment__c\" : \"MARKET_SEGMENT__C\",\n",
    "                        \"MN_Opp_Reg_Expire_Date__c\" : \"MN_OPP_REG_EXPIRE_DATE__C\",\n",
    "                        \"ModelN_RegnId__c\" : \"MODELN_REGNID__C\",\n",
    "                        \"Model_N_Sync_Date__c\" : \"MODEL_N_SYNC_DATE__C\",\n",
    "                        \"ModelN__c\" : \"MODELN__C\",\n",
    "                       \"My_Primary_Opportunities__c\" : \"MY_PRIMARY_OPPORTUNITIES__C\",\n",
    "                        \"My_Region_Opportunities__c\" : \"MY_REGION_OPPORTUNITIES__C\",\n",
    "                          \"Name\" : \"NAME\",\n",
    "                        \"Network_Processor__c\" : \"NETWORK_PROCESSOR__C\",\n",
    "                        \"NextStep\" : \"NEXT_STEP\",\n",
    "                        \"No_Of_Days_Passed_By__c\" : \"NO_OF_DAYS_PASSED_BY__C\",\n",
    "                        \"OEM_Name__c\" : \"OEM_NAME__C\",\n",
    "                        \"OEM_Oppty__c\" : \"OEM_OPPTY__C\",\n",
    "                        \"OEM_Territory__c\" : \"OEM_TERRITORY__C\",\n",
    "                        \"OEM__c\" : \"OEM__C\",\n",
    "                        \"OldChannelValue__c\" : \"OLD_CHANNEL_VALUE__C\",\n",
    "                        \"oppid__c\" : \"OPPID__C\",\n",
    "                        \"OpportunityComments__c\" : \"OPPORTUNITY_COMMENTS__C\",\n",
    "                        \"OpportunityExternalId__c\" : \"OPPORTUNITY_EXTERNAL_ID__C\",\n",
    "                        \"Opportunity_Aging__c\" : \"OPPORTUNITY_AGING__C\",\n",
    "                        \"Opportunity_External__c\" : \"OPPORTUNITY_EXTERNAL__C\",\n",
    "                        \"Opportunity_Id__c\" : \"OPPORTUNITY_ID__C\",\n",
    "                        \"Opportunity_Level__c\" : \"OPPORTUNITY_LEVEL__C\",\n",
    "                        \"Opportunity__c\" : \"OPPORTUNITY__C\",\n",
    "                      \"Oppty_Owner__c\" : \"OPPTY_OWNER__C\",\n",
    "                        \"Opp_Approval_Status__c\" : \"OPP_APPROVAL_STATUS__C\",\n",
    "                        \"Opp_Identifier__c\" : \"OPP_IDENTIFIER__C\",\n",
    "                        \"Opty_Account_Country__c\" : \"OPTY_ACCOUNT_COUNTRY__C\",\n",
    "                        \"OwnerId\" : \"OWNER_ID\",\n",
    "                        \"Parent_Opportunity__c\" : \"PARENT_OPPORTUNITY__C\",\n",
    "                        \"Parent_Oppty__c\" : \"PARENT_OPPTY__C\",\n",
    "                        \"PartnerAccountId\" : \"PARTNER_ACCOUNT_ID\",\n",
    "                        \"PreviousRegistrationType__c\" : \"PREVIOUS_REGISTRATION_TYPE__C\",\n",
    "                        \"Pre_production_Date__c\" : \"PRE_PRODUCTION_DATE__C\",\n",
    "                        \"Pre_production_Quantity__c\" : \"PRE_PRODUCTION_QUANTITY__C\",\n",
    "                        \"Pricebook2Id\" : \"PRICE_BOOK_2_ID\",\n",
    "                        \"Primary_Oppty_Owner__c\" : \"PRIMARY_OPPTY_OWNER__C\",\n",
    "                      \"Probability\" : \"PROBABILITY\",\n",
    "                        \"Prod_Date__c\" : \"PROD_DATE__C\",\n",
    "                        \"Prod_FQ__c\" : \"PROD_FQ__C\",\n",
    "                        \"Program__c\" : \"PROGRAM__C\",\n",
    "                        \"Prototype_Date__c\" : \"PROTOTYPE_DATE__C\",\n",
    "                        \"Prototype_Quantity__c\" : \"PROTOTYPE_QUANTITY__C\",\n",
    "                        \"Reason_for_Inactive__c\" : \"REASON_FOR_INACTIVE__C\",\n",
    "                        \"Reason_for_Lost_Cancelled__c\" : \"REASON_FOR_LOST_CANCELLED__C\",\n",
    "                        \"RecordTypeId\" : \"RECORD_TYPE_ID\",\n",
    "                        \"Reference_Platform__c\" : \"REFERENCE_PLATFORM__C\",\n",
    "                        \"Region__c\" : \"REGION__C\",\n",
    "                        \"Registration_Type__c\" : \"REGISTRATION_TYPE__C\",\n",
    "                        \"Rejected_Line_Counter__c\" : \"REJECTED_LINE_COUNTER__C\",\n",
    "                        \"Rejected_OLIs_Count__c\" : \"REJECTED_OLIS_COUNT__C\",\n",
    "                        \"RevenueAmount__c\" : \"REVENUE_AMOUNT__C\",\n",
    "                      \"Revenue__c\" : \"REVENUE__C\",\n",
    "                        \"RSM__c\" : \"RSM__C\",\n",
    "                        \"RS_Count__c\" : \"RS_COUNT__C\",\n",
    "                        \"Sales_Goal__c\" : \"SALES_GOAL__C\",\n",
    "                        \"Second_Level_DR_Approved__c\" : \"SECOND_LEVEL_DR_APPROVED__C\",\n",
    "                        \"Segment_Name__c\" : \"SEGMENT_NAME__C\",\n",
    "                        \"Split_LTR__c\" : \"SPLIT_LTR__C\",\n",
    "                        \"StageName\" : \"STAGE_NAME\",\n",
    "                        \"Stage_Temp__c\" : \"STAGE_TEMP__C\",\n",
    "                        \"Status__c\" : \"STATUS__C\",\n",
    "                        \"Sync_to_Model_N__c\" : \"SYNC_TO_MODEL_N__C\",\n",
    "                        \"SystemModstamp\" : \"SYSTEM_MOD_STAMP\",\n",
    "                        \"Territory2Id\" : \"TERRITORY_2_ID\",\n",
    "                        \"Third_Level_Notification_Sent__c\" : \"THIRD_LEVEL_NOTIFICATION_SENT__C\",\n",
    "                        \"Tier_1_Name__c\" : \"TIER_1_NAME__C\",\n",
    "                        \"Tier_1_Opp_No__c\" : \"TIER_1_OPP_NO__C\",\n",
    "                      \"TotalOpportunityQuantity\" : \"TOTAL_OPPORTUNITY_QUANTITY\",\n",
    "                        \"Total_Count_of_Opportunity_Line_Items__c\" : \"TOTAL_COUNT_OF_OPPORTUNITY_LINE_ITEMS__C\",\n",
    "                        \"Total_OLIs_COunt__c\" : \"TOTAL_OLIS_COUNT__C\",\n",
    "                        \"Trigger_Calculation__c\" : \"TRIGGER_CALCULATION__C\",\n",
    "                        \"Type\" : \"TYPE\",\n",
    "                        \"Year_1_Annual_Revenue__c\" : \"YEAR_1_ANNUAL_REVENUE__C\",\n",
    "                        \"Year_2_Annual_Revenue__c\" : \"YEAR_2_ANNUAL_REVENUE__C\",\n",
    "                        \"Year_3_Annual_Revenue__c\" : \"YEAR_3_ANNUAL_REVENUE__C\",\n",
    "                        \"Year_4_Annual_Revenue__c\" : \"YEAR_4_ANNUAL_REVENUE__C\",\n",
    "                        \"Year_5_Annual_Revenue__c\" : \"YEAR_5_ANNUAL_REVENUE__C\",\n",
    "                        \"Year_6_Annual_Revenue__c\" : \"YEAR_6_ANNUAL_REVENUE__C\",\n",
    "                        \"Year_7_Annual_Revenue__c\" : \"YEAR_7_ANNUAL_REVENUE__C\",\n",
    "                        \"Year_8_Annual_Revenue__c\" : \"YEAR_8_ANNUAL_REVENUE__C\",\n",
    "                        \"Year_9_Annual_Revenue__c\" : \"YEAR_9_ANNUAL_REVENUE__C\",\n",
    "                        \"Year_10_Annual_Revenue__c\" : \"YEAR_10_ANNUAL_REVENUE__C\",\n",
    "                      \n",
    "                        \n",
    "                        \n",
    "                        \n",
    "                         },\n",
    "                        inplace=True)"
   ]
  },
  {
   "cell_type": "code",
   "execution_count": 22,
   "metadata": {},
   "outputs": [],
   "source": [
    "df.columns = df.columns.str.upper()\n",
    "if 'ATTRIBUTES' in df.columns:\n",
    "    del df['ATTRIBUTES']\n",
    "sf_cursor.execute(\"delete from DW_SF_OPPORTUNITY_F_STG\")\n",
    "success, nchunks, nrows, output = write_pandas(conn=db, df=df, table_name='DW_SF_OPPORTUNITY_F_STG', schema = 'SC_S_SFDC')"
   ]
  },
  {
   "cell_type": "code",
   "execution_count": null,
   "metadata": {},
   "outputs": [],
   "source": []
  }
 ],
 "metadata": {
  "kernelspec": {
   "display_name": "Python 3",
   "language": "python",
   "name": "python3"
  },
  "language_info": {
   "codemirror_mode": {
    "name": "ipython",
    "version": 3
   },
   "file_extension": ".py",
   "mimetype": "text/x-python",
   "name": "python",
   "nbconvert_exporter": "python",
   "pygments_lexer": "ipython3",
   "version": "3.8.5"
  }
 },
 "nbformat": 4,
 "nbformat_minor": 4
}
