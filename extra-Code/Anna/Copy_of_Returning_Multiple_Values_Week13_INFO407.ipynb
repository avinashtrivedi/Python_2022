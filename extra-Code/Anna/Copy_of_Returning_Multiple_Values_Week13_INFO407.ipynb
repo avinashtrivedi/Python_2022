{
 "cells": [
  {
   "cell_type": "markdown",
   "metadata": {
    "id": "xAKXe40MUX9J"
   },
   "source": [
    "## **Programming with Python for Data Science**\n",
    "\n",
    "###**Lesson: Returning Multiple Values** "
   ]
  },
  {
   "cell_type": "markdown",
   "metadata": {
    "id": "KjorRsp1UX9Y"
   },
   "source": [
    "## **Notebook Preparation for Lesson in 1•2 steps:**\n",
    "Each lesson will start with a similar template:  \n",
    "1. **save** the notebook to your google drive (copy to drive)<br/> ![](https://drive.google.com/uc?export=view&id=1NXb8jeYRc1yNCTz_duZdEpkm8uwRjOW5)\n",
    " \n",
    "2. **update** the NET_ID to be your netID (no need to include @illinois.edu)"
   ]
  },
  {
   "cell_type": "code",
   "execution_count": null,
   "metadata": {
    "id": "-Of-PZQpUX9b"
   },
   "outputs": [],
   "source": [
    "LESSON_ID = 'p4ds:upy:return_multiple'   # keep this as is\n",
    "NET_ID    = 'salonis3' # CHANGE_ME to your netID (keep the quotes)"
   ]
  },
  {
   "cell_type": "markdown",
   "metadata": {
    "id": "o95trgbcUX9g"
   },
   "source": [
    "#**Lesson Returning Multiple Values**\n",
    "##**The return of many**\n",
    "Up until now every function we have written returned a single value. Even when we returned a list of items, that list is still considered a single value. However, there are times when we want a function to return multiple items. Lets look at the current options:\n",
    "\n",
    "##**Use a List**\n",
    "Although a Python list can hold mixed types (strings, numbers, functions), it's usually a good practice to think of a list as containing homogeneous items. It makes processing the list easier.\n",
    "```\n",
    "def get_shopping_item_list():\n",
    "  return ['apple', 10]\n",
    "```\n",
    "\n",
    "The downside is the code calling get_shopping_item (a.k.a. the client) has to remember to index into the list to get the proper value.\n",
    "\n",
    "###**Use a Dictionary**\n",
    "Using a dictionary is also a possibility, but it also puts some coupling (a.k.a. dependence) between the client and the function. Specifically if the author of the function changes the keys of the dictionary, s/he has to inform all those that use the function of the updates.\n",
    "```\n",
    "def get_shopping_item_dict():\n",
    "  return {\n",
    "    'name': 'apple', \n",
    "    'count' : 10\n",
    "  }\n",
    "```\n",
    "###**Use a Tuple**\n",
    "Returning a tuple is similar to returning a list; however the items returned are immutable (you can't change them).\n",
    "\n",
    "```\n",
    "def get_shopping_item_tuple():\n",
    "  return ('apple', 10)\n",
    "```\n",
    "\n",
    "> ***Coder's Log:*** *Use a Class or Object We haven't seen how to make Python objects yet. This is a perfectly viable solution if the returned class seems like a reasonable container. If the function is returning very disparate items, then making a class or object to hold those items isn't necessarily a good design decision. We will visit making Python Objects in another lesson(s).*"
   ]
  },
  {
   "cell_type": "markdown",
   "metadata": {
    "id": "-9xIERBCUX9j"
   },
   "source": [
    "##**Unpacking To the Rescue**\n",
    "One of the convenient ways to 'unpack' a tuple into separate values is just to use a list of comma separated variables:"
   ]
  },
  {
   "cell_type": "code",
   "execution_count": null,
   "metadata": {
    "id": "02Zd4IcIUX9p"
   },
   "outputs": [],
   "source": [
    "values = ('1', 2, 'three')\n",
    "i, j, k = values\n",
    "print(i, j, k)"
   ]
  },
  {
   "cell_type": "markdown",
   "metadata": {
    "id": "FoReg6--2dCx"
   },
   "source": [
    "\n",
    "When a function returns multiple values (as a tuple), you can easily access each item:"
   ]
  },
  {
   "cell_type": "code",
   "execution_count": null,
   "metadata": {
    "id": "jIkuHx_4UX9u"
   },
   "outputs": [],
   "source": [
    "def get_shopping_item_tuple():\n",
    "  return ('apple', 10)\n",
    "\n",
    "tc = get_shopping_item_tuple()\n",
    "print(tc[0], tc[1])"
   ]
  },
  {
   "cell_type": "markdown",
   "metadata": {
    "id": "h3dqhaBU2msw"
   },
   "source": [
    "We can use this feature called value unpacking for the caller to use a comma separated list of variables to hold the result of calling a function that returns a tuple:\n",
    "\n",
    "```\n",
    "(fruit, count) = get_shopping_item_tuple()\n",
    "print(fruit, count)\n",
    "```\n",
    "\n",
    "Note that the parenthesis around the tuple in both the function (e.g. get_shopping_item_tuple) and the list are optional:\n",
    "```\n",
    "fruit, count = get_shopping_item_tuple()\n",
    "print(fruit, count)\n",
    "```\n",
    "Also since Python is unpacking the returned tuple for you, the values are being copied into the variables and can be changed:\n",
    "```\n",
    "t = get_shopping_item_tuple()\n",
    "t[0] = 'orange' # ERROR (comment before submitting)\n",
    "\n",
    "fruit, count = get_shopping_item_tuple()\n",
    "fruit = 'orange' # OKAY\n",
    "```\n",
    "Note that you are changing the value in the copy and not the value in the tuple.\n",
    "\n",
    "For functions that return a dictionary, if the caller uses a comma separated list to hold the return values, the keys are returned:"
   ]
  },
  {
   "cell_type": "code",
   "execution_count": null,
   "metadata": {
    "id": "wmTMnbHzUX9z"
   },
   "outputs": [],
   "source": [
    "def get_shopping_item_dict():\n",
    "  return {\n",
    "    'name': 'apple', \n",
    "    'count' : 10\n",
    "  }\n",
    "\n",
    "k1,k2 = get_shopping_item_dict()\n",
    "print(k1, k2)"
   ]
  },
  {
   "cell_type": "markdown",
   "metadata": {
    "id": "rl1l5rLM3PaB"
   },
   "source": [
    "###**Unpacking Errors**\n",
    "If you don't provide enough variables in which to unpack, Python will throw a ValueError (be sure to comment out the line that causes the error):"
   ]
  },
  {
   "cell_type": "code",
   "execution_count": null,
   "metadata": {
    "id": "KPsKmFmIUX92"
   },
   "outputs": [],
   "source": [
    "def get_shopping_item_dict():\n",
    "  return {\n",
    "    'name': 'apple', \n",
    "    'type': 'granny',\n",
    "    'count' : 10\n",
    "  }\n",
    "  \n",
    "k1,k2 = get_shopping_item_dict()\n",
    "print(k1, k2)"
   ]
  },
  {
   "cell_type": "markdown",
   "metadata": {
    "id": "lXY31HUNUX93"
   },
   "source": [
    "##**Returning Multiple Items.**\n",
    "Just to reiterate the point (as we saw in the tuple example), you can write a function that returns multiple values (note that the parenthesis is not necessary) and the caller can decide whether to unpack the return values or keep them inside a tuple:"
   ]
  },
  {
   "cell_type": "code",
   "execution_count": null,
   "metadata": {
    "id": "yrKYX_3EUX95"
   },
   "outputs": [],
   "source": [
    "def get_shopping_items():\n",
    "  cart = get_shopping_item_dict()\n",
    "  keys = cart.keys()\n",
    "  return cart, list(keys)\n",
    "\n",
    "# both of these are valid\n",
    "both = get_shopping_items()\n",
    "print(type(both))\n",
    "\n",
    "items, keys = get_shopping_items()\n",
    "print(items[keys[0]])"
   ]
  },
  {
   "cell_type": "markdown",
   "metadata": {
    "id": "9LGRMK9g3jiP"
   },
   "source": [
    "**Before you go, you should know:**\n",
    "\n",
    "\n",
    "* how to return multiple values from a function\n",
    "\n",
    "\n",
    "* how to unpack a tuple into separate variables"
   ]
  },
  {
   "cell_type": "markdown",
   "metadata": {
    "id": "i7DJmYf-UX97"
   },
   "source": [
    "##**Lesson Assignment**\n",
    "You will use the [statistics library](https://docs.python.org/3/library/statistics.html) to build some simple results.\n",
    "\n",
    "###**Part 1: tuple of stats**\n",
    "####**Implement the function get_stats**\n",
    "The function get_stats calculates statistics on a sample of values.\n",
    "It does the following:\n",
    "\n",
    "* its input parameter is a csv string\n",
    "* a csv (comma separated values) string contains a list of numbers (the sample)\n",
    "* return a tuple that has 3 values: (n, stdev, mean)\n",
    "* tuple[0] is the number of items in the sample\n",
    "* tuple[1] is the standard deviation of the sample\n",
    "* tuple[2] is the mean of the sample\n",
    "\n",
    "###**Hints:**\n",
    "\n",
    "* get_stats can use the statistics library\n",
    "* the data should be considered a sample of items (use n-1 for degrees of freedom)\n",
    "* you can convert a string to a number by using the [built-in](https://docs.python.org/3/library/functions.html) function [float](https://docs.python.org/3/library/functions.html#float)\n",
    "\n",
    "Once that is done, the following should work:\n",
    "```\n",
    "print(get_stats(\"1, 2.0, 3\"))\n",
    "```"
   ]
  },
  {
   "cell_type": "code",
   "execution_count": 58,
   "metadata": {
    "id": "A04mLk7jUX99"
   },
   "outputs": [],
   "source": [
    "import statistics \n",
    "\n",
    "def get_stats(csv_string):\n",
    "    '''\n",
    "    csv_string is a list of values (any values)\n",
    "    return a tuple that holds (in this order):\n",
    "    n:     number of items in the sample\n",
    "    stdev: standard deviation of the n samples\n",
    "    mean:  ave of the n samples\n",
    "    '''\n",
    "    x = clean(csv_string)\n",
    "    n = len(x)\n",
    "    stdev = statistics.stdev(x)\n",
    "    mean = statistics.mean(x)\n",
    "\n",
    "    return n,stdev,mean"
   ]
  },
  {
   "cell_type": "markdown",
   "metadata": {
    "id": "NCAVX2ls4g_2"
   },
   "source": [
    "###**Part 2: Input Cleaning (extra credit)**\n",
    "Implement a clean function that returns a list of numbers from a csv string.\n",
    "```\n",
    "def clean(csv_string):\n",
    "  # return a list of numbers (floats) \n",
    "  # that are inside the csv_string\n",
    "  return []\n",
    "```\n",
    "The function clean should do the following:\n",
    "\n",
    "* remove missing items (e.g. \"1,2,,3\")\n",
    "* remove items marked with None or are the empty string (\"None,,2\")\n",
    "* remove items that are not numbers (\"a,b,c,2\")\n",
    "* However, if the item is a string, but a valid number, keep it (e.g. \"'1.1', ' 3 '\")\n",
    "\n",
    "So the following example should work:\n",
    "```\n",
    "csv = \"a, 1, '-2', 2.35, None,, 4, True\"\n",
    "print(clean(csv))\n",
    "# output is [1.0, -2.0, 2.35, 4.0]\n",
    "```\n",
    "Cleaning output like this is very common when the data is generated from users (e.g. surveys, web forms, etc).\n",
    "\n",
    "Once that is done, update get_stats to use the clean function:\n",
    "```\n",
    "def get_stats(csv_string):\n",
    "  input = clean(csv_string)\n",
    "  # now do stats on input\n",
    "\n",
    "  return ...\n",
    "```"
   ]
  },
  {
   "cell_type": "code",
   "execution_count": 59,
   "metadata": {
    "id": "inmvUOi4UX9_"
   },
   "outputs": [],
   "source": [
    "# type&run the above example/exercise in this cell\n",
    "def clean(csv_string):\n",
    "    # return a list of numbers (floats) \n",
    "    # that are inside the csv_string\n",
    "    lst = []\n",
    "    import re\n",
    "    for i in csv_string.split(','):\n",
    "        try:\n",
    "            x = float(re.sub(\"[\\\"\\']\", \"\", i).strip())\n",
    "            lst.append(x)\n",
    "        except:\n",
    "            pass\n",
    "    return lst"
   ]
  },
  {
   "cell_type": "markdown",
   "metadata": {
    "id": "1tVZzouOUX-A"
   },
   "source": [
    "##**Submission**\n",
    "\n",
    "After implementing all the functions and testing them please download the notebook as \"solution.py\" and submit to gradescope under \"Week13:UPY:Return_Multiple\" assignment tab and Moodle.\n",
    "\n",
    "**NOTES**\n",
    "\n",
    "* Be sure to use the function names and parameter names as given. \n",
    "* DONOT use your own function or parameter names. \n",
    "* Your file MUST be named \"solution.py\". \n",
    "* Comment out any lines of code and/or function calls to those functions that produce errors. If your solution has errors, then you have to work on them but if there were any errors in the examples/exercies then comment them before submitting to Gradescope.\n",
    "* Grading cannot be performed if any of these are violated."
   ]
  }
 ],
 "metadata": {
  "colab": {
   "collapsed_sections": [],
   "name": "Copy of Returning Multiple Values_Week13_INFO407",
   "provenance": []
  },
  "kernelspec": {
   "display_name": "Python 3 (ipykernel)",
   "language": "python",
   "name": "python3"
  },
  "language": "python",
  "language_info": {
   "codemirror_mode": {
    "name": "ipython",
    "version": 3
   },
   "file_extension": ".py",
   "mimetype": "text/x-python",
   "name": "python",
   "nbconvert_exporter": "python",
   "pygments_lexer": "ipython3",
   "version": "3.8.5"
  },
  "story": {
   "auth_token": "rV0Td2IVkmCHyCum-e3bMBmKbTNaH4HuoIvYfWulJVU=",
   "authorship_tag": "AB",
   "chapters": 19,
   "name": "Returning Multiple Values",
   "parser": {},
   "root": "https://github.com/habermanUIUC/CodeStories-lessons/blob/main/lessons/p4ds/upy/return_multiple",
   "tag": "p4ds:upy:return_multiple"
  }
 },
 "nbformat": 4,
 "nbformat_minor": 1
}
