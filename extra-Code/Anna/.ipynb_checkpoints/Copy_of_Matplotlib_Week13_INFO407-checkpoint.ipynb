{
 "cells": [
  {
   "cell_type": "markdown",
   "metadata": {
    "id": "pftWkGgcUXA4"
   },
   "source": [
    "## **Programming with Python for Data Science**\n",
    "\n",
    "###**Lesson: Matplotlib** "
   ]
  },
  {
   "cell_type": "markdown",
   "metadata": {
    "id": "E4i65OT7UXBE"
   },
   "source": [
    "## **Notebook Preparation for Lesson in 1•2 steps:**\n",
    "Each lesson will start with a similar template:  \n",
    "1. **save** the notebook to your google drive (copy to drive)<br/> ![](https://drive.google.com/uc?export=view&id=1NXb8jeYRc1yNCTz_duZdEpkm8uwRjOW5)\n",
    " \n",
    "2. **update** the NET_ID to be your netID (no need to include @illinois.edu)"
   ]
  },
  {
   "cell_type": "code",
   "execution_count": 1,
   "metadata": {
    "id": "f8-mz2svMfES"
   },
   "outputs": [],
   "source": [
    "LESSON_ID = 'p4ds:ds:matplotlib'   # keep this as is\n",
    "NET_ID    = 'salonis3' # CHANGE_ME to your netID (keep the quotes)"
   ]
  },
  {
   "cell_type": "markdown",
   "metadata": {
    "id": "98NLn86MUXBM"
   },
   "source": [
    "# Lesson Matplotlib\n",
    "###**The Basics, part 1**\n",
    "Matplotlib is one of the oldest and most complete libraries for building data visualizations in Python. Knowing the basics of matplotlib will help you use many of the other libraries that use it directly or wrap convenience functions around it (e.g. seaborn, pandas, ggpy, scikit-plot). At some point the libraries that use matplotlib won't give you enough control and you end up needing to know how to use matplotlib anyway."
   ]
  },
  {
   "cell_type": "markdown",
   "metadata": {
    "id": "HuZ2FTyqUXBO"
   },
   "source": [
    "##**The OO Way**\n",
    "The big problem with matplotlib is that it is so BIG and so flexible that it's hard to learn -- there are plenty of excellent tutorials available but the issue is that each tutorial presents a different way to build charts and graphs. A previous lesson introduced two different styles for creating visualizations, this lesson will continue along the path of using the object-oriented (OO) approach where there is not a reliance on state sharing (called the matplotlib pyplot interface) This comes at the cost of needing to write a bit more code; however, the code is more explicit (you're not relying on hidden state) and presents a uniform approach to building visualizations. Even matplotlib advises using the OO interface:\n",
    "\n",
    "![](https://drive.google.com/uc?export=view&id=1C7rvMcgISoi780I6Pf65Gs5D0ELg6cfq)\n",
    "\n",
    "<small> source: https://matplotlib.org/tutorials/introductory/lifecycle.html and https://matplotlib.org/api/api_overview.html </small>\n",
    "\n",
    "###**Static vs Interactive**\n",
    "Perhaps one of the least appealing aspects of using standard matplotlib is that the visualizations are static. You can't interact with them; there's no animation -- the library was built to create publish-quality graphics. However, the popularity of online notebooks has pushed the development such that there are now options to convert a matplotlib figure into HTML/Javascript as well as create animations in matplotlib.\n",
    "\n",
    "Since matplotlib's API is so popular, other web-based animation libraries support a matplotlib-like interface as well. There's plenty of web-first visualization libraries (e.g. D3, React-vis, Raphael, Chart.js) that we can explore later. Some libraries like mpld3, Plotly, bokeh bring the worlds of Python, matplotlib, and Javascript together. The effort required to learn matplotlib will be worth it even if you end up creating only web-based visualizations.\n",
    "\n",
    "###**Starting From One**\n",
    "Matplotlib was written by someone who used MATLAB and wanted similar functionality in Python (the pylab module was built to mimic the MATLAB global style -- which we are trying to avoid). Another carry over is that MATLAB uses 1-based indexing so many things in matplotlib start at one and not zero (this fact only affects those using the pyplot, shared state interface).\n",
    "\n",
    "Since matplotlib is a graphics library there is a separation of the user created code that uses matplotlib (called the frontend) from the actual user interface (e.g. GUI) called the backend -- the output. The backend is responsible for taking the matplotlib internal representation of a graph to different platforms (windows, unix, jupyter notebooks, etc) to actually render the plots. In some cases, the backend will provide a toolbar to work with the created visualization. For the most part, you will not need to reconfigure or change the backend.\n",
    "\n",
    "> ***Coder's Log:*** *When you write client/server code, the user-facing product (i.e. client-code, a GUI, a user interface, web-page) is usually called the frontend and the backend refers to the server code.*\n",
    "\n",
    "You can call get_backend to see the current backend:\n"
   ]
  },
  {
   "cell_type": "code",
   "execution_count": 2,
   "metadata": {
    "id": "fBkSf9kSUXBR"
   },
   "outputs": [
    {
     "name": "stdout",
     "output_type": "stream",
     "text": [
      "module://matplotlib_inline.backend_inline\n"
     ]
    }
   ],
   "source": [
    "import matplotlib\n",
    "print(matplotlib.get_backend())"
   ]
  },
  {
   "cell_type": "markdown",
   "metadata": {
    "id": "uXgNsPCTVNo3"
   },
   "source": [
    "If you need to change or modify the backend, you must do it before you do anything else (including importing other matplotlib modules).\n",
    "\n",
    "To bring matplotlib into your codebase you usually just import matplotlib's pyplot library. Add this too and re-run the code:\n",
    "\n",
    "```\n",
    "import matplotlib.pyplot as plt\n",
    "```\n",
    "It is standard convention to alias matplotlib.pyplot to plt."
   ]
  },
  {
   "cell_type": "markdown",
   "metadata": {
    "id": "90GRela3UXBb"
   },
   "source": [
    "##**A Hierarchy of Objects**\n",
    "Every graph starts out by creating a figure:"
   ]
  },
  {
   "cell_type": "code",
   "execution_count": 4,
   "metadata": {
    "id": "PxfUZI1FUXBe"
   },
   "outputs": [
    {
     "name": "stdout",
     "output_type": "stream",
     "text": [
      "<class 'matplotlib.figure.Figure'>\n"
     ]
    },
    {
     "data": {
      "text/plain": [
       "<Figure size 432x288 with 0 Axes>"
      ]
     },
     "metadata": {},
     "output_type": "display_data"
    }
   ],
   "source": [
    "import matplotlib.pyplot as plt\n",
    "fig = plt.figure()\n",
    "print(type(fig))"
   ]
  },
  {
   "cell_type": "markdown",
   "metadata": {
    "id": "22Mbzd8sVhoQ"
   },
   "source": [
    "A matplotlib figure is the user interface. It's a container that can hold multiple plots. You can create multiple figures, but the usual convention is that you build multiple subplots inside a figure.\n",
    "\n",
    "The figure function can take different parameters to configure its size (among other things [see](https://matplotlib.org/stable/api/_as_gen/matplotlib.pyplot.figure.html)).\n",
    "\n",
    "```\n",
    "fig = plt.figure(figsize=(6, 4), facecolor='green')\n",
    "```\n",
    "\n",
    "The figure holds one or more *subplots*. However these subplots are called axes.\n",
    "\n",
    "![](https://drive.google.com/uc?export=view&id=1CcKggQWeg4Lun2FkOiKy9XDMRQtipJE-)\n",
    "\n",
    "<small> source: https://realpython.com/python-matplotlib-guide </small>\n",
    "\n",
    "The axes object (a subplot) holds all the elements of a visualization including the x and y axis, lines, labels, legends (you can also attach a legend to a figure), etc:\n",
    "\n",
    "![](https://drive.google.com/uc?export=view&id=1C9pcNCsCffPjF7LNltjPLLtL4LkPYBjv)\n",
    "\n",
    "<small> source: matplotlib.org </small>\n",
    "\n",
    "Since it's so common to need to access the figure and subplots (i.e. axes) there is a convenient function to create both using the plt.subplots function:"
   ]
  },
  {
   "cell_type": "code",
   "execution_count": 5,
   "metadata": {
    "id": "VZhmmAaOUXBh"
   },
   "outputs": [
    {
     "name": "stdout",
     "output_type": "stream",
     "text": [
      "<class 'matplotlib.figure.Figure'> <class 'matplotlib.axes._subplots.AxesSubplot'>\n"
     ]
    },
    {
     "data": {
      "image/png": "[encoded data removed]",
      "text/plain": [
       "<Figure size 432x288 with 1 Axes>"
      ]
     },
     "metadata": {
      "needs_background": "light"
     },
     "output_type": "display_data"
    }
   ],
   "source": [
    "fig, axes  = plt.subplots()\n",
    "print(type(fig), type(axes))"
   ]
  },
  {
   "cell_type": "markdown",
   "metadata": {
    "id": "yenw1X4RXHc7"
   },
   "source": [
    "If you need multiple subplots within a figure you can do the following:\n",
    "\n",
    "```\n",
    "fig, axes = plt.subplots(nrows=1, ncols=2)\n",
    "print(type(axes))\n",
    "\n",
    "#twice as tall\n",
    "fig, axes = plt.subplots(ncols=2, figsize=plt.figaspect(1.0/2.0)) \n",
    "```\n",
    "\n",
    "However, now axes is a **list/array of axes**. Specifically it is a NumPy ndarray of AxesSubplot objects.\n",
    "\n",
    "###**Numpy dependence**\n",
    "Like many libraries, matplotlib also uses Numpy for many of its implementation details. Numpy is not needed for this lesson, but be aware that knowing Numpy will help you with matplotlib. Pandas (a data analysis package) is built on top of both matplotlib AND adds additional features on top of Numpy. So mastering these libraries will make you a very effective Pandas user and developer.\n",
    "\n",
    "We will look at using multiple subplots in a future lesson. Each axes (yes it's plural) is a plot that you can access the x and y axis and build your visualization.\n",
    "\n",
    "You can also create the figure and the axes independently by using the add_subplot function:\n",
    "```\n",
    "fig, axes  = plt.subplots() \n",
    "# IS SAME AS\n",
    "\n",
    "fig  = plt.figure()\n",
    "axes = fig.add_subplot(111)\n",
    "```\n",
    "\n",
    "The reasoning behind the 111 parameter will be discussed in further detail in the second part (111: 1 row, 1 col, subplot position 1).\n",
    "\n",
    "We will focus on a single unified way to build a figure via the OO API. There are also a multitude of functions that use the active state to create and manipulate figures (e.g. plt.subplot()). The flexibility of the library is what makes learning it so difficult -- there's so many ways to solve a problem!\n",
    "\n",
    "The decision to use the OO API and a few of the specific functions will allow you to write explicit code and follow the recommended/best-practices way to use matplotlib\n",
    "\n",
    "Also, as a reminder, writing explicit code is better than relying on implicit state. If you see plt.\\<SOMETHING> (other than for creating subplots and showing them), you're seeing the non-object oriented (pyplot) interface."
   ]
  },
  {
   "cell_type": "markdown",
   "metadata": {
    "id": "cz0TX6cmUXBi"
   },
   "source": [
    "##**Showing a Figure**\n",
    "Once you finished building your figure, you usually do the following:\n",
    "\n",
    "```\n",
    "# make a figure window appear (shows all figures)\n",
    "plt.show() \n",
    "```\n",
    "\n",
    "However, in the notebook environment, you don't need to call show. The library is set to interactive mode -- meaning the figures will automatically appear. In some environments, like repl.it, nothing will happen when you call show because the backend's implementation doesn't do anything.\n",
    "\n",
    "###**Saving a Figure**\n",
    "You can always write your figure to a file too:\n",
    "```\n",
    "fig, axes = plt.subplots(nrows=1, ncols=2)\n",
    "plt.savefig('ex1.png')\n",
    "```\n",
    "\n",
    "Since the savefig has its own set of parameters, you may need to set some of the parameters explicitly (rather than assume savefig will use the information from the figure) [see](https://matplotlib.org/stable/api/_as_gen/matplotlib.pyplot.savefig.html).\n",
    "\n",
    "```\n",
    "fig, axes = plt.subplots(nrows=1, ncols=2)\n",
    "fig.set_facecolor('green')\n",
    "plt.savefig('ex2.png', facecolor=fig.get_facecolor())\n",
    "```\n",
    "\n",
    "###**Simple Plots By Example**\n",
    "Let's go over some very basic chart types. Mastery of the simple allows you to build more complex visualizations. You will begin to see some patterns emerge.\n",
    "\n",
    "###**Data for Charts**\n",
    "This lesson comes with a Data Utility that mimics a roll of two dice done multiple times. Please download data.py from Moodle and upload it here and thenyou can access the data as follows:"
   ]
  },
  {
   "cell_type": "code",
   "execution_count": 7,
   "metadata": {
    "id": "o5T69jGoUXBj"
   },
   "outputs": [
    {
     "name": "stdout",
     "output_type": "stream",
     "text": [
      "Counter({5: 5, 7: 2, 8: 1, 11: 1, 10: 1})\n",
      "dict_keys([7, 8, 5, 11, 10])\n",
      "dict_values([2, 1, 5, 1, 1])\n"
     ]
    }
   ],
   "source": [
    "import data\n",
    "\n",
    "# roll a pair of dice 10 times\n",
    "DICE = data.Dice(10)\n",
    "print(DICE.roll_map)\n",
    "print(DICE.roll_map.keys())\n",
    "print(DICE.roll_map.values())\n",
    "\n",
    "# roll a pair of dice 1000 times\n",
    "DICE = data.Dice(1000)"
   ]
  },
  {
   "cell_type": "markdown",
   "metadata": {
    "id": "IIrEMY8Bb1am"
   },
   "source": [
    "We will use the same dataset for all the visualizations."
   ]
  },
  {
   "cell_type": "markdown",
   "metadata": {
    "id": "ax573lqPUXBo"
   },
   "source": [
    "###**Scatter Plot**\n",
    "The simplest graph to produce is a plot of x,y values.\n",
    "\n",
    "![](https://drive.google.com/uc?export=view&id=1CYl8AF1G0b7lGIZrQqBUnLBHbXQyWEfl)\n",
    "\n",
    "The following creates a scatter plot:"
   ]
  },
  {
   "cell_type": "code",
   "execution_count": 8,
   "metadata": {
    "id": "RxuRh4s1UXBq"
   },
   "outputs": [],
   "source": [
    "def make_scatter(d):\n",
    "  x = d.keys()     # 2,3,4 .. 11, 12  (unordered)\n",
    "  y = d.values()   # times that sum was rolled\n",
    "  fig, axes = plt.subplots()\n",
    "  axes.scatter(x,y)\n",
    "  fig.savefig('scatter.png')"
   ]
  },
  {
   "cell_type": "code",
   "execution_count": 17,
   "metadata": {},
   "outputs": [
    {
     "data": {
      "image/png": "[encoded data removed]",
      "text/plain": [
       "<Figure size 432x288 with 1 Axes>"
      ]
     },
     "metadata": {
      "needs_background": "light"
     },
     "output_type": "display_data"
    }
   ],
   "source": [
    "make_scatter(DICE.roll_map)"
   ]
  },
  {
   "cell_type": "markdown",
   "metadata": {
    "id": "pp-Z6bmcelIp"
   },
   "source": [
    "To create a scatter plot of the dice rolls:\n",
    "\n",
    "```\n",
    "make_scatter(DICE.roll_map)\n",
    "```\n",
    "We will soon learn how to add labels and make the graph more visually appealing, but for now we are going to focus on the basics."
   ]
  },
  {
   "cell_type": "markdown",
   "metadata": {
    "id": "Xk4eUIw0UXBt"
   },
   "source": [
    "###**Line Plots**\n",
    "For line plots, it's important that your data is ordered -- since the lines are drawn connecting adjacent points.\n",
    "\n",
    "![](https://drive.google.com/uc?export=view&id=1Ccql7MGj29pzK55PRYWMUeaxG-JnTrJY)\n",
    "\n",
    "For line graphs, you need two parallel arrays: one that represents the x values and another for the y values:"
   ]
  },
  {
   "cell_type": "code",
   "execution_count": 9,
   "metadata": {
    "id": "Zpv_i1DyUXBu"
   },
   "outputs": [
    {
     "data": {
      "image/png": "[encoded data removed]",
      "text/plain": [
       "<Figure size 432x288 with 1 Axes>"
      ]
     },
     "metadata": {
      "needs_background": "light"
     },
     "output_type": "display_data"
    }
   ],
   "source": [
    "def make_lines(x,y):\n",
    "  # need the x,y pairs in order\n",
    "  fig, axes = plt.subplots()\n",
    "  axes.plot(x,y)\n",
    "  fig.savefig('line.png')\n",
    "\n",
    "make_lines(DICE.x, DICE.y)"
   ]
  },
  {
   "cell_type": "markdown",
   "metadata": {
    "id": "fly-sHLBjG4I"
   },
   "source": [
    "###**Vertical and Horizontal lines**\n",
    "To make simple vertical or horizontal lines there are the convenience functions axhline and axvline. These are perfect for augmenting a chart."
   ]
  },
  {
   "cell_type": "markdown",
   "metadata": {
    "id": "7faO3Y6yUXBv"
   },
   "source": [
    "###**Bar Charts**\n",
    "Bar charts use a similar type of data as the line chart, however, you need to specify the width of the bars.\n",
    "\n",
    "![](https://drive.google.com/uc?export=view&id=1CEgaNpZqpwUfv3Q3IUTTe-uHpbUwnXm0)\n",
    "\n",
    "By default, matplotlib will do this for you. In the case of showing dice rolls, the y values (the number of times the sum (represented by x)) will be the height values."
   ]
  },
  {
   "cell_type": "code",
   "execution_count": 14,
   "metadata": {
    "id": "uxGfNGinUXBw"
   },
   "outputs": [
    {
     "data": {
      "image/png": "[encoded data removed]",
      "text/plain": [
       "<Figure size 432x288 with 1 Axes>"
      ]
     },
     "metadata": {
      "needs_background": "light"
     },
     "output_type": "display_data"
    }
   ],
   "source": [
    "def make_bar(x,y):\n",
    "  fig, axes = plt.subplots()\n",
    "  axes.bar(x, height=y)\n",
    "  fig.savefig('bar.png')\n",
    "\n",
    "make_bar(DICE.x, DICE.y)"
   ]
  },
  {
   "cell_type": "markdown",
   "metadata": {
    "id": "pZ6-itTGUXBx"
   },
   "source": [
    "###**Histograms**\n",
    "Closely related to bar charts are histograms. A histogram typically visualizes a distribution of numerical data -- usually an estimate of a probability distribution for a continuous variable. You need to specify either the number of bins you want to divide your data into or a list of bin 'edges'.\n",
    "\n",
    "![](https://drive.google.com/uc?export=view&id=1CUbdDmChHLGyJ5OeYJLpka67eMlbmg_p)\n",
    "\n",
    "For making histograms, you need the raw elements that you will be plotting"
   ]
  },
  {
   "cell_type": "code",
   "execution_count": 15,
   "metadata": {
    "id": "OMpAxxbuUXBx"
   },
   "outputs": [
    {
     "data": {
      "image/png": "[encoded data removed]",
      "text/plain": [
       "<Figure size 432x288 with 1 Axes>"
      ]
     },
     "metadata": {
      "needs_background": "light"
     },
     "output_type": "display_data"
    }
   ],
   "source": [
    "def make_histogram(elements):\n",
    "  fig, axes = plt.subplots()\n",
    "  low  = min(elements)\n",
    "  high = max(elements)\n",
    "  bins = high - low + 1\n",
    "  \n",
    "  axes.hist(elements, bins=bins)\n",
    "  fig.savefig('hist.png')\n",
    "\n",
    "make_histogram(DICE.rolls)"
   ]
  },
  {
   "cell_type": "markdown",
   "metadata": {
    "id": "eDV7l1R-jsk5"
   },
   "source": [
    "To make it into a probability density function, you specify density to be True:\n",
    "```\n",
    "axes.hist(elements, density=True, bins=bins)\n",
    "fig.savefig('hist2.png')\n",
    "```\n",
    "Note that the argument for bins is an integer in this case.\n",
    "\n",
    "In order to center the data, you can specify a **list of bin edges** to use:\n",
    "```\n",
    "bins = [i-0.5 for i in range(low,high+2)]\n",
    "axes.hist(elements, density=True, bins=bins)\n",
    "fig.savefig('hist3.png')\n",
    "```\n",
    "\n",
    "Here bins is a list of values. We simply subtract 0.5 from each bin to essentially move the x axis labels."
   ]
  },
  {
   "cell_type": "markdown",
   "metadata": {
    "id": "EEkiYmRxUXBy"
   },
   "source": [
    "###**Area Charts**\n",
    "There's not much difference between a line chart and an area chart other than the space under the line is filled in. It helps communicate trends rather than specific values.\n",
    "\n",
    "![](https://drive.google.com/uc?export=view&id=1C40GGQXt_Av5qscIzeltpbJtw_CR_xvb)\n"
   ]
  },
  {
   "cell_type": "code",
   "execution_count": 16,
   "metadata": {
    "id": "of--7jdbUXBz"
   },
   "outputs": [
    {
     "data": {
      "image/png": "[encoded data removed]",
      "text/plain": [
       "<Figure size 432x288 with 1 Axes>"
      ]
     },
     "metadata": {
      "needs_background": "light"
     },
     "output_type": "display_data"
    }
   ],
   "source": [
    "def make_area(x, y):\n",
    "  # need the x,y pairs in order\n",
    "  fig, axes = plt.subplots()\n",
    "  axes.fill_between(x,y)\n",
    "  fig.savefig('area.png')\n",
    "\n",
    "make_area(DICE.x, DICE.y)"
   ]
  },
  {
   "cell_type": "markdown",
   "metadata": {
    "id": "sceKT2YEkSYY"
   },
   "source": [
    "Each plot type has unique configurations (formal parameters). The only way to harness matplotlib is to always consult the documentation for each chart type. For example, documentation for the histogram method on the axes is available via https://matplotlib.org/api/_as_gen/matplotlib.axes.Axes.hist.html \n",
    "Be careful when you google 'matplotlib histogram'. There are many different ways to generate a histogram.\n",
    "\n",
    "###**Before you go, you should know:**\n",
    "\n",
    "\n",
    "* what a figure is\n",
    "* what an axis is\n",
    "* the basic chart types"
   ]
  },
  {
   "cell_type": "markdown",
   "metadata": {
    "id": "ggHjP7hhUXB0"
   },
   "source": [
    "###**Lesson Assignment.**\n",
    "All this great knowledge will be used in an upcoming lesson. You will still need to upload this lesson to Gradescope to acknowledge you read the lessons and read (and run) all the sample code.\n",
    "\n",
    "###**Submission**\n",
    "Download the notebook as \"solution.py\" and submit to gradescope under \"Week13:DS:Matplotlib1\" assignment tab and Moodle."
   ]
  },
  {
   "cell_type": "markdown",
   "metadata": {
    "id": "B4NyvYXTksDK"
   },
   "source": [
    "**References and Additional Readings**\n",
    "* https://matplotlib.org/cheatsheets/\n",
    "* https://matplotlib.org/Matplotlib.pdf\n",
    "  cheatsheet: (warning this is not the OO API)\n",
    "* https://s3.amazonaws.com/assets.datacamp.com/blog_assets/Python_Matplotlib_Cheat_Sheet.pdf"
   ]
  }
 ],
 "metadata": {
  "colab": {
   "collapsed_sections": [],
   "name": "Copy of Matplotlib_Week13_INFO407",
   "provenance": []
  },
  "kernelspec": {
   "display_name": "Python 3 (ipykernel)",
   "language": "python",
   "name": "python3"
  },
  "language": "python",
  "language_info": {
   "codemirror_mode": {
    "name": "ipython",
    "version": 3
   },
   "file_extension": ".py",
   "mimetype": "text/x-python",
   "name": "python",
   "nbconvert_exporter": "python",
   "pygments_lexer": "ipython3",
   "version": "3.8.5"
  },
  "story": {
   "auth_token": "MbxMpCF1EXbeOyHFDrdSCtsjzjaeUB39N7_DI_QHGy8=",
   "authorship_tag": "AB",
   "chapters": 30,
   "name": "Matplotlib",
   "parser": {},
   "root": "https://github.com/habermanUIUC/CodeStories-lessons/blob/main/lessons/p4ds/ds/matplotlib",
   "tag": "p4ds:ds:matplotlib"
  }
 },
 "nbformat": 4,
 "nbformat_minor": 1
}
