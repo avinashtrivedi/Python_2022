{
 "cells": [
  {
   "cell_type": "markdown",
   "metadata": {
    "id": "jNxwHPHIFC_W"
   },
   "source": [
    "## **Programming with Python for Data Science**\n",
    "\n",
    "\n",
    "###**Lesson: Regular Expressions (part 2)** "
   ]
  },
  {
   "cell_type": "markdown",
   "metadata": {
    "id": "ZItgK3xMHeHC"
   },
   "source": [
    "## **Notebook Preparation for Lesson in 1•2 steps:**\n",
    "Each lesson will start with a similar template:  \n",
    "1. **save** the notebook to your google drive (copy to drive)<br/> ![](https://drive.google.com/uc?export=view&id=1NXb8jeYRc1yNCTz_duZdEpkm8uwRjOW5)\n",
    " \n",
    "2. **update** the NET_ID to be your netID (no need to include @illinois.edu)"
   ]
  },
  {
   "cell_type": "code",
   "execution_count": 1,
   "metadata": {
    "id": "mFNjvEMpHeHC"
   },
   "outputs": [],
   "source": [
    "LESSON_ID = 'p4ds:upy:reg_ex2'   # keep this as is\n",
    "NET_ID    = 'salonis3' # CHANGE_ME to your netID (keep the quotes)"
   ]
  },
  {
   "cell_type": "markdown",
   "metadata": {
    "id": "xvXzFYtqSSGD"
   },
   "source": [
    "#**Lesson Regular Expressions (part 2)**\n",
    "###**Finding patterns continued**\n",
    "This is the second part of using regular expressions to easily find and use patterns in text. As we have seen they are a powerful tool for processing text by letting you describe a pattern for which data you are interested in. You can use regular expressions for\n",
    "\n",
    "* cleaning text: replacing characters, removing characters\n",
    "* parsing text: splitting text into sentences, words, and tokens (like dates, airport codes, capitalized words, words with hyphens, etc)\n",
    "* testing text: asking if text has a vowel, is a number, a date, etc\n",
    "* searching for text that matches a pattern\n",
    "\n",
    "The effort to learn regular expressions is well worth it -- almost all programming languages support regular expressions, you can even use regular expressions in some editors and on the \"command line\" (something we hope to cover).\n",
    "\n",
    "The following reference from part 1 is repeated here:\n",
    "\n",
    "###**Character Sets**\n",
    "```\n",
    "[abc]   matches a or b or c\n",
    "[abc]+  matches any combination of a, b, c \n",
    "[^abc]  matches any thing BUT a or b or c \n",
    "        the caret 'negates' everything that follows\n",
    "^ - ] \\ these have special meaning and you will need to escape inside [ ]\n",
    "```\n",
    "\n",
    "###**Matching Specific Counts of Characters**\n",
    "```\n",
    "?     0 or 1 time\n",
    "*     0 or more times\n",
    "+     1 or more times\n",
    "{m}   m times\n",
    "{m,}  at least m times\n",
    "{,n}  0 through n times (inclusive)\n",
    "{m,n} m through n times (inclusive)\n",
    "```\n",
    "\n",
    "###**Character Classes and Special Symbols**\n",
    "```\n",
    ".  match any character except \\n \n",
    "\\. match the period\n",
    "\\? match the question mark\n",
    "\\s match whitespace \\s+ one or more white spaces \n",
    "\\S match non whitespace\n",
    "\\d match digits (same as [0-9])\n",
    "\\D non digits (same as [^0-9])\n",
    "\\w same as [a-zA-Z0-9_]+  (word character)\n",
    "\\W same as [^a-zA-Z0-9_]+ (non word character or non alphanumeric)\n",
    "\\' match a single quote\n",
    "\\\" match a double quote\n",
    "```"
   ]
  },
  {
   "cell_type": "markdown",
   "metadata": {
    "id": "SZ_M5PTfSSGF"
   },
   "source": [
    "###**New in this lesson**\n",
    "The following is a summary of some of the new topics we will cover in this lesson:\n",
    "```\n",
    "ab|bc   Matches either ab or bc\n",
    "\n",
    "\\b      Matches empty string at word boundary\n",
    "\\B      Matches empty string not at word boundary\n",
    "\n",
    "^       Matches the beginning of a line \n",
    "$       Matches the end of the line\n",
    "```\n",
    "\n",
    "###**This OR that or the other thing**\n",
    "In the previous lesson you were asked to create a pattern to match either he or she. The following are possible solutions:\n",
    "```\n",
    "pattern = r'\\s+[sh]+e\\s+'  \n",
    "pattern = r'\\s+s?he\\s+'\n",
    "```\n",
    "\n",
    "Both find 2110 matches. Both versions required the \\s+ be used to ensure partial words (e.g. sheep) were not matched. However, the first one is technically wrong since it also matches words like shhhhe. The second one works because we were able to leverage the common characters.\n",
    "\n",
    "With regular expressions you can use the pipe character | to separate choices. This is called *alternation*. For example:"
   ]
  },
  {
   "cell_type": "code",
   "execution_count": 2,
   "metadata": {
    "id": "niKqKcz_SSGI"
   },
   "outputs": [
    {
     "name": "stdout",
     "output_type": "stream",
     "text": [
      "['He', 'he', 'she', 'he', 'she', 'he', 'he']\n"
     ]
    }
   ],
   "source": [
    "import re\n",
    "text = \"He said breathe and she and the sheep did hehe\"\n",
    "pattern = r'he|she'\n",
    "r = re.findall(pattern, text, re.IGNORECASE)\n",
    "print(r)"
   ]
  },
  {
   "cell_type": "markdown",
   "metadata": {
    "id": "1pSHmoNa0BNR"
   },
   "source": [
    "Here are the matches:\n",
    "```\n",
    "['He', 'he', 'she', 'he', 'she', 'he', 'he']\n",
    "```\n",
    "**He** said breat**he** and **she** and t**he** **she**ep did **hehe**\n",
    "\n",
    "We can fix the above issues once we learn about word boundaries.\n",
    "\n",
    "###**Finding Vowels**\n",
    "Let's start this lesson with an attempt to find all words in the text that have two consecutive vowels. With regular expressions, the task is quite easy. Let's write a pattern to find any word that contains two consecutive vowels:"
   ]
  },
  {
   "cell_type": "code",
   "execution_count": 3,
   "metadata": {
    "id": "OJJaavnHSSGm"
   },
   "outputs": [],
   "source": [
    "def find_vowels(text):\n",
    "   pattern = r'[a-z]*[aeiou]{2}[a-z]*'\n",
    "   regex   = re.compile(pattern, re.IGNORECASE)\n",
    "   return(regex.findall(text))"
   ]
  },
  {
   "cell_type": "markdown",
   "metadata": {
    "id": "gaO4K3in0bJT"
   },
   "source": [
    "Here's a description of the parts of pattern:\n",
    "\n",
    "* [a-z] is any letter, a through z\n",
    "* \\* means zero or more of the previous character class\n",
    "* {2} means 2 of the previous character class (vowels)\n",
    "* use the re.IGNORECASE flag to keep the pattern simple -- it matches both upper and lowercaseYou would describe the pattern as trying to match 0 or more letters, followed by exactly 2 vowels followed by 0 or more letters."
   ]
  },
  {
   "cell_type": "code",
   "execution_count": 4,
   "metadata": {
    "id": "1XozeC9rSSGt"
   },
   "outputs": [],
   "source": [
    "import re\n",
    "def read_huck():\n",
    "  with open('huck.txt', 'r') as fd:\n",
    "    txt = fd.read()\n",
    "  return txt\n",
    "\n",
    "def get_uniq_set(t):\n",
    "  return sorted(set([x.lower() for x in t]))\n",
    "\n",
    "def vowel_demo():\n",
    "    txt  = read_huck()\n",
    "    uniq = list(get_uniq_set(find_vowels(txt)))\n",
    "    print(uniq[0:20], len(uniq))\n",
    "\n"
   ]
  },
  {
   "cell_type": "markdown",
   "metadata": {
    "id": "j_cYfVDW07Z1"
   },
   "source": [
    "You should get 1529 words with two consecutive vowels.\n",
    "\n",
    "###**Starting Vowels**\n",
    "How about words that begin with two consecutive vowels?"
   ]
  },
  {
   "cell_type": "code",
   "execution_count": 5,
   "metadata": {
    "id": "vHILdz7OSSGw"
   },
   "outputs": [],
   "source": [
    "def find_vowels_starts(text):\n",
    "    pattern = r'[aeiou]{2}[a-z]*'\n",
    "    regex   = re.compile(pattern, re.IGNORECASE)\n",
    "    return(regex.findall(text))\n",
    " \n",
    "def test_starting_vowels():\n",
    "    v    = find_vowels_starts(read_huck())\n",
    "    uniq = list(get_uniq_set(v))\n",
    "    print(uniq[0:20], len(uniq))\n"
   ]
  },
  {
   "cell_type": "markdown",
   "metadata": {
    "id": "HgbScUvV1k_v"
   },
   "source": [
    "We find 767 matches, but there are some issues.\n",
    "\n",
    "###**Word Boundaries**\n",
    "We get words like 'oody' and 'oollishness'. The problem is that we are matching partial words. We can augment the regular expression with a word boundary special character.\n",
    "\n",
    "In Python, there is an idea of a word boundary which has the following definition:\n",
    "\n",
    "> A word boundary **matches the empty string**, but only at the beginning or end of a word. A word is defined as a sequence of alphanumeric or underscore characters, so the end of a word is indicated by whitespace or a non-alphanumeric, non-underscore character.\n",
    "\n",
    "Let's update the pattern so that that it must start with a word boundary:"
   ]
  },
  {
   "cell_type": "code",
   "execution_count": 7,
   "metadata": {
    "id": "CWkGuMmoSSHX"
   },
   "outputs": [
    {
     "name": "stdout",
     "output_type": "stream",
     "text": [
      "['aimed', 'aiming', 'ain', 'air', 'airs', 'airy', 'auction', 'auctioneer', 'audience', 'aunt', 'aunty', 'authorities', 'each', 'eager', 'eagle', 'ear', 'earlier', 'earls', 'early', 'earn'] 65\n"
     ]
    }
   ],
   "source": [
    "def find_vowels_starts(text):\n",
    "    pattern = r'\\b[aeiou]{2}[a-z]*'\n",
    "    regex   = re.compile(pattern, re.IGNORECASE)\n",
    "    return regex.findall(text)\n",
    " \n",
    "v    = find_vowels_starts(read_huck())\n",
    "uniq = list(get_uniq_set(v))\n",
    "print(uniq[0:20], len(uniq))"
   ]
  },
  {
   "cell_type": "markdown",
   "metadata": {
    "id": "HD0zlhiB13OG"
   },
   "source": [
    "This gives us 65 complete matches.\n",
    "\n",
    "###**zero-width matching**\n",
    "The thing to remember about word boundaries is that they **match a zero-width character**. They don’t cause the regular expression engine to advance through the string; instead, they consume no characters at all, and simply succeed or fail.\n",
    "\n",
    "For example, \\b is an assertion that the current position is located at a word boundary; the position isn’t changed by the \\b at all. This means that zero-width assertions should never be repeated, because if they match once at a given location, they will match an infinite number of times.\n",
    "\n",
    "So a word boundary will find those \"words\" that at least start with [a-z0-9_]+ followed by whitespace or [^0-9a-z_]. Once it matches that location, it is up to whatever follows the \\b in your regular expression to determine a match.\n",
    "\n",
    "If we wanted to match italicized double vowel words or phrases (e.g. *Aunt Polly!*), we would have to add the underscore to the pattern:\n",
    "```\n",
    "pattern = r'\\b_[aeiou]{2}[^_]*_'\n",
    "```\n",
    "The thing to note is the above expression **will return** the matching underscore and the set of words it finds will be a subset of the words found by the first regular expression r'\\b[aeiou]{2}[a-z]*' and also include words that have non letters before the underscore as well.\n",
    "\n",
    "We can adjust the pattern to find the 69 words that **end with two consecutive vowels** (e.g kangaroo):\n"
   ]
  },
  {
   "cell_type": "code",
   "execution_count": 8,
   "metadata": {
    "id": "Xt-TOC5dSSHa"
   },
   "outputs": [
    {
     "name": "stdout",
     "output_type": "stream",
     "text": [
      "['argue', 'bessie', 'blue', 'boo', 'bowie', 'bureau', 'canoe', 'coffee', 'die', 'free', 'goo', 'horseshoe', 'hue', 'idea', 'ii', 'iii', 'issue', 'jamboreehoo', 'joe', 'kangaroo'] 69\n"
     ]
    }
   ],
   "source": [
    "def find_vowels_ends(text):\n",
    "    pattern = r'\\b[a-z]*[aeiou]{2}\\b'\n",
    "    regex   = re.compile(pattern, re.IGNORECASE)\n",
    "    return regex.findall(text)\n",
    " \n",
    "v    = find_vowels_ends(read_huck())\n",
    "uniq = list(get_uniq_set(v))\n",
    "print(uniq[0:20], len(uniq))"
   ]
  },
  {
   "cell_type": "markdown",
   "metadata": {
    "id": "P00pUfcv2q_q"
   },
   "source": [
    "###**Word Boundaries with he | she**\n",
    "Now we can address the previous issue with finding he and she:\n"
   ]
  },
  {
   "cell_type": "code",
   "execution_count": 9,
   "metadata": {
    "id": "8aL1GDIJSSHj"
   },
   "outputs": [],
   "source": [
    "def s_he_demo():\n",
    "    text = \"He said breathe and she and the sheep did hehe\"\n",
    "    pattern = r'he|she'\n",
    "    r = re.findall(pattern, text, re.IGNORECASE)\n",
    "    print(r)"
   ]
  },
  {
   "cell_type": "markdown",
   "metadata": {
    "id": "rc_Fdo2025p4"
   },
   "source": [
    "As we see, these are the matches:\n",
    "```\n",
    "['He', 'he', 'she', 'he', 'she', 'he', 'he']\n",
    "```\n",
    "**He** said breat**he** and **she** and t**he** **she**ep did **hehe**\n",
    "\n",
    "###**A better s[he]**\n",
    "If you wanted to restrict the matching using word boundaries (or whitespace) you could do the following:\n",
    "```\n",
    "pattern = r'\\bhe|she\\b'\n",
    "```\n",
    "However, we only get three matches:\n",
    "```\n",
    "['He', 'she', 'he']\n",
    "```\n",
    "\n",
    "**He** said breathe and **she** and the sheep did **he**he\n",
    "\n",
    "###**Using Parentheses**\n",
    "The alternation precedence is so low that the first \\b is assumed to be part of the he and the final \\b is assumed to follow any she. You can fix this by using parenthesis.\n",
    "\n",
    "Parentheses are used to group matches. When you use them everything in the group is returned as a match:\n",
    "```\n",
    "pattern = r'\\b(he|she)\\b'\n",
    "```\n",
    "Now we get the words we wanted:\n",
    "```\n",
    "['He', 'she']\n",
    "```\n",
    "**He** said breathe and **she** and the sheep did hehe\n",
    "\n",
    "By using the parentheses, it gives you the ability to add pre or post matching characters:\n"
   ]
  },
  {
   "cell_type": "code",
   "execution_count": 10,
   "metadata": {
    "id": "AgeU9AJRSSHo"
   },
   "outputs": [
    {
     "name": "stdout",
     "output_type": "stream",
     "text": [
      "['tele', 'py', 'mara']\n"
     ]
    }
   ],
   "source": [
    "text = \"a telethon of a python coding marathon raised awareness of sleep state misperception\"\n",
    "pattern = r'\\b(py|mara|tele)thon\\b'\n",
    "r = re.findall(pattern, text, re.IGNORECASE)\n",
    "print(r)"
   ]
  },
  {
   "cell_type": "markdown",
   "metadata": {
    "id": "O0uqJKxi343o"
   },
   "source": [
    "So if you are searching for a pattern but you want to capture the entire word (i.e. the context) that encapsulates the pattern, use word boundaries.\n",
    "\n",
    "The complement of \\b is \\B which means match the empty string at a non-word boundary. For example, if you wanted to find cat in the middle of a word:\n",
    "```\n",
    "text = \"the cat advocats to concatenate.\"\n",
    "cat = re.findall(r'(\\Bcat\\B)', text)\n",
    "print(cat)\n",
    "```\n",
    "\n",
    "###**Finding the First and Last**\n",
    "Sometimes it's handy to be able to match the first item or last item in a body of text. For example, if we wanted to just match 'Dogs' in the following poem, we would do the following:"
   ]
  },
  {
   "cell_type": "code",
   "execution_count": 11,
   "metadata": {
    "id": "zbSWeqBnSSHq"
   },
   "outputs": [
    {
     "name": "stdout",
     "output_type": "stream",
     "text": [
      "dogs: 8\n"
     ]
    }
   ],
   "source": [
    "poem = '''\\\n",
    "I LIKE\n",
    "Dogs\n",
    "Black Dogs, Green Dogs\n",
    "Bad Dogs, Mean Dogs\n",
    "All kinds of Dogs\n",
    "I like Dogs\n",
    "Dogs\n",
    "'''\n",
    " \n",
    "def find_dogs(text):\n",
    "    pattern = r'Dogs'\n",
    "    regex   = re.compile(pattern)\n",
    "    return regex.findall(text)\n",
    " \n",
    "v = find_dogs(poem)\n",
    "print(\"dogs:\", len(v))"
   ]
  },
  {
   "cell_type": "markdown",
   "metadata": {
    "id": "fBwBBz8U4Qf3"
   },
   "source": [
    "But what if we wanted ONLY those Dogs that begin a line? The caret ^ can be used to indicate the start of a line of text:"
   ]
  },
  {
   "cell_type": "code",
   "execution_count": 12,
   "metadata": {
    "id": "ZuepwOPaSSHs"
   },
   "outputs": [
    {
     "name": "stdout",
     "output_type": "stream",
     "text": [
      "dogs: 1\n"
     ]
    }
   ],
   "source": [
    "def find_dogs(text):\n",
    "    pattern = r'^Dogs'\n",
    "    regex   = re.compile(pattern)\n",
    "    return regex.findall(text)\n",
    "    \n",
    "poem = \"Dogs I like Dogs\\nDogs I am\"\n",
    "v = find_dogs(poem)\n",
    "print(\"dogs:\", len(v))"
   ]
  },
  {
   "cell_type": "markdown",
   "metadata": {
    "id": "H_PQRtT_4Uk4"
   },
   "source": [
    "The issue is the ^ will ONLY match the first item in a string. If you want to match all Dogs that begin a line (that is, after a newline), you must use the re.M or re.MULTILINE flag.\n",
    "```\n",
    "regex = re.compile(pattern, re.M)\n",
    "```\n",
    "###**Multiple Flags**\n",
    "If you need to pass multiple flags to the compile method you use the | (the or operator):"
   ]
  },
  {
   "cell_type": "code",
   "execution_count": 13,
   "metadata": {
    "id": "Ai3RSyZbSSHt"
   },
   "outputs": [
    {
     "name": "stdout",
     "output_type": "stream",
     "text": [
      "dogs: 2\n"
     ]
    }
   ],
   "source": [
    "def find_dogs(text):\n",
    "    pattern = r'^Dogs'\n",
    "    regex   = re.compile(pattern, re.IGNORECASE | re.M)\n",
    "    return regex.findall(text)\n",
    " \n",
    "poem = \"Dogs I like Dogs\\ndogs I am\"\n",
    "v = find_dogs(poem)\n",
    "print(\"dogs:\", len(v))"
   ]
  },
  {
   "cell_type": "markdown",
   "metadata": {
    "id": "sfxqSyly4n-n"
   },
   "source": [
    "###**\\$ Matching**\n",
    "If you want to match words that END a line, you use the $ character:"
   ]
  },
  {
   "cell_type": "code",
   "execution_count": 15,
   "metadata": {
    "id": "mfgMjATKSSHu"
   },
   "outputs": [
    {
     "name": "stdout",
     "output_type": "stream",
     "text": [
      "dogs: 6\n"
     ]
    }
   ],
   "source": [
    "poem = '''\\\n",
    "I LIKE\n",
    "Dogs\n",
    "Black Dogs, Green Dogs\n",
    "Bad Dogs, Mean Dogs\n",
    "All kinds of Dogs\n",
    "I like Dogs\n",
    "Dogs\n",
    "'''\n",
    "\n",
    "def find_dogs(text):\n",
    "    pattern = r'Dogs$'\n",
    "    regex   = re.compile(pattern, re.IGNORECASE | re.M)\n",
    "    return regex.findall(text)\n",
    "    \n",
    "v = find_dogs(poem)\n",
    "print(\"dogs:\", len(v))"
   ]
  },
  {
   "cell_type": "markdown",
   "metadata": {
    "id": "CS80x9VC4yYf"
   },
   "source": [
    "So to get the Dogs that are the only word on a line:\n",
    "```\n",
    "pattern = r'^Dogs$'\n",
    "```\n",
    "\n",
    "###**End of the sentence warning**\n",
    "For analyzing text (including novels in Project Gutenberg) you cannot depend on multiline matching for determining the **end of a sentence** -- since the placement of the newline characters most likely depends on the format of the book. For example the pattern that finds any word with two vowels at the end of the line:"
   ]
  },
  {
   "cell_type": "code",
   "execution_count": 16,
   "metadata": {
    "id": "UBL41NYsSSHw"
   },
   "outputs": [
    {
     "name": "stdout",
     "output_type": "stream",
     "text": [
      "['blue', 'canoe', 'free', 'knee', 'prairie', 'sea', 'see', 'three', 'tie', 'tongue', 'too', 'you']\n"
     ]
    }
   ],
   "source": [
    "def find_vowels_ends(text):\n",
    "    pattern = r'[a-z]*[aeiou]{2}$'\n",
    "    regex   = re.compile(pattern, re.M | re.IGNORECASE)\n",
    "    return(regex.findall(text))\n",
    " \n",
    "v = find_vowels_ends(read_huck())\n",
    "uniq = list(get_uniq_set(v))\n",
    "print(uniq[0:20])"
   ]
  },
  {
   "cell_type": "markdown",
   "metadata": {
    "id": "dQ2FdJkS5MIH"
   },
   "source": [
    "This only finds a few words. On line 1178 prairie matches the above criteria only because the newline happened to be there.\n",
    "\n",
    "###**Easy Practice**\n",
    "There are several web based tools that you can use to build and test regular expressions easily. Be sure to check out the following resources:\n",
    "\n",
    "* https://pythex.org\n",
    "* https://regex101.com/#python\n",
    "* http://www.pyregex.com\n",
    "\n",
    "Be sure to read the [re documentation](https://docs.python.org/3.6/library/re.html)"
   ]
  },
  {
   "cell_type": "markdown",
   "metadata": {
    "id": "KOK7ePQN5W0H"
   },
   "source": [
    "###**Before you go, you should know:**\n",
    "\n",
    "\n",
    "* how the pipe operator works\n",
    "\n",
    "\n",
    "* what a word boundary is\n",
    "\n",
    "\n",
    "* how word boundaries do matching\n",
    "\n",
    "\n",
    "* the meaning of ^\n",
    "\n",
    "\n",
    "* the meaning of $\n",
    "\n",
    "\n",
    "* how re.MULTILINE works with ^ and $"
   ]
  },
  {
   "cell_type": "markdown",
   "metadata": {
    "id": "iD2pXOd-SSHx"
   },
   "source": [
    "#**Lesson Assignment**\n",
    "There are 2 sets of 5 questions to answer. You need to pass 4 of them in each set.\n",
    "\n",
    "The format for the answers will be the same as in the first (part 1) lesson on regular expressions\n",
    "\n",
    "###**Huckleberry Finn**\n",
    "The following questions will use the text from Huckleberry Finn.\n",
    "\n",
    "#####**h_q0:**\n",
    "How many words start with two consecutive vowels (a, e, i, o, u)\n",
    "\n",
    "Hint: 65 unique words"
   ]
  },
  {
   "cell_type": "code",
   "execution_count": 17,
   "metadata": {
    "id": "OudYA7m9SSHz"
   },
   "outputs": [],
   "source": [
    "def h_q0():\n",
    "  pattern = r''    \n",
    "  # include any necessary flags too\n",
    "  return re.compile(pattern, re.IGNORECASE)"
   ]
  },
  {
   "cell_type": "markdown",
   "metadata": {
    "id": "7NksPk4Z6BPB"
   },
   "source": [
    "###**Testing**\n",
    "You can build your own test to test your solutions\n",
    "\n",
    "```\n",
    "huck = read_huck()\n",
    "def test_question(q_fn, text):\n",
    "  regex = q_fn()\n",
    "  tokens = regex.findall(text)\n",
    "  print(\"Total number of strings found:\",len(tokens))\n",
    "  uniq = get_uniq_set(tokens)\n",
    "  print(\"Unique strings found:\",len(uniq), uniq[0:10])\n",
    "\n",
    "# test question0\n",
    "test_question(h_q0, huck)\n",
    "```\n",
    "\n",
    "###**h_q1:**\n",
    "How many total references are there to the days of the week (Monday, Tuesday, etc)?\n",
    "\n",
    "Hint: 18 (seems like stuff happens on Sunday) -- do not capture the plurals of each day.\n",
    "\n"
   ]
  },
  {
   "cell_type": "code",
   "execution_count": null,
   "metadata": {
    "id": "NSZ7t4YESSIY"
   },
   "outputs": [],
   "source": [
    "def h_q1():\n",
    "  pattern = r''  \n",
    "  return re.compile(pattern)"
   ]
  },
  {
   "cell_type": "markdown",
   "metadata": {
    "id": "HovKKtFk7YcS"
   },
   "source": [
    "###**h_q2:**\n",
    "How many female pronoun references are there (she, her, hers, herself, miss, mrs, ms)?\n",
    "\n",
    "Hint: total 994 with ignoring the case."
   ]
  },
  {
   "cell_type": "code",
   "execution_count": null,
   "metadata": {
    "id": "rJTgo8EiSSIZ"
   },
   "outputs": [],
   "source": [
    "def h_q2():\n",
    "  pattern = r''   \n",
    "  return re.compile(pattern)"
   ]
  },
  {
   "cell_type": "markdown",
   "metadata": {
    "id": "zIScX_zV7dK_"
   },
   "source": [
    "###**h_q3:**\n",
    "How many male pronoun references are there (he, his, him, himself, mr)?\n",
    "\n",
    "Hint: total 3164 with ignoring the case."
   ]
  },
  {
   "cell_type": "code",
   "execution_count": null,
   "metadata": {
    "id": "QSseCbLhSSIa"
   },
   "outputs": [],
   "source": [
    "def h_q3():\n",
    "  pattern = r''  \n",
    "  return re.compile(pattern, re.IGNORECASE)"
   ]
  },
  {
   "cell_type": "markdown",
   "metadata": {
    "id": "pwN8zy_x7jpo"
   },
   "source": [
    "###**h_q4:**\n",
    "How many lines of complete dialog are there?\n",
    "\n",
    "A line of complete dialog is defined as text that starts on its own line and the line starts with a quote (\") and the ending quote (\") ends a line.\n",
    "\n",
    "A good example is shown on line 8518 and 8533 (you can easily get the lines of the text using a combination of split and array slicing).\n",
    "\n",
    "![](https://drive.google.com/uc?export=view&id=18BHt49awdkSrOe-8pbcteL4i7X528Zvb)\n",
    "\n",
    "Note this does not capture all possible lines of dialog. For example, lines 1510, 8296 and 8331 would not be captured by this definition.\n",
    "\n",
    "The first match should be line 130:\n",
    "\n",
    "\"Who dah?\"\n",
    "\n",
    "2nd match:\n",
    "\n",
    "\"Say, who is you? Whar is you? Dog my cats ef I didn' hear sumf'n. Well, I know what I's gwyne to do: I's gwyne to set down here and listen tell I hears it agin.\"\n",
    "\n",
    "**Hints:**\n",
    "* 1094 lines of complete dialog\n",
    "* The dialog can span across multiple lines\n",
    "* This question doesn't require a super long or complicated expression. It might be easiest to test on a small sample of text. Otherwise, it's very possible that your code will hang because the regular expression is taking too long (e.g. too greedy) to execute.\n"
   ]
  },
  {
   "cell_type": "code",
   "execution_count": null,
   "metadata": {
    "id": "rJcVmTYRSSIb"
   },
   "outputs": [],
   "source": [
    "def h_q4():\n",
    "  pattern = r''  \n",
    "  return re.compile(pattern)"
   ]
  },
  {
   "cell_type": "markdown",
   "metadata": {
    "id": "-lqFFa4d7_QR"
   },
   "source": [
    "###**10000 Words**\n",
    "The following questions will use the words in 10000.txt. These are the 10,000 most common/popular words in all the books in [Project Gutenberg](https://en.wiktionary.org/wiki/Wiktionary:Frequency_lists#Project_Gutenberg)\n",
    "\n",
    "For the patterns you write here, using greedy qualifiers (e.g. * ) *might* work since each word is on a single line. The same regular expression may not work in a body of text.\n",
    "\n",
    "###**w_q0:**\n",
    "Find all the words that start and end with an 's' AND have at least one more 's' between the two. For example sisters\n",
    "\n",
    "Hint: 24 with ignoring the case."
   ]
  },
  {
   "cell_type": "code",
   "execution_count": null,
   "metadata": {
    "id": "GcRG8PmiSSId"
   },
   "outputs": [],
   "source": [
    "def w_q0():\n",
    "  pattern = r''  \n",
    "  return re.compile(pattern)"
   ]
  },
  {
   "cell_type": "markdown",
   "metadata": {
    "id": "25UMVPdw8qN_"
   },
   "source": [
    "###**w_q1:**\n",
    "Using the '$' find all words that end in 'gry'.\n",
    "\n",
    "Do not use word boundaries. What happens if you do (besides not passing the tests)?\n",
    "\n",
    "Hint: 2"
   ]
  },
  {
   "cell_type": "code",
   "execution_count": null,
   "metadata": {
    "id": "pjWkv5bnSSIe"
   },
   "outputs": [],
   "source": [
    "def w_q1():\n",
    "  pattern = r''  \n",
    "  return re.compile(pattern)"
   ]
  },
  {
   "cell_type": "markdown",
   "metadata": {
    "id": "IdxcQtcr8_lH"
   },
   "source": [
    "###**w_q2:**\n",
    "How many 5 letter words are there in the 10,000 most common words?\n",
    "\n",
    "Hint: 1443"
   ]
  },
  {
   "cell_type": "code",
   "execution_count": null,
   "metadata": {
    "id": "c7XFTNBPSSIh"
   },
   "outputs": [],
   "source": [
    "def w_q2():\n",
    "  pattern = r''  \n",
    "  return re.compile(pattern)"
   ]
  },
  {
   "cell_type": "markdown",
   "metadata": {
    "id": "WhMzwAlp9Mv6"
   },
   "source": [
    "###**w_q3:**\n",
    "How many words have the word 'six' somewhere in them?\n",
    "\n",
    "Hint: 7"
   ]
  },
  {
   "cell_type": "code",
   "execution_count": null,
   "metadata": {
    "id": "FjuKW6L8SSIj"
   },
   "outputs": [],
   "source": [
    "def w_q3():\n",
    "  pattern = r''  \n",
    "  return re.compile(pattern)"
   ]
  },
  {
   "cell_type": "markdown",
   "metadata": {
    "id": "sV6pfTdM9Ykf"
   },
   "source": [
    "###**w_q4:**\n",
    "During your break, you are working on a crossword puzzle. You can't get the clue (TV ANTENNAS), but you have the following information:\n",
    "\n",
    "🔳 A 🔳️ B 🔳 T\n",
    "\n",
    "Find the possible words that work.\n",
    "\n",
    "Hint: 1"
   ]
  },
  {
   "cell_type": "code",
   "execution_count": null,
   "metadata": {
    "id": "B_bqb-LXSSIl"
   },
   "outputs": [],
   "source": [
    "def w_q4():\n",
    "  pattern = r'' \n",
    "  return re.compile(pattern)"
   ]
  },
  {
   "cell_type": "markdown",
   "metadata": {
    "id": "ORgNJZifSSIm"
   },
   "source": [
    "##**Submission**\n",
    "\n",
    "After implementing all the functions and testing them please download the notebook as \"solution.py\" and submit to gradescope under \"Week11:UPY:reg_ex2\" assignment tab and Moodle.\n",
    "\n",
    "**NOTES**\n",
    "\n",
    "* Be sure to use the function names and parameter names as given. \n",
    "* DONOT use your own function or parameter names. \n",
    "* Your file MUST be named \"solution.py\". \n",
    "* Comment out any lines of code and/or function calls to those functions that produce errors. If your solution has errors, then you have to work on them but if there were any errors in the examples/exercies then comment them before submitting to Gradescope.\n",
    "* Grading cannot be performed if any of these are violated."
   ]
  }
 ],
 "metadata": {
  "colab": {
   "collapsed_sections": [],
   "name": "Copy of Regular Expressions (part 2)_Week11_INFO407",
   "provenance": []
  },
  "kernelspec": {
   "display_name": "Python 3 (ipykernel)",
   "language": "python",
   "name": "python3"
  },
  "language": "python",
  "language_info": {
   "codemirror_mode": {
    "name": "ipython",
    "version": 3
   },
   "file_extension": ".py",
   "mimetype": "text/x-python",
   "name": "python",
   "nbconvert_exporter": "python",
   "pygments_lexer": "ipython3",
   "version": "3.8.5"
  },
  "story": {
   "auth_token": "rV0Td2IVkmCHyCum-e3bMAz6iTtOT0c1tbl2XgQ839c=",
   "authorship_tag": "AB",
   "chapters": 51,
   "name": "Regular Expressions (part 2)",
   "parser": {},
   "root": "https://github.com/habermanUIUC/CodeStories-lessons/blob/main/lessons/p4ds/upy/reg_ex2",
   "tag": "p4ds:upy:reg_ex2"
  }
 },
 "nbformat": 4,
 "nbformat_minor": 1
}
