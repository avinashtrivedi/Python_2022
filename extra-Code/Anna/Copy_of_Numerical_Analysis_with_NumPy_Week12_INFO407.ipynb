{
 "cells": [
  {
   "cell_type": "markdown",
   "metadata": {
    "id": "jNxwHPHIFC_W"
   },
   "source": [
    "## **Programming with Python for Data Science**\n",
    "\n",
    "\n",
    "###**Lesson: Numerical Analysis with NumPy** "
   ]
  },
  {
   "cell_type": "markdown",
   "metadata": {
    "id": "ZItgK3xMHeHC"
   },
   "source": [
    "## **Notebook Preparation for Lesson in 1•2 steps:**\n",
    "Each lesson will start with a similar template:  \n",
    "1. **save** the notebook to your google drive (copy to drive)<br/> ![](https://drive.google.com/uc?export=view&id=1NXb8jeYRc1yNCTz_duZdEpkm8uwRjOW5)\n",
    " \n",
    "2. **update** the NET_ID to be your netID (no need to include @illinois.edu)"
   ]
  },
  {
   "cell_type": "code",
   "execution_count": null,
   "metadata": {
    "id": "mFNjvEMpHeHC"
   },
   "outputs": [],
   "source": [
    "LESSON_ID = 'p4ds:ds:numpy1'   # keep this as is\n",
    "NET_ID    = 'salonis3' # CHANGE_ME to your netID (keep the quotes)"
   ]
  },
  {
   "cell_type": "markdown",
   "metadata": {
    "id": "gWnq4jwVffQM"
   },
   "source": [
    "#**Lesson Numerical Analysis with NumPy**\n",
    "###**Welcome to NumPy; Python's Super Library**\n",
    "One of the more popular libraries for working with arrays of data is NumPy (Numerical Python and pronounced num pie). You could use the list type for all your array needs; however, NumPy makes working with arrays (both single and multiple dimensions) easy by allowing efficient syntax and a large number of utility methods and functions to handle just about any numerical need. NumPy is also very fast. The library is built in C (a language Python is also implemented in) and has great execution time. For easy and fast array and matrix manipulation, NumPy comes to the rescue.\n",
    "\n",
    "For doing numerical linear algebra and working with vectors and matrices, NumPy is the standard library (it's also at the core of most machine learning algorithms). Other popular libraries like Pandas and SciPy (Scientific Python) use NumPy as well. Learning how to effectively work with NumPy makes the other libraries easier to learn. Much of what you will learn in Pandas comes directly from NumPy.\n",
    "\n",
    "In the same spirit of this class, where we are more interested in understanding the concepts rather than learning recipes on how to use an API (the public functions and methods), we will learn the basics of NumPy within the context of helping us work with data.\n",
    "\n",
    "To use NumPy you must import it; and as a convention, it's imported as np:\n",
    "\n",
    "```\n",
    "import numpy as np\n",
    "```"
   ]
  },
  {
   "cell_type": "markdown",
   "metadata": {
    "id": "oaNRrvW7ffQQ"
   },
   "source": [
    "###**Python List vs Numpy Array**\n",
    "As we have seen, a Python list can hold a set of heterogeneous items (e.g. strings, numbers, booleans, functions, etc). However, NumPy arrays can only hold multiple items of the same type. Numpy arrays are statically typed (vs dynamic) and homogeneous. The type of the elements is determined when the array is created -- it's why it can be memory efficient and fast.\n",
    "\n",
    "NumPy also makes a distinction between numbers that have no decimal points (aka. integers) and those that do (aka. floating point - since the decimal point is allowed to 'float'). Not only can you specify different types in NumPy (e.g. integer, float, boolean) but also how much storage you want those values to occupy. If you are only dealing with small numbers (e.g. -128 to 127) you can manage by using a single byte (8 bits) of data for each number; however, if you need to hold very large numbers you can specify up to 64 bits (8 bytes). You can see the type by using the .dtype property For now, we won't need to worry about selecting the most suitable size.\n",
    "\n",
    "> ***Coder's Log:*** You don't have to master bits and bytes for this class, but you should be curious why everything in computers seems to be a power of 2 (2,4,8,16,32,64,etc). A bit (the smallest unit capable of holding a value can either be on (i.e. hold a 1) or off (i.e. hold a 0). So one bit can hold 2 states. Two bits could hold 4 states (on, on; on, off; off, on; off, off). Eight bits (a byte) can hold 2⁸ == (2*2*2*2 * 2*2*2*2) == 256. So 8 bits can hold 256 unique values. One possible range of values would be the numbers from -128 to +127.\n",
    "\n",
    "Let's take a quick look at both the Python list and the NumPy single dimension array:"
   ]
  },
  {
   "cell_type": "code",
   "execution_count": 1,
   "metadata": {
    "id": "3hxa9ul3ffQU"
   },
   "outputs": [
    {
     "name": "stdout",
     "output_type": "stream",
     "text": [
      "<class 'numpy.ndarray'>\n",
      "[0, 1, 2, 3, 4, 5, 6, 7, 8, 9]\n",
      "[0 1 2 3 4 5 6 7 8 9]\n"
     ]
    }
   ],
   "source": [
    "import numpy as np\n",
    "\n",
    "py_list = list(range(0,10))\n",
    "\n",
    "# numpy's version of range\n",
    "np_num  = np.arange(0,10)\n",
    "\n",
    "print(type(np_num))\n",
    "print(py_list)\n",
    "print(np_num)"
   ]
  },
  {
   "cell_type": "markdown",
   "metadata": {
    "id": "XPQgBQD67Db5"
   },
   "source": [
    "What did you notice about how each gets printed?"
   ]
  },
  {
   "cell_type": "markdown",
   "metadata": {
    "id": "xzFKvO7hffQa"
   },
   "source": [
    "###**Array Creation**\n",
    "There are several functions to create arrays (and more than one dimension, as we will see):"
   ]
  },
  {
   "cell_type": "code",
   "execution_count": 2,
   "metadata": {
    "id": "0avafS9QffQo"
   },
   "outputs": [
    {
     "name": "stdout",
     "output_type": "stream",
     "text": [
      "[1 2 3]\n"
     ]
    }
   ],
   "source": [
    "# create an array from a Python list\n",
    "data = np.array([1,2,3])\n",
    "print(data)"
   ]
  },
  {
   "cell_type": "markdown",
   "metadata": {
    "id": "8nH5070j7M14"
   },
   "source": [
    "![](https://drive.google.com/uc?export=view&id=1GI5aW0FX4XG3cvW7unZLutL6cc1ipscp)\n",
    " \n",
    "In addition, there are convenience functions to create arrays/vectors/matrices filled with 1's, 0's, and random numbers:\n",
    "\n",
    "![](https://drive.google.com/uc?export=view&id=1yNQslZbTHQt7A5mH4xpp5L45fpy4jQMu)\n",
    "\n",
    "\n",
    "\n"
   ]
  },
  {
   "cell_type": "markdown",
   "metadata": {
    "id": "Mr6YCVD8ffQr"
   },
   "source": [
    "###**Linspace (not a typo)**\n",
    "Numpy provides a way to easily divide a range into equally sized intervals. This is very useful when you need to create grid spacing or equally split up a discrete range.\n",
    "```\n",
    "x_axis = np.linspace(0, 10, 100)\n",
    "```\n",
    "This becomes super useful when you need to 'spin' around a portion of a circle:\n",
    "```\n",
    "x_axis = np.linspace(-np.pi, np.pi, 100)\n",
    "```"
   ]
  },
  {
   "cell_type": "code",
   "execution_count": null,
   "metadata": {
    "id": "HgA7bkN9ffQt"
   },
   "outputs": [],
   "source": [
    "# type&run the above example/exercise in this cell"
   ]
  },
  {
   "cell_type": "markdown",
   "metadata": {
    "id": "--9k1hOjffQu"
   },
   "source": [
    "###**Size and Shape**\n",
    "You can find out how many elements are in the array using .size property. This is the preferred way (but the len function does work -- for one dimensional arrays).\n",
    "\n",
    "Each NumPy array also has a shape attribute. The shape is returned as a tuple that describes the size of each dimension For single dimension arrays, shape[0] is the number of elements in the array:\n",
    "\n",
    "```\n",
    "np_num = np.arange(0,10)\n",
    "print(np_num.size, np_num.shape)\n",
    "```\n"
   ]
  },
  {
   "cell_type": "code",
   "execution_count": null,
   "metadata": {
    "id": "ZBBpJJozffQw"
   },
   "outputs": [],
   "source": [
    "# type&run the above example/exercise in this cell"
   ]
  },
  {
   "cell_type": "markdown",
   "metadata": {
    "id": "vtVStAjH9aRQ"
   },
   "source": [
    "Numpy will return (10,) for the above single dimension array with 10 elements."
   ]
  },
  {
   "cell_type": "markdown",
   "metadata": {
    "id": "dA1DaLRIffQz"
   },
   "source": [
    "###**Operator Overload**\n",
    "As we have seen some of the mathematical operators work with lists:\n",
    "```\n",
    "print(py_list * 3)      # concatenation \n",
    "print(py_list + py_list)# concatenation \n",
    "print(py_list + 2)      # will **not** work (comment this before submitting)\n",
    "``` "
   ]
  },
  {
   "cell_type": "code",
   "execution_count": null,
   "metadata": {
    "id": "Cv3PDO-FffQ2"
   },
   "outputs": [],
   "source": [
    "# type&run the above example/exercise in this cell"
   ]
  },
  {
   "cell_type": "markdown",
   "metadata": {
    "id": "WUBh0yFk9pDo"
   },
   "source": [
    " \n",
    "These operators (* and +) are defined on the list class as methods. This is one of the powerful features of Python. When you create your own class (we have not done that yet), you can also define how some binary and unary operations will work. We have seen that the set class defines the - operator for doing set difference between two sets.\n",
    "\n",
    "Since NumPy knows all the elements are the same type (usually numbers), the mathematical operators work on the individual elements:\n",
    "```\n",
    "print(np_num * 3)      # multiply each item by 3\n",
    "print(np_num + np_num) # add the corresponding items together \n",
    "print(np_num + 2)      # add two to each item\n",
    "print(np_num % 2)      # modulus/remainder\n",
    "```"
   ]
  },
  {
   "cell_type": "code",
   "execution_count": null,
   "metadata": {
    "id": "KD8wgEQ9ffQ4"
   },
   "outputs": [],
   "source": [
    "# type&run the above example/exercise in this cell"
   ]
  },
  {
   "cell_type": "markdown",
   "metadata": {
    "id": "wC4KYglf93A5"
   },
   "source": [
    "These are called *element-wise* operations since the mathematical operation is performed on each element in the array.\n",
    "```\n",
    "data = np.array([1,2])\n",
    "ones = np.ones(2)\n",
    "print(data + ones)\n",
    "print(data * data)\n",
    "```"
   ]
  },
  {
   "cell_type": "code",
   "execution_count": null,
   "metadata": {
    "id": "cDevoGfIffQ7"
   },
   "outputs": [],
   "source": [
    "# type&run the above example/exercise in this cell"
   ]
  },
  {
   "cell_type": "markdown",
   "metadata": {
    "id": "Lw_-sguC-DfW"
   },
   "source": [
    "It's very easy to build vectors/matrices of answers without using any loops:"
   ]
  },
  {
   "cell_type": "code",
   "execution_count": null,
   "metadata": {
    "id": "rNVcCIhFffQ8"
   },
   "outputs": [],
   "source": [
    "miles = np.array([1,2,3])\n",
    "kilometers = miles * 1.6\n",
    "print(kilometers)"
   ]
  },
  {
   "cell_type": "markdown",
   "metadata": {
    "id": "Dac0klC--Fy7"
   },
   "source": [
    "This can be visualized much like:\n",
    "```\n",
    "[1] * [1.6] = [1.6]\n",
    "[2] * [1.6] = [3.2]\n",
    "[3] * [1.6] = [4.8]\n",
    "```\n",
    "These operations that are performed on each element in an array are called vectorized operations and also named universal functions ('UFuncs' for short) in NumPy.\n",
    "\n",
    "Some other functions that work on an element-wise basis:\n",
    "```\n",
    "np.abs    --> Calculate the absolute value element-wise.\n",
    "\n",
    "np.sin    --> Trigonometric sine, element-wise.\n",
    "\n",
    "np.log    --> Natural logarithm, element-wise.\n",
    "\n",
    "np.square --> Element-wise square of the input\n",
    "```\n",
    "If you need to perform an operation, element-by-element, most likely NumPy has a function to do it for you.\n",
    "\n",
    "###**None in NumPy**\n",
    "Numpy has a special constant, numpy.NaN, that is used to indicate a missing value or a value that can't be represented. It's value is numpy.nan (not a number). There are also the values numpy.NaN and numpy.NAN that mean the same.\n",
    "\n",
    "There are several functions that can be used to determine if a value is NaN:"
   ]
  },
  {
   "cell_type": "code",
   "execution_count": null,
   "metadata": {
    "id": "n4UC2pnMffQ-"
   },
   "outputs": [],
   "source": [
    "data = np.array([1,2,3, np.nan])\n",
    "print(data[3])\n",
    "print(np.isnan(data[3]))"
   ]
  },
  {
   "cell_type": "markdown",
   "metadata": {
    "id": "tI9gWP-qffQ_"
   },
   "source": [
    "###**Simple Functions**\n",
    "There are also aggregation functions (functions that return a single value like max) that work with NumPy arrays as well:\n",
    "\n",
    "![](https://drive.google.com/uc?export=view&id=1H1hXGJ_B1PKg8-7Y-Sy6xtDBRj-O7f2b)\n",
    "\n",
    "```\n",
    "np.sum        --> Compute sum of elements\n",
    "\n",
    "np.prod       --> Compute product of elements\n",
    "\n",
    "np.mean       --> Compute mean of elements\n",
    "\n",
    "np.std        --> Compute standard deviation\n",
    "\n",
    "np.var        --> Compute variance\n",
    "\n",
    "np.min        --> Find minimum value\n",
    "\n",
    "np.max        --> Find maximum value\n",
    "\n",
    "np.argmin     --> Returns the index of minimum value\n",
    "\n",
    "np.argmax     --> Returns the index of maximum value\n",
    "\n",
    "np.median     --> Compute median of elements\n",
    "\n",
    "np.percentile --> Compute rank-based statistics of elements\n",
    "\n",
    "np.any        --> Evaluate whether any elements are true\n",
    "\n",
    "np.all        --> Evaluate whether all elements are true\n",
    "\n",
    "np.ptp        --> Calculates the range (np.max - np.min)\n",
    "```\n",
    " \n"
   ]
  },
  {
   "cell_type": "code",
   "execution_count": null,
   "metadata": {
    "id": "fHCQpnWLffRo"
   },
   "outputs": [],
   "source": [
    "x = np.array([0,1,2,3,4,5,6])\n",
    "print(np.sum(x))\n",
    "print(x + 2*x)"
   ]
  },
  {
   "cell_type": "markdown",
   "metadata": {
    "id": "yl6dSwWvAExA"
   },
   "source": [
    "Also, most aggregates have a NaN-safe counterpart that computes the result while ignoring missing values, which are marked by the np.NaN value."
   ]
  },
  {
   "cell_type": "code",
   "execution_count": null,
   "metadata": {
    "id": "1tkdGkLBffRr"
   },
   "outputs": [],
   "source": [
    "x = np.array([1,2,0,3,6,5,np.NaN,4])\n",
    "print(np.nansum(x))\n",
    "print(np.nanargmin(x))\n",
    "print(np.nanargmax(x))"
   ]
  },
  {
   "cell_type": "markdown",
   "metadata": {
    "id": "XGc4s_U0ffRs"
   },
   "source": [
    "###**2D and beyond**\n",
    "\n",
    "We mentioned a few times that the power of Numpy comes into play as soon as we extend beyond a simple series of numbers (i.e. a 1 dimensional array).\n",
    "\n",
    "![](https://drive.google.com/uc?export=view&id=1GgqPn5CE3Otp5TgHSTdGU1UVIh02Sqv7)\n",
    "\n",
    "Using NumPy to manage 2 dimensional arrays is just as easy:"
   ]
  },
  {
   "cell_type": "code",
   "execution_count": null,
   "metadata": {
    "id": "JT2rEpmAffRt"
   },
   "outputs": [],
   "source": [
    "data = np.array([\n",
    "  [1,  2, 3], \n",
    "  [4,  5, 6],  \n",
    "  [7,  8, 9],  \n",
    "  [10,11,12]]) \n",
    "  \n",
    "print(data)"
   ]
  },
  {
   "cell_type": "markdown",
   "metadata": {
    "id": "JatXzte4AfUr"
   },
   "source": [
    "np.ones, np.zeros, and np.random work in multiple dimensions as well:\n",
    "\n",
    "![](https://drive.google.com/uc?export=view&id=1H1Io5pRTciXA5vTOtDeTprSr41zKRFiX)\n",
    "\n",
    "We will explore higher dimensions in the next lesson."
   ]
  },
  {
   "cell_type": "markdown",
   "metadata": {
    "id": "z437PPbRffRu"
   },
   "source": [
    "###**Size, Dimension, Shape**\n",
    "The method size returns the number of elements, and ndim returns the number of dimensions. Try to find out what the len function returns on data:"
   ]
  },
  {
   "cell_type": "code",
   "execution_count": null,
   "metadata": {
    "id": "rn5Ss4XmffRv"
   },
   "outputs": [],
   "source": [
    "print(data.size, data.ndim)"
   ]
  },
  {
   "cell_type": "markdown",
   "metadata": {
    "id": "5lpvHMopAvoM"
   },
   "source": [
    "You can ask a Numpy 2D array its shape as well:\n",
    "```\n",
    "print(data.shape)  # 4 rows, 3 columns\n",
    "```\n",
    "Each element of the returned tuple describes each dimension."
   ]
  },
  {
   "cell_type": "markdown",
   "metadata": {
    "id": "sUj-wu4yffRw"
   },
   "source": [
    "###**Indexing**\n",
    "Standard array/list indexing works as well:"
   ]
  },
  {
   "cell_type": "code",
   "execution_count": null,
   "metadata": {
    "id": "x90wIVdWffRx"
   },
   "outputs": [],
   "source": [
    "one_d = np.array([1,2,3])\n",
    "two_d = np.array([[1,2,3],[4,5,6],[7,8,9]])\n",
    "print(one_d[1])\n",
    "print(two_d[1])\n",
    "print(two_d[1][1])"
   ]
  },
  {
   "cell_type": "markdown",
   "metadata": {
    "id": "5ydFHgVlffRy"
   },
   "source": [
    "###**Slicing And Dicing**\n",
    "Just as with Python lists you can slice NumPy arrays using the same syntax:\n",
    "```\n",
    "[start : stop : step]\n",
    "```"
   ]
  },
  {
   "cell_type": "code",
   "execution_count": null,
   "metadata": {
    "id": "H6DJVKngffRz"
   },
   "outputs": [],
   "source": [
    "x = np.arange(100).reshape(20,5)\n",
    "print(\"Rows 2,3,4 \", x[2:5])\n",
    "\n",
    "# Advanced slicing\n",
    "print(\"First 5 rows\\n\", x[:5])\n",
    "print(\"Row 18 to the end\\n\", x[18:])\n",
    "print(\"Last 5 rows\\n\", x[-5:])\n",
    "print(\"Reverse the rows\\n\", x[::-1])"
   ]
  },
  {
   "cell_type": "markdown",
   "metadata": {
    "id": "SwHwOoOwBL-T"
   },
   "source": [
    "However, for multiple dimensions, this syntax is extended to each dimension -- where each dimension is separated by a comma:"
   ]
  },
  {
   "cell_type": "code",
   "execution_count": null,
   "metadata": {
    "id": "Nl1K49DAffR1"
   },
   "outputs": [],
   "source": [
    "data = np.arange(1,21).reshape(4,5)\n",
    "print(data)\n",
    "print(data[:2  , :3])     # two rows, three columns\n",
    "print(data[:3:2, :4:2])   # ???"
   ]
  },
  {
   "cell_type": "markdown",
   "metadata": {
    "id": "Qn-g7leRBOYC"
   },
   "source": [
    "So it's incredibly easy to extract an attribute (column) from all the rows in a dataset:\n",
    "```\n",
    "print(data[:, 2]) # all rows, column '3'\n",
    "```\n",
    "Do not go past this point unless you understand what is happening. Most of the lesson (and NumPy and Pandas) depends on understanding this compact syntax.\n",
    "\n",
    "\n",
    "![](https://drive.google.com/uc?export=view&id=1GshJQE1LD5gxh9EYKdUoBr0vQMmhXVaN)\n",
    "\n",
    "![](https://drive.google.com/uc?export=view&id=1Gxaoom96zt84hvuWnAh4IKE-4E6KLGCJ)\n",
    "\n",
    "![](https://drive.google.com/uc?export=view&id=1Gj0nJtsxet4Q9oVGYy9eETpy7DkSgoGF)"
   ]
  },
  {
   "cell_type": "markdown",
   "metadata": {
    "id": "Wp_0qyesffR4"
   },
   "source": [
    "###**Operator Indirection and Masking**\n",
    "What's even more powerful is that you can use the result of one NumPy array to extract values from another NumPy array. In this example, we build an array of the integers that represents an index for values we want to extract. In the example below, we will extract the values at index 0, 5, and 9:"
   ]
  },
  {
   "cell_type": "code",
   "execution_count": null,
   "metadata": {
    "id": "gaCR8KaOffR9"
   },
   "outputs": [],
   "source": [
    "np_num = np.arange(0,100,10) \n",
    "# [0,10,20,30,40,50,..,90]\n",
    "\n",
    "np_idx = np.array([0,5,9])   \n",
    "# want first sixth and last \n",
    "\n",
    "print(np_num[ np_idx ])      \n",
    "# [0, 50, 90]"
   ]
  },
  {
   "cell_type": "markdown",
   "metadata": {
    "id": "0Mftba1KCKgy"
   },
   "source": [
    "If the index array contains boolean values, we extract the values whose index value is True. This is called a **boolean mask**. For example the following code creates a boolean array (from a Python List) that is filled with alternating True, False values (10 total):\n",
    "\n",
    "```\n",
    "np_num  = np.arange(0,10)\n",
    "np_bool = np.array([True, False]*5)\n",
    "print(type(np_bool))\n",
    "```\n",
    "Here is a quick illustration of the above situation\n",
    "```\n",
    "[0, 1, 2, 3, 4, 5, 6, 7, 8, 9] np_num\n",
    "[T, F, T, F, T, F, T, F, T, F] np_bool\n",
    "```\n",
    "We can then use this boolean mask to extract the values inside of np_num. Those values that are True inside np_bool will \"filter\" those in np_num:"
   ]
  },
  {
   "cell_type": "code",
   "execution_count": null,
   "metadata": {
    "id": "5Af2Y7sBffSA"
   },
   "outputs": [],
   "source": [
    "np_num  = np.arange(0,10)\n",
    "np_bool = np.array([True, False]*5)\n",
    "np_wow  = np_num[np_bool]\n",
    "print(np_wow)"
   ]
  },
  {
   "cell_type": "markdown",
   "metadata": {
    "id": "tOpjAYuECmDE"
   },
   "source": [
    "The above situation:\n",
    "```\n",
    "[0, 1, 2, 3, 4, 5, 6, 7, 8, 9] np_num\n",
    "[T, F, T, F, T, F, T, F, T, F] np_bool\n",
    "------------------------------\n",
    "[0,    2,    4,    6,    8,  ] np_wow\n",
    "\n",
    "```\n",
    "###**Now for the Fun**\n",
    "With that background information, we can easily create boolean arrays based on a condition and then use that array to extract the values:"
   ]
  },
  {
   "cell_type": "code",
   "execution_count": null,
   "metadata": {
    "id": "CgZ9FnuTffSB"
   },
   "outputs": [],
   "source": [
    "np_num  = np.arange(0,10)\n",
    "np_bool = np_num < 5\n",
    "print(np_num[np_bool])"
   ]
  },
  {
   "cell_type": "markdown",
   "metadata": {
    "id": "coBEES_ADJc1"
   },
   "source": [
    "That's an efficient way to get all the values inside np_num whose value is less than five. We can even combine the syntax to make for a reading friendly version:\n",
    "\n",
    "```\n",
    "print(np_num[np_num<5])\n",
    "```\n",
    "See the appendix for yet another (very useful) way to mask with Numpy."
   ]
  },
  {
   "cell_type": "markdown",
   "metadata": {
    "id": "Aq0nK8RLffSC"
   },
   "source": [
    "###**Working with Strings**\n",
    "Even though Numpy is meant for heavy duty processing of numeric data, it also can be used to process strings, unicode, and character data (https://docs.scipy.org/doc/numpy/reference/routines.char.html)."
   ]
  },
  {
   "cell_type": "code",
   "execution_count": null,
   "metadata": {
    "id": "LM1PlClfffSD"
   },
   "outputs": [],
   "source": [
    "fruit = np.array(\"apples,pears,bananas,oranges\".split(','))\n",
    "print(fruit)\n",
    "lens = np.char.str_len(fruit)\n",
    "print(lens)"
   ]
  },
  {
   "cell_type": "markdown",
   "metadata": {
    "id": "iMCWAG4xDZS0"
   },
   "source": [
    "\n",
    "You can do masking as well:\n",
    "```\n",
    "short = (lens <= 5)\n",
    "print(fruit[short])\n",
    "print(np.char.count(fruit, \"a\"))\n",
    "```\n",
    "The function np.char.count works with multiple dimensions as well:\n",
    "```\n",
    "data = [\"apple pear pizza\",\n",
    "        \"apple lemon bagel milk lemon\",\n",
    "        \"pizza soda apple\"]\n",
    "trips = np.array(data)\n",
    "\n",
    "print(np.char.count(trips, 'apple'))\n",
    "print(np.char.count(trips, 'lemon'))\n",
    "print(np.char.count(trips, 'pizza'))\n",
    "```\n"
   ]
  },
  {
   "cell_type": "code",
   "execution_count": null,
   "metadata": {
    "id": "-KT9cYNwffSE"
   },
   "outputs": [],
   "source": [
    "# type&run the above example/exercise in this cell"
   ]
  },
  {
   "cell_type": "markdown",
   "metadata": {
    "id": "sBNG6z48Dqzg"
   },
   "source": [
    "You should see the following output:\n",
    "```\n",
    "[1 1 1] <= bought an apple on all three trips\n",
    "[0 2 0] <= bought 2 lemons on trip 2\n",
    "[1 0 1] <= bought a pizza on trip 1 and trip 3\n",
    "```\n",
    "\n",
    "###**A word on words**\n",
    "All of the following will be used at times when dealing with numPy data: lists, arrays, vectors, columns, rows, matrices (and a few others). In general, a list, an array, a vector all describe a one dimensional ordered set of numbers. The word vector could mean a row vector or a column vector. Both are components inside a matrix -- which is usually a 2 dimensional grid of values:\n",
    "\n",
    "![](https://drive.google.com/uc?export=view&id=1H0Lf3zEmHA6djJbGj4LPj2XG-qCtcPVT)\n",
    " "
   ]
  },
  {
   "cell_type": "markdown",
   "metadata": {
    "id": "_AP5mDqyD-tt"
   },
   "source": [
    "###**Before you go, you should know:**\n",
    "\n",
    "\n",
    "* numpy array creation\n",
    "\n",
    "\n",
    "* how to index an array\n",
    "\n",
    "\n",
    "* how operators (e.g. +, -, *) work on numpy arrays\n",
    "\n",
    "\n",
    "* how masking works"
   ]
  },
  {
   "cell_type": "markdown",
   "metadata": {
    "id": "6VbK6l1_ffSF"
   },
   "source": [
    "#**Lesson Assignment**\n",
    "One of the great outcomes of learning Python, Numpy, Matplotlib, (and soon Pandas) is that you can do everything (and more) using your new found power. What's great is once you have a workflow (i.e. pipeline) that moves data from a raw source to information (and action), is that if the data ever changes or gets updated (and it usually does), re-running the whole pipeline is SUPER easy.\n",
    "\n",
    "This lesson is one of the first steps to getting Numpy to do some interesting analysis on a simple dataset.\n",
    "\n",
    "You can use Excel even (if you want) to confirm your answers but the objective is start understanding how to write programs that you might have used Excel to do at one point.\n",
    "\n",
    "###**Simple Data Analysis**\n",
    "The lesson comes with its own dataset, data.csv. It is the amount spent on various merchants. You will use Numpy to analyze the data.\n",
    "\n",
    "data.csv file is available to download from Moodle. It's a semi-colon separated data file that shows spending around campus town. You must upload it here to use.\n",
    "\n"
   ]
  },
  {
   "cell_type": "code",
   "execution_count": 79,
   "metadata": {
    "id": "Npn87I-3ipuV"
   },
   "outputs": [
    {
     "name": "stdout",
     "output_type": "stream",
     "text": [
      "Date;Merchant;Type;Price;Tax;Total\n",
      "01/02/2017;Bevande CafÃ©;Restaurant; 4.57 ; 0.41 ; 4.98 \n",
      "01/03/2017;Papa Del's Pizza;Restaurant; 17.57 ; 1.58 ; 19.15 \n",
      "01/04/2017;Radio Maria;Restaurant; 56.20 ; 5.06 ; 61.26 \n",
      "01/05/2017;Bevande CafÃ©;Restaurant; 3.56 ; 0.32 ; 3.88 \n",
      "01/06/2017;County Market;Grocery; 30.15 ; 2.71 ; 32.86 \n",
      "01/07/2017;Papa Del's Pizza;Restaurant; 18.08 ; 1.63 ; 19.71 \n",
      "01/08/2017;Bombay Indian Grill;Restaurant; 13.07 ; 1.18 ; 14.25 \n",
      "01/09/2017;Lai Lai Wok;Restaurant; 20.67 ; 1.86 ; 22.53 \n",
      "01/10/2017;Bevande CafÃ©;Restaurant; 1.99 ; 0.18 ; 2.17 \n",
      "01/11/2017;Bombay Indian Grill;Restaurant; 20.07 ; 1.81 ; 21.88 \n",
      "01/12/2017;Meijer;Grocery; 26.98 ; 2.43 ; 29.41 \n",
      "01/13/2017;Bevande CafÃ©;Restaurant; 2.18 ; 0.20 ; 2.38 \n",
      "01/14/2017;CafÃ© Kopi;Restaurant; 4.10 ; 0.37 ; 4.47 \n",
      "01/15/2017;Bevande CafÃ©;Restaurant; 2.73 ; 0.25 ; 2.98 \n",
      "01/16/2017;Bevande CafÃ©;Restaurant; 2.00 ; 0.18 ; 2.18 \n",
      "01/17/2017;Radio Maria;Restaurant; 55.67 ; 5.01 ; 60.68 \n",
      "01/19/2017;Bombay Indian Grill;Restaurant; 18.14 ; 1.63 ; 19.77 \n",
      "01/21/2017;Apricot Lane;Apparel; 47.51 ; 4.28 ; 51.79 \n",
      "01/23/2017;Chipotle Mexican Grill;Restaurant; 6.81 ; 0.61 ; 7.42 \n",
      "01/26/2017;Panera Bread Company;Restaurant; 10.24 ; 0.92 ; 11.16 \n",
      "01/29/2017;Subway;Restaurant; 5.24 ; 0.47 ; 5.71 \n",
      "01/31/2017;Urban Outfitters;Apparel; 31.52 ; 2.84 ; 34.36 \n",
      "02/02/2017;Chipotle Mexican Grill;Restaurant; 6.81 ; 0.61 ; 7.42 \n",
      "02/04/2017;Starbucks Coffee;Restaurant; 4.11 ; 0.37 ; 4.48 \n",
      "02/05/2017;Noodles & Company;Restaurant; 26.00 ; 2.34 ; 28.34 \n",
      "02/07/2017;Za's Italian CafÃ©;Restaurant; 7.01 ; 0.63 ; 7.64 \n",
      "02/09/2017;Espresso Royale CafÃ©;Restaurant; 2.11 ; 0.19 ; 2.30 \n",
      "02/11/2017;Apple Store;Technology; 124.11 ; 11.17 ; 135.28 \n",
      "02/13/2017;Cravings;Restaurant; 6.25 ; 0.56 ; 6.81 \n",
      "02/15/2017;Ragstock;Apparel; 11.57 ; 1.04 ; 12.61 \n",
      "02/17/2017;Panera Bread Company;Restaurant; 9.76 ; 0.88 ; 10.64 \n",
      "02/19/2017;Chipotle Mexican Grill;Restaurant; 6.81 ; 0.61 ; 7.42 \n",
      "02/20/2017;Espresso Royale CafÃ©;Restaurant; 3.87 ; 0.35 ; 4.22 \n",
      "02/21/2017;Potbelly Sandwich Shop;Restaurant; 7.09 ; 0.64 ; 7.73 \n",
      "02/22/2017;Zorba's Restaurant;Restaurant; 6.41 ; 0.58 ; 6.99 \n",
      "02/23/2017;Panda Express;Restaurant; 7.91 ; 0.71 ; 8.62 \n",
      "02/24/2017;Apple Store;Technology; 32.71 ; 2.94 ; 35.65 \n",
      "02/25/2017;Chipotle Mexican Grill;Restaurant; 6.81 ; 0.61 ; 7.42 \n",
      "02/26/2017;Red Herring;Restaurant; 5.00 ; 0.45 ; 5.45 \n",
      "02/27/2017;Jimmy John's Gourmet Sandwiches;Restaurant; 5.45 ; 0.49 ; 5.94 \n",
      "02/28/2017;Apricot Lane;Apparel; 148.12 ; 13.33 ; 161.45\n",
      "\n"
     ]
    }
   ],
   "source": [
    "def display_data():\n",
    "  p = 'data.csv'\n",
    "  with open(p, 'r') as fd:\n",
    "    data = fd.read()\n",
    "    print(data)\n",
    "\n",
    "display_data()"
   ]
  },
  {
   "cell_type": "code",
   "execution_count": 80,
   "metadata": {
    "id": "XzTUlofaoeem"
   },
   "outputs": [],
   "source": [
    "def read_data():\n",
    "  import numpy as np\n",
    "  from numpy import genfromtxt\n",
    "  my_data = np.genfromtxt('data.csv', dtype=None, delimiter=';', names=True, encoding = None) \n",
    "  return my_data\n",
    "\n",
    "data = read_data()"
   ]
  },
  {
   "cell_type": "markdown",
   "metadata": {
    "id": "lbU_V1VREmK1"
   },
   "source": [
    "Numpy provides a utility function named genfromtxt that will read in data from a file (or url) and return a structured array that is ready for analysis. We can read this file into a structured array via np.genfromtxt and then perform some basic analysis on the returned numPy array.\n",
    "\n",
    "Don't worry, we won't spend too much on the numPy function np.genfromtxt since we will be using Pandas very soon that adds more functionality on top of numPy.\n",
    "\n",
    "All of the questions will be from analyzing the data found in data.csv. You will be passed a Numpy structured data array. Each question will ask you to manipulate the data and return a result.\n",
    "\n",
    "* All the information to solve these is given in this lesson\n",
    "* You should solve these by using only the Numpy library\n",
    "* Avoid converting to pure Python to solve these\n",
    "* There's no need for loops, regular expressions, etc\n",
    "\n",
    "Each can be solved using Numpy operators and functions given in the lesson. Many of these answers will use np.sum on an np.array if you didn't read each of the sections and didn't run each of the samples, it will be impossible (unless you already know NumPy) to answer these questions.\n",
    "\n",
    "###**q0**\n",
    "###**Find the total amount spent on all merchants.**\n",
    "answer: already done for you!"
   ]
  },
  {
   "cell_type": "code",
   "execution_count": 81,
   "metadata": {
    "id": "mlOMDYCBffSN"
   },
   "outputs": [
    {
     "name": "stdout",
     "output_type": "stream",
     "text": [
      "901.3900000000001\n"
     ]
    }
   ],
   "source": [
    "import numpy as np\n",
    "def q0(data):\n",
    "  return np.sum(data['Total'])\n",
    "\n",
    "print(q0(data))"
   ]
  },
  {
   "cell_type": "markdown",
   "metadata": {
    "id": "S8cOhK7fE0aE"
   },
   "source": [
    "You can test it like this:\n",
    "```\n",
    "def test_q0():\n",
    "  data = read_data()\n",
    "  print(q0(data))\n",
    "```\n",
    "\n",
    "In order to get a feel for the result of each stage, just print each step:\n",
    "```\n",
    "sub_set = data['Total']\n",
    "print(sub_set)\n",
    "total = np.sum(sub_set)\n",
    "print(total)\n",
    "```"
   ]
  },
  {
   "cell_type": "markdown",
   "metadata": {
    "id": "NBoYtnsnrkwJ"
   },
   "source": [
    "###**q1**\n",
    "###**How many transactions were on Restaurants?**\n"
   ]
  },
  {
   "cell_type": "code",
   "execution_count": 83,
   "metadata": {
    "id": "A5XE_OjMffSU"
   },
   "outputs": [],
   "source": [
    "def q1(data): \n",
    "    return len(data[data['Type']=='Restaurant'])"
   ]
  },
  {
   "cell_type": "markdown",
   "metadata": {
    "id": "KqSfQjofrxHa"
   },
   "source": [
    "###**q2:**\n",
    "###**Find the total spent on Restaurants**\n",
    "Hint: you will want to solve this in two parts:\n",
    "\n",
    "* First get the sub set that is restaurants (re-read the section on indirection).\n",
    "* Second, you can do something similar as in q0."
   ]
  },
  {
   "cell_type": "code",
   "execution_count": 84,
   "metadata": {
    "id": "D_TBCcYOffSh"
   },
   "outputs": [],
   "source": [
    "# type&run the above example/exercise in this cell\n",
    "def q2(data):\n",
    "    x = np.sum(data[data['Type']=='Restaurant']['Total'])\n",
    "    return x"
   ]
  },
  {
   "cell_type": "markdown",
   "metadata": {
    "id": "bwis8frcsCG4"
   },
   "source": [
    "###**q3:**\n",
    "###**How much was spent on taxes?**"
   ]
  },
  {
   "cell_type": "code",
   "execution_count": 85,
   "metadata": {},
   "outputs": [],
   "source": [
    "def q3(data):\n",
    "    return np.sum(data['Tax'])"
   ]
  },
  {
   "cell_type": "code",
   "execution_count": null,
   "metadata": {
    "id": "fqkH7WnzffSn"
   },
   "outputs": [],
   "source": [
    "# type&run the above example/exercise in this cell"
   ]
  },
  {
   "cell_type": "markdown",
   "metadata": {
    "id": "DYtf4LpGsHq0"
   },
   "source": [
    "###**q4:**\n",
    "###**How much was spent on taxes for Groceries?**"
   ]
  },
  {
   "cell_type": "code",
   "execution_count": 86,
   "metadata": {},
   "outputs": [],
   "source": [
    "def q4(data):\n",
    "    return np.sum(data[data['Type']=='Grocery']['Tax'])"
   ]
  },
  {
   "cell_type": "code",
   "execution_count": null,
   "metadata": {
    "id": "CWF3ys2lffSo"
   },
   "outputs": [],
   "source": [
    "# type&run the above example/exercise in this cell"
   ]
  },
  {
   "cell_type": "markdown",
   "metadata": {
    "id": "KiUby3NQsMJT"
   },
   "source": [
    "###**q5:**\n",
    "###**What was the mean (i.e. average) of all transactions?**"
   ]
  },
  {
   "cell_type": "code",
   "execution_count": 36,
   "metadata": {},
   "outputs": [],
   "source": [
    "def q5(data):\n",
    "    return np.mean(data['Total'])"
   ]
  },
  {
   "cell_type": "code",
   "execution_count": null,
   "metadata": {
    "id": "0OdjhUjPffSq"
   },
   "outputs": [],
   "source": [
    "# type&run the above example/exercise in this cell"
   ]
  },
  {
   "cell_type": "markdown",
   "metadata": {
    "id": "1u8zp-9YsQ2-"
   },
   "source": [
    "###**q6:**\n",
    "###**What was the mean (i.e. average) of all transactions whose total was under 3.00?**"
   ]
  },
  {
   "cell_type": "code",
   "execution_count": null,
   "metadata": {
    "id": "A8zC5VqEffSv"
   },
   "outputs": [],
   "source": [
    "# type&run the above example/exercise in this cell"
   ]
  },
  {
   "cell_type": "code",
   "execution_count": 89,
   "metadata": {},
   "outputs": [],
   "source": [
    "def q6(data):\n",
    "    return np.mean(data[data['Total']<3.00]['Total'])"
   ]
  },
  {
   "cell_type": "markdown",
   "metadata": {
    "id": "WnceNEtisV2s"
   },
   "source": [
    "###**q7:**\n",
    "###**What is the sum of price on transactions where price was a whole dollar amount (i.e. cents were 0) ?**\n",
    "\n",
    "Hints:\n",
    "\n",
    "* Think about the math needed to solve this\n",
    "* You want values that are whole dollars (4.00, 23.00, etc)\n",
    "* The mod operator could be useful (but not mandatory)\n",
    "* Don't use Python to post process the data. A good Numpy mask will do"
   ]
  },
  {
   "cell_type": "code",
   "execution_count": 125,
   "metadata": {},
   "outputs": [],
   "source": [
    "def q7(data):\n",
    "    x = np.mod(data['Price'], 1)\n",
    "    mask = (x == 0)\n",
    "    return np.sum(data[mask]['Price'])"
   ]
  },
  {
   "cell_type": "code",
   "execution_count": null,
   "metadata": {
    "id": "YV4vaRi_ffSx"
   },
   "outputs": [],
   "source": [
    "# type&run the above example/exercise in this cell"
   ]
  },
  {
   "cell_type": "markdown",
   "metadata": {
    "id": "GxZmJ4BtsnS5"
   },
   "source": [
    "###**q8:**\n",
    "###**How much was spent total on Merchants whose name is less than 7 characters long?**"
   ]
  },
  {
   "cell_type": "code",
   "execution_count": null,
   "metadata": {
    "id": "hj8C3gZgffSy"
   },
   "outputs": [],
   "source": [
    "# type&run the above example/exercise in this cell"
   ]
  },
  {
   "cell_type": "code",
   "execution_count": 53,
   "metadata": {},
   "outputs": [],
   "source": [
    "def q8(data):\n",
    "    return np.sum(data[np.char.str_len(data['Merchant'])<7]['Total'])"
   ]
  },
  {
   "cell_type": "markdown",
   "metadata": {
    "id": "y8jZeQMRspiA"
   },
   "source": [
    "###**q9:**\n",
    "###**Total number of transactions where the Merchant's name had the word 'Café' in it?**"
   ]
  },
  {
   "cell_type": "code",
   "execution_count": 90,
   "metadata": {},
   "outputs": [],
   "source": [
    "def q9(data):\n",
    "    return data[np.char.find(data['Merchant'],'Café')>=0].shape[0]"
   ]
  },
  {
   "cell_type": "code",
   "execution_count": null,
   "metadata": {
    "id": "ZLKpr24CffS2"
   },
   "outputs": [],
   "source": [
    "# type&run the above example/exercise in this cell"
   ]
  },
  {
   "cell_type": "markdown",
   "metadata": {
    "id": "ZX60DoDzsr1U"
   },
   "source": [
    "###**q10:**\n",
    "###**How many Merchants have the word 'Café' in them? (i.e. unique set Merchants)?**"
   ]
  },
  {
   "cell_type": "code",
   "execution_count": null,
   "metadata": {
    "id": "_3aPTlGCffS3"
   },
   "outputs": [],
   "source": [
    "# type&run the above example/exercise in this cell"
   ]
  },
  {
   "cell_type": "code",
   "execution_count": 139,
   "metadata": {},
   "outputs": [],
   "source": [
    "def q10(data):\n",
    "    return len(np.unique(data[np.char.find(data['Merchant'],'Café')>=0]['Merchant']))"
   ]
  },
  {
   "cell_type": "markdown",
   "metadata": {
    "id": "508e4yujtJ7H"
   },
   "source": [
    "##**Submission**\n",
    "\n",
    "After implementing all the functions and testing them please download the notebook as \"solution.py\" and submit to gradescope under \"Week12:DS:NumPy\" assignment tab and Moodle.\n",
    "\n",
    "**NOTES**\n",
    "\n",
    "* Be sure to use the function names and parameter names as given. \n",
    "* DONOT use your own function or parameter names. \n",
    "* Your file MUST be named \"solution.py\". \n",
    "* Comment out any lines of code and/or function calls to those functions that produce errors. If your solution has errors, then you have to work on them but if there were any errors in the examples/exercies then comment them before submitting to Gradescope.\n",
    "* Grading cannot be performed if any of these are violated."
   ]
  },
  {
   "cell_type": "markdown",
   "metadata": {
    "id": "upj1ms_6ffS3"
   },
   "source": [
    "**References and Additional Readings**\n",
    "* https://hackernoon.com/introduction-to-numpy-1-an-absolute-beginners-guide-to-machine-learning-and-data-science-5d87f13f0d51\n",
    "* https://s3.amazonaws.com/assets.datacamp.com/blog_assets/Numpy_Python_Cheat_Sheet.pdf\n",
    "* http://jalammar.github.io/visual-numpy"
   ]
  },
  {
   "cell_type": "markdown",
   "metadata": {
    "id": "h4QHah-QffS5"
   },
   "source": [
    "# Appendix: (but still very useful)\n",
    "Here's yet another way to use masking in Numpy.\n",
    "\n",
    "###**Using the Where Clause**\n",
    "Numpy allows similar masking using the where function.\n",
    "You pass in a condition to where function to get back an array that can be used for masking. For example, let's find all elements of an array whose value is 5:\n",
    "\n",
    "Here's the code to generate an array of 10 numbers:\n",
    "```\n",
    "np.random.seed(101)\n",
    "values = np.random.randint(0,7, (10,))\n",
    "print(values)\n",
    "```\n",
    "Now let's create a condition:\n",
    "```\n",
    "mask = values == 5\n",
    "print(mask)\n",
    "```\n",
    "And finally pass that condition/mask to the where function:\n",
    "```\n",
    "indices = np.where(mask)\n",
    "print(len(indices), indices)\n",
    "```\n",
    "\n",
    "The where function returns a set of tuples. Each tuple is an index.\n",
    "\n",
    "You can iterate over the first element of the tuple to get the values:\n",
    "```\n",
    "for idx in range(0, len(indices)):\n",
    "  i = indices[idx]\n",
    "  print(values[i]) # should be a 5!\n",
    "```\n"
   ]
  },
  {
   "cell_type": "code",
   "execution_count": null,
   "metadata": {
    "id": "bL4Vh7QaffS7"
   },
   "outputs": [],
   "source": [
    "# type&run the above example/exercise in this cell"
   ]
  },
  {
   "cell_type": "markdown",
   "metadata": {
    "id": "LDmRn8NduHKg"
   },
   "source": [
    "###**One more time, in 2D**\n",
    "\n",
    "Let's do the same process, but now with a two dimensional array:\n",
    "```\n",
    "np.random.seed(55)\n",
    "values = np.random.randint(0,7, (2,3))\n",
    "print(values)\n",
    "\n",
    "mask = values == 5\n",
    "print(mask)\n",
    "\n",
    "rows, cols = np.where(mask)\n",
    "print(rows)\n",
    "print(cols)\n",
    "# NOTE len(rows) == len(cols)\n",
    "```\n",
    "\n",
    "**A few important notes:**\n",
    "\n",
    "* np.where still returns a tuple, but we unravel (assign the different parts of) the tuple to different variables\n",
    "* since values is 2D, np.where will return indices for both rows and columns\n",
    "We can now iterate over these indices:\n",
    "\n",
    "```\n",
    "for idx in range(0, len(rows)): \n",
    "  r = rows[idx]\n",
    "  c = cols[idx]\n",
    "  print(values[r][c]) # should be a 5!\n",
    "```"
   ]
  },
  {
   "cell_type": "code",
   "execution_count": null,
   "metadata": {
    "id": "-VglfPxtffS9"
   },
   "outputs": [],
   "source": [
    "# type&run the above example/exercise in this cell"
   ]
  },
  {
   "cell_type": "markdown",
   "metadata": {
    "id": "W4-3YBYMubpT"
   },
   "source": [
    " \n",
    "That's a lot to learn. Be sure you understand the different parts of all of this. You don't need to memorize anything, just understand how numpy works at the syntax level."
   ]
  }
 ],
 "metadata": {
  "colab": {
   "collapsed_sections": [],
   "name": "Copy of Numerical Analysis with NumPy_Week12_INFO407",
   "provenance": []
  },
  "kernelspec": {
   "display_name": "Python 3 (ipykernel)",
   "language": "python",
   "name": "python3"
  },
  "language": "python",
  "language_info": {
   "codemirror_mode": {
    "name": "ipython",
    "version": 3
   },
   "file_extension": ".py",
   "mimetype": "text/x-python",
   "name": "python",
   "nbconvert_exporter": "python",
   "pygments_lexer": "ipython3",
   "version": "3.8.5"
  },
  "story": {
   "auth_token": "IIcadV4HgNn33tJ9aClsHgZyTopA227ev0Q2qcEBGB4=",
   "authorship_tag": "AB",
   "chapters": 83,
   "name": "Numerical Analysis with NumPy",
   "parser": {},
   "root": "https://github.com/habermanUIUC/CodeStories-lessons/blob/main/lessons/p4ds/ds/numpy1",
   "tag": "p4ds:ds:numpy1"
  }
 },
 "nbformat": 4,
 "nbformat_minor": 1
}
