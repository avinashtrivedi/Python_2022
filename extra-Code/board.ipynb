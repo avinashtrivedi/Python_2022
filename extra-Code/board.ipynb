{
 "cells": [
  {
   "cell_type": "code",
   "execution_count": null,
   "metadata": {},
   "outputs": [],
   "source": [
    "PYTHONPATH=/Users/edwinsalguero/.zprofile:14: :/Library/Frameworks/Python.framework/Versions/3.9/lib/python3.9/site-packages/"
   ]
  },
  {
   "cell_type": "code",
   "execution_count": 2,
   "metadata": {},
   "outputs": [],
   "source": [
    "arr=[\"Daisy\", \"Rose\", \"Hyacinth\", \"Poppy\"]"
   ]
  },
  {
   "cell_type": "code",
   "execution_count": 3,
   "metadata": {},
   "outputs": [
    {
     "data": {
      "text/plain": [
       "['Daisy', 'Rose', 'Hyacinth', 'Poppy']"
      ]
     },
     "execution_count": 3,
     "metadata": {},
     "output_type": "execute_result"
    }
   ],
   "source": [
    "arr"
   ]
  },
  {
   "cell_type": "code",
   "execution_count": 7,
   "metadata": {},
   "outputs": [],
   "source": [
    "n = max([len(i) for i in arr])\n",
    "t = len(arr)"
   ]
  },
  {
   "cell_type": "code",
   "execution_count": 14,
   "metadata": {},
   "outputs": [
    {
     "data": {
      "text/plain": [
       "'D'"
      ]
     },
     "execution_count": 14,
     "metadata": {},
     "output_type": "execute_result"
    }
   ],
   "source": [
    "arr[0][0]"
   ]
  },
  {
   "cell_type": "code",
   "execution_count": 17,
   "metadata": {},
   "outputs": [],
   "source": [
    "s = ''\n",
    "for i in range(n):\n",
    "    for j in range(t):\n",
    "        try:\n",
    "            if len(arr[j])>i: \n",
    "                s = s + arr[j][i]"
   ]
  },
  {
   "cell_type": "code",
   "execution_count": 18,
   "metadata": {},
   "outputs": [
    {
     "data": {
      "text/plain": [
       "'DRHPaoyoisapsecpyiynth'"
      ]
     },
     "execution_count": 18,
     "metadata": {},
     "output_type": "execute_result"
    }
   ],
   "source": [
    "s"
   ]
  },
  {
   "cell_type": "code",
   "execution_count": 29,
   "metadata": {},
   "outputs": [],
   "source": [
    "def solution(arr):\n",
    "    s = ''\n",
    "    n = max([len(i) for i in arr])\n",
    "    for i in range(n):\n",
    "        for j in range(len(arr)):\n",
    "            if len(arr[j])>i: \n",
    "                s = s + arr[j][i]\n",
    "    return s"
   ]
  },
  {
   "cell_type": "code",
   "execution_count": 30,
   "metadata": {},
   "outputs": [
    {
     "data": {
      "text/plain": [
       "'DRHPaoyoisapsecpyiynth'"
      ]
     },
     "execution_count": 30,
     "metadata": {},
     "output_type": "execute_result"
    }
   ],
   "source": [
    "solution(arr)"
   ]
  },
  {
   "cell_type": "code",
   "execution_count": 31,
   "metadata": {},
   "outputs": [],
   "source": [
    "arr1 = [\"E\", \"M\", \"I\", \"L\", \"Y\"]"
   ]
  },
  {
   "cell_type": "code",
   "execution_count": 32,
   "metadata": {},
   "outputs": [
    {
     "data": {
      "text/plain": [
       "'EMILY'"
      ]
     },
     "execution_count": 32,
     "metadata": {},
     "output_type": "execute_result"
    }
   ],
   "source": [
    "solution(arr1)"
   ]
  },
  {
   "cell_type": "code",
   "execution_count": null,
   "metadata": {},
   "outputs": [],
   "source": [
    "Input:\n",
    "board:\n",
    "[[\"s\",\"o\",\"s\",\"o\"], \n",
    " [\"s\",\"o\",\"o\",\"s\"], \n",
    " [\"s\",\"s\",\"s\",\"s\"]]\n",
    "word: \"sos\"\n",
    "Expected Output:\n",
    "3\n",
    "\n",
    "\n",
    "Input:\n",
    "board:\n",
    "[[\"a\",\"a\"], \n",
    " [\"a\",\"a\"]]\n",
    "word: \"aa\"\n",
    "Expected Output:\n",
    "5\n",
    "\n",
    "\n",
    "Input:\n",
    "board: [[\"c\",\"o\",\"d\",\"e\",\"s\",\"i\",\"g\",\"n\",\"a\",\"l\"]]\n",
    "word: \"codesignal\"\n",
    "Expected Output:\n",
    "1\n",
    "\n",
    "\n",
    "\n",
    "Input:\n",
    "board:\n",
    "[[\"a\",\"b\",\"c\"], \n",
    " [\"a\",\"b\",\"c\"]]\n",
    "word: \"abc\"\n",
    "Expected Output:\n",
    "2\n",
    "\n",
    "Input:\n",
    "board:\n",
    "[[\"z\",\"z\",\"z\"], \n",
    " [\"z\",\"z\",\"z\"], \n",
    " [\"z\",\"z\",\"z\"]]\n",
    "word: \"zz\"\n",
    "Expected Output:\n",
    "16\n",
    "\n",
    "\n",
    "\n",
    "Input:\n",
    "board:\n",
    "[[\"h\",\"o\",\"h\",\"o\",\"h\",\"o\"], \n",
    " [\"o\",\"h\",\"o\",\"h\",\"o\",\"h\"], \n",
    " [\"h\",\"o\",\"h\",\"o\",\"h\",\"o\"], \n",
    " [\"o\",\"h\",\"o\",\"h\",\"o\",\"h\"], \n",
    " [\"h\",\"o\",\"h\",\"o\",\"h\",\"o\"], \n",
    " [\"o\",\"h\",\"o\",\"h\",\"o\",\"h\"]]\n",
    "word: \"hohoho\"\n",
    "Expected Output:\n",
    "6\n",
    "\n",
    "\n",
    "\n",
    "\n",
    "Input:\n",
    "board:\n",
    "[[\"l\",\"l\",\"l\",\"l\",\"l\"], \n",
    " [\"o\",\"o\",\"o\",\"o\",\"o\"], \n",
    " [\"l\",\"l\",\"l\",\"l\",\"l\"]]\n",
    "word: \"lol\"\n",
    "Expected Output:\n",
    "8\n",
    "\n",
    "\n",
    "\n",
    "Input:\n",
    "board:\n",
    "[[\"c\",\"c\",\"o\",\"d\",\"e\"], \n",
    " [\"o\",\"c\",\"o\",\"d\",\"e\"], \n",
    " [\"d\",\"t\",\"o\",\"d\",\"t\"], \n",
    " [\"e\",\"t\",\"t\",\"d\",\"e\"], \n",
    " [\"a\",\"b\",\"c\",\"d\",\"e\"]]\n",
    "word: \"code\"\n",
    "Expected Output:\n",
    "5\n",
    "\n",
    "\n",
    "\n",
    "Input:\n",
    "board: [[\"x\"]]\n",
    "word: \"oops\"\n",
    "Expected Output:\n",
    "0\n",
    "\n",
    "\n"
   ]
  },
  {
   "cell_type": "code",
   "execution_count": 33,
   "metadata": {},
   "outputs": [],
   "source": [
    "board = [[\"s\",\"o\",\"s\",\"o\"], [\"s\",\"o\",\"o\",\"s\"], [\"s\",\"s\",\"s\",\"s\"]]"
   ]
  },
  {
   "cell_type": "code",
   "execution_count": 34,
   "metadata": {},
   "outputs": [],
   "source": [
    "import numpy as np"
   ]
  },
  {
   "cell_type": "code",
   "execution_count": 35,
   "metadata": {},
   "outputs": [
    {
     "data": {
      "text/plain": [
       "array([['s', 'o', 's', 'o'],\n",
       "       ['s', 'o', 'o', 's'],\n",
       "       ['s', 's', 's', 's']], dtype='<U1')"
      ]
     },
     "execution_count": 35,
     "metadata": {},
     "output_type": "execute_result"
    }
   ],
   "source": [
    "np.array(board)"
   ]
  },
  {
   "cell_type": "code",
   "execution_count": 62,
   "metadata": {},
   "outputs": [],
   "source": [
    "datetime = 1\n",
    "d = {'TYPE list': {'id': 47499, 'npId': 41404, 'name': {'last': 'Abbott', 'first': 'Greg', 'middle': '', 'suffix': '    ', 'abbrv': 'Abbott'}, 'vote': {'partyId': 'GOP', 'partyName': 'Republican', 'incumbent': True, 'isFused': False, 'majorCandidate': True, 'total': 0, 'votePercentage': 0, 'electoralVotesWon': 0, 'raceStatus': {'status': 'none', 'changelog': {'created': {'timestamp': 1, 'by': 'System'}, 'updated': {'timestamp': 1, 'by': 'System'}}}, 'mode': {'electionDayInPerson': {'directInput': {'isNull': True, 'value': 0}, 'rolledUp': {'isNull': True, 'value': 0}}, 'earlyInPerson': {'directInput': {'isNull': True, 'value': 0}, 'rolledUp': {'isNull': True, 'value': 0}}, 'absenteeInPerson': {'directInput': {'isNull': True, 'value': 0}, 'rolledUp': {'isNull': True, 'value': 0}}, 'absenteeMail': {'directInput': {'isNull': True, 'value': 0}, 'rolledUp': {'isNull': True, 'value': 0}}, 'provisional': {'directInput': {'isNull': True, 'value': 0}, 'rolledUp': {'isNull': True, 'value': 0}}, 'absenteeTotal': {'directInput': {'isNull': True, 'value': 0}, 'rolledUp': {'isNull': True, 'value': 0}}, 'advanceInPersonTotal': {'directInput': {'isNull': True, 'value': 0}, 'rolledUp': {'isNull': True, 'value': 0}}, 'advanceTotal': {'directInput': {'isNull': True, 'value': 0}, 'rolledUp': {'isNull': True, 'value': 0}}, 'inPersonTotal': {'directInput': {'isNull': True, 'value': 0}, 'rolledUp': {'isNull': True, 'value': 0}}}, 'ranks': [{'id': 0, 'total': 0, 'mode': {'electionDayInPerson': {'directInput': {'isNull': True, 'value': 0}, 'rolledUp': {'isNull': True, 'value': 0}}, 'earlyInPerson': {'directInput': {'isNull': True, 'value': 0}, 'rolledUp': {'isNull': True, 'value': 0}}, 'absenteeInPerson': {'directInput': {'isNull': True, 'value': 0}, 'rolledUp': {'isNull': True, 'value': 0}}, 'absenteeMail': {'directInput': {'isNull': True, 'value': 0}, 'rolledUp': {'isNull': True, 'value': 0}}, 'provisional': {'directInput': {'isNull': True, 'value': 0}, 'rolledUp': {'isNull': True, 'value': 0}}, 'absenteeTotal': {'directInput': {'isNull': True, 'value': 0}, 'rolledUp': {'isNull': True, 'value': 0}}, 'advanceInPersonTotal': {'directInput': {'isNull': True, 'value': 0}, 'rolledUp': {'isNull': True, 'value': 0}}, 'advanceTotal': {'directInput': {'isNull': True, 'value': 0}, 'rolledUp': {'isNull': True, 'value': 0}}, 'inPersonTotal': {'directInput': {'isNull': True, 'value': 0}, 'rolledUp': {'isNull': True, 'value': 0}}}}], 'parties': [{'id': 'GOP', 'candidateId': 62689, 'name': 'Republican', 'type': 'major', 'vote': {'total': 0, 'mode': {'electionDayInPerson': {'directInput': {'isNull': True, 'value': 0}, 'rolledUp': {'isNull': True, 'value': 0}}, 'earlyInPerson': {'directInput': {'isNull': True, 'value': 0}, 'rolledUp': {'isNull': True, 'value': 0}}, 'absenteeInPerson': {'directInput': {'isNull': True, 'value': 0}, 'rolledUp': {'isNull': True, 'value': 0}}, 'absenteeMail': {'directInput': {'isNull': True, 'value': 0}, 'rolledUp': {'isNull': True, 'value': 0}}, 'provisional': {'directInput': {'isNull': True, 'value': 0}, 'rolledUp': {'isNull': True, 'value': 0}}, 'absenteeTotal': {'directInput': {'isNull': True, 'value': 0}, 'rolledUp': {'isNull': True, 'value': 0}}, 'advanceInPersonTotal': {'directInput': {'isNull': True, 'value': 0}, 'rolledUp': {'isNull': True, 'value': 0}}, 'advanceTotal': {'directInput': {'isNull': True, 'value': 0}, 'rolledUp': {'isNull': True, 'value': 0}}, 'inPersonTotal': {'directInput': {'isNull': True, 'value': 0}, 'rolledUp': {'isNull': True, 'value': 0}}}, 'ballotOrder': 1}}]}, 'changelog': {'created': {'timestamp': 1, 'by': 'System'}, 'updated': {'timestamp': 3, 'by': 'appsync@ap.org'}}}}"
   ]
  },
  {
   "cell_type": "code",
   "execution_count": 44,
   "metadata": {},
   "outputs": [],
   "source": [
    "dd = d['TYPE list']"
   ]
  },
  {
   "cell_type": "code",
   "execution_count": 60,
   "metadata": {},
   "outputs": [
    {
     "data": {
      "text/plain": [
       "dict_keys(['id', 'npId', 'name', 'vote', 'changelog'])"
      ]
     },
     "execution_count": 60,
     "metadata": {},
     "output_type": "execute_result"
    }
   ],
   "source": [
    "dd.keys()"
   ]
  },
  {
   "cell_type": "code",
   "execution_count": 58,
   "metadata": {},
   "outputs": [
    {
     "data": {
      "text/plain": [
       "62689"
      ]
     },
     "execution_count": 58,
     "metadata": {},
     "output_type": "execute_result"
    }
   ],
   "source": [
    "dd['vote']['parties'][0]['candidateId']"
   ]
  },
  {
   "cell_type": "code",
   "execution_count": 59,
   "metadata": {},
   "outputs": [
    {
     "data": {
      "text/plain": [
       "0"
      ]
     },
     "execution_count": 59,
     "metadata": {},
     "output_type": "execute_result"
    }
   ],
   "source": [
    "dd['vote']['parties'][0]['vote']['total']"
   ]
  },
  {
   "cell_type": "code",
   "execution_count": 64,
   "metadata": {},
   "outputs": [
    {
     "data": {
      "text/plain": [
       "{'id': 47499,\n",
       " 'npId': 41404,\n",
       " 'name': {'last': 'Abbott',\n",
       "  'first': 'Greg',\n",
       "  'middle': '',\n",
       "  'suffix': '    ',\n",
       "  'abbrv': 'Abbott'},\n",
       " 'vote': {'partyId': 'GOP',\n",
       "  'partyName': 'Republican',\n",
       "  'incumbent': True,\n",
       "  'isFused': False,\n",
       "  'majorCandidate': True,\n",
       "  'total': 0,\n",
       "  'votePercentage': 0,\n",
       "  'electoralVotesWon': 0,\n",
       "  'raceStatus': {'status': 'none',\n",
       "   'changelog': {'created': {'timestamp': 1, 'by': 'System'},\n",
       "    'updated': {'timestamp': 1, 'by': 'System'}}},\n",
       "  'mode': {'electionDayInPerson': {'directInput': {'isNull': True, 'value': 0},\n",
       "    'rolledUp': {'isNull': True, 'value': 0}},\n",
       "   'earlyInPerson': {'directInput': {'isNull': True, 'value': 0},\n",
       "    'rolledUp': {'isNull': True, 'value': 0}},\n",
       "   'absenteeInPerson': {'directInput': {'isNull': True, 'value': 0},\n",
       "    'rolledUp': {'isNull': True, 'value': 0}},\n",
       "   'absenteeMail': {'directInput': {'isNull': True, 'value': 0},\n",
       "    'rolledUp': {'isNull': True, 'value': 0}},\n",
       "   'provisional': {'directInput': {'isNull': True, 'value': 0},\n",
       "    'rolledUp': {'isNull': True, 'value': 0}},\n",
       "   'absenteeTotal': {'directInput': {'isNull': True, 'value': 0},\n",
       "    'rolledUp': {'isNull': True, 'value': 0}},\n",
       "   'advanceInPersonTotal': {'directInput': {'isNull': True, 'value': 0},\n",
       "    'rolledUp': {'isNull': True, 'value': 0}},\n",
       "   'advanceTotal': {'directInput': {'isNull': True, 'value': 0},\n",
       "    'rolledUp': {'isNull': True, 'value': 0}},\n",
       "   'inPersonTotal': {'directInput': {'isNull': True, 'value': 0},\n",
       "    'rolledUp': {'isNull': True, 'value': 0}}},\n",
       "  'ranks': [{'id': 0,\n",
       "    'total': 0,\n",
       "    'mode': {'electionDayInPerson': {'directInput': {'isNull': True,\n",
       "       'value': 0},\n",
       "      'rolledUp': {'isNull': True, 'value': 0}},\n",
       "     'earlyInPerson': {'directInput': {'isNull': True, 'value': 0},\n",
       "      'rolledUp': {'isNull': True, 'value': 0}},\n",
       "     'absenteeInPerson': {'directInput': {'isNull': True, 'value': 0},\n",
       "      'rolledUp': {'isNull': True, 'value': 0}},\n",
       "     'absenteeMail': {'directInput': {'isNull': True, 'value': 0},\n",
       "      'rolledUp': {'isNull': True, 'value': 0}},\n",
       "     'provisional': {'directInput': {'isNull': True, 'value': 0},\n",
       "      'rolledUp': {'isNull': True, 'value': 0}},\n",
       "     'absenteeTotal': {'directInput': {'isNull': True, 'value': 0},\n",
       "      'rolledUp': {'isNull': True, 'value': 0}},\n",
       "     'advanceInPersonTotal': {'directInput': {'isNull': True, 'value': 0},\n",
       "      'rolledUp': {'isNull': True, 'value': 0}},\n",
       "     'advanceTotal': {'directInput': {'isNull': True, 'value': 0},\n",
       "      'rolledUp': {'isNull': True, 'value': 0}},\n",
       "     'inPersonTotal': {'directInput': {'isNull': True, 'value': 0},\n",
       "      'rolledUp': {'isNull': True, 'value': 0}}}}],\n",
       "  'parties': [{'id': 'GOP',\n",
       "    'candidateId': 62689,\n",
       "    'name': 'Republican',\n",
       "    'type': 'major',\n",
       "    'vote': {'total': 0,\n",
       "     'mode': {'electionDayInPerson': {'directInput': {'isNull': True,\n",
       "        'value': 0},\n",
       "       'rolledUp': {'isNull': True, 'value': 0}},\n",
       "      'earlyInPerson': {'directInput': {'isNull': True, 'value': 0},\n",
       "       'rolledUp': {'isNull': True, 'value': 0}},\n",
       "      'absenteeInPerson': {'directInput': {'isNull': True, 'value': 0},\n",
       "       'rolledUp': {'isNull': True, 'value': 0}},\n",
       "      'absenteeMail': {'directInput': {'isNull': True, 'value': 0},\n",
       "       'rolledUp': {'isNull': True, 'value': 0}},\n",
       "      'provisional': {'directInput': {'isNull': True, 'value': 0},\n",
       "       'rolledUp': {'isNull': True, 'value': 0}},\n",
       "      'absenteeTotal': {'directInput': {'isNull': True, 'value': 0},\n",
       "       'rolledUp': {'isNull': True, 'value': 0}},\n",
       "      'advanceInPersonTotal': {'directInput': {'isNull': True, 'value': 0},\n",
       "       'rolledUp': {'isNull': True, 'value': 0}},\n",
       "      'advanceTotal': {'directInput': {'isNull': True, 'value': 0},\n",
       "       'rolledUp': {'isNull': True, 'value': 0}},\n",
       "      'inPersonTotal': {'directInput': {'isNull': True, 'value': 0},\n",
       "       'rolledUp': {'isNull': True, 'value': 0}}},\n",
       "     'ballotOrder': 1}}]},\n",
       " 'changelog': {'created': {'timestamp': 1, 'by': 'System'},\n",
       "  'updated': {'timestamp': 3, 'by': 'appsync@ap.org'}}}"
      ]
     },
     "execution_count": 64,
     "metadata": {},
     "output_type": "execute_result"
    }
   ],
   "source": [
    "d['TYPE list'] # 0 element"
   ]
  },
  {
   "cell_type": "code",
   "execution_count": 65,
   "metadata": {},
   "outputs": [],
   "source": [
    "d = [(21371, 13), (21370, 12), (21369, 10)]"
   ]
  },
  {
   "cell_type": "code",
   "execution_count": 73,
   "metadata": {},
   "outputs": [],
   "source": [
    "d.sort(key = lambda x:x,reverse=True)"
   ]
  },
  {
   "cell_type": "code",
   "execution_count": 75,
   "metadata": {},
   "outputs": [
    {
     "data": {
      "text/plain": [
       "21371"
      ]
     },
     "execution_count": 75,
     "metadata": {},
     "output_type": "execute_result"
    }
   ],
   "source": [
    "d[0][0]"
   ]
  },
  {
   "cell_type": "code",
   "execution_count": null,
   "metadata": {},
   "outputs": [],
   "source": []
  }
 ],
 "metadata": {
  "kernelspec": {
   "display_name": "Python 3",
   "language": "python",
   "name": "python3"
  },
  "language_info": {
   "codemirror_mode": {
    "name": "ipython",
    "version": 3
   },
   "file_extension": ".py",
   "mimetype": "text/x-python",
   "name": "python",
   "nbconvert_exporter": "python",
   "pygments_lexer": "ipython3",
   "version": "3.8.5"
  }
 },
 "nbformat": 4,
 "nbformat_minor": 4
}
