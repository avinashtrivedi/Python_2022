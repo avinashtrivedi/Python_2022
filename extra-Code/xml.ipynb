{
 "cells": [
  {
   "cell_type": "code",
   "execution_count": null,
   "metadata": {},
   "outputs": [],
   "source": []
  },
  {
   "cell_type": "code",
   "execution_count": 98,
   "metadata": {},
   "outputs": [],
   "source": [
    "import os\n",
    "main_dir = r'C:\\Users\\avitr\\OneDrive\\Documents'\n",
    "folder_name = 'XGBoost'\n",
    "os.mkdir(os.path.join(main_dir,folder_name))\n",
    "\n",
    "c = os.path.join(main_dir,folder_name)\n",
    "os.path.join(c,'output')\n",
    "os.mkdir(os.path.join(c,'output'))"
   ]
  },
  {
   "cell_type": "code",
   "execution_count": 103,
   "metadata": {},
   "outputs": [],
   "source": [
    "avinashtrivedi@fbl"
   ]
  },
  {
   "cell_type": "code",
   "execution_count": null,
   "metadata": {},
   "outputs": [],
   "source": [
    "avinashtrivedi.2008@gmail.com"
   ]
  },
  {
   "cell_type": "code",
   "execution_count": 104,
   "metadata": {},
   "outputs": [
    {
     "data": {
      "text/plain": [
       "'C:\\\\Users\\\\avitr\\\\OneDrive\\\\Documents\\\\XGBoost\\\\output'"
      ]
     },
     "execution_count": 104,
     "metadata": {},
     "output_type": "execute_result"
    }
   ],
   "source": [
    "yes got it"
   ]
  },
  {
   "cell_type": "code",
   "execution_count": 105,
   "metadata": {},
   "outputs": [],
   "source": [
    "user.sandeepd@gmail.com"
   ]
  },
  {
   "cell_type": "code",
   "execution_count": null,
   "metadata": {},
   "outputs": [],
   "source": []
  },
  {
   "cell_type": "code",
   "execution_count": 19,
   "metadata": {},
   "outputs": [],
   "source": [
    "import xml.etree.ElementTree as ET\n",
    "import pandas as pd\n",
    "\n",
    "tree = ET.parse('auburn_vs_georgia_100140_02_10_2010.xml')\n",
    "root = tree.getroot()\n",
    "\n",
    "df = pd.DataFrame(columns= range(18))\n",
    "for tag in root.findall('team'):\n",
    "    if tag.attrib['id'] == 'AU':\n",
    "        d = tag.find('totals').find('stats').attrib\n",
    "        df.columns = d.keys()\n",
    "        df.loc[len(df)] = d.values()\n",
    "#         print(tag.find('totals').find('stats').attrib)"
   ]
  },
  {
   "cell_type": "code",
   "execution_count": null,
   "metadata": {},
   "outputs": [],
   "source": []
  },
  {
   "cell_type": "code",
   "execution_count": 20,
   "metadata": {},
   "outputs": [
    {
     "data": {
      "text/html": [
       "<div>\n",
       "<style scoped>\n",
       "    .dataframe tbody tr th:only-of-type {\n",
       "        vertical-align: middle;\n",
       "    }\n",
       "\n",
       "    .dataframe tbody tr th {\n",
       "        vertical-align: top;\n",
       "    }\n",
       "\n",
       "    .dataframe thead th {\n",
       "        text-align: right;\n",
       "    }\n",
       "</style>\n",
       "<table border=\"1\" class=\"dataframe\">\n",
       "  <thead>\n",
       "    <tr style=\"text-align: right;\">\n",
       "      <th></th>\n",
       "      <th>fgm</th>\n",
       "      <th>fga</th>\n",
       "      <th>fgm3</th>\n",
       "      <th>fga3</th>\n",
       "      <th>ftm</th>\n",
       "      <th>fta</th>\n",
       "      <th>tp</th>\n",
       "      <th>blk</th>\n",
       "      <th>stl</th>\n",
       "      <th>ast</th>\n",
       "      <th>min</th>\n",
       "      <th>oreb</th>\n",
       "      <th>dreb</th>\n",
       "      <th>treb</th>\n",
       "      <th>pf</th>\n",
       "      <th>tf</th>\n",
       "      <th>to</th>\n",
       "      <th>deadball</th>\n",
       "    </tr>\n",
       "  </thead>\n",
       "  <tbody>\n",
       "    <tr>\n",
       "      <th>0</th>\n",
       "      <td>28</td>\n",
       "      <td>64</td>\n",
       "      <td>8</td>\n",
       "      <td>27</td>\n",
       "      <td>18</td>\n",
       "      <td>26</td>\n",
       "      <td>82</td>\n",
       "      <td>2</td>\n",
       "      <td>9</td>\n",
       "      <td>12</td>\n",
       "      <td>200</td>\n",
       "      <td>16</td>\n",
       "      <td>23</td>\n",
       "      <td>39</td>\n",
       "      <td>22</td>\n",
       "      <td>1</td>\n",
       "      <td>11</td>\n",
       "      <td>4,2</td>\n",
       "    </tr>\n",
       "  </tbody>\n",
       "</table>\n",
       "</div>"
      ],
      "text/plain": [
       "  fgm fga fgm3 fga3 ftm fta  tp blk stl ast  min oreb dreb treb  pf tf  to  \\\n",
       "0  28  64    8   27  18  26  82   2   9  12  200   16   23   39  22  1  11   \n",
       "\n",
       "  deadball  \n",
       "0      4,2  "
      ]
     },
     "execution_count": 20,
     "metadata": {},
     "output_type": "execute_result"
    }
   ],
   "source": [
    "df"
   ]
  },
  {
   "cell_type": "code",
   "execution_count": null,
   "metadata": {},
   "outputs": [],
   "source": []
  },
  {
   "cell_type": "code",
   "execution_count": null,
   "metadata": {},
   "outputs": [],
   "source": []
  },
  {
   "cell_type": "code",
   "execution_count": 8,
   "metadata": {},
   "outputs": [
    {
     "data": {
      "text/plain": [
       "dict_values(['28', '64', '8', '27', '18', '26', '82', '2', '9', '12', '200', '16', '23', '39', '22', '1', '11', '4,2'])"
      ]
     },
     "execution_count": 8,
     "metadata": {},
     "output_type": "execute_result"
    }
   ],
   "source": [
    "d.values()"
   ]
  },
  {
   "cell_type": "code",
   "execution_count": 15,
   "metadata": {},
   "outputs": [
    {
     "data": {
      "text/plain": [
       "18"
      ]
     },
     "execution_count": 15,
     "metadata": {},
     "output_type": "execute_result"
    }
   ],
   "source": [
    "len(list(d))"
   ]
  },
  {
   "cell_type": "code",
   "execution_count": null,
   "metadata": {},
   "outputs": [],
   "source": []
  },
  {
   "cell_type": "code",
   "execution_count": 10,
   "metadata": {},
   "outputs": [],
   "source": [
    "d = []\n",
    "for child in root:\n",
    "    d.append((child.tag,child.attrib))"
   ]
  },
  {
   "cell_type": "code",
   "execution_count": 12,
   "metadata": {},
   "outputs": [
    {
     "data": {
      "text/plain": [
       "('venue',\n",
       " {'gameid': 'AU0210',\n",
       "  'visid': 'UGA',\n",
       "  'visname': 'Georgia',\n",
       "  'homeid': 'AU',\n",
       "  'homename': 'Auburn',\n",
       "  'date': '2/10/2010',\n",
       "  'location': 'Auburn, Ala.',\n",
       "  'time': '8:00 p.m.',\n",
       "  'attend': '5552',\n",
       "  'schednote': '',\n",
       "  'leaguegame': 'Y',\n",
       "  'neutralgame': 'N',\n",
       "  'postseason': 'N'})"
      ]
     },
     "execution_count": 12,
     "metadata": {},
     "output_type": "execute_result"
    }
   ],
   "source": [
    "d[0]"
   ]
  },
  {
   "cell_type": "code",
   "execution_count": 13,
   "metadata": {},
   "outputs": [
    {
     "data": {
      "text/plain": [
       "('status', {'complete': 'Y', 'period': '2', 'clock': '00:00', 'running': 'F'})"
      ]
     },
     "execution_count": 13,
     "metadata": {},
     "output_type": "execute_result"
    }
   ],
   "source": [
    "d[1]"
   ]
  },
  {
   "cell_type": "code",
   "execution_count": 16,
   "metadata": {},
   "outputs": [
    {
     "data": {
      "text/plain": [
       "('team',\n",
       " {'vh': 'V',\n",
       "  'id': 'UGA',\n",
       "  'name': 'Georgia',\n",
       "  'code': '257',\n",
       "  'record': '10-12, 2-7'})"
      ]
     },
     "execution_count": 16,
     "metadata": {},
     "output_type": "execute_result"
    }
   ],
   "source": [
    "d[2]"
   ]
  },
  {
   "cell_type": "code",
   "execution_count": 17,
   "metadata": {},
   "outputs": [
    {
     "data": {
      "text/plain": [
       "('team',\n",
       " {'vh': 'H',\n",
       "  'id': 'AU',\n",
       "  'name': 'Auburn',\n",
       "  'code': '37',\n",
       "  'record': '12-12, 3-6'})"
      ]
     },
     "execution_count": 17,
     "metadata": {},
     "output_type": "execute_result"
    }
   ],
   "source": [
    "d[3]"
   ]
  },
  {
   "cell_type": "code",
   "execution_count": 18,
   "metadata": {},
   "outputs": [
    {
     "data": {
      "text/plain": [
       "('plays', {'format': 'tokens'})"
      ]
     },
     "execution_count": 18,
     "metadata": {},
     "output_type": "execute_result"
    }
   ],
   "source": [
    "d[4]"
   ]
  },
  {
   "cell_type": "code",
   "execution_count": 20,
   "metadata": {},
   "outputs": [
    {
     "data": {
      "text/plain": [
       "[('venue',\n",
       "  {'gameid': 'AU0210',\n",
       "   'visid': 'UGA',\n",
       "   'visname': 'Georgia',\n",
       "   'homeid': 'AU',\n",
       "   'homename': 'Auburn',\n",
       "   'date': '2/10/2010',\n",
       "   'location': 'Auburn, Ala.',\n",
       "   'time': '8:00 p.m.',\n",
       "   'attend': '5552',\n",
       "   'schednote': '',\n",
       "   'leaguegame': 'Y',\n",
       "   'neutralgame': 'N',\n",
       "   'postseason': 'N'}),\n",
       " ('status',\n",
       "  {'complete': 'Y', 'period': '2', 'clock': '00:00', 'running': 'F'}),\n",
       " ('team',\n",
       "  {'vh': 'V',\n",
       "   'id': 'UGA',\n",
       "   'name': 'Georgia',\n",
       "   'code': '257',\n",
       "   'record': '10-12, 2-7'}),\n",
       " ('team',\n",
       "  {'vh': 'H',\n",
       "   'id': 'AU',\n",
       "   'name': 'Auburn',\n",
       "   'code': '37',\n",
       "   'record': '12-12, 3-6'}),\n",
       " ('plays', {'format': 'tokens'})]"
      ]
     },
     "execution_count": 20,
     "metadata": {},
     "output_type": "execute_result"
    }
   ],
   "source": []
  },
  {
   "cell_type": "code",
   "execution_count": 25,
   "metadata": {},
   "outputs": [],
   "source": [
    "d = []\n",
    "for child in root:\n",
    "    d.append((child.tag,child.attrib))"
   ]
  },
  {
   "cell_type": "code",
   "execution_count": 28,
   "metadata": {},
   "outputs": [
    {
     "data": {
      "text/plain": [
       "{'vh': 'H', 'id': 'AU', 'name': 'Auburn', 'code': '37', 'record': '12-12, 3-6'}"
      ]
     },
     "execution_count": 28,
     "metadata": {},
     "output_type": "execute_result"
    }
   ],
   "source": [
    "d[3][1]"
   ]
  },
  {
   "cell_type": "code",
   "execution_count": 31,
   "metadata": {},
   "outputs": [
    {
     "data": {
      "text/plain": [
       "[{'vh': 'H',\n",
       "  'id': 'AU',\n",
       "  'name': 'Auburn',\n",
       "  'code': '37',\n",
       "  'record': '12-12, 3-6'}]"
      ]
     },
     "execution_count": 31,
     "metadata": {},
     "output_type": "execute_result"
    }
   ],
   "source": [
    "[mydict for tag,mydict in d if tag=='team' and mydict['id']=='AU']"
   ]
  },
  {
   "cell_type": "code",
   "execution_count": 45,
   "metadata": {},
   "outputs": [
    {
     "name": "stderr",
     "output_type": "stream",
     "text": [
      "<ipython-input-45-1f6c323b6c3a>:1: DeprecationWarning: This method will be removed in future versions.  Use 'list(elem)' or iteration over elem instead.\n",
      "  root.getchildren()[3].getchildren()[1].getchildren()[0].attrib\n"
     ]
    },
    {
     "data": {
      "text/plain": [
       "{'fgm': '28',\n",
       " 'fga': '64',\n",
       " 'fgm3': '8',\n",
       " 'fga3': '27',\n",
       " 'ftm': '18',\n",
       " 'fta': '26',\n",
       " 'tp': '82',\n",
       " 'blk': '2',\n",
       " 'stl': '9',\n",
       " 'ast': '12',\n",
       " 'min': '200',\n",
       " 'oreb': '16',\n",
       " 'dreb': '23',\n",
       " 'treb': '39',\n",
       " 'pf': '22',\n",
       " 'tf': '1',\n",
       " 'to': '11',\n",
       " 'deadball': '4,2'}"
      ]
     },
     "execution_count": 45,
     "metadata": {},
     "output_type": "execute_result"
    }
   ],
   "source": [
    "root.getchildren()[3].getchildren()[1].getchildren()[0].attrib"
   ]
  },
  {
   "cell_type": "code",
   "execution_count": 46,
   "metadata": {},
   "outputs": [],
   "source": [
    "tree = ET.parse('lsu_vs_auburn_72125_01_20_2010 (1).xml')\n",
    "root1 = tree.getroot()"
   ]
  },
  {
   "cell_type": "code",
   "execution_count": 47,
   "metadata": {},
   "outputs": [
    {
     "name": "stderr",
     "output_type": "stream",
     "text": [
      "<ipython-input-47-0fce5290bb8f>:1: DeprecationWarning: This method will be removed in future versions.  Use 'list(elem)' or iteration over elem instead.\n",
      "  root1.getchildren()[3].getchildren()[1].getchildren()[0].attrib\n"
     ]
    },
    {
     "data": {
      "text/plain": [
       "{'fgm': '28',\n",
       " 'fga': '63',\n",
       " 'fgm3': '5',\n",
       " 'fga3': '18',\n",
       " 'ftm': '19',\n",
       " 'fta': '24',\n",
       " 'tp': '80',\n",
       " 'blk': '4',\n",
       " 'stl': '6',\n",
       " 'ast': '11',\n",
       " 'min': '200',\n",
       " 'oreb': '16',\n",
       " 'dreb': '23',\n",
       " 'treb': '39',\n",
       " 'pf': '23',\n",
       " 'tf': '0',\n",
       " 'to': '11',\n",
       " 'deadball': '4,0'}"
      ]
     },
     "execution_count": 47,
     "metadata": {},
     "output_type": "execute_result"
    }
   ],
   "source": [
    "root1.getchildren()[3].getchildren()[1].getchildren()[0].attrib"
   ]
  },
  {
   "cell_type": "code",
   "execution_count": null,
   "metadata": {},
   "outputs": [],
   "source": [
    "for subdir in listdir(directory):\n",
    "subpath = os.path.join(directory,subdir)\n",
    "images = listdir(subpath)"
   ]
  },
  {
   "cell_type": "code",
   "execution_count": 48,
   "metadata": {},
   "outputs": [],
   "source": [
    "import os"
   ]
  },
  {
   "cell_type": "code",
   "execution_count": 56,
   "metadata": {},
   "outputs": [],
   "source": [
    "import os\n",
    "roots = []\n",
    "main_dir = 'E:\\myxml'\n",
    "for fname in os.listdir(main_dir):\n",
    "    path = os.path.join(main_dir,fname)\n",
    "    \n",
    "    tree = ET.parse(path)\n",
    "    root = tree.getroot()\n",
    "    \n",
    "    # do the operations\n",
    "    \n",
    "    roots.append(root)"
   ]
  },
  {
   "cell_type": "code",
   "execution_count": 66,
   "metadata": {},
   "outputs": [
    {
     "data": {
      "text/plain": [
       "<Element 'bbgame' at 0x0000013A53D79630>"
      ]
     },
     "execution_count": 66,
     "metadata": {},
     "output_type": "execute_result"
    }
   ],
   "source": [
    "roots[0]"
   ]
  },
  {
   "cell_type": "code",
   "execution_count": 89,
   "metadata": {},
   "outputs": [
    {
     "name": "stdout",
     "output_type": "stream",
     "text": [
      "{'fgm': '27', 'fga': '63', 'fgm3': '4', 'fga3': '20', 'ftm': '19', 'fta': '28', 'tp': '77', 'blk': '1', 'stl': '12', 'ast': '11', 'min': '200', 'oreb': '17', 'dreb': '21', 'treb': '38', 'pf': '12', 'tf': '1', 'to': '11', 'deadball': '4,0'}\n"
     ]
    }
   ],
   "source": [
    "for tag in root.findall('team'):\n",
    "    if tag.attrib['id'] == 'AU':\n",
    "        print(tag.find('totals').find('stats').attrib)"
   ]
  },
  {
   "cell_type": "code",
   "execution_count": 87,
   "metadata": {},
   "outputs": [
    {
     "data": {
      "text/plain": [
       "{'fgm': '27',\n",
       " 'fga': '63',\n",
       " 'fgm3': '4',\n",
       " 'fga3': '20',\n",
       " 'ftm': '19',\n",
       " 'fta': '28',\n",
       " 'tp': '77',\n",
       " 'blk': '1',\n",
       " 'stl': '12',\n",
       " 'ast': '11',\n",
       " 'min': '200',\n",
       " 'oreb': '17',\n",
       " 'dreb': '21',\n",
       " 'treb': '38',\n",
       " 'pf': '12',\n",
       " 'tf': '1',\n",
       " 'to': '11',\n",
       " 'deadball': '4,0'}"
      ]
     },
     "execution_count": 87,
     "metadata": {},
     "output_type": "execute_result"
    }
   ],
   "source": [
    "root.findall('team')[1].find('totals').find('stats').attrib"
   ]
  },
  {
   "cell_type": "code",
   "execution_count": 59,
   "metadata": {},
   "outputs": [
    {
     "name": "stderr",
     "output_type": "stream",
     "text": [
      "<ipython-input-59-4ef570877ef1>:1: DeprecationWarning: This method will be removed in future versions.  Use 'list(elem)' or iteration over elem instead.\n",
      "  roots[2].getchildren()[3].getchildren()[1].getchildren()[0].attrib\n"
     ]
    },
    {
     "data": {
      "text/plain": [
       "{'fgm': '20',\n",
       " 'fga': '47',\n",
       " 'fgm3': '3',\n",
       " 'fga3': '16',\n",
       " 'ftm': '15',\n",
       " 'fta': '25',\n",
       " 'tp': '58',\n",
       " 'blk': '6',\n",
       " 'stl': '11',\n",
       " 'ast': '4',\n",
       " 'min': '200',\n",
       " 'oreb': '8',\n",
       " 'dreb': '21',\n",
       " 'treb': '29',\n",
       " 'pf': '16',\n",
       " 'tf': '0',\n",
       " 'to': '15',\n",
       " 'deadball': '5,0'}"
      ]
     },
     "execution_count": 59,
     "metadata": {},
     "output_type": "execute_result"
    }
   ],
   "source": [
    "roots[2].getchildren()[3].getchildren()[1].getchildren()[0].attrib"
   ]
  },
  {
   "cell_type": "code",
   "execution_count": 53,
   "metadata": {},
   "outputs": [
    {
     "data": {
      "text/plain": [
       "'E:\\\\myxml\\\\arkansas_vs_auburn_96860_02_06_2010.xml'"
      ]
     },
     "execution_count": 53,
     "metadata": {},
     "output_type": "execute_result"
    }
   ],
   "source": [
    "main_dir = 'E:\\myxml'\n",
    "os.path.join(main_dir,'arkansas_vs_auburn_96860_02_06_2010.xml')"
   ]
  },
  {
   "cell_type": "code",
   "execution_count": 60,
   "metadata": {},
   "outputs": [
    {
     "data": {
      "text/plain": [
       "25.0"
      ]
     },
     "execution_count": 60,
     "metadata": {},
     "output_type": "execute_result"
    }
   ],
   "source": [
    "1500/60"
   ]
  },
  {
   "cell_type": "code",
   "execution_count": 61,
   "metadata": {},
   "outputs": [],
   "source": []
  },
  {
   "cell_type": "code",
   "execution_count": null,
   "metadata": {},
   "outputs": [],
   "source": [
    "auburn_vs_georgia_100140_02_10_2010"
   ]
  },
  {
   "cell_type": "code",
   "execution_count": 62,
   "metadata": {},
   "outputs": [],
   "source": [
    "import zipfile\n",
    "zip_obj = zipfile.ZipFile('auburn_vs_georgia_100140_02_10_2010.zip','r')\n",
    "zip_obj.extractall()"
   ]
  },
  {
   "cell_type": "code",
   "execution_count": 63,
   "metadata": {},
   "outputs": [
    {
     "data": {
      "text/plain": [
       "<zipfile.ZipFile filename='auburn_vs_georgia_100140_02_10_2010.zip' mode='r'>"
      ]
     },
     "execution_count": 63,
     "metadata": {},
     "output_type": "execute_result"
    }
   ],
   "source": []
  },
  {
   "cell_type": "code",
   "execution_count": 65,
   "metadata": {},
   "outputs": [],
   "source": [
    "zip_obj.extractall()"
   ]
  },
  {
   "cell_type": "code",
   "execution_count": null,
   "metadata": {},
   "outputs": [],
   "source": []
  }
 ],
 "metadata": {
  "kernelspec": {
   "display_name": "Python 3 (ipykernel)",
   "language": "python",
   "name": "python3"
  },
  "language_info": {
   "codemirror_mode": {
    "name": "ipython",
    "version": 3
   },
   "file_extension": ".py",
   "mimetype": "text/x-python",
   "name": "python",
   "nbconvert_exporter": "python",
   "pygments_lexer": "ipython3",
   "version": "3.9.12"
  }
 },
 "nbformat": 4,
 "nbformat_minor": 4
}
