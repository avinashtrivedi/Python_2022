{
 "cells": [
  {
   "cell_type": "code",
   "execution_count": null,
   "id": "9b8fef7c",
   "metadata": {},
   "outputs": [],
   "source": [
    "\n",
    "import unittest\n",
    "import timing \n",
    "\n",
    "\n",
    "class TestTimingProgram(unittest.TestCase):\n",
    "\n",
    "\n",
    "\tdef test_makeTimingDict(self):\n",
    "\n",
    "\t\tans = timing.makeTimingDict(\"ultra.tiny.title.basics.tsv\")\n",
    "\t\tsoln = {1713499: {'primaryTitle': 'Meena', 'titleType': 'movie', 'runtimeMinutes': 0, 'startYear': '2012'}, 2543164: {'primaryTitle': 'Arrival', 'titleType': 'movie', 'runtimeMinutes': 116, 'startYear': '2016'}}\n",
    "\t\tself.assertEqual(ans, soln)\n",
    "\n",
    "\n",
    "\t\tans2 = timing.makeTimingDict(\"tiny.title.basics.tsv\")\n",
    "\t\tsoln2 = {11351144: {'primaryTitle': 'Kapitel 249', 'titleType': 'tvEpisode', 'runtimeMinutes': 0, 'startYear': '2010'}, 13973364: {'primaryTitle': 'Carlos Miguel', 'titleType': 'tvEpisode', 'runtimeMinutes': 0, 'startYear': '2006'}, 4201304: {'primaryTitle': 'Episode #1.9', 'titleType': 'tvEpisode', 'runtimeMinutes': 52, 'startYear': '2004'}, 5991910: {'primaryTitle': 'Episode #8.54', 'titleType': 'tvEpisode', 'runtimeMinutes': 0, 'startYear': '2016'}, 7052686: {'primaryTitle': 'Episode #1.172', 'titleType': 'tvEpisode', 'runtimeMinutes': 0, 'startYear': '1995'}, 3693356: {'primaryTitle': 'Tyven - tyven', 'titleType': 'tvEpisode', 'runtimeMinutes': 27, 'startYear': '2005'}, 54135: {'primaryTitle': \"Ocean's 11\", 'titleType': 'movie', 'runtimeMinutes': 127, 'startYear': '1960'}, 240772: {'primaryTitle': \"Ocean's Eleven\", 'titleType': 'movie', 'runtimeMinutes': 116, 'startYear': '2001'}, 450069: {'primaryTitle': 'The Oceans 11 Story', 'titleType': 'video', 'runtimeMinutes': 70, 'startYear': '2001'}, 9832806: {'primaryTitle': 'Blue Mountains', 'titleType': 'tvEpisode', 'runtimeMinutes': 23, 'startYear': '2019'}}\n",
    "\t\tself.assertEqual(ans2, soln2)\n",
    "\n",
    "\n",
    "\n",
    "\n",
    "if __name__ == '__main__':\n",
    "\tunittest.main()"
   ]
  },
  {
   "cell_type": "code",
   "execution_count": 1,
   "id": "a272683f",
   "metadata": {},
   "outputs": [],
   "source": [
    "import pandas as pd"
   ]
  },
  {
   "cell_type": "code",
   "execution_count": 4,
   "id": "a5f3de7b",
   "metadata": {},
   "outputs": [
    {
     "data": {
      "text/html": [
       "<div>\n",
       "<style scoped>\n",
       "    .dataframe tbody tr th:only-of-type {\n",
       "        vertical-align: middle;\n",
       "    }\n",
       "\n",
       "    .dataframe tbody tr th {\n",
       "        vertical-align: top;\n",
       "    }\n",
       "\n",
       "    .dataframe thead th {\n",
       "        text-align: right;\n",
       "    }\n",
       "</style>\n",
       "<table border=\"1\" class=\"dataframe\">\n",
       "  <thead>\n",
       "    <tr style=\"text-align: right;\">\n",
       "      <th></th>\n",
       "      <th>tconst</th>\n",
       "      <th>titleType</th>\n",
       "      <th>primaryTitle</th>\n",
       "      <th>originalTitle</th>\n",
       "      <th>isAdult</th>\n",
       "      <th>startYear</th>\n",
       "      <th>endYear</th>\n",
       "      <th>runtimeMinutes</th>\n",
       "      <th>genres</th>\n",
       "    </tr>\n",
       "  </thead>\n",
       "  <tbody>\n",
       "    <tr>\n",
       "      <th>0</th>\n",
       "      <td>tt11351144</td>\n",
       "      <td>tvEpisode</td>\n",
       "      <td>Kapitel 249</td>\n",
       "      <td>Kapitel 249</td>\n",
       "      <td>0</td>\n",
       "      <td>2010</td>\n",
       "      <td>\\N</td>\n",
       "      <td>\\N</td>\n",
       "      <td>Drama,Romance</td>\n",
       "    </tr>\n",
       "    <tr>\n",
       "      <th>1</th>\n",
       "      <td>tt13973364</td>\n",
       "      <td>tvEpisode</td>\n",
       "      <td>Carlos Miguel</td>\n",
       "      <td>Carlos Miguel</td>\n",
       "      <td>0</td>\n",
       "      <td>2006</td>\n",
       "      <td>\\N</td>\n",
       "      <td>\\N</td>\n",
       "      <td>Talk-Show</td>\n",
       "    </tr>\n",
       "    <tr>\n",
       "      <th>2</th>\n",
       "      <td>tt4201304</td>\n",
       "      <td>tvEpisode</td>\n",
       "      <td>Episode #1.9</td>\n",
       "      <td>Episode #1.9</td>\n",
       "      <td>0</td>\n",
       "      <td>2004</td>\n",
       "      <td>\\N</td>\n",
       "      <td>52</td>\n",
       "      <td>Drama,Romance</td>\n",
       "    </tr>\n",
       "    <tr>\n",
       "      <th>3</th>\n",
       "      <td>tt5991910</td>\n",
       "      <td>tvEpisode</td>\n",
       "      <td>Episode #8.54</td>\n",
       "      <td>Episode #8.54</td>\n",
       "      <td>0</td>\n",
       "      <td>2016</td>\n",
       "      <td>\\N</td>\n",
       "      <td>\\N</td>\n",
       "      <td>Comedy</td>\n",
       "    </tr>\n",
       "    <tr>\n",
       "      <th>4</th>\n",
       "      <td>tt7052686</td>\n",
       "      <td>tvEpisode</td>\n",
       "      <td>Episode #1.172</td>\n",
       "      <td>Episode #1.172</td>\n",
       "      <td>0</td>\n",
       "      <td>1995</td>\n",
       "      <td>\\N</td>\n",
       "      <td>\\N</td>\n",
       "      <td>Adventure,Comedy,Family</td>\n",
       "    </tr>\n",
       "    <tr>\n",
       "      <th>5</th>\n",
       "      <td>tt3693356</td>\n",
       "      <td>tvEpisode</td>\n",
       "      <td>Tyven - tyven</td>\n",
       "      <td>Tyven - tyven</td>\n",
       "      <td>0</td>\n",
       "      <td>2005</td>\n",
       "      <td>\\N</td>\n",
       "      <td>27</td>\n",
       "      <td>Drama,Family,Romance</td>\n",
       "    </tr>\n",
       "    <tr>\n",
       "      <th>6</th>\n",
       "      <td>tt0054135</td>\n",
       "      <td>movie</td>\n",
       "      <td>Ocean's 11</td>\n",
       "      <td>Ocean's Eleven</td>\n",
       "      <td>0</td>\n",
       "      <td>1960</td>\n",
       "      <td>\\N</td>\n",
       "      <td>127</td>\n",
       "      <td>Comedy,Crime,Music</td>\n",
       "    </tr>\n",
       "    <tr>\n",
       "      <th>7</th>\n",
       "      <td>tt0240772</td>\n",
       "      <td>movie</td>\n",
       "      <td>Ocean's Eleven</td>\n",
       "      <td>Ocean's Eleven</td>\n",
       "      <td>0</td>\n",
       "      <td>2001</td>\n",
       "      <td>\\N</td>\n",
       "      <td>116</td>\n",
       "      <td>Crime,Thriller</td>\n",
       "    </tr>\n",
       "    <tr>\n",
       "      <th>8</th>\n",
       "      <td>tt0450069</td>\n",
       "      <td>video</td>\n",
       "      <td>The Oceans 11 Story</td>\n",
       "      <td>The Ocean's Eleven Story</td>\n",
       "      <td>0</td>\n",
       "      <td>2001</td>\n",
       "      <td>\\N</td>\n",
       "      <td>70</td>\n",
       "      <td>Documentary</td>\n",
       "    </tr>\n",
       "    <tr>\n",
       "      <th>9</th>\n",
       "      <td>tt9832806</td>\n",
       "      <td>tvEpisode</td>\n",
       "      <td>Blue Mountains</td>\n",
       "      <td>Blue Mountains</td>\n",
       "      <td>0</td>\n",
       "      <td>2019</td>\n",
       "      <td>\\N</td>\n",
       "      <td>23</td>\n",
       "      <td>Documentary</td>\n",
       "    </tr>\n",
       "  </tbody>\n",
       "</table>\n",
       "</div>"
      ],
      "text/plain": [
       "       tconst  titleType         primaryTitle             originalTitle  \\\n",
       "0  tt11351144  tvEpisode          Kapitel 249               Kapitel 249   \n",
       "1  tt13973364  tvEpisode        Carlos Miguel             Carlos Miguel   \n",
       "2   tt4201304  tvEpisode         Episode #1.9              Episode #1.9   \n",
       "3   tt5991910  tvEpisode        Episode #8.54             Episode #8.54   \n",
       "4   tt7052686  tvEpisode       Episode #1.172            Episode #1.172   \n",
       "5   tt3693356  tvEpisode        Tyven - tyven             Tyven - tyven   \n",
       "6   tt0054135      movie           Ocean's 11            Ocean's Eleven   \n",
       "7   tt0240772      movie       Ocean's Eleven            Ocean's Eleven   \n",
       "8   tt0450069      video  The Oceans 11 Story  The Ocean's Eleven Story   \n",
       "9   tt9832806  tvEpisode       Blue Mountains            Blue Mountains   \n",
       "\n",
       "   isAdult  startYear endYear runtimeMinutes                   genres  \n",
       "0        0       2010      \\N             \\N            Drama,Romance  \n",
       "1        0       2006      \\N             \\N                Talk-Show  \n",
       "2        0       2004      \\N             52            Drama,Romance  \n",
       "3        0       2016      \\N             \\N                   Comedy  \n",
       "4        0       1995      \\N             \\N  Adventure,Comedy,Family  \n",
       "5        0       2005      \\N             27     Drama,Family,Romance  \n",
       "6        0       1960      \\N            127       Comedy,Crime,Music  \n",
       "7        0       2001      \\N            116           Crime,Thriller  \n",
       "8        0       2001      \\N             70              Documentary  \n",
       "9        0       2019      \\N             23              Documentary  "
      ]
     },
     "execution_count": 4,
     "metadata": {},
     "output_type": "execute_result"
    }
   ],
   "source": [
    "pd.read_csv('tiny.title.basics.tsv',sep='\\t')"
   ]
  },
  {
   "cell_type": "code",
   "execution_count": 8,
   "id": "bcbe0b67",
   "metadata": {},
   "outputs": [],
   "source": [
    "input = open(\"tiny.title.basics.tsv\",\"r\")\n",
    "rawText = input.read()\n",
    "lines = rawText.split(\"\\n\")\n",
    "listOfLists = [k.split(\"\\t\") for k in lines]"
   ]
  },
  {
   "cell_type": "code",
   "execution_count": 9,
   "id": "024b6d25",
   "metadata": {},
   "outputs": [
    {
     "data": {
      "text/plain": [
       "{11351144: {'primaryTitle': 'Kapitel 249',\n",
       "  'titleType': 'tvEpisode',\n",
       "  'runtimeMinutes': '\\\\N',\n",
       "  'startYear': '2010'},\n",
       " 13973364: {'primaryTitle': 'Carlos Miguel',\n",
       "  'titleType': 'tvEpisode',\n",
       "  'runtimeMinutes': '\\\\N',\n",
       "  'startYear': '2006'},\n",
       " 4201304: {'primaryTitle': 'Episode #1.9',\n",
       "  'titleType': 'tvEpisode',\n",
       "  'runtimeMinutes': '52',\n",
       "  'startYear': '2004'},\n",
       " 5991910: {'primaryTitle': 'Episode #8.54',\n",
       "  'titleType': 'tvEpisode',\n",
       "  'runtimeMinutes': '\\\\N',\n",
       "  'startYear': '2016'},\n",
       " 7052686: {'primaryTitle': 'Episode #1.172',\n",
       "  'titleType': 'tvEpisode',\n",
       "  'runtimeMinutes': '\\\\N',\n",
       "  'startYear': '1995'},\n",
       " 3693356: {'primaryTitle': 'Tyven - tyven',\n",
       "  'titleType': 'tvEpisode',\n",
       "  'runtimeMinutes': '27',\n",
       "  'startYear': '2005'},\n",
       " 54135: {'primaryTitle': \"Ocean's 11\",\n",
       "  'titleType': 'movie',\n",
       "  'runtimeMinutes': '127',\n",
       "  'startYear': '1960'},\n",
       " 240772: {'primaryTitle': \"Ocean's Eleven\",\n",
       "  'titleType': 'movie',\n",
       "  'runtimeMinutes': '116',\n",
       "  'startYear': '2001'},\n",
       " 450069: {'primaryTitle': 'The Oceans 11 Story',\n",
       "  'titleType': 'video',\n",
       "  'runtimeMinutes': '70',\n",
       "  'startYear': '2001'},\n",
       " 9832806: {'primaryTitle': 'Blue Mountains',\n",
       "  'titleType': 'tvEpisode',\n",
       "  'runtimeMinutes': '23',\n",
       "  'startYear': '2019'}}"
      ]
     },
     "execution_count": 9,
     "metadata": {},
     "output_type": "execute_result"
    }
   ],
   "source": [
    "{int(i[0][2:]): {'primaryTitle':i[2] ,'titleType': i[1],'runtimeMinutes':i[-2],'startYear':i[5]} for i in listOfLists[1:-1]}"
   ]
  },
  {
   "cell_type": "code",
   "execution_count": 74,
   "id": "d249f6c9",
   "metadata": {},
   "outputs": [],
   "source": [
    "listOfLists = [[i[1],i[-2]] for i in listOfLists if i[0]!='']"
   ]
  },
  {
   "cell_type": "code",
   "execution_count": null,
   "id": "bd64f0bc",
   "metadata": {},
   "outputs": [],
   "source": []
  },
  {
   "cell_type": "code",
   "execution_count": 75,
   "id": "4e9f47c7",
   "metadata": {},
   "outputs": [],
   "source": [
    "listOfLists = listOfLists[1:]"
   ]
  },
  {
   "cell_type": "code",
   "execution_count": 76,
   "id": "c70d677f",
   "metadata": {},
   "outputs": [],
   "source": [
    "mydict = {}\n",
    "for i,j in listOfLists:\n",
    "    j = int(j) if j!='\\\\N' else 0\n",
    "    if i not in mydict:\n",
    "        mydict[i] = j\n",
    "    else:\n",
    "        mydict[i] = mydict[i] + j"
   ]
  },
  {
   "cell_type": "code",
   "execution_count": 77,
   "id": "842a59ed",
   "metadata": {},
   "outputs": [
    {
     "data": {
      "text/plain": [
       "{'tvEpisode': 102, 'movie': 243, 'video': 70}"
      ]
     },
     "execution_count": 77,
     "metadata": {},
     "output_type": "execute_result"
    }
   ],
   "source": [
    "mydict"
   ]
  },
  {
   "cell_type": "code",
   "execution_count": 78,
   "id": "34cda403",
   "metadata": {},
   "outputs": [],
   "source": [
    "listOfLists = [i[0] for i in listOfLists]"
   ]
  },
  {
   "cell_type": "code",
   "execution_count": 79,
   "id": "53bb7200",
   "metadata": {},
   "outputs": [],
   "source": [
    "for i in set(listOfLists):\n",
    "    mydict[i] = round(mydict[i]/listOfLists.count(i),2)"
   ]
  },
  {
   "cell_type": "code",
   "execution_count": 80,
   "id": "0dfb3792",
   "metadata": {},
   "outputs": [
    {
     "data": {
      "text/plain": [
       "{'tvEpisode': 14.57, 'movie': 121.5, 'video': 70.0}"
      ]
     },
     "execution_count": 80,
     "metadata": {},
     "output_type": "execute_result"
    }
   ],
   "source": [
    "mydict"
   ]
  },
  {
   "cell_type": "code",
   "execution_count": 81,
   "id": "6b581672",
   "metadata": {},
   "outputs": [],
   "source": [
    "fp = open('output.txt','w')\n",
    "for k in mydict:\n",
    "    s = k + ': ' + str(mydict[k]) + ' mins' + '\\n'\n",
    "    fp.write(s)\n",
    "fp.close()"
   ]
  },
  {
   "cell_type": "code",
   "execution_count": null,
   "id": "1e7afd9c",
   "metadata": {},
   "outputs": [],
   "source": []
  },
  {
   "cell_type": "code",
   "execution_count": null,
   "id": "30f47eb7",
   "metadata": {},
   "outputs": [],
   "source": []
  },
  {
   "cell_type": "code",
   "execution_count": 1,
   "id": "9eb1a818",
   "metadata": {},
   "outputs": [
    {
     "ename": "FileNotFoundError",
     "evalue": "[Errno 2] No such file or directory: '-f'",
     "output_type": "error",
     "traceback": [
      "\u001b[1;31m---------------------------------------------------------------------------\u001b[0m",
      "\u001b[1;31mFileNotFoundError\u001b[0m                         Traceback (most recent call last)",
      "Input \u001b[1;32mIn [1]\u001b[0m, in \u001b[0;36m<cell line: 2>\u001b[1;34m()\u001b[0m\n\u001b[0;32m      1\u001b[0m \u001b[38;5;28;01mimport\u001b[39;00m \u001b[38;5;21;01msys\u001b[39;00m\n\u001b[1;32m----> 2\u001b[0m \u001b[38;5;28minput\u001b[39m \u001b[38;5;241m=\u001b[39m \u001b[38;5;28;43mopen\u001b[39;49m\u001b[43m(\u001b[49m\u001b[43msys\u001b[49m\u001b[38;5;241;43m.\u001b[39;49m\u001b[43margv\u001b[49m\u001b[43m[\u001b[49m\u001b[38;5;241;43m1\u001b[39;49m\u001b[43m]\u001b[49m\u001b[43m,\u001b[49m\u001b[38;5;124;43m\"\u001b[39;49m\u001b[38;5;124;43mr\u001b[39;49m\u001b[38;5;124;43m\"\u001b[39;49m\u001b[43m)\u001b[49m\n\u001b[0;32m      3\u001b[0m rawText \u001b[38;5;241m=\u001b[39m \u001b[38;5;28minput\u001b[39m\u001b[38;5;241m.\u001b[39mread()\n\u001b[0;32m      4\u001b[0m lines \u001b[38;5;241m=\u001b[39m rawText\u001b[38;5;241m.\u001b[39msplit(\u001b[38;5;124m\"\u001b[39m\u001b[38;5;130;01m\\n\u001b[39;00m\u001b[38;5;124m\"\u001b[39m)\n",
      "\u001b[1;31mFileNotFoundError\u001b[0m: [Errno 2] No such file or directory: '-f'"
     ]
    }
   ],
   "source": [
    "import sys\n",
    "input = open(sys.argv[1],\"r\")\n",
    "rawText = input.read()\n",
    "lines = rawText.split(\"\\n\")\n",
    "listOfLists = [k.split(\"\\t\") for k in lines]\n",
    "dict_use = listOfLists\n",
    "listOfLists = [[i[1],i[-2]] for i in listOfLists if i[0]!='']\n",
    "listOfLists = listOfLists[1:]\n",
    "\n",
    "mydict = {}\n",
    "for i,j in listOfLists:\n",
    "    j = int(j) if j!='\\\\N' else 0\n",
    "    if i not in mydict:\n",
    "        mydict[i] = j\n",
    "    else:\n",
    "        mydict[i] = mydict[i] + j\n",
    "        \n",
    "listOfLists = [i[0] for i in listOfLists]\n",
    "\n",
    "for i in set(listOfLists):\n",
    "    mydict[i] = round(mydict[i]/listOfLists.count(i),2)\n",
    "    \n",
    "fp = open(sys.argv[2],'w')\n",
    "for k in mydict:\n",
    "    s = k + ': ' + str(mydict[k]) + ' mins' + '\\n'\n",
    "    fp.write(s)\n",
    "fp.close()"
   ]
  },
  {
   "cell_type": "code",
   "execution_count": 2,
   "id": "8e5b0545",
   "metadata": {},
   "outputs": [],
   "source": [
    "def makeTimingDict(file):\n",
    "    mydict = {i[0]: {'primaryTitle':i[2] ,'titleType': i[1],'runtimeMinutes':i[-2],'startYear':i[5]} for i in dict_use[0:-1]}\n",
    "    return "
   ]
  },
  {
   "cell_type": "code",
   "execution_count": 3,
   "id": "7b1869bf",
   "metadata": {},
   "outputs": [
    {
     "ename": "FileNotFoundError",
     "evalue": "[Errno 2] No such file or directory: '-f'",
     "output_type": "error",
     "traceback": [
      "\u001b[1;31m---------------------------------------------------------------------------\u001b[0m",
      "\u001b[1;31mFileNotFoundError\u001b[0m                         Traceback (most recent call last)",
      "Input \u001b[1;32mIn [3]\u001b[0m, in \u001b[0;36m<cell line: 1>\u001b[1;34m()\u001b[0m\n\u001b[1;32m----> 1\u001b[0m \u001b[38;5;28;01mimport\u001b[39;00m \u001b[38;5;21;01mtiming\u001b[39;00m\n",
      "File \u001b[1;32m~\\OneDrive\\Documents\\Python Scripts\\Code_2022\\CMTOR\\timing.py:2\u001b[0m, in \u001b[0;36m<module>\u001b[1;34m\u001b[0m\n\u001b[0;32m      1\u001b[0m \u001b[38;5;28;01mimport\u001b[39;00m \u001b[38;5;21;01msys\u001b[39;00m\n\u001b[1;32m----> 2\u001b[0m \u001b[38;5;28minput\u001b[39m \u001b[38;5;241m=\u001b[39m \u001b[38;5;28;43mopen\u001b[39;49m\u001b[43m(\u001b[49m\u001b[43msys\u001b[49m\u001b[38;5;241;43m.\u001b[39;49m\u001b[43margv\u001b[49m\u001b[43m[\u001b[49m\u001b[38;5;241;43m1\u001b[39;49m\u001b[43m]\u001b[49m\u001b[43m,\u001b[49m\u001b[38;5;124;43m\"\u001b[39;49m\u001b[38;5;124;43mr\u001b[39;49m\u001b[38;5;124;43m\"\u001b[39;49m\u001b[43m)\u001b[49m\n\u001b[0;32m      3\u001b[0m rawText \u001b[38;5;241m=\u001b[39m \u001b[38;5;28minput\u001b[39m\u001b[38;5;241m.\u001b[39mread()\n\u001b[0;32m      4\u001b[0m lines \u001b[38;5;241m=\u001b[39m rawText\u001b[38;5;241m.\u001b[39msplit(\u001b[38;5;124m\"\u001b[39m\u001b[38;5;130;01m\\n\u001b[39;00m\u001b[38;5;124m\"\u001b[39m)\n",
      "\u001b[1;31mFileNotFoundError\u001b[0m: [Errno 2] No such file or directory: '-f'"
     ]
    }
   ],
   "source": [
    "import timing"
   ]
  },
  {
   "cell_type": "code",
   "execution_count": 11,
   "id": "7a51bb34",
   "metadata": {},
   "outputs": [
    {
     "ename": "FileNotFoundError",
     "evalue": "[Errno 2] No such file or directory: '-f'",
     "output_type": "error",
     "traceback": [
      "\u001b[1;31m---------------------------------------------------------------------------\u001b[0m",
      "\u001b[1;31mFileNotFoundError\u001b[0m                         Traceback (most recent call last)",
      "Input \u001b[1;32mIn [11]\u001b[0m, in \u001b[0;36m<cell line: 36>\u001b[1;34m()\u001b[0m\n\u001b[0;32m     34\u001b[0m     \u001b[38;5;28;01mreturn\u001b[39;00m ret_dict\n\u001b[0;32m     36\u001b[0m \u001b[38;5;28;01mif\u001b[39;00m \u001b[38;5;18m__name__\u001b[39m \u001b[38;5;241m==\u001b[39m \u001b[38;5;124m\"\u001b[39m\u001b[38;5;124m__main__\u001b[39m\u001b[38;5;124m\"\u001b[39m:\n\u001b[1;32m---> 37\u001b[0m     \u001b[43mmain\u001b[49m\u001b[43m(\u001b[49m\u001b[43m)\u001b[49m\n",
      "Input \u001b[1;32mIn [11]\u001b[0m, in \u001b[0;36mmain\u001b[1;34m()\u001b[0m\n\u001b[0;32m      3\u001b[0m \u001b[38;5;28;01mdef\u001b[39;00m \u001b[38;5;21mmain\u001b[39m():\n\u001b[1;32m----> 4\u001b[0m     \u001b[38;5;28minput\u001b[39m \u001b[38;5;241m=\u001b[39m \u001b[38;5;28;43mopen\u001b[39;49m\u001b[43m(\u001b[49m\u001b[43msys\u001b[49m\u001b[38;5;241;43m.\u001b[39;49m\u001b[43margv\u001b[49m\u001b[43m[\u001b[49m\u001b[38;5;241;43m1\u001b[39;49m\u001b[43m]\u001b[49m\u001b[43m,\u001b[49m\u001b[38;5;124;43m\"\u001b[39;49m\u001b[38;5;124;43mr\u001b[39;49m\u001b[38;5;124;43m\"\u001b[39;49m\u001b[43m)\u001b[49m\n\u001b[0;32m      5\u001b[0m     rawText \u001b[38;5;241m=\u001b[39m \u001b[38;5;28minput\u001b[39m\u001b[38;5;241m.\u001b[39mread()\n\u001b[0;32m      6\u001b[0m     lines \u001b[38;5;241m=\u001b[39m rawText\u001b[38;5;241m.\u001b[39msplit(\u001b[38;5;124m\"\u001b[39m\u001b[38;5;130;01m\\n\u001b[39;00m\u001b[38;5;124m\"\u001b[39m)\n",
      "\u001b[1;31mFileNotFoundError\u001b[0m: [Errno 2] No such file or directory: '-f'"
     ]
    }
   ],
   "source": [
    "import sys\n",
    "\n",
    "def main():\n",
    "    input = open(sys.argv[1],\"r\")\n",
    "    rawText = input.read()\n",
    "    lines = rawText.split(\"\\n\")\n",
    "    listOfLists = [k.split(\"\\t\") for k in lines]\n",
    "    dict_use = listOfLists\n",
    "\n",
    "    listOfLists = [[i[1],i[-2]] for i in listOfLists if i[0]!='']\n",
    "    listOfLists = listOfLists[1:]\n",
    "\n",
    "    mydict = {}\n",
    "    for i,j in listOfLists:\n",
    "        j = int(j) if j!='\\\\N' else 0\n",
    "        if i not in mydict:\n",
    "            mydict[i] = j\n",
    "        else:\n",
    "            mydict[i] = mydict[i] + j\n",
    "\n",
    "    listOfLists = [i[0] for i in listOfLists]\n",
    "\n",
    "    for i in set(listOfLists):\n",
    "        mydict[i] = round(mydict[i]/listOfLists.count(i),2)\n",
    "\n",
    "    fp = open(sys.argv[2],'w')\n",
    "    for k in mydict:\n",
    "        s = k + ': ' + str(mydict[k]) + ' mins' + '\\n'\n",
    "        fp.write(s)\n",
    "    fp.close()\n",
    "\n",
    "def makeTimingDict(file):\n",
    "    ret_dict = {int(i[0][2:]): {'primaryTitle':i[2] ,'titleType': i[1],'runtimeMinutes':i[-2],'startYear':i[5]} for i in listOfLists[1:-1]}\n",
    "    return ret_dict\n",
    "\n",
    "if __name__ == \"__main__\":\n",
    "    main()"
   ]
  },
  {
   "cell_type": "code",
   "execution_count": null,
   "id": "1cf73024",
   "metadata": {},
   "outputs": [],
   "source": []
  }
 ],
 "metadata": {
  "kernelspec": {
   "display_name": "Python 3 (ipykernel)",
   "language": "python",
   "name": "python3"
  },
  "language_info": {
   "codemirror_mode": {
    "name": "ipython",
    "version": 3
   },
   "file_extension": ".py",
   "mimetype": "text/x-python",
   "name": "python",
   "nbconvert_exporter": "python",
   "pygments_lexer": "ipython3",
   "version": "3.8.5"
  }
 },
 "nbformat": 4,
 "nbformat_minor": 5
}
