{
 "cells": [
  {
   "cell_type": "code",
   "execution_count": 1,
   "id": "25045761",
   "metadata": {},
   "outputs": [],
   "source": [
    "#INSERT YOUR ANSWER HERE.\n",
    "# Define Shape class\n",
    "# You can simply return the output through method, This is Shape Class\n",
    "# Define Triangle class\n",
    "# Call the parents class method and return this is Trianlge Class\n",
    "# Define Square class\n",
    "# Call the parents class method and return This is Square Class\n",
    "# Run the following lines of code \n",
    "# from random import choice\n",
    "# list_of_shapes = [choice(['Triangle', 'Square']) for x in range(10)]\n",
    "# for shape in list_of_shapes:\n",
    "#   if shape == 'Triangle':\n",
    "#     # create an object of Triangle\n",
    "#   else:\n",
    "    # create an object of Square class\n",
    "# Print the list_of_shapes\n",
    "# Print number of shape objects\n",
    "# Print number of Triangle objects\n",
    "# Print number of Square objects"
   ]
  },
  {
   "cell_type": "code",
   "execution_count": 8,
   "id": "23d24a7e",
   "metadata": {},
   "outputs": [
    {
     "name": "stdout",
     "output_type": "stream",
     "text": [
      "['Triangle', 'Triangle', 'Triangle', 'Square', 'Triangle', 'Square', 'Square', 'Triangle', 'Square', 'Triangle']\n",
      "Number of Shape object 10\n",
      "Number of Triangle object 6\n",
      "Number of Square object 4\n"
     ]
    }
   ],
   "source": [
    "class Shape:\n",
    "    \n",
    "    def __init__(self):\n",
    "        pass\n",
    "    \n",
    "    # method to return This is Shape class\n",
    "    def f(self):\n",
    "        return 'This is Shape class'\n",
    "    \n",
    "# inherit Shape class\n",
    "class Triangle(Shape):\n",
    "    def __init__(self):\n",
    "        Shape.__init__(self)\n",
    "    # method to return This is Triangle class\n",
    "    def f(self):\n",
    "        return 'This is Triangle class'\n",
    "    \n",
    "# inherit Shape class\n",
    "class Square(Shape):\n",
    "    def __init__(self):\n",
    "        Shape.__init__(self)\n",
    "    # method to return This is Square class\n",
    "    def f(self):\n",
    "        return 'This is Square class'\n",
    "\n",
    "from random import choice\n",
    "list_of_shapes = [choice(['Triangle', 'Square']) for x in range(10)]\n",
    "for shape in list_of_shapes:\n",
    "    if shape == 'Triangle':\n",
    "        obj = Triangle()\n",
    "    else:\n",
    "        obj = Square()\n",
    "        \n",
    "# print the output\n",
    "class count:\n",
    "    \n",
    "    def __init__(self,list_of_shapes):\n",
    "        self.list_of_shapes = list_of_shapes\n",
    "    def result(self):    \n",
    "        print(self.list_of_shapes)\n",
    "        print('Number of Shape object',len(self.list_of_shapes))\n",
    "        print('Number of Triangle object',self.list_of_shapes.count('Triangle'))\n",
    "        print('Number of Square object',self.list_of_shapes.count('Square'))\n",
    "        \n",
    "obj = count(list_of_shapes)\n",
    "obj.result()"
   ]
  },
  {
   "cell_type": "code",
   "execution_count": null,
   "id": "dc6ad7b4",
   "metadata": {},
   "outputs": [],
   "source": []
  }
 ],
 "metadata": {
  "kernelspec": {
   "display_name": "Python 3 (ipykernel)",
   "language": "python",
   "name": "python3"
  },
  "language_info": {
   "codemirror_mode": {
    "name": "ipython",
    "version": 3
   },
   "file_extension": ".py",
   "mimetype": "text/x-python",
   "name": "python",
   "nbconvert_exporter": "python",
   "pygments_lexer": "ipython3",
   "version": "3.8.5"
  }
 },
 "nbformat": 4,
 "nbformat_minor": 5
}
