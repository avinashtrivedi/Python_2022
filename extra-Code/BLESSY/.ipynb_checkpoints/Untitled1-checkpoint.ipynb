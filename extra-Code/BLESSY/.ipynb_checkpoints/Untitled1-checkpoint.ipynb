{
 "cells": [
  {
   "cell_type": "code",
   "execution_count": 1,
   "id": "5330df6f",
   "metadata": {},
   "outputs": [
    {
     "name": "stderr",
     "output_type": "stream",
     "text": [
      "[nltk_data] Downloading package stopwords to\n",
      "[nltk_data]     C:\\Users\\avitr\\AppData\\Roaming\\nltk_data...\n",
      "[nltk_data]   Package stopwords is already up-to-date!\n"
     ]
    }
   ],
   "source": [
    "import pandas as pd\n",
    "from sklearn.feature_extraction.text import TfidfVectorizer\n",
    "from sklearn.naive_bayes import MultinomialNB\n",
    "from sklearn import svm\n",
    "import string\n",
    "from sklearn.metrics import roc_auc_score\n",
    "from sklearn.metrics import precision_recall_fscore_support\n",
    "from sklearn.metrics import roc_curve, auc,precision_recall_curve\n",
    "from sklearn.metrics import classification_report\n",
    "from matplotlib import pyplot as plt\n",
    "from sklearn.pipeline import Pipeline\n",
    "import nltk\n",
    "nltk.download('stopwords')\n",
    "from nltk.corpus import stopwords\n",
    "from sklearn.model_selection import GridSearchCV\n",
    "\n",
    "train = pd.read_csv(\"train5.csv\")\n",
    "test = pd.read_csv(\"test5.csv\")"
   ]
  },
  {
   "cell_type": "code",
   "execution_count": 2,
   "id": "635c010c",
   "metadata": {},
   "outputs": [],
   "source": [
    "# Define the function for Task 1\n",
    "\n",
    "def create_model(train_docs, train_y, test_docs, test_y, \\\n",
    "              model_type='svm', stop_words=None, min_df = 1, print_result = True, algorithm_para=1.0):\n",
    "    \n",
    "    \n",
    "    f = lambda x: ''.join([i for i in x if i not in string.punctuation]).lower()\n",
    "\n",
    "    train_docs = train_docs.apply(f)\n",
    "    test_docs = test_docs.apply(f)\n",
    "\n",
    "    vectorizer = TfidfVectorizer(stop_words=stop_words,min_df=min_df)\n",
    "\n",
    "    vectorizer.fit(train_docs)\n",
    "    train_docs = vectorizer.transform(train_docs)\n",
    "    train_docs = train_docs.toarray()\n",
    "\n",
    "    # model building\n",
    "\n",
    "    if model_type=='svm':\n",
    "        clf = svm.SVC(kernel='linear', probability=False,C=algorithm_para)\n",
    "    else:\n",
    "        clf = MultinomialNB(alpha=algorithm_para)\n",
    "\n",
    "    clf.fit(train_docs, train_y)\n",
    "    test_docs = vectorizer.transform(test_docs)\n",
    "    test_docs = test_docs.toarray()\n",
    "    y_pred = clf.predict(test_docs)\n",
    "    \n",
    "    if print_result:\n",
    "        print(classification_report(test_y,y_pred))\n",
    "        \n",
    "    fpr = dict()\n",
    "    tpr = dict()\n",
    "    roc_auc = dict()\n",
    "    \n",
    "    if model_type=='svm':\n",
    "        y_score = clf.decision_function(test_docs)\n",
    "    else:\n",
    "        y_score = clf.predict_proba(test_docs)\n",
    "        \n",
    "    if model_type=='svm':\n",
    "        for i in range(2):\n",
    "            fpr[i], tpr[i], _ = roc_curve(test_y, y_score)\n",
    "            roc_auc[i] = auc(fpr[i], tpr[i])\n",
    "        lr_precision, lr_recall, _ = precision_recall_curve(test_y, y_score)\n",
    "    else:\n",
    "        for i in range(2):\n",
    "            fpr[i], tpr[i], _ = roc_curve(test_y, y_score[:,1])\n",
    "            roc_auc[i] = auc(fpr[i], tpr[i])\n",
    "        lr_precision, lr_recall, _ = precision_recall_curve(test_y, y_score[:,1])\n",
    "\n",
    "    \n",
    "\n",
    "    auc_score = roc_auc[1]\n",
    "    prc_score = lr_precision.mean()\n",
    "            \n",
    "    print('AUC: {:.2f}% PRC: {:.2f}%'.format(auc_score*100,prc_score*100))\n",
    "    \n",
    "    plt.figure()\n",
    "    lw = 2\n",
    "    plt.plot(\n",
    "        fpr[1],\n",
    "        tpr[1],\n",
    "        color=\"darkorange\",\n",
    "        lw=lw,\n",
    "        label=\"ROC curve (area = %0.2f)\" % roc_auc[1],\n",
    "    )\n",
    "    plt.plot([0, 1], [0, 1], color=\"navy\", lw=lw, linestyle=\"--\")\n",
    "    plt.xlabel('False Positive Rate')\n",
    "    plt.ylabel('True Positive Rate')\n",
    "    plt.title(f'{model_type} AUC')\n",
    "    plt.show()\n",
    "    \n",
    "    plt.plot(lr_recall, lr_precision, marker='.', label='Logistic')\n",
    "    plt.xlabel('Recall')\n",
    "    plt.ylabel('Precision')\n",
    "    plt.title(f'{model_type} PRC')\n",
    "    plt.show()\n",
    "    \n",
    "    return auc_score, prc_score\n"
   ]
  },
  {
   "cell_type": "code",
   "execution_count": null,
   "id": "fe84c8fd",
   "metadata": {},
   "outputs": [
    {
     "name": "stdout",
     "output_type": "stream",
     "text": [
      "Fitting 2 folds for each of 1 candidates, totalling 2 fits\n"
     ]
    }
   ],
   "source": [
    "pipeline = Pipeline(\n",
    "[\n",
    "    (\"tfidf\", TfidfVectorizer()),\n",
    "    (\"clf\", svm.SVC),\n",
    "]\n",
    ")\n",
    "param_grid = { \n",
    "'tfidf__stop_words': ['english'],# None\n",
    "'tfidf__min_df': [1],#,2,5],\n",
    "'clf__C': [0.2]#,0.5,0.8]\n",
    "}\n",
    "\n",
    "grid_search = GridSearchCV(pipeline,param_grid,cv= 2, n_jobs=-1, verbose=3)\n",
    "grid_search.fit(train[\"text\"][:10], train[\"label\"][:10])\n",
    "best_parameters = grid_search.best_estimator_()\n",
    "print(best_parameters)"
   ]
  },
  {
   "cell_type": "code",
   "execution_count": 5,
   "id": "d7fa7d92",
   "metadata": {},
   "outputs": [],
   "source": [
    "a = {2}"
   ]
  },
  {
   "cell_type": "code",
   "execution_count": 6,
   "id": "dd4aaedb",
   "metadata": {},
   "outputs": [
    {
     "data": {
      "text/plain": [
       "{2}"
      ]
     },
     "execution_count": 6,
     "metadata": {},
     "output_type": "execute_result"
    }
   ],
   "source": [
    "a"
   ]
  },
  {
   "cell_type": "code",
   "execution_count": 7,
   "id": "6141001d",
   "metadata": {},
   "outputs": [
    {
     "ename": "TypeError",
     "evalue": "'set' object is not subscriptable",
     "output_type": "error",
     "traceback": [
      "\u001b[1;31m---------------------------------------------------------------------------\u001b[0m",
      "\u001b[1;31mTypeError\u001b[0m                                 Traceback (most recent call last)",
      "Input \u001b[1;32mIn [7]\u001b[0m, in \u001b[0;36m<cell line: 1>\u001b[1;34m()\u001b[0m\n\u001b[1;32m----> 1\u001b[0m \u001b[43ma\u001b[49m\u001b[43m[\u001b[49m\u001b[38;5;241;43m0\u001b[39;49m\u001b[43m]\u001b[49m\n",
      "\u001b[1;31mTypeError\u001b[0m: 'set' object is not subscriptable"
     ]
    }
   ],
   "source": [
    "a[0]"
   ]
  },
  {
   "cell_type": "code",
   "execution_count": 8,
   "id": "82e1377c",
   "metadata": {},
   "outputs": [],
   "source": [
    "mylist = [(2,3,1),(1,2,4),(3,4,3),(4,1,2)]"
   ]
  },
  {
   "cell_type": "code",
   "execution_count": 9,
   "id": "b7d9298b",
   "metadata": {},
   "outputs": [
    {
     "data": {
      "text/plain": [
       "[(2, 3, 1), (1, 2, 4), (3, 4, 3), (4, 1, 2)]"
      ]
     },
     "execution_count": 9,
     "metadata": {},
     "output_type": "execute_result"
    }
   ],
   "source": [
    "mylist"
   ]
  },
  {
   "cell_type": "code",
   "execution_count": null,
   "id": "5f692c0b",
   "metadata": {},
   "outputs": [],
   "source": []
  }
 ],
 "metadata": {
  "kernelspec": {
   "display_name": "Python 3 (ipykernel)",
   "language": "python",
   "name": "python3"
  },
  "language_info": {
   "codemirror_mode": {
    "name": "ipython",
    "version": 3
   },
   "file_extension": ".py",
   "mimetype": "text/x-python",
   "name": "python",
   "nbconvert_exporter": "python",
   "pygments_lexer": "ipython3",
   "version": "3.8.5"
  }
 },
 "nbformat": 4,
 "nbformat_minor": 5
}
