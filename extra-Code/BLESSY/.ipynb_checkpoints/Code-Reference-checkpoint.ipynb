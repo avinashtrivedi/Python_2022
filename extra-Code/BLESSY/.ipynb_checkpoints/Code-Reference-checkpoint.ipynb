{
 "cells": [
  {
   "cell_type": "code",
   "execution_count": 1,
   "id": "894d7be4",
   "metadata": {},
   "outputs": [],
   "source": [
    "import pandas as pd\n",
    "import numpy as np\n",
    "import nltk\n",
    "import string\n",
    "import spacy\n",
    "import re\n",
    "from nltk.corpus import stopwords\n",
    "from nltk.tokenize import word_tokenize\n",
    "from nltk.stem import SnowballStemmer\n",
    "from nltk.stem import WordNetLemmatizer\n",
    "import time\n",
    "from IPython.core.interactiveshell import InteractiveShell\n",
    "InteractiveShell.ast_node_interactivity = \"all\"\n",
    "from matplotlib import pyplot as plt"
   ]
  },
  {
   "cell_type": "code",
   "execution_count": null,
   "id": "b649428d",
   "metadata": {},
   "outputs": [],
   "source": []
  },
  {
   "cell_type": "code",
   "execution_count": 2,
   "id": "ccf4e6f2",
   "metadata": {},
   "outputs": [],
   "source": [
    "#Completed by: Zongpu Liu"
   ]
  },
  {
   "cell_type": "code",
   "execution_count": 3,
   "id": "9cc89c23",
   "metadata": {},
   "outputs": [
    {
     "data": {
      "text/html": [
       "<div>\n",
       "<style scoped>\n",
       "    .dataframe tbody tr th:only-of-type {\n",
       "        vertical-align: middle;\n",
       "    }\n",
       "\n",
       "    .dataframe tbody tr th {\n",
       "        vertical-align: top;\n",
       "    }\n",
       "\n",
       "    .dataframe thead th {\n",
       "        text-align: right;\n",
       "    }\n",
       "</style>\n",
       "<table border=\"1\" class=\"dataframe\">\n",
       "  <thead>\n",
       "    <tr style=\"text-align: right;\">\n",
       "      <th></th>\n",
       "      <th>Pro_name</th>\n",
       "      <th>Pro_color</th>\n",
       "      <th>Cus_name</th>\n",
       "      <th>Rating</th>\n",
       "      <th>Title</th>\n",
       "      <th>Date</th>\n",
       "      <th>Review</th>\n",
       "    </tr>\n",
       "  </thead>\n",
       "  <tbody>\n",
       "    <tr>\n",
       "      <th>0</th>\n",
       "      <td>iphone 11</td>\n",
       "      <td>Black</td>\n",
       "      <td>brenda</td>\n",
       "      <td>1</td>\n",
       "      <td>Not FULLY Unlocked</td>\n",
       "      <td>Reviewed in the United States on February 13, ...</td>\n",
       "      <td>Purchased this product advertised as fully unl...</td>\n",
       "    </tr>\n",
       "    <tr>\n",
       "      <th>1</th>\n",
       "      <td>iphone 11</td>\n",
       "      <td>Black</td>\n",
       "      <td>Katherine</td>\n",
       "      <td>4</td>\n",
       "      <td>NOT EXPECTED, GREAT PURCHASE!</td>\n",
       "      <td>Reviewed in the United States on August 18, 2020</td>\n",
       "      <td>I was feeling a bit skeptical after I placed m...</td>\n",
       "    </tr>\n",
       "    <tr>\n",
       "      <th>2</th>\n",
       "      <td>iphone 11</td>\n",
       "      <td>Black</td>\n",
       "      <td>Katherine</td>\n",
       "      <td>1</td>\n",
       "      <td>Phone was NOT unlocked</td>\n",
       "      <td>Reviewed in the United States on November 27, ...</td>\n",
       "      <td>Phone was not unlocked could it use it</td>\n",
       "    </tr>\n",
       "    <tr>\n",
       "      <th>3</th>\n",
       "      <td>iphone 11</td>\n",
       "      <td>Black</td>\n",
       "      <td>brenda</td>\n",
       "      <td>1</td>\n",
       "      <td>Terribly Flawed. Dona??t waste your time.</td>\n",
       "      <td>Reviewed in the United States on October 16, 2020</td>\n",
       "      <td>The screen came cracked and popped out of the ...</td>\n",
       "    </tr>\n",
       "    <tr>\n",
       "      <th>4</th>\n",
       "      <td>iphone 11</td>\n",
       "      <td>Black</td>\n",
       "      <td>James Roth</td>\n",
       "      <td>3</td>\n",
       "      <td>Be careful used phones</td>\n",
       "      <td>Reviewed in the United States on January 29, 2020</td>\n",
       "      <td>Be careful mine had a scratch on screen very s...</td>\n",
       "    </tr>\n",
       "  </tbody>\n",
       "</table>\n",
       "</div>"
      ],
      "text/plain": [
       "    Pro_name Pro_color    Cus_name Rating  \\\n",
       "0  iphone 11     Black      brenda      1   \n",
       "1  iphone 11     Black   Katherine      4   \n",
       "2  iphone 11     Black   Katherine      1   \n",
       "3  iphone 11     Black      brenda      1   \n",
       "4  iphone 11     Black  James Roth      3   \n",
       "\n",
       "                                       Title  \\\n",
       "0                         Not FULLY Unlocked   \n",
       "1              NOT EXPECTED, GREAT PURCHASE!   \n",
       "2                     Phone was NOT unlocked   \n",
       "3  Terribly Flawed. Dona??t waste your time.   \n",
       "4                     Be careful used phones   \n",
       "\n",
       "                                                Date  \\\n",
       "0  Reviewed in the United States on February 13, ...   \n",
       "1   Reviewed in the United States on August 18, 2020   \n",
       "2  Reviewed in the United States on November 27, ...   \n",
       "3  Reviewed in the United States on October 16, 2020   \n",
       "4  Reviewed in the United States on January 29, 2020   \n",
       "\n",
       "                                              Review  \n",
       "0  Purchased this product advertised as fully unl...  \n",
       "1  I was feeling a bit skeptical after I placed m...  \n",
       "2             Phone was not unlocked could it use it  \n",
       "3  The screen came cracked and popped out of the ...  \n",
       "4  Be careful mine had a scratch on screen very s...  "
      ]
     },
     "execution_count": 3,
     "metadata": {},
     "output_type": "execute_result"
    }
   ],
   "source": [
    "# Input data\n",
    "data = pd.read_csv(\"Original data.csv\",encoding='ANSI')\n",
    "data.head()"
   ]
  },
  {
   "cell_type": "code",
   "execution_count": null,
   "id": "563ab119",
   "metadata": {},
   "outputs": [],
   "source": []
  },
  {
   "cell_type": "code",
   "execution_count": 4,
   "id": "ee17658b",
   "metadata": {},
   "outputs": [
    {
     "data": {
      "text/html": [
       "<div>\n",
       "<style scoped>\n",
       "    .dataframe tbody tr th:only-of-type {\n",
       "        vertical-align: middle;\n",
       "    }\n",
       "\n",
       "    .dataframe tbody tr th {\n",
       "        vertical-align: top;\n",
       "    }\n",
       "\n",
       "    .dataframe thead th {\n",
       "        text-align: right;\n",
       "    }\n",
       "</style>\n",
       "<table border=\"1\" class=\"dataframe\">\n",
       "  <thead>\n",
       "    <tr style=\"text-align: right;\">\n",
       "      <th></th>\n",
       "      <th>Pro_name</th>\n",
       "      <th>Pro_color</th>\n",
       "      <th>Cus_name</th>\n",
       "      <th>Rating</th>\n",
       "      <th>Title</th>\n",
       "      <th>Date</th>\n",
       "      <th>Review</th>\n",
       "    </tr>\n",
       "  </thead>\n",
       "  <tbody>\n",
       "    <tr>\n",
       "      <th>count</th>\n",
       "      <td>10617</td>\n",
       "      <td>10617</td>\n",
       "      <td>10548</td>\n",
       "      <td>10595</td>\n",
       "      <td>10604</td>\n",
       "      <td>10600</td>\n",
       "      <td>10571</td>\n",
       "    </tr>\n",
       "    <tr>\n",
       "      <th>unique</th>\n",
       "      <td>5</td>\n",
       "      <td>4</td>\n",
       "      <td>7174</td>\n",
       "      <td>8</td>\n",
       "      <td>5693</td>\n",
       "      <td>2066</td>\n",
       "      <td>7755</td>\n",
       "    </tr>\n",
       "    <tr>\n",
       "      <th>top</th>\n",
       "      <td>iphone XR</td>\n",
       "      <td>Black</td>\n",
       "      <td>Amazon Customer</td>\n",
       "      <td>5</td>\n",
       "      <td>Good</td>\n",
       "      <td>3-Nov-19</td>\n",
       "      <td>Good</td>\n",
       "    </tr>\n",
       "    <tr>\n",
       "      <th>freq</th>\n",
       "      <td>5010</td>\n",
       "      <td>7030</td>\n",
       "      <td>800</td>\n",
       "      <td>7282</td>\n",
       "      <td>247</td>\n",
       "      <td>107</td>\n",
       "      <td>170</td>\n",
       "    </tr>\n",
       "  </tbody>\n",
       "</table>\n",
       "</div>"
      ],
      "text/plain": [
       "         Pro_name Pro_color         Cus_name Rating  Title      Date Review\n",
       "count       10617     10617            10548  10595  10604     10600  10571\n",
       "unique          5         4             7174      8   5693      2066   7755\n",
       "top     iphone XR     Black  Amazon Customer      5   Good  3-Nov-19   Good\n",
       "freq         5010      7030              800   7282    247       107    170"
      ]
     },
     "execution_count": 4,
     "metadata": {},
     "output_type": "execute_result"
    }
   ],
   "source": [
    "# Describe the selected original data set\n",
    "data.describe()"
   ]
  },
  {
   "cell_type": "code",
   "execution_count": 5,
   "id": "62951cb2",
   "metadata": {},
   "outputs": [
    {
     "name": "stdout",
     "output_type": "stream",
     "text": [
      "<class 'pandas.core.frame.DataFrame'>\n",
      "RangeIndex: 10618 entries, 0 to 10617\n",
      "Data columns (total 7 columns):\n",
      " #   Column     Non-Null Count  Dtype \n",
      "---  ------     --------------  ----- \n",
      " 0   Pro_name   10617 non-null  object\n",
      " 1   Pro_color  10617 non-null  object\n",
      " 2   Cus_name   10548 non-null  object\n",
      " 3   Rating     10595 non-null  object\n",
      " 4   Title      10604 non-null  object\n",
      " 5   Date       10600 non-null  object\n",
      " 6   Review     10571 non-null  object\n",
      "dtypes: object(7)\n",
      "memory usage: 580.8+ KB\n"
     ]
    }
   ],
   "source": [
    "data.info()"
   ]
  },
  {
   "cell_type": "markdown",
   "id": "2069dc27",
   "metadata": {},
   "source": [
    "Clean data"
   ]
  },
  {
   "cell_type": "code",
   "execution_count": 6,
   "id": "4c7e8f3a",
   "metadata": {},
   "outputs": [
    {
     "data": {
      "text/plain": [
       "False    10560\n",
       "True        58\n",
       "dtype: int64"
      ]
     },
     "execution_count": 6,
     "metadata": {},
     "output_type": "execute_result"
    }
   ],
   "source": [
    "# check duplicated data\n",
    "data.duplicated(subset=['Cus_name','Title','Review']).value_counts()"
   ]
  },
  {
   "cell_type": "code",
   "execution_count": 7,
   "id": "2127d04f",
   "metadata": {},
   "outputs": [
    {
     "data": {
      "text/plain": [
       "(10560, 7)"
      ]
     },
     "execution_count": 7,
     "metadata": {},
     "output_type": "execute_result"
    }
   ],
   "source": [
    "# We have 58 duplicate customers with same 'Title' and 'Review'.\n",
    "# drop duplicated data\n",
    "sorted_data = data.sort_values(by=[\"Pro_name\"], axis=0, ascending=True, inplace=False, kind='mergesort', na_position='last')\n",
    "\n",
    "clean1_data = sorted_data.drop_duplicates(subset={'Cus_name','Title','Review'}, keep='first', inplace=False)\n",
    "clean1_data .shape"
   ]
  },
  {
   "cell_type": "code",
   "execution_count": 8,
   "id": "911487d1",
   "metadata": {},
   "outputs": [
    {
     "data": {
      "text/html": [
       "<div>\n",
       "<style scoped>\n",
       "    .dataframe tbody tr th:only-of-type {\n",
       "        vertical-align: middle;\n",
       "    }\n",
       "\n",
       "    .dataframe tbody tr th {\n",
       "        vertical-align: top;\n",
       "    }\n",
       "\n",
       "    .dataframe thead th {\n",
       "        text-align: right;\n",
       "    }\n",
       "</style>\n",
       "<table border=\"1\" class=\"dataframe\">\n",
       "  <thead>\n",
       "    <tr style=\"text-align: right;\">\n",
       "      <th></th>\n",
       "      <th>Cus_name</th>\n",
       "      <th>Rating</th>\n",
       "      <th>Title</th>\n",
       "      <th>Review</th>\n",
       "    </tr>\n",
       "  </thead>\n",
       "  <tbody>\n",
       "    <tr>\n",
       "      <th>4767</th>\n",
       "      <td>Liane</td>\n",
       "      <td>1</td>\n",
       "      <td>Not Unlocked</td>\n",
       "      <td>There is an outstanding balance due on this ph...</td>\n",
       "    </tr>\n",
       "    <tr>\n",
       "      <th>4768</th>\n",
       "      <td>Amazon Customer</td>\n",
       "      <td>1</td>\n",
       "      <td>SCAM</td>\n",
       "      <td>not iphone 11 pro max. got box that belongs to...</td>\n",
       "    </tr>\n",
       "    <tr>\n",
       "      <th>4769</th>\n",
       "      <td>Marat</td>\n",
       "      <td>1</td>\n",
       "      <td>Dona??t recommend it</td>\n",
       "      <td>Be carefully! It is not new. Check serial numb...</td>\n",
       "    </tr>\n",
       "    <tr>\n",
       "      <th>4770</th>\n",
       "      <td>willis</td>\n",
       "      <td>5</td>\n",
       "      <td>Great buy and great value</td>\n",
       "      <td>This is my review of the 512GB iPhone 11 Pro M...</td>\n",
       "    </tr>\n",
       "    <tr>\n",
       "      <th>4771</th>\n",
       "      <td>Riddhi</td>\n",
       "      <td>1</td>\n",
       "      <td>Not functioning as advertised! Do not buy!</td>\n",
       "      <td>The phone doesna??t not work. The phone turn...</td>\n",
       "    </tr>\n",
       "  </tbody>\n",
       "</table>\n",
       "</div>"
      ],
      "text/plain": [
       "             Cus_name Rating                                       Title  \\\n",
       "4767            Liane      1                                Not Unlocked   \n",
       "4768  Amazon Customer      1                                        SCAM   \n",
       "4769            Marat      1                        Dona??t recommend it   \n",
       "4770           willis      5                   Great buy and great value   \n",
       "4771           Riddhi      1  Not functioning as advertised! Do not buy!   \n",
       "\n",
       "                                                 Review  \n",
       "4767  There is an outstanding balance due on this ph...  \n",
       "4768  not iphone 11 pro max. got box that belongs to...  \n",
       "4769  Be carefully! It is not new. Check serial numb...  \n",
       "4770  This is my review of the 512GB iPhone 11 Pro M...  \n",
       "4771    The phone doesna??t not work. The phone turn...  "
      ]
     },
     "execution_count": 8,
     "metadata": {},
     "output_type": "execute_result"
    }
   ],
   "source": [
    "# Remove unnecessary columns\n",
    "data = clean1_data.drop(['Pro_name','Pro_color','Date'], axis = 1)\n",
    "\n",
    "# drop null value \n",
    "data1 = data.dropna(axis = 0 , how = 'any')\n",
    "data1.head()"
   ]
  },
  {
   "cell_type": "code",
   "execution_count": 9,
   "id": "54073a19",
   "metadata": {},
   "outputs": [
    {
     "data": {
      "text/plain": [
       "(10464, 4)"
      ]
     },
     "execution_count": 9,
     "metadata": {},
     "output_type": "execute_result"
    }
   ],
   "source": [
    "data1.shape"
   ]
  },
  {
   "cell_type": "code",
   "execution_count": 10,
   "id": "9684052e",
   "metadata": {},
   "outputs": [
    {
     "data": {
      "text/html": [
       "<div>\n",
       "<style scoped>\n",
       "    .dataframe tbody tr th:only-of-type {\n",
       "        vertical-align: middle;\n",
       "    }\n",
       "\n",
       "    .dataframe tbody tr th {\n",
       "        vertical-align: top;\n",
       "    }\n",
       "\n",
       "    .dataframe thead th {\n",
       "        text-align: right;\n",
       "    }\n",
       "</style>\n",
       "<table border=\"1\" class=\"dataframe\">\n",
       "  <thead>\n",
       "    <tr style=\"text-align: right;\">\n",
       "      <th></th>\n",
       "      <th>Cus_name</th>\n",
       "      <th>Rating</th>\n",
       "      <th>Title</th>\n",
       "      <th>Review</th>\n",
       "    </tr>\n",
       "  </thead>\n",
       "  <tbody>\n",
       "    <tr>\n",
       "      <th>4767</th>\n",
       "      <td>liane</td>\n",
       "      <td>1</td>\n",
       "      <td>not unlocked</td>\n",
       "      <td>there is an outstanding balance due on this ph...</td>\n",
       "    </tr>\n",
       "    <tr>\n",
       "      <th>4768</th>\n",
       "      <td>amazon customer</td>\n",
       "      <td>1</td>\n",
       "      <td>scam</td>\n",
       "      <td>not iphone 11 pro max. got box that belongs to...</td>\n",
       "    </tr>\n",
       "    <tr>\n",
       "      <th>4769</th>\n",
       "      <td>marat</td>\n",
       "      <td>1</td>\n",
       "      <td>dona??t recommend it</td>\n",
       "      <td>be carefully! it is not new. check serial numb...</td>\n",
       "    </tr>\n",
       "    <tr>\n",
       "      <th>4770</th>\n",
       "      <td>willis</td>\n",
       "      <td>5</td>\n",
       "      <td>great buy and great value</td>\n",
       "      <td>this is my review of the 512gb iphone 11 pro m...</td>\n",
       "    </tr>\n",
       "    <tr>\n",
       "      <th>4771</th>\n",
       "      <td>riddhi</td>\n",
       "      <td>1</td>\n",
       "      <td>not functioning as advertised! do not buy!</td>\n",
       "      <td>the phone doesna??t not work. the phone turn...</td>\n",
       "    </tr>\n",
       "  </tbody>\n",
       "</table>\n",
       "</div>"
      ],
      "text/plain": [
       "             Cus_name Rating                                       Title  \\\n",
       "4767            liane      1                                not unlocked   \n",
       "4768  amazon customer      1                                        scam   \n",
       "4769            marat      1                        dona??t recommend it   \n",
       "4770           willis      5                   great buy and great value   \n",
       "4771           riddhi      1  not functioning as advertised! do not buy!   \n",
       "\n",
       "                                                 Review  \n",
       "4767  there is an outstanding balance due on this ph...  \n",
       "4768  not iphone 11 pro max. got box that belongs to...  \n",
       "4769  be carefully! it is not new. check serial numb...  \n",
       "4770  this is my review of the 512gb iphone 11 pro m...  \n",
       "4771    the phone doesna??t not work. the phone turn...  "
      ]
     },
     "execution_count": 10,
     "metadata": {},
     "output_type": "execute_result"
    }
   ],
   "source": [
    "# Convert words to lower case\n",
    "data1 = data1.applymap(lambda s:s.lower() if type(s) == str else s)\n",
    "data1.head()"
   ]
  },
  {
   "cell_type": "code",
   "execution_count": 11,
   "id": "94e34823",
   "metadata": {},
   "outputs": [
    {
     "name": "stdout",
     "output_type": "stream",
     "text": [
      "['i', 'me', 'my', 'myself', 'we', 'our', 'ours', 'ourselves', 'you', \"you're\", \"you've\", \"you'll\", \"you'd\", 'your', 'yours', 'yourself', 'yourselves', 'he', 'him', 'his', 'himself', 'she', \"she's\", 'her', 'hers', 'herself', 'it', \"it's\", 'its', 'itself', 'they', 'them', 'their', 'theirs', 'themselves', 'what', 'which', 'who', 'whom', 'this', 'that', \"that'll\", 'these', 'those', 'am', 'is', 'are', 'was', 'were', 'be', 'been', 'being', 'have', 'has', 'had', 'having', 'do', 'does', 'did', 'doing', 'a', 'an', 'the', 'and', 'but', 'if', 'or', 'because', 'as', 'until', 'while', 'of', 'at', 'by', 'for', 'with', 'about', 'against', 'between', 'into', 'through', 'during', 'before', 'after', 'above', 'below', 'to', 'from', 'up', 'down', 'in', 'out', 'on', 'off', 'over', 'under', 'again', 'further', 'then', 'once', 'here', 'there', 'when', 'where', 'why', 'how', 'all', 'any', 'both', 'each', 'few', 'more', 'most', 'other', 'some', 'such', 'no', 'nor', 'not', 'only', 'own', 'same', 'so', 'than', 'too', 'very', 's', 't', 'can', 'will', 'just', 'don', \"don't\", 'should', \"should've\", 'now', 'd', 'll', 'm', 'o', 're', 've', 'y', 'ain', 'aren', \"aren't\", 'couldn', \"couldn't\", 'didn', \"didn't\", 'doesn', \"doesn't\", 'hadn', \"hadn't\", 'hasn', \"hasn't\", 'haven', \"haven't\", 'isn', \"isn't\", 'ma', 'mightn', \"mightn't\", 'mustn', \"mustn't\", 'needn', \"needn't\", 'shan', \"shan't\", 'shouldn', \"shouldn't\", 'wasn', \"wasn't\", 'weren', \"weren't\", 'won', \"won't\", 'wouldn', \"wouldn't\"]\n"
     ]
    }
   ],
   "source": [
    "# Prepare to remove stopwords.\n",
    "stopwords = nltk.corpus.stopwords.words('english')\n",
    "print(stopwords)"
   ]
  },
  {
   "cell_type": "code",
   "execution_count": 12,
   "id": "91c73e81",
   "metadata": {},
   "outputs": [],
   "source": [
    "# Because we need to keep some words that express emotions, we need to remove 'no','not' and 'nor' from stops \n",
    "stopwords = ['i', 'me', 'my', 'myself', 'we', 'our', 'ours', 'ourselves', 'you', \"you're\", \"you've\", \"you'll\", \\\n",
    "             \"you'd\", 'your', 'yours', 'yourself', 'yourselves', 'he', 'him', 'his', 'himself', 'she', \"she's\", \\\n",
    "             'her', 'hers', 'herself', 'it', \"it's\", 'its', 'itself', 'they', 'them', 'their', 'theirs', 'themselves',\\\n",
    "             'what', 'which', 'who', 'whom', 'this', 'that', \"that'll\", 'these', 'those', 'am', 'is', 'are', 'was', \\\n",
    "             'were', 'be', 'been', 'being', 'have', 'has', 'had', 'having', 'do', 'does', 'did', 'doing', 'a', 'an', 'the', \\\n",
    "             'and', 'but', 'if', 'or', 'because', 'as', 'until', 'while', 'of', 'at', 'by', 'for', 'with', 'about',\n",
    "             'against', 'between', 'into', 'through', 'during', 'before', 'after', 'above', 'below', 'to', 'from', \\\n",
    "             'up', 'down', 'in', 'out', 'on', 'off', 'over', 'under', 'again', 'further', 'then', 'once', 'here', \\\n",
    "             'there', 'when', 'where', 'why', 'how', 'all', 'any', 'both', 'each', 'few', 'more', 'most', 'other', \\\n",
    "             'some', 'such', 'only', 'own', 'same', 'so', 'than', 'too', 'very', 's', 't', 'can', 'will', 'just', \\\n",
    "             'don', \"don't\", 'should', \"should've\", 'now', 'd', 'll', 'm', 'o', 're', 've', 'y', 'ain', 'aren', \"aren't\", \\\n",
    "             'couldn', \"couldn't\", 'didn', \"didn't\", 'doesn', \"doesn't\", 'hadn', \"hadn't\", 'hasn', \"hasn't\", 'haven', \\\n",
    "             \"haven't\", 'isn', \"isn't\", 'ma', 'mightn', \"mightn't\", 'mustn', \"mustn't\", 'needn', \"needn't\", 'shan', \"shan't\",\n",
    "             'shouldn', \"shouldn't\", 'wasn', \"wasn't\", 'weren', \"weren't\", 'won', \"won't\", 'wouldn', \"wouldn't\" \\\n",
    "            ]"
   ]
  },
  {
   "cell_type": "code",
   "execution_count": 13,
   "id": "417a39de",
   "metadata": {},
   "outputs": [],
   "source": [
    "# A list of contractions from http://stackoverflow.com/questions/19790188/expanding-english-language-contractions-in-python\n",
    "contractions = { \n",
    "\"ain't\": \"am not\",\n",
    "\"aren't\": \"are not\",\n",
    "\"can't\": \"cannot\",\n",
    "\"can't've\": \"cannot have\",\n",
    "\"'cause\": \"because\",\n",
    "\"could've\": \"could have\",\n",
    "\"couldn't\": \"could not\",\n",
    "\"couldn't've\": \"could not have\",\n",
    "\"didn't\": \"did not\",\n",
    "\"doesn't\": \"does not\",\n",
    "\"don't\": \"do not\",\n",
    "\"hadn't\": \"had not\",\n",
    "\"hadn't've\": \"had not have\",\n",
    "\"hasn't\": \"has not\",\n",
    "\"haven't\": \"have not\",\n",
    "\"he'd\": \"he would\",\n",
    "\"he'd've\": \"he would have\",\n",
    "\"he'll\": \"he will\",\n",
    "\"he's\": \"he is\",\n",
    "\"how'd\": \"how did\",\n",
    "\"how'll\": \"how will\",\n",
    "\"how's\": \"how is\",\n",
    "\"i'd\": \"i would\",\n",
    "\"i'll\": \"i will\",\n",
    "\"i'm\": \"i am\",\n",
    "\"i've\": \"i have\",\n",
    "\"isn't\": \"is not\",\n",
    "\"it'd\": \"it would\",\n",
    "\"it'll\": \"it will\",\n",
    "\"it's\": \"it is\",\n",
    "\"let's\": \"let us\",\n",
    "\"ma'am\": \"madam\",\n",
    "\"mayn't\": \"may not\",\n",
    "\"might've\": \"might have\",\n",
    "\"mightn't\": \"might not\",\n",
    "\"must've\": \"must have\",\n",
    "\"mustn't\": \"must not\",\n",
    "\"needn't\": \"need not\",\n",
    "\"oughtn't\": \"ought not\",\n",
    "\"shan't\": \"shall not\",\n",
    "\"sha'n't\": \"shall not\",\n",
    "\"she'd\": \"she would\",\n",
    "\"she'll\": \"she will\",\n",
    "\"she's\": \"she is\",\n",
    "\"should've\": \"should have\",\n",
    "\"shouldn't\": \"should not\",\n",
    "\"that'd\": \"that would\",\n",
    "\"that's\": \"that is\",\n",
    "\"there'd\": \"there had\",\n",
    "\"there's\": \"there is\",\n",
    "\"they'd\": \"they would\",\n",
    "\"they'll\": \"they will\",\n",
    "\"they're\": \"they are\",\n",
    "\"they've\": \"they have\",\n",
    "\"wasn't\": \"was not\",\n",
    "\"we'd\": \"we would\",\n",
    "\"we'll\": \"we will\",\n",
    "\"we're\": \"we are\",\n",
    "\"we've\": \"we have\",\n",
    "\"weren't\": \"were not\",\n",
    "\"what'll\": \"what will\",\n",
    "\"what're\": \"what are\",\n",
    "\"what's\": \"what is\",\n",
    "\"what've\": \"what have\",\n",
    "\"where'd\": \"where did\",\n",
    "\"where's\": \"where is\",\n",
    "\"who'll\": \"who will\",\n",
    "\"who's\": \"who is\",\n",
    "\"won't\": \"will not\",\n",
    "\"wouldn't\": \"would not\",\n",
    "\"you'd\": \"you would\",\n",
    "\"you'll\": \"you will\",\n",
    "\"you're\": \"you are\"\n",
    "}"
   ]
  },
  {
   "cell_type": "code",
   "execution_count": 14,
   "id": "7c4183b2",
   "metadata": {},
   "outputs": [],
   "source": [
    "#  Define a function to remove unwanted characters, stopwords, and convert words to lower\n",
    "def clean_text(text, remove_stopwords = True):\n",
    "\n",
    "    # Replace contractions with their longer forms \n",
    "    if True:\n",
    "        text = text.split()\n",
    "        new_text = []\n",
    "        for word in text:\n",
    "            if word in contractions:\n",
    "                new_text.append(contractions[word])\n",
    "            else:\n",
    "                new_text.append(word)\n",
    "        text = \" \".join(new_text)\n",
    "    \n",
    "    # Format words and remove unwanted characters\n",
    "    text = re.sub(r'https?:\\/\\/.*[\\r\\n]*', '', text, flags=re.MULTILINE)\n",
    "    text = re.sub(r'\\<a href', ' ', text)\n",
    "    text = re.sub(r'&amp;', '', text) \n",
    "    text = re.sub(r'[_\"\\-;%()|+&=*%.,!?:#$@\\[\\]/]', ' ', text)\n",
    "    text = re.sub(r'/<br />', ' ', text)\n",
    "    text = re.sub(r'\\'', ' ', text)\n",
    "    \n",
    "    # Optionally, remove stopwords\n",
    "    if remove_stopwords:\n",
    "        text = text.split()        \n",
    "        text = [w for w in text if not w in stopwords]\n",
    "        text = \" \".join(text)\n",
    "\n",
    "    return text"
   ]
  },
  {
   "cell_type": "code",
   "execution_count": 15,
   "id": "f715393c",
   "metadata": {},
   "outputs": [
    {
     "name": "stdout",
     "output_type": "stream",
     "text": [
      "Summaries are complete.\n",
      "Texts are complete.\n"
     ]
    }
   ],
   "source": [
    "# Clean the summaries and texts\n",
    "# Clean the summaries and texts\n",
    "clean_Review = []\n",
    "for summary in data1.Review:\n",
    "    clean_Review.append(clean_text(summary, remove_stopwords=False))\n",
    "print(\"Summaries are complete.\")\n",
    "\n",
    "clean_Title = []\n",
    "for text in data1.Title:\n",
    "    clean_Title.append(clean_text(text))\n",
    "print(\"Texts are complete.\")"
   ]
  },
  {
   "cell_type": "code",
   "execution_count": 16,
   "id": "f29524ea",
   "metadata": {},
   "outputs": [
    {
     "data": {
      "text/html": [
       "<div>\n",
       "<style scoped>\n",
       "    .dataframe tbody tr th:only-of-type {\n",
       "        vertical-align: middle;\n",
       "    }\n",
       "\n",
       "    .dataframe tbody tr th {\n",
       "        vertical-align: top;\n",
       "    }\n",
       "\n",
       "    .dataframe thead th {\n",
       "        text-align: right;\n",
       "    }\n",
       "</style>\n",
       "<table border=\"1\" class=\"dataframe\">\n",
       "  <thead>\n",
       "    <tr style=\"text-align: right;\">\n",
       "      <th></th>\n",
       "      <th>Cus_name</th>\n",
       "      <th>Rating</th>\n",
       "      <th>Title</th>\n",
       "      <th>Review</th>\n",
       "      <th>clean_Review</th>\n",
       "      <th>clean_Title</th>\n",
       "    </tr>\n",
       "  </thead>\n",
       "  <tbody>\n",
       "    <tr>\n",
       "      <th>4767</th>\n",
       "      <td>liane</td>\n",
       "      <td>1</td>\n",
       "      <td>not unlocked</td>\n",
       "      <td>there is an outstanding balance due on this ph...</td>\n",
       "      <td>there is an outstanding balance due on this ph...</td>\n",
       "      <td>not unlocked</td>\n",
       "    </tr>\n",
       "    <tr>\n",
       "      <th>4768</th>\n",
       "      <td>amazon customer</td>\n",
       "      <td>1</td>\n",
       "      <td>scam</td>\n",
       "      <td>not iphone 11 pro max. got box that belongs to...</td>\n",
       "      <td>not iphone 11 pro max  got box that belongs to...</td>\n",
       "      <td>scam</td>\n",
       "    </tr>\n",
       "    <tr>\n",
       "      <th>4769</th>\n",
       "      <td>marat</td>\n",
       "      <td>1</td>\n",
       "      <td>dona??t recommend it</td>\n",
       "      <td>be carefully! it is not new. check serial numb...</td>\n",
       "      <td>be carefully  it is not new  check serial numb...</td>\n",
       "      <td>dona recommend</td>\n",
       "    </tr>\n",
       "    <tr>\n",
       "      <th>4770</th>\n",
       "      <td>willis</td>\n",
       "      <td>5</td>\n",
       "      <td>great buy and great value</td>\n",
       "      <td>this is my review of the 512gb iphone 11 pro m...</td>\n",
       "      <td>this is my review of the 512gb iphone 11 pro m...</td>\n",
       "      <td>great buy great value</td>\n",
       "    </tr>\n",
       "    <tr>\n",
       "      <th>4771</th>\n",
       "      <td>riddhi</td>\n",
       "      <td>1</td>\n",
       "      <td>not functioning as advertised! do not buy!</td>\n",
       "      <td>the phone doesna??t not work. the phone turn...</td>\n",
       "      <td>the phone doesna  t not work  the phone turned...</td>\n",
       "      <td>not functioning advertised not buy</td>\n",
       "    </tr>\n",
       "  </tbody>\n",
       "</table>\n",
       "</div>"
      ],
      "text/plain": [
       "             Cus_name Rating                                       Title  \\\n",
       "4767            liane      1                                not unlocked   \n",
       "4768  amazon customer      1                                        scam   \n",
       "4769            marat      1                        dona??t recommend it   \n",
       "4770           willis      5                   great buy and great value   \n",
       "4771           riddhi      1  not functioning as advertised! do not buy!   \n",
       "\n",
       "                                                 Review  \\\n",
       "4767  there is an outstanding balance due on this ph...   \n",
       "4768  not iphone 11 pro max. got box that belongs to...   \n",
       "4769  be carefully! it is not new. check serial numb...   \n",
       "4770  this is my review of the 512gb iphone 11 pro m...   \n",
       "4771    the phone doesna??t not work. the phone turn...   \n",
       "\n",
       "                                           clean_Review  \\\n",
       "4767  there is an outstanding balance due on this ph...   \n",
       "4768  not iphone 11 pro max  got box that belongs to...   \n",
       "4769  be carefully  it is not new  check serial numb...   \n",
       "4770  this is my review of the 512gb iphone 11 pro m...   \n",
       "4771  the phone doesna  t not work  the phone turned...   \n",
       "\n",
       "                             clean_Title  \n",
       "4767                        not unlocked  \n",
       "4768                                scam  \n",
       "4769                      dona recommend  \n",
       "4770               great buy great value  \n",
       "4771  not functioning advertised not buy  "
      ]
     },
     "execution_count": 16,
     "metadata": {},
     "output_type": "execute_result"
    }
   ],
   "source": [
    "data1['clean_Review'] = clean_Review\n",
    "data1['clean_Title'] = clean_Title\n",
    "data1.head()"
   ]
  },
  {
   "cell_type": "code",
   "execution_count": 17,
   "id": "f00f7f70",
   "metadata": {},
   "outputs": [
    {
     "data": {
      "text/html": [
       "<style type=\"text/css\">\n",
       "</style>\n",
       "<table id=\"T_d7df5\">\n",
       "  <thead>\n",
       "    <tr>\n",
       "      <th class=\"blank level0\" >&nbsp;</th>\n",
       "      <th id=\"T_d7df5_level0_col0\" class=\"col_heading level0 col0\" >Cus_name</th>\n",
       "      <th id=\"T_d7df5_level0_col1\" class=\"col_heading level0 col1\" >Rating</th>\n",
       "      <th id=\"T_d7df5_level0_col2\" class=\"col_heading level0 col2\" >Title</th>\n",
       "      <th id=\"T_d7df5_level0_col3\" class=\"col_heading level0 col3\" >Review</th>\n",
       "      <th id=\"T_d7df5_level0_col4\" class=\"col_heading level0 col4\" >clean_Review</th>\n",
       "      <th id=\"T_d7df5_level0_col5\" class=\"col_heading level0 col5\" >clean_Title</th>\n",
       "    </tr>\n",
       "  </thead>\n",
       "  <tbody>\n",
       "    <tr>\n",
       "      <th id=\"T_d7df5_level0_row0\" class=\"row_heading level0 row0\" >213</th>\n",
       "      <td id=\"T_d7df5_row0_col0\" class=\"data row0 col0\" >champagne</td>\n",
       "      <td id=\"T_d7df5_row0_col1\" class=\"data row0 col1\" >5</td>\n",
       "      <td id=\"T_d7df5_row0_col2\" class=\"data row0 col2\" >bad dona??t buy it!</td>\n",
       "      <td id=\"T_d7df5_row0_col3\" class=\"data row0 col3\" >i usually buy all my phones from this seller.\n",
       "but this one came with a defective microphone.\n",
       "however appearance and functionality was good as new.\n",
       "\n",
       "my biggest issue is my microphone wona??t work at all unless i use a headset. dona??t waste your money!\n",
       "\n",
       "y</td>\n",
       "      <td id=\"T_d7df5_row0_col4\" class=\"data row0 col4\" >i usually buy all my phones from this seller  but this one came with a defective microphone  however appearance and functionality was good as new  my biggest issue is my microphone wona  t work at all unless i use a headset  dona  t waste your money  y</td>\n",
       "      <td id=\"T_d7df5_row0_col5\" class=\"data row0 col5\" >bad dona buy</td>\n",
       "    </tr>\n",
       "    <tr>\n",
       "      <th id=\"T_d7df5_level0_row1\" class=\"row_heading level0 row1\" >5083</th>\n",
       "      <td id=\"T_d7df5_row1_col0\" class=\"data row1 col0\" >lual from facebook</td>\n",
       "      <td id=\"T_d7df5_row1_col1\" class=\"data row1 col1\" >5</td>\n",
       "      <td id=\"T_d7df5_row1_col2\" class=\"data row1 col2\" >all features about this beautiful iphone are truly</td>\n",
       "      <td id=\"T_d7df5_row1_col3\" class=\"data row1 col3\" >my phone opens up immediately soon as i lifted towards my face and i love the quickness.</td>\n",
       "      <td id=\"T_d7df5_row1_col4\" class=\"data row1 col4\" >my phone opens up immediately soon as i lifted towards my face and i love the quickness </td>\n",
       "      <td id=\"T_d7df5_row1_col5\" class=\"data row1 col5\" >features beautiful iphone truly</td>\n",
       "    </tr>\n",
       "    <tr>\n",
       "      <th id=\"T_d7df5_level0_row2\" class=\"row_heading level0 row2\" >2549</th>\n",
       "      <td id=\"T_d7df5_row2_col0\" class=\"data row2 col0\" >dayvia morris</td>\n",
       "      <td id=\"T_d7df5_row2_col1\" class=\"data row2 col1\" >1</td>\n",
       "      <td id=\"T_d7df5_row2_col2\" class=\"data row2 col2\" >damaged display</td>\n",
       "      <td id=\"T_d7df5_row2_col3\" class=\"data row2 col3\" >display defect on black screen as shown in the photos also phone powered off initially when i launced the camera, tried using camera after reboot it worked and then shuts off tring to switch from the face cam to the rear cam i need my money back</td>\n",
       "      <td id=\"T_d7df5_row2_col4\" class=\"data row2 col4\" >display defect on black screen as shown in the photos also phone powered off initially when i launced the camera  tried using camera after reboot it worked and then shuts off tring to switch from the face cam to the rear cam i need my money back</td>\n",
       "      <td id=\"T_d7df5_row2_col5\" class=\"data row2 col5\" >damaged display</td>\n",
       "    </tr>\n",
       "    <tr>\n",
       "      <th id=\"T_d7df5_level0_row3\" class=\"row_heading level0 row3\" >164</th>\n",
       "      <td id=\"T_d7df5_row3_col0\" class=\"data row3 col0\" >makayla</td>\n",
       "      <td id=\"T_d7df5_row3_col1\" class=\"data row3 col1\" >5</td>\n",
       "      <td id=\"T_d7df5_row3_col2\" class=\"data row3 col2\" >phone was like brand new</td>\n",
       "      <td id=\"T_d7df5_row3_col3\" class=\"data row3 col3\" >i purchased the black iphone 11 and it came in with no scratches or dents in the phone. the screen was also flawless. the battery percent was at 100%. i am satisfied with my purchase and would definitely buy from buyspry again!! also this is my second am</td>\n",
       "      <td id=\"T_d7df5_row3_col4\" class=\"data row3 col4\" >i purchased the black iphone 11 and it came in with no scratches or dents in the phone  the screen was also flawless  the battery percent was at 100   i am satisfied with my purchase and would definitely buy from buyspry again   also this is my second am</td>\n",
       "      <td id=\"T_d7df5_row3_col5\" class=\"data row3 col5\" >phone like brand new</td>\n",
       "    </tr>\n",
       "    <tr>\n",
       "      <th id=\"T_d7df5_level0_row4\" class=\"row_heading level0 row4\" >6440</th>\n",
       "      <td id=\"T_d7df5_row4_col0\" class=\"data row4 col0\" >bidyut das, mumbai</td>\n",
       "      <td id=\"T_d7df5_row4_col1\" class=\"data row4 col1\" >1</td>\n",
       "      <td id=\"T_d7df5_row4_col2\" class=\"data row4 col2\" >not worthy of buy</td>\n",
       "      <td id=\"T_d7df5_row4_col3\" class=\"data row4 col3\" >its very bulky and photo quality is not good.</td>\n",
       "      <td id=\"T_d7df5_row4_col4\" class=\"data row4 col4\" >its very bulky and photo quality is not good </td>\n",
       "      <td id=\"T_d7df5_row4_col5\" class=\"data row4 col5\" >not worthy buy</td>\n",
       "    </tr>\n",
       "  </tbody>\n",
       "</table>\n"
      ],
      "text/plain": [
       "<pandas.io.formats.style.Styler at 0x1e46de4e4f0>"
      ]
     },
     "execution_count": 17,
     "metadata": {},
     "output_type": "execute_result"
    }
   ],
   "source": [
    "data1.sample(n=5).style"
   ]
  },
  {
   "cell_type": "code",
   "execution_count": 19,
   "id": "791d5b9d",
   "metadata": {},
   "outputs": [],
   "source": [
    "data1.to_csv('Updated data.csv', index = False)"
   ]
  },
  {
   "cell_type": "markdown",
   "id": "b0830d3f",
   "metadata": {},
   "source": [
    "EDA"
   ]
  },
  {
   "cell_type": "code",
   "execution_count": null,
   "id": "a86f25a7",
   "metadata": {},
   "outputs": [],
   "source": [
    "data1.describe()"
   ]
  },
  {
   "cell_type": "code",
   "execution_count": null,
   "id": "f0b332c8",
   "metadata": {},
   "outputs": [],
   "source": [
    "# Randomly select five reviews and check whether the data is clear and successful.\n",
    "for i in range(5):\n",
    "    print('Review ',i+1)\n",
    "    print(clean_Review[i])\n",
    "    print()"
   ]
  },
  {
   "cell_type": "code",
   "execution_count": null,
   "id": "6b78b829",
   "metadata": {},
   "outputs": [],
   "source": [
    "# Count the number of all scores\n",
    "data1['Rating'].value_counts(normalize=True).plot(kind='bar')\n",
    "plt.xlabel('Score')\n",
    "plt.ylabel('Number')\n",
    "plt.show()"
   ]
  },
  {
   "cell_type": "code",
   "execution_count": null,
   "id": "e93352dc",
   "metadata": {},
   "outputs": [],
   "source": [
    "pip install -U textblob"
   ]
  },
  {
   "cell_type": "code",
   "execution_count": null,
   "id": "fb03b53c",
   "metadata": {},
   "outputs": [],
   "source": [
    "#Use TextBlob to calculate sentiment, the position is in the range of [-1,1], where 1 represents positive sentiment \n",
    "#and -1 represents active sentiment\n",
    "from textblob import TextBlob\n",
    "\n",
    "data1['polarity'] = data1['clean_Review'].map(lambda text: TextBlob(text).sentiment.polarity)\n",
    "\n",
    "# Review length\n",
    "data1['review_len'] = data1['clean_Review'].astype(str).apply(len)\n",
    "# The number of review words\n",
    "data1['word_count'] = data1['clean_Review'].apply(lambda x: len(str(x).split()))\n",
    "data1.head()"
   ]
  },
  {
   "cell_type": "code",
   "execution_count": null,
   "id": "57dbfe9d",
   "metadata": {},
   "outputs": [],
   "source": [
    "import pandas as pd\n",
    "import seaborn as sns\n",
    "import datetime\n",
    "import time\n",
    "\n",
    "#Statistical review sentiment polarity score distribution\n",
    "plt.rcParams[\"font.sans-serif\"]='SimHei'\n",
    "plt.rcParams['axes.unicode_minus']=False\n",
    "%config InlineBackend.figure_format='svg'\n",
    "\n",
    "plt.hist(x=data1[['polarity']],bins=50,\n",
    "        color='steelblue',\n",
    "        edgecolor='black')\n",
    "# Add x-axis label and y-axis label\n",
    "plt.xlabel('Polarity')\n",
    "plt.ylabel('Number')\n",
    "# Add tittle\n",
    "plt.title('Distribution of polarity')\n",
    "# Show chart\n",
    "plt.show()"
   ]
  },
  {
   "cell_type": "code",
   "execution_count": null,
   "id": "5f3b5f83",
   "metadata": {},
   "outputs": [],
   "source": [
    "# Distribution of review length\n",
    "plt.hist(x=data1[['review_len']],bins=100,\n",
    "        color='steelblue',\n",
    "        edgecolor='black')\n",
    "# Add x-axis label and y-axis label\n",
    "plt.xlabel('review_len')\n",
    "plt.ylabel('Number')\n",
    "plt.title('Distribution of review_len')\n",
    "plt.show()"
   ]
  },
  {
   "cell_type": "code",
   "execution_count": null,
   "id": "3d95110a",
   "metadata": {},
   "outputs": [],
   "source": [
    "!pip install plotly\n",
    "!pip install cufflinks"
   ]
  },
  {
   "cell_type": "code",
   "execution_count": null,
   "id": "82f14d17",
   "metadata": {},
   "outputs": [],
   "source": [
    "import seaborn as sns\n",
    "import matplotlib.pyplot as plt\n",
    "%matplotlib inline\n",
    "import plotly.express as px"
   ]
  },
  {
   "cell_type": "code",
   "execution_count": null,
   "id": "82a5bde1",
   "metadata": {
    "scrolled": true
   },
   "outputs": [],
   "source": [
    "sns.pairplot(data=data1, x_vars=['polarity', 'review_len', 'word_count'],\\\n",
    "             y_vars=['polarity', 'review_len', 'word_count'], \\\n",
    "             hue='Rating');"
   ]
  },
  {
   "cell_type": "code",
   "execution_count": null,
   "id": "1c0e8de6",
   "metadata": {},
   "outputs": [],
   "source": [
    "(lambda x:(x + 3)*5/2)(3)\n"
   ]
  },
  {
   "cell_type": "code",
   "execution_count": null,
   "id": "512a2f05",
   "metadata": {},
   "outputs": [],
   "source": [
    "x = 2\n",
    "\n",
    "print(((x + 3)*5/2))"
   ]
  },
  {
   "cell_type": "code",
   "execution_count": null,
   "id": "dc90fddb",
   "metadata": {},
   "outputs": [],
   "source": [
    "func = lambda x:return x\n",
    "print(func(2))"
   ]
  },
  {
   "cell_type": "code",
   "execution_count": null,
   "id": "76f18b4d",
   "metadata": {},
   "outputs": [],
   "source": [
    "print(func(2))"
   ]
  },
  {
   "cell_type": "code",
   "execution_count": null,
   "id": "e54c959c",
   "metadata": {},
   "outputs": [],
   "source": [
    "my_list = ['Real', 'Python'] \n",
    "def func(x):\n",
    "    print(''.join(x))\n",
    "\n",
    "\n"
   ]
  },
  {
   "cell_type": "code",
   "execution_count": null,
   "id": "70cb1ad7",
   "metadata": {},
   "outputs": [],
   "source": [
    "func(2)"
   ]
  },
  {
   "cell_type": "code",
   "execution_count": null,
   "id": "40296bd2",
   "metadata": {},
   "outputs": [],
   "source": [
    "fname = \"Blessy\"\n",
    "lname = \"Vincent\"\n",
    "\n",
    "f = lambda fname,lname: (' ').join([fname,lname])\n",
    "f(fname,lname)"
   ]
  },
  {
   "cell_type": "code",
   "execution_count": null,
   "id": "63e6ae7e",
   "metadata": {},
   "outputs": [],
   "source": [
    "nameL = [\"Blessy\",\"Vincent\"]\n",
    "\n",
    "f = lambda nameL: (' ').join([nameL])\n",
    "f(nameL)"
   ]
  },
  {
   "cell_type": "code",
   "execution_count": null,
   "id": "eadfe680",
   "metadata": {},
   "outputs": [],
   "source": [
    "my_list = ['Real', 'Python'] \n",
    "def func(x):\n",
    "    return '09'.join(x)"
   ]
  },
  {
   "cell_type": "code",
   "execution_count": null,
   "id": "0dbc20db",
   "metadata": {},
   "outputs": [],
   "source": [
    "func(\"me too\")"
   ]
  },
  {
   "cell_type": "code",
   "execution_count": null,
   "id": "2569ff8a",
   "metadata": {},
   "outputs": [],
   "source": [
    "b=\"blessy\"\n",
    "c = ['b','l']\n",
    "\n"
   ]
  },
  {
   "cell_type": "code",
   "execution_count": null,
   "id": "9664b4bd",
   "metadata": {},
   "outputs": [],
   "source": [
    "lambda func(x): return ''.join(x)"
   ]
  },
  {
   "cell_type": "code",
   "execution_count": null,
   "id": "4b70ae90",
   "metadata": {},
   "outputs": [],
   "source": [
    "f = lambda x: 'a'.join(x)\n",
    "f('mou')"
   ]
  },
  {
   "cell_type": "code",
   "execution_count": null,
   "id": "2e6b5fc5",
   "metadata": {},
   "outputs": [],
   "source": [
    "lambda func(x):return ' '.join(x)"
   ]
  },
  {
   "cell_type": "code",
   "execution_count": null,
   "id": "5daf1b92",
   "metadata": {},
   "outputs": [],
   "source": [
    "L = [lambda x : x ** 2, \n",
    "     lambda x : x ** 3, \n",
    "     lambda x : x ** 4]\n",
    "\n",
    "for item in L:\n",
    "   print (item(2))"
   ]
  },
  {
   "cell_type": "code",
   "execution_count": null,
   "id": "9561f1bf",
   "metadata": {},
   "outputs": [],
   "source": [
    "my_list = [1, 5, 4, 6, 8, 11, 3, 12]\n",
    "new_list = list(filter(lambda x: (x%2 == 0) , my_list))\n",
    "\n",
    "print(new_list)"
   ]
  },
  {
   "cell_type": "code",
   "execution_count": null,
   "id": "c66e11c6",
   "metadata": {},
   "outputs": [],
   "source": [
    "my_list = ['Real', 'Python'] \n",
    "def ls(x):\n",
    "    return ''.join(x)"
   ]
  },
  {
   "cell_type": "code",
   "execution_count": null,
   "id": "3d20f24f",
   "metadata": {},
   "outputs": [],
   "source": [
    "ls('me')\n",
    "\n",
    "ls('me')"
   ]
  },
  {
   "cell_type": "code",
   "execution_count": null,
   "id": "2b92f035",
   "metadata": {},
   "outputs": [],
   "source": [
    "my_list = ['Real', 'Python'] \n",
    "f = lambda x:''.join(x)"
   ]
  },
  {
   "cell_type": "code",
   "execution_count": null,
   "id": "c9c0c816",
   "metadata": {},
   "outputs": [],
   "source": [
    "f('me')"
   ]
  },
  {
   "cell_type": "code",
   "execution_count": null,
   "id": "e814a53a",
   "metadata": {},
   "outputs": [],
   "source": [
    "my_list = ['Real', 'Python'] \n",
    "lambda func(x):return ' '.join(x)\n"
   ]
  },
  {
   "cell_type": "code",
   "execution_count": null,
   "id": "ba4b98be",
   "metadata": {},
   "outputs": [],
   "source": [
    "lambda x:return ' '.join(x)"
   ]
  },
  {
   "cell_type": "code",
   "execution_count": null,
   "id": "fdfd612a",
   "metadata": {},
   "outputs": [],
   "source": [
    "func = lambda x: return x\n",
    "print(func(2))"
   ]
  },
  {
   "cell_type": "code",
   "execution_count": null,
   "id": "557bd7c0",
   "metadata": {},
   "outputs": [],
   "source": [
    "lambda x:''.join(x)"
   ]
  },
  {
   "cell_type": "code",
   "execution_count": null,
   "id": "ce9100c0",
   "metadata": {},
   "outputs": [],
   "source": [
    "f(\"hello\")"
   ]
  },
  {
   "cell_type": "code",
   "execution_count": null,
   "id": "430ea4f2",
   "metadata": {},
   "outputs": [],
   "source": [
    "my_list = [1, 5, 4, 6, 8, 11, 3, 12]\n",
    "new_list = list(filter(lambda x: (x%2 == 0) , my_list))\n",
    "\n",
    "print(new_list)"
   ]
  },
  {
   "cell_type": "code",
   "execution_count": null,
   "id": "d935c16b",
   "metadata": {},
   "outputs": [],
   "source": [
    "func = lambda x :  x \n"
   ]
  },
  {
   "cell_type": "code",
   "execution_count": null,
   "id": "68c4076f",
   "metadata": {},
   "outputs": [],
   "source": [
    "(lambda x: (x + 3)*5/2)(3)"
   ]
  },
  {
   "cell_type": "code",
   "execution_count": null,
   "id": "44dcb2aa",
   "metadata": {},
   "outputs": [],
   "source": [
    "class Sales:\n",
    "    def __init__(self, id):\n",
    "        self.id = id\n",
    "        id = 100 \n",
    "\n",
    "var = Sales(123)\n",
    "print(var.id)"
   ]
  },
  {
   "cell_type": "code",
   "execution_count": null,
   "id": "fdb7335e",
   "metadata": {},
   "outputs": [],
   "source": []
  }
 ],
 "metadata": {
  "kernelspec": {
   "display_name": "Python 3 (ipykernel)",
   "language": "python",
   "name": "python3"
  },
  "language_info": {
   "codemirror_mode": {
    "name": "ipython",
    "version": 3
   },
   "file_extension": ".py",
   "mimetype": "text/x-python",
   "name": "python",
   "nbconvert_exporter": "python",
   "pygments_lexer": "ipython3",
   "version": "3.8.5"
  }
 },
 "nbformat": 4,
 "nbformat_minor": 5
}
