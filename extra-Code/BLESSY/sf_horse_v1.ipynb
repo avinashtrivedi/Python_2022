{
 "cells": [
  {
   "cell_type": "code",
   "execution_count": 1,
   "id": "b45fa713",
   "metadata": {},
   "outputs": [],
   "source": [
    "import os\n",
    "import numpy as np\n",
    "import pandas as pd\n",
    "import matplotlib.pyplot as plt\n",
    "import seaborn as sns\n",
    "from sklearn.model_selection import train_test_split\n",
    "from sklearn.ensemble import RandomForestRegressor\n",
    "from sklearn.tree import DecisionTreeRegressor\n",
    "\n",
    "df=pd.read_csv('horsedata.csv')"
   ]
  },
  {
   "cell_type": "code",
   "execution_count": 2,
   "id": "bef141f5",
   "metadata": {},
   "outputs": [],
   "source": [
    "# drop the url, as its unnecessay\n",
    "df.drop('race_url',axis=1,inplace=True)"
   ]
  },
  {
   "cell_type": "code",
   "execution_count": 3,
   "id": "b4291c59",
   "metadata": {},
   "outputs": [],
   "source": [
    "# convert categorical data to neumeric\n",
    "df['jumps/flat'] = df['jumps/flat'].replace(['Jumps','Flat'],[0,1])"
   ]
  },
  {
   "cell_type": "code",
   "execution_count": 4,
   "id": "a1640fc1",
   "metadata": {},
   "outputs": [],
   "source": [
    "# drop the NAN rows\n",
    "df.dropna(inplace=True)"
   ]
  },
  {
   "cell_type": "code",
   "execution_count": 5,
   "id": "8564a0b8",
   "metadata": {},
   "outputs": [],
   "source": [
    "# get X and y\n",
    "\n",
    "X = df.drop('sf',axis=1)\n",
    "y = df['sf']\n",
    "\n",
    "# scale the data\n",
    "from sklearn.preprocessing import StandardScaler\n",
    "sc_X = StandardScaler()\n",
    "X = sc_X.fit_transform(X)"
   ]
  },
  {
   "cell_type": "code",
   "execution_count": 6,
   "id": "40e68776",
   "metadata": {},
   "outputs": [],
   "source": [
    "# split the data, 75% for traing and 25% for testing\n",
    "\n",
    "X_train, X_test, y_train, y_test = train_test_split(X, y, test_size = 0.25, random_state = 42)"
   ]
  },
  {
   "cell_type": "code",
   "execution_count": 7,
   "id": "5f253e99",
   "metadata": {},
   "outputs": [
    {
     "data": {
      "text/plain": [
       "(33945, 8)"
      ]
     },
     "execution_count": 7,
     "metadata": {},
     "output_type": "execute_result"
    }
   ],
   "source": [
    "X_train.shape"
   ]
  },
  {
   "cell_type": "code",
   "execution_count": 8,
   "id": "ee01ed8e",
   "metadata": {},
   "outputs": [
    {
     "data": {
      "text/plain": [
       "(11316, 8)"
      ]
     },
     "execution_count": 8,
     "metadata": {},
     "output_type": "execute_result"
    }
   ],
   "source": [
    "X_test.shape"
   ]
  },
  {
   "cell_type": "code",
   "execution_count": 9,
   "id": "4412e71f",
   "metadata": {},
   "outputs": [],
   "source": [
    "# build the model\n",
    "model = RandomForestRegressor()"
   ]
  },
  {
   "cell_type": "code",
   "execution_count": 10,
   "id": "d3119253",
   "metadata": {},
   "outputs": [
    {
     "data": {
      "text/plain": [
       "RandomForestRegressor()"
      ]
     },
     "execution_count": 10,
     "metadata": {},
     "output_type": "execute_result"
    }
   ],
   "source": [
    "# train the model on training set\n",
    "model.fit(X_train,y_train)"
   ]
  },
  {
   "cell_type": "code",
   "execution_count": 11,
   "id": "012a3005",
   "metadata": {},
   "outputs": [],
   "source": [
    "# perform prediction on test set\n",
    "y_pred = model.predict(X_test)"
   ]
  },
  {
   "cell_type": "code",
   "execution_count": 12,
   "id": "5adbe2cf",
   "metadata": {},
   "outputs": [],
   "source": [
    "# craete dataframe for True vs predicted.\n",
    "d = pd.DataFrame({'y_test':y_test,'y_pred':y_pred})"
   ]
  },
  {
   "cell_type": "code",
   "execution_count": 13,
   "id": "6aee8c0b",
   "metadata": {},
   "outputs": [
    {
     "data": {
      "image/png": "[encoded data removed]",
      "text/plain": [
       "<Figure size 720x360 with 1 Axes>"
      ]
     },
     "metadata": {
      "needs_background": "light"
     },
     "output_type": "display_data"
    }
   ],
   "source": [
    "# plot the graph\n",
    "plt.figure(figsize=(10,5))\n",
    "plt.plot(list(d['y_test']),color='r',label='true')\n",
    "plt.plot(list(d['y_pred']),color='g',label='pred')\n",
    "plt.xlabel('data point')\n",
    "plt.ylabel('sf')\n",
    "plt.title('true vs pred')\n",
    "plt.legend()\n",
    "plt.show()"
   ]
  },
  {
   "cell_type": "code",
   "execution_count": null,
   "id": "431efe0e",
   "metadata": {},
   "outputs": [],
   "source": []
  }
 ],
 "metadata": {
  "kernelspec": {
   "display_name": "Python 3 (ipykernel)",
   "language": "python",
   "name": "python3"
  },
  "language_info": {
   "codemirror_mode": {
    "name": "ipython",
    "version": 3
   },
   "file_extension": ".py",
   "mimetype": "text/x-python",
   "name": "python",
   "nbconvert_exporter": "python",
   "pygments_lexer": "ipython3",
   "version": "3.8.5"
  }
 },
 "nbformat": 4,
 "nbformat_minor": 5
}
