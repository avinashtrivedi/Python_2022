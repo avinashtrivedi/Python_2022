{
 "cells": [
  {
   "cell_type": "code",
   "execution_count": 1,
   "metadata": {},
   "outputs": [],
   "source": [
    "import xml.etree.ElementTree as ET\n",
    "import pandas as pd\n",
    "namespace = '{http://teamcenter.com/BusinessModel/TcBusinessData}'\n",
    "tree = ET.parse('model.xml')\n",
    "root = tree.getroot()\n",
    "\n",
    "df = pd.DataFrame([],columns=['file_extension','dataset_type'])"
   ]
  },
  {
   "cell_type": "code",
   "execution_count": 2,
   "metadata": {},
   "outputs": [],
   "source": [
    "for TcDataset in root[0].findall(namespace+\"TcDataset\"):\n",
    "    try:\n",
    "        type_name = TcDataset.attrib['typeName']\n",
    "        TcDatasetReference = TcDataset.find(namespace+\"TcDatasetReference\")\n",
    "        TcDatasetReferenceInfo = TcDatasetReference.find(namespace+\"TcDatasetReferenceInfo\")\n",
    "        template = TcDatasetReferenceInfo.attrib['template']\n",
    "        df.loc[len(df)] = [template,type_name]\n",
    "    except:\n",
    "        pass"
   ]
  },
  {
   "cell_type": "code",
   "execution_count": 3,
   "metadata": {},
   "outputs": [
    {
     "data": {
      "text/html": [
       "<div>\n",
       "<style scoped>\n",
       "    .dataframe tbody tr th:only-of-type {\n",
       "        vertical-align: middle;\n",
       "    }\n",
       "\n",
       "    .dataframe tbody tr th {\n",
       "        vertical-align: top;\n",
       "    }\n",
       "\n",
       "    .dataframe thead th {\n",
       "        text-align: right;\n",
       "    }\n",
       "</style>\n",
       "<table border=\"1\" class=\"dataframe\">\n",
       "  <thead>\n",
       "    <tr style=\"text-align: right;\">\n",
       "      <th></th>\n",
       "      <th>file_extension</th>\n",
       "      <th>dataset_type</th>\n",
       "    </tr>\n",
       "  </thead>\n",
       "  <tbody>\n",
       "    <tr>\n",
       "      <th>0</th>\n",
       "      <td>*.ai</td>\n",
       "      <td>AdobeIllustrator</td>\n",
       "    </tr>\n",
       "    <tr>\n",
       "      <th>1</th>\n",
       "      <td>*.indd</td>\n",
       "      <td>AdobeInDesign</td>\n",
       "    </tr>\n",
       "    <tr>\n",
       "      <th>2</th>\n",
       "      <td>*.bmp</td>\n",
       "      <td>Bitmap_Thumbnail</td>\n",
       "    </tr>\n",
       "    <tr>\n",
       "      <th>3</th>\n",
       "      <td>*.bcz</td>\n",
       "      <td>Briefcase</td>\n",
       "    </tr>\n",
       "    <tr>\n",
       "      <th>4</th>\n",
       "      <td>*</td>\n",
       "      <td>CAEAnalysisDS</td>\n",
       "    </tr>\n",
       "    <tr>\n",
       "      <th>...</th>\n",
       "      <td>...</td>\n",
       "      <td>...</td>\n",
       "    </tr>\n",
       "    <tr>\n",
       "      <th>202</th>\n",
       "      <td>*.xml</td>\n",
       "      <td>Ase0XML</td>\n",
       "    </tr>\n",
       "    <tr>\n",
       "      <th>203</th>\n",
       "      <td>*.mmp</td>\n",
       "      <td>Awv0MMPDeltaCollection</td>\n",
       "    </tr>\n",
       "    <tr>\n",
       "      <th>204</th>\n",
       "      <td>*.xml</td>\n",
       "      <td>Crt0ContractPackage</td>\n",
       "    </tr>\n",
       "    <tr>\n",
       "      <th>205</th>\n",
       "      <td>*.jpg</td>\n",
       "      <td>Seg0Diagram</td>\n",
       "    </tr>\n",
       "    <tr>\n",
       "      <th>206</th>\n",
       "      <td>Text</td>\n",
       "      <td>Arm0SavedRule</td>\n",
       "    </tr>\n",
       "  </tbody>\n",
       "</table>\n",
       "<p>207 rows × 2 columns</p>\n",
       "</div>"
      ],
      "text/plain": [
       "    file_extension            dataset_type\n",
       "0             *.ai        AdobeIllustrator\n",
       "1           *.indd           AdobeInDesign\n",
       "2            *.bmp        Bitmap_Thumbnail\n",
       "3            *.bcz               Briefcase\n",
       "4                *           CAEAnalysisDS\n",
       "..             ...                     ...\n",
       "202          *.xml                 Ase0XML\n",
       "203          *.mmp  Awv0MMPDeltaCollection\n",
       "204          *.xml     Crt0ContractPackage\n",
       "205          *.jpg             Seg0Diagram\n",
       "206           Text           Arm0SavedRule\n",
       "\n",
       "[207 rows x 2 columns]"
      ]
     },
     "execution_count": 3,
     "metadata": {},
     "output_type": "execute_result"
    }
   ],
   "source": [
    "df"
   ]
  },
  {
   "cell_type": "code",
   "execution_count": 4,
   "metadata": {},
   "outputs": [],
   "source": [
    "df.to_csv('dataset.csv')"
   ]
  },
  {
   "cell_type": "code",
   "execution_count": null,
   "metadata": {},
   "outputs": [],
   "source": [
    "# https://docs.python.org/3/library/xml.etree.elementtree.html"
   ]
  }
 ],
 "metadata": {
  "kernelspec": {
   "display_name": "Python 3",
   "language": "python",
   "name": "python3"
  },
  "language_info": {
   "codemirror_mode": {
    "name": "ipython",
    "version": 3
   },
   "file_extension": ".py",
   "mimetype": "text/x-python",
   "name": "python",
   "nbconvert_exporter": "python",
   "pygments_lexer": "ipython3",
   "version": "3.8.5"
  }
 },
 "nbformat": 4,
 "nbformat_minor": 4
}
