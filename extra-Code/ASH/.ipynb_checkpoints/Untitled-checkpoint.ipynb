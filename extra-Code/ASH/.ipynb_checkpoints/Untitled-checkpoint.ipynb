{
 "cells": [
  {
   "cell_type": "code",
   "execution_count": 59,
   "metadata": {},
   "outputs": [],
   "source": [
    "import pandas as pd\n",
    "import numpy as np\n",
    "from sklearn.preprocessing import StandardScaler"
   ]
  },
  {
   "cell_type": "code",
   "execution_count": 68,
   "metadata": {},
   "outputs": [],
   "source": [
    "def create_data(data, train_num, ahead_num):\n",
    "    train_num = round(0.6*len(data))\n",
    "    \n",
    "    dataX1, dataX2 = [], []\n",
    "    dataY1, dataY2 = [], []\n",
    "\n",
    "    for i in range(train_num - ahead_num):\n",
    "        # print(i)\n",
    "        a = data[i:(i + ahead_num), 0]\n",
    "        dataX1.append(a)\n",
    "    for j in range(train_num - ahead_num, len(data) - ahead_num):\n",
    "        b = data[j:(j + ahead_num), 0]\n",
    "        dataX2.append(b)\n",
    "\n",
    "    dataY1 = data[ahead_num:train_num, 0]\n",
    "    dataY2 = data[train_num:, 0]\n",
    "    return np.array(dataX1), np.array(dataY1), np.array(dataX2), np.array(dataY2)"
   ]
  },
  {
   "cell_type": "code",
   "execution_count": 69,
   "metadata": {},
   "outputs": [
    {
     "name": "stderr",
     "output_type": "stream",
     "text": [
      "<ipython-input-69-f8a60d6fa2f4>:11: SettingWithCopyWarning: \n",
      "A value is trying to be set on a copy of a slice from a DataFrame.\n",
      "Try using .loc[row_indexer,col_indexer] = value instead\n",
      "\n",
      "See the caveats in the documentation: https://pandas.pydata.org/pandas-docs/stable/user_guide/indexing.html#returning-a-view-versus-a-copy\n",
      "  dataPOV['timeStamp'] = pd.to_datetime(dataPOV['timeStamp'])\n"
     ]
    }
   ],
   "source": [
    "n=1\n",
    "filename =  \"Folsom_irradiance.csv\"\n",
    "dataset = pd.read_csv(filename,encoding='gbk')\n",
    "dataset = pd.DataFrame(dataset)\n",
    "dataPOV = dataset[['timeStamp','ghi']]\n",
    "#     dataPOV.dropna(inplace=True)\n",
    "\n",
    "#     dataset = pd.read_csv(filename,encoding='gbk')\n",
    "#     dataset = pd.DataFrame(dataset)\n",
    "#     dataPOV = dataset['ghi']\n",
    "dataPOV['timeStamp'] = pd.to_datetime(dataPOV['timeStamp'])\n",
    "dataPOV.set_index('timeStamp', inplace=True)\n",
    "dataPOV = dataPOV.resample(f'{n}T').mean()\n",
    "dataPOV.dropna(inplace=True)\n",
    "\n",
    "dataPOV = np.array(dataPOV).reshape(-1,1)\n",
    "#     print(\"dataPOV:\",dataPOV.shape)\n",
    "N1= 70000\n",
    "N2 = N1+10000\n",
    "dataAll = dataPOV[:N2,:]\n",
    "\n",
    "#     print('NAN:-->',np.argwhere(np.isnan(dataAll)))\n",
    "#归一化\n",
    "global scaler\n",
    "scaler = StandardScaler(copy=True,with_mean=True,with_std=True)\n",
    "dataAll = scaler.fit_transform(dataAll)"
   ]
  },
  {
   "cell_type": "code",
   "execution_count": 70,
   "metadata": {},
   "outputs": [
    {
     "data": {
      "text/plain": [
       "80000"
      ]
     },
     "execution_count": 70,
     "metadata": {},
     "output_type": "execute_result"
    }
   ],
   "source": [
    "len(dataAll)"
   ]
  },
  {
   "cell_type": "code",
   "execution_count": 71,
   "metadata": {},
   "outputs": [
    {
     "data": {
      "text/plain": [
       "70000"
      ]
     },
     "execution_count": 71,
     "metadata": {},
     "output_type": "execute_result"
    }
   ],
   "source": [
    "N1"
   ]
  },
  {
   "cell_type": "code",
   "execution_count": 72,
   "metadata": {},
   "outputs": [
    {
     "data": {
      "text/plain": [
       "8"
      ]
     },
     "execution_count": 72,
     "metadata": {},
     "output_type": "execute_result"
    }
   ],
   "source": [
    "ahead_num = 8\n",
    "ahead_num"
   ]
  },
  {
   "cell_type": "code",
   "execution_count": 73,
   "metadata": {},
   "outputs": [
    {
     "name": "stdout",
     "output_type": "stream",
     "text": [
      "trainX (47992, 8)\n",
      "trainY (47992,)\n",
      "testX (32000, 8)\n",
      "testY (32000,)\n"
     ]
    }
   ],
   "source": [
    "trainX, trainY, testX, testY = create_data(dataAll,N1,ahead_num)\n",
    "print(\"trainX\", trainX.shape)\n",
    "print(\"trainY\", trainY.shape)\n",
    "\n",
    "print(\"testX\", testX.shape)\n",
    "print(\"testY\", testY.shape)"
   ]
  },
  {
   "cell_type": "code",
   "execution_count": 76,
   "metadata": {},
   "outputs": [
    {
     "data": {
      "text/plain": [
       "array([-1.30720128, -1.30582708, -1.30434717, ...,  1.8667463 ,\n",
       "        1.83855755,  1.82798677])"
      ]
     },
     "execution_count": 76,
     "metadata": {},
     "output_type": "execute_result"
    }
   ],
   "source": [
    "trainY"
   ]
  },
  {
   "cell_type": "code",
   "execution_count": null,
   "metadata": {},
   "outputs": [],
   "source": []
  },
  {
   "cell_type": "code",
   "execution_count": 74,
   "metadata": {},
   "outputs": [
    {
     "data": {
      "text/plain": [
       "59.99"
      ]
     },
     "execution_count": 74,
     "metadata": {},
     "output_type": "execute_result"
    }
   ],
   "source": [
    "len(trainX)*100/N2"
   ]
  },
  {
   "cell_type": "code",
   "execution_count": 75,
   "metadata": {},
   "outputs": [
    {
     "data": {
      "text/plain": [
       "40.0"
      ]
     },
     "execution_count": 75,
     "metadata": {},
     "output_type": "execute_result"
    }
   ],
   "source": [
    "len(testX)*100/N2"
   ]
  },
  {
   "cell_type": "code",
   "execution_count": 78,
   "metadata": {},
   "outputs": [],
   "source": [
    "d = pd.read_csv(filename,encoding='gbk')['ghi']"
   ]
  },
  {
   "cell_type": "code",
   "execution_count": 80,
   "metadata": {},
   "outputs": [
    {
     "data": {
      "text/plain": [
       "1366.0"
      ]
     },
     "execution_count": 80,
     "metadata": {},
     "output_type": "execute_result"
    }
   ],
   "source": [
    "d.max()"
   ]
  },
  {
   "cell_type": "code",
   "execution_count": null,
   "metadata": {},
   "outputs": [],
   "source": []
  },
  {
   "cell_type": "code",
   "execution_count": 25,
   "metadata": {},
   "outputs": [
    {
     "data": {
      "text/plain": [
       "array([[-1.08788188, -1.08788188, -0.97306585],\n",
       "       [-1.08788188, -0.97306585, -0.26120647],\n",
       "       [-0.97306585, -0.26120647, -0.03157441]])"
      ]
     },
     "execution_count": 25,
     "metadata": {},
     "output_type": "execute_result"
    }
   ],
   "source": [
    "trainX"
   ]
  },
  {
   "cell_type": "code",
   "execution_count": 27,
   "metadata": {},
   "outputs": [
    {
     "data": {
      "text/plain": [
       "array([[-1.08788188, -1.08788188, -0.97306585, -0.26120647, -0.03157441,\n",
       "         0.68028498,  0.96732505,  1.79400047]])"
      ]
     },
     "execution_count": 27,
     "metadata": {},
     "output_type": "execute_result"
    }
   ],
   "source": [
    "dataAll.T"
   ]
  },
  {
   "cell_type": "code",
   "execution_count": 28,
   "metadata": {},
   "outputs": [
    {
     "data": {
      "text/plain": [
       "array([[-0.26120647, -0.03157441,  0.68028498],\n",
       "       [-0.03157441,  0.68028498,  0.96732505]])"
      ]
     },
     "execution_count": 28,
     "metadata": {},
     "output_type": "execute_result"
    }
   ],
   "source": [
    "testX"
   ]
  },
  {
   "cell_type": "code",
   "execution_count": 33,
   "metadata": {},
   "outputs": [
    {
     "data": {
      "text/plain": [
       "3"
      ]
     },
     "execution_count": 33,
     "metadata": {},
     "output_type": "execute_result"
    }
   ],
   "source": [
    "ahead_num"
   ]
  },
  {
   "cell_type": "code",
   "execution_count": 34,
   "metadata": {},
   "outputs": [
    {
     "data": {
      "text/plain": [
       "7"
      ]
     },
     "execution_count": 34,
     "metadata": {},
     "output_type": "execute_result"
    }
   ],
   "source": [
    "train_num = N1\n",
    "train_num"
   ]
  },
  {
   "cell_type": "code",
   "execution_count": 35,
   "metadata": {},
   "outputs": [
    {
     "name": "stdout",
     "output_type": "stream",
     "text": [
      "0\n",
      "1\n",
      "2\n",
      "3\n"
     ]
    }
   ],
   "source": [
    "for i in range(train_num - ahead_num):\n",
    "    print(i)"
   ]
  },
  {
   "cell_type": "code",
   "execution_count": 36,
   "metadata": {},
   "outputs": [
    {
     "data": {
      "text/plain": [
       "array([[-1.08788188],\n",
       "       [-1.08788188],\n",
       "       [-0.97306585],\n",
       "       [-0.26120647],\n",
       "       [-0.03157441],\n",
       "       [ 0.68028498],\n",
       "       [ 0.96732505],\n",
       "       [ 1.79400047]])"
      ]
     },
     "execution_count": 36,
     "metadata": {},
     "output_type": "execute_result"
    }
   ],
   "source": [
    "dataAll"
   ]
  },
  {
   "cell_type": "code",
   "execution_count": 40,
   "metadata": {},
   "outputs": [],
   "source": [
    "train_num = round(0.8*len(dataAll))"
   ]
  },
  {
   "cell_type": "code",
   "execution_count": 41,
   "metadata": {},
   "outputs": [
    {
     "data": {
      "text/plain": [
       "6"
      ]
     },
     "execution_count": 41,
     "metadata": {},
     "output_type": "execute_result"
    }
   ],
   "source": [
    "train_num"
   ]
  },
  {
   "cell_type": "code",
   "execution_count": 55,
   "metadata": {},
   "outputs": [
    {
     "name": "stdout",
     "output_type": "stream",
     "text": [
      "[-1.08788188 -1.08788188 -0.97306585]\n",
      "----------------------------------------\n",
      "[-1.08788188 -0.97306585 -0.26120647]\n",
      "----------------------------------------\n",
      "[-0.97306585 -0.26120647 -0.03157441]\n",
      "----------------------------------------\n"
     ]
    }
   ],
   "source": [
    "for i in range(train_num - ahead_num):\n",
    "    a = dataAll[i:(i + ahead_num), 0]\n",
    "    print(a)\n",
    "    print('--'*20)"
   ]
  },
  {
   "cell_type": "code",
   "execution_count": 56,
   "metadata": {},
   "outputs": [
    {
     "name": "stdout",
     "output_type": "stream",
     "text": [
      "[-0.26120647 -0.03157441  0.68028498]\n",
      "----------------------------------------\n",
      "[-0.03157441  0.68028498  0.96732505]\n",
      "----------------------------------------\n"
     ]
    }
   ],
   "source": [
    "for j in range(train_num - ahead_num, len(dataAll) - ahead_num):\n",
    "    b = dataAll[j:(j + ahead_num), 0]\n",
    "    print(b)\n",
    "    print('--'*20)"
   ]
  },
  {
   "cell_type": "code",
   "execution_count": 57,
   "metadata": {},
   "outputs": [
    {
     "data": {
      "text/plain": [
       "array([[-1.08788188, -1.08788188, -0.97306585, -0.26120647, -0.03157441,\n",
       "         0.68028498]])"
      ]
     },
     "execution_count": 57,
     "metadata": {},
     "output_type": "execute_result"
    }
   ],
   "source": [
    "dataAll[:6].T"
   ]
  },
  {
   "cell_type": "code",
   "execution_count": null,
   "metadata": {},
   "outputs": [],
   "source": []
  }
 ],
 "metadata": {
  "kernelspec": {
   "display_name": "Python 3",
   "language": "python",
   "name": "python3"
  },
  "language_info": {
   "codemirror_mode": {
    "name": "ipython",
    "version": 3
   },
   "file_extension": ".py",
   "mimetype": "text/x-python",
   "name": "python",
   "nbconvert_exporter": "python",
   "pygments_lexer": "ipython3",
   "version": "3.8.5"
  }
 },
 "nbformat": 4,
 "nbformat_minor": 4
}
