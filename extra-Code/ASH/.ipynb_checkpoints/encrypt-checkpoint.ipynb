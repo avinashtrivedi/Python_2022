{
 "cells": [
  {
   "cell_type": "code",
   "execution_count": 1,
   "metadata": {},
   "outputs": [
    {
     "name": "stdout",
     "output_type": "stream",
     "text": [
      "Message?: hypnotoad\n",
      "key:  tjyothlle\n",
      "encryption:  ahnbhazlh\n",
      "decryption:  hypnotoad\n"
     ]
    }
   ],
   "source": [
    "import random\n",
    "\n",
    "def gen_key(n):\n",
    "    key = \"\"\n",
    "    for i in range(n):\n",
    "        key = key + chr(random.randint(97, 122))\n",
    "    return key\n",
    "\n",
    "def encrypt(key,text):\n",
    "    cipher = ''\n",
    "    for i in range(len(key)):\n",
    "        \n",
    "        # get the index of key and text character\n",
    "        key_pos = ord(key[i]) - 97\n",
    "        text_pos = ord(text[i]) - 97\n",
    "        \n",
    "        # increase text position by key_pos\n",
    "        cipher = cipher + chr(97 + (text_pos + key_pos)%26)\n",
    "    return cipher\n",
    "\n",
    "def decrypt(key,text):\n",
    "    cipher = ''\n",
    "    for i in range(len(key)):\n",
    "        \n",
    "        # get the index of key and text character\n",
    "        key_pos = ord(key[i]) - 97\n",
    "        text_pos = ord(text[i]) - 97\n",
    "        \n",
    "        # decrease text position by key_pos\n",
    "        # handle the case when difference is -ve\n",
    "        if (text_pos - key_pos) >=0:\n",
    "            diff = (text_pos - key_pos)%26\n",
    "        else:\n",
    "            diff = 26 - abs(text_pos - key_pos)%26\n",
    "            \n",
    "        cipher = cipher + chr(97 + diff)\n",
    "    return cipher\n",
    "\n",
    "def main():\n",
    "    message = input(\"Message?: \")  \n",
    "    key_length = len(message)\n",
    "    \n",
    "    key = gen_key(key_length)\n",
    "    print('key: ',key)\n",
    "    \n",
    "    encryption = encrypt(key, message)\n",
    "    \n",
    "    print(\"encryption: \", encryption)\n",
    "    \n",
    "    decryption = decrypt(key, encryption)\n",
    "    \n",
    "    print(\"decryption: \", decryption)\n",
    "\n",
    "if __name__ == \"__main__\":\n",
    "    main()\n"
   ]
  },
  {
   "cell_type": "code",
   "execution_count": null,
   "metadata": {},
   "outputs": [],
   "source": []
  }
 ],
 "metadata": {
  "kernelspec": {
   "display_name": "Python 3",
   "language": "python",
   "name": "python3"
  },
  "language_info": {
   "codemirror_mode": {
    "name": "ipython",
    "version": 3
   },
   "file_extension": ".py",
   "mimetype": "text/x-python",
   "name": "python",
   "nbconvert_exporter": "python",
   "pygments_lexer": "ipython3",
   "version": "3.8.5"
  }
 },
 "nbformat": 4,
 "nbformat_minor": 4
}
