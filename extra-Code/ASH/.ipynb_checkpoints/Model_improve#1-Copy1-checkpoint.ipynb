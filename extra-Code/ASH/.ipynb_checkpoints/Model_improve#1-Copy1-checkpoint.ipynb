{
 "cells": [
  {
   "cell_type": "code",
   "execution_count": 1,
   "metadata": {},
   "outputs": [],
   "source": [
    "from tqdm import tqdm\n",
    "import numpy as np\n",
    "from sklearn.metrics import r2_score\n",
    "from matplotlib import pyplot as plt\n",
    "from sklearn.neural_network import MLPRegressor    #### MLP 感知机####\n",
    "from sklearn.tree import ExtraTreeRegressor        #### ExtraTree极端随机树回归####\n",
    "from sklearn import tree                           #### 决策树回归####\n",
    "from sklearn.ensemble import BaggingRegressor      #### Bagging回归####\n",
    "from sklearn.ensemble import AdaBoostRegressor     #### Adaboost回归\n",
    "from sklearn import linear_model                   #### 线性回归####\n",
    "from sklearn import svm                            #### SVM回归####\n",
    "from sklearn import ensemble                       #### Adaboost回归####  ####3.7GBRT回归####  ####3.5随机森林回归####\n",
    "from sklearn import neighbors                      #### KNN回归####\n",
    "from sklearn.preprocessing import StandardScaler\n",
    "import os\n",
    "import pandas as pd\n",
    "from evaluate_data import *\n",
    "import openpyxl\n",
    "import warnings\n",
    "warnings.filterwarnings(\"ignore\")\n",
    "\n",
    "def perfromance(y_test,y_pred):\n",
    "    print('RMSE: ',RMSE1(y_test,y_pred))\n",
    "    print('MAPE: ',MAPE1(y_test,y_pred))\n",
    "    print(\"MAE: \",MAE1(y_test,y_pred))\n",
    "    print('r2_score: ',r2_score(y_test, y_pred))"
   ]
  },
  {
   "cell_type": "markdown",
   "metadata": {},
   "source": [
    "# Preprocessing "
   ]
  },
  {
   "cell_type": "code",
   "execution_count": 2,
   "metadata": {},
   "outputs": [],
   "source": [
    "def create_data(data, train_num, ahead_num):\n",
    "    train_num = round(0.8*len(data))\n",
    "    \n",
    "    dataX1, dataX2 = [], []\n",
    "    dataY1, dataY2 = [], []\n",
    "\n",
    "    for i in range(train_num - ahead_num):\n",
    "        # print(i)\n",
    "        a = data[i:(i + ahead_num), 0]\n",
    "        dataX1.append(a)\n",
    "    for j in range(train_num - ahead_num, len(data) - ahead_num):\n",
    "        b = data[j:(j + ahead_num), 0]\n",
    "        dataX2.append(b)\n",
    "\n",
    "    dataY1 = data[ahead_num:train_num, 0]\n",
    "    dataY2 = data[train_num:, 0]\n",
    "    return np.array(dataX1), np.array(dataY1), np.array(dataX2), np.array(dataY2)"
   ]
  },
  {
   "cell_type": "code",
   "execution_count": 3,
   "metadata": {},
   "outputs": [],
   "source": [
    "def load_data(filename, ahead_num,n):\n",
    "    dataset = pd.read_csv(filename,encoding='gbk')\n",
    "    dataset = pd.DataFrame(dataset)\n",
    "    dataPOV = dataset[['timeStamp','ghi']]\n",
    "\n",
    "    dataPOV['timeStamp'] = pd.to_datetime(dataPOV['timeStamp'])\n",
    "    dataPOV.set_index('timeStamp', inplace=True)\n",
    "    dataPOV = dataPOV.resample(f'{n}T').mean()\n",
    "    dataPOV.dropna(inplace=True)\n",
    "    \n",
    "    dataPOV = np.array(dataPOV).reshape(-1,1)\n",
    "\n",
    "    N1=7000\n",
    "    N2 = N1+1000\n",
    "    dataAll = dataPOV[:N2,:]\n",
    "    \n",
    "#     global scaler\n",
    "#     scaler = StandardScaler(copy=True,with_mean=True,with_std=True)\n",
    "#     dataAll = scaler.fit_transform(dataAll)\n",
    "\n",
    "    trainX, trainY, testX, testY = create_data(dataAll,N1,ahead_num)\n",
    "    \n",
    "    return trainX, trainY, testX, testY   #dataFll"
   ]
  },
  {
   "cell_type": "code",
   "execution_count": 4,
   "metadata": {},
   "outputs": [],
   "source": [
    "filename =  \"Folsom_irradiance.csv\""
   ]
  },
  {
   "cell_type": "code",
   "execution_count": 5,
   "metadata": {},
   "outputs": [],
   "source": [
    "n = 1\n",
    "ahead_num = 8\n",
    "X_train, y_train, X_test, y_test = load_data(filename, ahead_num,n)"
   ]
  },
  {
   "cell_type": "markdown",
   "metadata": {},
   "source": [
    "# Scaling"
   ]
  },
  {
   "cell_type": "code",
   "execution_count": 6,
   "metadata": {},
   "outputs": [],
   "source": [
    "# df = pd.read_csv(filename,encoding='gbk')"
   ]
  },
  {
   "cell_type": "code",
   "execution_count": 7,
   "metadata": {},
   "outputs": [],
   "source": [
    "from sklearn.preprocessing import StandardScaler\n",
    "sc_X = StandardScaler()\n",
    "X_train = sc_X.fit_transform(X_train)\n",
    "X_test = sc_X.transform(X_test)"
   ]
  },
  {
   "cell_type": "markdown",
   "metadata": {},
   "source": [
    "# Model"
   ]
  },
  {
   "cell_type": "code",
   "execution_count": 8,
   "metadata": {},
   "outputs": [
    {
     "data": {
      "text/plain": [
       "SVR()"
      ]
     },
     "execution_count": 8,
     "metadata": {},
     "output_type": "execute_result"
    }
   ],
   "source": [
    "from sklearn.svm import SVR\n",
    "regressor = SVR()\n",
    "regressor.fit(X_train, y_train)"
   ]
  },
  {
   "cell_type": "code",
   "execution_count": 9,
   "metadata": {},
   "outputs": [],
   "source": [
    "y_pred = regressor.predict(X_test)"
   ]
  },
  {
   "cell_type": "code",
   "execution_count": 10,
   "metadata": {},
   "outputs": [
    {
     "data": {
      "text/plain": [
       "array([ 36.81201938,  39.15290344,  41.56820328, ..., 331.59644618,\n",
       "       329.64125059, 327.75690078])"
      ]
     },
     "execution_count": 10,
     "metadata": {},
     "output_type": "execute_result"
    }
   ],
   "source": [
    "y_pred"
   ]
  },
  {
   "cell_type": "markdown",
   "metadata": {},
   "source": [
    "# Check the Performance"
   ]
  },
  {
   "cell_type": "code",
   "execution_count": 11,
   "metadata": {},
   "outputs": [
    {
     "data": {
      "text/html": [
       "<div>\n",
       "<style scoped>\n",
       "    .dataframe tbody tr th:only-of-type {\n",
       "        vertical-align: middle;\n",
       "    }\n",
       "\n",
       "    .dataframe tbody tr th {\n",
       "        vertical-align: top;\n",
       "    }\n",
       "\n",
       "    .dataframe thead th {\n",
       "        text-align: right;\n",
       "    }\n",
       "</style>\n",
       "<table border=\"1\" class=\"dataframe\">\n",
       "  <thead>\n",
       "    <tr style=\"text-align: right;\">\n",
       "      <th></th>\n",
       "      <th>Y_True</th>\n",
       "      <th>Y_Pred</th>\n",
       "      <th>mape</th>\n",
       "    </tr>\n",
       "  </thead>\n",
       "  <tbody>\n",
       "    <tr>\n",
       "      <th>0</th>\n",
       "      <td>45.63</td>\n",
       "      <td>36.812019</td>\n",
       "      <td>19.324963</td>\n",
       "    </tr>\n",
       "    <tr>\n",
       "      <th>1</th>\n",
       "      <td>48.43</td>\n",
       "      <td>39.152903</td>\n",
       "      <td>19.155682</td>\n",
       "    </tr>\n",
       "    <tr>\n",
       "      <th>2</th>\n",
       "      <td>51.35</td>\n",
       "      <td>41.568203</td>\n",
       "      <td>19.049263</td>\n",
       "    </tr>\n",
       "    <tr>\n",
       "      <th>3</th>\n",
       "      <td>54.38</td>\n",
       "      <td>44.080423</td>\n",
       "      <td>18.940009</td>\n",
       "    </tr>\n",
       "    <tr>\n",
       "      <th>4</th>\n",
       "      <td>57.14</td>\n",
       "      <td>46.718197</td>\n",
       "      <td>18.239067</td>\n",
       "    </tr>\n",
       "    <tr>\n",
       "      <th>...</th>\n",
       "      <td>...</td>\n",
       "      <td>...</td>\n",
       "      <td>...</td>\n",
       "    </tr>\n",
       "    <tr>\n",
       "      <th>1595</th>\n",
       "      <td>335.80</td>\n",
       "      <td>336.177138</td>\n",
       "      <td>0.112310</td>\n",
       "    </tr>\n",
       "    <tr>\n",
       "      <th>1596</th>\n",
       "      <td>333.30</td>\n",
       "      <td>333.968577</td>\n",
       "      <td>0.200593</td>\n",
       "    </tr>\n",
       "    <tr>\n",
       "      <th>1597</th>\n",
       "      <td>331.90</td>\n",
       "      <td>331.596446</td>\n",
       "      <td>0.091459</td>\n",
       "    </tr>\n",
       "    <tr>\n",
       "      <th>1598</th>\n",
       "      <td>330.10</td>\n",
       "      <td>329.641251</td>\n",
       "      <td>0.138973</td>\n",
       "    </tr>\n",
       "    <tr>\n",
       "      <th>1599</th>\n",
       "      <td>327.60</td>\n",
       "      <td>327.756901</td>\n",
       "      <td>0.047894</td>\n",
       "    </tr>\n",
       "  </tbody>\n",
       "</table>\n",
       "<p>1600 rows × 3 columns</p>\n",
       "</div>"
      ],
      "text/plain": [
       "      Y_True      Y_Pred       mape\n",
       "0      45.63   36.812019  19.324963\n",
       "1      48.43   39.152903  19.155682\n",
       "2      51.35   41.568203  19.049263\n",
       "3      54.38   44.080423  18.940009\n",
       "4      57.14   46.718197  18.239067\n",
       "...      ...         ...        ...\n",
       "1595  335.80  336.177138   0.112310\n",
       "1596  333.30  333.968577   0.200593\n",
       "1597  331.90  331.596446   0.091459\n",
       "1598  330.10  329.641251   0.138973\n",
       "1599  327.60  327.756901   0.047894\n",
       "\n",
       "[1600 rows x 3 columns]"
      ]
     },
     "execution_count": 11,
     "metadata": {},
     "output_type": "execute_result"
    }
   ],
   "source": [
    "d = pd.DataFrame({'Y_True':y_test,'Y_Pred':y_pred})\n",
    "d['mape'] =  abs(d['Y_True'] - d['Y_Pred'])*100/d['Y_True']\n",
    "d"
   ]
  },
  {
   "cell_type": "code",
   "execution_count": 12,
   "metadata": {},
   "outputs": [
    {
     "name": "stdout",
     "output_type": "stream",
     "text": [
      "RMSE:  12.231169329924942\n",
      "MAPE:  15.25695302277054\n",
      "MAE:  9.060598284431556\n",
      "r2_score:  0.9944672287759391\n"
     ]
    }
   ],
   "source": [
    "perfromance(y_test,y_pred)"
   ]
  },
  {
   "cell_type": "markdown",
   "metadata": {},
   "source": [
    "# Grid Search"
   ]
  },
  {
   "cell_type": "code",
   "execution_count": 13,
   "metadata": {},
   "outputs": [],
   "source": [
    "# parameters = {\n",
    "#     \"kernel\": [\"rbf\",'linear'], \n",
    "#     \"gamma\": ['scale', 'auto'], \n",
    "#     \"C\": 10.0 ** np.arange(-4, 4),\n",
    "# }\n",
    "\n",
    "parameters = {'C': [1, 10, 12], #14, 16, 18, 20, 22],\n",
    "            'gamma': [0.001, 0.01, 0.1, 1, 2, 5],\n",
    "            'epsilon': [0.001, 0.01, 0.1, 1, 2, 4],\n",
    "            'kernel': [\"rbf\", \"poly\"]}# , \"sigmoid\"]}"
   ]
  },
  {
   "cell_type": "code",
   "execution_count": 14,
   "metadata": {},
   "outputs": [],
   "source": [
    "from sklearn.model_selection import GridSearchCV\n",
    "from sklearn.metrics import make_scorer\n",
    "\n",
    "def my_mape(y_true,y_pred):\n",
    "    return MAPE1(y_true,y_pred)\n",
    "\n",
    "my_scorer = make_scorer(my_mape, greater_is_better=False)"
   ]
  },
  {
   "cell_type": "code",
   "execution_count": null,
   "metadata": {},
   "outputs": [
    {
     "name": "stdout",
     "output_type": "stream",
     "text": [
      "Fitting 5 folds for each of 216 candidates, totalling 1080 fits\n"
     ]
    }
   ],
   "source": [
    "# neg_mean_absolute_percentage_error\n",
    "clf = GridSearchCV(SVR(),cv=5,param_grid = parameters,n_jobs=-1,\n",
    "                   scoring='neg_mean_absolute_percentage_error',\n",
    "                   verbose=2,return_train_score=True)\n",
    "\n",
    "clf.fit(X_train, y_train)"
   ]
  },
  {
   "cell_type": "code",
   "execution_count": null,
   "metadata": {},
   "outputs": [],
   "source": [
    "print(clf.best_params_)"
   ]
  },
  {
   "cell_type": "code",
   "execution_count": null,
   "metadata": {},
   "outputs": [],
   "source": [
    "regressor_grid = SVR(C= 1000, gamma='scale', kernel= 'rbf')\n",
    "regressor_grid.fit(X_train, y_train)"
   ]
  },
  {
   "cell_type": "code",
   "execution_count": null,
   "metadata": {},
   "outputs": [],
   "source": [
    "y_pred_grid = regressor.predict(X_test)"
   ]
  },
  {
   "cell_type": "code",
   "execution_count": null,
   "metadata": {},
   "outputs": [],
   "source": [
    "perfromance(y_test,y_pred_grid)"
   ]
  },
  {
   "cell_type": "code",
   "execution_count": null,
   "metadata": {},
   "outputs": [],
   "source": [
    "RMSE:  12.231169329924942\n",
    "MAPE:  15.25695302277054\n",
    "MAE:  9.060598284431556\n",
    "r2_score:  0.9944672287759391"
   ]
  },
  {
   "cell_type": "markdown",
   "metadata": {},
   "source": [
    "# XgBoost"
   ]
  },
  {
   "cell_type": "code",
   "execution_count": 15,
   "metadata": {},
   "outputs": [
    {
     "name": "stdout",
     "output_type": "stream",
     "text": [
      "RMSE:  12.469483162486881\n",
      "MAPE:  4.003753583559036\n",
      "MAE:  10.71615132755041\n",
      "r2_score:  0.9942495257666389\n"
     ]
    }
   ],
   "source": [
    "import xgboost as xg\n",
    "\n",
    "# Instantiation\n",
    "xgb_r = xg.XGBRegressor(objective ='reg:squarederror',n_estimators = 10, seed = 123,n_jobs=-1,eval_metric='mape')\n",
    "\n",
    "# Fitting the model\n",
    "xgb_r.fit(X_train, y_train,eval_metric='mape')\n",
    "\n",
    "# Predict the model\n",
    "pred = xgb_r.predict(X_test)\n",
    "\n",
    "perfromance(y_test,pred)"
   ]
  },
  {
   "cell_type": "code",
   "execution_count": null,
   "metadata": {},
   "outputs": [],
   "source": [
    "RMSE:  12.231169329924942\n",
    "MAPE:  15.25695302277054\n",
    "MAE:  9.060598284431556\n",
    "r2_score:  0.9944672287759391"
   ]
  }
 ],
 "metadata": {
  "kernelspec": {
   "display_name": "Python 3",
   "language": "python",
   "name": "python3"
  },
  "language_info": {
   "codemirror_mode": {
    "name": "ipython",
    "version": 3
   },
   "file_extension": ".py",
   "mimetype": "text/x-python",
   "name": "python",
   "nbconvert_exporter": "python",
   "pygments_lexer": "ipython3",
   "version": "3.8.5"
  }
 },
 "nbformat": 4,
 "nbformat_minor": 4
}
