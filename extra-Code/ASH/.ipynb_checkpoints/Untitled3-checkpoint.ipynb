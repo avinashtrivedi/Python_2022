{
 "cells": [
  {
   "cell_type": "code",
   "execution_count": 1,
   "metadata": {},
   "outputs": [
    {
     "name": "stdout",
     "output_type": "stream",
     "text": [
      "Median of:[1, 3, 12, 15]  is: 7.5\n",
      "Median of:[5, 8, 12, 15, 17, 19, 21]  is: 15\n"
     ]
    }
   ],
   "source": [
    "def compute_median(numbers_sorted):\n",
    "    # assume input is sorted\n",
    "    # return the median of the list numbers\n",
    "\n",
    "    # Hint: consider the cases if the list has\n",
    "    #       an even or odd number of elements!!!\n",
    "    \n",
    "    # even\n",
    "    indx = len(numbers_sorted)//2\n",
    "    \n",
    "    if len(numbers_sorted)%2==0: \n",
    "        return (numbers_sorted[indx] + numbers_sorted[indx-1])/2\n",
    "    else:\n",
    "        return numbers_sorted[indx]\n",
    "        \n",
    "\n",
    "\n",
    "\n",
    "def main():\n",
    "    list_a = [1, 3, 12, 15] # assume sorted!\n",
    "    a_median = compute_median(list_a)\n",
    "    print(\"Median of:\" + str(list_a) + \"  is: \" + str(a_median))\n",
    "\n",
    "    list_b = [5,8,12,15,17,19,21] ### your code goes here! ###\n",
    "    b_median = compute_median(list_b)\n",
    "    print(\"Median of:\" + str(list_b) + \"  is: \" + str(b_median))\n",
    "\n",
    "\n",
    "\n",
    "if __name__ == \"__main__\":\n",
    "    main()\n"
   ]
  }
 ],
 "metadata": {
  "kernelspec": {
   "display_name": "Python 3",
   "language": "python",
   "name": "python3"
  },
  "language_info": {
   "codemirror_mode": {
    "name": "ipython",
    "version": 3
   },
   "file_extension": ".py",
   "mimetype": "text/x-python",
   "name": "python",
   "nbconvert_exporter": "python",
   "pygments_lexer": "ipython3",
   "version": "3.8.5"
  }
 },
 "nbformat": 4,
 "nbformat_minor": 4
}
