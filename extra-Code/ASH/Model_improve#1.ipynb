{
 "cells": [
  {
   "cell_type": "code",
   "execution_count": 1,
   "metadata": {},
   "outputs": [],
   "source": [
    "from tqdm import tqdm\n",
    "import numpy as np\n",
    "from sklearn.metrics import r2_score\n",
    "from matplotlib import pyplot as plt\n",
    "from sklearn.neural_network import MLPRegressor    #### MLP 感知机####\n",
    "from sklearn.tree import ExtraTreeRegressor        #### ExtraTree极端随机树回归####\n",
    "from sklearn import tree                           #### 决策树回归####\n",
    "from sklearn.ensemble import BaggingRegressor      #### Bagging回归####\n",
    "from sklearn.ensemble import AdaBoostRegressor     #### Adaboost回归\n",
    "from sklearn import linear_model                   #### 线性回归####\n",
    "from sklearn import svm                            #### SVM回归####\n",
    "from sklearn import ensemble                       #### Adaboost回归####  ####3.7GBRT回归####  ####3.5随机森林回归####\n",
    "from sklearn import neighbors                      #### KNN回归####\n",
    "from sklearn.preprocessing import StandardScaler\n",
    "import os\n",
    "import pandas as pd\n",
    "from evaluate_data import *\n",
    "import openpyxl\n",
    "import warnings\n",
    "warnings.filterwarnings(\"ignore\")\n",
    "\n",
    "def perfromance(y_test,y_pred):\n",
    "    print('RMSE: ',RMSE1(y_test,y_pred))\n",
    "    print('MAPE: ',MAPE1(y_test,y_pred))\n",
    "    print(\"MAE: \",MAE1(y_test,y_pred))\n",
    "    print('r2_score: ',r2_score(y_test, y_pred))"
   ]
  },
  {
   "cell_type": "markdown",
   "metadata": {},
   "source": [
    "# Preprocessing "
   ]
  },
  {
   "cell_type": "code",
   "execution_count": 2,
   "metadata": {},
   "outputs": [],
   "source": [
    "def create_data(data, train_num, ahead_num):\n",
    "    train_num = round(0.8*len(data))\n",
    "    \n",
    "    dataX1, dataX2 = [], []\n",
    "    dataY1, dataY2 = [], []\n",
    "\n",
    "    for i in range(train_num - ahead_num):\n",
    "        # print(i)\n",
    "        a = data[i:(i + ahead_num), 0]\n",
    "        dataX1.append(a)\n",
    "    for j in range(train_num - ahead_num, len(data) - ahead_num):\n",
    "        b = data[j:(j + ahead_num), 0]\n",
    "        dataX2.append(b)\n",
    "\n",
    "    dataY1 = data[ahead_num:train_num, 0]\n",
    "    dataY2 = data[train_num:, 0]\n",
    "    return np.array(dataX1), np.array(dataY1), np.array(dataX2), np.array(dataY2)"
   ]
  },
  {
   "cell_type": "code",
   "execution_count": 3,
   "metadata": {},
   "outputs": [],
   "source": [
    "def load_data(filename, ahead_num,n):\n",
    "    dataset = pd.read_csv(filename,encoding='gbk')\n",
    "    dataset = pd.DataFrame(dataset)\n",
    "    dataPOV = dataset[['timeStamp','ghi']]\n",
    "\n",
    "    dataPOV['timeStamp'] = pd.to_datetime(dataPOV['timeStamp'])\n",
    "    dataPOV.set_index('timeStamp', inplace=True)\n",
    "    dataPOV = dataPOV.resample(f'{n}T').mean()\n",
    "    dataPOV.dropna(inplace=True)\n",
    "    \n",
    "    dataPOV = np.array(dataPOV).reshape(-1,1)\n",
    "\n",
    "    N1=7000\n",
    "    N2 = N1+1000\n",
    "    dataAll = dataPOV[:N2,:]\n",
    "    \n",
    "#     global scaler\n",
    "#     scaler = StandardScaler(copy=True,with_mean=True,with_std=True)\n",
    "#     dataAll = scaler.fit_transform(dataAll)\n",
    "\n",
    "    trainX, trainY, testX, testY = create_data(dataAll,N1,ahead_num)\n",
    "    \n",
    "    return trainX, trainY, testX, testY   #dataFll"
   ]
  },
  {
   "cell_type": "code",
   "execution_count": 68,
   "metadata": {},
   "outputs": [],
   "source": [
    "filename =  \"Folsom_irradiance.csv\""
   ]
  },
  {
   "cell_type": "code",
   "execution_count": 69,
   "metadata": {},
   "outputs": [],
   "source": [
    "df = pd.read_csv(filename,encoding='gbk')"
   ]
  },
  {
   "cell_type": "code",
   "execution_count": 70,
   "metadata": {},
   "outputs": [],
   "source": [
    "df.dropna(inplace=True)"
   ]
  },
  {
   "cell_type": "code",
   "execution_count": 71,
   "metadata": {},
   "outputs": [
    {
     "data": {
      "text/html": [
       "<div>\n",
       "<style scoped>\n",
       "    .dataframe tbody tr th:only-of-type {\n",
       "        vertical-align: middle;\n",
       "    }\n",
       "\n",
       "    .dataframe tbody tr th {\n",
       "        vertical-align: top;\n",
       "    }\n",
       "\n",
       "    .dataframe thead th {\n",
       "        text-align: right;\n",
       "    }\n",
       "</style>\n",
       "<table border=\"1\" class=\"dataframe\">\n",
       "  <thead>\n",
       "    <tr style=\"text-align: right;\">\n",
       "      <th></th>\n",
       "      <th>timeStamp</th>\n",
       "      <th>ghi</th>\n",
       "      <th>air_temp</th>\n",
       "      <th>windsp</th>\n",
       "      <th>winddir</th>\n",
       "    </tr>\n",
       "  </thead>\n",
       "  <tbody>\n",
       "    <tr>\n",
       "      <th>0</th>\n",
       "      <td>2014/1/2 15:22</td>\n",
       "      <td>3.08</td>\n",
       "      <td>2.9</td>\n",
       "      <td>1.76</td>\n",
       "      <td>187.8</td>\n",
       "    </tr>\n",
       "    <tr>\n",
       "      <th>1</th>\n",
       "      <td>2014/1/2 15:23</td>\n",
       "      <td>3.08</td>\n",
       "      <td>2.9</td>\n",
       "      <td>1.90</td>\n",
       "      <td>197.8</td>\n",
       "    </tr>\n",
       "    <tr>\n",
       "      <th>2</th>\n",
       "      <td>2014/1/2 15:24</td>\n",
       "      <td>3.18</td>\n",
       "      <td>2.9</td>\n",
       "      <td>1.82</td>\n",
       "      <td>199.4</td>\n",
       "    </tr>\n",
       "    <tr>\n",
       "      <th>3</th>\n",
       "      <td>2014/1/2 15:25</td>\n",
       "      <td>3.80</td>\n",
       "      <td>2.9</td>\n",
       "      <td>2.22</td>\n",
       "      <td>197.2</td>\n",
       "    </tr>\n",
       "    <tr>\n",
       "      <th>4</th>\n",
       "      <td>2014/1/2 15:26</td>\n",
       "      <td>4.00</td>\n",
       "      <td>2.9</td>\n",
       "      <td>2.30</td>\n",
       "      <td>212.3</td>\n",
       "    </tr>\n",
       "  </tbody>\n",
       "</table>\n",
       "</div>"
      ],
      "text/plain": [
       "        timeStamp   ghi  air_temp  windsp  winddir\n",
       "0  2014/1/2 15:22  3.08       2.9    1.76    187.8\n",
       "1  2014/1/2 15:23  3.08       2.9    1.90    197.8\n",
       "2  2014/1/2 15:24  3.18       2.9    1.82    199.4\n",
       "3  2014/1/2 15:25  3.80       2.9    2.22    197.2\n",
       "4  2014/1/2 15:26  4.00       2.9    2.30    212.3"
      ]
     },
     "execution_count": 71,
     "metadata": {},
     "output_type": "execute_result"
    }
   ],
   "source": [
    "df.head()"
   ]
  },
  {
   "cell_type": "code",
   "execution_count": 72,
   "metadata": {},
   "outputs": [
    {
     "data": {
      "text/plain": [
       "(533466, 5)"
      ]
     },
     "execution_count": 72,
     "metadata": {},
     "output_type": "execute_result"
    }
   ],
   "source": [
    "df.shape"
   ]
  },
  {
   "cell_type": "code",
   "execution_count": 73,
   "metadata": {},
   "outputs": [],
   "source": [
    "df = df.iloc[:50000]"
   ]
  },
  {
   "cell_type": "code",
   "execution_count": 74,
   "metadata": {},
   "outputs": [],
   "source": [
    "df = df[['air_temp','windsp','winddir','ghi']]"
   ]
  },
  {
   "cell_type": "code",
   "execution_count": 75,
   "metadata": {},
   "outputs": [],
   "source": [
    "# X = df[['air_temp','windsp','winddir']]\n",
    "# y = df['ghi']"
   ]
  },
  {
   "cell_type": "code",
   "execution_count": 76,
   "metadata": {},
   "outputs": [],
   "source": [
    "df_main = pd.concat([df,df.shift(-1),df.shift(-2),df.shift(-3),df.shift(-4)],axis=1)\n",
    "df_main['Target_ghi'] = df['ghi'].shift(-5)"
   ]
  },
  {
   "cell_type": "code",
   "execution_count": 77,
   "metadata": {},
   "outputs": [],
   "source": []
  },
  {
   "cell_type": "code",
   "execution_count": 78,
   "metadata": {},
   "outputs": [],
   "source": [
    "df_main.dropna(inplace=True)"
   ]
  },
  {
   "cell_type": "code",
   "execution_count": 79,
   "metadata": {},
   "outputs": [
    {
     "data": {
      "text/html": [
       "<div>\n",
       "<style scoped>\n",
       "    .dataframe tbody tr th:only-of-type {\n",
       "        vertical-align: middle;\n",
       "    }\n",
       "\n",
       "    .dataframe tbody tr th {\n",
       "        vertical-align: top;\n",
       "    }\n",
       "\n",
       "    .dataframe thead th {\n",
       "        text-align: right;\n",
       "    }\n",
       "</style>\n",
       "<table border=\"1\" class=\"dataframe\">\n",
       "  <thead>\n",
       "    <tr style=\"text-align: right;\">\n",
       "      <th></th>\n",
       "      <th>air_temp</th>\n",
       "      <th>windsp</th>\n",
       "      <th>winddir</th>\n",
       "      <th>ghi</th>\n",
       "      <th>air_temp</th>\n",
       "      <th>windsp</th>\n",
       "      <th>winddir</th>\n",
       "      <th>ghi</th>\n",
       "      <th>air_temp</th>\n",
       "      <th>windsp</th>\n",
       "      <th>...</th>\n",
       "      <th>ghi</th>\n",
       "      <th>air_temp</th>\n",
       "      <th>windsp</th>\n",
       "      <th>winddir</th>\n",
       "      <th>ghi</th>\n",
       "      <th>air_temp</th>\n",
       "      <th>windsp</th>\n",
       "      <th>winddir</th>\n",
       "      <th>ghi</th>\n",
       "      <th>Target_ghi</th>\n",
       "    </tr>\n",
       "  </thead>\n",
       "  <tbody>\n",
       "    <tr>\n",
       "      <th>0</th>\n",
       "      <td>2.90</td>\n",
       "      <td>1.76</td>\n",
       "      <td>187.8</td>\n",
       "      <td>3.08</td>\n",
       "      <td>2.90</td>\n",
       "      <td>1.90</td>\n",
       "      <td>197.8</td>\n",
       "      <td>3.08</td>\n",
       "      <td>2.90</td>\n",
       "      <td>1.82</td>\n",
       "      <td>...</td>\n",
       "      <td>3.18</td>\n",
       "      <td>2.90</td>\n",
       "      <td>2.22</td>\n",
       "      <td>197.2</td>\n",
       "      <td>3.80</td>\n",
       "      <td>2.90</td>\n",
       "      <td>2.30</td>\n",
       "      <td>212.3</td>\n",
       "      <td>4.00</td>\n",
       "      <td>4.62</td>\n",
       "    </tr>\n",
       "    <tr>\n",
       "      <th>1</th>\n",
       "      <td>2.90</td>\n",
       "      <td>1.90</td>\n",
       "      <td>197.8</td>\n",
       "      <td>3.08</td>\n",
       "      <td>2.90</td>\n",
       "      <td>1.82</td>\n",
       "      <td>199.4</td>\n",
       "      <td>3.18</td>\n",
       "      <td>2.90</td>\n",
       "      <td>2.22</td>\n",
       "      <td>...</td>\n",
       "      <td>3.80</td>\n",
       "      <td>2.90</td>\n",
       "      <td>2.30</td>\n",
       "      <td>212.3</td>\n",
       "      <td>4.00</td>\n",
       "      <td>2.86</td>\n",
       "      <td>2.14</td>\n",
       "      <td>248.7</td>\n",
       "      <td>4.62</td>\n",
       "      <td>4.87</td>\n",
       "    </tr>\n",
       "    <tr>\n",
       "      <th>2</th>\n",
       "      <td>2.90</td>\n",
       "      <td>1.82</td>\n",
       "      <td>199.4</td>\n",
       "      <td>3.18</td>\n",
       "      <td>2.90</td>\n",
       "      <td>2.22</td>\n",
       "      <td>197.2</td>\n",
       "      <td>3.80</td>\n",
       "      <td>2.90</td>\n",
       "      <td>2.30</td>\n",
       "      <td>...</td>\n",
       "      <td>4.00</td>\n",
       "      <td>2.86</td>\n",
       "      <td>2.14</td>\n",
       "      <td>248.7</td>\n",
       "      <td>4.62</td>\n",
       "      <td>2.80</td>\n",
       "      <td>2.00</td>\n",
       "      <td>199.6</td>\n",
       "      <td>4.87</td>\n",
       "      <td>5.59</td>\n",
       "    </tr>\n",
       "    <tr>\n",
       "      <th>3</th>\n",
       "      <td>2.90</td>\n",
       "      <td>2.22</td>\n",
       "      <td>197.2</td>\n",
       "      <td>3.80</td>\n",
       "      <td>2.90</td>\n",
       "      <td>2.30</td>\n",
       "      <td>212.3</td>\n",
       "      <td>4.00</td>\n",
       "      <td>2.86</td>\n",
       "      <td>2.14</td>\n",
       "      <td>...</td>\n",
       "      <td>4.62</td>\n",
       "      <td>2.80</td>\n",
       "      <td>2.00</td>\n",
       "      <td>199.6</td>\n",
       "      <td>4.87</td>\n",
       "      <td>2.70</td>\n",
       "      <td>1.74</td>\n",
       "      <td>190.4</td>\n",
       "      <td>5.59</td>\n",
       "      <td>1.23</td>\n",
       "    </tr>\n",
       "    <tr>\n",
       "      <th>4</th>\n",
       "      <td>2.90</td>\n",
       "      <td>2.30</td>\n",
       "      <td>212.3</td>\n",
       "      <td>4.00</td>\n",
       "      <td>2.86</td>\n",
       "      <td>2.14</td>\n",
       "      <td>248.7</td>\n",
       "      <td>4.62</td>\n",
       "      <td>2.80</td>\n",
       "      <td>2.00</td>\n",
       "      <td>...</td>\n",
       "      <td>4.87</td>\n",
       "      <td>2.70</td>\n",
       "      <td>1.74</td>\n",
       "      <td>190.4</td>\n",
       "      <td>5.59</td>\n",
       "      <td>2.70</td>\n",
       "      <td>1.78</td>\n",
       "      <td>193.6</td>\n",
       "      <td>1.23</td>\n",
       "      <td>1.62</td>\n",
       "    </tr>\n",
       "    <tr>\n",
       "      <th>...</th>\n",
       "      <td>...</td>\n",
       "      <td>...</td>\n",
       "      <td>...</td>\n",
       "      <td>...</td>\n",
       "      <td>...</td>\n",
       "      <td>...</td>\n",
       "      <td>...</td>\n",
       "      <td>...</td>\n",
       "      <td>...</td>\n",
       "      <td>...</td>\n",
       "      <td>...</td>\n",
       "      <td>...</td>\n",
       "      <td>...</td>\n",
       "      <td>...</td>\n",
       "      <td>...</td>\n",
       "      <td>...</td>\n",
       "      <td>...</td>\n",
       "      <td>...</td>\n",
       "      <td>...</td>\n",
       "      <td>...</td>\n",
       "      <td>...</td>\n",
       "    </tr>\n",
       "    <tr>\n",
       "      <th>49991</th>\n",
       "      <td>11.00</td>\n",
       "      <td>1.22</td>\n",
       "      <td>142.9</td>\n",
       "      <td>230.80</td>\n",
       "      <td>11.00</td>\n",
       "      <td>0.70</td>\n",
       "      <td>165.4</td>\n",
       "      <td>231.00</td>\n",
       "      <td>11.08</td>\n",
       "      <td>0.88</td>\n",
       "      <td>...</td>\n",
       "      <td>229.80</td>\n",
       "      <td>11.18</td>\n",
       "      <td>1.04</td>\n",
       "      <td>169.1</td>\n",
       "      <td>227.90</td>\n",
       "      <td>11.20</td>\n",
       "      <td>1.74</td>\n",
       "      <td>170.0</td>\n",
       "      <td>225.20</td>\n",
       "      <td>223.20</td>\n",
       "    </tr>\n",
       "    <tr>\n",
       "      <th>49992</th>\n",
       "      <td>11.00</td>\n",
       "      <td>0.70</td>\n",
       "      <td>165.4</td>\n",
       "      <td>231.00</td>\n",
       "      <td>11.08</td>\n",
       "      <td>0.88</td>\n",
       "      <td>147.8</td>\n",
       "      <td>229.80</td>\n",
       "      <td>11.18</td>\n",
       "      <td>1.04</td>\n",
       "      <td>...</td>\n",
       "      <td>227.90</td>\n",
       "      <td>11.20</td>\n",
       "      <td>1.74</td>\n",
       "      <td>170.0</td>\n",
       "      <td>225.20</td>\n",
       "      <td>11.20</td>\n",
       "      <td>1.74</td>\n",
       "      <td>127.8</td>\n",
       "      <td>223.20</td>\n",
       "      <td>221.50</td>\n",
       "    </tr>\n",
       "    <tr>\n",
       "      <th>49993</th>\n",
       "      <td>11.08</td>\n",
       "      <td>0.88</td>\n",
       "      <td>147.8</td>\n",
       "      <td>229.80</td>\n",
       "      <td>11.18</td>\n",
       "      <td>1.04</td>\n",
       "      <td>169.1</td>\n",
       "      <td>227.90</td>\n",
       "      <td>11.20</td>\n",
       "      <td>1.74</td>\n",
       "      <td>...</td>\n",
       "      <td>225.20</td>\n",
       "      <td>11.20</td>\n",
       "      <td>1.74</td>\n",
       "      <td>127.8</td>\n",
       "      <td>223.20</td>\n",
       "      <td>11.20</td>\n",
       "      <td>1.12</td>\n",
       "      <td>146.3</td>\n",
       "      <td>221.50</td>\n",
       "      <td>219.60</td>\n",
       "    </tr>\n",
       "    <tr>\n",
       "      <th>49994</th>\n",
       "      <td>11.18</td>\n",
       "      <td>1.04</td>\n",
       "      <td>169.1</td>\n",
       "      <td>227.90</td>\n",
       "      <td>11.20</td>\n",
       "      <td>1.74</td>\n",
       "      <td>170.0</td>\n",
       "      <td>225.20</td>\n",
       "      <td>11.20</td>\n",
       "      <td>1.74</td>\n",
       "      <td>...</td>\n",
       "      <td>223.20</td>\n",
       "      <td>11.20</td>\n",
       "      <td>1.12</td>\n",
       "      <td>146.3</td>\n",
       "      <td>221.50</td>\n",
       "      <td>11.20</td>\n",
       "      <td>0.76</td>\n",
       "      <td>145.3</td>\n",
       "      <td>219.60</td>\n",
       "      <td>216.80</td>\n",
       "    </tr>\n",
       "    <tr>\n",
       "      <th>49995</th>\n",
       "      <td>11.20</td>\n",
       "      <td>1.74</td>\n",
       "      <td>170.0</td>\n",
       "      <td>225.20</td>\n",
       "      <td>11.20</td>\n",
       "      <td>1.74</td>\n",
       "      <td>127.8</td>\n",
       "      <td>223.20</td>\n",
       "      <td>11.20</td>\n",
       "      <td>1.12</td>\n",
       "      <td>...</td>\n",
       "      <td>221.50</td>\n",
       "      <td>11.20</td>\n",
       "      <td>0.76</td>\n",
       "      <td>145.3</td>\n",
       "      <td>219.60</td>\n",
       "      <td>11.26</td>\n",
       "      <td>1.34</td>\n",
       "      <td>150.0</td>\n",
       "      <td>216.80</td>\n",
       "      <td>215.00</td>\n",
       "    </tr>\n",
       "  </tbody>\n",
       "</table>\n",
       "<p>49995 rows × 21 columns</p>\n",
       "</div>"
      ],
      "text/plain": [
       "       air_temp  windsp  winddir     ghi  air_temp  windsp  winddir     ghi  \\\n",
       "0          2.90    1.76    187.8    3.08      2.90    1.90    197.8    3.08   \n",
       "1          2.90    1.90    197.8    3.08      2.90    1.82    199.4    3.18   \n",
       "2          2.90    1.82    199.4    3.18      2.90    2.22    197.2    3.80   \n",
       "3          2.90    2.22    197.2    3.80      2.90    2.30    212.3    4.00   \n",
       "4          2.90    2.30    212.3    4.00      2.86    2.14    248.7    4.62   \n",
       "...         ...     ...      ...     ...       ...     ...      ...     ...   \n",
       "49991     11.00    1.22    142.9  230.80     11.00    0.70    165.4  231.00   \n",
       "49992     11.00    0.70    165.4  231.00     11.08    0.88    147.8  229.80   \n",
       "49993     11.08    0.88    147.8  229.80     11.18    1.04    169.1  227.90   \n",
       "49994     11.18    1.04    169.1  227.90     11.20    1.74    170.0  225.20   \n",
       "49995     11.20    1.74    170.0  225.20     11.20    1.74    127.8  223.20   \n",
       "\n",
       "       air_temp  windsp  ...     ghi  air_temp  windsp  winddir     ghi  \\\n",
       "0          2.90    1.82  ...    3.18      2.90    2.22    197.2    3.80   \n",
       "1          2.90    2.22  ...    3.80      2.90    2.30    212.3    4.00   \n",
       "2          2.90    2.30  ...    4.00      2.86    2.14    248.7    4.62   \n",
       "3          2.86    2.14  ...    4.62      2.80    2.00    199.6    4.87   \n",
       "4          2.80    2.00  ...    4.87      2.70    1.74    190.4    5.59   \n",
       "...         ...     ...  ...     ...       ...     ...      ...     ...   \n",
       "49991     11.08    0.88  ...  229.80     11.18    1.04    169.1  227.90   \n",
       "49992     11.18    1.04  ...  227.90     11.20    1.74    170.0  225.20   \n",
       "49993     11.20    1.74  ...  225.20     11.20    1.74    127.8  223.20   \n",
       "49994     11.20    1.74  ...  223.20     11.20    1.12    146.3  221.50   \n",
       "49995     11.20    1.12  ...  221.50     11.20    0.76    145.3  219.60   \n",
       "\n",
       "       air_temp  windsp  winddir     ghi  Target_ghi  \n",
       "0          2.90    2.30    212.3    4.00        4.62  \n",
       "1          2.86    2.14    248.7    4.62        4.87  \n",
       "2          2.80    2.00    199.6    4.87        5.59  \n",
       "3          2.70    1.74    190.4    5.59        1.23  \n",
       "4          2.70    1.78    193.6    1.23        1.62  \n",
       "...         ...     ...      ...     ...         ...  \n",
       "49991     11.20    1.74    170.0  225.20      223.20  \n",
       "49992     11.20    1.74    127.8  223.20      221.50  \n",
       "49993     11.20    1.12    146.3  221.50      219.60  \n",
       "49994     11.20    0.76    145.3  219.60      216.80  \n",
       "49995     11.26    1.34    150.0  216.80      215.00  \n",
       "\n",
       "[49995 rows x 21 columns]"
      ]
     },
     "execution_count": 79,
     "metadata": {},
     "output_type": "execute_result"
    }
   ],
   "source": [
    "df_main"
   ]
  },
  {
   "cell_type": "code",
   "execution_count": 80,
   "metadata": {},
   "outputs": [],
   "source": [
    "X = df_main.drop('Target_ghi',axis=1).values\n",
    "y = df_main['Target_ghi'].values"
   ]
  },
  {
   "cell_type": "code",
   "execution_count": 81,
   "metadata": {},
   "outputs": [],
   "source": [
    "from sklearn.model_selection import train_test_split\n",
    "X_train, X_test, y_train, y_test = train_test_split(X, y, test_size = 0.2, random_state = 0)"
   ]
  },
  {
   "cell_type": "code",
   "execution_count": 12,
   "metadata": {},
   "outputs": [],
   "source": [
    "# n = 1\n",
    "# ahead_num = 8\n",
    "# X_train, y_train, X_test, y_test = load_data(filename, ahead_num,n)"
   ]
  },
  {
   "cell_type": "markdown",
   "metadata": {},
   "source": [
    "# Scaling"
   ]
  },
  {
   "cell_type": "code",
   "execution_count": 13,
   "metadata": {},
   "outputs": [],
   "source": [
    "# df = pd.read_csv(filename,encoding='gbk')"
   ]
  },
  {
   "cell_type": "code",
   "execution_count": 82,
   "metadata": {},
   "outputs": [],
   "source": [
    "from sklearn.preprocessing import MinMaxScaler\n",
    "sc_X = MinMaxScaler()\n",
    "X_train = sc_X.fit_transform(X_train)\n",
    "X_test = sc_X.transform(X_test)"
   ]
  },
  {
   "cell_type": "markdown",
   "metadata": {},
   "source": [
    "# Model SVR"
   ]
  },
  {
   "cell_type": "code",
   "execution_count": 83,
   "metadata": {},
   "outputs": [
    {
     "data": {
      "text/plain": [
       "SVR()"
      ]
     },
     "execution_count": 83,
     "metadata": {},
     "output_type": "execute_result"
    }
   ],
   "source": [
    "from sklearn.svm import SVR\n",
    "regressor = SVR()\n",
    "regressor.fit(X_train, y_train)"
   ]
  },
  {
   "cell_type": "code",
   "execution_count": 84,
   "metadata": {},
   "outputs": [],
   "source": [
    "y_pred = regressor.predict(X_test)"
   ]
  },
  {
   "cell_type": "code",
   "execution_count": 85,
   "metadata": {},
   "outputs": [
    {
     "data": {
      "text/plain": [
       "array([106.14849958,  21.91702265, 522.80375261, ..., 175.66089244,\n",
       "        76.26679039,  61.70190755])"
      ]
     },
     "execution_count": 85,
     "metadata": {},
     "output_type": "execute_result"
    }
   ],
   "source": [
    "y_pred"
   ]
  },
  {
   "cell_type": "code",
   "execution_count": null,
   "metadata": {},
   "outputs": [],
   "source": []
  },
  {
   "cell_type": "code",
   "execution_count": null,
   "metadata": {},
   "outputs": [],
   "source": [
    "from sklearn.tree import DecisionTreeRegressor\n",
    "regressor = DecisionTreeRegressor(random_state = 0)\n",
    "regressor.fit(X_train, y_train)"
   ]
  },
  {
   "cell_type": "code",
   "execution_count": 89,
   "metadata": {},
   "outputs": [
    {
     "data": {
      "text/plain": [
       "RandomForestRegressor(n_estimators=300, random_state=0)"
      ]
     },
     "execution_count": 89,
     "metadata": {},
     "output_type": "execute_result"
    }
   ],
   "source": [
    "from sklearn.ensemble import RandomForestRegressor\n",
    "regressorRF = RandomForestRegressor(n_estimators = 300, random_state = 0)\n",
    "regressorRF.fit(X_train, y_train)"
   ]
  },
  {
   "cell_type": "code",
   "execution_count": 90,
   "metadata": {},
   "outputs": [],
   "source": [
    "y_predRF = regressorRF.predict(X_test)"
   ]
  },
  {
   "cell_type": "markdown",
   "metadata": {},
   "source": [
    "# Check the Performance"
   ]
  },
  {
   "cell_type": "code",
   "execution_count": 86,
   "metadata": {},
   "outputs": [
    {
     "data": {
      "text/html": [
       "<div>\n",
       "<style scoped>\n",
       "    .dataframe tbody tr th:only-of-type {\n",
       "        vertical-align: middle;\n",
       "    }\n",
       "\n",
       "    .dataframe tbody tr th {\n",
       "        vertical-align: top;\n",
       "    }\n",
       "\n",
       "    .dataframe thead th {\n",
       "        text-align: right;\n",
       "    }\n",
       "</style>\n",
       "<table border=\"1\" class=\"dataframe\">\n",
       "  <thead>\n",
       "    <tr style=\"text-align: right;\">\n",
       "      <th></th>\n",
       "      <th>Y_True</th>\n",
       "      <th>Y_Pred</th>\n",
       "      <th>mape</th>\n",
       "    </tr>\n",
       "  </thead>\n",
       "  <tbody>\n",
       "    <tr>\n",
       "      <th>0</th>\n",
       "      <td>81.50</td>\n",
       "      <td>106.148500</td>\n",
       "      <td>30.243558</td>\n",
       "    </tr>\n",
       "    <tr>\n",
       "      <th>1</th>\n",
       "      <td>13.44</td>\n",
       "      <td>21.917023</td>\n",
       "      <td>63.073085</td>\n",
       "    </tr>\n",
       "    <tr>\n",
       "      <th>2</th>\n",
       "      <td>522.00</td>\n",
       "      <td>522.803753</td>\n",
       "      <td>0.153976</td>\n",
       "    </tr>\n",
       "    <tr>\n",
       "      <th>3</th>\n",
       "      <td>91.70</td>\n",
       "      <td>93.710873</td>\n",
       "      <td>2.192882</td>\n",
       "    </tr>\n",
       "    <tr>\n",
       "      <th>4</th>\n",
       "      <td>270.40</td>\n",
       "      <td>261.475559</td>\n",
       "      <td>3.300459</td>\n",
       "    </tr>\n",
       "    <tr>\n",
       "      <th>...</th>\n",
       "      <td>...</td>\n",
       "      <td>...</td>\n",
       "      <td>...</td>\n",
       "    </tr>\n",
       "    <tr>\n",
       "      <th>9994</th>\n",
       "      <td>133.80</td>\n",
       "      <td>102.691664</td>\n",
       "      <td>23.249877</td>\n",
       "    </tr>\n",
       "    <tr>\n",
       "      <th>9995</th>\n",
       "      <td>564.00</td>\n",
       "      <td>534.612998</td>\n",
       "      <td>5.210461</td>\n",
       "    </tr>\n",
       "    <tr>\n",
       "      <th>9996</th>\n",
       "      <td>182.70</td>\n",
       "      <td>175.660892</td>\n",
       "      <td>3.852823</td>\n",
       "    </tr>\n",
       "    <tr>\n",
       "      <th>9997</th>\n",
       "      <td>64.75</td>\n",
       "      <td>76.266790</td>\n",
       "      <td>17.786549</td>\n",
       "    </tr>\n",
       "    <tr>\n",
       "      <th>9998</th>\n",
       "      <td>47.10</td>\n",
       "      <td>61.701908</td>\n",
       "      <td>31.001927</td>\n",
       "    </tr>\n",
       "  </tbody>\n",
       "</table>\n",
       "<p>9999 rows × 3 columns</p>\n",
       "</div>"
      ],
      "text/plain": [
       "      Y_True      Y_Pred       mape\n",
       "0      81.50  106.148500  30.243558\n",
       "1      13.44   21.917023  63.073085\n",
       "2     522.00  522.803753   0.153976\n",
       "3      91.70   93.710873   2.192882\n",
       "4     270.40  261.475559   3.300459\n",
       "...      ...         ...        ...\n",
       "9994  133.80  102.691664  23.249877\n",
       "9995  564.00  534.612998   5.210461\n",
       "9996  182.70  175.660892   3.852823\n",
       "9997   64.75   76.266790  17.786549\n",
       "9998   47.10   61.701908  31.001927\n",
       "\n",
       "[9999 rows x 3 columns]"
      ]
     },
     "execution_count": 86,
     "metadata": {},
     "output_type": "execute_result"
    }
   ],
   "source": [
    "d = pd.DataFrame({'Y_True':y_test,'Y_Pred':y_pred})\n",
    "d['mape'] =  abs(d['Y_True'] - d['Y_Pred'])*100/d['Y_True']\n",
    "d"
   ]
  },
  {
   "cell_type": "code",
   "execution_count": 91,
   "metadata": {},
   "outputs": [
    {
     "data": {
      "text/plain": [
       "5.003675309753071"
      ]
     },
     "execution_count": 91,
     "metadata": {},
     "output_type": "execute_result"
    }
   ],
   "source": [
    "MAPE1(y_test,y_predRF)"
   ]
  },
  {
   "cell_type": "code",
   "execution_count": 92,
   "metadata": {},
   "outputs": [
    {
     "name": "stdout",
     "output_type": "stream",
     "text": [
      "RMSE:  35.88828820423479\n",
      "MAPE:  5.003675309753071\n",
      "MAE:  10.577455842250888\n",
      "r2_score:  0.9784464116337578\n"
     ]
    }
   ],
   "source": [
    "perfromance(y_test,y_predRF)"
   ]
  },
  {
   "cell_type": "code",
   "execution_count": null,
   "metadata": {},
   "outputs": [],
   "source": [
    "RMSE:  46.87575755853037\n",
    "MAPE:  79.19518879269995\n",
    "MAE:  22.591594714909693\n",
    "r2_score:  0.9632285550981166"
   ]
  },
  {
   "cell_type": "markdown",
   "metadata": {},
   "source": [
    "# Grid Search"
   ]
  },
  {
   "cell_type": "code",
   "execution_count": null,
   "metadata": {},
   "outputs": [],
   "source": [
    "# parameters = {\n",
    "#     \"kernel\": [\"rbf\",'linear'], \n",
    "#     \"gamma\": ['scale', 'auto'], \n",
    "#     \"C\": 10.0 ** np.arange(-4, 4),\n",
    "# }\n",
    "\n",
    "parameters = {'C': [1, 10, 12], #14, 16, 18, 20, 22],\n",
    "            'gamma': [0.001, 0.01, 0.1, 1, 2, 5],\n",
    "            'epsilon': [0.001, 0.01, 0.1, 1, 2, 4],\n",
    "            'kernel': [\"rbf\", \"poly\"]}# , \"sigmoid\"]}"
   ]
  },
  {
   "cell_type": "code",
   "execution_count": null,
   "metadata": {},
   "outputs": [],
   "source": [
    "from sklearn.model_selection import GridSearchCV\n",
    "from sklearn.metrics import make_scorer\n",
    "\n",
    "def my_mape(y_true,y_pred):\n",
    "    return MAPE1(y_true,y_pred)\n",
    "\n",
    "my_scorer = make_scorer(my_mape, greater_is_better=False)"
   ]
  },
  {
   "cell_type": "code",
   "execution_count": null,
   "metadata": {},
   "outputs": [],
   "source": [
    "# neg_mean_absolute_percentage_error\n",
    "clf = GridSearchCV(SVR(),cv=5,param_grid = parameters,n_jobs=-1,\n",
    "                   scoring='neg_mean_absolute_percentage_error',\n",
    "                   verbose=2,return_train_score=True)\n",
    "\n",
    "clf.fit(X_train, y_train)"
   ]
  },
  {
   "cell_type": "code",
   "execution_count": null,
   "metadata": {},
   "outputs": [],
   "source": [
    "print(clf.best_params_)"
   ]
  },
  {
   "cell_type": "code",
   "execution_count": null,
   "metadata": {},
   "outputs": [],
   "source": [
    "regressor_grid = SVR(C= 1000, gamma='scale', kernel= 'rbf')\n",
    "regressor_grid.fit(X_train, y_train)"
   ]
  },
  {
   "cell_type": "code",
   "execution_count": null,
   "metadata": {},
   "outputs": [],
   "source": [
    "y_pred_grid = regressor.predict(X_test)"
   ]
  },
  {
   "cell_type": "code",
   "execution_count": null,
   "metadata": {},
   "outputs": [],
   "source": [
    "perfromance(y_test,y_pred_grid)"
   ]
  },
  {
   "cell_type": "code",
   "execution_count": null,
   "metadata": {},
   "outputs": [],
   "source": [
    "RMSE:  12.231169329924942\n",
    "MAPE:  15.25695302277054\n",
    "MAE:  9.060598284431556\n",
    "r2_score:  0.9944672287759391"
   ]
  },
  {
   "cell_type": "markdown",
   "metadata": {},
   "source": [
    "# XgBoost"
   ]
  },
  {
   "cell_type": "code",
   "execution_count": 93,
   "metadata": {},
   "outputs": [
    {
     "name": "stdout",
     "output_type": "stream",
     "text": [
      "RMSE:  36.65087095001673\n",
      "MAPE:  9.251561486167653\n",
      "MAE:  11.605975677739515\n",
      "r2_score:  0.9775207045472324\n"
     ]
    }
   ],
   "source": [
    "import xgboost as xg\n",
    "\n",
    "# Instantiation\n",
    "xgb_r = xg.XGBRegressor()\n",
    "\n",
    "# Fitting the model\n",
    "xgb_r.fit(X_train, y_train)\n",
    "\n",
    "# Predict the model\n",
    "pred = xgb_r.predict(X_test)\n",
    "\n",
    "perfromance(y_test,pred)"
   ]
  },
  {
   "cell_type": "code",
   "execution_count": null,
   "metadata": {},
   "outputs": [],
   "source": []
  }
 ],
 "metadata": {
  "kernelspec": {
   "display_name": "Python 3",
   "language": "python",
   "name": "python3"
  },
  "language_info": {
   "codemirror_mode": {
    "name": "ipython",
    "version": 3
   },
   "file_extension": ".py",
   "mimetype": "text/x-python",
   "name": "python",
   "nbconvert_exporter": "python",
   "pygments_lexer": "ipython3",
   "version": "3.8.5"
  }
 },
 "nbformat": 4,
 "nbformat_minor": 4
}
