{
 "cells": [
  {
   "cell_type": "code",
   "execution_count": 1,
   "id": "ad1f7a01",
   "metadata": {},
   "outputs": [],
   "source": [
    "def avg(x):\n",
    "    total = 0\n",
    "    for i in x:\n",
    "        total = total + i\n",
    "    average = total/len(x)\n",
    "    return average"
   ]
  },
  {
   "cell_type": "code",
   "execution_count": 2,
   "id": "c78a0726",
   "metadata": {},
   "outputs": [],
   "source": [
    "def median(x):\n",
    "    mid = len(x)//2\n",
    "    \n",
    "    if len(x)%2!=0:\n",
    "        return x[mid]\n",
    "    else:\n",
    "        return (x[mid] + x[mid-1])/2"
   ]
  },
  {
   "cell_type": "code",
   "execution_count": 3,
   "id": "9545dc15",
   "metadata": {},
   "outputs": [],
   "source": [
    "def percentile(tmax_list,percent):\n",
    "    q2 = median(tmax_list)\n",
    "    for i in range(len(tmax_list)):\n",
    "        if tmax_list[i]<=q2:\n",
    "            indx = i\n",
    "        else:\n",
    "            break\n",
    "    q1 = median(tmax_list[:indx+1])\n",
    "    q3 = median(tmax_list[indx+1:])\n",
    "    \n",
    "    if percent==.25:\n",
    "        return q1\n",
    "    elif percent==.5:\n",
    "        return q2\n",
    "    elif percent==.75:\n",
    "        return q3"
   ]
  },
  {
   "cell_type": "code",
   "execution_count": 6,
   "id": "74baed27",
   "metadata": {},
   "outputs": [
    {
     "name": "stdout",
     "output_type": "stream",
     "text": [
      "Mean: 64.17\n",
      "1st Quart: 49.0\n",
      "2nd Quart: 65.0\n",
      "3rd Quart: 80.0\n"
     ]
    }
   ],
   "source": [
    "def main():\n",
    "    f = open('2899269_temps.csv')\n",
    "    file = f.readlines()\n",
    "    f.close()\n",
    "\n",
    "    tmax_list = [float(i.split(',')[-1].strip()) for i in file[1:]]\n",
    "#     tmax_list = [24, 25, 26, 27, 30, 32, 40, 44, 50, 52, 55, 57]  \n",
    "    tmax_list = sorted(tmax_list)\n",
    "    \n",
    "    print('Mean:',round(avg(tmax_list),2))\n",
    "    print('1st Quart:',percentile(tmax_list,.25))\n",
    "    print('2nd Quart:',percentile(tmax_list,.50))\n",
    "    print('3rd Quart:',percentile(tmax_list,.75))\n",
    "    \n",
    "if __name__ == \"__main__\":\n",
    "    main()"
   ]
  },
  {
   "cell_type": "code",
   "execution_count": null,
   "id": "47223494",
   "metadata": {},
   "outputs": [],
   "source": []
  }
 ],
 "metadata": {
  "kernelspec": {
   "display_name": "Python 3 (ipykernel)",
   "language": "python",
   "name": "python3"
  },
  "language_info": {
   "codemirror_mode": {
    "name": "ipython",
    "version": 3
   },
   "file_extension": ".py",
   "mimetype": "text/x-python",
   "name": "python",
   "nbconvert_exporter": "python",
   "pygments_lexer": "ipython3",
   "version": "3.8.5"
  }
 },
 "nbformat": 4,
 "nbformat_minor": 5
}
