{
 "cells": [
  {
   "cell_type": "code",
   "execution_count": 1,
   "id": "46269312",
   "metadata": {},
   "outputs": [
    {
     "ename": "ModuleNotFoundError",
     "evalue": "No module named 'Functions'",
     "output_type": "error",
     "traceback": [
      "\u001b[1;31m---------------------------------------------------------------------------\u001b[0m",
      "\u001b[1;31mModuleNotFoundError\u001b[0m                       Traceback (most recent call last)",
      "Input \u001b[1;32mIn [1]\u001b[0m, in \u001b[0;36m<cell line: 4>\u001b[1;34m()\u001b[0m\n\u001b[0;32m      2\u001b[0m \u001b[38;5;28;01mimport\u001b[39;00m \u001b[38;5;21;01mshutil\u001b[39;00m\n\u001b[0;32m      3\u001b[0m \u001b[38;5;28;01mimport\u001b[39;00m \u001b[38;5;21;01mjson\u001b[39;00m\n\u001b[1;32m----> 4\u001b[0m \u001b[38;5;28;01mfrom\u001b[39;00m \u001b[38;5;21;01mFunctions\u001b[39;00m \u001b[38;5;28;01mimport\u001b[39;00m read,save,edit_config,display\n\u001b[0;32m      6\u001b[0m BASIC_CONFIG_PATH \u001b[38;5;241m=\u001b[39m \u001b[38;5;124m'\u001b[39m\u001b[38;5;124mtext_files/basic_config.json\u001b[39m\u001b[38;5;124m'\u001b[39m\n\u001b[0;32m      7\u001b[0m OVERWRITTEN_CONFIG_PATH \u001b[38;5;241m=\u001b[39m \u001b[38;5;124m'\u001b[39m\u001b[38;5;124mtext_files/config_override.json\u001b[39m\u001b[38;5;124m'\u001b[39m\n",
      "\u001b[1;31mModuleNotFoundError\u001b[0m: No module named 'Functions'"
     ]
    }
   ],
   "source": [
    "import os.path\n",
    "import shutil\n",
    "import json\n",
    "from Functions import read,save,edit_config,display\n",
    "\n",
    "BASIC_CONFIG_PATH = 'text_files/basic_config.json'\n",
    "OVERWRITTEN_CONFIG_PATH = 'text_files/config_override.json'\n",
    "path = BASIC_CONFIG_PATH\n",
    "        \n",
    "def main():\n",
    "    if os.path.exists(OVERWRITTEN_CONFIG_PATH):\n",
    "        path = OVERWRITTEN_CONFIG_PATH   \n",
    "    data = read.read(path)\n",
    "    display.display(data)\n",
    "    data = edit_config.edit_config(data)\n",
    "    save.save(data,path)\n",
    "    \n",
    "if __name__ == '__main__':\n",
    "    main()"
   ]
  },
  {
   "cell_type": "code",
   "execution_count": null,
   "id": "9d105458",
   "metadata": {},
   "outputs": [],
   "source": []
  }
 ],
 "metadata": {
  "kernelspec": {
   "display_name": "Python 3 (ipykernel)",
   "language": "python",
   "name": "python3"
  },
  "language_info": {
   "codemirror_mode": {
    "name": "ipython",
    "version": 3
   },
   "file_extension": ".py",
   "mimetype": "text/x-python",
   "name": "python",
   "nbconvert_exporter": "python",
   "pygments_lexer": "ipython3",
   "version": "3.9.12"
  }
 },
 "nbformat": 4,
 "nbformat_minor": 5
}
