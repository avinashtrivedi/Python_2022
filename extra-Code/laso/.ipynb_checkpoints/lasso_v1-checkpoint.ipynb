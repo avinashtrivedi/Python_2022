{
 "cells": [
  {
   "cell_type": "code",
   "execution_count": 1,
   "metadata": {},
   "outputs": [],
   "source": [
    "# import the dataset\n",
    "import pandas as pd\n",
    "import matplotlib.pyplot as plt\n",
    "import warnings\n",
    "warnings.filterwarnings('ignore')"
   ]
  },
  {
   "cell_type": "markdown",
   "metadata": {},
   "source": [
    "# Q.1"
   ]
  },
  {
   "cell_type": "code",
   "execution_count": 2,
   "metadata": {},
   "outputs": [],
   "source": [
    "df = pd.read_csv('assignment4.csv')"
   ]
  },
  {
   "cell_type": "code",
   "execution_count": 3,
   "metadata": {},
   "outputs": [],
   "source": [
    "# remove the unwanted columns\n",
    "df = df[['mpg','cylinders','displacement','horsepower','weight','acceleration','model year','origin']]"
   ]
  },
  {
   "cell_type": "code",
   "execution_count": 4,
   "metadata": {},
   "outputs": [
    {
     "data": {
      "text/html": [
       "<div>\n",
       "<style scoped>\n",
       "    .dataframe tbody tr th:only-of-type {\n",
       "        vertical-align: middle;\n",
       "    }\n",
       "\n",
       "    .dataframe tbody tr th {\n",
       "        vertical-align: top;\n",
       "    }\n",
       "\n",
       "    .dataframe thead th {\n",
       "        text-align: right;\n",
       "    }\n",
       "</style>\n",
       "<table border=\"1\" class=\"dataframe\">\n",
       "  <thead>\n",
       "    <tr style=\"text-align: right;\">\n",
       "      <th></th>\n",
       "      <th>mpg</th>\n",
       "      <th>cylinders</th>\n",
       "      <th>displacement</th>\n",
       "      <th>horsepower</th>\n",
       "      <th>weight</th>\n",
       "      <th>acceleration</th>\n",
       "      <th>model year</th>\n",
       "      <th>origin</th>\n",
       "    </tr>\n",
       "  </thead>\n",
       "  <tbody>\n",
       "    <tr>\n",
       "      <th>0</th>\n",
       "      <td>18.0</td>\n",
       "      <td>8</td>\n",
       "      <td>307.0</td>\n",
       "      <td>130.0</td>\n",
       "      <td>3504</td>\n",
       "      <td>12.0</td>\n",
       "      <td>70</td>\n",
       "      <td>1</td>\n",
       "    </tr>\n",
       "    <tr>\n",
       "      <th>1</th>\n",
       "      <td>15.0</td>\n",
       "      <td>8</td>\n",
       "      <td>350.0</td>\n",
       "      <td>165.0</td>\n",
       "      <td>3693</td>\n",
       "      <td>11.5</td>\n",
       "      <td>70</td>\n",
       "      <td>1</td>\n",
       "    </tr>\n",
       "    <tr>\n",
       "      <th>2</th>\n",
       "      <td>18.0</td>\n",
       "      <td>8</td>\n",
       "      <td>318.0</td>\n",
       "      <td>150.0</td>\n",
       "      <td>3436</td>\n",
       "      <td>11.0</td>\n",
       "      <td>70</td>\n",
       "      <td>1</td>\n",
       "    </tr>\n",
       "    <tr>\n",
       "      <th>3</th>\n",
       "      <td>16.0</td>\n",
       "      <td>8</td>\n",
       "      <td>304.0</td>\n",
       "      <td>150.0</td>\n",
       "      <td>3433</td>\n",
       "      <td>12.0</td>\n",
       "      <td>70</td>\n",
       "      <td>1</td>\n",
       "    </tr>\n",
       "    <tr>\n",
       "      <th>4</th>\n",
       "      <td>17.0</td>\n",
       "      <td>8</td>\n",
       "      <td>302.0</td>\n",
       "      <td>140.0</td>\n",
       "      <td>3449</td>\n",
       "      <td>10.5</td>\n",
       "      <td>70</td>\n",
       "      <td>1</td>\n",
       "    </tr>\n",
       "    <tr>\n",
       "      <th>...</th>\n",
       "      <td>...</td>\n",
       "      <td>...</td>\n",
       "      <td>...</td>\n",
       "      <td>...</td>\n",
       "      <td>...</td>\n",
       "      <td>...</td>\n",
       "      <td>...</td>\n",
       "      <td>...</td>\n",
       "    </tr>\n",
       "    <tr>\n",
       "      <th>393</th>\n",
       "      <td>27.0</td>\n",
       "      <td>4</td>\n",
       "      <td>140.0</td>\n",
       "      <td>86.0</td>\n",
       "      <td>2790</td>\n",
       "      <td>15.6</td>\n",
       "      <td>82</td>\n",
       "      <td>1</td>\n",
       "    </tr>\n",
       "    <tr>\n",
       "      <th>394</th>\n",
       "      <td>44.0</td>\n",
       "      <td>4</td>\n",
       "      <td>97.0</td>\n",
       "      <td>52.0</td>\n",
       "      <td>2130</td>\n",
       "      <td>24.6</td>\n",
       "      <td>82</td>\n",
       "      <td>2</td>\n",
       "    </tr>\n",
       "    <tr>\n",
       "      <th>395</th>\n",
       "      <td>32.0</td>\n",
       "      <td>4</td>\n",
       "      <td>135.0</td>\n",
       "      <td>84.0</td>\n",
       "      <td>2295</td>\n",
       "      <td>11.6</td>\n",
       "      <td>82</td>\n",
       "      <td>1</td>\n",
       "    </tr>\n",
       "    <tr>\n",
       "      <th>396</th>\n",
       "      <td>28.0</td>\n",
       "      <td>4</td>\n",
       "      <td>120.0</td>\n",
       "      <td>79.0</td>\n",
       "      <td>2625</td>\n",
       "      <td>18.6</td>\n",
       "      <td>82</td>\n",
       "      <td>1</td>\n",
       "    </tr>\n",
       "    <tr>\n",
       "      <th>397</th>\n",
       "      <td>31.0</td>\n",
       "      <td>4</td>\n",
       "      <td>119.0</td>\n",
       "      <td>82.0</td>\n",
       "      <td>2720</td>\n",
       "      <td>19.4</td>\n",
       "      <td>82</td>\n",
       "      <td>1</td>\n",
       "    </tr>\n",
       "  </tbody>\n",
       "</table>\n",
       "<p>398 rows × 8 columns</p>\n",
       "</div>"
      ],
      "text/plain": [
       "      mpg  cylinders  displacement  horsepower  weight  acceleration  \\\n",
       "0    18.0          8         307.0       130.0    3504          12.0   \n",
       "1    15.0          8         350.0       165.0    3693          11.5   \n",
       "2    18.0          8         318.0       150.0    3436          11.0   \n",
       "3    16.0          8         304.0       150.0    3433          12.0   \n",
       "4    17.0          8         302.0       140.0    3449          10.5   \n",
       "..    ...        ...           ...         ...     ...           ...   \n",
       "393  27.0          4         140.0        86.0    2790          15.6   \n",
       "394  44.0          4          97.0        52.0    2130          24.6   \n",
       "395  32.0          4         135.0        84.0    2295          11.6   \n",
       "396  28.0          4         120.0        79.0    2625          18.6   \n",
       "397  31.0          4         119.0        82.0    2720          19.4   \n",
       "\n",
       "     model year  origin  \n",
       "0            70       1  \n",
       "1            70       1  \n",
       "2            70       1  \n",
       "3            70       1  \n",
       "4            70       1  \n",
       "..          ...     ...  \n",
       "393          82       1  \n",
       "394          82       2  \n",
       "395          82       1  \n",
       "396          82       1  \n",
       "397          82       1  \n",
       "\n",
       "[398 rows x 8 columns]"
      ]
     },
     "execution_count": 4,
     "metadata": {},
     "output_type": "execute_result"
    }
   ],
   "source": [
    "df"
   ]
  },
  {
   "cell_type": "code",
   "execution_count": 5,
   "metadata": {},
   "outputs": [],
   "source": [
    "# get x and y\n",
    "X = df[['cylinders','displacement','horsepower','weight','acceleration','model year','origin']]\n",
    "y = df['mpg']"
   ]
  },
  {
   "cell_type": "code",
   "execution_count": 6,
   "metadata": {},
   "outputs": [
    {
     "data": {
      "text/html": [
       "<div>\n",
       "<style scoped>\n",
       "    .dataframe tbody tr th:only-of-type {\n",
       "        vertical-align: middle;\n",
       "    }\n",
       "\n",
       "    .dataframe tbody tr th {\n",
       "        vertical-align: top;\n",
       "    }\n",
       "\n",
       "    .dataframe thead th {\n",
       "        text-align: right;\n",
       "    }\n",
       "</style>\n",
       "<table border=\"1\" class=\"dataframe\">\n",
       "  <thead>\n",
       "    <tr style=\"text-align: right;\">\n",
       "      <th></th>\n",
       "      <th>cylinders</th>\n",
       "      <th>displacement</th>\n",
       "      <th>horsepower</th>\n",
       "      <th>weight</th>\n",
       "      <th>acceleration</th>\n",
       "      <th>model year</th>\n",
       "      <th>origin</th>\n",
       "    </tr>\n",
       "  </thead>\n",
       "  <tbody>\n",
       "    <tr>\n",
       "      <th>0</th>\n",
       "      <td>8</td>\n",
       "      <td>307.0</td>\n",
       "      <td>130.0</td>\n",
       "      <td>3504</td>\n",
       "      <td>12.0</td>\n",
       "      <td>70</td>\n",
       "      <td>1</td>\n",
       "    </tr>\n",
       "    <tr>\n",
       "      <th>1</th>\n",
       "      <td>8</td>\n",
       "      <td>350.0</td>\n",
       "      <td>165.0</td>\n",
       "      <td>3693</td>\n",
       "      <td>11.5</td>\n",
       "      <td>70</td>\n",
       "      <td>1</td>\n",
       "    </tr>\n",
       "    <tr>\n",
       "      <th>2</th>\n",
       "      <td>8</td>\n",
       "      <td>318.0</td>\n",
       "      <td>150.0</td>\n",
       "      <td>3436</td>\n",
       "      <td>11.0</td>\n",
       "      <td>70</td>\n",
       "      <td>1</td>\n",
       "    </tr>\n",
       "    <tr>\n",
       "      <th>3</th>\n",
       "      <td>8</td>\n",
       "      <td>304.0</td>\n",
       "      <td>150.0</td>\n",
       "      <td>3433</td>\n",
       "      <td>12.0</td>\n",
       "      <td>70</td>\n",
       "      <td>1</td>\n",
       "    </tr>\n",
       "    <tr>\n",
       "      <th>4</th>\n",
       "      <td>8</td>\n",
       "      <td>302.0</td>\n",
       "      <td>140.0</td>\n",
       "      <td>3449</td>\n",
       "      <td>10.5</td>\n",
       "      <td>70</td>\n",
       "      <td>1</td>\n",
       "    </tr>\n",
       "    <tr>\n",
       "      <th>...</th>\n",
       "      <td>...</td>\n",
       "      <td>...</td>\n",
       "      <td>...</td>\n",
       "      <td>...</td>\n",
       "      <td>...</td>\n",
       "      <td>...</td>\n",
       "      <td>...</td>\n",
       "    </tr>\n",
       "    <tr>\n",
       "      <th>393</th>\n",
       "      <td>4</td>\n",
       "      <td>140.0</td>\n",
       "      <td>86.0</td>\n",
       "      <td>2790</td>\n",
       "      <td>15.6</td>\n",
       "      <td>82</td>\n",
       "      <td>1</td>\n",
       "    </tr>\n",
       "    <tr>\n",
       "      <th>394</th>\n",
       "      <td>4</td>\n",
       "      <td>97.0</td>\n",
       "      <td>52.0</td>\n",
       "      <td>2130</td>\n",
       "      <td>24.6</td>\n",
       "      <td>82</td>\n",
       "      <td>2</td>\n",
       "    </tr>\n",
       "    <tr>\n",
       "      <th>395</th>\n",
       "      <td>4</td>\n",
       "      <td>135.0</td>\n",
       "      <td>84.0</td>\n",
       "      <td>2295</td>\n",
       "      <td>11.6</td>\n",
       "      <td>82</td>\n",
       "      <td>1</td>\n",
       "    </tr>\n",
       "    <tr>\n",
       "      <th>396</th>\n",
       "      <td>4</td>\n",
       "      <td>120.0</td>\n",
       "      <td>79.0</td>\n",
       "      <td>2625</td>\n",
       "      <td>18.6</td>\n",
       "      <td>82</td>\n",
       "      <td>1</td>\n",
       "    </tr>\n",
       "    <tr>\n",
       "      <th>397</th>\n",
       "      <td>4</td>\n",
       "      <td>119.0</td>\n",
       "      <td>82.0</td>\n",
       "      <td>2720</td>\n",
       "      <td>19.4</td>\n",
       "      <td>82</td>\n",
       "      <td>1</td>\n",
       "    </tr>\n",
       "  </tbody>\n",
       "</table>\n",
       "<p>398 rows × 7 columns</p>\n",
       "</div>"
      ],
      "text/plain": [
       "     cylinders  displacement  horsepower  weight  acceleration  model year  \\\n",
       "0            8         307.0       130.0    3504          12.0          70   \n",
       "1            8         350.0       165.0    3693          11.5          70   \n",
       "2            8         318.0       150.0    3436          11.0          70   \n",
       "3            8         304.0       150.0    3433          12.0          70   \n",
       "4            8         302.0       140.0    3449          10.5          70   \n",
       "..         ...           ...         ...     ...           ...         ...   \n",
       "393          4         140.0        86.0    2790          15.6          82   \n",
       "394          4          97.0        52.0    2130          24.6          82   \n",
       "395          4         135.0        84.0    2295          11.6          82   \n",
       "396          4         120.0        79.0    2625          18.6          82   \n",
       "397          4         119.0        82.0    2720          19.4          82   \n",
       "\n",
       "     origin  \n",
       "0         1  \n",
       "1         1  \n",
       "2         1  \n",
       "3         1  \n",
       "4         1  \n",
       "..      ...  \n",
       "393       1  \n",
       "394       2  \n",
       "395       1  \n",
       "396       1  \n",
       "397       1  \n",
       "\n",
       "[398 rows x 7 columns]"
      ]
     },
     "execution_count": 6,
     "metadata": {},
     "output_type": "execute_result"
    }
   ],
   "source": [
    "X"
   ]
  },
  {
   "cell_type": "code",
   "execution_count": 7,
   "metadata": {},
   "outputs": [
    {
     "data": {
      "text/plain": [
       "0      18.0\n",
       "1      15.0\n",
       "2      18.0\n",
       "3      16.0\n",
       "4      17.0\n",
       "       ... \n",
       "393    27.0\n",
       "394    44.0\n",
       "395    32.0\n",
       "396    28.0\n",
       "397    31.0\n",
       "Name: mpg, Length: 398, dtype: float64"
      ]
     },
     "execution_count": 7,
     "metadata": {},
     "output_type": "execute_result"
    }
   ],
   "source": [
    "y"
   ]
  },
  {
   "cell_type": "code",
   "execution_count": 8,
   "metadata": {},
   "outputs": [
    {
     "data": {
      "text/plain": [
       "(398, 7)"
      ]
     },
     "execution_count": 8,
     "metadata": {},
     "output_type": "execute_result"
    }
   ],
   "source": [
    "X.shape"
   ]
  },
  {
   "cell_type": "code",
   "execution_count": 9,
   "metadata": {},
   "outputs": [],
   "source": [
    "# get 80%  data\n",
    "from sklearn.model_selection import train_test_split\n",
    "X_train80, _ , y_train80, _ = train_test_split(X, y, test_size=.20,random_state=1)\n",
    "\n",
    "# get 20% data\n",
    "from sklearn.model_selection import train_test_split\n",
    "_, X_train20 , _, y_train20 = train_test_split(X, y, test_size=.20, random_state=2)"
   ]
  },
  {
   "cell_type": "code",
   "execution_count": 10,
   "metadata": {},
   "outputs": [
    {
     "data": {
      "text/plain": [
       "(318, 7)"
      ]
     },
     "execution_count": 10,
     "metadata": {},
     "output_type": "execute_result"
    }
   ],
   "source": [
    "X_train80.shape"
   ]
  },
  {
   "cell_type": "code",
   "execution_count": 11,
   "metadata": {},
   "outputs": [
    {
     "data": {
      "text/plain": [
       "(80, 7)"
      ]
     },
     "execution_count": 11,
     "metadata": {},
     "output_type": "execute_result"
    }
   ],
   "source": [
    "X_train20.shape"
   ]
  },
  {
   "cell_type": "code",
   "execution_count": 12,
   "metadata": {},
   "outputs": [
    {
     "data": {
      "text/html": [
       "<div>\n",
       "<style scoped>\n",
       "    .dataframe tbody tr th:only-of-type {\n",
       "        vertical-align: middle;\n",
       "    }\n",
       "\n",
       "    .dataframe tbody tr th {\n",
       "        vertical-align: top;\n",
       "    }\n",
       "\n",
       "    .dataframe thead th {\n",
       "        text-align: right;\n",
       "    }\n",
       "</style>\n",
       "<table border=\"1\" class=\"dataframe\">\n",
       "  <thead>\n",
       "    <tr style=\"text-align: right;\">\n",
       "      <th></th>\n",
       "      <th>cylinders</th>\n",
       "      <th>displacement</th>\n",
       "      <th>horsepower</th>\n",
       "      <th>weight</th>\n",
       "      <th>acceleration</th>\n",
       "      <th>model year</th>\n",
       "      <th>origin</th>\n",
       "    </tr>\n",
       "  </thead>\n",
       "  <tbody>\n",
       "    <tr>\n",
       "      <th>0</th>\n",
       "      <td>8</td>\n",
       "      <td>307.0</td>\n",
       "      <td>130.0</td>\n",
       "      <td>3504</td>\n",
       "      <td>12.0</td>\n",
       "      <td>70</td>\n",
       "      <td>1</td>\n",
       "    </tr>\n",
       "    <tr>\n",
       "      <th>1</th>\n",
       "      <td>8</td>\n",
       "      <td>350.0</td>\n",
       "      <td>165.0</td>\n",
       "      <td>3693</td>\n",
       "      <td>11.5</td>\n",
       "      <td>70</td>\n",
       "      <td>1</td>\n",
       "    </tr>\n",
       "    <tr>\n",
       "      <th>2</th>\n",
       "      <td>8</td>\n",
       "      <td>318.0</td>\n",
       "      <td>150.0</td>\n",
       "      <td>3436</td>\n",
       "      <td>11.0</td>\n",
       "      <td>70</td>\n",
       "      <td>1</td>\n",
       "    </tr>\n",
       "  </tbody>\n",
       "</table>\n",
       "</div>"
      ],
      "text/plain": [
       "   cylinders  displacement  horsepower  weight  acceleration  model year  \\\n",
       "0          8         307.0       130.0    3504          12.0          70   \n",
       "1          8         350.0       165.0    3693          11.5          70   \n",
       "2          8         318.0       150.0    3436          11.0          70   \n",
       "\n",
       "   origin  \n",
       "0       1  \n",
       "1       1  \n",
       "2       1  "
      ]
     },
     "execution_count": 12,
     "metadata": {},
     "output_type": "execute_result"
    }
   ],
   "source": [
    "X.loc[0:2]"
   ]
  },
  {
   "cell_type": "code",
   "execution_count": 13,
   "metadata": {},
   "outputs": [
    {
     "data": {
      "text/plain": [
       "0    18.0\n",
       "1    15.0\n",
       "2    18.0\n",
       "Name: mpg, dtype: float64"
      ]
     },
     "execution_count": 13,
     "metadata": {},
     "output_type": "execute_result"
    }
   ],
   "source": [
    "y.loc[0:2]"
   ]
  },
  {
   "cell_type": "code",
   "execution_count": 14,
   "metadata": {},
   "outputs": [],
   "source": [
    "from sklearn.linear_model import Lasso"
   ]
  },
  {
   "cell_type": "code",
   "execution_count": 15,
   "metadata": {},
   "outputs": [],
   "source": [
    "lasso_80 = Lasso() # build the lasso model , alpha=1.0\n",
    "lasso_20 = Lasso() # build the lasso model , alpha=1.0"
   ]
  },
  {
   "cell_type": "code",
   "execution_count": 16,
   "metadata": {},
   "outputs": [
    {
     "data": {
      "text/plain": [
       "Lasso()"
      ]
     },
     "execution_count": 16,
     "metadata": {},
     "output_type": "execute_result"
    }
   ],
   "source": [
    "# Train both the Model \n",
    "lasso_80.fit(X_train80,y_train80)\n",
    "lasso_20.fit(X_train20,y_train20)"
   ]
  },
  {
   "cell_type": "code",
   "execution_count": 17,
   "metadata": {},
   "outputs": [
    {
     "data": {
      "text/plain": [
       "array([19.49663814, 17.54896045, 34.17762816, 25.63752695, 33.22139284,\n",
       "       17.8391306 , 15.44382289, 23.52342241, 33.98214281, 31.32660831,\n",
       "       18.34285735, 22.60353176, 21.15970783, 24.48673668, 30.47751027,\n",
       "       22.62188714, 31.9932117 , 27.90281215, 23.71864781, 24.03598389,\n",
       "       21.05061365,  9.19891217, 15.79840361, 33.20175468, 13.18150298,\n",
       "       22.35012369, 32.12878689, 23.31000662, 26.05576304, 17.49429251,\n",
       "       19.45660506, 29.90133497, 29.89369529, 17.6148058 , 23.98537749,\n",
       "       32.74009409,  9.73661414, 24.58898331, 26.36599897, 31.02896959,\n",
       "       32.28810291, 25.73334835, 21.94141771, 13.81914399, 33.72853235,\n",
       "       32.8236258 , 11.3813752 , 31.01165365, 29.55296847, 29.42205215,\n",
       "       29.3082959 , 24.61073646, 10.99969287, 32.9538261 , 22.23212947,\n",
       "       14.18762059, 29.75107654, 16.27629946, 32.66006172, 23.18552812,\n",
       "       16.80996923, 22.26503507, 12.09237767, 26.94477434, 26.03830008,\n",
       "       25.81004531, 12.87256304, 20.77780316, 20.60276206, 21.79781784,\n",
       "       15.62039352,  9.94498976, 15.24342437, 32.4004995 , 29.39472755,\n",
       "       10.58177739, 11.45667928, 25.91287468, 22.33255696, 17.85297853,\n",
       "       19.81701838, 34.53470893, 28.70952522, 28.64469681,  6.49445744,\n",
       "       16.68959172, 15.52806399, 28.12902953, 32.0166937 , 20.62974164,\n",
       "       31.81556246, 33.90529959, 23.07292249, 21.86195339, 27.90429599,\n",
       "       32.8251146 , 21.23419216, 16.93513312, 25.27290512, 29.76871935,\n",
       "       31.7833757 , 17.93183216, 28.53177441, 20.12880146, 27.10877013,\n",
       "       28.91258828, 12.5349811 , 25.83094451,  5.34776678, 27.93851788,\n",
       "       30.19753312, 32.87594682, 25.97086608, 34.47640629, 23.22792177,\n",
       "       26.01851811, 33.58120783, 26.42421077,  8.85566665, 16.86651881,\n",
       "       21.60907621, 33.81755409, 24.8449699 , 30.46341093,  7.07368023,\n",
       "       24.82922143, 27.69683306, 19.99327034, 26.01655608, 28.62659623,\n",
       "       19.05050975, 33.75871173, 22.00053682, 31.14722885, 22.21062385,\n",
       "       31.54138167, 17.70791195, 31.60477742, 10.9583029 , 12.97384709,\n",
       "       19.78883807, 23.88383428, 20.67611335, 15.76393075, 33.64448674,\n",
       "       29.79601031, 15.94965359, 33.51390685, 28.59331004, 32.23281943,\n",
       "       20.00396095, 26.40848558, 25.11929985, 33.13470425, 18.0130537 ,\n",
       "       24.57576189, 24.63999161, 28.61017392, 31.36046856, 11.92333334,\n",
       "       22.85124251, 21.9027728 , 22.3249756 , 10.60728875, 28.03372357,\n",
       "       19.14813949, 23.62345718, 10.53809449, 21.48441184, 32.23229217,\n",
       "       15.16513227, 26.18129556, 29.02042688, 17.78044063, 30.90429655,\n",
       "       11.86198395, 13.75412976, 27.39242141, 31.00938587, 24.1365871 ,\n",
       "       14.75549264, 29.69116356, 26.81722012, 27.11807935, 32.67217715,\n",
       "       21.36812722, 30.84564612, 20.41729108, 26.04411229, 26.88459487,\n",
       "       22.88357721, 25.46987744, 35.25674212, 29.03668259, 21.39055727,\n",
       "       22.91738778, 31.55443704, 26.91959587, 30.92862534,  7.92093787,\n",
       "       31.13172589, 25.64884681, 16.23752931, 24.42905616,  9.05236514,\n",
       "       23.45624365, 13.38347161, 27.02205655, 22.18448383, 20.9973346 ,\n",
       "       32.55171977, 14.91392803, 29.95529845, 15.30770458, 23.72006574,\n",
       "       29.47472308, 25.21339347, 27.69538947, 17.99225217, 29.46925426,\n",
       "       21.30893037, 27.42023927, 13.14189937, 19.86115173, 23.87754372,\n",
       "       21.31564871, 28.00389647, 25.24660007, 33.36994199, 15.88593166,\n",
       "       26.04695378, 21.66625669, 23.81819511, 24.4609189 , 28.5539172 ,\n",
       "       28.67237031, 27.14970174, 31.22891544, 15.08034008, 11.81548897,\n",
       "       25.73401009, 34.38148666, 14.49081999, 30.90561937, 26.63418876,\n",
       "       26.47331201, 30.50214617, 19.84336066, 14.22640461, 21.34574556,\n",
       "       26.08192321, 32.21257329, 21.90771296, 30.63199372, 22.81452794,\n",
       "       30.00219001, 17.46603945, 30.01414487,  8.35726237, 19.65363068,\n",
       "       26.27944087, 21.28193548,  7.66289712, 29.09883027, 12.76534146,\n",
       "       20.23735885, 22.24695004, 25.34686276, 26.8408667 , 28.43552053,\n",
       "        9.3229383 , 20.81062223,  7.95119946, 23.77727363, 15.89802719,\n",
       "       30.24137809, 24.96769029, 27.68585332, 24.65516763, 18.2525224 ,\n",
       "       13.88053648, 29.39975768, 30.5075168 , 23.14752103, 21.67541942,\n",
       "       23.82711686, 14.09795528, 28.35224137, 23.16130567, 31.6140806 ,\n",
       "       29.3551673 ,  9.67226817, 27.11516277, 16.47272167, 31.19499545,\n",
       "       25.27016638, 18.06760869, 10.35407522, 25.55793871, 11.29276861,\n",
       "       21.27656485, 29.36230817, 25.14261857, 25.93205439, 22.99874273,\n",
       "       25.68910005, 30.51399837, 24.83494342, 28.9969892 , 31.08592066,\n",
       "       29.51076848, 16.89972997, 31.19926021, 29.07322575, 26.67435417,\n",
       "       14.33560765, 29.01505625, 17.9646088 ])"
      ]
     },
     "execution_count": 17,
     "metadata": {},
     "output_type": "execute_result"
    }
   ],
   "source": [
    "# predict for 80% data\n",
    "lasso_80.predict(X_train80)"
   ]
  },
  {
   "cell_type": "code",
   "execution_count": 18,
   "metadata": {},
   "outputs": [
    {
     "data": {
      "text/plain": [
       "array([11.04341559, 27.30952321, 31.1447537 , 23.52993099, 32.79555814,\n",
       "       10.18758462, 10.89036641, 16.04513597, 13.17500717, 20.81639776,\n",
       "       21.71384198, 24.10033386, 30.92992273, 21.05284833, 29.48280184,\n",
       "       27.79196821, 21.10943591, 29.86607618, 35.91083012, 16.92040833,\n",
       "       31.59230675, 22.88975138, 27.51761293, 30.82632395, 12.05133551,\n",
       "       20.25865686, 21.86496284, 23.26516901, 34.38077274, 21.70817158,\n",
       "       27.84229558, 31.85005208, 21.53672421, 30.30898231, 11.8067645 ,\n",
       "       31.88988199, 24.52195521, 28.59076856,  9.08729043, 32.80784664,\n",
       "       19.01833506, 22.68894864, 20.73370612, 27.14485176, 28.01078119,\n",
       "       32.70118   , 16.87857651, 15.36235043, 34.66756494, 27.01813433,\n",
       "       28.49617966, 22.36450585, 26.71568053, 29.07937503, 25.69180178,\n",
       "       10.795231  , 28.61655175, 24.29263126, 15.70923346, 25.38777639,\n",
       "       29.57485109, 31.58122839, 35.34654954, 21.53722003, 16.71329155,\n",
       "       35.5844492 , 21.81655917, 28.54710027, 11.26645372, 34.50767336,\n",
       "       18.75884476, 31.94579733, 12.99106946, 30.62975097, 29.31494581,\n",
       "       19.39227411, 16.92702912, 13.37155393, 22.57759909, 31.82859732])"
      ]
     },
     "execution_count": 18,
     "metadata": {},
     "output_type": "execute_result"
    }
   ],
   "source": [
    "# predict for 20% data\n",
    "lasso_20.predict(X_train20)"
   ]
  },
  {
   "cell_type": "code",
   "execution_count": 19,
   "metadata": {},
   "outputs": [],
   "source": [
    "# get the score of a model\n",
    "train_score_80 = lasso_80.score(X_train80,y_train80)\n",
    "train_score_20 = lasso_20.score(X_train20,y_train20)"
   ]
  },
  {
   "cell_type": "code",
   "execution_count": 20,
   "metadata": {},
   "outputs": [
    {
     "name": "stdout",
     "output_type": "stream",
     "text": [
      "train_score_80 0.7979056367603998\n"
     ]
    }
   ],
   "source": [
    "print('train_score_80',train_score_80)"
   ]
  },
  {
   "cell_type": "code",
   "execution_count": 21,
   "metadata": {},
   "outputs": [
    {
     "name": "stdout",
     "output_type": "stream",
     "text": [
      "train_score_20 0.8792745706548809\n"
     ]
    }
   ],
   "source": [
    "print('train_score_20',train_score_20)"
   ]
  },
  {
   "cell_type": "markdown",
   "metadata": {},
   "source": [
    "# Q.2"
   ]
  },
  {
   "cell_type": "code",
   "execution_count": 22,
   "metadata": {},
   "outputs": [],
   "source": [
    "from sklearn.linear_model import LassoLarsIC"
   ]
  },
  {
   "cell_type": "code",
   "execution_count": 23,
   "metadata": {},
   "outputs": [
    {
     "name": "stdout",
     "output_type": "stream",
     "text": [
      "optimal_alpha_aic: 0.009723632696694033\n"
     ]
    }
   ],
   "source": [
    "# Build AIC Model\n",
    "model_aic = LassoLarsIC(criterion='aic',normalize=True)\n",
    "\n",
    "# train on AIC Model\n",
    "model_aic.fit(X_train80,y_train80)\n",
    "\n",
    "# get optimal alpha\n",
    "optimal_alpha_aic = model_aic.alpha_\n",
    "print('optimal_alpha_aic:',optimal_alpha_aic)"
   ]
  },
  {
   "cell_type": "code",
   "execution_count": 24,
   "metadata": {},
   "outputs": [
    {
     "name": "stdout",
     "output_type": "stream",
     "text": [
      "optimal_alpha_bic: 0.009723632696694033\n"
     ]
    }
   ],
   "source": [
    "# Build BIC Model\n",
    "model_bic = LassoLarsIC(criterion='bic',normalize=True)\n",
    "\n",
    "## train on BIC Model\n",
    "model_bic.fit(X_train80,y_train80)\n",
    "\n",
    "# get optimal alpha\n",
    "optimal_alpha_bic = model_bic.alpha_\n",
    "print('optimal_alpha_bic:',optimal_alpha_bic)"
   ]
  },
  {
   "cell_type": "code",
   "execution_count": 25,
   "metadata": {},
   "outputs": [
    {
     "data": {
      "text/plain": [
       "array([318.        , 182.67537042,  96.13351829,  83.99821318,\n",
       "        69.70619154,  71.40495158,  72.57840673,  74.35473686])"
      ]
     },
     "execution_count": 25,
     "metadata": {},
     "output_type": "execute_result"
    }
   ],
   "source": [
    "model_aic.criterion_"
   ]
  },
  {
   "cell_type": "code",
   "execution_count": 26,
   "metadata": {},
   "outputs": [
    {
     "data": {
      "text/plain": [
       "array([318.        , 186.4374218 , 103.65762106,  95.28436733,\n",
       "        84.75439707,  90.2152085 ,  95.15071503, 100.68909654])"
      ]
     },
     "execution_count": 26,
     "metadata": {},
     "output_type": "execute_result"
    }
   ],
   "source": [
    "model_bic.criterion_"
   ]
  },
  {
   "cell_type": "code",
   "execution_count": 27,
   "metadata": {},
   "outputs": [],
   "source": [
    "# alpha for aic and bic is chosen based on lowest respective criterion value"
   ]
  },
  {
   "cell_type": "markdown",
   "metadata": {},
   "source": [
    "# Build a model using optimal alpha"
   ]
  },
  {
   "cell_type": "code",
   "execution_count": 28,
   "metadata": {},
   "outputs": [
    {
     "name": "stdout",
     "output_type": "stream",
     "text": [
      "train_score_80:- 0.7979056367603998\n",
      "train_score_80_aic:- 0.8101927917807863\n"
     ]
    }
   ],
   "source": [
    "#  use optimal_alpha_aic and build a Lasso Model\n",
    "lasso_80 = Lasso(alpha=optimal_alpha_aic)\n",
    "lasso_80.fit(X_train80,y_train80)\n",
    "lasso_80.predict(X_train80)\n",
    "train_score_80_aic = lasso_80.score(X_train80,y_train80)\n",
    "print('train_score_80:-',train_score_80)\n",
    "print('train_score_80_aic:-',train_score_80_aic)"
   ]
  },
  {
   "cell_type": "code",
   "execution_count": 29,
   "metadata": {},
   "outputs": [
    {
     "name": "stdout",
     "output_type": "stream",
     "text": [
      "train_score_80:- 0.7979056367603998\n",
      "train_score_80_bic:- 0.8101927917807863\n"
     ]
    }
   ],
   "source": [
    "# use optimal_alpha_bic and build a Lasso Model\n",
    "lasso_80 = Lasso(alpha=optimal_alpha_bic)\n",
    "lasso_80.fit(X_train80,y_train80)\n",
    "lasso_80.predict(X_train80)\n",
    "train_score_80_bic = lasso_80.score(X_train80,y_train80)\n",
    "print('train_score_80:-',train_score_80)\n",
    "print('train_score_80_bic:-',train_score_80_bic)"
   ]
  },
  {
   "cell_type": "code",
   "execution_count": 30,
   "metadata": {},
   "outputs": [
    {
     "data": {
      "text/plain": [
       "0.009723632696694033"
      ]
     },
     "execution_count": 30,
     "metadata": {},
     "output_type": "execute_result"
    }
   ],
   "source": [
    "optimal_alpha_bic"
   ]
  },
  {
   "cell_type": "code",
   "execution_count": 31,
   "metadata": {},
   "outputs": [
    {
     "data": {
      "text/plain": [
       "0.009723632696694033"
      ]
     },
     "execution_count": 31,
     "metadata": {},
     "output_type": "execute_result"
    }
   ],
   "source": [
    "optimal_alpha_bic"
   ]
  },
  {
   "cell_type": "code",
   "execution_count": 32,
   "metadata": {},
   "outputs": [
    {
     "data": {
      "text/plain": [
       "True"
      ]
     },
     "execution_count": 32,
     "metadata": {},
     "output_type": "execute_result"
    }
   ],
   "source": [
    "optimal_alpha_bic == optimal_alpha_bic"
   ]
  },
  {
   "cell_type": "markdown",
   "metadata": {},
   "source": [
    "# Q.3"
   ]
  },
  {
   "cell_type": "code",
   "execution_count": 33,
   "metadata": {},
   "outputs": [
    {
     "data": {
      "text/plain": [
       "array([0.83163104, 0.81353124, 0.8128841 , 0.75244658, 0.79176639,\n",
       "       0.84580814, 0.79758073, 0.76272779, 0.73415218, 0.78788394])"
      ]
     },
     "execution_count": 33,
     "metadata": {},
     "output_type": "execute_result"
    }
   ],
   "source": [
    "from sklearn.linear_model import LinearRegression\n",
    "from sklearn.model_selection import cross_val_score\n",
    "\n",
    "# build the linear regressor model\n",
    "lm = LinearRegression()\n",
    "\n",
    "# apply 10 fold cross validation\n",
    "scores = cross_val_score(lm, X_train80, y_train80, scoring='r2', cv=10)\n",
    "scores "
   ]
  },
  {
   "cell_type": "code",
   "execution_count": 34,
   "metadata": {},
   "outputs": [
    {
     "data": {
      "text/plain": [
       "0.8458081374674541"
      ]
     },
     "execution_count": 34,
     "metadata": {},
     "output_type": "execute_result"
    }
   ],
   "source": [
    "max(scores)"
   ]
  },
  {
   "cell_type": "code",
   "execution_count": 35,
   "metadata": {},
   "outputs": [
    {
     "data": {
      "text/plain": [
       "0.7341521757146146"
      ]
     },
     "execution_count": 35,
     "metadata": {},
     "output_type": "execute_result"
    }
   ],
   "source": [
    "min(scores)"
   ]
  },
  {
   "cell_type": "code",
   "execution_count": 36,
   "metadata": {},
   "outputs": [
    {
     "data": {
      "text/plain": [
       "0.7930412124590274"
      ]
     },
     "execution_count": 36,
     "metadata": {},
     "output_type": "execute_result"
    }
   ],
   "source": [
    "sum(scores)/len(scores)"
   ]
  },
  {
   "cell_type": "markdown",
   "metadata": {},
   "source": [
    "# Q.4"
   ]
  },
  {
   "cell_type": "code",
   "execution_count": 37,
   "metadata": {},
   "outputs": [
    {
     "name": "stdout",
     "output_type": "stream",
     "text": [
      "train_score_20:- 0.7979056367603998\n",
      "train_score_20_aic:- 0.8032501755961963\n",
      "train_score_80:- 0.7979056367603998\n",
      "train_score_80_bic:- 0.8102052299899136\n"
     ]
    }
   ],
   "source": [
    "# get optimal AIC \n",
    "\n",
    "model_aic = LassoLarsIC(criterion='aic')\n",
    "model_aic.fit(X_train80,y_train80)\n",
    "optimal_alpha_aic = model_aic.alphas_[0] # taking first alpha\n",
    "\n",
    "# get optimal BIC alpha\n",
    "model_bic = LassoLarsIC(criterion='bic')\n",
    "model_bic.fit(X_train80,y_train80)\n",
    "optimal_alpha_bic = model_bic.alphas_[-1] # taking last alpha\n",
    "\n",
    "# build model based on optimal AIC alpha\n",
    "lasso_80 = Lasso(alpha=optimal_alpha_aic)\n",
    "lasso_80.fit(X_train80,y_train80)\n",
    "lasso_80.predict(X_train80)\n",
    "train_score_80_aic = lasso_80.score(X_train80,y_train80)\n",
    "print('train_score_20:-',train_score_80)\n",
    "print('train_score_20_aic:-',train_score_80_aic)\n",
    "\n",
    "# # build model based on optimal BIC alpha\n",
    "lasso_80 = Lasso(alpha=optimal_alpha_bic)\n",
    "lasso_80.fit(X_train80,y_train80)\n",
    "lasso_80.predict(X_train80)\n",
    "train_score_80_bic = lasso_80.score(X_train80,y_train80)\n",
    "print('train_score_80:-',train_score_80)\n",
    "print('train_score_80_bic:-',train_score_80_bic)"
   ]
  },
  {
   "cell_type": "markdown",
   "metadata": {},
   "source": [
    "- for train_score_80 data BIC is giving better model because of score of 0.8102"
   ]
  },
  {
   "cell_type": "code",
   "execution_count": 38,
   "metadata": {},
   "outputs": [
    {
     "data": {
      "image/png": "[encoded data removed]",
      "text/plain": [
       "<Figure size 432x288 with 1 Axes>"
      ]
     },
     "metadata": {
      "needs_background": "light"
     },
     "output_type": "display_data"
    }
   ],
   "source": [
    "plt.plot(model_aic.alphas_,model_aic.criterion_,label='AIC')\n",
    "plt.plot(model_bic.alphas_,model_bic.criterion_,label='BIC')\n",
    "plt.xlabel('alpha')\n",
    "plt.ylabel('criterion')\n",
    "plt.legend()\n",
    "plt.show()"
   ]
  },
  {
   "cell_type": "code",
   "execution_count": 39,
   "metadata": {},
   "outputs": [
    {
     "name": "stdout",
     "output_type": "stream",
     "text": [
      "optimal_alpha_aic: 0.761578816597015\n",
      "optimal_alpha_bic: 0.0\n",
      "train_score_20:- 0.8792745706548809\n",
      "train_score_20_aic:- 0.8800126117019705\n",
      "train_score_20:- 0.8792745706548809\n",
      "train_score_20_bic:- 0.9035810633806621\n"
     ]
    }
   ],
   "source": [
    "# Build AIC Model on 20% data\n",
    "model_aic = LassoLarsIC(criterion='aic')\n",
    "\n",
    "# fit the data\n",
    "model_aic.fit(X_train20,y_train20)\n",
    "\n",
    "# get optimal alpha\n",
    "optimal_alpha_aic = model_aic.alphas_[0] # get first alpha\n",
    "print('optimal_alpha_aic:',optimal_alpha_aic)\n",
    "\n",
    "# Build BIC Model on 20% data\n",
    "model_bic = LassoLarsIC(criterion='bic')\n",
    "\n",
    "# fit the data\n",
    "model_bic.fit(X_train20,y_train20)\n",
    "\n",
    "# get optimal alpha\n",
    "optimal_alpha_bic = model_bic.alphas_[-1] # get last alpha\n",
    "print('optimal_alpha_bic:',optimal_alpha_bic)\n",
    "\n",
    "# Build the Model based on AIC and BIC alpha\n",
    "lasso_20 = Lasso(alpha=optimal_alpha_aic)\n",
    "lasso_20.fit(X_train20,y_train20)\n",
    "lasso_20.predict(X_train20)\n",
    "train_score_20_aic = lasso_20.score(X_train20,y_train20)\n",
    "print('train_score_20:-',train_score_20)\n",
    "print('train_score_20_aic:-',train_score_20_aic)\n",
    "\n",
    "# BIC\n",
    "lasso_20 = Lasso(alpha=optimal_alpha_bic)\n",
    "lasso_20.fit(X_train20,y_train20)\n",
    "lasso_20.predict(X_train20)\n",
    "train_score_20_bic = lasso_20.score(X_train20,y_train20)\n",
    "print('train_score_20:-',train_score_20)\n",
    "print('train_score_20_bic:-',train_score_20_bic)"
   ]
  },
  {
   "cell_type": "markdown",
   "metadata": {},
   "source": [
    "for train_score_20 data again BIC is giving better model because of score of 0.9035"
   ]
  },
  {
   "cell_type": "markdown",
   "metadata": {},
   "source": [
    "# work on 100% data"
   ]
  },
  {
   "cell_type": "code",
   "execution_count": 40,
   "metadata": {},
   "outputs": [
    {
     "name": "stdout",
     "output_type": "stream",
     "text": [
      "full data:- 0.8792745706548809\n",
      "full data AIC:- 0.8146490739810367\n",
      "full data:- 0.8792745706548809\n",
      "full data BIC:- 0.8209467359784418\n"
     ]
    }
   ],
   "source": [
    "model_aic = LassoLarsIC(criterion='aic')\n",
    "model_aic.fit(X,y) # here i have supplied full X and y , remaining everything is same\n",
    "optimal_alpha_aic = model_aic.alphas_[0]\n",
    "\n",
    "model_bic = LassoLarsIC(criterion='bic')\n",
    "model_bic.fit(X,y)\n",
    "optimal_alpha_bic = model_bic.alphas_[-1]\n",
    "\n",
    "# AIC\n",
    "lasso_20 = Lasso(alpha=optimal_alpha_aic)\n",
    "lasso_20.fit(X,y)\n",
    "train_score_20_aic = lasso_20.score(X,y)\n",
    "print('full data:-',train_score_20)\n",
    "print('full data AIC:-',train_score_20_aic)\n",
    "\n",
    "# BIC\n",
    "lasso_20 = Lasso(alpha=optimal_alpha_bic)\n",
    "lasso_20.fit(X,y)\n",
    "train_score_20_bic = lasso_20.score(X,y)\n",
    "print('full data:-',train_score_20)\n",
    "print('full data BIC:-',train_score_20_bic)"
   ]
  },
  {
   "cell_type": "markdown",
   "metadata": {},
   "source": [
    "- for full data data BIC is giving better model because of score of .820"
   ]
  },
  {
   "cell_type": "code",
   "execution_count": null,
   "metadata": {},
   "outputs": [],
   "source": []
  }
 ],
 "metadata": {
  "kernelspec": {
   "display_name": "Python 3",
   "language": "python",
   "name": "python3"
  },
  "language_info": {
   "codemirror_mode": {
    "name": "ipython",
    "version": 3
   },
   "file_extension": ".py",
   "mimetype": "text/x-python",
   "name": "python",
   "nbconvert_exporter": "python",
   "pygments_lexer": "ipython3",
   "version": "3.8.5"
  }
 },
 "nbformat": 4,
 "nbformat_minor": 4
}
