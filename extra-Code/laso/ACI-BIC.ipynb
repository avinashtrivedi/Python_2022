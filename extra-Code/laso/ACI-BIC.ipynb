{
 "cells": [
  {
   "cell_type": "code",
   "execution_count": 1,
   "metadata": {},
   "outputs": [],
   "source": [
    "from sklearn.datasets import load_diabetes\n",
    "import pandas as pd\n",
    "from sklearn.linear_model import LassoLarsIC\n",
    "X, y = load_diabetes(return_X_y=True, as_frame=True)"
   ]
  },
  {
   "cell_type": "code",
   "execution_count": 2,
   "metadata": {},
   "outputs": [],
   "source": [
    "# get 80%  data\n",
    "from sklearn.model_selection import train_test_split\n",
    "X_train80, _ , y_train80, _ = train_test_split(X, y, test_size=.20,random_state=1)\n",
    "\n",
    "# get 20% data\n",
    "from sklearn.model_selection import train_test_split\n",
    "_, X_train20 , _, y_train20 = train_test_split(X, y, test_size=.20, random_state=2)"
   ]
  },
  {
   "cell_type": "code",
   "execution_count": 3,
   "metadata": {},
   "outputs": [
    {
     "name": "stdout",
     "output_type": "stream",
     "text": [
      "optimal_alpha_aic: 0.05642224070209148\n"
     ]
    }
   ],
   "source": [
    "# Build AIC Model\n",
    "model_aic = LassoLarsIC(criterion='aic',normalize=True)\n",
    "\n",
    "# train on AIC Model\n",
    "model_aic.fit(X_train80,y_train80)\n",
    "\n",
    "# get \n",
    "optimal_alpha_aic = model_aic.alpha_\n",
    "print('optimal_alpha_aic:',optimal_alpha_aic)"
   ]
  },
  {
   "cell_type": "code",
   "execution_count": 4,
   "metadata": {},
   "outputs": [
    {
     "name": "stdout",
     "output_type": "stream",
     "text": [
      "optimal_alpha_bic: 0.21561293769482565\n"
     ]
    }
   ],
   "source": [
    "# Build AIC Model\n",
    "model_bic = LassoLarsIC(criterion='bic',normalize=True)\n",
    "\n",
    "# train on AIC Model\n",
    "model_bic.fit(X_train80,y_train80)\n",
    "\n",
    "# get \n",
    "optimal_alpha_bic = model_bic.alpha_\n",
    "print('optimal_alpha_bic:',optimal_alpha_bic)"
   ]
  },
  {
   "cell_type": "code",
   "execution_count": null,
   "metadata": {},
   "outputs": [],
   "source": []
  },
  {
   "cell_type": "code",
   "execution_count": null,
   "metadata": {},
   "outputs": [],
   "source": []
  }
 ],
 "metadata": {
  "kernelspec": {
   "display_name": "Python 3",
   "language": "python",
   "name": "python3"
  },
  "language_info": {
   "codemirror_mode": {
    "name": "ipython",
    "version": 3
   },
   "file_extension": ".py",
   "mimetype": "text/x-python",
   "name": "python",
   "nbconvert_exporter": "python",
   "pygments_lexer": "ipython3",
   "version": "3.8.5"
  }
 },
 "nbformat": 4,
 "nbformat_minor": 4
}
