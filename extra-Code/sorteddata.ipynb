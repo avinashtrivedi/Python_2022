{
 "cells": [
  {
   "cell_type": "markdown",
   "id": "2d70f9f0",
   "metadata": {},
   "source": [
    "# CODE"
   ]
  },
  {
   "cell_type": "code",
   "execution_count": 1,
   "id": "aa1695fc",
   "metadata": {},
   "outputs": [],
   "source": [
    "with open('answer.csv') as fp:\n",
    "    data = fp.readlines()\n",
    "\n",
    "data = [line.strip() for line in data]\n",
    "\n",
    "data = data[1:]\n",
    "\n",
    "data = [tuple(line.split(',')) for line in data]\n",
    "\n",
    "my_dict = {}\n",
    "\n",
    "for key,val in data:\n",
    "    \n",
    "    if key not in my_dict:\n",
    "        my_dict[key] = set([val])\n",
    "    else:\n",
    "        my_dict[key].add(val)\n",
    "\n",
    "for k in my_dict:\n",
    "    my_dict[k] = sorted(my_dict[k])\n",
    "\n",
    "n = max([len(my_dict[k]) for k in my_dict])\n",
    "\n",
    "my_dict = dict(sorted(my_dict.items()))\n",
    "\n",
    "header = ','.join(list(my_dict))\n",
    "\n",
    "fp = open('sorteddata.csv','w')\n",
    "fp.write(header)\n",
    "for i in range(n):\n",
    "    fp.write('\\n')\n",
    "\n",
    "    string = []\n",
    "    for k in my_dict:\n",
    "        \n",
    "        if i<len(my_dict[k]):\n",
    "            string.append(list(my_dict[k])[i])\n",
    "        else:\n",
    "            string.append('')\n",
    "            \n",
    "    line = ','.join(list(string))       \n",
    "    fp.write(line)\n",
    "fp.close()"
   ]
  },
  {
   "cell_type": "code",
   "execution_count": null,
   "id": "b8921474",
   "metadata": {},
   "outputs": [],
   "source": []
  }
 ],
 "metadata": {
  "kernelspec": {
   "display_name": "Python 3 (ipykernel)",
   "language": "python",
   "name": "python3"
  },
  "language_info": {
   "codemirror_mode": {
    "name": "ipython",
    "version": 3
   },
   "file_extension": ".py",
   "mimetype": "text/x-python",
   "name": "python",
   "nbconvert_exporter": "python",
   "pygments_lexer": "ipython3",
   "version": "3.8.5"
  }
 },
 "nbformat": 4,
 "nbformat_minor": 5
}
