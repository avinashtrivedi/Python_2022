{
 "cells": [
  {
   "cell_type": "code",
   "execution_count": 1,
   "id": "65afed66",
   "metadata": {},
   "outputs": [],
   "source": [
    "def sum(num):\n",
    "    if num==0:\n",
    "        return 0\n",
    "    else:\n",
    "        return num + sum(num-1)"
   ]
  },
  {
   "cell_type": "code",
   "execution_count": 3,
   "id": "165b4bc0",
   "metadata": {},
   "outputs": [
    {
     "data": {
      "text/plain": [
       "15"
      ]
     },
     "execution_count": 3,
     "metadata": {},
     "output_type": "execute_result"
    }
   ],
   "source": [
    "sum(5)"
   ]
  },
  {
   "cell_type": "code",
   "execution_count": 4,
   "id": "f88d8bd8",
   "metadata": {},
   "outputs": [],
   "source": [
    "def aa(num):\n",
    "    if num>=0:\n",
    "        print(num,end=' ')\n",
    "        aa(num-2)"
   ]
  },
  {
   "cell_type": "code",
   "execution_count": 6,
   "id": "b3eb29b1",
   "metadata": {},
   "outputs": [
    {
     "name": "stdout",
     "output_type": "stream",
     "text": [
      "7 5 3 1 "
     ]
    }
   ],
   "source": [
    "aa(7)"
   ]
  },
  {
   "cell_type": "code",
   "execution_count": 7,
   "id": "bde8670e",
   "metadata": {},
   "outputs": [],
   "source": [
    "def test(x):\n",
    "    if x==6:\n",
    "        return 2\n",
    "    else:\n",
    "        return x*test(x+1)"
   ]
  },
  {
   "cell_type": "code",
   "execution_count": 9,
   "id": "5632b03c",
   "metadata": {},
   "outputs": [
    {
     "data": {
      "text/plain": [
       "240"
      ]
     },
     "execution_count": 9,
     "metadata": {},
     "output_type": "execute_result"
    }
   ],
   "source": [
    "test(2)"
   ]
  },
  {
   "cell_type": "code",
   "execution_count": 16,
   "id": "d283d404",
   "metadata": {},
   "outputs": [],
   "source": [
    "def printValue1(num):\n",
    "    if num<2:\n",
    "        return\n",
    "    else:\n",
    "        print(num)\n",
    "        printValue(num//2)"
   ]
  },
  {
   "cell_type": "code",
   "execution_count": 18,
   "id": "6938b4b6",
   "metadata": {},
   "outputs": [
    {
     "name": "stdout",
     "output_type": "stream",
     "text": [
      "10\n",
      "5\n",
      "2\n"
     ]
    }
   ],
   "source": [
    "printValue1(10)"
   ]
  },
  {
   "cell_type": "code",
   "execution_count": 14,
   "id": "15d2e586",
   "metadata": {},
   "outputs": [],
   "source": [
    "def printValue(num):\n",
    "    while True:\n",
    "        if num<2:\n",
    "            return\n",
    "        print(num)\n",
    "        num = num//2"
   ]
  },
  {
   "cell_type": "code",
   "execution_count": 15,
   "id": "2a4b24b2",
   "metadata": {},
   "outputs": [
    {
     "name": "stdout",
     "output_type": "stream",
     "text": [
      "10\n",
      "5\n",
      "2\n"
     ]
    }
   ],
   "source": [
    "printValue(10)"
   ]
  },
  {
   "cell_type": "code",
   "execution_count": 44,
   "id": "ed16aab6",
   "metadata": {},
   "outputs": [],
   "source": [
    "def fourLetterWords(x,n):\n",
    "    \n",
    "    if len(x)!=0:\n",
    "        word = x.pop(n)\n",
    "        \n",
    "        if len(word)==4:\n",
    "            print(word)\n",
    "\n",
    "        fourLetterWords(x,n)"
   ]
  },
  {
   "cell_type": "code",
   "execution_count": 45,
   "id": "91481dfe",
   "metadata": {},
   "outputs": [
    {
     "name": "stdout",
     "output_type": "stream",
     "text": [
      "send\n",
      "user\n"
     ]
    }
   ],
   "source": [
    "fourLetterWords([\"send\", \"of\", \"user\"],0)"
   ]
  },
  {
   "cell_type": "code",
   "execution_count": 46,
   "id": "a0b0c251",
   "metadata": {},
   "outputs": [
    {
     "name": "stdout",
     "output_type": "stream",
     "text": [
      "blue\n",
      "pack\n"
     ]
    }
   ],
   "source": [
    "fourLetterWords([\"ant\", \"blue\", \"hat\", \"pack\"], 0) "
   ]
  },
  {
   "cell_type": "code",
   "execution_count": 27,
   "id": "d6a0d83b",
   "metadata": {},
   "outputs": [],
   "source": [
    "x  = [1,2,3]"
   ]
  },
  {
   "cell_type": "code",
   "execution_count": 29,
   "id": "32470ef7",
   "metadata": {},
   "outputs": [
    {
     "data": {
      "text/plain": [
       "2"
      ]
     },
     "execution_count": 29,
     "metadata": {},
     "output_type": "execute_result"
    }
   ],
   "source": [
    "x.pop()"
   ]
  },
  {
   "cell_type": "code",
   "execution_count": 53,
   "id": "f24a20bb",
   "metadata": {},
   "outputs": [],
   "source": [
    "def test(list,i):\n",
    "    if i<0:\n",
    "        return 0\n",
    "    elif list[i]%2!=0:\n",
    "        return 1 + countOdds(list,i-1)\n",
    "    else:\n",
    "        return countOdds(list,i-1)"
   ]
  },
  {
   "cell_type": "code",
   "execution_count": 54,
   "id": "3f5058b1",
   "metadata": {},
   "outputs": [
    {
     "data": {
      "text/plain": [
       "4"
      ]
     },
     "execution_count": 54,
     "metadata": {},
     "output_type": "execute_result"
    }
   ],
   "source": [
    "test([1,2,3,4,5,6,7],6)"
   ]
  },
  {
   "cell_type": "code",
   "execution_count": null,
   "id": "4d575624",
   "metadata": {},
   "outputs": [],
   "source": []
  }
 ],
 "metadata": {
  "kernelspec": {
   "display_name": "Python 3 (ipykernel)",
   "language": "python",
   "name": "python3"
  },
  "language_info": {
   "codemirror_mode": {
    "name": "ipython",
    "version": 3
   },
   "file_extension": ".py",
   "mimetype": "text/x-python",
   "name": "python",
   "nbconvert_exporter": "python",
   "pygments_lexer": "ipython3",
   "version": "3.8.5"
  }
 },
 "nbformat": 4,
 "nbformat_minor": 5
}
