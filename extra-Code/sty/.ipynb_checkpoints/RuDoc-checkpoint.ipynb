{
 "cells": [
  {
   "cell_type": "code",
   "execution_count": 25,
   "metadata": {},
   "outputs": [],
   "source": [
    "import json\n",
    "with open('vote.json', 'r') as fp:\n",
    "    vote = json.load(fp)\n",
    "voteDoc = vote['voteDoc']"
   ]
  },
  {
   "cell_type": "code",
   "execution_count": 8,
   "metadata": {},
   "outputs": [
    {
     "data": {
      "text/plain": [
       "dict_keys(['voteDoc', 'voteCheck', 'docType', 'ruDoc'])"
      ]
     },
     "execution_count": 8,
     "metadata": {},
     "output_type": "execute_result"
    }
   ],
   "source": [
    "vote.keys()"
   ]
  },
  {
   "cell_type": "code",
   "execution_count": 16,
   "metadata": {},
   "outputs": [],
   "source": [
    "voteDoc = vote['voteDoc']"
   ]
  },
  {
   "cell_type": "code",
   "execution_count": null,
   "metadata": {},
   "outputs": [],
   "source": [
    "# voteDoc, ruDoc,voteCheck\n",
    "# rspJson"
   ]
  },
  {
   "cell_type": "code",
   "execution_count": 13,
   "metadata": {},
   "outputs": [],
   "source": [
    "ruDoc = vote['ruDoc']"
   ]
  },
  {
   "cell_type": "code",
   "execution_count": 15,
   "metadata": {},
   "outputs": [
    {
     "data": {
      "text/plain": [
       "{'_id': 'FL-20201103-0-0-10-10001',\n",
       " 'eventId': 'FL-20201103',\n",
       " 'state': {'name': 'Florida', 'id': 10, 'postal': 'FL', 'phase': 'End of Tab'},\n",
       " 'race': {'id': 0,\n",
       "  'sequenceNumber': 594,\n",
       "  'name': 'President-General',\n",
       "  'type': 'General',\n",
       "  'order': 110,\n",
       "  'abbreviation': 'Pres',\n",
       "  'typeCode': 'G',\n",
       "  'precinctsTotal': 63,\n",
       "  'maxVotersInPrecinct': 6045,\n",
       "  'childTotal': 0,\n",
       "  'office': {'id': 'P',\n",
       "   'name': 'President',\n",
       "   'abbrv': 'Pres',\n",
       "   'description': ''},\n",
       "  'vote': {'expected': {'sourceId': 'Research',\n",
       "    'values': [{'id': 'Research',\n",
       "      'actual': 195425,\n",
       "      'soft': 163782,\n",
       "      'max': 190433,\n",
       "      'mode': {'absenteeTotal': {'actual': 160274, 'max': 190433}}}]},\n",
       "   'past': {'total': 128569, 'mode': {'absenteeTotal': 0}},\n",
       "   'changelog': {'created': {'timestamp': '2021-12-15 18:12:53.565000',\n",
       "     'by': 'System'},\n",
       "    'updated': {'timestamp': '2021-12-15 18:12:53.565000', 'by': 'System'}}},\n",
       "  'status': {'status': 'none',\n",
       "   'changelog': {'created': {'timestamp': '2021-12-15 18:12:53.565000',\n",
       "     'by': 'System'},\n",
       "    'updated': {'timestamp': '2021-12-15 18:12:53.565000', 'by': 'System'}}}},\n",
       " 'reportingUnit': {'id': 10001,\n",
       "  'friendlyId': 'FL-10001',\n",
       "  'name': 'Alachua',\n",
       "  'type': 'County',\n",
       "  'abbreviation': 'Alachua',\n",
       "  'precinctsTotal': 63,\n",
       "  'proportionalPrecincts': False,\n",
       "  'childTotal': 0,\n",
       "  'pollClosingTime': '2020-11-04T00:00:00.000Z',\n",
       "  'pollOpenTime': '2020-11-03T12:00:56.000Z',\n",
       "  'level': 2,\n",
       "  'fipsCode': 12001,\n",
       "  'ballotsCastTotal': 0,\n",
       "  'regionInfo': [{'id': 10021,\n",
       "    'name': 'North Florida',\n",
       "    'abbrv': 'NorFla',\n",
       "    'type': 'Geographical',\n",
       "    'precincts': 63},\n",
       "   {'id': 10029,\n",
       "    'name': 'District 3',\n",
       "    'abbrv': 'CD 3',\n",
       "    'type': 'Congressional District',\n",
       "    'precincts': 63}],\n",
       "  'geoStratum': {'id': 1, 'order': 10, 'name': 'North/Panhandle'},\n",
       "  'polStratum': {'id': 2, 'order': 20, 'name': 'Mod Democrat'},\n",
       "  'parent': {'id': 10,\n",
       "   'key': 'FL-20201103-0-0-10',\n",
       "   'name': 'Florida',\n",
       "   'type': 'State',\n",
       "   'level': 1}},\n",
       " 'raceDetail': {'tabulated': False,\n",
       "  'uncontested': False,\n",
       "  'priority': 0,\n",
       "  'votesPerVoter': 1,\n",
       "  'numberOfWinners': 1,\n",
       "  'numRunoffCands': 0,\n",
       "  'turnover': 0,\n",
       "  'seat': {},\n",
       "  'incumbents': [{'id': 14574,\n",
       "    'npId': 8639,\n",
       "    'candidateId': 21369,\n",
       "    'party': 'GOP',\n",
       "    'name': {'last': 'Trump',\n",
       "     'first': 'Donald',\n",
       "     'middle': '',\n",
       "     'suffix': '    '},\n",
       "    'active': True}],\n",
       "  'delegates': [{'id': 0,\n",
       "    'candidateId': 0,\n",
       "    'delegatesWon': 0,\n",
       "    'changelog': {'created': {'timestamp': '2021-12-15 18:12:53.565000',\n",
       "      'by': 'System'},\n",
       "     'updated': {'timestamp': '2021-12-15 18:12:53.565000', 'by': 'System'}}}],\n",
       "  'party': '',\n",
       "  'characteristics': {'scope': ['state', 'national']},\n",
       "  'changelog': {'created': {'timestamp': '2021-12-15 18:12:53.565000',\n",
       "    'by': 'System'},\n",
       "   'updated': {'timestamp': '2021-12-15 18:12:53.565000', 'by': 'System'}}},\n",
       " 'reportingSource': {'precinctsReporting': 8,\n",
       "  'usingProportional': False,\n",
       "  'sourceIds': {'voteTotal': 'Stringer',\n",
       "   'voteByMode': 'WebScrape',\n",
       "   'totalBallotsCast': 'Stringer'},\n",
       "  'candidates': [{'id': 14574,\n",
       "    'vote': {'parties': [{'id': 'Dem',\n",
       "       'candidateId': 21369,\n",
       "       'vote': {'total': 100}}]}},\n",
       "   {'id': 14575,\n",
       "    'vote': {'parties': [{'id': 'Dem',\n",
       "       'candidateId': 21370,\n",
       "       'vote': {'total': 120}}]}},\n",
       "   {'id': 14576,\n",
       "    'vote': {'parties': [{'id': 'Dem',\n",
       "       'candidateId': 21371,\n",
       "       'vote': {'total': 130}}]}}]},\n",
       " 'sources': [{'id': 'WebScrape',\n",
       "   'precinctsReporting': 63,\n",
       "   'candidates': [{'id': 14574,\n",
       "     'name': {'last': 'Trump',\n",
       "      'first': 'Donald',\n",
       "      'middle': '',\n",
       "      'suffix': '    ',\n",
       "      'abbrv': 'Trump'},\n",
       "     'vote': {'total': 50891,\n",
       "      'mode': {'electionDayInPerson': {'directInput': {'isNull': True,\n",
       "         'value': 0},\n",
       "        'rolledUp': {'isNull': True, 'value': 0}},\n",
       "       'earlyInPerson': {'directInput': {'isNull': True, 'value': 0},\n",
       "        'rolledUp': {'isNull': True, 'value': 0}},\n",
       "       'absenteeInPerson': {'directInput': {'isNull': True, 'value': 0},\n",
       "        'rolledUp': {'isNull': True, 'value': 0}},\n",
       "       'absenteeMail': {'directInput': {'isNull': True, 'value': 0},\n",
       "        'rolledUp': {'isNull': True, 'value': 0}},\n",
       "       'provisional': {'directInput': {'isNull': True, 'value': 0},\n",
       "        'rolledUp': {'isNull': True, 'value': 0}},\n",
       "       'absenteeTotal': {'directInput': {'isNull': False, 'value': 35881},\n",
       "        'rolledUp': {'isNull': True, 'value': 0}},\n",
       "       'advanceInPersonTotal': {'directInput': {'isNull': True, 'value': 0},\n",
       "        'rolledUp': {'isNull': True, 'value': 0}},\n",
       "       'advanceTotal': {'directInput': {'isNull': True, 'value': 0},\n",
       "        'rolledUp': {'isNull': True, 'value': 0}},\n",
       "       'inPersonTotal': {'directInput': {'isNull': True, 'value': 0},\n",
       "        'rolledUp': {'isNull': True, 'value': 0}}},\n",
       "      'parties': [{'id': 'GOP',\n",
       "        'vote': {'total': 50891,\n",
       "         'mode': {'electionDayInPerson': {'directInput': {'isNull': True,\n",
       "            'value': 0},\n",
       "           'rolledUp': {'isNull': True, 'value': 0}},\n",
       "          'earlyInPerson': {'directInput': {'isNull': True, 'value': 0},\n",
       "           'rolledUp': {'isNull': True, 'value': 0}},\n",
       "          'absenteeInPerson': {'directInput': {'isNull': True, 'value': 0},\n",
       "           'rolledUp': {'isNull': True, 'value': 0}},\n",
       "          'absenteeMail': {'directInput': {'isNull': True, 'value': 0},\n",
       "           'rolledUp': {'isNull': True, 'value': 0}},\n",
       "          'provisional': {'directInput': {'isNull': True, 'value': 0},\n",
       "           'rolledUp': {'isNull': True, 'value': 0}},\n",
       "          'absenteeTotal': {'directInput': {'isNull': False, 'value': 35881},\n",
       "           'rolledUp': {'isNull': True, 'value': 0}},\n",
       "          'advanceInPersonTotal': {'directInput': {'isNull': True, 'value': 0},\n",
       "           'rolledUp': {'isNull': True, 'value': 0}},\n",
       "          'advanceTotal': {'directInput': {'isNull': True, 'value': 0},\n",
       "           'rolledUp': {'isNull': True, 'value': 0}},\n",
       "          'inPersonTotal': {'directInput': {'isNull': True, 'value': 0},\n",
       "           'rolledUp': {'isNull': True, 'value': 0}}},\n",
       "         'ballotOrder': 0}}]}},\n",
       "    {'id': 15350,\n",
       "     'name': {'last': 'Biden',\n",
       "      'first': 'Joe',\n",
       "      'middle': '',\n",
       "      'suffix': '',\n",
       "      'abbrv': 'Biden'},\n",
       "     'vote': {'total': 89527,\n",
       "      'mode': {'electionDayInPerson': {'directInput': {'isNull': True,\n",
       "         'value': 0},\n",
       "        'rolledUp': {'isNull': True, 'value': 0}},\n",
       "       'earlyInPerson': {'directInput': {'isNull': True, 'value': 0},\n",
       "        'rolledUp': {'isNull': True, 'value': 0}},\n",
       "       'absenteeInPerson': {'directInput': {'isNull': True, 'value': 0},\n",
       "        'rolledUp': {'isNull': True, 'value': 0}},\n",
       "       'absenteeMail': {'directInput': {'isNull': True, 'value': 0},\n",
       "        'rolledUp': {'isNull': True, 'value': 0}},\n",
       "       'provisional': {'directInput': {'isNull': True, 'value': 0},\n",
       "        'rolledUp': {'isNull': True, 'value': 0}},\n",
       "       'absenteeTotal': {'directInput': {'isNull': False, 'value': 77471},\n",
       "        'rolledUp': {'isNull': True, 'value': 0}},\n",
       "       'advanceInPersonTotal': {'directInput': {'isNull': True, 'value': 0},\n",
       "        'rolledUp': {'isNull': True, 'value': 0}},\n",
       "       'advanceTotal': {'directInput': {'isNull': True, 'value': 0},\n",
       "        'rolledUp': {'isNull': True, 'value': 0}},\n",
       "       'inPersonTotal': {'directInput': {'isNull': True, 'value': 0},\n",
       "        'rolledUp': {'isNull': True, 'value': 0}}},\n",
       "      'parties': [{'id': 'Dem',\n",
       "        'vote': {'total': 89527,\n",
       "         'mode': {'electionDayInPerson': {'directInput': {'isNull': True,\n",
       "            'value': 0},\n",
       "           'rolledUp': {'isNull': True, 'value': 0}},\n",
       "          'earlyInPerson': {'directInput': {'isNull': True, 'value': 0},\n",
       "           'rolledUp': {'isNull': True, 'value': 0}},\n",
       "          'absenteeInPerson': {'directInput': {'isNull': True, 'value': 0},\n",
       "           'rolledUp': {'isNull': True, 'value': 0}},\n",
       "          'absenteeMail': {'directInput': {'isNull': True, 'value': 0},\n",
       "           'rolledUp': {'isNull': True, 'value': 0}},\n",
       "          'provisional': {'directInput': {'isNull': True, 'value': 0},\n",
       "           'rolledUp': {'isNull': True, 'value': 0}},\n",
       "          'absenteeTotal': {'directInput': {'isNull': False, 'value': 77471},\n",
       "           'rolledUp': {'isNull': True, 'value': 0}},\n",
       "          'advanceInPersonTotal': {'directInput': {'isNull': True, 'value': 0},\n",
       "           'rolledUp': {'isNull': True, 'value': 0}},\n",
       "          'advanceTotal': {'directInput': {'isNull': True, 'value': 0},\n",
       "           'rolledUp': {'isNull': True, 'value': 0}},\n",
       "          'inPersonTotal': {'directInput': {'isNull': True, 'value': 0},\n",
       "           'rolledUp': {'isNull': True, 'value': 0}}},\n",
       "         'ballotOrder': 0}}]}},\n",
       "    {'id': 15367,\n",
       "     'name': {'last': 'De La Fuente',\n",
       "      'first': 'Roque',\n",
       "      'middle': '',\n",
       "      'suffix': '',\n",
       "      'abbrv': 'DeLaFunt'},\n",
       "     'vote': {'total': 69,\n",
       "      'mode': {'electionDayInPerson': {'directInput': {'isNull': True,\n",
       "         'value': 0},\n",
       "        'rolledUp': {'isNull': True, 'value': 0}},\n",
       "       'earlyInPerson': {'directInput': {'isNull': True, 'value': 0},\n",
       "        'rolledUp': {'isNull': True, 'value': 0}},\n",
       "       'absenteeInPerson': {'directInput': {'isNull': True, 'value': 0},\n",
       "        'rolledUp': {'isNull': True, 'value': 0}},\n",
       "       'absenteeMail': {'directInput': {'isNull': True, 'value': 0},\n",
       "        'rolledUp': {'isNull': True, 'value': 0}},\n",
       "       'provisional': {'directInput': {'isNull': True, 'value': 0},\n",
       "        'rolledUp': {'isNull': True, 'value': 0}},\n",
       "       'absenteeTotal': {'directInput': {'isNull': False, 'value': 50},\n",
       "        'rolledUp': {'isNull': True, 'value': 0}},\n",
       "       'advanceInPersonTotal': {'directInput': {'isNull': True, 'value': 0},\n",
       "        'rolledUp': {'isNull': True, 'value': 0}},\n",
       "       'advanceTotal': {'directInput': {'isNull': True, 'value': 0},\n",
       "        'rolledUp': {'isNull': True, 'value': 0}},\n",
       "       'inPersonTotal': {'directInput': {'isNull': True, 'value': 0},\n",
       "        'rolledUp': {'isNull': True, 'value': 0}}},\n",
       "      'parties': [{'id': 'RP',\n",
       "        'vote': {'total': 69,\n",
       "         'mode': {'electionDayInPerson': {'directInput': {'isNull': True,\n",
       "            'value': 0},\n",
       "           'rolledUp': {'isNull': True, 'value': 0}},\n",
       "          'earlyInPerson': {'directInput': {'isNull': True, 'value': 0},\n",
       "           'rolledUp': {'isNull': True, 'value': 0}},\n",
       "          'absenteeInPerson': {'directInput': {'isNull': True, 'value': 0},\n",
       "           'rolledUp': {'isNull': True, 'value': 0}},\n",
       "          'absenteeMail': {'directInput': {'isNull': True, 'value': 0},\n",
       "           'rolledUp': {'isNull': True, 'value': 0}},\n",
       "          'provisional': {'directInput': {'isNull': True, 'value': 0},\n",
       "           'rolledUp': {'isNull': True, 'value': 0}},\n",
       "          'absenteeTotal': {'directInput': {'isNull': False, 'value': 50},\n",
       "           'rolledUp': {'isNull': True, 'value': 0}},\n",
       "          'advanceInPersonTotal': {'directInput': {'isNull': True, 'value': 0},\n",
       "           'rolledUp': {'isNull': True, 'value': 0}},\n",
       "          'advanceTotal': {'directInput': {'isNull': True, 'value': 0},\n",
       "           'rolledUp': {'isNull': True, 'value': 0}},\n",
       "          'inPersonTotal': {'directInput': {'isNull': True, 'value': 0},\n",
       "           'rolledUp': {'isNull': True, 'value': 0}}},\n",
       "         'ballotOrder': 0}}]}},\n",
       "    {'id': 15642,\n",
       "     'name': {'last': 'Jorgensen',\n",
       "      'first': 'Jo',\n",
       "      'middle': '',\n",
       "      'suffix': '',\n",
       "      'abbrv': 'Jorgensn'},\n",
       "     'vote': {'total': 1389,\n",
       "      'mode': {'electionDayInPerson': {'directInput': {'isNull': True,\n",
       "         'value': 0},\n",
       "        'rolledUp': {'isNull': True, 'value': 0}},\n",
       "       'earlyInPerson': {'directInput': {'isNull': True, 'value': 0},\n",
       "        'rolledUp': {'isNull': True, 'value': 0}},\n",
       "       'absenteeInPerson': {'directInput': {'isNull': True, 'value': 0},\n",
       "        'rolledUp': {'isNull': True, 'value': 0}},\n",
       "       'absenteeMail': {'directInput': {'isNull': True, 'value': 0},\n",
       "        'rolledUp': {'isNull': True, 'value': 0}},\n",
       "       'provisional': {'directInput': {'isNull': True, 'value': 0},\n",
       "        'rolledUp': {'isNull': True, 'value': 0}},\n",
       "       'absenteeTotal': {'directInput': {'isNull': False, 'value': 890},\n",
       "        'rolledUp': {'isNull': True, 'value': 0}},\n",
       "       'advanceInPersonTotal': {'directInput': {'isNull': True, 'value': 0},\n",
       "        'rolledUp': {'isNull': True, 'value': 0}},\n",
       "       'advanceTotal': {'directInput': {'isNull': True, 'value': 0},\n",
       "        'rolledUp': {'isNull': True, 'value': 0}},\n",
       "       'inPersonTotal': {'directInput': {'isNull': True, 'value': 0},\n",
       "        'rolledUp': {'isNull': True, 'value': 0}}},\n",
       "      'parties': [{'id': 'Lib',\n",
       "        'vote': {'total': 1389,\n",
       "         'mode': {'electionDayInPerson': {'directInput': {'isNull': True,\n",
       "            'value': 0},\n",
       "           'rolledUp': {'isNull': True, 'value': 0}},\n",
       "          'earlyInPerson': {'directInput': {'isNull': True, 'value': 0},\n",
       "           'rolledUp': {'isNull': True, 'value': 0}},\n",
       "          'absenteeInPerson': {'directInput': {'isNull': True, 'value': 0},\n",
       "           'rolledUp': {'isNull': True, 'value': 0}},\n",
       "          'absenteeMail': {'directInput': {'isNull': True, 'value': 0},\n",
       "           'rolledUp': {'isNull': True, 'value': 0}},\n",
       "          'provisional': {'directInput': {'isNull': True, 'value': 0},\n",
       "           'rolledUp': {'isNull': True, 'value': 0}},\n",
       "          'absenteeTotal': {'directInput': {'isNull': False, 'value': 890},\n",
       "           'rolledUp': {'isNull': True, 'value': 0}},\n",
       "          'advanceInPersonTotal': {'directInput': {'isNull': True, 'value': 0},\n",
       "           'rolledUp': {'isNull': True, 'value': 0}},\n",
       "          'advanceTotal': {'directInput': {'isNull': True, 'value': 0},\n",
       "           'rolledUp': {'isNull': True, 'value': 0}},\n",
       "          'inPersonTotal': {'directInput': {'isNull': True, 'value': 0},\n",
       "           'rolledUp': {'isNull': True, 'value': 0}}},\n",
       "         'ballotOrder': 0}}]}},\n",
       "    {'id': 15643,\n",
       "     'name': {'last': 'Hawkins',\n",
       "      'first': 'Howie',\n",
       "      'middle': '',\n",
       "      'suffix': '',\n",
       "      'abbrv': 'Hawkins'},\n",
       "     'vote': {'total': 301,\n",
       "      'mode': {'electionDayInPerson': {'directInput': {'isNull': True,\n",
       "         'value': 0},\n",
       "        'rolledUp': {'isNull': True, 'value': 0}},\n",
       "       'earlyInPerson': {'directInput': {'isNull': True, 'value': 0},\n",
       "        'rolledUp': {'isNull': True, 'value': 0}},\n",
       "       'absenteeInPerson': {'directInput': {'isNull': True, 'value': 0},\n",
       "        'rolledUp': {'isNull': True, 'value': 0}},\n",
       "       'absenteeMail': {'directInput': {'isNull': True, 'value': 0},\n",
       "        'rolledUp': {'isNull': True, 'value': 0}},\n",
       "       'provisional': {'directInput': {'isNull': True, 'value': 0},\n",
       "        'rolledUp': {'isNull': True, 'value': 0}},\n",
       "       'absenteeTotal': {'directInput': {'isNull': False, 'value': 223},\n",
       "        'rolledUp': {'isNull': True, 'value': 0}},\n",
       "       'advanceInPersonTotal': {'directInput': {'isNull': True, 'value': 0},\n",
       "        'rolledUp': {'isNull': True, 'value': 0}},\n",
       "       'advanceTotal': {'directInput': {'isNull': True, 'value': 0},\n",
       "        'rolledUp': {'isNull': True, 'value': 0}},\n",
       "       'inPersonTotal': {'directInput': {'isNull': True, 'value': 0},\n",
       "        'rolledUp': {'isNull': True, 'value': 0}}},\n",
       "      'parties': [{'id': 'Grn',\n",
       "        'vote': {'total': 301,\n",
       "         'mode': {'electionDayInPerson': {'directInput': {'isNull': True,\n",
       "            'value': 0},\n",
       "           'rolledUp': {'isNull': True, 'value': 0}},\n",
       "          'earlyInPerson': {'directInput': {'isNull': True, 'value': 0},\n",
       "           'rolledUp': {'isNull': True, 'value': 0}},\n",
       "          'absenteeInPerson': {'directInput': {'isNull': True, 'value': 0},\n",
       "           'rolledUp': {'isNull': True, 'value': 0}},\n",
       "          'absenteeMail': {'directInput': {'isNull': True, 'value': 0},\n",
       "           'rolledUp': {'isNull': True, 'value': 0}},\n",
       "          'provisional': {'directInput': {'isNull': True, 'value': 0},\n",
       "           'rolledUp': {'isNull': True, 'value': 0}},\n",
       "          'absenteeTotal': {'directInput': {'isNull': False, 'value': 223},\n",
       "           'rolledUp': {'isNull': True, 'value': 0}},\n",
       "          'advanceInPersonTotal': {'directInput': {'isNull': True, 'value': 0},\n",
       "           'rolledUp': {'isNull': True, 'value': 0}},\n",
       "          'advanceTotal': {'directInput': {'isNull': True, 'value': 0},\n",
       "           'rolledUp': {'isNull': True, 'value': 0}},\n",
       "          'inPersonTotal': {'directInput': {'isNull': True, 'value': 0},\n",
       "           'rolledUp': {'isNull': True, 'value': 0}}},\n",
       "         'ballotOrder': 0}}]}},\n",
       "    {'id': 15644,\n",
       "     'name': {'last': 'La Riva',\n",
       "      'first': 'Gloria',\n",
       "      'middle': '',\n",
       "      'suffix': '',\n",
       "      'abbrv': 'LaRiva'},\n",
       "     'vote': {'total': 94,\n",
       "      'mode': {'electionDayInPerson': {'directInput': {'isNull': True,\n",
       "         'value': 0},\n",
       "        'rolledUp': {'isNull': True, 'value': 0}},\n",
       "       'earlyInPerson': {'directInput': {'isNull': True, 'value': 0},\n",
       "        'rolledUp': {'isNull': True, 'value': 0}},\n",
       "       'absenteeInPerson': {'directInput': {'isNull': True, 'value': 0},\n",
       "        'rolledUp': {'isNull': True, 'value': 0}},\n",
       "       'absenteeMail': {'directInput': {'isNull': True, 'value': 0},\n",
       "        'rolledUp': {'isNull': True, 'value': 0}},\n",
       "       'provisional': {'directInput': {'isNull': True, 'value': 0},\n",
       "        'rolledUp': {'isNull': True, 'value': 0}},\n",
       "       'absenteeTotal': {'directInput': {'isNull': False, 'value': 69},\n",
       "        'rolledUp': {'isNull': True, 'value': 0}},\n",
       "       'advanceInPersonTotal': {'directInput': {'isNull': True, 'value': 0},\n",
       "        'rolledUp': {'isNull': True, 'value': 0}},\n",
       "       'advanceTotal': {'directInput': {'isNull': True, 'value': 0},\n",
       "        'rolledUp': {'isNull': True, 'value': 0}},\n",
       "       'inPersonTotal': {'directInput': {'isNull': True, 'value': 0},\n",
       "        'rolledUp': {'isNull': True, 'value': 0}}},\n",
       "      'parties': [{'id': 'PSL',\n",
       "        'vote': {'total': 94,\n",
       "         'mode': {'electionDayInPerson': {'directInput': {'isNull': True,\n",
       "            'value': 0},\n",
       "           'rolledUp': {'isNull': True, 'value': 0}},\n",
       "          'earlyInPerson': {'directInput': {'isNull': True, 'value': 0},\n",
       "           'rolledUp': {'isNull': True, 'value': 0}},\n",
       "          'absenteeInPerson': {'directInput': {'isNull': True, 'value': 0},\n",
       "           'rolledUp': {'isNull': True, 'value': 0}},\n",
       "          'absenteeMail': {'directInput': {'isNull': True, 'value': 0},\n",
       "           'rolledUp': {'isNull': True, 'value': 0}},\n",
       "          'provisional': {'directInput': {'isNull': True, 'value': 0},\n",
       "           'rolledUp': {'isNull': True, 'value': 0}},\n",
       "          'absenteeTotal': {'directInput': {'isNull': False, 'value': 69},\n",
       "           'rolledUp': {'isNull': True, 'value': 0}},\n",
       "          'advanceInPersonTotal': {'directInput': {'isNull': True, 'value': 0},\n",
       "           'rolledUp': {'isNull': True, 'value': 0}},\n",
       "          'advanceTotal': {'directInput': {'isNull': True, 'value': 0},\n",
       "           'rolledUp': {'isNull': True, 'value': 0}},\n",
       "          'inPersonTotal': {'directInput': {'isNull': True, 'value': 0},\n",
       "           'rolledUp': {'isNull': True, 'value': 0}}},\n",
       "         'ballotOrder': 0}}]}},\n",
       "    {'id': 15652,\n",
       "     'name': {'last': 'Blankenship',\n",
       "      'first': 'Don',\n",
       "      'middle': '',\n",
       "      'suffix': '',\n",
       "      'abbrv': 'Blnknshp'},\n",
       "     'vote': {'total': 52,\n",
       "      'mode': {'electionDayInPerson': {'directInput': {'isNull': True,\n",
       "         'value': 0},\n",
       "        'rolledUp': {'isNull': True, 'value': 0}},\n",
       "       'earlyInPerson': {'directInput': {'isNull': True, 'value': 0},\n",
       "        'rolledUp': {'isNull': True, 'value': 0}},\n",
       "       'absenteeInPerson': {'directInput': {'isNull': True, 'value': 0},\n",
       "        'rolledUp': {'isNull': True, 'value': 0}},\n",
       "       'absenteeMail': {'directInput': {'isNull': True, 'value': 0},\n",
       "        'rolledUp': {'isNull': True, 'value': 0}},\n",
       "       'provisional': {'directInput': {'isNull': True, 'value': 0},\n",
       "        'rolledUp': {'isNull': True, 'value': 0}},\n",
       "       'absenteeTotal': {'directInput': {'isNull': False, 'value': 38},\n",
       "        'rolledUp': {'isNull': True, 'value': 0}},\n",
       "       'advanceInPersonTotal': {'directInput': {'isNull': True, 'value': 0},\n",
       "        'rolledUp': {'isNull': True, 'value': 0}},\n",
       "       'advanceTotal': {'directInput': {'isNull': True, 'value': 0},\n",
       "        'rolledUp': {'isNull': True, 'value': 0}},\n",
       "       'inPersonTotal': {'directInput': {'isNull': True, 'value': 0},\n",
       "        'rolledUp': {'isNull': True, 'value': 0}}},\n",
       "      'parties': [{'id': 'CST',\n",
       "        'vote': {'total': 52,\n",
       "         'mode': {'electionDayInPerson': {'directInput': {'isNull': True,\n",
       "            'value': 0},\n",
       "           'rolledUp': {'isNull': True, 'value': 0}},\n",
       "          'earlyInPerson': {'directInput': {'isNull': True, 'value': 0},\n",
       "           'rolledUp': {'isNull': True, 'value': 0}},\n",
       "          'absenteeInPerson': {'directInput': {'isNull': True, 'value': 0},\n",
       "           'rolledUp': {'isNull': True, 'value': 0}},\n",
       "          'absenteeMail': {'directInput': {'isNull': True, 'value': 0},\n",
       "           'rolledUp': {'isNull': True, 'value': 0}},\n",
       "          'provisional': {'directInput': {'isNull': True, 'value': 0},\n",
       "           'rolledUp': {'isNull': True, 'value': 0}},\n",
       "          'absenteeTotal': {'directInput': {'isNull': False, 'value': 38},\n",
       "           'rolledUp': {'isNull': True, 'value': 0}},\n",
       "          'advanceInPersonTotal': {'directInput': {'isNull': True, 'value': 0},\n",
       "           'rolledUp': {'isNull': True, 'value': 0}},\n",
       "          'advanceTotal': {'directInput': {'isNull': True, 'value': 0},\n",
       "           'rolledUp': {'isNull': True, 'value': 0}},\n",
       "          'inPersonTotal': {'directInput': {'isNull': True, 'value': 0},\n",
       "           'rolledUp': {'isNull': True, 'value': 0}}},\n",
       "         'ballotOrder': 0}}]}}],\n",
       "   'vote': {'total': 142323,\n",
       "    'mode': {'electionDayInPerson': {'directInput': {'isNull': True,\n",
       "       'value': 0},\n",
       "      'rolledUp': {'isNull': True, 'value': 0}},\n",
       "     'earlyInPerson': {'directInput': {'isNull': True, 'value': 0},\n",
       "      'rolledUp': {'isNull': True, 'value': 0}},\n",
       "     'absenteeInPerson': {'directInput': {'isNull': True, 'value': 0},\n",
       "      'rolledUp': {'isNull': True, 'value': 0}},\n",
       "     'absenteeMail': {'directInput': {'isNull': True, 'value': 0},\n",
       "      'rolledUp': {'isNull': True, 'value': 0}},\n",
       "     'provisional': {'directInput': {'isNull': True, 'value': 0},\n",
       "      'rolledUp': {'isNull': True, 'value': 0}},\n",
       "     'absenteeTotal': {'directInput': {'isNull': False, 'value': 114622},\n",
       "      'rolledUp': {'isNull': True, 'value': 0}},\n",
       "     'advanceInPersonTotal': {'directInput': {'isNull': True, 'value': 0},\n",
       "      'rolledUp': {'isNull': True, 'value': 0}},\n",
       "     'advanceTotal': {'directInput': {'isNull': True, 'value': 0},\n",
       "      'rolledUp': {'isNull': True, 'value': 0}},\n",
       "     'inPersonTotal': {'directInput': {'isNull': True, 'value': 0},\n",
       "      'rolledUp': {'isNull': True, 'value': 0}}}}}]}"
      ]
     },
     "execution_count": 15,
     "metadata": {},
     "output_type": "execute_result"
    }
   ],
   "source": [
    "ruDoc"
   ]
  },
  {
   "cell_type": "code",
   "execution_count": 47,
   "metadata": {},
   "outputs": [
    {
     "data": {
      "text/plain": [
       "{'_id': 'TX-20220301_v12-48466-44-44135',\n",
       " 'raceId': 0,\n",
       " 'statePostal': 'TX',\n",
       " 'updateType': 'cumulative',\n",
       " 'source': [{'id': 'WebScrape',\n",
       "   'precinctsReporting': 9999999999999999,\n",
       "   'candidates': [{'id': 47499,\n",
       "     'vote': {'parties': [{'id': 'Dem',\n",
       "        'candidateId': 21369,\n",
       "        'vote': {'total': 10}}]}},\n",
       "    {'id': 51293,\n",
       "     'vote': {'parties': [{'id': 'Dem',\n",
       "        'candidateId': 21370,\n",
       "        'vote': {'total': 12}}]}},\n",
       "    {'id': 53062,\n",
       "     'vote': {'parties': [{'id': 'Dem',\n",
       "        'candidateId': 21371,\n",
       "        'vote': {'total': 13}}]}}]}]}"
      ]
     },
     "execution_count": 47,
     "metadata": {},
     "output_type": "execute_result"
    }
   ],
   "source": [
    "voteDoc['action']"
   ]
  },
  {
   "cell_type": "code",
   "execution_count": 1,
   "metadata": {},
   "outputs": [],
   "source": [
    "k = {'Parties->': {'_id': 'TX-20220301_v12-48466-44-44135', 'raceId': 0, 'statePostal': 'TX', 'updateType': 'cumulative', 'source': [{'id': 'WebScrape', 'precinctsReporting': 9999999999999999, 'candidates': [{'id': 47499, 'vote': {'parties': [{'id': 'Dem', 'candidateId': 21369, 'vote': {'total': 10}}]}}, {'id': 51293, 'vote': {'parties': [{'id': 'Dem', 'candidateId': 21370, 'vote': {'total': 12}}]}}, {'id': 53062, 'vote': {'parties': [{'id': 'Dem', 'candidateId': 21371, 'vote': {'total': 13}}]}}]}]}}\n"
   ]
  },
  {
   "cell_type": "code",
   "execution_count": 48,
   "metadata": {},
   "outputs": [
    {
     "data": {
      "text/plain": [
       "10"
      ]
     },
     "execution_count": 48,
     "metadata": {},
     "output_type": "execute_result"
    }
   ],
   "source": [
    "voteDoc['action']['source'][0]['candidates'][0]['vote']['parties'][0]['vote']['total']"
   ]
  },
  {
   "cell_type": "code",
   "execution_count": 49,
   "metadata": {},
   "outputs": [
    {
     "data": {
      "text/plain": [
       "21369"
      ]
     },
     "execution_count": 49,
     "metadata": {},
     "output_type": "execute_result"
    }
   ],
   "source": [
    "voteDoc['action']['source'][0]['candidates'][0]['vote']['parties'][0]['candidateId']"
   ]
  },
  {
   "cell_type": "code",
   "execution_count": 61,
   "metadata": {},
   "outputs": [
    {
     "data": {
      "text/plain": [
       "[(21369, 10), (21370, 12), (21371, 13)]"
      ]
     },
     "execution_count": 61,
     "metadata": {},
     "output_type": "execute_result"
    }
   ],
   "source": [
    "[(i['vote']['parties'][0]['candidateId'],i['vote']['parties'][0]['vote']['total']) for i in voteDoc['action']['source'][0]['candidates']]"
   ]
  },
  {
   "cell_type": "code",
   "execution_count": 54,
   "metadata": {},
   "outputs": [
    {
     "data": {
      "text/plain": [
       "1"
      ]
     },
     "execution_count": 54,
     "metadata": {},
     "output_type": "execute_result"
    }
   ],
   "source": [
    "len(voteDoc['action']['source'])"
   ]
  },
  {
   "cell_type": "code",
   "execution_count": 106,
   "metadata": {},
   "outputs": [
    {
     "data": {
      "text/plain": [
       "[{'id': 'Dem', 'candidateId': 21371, 'vote': {'total': 13}}]"
      ]
     },
     "execution_count": 106,
     "metadata": {},
     "output_type": "execute_result"
    }
   ],
   "source": [
    "voteDoc['action']['source'][0]['candidates'][2]['vote']['parties']"
   ]
  },
  {
   "cell_type": "code",
   "execution_count": 65,
   "metadata": {},
   "outputs": [
    {
     "data": {
      "text/plain": [
       "{'id': 'WebScrape',\n",
       " 'precinctsReporting': 9999999999999999,\n",
       " 'candidates': [{'id': 47499,\n",
       "   'vote': {'parties': [{'id': 'Dem',\n",
       "      'candidateId': 21369,\n",
       "      'vote': {'total': 10}}]}},\n",
       "  {'id': 51293,\n",
       "   'vote': {'parties': [{'id': 'Dem',\n",
       "      'candidateId': 21370,\n",
       "      'vote': {'total': 12}}]}},\n",
       "  {'id': 53062,\n",
       "   'vote': {'parties': [{'id': 'Dem',\n",
       "      'candidateId': 21371,\n",
       "      'vote': {'total': 13}}]}}]}"
      ]
     },
     "execution_count": 65,
     "metadata": {},
     "output_type": "execute_result"
    }
   ],
   "source": [
    "voteDoc['action']['source'][0]"
   ]
  },
  {
   "cell_type": "code",
   "execution_count": 82,
   "metadata": {},
   "outputs": [
    {
     "data": {
      "text/plain": [
       "dict_keys(['id', 'precinctsReporting', 'candidates'])"
      ]
     },
     "execution_count": 82,
     "metadata": {},
     "output_type": "execute_result"
    }
   ],
   "source": [
    "voteDoc['action']['source'][0][]"
   ]
  },
  {
   "cell_type": "code",
   "execution_count": 102,
   "metadata": {},
   "outputs": [],
   "source": [
    "vote_id_total = []\n",
    "for i in voteDoc['action']['source']:\n",
    "    for j in range(len(voteDoc['action']['source'])):\n",
    "        x = voteDoc['action']['source']\n",
    "        for k in x[j]:\n",
    "            for l in range(len(x[j]['candidates'])):\n",
    "                for m in range(len(x[j]['candidates'][l]['vote']['parties'])):\n",
    "                    can_id = x[j]['candidates'][l]['vote']['parties'][m]['candidateId']\n",
    "                    total = x[j]['candidates'][l]['vote']['parties'][m]['vote']['total']\n",
    "                    vote_id_total.append((can_id,total))\n",
    "vote_id_total = set(vote_id_total)"
   ]
  },
  {
   "cell_type": "code",
   "execution_count": null,
   "metadata": {},
   "outputs": [],
   "source": []
  },
  {
   "cell_type": "code",
   "execution_count": 103,
   "metadata": {},
   "outputs": [
    {
     "data": {
      "text/plain": [
       "{(21369, 10), (21370, 12), (21371, 13)}"
      ]
     },
     "execution_count": 103,
     "metadata": {},
     "output_type": "execute_result"
    }
   ],
   "source": [
    "vote_id_total"
   ]
  },
  {
   "cell_type": "code",
   "execution_count": 26,
   "metadata": {},
   "outputs": [
    {
     "name": "stdout",
     "output_type": "stream",
     "text": [
      "{'votetoal': [(21369, 10, 'Dem'), (62999, 13, 'GOP'), (63001, 12, 'GOP')]}\n"
     ]
    }
   ],
   "source": [
    "vote_id_total = []\n",
    "for i in voteDoc['action']['source']:\n",
    "    for j in range(len(voteDoc['action']['source'])):\n",
    "        x = voteDoc['action']['source']\n",
    "        for k in x[j]:\n",
    "            for l in range(len(x[j]['candidates'])):\n",
    "                for m in range(len(x[j]['candidates'][l]['vote']['parties'])):\n",
    "                    can_id = x[j]['candidates'][l]['vote']['parties'][m]['candidateId']\n",
    "                    total = x[j]['candidates'][l]['vote']['parties'][m]['vote']['total']\n",
    "                    pid =  x[j]['candidates'][l]['vote']['parties'][m]['id']\n",
    "                    vote_id_total.append((can_id,total,pid))\n",
    "vote_id_total = list(set(vote_id_total))\n",
    "print({'votetoal':vote_id_total})\n",
    "# logger.info(\"end\")\n"
   ]
  },
  {
   "cell_type": "code",
   "execution_count": 27,
   "metadata": {},
   "outputs": [],
   "source": [
    "import json\n",
    "with open('resp.json', 'r') as fp:\n",
    "    resp = json.load(fp)\n",
    "rspJson = [resp]"
   ]
  },
  {
   "cell_type": "code",
   "execution_count": 28,
   "metadata": {},
   "outputs": [],
   "source": [
    "ruCand = rspJson[0]['reportingSource']['candidates']"
   ]
  },
  {
   "cell_type": "code",
   "execution_count": 32,
   "metadata": {},
   "outputs": [
    {
     "name": "stdout",
     "output_type": "stream",
     "text": [
      "{'can_id': 21369, 'cid': 62689}\n",
      "{'can_id': 62999, 'cid': 62689}\n",
      "{'can_id': 63001, 'cid': 62689}\n",
      "{'can_id': 21369, 'cid': 63001}\n",
      "{'can_id': 62999, 'cid': 63001}\n",
      "{'can_id': 63001, 'cid': 63001}\n",
      "{'can_id': 63001, 'cid': 63001}\n",
      "{'Updated val->': 12}\n",
      "{'can_id': 21369, 'cid': 62998}\n",
      "{'can_id': 62999, 'cid': 62998}\n",
      "{'can_id': 63001, 'cid': 62998}\n",
      "{'can_id': 21369, 'cid': 62999}\n",
      "{'can_id': 62999, 'cid': 62999}\n",
      "{'can_id': 62999, 'cid': 62999}\n",
      "{'Updated val->': 13}\n",
      "{'can_id': 63001, 'cid': 62999}\n",
      "{'can_id': 21369, 'cid': 63000}\n",
      "{'can_id': 62999, 'cid': 63000}\n",
      "{'can_id': 63001, 'cid': 63000}\n",
      "{'Max vote': 62999}\n"
     ]
    }
   ],
   "source": [
    "ruCand = rspJson[0][\"reportingSource\"][\"candidates\"]\n",
    "resp_id_total = []\n",
    "\n",
    "for ruval in ruCand:\n",
    "    cid = ruval['vote']['parties'][0]['candidateId'] \n",
    "\n",
    "    rsp_pid = ruval['vote']['parties'][0]['id'] \n",
    "\n",
    "    for can_id,total,pid in vote_id_total:\n",
    "        print({'can_id':can_id,'cid':cid})\n",
    "        if pid == rsp_pid and can_id == cid:\n",
    "            print({'can_id':can_id,'cid':cid})\n",
    "            ruval['vote']['parties'][0]['vote']['total'] = total\n",
    "            resp_id_total.append((cid,ruval['vote']['parties'][0]['vote']['total']))\n",
    "            print({'Updated val->':ruval['vote']['parties'][0]['vote']['total']})\n",
    "            \n",
    "resp_id_total = list(set(resp_id_total))\n",
    "resp_id_total.sort(key = lambda x:x[1],reverse=True)           \n",
    "print({'Max vote':resp_id_total[0][0]}) \n"
   ]
  },
  {
   "cell_type": "code",
   "execution_count": null,
   "metadata": {},
   "outputs": [],
   "source": []
  },
  {
   "cell_type": "markdown",
   "metadata": {},
   "source": [
    "# Test"
   ]
  },
  {
   "cell_type": "code",
   "execution_count": 38,
   "metadata": {},
   "outputs": [
    {
     "name": "stdout",
     "output_type": "stream",
     "text": [
      "{'can_id': 21369, 'cid': 62689}\n",
      "{'can_id': 62999, 'cid': 62689}\n",
      "{'can_id': 63001, 'cid': 62689}\n",
      "{'can_id': 21369, 'cid': 63001}\n",
      "{'can_id': 62999, 'cid': 63001}\n",
      "{'can_id': 63001, 'cid': 63001}\n",
      "{'can_id': 63001, 'cid': 63001}\n",
      "{'Updated val->': 12}\n",
      "{'can_id': 21369, 'cid': 62998}\n",
      "{'can_id': 62999, 'cid': 62998}\n",
      "{'can_id': 63001, 'cid': 62998}\n",
      "{'can_id': 21369, 'cid': 62999}\n",
      "{'can_id': 62999, 'cid': 62999}\n",
      "{'can_id': 62999, 'cid': 62999}\n",
      "{'Updated val->': 13}\n",
      "{'can_id': 63001, 'cid': 62999}\n",
      "{'can_id': 21369, 'cid': 63000}\n",
      "{'can_id': 62999, 'cid': 63000}\n",
      "{'can_id': 63001, 'cid': 63000}\n",
      "{'Max vote': 62999}\n"
     ]
    }
   ],
   "source": [
    "ruCand = rspJson[0][\"reportingSource\"][\"candidates\"]\n",
    "resp_id_total = []\n",
    "\n",
    "for ruval in ruCand:\n",
    "    for indx in range(len(ruval['vote']['parties'])):\n",
    "        cid = ruval['vote']['parties'][indx]['candidateId'] \n",
    "        rsp_pid = ruval['vote']['parties'][indx]['id'] \n",
    "        \n",
    "        for can_id,total,pid in vote_id_total:\n",
    "            logger.info({'can_id':can_id,'cid':cid})\n",
    "            if pid == rsp_pid and can_id == cid:\n",
    "                logger.info({'can_id':can_id,'cid':cid})\n",
    "                ruval['vote']['parties'][indx]['vote']['total'] = total\n",
    "                resp_id_total.append((cid,ruval['vote']['parties'][indx]['vote']['total']))\n",
    "                logger.info({'Updated val->':ruval['vote']['parties'][indx]['vote']['total']})\n",
    "            \n",
    "resp_id_total = list(set(resp_id_total))\n",
    "resp_id_total.sort(key = lambda x:x[1],reverse=True)           \n",
    "logger.info({'Max vote':resp_id_total[0][0]}) \n"
   ]
  },
  {
   "cell_type": "code",
   "execution_count": null,
   "metadata": {},
   "outputs": [],
   "source": []
  },
  {
   "cell_type": "code",
   "execution_count": 36,
   "metadata": {},
   "outputs": [
    {
     "data": {
      "text/plain": [
       "1"
      ]
     },
     "execution_count": 36,
     "metadata": {},
     "output_type": "execute_result"
    }
   ],
   "source": [
    "len(ruCand[0]['vote']['parties'])"
   ]
  },
  {
   "cell_type": "code",
   "execution_count": null,
   "metadata": {},
   "outputs": [],
   "source": []
  }
 ],
 "metadata": {
  "kernelspec": {
   "display_name": "Python 3",
   "language": "python",
   "name": "python3"
  },
  "language_info": {
   "codemirror_mode": {
    "name": "ipython",
    "version": 3
   },
   "file_extension": ".py",
   "mimetype": "text/x-python",
   "name": "python",
   "nbconvert_exporter": "python",
   "pygments_lexer": "ipython3",
   "version": "3.8.5"
  }
 },
 "nbformat": 4,
 "nbformat_minor": 4
}
