{
 "cells": [
  {
   "cell_type": "code",
   "execution_count": 155,
   "metadata": {},
   "outputs": [],
   "source": [
    "# this will not handle a word with len>c\n",
    "def rewrap(txt,c):\n",
    "    txt = txt.replace('\\n',' ')\n",
    "    x = [i for i in txt.split(' ') if i!='']\n",
    "    z = y = 0\n",
    "    t = ''\n",
    "    while True:\n",
    "        s = ''\n",
    "        z = y\n",
    "        for j in range(z,len(x)):\n",
    "            k = s + ('' if j==z else ' ') + x[j]\n",
    "            if len(k)<= c:\n",
    "                s = k\n",
    "                y = y + 1\n",
    "            else:\n",
    "                t = t + ('' if t=='' else '\\n') + s\n",
    "                break\n",
    "        if y==len(x):\n",
    "            t = t + ('' if t=='' else '\\n') + s\n",
    "            return t"
   ]
  },
  {
   "cell_type": "code",
   "execution_count": 156,
   "metadata": {},
   "outputs": [
    {
     "name": "stdout",
     "output_type": "stream",
     "text": [
      "Experience is simply the name\n",
      "we give our mistakes.\n"
     ]
    }
   ],
   "source": [
    "print(rewrap(\"Experience is \\nsimply the name we give our mistakes.\", 30))"
   ]
  },
  {
   "cell_type": "code",
   "execution_count": 157,
   "metadata": {},
   "outputs": [],
   "source": [
    "# print(rewrap(\"Experiencesimply the name we give our mistakes.\", 10))"
   ]
  },
  {
   "cell_type": "code",
   "execution_count": 158,
   "metadata": {},
   "outputs": [],
   "source": [
    "# it will handle the word with len > c also\n",
    "def rewrap(txt,c):\n",
    "    txt = txt.replace('\\n',' ')\n",
    "    x = [i for i in txt.split(' ') if i!='']\n",
    "    text_lst = [[d[i:i+c] for i in range(0,len(d),c)] if len(d)>c else d for d in x ]\n",
    "    text_newlst = []\n",
    "    for i in text_lst:\n",
    "        if isinstance(i, list):\n",
    "            text_newlst.extend(i)\n",
    "        else:\n",
    "            text_newlst.append(i)\n",
    "    z = y = 0\n",
    "    t = ''\n",
    "    while True:\n",
    "        s = ''\n",
    "        z = y\n",
    "        for j in range(z,len(text_newlst)):\n",
    "            k = s + ('' if j==z else ' ') + text_newlst[j]\n",
    "            if len(k)<= c:\n",
    "                s = k\n",
    "                y = y + 1\n",
    "            else:\n",
    "                t = t + ('' if t=='' else '\\n') + s\n",
    "                break\n",
    "        if y==len(text_newlst):\n",
    "            t = t + ('' if t=='' else '\\n') + s\n",
    "            return t"
   ]
  },
  {
   "cell_type": "code",
   "execution_count": 159,
   "metadata": {},
   "outputs": [
    {
     "name": "stdout",
     "output_type": "stream",
     "text": [
      "Experience\n",
      "is simply\n",
      "the name\n",
      "we give\n",
      "our\n",
      "mistakes.\n"
     ]
    }
   ],
   "source": [
    "print(rewrap(\"Experienceis simply the name we give our mistakes.\", 10))"
   ]
  },
  {
   "cell_type": "code",
   "execution_count": null,
   "metadata": {},
   "outputs": [],
   "source": []
  }
 ],
 "metadata": {
  "kernelspec": {
   "display_name": "Python 3",
   "language": "python",
   "name": "python3"
  },
  "language_info": {
   "codemirror_mode": {
    "name": "ipython",
    "version": 3
   },
   "file_extension": ".py",
   "mimetype": "text/x-python",
   "name": "python",
   "nbconvert_exporter": "python",
   "pygments_lexer": "ipython3",
   "version": "3.8.5"
  }
 },
 "nbformat": 4,
 "nbformat_minor": 4
}
