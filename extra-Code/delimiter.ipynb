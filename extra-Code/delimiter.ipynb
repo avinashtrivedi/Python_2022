{
 "cells": [
  {
   "cell_type": "code",
   "execution_count": 1,
   "id": "74baf027",
   "metadata": {},
   "outputs": [],
   "source": [
    "with open('heart_disease_GRadio.py') as fp:\n",
    "    data = fp.readlines()"
   ]
  },
  {
   "cell_type": "code",
   "execution_count": 2,
   "id": "b2a68929",
   "metadata": {},
   "outputs": [
    {
     "data": {
      "text/plain": [
       "['import pickle\\n',\n",
       " 'import pandas as pd\\n',\n",
       " 'import numpy as np\\n',\n",
       " 'import gradio as gr\\n',\n",
       " 'import matplotlib.pyplot as plt\\n',\n",
       " 'import seaborn as sns\\n',\n",
       " \"print('Loading......')\\n\",\n",
       " \"rfc_saved = pickle.load(open('rfc1.pickle','rb'))\\n\",\n",
       " '\\n',\n",
       " \"full_pipeline_saved = pickle.load(open('full_pipeline.pickle','rb'))\\n\",\n",
       " '\\n',\n",
       " 'def CheckHeartDisease(age,sex,ChestPainType,RestingBP,Cholesterol,\\n',\n",
       " '                      FastingBS,RestingECG,MaxHR,ExerciseAngina,Oldpeak,ST_Slope):\\n',\n",
       " '    try:\\n',\n",
       " \"        df_model = pd.DataFrame([],columns=['Age','Sex','ChestPainType','RestingBP','Cholesterol','FastingBS','RestingECG','MaxHR','ExerciseAngina', 'Oldpeak','ST_Slope'])\\n\",\n",
       " '\\n',\n",
       " '        df_model.loc[0] = [age,sex,ChestPainType,RestingBP,Cholesterol,FastingBS,RestingECG,MaxHR,ExerciseAngina,Oldpeak,ST_Slope]\\n',\n",
       " '        X_processed = full_pipeline_saved.transform(df_model)\\n',\n",
       " '        y_pred = rfc_saved.predict(X_processed)\\n',\n",
       " '        \\n',\n",
       " \"        df = pd.read_csv('heart (1).csv')\\n\",\n",
       " \"        target = df['HeartDisease'].replace([0,1],['Low','High'])\\n\",\n",
       " \"        data = pd.crosstab(index=df['Sex'],\\n\",\n",
       " '                   columns=target)\\n',\n",
       " '        \\n',\n",
       " \"        data.plot(kind='bar',stacked=True)\\n\",\n",
       " '        fig1 = plt.gcf()\\n',\n",
       " '        plt.close()\\n',\n",
       " '        \\n',\n",
       " '        bins=[0,30,50,80]\\n',\n",
       " \"        sns.countplot(x=pd.cut(df.Age,bins=bins),hue=target,color='r')\\n\",\n",
       " '        fig2 = plt.gcf()\\n',\n",
       " '        plt.close()\\n',\n",
       " '\\n',\n",
       " '        sns.countplot(x=target,hue=df.ChestPainType)\\n',\n",
       " \"        plt.xticks(np.arange(2), ['No', 'Yes']) \\n\",\n",
       " '        fig3 = plt.gcf()\\n',\n",
       " '\\n',\n",
       " '        if y_pred[0]==0:\\n',\n",
       " \"            return 'No Heart Disease',fig1,fig2,fig3\\n\",\n",
       " '        else:\\n',\n",
       " \"            return 'High Chances of Heart Disease',fig1,fig2,fig3\\n\",\n",
       " '         \\n',\n",
       " '    except:\\n',\n",
       " \"        return 'Wrong inputs',fig1,fig2,fig3\\n\",\n",
       " '\\n',\n",
       " 'iface = gr.Interface(\\n',\n",
       " '    CheckHeartDisease,\\n',\n",
       " '    [\\n',\n",
       " \"    gr.inputs.Number(label='Age (0-115)'), \\n\",\n",
       " '#     gr.inputs.Slider(minimum=0,maximum=100,step=1),\\n',\n",
       " \"    gr.inputs.Dropdown(['M','F'],default='M'), \\n\",\n",
       " \"    gr.inputs.Dropdown(['ATA', 'NAP', 'ASY','TA'],default='TA'),\\n\",\n",
       " \"    gr.inputs.Number(label='RESTINGBP (0-200)), \\n\",\n",
       " \"    gr.inputs.Number(label='CHOLESTEROL (0-603), \\n\",\n",
       " \"    gr.inputs.Number(label='FASTINGBS (0-1)'), \\n\",\n",
       " '        \\n',\n",
       " '#     gr.inputs.Slider(minimum=0,maximum=100,step=1),\\n',\n",
       " '#     gr.inputs.Slider(minimum=0,maximum=100,step=1),\\n',\n",
       " '#     gr.inputs.Slider(minimum=0,maximum=100,step=1),\\n',\n",
       " '        \\n',\n",
       " \"    gr.inputs.Dropdown(['Normal', 'ST' ,'LVH'],default='ST'),\\n\",\n",
       " \"    gr.inputs.Number(label='MAXHR (60-202)), \\n\",\n",
       " '#     gr.inputs.Slider(minimum=0,maximum=100,step=1),\\n',\n",
       " \"    gr.inputs.Dropdown(['Y','N'],default='Y'),\\n\",\n",
       " \"    gr.inputs.Number(label='OLDPEAK (-2.6 to 6.2)'),\\n\",\n",
       " '#     gr.inputs.Slider(minimum=0,maximum=100,step=1),\\n',\n",
       " \"    gr.inputs.Dropdown(['Up', 'Flat', 'Down'],default='Up')\\n\",\n",
       " '    ],\\n',\n",
       " '    [gr.outputs.Textbox(),\"plot\",\"plot\",\"plot\"]\\n',\n",
       " '    \\n',\n",
       " \"    , live=False,layout='vertical',title='Get Your Heart Disease Status',\\n\",\n",
       " ')\\n',\n",
       " '\\n',\n",
       " 'iface.launch()\\n',\n",
       " '\\n',\n",
       " '\\n',\n",
       " '# In[2]:\\n',\n",
       " '\\n',\n",
       " '\\n',\n",
       " \"# CheckHeartDisease(40, 'M', 'ATA', 140, 289, 0, 'Normal', 172, 'N', 0, 'Up')\\n\",\n",
       " '\\n']"
      ]
     },
     "execution_count": 2,
     "metadata": {},
     "output_type": "execute_result"
    }
   ],
   "source": [
    "data"
   ]
  },
  {
   "cell_type": "code",
   "execution_count": 3,
   "id": "6affefbd",
   "metadata": {},
   "outputs": [
    {
     "data": {
      "text/plain": [
       "\"print('Loading......')\\n\""
      ]
     },
     "execution_count": 3,
     "metadata": {},
     "output_type": "execute_result"
    }
   ],
   "source": [
    "data[6]"
   ]
  },
  {
   "cell_type": "code",
   "execution_count": 4,
   "id": "5e2b8f68",
   "metadata": {},
   "outputs": [],
   "source": [
    "s = '([])'"
   ]
  },
  {
   "cell_type": "code",
   "execution_count": null,
   "id": "f23d4fa8",
   "metadata": {},
   "outputs": [],
   "source": [
    "for char in s:\n",
    "    if char in ('(',')','[',']','{','}'):\n",
    "        if char in ('(','[','{'):\n",
    "            lst.append(char)\n",
    "        else:\n",
    "            if char==')' and lst[-1]=='(':\n",
    "                _ = lst.pop()\n",
    "            elif char==']' and lst[-1]=='[':\n",
    "                _ = lst.pop()\n",
    "            elif char=='}' and lst[-1]=='{':\n",
    "                _ = lst.pop()\n",
    "            else:\n",
    "                print(False)"
   ]
  },
  {
   "cell_type": "code",
   "execution_count": 12,
   "id": "175b70e0",
   "metadata": {},
   "outputs": [
    {
     "data": {
      "text/plain": [
       "45"
      ]
     },
     "execution_count": 12,
     "metadata": {},
     "output_type": "execute_result"
    }
   ],
   "source": [
    "sum([1,2,3,4,5,6,7,8,9])"
   ]
  },
  {
   "cell_type": "code",
   "execution_count": 10,
   "id": "4abea25c",
   "metadata": {},
   "outputs": [
    {
     "data": {
      "text/plain": [
       "(1, 2, 3, 4, 5, 6, 7, 8, 9)"
      ]
     },
     "execution_count": 10,
     "metadata": {},
     "output_type": "execute_result"
    }
   ],
   "source": [
    "sum([(1,2,3),(4,5,6),(7,8,9)],())"
   ]
  },
  {
   "cell_type": "code",
   "execution_count": null,
   "id": "190f9d4b",
   "metadata": {},
   "outputs": [],
   "source": []
  }
 ],
 "metadata": {
  "kernelspec": {
   "display_name": "Python 3 (ipykernel)",
   "language": "python",
   "name": "python3"
  },
  "language_info": {
   "codemirror_mode": {
    "name": "ipython",
    "version": 3
   },
   "file_extension": ".py",
   "mimetype": "text/x-python",
   "name": "python",
   "nbconvert_exporter": "python",
   "pygments_lexer": "ipython3",
   "version": "3.8.5"
  }
 },
 "nbformat": 4,
 "nbformat_minor": 5
}
