{
 "cells": [
  {
   "cell_type": "code",
   "execution_count": 1,
   "id": "74e8f1cc",
   "metadata": {},
   "outputs": [],
   "source": [
    "data = []\n",
    "x = ['IT 460', 'IT Seminar', '15:00 FRI', '1.5', 'Teacher 2' , 'HA237']\n",
    "data.append(x)"
   ]
  },
  {
   "cell_type": "code",
   "execution_count": 2,
   "id": "deaa17d2",
   "metadata": {},
   "outputs": [],
   "source": [
    "x = ['IT 493', 'Machine Learning Basics', '11:00 MON-WED-FRI', '3',' Teacher 3', 'T103', 'CMPT111']"
   ]
  },
  {
   "cell_type": "code",
   "execution_count": 3,
   "id": "a3ba7fcc",
   "metadata": {},
   "outputs": [],
   "source": [
    "data.append(x)"
   ]
  },
  {
   "cell_type": "code",
   "execution_count": 4,
   "id": "a5a2a4ca",
   "metadata": {},
   "outputs": [],
   "source": [
    "print(data)"
   ]
  },
  {
   "cell_type": "code",
   "execution_count": 5,
   "id": "406cc88f",
   "metadata": {},
   "outputs": [],
   "source": [
    "fp = open('myfile.csv','w')\n",
    "for c in data:\n",
    "    txt = ','.join(c)\n",
    "    fp.write(txt)\n",
    "    fp.write('\\n')\n",
    "fp.close()"
   ]
  },
  {
   "cell_type": "code",
   "execution_count": 6,
   "id": "38cc6f45",
   "metadata": {},
   "outputs": [],
   "source": [
    "fp = open('myfile.csv','r')\n",
    "raw_data = fp.readlines()\n",
    "fp.close()"
   ]
  },
  {
   "cell_type": "code",
   "execution_count": 13,
   "id": "dc48c6d1",
   "metadata": {},
   "outputs": [
    {
     "name": "stdout",
     "output_type": "stream",
     "text": [
      "Teacher 2\n",
      " Teacher 3\n"
     ]
    }
   ],
   "source": [
    "for line in raw_data:\n",
    "    print(line.split(',')[4])"
   ]
  },
  {
   "cell_type": "code",
   "execution_count": null,
   "id": "3c98ff99",
   "metadata": {},
   "outputs": [],
   "source": []
  }
 ],
 "metadata": {
  "kernelspec": {
   "display_name": "Python 3 (ipykernel)",
   "language": "python",
   "name": "python3"
  },
  "language_info": {
   "codemirror_mode": {
    "name": "ipython",
    "version": 3
   },
   "file_extension": ".py",
   "mimetype": "text/x-python",
   "name": "python",
   "nbconvert_exporter": "python",
   "pygments_lexer": "ipython3",
   "version": "3.8.5"
  }
 },
 "nbformat": 4,
 "nbformat_minor": 5
}
