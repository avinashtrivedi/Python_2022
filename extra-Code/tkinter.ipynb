{
 "cells": [
  {
   "cell_type": "code",
   "execution_count": 1,
   "id": "e0deae16",
   "metadata": {},
   "outputs": [],
   "source": [
    "#Import tkinter as tk\n",
    "import tkinter as tk\n",
    "#Import font tkinter as tkFont\n",
    "import tkinter.font as tkFont\n",
    "#Create rootwindow\n",
    "root_window = tk.Tk()\n",
    "#Title for window\n",
    "root_window.title(\"First_Program\")\n",
    "#Background color for window\n",
    "root_window.configure(bg='white')\n",
    "#Set window size\n",
    "root_window.geometry('130x90')\n",
    "#Create font for label1\n",
    "font1 = tkFont.Font(family = \"Times\", size = 10)\n",
    "#Create label1\n",
    "label1 = tk.Label(root_window, bg = 'grey', fg = 'black', font = font1, text =\"My first name is Stu.\").pack()\n",
    "#Create font for label2\n",
    "font2 = tkFont.Font(family=\"Times\", size=10)\n",
    "#Create label2\n",
    "label2 = tk.Label(root_window, bg = 'grey', fg = 'black', font = font2, text =\"My last name is Dent.\").pack()\n",
    "#Create font for label3\n",
    "font3 = tkFont.Font(family=\"Times\", size=10)\n",
    "#Create label3\n",
    "label3 = tk.Label(root_window, bg = 'grey', fg = 'black', font = font3, text =\"My faculty is Arts.\").pack()\n",
    "#Create font for label4\n",
    "font4 = tkFont.Font(family=\"Times\", size=10)\n",
    "#Create label4\n",
    "label4 = tk.Label(root_window, bg = 'grey', fg = 'black', font = font4, text =\"My year is 1.\").pack()\n",
    "\n",
    "root_window.mainloop()"
   ]
  },
  {
   "cell_type": "code",
   "execution_count": 2,
   "id": "620008a2",
   "metadata": {},
   "outputs": [],
   "source": [
    "from tkinter import *\n",
    "root = Tk()\n",
    "root.title(\"Canvas Line\")\n",
    "canvas1 = Canvas (root, width=500, height=400, bg=\"white\")\n",
    "canvas1.create_rectangle(50,50,450,350, fill=\"blue\", width=10,outline=\"green\")\n",
    "canvas1.create_oval(70, 90, 420, 320, outline=\"red\", fill = 'yellow',width=10)\n",
    "# canvas1.create_rectangle(180, 150, 300, 270, outline = 'blue', fill = 'green')\n",
    "points = [100,210, 200,150, 200,270]\n",
    "canvas1.create_polygon(points, fill='red',outline=\"blue\")\n",
    "\n",
    "points = [240,210, 340,150, 340,270]\n",
    "canvas1.create_polygon(points, fill='red',outline=\"blue\")\n",
    "\n",
    "canvas1.pack()\n",
    "root.mainloop()"
   ]
  },
  {
   "cell_type": "code",
   "execution_count": null,
   "id": "b6bb6599",
   "metadata": {},
   "outputs": [],
   "source": []
  }
 ],
 "metadata": {
  "kernelspec": {
   "display_name": "Python 3 (ipykernel)",
   "language": "python",
   "name": "python3"
  },
  "language_info": {
   "codemirror_mode": {
    "name": "ipython",
    "version": 3
   },
   "file_extension": ".py",
   "mimetype": "text/x-python",
   "name": "python",
   "nbconvert_exporter": "python",
   "pygments_lexer": "ipython3",
   "version": "3.8.5"
  }
 },
 "nbformat": 4,
 "nbformat_minor": 5
}
