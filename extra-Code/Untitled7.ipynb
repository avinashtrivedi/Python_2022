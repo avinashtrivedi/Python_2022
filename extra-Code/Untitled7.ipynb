{
 "cells": [
  {
   "cell_type": "code",
   "execution_count": null,
   "id": "449dee71",
   "metadata": {},
   "outputs": [],
   "source": [
    "5\n",
    "5\n",
    "5\n",
    "5\n",
    "5\n",
    "5"
   ]
  },
  {
   "cell_type": "code",
   "execution_count": 5,
   "id": "e928d78f",
   "metadata": {},
   "outputs": [
    {
     "name": "stdout",
     "output_type": "stream",
     "text": [
      "5555\n",
      "5555\n",
      "5555\n",
      "5555\n",
      "5555\n",
      "5555\n"
     ]
    }
   ],
   "source": [
    "for y in range(6):\n",
    "    print('5555')"
   ]
  },
  {
   "cell_type": "code",
   "execution_count": null,
   "id": "846f5df4",
   "metadata": {},
   "outputs": [],
   "source": [
    "[5,5,5,5,5,5]"
   ]
  },
  {
   "cell_type": "code",
   "execution_count": 6,
   "id": "6bfafc20",
   "metadata": {},
   "outputs": [
    {
     "name": "stdout",
     "output_type": "stream",
     "text": [
      "5,5,5,5,5,5,"
     ]
    }
   ],
   "source": [
    "for x in range(6):\n",
    "    print(5,end=',')"
   ]
  },
  {
   "cell_type": "code",
   "execution_count": 9,
   "id": "26261eed",
   "metadata": {},
   "outputs": [
    {
     "data": {
      "text/plain": [
       "[5, 5, 5]"
      ]
     },
     "execution_count": 9,
     "metadata": {},
     "output_type": "execute_result"
    }
   ],
   "source": [
    "[5,5,5]"
   ]
  },
  {
   "cell_type": "code",
   "execution_count": 13,
   "id": "b048cdcd",
   "metadata": {},
   "outputs": [
    {
     "data": {
      "text/plain": [
       "[5, 5, 5, 5, 5, 5]"
      ]
     },
     "execution_count": 13,
     "metadata": {},
     "output_type": "execute_result"
    }
   ],
   "source": [
    "[5]*6"
   ]
  },
  {
   "cell_type": "code",
   "execution_count": 14,
   "id": "c6bfb8ea",
   "metadata": {},
   "outputs": [],
   "source": [
    "lst = []\n",
    "for i in range(6):\n",
    "    lst.append(5)"
   ]
  },
  {
   "cell_type": "code",
   "execution_count": 15,
   "id": "5c5d69b9",
   "metadata": {},
   "outputs": [
    {
     "data": {
      "text/plain": [
       "[5, 5, 5, 5, 5, 5]"
      ]
     },
     "execution_count": 15,
     "metadata": {},
     "output_type": "execute_result"
    }
   ],
   "source": [
    "lst"
   ]
  },
  {
   "cell_type": "code",
   "execution_count": null,
   "id": "9af27f39",
   "metadata": {},
   "outputs": [],
   "source": [
    "[5,1,5,1,5,1,5,1]"
   ]
  },
  {
   "cell_type": "code",
   "execution_count": 16,
   "id": "251752de",
   "metadata": {},
   "outputs": [
    {
     "data": {
      "text/plain": [
       "[5, 5, 5, 5, 5, 5]"
      ]
     },
     "execution_count": 16,
     "metadata": {},
     "output_type": "execute_result"
    }
   ],
   "source": [
    "lst"
   ]
  },
  {
   "cell_type": "code",
   "execution_count": 19,
   "id": "cbed8b67",
   "metadata": {},
   "outputs": [],
   "source": [
    "lst.append(1541)"
   ]
  },
  {
   "cell_type": "code",
   "execution_count": 20,
   "id": "f8de0554",
   "metadata": {},
   "outputs": [
    {
     "data": {
      "text/plain": [
       "[5, 5, 5, 5, 5, 5, 1000, 1541]"
      ]
     },
     "execution_count": 20,
     "metadata": {},
     "output_type": "execute_result"
    }
   ],
   "source": [
    "lst"
   ]
  },
  {
   "cell_type": "code",
   "execution_count": null,
   "id": "4f00b2c0",
   "metadata": {},
   "outputs": [],
   "source": [
    "[5,1,5,1,5,1,5,1]"
   ]
  },
  {
   "cell_type": "code",
   "execution_count": 24,
   "id": "4399dca6",
   "metadata": {},
   "outputs": [],
   "source": [
    "x = []\n",
    "for y in range(4):\n",
    "    x.append(5)\n",
    "    x.append(1)"
   ]
  },
  {
   "cell_type": "code",
   "execution_count": 25,
   "id": "b487ebfe",
   "metadata": {},
   "outputs": [
    {
     "data": {
      "text/plain": [
       "[5, 1, 5, 1, 5, 1, 5, 1]"
      ]
     },
     "execution_count": 25,
     "metadata": {},
     "output_type": "execute_result"
    }
   ],
   "source": [
    "x"
   ]
  },
  {
   "cell_type": "code",
   "execution_count": null,
   "id": "c238ab6f",
   "metadata": {},
   "outputs": [],
   "source": [
    "[5,1,5,1,5,1,5,1,5]"
   ]
  },
  {
   "cell_type": "code",
   "execution_count": 35,
   "id": "e4ebdb9b",
   "metadata": {},
   "outputs": [],
   "source": [
    "y = []\n",
    "for b in range(4):\n",
    "    y.append(5)\n",
    "    y.append(1) \n",
    "y.append(5)"
   ]
  },
  {
   "cell_type": "code",
   "execution_count": 36,
   "id": "12317e47",
   "metadata": {},
   "outputs": [
    {
     "data": {
      "text/plain": [
       "[5, 1, 5, 1, 5, 1, 5, 1, 5]"
      ]
     },
     "execution_count": 36,
     "metadata": {},
     "output_type": "execute_result"
    }
   ],
   "source": [
    "y"
   ]
  },
  {
   "cell_type": "code",
   "execution_count": null,
   "id": "2303e3f4",
   "metadata": {},
   "outputs": [],
   "source": [
    "[10,5,1,5,1,5,1,5,1]"
   ]
  },
  {
   "cell_type": "code",
   "execution_count": 49,
   "id": "0a39a654",
   "metadata": {},
   "outputs": [],
   "source": [
    "a = []\n",
    "a.append(10)\n",
    "for i in range(4):\n",
    "    a.append(5)\n",
    "    a.append(1)\n",
    "a.append(100)"
   ]
  },
  {
   "cell_type": "code",
   "execution_count": 50,
   "id": "d2245659",
   "metadata": {},
   "outputs": [
    {
     "data": {
      "text/plain": [
       "[10, 5, 1, 5, 1, 5, 1, 5, 1, 100]"
      ]
     },
     "execution_count": 50,
     "metadata": {},
     "output_type": "execute_result"
    }
   ],
   "source": [
    "a"
   ]
  },
  {
   "cell_type": "code",
   "execution_count": null,
   "id": "73e6ff9a",
   "metadata": {},
   "outputs": [],
   "source": [
    "[10,5,1,5,1,5,1,5,1,100]"
   ]
  }
 ],
 "metadata": {
  "kernelspec": {
   "display_name": "Python 3 (ipykernel)",
   "language": "python",
   "name": "python3"
  },
  "language_info": {
   "codemirror_mode": {
    "name": "ipython",
    "version": 3
   },
   "file_extension": ".py",
   "mimetype": "text/x-python",
   "name": "python",
   "nbconvert_exporter": "python",
   "pygments_lexer": "ipython3",
   "version": "3.8.5"
  }
 },
 "nbformat": 4,
 "nbformat_minor": 5
}
