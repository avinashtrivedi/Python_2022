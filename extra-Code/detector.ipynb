{
 "cells": [
  {
   "cell_type": "code",
   "execution_count": 1,
   "id": "e8c33c24",
   "metadata": {},
   "outputs": [],
   "source": [
    "# lst = []\n",
    "# for i in range(88,92,1):\n",
    "#     for j in range(10,90,1):\n",
    "#         for k in range(10,90,1):\n",
    "#             lst.append([i,j,k])"
   ]
  },
  {
   "cell_type": "code",
   "execution_count": 2,
   "id": "8e2fdc95",
   "metadata": {},
   "outputs": [
    {
     "name": "stderr",
     "output_type": "stream",
     "text": [
      "100%|██████████████████████████████████████████████████████████████████████████| 1000/1000 [00:00<00:00, 110998.60it/s]"
     ]
    },
    {
     "name": "stdout",
     "output_type": "stream",
     "text": [
      "[[0. 0. 0. ... 0. 0. 0.]\n",
      " [0. 0. 0. ... 0. 0. 0.]\n",
      " [0. 0. 0. ... 0. 0. 0.]\n",
      " ...\n",
      " [0. 0. 0. ... 0. 0. 0.]\n",
      " [0. 0. 0. ... 0. 0. 0.]\n",
      " [0. 0. 0. ... 0. 0. 0.]]\n"
     ]
    },
    {
     "name": "stderr",
     "output_type": "stream",
     "text": [
      "\n"
     ]
    },
    {
     "data": {
      "image/png": "[encoded data removed]",
      "text/plain": [
       "<Figure size 432x288 with 1 Axes>"
      ]
     },
     "metadata": {
      "needs_background": "light"
     },
     "output_type": "display_data"
    },
    {
     "name": "stdout",
     "output_type": "stream",
     "text": [
      "Time:  1.346449 seconds\n"
     ]
    }
   ],
   "source": [
    "# Numerical computation of an X-ray scanner using Monte Carlo techniques\n",
    "\n",
    "import timeit    \n",
    "from tqdm import tqdm\n",
    "start = timeit.default_timer()\n",
    "from random import random\n",
    "import random \n",
    "import matplotlib.pyplot as plt\n",
    "import numpy as np\n",
    "import math\n",
    "\n",
    "# Diff. values in the Room define objects: 0 = walls, 1 = inside room, 2 = patient's tissue, 3 = bone, 4 = x-ray detector\n",
    "\n",
    "Room = np.array([[[0.0 for i in range(0,101,1)] for j in range(0,101,1)] for k in range(0,101,1)]) #The entire room with walls\n",
    "\n",
    "for i in range(1,100,1):\n",
    "    for j in range(1,100,1):\n",
    "        for k in range(1,100,1):\n",
    "            Room[i,j,k] +=1     # The room not counting the walls = '1'\n",
    "\n",
    "for i in range(30,70,1):\n",
    "    for j in range(30,70,1):\n",
    "        for k in range(30,70,1):\n",
    "            Room[i,j,k] +=1      #The patient's body (tissue) '2'\n",
    "            \n",
    "for i in range(50,55,1):\n",
    "    for j in range(50,55,1):\n",
    "        for k in range(50,55,1):\n",
    "            Room[i,j,k] +=1      #The patient's bone #1 = '3'\n",
    "            \n",
    "for i in range(58,63,1):\n",
    "    for j in range(58,63,1):\n",
    "        for k in range(58,63,1):\n",
    "            Room[i,j,k] +=1      #The patient's bone #2 = '3'\n",
    "\n",
    "for i in range(88,92,1):\n",
    "    for j in range(10,90,1):\n",
    "        for k in range(10,90,1):\n",
    "            Room[i,j,k] +=3      # X-ray Detector = '4'\n",
    "            \n",
    "            \n",
    "\n",
    "N_Xrays_emitted = [10**3, 10**4, 10**5, 10**6, 10**7] #just possible 'settings' - number of x-rays to emmit overall\n",
    "\n",
    "PossibleUnitDirections = np.array([0, 1,-1])\n",
    "\n",
    "PossibleEnergies = [30,40,50,60,80,100] #Possible energies from 30-100keV available at https://physics.nist.gov/PhysRefData/XrayMassCoef/ComTab/water.html\n",
    "\n",
    "# X-ray energy [kev] : mass attentuation coefficient mu/rho [cm^2/g] available from https://physics.nist.gov/PhysRefData\n",
    "MassAttenuationCoeffs_Water_ie_Tissue = { \n",
    "  30 : 0.3756,\n",
    "  40 : 0.2683,\n",
    "  50 : 0.2269,\n",
    "  60 : 0.2059,\n",
    "  80 : 0.1837,\n",
    "  100 : 0.1707\n",
    "}  # from https://physics.nist.gov/PhysRefData/XrayMassCoef/ComTab/water.html\n",
    "MassAttenuationCoeffs_Bone = {\n",
    "  30 : 1.331,\n",
    "  40 : 0.6644,\n",
    "  50 : 0.4242,\n",
    "  60 : 0.3148,\n",
    "  80 : 0.2229,\n",
    "  100 : 0.1855\n",
    "}  # from https://physics.nist.gov/PhysRefData/XrayMassCoef/ComTab/bone.html       \n",
    "MassAttenuationCoeffs_Silicon_ie_Detector = {\n",
    "  30 : 1.436,\n",
    "  40 : 0.7012,\n",
    "  50 : 0.4385,\n",
    "  60 : 0.3207,\n",
    "  80 : 0.2228,\n",
    "  100 : 0.1835\n",
    "}  # from https://physics.nist.gov/PhysRefData/XrayMassCoef/ElemTab/z14.html                          \n",
    "\n",
    "Detector = np.zeros((91,89)) #np.array([[0.0 for j in range(10,90,1)] for k in range(10,90,1)])\n",
    "               \n",
    "Xray_position = [10,50,50]\n",
    "   \n",
    "for N in tqdm(range(N_Xrays_emitted[0])): #just choosing one of the possible number emitted x-rays defined earlier\n",
    "    alive = True\n",
    "     # Each X-ray starts here from a point source\n",
    "    Xray_direction = [1,random.choice(PossibleUnitDirections)*random.random(),random.choice(PossibleUnitDirections)*random.random()]\n",
    "    Xray_Energy = random.choice(PossibleEnergies)  # results in a flat x-ray energy distribution \n",
    "    \n",
    "    while alive==True: # The photon is \"alive\" i.e. not absorbed yet\n",
    "        for i in range(len(Xray_position)):\n",
    "            Xray_position[i] = Xray_position[i] + Xray_direction[i] #changing x-ray position in the random direction component by component\n",
    "            \n",
    "        \n",
    "#         coord = [round(Xray_position[0]),round(Xray_position[1]),round(Xray_position[2])]\n",
    "#         if coord in lst:\n",
    "#             print(f'Yes {coord} {Xray_position[0]}')\n",
    "#         else:\n",
    "#             print(f'No {coord} {Xray_position[0]}')\n",
    "\n",
    "        if Xray_position[0] > 100:\n",
    "            alive = False\n",
    "            break\n",
    "            \n",
    "        try:\n",
    "            if Room[round(Xray_position[0]),round(Xray_position[1]),round(Xray_position[2])] == 0:  \n",
    "                alive = False # Photon got absorbed in the wall or beyond the room\n",
    "                break \n",
    "        except:\n",
    "            print(Xray_position)\n",
    "#         if Room[round(Xray_position[0]),round(Xray_position[1]),round(Xray_position[2])] == 1: # Just within the room\n",
    "#             continue\n",
    "\n",
    "        if Room[round(Xray_position[0]),round(Xray_position[1]),round(Xray_position[2])] == 2: # Tissue hit\n",
    "\n",
    "            mu_over_rho = MassAttenuationCoeffs_Water_ie_Tissue[Xray_Energy] # [cm^2/g]\n",
    "            rho = 1 # density of water i.e. tissue [g/cm^3]\n",
    "\n",
    "            # absorbed prob = 1-exp(-mu/rho *rho * dx) where dx is the step size, length of vector Xray_direction\n",
    "            Absorption_Probability = 1-math.exp(-mu_over_rho*rho*math.sqrt(Xray_direction[0]**2+Xray_direction[1]**2+Xray_direction[2]**2))\n",
    "\n",
    "            Absorption_orNot = random.random()-Absorption_Probability # so the greater the prob. of absorp. the more likely Absorption_orNot becomes negative = absorption.\n",
    "            if Absorption_orNot > 0:\n",
    "                continue\n",
    "            else: \n",
    "                alive=False\n",
    "                break\n",
    "\n",
    "        if Room[round(Xray_position[0]),round(Xray_position[1]),round(Xray_position[2])] == 3: # Bone hit\n",
    "\n",
    "            mu_over_rho = MassAttenuationCoeffs_Bone[Xray_Energy]  # [cm^2/g]\n",
    "            rho = 0.9 # Osteoporosis-bordering density of bone [g/cm^3] (normal is 0.92-1.35)\n",
    "            Absorption_Probability = 1-math.exp(-mu_over_rho*rho*math.sqrt(Xray_direction[0]**2+Xray_direction[1]**2+Xray_direction[2]**2))\n",
    "\n",
    "            Absorption_orNot = random.random()-Absorption_Probability # so the greater the prob. of absorp. the more likely Absorption_orNot becomes negative = absorption.\n",
    "            if Absorption_orNot > 0:\n",
    "                continue\n",
    "            else: \n",
    "                alive=False\n",
    "                break\n",
    "\n",
    "        if Room[round(Xray_position[0]),round(Xray_position[1]),round(Xray_position[2])] == 4: # Detector hit!\n",
    "#             print(f'World {N}')\n",
    "            mu_over_rho = MassAttenuationCoeffs_Silicon_ie_Detector[Xray_Energy] # [cm^2/g]\n",
    "            rho = 2.33 # density of silicon i.e. the x-ray detector [g/cm^3]\n",
    "            Absorption_Probability = 1-math.exp(-mu_over_rho*rho*math.sqrt(Xray_direction[0]**2+Xray_direction[1]**2+Xray_direction[2]**2))\n",
    "\n",
    "            Absorption_orNot = random.random()-Absorption_Probability # so the greater the prob. of absorp. the more likely Absorption_orNot becomes negative = absorption.\n",
    "            if Absorption_orNot > 0:\n",
    "                continue  # photon didn't get absorbed\n",
    "            else: \n",
    "                alive=False  # photon got absorbed and detected\n",
    "#                 print(f'Hello {N}')\n",
    "                Detector[round(Xray_position[1]),round(Xray_position[2])] += 1 #store x and z coordinate of where x-ray hit the detector\n",
    "\n",
    "                break\n",
    "\n",
    "print(Detector)\n",
    "plt.imshow(Detector, cmap=\"gray\") # much easier than the histogram\n",
    "plt.show()\n",
    "\"\"\"\n",
    "y_array = [Detector[j,:] for j in range(Detector)] ???? not making these arrays properly.\n",
    "z_array = [Detector[:,k] for k in range(Detector)] ???? \n",
    "\n",
    "plt.hist2d(y_array, z_array, bins=(100,100), cmap = 'Greys') \n",
    "\"\"\"\n",
    "\n",
    "stop = timeit.default_timer()\n",
    "print('Time: ', stop - start, \"seconds\")  "
   ]
  },
  {
   "cell_type": "code",
   "execution_count": 4,
   "id": "a2dbde3b",
   "metadata": {},
   "outputs": [
    {
     "data": {
      "text/plain": [
       "0.041912752508976525"
      ]
     },
     "execution_count": 4,
     "metadata": {},
     "output_type": "execute_result"
    }
   ],
   "source": [
    "random.random()"
   ]
  },
  {
   "cell_type": "code",
   "execution_count": 6,
   "id": "7929cc80",
   "metadata": {},
   "outputs": [
    {
     "data": {
      "text/plain": [
       "(91, 89)"
      ]
     },
     "execution_count": 6,
     "metadata": {},
     "output_type": "execute_result"
    }
   ],
   "source": [
    "Detector.shape"
   ]
  },
  {
   "cell_type": "code",
   "execution_count": 9,
   "id": "85c0ae5c",
   "metadata": {},
   "outputs": [
    {
     "data": {
      "text/plain": [
       "0.0"
      ]
     },
     "execution_count": 9,
     "metadata": {},
     "output_type": "execute_result"
    }
   ],
   "source": [
    "[ for i in Detector]"
   ]
  },
  {
   "cell_type": "code",
   "execution_count": 12,
   "id": "e3027247",
   "metadata": {},
   "outputs": [
    {
     "data": {
      "text/plain": [
       "(91, 89)"
      ]
     },
     "execution_count": 12,
     "metadata": {},
     "output_type": "execute_result"
    }
   ],
   "source": [
    "Detector.shape"
   ]
  },
  {
   "cell_type": "code",
   "execution_count": 17,
   "id": "554ab640",
   "metadata": {},
   "outputs": [],
   "source": [
    "a = np.array([[1,2,3],[2,1,1],[2,2,3]])"
   ]
  },
  {
   "cell_type": "code",
   "execution_count": null,
   "id": "e1f0739b",
   "metadata": {},
   "outputs": [],
   "source": [
    "y_array = \n",
    "z_array = "
   ]
  },
  {
   "cell_type": "code",
   "execution_count": 16,
   "id": "3fa5956a",
   "metadata": {},
   "outputs": [
    {
     "data": {
      "text/plain": [
       "{0.0, 1.0}"
      ]
     },
     "execution_count": 16,
     "metadata": {},
     "output_type": "execute_result"
    }
   ],
   "source": [
    "set(Detector.flatten())"
   ]
  },
  {
   "cell_type": "code",
   "execution_count": 18,
   "id": "a69e9d2c",
   "metadata": {},
   "outputs": [
    {
     "data": {
      "text/plain": [
       "array([[1, 2, 3],\n",
       "       [2, 1, 1],\n",
       "       [2, 2, 3]])"
      ]
     },
     "execution_count": 18,
     "metadata": {},
     "output_type": "execute_result"
    }
   ],
   "source": [
    "a"
   ]
  },
  {
   "cell_type": "code",
   "execution_count": null,
   "id": "ea711d86",
   "metadata": {},
   "outputs": [],
   "source": []
  }
 ],
 "metadata": {
  "kernelspec": {
   "display_name": "Python 3 (ipykernel)",
   "language": "python",
   "name": "python3"
  },
  "language_info": {
   "codemirror_mode": {
    "name": "ipython",
    "version": 3
   },
   "file_extension": ".py",
   "mimetype": "text/x-python",
   "name": "python",
   "nbconvert_exporter": "python",
   "pygments_lexer": "ipython3",
   "version": "3.9.15"
  }
 },
 "nbformat": 4,
 "nbformat_minor": 5
}
