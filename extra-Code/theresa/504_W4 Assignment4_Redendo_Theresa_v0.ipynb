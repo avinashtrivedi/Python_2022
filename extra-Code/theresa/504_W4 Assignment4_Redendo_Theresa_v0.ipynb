{
 "cells": [
  {
   "cell_type": "markdown",
   "metadata": {},
   "source": [
    "# <font color=\"purple\"> Week4, Assignment 4, Association and Clustering</font>\n",
    "**Submission guideline:** <br>\n",
    "    Due on 2/9/2022 (Wednesday) at 11:00pm (10% of total grade) on Discussions and Assignments. This assignment will have three parts. \n",
    "    \n",
    "* All Parts are submitted in ONE “.ipynb” extension file to Brightspace “Assignment 4. **You should rename the file as \"504 W4 Assignment4_LastName_FirstName.ipynb\"**. \n",
    "* For each subsection, you should insert one or more cells  to write proper Python Codes in 'Code' mode for each sub-question with proper comments that explain your codesand or 'Markdown' for extra instructions/explanations. \n",
    "* If your submission include some extra files (e.g, data files or images files), please zip them together and save as **\"504 W4 Assignment4_LastName_FirstName.zip\"**.\n",
    "* When I say **\"please use python codes ...\"**, it means **the basic python functions and all libraries that you may need to import.** \n",
    "\n",
    "**Grading Criteria:** \n",
    " \n",
    "* There are many ways to do the same thing, your python codes should not be too lengthy. **Remember to provide Comments in your Python codes.**\n",
    "* Each part is separated into small sections, which I will give you rough tips on what you should do. Students are asked to do one or more cells of codings (depending on how you arrange your codes) for each section. \n",
    "* Some python codes (like array.head(), print(), ....) are used for your understanding and you are free to use them. **You can leave those codes in the cells.** Even if you may not be able to do the codings correctly and get the right results, those codes may earn you partial credits for your work.\n",
    "* For each part: \n",
    "    * **Coding parts is 80% of this grade.** Correctness in your answers and your Python coding correctness will determines your score in this part. You can do it in one cell or multiple continuous cells for each sub-question.\n",
    "    * **Comments and 'Markdown' parts is 20% of this grade**. Without proper comments in each cell, you will receive zero in this part. "
   ]
  },
  {
   "cell_type": "markdown",
   "metadata": {},
   "source": [
    "# <font color=\"purple\">Please insert libraries and module here</font>"
   ]
  },
  {
   "cell_type": "code",
   "execution_count": 42,
   "metadata": {},
   "outputs": [],
   "source": [
    "import pandas as pd\n",
    "from sklearn.cluster import KMeans\n",
    "import numpy as np\n",
    "import matplotlib.pyplot as plt\n",
    "from sklearn.preprocessing import MinMaxScaler"
   ]
  },
  {
   "cell_type": "markdown",
   "metadata": {},
   "source": [
    "# <font color=\"purple\">Part. 1 Supermarket Purchases</font>\n",
    "\n",
    "In this example, you have the purchasing history in the grocery items from a supermarket with 6951 purchasing receipts. This dataset includes data from **five regions: 'East', 'South', 'Midwest' and 'Mountain' and 'West'**.\n",
    "\n",
    "You are asked to use **apriori** and **association_rules** from **mlxtend.frequent_patterns** model to do the  model fitting. There is no cleaning work to do for this dataset. You are asked to derive some **association rules** that can help the cable company to upsell their channels. "
   ]
  },
  {
   "cell_type": "markdown",
   "metadata": {},
   "source": [
    "# <font color=\"purple\">Q1.1 Load data and separate into 5 smaller datasets (30%)</font>\n",
    "\n",
    "* Please import **Supermarket.csv** and separate them into five Pandas DataFrames for later analysis\n",
    "* After separating into five datasets, please drop the region variable."
   ]
  },
  {
   "cell_type": "markdown",
   "metadata": {},
   "source": [
    "# <font color=\"purple\">Q1.2 Apply **apriori** and **association_rules** and find out the rules</font>\n",
    "\n",
    "For each region, pleasease do the followings:\n",
    "* Please apply **apriori** module with a minimal support of 0.05\n",
    "* Please find the association rules for each region with the condition:\n",
    "    * metric is choosing 'lift with a minimal threshold of 2\n",
    "* Please display all association rules that you have found for 'East' region"
   ]
  },
  {
   "cell_type": "markdown",
   "metadata": {},
   "source": [
    "# <font color=\"purple\">Q1.3 Narrowing down the best association rules</font>\n",
    "\n",
    "For each region, pleasease do the followings:\n",
    "* For each region, please use python's logical condition to find the association rules that fulfill these three conditions: \n",
    "    * lift is no smaller than 1.5, \n",
    "    * support is no smaller than 0.14\n",
    "    * conviction is no smaller than 1.5\n",
    "* Do you find some commonality among these five regions? If not, what is the most commonality shared by what regions? \n",
    "* What region do you think have the most unique purchasing behavior compared to other regions? Explain with your reasons "
   ]
  },
  {
   "cell_type": "markdown",
   "metadata": {},
   "source": [
    "# <font color=\"purple\">Q1.4 Conclude the association rules you found</font>\n",
    "\n",
    "* Do you find some commonality among these five regions? If not, what is the most commonality rule shared by what regions? \n",
    "* What are the regions that you may not find any commonality rules? Can you adjust the support to 0.13 in that region and see what happens.\n",
    "* After such adjustments, do you find some commonality among these five regions? If yes, what are they?"
   ]
  },
  {
   "cell_type": "markdown",
   "metadata": {},
   "source": [
    "# <font color=\"purple\">Q1.5 How can you utilize the association rules you have found?</font>\n",
    "\n",
    "* From the exercises above, if you were the Marketing director, how could you utilize the association rules you have found?"
   ]
  },
  {
   "cell_type": "markdown",
   "metadata": {},
   "source": [
    "# <font color=\"purple\">Part. 2 Patient Clustering (50%)</font>\n",
    " \n",
    "In this example, you given a dataset **DiabetesPatient.xlsx** with 459 diabetes patients. The hospital would like to see whether they can separate them into several clusters such that they can have better understand the characteristics of the patients. You should use **sklearn.cluster KMeans module** and **MinMaxScaler module** from **sklearn.preprocessing** to acoomplish this assignment. \n"
   ]
  },
  {
   "cell_type": "markdown",
   "metadata": {},
   "source": [
    "#  <font color=\"purple\">Q2.1 Load the data and drop categorical variables</font>\n",
    "\n",
    "In this section, you are asked to: \n",
    "* Read the Excel data **DiabetesPatient.xlsx**\n",
    "* Drop variables that are not suitable for this analysis\n"
   ]
  },
  {
   "cell_type": "code",
   "execution_count": 19,
   "metadata": {},
   "outputs": [],
   "source": [
    "df = pd.read_excel('DiabetesPatient.xlsx')"
   ]
  },
  {
   "cell_type": "code",
   "execution_count": 20,
   "metadata": {},
   "outputs": [
    {
     "data": {
      "text/html": [
       "<div>\n",
       "<style scoped>\n",
       "    .dataframe tbody tr th:only-of-type {\n",
       "        vertical-align: middle;\n",
       "    }\n",
       "\n",
       "    .dataframe tbody tr th {\n",
       "        vertical-align: top;\n",
       "    }\n",
       "\n",
       "    .dataframe thead th {\n",
       "        text-align: right;\n",
       "    }\n",
       "</style>\n",
       "<table border=\"1\" class=\"dataframe\">\n",
       "  <thead>\n",
       "    <tr style=\"text-align: right;\">\n",
       "      <th></th>\n",
       "      <th>Patient ID</th>\n",
       "      <th>age</th>\n",
       "      <th>bmi</th>\n",
       "      <th>RaceID</th>\n",
       "      <th>Glucose</th>\n",
       "      <th>Cholesterol</th>\n",
       "      <th>smoker</th>\n",
       "      <th>Average Heartbeat</th>\n",
       "      <th>Daily Steps</th>\n",
       "    </tr>\n",
       "  </thead>\n",
       "  <tbody>\n",
       "    <tr>\n",
       "      <th>0</th>\n",
       "      <td>3</td>\n",
       "      <td>36</td>\n",
       "      <td>29.920</td>\n",
       "      <td>1</td>\n",
       "      <td>87</td>\n",
       "      <td>287</td>\n",
       "      <td>0</td>\n",
       "      <td>68</td>\n",
       "      <td>466</td>\n",
       "    </tr>\n",
       "    <tr>\n",
       "      <th>1</th>\n",
       "      <td>10</td>\n",
       "      <td>23</td>\n",
       "      <td>36.670</td>\n",
       "      <td>2</td>\n",
       "      <td>118</td>\n",
       "      <td>232</td>\n",
       "      <td>1</td>\n",
       "      <td>88</td>\n",
       "      <td>4218</td>\n",
       "    </tr>\n",
       "    <tr>\n",
       "      <th>2</th>\n",
       "      <td>19</td>\n",
       "      <td>51</td>\n",
       "      <td>36.385</td>\n",
       "      <td>3</td>\n",
       "      <td>62</td>\n",
       "      <td>124</td>\n",
       "      <td>0</td>\n",
       "      <td>89</td>\n",
       "      <td>829</td>\n",
       "    </tr>\n",
       "    <tr>\n",
       "      <th>3</th>\n",
       "      <td>64</td>\n",
       "      <td>38</td>\n",
       "      <td>30.210</td>\n",
       "      <td>3</td>\n",
       "      <td>108</td>\n",
       "      <td>162</td>\n",
       "      <td>0</td>\n",
       "      <td>76</td>\n",
       "      <td>1421</td>\n",
       "    </tr>\n",
       "    <tr>\n",
       "      <th>4</th>\n",
       "      <td>140</td>\n",
       "      <td>22</td>\n",
       "      <td>28.050</td>\n",
       "      <td>0</td>\n",
       "      <td>102</td>\n",
       "      <td>139</td>\n",
       "      <td>0</td>\n",
       "      <td>86</td>\n",
       "      <td>2684</td>\n",
       "    </tr>\n",
       "  </tbody>\n",
       "</table>\n",
       "</div>"
      ],
      "text/plain": [
       "   Patient ID  age     bmi  RaceID  Glucose  Cholesterol  smoker  \\\n",
       "0           3   36  29.920       1       87          287       0   \n",
       "1          10   23  36.670       2      118          232       1   \n",
       "2          19   51  36.385       3       62          124       0   \n",
       "3          64   38  30.210       3      108          162       0   \n",
       "4         140   22  28.050       0      102          139       0   \n",
       "\n",
       "   Average Heartbeat  Daily Steps  \n",
       "0                 68          466  \n",
       "1                 88         4218  \n",
       "2                 89          829  \n",
       "3                 76         1421  \n",
       "4                 86         2684  "
      ]
     },
     "execution_count": 20,
     "metadata": {},
     "output_type": "execute_result"
    }
   ],
   "source": [
    "df.head()"
   ]
  },
  {
   "cell_type": "code",
   "execution_count": 21,
   "metadata": {},
   "outputs": [
    {
     "data": {
      "text/plain": [
       "Patient ID             int64\n",
       "age                    int64\n",
       "bmi                  float64\n",
       "RaceID                 int64\n",
       "Glucose                int64\n",
       "Cholesterol            int64\n",
       "smoker                 int64\n",
       "Average Heartbeat      int64\n",
       "Daily Steps            int64\n",
       "dtype: object"
      ]
     },
     "execution_count": 21,
     "metadata": {},
     "output_type": "execute_result"
    }
   ],
   "source": [
    "df.dtypes"
   ]
  },
  {
   "cell_type": "code",
   "execution_count": 22,
   "metadata": {},
   "outputs": [],
   "source": [
    "df.drop(['Patient ID','RaceID'],axis=1,inplace=True)"
   ]
  },
  {
   "cell_type": "code",
   "execution_count": 23,
   "metadata": {},
   "outputs": [
    {
     "data": {
      "text/html": [
       "<div>\n",
       "<style scoped>\n",
       "    .dataframe tbody tr th:only-of-type {\n",
       "        vertical-align: middle;\n",
       "    }\n",
       "\n",
       "    .dataframe tbody tr th {\n",
       "        vertical-align: top;\n",
       "    }\n",
       "\n",
       "    .dataframe thead th {\n",
       "        text-align: right;\n",
       "    }\n",
       "</style>\n",
       "<table border=\"1\" class=\"dataframe\">\n",
       "  <thead>\n",
       "    <tr style=\"text-align: right;\">\n",
       "      <th></th>\n",
       "      <th>age</th>\n",
       "      <th>bmi</th>\n",
       "      <th>Glucose</th>\n",
       "      <th>Cholesterol</th>\n",
       "      <th>smoker</th>\n",
       "      <th>Average Heartbeat</th>\n",
       "      <th>Daily Steps</th>\n",
       "    </tr>\n",
       "  </thead>\n",
       "  <tbody>\n",
       "    <tr>\n",
       "      <th>0</th>\n",
       "      <td>36</td>\n",
       "      <td>29.920</td>\n",
       "      <td>87</td>\n",
       "      <td>287</td>\n",
       "      <td>0</td>\n",
       "      <td>68</td>\n",
       "      <td>466</td>\n",
       "    </tr>\n",
       "    <tr>\n",
       "      <th>1</th>\n",
       "      <td>23</td>\n",
       "      <td>36.670</td>\n",
       "      <td>118</td>\n",
       "      <td>232</td>\n",
       "      <td>1</td>\n",
       "      <td>88</td>\n",
       "      <td>4218</td>\n",
       "    </tr>\n",
       "    <tr>\n",
       "      <th>2</th>\n",
       "      <td>51</td>\n",
       "      <td>36.385</td>\n",
       "      <td>62</td>\n",
       "      <td>124</td>\n",
       "      <td>0</td>\n",
       "      <td>89</td>\n",
       "      <td>829</td>\n",
       "    </tr>\n",
       "    <tr>\n",
       "      <th>3</th>\n",
       "      <td>38</td>\n",
       "      <td>30.210</td>\n",
       "      <td>108</td>\n",
       "      <td>162</td>\n",
       "      <td>0</td>\n",
       "      <td>76</td>\n",
       "      <td>1421</td>\n",
       "    </tr>\n",
       "    <tr>\n",
       "      <th>4</th>\n",
       "      <td>22</td>\n",
       "      <td>28.050</td>\n",
       "      <td>102</td>\n",
       "      <td>139</td>\n",
       "      <td>0</td>\n",
       "      <td>86</td>\n",
       "      <td>2684</td>\n",
       "    </tr>\n",
       "  </tbody>\n",
       "</table>\n",
       "</div>"
      ],
      "text/plain": [
       "   age     bmi  Glucose  Cholesterol  smoker  Average Heartbeat  Daily Steps\n",
       "0   36  29.920       87          287       0                 68          466\n",
       "1   23  36.670      118          232       1                 88         4218\n",
       "2   51  36.385       62          124       0                 89          829\n",
       "3   38  30.210      108          162       0                 76         1421\n",
       "4   22  28.050      102          139       0                 86         2684"
      ]
     },
     "execution_count": 23,
     "metadata": {},
     "output_type": "execute_result"
    }
   ],
   "source": [
    "df.head()"
   ]
  },
  {
   "cell_type": "markdown",
   "metadata": {},
   "source": [
    "#  <font color=\"purple\">Q2.2 Scalar transformation the data</font>\n",
    "\n",
    "After loading the data, you should do scalar transformation on the axis of X variables by using **MinMaxScaler()** from **sklearn.preprocessing**.  \n",
    "\n",
    "In this section, you should demonstrate how to: \n",
    "* Rescale (using MinMaxScaler()) all X variables and replace the original values\n"
   ]
  },
  {
   "cell_type": "code",
   "execution_count": 30,
   "metadata": {},
   "outputs": [],
   "source": [
    "X = df.iloc[:].values\n",
    "scale = MinMaxScaler()\n",
    "X = scale.fit_transform(X)"
   ]
  },
  {
   "cell_type": "code",
   "execution_count": 32,
   "metadata": {},
   "outputs": [
    {
     "data": {
      "text/plain": [
       "array([[0.39130435, 0.40557815, 0.38571429, ..., 0.        , 0.35294118,\n",
       "        0.06127748],\n",
       "       [0.10869565, 0.60168507, 0.82857143, ..., 1.        , 0.94117647,\n",
       "        0.71074952],\n",
       "       [0.7173913 , 0.593405  , 0.02857143, ..., 0.        , 0.97058824,\n",
       "        0.12411286],\n",
       "       ...,\n",
       "       [0.30434783, 0.34500291, 0.31428571, ..., 0.        , 0.08823529,\n",
       "        0.01731002],\n",
       "       [0.08695652, 0.44712377, 0.1       , ..., 0.        , 0.76470588,\n",
       "        0.08204951],\n",
       "       [0.97826087, 0.26496223, 0.98571429, ..., 0.        , 0.17647059,\n",
       "        0.18504414]])"
      ]
     },
     "execution_count": 32,
     "metadata": {},
     "output_type": "execute_result"
    }
   ],
   "source": [
    "X"
   ]
  },
  {
   "cell_type": "markdown",
   "metadata": {},
   "source": [
    "#  <font color=\"purple\">Q2.3 KMeans Clustering</font>\n",
    "\n",
    "After rescaling all X variable, you should do the followings:\n",
    "\n",
    "* use the **KMeans** module from **sklearn.clustering** and choose **K=4 clusters** for this operation.\n",
    "* Add cluster # as 'cluster' variable in the DataFrame\n",
    "* Display the sum of squared error of samples from their closest cluster center\n",
    "* Please use **matplotlib.pyplot** to plot data clusters in separate colors in a 2D plane of **Daily Steps** and **Average Heartbeat**. Please label X-axis and Y-asix. Plot the scatterplots and save the output figures \n",
    "* Please wrie codes that can **save that cluster scatter plot into an image file, names as \"PatientCluster_YourLastName.png\")**"
   ]
  },
  {
   "cell_type": "code",
   "execution_count": 43,
   "metadata": {},
   "outputs": [],
   "source": [
    "kmeans = KMeans(n_clusters = 4, random_state = 42)\n",
    "y_kmeans = kmeans.fit_predict(X)"
   ]
  },
  {
   "cell_type": "code",
   "execution_count": 44,
   "metadata": {},
   "outputs": [],
   "source": [
    "df['cluster'] = y_kmeans"
   ]
  },
  {
   "cell_type": "code",
   "execution_count": 45,
   "metadata": {},
   "outputs": [
    {
     "data": {
      "text/html": [
       "<div>\n",
       "<style scoped>\n",
       "    .dataframe tbody tr th:only-of-type {\n",
       "        vertical-align: middle;\n",
       "    }\n",
       "\n",
       "    .dataframe tbody tr th {\n",
       "        vertical-align: top;\n",
       "    }\n",
       "\n",
       "    .dataframe thead th {\n",
       "        text-align: right;\n",
       "    }\n",
       "</style>\n",
       "<table border=\"1\" class=\"dataframe\">\n",
       "  <thead>\n",
       "    <tr style=\"text-align: right;\">\n",
       "      <th></th>\n",
       "      <th>age</th>\n",
       "      <th>bmi</th>\n",
       "      <th>Glucose</th>\n",
       "      <th>Cholesterol</th>\n",
       "      <th>smoker</th>\n",
       "      <th>Average Heartbeat</th>\n",
       "      <th>Daily Steps</th>\n",
       "      <th>cluster</th>\n",
       "    </tr>\n",
       "  </thead>\n",
       "  <tbody>\n",
       "    <tr>\n",
       "      <th>0</th>\n",
       "      <td>36</td>\n",
       "      <td>29.920</td>\n",
       "      <td>87</td>\n",
       "      <td>287</td>\n",
       "      <td>0</td>\n",
       "      <td>68</td>\n",
       "      <td>466</td>\n",
       "      <td>1</td>\n",
       "    </tr>\n",
       "    <tr>\n",
       "      <th>1</th>\n",
       "      <td>23</td>\n",
       "      <td>36.670</td>\n",
       "      <td>118</td>\n",
       "      <td>232</td>\n",
       "      <td>1</td>\n",
       "      <td>88</td>\n",
       "      <td>4218</td>\n",
       "      <td>0</td>\n",
       "    </tr>\n",
       "    <tr>\n",
       "      <th>2</th>\n",
       "      <td>51</td>\n",
       "      <td>36.385</td>\n",
       "      <td>62</td>\n",
       "      <td>124</td>\n",
       "      <td>0</td>\n",
       "      <td>89</td>\n",
       "      <td>829</td>\n",
       "      <td>3</td>\n",
       "    </tr>\n",
       "    <tr>\n",
       "      <th>3</th>\n",
       "      <td>38</td>\n",
       "      <td>30.210</td>\n",
       "      <td>108</td>\n",
       "      <td>162</td>\n",
       "      <td>0</td>\n",
       "      <td>76</td>\n",
       "      <td>1421</td>\n",
       "      <td>2</td>\n",
       "    </tr>\n",
       "    <tr>\n",
       "      <th>4</th>\n",
       "      <td>22</td>\n",
       "      <td>28.050</td>\n",
       "      <td>102</td>\n",
       "      <td>139</td>\n",
       "      <td>0</td>\n",
       "      <td>86</td>\n",
       "      <td>2684</td>\n",
       "      <td>2</td>\n",
       "    </tr>\n",
       "  </tbody>\n",
       "</table>\n",
       "</div>"
      ],
      "text/plain": [
       "   age     bmi  Glucose  Cholesterol  smoker  Average Heartbeat  Daily Steps  \\\n",
       "0   36  29.920       87          287       0                 68          466   \n",
       "1   23  36.670      118          232       1                 88         4218   \n",
       "2   51  36.385       62          124       0                 89          829   \n",
       "3   38  30.210      108          162       0                 76         1421   \n",
       "4   22  28.050      102          139       0                 86         2684   \n",
       "\n",
       "   cluster  \n",
       "0        1  \n",
       "1        0  \n",
       "2        3  \n",
       "3        2  \n",
       "4        2  "
      ]
     },
     "execution_count": 45,
     "metadata": {},
     "output_type": "execute_result"
    }
   ],
   "source": [
    "df.head()"
   ]
  },
  {
   "cell_type": "code",
   "execution_count": 41,
   "metadata": {},
   "outputs": [
    {
     "data": {
      "text/plain": [
       "130.55283983977526"
      ]
     },
     "execution_count": 41,
     "metadata": {},
     "output_type": "execute_result"
    }
   ],
   "source": [
    "kmeans.inertia_"
   ]
  },
  {
   "cell_type": "code",
   "execution_count": 56,
   "metadata": {},
   "outputs": [
    {
     "data": {
      "text/plain": [
       "array([0.19060783, 0.07430672, 0.50712105, 0.16273102])"
      ]
     },
     "execution_count": 56,
     "metadata": {},
     "output_type": "execute_result"
    }
   ],
   "source": [
    "kmeans.cluster_centers_[:,6]"
   ]
  },
  {
   "cell_type": "code",
   "execution_count": 60,
   "metadata": {},
   "outputs": [
    {
     "data": {
      "image/png": "[encoded data removed]",
      "text/plain": [
       "<Figure size 432x288 with 1 Axes>"
      ]
     },
     "metadata": {
      "needs_background": "light"
     },
     "output_type": "display_data"
    }
   ],
   "source": [
    "plt.scatter(X[y_kmeans == 0, 6], X[y_kmeans == 0, 5], s = 100, c = 'red', label = 'Cluster 1')\n",
    "plt.scatter(X[y_kmeans == 1, 6], X[y_kmeans == 1, 5], s = 100, c = 'blue', label = 'Cluster 2')\n",
    "plt.scatter(X[y_kmeans == 2, 6], X[y_kmeans == 2, 5], s = 100, c = 'green', label = 'Cluster 3')\n",
    "plt.scatter(X[y_kmeans == 3, 6], X[y_kmeans == 3, 5], s = 100, c = 'cyan', label = 'Cluster 4')\n",
    "\n",
    "plt.scatter(kmeans.cluster_centers_[:, 6], kmeans.cluster_centers_[:, 5], s = 300, c = 'yellow', label = 'Centroids')\n",
    "plt.title('Clusters')\n",
    "plt.xlabel('Daily Steps')\n",
    "plt.ylabel('Average Heartbeat')\n",
    "plt.legend()\n",
    "plt.savefig('PatientCluster_Redendo.png')\n",
    "plt.show()\n"
   ]
  },
  {
   "cell_type": "markdown",
   "metadata": {},
   "source": [
    "#  <font color=\"purple\">Q2.4 Elbow Test</font>\n",
    "\n",
    "Please conduct an Elbow test when clustering  **PatientCluster.xlsx** and find out the optimal number of cluster. You should do the following:\n",
    "* Create a empty python list 'sse' to store the SSE (Sum of Square Errors) at different K\n",
    "* Create a for loop that have K runs in a range from 1 to 10.\n",
    "* Run Kmeans clustering fit for a different K (K=1-10)\n",
    "* Append the cluster outcome inertia_ (SSE) to the sse list\n",
    "* Use matplotlib.pyplot.plot to plot the SSEs for different K in a line graphs. Please label x-axis and y-axis."
   ]
  },
  {
   "cell_type": "code",
   "execution_count": null,
   "metadata": {},
   "outputs": [],
   "source": []
  },
  {
   "cell_type": "markdown",
   "metadata": {},
   "source": [
    "#  <font color=\"purple\">Q2.5 Conclusion from the Elbow Test</font>\n",
    "\n",
    "From the line graph of your Elbow test, can you conclude what is your optimal # of clustering? Please answer it in a \"Markdown\" cell"
   ]
  },
  {
   "cell_type": "markdown",
   "metadata": {},
   "source": [
    "#  <font color=\"purple\">Q2.6 Re-Clustering with your optimal K</font>\n",
    "\n",
    "Please use **your Optimal K number that you concluded in Q2.5 and repeat all the operations you have done in** <font color=\"purple\">**Q2.3**</font> and replot the clustering outcomes. \n",
    "\n",
    "* use the **KMeans** module from **sklearn.clustering** and choose **K=your Optimal K clusters** for this operation.\n",
    "* Add cluster # as 'cluster' variable in the DataFrame\n",
    "* Display the sum of squared error of samples from their closest cluster center\n",
    "* Replot the scatterplots and save the output figures\n",
    "* Please use **matplotlib.pyplot** to plot data clusters in separate colors in a 2D plane of **Median Age** and **Median Income**. Please label the Plot title, X-axis and Y-asix. \n",
    "* Please wrie codes that can **save that cluster scatter plot into an image file, names as \"BankCluster_Optimal_YourLast.png\")**"
   ]
  },
  {
   "cell_type": "markdown",
   "metadata": {},
   "source": [
    "# <font color=\"purple\"> Part 3, How you can apply analytics to improve business sales/profit? (20%)</font>\n",
    "\n",
    "\"Associations are good at collecting data, but they’re less adept at analyzing it or knowing what to do with the gold mine of information they have. But that’s changing. As technology becomes more affordable, organizations are harnessing “big data” to improve member engagement.\n",
    " ---- By Melanie D.G. Kaplan\"  \n",
    " \n",
    "As a consumer in the sociaty, you are aware that your information are collected when you use Internet from your computer or smartphone, or even just using your credit cards (transaction records) or just carrying your smartphone (GPS and app tracking). As a worker for your employers, you are aware of tons of informations are collected. \n",
    "\n",
    "As a data analyst, your job is to help your organization to improve its revenue/sales/profit through data mining. Now you have learned three major topics (Regression, associatiions & clustering, classifications). Please use \"Markdown\" to write  <font color=\"blue\">a 800-1000 word essay</font> **assuming you were an executive of your organization, how will you do help your organization to improve its performances?**\n",
    "\n",
    "You will need to specify in your writing,\n",
    "* What datasets you will be focus on? \n",
    "* What organizational goals or key performance indices will your proposal improve? \n",
    "* Which analytics tools do you plan to use to achieve such a goal? \n",
    "* How will that analytics help your organization to improve its performance? \n",
    "\n"
   ]
  },
  {
   "cell_type": "code",
   "execution_count": null,
   "metadata": {},
   "outputs": [],
   "source": []
  }
 ],
 "metadata": {
  "kernelspec": {
   "display_name": "Python 3",
   "language": "python",
   "name": "python3"
  },
  "language_info": {
   "codemirror_mode": {
    "name": "ipython",
    "version": 3
   },
   "file_extension": ".py",
   "mimetype": "text/x-python",
   "name": "python",
   "nbconvert_exporter": "python",
   "pygments_lexer": "ipython3",
   "version": "3.8.5"
  },
  "toc": {
   "base_numbering": 1,
   "nav_menu": {},
   "number_sections": true,
   "sideBar": true,
   "skip_h1_title": true,
   "title_cell": "Table of Contents",
   "title_sidebar": "Contents",
   "toc_cell": false,
   "toc_position": {},
   "toc_section_display": true,
   "toc_window_display": false
  }
 },
 "nbformat": 4,
 "nbformat_minor": 4
}
