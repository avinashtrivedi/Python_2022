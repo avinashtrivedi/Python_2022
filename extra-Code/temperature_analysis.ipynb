{
 "cells": [
  {
   "cell_type": "code",
   "execution_count": 1,
   "metadata": {},
   "outputs": [
    {
     "name": "stdout",
     "output_type": "stream",
     "text": [
      "Length: 733\n",
      "row 128: USC00367732,\"SAFE HARBOR DAM, PA US\",2020-05-07,55\n",
      "row 128: 65.0\n",
      "Max: 97.0\n",
      "Min: 28.0\n"
     ]
    }
   ],
   "source": [
    "def mx(x):\n",
    "    return max(x)\n",
    "\n",
    "def mn(x):\n",
    "    return min(x)\n",
    "\n",
    "def main():\n",
    "    f = open('2899269_temps.csv')\n",
    "    file = f.readlines()\n",
    "    f.close()\n",
    "\n",
    "    tmax_list = [float(i.split(',')[-1].strip()) for i in file[1:]]\n",
    "\n",
    "    print('Length:',len(file))\n",
    "    print('row 128:',file[128].strip())\n",
    "    print('row 128:',tmax_list[128])\n",
    "    \n",
    "    print('Max:',mx(tmax_list))\n",
    "    print('Min:',mn(tmax_list))\n",
    "    \n",
    "if __name__ == \"__main__\":\n",
    "    main()"
   ]
  },
  {
   "cell_type": "code",
   "execution_count": null,
   "metadata": {},
   "outputs": [],
   "source": [
    "# https://stackoverflow.com/questions/45926230/how-to-calculate-1st-and-3rd-quartiles"
   ]
  },
  {
   "cell_type": "code",
   "execution_count": 2,
   "metadata": {},
   "outputs": [],
   "source": [
    "f = open('2899269_temps.csv')\n",
    "file = f.readlines()\n",
    "f.close()\n",
    "tmax_list = [float(i.split(',')[-1].strip()) for i in file[1:]]"
   ]
  },
  {
   "cell_type": "code",
   "execution_count": 22,
   "metadata": {},
   "outputs": [],
   "source": [
    "def avg(x):\n",
    "    total = 0\n",
    "    for i in x:\n",
    "        total = total + i\n",
    "    average = total/len(x)\n",
    "    return average"
   ]
  },
  {
   "cell_type": "code",
   "execution_count": 8,
   "metadata": {},
   "outputs": [
    {
     "data": {
      "text/plain": [
       "64.1707650273224"
      ]
     },
     "execution_count": 8,
     "metadata": {},
     "output_type": "execute_result"
    }
   ],
   "source": [
    "avg(tmax_list)"
   ]
  },
  {
   "cell_type": "code",
   "execution_count": 23,
   "metadata": {},
   "outputs": [],
   "source": [
    "def median(x):\n",
    "    mid = len(x)//2\n",
    "    \n",
    "    if len(x)%2!=0:\n",
    "        return x[mid]\n",
    "    else:\n",
    "        return (x[mid] + x[mid-1])/2"
   ]
  },
  {
   "cell_type": "code",
   "execution_count": 12,
   "metadata": {},
   "outputs": [
    {
     "data": {
      "text/plain": [
       "65.0"
      ]
     },
     "execution_count": 12,
     "metadata": {},
     "output_type": "execute_result"
    }
   ],
   "source": [
    "tmax_list = sorted(tmax_list)\n",
    "median(tmax_list)"
   ]
  },
  {
   "cell_type": "code",
   "execution_count": 19,
   "metadata": {},
   "outputs": [],
   "source": [
    " x = [24, 25, 26, 27, 30, 32, 40, 44, 50, 52, 55, 57]"
   ]
  },
  {
   "cell_type": "code",
   "execution_count": 20,
   "metadata": {},
   "outputs": [
    {
     "ename": "NameError",
     "evalue": "name 'q' is not defined",
     "output_type": "error",
     "traceback": [
      "\u001b[1;31m---------------------------------------------------------------------------\u001b[0m",
      "\u001b[1;31mNameError\u001b[0m                                 Traceback (most recent call last)",
      "Input \u001b[1;32mIn [20]\u001b[0m, in \u001b[0;36m<cell line: 1>\u001b[1;34m()\u001b[0m\n\u001b[0;32m      1\u001b[0m \u001b[38;5;28;01mfor\u001b[39;00m i \u001b[38;5;129;01min\u001b[39;00m \u001b[38;5;28mrange\u001b[39m(\u001b[38;5;28mlen\u001b[39m(x)):\n\u001b[1;32m----> 2\u001b[0m     \u001b[38;5;28;01mif\u001b[39;00m x[i]\u001b[38;5;241m<\u001b[39m\u001b[38;5;241m=\u001b[39m\u001b[43mq\u001b[49m:\n\u001b[0;32m      3\u001b[0m         indx \u001b[38;5;241m=\u001b[39m i\n\u001b[0;32m      4\u001b[0m     \u001b[38;5;28;01melse\u001b[39;00m:\n",
      "\u001b[1;31mNameError\u001b[0m: name 'q' is not defined"
     ]
    }
   ],
   "source": [
    "for i in range(len(x)):\n",
    "    if x[i]<=q:\n",
    "        indx = i\n",
    "    else:\n",
    "        break"
   ]
  },
  {
   "cell_type": "code",
   "execution_count": 14,
   "metadata": {},
   "outputs": [
    {
     "data": {
      "text/plain": [
       "36.0"
      ]
     },
     "execution_count": 14,
     "metadata": {},
     "output_type": "execute_result"
    }
   ],
   "source": [
    "median(x)"
   ]
  },
  {
   "cell_type": "code",
   "execution_count": 15,
   "metadata": {},
   "outputs": [
    {
     "data": {
      "text/plain": [
       "38.5"
      ]
     },
     "execution_count": 15,
     "metadata": {},
     "output_type": "execute_result"
    }
   ],
   "source": [
    "avg(x)"
   ]
  },
  {
   "cell_type": "code",
   "execution_count": 17,
   "metadata": {},
   "outputs": [
    {
     "data": {
      "text/plain": [
       "26.5"
      ]
     },
     "execution_count": 17,
     "metadata": {},
     "output_type": "execute_result"
    }
   ],
   "source": [
    "median(x[:6])"
   ]
  },
  {
   "cell_type": "code",
   "execution_count": 18,
   "metadata": {},
   "outputs": [
    {
     "data": {
      "text/plain": [
       "51.0"
      ]
     },
     "execution_count": 18,
     "metadata": {},
     "output_type": "execute_result"
    }
   ],
   "source": [
    "median(x[6:])"
   ]
  },
  {
   "cell_type": "code",
   "execution_count": 27,
   "metadata": {},
   "outputs": [],
   "source": [
    "def percentile(tmax_list,percent):\n",
    "    q2 = median(tmax_list)\n",
    "    for i in range(len(tmax_list)):\n",
    "        if tmax_list[i]<=q2:\n",
    "            indx = i\n",
    "        else:\n",
    "            break\n",
    "    q1 = median(tmax_list[:indx+1])\n",
    "    q3 = median(tmax_list[indx+1:])\n",
    "    \n",
    "    if percent==.25:\n",
    "        return q1\n",
    "    elif percent==.5:\n",
    "        return q2\n",
    "    elif percent==.75:\n",
    "        return q3"
   ]
  },
  {
   "cell_type": "code",
   "execution_count": 31,
   "metadata": {},
   "outputs": [
    {
     "name": "stdout",
     "output_type": "stream",
     "text": [
      "Mean: 64.17\n",
      "1st Quart: 49.0\n",
      "2nd Quart: 65.0\n",
      "3rd Quart: 80.0\n"
     ]
    }
   ],
   "source": [
    "def main():\n",
    "    f = open('2899269_temps.csv')\n",
    "    file = f.readlines()\n",
    "    f.close()\n",
    "\n",
    "    tmax_list = [float(i.split(',')[-1].strip()) for i in file[1:]]\n",
    "    tmax_list = sorted(tmax_list)\n",
    "    print('Mean:',round(avg(tmax_list),2))\n",
    "    print('1st Quart:',percentile(tmax_list,.25))\n",
    "    print('2nd Quart:',percentile(tmax_list,.50))\n",
    "    print('3rd Quart:',percentile(tmax_list,.75))\n",
    "    \n",
    "if __name__ == \"__main__\":\n",
    "    main()"
   ]
  },
  {
   "cell_type": "code",
   "execution_count": null,
   "metadata": {},
   "outputs": [],
   "source": []
  }
 ],
 "metadata": {
  "kernelspec": {
   "display_name": "Python 3 (ipykernel)",
   "language": "python",
   "name": "python3"
  },
  "language_info": {
   "codemirror_mode": {
    "name": "ipython",
    "version": 3
   },
   "file_extension": ".py",
   "mimetype": "text/x-python",
   "name": "python",
   "nbconvert_exporter": "python",
   "pygments_lexer": "ipython3",
   "version": "3.8.5"
  }
 },
 "nbformat": 4,
 "nbformat_minor": 4
}
