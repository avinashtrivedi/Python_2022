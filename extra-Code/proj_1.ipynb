{
 "cells": [
  {
   "cell_type": "markdown",
   "id": "60dbe073",
   "metadata": {},
   "source": [
    "# 1"
   ]
  },
  {
   "cell_type": "code",
   "execution_count": 2,
   "id": "7b6fc851",
   "metadata": {},
   "outputs": [],
   "source": [
    "def maxOf3(a, b, c):\n",
    "    return max(a,b,c)"
   ]
  },
  {
   "cell_type": "markdown",
   "id": "c92cd13d",
   "metadata": {},
   "source": [
    "# 2"
   ]
  },
  {
   "cell_type": "code",
   "execution_count": 12,
   "id": "54c75ace",
   "metadata": {},
   "outputs": [],
   "source": [
    "def funnyHatParty(funnyHats, noAcorns):\n",
    "    if funnyHats>=20 and noAcorns==True:\n",
    "        return True\n",
    "    elif funnyHats<=25 and funnyHats>=15:\n",
    "        return True\n",
    "    else:\n",
    "        return False"
   ]
  },
  {
   "cell_type": "markdown",
   "id": "9f842a52",
   "metadata": {},
   "source": [
    "# 3"
   ]
  },
  {
   "cell_type": "code",
   "execution_count": 28,
   "id": "ce63ab5a",
   "metadata": {},
   "outputs": [],
   "source": [
    "def formString(letters, n):\n",
    "    s = ''\n",
    "    if n<len(letters):\n",
    "        x = myList[n]\n",
    "        for i in myList:\n",
    "            if i!=x:\n",
    "                s = s + i\n",
    "        return s\n",
    "    else:\n",
    "        return ''.join(myList)"
   ]
  },
  {
   "cell_type": "markdown",
   "id": "ac65893d",
   "metadata": {},
   "source": [
    "# 4"
   ]
  },
  {
   "cell_type": "code",
   "execution_count": 68,
   "id": "cce7d2e9",
   "metadata": {},
   "outputs": [],
   "source": [
    "def connectStrings(str1, str2):\n",
    "    len1 = len(str1)\n",
    "    len2 = len(str2)\n",
    "    \n",
    "    if (len1%2==0 and len2%2==1):\n",
    "        return str1+str2\n",
    "    \n",
    "    elif (len2%2==0 and len1%2==1):\n",
    "        return str2+str1\n",
    "    elif (len1%2==1 and len2%2==1):\n",
    "        indx = len(str1)//2\n",
    "        return str1[:indx] + str2[len(str2)//2] + str1[indx+1:]\n",
    "    else:\n",
    "        indx1 = len(str1)//2\n",
    "        indx2 = len(str2)//2\n",
    "        return str1[-indx1:] + str2[:indx2]"
   ]
  },
  {
   "cell_type": "markdown",
   "id": "cd5ea1c1",
   "metadata": {},
   "source": [
    "# 5"
   ]
  },
  {
   "cell_type": "code",
   "execution_count": 100,
   "id": "c5279425",
   "metadata": {},
   "outputs": [],
   "source": [
    "def isFactor(a, b, c):\n",
    "    x  =sorted((a,b,c))\n",
    "    \n",
    "    if (x[1]/x[0] == x[1]//x[0]) or (x[2]/x[0] == x[2]//x[0]) or (x[2]/x[1] == x[2]//x[1]):\n",
    "        return True\n",
    "    else:\n",
    "        return False"
   ]
  },
  {
   "cell_type": "markdown",
   "id": "04c6e705",
   "metadata": {},
   "source": [
    "# 6"
   ]
  },
  {
   "cell_type": "code",
   "execution_count": 194,
   "id": "8ae54c83",
   "metadata": {},
   "outputs": [],
   "source": [
    "def getDivision(you, friend1, friend2):\n",
    "    if you<=800 or friend1<=800 or friend2<=800:\n",
    "        return 0\n",
    "    elif (you>=1600 and friend1>=1600) or (you>=1600 and friend2>=1600) or (friend1>=1600 and friend2>=1600):\n",
    "        return 3\n",
    "    \n",
    "    elif you>=1600 or friend1>=1600 or friend2>=1600:\n",
    "        return 2\n",
    "    else:\n",
    "        return 1"
   ]
  },
  {
   "cell_type": "markdown",
   "id": "21104991",
   "metadata": {},
   "source": [
    "# 7"
   ]
  },
  {
   "cell_type": "code",
   "execution_count": 117,
   "id": "58db5eb4",
   "metadata": {},
   "outputs": [],
   "source": [
    "def prodOfDigits(n):\n",
    "    result = 1\n",
    "    s = str(n)\n",
    "    for i in s:\n",
    "        result = result * int(i)\n",
    "    return result"
   ]
  },
  {
   "cell_type": "markdown",
   "id": "e9e6ea96",
   "metadata": {},
   "source": [
    "# 9"
   ]
  },
  {
   "cell_type": "code",
   "execution_count": 189,
   "id": "4b1ae1cf",
   "metadata": {},
   "outputs": [],
   "source": [
    "def evilE(str):\n",
    "    s = 'bean'\n",
    "    n = s.find('E')\n",
    "    s = list(s)\n",
    "\n",
    "    if n-1>=0:\n",
    "        s[n-1] = ' ' \n",
    "\n",
    "    if n>=0:\n",
    "        if s[n+2] not in ('G','g'):\n",
    "            s[n+1] = ' '\n",
    "\n",
    "    return ''.join(s)"
   ]
  },
  {
   "cell_type": "code",
   "execution_count": null,
   "id": "0907254d",
   "metadata": {},
   "outputs": [],
   "source": []
  }
 ],
 "metadata": {
  "kernelspec": {
   "display_name": "Python 3 (ipykernel)",
   "language": "python",
   "name": "python3"
  },
  "language_info": {
   "codemirror_mode": {
    "name": "ipython",
    "version": 3
   },
   "file_extension": ".py",
   "mimetype": "text/x-python",
   "name": "python",
   "nbconvert_exporter": "python",
   "pygments_lexer": "ipython3",
   "version": "3.8.5"
  }
 },
 "nbformat": 4,
 "nbformat_minor": 5
}
