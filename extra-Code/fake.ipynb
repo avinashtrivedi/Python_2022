{
 "cells": [
  {
   "cell_type": "code",
   "execution_count": 7,
   "id": "14f1eb46",
   "metadata": {},
   "outputs": [],
   "source": [
    "import numpy as np\n",
    "import pandas as pd\n",
    "import re\n",
    "import nltk\n",
    "import pickle\n",
    "from nltk.corpus import stopwords\n",
    "from gensim.parsing.preprocessing import preprocess_string\n",
    "from nltk.stem.porter import PorterStemmer\n",
    "from sklearn.feature_extraction.text import TfidfVectorizer\n",
    "from sklearn.model_selection import train_test_split\n",
    "from sklearn.linear_model import LogisticRegression\n",
    "def check(text):\n",
    "    model_saved = pickle.load(open('model.pickle','rb'))\n",
    "    vectorizer_saved = pickle.load(open('vectorizer.pickle','rb'))\n",
    "    test = pd.Series(text)\n",
    "    X_processed = vectorizer_saved.transform(test)\n",
    "    X_processed = X_processed.toarray()\n",
    "    X_processed = np.concatenate([X_processed,np.array([[1,1]])],axis=1)\n",
    "    pred = model_saved.predict(X_processed)\n",
    "    if pred[0]==1:\n",
    "        return 'Real'\n",
    "    else:\n",
    "        return 'Fake'"
   ]
  },
  {
   "cell_type": "code",
   "execution_count": 8,
   "id": "01698e8c",
   "metadata": {},
   "outputs": [
    {
     "data": {
      "text/plain": [
       "'Real'"
      ]
     },
     "execution_count": 8,
     "metadata": {},
     "output_type": "execute_result"
    }
   ],
   "source": [
    "x = ' '.join(preprocess_string('hillary clinton jumps the shark with trumps '))\n",
    "check(x)"
   ]
  },
  {
   "cell_type": "code",
   "execution_count": null,
   "id": "2ff6b2dd",
   "metadata": {},
   "outputs": [],
   "source": []
  }
 ],
 "metadata": {
  "kernelspec": {
   "display_name": "Python 3 (ipykernel)",
   "language": "python",
   "name": "python3"
  },
  "language_info": {
   "codemirror_mode": {
    "name": "ipython",
    "version": 3
   },
   "file_extension": ".py",
   "mimetype": "text/x-python",
   "name": "python",
   "nbconvert_exporter": "python",
   "pygments_lexer": "ipython3",
   "version": "3.8.5"
  }
 },
 "nbformat": 4,
 "nbformat_minor": 5
}
