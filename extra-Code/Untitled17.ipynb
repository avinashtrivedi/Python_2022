{
 "cells": [
  {
   "cell_type": "code",
   "execution_count": 61,
   "id": "5cf04778",
   "metadata": {},
   "outputs": [],
   "source": [
    "import openpyxl\n",
    "from openpyxl import load_workbook\n",
    "\n",
    "def row_cleansing():\n",
    "\n",
    "    management_style_rows_remove = ['Global Core Tax-Loss Harvesting', 'High Yield - Corporate', 'High Yield - Municipal', 'Investment Grade - Agg', 'Investment Grade - Agg ESG',\n",
    "                               'Investment Grade - Municipal', 'Investment Grade - Municipal ESG', 'Investment Grade TIPS', 'Investment Grade Treasurys', 'MLPs', 'Multi-Asset 55ip', 'Multi-Asset Class',\n",
    "                               'Non-US Core Tax-Exempt ESG', 'Non-US Core Tax-Exempt ESG FX Hedge', 'Non-US Core Tax-Loss Harvesting ESG']\n",
    "\n",
    "    # input_file = 'annonamized_test_data_to_be_split.xlsx'\n",
    "    input_file = 'annonamized_test_data_to_be_split.xlsx'\n",
    "\n",
    "    workbook = load_workbook(input_file)\n",
    "    data_sheet = workbook.active\n",
    "    \n",
    "    for i,row in enumerate(data_sheet.iter_rows(min_col=3, max_col=3, min_row=2, max_row=None)):\n",
    "        for cell in row:\n",
    "            if cell.value in management_style_rows_remove:\n",
    "                data_sheet.delete_rows(i+2)\n",
    "    workbook.save('try12.xlsx')\n",
    "row_cleansing()"
   ]
  },
  {
   "cell_type": "code",
   "execution_count": null,
   "id": "ac19559b",
   "metadata": {},
   "outputs": [],
   "source": []
  },
  {
   "cell_type": "code",
   "execution_count": null,
   "id": "adeaf54a",
   "metadata": {},
   "outputs": [],
   "source": []
  },
  {
   "cell_type": "code",
   "execution_count": 57,
   "id": "c51f2f86",
   "metadata": {},
   "outputs": [],
   "source": [
    "management_style_rows_remove = ['Global Core Tax-Loss Harvesting', 'High Yield - Corporate', 'High Yield - Municipal', 'Investment Grade - Agg', 'Investment Grade - Agg ESG',\n",
    "                               'Investment Grade - Municipal', 'Investment Grade - Municipal ESG', 'Investment Grade TIPS', 'Investment Grade Treasurys', 'MLPs', 'Multi-Asset 55ip', 'Multi-Asset Class',\n",
    "                               'Non-US Core Tax-Exempt ESG', 'Non-US Core Tax-Exempt ESG FX Hedge', 'Non-US Core Tax-Loss Harvesting ESG']\n",
    "\n",
    "# input_file = 'annonamized_test_data_to_be_split.xlsx'\n",
    "input_file = 'annonamized_test_data_to_be_split.xlsx'\n",
    "\n",
    "workbook = load_workbook(input_file)\n",
    "data_sheet = workbook.active"
   ]
  },
  {
   "cell_type": "code",
   "execution_count": 49,
   "id": "dc11ecd5",
   "metadata": {},
   "outputs": [
    {
     "data": {
      "text/plain": [
       "<Worksheet \"Data to be split\">"
      ]
     },
     "execution_count": 49,
     "metadata": {},
     "output_type": "execute_result"
    }
   ],
   "source": [
    "data_sheet"
   ]
  },
  {
   "cell_type": "code",
   "execution_count": 50,
   "id": "350af923",
   "metadata": {},
   "outputs": [],
   "source": [
    "x = []\n",
    "for row in data_sheet.iter_rows(min_col=3, max_col=3, min_row=2, max_row=None):\n",
    "    x.append(row)"
   ]
  },
  {
   "cell_type": "code",
   "execution_count": 40,
   "id": "b836f772",
   "metadata": {},
   "outputs": [
    {
     "data": {
      "text/plain": [
       "''"
      ]
     },
     "execution_count": 40,
     "metadata": {},
     "output_type": "execute_result"
    }
   ],
   "source": [
    "x[0][0].value"
   ]
  },
  {
   "cell_type": "code",
   "execution_count": null,
   "id": "6d663c40",
   "metadata": {},
   "outputs": [],
   "source": []
  },
  {
   "cell_type": "code",
   "execution_count": 58,
   "id": "940c8717",
   "metadata": {},
   "outputs": [],
   "source": [
    "for i,row in enumerate(data_sheet.iter_rows(min_col=3, max_col=3, min_row=2, max_row=None)):\n",
    "    for cell in row:\n",
    "        if cell.value in management_style_rows_remove:\n",
    "            data_sheet.delete_rows(i+2)"
   ]
  },
  {
   "cell_type": "code",
   "execution_count": null,
   "id": "baaf5f49",
   "metadata": {},
   "outputs": [],
   "source": [
    "data_sheet.delete_rows(row)"
   ]
  },
  {
   "cell_type": "code",
   "execution_count": 45,
   "id": "97faf92d",
   "metadata": {},
   "outputs": [],
   "source": [
    "data_sheet.delete_rows(2)"
   ]
  },
  {
   "cell_type": "code",
   "execution_count": 46,
   "id": "a396c488",
   "metadata": {},
   "outputs": [
    {
     "data": {
      "text/plain": [
       "<Worksheet \"Data to be split\">"
      ]
     },
     "execution_count": 46,
     "metadata": {},
     "output_type": "execute_result"
    }
   ],
   "source": [
    "data_sheet.save()"
   ]
  },
  {
   "cell_type": "code",
   "execution_count": 59,
   "id": "41066912",
   "metadata": {},
   "outputs": [],
   "source": [
    "workbook.save('try2.xlsx')"
   ]
  },
  {
   "cell_type": "code",
   "execution_count": null,
   "id": "955973c2",
   "metadata": {},
   "outputs": [],
   "source": []
  },
  {
   "cell_type": "code",
   "execution_count": null,
   "id": "aafb809d",
   "metadata": {},
   "outputs": [],
   "source": []
  },
  {
   "cell_type": "code",
   "execution_count": null,
   "id": "088e8847",
   "metadata": {},
   "outputs": [],
   "source": []
  },
  {
   "cell_type": "code",
   "execution_count": null,
   "id": "32591d27",
   "metadata": {},
   "outputs": [],
   "source": []
  },
  {
   "cell_type": "code",
   "execution_count": null,
   "id": "f69c425d",
   "metadata": {},
   "outputs": [],
   "source": []
  },
  {
   "cell_type": "code",
   "execution_count": 5,
   "id": "5dcc0feb",
   "metadata": {},
   "outputs": [
    {
     "ename": "TypeError",
     "evalue": "'>' not supported between instances of 'list' and 'tuple'",
     "output_type": "error",
     "traceback": [
      "\u001b[1;31m---------------------------------------------------------------------------\u001b[0m",
      "\u001b[1;31mTypeError\u001b[0m                                 Traceback (most recent call last)",
      "Input \u001b[1;32mIn [5]\u001b[0m, in \u001b[0;36m<cell line: 1>\u001b[1;34m()\u001b[0m\n\u001b[1;32m----> 1\u001b[0m \u001b[43m[\u001b[49m\u001b[38;5;241;43m1\u001b[39;49m\u001b[43m,\u001b[49m\u001b[38;5;241;43m2\u001b[39;49m\u001b[43m,\u001b[49m\u001b[38;5;241;43m3\u001b[39;49m\u001b[43m]\u001b[49m\u001b[43m \u001b[49m\u001b[38;5;241;43m>\u001b[39;49m\u001b[43m \u001b[49m\u001b[43m(\u001b[49m\u001b[38;5;241;43m4\u001b[39;49m\u001b[43m,\u001b[49m\u001b[38;5;241;43m5\u001b[39;49m\u001b[43m)\u001b[49m\n",
      "\u001b[1;31mTypeError\u001b[0m: '>' not supported between instances of 'list' and 'tuple'"
     ]
    }
   ],
   "source": [
    "[1,2,3] > (4,5)"
   ]
  },
  {
   "cell_type": "code",
   "execution_count": 3,
   "id": "fb18f8dc",
   "metadata": {},
   "outputs": [
    {
     "data": {
      "text/plain": [
       "False"
      ]
     },
     "execution_count": 3,
     "metadata": {},
     "output_type": "execute_result"
    }
   ],
   "source": [
    "3>4"
   ]
  },
  {
   "cell_type": "code",
   "execution_count": 6,
   "id": "e8ff13a4",
   "metadata": {},
   "outputs": [],
   "source": [
    "import pandas as pd"
   ]
  },
  {
   "cell_type": "code",
   "execution_count": 8,
   "id": "6511e738",
   "metadata": {},
   "outputs": [],
   "source": [
    "df = pd.read_excel('annonamized_test_data_to_be_split.xlsx')"
   ]
  },
  {
   "cell_type": "code",
   "execution_count": 23,
   "id": "fea1cd0a",
   "metadata": {},
   "outputs": [],
   "source": [
    "dfA = df[:1484]"
   ]
  },
  {
   "cell_type": "code",
   "execution_count": 24,
   "id": "76cddd85",
   "metadata": {},
   "outputs": [],
   "source": [
    "dfB = df[1484:2144]"
   ]
  },
  {
   "cell_type": "code",
   "execution_count": 25,
   "id": "44ae4536",
   "metadata": {},
   "outputs": [],
   "source": [
    "dfC = df[2144:]"
   ]
  },
  {
   "cell_type": "code",
   "execution_count": 28,
   "id": "77965baf",
   "metadata": {},
   "outputs": [
    {
     "data": {
      "text/html": [
       "<div>\n",
       "<style scoped>\n",
       "    .dataframe tbody tr th:only-of-type {\n",
       "        vertical-align: middle;\n",
       "    }\n",
       "\n",
       "    .dataframe tbody tr th {\n",
       "        vertical-align: top;\n",
       "    }\n",
       "\n",
       "    .dataframe thead th {\n",
       "        text-align: right;\n",
       "    }\n",
       "</style>\n",
       "<table border=\"1\" class=\"dataframe\">\n",
       "  <thead>\n",
       "    <tr style=\"text-align: right;\">\n",
       "      <th></th>\n",
       "      <th>Ownership Structure</th>\n",
       "      <th>Fee Schedule</th>\n",
       "      <th>Management Style</th>\n",
       "      <th>Advisory Firm</th>\n",
       "      <th>Inception Date</th>\n",
       "      <th>Days in Time Period</th>\n",
       "      <th>Adjusted Average Daily Balance (No Div, USD)</th>\n",
       "      <th>Assets Billed On (USD)</th>\n",
       "      <th>Effective Billing Rate</th>\n",
       "      <th>Billing Fees (USD)</th>\n",
       "      <th>Bill To Account</th>\n",
       "      <th>Model Type</th>\n",
       "    </tr>\n",
       "  </thead>\n",
       "  <tbody>\n",
       "    <tr>\n",
       "      <th>0</th>\n",
       "      <td>Client A</td>\n",
       "      <td>Test Data</td>\n",
       "      <td>NaN</td>\n",
       "      <td>NaN</td>\n",
       "      <td>1990-12-15</td>\n",
       "      <td>90</td>\n",
       "      <td>0</td>\n",
       "      <td>0</td>\n",
       "      <td>0.00642</td>\n",
       "      <td>0</td>\n",
       "      <td>Test Data</td>\n",
       "      <td>Client</td>\n",
       "    </tr>\n",
       "    <tr>\n",
       "      <th>1</th>\n",
       "      <td>Test Data</td>\n",
       "      <td>Test Data</td>\n",
       "      <td>MLPs</td>\n",
       "      <td>Test Data</td>\n",
       "      <td>2021-05-14</td>\n",
       "      <td>90</td>\n",
       "      <td>0</td>\n",
       "      <td>0</td>\n",
       "      <td>-</td>\n",
       "      <td>0</td>\n",
       "      <td>Test Data</td>\n",
       "      <td>Trust</td>\n",
       "    </tr>\n",
       "    <tr>\n",
       "      <th>2</th>\n",
       "      <td>10 Madison LLC Hold (668168788)</td>\n",
       "      <td>Test Data</td>\n",
       "      <td>Test Data</td>\n",
       "      <td>Test Data</td>\n",
       "      <td>2021-05-14</td>\n",
       "      <td>90</td>\n",
       "      <td>0</td>\n",
       "      <td>0</td>\n",
       "      <td>-</td>\n",
       "      <td>0</td>\n",
       "      <td>Test Data</td>\n",
       "      <td>Holding Account</td>\n",
       "    </tr>\n",
       "    <tr>\n",
       "      <th>3</th>\n",
       "      <td>Tset</td>\n",
       "      <td>Test Data</td>\n",
       "      <td>Test Data</td>\n",
       "      <td>Test Data</td>\n",
       "      <td>2021-06-08</td>\n",
       "      <td>90</td>\n",
       "      <td>0</td>\n",
       "      <td>0</td>\n",
       "      <td>-</td>\n",
       "      <td>0</td>\n",
       "      <td>Test Data</td>\n",
       "      <td>Money Market Fund</td>\n",
       "    </tr>\n",
       "    <tr>\n",
       "      <th>4</th>\n",
       "      <td>USD</td>\n",
       "      <td>Test Data</td>\n",
       "      <td>Test Data</td>\n",
       "      <td>Test Data</td>\n",
       "      <td>2021-05-14</td>\n",
       "      <td>90</td>\n",
       "      <td>0</td>\n",
       "      <td>0</td>\n",
       "      <td>-</td>\n",
       "      <td>0</td>\n",
       "      <td>Test Data</td>\n",
       "      <td>Currency</td>\n",
       "    </tr>\n",
       "    <tr>\n",
       "      <th>...</th>\n",
       "      <td>...</td>\n",
       "      <td>...</td>\n",
       "      <td>...</td>\n",
       "      <td>...</td>\n",
       "      <td>...</td>\n",
       "      <td>...</td>\n",
       "      <td>...</td>\n",
       "      <td>...</td>\n",
       "      <td>...</td>\n",
       "      <td>...</td>\n",
       "      <td>...</td>\n",
       "      <td>...</td>\n",
       "    </tr>\n",
       "    <tr>\n",
       "      <th>1479</th>\n",
       "      <td>Directly Owned</td>\n",
       "      <td>Test Data</td>\n",
       "      <td>Test Data</td>\n",
       "      <td>Test Data</td>\n",
       "      <td>2019-10-09</td>\n",
       "      <td>90</td>\n",
       "      <td>0</td>\n",
       "      <td>0</td>\n",
       "      <td>-</td>\n",
       "      <td>0</td>\n",
       "      <td>Test Data</td>\n",
       "      <td>NaN</td>\n",
       "    </tr>\n",
       "    <tr>\n",
       "      <th>1480</th>\n",
       "      <td>Heritage Bancshares (Topeka)</td>\n",
       "      <td>Test Data</td>\n",
       "      <td>Test Data</td>\n",
       "      <td>Test Data</td>\n",
       "      <td>2019-10-09</td>\n",
       "      <td>90</td>\n",
       "      <td>0</td>\n",
       "      <td>0</td>\n",
       "      <td>-</td>\n",
       "      <td>0</td>\n",
       "      <td>Test Data</td>\n",
       "      <td>Custom Asset</td>\n",
       "    </tr>\n",
       "    <tr>\n",
       "      <th>1481</th>\n",
       "      <td>Placeholder HYFI</td>\n",
       "      <td>Test Data</td>\n",
       "      <td>Test Data</td>\n",
       "      <td>Test Data</td>\n",
       "      <td>2021-06-30</td>\n",
       "      <td>90</td>\n",
       "      <td>0</td>\n",
       "      <td>0</td>\n",
       "      <td>-</td>\n",
       "      <td>0</td>\n",
       "      <td>Test Data</td>\n",
       "      <td>Custom Asset</td>\n",
       "    </tr>\n",
       "    <tr>\n",
       "      <th>1482</th>\n",
       "      <td>Test Data</td>\n",
       "      <td>Test Data</td>\n",
       "      <td>Test Data</td>\n",
       "      <td>Test Data</td>\n",
       "      <td>NaT</td>\n",
       "      <td>90</td>\n",
       "      <td>0</td>\n",
       "      <td>0</td>\n",
       "      <td>-</td>\n",
       "      <td>0</td>\n",
       "      <td>Test Data</td>\n",
       "      <td>Trust</td>\n",
       "    </tr>\n",
       "    <tr>\n",
       "      <th>1483</th>\n",
       "      <td>Jonny UTMA Adv (668106786)</td>\n",
       "      <td>Test Data</td>\n",
       "      <td>Test Data</td>\n",
       "      <td>Test Data</td>\n",
       "      <td>NaT</td>\n",
       "      <td>90</td>\n",
       "      <td>0</td>\n",
       "      <td>0</td>\n",
       "      <td>-</td>\n",
       "      <td>0</td>\n",
       "      <td>Test Data</td>\n",
       "      <td>Holding Account</td>\n",
       "    </tr>\n",
       "  </tbody>\n",
       "</table>\n",
       "<p>1484 rows × 12 columns</p>\n",
       "</div>"
      ],
      "text/plain": [
       "                  Ownership Structure Fee Schedule Management Style  \\\n",
       "0                            Client A    Test Data              NaN   \n",
       "1                           Test Data    Test Data             MLPs   \n",
       "2     10 Madison LLC Hold (668168788)    Test Data        Test Data   \n",
       "3                                Tset    Test Data        Test Data   \n",
       "4                                 USD    Test Data        Test Data   \n",
       "...                               ...          ...              ...   \n",
       "1479                   Directly Owned    Test Data        Test Data   \n",
       "1480     Heritage Bancshares (Topeka)    Test Data        Test Data   \n",
       "1481                 Placeholder HYFI    Test Data        Test Data   \n",
       "1482                        Test Data    Test Data        Test Data   \n",
       "1483       Jonny UTMA Adv (668106786)    Test Data        Test Data   \n",
       "\n",
       "     Advisory Firm Inception Date  Days in Time Period  \\\n",
       "0              NaN     1990-12-15                   90   \n",
       "1        Test Data     2021-05-14                   90   \n",
       "2        Test Data     2021-05-14                   90   \n",
       "3        Test Data     2021-06-08                   90   \n",
       "4        Test Data     2021-05-14                   90   \n",
       "...            ...            ...                  ...   \n",
       "1479     Test Data     2019-10-09                   90   \n",
       "1480     Test Data     2019-10-09                   90   \n",
       "1481     Test Data     2021-06-30                   90   \n",
       "1482     Test Data            NaT                   90   \n",
       "1483     Test Data            NaT                   90   \n",
       "\n",
       "      Adjusted Average Daily Balance (No Div, USD)  Assets Billed On (USD)  \\\n",
       "0                                                0                       0   \n",
       "1                                                0                       0   \n",
       "2                                                0                       0   \n",
       "3                                                0                       0   \n",
       "4                                                0                       0   \n",
       "...                                            ...                     ...   \n",
       "1479                                             0                       0   \n",
       "1480                                             0                       0   \n",
       "1481                                             0                       0   \n",
       "1482                                             0                       0   \n",
       "1483                                             0                       0   \n",
       "\n",
       "     Effective Billing Rate  Billing Fees (USD) Bill To Account  \\\n",
       "0                   0.00642                   0       Test Data   \n",
       "1                         -                   0       Test Data   \n",
       "2                         -                   0       Test Data   \n",
       "3                         -                   0       Test Data   \n",
       "4                         -                   0       Test Data   \n",
       "...                     ...                 ...             ...   \n",
       "1479                      -                   0       Test Data   \n",
       "1480                      -                   0       Test Data   \n",
       "1481                      -                   0       Test Data   \n",
       "1482                      -                   0       Test Data   \n",
       "1483                      -                   0       Test Data   \n",
       "\n",
       "             Model Type  \n",
       "0                Client  \n",
       "1                 Trust  \n",
       "2       Holding Account  \n",
       "3     Money Market Fund  \n",
       "4              Currency  \n",
       "...                 ...  \n",
       "1479                NaN  \n",
       "1480       Custom Asset  \n",
       "1481       Custom Asset  \n",
       "1482              Trust  \n",
       "1483    Holding Account  \n",
       "\n",
       "[1484 rows x 12 columns]"
      ]
     },
     "execution_count": 28,
     "metadata": {},
     "output_type": "execute_result"
    }
   ],
   "source": [
    "dfA"
   ]
  },
  {
   "cell_type": "code",
   "execution_count": null,
   "id": "dfaf688d",
   "metadata": {},
   "outputs": [],
   "source": []
  }
 ],
 "metadata": {
  "kernelspec": {
   "display_name": "Python 3 (ipykernel)",
   "language": "python",
   "name": "python3"
  },
  "language_info": {
   "codemirror_mode": {
    "name": "ipython",
    "version": 3
   },
   "file_extension": ".py",
   "mimetype": "text/x-python",
   "name": "python",
   "nbconvert_exporter": "python",
   "pygments_lexer": "ipython3",
   "version": "3.8.5"
  }
 },
 "nbformat": 4,
 "nbformat_minor": 5
}
