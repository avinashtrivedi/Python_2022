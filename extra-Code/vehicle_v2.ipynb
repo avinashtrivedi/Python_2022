{
 "cells": [
  {
   "cell_type": "code",
   "execution_count": 1,
   "id": "bc22f194",
   "metadata": {},
   "outputs": [],
   "source": [
    "import pandas as pd\n",
    "from sklearn.linear_model import LogisticRegression\n",
    "from sklearn.preprocessing import StandardScaler\n",
    "from sklearn.model_selection import train_test_split\n",
    "from sklearn.metrics import confusion_matrix,classification_report\n",
    "import warnings\n",
    "warnings.filterwarnings('ignore')"
   ]
  },
  {
   "cell_type": "code",
   "execution_count": 2,
   "id": "3d733fc7",
   "metadata": {},
   "outputs": [],
   "source": [
    "# store column name\n",
    "columns = ['compactness',\n",
    " 'circularity',\n",
    " 'distance_circularity',\n",
    " 'radius_ratio',\n",
    " 'pr.axis_aspect_ratio',\n",
    " 'max_length_aspect_ratio',\n",
    " 'scatter_ratio',\n",
    " 'elongatedness',\n",
    " 'pr.axis_rectangularity',\n",
    " 'max_length_rectangularity',\n",
    " 'scaled_variance_along_major_axis',\n",
    " 'scaled_variance_along_minor_axis',\n",
    " 'scaled_radius_of_gyration',\n",
    " 'skewness_about_major_axis',\n",
    " 'skewness_about_minor_axis',\n",
    " 'kurtosis_about_minor_axis',\n",
    " 'kurtosis_about_major_axis',\n",
    " 'hollows_ratio',\n",
    " 'class']\n",
    "\n",
    "# imp columns as per paper\n",
    "feature_selected_col = ['distance_circularity',\n",
    "'scatter_ratio',\n",
    "'elongatedness',\n",
    "'pr.axis_rectangularity',\n",
    "'scaled_variance_along_major_axis',\n",
    "'scaled_variance_along_minor_axis','class']"
   ]
  },
  {
   "cell_type": "code",
   "execution_count": 3,
   "id": "4ec57bf7",
   "metadata": {},
   "outputs": [],
   "source": [
    "dfAllClasses = pd.read_csv(r\"D:\\OneDrive - NITT\\Custom_Download\\car_data_fina\\4_classes.csv\")\n",
    "dfBusNoBus = pd.read_csv(r\"D:\\OneDrive - NITT\\Custom_Download\\car_data_fina\\bus vs no bus.csv\")\n",
    "df3Classes = pd.read_csv(r\"D:\\OneDrive - NITT\\Custom_Download\\car_data_fina\\three_classes_two_car_combined.csv\")\n",
    "dfTwoCars = pd.read_csv(r\"D:\\OneDrive - NITT\\Custom_Download\\car_data_fina\\two cars.csv\")\n",
    "dfVanNoVan = pd.read_csv(r\"D:\\OneDrive - NITT\\Custom_Download\\car_data_fina\\van Vs no van.csv\")"
   ]
  },
  {
   "cell_type": "code",
   "execution_count": 4,
   "id": "fe0d9f6e",
   "metadata": {},
   "outputs": [],
   "source": [
    "dfAllClasses.columns = columns\n",
    "dfBusNoBus.columns = columns\n",
    "df3Classes.columns = columns\n",
    "dfTwoCars.columns = columns\n",
    "dfVanNoVan.columns = columns"
   ]
  },
  {
   "cell_type": "code",
   "execution_count": 5,
   "id": "c86d9b50",
   "metadata": {},
   "outputs": [],
   "source": [
    "def get_result(df,FeatureSelection = False):\n",
    "    \n",
    "    df = df.copy()\n",
    "    \n",
    "    if FeatureSelection:\n",
    "        df = df[feature_selected_col]\n",
    "        \n",
    "    X = df.drop('class',axis=1)\n",
    "    y = df[['class']]\n",
    "\n",
    "    # Splitting the dataset into the Training set and Test set\n",
    "    X_train, X_test, y_train, y_test = train_test_split(X, y, test_size = 0.20, random_state = 42)\n",
    "\n",
    "    # Feature Scaling\n",
    "    sc = StandardScaler()\n",
    "    X_train = sc.fit_transform(X_train)\n",
    "    X_test = sc.transform(X_test)\n",
    "\n",
    "    # Fitting Decision Tree Classification to the Training set\n",
    "    clf = LogisticRegression(n_jobs=-1,random_state = 100)\n",
    "    clf.fit(X_train, y_train)\n",
    "\n",
    "    # Predicting the Test set results\n",
    "    y_prediction = clf.predict(X_test)\n",
    "\n",
    "    # Making the Confusion Matrix\n",
    "    print(classification_report(y_test, y_prediction))\n",
    "    report = classification_report(y_test, y_prediction,output_dict=True)\n",
    "    return report"
   ]
  },
  {
   "cell_type": "code",
   "execution_count": 6,
   "id": "ce65cf33",
   "metadata": {},
   "outputs": [],
   "source": [
    "def generate_table(AllClasses,ThreeClass,vanNoVan,busNobus,twoCar):\n",
    "    result = pd.DataFrame([],columns = ['Classification Accuracy','Precision','Recall'])\n",
    "\n",
    "    result.loc['all_classes'] = [AllClasses['accuracy'],AllClasses['weighted avg']['precision'],AllClasses['weighted avg']['recall']]\n",
    "    result.loc['class3'] = [ThreeClass['accuracy'],ThreeClass['weighted avg']['precision'],ThreeClass['weighted avg']['recall']]\n",
    "    result.loc['vanNoVan'] = [vanNoVan['accuracy'],vanNoVan['weighted avg']['precision'],vanNoVan['weighted avg']['recall']]\n",
    "    result.loc['busNobus'] = [busNobus['accuracy'],busNobus['weighted avg']['precision'],busNobus['weighted avg']['recall']]\n",
    "    result.loc['twoCar'] = [twoCar['accuracy'],twoCar['weighted avg']['precision'],twoCar['weighted avg']['recall']]\n",
    "    \n",
    "    return result"
   ]
  },
  {
   "cell_type": "markdown",
   "id": "719eac82",
   "metadata": {},
   "source": [
    "# Without feature engineering"
   ]
  },
  {
   "cell_type": "markdown",
   "id": "d5e6903f",
   "metadata": {},
   "source": [
    "# all_classes"
   ]
  },
  {
   "cell_type": "code",
   "execution_count": 7,
   "id": "34406fba",
   "metadata": {},
   "outputs": [
    {
     "name": "stdout",
     "output_type": "stream",
     "text": [
      "              precision    recall  f1-score   support\n",
      "\n",
      "           1       0.91      0.97      0.94        40\n",
      "           2       0.75      0.56      0.64        48\n",
      "           3       0.89      0.94      0.92        52\n",
      "           4       0.56      0.67      0.61        30\n",
      "\n",
      "    accuracy                           0.79       170\n",
      "   macro avg       0.78      0.79      0.78       170\n",
      "weighted avg       0.80      0.79      0.79       170\n",
      "\n"
     ]
    }
   ],
   "source": [
    "AllClasses = get_result(dfAllClasses)"
   ]
  },
  {
   "cell_type": "markdown",
   "id": "68237086",
   "metadata": {},
   "source": [
    "# 3_classes"
   ]
  },
  {
   "cell_type": "code",
   "execution_count": 8,
   "id": "53788ef7",
   "metadata": {},
   "outputs": [
    {
     "name": "stdout",
     "output_type": "stream",
     "text": [
      "              precision    recall  f1-score   support\n",
      "\n",
      "           1       0.93      0.97      0.95        40\n",
      "           2       0.92      0.94      0.93        52\n",
      "           3       0.96      0.92      0.94        78\n",
      "\n",
      "    accuracy                           0.94       170\n",
      "   macro avg       0.94      0.95      0.94       170\n",
      "weighted avg       0.94      0.94      0.94       170\n",
      "\n"
     ]
    }
   ],
   "source": [
    "ThreeClass = get_result(df3Classes)"
   ]
  },
  {
   "cell_type": "markdown",
   "id": "fac8a3c8",
   "metadata": {},
   "source": [
    "# van_no_van"
   ]
  },
  {
   "cell_type": "code",
   "execution_count": 9,
   "id": "edd6afcd",
   "metadata": {},
   "outputs": [
    {
     "name": "stdout",
     "output_type": "stream",
     "text": [
      "              precision    recall  f1-score   support\n",
      "\n",
      "           1       0.95      0.95      0.95        40\n",
      "           2       0.98      0.98      0.98       130\n",
      "\n",
      "    accuracy                           0.98       170\n",
      "   macro avg       0.97      0.97      0.97       170\n",
      "weighted avg       0.98      0.98      0.98       170\n",
      "\n"
     ]
    }
   ],
   "source": [
    "vanNoVan = get_result(dfVanNoVan)"
   ]
  },
  {
   "cell_type": "markdown",
   "id": "2e065be1",
   "metadata": {},
   "source": [
    "# bus_no_bus"
   ]
  },
  {
   "cell_type": "code",
   "execution_count": 10,
   "id": "f5a3917b",
   "metadata": {},
   "outputs": [
    {
     "name": "stdout",
     "output_type": "stream",
     "text": [
      "              precision    recall  f1-score   support\n",
      "\n",
      "           1       0.92      0.92      0.92        52\n",
      "           2       0.97      0.97      0.97       118\n",
      "\n",
      "    accuracy                           0.95       170\n",
      "   macro avg       0.94      0.94      0.94       170\n",
      "weighted avg       0.95      0.95      0.95       170\n",
      "\n"
     ]
    }
   ],
   "source": [
    "busNobus = get_result(dfBusNoBus)"
   ]
  },
  {
   "cell_type": "markdown",
   "id": "614fb1ef",
   "metadata": {},
   "source": [
    "# two_cars"
   ]
  },
  {
   "cell_type": "code",
   "execution_count": 11,
   "id": "1ca59f78",
   "metadata": {},
   "outputs": [
    {
     "name": "stdout",
     "output_type": "stream",
     "text": [
      "              precision    recall  f1-score   support\n",
      "\n",
      "           1       0.56      0.71      0.63        35\n",
      "           2       0.76      0.61      0.67        51\n",
      "\n",
      "    accuracy                           0.65        86\n",
      "   macro avg       0.66      0.66      0.65        86\n",
      "weighted avg       0.67      0.65      0.65        86\n",
      "\n"
     ]
    }
   ],
   "source": [
    "twoCar = get_result(dfTwoCars)"
   ]
  },
  {
   "cell_type": "markdown",
   "id": "ef5a04fa",
   "metadata": {},
   "source": [
    "# <font color='blue'>For Table 1: Classification results [no feature selection]</font>"
   ]
  },
  {
   "cell_type": "code",
   "execution_count": 12,
   "id": "fb92b0df",
   "metadata": {},
   "outputs": [
    {
     "data": {
      "text/html": [
       "<div>\n",
       "<style scoped>\n",
       "    .dataframe tbody tr th:only-of-type {\n",
       "        vertical-align: middle;\n",
       "    }\n",
       "\n",
       "    .dataframe tbody tr th {\n",
       "        vertical-align: top;\n",
       "    }\n",
       "\n",
       "    .dataframe thead th {\n",
       "        text-align: right;\n",
       "    }\n",
       "</style>\n",
       "<table border=\"1\" class=\"dataframe\">\n",
       "  <thead>\n",
       "    <tr style=\"text-align: right;\">\n",
       "      <th></th>\n",
       "      <th>Classification Accuracy</th>\n",
       "      <th>Precision</th>\n",
       "      <th>Recall</th>\n",
       "    </tr>\n",
       "  </thead>\n",
       "  <tbody>\n",
       "    <tr>\n",
       "      <th>all_classes</th>\n",
       "      <td>0.794118</td>\n",
       "      <td>0.795724</td>\n",
       "      <td>0.794118</td>\n",
       "    </tr>\n",
       "    <tr>\n",
       "      <th>class3</th>\n",
       "      <td>0.941176</td>\n",
       "      <td>0.941755</td>\n",
       "      <td>0.941176</td>\n",
       "    </tr>\n",
       "    <tr>\n",
       "      <th>vanNoVan</th>\n",
       "      <td>0.976471</td>\n",
       "      <td>0.976471</td>\n",
       "      <td>0.976471</td>\n",
       "    </tr>\n",
       "    <tr>\n",
       "      <th>busNobus</th>\n",
       "      <td>0.952941</td>\n",
       "      <td>0.952941</td>\n",
       "      <td>0.952941</td>\n",
       "    </tr>\n",
       "    <tr>\n",
       "      <th>twoCar</th>\n",
       "      <td>0.651163</td>\n",
       "      <td>0.674482</td>\n",
       "      <td>0.651163</td>\n",
       "    </tr>\n",
       "  </tbody>\n",
       "</table>\n",
       "</div>"
      ],
      "text/plain": [
       "             Classification Accuracy  Precision    Recall\n",
       "all_classes                 0.794118   0.795724  0.794118\n",
       "class3                      0.941176   0.941755  0.941176\n",
       "vanNoVan                    0.976471   0.976471  0.976471\n",
       "busNobus                    0.952941   0.952941  0.952941\n",
       "twoCar                      0.651163   0.674482  0.651163"
      ]
     },
     "execution_count": 12,
     "metadata": {},
     "output_type": "execute_result"
    }
   ],
   "source": [
    "generate_table(AllClasses,ThreeClass,vanNoVan,busNobus,twoCar)"
   ]
  },
  {
   "cell_type": "markdown",
   "id": "e590950a",
   "metadata": {},
   "source": [
    "# with feature engineering\n",
    "#####################################################################################################"
   ]
  },
  {
   "cell_type": "markdown",
   "id": "190d0c1d",
   "metadata": {},
   "source": [
    "# all_classes"
   ]
  },
  {
   "cell_type": "code",
   "execution_count": 13,
   "id": "605d5191",
   "metadata": {},
   "outputs": [
    {
     "name": "stdout",
     "output_type": "stream",
     "text": [
      "              precision    recall  f1-score   support\n",
      "\n",
      "           1       0.72      0.95      0.82        40\n",
      "           2       0.66      0.40      0.49        48\n",
      "           3       0.73      0.92      0.81        52\n",
      "           4       0.45      0.33      0.38        30\n",
      "\n",
      "    accuracy                           0.68       170\n",
      "   macro avg       0.64      0.65      0.63       170\n",
      "weighted avg       0.66      0.68      0.65       170\n",
      "\n"
     ]
    }
   ],
   "source": [
    "AllClasses = get_result(dfAllClasses,True)"
   ]
  },
  {
   "cell_type": "markdown",
   "id": "fe6942d0",
   "metadata": {},
   "source": [
    "# 3_classes"
   ]
  },
  {
   "cell_type": "code",
   "execution_count": 14,
   "id": "ac7f2eee",
   "metadata": {},
   "outputs": [
    {
     "name": "stdout",
     "output_type": "stream",
     "text": [
      "              precision    recall  f1-score   support\n",
      "\n",
      "           1       0.78      0.80      0.79        40\n",
      "           2       0.75      0.69      0.72        52\n",
      "           3       0.70      0.73      0.72        78\n",
      "\n",
      "    accuracy                           0.74       170\n",
      "   macro avg       0.74      0.74      0.74       170\n",
      "weighted avg       0.74      0.74      0.74       170\n",
      "\n"
     ]
    }
   ],
   "source": [
    "ThreeClass = get_result(df3Classes,True)"
   ]
  },
  {
   "cell_type": "markdown",
   "id": "e1c34d00",
   "metadata": {},
   "source": [
    "# van_no_van"
   ]
  },
  {
   "cell_type": "code",
   "execution_count": 15,
   "id": "07f59bb8",
   "metadata": {},
   "outputs": [
    {
     "name": "stdout",
     "output_type": "stream",
     "text": [
      "              precision    recall  f1-score   support\n",
      "\n",
      "           1       0.82      0.70      0.76        40\n",
      "           2       0.91      0.95      0.93       130\n",
      "\n",
      "    accuracy                           0.89       170\n",
      "   macro avg       0.87      0.83      0.84       170\n",
      "weighted avg       0.89      0.89      0.89       170\n",
      "\n"
     ]
    }
   ],
   "source": [
    "vanNoVan = get_result(dfVanNoVan,True)"
   ]
  },
  {
   "cell_type": "markdown",
   "id": "42cc305f",
   "metadata": {},
   "source": [
    "# bus_no_bus"
   ]
  },
  {
   "cell_type": "code",
   "execution_count": 16,
   "id": "52e7ac91",
   "metadata": {},
   "outputs": [
    {
     "name": "stdout",
     "output_type": "stream",
     "text": [
      "              precision    recall  f1-score   support\n",
      "\n",
      "           1       0.78      0.60      0.67        52\n",
      "           2       0.84      0.92      0.88       118\n",
      "\n",
      "    accuracy                           0.82       170\n",
      "   macro avg       0.81      0.76      0.78       170\n",
      "weighted avg       0.82      0.82      0.82       170\n",
      "\n"
     ]
    }
   ],
   "source": [
    "busNobus = get_result(dfBusNoBus,True)"
   ]
  },
  {
   "cell_type": "markdown",
   "id": "fb22d01a",
   "metadata": {},
   "source": [
    "# two_cars"
   ]
  },
  {
   "cell_type": "code",
   "execution_count": 17,
   "id": "f3ab83b2",
   "metadata": {},
   "outputs": [
    {
     "name": "stdout",
     "output_type": "stream",
     "text": [
      "              precision    recall  f1-score   support\n",
      "\n",
      "           1       0.43      0.83      0.56        35\n",
      "           2       0.67      0.24      0.35        51\n",
      "\n",
      "    accuracy                           0.48        86\n",
      "   macro avg       0.55      0.53      0.46        86\n",
      "weighted avg       0.57      0.48      0.44        86\n",
      "\n"
     ]
    }
   ],
   "source": [
    "twoCar = get_result(dfTwoCars,True)"
   ]
  },
  {
   "cell_type": "markdown",
   "id": "bc42f39f",
   "metadata": {},
   "source": [
    "# <font color='blue'>For Table 2: Classification results [with feature selection]</font>"
   ]
  },
  {
   "cell_type": "code",
   "execution_count": 18,
   "id": "0da991d1",
   "metadata": {},
   "outputs": [
    {
     "data": {
      "text/html": [
       "<div>\n",
       "<style scoped>\n",
       "    .dataframe tbody tr th:only-of-type {\n",
       "        vertical-align: middle;\n",
       "    }\n",
       "\n",
       "    .dataframe tbody tr th {\n",
       "        vertical-align: top;\n",
       "    }\n",
       "\n",
       "    .dataframe thead th {\n",
       "        text-align: right;\n",
       "    }\n",
       "</style>\n",
       "<table border=\"1\" class=\"dataframe\">\n",
       "  <thead>\n",
       "    <tr style=\"text-align: right;\">\n",
       "      <th></th>\n",
       "      <th>Classification Accuracy</th>\n",
       "      <th>Precision</th>\n",
       "      <th>Recall</th>\n",
       "    </tr>\n",
       "  </thead>\n",
       "  <tbody>\n",
       "    <tr>\n",
       "      <th>all_classes</th>\n",
       "      <td>0.676471</td>\n",
       "      <td>0.656365</td>\n",
       "      <td>0.676471</td>\n",
       "    </tr>\n",
       "    <tr>\n",
       "      <th>class3</th>\n",
       "      <td>0.735294</td>\n",
       "      <td>0.735932</td>\n",
       "      <td>0.735294</td>\n",
       "    </tr>\n",
       "    <tr>\n",
       "      <th>vanNoVan</th>\n",
       "      <td>0.894118</td>\n",
       "      <td>0.891003</td>\n",
       "      <td>0.894118</td>\n",
       "    </tr>\n",
       "    <tr>\n",
       "      <th>busNobus</th>\n",
       "      <td>0.823529</td>\n",
       "      <td>0.819050</td>\n",
       "      <td>0.823529</td>\n",
       "    </tr>\n",
       "    <tr>\n",
       "      <th>twoCar</th>\n",
       "      <td>0.476744</td>\n",
       "      <td>0.568912</td>\n",
       "      <td>0.476744</td>\n",
       "    </tr>\n",
       "  </tbody>\n",
       "</table>\n",
       "</div>"
      ],
      "text/plain": [
       "             Classification Accuracy  Precision    Recall\n",
       "all_classes                 0.676471   0.656365  0.676471\n",
       "class3                      0.735294   0.735932  0.735294\n",
       "vanNoVan                    0.894118   0.891003  0.894118\n",
       "busNobus                    0.823529   0.819050  0.823529\n",
       "twoCar                      0.476744   0.568912  0.476744"
      ]
     },
     "execution_count": 18,
     "metadata": {},
     "output_type": "execute_result"
    }
   ],
   "source": [
    "generate_table(AllClasses,ThreeClass,vanNoVan,busNobus,twoCar)"
   ]
  },
  {
   "cell_type": "code",
   "execution_count": null,
   "id": "348a8d5a",
   "metadata": {},
   "outputs": [],
   "source": []
  }
 ],
 "metadata": {
  "kernelspec": {
   "display_name": "Python 3 (ipykernel)",
   "language": "python",
   "name": "python3"
  },
  "language_info": {
   "codemirror_mode": {
    "name": "ipython",
    "version": 3
   },
   "file_extension": ".py",
   "mimetype": "text/x-python",
   "name": "python",
   "nbconvert_exporter": "python",
   "pygments_lexer": "ipython3",
   "version": "3.9.12"
  }
 },
 "nbformat": 4,
 "nbformat_minor": 5
}
