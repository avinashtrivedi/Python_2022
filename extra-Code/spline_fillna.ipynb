{
 "cells": [
  {
   "cell_type": "code",
   "execution_count": 1,
   "id": "892dd49e",
   "metadata": {},
   "outputs": [],
   "source": [
    "import pandas as pd"
   ]
  },
  {
   "cell_type": "code",
   "execution_count": 3,
   "id": "2fb9faa3",
   "metadata": {},
   "outputs": [],
   "source": [
    "df = pd.read_excel('Spline Interpolation_Python.xlsx')"
   ]
  },
  {
   "cell_type": "code",
   "execution_count": 4,
   "id": "89a2a976",
   "metadata": {},
   "outputs": [
    {
     "data": {
      "text/plain": [
       "Date & Time    0\n",
       "Open           0\n",
       "dtype: int64"
      ]
     },
     "execution_count": 4,
     "metadata": {},
     "output_type": "execute_result"
    }
   ],
   "source": [
    "df.isna().sum()"
   ]
  },
  {
   "cell_type": "code",
   "execution_count": 5,
   "id": "ef53e3d7",
   "metadata": {},
   "outputs": [
    {
     "data": {
      "text/html": [
       "<div>\n",
       "<style scoped>\n",
       "    .dataframe tbody tr th:only-of-type {\n",
       "        vertical-align: middle;\n",
       "    }\n",
       "\n",
       "    .dataframe tbody tr th {\n",
       "        vertical-align: top;\n",
       "    }\n",
       "\n",
       "    .dataframe thead th {\n",
       "        text-align: right;\n",
       "    }\n",
       "</style>\n",
       "<table border=\"1\" class=\"dataframe\">\n",
       "  <thead>\n",
       "    <tr style=\"text-align: right;\">\n",
       "      <th></th>\n",
       "      <th>Date &amp; Time</th>\n",
       "      <th>Open</th>\n",
       "    </tr>\n",
       "  </thead>\n",
       "  <tbody>\n",
       "    <tr>\n",
       "      <th>0</th>\n",
       "      <td>2021-01-03 19:00:00</td>\n",
       "      <td>3748.75</td>\n",
       "    </tr>\n",
       "    <tr>\n",
       "      <th>1</th>\n",
       "      <td>2021-01-03 20:00:00</td>\n",
       "      <td>3749.25</td>\n",
       "    </tr>\n",
       "    <tr>\n",
       "      <th>2</th>\n",
       "      <td>2021-01-03 21:00:00</td>\n",
       "      <td>3740.75</td>\n",
       "    </tr>\n",
       "    <tr>\n",
       "      <th>3</th>\n",
       "      <td>2021-01-03 22:00:00</td>\n",
       "      <td>3747.75</td>\n",
       "    </tr>\n",
       "    <tr>\n",
       "      <th>4</th>\n",
       "      <td>2021-01-03 23:00:00</td>\n",
       "      <td>3747.00</td>\n",
       "    </tr>\n",
       "    <tr>\n",
       "      <th>...</th>\n",
       "      <td>...</td>\n",
       "      <td>...</td>\n",
       "    </tr>\n",
       "    <tr>\n",
       "      <th>7613</th>\n",
       "      <td>2022-04-14 13:00:00</td>\n",
       "      <td>4416.00</td>\n",
       "    </tr>\n",
       "    <tr>\n",
       "      <th>7614</th>\n",
       "      <td>2022-04-14 14:00:00</td>\n",
       "      <td>4408.75</td>\n",
       "    </tr>\n",
       "    <tr>\n",
       "      <th>7615</th>\n",
       "      <td>2022-04-14 15:00:00</td>\n",
       "      <td>4421.50</td>\n",
       "    </tr>\n",
       "    <tr>\n",
       "      <th>7616</th>\n",
       "      <td>2022-04-14 16:00:00</td>\n",
       "      <td>4401.50</td>\n",
       "    </tr>\n",
       "    <tr>\n",
       "      <th>7617</th>\n",
       "      <td>2022-04-14 17:00:00</td>\n",
       "      <td>4387.00</td>\n",
       "    </tr>\n",
       "  </tbody>\n",
       "</table>\n",
       "<p>7618 rows × 2 columns</p>\n",
       "</div>"
      ],
      "text/plain": [
       "             Date & Time     Open\n",
       "0    2021-01-03 19:00:00  3748.75\n",
       "1    2021-01-03 20:00:00  3749.25\n",
       "2    2021-01-03 21:00:00  3740.75\n",
       "3    2021-01-03 22:00:00  3747.75\n",
       "4    2021-01-03 23:00:00  3747.00\n",
       "...                  ...      ...\n",
       "7613 2022-04-14 13:00:00  4416.00\n",
       "7614 2022-04-14 14:00:00  4408.75\n",
       "7615 2022-04-14 15:00:00  4421.50\n",
       "7616 2022-04-14 16:00:00  4401.50\n",
       "7617 2022-04-14 17:00:00  4387.00\n",
       "\n",
       "[7618 rows x 2 columns]"
      ]
     },
     "execution_count": 5,
     "metadata": {},
     "output_type": "execute_result"
    }
   ],
   "source": [
    "df"
   ]
  },
  {
   "cell_type": "code",
   "execution_count": 9,
   "id": "6398835b",
   "metadata": {},
   "outputs": [
    {
     "data": {
      "text/plain": [
       "0       3748.75\n",
       "1       3749.25\n",
       "2       3740.75\n",
       "3       3747.75\n",
       "4       3747.00\n",
       "         ...   \n",
       "7613    4416.00\n",
       "7614    4408.75\n",
       "7615    4421.50\n",
       "7616    4401.50\n",
       "7617    4387.00\n",
       "Name: Open, Length: 7618, dtype: float64"
      ]
     },
     "execution_count": 9,
     "metadata": {},
     "output_type": "execute_result"
    }
   ],
   "source": [
    "df['Open'].interpolate(method='spline', order=5)"
   ]
  },
  {
   "cell_type": "code",
   "execution_count": null,
   "id": "06d49be1",
   "metadata": {},
   "outputs": [],
   "source": []
  }
 ],
 "metadata": {
  "kernelspec": {
   "display_name": "Python 3 (ipykernel)",
   "language": "python",
   "name": "python3"
  },
  "language_info": {
   "codemirror_mode": {
    "name": "ipython",
    "version": 3
   },
   "file_extension": ".py",
   "mimetype": "text/x-python",
   "name": "python",
   "nbconvert_exporter": "python",
   "pygments_lexer": "ipython3",
   "version": "3.8.5"
  }
 },
 "nbformat": 4,
 "nbformat_minor": 5
}
