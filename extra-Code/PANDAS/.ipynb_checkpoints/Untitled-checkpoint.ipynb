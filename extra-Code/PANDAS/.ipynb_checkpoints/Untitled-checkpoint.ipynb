{
 "cells": [
  {
   "cell_type": "code",
   "execution_count": 44,
   "metadata": {},
   "outputs": [
    {
     "name": "stdout",
     "output_type": "stream",
     "text": [
      "Treasure Hunt!\n",
      "------------------\n",
      "\n",
      "\n",
      "[ 1 ] [ 2 ] [ 3 ]\n",
      "\n",
      "\n",
      "Choose chest to open: 1\n",
      "\n",
      "\n",
      "------------------------------\n",
      "The prize is... 0 !\n",
      "------------------------------\n",
      "\n",
      "\n",
      "Did you win something?\n",
      "I'm not that smart yet :)\n"
     ]
    }
   ],
   "source": [
    "print('Treasure Hunt!')\n",
    "print('------------------')\n",
    "print('\\n')\n",
    "print('[ 1 ] [ 2 ] [ 3 ]')\n",
    "print('\\n')\n",
    "\n",
    "chest_no = int(input('Choose chest to open: '))\n",
    "\n",
    "print('\\n')\n",
    "print('------------------------------')\n",
    "\n",
    "prize = {'Nothing', '0', '$$'}\n",
    "chests = dict() # {}\n",
    "for i in range(1,4):\n",
    "    chests[i] = prize.pop()\n",
    "    \n",
    "print('The prize is...', chests[chest_no],'!')\n",
    "\n",
    "print('------------------------------')\n",
    "print('\\n')\n",
    "print('Did you win something?')\n",
    "print(\"I'm not that smart yet :)\")"
   ]
  },
  {
   "cell_type": "code",
   "execution_count": 49,
   "metadata": {},
   "outputs": [
    {
     "name": "stdout",
     "output_type": "stream",
     "text": [
      "Enter a 4 bit binary number\n",
      "\n",
      "\n",
      "Binary: 0110\n"
     ]
    }
   ],
   "source": [
    "print('Enter a 4 bit binary number')\n",
    "print('\\n')\n",
    "binary = input('Binary: ')"
   ]
  },
  {
   "cell_type": "code",
   "execution_count": 50,
   "metadata": {},
   "outputs": [
    {
     "data": {
      "text/plain": [
       "'0110'"
      ]
     },
     "execution_count": 50,
     "metadata": {},
     "output_type": "execute_result"
    }
   ],
   "source": [
    "binary"
   ]
  },
  {
   "cell_type": "code",
   "execution_count": 62,
   "metadata": {},
   "outputs": [
    {
     "name": "stdout",
     "output_type": "stream",
     "text": [
      "2^           3 2^           2 2^           1 "
     ]
    }
   ],
   "source": [
    "\n",
    "\n",
    "# print(\"{}\".format(binary[i]),end=' ')\n",
    "for i in range(len(binary)-1,0,-1):\n",
    "    print(\"2^{:>12}\".format(i),end=' ')"
   ]
  },
  {
   "cell_type": "code",
   "execution_count": null,
   "metadata": {},
   "outputs": [],
   "source": []
  }
 ],
 "metadata": {
  "kernelspec": {
   "display_name": "Python 3",
   "language": "python",
   "name": "python3"
  },
  "language_info": {
   "codemirror_mode": {
    "name": "ipython",
    "version": 3
   },
   "file_extension": ".py",
   "mimetype": "text/x-python",
   "name": "python",
   "nbconvert_exporter": "python",
   "pygments_lexer": "ipython3",
   "version": "3.8.5"
  }
 },
 "nbformat": 4,
 "nbformat_minor": 4
}
