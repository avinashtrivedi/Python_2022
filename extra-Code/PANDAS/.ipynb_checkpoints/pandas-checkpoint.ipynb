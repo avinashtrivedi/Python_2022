{
 "cells": [
  {
   "cell_type": "markdown",
   "metadata": {},
   "source": [
    "# Pandas"
   ]
  },
  {
   "cell_type": "code",
   "execution_count": 79,
   "metadata": {},
   "outputs": [],
   "source": [
    "import pandas as pd\n",
    "import warnings\n",
    "warnings.filterwarnings('ignore')"
   ]
  },
  {
   "cell_type": "markdown",
   "metadata": {},
   "source": [
    "# Q.1"
   ]
  },
  {
   "cell_type": "code",
   "execution_count": 80,
   "metadata": {},
   "outputs": [],
   "source": [
    "df1_1 = pd.read_csv('17-10-2018.3880.gz',delimiter=';')\n",
    "df1_2 = pd.read_csv('18-10-2018.3880.gz',delimiter=';')"
   ]
  },
  {
   "cell_type": "code",
   "execution_count": 81,
   "metadata": {},
   "outputs": [
    {
     "data": {
      "text/html": [
       "<div>\n",
       "<style scoped>\n",
       "    .dataframe tbody tr th:only-of-type {\n",
       "        vertical-align: middle;\n",
       "    }\n",
       "\n",
       "    .dataframe tbody tr th {\n",
       "        vertical-align: top;\n",
       "    }\n",
       "\n",
       "    .dataframe thead th {\n",
       "        text-align: right;\n",
       "    }\n",
       "</style>\n",
       "<table border=\"1\" class=\"dataframe\">\n",
       "  <thead>\n",
       "    <tr style=\"text-align: right;\">\n",
       "      <th></th>\n",
       "      <th>categorieenseigne</th>\n",
       "      <th>prixproduit</th>\n",
       "      <th>identifiantproduit</th>\n",
       "      <th>ean</th>\n",
       "      <th>disponible</th>\n",
       "    </tr>\n",
       "  </thead>\n",
       "  <tbody>\n",
       "    <tr>\n",
       "      <th>0</th>\n",
       "      <td>Offres spéciales|Promotions</td>\n",
       "      <td>5.85</td>\n",
       "      <td>85061</td>\n",
       "      <td>NaN</td>\n",
       "      <td>NaN</td>\n",
       "    </tr>\n",
       "    <tr>\n",
       "      <th>1</th>\n",
       "      <td>Offres spéciales|Promotions</td>\n",
       "      <td>2.17</td>\n",
       "      <td>51605</td>\n",
       "      <td>NaN</td>\n",
       "      <td>NaN</td>\n",
       "    </tr>\n",
       "    <tr>\n",
       "      <th>2</th>\n",
       "      <td>Offres spéciales|Promotions</td>\n",
       "      <td>5.80</td>\n",
       "      <td>61289</td>\n",
       "      <td>NaN</td>\n",
       "      <td>NaN</td>\n",
       "    </tr>\n",
       "    <tr>\n",
       "      <th>3</th>\n",
       "      <td>Offres spéciales|Promotions</td>\n",
       "      <td>5.80</td>\n",
       "      <td>78386</td>\n",
       "      <td>NaN</td>\n",
       "      <td>NaN</td>\n",
       "    </tr>\n",
       "    <tr>\n",
       "      <th>4</th>\n",
       "      <td>Offres spéciales|Promotions</td>\n",
       "      <td>2.32</td>\n",
       "      <td>3700</td>\n",
       "      <td>NaN</td>\n",
       "      <td>NaN</td>\n",
       "    </tr>\n",
       "    <tr>\n",
       "      <th>...</th>\n",
       "      <td>...</td>\n",
       "      <td>...</td>\n",
       "      <td>...</td>\n",
       "      <td>...</td>\n",
       "      <td>...</td>\n",
       "    </tr>\n",
       "    <tr>\n",
       "      <th>22263</th>\n",
       "      <td>Offres spéciales|Jackpot d'automne</td>\n",
       "      <td>11.71</td>\n",
       "      <td>81289</td>\n",
       "      <td>NaN</td>\n",
       "      <td>NaN</td>\n",
       "    </tr>\n",
       "    <tr>\n",
       "      <th>22264</th>\n",
       "      <td>Offres spéciales|Jackpot d'automne</td>\n",
       "      <td>8.49</td>\n",
       "      <td>34358</td>\n",
       "      <td>NaN</td>\n",
       "      <td>NaN</td>\n",
       "    </tr>\n",
       "    <tr>\n",
       "      <th>22265</th>\n",
       "      <td>Offres spéciales|Jackpot d'automne</td>\n",
       "      <td>10.79</td>\n",
       "      <td>79731</td>\n",
       "      <td>NaN</td>\n",
       "      <td>NaN</td>\n",
       "    </tr>\n",
       "    <tr>\n",
       "      <th>22266</th>\n",
       "      <td>Offres spéciales|Jackpot d'automne</td>\n",
       "      <td>12.67</td>\n",
       "      <td>35414</td>\n",
       "      <td>NaN</td>\n",
       "      <td>NaN</td>\n",
       "    </tr>\n",
       "    <tr>\n",
       "      <th>22267</th>\n",
       "      <td>Offres spéciales|Jackpot d'automne</td>\n",
       "      <td>8.59</td>\n",
       "      <td>23999</td>\n",
       "      <td>NaN</td>\n",
       "      <td>NaN</td>\n",
       "    </tr>\n",
       "  </tbody>\n",
       "</table>\n",
       "<p>22268 rows × 5 columns</p>\n",
       "</div>"
      ],
      "text/plain": [
       "                        categorieenseigne  prixproduit  identifiantproduit  \\\n",
       "0             Offres spéciales|Promotions         5.85               85061   \n",
       "1             Offres spéciales|Promotions         2.17               51605   \n",
       "2             Offres spéciales|Promotions         5.80               61289   \n",
       "3             Offres spéciales|Promotions         5.80               78386   \n",
       "4             Offres spéciales|Promotions         2.32                3700   \n",
       "...                                   ...          ...                 ...   \n",
       "22263  Offres spéciales|Jackpot d'automne        11.71               81289   \n",
       "22264  Offres spéciales|Jackpot d'automne         8.49               34358   \n",
       "22265  Offres spéciales|Jackpot d'automne        10.79               79731   \n",
       "22266  Offres spéciales|Jackpot d'automne        12.67               35414   \n",
       "22267  Offres spéciales|Jackpot d'automne         8.59               23999   \n",
       "\n",
       "       ean  disponible  \n",
       "0      NaN         NaN  \n",
       "1      NaN         NaN  \n",
       "2      NaN         NaN  \n",
       "3      NaN         NaN  \n",
       "4      NaN         NaN  \n",
       "...    ...         ...  \n",
       "22263  NaN         NaN  \n",
       "22264  NaN         NaN  \n",
       "22265  NaN         NaN  \n",
       "22266  NaN         NaN  \n",
       "22267  NaN         NaN  \n",
       "\n",
       "[22268 rows x 5 columns]"
      ]
     },
     "execution_count": 81,
     "metadata": {},
     "output_type": "execute_result"
    }
   ],
   "source": [
    "df1_1"
   ]
  },
  {
   "cell_type": "code",
   "execution_count": 82,
   "metadata": {},
   "outputs": [
    {
     "data": {
      "text/html": [
       "<div>\n",
       "<style scoped>\n",
       "    .dataframe tbody tr th:only-of-type {\n",
       "        vertical-align: middle;\n",
       "    }\n",
       "\n",
       "    .dataframe tbody tr th {\n",
       "        vertical-align: top;\n",
       "    }\n",
       "\n",
       "    .dataframe thead th {\n",
       "        text-align: right;\n",
       "    }\n",
       "</style>\n",
       "<table border=\"1\" class=\"dataframe\">\n",
       "  <thead>\n",
       "    <tr style=\"text-align: right;\">\n",
       "      <th></th>\n",
       "      <th>categorieenseigne</th>\n",
       "      <th>prixproduit</th>\n",
       "      <th>identifiantproduit</th>\n",
       "      <th>ean</th>\n",
       "      <th>disponible</th>\n",
       "    </tr>\n",
       "  </thead>\n",
       "  <tbody>\n",
       "    <tr>\n",
       "      <th>0</th>\n",
       "      <td>Offres spéciales|Promotions</td>\n",
       "      <td>5.85</td>\n",
       "      <td>85061</td>\n",
       "      <td>NaN</td>\n",
       "      <td>1</td>\n",
       "    </tr>\n",
       "    <tr>\n",
       "      <th>1</th>\n",
       "      <td>Offres spéciales|Promotions</td>\n",
       "      <td>2.17</td>\n",
       "      <td>51605</td>\n",
       "      <td>NaN</td>\n",
       "      <td>1</td>\n",
       "    </tr>\n",
       "    <tr>\n",
       "      <th>2</th>\n",
       "      <td>Offres spéciales|Promotions</td>\n",
       "      <td>5.80</td>\n",
       "      <td>61289</td>\n",
       "      <td>NaN</td>\n",
       "      <td>1</td>\n",
       "    </tr>\n",
       "    <tr>\n",
       "      <th>3</th>\n",
       "      <td>Offres spéciales|Promotions</td>\n",
       "      <td>5.80</td>\n",
       "      <td>78386</td>\n",
       "      <td>NaN</td>\n",
       "      <td>1</td>\n",
       "    </tr>\n",
       "    <tr>\n",
       "      <th>4</th>\n",
       "      <td>Offres spéciales|Promotions</td>\n",
       "      <td>2.32</td>\n",
       "      <td>3700</td>\n",
       "      <td>NaN</td>\n",
       "      <td>1</td>\n",
       "    </tr>\n",
       "    <tr>\n",
       "      <th>...</th>\n",
       "      <td>...</td>\n",
       "      <td>...</td>\n",
       "      <td>...</td>\n",
       "      <td>...</td>\n",
       "      <td>...</td>\n",
       "    </tr>\n",
       "    <tr>\n",
       "      <th>22172</th>\n",
       "      <td>Offres spéciales|Jackpot d'automne</td>\n",
       "      <td>12.67</td>\n",
       "      <td>35414</td>\n",
       "      <td>NaN</td>\n",
       "      <td>1</td>\n",
       "    </tr>\n",
       "    <tr>\n",
       "      <th>22173</th>\n",
       "      <td>Offres spéciales|Jackpot d'automne</td>\n",
       "      <td>8.59</td>\n",
       "      <td>23999</td>\n",
       "      <td>NaN</td>\n",
       "      <td>1</td>\n",
       "    </tr>\n",
       "    <tr>\n",
       "      <th>22174</th>\n",
       "      <td>Offres spéciales|Mes bons de réduction</td>\n",
       "      <td>1.99</td>\n",
       "      <td>41022</td>\n",
       "      <td>NaN</td>\n",
       "      <td>1</td>\n",
       "    </tr>\n",
       "    <tr>\n",
       "      <th>22175</th>\n",
       "      <td>Offres spéciales|Mes bons de réduction</td>\n",
       "      <td>2.02</td>\n",
       "      <td>76886</td>\n",
       "      <td>NaN</td>\n",
       "      <td>1</td>\n",
       "    </tr>\n",
       "    <tr>\n",
       "      <th>22176</th>\n",
       "      <td>Offres spéciales|Mes bons de réduction</td>\n",
       "      <td>2.02</td>\n",
       "      <td>76883</td>\n",
       "      <td>NaN</td>\n",
       "      <td>1</td>\n",
       "    </tr>\n",
       "  </tbody>\n",
       "</table>\n",
       "<p>22177 rows × 5 columns</p>\n",
       "</div>"
      ],
      "text/plain": [
       "                            categorieenseigne  prixproduit  \\\n",
       "0                 Offres spéciales|Promotions         5.85   \n",
       "1                 Offres spéciales|Promotions         2.17   \n",
       "2                 Offres spéciales|Promotions         5.80   \n",
       "3                 Offres spéciales|Promotions         5.80   \n",
       "4                 Offres spéciales|Promotions         2.32   \n",
       "...                                       ...          ...   \n",
       "22172      Offres spéciales|Jackpot d'automne        12.67   \n",
       "22173      Offres spéciales|Jackpot d'automne         8.59   \n",
       "22174  Offres spéciales|Mes bons de réduction         1.99   \n",
       "22175  Offres spéciales|Mes bons de réduction         2.02   \n",
       "22176  Offres spéciales|Mes bons de réduction         2.02   \n",
       "\n",
       "       identifiantproduit  ean  disponible  \n",
       "0                   85061  NaN           1  \n",
       "1                   51605  NaN           1  \n",
       "2                   61289  NaN           1  \n",
       "3                   78386  NaN           1  \n",
       "4                    3700  NaN           1  \n",
       "...                   ...  ...         ...  \n",
       "22172               35414  NaN           1  \n",
       "22173               23999  NaN           1  \n",
       "22174               41022  NaN           1  \n",
       "22175               76886  NaN           1  \n",
       "22176               76883  NaN           1  \n",
       "\n",
       "[22177 rows x 5 columns]"
      ]
     },
     "execution_count": 82,
     "metadata": {},
     "output_type": "execute_result"
    }
   ],
   "source": [
    "df1_2"
   ]
  },
  {
   "cell_type": "markdown",
   "metadata": {},
   "source": [
    "# Q.2"
   ]
  },
  {
   "cell_type": "code",
   "execution_count": 83,
   "metadata": {},
   "outputs": [],
   "source": [
    "df1_1['categorieenseigne'] = df1_1['categorieenseigne'].apply(lambda x:x.replace('Promotions','promo'))\n",
    "df1_2['categorieenseigne'] = df1_2['categorieenseigne'].apply(lambda x:x.replace('Promotions','promo'))"
   ]
  },
  {
   "cell_type": "code",
   "execution_count": 84,
   "metadata": {},
   "outputs": [
    {
     "data": {
      "text/html": [
       "<div>\n",
       "<style scoped>\n",
       "    .dataframe tbody tr th:only-of-type {\n",
       "        vertical-align: middle;\n",
       "    }\n",
       "\n",
       "    .dataframe tbody tr th {\n",
       "        vertical-align: top;\n",
       "    }\n",
       "\n",
       "    .dataframe thead th {\n",
       "        text-align: right;\n",
       "    }\n",
       "</style>\n",
       "<table border=\"1\" class=\"dataframe\">\n",
       "  <thead>\n",
       "    <tr style=\"text-align: right;\">\n",
       "      <th></th>\n",
       "      <th>categorieenseigne</th>\n",
       "      <th>prixproduit</th>\n",
       "      <th>identifiantproduit</th>\n",
       "      <th>ean</th>\n",
       "      <th>disponible</th>\n",
       "    </tr>\n",
       "  </thead>\n",
       "  <tbody>\n",
       "    <tr>\n",
       "      <th>0</th>\n",
       "      <td>Offres spéciales|promo</td>\n",
       "      <td>5.85</td>\n",
       "      <td>85061</td>\n",
       "      <td>NaN</td>\n",
       "      <td>NaN</td>\n",
       "    </tr>\n",
       "    <tr>\n",
       "      <th>1</th>\n",
       "      <td>Offres spéciales|promo</td>\n",
       "      <td>2.17</td>\n",
       "      <td>51605</td>\n",
       "      <td>NaN</td>\n",
       "      <td>NaN</td>\n",
       "    </tr>\n",
       "    <tr>\n",
       "      <th>2</th>\n",
       "      <td>Offres spéciales|promo</td>\n",
       "      <td>5.80</td>\n",
       "      <td>61289</td>\n",
       "      <td>NaN</td>\n",
       "      <td>NaN</td>\n",
       "    </tr>\n",
       "    <tr>\n",
       "      <th>3</th>\n",
       "      <td>Offres spéciales|promo</td>\n",
       "      <td>5.80</td>\n",
       "      <td>78386</td>\n",
       "      <td>NaN</td>\n",
       "      <td>NaN</td>\n",
       "    </tr>\n",
       "    <tr>\n",
       "      <th>4</th>\n",
       "      <td>Offres spéciales|promo</td>\n",
       "      <td>2.32</td>\n",
       "      <td>3700</td>\n",
       "      <td>NaN</td>\n",
       "      <td>NaN</td>\n",
       "    </tr>\n",
       "    <tr>\n",
       "      <th>...</th>\n",
       "      <td>...</td>\n",
       "      <td>...</td>\n",
       "      <td>...</td>\n",
       "      <td>...</td>\n",
       "      <td>...</td>\n",
       "    </tr>\n",
       "    <tr>\n",
       "      <th>22263</th>\n",
       "      <td>Offres spéciales|Jackpot d'automne</td>\n",
       "      <td>11.71</td>\n",
       "      <td>81289</td>\n",
       "      <td>NaN</td>\n",
       "      <td>NaN</td>\n",
       "    </tr>\n",
       "    <tr>\n",
       "      <th>22264</th>\n",
       "      <td>Offres spéciales|Jackpot d'automne</td>\n",
       "      <td>8.49</td>\n",
       "      <td>34358</td>\n",
       "      <td>NaN</td>\n",
       "      <td>NaN</td>\n",
       "    </tr>\n",
       "    <tr>\n",
       "      <th>22265</th>\n",
       "      <td>Offres spéciales|Jackpot d'automne</td>\n",
       "      <td>10.79</td>\n",
       "      <td>79731</td>\n",
       "      <td>NaN</td>\n",
       "      <td>NaN</td>\n",
       "    </tr>\n",
       "    <tr>\n",
       "      <th>22266</th>\n",
       "      <td>Offres spéciales|Jackpot d'automne</td>\n",
       "      <td>12.67</td>\n",
       "      <td>35414</td>\n",
       "      <td>NaN</td>\n",
       "      <td>NaN</td>\n",
       "    </tr>\n",
       "    <tr>\n",
       "      <th>22267</th>\n",
       "      <td>Offres spéciales|Jackpot d'automne</td>\n",
       "      <td>8.59</td>\n",
       "      <td>23999</td>\n",
       "      <td>NaN</td>\n",
       "      <td>NaN</td>\n",
       "    </tr>\n",
       "  </tbody>\n",
       "</table>\n",
       "<p>22268 rows × 5 columns</p>\n",
       "</div>"
      ],
      "text/plain": [
       "                        categorieenseigne  prixproduit  identifiantproduit  \\\n",
       "0                  Offres spéciales|promo         5.85               85061   \n",
       "1                  Offres spéciales|promo         2.17               51605   \n",
       "2                  Offres spéciales|promo         5.80               61289   \n",
       "3                  Offres spéciales|promo         5.80               78386   \n",
       "4                  Offres spéciales|promo         2.32                3700   \n",
       "...                                   ...          ...                 ...   \n",
       "22263  Offres spéciales|Jackpot d'automne        11.71               81289   \n",
       "22264  Offres spéciales|Jackpot d'automne         8.49               34358   \n",
       "22265  Offres spéciales|Jackpot d'automne        10.79               79731   \n",
       "22266  Offres spéciales|Jackpot d'automne        12.67               35414   \n",
       "22267  Offres spéciales|Jackpot d'automne         8.59               23999   \n",
       "\n",
       "       ean  disponible  \n",
       "0      NaN         NaN  \n",
       "1      NaN         NaN  \n",
       "2      NaN         NaN  \n",
       "3      NaN         NaN  \n",
       "4      NaN         NaN  \n",
       "...    ...         ...  \n",
       "22263  NaN         NaN  \n",
       "22264  NaN         NaN  \n",
       "22265  NaN         NaN  \n",
       "22266  NaN         NaN  \n",
       "22267  NaN         NaN  \n",
       "\n",
       "[22268 rows x 5 columns]"
      ]
     },
     "execution_count": 84,
     "metadata": {},
     "output_type": "execute_result"
    }
   ],
   "source": [
    "df1_1"
   ]
  },
  {
   "cell_type": "markdown",
   "metadata": {},
   "source": [
    "# Q.3"
   ]
  },
  {
   "cell_type": "code",
   "execution_count": 85,
   "metadata": {},
   "outputs": [],
   "source": [
    "df2 = pd.read_csv('back_office.csv.gz')"
   ]
  },
  {
   "cell_type": "code",
   "execution_count": 86,
   "metadata": {},
   "outputs": [
    {
     "data": {
      "text/html": [
       "<div>\n",
       "<style scoped>\n",
       "    .dataframe tbody tr th:only-of-type {\n",
       "        vertical-align: middle;\n",
       "    }\n",
       "\n",
       "    .dataframe tbody tr th {\n",
       "        vertical-align: top;\n",
       "    }\n",
       "\n",
       "    .dataframe thead th {\n",
       "        text-align: right;\n",
       "    }\n",
       "</style>\n",
       "<table border=\"1\" class=\"dataframe\">\n",
       "  <thead>\n",
       "    <tr style=\"text-align: right;\">\n",
       "      <th></th>\n",
       "      <th>pe_ref_in_enseigne</th>\n",
       "      <th>pe_id</th>\n",
       "      <th>p_id_cat</th>\n",
       "    </tr>\n",
       "  </thead>\n",
       "  <tbody>\n",
       "    <tr>\n",
       "      <th>0</th>\n",
       "      <td>35143</td>\n",
       "      <td>400479</td>\n",
       "      <td>1481E</td>\n",
       "    </tr>\n",
       "    <tr>\n",
       "      <th>1</th>\n",
       "      <td>7428</td>\n",
       "      <td>413257</td>\n",
       "      <td>116D</td>\n",
       "    </tr>\n",
       "    <tr>\n",
       "      <th>2</th>\n",
       "      <td>19197</td>\n",
       "      <td>413258</td>\n",
       "      <td>1318E</td>\n",
       "    </tr>\n",
       "    <tr>\n",
       "      <th>3</th>\n",
       "      <td>6420</td>\n",
       "      <td>413259</td>\n",
       "      <td>2003E</td>\n",
       "    </tr>\n",
       "    <tr>\n",
       "      <th>4</th>\n",
       "      <td>24668</td>\n",
       "      <td>413260</td>\n",
       "      <td>253D</td>\n",
       "    </tr>\n",
       "    <tr>\n",
       "      <th>...</th>\n",
       "      <td>...</td>\n",
       "      <td>...</td>\n",
       "      <td>...</td>\n",
       "    </tr>\n",
       "    <tr>\n",
       "      <th>63066</th>\n",
       "      <td>91468</td>\n",
       "      <td>2435287</td>\n",
       "      <td>1879E</td>\n",
       "    </tr>\n",
       "    <tr>\n",
       "      <th>63067</th>\n",
       "      <td>92921</td>\n",
       "      <td>2435302</td>\n",
       "      <td>3371F</td>\n",
       "    </tr>\n",
       "    <tr>\n",
       "      <th>63068</th>\n",
       "      <td>93476</td>\n",
       "      <td>2435309</td>\n",
       "      <td>3371F</td>\n",
       "    </tr>\n",
       "    <tr>\n",
       "      <th>63069</th>\n",
       "      <td>93481</td>\n",
       "      <td>2435311</td>\n",
       "      <td>3371F</td>\n",
       "    </tr>\n",
       "    <tr>\n",
       "      <th>63070</th>\n",
       "      <td>93491</td>\n",
       "      <td>2435312</td>\n",
       "      <td>3371F</td>\n",
       "    </tr>\n",
       "  </tbody>\n",
       "</table>\n",
       "<p>63071 rows × 3 columns</p>\n",
       "</div>"
      ],
      "text/plain": [
       "      pe_ref_in_enseigne    pe_id p_id_cat\n",
       "0                  35143   400479    1481E\n",
       "1                   7428   413257     116D\n",
       "2                  19197   413258    1318E\n",
       "3                   6420   413259    2003E\n",
       "4                  24668   413260     253D\n",
       "...                  ...      ...      ...\n",
       "63066              91468  2435287    1879E\n",
       "63067              92921  2435302    3371F\n",
       "63068              93476  2435309    3371F\n",
       "63069              93481  2435311    3371F\n",
       "63070              93491  2435312    3371F\n",
       "\n",
       "[63071 rows x 3 columns]"
      ]
     },
     "execution_count": 86,
     "metadata": {},
     "output_type": "execute_result"
    }
   ],
   "source": [
    "df2"
   ]
  },
  {
   "cell_type": "markdown",
   "metadata": {},
   "source": [
    "# Q 4."
   ]
  },
  {
   "cell_type": "code",
   "execution_count": 87,
   "metadata": {},
   "outputs": [],
   "source": [
    "df2['pe_ref_in_enseigne'] = df2['pe_ref_in_enseigne'].apply(lambda x: x.replace('-',''))\n",
    "df2['pe_ref_in_enseigne'] = df2['pe_ref_in_enseigne'].astype('int')\n",
    "df_merged_1 = df1_1.merge(df2, left_on='prixproduit', right_on='pe_ref_in_enseigne')\n",
    "df_merged_2 = df1_2.merge(df2, left_on='prixproduit', right_on='pe_ref_in_enseigne')"
   ]
  },
  {
   "cell_type": "code",
   "execution_count": 88,
   "metadata": {},
   "outputs": [
    {
     "data": {
      "text/html": [
       "<div>\n",
       "<style scoped>\n",
       "    .dataframe tbody tr th:only-of-type {\n",
       "        vertical-align: middle;\n",
       "    }\n",
       "\n",
       "    .dataframe tbody tr th {\n",
       "        vertical-align: top;\n",
       "    }\n",
       "\n",
       "    .dataframe thead th {\n",
       "        text-align: right;\n",
       "    }\n",
       "</style>\n",
       "<table border=\"1\" class=\"dataframe\">\n",
       "  <thead>\n",
       "    <tr style=\"text-align: right;\">\n",
       "      <th></th>\n",
       "      <th>categorieenseigne</th>\n",
       "      <th>prixproduit</th>\n",
       "      <th>identifiantproduit</th>\n",
       "      <th>ean</th>\n",
       "      <th>disponible</th>\n",
       "      <th>pe_ref_in_enseigne</th>\n",
       "      <th>pe_id</th>\n",
       "      <th>p_id_cat</th>\n",
       "    </tr>\n",
       "  </thead>\n",
       "  <tbody>\n",
       "    <tr>\n",
       "      <th>0</th>\n",
       "      <td>Accueil|Bio|Epicerie sucrée Bio|Boissons du ma...</td>\n",
       "      <td>2.0</td>\n",
       "      <td>19356</td>\n",
       "      <td>NaN</td>\n",
       "      <td>NaN</td>\n",
       "      <td>2</td>\n",
       "      <td>462370</td>\n",
       "      <td>147E</td>\n",
       "    </tr>\n",
       "    <tr>\n",
       "      <th>1</th>\n",
       "      <td>Accueil|Bio|Epicerie sucrée Bio</td>\n",
       "      <td>2.0</td>\n",
       "      <td>19356</td>\n",
       "      <td>NaN</td>\n",
       "      <td>NaN</td>\n",
       "      <td>2</td>\n",
       "      <td>462370</td>\n",
       "      <td>147E</td>\n",
       "    </tr>\n",
       "    <tr>\n",
       "      <th>2</th>\n",
       "      <td>Accueil|Bazar Textile|Rentrée des classes|Cahi...</td>\n",
       "      <td>2.0</td>\n",
       "      <td>30830</td>\n",
       "      <td>NaN</td>\n",
       "      <td>NaN</td>\n",
       "      <td>2</td>\n",
       "      <td>462370</td>\n",
       "      <td>147E</td>\n",
       "    </tr>\n",
       "    <tr>\n",
       "      <th>3</th>\n",
       "      <td>Accueil|Bazar Textile|Rentrée des classes</td>\n",
       "      <td>2.0</td>\n",
       "      <td>30830</td>\n",
       "      <td>NaN</td>\n",
       "      <td>NaN</td>\n",
       "      <td>2</td>\n",
       "      <td>462370</td>\n",
       "      <td>147E</td>\n",
       "    </tr>\n",
       "    <tr>\n",
       "      <th>4</th>\n",
       "      <td>Accueil|Bazar Textile|Cuisine et Vaisselle|Vai...</td>\n",
       "      <td>2.0</td>\n",
       "      <td>19489</td>\n",
       "      <td>NaN</td>\n",
       "      <td>NaN</td>\n",
       "      <td>2</td>\n",
       "      <td>462370</td>\n",
       "      <td>147E</td>\n",
       "    </tr>\n",
       "    <tr>\n",
       "      <th>...</th>\n",
       "      <td>...</td>\n",
       "      <td>...</td>\n",
       "      <td>...</td>\n",
       "      <td>...</td>\n",
       "      <td>...</td>\n",
       "      <td>...</td>\n",
       "      <td>...</td>\n",
       "      <td>...</td>\n",
       "    </tr>\n",
       "    <tr>\n",
       "      <th>245</th>\n",
       "      <td>Accueil|Boissons|Bières, Alcools et Apéritifs|...</td>\n",
       "      <td>15.0</td>\n",
       "      <td>81382</td>\n",
       "      <td>NaN</td>\n",
       "      <td>NaN</td>\n",
       "      <td>15</td>\n",
       "      <td>445241</td>\n",
       "      <td>138D</td>\n",
       "    </tr>\n",
       "    <tr>\n",
       "      <th>246</th>\n",
       "      <td>Accueil|Boissons|Bières, Alcools et Apéritifs</td>\n",
       "      <td>15.0</td>\n",
       "      <td>81382</td>\n",
       "      <td>NaN</td>\n",
       "      <td>NaN</td>\n",
       "      <td>15</td>\n",
       "      <td>445241</td>\n",
       "      <td>138D</td>\n",
       "    </tr>\n",
       "    <tr>\n",
       "      <th>247</th>\n",
       "      <td>Offres spéciales|Mes bons de réduction</td>\n",
       "      <td>15.0</td>\n",
       "      <td>81382</td>\n",
       "      <td>NaN</td>\n",
       "      <td>NaN</td>\n",
       "      <td>15</td>\n",
       "      <td>445241</td>\n",
       "      <td>138D</td>\n",
       "    </tr>\n",
       "    <tr>\n",
       "      <th>248</th>\n",
       "      <td>Accueil|Boissons|Bières, Alcools et Apéritifs|...</td>\n",
       "      <td>29.0</td>\n",
       "      <td>71224</td>\n",
       "      <td>NaN</td>\n",
       "      <td>NaN</td>\n",
       "      <td>29</td>\n",
       "      <td>431917</td>\n",
       "      <td>133D</td>\n",
       "    </tr>\n",
       "    <tr>\n",
       "      <th>249</th>\n",
       "      <td>Accueil|Boissons|Bières, Alcools et Apéritifs</td>\n",
       "      <td>29.0</td>\n",
       "      <td>71224</td>\n",
       "      <td>NaN</td>\n",
       "      <td>NaN</td>\n",
       "      <td>29</td>\n",
       "      <td>431917</td>\n",
       "      <td>133D</td>\n",
       "    </tr>\n",
       "  </tbody>\n",
       "</table>\n",
       "<p>250 rows × 8 columns</p>\n",
       "</div>"
      ],
      "text/plain": [
       "                                     categorieenseigne  prixproduit  \\\n",
       "0    Accueil|Bio|Epicerie sucrée Bio|Boissons du ma...          2.0   \n",
       "1                      Accueil|Bio|Epicerie sucrée Bio          2.0   \n",
       "2    Accueil|Bazar Textile|Rentrée des classes|Cahi...          2.0   \n",
       "3            Accueil|Bazar Textile|Rentrée des classes          2.0   \n",
       "4    Accueil|Bazar Textile|Cuisine et Vaisselle|Vai...          2.0   \n",
       "..                                                 ...          ...   \n",
       "245  Accueil|Boissons|Bières, Alcools et Apéritifs|...         15.0   \n",
       "246      Accueil|Boissons|Bières, Alcools et Apéritifs         15.0   \n",
       "247             Offres spéciales|Mes bons de réduction         15.0   \n",
       "248  Accueil|Boissons|Bières, Alcools et Apéritifs|...         29.0   \n",
       "249      Accueil|Boissons|Bières, Alcools et Apéritifs         29.0   \n",
       "\n",
       "     identifiantproduit  ean  disponible  pe_ref_in_enseigne   pe_id p_id_cat  \n",
       "0                 19356  NaN         NaN                   2  462370     147E  \n",
       "1                 19356  NaN         NaN                   2  462370     147E  \n",
       "2                 30830  NaN         NaN                   2  462370     147E  \n",
       "3                 30830  NaN         NaN                   2  462370     147E  \n",
       "4                 19489  NaN         NaN                   2  462370     147E  \n",
       "..                  ...  ...         ...                 ...     ...      ...  \n",
       "245               81382  NaN         NaN                  15  445241     138D  \n",
       "246               81382  NaN         NaN                  15  445241     138D  \n",
       "247               81382  NaN         NaN                  15  445241     138D  \n",
       "248               71224  NaN         NaN                  29  431917     133D  \n",
       "249               71224  NaN         NaN                  29  431917     133D  \n",
       "\n",
       "[250 rows x 8 columns]"
      ]
     },
     "execution_count": 88,
     "metadata": {},
     "output_type": "execute_result"
    }
   ],
   "source": [
    "df_merged_1"
   ]
  },
  {
   "cell_type": "code",
   "execution_count": 89,
   "metadata": {},
   "outputs": [
    {
     "data": {
      "text/html": [
       "<div>\n",
       "<style scoped>\n",
       "    .dataframe tbody tr th:only-of-type {\n",
       "        vertical-align: middle;\n",
       "    }\n",
       "\n",
       "    .dataframe tbody tr th {\n",
       "        vertical-align: top;\n",
       "    }\n",
       "\n",
       "    .dataframe thead th {\n",
       "        text-align: right;\n",
       "    }\n",
       "</style>\n",
       "<table border=\"1\" class=\"dataframe\">\n",
       "  <thead>\n",
       "    <tr style=\"text-align: right;\">\n",
       "      <th></th>\n",
       "      <th>categorieenseigne</th>\n",
       "      <th>prixproduit</th>\n",
       "      <th>identifiantproduit</th>\n",
       "      <th>ean</th>\n",
       "      <th>disponible</th>\n",
       "      <th>pe_ref_in_enseigne</th>\n",
       "      <th>pe_id</th>\n",
       "      <th>p_id_cat</th>\n",
       "    </tr>\n",
       "  </thead>\n",
       "  <tbody>\n",
       "    <tr>\n",
       "      <th>0</th>\n",
       "      <td>Accueil|Bio|Epicerie salée Bio|Conserves et pl...</td>\n",
       "      <td>1.0</td>\n",
       "      <td>31166</td>\n",
       "      <td>NaN</td>\n",
       "      <td>1</td>\n",
       "      <td>1</td>\n",
       "      <td>811577</td>\n",
       "      <td>131D</td>\n",
       "    </tr>\n",
       "    <tr>\n",
       "      <th>1</th>\n",
       "      <td>Accueil|Bio|Epicerie salée Bio|Pates, riz et f...</td>\n",
       "      <td>1.0</td>\n",
       "      <td>33882</td>\n",
       "      <td>NaN</td>\n",
       "      <td>1</td>\n",
       "      <td>1</td>\n",
       "      <td>811577</td>\n",
       "      <td>131D</td>\n",
       "    </tr>\n",
       "    <tr>\n",
       "      <th>2</th>\n",
       "      <td>Accueil|Bio|Epicerie salée Bio</td>\n",
       "      <td>1.0</td>\n",
       "      <td>33882</td>\n",
       "      <td>NaN</td>\n",
       "      <td>1</td>\n",
       "      <td>1</td>\n",
       "      <td>811577</td>\n",
       "      <td>131D</td>\n",
       "    </tr>\n",
       "    <tr>\n",
       "      <th>3</th>\n",
       "      <td>Accueil|Bio|Epicerie salée Bio</td>\n",
       "      <td>1.0</td>\n",
       "      <td>31166</td>\n",
       "      <td>NaN</td>\n",
       "      <td>1</td>\n",
       "      <td>1</td>\n",
       "      <td>811577</td>\n",
       "      <td>131D</td>\n",
       "    </tr>\n",
       "    <tr>\n",
       "      <th>4</th>\n",
       "      <td>Accueil|Bazar Textile|Cuisine et Vaisselle|Bou...</td>\n",
       "      <td>1.0</td>\n",
       "      <td>6806</td>\n",
       "      <td>NaN</td>\n",
       "      <td>1</td>\n",
       "      <td>1</td>\n",
       "      <td>811577</td>\n",
       "      <td>131D</td>\n",
       "    </tr>\n",
       "    <tr>\n",
       "      <th>...</th>\n",
       "      <td>...</td>\n",
       "      <td>...</td>\n",
       "      <td>...</td>\n",
       "      <td>...</td>\n",
       "      <td>...</td>\n",
       "      <td>...</td>\n",
       "      <td>...</td>\n",
       "      <td>...</td>\n",
       "    </tr>\n",
       "    <tr>\n",
       "      <th>245</th>\n",
       "      <td>Accueil|Bio|Bébé Bio|Laits infantiles Bio</td>\n",
       "      <td>18.0</td>\n",
       "      <td>6998</td>\n",
       "      <td>NaN</td>\n",
       "      <td>1</td>\n",
       "      <td>18</td>\n",
       "      <td>470868</td>\n",
       "      <td>132D</td>\n",
       "    </tr>\n",
       "    <tr>\n",
       "      <th>246</th>\n",
       "      <td>Accueil|Bio|Bébé Bio</td>\n",
       "      <td>18.0</td>\n",
       "      <td>6998</td>\n",
       "      <td>NaN</td>\n",
       "      <td>1</td>\n",
       "      <td>18</td>\n",
       "      <td>470868</td>\n",
       "      <td>132D</td>\n",
       "    </tr>\n",
       "    <tr>\n",
       "      <th>247</th>\n",
       "      <td>Accueil|Boissons|Bières, Alcools et Apéritifs|...</td>\n",
       "      <td>15.0</td>\n",
       "      <td>81382</td>\n",
       "      <td>NaN</td>\n",
       "      <td>1</td>\n",
       "      <td>15</td>\n",
       "      <td>445241</td>\n",
       "      <td>138D</td>\n",
       "    </tr>\n",
       "    <tr>\n",
       "      <th>248</th>\n",
       "      <td>Accueil|Boissons|Bières, Alcools et Apéritifs</td>\n",
       "      <td>15.0</td>\n",
       "      <td>81382</td>\n",
       "      <td>NaN</td>\n",
       "      <td>1</td>\n",
       "      <td>15</td>\n",
       "      <td>445241</td>\n",
       "      <td>138D</td>\n",
       "    </tr>\n",
       "    <tr>\n",
       "      <th>249</th>\n",
       "      <td>Offres spéciales|Mes bons de réduction</td>\n",
       "      <td>15.0</td>\n",
       "      <td>81382</td>\n",
       "      <td>NaN</td>\n",
       "      <td>1</td>\n",
       "      <td>15</td>\n",
       "      <td>445241</td>\n",
       "      <td>138D</td>\n",
       "    </tr>\n",
       "  </tbody>\n",
       "</table>\n",
       "<p>250 rows × 8 columns</p>\n",
       "</div>"
      ],
      "text/plain": [
       "                                     categorieenseigne  prixproduit  \\\n",
       "0    Accueil|Bio|Epicerie salée Bio|Conserves et pl...          1.0   \n",
       "1    Accueil|Bio|Epicerie salée Bio|Pates, riz et f...          1.0   \n",
       "2                       Accueil|Bio|Epicerie salée Bio          1.0   \n",
       "3                       Accueil|Bio|Epicerie salée Bio          1.0   \n",
       "4    Accueil|Bazar Textile|Cuisine et Vaisselle|Bou...          1.0   \n",
       "..                                                 ...          ...   \n",
       "245          Accueil|Bio|Bébé Bio|Laits infantiles Bio         18.0   \n",
       "246                               Accueil|Bio|Bébé Bio         18.0   \n",
       "247  Accueil|Boissons|Bières, Alcools et Apéritifs|...         15.0   \n",
       "248      Accueil|Boissons|Bières, Alcools et Apéritifs         15.0   \n",
       "249             Offres spéciales|Mes bons de réduction         15.0   \n",
       "\n",
       "     identifiantproduit  ean  disponible  pe_ref_in_enseigne   pe_id p_id_cat  \n",
       "0                 31166  NaN           1                   1  811577     131D  \n",
       "1                 33882  NaN           1                   1  811577     131D  \n",
       "2                 33882  NaN           1                   1  811577     131D  \n",
       "3                 31166  NaN           1                   1  811577     131D  \n",
       "4                  6806  NaN           1                   1  811577     131D  \n",
       "..                  ...  ...         ...                 ...     ...      ...  \n",
       "245                6998  NaN           1                  18  470868     132D  \n",
       "246                6998  NaN           1                  18  470868     132D  \n",
       "247               81382  NaN           1                  15  445241     138D  \n",
       "248               81382  NaN           1                  15  445241     138D  \n",
       "249               81382  NaN           1                  15  445241     138D  \n",
       "\n",
       "[250 rows x 8 columns]"
      ]
     },
     "execution_count": 89,
     "metadata": {},
     "output_type": "execute_result"
    }
   ],
   "source": [
    "df_merged_2"
   ]
  },
  {
   "cell_type": "markdown",
   "metadata": {},
   "source": [
    "# Section-2"
   ]
  },
  {
   "cell_type": "code",
   "execution_count": null,
   "metadata": {},
   "outputs": [],
   "source": [
    "# part1"
   ]
  },
  {
   "cell_type": "code",
   "execution_count": 94,
   "metadata": {},
   "outputs": [],
   "source": [
    "def average_price(df):\n",
    "    return dict(df.groupby('pe_id')['prixproduit'].mean())"
   ]
  },
  {
   "cell_type": "code",
   "execution_count": 95,
   "metadata": {},
   "outputs": [
    {
     "data": {
      "text/plain": [
       "{431894: 4.0,\n",
       " 431903: 13.0,\n",
       " 431917: 29.0,\n",
       " 431934: 22.0,\n",
       " 434776: 12.0,\n",
       " 435083: 10.0,\n",
       " 435179: 6.0,\n",
       " 436722: 8.0,\n",
       " 445241: 15.0,\n",
       " 445416: 3.0,\n",
       " 462370: 2.0,\n",
       " 462441: 5.0,\n",
       " 470868: 18.0,\n",
       " 811577: 1.0}"
      ]
     },
     "execution_count": 95,
     "metadata": {},
     "output_type": "execute_result"
    }
   ],
   "source": [
    "average_price(df_merged_1)"
   ]
  },
  {
   "cell_type": "code",
   "execution_count": 96,
   "metadata": {},
   "outputs": [
    {
     "data": {
      "text/plain": [
       "{431894: 4.0,\n",
       " 431903: 13.0,\n",
       " 431917: 29.0,\n",
       " 431934: 22.0,\n",
       " 434776: 12.0,\n",
       " 435083: 10.0,\n",
       " 435179: 6.0,\n",
       " 436722: 8.0,\n",
       " 445241: 15.0,\n",
       " 445416: 3.0,\n",
       " 462370: 2.0,\n",
       " 462441: 5.0,\n",
       " 470868: 18.0,\n",
       " 811577: 1.0}"
      ]
     },
     "execution_count": 96,
     "metadata": {},
     "output_type": "execute_result"
    }
   ],
   "source": [
    "average_price(df_merged_2)"
   ]
  },
  {
   "cell_type": "code",
   "execution_count": 98,
   "metadata": {},
   "outputs": [],
   "source": [
    "# part2\n",
    "def anotherfunc():\n",
    "    d1 = dict(df_merged_1.groupby('p_id_cat')['pe_id'].nunique())\n",
    "    d2 = dict(df_merged_2.groupby('p_id_cat')['pe_id'].nunique())\n",
    "    return d1,d2"
   ]
  },
  {
   "cell_type": "code",
   "execution_count": 99,
   "metadata": {},
   "outputs": [
    {
     "data": {
      "text/plain": [
       "({'129D': 1,\n",
       "  '130D': 1,\n",
       "  '131D': 4,\n",
       "  '132D': 1,\n",
       "  '133D': 1,\n",
       "  '136D': 1,\n",
       "  '138D': 1,\n",
       "  '145E': 1,\n",
       "  '147E': 1,\n",
       "  '148E': 1},\n",
       " {'129D': 1,\n",
       "  '130D': 1,\n",
       "  '131D': 4,\n",
       "  '132D': 1,\n",
       "  '133D': 1,\n",
       "  '136D': 1,\n",
       "  '138D': 1,\n",
       "  '145E': 1,\n",
       "  '147E': 1,\n",
       "  '148E': 1})"
      ]
     },
     "execution_count": 99,
     "metadata": {},
     "output_type": "execute_result"
    }
   ],
   "source": [
    "anotherfunc()"
   ]
  },
  {
   "cell_type": "markdown",
   "metadata": {},
   "source": [
    "# Advance Python"
   ]
  },
  {
   "cell_type": "code",
   "execution_count": 29,
   "metadata": {},
   "outputs": [],
   "source": [
    "import random"
   ]
  },
  {
   "cell_type": "markdown",
   "metadata": {},
   "source": [
    "# Q.1"
   ]
  },
  {
   "cell_type": "code",
   "execution_count": 117,
   "metadata": {},
   "outputs": [],
   "source": [
    "def random_gen():\n",
    "    while True:\n",
    "        num = random.randint(10,20)\n",
    "        yield num\n",
    "        if num==15:\n",
    "            break"
   ]
  },
  {
   "cell_type": "code",
   "execution_count": 118,
   "metadata": {},
   "outputs": [],
   "source": [
    "x = random_gen()"
   ]
  },
  {
   "cell_type": "code",
   "execution_count": 119,
   "metadata": {},
   "outputs": [
    {
     "data": {
      "text/plain": [
       "11"
      ]
     },
     "execution_count": 119,
     "metadata": {},
     "output_type": "execute_result"
    }
   ],
   "source": [
    "next(x)"
   ]
  },
  {
   "cell_type": "code",
   "execution_count": 120,
   "metadata": {},
   "outputs": [
    {
     "data": {
      "text/plain": [
       "10"
      ]
     },
     "execution_count": 120,
     "metadata": {},
     "output_type": "execute_result"
    }
   ],
   "source": [
    "next(x)"
   ]
  },
  {
   "cell_type": "code",
   "execution_count": 121,
   "metadata": {},
   "outputs": [
    {
     "data": {
      "text/plain": [
       "13"
      ]
     },
     "execution_count": 121,
     "metadata": {},
     "output_type": "execute_result"
    }
   ],
   "source": [
    "next(x)"
   ]
  },
  {
   "cell_type": "code",
   "execution_count": 122,
   "metadata": {},
   "outputs": [
    {
     "data": {
      "text/plain": [
       "19"
      ]
     },
     "execution_count": 122,
     "metadata": {},
     "output_type": "execute_result"
    }
   ],
   "source": [
    "next(x)"
   ]
  },
  {
   "cell_type": "code",
   "execution_count": 123,
   "metadata": {},
   "outputs": [
    {
     "data": {
      "text/plain": [
       "12"
      ]
     },
     "execution_count": 123,
     "metadata": {},
     "output_type": "execute_result"
    }
   ],
   "source": [
    "next(x)"
   ]
  },
  {
   "cell_type": "code",
   "execution_count": 124,
   "metadata": {},
   "outputs": [
    {
     "data": {
      "text/plain": [
       "11"
      ]
     },
     "execution_count": 124,
     "metadata": {},
     "output_type": "execute_result"
    }
   ],
   "source": [
    "next(x)"
   ]
  },
  {
   "cell_type": "code",
   "execution_count": 125,
   "metadata": {},
   "outputs": [
    {
     "data": {
      "text/plain": [
       "20"
      ]
     },
     "execution_count": 125,
     "metadata": {},
     "output_type": "execute_result"
    }
   ],
   "source": [
    "next(x)"
   ]
  },
  {
   "cell_type": "code",
   "execution_count": 126,
   "metadata": {},
   "outputs": [
    {
     "data": {
      "text/plain": [
       "16"
      ]
     },
     "execution_count": 126,
     "metadata": {},
     "output_type": "execute_result"
    }
   ],
   "source": [
    "next(x)"
   ]
  },
  {
   "cell_type": "code",
   "execution_count": 127,
   "metadata": {},
   "outputs": [
    {
     "data": {
      "text/plain": [
       "17"
      ]
     },
     "execution_count": 127,
     "metadata": {},
     "output_type": "execute_result"
    }
   ],
   "source": [
    "next(x)"
   ]
  },
  {
   "cell_type": "code",
   "execution_count": 128,
   "metadata": {},
   "outputs": [
    {
     "data": {
      "text/plain": [
       "20"
      ]
     },
     "execution_count": 128,
     "metadata": {},
     "output_type": "execute_result"
    }
   ],
   "source": [
    "next(x)"
   ]
  },
  {
   "cell_type": "code",
   "execution_count": 129,
   "metadata": {},
   "outputs": [
    {
     "data": {
      "text/plain": [
       "16"
      ]
     },
     "execution_count": 129,
     "metadata": {},
     "output_type": "execute_result"
    }
   ],
   "source": [
    "next(x)"
   ]
  },
  {
   "cell_type": "code",
   "execution_count": 130,
   "metadata": {},
   "outputs": [
    {
     "data": {
      "text/plain": [
       "20"
      ]
     },
     "execution_count": 130,
     "metadata": {},
     "output_type": "execute_result"
    }
   ],
   "source": [
    "next(x)"
   ]
  },
  {
   "cell_type": "code",
   "execution_count": 131,
   "metadata": {},
   "outputs": [
    {
     "data": {
      "text/plain": [
       "16"
      ]
     },
     "execution_count": 131,
     "metadata": {},
     "output_type": "execute_result"
    }
   ],
   "source": [
    "next(x)"
   ]
  },
  {
   "cell_type": "markdown",
   "metadata": {},
   "source": [
    "# Q.4"
   ]
  },
  {
   "cell_type": "code",
   "execution_count": 172,
   "metadata": {},
   "outputs": [],
   "source": [
    "# exercise 4\n",
    "class CacheDecorator:\n",
    "    \"\"\"Saves the results of a function according to its parameters\"\"\"\n",
    "    def __init__(self):\n",
    "        self.cache = {}\n",
    "\n",
    "    def __call__(self, func):\n",
    "        def _wrap(*a, **kw):\n",
    "            if a[0] not in self.cache:\n",
    "                self.cache[a[0]] = func(*a, **kw)\n",
    "            return self.cache[a[0]]\n",
    "\n",
    "        return _wrap"
   ]
  },
  {
   "cell_type": "code",
   "execution_count": 173,
   "metadata": {},
   "outputs": [],
   "source": [
    "# test 1\n",
    "obj = CacheDecorator()"
   ]
  },
  {
   "cell_type": "code",
   "execution_count": 174,
   "metadata": {},
   "outputs": [],
   "source": [
    "# Test 2\n",
    "assert obj.cache == {} , 'Error'"
   ]
  },
  {
   "cell_type": "code",
   "execution_count": 175,
   "metadata": {},
   "outputs": [
    {
     "ename": "TypeError",
     "evalue": "__call__() missing 1 required positional argument: 'func'",
     "output_type": "error",
     "traceback": [
      "\u001b[1;31m---------------------------------------------------------------------------\u001b[0m",
      "\u001b[1;31mTypeError\u001b[0m                                 Traceback (most recent call last)",
      "\u001b[1;32m<ipython-input-175-8fafb70f989c>\u001b[0m in \u001b[0;36m<module>\u001b[1;34m\u001b[0m\n\u001b[0;32m      1\u001b[0m \u001b[1;31m# test 3\u001b[0m\u001b[1;33m\u001b[0m\u001b[1;33m\u001b[0m\u001b[1;33m\u001b[0m\u001b[0m\n\u001b[1;32m----> 2\u001b[1;33m \u001b[1;32massert\u001b[0m \u001b[0mobj\u001b[0m\u001b[1;33m.\u001b[0m\u001b[0m__call__\u001b[0m\u001b[1;33m(\u001b[0m\u001b[1;33m)\u001b[0m\u001b[1;33m\u001b[0m\u001b[1;33m\u001b[0m\u001b[0m\n\u001b[0m",
      "\u001b[1;31mTypeError\u001b[0m: __call__() missing 1 required positional argument: 'func'"
     ]
    }
   ],
   "source": [
    "# test 3\n",
    "assert obj.__call__()"
   ]
  },
  {
   "cell_type": "code",
   "execution_count": 176,
   "metadata": {},
   "outputs": [],
   "source": [
    "# test 4\n",
    "assert  isinstance(obj.cache,dict), 'Error'"
   ]
  },
  {
   "cell_type": "code",
   "execution_count": null,
   "metadata": {},
   "outputs": [],
   "source": []
  },
  {
   "cell_type": "code",
   "execution_count": 15,
   "metadata": {},
   "outputs": [],
   "source": [
    "def smart_divide(func):\n",
    "    print('hello')\n",
    "    def inner(a, b):\n",
    "        print(\"I am going to divide\", a, \"and\", b)\n",
    "        if b == 0:\n",
    "            print(\"Whoops! cannot divide\")\n",
    "            return\n",
    "\n",
    "        return func(a, b)\n",
    "    return inner\n",
    "\n"
   ]
  },
  {
   "cell_type": "code",
   "execution_count": 19,
   "metadata": {},
   "outputs": [
    {
     "name": "stdout",
     "output_type": "stream",
     "text": [
      "hello\n"
     ]
    }
   ],
   "source": [
    "@smart_divide\n",
    "def divide(a, b):\n",
    "    print(a/b)"
   ]
  },
  {
   "cell_type": "code",
   "execution_count": 14,
   "metadata": {},
   "outputs": [
    {
     "name": "stdout",
     "output_type": "stream",
     "text": [
      "I am going to divide 4 and 2\n",
      "2.0\n"
     ]
    }
   ],
   "source": [
    "divide(4,2)"
   ]
  },
  {
   "cell_type": "code",
   "execution_count": 63,
   "metadata": {},
   "outputs": [],
   "source": [
    "def decorator_to_str(func):\n",
    "    # todo exercise 2\n",
    "    def inner(*args, **kwargs):\n",
    "        if len(args)==2:\n",
    "            return str(func(args[0],args[1]))\n",
    "        else:\n",
    "            return str(func(kwargs))\n",
    "    return inner\n",
    "\n",
    "\n",
    "@decorator_to_str\n",
    "def add(a, b):\n",
    "    return a + b\n",
    "\n",
    "\n",
    "@decorator_to_str\n",
    "def get_info(d):\n",
    "    return d['info']"
   ]
  },
  {
   "cell_type": "code",
   "execution_count": 64,
   "metadata": {},
   "outputs": [
    {
     "data": {
      "text/plain": [
       "'9'"
      ]
     },
     "execution_count": 64,
     "metadata": {},
     "output_type": "execute_result"
    }
   ],
   "source": [
    "add(4,5)"
   ]
  },
  {
   "cell_type": "code",
   "execution_count": 65,
   "metadata": {},
   "outputs": [
    {
     "data": {
      "text/plain": [
       "'15'"
      ]
     },
     "execution_count": 65,
     "metadata": {},
     "output_type": "execute_result"
    }
   ],
   "source": [
    "get_info(info = 15)"
   ]
  },
  {
   "cell_type": "code",
   "execution_count": 88,
   "metadata": {},
   "outputs": [],
   "source": [
    "def ignore_exception(func):\n",
    "    \n",
    "    def inner(a,b):\n",
    "        try:\n",
    "            return func(a,b)\n",
    "        except:\n",
    "            return None\n",
    "            \n",
    "    return inner\n",
    "\n",
    "\n",
    "@ignore_exception\n",
    "def div(a, b):\n",
    "    return a / b\n",
    "\n",
    "\n",
    "@ignore_exception\n",
    "def raise_something(exception):\n",
    "    raise exception"
   ]
  },
  {
   "cell_type": "code",
   "execution_count": 89,
   "metadata": {},
   "outputs": [],
   "source": [
    "div(3,0)"
   ]
  },
  {
   "cell_type": "code",
   "execution_count": 90,
   "metadata": {},
   "outputs": [
    {
     "data": {
      "text/plain": [
       "1.5"
      ]
     },
     "execution_count": 90,
     "metadata": {},
     "output_type": "execute_result"
    }
   ],
   "source": [
    "div(3,2)"
   ]
  },
  {
   "cell_type": "code",
   "execution_count": null,
   "metadata": {},
   "outputs": [],
   "source": []
  },
  {
   "cell_type": "code",
   "execution_count": null,
   "metadata": {},
   "outputs": [],
   "source": [
    "def decorator_to_str(func):\n",
    "    # todo exercise 2\n",
    "    return func\n",
    "\n",
    "\n",
    "@decorator_to_str\n",
    "def add(a, b):\n",
    "    return a + b\n",
    "\n",
    "\n",
    "@decorator_to_str\n",
    "def get_info(d):\n",
    "    return d['info']\n",
    "\n",
    "\n",
    "def ignore_exception(exception):\n",
    "    # todo exercise 3\n",
    "    return lambda x: x\n",
    "\n",
    "\n",
    "@ignore_exception(ZeroDivisionError)\n",
    "def div(a, b):\n",
    "    return a / b\n",
    "\n",
    "\n",
    "@ignore_exception(TypeError)\n",
    "def raise_something(exception):\n",
    "    raise exception\n",
    "\n",
    "\n",
    "# exercise 4\n",
    "class CacheDecorator:\n",
    "    \"\"\"Saves the results of a function according to its parameters\"\"\"\n",
    "    def __init__(self):\n",
    "        self.cache = {}\n",
    "\n",
    "    def __call__(self, func):\n",
    "        def _wrap(*a, **kw):\n",
    "            if a[0] not in self.cache:\n",
    "                self.cache[a[0]] = func(*a, **kw)\n",
    "            return self.cache[a[0]]\n",
    "\n",
    "        return _wrap"
   ]
  }
 ],
 "metadata": {
  "kernelspec": {
   "display_name": "Python 3",
   "language": "python",
   "name": "python3"
  },
  "language_info": {
   "codemirror_mode": {
    "name": "ipython",
    "version": 3
   },
   "file_extension": ".py",
   "mimetype": "text/x-python",
   "name": "python",
   "nbconvert_exporter": "python",
   "pygments_lexer": "ipython3",
   "version": "3.8.5"
  }
 },
 "nbformat": 4,
 "nbformat_minor": 4
}
