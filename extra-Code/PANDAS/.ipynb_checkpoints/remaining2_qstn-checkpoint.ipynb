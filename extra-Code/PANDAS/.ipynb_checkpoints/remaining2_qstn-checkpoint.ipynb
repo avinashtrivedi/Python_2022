{
 "cells": [
  {
   "cell_type": "markdown",
   "metadata": {},
   "source": [
    "# Q2"
   ]
  },
  {
   "cell_type": "code",
   "execution_count": 4,
   "metadata": {},
   "outputs": [],
   "source": [
    "def decorator_to_str(func):\n",
    "    # todo exercise 2\n",
    "    def inner(*args, **kwargs):\n",
    "        if len(args)==2:\n",
    "            return str(func(args[0],args[1]))\n",
    "        else:\n",
    "            return str(func(kwargs))\n",
    "    return inner\n",
    "\n",
    "@decorator_to_str\n",
    "def add(a, b):\n",
    "    return a + b\n",
    "\n",
    "@decorator_to_str\n",
    "def get_info(d):\n",
    "    return d['info']"
   ]
  },
  {
   "cell_type": "code",
   "execution_count": 5,
   "metadata": {},
   "outputs": [
    {
     "data": {
      "text/plain": [
       "'9'"
      ]
     },
     "execution_count": 5,
     "metadata": {},
     "output_type": "execute_result"
    }
   ],
   "source": [
    "add(4,5)"
   ]
  },
  {
   "cell_type": "code",
   "execution_count": 6,
   "metadata": {},
   "outputs": [
    {
     "data": {
      "text/plain": [
       "'15'"
      ]
     },
     "execution_count": 6,
     "metadata": {},
     "output_type": "execute_result"
    }
   ],
   "source": [
    "get_info(info = 15)"
   ]
  },
  {
   "cell_type": "markdown",
   "metadata": {},
   "source": [
    "# Q.3"
   ]
  },
  {
   "cell_type": "code",
   "execution_count": 2,
   "metadata": {},
   "outputs": [],
   "source": [
    "def ignore_exception(func):\n",
    "    \n",
    "    def inner(a,b):\n",
    "        try:\n",
    "            return func(a,b)\n",
    "        except:\n",
    "            return None\n",
    "            \n",
    "    return inner\n",
    "\n",
    "\n",
    "@ignore_exception\n",
    "def div(a, b):\n",
    "    return a / b\n",
    "\n",
    "\n",
    "@ignore_exception\n",
    "def raise_something(exception):\n",
    "    raise exception"
   ]
  },
  {
   "cell_type": "code",
   "execution_count": 7,
   "metadata": {},
   "outputs": [],
   "source": [
    "div(3,0)"
   ]
  },
  {
   "cell_type": "code",
   "execution_count": 8,
   "metadata": {},
   "outputs": [
    {
     "data": {
      "text/plain": [
       "1.5"
      ]
     },
     "execution_count": 8,
     "metadata": {},
     "output_type": "execute_result"
    }
   ],
   "source": [
    "div(3,2)"
   ]
  },
  {
   "cell_type": "code",
   "execution_count": 9,
   "metadata": {},
   "outputs": [],
   "source": [
    "a = [25,35,872,228,53,278,872]"
   ]
  },
  {
   "cell_type": "code",
   "execution_count": 16,
   "metadata": {},
   "outputs": [
    {
     "data": {
      "text/plain": [
       "True"
      ]
     },
     "execution_count": 16,
     "metadata": {},
     "output_type": "execute_result"
    }
   ],
   "source": [
    "set(str(a[0])) == set(str(a[0]))"
   ]
  },
  {
   "cell_type": "code",
   "execution_count": 77,
   "metadata": {},
   "outputs": [],
   "source": [
    "def solution(a):\n",
    "    count = 0\n",
    "    for i in range(len(a)):\n",
    "        for j in range(i+1,len(a)):\n",
    "            if len(str(a[i]))==len(str(a[j])) and sorted(str(a[i])) == sorted(str(a[j])):\n",
    "                count = count + 1\n",
    "    return count"
   ]
  },
  {
   "cell_type": "code",
   "execution_count": 78,
   "metadata": {},
   "outputs": [
    {
     "name": "stdout",
     "output_type": "stream",
     "text": [
      "Wall time: 0 ns\n"
     ]
    },
    {
     "data": {
      "text/plain": [
       "4"
      ]
     },
     "execution_count": 78,
     "metadata": {},
     "output_type": "execute_result"
    }
   ],
   "source": [
    "%%time\n",
    "a = [25, 35, 872, 228, 53, 278, 872]\n",
    "solution(a)"
   ]
  },
  {
   "cell_type": "code",
   "execution_count": 71,
   "metadata": {},
   "outputs": [
    {
     "data": {
      "text/plain": [
       "0"
      ]
     },
     "execution_count": 71,
     "metadata": {},
     "output_type": "execute_result"
    }
   ],
   "source": []
  },
  {
   "cell_type": "code",
   "execution_count": 44,
   "metadata": {},
   "outputs": [
    {
     "data": {
      "text/plain": [
       "True"
      ]
     },
     "execution_count": 44,
     "metadata": {},
     "output_type": "execute_result"
    }
   ],
   "source": [
    "sorted(str(550)) == sorted(str(505))"
   ]
  },
  {
   "cell_type": "code",
   "execution_count": 42,
   "metadata": {},
   "outputs": [
    {
     "data": {
      "text/plain": [
       "['0', '0', '5']"
      ]
     },
     "execution_count": 42,
     "metadata": {},
     "output_type": "execute_result"
    }
   ],
   "source": [
    "sorted(str(500))"
   ]
  },
  {
   "cell_type": "code",
   "execution_count": null,
   "metadata": {},
   "outputs": [],
   "source": []
  },
  {
   "cell_type": "code",
   "execution_count": null,
   "metadata": {},
   "outputs": [],
   "source": [
    "Input:\n",
    "a: [25, 35, 872, 228, 53, 278, 872]\n",
    "\n",
    "Expected Output:\n",
    "4\n",
    "\n",
    "Input:\n",
    "a: [30, 72, 3, 227]\n",
    "\n",
    "Expected Output:\n",
    "0\n",
    "\n",
    "Input:\n",
    "a: [1, 1, 1, 1, 1]\n",
    "\n",
    "Expected Output:\n",
    "10\n",
    "\n",
    "Input:\n",
    "a: [0, 5, 50, 7, 0, 550, 500, 55, 11]\n",
    "\n",
    "Expected Output:\n",
    "1\n",
    "\n",
    "Input:\n",
    "a: [1000000000]\n",
    "\n",
    "Expected Output:\n",
    "0\n",
    "\n",
    "Input:\n",
    "a: [936442860, 509389019, 482540391, 623484864, 451717531, 442362118, 351571714]\n",
    "\n",
    "Expected Output:\n",
    "1\n",
    "\n",
    "Input:\n",
    "a: [327559384, 922465168, 741150091, 221559429, 903194881, 401907115, 519492225]\n",
    "\n",
    "Expected Output:\n",
    "2"
   ]
  },
  {
   "cell_type": "code",
   "execution_count": null,
   "metadata": {},
   "outputs": [],
   "source": []
  },
  {
   "cell_type": "code",
   "execution_count": null,
   "metadata": {},
   "outputs": [],
   "source": []
  },
  {
   "cell_type": "code",
   "execution_count": null,
   "metadata": {},
   "outputs": [],
   "source": []
  },
  {
   "cell_type": "code",
   "execution_count": 57,
   "metadata": {},
   "outputs": [],
   "source": [
    "a = [1, 1, 1, 2, 1, 3, 4]"
   ]
  },
  {
   "cell_type": "code",
   "execution_count": 62,
   "metadata": {},
   "outputs": [],
   "source": [
    "def solution(a):\n",
    "    count = 0\n",
    "    for i in range(1,len(a)-1):\n",
    "        lst = []\n",
    "        lst.append(a[i-1])\n",
    "        lst.append(a[i])\n",
    "        lst.append(a[i+1])\n",
    "        if lst.count(lst[0])==2 or lst.count(lst[1])==2:\n",
    "            count = count + 1\n",
    "    return count"
   ]
  },
  {
   "cell_type": "code",
   "execution_count": 69,
   "metadata": {},
   "outputs": [
    {
     "data": {
      "text/plain": [
       "1"
      ]
     },
     "execution_count": 69,
     "metadata": {},
     "output_type": "execute_result"
    }
   ],
   "source": [
    "a = [1, 2, 3, 2, 1]\n",
    "solution(a)"
   ]
  },
  {
   "cell_type": "code",
   "execution_count": null,
   "metadata": {},
   "outputs": [],
   "source": [
    "Input:\n",
    "a: [1, 1, 2, 1, 2, 1, 1]\n",
    "Expected Output:\n",
    "5\n",
    "\n",
    "Input:\n",
    "a: [1]\n",
    "Expected Output:\n",
    "0\n",
    "\n",
    "Input:\n",
    "a: [1, 1000, 1]\n",
    "Expected Output:\n",
    "1\n",
    "\n",
    "Input:\n",
    "a: [1, 2, 3, 1, 2, 3]\n",
    "Expected Output:\n",
    "0\n",
    "\n",
    "Input:\n",
    "a: [1, 2, 3, 3, 2, 1]\n",
    "Expected Output:\n",
    "2\n",
    "\n",
    "Input:\n",
    "a: [1, 2, 3, 2, 1]\n",
    "Expected Output:\n",
    "1"
   ]
  }
 ],
 "metadata": {
  "kernelspec": {
   "display_name": "Python 3",
   "language": "python",
   "name": "python3"
  },
  "language_info": {
   "codemirror_mode": {
    "name": "ipython",
    "version": 3
   },
   "file_extension": ".py",
   "mimetype": "text/x-python",
   "name": "python",
   "nbconvert_exporter": "python",
   "pygments_lexer": "ipython3",
   "version": "3.8.5"
  }
 },
 "nbformat": 4,
 "nbformat_minor": 4
}
