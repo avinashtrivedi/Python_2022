{
 "cells": [
  {
   "cell_type": "code",
   "execution_count": 1,
   "metadata": {},
   "outputs": [],
   "source": [
    "# import the necessary library\n",
    "import json\n",
    "import math\n",
    "\n",
    "def convert():\n",
    "    # read the json file as dictionary\n",
    "    with open('products.json', 'r',encoding=\"utf8\") as fp:\n",
    "        products = json.load(fp)\n",
    "\n",
    "    # Since products is a list of items,where each item is a dictionary. \n",
    "    # iterate through each items\n",
    "    for item in products:\n",
    "        cat = ' '.join(item['categories'])\n",
    "        cat = cat.lower()\n",
    "\n",
    "        # check if item is of camera categories\n",
    "        if 'camera' in cat:\n",
    "            \n",
    "            # update the price with 20% discount and roundoff to lower number\n",
    "            item['price'] = math.floor(item['price']*0.8)\n",
    "\n",
    "    # Now Save the updated products as discount.json\n",
    "    with open('discount.json', 'w') as fp:\n",
    "        json.dump(products, fp,indent=4,separators=(',', ':'))\n",
    "        \n",
    "def main():\n",
    "    convert()\n",
    "    \n",
    "if __name__ == '__main__':\n",
    "    main()"
   ]
  },
  {
   "cell_type": "code",
   "execution_count": null,
   "metadata": {},
   "outputs": [],
   "source": []
  },
  {
   "cell_type": "code",
   "execution_count": null,
   "metadata": {},
   "outputs": [],
   "source": []
  },
  {
   "cell_type": "code",
   "execution_count": null,
   "metadata": {},
   "outputs": [],
   "source": []
  }
 ],
 "metadata": {
  "kernelspec": {
   "display_name": "Python 3",
   "language": "python",
   "name": "python3"
  },
  "language_info": {
   "codemirror_mode": {
    "name": "ipython",
    "version": 3
   },
   "file_extension": ".py",
   "mimetype": "text/x-python",
   "name": "python",
   "nbconvert_exporter": "python",
   "pygments_lexer": "ipython3",
   "version": "3.8.5"
  }
 },
 "nbformat": 4,
 "nbformat_minor": 4
}
