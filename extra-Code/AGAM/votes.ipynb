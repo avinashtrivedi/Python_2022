{
 "cells": [
  {
   "cell_type": "code",
   "execution_count": 2,
   "metadata": {},
   "outputs": [
    {
     "name": "stdout",
     "output_type": "stream",
     "text": [
      "Enter the name of the file: \n",
      "Enter the name of the file: \n",
      "Enter the name of the file: votes.txt\n",
      "Turtle: 33447\n",
      "Panda: 33439\n",
      "Walrus: 33114\n"
     ]
    }
   ],
   "source": [
    "def main():\n",
    "    while True:\n",
    "        try:\n",
    "            fname = input('Enter the name of the file: ')\n",
    "            f = open(fname)\n",
    "            data = f.readlines()\n",
    "            f.close()\n",
    "            votes = [vote.strip() for vote in data]\n",
    "            print('Turtle:',votes.count('turtle'))\n",
    "            print('Panda:',votes.count('panda'))\n",
    "            print('Walrus:',votes.count('walrus'))\n",
    "            break\n",
    "        except:\n",
    "            pass\n",
    "if __name__ == \"__main__\":\n",
    "    main()"
   ]
  },
  {
   "cell_type": "code",
   "execution_count": null,
   "metadata": {},
   "outputs": [],
   "source": []
  }
 ],
 "metadata": {
  "kernelspec": {
   "display_name": "Python 3",
   "language": "python",
   "name": "python3"
  },
  "language_info": {
   "codemirror_mode": {
    "name": "ipython",
    "version": 3
   },
   "file_extension": ".py",
   "mimetype": "text/x-python",
   "name": "python",
   "nbconvert_exporter": "python",
   "pygments_lexer": "ipython3",
   "version": "3.8.5"
  }
 },
 "nbformat": 4,
 "nbformat_minor": 4
}
