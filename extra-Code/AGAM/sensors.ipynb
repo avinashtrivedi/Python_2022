{
 "cells": [
  {
   "cell_type": "code",
   "execution_count": 1,
   "metadata": {},
   "outputs": [],
   "source": [
    "import pandas as pd\n",
    "import numpy as np\n",
    "import seaborn as sns\n",
    "from matplotlib import pyplot as plt\n"
   ]
  },
  {
   "cell_type": "code",
   "execution_count": 2,
   "metadata": {},
   "outputs": [
    {
     "data": {
      "text/html": [
       "<div>\n",
       "<style scoped>\n",
       "    .dataframe tbody tr th:only-of-type {\n",
       "        vertical-align: middle;\n",
       "    }\n",
       "\n",
       "    .dataframe tbody tr th {\n",
       "        vertical-align: top;\n",
       "    }\n",
       "\n",
       "    .dataframe thead th {\n",
       "        text-align: right;\n",
       "    }\n",
       "</style>\n",
       "<table border=\"1\" class=\"dataframe\">\n",
       "  <thead>\n",
       "    <tr style=\"text-align: right;\">\n",
       "      <th></th>\n",
       "      <th>ComponentAge</th>\n",
       "      <th>MonthlyRunTime</th>\n",
       "      <th>Location</th>\n",
       "      <th>FlowRate</th>\n",
       "      <th>OPXVolume</th>\n",
       "      <th>MaxOutputRate</th>\n",
       "      <th>Sensor1</th>\n",
       "      <th>Sensor2</th>\n",
       "      <th>Sensor3</th>\n",
       "      <th>Sensor4</th>\n",
       "      <th>Sensor5</th>\n",
       "      <th>Sensor5.1</th>\n",
       "      <th>DaysSinceMaintenance</th>\n",
       "      <th>Target</th>\n",
       "    </tr>\n",
       "  </thead>\n",
       "  <tbody>\n",
       "    <tr>\n",
       "      <th>0</th>\n",
       "      <td>0.55</td>\n",
       "      <td>9.5</td>\n",
       "      <td>B</td>\n",
       "      <td>0.99740</td>\n",
       "      <td>NaN</td>\n",
       "      <td>32.0</td>\n",
       "      <td>10.0</td>\n",
       "      <td>1.90</td>\n",
       "      <td>0.58</td>\n",
       "      <td>3.13</td>\n",
       "      <td>0.22</td>\n",
       "      <td>0.080</td>\n",
       "      <td>9.0</td>\n",
       "      <td>0</td>\n",
       "    </tr>\n",
       "    <tr>\n",
       "      <th>1</th>\n",
       "      <td>0.32</td>\n",
       "      <td>12.7</td>\n",
       "      <td>A</td>\n",
       "      <td>0.99184</td>\n",
       "      <td>NaN</td>\n",
       "      <td>28.0</td>\n",
       "      <td>6.9</td>\n",
       "      <td>10.55</td>\n",
       "      <td>0.3</td>\n",
       "      <td>3.07</td>\n",
       "      <td>0.30</td>\n",
       "      <td>0.037</td>\n",
       "      <td>4.0</td>\n",
       "      <td>0</td>\n",
       "    </tr>\n",
       "    <tr>\n",
       "      <th>2</th>\n",
       "      <td>0.57</td>\n",
       "      <td>9.7</td>\n",
       "      <td>B</td>\n",
       "      <td>0.99743</td>\n",
       "      <td>NaN</td>\n",
       "      <td>86.0</td>\n",
       "      <td>7.2</td>\n",
       "      <td>2.30</td>\n",
       "      <td>0.66</td>\n",
       "      <td>3.53</td>\n",
       "      <td>0.03</td>\n",
       "      <td>0.078</td>\n",
       "      <td>16.0</td>\n",
       "      <td>0</td>\n",
       "    </tr>\n",
       "    <tr>\n",
       "      <th>3</th>\n",
       "      <td>0.50</td>\n",
       "      <td>9.5</td>\n",
       "      <td>B</td>\n",
       "      <td>0.99593</td>\n",
       "      <td>NaN</td>\n",
       "      <td>84.0</td>\n",
       "      <td>7.1</td>\n",
       "      <td>1.80</td>\n",
       "      <td>0.755</td>\n",
       "      <td>3.19</td>\n",
       "      <td>0.15</td>\n",
       "      <td>0.107</td>\n",
       "      <td>20.0</td>\n",
       "      <td>0</td>\n",
       "    </tr>\n",
       "    <tr>\n",
       "      <th>4</th>\n",
       "      <td>0.44</td>\n",
       "      <td>10.8</td>\n",
       "      <td>A</td>\n",
       "      <td>0.99280</td>\n",
       "      <td>NaN</td>\n",
       "      <td>127.0</td>\n",
       "      <td>7.0</td>\n",
       "      <td>4.90</td>\n",
       "      <td>0.29</td>\n",
       "      <td>3.17</td>\n",
       "      <td>0.37</td>\n",
       "      <td>0.034</td>\n",
       "      <td>26.0</td>\n",
       "      <td>0</td>\n",
       "    </tr>\n",
       "    <tr>\n",
       "      <th>...</th>\n",
       "      <td>...</td>\n",
       "      <td>...</td>\n",
       "      <td>...</td>\n",
       "      <td>...</td>\n",
       "      <td>...</td>\n",
       "      <td>...</td>\n",
       "      <td>...</td>\n",
       "      <td>...</td>\n",
       "      <td>...</td>\n",
       "      <td>...</td>\n",
       "      <td>...</td>\n",
       "      <td>...</td>\n",
       "      <td>...</td>\n",
       "      <td>...</td>\n",
       "    </tr>\n",
       "    <tr>\n",
       "      <th>6492</th>\n",
       "      <td>0.35</td>\n",
       "      <td>9.2</td>\n",
       "      <td>A</td>\n",
       "      <td>0.99240</td>\n",
       "      <td>NaN</td>\n",
       "      <td>30.0</td>\n",
       "      <td>5.6</td>\n",
       "      <td>0.80</td>\n",
       "      <td>0.29</td>\n",
       "      <td>3.36</td>\n",
       "      <td>0.05</td>\n",
       "      <td>0.038</td>\n",
       "      <td>11.0</td>\n",
       "      <td>0</td>\n",
       "    </tr>\n",
       "    <tr>\n",
       "      <th>6493</th>\n",
       "      <td>0.74</td>\n",
       "      <td>11.5</td>\n",
       "      <td>B</td>\n",
       "      <td>0.99780</td>\n",
       "      <td>NaN</td>\n",
       "      <td>14.0</td>\n",
       "      <td>11.6</td>\n",
       "      <td>3.65</td>\n",
       "      <td>0.53</td>\n",
       "      <td>3.05</td>\n",
       "      <td>0.66</td>\n",
       "      <td>0.121</td>\n",
       "      <td>6.0</td>\n",
       "      <td>1</td>\n",
       "    </tr>\n",
       "    <tr>\n",
       "      <th>6494</th>\n",
       "      <td>0.47</td>\n",
       "      <td>10.0</td>\n",
       "      <td>A</td>\n",
       "      <td>0.99480</td>\n",
       "      <td>NaN</td>\n",
       "      <td>159.0</td>\n",
       "      <td>7.2</td>\n",
       "      <td>1.80</td>\n",
       "      <td>0.15</td>\n",
       "      <td>3.52</td>\n",
       "      <td>0.39</td>\n",
       "      <td>0.043</td>\n",
       "      <td>21.0</td>\n",
       "      <td>0</td>\n",
       "    </tr>\n",
       "    <tr>\n",
       "      <th>6495</th>\n",
       "      <td>0.53</td>\n",
       "      <td>10.5</td>\n",
       "      <td>B</td>\n",
       "      <td>0.99860</td>\n",
       "      <td>3.0</td>\n",
       "      <td>21.0</td>\n",
       "      <td>11.1</td>\n",
       "      <td>3.10</td>\n",
       "      <td>0.35</td>\n",
       "      <td>3.17</td>\n",
       "      <td>0.48</td>\n",
       "      <td>0.090</td>\n",
       "      <td>5.0</td>\n",
       "      <td>0</td>\n",
       "    </tr>\n",
       "    <tr>\n",
       "      <th>6496</th>\n",
       "      <td>0.36</td>\n",
       "      <td>10.0</td>\n",
       "      <td>A</td>\n",
       "      <td>0.99272</td>\n",
       "      <td>NaN</td>\n",
       "      <td>95.0</td>\n",
       "      <td>8.5</td>\n",
       "      <td>1.10</td>\n",
       "      <td>0.18</td>\n",
       "      <td>2.83</td>\n",
       "      <td>0.30</td>\n",
       "      <td>0.028</td>\n",
       "      <td>34.0</td>\n",
       "      <td>0</td>\n",
       "    </tr>\n",
       "  </tbody>\n",
       "</table>\n",
       "<p>6497 rows × 14 columns</p>\n",
       "</div>"
      ],
      "text/plain": [
       "      ComponentAge  MonthlyRunTime Location  FlowRate  OPXVolume  \\\n",
       "0             0.55             9.5        B   0.99740        NaN   \n",
       "1             0.32            12.7        A   0.99184        NaN   \n",
       "2             0.57             9.7        B   0.99743        NaN   \n",
       "3             0.50             9.5        B   0.99593        NaN   \n",
       "4             0.44            10.8        A   0.99280        NaN   \n",
       "...            ...             ...      ...       ...        ...   \n",
       "6492          0.35             9.2        A   0.99240        NaN   \n",
       "6493          0.74            11.5        B   0.99780        NaN   \n",
       "6494          0.47            10.0        A   0.99480        NaN   \n",
       "6495          0.53            10.5        B   0.99860        3.0   \n",
       "6496          0.36            10.0        A   0.99272        NaN   \n",
       "\n",
       "      MaxOutputRate  Sensor1  Sensor2 Sensor3  Sensor4  Sensor5  Sensor5.1  \\\n",
       "0              32.0     10.0     1.90    0.58     3.13     0.22      0.080   \n",
       "1              28.0      6.9    10.55     0.3     3.07     0.30      0.037   \n",
       "2              86.0      7.2     2.30    0.66     3.53     0.03      0.078   \n",
       "3              84.0      7.1     1.80   0.755     3.19     0.15      0.107   \n",
       "4             127.0      7.0     4.90    0.29     3.17     0.37      0.034   \n",
       "...             ...      ...      ...     ...      ...      ...        ...   \n",
       "6492           30.0      5.6     0.80    0.29     3.36     0.05      0.038   \n",
       "6493           14.0     11.6     3.65    0.53     3.05     0.66      0.121   \n",
       "6494          159.0      7.2     1.80    0.15     3.52     0.39      0.043   \n",
       "6495           21.0     11.1     3.10    0.35     3.17     0.48      0.090   \n",
       "6496           95.0      8.5     1.10    0.18     2.83     0.30      0.028   \n",
       "\n",
       "      DaysSinceMaintenance  Target  \n",
       "0                      9.0       0  \n",
       "1                      4.0       0  \n",
       "2                     16.0       0  \n",
       "3                     20.0       0  \n",
       "4                     26.0       0  \n",
       "...                    ...     ...  \n",
       "6492                  11.0       0  \n",
       "6493                   6.0       1  \n",
       "6494                  21.0       0  \n",
       "6495                   5.0       0  \n",
       "6496                  34.0       0  \n",
       "\n",
       "[6497 rows x 14 columns]"
      ]
     },
     "execution_count": 2,
     "metadata": {},
     "output_type": "execute_result"
    }
   ],
   "source": [
    "sensors = pd.read_csv('sensors.csv')\n",
    "sensors"
   ]
  },
  {
   "cell_type": "code",
   "execution_count": 14,
   "metadata": {},
   "outputs": [
    {
     "data": {
      "text/plain": [
       "0    5197\n",
       "1    1273\n",
       "Name: Target, dtype: int64"
      ]
     },
     "execution_count": 14,
     "metadata": {},
     "output_type": "execute_result"
    }
   ],
   "source": [
    "sensors['Target'].value_counts()"
   ]
  },
  {
   "cell_type": "markdown",
   "metadata": {},
   "source": [
    "## EDA"
   ]
  },
  {
   "cell_type": "code",
   "execution_count": 3,
   "metadata": {},
   "outputs": [
    {
     "data": {
      "text/plain": [
       "ComponentAge            6493\n",
       "MonthlyRunTime          6497\n",
       "Location                6497\n",
       "FlowRate                6497\n",
       "OPXVolume                805\n",
       "MaxOutputRate           6497\n",
       "Sensor1                 6487\n",
       "Sensor2                 6495\n",
       "Sensor3                 6497\n",
       "Sensor4                 6488\n",
       "Sensor5                 6494\n",
       "Sensor5.1               6495\n",
       "DaysSinceMaintenance    6497\n",
       "Target                  6497\n",
       "dtype: int64"
      ]
     },
     "execution_count": 3,
     "metadata": {},
     "output_type": "execute_result"
    }
   ],
   "source": [
    "sensors.count()"
   ]
  },
  {
   "cell_type": "code",
   "execution_count": 4,
   "metadata": {},
   "outputs": [
    {
     "data": {
      "text/plain": [
       "ComponentAge            111\n",
       "MonthlyRunTime          111\n",
       "Location                  2\n",
       "FlowRate                998\n",
       "OPXVolume                12\n",
       "MaxOutputRate           276\n",
       "Sensor1                 106\n",
       "Sensor2                 316\n",
       "Sensor3                 188\n",
       "Sensor4                 108\n",
       "Sensor5                  89\n",
       "Sensor5.1               214\n",
       "DaysSinceMaintenance    135\n",
       "Target                    2\n",
       "dtype: int64"
      ]
     },
     "execution_count": 4,
     "metadata": {},
     "output_type": "execute_result"
    }
   ],
   "source": [
    "sensors.nunique()"
   ]
  },
  {
   "cell_type": "code",
   "execution_count": 5,
   "metadata": {},
   "outputs": [
    {
     "data": {
      "text/plain": [
       "ComponentAge               4\n",
       "MonthlyRunTime             0\n",
       "Location                   0\n",
       "FlowRate                   0\n",
       "OPXVolume               5692\n",
       "MaxOutputRate              0\n",
       "Sensor1                   10\n",
       "Sensor2                    2\n",
       "Sensor3                    0\n",
       "Sensor4                    9\n",
       "Sensor5                    3\n",
       "Sensor5.1                  2\n",
       "DaysSinceMaintenance       0\n",
       "Target                     0\n",
       "dtype: int64"
      ]
     },
     "execution_count": 5,
     "metadata": {},
     "output_type": "execute_result"
    }
   ],
   "source": [
    "sensors.isnull().sum()"
   ]
  },
  {
   "cell_type": "code",
   "execution_count": 6,
   "metadata": {},
   "outputs": [],
   "source": [
    "sensors=sensors.drop(columns=['OPXVolume'])\n",
    "sensors=sensors.dropna()"
   ]
  },
  {
   "cell_type": "code",
   "execution_count": 7,
   "metadata": {},
   "outputs": [
    {
     "data": {
      "text/html": [
       "<div>\n",
       "<style scoped>\n",
       "    .dataframe tbody tr th:only-of-type {\n",
       "        vertical-align: middle;\n",
       "    }\n",
       "\n",
       "    .dataframe tbody tr th {\n",
       "        vertical-align: top;\n",
       "    }\n",
       "\n",
       "    .dataframe thead th {\n",
       "        text-align: right;\n",
       "    }\n",
       "</style>\n",
       "<table border=\"1\" class=\"dataframe\">\n",
       "  <thead>\n",
       "    <tr style=\"text-align: right;\">\n",
       "      <th></th>\n",
       "      <th>ComponentAge</th>\n",
       "      <th>MonthlyRunTime</th>\n",
       "      <th>FlowRate</th>\n",
       "      <th>MaxOutputRate</th>\n",
       "      <th>Sensor1</th>\n",
       "      <th>Sensor2</th>\n",
       "      <th>Sensor4</th>\n",
       "      <th>Sensor5</th>\n",
       "      <th>Sensor5.1</th>\n",
       "      <th>DaysSinceMaintenance</th>\n",
       "      <th>Target</th>\n",
       "    </tr>\n",
       "  </thead>\n",
       "  <tbody>\n",
       "    <tr>\n",
       "      <th>count</th>\n",
       "      <td>6470.000000</td>\n",
       "      <td>6470.000000</td>\n",
       "      <td>6470.000000</td>\n",
       "      <td>6470.000000</td>\n",
       "      <td>6470.000000</td>\n",
       "      <td>6470.000000</td>\n",
       "      <td>6470.000000</td>\n",
       "      <td>6470.000000</td>\n",
       "      <td>6470.000000</td>\n",
       "      <td>6470.000000</td>\n",
       "      <td>6470.000000</td>\n",
       "    </tr>\n",
       "    <tr>\n",
       "      <th>mean</th>\n",
       "      <td>0.531181</td>\n",
       "      <td>10.492369</td>\n",
       "      <td>0.994697</td>\n",
       "      <td>115.710124</td>\n",
       "      <td>7.217380</td>\n",
       "      <td>5.442427</td>\n",
       "      <td>3.218223</td>\n",
       "      <td>0.318796</td>\n",
       "      <td>0.056053</td>\n",
       "      <td>30.515997</td>\n",
       "      <td>0.196754</td>\n",
       "    </tr>\n",
       "    <tr>\n",
       "      <th>std</th>\n",
       "      <td>0.148896</td>\n",
       "      <td>1.193509</td>\n",
       "      <td>0.003001</td>\n",
       "      <td>56.509652</td>\n",
       "      <td>1.297379</td>\n",
       "      <td>4.756161</td>\n",
       "      <td>0.160698</td>\n",
       "      <td>0.145244</td>\n",
       "      <td>0.035061</td>\n",
       "      <td>17.758060</td>\n",
       "      <td>0.397576</td>\n",
       "    </tr>\n",
       "    <tr>\n",
       "      <th>min</th>\n",
       "      <td>0.220000</td>\n",
       "      <td>8.000000</td>\n",
       "      <td>0.987110</td>\n",
       "      <td>6.000000</td>\n",
       "      <td>3.800000</td>\n",
       "      <td>0.600000</td>\n",
       "      <td>2.720000</td>\n",
       "      <td>0.000000</td>\n",
       "      <td>0.009000</td>\n",
       "      <td>1.000000</td>\n",
       "      <td>0.000000</td>\n",
       "    </tr>\n",
       "    <tr>\n",
       "      <th>25%</th>\n",
       "      <td>0.430000</td>\n",
       "      <td>9.500000</td>\n",
       "      <td>0.992340</td>\n",
       "      <td>77.000000</td>\n",
       "      <td>6.400000</td>\n",
       "      <td>1.800000</td>\n",
       "      <td>3.110000</td>\n",
       "      <td>0.250000</td>\n",
       "      <td>0.038000</td>\n",
       "      <td>17.000000</td>\n",
       "      <td>0.000000</td>\n",
       "    </tr>\n",
       "    <tr>\n",
       "      <th>50%</th>\n",
       "      <td>0.510000</td>\n",
       "      <td>10.300000</td>\n",
       "      <td>0.994890</td>\n",
       "      <td>118.000000</td>\n",
       "      <td>7.000000</td>\n",
       "      <td>3.000000</td>\n",
       "      <td>3.210000</td>\n",
       "      <td>0.310000</td>\n",
       "      <td>0.047000</td>\n",
       "      <td>29.000000</td>\n",
       "      <td>0.000000</td>\n",
       "    </tr>\n",
       "    <tr>\n",
       "      <th>75%</th>\n",
       "      <td>0.600000</td>\n",
       "      <td>11.300000</td>\n",
       "      <td>0.996997</td>\n",
       "      <td>156.000000</td>\n",
       "      <td>7.700000</td>\n",
       "      <td>8.100000</td>\n",
       "      <td>3.320000</td>\n",
       "      <td>0.390000</td>\n",
       "      <td>0.065000</td>\n",
       "      <td>41.000000</td>\n",
       "      <td>0.000000</td>\n",
       "    </tr>\n",
       "    <tr>\n",
       "      <th>max</th>\n",
       "      <td>2.000000</td>\n",
       "      <td>14.900000</td>\n",
       "      <td>1.038980</td>\n",
       "      <td>440.000000</td>\n",
       "      <td>15.900000</td>\n",
       "      <td>65.800000</td>\n",
       "      <td>4.010000</td>\n",
       "      <td>1.660000</td>\n",
       "      <td>0.611000</td>\n",
       "      <td>289.000000</td>\n",
       "      <td>1.000000</td>\n",
       "    </tr>\n",
       "  </tbody>\n",
       "</table>\n",
       "</div>"
      ],
      "text/plain": [
       "       ComponentAge  MonthlyRunTime     FlowRate  MaxOutputRate      Sensor1  \\\n",
       "count   6470.000000     6470.000000  6470.000000    6470.000000  6470.000000   \n",
       "mean       0.531181       10.492369     0.994697     115.710124     7.217380   \n",
       "std        0.148896        1.193509     0.003001      56.509652     1.297379   \n",
       "min        0.220000        8.000000     0.987110       6.000000     3.800000   \n",
       "25%        0.430000        9.500000     0.992340      77.000000     6.400000   \n",
       "50%        0.510000       10.300000     0.994890     118.000000     7.000000   \n",
       "75%        0.600000       11.300000     0.996997     156.000000     7.700000   \n",
       "max        2.000000       14.900000     1.038980     440.000000    15.900000   \n",
       "\n",
       "           Sensor2      Sensor4      Sensor5    Sensor5.1  \\\n",
       "count  6470.000000  6470.000000  6470.000000  6470.000000   \n",
       "mean      5.442427     3.218223     0.318796     0.056053   \n",
       "std       4.756161     0.160698     0.145244     0.035061   \n",
       "min       0.600000     2.720000     0.000000     0.009000   \n",
       "25%       1.800000     3.110000     0.250000     0.038000   \n",
       "50%       3.000000     3.210000     0.310000     0.047000   \n",
       "75%       8.100000     3.320000     0.390000     0.065000   \n",
       "max      65.800000     4.010000     1.660000     0.611000   \n",
       "\n",
       "       DaysSinceMaintenance       Target  \n",
       "count           6470.000000  6470.000000  \n",
       "mean              30.515997     0.196754  \n",
       "std               17.758060     0.397576  \n",
       "min                1.000000     0.000000  \n",
       "25%               17.000000     0.000000  \n",
       "50%               29.000000     0.000000  \n",
       "75%               41.000000     0.000000  \n",
       "max              289.000000     1.000000  "
      ]
     },
     "execution_count": 7,
     "metadata": {},
     "output_type": "execute_result"
    }
   ],
   "source": [
    "sensors.describe()"
   ]
  },
  {
   "cell_type": "code",
   "execution_count": 8,
   "metadata": {},
   "outputs": [
    {
     "data": {
      "text/plain": [
       "<AxesSubplot:xlabel='ComponentAge', ylabel='FlowRate'>"
      ]
     },
     "execution_count": 8,
     "metadata": {},
     "output_type": "execute_result"
    },
    {
     "data": {
      "image/png": "[encoded data removed]",
      "text/plain": [
       "<Figure size 432x288 with 1 Axes>"
      ]
     },
     "metadata": {
      "needs_background": "light"
     },
     "output_type": "display_data"
    }
   ],
   "source": [
    "sns.lineplot(data=sensors, x='ComponentAge', y='FlowRate')"
   ]
  },
  {
   "cell_type": "code",
   "execution_count": 9,
   "metadata": {},
   "outputs": [
    {
     "data": {
      "text/plain": [
       "<AxesSubplot:xlabel='MonthlyRunTime', ylabel='FlowRate'>"
      ]
     },
     "execution_count": 9,
     "metadata": {},
     "output_type": "execute_result"
    },
    {
     "data": {
      "image/png": "[encoded data removed]",
      "text/plain": [
       "<Figure size 432x288 with 1 Axes>"
      ]
     },
     "metadata": {
      "needs_background": "light"
     },
     "output_type": "display_data"
    }
   ],
   "source": [
    "sns.lineplot(data=sensors, x='MonthlyRunTime', y='FlowRate')"
   ]
  },
  {
   "cell_type": "code",
   "execution_count": 10,
   "metadata": {},
   "outputs": [
    {
     "data": {
      "text/plain": [
       "<AxesSubplot:xlabel='ComponentAge', ylabel='MaxOutputRate'>"
      ]
     },
     "execution_count": 10,
     "metadata": {},
     "output_type": "execute_result"
    },
    {
     "data": {
      "image/png": "[encoded data removed]",
      "text/plain": [
       "<Figure size 432x288 with 1 Axes>"
      ]
     },
     "metadata": {
      "needs_background": "light"
     },
     "output_type": "display_data"
    }
   ],
   "source": [
    "sns.lineplot(data=sensors, x='ComponentAge', y='MaxOutputRate')"
   ]
  },
  {
   "cell_type": "code",
   "execution_count": 11,
   "metadata": {},
   "outputs": [
    {
     "ename": "SyntaxError",
     "evalue": "positional argument follows keyword argument (<ipython-input-11-3a102d666987>, line 1)",
     "output_type": "error",
     "traceback": [
      "\u001b[1;36m  File \u001b[1;32m\"<ipython-input-11-3a102d666987>\"\u001b[1;36m, line \u001b[1;32m1\u001b[0m\n\u001b[1;33m    sns.lineplot(data=sensors, x='ComponentAge', y='Sensor1', 'Sensor2')\u001b[0m\n\u001b[1;37m                                                              ^\u001b[0m\n\u001b[1;31mSyntaxError\u001b[0m\u001b[1;31m:\u001b[0m positional argument follows keyword argument\n"
     ]
    }
   ],
   "source": [
    "sns.lineplot(data=sensors, x='ComponentAge', y='Sensor1', 'Sensor2')"
   ]
  },
  {
   "cell_type": "code",
   "execution_count": null,
   "metadata": {},
   "outputs": [],
   "source": []
  }
 ],
 "metadata": {
  "kernelspec": {
   "display_name": "Python 3",
   "language": "python",
   "name": "python3"
  },
  "language_info": {
   "codemirror_mode": {
    "name": "ipython",
    "version": 3
   },
   "file_extension": ".py",
   "mimetype": "text/x-python",
   "name": "python",
   "nbconvert_exporter": "python",
   "pygments_lexer": "ipython3",
   "version": "3.8.5"
  }
 },
 "nbformat": 4,
 "nbformat_minor": 4
}
