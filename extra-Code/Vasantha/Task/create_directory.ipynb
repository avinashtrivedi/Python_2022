{
 "cells": [
  {
   "cell_type": "code",
   "execution_count": 1,
   "id": "89bd3868",
   "metadata": {},
   "outputs": [],
   "source": [
    "import os\n",
    "with open('input/Projects.txt') as fp:\n",
    "    data = fp.readlines()"
   ]
  },
  {
   "cell_type": "code",
   "execution_count": 2,
   "id": "d274faf8",
   "metadata": {},
   "outputs": [],
   "source": [
    "data = [i.strip().split('=') for i in data]\n",
    "data = [[i[0][0],i[1].split(',')] for i in data]"
   ]
  },
  {
   "cell_type": "code",
   "execution_count": 3,
   "id": "21578e0f",
   "metadata": {},
   "outputs": [
    {
     "name": "stdout",
     "output_type": "stream",
     "text": [
      "Folders successfully created.\n"
     ]
    }
   ],
   "source": [
    "if os.path.isdir('Output'):\n",
    "    print('Output folder is already present')\n",
    "else:\n",
    "    try:\n",
    "        for fname,nums in data:\n",
    "            for num in nums:\n",
    "                os.makedirs(f'Output/{fname}_{num}/Loading')\n",
    "                os.makedirs(f'Output/{fname}_{num}/Tranformation')\n",
    "                os.makedirs(f'Output/{fname}_{num}/ValidationReports')\n",
    "                os.makedirs(f'Output/{fname}_{num}/Extraction/Logs')\n",
    "        print('Folders successfully created.')\n",
    "    except:\n",
    "        print('Some error occurred.')"
   ]
  },
  {
   "cell_type": "code",
   "execution_count": null,
   "id": "5e926066",
   "metadata": {},
   "outputs": [],
   "source": []
  }
 ],
 "metadata": {
  "kernelspec": {
   "display_name": "Python 3 (ipykernel)",
   "language": "python",
   "name": "python3"
  },
  "language_info": {
   "codemirror_mode": {
    "name": "ipython",
    "version": 3
   },
   "file_extension": ".py",
   "mimetype": "text/x-python",
   "name": "python",
   "nbconvert_exporter": "python",
   "pygments_lexer": "ipython3",
   "version": "3.8.5"
  }
 },
 "nbformat": 4,
 "nbformat_minor": 5
}
