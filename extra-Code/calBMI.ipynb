{
 "cells": [
  {
   "cell_type": "code",
   "execution_count": 31,
   "id": "bd9eef19",
   "metadata": {},
   "outputs": [
    {
     "name": "stdout",
     "output_type": "stream",
     "text": [
      "Please Enter the Name: HELLO\n",
      "Please Enter Weight in Pound: 65\n",
      "Please Enter Height in Feet: 45.888888\n"
     ]
    }
   ],
   "source": [
    "# -*- coding: utf-8 -*-\n",
    "\"\"\"\n",
    "Created on Tue May 24 23:52:13 2022\n",
    "\n",
    "@author: Matt\n",
    "This is code that will take user input of weight and height to calculate BMI\n",
    "\"\"\"\n",
    "my_info = {}\n",
    "try:\n",
    "    name = input('Please Enter the Name: ')\n",
    "    Lbs = round(float(input(\"Please Enter Weight in Pound: \")), 3)\n",
    "    Ft = round(float(input(\"Please Enter Height in Feet: \")), 3)\n",
    "    \n",
    "    my_info['Name'] = name\n",
    "    my_info['Weight'] = Lbs\n",
    "    my_info['Height'] = Ft\n",
    "\n",
    "except:\n",
    "    print(\"invalid entry!\")"
   ]
  },
  {
   "cell_type": "code",
   "execution_count": 32,
   "id": "082c0580",
   "metadata": {},
   "outputs": [],
   "source": [
    "import os\n",
    "# header = ','.join(list(my_info))\n",
    "\n",
    "def dataRecorder(fname,my_info):\n",
    "    val = ','.join([str(i) for i in list(my_info.values())])\n",
    "    if not os.path.isfile(fname):\n",
    "        fp = open(fname,'w')\n",
    "        fp.write(val)\n",
    "        fp.write('\\n')\n",
    "        fp.close()\n",
    "        \n",
    "    else:\n",
    "        fp = open(fname,'a')\n",
    "        fp.write(val)\n",
    "        fp.write('\\n')\n",
    "        fp.close()"
   ]
  },
  {
   "cell_type": "code",
   "execution_count": 33,
   "id": "c0b3067c",
   "metadata": {},
   "outputs": [],
   "source": [
    "dataRecorder('test11.csv',my_info)"
   ]
  },
  {
   "cell_type": "code",
   "execution_count": null,
   "id": "3158208a",
   "metadata": {},
   "outputs": [],
   "source": []
  }
 ],
 "metadata": {
  "kernelspec": {
   "display_name": "Python 3 (ipykernel)",
   "language": "python",
   "name": "python3"
  },
  "language_info": {
   "codemirror_mode": {
    "name": "ipython",
    "version": 3
   },
   "file_extension": ".py",
   "mimetype": "text/x-python",
   "name": "python",
   "nbconvert_exporter": "python",
   "pygments_lexer": "ipython3",
   "version": "3.8.5"
  }
 },
 "nbformat": 4,
 "nbformat_minor": 5
}
