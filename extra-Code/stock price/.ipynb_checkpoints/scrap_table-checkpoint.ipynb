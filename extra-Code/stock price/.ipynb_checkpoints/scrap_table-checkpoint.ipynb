{
 "cells": [
  {
   "cell_type": "code",
   "execution_count": 110,
   "id": "9e9a2222",
   "metadata": {},
   "outputs": [],
   "source": [
    "import pandas as pd\n",
    "import requests \n",
    "from bs4 import BeautifulSoup \n",
    "\n",
    "url = 'https://www.worldometers.info/coronavirus/#countries'\n",
    "resp = requests.get(url).text\n",
    "soup = BeautifulSoup(resp, 'lxml')\n",
    "x = soup.find_all('tr',{\"style\" : \"\"})"
   ]
  },
  {
   "cell_type": "code",
   "execution_count": 111,
   "id": "25d7edff",
   "metadata": {},
   "outputs": [],
   "source": [
    "data = []\n",
    "for i in x[1]:\n",
    "    if len(i.text.strip())!=0:\n",
    "        data.append(i.text)"
   ]
  },
  {
   "cell_type": "code",
   "execution_count": 112,
   "id": "c1bd486e",
   "metadata": {},
   "outputs": [],
   "source": [
    "df = pd.DataFrame([],columns=['','Country','TotalCases','NewCases','TotalDeaths','NewDeaths'])\n",
    "df.loc[len(df)] = [float('nan')] + data[:5]\n",
    "for entry in x[2:6]:\n",
    "    data = []\n",
    "    for i in entry:\n",
    "        if len(i.text.strip())!=0:\n",
    "            data.append(i.text)\n",
    "    df.loc[len(df)] = data[:6]\n",
    "df.set_index('', inplace=True)"
   ]
  },
  {
   "cell_type": "code",
   "execution_count": 113,
   "id": "a54f955f",
   "metadata": {},
   "outputs": [
    {
     "data": {
      "text/html": [
       "<div>\n",
       "<style scoped>\n",
       "    .dataframe tbody tr th:only-of-type {\n",
       "        vertical-align: middle;\n",
       "    }\n",
       "\n",
       "    .dataframe tbody tr th {\n",
       "        vertical-align: top;\n",
       "    }\n",
       "\n",
       "    .dataframe thead th {\n",
       "        text-align: right;\n",
       "    }\n",
       "</style>\n",
       "<table border=\"1\" class=\"dataframe\">\n",
       "  <thead>\n",
       "    <tr style=\"text-align: right;\">\n",
       "      <th></th>\n",
       "      <th>Country</th>\n",
       "      <th>TotalCases</th>\n",
       "      <th>NewCases</th>\n",
       "      <th>TotalDeaths</th>\n",
       "      <th>NewDeaths</th>\n",
       "    </tr>\n",
       "    <tr>\n",
       "      <th></th>\n",
       "      <th></th>\n",
       "      <th></th>\n",
       "      <th></th>\n",
       "      <th></th>\n",
       "      <th></th>\n",
       "    </tr>\n",
       "  </thead>\n",
       "  <tbody>\n",
       "    <tr>\n",
       "      <th>NaN</th>\n",
       "      <td>World</td>\n",
       "      <td>481,237,186</td>\n",
       "      <td>+393,928</td>\n",
       "      <td>6,145,981</td>\n",
       "      <td>+480</td>\n",
       "    </tr>\n",
       "    <tr>\n",
       "      <th>1</th>\n",
       "      <td>USA</td>\n",
       "      <td>81,616,936</td>\n",
       "      <td>1,003,425</td>\n",
       "      <td>64,268,976</td>\n",
       "      <td>16,344,535</td>\n",
       "    </tr>\n",
       "    <tr>\n",
       "      <th>2</th>\n",
       "      <td>India</td>\n",
       "      <td>43,019,270</td>\n",
       "      <td>521,034</td>\n",
       "      <td>42,480,436</td>\n",
       "      <td>17,800</td>\n",
       "    </tr>\n",
       "    <tr>\n",
       "      <th>3</th>\n",
       "      <td>Brazil</td>\n",
       "      <td>29,832,179</td>\n",
       "      <td>658,812</td>\n",
       "      <td>28,464,436</td>\n",
       "      <td>708,931</td>\n",
       "    </tr>\n",
       "    <tr>\n",
       "      <th>4</th>\n",
       "      <td>France</td>\n",
       "      <td>24,919,399</td>\n",
       "      <td>141,631</td>\n",
       "      <td>22,915,695</td>\n",
       "      <td>1,862,073</td>\n",
       "    </tr>\n",
       "  </tbody>\n",
       "</table>\n",
       "</div>"
      ],
      "text/plain": [
       "    Country   TotalCases    NewCases TotalDeaths   NewDeaths\n",
       "                                                            \n",
       "NaN   World  481,237,186    +393,928   6,145,981        +480\n",
       "1       USA   81,616,936  1,003,425   64,268,976  16,344,535\n",
       "2     India   43,019,270    521,034   42,480,436      17,800\n",
       "3    Brazil   29,832,179    658,812   28,464,436     708,931\n",
       "4    France   24,919,399    141,631   22,915,695   1,862,073"
      ]
     },
     "execution_count": 113,
     "metadata": {},
     "output_type": "execute_result"
    }
   ],
   "source": [
    "df"
   ]
  },
  {
   "cell_type": "code",
   "execution_count": null,
   "id": "1919b685",
   "metadata": {},
   "outputs": [],
   "source": []
  }
 ],
 "metadata": {
  "kernelspec": {
   "display_name": "Python 3 (ipykernel)",
   "language": "python",
   "name": "python3"
  },
  "language_info": {
   "codemirror_mode": {
    "name": "ipython",
    "version": 3
   },
   "file_extension": ".py",
   "mimetype": "text/x-python",
   "name": "python",
   "nbconvert_exporter": "python",
   "pygments_lexer": "ipython3",
   "version": "3.8.5"
  }
 },
 "nbformat": 4,
 "nbformat_minor": 5
}
