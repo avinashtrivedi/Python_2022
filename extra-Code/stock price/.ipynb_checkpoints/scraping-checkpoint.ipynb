{
 "cells": [
  {
   "cell_type": "code",
   "execution_count": 1,
   "id": "8a51f313",
   "metadata": {},
   "outputs": [],
   "source": [
    "import pandas as pd\n",
    "import requests \n",
    "from bs4 import BeautifulSoup\n",
    "\n",
    "url = \"https://www.worldometers.info/coronavirus/#countries\"\n",
    "resp = requests.get(url)\n",
    "soup = BeautifulSoup(resp.content, 'html.parser')\n",
    "\n",
    "yest_tbl = soup.find(\"table\", id=\"main_table_countries_yesterday\")\n",
    "\n",
    "get_rows = yest_tbl.tbody.find_all(\"tr\")\n",
    "#print(get_rows)"
   ]
  },
  {
   "cell_type": "code",
   "execution_count": 2,
   "id": "e64ef029",
   "metadata": {},
   "outputs": [],
   "source": [
    "df = pd.DataFrame([],columns= [\"Country\", \"TotalCases\", \"NewCases\", \"TotalDeaths\", \"NewDeaths\"])\n",
    "for i in range(7,12):\n",
    "    data = [get_rows[i].find_all(\"td\")[j].string for j in range(1,6)]\n",
    "    df.loc[len(df)] = data"
   ]
  },
  {
   "cell_type": "code",
   "execution_count": 3,
   "id": "a47024b2",
   "metadata": {},
   "outputs": [
    {
     "data": {
      "text/html": [
       "<div>\n",
       "<style scoped>\n",
       "    .dataframe tbody tr th:only-of-type {\n",
       "        vertical-align: middle;\n",
       "    }\n",
       "\n",
       "    .dataframe tbody tr th {\n",
       "        vertical-align: top;\n",
       "    }\n",
       "\n",
       "    .dataframe thead th {\n",
       "        text-align: right;\n",
       "    }\n",
       "</style>\n",
       "<table border=\"1\" class=\"dataframe\">\n",
       "  <thead>\n",
       "    <tr style=\"text-align: right;\">\n",
       "      <th></th>\n",
       "      <th>Country</th>\n",
       "      <th>TotalCases</th>\n",
       "      <th>NewCases</th>\n",
       "      <th>TotalDeaths</th>\n",
       "      <th>NewDeaths</th>\n",
       "    </tr>\n",
       "  </thead>\n",
       "  <tbody>\n",
       "    <tr>\n",
       "      <th>0</th>\n",
       "      <td>World</td>\n",
       "      <td>480,864,842</td>\n",
       "      <td>+1,251,254</td>\n",
       "      <td>6,145,538</td>\n",
       "      <td>+3,102</td>\n",
       "    </tr>\n",
       "    <tr>\n",
       "      <th>1</th>\n",
       "      <td>China</td>\n",
       "      <td>141,986</td>\n",
       "      <td>+1,335</td>\n",
       "      <td>4,638</td>\n",
       "      <td>None</td>\n",
       "    </tr>\n",
       "    <tr>\n",
       "      <th>2</th>\n",
       "      <td>USA</td>\n",
       "      <td>81,616,936</td>\n",
       "      <td>+15,510</td>\n",
       "      <td>1,003,425</td>\n",
       "      <td>+221</td>\n",
       "    </tr>\n",
       "    <tr>\n",
       "      <th>3</th>\n",
       "      <td>India</td>\n",
       "      <td>43,019,453</td>\n",
       "      <td>+1,421</td>\n",
       "      <td>521,034</td>\n",
       "      <td>+149</td>\n",
       "    </tr>\n",
       "    <tr>\n",
       "      <th>4</th>\n",
       "      <td>Brazil</td>\n",
       "      <td>29,832,179</td>\n",
       "      <td>+29,922</td>\n",
       "      <td>658,812</td>\n",
       "      <td>+186</td>\n",
       "    </tr>\n",
       "  </tbody>\n",
       "</table>\n",
       "</div>"
      ],
      "text/plain": [
       "  Country   TotalCases    NewCases TotalDeaths NewDeaths\n",
       "0   World  480,864,842  +1,251,254   6,145,538    +3,102\n",
       "1   China      141,986      +1,335      4,638       None\n",
       "2     USA   81,616,936     +15,510  1,003,425       +221\n",
       "3   India   43,019,453      +1,421    521,034       +149\n",
       "4  Brazil   29,832,179     +29,922    658,812       +186"
      ]
     },
     "execution_count": 3,
     "metadata": {},
     "output_type": "execute_result"
    }
   ],
   "source": [
    "df"
   ]
  },
  {
   "cell_type": "code",
   "execution_count": 5,
   "id": "41db0436",
   "metadata": {},
   "outputs": [],
   "source": [
    "df.to_csv('covid_data.csv')"
   ]
  },
  {
   "cell_type": "code",
   "execution_count": null,
   "id": "17aea1f9",
   "metadata": {},
   "outputs": [],
   "source": []
  }
 ],
 "metadata": {
  "kernelspec": {
   "display_name": "Python 3 (ipykernel)",
   "language": "python",
   "name": "python3"
  },
  "language_info": {
   "codemirror_mode": {
    "name": "ipython",
    "version": 3
   },
   "file_extension": ".py",
   "mimetype": "text/x-python",
   "name": "python",
   "nbconvert_exporter": "python",
   "pygments_lexer": "ipython3",
   "version": "3.8.5"
  }
 },
 "nbformat": 4,
 "nbformat_minor": 5
}
