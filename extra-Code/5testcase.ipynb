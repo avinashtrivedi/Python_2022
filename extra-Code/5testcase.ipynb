{
 "cells": [
  {
   "cell_type": "code",
   "execution_count": 137,
   "metadata": {},
   "outputs": [
    {
     "name": "stdout",
     "output_type": "stream",
     "text": [
      "4\n",
      "(0, 2)\n"
     ]
    }
   ],
   "source": [
    "def prefix_match(dictionary, query):\n",
    "    \"\"\"Returns the range of words in dictionary which have a prefix matching query\"\"\"\n",
    "    print(len(dictionary))\n",
    "    if len(dictionary) == 0:\n",
    "        print('dictionary len is zero')\n",
    "        return None\n",
    "#   if query not in dictionary:\n",
    "#     print('no query')\n",
    "#     return None\n",
    "  \n",
    "    #right_most_prefix(dictionary\n",
    "   # ,query, 0,len(dictionary)-1)\n",
    "\n",
    "    if len(dictionary)==1 and dictionary[len(dictionary)-1][:len(query)]==query:\n",
    "        return (len(dictionary)-1,len(dictionary))\n",
    "\n",
    "    left_prefix = left_most_prefix(dictionary,query, 0, len(dictionary)-1)\n",
    "    right_prefix = right_most_prefix (dictionary,query, left_prefix, len(dictionary)-1)\n",
    "    return (left_prefix,right_prefix)\n",
    "  #, right_most_prefix\n",
    "\n",
    "def left_most_prefix(dictionary,query, left, right):\n",
    "    if left > right:\n",
    "        return (0,0)\n",
    "    mid = (left + right)//2\n",
    " \n",
    "    if len(query) <= len(dictionary[mid]):\n",
    "   \n",
    "        if query == dictionary[mid][:len(query)] and query not in dictionary[mid-1][:len(query)] or  mid == 0:\n",
    "        #         print(mid-1,'query is not in mid -1')\n",
    "            return mid\n",
    "        else:\n",
    "            return left_most_prefix(dictionary, query, left, mid-1)\n",
    "\n",
    "\n",
    "\n",
    "def right_most_prefix(dictionary,query, left,right):\n",
    "    mid = (left + right)//2\n",
    "    if left > right:\n",
    "        return 0\n",
    "    if len(query) <= len(dictionary[mid]):\n",
    "        if (query == dictionary[mid][:len(query)] and query not in dictionary[mid+1][:len(query)]) or mid !=(len(dictionary)-1):\n",
    "            return mid+1\n",
    "    else:\n",
    "        return left_most_prefix(dictionary, query, mid-1, right)       \n",
    "\n",
    "\n",
    "\n",
    "\n",
    "lst = ['apple','car','carsport','dog', 'eggs', 'fan']\n",
    "\n",
    "\n",
    "test1 =  [\"apple\", \"apricot\", \"azure\", \"be\", \"bes\", \"best\", \"bestiary\", \"better\", \"zebra\"]\n",
    "t1 = 'bes'\n",
    "test2 = [\"word\", \"zebra\"]\n",
    "t2 = 'a'\n",
    "test3 = [\"apple\", \"apricot\", \"azure\", \"be\", \"bes\", \"best\", \"bestiary\", \"better\", \"zebra\"]\n",
    "t3 = 'bes'\n",
    "test4 = [\"apple\", \"apricot\", \"best\", \"zebra\"]\n",
    "t4 = 'apl'\n",
    "test5 = ['cat']\n",
    "t5 = 'c'\n",
    "\n",
    "print(prefix_match(test4,t4))"
   ]
  },
  {
   "cell_type": "code",
   "execution_count": 108,
   "metadata": {},
   "outputs": [
    {
     "data": {
      "text/plain": [
       "['cat']"
      ]
     },
     "execution_count": 108,
     "metadata": {},
     "output_type": "execute_result"
    }
   ],
   "source": [
    "test5[][:len(t5)]"
   ]
  },
  {
   "cell_type": "code",
   "execution_count": 109,
   "metadata": {},
   "outputs": [
    {
     "data": {
      "text/plain": [
       "1"
      ]
     },
     "execution_count": 109,
     "metadata": {},
     "output_type": "execute_result"
    }
   ],
   "source": [
    "len(t5)"
   ]
  },
  {
   "cell_type": "code",
   "execution_count": 4,
   "metadata": {},
   "outputs": [],
   "source": [
    "def hello():\n",
    "    return "
   ]
  },
  {
   "cell_type": "code",
   "execution_count": 6,
   "metadata": {},
   "outputs": [
    {
     "data": {
      "text/plain": [
       "True"
      ]
     },
     "execution_count": 6,
     "metadata": {},
     "output_type": "execute_result"
    }
   ],
   "source": [
    "hello() == None"
   ]
  },
  {
   "cell_type": "code",
   "execution_count": 73,
   "metadata": {},
   "outputs": [],
   "source": [
    "def left_most_prefix(dictionary,query, left, right):\n",
    "  if left > right:\n",
    "    return (0,0)\n",
    "  mid = (left + right)//2\n",
    " \n",
    "  if len(query) <= len(dictionary[mid]):\n",
    "      if \n",
    "   \n",
    "      if query == dictionary[mid][:len(query)] and query not in dictionary[mid-1][:len(query)] or  mid == 0:\n",
    "        print(mid-1,'query is not in mid -1')\n",
    "        return mid\n",
    "      else:\n",
    "        return left_most_prefix(dictionary, query, left, mid-1)"
   ]
  },
  {
   "cell_type": "code",
   "execution_count": null,
   "metadata": {},
   "outputs": [],
   "source": []
  },
  {
   "cell_type": "code",
   "execution_count": 84,
   "metadata": {},
   "outputs": [],
   "source": [
    "def right_most_prefix(dictionary,query, left,right):\n",
    "  mid = (left + right)//2\n",
    "  if left > right:\n",
    "    return 0\n",
    "  if len(query) <= len(dictionary[mid]):\n",
    "    if (query == dictionary[mid][:len(query)] and query not in dictionary[mid+1][:len(query)]) or mid !=(len(dictionary)-1):\n",
    "        return mid+1\n",
    "    else:\n",
    "        return left_most_prefix(dictionary, query, mid-1, right)       "
   ]
  },
  {
   "cell_type": "code",
   "execution_count": 86,
   "metadata": {},
   "outputs": [
    {
     "ename": "IndexError",
     "evalue": "list index out of range",
     "output_type": "error",
     "traceback": [
      "\u001b[1;31m---------------------------------------------------------------------------\u001b[0m",
      "\u001b[1;31mIndexError\u001b[0m                                Traceback (most recent call last)",
      "\u001b[1;32m<ipython-input-86-dd6f4db6bead>\u001b[0m in \u001b[0;36m<module>\u001b[1;34m\u001b[0m\n\u001b[1;32m----> 1\u001b[1;33m \u001b[0mright_most_prefix\u001b[0m\u001b[1;33m(\u001b[0m\u001b[0mtest5\u001b[0m\u001b[1;33m,\u001b[0m\u001b[0mt5\u001b[0m\u001b[1;33m,\u001b[0m \u001b[1;36m0\u001b[0m\u001b[1;33m,\u001b[0m \u001b[0mlen\u001b[0m\u001b[1;33m(\u001b[0m\u001b[0mtest5\u001b[0m\u001b[1;33m)\u001b[0m\u001b[1;33m-\u001b[0m\u001b[1;36m1\u001b[0m\u001b[1;33m)\u001b[0m\u001b[1;33m\u001b[0m\u001b[1;33m\u001b[0m\u001b[0m\n\u001b[0m",
      "\u001b[1;32m<ipython-input-84-18c9149163e0>\u001b[0m in \u001b[0;36mright_most_prefix\u001b[1;34m(dictionary, query, left, right)\u001b[0m\n\u001b[0;32m      4\u001b[0m     \u001b[1;32mreturn\u001b[0m \u001b[1;36m0\u001b[0m\u001b[1;33m\u001b[0m\u001b[1;33m\u001b[0m\u001b[0m\n\u001b[0;32m      5\u001b[0m   \u001b[1;32mif\u001b[0m \u001b[0mlen\u001b[0m\u001b[1;33m(\u001b[0m\u001b[0mquery\u001b[0m\u001b[1;33m)\u001b[0m \u001b[1;33m<=\u001b[0m \u001b[0mlen\u001b[0m\u001b[1;33m(\u001b[0m\u001b[0mdictionary\u001b[0m\u001b[1;33m[\u001b[0m\u001b[0mmid\u001b[0m\u001b[1;33m]\u001b[0m\u001b[1;33m)\u001b[0m\u001b[1;33m:\u001b[0m\u001b[1;33m\u001b[0m\u001b[1;33m\u001b[0m\u001b[0m\n\u001b[1;32m----> 6\u001b[1;33m     \u001b[1;32mif\u001b[0m \u001b[1;33m(\u001b[0m\u001b[0mquery\u001b[0m \u001b[1;33m==\u001b[0m \u001b[0mdictionary\u001b[0m\u001b[1;33m[\u001b[0m\u001b[0mmid\u001b[0m\u001b[1;33m]\u001b[0m\u001b[1;33m[\u001b[0m\u001b[1;33m:\u001b[0m\u001b[0mlen\u001b[0m\u001b[1;33m(\u001b[0m\u001b[0mquery\u001b[0m\u001b[1;33m)\u001b[0m\u001b[1;33m]\u001b[0m \u001b[1;32mand\u001b[0m \u001b[0mquery\u001b[0m \u001b[1;32mnot\u001b[0m \u001b[1;32min\u001b[0m \u001b[0mdictionary\u001b[0m\u001b[1;33m[\u001b[0m\u001b[0mmid\u001b[0m\u001b[1;33m+\u001b[0m\u001b[1;36m1\u001b[0m\u001b[1;33m]\u001b[0m\u001b[1;33m[\u001b[0m\u001b[1;33m:\u001b[0m\u001b[0mlen\u001b[0m\u001b[1;33m(\u001b[0m\u001b[0mquery\u001b[0m\u001b[1;33m)\u001b[0m\u001b[1;33m]\u001b[0m\u001b[1;33m)\u001b[0m \u001b[1;32mor\u001b[0m \u001b[0mmid\u001b[0m \u001b[1;33m!=\u001b[0m\u001b[1;33m(\u001b[0m\u001b[0mlen\u001b[0m\u001b[1;33m(\u001b[0m\u001b[0mdictionary\u001b[0m\u001b[1;33m)\u001b[0m\u001b[1;33m-\u001b[0m\u001b[1;36m1\u001b[0m\u001b[1;33m)\u001b[0m\u001b[1;33m:\u001b[0m\u001b[1;33m\u001b[0m\u001b[1;33m\u001b[0m\u001b[0m\n\u001b[0m\u001b[0;32m      7\u001b[0m         \u001b[1;32mreturn\u001b[0m \u001b[0mmid\u001b[0m\u001b[1;33m+\u001b[0m\u001b[1;36m1\u001b[0m\u001b[1;33m\u001b[0m\u001b[1;33m\u001b[0m\u001b[0m\n\u001b[0;32m      8\u001b[0m     \u001b[1;32melse\u001b[0m\u001b[1;33m:\u001b[0m\u001b[1;33m\u001b[0m\u001b[1;33m\u001b[0m\u001b[0m\n",
      "\u001b[1;31mIndexError\u001b[0m: list index out of range"
     ]
    }
   ],
   "source": [
    "right_most_prefix(test5,t5, 0, len(test5)-1)"
   ]
  },
  {
   "cell_type": "code",
   "execution_count": 74,
   "metadata": {},
   "outputs": [
    {
     "data": {
      "text/plain": [
       "True"
      ]
     },
     "execution_count": 74,
     "metadata": {},
     "output_type": "execute_result"
    }
   ],
   "source": [
    "query = t5\n",
    "dictionary = test5\n",
    "left = 0\n",
    "right = len(dictionary) - 1 \n",
    "mid = (left + right)//2\n",
    "len(query) <= len(dictionary[mid])"
   ]
  },
  {
   "cell_type": "code",
   "execution_count": 81,
   "metadata": {},
   "outputs": [
    {
     "data": {
      "text/plain": [
       "0"
      ]
     },
     "execution_count": 81,
     "metadata": {},
     "output_type": "execute_result"
    }
   ],
   "source": [
    "mid"
   ]
  },
  {
   "cell_type": "code",
   "execution_count": 78,
   "metadata": {},
   "outputs": [
    {
     "data": {
      "text/plain": [
       "False"
      ]
     },
     "execution_count": 78,
     "metadata": {},
     "output_type": "execute_result"
    }
   ],
   "source": [
    "query not in dictionary[mid-1][:len(query)]"
   ]
  },
  {
   "cell_type": "code",
   "execution_count": 80,
   "metadata": {},
   "outputs": [
    {
     "data": {
      "text/plain": [
       "['cat']"
      ]
     },
     "execution_count": 80,
     "metadata": {},
     "output_type": "execute_result"
    }
   ],
   "source": [
    "dictionary"
   ]
  },
  {
   "cell_type": "code",
   "execution_count": 83,
   "metadata": {},
   "outputs": [
    {
     "data": {
      "text/plain": [
       "'c'"
      ]
     },
     "execution_count": 83,
     "metadata": {},
     "output_type": "execute_result"
    }
   ],
   "source": [
    "dictionary[-1][:len(query)]"
   ]
  },
  {
   "cell_type": "code",
   "execution_count": null,
   "metadata": {},
   "outputs": [],
   "source": []
  },
  {
   "cell_type": "code",
   "execution_count": 64,
   "metadata": {},
   "outputs": [],
   "source": [
    "def right_most_prefix(dictionary,query, left,right):\n",
    "  mid = (left + right)//2\n",
    "  if left > right:\n",
    "    return 0\n",
    "  if len(query) <= len(dictionary[mid]):\n",
    "    if query == dictionary[mid][:len(query)] and query not in dictionary[mid+1][:len(query)] or mid ==(len(dictionary)-1):\n",
    "        return mid+1\n",
    "    else:\n",
    "        return left_most_prefix(dictionary, query, mid-1, right)       "
   ]
  },
  {
   "cell_type": "code",
   "execution_count": 65,
   "metadata": {},
   "outputs": [],
   "source": [
    "right_most_prefix(test3,t3, 0, len(test3)-1)"
   ]
  },
  {
   "cell_type": "code",
   "execution_count": null,
   "metadata": {},
   "outputs": [],
   "source": []
  },
  {
   "cell_type": "code",
   "execution_count": null,
   "metadata": {},
   "outputs": [],
   "source": [
    "query == dictionary[mid][:len(query)]"
   ]
  },
  {
   "cell_type": "code",
   "execution_count": 42,
   "metadata": {},
   "outputs": [
    {
     "data": {
      "text/plain": [
       "'bes'"
      ]
     },
     "execution_count": 42,
     "metadata": {},
     "output_type": "execute_result"
    }
   ],
   "source": [
    "query not in dictionary[mid+1][:len(query)]"
   ]
  },
  {
   "cell_type": "code",
   "execution_count": 44,
   "metadata": {},
   "outputs": [
    {
     "data": {
      "text/plain": [
       "'bes'"
      ]
     },
     "execution_count": 44,
     "metadata": {},
     "output_type": "execute_result"
    }
   ],
   "source": [
    "dictionary[mid+1][:len(query)]"
   ]
  },
  {
   "cell_type": "code",
   "execution_count": 39,
   "metadata": {},
   "outputs": [
    {
     "data": {
      "text/plain": [
       "True"
      ]
     },
     "execution_count": 39,
     "metadata": {},
     "output_type": "execute_result"
    }
   ],
   "source": [
    "query = t3\n",
    "dictionary = test3\n",
    "left = 0\n",
    "right = len(dictionary) - 1 \n",
    "mid = (left + right)//2\n",
    "len(query) <= len(dictionary[mid])"
   ]
  },
  {
   "cell_type": "code",
   "execution_count": null,
   "metadata": {},
   "outputs": [],
   "source": []
  },
  {
   "cell_type": "code",
   "execution_count": 33,
   "metadata": {},
   "outputs": [
    {
     "data": {
      "text/plain": [
       "'bes'"
      ]
     },
     "execution_count": 33,
     "metadata": {},
     "output_type": "execute_result"
    }
   ],
   "source": [
    "query"
   ]
  },
  {
   "cell_type": "code",
   "execution_count": 32,
   "metadata": {},
   "outputs": [
    {
     "data": {
      "text/plain": [
       "'bes'"
      ]
     },
     "execution_count": 32,
     "metadata": {},
     "output_type": "execute_result"
    }
   ],
   "source": [
    "dictionary[mid]"
   ]
  },
  {
   "cell_type": "code",
   "execution_count": null,
   "metadata": {},
   "outputs": [],
   "source": []
  },
  {
   "cell_type": "code",
   "execution_count": null,
   "metadata": {},
   "outputs": [],
   "source": []
  },
  {
   "cell_type": "code",
   "execution_count": null,
   "metadata": {},
   "outputs": [],
   "source": []
  },
  {
   "cell_type": "code",
   "execution_count": 18,
   "metadata": {},
   "outputs": [
    {
     "data": {
      "text/plain": [
       "'bes'"
      ]
     },
     "execution_count": 18,
     "metadata": {},
     "output_type": "execute_result"
    }
   ],
   "source": [
    "query"
   ]
  },
  {
   "cell_type": "code",
   "execution_count": 17,
   "metadata": {},
   "outputs": [
    {
     "data": {
      "text/plain": [
       "'bes'"
      ]
     },
     "execution_count": 17,
     "metadata": {},
     "output_type": "execute_result"
    }
   ],
   "source": [
    "dictionary[mid]"
   ]
  },
  {
   "cell_type": "code",
   "execution_count": 9,
   "metadata": {},
   "outputs": [
    {
     "data": {
      "text/plain": [
       "True"
      ]
     },
     "execution_count": 9,
     "metadata": {},
     "output_type": "execute_result"
    }
   ],
   "source": [
    "left_most_prefix(test3,t3, 0, len(test3)-1) == None"
   ]
  },
  {
   "cell_type": "code",
   "execution_count": 10,
   "metadata": {},
   "outputs": [
    {
     "data": {
      "text/plain": [
       "9"
      ]
     },
     "execution_count": 10,
     "metadata": {},
     "output_type": "execute_result"
    }
   ],
   "source": [
    "len(test3)"
   ]
  },
  {
   "cell_type": "code",
   "execution_count": 12,
   "metadata": {},
   "outputs": [
    {
     "data": {
      "text/plain": [
       "['be',\n",
       " 'bes',\n",
       " 'best',\n",
       " 'apple',\n",
       " 'azure',\n",
       " 'zebra',\n",
       " 'better',\n",
       " 'apricot',\n",
       " 'bestiary']"
      ]
     },
     "execution_count": 12,
     "metadata": {},
     "output_type": "execute_result"
    }
   ],
   "source": [
    "sorted(test3,key = lambda x: len(x))"
   ]
  },
  {
   "cell_type": "code",
   "execution_count": 139,
   "metadata": {},
   "outputs": [
    {
     "name": "stdout",
     "output_type": "stream",
     "text": [
      "-1 query is not in mid -1\n",
      "(0, 1)\n"
     ]
    }
   ],
   "source": [
    "# See instructions for a full description of this problem\n",
    "def prefix_match(dictionary, query):\n",
    "    \"\"\"Returns the range of words in dictionary which have a prefix matching query\"\"\"\n",
    "    if len(query) == 0:\n",
    "        return (0, len(dictionary))\n",
    "\n",
    "#     print(len(dictionary))\n",
    "  #if query not in dictionary:\n",
    "   #   print('see')\n",
    "    #  return None\n",
    "\n",
    "    if len(dictionary)==1 and dictionary[len(dictionary)-1][:len(query)]==query:\n",
    "#         print('another test')\n",
    "        return (len(dictionary) - 1, len(dictionary))\n",
    "        #right_most_prefix(dictionary\n",
    "    # ,query, 0,len(dictionary)-1)\n",
    "    left_prefix = left_most_prefix(dictionary, query, 0, len(dictionary) - 1)\n",
    "    right_prefix = right_most_prefix(dictionary, query, left_prefix,len(dictionary) - 1)\n",
    "    return (left_prefix, right_prefix)\n",
    "#, right_most_prefix\n",
    "\n",
    "\n",
    "def left_most_prefix(dictionary, query, left, right):\n",
    "    if left > right:\n",
    "        return (0, 0)\n",
    "    mid = (left + right) // 2\n",
    "\n",
    "    if len(query) <= len(dictionary[mid]):\n",
    "\n",
    "        if query == dictionary[mid][:len(query)] and query not in dictionary[mid - 1][:len(query)] or mid == 0:\n",
    "            print(mid - 1, 'query is not in mid -1')\n",
    "            return mid\n",
    "        else:\n",
    "            return left_most_prefix(dictionary, query, left, mid - 1)\n",
    "\n",
    "\n",
    "def right_most_prefix(dictionary, query, left, right):\n",
    "    mid = (left + right) // 2\n",
    "    if left > right:\n",
    "        return (0, 0)\n",
    "    if len(query) <= len(dictionary[mid]):\n",
    "        if query == dictionary[mid][:len(query)] and query not in dictionary[mid + 1][:len(query)] or mid != len(dictionary) - 1:\n",
    "            return mid + 1\n",
    "        else:\n",
    "            return right_most_prefix(dictionary, query, mid - 1, right)\n",
    "\n",
    "\n",
    "lst = ['apple', 'car', 'carsport', 'dog', 'eggs', 'fan']\n",
    "\n",
    "test1 = [\n",
    "    \"apple\", \"apricot\", \"azure\", \"be\", \"bes\", \"best\", \"bestiary\", \"better\",\n",
    "    \"zebra\"\n",
    "]\n",
    "t1 = 'bes'\n",
    "test2 = [\"word\", \"zebra\"]\n",
    "t2 = 'a'\n",
    "test3 = [\n",
    "    \"apple\", \"apricot\", \"azure\", \"be\", \"bes\", \"best\", \"bestiary\", \"better\",\n",
    "    \"zebra\"\n",
    "]\n",
    "t3 = 'bes'\n",
    "test4 = [\"apple\", \"apricot\", \"best\", \"zebra\"]\n",
    "t4 = 'apl'\n",
    "test5 = ['cat']\n",
    "t5 = 'c'\n",
    "\n",
    "print(prefix_match(test2, t2))\n"
   ]
  },
  {
   "cell_type": "code",
   "execution_count": 178,
   "metadata": {},
   "outputs": [],
   "source": [
    "# See instructions for a full description of this problem\n",
    "def prefix_match(dictionary, query):\n",
    "    \"\"\"Returns the range of words in dictionary which have a prefix matching query\"\"\"\n",
    "    if len(query) == 0:\n",
    "        return (0, len(dictionary))\n",
    "\n",
    "    print(len(dictionary))\n",
    "    if len(dictionary) == 0:\n",
    "        return None\n",
    "    \n",
    "    if len(dictionary)==1 and dictionary[len(dictionary)-1][:len(query)]==query:\n",
    "        return (len(dictionary)-1,len(dictionary))\n",
    "\n",
    "    if query not in dictionary:\n",
    "        print('see')\n",
    "        return None\n",
    "\n",
    "#   if(len(dictionary) == 1) and query in dictionary[][:len(query)]:\n",
    "#    print('len(dic) is 1')\n",
    "#     return (len(dictionary) - 1, len(dictionary))\n",
    "        #right_most_prefix(dictionary\n",
    "    # ,query, 0,len(dictionary)-1)\n",
    "    left_prefix = left_most_prefix(dictionary, query, 0, len(dictionary) - 1)\n",
    "    right_prefix = right_most_prefix(dictionary, query, left_prefix,\n",
    "                                     len(dictionary) - 1)\n",
    "    return (left_prefix, right_prefix)\n",
    "    #, right_most_prefix\n",
    "\n",
    "\n",
    "def left_most_prefix(dictionary, query, left, right):\n",
    "    if left > right:\n",
    "        return (0, 0)\n",
    "    mid = (left + right) // 2\n",
    "\n",
    "    if len(query) <= len(dictionary[mid]):\n",
    "\n",
    "        if query == dictionary[mid][:len(query)] and query not in dictionary[\n",
    "                mid - 1][:len(query)] or mid == 0:\n",
    "            print(mid - 1, 'query is not in mid -1')\n",
    "            return mid\n",
    "        else:\n",
    "            return left_most_prefix(dictionary, query, left, mid - 1)\n",
    "\n",
    "\n",
    "def right_most_prefix(dictionary, query, left, right):\n",
    "    mid = (left + right) // 2\n",
    "    if left > right:\n",
    "        return (0, 0)\n",
    "    if len(query) <= len(dictionary[mid]):\n",
    "        if query == dictionary[mid][:len(query)] and query not in dictionary[\n",
    "                mid + 1][:len(query)] or mid != len(dictionary) - 1:\n",
    "            return mid + 1\n",
    "        else:\n",
    "            return right_most_prefix(dictionary, query, mid - 1, right)\n",
    "\n",
    "\n",
    "lst = ['apple', 'car', 'carsport', 'dog', 'eggs', 'fan']\n",
    "\n",
    "test1 = [\n",
    "    \"apple\", \"apricot\", \"azure\", \"be\", \"bes\", \"best\", \"bestiary\", \"better\",\n",
    "    \"zebra\"\n",
    "]\n",
    "t1 = 'bes'\n",
    "test2 = [\"word\", \"zebra\"]\n",
    "t2 = 'a'\n",
    "test3 = [\n",
    "    \"apple\", \"apricot\", \"azure\", \"be\", \"bes\", \"best\", \"bestiary\", \"better\",\n",
    "    \"zebra\"\n",
    "]\n",
    "t3 = 'bes'\n",
    "test4 = [\"apple\", \"apricot\", \"best\", \"zebra\"]\n",
    "t4 = 'apl'\n",
    "test5 = ['cat']\n",
    "t5 = 'c'\n",
    "\n",
    "# print(prefix_match(test1, t1))\n"
   ]
  },
  {
   "cell_type": "code",
   "execution_count": 149,
   "metadata": {},
   "outputs": [
    {
     "name": "stdout",
     "output_type": "stream",
     "text": [
      "None ['apple', 'apricot', 'azure', 'be', 'bes', 'best', 'bestiary', 'better', 'zebra'] bes\n",
      "None ['word', 'zebra'] a\n",
      "None ['apple', 'apricot', 'azure', 'be', 'bes', 'best', 'bestiary', 'better', 'zebra'] bes\n",
      "None ['apple', 'apricot', 'best', 'zebra'] apl\n",
      "None ['cat'] c\n"
     ]
    }
   ],
   "source": [
    "for d,q in zip([test1,test2,test3,test4,test5],[t1,t2,t3,t4,t5]):\n",
    "    print(prefix_match(d, q),d,q)"
   ]
  },
  {
   "cell_type": "code",
   "execution_count": 183,
   "metadata": {},
   "outputs": [
    {
     "name": "stdout",
     "output_type": "stream",
     "text": [
      "9\n",
      "3 query is not in mid -1\n",
      "2\n",
      "see\n",
      "4\n",
      "see\n",
      "1\n",
      "ALL TEST CASES PASSED\n"
     ]
    },
    {
     "name": "stderr",
     "output_type": "stream",
     "text": [
      "<ipython-input-183-57ae2dbdaa4c>:6: DeprecationWarning: Please use assertEqual instead.\n",
      "  self.assertEquals(prefix_match( [\"apple\", \"apricot\", \"azure\", \"be\", \"bes\", \"best\", \"bestiary\", \"better\", \"zebra\"], \"bes\"), (4,7))\n",
      "<ipython-input-183-57ae2dbdaa4c>:7: DeprecationWarning: Please use assertEqual instead.\n",
      "  self.assertEquals(prefix_match([\"word\", \"zebra\"],\"a\"), None)\n",
      "<ipython-input-183-57ae2dbdaa4c>:8: DeprecationWarning: Please use assertEqual instead.\n",
      "  self.assertEquals(prefix_match([\"apple\", \"apricot\", \"best\", \"zebra\"], \"apl\"), None)\n",
      "<ipython-input-183-57ae2dbdaa4c>:9: DeprecationWarning: Please use assertEqual instead.\n",
      "  self.assertEquals(prefix_match([\"word\"], \"w\"), (0,1))\n",
      "<ipython-input-183-57ae2dbdaa4c>:10: DeprecationWarning: Please use assertEqual instead.\n",
      "  self.assertEquals(prefix_match([\"apple\", \"apricot\", \"best\", \"zebra\"], \"\"), (0,4))\n"
     ]
    }
   ],
   "source": [
    "import unittest\n",
    "\n",
    "class TestBalanceCheck(unittest.TestCase):\n",
    "\n",
    "    def test(self):\n",
    "        self.assertEquals(prefix_match( [\"apple\", \"apricot\", \"azure\", \"be\", \"bes\", \"best\", \"bestiary\", \"better\", \"zebra\"], \"bes\"), (4,7))\n",
    "        self.assertEquals(prefix_match([\"word\", \"zebra\"],\"a\"), None)\n",
    "        self.assertEquals(prefix_match([\"apple\", \"apricot\", \"best\", \"zebra\"], \"apl\"), None)\n",
    "        self.assertEquals(prefix_match([\"word\"], \"w\"), (0,1))\n",
    "        self.assertEquals(prefix_match([\"apple\", \"apricot\", \"best\", \"zebra\"], \"\"), (0,4))\n",
    "        print('ALL TEST CASES PASSED')\n",
    "    \n",
    "t = TestBalanceCheck()\n",
    "t.test()"
   ]
  },
  {
   "cell_type": "code",
   "execution_count": null,
   "metadata": {},
   "outputs": [],
   "source": []
  },
  {
   "cell_type": "code",
   "execution_count": null,
   "metadata": {},
   "outputs": [],
   "source": []
  },
  {
   "cell_type": "code",
   "execution_count": 152,
   "metadata": {},
   "outputs": [
    {
     "ename": "NameError",
     "evalue": "name 'assertEquals' is not defined",
     "output_type": "error",
     "traceback": [
      "\u001b[1;31m---------------------------------------------------------------------------\u001b[0m",
      "\u001b[1;31mNameError\u001b[0m                                 Traceback (most recent call last)",
      "\u001b[1;32m<ipython-input-152-7a8d3a712405>\u001b[0m in \u001b[0;36m<module>\u001b[1;34m\u001b[0m\n\u001b[1;32m----> 1\u001b[1;33m \u001b[0massertEquals\u001b[0m\u001b[1;33m(\u001b[0m\u001b[0mprefix_match\u001b[0m\u001b[1;33m(\u001b[0m \u001b[1;33m[\u001b[0m\u001b[1;34m\"apple\"\u001b[0m\u001b[1;33m,\u001b[0m \u001b[1;34m\"apricot\"\u001b[0m\u001b[1;33m,\u001b[0m \u001b[1;34m\"azure\"\u001b[0m\u001b[1;33m,\u001b[0m \u001b[1;34m\"be\"\u001b[0m\u001b[1;33m,\u001b[0m \u001b[1;34m\"bes\"\u001b[0m\u001b[1;33m,\u001b[0m \u001b[1;34m\"best\"\u001b[0m\u001b[1;33m,\u001b[0m \u001b[1;34m\"bestiary\"\u001b[0m\u001b[1;33m,\u001b[0m \u001b[1;34m\"better\"\u001b[0m\u001b[1;33m,\u001b[0m \u001b[1;34m\"zebra\"\u001b[0m\u001b[1;33m]\u001b[0m\u001b[1;33m,\u001b[0m \u001b[1;34m\"bes\"\u001b[0m\u001b[1;33m)\u001b[0m\u001b[1;33m,\u001b[0m \u001b[1;33m(\u001b[0m\u001b[1;36m4\u001b[0m\u001b[1;33m,\u001b[0m\u001b[1;36m7\u001b[0m\u001b[1;33m)\u001b[0m\u001b[1;33m)\u001b[0m\u001b[1;33m\u001b[0m\u001b[1;33m\u001b[0m\u001b[0m\n\u001b[0m\u001b[0;32m      2\u001b[0m \u001b[0massertEquals\u001b[0m\u001b[1;33m(\u001b[0m\u001b[0mprefix_match\u001b[0m\u001b[1;33m(\u001b[0m\u001b[1;33m[\u001b[0m\u001b[1;34m\"word\"\u001b[0m\u001b[1;33m,\u001b[0m \u001b[1;34m\"zebra\"\u001b[0m\u001b[1;33m]\u001b[0m\u001b[1;33m,\u001b[0m\u001b[1;34m\"a\"\u001b[0m\u001b[1;33m)\u001b[0m\u001b[1;33m,\u001b[0m \u001b[1;32mNone\u001b[0m\u001b[1;33m)\u001b[0m\u001b[1;33m\u001b[0m\u001b[1;33m\u001b[0m\u001b[0m\n\u001b[0;32m      3\u001b[0m \u001b[0massertEquals\u001b[0m\u001b[1;33m(\u001b[0m\u001b[0mprefix_match\u001b[0m\u001b[1;33m(\u001b[0m\u001b[1;33m[\u001b[0m\u001b[1;34m\"apple\"\u001b[0m\u001b[1;33m,\u001b[0m \u001b[1;34m\"apricot\"\u001b[0m\u001b[1;33m,\u001b[0m \u001b[1;34m\"best\"\u001b[0m\u001b[1;33m,\u001b[0m \u001b[1;34m\"zebra\"\u001b[0m\u001b[1;33m]\u001b[0m\u001b[1;33m,\u001b[0m \u001b[1;34m\"apl\"\u001b[0m\u001b[1;33m)\u001b[0m\u001b[1;33m,\u001b[0m \u001b[1;32mNone\u001b[0m\u001b[1;33m)\u001b[0m\u001b[1;33m\u001b[0m\u001b[1;33m\u001b[0m\u001b[0m\n\u001b[0;32m      4\u001b[0m \u001b[0massertEquals\u001b[0m\u001b[1;33m(\u001b[0m\u001b[0mprefix_match\u001b[0m\u001b[1;33m(\u001b[0m\u001b[1;33m[\u001b[0m\u001b[1;34m\"word\"\u001b[0m\u001b[1;33m]\u001b[0m\u001b[1;33m,\u001b[0m \u001b[1;34m\"w\"\u001b[0m\u001b[1;33m)\u001b[0m\u001b[1;33m,\u001b[0m \u001b[1;33m(\u001b[0m\u001b[1;36m0\u001b[0m\u001b[1;33m,\u001b[0m\u001b[1;36m1\u001b[0m\u001b[1;33m)\u001b[0m\u001b[1;33m)\u001b[0m\u001b[1;33m\u001b[0m\u001b[1;33m\u001b[0m\u001b[0m\n\u001b[0;32m      5\u001b[0m \u001b[0massertEquals\u001b[0m\u001b[1;33m(\u001b[0m\u001b[0mprefix_match\u001b[0m\u001b[1;33m(\u001b[0m\u001b[1;33m[\u001b[0m\u001b[1;34m\"apple\"\u001b[0m\u001b[1;33m,\u001b[0m \u001b[1;34m\"apricot\"\u001b[0m\u001b[1;33m,\u001b[0m \u001b[1;34m\"best\"\u001b[0m\u001b[1;33m,\u001b[0m \u001b[1;34m\"zebra\"\u001b[0m\u001b[1;33m]\u001b[0m\u001b[1;33m,\u001b[0m \u001b[1;34m\"\"\u001b[0m\u001b[1;33m)\u001b[0m\u001b[1;33m,\u001b[0m \u001b[1;33m(\u001b[0m\u001b[1;36m0\u001b[0m\u001b[1;33m,\u001b[0m\u001b[1;36m4\u001b[0m\u001b[1;33m)\u001b[0m\u001b[1;33m)\u001b[0m\u001b[1;33m\u001b[0m\u001b[1;33m\u001b[0m\u001b[0m\n",
      "\u001b[1;31mNameError\u001b[0m: name 'assertEquals' is not defined"
     ]
    }
   ],
   "source": [
    "assertEquals(prefix_match( [\"apple\", \"apricot\", \"azure\", \"be\", \"bes\", \"best\", \"bestiary\", \"better\", \"zebra\"], \"bes\"), (4,7))\n",
    "assertEquals(prefix_match([\"word\", \"zebra\"],\"a\"), None)\n",
    "assertEquals(prefix_match([\"apple\", \"apricot\", \"best\", \"zebra\"], \"apl\"), None)\n",
    "assertEquals(prefix_match([\"word\"], \"w\"), (0,1))\n",
    "assertEquals(prefix_match([\"apple\", \"apricot\", \"best\", \"zebra\"], \"\"), (0,4))"
   ]
  },
  {
   "cell_type": "code",
   "execution_count": null,
   "metadata": {},
   "outputs": [],
   "source": []
  }
 ],
 "metadata": {
  "kernelspec": {
   "display_name": "Python 3",
   "language": "python",
   "name": "python3"
  },
  "language_info": {
   "codemirror_mode": {
    "name": "ipython",
    "version": 3
   },
   "file_extension": ".py",
   "mimetype": "text/x-python",
   "name": "python",
   "nbconvert_exporter": "python",
   "pygments_lexer": "ipython3",
   "version": "3.8.5"
  }
 },
 "nbformat": 4,
 "nbformat_minor": 4
}
