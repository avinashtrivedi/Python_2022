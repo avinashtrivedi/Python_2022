{
 "cells": [
  {
   "cell_type": "code",
   "execution_count": 1,
   "metadata": {},
   "outputs": [],
   "source": [
    "import tkinter as tk\n",
    "from functools import partial\n",
    "\n",
    "def Kilogram(l3, num1):\n",
    "    n1 = float(num1.get())\n",
    "    n3 = float(n1) *float(0.02835)\n",
    "    l3.config(text=\"Kilograms = %.5f\" % float(n3))\n",
    "    return\n",
    "\n",
    "def gram(l3, num1):\n",
    "    n1 = float(int(num1.get()))\n",
    "    n3 = n1 *28.3495\n",
    "    l3.config(text=\"grams = %.4f\" % n3)\n",
    "    return\n",
    "\n",
    "def pound(l3, num1):\n",
    "    n1 = float(int(num1.get()))\n",
    "    n3 = n1 *0.0625\n",
    "    l3.config(text=\"\\pounds = %.4f\" % n3)\n",
    "    return\n",
    "\n",
    "root = tk.Tk()\n",
    "root.title(\"Ounces Conversion\")\n",
    "root.geometry(\"500x400\")\n",
    "\n",
    "number1 = tk.StringVar()\n",
    "\n",
    "l1 = tk.Label(root, text=\"Enter ounces:\").place(x=20, y=60)\n",
    "\n",
    "t1 = tk.Entry(root, textvariable=number1).place(x=200, y=60)\n",
    "\n",
    "l2 = tk.Label(root, text=\"Choose a mass/weight:\").place(x=20, y=100)\n",
    "l3 = tk.Label(root, text=\"Result=\").place(x=25, y=200)\n",
    "\n",
    "labelResult = tk.Label(root)\n",
    "labelResult.place(x=20, y=200)\n",
    "\n",
    "Kilogram = partial(Kilogram, labelResult, number1)\n",
    "\n",
    "gram = partial(gram, labelResult, number1)\n",
    "\n",
    "pound = partial(pound, labelResult, number1)\n",
    "\n",
    "b1 = tk.Button(root, text=\"Kilograms\", command=Kilogram).place(x=20, y=130)\n",
    "b2 = tk.Button(root, text=\"grams\", command=gram).place(x=120, y=130)\n",
    "b3 = tk.Button(root, text=\"pounds\", command=pound).place(x=190, y=130)\n",
    "\n",
    "b2 = tk.Button(root, text=\"Quit\", command=root.destroy).place(x=20, y=235)\n",
    "\n",
    "root.mainloop()"
   ]
  },
  {
   "cell_type": "code",
   "execution_count": null,
   "metadata": {},
   "outputs": [],
   "source": []
  },
  {
   "cell_type": "code",
   "execution_count": null,
   "metadata": {},
   "outputs": [],
   "source": []
  },
  {
   "cell_type": "code",
   "execution_count": null,
   "metadata": {},
   "outputs": [],
   "source": []
  },
  {
   "cell_type": "code",
   "execution_count": null,
   "metadata": {},
   "outputs": [],
   "source": []
  }
 ],
 "metadata": {
  "kernelspec": {
   "display_name": "Python 3 (ipykernel)",
   "language": "python",
   "name": "python3"
  },
  "language_info": {
   "codemirror_mode": {
    "name": "ipython",
    "version": 3
   },
   "file_extension": ".py",
   "mimetype": "text/x-python",
   "name": "python",
   "nbconvert_exporter": "python",
   "pygments_lexer": "ipython3",
   "version": "3.8.5"
  }
 },
 "nbformat": 4,
 "nbformat_minor": 2
}
