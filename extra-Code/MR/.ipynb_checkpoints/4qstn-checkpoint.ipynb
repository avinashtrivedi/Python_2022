{
 "cells": [
  {
   "cell_type": "code",
   "execution_count": 1,
   "metadata": {},
   "outputs": [],
   "source": [
    "def form():\n",
    "    flag = False\n",
    "    for i in range(5):\n",
    "        fname = input(f\"Try {i+1} of 5 Please enter your first name (must be 2 characters or more): \")\n",
    "        if len(fname)>=2:\n",
    "            print('Hi',fname)\n",
    "            flag = True\n",
    "            break\n",
    "        else:\n",
    "            if i==4:\n",
    "                print(\"Sorry Can't proceed.\")\n",
    "\n",
    "    if flag==True:\n",
    "        flag1 = False\n",
    "        for i in range(5):\n",
    "            lname = input(f\"Try {i+1} of 5 Please enter your Last name (must be 2 characters or more): \")\n",
    "            if len(lname)>=2:\n",
    "                print('Hi',lname)\n",
    "                flag1 = True\n",
    "                break\n",
    "            else:\n",
    "                if i==4:\n",
    "                    print(\"Sorry Can't proceed.\")\n",
    "        if flag1==True:\n",
    "            for i in range(5):\n",
    "                try:\n",
    "                    age = int(input(f\"Try {i+1} of 5 What is your age (greater than 5): \"))\n",
    "                    if age>5:\n",
    "                        print(f'Hi {fname} {lname} age {age}.')\n",
    "                        print('Thank you for filling out the form')\n",
    "                        break\n",
    "                    else:\n",
    "                        if i==4:\n",
    "                            print(\"Sorry Can't proceed.\")\n",
    "                except:\n",
    "                    print(\"Not a valid number. Try again\")\n"
   ]
  },
  {
   "cell_type": "code",
   "execution_count": 2,
   "metadata": {},
   "outputs": [
    {
     "name": "stdout",
     "output_type": "stream",
     "text": [
      "Try 1 of 5 Please enter your first name (must be 2 characters or more): e\n",
      "Try 2 of 5 Please enter your first name (must be 2 characters or more): e\n",
      "Try 3 of 5 Please enter your first name (must be 2 characters or more): e\n",
      "Try 4 of 5 Please enter your first name (must be 2 characters or more): jose\n",
      "Hi jose\n",
      "Try 1 of 5 Please enter your Last name (must be 2 characters or more): martin\n",
      "Hi martin\n",
      "Try 1 of 5 What is your age (greater than 5): 87\n",
      "Hi jose martin age 87.\n",
      "Thank you for filling out the form\n"
     ]
    }
   ],
   "source": [
    "form()"
   ]
  },
  {
   "cell_type": "code",
   "execution_count": 3,
   "metadata": {},
   "outputs": [
    {
     "name": "stdout",
     "output_type": "stream",
     "text": [
      "set()\n",
      "{'toothbrush', 'soap', 'belt', 'pants', 'shirt', 'toothpaste'}\n",
      "{'yellow', 'green', 'red', 'black', 'blue', 'orange'}\n"
     ]
    }
   ],
   "source": [
    "def ltos(lsts):\n",
    "    'return a set of unique items found in nested lists'\n",
    "    return set(sum(lsts,[]))\n",
    "    \n",
    "print(ltos([]))\n",
    "print(ltos([['toothbrush','soap','toothpaste'],['pants','toothpaste','shirt'],['shirt','soap','belt']]))\n",
    "print(ltos([['red','green','blue'],['red','yellow','orange'],['blue','green','black']]))\n"
   ]
  },
  {
   "cell_type": "code",
   "execution_count": 4,
   "metadata": {},
   "outputs": [],
   "source": [
    "def uniqueWords(filename):\n",
    "    'returns a set of all unique words in a file. case ignored and punctuation must be removed. all errors must be caught'\n",
    "    try:\n",
    "        file=open(filename,'r')\n",
    "        content=file.read()\n",
    "        pattern = str.maketrans(',:?!;.',6*' ')\n",
    "        content = content.translate(pattern)\n",
    "        file.close()\n",
    "        content = content.lower()\n",
    "        content = content.split()\n",
    "        return set(content)\n",
    "    except FileNotFoundError:\n",
    "        print(\"Invalid file was used: {}\".format(filename))"
   ]
  },
  {
   "cell_type": "code",
   "execution_count": 5,
   "metadata": {},
   "outputs": [
    {
     "data": {
      "text/plain": [
       "{'a',\n",
       " 'across',\n",
       " 'advertising',\n",
       " 'algorithms',\n",
       " 'among',\n",
       " 'an',\n",
       " 'and',\n",
       " 'answer',\n",
       " 'applications',\n",
       " 'are',\n",
       " 'artifacts',\n",
       " 'artificial',\n",
       " 'arts',\n",
       " 'as',\n",
       " 'aspect',\n",
       " 'aspects',\n",
       " 'at',\n",
       " 'available',\n",
       " 'basic',\n",
       " 'be',\n",
       " 'become',\n",
       " 'bs',\n",
       " 'by',\n",
       " 'can',\n",
       " 'cdm',\n",
       " 'combines',\n",
       " 'complex',\n",
       " 'computational',\n",
       " 'computer',\n",
       " 'computing',\n",
       " 'constructed',\n",
       " 'contribute',\n",
       " 'culture',\n",
       " 'daily',\n",
       " 'day',\n",
       " 'depaul',\n",
       " 'devices',\n",
       " 'discipline',\n",
       " 'do',\n",
       " 'e-book',\n",
       " 'easily',\n",
       " 'engineering',\n",
       " 'ever',\n",
       " 'every',\n",
       " 'everywhere',\n",
       " 'few',\n",
       " 'finance',\n",
       " 'from',\n",
       " 'govern',\n",
       " 'have',\n",
       " 'how',\n",
       " 'human-computer',\n",
       " 'humans',\n",
       " 'important',\n",
       " 'in',\n",
       " 'intellectual',\n",
       " 'intelligence',\n",
       " 'interaction',\n",
       " 'interdisciplinary',\n",
       " 'is',\n",
       " 'life',\n",
       " 'lives',\n",
       " 'manufacturing',\n",
       " 'mastered',\n",
       " 'mathematics',\n",
       " 'modified',\n",
       " 'most',\n",
       " 'name',\n",
       " 'necessary',\n",
       " 'networks',\n",
       " 'of',\n",
       " 'once',\n",
       " 'opportunities',\n",
       " 'or',\n",
       " 'our',\n",
       " 'prepares',\n",
       " 'programming',\n",
       " 'programs',\n",
       " 'providing',\n",
       " 'questions',\n",
       " 'quietly',\n",
       " 'repaired',\n",
       " 'rewarding',\n",
       " 'richly',\n",
       " 'rules',\n",
       " 'science',\n",
       " 'sciences',\n",
       " 'services',\n",
       " 'sitting',\n",
       " 'skills',\n",
       " 'so',\n",
       " 'social',\n",
       " 'structured',\n",
       " 'students',\n",
       " 'such',\n",
       " 'systems',\n",
       " 'that',\n",
       " 'the',\n",
       " 'them',\n",
       " 'they',\n",
       " 'this',\n",
       " 'to',\n",
       " 'use',\n",
       " 'vital',\n",
       " 'vocabulary',\n",
       " 'we',\n",
       " 'well',\n",
       " 'what',\n",
       " 'with',\n",
       " 'work',\n",
       " 'world'}"
      ]
     },
     "execution_count": 5,
     "metadata": {},
     "output_type": "execute_result"
    }
   ],
   "source": [
    "uniqueWords('comp.txt')"
   ]
  },
  {
   "cell_type": "code",
   "execution_count": 6,
   "metadata": {},
   "outputs": [],
   "source": [
    "def utof(filename):\n",
    "    'Write unique food items entered during a session into a file. Overwrite the file if it already exists. You must use a set to track unique values.'\n",
    "    myfood = set()\n",
    "    file = open(filename,'w')\n",
    "    print('Please enter your favourite foods.')\n",
    "    while True:\n",
    "        food_item = input(\"Please enter a food  item or X ot exit: \")\n",
    "        if food_item != 'X':\n",
    "            myfood.add(food_item)\n",
    "            print(f'{food_item} added.')\n",
    "        elif food_item=='X':\n",
    "            break\n",
    "\n",
    "    for food in myfood:\n",
    "        file.write(food)\n",
    "        file.write('\\n')\n",
    "    file.close()\n",
    "    print(f\"Thanks for adding {len(myfood)} unique items\")"
   ]
  },
  {
   "cell_type": "code",
   "execution_count": 7,
   "metadata": {},
   "outputs": [
    {
     "name": "stdout",
     "output_type": "stream",
     "text": [
      "Please enter your favourite foods.\n",
      "Please enter a food  item or X ot exit: pizza\n",
      "pizza added.\n",
      "Please enter a food  item or X ot exit: pizza\n",
      "pizza added.\n",
      "Please enter a food  item or X ot exit: burger\n",
      "burger added.\n",
      "Please enter a food  item or X ot exit: sishi\n",
      "sishi added.\n",
      "Please enter a food  item or X ot exit: X\n",
      "Thanks for adding 3 unique items\n"
     ]
    }
   ],
   "source": [
    "utof('food.txt')"
   ]
  },
  {
   "cell_type": "code",
   "execution_count": 8,
   "metadata": {},
   "outputs": [
    {
     "data": {
      "text/plain": [
       "<function str.maketrans>"
      ]
     },
     "execution_count": 8,
     "metadata": {},
     "output_type": "execute_result"
    }
   ],
   "source": [
    "'hello'.maketrans"
   ]
  },
  {
   "cell_type": "code",
   "execution_count": 9,
   "metadata": {},
   "outputs": [
    {
     "data": {
      "text/plain": [
       "{44: 32, 58: 32, 63: 32, 33: 32, 59: 32, 46: 32}"
      ]
     },
     "execution_count": 9,
     "metadata": {},
     "output_type": "execute_result"
    }
   ],
   "source": [
    "str.maketrans(',:?!;.',6*' ')"
   ]
  },
  {
   "cell_type": "code",
   "execution_count": 13,
   "metadata": {},
   "outputs": [
    {
     "data": {
      "text/plain": [
       "'Hell  o'"
      ]
     },
     "execution_count": 13,
     "metadata": {},
     "output_type": "execute_result"
    }
   ],
   "source": [
    "'Hell.,o'.translate(str.maketrans(',:?!;.',6*' '))"
   ]
  },
  {
   "cell_type": "code",
   "execution_count": null,
   "metadata": {},
   "outputs": [],
   "source": []
  }
 ],
 "metadata": {
  "kernelspec": {
   "display_name": "Python 3",
   "language": "python",
   "name": "python3"
  },
  "language_info": {
   "codemirror_mode": {
    "name": "ipython",
    "version": 3
   },
   "file_extension": ".py",
   "mimetype": "text/x-python",
   "name": "python",
   "nbconvert_exporter": "python",
   "pygments_lexer": "ipython3",
   "version": "3.8.5"
  }
 },
 "nbformat": 4,
 "nbformat_minor": 4
}
