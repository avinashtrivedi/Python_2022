{
 "cells": [
  {
   "cell_type": "code",
   "execution_count": 85,
   "metadata": {},
   "outputs": [],
   "source": [
    "def daily_inventory(store, purchases):\n",
    "    \"\"\"\n",
    "    Updates inventory at the end of the day by removing items if nobody\n",
    "    purchased or if out of stock. Otherwise updates quantity. \n",
    "    Should mutate the store dictionary. \n",
    "\n",
    "    >>> store = {\"Roses\": 5, \"Tulips\": 4}\n",
    "    >>> purchases = {\"Roses\": 3} \n",
    "    >>> daily_inventory(store, purchases)\n",
    "    >>> print(store)\n",
    "    {'Roses': 2}\n",
    "\n",
    "    >>> store = {\"Roses\": 5, \"Tulips\": 4}\n",
    "    >>> purchases = {\"Roses\": 3, \"Tulips\": 4} \n",
    "    >>> daily_inventory(store, purchases)\n",
    "    >>> print(store)\n",
    "    {'Roses': 2}\n",
    "\n",
    "    >>> store = {\"Roses\": 5, \"Tulips\": 4, \"Dandelions\": 10}\n",
    "    >>> purchases = {\"Roses\": 3, \"Tulips\": 2, \"Dandelions\":7} \n",
    "    >>> daily_inventory(store, purchases)\n",
    "    >>> print(store)\n",
    "    {'Roses': 2, 'Tulips': 2, 'Dandelions': 3}\n",
    "    \"\"\"\n",
    "\n",
    "    #Your code is here\n",
    "    for k in list(store):\n",
    "        if k in purchases:\n",
    "            store[k] = store[k] - purchases[k]\n",
    "        else:\n",
    "            del store[k]\n",
    "            \n",
    "        if k in purchases and store[k]==0:\n",
    "            del store[k]"
   ]
  },
  {
   "cell_type": "code",
   "execution_count": 86,
   "metadata": {},
   "outputs": [
    {
     "name": "stdout",
     "output_type": "stream",
     "text": [
      "{'Roses': 2}\n"
     ]
    }
   ],
   "source": [
    "store = {\"Roses\": 5, \"Tulips\": 4}\n",
    "purchases = {\"Roses\": 3} \n",
    "daily_inventory(store, purchases)\n",
    "print(store)"
   ]
  },
  {
   "cell_type": "code",
   "execution_count": 87,
   "metadata": {},
   "outputs": [
    {
     "name": "stdout",
     "output_type": "stream",
     "text": [
      "{'Roses': 2}\n"
     ]
    }
   ],
   "source": [
    "store = {\"Roses\": 5, \"Tulips\": 4}\n",
    "purchases = {\"Roses\": 3, \"Tulips\": 4} \n",
    "daily_inventory(store, purchases)\n",
    "print(store)"
   ]
  },
  {
   "cell_type": "code",
   "execution_count": 88,
   "metadata": {},
   "outputs": [
    {
     "name": "stdout",
     "output_type": "stream",
     "text": [
      "{'Roses': 2, 'Tulips': 2, 'Dandelions': 3}\n"
     ]
    }
   ],
   "source": [
    "store = {\"Roses\": 5, \"Tulips\": 4, \"Dandelions\": 10}\n",
    "purchases = {\"Roses\": 3, \"Tulips\": 2, \"Dandelions\":7} \n",
    "daily_inventory(store, purchases)\n",
    "print(store)"
   ]
  },
  {
   "cell_type": "code",
   "execution_count": null,
   "metadata": {},
   "outputs": [],
   "source": []
  }
 ],
 "metadata": {
  "kernelspec": {
   "display_name": "Python 3",
   "language": "python",
   "name": "python3"
  },
  "language_info": {
   "codemirror_mode": {
    "name": "ipython",
    "version": 3
   },
   "file_extension": ".py",
   "mimetype": "text/x-python",
   "name": "python",
   "nbconvert_exporter": "python",
   "pygments_lexer": "ipython3",
   "version": "3.8.5"
  }
 },
 "nbformat": 4,
 "nbformat_minor": 4
}
