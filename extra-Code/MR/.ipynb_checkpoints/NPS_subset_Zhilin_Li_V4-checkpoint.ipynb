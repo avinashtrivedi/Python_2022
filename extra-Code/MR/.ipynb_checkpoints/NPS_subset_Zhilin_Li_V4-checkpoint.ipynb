{
 "cells": [
  {
   "cell_type": "code",
   "execution_count": 1,
   "metadata": {
    "id": "b7daf366"
   },
   "outputs": [],
   "source": [
    "from IPython.core.interactiveshell import InteractiveShell\n",
    "InteractiveShell.ast_node_interactivity = \"all\"\n",
    "import pandas as pd\n",
    "import seaborn as sns\n",
    "import numpy as np\n",
    "import matplotlib.pyplot as plt"
   ]
  },
  {
   "cell_type": "markdown",
   "metadata": {
    "id": "dbb0dafd"
   },
   "source": [
    "### Read the data"
   ]
  },
  {
   "cell_type": "code",
   "execution_count": 2,
   "metadata": {
    "id": "405df900"
   },
   "outputs": [],
   "source": [
    "pd.set_option('display.max_columns', None)"
   ]
  },
  {
   "cell_type": "code",
   "execution_count": 3,
   "metadata": {
    "id": "3b0a5484",
    "outputId": "46ee0b91-2e2d-4fc9-d05e-1db4b581d916"
   },
   "outputs": [
    {
     "name": "stderr",
     "output_type": "stream",
     "text": [
      "C:\\Users\\avitr\\anaconda3\\lib\\site-packages\\IPython\\core\\interactiveshell.py:3146: DtypeWarning: Columns (3,4,5,10,12,45,50,59,80,84,95,99,100,101,102,103,104,109,110,111,113) have mixed types.Specify dtype option on import or set low_memory=False.\n",
      "  has_raised = await self.run_ast_nodes(code_ast.body, cell_name,\n"
     ]
    }
   ],
   "source": [
    "#keep the original data as df1\n",
    "df1 =pd.read_csv('NPS_SCU_02-15-2022.csv')"
   ]
  },
  {
   "cell_type": "code",
   "execution_count": 4,
   "metadata": {
    "id": "ef2d2bb1",
    "outputId": "31dd7c20-f764-43f3-bff5-5a77487333a0",
    "scrolled": true
   },
   "outputs": [
    {
     "data": {
      "text/plain": [
       "(5925, 128)"
      ]
     },
     "execution_count": 4,
     "metadata": {},
     "output_type": "execute_result"
    }
   ],
   "source": [
    "df1.shape"
   ]
  },
  {
   "cell_type": "code",
   "execution_count": 5,
   "metadata": {
    "id": "6b623a52"
   },
   "outputs": [],
   "source": [
    "#Use df to analyze\n",
    "df = df1"
   ]
  },
  {
   "cell_type": "code",
   "execution_count": 6,
   "metadata": {
    "id": "a795f959",
    "outputId": "38ef8310-2e5d-45f9-b65e-672d0fb797d3",
    "scrolled": true
   },
   "outputs": [
    {
     "data": {
      "text/html": [
       "<div>\n",
       "<style scoped>\n",
       "    .dataframe tbody tr th:only-of-type {\n",
       "        vertical-align: middle;\n",
       "    }\n",
       "\n",
       "    .dataframe tbody tr th {\n",
       "        vertical-align: top;\n",
       "    }\n",
       "\n",
       "    .dataframe thead th {\n",
       "        text-align: right;\n",
       "    }\n",
       "</style>\n",
       "<table border=\"1\" class=\"dataframe\">\n",
       "  <thead>\n",
       "    <tr style=\"text-align: right;\">\n",
       "      <th></th>\n",
       "      <th>StartDate</th>\n",
       "      <th>EndDate</th>\n",
       "      <th>Status</th>\n",
       "      <th>Progress</th>\n",
       "      <th>Duration (in seconds)</th>\n",
       "      <th>Finished</th>\n",
       "      <th>RecordedDate</th>\n",
       "      <th>ResponseId</th>\n",
       "      <th>DistributionChannel</th>\n",
       "      <th>UserLanguage</th>\n",
       "      <th>Q_RecaptchaScore</th>\n",
       "      <th>Q1_NPS_GROUP</th>\n",
       "      <th>Q1</th>\n",
       "      <th>Q2A</th>\n",
       "      <th>Q2B</th>\n",
       "      <th>Q2C</th>\n",
       "      <th>Q3</th>\n",
       "      <th>Q4</th>\n",
       "      <th>Q4A</th>\n",
       "      <th>Q5_1</th>\n",
       "      <th>Q5_2</th>\n",
       "      <th>Q5_3</th>\n",
       "      <th>Q5_4</th>\n",
       "      <th>Q5_5</th>\n",
       "      <th>Q5_6</th>\n",
       "      <th>Q6_1</th>\n",
       "      <th>Q6_2</th>\n",
       "      <th>Q6_3</th>\n",
       "      <th>Q6_4</th>\n",
       "      <th>Q6_5</th>\n",
       "      <th>Q6A</th>\n",
       "      <th>Q7_1</th>\n",
       "      <th>Q7_2</th>\n",
       "      <th>Q7_3</th>\n",
       "      <th>Q7_4</th>\n",
       "      <th>Q7_5</th>\n",
       "      <th>Q7_6</th>\n",
       "      <th>Q7_7</th>\n",
       "      <th>Q7_8</th>\n",
       "      <th>Q7_9</th>\n",
       "      <th>Q7_9_TEXT</th>\n",
       "      <th>Q7A_1</th>\n",
       "      <th>Q7A_2</th>\n",
       "      <th>Q7A_3</th>\n",
       "      <th>Q7A_4</th>\n",
       "      <th>Q7A_5</th>\n",
       "      <th>Q7A_6</th>\n",
       "      <th>Q7A_7</th>\n",
       "      <th>Q7A_8</th>\n",
       "      <th>Q7A_9</th>\n",
       "      <th>Q7A_9_TEXT</th>\n",
       "      <th>Q7B_1_1</th>\n",
       "      <th>Q7B_2_1</th>\n",
       "      <th>Q7B_3_1</th>\n",
       "      <th>Q7B_4_1</th>\n",
       "      <th>Q7B_5_1</th>\n",
       "      <th>Q7B_6_1</th>\n",
       "      <th>Q7B_7_1</th>\n",
       "      <th>Q7B_8_1</th>\n",
       "      <th>Q7B_9_TEXT</th>\n",
       "      <th>Q7B_9_1</th>\n",
       "      <th>Q8_1</th>\n",
       "      <th>Q8_2</th>\n",
       "      <th>Q8_3</th>\n",
       "      <th>Q8_4</th>\n",
       "      <th>Q8_5</th>\n",
       "      <th>Q8_6</th>\n",
       "      <th>Q8_7</th>\n",
       "      <th>Q8_8</th>\n",
       "      <th>Q8_9</th>\n",
       "      <th>Q8_9_TEXT</th>\n",
       "      <th>Q9_1</th>\n",
       "      <th>Q9_2</th>\n",
       "      <th>Q9_3</th>\n",
       "      <th>Q9_4</th>\n",
       "      <th>Q9_5</th>\n",
       "      <th>Q9_6</th>\n",
       "      <th>Q9_7</th>\n",
       "      <th>Q9_8</th>\n",
       "      <th>Q9_9</th>\n",
       "      <th>Q10_1_1</th>\n",
       "      <th>Q11_1</th>\n",
       "      <th>Wave</th>\n",
       "      <th>WaveUpdate</th>\n",
       "      <th>complete_status</th>\n",
       "      <th>SurveyID</th>\n",
       "      <th>ResponseID</th>\n",
       "      <th>Subject</th>\n",
       "      <th>PanelID</th>\n",
       "      <th>Language</th>\n",
       "      <th>RecipientLanguage</th>\n",
       "      <th>Q_Language</th>\n",
       "      <th>person_geo</th>\n",
       "      <th>person_region</th>\n",
       "      <th>person_country</th>\n",
       "      <th>language</th>\n",
       "      <th>person_industry</th>\n",
       "      <th>sales_segment</th>\n",
       "      <th>source</th>\n",
       "      <th>account</th>\n",
       "      <th>TranslationLanguage</th>\n",
       "      <th>CSM</th>\n",
       "      <th>CMBU_CSM</th>\n",
       "      <th>EUC_CSM</th>\n",
       "      <th>VMC_CSM</th>\n",
       "      <th>Hierarchy</th>\n",
       "      <th>Job Role</th>\n",
       "      <th>Job Title</th>\n",
       "      <th>ResponseId.1</th>\n",
       "      <th>FINALREGION</th>\n",
       "      <th>WEIGHT</th>\n",
       "      <th>CB_CSM</th>\n",
       "      <th>WT_SEGMENT</th>\n",
       "      <th>mobile_device</th>\n",
       "      <th>Q4A_EN</th>\n",
       "      <th>Q2C_EN</th>\n",
       "      <th>Q6a_EN</th>\n",
       "      <th>Q2A_EN</th>\n",
       "      <th>Q2B_EN</th>\n",
       "      <th>Q7b_1_EN</th>\n",
       "      <th>Q7b_2_EN</th>\n",
       "      <th>Q7b_3_EN</th>\n",
       "      <th>Q7b_4_EN</th>\n",
       "      <th>Q7b_9_EN</th>\n",
       "      <th>Q7b_5_EN</th>\n",
       "      <th>Q7b_6_EN</th>\n",
       "      <th>Q7b_8_EN</th>\n",
       "      <th>Q7b_7_EN</th>\n",
       "    </tr>\n",
       "  </thead>\n",
       "  <tbody>\n",
       "    <tr>\n",
       "      <th>0</th>\n",
       "      <td>Start Date</td>\n",
       "      <td>End Date</td>\n",
       "      <td>Response Type</td>\n",
       "      <td>Progress</td>\n",
       "      <td>Duration (in seconds)</td>\n",
       "      <td>Finished</td>\n",
       "      <td>Recorded Date</td>\n",
       "      <td>Response ID</td>\n",
       "      <td>Distribution Channel</td>\n",
       "      <td>User Language</td>\n",
       "      <td>Q_RecaptchaScore</td>\n",
       "      <td>How likely are you to recommend VMware product...</td>\n",
       "      <td>How likely are you to recommend VMware product...</td>\n",
       "      <td>Your feedback goes a long way to helping us bu...</td>\n",
       "      <td>Your feedback goes a long way to helping us bu...</td>\n",
       "      <td>What can we do to improve your experience?</td>\n",
       "      <td>Currently, which option best describes your ro...</td>\n",
       "      <td>Do you consider VMware a trusted advisor?</td>\n",
       "      <td>Why would you not consider VMware a trusted ad...</td>\n",
       "      <td>Please rate your satisfaction with each of the...</td>\n",
       "      <td>Please rate your satisfaction with each of the...</td>\n",
       "      <td>Please rate your satisfaction with each of the...</td>\n",
       "      <td>Please rate your satisfaction with each of the...</td>\n",
       "      <td>Please rate your satisfaction with each of the...</td>\n",
       "      <td>Please rate your satisfaction with each of the...</td>\n",
       "      <td>Please express your agreement with each of the...</td>\n",
       "      <td>Please express your agreement with each of the...</td>\n",
       "      <td>Please express your agreement with each of the...</td>\n",
       "      <td>Please express your agreement with each of the...</td>\n",
       "      <td>Please express your agreement with each of the...</td>\n",
       "      <td>Why would you not consider VMware a strategic ...</td>\n",
       "      <td>Which of the following VMware solutions do you...</td>\n",
       "      <td>Which of the following VMware solutions do you...</td>\n",
       "      <td>Which of the following VMware solutions do you...</td>\n",
       "      <td>Which of the following VMware solutions do you...</td>\n",
       "      <td>Which of the following VMware solutions do you...</td>\n",
       "      <td>Which of the following VMware solutions do you...</td>\n",
       "      <td>Which of the following VMware solutions do you...</td>\n",
       "      <td>Which of the following VMware solutions do you...</td>\n",
       "      <td>Which of the following VMware solutions do you...</td>\n",
       "      <td>Which of the following VMware solutions do you...</td>\n",
       "      <td>Please rate your satisfaction with the followi...</td>\n",
       "      <td>Please rate your satisfaction with the followi...</td>\n",
       "      <td>Please rate your satisfaction with the followi...</td>\n",
       "      <td>Please rate your satisfaction with the followi...</td>\n",
       "      <td>Please rate your satisfaction with the followi...</td>\n",
       "      <td>Please rate your satisfaction with the followi...</td>\n",
       "      <td>Please rate your satisfaction with the followi...</td>\n",
       "      <td>Please rate your satisfaction with the followi...</td>\n",
       "      <td>Please rate your satisfaction with the followi...</td>\n",
       "      <td>Please rate your satisfaction with the followi...</td>\n",
       "      <td>Please tell us why you gave us the score you d...</td>\n",
       "      <td>Please tell us why you gave us the score you d...</td>\n",
       "      <td>Please tell us why you gave us the score you d...</td>\n",
       "      <td>Please tell us why you gave us the score you d...</td>\n",
       "      <td>Please tell us why you gave us the score you d...</td>\n",
       "      <td>Please tell us why you gave us the score you d...</td>\n",
       "      <td>Please tell us why you gave us the score you d...</td>\n",
       "      <td>Please tell us why you gave us the score you d...</td>\n",
       "      <td>Please tell us why you gave us the score you d...</td>\n",
       "      <td>Please tell us why you gave us the score you d...</td>\n",
       "      <td>Which VMware solution(s) are you evaluating to...</td>\n",
       "      <td>Which VMware solution(s) are you evaluating to...</td>\n",
       "      <td>Which VMware solution(s) are you evaluating to...</td>\n",
       "      <td>Which VMware solution(s) are you evaluating to...</td>\n",
       "      <td>Which VMware solution(s) are you evaluating to...</td>\n",
       "      <td>Which VMware solution(s) are you evaluating to...</td>\n",
       "      <td>Which VMware solution(s) are you evaluating to...</td>\n",
       "      <td>Which VMware solution(s) are you evaluating to...</td>\n",
       "      <td>Which VMware solution(s) are you evaluating to...</td>\n",
       "      <td>Which VMware solution(s) are you evaluating to...</td>\n",
       "      <td>How will your future technology strategy evolv...</td>\n",
       "      <td>How will your future technology strategy evolv...</td>\n",
       "      <td>How will your future technology strategy evolv...</td>\n",
       "      <td>How will your future technology strategy evolv...</td>\n",
       "      <td>How will your future technology strategy evolv...</td>\n",
       "      <td>How will your future technology strategy evolv...</td>\n",
       "      <td>How will your future technology strategy evolv...</td>\n",
       "      <td>How will your future technology strategy evolv...</td>\n",
       "      <td>How will your future technology strategy evolv...</td>\n",
       "      <td>Are you interested in providing us with more f...</td>\n",
       "      <td>Would you be willing to participate in a follo...</td>\n",
       "      <td>Wave</td>\n",
       "      <td>WaveUpdate</td>\n",
       "      <td>complete_status</td>\n",
       "      <td>SurveyID</td>\n",
       "      <td>ResponseID</td>\n",
       "      <td>Subject</td>\n",
       "      <td>PanelID</td>\n",
       "      <td>Language</td>\n",
       "      <td>RecipientLanguage</td>\n",
       "      <td>Q_Language</td>\n",
       "      <td>person_geo</td>\n",
       "      <td>person_region</td>\n",
       "      <td>person_country</td>\n",
       "      <td>language</td>\n",
       "      <td>person_industry</td>\n",
       "      <td>sales_segment</td>\n",
       "      <td>source</td>\n",
       "      <td>account</td>\n",
       "      <td>TranslationLanguage</td>\n",
       "      <td>CSM</td>\n",
       "      <td>CMBU_CSM</td>\n",
       "      <td>EUC_CSM</td>\n",
       "      <td>VMC_CSM</td>\n",
       "      <td>Hierarchy</td>\n",
       "      <td>Job Role</td>\n",
       "      <td>Job Title</td>\n",
       "      <td>ResponseId</td>\n",
       "      <td>FINALREGION</td>\n",
       "      <td>WEIGHT</td>\n",
       "      <td>CB_CSM</td>\n",
       "      <td>WT_SEGMENT</td>\n",
       "      <td>mobile_device</td>\n",
       "      <td>Why would you not consider VMware a trusted ad...</td>\n",
       "      <td>What can we do to improve your experience? EN</td>\n",
       "      <td>q6a_EN</td>\n",
       "      <td>Your feedback goes a long way to helping us bu...</td>\n",
       "      <td>Your feedback goes a long way to helping us bu...</td>\n",
       "      <td>q7b_1_EN</td>\n",
       "      <td>q7b_2_EN</td>\n",
       "      <td>q7b_3_EN</td>\n",
       "      <td>q7b_4_EN</td>\n",
       "      <td>q7b_9_EN</td>\n",
       "      <td>q7b_5_EN</td>\n",
       "      <td>q7b_6_EN</td>\n",
       "      <td>q7b_8_EN</td>\n",
       "      <td>q7b_7_EN</td>\n",
       "    </tr>\n",
       "    <tr>\n",
       "      <th>1</th>\n",
       "      <td>{\"ImportId\":\"startDate\",\"timeZone\":\"America/De...</td>\n",
       "      <td>{\"ImportId\":\"endDate\",\"timeZone\":\"America/Denv...</td>\n",
       "      <td>{\"ImportId\":\"status\"}</td>\n",
       "      <td>{\"ImportId\":\"progress\"}</td>\n",
       "      <td>{\"ImportId\":\"duration\"}</td>\n",
       "      <td>{\"ImportId\":\"finished\"}</td>\n",
       "      <td>{\"ImportId\":\"recordedDate\",\"timeZone\":\"America...</td>\n",
       "      <td>{\"ImportId\":\"_recordId\"}</td>\n",
       "      <td>{\"ImportId\":\"distributionChannel\"}</td>\n",
       "      <td>{\"ImportId\":\"userLanguage\"}</td>\n",
       "      <td>{\"ImportId\":\"Q_RecaptchaScore\"}</td>\n",
       "      <td>{\"ImportId\":\"QID8_NPS_GROUP\"}</td>\n",
       "      <td>{\"ImportId\":\"QID8\"}</td>\n",
       "      <td>{\"ImportId\":\"QID179_TEXT\"}</td>\n",
       "      <td>{\"ImportId\":\"QID180_TEXT\"}</td>\n",
       "      <td>{\"ImportId\":\"QID173_TEXT\"}</td>\n",
       "      <td>{\"ImportId\":\"QID49\"}</td>\n",
       "      <td>{\"ImportId\":\"QID165\"}</td>\n",
       "      <td>{\"ImportId\":\"QID166_TEXT\"}</td>\n",
       "      <td>{\"ImportId\":\"QID167_13\"}</td>\n",
       "      <td>{\"ImportId\":\"QID167_24\"}</td>\n",
       "      <td>{\"ImportId\":\"QID167_21\"}</td>\n",
       "      <td>{\"ImportId\":\"QID167_15\"}</td>\n",
       "      <td>{\"ImportId\":\"QID167_19\"}</td>\n",
       "      <td>{\"ImportId\":\"QID167_20\"}</td>\n",
       "      <td>{\"ImportId\":\"QID172_1\"}</td>\n",
       "      <td>{\"ImportId\":\"QID172_9\"}</td>\n",
       "      <td>{\"ImportId\":\"QID172_10\"}</td>\n",
       "      <td>{\"ImportId\":\"QID172_12\"}</td>\n",
       "      <td>{\"ImportId\":\"QID172_13\"}</td>\n",
       "      <td>{\"ImportId\":\"QID177_TEXT\"}</td>\n",
       "      <td>{\"ImportId\":\"QID185\",\"choiceId\":\"1\"}</td>\n",
       "      <td>{\"ImportId\":\"QID185\",\"choiceId\":\"2\"}</td>\n",
       "      <td>{\"ImportId\":\"QID185\",\"choiceId\":\"3\"}</td>\n",
       "      <td>{\"ImportId\":\"QID185\",\"choiceId\":\"4\"}</td>\n",
       "      <td>{\"ImportId\":\"QID185\",\"choiceId\":\"5\"}</td>\n",
       "      <td>{\"ImportId\":\"QID185\",\"choiceId\":\"6\"}</td>\n",
       "      <td>{\"ImportId\":\"QID185\",\"choiceId\":\"7\"}</td>\n",
       "      <td>{\"ImportId\":\"QID185\",\"choiceId\":\"8\"}</td>\n",
       "      <td>{\"ImportId\":\"QID185\",\"choiceId\":\"9\"}</td>\n",
       "      <td>{\"ImportId\":\"QID185_17_TEXT\"}</td>\n",
       "      <td>{\"ImportId\":\"QID186_x11\"}</td>\n",
       "      <td>{\"ImportId\":\"QID186_x12\"}</td>\n",
       "      <td>{\"ImportId\":\"QID186_x14\"}</td>\n",
       "      <td>{\"ImportId\":\"QID186_x15\"}</td>\n",
       "      <td>{\"ImportId\":\"QID186_x1\"}</td>\n",
       "      <td>{\"ImportId\":\"QID186_x5\"}</td>\n",
       "      <td>{\"ImportId\":\"QID186_x7\"}</td>\n",
       "      <td>{\"ImportId\":\"QID186_x6\"}</td>\n",
       "      <td>{\"ImportId\":\"QID186_x17\"}</td>\n",
       "      <td>{\"ImportId\":\"QID186_x17_TEXT\"}</td>\n",
       "      <td>{\"ImportId\":\"QID190_x11_1\"}</td>\n",
       "      <td>{\"ImportId\":\"QID190_x12_1\"}</td>\n",
       "      <td>{\"ImportId\":\"QID190_x14_1\"}</td>\n",
       "      <td>{\"ImportId\":\"QID190_x15_1\"}</td>\n",
       "      <td>{\"ImportId\":\"QID190_x1_1\"}</td>\n",
       "      <td>{\"ImportId\":\"QID190_x5_1\"}</td>\n",
       "      <td>{\"ImportId\":\"QID190_x7_1\"}</td>\n",
       "      <td>{\"ImportId\":\"QID190_x6_1\"}</td>\n",
       "      <td>{\"ImportId\":\"QID190_x17_TEXT\"}</td>\n",
       "      <td>{\"ImportId\":\"QID190_x17_1\"}</td>\n",
       "      <td>{\"ImportId\":\"QID192\",\"choiceId\":\"1\"}</td>\n",
       "      <td>{\"ImportId\":\"QID192\",\"choiceId\":\"2\"}</td>\n",
       "      <td>{\"ImportId\":\"QID192\",\"choiceId\":\"3\"}</td>\n",
       "      <td>{\"ImportId\":\"QID192\",\"choiceId\":\"4\"}</td>\n",
       "      <td>{\"ImportId\":\"QID192\",\"choiceId\":\"5\"}</td>\n",
       "      <td>{\"ImportId\":\"QID192\",\"choiceId\":\"6\"}</td>\n",
       "      <td>{\"ImportId\":\"QID192\",\"choiceId\":\"7\"}</td>\n",
       "      <td>{\"ImportId\":\"QID192\",\"choiceId\":\"8\"}</td>\n",
       "      <td>{\"ImportId\":\"QID192\",\"choiceId\":\"9\"}</td>\n",
       "      <td>{\"ImportId\":\"QID192_17_TEXT\"}</td>\n",
       "      <td>{\"ImportId\":\"QID189\",\"choiceId\":\"1\"}</td>\n",
       "      <td>{\"ImportId\":\"QID189\",\"choiceId\":\"2\"}</td>\n",
       "      <td>{\"ImportId\":\"QID189\",\"choiceId\":\"3\"}</td>\n",
       "      <td>{\"ImportId\":\"QID189\",\"choiceId\":\"4\"}</td>\n",
       "      <td>{\"ImportId\":\"QID189\",\"choiceId\":\"5\"}</td>\n",
       "      <td>{\"ImportId\":\"QID189\",\"choiceId\":\"6\"}</td>\n",
       "      <td>{\"ImportId\":\"QID189\",\"choiceId\":\"7\"}</td>\n",
       "      <td>{\"ImportId\":\"QID189\",\"choiceId\":\"8\"}</td>\n",
       "      <td>{\"ImportId\":\"QID189\",\"choiceId\":\"9\"}</td>\n",
       "      <td>{\"ImportId\":\"QID94_1\",\"choiceId\":\"1\"}</td>\n",
       "      <td>{\"ImportId\":\"QID197\",\"choiceId\":\"1\"}</td>\n",
       "      <td>{\"ImportId\":\"Wave\"}</td>\n",
       "      <td>{\"ImportId\":\"WaveUpdate\"}</td>\n",
       "      <td>{\"ImportId\":\"complete_status\"}</td>\n",
       "      <td>{\"ImportId\":\"SurveyID\"}</td>\n",
       "      <td>{\"ImportId\":\"QSEDResponseID\"}</td>\n",
       "      <td>{\"ImportId\":\"Subject\"}</td>\n",
       "      <td>{\"ImportId\":\"PanelID\"}</td>\n",
       "      <td>{\"ImportId\":\"Language\"}</td>\n",
       "      <td>{\"ImportId\":\"RecipientLanguage\"}</td>\n",
       "      <td>{\"ImportId\":\"Q_Language\"}</td>\n",
       "      <td>{\"ImportId\":\"person_geo\"}</td>\n",
       "      <td>{\"ImportId\":\"person_region\"}</td>\n",
       "      <td>{\"ImportId\":\"person_country\"}</td>\n",
       "      <td>{\"ImportId\":\"language\"}</td>\n",
       "      <td>{\"ImportId\":\"person_industry\"}</td>\n",
       "      <td>{\"ImportId\":\"sales_segment\"}</td>\n",
       "      <td>{\"ImportId\":\"source\"}</td>\n",
       "      <td>{\"ImportId\":\"account\"}</td>\n",
       "      <td>{\"ImportId\":\"TranslationLanguage\"}</td>\n",
       "      <td>{\"ImportId\":\"CSM\"}</td>\n",
       "      <td>{\"ImportId\":\"CMBU_CSM\"}</td>\n",
       "      <td>{\"ImportId\":\"EUC_CSM\"}</td>\n",
       "      <td>{\"ImportId\":\"VMC_CSM\"}</td>\n",
       "      <td>{\"ImportId\":\"Hierarchy\"}</td>\n",
       "      <td>{\"ImportId\":\"Job Role\"}</td>\n",
       "      <td>{\"ImportId\":\"Job Title\"}</td>\n",
       "      <td>{\"ImportId\":\"QSEDResponseId\"}</td>\n",
       "      <td>{\"ImportId\":\"FINALREGION\"}</td>\n",
       "      <td>{\"ImportId\":\"WEIGHT\"}</td>\n",
       "      <td>{\"ImportId\":\"CB_CSM\"}</td>\n",
       "      <td>{\"ImportId\":\"WT_SEGMENT\"}</td>\n",
       "      <td>{\"ImportId\":\"mobile_device\"}</td>\n",
       "      <td>{\"ImportId\":\"QID166_TEXT_TRANSLATEDenmatveqr\"}</td>\n",
       "      <td>{\"ImportId\":\"QID173_TEXT_TRANSLATEDenop80yuv\"}</td>\n",
       "      <td>{\"ImportId\":\"QID177_TEXT_TRANSLATEDenbxu5qq0\"}</td>\n",
       "      <td>{\"ImportId\":\"QID179_TEXT_TRANSLATEDenfwltfjs\"}</td>\n",
       "      <td>{\"ImportId\":\"QID180_TEXT_TRANSLATEDen9ewb5mw\"}</td>\n",
       "      <td>{\"ImportId\":\"QID190_x11_1_TRANSLATEDentnqq60m\"}</td>\n",
       "      <td>{\"ImportId\":\"QID190_x12_1_TRANSLATEDen2fkokcb\"}</td>\n",
       "      <td>{\"ImportId\":\"QID190_x14_1_TRANSLATEDenfaplxe0\"}</td>\n",
       "      <td>{\"ImportId\":\"QID190_x15_1_TRANSLATEDenrkg48f7\"}</td>\n",
       "      <td>{\"ImportId\":\"QID190_x17_1_TRANSLATEDenumofwtd\"}</td>\n",
       "      <td>{\"ImportId\":\"QID190_x1_1_TRANSLATEDent3f2pz4\"}</td>\n",
       "      <td>{\"ImportId\":\"QID190_x5_1_TRANSLATEDeni9nif2s\"}</td>\n",
       "      <td>{\"ImportId\":\"QID190_x6_1_TRANSLATEDentufoyj2\"}</td>\n",
       "      <td>{\"ImportId\":\"QID190_x7_1_TRANSLATEDenggjrshl\"}</td>\n",
       "    </tr>\n",
       "    <tr>\n",
       "      <th>2</th>\n",
       "      <td>11/15/2021 21:04</td>\n",
       "      <td>11/15/2021 21:07</td>\n",
       "      <td>Imported</td>\n",
       "      <td>100</td>\n",
       "      <td>223</td>\n",
       "      <td>TRUE</td>\n",
       "      <td>12/15/2021 10:05</td>\n",
       "      <td>R_6AaCEkIn7LRXuUS</td>\n",
       "      <td>email</td>\n",
       "      <td>EN</td>\n",
       "      <td>0.600000024</td>\n",
       "      <td>Promoter</td>\n",
       "      <td>9</td>\n",
       "      <td>NaN</td>\n",
       "      <td>NaN</td>\n",
       "      <td>NaN</td>\n",
       "      <td>Practitioner â€“ Perform the day-to-day VMware...</td>\n",
       "      <td>Yes</td>\n",
       "      <td>NaN</td>\n",
       "      <td>5</td>\n",
       "      <td>5</td>\n",
       "      <td>5</td>\n",
       "      <td>5</td>\n",
       "      <td>6</td>\n",
       "      <td>6</td>\n",
       "      <td>5</td>\n",
       "      <td>4</td>\n",
       "      <td>5</td>\n",
       "      <td>5</td>\n",
       "      <td>5</td>\n",
       "      <td>NaN</td>\n",
       "      <td>Datacenter solutions \\n\\n VMware vSphere, VMwa...</td>\n",
       "      <td>NaN</td>\n",
       "      <td>NaN</td>\n",
       "      <td>NaN</td>\n",
       "      <td>NaN</td>\n",
       "      <td>NaN</td>\n",
       "      <td>NaN</td>\n",
       "      <td>NaN</td>\n",
       "      <td>NaN</td>\n",
       "      <td>NaN</td>\n",
       "      <td>Extremely Satisfied  - 7</td>\n",
       "      <td>NaN</td>\n",
       "      <td>NaN</td>\n",
       "      <td>NaN</td>\n",
       "      <td>NaN</td>\n",
       "      <td>NaN</td>\n",
       "      <td>NaN</td>\n",
       "      <td>NaN</td>\n",
       "      <td>NaN</td>\n",
       "      <td>NaN</td>\n",
       "      <td>NaN</td>\n",
       "      <td>NaN</td>\n",
       "      <td>NaN</td>\n",
       "      <td>NaN</td>\n",
       "      <td>NaN</td>\n",
       "      <td>NaN</td>\n",
       "      <td>NaN</td>\n",
       "      <td>NaN</td>\n",
       "      <td>NaN</td>\n",
       "      <td>NaN</td>\n",
       "      <td>NaN</td>\n",
       "      <td>NaN</td>\n",
       "      <td>NaN</td>\n",
       "      <td>NaN</td>\n",
       "      <td>NaN</td>\n",
       "      <td>NaN</td>\n",
       "      <td>NaN</td>\n",
       "      <td>NaN</td>\n",
       "      <td>NaN</td>\n",
       "      <td>NaN</td>\n",
       "      <td>NaN</td>\n",
       "      <td>NaN</td>\n",
       "      <td>NaN</td>\n",
       "      <td>NaN</td>\n",
       "      <td>NaN</td>\n",
       "      <td>NaN</td>\n",
       "      <td>NaN</td>\n",
       "      <td>NaN</td>\n",
       "      <td>Maintain with less budget</td>\n",
       "      <td>NaN</td>\n",
       "      <td>I wish to be contacted by VMware to discuss my...</td>\n",
       "      <td>2HFY22</td>\n",
       "      <td>2HFY22</td>\n",
       "      <td>1</td>\n",
       "      <td>SV_eX6YSL8Lzo20kmi</td>\n",
       "      <td>R_z5MHD66SVggkg6t</td>\n",
       "      <td>NPS Closed Loop â€“ 2HFY22</td>\n",
       "      <td>CG_Qp2X1G27jQL82wV</td>\n",
       "      <td>EN</td>\n",
       "      <td>EN</td>\n",
       "      <td>EN</td>\n",
       "      <td>APJ</td>\n",
       "      <td>ASEAN</td>\n",
       "      <td>INDONESIA</td>\n",
       "      <td>NaN</td>\n",
       "      <td>NaN</td>\n",
       "      <td>NaN</td>\n",
       "      <td>SFDC</td>\n",
       "      <td>NaN</td>\n",
       "      <td>NaN</td>\n",
       "      <td>0</td>\n",
       "      <td>0</td>\n",
       "      <td>0</td>\n",
       "      <td>0</td>\n",
       "      <td>NaN</td>\n",
       "      <td>NaN</td>\n",
       "      <td>NaN</td>\n",
       "      <td>R_z5MHD66SVggkg6t</td>\n",
       "      <td>NaN</td>\n",
       "      <td>0.787109635</td>\n",
       "      <td>0</td>\n",
       "      <td>2HFY22__1</td>\n",
       "      <td>0</td>\n",
       "      <td>NaN</td>\n",
       "      <td>NaN</td>\n",
       "      <td>NaN</td>\n",
       "      <td>NaN</td>\n",
       "      <td>NaN</td>\n",
       "      <td>NaN</td>\n",
       "      <td>NaN</td>\n",
       "      <td>NaN</td>\n",
       "      <td>NaN</td>\n",
       "      <td>NaN</td>\n",
       "      <td>NaN</td>\n",
       "      <td>NaN</td>\n",
       "      <td>NaN</td>\n",
       "      <td>NaN</td>\n",
       "    </tr>\n",
       "    <tr>\n",
       "      <th>3</th>\n",
       "      <td>11/10/2021 9:00</td>\n",
       "      <td>11/10/2021 9:05</td>\n",
       "      <td>Imported</td>\n",
       "      <td>100</td>\n",
       "      <td>262</td>\n",
       "      <td>TRUE</td>\n",
       "      <td>12/15/2021 10:05</td>\n",
       "      <td>R_74yZFhxf5VRBN2e</td>\n",
       "      <td>email</td>\n",
       "      <td>DE</td>\n",
       "      <td>1</td>\n",
       "      <td>Passive</td>\n",
       "      <td>8</td>\n",
       "      <td>NaN</td>\n",
       "      <td>NaN</td>\n",
       "      <td>Technisch top, doch immer mehr kostenintensiv.</td>\n",
       "      <td>Budget Owner â€“ Final decision-maker on signi...</td>\n",
       "      <td>Yes</td>\n",
       "      <td>NaN</td>\n",
       "      <td>3</td>\n",
       "      <td>6</td>\n",
       "      <td>4</td>\n",
       "      <td>4</td>\n",
       "      <td>6</td>\n",
       "      <td>5</td>\n",
       "      <td>5</td>\n",
       "      <td>6</td>\n",
       "      <td>6</td>\n",
       "      <td>6</td>\n",
       "      <td>5</td>\n",
       "      <td>NaN</td>\n",
       "      <td>Datacenter solutions \\n\\n VMware vSphere, VMwa...</td>\n",
       "      <td>NaN</td>\n",
       "      <td>NaN</td>\n",
       "      <td>NaN</td>\n",
       "      <td>NaN</td>\n",
       "      <td>NaN</td>\n",
       "      <td>NaN</td>\n",
       "      <td>NaN</td>\n",
       "      <td>NaN</td>\n",
       "      <td>NaN</td>\n",
       "      <td>6</td>\n",
       "      <td>NaN</td>\n",
       "      <td>NaN</td>\n",
       "      <td>NaN</td>\n",
       "      <td>NaN</td>\n",
       "      <td>NaN</td>\n",
       "      <td>NaN</td>\n",
       "      <td>NaN</td>\n",
       "      <td>NaN</td>\n",
       "      <td>NaN</td>\n",
       "      <td>Technisch sehr zuverlÃ¤ssig</td>\n",
       "      <td>NaN</td>\n",
       "      <td>NaN</td>\n",
       "      <td>NaN</td>\n",
       "      <td>NaN</td>\n",
       "      <td>NaN</td>\n",
       "      <td>NaN</td>\n",
       "      <td>NaN</td>\n",
       "      <td>NaN</td>\n",
       "      <td>NaN</td>\n",
       "      <td>NaN</td>\n",
       "      <td>NaN</td>\n",
       "      <td>NaN</td>\n",
       "      <td>NaN</td>\n",
       "      <td>Modern Application Platform\\n\\n VMware Tanzu p...</td>\n",
       "      <td>Digital Workspace (including VDI)\\n\\n Workspac...</td>\n",
       "      <td>NaN</td>\n",
       "      <td>NaN</td>\n",
       "      <td>NaN</td>\n",
       "      <td>NaN</td>\n",
       "      <td>NaN</td>\n",
       "      <td>Expand hybrid cloud</td>\n",
       "      <td>NaN</td>\n",
       "      <td>NaN</td>\n",
       "      <td>NaN</td>\n",
       "      <td>Remote workforce</td>\n",
       "      <td>Enhance security</td>\n",
       "      <td>NaN</td>\n",
       "      <td>NaN</td>\n",
       "      <td>NaN</td>\n",
       "      <td>I wish to be contacted by VMware to discuss my...</td>\n",
       "      <td>2HFY22</td>\n",
       "      <td>2HFY22</td>\n",
       "      <td>1</td>\n",
       "      <td>SV_eX6YSL8Lzo20kmi</td>\n",
       "      <td>R_2zjzLB3knKnIAdD</td>\n",
       "      <td>NPS Closed Loop â€“ 2HFY22</td>\n",
       "      <td>CG_3J7Qzj4o4CTqSS0</td>\n",
       "      <td>DE</td>\n",
       "      <td>DE</td>\n",
       "      <td>DE</td>\n",
       "      <td>EMEA</td>\n",
       "      <td>CEMEA</td>\n",
       "      <td>GERMANY</td>\n",
       "      <td>NaN</td>\n",
       "      <td>Other</td>\n",
       "      <td>C2</td>\n",
       "      <td>MDH</td>\n",
       "      <td>NaN</td>\n",
       "      <td>NaN</td>\n",
       "      <td>0</td>\n",
       "      <td>0</td>\n",
       "      <td>0</td>\n",
       "      <td>0</td>\n",
       "      <td>IT PRACTITIONER</td>\n",
       "      <td>Systems Administrator</td>\n",
       "      <td>Sysadmin</td>\n",
       "      <td>R_2zjzLB3knKnIAdD</td>\n",
       "      <td>NaN</td>\n",
       "      <td>0.536990027</td>\n",
       "      <td>0</td>\n",
       "      <td>2HFY22__1</td>\n",
       "      <td>0</td>\n",
       "      <td>NaN</td>\n",
       "      <td>Technically top, but always more expensive.</td>\n",
       "      <td>NaN</td>\n",
       "      <td>NaN</td>\n",
       "      <td>NaN</td>\n",
       "      <td>Technically very reliable</td>\n",
       "      <td>NaN</td>\n",
       "      <td>NaN</td>\n",
       "      <td>NaN</td>\n",
       "      <td>NaN</td>\n",
       "      <td>NaN</td>\n",
       "      <td>NaN</td>\n",
       "      <td>NaN</td>\n",
       "      <td>NaN</td>\n",
       "    </tr>\n",
       "    <tr>\n",
       "      <th>4</th>\n",
       "      <td>11/15/2021 21:32</td>\n",
       "      <td>11/15/2021 21:36</td>\n",
       "      <td>Imported</td>\n",
       "      <td>100</td>\n",
       "      <td>228</td>\n",
       "      <td>TRUE</td>\n",
       "      <td>12/15/2021 10:05</td>\n",
       "      <td>R_81cqwo6bIRMxDf0</td>\n",
       "      <td>email</td>\n",
       "      <td>JA</td>\n",
       "      <td>0.899999976</td>\n",
       "      <td>Detractor</td>\n",
       "      <td>5</td>\n",
       "      <td>NaN</td>\n",
       "      <td>ç¤¾å†…ã§ã¯è‡ªåˆ†ä»¥å¤–ãŒVMwareè£½å“ã‚’ä½¿ã...</td>\n",
       "      <td>NaN</td>\n",
       "      <td>Practitioner â€“ Perform the day-to-day VMware...</td>\n",
       "      <td>Yes</td>\n",
       "      <td>NaN</td>\n",
       "      <td>5</td>\n",
       "      <td>4</td>\n",
       "      <td>NaN</td>\n",
       "      <td>NaN</td>\n",
       "      <td>NaN</td>\n",
       "      <td>NaN</td>\n",
       "      <td>NaN</td>\n",
       "      <td>NaN</td>\n",
       "      <td>NaN</td>\n",
       "      <td>NaN</td>\n",
       "      <td>NaN</td>\n",
       "      <td>NaN</td>\n",
       "      <td>Datacenter solutions \\n\\n VMware vSphere, VMwa...</td>\n",
       "      <td>NaN</td>\n",
       "      <td>NaN</td>\n",
       "      <td>NaN</td>\n",
       "      <td>NaN</td>\n",
       "      <td>NaN</td>\n",
       "      <td>NaN</td>\n",
       "      <td>NaN</td>\n",
       "      <td>NaN</td>\n",
       "      <td>NaN</td>\n",
       "      <td>5</td>\n",
       "      <td>NaN</td>\n",
       "      <td>NaN</td>\n",
       "      <td>NaN</td>\n",
       "      <td>NaN</td>\n",
       "      <td>NaN</td>\n",
       "      <td>NaN</td>\n",
       "      <td>NaN</td>\n",
       "      <td>NaN</td>\n",
       "      <td>NaN</td>\n",
       "      <td>vSphereã‚’ä½¿ã£ã¦ã„ã‚‹ãŒç„¡å„Ÿã§ä½¿ã„å‹...</td>\n",
       "      <td>NaN</td>\n",
       "      <td>NaN</td>\n",
       "      <td>NaN</td>\n",
       "      <td>NaN</td>\n",
       "      <td>NaN</td>\n",
       "      <td>NaN</td>\n",
       "      <td>NaN</td>\n",
       "      <td>NaN</td>\n",
       "      <td>NaN</td>\n",
       "      <td>NaN</td>\n",
       "      <td>NaN</td>\n",
       "      <td>NaN</td>\n",
       "      <td>NaN</td>\n",
       "      <td>NaN</td>\n",
       "      <td>NaN</td>\n",
       "      <td>NaN</td>\n",
       "      <td>NaN</td>\n",
       "      <td>NaN</td>\n",
       "      <td>NaN</td>\n",
       "      <td>NaN</td>\n",
       "      <td>NaN</td>\n",
       "      <td>NaN</td>\n",
       "      <td>Scale down on-prem</td>\n",
       "      <td>NaN</td>\n",
       "      <td>NaN</td>\n",
       "      <td>NaN</td>\n",
       "      <td>NaN</td>\n",
       "      <td>NaN</td>\n",
       "      <td>NaN</td>\n",
       "      <td>I wish to be contacted by VMware to discuss my...</td>\n",
       "      <td>2HFY22</td>\n",
       "      <td>2HFY22</td>\n",
       "      <td>1</td>\n",
       "      <td>SV_eX6YSL8Lzo20kmi</td>\n",
       "      <td>R_3KAsh8uT0AEb4tX</td>\n",
       "      <td>NPS Closed Loop â€“ 2HFY22</td>\n",
       "      <td>CG_Qp2X1G27jQL82wV</td>\n",
       "      <td>JA</td>\n",
       "      <td>JA</td>\n",
       "      <td>JA</td>\n",
       "      <td>APJ</td>\n",
       "      <td>JAPAN</td>\n",
       "      <td>JAPAN</td>\n",
       "      <td>NaN</td>\n",
       "      <td>Services</td>\n",
       "      <td>NaN</td>\n",
       "      <td>SFDC</td>\n",
       "      <td>NaN</td>\n",
       "      <td>NaN</td>\n",
       "      <td>0</td>\n",
       "      <td>0</td>\n",
       "      <td>0</td>\n",
       "      <td>0</td>\n",
       "      <td>PRACTITIONER-OTHER</td>\n",
       "      <td>Programmer / Developer</td>\n",
       "      <td>Ã¯Â¿Â½Ã¯Â¿Â½Ã¯Â¼Â³Ã¯Â¼Â²Ã©Æ’Â¨</td>\n",
       "      <td>R_3KAsh8uT0AEb4tX</td>\n",
       "      <td>NaN</td>\n",
       "      <td>0.462734375</td>\n",
       "      <td>0</td>\n",
       "      <td>2HFY22__1</td>\n",
       "      <td>0</td>\n",
       "      <td>NaN</td>\n",
       "      <td>NaN</td>\n",
       "      <td>NaN</td>\n",
       "      <td>NaN</td>\n",
       "      <td>I'm not impressed that anyone other than mysel...</td>\n",
       "      <td>I am using vSphere, but it is free and easy to...</td>\n",
       "      <td>NaN</td>\n",
       "      <td>NaN</td>\n",
       "      <td>NaN</td>\n",
       "      <td>NaN</td>\n",
       "      <td>NaN</td>\n",
       "      <td>NaN</td>\n",
       "      <td>NaN</td>\n",
       "      <td>NaN</td>\n",
       "    </tr>\n",
       "  </tbody>\n",
       "</table>\n",
       "</div>"
      ],
      "text/plain": [
       "                                           StartDate  \\\n",
       "0                                         Start Date   \n",
       "1  {\"ImportId\":\"startDate\",\"timeZone\":\"America/De...   \n",
       "2                                   11/15/2021 21:04   \n",
       "3                                    11/10/2021 9:00   \n",
       "4                                   11/15/2021 21:32   \n",
       "\n",
       "                                             EndDate                 Status  \\\n",
       "0                                           End Date          Response Type   \n",
       "1  {\"ImportId\":\"endDate\",\"timeZone\":\"America/Denv...  {\"ImportId\":\"status\"}   \n",
       "2                                   11/15/2021 21:07               Imported   \n",
       "3                                    11/10/2021 9:05               Imported   \n",
       "4                                   11/15/2021 21:36               Imported   \n",
       "\n",
       "                  Progress    Duration (in seconds)                 Finished  \\\n",
       "0                 Progress    Duration (in seconds)                 Finished   \n",
       "1  {\"ImportId\":\"progress\"}  {\"ImportId\":\"duration\"}  {\"ImportId\":\"finished\"}   \n",
       "2                      100                      223                     TRUE   \n",
       "3                      100                      262                     TRUE   \n",
       "4                      100                      228                     TRUE   \n",
       "\n",
       "                                        RecordedDate  \\\n",
       "0                                      Recorded Date   \n",
       "1  {\"ImportId\":\"recordedDate\",\"timeZone\":\"America...   \n",
       "2                                   12/15/2021 10:05   \n",
       "3                                   12/15/2021 10:05   \n",
       "4                                   12/15/2021 10:05   \n",
       "\n",
       "                 ResponseId                 DistributionChannel  \\\n",
       "0               Response ID                Distribution Channel   \n",
       "1  {\"ImportId\":\"_recordId\"}  {\"ImportId\":\"distributionChannel\"}   \n",
       "2         R_6AaCEkIn7LRXuUS                               email   \n",
       "3         R_74yZFhxf5VRBN2e                               email   \n",
       "4         R_81cqwo6bIRMxDf0                               email   \n",
       "\n",
       "                  UserLanguage                 Q_RecaptchaScore  \\\n",
       "0                User Language                 Q_RecaptchaScore   \n",
       "1  {\"ImportId\":\"userLanguage\"}  {\"ImportId\":\"Q_RecaptchaScore\"}   \n",
       "2                           EN                      0.600000024   \n",
       "3                           DE                                1   \n",
       "4                           JA                      0.899999976   \n",
       "\n",
       "                                        Q1_NPS_GROUP  \\\n",
       "0  How likely are you to recommend VMware product...   \n",
       "1                      {\"ImportId\":\"QID8_NPS_GROUP\"}   \n",
       "2                                           Promoter   \n",
       "3                                            Passive   \n",
       "4                                          Detractor   \n",
       "\n",
       "                                                  Q1  \\\n",
       "0  How likely are you to recommend VMware product...   \n",
       "1                                {\"ImportId\":\"QID8\"}   \n",
       "2                                                  9   \n",
       "3                                                  8   \n",
       "4                                                  5   \n",
       "\n",
       "                                                 Q2A  \\\n",
       "0  Your feedback goes a long way to helping us bu...   \n",
       "1                         {\"ImportId\":\"QID179_TEXT\"}   \n",
       "2                                                NaN   \n",
       "3                                                NaN   \n",
       "4                                                NaN   \n",
       "\n",
       "                                                 Q2B  \\\n",
       "0  Your feedback goes a long way to helping us bu...   \n",
       "1                         {\"ImportId\":\"QID180_TEXT\"}   \n",
       "2                                                NaN   \n",
       "3                                                NaN   \n",
       "4  ç¤¾å†…ã§ã¯è‡ªåˆ†ä»¥å¤–ãŒVMwareè£½å“ã‚’ä½¿ã...   \n",
       "\n",
       "                                              Q2C  \\\n",
       "0      What can we do to improve your experience?   \n",
       "1                      {\"ImportId\":\"QID173_TEXT\"}   \n",
       "2                                             NaN   \n",
       "3  Technisch top, doch immer mehr kostenintensiv.   \n",
       "4                                             NaN   \n",
       "\n",
       "                                                  Q3  \\\n",
       "0  Currently, which option best describes your ro...   \n",
       "1                               {\"ImportId\":\"QID49\"}   \n",
       "2  Practitioner â€“ Perform the day-to-day VMware...   \n",
       "3  Budget Owner â€“ Final decision-maker on signi...   \n",
       "4  Practitioner â€“ Perform the day-to-day VMware...   \n",
       "\n",
       "                                          Q4  \\\n",
       "0  Do you consider VMware a trusted advisor?   \n",
       "1                      {\"ImportId\":\"QID165\"}   \n",
       "2                                        Yes   \n",
       "3                                        Yes   \n",
       "4                                        Yes   \n",
       "\n",
       "                                                 Q4A  \\\n",
       "0  Why would you not consider VMware a trusted ad...   \n",
       "1                         {\"ImportId\":\"QID166_TEXT\"}   \n",
       "2                                                NaN   \n",
       "3                                                NaN   \n",
       "4                                                NaN   \n",
       "\n",
       "                                                Q5_1  \\\n",
       "0  Please rate your satisfaction with each of the...   \n",
       "1                           {\"ImportId\":\"QID167_13\"}   \n",
       "2                                                  5   \n",
       "3                                                  3   \n",
       "4                                                  5   \n",
       "\n",
       "                                                Q5_2  \\\n",
       "0  Please rate your satisfaction with each of the...   \n",
       "1                           {\"ImportId\":\"QID167_24\"}   \n",
       "2                                                  5   \n",
       "3                                                  6   \n",
       "4                                                  4   \n",
       "\n",
       "                                                Q5_3  \\\n",
       "0  Please rate your satisfaction with each of the...   \n",
       "1                           {\"ImportId\":\"QID167_21\"}   \n",
       "2                                                  5   \n",
       "3                                                  4   \n",
       "4                                                NaN   \n",
       "\n",
       "                                                Q5_4  \\\n",
       "0  Please rate your satisfaction with each of the...   \n",
       "1                           {\"ImportId\":\"QID167_15\"}   \n",
       "2                                                  5   \n",
       "3                                                  4   \n",
       "4                                                NaN   \n",
       "\n",
       "                                                Q5_5  \\\n",
       "0  Please rate your satisfaction with each of the...   \n",
       "1                           {\"ImportId\":\"QID167_19\"}   \n",
       "2                                                  6   \n",
       "3                                                  6   \n",
       "4                                                NaN   \n",
       "\n",
       "                                                Q5_6  \\\n",
       "0  Please rate your satisfaction with each of the...   \n",
       "1                           {\"ImportId\":\"QID167_20\"}   \n",
       "2                                                  6   \n",
       "3                                                  5   \n",
       "4                                                NaN   \n",
       "\n",
       "                                                Q6_1  \\\n",
       "0  Please express your agreement with each of the...   \n",
       "1                            {\"ImportId\":\"QID172_1\"}   \n",
       "2                                                  5   \n",
       "3                                                  5   \n",
       "4                                                NaN   \n",
       "\n",
       "                                                Q6_2  \\\n",
       "0  Please express your agreement with each of the...   \n",
       "1                            {\"ImportId\":\"QID172_9\"}   \n",
       "2                                                  4   \n",
       "3                                                  6   \n",
       "4                                                NaN   \n",
       "\n",
       "                                                Q6_3  \\\n",
       "0  Please express your agreement with each of the...   \n",
       "1                           {\"ImportId\":\"QID172_10\"}   \n",
       "2                                                  5   \n",
       "3                                                  6   \n",
       "4                                                NaN   \n",
       "\n",
       "                                                Q6_4  \\\n",
       "0  Please express your agreement with each of the...   \n",
       "1                           {\"ImportId\":\"QID172_12\"}   \n",
       "2                                                  5   \n",
       "3                                                  6   \n",
       "4                                                NaN   \n",
       "\n",
       "                                                Q6_5  \\\n",
       "0  Please express your agreement with each of the...   \n",
       "1                           {\"ImportId\":\"QID172_13\"}   \n",
       "2                                                  5   \n",
       "3                                                  5   \n",
       "4                                                NaN   \n",
       "\n",
       "                                                 Q6A  \\\n",
       "0  Why would you not consider VMware a strategic ...   \n",
       "1                         {\"ImportId\":\"QID177_TEXT\"}   \n",
       "2                                                NaN   \n",
       "3                                                NaN   \n",
       "4                                                NaN   \n",
       "\n",
       "                                                Q7_1  \\\n",
       "0  Which of the following VMware solutions do you...   \n",
       "1               {\"ImportId\":\"QID185\",\"choiceId\":\"1\"}   \n",
       "2  Datacenter solutions \\n\\n VMware vSphere, VMwa...   \n",
       "3  Datacenter solutions \\n\\n VMware vSphere, VMwa...   \n",
       "4  Datacenter solutions \\n\\n VMware vSphere, VMwa...   \n",
       "\n",
       "                                                Q7_2  \\\n",
       "0  Which of the following VMware solutions do you...   \n",
       "1               {\"ImportId\":\"QID185\",\"choiceId\":\"2\"}   \n",
       "2                                                NaN   \n",
       "3                                                NaN   \n",
       "4                                                NaN   \n",
       "\n",
       "                                                Q7_3  \\\n",
       "0  Which of the following VMware solutions do you...   \n",
       "1               {\"ImportId\":\"QID185\",\"choiceId\":\"3\"}   \n",
       "2                                                NaN   \n",
       "3                                                NaN   \n",
       "4                                                NaN   \n",
       "\n",
       "                                                Q7_4  \\\n",
       "0  Which of the following VMware solutions do you...   \n",
       "1               {\"ImportId\":\"QID185\",\"choiceId\":\"4\"}   \n",
       "2                                                NaN   \n",
       "3                                                NaN   \n",
       "4                                                NaN   \n",
       "\n",
       "                                                Q7_5  \\\n",
       "0  Which of the following VMware solutions do you...   \n",
       "1               {\"ImportId\":\"QID185\",\"choiceId\":\"5\"}   \n",
       "2                                                NaN   \n",
       "3                                                NaN   \n",
       "4                                                NaN   \n",
       "\n",
       "                                                Q7_6  \\\n",
       "0  Which of the following VMware solutions do you...   \n",
       "1               {\"ImportId\":\"QID185\",\"choiceId\":\"6\"}   \n",
       "2                                                NaN   \n",
       "3                                                NaN   \n",
       "4                                                NaN   \n",
       "\n",
       "                                                Q7_7  \\\n",
       "0  Which of the following VMware solutions do you...   \n",
       "1               {\"ImportId\":\"QID185\",\"choiceId\":\"7\"}   \n",
       "2                                                NaN   \n",
       "3                                                NaN   \n",
       "4                                                NaN   \n",
       "\n",
       "                                                Q7_8  \\\n",
       "0  Which of the following VMware solutions do you...   \n",
       "1               {\"ImportId\":\"QID185\",\"choiceId\":\"8\"}   \n",
       "2                                                NaN   \n",
       "3                                                NaN   \n",
       "4                                                NaN   \n",
       "\n",
       "                                                Q7_9  \\\n",
       "0  Which of the following VMware solutions do you...   \n",
       "1               {\"ImportId\":\"QID185\",\"choiceId\":\"9\"}   \n",
       "2                                                NaN   \n",
       "3                                                NaN   \n",
       "4                                                NaN   \n",
       "\n",
       "                                           Q7_9_TEXT  \\\n",
       "0  Which of the following VMware solutions do you...   \n",
       "1                      {\"ImportId\":\"QID185_17_TEXT\"}   \n",
       "2                                                NaN   \n",
       "3                                                NaN   \n",
       "4                                                NaN   \n",
       "\n",
       "                                               Q7A_1  \\\n",
       "0  Please rate your satisfaction with the followi...   \n",
       "1                          {\"ImportId\":\"QID186_x11\"}   \n",
       "2                           Extremely Satisfied  - 7   \n",
       "3                                                  6   \n",
       "4                                                  5   \n",
       "\n",
       "                                               Q7A_2  \\\n",
       "0  Please rate your satisfaction with the followi...   \n",
       "1                          {\"ImportId\":\"QID186_x12\"}   \n",
       "2                                                NaN   \n",
       "3                                                NaN   \n",
       "4                                                NaN   \n",
       "\n",
       "                                               Q7A_3  \\\n",
       "0  Please rate your satisfaction with the followi...   \n",
       "1                          {\"ImportId\":\"QID186_x14\"}   \n",
       "2                                                NaN   \n",
       "3                                                NaN   \n",
       "4                                                NaN   \n",
       "\n",
       "                                               Q7A_4  \\\n",
       "0  Please rate your satisfaction with the followi...   \n",
       "1                          {\"ImportId\":\"QID186_x15\"}   \n",
       "2                                                NaN   \n",
       "3                                                NaN   \n",
       "4                                                NaN   \n",
       "\n",
       "                                               Q7A_5  \\\n",
       "0  Please rate your satisfaction with the followi...   \n",
       "1                           {\"ImportId\":\"QID186_x1\"}   \n",
       "2                                                NaN   \n",
       "3                                                NaN   \n",
       "4                                                NaN   \n",
       "\n",
       "                                               Q7A_6  \\\n",
       "0  Please rate your satisfaction with the followi...   \n",
       "1                           {\"ImportId\":\"QID186_x5\"}   \n",
       "2                                                NaN   \n",
       "3                                                NaN   \n",
       "4                                                NaN   \n",
       "\n",
       "                                               Q7A_7  \\\n",
       "0  Please rate your satisfaction with the followi...   \n",
       "1                           {\"ImportId\":\"QID186_x7\"}   \n",
       "2                                                NaN   \n",
       "3                                                NaN   \n",
       "4                                                NaN   \n",
       "\n",
       "                                               Q7A_8  \\\n",
       "0  Please rate your satisfaction with the followi...   \n",
       "1                           {\"ImportId\":\"QID186_x6\"}   \n",
       "2                                                NaN   \n",
       "3                                                NaN   \n",
       "4                                                NaN   \n",
       "\n",
       "                                               Q7A_9  \\\n",
       "0  Please rate your satisfaction with the followi...   \n",
       "1                          {\"ImportId\":\"QID186_x17\"}   \n",
       "2                                                NaN   \n",
       "3                                                NaN   \n",
       "4                                                NaN   \n",
       "\n",
       "                                          Q7A_9_TEXT  \\\n",
       "0  Please rate your satisfaction with the followi...   \n",
       "1                     {\"ImportId\":\"QID186_x17_TEXT\"}   \n",
       "2                                                NaN   \n",
       "3                                                NaN   \n",
       "4                                                NaN   \n",
       "\n",
       "                                             Q7B_1_1  \\\n",
       "0  Please tell us why you gave us the score you d...   \n",
       "1                        {\"ImportId\":\"QID190_x11_1\"}   \n",
       "2                                                NaN   \n",
       "3                        Technisch sehr zuverlÃ¤ssig   \n",
       "4  vSphereã‚’ä½¿ã£ã¦ã„ã‚‹ãŒç„¡å„Ÿã§ä½¿ã„å‹...   \n",
       "\n",
       "                                             Q7B_2_1  \\\n",
       "0  Please tell us why you gave us the score you d...   \n",
       "1                        {\"ImportId\":\"QID190_x12_1\"}   \n",
       "2                                                NaN   \n",
       "3                                                NaN   \n",
       "4                                                NaN   \n",
       "\n",
       "                                             Q7B_3_1  \\\n",
       "0  Please tell us why you gave us the score you d...   \n",
       "1                        {\"ImportId\":\"QID190_x14_1\"}   \n",
       "2                                                NaN   \n",
       "3                                                NaN   \n",
       "4                                                NaN   \n",
       "\n",
       "                                             Q7B_4_1  \\\n",
       "0  Please tell us why you gave us the score you d...   \n",
       "1                        {\"ImportId\":\"QID190_x15_1\"}   \n",
       "2                                                NaN   \n",
       "3                                                NaN   \n",
       "4                                                NaN   \n",
       "\n",
       "                                             Q7B_5_1  \\\n",
       "0  Please tell us why you gave us the score you d...   \n",
       "1                         {\"ImportId\":\"QID190_x1_1\"}   \n",
       "2                                                NaN   \n",
       "3                                                NaN   \n",
       "4                                                NaN   \n",
       "\n",
       "                                             Q7B_6_1  \\\n",
       "0  Please tell us why you gave us the score you d...   \n",
       "1                         {\"ImportId\":\"QID190_x5_1\"}   \n",
       "2                                                NaN   \n",
       "3                                                NaN   \n",
       "4                                                NaN   \n",
       "\n",
       "                                             Q7B_7_1  \\\n",
       "0  Please tell us why you gave us the score you d...   \n",
       "1                         {\"ImportId\":\"QID190_x7_1\"}   \n",
       "2                                                NaN   \n",
       "3                                                NaN   \n",
       "4                                                NaN   \n",
       "\n",
       "                                             Q7B_8_1  \\\n",
       "0  Please tell us why you gave us the score you d...   \n",
       "1                         {\"ImportId\":\"QID190_x6_1\"}   \n",
       "2                                                NaN   \n",
       "3                                                NaN   \n",
       "4                                                NaN   \n",
       "\n",
       "                                          Q7B_9_TEXT  \\\n",
       "0  Please tell us why you gave us the score you d...   \n",
       "1                     {\"ImportId\":\"QID190_x17_TEXT\"}   \n",
       "2                                                NaN   \n",
       "3                                                NaN   \n",
       "4                                                NaN   \n",
       "\n",
       "                                             Q7B_9_1  \\\n",
       "0  Please tell us why you gave us the score you d...   \n",
       "1                        {\"ImportId\":\"QID190_x17_1\"}   \n",
       "2                                                NaN   \n",
       "3                                                NaN   \n",
       "4                                                NaN   \n",
       "\n",
       "                                                Q8_1  \\\n",
       "0  Which VMware solution(s) are you evaluating to...   \n",
       "1               {\"ImportId\":\"QID192\",\"choiceId\":\"1\"}   \n",
       "2                                                NaN   \n",
       "3                                                NaN   \n",
       "4                                                NaN   \n",
       "\n",
       "                                                Q8_2  \\\n",
       "0  Which VMware solution(s) are you evaluating to...   \n",
       "1               {\"ImportId\":\"QID192\",\"choiceId\":\"2\"}   \n",
       "2                                                NaN   \n",
       "3                                                NaN   \n",
       "4                                                NaN   \n",
       "\n",
       "                                                Q8_3  \\\n",
       "0  Which VMware solution(s) are you evaluating to...   \n",
       "1               {\"ImportId\":\"QID192\",\"choiceId\":\"3\"}   \n",
       "2                                                NaN   \n",
       "3                                                NaN   \n",
       "4                                                NaN   \n",
       "\n",
       "                                                Q8_4  \\\n",
       "0  Which VMware solution(s) are you evaluating to...   \n",
       "1               {\"ImportId\":\"QID192\",\"choiceId\":\"4\"}   \n",
       "2                                                NaN   \n",
       "3                                                NaN   \n",
       "4                                                NaN   \n",
       "\n",
       "                                                Q8_5  \\\n",
       "0  Which VMware solution(s) are you evaluating to...   \n",
       "1               {\"ImportId\":\"QID192\",\"choiceId\":\"5\"}   \n",
       "2                                                NaN   \n",
       "3  Modern Application Platform\\n\\n VMware Tanzu p...   \n",
       "4                                                NaN   \n",
       "\n",
       "                                                Q8_6  \\\n",
       "0  Which VMware solution(s) are you evaluating to...   \n",
       "1               {\"ImportId\":\"QID192\",\"choiceId\":\"6\"}   \n",
       "2                                                NaN   \n",
       "3  Digital Workspace (including VDI)\\n\\n Workspac...   \n",
       "4                                                NaN   \n",
       "\n",
       "                                                Q8_7  \\\n",
       "0  Which VMware solution(s) are you evaluating to...   \n",
       "1               {\"ImportId\":\"QID192\",\"choiceId\":\"7\"}   \n",
       "2                                                NaN   \n",
       "3                                                NaN   \n",
       "4                                                NaN   \n",
       "\n",
       "                                                Q8_8  \\\n",
       "0  Which VMware solution(s) are you evaluating to...   \n",
       "1               {\"ImportId\":\"QID192\",\"choiceId\":\"8\"}   \n",
       "2                                                NaN   \n",
       "3                                                NaN   \n",
       "4                                                NaN   \n",
       "\n",
       "                                                Q8_9  \\\n",
       "0  Which VMware solution(s) are you evaluating to...   \n",
       "1               {\"ImportId\":\"QID192\",\"choiceId\":\"9\"}   \n",
       "2                                                NaN   \n",
       "3                                                NaN   \n",
       "4                                                NaN   \n",
       "\n",
       "                                           Q8_9_TEXT  \\\n",
       "0  Which VMware solution(s) are you evaluating to...   \n",
       "1                      {\"ImportId\":\"QID192_17_TEXT\"}   \n",
       "2                                                NaN   \n",
       "3                                                NaN   \n",
       "4                                                NaN   \n",
       "\n",
       "                                                Q9_1  \\\n",
       "0  How will your future technology strategy evolv...   \n",
       "1               {\"ImportId\":\"QID189\",\"choiceId\":\"1\"}   \n",
       "2                                                NaN   \n",
       "3                                                NaN   \n",
       "4                                                NaN   \n",
       "\n",
       "                                                Q9_2  \\\n",
       "0  How will your future technology strategy evolv...   \n",
       "1               {\"ImportId\":\"QID189\",\"choiceId\":\"2\"}   \n",
       "2                                                NaN   \n",
       "3                                Expand hybrid cloud   \n",
       "4                                                NaN   \n",
       "\n",
       "                                                Q9_3  \\\n",
       "0  How will your future technology strategy evolv...   \n",
       "1               {\"ImportId\":\"QID189\",\"choiceId\":\"3\"}   \n",
       "2                                                NaN   \n",
       "3                                                NaN   \n",
       "4                                                NaN   \n",
       "\n",
       "                                                Q9_4  \\\n",
       "0  How will your future technology strategy evolv...   \n",
       "1               {\"ImportId\":\"QID189\",\"choiceId\":\"4\"}   \n",
       "2                                                NaN   \n",
       "3                                                NaN   \n",
       "4                                 Scale down on-prem   \n",
       "\n",
       "                                                Q9_5  \\\n",
       "0  How will your future technology strategy evolv...   \n",
       "1               {\"ImportId\":\"QID189\",\"choiceId\":\"5\"}   \n",
       "2                                                NaN   \n",
       "3                                                NaN   \n",
       "4                                                NaN   \n",
       "\n",
       "                                                Q9_6  \\\n",
       "0  How will your future technology strategy evolv...   \n",
       "1               {\"ImportId\":\"QID189\",\"choiceId\":\"6\"}   \n",
       "2                                                NaN   \n",
       "3                                   Remote workforce   \n",
       "4                                                NaN   \n",
       "\n",
       "                                                Q9_7  \\\n",
       "0  How will your future technology strategy evolv...   \n",
       "1               {\"ImportId\":\"QID189\",\"choiceId\":\"7\"}   \n",
       "2                                                NaN   \n",
       "3                                   Enhance security   \n",
       "4                                                NaN   \n",
       "\n",
       "                                                Q9_8  \\\n",
       "0  How will your future technology strategy evolv...   \n",
       "1               {\"ImportId\":\"QID189\",\"choiceId\":\"8\"}   \n",
       "2                                                NaN   \n",
       "3                                                NaN   \n",
       "4                                                NaN   \n",
       "\n",
       "                                                Q9_9  \\\n",
       "0  How will your future technology strategy evolv...   \n",
       "1               {\"ImportId\":\"QID189\",\"choiceId\":\"9\"}   \n",
       "2                          Maintain with less budget   \n",
       "3                                                NaN   \n",
       "4                                                NaN   \n",
       "\n",
       "                                             Q10_1_1  \\\n",
       "0  Are you interested in providing us with more f...   \n",
       "1              {\"ImportId\":\"QID94_1\",\"choiceId\":\"1\"}   \n",
       "2                                                NaN   \n",
       "3                                                NaN   \n",
       "4                                                NaN   \n",
       "\n",
       "                                               Q11_1                 Wave  \\\n",
       "0  Would you be willing to participate in a follo...                 Wave   \n",
       "1               {\"ImportId\":\"QID197\",\"choiceId\":\"1\"}  {\"ImportId\":\"Wave\"}   \n",
       "2  I wish to be contacted by VMware to discuss my...               2HFY22   \n",
       "3  I wish to be contacted by VMware to discuss my...               2HFY22   \n",
       "4  I wish to be contacted by VMware to discuss my...               2HFY22   \n",
       "\n",
       "                  WaveUpdate                 complete_status  \\\n",
       "0                 WaveUpdate                 complete_status   \n",
       "1  {\"ImportId\":\"WaveUpdate\"}  {\"ImportId\":\"complete_status\"}   \n",
       "2                     2HFY22                               1   \n",
       "3                     2HFY22                               1   \n",
       "4                     2HFY22                               1   \n",
       "\n",
       "                  SurveyID                     ResponseID  \\\n",
       "0                 SurveyID                     ResponseID   \n",
       "1  {\"ImportId\":\"SurveyID\"}  {\"ImportId\":\"QSEDResponseID\"}   \n",
       "2       SV_eX6YSL8Lzo20kmi              R_z5MHD66SVggkg6t   \n",
       "3       SV_eX6YSL8Lzo20kmi              R_2zjzLB3knKnIAdD   \n",
       "4       SV_eX6YSL8Lzo20kmi              R_3KAsh8uT0AEb4tX   \n",
       "\n",
       "                      Subject                 PanelID  \\\n",
       "0                     Subject                 PanelID   \n",
       "1      {\"ImportId\":\"Subject\"}  {\"ImportId\":\"PanelID\"}   \n",
       "2  NPS Closed Loop â€“ 2HFY22      CG_Qp2X1G27jQL82wV   \n",
       "3  NPS Closed Loop â€“ 2HFY22      CG_3J7Qzj4o4CTqSS0   \n",
       "4  NPS Closed Loop â€“ 2HFY22      CG_Qp2X1G27jQL82wV   \n",
       "\n",
       "                  Language                 RecipientLanguage  \\\n",
       "0                 Language                 RecipientLanguage   \n",
       "1  {\"ImportId\":\"Language\"}  {\"ImportId\":\"RecipientLanguage\"}   \n",
       "2                       EN                                EN   \n",
       "3                       DE                                DE   \n",
       "4                       JA                                JA   \n",
       "\n",
       "                  Q_Language                 person_geo  \\\n",
       "0                 Q_Language                 person_geo   \n",
       "1  {\"ImportId\":\"Q_Language\"}  {\"ImportId\":\"person_geo\"}   \n",
       "2                         EN                        APJ   \n",
       "3                         DE                       EMEA   \n",
       "4                         JA                        APJ   \n",
       "\n",
       "                  person_region                 person_country  \\\n",
       "0                 person_region                 person_country   \n",
       "1  {\"ImportId\":\"person_region\"}  {\"ImportId\":\"person_country\"}   \n",
       "2                         ASEAN                      INDONESIA   \n",
       "3                         CEMEA                        GERMANY   \n",
       "4                         JAPAN                          JAPAN   \n",
       "\n",
       "                  language                 person_industry  \\\n",
       "0                 language                 person_industry   \n",
       "1  {\"ImportId\":\"language\"}  {\"ImportId\":\"person_industry\"}   \n",
       "2                      NaN                             NaN   \n",
       "3                      NaN                           Other   \n",
       "4                      NaN                        Services   \n",
       "\n",
       "                  sales_segment                 source  \\\n",
       "0                 sales_segment                 source   \n",
       "1  {\"ImportId\":\"sales_segment\"}  {\"ImportId\":\"source\"}   \n",
       "2                           NaN                   SFDC   \n",
       "3                            C2                    MDH   \n",
       "4                           NaN                   SFDC   \n",
       "\n",
       "                  account                 TranslationLanguage  \\\n",
       "0                 account                 TranslationLanguage   \n",
       "1  {\"ImportId\":\"account\"}  {\"ImportId\":\"TranslationLanguage\"}   \n",
       "2                     NaN                                 NaN   \n",
       "3                     NaN                                 NaN   \n",
       "4                     NaN                                 NaN   \n",
       "\n",
       "                  CSM                 CMBU_CSM                 EUC_CSM  \\\n",
       "0                 CSM                 CMBU_CSM                 EUC_CSM   \n",
       "1  {\"ImportId\":\"CSM\"}  {\"ImportId\":\"CMBU_CSM\"}  {\"ImportId\":\"EUC_CSM\"}   \n",
       "2                   0                        0                       0   \n",
       "3                   0                        0                       0   \n",
       "4                   0                        0                       0   \n",
       "\n",
       "                  VMC_CSM                 Hierarchy                 Job Role  \\\n",
       "0                 VMC_CSM                 Hierarchy                 Job Role   \n",
       "1  {\"ImportId\":\"VMC_CSM\"}  {\"ImportId\":\"Hierarchy\"}  {\"ImportId\":\"Job Role\"}   \n",
       "2                       0                       NaN                      NaN   \n",
       "3                       0           IT PRACTITIONER    Systems Administrator   \n",
       "4                       0        PRACTITIONER-OTHER   Programmer / Developer   \n",
       "\n",
       "                        Job Title                   ResponseId.1  \\\n",
       "0                       Job Title                     ResponseId   \n",
       "1        {\"ImportId\":\"Job Title\"}  {\"ImportId\":\"QSEDResponseId\"}   \n",
       "2                             NaN              R_z5MHD66SVggkg6t   \n",
       "3                        Sysadmin              R_2zjzLB3knKnIAdD   \n",
       "4  Ã¯Â¿Â½Ã¯Â¿Â½Ã¯Â¼Â³Ã¯Â¼Â²Ã©Æ’Â¨              R_3KAsh8uT0AEb4tX   \n",
       "\n",
       "                  FINALREGION                 WEIGHT                 CB_CSM  \\\n",
       "0                 FINALREGION                 WEIGHT                 CB_CSM   \n",
       "1  {\"ImportId\":\"FINALREGION\"}  {\"ImportId\":\"WEIGHT\"}  {\"ImportId\":\"CB_CSM\"}   \n",
       "2                         NaN            0.787109635                      0   \n",
       "3                         NaN            0.536990027                      0   \n",
       "4                         NaN            0.462734375                      0   \n",
       "\n",
       "                  WT_SEGMENT                 mobile_device  \\\n",
       "0                 WT_SEGMENT                 mobile_device   \n",
       "1  {\"ImportId\":\"WT_SEGMENT\"}  {\"ImportId\":\"mobile_device\"}   \n",
       "2                  2HFY22__1                             0   \n",
       "3                  2HFY22__1                             0   \n",
       "4                  2HFY22__1                             0   \n",
       "\n",
       "                                              Q4A_EN  \\\n",
       "0  Why would you not consider VMware a trusted ad...   \n",
       "1     {\"ImportId\":\"QID166_TEXT_TRANSLATEDenmatveqr\"}   \n",
       "2                                                NaN   \n",
       "3                                                NaN   \n",
       "4                                                NaN   \n",
       "\n",
       "                                           Q2C_EN  \\\n",
       "0   What can we do to improve your experience? EN   \n",
       "1  {\"ImportId\":\"QID173_TEXT_TRANSLATEDenop80yuv\"}   \n",
       "2                                             NaN   \n",
       "3     Technically top, but always more expensive.   \n",
       "4                                             NaN   \n",
       "\n",
       "                                           Q6a_EN  \\\n",
       "0                                          q6a_EN   \n",
       "1  {\"ImportId\":\"QID177_TEXT_TRANSLATEDenbxu5qq0\"}   \n",
       "2                                             NaN   \n",
       "3                                             NaN   \n",
       "4                                             NaN   \n",
       "\n",
       "                                              Q2A_EN  \\\n",
       "0  Your feedback goes a long way to helping us bu...   \n",
       "1     {\"ImportId\":\"QID179_TEXT_TRANSLATEDenfwltfjs\"}   \n",
       "2                                                NaN   \n",
       "3                                                NaN   \n",
       "4                                                NaN   \n",
       "\n",
       "                                              Q2B_EN  \\\n",
       "0  Your feedback goes a long way to helping us bu...   \n",
       "1     {\"ImportId\":\"QID180_TEXT_TRANSLATEDen9ewb5mw\"}   \n",
       "2                                                NaN   \n",
       "3                                                NaN   \n",
       "4  I'm not impressed that anyone other than mysel...   \n",
       "\n",
       "                                            Q7b_1_EN  \\\n",
       "0                                           q7b_1_EN   \n",
       "1    {\"ImportId\":\"QID190_x11_1_TRANSLATEDentnqq60m\"}   \n",
       "2                                                NaN   \n",
       "3                          Technically very reliable   \n",
       "4  I am using vSphere, but it is free and easy to...   \n",
       "\n",
       "                                          Q7b_2_EN  \\\n",
       "0                                         q7b_2_EN   \n",
       "1  {\"ImportId\":\"QID190_x12_1_TRANSLATEDen2fkokcb\"}   \n",
       "2                                              NaN   \n",
       "3                                              NaN   \n",
       "4                                              NaN   \n",
       "\n",
       "                                          Q7b_3_EN  \\\n",
       "0                                         q7b_3_EN   \n",
       "1  {\"ImportId\":\"QID190_x14_1_TRANSLATEDenfaplxe0\"}   \n",
       "2                                              NaN   \n",
       "3                                              NaN   \n",
       "4                                              NaN   \n",
       "\n",
       "                                          Q7b_4_EN  \\\n",
       "0                                         q7b_4_EN   \n",
       "1  {\"ImportId\":\"QID190_x15_1_TRANSLATEDenrkg48f7\"}   \n",
       "2                                              NaN   \n",
       "3                                              NaN   \n",
       "4                                              NaN   \n",
       "\n",
       "                                          Q7b_9_EN  \\\n",
       "0                                         q7b_9_EN   \n",
       "1  {\"ImportId\":\"QID190_x17_1_TRANSLATEDenumofwtd\"}   \n",
       "2                                              NaN   \n",
       "3                                              NaN   \n",
       "4                                              NaN   \n",
       "\n",
       "                                         Q7b_5_EN  \\\n",
       "0                                        q7b_5_EN   \n",
       "1  {\"ImportId\":\"QID190_x1_1_TRANSLATEDent3f2pz4\"}   \n",
       "2                                             NaN   \n",
       "3                                             NaN   \n",
       "4                                             NaN   \n",
       "\n",
       "                                         Q7b_6_EN  \\\n",
       "0                                        q7b_6_EN   \n",
       "1  {\"ImportId\":\"QID190_x5_1_TRANSLATEDeni9nif2s\"}   \n",
       "2                                             NaN   \n",
       "3                                             NaN   \n",
       "4                                             NaN   \n",
       "\n",
       "                                         Q7b_8_EN  \\\n",
       "0                                        q7b_8_EN   \n",
       "1  {\"ImportId\":\"QID190_x6_1_TRANSLATEDentufoyj2\"}   \n",
       "2                                             NaN   \n",
       "3                                             NaN   \n",
       "4                                             NaN   \n",
       "\n",
       "                                         Q7b_7_EN  \n",
       "0                                        q7b_7_EN  \n",
       "1  {\"ImportId\":\"QID190_x7_1_TRANSLATEDenggjrshl\"}  \n",
       "2                                             NaN  \n",
       "3                                             NaN  \n",
       "4                                             NaN  "
      ]
     },
     "execution_count": 6,
     "metadata": {},
     "output_type": "execute_result"
    }
   ],
   "source": [
    "df.head(5)"
   ]
  },
  {
   "cell_type": "markdown",
   "metadata": {
    "id": "1f0ac9cb"
   },
   "source": [
    "#### NPS Quesions - 5 parts"
   ]
  },
  {
   "cell_type": "markdown",
   "metadata": {
    "id": "4a6885a6"
   },
   "source": [
    "####  1. Questions in general"
   ]
  },
  {
   "cell_type": "markdown",
   "metadata": {
    "id": "086da005"
   },
   "source": [
    "Q1: How likely are you to recommend VMware products or services to a colleague or associate?<br>\n",
    "Q2: **Open_ended question for Q1.**<br>\n",
    "Q3: Currently, which option best describes your role when it comes to VMware?<br>\n",
    "Q4: Do you consider VMware a trusted advisor?<br>"
   ]
  },
  {
   "cell_type": "markdown",
   "metadata": {
    "id": "17df8b9a"
   },
   "source": [
    "#### 2.Questions about strategies and Mkt"
   ]
  },
  {
   "cell_type": "markdown",
   "metadata": {
    "id": "e471923e"
   },
   "source": [
    "Q5_1: Please rate your satisfaction with each of the following: - Pricing<br>\n",
    "Q5_2: Please rate your satisfaction with each of the following: - Purchasing Process<br>\n",
    "Q5_3: Please rate your satisfaction with each of the following: - VMware's renewals process<br>\n",
    "Q5_4: Please rate your satisfaction with each of the following: - Onboarding into VMware products/services<br>\n",
    "Q5_5: Please rate your satisfaction with each of the following: - Using VMware products and services<br>\n",
    "Q5_6: Please rate your satisfaction with each of the following: - Optimizing your solution and/or expanding use cases with VMware<br>"
   ]
  },
  {
   "cell_type": "markdown",
   "metadata": {
    "id": "6bc8bf01"
   },
   "source": [
    "Q6_1: Please express your agreement with each of the following: - VMware has flexible policies and practices<br>\n",
    "Q6_2: Please express your agreement with each of the following: - VMware solves my company's problems quickly<br>\n",
    "Q6_3: Please express your agreement with each of the following: - My company's relationship with VMware is a long-term partnership<br>\n",
    "Q6_4: Please express your agreement with each of the following: - VMware helps my company achieve its overall business objectives<br>\n",
    "Q6_5: Please express your agreement with each of the following: - VMware is a strategic innovation leader<br>\n",
    "Q6A: **Open_ended question for Q6_5**<br>"
   ]
  },
  {
   "cell_type": "markdown",
   "metadata": {
    "id": "c1c30e69"
   },
   "source": [
    "#### 3. Questions about products and solutions"
   ]
  },
  {
   "cell_type": "markdown",
   "metadata": {
    "id": "db414a88"
   },
   "source": [
    "Q7_1: Which of the following VMware solutions do you/your team currently use? - Selected Choice - Datacenter solutions <br>\n",
    "Q7A_1: Please rate your satisfaction with the following. - Datacenter solutions<br>\n",
    "Q7B_1_1: Please tell us why you gave us the score you did. - Datacenter solutions **Open_ended question**<br>\n",
    "Q7_2: Which of the following VMware solutions do you/your team currently use? - Selected Choice - Private Cloud VMware Cloud Foundation (VCF)<br>\n",
    "Q7A_2:\"Please rate your satisfaction with the following. - Private Cloud<br>\n",
    "Q7B_2_1:\"Please tell us why you gave us the score you did. - Private Cloud **Open_ended question**<br>\n",
    "Q7_3: Which of the following VMware solutions do you/your team currently use? - Selected Choice - Public Cloud  <br>\n",
    "Q7A_3:\"Please rate your satisfaction with the following. - Public Cloud VMware Cloud on AWS, Azure, Google, IBM, Oracle or other partner providers<br>\n",
    "Q7B_3_1:\"Please tell us why you gave us the score you did. - Public Cloud **Open_ended question**<br>\n",
    "Q7_4: Which of the following VMware solutions do you/your team currently use? - Selected Choice - Cloud Management <br>\n",
    "Q7A_4:\"Please rate your satisfaction with the following. - Cloud Management<br>\n",
    "Q7B_4_1:\"Please tell us why you gave us the score you did. - Cloud Management **Open_ended question**<br>\n",
    "Q7_5: Which of the following VMware solutions do you/your team currently use? - Selected Choice - Modern Application Platform <br>\n",
    "Q7A_5:\"Please rate your satisfaction with the following. - Modern Application Platform<br>\n",
    "Q7B_5_1:\"Please tell us why you gave us the score you did. - Modern Application Platform **Open_ended question**<br>\n",
    "Q7_6: Which of the following VMware solutions do you/your team currently use? - Selected Choice - Digital Workspace (including VDI)<br>\n",
    "Q7A_6:\"Please rate your satisfaction with the following. - Digital Workspace (including VDI)\n",
    "Q7B_6_1:\"Please tell us why you gave us the score you did. - Digital Workspace (including VDI)**Open_ended question**<br>\n",
    "Q7_7: Which of the following VMware solutions do you/your team currently use? - Selected Choice - Networking<br>\n",
    "Q7A_7:\"Please rate your satisfaction with the following. - Networking<br>\n",
    "Q7B_7_1:\"Please tell us why you gave us the score you did. - Networking **Open_ended question**<br>\n",
    "Q7_8: Which of the following VMware solutions do you/your team currently use? - Selected Choice - Security<br>\n",
    "Q7A_8:\"Please rate your satisfaction with the following. - Security<br>\n",
    "Q7B_8_1:\"Please tell us why you gave us the score you did. - Security **Open_ended question**<br>\n",
    "Q7_9: Which of the following VMware solutions do you/your team currently use? - Selected Choice - Other<br>\n",
    "Q7A_9:Please rate your satisfaction with the following. - Other!<br>\n",
    "Q7B_9_1:Please tell us why you gave us the score you did. - Other **Open_ended question**<br>\n",
    "Q7_9: Which of the following VMware solutions do you/your team currently use? - Other - Text<br>\n"
   ]
  },
  {
   "cell_type": "markdown",
   "metadata": {
    "id": "61e1ae1a"
   },
   "source": [
    "Q8_1:\"Which VMware solution(s) are you evaluating to adopt or expand your usage? - Selected Choice - Datacenter solutions <br>\n",
    "\n",
    "\n",
    "Q8_2:\"Which VMware solution(s) are you evaluating to adopt or expand your usage? - Selected Choice - Private Cloud <br>\n",
    " \n",
    "Q8_3:\"Which VMware solution(s) are you evaluating to adopt or expand your usage? - Selected Choice - Public Cloud <br>\n",
    "\n",
    "Q8_4:\"Which VMware solution(s) are you evaluating to adopt or expand your usage? - Selected Choice - Cloud Management<br>\n",
    "\n",
    "\n",
    "Q8_5:\"Which VMware solution(s) are you evaluating to adopt or expand your usage? - Selected Choice - Modern Application Platform<br>\n",
    "\n",
    " \n",
    "Q8_6:\"Which VMware solution(s) are you evaluating to adopt or expand your usage? - Selected Choice - Digital Workspace (including VDI)<br>\n",
    "\n",
    "\n",
    "Q8_7:\"Which VMware solution(s) are you evaluating to adopt or expand your usage? - Selected Choice - Networking<br>\n",
    "\n",
    " \n",
    "Q8_8:\"Which VMware solution(s) are you evaluating to adopt or expand your usage? - Selected Choice - Security<br>\n",
    "\n",
    "\n",
    "Q8_9:Which VMware solution(s) are you evaluating to adopt or expand your usage? - Selected Choice - Other!<br>"
   ]
  },
  {
   "cell_type": "markdown",
   "metadata": {
    "id": "33dccad6"
   },
   "source": [
    "#### 4. Questions about customers' future strategy"
   ]
  },
  {
   "cell_type": "markdown",
   "metadata": {
    "id": "2f79630b"
   },
   "source": [
    "Q9_1:How will your future technology strategy evolve due to the current business climate?  Select all that apply. - Accelerate IaaS adoption<br>\n",
    "Q9_2:How will your future technology strategy evolve due to the current business climate?  Select all that apply. - Expand hybrid cloud<br>\n",
    "Q9_3:How will your future technology strategy evolve due to the current business climate?  Select all that apply. - Expand on-prem<br>\n",
    "Q9_4:How will your future technology strategy evolve due to the current business climate?  Select all that apply. - Scale down on-prem<br>\n",
    "Q9_5:How will your future technology strategy evolve due to the current business climate?  Select all that apply. - Accelerate SaaS adoption<br>\n",
    "Q9_6:How will your future technology strategy evolve due to the current business climate?  Select all that apply. - Remote workforce<br>\n",
    "Q9_7:How will your future technology strategy evolve due to the current business climate?  Select all that apply. - Enhance security<br>\n",
    "Q9_8:How will your future technology strategy evolve due to the current business climate?  Select all that apply. - Business continuity<br>\n",
    "Q9_9:How will your future technology strategy evolve due to the current business climate?  Select all that apply. - Maintain with less budget<br>"
   ]
  },
  {
   "cell_type": "markdown",
   "metadata": {
    "id": "adf61a71"
   },
   "source": [
    "#### 5. Willingness to provide more feedbacks"
   ]
  },
  {
   "cell_type": "markdown",
   "metadata": {
    "id": "82b8d13e"
   },
   "source": [
    "Q10_1_1:Are you interested in providing us with more feedback on VMwareâ€™s products, services and experiences? We invite you to join our Inner Circle Community where you can directly influence the future of VMware. We commit to making it worth your time with added value for joining. - Please check this box if you'd like to join the program and we'llÂ follow up with more information soon! -"
   ]
  },
  {
   "cell_type": "markdown",
   "metadata": {
    "id": "20e897ab"
   },
   "source": [
    "Q11_1:Would you be willing to participate in a follow-up conversation via phone or email related to this survey? - I wish to be contacted by VMware to discuss my feedback."
   ]
  },
  {
   "cell_type": "markdown",
   "metadata": {
    "id": "808a40a4"
   },
   "source": [
    "### Data cleaning : drop columns and rows"
   ]
  },
  {
   "cell_type": "code",
   "execution_count": 7,
   "metadata": {
    "id": "19059ada"
   },
   "outputs": [],
   "source": [
    "# drop first 2 rows\n",
    "df.drop(labels=[0,1],inplace = True)"
   ]
  },
  {
   "cell_type": "code",
   "execution_count": 8,
   "metadata": {
    "id": "f71c1084",
    "outputId": "4a9d90ea-85c5-42aa-a9a1-51398e65af17"
   },
   "outputs": [
    {
     "data": {
      "text/plain": [
       "['StartDate',\n",
       " 'EndDate',\n",
       " 'Status',\n",
       " 'Progress',\n",
       " 'Duration (in seconds)',\n",
       " 'Finished',\n",
       " 'RecordedDate',\n",
       " 'ResponseId',\n",
       " 'DistributionChannel',\n",
       " 'UserLanguage',\n",
       " 'Q_RecaptchaScore',\n",
       " 'Q1_NPS_GROUP',\n",
       " 'Q1',\n",
       " 'Q2A',\n",
       " 'Q2B',\n",
       " 'Q2C',\n",
       " 'Q3',\n",
       " 'Q4',\n",
       " 'Q4A',\n",
       " 'Q5_1',\n",
       " 'Q5_2',\n",
       " 'Q5_3',\n",
       " 'Q5_4',\n",
       " 'Q5_5',\n",
       " 'Q5_6',\n",
       " 'Q6_1',\n",
       " 'Q6_2',\n",
       " 'Q6_3',\n",
       " 'Q6_4',\n",
       " 'Q6_5',\n",
       " 'Q6A',\n",
       " 'Q7_1',\n",
       " 'Q7_2',\n",
       " 'Q7_3',\n",
       " 'Q7_4',\n",
       " 'Q7_5',\n",
       " 'Q7_6',\n",
       " 'Q7_7',\n",
       " 'Q7_8',\n",
       " 'Q7_9',\n",
       " 'Q7_9_TEXT',\n",
       " 'Q7A_1',\n",
       " 'Q7A_2',\n",
       " 'Q7A_3',\n",
       " 'Q7A_4',\n",
       " 'Q7A_5',\n",
       " 'Q7A_6',\n",
       " 'Q7A_7',\n",
       " 'Q7A_8',\n",
       " 'Q7A_9',\n",
       " 'Q7A_9_TEXT',\n",
       " 'Q7B_1_1',\n",
       " 'Q7B_2_1',\n",
       " 'Q7B_3_1',\n",
       " 'Q7B_4_1',\n",
       " 'Q7B_5_1',\n",
       " 'Q7B_6_1',\n",
       " 'Q7B_7_1',\n",
       " 'Q7B_8_1',\n",
       " 'Q7B_9_TEXT',\n",
       " 'Q7B_9_1',\n",
       " 'Q8_1',\n",
       " 'Q8_2',\n",
       " 'Q8_3',\n",
       " 'Q8_4',\n",
       " 'Q8_5',\n",
       " 'Q8_6',\n",
       " 'Q8_7',\n",
       " 'Q8_8',\n",
       " 'Q8_9',\n",
       " 'Q8_9_TEXT',\n",
       " 'Q9_1',\n",
       " 'Q9_2',\n",
       " 'Q9_3',\n",
       " 'Q9_4',\n",
       " 'Q9_5',\n",
       " 'Q9_6',\n",
       " 'Q9_7',\n",
       " 'Q9_8',\n",
       " 'Q9_9',\n",
       " 'Q10_1_1',\n",
       " 'Q11_1',\n",
       " 'Wave',\n",
       " 'WaveUpdate',\n",
       " 'complete_status',\n",
       " 'SurveyID',\n",
       " 'ResponseID',\n",
       " 'Subject',\n",
       " 'PanelID',\n",
       " 'Language',\n",
       " 'RecipientLanguage',\n",
       " 'Q_Language',\n",
       " 'person_geo',\n",
       " 'person_region',\n",
       " 'person_country',\n",
       " 'language',\n",
       " 'person_industry',\n",
       " 'sales_segment',\n",
       " 'source',\n",
       " 'account',\n",
       " 'TranslationLanguage',\n",
       " 'CSM',\n",
       " 'CMBU_CSM',\n",
       " 'EUC_CSM',\n",
       " 'VMC_CSM',\n",
       " 'Hierarchy',\n",
       " 'Job Role',\n",
       " 'Job Title',\n",
       " 'ResponseId.1',\n",
       " 'FINALREGION',\n",
       " 'WEIGHT',\n",
       " 'CB_CSM',\n",
       " 'WT_SEGMENT',\n",
       " 'mobile_device',\n",
       " 'Q4A_EN',\n",
       " 'Q2C_EN',\n",
       " 'Q6a_EN',\n",
       " 'Q2A_EN',\n",
       " 'Q2B_EN',\n",
       " 'Q7b_1_EN',\n",
       " 'Q7b_2_EN',\n",
       " 'Q7b_3_EN',\n",
       " 'Q7b_4_EN',\n",
       " 'Q7b_9_EN',\n",
       " 'Q7b_5_EN',\n",
       " 'Q7b_6_EN',\n",
       " 'Q7b_8_EN',\n",
       " 'Q7b_7_EN']"
      ]
     },
     "execution_count": 8,
     "metadata": {},
     "output_type": "execute_result"
    }
   ],
   "source": [
    "#get all the column names\n",
    "list(df.columns)"
   ]
  },
  {
   "cell_type": "code",
   "execution_count": 9,
   "metadata": {
    "id": "c50ac38d"
   },
   "outputs": [],
   "source": [
    "# drop useless columns\n",
    "df.drop(columns=['Status','Progress','Finished','RecordedDate',\\\n",
    " 'ResponseId','DistributionChannel','Q_RecaptchaScore','Wave','WaveUpdate','SurveyID','ResponseID',\\\n",
    " 'Subject','PanelID','ResponseId.1','mobile_device'],inplace = True)"
   ]
  },
  {
   "cell_type": "code",
   "execution_count": 10,
   "metadata": {
    "id": "350b5892",
    "outputId": "7caf7831-3204-492e-d81f-3268c19d6615",
    "scrolled": true
   },
   "outputs": [
    {
     "data": {
      "text/html": [
       "<div>\n",
       "<style scoped>\n",
       "    .dataframe tbody tr th:only-of-type {\n",
       "        vertical-align: middle;\n",
       "    }\n",
       "\n",
       "    .dataframe tbody tr th {\n",
       "        vertical-align: top;\n",
       "    }\n",
       "\n",
       "    .dataframe thead th {\n",
       "        text-align: right;\n",
       "    }\n",
       "</style>\n",
       "<table border=\"1\" class=\"dataframe\">\n",
       "  <thead>\n",
       "    <tr style=\"text-align: right;\">\n",
       "      <th></th>\n",
       "      <th>StartDate</th>\n",
       "      <th>EndDate</th>\n",
       "      <th>Duration (in seconds)</th>\n",
       "      <th>UserLanguage</th>\n",
       "      <th>Q1_NPS_GROUP</th>\n",
       "      <th>Q1</th>\n",
       "      <th>Q2A</th>\n",
       "      <th>Q2B</th>\n",
       "      <th>Q2C</th>\n",
       "      <th>Q3</th>\n",
       "      <th>Q4</th>\n",
       "      <th>Q4A</th>\n",
       "      <th>Q5_1</th>\n",
       "      <th>Q5_2</th>\n",
       "      <th>Q5_3</th>\n",
       "      <th>Q5_4</th>\n",
       "      <th>Q5_5</th>\n",
       "      <th>Q5_6</th>\n",
       "      <th>Q6_1</th>\n",
       "      <th>Q6_2</th>\n",
       "      <th>Q6_3</th>\n",
       "      <th>Q6_4</th>\n",
       "      <th>Q6_5</th>\n",
       "      <th>Q6A</th>\n",
       "      <th>Q7_1</th>\n",
       "      <th>Q7_2</th>\n",
       "      <th>Q7_3</th>\n",
       "      <th>Q7_4</th>\n",
       "      <th>Q7_5</th>\n",
       "      <th>Q7_6</th>\n",
       "      <th>Q7_7</th>\n",
       "      <th>Q7_8</th>\n",
       "      <th>Q7_9</th>\n",
       "      <th>Q7_9_TEXT</th>\n",
       "      <th>Q7A_1</th>\n",
       "      <th>Q7A_2</th>\n",
       "      <th>Q7A_3</th>\n",
       "      <th>Q7A_4</th>\n",
       "      <th>Q7A_5</th>\n",
       "      <th>Q7A_6</th>\n",
       "      <th>Q7A_7</th>\n",
       "      <th>Q7A_8</th>\n",
       "      <th>Q7A_9</th>\n",
       "      <th>Q7A_9_TEXT</th>\n",
       "      <th>Q7B_1_1</th>\n",
       "      <th>Q7B_2_1</th>\n",
       "      <th>Q7B_3_1</th>\n",
       "      <th>Q7B_4_1</th>\n",
       "      <th>Q7B_5_1</th>\n",
       "      <th>Q7B_6_1</th>\n",
       "      <th>Q7B_7_1</th>\n",
       "      <th>Q7B_8_1</th>\n",
       "      <th>Q7B_9_TEXT</th>\n",
       "      <th>Q7B_9_1</th>\n",
       "      <th>Q8_1</th>\n",
       "      <th>Q8_2</th>\n",
       "      <th>Q8_3</th>\n",
       "      <th>Q8_4</th>\n",
       "      <th>Q8_5</th>\n",
       "      <th>Q8_6</th>\n",
       "      <th>Q8_7</th>\n",
       "      <th>Q8_8</th>\n",
       "      <th>Q8_9</th>\n",
       "      <th>Q8_9_TEXT</th>\n",
       "      <th>Q9_1</th>\n",
       "      <th>Q9_2</th>\n",
       "      <th>Q9_3</th>\n",
       "      <th>Q9_4</th>\n",
       "      <th>Q9_5</th>\n",
       "      <th>Q9_6</th>\n",
       "      <th>Q9_7</th>\n",
       "      <th>Q9_8</th>\n",
       "      <th>Q9_9</th>\n",
       "      <th>Q10_1_1</th>\n",
       "      <th>Q11_1</th>\n",
       "      <th>complete_status</th>\n",
       "      <th>Language</th>\n",
       "      <th>RecipientLanguage</th>\n",
       "      <th>Q_Language</th>\n",
       "      <th>person_geo</th>\n",
       "      <th>person_region</th>\n",
       "      <th>person_country</th>\n",
       "      <th>language</th>\n",
       "      <th>person_industry</th>\n",
       "      <th>sales_segment</th>\n",
       "      <th>source</th>\n",
       "      <th>account</th>\n",
       "      <th>TranslationLanguage</th>\n",
       "      <th>CSM</th>\n",
       "      <th>CMBU_CSM</th>\n",
       "      <th>EUC_CSM</th>\n",
       "      <th>VMC_CSM</th>\n",
       "      <th>Hierarchy</th>\n",
       "      <th>Job Role</th>\n",
       "      <th>Job Title</th>\n",
       "      <th>FINALREGION</th>\n",
       "      <th>WEIGHT</th>\n",
       "      <th>CB_CSM</th>\n",
       "      <th>WT_SEGMENT</th>\n",
       "      <th>Q4A_EN</th>\n",
       "      <th>Q2C_EN</th>\n",
       "      <th>Q6a_EN</th>\n",
       "      <th>Q2A_EN</th>\n",
       "      <th>Q2B_EN</th>\n",
       "      <th>Q7b_1_EN</th>\n",
       "      <th>Q7b_2_EN</th>\n",
       "      <th>Q7b_3_EN</th>\n",
       "      <th>Q7b_4_EN</th>\n",
       "      <th>Q7b_9_EN</th>\n",
       "      <th>Q7b_5_EN</th>\n",
       "      <th>Q7b_6_EN</th>\n",
       "      <th>Q7b_8_EN</th>\n",
       "      <th>Q7b_7_EN</th>\n",
       "    </tr>\n",
       "  </thead>\n",
       "  <tbody>\n",
       "    <tr>\n",
       "      <th>2</th>\n",
       "      <td>11/15/2021 21:04</td>\n",
       "      <td>11/15/2021 21:07</td>\n",
       "      <td>223</td>\n",
       "      <td>EN</td>\n",
       "      <td>Promoter</td>\n",
       "      <td>9</td>\n",
       "      <td>NaN</td>\n",
       "      <td>NaN</td>\n",
       "      <td>NaN</td>\n",
       "      <td>Practitioner â€“ Perform the day-to-day VMware...</td>\n",
       "      <td>Yes</td>\n",
       "      <td>NaN</td>\n",
       "      <td>5</td>\n",
       "      <td>5</td>\n",
       "      <td>5</td>\n",
       "      <td>5</td>\n",
       "      <td>6</td>\n",
       "      <td>6</td>\n",
       "      <td>5</td>\n",
       "      <td>4</td>\n",
       "      <td>5</td>\n",
       "      <td>5</td>\n",
       "      <td>5</td>\n",
       "      <td>NaN</td>\n",
       "      <td>Datacenter solutions \\n\\n VMware vSphere, VMwa...</td>\n",
       "      <td>NaN</td>\n",
       "      <td>NaN</td>\n",
       "      <td>NaN</td>\n",
       "      <td>NaN</td>\n",
       "      <td>NaN</td>\n",
       "      <td>NaN</td>\n",
       "      <td>NaN</td>\n",
       "      <td>NaN</td>\n",
       "      <td>NaN</td>\n",
       "      <td>Extremely Satisfied  - 7</td>\n",
       "      <td>NaN</td>\n",
       "      <td>NaN</td>\n",
       "      <td>NaN</td>\n",
       "      <td>NaN</td>\n",
       "      <td>NaN</td>\n",
       "      <td>NaN</td>\n",
       "      <td>NaN</td>\n",
       "      <td>NaN</td>\n",
       "      <td>NaN</td>\n",
       "      <td>NaN</td>\n",
       "      <td>NaN</td>\n",
       "      <td>NaN</td>\n",
       "      <td>NaN</td>\n",
       "      <td>NaN</td>\n",
       "      <td>NaN</td>\n",
       "      <td>NaN</td>\n",
       "      <td>NaN</td>\n",
       "      <td>NaN</td>\n",
       "      <td>NaN</td>\n",
       "      <td>NaN</td>\n",
       "      <td>NaN</td>\n",
       "      <td>NaN</td>\n",
       "      <td>NaN</td>\n",
       "      <td>NaN</td>\n",
       "      <td>NaN</td>\n",
       "      <td>NaN</td>\n",
       "      <td>NaN</td>\n",
       "      <td>NaN</td>\n",
       "      <td>NaN</td>\n",
       "      <td>NaN</td>\n",
       "      <td>NaN</td>\n",
       "      <td>NaN</td>\n",
       "      <td>NaN</td>\n",
       "      <td>NaN</td>\n",
       "      <td>NaN</td>\n",
       "      <td>NaN</td>\n",
       "      <td>NaN</td>\n",
       "      <td>Maintain with less budget</td>\n",
       "      <td>NaN</td>\n",
       "      <td>I wish to be contacted by VMware to discuss my...</td>\n",
       "      <td>1</td>\n",
       "      <td>EN</td>\n",
       "      <td>EN</td>\n",
       "      <td>EN</td>\n",
       "      <td>APJ</td>\n",
       "      <td>ASEAN</td>\n",
       "      <td>INDONESIA</td>\n",
       "      <td>NaN</td>\n",
       "      <td>NaN</td>\n",
       "      <td>NaN</td>\n",
       "      <td>SFDC</td>\n",
       "      <td>NaN</td>\n",
       "      <td>NaN</td>\n",
       "      <td>0</td>\n",
       "      <td>0</td>\n",
       "      <td>0</td>\n",
       "      <td>0</td>\n",
       "      <td>NaN</td>\n",
       "      <td>NaN</td>\n",
       "      <td>NaN</td>\n",
       "      <td>NaN</td>\n",
       "      <td>0.787109635</td>\n",
       "      <td>0</td>\n",
       "      <td>2HFY22__1</td>\n",
       "      <td>NaN</td>\n",
       "      <td>NaN</td>\n",
       "      <td>NaN</td>\n",
       "      <td>NaN</td>\n",
       "      <td>NaN</td>\n",
       "      <td>NaN</td>\n",
       "      <td>NaN</td>\n",
       "      <td>NaN</td>\n",
       "      <td>NaN</td>\n",
       "      <td>NaN</td>\n",
       "      <td>NaN</td>\n",
       "      <td>NaN</td>\n",
       "      <td>NaN</td>\n",
       "      <td>NaN</td>\n",
       "    </tr>\n",
       "    <tr>\n",
       "      <th>3</th>\n",
       "      <td>11/10/2021 9:00</td>\n",
       "      <td>11/10/2021 9:05</td>\n",
       "      <td>262</td>\n",
       "      <td>DE</td>\n",
       "      <td>Passive</td>\n",
       "      <td>8</td>\n",
       "      <td>NaN</td>\n",
       "      <td>NaN</td>\n",
       "      <td>Technisch top, doch immer mehr kostenintensiv.</td>\n",
       "      <td>Budget Owner â€“ Final decision-maker on signi...</td>\n",
       "      <td>Yes</td>\n",
       "      <td>NaN</td>\n",
       "      <td>3</td>\n",
       "      <td>6</td>\n",
       "      <td>4</td>\n",
       "      <td>4</td>\n",
       "      <td>6</td>\n",
       "      <td>5</td>\n",
       "      <td>5</td>\n",
       "      <td>6</td>\n",
       "      <td>6</td>\n",
       "      <td>6</td>\n",
       "      <td>5</td>\n",
       "      <td>NaN</td>\n",
       "      <td>Datacenter solutions \\n\\n VMware vSphere, VMwa...</td>\n",
       "      <td>NaN</td>\n",
       "      <td>NaN</td>\n",
       "      <td>NaN</td>\n",
       "      <td>NaN</td>\n",
       "      <td>NaN</td>\n",
       "      <td>NaN</td>\n",
       "      <td>NaN</td>\n",
       "      <td>NaN</td>\n",
       "      <td>NaN</td>\n",
       "      <td>6</td>\n",
       "      <td>NaN</td>\n",
       "      <td>NaN</td>\n",
       "      <td>NaN</td>\n",
       "      <td>NaN</td>\n",
       "      <td>NaN</td>\n",
       "      <td>NaN</td>\n",
       "      <td>NaN</td>\n",
       "      <td>NaN</td>\n",
       "      <td>NaN</td>\n",
       "      <td>Technisch sehr zuverlÃ¤ssig</td>\n",
       "      <td>NaN</td>\n",
       "      <td>NaN</td>\n",
       "      <td>NaN</td>\n",
       "      <td>NaN</td>\n",
       "      <td>NaN</td>\n",
       "      <td>NaN</td>\n",
       "      <td>NaN</td>\n",
       "      <td>NaN</td>\n",
       "      <td>NaN</td>\n",
       "      <td>NaN</td>\n",
       "      <td>NaN</td>\n",
       "      <td>NaN</td>\n",
       "      <td>NaN</td>\n",
       "      <td>Modern Application Platform\\n\\n VMware Tanzu p...</td>\n",
       "      <td>Digital Workspace (including VDI)\\n\\n Workspac...</td>\n",
       "      <td>NaN</td>\n",
       "      <td>NaN</td>\n",
       "      <td>NaN</td>\n",
       "      <td>NaN</td>\n",
       "      <td>NaN</td>\n",
       "      <td>Expand hybrid cloud</td>\n",
       "      <td>NaN</td>\n",
       "      <td>NaN</td>\n",
       "      <td>NaN</td>\n",
       "      <td>Remote workforce</td>\n",
       "      <td>Enhance security</td>\n",
       "      <td>NaN</td>\n",
       "      <td>NaN</td>\n",
       "      <td>NaN</td>\n",
       "      <td>I wish to be contacted by VMware to discuss my...</td>\n",
       "      <td>1</td>\n",
       "      <td>DE</td>\n",
       "      <td>DE</td>\n",
       "      <td>DE</td>\n",
       "      <td>EMEA</td>\n",
       "      <td>CEMEA</td>\n",
       "      <td>GERMANY</td>\n",
       "      <td>NaN</td>\n",
       "      <td>Other</td>\n",
       "      <td>C2</td>\n",
       "      <td>MDH</td>\n",
       "      <td>NaN</td>\n",
       "      <td>NaN</td>\n",
       "      <td>0</td>\n",
       "      <td>0</td>\n",
       "      <td>0</td>\n",
       "      <td>0</td>\n",
       "      <td>IT PRACTITIONER</td>\n",
       "      <td>Systems Administrator</td>\n",
       "      <td>Sysadmin</td>\n",
       "      <td>NaN</td>\n",
       "      <td>0.536990027</td>\n",
       "      <td>0</td>\n",
       "      <td>2HFY22__1</td>\n",
       "      <td>NaN</td>\n",
       "      <td>Technically top, but always more expensive.</td>\n",
       "      <td>NaN</td>\n",
       "      <td>NaN</td>\n",
       "      <td>NaN</td>\n",
       "      <td>Technically very reliable</td>\n",
       "      <td>NaN</td>\n",
       "      <td>NaN</td>\n",
       "      <td>NaN</td>\n",
       "      <td>NaN</td>\n",
       "      <td>NaN</td>\n",
       "      <td>NaN</td>\n",
       "      <td>NaN</td>\n",
       "      <td>NaN</td>\n",
       "    </tr>\n",
       "  </tbody>\n",
       "</table>\n",
       "</div>"
      ],
      "text/plain": [
       "          StartDate           EndDate Duration (in seconds) UserLanguage  \\\n",
       "2  11/15/2021 21:04  11/15/2021 21:07                   223           EN   \n",
       "3   11/10/2021 9:00   11/10/2021 9:05                   262           DE   \n",
       "\n",
       "  Q1_NPS_GROUP Q1  Q2A  Q2B                                             Q2C  \\\n",
       "2     Promoter  9  NaN  NaN                                             NaN   \n",
       "3      Passive  8  NaN  NaN  Technisch top, doch immer mehr kostenintensiv.   \n",
       "\n",
       "                                                  Q3   Q4  Q4A Q5_1 Q5_2 Q5_3  \\\n",
       "2  Practitioner â€“ Perform the day-to-day VMware...  Yes  NaN    5    5    5   \n",
       "3  Budget Owner â€“ Final decision-maker on signi...  Yes  NaN    3    6    4   \n",
       "\n",
       "  Q5_4 Q5_5 Q5_6 Q6_1 Q6_2 Q6_3 Q6_4 Q6_5  Q6A  \\\n",
       "2    5    6    6    5    4    5    5    5  NaN   \n",
       "3    4    6    5    5    6    6    6    5  NaN   \n",
       "\n",
       "                                                Q7_1 Q7_2 Q7_3 Q7_4 Q7_5 Q7_6  \\\n",
       "2  Datacenter solutions \\n\\n VMware vSphere, VMwa...  NaN  NaN  NaN  NaN  NaN   \n",
       "3  Datacenter solutions \\n\\n VMware vSphere, VMwa...  NaN  NaN  NaN  NaN  NaN   \n",
       "\n",
       "  Q7_7 Q7_8 Q7_9 Q7_9_TEXT                     Q7A_1 Q7A_2 Q7A_3 Q7A_4 Q7A_5  \\\n",
       "2  NaN  NaN  NaN       NaN  Extremely Satisfied  - 7   NaN   NaN   NaN   NaN   \n",
       "3  NaN  NaN  NaN       NaN                         6   NaN   NaN   NaN   NaN   \n",
       "\n",
       "  Q7A_6 Q7A_7 Q7A_8 Q7A_9 Q7A_9_TEXT                      Q7B_1_1 Q7B_2_1  \\\n",
       "2   NaN   NaN   NaN   NaN        NaN                          NaN     NaN   \n",
       "3   NaN   NaN   NaN   NaN        NaN  Technisch sehr zuverlÃ¤ssig     NaN   \n",
       "\n",
       "  Q7B_3_1 Q7B_4_1 Q7B_5_1 Q7B_6_1 Q7B_7_1 Q7B_8_1 Q7B_9_TEXT Q7B_9_1 Q8_1  \\\n",
       "2     NaN     NaN     NaN     NaN     NaN     NaN        NaN     NaN  NaN   \n",
       "3     NaN     NaN     NaN     NaN     NaN     NaN        NaN     NaN  NaN   \n",
       "\n",
       "  Q8_2 Q8_3 Q8_4                                               Q8_5  \\\n",
       "2  NaN  NaN  NaN                                                NaN   \n",
       "3  NaN  NaN  NaN  Modern Application Platform\\n\\n VMware Tanzu p...   \n",
       "\n",
       "                                                Q8_6 Q8_7 Q8_8 Q8_9 Q8_9_TEXT  \\\n",
       "2                                                NaN  NaN  NaN  NaN       NaN   \n",
       "3  Digital Workspace (including VDI)\\n\\n Workspac...  NaN  NaN  NaN       NaN   \n",
       "\n",
       "  Q9_1                 Q9_2 Q9_3 Q9_4 Q9_5              Q9_6  \\\n",
       "2  NaN                  NaN  NaN  NaN  NaN               NaN   \n",
       "3  NaN  Expand hybrid cloud  NaN  NaN  NaN  Remote workforce   \n",
       "\n",
       "               Q9_7 Q9_8                       Q9_9 Q10_1_1  \\\n",
       "2               NaN  NaN  Maintain with less budget     NaN   \n",
       "3  Enhance security  NaN                        NaN     NaN   \n",
       "\n",
       "                                               Q11_1 complete_status Language  \\\n",
       "2  I wish to be contacted by VMware to discuss my...               1       EN   \n",
       "3  I wish to be contacted by VMware to discuss my...               1       DE   \n",
       "\n",
       "  RecipientLanguage Q_Language person_geo person_region person_country  \\\n",
       "2                EN         EN        APJ         ASEAN      INDONESIA   \n",
       "3                DE         DE       EMEA         CEMEA        GERMANY   \n",
       "\n",
       "  language person_industry sales_segment source account TranslationLanguage  \\\n",
       "2      NaN             NaN           NaN   SFDC     NaN                 NaN   \n",
       "3      NaN           Other            C2    MDH     NaN                 NaN   \n",
       "\n",
       "  CSM CMBU_CSM EUC_CSM VMC_CSM        Hierarchy               Job Role  \\\n",
       "2   0        0       0       0              NaN                    NaN   \n",
       "3   0        0       0       0  IT PRACTITIONER  Systems Administrator   \n",
       "\n",
       "  Job Title FINALREGION       WEIGHT CB_CSM WT_SEGMENT Q4A_EN  \\\n",
       "2       NaN         NaN  0.787109635      0  2HFY22__1    NaN   \n",
       "3  Sysadmin         NaN  0.536990027      0  2HFY22__1    NaN   \n",
       "\n",
       "                                        Q2C_EN Q6a_EN Q2A_EN Q2B_EN  \\\n",
       "2                                          NaN    NaN    NaN    NaN   \n",
       "3  Technically top, but always more expensive.    NaN    NaN    NaN   \n",
       "\n",
       "                    Q7b_1_EN Q7b_2_EN Q7b_3_EN Q7b_4_EN Q7b_9_EN Q7b_5_EN  \\\n",
       "2                        NaN      NaN      NaN      NaN      NaN      NaN   \n",
       "3  Technically very reliable      NaN      NaN      NaN      NaN      NaN   \n",
       "\n",
       "  Q7b_6_EN Q7b_8_EN Q7b_7_EN  \n",
       "2      NaN      NaN      NaN  \n",
       "3      NaN      NaN      NaN  "
      ]
     },
     "execution_count": 10,
     "metadata": {},
     "output_type": "execute_result"
    }
   ],
   "source": [
    "df.head(2)"
   ]
  },
  {
   "cell_type": "markdown",
   "metadata": {
    "id": "120fc34c"
   },
   "source": [
    "**replace long strings**"
   ]
  },
  {
   "cell_type": "code",
   "execution_count": 11,
   "metadata": {
    "id": "1be88b7a",
    "outputId": "eb0e28d5-e02f-4146-87ed-e1e28999b58e",
    "scrolled": false
   },
   "outputs": [
    {
     "data": {
      "text/plain": [
       "array(['Practitioner â€“ Perform the day-to-day VMware operations for my company',\n",
       "       'Budget Owner â€“ Final decision-maker on significant VMware purchases for my company',\n",
       "       'Influencer â€“ Influence what my company buys and oversee implementation of VMware',\n",
       "       'Non-IT Influencer - Influence my companyâ€™s adoption of VMware, but not involved in implementation of VMware',\n",
       "       'Partner â€“ Member of the VMware Partner Network (e.g. Value-Added Reseller)'],\n",
       "      dtype=object)"
      ]
     },
     "execution_count": 11,
     "metadata": {},
     "output_type": "execute_result"
    }
   ],
   "source": [
    "df.Q3.unique()"
   ]
  },
  {
   "cell_type": "code",
   "execution_count": 12,
   "metadata": {
    "id": "de445d7f"
   },
   "outputs": [],
   "source": [
    "df.replace(to_replace='Practitioner â€“ Perform the day-to-day VMware operations for my company',value='Practitioner',inplace=True)\n",
    "df.replace(to_replace='Budget Owner â€“ Final decision-maker on significant VMware purchases for my company',value='BudgetOwner',inplace=True)\n",
    "df.replace(to_replace='Influencer â€“ Influence what my company buys and oversee implementation of VMware',value='Influencer',inplace=True)\n",
    "df.replace(to_replace='Non-IT Influencer - Influence my companyâ€™s adoption of VMware, but not involved in implementation of VMware',value='NonIT_Influencer',inplace=True)\n",
    "df.replace(to_replace='Partner â€“ Member of the VMware Partner Network (e.g. Value-Added Reseller)',value='Partner',inplace=True)"
   ]
  },
  {
   "cell_type": "code",
   "execution_count": 13,
   "metadata": {
    "id": "0b5924f2",
    "outputId": "bffd8862-d1a8-4d14-fb21-f3503caf70ce"
   },
   "outputs": [
    {
     "data": {
      "text/plain": [
       "array(['I wish to be contacted by VMware to discuss my feedback.', nan],\n",
       "      dtype=object)"
      ]
     },
     "execution_count": 13,
     "metadata": {},
     "output_type": "execute_result"
    }
   ],
   "source": [
    "df.Q11_1.unique()"
   ]
  },
  {
   "cell_type": "code",
   "execution_count": 14,
   "metadata": {
    "id": "50928c69"
   },
   "outputs": [],
   "source": [
    "df.replace(to_replace='I wish to be contacted by VMware to discuss my feedback.',value= 1,inplace=True)"
   ]
  },
  {
   "cell_type": "markdown",
   "metadata": {
    "id": "5f135eed"
   },
   "source": [
    "**replace scores with 1-7**"
   ]
  },
  {
   "cell_type": "code",
   "execution_count": 15,
   "metadata": {
    "id": "b83d5a56",
    "outputId": "72a3d6ba-38b9-49b4-fb54-6e48dcb838c1"
   },
   "outputs": [
    {
     "data": {
      "text/plain": [
       "array(['5', '3', nan, '6', 'Extremely Satisfied  -   7', '2', '4',\n",
       "       'Extremely Dissatisfied  -  1'], dtype=object)"
      ]
     },
     "execution_count": 15,
     "metadata": {},
     "output_type": "execute_result"
    }
   ],
   "source": [
    "df.Q5_1.unique()"
   ]
  },
  {
   "cell_type": "code",
   "execution_count": 16,
   "metadata": {
    "id": "10174697",
    "outputId": "4dd17b20-8b71-4461-d776-2484a64184ce",
    "scrolled": true
   },
   "outputs": [
    {
     "data": {
      "text/plain": [
       "array(['6', '5', nan, 'Extremely Satisfied  -   7', '4', '2', '3',\n",
       "       'Extremely Dissatisfied  -  1'], dtype=object)"
      ]
     },
     "execution_count": 16,
     "metadata": {},
     "output_type": "execute_result"
    }
   ],
   "source": [
    "df.Q5_6.unique()"
   ]
  },
  {
   "cell_type": "code",
   "execution_count": 17,
   "metadata": {
    "id": "d0417587",
    "outputId": "462fe762-6656-423d-8027-b629efa9eda5",
    "scrolled": true
   },
   "outputs": [
    {
     "data": {
      "text/plain": [
       "array(['5', nan, '6', 'Extremely Agree  - 7', '4', '3',\n",
       "       'Extremely Disagree - 1', '2'], dtype=object)"
      ]
     },
     "execution_count": 17,
     "metadata": {},
     "output_type": "execute_result"
    }
   ],
   "source": [
    "df.Q6_1.unique()"
   ]
  },
  {
   "cell_type": "code",
   "execution_count": 18,
   "metadata": {
    "id": "d17054e5",
    "outputId": "934759f3-c1d5-4f57-e5f9-1ccdbfdd62b2",
    "scrolled": true
   },
   "outputs": [
    {
     "data": {
      "text/plain": [
       "array(['Extremely Satisfied  - 7', '6', '5', nan, '4',\n",
       "       'Extremely Dissatisfied - 1', '2', '3'], dtype=object)"
      ]
     },
     "execution_count": 18,
     "metadata": {},
     "output_type": "execute_result"
    }
   ],
   "source": [
    "df.Q7A_1.unique()"
   ]
  },
  {
   "cell_type": "code",
   "execution_count": 19,
   "metadata": {
    "id": "620d5ad3"
   },
   "outputs": [],
   "source": [
    "df.replace(to_replace='Extremely Satisfied  - 7',value='7',inplace=True)\n",
    "df.replace(to_replace='Extremely Satisfied  -   7',value='7',inplace=True)\n",
    "df.replace(to_replace='Extremely Dissatisfied - 1',value='1',inplace=True)\n",
    "df.replace(to_replace='Extremely Agree  - 7',value='7',inplace=True)\n",
    "df.replace(to_replace='Extremely Disagree - 1',value='1',inplace=True)\n",
    "df.replace(to_replace='Extremely Dissatisfied  -  1',value='1',inplace=True)"
   ]
  },
  {
   "cell_type": "code",
   "execution_count": 20,
   "metadata": {
    "id": "01690dad"
   },
   "outputs": [],
   "source": [
    "df.replace(to_replace='Yes',value='1',inplace=True)\n",
    "df.replace(to_replace='No',value='0',inplace=True)"
   ]
  },
  {
   "cell_type": "code",
   "execution_count": 21,
   "metadata": {
    "id": "51b12af9",
    "outputId": "562602a4-ba10-4b05-9635-c8972356b076"
   },
   "outputs": [
    {
     "data": {
      "text/plain": [
       "433372"
      ]
     },
     "execution_count": 21,
     "metadata": {},
     "output_type": "execute_result"
    }
   ],
   "source": [
    "df.isna().sum().sum()"
   ]
  },
  {
   "cell_type": "code",
   "execution_count": 22,
   "metadata": {
    "id": "2fed89d6",
    "outputId": "f087b933-92a5-4779-aa1b-511e8e0bf466",
    "scrolled": true
   },
   "outputs": [
    {
     "data": {
      "text/html": [
       "<div>\n",
       "<style scoped>\n",
       "    .dataframe tbody tr th:only-of-type {\n",
       "        vertical-align: middle;\n",
       "    }\n",
       "\n",
       "    .dataframe tbody tr th {\n",
       "        vertical-align: top;\n",
       "    }\n",
       "\n",
       "    .dataframe thead th {\n",
       "        text-align: right;\n",
       "    }\n",
       "</style>\n",
       "<table border=\"1\" class=\"dataframe\">\n",
       "  <thead>\n",
       "    <tr style=\"text-align: right;\">\n",
       "      <th></th>\n",
       "      <th>StartDate</th>\n",
       "      <th>EndDate</th>\n",
       "      <th>Duration (in seconds)</th>\n",
       "      <th>UserLanguage</th>\n",
       "      <th>Q1_NPS_GROUP</th>\n",
       "      <th>Q1</th>\n",
       "      <th>Q2A</th>\n",
       "      <th>Q2B</th>\n",
       "      <th>Q2C</th>\n",
       "      <th>Q3</th>\n",
       "      <th>Q4</th>\n",
       "      <th>Q4A</th>\n",
       "      <th>Q5_1</th>\n",
       "      <th>Q5_2</th>\n",
       "      <th>Q5_3</th>\n",
       "      <th>Q5_4</th>\n",
       "      <th>Q5_5</th>\n",
       "      <th>Q5_6</th>\n",
       "      <th>Q6_1</th>\n",
       "      <th>Q6_2</th>\n",
       "      <th>Q6_3</th>\n",
       "      <th>Q6_4</th>\n",
       "      <th>Q6_5</th>\n",
       "      <th>Q6A</th>\n",
       "      <th>Q7_1</th>\n",
       "      <th>Q7_2</th>\n",
       "      <th>Q7_3</th>\n",
       "      <th>Q7_4</th>\n",
       "      <th>Q7_5</th>\n",
       "      <th>Q7_6</th>\n",
       "      <th>Q7_7</th>\n",
       "      <th>Q7_8</th>\n",
       "      <th>Q7_9</th>\n",
       "      <th>Q7_9_TEXT</th>\n",
       "      <th>Q7A_1</th>\n",
       "      <th>Q7A_2</th>\n",
       "      <th>Q7A_3</th>\n",
       "      <th>Q7A_4</th>\n",
       "      <th>Q7A_5</th>\n",
       "      <th>Q7A_6</th>\n",
       "      <th>Q7A_7</th>\n",
       "      <th>Q7A_8</th>\n",
       "      <th>Q7A_9</th>\n",
       "      <th>Q7A_9_TEXT</th>\n",
       "      <th>Q7B_1_1</th>\n",
       "      <th>Q7B_2_1</th>\n",
       "      <th>Q7B_3_1</th>\n",
       "      <th>Q7B_4_1</th>\n",
       "      <th>Q7B_5_1</th>\n",
       "      <th>Q7B_6_1</th>\n",
       "      <th>Q7B_7_1</th>\n",
       "      <th>Q7B_8_1</th>\n",
       "      <th>Q7B_9_TEXT</th>\n",
       "      <th>Q7B_9_1</th>\n",
       "      <th>Q8_1</th>\n",
       "      <th>Q8_2</th>\n",
       "      <th>Q8_3</th>\n",
       "      <th>Q8_4</th>\n",
       "      <th>Q8_5</th>\n",
       "      <th>Q8_6</th>\n",
       "      <th>Q8_7</th>\n",
       "      <th>Q8_8</th>\n",
       "      <th>Q8_9</th>\n",
       "      <th>Q8_9_TEXT</th>\n",
       "      <th>Q9_1</th>\n",
       "      <th>Q9_2</th>\n",
       "      <th>Q9_3</th>\n",
       "      <th>Q9_4</th>\n",
       "      <th>Q9_5</th>\n",
       "      <th>Q9_6</th>\n",
       "      <th>Q9_7</th>\n",
       "      <th>Q9_8</th>\n",
       "      <th>Q9_9</th>\n",
       "      <th>Q10_1_1</th>\n",
       "      <th>Q11_1</th>\n",
       "      <th>complete_status</th>\n",
       "      <th>Language</th>\n",
       "      <th>RecipientLanguage</th>\n",
       "      <th>Q_Language</th>\n",
       "      <th>person_geo</th>\n",
       "      <th>person_region</th>\n",
       "      <th>person_country</th>\n",
       "      <th>language</th>\n",
       "      <th>person_industry</th>\n",
       "      <th>sales_segment</th>\n",
       "      <th>source</th>\n",
       "      <th>account</th>\n",
       "      <th>TranslationLanguage</th>\n",
       "      <th>CSM</th>\n",
       "      <th>CMBU_CSM</th>\n",
       "      <th>EUC_CSM</th>\n",
       "      <th>VMC_CSM</th>\n",
       "      <th>Hierarchy</th>\n",
       "      <th>Job Role</th>\n",
       "      <th>Job Title</th>\n",
       "      <th>FINALREGION</th>\n",
       "      <th>WEIGHT</th>\n",
       "      <th>CB_CSM</th>\n",
       "      <th>WT_SEGMENT</th>\n",
       "      <th>Q4A_EN</th>\n",
       "      <th>Q2C_EN</th>\n",
       "      <th>Q6a_EN</th>\n",
       "      <th>Q2A_EN</th>\n",
       "      <th>Q2B_EN</th>\n",
       "      <th>Q7b_1_EN</th>\n",
       "      <th>Q7b_2_EN</th>\n",
       "      <th>Q7b_3_EN</th>\n",
       "      <th>Q7b_4_EN</th>\n",
       "      <th>Q7b_9_EN</th>\n",
       "      <th>Q7b_5_EN</th>\n",
       "      <th>Q7b_6_EN</th>\n",
       "      <th>Q7b_8_EN</th>\n",
       "      <th>Q7b_7_EN</th>\n",
       "    </tr>\n",
       "  </thead>\n",
       "  <tbody>\n",
       "    <tr>\n",
       "      <th>2</th>\n",
       "      <td>11/15/2021 21:04</td>\n",
       "      <td>11/15/2021 21:07</td>\n",
       "      <td>223</td>\n",
       "      <td>EN</td>\n",
       "      <td>Promoter</td>\n",
       "      <td>9</td>\n",
       "      <td>NaN</td>\n",
       "      <td>NaN</td>\n",
       "      <td>NaN</td>\n",
       "      <td>Practitioner</td>\n",
       "      <td>1</td>\n",
       "      <td>NaN</td>\n",
       "      <td>5</td>\n",
       "      <td>5</td>\n",
       "      <td>5</td>\n",
       "      <td>5</td>\n",
       "      <td>6</td>\n",
       "      <td>6</td>\n",
       "      <td>5</td>\n",
       "      <td>4</td>\n",
       "      <td>5</td>\n",
       "      <td>5</td>\n",
       "      <td>5</td>\n",
       "      <td>NaN</td>\n",
       "      <td>Datacenter solutions \\n\\n VMware vSphere, VMwa...</td>\n",
       "      <td>NaN</td>\n",
       "      <td>NaN</td>\n",
       "      <td>NaN</td>\n",
       "      <td>NaN</td>\n",
       "      <td>NaN</td>\n",
       "      <td>NaN</td>\n",
       "      <td>NaN</td>\n",
       "      <td>NaN</td>\n",
       "      <td>NaN</td>\n",
       "      <td>7</td>\n",
       "      <td>NaN</td>\n",
       "      <td>NaN</td>\n",
       "      <td>NaN</td>\n",
       "      <td>NaN</td>\n",
       "      <td>NaN</td>\n",
       "      <td>NaN</td>\n",
       "      <td>NaN</td>\n",
       "      <td>NaN</td>\n",
       "      <td>NaN</td>\n",
       "      <td>NaN</td>\n",
       "      <td>NaN</td>\n",
       "      <td>NaN</td>\n",
       "      <td>NaN</td>\n",
       "      <td>NaN</td>\n",
       "      <td>NaN</td>\n",
       "      <td>NaN</td>\n",
       "      <td>NaN</td>\n",
       "      <td>NaN</td>\n",
       "      <td>NaN</td>\n",
       "      <td>NaN</td>\n",
       "      <td>NaN</td>\n",
       "      <td>NaN</td>\n",
       "      <td>NaN</td>\n",
       "      <td>NaN</td>\n",
       "      <td>NaN</td>\n",
       "      <td>NaN</td>\n",
       "      <td>NaN</td>\n",
       "      <td>NaN</td>\n",
       "      <td>NaN</td>\n",
       "      <td>NaN</td>\n",
       "      <td>NaN</td>\n",
       "      <td>NaN</td>\n",
       "      <td>NaN</td>\n",
       "      <td>NaN</td>\n",
       "      <td>NaN</td>\n",
       "      <td>NaN</td>\n",
       "      <td>NaN</td>\n",
       "      <td>Maintain with less budget</td>\n",
       "      <td>NaN</td>\n",
       "      <td>1.0</td>\n",
       "      <td>1</td>\n",
       "      <td>EN</td>\n",
       "      <td>EN</td>\n",
       "      <td>EN</td>\n",
       "      <td>APJ</td>\n",
       "      <td>ASEAN</td>\n",
       "      <td>INDONESIA</td>\n",
       "      <td>NaN</td>\n",
       "      <td>NaN</td>\n",
       "      <td>NaN</td>\n",
       "      <td>SFDC</td>\n",
       "      <td>NaN</td>\n",
       "      <td>NaN</td>\n",
       "      <td>0</td>\n",
       "      <td>0</td>\n",
       "      <td>0</td>\n",
       "      <td>0</td>\n",
       "      <td>NaN</td>\n",
       "      <td>NaN</td>\n",
       "      <td>NaN</td>\n",
       "      <td>NaN</td>\n",
       "      <td>0.787109635</td>\n",
       "      <td>0</td>\n",
       "      <td>2HFY22__1</td>\n",
       "      <td>NaN</td>\n",
       "      <td>NaN</td>\n",
       "      <td>NaN</td>\n",
       "      <td>NaN</td>\n",
       "      <td>NaN</td>\n",
       "      <td>NaN</td>\n",
       "      <td>NaN</td>\n",
       "      <td>NaN</td>\n",
       "      <td>NaN</td>\n",
       "      <td>NaN</td>\n",
       "      <td>NaN</td>\n",
       "      <td>NaN</td>\n",
       "      <td>NaN</td>\n",
       "      <td>NaN</td>\n",
       "    </tr>\n",
       "    <tr>\n",
       "      <th>3</th>\n",
       "      <td>11/10/2021 9:00</td>\n",
       "      <td>11/10/2021 9:05</td>\n",
       "      <td>262</td>\n",
       "      <td>DE</td>\n",
       "      <td>Passive</td>\n",
       "      <td>8</td>\n",
       "      <td>NaN</td>\n",
       "      <td>NaN</td>\n",
       "      <td>Technisch top, doch immer mehr kostenintensiv.</td>\n",
       "      <td>BudgetOwner</td>\n",
       "      <td>1</td>\n",
       "      <td>NaN</td>\n",
       "      <td>3</td>\n",
       "      <td>6</td>\n",
       "      <td>4</td>\n",
       "      <td>4</td>\n",
       "      <td>6</td>\n",
       "      <td>5</td>\n",
       "      <td>5</td>\n",
       "      <td>6</td>\n",
       "      <td>6</td>\n",
       "      <td>6</td>\n",
       "      <td>5</td>\n",
       "      <td>NaN</td>\n",
       "      <td>Datacenter solutions \\n\\n VMware vSphere, VMwa...</td>\n",
       "      <td>NaN</td>\n",
       "      <td>NaN</td>\n",
       "      <td>NaN</td>\n",
       "      <td>NaN</td>\n",
       "      <td>NaN</td>\n",
       "      <td>NaN</td>\n",
       "      <td>NaN</td>\n",
       "      <td>NaN</td>\n",
       "      <td>NaN</td>\n",
       "      <td>6</td>\n",
       "      <td>NaN</td>\n",
       "      <td>NaN</td>\n",
       "      <td>NaN</td>\n",
       "      <td>NaN</td>\n",
       "      <td>NaN</td>\n",
       "      <td>NaN</td>\n",
       "      <td>NaN</td>\n",
       "      <td>NaN</td>\n",
       "      <td>NaN</td>\n",
       "      <td>Technisch sehr zuverlÃ¤ssig</td>\n",
       "      <td>NaN</td>\n",
       "      <td>NaN</td>\n",
       "      <td>NaN</td>\n",
       "      <td>NaN</td>\n",
       "      <td>NaN</td>\n",
       "      <td>NaN</td>\n",
       "      <td>NaN</td>\n",
       "      <td>NaN</td>\n",
       "      <td>NaN</td>\n",
       "      <td>NaN</td>\n",
       "      <td>NaN</td>\n",
       "      <td>NaN</td>\n",
       "      <td>NaN</td>\n",
       "      <td>Modern Application Platform\\n\\n VMware Tanzu p...</td>\n",
       "      <td>Digital Workspace (including VDI)\\n\\n Workspac...</td>\n",
       "      <td>NaN</td>\n",
       "      <td>NaN</td>\n",
       "      <td>NaN</td>\n",
       "      <td>NaN</td>\n",
       "      <td>NaN</td>\n",
       "      <td>Expand hybrid cloud</td>\n",
       "      <td>NaN</td>\n",
       "      <td>NaN</td>\n",
       "      <td>NaN</td>\n",
       "      <td>Remote workforce</td>\n",
       "      <td>Enhance security</td>\n",
       "      <td>NaN</td>\n",
       "      <td>NaN</td>\n",
       "      <td>NaN</td>\n",
       "      <td>1.0</td>\n",
       "      <td>1</td>\n",
       "      <td>DE</td>\n",
       "      <td>DE</td>\n",
       "      <td>DE</td>\n",
       "      <td>EMEA</td>\n",
       "      <td>CEMEA</td>\n",
       "      <td>GERMANY</td>\n",
       "      <td>NaN</td>\n",
       "      <td>Other</td>\n",
       "      <td>C2</td>\n",
       "      <td>MDH</td>\n",
       "      <td>NaN</td>\n",
       "      <td>NaN</td>\n",
       "      <td>0</td>\n",
       "      <td>0</td>\n",
       "      <td>0</td>\n",
       "      <td>0</td>\n",
       "      <td>IT PRACTITIONER</td>\n",
       "      <td>Systems Administrator</td>\n",
       "      <td>Sysadmin</td>\n",
       "      <td>NaN</td>\n",
       "      <td>0.536990027</td>\n",
       "      <td>0</td>\n",
       "      <td>2HFY22__1</td>\n",
       "      <td>NaN</td>\n",
       "      <td>Technically top, but always more expensive.</td>\n",
       "      <td>NaN</td>\n",
       "      <td>NaN</td>\n",
       "      <td>NaN</td>\n",
       "      <td>Technically very reliable</td>\n",
       "      <td>NaN</td>\n",
       "      <td>NaN</td>\n",
       "      <td>NaN</td>\n",
       "      <td>NaN</td>\n",
       "      <td>NaN</td>\n",
       "      <td>NaN</td>\n",
       "      <td>NaN</td>\n",
       "      <td>NaN</td>\n",
       "    </tr>\n",
       "  </tbody>\n",
       "</table>\n",
       "</div>"
      ],
      "text/plain": [
       "          StartDate           EndDate Duration (in seconds) UserLanguage  \\\n",
       "2  11/15/2021 21:04  11/15/2021 21:07                   223           EN   \n",
       "3   11/10/2021 9:00   11/10/2021 9:05                   262           DE   \n",
       "\n",
       "  Q1_NPS_GROUP Q1  Q2A  Q2B                                             Q2C  \\\n",
       "2     Promoter  9  NaN  NaN                                             NaN   \n",
       "3      Passive  8  NaN  NaN  Technisch top, doch immer mehr kostenintensiv.   \n",
       "\n",
       "             Q3 Q4  Q4A Q5_1 Q5_2 Q5_3 Q5_4 Q5_5 Q5_6 Q6_1 Q6_2 Q6_3 Q6_4  \\\n",
       "2  Practitioner  1  NaN    5    5    5    5    6    6    5    4    5    5   \n",
       "3   BudgetOwner  1  NaN    3    6    4    4    6    5    5    6    6    6   \n",
       "\n",
       "  Q6_5  Q6A                                               Q7_1 Q7_2 Q7_3 Q7_4  \\\n",
       "2    5  NaN  Datacenter solutions \\n\\n VMware vSphere, VMwa...  NaN  NaN  NaN   \n",
       "3    5  NaN  Datacenter solutions \\n\\n VMware vSphere, VMwa...  NaN  NaN  NaN   \n",
       "\n",
       "  Q7_5 Q7_6 Q7_7 Q7_8 Q7_9 Q7_9_TEXT Q7A_1 Q7A_2 Q7A_3 Q7A_4 Q7A_5 Q7A_6  \\\n",
       "2  NaN  NaN  NaN  NaN  NaN       NaN     7   NaN   NaN   NaN   NaN   NaN   \n",
       "3  NaN  NaN  NaN  NaN  NaN       NaN     6   NaN   NaN   NaN   NaN   NaN   \n",
       "\n",
       "  Q7A_7 Q7A_8 Q7A_9  Q7A_9_TEXT                      Q7B_1_1 Q7B_2_1 Q7B_3_1  \\\n",
       "2   NaN   NaN   NaN         NaN                          NaN     NaN     NaN   \n",
       "3   NaN   NaN   NaN         NaN  Technisch sehr zuverlÃ¤ssig     NaN     NaN   \n",
       "\n",
       "  Q7B_4_1 Q7B_5_1 Q7B_6_1 Q7B_7_1 Q7B_8_1  Q7B_9_TEXT Q7B_9_1 Q8_1 Q8_2 Q8_3  \\\n",
       "2     NaN     NaN     NaN     NaN     NaN         NaN     NaN  NaN  NaN  NaN   \n",
       "3     NaN     NaN     NaN     NaN     NaN         NaN     NaN  NaN  NaN  NaN   \n",
       "\n",
       "  Q8_4                                               Q8_5  \\\n",
       "2  NaN                                                NaN   \n",
       "3  NaN  Modern Application Platform\\n\\n VMware Tanzu p...   \n",
       "\n",
       "                                                Q8_6 Q8_7 Q8_8 Q8_9 Q8_9_TEXT  \\\n",
       "2                                                NaN  NaN  NaN  NaN       NaN   \n",
       "3  Digital Workspace (including VDI)\\n\\n Workspac...  NaN  NaN  NaN       NaN   \n",
       "\n",
       "  Q9_1                 Q9_2 Q9_3 Q9_4 Q9_5              Q9_6  \\\n",
       "2  NaN                  NaN  NaN  NaN  NaN               NaN   \n",
       "3  NaN  Expand hybrid cloud  NaN  NaN  NaN  Remote workforce   \n",
       "\n",
       "               Q9_7 Q9_8                       Q9_9 Q10_1_1  Q11_1  \\\n",
       "2               NaN  NaN  Maintain with less budget     NaN    1.0   \n",
       "3  Enhance security  NaN                        NaN     NaN    1.0   \n",
       "\n",
       "  complete_status Language RecipientLanguage Q_Language person_geo  \\\n",
       "2               1       EN                EN         EN        APJ   \n",
       "3               1       DE                DE         DE       EMEA   \n",
       "\n",
       "  person_region person_country  language person_industry sales_segment source  \\\n",
       "2         ASEAN      INDONESIA       NaN             NaN           NaN   SFDC   \n",
       "3         CEMEA        GERMANY       NaN           Other            C2    MDH   \n",
       "\n",
       "   account  TranslationLanguage CSM CMBU_CSM EUC_CSM VMC_CSM        Hierarchy  \\\n",
       "2      NaN                  NaN   0        0       0       0              NaN   \n",
       "3      NaN                  NaN   0        0       0       0  IT PRACTITIONER   \n",
       "\n",
       "                Job Role Job Title  FINALREGION       WEIGHT CB_CSM  \\\n",
       "2                    NaN       NaN          NaN  0.787109635      0   \n",
       "3  Systems Administrator  Sysadmin          NaN  0.536990027      0   \n",
       "\n",
       "  WT_SEGMENT Q4A_EN                                       Q2C_EN Q6a_EN  \\\n",
       "2  2HFY22__1    NaN                                          NaN    NaN   \n",
       "3  2HFY22__1    NaN  Technically top, but always more expensive.    NaN   \n",
       "\n",
       "  Q2A_EN Q2B_EN                   Q7b_1_EN Q7b_2_EN Q7b_3_EN Q7b_4_EN  \\\n",
       "2    NaN    NaN                        NaN      NaN      NaN      NaN   \n",
       "3    NaN    NaN  Technically very reliable      NaN      NaN      NaN   \n",
       "\n",
       "  Q7b_9_EN Q7b_5_EN Q7b_6_EN Q7b_8_EN Q7b_7_EN  \n",
       "2      NaN      NaN      NaN      NaN      NaN  \n",
       "3      NaN      NaN      NaN      NaN      NaN  "
      ]
     },
     "execution_count": 22,
     "metadata": {},
     "output_type": "execute_result"
    }
   ],
   "source": [
    "df.head(2)"
   ]
  },
  {
   "cell_type": "markdown",
   "metadata": {
    "id": "d5acce69"
   },
   "source": [
    "### Data Visualization"
   ]
  },
  {
   "cell_type": "code",
   "execution_count": 23,
   "metadata": {
    "id": "a12e0dc4",
    "outputId": "eab82c4f-3ecd-4379-b23f-80a98c635652"
   },
   "outputs": [
    {
     "data": {
      "text/plain": [
       "<AxesSubplot:xlabel='Q1_NPS_GROUP', ylabel='count'>"
      ]
     },
     "execution_count": 23,
     "metadata": {},
     "output_type": "execute_result"
    },
    {
     "data": {
      "image/png": "[encoded data removed]",
      "text/plain": [
       "<Figure size 432x288 with 1 Axes>"
      ]
     },
     "metadata": {
      "needs_background": "light"
     },
     "output_type": "display_data"
    }
   ],
   "source": [
    "#plot Q1 for NPS score\n",
    "sns.countplot(x=df.Q1_NPS_GROUP)"
   ]
  },
  {
   "cell_type": "code",
   "execution_count": 24,
   "metadata": {
    "id": "653ae9be",
    "outputId": "dbd4f4a6-13ac-4177-9943-8abdfc1fd6fc"
   },
   "outputs": [
    {
     "data": {
      "text/plain": [
       "<AxesSubplot:xlabel='Q3', ylabel='count'>"
      ]
     },
     "execution_count": 24,
     "metadata": {},
     "output_type": "execute_result"
    },
    {
     "data": {
      "image/png": "[encoded data removed]",
      "text/plain": [
       "<Figure size 432x288 with 1 Axes>"
      ]
     },
     "metadata": {
      "needs_background": "light"
     },
     "output_type": "display_data"
    }
   ],
   "source": [
    "#plot Q3 customer roles\n",
    "sns.countplot(x=df.Q3)"
   ]
  },
  {
   "cell_type": "code",
   "execution_count": 25,
   "metadata": {
    "id": "3653a17e",
    "outputId": "492409a0-702c-430c-ff62-575ac42d03a4"
   },
   "outputs": [
    {
     "data": {
      "text/plain": [
       "<AxesSubplot:xlabel='Q4', ylabel='count'>"
      ]
     },
     "execution_count": 25,
     "metadata": {},
     "output_type": "execute_result"
    },
    {
     "data": {
      "image/png": "[encoded data removed]",
      "text/plain": [
       "<Figure size 432x288 with 1 Axes>"
      ]
     },
     "metadata": {
      "needs_background": "light"
     },
     "output_type": "display_data"
    }
   ],
   "source": [
    "# plot Q4 Trusted advisor?\n",
    "sns.countplot(x = df.Q4)"
   ]
  },
  {
   "cell_type": "code",
   "execution_count": 26,
   "metadata": {
    "id": "c90c2148",
    "outputId": "c551ec01-359a-463a-ac5b-e103b21d5c59",
    "scrolled": true
   },
   "outputs": [
    {
     "data": {
      "text/plain": [
       "Text(0.5, 0.98, 'Satisfaction about Q5')"
      ]
     },
     "execution_count": 26,
     "metadata": {},
     "output_type": "execute_result"
    },
    {
     "data": {
      "text/plain": [
       "<AxesSubplot:xlabel='Q5_1', ylabel='count'>"
      ]
     },
     "execution_count": 26,
     "metadata": {},
     "output_type": "execute_result"
    },
    {
     "data": {
      "text/plain": [
       "<AxesSubplot:xlabel='Q5_2', ylabel='count'>"
      ]
     },
     "execution_count": 26,
     "metadata": {},
     "output_type": "execute_result"
    },
    {
     "data": {
      "text/plain": [
       "<AxesSubplot:xlabel='Q5_3', ylabel='count'>"
      ]
     },
     "execution_count": 26,
     "metadata": {},
     "output_type": "execute_result"
    },
    {
     "data": {
      "text/plain": [
       "<AxesSubplot:xlabel='Q5_4', ylabel='count'>"
      ]
     },
     "execution_count": 26,
     "metadata": {},
     "output_type": "execute_result"
    },
    {
     "data": {
      "text/plain": [
       "<AxesSubplot:xlabel='Q5_5', ylabel='count'>"
      ]
     },
     "execution_count": 26,
     "metadata": {},
     "output_type": "execute_result"
    },
    {
     "data": {
      "text/plain": [
       "<AxesSubplot:xlabel='Q5_6', ylabel='count'>"
      ]
     },
     "execution_count": 26,
     "metadata": {},
     "output_type": "execute_result"
    },
    {
     "data": {
      "image/png": "[encoded data removed]",
      "text/plain": [
       "<Figure size 1296x720 with 6 Axes>"
      ]
     },
     "metadata": {
      "needs_background": "light"
     },
     "output_type": "display_data"
    }
   ],
   "source": [
    "# plot Q5 Strategies \n",
    "fig, axes = plt.subplots(2, 3, figsize=(18, 10))\n",
    "\n",
    "fig.suptitle('Satisfaction about Q5')\n",
    "\n",
    "sns.countplot(ax=axes[0, 0], data=df, x=df.Q5_1,order=['1','2','3','4','5','6','7'])\n",
    "sns.countplot(ax=axes[0, 1], data=df, x=df.Q5_2,order=['1','2','3','4','5','6','7'])\n",
    "sns.countplot(ax=axes[0, 2], data=df, x=df.Q5_3,order=['1','2','3','4','5','6','7'])\n",
    "sns.countplot(ax=axes[1, 0], data=df, x=df.Q5_4,order=['1','2','3','4','5','6','7'])\n",
    "sns.countplot(ax=axes[1, 1], data=df, x=df.Q5_5,order=['1','2','3','4','5','6','7'])\n",
    "sns.countplot(ax=axes[1, 2], data=df, x=df.Q5_6,order=['1','2','3','4','5','6','7'])"
   ]
  },
  {
   "cell_type": "markdown",
   "metadata": {
    "id": "cac54e1b"
   },
   "source": [
    "Q5_1: Satisfaction about the pricing. The score 1-5 are relatively high"
   ]
  },
  {
   "cell_type": "code",
   "execution_count": 27,
   "metadata": {
    "id": "08382a06",
    "outputId": "33134337-e51a-46f3-9ec6-c70e77547c9a"
   },
   "outputs": [
    {
     "data": {
      "text/plain": [
       "Text(0.5, 0.98, 'Satisfaction about Q6')"
      ]
     },
     "execution_count": 27,
     "metadata": {},
     "output_type": "execute_result"
    },
    {
     "data": {
      "text/plain": [
       "<AxesSubplot:xlabel='Q6_1', ylabel='count'>"
      ]
     },
     "execution_count": 27,
     "metadata": {},
     "output_type": "execute_result"
    },
    {
     "data": {
      "text/plain": [
       "<AxesSubplot:xlabel='Q6_2', ylabel='count'>"
      ]
     },
     "execution_count": 27,
     "metadata": {},
     "output_type": "execute_result"
    },
    {
     "data": {
      "text/plain": [
       "<AxesSubplot:xlabel='Q6_3', ylabel='count'>"
      ]
     },
     "execution_count": 27,
     "metadata": {},
     "output_type": "execute_result"
    },
    {
     "data": {
      "text/plain": [
       "<AxesSubplot:xlabel='Q6_4', ylabel='count'>"
      ]
     },
     "execution_count": 27,
     "metadata": {},
     "output_type": "execute_result"
    },
    {
     "data": {
      "text/plain": [
       "<AxesSubplot:xlabel='Q6_5', ylabel='count'>"
      ]
     },
     "execution_count": 27,
     "metadata": {},
     "output_type": "execute_result"
    },
    {
     "data": {
      "image/png": "[encoded data removed]",
      "text/plain": [
       "<Figure size 1296x720 with 6 Axes>"
      ]
     },
     "metadata": {
      "needs_background": "light"
     },
     "output_type": "display_data"
    }
   ],
   "source": [
    "# plot Q6 Strategies \n",
    "fig, axes = plt.subplots(2, 3, figsize=(18, 10))\n",
    "\n",
    "fig.suptitle('Satisfaction about Q6')\n",
    "\n",
    "sns.countplot(ax=axes[0, 0], data=df, x=df.Q6_1,order=['1','2','3','4','5','6','7'])\n",
    "sns.countplot(ax=axes[0, 1], data=df, x=df.Q6_2,order=['1','2','3','4','5','6','7'])\n",
    "sns.countplot(ax=axes[0, 2], data=df, x=df.Q6_3,order=['1','2','3','4','5','6','7'])\n",
    "sns.countplot(ax=axes[1, 0], data=df, x=df.Q6_4,order=['1','2','3','4','5','6','7'])\n",
    "sns.countplot(ax=axes[1, 1], data=df, x=df.Q6_5,order=['1','2','3','4','5','6','7'])"
   ]
  },
  {
   "cell_type": "code",
   "execution_count": 28,
   "metadata": {
    "id": "28d92e98",
    "outputId": "a33d4041-140f-4d86-ec3c-58eb1367f53b"
   },
   "outputs": [
    {
     "data": {
      "text/plain": [
       "Text(0.5, 0.98, 'Satisfaction about Q7A')"
      ]
     },
     "execution_count": 28,
     "metadata": {},
     "output_type": "execute_result"
    },
    {
     "data": {
      "text/plain": [
       "<AxesSubplot:xlabel='Q7A_1', ylabel='count'>"
      ]
     },
     "execution_count": 28,
     "metadata": {},
     "output_type": "execute_result"
    },
    {
     "data": {
      "text/plain": [
       "<AxesSubplot:xlabel='Q7A_2', ylabel='count'>"
      ]
     },
     "execution_count": 28,
     "metadata": {},
     "output_type": "execute_result"
    },
    {
     "data": {
      "text/plain": [
       "<AxesSubplot:xlabel='Q7A_3', ylabel='count'>"
      ]
     },
     "execution_count": 28,
     "metadata": {},
     "output_type": "execute_result"
    },
    {
     "data": {
      "text/plain": [
       "<AxesSubplot:xlabel='Q7A_4', ylabel='count'>"
      ]
     },
     "execution_count": 28,
     "metadata": {},
     "output_type": "execute_result"
    },
    {
     "data": {
      "text/plain": [
       "<AxesSubplot:xlabel='Q7A_5', ylabel='count'>"
      ]
     },
     "execution_count": 28,
     "metadata": {},
     "output_type": "execute_result"
    },
    {
     "data": {
      "text/plain": [
       "<AxesSubplot:xlabel='Q7A_6', ylabel='count'>"
      ]
     },
     "execution_count": 28,
     "metadata": {},
     "output_type": "execute_result"
    },
    {
     "data": {
      "image/png": "[encoded data removed]",
      "text/plain": [
       "<Figure size 1296x720 with 6 Axes>"
      ]
     },
     "metadata": {
      "needs_background": "light"
     },
     "output_type": "display_data"
    }
   ],
   "source": [
    "# plot Q7A\n",
    "fig, axes = plt.subplots(2, 3, figsize=(18, 10))\n",
    "\n",
    "fig.suptitle('Satisfaction about Q7A')\n",
    "\n",
    "sns.countplot(ax=axes[0, 0], data=df, x=df.Q7A_1,order=['1','2','3','4','5','6','7'])\n",
    "sns.countplot(ax=axes[0, 1], data=df, x=df.Q7A_2,order=['1','2','3','4','5','6','7'])\n",
    "sns.countplot(ax=axes[0, 2], data=df, x=df.Q7A_3,order=['1','2','3','4','5','6','7'])\n",
    "sns.countplot(ax=axes[1, 0], data=df, x=df.Q7A_4,order=['1','2','3','4','5','6','7'])\n",
    "sns.countplot(ax=axes[1, 1], data=df, x=df.Q7A_5,order=['1','2','3','4','5','6','7'])\n",
    "sns.countplot(ax=axes[1, 2], data=df, x=df.Q7A_6,order=['1','2','3','4','5','6','7'])"
   ]
  },
  {
   "cell_type": "markdown",
   "metadata": {
    "id": "4c707624"
   },
   "source": [
    "### Split the data into three parts :'Promoter','Passive','Detractor'"
   ]
  },
  {
   "cell_type": "code",
   "execution_count": 29,
   "metadata": {
    "id": "490dc00c"
   },
   "outputs": [],
   "source": [
    "dfprom=df[df.Q1_NPS_GROUP == 'Promoter']\n",
    "dfpas=df[df.Q1_NPS_GROUP == 'Passive']\n",
    "dfde=df[df.Q1_NPS_GROUP == 'Detractor']"
   ]
  },
  {
   "cell_type": "code",
   "execution_count": 30,
   "metadata": {
    "id": "227ba157",
    "outputId": "fd9acfb5-7d26-4516-e0b6-e13464059c1b",
    "scrolled": false
   },
   "outputs": [
    {
     "data": {
      "text/html": [
       "<div>\n",
       "<style scoped>\n",
       "    .dataframe tbody tr th:only-of-type {\n",
       "        vertical-align: middle;\n",
       "    }\n",
       "\n",
       "    .dataframe tbody tr th {\n",
       "        vertical-align: top;\n",
       "    }\n",
       "\n",
       "    .dataframe thead th {\n",
       "        text-align: right;\n",
       "    }\n",
       "</style>\n",
       "<table border=\"1\" class=\"dataframe\">\n",
       "  <thead>\n",
       "    <tr style=\"text-align: right;\">\n",
       "      <th></th>\n",
       "      <th>StartDate</th>\n",
       "      <th>EndDate</th>\n",
       "      <th>Duration (in seconds)</th>\n",
       "      <th>UserLanguage</th>\n",
       "      <th>Q1_NPS_GROUP</th>\n",
       "      <th>Q1</th>\n",
       "      <th>Q2A</th>\n",
       "      <th>Q2B</th>\n",
       "      <th>Q2C</th>\n",
       "      <th>Q3</th>\n",
       "      <th>Q4</th>\n",
       "      <th>Q4A</th>\n",
       "      <th>Q5_1</th>\n",
       "      <th>Q5_2</th>\n",
       "      <th>Q5_3</th>\n",
       "      <th>Q5_4</th>\n",
       "      <th>Q5_5</th>\n",
       "      <th>Q5_6</th>\n",
       "      <th>Q6_1</th>\n",
       "      <th>Q6_2</th>\n",
       "      <th>Q6_3</th>\n",
       "      <th>Q6_4</th>\n",
       "      <th>Q6_5</th>\n",
       "      <th>Q6A</th>\n",
       "      <th>Q7_1</th>\n",
       "      <th>Q7_2</th>\n",
       "      <th>Q7_3</th>\n",
       "      <th>Q7_4</th>\n",
       "      <th>Q7_5</th>\n",
       "      <th>Q7_6</th>\n",
       "      <th>Q7_7</th>\n",
       "      <th>Q7_8</th>\n",
       "      <th>Q7_9</th>\n",
       "      <th>Q7_9_TEXT</th>\n",
       "      <th>Q7A_1</th>\n",
       "      <th>Q7A_2</th>\n",
       "      <th>Q7A_3</th>\n",
       "      <th>Q7A_4</th>\n",
       "      <th>Q7A_5</th>\n",
       "      <th>Q7A_6</th>\n",
       "      <th>Q7A_7</th>\n",
       "      <th>Q7A_8</th>\n",
       "      <th>Q7A_9</th>\n",
       "      <th>Q7A_9_TEXT</th>\n",
       "      <th>Q7B_1_1</th>\n",
       "      <th>Q7B_2_1</th>\n",
       "      <th>Q7B_3_1</th>\n",
       "      <th>Q7B_4_1</th>\n",
       "      <th>Q7B_5_1</th>\n",
       "      <th>Q7B_6_1</th>\n",
       "      <th>Q7B_7_1</th>\n",
       "      <th>Q7B_8_1</th>\n",
       "      <th>Q7B_9_TEXT</th>\n",
       "      <th>Q7B_9_1</th>\n",
       "      <th>Q8_1</th>\n",
       "      <th>Q8_2</th>\n",
       "      <th>Q8_3</th>\n",
       "      <th>Q8_4</th>\n",
       "      <th>Q8_5</th>\n",
       "      <th>Q8_6</th>\n",
       "      <th>Q8_7</th>\n",
       "      <th>Q8_8</th>\n",
       "      <th>Q8_9</th>\n",
       "      <th>Q8_9_TEXT</th>\n",
       "      <th>Q9_1</th>\n",
       "      <th>Q9_2</th>\n",
       "      <th>Q9_3</th>\n",
       "      <th>Q9_4</th>\n",
       "      <th>Q9_5</th>\n",
       "      <th>Q9_6</th>\n",
       "      <th>Q9_7</th>\n",
       "      <th>Q9_8</th>\n",
       "      <th>Q9_9</th>\n",
       "      <th>Q10_1_1</th>\n",
       "      <th>Q11_1</th>\n",
       "      <th>complete_status</th>\n",
       "      <th>Language</th>\n",
       "      <th>RecipientLanguage</th>\n",
       "      <th>Q_Language</th>\n",
       "      <th>person_geo</th>\n",
       "      <th>person_region</th>\n",
       "      <th>person_country</th>\n",
       "      <th>language</th>\n",
       "      <th>person_industry</th>\n",
       "      <th>sales_segment</th>\n",
       "      <th>source</th>\n",
       "      <th>account</th>\n",
       "      <th>TranslationLanguage</th>\n",
       "      <th>CSM</th>\n",
       "      <th>CMBU_CSM</th>\n",
       "      <th>EUC_CSM</th>\n",
       "      <th>VMC_CSM</th>\n",
       "      <th>Hierarchy</th>\n",
       "      <th>Job Role</th>\n",
       "      <th>Job Title</th>\n",
       "      <th>FINALREGION</th>\n",
       "      <th>WEIGHT</th>\n",
       "      <th>CB_CSM</th>\n",
       "      <th>WT_SEGMENT</th>\n",
       "      <th>Q4A_EN</th>\n",
       "      <th>Q2C_EN</th>\n",
       "      <th>Q6a_EN</th>\n",
       "      <th>Q2A_EN</th>\n",
       "      <th>Q2B_EN</th>\n",
       "      <th>Q7b_1_EN</th>\n",
       "      <th>Q7b_2_EN</th>\n",
       "      <th>Q7b_3_EN</th>\n",
       "      <th>Q7b_4_EN</th>\n",
       "      <th>Q7b_9_EN</th>\n",
       "      <th>Q7b_5_EN</th>\n",
       "      <th>Q7b_6_EN</th>\n",
       "      <th>Q7b_8_EN</th>\n",
       "      <th>Q7b_7_EN</th>\n",
       "    </tr>\n",
       "  </thead>\n",
       "  <tbody>\n",
       "    <tr>\n",
       "      <th>2</th>\n",
       "      <td>11/15/2021 21:04</td>\n",
       "      <td>11/15/2021 21:07</td>\n",
       "      <td>223</td>\n",
       "      <td>EN</td>\n",
       "      <td>Promoter</td>\n",
       "      <td>9</td>\n",
       "      <td>NaN</td>\n",
       "      <td>NaN</td>\n",
       "      <td>NaN</td>\n",
       "      <td>Practitioner</td>\n",
       "      <td>1</td>\n",
       "      <td>NaN</td>\n",
       "      <td>5</td>\n",
       "      <td>5</td>\n",
       "      <td>5</td>\n",
       "      <td>5</td>\n",
       "      <td>6</td>\n",
       "      <td>6</td>\n",
       "      <td>5</td>\n",
       "      <td>4</td>\n",
       "      <td>5</td>\n",
       "      <td>5</td>\n",
       "      <td>5</td>\n",
       "      <td>NaN</td>\n",
       "      <td>Datacenter solutions \\n\\n VMware vSphere, VMwa...</td>\n",
       "      <td>NaN</td>\n",
       "      <td>NaN</td>\n",
       "      <td>NaN</td>\n",
       "      <td>NaN</td>\n",
       "      <td>NaN</td>\n",
       "      <td>NaN</td>\n",
       "      <td>NaN</td>\n",
       "      <td>NaN</td>\n",
       "      <td>NaN</td>\n",
       "      <td>7</td>\n",
       "      <td>NaN</td>\n",
       "      <td>NaN</td>\n",
       "      <td>NaN</td>\n",
       "      <td>NaN</td>\n",
       "      <td>NaN</td>\n",
       "      <td>NaN</td>\n",
       "      <td>NaN</td>\n",
       "      <td>NaN</td>\n",
       "      <td>NaN</td>\n",
       "      <td>NaN</td>\n",
       "      <td>NaN</td>\n",
       "      <td>NaN</td>\n",
       "      <td>NaN</td>\n",
       "      <td>NaN</td>\n",
       "      <td>NaN</td>\n",
       "      <td>NaN</td>\n",
       "      <td>NaN</td>\n",
       "      <td>NaN</td>\n",
       "      <td>NaN</td>\n",
       "      <td>NaN</td>\n",
       "      <td>NaN</td>\n",
       "      <td>NaN</td>\n",
       "      <td>NaN</td>\n",
       "      <td>NaN</td>\n",
       "      <td>NaN</td>\n",
       "      <td>NaN</td>\n",
       "      <td>NaN</td>\n",
       "      <td>NaN</td>\n",
       "      <td>NaN</td>\n",
       "      <td>NaN</td>\n",
       "      <td>NaN</td>\n",
       "      <td>NaN</td>\n",
       "      <td>NaN</td>\n",
       "      <td>NaN</td>\n",
       "      <td>NaN</td>\n",
       "      <td>NaN</td>\n",
       "      <td>NaN</td>\n",
       "      <td>Maintain with less budget</td>\n",
       "      <td>NaN</td>\n",
       "      <td>1.0</td>\n",
       "      <td>1</td>\n",
       "      <td>EN</td>\n",
       "      <td>EN</td>\n",
       "      <td>EN</td>\n",
       "      <td>APJ</td>\n",
       "      <td>ASEAN</td>\n",
       "      <td>INDONESIA</td>\n",
       "      <td>NaN</td>\n",
       "      <td>NaN</td>\n",
       "      <td>NaN</td>\n",
       "      <td>SFDC</td>\n",
       "      <td>NaN</td>\n",
       "      <td>NaN</td>\n",
       "      <td>0</td>\n",
       "      <td>0</td>\n",
       "      <td>0</td>\n",
       "      <td>0</td>\n",
       "      <td>NaN</td>\n",
       "      <td>NaN</td>\n",
       "      <td>NaN</td>\n",
       "      <td>NaN</td>\n",
       "      <td>0.787109635</td>\n",
       "      <td>0</td>\n",
       "      <td>2HFY22__1</td>\n",
       "      <td>NaN</td>\n",
       "      <td>NaN</td>\n",
       "      <td>NaN</td>\n",
       "      <td>NaN</td>\n",
       "      <td>NaN</td>\n",
       "      <td>NaN</td>\n",
       "      <td>NaN</td>\n",
       "      <td>NaN</td>\n",
       "      <td>NaN</td>\n",
       "      <td>NaN</td>\n",
       "      <td>NaN</td>\n",
       "      <td>NaN</td>\n",
       "      <td>NaN</td>\n",
       "      <td>NaN</td>\n",
       "    </tr>\n",
       "    <tr>\n",
       "      <th>5</th>\n",
       "      <td>11/15/2021 21:33</td>\n",
       "      <td>11/15/2021 21:37</td>\n",
       "      <td>212</td>\n",
       "      <td>EN</td>\n",
       "      <td>Promoter</td>\n",
       "      <td>10</td>\n",
       "      <td>The product is ultra reliable , IT offers grea...</td>\n",
       "      <td>NaN</td>\n",
       "      <td>NaN</td>\n",
       "      <td>Influencer</td>\n",
       "      <td>1</td>\n",
       "      <td>NaN</td>\n",
       "      <td>5</td>\n",
       "      <td>6</td>\n",
       "      <td>5</td>\n",
       "      <td>6</td>\n",
       "      <td>7</td>\n",
       "      <td>6</td>\n",
       "      <td>5</td>\n",
       "      <td>6</td>\n",
       "      <td>5</td>\n",
       "      <td>5</td>\n",
       "      <td>NaN</td>\n",
       "      <td>NaN</td>\n",
       "      <td>Datacenter solutions \\n\\n VMware vSphere, VMwa...</td>\n",
       "      <td>NaN</td>\n",
       "      <td>NaN</td>\n",
       "      <td>NaN</td>\n",
       "      <td>NaN</td>\n",
       "      <td>NaN</td>\n",
       "      <td>NaN</td>\n",
       "      <td>NaN</td>\n",
       "      <td>NaN</td>\n",
       "      <td>NaN</td>\n",
       "      <td>6</td>\n",
       "      <td>NaN</td>\n",
       "      <td>NaN</td>\n",
       "      <td>NaN</td>\n",
       "      <td>NaN</td>\n",
       "      <td>NaN</td>\n",
       "      <td>NaN</td>\n",
       "      <td>NaN</td>\n",
       "      <td>NaN</td>\n",
       "      <td>NaN</td>\n",
       "      <td>NaN</td>\n",
       "      <td>NaN</td>\n",
       "      <td>NaN</td>\n",
       "      <td>NaN</td>\n",
       "      <td>NaN</td>\n",
       "      <td>NaN</td>\n",
       "      <td>NaN</td>\n",
       "      <td>NaN</td>\n",
       "      <td>NaN</td>\n",
       "      <td>NaN</td>\n",
       "      <td>NaN</td>\n",
       "      <td>NaN</td>\n",
       "      <td>Public Cloud\\n\\n VMware Cloud on AWS, Azure, G...</td>\n",
       "      <td>NaN</td>\n",
       "      <td>NaN</td>\n",
       "      <td>NaN</td>\n",
       "      <td>NaN</td>\n",
       "      <td>NaN</td>\n",
       "      <td>NaN</td>\n",
       "      <td>NaN</td>\n",
       "      <td>NaN</td>\n",
       "      <td>Expand hybrid cloud</td>\n",
       "      <td>NaN</td>\n",
       "      <td>NaN</td>\n",
       "      <td>NaN</td>\n",
       "      <td>NaN</td>\n",
       "      <td>NaN</td>\n",
       "      <td>Business continuity</td>\n",
       "      <td>Maintain with less budget</td>\n",
       "      <td>NaN</td>\n",
       "      <td>1.0</td>\n",
       "      <td>1</td>\n",
       "      <td>EN</td>\n",
       "      <td>EN</td>\n",
       "      <td>EN</td>\n",
       "      <td>APJ</td>\n",
       "      <td>ANZ</td>\n",
       "      <td>AUSTRALIA</td>\n",
       "      <td>NaN</td>\n",
       "      <td>Other</td>\n",
       "      <td>NaN</td>\n",
       "      <td>MDH</td>\n",
       "      <td>NaN</td>\n",
       "      <td>NaN</td>\n",
       "      <td>0</td>\n",
       "      <td>0</td>\n",
       "      <td>0</td>\n",
       "      <td>0</td>\n",
       "      <td>NaN</td>\n",
       "      <td>Consultant</td>\n",
       "      <td>NaN</td>\n",
       "      <td>NaN</td>\n",
       "      <td>1.742058824</td>\n",
       "      <td>0</td>\n",
       "      <td>2HFY22__1</td>\n",
       "      <td>NaN</td>\n",
       "      <td>NaN</td>\n",
       "      <td>NaN</td>\n",
       "      <td>The product is ultra reliable , IT offers grea...</td>\n",
       "      <td>NaN</td>\n",
       "      <td>NaN</td>\n",
       "      <td>NaN</td>\n",
       "      <td>NaN</td>\n",
       "      <td>NaN</td>\n",
       "      <td>NaN</td>\n",
       "      <td>NaN</td>\n",
       "      <td>NaN</td>\n",
       "      <td>NaN</td>\n",
       "      <td>NaN</td>\n",
       "    </tr>\n",
       "  </tbody>\n",
       "</table>\n",
       "</div>"
      ],
      "text/plain": [
       "          StartDate           EndDate Duration (in seconds) UserLanguage  \\\n",
       "2  11/15/2021 21:04  11/15/2021 21:07                   223           EN   \n",
       "5  11/15/2021 21:33  11/15/2021 21:37                   212           EN   \n",
       "\n",
       "  Q1_NPS_GROUP  Q1                                                Q2A  Q2B  \\\n",
       "2     Promoter   9                                                NaN  NaN   \n",
       "5     Promoter  10  The product is ultra reliable , IT offers grea...  NaN   \n",
       "\n",
       "   Q2C            Q3 Q4  Q4A Q5_1 Q5_2 Q5_3 Q5_4 Q5_5 Q5_6 Q6_1 Q6_2 Q6_3  \\\n",
       "2  NaN  Practitioner  1  NaN    5    5    5    5    6    6    5    4    5   \n",
       "5  NaN    Influencer  1  NaN    5    6    5    6    7    6    5    6    5   \n",
       "\n",
       "  Q6_4 Q6_5  Q6A                                               Q7_1 Q7_2 Q7_3  \\\n",
       "2    5    5  NaN  Datacenter solutions \\n\\n VMware vSphere, VMwa...  NaN  NaN   \n",
       "5    5  NaN  NaN  Datacenter solutions \\n\\n VMware vSphere, VMwa...  NaN  NaN   \n",
       "\n",
       "  Q7_4 Q7_5 Q7_6 Q7_7 Q7_8 Q7_9 Q7_9_TEXT Q7A_1 Q7A_2 Q7A_3 Q7A_4 Q7A_5 Q7A_6  \\\n",
       "2  NaN  NaN  NaN  NaN  NaN  NaN       NaN     7   NaN   NaN   NaN   NaN   NaN   \n",
       "5  NaN  NaN  NaN  NaN  NaN  NaN       NaN     6   NaN   NaN   NaN   NaN   NaN   \n",
       "\n",
       "  Q7A_7 Q7A_8 Q7A_9  Q7A_9_TEXT Q7B_1_1 Q7B_2_1 Q7B_3_1 Q7B_4_1 Q7B_5_1  \\\n",
       "2   NaN   NaN   NaN         NaN     NaN     NaN     NaN     NaN     NaN   \n",
       "5   NaN   NaN   NaN         NaN     NaN     NaN     NaN     NaN     NaN   \n",
       "\n",
       "  Q7B_6_1 Q7B_7_1 Q7B_8_1  Q7B_9_TEXT Q7B_9_1 Q8_1 Q8_2  \\\n",
       "2     NaN     NaN     NaN         NaN     NaN  NaN  NaN   \n",
       "5     NaN     NaN     NaN         NaN     NaN  NaN  NaN   \n",
       "\n",
       "                                                Q8_3 Q8_4 Q8_5 Q8_6 Q8_7 Q8_8  \\\n",
       "2                                                NaN  NaN  NaN  NaN  NaN  NaN   \n",
       "5  Public Cloud\\n\\n VMware Cloud on AWS, Azure, G...  NaN  NaN  NaN  NaN  NaN   \n",
       "\n",
       "  Q8_9 Q8_9_TEXT Q9_1                 Q9_2 Q9_3 Q9_4 Q9_5 Q9_6 Q9_7  \\\n",
       "2  NaN       NaN  NaN                  NaN  NaN  NaN  NaN  NaN  NaN   \n",
       "5  NaN       NaN  NaN  Expand hybrid cloud  NaN  NaN  NaN  NaN  NaN   \n",
       "\n",
       "                  Q9_8                       Q9_9 Q10_1_1  Q11_1  \\\n",
       "2                  NaN  Maintain with less budget     NaN    1.0   \n",
       "5  Business continuity  Maintain with less budget     NaN    1.0   \n",
       "\n",
       "  complete_status Language RecipientLanguage Q_Language person_geo  \\\n",
       "2               1       EN                EN         EN        APJ   \n",
       "5               1       EN                EN         EN        APJ   \n",
       "\n",
       "  person_region person_country  language person_industry sales_segment source  \\\n",
       "2         ASEAN      INDONESIA       NaN             NaN           NaN   SFDC   \n",
       "5           ANZ      AUSTRALIA       NaN           Other           NaN    MDH   \n",
       "\n",
       "   account  TranslationLanguage CSM CMBU_CSM EUC_CSM VMC_CSM Hierarchy  \\\n",
       "2      NaN                  NaN   0        0       0       0       NaN   \n",
       "5      NaN                  NaN   0        0       0       0       NaN   \n",
       "\n",
       "     Job Role Job Title  FINALREGION       WEIGHT CB_CSM WT_SEGMENT Q4A_EN  \\\n",
       "2         NaN       NaN          NaN  0.787109635      0  2HFY22__1    NaN   \n",
       "5  Consultant       NaN          NaN  1.742058824      0  2HFY22__1    NaN   \n",
       "\n",
       "  Q2C_EN Q6a_EN                                             Q2A_EN Q2B_EN  \\\n",
       "2    NaN    NaN                                                NaN    NaN   \n",
       "5    NaN    NaN  The product is ultra reliable , IT offers grea...    NaN   \n",
       "\n",
       "  Q7b_1_EN Q7b_2_EN Q7b_3_EN Q7b_4_EN Q7b_9_EN Q7b_5_EN Q7b_6_EN Q7b_8_EN  \\\n",
       "2      NaN      NaN      NaN      NaN      NaN      NaN      NaN      NaN   \n",
       "5      NaN      NaN      NaN      NaN      NaN      NaN      NaN      NaN   \n",
       "\n",
       "  Q7b_7_EN  \n",
       "2      NaN  \n",
       "5      NaN  "
      ]
     },
     "execution_count": 30,
     "metadata": {},
     "output_type": "execute_result"
    }
   ],
   "source": [
    "dfprom.head(2)"
   ]
  },
  {
   "cell_type": "code",
   "execution_count": 31,
   "metadata": {
    "id": "90ae8ac2",
    "outputId": "1aa6613d-cdfe-4ebf-ea51-88f675e7082c"
   },
   "outputs": [
    {
     "data": {
      "text/plain": [
       "0.6118521019753503"
      ]
     },
     "execution_count": 31,
     "metadata": {},
     "output_type": "execute_result"
    },
    {
     "data": {
      "text/plain": [
       "0.1379368563228094"
      ]
     },
     "execution_count": 31,
     "metadata": {},
     "output_type": "execute_result"
    },
    {
     "data": {
      "text/plain": [
       "47.391524565254095"
      ]
     },
     "execution_count": 31,
     "metadata": {},
     "output_type": "execute_result"
    }
   ],
   "source": [
    "# get the NPS score\n",
    "perc_promoter = len(dfprom)/len(df)\n",
    "perc_detractor = len(dfde)/len(df)\n",
    "perc_promoter\n",
    "perc_detractor\n",
    "\n",
    "NPS_score = (perc_promoter - perc_detractor)*100\n",
    "\n",
    "NPS_score"
   ]
  },
  {
   "cell_type": "markdown",
   "metadata": {
    "id": "5569a0d1"
   },
   "source": [
    "### Analysis 1: Verbatim data"
   ]
  },
  {
   "cell_type": "markdown",
   "metadata": {
    "id": "8438f4e4"
   },
   "source": [
    "#### export open-ended question for verbatim analysis"
   ]
  },
  {
   "cell_type": "code",
   "execution_count": 32,
   "metadata": {
    "id": "83df30c0"
   },
   "outputs": [],
   "source": [
    "text_col = ['Q2A','Q7B_1_1','Q7B_2_1','Q7B_3_1','Q7B_4_1','Q7B_5_1','Q7B_6_1','Q7B_7_1','Q7B_8_1','Q7B_9_TEXT']"
   ]
  },
  {
   "cell_type": "code",
   "execution_count": 33,
   "metadata": {
    "id": "76092267"
   },
   "outputs": [],
   "source": [
    "np.savetxt('df.txt', df[text_col].values, fmt='%s', delimiter='\\t',encoding=\"utf-8\")\n",
    "np.savetxt('dfprom.txt', dfprom[text_col].values, fmt='%s', delimiter='\\t',encoding=\"utf-8\")\n",
    "np.savetxt('dfpas.txt', dfpas[text_col].values, fmt='%s', delimiter='\\t',encoding=\"utf-8\")\n",
    "np.savetxt('dfde.txt', dfde[text_col].values, fmt='%s', delimiter='\\t',encoding=\"utf-8\")"
   ]
  },
  {
   "cell_type": "markdown",
   "metadata": {
    "id": "ac2ce4a4"
   },
   "source": [
    "### Analysis 2: Score data about strageties and mkt "
   ]
  },
  {
   "cell_type": "code",
   "execution_count": 34,
   "metadata": {
    "id": "6909598e"
   },
   "outputs": [],
   "source": [
    "score_col = ['Q5_1','Q5_2','Q5_3','Q5_4','Q5_5','Q5_6','Q6_1','Q6_2','Q6_3','Q6_4','Q6_5']"
   ]
  },
  {
   "cell_type": "code",
   "execution_count": 35,
   "metadata": {
    "id": "a5b7c117",
    "scrolled": true
   },
   "outputs": [],
   "source": [
    "dfsc = df[score_col]"
   ]
  },
  {
   "cell_type": "code",
   "execution_count": 36,
   "metadata": {
    "id": "de80509e"
   },
   "outputs": [],
   "source": [
    "dfsc = dfsc.apply(pd.to_numeric, errors='coerce')"
   ]
  },
  {
   "cell_type": "code",
   "execution_count": 37,
   "metadata": {
    "id": "de31c100",
    "outputId": "e8005ce4-6e0f-4d72-a497-6a2dde52738a",
    "scrolled": true
   },
   "outputs": [
    {
     "data": {
      "text/html": [
       "<div>\n",
       "<style scoped>\n",
       "    .dataframe tbody tr th:only-of-type {\n",
       "        vertical-align: middle;\n",
       "    }\n",
       "\n",
       "    .dataframe tbody tr th {\n",
       "        vertical-align: top;\n",
       "    }\n",
       "\n",
       "    .dataframe thead th {\n",
       "        text-align: right;\n",
       "    }\n",
       "</style>\n",
       "<table border=\"1\" class=\"dataframe\">\n",
       "  <thead>\n",
       "    <tr style=\"text-align: right;\">\n",
       "      <th></th>\n",
       "      <th>Q5_1</th>\n",
       "      <th>Q5_2</th>\n",
       "      <th>Q5_3</th>\n",
       "      <th>Q5_4</th>\n",
       "      <th>Q5_5</th>\n",
       "      <th>Q5_6</th>\n",
       "      <th>Q6_1</th>\n",
       "      <th>Q6_2</th>\n",
       "      <th>Q6_3</th>\n",
       "      <th>Q6_4</th>\n",
       "      <th>Q6_5</th>\n",
       "    </tr>\n",
       "  </thead>\n",
       "  <tbody>\n",
       "    <tr>\n",
       "      <th>count</th>\n",
       "      <td>3830.000000</td>\n",
       "      <td>3636.000000</td>\n",
       "      <td>3573.000000</td>\n",
       "      <td>3713.000000</td>\n",
       "      <td>4135.000000</td>\n",
       "      <td>3811.000000</td>\n",
       "      <td>3676.000000</td>\n",
       "      <td>3749.000000</td>\n",
       "      <td>3786.000000</td>\n",
       "      <td>3894.000000</td>\n",
       "      <td>3836.000000</td>\n",
       "    </tr>\n",
       "    <tr>\n",
       "      <th>mean</th>\n",
       "      <td>4.836292</td>\n",
       "      <td>5.438944</td>\n",
       "      <td>5.445844</td>\n",
       "      <td>5.642068</td>\n",
       "      <td>5.962273</td>\n",
       "      <td>5.744686</td>\n",
       "      <td>5.332427</td>\n",
       "      <td>5.430515</td>\n",
       "      <td>5.838088</td>\n",
       "      <td>5.738059</td>\n",
       "      <td>5.895725</td>\n",
       "    </tr>\n",
       "    <tr>\n",
       "      <th>std</th>\n",
       "      <td>1.579309</td>\n",
       "      <td>1.506104</td>\n",
       "      <td>1.539038</td>\n",
       "      <td>1.398054</td>\n",
       "      <td>1.310162</td>\n",
       "      <td>1.395021</td>\n",
       "      <td>1.521883</td>\n",
       "      <td>1.578027</td>\n",
       "      <td>1.453802</td>\n",
       "      <td>1.446789</td>\n",
       "      <td>1.340600</td>\n",
       "    </tr>\n",
       "    <tr>\n",
       "      <th>min</th>\n",
       "      <td>1.000000</td>\n",
       "      <td>1.000000</td>\n",
       "      <td>1.000000</td>\n",
       "      <td>1.000000</td>\n",
       "      <td>1.000000</td>\n",
       "      <td>1.000000</td>\n",
       "      <td>1.000000</td>\n",
       "      <td>1.000000</td>\n",
       "      <td>1.000000</td>\n",
       "      <td>1.000000</td>\n",
       "      <td>1.000000</td>\n",
       "    </tr>\n",
       "    <tr>\n",
       "      <th>25%</th>\n",
       "      <td>4.000000</td>\n",
       "      <td>5.000000</td>\n",
       "      <td>5.000000</td>\n",
       "      <td>5.000000</td>\n",
       "      <td>6.000000</td>\n",
       "      <td>5.000000</td>\n",
       "      <td>5.000000</td>\n",
       "      <td>5.000000</td>\n",
       "      <td>5.000000</td>\n",
       "      <td>5.000000</td>\n",
       "      <td>5.000000</td>\n",
       "    </tr>\n",
       "    <tr>\n",
       "      <th>50%</th>\n",
       "      <td>5.000000</td>\n",
       "      <td>6.000000</td>\n",
       "      <td>6.000000</td>\n",
       "      <td>6.000000</td>\n",
       "      <td>6.000000</td>\n",
       "      <td>6.000000</td>\n",
       "      <td>6.000000</td>\n",
       "      <td>6.000000</td>\n",
       "      <td>6.000000</td>\n",
       "      <td>6.000000</td>\n",
       "      <td>6.000000</td>\n",
       "    </tr>\n",
       "    <tr>\n",
       "      <th>75%</th>\n",
       "      <td>6.000000</td>\n",
       "      <td>7.000000</td>\n",
       "      <td>7.000000</td>\n",
       "      <td>7.000000</td>\n",
       "      <td>7.000000</td>\n",
       "      <td>7.000000</td>\n",
       "      <td>6.000000</td>\n",
       "      <td>7.000000</td>\n",
       "      <td>7.000000</td>\n",
       "      <td>7.000000</td>\n",
       "      <td>7.000000</td>\n",
       "    </tr>\n",
       "    <tr>\n",
       "      <th>max</th>\n",
       "      <td>7.000000</td>\n",
       "      <td>7.000000</td>\n",
       "      <td>7.000000</td>\n",
       "      <td>7.000000</td>\n",
       "      <td>7.000000</td>\n",
       "      <td>7.000000</td>\n",
       "      <td>7.000000</td>\n",
       "      <td>7.000000</td>\n",
       "      <td>7.000000</td>\n",
       "      <td>7.000000</td>\n",
       "      <td>7.000000</td>\n",
       "    </tr>\n",
       "  </tbody>\n",
       "</table>\n",
       "</div>"
      ],
      "text/plain": [
       "              Q5_1         Q5_2         Q5_3         Q5_4         Q5_5  \\\n",
       "count  3830.000000  3636.000000  3573.000000  3713.000000  4135.000000   \n",
       "mean      4.836292     5.438944     5.445844     5.642068     5.962273   \n",
       "std       1.579309     1.506104     1.539038     1.398054     1.310162   \n",
       "min       1.000000     1.000000     1.000000     1.000000     1.000000   \n",
       "25%       4.000000     5.000000     5.000000     5.000000     6.000000   \n",
       "50%       5.000000     6.000000     6.000000     6.000000     6.000000   \n",
       "75%       6.000000     7.000000     7.000000     7.000000     7.000000   \n",
       "max       7.000000     7.000000     7.000000     7.000000     7.000000   \n",
       "\n",
       "              Q5_6         Q6_1         Q6_2         Q6_3         Q6_4  \\\n",
       "count  3811.000000  3676.000000  3749.000000  3786.000000  3894.000000   \n",
       "mean      5.744686     5.332427     5.430515     5.838088     5.738059   \n",
       "std       1.395021     1.521883     1.578027     1.453802     1.446789   \n",
       "min       1.000000     1.000000     1.000000     1.000000     1.000000   \n",
       "25%       5.000000     5.000000     5.000000     5.000000     5.000000   \n",
       "50%       6.000000     6.000000     6.000000     6.000000     6.000000   \n",
       "75%       7.000000     6.000000     7.000000     7.000000     7.000000   \n",
       "max       7.000000     7.000000     7.000000     7.000000     7.000000   \n",
       "\n",
       "              Q6_5  \n",
       "count  3836.000000  \n",
       "mean      5.895725  \n",
       "std       1.340600  \n",
       "min       1.000000  \n",
       "25%       5.000000  \n",
       "50%       6.000000  \n",
       "75%       7.000000  \n",
       "max       7.000000  "
      ]
     },
     "execution_count": 37,
     "metadata": {},
     "output_type": "execute_result"
    }
   ],
   "source": [
    "dfsc.describe()"
   ]
  },
  {
   "cell_type": "markdown",
   "metadata": {
    "id": "9bd41cfd"
   },
   "source": [
    "### Analysis 3: Score data about products and solutions"
   ]
  },
  {
   "cell_type": "code",
   "execution_count": 38,
   "metadata": {
    "id": "be532bd3"
   },
   "outputs": [],
   "source": [
    "product_col1 = ['Q7A_1','Q7A_2','Q7A_3','Q7A_4','Q7A_5','Q7A_6','Q7A_7','Q7A_8','Q7A_9']"
   ]
  },
  {
   "cell_type": "code",
   "execution_count": 39,
   "metadata": {
    "id": "9695a64e"
   },
   "outputs": [],
   "source": [
    "dfpr = df[product_col1]"
   ]
  },
  {
   "cell_type": "code",
   "execution_count": 40,
   "metadata": {
    "id": "24ce7aba"
   },
   "outputs": [],
   "source": [
    "dfpr = dfpr.apply(pd.to_numeric, errors='coerce')"
   ]
  },
  {
   "cell_type": "code",
   "execution_count": 41,
   "metadata": {
    "id": "d5ee008a",
    "outputId": "49673ebb-29ba-403c-82f7-2e64b24fc210"
   },
   "outputs": [
    {
     "data": {
      "text/html": [
       "<div>\n",
       "<style scoped>\n",
       "    .dataframe tbody tr th:only-of-type {\n",
       "        vertical-align: middle;\n",
       "    }\n",
       "\n",
       "    .dataframe tbody tr th {\n",
       "        vertical-align: top;\n",
       "    }\n",
       "\n",
       "    .dataframe thead th {\n",
       "        text-align: right;\n",
       "    }\n",
       "</style>\n",
       "<table border=\"1\" class=\"dataframe\">\n",
       "  <thead>\n",
       "    <tr style=\"text-align: right;\">\n",
       "      <th></th>\n",
       "      <th>Q7A_1</th>\n",
       "      <th>Q7A_2</th>\n",
       "      <th>Q7A_3</th>\n",
       "      <th>Q7A_4</th>\n",
       "      <th>Q7A_5</th>\n",
       "      <th>Q7A_6</th>\n",
       "      <th>Q7A_7</th>\n",
       "      <th>Q7A_8</th>\n",
       "      <th>Q7A_9</th>\n",
       "    </tr>\n",
       "  </thead>\n",
       "  <tbody>\n",
       "    <tr>\n",
       "      <th>count</th>\n",
       "      <td>3274.000000</td>\n",
       "      <td>388.000000</td>\n",
       "      <td>305.000000</td>\n",
       "      <td>407.000000</td>\n",
       "      <td>164.000000</td>\n",
       "      <td>694.000000</td>\n",
       "      <td>495.000000</td>\n",
       "      <td>219.000000</td>\n",
       "      <td>287.000000</td>\n",
       "    </tr>\n",
       "    <tr>\n",
       "      <th>mean</th>\n",
       "      <td>6.212279</td>\n",
       "      <td>6.007732</td>\n",
       "      <td>5.970492</td>\n",
       "      <td>5.943489</td>\n",
       "      <td>5.865854</td>\n",
       "      <td>5.609510</td>\n",
       "      <td>5.814141</td>\n",
       "      <td>5.963470</td>\n",
       "      <td>5.634146</td>\n",
       "    </tr>\n",
       "    <tr>\n",
       "      <th>std</th>\n",
       "      <td>1.044601</td>\n",
       "      <td>1.153555</td>\n",
       "      <td>1.217653</td>\n",
       "      <td>1.270836</td>\n",
       "      <td>1.159249</td>\n",
       "      <td>1.427001</td>\n",
       "      <td>1.313971</td>\n",
       "      <td>1.319765</td>\n",
       "      <td>1.714383</td>\n",
       "    </tr>\n",
       "    <tr>\n",
       "      <th>min</th>\n",
       "      <td>1.000000</td>\n",
       "      <td>1.000000</td>\n",
       "      <td>1.000000</td>\n",
       "      <td>1.000000</td>\n",
       "      <td>2.000000</td>\n",
       "      <td>1.000000</td>\n",
       "      <td>1.000000</td>\n",
       "      <td>1.000000</td>\n",
       "      <td>1.000000</td>\n",
       "    </tr>\n",
       "    <tr>\n",
       "      <th>25%</th>\n",
       "      <td>6.000000</td>\n",
       "      <td>6.000000</td>\n",
       "      <td>5.000000</td>\n",
       "      <td>6.000000</td>\n",
       "      <td>5.000000</td>\n",
       "      <td>5.000000</td>\n",
       "      <td>5.000000</td>\n",
       "      <td>5.500000</td>\n",
       "      <td>5.000000</td>\n",
       "    </tr>\n",
       "    <tr>\n",
       "      <th>50%</th>\n",
       "      <td>6.000000</td>\n",
       "      <td>6.000000</td>\n",
       "      <td>6.000000</td>\n",
       "      <td>6.000000</td>\n",
       "      <td>6.000000</td>\n",
       "      <td>6.000000</td>\n",
       "      <td>6.000000</td>\n",
       "      <td>6.000000</td>\n",
       "      <td>6.000000</td>\n",
       "    </tr>\n",
       "    <tr>\n",
       "      <th>75%</th>\n",
       "      <td>7.000000</td>\n",
       "      <td>7.000000</td>\n",
       "      <td>7.000000</td>\n",
       "      <td>7.000000</td>\n",
       "      <td>7.000000</td>\n",
       "      <td>7.000000</td>\n",
       "      <td>7.000000</td>\n",
       "      <td>7.000000</td>\n",
       "      <td>7.000000</td>\n",
       "    </tr>\n",
       "    <tr>\n",
       "      <th>max</th>\n",
       "      <td>7.000000</td>\n",
       "      <td>7.000000</td>\n",
       "      <td>7.000000</td>\n",
       "      <td>7.000000</td>\n",
       "      <td>7.000000</td>\n",
       "      <td>7.000000</td>\n",
       "      <td>7.000000</td>\n",
       "      <td>7.000000</td>\n",
       "      <td>7.000000</td>\n",
       "    </tr>\n",
       "  </tbody>\n",
       "</table>\n",
       "</div>"
      ],
      "text/plain": [
       "             Q7A_1       Q7A_2       Q7A_3       Q7A_4       Q7A_5  \\\n",
       "count  3274.000000  388.000000  305.000000  407.000000  164.000000   \n",
       "mean      6.212279    6.007732    5.970492    5.943489    5.865854   \n",
       "std       1.044601    1.153555    1.217653    1.270836    1.159249   \n",
       "min       1.000000    1.000000    1.000000    1.000000    2.000000   \n",
       "25%       6.000000    6.000000    5.000000    6.000000    5.000000   \n",
       "50%       6.000000    6.000000    6.000000    6.000000    6.000000   \n",
       "75%       7.000000    7.000000    7.000000    7.000000    7.000000   \n",
       "max       7.000000    7.000000    7.000000    7.000000    7.000000   \n",
       "\n",
       "            Q7A_6       Q7A_7       Q7A_8       Q7A_9  \n",
       "count  694.000000  495.000000  219.000000  287.000000  \n",
       "mean     5.609510    5.814141    5.963470    5.634146  \n",
       "std      1.427001    1.313971    1.319765    1.714383  \n",
       "min      1.000000    1.000000    1.000000    1.000000  \n",
       "25%      5.000000    5.000000    5.500000    5.000000  \n",
       "50%      6.000000    6.000000    6.000000    6.000000  \n",
       "75%      7.000000    7.000000    7.000000    7.000000  \n",
       "max      7.000000    7.000000    7.000000    7.000000  "
      ]
     },
     "execution_count": 41,
     "metadata": {},
     "output_type": "execute_result"
    }
   ],
   "source": [
    "#display the scores for each products and solutions\n",
    "dfpr.describe()"
   ]
  },
  {
   "cell_type": "code",
   "execution_count": 42,
   "metadata": {
    "id": "40f11715"
   },
   "outputs": [],
   "source": [
    "product_col2 = ['Q8_1','Q8_2','Q8_3','Q8_4','Q8_5','Q8_6','Q8_7','Q8_8','Q8_9']"
   ]
  },
  {
   "cell_type": "code",
   "execution_count": 43,
   "metadata": {
    "id": "70209653"
   },
   "outputs": [],
   "source": [
    "dfpr1 = df[product_col2]"
   ]
  },
  {
   "cell_type": "code",
   "execution_count": 44,
   "metadata": {
    "id": "dad8a72d",
    "outputId": "61a3ab25-e0e5-4025-b8a8-053381ec21b1"
   },
   "outputs": [
    {
     "data": {
      "text/html": [
       "<div>\n",
       "<style scoped>\n",
       "    .dataframe tbody tr th:only-of-type {\n",
       "        vertical-align: middle;\n",
       "    }\n",
       "\n",
       "    .dataframe tbody tr th {\n",
       "        vertical-align: top;\n",
       "    }\n",
       "\n",
       "    .dataframe thead th {\n",
       "        text-align: right;\n",
       "    }\n",
       "</style>\n",
       "<table border=\"1\" class=\"dataframe\">\n",
       "  <thead>\n",
       "    <tr style=\"text-align: right;\">\n",
       "      <th></th>\n",
       "      <th>Q8_1</th>\n",
       "      <th>Q8_2</th>\n",
       "      <th>Q8_3</th>\n",
       "      <th>Q8_4</th>\n",
       "      <th>Q8_5</th>\n",
       "      <th>Q8_6</th>\n",
       "      <th>Q8_7</th>\n",
       "      <th>Q8_8</th>\n",
       "      <th>Q8_9</th>\n",
       "    </tr>\n",
       "  </thead>\n",
       "  <tbody>\n",
       "    <tr>\n",
       "      <th>2</th>\n",
       "      <td>NaN</td>\n",
       "      <td>NaN</td>\n",
       "      <td>NaN</td>\n",
       "      <td>NaN</td>\n",
       "      <td>NaN</td>\n",
       "      <td>NaN</td>\n",
       "      <td>NaN</td>\n",
       "      <td>NaN</td>\n",
       "      <td>NaN</td>\n",
       "    </tr>\n",
       "    <tr>\n",
       "      <th>3</th>\n",
       "      <td>NaN</td>\n",
       "      <td>NaN</td>\n",
       "      <td>NaN</td>\n",
       "      <td>NaN</td>\n",
       "      <td>Modern Application Platform\\n\\n VMware Tanzu p...</td>\n",
       "      <td>Digital Workspace (including VDI)\\n\\n Workspac...</td>\n",
       "      <td>NaN</td>\n",
       "      <td>NaN</td>\n",
       "      <td>NaN</td>\n",
       "    </tr>\n",
       "    <tr>\n",
       "      <th>4</th>\n",
       "      <td>NaN</td>\n",
       "      <td>NaN</td>\n",
       "      <td>NaN</td>\n",
       "      <td>NaN</td>\n",
       "      <td>NaN</td>\n",
       "      <td>NaN</td>\n",
       "      <td>NaN</td>\n",
       "      <td>NaN</td>\n",
       "      <td>NaN</td>\n",
       "    </tr>\n",
       "    <tr>\n",
       "      <th>5</th>\n",
       "      <td>NaN</td>\n",
       "      <td>NaN</td>\n",
       "      <td>Public Cloud\\n\\n VMware Cloud on AWS, Azure, G...</td>\n",
       "      <td>NaN</td>\n",
       "      <td>NaN</td>\n",
       "      <td>NaN</td>\n",
       "      <td>NaN</td>\n",
       "      <td>NaN</td>\n",
       "      <td>NaN</td>\n",
       "    </tr>\n",
       "    <tr>\n",
       "      <th>6</th>\n",
       "      <td>NaN</td>\n",
       "      <td>NaN</td>\n",
       "      <td>NaN</td>\n",
       "      <td>NaN</td>\n",
       "      <td>NaN</td>\n",
       "      <td>NaN</td>\n",
       "      <td>NaN</td>\n",
       "      <td>NaN</td>\n",
       "      <td>NaN</td>\n",
       "    </tr>\n",
       "  </tbody>\n",
       "</table>\n",
       "</div>"
      ],
      "text/plain": [
       "  Q8_1 Q8_2                                               Q8_3 Q8_4  \\\n",
       "2  NaN  NaN                                                NaN  NaN   \n",
       "3  NaN  NaN                                                NaN  NaN   \n",
       "4  NaN  NaN                                                NaN  NaN   \n",
       "5  NaN  NaN  Public Cloud\\n\\n VMware Cloud on AWS, Azure, G...  NaN   \n",
       "6  NaN  NaN                                                NaN  NaN   \n",
       "\n",
       "                                                Q8_5  \\\n",
       "2                                                NaN   \n",
       "3  Modern Application Platform\\n\\n VMware Tanzu p...   \n",
       "4                                                NaN   \n",
       "5                                                NaN   \n",
       "6                                                NaN   \n",
       "\n",
       "                                                Q8_6 Q8_7 Q8_8 Q8_9  \n",
       "2                                                NaN  NaN  NaN  NaN  \n",
       "3  Digital Workspace (including VDI)\\n\\n Workspac...  NaN  NaN  NaN  \n",
       "4                                                NaN  NaN  NaN  NaN  \n",
       "5                                                NaN  NaN  NaN  NaN  \n",
       "6                                                NaN  NaN  NaN  NaN  "
      ]
     },
     "execution_count": 44,
     "metadata": {},
     "output_type": "execute_result"
    }
   ],
   "source": [
    "dfpr1.head()"
   ]
  },
  {
   "cell_type": "code",
   "execution_count": 45,
   "metadata": {
    "id": "dc808167"
   },
   "outputs": [],
   "source": [
    "dfpr1 = pd.get_dummies(dfpr1)"
   ]
  },
  {
   "cell_type": "code",
   "execution_count": 46,
   "metadata": {
    "id": "b7853a26",
    "outputId": "8cee8c90-c4de-4dc6-bd8f-0d00012e787f"
   },
   "outputs": [
    {
     "data": {
      "text/plain": [
       "Q8_1_Datacenter solutions \\n\\n VMware vSphere, VMware vSAN, VxRail\\n                                  556\n",
       "Q8_3_Public Cloud\\n\\n VMware Cloud on AWS, Azure, Google, IBM, Oracle or other partner providers\\n    242\n",
       "Q8_6_Digital Workspace (including VDI)\\n\\n Workspace ONE, VMware Horizon\\n                            227\n",
       "Q8_2_Private Cloud\\n\\n VMware Cloud Foundation (VCF)\\n                                                209\n",
       "Q8_7_Networking\\n\\n VMware NSX portfolio including Avi\\n                                              184\n",
       "Q8_4_Cloud Management\\n\\n VMware vRealize portfolio\\n                                                 164\n",
       "Q8_8_Security\\n\\n VMware Carbon Black portfolio\\n                                                     138\n",
       "Q8_5_Modern Application Platform\\n\\n VMware Tanzu portfolio\\n                                         121\n",
       "Q8_9_Other                                                                                             97\n",
       "dtype: int64"
      ]
     },
     "execution_count": 46,
     "metadata": {},
     "output_type": "execute_result"
    }
   ],
   "source": [
    "# display the choice of solutions 'Which VMware solution(s) are you evaluating to adopt or expand your usage?'\n",
    "dfpr1.sum().sort_values(ascending = False)"
   ]
  },
  {
   "cell_type": "markdown",
   "metadata": {
    "id": "507cce96"
   },
   "source": [
    "### Analysis 4: Customer Future Strategies"
   ]
  },
  {
   "cell_type": "code",
   "execution_count": 47,
   "metadata": {
    "id": "63f5f190"
   },
   "outputs": [],
   "source": [
    "future_strategy_col = ['Q9_1','Q9_2','Q9_3','Q9_4','Q9_5','Q9_6','Q9_7','Q9_8','Q9_9']"
   ]
  },
  {
   "cell_type": "code",
   "execution_count": 48,
   "metadata": {
    "colab": {
     "base_uri": "https://localhost:8080/",
     "height": 166
    },
    "id": "d54d217e",
    "outputId": "34685d85-2bac-404a-e9b4-00e00b6abd83"
   },
   "outputs": [],
   "source": [
    "dffu = df[future_strategy_col]"
   ]
  },
  {
   "cell_type": "code",
   "execution_count": 49,
   "metadata": {
    "id": "af90d0c9"
   },
   "outputs": [],
   "source": [
    "dffu = pd.get_dummies(dffu)"
   ]
  },
  {
   "cell_type": "code",
   "execution_count": 50,
   "metadata": {
    "id": "98ff8aa2"
   },
   "outputs": [
    {
     "data": {
      "text/plain": [
       "Q9_7_Enhance security             1944\n",
       "Q9_8_Business continuity          1690\n",
       "Q9_6_Remote workforce             1574\n",
       "Q9_2_Expand hybrid cloud          1406\n",
       "Q9_9_Maintain with less budget    1394\n",
       "Q9_3_Expand on-prem                944\n",
       "Q9_4_Scale down on-prem            863\n",
       "Q9_1_Accelerate IaaS adoption      779\n",
       "Q9_5_Accelerate SaaS adoption      705\n",
       "dtype: int64"
      ]
     },
     "execution_count": 50,
     "metadata": {},
     "output_type": "execute_result"
    }
   ],
   "source": [
    "# display the 'How will your future technology strategy evolve due to the current business climate? '\n",
    "dffu.sum().sort_values(ascending = False)"
   ]
  },
  {
   "cell_type": "markdown",
   "metadata": {},
   "source": [
    "<h3 style=\"background-color:Green;\"> Analysis:1 </h3>"
   ]
  },
  {
   "cell_type": "code",
   "execution_count": 51,
   "metadata": {},
   "outputs": [
    {
     "data": {
      "text/plain": [
       "<BarContainer object of 9 artists>"
      ]
     },
     "execution_count": 51,
     "metadata": {},
     "output_type": "execute_result"
    },
    {
     "data": {
      "image/png": "[encoded data removed]",
      "text/plain": [
       "<Figure size 432x288 with 1 Axes>"
      ]
     },
     "metadata": {
      "needs_background": "light"
     },
     "output_type": "display_data"
    }
   ],
   "source": [
    "# plt.figure(figsize=(5,5))\n",
    "future = dffu.sum().sort_values(ascending = False)\n",
    "plt.bar(future.index,future,color='g')\n",
    "_ = plt.xticks(rotation=90)\n",
    "plt.show()"
   ]
  },
  {
   "cell_type": "markdown",
   "metadata": {},
   "source": [
    "<h3 style=\"background-color:Green;\"> Analysis:2 </h3>"
   ]
  },
  {
   "cell_type": "code",
   "execution_count": 52,
   "metadata": {},
   "outputs": [
    {
     "data": {
      "text/plain": [
       "<Figure size 360x504 with 0 Axes>"
      ]
     },
     "execution_count": 52,
     "metadata": {},
     "output_type": "execute_result"
    },
    {
     "data": {
      "text/plain": [
       "<AxesSubplot:>"
      ]
     },
     "execution_count": 52,
     "metadata": {},
     "output_type": "execute_result"
    },
    {
     "data": {
      "image/png": "[encoded data removed]",
      "text/plain": [
       "<Figure size 360x504 with 1 Axes>"
      ]
     },
     "metadata": {
      "needs_background": "light"
     },
     "output_type": "display_data"
    }
   ],
   "source": [
    "expand = dfpr1.sum().sort_values(ascending = False)\n",
    "plt.figure(figsize=(5,7)) # set the figure size\n",
    "expand.plot(kind='barh',fontsize=10,color='r')\n",
    "_ = plt.xticks(rotation='vertical')\n",
    "plt.show() # plot the graph"
   ]
  },
  {
   "cell_type": "markdown",
   "metadata": {},
   "source": [
    "<h3 style=\"background-color:Green;\"> Analysis:3 </h3>"
   ]
  },
  {
   "cell_type": "code",
   "execution_count": 53,
   "metadata": {},
   "outputs": [
    {
     "name": "stderr",
     "output_type": "stream",
     "text": [
      "[nltk_data] Downloading package vader_lexicon to\n",
      "[nltk_data]     C:\\Users\\avitr\\AppData\\Roaming\\nltk_data...\n",
      "[nltk_data]   Package vader_lexicon is already up-to-date!\n"
     ]
    },
    {
     "data": {
      "text/plain": [
       "True"
      ]
     },
     "execution_count": 53,
     "metadata": {},
     "output_type": "execute_result"
    }
   ],
   "source": [
    "import nltk\n",
    "nltk.download('vader_lexicon')\n",
    "from nltk.sentiment.vader import SentimentIntensityAnalyzer\n",
    "sid = SentimentIntensityAnalyzer()"
   ]
  },
  {
   "cell_type": "code",
   "execution_count": 54,
   "metadata": {},
   "outputs": [],
   "source": [
    "f = lambda x : 'positive' if x >= 0.05 else ('neutral' if 0.05>x>-0.05 else 'negative')\n",
    "text_list = []\n",
    "df_text_sentiment = pd.DataFrame() \n",
    "\n",
    "for col in text_col:\n",
    "    temp = dfprom[['Language',col]].fillna('NULL')\n",
    "    temp = temp[temp['Language']=='EN']\n",
    "    df_text_sentiment[col] = temp[col].apply(lambda review: 'NULL' if review=='NULL' else f(sid.polarity_scores(review)['compound']))"
   ]
  },
  {
   "cell_type": "code",
   "execution_count": 55,
   "metadata": {},
   "outputs": [
    {
     "data": {
      "text/plain": [
       "<AxesSubplot:ylabel='Q2A'>"
      ]
     },
     "execution_count": 55,
     "metadata": {},
     "output_type": "execute_result"
    },
    {
     "data": {
      "text/plain": [
       "<AxesSubplot:ylabel='Q7B_1_1'>"
      ]
     },
     "execution_count": 55,
     "metadata": {},
     "output_type": "execute_result"
    },
    {
     "data": {
      "text/plain": [
       "<AxesSubplot:ylabel='Q7B_2_1'>"
      ]
     },
     "execution_count": 55,
     "metadata": {},
     "output_type": "execute_result"
    },
    {
     "data": {
      "text/plain": [
       "<AxesSubplot:ylabel='Q7B_3_1'>"
      ]
     },
     "execution_count": 55,
     "metadata": {},
     "output_type": "execute_result"
    },
    {
     "data": {
      "text/plain": [
       "<AxesSubplot:ylabel='Q7B_4_1'>"
      ]
     },
     "execution_count": 55,
     "metadata": {},
     "output_type": "execute_result"
    },
    {
     "data": {
      "text/plain": [
       "<AxesSubplot:ylabel='Q7B_5_1'>"
      ]
     },
     "execution_count": 55,
     "metadata": {},
     "output_type": "execute_result"
    },
    {
     "data": {
      "text/plain": [
       "<AxesSubplot:ylabel='Q7B_6_1'>"
      ]
     },
     "execution_count": 55,
     "metadata": {},
     "output_type": "execute_result"
    },
    {
     "data": {
      "text/plain": [
       "<AxesSubplot:ylabel='Q7B_7_1'>"
      ]
     },
     "execution_count": 55,
     "metadata": {},
     "output_type": "execute_result"
    },
    {
     "data": {
      "text/plain": [
       "<AxesSubplot:ylabel='Q7B_8_1'>"
      ]
     },
     "execution_count": 55,
     "metadata": {},
     "output_type": "execute_result"
    },
    {
     "data": {
      "text/plain": [
       "<AxesSubplot:ylabel='Q7B_9_TEXT'>"
      ]
     },
     "execution_count": 55,
     "metadata": {},
     "output_type": "execute_result"
    },
    {
     "data": {
      "image/png": "[encoded data removed]",
      "text/plain": [
       "<Figure size 1080x1080 with 12 Axes>"
      ]
     },
     "metadata": {
      "needs_background": "light"
     },
     "output_type": "display_data"
    }
   ],
   "source": [
    "fig, axes = plt.subplots(4, 3, figsize=(15, 15))\n",
    "# fig.suptitle('Satisfaction about Q7A')\n",
    "t = df_text_sentiment.Q2A.value_counts(normalize=True)*100\n",
    "sns.barplot(ax=axes[0, 0],x=t.index,y=t)\n",
    "\n",
    "t = df_text_sentiment.Q7B_1_1.value_counts(normalize=True)*100\n",
    "sns.barplot(ax=axes[0, 1],x=t.index,y=t)\n",
    "\n",
    "t = df_text_sentiment.Q7B_2_1.value_counts(normalize=True)*100\n",
    "sns.barplot(ax=axes[0, 2],x=t.index,y=t)\n",
    "\n",
    "t = df_text_sentiment.Q7B_3_1.value_counts(normalize=True)*100\n",
    "sns.barplot(ax=axes[1, 0],x=t.index,y=t)\n",
    "\n",
    "t = df_text_sentiment.Q7B_4_1.value_counts(normalize=True)*100\n",
    "sns.barplot(ax=axes[1, 1],x=t.index,y=t)\n",
    "\n",
    "t = df_text_sentiment.Q7B_5_1.value_counts(normalize=True)*100\n",
    "sns.barplot(ax=axes[1, 2],x=t.index,y=t)\n",
    "\n",
    "t = df_text_sentiment.Q7B_6_1.value_counts(normalize=True)*100\n",
    "sns.barplot(ax=axes[2, 0],x=t.index,y=t)\n",
    "\n",
    "t = df_text_sentiment.Q7B_7_1.value_counts(normalize=True)*100\n",
    "sns.barplot(ax=axes[2, 1],x=t.index,y=t)\n",
    "\n",
    "t = df_text_sentiment.Q7B_8_1.value_counts(normalize=True)*100\n",
    "sns.barplot(ax=axes[2, 2],x=t.index,y=t)\n",
    "\n",
    "t = df_text_sentiment.Q7B_9_TEXT.value_counts(normalize=True)*100\n",
    "sns.barplot(ax=axes[3, 0],x=t.index,y=t)\n",
    "\n",
    "# sns.countplot(ax=axes[0, 0], x=df_text_sentiment.Q2A,order=['positive','neutral','negative','NULL'])\n",
    "# sns.countplot(ax=axes[0, 1], x=df_text_sentiment.Q7B_1_1,order=['positive','neutral','negative','NULL'])\n",
    "# sns.countplot(ax=axes[0, 2], x=df_text_sentiment.Q7B_2_1,order=['positive','neutral','negative','NULL'])\n",
    "# sns.countplot(ax=axes[1, 0], x=df_text_sentiment.Q7B_3_1,order=['positive','neutral','negative','NULL'])\n",
    "# sns.countplot(ax=axes[1, 1], x=df_text_sentiment.Q7B_4_1,order=['positive','neutral','negative','NULL'])\n",
    "# sns.countplot(ax=axes[1, 2], x=df_text_sentiment.Q7B_5_1,order=['positive','neutral','negative','NULL'])\n",
    "# sns.countplot(ax=axes[2, 0], x=df_text_sentiment.Q7B_6_1,order=['positive','neutral','negative','NULL'])\n",
    "# sns.countplot(ax=axes[2, 1], x=df_text_sentiment.Q7B_7_1,order=['positive','neutral','negative','NULL'])\n",
    "# sns.countplot(ax=axes[2, 2], x=df_text_sentiment.Q7B_8_1,order=['positive','neutral','negative','NULL'])\n",
    "# sns.countplot(ax=axes[3, 0], x=df_text_sentiment.Q7B_9_TEXT,order=['positive','neutral','negative','NULL'])"
   ]
  },
  {
   "cell_type": "code",
   "execution_count": 56,
   "metadata": {},
   "outputs": [],
   "source": [
    "# https://github.com/cjhutto/vaderSentiment"
   ]
  },
  {
   "cell_type": "markdown",
   "metadata": {},
   "source": [
    "# 28FEB"
   ]
  },
  {
   "cell_type": "code",
   "execution_count": 57,
   "metadata": {},
   "outputs": [],
   "source": [
    "# 4"
   ]
  },
  {
   "cell_type": "code",
   "execution_count": 58,
   "metadata": {},
   "outputs": [],
   "source": [
    "df['Duration (in seconds)'] = df['Duration (in seconds)'].astype('float')"
   ]
  },
  {
   "cell_type": "code",
   "execution_count": 59,
   "metadata": {},
   "outputs": [],
   "source": [
    "df['Q1'] = df['Q1'].astype('float')"
   ]
  },
  {
   "cell_type": "code",
   "execution_count": 60,
   "metadata": {},
   "outputs": [
    {
     "data": {
      "text/plain": [
       "-0.0008288380700576771"
      ]
     },
     "execution_count": 60,
     "metadata": {},
     "output_type": "execute_result"
    }
   ],
   "source": [
    "# as its close to zero, no/zero relation\n",
    "np.corrcoef(df['Duration (in seconds)'],df['Q1'])[0][1]"
   ]
  },
  {
   "cell_type": "code",
   "execution_count": 61,
   "metadata": {},
   "outputs": [],
   "source": [
    "# 6"
   ]
  },
  {
   "cell_type": "code",
   "execution_count": null,
   "metadata": {},
   "outputs": [],
   "source": []
  },
  {
   "cell_type": "code",
   "execution_count": null,
   "metadata": {},
   "outputs": [],
   "source": []
  },
  {
   "cell_type": "code",
   "execution_count": 70,
   "metadata": {},
   "outputs": [],
   "source": [
    "col = text_col[0]"
   ]
  },
  {
   "cell_type": "code",
   "execution_count": 81,
   "metadata": {},
   "outputs": [],
   "source": [
    "df_text_sentiment = pd.DataFrame() "
   ]
  },
  {
   "cell_type": "code",
   "execution_count": 82,
   "metadata": {},
   "outputs": [
    {
     "data": {
      "text/html": [
       "<div>\n",
       "<style scoped>\n",
       "    .dataframe tbody tr th:only-of-type {\n",
       "        vertical-align: middle;\n",
       "    }\n",
       "\n",
       "    .dataframe tbody tr th {\n",
       "        vertical-align: top;\n",
       "    }\n",
       "\n",
       "    .dataframe thead th {\n",
       "        text-align: right;\n",
       "    }\n",
       "</style>\n",
       "<table border=\"1\" class=\"dataframe\">\n",
       "  <thead>\n",
       "    <tr style=\"text-align: right;\">\n",
       "      <th></th>\n",
       "    </tr>\n",
       "  </thead>\n",
       "  <tbody>\n",
       "  </tbody>\n",
       "</table>\n",
       "</div>"
      ],
      "text/plain": [
       "Empty DataFrame\n",
       "Columns: []\n",
       "Index: []"
      ]
     },
     "execution_count": 82,
     "metadata": {},
     "output_type": "execute_result"
    }
   ],
   "source": [
    "df_text_sentiment"
   ]
  },
  {
   "cell_type": "code",
   "execution_count": 71,
   "metadata": {},
   "outputs": [],
   "source": [
    "temp = df[['Language',col]]\n",
    "temp = temp[temp['Language']=='EN']\n",
    "temp.dropna(inplace=True)"
   ]
  },
  {
   "cell_type": "code",
   "execution_count": 73,
   "metadata": {},
   "outputs": [
    {
     "data": {
      "text/plain": [
       "602"
      ]
     },
     "execution_count": 73,
     "metadata": {},
     "output_type": "execute_result"
    }
   ],
   "source": [
    "len(temp)"
   ]
  },
  {
   "cell_type": "code",
   "execution_count": 74,
   "metadata": {},
   "outputs": [
    {
     "data": {
      "text/plain": [
       "'Q2A_len'"
      ]
     },
     "execution_count": 74,
     "metadata": {},
     "output_type": "execute_result"
    }
   ],
   "source": [
    "col_len = col+'_len'\n",
    "col_len"
   ]
  },
  {
   "cell_type": "code",
   "execution_count": 95,
   "metadata": {},
   "outputs": [
    {
     "data": {
      "text/plain": [
       "'VMware is best product in virtualization, I will recommended 100% for all users'"
      ]
     },
     "execution_count": 95,
     "metadata": {},
     "output_type": "execute_result"
    }
   ],
   "source": [
    "temp[col].iloc[5]"
   ]
  },
  {
   "cell_type": "code",
   "execution_count": null,
   "metadata": {},
   "outputs": [],
   "source": [
    "temp[col].apply(lambda review: f(sid.polarity_scores(review)['compound']))"
   ]
  },
  {
   "cell_type": "code",
   "execution_count": 89,
   "metadata": {},
   "outputs": [],
   "source": [
    "df_text_sentiment[col] = temp[col].apply(lambda review: f(sid.polarity_scores(review)['compound']))"
   ]
  },
  {
   "cell_type": "code",
   "execution_count": 91,
   "metadata": {},
   "outputs": [],
   "source": [
    "f = lambda x : 'positive' if x >= 0.05 else ('neutral' if 0.05>x>-0.05 else 'negative')"
   ]
  },
  {
   "cell_type": "code",
   "execution_count": 97,
   "metadata": {},
   "outputs": [],
   "source": [
    "t = sid.polarity_scores('VMware is best product in virtualization, I will recommended 100% for all users')"
   ]
  },
  {
   "cell_type": "code",
   "execution_count": null,
   "metadata": {},
   "outputs": [],
   "source": [
    "# https://github.com/cjhutto/vaderSentiment/blob/master/vaderSentiment/vader_lexicon.txt\n",
    "# https://github.com/cjhutto/vaderSentiment"
   ]
  },
  {
   "cell_type": "code",
   "execution_count": 99,
   "metadata": {},
   "outputs": [
    {
     "data": {
      "text/plain": [
       "0.7184"
      ]
     },
     "execution_count": 99,
     "metadata": {},
     "output_type": "execute_result"
    }
   ],
   "source": [
    "t['compound']"
   ]
  },
  {
   "cell_type": "code",
   "execution_count": 100,
   "metadata": {},
   "outputs": [
    {
     "data": {
      "text/plain": [
       "'positive'"
      ]
     },
     "execution_count": 100,
     "metadata": {},
     "output_type": "execute_result"
    }
   ],
   "source": [
    "f(t['compound'])"
   ]
  },
  {
   "cell_type": "code",
   "execution_count": 101,
   "metadata": {},
   "outputs": [],
   "source": [
    "y = lambda c:c*c"
   ]
  },
  {
   "cell_type": "code",
   "execution_count": 102,
   "metadata": {},
   "outputs": [
    {
     "data": {
      "text/plain": [
       "4"
      ]
     },
     "execution_count": 102,
     "metadata": {},
     "output_type": "execute_result"
    }
   ],
   "source": [
    "y(2)"
   ]
  },
  {
   "cell_type": "code",
   "execution_count": 103,
   "metadata": {},
   "outputs": [
    {
     "data": {
      "text/plain": [
       "144"
      ]
     },
     "execution_count": 103,
     "metadata": {},
     "output_type": "execute_result"
    }
   ],
   "source": [
    "y(12)"
   ]
  },
  {
   "cell_type": "code",
   "execution_count": null,
   "metadata": {},
   "outputs": [],
   "source": []
  },
  {
   "cell_type": "code",
   "execution_count": null,
   "metadata": {},
   "outputs": [],
   "source": []
  },
  {
   "cell_type": "code",
   "execution_count": 104,
   "metadata": {},
   "outputs": [],
   "source": [
    "df_text_sentiment[col_len] = temp[col].apply(lambda x: len(x))"
   ]
  },
  {
   "cell_type": "code",
   "execution_count": 105,
   "metadata": {},
   "outputs": [
    {
     "data": {
      "text/html": [
       "<div>\n",
       "<style scoped>\n",
       "    .dataframe tbody tr th:only-of-type {\n",
       "        vertical-align: middle;\n",
       "    }\n",
       "\n",
       "    .dataframe tbody tr th {\n",
       "        vertical-align: top;\n",
       "    }\n",
       "\n",
       "    .dataframe thead th {\n",
       "        text-align: right;\n",
       "    }\n",
       "</style>\n",
       "<table border=\"1\" class=\"dataframe\">\n",
       "  <thead>\n",
       "    <tr style=\"text-align: right;\">\n",
       "      <th></th>\n",
       "      <th>Q2A</th>\n",
       "      <th>Q2A_len</th>\n",
       "    </tr>\n",
       "  </thead>\n",
       "  <tbody>\n",
       "    <tr>\n",
       "      <th>5</th>\n",
       "      <td>positive</td>\n",
       "      <td>121</td>\n",
       "    </tr>\n",
       "    <tr>\n",
       "      <th>21</th>\n",
       "      <td>neutral</td>\n",
       "      <td>73</td>\n",
       "    </tr>\n",
       "    <tr>\n",
       "      <th>22</th>\n",
       "      <td>positive</td>\n",
       "      <td>37</td>\n",
       "    </tr>\n",
       "    <tr>\n",
       "      <th>26</th>\n",
       "      <td>positive</td>\n",
       "      <td>4</td>\n",
       "    </tr>\n",
       "    <tr>\n",
       "      <th>41</th>\n",
       "      <td>positive</td>\n",
       "      <td>93</td>\n",
       "    </tr>\n",
       "    <tr>\n",
       "      <th>...</th>\n",
       "      <td>...</td>\n",
       "      <td>...</td>\n",
       "    </tr>\n",
       "    <tr>\n",
       "      <th>5872</th>\n",
       "      <td>neutral</td>\n",
       "      <td>1</td>\n",
       "    </tr>\n",
       "    <tr>\n",
       "      <th>5905</th>\n",
       "      <td>positive</td>\n",
       "      <td>59</td>\n",
       "    </tr>\n",
       "    <tr>\n",
       "      <th>5908</th>\n",
       "      <td>positive</td>\n",
       "      <td>82</td>\n",
       "    </tr>\n",
       "    <tr>\n",
       "      <th>5921</th>\n",
       "      <td>positive</td>\n",
       "      <td>34</td>\n",
       "    </tr>\n",
       "    <tr>\n",
       "      <th>5924</th>\n",
       "      <td>positive</td>\n",
       "      <td>15</td>\n",
       "    </tr>\n",
       "  </tbody>\n",
       "</table>\n",
       "<p>602 rows × 2 columns</p>\n",
       "</div>"
      ],
      "text/plain": [
       "           Q2A  Q2A_len\n",
       "5     positive      121\n",
       "21     neutral       73\n",
       "22    positive       37\n",
       "26    positive        4\n",
       "41    positive       93\n",
       "...        ...      ...\n",
       "5872   neutral        1\n",
       "5905  positive       59\n",
       "5908  positive       82\n",
       "5921  positive       34\n",
       "5924  positive       15\n",
       "\n",
       "[602 rows x 2 columns]"
      ]
     },
     "execution_count": 105,
     "metadata": {},
     "output_type": "execute_result"
    }
   ],
   "source": [
    "df_text_sentiment"
   ]
  },
  {
   "cell_type": "code",
   "execution_count": 110,
   "metadata": {},
   "outputs": [],
   "source": [
    "x = df_text_sentiment[col_len]\n",
    "\n",
    "th = x.sum()/len(x)"
   ]
  },
  {
   "cell_type": "code",
   "execution_count": 111,
   "metadata": {},
   "outputs": [
    {
     "data": {
      "text/plain": [
       "88.62126245847176"
      ]
     },
     "execution_count": 111,
     "metadata": {},
     "output_type": "execute_result"
    }
   ],
   "source": [
    "th"
   ]
  },
  {
   "cell_type": "code",
   "execution_count": 114,
   "metadata": {},
   "outputs": [
    {
     "data": {
      "text/plain": [
       "602"
      ]
     },
     "execution_count": 114,
     "metadata": {},
     "output_type": "execute_result"
    }
   ],
   "source": [
    "len(df_text_sentiment)"
   ]
  },
  {
   "cell_type": "code",
   "execution_count": 115,
   "metadata": {},
   "outputs": [
    {
     "data": {
      "text/html": [
       "<div>\n",
       "<style scoped>\n",
       "    .dataframe tbody tr th:only-of-type {\n",
       "        vertical-align: middle;\n",
       "    }\n",
       "\n",
       "    .dataframe tbody tr th {\n",
       "        vertical-align: top;\n",
       "    }\n",
       "\n",
       "    .dataframe thead th {\n",
       "        text-align: right;\n",
       "    }\n",
       "</style>\n",
       "<table border=\"1\" class=\"dataframe\">\n",
       "  <thead>\n",
       "    <tr style=\"text-align: right;\">\n",
       "      <th></th>\n",
       "      <th>Q2A</th>\n",
       "      <th>Q2A_len</th>\n",
       "    </tr>\n",
       "  </thead>\n",
       "  <tbody>\n",
       "    <tr>\n",
       "      <th>5</th>\n",
       "      <td>positive</td>\n",
       "      <td>121</td>\n",
       "    </tr>\n",
       "    <tr>\n",
       "      <th>41</th>\n",
       "      <td>positive</td>\n",
       "      <td>93</td>\n",
       "    </tr>\n",
       "    <tr>\n",
       "      <th>61</th>\n",
       "      <td>positive</td>\n",
       "      <td>107</td>\n",
       "    </tr>\n",
       "    <tr>\n",
       "      <th>63</th>\n",
       "      <td>positive</td>\n",
       "      <td>253</td>\n",
       "    </tr>\n",
       "    <tr>\n",
       "      <th>67</th>\n",
       "      <td>positive</td>\n",
       "      <td>109</td>\n",
       "    </tr>\n",
       "    <tr>\n",
       "      <th>...</th>\n",
       "      <td>...</td>\n",
       "      <td>...</td>\n",
       "    </tr>\n",
       "    <tr>\n",
       "      <th>5341</th>\n",
       "      <td>positive</td>\n",
       "      <td>99</td>\n",
       "    </tr>\n",
       "    <tr>\n",
       "      <th>5346</th>\n",
       "      <td>positive</td>\n",
       "      <td>103</td>\n",
       "    </tr>\n",
       "    <tr>\n",
       "      <th>5367</th>\n",
       "      <td>neutral</td>\n",
       "      <td>109</td>\n",
       "    </tr>\n",
       "    <tr>\n",
       "      <th>5608</th>\n",
       "      <td>positive</td>\n",
       "      <td>95</td>\n",
       "    </tr>\n",
       "    <tr>\n",
       "      <th>5855</th>\n",
       "      <td>positive</td>\n",
       "      <td>455</td>\n",
       "    </tr>\n",
       "  </tbody>\n",
       "</table>\n",
       "<p>197 rows × 2 columns</p>\n",
       "</div>"
      ],
      "text/plain": [
       "           Q2A  Q2A_len\n",
       "5     positive      121\n",
       "41    positive       93\n",
       "61    positive      107\n",
       "63    positive      253\n",
       "67    positive      109\n",
       "...        ...      ...\n",
       "5341  positive       99\n",
       "5346  positive      103\n",
       "5367   neutral      109\n",
       "5608  positive       95\n",
       "5855  positive      455\n",
       "\n",
       "[197 rows x 2 columns]"
      ]
     },
     "execution_count": 115,
     "metadata": {},
     "output_type": "execute_result"
    }
   ],
   "source": [
    "df_text_sentiment[df_text_sentiment[col_len]>th]#[col].value_counts(normalize=True)*100"
   ]
  },
  {
   "cell_type": "code",
   "execution_count": 120,
   "metadata": {},
   "outputs": [
    {
     "data": {
      "text/plain": [
       "positive    82.741117\n",
       "neutral     10.659898\n",
       "negative     6.598985\n",
       "Name: Q2A, dtype: float64"
      ]
     },
     "execution_count": 120,
     "metadata": {},
     "output_type": "execute_result"
    }
   ],
   "source": [
    "df_text_sentiment[df_text_sentiment[col_len]>th][col].value_counts(normalize=True)*100"
   ]
  },
  {
   "cell_type": "code",
   "execution_count": 123,
   "metadata": {},
   "outputs": [
    {
     "data": {
      "text/plain": [
       "9"
      ]
     },
     "execution_count": 123,
     "metadata": {},
     "output_type": "execute_result"
    }
   ],
   "source": [
    "len(free_text_plot_data)"
   ]
  },
  {
   "cell_type": "code",
   "execution_count": 132,
   "metadata": {},
   "outputs": [
    {
     "data": {
      "text/plain": [
       "positive    54.545455\n",
       "neutral     42.424242\n",
       "negative     3.030303\n",
       "Name: Q7B_8_1, dtype: float64"
      ]
     },
     "execution_count": 132,
     "metadata": {},
     "output_type": "execute_result"
    }
   ],
   "source": [
    "free_text_plot_data[8]"
   ]
  },
  {
   "cell_type": "code",
   "execution_count": 133,
   "metadata": {},
   "outputs": [
    {
     "name": "stdout",
     "output_type": "stream",
     "text": [
      "0 0\n",
      "0 1\n",
      "0 2\n",
      "1 0\n",
      "1 1\n",
      "1 2\n",
      "2 0\n",
      "2 1\n",
      "2 2\n"
     ]
    }
   ],
   "source": [
    "for i in range(3):\n",
    "    for j in range(3):\n",
    "        print(i,j)"
   ]
  },
  {
   "cell_type": "code",
   "execution_count": null,
   "metadata": {},
   "outputs": [],
   "source": []
  },
  {
   "cell_type": "code",
   "execution_count": null,
   "metadata": {},
   "outputs": [],
   "source": []
  },
  {
   "cell_type": "code",
   "execution_count": 62,
   "metadata": {},
   "outputs": [],
   "source": [
    "# df_free_text = df[df['Language']=='EN'][text_col]\n",
    "\n",
    "f = lambda x : 'positive' if x >= 0.05 else ('neutral' if 0.05>x>-0.05 else 'negative')\n",
    "text_list = []\n",
    "\n",
    "free_text_plot_data = []\n",
    "\n",
    "for col in text_col:\n",
    "    df_text_sentiment = pd.DataFrame() \n",
    "    temp = df[['Language',col]]\n",
    "#     temp = df[['Language',col]].fillna('NULL')\n",
    "    temp = temp[temp['Language']=='EN']\n",
    "    temp.dropna(inplace=True)\n",
    "    if len(temp)!=0:\n",
    "    #     print(col,'->',len(temp))\n",
    "\n",
    "        col_len = col+'_len'\n",
    "        df_text_sentiment[col] = temp[col].apply(lambda review: f(sid.polarity_scores(review)['compound']))\n",
    "        df_text_sentiment[col_len] = temp[col].apply(lambda x: len(x))\n",
    "\n",
    "    #     df_text_sentiment.dropna(inplace=True)\n",
    "\n",
    "    #     print(col,'->',len(df_text_sentiment))\n",
    "        x = df_text_sentiment[col_len]\n",
    "\n",
    "        th = x.sum()/len(x)\n",
    "        free_text_plot_data.append(df_text_sentiment[df_text_sentiment[col_len]>th][col].value_counts(normalize=True)*100)"
   ]
  },
  {
   "cell_type": "code",
   "execution_count": 63,
   "metadata": {},
   "outputs": [
    {
     "data": {
      "text/plain": [
       "<AxesSubplot:ylabel='Q2A'>"
      ]
     },
     "execution_count": 63,
     "metadata": {},
     "output_type": "execute_result"
    },
    {
     "data": {
      "text/plain": [
       "<AxesSubplot:ylabel='Q7B_1_1'>"
      ]
     },
     "execution_count": 63,
     "metadata": {},
     "output_type": "execute_result"
    },
    {
     "data": {
      "text/plain": [
       "<AxesSubplot:ylabel='Q7B_2_1'>"
      ]
     },
     "execution_count": 63,
     "metadata": {},
     "output_type": "execute_result"
    },
    {
     "data": {
      "text/plain": [
       "<AxesSubplot:ylabel='Q7B_3_1'>"
      ]
     },
     "execution_count": 63,
     "metadata": {},
     "output_type": "execute_result"
    },
    {
     "data": {
      "text/plain": [
       "<AxesSubplot:ylabel='Q7B_4_1'>"
      ]
     },
     "execution_count": 63,
     "metadata": {},
     "output_type": "execute_result"
    },
    {
     "data": {
      "text/plain": [
       "<AxesSubplot:ylabel='Q7B_5_1'>"
      ]
     },
     "execution_count": 63,
     "metadata": {},
     "output_type": "execute_result"
    },
    {
     "data": {
      "text/plain": [
       "<AxesSubplot:ylabel='Q7B_6_1'>"
      ]
     },
     "execution_count": 63,
     "metadata": {},
     "output_type": "execute_result"
    },
    {
     "data": {
      "text/plain": [
       "<AxesSubplot:ylabel='Q7B_7_1'>"
      ]
     },
     "execution_count": 63,
     "metadata": {},
     "output_type": "execute_result"
    },
    {
     "data": {
      "text/plain": [
       "<AxesSubplot:ylabel='Q7B_8_1'>"
      ]
     },
     "execution_count": 63,
     "metadata": {},
     "output_type": "execute_result"
    },
    {
     "data": {
      "image/png": "[encoded data removed]",
      "text/plain": [
       "<Figure size 1080x1080 with 9 Axes>"
      ]
     },
     "metadata": {
      "needs_background": "light"
     },
     "output_type": "display_data"
    }
   ],
   "source": [
    "fig, axes = plt.subplots(3, 3, figsize=(15, 15))\n",
    "k = 0\n",
    "for i in range(3):\n",
    "    for j in range(3):\n",
    "        t = free_text_plot_data[k]\n",
    "        k = k + 1\n",
    "        sns.barplot(ax=axes[i, j],x=t.index,y=t)"
   ]
  },
  {
   "cell_type": "code",
   "execution_count": 64,
   "metadata": {},
   "outputs": [],
   "source": [
    "# 7"
   ]
  },
  {
   "cell_type": "code",
   "execution_count": 65,
   "metadata": {},
   "outputs": [],
   "source": [
    "df_free_text = df[df['Language']=='EN'][text_col]\n",
    "\n",
    "f = lambda x : 'positive' if x >= 0.05 else ('neutral' if 0.05>x>-0.05 else 'negative')\n",
    "text_list = []\n",
    "\n",
    "free_text_plot_data = []\n",
    "\n",
    "for col in text_col:\n",
    "    df_text_sentiment = pd.DataFrame() \n",
    "    temp = df[['Language',col]]\n",
    "#     temp = df[['Language',col]].fillna('NULL')\n",
    "    temp = temp[temp['Language']=='EN']\n",
    "    temp.dropna(inplace=True)\n",
    "    if len(temp)!=0:\n",
    "    #     print(col,'->',len(temp))\n",
    "\n",
    "        col_len = col+'_len'\n",
    "        df_text_sentiment[col] = temp[col].apply(lambda review: f(sid.polarity_scores(review)['compound']))\n",
    "        df_text_sentiment[col_len] = temp[col].apply(lambda x: len(x))\n",
    "\n",
    "    #     df_text_sentiment.dropna(inplace=True)\n",
    "\n",
    "    #     print(col,'->',len(df_text_sentiment))\n",
    "        x = df_text_sentiment[col_len]\n",
    "\n",
    "        th = x.sum()/len(x)\n",
    "        free_text_plot_data.append(df_text_sentiment[df_text_sentiment[col_len]<=th][col].value_counts(normalize=True)*100)"
   ]
  },
  {
   "cell_type": "code",
   "execution_count": 66,
   "metadata": {},
   "outputs": [
    {
     "data": {
      "text/plain": [
       "<AxesSubplot:ylabel='Q2A'>"
      ]
     },
     "execution_count": 66,
     "metadata": {},
     "output_type": "execute_result"
    },
    {
     "data": {
      "text/plain": [
       "<AxesSubplot:ylabel='Q7B_1_1'>"
      ]
     },
     "execution_count": 66,
     "metadata": {},
     "output_type": "execute_result"
    },
    {
     "data": {
      "text/plain": [
       "<AxesSubplot:ylabel='Q7B_2_1'>"
      ]
     },
     "execution_count": 66,
     "metadata": {},
     "output_type": "execute_result"
    },
    {
     "data": {
      "text/plain": [
       "<AxesSubplot:ylabel='Q7B_3_1'>"
      ]
     },
     "execution_count": 66,
     "metadata": {},
     "output_type": "execute_result"
    },
    {
     "data": {
      "text/plain": [
       "<AxesSubplot:ylabel='Q7B_4_1'>"
      ]
     },
     "execution_count": 66,
     "metadata": {},
     "output_type": "execute_result"
    },
    {
     "data": {
      "text/plain": [
       "<AxesSubplot:ylabel='Q7B_5_1'>"
      ]
     },
     "execution_count": 66,
     "metadata": {},
     "output_type": "execute_result"
    },
    {
     "data": {
      "text/plain": [
       "<AxesSubplot:ylabel='Q7B_6_1'>"
      ]
     },
     "execution_count": 66,
     "metadata": {},
     "output_type": "execute_result"
    },
    {
     "data": {
      "text/plain": [
       "<AxesSubplot:ylabel='Q7B_7_1'>"
      ]
     },
     "execution_count": 66,
     "metadata": {},
     "output_type": "execute_result"
    },
    {
     "data": {
      "text/plain": [
       "<AxesSubplot:ylabel='Q7B_8_1'>"
      ]
     },
     "execution_count": 66,
     "metadata": {},
     "output_type": "execute_result"
    },
    {
     "data": {
      "image/png": "[encoded data removed]",
      "text/plain": [
       "<Figure size 1080x1080 with 9 Axes>"
      ]
     },
     "metadata": {
      "needs_background": "light"
     },
     "output_type": "display_data"
    }
   ],
   "source": [
    "fig, axes = plt.subplots(3, 3, figsize=(15, 15))\n",
    "k = 0\n",
    "for i in range(3):\n",
    "    for j in range(3):\n",
    "        t = free_text_plot_data[k]\n",
    "        k = k + 1\n",
    "        sns.barplot(ax=axes[i, j],x=t.index,y=t)"
   ]
  },
  {
   "cell_type": "code",
   "execution_count": null,
   "metadata": {},
   "outputs": [],
   "source": []
  },
  {
   "cell_type": "markdown",
   "metadata": {
    "id": "114bc2f0"
   },
   "source": [
    "### Questions "
   ]
  },
  {
   "cell_type": "code",
   "execution_count": null,
   "metadata": {},
   "outputs": [],
   "source": []
  },
  {
   "cell_type": "markdown",
   "metadata": {
    "id": "0ff20a40"
   },
   "source": [
    "* Data description about customer info: Wave,WaveUpdate,CSM,CMBU_CSM,EUC_CSM,VMC_CSM ,etc.\n",
    "* How to utlize the info of customer"
   ]
  }
 ],
 "metadata": {
  "colab": {
   "name": "NPS_subset_Zhilin_Li_V1.ipynb",
   "provenance": []
  },
  "kernelspec": {
   "display_name": "Python 3",
   "language": "python",
   "name": "python3"
  },
  "language_info": {
   "codemirror_mode": {
    "name": "ipython",
    "version": 3
   },
   "file_extension": ".py",
   "mimetype": "text/x-python",
   "name": "python",
   "nbconvert_exporter": "python",
   "pygments_lexer": "ipython3",
   "version": "3.8.5"
  }
 },
 "nbformat": 4,
 "nbformat_minor": 5
}
