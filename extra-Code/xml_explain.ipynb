{
 "cells": [
  {
   "cell_type": "code",
   "execution_count": 42,
   "id": "06050948",
   "metadata": {},
   "outputs": [],
   "source": [
    "import xml.etree.ElementTree as ET\n",
    "import pandas as pd"
   ]
  },
  {
   "cell_type": "code",
   "execution_count": 43,
   "id": "a2b57f09",
   "metadata": {},
   "outputs": [],
   "source": [
    "tree = ET.parse('Q7_Activity_Report(2022-07-14 00_00_51).xml')"
   ]
  },
  {
   "cell_type": "code",
   "execution_count": 44,
   "id": "4a4618b0",
   "metadata": {},
   "outputs": [],
   "source": [
    "root = tree.getroot()"
   ]
  },
  {
   "cell_type": "code",
   "execution_count": 45,
   "id": "45d31101",
   "metadata": {},
   "outputs": [
    {
     "data": {
      "text/plain": [
       "<Element '{urn:schemas-microsoft-com:office:spreadsheet}Workbook' at 0x00000237627249A0>"
      ]
     },
     "execution_count": 45,
     "metadata": {},
     "output_type": "execute_result"
    }
   ],
   "source": [
    "root"
   ]
  },
  {
   "cell_type": "code",
   "execution_count": 46,
   "id": "23579e25",
   "metadata": {},
   "outputs": [],
   "source": [
    "root = list(root)[3]"
   ]
  },
  {
   "cell_type": "code",
   "execution_count": 47,
   "id": "c80ae0fb",
   "metadata": {},
   "outputs": [
    {
     "data": {
      "text/plain": [
       "<Element '{urn:schemas-microsoft-com:office:spreadsheet}Worksheet' at 0x00000237627593B0>"
      ]
     },
     "execution_count": 47,
     "metadata": {},
     "output_type": "execute_result"
    }
   ],
   "source": [
    "root"
   ]
  },
  {
   "cell_type": "code",
   "execution_count": 48,
   "id": "1c42ab53",
   "metadata": {},
   "outputs": [],
   "source": [
    "root = list(root)[0]"
   ]
  },
  {
   "cell_type": "code",
   "execution_count": 49,
   "id": "1e5658dd",
   "metadata": {},
   "outputs": [
    {
     "data": {
      "text/plain": [
       "<Element '{urn:schemas-microsoft-com:office:spreadsheet}Table' at 0x00000237627594F0>"
      ]
     },
     "execution_count": 49,
     "metadata": {},
     "output_type": "execute_result"
    }
   ],
   "source": [
    "root"
   ]
  },
  {
   "cell_type": "code",
   "execution_count": 50,
   "id": "7ea10689",
   "metadata": {},
   "outputs": [
    {
     "name": "stdout",
     "output_type": "stream",
     "text": [
      "{urn:schemas-microsoft-com:office:spreadsheet}Column\n",
      "{urn:schemas-microsoft-com:office:spreadsheet}Column\n",
      "{urn:schemas-microsoft-com:office:spreadsheet}Column\n",
      "{urn:schemas-microsoft-com:office:spreadsheet}Column\n",
      "{urn:schemas-microsoft-com:office:spreadsheet}Column\n",
      "{urn:schemas-microsoft-com:office:spreadsheet}Column\n",
      "{urn:schemas-microsoft-com:office:spreadsheet}Column\n",
      "{urn:schemas-microsoft-com:office:spreadsheet}Column\n",
      "{urn:schemas-microsoft-com:office:spreadsheet}Column\n",
      "{urn:schemas-microsoft-com:office:spreadsheet}Column\n",
      "{urn:schemas-microsoft-com:office:spreadsheet}Column\n",
      "{urn:schemas-microsoft-com:office:spreadsheet}Column\n",
      "{urn:schemas-microsoft-com:office:spreadsheet}Row\n",
      "{urn:schemas-microsoft-com:office:spreadsheet}Row\n",
      "{urn:schemas-microsoft-com:office:spreadsheet}Row\n",
      "{urn:schemas-microsoft-com:office:spreadsheet}Row\n",
      "{urn:schemas-microsoft-com:office:spreadsheet}Row\n"
     ]
    }
   ],
   "source": [
    "for child in root:\n",
    "    print(child.tag)"
   ]
  },
  {
   "cell_type": "code",
   "execution_count": 51,
   "id": "caa4070c",
   "metadata": {},
   "outputs": [
    {
     "data": {
      "text/plain": [
       "[<Element '{urn:schemas-microsoft-com:office:spreadsheet}Column' at 0x0000023762759540>,\n",
       " <Element '{urn:schemas-microsoft-com:office:spreadsheet}Column' at 0x0000023762759590>,\n",
       " <Element '{urn:schemas-microsoft-com:office:spreadsheet}Column' at 0x00000237627595E0>,\n",
       " <Element '{urn:schemas-microsoft-com:office:spreadsheet}Column' at 0x0000023762759680>,\n",
       " <Element '{urn:schemas-microsoft-com:office:spreadsheet}Column' at 0x00000237627596D0>,\n",
       " <Element '{urn:schemas-microsoft-com:office:spreadsheet}Column' at 0x0000023762759720>,\n",
       " <Element '{urn:schemas-microsoft-com:office:spreadsheet}Column' at 0x0000023762759770>,\n",
       " <Element '{urn:schemas-microsoft-com:office:spreadsheet}Column' at 0x0000023762759810>,\n",
       " <Element '{urn:schemas-microsoft-com:office:spreadsheet}Column' at 0x0000023762759860>,\n",
       " <Element '{urn:schemas-microsoft-com:office:spreadsheet}Column' at 0x0000023762759900>,\n",
       " <Element '{urn:schemas-microsoft-com:office:spreadsheet}Column' at 0x0000023762759950>,\n",
       " <Element '{urn:schemas-microsoft-com:office:spreadsheet}Column' at 0x00000237627599F0>,\n",
       " <Element '{urn:schemas-microsoft-com:office:spreadsheet}Row' at 0x0000023762759A40>,\n",
       " <Element '{urn:schemas-microsoft-com:office:spreadsheet}Row' at 0x0000023762760360>,\n",
       " <Element '{urn:schemas-microsoft-com:office:spreadsheet}Row' at 0x00000237627604A0>,\n",
       " <Element '{urn:schemas-microsoft-com:office:spreadsheet}Row' at 0x0000023762760D10>,\n",
       " <Element '{urn:schemas-microsoft-com:office:spreadsheet}Row' at 0x0000023762761590>]"
      ]
     },
     "execution_count": 51,
     "metadata": {},
     "output_type": "execute_result"
    }
   ],
   "source": [
    "list(root)"
   ]
  },
  {
   "cell_type": "code",
   "execution_count": 52,
   "id": "d2a1534e",
   "metadata": {},
   "outputs": [],
   "source": [
    "row_data = [child for child in root if child.tag[-3:]=='Row']"
   ]
  },
  {
   "cell_type": "code",
   "execution_count": 53,
   "id": "274719ae",
   "metadata": {},
   "outputs": [
    {
     "data": {
      "text/plain": [
       "[<Element '{urn:schemas-microsoft-com:office:spreadsheet}Row' at 0x0000023762759A40>,\n",
       " <Element '{urn:schemas-microsoft-com:office:spreadsheet}Row' at 0x0000023762760360>,\n",
       " <Element '{urn:schemas-microsoft-com:office:spreadsheet}Row' at 0x00000237627604A0>,\n",
       " <Element '{urn:schemas-microsoft-com:office:spreadsheet}Row' at 0x0000023762760D10>,\n",
       " <Element '{urn:schemas-microsoft-com:office:spreadsheet}Row' at 0x0000023762761590>]"
      ]
     },
     "execution_count": 53,
     "metadata": {},
     "output_type": "execute_result"
    }
   ],
   "source": [
    "row_data"
   ]
  },
  {
   "cell_type": "code",
   "execution_count": 54,
   "id": "0a78709a",
   "metadata": {},
   "outputs": [
    {
     "name": "stdout",
     "output_type": "stream",
     "text": [
      "Employee Number\n",
      "Last Name\n",
      "First Name\n",
      "Card Number\n",
      "Workgroup\n",
      "Date Occurred\n",
      "Earliest Access Time\n",
      "Earliest Access Point\n",
      "Latest Access Time\n",
      "Latest Access Point\n"
     ]
    }
   ],
   "source": [
    "for cell in row_data[0]:\n",
    "    for data in cell:\n",
    "        if data.text:\n",
    "            print(data.text)"
   ]
  },
  {
   "cell_type": "code",
   "execution_count": 55,
   "id": "573d5490",
   "metadata": {},
   "outputs": [
    {
     "data": {
      "text/plain": [
       "<Element '{urn:schemas-microsoft-com:office:spreadsheet}Row' at 0x0000023762760360>"
      ]
     },
     "execution_count": 55,
     "metadata": {},
     "output_type": "execute_result"
    }
   ],
   "source": [
    "row_data[1]"
   ]
  },
  {
   "cell_type": "code",
   "execution_count": 71,
   "id": "3004486f",
   "metadata": {},
   "outputs": [
    {
     "data": {
      "text/plain": [
       "[]"
      ]
     },
     "execution_count": 71,
     "metadata": {},
     "output_type": "execute_result"
    }
   ],
   "source": [
    "list(list(row_data[2])[0])"
   ]
  },
  {
   "cell_type": "code",
   "execution_count": 64,
   "id": "4e72ff31",
   "metadata": {},
   "outputs": [
    {
     "data": {
      "text/plain": [
       "[<Element '{urn:schemas-microsoft-com:office:spreadsheet}Data' at 0x0000023762760720>]"
      ]
     },
     "execution_count": 64,
     "metadata": {},
     "output_type": "execute_result"
    }
   ],
   "source": [
    "list(list(row_data[2])[4])"
   ]
  },
  {
   "cell_type": "code",
   "execution_count": 69,
   "id": "69a5bf47",
   "metadata": {},
   "outputs": [],
   "source": [
    "list(list(row_data[3])[2])[0].text"
   ]
  },
  {
   "cell_type": "code",
   "execution_count": null,
   "id": "ba2e3fbe",
   "metadata": {},
   "outputs": [],
   "source": []
  },
  {
   "cell_type": "code",
   "execution_count": 56,
   "id": "d8c0ce34",
   "metadata": {},
   "outputs": [
    {
     "name": "stdout",
     "output_type": "stream",
     "text": [
      "Z000CNMN\n",
      "Estrada\n",
      "Esther\n",
      "2972549175\n",
      "Siemens Corp. Consultant\n",
      "2022-07-13T00:00:00.000\n",
      "06:02:33\n",
      "OQ7 PayRoll Permer\n",
      "15:53:40\n",
      "OQ7 S/R Mailroom ext\n"
     ]
    }
   ],
   "source": [
    "for cell in row_data[2]:\n",
    "    for data in cell:\n",
    "        if data.text:\n",
    "            print(data.text)"
   ]
  },
  {
   "cell_type": "code",
   "execution_count": 75,
   "id": "666c0582",
   "metadata": {},
   "outputs": [],
   "source": [
    "if list(list(row_data[2])[1]):\n",
    "    print('jj')"
   ]
  },
  {
   "cell_type": "code",
   "execution_count": 80,
   "id": "a5f060be",
   "metadata": {},
   "outputs": [
    {
     "data": {
      "text/plain": [
       "[<Element '{urn:schemas-microsoft-com:office:spreadsheet}Data' at 0x0000023762760E50>]"
      ]
     },
     "execution_count": 80,
     "metadata": {},
     "output_type": "execute_result"
    }
   ],
   "source": [
    "list(list(row_data[3])[2])"
   ]
  },
  {
   "cell_type": "code",
   "execution_count": null,
   "id": "e410dfdb",
   "metadata": {},
   "outputs": [],
   "source": []
  },
  {
   "cell_type": "code",
   "execution_count": null,
   "id": "782404c0",
   "metadata": {},
   "outputs": [],
   "source": []
  },
  {
   "cell_type": "code",
   "execution_count": 83,
   "id": "c61c3d6e",
   "metadata": {},
   "outputs": [
    {
     "name": "stdout",
     "output_type": "stream",
     "text": [
      "None\n",
      "Beumer\n",
      "Edith\n",
      "2737648878\n",
      "Siemens Corp.\n",
      "2022-07-13T00:00:00.000\n",
      "06:46:48\n",
      "OQ7 MAIN ENTRY 1\n",
      "12:41:59\n",
      "OQ7 File Room Patio Door\n"
     ]
    }
   ],
   "source": [
    "\n",
    "for cell in row_data[3]:\n",
    "    if len(list(cell))!=0:\n",
    "        for data in cell:\n",
    "            print(data.text)"
   ]
  },
  {
   "cell_type": "code",
   "execution_count": 58,
   "id": "4e8506e0",
   "metadata": {},
   "outputs": [
    {
     "name": "stdout",
     "output_type": "stream",
     "text": [
      "Z002WD6T\n",
      "Irizarry\n",
      "Sandra\n",
      "1975039190\n",
      "Siemens Corp.\n",
      "2022-07-13T00:00:00.000\n",
      "07:12:31\n",
      "OQ7 MAIN ENTRY 1\n",
      "07:33:18\n",
      "OQ7 MAIN LOBBY\n"
     ]
    }
   ],
   "source": [
    "for cell in row_data[4]:\n",
    "    for data in cell:\n",
    "        if data.text:\n",
    "            print(data.text)"
   ]
  },
  {
   "cell_type": "code",
   "execution_count": null,
   "id": "09b34305",
   "metadata": {},
   "outputs": [],
   "source": []
  }
 ],
 "metadata": {
  "kernelspec": {
   "display_name": "Python 3 (ipykernel)",
   "language": "python",
   "name": "python3"
  },
  "language_info": {
   "codemirror_mode": {
    "name": "ipython",
    "version": 3
   },
   "file_extension": ".py",
   "mimetype": "text/x-python",
   "name": "python",
   "nbconvert_exporter": "python",
   "pygments_lexer": "ipython3",
   "version": "3.9.12"
  }
 },
 "nbformat": 4,
 "nbformat_minor": 5
}
