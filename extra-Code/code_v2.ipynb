{
 "cells": [
  {
   "cell_type": "code",
   "execution_count": 7,
   "id": "23c7d237",
   "metadata": {},
   "outputs": [
    {
     "name": "stdout",
     "output_type": "stream",
     "text": [
      "412325\n"
     ]
    }
   ],
   "source": [
    "import pandas as pd\n",
    "import numpy as np\n",
    "from datetime import datetime\n",
    "pd.options.mode.chained_assignment = None  # default='warn'\n",
    "df = pd.read_csv('E:\\OneDrive - NITT\\Custom_Download\\monthly_volume_0611.csv')\n",
    "print(len(df.index))\n",
    "\n",
    "#cleaning\n",
    "df.drop(df[df['distributor_name'] == \"TestWD\"].index, inplace = True)\n",
    "df.drop(df[df['customer_name'] == \"Bankers Hill Food\"].index, inplace = True)\n",
    "df.drop(df[df['customer_name'] == \"Shahi Feed\"].index, inplace = True)\n",
    "len(df.index)\n",
    "\n",
    "df.customer_name=df['customer_name'].str.strip()\n",
    "df.distributor_name=df['distributor_name'].str.strip()\n",
    "df.loc[df.ticket_id==\"ID-1648\",\"scheduled_date\"]=\"2020-09-18\"\n",
    "df['datef']=df['scheduled_date'].apply(str)\n",
    "df['datef']=df['scheduled_date'].str[:7]\n",
    "df['datef']=df['datef'].apply(str)\n",
    "\n",
    "#Rename\n",
    "df.loc[(df.distributor_name == \"Ghaziabad Warehouse\") & (df.customer_name == \"ITC Ltd.\") , 'customer_name'] = \"ITC DEL WH Ghaziabad\"\n",
    "df.loc[(df.distributor_name == \"Hamidpur Warehouse\") & (df.customer_name == \"ITC Ltd.\") , 'customer_name'] = \"ITC DEL WH Hamidpur\"\n",
    "df.loc[(df.distributor_name == \"Hassangarh Warehouse\") & (df.customer_name == \"ITC Ltd.\") , 'customer_name'] = \"ITC DEL WH Hassangarh\"\n",
    "df.loc[(df.distributor_name == \"Hassangarh Warehouse\") & (df.customer_name == \"ITC Ltd. Haryana\") , 'customer_name'] = \"ITC DEL WH Hassangarh\"\n",
    "df.loc[(df.distributor_name == \"MJ Warehousing Pvt Ltd\") & (df.customer_name == \"ITC Ltd. Haryana\") , 'customer_name'] = \"ITC DEL WH Jhundpur\"\n",
    "df.loc[(df.distributor_name == \"MJ Warehousing Pvt Ltd\") & (df.customer_name == \"ITC Ltd.\") , 'customer_name'] = \"ITC DEL WH Jhundpur\"\n",
    "df.loc[(df.customer_name == \"ITC Ltd. FBD\") , 'customer_name'] = \"ITC DEL WH Jhundpur\"\n",
    "df.loc[(df.distributor_name == \"Sourcewell Agro Foods Pvt Ltd\") & (df.customer_name == \"ITC Ltd.\") , 'customer_name'] = \"ITC FBD Sourcewell\"\n",
    "df.loc[(df.distributor_name == \"01 Sourcewell Agro Foods Pvt Ltd\") & (df.customer_name == \"ITC Ltd.\") , 'customer_name'] = \"ITC FBD Sourcewell\"\n",
    "df.loc[(df.distributor_name == \"Ambarnath Warehouse\") & (df.customer_name == \"ITC Ltd. Mumbai\") , 'customer_name'] = \"ITC MUM WH Ambernath\"\n",
    "df.loc[(df.distributor_name == \"ITC Ray Road Warehouse\") & (df.customer_name == \"ITC Ltd. Mumbai\") , 'customer_name'] = \"ITC MUM WH Ray Road\"\n",
    "df.loc[(df.distributor_name == \"Narela Warehouse\") & (df.customer_name == \"ITC Ltd.\") , 'customer_name'] = \"ITC DEL WH Narela\"\n",
    "df.loc[(df.distributor_name == \"Lucknow Warehouse\") & (df.customer_name == \"ITC Ltd. Lucknow\") , 'customer_name'] = \"ITC UP WH Lucknow\"\n",
    "df.loc[(df.distributor_name == \"Varanasi Warehouse\") & (df.customer_name == \"ITC Ltd. Lucknow\") , 'customer_name'] = \"ITC UP WH Varanasi\"\n",
    "df.loc[(df.distributor_name == \"Kanpur Warehouse\") & (df.customer_name == \"ITC Ltd. Lucknow\") , 'customer_name'] = \"ITC UP WH Kanpur\"\n",
    "df.loc[(df.distributor_name == \"Bengaluru Warehouse\") & (df.customer_name == \"Veeba Food Services Pvt Ltd. Bangalore\") , 'customer_name'] = \"Veeba Food Services Bangalore WH\"\n",
    "df.loc[(df.distributor_name == \"Keshwana Warehouse\") & (df.customer_name == \"Veeba Food Services Pvt Ltd. Rajasthan\") , 'customer_name'] = \"Veeba Food Services DEL WH Keshwana\"\n",
    "df.loc[(df.distributor_name == \"Neemrana Warehouse\") & (df.customer_name == \"Veeba Food Services Pvt Ltd. Rajasthan\") , 'customer_name'] = \"Veeba Food Services DEL WH Neemarana\"\n",
    "df.loc[(df.distributor_name == \"Tikri Warehouse\") & (df.customer_name == \"Veeba Food Services Pvt Ltd\") , 'customer_name'] = \"Veeba Food Services DEL WH Tikri\"\n",
    "df.loc[(df.customer_name == \"General Mills India Pvt Ltd. Mumbai\") , 'customer_name'] = \"General Mills India Maharashtra\"\n",
    "df.loc[(df.customer_name == \"General Mills India Pvt Ltd. Bangalore\") , 'customer_name'] = \"General Mills India Karnataka\"\n",
    "df.loc[(df.customer_name == \"General Mills India Pvt Ltd. Tamilnadu\") , 'customer_name'] = \"General Mills India Tamil Nadu\"\n",
    "df.loc[(df.customer_name == \"General Mills India Pvt Ltd.\") , 'customer_name'] = \"General Mills India Delhi\"\n",
    "df.loc[(df.customer_name == \"General Mills India Pvt Ltd. Punjab\") , 'customer_name'] = \"General Mills India Punjab\"\n",
    "df.loc[(df.customer_name == \"General Mills India Pvt Ltd. Lucknow\") , 'customer_name'] = \"General Mills India Uttar Pradesh\"\n",
    "df.loc[(df.customer_name == \"General Mills India Pvt Ltd. West Bengal\") , 'customer_name'] = \"General Mills India West Bengal\"\n",
    "df.loc[(df.customer_name == \"General Mills India Pvt Ltd. Telangana\") , 'customer_name'] = \"General Mills India Telangana\"\n",
    "df.loc[(df.customer_name == \"Unibic Foods India Pvt. Ltd. Mumbai\") & (df.distributor_name == \"Unibic Foods India Pvt. Ltd\") , 'customer_name'] = \"Unibic Foods India Mumbai\"\n",
    "df.loc[(df.customer_name == \"Unibic Foods India Pvt. Ltd. Mumbai\") & (df.city == \"Mumbai\") , 'customer_name'] = \"Unibic Foods India Mumbai\"\n",
    "df.loc[(df.customer_name == \"Unibic Foods India Pvt. Ltd. Mumbai\") , 'customer_name'] = \"Unibic Foods India Rest of Maharashtra\"\n",
    "df.loc[(df.customer_name == \"Unibic Foods India Pvt. Ltd.\") & (df.distributor_name == \"Unibic Foods India Pvt. Ltd\") , 'customer_name'] = \"Unibic Foods India Delhi\"\n",
    "df.loc[(df.customer_name == \"Unibic Foods India Pvt. Ltd. Madhya Pradesh\") & (df.distributor_name == \"Unibic Foods India Pvt. Ltd\") , 'customer_name'] = \"Unibic Foods India Madhya Pradesh\"\n",
    "df.loc[(df.customer_name == \"Unibic Foods India Pvt. Ltd. Gujrat\") & (df.distributor_name == \"Unibic Foods India Pvt. Ltd\") , 'customer_name'] = \"Unibic Foods India Gujarat\"\n",
    "df.loc[(df.customer_name == \"Unibic Foods India Pvt. Ltd. Punjab\") & (df.distributor_name == \"Unibic Foods India Pvt. Ltd\"), 'customer_name'] = \"Unibic Foods India Punjab\"\n",
    "df.loc[(df.customer_name == \"Unibic Foods India Pvt. Ltd. Bangalore\") & (df.distributor_name == \"Unibic Foods India Pvt. Ltd\"), 'customer_name'] = \"Unibic Foods India Karnataka\"\n",
    "df.loc[(df.customer_name == \"Unibic Foods India Pvt. Ltd. Andhra Pradesh\") & (df.distributor_name == \"Unibic Foods India Pvt. Ltd\"), 'customer_name'] = \"Unibic Foods India Andhara\"\n",
    "df.loc[(df.customer_name == \"Unibic Foods India Pvt. Ltd. Telangana\") & (df.distributor_name == \"Unibic Hyderabad CFA\"), 'customer_name'] = \"Unibic Foods India Telangana\"\n",
    "df.loc[(df.customer_name == \"Unibic Foods India Pvt. Ltd.\") , 'customer_name'] = \"Unibic Foods India Delhi\"\n",
    "df.loc[(df.customer_name == \"Unibic Foods India Pvt. Ltd. Madhya Pradesh\") , 'customer_name'] = \"Unibic Foods India Madhya Pradesh\"\n",
    "df.loc[(df.customer_name == \"Unibic Foods India Pvt. Ltd. Gujrat\")  , 'customer_name'] = \"Unibic Foods India Gujarat\"\n",
    "df.loc[(df.customer_name == \"Unibic Foods India Pvt. Ltd. Punjab\") , 'customer_name'] = \"Unibic Foods India Punjab\"\n",
    "df.loc[(df.customer_name == \"Unibic Foods India Pvt. Ltd. Bangalore\") , 'customer_name'] = \"Unibic Foods India Karnataka \"\n",
    "df.loc[(df.customer_name == \"Unibic Foods India Pvt. Ltd. Andhra Pradesh\") , 'customer_name'] = \"Unibic Foods India Andhara\"\n",
    "df.loc[(df.customer_name == \"Unibic Foods India Pvt. Ltd. Goa\") , 'customer_name'] = \"Unibic Foods India Goa\"\n",
    "df.loc[ (df.customer_name == \"ITC Ltd.\") , 'customer_name'] = \"ITC DEL Distributors\"\n",
    "df.loc[ (df.customer_name == \"ITC Ltd. Mumbai\") , 'customer_name'] = \"ITC Mumbai Distributors\"\n",
    "df.loc[ (df.customer_name == \"ITC Ltd. Lucknow\") , 'customer_name'] = \"ITC Uttar Pradesh Distributors\"\n",
    "df.loc[ (df.customer_name == \"ITC Ltd. Haryana\") , 'customer_name'] = \"ITC Panchkula\"\n",
    "df.loc[ (df.customer_name == \"ITC Ltd. Panchkula\") , 'customer_name'] = \"ITC Panchkula\"\n",
    "df.loc[(df.customer_name == \"Veeba Food Services Pvt Ltd\") , 'customer_name'] = \"Veeba Food Services DEL Distributors\"\n",
    "df.loc[(df.customer_name == \"Veeba Food Services Pvt Ltd. Mumbai\") , 'customer_name'] = \"Veeba Food Services Maharashtra Distributors\"\n",
    "df.loc[(df.customer_name == \"Veeba Food Services Pvt Ltd. Lucknow\") , 'customer_name'] = \"Veeba Food Services Uttar Pradesh Distributors\"\n",
    "df.loc[(df.customer_name == \"Veeba Food Services Pvt Ltd. Bangalore\") , 'customer_name'] = \"Veeba Food Services Karnataka Distributors\"\n",
    "df.loc[(df.customer_name == \"Tata Consumer Products Ltd. Jharkhand\") , 'customer_name'] = \"Tata Consumer Products Jharkhand\"\n",
    "df.loc[(df.customer_name == \"Tata Consumer Products Ltd. Bihar\") , 'customer_name'] = \"Tata Consumer Products Bihar\"\n",
    "df.loc[(df.customer_name == \"Tata Consumer Products Ltd. Uttar Pradesh\") , 'customer_name'] = \"Tata Consumer Products Uttar Pradesh\"\n",
    "df.loc[(df.customer_name == \"Tata Consumer Products Ltd. Karnataka\") , 'customer_name'] = \"Tata Consumer Products Karnataka\"\n",
    "df.loc[(df.customer_name == \"Tata Consumer Products Ltd. Bangalore\") , 'customer_name'] = \"Tata Consumer Products Karnataka\"\n",
    "df.loc[(df.customer_name == \"Tata Consumer Products Ltd. Gujarat\") , 'customer_name'] = \"Tata Consumer Products Gujarat\"\n",
    "df.loc[(df.customer_name == \"Tata Consumer Products Ltd. Telangana\") , 'customer_name'] = \"Tata Consumer Products Telangana\"\n",
    "df.loc[(df.customer_name == \"Tata Consumer Products Ltd. West Bengal\") , 'customer_name'] = \"Tata Consumer Products West Bengal\"\n",
    "df.loc[(df.customer_name == \"Tata Consumer Products Ltd. Madhya Pradesh\") , 'customer_name'] = \"Tata Consumer Products Madhya Pradesh\"\n",
    "df.loc[(df.customer_name == \"Vishv Foods and Beverages LLP\") , 'customer_name'] = \"Vishv Foods and Beverages (Snackry)\"\n",
    "\n",
    "#filter supplier\n",
    "# new_df=df[df['customer_name'].str.contains('Tata Consumer Products Mad')]\n",
    "# new_df['scheduled_date'] = new_df['scheduled_date'].apply(lambda x: pd.to_datetime(x).strftime('%d/%m/%Y'))\n",
    "# new_df['scheduled_date']=pd.to_datetime(new_df['scheduled_date'], format='%d/%m/%Y')\n",
    "# new_df['scheduled_date']=(pd.to_datetime(new_df['scheduled_date']) - pd.datetime(1899, 12, 30)) / pd.to_timedelta(1, unit='D')"
   ]
  },
  {
   "cell_type": "code",
   "execution_count": null,
   "id": "7a4a1346",
   "metadata": {},
   "outputs": [],
   "source": [
    "df.loc[(df.customer_name == \"Tata Consumer Products Ltd. Assam\") , 'customer_name'] = \"Tata Consumer Products\""
   ]
  },
  {
   "cell_type": "code",
   "execution_count": null,
   "id": "6658732f",
   "metadata": {},
   "outputs": [],
   "source": []
  },
  {
   "cell_type": "code",
   "execution_count": 9,
   "id": "8c6e6e22",
   "metadata": {},
   "outputs": [
    {
     "data": {
      "text/plain": [
       "0          ITC\n",
       "1          ITC\n",
       "2          ITC\n",
       "3          ITC\n",
       "4          ITC\n",
       "          ... \n",
       "412320    Tata\n",
       "412321    Tata\n",
       "412322    Tata\n",
       "412323    Tata\n",
       "412324    Tata\n",
       "Name: customer_name, Length: 412052, dtype: object"
      ]
     },
     "execution_count": 9,
     "metadata": {},
     "output_type": "execute_result"
    }
   ],
   "source": [
    "df['customer_name'].apply(lambda x: x.split()[0])"
   ]
  },
  {
   "cell_type": "code",
   "execution_count": null,
   "id": "3c2120b5",
   "metadata": {},
   "outputs": [],
   "source": []
  },
  {
   "cell_type": "code",
   "execution_count": 2,
   "id": "8daab59c",
   "metadata": {},
   "outputs": [],
   "source": [
    "import calendar\n",
    "df['scheduled_date'] =  pd.to_datetime(df['scheduled_date'])\n",
    "df['Month'] = df['scheduled_date'].dt.month\n",
    "df['Year'] = df['scheduled_date'].dt.year\n",
    "df['Month'] = df['Month'].apply(lambda x: calendar.month_abbr[x])"
   ]
  },
  {
   "cell_type": "code",
   "execution_count": 3,
   "id": "5999f3ff",
   "metadata": {},
   "outputs": [],
   "source": [
    "def get_data(companies,year,month,th):\n",
    "    try:\n",
    "        df_custom = df[(df['customer_name'].isin(companies)) & (df['Year']==year) & (df['Month']==month)]\n",
    "        total_wt = sum(df_custom['item_weight'])\n",
    "        x = round(df_custom[['item_name','item_weight']].groupby('item_name').sum()*100/total_wt,3)\n",
    "        x.reset_index(inplace=True)\n",
    "        y = df_custom[['distributor_name','item_weight']].groupby('distributor_name').sum()\n",
    "        y.reset_index(inplace=True)\n",
    "        y = y.sort_values('item_weight',ascending=False)[:5]\n",
    "        y.columns = ['distributor_name','Item_Weight']\n",
    "        fw = total_wt*(100-th)/100\n",
    "        df1 = pd.DataFrame({'Total_Item_weights':[total_wt],'Packaging_%val_item_wt':[th],\n",
    "                            'Food_Weight':[fw],'Non_Food_Weight':[total_wt*th/100],'No of pickups':[df_custom['ticket_id'].nunique()],\n",
    "                           'Unique location': [df_custom['distributors_code'].nunique()] })\n",
    "        df2 = pd.concat([df1,x,y], ignore_index=True)\n",
    "        \n",
    "        writer = pd.ExcelWriter(f'{companies[0].split()[0]+month+str(year)}.xlsx', engine='xlsxwriter')\n",
    "\n",
    "        # Write each dataframe to a different worksheet. you could write different string like above if you want\n",
    "        df2.to_excel(writer, sheet_name='processed',startcol=1,index=False)\n",
    "        df_custom.to_excel(writer, sheet_name='raw',startcol=2,index=False)\n",
    "        writer.save()\n",
    "    except:\n",
    "        return 'Wrong parameters'"
   ]
  },
  {
   "cell_type": "code",
   "execution_count": 4,
   "id": "b3b3a54f",
   "metadata": {},
   "outputs": [
    {
     "data": {
      "text/plain": [
       "ITC DEL Distributors                        113955\n",
       "ITC Uttar Pradesh Distributors               60078\n",
       "ITC Panchkula                                32183\n",
       "ITC DEL WH Jhundpur                          28524\n",
       "Jubilant FoodWorks Limited                   26598\n",
       "                                             ...  \n",
       "Seeta Enterprises                                3\n",
       "Crimsonwave Private Limited                      2\n",
       "Kailash Agro Private Limited NCR                 1\n",
       "Unibic Foods India Pvt. Ltd. West Bengal         1\n",
       "Janvi and Company                                1\n",
       "Name: customer_name, Length: 103, dtype: int64"
      ]
     },
     "execution_count": 4,
     "metadata": {},
     "output_type": "execute_result"
    }
   ],
   "source": [
    "df['customer_name'].value_counts()"
   ]
  },
  {
   "cell_type": "code",
   "execution_count": 5,
   "id": "fed58d5a",
   "metadata": {},
   "outputs": [],
   "source": [
    "get_data(['ITC DEL Distributors'],2022,'May',10)"
   ]
  },
  {
   "cell_type": "code",
   "execution_count": 6,
   "id": "d0ef06d0",
   "metadata": {},
   "outputs": [],
   "source": [
    "get_data(['ITC DEL Distributors','ITC Uttar Pradesh Distributors'],2022,'May',10)"
   ]
  }
 ],
 "metadata": {
  "kernelspec": {
   "display_name": "Python 3 (ipykernel)",
   "language": "python",
   "name": "python3"
  },
  "language_info": {
   "codemirror_mode": {
    "name": "ipython",
    "version": 3
   },
   "file_extension": ".py",
   "mimetype": "text/x-python",
   "name": "python",
   "nbconvert_exporter": "python",
   "pygments_lexer": "ipython3",
   "version": "3.8.5"
  }
 },
 "nbformat": 4,
 "nbformat_minor": 5
}
