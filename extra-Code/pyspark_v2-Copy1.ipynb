{
 "cells": [
  {
   "cell_type": "code",
   "execution_count": 43,
   "id": "0b5f1fc0",
   "metadata": {},
   "outputs": [],
   "source": [
    "from pyspark.sql import SparkSession\n",
    "from pyspark.ml.feature import StringIndexer, IndexToString, RFormula,VectorSlicer\n",
    "from pyspark.ml.classification import LogisticRegression\n",
    "from pyspark.ml.evaluation import MulticlassClassificationEvaluator\n",
    "from pyspark.ml import Pipeline, Model\n",
    "import seaborn as sns\n",
    "import warnings\n",
    "warnings.filterwarnings('ignore')"
   ]
  },
  {
   "cell_type": "code",
   "execution_count": 2,
   "id": "397fd632",
   "metadata": {},
   "outputs": [],
   "source": [
    "spark = SparkSession.builder.appName('logregconsult').getOrCreate()"
   ]
  },
  {
   "cell_type": "code",
   "execution_count": 3,
   "id": "bd5dc79f",
   "metadata": {},
   "outputs": [],
   "source": [
    "# File location and type\n",
    "file_location = \"Telco-Customer-Churn.csv\"\n",
    "file_type = \"csv\"\n",
    "\n",
    "# CSV options\n",
    "infer_schema = \"true\"\n",
    "first_row_is_header = \"true\"\n",
    "delimiter = \",\"\n",
    "\n",
    "data = spark.read.format(file_type) \\\n",
    "  .option(\"inferSchema\", infer_schema) \\\n",
    "  .option(\"header\", first_row_is_header) \\\n",
    "  .option(\"sep\", delimiter) \\\n",
    "  .option('nanValue', ' ')\\\n",
    "  .option('nullValue', ' ')\\\n",
    "  .load(file_location)"
   ]
  },
  {
   "cell_type": "code",
   "execution_count": 4,
   "id": "ff6f9d10",
   "metadata": {},
   "outputs": [],
   "source": [
    "imp_col = ['customerID',\n",
    " 'gender',\n",
    " 'SeniorCitizen',\n",
    "#  'Partner',\n",
    " 'Dependents',\n",
    " 'tenure',\n",
    " 'PhoneService',\n",
    " 'MultipleLines',\n",
    "#  'InternetService',\n",
    "#  'OnlineSecurity',\n",
    " 'OnlineBackup',\n",
    " 'DeviceProtection',\n",
    " 'TechSupport',\n",
    "#  'StreamingTV',\n",
    " 'StreamingMovies',\n",
    " 'Contract',\n",
    " 'PaperlessBilling',\n",
    " 'PaymentMethod',\n",
    "#  'MonthlyCharges',\n",
    " 'TotalCharges',\n",
    " 'Churn']"
   ]
  },
  {
   "cell_type": "code",
   "execution_count": 5,
   "id": "081c1379",
   "metadata": {},
   "outputs": [],
   "source": [
    "data = data.select(imp_col)"
   ]
  },
  {
   "cell_type": "code",
   "execution_count": 6,
   "id": "d2c5a4c3",
   "metadata": {},
   "outputs": [],
   "source": [
    "data.toPandas().to_csv('Churn_modified.csv')"
   ]
  },
  {
   "cell_type": "code",
   "execution_count": 7,
   "id": "873a3137",
   "metadata": {},
   "outputs": [
    {
     "data": {
      "text/plain": [
       "[('customerID', 'string'),\n",
       " ('gender', 'string'),\n",
       " ('SeniorCitizen', 'int'),\n",
       " ('Dependents', 'string'),\n",
       " ('tenure', 'int'),\n",
       " ('PhoneService', 'string'),\n",
       " ('MultipleLines', 'string'),\n",
       " ('OnlineBackup', 'string'),\n",
       " ('DeviceProtection', 'string'),\n",
       " ('TechSupport', 'string'),\n",
       " ('StreamingMovies', 'string'),\n",
       " ('Contract', 'string'),\n",
       " ('PaperlessBilling', 'string'),\n",
       " ('PaymentMethod', 'string'),\n",
       " ('TotalCharges', 'double'),\n",
       " ('Churn', 'string')]"
      ]
     },
     "execution_count": 7,
     "metadata": {},
     "output_type": "execute_result"
    }
   ],
   "source": [
    "data.dtypes"
   ]
  },
  {
   "cell_type": "code",
   "execution_count": 8,
   "id": "939dadca",
   "metadata": {},
   "outputs": [
    {
     "data": {
      "text/html": [
       "<div>\n",
       "<style scoped>\n",
       "    .dataframe tbody tr th:only-of-type {\n",
       "        vertical-align: middle;\n",
       "    }\n",
       "\n",
       "    .dataframe tbody tr th {\n",
       "        vertical-align: top;\n",
       "    }\n",
       "\n",
       "    .dataframe thead th {\n",
       "        text-align: right;\n",
       "    }\n",
       "</style>\n",
       "<table border=\"1\" class=\"dataframe\">\n",
       "  <thead>\n",
       "    <tr style=\"text-align: right;\">\n",
       "      <th></th>\n",
       "      <th>customerID</th>\n",
       "      <th>gender</th>\n",
       "      <th>SeniorCitizen</th>\n",
       "      <th>Dependents</th>\n",
       "      <th>tenure</th>\n",
       "      <th>PhoneService</th>\n",
       "      <th>MultipleLines</th>\n",
       "      <th>OnlineBackup</th>\n",
       "      <th>DeviceProtection</th>\n",
       "      <th>TechSupport</th>\n",
       "      <th>StreamingMovies</th>\n",
       "      <th>Contract</th>\n",
       "      <th>PaperlessBilling</th>\n",
       "      <th>PaymentMethod</th>\n",
       "      <th>TotalCharges</th>\n",
       "      <th>Churn</th>\n",
       "    </tr>\n",
       "  </thead>\n",
       "  <tbody>\n",
       "    <tr>\n",
       "      <th>0</th>\n",
       "      <td>7590-VHVEG</td>\n",
       "      <td>Female</td>\n",
       "      <td>0</td>\n",
       "      <td>No</td>\n",
       "      <td>1</td>\n",
       "      <td>No</td>\n",
       "      <td>No phone service</td>\n",
       "      <td>Yes</td>\n",
       "      <td>No</td>\n",
       "      <td>No</td>\n",
       "      <td>No</td>\n",
       "      <td>Month-to-month</td>\n",
       "      <td>Yes</td>\n",
       "      <td>Electronic check</td>\n",
       "      <td>29.85</td>\n",
       "      <td>No</td>\n",
       "    </tr>\n",
       "    <tr>\n",
       "      <th>1</th>\n",
       "      <td>5575-GNVDE</td>\n",
       "      <td>Male</td>\n",
       "      <td>0</td>\n",
       "      <td>No</td>\n",
       "      <td>34</td>\n",
       "      <td>Yes</td>\n",
       "      <td>No</td>\n",
       "      <td>No</td>\n",
       "      <td>Yes</td>\n",
       "      <td>No</td>\n",
       "      <td>No</td>\n",
       "      <td>One year</td>\n",
       "      <td>No</td>\n",
       "      <td>Mailed check</td>\n",
       "      <td>1889.50</td>\n",
       "      <td>No</td>\n",
       "    </tr>\n",
       "    <tr>\n",
       "      <th>2</th>\n",
       "      <td>3668-QPYBK</td>\n",
       "      <td>Male</td>\n",
       "      <td>0</td>\n",
       "      <td>No</td>\n",
       "      <td>2</td>\n",
       "      <td>Yes</td>\n",
       "      <td>No</td>\n",
       "      <td>Yes</td>\n",
       "      <td>No</td>\n",
       "      <td>No</td>\n",
       "      <td>No</td>\n",
       "      <td>Month-to-month</td>\n",
       "      <td>Yes</td>\n",
       "      <td>Mailed check</td>\n",
       "      <td>108.15</td>\n",
       "      <td>Yes</td>\n",
       "    </tr>\n",
       "    <tr>\n",
       "      <th>3</th>\n",
       "      <td>7795-CFOCW</td>\n",
       "      <td>Male</td>\n",
       "      <td>0</td>\n",
       "      <td>No</td>\n",
       "      <td>45</td>\n",
       "      <td>No</td>\n",
       "      <td>No phone service</td>\n",
       "      <td>No</td>\n",
       "      <td>Yes</td>\n",
       "      <td>Yes</td>\n",
       "      <td>No</td>\n",
       "      <td>One year</td>\n",
       "      <td>No</td>\n",
       "      <td>Bank transfer (automatic)</td>\n",
       "      <td>1840.75</td>\n",
       "      <td>No</td>\n",
       "    </tr>\n",
       "    <tr>\n",
       "      <th>4</th>\n",
       "      <td>9237-HQITU</td>\n",
       "      <td>Female</td>\n",
       "      <td>0</td>\n",
       "      <td>No</td>\n",
       "      <td>2</td>\n",
       "      <td>Yes</td>\n",
       "      <td>No</td>\n",
       "      <td>No</td>\n",
       "      <td>No</td>\n",
       "      <td>No</td>\n",
       "      <td>No</td>\n",
       "      <td>Month-to-month</td>\n",
       "      <td>Yes</td>\n",
       "      <td>Electronic check</td>\n",
       "      <td>151.65</td>\n",
       "      <td>Yes</td>\n",
       "    </tr>\n",
       "  </tbody>\n",
       "</table>\n",
       "</div>"
      ],
      "text/plain": [
       "   customerID  gender  SeniorCitizen Dependents  tenure PhoneService  \\\n",
       "0  7590-VHVEG  Female              0         No       1           No   \n",
       "1  5575-GNVDE    Male              0         No      34          Yes   \n",
       "2  3668-QPYBK    Male              0         No       2          Yes   \n",
       "3  7795-CFOCW    Male              0         No      45           No   \n",
       "4  9237-HQITU  Female              0         No       2          Yes   \n",
       "\n",
       "      MultipleLines OnlineBackup DeviceProtection TechSupport StreamingMovies  \\\n",
       "0  No phone service          Yes               No          No              No   \n",
       "1                No           No              Yes          No              No   \n",
       "2                No          Yes               No          No              No   \n",
       "3  No phone service           No              Yes         Yes              No   \n",
       "4                No           No               No          No              No   \n",
       "\n",
       "         Contract PaperlessBilling              PaymentMethod  TotalCharges  \\\n",
       "0  Month-to-month              Yes           Electronic check         29.85   \n",
       "1        One year               No               Mailed check       1889.50   \n",
       "2  Month-to-month              Yes               Mailed check        108.15   \n",
       "3        One year               No  Bank transfer (automatic)       1840.75   \n",
       "4  Month-to-month              Yes           Electronic check        151.65   \n",
       "\n",
       "  Churn  \n",
       "0    No  \n",
       "1    No  \n",
       "2   Yes  \n",
       "3    No  \n",
       "4   Yes  "
      ]
     },
     "execution_count": 8,
     "metadata": {},
     "output_type": "execute_result"
    }
   ],
   "source": [
    "# Get a quick overview of what we are dealing with in our dataset\n",
    "data_df=data.toPandas()\n",
    "data_df.head()"
   ]
  },
  {
   "cell_type": "markdown",
   "id": "01ba4336",
   "metadata": {},
   "source": [
    "# EDA"
   ]
  },
  {
   "cell_type": "code",
   "execution_count": 9,
   "id": "21dd985c",
   "metadata": {},
   "outputs": [
    {
     "name": "stdout",
     "output_type": "stream",
     "text": [
      "<class 'pandas.core.frame.DataFrame'>\n",
      "RangeIndex: 7043 entries, 0 to 7042\n",
      "Data columns (total 16 columns):\n",
      " #   Column            Non-Null Count  Dtype  \n",
      "---  ------            --------------  -----  \n",
      " 0   customerID        7043 non-null   object \n",
      " 1   gender            7043 non-null   object \n",
      " 2   SeniorCitizen     7043 non-null   int32  \n",
      " 3   Dependents        7043 non-null   object \n",
      " 4   tenure            7043 non-null   int32  \n",
      " 5   PhoneService      7043 non-null   object \n",
      " 6   MultipleLines     7043 non-null   object \n",
      " 7   OnlineBackup      7043 non-null   object \n",
      " 8   DeviceProtection  7043 non-null   object \n",
      " 9   TechSupport       7043 non-null   object \n",
      " 10  StreamingMovies   7043 non-null   object \n",
      " 11  Contract          7043 non-null   object \n",
      " 12  PaperlessBilling  7043 non-null   object \n",
      " 13  PaymentMethod     7043 non-null   object \n",
      " 14  TotalCharges      7032 non-null   float64\n",
      " 15  Churn             7043 non-null   object \n",
      "dtypes: float64(1), int32(2), object(13)\n",
      "memory usage: 825.5+ KB\n"
     ]
    }
   ],
   "source": [
    "data_df.info()"
   ]
  },
  {
   "cell_type": "code",
   "execution_count": 10,
   "id": "2f3cb34b",
   "metadata": {},
   "outputs": [
    {
     "data": {
      "text/html": [
       "<div>\n",
       "<style scoped>\n",
       "    .dataframe tbody tr th:only-of-type {\n",
       "        vertical-align: middle;\n",
       "    }\n",
       "\n",
       "    .dataframe tbody tr th {\n",
       "        vertical-align: top;\n",
       "    }\n",
       "\n",
       "    .dataframe thead th {\n",
       "        text-align: right;\n",
       "    }\n",
       "</style>\n",
       "<table border=\"1\" class=\"dataframe\">\n",
       "  <thead>\n",
       "    <tr style=\"text-align: right;\">\n",
       "      <th></th>\n",
       "      <th>SeniorCitizen</th>\n",
       "      <th>tenure</th>\n",
       "      <th>TotalCharges</th>\n",
       "    </tr>\n",
       "  </thead>\n",
       "  <tbody>\n",
       "    <tr>\n",
       "      <th>count</th>\n",
       "      <td>7043.000000</td>\n",
       "      <td>7043.000000</td>\n",
       "      <td>7032.000000</td>\n",
       "    </tr>\n",
       "    <tr>\n",
       "      <th>mean</th>\n",
       "      <td>0.162147</td>\n",
       "      <td>32.371149</td>\n",
       "      <td>2283.300441</td>\n",
       "    </tr>\n",
       "    <tr>\n",
       "      <th>std</th>\n",
       "      <td>0.368612</td>\n",
       "      <td>24.559481</td>\n",
       "      <td>2266.771362</td>\n",
       "    </tr>\n",
       "    <tr>\n",
       "      <th>min</th>\n",
       "      <td>0.000000</td>\n",
       "      <td>0.000000</td>\n",
       "      <td>18.800000</td>\n",
       "    </tr>\n",
       "    <tr>\n",
       "      <th>25%</th>\n",
       "      <td>0.000000</td>\n",
       "      <td>9.000000</td>\n",
       "      <td>401.450000</td>\n",
       "    </tr>\n",
       "    <tr>\n",
       "      <th>50%</th>\n",
       "      <td>0.000000</td>\n",
       "      <td>29.000000</td>\n",
       "      <td>1397.475000</td>\n",
       "    </tr>\n",
       "    <tr>\n",
       "      <th>75%</th>\n",
       "      <td>0.000000</td>\n",
       "      <td>55.000000</td>\n",
       "      <td>3794.737500</td>\n",
       "    </tr>\n",
       "    <tr>\n",
       "      <th>max</th>\n",
       "      <td>1.000000</td>\n",
       "      <td>72.000000</td>\n",
       "      <td>8684.800000</td>\n",
       "    </tr>\n",
       "  </tbody>\n",
       "</table>\n",
       "</div>"
      ],
      "text/plain": [
       "       SeniorCitizen       tenure  TotalCharges\n",
       "count    7043.000000  7043.000000   7032.000000\n",
       "mean        0.162147    32.371149   2283.300441\n",
       "std         0.368612    24.559481   2266.771362\n",
       "min         0.000000     0.000000     18.800000\n",
       "25%         0.000000     9.000000    401.450000\n",
       "50%         0.000000    29.000000   1397.475000\n",
       "75%         0.000000    55.000000   3794.737500\n",
       "max         1.000000    72.000000   8684.800000"
      ]
     },
     "execution_count": 10,
     "metadata": {},
     "output_type": "execute_result"
    }
   ],
   "source": [
    "data_df.describe()"
   ]
  },
  {
   "cell_type": "code",
   "execution_count": 11,
   "id": "9b19a414",
   "metadata": {},
   "outputs": [
    {
     "data": {
      "text/plain": [
       "customerID           0\n",
       "gender               0\n",
       "SeniorCitizen        0\n",
       "Dependents           0\n",
       "tenure               0\n",
       "PhoneService         0\n",
       "MultipleLines        0\n",
       "OnlineBackup         0\n",
       "DeviceProtection     0\n",
       "TechSupport          0\n",
       "StreamingMovies      0\n",
       "Contract             0\n",
       "PaperlessBilling     0\n",
       "PaymentMethod        0\n",
       "TotalCharges        11\n",
       "Churn                0\n",
       "dtype: int64"
      ]
     },
     "execution_count": 11,
     "metadata": {},
     "output_type": "execute_result"
    }
   ],
   "source": [
    "data_df.isna().sum()"
   ]
  },
  {
   "cell_type": "code",
   "execution_count": null,
   "id": "2b64d3cc",
   "metadata": {},
   "outputs": [],
   "source": []
  },
  {
   "cell_type": "code",
   "execution_count": 12,
   "id": "31db533e",
   "metadata": {},
   "outputs": [
    {
     "data": {
      "image/png": "[encoded data removed]",
      "text/plain": [
       "<Figure size 432x288 with 1 Axes>"
      ]
     },
     "metadata": {
      "needs_background": "light"
     },
     "output_type": "display_data"
    }
   ],
   "source": [
    "#Comparison between tenure and Total Charges\n",
    "import matplotlib.pyplot as plt\n",
    "plt.clf()\n",
    "plt.plot(data_df[\"tenure\"],data_df[\"TotalCharges\"],\".\")\n",
    "plt.xlabel(\"Tenure\")\n",
    "plt.ylabel(\"Total Charges\")\n",
    "plt.suptitle(\"The comparison between Tenure and Total Charges\")\n",
    "display()"
   ]
  },
  {
   "cell_type": "code",
   "execution_count": 13,
   "id": "704c8206",
   "metadata": {},
   "outputs": [
    {
     "data": {
      "text/plain": [
       "<AxesSubplot:xlabel='Churn', ylabel='count'>"
      ]
     },
     "execution_count": 13,
     "metadata": {},
     "output_type": "execute_result"
    },
    {
     "data": {
      "image/png": "[encoded data removed]",
      "text/plain": [
       "<Figure size 432x288 with 1 Axes>"
      ]
     },
     "metadata": {
      "needs_background": "light"
     },
     "output_type": "display_data"
    }
   ],
   "source": [
    "sns.countplot(data_df[data_df['gender']=='Male']['Churn'])"
   ]
  },
  {
   "cell_type": "code",
   "execution_count": 14,
   "id": "aaa4a2b6",
   "metadata": {},
   "outputs": [
    {
     "data": {
      "text/plain": [
       "<AxesSubplot:>"
      ]
     },
     "execution_count": 14,
     "metadata": {},
     "output_type": "execute_result"
    },
    {
     "data": {
      "image/png": "[encoded data removed]",
      "text/plain": [
       "<Figure size 432x288 with 2 Axes>"
      ]
     },
     "metadata": {
      "needs_background": "light"
     },
     "output_type": "display_data"
    }
   ],
   "source": [
    "sns.heatmap(data_df.corr(),annot=True)"
   ]
  },
  {
   "cell_type": "code",
   "execution_count": 15,
   "id": "02978698",
   "metadata": {},
   "outputs": [
    {
     "data": {
      "text/plain": [
       "<AxesSubplot:xlabel='Churn', ylabel='count'>"
      ]
     },
     "execution_count": 15,
     "metadata": {},
     "output_type": "execute_result"
    },
    {
     "data": {
      "image/png": "[encoded data removed]",
      "text/plain": [
       "<Figure size 432x288 with 1 Axes>"
      ]
     },
     "metadata": {
      "needs_background": "light"
     },
     "output_type": "display_data"
    }
   ],
   "source": [
    "sns.countplot(data_df[data_df['gender']=='Female']['Churn'])"
   ]
  },
  {
   "cell_type": "code",
   "execution_count": 16,
   "id": "f3905915",
   "metadata": {},
   "outputs": [
    {
     "data": {
      "text/plain": [
       "<AxesSubplot:xlabel='Churn', ylabel='count'>"
      ]
     },
     "execution_count": 16,
     "metadata": {},
     "output_type": "execute_result"
    },
    {
     "data": {
      "image/png": "[encoded data removed]",
      "text/plain": [
       "<Figure size 432x288 with 1 Axes>"
      ]
     },
     "metadata": {
      "needs_background": "light"
     },
     "output_type": "display_data"
    }
   ],
   "source": [
    "sns.countplot(data_df[data_df['gender']=='Male']['Churn'])"
   ]
  },
  {
   "cell_type": "code",
   "execution_count": null,
   "id": "a0e2daba",
   "metadata": {},
   "outputs": [],
   "source": []
  },
  {
   "cell_type": "code",
   "execution_count": 17,
   "id": "79f6eba1",
   "metadata": {},
   "outputs": [],
   "source": [
    "temp_table_churn =\"churn_analysis\"\n",
    "data.createOrReplaceTempView(temp_table_churn)"
   ]
  },
  {
   "cell_type": "code",
   "execution_count": 18,
   "id": "a9b9f638",
   "metadata": {},
   "outputs": [
    {
     "name": "stdout",
     "output_type": "stream",
     "text": [
      "Number of records for training data : 4885 rows\n",
      "Number of records for test data : 2158 rows\n"
     ]
    }
   ],
   "source": [
    "#Split the data into test and train\n",
    "#We can see there are 4885 rows for train data and 2158 rows for test data\n",
    "(train_data,test_data) =data.randomSplit([0.7,0.3],seed=50)\n",
    "\n",
    "print(\"Number of records for training data : {}\".format(train_data.count()) + \" rows\")\n",
    "print(\"Number of records for test data : {}\".format(test_data.count()) + \" rows\")"
   ]
  },
  {
   "cell_type": "code",
   "execution_count": 19,
   "id": "73e1bbdf",
   "metadata": {},
   "outputs": [],
   "source": [
    "from pyspark.ml import Pipeline\n",
    "from pyspark.ml.feature import OneHotEncoder, StringIndexer,VectorAssembler\n",
    "\n",
    "catColumns_df = ['gender',\n",
    " 'SeniorCitizen',\n",
    " 'Dependents',\n",
    " 'PhoneService',\n",
    " 'MultipleLines',\n",
    " 'OnlineBackup',\n",
    " 'DeviceProtection',\n",
    " 'TechSupport',\n",
    " 'StreamingMovies',\n",
    " 'Contract',\n",
    " 'PaperlessBilling',\n",
    " 'PaymentMethod']"
   ]
  },
  {
   "cell_type": "code",
   "execution_count": 20,
   "id": "3f75b8a1",
   "metadata": {},
   "outputs": [],
   "source": [
    "stages = []\n",
    "for catColumn in catColumns_df:\n",
    "    stringIndexer =StringIndexer(inputCol =catColumn,outputCol =catColumn + \"Index\")\n",
    "    encoder  = OneHotEncoder(inputCols=[stringIndexer.getOutputCol()],outputCols =[catColumn + \"catVec\"])\n",
    "  \n",
    "    stages += [stringIndexer,encoder]\n",
    "stages\n",
    "\n",
    "#imputing null values in totalcharges using Imputer\n",
    "from pyspark.ml.feature import Imputer \n",
    "imputer = Imputer(inputCols =[\"TotalCharges\"],outputCols =[\"Out_TotalCharges\"])\n",
    "stages += [imputer]"
   ]
  },
  {
   "cell_type": "code",
   "execution_count": 21,
   "id": "28028115",
   "metadata": {},
   "outputs": [],
   "source": [
    "label_Idx = StringIndexer(inputCol=\"Churn\",outputCol=\"label\")\n",
    "stages +=[label_Idx]\n",
    "temp = label_Idx.fit(train_data).transform(train_data)"
   ]
  },
  {
   "cell_type": "code",
   "execution_count": 22,
   "id": "17dc12f2",
   "metadata": {},
   "outputs": [],
   "source": [
    "from pyspark.ml.feature import QuantileDiscretizer\n",
    "tenure_bin =QuantileDiscretizer(numBuckets=3,inputCol=\"tenure\",outputCol=\"tenure_bin\")\n",
    "stages +=[tenure_bin]"
   ]
  },
  {
   "cell_type": "code",
   "execution_count": 23,
   "id": "5f2bcabe",
   "metadata": {},
   "outputs": [],
   "source": [
    "numericCols =[\"tenure_bin\",\"Out_TotalCharges\"] # MonthlyCharges\n",
    "assembleInputs =assemblerInputs =[column + \"catVec\" for column in catColumns_df] +numericCols\n",
    "assembler = VectorAssembler(inputCols=assembleInputs,outputCol=\"features\")\n",
    "stages +=[assembler]"
   ]
  },
  {
   "cell_type": "code",
   "execution_count": 24,
   "id": "a24c8a21",
   "metadata": {},
   "outputs": [
    {
     "data": {
      "text/plain": [
       "[('customerID', 'string'),\n",
       " ('gender', 'string'),\n",
       " ('SeniorCitizen', 'int'),\n",
       " ('Dependents', 'string'),\n",
       " ('tenure', 'int'),\n",
       " ('PhoneService', 'string'),\n",
       " ('MultipleLines', 'string'),\n",
       " ('OnlineBackup', 'string'),\n",
       " ('DeviceProtection', 'string'),\n",
       " ('TechSupport', 'string'),\n",
       " ('StreamingMovies', 'string'),\n",
       " ('Contract', 'string'),\n",
       " ('PaperlessBilling', 'string'),\n",
       " ('PaymentMethod', 'string'),\n",
       " ('TotalCharges', 'double'),\n",
       " ('Churn', 'string')]"
      ]
     },
     "execution_count": 24,
     "metadata": {},
     "output_type": "execute_result"
    }
   ],
   "source": [
    "train_data.dtypes"
   ]
  },
  {
   "cell_type": "code",
   "execution_count": 25,
   "id": "dc828ebe",
   "metadata": {},
   "outputs": [],
   "source": [
    "pipeline =Pipeline().setStages(stages)\n",
    "pipelineModel =pipeline.fit(train_data)\n",
    "trainDF =pipelineModel.transform(train_data)\n",
    "testDF =pipelineModel.transform(test_data)"
   ]
  },
  {
   "cell_type": "code",
   "execution_count": 26,
   "id": "cc8d1c53",
   "metadata": {},
   "outputs": [],
   "source": [
    "from pyspark.ml.classification import DecisionTreeClassifier\n",
    "dt = DecisionTreeClassifier()"
   ]
  },
  {
   "cell_type": "code",
   "execution_count": 27,
   "id": "bb190c10",
   "metadata": {},
   "outputs": [],
   "source": [
    "model = dt.fit(trainDF)"
   ]
  },
  {
   "cell_type": "code",
   "execution_count": 28,
   "id": "bae29680",
   "metadata": {},
   "outputs": [
    {
     "name": "stdout",
     "output_type": "stream",
     "text": [
      "+--------------------+-----+--------------------+----------+\n",
      "|            features|label|         probability|prediction|\n",
      "+--------------------+-----+--------------------+----------+\n",
      "|(22,[1,3,5,7,9,11...|  0.0|[0.92899140660334...|       0.0|\n",
      "|(22,[1,2,7,9,11,1...|  0.0|[0.92899140660334...|       0.0|\n",
      "|(22,[2,3,5,6,8,10...|  0.0|[0.28115942028985...|       1.0|\n",
      "|(22,[1,2,3,4,14,1...|  0.0|[0.80352644836272...|       0.0|\n",
      "|(22,[1,3,4,15,20,...|  0.0|[0.92899140660334...|       0.0|\n",
      "|(22,[1,2,3,4,20,2...|  0.0|[0.92899140660334...|       0.0|\n",
      "|(22,[1,2,3,5,6,8,...|  0.0|[0.71325301204819...|       0.0|\n",
      "|(22,[1,2,3,5,7,8,...|  0.0|[0.47750865051903...|       1.0|\n",
      "|(22,[1,3,4,15,21]...|  0.0|[0.92899140660334...|       0.0|\n",
      "|(22,[0,1,3,5,15,1...|  0.0|[0.92899140660334...|       0.0|\n",
      "+--------------------+-----+--------------------+----------+\n",
      "only showing top 10 rows\n",
      "\n"
     ]
    }
   ],
   "source": [
    "pred = model.transform(testDF)\n",
    "pred = pred.select(['features', 'label','probability','prediction'])\n",
    "pred.show(10)"
   ]
  },
  {
   "cell_type": "code",
   "execution_count": 29,
   "id": "f30b945f",
   "metadata": {},
   "outputs": [],
   "source": [
    "from pyspark.ml.evaluation import BinaryClassificationEvaluator,MulticlassClassificationEvaluator\n",
    "from sklearn.metrics import confusion_matrix"
   ]
  },
  {
   "cell_type": "code",
   "execution_count": 30,
   "id": "ce50903c",
   "metadata": {},
   "outputs": [
    {
     "name": "stdout",
     "output_type": "stream",
     "text": [
      "Prediction Accuracy:  0.7896200185356812\n",
      "Confusion Matrix:\n",
      "[[1448  140]\n",
      " [ 314  256]]\n"
     ]
    }
   ],
   "source": [
    "evaluator=MulticlassClassificationEvaluator(metricName='accuracy')\n",
    "acc = evaluator.evaluate(pred)\n",
    " \n",
    "print(\"Prediction Accuracy: \", acc)\n",
    " \n",
    "y_pred=pred.select(\"prediction\").collect()\n",
    "y_orig=pred.select(\"label\").collect()\n",
    "\n",
    "cm = confusion_matrix(y_orig, y_pred)\n",
    "print(\"Confusion Matrix:\")\n",
    "print(cm)"
   ]
  },
  {
   "cell_type": "code",
   "execution_count": 37,
   "id": "47dbd549",
   "metadata": {},
   "outputs": [],
   "source": [
    "featureImportances = model.featureImportances.toArray()"
   ]
  },
  {
   "cell_type": "code",
   "execution_count": 38,
   "id": "66248dd7",
   "metadata": {},
   "outputs": [],
   "source": [
    "best_n_features= featureImportances.argsort()[-5:][::-1]"
   ]
  },
  {
   "cell_type": "code",
   "execution_count": 39,
   "id": "636ec354",
   "metadata": {},
   "outputs": [
    {
     "data": {
      "text/plain": [
       "array([14, 10, 20, 21,  5], dtype=int64)"
      ]
     },
     "execution_count": 39,
     "metadata": {},
     "output_type": "execute_result"
    }
   ],
   "source": [
    "best_n_features"
   ]
  },
  {
   "cell_type": "code",
   "execution_count": 45,
   "id": "ac516b34",
   "metadata": {},
   "outputs": [],
   "source": [
    "vs = VectorSlicer(inputCol='features',  outputCol='best_features',indices=best_n_features)"
   ]
  },
  {
   "cell_type": "code",
   "execution_count": 73,
   "id": "ed7fe84e",
   "metadata": {},
   "outputs": [],
   "source": [
    "df3 = vs.transform(pred)"
   ]
  },
  {
   "cell_type": "code",
   "execution_count": 80,
   "id": "c026785d",
   "metadata": {},
   "outputs": [
    {
     "data": {
      "text/plain": [
       "['features', 'label', 'probability', 'prediction', 'best_features']"
      ]
     },
     "execution_count": 80,
     "metadata": {},
     "output_type": "execute_result"
    }
   ],
   "source": [
    "df3.columns"
   ]
  },
  {
   "cell_type": "code",
   "execution_count": 88,
   "id": "5df2e5a9",
   "metadata": {},
   "outputs": [],
   "source": [
    "df3 = df3.drop('best_features', 'probability', 'prediction')"
   ]
  },
  {
   "cell_type": "code",
   "execution_count": 89,
   "id": "99e9fb1c",
   "metadata": {},
   "outputs": [
    {
     "data": {
      "text/plain": [
       "['features', 'label']"
      ]
     },
     "execution_count": 89,
     "metadata": {},
     "output_type": "execute_result"
    }
   ],
   "source": [
    "df3.columns"
   ]
  },
  {
   "cell_type": "code",
   "execution_count": 91,
   "id": "c7e94c97",
   "metadata": {},
   "outputs": [],
   "source": [
    "model = dt.fit(df3)"
   ]
  },
  {
   "cell_type": "code",
   "execution_count": 92,
   "id": "7d2c9c40",
   "metadata": {},
   "outputs": [
    {
     "name": "stdout",
     "output_type": "stream",
     "text": [
      "+--------------------+-----+--------------------+----------+\n",
      "|            features|label|         probability|prediction|\n",
      "+--------------------+-----+--------------------+----------+\n",
      "|(22,[1,3,5,7,9,11...|  0.0|       [0.978,0.022]|       0.0|\n",
      "|(22,[1,2,7,9,11,1...|  0.0|       [0.978,0.022]|       0.0|\n",
      "|(22,[2,3,5,6,8,10...|  0.0|[0.32679738562091...|       1.0|\n",
      "|(22,[1,2,3,4,14,1...|  0.0|[0.82558139534883...|       0.0|\n",
      "|(22,[1,3,4,15,20,...|  0.0|       [0.978,0.022]|       0.0|\n",
      "|(22,[1,2,3,4,20,2...|  0.0|[0.96078431372549...|       0.0|\n",
      "|(22,[1,2,3,5,6,8,...|  0.0|[0.48633879781420...|       1.0|\n",
      "|(22,[1,2,3,5,7,8,...|  0.0|[0.48633879781420...|       1.0|\n",
      "|(22,[1,3,4,15,21]...|  0.0|       [0.978,0.022]|       0.0|\n",
      "|(22,[0,1,3,5,15,1...|  0.0|       [0.978,0.022]|       0.0|\n",
      "+--------------------+-----+--------------------+----------+\n",
      "only showing top 10 rows\n",
      "\n"
     ]
    }
   ],
   "source": [
    "pred = model.transform(df3)\n",
    "pred = pred.select(['features', 'label','probability','prediction'])\n",
    "pred.show(10)"
   ]
  },
  {
   "cell_type": "code",
   "execution_count": 94,
   "id": "1c8713a3",
   "metadata": {},
   "outputs": [
    {
     "name": "stdout",
     "output_type": "stream",
     "text": [
      "Prediction Accuracy:  0.7937324781410678\n",
      "Confusion Matrix:\n",
      "[[1366  222]\n",
      " [ 223  347]]\n"
     ]
    }
   ],
   "source": [
    "evaluator=MulticlassClassificationEvaluator()\n",
    "acc = evaluator.evaluate(pred)\n",
    " \n",
    "print(\"Prediction Accuracy: \", acc)\n",
    " \n",
    "y_pred=pred.select(\"prediction\").collect()\n",
    "y_orig=pred.select(\"label\").collect()\n",
    "\n",
    "cm = confusion_matrix(y_orig, y_pred)\n",
    "print(\"Confusion Matrix:\")\n",
    "print(cm)"
   ]
  },
  {
   "cell_type": "code",
   "execution_count": null,
   "id": "4868d81c",
   "metadata": {},
   "outputs": [],
   "source": []
  },
  {
   "cell_type": "code",
   "execution_count": 81,
   "id": "a0b1f99d",
   "metadata": {},
   "outputs": [
    {
     "data": {
      "text/plain": [
       "array([0.        , 0.        , 0.        , 0.        , 0.        ,\n",
       "       0.03628121, 0.        , 0.        , 0.        , 0.        ,\n",
       "       0.13155922, 0.        , 0.        , 0.        , 0.63673836,\n",
       "       0.        , 0.01464262, 0.03065906, 0.        , 0.        ])"
      ]
     },
     "execution_count": 81,
     "metadata": {},
     "output_type": "execute_result"
    }
   ],
   "source": [
    "featureImportances[:-2]"
   ]
  },
  {
   "cell_type": "code",
   "execution_count": 82,
   "id": "73be50c6",
   "metadata": {},
   "outputs": [],
   "source": [
    "# k = pred.schema['features'].metadata[\"ml_attr\"][\"attrs\"]['binary']"
   ]
  },
  {
   "cell_type": "code",
   "execution_count": 85,
   "id": "da7ba83c",
   "metadata": {},
   "outputs": [
    {
     "name": "stdout",
     "output_type": "stream",
     "text": [
      "0.03628120594251123 {'idx': 5, 'name': 'MultipleLinescatVec_Yes'}\n",
      "0.13155921983515728 {'idx': 10, 'name': 'TechSupportcatVec_No'}\n",
      "0.6367383582899447 {'idx': 14, 'name': 'ContractcatVec_Month-to-month'}\n",
      "0.01464261851680122 {'idx': 16, 'name': 'PaperlessBillingcatVec_Yes'}\n",
      "0.030659059640579554 {'idx': 17, 'name': 'PaymentMethodcatVec_Electronic check'}\n"
     ]
    }
   ],
   "source": [
    "# # important features\n",
    "# for i,j in zip(featureImportances[:-2],k):\n",
    "#     if i!=0:\n",
    "#         print(i,j)"
   ]
  },
  {
   "cell_type": "code",
   "execution_count": null,
   "id": "07459061",
   "metadata": {},
   "outputs": [],
   "source": []
  }
 ],
 "metadata": {
  "kernelspec": {
   "display_name": "Python 3 (ipykernel)",
   "language": "python",
   "name": "python3"
  },
  "language_info": {
   "codemirror_mode": {
    "name": "ipython",
    "version": 3
   },
   "file_extension": ".py",
   "mimetype": "text/x-python",
   "name": "python",
   "nbconvert_exporter": "python",
   "pygments_lexer": "ipython3",
   "version": "3.8.5"
  }
 },
 "nbformat": 4,
 "nbformat_minor": 5
}
