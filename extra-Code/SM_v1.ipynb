{
 "cells": [
  {
   "cell_type": "markdown",
   "metadata": {},
   "source": [
    "# Import Packages"
   ]
  },
  {
   "cell_type": "code",
   "execution_count": 1,
   "metadata": {},
   "outputs": [],
   "source": [
    "import pandas as pd\n",
    "import numpy as np\n",
    "import os"
   ]
  },
  {
   "cell_type": "markdown",
   "metadata": {},
   "source": [
    "# Get Filepath for Inputs and Outputs"
   ]
  },
  {
   "cell_type": "code",
   "execution_count": 2,
   "metadata": {},
   "outputs": [],
   "source": [
    "dir_path = os.path.dirname(os.path.realpath('Social Media_3.ipynb')) \n",
    "Inputs = dir_path + '\\\\Inputs'\n",
    "Outputs = dir_path + '\\\\Outputs'"
   ]
  },
  {
   "cell_type": "code",
   "execution_count": 3,
   "metadata": {},
   "outputs": [
    {
     "name": "stderr",
     "output_type": "stream",
     "text": [
      "<ipython-input-3-c08abfc58be6>:10: ParserWarning: Falling back to the 'python' engine because the 'c' engine does not support skipfooter; you can avoid this warning by specifying engine='python'.\n",
      "  df = pd.read_csv(file_path, sep = ',', skipfooter = 1)\n"
     ]
    }
   ],
   "source": [
    "# load csv files\n",
    "titles = ['Discord', 'Facebook', 'Instagram', 'Reddit', 'Roblox', 'Snapchat', 'Tiktok', 'Twitch', 'Twitter']\n",
    "dfs = []\n",
    "columns = ['Date', 'Age: 18-29', 'Age: 30-44', 'Age: 45-64', 'Age: 65+', \n",
    "           'Generation: GenZers', 'Generation: Millennials', 'Generation: GenXers', \n",
    "           'Generation: Boomers', 'Gender: Female', 'Gender: Male']\n",
    "for title in titles:\n",
    "    file_name = title + 'DailyUsersbyAudience.csv'\n",
    "    file_path = os.path.join(Inputs, file_name)\n",
    "    df = pd.read_csv(file_path, sep = ',', skipfooter = 1)\n",
    "    \n",
    "    df = df[columns]\n",
    "    df.columns = [c if c == 'Date' else title + ' ' + c for c in columns]\n",
    "    dfs.append(df)\n",
    "    "
   ]
  },
  {
   "cell_type": "code",
   "execution_count": 4,
   "metadata": {},
   "outputs": [],
   "source": [
    "for i in range(len(dfs)):\n",
    "    dfs[i].reset_index(drop=True,inplace=True)\n",
    "    dfs[i].index = pd.to_datetime(dfs[i].Date)\n",
    "    dfs[i].drop('Date',axis=1,inplace=True)"
   ]
  },
  {
   "cell_type": "code",
   "execution_count": 5,
   "metadata": {},
   "outputs": [],
   "source": [
    "df = pd.concat(dfs, axis=1)"
   ]
  },
  {
   "cell_type": "code",
   "execution_count": 9,
   "metadata": {},
   "outputs": [],
   "source": [
    "i = 1\n",
    "for col in columns[1:]:\n",
    "    temp_cols = []\n",
    "    for title in titles:\n",
    "        temp_cols.append(title+' '+col)\n",
    "    x_df = df[temp_cols].reset_index()\n",
    "    fname = f'output{i}.csv'\n",
    "    i = i + 1\n",
    "    x_df.to_csv(fname,index=False)"
   ]
  },
  {
   "cell_type": "code",
   "execution_count": null,
   "metadata": {},
   "outputs": [],
   "source": []
  }
 ],
 "metadata": {
  "kernelspec": {
   "display_name": "Python 3",
   "language": "python",
   "name": "python3"
  },
  "language_info": {
   "codemirror_mode": {
    "name": "ipython",
    "version": 3
   },
   "file_extension": ".py",
   "mimetype": "text/x-python",
   "name": "python",
   "nbconvert_exporter": "python",
   "pygments_lexer": "ipython3",
   "version": "3.8.5"
  }
 },
 "nbformat": 4,
 "nbformat_minor": 4
}
