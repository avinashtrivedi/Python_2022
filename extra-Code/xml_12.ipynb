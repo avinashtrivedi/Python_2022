{
 "cells": [
  {
   "cell_type": "code",
   "execution_count": 31,
   "id": "6c1fd429",
   "metadata": {},
   "outputs": [],
   "source": [
    "import xml.etree.ElementTree as ET\n",
    "import pandas as pd\n",
    "import warnings\n",
    "warnings.filterwarnings('ignore')\n",
    "\n",
    "tree = ET.parse('Q7_Activity_Report(2022-07-14 00_00_51).xml')\n",
    "root = tree.getroot()\n",
    "x = list(list(root[3])[0])\n",
    "x = [i for i in x if i.tag[-3:] == 'Row']\n",
    "\n",
    "df = pd.DataFrame([],columns=range(10))\n",
    "for k in x:\n",
    "    mydata = []\n",
    "    if '{urn:schemas-microsoft-com:office:spreadsheet}MergeAcross' in k[0].attrib.keys():\n",
    "        continue\n",
    "    for i in k:\n",
    "        for j in i:\n",
    "            if j.text:\n",
    "                mydata.append(j.text)\n",
    "    df.loc[len(df)] = mydata\n",
    "df.columns = df.iloc[0]\n",
    "df = df[1:]\n",
    "df.to_csv('final_data.csv')"
   ]
  },
  {
   "cell_type": "code",
   "execution_count": 4,
   "id": "f612c771",
   "metadata": {},
   "outputs": [
    {
     "data": {
      "text/html": [
       "<div>\n",
       "<style scoped>\n",
       "    .dataframe tbody tr th:only-of-type {\n",
       "        vertical-align: middle;\n",
       "    }\n",
       "\n",
       "    .dataframe tbody tr th {\n",
       "        vertical-align: top;\n",
       "    }\n",
       "\n",
       "    .dataframe thead th {\n",
       "        text-align: right;\n",
       "    }\n",
       "</style>\n",
       "<table border=\"1\" class=\"dataframe\">\n",
       "  <thead>\n",
       "    <tr style=\"text-align: right;\">\n",
       "      <th></th>\n",
       "      <th>Employee Number</th>\n",
       "      <th>Last Name</th>\n",
       "      <th>First Name</th>\n",
       "      <th>Card Number</th>\n",
       "      <th>Workgroup</th>\n",
       "      <th>Date Occurred</th>\n",
       "      <th>Earliest Access Time</th>\n",
       "      <th>Earliest Access Point</th>\n",
       "      <th>Latest Access Time</th>\n",
       "      <th>Latest Access Point</th>\n",
       "    </tr>\n",
       "  </thead>\n",
       "  <tbody>\n",
       "    <tr>\n",
       "      <th>1</th>\n",
       "      <td>Z000CNMN</td>\n",
       "      <td>Estrada</td>\n",
       "      <td>Esther</td>\n",
       "      <td>2972549175</td>\n",
       "      <td>Siemens Corp. Consultant</td>\n",
       "      <td>2022-07-13T00:00:00.000</td>\n",
       "      <td>06:02:33</td>\n",
       "      <td>OQ7 PayRoll Permer</td>\n",
       "      <td>15:53:40</td>\n",
       "      <td>OQ7 S/R Mailroom ext</td>\n",
       "    </tr>\n",
       "    <tr>\n",
       "      <th>2</th>\n",
       "      <td>Z00328KF</td>\n",
       "      <td>Beumer</td>\n",
       "      <td>Edith</td>\n",
       "      <td>2737648878</td>\n",
       "      <td>Siemens Corp.</td>\n",
       "      <td>2022-07-13T00:00:00.000</td>\n",
       "      <td>06:46:48</td>\n",
       "      <td>OQ7 MAIN ENTRY 1</td>\n",
       "      <td>12:41:59</td>\n",
       "      <td>OQ7 File Room Patio Door</td>\n",
       "    </tr>\n",
       "    <tr>\n",
       "      <th>3</th>\n",
       "      <td>Z002WD6T</td>\n",
       "      <td>Irizarry</td>\n",
       "      <td>Sandra</td>\n",
       "      <td>1975039190</td>\n",
       "      <td>Siemens Corp.</td>\n",
       "      <td>2022-07-13T00:00:00.000</td>\n",
       "      <td>07:12:31</td>\n",
       "      <td>OQ7 MAIN ENTRY 1</td>\n",
       "      <td>07:33:18</td>\n",
       "      <td>OQ7 MAIN LOBBY</td>\n",
       "    </tr>\n",
       "  </tbody>\n",
       "</table>\n",
       "</div>"
      ],
      "text/plain": [
       "0 Employee Number Last Name First Name Card Number                 Workgroup  \\\n",
       "1        Z000CNMN   Estrada     Esther  2972549175  Siemens Corp. Consultant   \n",
       "2        Z00328KF    Beumer      Edith  2737648878             Siemens Corp.   \n",
       "3        Z002WD6T  Irizarry     Sandra  1975039190             Siemens Corp.   \n",
       "\n",
       "0            Date Occurred Earliest Access Time Earliest Access Point  \\\n",
       "1  2022-07-13T00:00:00.000             06:02:33    OQ7 PayRoll Permer   \n",
       "2  2022-07-13T00:00:00.000             06:46:48      OQ7 MAIN ENTRY 1   \n",
       "3  2022-07-13T00:00:00.000             07:12:31      OQ7 MAIN ENTRY 1   \n",
       "\n",
       "0 Latest Access Time       Latest Access Point  \n",
       "1           15:53:40      OQ7 S/R Mailroom ext  \n",
       "2           12:41:59  OQ7 File Room Patio Door  \n",
       "3           07:33:18            OQ7 MAIN LOBBY  "
      ]
     },
     "execution_count": 4,
     "metadata": {},
     "output_type": "execute_result"
    }
   ],
   "source": [
    "df"
   ]
  },
  {
   "cell_type": "code",
   "execution_count": 8,
   "id": "6719ba93",
   "metadata": {},
   "outputs": [
    {
     "name": "stdout",
     "output_type": "stream",
     "text": [
      "Z000CNMN\n",
      "Estrada\n",
      "Esther\n",
      "2972549175\n",
      "Siemens Corp. Consultant\n",
      "2022-07-13T00:00:00.000\n",
      "06:02:33\n",
      "OQ7 PayRoll Permer\n",
      "15:53:40\n",
      "OQ7 S/R Mailroom ext\n"
     ]
    }
   ],
   "source": [
    "# for k in x:\n",
    "#     mydata = []\n",
    "#     if '{urn:schemas-microsoft-com:office:spreadsheet}MergeAcross' in k[0].attrib.keys():\n",
    "#         continue\n",
    "for i in x[2]:\n",
    "    \n",
    "    for j in i:\n",
    "        j.\n",
    "        if j.text:\n",
    "            print(j.text)"
   ]
  },
  {
   "cell_type": "code",
   "execution_count": 19,
   "id": "cde419df",
   "metadata": {},
   "outputs": [
    {
     "data": {
      "text/plain": [
       "<Element '{urn:schemas-microsoft-com:office:spreadsheet}Data' at 0x0000021517780590>"
      ]
     },
     "execution_count": 19,
     "metadata": {},
     "output_type": "execute_result"
    }
   ],
   "source": [
    "list(list(x[3])[2])[0]"
   ]
  },
  {
   "cell_type": "code",
   "execution_count": 35,
   "id": "55b17dc1",
   "metadata": {},
   "outputs": [
    {
     "data": {
      "text/plain": [
       "12"
      ]
     },
     "execution_count": 35,
     "metadata": {},
     "output_type": "execute_result"
    }
   ],
   "source": [
    "len(list(x[2]))"
   ]
  },
  {
   "cell_type": "code",
   "execution_count": null,
   "id": "a992cfac",
   "metadata": {},
   "outputs": [],
   "source": [
    "list(list(row_data[2])[0])"
   ]
  },
  {
   "cell_type": "code",
   "execution_count": null,
   "id": "82f720d9",
   "metadata": {},
   "outputs": [],
   "source": []
  },
  {
   "cell_type": "code",
   "execution_count": 44,
   "id": "ce10a532",
   "metadata": {},
   "outputs": [
    {
     "name": "stdout",
     "output_type": "stream",
     "text": [
      "12\n",
      "None\n",
      "Employee Number\n",
      "Last Name\n",
      "First Name\n",
      "Card Number\n",
      "Workgroup\n",
      "Date Occurred\n",
      "Earliest Access Time\n",
      "Earliest Access Point\n",
      "Latest Access Time\n",
      "Latest Access Point\n",
      "1\n",
      "12\n",
      "Z000CNMN\n",
      "Estrada\n",
      "Esther\n",
      "2972549175\n",
      "Siemens Corp. Consultant\n",
      "2022-07-13T00:00:00.000\n",
      "06:02:33\n",
      "OQ7 PayRoll Permer\n",
      "15:53:40\n",
      "OQ7 S/R Mailroom ext\n",
      "12\n",
      "None\n",
      "Beumer\n",
      "Edith\n",
      "2737648878\n",
      "Siemens Corp.\n",
      "2022-07-13T00:00:00.000\n",
      "06:46:48\n",
      "OQ7 MAIN ENTRY 1\n",
      "12:41:59\n",
      "OQ7 File Room Patio Door\n"
     ]
    },
    {
     "ename": "ValueError",
     "evalue": "cannot set a row with mismatched columns",
     "output_type": "error",
     "traceback": [
      "\u001b[1;31m---------------------------------------------------------------------------\u001b[0m",
      "\u001b[1;31mValueError\u001b[0m                                Traceback (most recent call last)",
      "Input \u001b[1;32mIn [44]\u001b[0m, in \u001b[0;36m<cell line: 12>\u001b[1;34m()\u001b[0m\n\u001b[0;32m     19\u001b[0m                 \u001b[38;5;28;01mif\u001b[39;00m j\u001b[38;5;241m.\u001b[39mtext:\n\u001b[0;32m     20\u001b[0m \u001b[38;5;66;03m#                     print(j.text)\u001b[39;00m\n\u001b[0;32m     21\u001b[0m                     mydata\u001b[38;5;241m.\u001b[39mappend(j\u001b[38;5;241m.\u001b[39mtext)\n\u001b[1;32m---> 22\u001b[0m         df\u001b[38;5;241m.\u001b[39mloc[\u001b[38;5;28mlen\u001b[39m(df)] \u001b[38;5;241m=\u001b[39m mydata\n\u001b[0;32m     23\u001b[0m df\u001b[38;5;241m.\u001b[39mcolumns \u001b[38;5;241m=\u001b[39m df\u001b[38;5;241m.\u001b[39miloc[\u001b[38;5;241m0\u001b[39m]\n\u001b[0;32m     24\u001b[0m df \u001b[38;5;241m=\u001b[39m df[\u001b[38;5;241m1\u001b[39m:]\n",
      "File \u001b[1;32m~\\anaconda3\\lib\\site-packages\\pandas\\core\\indexing.py:716\u001b[0m, in \u001b[0;36m_LocationIndexer.__setitem__\u001b[1;34m(self, key, value)\u001b[0m\n\u001b[0;32m    713\u001b[0m \u001b[38;5;28mself\u001b[39m\u001b[38;5;241m.\u001b[39m_has_valid_setitem_indexer(key)\n\u001b[0;32m    715\u001b[0m iloc \u001b[38;5;241m=\u001b[39m \u001b[38;5;28mself\u001b[39m \u001b[38;5;28;01mif\u001b[39;00m \u001b[38;5;28mself\u001b[39m\u001b[38;5;241m.\u001b[39mname \u001b[38;5;241m==\u001b[39m \u001b[38;5;124m\"\u001b[39m\u001b[38;5;124miloc\u001b[39m\u001b[38;5;124m\"\u001b[39m \u001b[38;5;28;01melse\u001b[39;00m \u001b[38;5;28mself\u001b[39m\u001b[38;5;241m.\u001b[39mobj\u001b[38;5;241m.\u001b[39miloc\n\u001b[1;32m--> 716\u001b[0m \u001b[43miloc\u001b[49m\u001b[38;5;241;43m.\u001b[39;49m\u001b[43m_setitem_with_indexer\u001b[49m\u001b[43m(\u001b[49m\u001b[43mindexer\u001b[49m\u001b[43m,\u001b[49m\u001b[43m \u001b[49m\u001b[43mvalue\u001b[49m\u001b[43m,\u001b[49m\u001b[43m \u001b[49m\u001b[38;5;28;43mself\u001b[39;49m\u001b[38;5;241;43m.\u001b[39;49m\u001b[43mname\u001b[49m\u001b[43m)\u001b[49m\n",
      "File \u001b[1;32m~\\anaconda3\\lib\\site-packages\\pandas\\core\\indexing.py:1682\u001b[0m, in \u001b[0;36m_iLocIndexer._setitem_with_indexer\u001b[1;34m(self, indexer, value, name)\u001b[0m\n\u001b[0;32m   1679\u001b[0m     indexer, missing \u001b[38;5;241m=\u001b[39m convert_missing_indexer(indexer)\n\u001b[0;32m   1681\u001b[0m     \u001b[38;5;28;01mif\u001b[39;00m missing:\n\u001b[1;32m-> 1682\u001b[0m         \u001b[38;5;28;43mself\u001b[39;49m\u001b[38;5;241;43m.\u001b[39;49m\u001b[43m_setitem_with_indexer_missing\u001b[49m\u001b[43m(\u001b[49m\u001b[43mindexer\u001b[49m\u001b[43m,\u001b[49m\u001b[43m \u001b[49m\u001b[43mvalue\u001b[49m\u001b[43m)\u001b[49m\n\u001b[0;32m   1683\u001b[0m         \u001b[38;5;28;01mreturn\u001b[39;00m\n\u001b[0;32m   1685\u001b[0m \u001b[38;5;66;03m# align and set the values\u001b[39;00m\n",
      "File \u001b[1;32m~\\anaconda3\\lib\\site-packages\\pandas\\core\\indexing.py:1998\u001b[0m, in \u001b[0;36m_iLocIndexer._setitem_with_indexer_missing\u001b[1;34m(self, indexer, value)\u001b[0m\n\u001b[0;32m   1995\u001b[0m     \u001b[38;5;28;01mif\u001b[39;00m is_list_like_indexer(value):\n\u001b[0;32m   1996\u001b[0m         \u001b[38;5;66;03m# must have conforming columns\u001b[39;00m\n\u001b[0;32m   1997\u001b[0m         \u001b[38;5;28;01mif\u001b[39;00m \u001b[38;5;28mlen\u001b[39m(value) \u001b[38;5;241m!=\u001b[39m \u001b[38;5;28mlen\u001b[39m(\u001b[38;5;28mself\u001b[39m\u001b[38;5;241m.\u001b[39mobj\u001b[38;5;241m.\u001b[39mcolumns):\n\u001b[1;32m-> 1998\u001b[0m             \u001b[38;5;28;01mraise\u001b[39;00m \u001b[38;5;167;01mValueError\u001b[39;00m(\u001b[38;5;124m\"\u001b[39m\u001b[38;5;124mcannot set a row with mismatched columns\u001b[39m\u001b[38;5;124m\"\u001b[39m)\n\u001b[0;32m   2000\u001b[0m     value \u001b[38;5;241m=\u001b[39m Series(value, index\u001b[38;5;241m=\u001b[39m\u001b[38;5;28mself\u001b[39m\u001b[38;5;241m.\u001b[39mobj\u001b[38;5;241m.\u001b[39mcolumns, name\u001b[38;5;241m=\u001b[39mindexer)\n\u001b[0;32m   2002\u001b[0m \u001b[38;5;28;01mif\u001b[39;00m \u001b[38;5;129;01mnot\u001b[39;00m \u001b[38;5;28mlen\u001b[39m(\u001b[38;5;28mself\u001b[39m\u001b[38;5;241m.\u001b[39mobj):\n\u001b[0;32m   2003\u001b[0m     \u001b[38;5;66;03m# We will ignore the existing dtypes instead of using\u001b[39;00m\n\u001b[0;32m   2004\u001b[0m     \u001b[38;5;66;03m#  internals.concat logic\u001b[39;00m\n",
      "\u001b[1;31mValueError\u001b[0m: cannot set a row with mismatched columns"
     ]
    }
   ],
   "source": [
    "import xml.etree.ElementTree as ET\n",
    "import pandas as pd\n",
    "import warnings\n",
    "warnings.filterwarnings('ignore')\n",
    "\n",
    "tree = ET.parse('Q7_Activity_Report(2022-07-14 00_00_51).xml')\n",
    "root = tree.getroot()\n",
    "x = list(list(root[3])[0])\n",
    "x = [i for i in x if i.tag[-3:] == 'Row']\n",
    "\n",
    "df = pd.DataFrame([],columns=range(10))\n",
    "for k in x:\n",
    "    print(len(list(k)))\n",
    "    if len(list(k))==12:\n",
    "        mydata = []\n",
    "        for i in k:\n",
    "            for j in i:\n",
    "                print(j.text)\n",
    "                if j.text:\n",
    "                    mydata.append(j.text)\n",
    "        df.loc[len(df)] = mydata\n",
    "df.columns = df.iloc[0]\n",
    "df = df[1:]\n",
    "# df.to_csv('final_data.csv')"
   ]
  },
  {
   "cell_type": "code",
   "execution_count": null,
   "id": "74417a7d",
   "metadata": {},
   "outputs": [],
   "source": [
    "df"
   ]
  },
  {
   "cell_type": "markdown",
   "id": "d28d9204",
   "metadata": {},
   "source": [
    "# CODE"
   ]
  },
  {
   "cell_type": "code",
   "execution_count": null,
   "id": "e352cb1c",
   "metadata": {},
   "outputs": [],
   "source": [
    "import xml.etree.ElementTree as ET\n",
    "import pandas as pd\n",
    "import warnings\n",
    "warnings.filterwarnings('ignore')\n",
    "\n",
    "tree = ET.parse('Q7_Activity_Report(2022-07-14 00_00_51).xml')\n",
    "root = tree.getroot()\n",
    "x = list(list(root[3])[0])\n",
    "x = [i for i in x if i.tag[-3:] == 'Row']\n",
    "\n",
    "df = pd.DataFrame([],columns=range(10))\n",
    "\n",
    "\n",
    "\n",
    "# for cell in row_data[3]:\n",
    "#     if len(list(cell))!=0:\n",
    "#         for data in cell:\n",
    "#             print(data.text)\n",
    "\n",
    "\n",
    "for k in x:\n",
    "    print(len(list(k)))\n",
    "    if len(list(k))==12:\n",
    "        mydata = []\n",
    "        for i in k:\n",
    "            for j in i:\n",
    "                print(j.text)\n",
    "                if j.text:\n",
    "                    mydata.append(j.text)\n",
    "        df.loc[len(df)] = mydata\n",
    "df.columns = df.iloc[0]\n",
    "df = df[1:]\n",
    "# df.to_csv('final_data.csv')"
   ]
  }
 ],
 "metadata": {
  "kernelspec": {
   "display_name": "Python 3 (ipykernel)",
   "language": "python",
   "name": "python3"
  },
  "language_info": {
   "codemirror_mode": {
    "name": "ipython",
    "version": 3
   },
   "file_extension": ".py",
   "mimetype": "text/x-python",
   "name": "python",
   "nbconvert_exporter": "python",
   "pygments_lexer": "ipython3",
   "version": "3.9.12"
  }
 },
 "nbformat": 4,
 "nbformat_minor": 5
}
