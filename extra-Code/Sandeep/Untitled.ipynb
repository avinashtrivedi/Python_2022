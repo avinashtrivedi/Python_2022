{
 "cells": [
  {
   "cell_type": "code",
   "execution_count": 3,
   "metadata": {},
   "outputs": [
    {
     "name": "stderr",
     "output_type": "stream",
     "text": [
      "[nltk_data] Downloading package benepar_en3 to\n",
      "[nltk_data]     C:\\Users\\avitr\\AppData\\Roaming\\nltk_data...\n",
      "[nltk_data]   Unzipping models\\benepar_en3.zip.\n"
     ]
    },
    {
     "data": {
      "text/plain": [
       "True"
      ]
     },
     "execution_count": 3,
     "metadata": {},
     "output_type": "execute_result"
    }
   ],
   "source": [
    "import os\n",
    "import csv, json\n",
    "import spacy, benepar\n",
    "from tqdm import tqdm\n",
    "import argparse\n",
    "from nltk.tree import Tree\n",
    "import nltk\n",
    "benepar.download('benepar_en3')\n"
   ]
  },
  {
   "cell_type": "code",
   "execution_count": 4,
   "metadata": {},
   "outputs": [],
   "source": [
    "def parse_args():\n",
    "    parser = argparse.ArgumentParser(description='Train a GAN network')\n",
    "    parser.add_argument('--dataset', type=str, help='dataset_name', default='pororo')\n",
    "    parser.add_argument('--data_dir', type=str, help='path to data folder', required=True)\n",
    "    args = parser.parse_args()\n",
    "    return args\n",
    "\n",
    "\n",
    "def tree2dict(tree):\n",
    "    return {tree.label(): {'leaves': tree.leaves(), 'children': [tree2dict(t) if isinstance(t, Tree) else t\n",
    "                                                                 for t in tree]}}\n",
    "\n",
    "def get_parse_tree(caption):\n",
    "    doc = nlp(caption)\n",
    "    sent = list(doc.sents)[0]\n",
    "    tokens = [t.text for t in sent]\n",
    "    t = Tree.fromstring(sent._.parse_string)\n",
    "    d = tree2dict(t)\n",
    "    return d, tokens\n"
   ]
  },
  {
   "cell_type": "code",
   "execution_count": null,
   "metadata": {},
   "outputs": [],
   "source": []
  },
  {
   "cell_type": "code",
   "execution_count": 7,
   "metadata": {},
   "outputs": [
    {
     "name": "stdout",
     "output_type": "stream",
     "text": [
      "Loading parser\n"
     ]
    },
    {
     "name": "stderr",
     "output_type": "stream",
     "text": [
      "usage: ipykernel_launcher.py [-h] [--dataset DATASET] --data_dir DATA_DIR\n",
      "ipykernel_launcher.py: error: the following arguments are required: --data_dir\n"
     ]
    },
    {
     "ename": "SystemExit",
     "evalue": "2",
     "output_type": "error",
     "traceback": [
      "An exception has occurred, use %tb to see the full traceback.\n",
      "\u001b[1;31mSystemExit\u001b[0m\u001b[1;31m:\u001b[0m 2\n"
     ]
    },
    {
     "name": "stderr",
     "output_type": "stream",
     "text": [
      "C:\\Users\\avitr\\anaconda3\\lib\\site-packages\\IPython\\core\\interactiveshell.py:3426: UserWarning: To exit: use 'exit', 'quit', or Ctrl-D.\n",
      "  warn(\"To exit: use 'exit', 'quit', or Ctrl-D.\", stacklevel=1)\n"
     ]
    }
   ],
   "source": [
    "if __name__ == \"__main__\":\n",
    "\n",
    "    print(\"Loading parser\")\n",
    "    nlp = spacy.load('en_core_web_sm')\n",
    "    \n",
    "    if spacy.__version__.startswith('2'):\n",
    "        nlp.add_pipe(benepar.BeneparComponent(\"benepar_en3\"))\n",
    "    else:\n",
    "        nlp.add_pipe(\"benepar\", config={\"model\": \"benepar_en3\"})\n",
    "        \n",
    "#     nlp.add_pipe(benepar.BeneparComponent(\"benepar_en3\"))\n",
    "\n",
    "    args = parse_args()\n",
    "    if args.dataset == 'pororo':\n",
    "\n",
    "        annotations_file = os.path.join(args.data_dir, 'descriptions.csv')\n",
    "        data_dict = {}\n",
    "        with open(annotations_file, 'r') as csv_file:\n",
    "            csv_reader = csv.reader(csv_file, delimiter=',')\n",
    "            count = 0\n",
    "            for i, row in tqdm(enumerate(csv_reader)):\n",
    "                ep, idx, caption = row\n",
    "                if ep not in data_dict:\n",
    "                    data_dict[ep] = {}\n",
    "                if idx not in data_dict[ep]:\n",
    "                    data_dict[ep][idx] = []\n",
    "\n",
    "                d, tokens = get_parse_tree(caption)\n",
    "                data_dict[ep][idx].append({'tokens': tokens, 'tree': d})\n",
    "\n",
    "        n_samples = sum([sum([len(v) for k, v in val.items()]) for key, val in data_dict.items()])\n",
    "        with open(os.path.join(args.data_dir, 'parses.json'), 'w') as f:\n",
    "            json.dump(data_dict, f, indent=2)\n",
    "\n",
    "    else:\n",
    "        raise ValueError"
   ]
  },
  {
   "cell_type": "code",
   "execution_count": null,
   "metadata": {},
   "outputs": [],
   "source": []
  }
 ],
 "metadata": {
  "kernelspec": {
   "display_name": "Python 3",
   "language": "python",
   "name": "python3"
  },
  "language_info": {
   "codemirror_mode": {
    "name": "ipython",
    "version": 3
   },
   "file_extension": ".py",
   "mimetype": "text/x-python",
   "name": "python",
   "nbconvert_exporter": "python",
   "pygments_lexer": "ipython3",
   "version": "3.8.5"
  }
 },
 "nbformat": 4,
 "nbformat_minor": 4
}
