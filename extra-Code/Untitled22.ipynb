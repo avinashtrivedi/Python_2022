{
 "cells": [
  {
   "cell_type": "code",
   "execution_count": 2,
   "id": "43265250",
   "metadata": {},
   "outputs": [],
   "source": [
    "import requests\n",
    "import pandas as pd\n",
    "import warnings\n",
    "warnings.filterwarnings('ignore')\n",
    "\n",
    "def get_data(date,trx):\n",
    "    # store the details\n",
    "    ###############################################################################\n",
    "    API_KEY = 'ZGV2aWNlO2Fwb2xsb246MjgyODBmMzAtMDM3ZS0xMWVkLWI1MzAtZmQ1ZjY4ZDJjYjc4'\n",
    "    transactionId = trx \n",
    "    mydate = date # DD.MM.YYYY\n",
    "    ###############################################################################\n",
    "\n",
    "    url = 'http://82.141.40.200:8080/service/apollon/api/sales?token={}'.format(API_KEY)\n",
    "\n",
    "    # set the parameters\n",
    "    params = dict(transactionId = transactionId,date = mydate)\n",
    "\n",
    "    # make a get request\n",
    "    res = requests.get(url, params=params)\n",
    "\n",
    "    # get the data as dictionary\n",
    "    data = res.json()\n",
    "\n",
    "    # convert dictionary to dataframe\n",
    "    df = pd.DataFrame(data['sales'])\n",
    "\n",
    "    # create transactionId column as first column of dataframe\n",
    "    df.insert(0,'transactionId',data['transactionId'])\n",
    "\n",
    "    return df"
   ]
  },
  {
   "cell_type": "code",
   "execution_count": null,
   "id": "684040ca",
   "metadata": {},
   "outputs": [],
   "source": [
    "1600000000  20.07.2022"
   ]
  },
  {
   "cell_type": "code",
   "execution_count": 3,
   "id": "12f1b1d5",
   "metadata": {},
   "outputs": [],
   "source": [
    "import pandas as pd\n",
    "r = pd.date_range(start='20/07/2022', end='26/07/2022',freq='D')\n",
    "list_dates = r.format(formatter=lambda x: x.strftime('%d.%m.%Y'))"
   ]
  },
  {
   "cell_type": "code",
   "execution_count": 4,
   "id": "756aa982",
   "metadata": {},
   "outputs": [
    {
     "data": {
      "text/plain": [
       "['20.07.2022',\n",
       " '21.07.2022',\n",
       " '22.07.2022',\n",
       " '23.07.2022',\n",
       " '24.07.2022',\n",
       " '25.07.2022',\n",
       " '26.07.2022']"
      ]
     },
     "execution_count": 4,
     "metadata": {},
     "output_type": "execute_result"
    }
   ],
   "source": [
    "list_dates"
   ]
  },
  {
   "cell_type": "code",
   "execution_count": 6,
   "id": "fcd62692",
   "metadata": {},
   "outputs": [
    {
     "name": "stderr",
     "output_type": "stream",
     "text": [
      "100%|█████████████████████████████████████████████████████████████████████████████████| 7/7 [01:39<00:00, 14.15s/it]\n"
     ]
    }
   ],
   "source": [
    "list_data = []\n",
    "from tqdm import tqdm\n",
    "for date in tqdm(list_dates):\n",
    "    list_data.append(get_data(date,1600000000))"
   ]
  },
  {
   "cell_type": "code",
   "execution_count": 7,
   "id": "1b2afc00",
   "metadata": {},
   "outputs": [
    {
     "data": {
      "text/plain": [
       "7"
      ]
     },
     "execution_count": 7,
     "metadata": {},
     "output_type": "execute_result"
    }
   ],
   "source": [
    "len(list_data)"
   ]
  },
  {
   "cell_type": "code",
   "execution_count": 12,
   "id": "34d02e23",
   "metadata": {},
   "outputs": [],
   "source": [
    "df_all = pd.concat(list_data)"
   ]
  },
  {
   "cell_type": "code",
   "execution_count": 13,
   "id": "9a1e60e9",
   "metadata": {},
   "outputs": [
    {
     "data": {
      "text/html": [
       "<div>\n",
       "<style scoped>\n",
       "    .dataframe tbody tr th:only-of-type {\n",
       "        vertical-align: middle;\n",
       "    }\n",
       "\n",
       "    .dataframe tbody tr th {\n",
       "        vertical-align: top;\n",
       "    }\n",
       "\n",
       "    .dataframe thead th {\n",
       "        text-align: right;\n",
       "    }\n",
       "</style>\n",
       "<table border=\"1\" class=\"dataframe\">\n",
       "  <thead>\n",
       "    <tr style=\"text-align: right;\">\n",
       "      <th></th>\n",
       "      <th>transactionId</th>\n",
       "      <th>branch</th>\n",
       "      <th>date</th>\n",
       "      <th>time</th>\n",
       "      <th>articleId</th>\n",
       "      <th>size</th>\n",
       "      <th>amount</th>\n",
       "      <th>price</th>\n",
       "      <th>persNumber</th>\n",
       "      <th>custNumber</th>\n",
       "    </tr>\n",
       "  </thead>\n",
       "  <tbody>\n",
       "    <tr>\n",
       "      <th>0</th>\n",
       "      <td>1658836536</td>\n",
       "      <td>95</td>\n",
       "      <td>20220720</td>\n",
       "      <td>0</td>\n",
       "      <td>162901</td>\n",
       "      <td>1</td>\n",
       "      <td>1</td>\n",
       "      <td>1290</td>\n",
       "      <td>2049</td>\n",
       "      <td>0</td>\n",
       "    </tr>\n",
       "    <tr>\n",
       "      <th>1</th>\n",
       "      <td>1658836536</td>\n",
       "      <td>95</td>\n",
       "      <td>20220720</td>\n",
       "      <td>0</td>\n",
       "      <td>167429</td>\n",
       "      <td>1</td>\n",
       "      <td>1</td>\n",
       "      <td>1290</td>\n",
       "      <td>2049</td>\n",
       "      <td>0</td>\n",
       "    </tr>\n",
       "    <tr>\n",
       "      <th>2</th>\n",
       "      <td>1658836536</td>\n",
       "      <td>95</td>\n",
       "      <td>20220720</td>\n",
       "      <td>0</td>\n",
       "      <td>162900</td>\n",
       "      <td>1</td>\n",
       "      <td>1</td>\n",
       "      <td>1690</td>\n",
       "      <td>2049</td>\n",
       "      <td>0</td>\n",
       "    </tr>\n",
       "    <tr>\n",
       "      <th>3</th>\n",
       "      <td>1658836536</td>\n",
       "      <td>101</td>\n",
       "      <td>20220720</td>\n",
       "      <td>930</td>\n",
       "      <td>165998</td>\n",
       "      <td>1</td>\n",
       "      <td>1</td>\n",
       "      <td>950</td>\n",
       "      <td>2977</td>\n",
       "      <td>0</td>\n",
       "    </tr>\n",
       "    <tr>\n",
       "      <th>4</th>\n",
       "      <td>1658836536</td>\n",
       "      <td>101</td>\n",
       "      <td>20220720</td>\n",
       "      <td>1349</td>\n",
       "      <td>125138</td>\n",
       "      <td>1</td>\n",
       "      <td>1</td>\n",
       "      <td>465</td>\n",
       "      <td>929</td>\n",
       "      <td>248254</td>\n",
       "    </tr>\n",
       "    <tr>\n",
       "      <th>...</th>\n",
       "      <td>...</td>\n",
       "      <td>...</td>\n",
       "      <td>...</td>\n",
       "      <td>...</td>\n",
       "      <td>...</td>\n",
       "      <td>...</td>\n",
       "      <td>...</td>\n",
       "      <td>...</td>\n",
       "      <td>...</td>\n",
       "      <td>...</td>\n",
       "    </tr>\n",
       "    <tr>\n",
       "      <th>998</th>\n",
       "      <td>1658836607</td>\n",
       "      <td>107</td>\n",
       "      <td>20220726</td>\n",
       "      <td>1105</td>\n",
       "      <td>169602</td>\n",
       "      <td>853</td>\n",
       "      <td>1</td>\n",
       "      <td>1235</td>\n",
       "      <td>2763</td>\n",
       "      <td>94225</td>\n",
       "    </tr>\n",
       "    <tr>\n",
       "      <th>999</th>\n",
       "      <td>1658836607</td>\n",
       "      <td>107</td>\n",
       "      <td>20220726</td>\n",
       "      <td>1105</td>\n",
       "      <td>169602</td>\n",
       "      <td>853</td>\n",
       "      <td>1</td>\n",
       "      <td>1235</td>\n",
       "      <td>2763</td>\n",
       "      <td>94225</td>\n",
       "    </tr>\n",
       "    <tr>\n",
       "      <th>1000</th>\n",
       "      <td>1658836607</td>\n",
       "      <td>107</td>\n",
       "      <td>20220726</td>\n",
       "      <td>1105</td>\n",
       "      <td>169602</td>\n",
       "      <td>853</td>\n",
       "      <td>1</td>\n",
       "      <td>1235</td>\n",
       "      <td>2763</td>\n",
       "      <td>94225</td>\n",
       "    </tr>\n",
       "    <tr>\n",
       "      <th>1001</th>\n",
       "      <td>1658836607</td>\n",
       "      <td>107</td>\n",
       "      <td>20220726</td>\n",
       "      <td>1105</td>\n",
       "      <td>169602</td>\n",
       "      <td>853</td>\n",
       "      <td>1</td>\n",
       "      <td>1235</td>\n",
       "      <td>2763</td>\n",
       "      <td>94225</td>\n",
       "    </tr>\n",
       "    <tr>\n",
       "      <th>1002</th>\n",
       "      <td>1658836607</td>\n",
       "      <td>107</td>\n",
       "      <td>20220726</td>\n",
       "      <td>1105</td>\n",
       "      <td>169602</td>\n",
       "      <td>853</td>\n",
       "      <td>1</td>\n",
       "      <td>1235</td>\n",
       "      <td>2763</td>\n",
       "      <td>94225</td>\n",
       "    </tr>\n",
       "  </tbody>\n",
       "</table>\n",
       "<p>8125 rows × 10 columns</p>\n",
       "</div>"
      ],
      "text/plain": [
       "      transactionId  branch      date  time  articleId  size  amount  price  \\\n",
       "0        1658836536      95  20220720     0     162901     1       1   1290   \n",
       "1        1658836536      95  20220720     0     167429     1       1   1290   \n",
       "2        1658836536      95  20220720     0     162900     1       1   1690   \n",
       "3        1658836536     101  20220720   930     165998     1       1    950   \n",
       "4        1658836536     101  20220720  1349     125138     1       1    465   \n",
       "...             ...     ...       ...   ...        ...   ...     ...    ...   \n",
       "998      1658836607     107  20220726  1105     169602   853       1   1235   \n",
       "999      1658836607     107  20220726  1105     169602   853       1   1235   \n",
       "1000     1658836607     107  20220726  1105     169602   853       1   1235   \n",
       "1001     1658836607     107  20220726  1105     169602   853       1   1235   \n",
       "1002     1658836607     107  20220726  1105     169602   853       1   1235   \n",
       "\n",
       "      persNumber  custNumber  \n",
       "0           2049           0  \n",
       "1           2049           0  \n",
       "2           2049           0  \n",
       "3           2977           0  \n",
       "4            929      248254  \n",
       "...          ...         ...  \n",
       "998         2763       94225  \n",
       "999         2763       94225  \n",
       "1000        2763       94225  \n",
       "1001        2763       94225  \n",
       "1002        2763       94225  \n",
       "\n",
       "[8125 rows x 10 columns]"
      ]
     },
     "execution_count": 13,
     "metadata": {},
     "output_type": "execute_result"
    }
   ],
   "source": [
    "df_all"
   ]
  },
  {
   "cell_type": "code",
   "execution_count": 15,
   "id": "7eda8a0b",
   "metadata": {},
   "outputs": [
    {
     "data": {
      "text/plain": [
       "array([20220720, 20220721, 20220722, 20220723, 20220724, 20220725,\n",
       "       20220726], dtype=int64)"
      ]
     },
     "execution_count": 15,
     "metadata": {},
     "output_type": "execute_result"
    }
   ],
   "source": [
    "df_all['date'].unique()"
   ]
  },
  {
   "cell_type": "code",
   "execution_count": null,
   "id": "a500b550",
   "metadata": {},
   "outputs": [],
   "source": []
  }
 ],
 "metadata": {
  "kernelspec": {
   "display_name": "Python 3 (ipykernel)",
   "language": "python",
   "name": "python3"
  },
  "language_info": {
   "codemirror_mode": {
    "name": "ipython",
    "version": 3
   },
   "file_extension": ".py",
   "mimetype": "text/x-python",
   "name": "python",
   "nbconvert_exporter": "python",
   "pygments_lexer": "ipython3",
   "version": "3.9.12"
  }
 },
 "nbformat": 4,
 "nbformat_minor": 5
}
