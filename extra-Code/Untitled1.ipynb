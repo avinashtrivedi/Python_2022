{
 "cells": [
  {
   "cell_type": "code",
   "execution_count": null,
   "metadata": {},
   "outputs": [],
   "source": [
    "def max_unique(lst):\n",
    "    \"\"\"Returns the largest element of a list that appears only once\"\"\"\n",
    "    #\n",
    "    res = lst[0]\n",
    "    max = 0\n",
    "    # Do XOR of all elements and return\n",
    "    for i in lst:\n",
    "        if(lst[i] > max):\n",
    "            max = lst[i]\n",
    "     \n",
    "    return max\n",
    "    \n",
    "def main():\n",
    "    lst = [9, 0, 1, 2, 5, 8, 6, 7, 5, 3, 0, 9]\n",
    "    print(max_unique(lst))\n",
    "    \n",
    "if __name__ == '__main__':\n",
    "    main()"
   ]
  }
 ],
 "metadata": {
  "kernelspec": {
   "display_name": "Python 3",
   "language": "python",
   "name": "python3"
  }
 },
 "nbformat": 4,
 "nbformat_minor": 4
}
