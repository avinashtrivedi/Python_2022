{
 "cells": [
  {
   "cell_type": "code",
   "execution_count": 1,
   "id": "0c56b042",
   "metadata": {},
   "outputs": [
    {
     "name": "stdout",
     "output_type": "stream",
     "text": [
      "Aeneandnjkaebdfhjbfjgvyeyfvhfvyshfvjhbsjhfvsjdb\n",
      "ullamcorperksnjkdfjsfjbsfjhsbfjhhsbf\n",
      "Namkdnjjhfejsbffbsfbsdkfbsfbshfjsbfjfbhjef\n"
     ]
    }
   ],
   "source": [
    "import pandas as pd\n",
    "def characterCount():\n",
    "    with open(\"ww.txt\") as fp:\n",
    "        data = fp.readlines()\n",
    "    \n",
    "    df = pd.DataFrame([])\n",
    "    df['text'] = data\n",
    "    df['text'] = df['text'].apply(lambda x:x.strip())\n",
    "    x = df[df['text'].apply(lambda x: True if len(x.strip())>20 else False)]\n",
    "    print(*list(x['text']),sep='\\n')\n",
    "characterCount()  "
   ]
  },
  {
   "cell_type": "code",
   "execution_count": 2,
   "id": "216d83e2",
   "metadata": {},
   "outputs": [
    {
     "name": "stdout",
     "output_type": "stream",
     "text": [
      "Aeneandnjkaebdfhjbfjgvyeyfvhfvyshfvjhbsjhfvsjdb\n",
      "ullamcorperksnjkdfjsfjbsfjhsbfjhhsbf\n",
      "Namkdnjjhfejsbffbsfbsdkfbsfbshfjsbfjfbhjef\n"
     ]
    }
   ],
   "source": [
    "import pandas as pd\n",
    "def characterCount():\n",
    "    with open(\"ww.txt\") as fp:\n",
    "        data = fp.readlines()\n",
    "        data = list(map(lambda x: x.strip(),data))\n",
    "        x = list(filter(lambda x: True if len(x)>20 else False,data))\n",
    "        print(*x,sep='\\n')\n",
    "characterCount() "
   ]
  },
  {
   "cell_type": "code",
   "execution_count": null,
   "id": "9abc367f",
   "metadata": {},
   "outputs": [],
   "source": []
  }
 ],
 "metadata": {
  "kernelspec": {
   "display_name": "Python 3 (ipykernel)",
   "language": "python",
   "name": "python3"
  },
  "language_info": {
   "codemirror_mode": {
    "name": "ipython",
    "version": 3
   },
   "file_extension": ".py",
   "mimetype": "text/x-python",
   "name": "python",
   "nbconvert_exporter": "python",
   "pygments_lexer": "ipython3",
   "version": "3.8.5"
  }
 },
 "nbformat": 4,
 "nbformat_minor": 5
}
