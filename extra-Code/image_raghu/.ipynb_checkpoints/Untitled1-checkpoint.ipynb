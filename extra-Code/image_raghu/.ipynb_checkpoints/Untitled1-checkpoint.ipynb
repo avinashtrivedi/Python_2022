{
 "cells": [
  {
   "cell_type": "code",
   "execution_count": null,
   "metadata": {},
   "outputs": [],
   "source": [
    "import requests\n",
    "import json\n",
    "#need to put the size limit, otherwise he delivers me less:\n",
    "headers = {'Accept': 'application/json', 'Content-Type': 'application/json'}\n",
    "size = 1000\n",
    "payload = '{\"sort\":[{\"_id\":\"asc\"}],\"query\":{\"match_all\":{}},\"size\":'+str(size)+'}'\n",
    "\n",
    "response_API = requests.post('https://recruitment.aimtechnologies.co/ai-tasks' , data=payload, headers=headers)\n",
    "print(response_API.status_code)\n",
    "response_dict = response_API.json()\n",
    "res = response_API.json()\n",
    "print(json.dumps(res, indent=4))"
   ]
  }
 ],
 "metadata": {
  "kernelspec": {
   "display_name": "Python 3",
   "language": "python",
   "name": "python3"
  },
  "language_info": {
   "codemirror_mode": {
    "name": "ipython",
    "version": 3
   },
   "file_extension": ".py",
   "mimetype": "text/x-python",
   "name": "python",
   "nbconvert_exporter": "python",
   "pygments_lexer": "ipython3",
   "version": "3.8.5"
  }
 },
 "nbformat": 4,
 "nbformat_minor": 4
}
