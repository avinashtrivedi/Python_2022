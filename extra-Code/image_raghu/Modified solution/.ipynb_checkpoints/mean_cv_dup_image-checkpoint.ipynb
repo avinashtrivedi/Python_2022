{
 "cells": [
  {
   "cell_type": "code",
   "execution_count": 1,
   "metadata": {
    "id": "pSg083LRkcs8"
   },
   "outputs": [],
   "source": [
    "import os\n",
    "import cv2\n",
    "from os import listdir\n",
    "from os.path import isdir\n",
    "import numpy as np\n",
    "image_main_folder = 'dataset/'"
   ]
  },
  {
   "cell_type": "code",
   "execution_count": 2,
   "metadata": {
    "id": "La8Q0C9ZksQF"
   },
   "outputs": [],
   "source": [
    "image_folder = listdir(image_main_folder)\n",
    "\n",
    "# image_files = [i for i in os.listdir() if _.endswith('jpg')]\n",
    "\n",
    "list_of_image = [os.listdir(os.path.join(image_main_folder,folder)) for folder in image_folder]"
   ]
  },
  {
   "cell_type": "code",
   "execution_count": 3,
   "metadata": {
    "id": "lXmt8Z8XlPd4"
   },
   "outputs": [],
   "source": [
    "def mean_duplicate(image_files,image_folder):\n",
    "  \n",
    "    duplicate_files = []\n",
    "    faceCascade = cv2.CascadeClassifier(cv2.data.haarcascades + \"haarcascade_frontalface_default.xml\")\n",
    "    for file_org in image_files:\n",
    "        if not file_org in duplicate_files:\n",
    "            image_org = cv2.imread(os.path.join(image_folder,file_org))\n",
    "            gray = cv2.cvtColor(image_org, cv2.COLOR_BGR2GRAY)\n",
    "            faces = faceCascade.detectMultiScale(\n",
    "              gray,\n",
    "              scaleFactor=1.3,\n",
    "              minNeighbors=3,\n",
    "              minSize=(30, 30)\n",
    "            )\n",
    "            for (x, y, w, h) in faces:\n",
    "                cv2.rectangle(image_org, (x, y), (x + w, y + h), (255, 0, 0), 2)\n",
    "            im1 = image_org[y:y + h, x:x + w]\n",
    "            #cv2.imwrite(str(w) + str(h) + '_faces.jpg', im1)\n",
    "            #cv2.imshow('Img', im1)\n",
    "            #cv2.waitKey(0)\n",
    "            pix_mean1=cv2.mean(im1,mask=None)\n",
    "            for file_check in image_files:\n",
    "                if file_check != file_org:\n",
    "                    image_check = cv2.imread(os.path.join(image_folder, file_check))\n",
    "                    gray_check = cv2.cvtColor(image_org, cv2.COLOR_BGR2GRAY)\n",
    "                    faces_check = faceCascade.detectMultiScale(\n",
    "                      gray_check,\n",
    "                      scaleFactor=1.3,\n",
    "                      minNeighbors=3,\n",
    "                      minSize=(30, 30)\n",
    "                    )\n",
    "                    for (x1, y1, w1, h1) in faces_check:\n",
    "                        cv2.rectangle(image_check, (x1, y1), (x1 + w1, y1 + h1), (255, 0, 0), 2)\n",
    "                    im1_check = image_check[y1:y1 + h1, x1:x1 + w1]\n",
    "                    # cv2.imwrite(str(w) + str(h) + '_faces.jpg', im1)\n",
    "                    #cv2.imshow('Img', im1_check)\n",
    "                    #cv2.waitKey(0)\n",
    "                    pix_mean2 = cv2.mean(im1_check,mask=None)\n",
    "                    p1=np.mean(pix_mean1)\n",
    "                    p2=np.mean(pix_mean2)\n",
    "                    ab=abs(p1-p2)\n",
    "                    if ab <= 0.5:\n",
    "                        duplicate_files.append((file_org))\n",
    "                        duplicate_files.append((file_check))\n",
    "                        image_duplic = cv2.imread(os.path.join(image_folder, file_org))\n",
    "                        # cv2_imshow(image_duplic)\n",
    "                        cv2.waitKey(0)\n",
    "    return set(duplicate_files)"
   ]
  },
  {
   "cell_type": "code",
   "execution_count": 4,
   "metadata": {
    "id": "gVgSO9oTnIT2"
   },
   "outputs": [],
   "source": [
    "result = []\n",
    "for folder , image in zip(image_folder,list_of_image):\n",
    "    result.append((folder,mean_duplicate(image,os.path.join(image_main_folder,folder))))"
   ]
  },
  {
   "cell_type": "code",
   "execution_count": 5,
   "metadata": {
    "colab": {
     "base_uri": "https://localhost:8080/"
    },
    "id": "STZmjdKZuFNG",
    "outputId": "a2d953cf-dc61-415a-c8be-db30116dfd59"
   },
   "outputs": [
    {
     "data": {
      "text/plain": [
       "[('ben_afflek', {'train_ben_afflek (10).jpg', 'train_ben_afflek (12).jpg'}),\n",
       " ('elton_john', set()),\n",
       " ('jerry_seinfeld', set()),\n",
       " ('madonna',\n",
       "  {'train_madonna (12).jpg',\n",
       "   'train_madonna (17).jpg',\n",
       "   'train_madonna (19).jpg',\n",
       "   'train_madonna (6).jpg'}),\n",
       " ('mindy_kaling',\n",
       "  {'train_mindy_kaling (11).jpg',\n",
       "   'train_mindy_kaling (12).jpg',\n",
       "   'train_mindy_kaling (15).jpg',\n",
       "   'train_mindy_kaling (16).jpg',\n",
       "   'train_mindy_kaling (17).jpg',\n",
       "   'train_mindy_kaling (18).jpg',\n",
       "   'train_mindy_kaling (2).jpg',\n",
       "   'train_mindy_kaling (20).jpg',\n",
       "   'train_mindy_kaling (21).jpg',\n",
       "   'train_mindy_kaling (4).jpg',\n",
       "   'train_mindy_kaling (5).jpg',\n",
       "   'train_mindy_kaling (6).jpg',\n",
       "   'train_mindy_kaling (7).jpg',\n",
       "   'train_mindy_kaling (9).jpg'})]"
      ]
     },
     "execution_count": 5,
     "metadata": {},
     "output_type": "execute_result"
    }
   ],
   "source": [
    "result"
   ]
  },
  {
   "cell_type": "code",
   "execution_count": 6,
   "metadata": {
    "colab": {
     "base_uri": "https://localhost:8080/"
    },
    "id": "eYWo4mWsvqRT",
    "outputId": "3615b3be-3af1-4191-a5ee-3f67f4950600"
   },
   "outputs": [
    {
     "name": "stdout",
     "output_type": "stream",
     "text": [
      "ben_afflek :- count of duplicate:-  2\n",
      "elton_john :- count of duplicate:-  0\n",
      "jerry_seinfeld :- count of duplicate:-  0\n",
      "madonna :- count of duplicate:-  4\n",
      "mindy_kaling :- count of duplicate:-  14\n"
     ]
    }
   ],
   "source": [
    "for i in result:\n",
    "    print(i[0],':- count of duplicate:- ',len(i[1]))"
   ]
  },
  {
   "cell_type": "code",
   "execution_count": null,
   "metadata": {
    "id": "xio9mCXlwSOK"
   },
   "outputs": [],
   "source": []
  }
 ],
 "metadata": {
  "colab": {
   "collapsed_sections": [],
   "name": "mean_cv_dup_image.ipynb",
   "provenance": []
  },
  "kernelspec": {
   "display_name": "Python 3",
   "language": "python",
   "name": "python3"
  },
  "language_info": {
   "codemirror_mode": {
    "name": "ipython",
    "version": 3
   },
   "file_extension": ".py",
   "mimetype": "text/x-python",
   "name": "python",
   "nbconvert_exporter": "python",
   "pygments_lexer": "ipython3",
   "version": "3.8.5"
  }
 },
 "nbformat": 4,
 "nbformat_minor": 1
}
