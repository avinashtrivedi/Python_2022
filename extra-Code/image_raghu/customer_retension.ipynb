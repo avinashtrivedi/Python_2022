{
 "cells": [
  {
   "cell_type": "code",
   "execution_count": 1,
   "id": "032ba56a",
   "metadata": {},
   "outputs": [],
   "source": [
    "import pandas as pd\n",
    "import numpy as np\n",
    "pd.set_option('display.max_rows', 500)\n",
    "pd.set_option('display.max_columns', 500)\n",
    "pd.set_option('display.width', 1000)"
   ]
  },
  {
   "cell_type": "code",
   "execution_count": 2,
   "id": "c8e02836",
   "metadata": {},
   "outputs": [],
   "source": [
    "df = pd.read_excel('New-dataset.xlsx')"
   ]
  },
  {
   "cell_type": "code",
   "execution_count": 3,
   "id": "0382c51f",
   "metadata": {},
   "outputs": [],
   "source": [
    "col = ['Created Month','Date of Purchase','Lead ID','Lead Converted On','Lead Created On','Converted Month',\n",
    "'Converted Year','Date of Birth','CIF No','Assign To Code','Appointment Date','Created by Code']"
   ]
  },
  {
   "cell_type": "code",
   "execution_count": 4,
   "id": "4c8ae109",
   "metadata": {},
   "outputs": [],
   "source": [
    "data = df.copy()"
   ]
  },
  {
   "cell_type": "code",
   "execution_count": 5,
   "id": "35d0c21f",
   "metadata": {},
   "outputs": [],
   "source": [
    "df.drop(col,axis=1,inplace=True)"
   ]
  },
  {
   "cell_type": "code",
   "execution_count": 6,
   "id": "c258c86e",
   "metadata": {},
   "outputs": [],
   "source": [
    "df.drop(['Purpose of Category','Disbursed Amount','Converted Month No'],axis=1,inplace=True)"
   ]
  },
  {
   "cell_type": "code",
   "execution_count": 7,
   "id": "faa1cc9c",
   "metadata": {},
   "outputs": [],
   "source": [
    "df.drop(['Existing Customer','Created Month No','Created Year'],axis=1,inplace=True)"
   ]
  },
  {
   "cell_type": "code",
   "execution_count": 8,
   "id": "524ea385",
   "metadata": {},
   "outputs": [
    {
     "data": {
      "text/plain": [
       "Qualification             5\n",
       "Corporate                 2\n",
       "Lead Rating               4\n",
       "Lead Product             20\n",
       "Age                      77\n",
       "Gender                    2\n",
       "Branch Code            4154\n",
       "Time In Status Code       4\n",
       "Zone                     13\n",
       "Lead Source              14\n",
       "Medium                  112\n",
       "Region Code              80\n",
       "Lead Owner             3939\n",
       "Occupation               19\n",
       "Branch                 4155\n",
       "Marital Status            2\n",
       "Lead Status Code         16\n",
       "Lead Amount            2000\n",
       "dtype: int64"
      ]
     },
     "execution_count": 8,
     "metadata": {},
     "output_type": "execute_result"
    }
   ],
   "source": [
    "df.nunique()"
   ]
  },
  {
   "cell_type": "code",
   "execution_count": 9,
   "id": "173809fd",
   "metadata": {},
   "outputs": [],
   "source": [
    "import pandas as pd\n",
    "from sklearn.metrics import (\n",
    "    accuracy_score, confusion_matrix, classification_report\n",
    ")\n",
    "from sklearn.preprocessing import OrdinalEncoder, OneHotEncoder\n",
    "from sklearn.preprocessing import StandardScaler\n",
    "\n",
    "from sklearn.impute import KNNImputer\n",
    "from sklearn.pipeline import Pipeline\n",
    "from sklearn.compose import ColumnTransformer"
   ]
  },
  {
   "cell_type": "code",
   "execution_count": 10,
   "id": "918cf0ca",
   "metadata": {},
   "outputs": [
    {
     "data": {
      "text/html": [
       "<div>\n",
       "<style scoped>\n",
       "    .dataframe tbody tr th:only-of-type {\n",
       "        vertical-align: middle;\n",
       "    }\n",
       "\n",
       "    .dataframe tbody tr th {\n",
       "        vertical-align: top;\n",
       "    }\n",
       "\n",
       "    .dataframe thead th {\n",
       "        text-align: right;\n",
       "    }\n",
       "</style>\n",
       "<table border=\"1\" class=\"dataframe\">\n",
       "  <thead>\n",
       "    <tr style=\"text-align: right;\">\n",
       "      <th></th>\n",
       "      <th>0</th>\n",
       "      <th>1</th>\n",
       "      <th>2</th>\n",
       "      <th>3</th>\n",
       "      <th>4</th>\n",
       "    </tr>\n",
       "  </thead>\n",
       "  <tbody>\n",
       "    <tr>\n",
       "      <th>Qualification</th>\n",
       "      <td>Graduate</td>\n",
       "      <td>Graduate</td>\n",
       "      <td>Graduate</td>\n",
       "      <td>Graduate</td>\n",
       "      <td>Graduate</td>\n",
       "    </tr>\n",
       "    <tr>\n",
       "      <th>Corporate</th>\n",
       "      <td>NORTH</td>\n",
       "      <td>NORTH</td>\n",
       "      <td>SOUTH</td>\n",
       "      <td>SOUTH</td>\n",
       "      <td>SOUTH</td>\n",
       "    </tr>\n",
       "    <tr>\n",
       "      <th>Lead Rating</th>\n",
       "      <td>Hot</td>\n",
       "      <td>Hot</td>\n",
       "      <td>Cold</td>\n",
       "      <td>Hot</td>\n",
       "      <td>Hot</td>\n",
       "    </tr>\n",
       "    <tr>\n",
       "      <th>Lead Product</th>\n",
       "      <td>Mutual Fund</td>\n",
       "      <td>Mutual Fund</td>\n",
       "      <td>Mutual Fund</td>\n",
       "      <td>Mutual Fund</td>\n",
       "      <td>Mutual Fund</td>\n",
       "    </tr>\n",
       "    <tr>\n",
       "      <th>Age</th>\n",
       "      <td>44.0</td>\n",
       "      <td>31.0</td>\n",
       "      <td>36.0</td>\n",
       "      <td>29.0</td>\n",
       "      <td>30.0</td>\n",
       "    </tr>\n",
       "    <tr>\n",
       "      <th>Gender</th>\n",
       "      <td>Male</td>\n",
       "      <td>Female</td>\n",
       "      <td>Female</td>\n",
       "      <td>Male</td>\n",
       "      <td>Male</td>\n",
       "    </tr>\n",
       "    <tr>\n",
       "      <th>Branch Code</th>\n",
       "      <td>328</td>\n",
       "      <td>4239</td>\n",
       "      <td>2988</td>\n",
       "      <td>4887</td>\n",
       "      <td>467</td>\n",
       "    </tr>\n",
       "    <tr>\n",
       "      <th>Time In Status Code</th>\n",
       "      <td>85</td>\n",
       "      <td>84</td>\n",
       "      <td>87</td>\n",
       "      <td>87</td>\n",
       "      <td>87</td>\n",
       "    </tr>\n",
       "    <tr>\n",
       "      <th>Zone</th>\n",
       "      <td>DELHI</td>\n",
       "      <td>WEST</td>\n",
       "      <td>TELANGANA-ANDHRA</td>\n",
       "      <td>KARNATAKA</td>\n",
       "      <td>TAMILNADU SOUTH</td>\n",
       "    </tr>\n",
       "    <tr>\n",
       "      <th>Lead Source</th>\n",
       "      <td>Walk-in</td>\n",
       "      <td>Walk-in</td>\n",
       "      <td>Walk-in</td>\n",
       "      <td>Marketing Activity</td>\n",
       "      <td>Marketing Activity</td>\n",
       "    </tr>\n",
       "    <tr>\n",
       "      <th>Medium</th>\n",
       "      <td>Bit Notices</td>\n",
       "      <td>Banner</td>\n",
       "      <td>Bit Notices</td>\n",
       "      <td>Branch Activation</td>\n",
       "      <td>Bit Notices</td>\n",
       "    </tr>\n",
       "    <tr>\n",
       "      <th>Region Code</th>\n",
       "      <td>DELHI EAST</td>\n",
       "      <td>MUMBAI MAIN</td>\n",
       "      <td>HYDERABAD</td>\n",
       "      <td>MANGALORE</td>\n",
       "      <td>MADURAI</td>\n",
       "    </tr>\n",
       "    <tr>\n",
       "      <th>Lead Owner</th>\n",
       "      <td>TALIB</td>\n",
       "      <td>GUPTA</td>\n",
       "      <td>REDDY</td>\n",
       "      <td>M</td>\n",
       "      <td>VIJAYAKUMAR</td>\n",
       "    </tr>\n",
       "    <tr>\n",
       "      <th>Occupation</th>\n",
       "      <td>Business</td>\n",
       "      <td>Business</td>\n",
       "      <td>House Wife</td>\n",
       "      <td>Salaried</td>\n",
       "      <td>Salaried</td>\n",
       "    </tr>\n",
       "    <tr>\n",
       "      <th>Branch</th>\n",
       "      <td>DELHI-RISHAB VIHAR</td>\n",
       "      <td>MUMBAI-VASAI (E)</td>\n",
       "      <td>HYDERABAD-SAIDABAD</td>\n",
       "      <td>GOPALA (KA)</td>\n",
       "      <td>PERAIYUR</td>\n",
       "    </tr>\n",
       "    <tr>\n",
       "      <th>Marital Status</th>\n",
       "      <td>Married</td>\n",
       "      <td>Married</td>\n",
       "      <td>Married</td>\n",
       "      <td>Married</td>\n",
       "      <td>Married</td>\n",
       "    </tr>\n",
       "    <tr>\n",
       "      <th>Lead Status Code</th>\n",
       "      <td>Disbursed</td>\n",
       "      <td>Disbursed</td>\n",
       "      <td>Disbursed</td>\n",
       "      <td>Disbursed</td>\n",
       "      <td>Disbursed</td>\n",
       "    </tr>\n",
       "    <tr>\n",
       "      <th>Lead Amount</th>\n",
       "      <td>5000.0</td>\n",
       "      <td>2000.0</td>\n",
       "      <td>2000.0</td>\n",
       "      <td>2000.0</td>\n",
       "      <td>2000.0</td>\n",
       "    </tr>\n",
       "  </tbody>\n",
       "</table>\n",
       "</div>"
      ],
      "text/plain": [
       "                                      0                 1                   2                   3                   4\n",
       "Qualification                  Graduate          Graduate            Graduate            Graduate            Graduate\n",
       "Corporate                         NORTH             NORTH               SOUTH               SOUTH               SOUTH\n",
       "Lead Rating                         Hot               Hot                Cold                 Hot                 Hot\n",
       "Lead Product                Mutual Fund       Mutual Fund         Mutual Fund         Mutual Fund         Mutual Fund\n",
       "Age                                44.0              31.0                36.0                29.0                30.0\n",
       "Gender                             Male            Female              Female                Male                Male\n",
       "Branch Code                         328              4239                2988                4887                 467\n",
       "Time In Status Code                  85                84                  87                  87                  87\n",
       "Zone                              DELHI              WEST    TELANGANA-ANDHRA           KARNATAKA     TAMILNADU SOUTH\n",
       "Lead Source                     Walk-in           Walk-in             Walk-in  Marketing Activity  Marketing Activity\n",
       "Medium                      Bit Notices            Banner         Bit Notices   Branch Activation         Bit Notices\n",
       "Region Code                  DELHI EAST       MUMBAI MAIN           HYDERABAD           MANGALORE             MADURAI\n",
       "Lead Owner                        TALIB             GUPTA               REDDY                   M         VIJAYAKUMAR\n",
       "Occupation                     Business          Business          House Wife            Salaried            Salaried\n",
       "Branch               DELHI-RISHAB VIHAR  MUMBAI-VASAI (E)  HYDERABAD-SAIDABAD         GOPALA (KA)            PERAIYUR\n",
       "Marital Status                  Married           Married             Married             Married             Married\n",
       "Lead Status Code              Disbursed         Disbursed           Disbursed           Disbursed           Disbursed\n",
       "Lead Amount                      5000.0            2000.0              2000.0              2000.0              2000.0"
      ]
     },
     "execution_count": 10,
     "metadata": {},
     "output_type": "execute_result"
    }
   ],
   "source": [
    "df.head().T"
   ]
  },
  {
   "cell_type": "code",
   "execution_count": 11,
   "id": "f6caa7b2",
   "metadata": {},
   "outputs": [
    {
     "data": {
      "text/plain": [
       "Qualification           object\n",
       "Corporate               object\n",
       "Lead Rating             object\n",
       "Lead Product            object\n",
       "Age                    float64\n",
       "Gender                  object\n",
       "Branch Code              int64\n",
       "Time In Status Code      int64\n",
       "Zone                    object\n",
       "Lead Source             object\n",
       "Medium                  object\n",
       "Region Code             object\n",
       "Lead Owner              object\n",
       "Occupation              object\n",
       "Branch                  object\n",
       "Marital Status          object\n",
       "Lead Status Code        object\n",
       "Lead Amount            float64\n",
       "dtype: object"
      ]
     },
     "execution_count": 11,
     "metadata": {},
     "output_type": "execute_result"
    }
   ],
   "source": [
    "df.dtypes"
   ]
  },
  {
   "cell_type": "code",
   "execution_count": 12,
   "id": "03804942",
   "metadata": {},
   "outputs": [],
   "source": [
    "df.drop(['Branch','Branch Code','Lead Owner'],axis=1,inplace=True)"
   ]
  },
  {
   "cell_type": "code",
   "execution_count": 13,
   "id": "95c30ab2",
   "metadata": {},
   "outputs": [
    {
     "data": {
      "text/html": [
       "<div>\n",
       "<style scoped>\n",
       "    .dataframe tbody tr th:only-of-type {\n",
       "        vertical-align: middle;\n",
       "    }\n",
       "\n",
       "    .dataframe tbody tr th {\n",
       "        vertical-align: top;\n",
       "    }\n",
       "\n",
       "    .dataframe thead th {\n",
       "        text-align: right;\n",
       "    }\n",
       "</style>\n",
       "<table border=\"1\" class=\"dataframe\">\n",
       "  <thead>\n",
       "    <tr style=\"text-align: right;\">\n",
       "      <th></th>\n",
       "      <th>Qualification</th>\n",
       "      <th>Corporate</th>\n",
       "      <th>Lead Rating</th>\n",
       "      <th>Lead Product</th>\n",
       "      <th>Age</th>\n",
       "      <th>Gender</th>\n",
       "      <th>Time In Status Code</th>\n",
       "      <th>Zone</th>\n",
       "      <th>Lead Source</th>\n",
       "      <th>Medium</th>\n",
       "      <th>Region Code</th>\n",
       "      <th>Occupation</th>\n",
       "      <th>Marital Status</th>\n",
       "      <th>Lead Status Code</th>\n",
       "      <th>Lead Amount</th>\n",
       "    </tr>\n",
       "  </thead>\n",
       "  <tbody>\n",
       "    <tr>\n",
       "      <th>0</th>\n",
       "      <td>Graduate</td>\n",
       "      <td>NORTH</td>\n",
       "      <td>Hot</td>\n",
       "      <td>Mutual Fund</td>\n",
       "      <td>44.0</td>\n",
       "      <td>Male</td>\n",
       "      <td>85</td>\n",
       "      <td>DELHI</td>\n",
       "      <td>Walk-in</td>\n",
       "      <td>Bit Notices</td>\n",
       "      <td>DELHI EAST</td>\n",
       "      <td>Business</td>\n",
       "      <td>Married</td>\n",
       "      <td>Disbursed</td>\n",
       "      <td>5000.0</td>\n",
       "    </tr>\n",
       "    <tr>\n",
       "      <th>1</th>\n",
       "      <td>Graduate</td>\n",
       "      <td>NORTH</td>\n",
       "      <td>Hot</td>\n",
       "      <td>Mutual Fund</td>\n",
       "      <td>31.0</td>\n",
       "      <td>Female</td>\n",
       "      <td>84</td>\n",
       "      <td>WEST</td>\n",
       "      <td>Walk-in</td>\n",
       "      <td>Banner</td>\n",
       "      <td>MUMBAI MAIN</td>\n",
       "      <td>Business</td>\n",
       "      <td>Married</td>\n",
       "      <td>Disbursed</td>\n",
       "      <td>2000.0</td>\n",
       "    </tr>\n",
       "    <tr>\n",
       "      <th>2</th>\n",
       "      <td>Graduate</td>\n",
       "      <td>SOUTH</td>\n",
       "      <td>Cold</td>\n",
       "      <td>Mutual Fund</td>\n",
       "      <td>36.0</td>\n",
       "      <td>Female</td>\n",
       "      <td>87</td>\n",
       "      <td>TELANGANA-ANDHRA</td>\n",
       "      <td>Walk-in</td>\n",
       "      <td>Bit Notices</td>\n",
       "      <td>HYDERABAD</td>\n",
       "      <td>House Wife</td>\n",
       "      <td>Married</td>\n",
       "      <td>Disbursed</td>\n",
       "      <td>2000.0</td>\n",
       "    </tr>\n",
       "    <tr>\n",
       "      <th>3</th>\n",
       "      <td>Graduate</td>\n",
       "      <td>SOUTH</td>\n",
       "      <td>Hot</td>\n",
       "      <td>Mutual Fund</td>\n",
       "      <td>29.0</td>\n",
       "      <td>Male</td>\n",
       "      <td>87</td>\n",
       "      <td>KARNATAKA</td>\n",
       "      <td>Marketing Activity</td>\n",
       "      <td>Branch Activation</td>\n",
       "      <td>MANGALORE</td>\n",
       "      <td>Salaried</td>\n",
       "      <td>Married</td>\n",
       "      <td>Disbursed</td>\n",
       "      <td>2000.0</td>\n",
       "    </tr>\n",
       "    <tr>\n",
       "      <th>4</th>\n",
       "      <td>Graduate</td>\n",
       "      <td>SOUTH</td>\n",
       "      <td>Hot</td>\n",
       "      <td>Mutual Fund</td>\n",
       "      <td>30.0</td>\n",
       "      <td>Male</td>\n",
       "      <td>87</td>\n",
       "      <td>TAMILNADU SOUTH</td>\n",
       "      <td>Marketing Activity</td>\n",
       "      <td>Bit Notices</td>\n",
       "      <td>MADURAI</td>\n",
       "      <td>Salaried</td>\n",
       "      <td>Married</td>\n",
       "      <td>Disbursed</td>\n",
       "      <td>2000.0</td>\n",
       "    </tr>\n",
       "  </tbody>\n",
       "</table>\n",
       "</div>"
      ],
      "text/plain": [
       "  Qualification Corporate Lead Rating Lead Product   Age  Gender  Time In Status Code              Zone         Lead Source             Medium  Region Code  Occupation Marital Status Lead Status Code  Lead Amount\n",
       "0      Graduate     NORTH         Hot  Mutual Fund  44.0    Male                   85             DELHI             Walk-in        Bit Notices   DELHI EAST    Business        Married        Disbursed       5000.0\n",
       "1      Graduate     NORTH         Hot  Mutual Fund  31.0  Female                   84              WEST             Walk-in             Banner  MUMBAI MAIN    Business        Married        Disbursed       2000.0\n",
       "2      Graduate     SOUTH        Cold  Mutual Fund  36.0  Female                   87  TELANGANA-ANDHRA             Walk-in        Bit Notices    HYDERABAD  House Wife        Married        Disbursed       2000.0\n",
       "3      Graduate     SOUTH         Hot  Mutual Fund  29.0    Male                   87         KARNATAKA  Marketing Activity  Branch Activation    MANGALORE    Salaried        Married        Disbursed       2000.0\n",
       "4      Graduate     SOUTH         Hot  Mutual Fund  30.0    Male                   87   TAMILNADU SOUTH  Marketing Activity        Bit Notices      MADURAI    Salaried        Married        Disbursed       2000.0"
      ]
     },
     "execution_count": 13,
     "metadata": {},
     "output_type": "execute_result"
    }
   ],
   "source": [
    "df.head()"
   ]
  },
  {
   "cell_type": "code",
   "execution_count": 14,
   "id": "870f8dfe",
   "metadata": {},
   "outputs": [],
   "source": [
    "df['Time In Status Code'] = df['Time In Status Code'].apply(lambda x:str(x))"
   ]
  },
  {
   "cell_type": "code",
   "execution_count": 15,
   "id": "fc408d87",
   "metadata": {},
   "outputs": [],
   "source": [
    "cat_col = set(list(df.select_dtypes(include=['object']))) - set(['Lead Status Code'])"
   ]
  },
  {
   "cell_type": "code",
   "execution_count": 16,
   "id": "ceb4407b",
   "metadata": {},
   "outputs": [],
   "source": [
    "num_col = ['Age','Time In Status Code','Lead Amount']"
   ]
  },
  {
   "cell_type": "code",
   "execution_count": 17,
   "id": "a236d541",
   "metadata": {},
   "outputs": [],
   "source": [
    "df['Lead Status Code'] = np.where(df['Lead Status Code']=='Disbursed',1,0)"
   ]
  },
  {
   "cell_type": "code",
   "execution_count": 18,
   "id": "b956d27d",
   "metadata": {},
   "outputs": [],
   "source": [
    "num_pipeline = Pipeline([\n",
    "        ('imputer', KNNImputer(n_neighbors=5)),\n",
    "        ('std_scaler', StandardScaler()),\n",
    "    ])\n",
    "\n",
    "num_attribs = num_col #list(housing_num)\n",
    "cat_attribs = list(cat_col)\n",
    "\n",
    "# will be applying tranasformer object to the given subset of data\n",
    "# NOTE: e.g., the \"num_pipeline\" transformer object will be applied on the given set of columns\n",
    "full_pipeline = ColumnTransformer([\n",
    "        (\"num\", num_pipeline, num_attribs),\n",
    "        (\"cat\", OneHotEncoder(), cat_attribs),\n",
    "    ])\n",
    "\n",
    " # sending the data through a chain of transformations\n",
    " # NOTE: the final dataset is a 2D numpy array containg all numerical data"
   ]
  },
  {
   "cell_type": "code",
   "execution_count": 19,
   "id": "7da075e3",
   "metadata": {},
   "outputs": [],
   "source": [
    "X = df.drop('Lead Status Code',axis=1)\n",
    "y = df['Lead Status Code']"
   ]
  },
  {
   "cell_type": "code",
   "execution_count": 20,
   "id": "a39bf751",
   "metadata": {},
   "outputs": [],
   "source": [
    "X = full_pipeline.fit_transform(X)"
   ]
  },
  {
   "cell_type": "code",
   "execution_count": 21,
   "id": "1f584ac7",
   "metadata": {},
   "outputs": [],
   "source": [
    "# Splitting the dataset into the Training set and Test set\n",
    "from sklearn.model_selection import train_test_split\n",
    "X_train, X_test, y_train, y_test = train_test_split(X, y, test_size = 0.25, random_state = 42)"
   ]
  },
  {
   "cell_type": "code",
   "execution_count": 22,
   "id": "e1f9af7a",
   "metadata": {},
   "outputs": [
    {
     "data": {
      "text/plain": [
       "((23889, 280), (7964, 280))"
      ]
     },
     "execution_count": 22,
     "metadata": {},
     "output_type": "execute_result"
    }
   ],
   "source": [
    "X_train.shape , X_test.shape"
   ]
  },
  {
   "cell_type": "code",
   "execution_count": 23,
   "id": "bdc32a1e",
   "metadata": {},
   "outputs": [
    {
     "data": {
      "text/plain": [
       "LogisticRegression(max_iter=1000, random_state=42)"
      ]
     },
     "execution_count": 23,
     "metadata": {},
     "output_type": "execute_result"
    }
   ],
   "source": [
    "# Fitting Logistic Regression to the Training set\n",
    "from sklearn.linear_model import LogisticRegression\n",
    "lr = LogisticRegression(max_iter=1000,random_state = 42)\n",
    "lr.fit(X_train, y_train)"
   ]
  },
  {
   "cell_type": "code",
   "execution_count": 24,
   "id": "7e984489",
   "metadata": {},
   "outputs": [],
   "source": [
    "prob = lr.predict_proba(X_test)"
   ]
  },
  {
   "cell_type": "code",
   "execution_count": 25,
   "id": "6321d27e",
   "metadata": {},
   "outputs": [
    {
     "data": {
      "text/plain": [
       "array([0, 1])"
      ]
     },
     "execution_count": 25,
     "metadata": {},
     "output_type": "execute_result"
    }
   ],
   "source": [
    "lr.classes_"
   ]
  },
  {
   "cell_type": "code",
   "execution_count": 26,
   "id": "1b148445",
   "metadata": {},
   "outputs": [
    {
     "data": {
      "text/plain": [
       "array([0.85551107, 0.95900624, 0.94331507, ..., 0.78841173, 0.83173718,\n",
       "       0.98465141])"
      ]
     },
     "execution_count": 26,
     "metadata": {},
     "output_type": "execute_result"
    }
   ],
   "source": [
    "# probability\n",
    "prob[:,1]"
   ]
  },
  {
   "cell_type": "code",
   "execution_count": 27,
   "id": "66815cf0",
   "metadata": {},
   "outputs": [],
   "source": [
    "# column needed for prediction\n",
    "imp_col = ['Qualification', 'Corporate', 'Lead Rating', 'Lead Product', 'Age', \n",
    "           'Gender', 'Time In Status Code', 'Zone', 'Lead Source', 'Medium', \n",
    "           'Region Code', 'Occupation', 'Marital Status', 'Lead Amount']"
   ]
  },
  {
   "cell_type": "code",
   "execution_count": 28,
   "id": "50bee4fc",
   "metadata": {},
   "outputs": [
    {
     "data": {
      "text/html": [
       "<div>\n",
       "<style scoped>\n",
       "    .dataframe tbody tr th:only-of-type {\n",
       "        vertical-align: middle;\n",
       "    }\n",
       "\n",
       "    .dataframe tbody tr th {\n",
       "        vertical-align: top;\n",
       "    }\n",
       "\n",
       "    .dataframe thead th {\n",
       "        text-align: right;\n",
       "    }\n",
       "</style>\n",
       "<table border=\"1\" class=\"dataframe\">\n",
       "  <thead>\n",
       "    <tr style=\"text-align: right;\">\n",
       "      <th></th>\n",
       "      <th>Qualification</th>\n",
       "      <th>Corporate</th>\n",
       "      <th>Lead Rating</th>\n",
       "      <th>Lead Product</th>\n",
       "      <th>Age</th>\n",
       "      <th>Gender</th>\n",
       "      <th>Time In Status Code</th>\n",
       "      <th>Zone</th>\n",
       "      <th>Lead Source</th>\n",
       "      <th>Medium</th>\n",
       "      <th>Region Code</th>\n",
       "      <th>Occupation</th>\n",
       "      <th>Marital Status</th>\n",
       "      <th>Lead Amount</th>\n",
       "    </tr>\n",
       "  </thead>\n",
       "  <tbody>\n",
       "    <tr>\n",
       "      <th>0</th>\n",
       "      <td>Graduate</td>\n",
       "      <td>NORTH</td>\n",
       "      <td>Hot</td>\n",
       "      <td>Mutual Fund</td>\n",
       "      <td>44.0</td>\n",
       "      <td>Male</td>\n",
       "      <td>85</td>\n",
       "      <td>DELHI</td>\n",
       "      <td>Walk-in</td>\n",
       "      <td>Bit Notices</td>\n",
       "      <td>DELHI EAST</td>\n",
       "      <td>Business</td>\n",
       "      <td>Married</td>\n",
       "      <td>5000.0</td>\n",
       "    </tr>\n",
       "    <tr>\n",
       "      <th>1</th>\n",
       "      <td>Graduate</td>\n",
       "      <td>NORTH</td>\n",
       "      <td>Hot</td>\n",
       "      <td>Mutual Fund</td>\n",
       "      <td>31.0</td>\n",
       "      <td>Female</td>\n",
       "      <td>84</td>\n",
       "      <td>WEST</td>\n",
       "      <td>Walk-in</td>\n",
       "      <td>Banner</td>\n",
       "      <td>MUMBAI MAIN</td>\n",
       "      <td>Business</td>\n",
       "      <td>Married</td>\n",
       "      <td>2000.0</td>\n",
       "    </tr>\n",
       "  </tbody>\n",
       "</table>\n",
       "</div>"
      ],
      "text/plain": [
       "  Qualification Corporate Lead Rating Lead Product   Age  Gender Time In Status Code   Zone Lead Source       Medium  Region Code Occupation Marital Status  Lead Amount\n",
       "0      Graduate     NORTH         Hot  Mutual Fund  44.0    Male                  85  DELHI     Walk-in  Bit Notices   DELHI EAST   Business        Married       5000.0\n",
       "1      Graduate     NORTH         Hot  Mutual Fund  31.0  Female                  84   WEST     Walk-in       Banner  MUMBAI MAIN   Business        Married       2000.0"
      ]
     },
     "execution_count": 28,
     "metadata": {},
     "output_type": "execute_result"
    }
   ],
   "source": [
    "X_for_prediction = df[imp_col].iloc[:2]\n",
    "X_for_prediction"
   ]
  },
  {
   "cell_type": "code",
   "execution_count": 29,
   "id": "a05375ce",
   "metadata": {},
   "outputs": [],
   "source": [
    "X_processed = full_pipeline.transform(X_for_prediction)"
   ]
  },
  {
   "cell_type": "code",
   "execution_count": 30,
   "id": "e26d94a3",
   "metadata": {},
   "outputs": [],
   "source": [
    "prob = lr.predict_proba(X_processed)\n",
    "X_for_prediction['Probability'] = prob[:,1]"
   ]
  },
  {
   "cell_type": "code",
   "execution_count": 31,
   "id": "80be2f5d",
   "metadata": {},
   "outputs": [
    {
     "data": {
      "text/html": [
       "<div>\n",
       "<style scoped>\n",
       "    .dataframe tbody tr th:only-of-type {\n",
       "        vertical-align: middle;\n",
       "    }\n",
       "\n",
       "    .dataframe tbody tr th {\n",
       "        vertical-align: top;\n",
       "    }\n",
       "\n",
       "    .dataframe thead th {\n",
       "        text-align: right;\n",
       "    }\n",
       "</style>\n",
       "<table border=\"1\" class=\"dataframe\">\n",
       "  <thead>\n",
       "    <tr style=\"text-align: right;\">\n",
       "      <th></th>\n",
       "      <th>Qualification</th>\n",
       "      <th>Corporate</th>\n",
       "      <th>Lead Rating</th>\n",
       "      <th>Lead Product</th>\n",
       "      <th>Age</th>\n",
       "      <th>Gender</th>\n",
       "      <th>Time In Status Code</th>\n",
       "      <th>Zone</th>\n",
       "      <th>Lead Source</th>\n",
       "      <th>Medium</th>\n",
       "      <th>Region Code</th>\n",
       "      <th>Occupation</th>\n",
       "      <th>Marital Status</th>\n",
       "      <th>Lead Amount</th>\n",
       "      <th>Probability</th>\n",
       "    </tr>\n",
       "  </thead>\n",
       "  <tbody>\n",
       "    <tr>\n",
       "      <th>0</th>\n",
       "      <td>Graduate</td>\n",
       "      <td>NORTH</td>\n",
       "      <td>Hot</td>\n",
       "      <td>Mutual Fund</td>\n",
       "      <td>44.0</td>\n",
       "      <td>Male</td>\n",
       "      <td>85</td>\n",
       "      <td>DELHI</td>\n",
       "      <td>Walk-in</td>\n",
       "      <td>Bit Notices</td>\n",
       "      <td>DELHI EAST</td>\n",
       "      <td>Business</td>\n",
       "      <td>Married</td>\n",
       "      <td>5000.0</td>\n",
       "      <td>0.958491</td>\n",
       "    </tr>\n",
       "    <tr>\n",
       "      <th>1</th>\n",
       "      <td>Graduate</td>\n",
       "      <td>NORTH</td>\n",
       "      <td>Hot</td>\n",
       "      <td>Mutual Fund</td>\n",
       "      <td>31.0</td>\n",
       "      <td>Female</td>\n",
       "      <td>84</td>\n",
       "      <td>WEST</td>\n",
       "      <td>Walk-in</td>\n",
       "      <td>Banner</td>\n",
       "      <td>MUMBAI MAIN</td>\n",
       "      <td>Business</td>\n",
       "      <td>Married</td>\n",
       "      <td>2000.0</td>\n",
       "      <td>0.945290</td>\n",
       "    </tr>\n",
       "  </tbody>\n",
       "</table>\n",
       "</div>"
      ],
      "text/plain": [
       "  Qualification Corporate Lead Rating Lead Product   Age  Gender Time In Status Code   Zone Lead Source       Medium  Region Code Occupation Marital Status  Lead Amount  Probability\n",
       "0      Graduate     NORTH         Hot  Mutual Fund  44.0    Male                  85  DELHI     Walk-in  Bit Notices   DELHI EAST   Business        Married       5000.0     0.958491\n",
       "1      Graduate     NORTH         Hot  Mutual Fund  31.0  Female                  84   WEST     Walk-in       Banner  MUMBAI MAIN   Business        Married       2000.0     0.945290"
      ]
     },
     "execution_count": 31,
     "metadata": {},
     "output_type": "execute_result"
    }
   ],
   "source": [
    "X_for_prediction"
   ]
  },
  {
   "cell_type": "code",
   "execution_count": 32,
   "id": "1d7d9ad4",
   "metadata": {},
   "outputs": [],
   "source": [
    "X_for_prediction.to_csv('probability.csv')"
   ]
  }
 ],
 "metadata": {
  "kernelspec": {
   "display_name": "Python 3 (ipykernel)",
   "language": "python",
   "name": "python3"
  },
  "language_info": {
   "codemirror_mode": {
    "name": "ipython",
    "version": 3
   },
   "file_extension": ".py",
   "mimetype": "text/x-python",
   "name": "python",
   "nbconvert_exporter": "python",
   "pygments_lexer": "ipython3",
   "version": "3.8.5"
  }
 },
 "nbformat": 4,
 "nbformat_minor": 5
}
