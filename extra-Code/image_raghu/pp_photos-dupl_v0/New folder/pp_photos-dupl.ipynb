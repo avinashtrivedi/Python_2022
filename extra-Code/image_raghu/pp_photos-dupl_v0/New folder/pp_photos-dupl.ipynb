{
 "cells": [
  {
   "cell_type": "code",
   "execution_count": 1,
   "id": "6277588d",
   "metadata": {},
   "outputs": [],
   "source": [
    "from silence_tensorflow import silence_tensorflow\n",
    "silence_tensorflow()"
   ]
  },
  {
   "cell_type": "code",
   "execution_count": 2,
   "id": "2fad2a60",
   "metadata": {},
   "outputs": [],
   "source": [
    "from numpy import load\n",
    "import numpy as  np\n",
    "from numpy import expand_dims\n",
    "from numpy import asarray\n",
    "from numpy import savez_compressed\n",
    "from keras.models import load_model\n",
    "from keras_facenet import FaceNet\n",
    "from sklearn.metrics.pairwise import cosine_similarity\n",
    "import pandas as pd"
   ]
  },
  {
   "cell_type": "markdown",
   "id": "93b01a73",
   "metadata": {},
   "source": [
    "## Localizing & Extracting Faces"
   ]
  },
  {
   "cell_type": "code",
   "execution_count": 3,
   "id": "70787d14",
   "metadata": {},
   "outputs": [
    {
     "name": "stdout",
     "output_type": "stream",
     "text": [
      "2.3.0\n"
     ]
    }
   ],
   "source": [
    "import tensorflow as tf\n",
    "print(tf.__version__)"
   ]
  },
  {
   "cell_type": "code",
   "execution_count": 4,
   "id": "152e3622",
   "metadata": {},
   "outputs": [],
   "source": [
    "from os import listdir\n",
    "from os.path import isdir\n",
    "from PIL import Image\n",
    "from matplotlib import pyplot\n",
    "from numpy import savez_compressed\n",
    "from numpy import asarray\n",
    "from mtcnn.mtcnn import MTCNN"
   ]
  },
  {
   "cell_type": "code",
   "execution_count": 5,
   "id": "a4640f66",
   "metadata": {},
   "outputs": [],
   "source": [
    "#extract a single face from a given photograph\n",
    "def extract_face(filename, required_size = (160, 160)):\n",
    "    #load image from file\n",
    "    image = Image.open(filename)\n",
    "    #convert to RGB, if needed\n",
    "    image = image.convert('RGB')\n",
    "    # convert to array\n",
    "    pixels = asarray(image)\n",
    "    # create the detector, using default weights\n",
    "    detector = MTCNN()\n",
    "    # detect faces in the image\n",
    "    results = detector.detect_faces(pixels)\n",
    "    # extract the bounding box from the first face\n",
    "    x1, y1, width, height = results[0]['box']\n",
    "    # bug fix\n",
    "    x1, y1 = abs(x1), abs(y1)\n",
    "    x2, y2 = x1 + width, y1 + height\n",
    "    # extract the face\n",
    "    face = pixels[y1:y2, x1:x2]\n",
    "    # resize pixels to the model size\n",
    "    image = Image.fromarray(face)\n",
    "    image = image.resize(required_size)\n",
    "    face_array = asarray(image)\n",
    "    return face_array\n",
    "\n",
    "#load images and extract faces for all images in a directory\n",
    "def load_faces(directory):\n",
    "    faces = list()\n",
    "    filenames_list = list() #NJ: A list to store all the images file names\n",
    "    \n",
    "#     #enumerate files\n",
    "#     for filename in listdir(directory):\n",
    "#         # path\n",
    "#         path = directory + filename\n",
    "        # get face\n",
    "    \n",
    "    path = directory\n",
    "    face = extract_face(path)\n",
    "        # store\n",
    "    faces.append(face)\n",
    "    filenames_list.append(path) \n",
    "        \n",
    "    return faces, filenames_list\n",
    "\n",
    "#load & extract faces for a dataset that contains one subdir for each class that in turn contains images\n",
    "def load_dataset(directory):\n",
    "    X, y, path_list = list(), list(), list()\n",
    "    \n",
    "    # enumerate folders, one per class\n",
    "    for subdir in listdir(directory):\n",
    "        #path\n",
    "        path = directory + '/' + subdir\n",
    "        # skip any files that might be in the dir\n",
    "        \n",
    "#         if not isdir(path):\n",
    "#             continue\n",
    "            \n",
    "        # load all faces in the subdirectory\n",
    "        faces, filenames_list = load_faces(path)\n",
    "        \n",
    "        # create labels\n",
    "        labels = [subdir for _ in range(len(faces))]\n",
    "        \n",
    "        # summarize progress\n",
    "        print ('>loaded %d example for class %s' % (len(faces), subdir))\n",
    "        # store\n",
    "        X.extend(faces)\n",
    "        y.extend(labels)\n",
    "        path_list.extend(filenames_list) # to get the actual image names\n",
    "        \n",
    "    return asarray(X), asarray(y), asarray(path_list)"
   ]
  },
  {
   "cell_type": "markdown",
   "id": "430dec9c",
   "metadata": {},
   "source": [
    "## Faces Extraction from dataset"
   ]
  },
  {
   "cell_type": "code",
   "execution_count": 6,
   "id": "1c4e4b42",
   "metadata": {
    "collapsed": true
   },
   "outputs": [
    {
     "name": "stdout",
     "output_type": "stream",
     "text": [
      ">loaded 1 example for class 1.PNG\n",
      ">loaded 1 example for class 10.PNG\n",
      ">loaded 1 example for class 11.PNG\n",
      ">loaded 1 example for class 12.PNG\n",
      ">loaded 1 example for class 13.PNG\n",
      ">loaded 1 example for class 14.PNG\n",
      ">loaded 1 example for class 15.PNG\n",
      ">loaded 1 example for class 16.PNG\n",
      ">loaded 1 example for class 17.PNG\n",
      ">loaded 1 example for class 18.PNG\n",
      ">loaded 1 example for class 19.PNG\n",
      ">loaded 1 example for class 2.PNG\n",
      ">loaded 1 example for class 20.PNG\n",
      ">loaded 1 example for class 21.PNG\n",
      ">loaded 1 example for class 22.PNG\n",
      ">loaded 1 example for class 23.PNG\n",
      ">loaded 1 example for class 24.PNG\n",
      ">loaded 1 example for class 25.PNG\n",
      ">loaded 1 example for class 26.PNG\n",
      ">loaded 1 example for class 27.PNG\n",
      ">loaded 1 example for class 28.PNG\n",
      ">loaded 1 example for class 29.PNG\n",
      ">loaded 1 example for class 3.PNG\n",
      ">loaded 1 example for class 30.PNG\n",
      ">loaded 1 example for class 4.PNG\n",
      ">loaded 1 example for class 5.PNG\n",
      ">loaded 1 example for class 6.PNG\n",
      ">loaded 1 example for class 7.PNG\n",
      ">loaded 1 example for class 8.PNG\n",
      ">loaded 1 example for class 9.PNG\n"
     ]
    }
   ],
   "source": [
    "# load train dataset\n",
    "dataset_train_path = 'dataset'\n",
    "\n",
    "faces_dataset = load_dataset(dataset_train_path)"
   ]
  },
  {
   "cell_type": "code",
   "execution_count": 7,
   "id": "630cb163",
   "metadata": {
    "collapsed": true
   },
   "outputs": [
    {
     "data": {
      "text/plain": [
       "['1.PNG',\n",
       " '10.PNG',\n",
       " '11.PNG',\n",
       " '12.PNG',\n",
       " '13.PNG',\n",
       " '14.PNG',\n",
       " '15.PNG',\n",
       " '16.PNG',\n",
       " '17.PNG',\n",
       " '18.PNG',\n",
       " '19.PNG',\n",
       " '2.PNG',\n",
       " '20.PNG',\n",
       " '21.PNG',\n",
       " '22.PNG',\n",
       " '23.PNG',\n",
       " '24.PNG',\n",
       " '25.PNG',\n",
       " '26.PNG',\n",
       " '27.PNG',\n",
       " '28.PNG',\n",
       " '29.PNG',\n",
       " '3.PNG',\n",
       " '30.PNG',\n",
       " '4.PNG',\n",
       " '5.PNG',\n",
       " '6.PNG',\n",
       " '7.PNG',\n",
       " '8.PNG',\n",
       " '9.PNG']"
      ]
     },
     "execution_count": 7,
     "metadata": {},
     "output_type": "execute_result"
    }
   ],
   "source": [
    "listdir(dataset_train_path)"
   ]
  },
  {
   "cell_type": "code",
   "execution_count": 8,
   "id": "82e7855c",
   "metadata": {},
   "outputs": [],
   "source": [
    "savez_compressed('./faces-train_dataset.npz', faces_dataset[0], faces_dataset[1], faces_dataset[2])"
   ]
  },
  {
   "cell_type": "code",
   "execution_count": 9,
   "id": "caea38db",
   "metadata": {},
   "outputs": [
    {
     "name": "stdout",
     "output_type": "stream",
     "text": [
      "Loaded Train dataset:  (30, 160, 160, 3) (30,) (30,)\n"
     ]
    }
   ],
   "source": [
    "# load the face dataset\n",
    "data = load('./faces-train_dataset.npz')\n",
    "\n",
    "trainX, trainy, train_images_path = data['arr_0'], data['arr_1'], data['arr_2'] #, data['arr_3']\n",
    "print('Loaded Train dataset: ', trainX.shape, trainy.shape, train_images_path.shape)"
   ]
  },
  {
   "cell_type": "markdown",
   "id": "17606d54",
   "metadata": {},
   "source": [
    "## Feature Extraction for the Faces extracted from Dataset"
   ]
  },
  {
   "cell_type": "code",
   "execution_count": 10,
   "id": "4837653a",
   "metadata": {},
   "outputs": [],
   "source": [
    "from numpy import load\n",
    "from numpy import expand_dims\n",
    "from numpy import asarray\n",
    "from numpy import savez_compressed\n",
    "from keras.models import load_model\n",
    "from keras_facenet import FaceNet\n",
    "\n",
    "embedder = FaceNet()"
   ]
  },
  {
   "cell_type": "code",
   "execution_count": 11,
   "id": "7f051e6b",
   "metadata": {
    "scrolled": true
   },
   "outputs": [],
   "source": [
    "features_dataset = embedder.embeddings(trainX)"
   ]
  },
  {
   "cell_type": "code",
   "execution_count": 12,
   "id": "2a815bcc",
   "metadata": {},
   "outputs": [],
   "source": [
    "# save arrays to one file in compressed format\n",
    "savez_compressed('./faces-train_embeddings.npz', features_dataset, trainy, train_images_path)"
   ]
  },
  {
   "cell_type": "markdown",
   "id": "8b148156",
   "metadata": {},
   "source": [
    "## Finding Duplicate Images"
   ]
  },
  {
   "cell_type": "code",
   "execution_count": 13,
   "id": "e482f4d3",
   "metadata": {},
   "outputs": [],
   "source": [
    "#load dataset\n",
    "data = load('./faces-train_embeddings.npz')\n",
    "trainX_features, trainy, train_images_path = data['arr_0'], data['arr_1'], data['arr_2'] #, data['arr_3']"
   ]
  },
  {
   "cell_type": "code",
   "execution_count": 14,
   "id": "ca67a035",
   "metadata": {},
   "outputs": [],
   "source": [
    "def get_duplicate_images_df(feature, matching_cutoff_threshold = 0.8):\n",
    "    img_dup = pd.DataFrame([],columns=['image_id','Image_label','Image_path','Duplicate_image','Duplicate_path','similarity_score'])\n",
    "    for id1,feature1 in enumerate(zip(feature['arr_0'], feature['arr_1'], feature['arr_2'])):\n",
    "        for id2,feature2 in enumerate(zip(feature['arr_0'], feature['arr_1'], feature['arr_2'])):\n",
    "            if id2>id1:\n",
    "                image_1,label_1,path_1 = feature1[0],feature1[1],feature1[2]\n",
    "                image_2,label_2,path_2 = feature2[0],feature2[1],feature2[2]\n",
    "\n",
    "                similarity_score = cosine_similarity(image_1.reshape(1, -1),\n",
    "                                                     image_2.reshape(1, -1))\n",
    "                if similarity_score > matching_cutoff_threshold:\n",
    "                    img_dup.loc[len(img_dup)]= [id1,label_1,path_1,label_2,path_2,similarity_score[0][0]]\n",
    "    return img_dup"
   ]
  },
  {
   "cell_type": "code",
   "execution_count": 15,
   "id": "2cae47ac",
   "metadata": {},
   "outputs": [
    {
     "data": {
      "text/html": [
       "<div>\n",
       "<style scoped>\n",
       "    .dataframe tbody tr th:only-of-type {\n",
       "        vertical-align: middle;\n",
       "    }\n",
       "\n",
       "    .dataframe tbody tr th {\n",
       "        vertical-align: top;\n",
       "    }\n",
       "\n",
       "    .dataframe thead th {\n",
       "        text-align: right;\n",
       "    }\n",
       "</style>\n",
       "<table border=\"1\" class=\"dataframe\">\n",
       "  <thead>\n",
       "    <tr style=\"text-align: right;\">\n",
       "      <th></th>\n",
       "      <th>image_id</th>\n",
       "      <th>Image_label</th>\n",
       "      <th>Image_path</th>\n",
       "      <th>Duplicate_image</th>\n",
       "      <th>Duplicate_path</th>\n",
       "      <th>similarity_score</th>\n",
       "    </tr>\n",
       "  </thead>\n",
       "  <tbody>\n",
       "    <tr>\n",
       "      <th>0</th>\n",
       "      <td>6</td>\n",
       "      <td>15.PNG</td>\n",
       "      <td>dataset/15.PNG</td>\n",
       "      <td>30.PNG</td>\n",
       "      <td>dataset/30.PNG</td>\n",
       "      <td>0.883377</td>\n",
       "    </tr>\n",
       "  </tbody>\n",
       "</table>\n",
       "</div>"
      ],
      "text/plain": [
       "  image_id Image_label      Image_path Duplicate_image  Duplicate_path  \\\n",
       "0        6      15.PNG  dataset/15.PNG          30.PNG  dataset/30.PNG   \n",
       "\n",
       "   similarity_score  \n",
       "0          0.883377  "
      ]
     },
     "execution_count": 15,
     "metadata": {},
     "output_type": "execute_result"
    }
   ],
   "source": [
    "df_dup = get_duplicate_images_df(data)\n",
    "df_dup"
   ]
  },
  {
   "cell_type": "code",
   "execution_count": 16,
   "id": "c2ae3dec",
   "metadata": {},
   "outputs": [],
   "source": [
    "#df_dup.to_csv('Duplicate_images.csv', index = None, header=True)"
   ]
  },
  {
   "cell_type": "code",
   "execution_count": null,
   "id": "3b64a508",
   "metadata": {},
   "outputs": [],
   "source": []
  }
 ],
 "metadata": {
  "kernelspec": {
   "display_name": "Python 3",
   "language": "python",
   "name": "python3"
  },
  "language_info": {
   "codemirror_mode": {
    "name": "ipython",
    "version": 3
   },
   "file_extension": ".py",
   "mimetype": "text/x-python",
   "name": "python",
   "nbconvert_exporter": "python",
   "pygments_lexer": "ipython3",
   "version": "3.8.8"
  }
 },
 "nbformat": 4,
 "nbformat_minor": 5
}
