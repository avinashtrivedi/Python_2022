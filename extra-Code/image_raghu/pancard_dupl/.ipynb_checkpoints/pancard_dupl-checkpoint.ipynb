{
 "cells": [
  {
   "cell_type": "code",
   "execution_count": 4,
   "metadata": {},
   "outputs": [],
   "source": [
    "import os\n",
    "import cv2\n",
    "import numpy as np"
   ]
  },
  {
   "cell_type": "code",
   "execution_count": 5,
   "metadata": {},
   "outputs": [],
   "source": [
    "image_folder = os.path.join('data/')\n",
    "image_files = [_ for _ in os.listdir(image_folder) if _.endswith('jpg')]"
   ]
  },
  {
   "cell_type": "code",
   "execution_count": 7,
   "metadata": {},
   "outputs": [
    {
     "data": {
      "text/plain": [
       "'data/'"
      ]
     },
     "execution_count": 7,
     "metadata": {},
     "output_type": "execute_result"
    }
   ],
   "source": [
    "image_folder"
   ]
  },
  {
   "cell_type": "code",
   "execution_count": null,
   "metadata": {},
   "outputs": [
    {
     "name": "stdout",
     "output_type": "stream",
     "text": [
      "1.jpg -> 0\n",
      "10.jpg -> 1\n",
      "2.jpg -> 2\n"
     ]
    }
   ],
   "source": [
    "duplicate_files = []\n",
    "xx = 0\n",
    "faceCascade = cv2.CascadeClassifier(cv2.data.haarcascades + \"haarcascade_frontalface_default.xml\")\n",
    "for file_org in image_files:\n",
    "    \n",
    "    print(file_org,'->',xx)\n",
    "    xx = xx+1\n",
    "    if not file_org in duplicate_files:\n",
    "        image_org = cv2.imread(os.path.join(image_folder,file_org))\n",
    "        gray = cv2.cvtColor(image_org, cv2.COLOR_BGR2GRAY)\n",
    "        faces = faceCascade.detectMultiScale(\n",
    "            gray,\n",
    "            scaleFactor=1.3,\n",
    "            minNeighbors=3,\n",
    "            minSize=(30, 30)\n",
    "        )\n",
    "        for (x, y, w, h) in faces:\n",
    "            cv2.rectangle(image_org, (x, y), (x + w, y + h), (255, 0, 0), 2)\n",
    "        im1 = image_org[y:y + h, x:x + w]\n",
    "        #cv2.imwrite(str(w) + str(h) + '_faces.jpg', im1)\n",
    "        #cv2.imshow('Img', im1)\n",
    "        #cv2.waitKey(0)\n",
    "        pix_mean1=cv2.mean(im1,mask=None)\n",
    "        for file_check in image_files:\n",
    "            if file_check != file_org:\n",
    "                image_check = cv2.imread(os.path.join(image_folder, file_check))\n",
    "                gray_check = cv2.cvtColor(image_org, cv2.COLOR_BGR2GRAY)\n",
    "                faces_check = faceCascade.detectMultiScale(\n",
    "                    gray_check,\n",
    "                    scaleFactor=1.3,\n",
    "                    minNeighbors=3,\n",
    "                    minSize=(30, 30)\n",
    "                )\n",
    "                for (x1, y1, w1, h1) in faces_check:\n",
    "                    cv2.rectangle(image_check, (x1, y1), (x1 + w1, y1 + h1), (255, 0, 0), 2)\n",
    "                im1_check = image_check[y1:y1 + h1, x1:x1 + w1]\n",
    "                # cv2.imwrite(str(w) + str(h) + '_faces.jpg', im1)\n",
    "                #cv2.imshow('Img', im1_check)\n",
    "                #cv2.waitKey(0)\n",
    "                pix_mean2 = cv2.mean(im1_check,mask=None)\n",
    "                p1=np.mean(pix_mean1)\n",
    "                p2=np.mean(pix_mean2)\n",
    "                ab=abs(p1-p2)\n",
    "                if ab <= 0.5:\n",
    "                    duplicate_files.append((file_org))\n",
    "                    duplicate_files.append((file_check))\n",
    "                    image_duplic = cv2.imread(os.path.join(image_folder, file_org))\n",
    "                    cv2.imshow('dupli',image_duplic)\n",
    "                    cv2.waitKey(0)"
   ]
  },
  {
   "cell_type": "code",
   "execution_count": null,
   "metadata": {},
   "outputs": [],
   "source": [
    "print(list(dict.fromkeys(duplicate_files)))"
   ]
  },
  {
   "cell_type": "code",
   "execution_count": null,
   "metadata": {},
   "outputs": [],
   "source": []
  }
 ],
 "metadata": {
  "kernelspec": {
   "display_name": "Python 3",
   "language": "python",
   "name": "python3"
  },
  "language_info": {
   "codemirror_mode": {
    "name": "ipython",
    "version": 3
   },
   "file_extension": ".py",
   "mimetype": "text/x-python",
   "name": "python",
   "nbconvert_exporter": "python",
   "pygments_lexer": "ipython3",
   "version": "3.8.5"
  }
 },
 "nbformat": 4,
 "nbformat_minor": 5
}
