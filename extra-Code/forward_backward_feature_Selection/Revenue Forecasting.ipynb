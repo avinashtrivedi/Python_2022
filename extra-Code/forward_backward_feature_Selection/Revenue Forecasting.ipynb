{
 "cells": [
  {
   "cell_type": "code",
   "execution_count": 47,
   "id": "3df95f17",
   "metadata": {},
   "outputs": [],
   "source": [
    "!python data_loading.py"
   ]
  },
  {
   "cell_type": "code",
   "execution_count": 48,
   "id": "f106104b",
   "metadata": {},
   "outputs": [],
   "source": [
    "!python model.py"
   ]
  },
  {
   "cell_type": "code",
   "execution_count": 49,
   "id": "abe2c111",
   "metadata": {},
   "outputs": [],
   "source": [
    "import numpy as np\n",
    "import os"
   ]
  },
  {
   "cell_type": "code",
   "execution_count": 50,
   "id": "4a0ac470",
   "metadata": {},
   "outputs": [],
   "source": [
    "import warnings\n",
    "warnings.filterwarnings('ignore')"
   ]
  },
  {
   "cell_type": "code",
   "execution_count": 51,
   "id": "f63b7f4b",
   "metadata": {},
   "outputs": [],
   "source": [
    "from model import load_df, preprocess_df, impute_missing"
   ]
  },
  {
   "cell_type": "code",
   "execution_count": 52,
   "id": "560fd35d",
   "metadata": {},
   "outputs": [],
   "source": [
    "all_data_df = load_df(model_t_plus=1)"
   ]
  },
  {
   "cell_type": "code",
   "execution_count": 53,
   "id": "6d6c3305",
   "metadata": {},
   "outputs": [],
   "source": [
    "all_data_df = impute_missing(all_data_df)"
   ]
  },
  {
   "cell_type": "code",
   "execution_count": 54,
   "id": "08845dae",
   "metadata": {},
   "outputs": [],
   "source": [
    "all_data_df, to_pred, gc_time = preprocess_df(all_data_df, months_to_predict=['6.0_2022.0'], model_t_plus=1) "
   ]
  },
  {
   "cell_type": "code",
   "execution_count": 55,
   "id": "e336ee61",
   "metadata": {},
   "outputs": [],
   "source": [
    "scope_gcs = [\"ESV - PLS\",\n",
    "\"ESV - BCM\",\n",
    "\"DDV - IT\",\n",
    "\"FS - Banking and Capital Markets\",\n",
    "\"DDV - Operations\",\n",
    "\"Finance - Enterprise Performance Management\"]"
   ]
  },
  {
   "cell_type": "markdown",
   "id": "ec958123",
   "metadata": {},
   "source": [
    "## Models"
   ]
  },
  {
   "cell_type": "code",
   "execution_count": 56,
   "id": "9c9669d5",
   "metadata": {},
   "outputs": [],
   "source": [
    "from xgboost import XGBRegressor\n",
    "\n",
    "from sklearn.ensemble import RandomForestRegressor\n",
    "\n",
    "#model = RandomForestRegressor(n_estimators=125, max_depth = 3)\n",
    "\n",
    "model_xgb = XGBRegressor(n_estimators = 50, max_depth = 4, tree_method=\"hist\", enable_categorical=True)\n",
    "#model_xgb = XGBRegressor(n_estimators = 50, max_depth = 4)\n",
    "\n",
    "from sklearn.model_selection import train_test_split\n",
    "\n",
    "from sklearn.preprocessing import StandardScaler"
   ]
  },
  {
   "cell_type": "code",
   "execution_count": 57,
   "id": "8a6e0e84",
   "metadata": {},
   "outputs": [],
   "source": [
    "keep_columns = [ 'Amount added in pipe', 'Entries added in pipe', 'Unique accounts added in pipe', 'Amount won', 'Projects won', 'Unique accounts won', 'EM% mean', 'business_days', 'Fracn of team as As','Fracn of teams as Ms','As underutilized by', 'Ds underutilized by','log of team size']\n"
   ]
  },
  {
   "cell_type": "code",
   "execution_count": 58,
   "id": "fafbe1f3",
   "metadata": {},
   "outputs": [
    {
     "data": {
      "text/plain": [
       "Index(['Unique accounts added in pipe', 'Amount added in pipe',\n",
       "       'Entries added in pipe', 'Unique accounts won', 'Amount won',\n",
       "       'Projects won', 'Senior Associate_Util', 'Associate_Util',\n",
       "       'Senior Manager_Util', 'Manager_Util', 'Director_Util',\n",
       "       'Num SMs above target', 'Num SAs above target', 'Num Ds Above Target',\n",
       "       'Num Ms above target', 'Num As Above Target', 'Num SAs below target',\n",
       "       'Num SMs below target', 'Num Ms below target', 'Num Ds Below Target',\n",
       "       'Num As Below Target', 'Ds overutilized by', 'Ms overutilized by',\n",
       "       'SAs overutilized by', 'As overutilized by', 'SMs overutilized by',\n",
       "       'SAs underutilized by', 'Ms underutilized by', 'As underutilized by',\n",
       "       'SMs underutilized by', 'Ds underutilized by', 'Fracn of team as As',\n",
       "       'Fracn of teams as SMs', 'Fracn of team as SAs', 'Fracn of teams as Ms',\n",
       "       'Fracn of teams as Ds', 'Revenue Sum', 'EM% mean', 'EM% mean + 1',\n",
       "       'Revenue Sum + 1', 'Growth Cell', 'business_days', 'log of team size'],\n",
       "      dtype='object')"
      ]
     },
     "execution_count": 58,
     "metadata": {},
     "output_type": "execute_result"
    }
   ],
   "source": [
    "all_data_df.columns"
   ]
  },
  {
   "cell_type": "code",
   "execution_count": 59,
   "id": "4c2a3588",
   "metadata": {},
   "outputs": [],
   "source": [
    "y_log = all_data_df['Revenue Sum + 1']"
   ]
  },
  {
   "cell_type": "code",
   "execution_count": 60,
   "id": "fa0f9347",
   "metadata": {},
   "outputs": [],
   "source": [
    "X = all_data_df[keep_columns]"
   ]
  },
  {
   "cell_type": "code",
   "execution_count": 61,
   "id": "bb565cfb",
   "metadata": {},
   "outputs": [],
   "source": [
    "X_train, X_test, y_train, y_test = train_test_split(X, y_log, test_size=0.30, random_state=42)"
   ]
  },
  {
   "cell_type": "code",
   "execution_count": 62,
   "id": "1a1da02e",
   "metadata": {},
   "outputs": [
    {
     "data": {
      "text/html": [
       "<style>#sk-container-id-3 {color: black;background-color: white;}#sk-container-id-3 pre{padding: 0;}#sk-container-id-3 div.sk-toggleable {background-color: white;}#sk-container-id-3 label.sk-toggleable__label {cursor: pointer;display: block;width: 100%;margin-bottom: 0;padding: 0.3em;box-sizing: border-box;text-align: center;}#sk-container-id-3 label.sk-toggleable__label-arrow:before {content: \"▸\";float: left;margin-right: 0.25em;color: #696969;}#sk-container-id-3 label.sk-toggleable__label-arrow:hover:before {color: black;}#sk-container-id-3 div.sk-estimator:hover label.sk-toggleable__label-arrow:before {color: black;}#sk-container-id-3 div.sk-toggleable__content {max-height: 0;max-width: 0;overflow: hidden;text-align: left;background-color: #f0f8ff;}#sk-container-id-3 div.sk-toggleable__content pre {margin: 0.2em;color: black;border-radius: 0.25em;background-color: #f0f8ff;}#sk-container-id-3 input.sk-toggleable__control:checked~div.sk-toggleable__content {max-height: 200px;max-width: 100%;overflow: auto;}#sk-container-id-3 input.sk-toggleable__control:checked~label.sk-toggleable__label-arrow:before {content: \"▾\";}#sk-container-id-3 div.sk-estimator input.sk-toggleable__control:checked~label.sk-toggleable__label {background-color: #d4ebff;}#sk-container-id-3 div.sk-label input.sk-toggleable__control:checked~label.sk-toggleable__label {background-color: #d4ebff;}#sk-container-id-3 input.sk-hidden--visually {border: 0;clip: rect(1px 1px 1px 1px);clip: rect(1px, 1px, 1px, 1px);height: 1px;margin: -1px;overflow: hidden;padding: 0;position: absolute;width: 1px;}#sk-container-id-3 div.sk-estimator {font-family: monospace;background-color: #f0f8ff;border: 1px dotted black;border-radius: 0.25em;box-sizing: border-box;margin-bottom: 0.5em;}#sk-container-id-3 div.sk-estimator:hover {background-color: #d4ebff;}#sk-container-id-3 div.sk-parallel-item::after {content: \"\";width: 100%;border-bottom: 1px solid gray;flex-grow: 1;}#sk-container-id-3 div.sk-label:hover label.sk-toggleable__label {background-color: #d4ebff;}#sk-container-id-3 div.sk-serial::before {content: \"\";position: absolute;border-left: 1px solid gray;box-sizing: border-box;top: 0;bottom: 0;left: 50%;z-index: 0;}#sk-container-id-3 div.sk-serial {display: flex;flex-direction: column;align-items: center;background-color: white;padding-right: 0.2em;padding-left: 0.2em;position: relative;}#sk-container-id-3 div.sk-item {position: relative;z-index: 1;}#sk-container-id-3 div.sk-parallel {display: flex;align-items: stretch;justify-content: center;background-color: white;position: relative;}#sk-container-id-3 div.sk-item::before, #sk-container-id-3 div.sk-parallel-item::before {content: \"\";position: absolute;border-left: 1px solid gray;box-sizing: border-box;top: 0;bottom: 0;left: 50%;z-index: -1;}#sk-container-id-3 div.sk-parallel-item {display: flex;flex-direction: column;z-index: 1;position: relative;background-color: white;}#sk-container-id-3 div.sk-parallel-item:first-child::after {align-self: flex-end;width: 50%;}#sk-container-id-3 div.sk-parallel-item:last-child::after {align-self: flex-start;width: 50%;}#sk-container-id-3 div.sk-parallel-item:only-child::after {width: 0;}#sk-container-id-3 div.sk-dashed-wrapped {border: 1px dashed gray;margin: 0 0.4em 0.5em 0.4em;box-sizing: border-box;padding-bottom: 0.4em;background-color: white;}#sk-container-id-3 div.sk-label label {font-family: monospace;font-weight: bold;display: inline-block;line-height: 1.2em;}#sk-container-id-3 div.sk-label-container {text-align: center;}#sk-container-id-3 div.sk-container {/* jupyter's `normalize.less` sets `[hidden] { display: none; }` but bootstrap.min.css set `[hidden] { display: none !important; }` so we also need the `!important` here to be able to override the default hidden behavior on the sphinx rendered scikit-learn.org. See: https://github.com/scikit-learn/scikit-learn/issues/21755 */display: inline-block !important;position: relative;}#sk-container-id-3 div.sk-text-repr-fallback {display: none;}</style><div id=\"sk-container-id-3\" class=\"sk-top-container\"><div class=\"sk-text-repr-fallback\"><pre>XGBRegressor(base_score=0.5, booster=&#x27;gbtree&#x27;, callbacks=None,\n",
       "             colsample_bylevel=1, colsample_bynode=1, colsample_bytree=1,\n",
       "             early_stopping_rounds=None, enable_categorical=True,\n",
       "             eval_metric=None, gamma=0, gpu_id=-1, grow_policy=&#x27;depthwise&#x27;,\n",
       "             importance_type=None, interaction_constraints=&#x27;&#x27;,\n",
       "             learning_rate=0.300000012, max_bin=256, max_cat_to_onehot=4,\n",
       "             max_delta_step=0, max_depth=4, max_leaves=0, min_child_weight=1,\n",
       "             missing=nan, monotone_constraints=&#x27;()&#x27;, n_estimators=50, n_jobs=0,\n",
       "             num_parallel_tree=1, predictor=&#x27;auto&#x27;, random_state=0, reg_alpha=0,\n",
       "             reg_lambda=1, ...)</pre><b>In a Jupyter environment, please rerun this cell to show the HTML representation or trust the notebook. <br />On GitHub, the HTML representation is unable to render, please try loading this page with nbviewer.org.</b></div><div class=\"sk-container\" hidden><div class=\"sk-item\"><div class=\"sk-estimator sk-toggleable\"><input class=\"sk-toggleable__control sk-hidden--visually\" id=\"sk-estimator-id-5\" type=\"checkbox\" checked><label for=\"sk-estimator-id-5\" class=\"sk-toggleable__label sk-toggleable__label-arrow\">XGBRegressor</label><div class=\"sk-toggleable__content\"><pre>XGBRegressor(base_score=0.5, booster=&#x27;gbtree&#x27;, callbacks=None,\n",
       "             colsample_bylevel=1, colsample_bynode=1, colsample_bytree=1,\n",
       "             early_stopping_rounds=None, enable_categorical=True,\n",
       "             eval_metric=None, gamma=0, gpu_id=-1, grow_policy=&#x27;depthwise&#x27;,\n",
       "             importance_type=None, interaction_constraints=&#x27;&#x27;,\n",
       "             learning_rate=0.300000012, max_bin=256, max_cat_to_onehot=4,\n",
       "             max_delta_step=0, max_depth=4, max_leaves=0, min_child_weight=1,\n",
       "             missing=nan, monotone_constraints=&#x27;()&#x27;, n_estimators=50, n_jobs=0,\n",
       "             num_parallel_tree=1, predictor=&#x27;auto&#x27;, random_state=0, reg_alpha=0,\n",
       "             reg_lambda=1, ...)</pre></div></div></div></div></div>"
      ],
      "text/plain": [
       "XGBRegressor(base_score=0.5, booster='gbtree', callbacks=None,\n",
       "             colsample_bylevel=1, colsample_bynode=1, colsample_bytree=1,\n",
       "             early_stopping_rounds=None, enable_categorical=True,\n",
       "             eval_metric=None, gamma=0, gpu_id=-1, grow_policy='depthwise',\n",
       "             importance_type=None, interaction_constraints='',\n",
       "             learning_rate=0.300000012, max_bin=256, max_cat_to_onehot=4,\n",
       "             max_delta_step=0, max_depth=4, max_leaves=0, min_child_weight=1,\n",
       "             missing=nan, monotone_constraints='()', n_estimators=50, n_jobs=0,\n",
       "             num_parallel_tree=1, predictor='auto', random_state=0, reg_alpha=0,\n",
       "             reg_lambda=1, ...)"
      ]
     },
     "execution_count": 62,
     "metadata": {},
     "output_type": "execute_result"
    }
   ],
   "source": [
    "model_xgb.fit(X_train, y_train)"
   ]
  },
  {
   "cell_type": "code",
   "execution_count": 63,
   "id": "cd4f3a87",
   "metadata": {},
   "outputs": [
    {
     "data": {
      "text/plain": [
       "0.984259880857257"
      ]
     },
     "execution_count": 63,
     "metadata": {},
     "output_type": "execute_result"
    }
   ],
   "source": [
    "model_xgb.score(X_train, y_train)"
   ]
  },
  {
   "cell_type": "code",
   "execution_count": 64,
   "id": "86b92d83",
   "metadata": {},
   "outputs": [
    {
     "data": {
      "text/plain": [
       "0.8401189093160855"
      ]
     },
     "execution_count": 64,
     "metadata": {},
     "output_type": "execute_result"
    }
   ],
   "source": [
    "model_xgb.score(X_test, y_test)"
   ]
  },
  {
   "cell_type": "code",
   "execution_count": 65,
   "id": "f6ae6cff",
   "metadata": {},
   "outputs": [],
   "source": [
    "from sklearn.feature_selection import SequentialFeatureSelector"
   ]
  },
  {
   "cell_type": "code",
   "execution_count": 66,
   "id": "8eb80cc2",
   "metadata": {},
   "outputs": [],
   "source": [
    "c=['Entries added in pipe', 'Unique accounts added in pipe',\n",
    "       'Amount added in pipe', 'Projects won', 'Unique accounts won',\n",
    "       'Amount won', 'Senior Associate_Util', 'Manager_Util', 'Associate_Util',\n",
    "       'Senior Manager_Util', 'Director_Util', 'Num SMs above target',\n",
    "       'Num Ds Above Target', 'Num As Above Target', 'Num Ms above target',\n",
    "       'Num SAs above target', 'Num As Below Target', 'Num Ms below target',\n",
    "       'Num SAs below target', 'Num Ds Below Target', 'Num SMs below target',\n",
    "       'SAs overutilized by', 'As overutilized by', 'Ms overutilized by',\n",
    "       'SMs overutilized by', 'Ds overutilized by', 'Ds underutilized by',\n",
    "       'SAs underutilized by', 'As underutilized by', 'Ms underutilized by',\n",
    "       'SMs underutilized by', 'Fracn of team as SAs', 'Fracn of teams as Ms',\n",
    "       'Fracn of team as As', 'Fracn of teams as SMs', 'Fracn of teams as Ds',\n",
    "       'Revenue Sum', 'EM% mean', 'EM% mean + 1',\n",
    "       'business_days', 'log of team size']"
   ]
  },
  {
   "cell_type": "code",
   "execution_count": 67,
   "id": "439c1a8e",
   "metadata": {},
   "outputs": [],
   "source": [
    "from joblib import dump, load\n",
    "from tqdm import tqdm"
   ]
  },
  {
   "cell_type": "code",
   "execution_count": 69,
   "id": "f8139763",
   "metadata": {},
   "outputs": [
    {
     "name": "stderr",
     "output_type": "stream",
     "text": [
      "100%|███████████████████████████████████████████████████████████████████████████████| 40/40 [47:45<00:00, 71.63s/it]\n"
     ]
    }
   ],
   "source": [
    "for i in tqdm(range(1, len(c))):\n",
    "    if os.path.exists('features_and_models/' + str(i) + '_sfs_forward.joblib'):\n",
    "        print('in else')\n",
    "        pass\n",
    "    else:\n",
    "        xgb = XGBRegressor(n_estimators = 50, max_depth = 4, tree_method=\"hist\", enable_categorical=True,random_state=42,n_jobs=-1)\n",
    "        sfs = SequentialFeatureSelector(xgb,n_features_to_select=i,n_jobs=-1)\n",
    "        sfs.fit(all_data_df[c], all_data_df['Revenue Sum + 1'])\n",
    "        dump(sfs, 'features_and_models/' + str(i) + '_sfs_forward.joblib')\n",
    "\n",
    "#         xgb = XGBRegressor(n_estimators = 50, max_depth = 4, tree_method=\"hist\", enable_categorical=True,random_state=42,n_jobs=-1)\n",
    "#         sfs = SequentialFeatureSelector(xgb,n_features_to_select=i,direction='backward',n_jobs=-1)\n",
    "#         sfs.fit(all_data_df[c], all_data_df['Revenue Sum + 1'])\n",
    "#         dump(sfs, 'features_and_models/' + str(i) + '_sfs_backward.joblib')"
   ]
  },
  {
   "cell_type": "code",
   "execution_count": 33,
   "id": "eb5be51e",
   "metadata": {},
   "outputs": [
    {
     "data": {
      "text/plain": [
       "['features_and_models/2_sfs_forward.joblib']"
      ]
     },
     "execution_count": 33,
     "metadata": {},
     "output_type": "execute_result"
    }
   ],
   "source": [
    "xgb = XGBRegressor(n_estimators = 50, max_depth = 4, tree_method=\"hist\", enable_categorical=True,random_state=42,n_jobs=-1)\n",
    "sfs = SequentialFeatureSelector(xgb,n_features_to_select=2,n_jobs=-1)\n",
    "sfs.fit(all_data_df[c], all_data_df['Revenue Sum + 1'])\n",
    "dump(sfs, 'features_and_models/' + str(2) + '_sfs_forward.joblib')\n"
   ]
  },
  {
   "cell_type": "code",
   "execution_count": 70,
   "id": "0ae0dd08",
   "metadata": {},
   "outputs": [],
   "source": [
    "stats_forward = []\n",
    "stats_backward = []"
   ]
  },
  {
   "cell_type": "code",
   "execution_count": 71,
   "id": "01deb4e4",
   "metadata": {},
   "outputs": [],
   "source": [
    "for i in range(1,41):\n",
    "    sfs = load('features_and_models/' + str(i) + '_sfs_forward.joblib')\n",
    "    X = sfs.transform(all_data_df[c])\n",
    "    X_train, X_test, y_train, y_test = train_test_split(X, y_log, test_size=0.30, random_state=42)\n",
    "    if os.path.exists('features_and_models/' + str(i) + '_xgb_forward.joblib'):\n",
    "        xgb = load('features_and_models/' + str(i) + '_xgb_forward.joblib')\n",
    "    else:\n",
    "        xgb = XGBRegressor(n_estimators = 50, max_depth = 4, tree_method=\"hist\", enable_categorical=True)\n",
    "        xgb.fit(X_train, y_train)\n",
    "        dump(xgb, 'features_and_models/' + str(i) + '_xgb_forward.joblib')\n",
    "    stats_forward.append([sfs.get_feature_names_out(), xgb.score(X_train, y_train), xgb.score(X_test, y_test)])\n",
    "    \n",
    "#     sfs = load('features_and_models/' + str(i) + '_sfs_backward.joblib')\n",
    "#     X = sfs.transform(all_data_df[c])\n",
    "#     X_train, X_test, y_train, y_test = train_test_split(X, y_log, test_size=0.30, random_state=42)\n",
    "#     if os.path.exists('features_and_models/' + str(i) + '_xgb_backward.joblib'):\n",
    "#         xgb = load('features_and_models/' + str(i) + '_xgb_backward.joblib')\n",
    "#     else:\n",
    "#         xgb = XGBRegressor(n_estimators = 50, max_depth = 4, tree_method=\"hist\", enable_categorical=True)\n",
    "#         xgb.fit(X_train, y_train)\n",
    "#         dump(xgb, 'features_and_models/' + str(i) + '_xgb_backward.joblib')\n",
    "#     stats_backward.append([sfs.get_feature_names_out(), xgb.score(X_train, y_train), xgb.score(X_test, y_test)])"
   ]
  },
  {
   "cell_type": "code",
   "execution_count": 72,
   "id": "085e777a",
   "metadata": {},
   "outputs": [],
   "source": [
    "stats_forward.sort(key=lambda x: x[2], reverse=True)"
   ]
  },
  {
   "cell_type": "code",
   "execution_count": null,
   "id": "a7f5cad6",
   "metadata": {},
   "outputs": [],
   "source": [
    "stats_forward[0]"
   ]
  },
  {
   "cell_type": "code",
   "execution_count": 73,
   "id": "c27ab574",
   "metadata": {},
   "outputs": [
    {
     "name": "stdout",
     "output_type": "stream",
     "text": [
      "-16.186520727649427\n",
      "-4.44402702403491\n",
      "0.9933924364031038\n",
      "0.9196920107164297\n"
     ]
    }
   ],
   "source": [
    "final_features = list(stats_forward[0][0]) + ['Growth Cell']\n",
    "X = all_data_df[final_features]\n",
    "X_train, X_test, y_train, y_test = train_test_split(X, y_log, test_size=0.30, random_state=42)\n",
    "model_with_growth_cell = XGBRegressor(n_estimators = 50, max_depth = 4, tree_method=\"hist\", enable_categorical=True)\n",
    "model_with_growth_cell.fit(X_train, y_train)\n",
    "print(model_with_growth_cell.score(X_train, y_train))\n",
    "print(model_with_growth_cell.score(X_test, y_test))\n",
    "print(stats_forward[0][1])\n",
    "print(stats_forward[0][2])"
   ]
  },
  {
   "cell_type": "code",
   "execution_count": 75,
   "id": "f6fb86c6",
   "metadata": {},
   "outputs": [
    {
     "ename": "FileNotFoundError",
     "evalue": "[Errno 2] No such file or directory: 'features_and_models/15_xgb.joblib'",
     "output_type": "error",
     "traceback": [
      "\u001b[1;31m---------------------------------------------------------------------------\u001b[0m",
      "\u001b[1;31mFileNotFoundError\u001b[0m                         Traceback (most recent call last)",
      "Input \u001b[1;32mIn [75]\u001b[0m, in \u001b[0;36m<cell line: 4>\u001b[1;34m()\u001b[0m\n\u001b[0;32m      2\u001b[0m X \u001b[38;5;241m=\u001b[39m all_data_df[final_features]\n\u001b[0;32m      3\u001b[0m X_train, X_test, y_train, y_test \u001b[38;5;241m=\u001b[39m train_test_split(X, y_log, test_size\u001b[38;5;241m=\u001b[39m\u001b[38;5;241m0.30\u001b[39m, random_state\u001b[38;5;241m=\u001b[39m\u001b[38;5;241m42\u001b[39m)\n\u001b[1;32m----> 4\u001b[0m final_model \u001b[38;5;241m=\u001b[39m \u001b[43mload\u001b[49m\u001b[43m(\u001b[49m\u001b[38;5;124;43m'\u001b[39;49m\u001b[38;5;124;43mfeatures_and_models/\u001b[39;49m\u001b[38;5;124;43m'\u001b[39;49m\u001b[43m \u001b[49m\u001b[38;5;241;43m+\u001b[39;49m\u001b[43m \u001b[49m\u001b[38;5;28;43mstr\u001b[39;49m\u001b[43m(\u001b[49m\u001b[38;5;28;43mlen\u001b[39;49m\u001b[43m(\u001b[49m\u001b[43mstats_forward\u001b[49m\u001b[43m[\u001b[49m\u001b[38;5;241;43m0\u001b[39;49m\u001b[43m]\u001b[49m\u001b[43m[\u001b[49m\u001b[38;5;241;43m0\u001b[39;49m\u001b[43m]\u001b[49m\u001b[43m)\u001b[49m\u001b[43m)\u001b[49m\u001b[43m \u001b[49m\u001b[38;5;241;43m+\u001b[39;49m\u001b[43m \u001b[49m\u001b[38;5;124;43m'\u001b[39;49m\u001b[38;5;124;43m_xgb.joblib\u001b[39;49m\u001b[38;5;124;43m'\u001b[39;49m\u001b[43m)\u001b[49m\n\u001b[0;32m      5\u001b[0m \u001b[38;5;28mprint\u001b[39m(final_model\u001b[38;5;241m.\u001b[39mscore(X_train, y_train))\n\u001b[0;32m      6\u001b[0m \u001b[38;5;28mprint\u001b[39m(final_model\u001b[38;5;241m.\u001b[39mscore(X_test, y_test))\n",
      "File \u001b[1;32m~\\anaconda3\\lib\\site-packages\\joblib\\numpy_pickle.py:579\u001b[0m, in \u001b[0;36mload\u001b[1;34m(filename, mmap_mode)\u001b[0m\n\u001b[0;32m    577\u001b[0m         obj \u001b[38;5;241m=\u001b[39m _unpickle(fobj)\n\u001b[0;32m    578\u001b[0m \u001b[38;5;28;01melse\u001b[39;00m:\n\u001b[1;32m--> 579\u001b[0m     \u001b[38;5;28;01mwith\u001b[39;00m \u001b[38;5;28;43mopen\u001b[39;49m\u001b[43m(\u001b[49m\u001b[43mfilename\u001b[49m\u001b[43m,\u001b[49m\u001b[43m \u001b[49m\u001b[38;5;124;43m'\u001b[39;49m\u001b[38;5;124;43mrb\u001b[39;49m\u001b[38;5;124;43m'\u001b[39;49m\u001b[43m)\u001b[49m \u001b[38;5;28;01mas\u001b[39;00m f:\n\u001b[0;32m    580\u001b[0m         \u001b[38;5;28;01mwith\u001b[39;00m _read_fileobject(f, filename, mmap_mode) \u001b[38;5;28;01mas\u001b[39;00m fobj:\n\u001b[0;32m    581\u001b[0m             \u001b[38;5;28;01mif\u001b[39;00m \u001b[38;5;28misinstance\u001b[39m(fobj, \u001b[38;5;28mstr\u001b[39m):\n\u001b[0;32m    582\u001b[0m                 \u001b[38;5;66;03m# if the returned file object is a string, this means we\u001b[39;00m\n\u001b[0;32m    583\u001b[0m                 \u001b[38;5;66;03m# try to load a pickle file generated with an version of\u001b[39;00m\n\u001b[0;32m    584\u001b[0m                 \u001b[38;5;66;03m# Joblib so we load it with joblib compatibility function.\u001b[39;00m\n",
      "\u001b[1;31mFileNotFoundError\u001b[0m: [Errno 2] No such file or directory: 'features_and_models/15_xgb.joblib'"
     ]
    }
   ],
   "source": [
    "final_features = list(stats_forward[0][0])\n",
    "X = all_data_df[final_features]\n",
    "X_train, X_test, y_train, y_test = train_test_split(X, y_log, test_size=0.30, random_state=42)\n",
    "final_model = load('features_and_models/' + str(len(stats_forward[0][0])) + '_xgb.joblib')\n",
    "print(final_model.score(X_train, y_train))\n",
    "print(final_model.score(X_test, y_test))"
   ]
  },
  {
   "cell_type": "code",
   "execution_count": null,
   "id": "bd5d9e60",
   "metadata": {},
   "outputs": [],
   "source": [
    "keep_columns = final_features"
   ]
  },
  {
   "cell_type": "code",
   "execution_count": null,
   "id": "2334b135",
   "metadata": {},
   "outputs": [],
   "source": [
    "keep_columns # forward selected columns"
   ]
  },
  {
   "cell_type": "code",
   "execution_count": 74,
   "id": "bcc15800",
   "metadata": {},
   "outputs": [
    {
     "data": {
      "text/plain": [
       "['Amount won',\n",
       " 'Associate_Util',\n",
       " 'Num SMs above target',\n",
       " 'Num Ds Above Target',\n",
       " 'Num As Above Target',\n",
       " 'Num Ms above target',\n",
       " 'Num SAs above target',\n",
       " 'Num As Below Target',\n",
       " 'Num SAs below target',\n",
       " 'Num Ds Below Target',\n",
       " 'As overutilized by',\n",
       " 'SMs underutilized by',\n",
       " 'Fracn of team as As',\n",
       " 'Revenue Sum',\n",
       " 'EM% mean + 1',\n",
       " 'Growth Cell']"
      ]
     },
     "execution_count": 74,
     "metadata": {},
     "output_type": "execute_result"
    }
   ],
   "source": [
    "final_features"
   ]
  },
  {
   "cell_type": "markdown",
   "id": "7e8e3a16",
   "metadata": {},
   "source": [
    "# Predict for Future"
   ]
  },
  {
   "cell_type": "code",
   "execution_count": null,
   "id": "c0ae6d75",
   "metadata": {
    "scrolled": true
   },
   "outputs": [],
   "source": [
    "to_pred_gc_time = to_pred[['Growth Cell', 'Time']]"
   ]
  },
  {
   "cell_type": "code",
   "execution_count": null,
   "id": "f7076b5f",
   "metadata": {},
   "outputs": [],
   "source": [
    "#X_copy = to_pred_copy.drop(['Identifier', 'Growth Cell', 'Time'], axis = 1)\n",
    "X_copy = to_pred[keep_columns]"
   ]
  },
  {
   "cell_type": "code",
   "execution_count": null,
   "id": "783084e2",
   "metadata": {},
   "outputs": [],
   "source": [
    "# pred_rev = (np.exp(model_xgb.predict(X_copy)) - 1)\n",
    "pred_rev = (np.exp(final_model.predict(X_copy)) - 1)"
   ]
  },
  {
   "cell_type": "code",
   "execution_count": null,
   "id": "c495b6c9",
   "metadata": {},
   "outputs": [],
   "source": [
    "to_pred_gc_time['Revenue Sum'] = pred_rev"
   ]
  },
  {
   "cell_type": "code",
   "execution_count": null,
   "id": "6756604e",
   "metadata": {
    "scrolled": true
   },
   "outputs": [],
   "source": [
    "to_pred_gc_time[to_pred_gc_time['Growth Cell'].apply(lambda x: x in scope_gcs)]"
   ]
  },
  {
   "cell_type": "code",
   "execution_count": null,
   "id": "e7e8bfc5",
   "metadata": {},
   "outputs": [],
   "source": []
  }
 ],
 "metadata": {
  "kernelspec": {
   "display_name": "Python 3 (ipykernel)",
   "language": "python",
   "name": "python3"
  },
  "language_info": {
   "codemirror_mode": {
    "name": "ipython",
    "version": 3
   },
   "file_extension": ".py",
   "mimetype": "text/x-python",
   "name": "python",
   "nbconvert_exporter": "python",
   "pygments_lexer": "ipython3",
   "version": "3.9.12"
  },
  "vscode": {
   "interpreter": {
    "hash": "a38351ae415a46c9357d181cbc0605f144b2a6ed92a3304311c05688b4cb644f"
   }
  }
 },
 "nbformat": 4,
 "nbformat_minor": 5
}
