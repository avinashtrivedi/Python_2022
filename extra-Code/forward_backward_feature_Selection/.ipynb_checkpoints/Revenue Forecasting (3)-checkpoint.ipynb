{
 "cells": [
  {
   "cell_type": "code",
   "execution_count": 1,
   "id": "3df95f17",
   "metadata": {},
   "outputs": [],
   "source": [
    "!python data_loading.py"
   ]
  },
  {
   "cell_type": "code",
   "execution_count": 2,
   "id": "f106104b",
   "metadata": {},
   "outputs": [],
   "source": [
    "!python model.py"
   ]
  },
  {
   "cell_type": "code",
   "execution_count": 3,
   "id": "abe2c111",
   "metadata": {},
   "outputs": [],
   "source": [
    "import numpy as np\n",
    "import pandas as pd\n",
    "import os"
   ]
  },
  {
   "cell_type": "code",
   "execution_count": 4,
   "id": "4a0ac470",
   "metadata": {},
   "outputs": [],
   "source": [
    "import warnings\n",
    "warnings.filterwarnings('ignore')"
   ]
  },
  {
   "cell_type": "code",
   "execution_count": 5,
   "id": "f63b7f4b",
   "metadata": {},
   "outputs": [],
   "source": [
    "from model import load_df, preprocess_df, impute_missing"
   ]
  },
  {
   "cell_type": "code",
   "execution_count": 6,
   "id": "560fd35d",
   "metadata": {},
   "outputs": [],
   "source": [
    "all_data_df = load_df(model_t_plus=1)"
   ]
  },
  {
   "cell_type": "code",
   "execution_count": 7,
   "id": "6d6c3305",
   "metadata": {},
   "outputs": [],
   "source": [
    "all_data_df = impute_missing(all_data_df)"
   ]
  },
  {
   "cell_type": "code",
   "execution_count": 8,
   "id": "08845dae",
   "metadata": {},
   "outputs": [],
   "source": [
    "all_data_df, to_pred, gc_time = preprocess_df(all_data_df, months_to_predict=['6.0_2022.0'], model_t_plus=1) "
   ]
  },
  {
   "cell_type": "code",
   "execution_count": 9,
   "id": "e336ee61",
   "metadata": {},
   "outputs": [],
   "source": [
    "scope_gcs = [\"ESV - PLS\",\n",
    "\"ESV - BCM\",\n",
    "\"DDV - IT\",\n",
    "\"FS - Banking and Capital Markets\",\n",
    "\"DDV - Operations\",\n",
    "\"Finance - Enterprise Performance Management\"]"
   ]
  },
  {
   "cell_type": "markdown",
   "id": "ec958123",
   "metadata": {},
   "source": [
    "## Models"
   ]
  },
  {
   "cell_type": "code",
   "execution_count": 10,
   "id": "9c9669d5",
   "metadata": {},
   "outputs": [],
   "source": [
    "from xgboost import XGBRegressor\n",
    "\n",
    "from sklearn.ensemble import RandomForestRegressor\n",
    "\n",
    "#model = RandomForestRegressor(n_estimators=125, max_depth = 3)\n",
    "\n",
    "model_xgb = XGBRegressor(n_estimators = 50, max_depth = 4, tree_method=\"hist\", enable_categorical=True)\n",
    "#model_xgb = XGBRegressor(n_estimators = 50, max_depth = 4)\n",
    "\n",
    "from sklearn.model_selection import train_test_split\n",
    "\n",
    "from sklearn.preprocessing import StandardScaler"
   ]
  },
  {
   "cell_type": "code",
   "execution_count": 11,
   "id": "8a6e0e84",
   "metadata": {},
   "outputs": [],
   "source": [
    "keep_columns = [ 'Amount added in pipe', 'Entries added in pipe', 'Unique accounts added in pipe', 'Amount won', 'Projects won', 'Unique accounts won', 'EM% mean', 'business_days', 'Fracn of team as As','Fracn of teams as Ms','As underutilized by', 'Ds underutilized by','log of team size']\n"
   ]
  },
  {
   "cell_type": "code",
   "execution_count": 12,
   "id": "fafbe1f3",
   "metadata": {},
   "outputs": [
    {
     "data": {
      "text/plain": [
       "Index(['Unique accounts added in pipe', 'Amount added in pipe',\n",
       "       'Entries added in pipe', 'Unique accounts won', 'Amount won',\n",
       "       'Projects won', 'Senior Associate_Util', 'Associate_Util',\n",
       "       'Director_Util', 'Senior Manager_Util', 'Manager_Util',\n",
       "       'Num Ds Above Target', 'Num As Above Target', 'Num SMs above target',\n",
       "       'Num SAs above target', 'Num Ms above target', 'Num Ms below target',\n",
       "       'Num As Below Target', 'Num Ds Below Target', 'Num SAs below target',\n",
       "       'Num SMs below target', 'Ds overutilized by', 'SMs overutilized by',\n",
       "       'SAs overutilized by', 'As overutilized by', 'Ms overutilized by',\n",
       "       'As underutilized by', 'Ms underutilized by', 'SMs underutilized by',\n",
       "       'Ds underutilized by', 'SAs underutilized by', 'Fracn of teams as SMs',\n",
       "       'Fracn of team as As', 'Fracn of team as SAs', 'Fracn of teams as Ms',\n",
       "       'Fracn of teams as Ds', 'Revenue Sum', 'EM% mean', 'Revenue Sum + 1',\n",
       "       'EM% mean + 1', 'Growth Cell', 'business_days', 'log of team size'],\n",
       "      dtype='object')"
      ]
     },
     "execution_count": 12,
     "metadata": {},
     "output_type": "execute_result"
    }
   ],
   "source": [
    "all_data_df.columns"
   ]
  },
  {
   "cell_type": "code",
   "execution_count": 13,
   "id": "4c2a3588",
   "metadata": {},
   "outputs": [],
   "source": [
    "y_log = all_data_df['Revenue Sum + 1']"
   ]
  },
  {
   "cell_type": "code",
   "execution_count": 14,
   "id": "fa0f9347",
   "metadata": {},
   "outputs": [],
   "source": [
    "X = all_data_df[keep_columns]"
   ]
  },
  {
   "cell_type": "code",
   "execution_count": 15,
   "id": "bb565cfb",
   "metadata": {},
   "outputs": [],
   "source": [
    "X_train, X_test, y_train, y_test = train_test_split(X, y_log, test_size=0.30, random_state=42)"
   ]
  },
  {
   "cell_type": "code",
   "execution_count": 16,
   "id": "1a1da02e",
   "metadata": {},
   "outputs": [
    {
     "data": {
      "text/plain": [
       "XGBRegressor(base_score=0.5, booster='gbtree', callbacks=None,\n",
       "             colsample_bylevel=1, colsample_bynode=1, colsample_bytree=1,\n",
       "             early_stopping_rounds=None, enable_categorical=True,\n",
       "             eval_metric=None, gamma=0, gpu_id=-1, grow_policy='depthwise',\n",
       "             importance_type=None, interaction_constraints='',\n",
       "             learning_rate=0.300000012, max_bin=256, max_cat_to_onehot=4,\n",
       "             max_delta_step=0, max_depth=4, max_leaves=0, min_child_weight=1,\n",
       "             missing=nan, monotone_constraints='()', n_estimators=50, n_jobs=0,\n",
       "             num_parallel_tree=1, predictor='auto', random_state=0, reg_alpha=0,\n",
       "             reg_lambda=1, ...)"
      ]
     },
     "execution_count": 16,
     "metadata": {},
     "output_type": "execute_result"
    }
   ],
   "source": [
    "model_xgb.fit(X_train, y_train)"
   ]
  },
  {
   "cell_type": "code",
   "execution_count": 17,
   "id": "cd4f3a87",
   "metadata": {},
   "outputs": [
    {
     "data": {
      "text/plain": [
       "0.984259880857257"
      ]
     },
     "execution_count": 17,
     "metadata": {},
     "output_type": "execute_result"
    }
   ],
   "source": [
    "model_xgb.score(X_train, y_train)"
   ]
  },
  {
   "cell_type": "code",
   "execution_count": 18,
   "id": "86b92d83",
   "metadata": {},
   "outputs": [
    {
     "data": {
      "text/plain": [
       "0.8401189093160855"
      ]
     },
     "execution_count": 18,
     "metadata": {},
     "output_type": "execute_result"
    }
   ],
   "source": [
    "model_xgb.score(X_test, y_test)"
   ]
  },
  {
   "cell_type": "markdown",
   "id": "1b86e19c",
   "metadata": {},
   "source": [
    "## Including Growth Call as One Hot Encoding"
   ]
  },
  {
   "cell_type": "code",
   "execution_count": 19,
   "id": "c22e5dee",
   "metadata": {},
   "outputs": [],
   "source": [
    "from sklearn.preprocessing import OneHotEncoder"
   ]
  },
  {
   "cell_type": "code",
   "execution_count": 20,
   "id": "ec16d029",
   "metadata": {},
   "outputs": [
    {
     "data": {
      "text/plain": [
       "OneHotEncoder(handle_unknown='ignore', sparse=False)"
      ]
     },
     "execution_count": 20,
     "metadata": {},
     "output_type": "execute_result"
    }
   ],
   "source": [
    "enc = OneHotEncoder(handle_unknown='ignore',sparse=False)\n",
    "enc.fit(all_data_df[['Growth Cell']])"
   ]
  },
  {
   "cell_type": "code",
   "execution_count": 21,
   "id": "60a30462",
   "metadata": {},
   "outputs": [
    {
     "data": {
      "text/html": [
       "<div>\n",
       "<style scoped>\n",
       "    .dataframe tbody tr th:only-of-type {\n",
       "        vertical-align: middle;\n",
       "    }\n",
       "\n",
       "    .dataframe tbody tr th {\n",
       "        vertical-align: top;\n",
       "    }\n",
       "\n",
       "    .dataframe thead th {\n",
       "        text-align: right;\n",
       "    }\n",
       "</style>\n",
       "<table border=\"1\" class=\"dataframe\">\n",
       "  <thead>\n",
       "    <tr style=\"text-align: right;\">\n",
       "      <th></th>\n",
       "      <th>Growth Cell_Cannot Find</th>\n",
       "      <th>Growth Cell_Customer - Analytics</th>\n",
       "      <th>Growth Cell_Customer - Customer Strategy &amp; Experience</th>\n",
       "      <th>Growth Cell_Customer - Marketing</th>\n",
       "      <th>Growth Cell_Customer - Pricing &amp; Profitability</th>\n",
       "      <th>Growth Cell_Customer - Sales</th>\n",
       "      <th>Growth Cell_Customer - Service</th>\n",
       "      <th>Growth Cell_DDV - Finance</th>\n",
       "      <th>Growth Cell_DDV - GTM</th>\n",
       "      <th>Growth Cell_DDV - ISD (Integration, Separation, Divestitures)</th>\n",
       "      <th>...</th>\n",
       "      <th>Growth Cell_Health - R&amp;D Future of Clinical Trials</th>\n",
       "      <th>Growth Cell_Ops - Capital Project Excellence (CPE)</th>\n",
       "      <th>Growth Cell_Ops - Connected Supply Chain (CSC)</th>\n",
       "      <th>Growth Cell_Ops - Org Strategy Strategy &amp; Solutions (OSS)</th>\n",
       "      <th>Growth Cell_Ops - Product Development &amp; Manufacturing (PDM)</th>\n",
       "      <th>Growth Cell_Ops - Sourcing &amp; Procurement (S&amp;P)</th>\n",
       "      <th>Growth Cell_Workforce - Deals</th>\n",
       "      <th>Growth Cell_Workforce - HRT</th>\n",
       "      <th>Growth Cell_Workforce - Rewards &amp; Well Being</th>\n",
       "      <th>Growth Cell_Workforce - Talent, Change &amp; Behaviors</th>\n",
       "    </tr>\n",
       "  </thead>\n",
       "  <tbody>\n",
       "    <tr>\n",
       "      <th>0</th>\n",
       "      <td>1.0</td>\n",
       "      <td>0.0</td>\n",
       "      <td>0.0</td>\n",
       "      <td>0.0</td>\n",
       "      <td>0.0</td>\n",
       "      <td>0.0</td>\n",
       "      <td>0.0</td>\n",
       "      <td>0.0</td>\n",
       "      <td>0.0</td>\n",
       "      <td>0.0</td>\n",
       "      <td>...</td>\n",
       "      <td>0.0</td>\n",
       "      <td>0.0</td>\n",
       "      <td>0.0</td>\n",
       "      <td>0.0</td>\n",
       "      <td>0.0</td>\n",
       "      <td>0.0</td>\n",
       "      <td>0.0</td>\n",
       "      <td>0.0</td>\n",
       "      <td>0.0</td>\n",
       "      <td>0.0</td>\n",
       "    </tr>\n",
       "    <tr>\n",
       "      <th>1</th>\n",
       "      <td>1.0</td>\n",
       "      <td>0.0</td>\n",
       "      <td>0.0</td>\n",
       "      <td>0.0</td>\n",
       "      <td>0.0</td>\n",
       "      <td>0.0</td>\n",
       "      <td>0.0</td>\n",
       "      <td>0.0</td>\n",
       "      <td>0.0</td>\n",
       "      <td>0.0</td>\n",
       "      <td>...</td>\n",
       "      <td>0.0</td>\n",
       "      <td>0.0</td>\n",
       "      <td>0.0</td>\n",
       "      <td>0.0</td>\n",
       "      <td>0.0</td>\n",
       "      <td>0.0</td>\n",
       "      <td>0.0</td>\n",
       "      <td>0.0</td>\n",
       "      <td>0.0</td>\n",
       "      <td>0.0</td>\n",
       "    </tr>\n",
       "    <tr>\n",
       "      <th>2</th>\n",
       "      <td>1.0</td>\n",
       "      <td>0.0</td>\n",
       "      <td>0.0</td>\n",
       "      <td>0.0</td>\n",
       "      <td>0.0</td>\n",
       "      <td>0.0</td>\n",
       "      <td>0.0</td>\n",
       "      <td>0.0</td>\n",
       "      <td>0.0</td>\n",
       "      <td>0.0</td>\n",
       "      <td>...</td>\n",
       "      <td>0.0</td>\n",
       "      <td>0.0</td>\n",
       "      <td>0.0</td>\n",
       "      <td>0.0</td>\n",
       "      <td>0.0</td>\n",
       "      <td>0.0</td>\n",
       "      <td>0.0</td>\n",
       "      <td>0.0</td>\n",
       "      <td>0.0</td>\n",
       "      <td>0.0</td>\n",
       "    </tr>\n",
       "    <tr>\n",
       "      <th>3</th>\n",
       "      <td>1.0</td>\n",
       "      <td>0.0</td>\n",
       "      <td>0.0</td>\n",
       "      <td>0.0</td>\n",
       "      <td>0.0</td>\n",
       "      <td>0.0</td>\n",
       "      <td>0.0</td>\n",
       "      <td>0.0</td>\n",
       "      <td>0.0</td>\n",
       "      <td>0.0</td>\n",
       "      <td>...</td>\n",
       "      <td>0.0</td>\n",
       "      <td>0.0</td>\n",
       "      <td>0.0</td>\n",
       "      <td>0.0</td>\n",
       "      <td>0.0</td>\n",
       "      <td>0.0</td>\n",
       "      <td>0.0</td>\n",
       "      <td>0.0</td>\n",
       "      <td>0.0</td>\n",
       "      <td>0.0</td>\n",
       "    </tr>\n",
       "    <tr>\n",
       "      <th>4</th>\n",
       "      <td>1.0</td>\n",
       "      <td>0.0</td>\n",
       "      <td>0.0</td>\n",
       "      <td>0.0</td>\n",
       "      <td>0.0</td>\n",
       "      <td>0.0</td>\n",
       "      <td>0.0</td>\n",
       "      <td>0.0</td>\n",
       "      <td>0.0</td>\n",
       "      <td>0.0</td>\n",
       "      <td>...</td>\n",
       "      <td>0.0</td>\n",
       "      <td>0.0</td>\n",
       "      <td>0.0</td>\n",
       "      <td>0.0</td>\n",
       "      <td>0.0</td>\n",
       "      <td>0.0</td>\n",
       "      <td>0.0</td>\n",
       "      <td>0.0</td>\n",
       "      <td>0.0</td>\n",
       "      <td>0.0</td>\n",
       "    </tr>\n",
       "    <tr>\n",
       "      <th>...</th>\n",
       "      <td>...</td>\n",
       "      <td>...</td>\n",
       "      <td>...</td>\n",
       "      <td>...</td>\n",
       "      <td>...</td>\n",
       "      <td>...</td>\n",
       "      <td>...</td>\n",
       "      <td>...</td>\n",
       "      <td>...</td>\n",
       "      <td>...</td>\n",
       "      <td>...</td>\n",
       "      <td>...</td>\n",
       "      <td>...</td>\n",
       "      <td>...</td>\n",
       "      <td>...</td>\n",
       "      <td>...</td>\n",
       "      <td>...</td>\n",
       "      <td>...</td>\n",
       "      <td>...</td>\n",
       "      <td>...</td>\n",
       "      <td>...</td>\n",
       "    </tr>\n",
       "    <tr>\n",
       "      <th>720</th>\n",
       "      <td>0.0</td>\n",
       "      <td>0.0</td>\n",
       "      <td>0.0</td>\n",
       "      <td>0.0</td>\n",
       "      <td>0.0</td>\n",
       "      <td>0.0</td>\n",
       "      <td>0.0</td>\n",
       "      <td>0.0</td>\n",
       "      <td>0.0</td>\n",
       "      <td>0.0</td>\n",
       "      <td>...</td>\n",
       "      <td>1.0</td>\n",
       "      <td>0.0</td>\n",
       "      <td>0.0</td>\n",
       "      <td>0.0</td>\n",
       "      <td>0.0</td>\n",
       "      <td>0.0</td>\n",
       "      <td>0.0</td>\n",
       "      <td>0.0</td>\n",
       "      <td>0.0</td>\n",
       "      <td>0.0</td>\n",
       "    </tr>\n",
       "    <tr>\n",
       "      <th>721</th>\n",
       "      <td>0.0</td>\n",
       "      <td>0.0</td>\n",
       "      <td>0.0</td>\n",
       "      <td>0.0</td>\n",
       "      <td>0.0</td>\n",
       "      <td>0.0</td>\n",
       "      <td>0.0</td>\n",
       "      <td>0.0</td>\n",
       "      <td>0.0</td>\n",
       "      <td>0.0</td>\n",
       "      <td>...</td>\n",
       "      <td>1.0</td>\n",
       "      <td>0.0</td>\n",
       "      <td>0.0</td>\n",
       "      <td>0.0</td>\n",
       "      <td>0.0</td>\n",
       "      <td>0.0</td>\n",
       "      <td>0.0</td>\n",
       "      <td>0.0</td>\n",
       "      <td>0.0</td>\n",
       "      <td>0.0</td>\n",
       "    </tr>\n",
       "    <tr>\n",
       "      <th>722</th>\n",
       "      <td>0.0</td>\n",
       "      <td>0.0</td>\n",
       "      <td>0.0</td>\n",
       "      <td>0.0</td>\n",
       "      <td>0.0</td>\n",
       "      <td>0.0</td>\n",
       "      <td>0.0</td>\n",
       "      <td>0.0</td>\n",
       "      <td>0.0</td>\n",
       "      <td>0.0</td>\n",
       "      <td>...</td>\n",
       "      <td>1.0</td>\n",
       "      <td>0.0</td>\n",
       "      <td>0.0</td>\n",
       "      <td>0.0</td>\n",
       "      <td>0.0</td>\n",
       "      <td>0.0</td>\n",
       "      <td>0.0</td>\n",
       "      <td>0.0</td>\n",
       "      <td>0.0</td>\n",
       "      <td>0.0</td>\n",
       "    </tr>\n",
       "    <tr>\n",
       "      <th>723</th>\n",
       "      <td>0.0</td>\n",
       "      <td>0.0</td>\n",
       "      <td>0.0</td>\n",
       "      <td>0.0</td>\n",
       "      <td>0.0</td>\n",
       "      <td>0.0</td>\n",
       "      <td>0.0</td>\n",
       "      <td>0.0</td>\n",
       "      <td>0.0</td>\n",
       "      <td>0.0</td>\n",
       "      <td>...</td>\n",
       "      <td>1.0</td>\n",
       "      <td>0.0</td>\n",
       "      <td>0.0</td>\n",
       "      <td>0.0</td>\n",
       "      <td>0.0</td>\n",
       "      <td>0.0</td>\n",
       "      <td>0.0</td>\n",
       "      <td>0.0</td>\n",
       "      <td>0.0</td>\n",
       "      <td>0.0</td>\n",
       "    </tr>\n",
       "    <tr>\n",
       "      <th>724</th>\n",
       "      <td>0.0</td>\n",
       "      <td>0.0</td>\n",
       "      <td>0.0</td>\n",
       "      <td>0.0</td>\n",
       "      <td>0.0</td>\n",
       "      <td>0.0</td>\n",
       "      <td>0.0</td>\n",
       "      <td>0.0</td>\n",
       "      <td>0.0</td>\n",
       "      <td>0.0</td>\n",
       "      <td>...</td>\n",
       "      <td>1.0</td>\n",
       "      <td>0.0</td>\n",
       "      <td>0.0</td>\n",
       "      <td>0.0</td>\n",
       "      <td>0.0</td>\n",
       "      <td>0.0</td>\n",
       "      <td>0.0</td>\n",
       "      <td>0.0</td>\n",
       "      <td>0.0</td>\n",
       "      <td>0.0</td>\n",
       "    </tr>\n",
       "  </tbody>\n",
       "</table>\n",
       "<p>471 rows × 48 columns</p>\n",
       "</div>"
      ],
      "text/plain": [
       "     Growth Cell_Cannot Find  Growth Cell_Customer - Analytics  \\\n",
       "0                        1.0                               0.0   \n",
       "1                        1.0                               0.0   \n",
       "2                        1.0                               0.0   \n",
       "3                        1.0                               0.0   \n",
       "4                        1.0                               0.0   \n",
       "..                       ...                               ...   \n",
       "720                      0.0                               0.0   \n",
       "721                      0.0                               0.0   \n",
       "722                      0.0                               0.0   \n",
       "723                      0.0                               0.0   \n",
       "724                      0.0                               0.0   \n",
       "\n",
       "     Growth Cell_Customer - Customer Strategy & Experience  \\\n",
       "0                                                  0.0       \n",
       "1                                                  0.0       \n",
       "2                                                  0.0       \n",
       "3                                                  0.0       \n",
       "4                                                  0.0       \n",
       "..                                                 ...       \n",
       "720                                                0.0       \n",
       "721                                                0.0       \n",
       "722                                                0.0       \n",
       "723                                                0.0       \n",
       "724                                                0.0       \n",
       "\n",
       "     Growth Cell_Customer - Marketing  \\\n",
       "0                                 0.0   \n",
       "1                                 0.0   \n",
       "2                                 0.0   \n",
       "3                                 0.0   \n",
       "4                                 0.0   \n",
       "..                                ...   \n",
       "720                               0.0   \n",
       "721                               0.0   \n",
       "722                               0.0   \n",
       "723                               0.0   \n",
       "724                               0.0   \n",
       "\n",
       "     Growth Cell_Customer - Pricing & Profitability  \\\n",
       "0                                               0.0   \n",
       "1                                               0.0   \n",
       "2                                               0.0   \n",
       "3                                               0.0   \n",
       "4                                               0.0   \n",
       "..                                              ...   \n",
       "720                                             0.0   \n",
       "721                                             0.0   \n",
       "722                                             0.0   \n",
       "723                                             0.0   \n",
       "724                                             0.0   \n",
       "\n",
       "     Growth Cell_Customer - Sales  Growth Cell_Customer - Service  \\\n",
       "0                             0.0                             0.0   \n",
       "1                             0.0                             0.0   \n",
       "2                             0.0                             0.0   \n",
       "3                             0.0                             0.0   \n",
       "4                             0.0                             0.0   \n",
       "..                            ...                             ...   \n",
       "720                           0.0                             0.0   \n",
       "721                           0.0                             0.0   \n",
       "722                           0.0                             0.0   \n",
       "723                           0.0                             0.0   \n",
       "724                           0.0                             0.0   \n",
       "\n",
       "     Growth Cell_DDV - Finance  Growth Cell_DDV - GTM  \\\n",
       "0                          0.0                    0.0   \n",
       "1                          0.0                    0.0   \n",
       "2                          0.0                    0.0   \n",
       "3                          0.0                    0.0   \n",
       "4                          0.0                    0.0   \n",
       "..                         ...                    ...   \n",
       "720                        0.0                    0.0   \n",
       "721                        0.0                    0.0   \n",
       "722                        0.0                    0.0   \n",
       "723                        0.0                    0.0   \n",
       "724                        0.0                    0.0   \n",
       "\n",
       "     Growth Cell_DDV - ISD (Integration, Separation, Divestitures)  ...  \\\n",
       "0                                                  0.0              ...   \n",
       "1                                                  0.0              ...   \n",
       "2                                                  0.0              ...   \n",
       "3                                                  0.0              ...   \n",
       "4                                                  0.0              ...   \n",
       "..                                                 ...              ...   \n",
       "720                                                0.0              ...   \n",
       "721                                                0.0              ...   \n",
       "722                                                0.0              ...   \n",
       "723                                                0.0              ...   \n",
       "724                                                0.0              ...   \n",
       "\n",
       "     Growth Cell_Health - R&D Future of Clinical Trials  \\\n",
       "0                                                  0.0    \n",
       "1                                                  0.0    \n",
       "2                                                  0.0    \n",
       "3                                                  0.0    \n",
       "4                                                  0.0    \n",
       "..                                                 ...    \n",
       "720                                                1.0    \n",
       "721                                                1.0    \n",
       "722                                                1.0    \n",
       "723                                                1.0    \n",
       "724                                                1.0    \n",
       "\n",
       "     Growth Cell_Ops - Capital Project Excellence (CPE)  \\\n",
       "0                                                  0.0    \n",
       "1                                                  0.0    \n",
       "2                                                  0.0    \n",
       "3                                                  0.0    \n",
       "4                                                  0.0    \n",
       "..                                                 ...    \n",
       "720                                                0.0    \n",
       "721                                                0.0    \n",
       "722                                                0.0    \n",
       "723                                                0.0    \n",
       "724                                                0.0    \n",
       "\n",
       "     Growth Cell_Ops - Connected Supply Chain (CSC)  \\\n",
       "0                                               0.0   \n",
       "1                                               0.0   \n",
       "2                                               0.0   \n",
       "3                                               0.0   \n",
       "4                                               0.0   \n",
       "..                                              ...   \n",
       "720                                             0.0   \n",
       "721                                             0.0   \n",
       "722                                             0.0   \n",
       "723                                             0.0   \n",
       "724                                             0.0   \n",
       "\n",
       "     Growth Cell_Ops - Org Strategy Strategy & Solutions (OSS)  \\\n",
       "0                                                  0.0           \n",
       "1                                                  0.0           \n",
       "2                                                  0.0           \n",
       "3                                                  0.0           \n",
       "4                                                  0.0           \n",
       "..                                                 ...           \n",
       "720                                                0.0           \n",
       "721                                                0.0           \n",
       "722                                                0.0           \n",
       "723                                                0.0           \n",
       "724                                                0.0           \n",
       "\n",
       "     Growth Cell_Ops - Product Development & Manufacturing (PDM)  \\\n",
       "0                                                  0.0             \n",
       "1                                                  0.0             \n",
       "2                                                  0.0             \n",
       "3                                                  0.0             \n",
       "4                                                  0.0             \n",
       "..                                                 ...             \n",
       "720                                                0.0             \n",
       "721                                                0.0             \n",
       "722                                                0.0             \n",
       "723                                                0.0             \n",
       "724                                                0.0             \n",
       "\n",
       "     Growth Cell_Ops - Sourcing & Procurement (S&P)  \\\n",
       "0                                               0.0   \n",
       "1                                               0.0   \n",
       "2                                               0.0   \n",
       "3                                               0.0   \n",
       "4                                               0.0   \n",
       "..                                              ...   \n",
       "720                                             0.0   \n",
       "721                                             0.0   \n",
       "722                                             0.0   \n",
       "723                                             0.0   \n",
       "724                                             0.0   \n",
       "\n",
       "     Growth Cell_Workforce - Deals  Growth Cell_Workforce - HRT  \\\n",
       "0                              0.0                          0.0   \n",
       "1                              0.0                          0.0   \n",
       "2                              0.0                          0.0   \n",
       "3                              0.0                          0.0   \n",
       "4                              0.0                          0.0   \n",
       "..                             ...                          ...   \n",
       "720                            0.0                          0.0   \n",
       "721                            0.0                          0.0   \n",
       "722                            0.0                          0.0   \n",
       "723                            0.0                          0.0   \n",
       "724                            0.0                          0.0   \n",
       "\n",
       "     Growth Cell_Workforce - Rewards & Well Being  \\\n",
       "0                                             0.0   \n",
       "1                                             0.0   \n",
       "2                                             0.0   \n",
       "3                                             0.0   \n",
       "4                                             0.0   \n",
       "..                                            ...   \n",
       "720                                           0.0   \n",
       "721                                           0.0   \n",
       "722                                           0.0   \n",
       "723                                           0.0   \n",
       "724                                           0.0   \n",
       "\n",
       "     Growth Cell_Workforce - Talent, Change & Behaviors  \n",
       "0                                                  0.0   \n",
       "1                                                  0.0   \n",
       "2                                                  0.0   \n",
       "3                                                  0.0   \n",
       "4                                                  0.0   \n",
       "..                                                 ...   \n",
       "720                                                0.0   \n",
       "721                                                0.0   \n",
       "722                                                0.0   \n",
       "723                                                0.0   \n",
       "724                                                0.0   \n",
       "\n",
       "[471 rows x 48 columns]"
      ]
     },
     "execution_count": 21,
     "metadata": {},
     "output_type": "execute_result"
    }
   ],
   "source": [
    "pd.DataFrame(enc.transform(all_data_df[['Growth Cell']]), columns=enc.get_feature_names_out(),index=all_data_df.index)"
   ]
  },
  {
   "cell_type": "code",
   "execution_count": 22,
   "id": "d87bea15",
   "metadata": {},
   "outputs": [],
   "source": [
    "data = pd.concat([all_data_df.drop(\"Growth Cell\", axis=1), pd.DataFrame(enc.transform(all_data_df[['Growth Cell']]), columns=enc.get_feature_names_out(),index=all_data_df.index)],axis=1)"
   ]
  },
  {
   "cell_type": "code",
   "execution_count": 23,
   "id": "f6ae6cff",
   "metadata": {},
   "outputs": [],
   "source": [
    "from sklearn.feature_selection import SequentialFeatureSelector\n",
    "from joblib import dump, load"
   ]
  },
  {
   "cell_type": "code",
   "execution_count": 24,
   "id": "8eb80cc2",
   "metadata": {},
   "outputs": [],
   "source": [
    "c=list(data.columns)\n",
    "c.remove('Revenue Sum + 1')"
   ]
  },
  {
   "cell_type": "code",
   "execution_count": 25,
   "id": "f8139763",
   "metadata": {},
   "outputs": [],
   "source": [
    "for i in range(1, len(c)):\n",
    "    if os.path.exists('features_and_models_growth/' + str(i) + '_sfs_forward.joblib'):\n",
    "        pass\n",
    "    else:\n",
    "        xgb = XGBRegressor(n_estimators = 50, max_depth = 4, tree_method=\"hist\", enable_categorical=True,random_state=42,n_jobs=-1)\n",
    "        sfs = SequentialFeatureSelector(xgb,n_features_to_select=i,n_jobs=-1)\n",
    "        sfs.fit(data[c], data['Revenue Sum + 1'])\n",
    "        dump(sfs, 'features_and_models_growth/' + str(i) + '_sfs_forward.joblib')\n",
    "\n",
    "        xgb = XGBRegressor(n_estimators = 50, max_depth = 4, tree_method=\"hist\", enable_categorical=True,random_state=42,n_jobs=-1)\n",
    "        sfs = SequentialFeatureSelector(xgb,n_features_to_select=i,direction='backward',n_jobs=-1)\n",
    "        sfs.fit(data[c], data['Revenue Sum + 1'])\n",
    "        dump(sfs, 'features_and_models_growth/' + str(i) + '_sfs_backward.joblib')"
   ]
  },
  {
   "cell_type": "code",
   "execution_count": 26,
   "id": "0ae0dd08",
   "metadata": {},
   "outputs": [],
   "source": [
    "stats = []"
   ]
  },
  {
   "cell_type": "code",
   "execution_count": 27,
   "id": "1e9d17bc",
   "metadata": {},
   "outputs": [],
   "source": [
    "def get_feats(sfs):\n",
    "    feats = []\n",
    "    for i,val in enumerate(sfs.get_support()):\n",
    "        if val:\n",
    "            feats.append(c[i])\n",
    "    return feats"
   ]
  },
  {
   "cell_type": "code",
   "execution_count": 28,
   "id": "fc3b7c34",
   "metadata": {},
   "outputs": [],
   "source": [
    "for i in range(1,len(c)):\n",
    "    sfs = load('features_and_models_growth/' + str(i) + '_sfs_forward.joblib')\n",
    "    X = sfs.transform(data[c])\n",
    "    X_train, X_test, y_train, y_test = train_test_split(X, y_log, test_size=0.30, random_state=42)\n",
    "    if os.path.exists('features_and_models_growth/' + str(i) + '_xgb_forward.joblib'):\n",
    "        xgb = load('features_and_models_growth/' + str(i) + '_xgb_forward.joblib')\n",
    "    else:\n",
    "        xgb = XGBRegressor(n_estimators = 50, max_depth = 4, tree_method=\"hist\", enable_categorical=True,n_jobs=-1)\n",
    "        xgb.fit(X_train, y_train)\n",
    "        dump(xgb, 'features_and_models_growth/' + str(i) + '_xgb_forward.joblib')\n",
    "    stats.append([get_feats(sfs), xgb.score(X_train, y_train), xgb.score(X_test, y_test), '_growth', '_forward'])\n",
    "    \n",
    "    sfs = load('features_and_models_growth/' + str(i) + '_sfs_backward.joblib')\n",
    "    X = sfs.transform(data[c])\n",
    "    X_train, X_test, y_train, y_test = train_test_split(X, y_log, test_size=0.30, random_state=42)\n",
    "    if os.path.exists('features_and_models_growth/' + str(i) + '_xgb_backward.joblib'):\n",
    "        xgb = load('features_and_models_growth/' + str(i) + '_xgb_backward.joblib')\n",
    "    else:\n",
    "        xgb = XGBRegressor(n_estimators = 50, max_depth = 4, tree_method=\"hist\", enable_categorical=True,n_jobs=-1)\n",
    "        xgb.fit(X_train, y_train)\n",
    "        dump(xgb, 'features_and_models_growth/' + str(i) + '_xgb_backward.joblib')\n",
    "    stats.append([get_feats(sfs), xgb.score(X_train, y_train), xgb.score(X_test, y_test), '_growth', '_backward'])"
   ]
  },
  {
   "cell_type": "markdown",
   "id": "6ce2d2b5",
   "metadata": {},
   "source": [
    "## Excluding Growth Call "
   ]
  },
  {
   "cell_type": "code",
   "execution_count": 29,
   "id": "447ec7c0",
   "metadata": {},
   "outputs": [],
   "source": [
    "c=list(all_data_df.columns)\n",
    "c.remove('Revenue Sum + 1')\n",
    "c.remove('Growth Cell')"
   ]
  },
  {
   "cell_type": "code",
   "execution_count": 30,
   "id": "f0b9d3d3",
   "metadata": {},
   "outputs": [],
   "source": [
    "for i in range(1, len(c)):\n",
    "    if os.path.exists('features_and_models/' + str(i) + '_sfs_forward.joblib'):\n",
    "        pass\n",
    "    else:\n",
    "        xgb = XGBRegressor(n_estimators = 50, max_depth = 4, tree_method=\"hist\", enable_categorical=True,random_state=42,n_jobs=-1)\n",
    "        sfs = SequentialFeatureSelector(xgb,n_features_to_select=i,n_jobs=-1)\n",
    "        sfs.fit(all_data_df[c], all_data_df['Revenue Sum + 1'])\n",
    "        dump(sfs, 'features_and_models/' + str(i) + '_sfs_forward.joblib')\n",
    "\n",
    "        xgb = XGBRegressor(n_estimators = 50, max_depth = 4, tree_method=\"hist\", enable_categorical=True,random_state=42,n_jobs=-1)\n",
    "        sfs = SequentialFeatureSelector(xgb,n_features_to_select=i,direction='backward',n_jobs=-1)\n",
    "        sfs.fit(all_data_df[c], all_data_df['Revenue Sum + 1'])\n",
    "        dump(sfs, 'features_and_models/' + str(i) + '_sfs_backward.joblib')"
   ]
  },
  {
   "cell_type": "code",
   "execution_count": 31,
   "id": "01deb4e4",
   "metadata": {},
   "outputs": [],
   "source": [
    "for i in range(1,len(c)):\n",
    "    sfs = load('features_and_models/' + str(i) + '_sfs_forward.joblib')\n",
    "    X = sfs.transform(all_data_df[c])\n",
    "    X_train, X_test, y_train, y_test = train_test_split(X, y_log, test_size=0.30, random_state=42)\n",
    "    if os.path.exists('features_and_models/' + str(i) + '_xgb_forward.joblib'):\n",
    "        xgb = load('features_and_models/' + str(i) + '_xgb_forward.joblib')\n",
    "    else:\n",
    "        xgb = XGBRegressor(n_estimators = 50, max_depth = 4, tree_method=\"hist\", enable_categorical=True,n_jobs=-1)\n",
    "        xgb.fit(X_train, y_train)\n",
    "        dump(xgb, 'features_and_models/' + str(i) + '_xgb_forward.joblib')\n",
    "    stats.append([get_feats(sfs), xgb.score(X_train, y_train), xgb.score(X_test, y_test), '', '_forward'])\n",
    "    \n",
    "    sfs = load('features_and_models/' + str(i) + '_sfs_backward.joblib')\n",
    "    X = sfs.transform(all_data_df[c])\n",
    "    X_train, X_test, y_train, y_test = train_test_split(X, y_log, test_size=0.30, random_state=42)\n",
    "    if os.path.exists('features_and_models/' + str(i) + '_xgb_backward.joblib'):\n",
    "        xgb = load('features_and_models/' + str(i) + '_xgb_backward.joblib')\n",
    "    else:\n",
    "        xgb = XGBRegressor(n_estimators = 50, max_depth = 4, tree_method=\"hist\", enable_categorical=True,n_jobs=-1)\n",
    "        xgb.fit(X_train, y_train)\n",
    "        dump(xgb, 'features_and_models/' + str(i) + '_xgb_backward.joblib')\n",
    "    stats.append([get_feats(sfs), xgb.score(X_train, y_train), xgb.score(X_test, y_test), '', '_backward'])"
   ]
  },
  {
   "cell_type": "markdown",
   "id": "6388670c",
   "metadata": {},
   "source": [
    "## Finding the model that gives best performance"
   ]
  },
  {
   "cell_type": "code",
   "execution_count": 32,
   "id": "085e777a",
   "metadata": {},
   "outputs": [],
   "source": [
    "stats.sort(key=lambda x: x[2], reverse=True)"
   ]
  },
  {
   "cell_type": "code",
   "execution_count": 33,
   "id": "a7f5cad6",
   "metadata": {},
   "outputs": [
    {
     "data": {
      "text/plain": [
       "[['Revenue Sum', 'EM% mean + 1'],\n",
       " 0.9875885304750589,\n",
       " 0.9554403034948116,\n",
       " '_growth',\n",
       " '_backward']"
      ]
     },
     "execution_count": 33,
     "metadata": {},
     "output_type": "execute_result"
    }
   ],
   "source": [
    "stats[0]"
   ]
  },
  {
   "cell_type": "code",
   "execution_count": 34,
   "id": "f6fb86c6",
   "metadata": {},
   "outputs": [
    {
     "name": "stdout",
     "output_type": "stream",
     "text": [
      "0.9875885304750589\n",
      "0.9554403034948116\n"
     ]
    }
   ],
   "source": [
    "final_features = list(stats[0][0])\n",
    "if stats[0][3] == '_growth':\n",
    "    X = data[final_features]\n",
    "else:\n",
    "    X = all_data_df[final_features]\n",
    "X_train, X_test, y_train, y_test = train_test_split(X, y_log, test_size=0.30, random_state=42)\n",
    "final_model = load('features_and_models'+stats[0][3]+'/' + str(len(stats[0][0])) + '_xgb'+stats[0][4]+'.joblib')\n",
    "print(final_model.score(X_train, y_train))\n",
    "print(final_model.score(X_test, y_test))"
   ]
  },
  {
   "cell_type": "code",
   "execution_count": 35,
   "id": "bd5d9e60",
   "metadata": {},
   "outputs": [],
   "source": [
    "keep_columns = final_features"
   ]
  },
  {
   "cell_type": "markdown",
   "id": "7e8e3a16",
   "metadata": {},
   "source": [
    "# Predict for Future"
   ]
  },
  {
   "cell_type": "code",
   "execution_count": 36,
   "id": "c0ae6d75",
   "metadata": {
    "scrolled": true
   },
   "outputs": [],
   "source": [
    "to_pred_gc_time = to_pred[['Growth Cell', 'Time']]"
   ]
  },
  {
   "cell_type": "code",
   "execution_count": 38,
   "id": "59ef3ff5",
   "metadata": {},
   "outputs": [],
   "source": [
    "def get_features_with_one_hot(df):\n",
    "    return pd.concat([df.drop(\"Growth Cell\", axis=1), pd.DataFrame(enc.transform(df[['Growth Cell']]), columns=enc.get_feature_names_out(),index=df.index)],axis=1)"
   ]
  },
  {
   "cell_type": "code",
   "execution_count": 39,
   "id": "f7076b5f",
   "metadata": {},
   "outputs": [],
   "source": [
    "#X_copy = to_pred_copy.drop(['Identifier', 'Growth Cell', 'Time'], axis = 1)\n",
    "X_copy = get_features_with_one_hot(to_pred)[keep_columns]"
   ]
  },
  {
   "cell_type": "code",
   "execution_count": 40,
   "id": "783084e2",
   "metadata": {},
   "outputs": [],
   "source": [
    "# pred_rev = (np.exp(model_xgb.predict(X_copy)) - 1)\n",
    "pred_rev = (np.exp(final_model.predict(X_copy)) - 1)"
   ]
  },
  {
   "cell_type": "code",
   "execution_count": 41,
   "id": "c495b6c9",
   "metadata": {},
   "outputs": [],
   "source": [
    "to_pred_gc_time['Revenue Sum'] = pred_rev"
   ]
  },
  {
   "cell_type": "code",
   "execution_count": 42,
   "id": "6756604e",
   "metadata": {
    "scrolled": true
   },
   "outputs": [
    {
     "data": {
      "text/html": [
       "<div>\n",
       "<style scoped>\n",
       "    .dataframe tbody tr th:only-of-type {\n",
       "        vertical-align: middle;\n",
       "    }\n",
       "\n",
       "    .dataframe tbody tr th {\n",
       "        vertical-align: top;\n",
       "    }\n",
       "\n",
       "    .dataframe thead th {\n",
       "        text-align: right;\n",
       "    }\n",
       "</style>\n",
       "<table border=\"1\" class=\"dataframe\">\n",
       "  <thead>\n",
       "    <tr style=\"text-align: right;\">\n",
       "      <th></th>\n",
       "      <th>Growth Cell</th>\n",
       "      <th>Time</th>\n",
       "      <th>Revenue Sum</th>\n",
       "    </tr>\n",
       "  </thead>\n",
       "  <tbody>\n",
       "    <tr>\n",
       "      <th>130</th>\n",
       "      <td>DDV - IT</td>\n",
       "      <td>6.0_2022.0</td>\n",
       "      <td>649231.875000</td>\n",
       "    </tr>\n",
       "    <tr>\n",
       "      <th>142</th>\n",
       "      <td>DDV - Operations</td>\n",
       "      <td>6.0_2022.0</td>\n",
       "      <td>100759.445312</td>\n",
       "    </tr>\n",
       "    <tr>\n",
       "      <th>166</th>\n",
       "      <td>ESV - BCM</td>\n",
       "      <td>6.0_2022.0</td>\n",
       "      <td>147384.562500</td>\n",
       "    </tr>\n",
       "    <tr>\n",
       "      <th>238</th>\n",
       "      <td>ESV - PLS</td>\n",
       "      <td>6.0_2022.0</td>\n",
       "      <td>53616.476562</td>\n",
       "    </tr>\n",
       "    <tr>\n",
       "      <th>274</th>\n",
       "      <td>FS - Banking and Capital Markets</td>\n",
       "      <td>6.0_2022.0</td>\n",
       "      <td>942099.312500</td>\n",
       "    </tr>\n",
       "    <tr>\n",
       "      <th>310</th>\n",
       "      <td>Finance - Enterprise Performance Management</td>\n",
       "      <td>6.0_2022.0</td>\n",
       "      <td>209491.328125</td>\n",
       "    </tr>\n",
       "  </tbody>\n",
       "</table>\n",
       "</div>"
      ],
      "text/plain": [
       "                                     Growth Cell        Time    Revenue Sum\n",
       "130                                     DDV - IT  6.0_2022.0  649231.875000\n",
       "142                             DDV - Operations  6.0_2022.0  100759.445312\n",
       "166                                    ESV - BCM  6.0_2022.0  147384.562500\n",
       "238                                    ESV - PLS  6.0_2022.0   53616.476562\n",
       "274             FS - Banking and Capital Markets  6.0_2022.0  942099.312500\n",
       "310  Finance - Enterprise Performance Management  6.0_2022.0  209491.328125"
      ]
     },
     "execution_count": 42,
     "metadata": {},
     "output_type": "execute_result"
    }
   ],
   "source": [
    "to_pred_gc_time[to_pred_gc_time['Growth Cell'].apply(lambda x: x in scope_gcs)]"
   ]
  },
  {
   "cell_type": "code",
   "execution_count": null,
   "id": "e7e8bfc5",
   "metadata": {},
   "outputs": [],
   "source": []
  }
 ],
 "metadata": {
  "kernelspec": {
   "display_name": "Python 3 (ipykernel)",
   "language": "python",
   "name": "python3"
  },
  "language_info": {
   "codemirror_mode": {
    "name": "ipython",
    "version": 3
   },
   "file_extension": ".py",
   "mimetype": "text/x-python",
   "name": "python",
   "nbconvert_exporter": "python",
   "pygments_lexer": "ipython3",
   "version": "3.9.12"
  },
  "vscode": {
   "interpreter": {
    "hash": "a38351ae415a46c9357d181cbc0605f144b2a6ed92a3304311c05688b4cb644f"
   }
  }
 },
 "nbformat": 4,
 "nbformat_minor": 5
}
