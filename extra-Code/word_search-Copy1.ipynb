{
 "cells": [
  {
   "cell_type": "code",
   "execution_count": 38,
   "id": "70e586b6",
   "metadata": {},
   "outputs": [],
   "source": [
    "\n",
    "def createWordlist(filename): \n",
    "####    \"\"\" Read words from the provided file and store them in a list.\n",
    "####    The file contains only lowercase ascii characters, are sorted\n",
    "####    alphabetically, one word per line. Filter out any words that are\n",
    "####    not 5 letters long, have duplicate letters, or end in 's'.  Return\n",
    "####    the list of words and the number of words as a pair. \"\"\"\n",
    "####    with open('C:\\name\\MyDesktop\\words.txt') as f:\n",
    "####        lines = f.read().splitlines()\n",
    "   \n",
    "\n",
    "def containsAll(wordlist, include):\n",
    "            \n",
    "##    \"\"\" Given your wordlist, return a set of all words from the wordlist\n",
    "##    that contain all of the letters in the string include.  \n",
    "##    \"\"\"\n",
    "##    ...\n",
    "##\n",
    "\n",
    "\n",
    "def containsNone(wordlist, exclude):\n",
    "##    \"\"\" Given your wordlist, return a set of all words from the wordlist\n",
    "##    that do not contain any of the letters in the string exclude.  \n",
    "##    \"\"\"\n",
    "##    ...\n",
    "   \n",
    "##\n",
    "def containsAtPositions(wordlist, posInfo):\n",
    "    keep = set()\n",
    "##    \"\"\" posInfo is a dictionary that maps letters to positions.\n",
    "##    You can assume that the positions are in [0..4].  Return a set of\n",
    "##    all words from the wordlist that contain the letters from the\n",
    "##    dictionary at the indicated positions. For example, given posInfo\n",
    "##    {'a': 0, 'y': 4}.   This function might return the set:\n",
    "##    {'angry', 'aptly', 'amply', 'amity', 'artsy', 'agony'}. \"\"\"\n",
    "\n",
    "  \n",
    "\n",
    "##    ...\n",
    "##\n",
    "def getPossibleWords(wordlist, posInfo, include, exclude):\n",
    "    \"\"\" Finally, given a wordlist, dictionary posInfo, and\n",
    "    strings include and exclude, return the set of all words from \n",
    "    the wordlist that contains the words that satisfy all of \n",
    "    the following:\n",
    "    * has letters in positions indicated in posInfo\n",
    "    * contains all letters from string include\n",
    "    * contains none of the letters from string exclude.\n",
    "    \"\"\"\n",
    "   "
   ]
  }
 ],
 "metadata": {
  "kernelspec": {
   "display_name": "Python 3 (ipykernel)",
   "language": "python",
   "name": "python3"
  },
  "language_info": {
   "codemirror_mode": {
    "name": "ipython",
    "version": 3
   },
   "file_extension": ".py",
   "mimetype": "text/x-python",
   "name": "python",
   "nbconvert_exporter": "python",
   "pygments_lexer": "ipython3",
   "version": "3.8.5"
  }
 },
 "nbformat": 4,
 "nbformat_minor": 5
}
