{
 "cells": [
  {
   "cell_type": "code",
   "execution_count": 1,
   "metadata": {},
   "outputs": [
    {
     "name": "stdout",
     "output_type": "stream",
     "text": [
      "Hello: 1\n",
      "Hello: 2\n",
      "Hello: 3\n"
     ]
    }
   ],
   "source": [
    "x = 1\n",
    "while x<4:\n",
    "    print('Hello:',x)\n",
    "    x = x + 1"
   ]
  },
  {
   "cell_type": "code",
   "execution_count": 2,
   "metadata": {},
   "outputs": [
    {
     "name": "stdout",
     "output_type": "stream",
     "text": [
      "Hello: 5\n",
      "Hello: 4\n",
      "Hello: 3\n",
      "Hello: 2\n"
     ]
    }
   ],
   "source": [
    "x = 5\n",
    "while x>1:\n",
    "    print('Hello:',x)\n",
    "    x = x - 1"
   ]
  },
  {
   "cell_type": "code",
   "execution_count": 4,
   "metadata": {},
   "outputs": [
    {
     "name": "stdout",
     "output_type": "stream",
     "text": [
      "Hello: 6\n",
      "Hello: 5\n",
      "Hello: 4\n",
      "Hello: 3\n"
     ]
    }
   ],
   "source": [
    "\n",
    "x = 5\n",
    "while x>1:\n",
    "    x = x + 1\n",
    "    print('Hello:',x)\n",
    "    x = x - 1\n",
    "    x = x - 1"
   ]
  },
  {
   "cell_type": "code",
   "execution_count": 5,
   "metadata": {},
   "outputs": [
    {
     "name": "stdout",
     "output_type": "stream",
     "text": [
      "Hello: 4\n",
      "Hello: 3\n",
      "Hello: 2\n",
      "Hello: 1\n"
     ]
    }
   ],
   "source": [
    "x = 6\n",
    "while x>2:\n",
    "    x = x - 2\n",
    "    print('Hello:',x)\n",
    "    x = x + 1"
   ]
  },
  {
   "cell_type": "code",
   "execution_count": 6,
   "metadata": {},
   "outputs": [
    {
     "name": "stdout",
     "output_type": "stream",
     "text": [
      "Hello: 3\n",
      "Hello: 1\n"
     ]
    }
   ],
   "source": [
    "x = 5\n",
    "while x>1:\n",
    "    x = x - 2\n",
    "    print('Hello:',x)\n",
    "    x = x - 1\n",
    "    x = x + 1"
   ]
  },
  {
   "cell_type": "code",
   "execution_count": 7,
   "metadata": {},
   "outputs": [
    {
     "name": "stdout",
     "output_type": "stream",
     "text": [
      "Hello: 6\n",
      "Hello: 4\n",
      "Hello: 2\n"
     ]
    }
   ],
   "source": [
    "x = 7\n",
    "while x>2:\n",
    "    x = x - 1\n",
    "    print('Hello:',x)\n",
    "    x = x - 2\n",
    "    x = x + 1"
   ]
  },
  {
   "cell_type": "code",
   "execution_count": 8,
   "metadata": {},
   "outputs": [
    {
     "name": "stdout",
     "output_type": "stream",
     "text": [
      "Hello: 2\n",
      "Hello: 4\n",
      "Hello: 6\n"
     ]
    }
   ],
   "source": [
    "x = 1\n",
    "while x<7:\n",
    "    x = x + 1\n",
    "    print('Hello:',x)\n",
    "    x = x + 2\n",
    "    x = x - 1\n",
    "\n",
    "# hello2\n",
    "# hello4\n",
    "# hello6"
   ]
  },
  {
   "cell_type": "code",
   "execution_count": 9,
   "metadata": {
    "scrolled": true
   },
   "outputs": [
    {
     "name": "stdout",
     "output_type": "stream",
     "text": [
      "Hello: 2\n",
      "Hello: 3\n",
      "Hello: 5\n",
      "Hello: 4\n",
      "Hello: 4\n",
      "Hello: 5\n",
      "Hello: 7\n",
      "Hello: 6\n",
      "Hello: 6\n",
      "Hello: 7\n",
      "Hello: 9\n",
      "Hello: 8\n"
     ]
    }
   ],
   "source": [
    "x = 2\n",
    "while x<7:\n",
    "    print('Hello:',x)\n",
    "    x = x + 1\n",
    "    print('Hello:',x)\n",
    "    x = x + 2\n",
    "    print('Hello:',x)\n",
    "    x = x - 1\n",
    "    print('Hello:',x)\n"
   ]
  },
  {
   "cell_type": "code",
   "execution_count": 10,
   "metadata": {},
   "outputs": [
    {
     "name": "stdout",
     "output_type": "stream",
     "text": [
      "Hello: 12\n",
      "Hello: 11\n",
      "Hello: 9\n",
      "Hello: 10\n",
      "Hello: 10\n",
      "Hello: 9\n",
      "Hello: 7\n",
      "Hello: 8\n",
      "Hello: 8\n",
      "Hello: 7\n",
      "Hello: 5\n",
      "Hello: 6\n"
     ]
    }
   ],
   "source": [
    "x = 12\n",
    "while x>7:\n",
    "    print('Hello:',x)\n",
    "    x = x - 1\n",
    "    print('Hello:',x)\n",
    "    x = x - 2\n",
    "    print('Hello:',x)\n",
    "    x = x + 1\n",
    "    print('Hello:',x)"
   ]
  },
  {
   "cell_type": "markdown",
   "metadata": {},
   "source": [
    "# Question-1"
   ]
  },
  {
   "cell_type": "code",
   "execution_count": 19,
   "metadata": {},
   "outputs": [],
   "source": [
    "x = 12\n",
    "while x>7:\n",
    "    print('Hello:',x)\n",
    "    x = x - 1\n",
    "    print('Hello:',x)\n",
    "    x = x - 2\n",
    "    print('Hello:',x)\n",
    "    x = x + 2"
   ]
  },
  {
   "cell_type": "markdown",
   "metadata": {},
   "source": [
    "# Question-2"
   ]
  },
  {
   "cell_type": "code",
   "execution_count": 20,
   "metadata": {},
   "outputs": [],
   "source": [
    "x = 2\n",
    "while x<7:\n",
    "    print('Hello:',x)\n",
    "    x = x + 1\n",
    "    print('Hello:',x)\n",
    "    x = x + 2\n",
    "    print('Hello:',x)\n",
    "    x = x - 1"
   ]
  },
  {
   "cell_type": "markdown",
   "metadata": {},
   "source": [
    "# Question-3"
   ]
  },
  {
   "cell_type": "code",
   "execution_count": 21,
   "metadata": {},
   "outputs": [],
   "source": [
    "x = 12\n",
    "while x>=7:\n",
    "    print('Hello:',x)\n",
    "    print('Hello:',x)\n",
    "    print('Hello:',x)\n",
    "    x = x - 2"
   ]
  },
  {
   "cell_type": "markdown",
   "metadata": {},
   "source": [
    "# Question-4"
   ]
  },
  {
   "cell_type": "code",
   "execution_count": 22,
   "metadata": {},
   "outputs": [],
   "source": [
    "x = 0\n",
    "while x<=7:\n",
    "    print('Hello:',x)\n",
    "    print('Hello:',x)\n",
    "    x = x + 2\n",
    "    print('Hello:',x)\n",
    "    x = x + 2"
   ]
  },
  {
   "cell_type": "markdown",
   "metadata": {},
   "source": [
    "# Question-5"
   ]
  },
  {
   "cell_type": "code",
   "execution_count": 23,
   "metadata": {},
   "outputs": [],
   "source": [
    "x = -2\n",
    "while x<=5:\n",
    "    print('Hello:',x)\n",
    "    print('Hello:',x)\n",
    "    x = x + 5\n",
    "    print('Hello:',x)\n",
    "    x = x - 2"
   ]
  },
  {
   "cell_type": "code",
   "execution_count": null,
   "metadata": {},
   "outputs": [],
   "source": []
  }
 ],
 "metadata": {
  "kernelspec": {
   "display_name": "Python 3",
   "language": "python",
   "name": "python3"
  },
  "language_info": {
   "codemirror_mode": {
    "name": "ipython",
    "version": 3
   },
   "file_extension": ".py",
   "mimetype": "text/x-python",
   "name": "python",
   "nbconvert_exporter": "python",
   "pygments_lexer": "ipython3",
   "version": "3.8.5"
  }
 },
 "nbformat": 4,
 "nbformat_minor": 4
}
