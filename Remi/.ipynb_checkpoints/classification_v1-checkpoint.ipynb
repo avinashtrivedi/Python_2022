{
 "cells": [
  {
   "cell_type": "code",
   "execution_count": 61,
   "metadata": {},
   "outputs": [],
   "source": [
    "# import the library\n",
    "import pandas as pd\n",
    "import matplotlib.pyplot as plt\n",
    "from sklearn.preprocessing import StandardScaler\n",
    "from sklearn.linear_model import LogisticRegression\n",
    "from sklearn.metrics import (\n",
    "    accuracy_score, confusion_matrix, classification_report, \n",
    "    roc_auc_score, roc_curve, auc,\n",
    "    plot_confusion_matrix, plot_roc_curve\n",
    ")\n",
    "\n",
    "# ignore the warning if any\n",
    "import warnings\n",
    "warnings.filterwarnings(\"ignore\")"
   ]
  },
  {
   "cell_type": "markdown",
   "metadata": {},
   "source": [
    "# Load the data"
   ]
  },
  {
   "cell_type": "code",
   "execution_count": 62,
   "metadata": {},
   "outputs": [],
   "source": [
    "# load the data\n",
    "df1 = pd.read_csv('final_exam_data.csv')\n",
    "df2 = pd.read_csv('final_exam_target.csv',header=None)\n",
    "df = pd.concat([df1,df2],axis=1)"
   ]
  },
  {
   "cell_type": "markdown",
   "metadata": {},
   "source": [
    "# Drop NaN/ Missing values i.e. preprocessing"
   ]
  },
  {
   "cell_type": "code",
   "execution_count": 63,
   "metadata": {},
   "outputs": [],
   "source": [
    "df.dropna(inplace=True)"
   ]
  },
  {
   "cell_type": "code",
   "execution_count": 64,
   "metadata": {},
   "outputs": [],
   "source": [
    "# set target column name\n",
    "df.columns = list(df)[:-1] + ['Target']"
   ]
  },
  {
   "cell_type": "markdown",
   "metadata": {},
   "source": [
    "# Data imbalance"
   ]
  },
  {
   "cell_type": "code",
   "execution_count": 65,
   "metadata": {},
   "outputs": [
    {
     "data": {
      "text/plain": [
       "-1    93.875928\n",
       " 1     6.124072\n",
       "Name: Target, dtype: float64"
      ]
     },
     "execution_count": 65,
     "metadata": {},
     "output_type": "execute_result"
    }
   ],
   "source": [
    "df['Target'].value_counts(normalize=True)*100"
   ]
  },
  {
   "cell_type": "markdown",
   "metadata": {},
   "source": [
    "# normalization and training and test set splitting"
   ]
  },
  {
   "cell_type": "code",
   "execution_count": 66,
   "metadata": {},
   "outputs": [],
   "source": [
    "from sklearn.model_selection import train_test_split\n",
    "\n",
    "# get x and y\n",
    "x = df.drop(columns='Target',axis=1)\n",
    "y = df['Target']\n",
    "\n",
    "# split the data. 70% for training and 30% for testing\n",
    "x_train, x_test, y_train, y_test = train_test_split(x,y,test_size = 0.30)\n",
    "\n",
    "# normalization\n",
    "sc = StandardScaler()\n",
    "x_train = sc.fit_transform(x_train)\n",
    "x_test = sc.transform(x_test)"
   ]
  },
  {
   "cell_type": "code",
   "execution_count": 67,
   "metadata": {},
   "outputs": [],
   "source": [
    "x_train = pd.DataFrame(x_train)\n",
    "x_test = pd.DataFrame(x_test)\n",
    "\n",
    "y_train.reset_index(drop=True,inplace=True)"
   ]
  },
  {
   "cell_type": "markdown",
   "metadata": {},
   "source": [
    "# Oversampling Minority Class"
   ]
  },
  {
   "cell_type": "code",
   "execution_count": 68,
   "metadata": {},
   "outputs": [],
   "source": [
    "X = pd.concat([x_train, y_train], axis=1)"
   ]
  },
  {
   "cell_type": "code",
   "execution_count": 69,
   "metadata": {},
   "outputs": [
    {
     "data": {
      "text/html": [
       "<div>\n",
       "<style scoped>\n",
       "    .dataframe tbody tr th:only-of-type {\n",
       "        vertical-align: middle;\n",
       "    }\n",
       "\n",
       "    .dataframe tbody tr th {\n",
       "        vertical-align: top;\n",
       "    }\n",
       "\n",
       "    .dataframe thead th {\n",
       "        text-align: right;\n",
       "    }\n",
       "</style>\n",
       "<table border=\"1\" class=\"dataframe\">\n",
       "  <thead>\n",
       "    <tr style=\"text-align: right;\">\n",
       "      <th></th>\n",
       "      <th>0</th>\n",
       "      <th>1</th>\n",
       "      <th>2</th>\n",
       "      <th>3</th>\n",
       "      <th>4</th>\n",
       "      <th>5</th>\n",
       "      <th>6</th>\n",
       "      <th>7</th>\n",
       "      <th>8</th>\n",
       "      <th>9</th>\n",
       "      <th>...</th>\n",
       "      <th>43</th>\n",
       "      <th>44</th>\n",
       "      <th>45</th>\n",
       "      <th>46</th>\n",
       "      <th>47</th>\n",
       "      <th>48</th>\n",
       "      <th>49</th>\n",
       "      <th>50</th>\n",
       "      <th>51</th>\n",
       "      <th>Target</th>\n",
       "    </tr>\n",
       "  </thead>\n",
       "  <tbody>\n",
       "    <tr>\n",
       "      <th>0</th>\n",
       "      <td>-0.136274</td>\n",
       "      <td>-1.419048</td>\n",
       "      <td>1.558387</td>\n",
       "      <td>0.378619</td>\n",
       "      <td>-0.378619</td>\n",
       "      <td>0.115912</td>\n",
       "      <td>-0.115912</td>\n",
       "      <td>0.107211</td>\n",
       "      <td>-0.107211</td>\n",
       "      <td>0.202508</td>\n",
       "      <td>...</td>\n",
       "      <td>-0.343759</td>\n",
       "      <td>0.343759</td>\n",
       "      <td>-0.194458</td>\n",
       "      <td>0.0</td>\n",
       "      <td>0.841866</td>\n",
       "      <td>-0.168635</td>\n",
       "      <td>-0.340305</td>\n",
       "      <td>-0.093748</td>\n",
       "      <td>-0.615297</td>\n",
       "      <td>-1</td>\n",
       "    </tr>\n",
       "    <tr>\n",
       "      <th>1</th>\n",
       "      <td>1.237471</td>\n",
       "      <td>0.704698</td>\n",
       "      <td>-0.641689</td>\n",
       "      <td>0.378619</td>\n",
       "      <td>-0.378619</td>\n",
       "      <td>0.115912</td>\n",
       "      <td>-0.115912</td>\n",
       "      <td>0.107211</td>\n",
       "      <td>-0.107211</td>\n",
       "      <td>0.202508</td>\n",
       "      <td>...</td>\n",
       "      <td>-0.343759</td>\n",
       "      <td>0.343759</td>\n",
       "      <td>0.121070</td>\n",
       "      <td>0.0</td>\n",
       "      <td>-1.187838</td>\n",
       "      <td>-0.168635</td>\n",
       "      <td>-0.340305</td>\n",
       "      <td>-0.093748</td>\n",
       "      <td>1.625232</td>\n",
       "      <td>-1</td>\n",
       "    </tr>\n",
       "    <tr>\n",
       "      <th>2</th>\n",
       "      <td>0.339253</td>\n",
       "      <td>-1.419048</td>\n",
       "      <td>1.558387</td>\n",
       "      <td>0.378619</td>\n",
       "      <td>-0.378619</td>\n",
       "      <td>0.115912</td>\n",
       "      <td>-0.115912</td>\n",
       "      <td>0.107211</td>\n",
       "      <td>-0.107211</td>\n",
       "      <td>0.202508</td>\n",
       "      <td>...</td>\n",
       "      <td>-0.343759</td>\n",
       "      <td>0.343759</td>\n",
       "      <td>-0.437172</td>\n",
       "      <td>0.0</td>\n",
       "      <td>-1.187838</td>\n",
       "      <td>-0.168635</td>\n",
       "      <td>-0.340305</td>\n",
       "      <td>-0.093748</td>\n",
       "      <td>1.625232</td>\n",
       "      <td>-1</td>\n",
       "    </tr>\n",
       "    <tr>\n",
       "      <th>3</th>\n",
       "      <td>-0.506128</td>\n",
       "      <td>0.704698</td>\n",
       "      <td>-0.641689</td>\n",
       "      <td>0.378619</td>\n",
       "      <td>-0.378619</td>\n",
       "      <td>0.115912</td>\n",
       "      <td>-0.115912</td>\n",
       "      <td>0.107211</td>\n",
       "      <td>-0.107211</td>\n",
       "      <td>0.202508</td>\n",
       "      <td>...</td>\n",
       "      <td>-0.343759</td>\n",
       "      <td>0.343759</td>\n",
       "      <td>-0.801244</td>\n",
       "      <td>0.0</td>\n",
       "      <td>0.841866</td>\n",
       "      <td>-0.168635</td>\n",
       "      <td>-0.340305</td>\n",
       "      <td>-0.093748</td>\n",
       "      <td>-0.615297</td>\n",
       "      <td>-1</td>\n",
       "    </tr>\n",
       "    <tr>\n",
       "      <th>4</th>\n",
       "      <td>-2.144055</td>\n",
       "      <td>0.704698</td>\n",
       "      <td>-0.641689</td>\n",
       "      <td>0.378619</td>\n",
       "      <td>-0.378619</td>\n",
       "      <td>0.115912</td>\n",
       "      <td>-0.115912</td>\n",
       "      <td>0.107211</td>\n",
       "      <td>-0.107211</td>\n",
       "      <td>0.202508</td>\n",
       "      <td>...</td>\n",
       "      <td>2.909015</td>\n",
       "      <td>-2.909015</td>\n",
       "      <td>-2.587620</td>\n",
       "      <td>0.0</td>\n",
       "      <td>0.841866</td>\n",
       "      <td>-0.168635</td>\n",
       "      <td>-0.340305</td>\n",
       "      <td>-0.093748</td>\n",
       "      <td>-0.615297</td>\n",
       "      <td>-1</td>\n",
       "    </tr>\n",
       "    <tr>\n",
       "      <th>...</th>\n",
       "      <td>...</td>\n",
       "      <td>...</td>\n",
       "      <td>...</td>\n",
       "      <td>...</td>\n",
       "      <td>...</td>\n",
       "      <td>...</td>\n",
       "      <td>...</td>\n",
       "      <td>...</td>\n",
       "      <td>...</td>\n",
       "      <td>...</td>\n",
       "      <td>...</td>\n",
       "      <td>...</td>\n",
       "      <td>...</td>\n",
       "      <td>...</td>\n",
       "      <td>...</td>\n",
       "      <td>...</td>\n",
       "      <td>...</td>\n",
       "      <td>...</td>\n",
       "      <td>...</td>\n",
       "      <td>...</td>\n",
       "      <td>...</td>\n",
       "    </tr>\n",
       "    <tr>\n",
       "      <th>2635</th>\n",
       "      <td>-0.981655</td>\n",
       "      <td>0.704698</td>\n",
       "      <td>-0.641689</td>\n",
       "      <td>0.378619</td>\n",
       "      <td>-0.378619</td>\n",
       "      <td>0.115912</td>\n",
       "      <td>-0.115912</td>\n",
       "      <td>0.107211</td>\n",
       "      <td>-0.107211</td>\n",
       "      <td>0.202508</td>\n",
       "      <td>...</td>\n",
       "      <td>-0.343759</td>\n",
       "      <td>0.343759</td>\n",
       "      <td>1.091927</td>\n",
       "      <td>0.0</td>\n",
       "      <td>-1.187838</td>\n",
       "      <td>-0.168635</td>\n",
       "      <td>-0.340305</td>\n",
       "      <td>-0.093748</td>\n",
       "      <td>1.625232</td>\n",
       "      <td>-1</td>\n",
       "    </tr>\n",
       "    <tr>\n",
       "      <th>2636</th>\n",
       "      <td>-0.558964</td>\n",
       "      <td>0.704698</td>\n",
       "      <td>-0.641689</td>\n",
       "      <td>0.378619</td>\n",
       "      <td>-0.378619</td>\n",
       "      <td>0.115912</td>\n",
       "      <td>-0.115912</td>\n",
       "      <td>0.107211</td>\n",
       "      <td>-0.107211</td>\n",
       "      <td>0.202508</td>\n",
       "      <td>...</td>\n",
       "      <td>-0.343759</td>\n",
       "      <td>0.343759</td>\n",
       "      <td>-0.315815</td>\n",
       "      <td>0.0</td>\n",
       "      <td>0.841866</td>\n",
       "      <td>-0.168635</td>\n",
       "      <td>-0.340305</td>\n",
       "      <td>-0.093748</td>\n",
       "      <td>-0.615297</td>\n",
       "      <td>-1</td>\n",
       "    </tr>\n",
       "    <tr>\n",
       "      <th>2637</th>\n",
       "      <td>-1.879873</td>\n",
       "      <td>0.704698</td>\n",
       "      <td>-0.641689</td>\n",
       "      <td>0.378619</td>\n",
       "      <td>-0.378619</td>\n",
       "      <td>0.115912</td>\n",
       "      <td>-0.115912</td>\n",
       "      <td>0.107211</td>\n",
       "      <td>-0.107211</td>\n",
       "      <td>0.202508</td>\n",
       "      <td>...</td>\n",
       "      <td>-0.343759</td>\n",
       "      <td>0.343759</td>\n",
       "      <td>0.169613</td>\n",
       "      <td>0.0</td>\n",
       "      <td>-1.187838</td>\n",
       "      <td>-0.168635</td>\n",
       "      <td>-0.340305</td>\n",
       "      <td>-0.093748</td>\n",
       "      <td>1.625232</td>\n",
       "      <td>-1</td>\n",
       "    </tr>\n",
       "    <tr>\n",
       "      <th>2638</th>\n",
       "      <td>1.395980</td>\n",
       "      <td>-1.419048</td>\n",
       "      <td>1.558387</td>\n",
       "      <td>0.378619</td>\n",
       "      <td>-0.378619</td>\n",
       "      <td>0.115912</td>\n",
       "      <td>-0.115912</td>\n",
       "      <td>0.107211</td>\n",
       "      <td>-0.107211</td>\n",
       "      <td>0.202508</td>\n",
       "      <td>...</td>\n",
       "      <td>-0.343759</td>\n",
       "      <td>0.343759</td>\n",
       "      <td>0.048256</td>\n",
       "      <td>0.0</td>\n",
       "      <td>-1.187838</td>\n",
       "      <td>-0.168635</td>\n",
       "      <td>-0.340305</td>\n",
       "      <td>-0.093748</td>\n",
       "      <td>1.625232</td>\n",
       "      <td>-1</td>\n",
       "    </tr>\n",
       "    <tr>\n",
       "      <th>2639</th>\n",
       "      <td>1.078962</td>\n",
       "      <td>0.704698</td>\n",
       "      <td>-0.641689</td>\n",
       "      <td>0.378619</td>\n",
       "      <td>-0.378619</td>\n",
       "      <td>0.115912</td>\n",
       "      <td>-0.115912</td>\n",
       "      <td>0.107211</td>\n",
       "      <td>-0.107211</td>\n",
       "      <td>0.202508</td>\n",
       "      <td>...</td>\n",
       "      <td>2.909015</td>\n",
       "      <td>-2.909015</td>\n",
       "      <td>-1.917729</td>\n",
       "      <td>0.0</td>\n",
       "      <td>0.841866</td>\n",
       "      <td>-0.168635</td>\n",
       "      <td>-0.340305</td>\n",
       "      <td>-0.093748</td>\n",
       "      <td>-0.615297</td>\n",
       "      <td>-1</td>\n",
       "    </tr>\n",
       "  </tbody>\n",
       "</table>\n",
       "<p>2640 rows × 53 columns</p>\n",
       "</div>"
      ],
      "text/plain": [
       "             0         1         2         3         4         5         6  \\\n",
       "0    -0.136274 -1.419048  1.558387  0.378619 -0.378619  0.115912 -0.115912   \n",
       "1     1.237471  0.704698 -0.641689  0.378619 -0.378619  0.115912 -0.115912   \n",
       "2     0.339253 -1.419048  1.558387  0.378619 -0.378619  0.115912 -0.115912   \n",
       "3    -0.506128  0.704698 -0.641689  0.378619 -0.378619  0.115912 -0.115912   \n",
       "4    -2.144055  0.704698 -0.641689  0.378619 -0.378619  0.115912 -0.115912   \n",
       "...        ...       ...       ...       ...       ...       ...       ...   \n",
       "2635 -0.981655  0.704698 -0.641689  0.378619 -0.378619  0.115912 -0.115912   \n",
       "2636 -0.558964  0.704698 -0.641689  0.378619 -0.378619  0.115912 -0.115912   \n",
       "2637 -1.879873  0.704698 -0.641689  0.378619 -0.378619  0.115912 -0.115912   \n",
       "2638  1.395980 -1.419048  1.558387  0.378619 -0.378619  0.115912 -0.115912   \n",
       "2639  1.078962  0.704698 -0.641689  0.378619 -0.378619  0.115912 -0.115912   \n",
       "\n",
       "             7         8         9  ...        43        44        45   46  \\\n",
       "0     0.107211 -0.107211  0.202508  ... -0.343759  0.343759 -0.194458  0.0   \n",
       "1     0.107211 -0.107211  0.202508  ... -0.343759  0.343759  0.121070  0.0   \n",
       "2     0.107211 -0.107211  0.202508  ... -0.343759  0.343759 -0.437172  0.0   \n",
       "3     0.107211 -0.107211  0.202508  ... -0.343759  0.343759 -0.801244  0.0   \n",
       "4     0.107211 -0.107211  0.202508  ...  2.909015 -2.909015 -2.587620  0.0   \n",
       "...        ...       ...       ...  ...       ...       ...       ...  ...   \n",
       "2635  0.107211 -0.107211  0.202508  ... -0.343759  0.343759  1.091927  0.0   \n",
       "2636  0.107211 -0.107211  0.202508  ... -0.343759  0.343759 -0.315815  0.0   \n",
       "2637  0.107211 -0.107211  0.202508  ... -0.343759  0.343759  0.169613  0.0   \n",
       "2638  0.107211 -0.107211  0.202508  ... -0.343759  0.343759  0.048256  0.0   \n",
       "2639  0.107211 -0.107211  0.202508  ...  2.909015 -2.909015 -1.917729  0.0   \n",
       "\n",
       "            47        48        49        50        51  Target  \n",
       "0     0.841866 -0.168635 -0.340305 -0.093748 -0.615297      -1  \n",
       "1    -1.187838 -0.168635 -0.340305 -0.093748  1.625232      -1  \n",
       "2    -1.187838 -0.168635 -0.340305 -0.093748  1.625232      -1  \n",
       "3     0.841866 -0.168635 -0.340305 -0.093748 -0.615297      -1  \n",
       "4     0.841866 -0.168635 -0.340305 -0.093748 -0.615297      -1  \n",
       "...        ...       ...       ...       ...       ...     ...  \n",
       "2635 -1.187838 -0.168635 -0.340305 -0.093748  1.625232      -1  \n",
       "2636  0.841866 -0.168635 -0.340305 -0.093748 -0.615297      -1  \n",
       "2637 -1.187838 -0.168635 -0.340305 -0.093748  1.625232      -1  \n",
       "2638 -1.187838 -0.168635 -0.340305 -0.093748  1.625232      -1  \n",
       "2639  0.841866 -0.168635 -0.340305 -0.093748 -0.615297      -1  \n",
       "\n",
       "[2640 rows x 53 columns]"
      ]
     },
     "execution_count": 69,
     "metadata": {},
     "output_type": "execute_result"
    }
   ],
   "source": [
    "X"
   ]
  },
  {
   "cell_type": "code",
   "execution_count": 70,
   "metadata": {},
   "outputs": [],
   "source": [
    "negative = X[X['Target']==-1]\n",
    "positive =  X[X['Target']==1]"
   ]
  },
  {
   "cell_type": "code",
   "execution_count": 71,
   "metadata": {},
   "outputs": [
    {
     "data": {
      "text/plain": [
       " 1    2474\n",
       "-1    2474\n",
       "Name: Target, dtype: int64"
      ]
     },
     "execution_count": 71,
     "metadata": {},
     "output_type": "execute_result"
    }
   ],
   "source": [
    "from sklearn.utils import resample\n",
    "# upsample minority\n",
    "positive_upsampled = resample(positive,\n",
    "                          replace=True, # sample with replacement\n",
    "                          n_samples=len(negative), # match number in majority class\n",
    "                          random_state=42) # reproducible results\n",
    "\n",
    "# combine majority and upsampled minority\n",
    "upsampled = pd.concat([negative, positive_upsampled])\n",
    "\n",
    "# check new class counts\n",
    "upsampled['Target'].value_counts()"
   ]
  },
  {
   "cell_type": "markdown",
   "metadata": {},
   "source": [
    "# Apply logistic regression on upsampled data"
   ]
  },
  {
   "cell_type": "code",
   "execution_count": 72,
   "metadata": {},
   "outputs": [
    {
     "data": {
      "text/plain": [
       "array([[946, 121],\n",
       "       [  9,  56]], dtype=int64)"
      ]
     },
     "execution_count": 72,
     "metadata": {},
     "output_type": "execute_result"
    }
   ],
   "source": [
    "# trying logistic regression again with the balanced dataset\n",
    "y_train_upsampled = upsampled['Target']\n",
    "X_train_upsampled = upsampled.drop('Target', axis=1)\n",
    "\n",
    "upsampled = LogisticRegression(random_state= 42).fit(X_train_upsampled, y_train_upsampled)\n",
    "\n",
    "upsampled_pred = upsampled.predict(x_test)\n",
    "\n",
    "confusion_matrix(y_test, upsampled_pred)"
   ]
  },
  {
   "cell_type": "markdown",
   "metadata": {},
   "source": [
    "# ROC"
   ]
  },
  {
   "cell_type": "code",
   "execution_count": 73,
   "metadata": {},
   "outputs": [
    {
     "data": {
      "image/png": "[encoded data removed]",
      "text/plain": [
       "<Figure size 504x504 with 1 Axes>"
      ]
     },
     "metadata": {
      "needs_background": "light"
     },
     "output_type": "display_data"
    }
   ],
   "source": [
    "# upsampled\n",
    "f, axs = plt.subplots(figsize=(7,7))\n",
    "plot_roc_curve(upsampled, x_test, y_test,ax=axs)\n",
    "plt.show()"
   ]
  },
  {
   "cell_type": "markdown",
   "metadata": {},
   "source": [
    "# Undersampling/downsample  Majority Class"
   ]
  },
  {
   "cell_type": "code",
   "execution_count": 74,
   "metadata": {},
   "outputs": [
    {
     "data": {
      "text/plain": [
       "-1    166\n",
       " 1    166\n",
       "Name: Target, dtype: int64"
      ]
     },
     "execution_count": 74,
     "metadata": {},
     "output_type": "execute_result"
    }
   ],
   "source": [
    "# downsample majority\n",
    "negative_downsampled = resample(negative,\n",
    "                                replace = False, # sample without replacement\n",
    "                                n_samples = len(positive), # match minority n\n",
    "                                random_state = 42) # reproducible results\n",
    "\n",
    "# combine minority and downsampled majority\n",
    "downsampled = pd.concat([negative_downsampled, positive])\n",
    "\n",
    "# checking counts\n",
    "downsampled['Target'].value_counts()"
   ]
  },
  {
   "cell_type": "markdown",
   "metadata": {},
   "source": [
    "# Apply logistic regression on downsampled data"
   ]
  },
  {
   "cell_type": "code",
   "execution_count": 75,
   "metadata": {},
   "outputs": [
    {
     "data": {
      "text/plain": [
       "array([[914, 153],\n",
       "       [  8,  57]], dtype=int64)"
      ]
     },
     "execution_count": 75,
     "metadata": {},
     "output_type": "execute_result"
    }
   ],
   "source": [
    "# trying logistic regression again with the balanced dataset\n",
    "y_train_downsampled = downsampled['Target']\n",
    "X_train_downsampled = downsampled.drop('Target', axis=1)\n",
    "\n",
    "downsampled_lr = LogisticRegression(random_state= 42).fit(X_train_downsampled, y_train_downsampled)\n",
    "\n",
    "downsampled_pred = downsampled_lr.predict(x_test)\n",
    "\n",
    "confusion_matrix(y_test, downsampled_pred)"
   ]
  },
  {
   "cell_type": "markdown",
   "metadata": {},
   "source": [
    "# ROC"
   ]
  },
  {
   "cell_type": "code",
   "execution_count": 76,
   "metadata": {},
   "outputs": [
    {
     "data": {
      "image/png": "[encoded data removed]",
      "text/plain": [
       "<Figure size 504x504 with 1 Axes>"
      ]
     },
     "metadata": {
      "needs_background": "light"
     },
     "output_type": "display_data"
    }
   ],
   "source": [
    "# upsampled\n",
    "f, axs = plt.subplots(figsize=(7,7))\n",
    "plot_roc_curve(downsampled_lr, x_test, y_test,ax=axs)\n",
    "plt.show()"
   ]
  },
  {
   "cell_type": "code",
   "execution_count": null,
   "metadata": {},
   "outputs": [],
   "source": []
  }
 ],
 "metadata": {
  "kernelspec": {
   "display_name": "Python 3",
   "language": "python",
   "name": "python3"
  },
  "language_info": {
   "codemirror_mode": {
    "name": "ipython",
    "version": 3
   },
   "file_extension": ".py",
   "mimetype": "text/x-python",
   "name": "python",
   "nbconvert_exporter": "python",
   "pygments_lexer": "ipython3",
   "version": "3.8.5"
  }
 },
 "nbformat": 4,
 "nbformat_minor": 4
}
