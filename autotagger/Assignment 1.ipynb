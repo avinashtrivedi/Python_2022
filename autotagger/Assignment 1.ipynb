{
 "cells": [
  {
   "cell_type": "markdown",
   "metadata": {},
   "source": [
    "# part I -  \n",
    "\n",
    "## A Finance Application using numpy - Random-Walk\n",
    "In this assignment we simulate stock price paths using random number generation with `numpy.random`"
   ]
  },
  {
   "cell_type": "code",
   "execution_count": null,
   "metadata": {},
   "outputs": [],
   "source": [
    "import numpy as np"
   ]
  },
  {
   "cell_type": "markdown",
   "metadata": {},
   "source": [
    "Start by creating a numpy array called `draws`. This is a one dimentional array that contains the integers '0' and '1', in a random order. Use the function `np.random.randint()`.\n",
    "Documentation (if you need it) is here: https://numpy.org/doc/stable/reference/random/generated/numpy.random.randint.html\n",
    "\n",
    "Use a variable called `n_steps` for the size of the array, set its value to 100 for now. "
   ]
  },
  {
   "cell_type": "code",
   "execution_count": null,
   "metadata": {},
   "outputs": [],
   "source": [
    "# hint: your output result should look something like the following:\n",
    "# array([1, 0, 0, 0, 1, 1, 1, 1, 0, 1, 1, 1, 1, 1, 1, 1, 0, 1, 1, 0, 0, 0,\n",
    "#        1, 0, 0, 0, 1, 1, 0, 1, 0, 0, 1, 1, 0, 0, 1, 1, 1, 1, 1, 1, 0, 1,\n",
    "#        1, 1, 1, 1, 1, 0, 0, 1, 1, 0, 1, 0, 1, 0, 1, 1, 1, 1, 1, 1, 1, 1,\n",
    "#        0, 1, 0, 1, 0, 1, 1, 1, 0, 1, 1, 0, 0, 1, 0, 1, 1, 0, 1, 0, 0, 0,\n",
    "#        1, 1, 0, 0, 0, 1, 0, 1, 0, 0, 1, 0])"
   ]
  },
  {
   "cell_type": "code",
   "execution_count": null,
   "metadata": {},
   "outputs": [],
   "source": []
  },
  {
   "cell_type": "markdown",
   "metadata": {},
   "source": [
    "Create a new numpy array called `steps`. This array is a simple transformation of `draws`, where all '0' values are transformed to '-1'; all '1' values are unchanged. You can use the function `np.where()` to perform this easy transformation. \n",
    "\n",
    "Look at the documentation if needed (just Google 'np.where()'; the documentation you need is in the first result)"
   ]
  },
  {
   "cell_type": "code",
   "execution_count": null,
   "metadata": {},
   "outputs": [],
   "source": []
  },
  {
   "cell_type": "markdown",
   "metadata": {},
   "source": [
    "Create a new numpy array called `walk`. This array will record the *cumulative sum* of the up and down movements. \n",
    "\n",
    "To do this use the numpy method `.cumsum()` on your array `steps`."
   ]
  },
  {
   "cell_type": "code",
   "execution_count": null,
   "metadata": {},
   "outputs": [],
   "source": []
  },
  {
   "cell_type": "markdown",
   "metadata": {},
   "source": [
    "Run the code below; this should plot your random walk simulation using 100 steps."
   ]
  },
  {
   "cell_type": "code",
   "execution_count": null,
   "metadata": {},
   "outputs": [],
   "source": [
    "import matplotlib.pyplot as plt\n",
    "plt.plot(walk[:100])\n",
    "plt.draw()"
   ]
  },
  {
   "cell_type": "markdown",
   "metadata": {},
   "source": [
    "Now that you figured out all the code needed, combine everything above to one block of code. \n",
    "\n",
    "Change the number of steps to 10000. \n",
    "\n",
    "Run the code several times. Does it look like an actual stock movement? "
   ]
  },
  {
   "cell_type": "code",
   "execution_count": null,
   "metadata": {
    "scrolled": true
   },
   "outputs": [],
   "source": [
    "# All the code together\n",
    "\n",
    "\n",
    "\n",
    "\n",
    "\n",
    "\n",
    "\n"
   ]
  },
  {
   "cell_type": "markdown",
   "metadata": {},
   "source": [
    "# part II - regex practice\n",
    "\n"
   ]
  },
  {
   "cell_type": "markdown",
   "metadata": {},
   "source": [
    "Capture the date in the following text by using `re.search()`."
   ]
  },
  {
   "cell_type": "code",
   "execution_count": null,
   "metadata": {},
   "outputs": [],
   "source": [
    "title = 'FQ2: 01-30-19 Earnings Summary'"
   ]
  },
  {
   "cell_type": "code",
   "execution_count": null,
   "metadata": {},
   "outputs": [],
   "source": []
  },
  {
   "cell_type": "code",
   "execution_count": null,
   "metadata": {},
   "outputs": [],
   "source": []
  },
  {
   "cell_type": "markdown",
   "metadata": {},
   "source": [
    "Capture the ticker in the following text by using `re.search()`."
   ]
  },
  {
   "cell_type": "code",
   "execution_count": null,
   "metadata": {},
   "outputs": [],
   "source": [
    "title = 'Apple Inc. (NASDAQ:AAPL) Q1 2019 Earnings Conference Call January 29, 2019 5:00 PM ET'"
   ]
  },
  {
   "cell_type": "code",
   "execution_count": null,
   "metadata": {},
   "outputs": [],
   "source": []
  },
  {
   "cell_type": "code",
   "execution_count": null,
   "metadata": {},
   "outputs": [],
   "source": []
  },
  {
   "cell_type": "markdown",
   "metadata": {},
   "source": [
    "Capture the tickers in the following text and store in a list called 'Tckrs'."
   ]
  },
  {
   "cell_type": "code",
   "execution_count": null,
   "metadata": {},
   "outputs": [],
   "source": [
    "stocks = '''\n",
    "AAPL 192.74 -0.73%\n",
    "LLY 111.74 -0.07%\n",
    "MSFT 132.45 0.10%\n",
    "NIO 2.42 -3.97%\n",
    "TSLA 214.92 0.47%\n",
    "'''"
   ]
  },
  {
   "cell_type": "code",
   "execution_count": null,
   "metadata": {},
   "outputs": [],
   "source": []
  },
  {
   "cell_type": "code",
   "execution_count": null,
   "metadata": {},
   "outputs": [],
   "source": []
  },
  {
   "cell_type": "markdown",
   "metadata": {},
   "source": [
    "Create a list of tuples that contains all the information in the text below. \n",
    "\n",
    "Each tuple should include the ticker, price, and percent change. \n",
    "\n",
    "**Hint:** start by using `findall()` to capture tickers, prices, and percent changes seperately. Then apply the function `zip()`."
   ]
  },
  {
   "cell_type": "code",
   "execution_count": null,
   "metadata": {},
   "outputs": [],
   "source": [
    "stocks = '''\n",
    "AAPL 192.74 -0.73%\n",
    "LLY 111.74 +0.07%\n",
    "MSFT 132.45 +0.10%\n",
    "NIO 2.42 -3.97%\n",
    "TSLA 214.92 -0.47%\n",
    "'''"
   ]
  },
  {
   "cell_type": "code",
   "execution_count": null,
   "metadata": {},
   "outputs": [],
   "source": []
  },
  {
   "cell_type": "code",
   "execution_count": null,
   "metadata": {},
   "outputs": [],
   "source": []
  },
  {
   "cell_type": "markdown",
   "metadata": {},
   "source": [
    "Capture the urls in the following text and put them into a list called 'urls'."
   ]
  },
  {
   "cell_type": "code",
   "execution_count": null,
   "metadata": {},
   "outputs": [],
   "source": [
    "text = '''\n",
    "To comment or ask technical questions about this book, send email to\n",
    "bookquestions@oreilly.com.\n",
    "For more information about our books, courses, conferences, and news, see our\n",
    "website at http://www.oreilly.com\n",
    "Find us on Facebook: http://facebook.com/oreilly\n",
    "Follow us on Twitter: http://twitter.com/oreillymedia\n",
    "Watch us on YouTube: http://www.youtube.com/oreillymedia\n",
    "'''"
   ]
  },
  {
   "cell_type": "code",
   "execution_count": null,
   "metadata": {},
   "outputs": [],
   "source": []
  },
  {
   "cell_type": "code",
   "execution_count": null,
   "metadata": {},
   "outputs": [],
   "source": []
  },
  {
   "cell_type": "markdown",
   "metadata": {},
   "source": [
    "Capture the contents of the comments in the following text and store them into a list called 'comm'."
   ]
  },
  {
   "cell_type": "code",
   "execution_count": null,
   "metadata": {},
   "outputs": [],
   "source": [
    "comments =  '''\n",
    "TaiPan\n",
    "Comments2360 | + Follow\n",
    "@holbornnine\n",
    "Contents: \"Down, then up, then partially down again. Seems to be technical trading at work, not sensible fundamental analysis.\"\n",
    "30 Jan 2019, 06:21 PM Reply0Like\n",
    "\t\n",
    "techy46\n",
    "Comments41089 | + Follow\n",
    "Contents: \"The PE of 23 isn't warranted!\"\n",
    "30 Jan 2019, 07:17 PM Reply2Like\n",
    "\t\n",
    "GDPPP\n",
    "Comments3755 | + Follow\n",
    "Contents: \"I agree. A PE of 30 is more justifiable given the recurring revenue nature of the business growing at robust double digit rates.\"\n",
    "'''"
   ]
  },
  {
   "cell_type": "code",
   "execution_count": null,
   "metadata": {},
   "outputs": [],
   "source": []
  },
  {
   "cell_type": "code",
   "execution_count": null,
   "metadata": {},
   "outputs": [],
   "source": []
  }
 ],
 "metadata": {
  "kernelspec": {
   "display_name": "Python 3 (ipykernel)",
   "language": "python",
   "name": "python3"
  },
  "language_info": {
   "codemirror_mode": {
    "name": "ipython",
    "version": 3
   },
   "file_extension": ".py",
   "mimetype": "text/x-python",
   "name": "python",
   "nbconvert_exporter": "python",
   "pygments_lexer": "ipython3",
   "version": "3.8.5"
  }
 },
 "nbformat": 4,
 "nbformat_minor": 2
}
