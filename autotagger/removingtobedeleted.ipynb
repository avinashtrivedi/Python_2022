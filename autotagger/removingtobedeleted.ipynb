{
 "cells": [
  {
   "cell_type": "code",
   "execution_count": 3,
   "metadata": {},
   "outputs": [
    {
     "name": "stderr",
     "output_type": "stream",
     "text": [
      "[nltk_data] Downloading package omw-1.4 to\n",
      "[nltk_data]     C:\\Users\\avitr\\AppData\\Roaming\\nltk_data...\n",
      "[nltk_data]   Package omw-1.4 is already up-to-date!\n"
     ]
    }
   ],
   "source": [
    "import re\n",
    "import nltk\n",
    "nltk.download('omw-1.4')\n",
    "from gensim.test.utils import common_texts\n",
    "# import data as data\n",
    "from gensim.models import Word2Vec\n",
    "import pandas as pd"
   ]
  },
  {
   "cell_type": "code",
   "execution_count": 4,
   "metadata": {
    "pycharm": {
     "name": "#%%\n"
    }
   },
   "outputs": [
    {
     "data": {
      "text/html": [
       "<div>\n",
       "<style scoped>\n",
       "    .dataframe tbody tr th:only-of-type {\n",
       "        vertical-align: middle;\n",
       "    }\n",
       "\n",
       "    .dataframe tbody tr th {\n",
       "        vertical-align: top;\n",
       "    }\n",
       "\n",
       "    .dataframe thead th {\n",
       "        text-align: right;\n",
       "    }\n",
       "</style>\n",
       "<table border=\"1\" class=\"dataframe\">\n",
       "  <thead>\n",
       "    <tr style=\"text-align: right;\">\n",
       "      <th></th>\n",
       "      <th>product_id</th>\n",
       "      <th>product_name</th>\n",
       "      <th>kw_name</th>\n",
       "      <th>description</th>\n",
       "    </tr>\n",
       "  </thead>\n",
       "  <tbody>\n",
       "    <tr>\n",
       "      <th>0</th>\n",
       "      <td>126879</td>\n",
       "      <td>Addis Flip Top 46L Black Bin</td>\n",
       "      <td>NaN</td>\n",
       "      <td>Dispose of unwanted rubbish without having to ...</td>\n",
       "    </tr>\n",
       "    <tr>\n",
       "      <th>1</th>\n",
       "      <td>127376</td>\n",
       "      <td>Arnott's Tim Tam Chewy Caramel 200g</td>\n",
       "      <td>NaN</td>\n",
       "      <td>NaN</td>\n",
       "    </tr>\n",
       "    <tr>\n",
       "      <th>2</th>\n",
       "      <td>128411</td>\n",
       "      <td>Beeno Flatties Chicken 120g</td>\n",
       "      <td>NaN</td>\n",
       "      <td>NaN</td>\n",
       "    </tr>\n",
       "    <tr>\n",
       "      <th>3</th>\n",
       "      <td>138386</td>\n",
       "      <td>Beyers Amarula Chocolate 110g</td>\n",
       "      <td>NaN</td>\n",
       "      <td>NaN</td>\n",
       "    </tr>\n",
       "    <tr>\n",
       "      <th>4</th>\n",
       "      <td>138490</td>\n",
       "      <td>Bob Martin 2 In 1 Shampoo And Conditioner 400ml</td>\n",
       "      <td>NaN</td>\n",
       "      <td>NaN</td>\n",
       "    </tr>\n",
       "    <tr>\n",
       "      <th>5</th>\n",
       "      <td>136934</td>\n",
       "      <td>Bob Martin Crystal Cat Litter Lavender 1.8kg</td>\n",
       "      <td>NaN</td>\n",
       "      <td>NaN</td>\n",
       "    </tr>\n",
       "    <tr>\n",
       "      <th>6</th>\n",
       "      <td>140919</td>\n",
       "      <td>BRM PERI-PERI SPATCHCOCK CHICKEN 1.2KG</td>\n",
       "      <td>NaN</td>\n",
       "      <td>Fully cooked;\\nReady in minutes;\\nCooked until...</td>\n",
       "    </tr>\n",
       "    <tr>\n",
       "      <th>7</th>\n",
       "      <td>122149</td>\n",
       "      <td>BRM Pork Belly Ribs Bbq 2kg</td>\n",
       "      <td>ToBeRemoved</td>\n",
       "      <td>Pre-cooked marinated in bbq sauce</td>\n",
       "    </tr>\n",
       "    <tr>\n",
       "      <th>8</th>\n",
       "      <td>122931</td>\n",
       "      <td>Buffalo Citric Acid 100g</td>\n",
       "      <td>NaN</td>\n",
       "      <td>NaN</td>\n",
       "    </tr>\n",
       "    <tr>\n",
       "      <th>9</th>\n",
       "      <td>135665</td>\n",
       "      <td>Carmien Organic Teabags Pouch 100ea</td>\n",
       "      <td>NaN</td>\n",
       "      <td>NaN</td>\n",
       "    </tr>\n",
       "    <tr>\n",
       "      <th>10</th>\n",
       "      <td>102156</td>\n",
       "      <td>Colgate Plax Mouthwash, Icy Cool Mint, 500ml</td>\n",
       "      <td>ToBeRemoved</td>\n",
       "      <td>NaN</td>\n",
       "    </tr>\n",
       "    <tr>\n",
       "      <th>11</th>\n",
       "      <td>140932</td>\n",
       "      <td>Crushed Ginger 130g</td>\n",
       "      <td>NaN</td>\n",
       "      <td>Perfect for stews &amp; curries!</td>\n",
       "    </tr>\n",
       "    <tr>\n",
       "      <th>12</th>\n",
       "      <td>141080</td>\n",
       "      <td>D'Usse VSOP Cognac 750ml</td>\n",
       "      <td>NaN</td>\n",
       "      <td>D'Usse VSOP Cognac 750ml</td>\n",
       "    </tr>\n",
       "    <tr>\n",
       "      <th>13</th>\n",
       "      <td>141432</td>\n",
       "      <td>Dettol Liquid Bathroom Cleaner Ocean Fresh 50...</td>\n",
       "      <td>NaN</td>\n",
       "      <td>\\nDettol Liquid Bathroom Cleaner Ocean Fresh 5...</td>\n",
       "    </tr>\n",
       "    <tr>\n",
       "      <th>14</th>\n",
       "      <td>129564</td>\n",
       "      <td>Ferrero Rocher Raffaelli T15 Gift Box 150g</td>\n",
       "      <td>NaN</td>\n",
       "      <td>NaN</td>\n",
       "    </tr>\n",
       "    <tr>\n",
       "      <th>15</th>\n",
       "      <td>135552</td>\n",
       "      <td>Freshpak Cranberry &amp; Pomegrante 20ea</td>\n",
       "      <td>NaN</td>\n",
       "      <td>NaN</td>\n",
       "    </tr>\n",
       "    <tr>\n",
       "      <th>16</th>\n",
       "      <td>132786</td>\n",
       "      <td>Freshpak Green Rooibos Tagless 20ea</td>\n",
       "      <td>NaN</td>\n",
       "      <td>NaN</td>\n",
       "    </tr>\n",
       "    <tr>\n",
       "      <th>17</th>\n",
       "      <td>141000</td>\n",
       "      <td>Frozen Mixed Berries 1Kg</td>\n",
       "      <td>NaN</td>\n",
       "      <td>specially and seleceted\\n</td>\n",
       "    </tr>\n",
       "    <tr>\n",
       "      <th>18</th>\n",
       "      <td>140252</td>\n",
       "      <td>Glad Small Zipper Freezer Bags 15</td>\n",
       "      <td>NaN</td>\n",
       "      <td>Glad Freezer Bags are thick, strong and suitab...</td>\n",
       "    </tr>\n",
       "    <tr>\n",
       "      <th>19</th>\n",
       "      <td>126941</td>\n",
       "      <td>Huletts Large Freezer Dish 2 Pack</td>\n",
       "      <td>NaN</td>\n",
       "      <td>NaN</td>\n",
       "    </tr>\n",
       "    <tr>\n",
       "      <th>20</th>\n",
       "      <td>124612</td>\n",
       "      <td>Ina Paarman Bake Mix RedVelvet Cake 580g</td>\n",
       "      <td>NaN</td>\n",
       "      <td>NaN</td>\n",
       "    </tr>\n",
       "    <tr>\n",
       "      <th>21</th>\n",
       "      <td>141487</td>\n",
       "      <td>Johnnie Walker Black Label 750ml</td>\n",
       "      <td>NaN</td>\n",
       "      <td>Whisky</td>\n",
       "    </tr>\n",
       "    <tr>\n",
       "      <th>22</th>\n",
       "      <td>137775</td>\n",
       "      <td>Kwv Cruxland Gin 750ml</td>\n",
       "      <td>NaN</td>\n",
       "      <td>NaN</td>\n",
       "    </tr>\n",
       "    <tr>\n",
       "      <th>23</th>\n",
       "      <td>101963</td>\n",
       "      <td>Life from Stone  Sauvignon Blanc</td>\n",
       "      <td>ToBeRemoved</td>\n",
       "      <td>NaN</td>\n",
       "    </tr>\n",
       "    <tr>\n",
       "      <th>24</th>\n",
       "      <td>122826</td>\n",
       "      <td>Lopis Cat Litter 10kg</td>\n",
       "      <td>NaN</td>\n",
       "      <td>NaN</td>\n",
       "    </tr>\n",
       "    <tr>\n",
       "      <th>25</th>\n",
       "      <td>130237</td>\n",
       "      <td>Marltons Chicken Flavoured Strips Dog Treats ...</td>\n",
       "      <td>NaN</td>\n",
       "      <td>NaN</td>\n",
       "    </tr>\n",
       "    <tr>\n",
       "      <th>26</th>\n",
       "      <td>135249</td>\n",
       "      <td>Marltons Dental Bone Small 50g</td>\n",
       "      <td>NaN</td>\n",
       "      <td>NaN</td>\n",
       "    </tr>\n",
       "    <tr>\n",
       "      <th>27</th>\n",
       "      <td>127141</td>\n",
       "      <td>Marltons Lamb Flavoured Strips Dog Treats 120g</td>\n",
       "      <td>NaN</td>\n",
       "      <td>NaN</td>\n",
       "    </tr>\n",
       "    <tr>\n",
       "      <th>28</th>\n",
       "      <td>132707</td>\n",
       "      <td>Mediterranean Avocado Humus190g</td>\n",
       "      <td>NaN</td>\n",
       "      <td>NaN</td>\n",
       "    </tr>\n",
       "    <tr>\n",
       "      <th>29</th>\n",
       "      <td>134112</td>\n",
       "      <td>Melrose Sweetmilk Portions 18g</td>\n",
       "      <td>NaN</td>\n",
       "      <td>NaN</td>\n",
       "    </tr>\n",
       "  </tbody>\n",
       "</table>\n",
       "</div>"
      ],
      "text/plain": [
       "    product_id                                       product_name  \\\n",
       "0       126879                       Addis Flip Top 46L Black Bin   \n",
       "1       127376                Arnott's Tim Tam Chewy Caramel 200g   \n",
       "2       128411                       Beeno Flatties Chicken 120g    \n",
       "3       138386                     Beyers Amarula Chocolate 110g    \n",
       "4       138490   Bob Martin 2 In 1 Shampoo And Conditioner 400ml    \n",
       "5       136934      Bob Martin Crystal Cat Litter Lavender 1.8kg    \n",
       "6       140919             BRM PERI-PERI SPATCHCOCK CHICKEN 1.2KG   \n",
       "7       122149                        BRM Pork Belly Ribs Bbq 2kg   \n",
       "8       122931                          Buffalo Citric Acid 100g    \n",
       "9       135665               Carmien Organic Teabags Pouch 100ea    \n",
       "10      102156       Colgate Plax Mouthwash, Icy Cool Mint, 500ml   \n",
       "11      140932                                Crushed Ginger 130g   \n",
       "12      141080                           D'Usse VSOP Cognac 750ml   \n",
       "13      141432   Dettol Liquid Bathroom Cleaner Ocean Fresh 50...   \n",
       "14      129564        Ferrero Rocher Raffaelli T15 Gift Box 150g    \n",
       "15      135552              Freshpak Cranberry & Pomegrante 20ea    \n",
       "16      132786               Freshpak Green Rooibos Tagless 20ea    \n",
       "17      141000                          Frozen Mixed Berries 1Kg    \n",
       "18      140252                  Glad Small Zipper Freezer Bags 15   \n",
       "19      126941                  Huletts Large Freezer Dish 2 Pack   \n",
       "20      124612          Ina Paarman Bake Mix RedVelvet Cake 580g    \n",
       "21      141487                   Johnnie Walker Black Label 750ml   \n",
       "22      137775                             Kwv Cruxland Gin 750ml   \n",
       "23      101963                  Life from Stone  Sauvignon Blanc    \n",
       "24      122826                             Lopis Cat Litter 10kg    \n",
       "25      130237   Marltons Chicken Flavoured Strips Dog Treats ...   \n",
       "26      135249                    Marltons Dental Bone Small 50g    \n",
       "27      127141    Marltons Lamb Flavoured Strips Dog Treats 120g    \n",
       "28      132707                   Mediterranean Avocado Humus190g    \n",
       "29      134112                    Melrose Sweetmilk Portions 18g    \n",
       "\n",
       "        kw_name                                        description  \n",
       "0           NaN  Dispose of unwanted rubbish without having to ...  \n",
       "1           NaN                                                NaN  \n",
       "2           NaN                                                NaN  \n",
       "3           NaN                                                NaN  \n",
       "4           NaN                                                NaN  \n",
       "5           NaN                                                NaN  \n",
       "6           NaN  Fully cooked;\\nReady in minutes;\\nCooked until...  \n",
       "7   ToBeRemoved                 Pre-cooked marinated in bbq sauce   \n",
       "8           NaN                                                NaN  \n",
       "9           NaN                                                NaN  \n",
       "10  ToBeRemoved                                                NaN  \n",
       "11          NaN                       Perfect for stews & curries!  \n",
       "12          NaN                           D'Usse VSOP Cognac 750ml  \n",
       "13          NaN  \\nDettol Liquid Bathroom Cleaner Ocean Fresh 5...  \n",
       "14          NaN                                                NaN  \n",
       "15          NaN                                                NaN  \n",
       "16          NaN                                                NaN  \n",
       "17          NaN                          specially and seleceted\\n  \n",
       "18          NaN  Glad Freezer Bags are thick, strong and suitab...  \n",
       "19          NaN                                                NaN  \n",
       "20          NaN                                                NaN  \n",
       "21          NaN                                            Whisky   \n",
       "22          NaN                                                NaN  \n",
       "23  ToBeRemoved                                                NaN  \n",
       "24          NaN                                                NaN  \n",
       "25          NaN                                                NaN  \n",
       "26          NaN                                                NaN  \n",
       "27          NaN                                                NaN  \n",
       "28          NaN                                                NaN  \n",
       "29          NaN                                                NaN  "
      ]
     },
     "execution_count": 4,
     "metadata": {},
     "output_type": "execute_result"
    }
   ],
   "source": [
    "df = pd.read_csv(\"autotagger.tsv\",sep='\\t')\n",
    "df.head(30)"
   ]
  },
  {
   "cell_type": "code",
   "execution_count": 5,
   "metadata": {
    "pycharm": {
     "name": "#%%\n"
    }
   },
   "outputs": [
    {
     "ename": "TypeError",
     "evalue": "expected string or bytes-like object",
     "output_type": "error",
     "traceback": [
      "\u001b[1;31m---------------------------------------------------------------------------\u001b[0m",
      "\u001b[1;31mTypeError\u001b[0m                                 Traceback (most recent call last)",
      "\u001b[1;32m<ipython-input-5-665443274396>\u001b[0m in \u001b[0;36m<module>\u001b[1;34m\u001b[0m\n\u001b[0;32m      1\u001b[0m \u001b[1;32mimport\u001b[0m \u001b[0mre\u001b[0m\u001b[1;33m\u001b[0m\u001b[1;33m\u001b[0m\u001b[0m\n\u001b[1;32m----> 2\u001b[1;33m \u001b[0mdf\u001b[0m\u001b[1;33m=\u001b[0m \u001b[0mre\u001b[0m\u001b[1;33m.\u001b[0m\u001b[0msub\u001b[0m\u001b[1;33m(\u001b[0m\u001b[1;34m'ToBeRemoved'\u001b[0m\u001b[1;33m,\u001b[0m\u001b[1;34m''\u001b[0m\u001b[1;33m,\u001b[0m\u001b[0mdf\u001b[0m\u001b[1;33m)\u001b[0m\u001b[1;33m\u001b[0m\u001b[1;33m\u001b[0m\u001b[0m\n\u001b[0m",
      "\u001b[1;32m~\\anaconda3\\lib\\re.py\u001b[0m in \u001b[0;36msub\u001b[1;34m(pattern, repl, string, count, flags)\u001b[0m\n\u001b[0;32m    208\u001b[0m     \u001b[0ma\u001b[0m \u001b[0mcallable\u001b[0m\u001b[1;33m,\u001b[0m \u001b[0mit\u001b[0m\u001b[0;31m'\u001b[0m\u001b[0ms\u001b[0m \u001b[0mpassed\u001b[0m \u001b[0mthe\u001b[0m \u001b[0mMatch\u001b[0m \u001b[0mobject\u001b[0m \u001b[1;32mand\u001b[0m \u001b[0mmust\u001b[0m \u001b[1;32mreturn\u001b[0m\u001b[1;33m\u001b[0m\u001b[1;33m\u001b[0m\u001b[0m\n\u001b[0;32m    209\u001b[0m     a replacement string to be used.\"\"\"\n\u001b[1;32m--> 210\u001b[1;33m     \u001b[1;32mreturn\u001b[0m \u001b[0m_compile\u001b[0m\u001b[1;33m(\u001b[0m\u001b[0mpattern\u001b[0m\u001b[1;33m,\u001b[0m \u001b[0mflags\u001b[0m\u001b[1;33m)\u001b[0m\u001b[1;33m.\u001b[0m\u001b[0msub\u001b[0m\u001b[1;33m(\u001b[0m\u001b[0mrepl\u001b[0m\u001b[1;33m,\u001b[0m \u001b[0mstring\u001b[0m\u001b[1;33m,\u001b[0m \u001b[0mcount\u001b[0m\u001b[1;33m)\u001b[0m\u001b[1;33m\u001b[0m\u001b[1;33m\u001b[0m\u001b[0m\n\u001b[0m\u001b[0;32m    211\u001b[0m \u001b[1;33m\u001b[0m\u001b[0m\n\u001b[0;32m    212\u001b[0m \u001b[1;32mdef\u001b[0m \u001b[0msubn\u001b[0m\u001b[1;33m(\u001b[0m\u001b[0mpattern\u001b[0m\u001b[1;33m,\u001b[0m \u001b[0mrepl\u001b[0m\u001b[1;33m,\u001b[0m \u001b[0mstring\u001b[0m\u001b[1;33m,\u001b[0m \u001b[0mcount\u001b[0m\u001b[1;33m=\u001b[0m\u001b[1;36m0\u001b[0m\u001b[1;33m,\u001b[0m \u001b[0mflags\u001b[0m\u001b[1;33m=\u001b[0m\u001b[1;36m0\u001b[0m\u001b[1;33m)\u001b[0m\u001b[1;33m:\u001b[0m\u001b[1;33m\u001b[0m\u001b[1;33m\u001b[0m\u001b[0m\n",
      "\u001b[1;31mTypeError\u001b[0m: expected string or bytes-like object"
     ]
    }
   ],
   "source": [
    "import re\n",
    "df= re.sub('ToBeRemoved','',df)\n"
   ]
  },
  {
   "cell_type": "code",
   "execution_count": 26,
   "metadata": {
    "pycharm": {
     "name": "#%%\n"
    }
   },
   "outputs": [
    {
     "name": "stdout",
     "output_type": "stream",
     "text": [
      "       product_id                                       product_name  \\\n",
      "0          126879                       Addis Flip Top 46L Black Bin   \n",
      "1          127376                Arnott's Tim Tam Chewy Caramel 200g   \n",
      "2          128411                       Beeno Flatties Chicken 120g    \n",
      "3          138386                     Beyers Amarula Chocolate 110g    \n",
      "4          138490   Bob Martin 2 In 1 Shampoo And Conditioner 400ml    \n",
      "...           ...                                                ...   \n",
      "13630       93196                          Zonnebloem Pinotage 750ml   \n",
      "13631       93196                          Zonnebloem Pinotage 750ml   \n",
      "13632       93196                          Zonnebloem Pinotage 750ml   \n",
      "13633      115640                                  Zooty Groovy 60ml   \n",
      "13634      110268                        Zooty Ice Cream Orange 60ml   \n",
      "\n",
      "        kw_name                                        description  \n",
      "0           NaN  Dispose of unwanted rubbish without having to ...  \n",
      "1           NaN                                                NaN  \n",
      "2           NaN                                                NaN  \n",
      "3           NaN                                                NaN  \n",
      "4           NaN                                                NaN  \n",
      "...         ...                                                ...  \n",
      "13630  Red Wine                                                NaN  \n",
      "13631      Wine                                                NaN  \n",
      "13632     wines                                                NaN  \n",
      "13633       NaN                                                NaN  \n",
      "13634       NaN                                                NaN  \n",
      "\n",
      "[11410 rows x 4 columns]\n"
     ]
    },
    {
     "data": {
      "text/html": [
       "<div>\n",
       "<style scoped>\n",
       "    .dataframe tbody tr th:only-of-type {\n",
       "        vertical-align: middle;\n",
       "    }\n",
       "\n",
       "    .dataframe tbody tr th {\n",
       "        vertical-align: top;\n",
       "    }\n",
       "\n",
       "    .dataframe thead th {\n",
       "        text-align: right;\n",
       "    }\n",
       "</style>\n",
       "<table border=\"1\" class=\"dataframe\">\n",
       "  <thead>\n",
       "    <tr style=\"text-align: right;\">\n",
       "      <th></th>\n",
       "      <th>product_id</th>\n",
       "      <th>product_name</th>\n",
       "      <th>kw_name</th>\n",
       "      <th>description</th>\n",
       "    </tr>\n",
       "  </thead>\n",
       "  <tbody>\n",
       "    <tr>\n",
       "      <th>0</th>\n",
       "      <td>126879</td>\n",
       "      <td>Addis Flip Top 46L Black Bin</td>\n",
       "      <td>NaN</td>\n",
       "      <td>Dispose of unwanted rubbish without having to ...</td>\n",
       "    </tr>\n",
       "    <tr>\n",
       "      <th>1</th>\n",
       "      <td>127376</td>\n",
       "      <td>Arnott's Tim Tam Chewy Caramel 200g</td>\n",
       "      <td>NaN</td>\n",
       "      <td>NaN</td>\n",
       "    </tr>\n",
       "    <tr>\n",
       "      <th>2</th>\n",
       "      <td>128411</td>\n",
       "      <td>Beeno Flatties Chicken 120g</td>\n",
       "      <td>NaN</td>\n",
       "      <td>NaN</td>\n",
       "    </tr>\n",
       "    <tr>\n",
       "      <th>3</th>\n",
       "      <td>138386</td>\n",
       "      <td>Beyers Amarula Chocolate 110g</td>\n",
       "      <td>NaN</td>\n",
       "      <td>NaN</td>\n",
       "    </tr>\n",
       "    <tr>\n",
       "      <th>4</th>\n",
       "      <td>138490</td>\n",
       "      <td>Bob Martin 2 In 1 Shampoo And Conditioner 400ml</td>\n",
       "      <td>NaN</td>\n",
       "      <td>NaN</td>\n",
       "    </tr>\n",
       "    <tr>\n",
       "      <th>5</th>\n",
       "      <td>136934</td>\n",
       "      <td>Bob Martin Crystal Cat Litter Lavender 1.8kg</td>\n",
       "      <td>NaN</td>\n",
       "      <td>NaN</td>\n",
       "    </tr>\n",
       "    <tr>\n",
       "      <th>6</th>\n",
       "      <td>140919</td>\n",
       "      <td>BRM PERI-PERI SPATCHCOCK CHICKEN 1.2KG</td>\n",
       "      <td>NaN</td>\n",
       "      <td>Fully cooked;\\nReady in minutes;\\nCooked until...</td>\n",
       "    </tr>\n",
       "    <tr>\n",
       "      <th>7</th>\n",
       "      <td>122149</td>\n",
       "      <td>BRM Pork Belly Ribs Bbq 2kg</td>\n",
       "      <td>ToBeRemoved</td>\n",
       "      <td>Pre-cooked marinated in bbq sauce</td>\n",
       "    </tr>\n",
       "    <tr>\n",
       "      <th>8</th>\n",
       "      <td>122931</td>\n",
       "      <td>Buffalo Citric Acid 100g</td>\n",
       "      <td>NaN</td>\n",
       "      <td>NaN</td>\n",
       "    </tr>\n",
       "    <tr>\n",
       "      <th>9</th>\n",
       "      <td>135665</td>\n",
       "      <td>Carmien Organic Teabags Pouch 100ea</td>\n",
       "      <td>NaN</td>\n",
       "      <td>NaN</td>\n",
       "    </tr>\n",
       "    <tr>\n",
       "      <th>10</th>\n",
       "      <td>102156</td>\n",
       "      <td>Colgate Plax Mouthwash, Icy Cool Mint, 500ml</td>\n",
       "      <td>ToBeRemoved</td>\n",
       "      <td>NaN</td>\n",
       "    </tr>\n",
       "    <tr>\n",
       "      <th>11</th>\n",
       "      <td>140932</td>\n",
       "      <td>Crushed Ginger 130g</td>\n",
       "      <td>NaN</td>\n",
       "      <td>Perfect for stews &amp; curries!</td>\n",
       "    </tr>\n",
       "    <tr>\n",
       "      <th>12</th>\n",
       "      <td>141080</td>\n",
       "      <td>D'Usse VSOP Cognac 750ml</td>\n",
       "      <td>NaN</td>\n",
       "      <td>D'Usse VSOP Cognac 750ml</td>\n",
       "    </tr>\n",
       "    <tr>\n",
       "      <th>13</th>\n",
       "      <td>141432</td>\n",
       "      <td>Dettol Liquid Bathroom Cleaner Ocean Fresh 50...</td>\n",
       "      <td>NaN</td>\n",
       "      <td>\\nDettol Liquid Bathroom Cleaner Ocean Fresh 5...</td>\n",
       "    </tr>\n",
       "    <tr>\n",
       "      <th>14</th>\n",
       "      <td>129564</td>\n",
       "      <td>Ferrero Rocher Raffaelli T15 Gift Box 150g</td>\n",
       "      <td>NaN</td>\n",
       "      <td>NaN</td>\n",
       "    </tr>\n",
       "    <tr>\n",
       "      <th>15</th>\n",
       "      <td>135552</td>\n",
       "      <td>Freshpak Cranberry &amp; Pomegrante 20ea</td>\n",
       "      <td>NaN</td>\n",
       "      <td>NaN</td>\n",
       "    </tr>\n",
       "    <tr>\n",
       "      <th>16</th>\n",
       "      <td>132786</td>\n",
       "      <td>Freshpak Green Rooibos Tagless 20ea</td>\n",
       "      <td>NaN</td>\n",
       "      <td>NaN</td>\n",
       "    </tr>\n",
       "    <tr>\n",
       "      <th>17</th>\n",
       "      <td>141000</td>\n",
       "      <td>Frozen Mixed Berries 1Kg</td>\n",
       "      <td>NaN</td>\n",
       "      <td>specially and seleceted\\n</td>\n",
       "    </tr>\n",
       "    <tr>\n",
       "      <th>18</th>\n",
       "      <td>140252</td>\n",
       "      <td>Glad Small Zipper Freezer Bags 15</td>\n",
       "      <td>NaN</td>\n",
       "      <td>Glad Freezer Bags are thick, strong and suitab...</td>\n",
       "    </tr>\n",
       "    <tr>\n",
       "      <th>19</th>\n",
       "      <td>126941</td>\n",
       "      <td>Huletts Large Freezer Dish 2 Pack</td>\n",
       "      <td>NaN</td>\n",
       "      <td>NaN</td>\n",
       "    </tr>\n",
       "    <tr>\n",
       "      <th>20</th>\n",
       "      <td>124612</td>\n",
       "      <td>Ina Paarman Bake Mix RedVelvet Cake 580g</td>\n",
       "      <td>NaN</td>\n",
       "      <td>NaN</td>\n",
       "    </tr>\n",
       "    <tr>\n",
       "      <th>21</th>\n",
       "      <td>141487</td>\n",
       "      <td>Johnnie Walker Black Label 750ml</td>\n",
       "      <td>NaN</td>\n",
       "      <td>Whisky</td>\n",
       "    </tr>\n",
       "    <tr>\n",
       "      <th>22</th>\n",
       "      <td>137775</td>\n",
       "      <td>Kwv Cruxland Gin 750ml</td>\n",
       "      <td>NaN</td>\n",
       "      <td>NaN</td>\n",
       "    </tr>\n",
       "    <tr>\n",
       "      <th>23</th>\n",
       "      <td>101963</td>\n",
       "      <td>Life from Stone  Sauvignon Blanc</td>\n",
       "      <td>ToBeRemoved</td>\n",
       "      <td>NaN</td>\n",
       "    </tr>\n",
       "    <tr>\n",
       "      <th>24</th>\n",
       "      <td>122826</td>\n",
       "      <td>Lopis Cat Litter 10kg</td>\n",
       "      <td>NaN</td>\n",
       "      <td>NaN</td>\n",
       "    </tr>\n",
       "    <tr>\n",
       "      <th>25</th>\n",
       "      <td>130237</td>\n",
       "      <td>Marltons Chicken Flavoured Strips Dog Treats ...</td>\n",
       "      <td>NaN</td>\n",
       "      <td>NaN</td>\n",
       "    </tr>\n",
       "    <tr>\n",
       "      <th>26</th>\n",
       "      <td>135249</td>\n",
       "      <td>Marltons Dental Bone Small 50g</td>\n",
       "      <td>NaN</td>\n",
       "      <td>NaN</td>\n",
       "    </tr>\n",
       "    <tr>\n",
       "      <th>27</th>\n",
       "      <td>127141</td>\n",
       "      <td>Marltons Lamb Flavoured Strips Dog Treats 120g</td>\n",
       "      <td>NaN</td>\n",
       "      <td>NaN</td>\n",
       "    </tr>\n",
       "    <tr>\n",
       "      <th>28</th>\n",
       "      <td>132707</td>\n",
       "      <td>Mediterranean Avocado Humus190g</td>\n",
       "      <td>NaN</td>\n",
       "      <td>NaN</td>\n",
       "    </tr>\n",
       "    <tr>\n",
       "      <th>29</th>\n",
       "      <td>134112</td>\n",
       "      <td>Melrose Sweetmilk Portions 18g</td>\n",
       "      <td>NaN</td>\n",
       "      <td>NaN</td>\n",
       "    </tr>\n",
       "  </tbody>\n",
       "</table>\n",
       "</div>"
      ],
      "text/plain": [
       "    product_id                                       product_name  \\\n",
       "0       126879                       Addis Flip Top 46L Black Bin   \n",
       "1       127376                Arnott's Tim Tam Chewy Caramel 200g   \n",
       "2       128411                       Beeno Flatties Chicken 120g    \n",
       "3       138386                     Beyers Amarula Chocolate 110g    \n",
       "4       138490   Bob Martin 2 In 1 Shampoo And Conditioner 400ml    \n",
       "5       136934      Bob Martin Crystal Cat Litter Lavender 1.8kg    \n",
       "6       140919             BRM PERI-PERI SPATCHCOCK CHICKEN 1.2KG   \n",
       "7       122149                        BRM Pork Belly Ribs Bbq 2kg   \n",
       "8       122931                          Buffalo Citric Acid 100g    \n",
       "9       135665               Carmien Organic Teabags Pouch 100ea    \n",
       "10      102156       Colgate Plax Mouthwash, Icy Cool Mint, 500ml   \n",
       "11      140932                                Crushed Ginger 130g   \n",
       "12      141080                           D'Usse VSOP Cognac 750ml   \n",
       "13      141432   Dettol Liquid Bathroom Cleaner Ocean Fresh 50...   \n",
       "14      129564        Ferrero Rocher Raffaelli T15 Gift Box 150g    \n",
       "15      135552              Freshpak Cranberry & Pomegrante 20ea    \n",
       "16      132786               Freshpak Green Rooibos Tagless 20ea    \n",
       "17      141000                          Frozen Mixed Berries 1Kg    \n",
       "18      140252                  Glad Small Zipper Freezer Bags 15   \n",
       "19      126941                  Huletts Large Freezer Dish 2 Pack   \n",
       "20      124612          Ina Paarman Bake Mix RedVelvet Cake 580g    \n",
       "21      141487                   Johnnie Walker Black Label 750ml   \n",
       "22      137775                             Kwv Cruxland Gin 750ml   \n",
       "23      101963                  Life from Stone  Sauvignon Blanc    \n",
       "24      122826                             Lopis Cat Litter 10kg    \n",
       "25      130237   Marltons Chicken Flavoured Strips Dog Treats ...   \n",
       "26      135249                    Marltons Dental Bone Small 50g    \n",
       "27      127141    Marltons Lamb Flavoured Strips Dog Treats 120g    \n",
       "28      132707                   Mediterranean Avocado Humus190g    \n",
       "29      134112                    Melrose Sweetmilk Portions 18g    \n",
       "\n",
       "        kw_name                                        description  \n",
       "0           NaN  Dispose of unwanted rubbish without having to ...  \n",
       "1           NaN                                                NaN  \n",
       "2           NaN                                                NaN  \n",
       "3           NaN                                                NaN  \n",
       "4           NaN                                                NaN  \n",
       "5           NaN                                                NaN  \n",
       "6           NaN  Fully cooked;\\nReady in minutes;\\nCooked until...  \n",
       "7   ToBeRemoved                 Pre-cooked marinated in bbq sauce   \n",
       "8           NaN                                                NaN  \n",
       "9           NaN                                                NaN  \n",
       "10  ToBeRemoved                                                NaN  \n",
       "11          NaN                       Perfect for stews & curries!  \n",
       "12          NaN                           D'Usse VSOP Cognac 750ml  \n",
       "13          NaN  \\nDettol Liquid Bathroom Cleaner Ocean Fresh 5...  \n",
       "14          NaN                                                NaN  \n",
       "15          NaN                                                NaN  \n",
       "16          NaN                                                NaN  \n",
       "17          NaN                          specially and seleceted\\n  \n",
       "18          NaN  Glad Freezer Bags are thick, strong and suitab...  \n",
       "19          NaN                                                NaN  \n",
       "20          NaN                                                NaN  \n",
       "21          NaN                                            Whisky   \n",
       "22          NaN                                                NaN  \n",
       "23  ToBeRemoved                                                NaN  \n",
       "24          NaN                                                NaN  \n",
       "25          NaN                                                NaN  \n",
       "26          NaN                                                NaN  \n",
       "27          NaN                                                NaN  \n",
       "28          NaN                                                NaN  \n",
       "29          NaN                                                NaN  "
      ]
     },
     "execution_count": 26,
     "metadata": {},
     "output_type": "execute_result"
    }
   ],
   "source": [
    "print(df.drop(df[df.kw_name.str.contains(r'ToBeRemoved')\n",
    "              | df.product_name.str.contains(r'ToBeRemoved')].index))\n",
    "\n",
    "df.head(30)"
   ]
  },
  {
   "cell_type": "code",
   "execution_count": 27,
   "metadata": {
    "pycharm": {
     "name": "#%%\n"
    }
   },
   "outputs": [
    {
     "name": "stdout",
     "output_type": "stream",
     "text": [
      "    product_id                                       product_name kw_name  \\\n",
      "0       126879                       Addis Flip Top 46L Black Bin     NaN   \n",
      "1       127376                Arnott's Tim Tam Chewy Caramel 200g     NaN   \n",
      "2       128411                       Beeno Flatties Chicken 120g      NaN   \n",
      "3       138386                     Beyers Amarula Chocolate 110g      NaN   \n",
      "4       138490   Bob Martin 2 In 1 Shampoo And Conditioner 400ml      NaN   \n",
      "5       136934      Bob Martin Crystal Cat Litter Lavender 1.8kg      NaN   \n",
      "6       140919             BRM PERI-PERI SPATCHCOCK CHICKEN 1.2KG     NaN   \n",
      "7       122149                        BRM Pork Belly Ribs Bbq 2kg           \n",
      "8       122931                          Buffalo Citric Acid 100g      NaN   \n",
      "9       135665               Carmien Organic Teabags Pouch 100ea      NaN   \n",
      "10      102156       Colgate Plax Mouthwash, Icy Cool Mint, 500ml           \n",
      "11      140932                                Crushed Ginger 130g     NaN   \n",
      "12      141080                           D'Usse VSOP Cognac 750ml     NaN   \n",
      "13      141432   Dettol Liquid Bathroom Cleaner Ocean Fresh 50...     NaN   \n",
      "14      129564        Ferrero Rocher Raffaelli T15 Gift Box 150g      NaN   \n",
      "15      135552              Freshpak Cranberry & Pomegrante 20ea      NaN   \n",
      "16      132786               Freshpak Green Rooibos Tagless 20ea      NaN   \n",
      "17      141000                          Frozen Mixed Berries 1Kg      NaN   \n",
      "18      140252                  Glad Small Zipper Freezer Bags 15     NaN   \n",
      "19      126941                  Huletts Large Freezer Dish 2 Pack     NaN   \n",
      "20      124612          Ina Paarman Bake Mix RedVelvet Cake 580g      NaN   \n",
      "21      141487                   Johnnie Walker Black Label 750ml     NaN   \n",
      "22      137775                             Kwv Cruxland Gin 750ml     NaN   \n",
      "23      101963                  Life from Stone  Sauvignon Blanc            \n",
      "24      122826                             Lopis Cat Litter 10kg      NaN   \n",
      "25      130237   Marltons Chicken Flavoured Strips Dog Treats ...     NaN   \n",
      "26      135249                    Marltons Dental Bone Small 50g      NaN   \n",
      "27      127141    Marltons Lamb Flavoured Strips Dog Treats 120g      NaN   \n",
      "28      132707                   Mediterranean Avocado Humus190g      NaN   \n",
      "29      134112                    Melrose Sweetmilk Portions 18g      NaN   \n",
      "\n",
      "                                          description  \n",
      "0   Dispose of unwanted rubbish without having to ...  \n",
      "1                                                 NaN  \n",
      "2                                                 NaN  \n",
      "3                                                 NaN  \n",
      "4                                                 NaN  \n",
      "5                                                 NaN  \n",
      "6   Fully cooked;\\nReady in minutes;\\nCooked until...  \n",
      "7                  Pre-cooked marinated in bbq sauce   \n",
      "8                                                 NaN  \n",
      "9                                                 NaN  \n",
      "10                                                NaN  \n",
      "11                       Perfect for stews & curries!  \n",
      "12                           D'Usse VSOP Cognac 750ml  \n",
      "13  \\nDettol Liquid Bathroom Cleaner Ocean Fresh 5...  \n",
      "14                                                NaN  \n",
      "15                                                NaN  \n",
      "16                                                NaN  \n",
      "17                          specially and seleceted\\n  \n",
      "18  Glad Freezer Bags are thick, strong and suitab...  \n",
      "19                                                NaN  \n",
      "20                                                NaN  \n",
      "21                                            Whisky   \n",
      "22                                                NaN  \n",
      "23                                                NaN  \n",
      "24                                                NaN  \n",
      "25                                                NaN  \n",
      "26                                                NaN  \n",
      "27                                                NaN  \n",
      "28                                                NaN  \n",
      "29                                                NaN  \n",
      "    product_id                                       product_name kw_name  \\\n",
      "0       126879                       Addis Flip Top 46L Black Bin     NaN   \n",
      "1       127376                Arnott's Tim Tam Chewy Caramel 200g     NaN   \n",
      "2       128411                       Beeno Flatties Chicken 120g      NaN   \n",
      "3       138386                     Beyers Amarula Chocolate 110g      NaN   \n",
      "4       138490   Bob Martin 2 In 1 Shampoo And Conditioner 400ml      NaN   \n",
      "5       136934      Bob Martin Crystal Cat Litter Lavender 1.8kg      NaN   \n",
      "6       140919             BRM PERI-PERI SPATCHCOCK CHICKEN 1.2KG     NaN   \n",
      "7       122149                        BRM Pork Belly Ribs Bbq 2kg           \n",
      "8       122931                          Buffalo Citric Acid 100g      NaN   \n",
      "9       135665               Carmien Organic Teabags Pouch 100ea      NaN   \n",
      "10      102156       Colgate Plax Mouthwash, Icy Cool Mint, 500ml           \n",
      "11      140932                                Crushed Ginger 130g     NaN   \n",
      "12      141080                           D'Usse VSOP Cognac 750ml     NaN   \n",
      "13      141432   Dettol Liquid Bathroom Cleaner Ocean Fresh 50...     NaN   \n",
      "14      129564        Ferrero Rocher Raffaelli T15 Gift Box 150g      NaN   \n",
      "15      135552              Freshpak Cranberry & Pomegrante 20ea      NaN   \n",
      "16      132786               Freshpak Green Rooibos Tagless 20ea      NaN   \n",
      "17      141000                          Frozen Mixed Berries 1Kg      NaN   \n",
      "18      140252                  Glad Small Zipper Freezer Bags 15     NaN   \n",
      "19      126941                  Huletts Large Freezer Dish 2 Pack     NaN   \n",
      "20      124612          Ina Paarman Bake Mix RedVelvet Cake 580g      NaN   \n",
      "21      141487                   Johnnie Walker Black Label 750ml     NaN   \n",
      "22      137775                             Kwv Cruxland Gin 750ml     NaN   \n",
      "23      101963                  Life from Stone  Sauvignon Blanc            \n",
      "24      122826                             Lopis Cat Litter 10kg      NaN   \n",
      "25      130237   Marltons Chicken Flavoured Strips Dog Treats ...     NaN   \n",
      "26      135249                    Marltons Dental Bone Small 50g      NaN   \n",
      "27      127141    Marltons Lamb Flavoured Strips Dog Treats 120g      NaN   \n",
      "28      132707                   Mediterranean Avocado Humus190g      NaN   \n",
      "29      134112                    Melrose Sweetmilk Portions 18g      NaN   \n",
      "\n",
      "                                          description  \n",
      "0   Dispose of unwanted rubbish without having to ...  \n",
      "1                                                 NaN  \n",
      "2                                                 NaN  \n",
      "3                                                 NaN  \n",
      "4                                                 NaN  \n",
      "5                                                 NaN  \n",
      "6   Fully cooked;\\nReady in minutes;\\nCooked until...  \n",
      "7                  Pre-cooked marinated in bbq sauce   \n",
      "8                                                 NaN  \n",
      "9                                                 NaN  \n",
      "10                                                NaN  \n",
      "11                       Perfect for stews & curries!  \n",
      "12                           D'Usse VSOP Cognac 750ml  \n",
      "13  \\nDettol Liquid Bathroom Cleaner Ocean Fresh 5...  \n",
      "14                                                NaN  \n",
      "15                                                NaN  \n",
      "16                                                NaN  \n",
      "17                          specially and seleceted\\n  \n",
      "18  Glad Freezer Bags are thick, strong and suitab...  \n",
      "19                                                NaN  \n",
      "20                                                NaN  \n",
      "21                                            Whisky   \n",
      "22                                                NaN  \n",
      "23                                                NaN  \n",
      "24                                                NaN  \n",
      "25                                                NaN  \n",
      "26                                                NaN  \n",
      "27                                                NaN  \n",
      "28                                                NaN  \n",
      "29                                                NaN  \n",
      "    product_id                                       product_name kw_name  \\\n",
      "0       126879                       Addis Flip Top 46L Black Bin     NaN   \n",
      "1       127376                Arnott's Tim Tam Chewy Caramel 200g     NaN   \n",
      "2       128411                       Beeno Flatties Chicken 120g      NaN   \n",
      "3       138386                     Beyers Amarula Chocolate 110g      NaN   \n",
      "4       138490   Bob Martin 2 In 1 Shampoo And Conditioner 400ml      NaN   \n",
      "5       136934      Bob Martin Crystal Cat Litter Lavender 1.8kg      NaN   \n",
      "6       140919             BRM PERI-PERI SPATCHCOCK CHICKEN 1.2KG     NaN   \n",
      "7       122149                        BRM Pork Belly Ribs Bbq 2kg           \n",
      "8       122931                          Buffalo Citric Acid 100g      NaN   \n",
      "9       135665               Carmien Organic Teabags Pouch 100ea      NaN   \n",
      "10      102156       Colgate Plax Mouthwash, Icy Cool Mint, 500ml           \n",
      "11      140932                                Crushed Ginger 130g     NaN   \n",
      "12      141080                           D'Usse VSOP Cognac 750ml     NaN   \n",
      "13      141432   Dettol Liquid Bathroom Cleaner Ocean Fresh 50...     NaN   \n",
      "14      129564        Ferrero Rocher Raffaelli T15 Gift Box 150g      NaN   \n",
      "15      135552              Freshpak Cranberry & Pomegrante 20ea      NaN   \n",
      "16      132786               Freshpak Green Rooibos Tagless 20ea      NaN   \n",
      "17      141000                          Frozen Mixed Berries 1Kg      NaN   \n",
      "18      140252                  Glad Small Zipper Freezer Bags 15     NaN   \n",
      "19      126941                  Huletts Large Freezer Dish 2 Pack     NaN   \n",
      "20      124612          Ina Paarman Bake Mix RedVelvet Cake 580g      NaN   \n",
      "21      141487                   Johnnie Walker Black Label 750ml     NaN   \n",
      "22      137775                             Kwv Cruxland Gin 750ml     NaN   \n",
      "23      101963                  Life from Stone  Sauvignon Blanc            \n",
      "24      122826                             Lopis Cat Litter 10kg      NaN   \n",
      "25      130237   Marltons Chicken Flavoured Strips Dog Treats ...     NaN   \n",
      "26      135249                    Marltons Dental Bone Small 50g      NaN   \n",
      "27      127141    Marltons Lamb Flavoured Strips Dog Treats 120g      NaN   \n",
      "28      132707                   Mediterranean Avocado Humus190g      NaN   \n",
      "29      134112                    Melrose Sweetmilk Portions 18g      NaN   \n",
      "\n",
      "                                          description  \n",
      "0   Dispose of unwanted rubbish without having to ...  \n",
      "1                                                 NaN  \n",
      "2                                                 NaN  \n",
      "3                                                 NaN  \n",
      "4                                                 NaN  \n",
      "5                                                 NaN  \n",
      "6   Fully cooked;\\nReady in minutes;\\nCooked until...  \n",
      "7                  Pre-cooked marinated in bbq sauce   \n",
      "8                                                 NaN  \n",
      "9                                                 NaN  \n",
      "10                                                NaN  \n",
      "11                       Perfect for stews & curries!  \n",
      "12                           D'Usse VSOP Cognac 750ml  \n",
      "13  \\nDettol Liquid Bathroom Cleaner Ocean Fresh 5...  \n",
      "14                                                NaN  \n",
      "15                                                NaN  \n",
      "16                                                NaN  \n",
      "17                          specially and seleceted\\n  \n",
      "18  Glad Freezer Bags are thick, strong and suitab...  \n",
      "19                                                NaN  \n",
      "20                                                NaN  \n",
      "21                                            Whisky   \n",
      "22                                                NaN  \n",
      "23                                                NaN  \n",
      "24                                                NaN  \n",
      "25                                                NaN  \n",
      "26                                                NaN  \n",
      "27                                                NaN  \n",
      "28                                                NaN  \n",
      "29                                                NaN  \n",
      "    product_id                                       product_name kw_name  \\\n",
      "0       126879                       Addis Flip Top 46L Black Bin     NaN   \n",
      "1       127376                Arnott's Tim Tam Chewy Caramel 200g     NaN   \n",
      "2       128411                       Beeno Flatties Chicken 120g      NaN   \n",
      "3       138386                     Beyers Amarula Chocolate 110g      NaN   \n",
      "4       138490   Bob Martin 2 In 1 Shampoo And Conditioner 400ml      NaN   \n",
      "5       136934      Bob Martin Crystal Cat Litter Lavender 1.8kg      NaN   \n",
      "6       140919             BRM PERI-PERI SPATCHCOCK CHICKEN 1.2KG     NaN   \n",
      "7       122149                        BRM Pork Belly Ribs Bbq 2kg           \n",
      "8       122931                          Buffalo Citric Acid 100g      NaN   \n",
      "9       135665               Carmien Organic Teabags Pouch 100ea      NaN   \n",
      "10      102156       Colgate Plax Mouthwash, Icy Cool Mint, 500ml           \n",
      "11      140932                                Crushed Ginger 130g     NaN   \n",
      "12      141080                           D'Usse VSOP Cognac 750ml     NaN   \n",
      "13      141432   Dettol Liquid Bathroom Cleaner Ocean Fresh 50...     NaN   \n",
      "14      129564        Ferrero Rocher Raffaelli T15 Gift Box 150g      NaN   \n",
      "15      135552              Freshpak Cranberry & Pomegrante 20ea      NaN   \n",
      "16      132786               Freshpak Green Rooibos Tagless 20ea      NaN   \n",
      "17      141000                          Frozen Mixed Berries 1Kg      NaN   \n",
      "18      140252                  Glad Small Zipper Freezer Bags 15     NaN   \n",
      "19      126941                  Huletts Large Freezer Dish 2 Pack     NaN   \n",
      "20      124612          Ina Paarman Bake Mix RedVelvet Cake 580g      NaN   \n",
      "21      141487                   Johnnie Walker Black Label 750ml     NaN   \n",
      "22      137775                             Kwv Cruxland Gin 750ml     NaN   \n",
      "23      101963                  Life from Stone  Sauvignon Blanc            \n",
      "24      122826                             Lopis Cat Litter 10kg      NaN   \n",
      "25      130237   Marltons Chicken Flavoured Strips Dog Treats ...     NaN   \n",
      "26      135249                    Marltons Dental Bone Small 50g      NaN   \n",
      "27      127141    Marltons Lamb Flavoured Strips Dog Treats 120g      NaN   \n",
      "28      132707                   Mediterranean Avocado Humus190g      NaN   \n",
      "29      134112                    Melrose Sweetmilk Portions 18g      NaN   \n",
      "\n",
      "                                          description  \n",
      "0   Dispose of unwanted rubbish without having to ...  \n",
      "1                                                 NaN  \n",
      "2                                                 NaN  \n",
      "3                                                 NaN  \n",
      "4                                                 NaN  \n",
      "5                                                 NaN  \n",
      "6   Fully cooked;\\nReady in minutes;\\nCooked until...  \n",
      "7                  Pre-cooked marinated in bbq sauce   \n",
      "8                                                 NaN  \n",
      "9                                                 NaN  \n",
      "10                                                NaN  \n",
      "11                       Perfect for stews & curries!  \n",
      "12                           D'Usse VSOP Cognac 750ml  \n",
      "13  \\nDettol Liquid Bathroom Cleaner Ocean Fresh 5...  \n",
      "14                                                NaN  \n",
      "15                                                NaN  \n",
      "16                                                NaN  \n",
      "17                          specially and seleceted\\n  \n",
      "18  Glad Freezer Bags are thick, strong and suitab...  \n",
      "19                                                NaN  \n",
      "20                                                NaN  \n",
      "21                                            Whisky   \n",
      "22                                                NaN  \n",
      "23                                                NaN  \n",
      "24                                                NaN  \n",
      "25                                                NaN  \n",
      "26                                                NaN  \n",
      "27                                                NaN  \n",
      "28                                                NaN  \n",
      "29                                                NaN  \n"
     ]
    }
   ],
   "source": [
    "for column in df.columns:\n",
    "    df['kw_name']=df['kw_name'].str.replace('ToBeRemoved','')\n",
    "    print(df.head(30))"
   ]
  },
  {
   "cell_type": "code",
   "execution_count": 28,
   "metadata": {
    "pycharm": {
     "name": "#%%\n"
    }
   },
   "outputs": [
    {
     "data": {
      "text/html": [
       "<div>\n",
       "<style scoped>\n",
       "    .dataframe tbody tr th:only-of-type {\n",
       "        vertical-align: middle;\n",
       "    }\n",
       "\n",
       "    .dataframe tbody tr th {\n",
       "        vertical-align: top;\n",
       "    }\n",
       "\n",
       "    .dataframe thead th {\n",
       "        text-align: right;\n",
       "    }\n",
       "</style>\n",
       "<table border=\"1\" class=\"dataframe\">\n",
       "  <thead>\n",
       "    <tr style=\"text-align: right;\">\n",
       "      <th></th>\n",
       "      <th>product_id</th>\n",
       "    </tr>\n",
       "  </thead>\n",
       "  <tbody>\n",
       "    <tr>\n",
       "      <th>count</th>\n",
       "      <td>13635.000000</td>\n",
       "    </tr>\n",
       "    <tr>\n",
       "      <th>mean</th>\n",
       "      <td>95703.989512</td>\n",
       "    </tr>\n",
       "    <tr>\n",
       "      <th>std</th>\n",
       "      <td>25107.127496</td>\n",
       "    </tr>\n",
       "    <tr>\n",
       "      <th>min</th>\n",
       "      <td>64278.000000</td>\n",
       "    </tr>\n",
       "    <tr>\n",
       "      <th>25%</th>\n",
       "      <td>67182.500000</td>\n",
       "    </tr>\n",
       "    <tr>\n",
       "      <th>50%</th>\n",
       "      <td>95959.000000</td>\n",
       "    </tr>\n",
       "    <tr>\n",
       "      <th>75%</th>\n",
       "      <td>112656.000000</td>\n",
       "    </tr>\n",
       "    <tr>\n",
       "      <th>max</th>\n",
       "      <td>141727.000000</td>\n",
       "    </tr>\n",
       "  </tbody>\n",
       "</table>\n",
       "</div>"
      ],
      "text/plain": [
       "          product_id\n",
       "count   13635.000000\n",
       "mean    95703.989512\n",
       "std     25107.127496\n",
       "min     64278.000000\n",
       "25%     67182.500000\n",
       "50%     95959.000000\n",
       "75%    112656.000000\n",
       "max    141727.000000"
      ]
     },
     "execution_count": 28,
     "metadata": {},
     "output_type": "execute_result"
    }
   ],
   "source": [
    "df.describe()"
   ]
  },
  {
   "cell_type": "code",
   "execution_count": 29,
   "metadata": {
    "pycharm": {
     "name": "#%%\n"
    }
   },
   "outputs": [],
   "source": [
    "import pandas as pd\n",
    "import numpy as np\n",
    "import matplotlib.pyplot as plt\n",
    "%matplotlib inline\n",
    "\n",
    "from mpl_toolkits.mplot3d import Axes3D\n",
    "import seaborn as sns\n",
    "sns.set_style(\"darkgrid\")\n",
    "\n",
    "import re\n",
    "from nltk.corpus import stopwords\n",
    "from nltk.stem.wordnet import WordNetLemmatizer\n",
    "\n",
    "import gensim\n",
    "from gensim.utils import simple_preprocess\n",
    "from gensim.models import phrases, word2vec, Word2Vec\n",
    "from gensim.models.phrases import Phrases, Phraser\n",
    "\n",
    "from sklearn.decomposition import PCA\n",
    "from sklearn.manifold import TSNE"
   ]
  },
  {
   "cell_type": "code",
   "execution_count": null,
   "metadata": {
    "pycharm": {
     "name": "#%%\n"
    }
   },
   "outputs": [],
   "source": []
  },
  {
   "cell_type": "code",
   "execution_count": 30,
   "metadata": {
    "pycharm": {
     "name": "#%%\n"
    }
   },
   "outputs": [
    {
     "data": {
      "text/html": [
       "<div>\n",
       "<style scoped>\n",
       "    .dataframe tbody tr th:only-of-type {\n",
       "        vertical-align: middle;\n",
       "    }\n",
       "\n",
       "    .dataframe tbody tr th {\n",
       "        vertical-align: top;\n",
       "    }\n",
       "\n",
       "    .dataframe thead th {\n",
       "        text-align: right;\n",
       "    }\n",
       "</style>\n",
       "<table border=\"1\" class=\"dataframe\">\n",
       "  <thead>\n",
       "    <tr style=\"text-align: right;\">\n",
       "      <th></th>\n",
       "      <th>product_id</th>\n",
       "      <th>product_name</th>\n",
       "      <th>kw_name</th>\n",
       "      <th>description</th>\n",
       "    </tr>\n",
       "  </thead>\n",
       "  <tbody>\n",
       "    <tr>\n",
       "      <th>0</th>\n",
       "      <td>126879</td>\n",
       "      <td>Addis Flip Top 46L Black Bin</td>\n",
       "      <td>NaN</td>\n",
       "      <td>Dispose of unwanted rubbish without having to ...</td>\n",
       "    </tr>\n",
       "    <tr>\n",
       "      <th>1</th>\n",
       "      <td>127376</td>\n",
       "      <td>Arnott's Tim Tam Chewy Caramel 200g</td>\n",
       "      <td>NaN</td>\n",
       "      <td>NaN</td>\n",
       "    </tr>\n",
       "    <tr>\n",
       "      <th>2</th>\n",
       "      <td>128411</td>\n",
       "      <td>Beeno Flatties Chicken 120g</td>\n",
       "      <td>NaN</td>\n",
       "      <td>NaN</td>\n",
       "    </tr>\n",
       "    <tr>\n",
       "      <th>3</th>\n",
       "      <td>138386</td>\n",
       "      <td>Beyers Amarula Chocolate 110g</td>\n",
       "      <td>NaN</td>\n",
       "      <td>NaN</td>\n",
       "    </tr>\n",
       "    <tr>\n",
       "      <th>4</th>\n",
       "      <td>138490</td>\n",
       "      <td>Bob Martin 2 In 1 Shampoo And Conditioner 400ml</td>\n",
       "      <td>NaN</td>\n",
       "      <td>NaN</td>\n",
       "    </tr>\n",
       "    <tr>\n",
       "      <th>5</th>\n",
       "      <td>136934</td>\n",
       "      <td>Bob Martin Crystal Cat Litter Lavender 1.8kg</td>\n",
       "      <td>NaN</td>\n",
       "      <td>NaN</td>\n",
       "    </tr>\n",
       "    <tr>\n",
       "      <th>6</th>\n",
       "      <td>140919</td>\n",
       "      <td>BRM PERI-PERI SPATCHCOCK CHICKEN 1.2KG</td>\n",
       "      <td>NaN</td>\n",
       "      <td>Fully cooked;\\nReady in minutes;\\nCooked until...</td>\n",
       "    </tr>\n",
       "    <tr>\n",
       "      <th>7</th>\n",
       "      <td>122149</td>\n",
       "      <td>BRM Pork Belly Ribs Bbq 2kg</td>\n",
       "      <td>ToBeRemoved</td>\n",
       "      <td>Pre-cooked marinated in bbq sauce</td>\n",
       "    </tr>\n",
       "    <tr>\n",
       "      <th>8</th>\n",
       "      <td>122931</td>\n",
       "      <td>Buffalo Citric Acid 100g</td>\n",
       "      <td>NaN</td>\n",
       "      <td>NaN</td>\n",
       "    </tr>\n",
       "    <tr>\n",
       "      <th>9</th>\n",
       "      <td>135665</td>\n",
       "      <td>Carmien Organic Teabags Pouch 100ea</td>\n",
       "      <td>NaN</td>\n",
       "      <td>NaN</td>\n",
       "    </tr>\n",
       "    <tr>\n",
       "      <th>10</th>\n",
       "      <td>102156</td>\n",
       "      <td>Colgate Plax Mouthwash, Icy Cool Mint, 500ml</td>\n",
       "      <td>ToBeRemoved</td>\n",
       "      <td>NaN</td>\n",
       "    </tr>\n",
       "    <tr>\n",
       "      <th>11</th>\n",
       "      <td>140932</td>\n",
       "      <td>Crushed Ginger 130g</td>\n",
       "      <td>NaN</td>\n",
       "      <td>Perfect for stews &amp; curries!</td>\n",
       "    </tr>\n",
       "    <tr>\n",
       "      <th>12</th>\n",
       "      <td>141080</td>\n",
       "      <td>D'Usse VSOP Cognac 750ml</td>\n",
       "      <td>NaN</td>\n",
       "      <td>D'Usse VSOP Cognac 750ml</td>\n",
       "    </tr>\n",
       "    <tr>\n",
       "      <th>13</th>\n",
       "      <td>141432</td>\n",
       "      <td>Dettol Liquid Bathroom Cleaner Ocean Fresh 50...</td>\n",
       "      <td>NaN</td>\n",
       "      <td>\\nDettol Liquid Bathroom Cleaner Ocean Fresh 5...</td>\n",
       "    </tr>\n",
       "    <tr>\n",
       "      <th>14</th>\n",
       "      <td>129564</td>\n",
       "      <td>Ferrero Rocher Raffaelli T15 Gift Box 150g</td>\n",
       "      <td>NaN</td>\n",
       "      <td>NaN</td>\n",
       "    </tr>\n",
       "    <tr>\n",
       "      <th>15</th>\n",
       "      <td>135552</td>\n",
       "      <td>Freshpak Cranberry &amp; Pomegrante 20ea</td>\n",
       "      <td>NaN</td>\n",
       "      <td>NaN</td>\n",
       "    </tr>\n",
       "    <tr>\n",
       "      <th>16</th>\n",
       "      <td>132786</td>\n",
       "      <td>Freshpak Green Rooibos Tagless 20ea</td>\n",
       "      <td>NaN</td>\n",
       "      <td>NaN</td>\n",
       "    </tr>\n",
       "    <tr>\n",
       "      <th>17</th>\n",
       "      <td>141000</td>\n",
       "      <td>Frozen Mixed Berries 1Kg</td>\n",
       "      <td>NaN</td>\n",
       "      <td>specially and seleceted\\n</td>\n",
       "    </tr>\n",
       "    <tr>\n",
       "      <th>18</th>\n",
       "      <td>140252</td>\n",
       "      <td>Glad Small Zipper Freezer Bags 15</td>\n",
       "      <td>NaN</td>\n",
       "      <td>Glad Freezer Bags are thick, strong and suitab...</td>\n",
       "    </tr>\n",
       "    <tr>\n",
       "      <th>19</th>\n",
       "      <td>126941</td>\n",
       "      <td>Huletts Large Freezer Dish 2 Pack</td>\n",
       "      <td>NaN</td>\n",
       "      <td>NaN</td>\n",
       "    </tr>\n",
       "    <tr>\n",
       "      <th>20</th>\n",
       "      <td>124612</td>\n",
       "      <td>Ina Paarman Bake Mix RedVelvet Cake 580g</td>\n",
       "      <td>NaN</td>\n",
       "      <td>NaN</td>\n",
       "    </tr>\n",
       "    <tr>\n",
       "      <th>21</th>\n",
       "      <td>141487</td>\n",
       "      <td>Johnnie Walker Black Label 750ml</td>\n",
       "      <td>NaN</td>\n",
       "      <td>Whisky</td>\n",
       "    </tr>\n",
       "    <tr>\n",
       "      <th>22</th>\n",
       "      <td>137775</td>\n",
       "      <td>Kwv Cruxland Gin 750ml</td>\n",
       "      <td>NaN</td>\n",
       "      <td>NaN</td>\n",
       "    </tr>\n",
       "    <tr>\n",
       "      <th>23</th>\n",
       "      <td>101963</td>\n",
       "      <td>Life from Stone  Sauvignon Blanc</td>\n",
       "      <td>ToBeRemoved</td>\n",
       "      <td>NaN</td>\n",
       "    </tr>\n",
       "    <tr>\n",
       "      <th>24</th>\n",
       "      <td>122826</td>\n",
       "      <td>Lopis Cat Litter 10kg</td>\n",
       "      <td>NaN</td>\n",
       "      <td>NaN</td>\n",
       "    </tr>\n",
       "    <tr>\n",
       "      <th>25</th>\n",
       "      <td>130237</td>\n",
       "      <td>Marltons Chicken Flavoured Strips Dog Treats ...</td>\n",
       "      <td>NaN</td>\n",
       "      <td>NaN</td>\n",
       "    </tr>\n",
       "    <tr>\n",
       "      <th>26</th>\n",
       "      <td>135249</td>\n",
       "      <td>Marltons Dental Bone Small 50g</td>\n",
       "      <td>NaN</td>\n",
       "      <td>NaN</td>\n",
       "    </tr>\n",
       "    <tr>\n",
       "      <th>27</th>\n",
       "      <td>127141</td>\n",
       "      <td>Marltons Lamb Flavoured Strips Dog Treats 120g</td>\n",
       "      <td>NaN</td>\n",
       "      <td>NaN</td>\n",
       "    </tr>\n",
       "    <tr>\n",
       "      <th>28</th>\n",
       "      <td>132707</td>\n",
       "      <td>Mediterranean Avocado Humus190g</td>\n",
       "      <td>NaN</td>\n",
       "      <td>NaN</td>\n",
       "    </tr>\n",
       "    <tr>\n",
       "      <th>29</th>\n",
       "      <td>134112</td>\n",
       "      <td>Melrose Sweetmilk Portions 18g</td>\n",
       "      <td>NaN</td>\n",
       "      <td>NaN</td>\n",
       "    </tr>\n",
       "  </tbody>\n",
       "</table>\n",
       "</div>"
      ],
      "text/plain": [
       "    product_id                                       product_name  \\\n",
       "0       126879                       Addis Flip Top 46L Black Bin   \n",
       "1       127376                Arnott's Tim Tam Chewy Caramel 200g   \n",
       "2       128411                       Beeno Flatties Chicken 120g    \n",
       "3       138386                     Beyers Amarula Chocolate 110g    \n",
       "4       138490   Bob Martin 2 In 1 Shampoo And Conditioner 400ml    \n",
       "5       136934      Bob Martin Crystal Cat Litter Lavender 1.8kg    \n",
       "6       140919             BRM PERI-PERI SPATCHCOCK CHICKEN 1.2KG   \n",
       "7       122149                        BRM Pork Belly Ribs Bbq 2kg   \n",
       "8       122931                          Buffalo Citric Acid 100g    \n",
       "9       135665               Carmien Organic Teabags Pouch 100ea    \n",
       "10      102156       Colgate Plax Mouthwash, Icy Cool Mint, 500ml   \n",
       "11      140932                                Crushed Ginger 130g   \n",
       "12      141080                           D'Usse VSOP Cognac 750ml   \n",
       "13      141432   Dettol Liquid Bathroom Cleaner Ocean Fresh 50...   \n",
       "14      129564        Ferrero Rocher Raffaelli T15 Gift Box 150g    \n",
       "15      135552              Freshpak Cranberry & Pomegrante 20ea    \n",
       "16      132786               Freshpak Green Rooibos Tagless 20ea    \n",
       "17      141000                          Frozen Mixed Berries 1Kg    \n",
       "18      140252                  Glad Small Zipper Freezer Bags 15   \n",
       "19      126941                  Huletts Large Freezer Dish 2 Pack   \n",
       "20      124612          Ina Paarman Bake Mix RedVelvet Cake 580g    \n",
       "21      141487                   Johnnie Walker Black Label 750ml   \n",
       "22      137775                             Kwv Cruxland Gin 750ml   \n",
       "23      101963                  Life from Stone  Sauvignon Blanc    \n",
       "24      122826                             Lopis Cat Litter 10kg    \n",
       "25      130237   Marltons Chicken Flavoured Strips Dog Treats ...   \n",
       "26      135249                    Marltons Dental Bone Small 50g    \n",
       "27      127141    Marltons Lamb Flavoured Strips Dog Treats 120g    \n",
       "28      132707                   Mediterranean Avocado Humus190g    \n",
       "29      134112                    Melrose Sweetmilk Portions 18g    \n",
       "\n",
       "        kw_name                                        description  \n",
       "0           NaN  Dispose of unwanted rubbish without having to ...  \n",
       "1           NaN                                                NaN  \n",
       "2           NaN                                                NaN  \n",
       "3           NaN                                                NaN  \n",
       "4           NaN                                                NaN  \n",
       "5           NaN                                                NaN  \n",
       "6           NaN  Fully cooked;\\nReady in minutes;\\nCooked until...  \n",
       "7   ToBeRemoved                 Pre-cooked marinated in bbq sauce   \n",
       "8           NaN                                                NaN  \n",
       "9           NaN                                                NaN  \n",
       "10  ToBeRemoved                                                NaN  \n",
       "11          NaN                       Perfect for stews & curries!  \n",
       "12          NaN                           D'Usse VSOP Cognac 750ml  \n",
       "13          NaN  \\nDettol Liquid Bathroom Cleaner Ocean Fresh 5...  \n",
       "14          NaN                                                NaN  \n",
       "15          NaN                                                NaN  \n",
       "16          NaN                                                NaN  \n",
       "17          NaN                          specially and seleceted\\n  \n",
       "18          NaN  Glad Freezer Bags are thick, strong and suitab...  \n",
       "19          NaN                                                NaN  \n",
       "20          NaN                                                NaN  \n",
       "21          NaN                                            Whisky   \n",
       "22          NaN                                                NaN  \n",
       "23  ToBeRemoved                                                NaN  \n",
       "24          NaN                                                NaN  \n",
       "25          NaN                                                NaN  \n",
       "26          NaN                                                NaN  \n",
       "27          NaN                                                NaN  \n",
       "28          NaN                                                NaN  \n",
       "29          NaN                                                NaN  "
      ]
     },
     "execution_count": 30,
     "metadata": {},
     "output_type": "execute_result"
    }
   ],
   "source": [
    "df = pd.read_csv(\"/home/tendai/autotagger.tsv\",sep='\\t')\n",
    "df.head(30)"
   ]
  },
  {
   "cell_type": "code",
   "execution_count": 31,
   "metadata": {
    "pycharm": {
     "name": "#%%\n"
    }
   },
   "outputs": [
    {
     "name": "stdout",
     "output_type": "stream",
     "text": [
      "<class 'pandas.core.frame.DataFrame'>\n",
      "RangeIndex: 13635 entries, 0 to 13634\n",
      "Data columns (total 4 columns):\n",
      " #   Column        Non-Null Count  Dtype \n",
      "---  ------        --------------  ----- \n",
      " 0   product_id    13635 non-null  int64 \n",
      " 1   product_name  13635 non-null  object\n",
      " 2   kw_name       5444 non-null   object\n",
      " 3   description   1868 non-null   object\n",
      "dtypes: int64(1), object(3)\n",
      "memory usage: 426.2+ KB\n"
     ]
    }
   ],
   "source": [
    "df.info()"
   ]
  },
  {
   "cell_type": "code",
   "execution_count": null,
   "metadata": {
    "pycharm": {
     "name": "#%%\n"
    }
   },
   "outputs": [],
   "source": []
  },
  {
   "cell_type": "code",
   "execution_count": 32,
   "metadata": {
    "pycharm": {
     "name": "#%%\n"
    }
   },
   "outputs": [
    {
     "data": {
      "text/html": [
       "<div>\n",
       "<style scoped>\n",
       "    .dataframe tbody tr th:only-of-type {\n",
       "        vertical-align: middle;\n",
       "    }\n",
       "\n",
       "    .dataframe tbody tr th {\n",
       "        vertical-align: top;\n",
       "    }\n",
       "\n",
       "    .dataframe thead th {\n",
       "        text-align: right;\n",
       "    }\n",
       "</style>\n",
       "<table border=\"1\" class=\"dataframe\">\n",
       "  <thead>\n",
       "    <tr style=\"text-align: right;\">\n",
       "      <th></th>\n",
       "      <th>product_id</th>\n",
       "      <th>product_name</th>\n",
       "      <th>kw_name</th>\n",
       "      <th>description</th>\n",
       "    </tr>\n",
       "  </thead>\n",
       "  <tbody>\n",
       "    <tr>\n",
       "      <th>0</th>\n",
       "      <td>126879</td>\n",
       "      <td>Addis Flip Top 46L Black Bin</td>\n",
       "      <td>NaN</td>\n",
       "      <td>Dispose of unwanted rubbish without having to ...</td>\n",
       "    </tr>\n",
       "    <tr>\n",
       "      <th>1</th>\n",
       "      <td>127376</td>\n",
       "      <td>Arnott's Tim Tam Chewy Caramel 200g</td>\n",
       "      <td>NaN</td>\n",
       "      <td>NaN</td>\n",
       "    </tr>\n",
       "    <tr>\n",
       "      <th>2</th>\n",
       "      <td>128411</td>\n",
       "      <td>Beeno Flatties Chicken 120g</td>\n",
       "      <td>NaN</td>\n",
       "      <td>NaN</td>\n",
       "    </tr>\n",
       "    <tr>\n",
       "      <th>3</th>\n",
       "      <td>138386</td>\n",
       "      <td>Beyers Amarula Chocolate 110g</td>\n",
       "      <td>NaN</td>\n",
       "      <td>NaN</td>\n",
       "    </tr>\n",
       "    <tr>\n",
       "      <th>4</th>\n",
       "      <td>138490</td>\n",
       "      <td>Bob Martin 2 In 1 Shampoo And Conditioner 400ml</td>\n",
       "      <td>NaN</td>\n",
       "      <td>NaN</td>\n",
       "    </tr>\n",
       "    <tr>\n",
       "      <th>5</th>\n",
       "      <td>136934</td>\n",
       "      <td>Bob Martin Crystal Cat Litter Lavender 1.8kg</td>\n",
       "      <td>NaN</td>\n",
       "      <td>NaN</td>\n",
       "    </tr>\n",
       "    <tr>\n",
       "      <th>6</th>\n",
       "      <td>140919</td>\n",
       "      <td>BRM PERI-PERI SPATCHCOCK CHICKEN 1.2KG</td>\n",
       "      <td>NaN</td>\n",
       "      <td>Fully cooked;\\nReady in minutes;\\nCooked until...</td>\n",
       "    </tr>\n",
       "    <tr>\n",
       "      <th>8</th>\n",
       "      <td>122931</td>\n",
       "      <td>Buffalo Citric Acid 100g</td>\n",
       "      <td>NaN</td>\n",
       "      <td>NaN</td>\n",
       "    </tr>\n",
       "    <tr>\n",
       "      <th>9</th>\n",
       "      <td>135665</td>\n",
       "      <td>Carmien Organic Teabags Pouch 100ea</td>\n",
       "      <td>NaN</td>\n",
       "      <td>NaN</td>\n",
       "    </tr>\n",
       "    <tr>\n",
       "      <th>11</th>\n",
       "      <td>140932</td>\n",
       "      <td>Crushed Ginger 130g</td>\n",
       "      <td>NaN</td>\n",
       "      <td>Perfect for stews &amp; curries!</td>\n",
       "    </tr>\n",
       "    <tr>\n",
       "      <th>12</th>\n",
       "      <td>141080</td>\n",
       "      <td>D'Usse VSOP Cognac 750ml</td>\n",
       "      <td>NaN</td>\n",
       "      <td>D'Usse VSOP Cognac 750ml</td>\n",
       "    </tr>\n",
       "    <tr>\n",
       "      <th>13</th>\n",
       "      <td>141432</td>\n",
       "      <td>Dettol Liquid Bathroom Cleaner Ocean Fresh 50...</td>\n",
       "      <td>NaN</td>\n",
       "      <td>\\nDettol Liquid Bathroom Cleaner Ocean Fresh 5...</td>\n",
       "    </tr>\n",
       "    <tr>\n",
       "      <th>14</th>\n",
       "      <td>129564</td>\n",
       "      <td>Ferrero Rocher Raffaelli T15 Gift Box 150g</td>\n",
       "      <td>NaN</td>\n",
       "      <td>NaN</td>\n",
       "    </tr>\n",
       "    <tr>\n",
       "      <th>15</th>\n",
       "      <td>135552</td>\n",
       "      <td>Freshpak Cranberry &amp; Pomegrante 20ea</td>\n",
       "      <td>NaN</td>\n",
       "      <td>NaN</td>\n",
       "    </tr>\n",
       "    <tr>\n",
       "      <th>16</th>\n",
       "      <td>132786</td>\n",
       "      <td>Freshpak Green Rooibos Tagless 20ea</td>\n",
       "      <td>NaN</td>\n",
       "      <td>NaN</td>\n",
       "    </tr>\n",
       "    <tr>\n",
       "      <th>17</th>\n",
       "      <td>141000</td>\n",
       "      <td>Frozen Mixed Berries 1Kg</td>\n",
       "      <td>NaN</td>\n",
       "      <td>specially and seleceted\\n</td>\n",
       "    </tr>\n",
       "    <tr>\n",
       "      <th>18</th>\n",
       "      <td>140252</td>\n",
       "      <td>Glad Small Zipper Freezer Bags 15</td>\n",
       "      <td>NaN</td>\n",
       "      <td>Glad Freezer Bags are thick, strong and suitab...</td>\n",
       "    </tr>\n",
       "    <tr>\n",
       "      <th>19</th>\n",
       "      <td>126941</td>\n",
       "      <td>Huletts Large Freezer Dish 2 Pack</td>\n",
       "      <td>NaN</td>\n",
       "      <td>NaN</td>\n",
       "    </tr>\n",
       "    <tr>\n",
       "      <th>20</th>\n",
       "      <td>124612</td>\n",
       "      <td>Ina Paarman Bake Mix RedVelvet Cake 580g</td>\n",
       "      <td>NaN</td>\n",
       "      <td>NaN</td>\n",
       "    </tr>\n",
       "    <tr>\n",
       "      <th>21</th>\n",
       "      <td>141487</td>\n",
       "      <td>Johnnie Walker Black Label 750ml</td>\n",
       "      <td>NaN</td>\n",
       "      <td>Whisky</td>\n",
       "    </tr>\n",
       "    <tr>\n",
       "      <th>22</th>\n",
       "      <td>137775</td>\n",
       "      <td>Kwv Cruxland Gin 750ml</td>\n",
       "      <td>NaN</td>\n",
       "      <td>NaN</td>\n",
       "    </tr>\n",
       "    <tr>\n",
       "      <th>24</th>\n",
       "      <td>122826</td>\n",
       "      <td>Lopis Cat Litter 10kg</td>\n",
       "      <td>NaN</td>\n",
       "      <td>NaN</td>\n",
       "    </tr>\n",
       "    <tr>\n",
       "      <th>25</th>\n",
       "      <td>130237</td>\n",
       "      <td>Marltons Chicken Flavoured Strips Dog Treats ...</td>\n",
       "      <td>NaN</td>\n",
       "      <td>NaN</td>\n",
       "    </tr>\n",
       "    <tr>\n",
       "      <th>26</th>\n",
       "      <td>135249</td>\n",
       "      <td>Marltons Dental Bone Small 50g</td>\n",
       "      <td>NaN</td>\n",
       "      <td>NaN</td>\n",
       "    </tr>\n",
       "    <tr>\n",
       "      <th>27</th>\n",
       "      <td>127141</td>\n",
       "      <td>Marltons Lamb Flavoured Strips Dog Treats 120g</td>\n",
       "      <td>NaN</td>\n",
       "      <td>NaN</td>\n",
       "    </tr>\n",
       "    <tr>\n",
       "      <th>28</th>\n",
       "      <td>132707</td>\n",
       "      <td>Mediterranean Avocado Humus190g</td>\n",
       "      <td>NaN</td>\n",
       "      <td>NaN</td>\n",
       "    </tr>\n",
       "    <tr>\n",
       "      <th>29</th>\n",
       "      <td>134112</td>\n",
       "      <td>Melrose Sweetmilk Portions 18g</td>\n",
       "      <td>NaN</td>\n",
       "      <td>NaN</td>\n",
       "    </tr>\n",
       "    <tr>\n",
       "      <th>30</th>\n",
       "      <td>104641</td>\n",
       "      <td>Moet &amp; Chandon Brut Imperial 750ml</td>\n",
       "      <td>NaN</td>\n",
       "      <td>NaN</td>\n",
       "    </tr>\n",
       "    <tr>\n",
       "      <th>31</th>\n",
       "      <td>140985</td>\n",
       "      <td>Oranges 4pk</td>\n",
       "      <td>NaN</td>\n",
       "      <td>specially and selected</td>\n",
       "    </tr>\n",
       "    <tr>\n",
       "      <th>32</th>\n",
       "      <td>140976</td>\n",
       "      <td>Qualifresh Crushed Garlic 125g</td>\n",
       "      <td>NaN</td>\n",
       "      <td>Specially and selected</td>\n",
       "    </tr>\n",
       "  </tbody>\n",
       "</table>\n",
       "</div>"
      ],
      "text/plain": [
       "    product_id                                       product_name kw_name  \\\n",
       "0       126879                       Addis Flip Top 46L Black Bin     NaN   \n",
       "1       127376                Arnott's Tim Tam Chewy Caramel 200g     NaN   \n",
       "2       128411                       Beeno Flatties Chicken 120g      NaN   \n",
       "3       138386                     Beyers Amarula Chocolate 110g      NaN   \n",
       "4       138490   Bob Martin 2 In 1 Shampoo And Conditioner 400ml      NaN   \n",
       "5       136934      Bob Martin Crystal Cat Litter Lavender 1.8kg      NaN   \n",
       "6       140919             BRM PERI-PERI SPATCHCOCK CHICKEN 1.2KG     NaN   \n",
       "8       122931                          Buffalo Citric Acid 100g      NaN   \n",
       "9       135665               Carmien Organic Teabags Pouch 100ea      NaN   \n",
       "11      140932                                Crushed Ginger 130g     NaN   \n",
       "12      141080                           D'Usse VSOP Cognac 750ml     NaN   \n",
       "13      141432   Dettol Liquid Bathroom Cleaner Ocean Fresh 50...     NaN   \n",
       "14      129564        Ferrero Rocher Raffaelli T15 Gift Box 150g      NaN   \n",
       "15      135552              Freshpak Cranberry & Pomegrante 20ea      NaN   \n",
       "16      132786               Freshpak Green Rooibos Tagless 20ea      NaN   \n",
       "17      141000                          Frozen Mixed Berries 1Kg      NaN   \n",
       "18      140252                  Glad Small Zipper Freezer Bags 15     NaN   \n",
       "19      126941                  Huletts Large Freezer Dish 2 Pack     NaN   \n",
       "20      124612          Ina Paarman Bake Mix RedVelvet Cake 580g      NaN   \n",
       "21      141487                   Johnnie Walker Black Label 750ml     NaN   \n",
       "22      137775                             Kwv Cruxland Gin 750ml     NaN   \n",
       "24      122826                             Lopis Cat Litter 10kg      NaN   \n",
       "25      130237   Marltons Chicken Flavoured Strips Dog Treats ...     NaN   \n",
       "26      135249                    Marltons Dental Bone Small 50g      NaN   \n",
       "27      127141    Marltons Lamb Flavoured Strips Dog Treats 120g      NaN   \n",
       "28      132707                   Mediterranean Avocado Humus190g      NaN   \n",
       "29      134112                    Melrose Sweetmilk Portions 18g      NaN   \n",
       "30      104641                 Moet & Chandon Brut Imperial 750ml     NaN   \n",
       "31      140985                                        Oranges 4pk     NaN   \n",
       "32      140976                    Qualifresh Crushed Garlic 125g      NaN   \n",
       "\n",
       "                                          description  \n",
       "0   Dispose of unwanted rubbish without having to ...  \n",
       "1                                                 NaN  \n",
       "2                                                 NaN  \n",
       "3                                                 NaN  \n",
       "4                                                 NaN  \n",
       "5                                                 NaN  \n",
       "6   Fully cooked;\\nReady in minutes;\\nCooked until...  \n",
       "8                                                 NaN  \n",
       "9                                                 NaN  \n",
       "11                       Perfect for stews & curries!  \n",
       "12                           D'Usse VSOP Cognac 750ml  \n",
       "13  \\nDettol Liquid Bathroom Cleaner Ocean Fresh 5...  \n",
       "14                                                NaN  \n",
       "15                                                NaN  \n",
       "16                                                NaN  \n",
       "17                          specially and seleceted\\n  \n",
       "18  Glad Freezer Bags are thick, strong and suitab...  \n",
       "19                                                NaN  \n",
       "20                                                NaN  \n",
       "21                                            Whisky   \n",
       "22                                                NaN  \n",
       "24                                                NaN  \n",
       "25                                                NaN  \n",
       "26                                                NaN  \n",
       "27                                                NaN  \n",
       "28                                                NaN  \n",
       "29                                                NaN  \n",
       "30                                                NaN  \n",
       "31                             specially and selected  \n",
       "32                             Specially and selected  "
      ]
     },
     "execution_count": 32,
     "metadata": {},
     "output_type": "execute_result"
    }
   ],
   "source": [
    "df = df.drop(df[df.kw_name.str.contains(r'ToBeRemoved')\n",
    "              | df.product_name.str.contains(r'ToBeRemoved')].index)\n",
    "#\n",
    "df.head(30)"
   ]
  },
  {
   "cell_type": "code",
   "execution_count": 33,
   "metadata": {
    "pycharm": {
     "name": "#%%\n"
    }
   },
   "outputs": [
    {
     "data": {
      "text/html": [
       "<div>\n",
       "<style scoped>\n",
       "    .dataframe tbody tr th:only-of-type {\n",
       "        vertical-align: middle;\n",
       "    }\n",
       "\n",
       "    .dataframe tbody tr th {\n",
       "        vertical-align: top;\n",
       "    }\n",
       "\n",
       "    .dataframe thead th {\n",
       "        text-align: right;\n",
       "    }\n",
       "</style>\n",
       "<table border=\"1\" class=\"dataframe\">\n",
       "  <thead>\n",
       "    <tr style=\"text-align: right;\">\n",
       "      <th></th>\n",
       "      <th>product_id</th>\n",
       "      <th>product_name</th>\n",
       "      <th>kw_name</th>\n",
       "      <th>description</th>\n",
       "    </tr>\n",
       "  </thead>\n",
       "  <tbody>\n",
       "    <tr>\n",
       "      <th>0</th>\n",
       "      <td>126879</td>\n",
       "      <td>Addis Flip Top 46L Black Bin</td>\n",
       "      <td></td>\n",
       "      <td>Dispose of unwanted rubbish without having to ...</td>\n",
       "    </tr>\n",
       "    <tr>\n",
       "      <th>1</th>\n",
       "      <td>127376</td>\n",
       "      <td>Arnott's Tim Tam Chewy Caramel 200g</td>\n",
       "      <td></td>\n",
       "      <td></td>\n",
       "    </tr>\n",
       "    <tr>\n",
       "      <th>2</th>\n",
       "      <td>128411</td>\n",
       "      <td>Beeno Flatties Chicken 120g</td>\n",
       "      <td></td>\n",
       "      <td></td>\n",
       "    </tr>\n",
       "    <tr>\n",
       "      <th>3</th>\n",
       "      <td>138386</td>\n",
       "      <td>Beyers Amarula Chocolate 110g</td>\n",
       "      <td></td>\n",
       "      <td></td>\n",
       "    </tr>\n",
       "    <tr>\n",
       "      <th>4</th>\n",
       "      <td>138490</td>\n",
       "      <td>Bob Martin 2 In 1 Shampoo And Conditioner 400ml</td>\n",
       "      <td></td>\n",
       "      <td></td>\n",
       "    </tr>\n",
       "    <tr>\n",
       "      <th>...</th>\n",
       "      <td>...</td>\n",
       "      <td>...</td>\n",
       "      <td>...</td>\n",
       "      <td>...</td>\n",
       "    </tr>\n",
       "    <tr>\n",
       "      <th>108</th>\n",
       "      <td>66228</td>\n",
       "      <td>2 Moroccan Rib Eye Pork Steaks Avg 300g</td>\n",
       "      <td></td>\n",
       "      <td></td>\n",
       "    </tr>\n",
       "    <tr>\n",
       "      <th>109</th>\n",
       "      <td>67742</td>\n",
       "      <td>2 Ply Plain Serviettes 50pk</td>\n",
       "      <td></td>\n",
       "      <td></td>\n",
       "    </tr>\n",
       "    <tr>\n",
       "      <th>110</th>\n",
       "      <td>140946</td>\n",
       "      <td>2KG – BEEF RIBS</td>\n",
       "      <td></td>\n",
       "      <td>Fully cooked | Ready in minutes Cooked until t...</td>\n",
       "    </tr>\n",
       "    <tr>\n",
       "      <th>111</th>\n",
       "      <td>140947</td>\n",
       "      <td>2KG – PORK LOIN RIBS</td>\n",
       "      <td></td>\n",
       "      <td>Fully cooked | Ready in minutes\\nCooked until ...</td>\n",
       "    </tr>\n",
       "    <tr>\n",
       "      <th>113</th>\n",
       "      <td>141402</td>\n",
       "      <td>3 Beans Salad 500 Punnet</td>\n",
       "      <td></td>\n",
       "      <td>A salad is a dish consisting of mixed pieces o...</td>\n",
       "    </tr>\n",
       "  </tbody>\n",
       "</table>\n",
       "<p>100 rows × 4 columns</p>\n",
       "</div>"
      ],
      "text/plain": [
       "     product_id                                       product_name kw_name  \\\n",
       "0        126879                       Addis Flip Top 46L Black Bin           \n",
       "1        127376                Arnott's Tim Tam Chewy Caramel 200g           \n",
       "2        128411                       Beeno Flatties Chicken 120g            \n",
       "3        138386                     Beyers Amarula Chocolate 110g            \n",
       "4        138490   Bob Martin 2 In 1 Shampoo And Conditioner 400ml            \n",
       "..          ...                                                ...     ...   \n",
       "108       66228            2 Moroccan Rib Eye Pork Steaks Avg 300g           \n",
       "109       67742                        2 Ply Plain Serviettes 50pk           \n",
       "110      140946                                    2KG – BEEF RIBS           \n",
       "111      140947                               2KG – PORK LOIN RIBS           \n",
       "113      141402                           3 Beans Salad 500 Punnet           \n",
       "\n",
       "                                           description  \n",
       "0    Dispose of unwanted rubbish without having to ...  \n",
       "1                                                       \n",
       "2                                                       \n",
       "3                                                       \n",
       "4                                                       \n",
       "..                                                 ...  \n",
       "108                                                     \n",
       "109                                                     \n",
       "110  Fully cooked | Ready in minutes Cooked until t...  \n",
       "111  Fully cooked | Ready in minutes\\nCooked until ...  \n",
       "113  A salad is a dish consisting of mixed pieces o...  \n",
       "\n",
       "[100 rows x 4 columns]"
      ]
     },
     "execution_count": 33,
     "metadata": {},
     "output_type": "execute_result"
    }
   ],
   "source": [
    "def clean_up(words:str):\n",
    "    if isinstance(words,str):\n",
    "        clean_words = words.replace('nan','')\n",
    "    else:\n",
    "        clean_words = ''\n",
    "\n",
    "\n",
    "    return clean_words\n",
    "\n",
    "df.kw_name = df.kw_name.apply(clean_up)\n",
    "df.description = df.description.apply(clean_up)\n",
    "\n",
    "\n",
    "df.head(100)\n"
   ]
  },
  {
   "cell_type": "code",
   "execution_count": 13,
   "metadata": {
    "pycharm": {
     "name": "#%%\n"
    }
   },
   "outputs": [
    {
     "name": "stdout",
     "output_type": "stream",
     "text": [
      "<class 'pandas.core.frame.DataFrame'>\n",
      "Int64Index: 11410 entries, 0 to 13634\n",
      "Data columns (total 4 columns):\n",
      " #   Column        Non-Null Count  Dtype \n",
      "---  ------        --------------  ----- \n",
      " 0   product_id    11410 non-null  int64 \n",
      " 1   product_name  11410 non-null  object\n",
      " 2   kw_name       11410 non-null  object\n",
      " 3   description   11410 non-null  object\n",
      "dtypes: int64(1), object(3)\n",
      "memory usage: 445.7+ KB\n"
     ]
    }
   ],
   "source": [
    "df.info()\n"
   ]
  },
  {
   "cell_type": "code",
   "execution_count": 15,
   "metadata": {
    "pycharm": {
     "name": "#%%\n"
    }
   },
   "outputs": [
    {
     "data": {
      "text/html": [
       "<div>\n",
       "<style scoped>\n",
       "    .dataframe tbody tr th:only-of-type {\n",
       "        vertical-align: middle;\n",
       "    }\n",
       "\n",
       "    .dataframe tbody tr th {\n",
       "        vertical-align: top;\n",
       "    }\n",
       "\n",
       "    .dataframe thead th {\n",
       "        text-align: right;\n",
       "    }\n",
       "</style>\n",
       "<table border=\"1\" class=\"dataframe\">\n",
       "  <thead>\n",
       "    <tr style=\"text-align: right;\">\n",
       "      <th></th>\n",
       "      <th>product_name</th>\n",
       "      <th>kw_name</th>\n",
       "      <th>description</th>\n",
       "    </tr>\n",
       "  </thead>\n",
       "  <tbody>\n",
       "    <tr>\n",
       "      <th>0</th>\n",
       "      <td>Addis Flip Top 46L Black Bin</td>\n",
       "      <td></td>\n",
       "      <td>Dispose of unwanted rubbish without having to ...</td>\n",
       "    </tr>\n",
       "    <tr>\n",
       "      <th>1</th>\n",
       "      <td>Arnott's Tim Tam Chewy Caramel 200g</td>\n",
       "      <td></td>\n",
       "      <td></td>\n",
       "    </tr>\n",
       "    <tr>\n",
       "      <th>2</th>\n",
       "      <td>Beeno Flatties Chicken 120g</td>\n",
       "      <td></td>\n",
       "      <td></td>\n",
       "    </tr>\n",
       "    <tr>\n",
       "      <th>3</th>\n",
       "      <td>Beyers Amarula Chocolate 110g</td>\n",
       "      <td></td>\n",
       "      <td></td>\n",
       "    </tr>\n",
       "    <tr>\n",
       "      <th>4</th>\n",
       "      <td>Bob Martin 2 In 1 Shampoo And Conditioner 400ml</td>\n",
       "      <td></td>\n",
       "      <td></td>\n",
       "    </tr>\n",
       "  </tbody>\n",
       "</table>\n",
       "</div>"
      ],
      "text/plain": [
       "                                        product_name kw_name  \\\n",
       "0                       Addis Flip Top 46L Black Bin           \n",
       "1                Arnott's Tim Tam Chewy Caramel 200g           \n",
       "2                       Beeno Flatties Chicken 120g            \n",
       "3                     Beyers Amarula Chocolate 110g            \n",
       "4   Bob Martin 2 In 1 Shampoo And Conditioner 400ml            \n",
       "\n",
       "                                         description  \n",
       "0  Dispose of unwanted rubbish without having to ...  \n",
       "1                                                     \n",
       "2                                                     \n",
       "3                                                     \n",
       "4                                                     "
      ]
     },
     "execution_count": 15,
     "metadata": {},
     "output_type": "execute_result"
    }
   ],
   "source": [
    "text = df.drop(['product_id'], axis=1)\n",
    "text.head()"
   ]
  },
  {
   "cell_type": "code",
   "execution_count": 16,
   "metadata": {
    "pycharm": {
     "name": "#%%\n"
    }
   },
   "outputs": [],
   "source": [
    "text['product_name'] = text['product_name'].astype(str)\n",
    "text['kw_name'] = text['kw_name'].astype(str)\n",
    "text['description'] = text['description'].astype(str)\n"
   ]
  },
  {
   "cell_type": "code",
   "execution_count": 16,
   "metadata": {
    "pycharm": {
     "name": "#%%\n"
    }
   },
   "outputs": [
    {
     "data": {
      "text/plain": [
       "product_name    0\n",
       "kw_name         0\n",
       "description     0\n",
       "dtype: int64"
      ]
     },
     "execution_count": 16,
     "metadata": {},
     "output_type": "execute_result"
    }
   ],
   "source": [
    "text.isnull().sum()\n",
    "\n"
   ]
  },
  {
   "cell_type": "markdown",
   "metadata": {},
   "source": [
    "Text preprocessing\n",
    "We are removing non-alphabetic characters, the stopwords and lemmatizing for each line of text."
   ]
  },
  {
   "cell_type": "code",
   "execution_count": 17,
   "metadata": {
    "pycharm": {
     "name": "#%%\n"
    }
   },
   "outputs": [],
   "source": [
    "def tokens(words):\n",
    "    words = re.sub(\"[^a-zA-Z]\",\" \",words)\n",
    "    text = words.lower().split()\n",
    "    return \" \".join(text)"
   ]
  },
  {
   "cell_type": "code",
   "execution_count": 18,
   "metadata": {
    "pycharm": {
     "name": "#%%\n"
    }
   },
   "outputs": [
    {
     "data": {
      "text/html": [
       "<div>\n",
       "<style scoped>\n",
       "    .dataframe tbody tr th:only-of-type {\n",
       "        vertical-align: middle;\n",
       "    }\n",
       "\n",
       "    .dataframe tbody tr th {\n",
       "        vertical-align: top;\n",
       "    }\n",
       "\n",
       "    .dataframe thead th {\n",
       "        text-align: right;\n",
       "    }\n",
       "</style>\n",
       "<table border=\"1\" class=\"dataframe\">\n",
       "  <thead>\n",
       "    <tr style=\"text-align: right;\">\n",
       "      <th></th>\n",
       "      <th>product_name</th>\n",
       "      <th>kw_name</th>\n",
       "      <th>description</th>\n",
       "    </tr>\n",
       "  </thead>\n",
       "  <tbody>\n",
       "    <tr>\n",
       "      <th>0</th>\n",
       "      <td>addis flip top l black bin</td>\n",
       "      <td></td>\n",
       "      <td>dispose of unwanted rubbish without having to ...</td>\n",
       "    </tr>\n",
       "    <tr>\n",
       "      <th>1</th>\n",
       "      <td>arnott s tim tam chewy caramel g</td>\n",
       "      <td></td>\n",
       "      <td></td>\n",
       "    </tr>\n",
       "    <tr>\n",
       "      <th>2</th>\n",
       "      <td>beeno flatties chicken g</td>\n",
       "      <td></td>\n",
       "      <td></td>\n",
       "    </tr>\n",
       "    <tr>\n",
       "      <th>3</th>\n",
       "      <td>beyers amarula chocolate g</td>\n",
       "      <td></td>\n",
       "      <td></td>\n",
       "    </tr>\n",
       "    <tr>\n",
       "      <th>4</th>\n",
       "      <td>bob martin in shampoo and conditioner ml</td>\n",
       "      <td></td>\n",
       "      <td></td>\n",
       "    </tr>\n",
       "  </tbody>\n",
       "</table>\n",
       "</div>"
      ],
      "text/plain": [
       "                               product_name kw_name  \\\n",
       "0                addis flip top l black bin           \n",
       "1          arnott s tim tam chewy caramel g           \n",
       "2                  beeno flatties chicken g           \n",
       "3                beyers amarula chocolate g           \n",
       "4  bob martin in shampoo and conditioner ml           \n",
       "\n",
       "                                         description  \n",
       "0  dispose of unwanted rubbish without having to ...  \n",
       "1                                                     \n",
       "2                                                     \n",
       "3                                                     \n",
       "4                                                     "
      ]
     },
     "execution_count": 18,
     "metadata": {},
     "output_type": "execute_result"
    }
   ],
   "source": [
    "text['product_name'] = text['product_name'].apply(tokens)\n",
    "text['kw_name'] = text['kw_name'].apply(tokens)\n",
    "text['description'] = text['description'].apply(tokens)\n",
    "text.head()"
   ]
  },
  {
   "cell_type": "markdown",
   "metadata": {},
   "source": [
    "StopWords\n",
    "We extracting the stopwords from nltk library, then we build function to remove stop words:\n"
   ]
  },
  {
   "cell_type": "code",
   "execution_count": 19,
   "metadata": {
    "pycharm": {
     "name": "#%%\n"
    }
   },
   "outputs": [
    {
     "data": {
      "text/plain": [
       "['i', 'me', 'my', 'myself', 'we', 'our', 'ours', 'ourselves', 'you', \"you're\"]"
      ]
     },
     "execution_count": 19,
     "metadata": {},
     "output_type": "execute_result"
    }
   ],
   "source": [
    "stop = stopwords.words('english')\n",
    "stop[0:10]"
   ]
  },
  {
   "cell_type": "code",
   "execution_count": 20,
   "metadata": {
    "pycharm": {
     "name": "#%%\n"
    }
   },
   "outputs": [],
   "source": [
    "def stopwords(text):\n",
    "    text = [word.lower() for word in text.split() if word.lower() not in stop]\n",
    "    return \" \".join(text)\n"
   ]
  },
  {
   "cell_type": "code",
   "execution_count": 21,
   "metadata": {
    "pycharm": {
     "name": "#%%\n"
    }
   },
   "outputs": [
    {
     "data": {
      "text/html": [
       "<div>\n",
       "<style scoped>\n",
       "    .dataframe tbody tr th:only-of-type {\n",
       "        vertical-align: middle;\n",
       "    }\n",
       "\n",
       "    .dataframe tbody tr th {\n",
       "        vertical-align: top;\n",
       "    }\n",
       "\n",
       "    .dataframe thead th {\n",
       "        text-align: right;\n",
       "    }\n",
       "</style>\n",
       "<table border=\"1\" class=\"dataframe\">\n",
       "  <thead>\n",
       "    <tr style=\"text-align: right;\">\n",
       "      <th></th>\n",
       "      <th>product_name</th>\n",
       "      <th>kw_name</th>\n",
       "      <th>description</th>\n",
       "    </tr>\n",
       "  </thead>\n",
       "  <tbody>\n",
       "    <tr>\n",
       "      <th>0</th>\n",
       "      <td>addis flip top l black bin</td>\n",
       "      <td></td>\n",
       "      <td>dispose unwanted rubbish without touch bin usi...</td>\n",
       "    </tr>\n",
       "    <tr>\n",
       "      <th>1</th>\n",
       "      <td>arnott s tim tam chewy caramel g</td>\n",
       "      <td></td>\n",
       "      <td></td>\n",
       "    </tr>\n",
       "    <tr>\n",
       "      <th>2</th>\n",
       "      <td>beeno flatties chicken g</td>\n",
       "      <td></td>\n",
       "      <td></td>\n",
       "    </tr>\n",
       "    <tr>\n",
       "      <th>3</th>\n",
       "      <td>beyers amarula chocolate g</td>\n",
       "      <td></td>\n",
       "      <td></td>\n",
       "    </tr>\n",
       "    <tr>\n",
       "      <th>4</th>\n",
       "      <td>bob martin in shampoo and conditioner ml</td>\n",
       "      <td></td>\n",
       "      <td></td>\n",
       "    </tr>\n",
       "  </tbody>\n",
       "</table>\n",
       "</div>"
      ],
      "text/plain": [
       "                               product_name kw_name  \\\n",
       "0                addis flip top l black bin           \n",
       "1          arnott s tim tam chewy caramel g           \n",
       "2                  beeno flatties chicken g           \n",
       "3                beyers amarula chocolate g           \n",
       "4  bob martin in shampoo and conditioner ml           \n",
       "\n",
       "                                         description  \n",
       "0  dispose unwanted rubbish without touch bin usi...  \n",
       "1                                                     \n",
       "2                                                     \n",
       "3                                                     \n",
       "4                                                     "
      ]
     },
     "execution_count": 21,
     "metadata": {},
     "output_type": "execute_result"
    }
   ],
   "source": [
    "text['description'] = text['description'].apply(stopwords)\n",
    "text['kw_name'] = text['kw_name'].apply(stopwords)\n",
    "text.head()\n"
   ]
  },
  {
   "cell_type": "markdown",
   "metadata": {},
   "source": [
    "We build the function to apply lemmatizing:"
   ]
  },
  {
   "cell_type": "code",
   "execution_count": 22,
   "metadata": {
    "pycharm": {
     "name": "#%%\n"
    }
   },
   "outputs": [],
   "source": [
    "lem = WordNetLemmatizer()\n",
    "\n",
    "def word_lem(text):\n",
    "    lem_text = [lem.lemmatize(word) for word in text.split()]\n",
    "    return \" \".join(lem_text)"
   ]
  },
  {
   "cell_type": "code",
   "execution_count": 23,
   "metadata": {
    "pycharm": {
     "name": "#%%\n"
    }
   },
   "outputs": [
    {
     "name": "stderr",
     "output_type": "stream",
     "text": [
      "[nltk_data] Downloading package wordnet to /home/tendai/nltk_data...\n",
      "[nltk_data]   Package wordnet is already up-to-date!\n"
     ]
    },
    {
     "ename": "LookupError",
     "evalue": "\n**********************************************************************\n  Resource \u001b[93momw-1.4\u001b[0m not found.\n  Please use the NLTK Downloader to obtain the resource:\n\n  \u001b[31m>>> import nltk\n  >>> nltk.download('omw-1.4')\n  \u001b[0m\n  For more information see: https://www.nltk.org/data.html\n\n  Attempted to load \u001b[93mcorpora/omw-1.4\u001b[0m\n\n  Searched in:\n    - '/home/tendai/nltk_data'\n    - '/home/tendai/PycharmProjects/autotagger/venv/nltk_data'\n    - '/home/tendai/PycharmProjects/autotagger/venv/share/nltk_data'\n    - '/home/tendai/PycharmProjects/autotagger/venv/lib/nltk_data'\n    - '/usr/share/nltk_data'\n    - '/usr/local/share/nltk_data'\n    - '/usr/lib/nltk_data'\n    - '/usr/local/lib/nltk_data'\n**********************************************************************\n",
     "output_type": "error",
     "traceback": [
      "\u001b[0;31m---------------------------------------------------------------------------\u001b[0m",
      "\u001b[0;31mLookupError\u001b[0m                               Traceback (most recent call last)",
      "\u001b[0;32m~/PycharmProjects/autotagger/venv/lib/python3.8/site-packages/nltk/corpus/util.py\u001b[0m in \u001b[0;36m__load\u001b[0;34m(self)\u001b[0m\n\u001b[1;32m     83\u001b[0m                 \u001b[0;32mtry\u001b[0m\u001b[0;34m:\u001b[0m\u001b[0;34m\u001b[0m\u001b[0;34m\u001b[0m\u001b[0m\n\u001b[0;32m---> 84\u001b[0;31m                     \u001b[0mroot\u001b[0m \u001b[0;34m=\u001b[0m \u001b[0mnltk\u001b[0m\u001b[0;34m.\u001b[0m\u001b[0mdata\u001b[0m\u001b[0;34m.\u001b[0m\u001b[0mfind\u001b[0m\u001b[0;34m(\u001b[0m\u001b[0;34mf\"{self.subdir}/{zip_name}\"\u001b[0m\u001b[0;34m)\u001b[0m\u001b[0;34m\u001b[0m\u001b[0;34m\u001b[0m\u001b[0m\n\u001b[0m\u001b[1;32m     85\u001b[0m                 \u001b[0;32mexcept\u001b[0m \u001b[0mLookupError\u001b[0m\u001b[0;34m:\u001b[0m\u001b[0;34m\u001b[0m\u001b[0;34m\u001b[0m\u001b[0m\n",
      "\u001b[0;32m~/PycharmProjects/autotagger/venv/lib/python3.8/site-packages/nltk/data.py\u001b[0m in \u001b[0;36mfind\u001b[0;34m(resource_name, paths)\u001b[0m\n\u001b[1;32m    582\u001b[0m     \u001b[0mresource_not_found\u001b[0m \u001b[0;34m=\u001b[0m \u001b[0;34mf\"\\n{sep}\\n{msg}\\n{sep}\\n\"\u001b[0m\u001b[0;34m\u001b[0m\u001b[0;34m\u001b[0m\u001b[0m\n\u001b[0;32m--> 583\u001b[0;31m     \u001b[0;32mraise\u001b[0m \u001b[0mLookupError\u001b[0m\u001b[0;34m(\u001b[0m\u001b[0mresource_not_found\u001b[0m\u001b[0;34m)\u001b[0m\u001b[0;34m\u001b[0m\u001b[0;34m\u001b[0m\u001b[0m\n\u001b[0m\u001b[1;32m    584\u001b[0m \u001b[0;34m\u001b[0m\u001b[0m\n",
      "\u001b[0;31mLookupError\u001b[0m: \n**********************************************************************\n  Resource \u001b[93momw-1.4\u001b[0m not found.\n  Please use the NLTK Downloader to obtain the resource:\n\n  \u001b[31m>>> import nltk\n  >>> nltk.download('omw-1.4')\n  \u001b[0m\n  For more information see: https://www.nltk.org/data.html\n\n  Attempted to load \u001b[93mcorpora/omw-1.4.zip/omw-1.4/\u001b[0m\n\n  Searched in:\n    - '/home/tendai/nltk_data'\n    - '/home/tendai/PycharmProjects/autotagger/venv/nltk_data'\n    - '/home/tendai/PycharmProjects/autotagger/venv/share/nltk_data'\n    - '/home/tendai/PycharmProjects/autotagger/venv/lib/nltk_data'\n    - '/usr/share/nltk_data'\n    - '/usr/local/share/nltk_data'\n    - '/usr/lib/nltk_data'\n    - '/usr/local/lib/nltk_data'\n**********************************************************************\n",
      "\nDuring handling of the above exception, another exception occurred:\n",
      "\u001b[0;31mLookupError\u001b[0m                               Traceback (most recent call last)",
      "\u001b[0;32m/tmp/ipykernel_33740/3125896486.py\u001b[0m in \u001b[0;36m<module>\u001b[0;34m\u001b[0m\n\u001b[1;32m      1\u001b[0m \u001b[0;32mimport\u001b[0m \u001b[0mnltk\u001b[0m\u001b[0;34m\u001b[0m\u001b[0;34m\u001b[0m\u001b[0m\n\u001b[1;32m      2\u001b[0m \u001b[0mnltk\u001b[0m\u001b[0;34m.\u001b[0m\u001b[0mdownload\u001b[0m\u001b[0;34m(\u001b[0m\u001b[0;34m'wordnet'\u001b[0m\u001b[0;34m)\u001b[0m\u001b[0;34m\u001b[0m\u001b[0;34m\u001b[0m\u001b[0m\n\u001b[0;32m----> 3\u001b[0;31m \u001b[0mext\u001b[0m\u001b[0;34m[\u001b[0m\u001b[0;34m'description'\u001b[0m\u001b[0;34m]\u001b[0m  \u001b[0;34m=\u001b[0m \u001b[0mtext\u001b[0m\u001b[0;34m[\u001b[0m\u001b[0;34m'description'\u001b[0m\u001b[0;34m]\u001b[0m\u001b[0;34m.\u001b[0m\u001b[0mapply\u001b[0m\u001b[0;34m(\u001b[0m\u001b[0mword_lem\u001b[0m\u001b[0;34m)\u001b[0m\u001b[0;34m\u001b[0m\u001b[0;34m\u001b[0m\u001b[0m\n\u001b[0m\u001b[1;32m      4\u001b[0m \u001b[0mtext\u001b[0m\u001b[0;34m.\u001b[0m\u001b[0mhead\u001b[0m\u001b[0;34m(\u001b[0m\u001b[0;34m)\u001b[0m\u001b[0;34m\u001b[0m\u001b[0;34m\u001b[0m\u001b[0m\n",
      "\u001b[0;32m~/PycharmProjects/autotagger/venv/lib/python3.8/site-packages/pandas/core/series.py\u001b[0m in \u001b[0;36mapply\u001b[0;34m(self, func, convert_dtype, args, **kwargs)\u001b[0m\n\u001b[1;32m   4355\u001b[0m         \u001b[0mdtype\u001b[0m\u001b[0;34m:\u001b[0m \u001b[0mfloat64\u001b[0m\u001b[0;34m\u001b[0m\u001b[0;34m\u001b[0m\u001b[0m\n\u001b[1;32m   4356\u001b[0m         \"\"\"\n\u001b[0;32m-> 4357\u001b[0;31m         \u001b[0;32mreturn\u001b[0m \u001b[0mSeriesApply\u001b[0m\u001b[0;34m(\u001b[0m\u001b[0mself\u001b[0m\u001b[0;34m,\u001b[0m \u001b[0mfunc\u001b[0m\u001b[0;34m,\u001b[0m \u001b[0mconvert_dtype\u001b[0m\u001b[0;34m,\u001b[0m \u001b[0margs\u001b[0m\u001b[0;34m,\u001b[0m \u001b[0mkwargs\u001b[0m\u001b[0;34m)\u001b[0m\u001b[0;34m.\u001b[0m\u001b[0mapply\u001b[0m\u001b[0;34m(\u001b[0m\u001b[0;34m)\u001b[0m\u001b[0;34m\u001b[0m\u001b[0;34m\u001b[0m\u001b[0m\n\u001b[0m\u001b[1;32m   4358\u001b[0m \u001b[0;34m\u001b[0m\u001b[0m\n\u001b[1;32m   4359\u001b[0m     def _reduce(\n",
      "\u001b[0;32m~/PycharmProjects/autotagger/venv/lib/python3.8/site-packages/pandas/core/apply.py\u001b[0m in \u001b[0;36mapply\u001b[0;34m(self)\u001b[0m\n\u001b[1;32m   1041\u001b[0m             \u001b[0;32mreturn\u001b[0m \u001b[0mself\u001b[0m\u001b[0;34m.\u001b[0m\u001b[0mapply_str\u001b[0m\u001b[0;34m(\u001b[0m\u001b[0;34m)\u001b[0m\u001b[0;34m\u001b[0m\u001b[0;34m\u001b[0m\u001b[0m\n\u001b[1;32m   1042\u001b[0m \u001b[0;34m\u001b[0m\u001b[0m\n\u001b[0;32m-> 1043\u001b[0;31m         \u001b[0;32mreturn\u001b[0m \u001b[0mself\u001b[0m\u001b[0;34m.\u001b[0m\u001b[0mapply_standard\u001b[0m\u001b[0;34m(\u001b[0m\u001b[0;34m)\u001b[0m\u001b[0;34m\u001b[0m\u001b[0;34m\u001b[0m\u001b[0m\n\u001b[0m\u001b[1;32m   1044\u001b[0m \u001b[0;34m\u001b[0m\u001b[0m\n\u001b[1;32m   1045\u001b[0m     \u001b[0;32mdef\u001b[0m \u001b[0magg\u001b[0m\u001b[0;34m(\u001b[0m\u001b[0mself\u001b[0m\u001b[0;34m)\u001b[0m\u001b[0;34m:\u001b[0m\u001b[0;34m\u001b[0m\u001b[0;34m\u001b[0m\u001b[0m\n",
      "\u001b[0;32m~/PycharmProjects/autotagger/venv/lib/python3.8/site-packages/pandas/core/apply.py\u001b[0m in \u001b[0;36mapply_standard\u001b[0;34m(self)\u001b[0m\n\u001b[1;32m   1096\u001b[0m                 \u001b[0;31m# List[Union[Callable[..., Any], str]]]]]\"; expected\u001b[0m\u001b[0;34m\u001b[0m\u001b[0;34m\u001b[0m\u001b[0;34m\u001b[0m\u001b[0m\n\u001b[1;32m   1097\u001b[0m                 \u001b[0;31m# \"Callable[[Any], Any]\"\u001b[0m\u001b[0;34m\u001b[0m\u001b[0;34m\u001b[0m\u001b[0;34m\u001b[0m\u001b[0m\n\u001b[0;32m-> 1098\u001b[0;31m                 mapped = lib.map_infer(\n\u001b[0m\u001b[1;32m   1099\u001b[0m                     \u001b[0mvalues\u001b[0m\u001b[0;34m,\u001b[0m\u001b[0;34m\u001b[0m\u001b[0;34m\u001b[0m\u001b[0m\n\u001b[1;32m   1100\u001b[0m                     \u001b[0mf\u001b[0m\u001b[0;34m,\u001b[0m  \u001b[0;31m# type: ignore[arg-type]\u001b[0m\u001b[0;34m\u001b[0m\u001b[0;34m\u001b[0m\u001b[0m\n",
      "\u001b[0;32m~/PycharmProjects/autotagger/venv/lib/python3.8/site-packages/pandas/_libs/lib.pyx\u001b[0m in \u001b[0;36mpandas._libs.lib.map_infer\u001b[0;34m()\u001b[0m\n",
      "\u001b[0;32m/tmp/ipykernel_33740/4097954377.py\u001b[0m in \u001b[0;36mword_lem\u001b[0;34m(text)\u001b[0m\n\u001b[1;32m      2\u001b[0m \u001b[0;34m\u001b[0m\u001b[0m\n\u001b[1;32m      3\u001b[0m \u001b[0;32mdef\u001b[0m \u001b[0mword_lem\u001b[0m\u001b[0;34m(\u001b[0m\u001b[0mtext\u001b[0m\u001b[0;34m)\u001b[0m\u001b[0;34m:\u001b[0m\u001b[0;34m\u001b[0m\u001b[0;34m\u001b[0m\u001b[0m\n\u001b[0;32m----> 4\u001b[0;31m     \u001b[0mlem_text\u001b[0m \u001b[0;34m=\u001b[0m \u001b[0;34m[\u001b[0m\u001b[0mlem\u001b[0m\u001b[0;34m.\u001b[0m\u001b[0mlemmatize\u001b[0m\u001b[0;34m(\u001b[0m\u001b[0mword\u001b[0m\u001b[0;34m)\u001b[0m \u001b[0;32mfor\u001b[0m \u001b[0mword\u001b[0m \u001b[0;32min\u001b[0m \u001b[0mtext\u001b[0m\u001b[0;34m.\u001b[0m\u001b[0msplit\u001b[0m\u001b[0;34m(\u001b[0m\u001b[0;34m)\u001b[0m\u001b[0;34m]\u001b[0m\u001b[0;34m\u001b[0m\u001b[0;34m\u001b[0m\u001b[0m\n\u001b[0m\u001b[1;32m      5\u001b[0m     \u001b[0;32mreturn\u001b[0m \u001b[0;34m\" \"\u001b[0m\u001b[0;34m.\u001b[0m\u001b[0mjoin\u001b[0m\u001b[0;34m(\u001b[0m\u001b[0mlem_text\u001b[0m\u001b[0;34m)\u001b[0m\u001b[0;34m\u001b[0m\u001b[0;34m\u001b[0m\u001b[0m\n",
      "\u001b[0;32m/tmp/ipykernel_33740/4097954377.py\u001b[0m in \u001b[0;36m<listcomp>\u001b[0;34m(.0)\u001b[0m\n\u001b[1;32m      2\u001b[0m \u001b[0;34m\u001b[0m\u001b[0m\n\u001b[1;32m      3\u001b[0m \u001b[0;32mdef\u001b[0m \u001b[0mword_lem\u001b[0m\u001b[0;34m(\u001b[0m\u001b[0mtext\u001b[0m\u001b[0;34m)\u001b[0m\u001b[0;34m:\u001b[0m\u001b[0;34m\u001b[0m\u001b[0;34m\u001b[0m\u001b[0m\n\u001b[0;32m----> 4\u001b[0;31m     \u001b[0mlem_text\u001b[0m \u001b[0;34m=\u001b[0m \u001b[0;34m[\u001b[0m\u001b[0mlem\u001b[0m\u001b[0;34m.\u001b[0m\u001b[0mlemmatize\u001b[0m\u001b[0;34m(\u001b[0m\u001b[0mword\u001b[0m\u001b[0;34m)\u001b[0m \u001b[0;32mfor\u001b[0m \u001b[0mword\u001b[0m \u001b[0;32min\u001b[0m \u001b[0mtext\u001b[0m\u001b[0;34m.\u001b[0m\u001b[0msplit\u001b[0m\u001b[0;34m(\u001b[0m\u001b[0;34m)\u001b[0m\u001b[0;34m]\u001b[0m\u001b[0;34m\u001b[0m\u001b[0;34m\u001b[0m\u001b[0m\n\u001b[0m\u001b[1;32m      5\u001b[0m     \u001b[0;32mreturn\u001b[0m \u001b[0;34m\" \"\u001b[0m\u001b[0;34m.\u001b[0m\u001b[0mjoin\u001b[0m\u001b[0;34m(\u001b[0m\u001b[0mlem_text\u001b[0m\u001b[0;34m)\u001b[0m\u001b[0;34m\u001b[0m\u001b[0;34m\u001b[0m\u001b[0m\n",
      "\u001b[0;32m~/PycharmProjects/autotagger/venv/lib/python3.8/site-packages/nltk/stem/wordnet.py\u001b[0m in \u001b[0;36mlemmatize\u001b[0;34m(self, word, pos)\u001b[0m\n\u001b[1;32m     43\u001b[0m         \u001b[0;34m:\u001b[0m\u001b[0;32mreturn\u001b[0m\u001b[0;34m:\u001b[0m \u001b[0mThe\u001b[0m \u001b[0mlemma\u001b[0m \u001b[0mof\u001b[0m\u001b[0;31m \u001b[0m\u001b[0;31m`\u001b[0m\u001b[0mword\u001b[0m\u001b[0;31m`\u001b[0m\u001b[0;34m,\u001b[0m \u001b[0;32mfor\u001b[0m \u001b[0mthe\u001b[0m \u001b[0mgiven\u001b[0m\u001b[0;31m \u001b[0m\u001b[0;31m`\u001b[0m\u001b[0mpos\u001b[0m\u001b[0;31m`\u001b[0m\u001b[0;34m.\u001b[0m\u001b[0;34m\u001b[0m\u001b[0;34m\u001b[0m\u001b[0m\n\u001b[1;32m     44\u001b[0m         \"\"\"\n\u001b[0;32m---> 45\u001b[0;31m         \u001b[0mlemmas\u001b[0m \u001b[0;34m=\u001b[0m \u001b[0mwn\u001b[0m\u001b[0;34m.\u001b[0m\u001b[0m_morphy\u001b[0m\u001b[0;34m(\u001b[0m\u001b[0mword\u001b[0m\u001b[0;34m,\u001b[0m \u001b[0mpos\u001b[0m\u001b[0;34m)\u001b[0m\u001b[0;34m\u001b[0m\u001b[0;34m\u001b[0m\u001b[0m\n\u001b[0m\u001b[1;32m     46\u001b[0m         \u001b[0;32mreturn\u001b[0m \u001b[0mmin\u001b[0m\u001b[0;34m(\u001b[0m\u001b[0mlemmas\u001b[0m\u001b[0;34m,\u001b[0m \u001b[0mkey\u001b[0m\u001b[0;34m=\u001b[0m\u001b[0mlen\u001b[0m\u001b[0;34m)\u001b[0m \u001b[0;32mif\u001b[0m \u001b[0mlemmas\u001b[0m \u001b[0;32melse\u001b[0m \u001b[0mword\u001b[0m\u001b[0;34m\u001b[0m\u001b[0;34m\u001b[0m\u001b[0m\n\u001b[1;32m     47\u001b[0m \u001b[0;34m\u001b[0m\u001b[0m\n",
      "\u001b[0;32m~/PycharmProjects/autotagger/venv/lib/python3.8/site-packages/nltk/corpus/util.py\u001b[0m in \u001b[0;36m__getattr__\u001b[0;34m(self, attr)\u001b[0m\n\u001b[1;32m    119\u001b[0m             \u001b[0;32mraise\u001b[0m \u001b[0mAttributeError\u001b[0m\u001b[0;34m(\u001b[0m\u001b[0;34m\"LazyCorpusLoader object has no attribute '__bases__'\"\u001b[0m\u001b[0;34m)\u001b[0m\u001b[0;34m\u001b[0m\u001b[0;34m\u001b[0m\u001b[0m\n\u001b[1;32m    120\u001b[0m \u001b[0;34m\u001b[0m\u001b[0m\n\u001b[0;32m--> 121\u001b[0;31m         \u001b[0mself\u001b[0m\u001b[0;34m.\u001b[0m\u001b[0m__load\u001b[0m\u001b[0;34m(\u001b[0m\u001b[0;34m)\u001b[0m\u001b[0;34m\u001b[0m\u001b[0;34m\u001b[0m\u001b[0m\n\u001b[0m\u001b[1;32m    122\u001b[0m         \u001b[0;31m# This looks circular, but its not, since __load() changes our\u001b[0m\u001b[0;34m\u001b[0m\u001b[0;34m\u001b[0m\u001b[0;34m\u001b[0m\u001b[0m\n\u001b[1;32m    123\u001b[0m         \u001b[0;31m# __class__ to something new:\u001b[0m\u001b[0;34m\u001b[0m\u001b[0;34m\u001b[0m\u001b[0;34m\u001b[0m\u001b[0m\n",
      "\u001b[0;32m~/PycharmProjects/autotagger/venv/lib/python3.8/site-packages/nltk/corpus/util.py\u001b[0m in \u001b[0;36m__load\u001b[0;34m(self)\u001b[0m\n\u001b[1;32m     87\u001b[0m \u001b[0;34m\u001b[0m\u001b[0m\n\u001b[1;32m     88\u001b[0m         \u001b[0;31m# Load the corpus.\u001b[0m\u001b[0;34m\u001b[0m\u001b[0;34m\u001b[0m\u001b[0;34m\u001b[0m\u001b[0m\n\u001b[0;32m---> 89\u001b[0;31m         \u001b[0mcorpus\u001b[0m \u001b[0;34m=\u001b[0m \u001b[0mself\u001b[0m\u001b[0;34m.\u001b[0m\u001b[0m__reader_cls\u001b[0m\u001b[0;34m(\u001b[0m\u001b[0mroot\u001b[0m\u001b[0;34m,\u001b[0m \u001b[0;34m*\u001b[0m\u001b[0mself\u001b[0m\u001b[0;34m.\u001b[0m\u001b[0m__args\u001b[0m\u001b[0;34m,\u001b[0m \u001b[0;34m**\u001b[0m\u001b[0mself\u001b[0m\u001b[0;34m.\u001b[0m\u001b[0m__kwargs\u001b[0m\u001b[0;34m)\u001b[0m\u001b[0;34m\u001b[0m\u001b[0;34m\u001b[0m\u001b[0m\n\u001b[0m\u001b[1;32m     90\u001b[0m \u001b[0;34m\u001b[0m\u001b[0m\n\u001b[1;32m     91\u001b[0m         \u001b[0;31m# This is where the magic happens!  Transform ourselves into\u001b[0m\u001b[0;34m\u001b[0m\u001b[0;34m\u001b[0m\u001b[0;34m\u001b[0m\u001b[0m\n",
      "\u001b[0;32m~/PycharmProjects/autotagger/venv/lib/python3.8/site-packages/nltk/corpus/reader/wordnet.py\u001b[0m in \u001b[0;36m__init__\u001b[0;34m(self, root, omw_reader)\u001b[0m\n\u001b[1;32m   1174\u001b[0m             )\n\u001b[1;32m   1175\u001b[0m         \u001b[0;32melse\u001b[0m\u001b[0;34m:\u001b[0m\u001b[0;34m\u001b[0m\u001b[0;34m\u001b[0m\u001b[0m\n\u001b[0;32m-> 1176\u001b[0;31m             \u001b[0mself\u001b[0m\u001b[0;34m.\u001b[0m\u001b[0mprovenances\u001b[0m \u001b[0;34m=\u001b[0m \u001b[0mself\u001b[0m\u001b[0;34m.\u001b[0m\u001b[0momw_prov\u001b[0m\u001b[0;34m(\u001b[0m\u001b[0;34m)\u001b[0m\u001b[0;34m\u001b[0m\u001b[0;34m\u001b[0m\u001b[0m\n\u001b[0m\u001b[1;32m   1177\u001b[0m \u001b[0;34m\u001b[0m\u001b[0m\n\u001b[1;32m   1178\u001b[0m         \u001b[0;31m# A cache to store the wordnet data of multiple languages\u001b[0m\u001b[0;34m\u001b[0m\u001b[0;34m\u001b[0m\u001b[0;34m\u001b[0m\u001b[0m\n",
      "\u001b[0;32m~/PycharmProjects/autotagger/venv/lib/python3.8/site-packages/nltk/corpus/reader/wordnet.py\u001b[0m in \u001b[0;36momw_prov\u001b[0;34m(self)\u001b[0m\n\u001b[1;32m   1283\u001b[0m         \u001b[0mprovdict\u001b[0m \u001b[0;34m=\u001b[0m \u001b[0;34m{\u001b[0m\u001b[0;34m}\u001b[0m\u001b[0;34m\u001b[0m\u001b[0;34m\u001b[0m\u001b[0m\n\u001b[1;32m   1284\u001b[0m         \u001b[0mprovdict\u001b[0m\u001b[0;34m[\u001b[0m\u001b[0;34m\"eng\"\u001b[0m\u001b[0;34m]\u001b[0m \u001b[0;34m=\u001b[0m \u001b[0;34m\"\"\u001b[0m\u001b[0;34m\u001b[0m\u001b[0;34m\u001b[0m\u001b[0m\n\u001b[0;32m-> 1285\u001b[0;31m         \u001b[0mfileids\u001b[0m \u001b[0;34m=\u001b[0m \u001b[0mself\u001b[0m\u001b[0;34m.\u001b[0m\u001b[0m_omw_reader\u001b[0m\u001b[0;34m.\u001b[0m\u001b[0mfileids\u001b[0m\u001b[0;34m(\u001b[0m\u001b[0;34m)\u001b[0m\u001b[0;34m\u001b[0m\u001b[0;34m\u001b[0m\u001b[0m\n\u001b[0m\u001b[1;32m   1286\u001b[0m         \u001b[0;32mfor\u001b[0m \u001b[0mfileid\u001b[0m \u001b[0;32min\u001b[0m \u001b[0mfileids\u001b[0m\u001b[0;34m:\u001b[0m\u001b[0;34m\u001b[0m\u001b[0;34m\u001b[0m\u001b[0m\n\u001b[1;32m   1287\u001b[0m             \u001b[0mprov\u001b[0m\u001b[0;34m,\u001b[0m \u001b[0mlangfile\u001b[0m \u001b[0;34m=\u001b[0m \u001b[0mos\u001b[0m\u001b[0;34m.\u001b[0m\u001b[0mpath\u001b[0m\u001b[0;34m.\u001b[0m\u001b[0msplit\u001b[0m\u001b[0;34m(\u001b[0m\u001b[0mfileid\u001b[0m\u001b[0;34m)\u001b[0m\u001b[0;34m\u001b[0m\u001b[0;34m\u001b[0m\u001b[0m\n",
      "\u001b[0;32m~/PycharmProjects/autotagger/venv/lib/python3.8/site-packages/nltk/corpus/util.py\u001b[0m in \u001b[0;36m__getattr__\u001b[0;34m(self, attr)\u001b[0m\n\u001b[1;32m    119\u001b[0m             \u001b[0;32mraise\u001b[0m \u001b[0mAttributeError\u001b[0m\u001b[0;34m(\u001b[0m\u001b[0;34m\"LazyCorpusLoader object has no attribute '__bases__'\"\u001b[0m\u001b[0;34m)\u001b[0m\u001b[0;34m\u001b[0m\u001b[0;34m\u001b[0m\u001b[0m\n\u001b[1;32m    120\u001b[0m \u001b[0;34m\u001b[0m\u001b[0m\n\u001b[0;32m--> 121\u001b[0;31m         \u001b[0mself\u001b[0m\u001b[0;34m.\u001b[0m\u001b[0m__load\u001b[0m\u001b[0;34m(\u001b[0m\u001b[0;34m)\u001b[0m\u001b[0;34m\u001b[0m\u001b[0;34m\u001b[0m\u001b[0m\n\u001b[0m\u001b[1;32m    122\u001b[0m         \u001b[0;31m# This looks circular, but its not, since __load() changes our\u001b[0m\u001b[0;34m\u001b[0m\u001b[0;34m\u001b[0m\u001b[0;34m\u001b[0m\u001b[0m\n\u001b[1;32m    123\u001b[0m         \u001b[0;31m# __class__ to something new:\u001b[0m\u001b[0;34m\u001b[0m\u001b[0;34m\u001b[0m\u001b[0;34m\u001b[0m\u001b[0m\n",
      "\u001b[0;32m~/PycharmProjects/autotagger/venv/lib/python3.8/site-packages/nltk/corpus/util.py\u001b[0m in \u001b[0;36m__load\u001b[0;34m(self)\u001b[0m\n\u001b[1;32m     84\u001b[0m                     \u001b[0mroot\u001b[0m \u001b[0;34m=\u001b[0m \u001b[0mnltk\u001b[0m\u001b[0;34m.\u001b[0m\u001b[0mdata\u001b[0m\u001b[0;34m.\u001b[0m\u001b[0mfind\u001b[0m\u001b[0;34m(\u001b[0m\u001b[0;34mf\"{self.subdir}/{zip_name}\"\u001b[0m\u001b[0;34m)\u001b[0m\u001b[0;34m\u001b[0m\u001b[0;34m\u001b[0m\u001b[0m\n\u001b[1;32m     85\u001b[0m                 \u001b[0;32mexcept\u001b[0m \u001b[0mLookupError\u001b[0m\u001b[0;34m:\u001b[0m\u001b[0;34m\u001b[0m\u001b[0;34m\u001b[0m\u001b[0m\n\u001b[0;32m---> 86\u001b[0;31m                     \u001b[0;32mraise\u001b[0m \u001b[0me\u001b[0m\u001b[0;34m\u001b[0m\u001b[0;34m\u001b[0m\u001b[0m\n\u001b[0m\u001b[1;32m     87\u001b[0m \u001b[0;34m\u001b[0m\u001b[0m\n\u001b[1;32m     88\u001b[0m         \u001b[0;31m# Load the corpus.\u001b[0m\u001b[0;34m\u001b[0m\u001b[0;34m\u001b[0m\u001b[0;34m\u001b[0m\u001b[0m\n",
      "\u001b[0;32m~/PycharmProjects/autotagger/venv/lib/python3.8/site-packages/nltk/corpus/util.py\u001b[0m in \u001b[0;36m__load\u001b[0;34m(self)\u001b[0m\n\u001b[1;32m     79\u001b[0m         \u001b[0;32melse\u001b[0m\u001b[0;34m:\u001b[0m\u001b[0;34m\u001b[0m\u001b[0;34m\u001b[0m\u001b[0m\n\u001b[1;32m     80\u001b[0m             \u001b[0;32mtry\u001b[0m\u001b[0;34m:\u001b[0m\u001b[0;34m\u001b[0m\u001b[0;34m\u001b[0m\u001b[0m\n\u001b[0;32m---> 81\u001b[0;31m                 \u001b[0mroot\u001b[0m \u001b[0;34m=\u001b[0m \u001b[0mnltk\u001b[0m\u001b[0;34m.\u001b[0m\u001b[0mdata\u001b[0m\u001b[0;34m.\u001b[0m\u001b[0mfind\u001b[0m\u001b[0;34m(\u001b[0m\u001b[0;34mf\"{self.subdir}/{self.__name}\"\u001b[0m\u001b[0;34m)\u001b[0m\u001b[0;34m\u001b[0m\u001b[0;34m\u001b[0m\u001b[0m\n\u001b[0m\u001b[1;32m     82\u001b[0m             \u001b[0;32mexcept\u001b[0m \u001b[0mLookupError\u001b[0m \u001b[0;32mas\u001b[0m \u001b[0me\u001b[0m\u001b[0;34m:\u001b[0m\u001b[0;34m\u001b[0m\u001b[0;34m\u001b[0m\u001b[0m\n\u001b[1;32m     83\u001b[0m                 \u001b[0;32mtry\u001b[0m\u001b[0;34m:\u001b[0m\u001b[0;34m\u001b[0m\u001b[0;34m\u001b[0m\u001b[0m\n",
      "\u001b[0;32m~/PycharmProjects/autotagger/venv/lib/python3.8/site-packages/nltk/data.py\u001b[0m in \u001b[0;36mfind\u001b[0;34m(resource_name, paths)\u001b[0m\n\u001b[1;32m    581\u001b[0m     \u001b[0msep\u001b[0m \u001b[0;34m=\u001b[0m \u001b[0;34m\"*\"\u001b[0m \u001b[0;34m*\u001b[0m \u001b[0;36m70\u001b[0m\u001b[0;34m\u001b[0m\u001b[0;34m\u001b[0m\u001b[0m\n\u001b[1;32m    582\u001b[0m     \u001b[0mresource_not_found\u001b[0m \u001b[0;34m=\u001b[0m \u001b[0;34mf\"\\n{sep}\\n{msg}\\n{sep}\\n\"\u001b[0m\u001b[0;34m\u001b[0m\u001b[0;34m\u001b[0m\u001b[0m\n\u001b[0;32m--> 583\u001b[0;31m     \u001b[0;32mraise\u001b[0m \u001b[0mLookupError\u001b[0m\u001b[0;34m(\u001b[0m\u001b[0mresource_not_found\u001b[0m\u001b[0;34m)\u001b[0m\u001b[0;34m\u001b[0m\u001b[0;34m\u001b[0m\u001b[0m\n\u001b[0m\u001b[1;32m    584\u001b[0m \u001b[0;34m\u001b[0m\u001b[0m\n\u001b[1;32m    585\u001b[0m \u001b[0;34m\u001b[0m\u001b[0m\n",
      "\u001b[0;31mLookupError\u001b[0m: \n**********************************************************************\n  Resource \u001b[93momw-1.4\u001b[0m not found.\n  Please use the NLTK Downloader to obtain the resource:\n\n  \u001b[31m>>> import nltk\n  >>> nltk.download('omw-1.4')\n  \u001b[0m\n  For more information see: https://www.nltk.org/data.html\n\n  Attempted to load \u001b[93mcorpora/omw-1.4\u001b[0m\n\n  Searched in:\n    - '/home/tendai/nltk_data'\n    - '/home/tendai/PycharmProjects/autotagger/venv/nltk_data'\n    - '/home/tendai/PycharmProjects/autotagger/venv/share/nltk_data'\n    - '/home/tendai/PycharmProjects/autotagger/venv/lib/nltk_data'\n    - '/usr/share/nltk_data'\n    - '/usr/local/share/nltk_data'\n    - '/usr/lib/nltk_data'\n    - '/usr/local/lib/nltk_data'\n**********************************************************************\n"
     ]
    }
   ],
   "source": [
    "import nltk\n",
    "nltk.download('wordnet')\n",
    " nltk.download('omw-1.4')\n",
    "ext['description']  = text['description'].apply(word_lem)\n",
    "text.head()\n"
   ]
  },
  {
   "cell_type": "code",
   "execution_count": 24,
   "metadata": {
    "pycharm": {
     "name": "#%%\n"
    }
   },
   "outputs": [
    {
     "data": {
      "text/plain": [
       "''"
      ]
     },
     "execution_count": 24,
     "metadata": {},
     "output_type": "execute_result"
    }
   ],
   "source": [
    "text['description'][1000]\n"
   ]
  },
  {
   "cell_type": "markdown",
   "metadata": {},
   "source": [
    "Model creation\n",
    "Word2vec for product_name"
   ]
  },
  {
   "cell_type": "code",
   "execution_count": 25,
   "metadata": {
    "pycharm": {
     "name": "#%%\n"
    }
   },
   "outputs": [],
   "source": [
    "##Corpus to model\n",
    "\n",
    "corpus = text['product_name'].map(simple_preprocess)\n"
   ]
  },
  {
   "cell_type": "code",
   "execution_count": 26,
   "metadata": {
    "pycharm": {
     "name": "#%%\n"
    }
   },
   "outputs": [
    {
     "data": {
      "text/plain": [
       "0                        [addis, flip, top, black, bin]\n",
       "1                    [arnott, tim, tam, chewy, caramel]\n",
       "2                            [beeno, flatties, chicken]\n",
       "3                          [beyers, amarula, chocolate]\n",
       "4      [bob, martin, in, shampoo, and, conditioner, ml]\n",
       "5     [bob, martin, crystal, cat, litter, lavender, kg]\n",
       "6            [brm, peri, peri, spatchcock, chicken, kg]\n",
       "8                               [buffalo, citric, acid]\n",
       "9                [carmien, organic, teabags, pouch, ea]\n",
       "11                                    [crushed, ginger]\n",
       "Name: product_name, dtype: object"
      ]
     },
     "execution_count": 26,
     "metadata": {},
     "output_type": "execute_result"
    }
   ],
   "source": [
    "corpus[0:10]"
   ]
  },
  {
   "cell_type": "code",
   "execution_count": 27,
   "metadata": {
    "pycharm": {
     "name": "#%%\n"
    }
   },
   "outputs": [],
   "source": [
    "##Model building\n",
    "name_model = Word2Vec(corpus, size=100, window=5, min_count=8)"
   ]
  },
  {
   "cell_type": "code",
   "execution_count": 29,
   "metadata": {
    "pycharm": {
     "name": "#%%\n"
    }
   },
   "outputs": [
    {
     "data": {
      "text/plain": [
       "True"
      ]
     },
     "execution_count": 29,
     "metadata": {},
     "output_type": "execute_result"
    }
   ],
   "source": [
    "'crushed' in set(name_model.wv.vocab.keys())"
   ]
  },
  {
   "cell_type": "code",
   "execution_count": null,
   "metadata": {
    "pycharm": {
     "name": "#%%\n"
    }
   },
   "outputs": [],
   "source": [
    "#ame_model.wv.most_similar('chicken')\n",
    "product_name_1= 'wine'\n",
    "product_name_2= 'chocolate g'\n",
    "\n",
    "def product_name_vec(product_name):\n",
    "\n",
    "    words_1 = simple_preprocess(product_name)\n",
    "    vec_1 =  np.mean([name_model.wv.get_vector(word) for word in words_1],axis=0,keepdims= True).T\n",
    "    return vec_1[:,0]/np.linalg.norm(vec_1[:,0])\n",
    "\n",
    "def cosine_sim(p1 ,p2 ):\n",
    "\n",
    "    v_1 = product_name_vec(p1)\n",
    "    v_2 = product_name_vec(p2)\n",
    "\n",
    "    ##ame_model.wv.most_similar(positive=words)\n",
    "    return v_1.dot(v_2)\n",
    "\n",
    "\n",
    "    ##name_model.wv.cosine_similarities(v_1,v_2)"
   ]
  },
  {
   "cell_type": "code",
   "execution_count": 39,
   "metadata": {
    "pycharm": {
     "name": "#%%\n"
    }
   },
   "outputs": [
    {
     "ename": "KeyError",
     "evalue": "\"word 'flip' not in vocabulary\"",
     "output_type": "error",
     "traceback": [
      "\u001b[0;31m---------------------------------------------------------------------------\u001b[0m",
      "\u001b[0;31mKeyError\u001b[0m                                  Traceback (most recent call last)",
      "\u001b[0;32m/tmp/ipykernel_15802/3037465407.py\u001b[0m in \u001b[0;36m<module>\u001b[0;34m\u001b[0m\n\u001b[1;32m      2\u001b[0m \u001b[0;34m\u001b[0m\u001b[0m\n\u001b[1;32m      3\u001b[0m \u001b[0;32mfor\u001b[0m \u001b[0mproduct_name\u001b[0m \u001b[0;32min\u001b[0m \u001b[0mdf\u001b[0m\u001b[0;34m[\u001b[0m\u001b[0;34m'product_name'\u001b[0m\u001b[0;34m]\u001b[0m\u001b[0;34m:\u001b[0m\u001b[0;34m\u001b[0m\u001b[0;34m\u001b[0m\u001b[0m\n\u001b[0;32m----> 4\u001b[0;31m     \u001b[0mvec_1\u001b[0m \u001b[0;34m=\u001b[0m \u001b[0mproduct_name_vec\u001b[0m\u001b[0;34m(\u001b[0m\u001b[0mproduct_name\u001b[0m\u001b[0;34m)\u001b[0m\u001b[0;34m\u001b[0m\u001b[0;34m\u001b[0m\u001b[0m\n\u001b[0m\u001b[1;32m      5\u001b[0m     \u001b[0mprint\u001b[0m \u001b[0;34m(\u001b[0m\u001b[0mproduct_name\u001b[0m\u001b[0;34m)\u001b[0m\u001b[0;34m\u001b[0m\u001b[0;34m\u001b[0m\u001b[0m\n\u001b[1;32m      6\u001b[0m \u001b[0;34m\u001b[0m\u001b[0m\n",
      "\u001b[0;32m/tmp/ipykernel_15802/1221411828.py\u001b[0m in \u001b[0;36mproduct_name_vec\u001b[0;34m(product_name)\u001b[0m\n\u001b[1;32m      6\u001b[0m \u001b[0;34m\u001b[0m\u001b[0m\n\u001b[1;32m      7\u001b[0m     \u001b[0mwords_1\u001b[0m \u001b[0;34m=\u001b[0m \u001b[0msimple_preprocess\u001b[0m\u001b[0;34m(\u001b[0m\u001b[0mproduct_name\u001b[0m\u001b[0;34m)\u001b[0m\u001b[0;34m\u001b[0m\u001b[0;34m\u001b[0m\u001b[0m\n\u001b[0;32m----> 8\u001b[0;31m     \u001b[0mvec_1\u001b[0m \u001b[0;34m=\u001b[0m  \u001b[0mnp\u001b[0m\u001b[0;34m.\u001b[0m\u001b[0mmean\u001b[0m\u001b[0;34m(\u001b[0m\u001b[0;34m[\u001b[0m\u001b[0mname_model\u001b[0m\u001b[0;34m.\u001b[0m\u001b[0mwv\u001b[0m\u001b[0;34m.\u001b[0m\u001b[0mget_vector\u001b[0m\u001b[0;34m(\u001b[0m\u001b[0mword\u001b[0m\u001b[0;34m)\u001b[0m \u001b[0;32mfor\u001b[0m \u001b[0mword\u001b[0m \u001b[0;32min\u001b[0m \u001b[0mwords_1\u001b[0m\u001b[0;34m]\u001b[0m\u001b[0;34m,\u001b[0m\u001b[0maxis\u001b[0m\u001b[0;34m=\u001b[0m\u001b[0;36m0\u001b[0m\u001b[0;34m,\u001b[0m\u001b[0mkeepdims\u001b[0m\u001b[0;34m=\u001b[0m \u001b[0;32mTrue\u001b[0m\u001b[0;34m)\u001b[0m\u001b[0;34m.\u001b[0m\u001b[0mT\u001b[0m\u001b[0;34m\u001b[0m\u001b[0;34m\u001b[0m\u001b[0m\n\u001b[0m\u001b[1;32m      9\u001b[0m     \u001b[0;32mreturn\u001b[0m \u001b[0mvec_1\u001b[0m\u001b[0;34m[\u001b[0m\u001b[0;34m:\u001b[0m\u001b[0;34m,\u001b[0m\u001b[0;36m0\u001b[0m\u001b[0;34m]\u001b[0m\u001b[0;34m/\u001b[0m\u001b[0mnp\u001b[0m\u001b[0;34m.\u001b[0m\u001b[0mlinalg\u001b[0m\u001b[0;34m.\u001b[0m\u001b[0mnorm\u001b[0m\u001b[0;34m(\u001b[0m\u001b[0mvec_1\u001b[0m\u001b[0;34m[\u001b[0m\u001b[0;34m:\u001b[0m\u001b[0;34m,\u001b[0m\u001b[0;36m0\u001b[0m\u001b[0;34m]\u001b[0m\u001b[0;34m)\u001b[0m\u001b[0;34m\u001b[0m\u001b[0;34m\u001b[0m\u001b[0m\n\u001b[1;32m     10\u001b[0m \u001b[0;34m\u001b[0m\u001b[0m\n",
      "\u001b[0;32m/tmp/ipykernel_15802/1221411828.py\u001b[0m in \u001b[0;36m<listcomp>\u001b[0;34m(.0)\u001b[0m\n\u001b[1;32m      6\u001b[0m \u001b[0;34m\u001b[0m\u001b[0m\n\u001b[1;32m      7\u001b[0m     \u001b[0mwords_1\u001b[0m \u001b[0;34m=\u001b[0m \u001b[0msimple_preprocess\u001b[0m\u001b[0;34m(\u001b[0m\u001b[0mproduct_name\u001b[0m\u001b[0;34m)\u001b[0m\u001b[0;34m\u001b[0m\u001b[0;34m\u001b[0m\u001b[0m\n\u001b[0;32m----> 8\u001b[0;31m     \u001b[0mvec_1\u001b[0m \u001b[0;34m=\u001b[0m  \u001b[0mnp\u001b[0m\u001b[0;34m.\u001b[0m\u001b[0mmean\u001b[0m\u001b[0;34m(\u001b[0m\u001b[0;34m[\u001b[0m\u001b[0mname_model\u001b[0m\u001b[0;34m.\u001b[0m\u001b[0mwv\u001b[0m\u001b[0;34m.\u001b[0m\u001b[0mget_vector\u001b[0m\u001b[0;34m(\u001b[0m\u001b[0mword\u001b[0m\u001b[0;34m)\u001b[0m \u001b[0;32mfor\u001b[0m \u001b[0mword\u001b[0m \u001b[0;32min\u001b[0m \u001b[0mwords_1\u001b[0m\u001b[0;34m]\u001b[0m\u001b[0;34m,\u001b[0m\u001b[0maxis\u001b[0m\u001b[0;34m=\u001b[0m\u001b[0;36m0\u001b[0m\u001b[0;34m,\u001b[0m\u001b[0mkeepdims\u001b[0m\u001b[0;34m=\u001b[0m \u001b[0;32mTrue\u001b[0m\u001b[0;34m)\u001b[0m\u001b[0;34m.\u001b[0m\u001b[0mT\u001b[0m\u001b[0;34m\u001b[0m\u001b[0;34m\u001b[0m\u001b[0m\n\u001b[0m\u001b[1;32m      9\u001b[0m     \u001b[0;32mreturn\u001b[0m \u001b[0mvec_1\u001b[0m\u001b[0;34m[\u001b[0m\u001b[0;34m:\u001b[0m\u001b[0;34m,\u001b[0m\u001b[0;36m0\u001b[0m\u001b[0;34m]\u001b[0m\u001b[0;34m/\u001b[0m\u001b[0mnp\u001b[0m\u001b[0;34m.\u001b[0m\u001b[0mlinalg\u001b[0m\u001b[0;34m.\u001b[0m\u001b[0mnorm\u001b[0m\u001b[0;34m(\u001b[0m\u001b[0mvec_1\u001b[0m\u001b[0;34m[\u001b[0m\u001b[0;34m:\u001b[0m\u001b[0;34m,\u001b[0m\u001b[0;36m0\u001b[0m\u001b[0;34m]\u001b[0m\u001b[0;34m)\u001b[0m\u001b[0;34m\u001b[0m\u001b[0;34m\u001b[0m\u001b[0m\n\u001b[1;32m     10\u001b[0m \u001b[0;34m\u001b[0m\u001b[0m\n",
      "\u001b[0;32m~/PycharmProjects/autotagger/venv/lib/python3.8/site-packages/gensim/models/keyedvectors.py\u001b[0m in \u001b[0;36mget_vector\u001b[0;34m(self, word)\u001b[0m\n\u001b[1;32m    463\u001b[0m \u001b[0;34m\u001b[0m\u001b[0m\n\u001b[1;32m    464\u001b[0m     \u001b[0;32mdef\u001b[0m \u001b[0mget_vector\u001b[0m\u001b[0;34m(\u001b[0m\u001b[0mself\u001b[0m\u001b[0;34m,\u001b[0m \u001b[0mword\u001b[0m\u001b[0;34m)\u001b[0m\u001b[0;34m:\u001b[0m\u001b[0;34m\u001b[0m\u001b[0;34m\u001b[0m\u001b[0m\n\u001b[0;32m--> 465\u001b[0;31m         \u001b[0;32mreturn\u001b[0m \u001b[0mself\u001b[0m\u001b[0;34m.\u001b[0m\u001b[0mword_vec\u001b[0m\u001b[0;34m(\u001b[0m\u001b[0mword\u001b[0m\u001b[0;34m)\u001b[0m\u001b[0;34m\u001b[0m\u001b[0;34m\u001b[0m\u001b[0m\n\u001b[0m\u001b[1;32m    466\u001b[0m \u001b[0;34m\u001b[0m\u001b[0m\n\u001b[1;32m    467\u001b[0m     \u001b[0;32mdef\u001b[0m \u001b[0mwords_closer_than\u001b[0m\u001b[0;34m(\u001b[0m\u001b[0mself\u001b[0m\u001b[0;34m,\u001b[0m \u001b[0mw1\u001b[0m\u001b[0;34m,\u001b[0m \u001b[0mw2\u001b[0m\u001b[0;34m)\u001b[0m\u001b[0;34m:\u001b[0m\u001b[0;34m\u001b[0m\u001b[0;34m\u001b[0m\u001b[0m\n",
      "\u001b[0;32m~/PycharmProjects/autotagger/venv/lib/python3.8/site-packages/gensim/models/keyedvectors.py\u001b[0m in \u001b[0;36mword_vec\u001b[0;34m(self, word, use_norm)\u001b[0m\n\u001b[1;32m    460\u001b[0m             \u001b[0;32mreturn\u001b[0m \u001b[0mresult\u001b[0m\u001b[0;34m\u001b[0m\u001b[0;34m\u001b[0m\u001b[0m\n\u001b[1;32m    461\u001b[0m         \u001b[0;32melse\u001b[0m\u001b[0;34m:\u001b[0m\u001b[0;34m\u001b[0m\u001b[0;34m\u001b[0m\u001b[0m\n\u001b[0;32m--> 462\u001b[0;31m             \u001b[0;32mraise\u001b[0m \u001b[0mKeyError\u001b[0m\u001b[0;34m(\u001b[0m\u001b[0;34m\"word '%s' not in vocabulary\"\u001b[0m \u001b[0;34m%\u001b[0m \u001b[0mword\u001b[0m\u001b[0;34m)\u001b[0m\u001b[0;34m\u001b[0m\u001b[0;34m\u001b[0m\u001b[0m\n\u001b[0m\u001b[1;32m    463\u001b[0m \u001b[0;34m\u001b[0m\u001b[0m\n\u001b[1;32m    464\u001b[0m     \u001b[0;32mdef\u001b[0m \u001b[0mget_vector\u001b[0m\u001b[0;34m(\u001b[0m\u001b[0mself\u001b[0m\u001b[0;34m,\u001b[0m \u001b[0mword\u001b[0m\u001b[0;34m)\u001b[0m\u001b[0;34m:\u001b[0m\u001b[0;34m\u001b[0m\u001b[0;34m\u001b[0m\u001b[0m\n",
      "\u001b[0;31mKeyError\u001b[0m: \"word 'flip' not in vocabulary\""
     ]
    }
   ],
   "source": [
    "df['product_name']\n",
    "\n",
    "for product_name in df['product_name']:\n",
    "    vec_1 = product_name_vec(product_name)\n",
    "    print (product_name)\n",
    "\n",
    "\n",
    "\n",
    "#cosine_sim(p1=product_name_1,p2=product_name_2)"
   ]
  },
  {
   "cell_type": "code",
   "execution_count": null,
   "metadata": {
    "pycharm": {
     "name": "#%%\n"
    }
   },
   "outputs": [],
   "source": [
    "name_model.wv.most_similar('addis')"
   ]
  },
  {
   "cell_type": "code",
   "execution_count": null,
   "metadata": {
    "pycharm": {
     "name": "#%%\n"
    }
   },
   "outputs": [],
   "source": [
    "# This will give the total number of words in the vocabolary created from this dataset:\n",
    "name_model.wv.syn0.shape"
   ]
  },
  {
   "cell_type": "markdown",
   "metadata": {
    "pycharm": {
     "name": "#%% md\n"
    }
   },
   "source": []
  },
  {
   "cell_type": "code",
   "execution_count": null,
   "metadata": {
    "pycharm": {
     "name": "#%%\n"
    }
   },
   "outputs": [],
   "source": [
    "import pickle\n",
    "with open ('word2vec_pkl','wb')as f:\n",
    "    pickle.dump(word2vec.model,f)\n"
   ]
  },
  {
   "cell_type": "markdown",
   "metadata": {},
   "source": [
    "Model creation\n",
    "Word2vec for description"
   ]
  },
  {
   "cell_type": "code",
   "execution_count": null,
   "metadata": {
    "pycharm": {
     "name": "#%%\n"
    }
   },
   "outputs": [],
   "source": [
    "sentences = [row.split() for row in text['description']]"
   ]
  },
  {
   "cell_type": "code",
   "execution_count": null,
   "metadata": {
    "pycharm": {
     "name": "#%%\n"
    }
   },
   "outputs": [],
   "source": [
    "sentences[0:1]"
   ]
  },
  {
   "cell_type": "markdown",
   "metadata": {},
   "source": [
    "Creating the model and setting values for the various parameters:\n",
    "Here are few important of the hyperparameters of this model:\n",
    "\n",
    "Size: this is the number of dimensions of the embeddings. Typical numbers is in the range of 50 to 300, we use 100 beacause we don't have that much text.\n",
    "Window: it is the maximum distance between a target word and words around the target word.\n",
    "Min_count: minimum count of words to consider when training the model. Words with occurrence less than this count will be ignored. We used for min_count 1."
   ]
  },
  {
   "cell_type": "code",
   "execution_count": null,
   "metadata": {
    "pycharm": {
     "name": "#%%\n"
    }
   },
   "outputs": [],
   "source": [
    "model = Word2Vec(sentences, min_count=1, size=100, window=3)"
   ]
  },
  {
   "cell_type": "code",
   "execution_count": null,
   "metadata": {
    "pycharm": {
     "name": "#%%\n"
    }
   },
   "outputs": [],
   "source": [
    "model.wv.most_similar('trash')"
   ]
  },
  {
   "cell_type": "code",
   "execution_count": null,
   "metadata": {
    "pycharm": {
     "name": "#%%\n"
    }
   },
   "outputs": [],
   "source": [
    "model.wv.most_similar('bins')"
   ]
  },
  {
   "cell_type": "code",
   "execution_count": null,
   "metadata": {
    "pycharm": {
     "name": "#%%\n"
    }
   },
   "outputs": [],
   "source": [
    "model.wv.most_similar('chicken')"
   ]
  },
  {
   "cell_type": "code",
   "execution_count": null,
   "metadata": {
    "pycharm": {
     "name": "#%%\n"
    }
   },
   "outputs": [],
   "source": [
    "# This will give the total number of words in the vocabolary created from this dataset:\n",
    "model.wv.syn0.shape\n"
   ]
  },
  {
   "cell_type": "code",
   "execution_count": null,
   "metadata": {
    "pycharm": {
     "name": "#%%\n"
    }
   },
   "outputs": [],
   "source": [
    "model.save('word2vec.model')"
   ]
  },
  {
   "cell_type": "markdown",
   "metadata": {},
   "source": [
    "Bigrams//\n",
    "We used Gensim Phrases package to automatically detect common phrases (bigrams) from a list of sentences:\n"
   ]
  },
  {
   "cell_type": "code",
   "execution_count": null,
   "metadata": {
    "pycharm": {
     "name": "#%%\n"
    }
   },
   "outputs": [],
   "source": [
    "bigrams = phrases.Phrases(sentences)"
   ]
  },
  {
   "cell_type": "code",
   "execution_count": null,
   "metadata": {
    "pycharm": {
     "name": "#%%\n"
    }
   },
   "outputs": [],
   "source": [
    "bigrams[sentences]\n",
    "\n",
    "bigram_model = word2vec.Word2Vec(bigrams[sentences], size=100, min_count=3, iter=20)"
   ]
  },
  {
   "cell_type": "code",
   "execution_count": null,
   "metadata": {
    "pycharm": {
     "name": "#%%\n"
    }
   },
   "outputs": [],
   "source": [
    "bigram_model.wv.most_similar('quality')\n"
   ]
  },
  {
   "cell_type": "code",
   "execution_count": null,
   "metadata": {
    "pycharm": {
     "name": "#%%\n"
    }
   },
   "outputs": [],
   "source": [
    "bigram_model.wv.most_similar('healthy')"
   ]
  },
  {
   "cell_type": "code",
   "execution_count": null,
   "metadata": {
    "pycharm": {
     "name": "#%%\n"
    }
   },
   "outputs": [],
   "source": [
    "bigram_model.wv.most_similar('wine')\n"
   ]
  },
  {
   "cell_type": "code",
   "execution_count": null,
   "metadata": {
    "pycharm": {
     "name": "#%%\n"
    }
   },
   "outputs": [],
   "source": [
    "bigram_model.wv.most_similar('robertsons')"
   ]
  },
  {
   "cell_type": "code",
   "execution_count": null,
   "metadata": {
    "pycharm": {
     "name": "#%%\n"
    }
   },
   "outputs": [],
   "source": [
    "bigram_model.wv.most_similar('smooth')"
   ]
  },
  {
   "cell_type": "code",
   "execution_count": null,
   "metadata": {
    "pycharm": {
     "name": "#%%\n"
    }
   },
   "outputs": [],
   "source": [
    "bigram_model.wv.similarity('powder', 'smooth')\n",
    "\n"
   ]
  },
  {
   "cell_type": "markdown",
   "metadata": {},
   "source": [
    "Then, given positive and negative words, we will find two best words that are similar to positive and opposite to negative words:"
   ]
  },
  {
   "cell_type": "code",
   "execution_count": null,
   "metadata": {
    "pycharm": {
     "name": "#%%\n"
    }
   },
   "outputs": [],
   "source": [
    "w1 = [\"smooth\",\"healthy\"]\n",
    "w2 = [\"trash\"]\n",
    "bigram_model.wv.most_similar (positive=w1,negative=w2,topn=2)"
   ]
  },
  {
   "cell_type": "code",
   "execution_count": null,
   "metadata": {
    "pycharm": {
     "name": "#%%\n"
    }
   },
   "outputs": [],
   "source": [
    "bigram_model.wv.syn0.shape"
   ]
  },
  {
   "cell_type": "code",
   "execution_count": null,
   "metadata": {
    "pycharm": {
     "name": "#%%\n"
    }
   },
   "outputs": [],
   "source": [
    "bigram_model.save('word2vec_bigram.model')"
   ]
  },
  {
   "cell_type": "markdown",
   "metadata": {},
   "source": [
    "Word2vec for Tags (kw_name)"
   ]
  },
  {
   "cell_type": "code",
   "execution_count": null,
   "metadata": {
    "pycharm": {
     "name": "#%%\n"
    }
   },
   "outputs": [],
   "source": [
    "sent = [row.split() for row in text['kw_name']]"
   ]
  },
  {
   "cell_type": "code",
   "execution_count": null,
   "metadata": {
    "pycharm": {
     "name": "#%%\n"
    }
   },
   "outputs": [],
   "source": [
    "sent[0:100]"
   ]
  },
  {
   "cell_type": "code",
   "execution_count": null,
   "metadata": {
    "pycharm": {
     "name": "#%%\n"
    }
   },
   "outputs": [],
   "source": [
    "tag_model = Word2Vec(sent, min_count=1, size=50, window=5)"
   ]
  },
  {
   "cell_type": "code",
   "execution_count": null,
   "metadata": {
    "pycharm": {
     "name": "#%%\n"
    }
   },
   "outputs": [],
   "source": [
    "tag_model.wv.most_similar('baby')"
   ]
  },
  {
   "cell_type": "code",
   "execution_count": null,
   "metadata": {
    "pycharm": {
     "name": "#%%\n"
    }
   },
   "outputs": [],
   "source": [
    "tag_model.wv.most_similar('organic')"
   ]
  },
  {
   "cell_type": "code",
   "execution_count": null,
   "metadata": {
    "pycharm": {
     "name": "#%%\n"
    }
   },
   "outputs": [],
   "source": []
  },
  {
   "cell_type": "markdown",
   "metadata": {},
   "source": [
    "Reduce word vector dimensionality with PCA and t-SNE.\n",
    "We used dimensionality reduction to reduce the number of dimensions from 50 to 3. In particular, we used PCA and t-SNE.\n"
   ]
  },
  {
   "cell_type": "code",
   "execution_count": null,
   "metadata": {
    "pycharm": {
     "name": "#%%\n"
    }
   },
   "outputs": [],
   "source": [
    "vocab = list(bigram_model.wv.vocab)\n",
    "len(vocab)"
   ]
  },
  {
   "cell_type": "code",
   "execution_count": null,
   "metadata": {
    "pycharm": {
     "name": "#%%\n"
    }
   },
   "outputs": [],
   "source": [
    "X = bigram_model[vocab]"
   ]
  },
  {
   "cell_type": "code",
   "execution_count": null,
   "metadata": {
    "pycharm": {
     "name": "#%%\n"
    }
   },
   "outputs": [],
   "source": [
    "pca = PCA(n_components=3, random_state=11, whiten=True)\n",
    "pca_result = pca.fit_transform(X)\n",
    "\n",
    "tmp = pd.DataFrame(pca_result, index=vocab, columns=['x', 'y', 'z'])\n",
    "\n",
    "tmp.head(3)"
   ]
  },
  {
   "cell_type": "code",
   "execution_count": null,
   "metadata": {
    "pycharm": {
     "name": "#%%\n"
    }
   },
   "outputs": [],
   "source": [
    "tmp = tmp.sample(10)"
   ]
  },
  {
   "cell_type": "code",
   "execution_count": null,
   "metadata": {
    "pycharm": {
     "name": "#%%\n"
    }
   },
   "outputs": [],
   "source": [
    "fig = plt.figure(figsize=(15, 15))\n",
    "ax = fig.add_subplot(111, projection='3d')\n",
    "\n",
    "ax.scatter(tmp['x'], tmp['y'], tmp['z'], alpha = 0.5)\n",
    "\n",
    "for word, row in tmp.iterrows():\n",
    "    x, y, z = row\n",
    "    pos = (x, y, z)\n",
    "    ax.text(x, y, z, s=word, size=8, zorder=1, color='k')\n",
    "\n",
    "plt.title('PCA')\n",
    "plt.show()\n"
   ]
  },
  {
   "cell_type": "markdown",
   "metadata": {},
   "source": [
    "TSNE\n",
    "T-SNE is a useful tool to visualize high-dimensional data by dimension reduction while keeping relative pairwise distance between points. T-SNE looking for a new data representation where the neighborhood relations are preserved."
   ]
  },
  {
   "cell_type": "code",
   "execution_count": null,
   "metadata": {
    "pycharm": {
     "name": "#%%\n"
    }
   },
   "outputs": [],
   "source": [
    "tsne = TSNE(n_components=3, random_state=11)\n",
    "tsne_result = tsne.fit_transform(X)\n",
    "\n",
    "tmp = pd.DataFrame(tsne_result, index=vocab, columns=['x', 'y', 'z'])\n",
    "\n",
    "tmp.head(3)"
   ]
  },
  {
   "cell_type": "code",
   "execution_count": null,
   "metadata": {
    "pycharm": {
     "name": "#%%\n"
    }
   },
   "outputs": [],
   "source": [
    "tmp = tmp.sample(10)"
   ]
  },
  {
   "cell_type": "code",
   "execution_count": null,
   "metadata": {
    "pycharm": {
     "name": "#%%\n"
    }
   },
   "outputs": [],
   "source": [
    "fig = plt.figure(figsize=(15, 15))\n",
    "ax = fig.add_subplot(111, projection='3d')\n",
    "\n",
    "ax.scatter(tmp['x'], tmp['y'], tmp['z'], alpha = 0.5)\n",
    "\n",
    "for word, row in tmp.iterrows():\n",
    "    x, y, z = row\n",
    "    pos = (x, y, z)\n",
    "    ax.text(x, y, z, s=word, size=8, zorder=1, color='k')\n",
    "\n",
    "plt.title('t-SNE')\n",
    "plt.show()"
   ]
  },
  {
   "cell_type": "code",
   "execution_count": null,
   "metadata": {
    "pycharm": {
     "name": "#%%\n"
    }
   },
   "outputs": [],
   "source": []
  }
 ],
 "metadata": {
  "kernelspec": {
   "display_name": "Python 3",
   "language": "python",
   "name": "python3"
  },
  "language_info": {
   "codemirror_mode": {
    "name": "ipython",
    "version": 3
   },
   "file_extension": ".py",
   "mimetype": "text/x-python",
   "name": "python",
   "nbconvert_exporter": "python",
   "pygments_lexer": "ipython3",
   "version": "3.8.5"
  }
 },
 "nbformat": 4,
 "nbformat_minor": 1
}
