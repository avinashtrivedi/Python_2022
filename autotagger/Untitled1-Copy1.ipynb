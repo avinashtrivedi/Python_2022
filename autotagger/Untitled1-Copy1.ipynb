{
 "cells": [
  {
   "cell_type": "code",
   "execution_count": 2,
   "metadata": {},
   "outputs": [],
   "source": [
    "DATA_PATH = os.path.join('snd','data')\n",
    "INTERMEDIATE_DATASETS = os.path.join(DATA_PATH,'intermediate_data')\n",
    "LEVEL1_PATH = os.path.join(os.path.join(INTERMEDIATE_DATASETS,'Level1'),'MasterData')\n",
    "LEVEL2_PATH = os.path.join(os.path.join(INTERMEDIATE_DATASETS,'Level2'),'MasterData')"
   ]
  },
  {
   "cell_type": "code",
   "execution_count": 3,
   "metadata": {},
   "outputs": [],
   "source": [
    "INTERMEDIATE_DATASETS = os.path.join(DATA_PATH,'intermediate_data')\n",
    "LEVEL1_PATH = os.path.join(os.path.join(INTERMEDIATE_DATASETS,'Level1'),'MasterData')\n",
    "LEVEL2_PATH = os.path.join(os.path.join(INTERMEDIATE_DATASETS,'Level2'),'MasterData')"
   ]
  },
  {
   "cell_type": "code",
   "execution_count": null,
   "metadata": {},
   "outputs": [],
   "source": [
    "LEVEL1_PATH = os.path.join(os.path.join(INTERMEDIATE_DATASETS,'Level1'),'MasterData')\n",
    "LEVEL2_PATH = os.path.join(os.path.join(INTERMEDIATE_DATASETS,'Level2'),'MasterData')"
   ]
  },
  {
   "cell_type": "code",
   "execution_count": 4,
   "metadata": {},
   "outputs": [
    {
     "data": {
      "text/plain": [
       "'.'"
      ]
     },
     "execution_count": 4,
     "metadata": {},
     "output_type": "execute_result"
    }
   ],
   "source": [
    "os.curdir"
   ]
  },
  {
   "cell_type": "code",
   "execution_count": null,
   "metadata": {},
   "outputs": [],
   "source": []
  },
  {
   "cell_type": "code",
   "execution_count": null,
   "metadata": {},
   "outputs": [],
   "source": [
    "DATA_PATH = Path(\"snd/data\")\n",
    "INTERMEDIATE_DATASETS = DATA_PATH / \"intermediate_data\"\n",
    "LEVEL1_PATH = INTERMEDIATE_DATASETS / \"Level1/MasterData\"\n",
    "LEVEL2_PATH = INTERMEDIATE_DATASETS / \"Level2/MasterData\"\n",
    "\n",
    "LEVEL1_PATH = os.path.join(INTERMEDIATE_DATASETS, \"LEVEL1\")\n"
   ]
  }
 ],
 "metadata": {
  "kernelspec": {
   "display_name": "Python 3 (ipykernel)",
   "language": "python",
   "name": "python3"
  },
  "language_info": {
   "codemirror_mode": {
    "name": "ipython",
    "version": 3
   },
   "file_extension": ".py",
   "mimetype": "text/x-python",
   "name": "python",
   "nbconvert_exporter": "python",
   "pygments_lexer": "ipython3",
   "version": "3.8.5"
  }
 },
 "nbformat": 4,
 "nbformat_minor": 4
}
