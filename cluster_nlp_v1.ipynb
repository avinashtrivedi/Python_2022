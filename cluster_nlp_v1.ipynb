{
 "cells": [
  {
   "cell_type": "code",
   "execution_count": 1,
   "id": "c7064949",
   "metadata": {},
   "outputs": [
    {
     "name": "stderr",
     "output_type": "stream",
     "text": [
      "[nltk_data] Downloading package stopwords to\n",
      "[nltk_data]     C:\\Users\\avitr\\AppData\\Roaming\\nltk_data...\n",
      "[nltk_data]   Package stopwords is already up-to-date!\n"
     ]
    }
   ],
   "source": [
    "import pandas as pd\n",
    "import re\n",
    "import nltk\n",
    "nltk.download('stopwords')\n",
    "\n",
    "import re                                  \n",
    "import string  \n",
    "import matplotlib.pyplot as plt\n",
    "from nltk.corpus import stopwords \n",
    "from nltk.stem import PorterStemmer\n",
    "from nltk.tokenize import TweetTokenizer  \n",
    "\n",
    "stopwords_english = stopwords.words('english') \n",
    "\n",
    "# !pip install tweet-preprocessor\n",
    "import preprocessor as p"
   ]
  },
  {
   "cell_type": "code",
   "execution_count": 2,
   "id": "692f4053",
   "metadata": {},
   "outputs": [],
   "source": [
    "from gensim.parsing.preprocessing import preprocess_string\n",
    "import warnings\n",
    "warnings.filterwarnings('ignore')"
   ]
  },
  {
   "cell_type": "code",
   "execution_count": 3,
   "id": "954cfaf8",
   "metadata": {},
   "outputs": [],
   "source": [
    "df = pd.read_csv('E:\\OneDrive - NITT\\Custom_Download\\data (2).csv',header=None,names=['tweets'])"
   ]
  },
  {
   "cell_type": "markdown",
   "id": "bbc90493",
   "metadata": {},
   "source": [
    "# EDA"
   ]
  },
  {
   "cell_type": "code",
   "execution_count": 11,
   "id": "677f86ec",
   "metadata": {},
   "outputs": [],
   "source": [
    "df['tweets_processed'] = df['tweets'].apply(lambda x :p.clean(x))"
   ]
  },
  {
   "cell_type": "code",
   "execution_count": 12,
   "id": "a30a56a7",
   "metadata": {},
   "outputs": [],
   "source": [
    "from gensim.parsing.preprocessing import remove_stopwords"
   ]
  },
  {
   "cell_type": "code",
   "execution_count": 13,
   "id": "dbd74a79",
   "metadata": {},
   "outputs": [],
   "source": [
    "df['tweets_processed']  = df['tweets_processed'] .apply(lambda x : remove_stopwords(x))"
   ]
  },
  {
   "cell_type": "code",
   "execution_count": 14,
   "id": "de099fc0",
   "metadata": {},
   "outputs": [],
   "source": [
    "df['tweets_processed'] = df['tweets_processed'].str.lower().str.replace('[^\\w\\s]',' ').str.replace('\\s\\s+', ' ')"
   ]
  },
  {
   "cell_type": "code",
   "execution_count": 15,
   "id": "292540ff",
   "metadata": {},
   "outputs": [],
   "source": [
    "df['tweets_processed']  = df['tweets_processed'] .apply(lambda x : preprocess_string(x))"
   ]
  },
  {
   "cell_type": "code",
   "execution_count": 16,
   "id": "eada18aa",
   "metadata": {},
   "outputs": [],
   "source": [
    "df['Nwords'] = df['tweets_processed'].apply(lambda x: len(x))"
   ]
  },
  {
   "cell_type": "code",
   "execution_count": 17,
   "id": "1b62dec6",
   "metadata": {},
   "outputs": [],
   "source": [
    "def clean(tweet):\n",
    "    tweet2 = re.sub(r'https?:\\/\\/.*[\\r\\n]*', '', tweet)\n",
    "    tweet2 = re.sub(r'#', '', tweet2)\n",
    "    tweet2 = re.sub(r'@', '', tweet2)\n",
    "    tweet2 = re.sub(r'[0-9]', '', tweet2)\n",
    "    return tweet2"
   ]
  },
  {
   "cell_type": "code",
   "execution_count": 18,
   "id": "9407a21f",
   "metadata": {},
   "outputs": [],
   "source": [
    "df['tweets_without_@#'] = df['tweets'].apply(lambda x: clean(x))"
   ]
  },
  {
   "cell_type": "code",
   "execution_count": 19,
   "id": "afb4f6e1",
   "metadata": {},
   "outputs": [],
   "source": [
    "df['Nchars'] = df['tweets_without_@#'].apply(lambda x: len(x))"
   ]
  },
  {
   "cell_type": "code",
   "execution_count": 20,
   "id": "82eb84ca",
   "metadata": {},
   "outputs": [
    {
     "data": {
      "text/html": [
       "<div>\n",
       "<style scoped>\n",
       "    .dataframe tbody tr th:only-of-type {\n",
       "        vertical-align: middle;\n",
       "    }\n",
       "\n",
       "    .dataframe tbody tr th {\n",
       "        vertical-align: top;\n",
       "    }\n",
       "\n",
       "    .dataframe thead th {\n",
       "        text-align: right;\n",
       "    }\n",
       "</style>\n",
       "<table border=\"1\" class=\"dataframe\">\n",
       "  <thead>\n",
       "    <tr style=\"text-align: right;\">\n",
       "      <th></th>\n",
       "      <th>tweets</th>\n",
       "      <th>tweets_processed</th>\n",
       "      <th>Nwords</th>\n",
       "      <th>tweets_without_@#</th>\n",
       "      <th>Nchars</th>\n",
       "    </tr>\n",
       "  </thead>\n",
       "  <tbody>\n",
       "    <tr>\n",
       "      <th>0</th>\n",
       "      <td>@115712 I understand. I would like to assist y...</td>\n",
       "      <td>[understand, like, assist, need, privat, secur...</td>\n",
       "      <td>8</td>\n",
       "      <td>I understand. I would like to assist you. We ...</td>\n",
       "      <td>114</td>\n",
       "    </tr>\n",
       "    <tr>\n",
       "      <th>1</th>\n",
       "      <td>@sprintcare and how do you propose we do that</td>\n",
       "      <td>[propos]</td>\n",
       "      <td>1</td>\n",
       "      <td>sprintcare and how do you propose we do that</td>\n",
       "      <td>44</td>\n",
       "    </tr>\n",
       "    <tr>\n",
       "      <th>2</th>\n",
       "      <td>@sprintcare I have sent several private messag...</td>\n",
       "      <td>[sent, privat, messag, respond, usual]</td>\n",
       "      <td>5</td>\n",
       "      <td>sprintcare I have sent several private message...</td>\n",
       "      <td>81</td>\n",
       "    </tr>\n",
       "    <tr>\n",
       "      <th>3</th>\n",
       "      <td>@115712 Please send us a Private Message so th...</td>\n",
       "      <td>[send, privat, messag, assist, click, messag, ...</td>\n",
       "      <td>7</td>\n",
       "      <td>Please send us a Private Message so that we c...</td>\n",
       "      <td>117</td>\n",
       "    </tr>\n",
       "    <tr>\n",
       "      <th>4</th>\n",
       "      <td>@sprintcare I did.</td>\n",
       "      <td>[]</td>\n",
       "      <td>0</td>\n",
       "      <td>sprintcare I did.</td>\n",
       "      <td>17</td>\n",
       "    </tr>\n",
       "    <tr>\n",
       "      <th>...</th>\n",
       "      <td>...</td>\n",
       "      <td>...</td>\n",
       "      <td>...</td>\n",
       "      <td>...</td>\n",
       "      <td>...</td>\n",
       "    </tr>\n",
       "    <tr>\n",
       "      <th>1048571</th>\n",
       "      <td>@393038 ... Along with your More card and addr...</td>\n",
       "      <td>[card, address, detail, sort, thank, sammi]</td>\n",
       "      <td>6</td>\n",
       "      <td>... Along with your More card and address det...</td>\n",
       "      <td>99</td>\n",
       "    </tr>\n",
       "    <tr>\n",
       "      <th>1048572</th>\n",
       "      <td>@Morrisons  https://t.co/mnGeW3E7N8</td>\n",
       "      <td>[]</td>\n",
       "      <td>0</td>\n",
       "      <td>Morrisons</td>\n",
       "      <td>11</td>\n",
       "    </tr>\n",
       "    <tr>\n",
       "      <th>1048573</th>\n",
       "      <td>@Morrisons watford, bought crayfish tails the ...</td>\n",
       "      <td>[watford, bought, crayfish, tail, dai, eat]</td>\n",
       "      <td>6</td>\n",
       "      <td>Morrisons watford, bought crayfish tails the o...</td>\n",
       "      <td>80</td>\n",
       "    </tr>\n",
       "    <tr>\n",
       "      <th>1048574</th>\n",
       "      <td>@393038 Hi Adam, I'm really sorry about this. ...</td>\n",
       "      <td>[adam, sorri, tell, barcod, batch, number, loo...</td>\n",
       "      <td>9</td>\n",
       "      <td>Hi Adam, I'm really sorry about this. Can you...</td>\n",
       "      <td>121</td>\n",
       "    </tr>\n",
       "    <tr>\n",
       "      <th>1048575</th>\n",
       "      <td>@393039 Hey William, aw so glad you like them ...</td>\n",
       "      <td>[hei, william, glad, like, barcod, fed, thank,...</td>\n",
       "      <td>8</td>\n",
       "      <td>Hey William, aw so glad you like them :) Can ...</td>\n",
       "      <td>120</td>\n",
       "    </tr>\n",
       "  </tbody>\n",
       "</table>\n",
       "<p>1048576 rows × 5 columns</p>\n",
       "</div>"
      ],
      "text/plain": [
       "                                                    tweets  \\\n",
       "0        @115712 I understand. I would like to assist y...   \n",
       "1            @sprintcare and how do you propose we do that   \n",
       "2        @sprintcare I have sent several private messag...   \n",
       "3        @115712 Please send us a Private Message so th...   \n",
       "4                                       @sprintcare I did.   \n",
       "...                                                    ...   \n",
       "1048571  @393038 ... Along with your More card and addr...   \n",
       "1048572                @Morrisons  https://t.co/mnGeW3E7N8   \n",
       "1048573  @Morrisons watford, bought crayfish tails the ...   \n",
       "1048574  @393038 Hi Adam, I'm really sorry about this. ...   \n",
       "1048575  @393039 Hey William, aw so glad you like them ...   \n",
       "\n",
       "                                          tweets_processed  Nwords  \\\n",
       "0        [understand, like, assist, need, privat, secur...       8   \n",
       "1                                                 [propos]       1   \n",
       "2                   [sent, privat, messag, respond, usual]       5   \n",
       "3        [send, privat, messag, assist, click, messag, ...       7   \n",
       "4                                                       []       0   \n",
       "...                                                    ...     ...   \n",
       "1048571        [card, address, detail, sort, thank, sammi]       6   \n",
       "1048572                                                 []       0   \n",
       "1048573        [watford, bought, crayfish, tail, dai, eat]       6   \n",
       "1048574  [adam, sorri, tell, barcod, batch, number, loo...       9   \n",
       "1048575  [hei, william, glad, like, barcod, fed, thank,...       8   \n",
       "\n",
       "                                         tweets_without_@#  Nchars  \n",
       "0         I understand. I would like to assist you. We ...     114  \n",
       "1             sprintcare and how do you propose we do that      44  \n",
       "2        sprintcare I have sent several private message...      81  \n",
       "3         Please send us a Private Message so that we c...     117  \n",
       "4                                        sprintcare I did.      17  \n",
       "...                                                    ...     ...  \n",
       "1048571   ... Along with your More card and address det...      99  \n",
       "1048572                                        Morrisons        11  \n",
       "1048573  Morrisons watford, bought crayfish tails the o...      80  \n",
       "1048574   Hi Adam, I'm really sorry about this. Can you...     121  \n",
       "1048575   Hey William, aw so glad you like them :) Can ...     120  \n",
       "\n",
       "[1048576 rows x 5 columns]"
      ]
     },
     "execution_count": 20,
     "metadata": {},
     "output_type": "execute_result"
    }
   ],
   "source": [
    "df"
   ]
  },
  {
   "cell_type": "code",
   "execution_count": 21,
   "id": "ad38f6fc",
   "metadata": {},
   "outputs": [
    {
     "data": {
      "image/png": "[encoded data removed]",
      "text/plain": [
       "<Figure size 432x288 with 1 Axes>"
      ]
     },
     "metadata": {
      "needs_background": "light"
     },
     "output_type": "display_data"
    }
   ],
   "source": [
    "plt.hist(df['Nchars'],color='r')\n",
    "plt.show()"
   ]
  },
  {
   "cell_type": "code",
   "execution_count": 22,
   "id": "eee3a3fc",
   "metadata": {},
   "outputs": [
    {
     "data": {
      "image/png": "[encoded data removed]",
      "text/plain": [
       "<Figure size 432x288 with 1 Axes>"
      ]
     },
     "metadata": {
      "needs_background": "light"
     },
     "output_type": "display_data"
    }
   ],
   "source": [
    "plt.hist(df['Nwords'],color='g')\n",
    "plt.show()"
   ]
  },
  {
   "cell_type": "code",
   "execution_count": 23,
   "id": "c0103463",
   "metadata": {},
   "outputs": [],
   "source": [
    "import seaborn as sns"
   ]
  },
  {
   "cell_type": "code",
   "execution_count": 24,
   "id": "8044e6eb",
   "metadata": {},
   "outputs": [],
   "source": [
    "def remove_punc(x):\n",
    "    txt = [word for word in x.split() if word not in string.punctuation]\n",
    "    return ' '.join(txt)"
   ]
  },
  {
   "cell_type": "code",
   "execution_count": 25,
   "id": "a5089a6c",
   "metadata": {},
   "outputs": [],
   "source": [
    "df['tweets_without_@#'] = df['tweets_without_@#'].apply(lambda x: remove_punc(x))"
   ]
  },
  {
   "cell_type": "code",
   "execution_count": 26,
   "id": "4dd9bddd",
   "metadata": {},
   "outputs": [],
   "source": [
    "def avg(x):\n",
    "    txt = [len(word) for word in x.split()]\n",
    "    \n",
    "    return sum(txt)/max(len(txt),1)"
   ]
  },
  {
   "cell_type": "code",
   "execution_count": 27,
   "id": "61068307",
   "metadata": {},
   "outputs": [],
   "source": [
    "df = df[df['Nchars']!=0]"
   ]
  },
  {
   "cell_type": "code",
   "execution_count": 28,
   "id": "6b0281dc",
   "metadata": {},
   "outputs": [],
   "source": [
    "df['avg_word_len'] = df['tweets_without_@#'].apply(lambda x: avg(x))"
   ]
  },
  {
   "cell_type": "code",
   "execution_count": 29,
   "id": "4c843ffb",
   "metadata": {},
   "outputs": [
    {
     "data": {
      "text/html": [
       "<div>\n",
       "<style scoped>\n",
       "    .dataframe tbody tr th:only-of-type {\n",
       "        vertical-align: middle;\n",
       "    }\n",
       "\n",
       "    .dataframe tbody tr th {\n",
       "        vertical-align: top;\n",
       "    }\n",
       "\n",
       "    .dataframe thead th {\n",
       "        text-align: right;\n",
       "    }\n",
       "</style>\n",
       "<table border=\"1\" class=\"dataframe\">\n",
       "  <thead>\n",
       "    <tr style=\"text-align: right;\">\n",
       "      <th></th>\n",
       "      <th>tweets</th>\n",
       "      <th>tweets_processed</th>\n",
       "      <th>Nwords</th>\n",
       "      <th>tweets_without_@#</th>\n",
       "      <th>Nchars</th>\n",
       "      <th>avg_word_len</th>\n",
       "    </tr>\n",
       "  </thead>\n",
       "  <tbody>\n",
       "    <tr>\n",
       "      <th>0</th>\n",
       "      <td>@115712 I understand. I would like to assist y...</td>\n",
       "      <td>[understand, like, assist, need, privat, secur...</td>\n",
       "      <td>8</td>\n",
       "      <td>I understand. I would like to assist you. We w...</td>\n",
       "      <td>114</td>\n",
       "      <td>4.181818</td>\n",
       "    </tr>\n",
       "    <tr>\n",
       "      <th>1</th>\n",
       "      <td>@sprintcare and how do you propose we do that</td>\n",
       "      <td>[propos]</td>\n",
       "      <td>1</td>\n",
       "      <td>sprintcare and how do you propose we do that</td>\n",
       "      <td>44</td>\n",
       "      <td>4.000000</td>\n",
       "    </tr>\n",
       "    <tr>\n",
       "      <th>2</th>\n",
       "      <td>@sprintcare I have sent several private messag...</td>\n",
       "      <td>[sent, privat, messag, respond, usual]</td>\n",
       "      <td>5</td>\n",
       "      <td>sprintcare I have sent several private message...</td>\n",
       "      <td>81</td>\n",
       "      <td>4.857143</td>\n",
       "    </tr>\n",
       "    <tr>\n",
       "      <th>3</th>\n",
       "      <td>@115712 Please send us a Private Message so th...</td>\n",
       "      <td>[send, privat, messag, assist, click, messag, ...</td>\n",
       "      <td>7</td>\n",
       "      <td>Please send us a Private Message so that we ca...</td>\n",
       "      <td>117</td>\n",
       "      <td>4.318182</td>\n",
       "    </tr>\n",
       "    <tr>\n",
       "      <th>4</th>\n",
       "      <td>@sprintcare I did.</td>\n",
       "      <td>[]</td>\n",
       "      <td>0</td>\n",
       "      <td>sprintcare I did.</td>\n",
       "      <td>17</td>\n",
       "      <td>5.000000</td>\n",
       "    </tr>\n",
       "    <tr>\n",
       "      <th>...</th>\n",
       "      <td>...</td>\n",
       "      <td>...</td>\n",
       "      <td>...</td>\n",
       "      <td>...</td>\n",
       "      <td>...</td>\n",
       "      <td>...</td>\n",
       "    </tr>\n",
       "    <tr>\n",
       "      <th>1048571</th>\n",
       "      <td>@393038 ... Along with your More card and addr...</td>\n",
       "      <td>[card, address, detail, sort, thank, sammi]</td>\n",
       "      <td>6</td>\n",
       "      <td>... Along with your More card and address deta...</td>\n",
       "      <td>99</td>\n",
       "      <td>4.105263</td>\n",
       "    </tr>\n",
       "    <tr>\n",
       "      <th>1048572</th>\n",
       "      <td>@Morrisons  https://t.co/mnGeW3E7N8</td>\n",
       "      <td>[]</td>\n",
       "      <td>0</td>\n",
       "      <td>Morrisons</td>\n",
       "      <td>11</td>\n",
       "      <td>9.000000</td>\n",
       "    </tr>\n",
       "    <tr>\n",
       "      <th>1048573</th>\n",
       "      <td>@Morrisons watford, bought crayfish tails the ...</td>\n",
       "      <td>[watford, bought, crayfish, tail, dai, eat]</td>\n",
       "      <td>6</td>\n",
       "      <td>Morrisons watford, bought crayfish tails the o...</td>\n",
       "      <td>80</td>\n",
       "      <td>4.714286</td>\n",
       "    </tr>\n",
       "    <tr>\n",
       "      <th>1048574</th>\n",
       "      <td>@393038 Hi Adam, I'm really sorry about this. ...</td>\n",
       "      <td>[adam, sorri, tell, barcod, batch, number, loo...</td>\n",
       "      <td>9</td>\n",
       "      <td>Hi Adam, I'm really sorry about this. Can you ...</td>\n",
       "      <td>121</td>\n",
       "      <td>4.260870</td>\n",
       "    </tr>\n",
       "    <tr>\n",
       "      <th>1048575</th>\n",
       "      <td>@393039 Hey William, aw so glad you like them ...</td>\n",
       "      <td>[hei, william, glad, like, barcod, fed, thank,...</td>\n",
       "      <td>8</td>\n",
       "      <td>Hey William, aw so glad you like them :) Can y...</td>\n",
       "      <td>120</td>\n",
       "      <td>3.720000</td>\n",
       "    </tr>\n",
       "  </tbody>\n",
       "</table>\n",
       "<p>1048405 rows × 6 columns</p>\n",
       "</div>"
      ],
      "text/plain": [
       "                                                    tweets  \\\n",
       "0        @115712 I understand. I would like to assist y...   \n",
       "1            @sprintcare and how do you propose we do that   \n",
       "2        @sprintcare I have sent several private messag...   \n",
       "3        @115712 Please send us a Private Message so th...   \n",
       "4                                       @sprintcare I did.   \n",
       "...                                                    ...   \n",
       "1048571  @393038 ... Along with your More card and addr...   \n",
       "1048572                @Morrisons  https://t.co/mnGeW3E7N8   \n",
       "1048573  @Morrisons watford, bought crayfish tails the ...   \n",
       "1048574  @393038 Hi Adam, I'm really sorry about this. ...   \n",
       "1048575  @393039 Hey William, aw so glad you like them ...   \n",
       "\n",
       "                                          tweets_processed  Nwords  \\\n",
       "0        [understand, like, assist, need, privat, secur...       8   \n",
       "1                                                 [propos]       1   \n",
       "2                   [sent, privat, messag, respond, usual]       5   \n",
       "3        [send, privat, messag, assist, click, messag, ...       7   \n",
       "4                                                       []       0   \n",
       "...                                                    ...     ...   \n",
       "1048571        [card, address, detail, sort, thank, sammi]       6   \n",
       "1048572                                                 []       0   \n",
       "1048573        [watford, bought, crayfish, tail, dai, eat]       6   \n",
       "1048574  [adam, sorri, tell, barcod, batch, number, loo...       9   \n",
       "1048575  [hei, william, glad, like, barcod, fed, thank,...       8   \n",
       "\n",
       "                                         tweets_without_@#  Nchars  \\\n",
       "0        I understand. I would like to assist you. We w...     114   \n",
       "1             sprintcare and how do you propose we do that      44   \n",
       "2        sprintcare I have sent several private message...      81   \n",
       "3        Please send us a Private Message so that we ca...     117   \n",
       "4                                        sprintcare I did.      17   \n",
       "...                                                    ...     ...   \n",
       "1048571  ... Along with your More card and address deta...      99   \n",
       "1048572                                          Morrisons      11   \n",
       "1048573  Morrisons watford, bought crayfish tails the o...      80   \n",
       "1048574  Hi Adam, I'm really sorry about this. Can you ...     121   \n",
       "1048575  Hey William, aw so glad you like them :) Can y...     120   \n",
       "\n",
       "         avg_word_len  \n",
       "0            4.181818  \n",
       "1            4.000000  \n",
       "2            4.857143  \n",
       "3            4.318182  \n",
       "4            5.000000  \n",
       "...               ...  \n",
       "1048571      4.105263  \n",
       "1048572      9.000000  \n",
       "1048573      4.714286  \n",
       "1048574      4.260870  \n",
       "1048575      3.720000  \n",
       "\n",
       "[1048405 rows x 6 columns]"
      ]
     },
     "execution_count": 29,
     "metadata": {},
     "output_type": "execute_result"
    }
   ],
   "source": [
    "df"
   ]
  },
  {
   "cell_type": "code",
   "execution_count": 30,
   "id": "5fc9277b",
   "metadata": {},
   "outputs": [
    {
     "data": {
      "image/png": "[encoded data removed]",
      "text/plain": [
       "<Figure size 432x288 with 1 Axes>"
      ]
     },
     "metadata": {
      "needs_background": "light"
     },
     "output_type": "display_data"
    }
   ],
   "source": [
    "sns.distplot(df['avg_word_len'],color='red')\n",
    "plt.show()"
   ]
  },
  {
   "cell_type": "code",
   "execution_count": 31,
   "id": "4280b4df",
   "metadata": {},
   "outputs": [
    {
     "data": {
      "text/html": [
       "<div>\n",
       "<style scoped>\n",
       "    .dataframe tbody tr th:only-of-type {\n",
       "        vertical-align: middle;\n",
       "    }\n",
       "\n",
       "    .dataframe tbody tr th {\n",
       "        vertical-align: top;\n",
       "    }\n",
       "\n",
       "    .dataframe thead th {\n",
       "        text-align: right;\n",
       "    }\n",
       "</style>\n",
       "<table border=\"1\" class=\"dataframe\">\n",
       "  <thead>\n",
       "    <tr style=\"text-align: right;\">\n",
       "      <th></th>\n",
       "      <th>tweets</th>\n",
       "      <th>tweets_processed</th>\n",
       "      <th>Nwords</th>\n",
       "      <th>tweets_without_@#</th>\n",
       "      <th>Nchars</th>\n",
       "      <th>avg_word_len</th>\n",
       "    </tr>\n",
       "  </thead>\n",
       "  <tbody>\n",
       "    <tr>\n",
       "      <th>0</th>\n",
       "      <td>@115712 I understand. I would like to assist y...</td>\n",
       "      <td>[understand, like, assist, need, privat, secur...</td>\n",
       "      <td>8</td>\n",
       "      <td>I understand. I would like to assist you. We w...</td>\n",
       "      <td>114</td>\n",
       "      <td>4.181818</td>\n",
       "    </tr>\n",
       "    <tr>\n",
       "      <th>1</th>\n",
       "      <td>@sprintcare and how do you propose we do that</td>\n",
       "      <td>[propos]</td>\n",
       "      <td>1</td>\n",
       "      <td>sprintcare and how do you propose we do that</td>\n",
       "      <td>44</td>\n",
       "      <td>4.000000</td>\n",
       "    </tr>\n",
       "    <tr>\n",
       "      <th>2</th>\n",
       "      <td>@sprintcare I have sent several private messag...</td>\n",
       "      <td>[sent, privat, messag, respond, usual]</td>\n",
       "      <td>5</td>\n",
       "      <td>sprintcare I have sent several private message...</td>\n",
       "      <td>81</td>\n",
       "      <td>4.857143</td>\n",
       "    </tr>\n",
       "    <tr>\n",
       "      <th>3</th>\n",
       "      <td>@115712 Please send us a Private Message so th...</td>\n",
       "      <td>[send, privat, messag, assist, click, messag, ...</td>\n",
       "      <td>7</td>\n",
       "      <td>Please send us a Private Message so that we ca...</td>\n",
       "      <td>117</td>\n",
       "      <td>4.318182</td>\n",
       "    </tr>\n",
       "    <tr>\n",
       "      <th>4</th>\n",
       "      <td>@sprintcare I did.</td>\n",
       "      <td>[]</td>\n",
       "      <td>0</td>\n",
       "      <td>sprintcare I did.</td>\n",
       "      <td>17</td>\n",
       "      <td>5.000000</td>\n",
       "    </tr>\n",
       "    <tr>\n",
       "      <th>...</th>\n",
       "      <td>...</td>\n",
       "      <td>...</td>\n",
       "      <td>...</td>\n",
       "      <td>...</td>\n",
       "      <td>...</td>\n",
       "      <td>...</td>\n",
       "    </tr>\n",
       "    <tr>\n",
       "      <th>1048571</th>\n",
       "      <td>@393038 ... Along with your More card and addr...</td>\n",
       "      <td>[card, address, detail, sort, thank, sammi]</td>\n",
       "      <td>6</td>\n",
       "      <td>... Along with your More card and address deta...</td>\n",
       "      <td>99</td>\n",
       "      <td>4.105263</td>\n",
       "    </tr>\n",
       "    <tr>\n",
       "      <th>1048572</th>\n",
       "      <td>@Morrisons  https://t.co/mnGeW3E7N8</td>\n",
       "      <td>[]</td>\n",
       "      <td>0</td>\n",
       "      <td>Morrisons</td>\n",
       "      <td>11</td>\n",
       "      <td>9.000000</td>\n",
       "    </tr>\n",
       "    <tr>\n",
       "      <th>1048573</th>\n",
       "      <td>@Morrisons watford, bought crayfish tails the ...</td>\n",
       "      <td>[watford, bought, crayfish, tail, dai, eat]</td>\n",
       "      <td>6</td>\n",
       "      <td>Morrisons watford, bought crayfish tails the o...</td>\n",
       "      <td>80</td>\n",
       "      <td>4.714286</td>\n",
       "    </tr>\n",
       "    <tr>\n",
       "      <th>1048574</th>\n",
       "      <td>@393038 Hi Adam, I'm really sorry about this. ...</td>\n",
       "      <td>[adam, sorri, tell, barcod, batch, number, loo...</td>\n",
       "      <td>9</td>\n",
       "      <td>Hi Adam, I'm really sorry about this. Can you ...</td>\n",
       "      <td>121</td>\n",
       "      <td>4.260870</td>\n",
       "    </tr>\n",
       "    <tr>\n",
       "      <th>1048575</th>\n",
       "      <td>@393039 Hey William, aw so glad you like them ...</td>\n",
       "      <td>[hei, william, glad, like, barcod, fed, thank,...</td>\n",
       "      <td>8</td>\n",
       "      <td>Hey William, aw so glad you like them :) Can y...</td>\n",
       "      <td>120</td>\n",
       "      <td>3.720000</td>\n",
       "    </tr>\n",
       "  </tbody>\n",
       "</table>\n",
       "<p>1048405 rows × 6 columns</p>\n",
       "</div>"
      ],
      "text/plain": [
       "                                                    tweets  \\\n",
       "0        @115712 I understand. I would like to assist y...   \n",
       "1            @sprintcare and how do you propose we do that   \n",
       "2        @sprintcare I have sent several private messag...   \n",
       "3        @115712 Please send us a Private Message so th...   \n",
       "4                                       @sprintcare I did.   \n",
       "...                                                    ...   \n",
       "1048571  @393038 ... Along with your More card and addr...   \n",
       "1048572                @Morrisons  https://t.co/mnGeW3E7N8   \n",
       "1048573  @Morrisons watford, bought crayfish tails the ...   \n",
       "1048574  @393038 Hi Adam, I'm really sorry about this. ...   \n",
       "1048575  @393039 Hey William, aw so glad you like them ...   \n",
       "\n",
       "                                          tweets_processed  Nwords  \\\n",
       "0        [understand, like, assist, need, privat, secur...       8   \n",
       "1                                                 [propos]       1   \n",
       "2                   [sent, privat, messag, respond, usual]       5   \n",
       "3        [send, privat, messag, assist, click, messag, ...       7   \n",
       "4                                                       []       0   \n",
       "...                                                    ...     ...   \n",
       "1048571        [card, address, detail, sort, thank, sammi]       6   \n",
       "1048572                                                 []       0   \n",
       "1048573        [watford, bought, crayfish, tail, dai, eat]       6   \n",
       "1048574  [adam, sorri, tell, barcod, batch, number, loo...       9   \n",
       "1048575  [hei, william, glad, like, barcod, fed, thank,...       8   \n",
       "\n",
       "                                         tweets_without_@#  Nchars  \\\n",
       "0        I understand. I would like to assist you. We w...     114   \n",
       "1             sprintcare and how do you propose we do that      44   \n",
       "2        sprintcare I have sent several private message...      81   \n",
       "3        Please send us a Private Message so that we ca...     117   \n",
       "4                                        sprintcare I did.      17   \n",
       "...                                                    ...     ...   \n",
       "1048571  ... Along with your More card and address deta...      99   \n",
       "1048572                                          Morrisons      11   \n",
       "1048573  Morrisons watford, bought crayfish tails the o...      80   \n",
       "1048574  Hi Adam, I'm really sorry about this. Can you ...     121   \n",
       "1048575  Hey William, aw so glad you like them :) Can y...     120   \n",
       "\n",
       "         avg_word_len  \n",
       "0            4.181818  \n",
       "1            4.000000  \n",
       "2            4.857143  \n",
       "3            4.318182  \n",
       "4            5.000000  \n",
       "...               ...  \n",
       "1048571      4.105263  \n",
       "1048572      9.000000  \n",
       "1048573      4.714286  \n",
       "1048574      4.260870  \n",
       "1048575      3.720000  \n",
       "\n",
       "[1048405 rows x 6 columns]"
      ]
     },
     "execution_count": 31,
     "metadata": {},
     "output_type": "execute_result"
    }
   ],
   "source": [
    "df"
   ]
  },
  {
   "cell_type": "code",
   "execution_count": 32,
   "id": "b43e4cf6",
   "metadata": {},
   "outputs": [],
   "source": [
    "# x = [0]*len(string.punctuation)\n",
    "punc = []\n",
    "def f(x):\n",
    "    for i in x:\n",
    "        if i in string.punctuation:\n",
    "            punc.append(i)"
   ]
  },
  {
   "cell_type": "code",
   "execution_count": 33,
   "id": "424e557d",
   "metadata": {},
   "outputs": [],
   "source": [
    "for i in df['tweets']:\n",
    "    f(i)"
   ]
  },
  {
   "cell_type": "code",
   "execution_count": 34,
   "id": "9edea5d4",
   "metadata": {},
   "outputs": [],
   "source": [
    "from collections import Counter"
   ]
  },
  {
   "cell_type": "code",
   "execution_count": 35,
   "id": "0f23fa11",
   "metadata": {},
   "outputs": [
    {
     "data": {
      "text/plain": [
       "<AxesSubplot:ylabel='count'>"
      ]
     },
     "execution_count": 35,
     "metadata": {},
     "output_type": "execute_result"
    },
    {
     "data": {
      "image/png": "[encoded data removed]",
      "text/plain": [
       "<Figure size 432x288 with 1 Axes>"
      ]
     },
     "metadata": {
      "needs_background": "light"
     },
     "output_type": "display_data"
    }
   ],
   "source": [
    "sns.countplot(punc)"
   ]
  },
  {
   "cell_type": "code",
   "execution_count": 36,
   "id": "97b29031",
   "metadata": {},
   "outputs": [],
   "source": [
    "words = []\n",
    "for line in df['tweets_processed']:\n",
    "    for j in line:\n",
    "        words.append(j.lower())"
   ]
  },
  {
   "cell_type": "code",
   "execution_count": 37,
   "id": "e4a9637a",
   "metadata": {},
   "outputs": [],
   "source": [
    "words = Counter(words)\n",
    "words = sorted(words.items(),key=lambda x: x[1],reverse=True)"
   ]
  },
  {
   "cell_type": "code",
   "execution_count": 38,
   "id": "7a08fa30",
   "metadata": {},
   "outputs": [],
   "source": [
    "d = words[:50]\n",
    "x,y=zip(*d)"
   ]
  },
  {
   "cell_type": "code",
   "execution_count": 39,
   "id": "6ef26f9e",
   "metadata": {},
   "outputs": [
    {
     "data": {
      "image/png": "[encoded data removed]",
      "text/plain": [
       "<Figure size 720x360 with 1 Axes>"
      ]
     },
     "metadata": {
      "needs_background": "light"
     },
     "output_type": "display_data"
    }
   ],
   "source": [
    "plt.figure(figsize=(10,5))\n",
    "plt.bar(x,y,color='green')\n",
    "plt.xticks(rotation=90)\n",
    "plt.show()"
   ]
  },
  {
   "cell_type": "markdown",
   "id": "8ffffd80",
   "metadata": {},
   "source": [
    "# Topic Modeling"
   ]
  },
  {
   "cell_type": "code",
   "execution_count": 40,
   "id": "e4b80b1b",
   "metadata": {},
   "outputs": [],
   "source": [
    "import gensim\n",
    "from gensim.corpora import Dictionary\n",
    "from gensim.models import LdaModel, CoherenceModel, LsiModel, HdpModel\n",
    "from gensim.models.wrappers import LdaMallet"
   ]
  },
  {
   "cell_type": "code",
   "execution_count": 41,
   "id": "3798068f",
   "metadata": {},
   "outputs": [],
   "source": [
    "df = df[df['tweets_processed'].apply(lambda x: True if len(x)!=0 else False)]"
   ]
  },
  {
   "cell_type": "code",
   "execution_count": 42,
   "id": "3c9b4002",
   "metadata": {},
   "outputs": [],
   "source": [
    "df = df[df['tweets_processed'].apply(lambda x: False if len(x)<=2 else True)]"
   ]
  },
  {
   "cell_type": "code",
   "execution_count": 43,
   "id": "2a5f1dc2",
   "metadata": {},
   "outputs": [],
   "source": [
    "texts = df['tweets_processed'].to_list()"
   ]
  },
  {
   "cell_type": "code",
   "execution_count": 44,
   "id": "ba380a75",
   "metadata": {},
   "outputs": [],
   "source": [
    "dictionary = Dictionary(texts)\n",
    "corpus = [dictionary.doc2bow(text) for text in texts]"
   ]
  },
  {
   "cell_type": "markdown",
   "id": "e0d5d787",
   "metadata": {},
   "source": [
    "# LSI - Latent Semantic Indexing"
   ]
  },
  {
   "cell_type": "code",
   "execution_count": 45,
   "id": "0a7f65a8",
   "metadata": {},
   "outputs": [],
   "source": [
    "corpus = corpus[:100]"
   ]
  },
  {
   "cell_type": "code",
   "execution_count": 46,
   "id": "60281e4d",
   "metadata": {},
   "outputs": [
    {
     "name": "stdout",
     "output_type": "stream",
     "text": [
      "Topic: 0 \n",
      "Words: servic|becki|messag|account|help|send|privat|need|assist|custom|like|locat|sorri|hsb|dont|link|number|glad|look|concern|detail|secur|yall|understand|email|thank|acct|pai|have|share\n",
      "Topic: 1 \n",
      "Words: servic|messag|send|privat|assist|account|custom|need|like|link|understand|dont|yall|router|light|chang|nice|trippin|rep|start|go|imma|super|pai|worst|concern|equip|inform|color|bcw\n",
      "Topic: 2 \n",
      "Words: becki|help|servic|messag|sorri|send|treat|thank|privat|account|assist|share|need|halloween|glad|trick|happi|boorito|feel|tell|link|incred|great|look|investig|concern|dont|got|best|work\n",
      "Topic: 3 \n",
      "Words: need|messag|account|inform|send|order|correct|local|form|hsb|privat|assist|offic|number|servic|follow|email|locat|wai|incorrect|oc|takeov|consent|download|assumpt|outlet|wit|pertain|us|chat\n",
      "Topic: 4 \n",
      "Words: treat|help|walk|trick|halloween|happi|look|boorito|chipotl|share|year|glad|sorri|spend|dollar|home|routin|earlier|old|forward|got|thank|charg|have|friend|kind|hsb|messag|onesi|meat\n",
      "Topic: 5 \n",
      "Words: charg|meat|extra|raw|dont|order|packag|bag|thank|help|sainsburi|waitros|unwrap|wrap|legisl|requir|suffici|app|frustrat|wrong|credit|saturdai|card|dinner|twice|prepackag|oblig|appli|need|provid\n",
      "Topic: 6 \n",
      "Words: download|store|bought|corrupt|data|won|let|playstat|star|war|lego|offic|open|inconveni|game|try|till|hour|wait|feel|free|charg|becki|know|send|privat|assist|help|extra|state\n",
      "Topic: 7 \n",
      "Words: order|dont|offic|hsb|frustrat|app|look|download|wrong|meat|follow|becki|twice|dinner|credit|card|saturdai|raw|inform|funni|rest|beat|right|check|wonder|lidl|gov|legal|state|locat\n",
      "Topic: 8 \n",
      "Words: help|becki|walk|account|inform|need|have|year|glad|custom|chipotl|share|servic|locat|commun|arriv|troubl|incorrect|thank|download|hsb|spend|routin|home|dollar|extra|dont|trick|issu|great\n",
      "Topic: 9 \n",
      "Words: extra|becki|order|thank|dont|locat|offic|inform|state|packag|bag|funni|check|legal|lidl|beat|rest|right|gov|wonder|share|suffici|wrap|legisl|requir|download|store|glad|hsb|feel\n"
     ]
    }
   ],
   "source": [
    "lsi_model = LsiModel(corpus=corpus, num_topics=10, id2word=dictionary)\n",
    "# lsi_model.show_topics(num_topics=10)\n",
    "for idx, topic in lsi_model.show_topics(formatted=False, num_words= 30):\n",
    "    print('Topic: {} \\nWords: {}'.format(idx, '|'.join([w[0] for w in topic])))"
   ]
  },
  {
   "cell_type": "markdown",
   "id": "8911c3f4",
   "metadata": {},
   "source": [
    "# LDA"
   ]
  },
  {
   "cell_type": "code",
   "execution_count": 47,
   "id": "e3e5ce36",
   "metadata": {},
   "outputs": [
    {
     "name": "stdout",
     "output_type": "stream",
     "text": [
      "Topic: 0 \n",
      "Words: servic|assist|look|locat|messag|hsb|privat|excel|old|copi|kind|think|profil|need|duke|plenti|state|link|secur|line|understand|peopl|click|forward|area|halloween|treat|follow|happi|earlier\n",
      "Topic: 1 \n",
      "Words: order|extra|charg|corrupt|let|thank|data|fix|need|bag|download|inform|packag|mayb|sorri|wrap|requir|feel|dinner|prepackag|saturdai|spooki|playstat|shoot|provid|credit|liter|appli|form|us\n",
      "Topic: 2 \n",
      "Words: becki|concern|download|messag|like|send|want|glad|come|dai|adult|bought|pai|invit|point|incred|contact|dress|todai|feel|boorito|dont|llama|halloween|investig|copi|hei|basic|respond|particip\n",
      "Topic: 3 \n",
      "Words: depart|experi|unawa|guac|email|try|offic|liter|corpor|format|worst|gone|equip|number|great|becki|happi|pai|area|servic|particular|phone|iv|isp|help|messag|account|jai|like|acm\n",
      "Topic: 4 \n",
      "Words: glad|becki|parti|life|share|inconveni|fun|collin|suck|like|connect|phone|pertain|heard|ethernet|need|help|assist|acct|tell|correct|dont|account|prais|wifi|assumpt|downstair|local|count|concern\n",
      "Topic: 5 \n",
      "Words: servic|help|custom|becki|treat|raw|account|meat|acct|refer|worst|dont|internet|look|walk|residenti|best|waitros|trick|have|kind|sainsburi|chang|devic|issu|forum|light|valid|explain|apolog\n",
      "Topic: 6 \n",
      "Words: send|help|account|offic|sorri|privat|messag|oc|check|rest|arriv|gov|blog|link|email|share|form|wai|ey|new|wonder|info|troubl|gain|beat|takeov|local|state|won|happi\n",
      "Topic: 7 \n",
      "Words: walk|routin|av|home|word|chipotl|necessari|awesom|dress|year|tweet|abl|how|need|treat|awai|avocado|er|suffoc|pair|authent|jai|spend|trick|hsb|mind|dollar|verifi|account|boorito\n",
      "Topic: 8 \n",
      "Words: yall|thank|got|issu|light|jai|plu|router|offici|inconveni|wont|lie|hello|experienc|like|stop|long|happi|final|free|apolog|year|costum|extra|load|contact|quac|quickli|custom|tell\n",
      "Topic: 9 \n",
      "Words: becki|sorri|burrito|thank|feel|need|skill|btw|closest|actual|corpor|chipotl|sure|internetz|on|far|fianc|receiv|internet|chang|offic|moment|minut|theyr|stop|incorrect|connect|diminish|bummer|fit\n"
     ]
    }
   ],
   "source": [
    "lda_model = LdaModel(corpus=corpus, num_topics=10, id2word=dictionary)\n",
    "for idx, topic in lda_model.show_topics(formatted=False, num_words= 30):\n",
    "    print('Topic: {} \\nWords: {}'.format(idx, '|'.join([w[0] for w in topic])))"
   ]
  },
  {
   "cell_type": "code",
   "execution_count": 48,
   "id": "b4eb990d",
   "metadata": {},
   "outputs": [
    {
     "name": "stdout",
     "output_type": "stream",
     "text": [
      "Requirement already satisfied: pyLDAvis in c:\\users\\avitr\\anaconda3\\lib\\site-packages (3.3.1)"
     ]
    },
    {
     "name": "stderr",
     "output_type": "stream",
     "text": [
      "WARNING: Ignoring invalid distribution -rpcio (c:\\users\\avitr\\anaconda3\\lib\\site-packages)\n",
      "WARNING: Ignoring invalid distribution -rpcio (c:\\users\\avitr\\anaconda3\\lib\\site-packages)\n",
      "WARNING: Ignoring invalid distribution -rpcio (c:\\users\\avitr\\anaconda3\\lib\\site-packages)\n",
      "WARNING: Ignoring invalid distribution -rpcio (c:\\users\\avitr\\anaconda3\\lib\\site-packages)\n",
      "WARNING: Ignoring invalid distribution -rpcio (c:\\users\\avitr\\anaconda3\\lib\\site-packages)\n",
      "WARNING: Ignoring invalid distribution -rpcio (c:\\users\\avitr\\anaconda3\\lib\\site-packages)\n"
     ]
    },
    {
     "name": "stdout",
     "output_type": "stream",
     "text": [
      "\n",
      "Requirement already satisfied: future in c:\\users\\avitr\\anaconda3\\lib\\site-packages (from pyLDAvis) (0.18.2)\n",
      "Requirement already satisfied: joblib in c:\\users\\avitr\\appdata\\roaming\\python\\python38\\site-packages (from pyLDAvis) (1.0.1)\n",
      "Requirement already satisfied: pandas>=1.2.0 in c:\\users\\avitr\\anaconda3\\lib\\site-packages (from pyLDAvis) (1.4.1)\n",
      "Requirement already satisfied: scipy in c:\\users\\avitr\\appdata\\roaming\\python\\python38\\site-packages (from pyLDAvis) (1.7.3)\n",
      "Requirement already satisfied: gensim in c:\\users\\avitr\\anaconda3\\lib\\site-packages (from pyLDAvis) (3.8.3)\n",
      "Requirement already satisfied: setuptools in c:\\users\\avitr\\anaconda3\\lib\\site-packages (from pyLDAvis) (60.10.0)\n",
      "Requirement already satisfied: sklearn in c:\\users\\avitr\\anaconda3\\lib\\site-packages (from pyLDAvis) (0.0)\n",
      "Requirement already satisfied: jinja2 in c:\\users\\avitr\\anaconda3\\lib\\site-packages (from pyLDAvis) (2.11.3)\n",
      "Requirement already satisfied: numpy>=1.20.0 in c:\\users\\avitr\\appdata\\roaming\\python\\python38\\site-packages (from pyLDAvis) (1.21.6)\n",
      "Requirement already satisfied: numexpr in c:\\users\\avitr\\anaconda3\\lib\\site-packages (from pyLDAvis) (2.8.1)\n",
      "Requirement already satisfied: scikit-learn in c:\\users\\avitr\\anaconda3\\lib\\site-packages (from pyLDAvis) (1.0.2)\n",
      "Requirement already satisfied: funcy in c:\\users\\avitr\\anaconda3\\lib\\site-packages (from pyLDAvis) (1.17)\n",
      "Requirement already satisfied: pytz>=2020.1 in c:\\users\\avitr\\anaconda3\\lib\\site-packages (from pandas>=1.2.0->pyLDAvis) (2021.3)\n",
      "Requirement already satisfied: python-dateutil>=2.8.1 in c:\\users\\avitr\\anaconda3\\lib\\site-packages (from pandas>=1.2.0->pyLDAvis) (2.8.2)\n",
      "Requirement already satisfied: smart-open>=1.8.1 in c:\\users\\avitr\\anaconda3\\lib\\site-packages (from gensim->pyLDAvis) (2.2.1)\n",
      "Requirement already satisfied: Cython==0.29.14 in c:\\users\\avitr\\anaconda3\\lib\\site-packages (from gensim->pyLDAvis) (0.29.14)\n",
      "Requirement already satisfied: six>=1.5.0 in c:\\users\\avitr\\anaconda3\\lib\\site-packages (from gensim->pyLDAvis) (1.16.0)\n",
      "Requirement already satisfied: MarkupSafe>=0.23 in c:\\users\\avitr\\anaconda3\\lib\\site-packages (from jinja2->pyLDAvis) (2.0.1)\n",
      "Requirement already satisfied: packaging in c:\\users\\avitr\\anaconda3\\lib\\site-packages (from numexpr->pyLDAvis) (21.3)\n",
      "Requirement already satisfied: threadpoolctl>=2.0.0 in c:\\users\\avitr\\anaconda3\\lib\\site-packages (from scikit-learn->pyLDAvis) (2.2.0)\n",
      "Requirement already satisfied: boto3 in c:\\users\\avitr\\anaconda3\\lib\\site-packages (from smart-open>=1.8.1->gensim->pyLDAvis) (1.20.24)\n",
      "Requirement already satisfied: requests in c:\\users\\avitr\\anaconda3\\lib\\site-packages (from smart-open>=1.8.1->gensim->pyLDAvis) (2.27.1)\n",
      "Requirement already satisfied: pyparsing!=3.0.5,>=2.0.2 in c:\\users\\avitr\\anaconda3\\lib\\site-packages (from packaging->numexpr->pyLDAvis) (3.0.4)\n",
      "Requirement already satisfied: botocore<1.24.0,>=1.23.24 in c:\\users\\avitr\\anaconda3\\lib\\site-packages (from boto3->smart-open>=1.8.1->gensim->pyLDAvis) (1.23.24)\n",
      "Requirement already satisfied: s3transfer<0.6.0,>=0.5.0 in c:\\users\\avitr\\anaconda3\\lib\\site-packages (from boto3->smart-open>=1.8.1->gensim->pyLDAvis) (0.5.0)\n",
      "Requirement already satisfied: jmespath<1.0.0,>=0.7.1 in c:\\users\\avitr\\anaconda3\\lib\\site-packages (from boto3->smart-open>=1.8.1->gensim->pyLDAvis) (0.10.0)\n",
      "Requirement already satisfied: urllib3<1.27,>=1.21.1 in c:\\users\\avitr\\anaconda3\\lib\\site-packages (from requests->smart-open>=1.8.1->gensim->pyLDAvis) (1.26.8)\n",
      "Requirement already satisfied: certifi>=2017.4.17 in c:\\users\\avitr\\anaconda3\\lib\\site-packages (from requests->smart-open>=1.8.1->gensim->pyLDAvis) (2021.10.8)\n",
      "Requirement already satisfied: charset-normalizer~=2.0.0 in c:\\users\\avitr\\anaconda3\\lib\\site-packages (from requests->smart-open>=1.8.1->gensim->pyLDAvis) (2.0.12)\n",
      "Requirement already satisfied: idna<4,>=2.5 in c:\\users\\avitr\\anaconda3\\lib\\site-packages (from requests->smart-open>=1.8.1->gensim->pyLDAvis) (3.3)\n"
     ]
    }
   ],
   "source": [
    "!pip install pyLDAvis"
   ]
  },
  {
   "cell_type": "code",
   "execution_count": 49,
   "id": "664fd2a5",
   "metadata": {},
   "outputs": [],
   "source": [
    "import pyLDAvis\n",
    "import pyLDAvis.gensim_models as gensimvis\n",
    "pyLDAvis.enable_notebook()"
   ]
  },
  {
   "cell_type": "code",
   "execution_count": 50,
   "id": "8c60738a",
   "metadata": {},
   "outputs": [
    {
     "data": {
      "text/html": [
       "\n",
       "<link rel=\"stylesheet\" type=\"text/css\" href=\"https://cdn.jsdelivr.net/gh/bmabey/pyLDAvis@3.3.1/pyLDAvis/js/ldavis.v1.0.0.css\">\n",
       "\n",
       "\n",
       "<div id=\"ldavis_el1490023597510672321541839377\"></div>\n",
       "<script type=\"text/javascript\">\n",
       "\n",
       "var ldavis_el1490023597510672321541839377_data = {\"mdsDat\": {\"x\": [-0.002629659358800881, 0.0009265148374607003, 0.0009137653584088847, 0.0003768856460601963, -1.0979015274359007e-05, 0.00018604140359885767, 0.0001023340764701356, 0.00016888451092214298, -5.865506835566942e-05, 2.4867609509992087e-05], \"y\": [0.00011286638785463047, 0.0017154256379994777, -0.0012233388193943645, -4.931100440076002e-05, 0.0004728062513144023, -0.0010796506256507722, 0.00039871902730992566, -5.3008962404514544e-06, -0.0002216828465027031, -0.0001205331122893846], \"topics\": [1, 2, 3, 4, 5, 6, 7, 8, 9, 10], \"cluster\": [1, 1, 1, 1, 1, 1, 1, 1, 1, 1], \"Freq\": [15.972980802625287, 13.001015368449927, 12.460366204616511, 10.937592504965696, 10.587749435474796, 10.074486443585414, 9.684583660289327, 6.908678030447736, 5.752461480520675, 4.62008606902463]}, \"tinfo\": {\"Term\": [\"servic\", \"help\", \"becki\", \"download\", \"send\", \"messag\", \"thank\", \"glad\", \"concern\", \"assist\", \"extra\", \"order\", \"charg\", \"account\", \"look\", \"sorri\", \"privat\", \"walk\", \"offic\", \"jai\", \"treat\", \"worst\", \"hsb\", \"inform\", \"acct\", \"custom\", \"burrito\", \"got\", \"issu\", \"light\", \"corrupt\", \"let\", \"data\", \"bag\", \"packag\", \"extra\", \"order\", \"charg\", \"mayb\", \"wrap\", \"requir\", \"dinner\", \"prepackag\", \"saturdai\", \"spooki\", \"playstat\", \"shoot\", \"credit\", \"appli\", \"us\", \"suffici\", \"oblig\", \"thing\", \"maintain\", \"chat\", \"team\", \"goe\", \"coke\", \"diet\", \"joel\", \"fix\", \"inform\", \"download\", \"thank\", \"need\", \"liter\", \"sorri\", \"feel\", \"provid\", \"form\", \"want\", \"concern\", \"come\", \"adult\", \"invit\", \"point\", \"todai\", \"hei\", \"basic\", \"respond\", \"wait\", \"particip\", \"didnt\", \"promis\", \"eat\", \"mean\", \"direct\", \"pictur\", \"pretti\", \"spectrum\", \"train\", \"wanna\", \"month\", \"block\", \"mammoth\", \"mess\", \"join\", \"version\", \"usual\", \"till\", \"download\", \"becki\", \"messag\", \"like\", \"send\", \"dai\", \"incred\", \"contact\", \"bought\", \"glad\", \"pai\", \"dress\", \"feel\", \"boorito\", \"dont\", \"llama\", \"halloween\", \"investig\", \"copi\", \"raw\", \"refer\", \"worst\", \"acct\", \"residenti\", \"waitros\", \"sainsburi\", \"devic\", \"forum\", \"valid\", \"explain\", \"luck\", \"wireless\", \"unwrap\", \"transfer\", \"bcw\", \"color\", \"refus\", \"meeeeee\", \"serial\", \"somebodi\", \"fio\", \"duo\", \"servic\", \"meat\", \"treat\", \"equip\", \"custom\", \"help\", \"internet\", \"account\", \"becki\", \"dont\", \"best\", \"have\", \"kind\", \"look\", \"walk\", \"trick\", \"chang\", \"issu\", \"light\", \"apolog\", \"excel\", \"old\", \"think\", \"profil\", \"duke\", \"plenti\", \"line\", \"peopl\", \"click\", \"forward\", \"earlier\", \"fast\", \"went\", \"time\", \"nhp\", \"assist\", \"start\", \"nice\", \"go\", \"trippin\", \"imma\", \"rep\", \"super\", \"area\", \"look\", \"servic\", \"tonight\", \"cut\", \"hello\", \"state\", \"hsb\", \"privat\", \"locat\", \"messag\", \"kind\", \"understand\", \"secur\", \"follow\", \"copi\", \"link\", \"need\", \"halloween\", \"treat\", \"happi\", \"oc\", \"check\", \"rest\", \"arriv\", \"gov\", \"blog\", \"ey\", \"new\", \"wonder\", \"info\", \"troubl\", \"gain\", \"beat\", \"takeov\", \"address\", \"access\", \"lidl\", \"consent\", \"legal\", \"funni\", \"consid\", \"right\", \"offic\", \"local\", \"correct\", \"send\", \"moment\", \"state\", \"have\", \"updat\", \"privat\", \"sorri\", \"account\", \"help\", \"messag\", \"form\", \"wai\", \"link\", \"email\", \"share\", \"won\", \"happi\", \"plu\", \"offici\", \"wont\", \"lie\", \"experienc\", \"long\", \"final\", \"load\", \"quac\", \"quickli\", \"bowl\", \"lte\", \"support\", \"close\", \"enabl\", \"cozi\", \"shortcod\", \"rule\", \"smh\", \"red\", \"target\", \"happen\", \"resolv\", \"bar\", \"novemb\", \"definit\", \"queso\", \"got\", \"yall\", \"issu\", \"light\", \"jai\", \"thank\", \"year\", \"hello\", \"stop\", \"router\", \"inconveni\", \"like\", \"happi\", \"free\", \"apolog\", \"costum\", \"extra\", \"contact\", \"custom\", \"tell\", \"skill\", \"btw\", \"closest\", \"actual\", \"sure\", \"internetz\", \"on\", \"fianc\", \"far\", \"receiv\", \"minut\", \"theyr\", \"diminish\", \"bummer\", \"fit\", \"ridicul\", \"magic\", \"videogam\", \"plai\", \"famili\", \"broken\", \"select\", \"drive\", \"love\", \"give\", \"mississippi\", \"veggi\", \"gonna\", \"burrito\", \"corpor\", \"sorri\", \"becki\", \"thank\", \"chipotl\", \"moment\", \"feel\", \"need\", \"internet\", \"chang\", \"offic\", \"stop\", \"incorrect\", \"connect\", \"parti\", \"life\", \"fun\", \"collin\", \"suck\", \"pertain\", \"heard\", \"ethernet\", \"prais\", \"wifi\", \"assumpt\", \"downstair\", \"count\", \"sarah\", \"wit\", \"outlet\", \"glad\", \"phone\", \"correct\", \"local\", \"incred\", \"connect\", \"tell\", \"apolog\", \"router\", \"work\", \"acct\", \"inconveni\", \"know\", \"share\", \"becki\", \"like\", \"assist\", \"need\", \"help\", \"dont\", \"account\", \"concern\", \"routin\", \"av\", \"home\", \"word\", \"necessari\", \"awesom\", \"tweet\", \"abl\", \"how\", \"avocado\", \"er\", \"suffoc\", \"pair\", \"authent\", \"spend\", \"mind\", \"dollar\", \"verifi\", \"qualifi\", \"walk\", \"awai\", \"chipotl\", \"year\", \"dress\", \"trick\", \"jai\", \"treat\", \"boorito\", \"hsb\", \"need\", \"account\", \"depart\", \"experi\", \"unawa\", \"guac\", \"format\", \"gone\", \"particular\", \"iv\", \"isp\", \"phone\", \"corpor\", \"area\", \"equip\", \"try\", \"liter\", \"great\", \"email\", \"worst\", \"pai\", \"number\", \"offic\", \"happi\", \"carrier\", \"deliveredplast\", \"good\", \"handl\", \"includ\", \"isnt\", \"lessit\", \"micron\", \"servic\", \"becki\", \"help\", \"messag\", \"account\", \"jai\", \"like\", \"acm\"], \"Freq\": [0.0, 0.0, 0.0, 0.0, 0.0, 0.0, 0.0, 0.0, 0.0, 0.0, 0.0, 0.0, 0.0, 0.0, 0.0, 0.0, 0.0, 0.0, 0.0, 0.0, 0.0, 0.0, 0.0, 0.0, 0.0, 0.0, 0.0, 0.0, 0.0, 0.0, 0.020159144740639214, 0.020156631905742555, 0.020120971908421218, 0.020091870761625597, 0.02001784610145021, 0.029522813963355342, 0.029728028813249083, 0.02948966094350666, 0.010592963869206053, 0.01057351722152096, 0.010571169126674345, 0.010570284655650113, 0.01056465859989664, 0.010561471429061805, 0.010560455898175539, 0.010559163604005202, 0.010557471540646757, 0.010556928996748616, 0.01055354706656573, 0.010552347759001416, 0.010550966871293055, 0.010545702511471676, 0.010534563155376759, 0.01053327012902842, 0.010531955869518076, 0.010531754520568024, 0.010531220030627883, 0.010530643074363731, 0.010529185307965351, 0.010526582415174669, 0.020113098066207157, 0.02003261120300208, 0.020043826705609016, 0.020141289847926538, 0.020107165960049602, 0.010556122136592405, 0.01057370905215701, 0.010570756178282237, 0.01055705859225465, 0.01055255642973147, 0.01636156127710629, 0.02424644207986777, 0.008616226937023337, 0.0086149885581891, 0.008598694162575195, 0.008596133376314024, 0.008590883675086503, 0.008582527299719004, 0.008582169731239436, 0.008580306203513422, 0.008578916454022836, 0.008578951614923325, 0.008576351496129403, 0.008575624440220947, 0.008574373546489926, 0.008571312760304825, 0.008570305013139911, 0.008569504655693144, 0.008569442677156687, 0.008565818720616267, 0.008560720390045096, 0.008559873548695987, 0.008558999889710909, 0.008558185825472426, 0.00855417033144688, 0.008547039224069367, 0.008546642919004512, 0.008542936125766325, 0.008539082133504051, 0.008538677485174674, 0.02422953385836394, 0.03967475916046158, 0.02413010121556573, 0.016422418240433796, 0.016371357461551515, 0.008615028486669318, 0.008595039812714013, 0.008594737071401312, 0.008608581526982712, 0.008622636352019588, 0.008605224554907035, 0.008594702506448287, 0.00859051061197282, 0.0085905004808659, 0.00858958152987341, 0.00858464052943325, 0.008584576167106927, 0.008584249587895589, 0.008583921816789318, 0.0157206410859448, 0.015616697070151253, 0.015411419262164749, 0.01561820951481085, 0.008250794572167935, 0.008242453279944089, 0.008235508485904802, 0.008234377008234612, 0.008231529751199836, 0.008230122400882145, 0.008229992175284567, 0.008227999952107577, 0.008227788049929059, 0.008210047668083491, 0.00820788009728169, 0.008204825507387612, 0.008201393948658438, 0.008198386194286294, 0.008191917751774991, 0.008188882581487568, 0.008187432393802253, 0.008182259353287917, 0.008160894930141313, 0.04850919959349848, 0.01563437805084705, 0.015742207130301687, 0.008223457477644672, 0.016696776753169645, 0.03065160100215214, 0.008253110645844167, 0.01571842610845616, 0.015747211677170036, 0.00972837189917758, 0.008244352974407012, 0.008238161546873013, 0.008236693081910844, 0.008252813068930403, 0.008252380125934945, 0.008239298165027317, 0.008234588339248228, 0.008232159746086367, 0.008230699277432823, 0.008228117612077318, 0.007268454687247613, 0.007268251133792519, 0.007256382864361528, 0.007254442087453478, 0.0072512278480431165, 0.007246591241263048, 0.007235848030830163, 0.007232543546045621, 0.007226589858165721, 0.007224115630823632, 0.007219108516646236, 0.007207637828224827, 0.007202948578309819, 0.007200895997410424, 0.007196788830158875, 0.020396994752296834, 0.006319388708325222, 0.006290503169503109, 0.0062805250392979906, 0.006228183223637043, 0.006200029675072164, 0.0061941822761885194, 0.0060918314877891665, 0.007222988566372767, 0.02039008396208744, 0.037746667938314646, 0.007214186634211122, 0.007205144549081522, 0.007142704276049883, 0.007245863261911333, 0.013780590969835079, 0.013779981312196177, 0.01379598883612287, 0.013781864432337391, 0.0072585021265651785, 0.0072328363421485155, 0.007238512776184408, 0.007219970359969651, 0.00726268449829521, 0.007245161854808681, 0.0072530041778248846, 0.007222218973876291, 0.007222052521297249, 0.007219663024334251, 0.007044822268083357, 0.007038475162924867, 0.007035023032706765, 0.007029930497576926, 0.007026459924936739, 0.007024109972101641, 0.007015612868789603, 0.007014469438620357, 0.007013356584045619, 0.007011672014386259, 0.007010700875265434, 0.007008080110021831, 0.007007646713102843, 0.00700680952420558, 0.006998976833415485, 0.006997142297744962, 0.006990526321485555, 0.006986194778930154, 0.006981054196437516, 0.006980394151857645, 0.0069749031633454, 0.006965507719947081, 0.01339684427336636, 0.007006210630814727, 0.00699381635252007, 0.019741583948560425, 0.006993113599173268, 0.007001022000959289, 0.006997773222711015, 0.006983054228579903, 0.013329685708018332, 0.013364080825206142, 0.01961862152594573, 0.01970534167720277, 0.013285891750143925, 0.007015930757907114, 0.007015618207385469, 0.007018176850786261, 0.007017972042835743, 0.007016941693833489, 0.007000731775474905, 0.00700008677602884, 0.006694799471975321, 0.006685778215331791, 0.006681261814514094, 0.006680614833169963, 0.00667938367523745, 0.00667525056814968, 0.006673185400004818, 0.006664990302979169, 0.006663705114484725, 0.006662808761316305, 0.006659737793480141, 0.006656398981832702, 0.006654071973272336, 0.006650985304247235, 0.006649097928977099, 0.00664812861146009, 0.006647151443348613, 0.006643260781090014, 0.006642132142685264, 0.0066421967946397095, 0.006638523640027851, 0.006636176312281803, 0.00663299035632666, 0.006625406220270521, 0.0066241408891620866, 0.006614916440661728, 0.00658753726155338, 0.012707277917921067, 0.012746483786696208, 0.012683324368798984, 0.012656273991058958, 0.012606407938595092, 0.01272818913078681, 0.006667577766556015, 0.006679792367949481, 0.006675562282930043, 0.006693344803000296, 0.0066839093120486396, 0.006676244822849117, 0.0066740323406080555, 0.0066726709551673015, 0.006669182982224964, 0.006666404333582828, 0.006665508442214082, 0.006664264353890679, 0.0066620384794590535, 0.0066603058070799125, 0.006434870744592958, 0.006434007306377246, 0.0064300412616373126, 0.006428642447335148, 0.006426017506373964, 0.006423273149022019, 0.006423209223519159, 0.0064185559796234816, 0.006418598596625388, 0.006417377353164501, 0.006413548037972352, 0.006412324130948846, 0.0064044359902521945, 0.006403545028556085, 0.006402978577572409, 0.006398617437710633, 0.006395968968612979, 0.006393709379657722, 0.006392560496314656, 0.006391888834607524, 0.006389550670555002, 0.006388905644474061, 0.0063879147991797326, 0.006379940092697959, 0.006376731831523177, 0.006373229246678978, 0.00636271749680245, 0.0063412855841144585, 0.012266684276581213, 0.0064277528174203485, 0.012266893810173922, 0.018058890632422515, 0.012255144835460793, 0.006427454498407002, 0.006413663015092079, 0.0064509999480333, 0.0064401472621415205, 0.006417317866932674, 0.006416853519182733, 0.006414163320937378, 0.006409099444471246, 0.0064085258906539195, 0.006405821486741263, 0.0045982990347444375, 0.0045977454717020935, 0.004593463908582822, 0.004591987529347463, 0.0045899256020198315, 0.004583581794889264, 0.004582432549877442, 0.004580456127138731, 0.004572884854131663, 0.0045723170403245, 0.004571466111322911, 0.004569319312773684, 0.004567625371862072, 0.004566336469355014, 0.004561332234117533, 0.004552548062682447, 0.012876115777764666, 0.00458801916637057, 0.004576138145398252, 0.004568487384791855, 0.004536160633190363, 0.0045891956461773815, 0.004576895969403017, 0.004565809507740334, 0.004564628911045907, 0.004548926468316175, 0.004577324442398607, 0.004593820177703323, 0.004539615968633734, 0.004595948925283777, 0.008755585034224671, 0.00458932960336669, 0.004577543587493173, 0.004579673601808279, 0.004579017116575567, 0.0045751956948181524, 0.004574757087945357, 0.004566602800315317, 0.0038425389672301817, 0.0038333013118997607, 0.003830557412109039, 0.0038304400725542747, 0.0038274369710055017, 0.0038267379436803814, 0.0038224731123124075, 0.0038213898968270828, 0.0038205814404789805, 0.003813890712697914, 0.003813026618942946, 0.003812040702998538, 0.0038115826832083705, 0.0038113796462259705, 0.0038060603409714793, 0.0037979127569205936, 0.0037970739768673272, 0.003787512517102637, 0.003774527379182773, 0.007278158597496988, 0.003816516745565087, 0.003827886552895102, 0.0038225609192151858, 0.0038241401250432303, 0.0038058277713370935, 0.003809015451960776, 0.003817677484261873, 0.003784147376882649, 0.0038032291616467645, 0.0038198892689480708, 0.0037853513598198425, 0.003081875972177231, 0.0030764320077938646, 0.003075630216416154, 0.0030752881950017316, 0.003066338458176046, 0.0030627630107830494, 0.0030507698128139204, 0.0030448982687180347, 0.003032460972355071, 0.0030501984358627682, 0.0030692796305621115, 0.003052871497344401, 0.0030625442441445986, 0.003072891291987224, 0.0030698749384233752, 0.0030604982572190673, 0.0030737032487072823, 0.003062771905457604, 0.0030549763585443653, 0.0030616867551619387, 0.003070284305230854, 0.003055109566884719, 0.0002846236824374628, 0.0002846236824374628, 0.0002846236824374628, 0.0002846236824374628, 0.0002846236824374628, 0.0002846236824374628, 0.0002846236824374628, 0.0002846236824374628, 0.003051774487482663, 0.0030559077580370143, 0.00028479051052985357, 0.0002847319803946146, 0.00028472896255860497, 0.00028472660652873784, 0.0002847217885800207, 0.00028472176210777504], \"Total\": [0.0, 0.0, 0.0, 0.0, 0.0, 0.0, 0.0, 0.0, 0.0, 0.0, 0.0, 0.0, 0.0, 0.0, 0.0, 0.0, 0.0, 0.0, 0.0, 0.0, 0.0, 0.0, 0.0, 0.0, 0.0, 0.0, 0.0, 0.0, 0.0, 0.0, 0.025315877950437257, 0.025313380352655554, 0.025277673921974896, 0.025248635783694955, 0.025174718431395668, 0.04072744560933241, 0.041408405247168746, 0.042105363187400706, 0.015749541172205346, 0.015730089931473054, 0.015727737808010695, 0.015726853133742967, 0.015721278852604794, 0.015718049019079746, 0.015717101444393342, 0.015715746420837427, 0.015714260715404965, 0.01571351267295465, 0.015710168547915307, 0.015708939587132324, 0.015707571607428618, 0.015702318806728215, 0.015691321289133107, 0.015689882428427004, 0.015688555635483038, 0.015688414348640316, 0.015688028000202213, 0.015687305404543713, 0.01568586682026118, 0.015683264323515318, 0.03161455976912894, 0.035117389553738214, 0.048634345806230043, 0.04906929578721255, 0.05165321919097288, 0.018498172290982006, 0.040118007091337594, 0.03571924981663819, 0.030919229121826132, 0.022075786376068142, 0.021699082853188893, 0.03372606353750841, 0.013953400134194908, 0.013952174212751963, 0.013935908934842305, 0.013933579159672974, 0.013928143842686203, 0.01391974028469169, 0.013919367397527822, 0.013917591958644324, 0.0139161834270343, 0.013916395142239068, 0.013913653485450064, 0.013912839971630467, 0.013911615232034186, 0.01390852172432291, 0.013907542528302097, 0.013906829020072857, 0.013906778670604044, 0.013903097512527041, 0.013897990864749622, 0.013897125573043814, 0.013896351138769351, 0.013895443433861692, 0.013891424417336004, 0.013884394046005685, 0.013883914591056172, 0.013880191567966604, 0.013876491847688332, 0.013875991716151264, 0.048634345806230043, 0.10141873739134968, 0.06475483350335999, 0.04430131190515289, 0.047310949421247445, 0.02138980196766203, 0.018043966306843028, 0.019978116647390395, 0.023491844035374097, 0.03386418035518242, 0.02417427476810591, 0.023201665748432982, 0.03571924981663819, 0.03340378578676753, 0.038634212931973395, 0.020257924865132202, 0.040031835340241455, 0.02135185075910824, 0.026264129050078862, 0.021090896959018487, 0.02098761767826205, 0.023561189509099353, 0.025141296581191436, 0.013621003609199097, 0.013612567017050044, 0.01360561680874188, 0.013604513643437281, 0.0136016536705614, 0.013600361572650007, 0.013600150355651224, 0.013598148881729295, 0.013598046748213275, 0.013580206330224602, 0.013578052041137507, 0.013574969325511077, 0.01357153986104399, 0.013568662021871033, 0.013562120390381533, 0.013559091923862288, 0.013557641581668249, 0.013552441838963902, 0.013531447586451655, 0.09372374388427543, 0.030539622683156926, 0.03112724376316586, 0.01637172459315817, 0.033612223015447626, 0.06521957927242922, 0.019446159826706676, 0.06316075550962923, 0.10141873739134968, 0.038634212931973395, 0.01964846380997959, 0.019956883576261727, 0.020194424050470484, 0.048888387768356405, 0.02686850935157076, 0.023584667684644536, 0.02545157187079538, 0.025667791666074358, 0.02563966903215056, 0.023790634269628616, 0.0127308255717141, 0.012730613318337716, 0.01271893277933705, 0.012716856296115964, 0.012713655088812571, 0.012708978200082599, 0.012698271780865083, 0.012694971426535044, 0.012689070783774244, 0.012686513813296506, 0.012681521574772743, 0.01267006956896498, 0.01266538387290289, 0.01266354376716093, 0.012659314864248473, 0.037777524255961085, 0.012830719727184943, 0.012819051711545123, 0.012829068240254548, 0.012798698135094133, 0.012796355912483388, 0.012852350378447449, 0.012845212826555784, 0.015454034724364376, 0.048888387768356405, 0.09372374388427543, 0.01847441727049766, 0.01847342461870616, 0.0186670308684304, 0.01905999906872965, 0.03859436543287295, 0.0396886020367058, 0.04232176475922885, 0.06475483350335999, 0.020194424050470484, 0.020471858074638284, 0.022207250590785325, 0.02222302214392567, 0.026264129050078862, 0.024869193555155815, 0.05165321919097288, 0.040031835340241455, 0.03112724376316586, 0.027859602120133803, 0.01252880691284323, 0.012522451349695471, 0.01251899673475956, 0.012514000834947735, 0.012510450963592587, 0.012508132067312824, 0.012499652613317537, 0.012498511487508057, 0.012497349876947925, 0.012495704541759188, 0.012494787967003543, 0.012492209919957538, 0.01249165452909266, 0.012490831154037197, 0.012483298274709172, 0.012481238074796692, 0.012474548791266792, 0.012470261311440686, 0.012465078092697889, 0.012464428008829014, 0.012459089144307463, 0.012449550409372654, 0.02748662840020181, 0.016634007087827824, 0.01662923331243899, 0.047310949421247445, 0.018296465556833466, 0.01905999906872965, 0.019956883576261727, 0.020243629306670244, 0.0396886020367058, 0.040118007091337594, 0.06316075550962923, 0.06521957927242922, 0.06475483350335999, 0.022075786376068142, 0.02206510130529333, 0.024869193555155815, 0.023035509744601793, 0.033650442606179866, 0.02976821174749459, 0.027859602120133803, 0.012210163948695714, 0.012201079108945854, 0.012196502801654213, 0.012195842574971258, 0.012194682176312059, 0.01219053910642774, 0.012188611967411426, 0.012180233603386034, 0.012179145785294028, 0.012178152201953365, 0.01217516042200605, 0.012171650624790005, 0.01216933756179214, 0.012166417010756806, 0.012164356234526295, 0.01216366723756614, 0.01216240317205897, 0.012158719203226045, 0.01215741162840415, 0.012157884232374879, 0.012154003057616016, 0.012151609630233064, 0.01214834696295349, 0.01214071097780516, 0.012139702497081177, 0.012130319912197688, 0.01210317463129653, 0.024768225503376852, 0.024986698781879972, 0.025667791666074358, 0.02563966903215056, 0.028995643210245812, 0.04906929578721255, 0.01565137109643958, 0.0186670308684304, 0.018005757149301596, 0.023808853316045174, 0.02594053067489214, 0.04430131190515289, 0.027859602120133803, 0.026307016682260556, 0.023790634269628616, 0.01796419305007077, 0.04072744560933241, 0.019978116647390395, 0.033612223015447626, 0.022662551057676263, 0.011973777650396153, 0.011972914852876064, 0.011968989238340692, 0.01196763102467379, 0.011964933519064951, 0.011962195375268728, 0.011962129140072147, 0.011957494071242102, 0.011957606611932934, 0.011956438716579476, 0.011952768759612143, 0.011951264227495172, 0.011943390680096028, 0.011942541667937057, 0.011942099972900603, 0.01193788811199945, 0.011935067361780072, 0.011932656168445055, 0.011931523269096165, 0.011930983778104405, 0.011928608108378463, 0.011927860111965994, 0.011926950983336295, 0.011919140624666678, 0.01191569748359135, 0.011912257831121513, 0.011901974508493313, 0.011880554050687967, 0.025582103889717503, 0.014751613689902323, 0.040118007091337594, 0.10141873739134968, 0.04906929578721255, 0.015440254585456684, 0.018296465556833466, 0.03571924981663819, 0.05165321919097288, 0.019446159826706676, 0.02545157187079538, 0.02748662840020181, 0.018005757149301596, 0.021510370288161378, 0.022140601514670767, 0.01030685540076888, 0.010306302951333909, 0.01030203853595065, 0.0103005617929912, 0.01029850156351629, 0.010292163373055394, 0.010291016512652162, 0.010289070473405552, 0.010281523405272058, 0.01028097813829039, 0.010280053091480406, 0.010277987723639385, 0.010276224473302925, 0.010274935476767761, 0.010269960953669052, 0.010261187902702853, 0.03386418035518242, 0.013062465134266392, 0.01662923331243899, 0.016634007087827824, 0.018043966306843028, 0.022140601514670767, 0.022662551057676263, 0.023790634269628616, 0.023808853316045174, 0.024042120214592858, 0.025141296581191436, 0.02594053067489214, 0.027584175716904004, 0.033650442606179866, 0.10141873739134968, 0.04430131190515289, 0.037777524255961085, 0.05165321919097288, 0.06521957927242922, 0.038634212931973395, 0.06316075550962923, 0.03372606353750841, 0.009621838336804099, 0.00961263735648411, 0.009609861396608391, 0.009609765637876213, 0.009606783699715231, 0.009606213255319353, 0.009601974551856489, 0.009600852383557644, 0.009599945636837585, 0.00959326110809484, 0.009592395528636935, 0.00959141562529112, 0.00959096989321815, 0.009590918124837835, 0.009585428019339488, 0.009577336656202048, 0.009576474233189873, 0.009567120076051457, 0.00955460088218497, 0.02686850935157076, 0.01536639369320358, 0.015440254585456684, 0.01565137109643958, 0.023201665748432982, 0.023584667684644536, 0.028995643210245812, 0.03112724376316586, 0.03340378578676753, 0.03859436543287295, 0.05165321919097288, 0.06316075550962923, 0.008930695563255545, 0.008925374373088296, 0.008924474849037004, 0.008924273349159406, 0.00891522144799022, 0.008911656151313119, 0.008899713956401004, 0.008894269400720049, 0.00888193243960104, 0.013062465134266392, 0.014751613689902323, 0.015454034724364376, 0.01637172459315817, 0.018438467259574216, 0.018498172290982006, 0.0214179132290242, 0.023035509744601793, 0.023561189509099353, 0.02417427476810591, 0.025933105469120202, 0.02748662840020181, 0.027859602120133803, 0.006133292300360066, 0.006133292300360066, 0.006133292300360066, 0.006133292300360066, 0.006133292300360066, 0.006133292300360066, 0.006133292300360066, 0.006133292300360066, 0.09372374388427543, 0.10141873739134968, 0.06521957927242922, 0.06475483350335999, 0.06316075550962923, 0.028995643210245812, 0.04430131190515289, 0.02780303975924889], \"Category\": [\"Default\", \"Default\", \"Default\", \"Default\", \"Default\", \"Default\", \"Default\", \"Default\", \"Default\", \"Default\", \"Default\", \"Default\", \"Default\", \"Default\", \"Default\", \"Default\", \"Default\", \"Default\", \"Default\", \"Default\", \"Default\", \"Default\", \"Default\", \"Default\", \"Default\", \"Default\", \"Default\", \"Default\", \"Default\", \"Default\", \"Topic1\", \"Topic1\", \"Topic1\", \"Topic1\", \"Topic1\", \"Topic1\", \"Topic1\", \"Topic1\", \"Topic1\", \"Topic1\", \"Topic1\", \"Topic1\", \"Topic1\", \"Topic1\", \"Topic1\", \"Topic1\", \"Topic1\", \"Topic1\", \"Topic1\", \"Topic1\", \"Topic1\", \"Topic1\", \"Topic1\", \"Topic1\", \"Topic1\", \"Topic1\", \"Topic1\", \"Topic1\", \"Topic1\", \"Topic1\", \"Topic1\", \"Topic1\", \"Topic1\", \"Topic1\", \"Topic1\", \"Topic1\", \"Topic1\", \"Topic1\", \"Topic1\", \"Topic1\", \"Topic2\", \"Topic2\", \"Topic2\", \"Topic2\", \"Topic2\", \"Topic2\", \"Topic2\", \"Topic2\", \"Topic2\", \"Topic2\", \"Topic2\", \"Topic2\", \"Topic2\", \"Topic2\", \"Topic2\", \"Topic2\", \"Topic2\", \"Topic2\", \"Topic2\", \"Topic2\", \"Topic2\", \"Topic2\", \"Topic2\", \"Topic2\", \"Topic2\", \"Topic2\", \"Topic2\", \"Topic2\", \"Topic2\", \"Topic2\", \"Topic2\", \"Topic2\", \"Topic2\", \"Topic2\", \"Topic2\", \"Topic2\", \"Topic2\", \"Topic2\", \"Topic2\", \"Topic2\", \"Topic2\", \"Topic2\", \"Topic2\", \"Topic2\", \"Topic2\", \"Topic2\", \"Topic2\", \"Topic2\", \"Topic2\", \"Topic3\", \"Topic3\", \"Topic3\", \"Topic3\", \"Topic3\", \"Topic3\", \"Topic3\", \"Topic3\", \"Topic3\", \"Topic3\", \"Topic3\", \"Topic3\", \"Topic3\", \"Topic3\", \"Topic3\", \"Topic3\", \"Topic3\", \"Topic3\", \"Topic3\", \"Topic3\", \"Topic3\", \"Topic3\", \"Topic3\", \"Topic3\", \"Topic3\", \"Topic3\", \"Topic3\", \"Topic3\", \"Topic3\", \"Topic3\", \"Topic3\", \"Topic3\", \"Topic3\", \"Topic3\", \"Topic3\", \"Topic3\", \"Topic3\", \"Topic3\", \"Topic3\", \"Topic3\", \"Topic3\", \"Topic3\", \"Topic3\", \"Topic4\", \"Topic4\", \"Topic4\", \"Topic4\", \"Topic4\", \"Topic4\", \"Topic4\", \"Topic4\", \"Topic4\", \"Topic4\", \"Topic4\", \"Topic4\", \"Topic4\", \"Topic4\", \"Topic4\", \"Topic4\", \"Topic4\", \"Topic4\", \"Topic4\", \"Topic4\", \"Topic4\", \"Topic4\", \"Topic4\", \"Topic4\", \"Topic4\", \"Topic4\", \"Topic4\", \"Topic4\", \"Topic4\", \"Topic4\", \"Topic4\", \"Topic4\", \"Topic4\", \"Topic4\", \"Topic4\", \"Topic4\", \"Topic4\", \"Topic4\", \"Topic4\", \"Topic4\", \"Topic4\", \"Topic4\", \"Topic4\", \"Topic4\", \"Topic5\", \"Topic5\", \"Topic5\", \"Topic5\", \"Topic5\", \"Topic5\", \"Topic5\", \"Topic5\", \"Topic5\", \"Topic5\", \"Topic5\", \"Topic5\", \"Topic5\", \"Topic5\", \"Topic5\", \"Topic5\", \"Topic5\", \"Topic5\", \"Topic5\", \"Topic5\", \"Topic5\", \"Topic5\", \"Topic5\", \"Topic5\", \"Topic5\", \"Topic5\", \"Topic5\", \"Topic5\", \"Topic5\", \"Topic5\", \"Topic5\", \"Topic5\", \"Topic5\", \"Topic5\", \"Topic5\", \"Topic5\", \"Topic5\", \"Topic5\", \"Topic5\", \"Topic5\", \"Topic5\", \"Topic5\", \"Topic6\", \"Topic6\", \"Topic6\", \"Topic6\", \"Topic6\", \"Topic6\", \"Topic6\", \"Topic6\", \"Topic6\", \"Topic6\", \"Topic6\", \"Topic6\", \"Topic6\", \"Topic6\", \"Topic6\", \"Topic6\", \"Topic6\", \"Topic6\", \"Topic6\", \"Topic6\", \"Topic6\", \"Topic6\", \"Topic6\", \"Topic6\", \"Topic6\", \"Topic6\", \"Topic6\", \"Topic6\", \"Topic6\", \"Topic6\", \"Topic6\", \"Topic6\", \"Topic6\", \"Topic6\", \"Topic6\", \"Topic6\", \"Topic6\", \"Topic6\", \"Topic6\", \"Topic6\", \"Topic6\", \"Topic6\", \"Topic6\", \"Topic6\", \"Topic6\", \"Topic6\", \"Topic6\", \"Topic7\", \"Topic7\", \"Topic7\", \"Topic7\", \"Topic7\", \"Topic7\", \"Topic7\", \"Topic7\", \"Topic7\", \"Topic7\", \"Topic7\", \"Topic7\", \"Topic7\", \"Topic7\", \"Topic7\", \"Topic7\", \"Topic7\", \"Topic7\", \"Topic7\", \"Topic7\", \"Topic7\", \"Topic7\", \"Topic7\", \"Topic7\", \"Topic7\", \"Topic7\", \"Topic7\", \"Topic7\", \"Topic7\", \"Topic7\", \"Topic7\", \"Topic7\", \"Topic7\", \"Topic7\", \"Topic7\", \"Topic7\", \"Topic7\", \"Topic7\", \"Topic7\", \"Topic7\", \"Topic7\", \"Topic7\", \"Topic7\", \"Topic8\", \"Topic8\", \"Topic8\", \"Topic8\", \"Topic8\", \"Topic8\", \"Topic8\", \"Topic8\", \"Topic8\", \"Topic8\", \"Topic8\", \"Topic8\", \"Topic8\", \"Topic8\", \"Topic8\", \"Topic8\", \"Topic8\", \"Topic8\", \"Topic8\", \"Topic8\", \"Topic8\", \"Topic8\", \"Topic8\", \"Topic8\", \"Topic8\", \"Topic8\", \"Topic8\", \"Topic8\", \"Topic8\", \"Topic8\", \"Topic8\", \"Topic8\", \"Topic8\", \"Topic8\", \"Topic8\", \"Topic8\", \"Topic8\", \"Topic8\", \"Topic9\", \"Topic9\", \"Topic9\", \"Topic9\", \"Topic9\", \"Topic9\", \"Topic9\", \"Topic9\", \"Topic9\", \"Topic9\", \"Topic9\", \"Topic9\", \"Topic9\", \"Topic9\", \"Topic9\", \"Topic9\", \"Topic9\", \"Topic9\", \"Topic9\", \"Topic9\", \"Topic9\", \"Topic9\", \"Topic9\", \"Topic9\", \"Topic9\", \"Topic9\", \"Topic9\", \"Topic9\", \"Topic9\", \"Topic9\", \"Topic9\", \"Topic10\", \"Topic10\", \"Topic10\", \"Topic10\", \"Topic10\", \"Topic10\", \"Topic10\", \"Topic10\", \"Topic10\", \"Topic10\", \"Topic10\", \"Topic10\", \"Topic10\", \"Topic10\", \"Topic10\", \"Topic10\", \"Topic10\", \"Topic10\", \"Topic10\", \"Topic10\", \"Topic10\", \"Topic10\", \"Topic10\", \"Topic10\", \"Topic10\", \"Topic10\", \"Topic10\", \"Topic10\", \"Topic10\", \"Topic10\", \"Topic10\", \"Topic10\", \"Topic10\", \"Topic10\", \"Topic10\", \"Topic10\", \"Topic10\", \"Topic10\"], \"logprob\": [30.0, 29.0, 28.0, 27.0, 26.0, 25.0, 24.0, 23.0, 22.0, 21.0, 20.0, 19.0, 18.0, 17.0, 16.0, 15.0, 14.0, 13.0, 12.0, 11.0, 10.0, 9.0, 8.0, 7.0, 6.0, 5.0, 4.0, 3.0, 2.0, 1.0, -8.5155, -8.5157, -8.5174, -8.5189, -8.5226, -8.134, -8.1271, -8.1352, -9.159, -9.1609, -9.1611, -9.1612, -9.1617, -9.162, -9.1621, -9.1622, -9.1624, -9.1624, -9.1627, -9.1629, -9.163, -9.1635, -9.1645, -9.1647, -9.1648, -9.1648, -9.1649, -9.1649, -9.1651, -9.1653, -8.5178, -8.5218, -8.5213, -8.5164, -8.5181, -9.1625, -9.1608, -9.1611, -9.1624, -9.1628, -8.5184, -8.1251, -9.1597, -9.1598, -9.1617, -9.162, -9.1626, -9.1636, -9.1636, -9.1639, -9.164, -9.164, -9.1643, -9.1644, -9.1646, -9.1649, -9.165, -9.1651, -9.1651, -9.1656, -9.1661, -9.1662, -9.1663, -9.1664, -9.1669, -9.1677, -9.1678, -9.1682, -9.1687, -9.1687, -8.1258, -7.6326, -8.1299, -8.5147, -8.5178, -9.1598, -9.1621, -9.1622, -9.1606, -9.1589, -9.161, -9.1622, -9.1627, -9.1627, -9.1628, -9.1634, -9.1634, -9.1634, -9.1634, -8.5159, -8.5225, -8.5357, -8.5224, -9.1605, -9.1616, -9.1624, -9.1625, -9.1629, -9.1631, -9.1631, -9.1633, -9.1633, -9.1655, -9.1658, -9.1661, -9.1666, -9.1669, -9.1677, -9.1681, -9.1683, -9.1689, -9.1715, -7.3891, -8.5214, -8.5145, -9.1639, -8.4556, -7.8482, -9.1603, -8.516, -8.5142, -8.9958, -9.1613, -9.1621, -9.1623, -9.1603, -9.1604, -9.1619, -9.1625, -9.1628, -9.163, -9.1633, -9.157, -9.157, -9.1586, -9.1589, -9.1593, -9.16, -9.1615, -9.1619, -9.1627, -9.1631, -9.1638, -9.1654, -9.166, -9.1663, -9.1669, -8.1251, -9.2969, -9.3015, -9.3031, -9.3114, -9.316, -9.3169, -9.3336, -9.1632, -8.1255, -7.5096, -9.1645, -9.1657, -9.1744, -9.1601, -8.5172, -8.5173, -8.5161, -8.5172, -9.1583, -9.1619, -9.1611, -9.1637, -9.1578, -9.1602, -9.1591, -9.1633, -9.1634, -9.1637, -9.1557, -9.1566, -9.1571, -9.1578, -9.1583, -9.1587, -9.1599, -9.16, -9.1602, -9.1604, -9.1606, -9.1609, -9.161, -9.1611, -9.1622, -9.1625, -9.1634, -9.1641, -9.1648, -9.1649, -9.1657, -9.167, -8.513, -9.1612, -9.163, -8.1253, -9.1631, -9.1619, -9.1624, -9.1645, -8.518, -8.5154, -8.1315, -8.1271, -8.5213, -9.1598, -9.1599, -9.1595, -9.1595, -9.1597, -9.162, -9.1621, -9.157, -9.1583, -9.159, -9.1591, -9.1593, -9.1599, -9.1602, -9.1614, -9.1616, -9.1618, -9.1622, -9.1627, -9.1631, -9.1635, -9.1638, -9.164, -9.1641, -9.1647, -9.1649, -9.1649, -9.1654, -9.1658, -9.1663, -9.1674, -9.1676, -9.169, -9.1731, -8.5161, -8.5131, -8.518, -8.5202, -8.5241, -8.5145, -9.1611, -9.1592, -9.1599, -9.1572, -9.1586, -9.1598, -9.1601, -9.1603, -9.1608, -9.1612, -9.1614, -9.1616, -9.1619, -9.1621, -9.1571, -9.1572, -9.1579, -9.1581, -9.1585, -9.1589, -9.1589, -9.1596, -9.1596, -9.1598, -9.1604, -9.1606, -9.1618, -9.162, -9.1621, -9.1628, -9.1632, -9.1635, -9.1637, -9.1638, -9.1642, -9.1643, -9.1644, -9.1657, -9.1662, -9.1667, -9.1684, -9.1718, -8.512, -9.1582, -8.5119, -8.1252, -8.5129, -9.1583, -9.1604, -9.1546, -9.1563, -9.1598, -9.1599, -9.1603, -9.1611, -9.1612, -9.1616, -9.1554, -9.1555, -9.1564, -9.1568, -9.1572, -9.1586, -9.1589, -9.1593, -9.1609, -9.1611, -9.1612, -9.1617, -9.1621, -9.1624, -9.1635, -9.1654, -8.1257, -9.1576, -9.1602, -9.1619, -9.169, -9.1574, -9.1601, -9.1625, -9.1627, -9.1662, -9.16, -9.1564, -9.1682, -9.1559, -8.5114, -9.1573, -9.1599, -9.1595, -9.1596, -9.1604, -9.1605, -9.1623, -9.1518, -9.1542, -9.1549, -9.155, -9.1557, -9.1559, -9.157, -9.1573, -9.1575, -9.1593, -9.1595, -9.1598, -9.1599, -9.1599, -9.1613, -9.1635, -9.1637, -9.1662, -9.1697, -8.5131, -9.1586, -9.1556, -9.157, -9.1566, -9.1614, -9.1606, -9.1583, -9.1671, -9.1621, -9.1577, -9.1668, -9.1532, -9.1549, -9.1552, -9.1553, -9.1582, -9.1594, -9.1633, -9.1653, -9.1693, -9.1635, -9.1573, -9.1626, -9.1595, -9.1561, -9.1571, -9.1601, -9.1558, -9.1594, -9.1619, -9.1598, -9.1569, -9.1619, -11.5353, -11.5353, -11.5353, -11.5353, -11.5353, -11.5353, -11.5353, -11.5353, -9.163, -9.1616, -11.5347, -11.5349, -11.5349, -11.5349, -11.535, -11.535], \"loglift\": [30.0, 29.0, 28.0, 27.0, 26.0, 25.0, 24.0, 23.0, 22.0, 21.0, 20.0, 19.0, 18.0, 17.0, 16.0, 15.0, 14.0, 13.0, 12.0, 11.0, 10.0, 9.0, 8.0, 7.0, 6.0, 5.0, 4.0, 3.0, 2.0, 1.0, 1.6065, 1.6065, 1.6061, 1.6058, 1.6051, 1.5125, 1.5029, 1.4781, 1.4377, 1.437, 1.437, 1.4369, 1.4368, 1.4367, 1.4366, 1.4366, 1.4365, 1.4365, 1.4364, 1.4364, 1.4363, 1.4362, 1.4358, 1.4358, 1.4358, 1.4357, 1.4357, 1.4357, 1.4357, 1.4356, 1.382, 1.2729, 0.9479, 0.9438, 0.8908, 1.2733, 0.5008, 0.6167, 0.7597, 1.0962, 1.7578, 1.7101, 1.5581, 1.558, 1.5573, 1.5572, 1.5569, 1.5566, 1.5565, 1.5565, 1.5564, 1.5564, 1.5563, 1.5563, 1.5562, 1.5561, 1.556, 1.556, 1.556, 1.5558, 1.5556, 1.5555, 1.5555, 1.5555, 1.5553, 1.555, 1.555, 1.5548, 1.5546, 1.5546, 1.3434, 1.1016, 1.053, 1.0478, 0.9789, 1.1307, 1.2985, 1.1967, 1.0362, 0.6722, 1.0072, 1.0471, 0.6151, 0.6821, 0.5366, 1.1816, 0.5004, 1.1289, 0.9218, 1.7888, 1.787, 1.6581, 1.6065, 1.5813, 1.5809, 1.5806, 1.5805, 1.5804, 1.5803, 1.5803, 1.5802, 1.5802, 1.5794, 1.5793, 1.5791, 1.5789, 1.5788, 1.5785, 1.5783, 1.5783, 1.578, 1.577, 1.424, 1.4131, 1.4009, 1.3941, 1.3829, 1.3275, 1.2256, 0.6918, 0.22, 0.7035, 1.2141, 1.1978, 1.1858, 0.3036, 0.9022, 1.0309, 0.9542, 0.9454, 0.9463, 1.0209, 1.6525, 1.6525, 1.6518, 1.6516, 1.6515, 1.6512, 1.6505, 1.6503, 1.65, 1.6498, 1.6495, 1.6489, 1.6486, 1.6484, 1.6482, 1.5966, 1.5047, 1.5011, 1.4987, 1.4927, 1.4884, 1.483, 1.4669, 1.4524, 1.3385, 1.3035, 1.2726, 1.2714, 1.2523, 1.2458, 1.1831, 1.1551, 1.092, 0.6657, 1.1897, 1.1725, 1.092, 1.0887, 0.9275, 0.9797, 0.2498, 0.5005, 0.752, 0.8626, 1.6697, 1.6693, 1.6691, 1.6688, 1.6686, 1.6684, 1.6679, 1.6678, 1.6678, 1.6677, 1.6676, 1.6674, 1.6674, 1.6674, 1.6668, 1.6667, 1.6663, 1.6661, 1.6657, 1.6657, 1.6653, 1.6648, 1.5268, 1.3808, 1.3793, 1.3715, 1.2837, 1.2439, 1.1975, 1.1811, 1.1544, 1.1462, 1.0763, 1.0486, 0.6616, 1.0992, 1.0996, 0.9803, 1.0569, 0.6778, 0.798, 0.8642, 1.6942, 1.6936, 1.6933, 1.6933, 1.6932, 1.6929, 1.6928, 1.6922, 1.6921, 1.6921, 1.6918, 1.6916, 1.6915, 1.6912, 1.6911, 1.691, 1.691, 1.6907, 1.6907, 1.6906, 1.6904, 1.6902, 1.69, 1.6895, 1.6894, 1.6888, 1.6869, 1.6278, 1.6221, 1.5902, 1.5892, 1.4622, 0.9457, 1.4419, 1.2675, 1.3029, 1.0262, 0.9391, 0.4027, 0.8662, 0.9233, 1.0234, 1.3039, 0.4852, 1.1973, 0.6767, 1.0706, 1.7136, 1.7136, 1.7133, 1.7132, 1.713, 1.7128, 1.7128, 1.7125, 1.7125, 1.7124, 1.7121, 1.712, 1.7114, 1.7114, 1.7113, 1.711, 1.7108, 1.7107, 1.7106, 1.7105, 1.7104, 1.7103, 1.7102, 1.7096, 1.7094, 1.7092, 1.7084, 1.7068, 1.5996, 1.5039, 1.1497, 0.609, 0.9473, 1.4582, 1.2864, 0.6232, 0.2526, 1.226, 0.9568, 0.8794, 1.3017, 1.1237, 1.0944, 1.8653, 1.8652, 1.8647, 1.8645, 1.8643, 1.8635, 1.8634, 1.8631, 1.8622, 1.8621, 1.862, 1.8618, 1.8616, 1.8614, 1.8608, 1.8597, 1.7054, 1.6261, 1.3821, 1.3801, 1.2917, 1.0987, 1.0727, 1.0217, 1.0207, 1.0075, 0.969, 0.9413, 0.868, 0.6815, 0.2228, 0.4051, 0.5618, 0.2495, 0.0161, 0.5389, 0.0473, 0.6729, 1.9376, 1.9362, 1.9358, 1.9357, 1.9353, 1.9351, 1.9345, 1.9343, 1.9342, 1.9331, 1.933, 1.9328, 1.9328, 1.9327, 1.9319, 1.9306, 1.9305, 1.9289, 1.9268, 1.5495, 1.4627, 1.4609, 1.4459, 1.0527, 1.0315, 0.8258, 0.7571, 0.6777, 0.5383, 0.2512, 0.041, 2.0108, 2.0096, 2.0095, 2.0094, 2.0075, 2.0067, 2.0041, 2.0028, 2.0001, 1.6202, 1.5048, 1.453, 1.3984, 1.2829, 1.2787, 1.1291, 1.0606, 1.0345, 1.0062, 0.9382, 0.8828, 0.8644, 0.0044, 0.0044, 0.0044, 0.0044, 0.0044, 0.0044, 0.0044, 0.0044, -0.3499, -0.4274, -2.359, -2.3521, -2.3271, -1.5486, -1.9725, -1.5066]}, \"token.table\": {\"Topic\": [], \"Freq\": [], \"Term\": []}, \"R\": 30, \"lambda.step\": 0.01, \"plot.opts\": {\"xlab\": \"PC1\", \"ylab\": \"PC2\"}, \"topic.order\": [2, 3, 6, 1, 7, 9, 10, 5, 8, 4]};\n",
       "\n",
       "function LDAvis_load_lib(url, callback){\n",
       "  var s = document.createElement('script');\n",
       "  s.src = url;\n",
       "  s.async = true;\n",
       "  s.onreadystatechange = s.onload = callback;\n",
       "  s.onerror = function(){console.warn(\"failed to load library \" + url);};\n",
       "  document.getElementsByTagName(\"head\")[0].appendChild(s);\n",
       "}\n",
       "\n",
       "if(typeof(LDAvis) !== \"undefined\"){\n",
       "   // already loaded: just create the visualization\n",
       "   !function(LDAvis){\n",
       "       new LDAvis(\"#\" + \"ldavis_el1490023597510672321541839377\", ldavis_el1490023597510672321541839377_data);\n",
       "   }(LDAvis);\n",
       "}else if(typeof define === \"function\" && define.amd){\n",
       "   // require.js is available: use it to load d3/LDAvis\n",
       "   require.config({paths: {d3: \"https://d3js.org/d3.v5\"}});\n",
       "   require([\"d3\"], function(d3){\n",
       "      window.d3 = d3;\n",
       "      LDAvis_load_lib(\"https://cdn.jsdelivr.net/gh/bmabey/pyLDAvis@3.3.1/pyLDAvis/js/ldavis.v3.0.0.js\", function(){\n",
       "        new LDAvis(\"#\" + \"ldavis_el1490023597510672321541839377\", ldavis_el1490023597510672321541839377_data);\n",
       "      });\n",
       "    });\n",
       "}else{\n",
       "    // require.js not available: dynamically load d3 & LDAvis\n",
       "    LDAvis_load_lib(\"https://d3js.org/d3.v5.js\", function(){\n",
       "         LDAvis_load_lib(\"https://cdn.jsdelivr.net/gh/bmabey/pyLDAvis@3.3.1/pyLDAvis/js/ldavis.v3.0.0.js\", function(){\n",
       "                 new LDAvis(\"#\" + \"ldavis_el1490023597510672321541839377\", ldavis_el1490023597510672321541839377_data);\n",
       "            })\n",
       "         });\n",
       "}\n",
       "</script>"
      ],
      "text/plain": [
       "PreparedData(topic_coordinates=              x         y  topics  cluster       Freq\n",
       "topic                                                \n",
       "1     -0.002630  0.000113       1        1  15.972981\n",
       "2      0.000927  0.001715       2        1  13.001015\n",
       "5      0.000914 -0.001223       3        1  12.460366\n",
       "0      0.000377 -0.000049       4        1  10.937593\n",
       "6     -0.000011  0.000473       5        1  10.587749\n",
       "8      0.000186 -0.001080       6        1  10.074486\n",
       "9      0.000102  0.000399       7        1   9.684584\n",
       "4      0.000169 -0.000005       8        1   6.908678\n",
       "7     -0.000059 -0.000222       9        1   5.752461\n",
       "3      0.000025 -0.000121      10        1   4.620086, topic_info=         Term      Freq     Total Category  logprob  loglift\n",
       "18     servic  0.000000  0.000000  Default  30.0000  30.0000\n",
       "108      help  0.000000  0.000000  Default  29.0000  29.0000\n",
       "191     becki  0.000000  0.000000  Default  28.0000  28.0000\n",
       "295  download  0.000000  0.000000  Default  27.0000  27.0000\n",
       "13       send  0.000000  0.000000  Default  26.0000  26.0000\n",
       "..        ...       ...       ...      ...      ...      ...\n",
       "7      messag  0.000285  0.064755  Topic10 -11.5349  -2.3521\n",
       "14    account  0.000285  0.063161  Topic10 -11.5349  -2.3271\n",
       "137       jai  0.000285  0.028996  Topic10 -11.5349  -1.5486\n",
       "1        like  0.000285  0.044301  Topic10 -11.5350  -1.9725\n",
       "121       acm  0.000285  0.027803  Topic10 -11.5350  -1.5066\n",
       "\n",
       "[445 rows x 6 columns], token_table=Empty DataFrame\n",
       "Columns: [Topic, Freq, Term]\n",
       "Index: [], R=30, lambda_step=0.01, plot_opts={'xlab': 'PC1', 'ylab': 'PC2'}, topic_order=[2, 3, 6, 1, 7, 9, 10, 5, 8, 4])"
      ]
     },
     "execution_count": 50,
     "metadata": {},
     "output_type": "execute_result"
    }
   ],
   "source": [
    "pyLDAvis.enable_notebook()\n",
    "gensimvis.prepare(lda_model, corpus, dictionary)"
   ]
  },
  {
   "cell_type": "code",
   "execution_count": 51,
   "id": "e0ee692d",
   "metadata": {},
   "outputs": [
    {
     "data": {
      "text/plain": [
       "(927292, 6)"
      ]
     },
     "execution_count": 51,
     "metadata": {},
     "output_type": "execute_result"
    }
   ],
   "source": [
    "df.shape"
   ]
  },
  {
   "cell_type": "code",
   "execution_count": null,
   "id": "dac75066",
   "metadata": {},
   "outputs": [],
   "source": []
  }
 ],
 "metadata": {
  "kernelspec": {
   "display_name": "Python 3 (ipykernel)",
   "language": "python",
   "name": "python3"
  },
  "language_info": {
   "codemirror_mode": {
    "name": "ipython",
    "version": 3
   },
   "file_extension": ".py",
   "mimetype": "text/x-python",
   "name": "python",
   "nbconvert_exporter": "python",
   "pygments_lexer": "ipython3",
   "version": "3.8.5"
  }
 },
 "nbformat": 4,
 "nbformat_minor": 5
}
