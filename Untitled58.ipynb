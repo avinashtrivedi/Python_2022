{
 "cells": [
  {
   "cell_type": "code",
   "execution_count": 1,
   "id": "fd129db8",
   "metadata": {},
   "outputs": [],
   "source": [
    "def add_all(my_list):\n",
    "\n",
    "    sum = 0\n",
    "\n",
    "    for x in my_list:\n",
    "\n",
    "        sum += x*x\n",
    "\n",
    "    return sum"
   ]
  },
  {
   "cell_type": "code",
   "execution_count": 2,
   "id": "0d9041b9",
   "metadata": {},
   "outputs": [
    {
     "data": {
      "text/plain": [
       "75"
      ]
     },
     "execution_count": 2,
     "metadata": {},
     "output_type": "execute_result"
    }
   ],
   "source": [
    "my_list = [3,5,1,2,6]\n",
    "add_all(my_list)"
   ]
  },
  {
   "cell_type": "code",
   "execution_count": 3,
   "id": "3fbb0c14",
   "metadata": {},
   "outputs": [
    {
     "name": "stdout",
     "output_type": "stream",
     "text": [
      "75\n"
     ]
    }
   ],
   "source": [
    "square = lambda x: x**2\n",
    "my_list = [3,5,1,2,6]\n",
    "print(sum(list(map(square, my_list))))"
   ]
  },
  {
   "cell_type": "code",
   "execution_count": 4,
   "id": "e7414fb3",
   "metadata": {},
   "outputs": [],
   "source": [
    "class add_all:\n",
    "    def __init__(self):\n",
    "        self.sum = 0\n",
    "    \n",
    "    def total(self,my_list):\n",
    "        \n",
    "        for i in my_list:\n",
    "            self.sum = self.sum + i*i\n",
    "        return self.sum"
   ]
  },
  {
   "cell_type": "code",
   "execution_count": 5,
   "id": "330e1b7d",
   "metadata": {},
   "outputs": [],
   "source": [
    "obj = add_all()"
   ]
  },
  {
   "cell_type": "code",
   "execution_count": 6,
   "id": "67e1331c",
   "metadata": {},
   "outputs": [
    {
     "data": {
      "text/plain": [
       "75"
      ]
     },
     "execution_count": 6,
     "metadata": {},
     "output_type": "execute_result"
    }
   ],
   "source": [
    "obj.total(my_list)"
   ]
  },
  {
   "cell_type": "code",
   "execution_count": 7,
   "id": "ba1495b0",
   "metadata": {},
   "outputs": [],
   "source": [
    "class add_all:\n",
    "    def __init__(self):\n",
    "        self.sum = 0\n",
    "    \n",
    "    def total(self,my_list):\n",
    "        \n",
    "        for i in my_list:\n",
    "            self.sum = self.sum + i*i\n",
    "        return self.sum\n",
    "    def another_func(self):\n",
    "        print('New Function')\n",
    "        \n",
    "    def one_more(self):\n",
    "        print('One more new function')"
   ]
  },
  {
   "cell_type": "code",
   "execution_count": 8,
   "id": "126b1ed8",
   "metadata": {},
   "outputs": [],
   "source": [
    "from mylib import add_all"
   ]
  },
  {
   "cell_type": "code",
   "execution_count": 9,
   "id": "7699f079",
   "metadata": {},
   "outputs": [],
   "source": [
    "obj = add_all()"
   ]
  },
  {
   "cell_type": "code",
   "execution_count": 10,
   "id": "30522a24",
   "metadata": {},
   "outputs": [
    {
     "name": "stdout",
     "output_type": "stream",
     "text": [
      "New Function\n"
     ]
    }
   ],
   "source": [
    "obj.another_func()"
   ]
  },
  {
   "cell_type": "code",
   "execution_count": 11,
   "id": "a7d2fee2",
   "metadata": {},
   "outputs": [
    {
     "data": {
      "text/plain": [
       "50"
      ]
     },
     "execution_count": 11,
     "metadata": {},
     "output_type": "execute_result"
    }
   ],
   "source": [
    "obj.total([3,4,5])"
   ]
  },
  {
   "cell_type": "code",
   "execution_count": 12,
   "id": "bc269d10",
   "metadata": {},
   "outputs": [
    {
     "name": "stdout",
     "output_type": "stream",
     "text": [
      "One more new function\n"
     ]
    }
   ],
   "source": [
    "obj.one_more()"
   ]
  },
  {
   "cell_type": "code",
   "execution_count": 13,
   "id": "2d3bdd22",
   "metadata": {},
   "outputs": [],
   "source": [
    "# pip install pyinstaller"
   ]
  },
  {
   "cell_type": "code",
   "execution_count": 14,
   "id": "1fafc0d8",
   "metadata": {},
   "outputs": [],
   "source": [
    "# pyinstaller --onefile hello.py"
   ]
  },
  {
   "cell_type": "code",
   "execution_count": null,
   "id": "d37eb78f",
   "metadata": {},
   "outputs": [],
   "source": []
  },
  {
   "cell_type": "code",
   "execution_count": 15,
   "id": "1dc5356b",
   "metadata": {},
   "outputs": [],
   "source": [
    "a = 1"
   ]
  },
  {
   "cell_type": "code",
   "execution_count": 16,
   "id": "1146723f",
   "metadata": {},
   "outputs": [
    {
     "data": {
      "text/plain": [
       "1"
      ]
     },
     "execution_count": 16,
     "metadata": {},
     "output_type": "execute_result"
    }
   ],
   "source": [
    "a"
   ]
  },
  {
   "cell_type": "code",
   "execution_count": 17,
   "id": "d15fe333",
   "metadata": {},
   "outputs": [
    {
     "name": "stdout",
     "output_type": "stream",
     "text": [
      "Hello World\n"
     ]
    }
   ],
   "source": [
    "a = 1\n",
    "print('Hello World')"
   ]
  },
  {
   "cell_type": "code",
   "execution_count": 18,
   "id": "f6db58a9",
   "metadata": {},
   "outputs": [],
   "source": [
    "import numpy as np"
   ]
  },
  {
   "cell_type": "code",
   "execution_count": 19,
   "id": "b6072eb8",
   "metadata": {},
   "outputs": [
    {
     "data": {
      "text/plain": [
       "array([3, 5, 6])"
      ]
     },
     "execution_count": 19,
     "metadata": {},
     "output_type": "execute_result"
    }
   ],
   "source": [
    "np.array([3,5,6])"
   ]
  }
 ],
 "metadata": {
  "kernelspec": {
   "display_name": "Python 3 (ipykernel)",
   "language": "python",
   "name": "python3"
  },
  "language_info": {
   "codemirror_mode": {
    "name": "ipython",
    "version": 3
   },
   "file_extension": ".py",
   "mimetype": "text/x-python",
   "name": "python",
   "nbconvert_exporter": "python",
   "pygments_lexer": "ipython3",
   "version": "3.9.12"
  }
 },
 "nbformat": 4,
 "nbformat_minor": 5
}
