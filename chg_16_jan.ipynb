{
 "cells": [
  {
   "cell_type": "code",
   "execution_count": 1,
   "metadata": {},
   "outputs": [],
   "source": [
    "# define the class\n",
    "class Calculator:\n",
    "    \n",
    "    # define its constructor\n",
    "    def __init__(self,num1,num2):\n",
    "        self.num1 = num1\n",
    "        self.num2 = num2\n",
    "        \n",
    "    # define the functions\n",
    "    def sum(self):\n",
    "        \n",
    "        # compute sum\n",
    "        return self.num1 + self.num2\n",
    "    def subtract(self):\n",
    "        \n",
    "        # compute subtract\n",
    "        return self.num1 - self.num2\n",
    "    def divide(self):\n",
    "        \n",
    "        # division\n",
    "        return self.num1 / self.num2\n",
    "    def product(self):\n",
    "        \n",
    "        # multiplication\n",
    "        return self.num1 * self.num2"
   ]
  },
  {
   "cell_type": "code",
   "execution_count": 2,
   "metadata": {},
   "outputs": [],
   "source": [
    "# create class objects\n",
    "calc1 = Calculator(5,3)\n",
    "calc2 = Calculator(10,2)"
   ]
  },
  {
   "cell_type": "code",
   "execution_count": 3,
   "metadata": {},
   "outputs": [
    {
     "name": "stdout",
     "output_type": "stream",
     "text": [
      "8\n",
      "2\n",
      "15\n",
      "1.6666666666666667\n"
     ]
    }
   ],
   "source": [
    "print(calc1.sum())\n",
    "print(calc1.subtract())\n",
    "print(calc1.product())\n",
    "print(calc1.divide())"
   ]
  },
  {
   "cell_type": "code",
   "execution_count": 4,
   "metadata": {},
   "outputs": [
    {
     "name": "stdout",
     "output_type": "stream",
     "text": [
      "12\n",
      "8\n",
      "20\n",
      "5.0\n"
     ]
    }
   ],
   "source": [
    "print(calc2.sum())\n",
    "print(calc2.subtract())\n",
    "print(calc2.product())\n",
    "print(calc2.divide())"
   ]
  },
  {
   "cell_type": "code",
   "execution_count": 12,
   "metadata": {},
   "outputs": [],
   "source": [
    "class Calculator:\n",
    "    def __init__(num1,num2):\n",
    "        num1 = num1\n",
    "        num2 = num2\n",
    "    def sum(num1,num2):\n",
    "        return num1 + num2\n",
    "    \n",
    "    def mul(num1,num2):\n",
    "        return num1*num2\n",
    "    \n",
    "    def sub(num1,num2):\n",
    "        return num1 - num2"
   ]
  },
  {
   "cell_type": "code",
   "execution_count": 21,
   "metadata": {},
   "outputs": [],
   "source": [
    "a = Calculator"
   ]
  },
  {
   "cell_type": "code",
   "execution_count": 25,
   "metadata": {},
   "outputs": [
    {
     "data": {
      "text/plain": [
       "5"
      ]
     },
     "execution_count": 25,
     "metadata": {},
     "output_type": "execute_result"
    }
   ],
   "source": [
    "Calculator.sum(2,3)"
   ]
  },
  {
   "cell_type": "code",
   "execution_count": 26,
   "metadata": {},
   "outputs": [
    {
     "data": {
      "text/plain": [
       "3"
      ]
     },
     "execution_count": 26,
     "metadata": {},
     "output_type": "execute_result"
    }
   ],
   "source": [
    "Calculator.sub(5,2)"
   ]
  },
  {
   "cell_type": "code",
   "execution_count": 27,
   "metadata": {},
   "outputs": [
    {
     "data": {
      "text/plain": [
       "28"
      ]
     },
     "execution_count": 27,
     "metadata": {},
     "output_type": "execute_result"
    }
   ],
   "source": [
    "Calculator.mul(4,7)"
   ]
  },
  {
   "cell_type": "code",
   "execution_count": null,
   "metadata": {},
   "outputs": [],
   "source": []
  }
 ],
 "metadata": {
  "kernelspec": {
   "display_name": "Python 3 (ipykernel)",
   "language": "python",
   "name": "python3"
  },
  "language_info": {
   "codemirror_mode": {
    "name": "ipython",
    "version": 3
   },
   "file_extension": ".py",
   "mimetype": "text/x-python",
   "name": "python",
   "nbconvert_exporter": "python",
   "pygments_lexer": "ipython3",
   "version": "3.9.12"
  }
 },
 "nbformat": 4,
 "nbformat_minor": 4
}
