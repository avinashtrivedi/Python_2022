{
 "cells": [
  {
   "cell_type": "code",
   "execution_count": null,
   "id": "b8936384",
   "metadata": {},
   "outputs": [],
   "source": [
    "[\n",
    "    {\n",
    "        \"id\": \"dc97c376\",\n",
    "        \"name\": \"AWSEC2CIDRs_EUWest1\",\n",
    "        \"tsfTenantID\": \"dc8133f0\",\n",
    "        \"description\": \"AWSEC2CIDRs_EUWest1\",\n",
    "        \"cidrs\": [\n",
    "            {\n",
    "                \"id\": \"dc981811\",\n",
    "                \"name\": \"eu-west-1\",\n",
    "                \"networkID\": \"dc97c376\",\n",
    "                \"cidrBlock\": \"54.247.0.0/16\"\n",
    "            },\n",
    "            {\n",
    "                \"id\": \"dc985faa\",\n",
    "                \"name\": \"eu-west-1\",\n",
    "                \"networkID\": \"dc97c376\",\n",
    "                \"cidrBlock\": \"18.200.0.0/16\"\n",
    "            },\n",
    "            {\n",
    "                \"id\": \"dca30688\",\n",
    "                \"name\": \"eu-west-1\",\n",
    "                \"networkID\": \"dc97c376\",\n",
    "                \"cidrBlock\": \"46.137.0.0/17\"\n",
    "            }\n",
    "        ]\n",
    "    }\n",
    "]"
   ]
  }
 ],
 "metadata": {
  "kernelspec": {
   "display_name": "Python 3 (ipykernel)",
   "language": "python",
   "name": "python3"
  },
  "language_info": {
   "codemirror_mode": {
    "name": "ipython",
    "version": 3
   },
   "file_extension": ".py",
   "mimetype": "text/x-python",
   "name": "python",
   "nbconvert_exporter": "python",
   "pygments_lexer": "ipython3",
   "version": "3.8.5"
  }
 },
 "nbformat": 4,
 "nbformat_minor": 5
}
