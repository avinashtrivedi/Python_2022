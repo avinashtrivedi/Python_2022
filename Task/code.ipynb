{
 "cells": [
  {
   "cell_type": "code",
   "execution_count": 34,
   "id": "cd3e635e",
   "metadata": {},
   "outputs": [],
   "source": [
    "import os\n",
    "with open('input/Projects.txt') as fp:\n",
    "    data = fp.readlines()"
   ]
  },
  {
   "cell_type": "code",
   "execution_count": 35,
   "id": "b16d45e3",
   "metadata": {},
   "outputs": [],
   "source": [
    "data = [i.strip().split('=') for i in data]\n",
    "data = [[i[0][0],i[1].split(',')] for i in data]"
   ]
  },
  {
   "cell_type": "code",
   "execution_count": 3,
   "id": "24ce4ae6",
   "metadata": {},
   "outputs": [
    {
     "name": "stdout",
     "output_type": "stream",
     "text": [
      "Folders successfully created.\n"
     ]
    }
   ],
   "source": [
    "if os.path.isdir('Output'):\n",
    "    print('Output folder is already present')\n",
    "else:\n",
    "    try:\n",
    "        for fname,nums in data:\n",
    "            for num in nums:\n",
    "                os.makedirs(f'Output/{fname}_{num}/Loading')\n",
    "                os.makedirs(f'Output/{fname}_{num}/Tranformation')\n",
    "                os.makedirs(f'Output/{fname}_{num}/ValidationReports')\n",
    "                os.makedirs(f'Output/{fname}_{num}/Extraction/Logs')\n",
    "        print('Folders successfully created.')\n",
    "    except:\n",
    "        print('Some error occurred.')"
   ]
  },
  {
   "cell_type": "code",
   "execution_count": null,
   "id": "d5b5dc97",
   "metadata": {},
   "outputs": [],
   "source": []
  },
  {
   "cell_type": "code",
   "execution_count": 36,
   "id": "28e9d425",
   "metadata": {},
   "outputs": [
    {
     "name": "stdout",
     "output_type": "stream",
     "text": [
      "Output/E_984/Loading has been created\n",
      "Output/S_All/Extraction/Logs has been created\n"
     ]
    }
   ],
   "source": [
    "checkAndcreate('Output')\n",
    "for fname,nums in data:\n",
    "    for num in nums:\n",
    "        checkAndcreate(f'Output/{fname}_{num}')\n",
    "        checkAndcreate(f'Output/{fname}_{num}/Loading')\n",
    "        checkAndcreate(f'Output/{fname}_{num}/Tranformation')\n",
    "        checkAndcreate(f'Output/{fname}_{num}/ValidationReports')\n",
    "        checkAndcreate(f'Output/{fname}_{num}/Extraction')\n",
    "        checkAndcreate(f'Output/{fname}_{num}/Extraction/Logs')"
   ]
  },
  {
   "cell_type": "code",
   "execution_count": 33,
   "id": "6045efbb",
   "metadata": {},
   "outputs": [],
   "source": [
    "def checkAndcreate(name):\n",
    "    if os.path.exists(name):\n",
    "        return True\n",
    "    else:\n",
    "        os.mkdir(name)\n",
    "        print(name,'has been created')\n",
    "        return False"
   ]
  },
  {
   "cell_type": "code",
   "execution_count": null,
   "id": "b4e54ff9",
   "metadata": {},
   "outputs": [],
   "source": []
  }
 ],
 "metadata": {
  "kernelspec": {
   "display_name": "Python 3 (ipykernel)",
   "language": "python",
   "name": "python3"
  },
  "language_info": {
   "codemirror_mode": {
    "name": "ipython",
    "version": 3
   },
   "file_extension": ".py",
   "mimetype": "text/x-python",
   "name": "python",
   "nbconvert_exporter": "python",
   "pygments_lexer": "ipython3",
   "version": "3.8.5"
  }
 },
 "nbformat": 4,
 "nbformat_minor": 5
}
