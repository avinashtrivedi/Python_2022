{
 "cells": [
  {
   "cell_type": "code",
   "execution_count": 22,
   "id": "be73600b",
   "metadata": {},
   "outputs": [],
   "source": [
    "import os\n",
    "with open('input/Projects.txt') as fp:\n",
    "    data = fp.readlines()"
   ]
  },
  {
   "cell_type": "code",
   "execution_count": 23,
   "id": "3efb47c6",
   "metadata": {},
   "outputs": [],
   "source": [
    "data = [i.strip().split('=') for i in data]\n",
    "data = [[i[0][0],i[1].split(',')] for i in data]"
   ]
  },
  {
   "cell_type": "code",
   "execution_count": 3,
   "id": "9388c823",
   "metadata": {},
   "outputs": [
    {
     "name": "stdout",
     "output_type": "stream",
     "text": [
      "Folders successfully created.\n"
     ]
    }
   ],
   "source": [
    "if os.path.isdir('Output'):\n",
    "    print('Output folder is already present')\n",
    "else:\n",
    "    try:\n",
    "        for fname,nums in data:\n",
    "            for num in nums:\n",
    "                os.makedirs(f'Output/{fname}_{num}/Loading')\n",
    "                os.makedirs(f'Output/{fname}_{num}/Tranformation')\n",
    "                os.makedirs(f'Output/{fname}_{num}/ValidationReports')\n",
    "                os.makedirs(f'Output/{fname}_{num}/Extraction/Logs')\n",
    "        print('Folders successfully created.')\n",
    "    except:\n",
    "        print('Some error occurred.')"
   ]
  },
  {
   "cell_type": "code",
   "execution_count": null,
   "id": "4a424578",
   "metadata": {},
   "outputs": [],
   "source": []
  },
  {
   "cell_type": "code",
   "execution_count": 18,
   "id": "a1cdbb81",
   "metadata": {},
   "outputs": [
    {
     "name": "stdout",
     "output_type": "stream",
     "text": [
      "Output has been created\n"
     ]
    },
    {
     "data": {
      "text/plain": [
       "False"
      ]
     },
     "execution_count": 18,
     "metadata": {},
     "output_type": "execute_result"
    }
   ],
   "source": [
    "checkAndcreate('Output'):\n",
    "for fname,nums in data:\n",
    "    for num in nums:\n",
    "        checkAndcreate(f'Output/{fname}_{num}'):\n",
    "        checkAndcreate(f'Output/{fname}_{num}/Loading'):\n",
    "        checkAndcreate(f'Output/{fname}_{num}/Tranformation'):\n",
    "        checkAndcreate(f'Output/{fname}_{num}/ValidationReports'):\n",
    "        checkAndcreate(f'Output/{fname}_{num}/Extraction'):\n",
    "        checkAndcreate(f'Output/{fname}_{num}/Extraction/Logs'): "
   ]
  },
  {
   "cell_type": "code",
   "execution_count": 16,
   "id": "d29ecb89",
   "metadata": {},
   "outputs": [],
   "source": [
    "def checkAndcreate(name):\n",
    "    if os.path.exists(name):\n",
    "        return True\n",
    "    else:\n",
    "        os.mkdir(name)\n",
    "        print(name,'has been created')\n",
    "        return False"
   ]
  }
 ],
 "metadata": {
  "kernelspec": {
   "display_name": "Python 3 (ipykernel)",
   "language": "python",
   "name": "python3"
  },
  "language_info": {
   "codemirror_mode": {
    "name": "ipython",
    "version": 3
   },
   "file_extension": ".py",
   "mimetype": "text/x-python",
   "name": "python",
   "nbconvert_exporter": "python",
   "pygments_lexer": "ipython3",
   "version": "3.8.5"
  }
 },
 "nbformat": 4,
 "nbformat_minor": 5
}
