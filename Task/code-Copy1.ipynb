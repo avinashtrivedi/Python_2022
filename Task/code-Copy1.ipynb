{
 "cells": [
  {
   "cell_type": "code",
   "execution_count": 2,
   "id": "e02e2623",
   "metadata": {},
   "outputs": [
    {
     "name": "stdout",
     "output_type": "stream",
     "text": [
      "Output has been created\n",
      "E_984 has been created\n",
      "Loading has been created\n",
      "Tranformation has been created\n",
      "ValidationReports has been created\n",
      "Extraction has been created\n",
      "Logs has been created\n",
      "E_603 has been created\n",
      "Loading has been created\n",
      "Tranformation has been created\n",
      "ValidationReports has been created\n",
      "Extraction has been created\n",
      "Logs has been created\n",
      "S_All has been created\n",
      "Loading has been created\n",
      "Tranformation has been created\n",
      "ValidationReports has been created\n",
      "Extraction has been created\n",
      "Logs has been created\n",
      "S_223 has been created\n",
      "Loading has been created\n",
      "Tranformation has been created\n",
      "ValidationReports has been created\n",
      "Extraction has been created\n",
      "Logs has been created\n"
     ]
    }
   ],
   "source": [
    "def checkAndcreate(name):\n",
    "    if os.path.exists(name):\n",
    "        return True\n",
    "    else:\n",
    "        os.mkdir(name)\n",
    "        print(name.split('/')[-1],'has been created')\n",
    "        return False\n",
    "\n",
    "import os\n",
    "with open('input/Projects.txt') as fp:\n",
    "    data = fp.readlines()\n",
    "\n",
    "data = [i.strip().split('=') for i in data]\n",
    "data = [[i[0][0],i[1].split(',')] for i in data]\n",
    "\n",
    "checkAndcreate('Output')\n",
    "for fname,nums in data:\n",
    "    for num in nums:\n",
    "        checkAndcreate(f'Output/{fname}_{num}')\n",
    "        checkAndcreate(f'Output/{fname}_{num}/Loading')\n",
    "        checkAndcreate(f'Output/{fname}_{num}/Tranformation')\n",
    "        checkAndcreate(f'Output/{fname}_{num}/ValidationReports')\n",
    "        checkAndcreate(f'Output/{fname}_{num}/Extraction')\n",
    "        checkAndcreate(f'Output/{fname}_{num}/Extraction/Logs')"
   ]
  },
  {
   "cell_type": "code",
   "execution_count": null,
   "id": "61f32f54",
   "metadata": {},
   "outputs": [],
   "source": []
  }
 ],
 "metadata": {
  "kernelspec": {
   "display_name": "Python 3 (ipykernel)",
   "language": "python",
   "name": "python3"
  },
  "language_info": {
   "codemirror_mode": {
    "name": "ipython",
    "version": 3
   },
   "file_extension": ".py",
   "mimetype": "text/x-python",
   "name": "python",
   "nbconvert_exporter": "python",
   "pygments_lexer": "ipython3",
   "version": "3.8.5"
  }
 },
 "nbformat": 4,
 "nbformat_minor": 5
}
